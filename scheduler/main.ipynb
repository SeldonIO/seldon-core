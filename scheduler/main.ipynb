{
 "cells": [
  {
   "cell_type": "code",
   "execution_count": 2,
   "id": "b0ae4a92",
   "metadata": {},
   "outputs": [],
   "source": [
    "import mlserver\n",
    "from mlserver.types import InferenceRequest, InferenceResponse"
   ]
  },
  {
   "cell_type": "code",
   "execution_count": 3,
   "id": "2dc43e26",
   "metadata": {},
   "outputs": [],
   "source": [
    "import json\n",
    "\n",
    "inference_request = {\n",
    "    \"inputs\": [\n",
    "        {\n",
    "            \"name\": \"role\", \n",
    "            \"shape\": [2], \n",
    "            \"datatype\": \"BYTES\", \n",
    "            \"data\": [\"system\", \"user\"]\n",
    "        },\n",
    "        {\n",
    "            \"name\": \"content\",\n",
    "            \"shape\": [2],\n",
    "            \"datatype\": \"BYTES\",\n",
    "            \"data\": [\n",
    "                json.dumps([\"You are a helpful assistant\"]), \n",
    "                json.dumps([\"Hello from MLServer!\"]),\n",
    "            ],\n",
    "        },\n",
    "        {\n",
    "            \"name\": \"type\",\n",
    "            \"shape\": [2],\n",
    "            \"datatype\": \"BYTES\",\n",
    "            \"data\": [\n",
    "                json.dumps([\"text\"]), \n",
    "                json.dumps([\"text\"]),\n",
    "            ]\n",
    "        }\n",
    "    ]\n",
    "}"
   ]
  },
  {
   "cell_type": "code",
   "execution_count": 5,
   "id": "5cf434c6",
   "metadata": {},
   "outputs": [
    {
     "data": {
      "text/plain": [
       "{'inputs': [{'name': 'role',\n",
       "   'shape': [2],\n",
       "   'datatype': 'BYTES',\n",
       "   'data': ['system', 'user']},\n",
       "  {'name': 'content',\n",
       "   'shape': [2],\n",
       "   'datatype': 'BYTES',\n",
       "   'data': ['[\"You are a helpful assistant\"]', '[\"Hello from MLServer!\"]']},\n",
       "  {'name': 'type',\n",
       "   'shape': [2],\n",
       "   'datatype': 'BYTES',\n",
       "   'data': ['[\"text\"]', '[\"text\"]']}]}"
      ]
     },
     "execution_count": 5,
     "metadata": {},
     "output_type": "execute_result"
    }
   ],
   "source": [
    "inference_request"
   ]
  },
  {
   "cell_type": "code",
   "execution_count": null,
   "id": "5bed18e0",
   "metadata": {},
   "outputs": [],
   "source": []
  }
 ],
 "metadata": {
  "kernelspec": {
   "display_name": "mlserver",
   "language": "python",
   "name": "python3"
  },
  "language_info": {
   "codemirror_mode": {
    "name": "ipython",
    "version": 3
   },
   "file_extension": ".py",
   "mimetype": "text/x-python",
   "name": "python",
   "nbconvert_exporter": "python",
   "pygments_lexer": "ipython3",
   "version": "3.11.13"
  }
 },
 "nbformat": 4,
 "nbformat_minor": 5
}
