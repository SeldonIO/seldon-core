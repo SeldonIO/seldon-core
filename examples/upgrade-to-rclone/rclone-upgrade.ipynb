{
 "cells": [
  {
   "cell_type": "markdown",
   "id": "9afbc210-a1da-4a1a-8fdf-7621a8e9cf55",
   "metadata": {},
   "source": [
    "# Upgrade to rclone-based Storage Initializer - secret format intuition\n",
    "\n",
    "In this documentation page we provide an example upgrade path from kfserving-based to rclone-based storage initializer. This is required due to the fact that secret format expected by these two storage initializers is different. \n",
    "\n",
    "Storage initializers are used by Seldon's pre-packaged model servers to download models binaries. \n",
    "As it is explained in the [SC 1.8 upgrading notes](https://docs.seldon.io/projects/seldon-core/en/latest/reference/upgrading.html#upgrading-to-1-8) the [seldonio/rclone-storage-initializer](https://github.com/SeldonIO/seldon-core/tree/master/components/rclone-storage-initializer) became default storage initializer in v1.8.0. However, it is still possible to run with kfserving-based Storage Initializer as documented [here](https://docs.seldon.io/projects/seldon-core/en/latest/servers/kfserving-storage-initializer.html).\n",
    "\n",
    "In this tutorial we will show how to upgrade your configuration to new Storage Initializer with focus on getting the new format of a required secret right.\n",
    "\n",
    "Read more:\n",
    "- [Prepackaged Model Servers documentation page](https://docs.seldon.io/projects/seldon-core/en/latest/servers/overview.html)\n",
    "- [SC 1.8 upgrading notes](https://docs.seldon.io/projects/seldon-core/en/latest/reference/upgrading.html#upgrading-to-1-8)\n",
    "- [Example upgrade path to use rclone-based storage initializer globally](https://docs.seldon.io/projects/seldon-core/en/latest/examples/global-rclone-upgrade.html)\n",
    "\n",
    "## Prerequisites\n",
    "\n",
    " * A kubernetes cluster with kubectl configured\n",
    " * mc client\n",
    " * curl\n",
    "\n",
    "## Steps in this tutorial\n",
    "\n",
    " * Copy iris model from GCS into in-cluster minio and configure old-style storage initializer secret\n",
    " * Deploy SKlearn Pre-Packaged server using kfserving storage initializer\n",
    " * Discuss upgrading procedure and tips how to test new secret format\n",
    " * Deploy Pre-packaged model server using rclone storage initializer\n",
    " \n",
    "## Setup Seldon Core\n",
    "\n",
    "Use the setup notebook to [Setup Cluster](https://docs.seldon.io/projects/seldon-core/en/latest/examples/seldon_core_setup.html#Setup-Cluster) with [Ambassador Ingress](https://docs.seldon.io/projects/seldon-core/en/latest/examples/seldon_core_setup.html#Ambassador) and [Install Seldon Core](https://docs.seldon.io/projects/seldon-core/en/latest/examples/seldon_core_setup.html#Install-Seldon-Core). \n",
    "\n",
    "## Setup MinIO\n",
    "\n",
    "Use the provided [notebook](https://docs.seldon.io/projects/seldon-core/en/latest/examples/minio_setup.html) to install Minio in your cluster and configure `mc` CLI tool. "
   ]
  },
  {
   "cell_type": "markdown",
   "id": "9edd7a6a-b1c4-479b-8c68-44e401a80b72",
   "metadata": {},
   "source": [
    "## Copy iris model into local MinIO"
   ]
  },
  {
   "cell_type": "code",
   "execution_count": null,
   "id": "47326def-cf0e-430a-a1c7-ec8c7c0db3af",
   "metadata": {},
   "outputs": [],
   "source": [
    "%%bash\n",
    "mc config host add gcs https://storage.googleapis.com \"\" \"\" \n",
    "\n",
    "mc mb minio-seldon/sklearn/iris/ -p\n",
    "mc cp gcs/seldon-models/sklearn/iris/model.joblib minio-seldon/sklearn/iris/\n",
    "mc cp gcs/seldon-models/sklearn/iris/metadata.yaml minio-seldon/sklearn/iris/"
   ]
  },
  {
   "cell_type": "code",
   "execution_count": null,
   "id": "35f766b4-b999-441e-9e0b-508b75658319",
   "metadata": {},
   "outputs": [],
   "source": [
    "%%bash\n",
    "mc ls minio-seldon/sklearn/iris/"
   ]
  },
  {
   "cell_type": "markdown",
   "id": "de37bb1b-ad84-4e27-b44f-8ff76e66c809",
   "metadata": {},
   "source": [
    "## Deploy SKLearn Server with kfserving-storage-initializer"
   ]
  },
  {
   "cell_type": "markdown",
   "id": "69c0fc0e-2e1e-422b-bd85-e5d185ec55cc",
   "metadata": {},
   "source": [
    "First we deploy the model using kfserving-storage-initializer. This is using the default Storage Initializer for pre Seldon Core v1.8.0."
   ]
  },
  {
   "cell_type": "code",
   "execution_count": 1,
   "id": "6708f6c8-ce83-4d55-91ba-cfec75119116",
   "metadata": {},
   "outputs": [
    {
     "name": "stdout",
     "output_type": "stream",
     "text": [
      "Overwriting sklearn-iris-kfserving.yaml\n"
     ]
    }
   ],
   "source": [
    "%%writefile sklearn-iris-kfserving.yaml\n",
    "\n",
    "apiVersion: v1\n",
    "kind: Secret\n",
    "metadata:\n",
    "  name: seldon-kfserving-secret\n",
    "type: Opaque\n",
    "stringData:\n",
    "  AWS_ACCESS_KEY_ID: minioadmin\n",
    "  AWS_SECRET_ACCESS_KEY: minioadmin\n",
    "  AWS_ENDPOINT_URL: http://minio.minio-system.svc.cluster.local:9000\n",
    "  USE_SSL: \"false\"\n",
    "    \n",
    "---\n",
    "    \n",
    "apiVersion: machinelearning.seldon.io/v1\n",
    "kind: SeldonDeployment\n",
    "metadata:\n",
    "  name: sklearn-iris-kfserving\n",
    "spec:\n",
    "  predictors:\n",
    "  - name: default\n",
    "    replicas: 1\n",
    "    graph:\n",
    "      name: classifier\n",
    "      implementation: SKLEARN_SERVER\n",
    "      modelUri: s3://sklearn/iris\n",
    "      envSecretRefName: seldon-kfserving-secret\n",
    "      storageInitializerImage: gcr.io/kfserving/storage-initializer:v0.4.0"
   ]
  },
  {
   "cell_type": "code",
   "execution_count": 2,
   "id": "88c5df87-b486-4b7f-94a0-b986edee3ef1",
   "metadata": {},
   "outputs": [
    {
     "name": "stdout",
     "output_type": "stream",
     "text": [
      "secret/seldon-kfserving-secret configured\n",
      "seldondeployment.machinelearning.seldon.io/sklearn-iris-kfserving configured\n"
     ]
    }
   ],
   "source": [
    "!kubectl apply -f sklearn-iris-kfserving.yaml"
   ]
  },
  {
   "cell_type": "code",
   "execution_count": null,
   "id": "215fcce0-8214-46d9-8f1a-d43ca2487f6d",
   "metadata": {},
   "outputs": [],
   "source": [
    "!kubectl rollout status deploy/$(kubectl get deploy -l seldon-deployment-id=sklearn-iris-kfserving -o jsonpath='{.items[0].metadata.name}')"
   ]
  },
  {
   "cell_type": "code",
   "execution_count": null,
   "id": "10594821-f9e0-484a-81c7-260c0c637f22",
   "metadata": {},
   "outputs": [],
   "source": [
    "%%bash\n",
    "curl -s -X POST -H 'Content-Type: application/json' \\\n",
    "    -d '{\"data\":{\"ndarray\":[[5.964, 4.006, 2.081, 1.031]]}}' \\\n",
    "    http://localhost:8003/seldon/seldon/sklearn-iris-kfserving/api/v1.0/predictions  | jq ."
   ]
  },
  {
   "cell_type": "markdown",
   "id": "9682fa11-1fc7-45af-ac9b-ca4d8e68b106",
   "metadata": {},
   "source": [
    "## Preparing rclone-compatible secret"
   ]
  },
  {
   "cell_type": "markdown",
   "id": "d4fee738-81ad-4a26-9bfe-6157cc3171cb",
   "metadata": {},
   "source": [
    "The [rclone](https://rclone.org/)-based storage initializer expects one to define a new secret. General documentation credentials hadling can be found [here](https://docs.seldon.io/projects/seldon-core/en/latest/servers/overview.html#handling-credentials) with constantly updated examples of tested configurations.\n",
    "\n",
    "If we do not have yet an example for Cloud Storage solution that you are using, please, consult the relevant page on [RClone documentation](https://rclone.org/#providers)."
   ]
  },
  {
   "cell_type": "markdown",
   "id": "c7cd99cb-0263-4147-9828-3bbff94fe5d4",
   "metadata": {},
   "source": [
    "### Preparing seldon-rclone-secret\n",
    "\n",
    "Knowing format of required format of the secret we can create it now"
   ]
  },
  {
   "cell_type": "code",
   "execution_count": null,
   "id": "95795924-e0e3-466e-972b-0aca3fcf9563",
   "metadata": {},
   "outputs": [],
   "source": [
    "%%writefile seldon-rclone-secret.yaml\n",
    "apiVersion: v1\n",
    "kind: Secret\n",
    "metadata:\n",
    "  name: seldon-rclone-secret\n",
    "type: Opaque\n",
    "stringData:\n",
    "  RCLONE_CONFIG_S3_TYPE: s3\n",
    "  RCLONE_CONFIG_S3_PROVIDER: minio\n",
    "  RCLONE_CONFIG_S3_ENV_AUTH: \"false\"\n",
    "  RCLONE_CONFIG_S3_ACCESS_KEY_ID: minioadmin\n",
    "  RCLONE_CONFIG_S3_SECRET_ACCESS_KEY: minioadmin\n",
    "  RCLONE_CONFIG_S3_ENDPOINT: http://minio.minio-system.svc.cluster.local:9000"
   ]
  },
  {
   "cell_type": "code",
   "execution_count": null,
   "id": "167fae42-f1f4-403e-b351-d18a6e0dce91",
   "metadata": {},
   "outputs": [],
   "source": [
    "!kubectl apply -f seldon-rclone-secret.yaml"
   ]
  },
  {
   "cell_type": "markdown",
   "id": "235625ac-311a-4922-a969-006f4d6a3996",
   "metadata": {},
   "source": [
    "### Testing seldon-rclone-secret\n",
    "\n",
    "Before deploying SKLearn server one can test directly using the rclone-storage-initializer image"
   ]
  },
  {
   "cell_type": "code",
   "execution_count": null,
   "id": "52831bad-16c1-4431-a32e-b40d6e98a8a5",
   "metadata": {},
   "outputs": [],
   "source": [
    "%%writefile rclone-pod.yaml\n",
    "apiVersion: v1\n",
    "kind: Pod\n",
    "metadata:\n",
    "  name: rclone-pod\n",
    "spec:\n",
    "  containers:\n",
    "  - name: rclone\n",
    "    image: seldonio/rclone-storage-initializer:1.11.0-dev\n",
    "    command: [ \"/bin/sh\", \"-c\", \"--\", \"sleep 3600\"]\n",
    "    envFrom:\n",
    "    - secretRef:\n",
    "        name: seldon-rclone-secret"
   ]
  },
  {
   "cell_type": "code",
   "execution_count": null,
   "id": "49c19a4c-bba3-40f9-b01f-e895200f78fe",
   "metadata": {},
   "outputs": [],
   "source": [
    "!kubectl apply -f rclone-pod.yaml"
   ]
  },
  {
   "cell_type": "code",
   "execution_count": null,
   "id": "32b8befe-a158-4ed8-a47f-f5c693b1dd2e",
   "metadata": {},
   "outputs": [],
   "source": [
    "! kubectl exec -it rclone-pod -- rclone ls s3:sklearn"
   ]
  },
  {
   "cell_type": "code",
   "execution_count": null,
   "id": "ea8921f4-3a87-4a41-907a-48a700262b72",
   "metadata": {},
   "outputs": [],
   "source": [
    "! kubectl exec -it rclone-pod -- rclone copy s3:sklearn ."
   ]
  },
  {
   "cell_type": "code",
   "execution_count": null,
   "id": "de40b8cd-eef5-4497-883f-e7527c374cc5",
   "metadata": {},
   "outputs": [],
   "source": [
    "! kubectl exec -it rclone-pod -- sh -c \"ls iris/\""
   ]
  },
  {
   "cell_type": "markdown",
   "id": "f25144fc-4738-4eec-a046-389e939da3c9",
   "metadata": {},
   "source": [
    "Once we tested that secret format is correct we can delete the pod"
   ]
  },
  {
   "cell_type": "code",
   "execution_count": null,
   "id": "c34982e6-6c0e-434a-bdac-d14360002223",
   "metadata": {},
   "outputs": [],
   "source": [
    "!kubectl delete -f rclone-pod.yaml"
   ]
  },
  {
   "cell_type": "markdown",
   "id": "79e410a5-f71d-4427-92d4-ebc738882d74",
   "metadata": {},
   "source": [
    "## Deploy SKLearn Server with rclone-storage-initializer"
   ]
  },
  {
   "cell_type": "code",
   "execution_count": null,
   "id": "e9f86f4c-0990-4921-b8a0-e068338c52ae",
   "metadata": {},
   "outputs": [],
   "source": [
    "%%writefile sklearn-iris-rclone.yaml\n",
    "\n",
    "apiVersion: machinelearning.seldon.io/v1\n",
    "kind: SeldonDeployment\n",
    "metadata:\n",
    "  name: sklearn-iris-rclone\n",
    "spec:\n",
    "  predictors:\n",
    "  - name: default\n",
    "    replicas: 1\n",
    "    graph:\n",
    "      name: classifier\n",
    "      implementation: SKLEARN_SERVER\n",
    "      modelUri: s3://sklearn/iris\n",
    "      envSecretRefName: seldon-rclone-secret\n",
    "      storageInitializerImage: seldonio/rclone-storage-initializer:1.11.0-dev"
   ]
  },
  {
   "cell_type": "code",
   "execution_count": null,
   "id": "c973b1fd-d035-45e9-824a-6e0b5a432663",
   "metadata": {},
   "outputs": [],
   "source": [
    "!kubectl apply -f sklearn-iris-rclone.yaml"
   ]
  },
  {
   "cell_type": "code",
   "execution_count": null,
   "id": "1ccc43a1-0d58-4a1e-9e00-a224cfb2aa4c",
   "metadata": {},
   "outputs": [],
   "source": [
    "!kubectl rollout status deploy/$(kubectl get deploy -l seldon-deployment-id=sklearn-iris-rclone -o jsonpath='{.items[0].metadata.name}')"
   ]
  },
  {
   "cell_type": "code",
   "execution_count": null,
   "id": "a16dd4ee-5601-4846-ba41-ad9bae9b737e",
   "metadata": {},
   "outputs": [],
   "source": [
    "%%bash\n",
    "curl -s -X POST -H 'Content-Type: application/json' \\\n",
    "    -d '{\"data\":{\"ndarray\":[[5.964, 4.006, 2.081, 1.031]]}}' \\\n",
    "    http://localhost:8003/seldon/seldon/sklearn-iris-rclone/api/v1.0/predictions  | jq ."
   ]
  },
  {
   "cell_type": "markdown",
   "id": "30867d81-86d6-46c0-9f75-9a5e1a1458c7",
   "metadata": {},
   "source": [
    "## Cleanup"
   ]
  },
  {
   "cell_type": "code",
   "execution_count": null,
   "id": "4398005d-cf02-47a4-b4d2-62b9f4c15c47",
   "metadata": {},
   "outputs": [],
   "source": [
    "%%bash\n",
    "kubectl delete -f sklearn-iris-rclone.yaml\n",
    "kubectl delete -f sklearn-iris-kfserving.yaml"
   ]
  }
 ],
 "metadata": {
  "kernelspec": {
   "display_name": "Python 3",
   "language": "python",
   "name": "python3"
  },
  "language_info": {
   "codemirror_mode": {
    "name": "ipython",
    "version": 3
   },
   "file_extension": ".py",
   "mimetype": "text/x-python",
   "name": "python",
   "nbconvert_exporter": "python",
   "pygments_lexer": "ipython3",
   "version": "3.7.10"
  }
 },
 "nbformat": 4,
 "nbformat_minor": 5
}
