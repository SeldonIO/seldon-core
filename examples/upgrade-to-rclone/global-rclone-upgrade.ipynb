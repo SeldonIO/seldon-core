{
 "cells": [
  {
   "cell_type": "markdown",
   "id": "d3db373f-07dc-4d4c-8a6a-12c3616d9c95",
   "metadata": {},
   "source": [
    "# Upgrade to rclone-based Storage Initializer - automation for AWS S3 / MinIO configuration\n",
    "\n",
    "In this documentation page we provide an example upgrade path from kfserving-based to rclone-based storage initializer. This is required due to the fact that secret format expected by these two storage initializers is different. \n",
    "\n",
    "Storage initializers are used by Seldon's pre-packaged model servers to download models binaries. \n",
    "As it is explained in the [SC 1.8 upgrading notes](https://docs.seldon.io/projects/seldon-core/en/latest/reference/upgrading.html#upgrading-to-1-8) the [seldonio/rclone-storage-initializer](https://github.com/SeldonIO/seldon-core/tree/master/components/rclone-storage-initializer) became default storage initializer in v1.8.0. However, it is still possible to run with kfserving-based Storage Initializer as documented [here](https://docs.seldon.io/projects/seldon-core/en/latest/servers/kfserving-storage-initializer.html).\n",
    "\n",
    "In this tutorial we aim to provide an intuition of the steps you will have to carry to migrate to the new rclone-based Storage Initializer with the context that every cluster configuration will be different, so you should be able to see this as something you can build from.\n",
    "\n",
    "Read more:\n",
    "- [Prepackaged Model Servers documentation page](https://docs.seldon.io/projects/seldon-core/en/latest/servers/overview.html)\n",
    "- [SC 1.8 upgrading notes](https://docs.seldon.io/projects/seldon-core/en/latest/reference/upgrading.html#upgrading-to-1-8)\n",
    "- [Testing new storage initializer without global update](https://docs.seldon.io/projects/seldon-core/en/latest/examples/rclone-upgrade.html)\n",
    "\n",
    "## Prerequisites\n",
    "\n",
    " * A kubernetes cluster with kubectl configured\n",
    " * mc client\n",
    " * curl\n",
    "\n",
    "## Steps in this tutorial\n",
    " \n",
    " * Start with SC configured to use kfserving-based storage initializer\n",
    " * Copy iris model from GCS into in-cluster minio\n",
    " * Deploy SKlearn Pre-Packaged server using kfserving storage initializer\n",
    "     * Providing credentials using old-style storage initializer secret\n",
    "     * Providing credentials using old-style storage initializer Service Account format\n",
    " * Extend secrets to include rclone-specific fields (patch Seldon Deployments where required)\n",
    " * Upgrade SC installation to use rclone-based storage initializer\n",
    " \n",
    "## Setup Seldon Core\n",
    "\n",
    "Use the setup notebook to [Setup Cluster](https://docs.seldon.io/projects/seldon-core/en/latest/examples/seldon_core_setup.html#Setup-Cluster) with [Ambassador Ingress](https://docs.seldon.io/projects/seldon-core/en/latest/examples/seldon_core_setup.html#Ambassador) and [Install Seldon Core](https://docs.seldon.io/projects/seldon-core/en/latest/examples/seldon_core_setup.html#Install-Seldon-Core). "
   ]
  },
  {
   "cell_type": "markdown",
   "id": "823bf1ad-3e1d-4ff9-b088-79075f45a281",
   "metadata": {},
   "source": [
    "Set starting storage initializer to be kfserving one"
   ]
  },
  {
   "cell_type": "code",
   "execution_count": null,
   "id": "98aab7ce-71df-4b49-98a0-35ec5878a3e6",
   "metadata": {},
   "outputs": [],
   "source": [
    "%%bash\n",
    "helm upgrade seldon-core seldon-core-operator \\\n",
    "    --install \\\n",
    "    --repo https://storage.googleapis.com/seldon-charts \\\n",
    "    --version 1.9.1 \\\n",
    "    --namespace seldon-system \\\n",
    "    --set storageInitializer.image=\"gcr.io/kfserving/storage-initializer:v0.4.0\" \\\n",
    "    --reuse-values"
   ]
  },
  {
   "cell_type": "markdown",
   "id": "62a1cca8-41ac-468c-888d-3997a7cd801e",
   "metadata": {},
   "source": [
    "## Setup MinIO\n",
    "\n",
    "Use the provided [notebook](https://docs.seldon.io/projects/seldon-core/en/latest/examples/minio_setup.html) to install Minio in your cluster and configure `mc` CLI tool. "
   ]
  },
  {
   "cell_type": "markdown",
   "id": "9edd7a6a-b1c4-479b-8c68-44e401a80b72",
   "metadata": {},
   "source": [
    "## Copy iris model into local MinIO"
   ]
  },
  {
   "cell_type": "code",
   "execution_count": null,
   "id": "47326def-cf0e-430a-a1c7-ec8c7c0db3af",
   "metadata": {},
   "outputs": [],
   "source": [
    "%%bash\n",
    "mc config host add gcs https://storage.googleapis.com \"\" \"\" \n",
    "\n",
    "mc mb minio-seldon/sklearn/iris/ -p\n",
    "mc cp gcs/seldon-models/sklearn/iris/model.joblib minio-seldon/sklearn/iris/\n",
    "mc cp gcs/seldon-models/sklearn/iris/metadata.yaml minio-seldon/sklearn/iris/"
   ]
  },
  {
   "cell_type": "code",
   "execution_count": null,
   "id": "35f766b4-b999-441e-9e0b-508b75658319",
   "metadata": {},
   "outputs": [],
   "source": [
    "%%bash\n",
    "mc ls minio-seldon/sklearn/iris/"
   ]
  },
  {
   "cell_type": "markdown",
   "id": "de37bb1b-ad84-4e27-b44f-8ff76e66c809",
   "metadata": {},
   "source": [
    "## Deploy SKLearn Server with kfserving-storage-initializer"
   ]
  },
  {
   "cell_type": "markdown",
   "id": "69c0fc0e-2e1e-422b-bd85-e5d185ec55cc",
   "metadata": {},
   "source": [
    "First we deploy the model using kfserving-storage-initializer. This is using the default Storage Initializer for pre Seldon Core v1.8.0."
   ]
  },
  {
   "cell_type": "markdown",
   "id": "1c50f87f-0850-4fbd-97f5-6bdfc3208de6",
   "metadata": {},
   "source": [
    "## Using envSecretRefName"
   ]
  },
  {
   "cell_type": "code",
   "execution_count": null,
   "id": "6708f6c8-ce83-4d55-91ba-cfec75119116",
   "metadata": {},
   "outputs": [],
   "source": [
    "%%writefile sklearn-iris-secret.yaml\n",
    "\n",
    "apiVersion: v1\n",
    "kind: Secret\n",
    "metadata:\n",
    "  name: seldon-kfserving-secret\n",
    "type: Opaque\n",
    "stringData:\n",
    "  AWS_ACCESS_KEY_ID: minioadmin\n",
    "  AWS_SECRET_ACCESS_KEY: minioadmin\n",
    "  AWS_ENDPOINT_URL: http://minio.minio-system.svc.cluster.local:9000\n",
    "  USE_SSL: \"false\"\n",
    "    \n",
    "---\n",
    "    \n",
    "apiVersion: machinelearning.seldon.io/v1\n",
    "kind: SeldonDeployment\n",
    "metadata:\n",
    "  name: sklearn-iris-secret\n",
    "spec:\n",
    "  predictors:\n",
    "  - name: default\n",
    "    replicas: 1\n",
    "    graph:\n",
    "      name: classifier\n",
    "      implementation: SKLEARN_SERVER\n",
    "      modelUri: s3://sklearn/iris\n",
    "      envSecretRefName: seldon-kfserving-secret"
   ]
  },
  {
   "cell_type": "code",
   "execution_count": null,
   "id": "88c5df87-b486-4b7f-94a0-b986edee3ef1",
   "metadata": {},
   "outputs": [],
   "source": [
    "!kubectl apply -f sklearn-iris-secret.yaml"
   ]
  },
  {
   "cell_type": "code",
   "execution_count": null,
   "id": "215fcce0-8214-46d9-8f1a-d43ca2487f6d",
   "metadata": {},
   "outputs": [],
   "source": [
    "!kubectl rollout status deploy/$(kubectl get deploy -l seldon-deployment-id=sklearn-iris-secret -o jsonpath='{.items[0].metadata.name}')"
   ]
  },
  {
   "cell_type": "code",
   "execution_count": null,
   "id": "10594821-f9e0-484a-81c7-260c0c637f22",
   "metadata": {},
   "outputs": [],
   "source": [
    "%%bash\n",
    "curl -s -X POST -H 'Content-Type: application/json' \\\n",
    "    -d '{\"data\":{\"ndarray\":[[5.964, 4.006, 2.081, 1.031]]}}' \\\n",
    "    http://localhost:8003/seldon/seldon/sklearn-iris-secret/api/v1.0/predictions  | jq ."
   ]
  },
  {
   "cell_type": "markdown",
   "id": "4ad48b22-9c71-42fa-ae52-5ffd51ac874e",
   "metadata": {},
   "source": [
    "## Using serviceAccountName"
   ]
  },
  {
   "cell_type": "code",
   "execution_count": null,
   "id": "beb19659-be6d-481a-b8fa-071d62dead41",
   "metadata": {},
   "outputs": [],
   "source": [
    "%%writefile sklearn-iris-sa.yaml\n",
    "\n",
    "apiVersion: v1\n",
    "kind: ServiceAccount\n",
    "metadata:\n",
    "  name: minio-sa\n",
    "secrets:\n",
    "  - name: minio-sa-secret\n",
    "\n",
    "---\n",
    "\n",
    "apiVersion: v1\n",
    "kind: Secret\n",
    "metadata:\n",
    "  name: minio-sa-secret\n",
    "  annotations:\n",
    "     machinelearning.seldon.io/s3-endpoint: minio.minio-system.svc.cluster.local:9000\n",
    "     machinelearning.seldon.io/s3-usehttps: \"0\"\n",
    "type: Opaque\n",
    "stringData:\n",
    "  awsAccessKeyID: \"minioadmin\"\n",
    "  awsSecretAccessKey: \"minioadmin\"\n",
    "\n",
    "---\n",
    "    \n",
    "apiVersion: machinelearning.seldon.io/v1\n",
    "kind: SeldonDeployment\n",
    "metadata:\n",
    "  name: sklearn-iris-sa\n",
    "spec:\n",
    "  predictors:\n",
    "  - name: default\n",
    "    replicas: 1\n",
    "    graph:\n",
    "      name: classifier\n",
    "      implementation: SKLEARN_SERVER\n",
    "      modelUri: s3://sklearn/iris\n",
    "      serviceAccountName: minio-sa"
   ]
  },
  {
   "cell_type": "code",
   "execution_count": null,
   "id": "0d5057d4-6c2c-487b-b844-c63ce996f675",
   "metadata": {},
   "outputs": [],
   "source": [
    "!kubectl apply -f sklearn-iris-sa.yaml"
   ]
  },
  {
   "cell_type": "code",
   "execution_count": null,
   "id": "fb3c4177-3ef2-41a8-9ba0-b063c1daaa72",
   "metadata": {},
   "outputs": [],
   "source": [
    "!kubectl rollout status deploy/$(kubectl get deploy -l seldon-deployment-id=sklearn-iris-sa -o jsonpath='{.items[0].metadata.name}')"
   ]
  },
  {
   "cell_type": "code",
   "execution_count": null,
   "id": "21150bd5-c2e0-46c0-bfe3-0b5a86de1dc9",
   "metadata": {},
   "outputs": [],
   "source": [
    "%%bash\n",
    "curl -s -X POST -H 'Content-Type: application/json' \\\n",
    "    -d '{\"data\":{\"ndarray\":[[5.964, 4.006, 2.081, 1.031]]}}' \\\n",
    "    http://localhost:8003/seldon/seldon/sklearn-iris-sa/api/v1.0/predictions  | jq ."
   ]
  },
  {
   "cell_type": "markdown",
   "id": "9682fa11-1fc7-45af-ac9b-ca4d8e68b106",
   "metadata": {},
   "source": [
    "## Preparing rclone-compatible secret"
   ]
  },
  {
   "cell_type": "markdown",
   "id": "d4fee738-81ad-4a26-9bfe-6157cc3171cb",
   "metadata": {},
   "source": [
    "The [rclone](https://rclone.org/)-based storage initializer expects one to define a new secret. General documentation credentials hadling can be found [here](https://docs.seldon.io/projects/seldon-core/en/latest/servers/overview.html#handling-credentials) with constantly updated examples of tested configurations.\n",
    "\n",
    "If we do not have yet an example for Cloud Storage solution that you are using, please, consult the relevant page on [RClone documentation](https://rclone.org/#providers)."
   ]
  },
  {
   "cell_type": "markdown",
   "id": "310ce942-594c-4100-bebb-0f9ee8af2d11",
   "metadata": {},
   "source": [
    "## Updating envSecretRefName-specified secrets"
   ]
  },
  {
   "cell_type": "code",
   "execution_count": null,
   "id": "3cf139a8-f023-4c1d-8d59-d856fca33cb4",
   "metadata": {},
   "outputs": [],
   "source": [
    "from typing import Dict, List, Tuple, Union\n",
    "\n",
    "from kubernetes import client, config\n",
    "\n",
    "AWS_SECRET_REQUIRED_FIELDS = [\n",
    "    \"AWS_ACCESS_KEY_ID\",\n",
    "    \"AWS_ENDPOINT_URL\",\n",
    "    \"AWS_SECRET_ACCESS_KEY\",\n",
    "]\n",
    "\n",
    "\n",
    "def get_secrets_to_update(namespace: str) -> List[str]:\n",
    "    \"\"\"Get list of secrets defined for Seldon Deployments in a given namespace.\n",
    "\n",
    "    Parameters:\n",
    "    ----------\n",
    "    namespace: str\n",
    "        Namespace in which to look for secrets attached to Seldon Deployments.\n",
    "\n",
    "    Returns:\n",
    "    -------\n",
    "    secrets_names: List[str]\n",
    "        List of secrets names\n",
    "    \"\"\"\n",
    "    secret_names = []\n",
    "    api_instance = client.CustomObjectsApi()\n",
    "    sdeps = api_instance.list_namespaced_custom_object(\n",
    "        \"machinelearning.seldon.io\",\n",
    "        \"v1\",\n",
    "        namespace,\n",
    "        \"seldondeployments\",\n",
    "    )\n",
    "    for sdep in sdeps.get(\"items\", []):\n",
    "        for predictor in sdep.get(\"spec\", {}).get(\"predictors\", []):\n",
    "            secret_name = predictor.get(\"graph\", {}).get(\"envSecretRefName\", None)\n",
    "            if secret_name:\n",
    "                secret_names.append(secret_name)\n",
    "    return secret_names\n",
    "\n",
    "\n",
    "def new_fields_for_secret(secret: client.V1Secret, provider: str) -> Dict:\n",
    "    \"\"\"Get new fields that need to be added to secret.\n",
    "\n",
    "    Parameters\n",
    "    ----------\n",
    "    secret: client.V1Secret\n",
    "        Kubernetes secret that needs to be updated\n",
    "    provider: str\n",
    "        S3 provider: must be minio or aws\n",
    "\n",
    "    Returns\n",
    "    -------\n",
    "    new_fields: dict\n",
    "        New fields for  the secret partitioned into 'data' and 'stringData' fields\n",
    "    \"\"\"\n",
    "    for key in AWS_SECRET_REQUIRED_FIELDS:\n",
    "        if key not in secret.data:\n",
    "            raise ValueError(\n",
    "                f\"Secret '{secret.metadata.name}' does not contain '{key}' field.\"\n",
    "            )\n",
    "\n",
    "    return {\n",
    "        \"data\": {\n",
    "            \"RCLONE_CONFIG_S3_ACCESS_KEY_ID\": secret.data.get(\"AWS_ACCESS_KEY_ID\"),\n",
    "            \"RCLONE_CONFIG_S3_SECRET_ACCESS_KEY\": secret.data.get(\n",
    "                \"AWS_SECRET_ACCESS_KEY\"\n",
    "            ),\n",
    "            \"RCLONE_CONFIG_S3_ENDPOINT\": secret.data.get(\"AWS_ENDPOINT_URL\"),\n",
    "        },\n",
    "        \"stringData\": {\n",
    "            \"RCLONE_CONFIG_S3_TYPE\": \"s3\",\n",
    "            \"RCLONE_CONFIG_S3_PROVIDER\": provider,\n",
    "            \"RCLONE_CONFIG_S3_ENV_AUTH\": \"false\",\n",
    "        },\n",
    "    }\n",
    "\n",
    "\n",
    "def update_aws_secrets(namespaces: List[str], provider: str):\n",
    "    \"\"\"Updated AWS secrets used by Seldon Deployments in specified namespaces\n",
    "\n",
    "    Parameters\n",
    "    ----------\n",
    "    namespaces: List[str]\n",
    "        List of namespaces in which will look for Seldon Deployments\n",
    "    provider: str\n",
    "        S3 provider: must be minio or aws\n",
    "    \"\"\"\n",
    "    if provider not in [\"minio\", \"aws\"]:\n",
    "        raise ValueError(\"Provider must be 'minio' or 'aws'\")\n",
    "\n",
    "    v1 = client.CoreV1Api()\n",
    "    for namespace in namespaces:\n",
    "        print(f\"Updating secrets in namespace {namespace}\")\n",
    "        secret_names = get_secrets_to_update(namespace)\n",
    "        for secret_name in secret_names:\n",
    "            secret = v1.read_namespaced_secret(secret_name, namespace)\n",
    "            try:\n",
    "                new_fields = new_fields_for_secret(secret, provider)\n",
    "            except ValueError as e:\n",
    "                print(f\"  Couldn't upgrade a secret: {e}.\")\n",
    "                continue\n",
    "            _ = v1.patch_namespaced_secret(\n",
    "                secret_name,\n",
    "                namespace,\n",
    "                client.V1Secret(\n",
    "                    data=new_fields[\"data\"], string_data=new_fields[\"stringData\"]\n",
    "                ),\n",
    "            )\n",
    "            print(f\"  Upgraded secret {secret_name}.\")"
   ]
  },
  {
   "cell_type": "code",
   "execution_count": null,
   "id": "f32a6913-7e40-4e63-8ae7-6228ae11da94",
   "metadata": {},
   "outputs": [],
   "source": [
    "config.load_kube_config()\n",
    "update_aws_secrets(namespaces=[\"seldon\"], provider=\"minio\")"
   ]
  },
  {
   "cell_type": "markdown",
   "id": "69da1007-22da-4bb5-9d83-c4b1bcbbaf39",
   "metadata": {},
   "source": [
    "### Updating serviceAccountName-specified secrets and deployments"
   ]
  },
  {
   "cell_type": "code",
   "execution_count": null,
   "id": "863d2f03-64e6-4e04-a55d-abd57fd06ef3",
   "metadata": {},
   "outputs": [],
   "source": [
    "AWS_SA_SECRET_REQUIRED_FIELDS = [\"awsAccessKeyID\", \"awsSecretAccessKey\"]\n",
    "\n",
    "AWS_SA_SECRET_REQUIRED_ANNOTATIONS = [\n",
    "    \"machinelearning.seldon.io/s3-usehttps\",\n",
    "    \"machinelearning.seldon.io/s3-endpoint\",\n",
    "]\n",
    "\n",
    "\n",
    "def get_sdeps_with_service_accounts(namespace: str) -> List[Tuple[dict, List[str]]]:\n",
    "    \"\"\"Get list of secrets defined for Seldon Deployments in a given namespace.\n",
    "\n",
    "    Parameters:\n",
    "    ----------\n",
    "    namespace: str\n",
    "        Namespace in which to look for secrets attached to Seldon Deployments.\n",
    "\n",
    "    Returns:\n",
    "    -------\n",
    "    output: List[Tuple[dict, List[dict]]]]\n",
    "        Eeach tuple contain sdep (dict) and a list service account names (List[str])\n",
    "        The list of Service Account names is of length of number of predictors.\n",
    "        If Predictor has no related Service Account a None is included.\n",
    "    \"\"\"\n",
    "    output = []\n",
    "    api_instance = client.CustomObjectsApi()\n",
    "    sdeps = api_instance.list_namespaced_custom_object(\n",
    "        \"machinelearning.seldon.io\",\n",
    "        \"v1\",\n",
    "        namespace,\n",
    "        \"seldondeployments\",\n",
    "    )\n",
    "    for sdep in sdeps.get(\"items\", []):\n",
    "        sa_names = []\n",
    "        for predictor in sdep.get(\"spec\", {}).get(\"predictors\", []):\n",
    "            sa_name = predictor.get(\"graph\", {}).get(\"serviceAccountName\", None)\n",
    "            sa_names.append(sa_name)\n",
    "        output.append((sdep, sa_names))\n",
    "    return output\n",
    "\n",
    "\n",
    "def find_sa_related_secret(sa_name, namespace) -> Union[client.V1Secret, None]:\n",
    "    \"\"\"Find AWS secret related to specified SA.\n",
    "\n",
    "    Parameters\n",
    "    ----------\n",
    "    sa_name: str\n",
    "        Name of Service Account\n",
    "    namespace:\n",
    "        Name of namespace that contains the SA.\n",
    "\n",
    "    Returns\n",
    "    -------\n",
    "    secret: client.V1Secret\n",
    "    \"\"\"\n",
    "    v1 = client.CoreV1Api()\n",
    "    service_account = v1.read_namespaced_service_account(sa_name, namespace)\n",
    "    for s in service_account.secrets:\n",
    "        secret = v1.read_namespaced_secret(s.name, namespace)\n",
    "        if not all(key in secret.data for key in AWS_SA_SECRET_REQUIRED_FIELDS):\n",
    "            continue\n",
    "        if not all(\n",
    "            key in secret.metadata.annotations\n",
    "            for key in AWS_SA_SECRET_REQUIRED_ANNOTATIONS\n",
    "        ):\n",
    "            continue\n",
    "        return secret\n",
    "    return None\n",
    "\n",
    "\n",
    "def new_field_for_sa_secret(secret: client.V1Secret, provider: str):\n",
    "    \"\"\"Get new fields that need to be added to secret.\n",
    "\n",
    "    Parameters\n",
    "    ----------\n",
    "    secret: client.V1Secret\n",
    "        Kubernetes secret that needs to be updated\n",
    "    provider: str\n",
    "        S3 provider: must be minio or aws\n",
    "\n",
    "    Returns\n",
    "    -------\n",
    "    new_fields: dict\n",
    "        New fields for  the secret partitioned into 'data' and 'stringData' fields\n",
    "    \"\"\"\n",
    "    for key in AWS_SA_SECRET_REQUIRED_FIELDS:\n",
    "        if key not in secret.data:\n",
    "            raise ValueError(\n",
    "                f\"Secret '{secret.metadata.name}' does not contain '{key}' field.\"\n",
    "            )\n",
    "\n",
    "    use_https = secret.metadata.annotations.get(\n",
    "        \"machinelearning.seldon.io/s3-usehttps\", None\n",
    "    )\n",
    "    if use_https == \"0\":\n",
    "        protocol = \"http\"\n",
    "    elif use_https == \"1\":\n",
    "        protocol = \"https\"\n",
    "    else:\n",
    "        raise ValueError(\n",
    "            f\"Cannot determine http(s) protocol for {secret.metadata.name}.\"\n",
    "        )\n",
    "\n",
    "    s3_endpoint = secret.metadata.annotations.get(\n",
    "        \"machinelearning.seldon.io/s3-endpoint\", None\n",
    "    )\n",
    "    if s3_endpoint is None:\n",
    "        raise ValueError(f\"Cannot determine S3 endpoint for {secret.metadata.name}.\")\n",
    "\n",
    "    endpoint = f\"{protocol}://{s3_endpoint}\"\n",
    "\n",
    "    return {\n",
    "        \"data\": {\n",
    "            \"RCLONE_CONFIG_S3_ACCESS_KEY_ID\": secret.data.get(\"awsAccessKeyID\"),\n",
    "            \"RCLONE_CONFIG_S3_SECRET_ACCESS_KEY\": secret.data.get(\"awsSecretAccessKey\"),\n",
    "        },\n",
    "        \"stringData\": {\n",
    "            \"RCLONE_CONFIG_S3_TYPE\": \"s3\",\n",
    "            \"RCLONE_CONFIG_S3_PROVIDER\": provider,\n",
    "            \"RCLONE_CONFIG_S3_ENV_AUTH\": \"false\",\n",
    "            \"RCLONE_CONFIG_S3_ENDPOINT\": endpoint,\n",
    "        },\n",
    "    }\n",
    "\n",
    "\n",
    "def update_aws_sa_resources(namespaces, provider):\n",
    "    \"\"\"Updated AWS secrets used by Seldon Deployments via related Service Accounts in specified namespaces.\n",
    "\n",
    "    Parameters\n",
    "    ----------\n",
    "    namespaces: List[str]\n",
    "        List of namespaces in which will look for Seldon Deployments\n",
    "    provider: str\n",
    "        S3 provider: must be minio or aws\n",
    "    \"\"\"\n",
    "    v1 = client.CoreV1Api()\n",
    "    api_instance = client.CustomObjectsApi()\n",
    "    for namespace in namespaces:\n",
    "        print(f\"Upgrading namespace {namespace}\")\n",
    "        for sdep, sa_names_per_predictor in get_sdeps_with_service_accounts(namespace):\n",
    "            if all(sa_name is None for sa_name in sa_names_per_predictor):\n",
    "                continue\n",
    "            update_body = {\"spec\": sdep[\"spec\"]}\n",
    "            for n, sa_name in enumerate(sa_names_per_predictor):\n",
    "                if sa_name is None:\n",
    "                    continue\n",
    "                secret = find_sa_related_secret(sa_name, namespace)\n",
    "                if secret is None:\n",
    "                    print(\n",
    "                        f\"Couldn't find secret with S3 credentials for {sa.metadata.name}\"\n",
    "                    )\n",
    "                    continue\n",
    "                new_fields = new_field_for_sa_secret(secret, \"minio\")\n",
    "                _ = v1.patch_namespaced_secret(\n",
    "                    secret.metadata.name,\n",
    "                    namespace,\n",
    "                    client.V1Secret(\n",
    "                        data=new_fields[\"data\"], string_data=new_fields[\"stringData\"]\n",
    "                    ),\n",
    "                )\n",
    "                print(f\"  Upgraded secret {secret.metadata.name}\")\n",
    "                update_body[\"spec\"][\"predictors\"][n][\"graph\"][\n",
    "                    \"envSecretRefName\"\n",
    "                ] = secret.metadata.name\n",
    "            api_instance.patch_namespaced_custom_object(\n",
    "                \"machinelearning.seldon.io\",\n",
    "                \"v1\",\n",
    "                namespace,\n",
    "                \"seldondeployments\",\n",
    "                sdep[\"metadata\"][\"name\"],\n",
    "                update_body,\n",
    "            )\n",
    "            print(f\"  Upgrade sdep {sdep['metadata']['name']}\")"
   ]
  },
  {
   "cell_type": "code",
   "execution_count": null,
   "id": "cd6ed457-c94c-45a5-942d-f2990f1c496f",
   "metadata": {},
   "outputs": [],
   "source": [
    "update_aws_sa_resources(namespaces=[\"seldon\"], provider=\"minio\")"
   ]
  },
  {
   "cell_type": "markdown",
   "id": "735d7233-b487-4611-8e9b-99f144d9bf99",
   "metadata": {},
   "source": [
    "## Upgrade Seldon Core to use new storage initializer"
   ]
  },
  {
   "cell_type": "code",
   "execution_count": null,
   "id": "d4c303d9-fb21-4cef-b746-070dfe456f39",
   "metadata": {},
   "outputs": [],
   "source": [
    "%%bash\n",
    "helm upgrade seldon-core seldon-core-operator \\\n",
    "    --install \\\n",
    "    --repo https://storage.googleapis.com/seldon-charts \\\n",
    "    --version 1.9.1 \\\n",
    "    --namespace seldon-system \\\n",
    "    --set storageInitializer.image=\"seldonio/rclone-storage-initializer:1.11.0-dev\" \\\n",
    "    --reuse-values"
   ]
  },
  {
   "cell_type": "code",
   "execution_count": null,
   "id": "b9c755fe-d3d1-4ea5-894c-02af09ce7606",
   "metadata": {},
   "outputs": [],
   "source": [
    "%%bash\n",
    "kubectl rollout restart -n seldon-system deployments/seldon-controller-manager\n",
    "kubectl rollout status -n seldon-system deployments/seldon-controller-manager"
   ]
  },
  {
   "cell_type": "code",
   "execution_count": null,
   "id": "10fc03a8-b92d-4218-ae69-326835c34d77",
   "metadata": {},
   "outputs": [],
   "source": [
    "from time import sleep\n",
    "\n",
    "sleep(10)"
   ]
  },
  {
   "cell_type": "code",
   "execution_count": null,
   "id": "cb6fc570-cef1-4bf9-a811-75e38f652adf",
   "metadata": {},
   "outputs": [],
   "source": [
    "%%bash\n",
    "\n",
    "kubectl rollout restart deploy/$(kubectl get deploy -l seldon-deployment-id=sklearn-iris-secret -o jsonpath='{.items[0].metadata.name}')\n",
    "kubectl rollout restart deploy/$(kubectl get deploy -l seldon-deployment-id=sklearn-iris-sa -o jsonpath='{.items[0].metadata.name}')\n",
    "\n",
    "kubectl rollout status deploy/$(kubectl get deploy -l seldon-deployment-id=sklearn-iris-secret -o jsonpath='{.items[0].metadata.name}')\n",
    "kubectl rollout status deploy/$(kubectl get deploy -l seldon-deployment-id=sklearn-iris-sa -o jsonpath='{.items[0].metadata.name}')"
   ]
  },
  {
   "cell_type": "code",
   "execution_count": null,
   "id": "663b563e-f3ac-4926-b89d-f038c95e004b",
   "metadata": {},
   "outputs": [],
   "source": [
    "%%bash\n",
    "curl -s -X POST -H 'Content-Type: application/json' \\\n",
    "    -d '{\"data\":{\"ndarray\":[[5.964, 4.006, 2.081, 1.031]]}}' \\\n",
    "    http://localhost:8003/seldon/seldon/sklearn-iris-secret/api/v1.0/predictions  | jq ."
   ]
  },
  {
   "cell_type": "code",
   "execution_count": null,
   "id": "c24abf29-4468-404e-8ec8-17465926ed68",
   "metadata": {},
   "outputs": [],
   "source": [
    "%%bash\n",
    "curl -s -X POST -H 'Content-Type: application/json' \\\n",
    "    -d '{\"data\":{\"ndarray\":[[5.964, 4.006, 2.081, 1.031]]}}' \\\n",
    "    http://localhost:8003/seldon/seldon/sklearn-iris-sa/api/v1.0/predictions  | jq ."
   ]
  },
  {
   "cell_type": "markdown",
   "id": "30867d81-86d6-46c0-9f75-9a5e1a1458c7",
   "metadata": {},
   "source": [
    "## Cleanup"
   ]
  },
  {
   "cell_type": "code",
   "execution_count": null,
   "id": "4398005d-cf02-47a4-b4d2-62b9f4c15c47",
   "metadata": {},
   "outputs": [],
   "source": [
    "%%bash\n",
    "kubectl delete -f sklearn-iris-sa.yaml || echo \"already removed\"\n",
    "kubectl delete -f sklearn-iris-secret.yaml || echo \"already removed\""
   ]
  }
 ],
 "metadata": {
  "kernelspec": {
   "display_name": "Python 3",
   "language": "python",
   "name": "python3"
  },
  "language_info": {
   "codemirror_mode": {
    "name": "ipython",
    "version": 3
   },
   "file_extension": ".py",
   "mimetype": "text/x-python",
   "name": "python",
   "nbconvert_exporter": "python",
   "pygments_lexer": "ipython3",
   "version": "3.7.10"
  }
 },
 "nbformat": 4,
 "nbformat_minor": 5
}
