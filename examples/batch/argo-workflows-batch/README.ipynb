{
 "cells": [
  {
   "cell_type": "markdown",
   "metadata": {},
   "source": [
    "# Batch processing with Argo Worfklows\n",
    "\n",
    "In this notebook we will dive into how you can run batch processing with Argo Workflows and Seldon Core.\n",
    "\n",
    "Dependencies:\n",
    "\n",
    "* Seldon core installed as per the docs with an ingress\n",
    "* Minio running in your cluster to use as local (s3) object storage\n",
    "* Argo Workfklows installed in cluster (and argo CLI for commands)\n"
   ]
  },
  {
   "cell_type": "markdown",
   "metadata": {},
   "source": [
    "### Setup\n",
    "\n",
    "#### Install Seldon Core\n",
    "Use the notebook to [set-up Seldon Core with Ambassador or Istio Ingress](https://docs.seldon.io/projects/seldon-core/en/latest/examples/seldon_core_setup.html).\n",
    "\n",
    "Note: If running with KIND you need to make sure do follow [these steps](https://github.com/argoproj/argo/issues/2376#issuecomment-595593237) as workaround to the `/.../docker.sock` known issue.\n",
    "\n",
    "#### Set up Minio in your cluster\n",
    "Use the notebook to [set-up Minio in your cluster](https://docs.seldon.io/projects/seldon-core/en/latest/examples/minio_setup.html).\n",
    "\n",
    "#### Copy the Minio Secret to namespace\n",
    "\n",
    "We need to re-use the minio secret for the batch job, so this can be done by just copying the minio secret created in the `minio-system`\n",
    "\n",
    "The command below just copies the secred with the name \"minio\" from the minio-system namespace to the default namespace."
   ]
  },
  {
   "cell_type": "code",
   "execution_count": 2,
   "metadata": {},
   "outputs": [
    {
     "name": "stdout",
     "output_type": "stream",
     "text": [
      "secret/minio created\r\n"
     ]
    }
   ],
   "source": [
    "!kubectl get secret minio -n minio-system -o json | jq '{apiVersion,data,kind,metadata,type} | .metadata |= {\"annotations\", \"name\"}' | kubectl apply -n default -f -"
   ]
  },
  {
   "cell_type": "markdown",
   "metadata": {},
   "source": [
    "#### Install Argo Workflows\n",
    "You can follow the instructions from the official [Argo Workflows Documentation](https://github.com/argoproj/argo#quickstart).\n",
    "\n",
    "You also need to make sure that argo has permissions to create seldon deployments - for this you can create a role:"
   ]
  },
  {
   "cell_type": "code",
   "execution_count": 19,
   "metadata": {},
   "outputs": [
    {
     "name": "stdout",
     "output_type": "stream",
     "text": [
      "Overwriting role.yaml\n"
     ]
    }
   ],
   "source": [
    "%%writefile role.yaml\n",
    "apiVersion: rbac.authorization.k8s.io/v1\n",
    "kind: Role\n",
    "metadata:\n",
    "  name: workflow\n",
    "rules:\n",
    "- apiGroups:\n",
    "  - \"\"\n",
    "  resources:\n",
    "  - pods\n",
    "  verbs:\n",
    "  - \"*\"\n",
    "- apiGroups:\n",
    "  - \"apps\"\n",
    "  resources:\n",
    "  - deployments\n",
    "  verbs:\n",
    "  - \"*\"\n",
    "- apiGroups:\n",
    "  - \"\"\n",
    "  resources:\n",
    "  - pods/log\n",
    "  verbs:\n",
    "  - \"*\"\n",
    "- apiGroups:\n",
    "  - machinelearning.seldon.io\n",
    "  resources:\n",
    "  - \"*\"\n",
    "  verbs:\n",
    "  - \"*\""
   ]
  },
  {
   "cell_type": "code",
   "execution_count": 21,
   "metadata": {},
   "outputs": [
    {
     "data": {
      "text/plain": [
       "['Warning: kubectl apply should be used on resource created by either kubectl create --save-config or kubectl apply',\n",
       " 'role.rbac.authorization.k8s.io/workflow configured']"
      ]
     },
     "execution_count": 21,
     "metadata": {},
     "output_type": "execute_result"
    }
   ],
   "source": [
    "!!kubectl apply -f role.yaml"
   ]
  },
  {
   "cell_type": "markdown",
   "metadata": {},
   "source": [
    "A service account:"
   ]
  },
  {
   "cell_type": "code",
   "execution_count": 22,
   "metadata": {},
   "outputs": [
    {
     "name": "stdout",
     "output_type": "stream",
     "text": [
      "Error from server (AlreadyExists): serviceaccounts \"workflow\" already exists\r\n"
     ]
    }
   ],
   "source": [
    "!kubectl create serviceaccount workflow"
   ]
  },
  {
   "cell_type": "markdown",
   "metadata": {},
   "source": [
    "And a binding"
   ]
  },
  {
   "cell_type": "code",
   "execution_count": 12,
   "metadata": {},
   "outputs": [
    {
     "name": "stdout",
     "output_type": "stream",
     "text": [
      "rolebinding.rbac.authorization.k8s.io/workflow created\r\n"
     ]
    }
   ],
   "source": [
    "!kubectl create rolebinding workflow --role=workflow --serviceaccount=default:workflow"
   ]
  },
  {
   "cell_type": "markdown",
   "metadata": {},
   "source": [
    "### Create some input for our model\n",
    "\n",
    "We will create a file that will contain the inputs that will be sent to our model"
   ]
  },
  {
   "cell_type": "code",
   "execution_count": 13,
   "metadata": {},
   "outputs": [],
   "source": [
    "mkdir -p assets/"
   ]
  },
  {
   "cell_type": "code",
   "execution_count": 14,
   "metadata": {},
   "outputs": [],
   "source": [
    "with open(\"assets/input-data.txt\", \"w\") as f:\n",
    "    for i in range(10000):\n",
    "        f.write('[[1, 2, 3, 4]]\\n')"
   ]
  },
  {
   "cell_type": "markdown",
   "metadata": {},
   "source": [
    "#### Check the contents of the file"
   ]
  },
  {
   "cell_type": "code",
   "execution_count": 15,
   "metadata": {},
   "outputs": [
    {
     "name": "stdout",
     "output_type": "stream",
     "text": [
      "10000 assets/input-data.txt\n",
      "[[1, 2, 3, 4]]\n",
      "[[1, 2, 3, 4]]\n",
      "[[1, 2, 3, 4]]\n",
      "[[1, 2, 3, 4]]\n",
      "[[1, 2, 3, 4]]\n",
      "[[1, 2, 3, 4]]\n",
      "[[1, 2, 3, 4]]\n",
      "[[1, 2, 3, 4]]\n",
      "[[1, 2, 3, 4]]\n",
      "[[1, 2, 3, 4]]\n"
     ]
    }
   ],
   "source": [
    "!wc -l assets/input-data.txt\n",
    "!head assets/input-data.txt"
   ]
  },
  {
   "cell_type": "markdown",
   "metadata": {},
   "source": [
    "#### Upload the file to our minio"
   ]
  },
  {
   "cell_type": "code",
   "execution_count": 16,
   "metadata": {},
   "outputs": [
    {
     "name": "stdout",
     "output_type": "stream",
     "text": [
      "\u001b[m\u001b[32;1mBucket created successfully `minio-seldon/data`.\u001b[0m\n",
      "...-data.txt:  146.48 KiB / 146.48 KiB ┃▓▓▓▓▓▓▓▓▓▓▓▓▓▓▓▓▓▓▓▓▓▓▓▓┃ 14.57 MiB/s 0s\u001b[0m\u001b[0m\u001b[m\u001b[32;1m"
     ]
    }
   ],
   "source": [
    "!mc mb minio-seldon/data\n",
    "!mc cp assets/input-data.txt minio-seldon/data/"
   ]
  },
  {
   "cell_type": "markdown",
   "metadata": {},
   "source": [
    "#### Create Argo Workflow\n",
    "\n",
    "In order to create our argo workflow we have made it simple so you can leverage the power of the helm charts.\n",
    "\n",
    "Before we dive into the contents of the full helm chart, let's first give it a try with some of the settings.\n",
    "\n",
    "We will run a batch job that will set up a Seldon Deployment with 10 replicas and 100 batch client workers to send requests."
   ]
  },
  {
   "cell_type": "code",
   "execution_count": 32,
   "metadata": {},
   "outputs": [
    {
     "name": "stdout",
     "output_type": "stream",
     "text": [
      "Name:                seldon-batch-process\r\n",
      "Namespace:           default\r\n",
      "ServiceAccount:      workflow\r\n",
      "Status:              Pending\r\n",
      "Created:             Thu Nov 19 15:09:43 +0000 (now)\r\n"
     ]
    }
   ],
   "source": [
    "!helm template seldon-batch-workflow helm-charts/seldon-batch-workflow/ \\\n",
    "    --set workflow.name=seldon-batch-process \\\n",
    "    --set seldonDeployment.name=sklearn \\\n",
    "    --set seldonDeployment.replicas=10 \\\n",
    "    --set seldonDeployment.serverWorkers=1 \\\n",
    "    --set seldonDeployment.serverThreads=10 \\\n",
    "    --set batchWorker.workers=100 \\\n",
    "    --set batchWorker.payloadType=ndarray \\\n",
    "    --set batchWorker.dataType=data \\\n",
    "    | argo submit --serviceaccount workflow -"
   ]
  },
  {
   "cell_type": "code",
   "execution_count": 33,
   "metadata": {},
   "outputs": [
    {
     "name": "stdout",
     "output_type": "stream",
     "text": [
      "NAME                   STATUS    AGE   DURATION   PRIORITY\r\n",
      "seldon-batch-process   Running   1m    1m         0\r\n"
     ]
    }
   ],
   "source": [
    "!argo list"
   ]
  },
  {
   "cell_type": "code",
   "execution_count": 25,
   "metadata": {},
   "outputs": [
    {
     "name": "stdout",
     "output_type": "stream",
     "text": [
      "Name:                seldon-batch-process\r\n",
      "Namespace:           default\r\n",
      "ServiceAccount:      workflow\r\n",
      "Status:              Succeeded\r\n",
      "Conditions:          \r\n",
      " Completed           True\r\n",
      "Created:             Thu Nov 19 14:20:58 +0000 (27 minutes ago)\r\n",
      "Started:             Thu Nov 19 14:20:58 +0000 (27 minutes ago)\r\n",
      "Finished:            Thu Nov 19 14:25:30 +0000 (23 minutes ago)\r\n",
      "Duration:            4 minutes 32 seconds\r\n",
      "ResourcesDuration:   7m52s*(1 cpu),7m52s*(100Mi memory)\r\n",
      "\r\n",
      "\u001b[39mSTEP\u001b[0m                           TEMPLATE                         PODNAME                          DURATION  MESSAGE\r\n",
      " \u001b[32m✔\u001b[0m seldon-batch-process        seldon-batch-process                                                          \r\n",
      " ├---\u001b[32m✔\u001b[0m create-seldon-resource  create-seldon-resource-template  seldon-batch-process-3626514072  1s          \r\n",
      " ├---\u001b[32m✔\u001b[0m wait-seldon-resource    wait-seldon-resource-template    seldon-batch-process-2052519094  38s         \r\n",
      " ├---\u001b[32m✔\u001b[0m download-object-store   download-object-store-template   seldon-batch-process-1257652469  8s          \r\n",
      " ├---\u001b[32m✔\u001b[0m process-batch-inputs    process-batch-inputs-template    seldon-batch-process-2033515954  3m          \r\n",
      " └---\u001b[32m✔\u001b[0m upload-object-store     upload-object-store-template     seldon-batch-process-2123074048  3s          \r\n"
     ]
    }
   ],
   "source": [
    "!argo get seldon-batch-process"
   ]
  },
  {
   "cell_type": "code",
   "execution_count": 27,
   "metadata": {},
   "outputs": [
    {
     "name": "stdout",
     "output_type": "stream",
     "text": [
      "\u001b[32mseldon-batch-process-3626514072: time=\"2020-11-19T14:20:59.511Z\" level=info msg=\"Starting Workflow Executor\" version=v2.11.7\u001b[0m\r\n",
      "\u001b[32mseldon-batch-process-3626514072: time=\"2020-11-19T14:20:59.514Z\" level=info msg=\"Creating a K8sAPI executor\"\u001b[0m\r\n",
      "\u001b[32mseldon-batch-process-3626514072: time=\"2020-11-19T14:20:59.514Z\" level=info msg=\"Executor (version: v2.11.7, build_date: 2020-11-02T21:05:12Z) initialized (pod: default/seldon-batch-process-3626514072) with template:\\n{\\\"name\\\":\\\"create-seldon-resource-template\\\",\\\"arguments\\\":{},\\\"inputs\\\":{},\\\"outputs\\\":{},\\\"metadata\\\":{},\\\"resource\\\":{\\\"action\\\":\\\"create\\\",\\\"manifest\\\":\\\"apiVersion: machinelearning.seldon.io/v1\\\\nkind: SeldonDeployment\\\\nmetadata:\\\\n  name: \\\\\\\"sklearn\\\\\\\"\\\\n  namespace: default\\\\n  ownerReferences:\\\\n  - apiVersion: argoproj.io/v1alpha1\\\\n    blockOwnerDeletion: true\\\\n    kind: Workflow\\\\n    name: \\\\\\\"seldon-batch-process\\\\\\\"\\\\n    uid: \\\\\\\"3dc52b6d-937c-47a8-b5f7-d3ca99c74f4e\\\\\\\"\\\\nspec:\\\\n  name: \\\\\\\"sklearn\\\\\\\"\\\\n  predictors:\\\\n    - componentSpecs:\\\\n      - spec:\\\\n        containers:\\\\n        - name: classifier\\\\n          env:\\\\n          - name: GUNICORN_THREADS\\\\n            value: 10\\\\n          - name: GUNICORN_WORKERS\\\\n            value: 1\\\\n          resources:\\\\n            requests:\\\\n              cpu: 50m\\\\n              memory: 100Mi\\\\n            limits:\\\\n              cpu: 50m\\\\n              memory: 1000Mi\\\\n      graph:\\\\n        children: []\\\\n        implementation: SKLEARN_SERVER\\\\n        modelUri: gs://seldon-models/sklearn/iris\\\\n        name: classifier\\\\n      name: default\\\\n      replicas: 10\\\\n        \\\\n\\\"}}\"\u001b[0m\r\n",
      "\u001b[32mseldon-batch-process-3626514072: time=\"2020-11-19T14:20:59.514Z\" level=info msg=\"Loading manifest to /tmp/manifest.yaml\"\u001b[0m\r\n",
      "\u001b[32mseldon-batch-process-3626514072: time=\"2020-11-19T14:20:59.514Z\" level=info msg=\"kubectl create -f /tmp/manifest.yaml -o json\"\u001b[0m\r\n",
      "\u001b[32mseldon-batch-process-3626514072: time=\"2020-11-19T14:20:59.799Z\" level=info msg=default/SeldonDeployment.machinelearning.seldon.io/sklearn\u001b[0m\r\n",
      "\u001b[32mseldon-batch-process-3626514072: time=\"2020-11-19T14:20:59.799Z\" level=info msg=\"Starting SIGUSR2 signal monitor\"\u001b[0m\r\n",
      "\u001b[32mseldon-batch-process-3626514072: time=\"2020-11-19T14:20:59.799Z\" level=info msg=\"No output parameters\"\u001b[0m\r\n",
      "\u001b[33mseldon-batch-process-2052519094: Waiting for deployment \"sklearn-default-0-classifier\" rollout to finish: 0 of 10 updated replicas are available...\u001b[0m\r\n",
      "\u001b[33mseldon-batch-process-2052519094: Waiting for deployment \"sklearn-default-0-classifier\" rollout to finish: 1 of 10 updated replicas are available...\u001b[0m\r\n",
      "\u001b[33mseldon-batch-process-2052519094: Waiting for deployment \"sklearn-default-0-classifier\" rollout to finish: 2 of 10 updated replicas are available...\u001b[0m\r\n",
      "\u001b[33mseldon-batch-process-2052519094: Waiting for deployment \"sklearn-default-0-classifier\" rollout to finish: 3 of 10 updated replicas are available...\u001b[0m\r\n",
      "\u001b[33mseldon-batch-process-2052519094: Waiting for deployment \"sklearn-default-0-classifier\" rollout to finish: 4 of 10 updated replicas are available...\u001b[0m\r\n",
      "\u001b[33mseldon-batch-process-2052519094: Waiting for deployment \"sklearn-default-0-classifier\" rollout to finish: 5 of 10 updated replicas are available...\u001b[0m\r\n",
      "\u001b[33mseldon-batch-process-2052519094: Waiting for deployment \"sklearn-default-0-classifier\" rollout to finish: 6 of 10 updated replicas are available...\u001b[0m\r\n",
      "\u001b[33mseldon-batch-process-2052519094: Waiting for deployment \"sklearn-default-0-classifier\" rollout to finish: 7 of 10 updated replicas are available...\u001b[0m\r\n",
      "\u001b[33mseldon-batch-process-2052519094: Waiting for deployment \"sklearn-default-0-classifier\" rollout to finish: 8 of 10 updated replicas are available...\u001b[0m\r\n",
      "\u001b[33mseldon-batch-process-2052519094: Waiting for deployment \"sklearn-default-0-classifier\" rollout to finish: 9 of 10 updated replicas are available...\u001b[0m\r\n",
      "\u001b[33mseldon-batch-process-2052519094: deployment \"sklearn-default-0-classifier\" successfully rolled out\u001b[0m\r\n",
      "\u001b[36mseldon-batch-process-1257652469: Added `minio-local` successfully.\u001b[0m\r\n",
      "\u001b[36mseldon-batch-process-1257652469: `minio-local/data/input-data.txt` -> `/assets/input-data.txt`\u001b[0m\r\n",
      "\u001b[36mseldon-batch-process-1257652469: Total: 0 B, Transferred: 146.48 KiB, Speed: 9.37 MiB/s\u001b[0m\r\n",
      "\u001b[33mseldon-batch-process-2033515954: Elapsed time: 181.3895139694214\u001b[0m\r\n",
      "\u001b[34mseldon-batch-process-2123074048: Added `minio-local` successfully.\u001b[0m\r\n",
      "\u001b[34mseldon-batch-process-2123074048: `/assets/output-data.txt` -> `minio-local/data/output-data-3dc52b6d-937c-47a8-b5f7-d3ca99c74f4e.txt`\u001b[0m\r\n",
      "\u001b[34mseldon-batch-process-2123074048: Total: 0 B, Transferred: 5.17 MiB, Speed: 83.04 MiB/s\u001b[0m\r\n"
     ]
    }
   ],
   "source": [
    "!argo logs -w seldon-batch-process || argo logs seldon-batch-process # The 2nd command is for argo 2.8+"
   ]
  },
  {
   "cell_type": "markdown",
   "metadata": {},
   "source": [
    "### Check output in object store\n",
    "\n",
    "We can now visualise the output that we obtained in the object store.\n",
    "\n",
    "First we can check that the file is present:"
   ]
  },
  {
   "cell_type": "code",
   "execution_count": 34,
   "metadata": {},
   "outputs": [
    {
     "name": "stdout",
     "output_type": "stream",
     "text": [
      "Workflow ID is 323b666e-c546-431f-a64d-5fc780d68a18\n"
     ]
    }
   ],
   "source": [
    "import json\n",
    "wf_arr = !argo get seldon-batch-process -o json\n",
    "wf = json.loads(\"\".join(wf_arr))\n",
    "WF_ID = wf[\"metadata\"][\"uid\"]\n",
    "print(f\"Workflow ID is {WF_ID}\")"
   ]
  },
  {
   "cell_type": "code",
   "execution_count": 35,
   "metadata": {},
   "outputs": [
    {
     "name": "stdout",
     "output_type": "stream",
     "text": [
      "\u001b[m\u001b[32m[2020-11-19 15:11:17 GMT]\u001b[0m\u001b[33m 2.7MiB\u001b[0m\u001b[1m output-data-323b666e-c546-431f-a64d-5fc780d68a18.txt\u001b[0m\r\n",
      "\u001b[0m"
     ]
    }
   ],
   "source": [
    "!mc ls minio-seldon/data/output-data-\"$WF_ID\".txt"
   ]
  },
  {
   "cell_type": "markdown",
   "metadata": {},
   "source": [
    "Now we can output the contents of the file created using the `mc head` command."
   ]
  },
  {
   "cell_type": "code",
   "execution_count": 36,
   "metadata": {},
   "outputs": [
    {
     "name": "stdout",
     "output_type": "stream",
     "text": [
      "...68a18.txt:  2.75 MiB / 2.75 MiB ┃▓▓▓▓▓▓▓▓▓▓▓▓▓▓▓▓▓▓▓▓▓▓▓▓▓▓▓┃ 159.35 MiB/s 0s\u001b[0m\u001b[0m{\"data\": {\"names\": [\"t:0\", \"t:1\", \"t:2\"], \"ndarray\": [[0.0006985194531162841, 0.003668039039435755, 0.9956334415074478]]}, \"meta\": {\"tags\": {\"tags\": {\"batch_id\": \"60b44a9c-2a79-11eb-b0aa-820f6474333b\", \"batch_index\": 0.0, \"batch_instance_id\": \"60b49614-2a79-11eb-9b0d-820f6474333b\"}}}}\n",
      "{\"data\": {\"names\": [\"t:0\", \"t:1\", \"t:2\"], \"ndarray\": [[0.0006985194531162841, 0.003668039039435755, 0.9956334415074478]]}, \"meta\": {\"tags\": {\"tags\": {\"batch_id\": \"60b44a9c-2a79-11eb-b0aa-820f6474333b\", \"batch_index\": 3.0, \"batch_instance_id\": \"60b50932-2a79-11eb-9b0d-820f6474333b\"}}}}\n",
      "{\"data\": {\"names\": [\"t:0\", \"t:1\", \"t:2\"], \"ndarray\": [[0.0006985194531162841, 0.003668039039435755, 0.9956334415074478]]}, \"meta\": {\"tags\": {\"tags\": {\"batch_id\": \"60b44a9c-2a79-11eb-b0aa-820f6474333b\", \"batch_index\": 1.0, \"batch_instance_id\": \"60b49d9e-2a79-11eb-9b0d-820f6474333b\"}}}}\n",
      "{\"data\": {\"names\": [\"t:0\", \"t:1\", \"t:2\"], \"ndarray\": [[0.0006985194531162841, 0.003668039039435755, 0.9956334415074478]]}, \"meta\": {\"tags\": {\"tags\": {\"batch_id\": \"60b44a9c-2a79-11eb-b0aa-820f6474333b\", \"batch_index\": 2.0, \"batch_instance_id\": \"60b4e60a-2a79-11eb-9b0d-820f6474333b\"}}}}\n",
      "{\"data\": {\"names\": [\"t:0\", \"t:1\", \"t:2\"], \"ndarray\": [[0.0006985194531162841, 0.003668039039435755, 0.9956334415074478]]}, \"meta\": {\"tags\": {\"tags\": {\"batch_id\": \"60b44a9c-2a79-11eb-b0aa-820f6474333b\", \"batch_index\": 5.0, \"batch_instance_id\": \"60b5269c-2a79-11eb-9b0d-820f6474333b\"}}}}\n",
      "{\"data\": {\"names\": [\"t:0\", \"t:1\", \"t:2\"], \"ndarray\": [[0.0006985194531162841, 0.003668039039435755, 0.9956334415074478]]}, \"meta\": {\"tags\": {\"tags\": {\"batch_id\": \"60b44a9c-2a79-11eb-b0aa-820f6474333b\", \"batch_index\": 9.0, \"batch_instance_id\": \"60b542a8-2a79-11eb-9b0d-820f6474333b\"}}}}\n",
      "{\"data\": {\"names\": [\"t:0\", \"t:1\", \"t:2\"], \"ndarray\": [[0.0006985194531162841, 0.003668039039435755, 0.9956334415074478]]}, \"meta\": {\"tags\": {\"tags\": {\"batch_id\": \"60b44a9c-2a79-11eb-b0aa-820f6474333b\", \"batch_index\": 7.0, \"batch_instance_id\": \"60b53fce-2a79-11eb-9b0d-820f6474333b\"}}}}\n",
      "{\"data\": {\"names\": [\"t:0\", \"t:1\", \"t:2\"], \"ndarray\": [[0.0006985194531162841, 0.003668039039435755, 0.9956334415074478]]}, \"meta\": {\"tags\": {\"tags\": {\"batch_id\": \"60b44a9c-2a79-11eb-b0aa-820f6474333b\", \"batch_index\": 6.0, \"batch_instance_id\": \"60b53e7a-2a79-11eb-9b0d-820f6474333b\"}}}}\n",
      "{\"data\": {\"names\": [\"t:0\", \"t:1\", \"t:2\"], \"ndarray\": [[0.0006985194531162841, 0.003668039039435755, 0.9956334415074478]]}, \"meta\": {\"tags\": {\"tags\": {\"batch_id\": \"60b44a9c-2a79-11eb-b0aa-820f6474333b\", \"batch_index\": 8.0, \"batch_instance_id\": \"60b540d2-2a79-11eb-9b0d-820f6474333b\"}}}}\n",
      "{\"data\": {\"names\": [\"t:0\", \"t:1\", \"t:2\"], \"ndarray\": [[0.0006985194531162841, 0.003668039039435755, 0.9956334415074478]]}, \"meta\": {\"tags\": {\"tags\": {\"batch_id\": \"60b44a9c-2a79-11eb-b0aa-820f6474333b\", \"batch_index\": 11.0, \"batch_instance_id\": \"60b546c2-2a79-11eb-9b0d-820f6474333b\"}}}}\n"
     ]
    }
   ],
   "source": [
    "!mc cp minio-seldon/data/output-data-\"$WF_ID\".txt assets/output-data.txt\n",
    "!head assets/output-data.txt"
   ]
  },
  {
   "cell_type": "code",
   "execution_count": 37,
   "metadata": {},
   "outputs": [
    {
     "name": "stdout",
     "output_type": "stream",
     "text": [
      "Workflow 'seldon-batch-process' deleted\r\n"
     ]
    }
   ],
   "source": [
    "!argo delete seldon-batch-process"
   ]
  },
  {
   "cell_type": "code",
   "execution_count": null,
   "metadata": {},
   "outputs": [],
   "source": []
  }
 ],
 "metadata": {
  "kernelspec": {
   "display_name": "Python 3",
   "language": "python",
   "name": "python3"
  },
  "language_info": {
   "codemirror_mode": {
    "name": "ipython",
    "version": 3
   },
   "file_extension": ".py",
   "mimetype": "text/x-python",
   "name": "python",
   "nbconvert_exporter": "python",
   "pygments_lexer": "ipython3",
   "version": "3.8.3"
  }
 },
 "nbformat": 4,
 "nbformat_minor": 4
}
