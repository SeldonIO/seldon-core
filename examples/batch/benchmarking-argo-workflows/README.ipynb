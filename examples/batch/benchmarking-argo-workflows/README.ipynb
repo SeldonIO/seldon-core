{
 "cells": [
  {
   "cell_type": "markdown",
   "metadata": {},
   "source": [
    "## Benchmarking with Argo Worfklows & Vegeta\n",
    "\n",
    "In this notebook we will dive into how you can run bench marking with batch processing with Argo Workflows, Seldon Core and Vegeta.\n",
    "\n",
    "Dependencies:\n",
    "\n",
    "* Seldon core installed as per the docs with Istio as an ingress \n",
    "* Argo Workfklows installed in cluster (and argo CLI for commands)\n"
   ]
  },
  {
   "cell_type": "markdown",
   "metadata": {},
   "source": [
    "## Setup\n",
    "\n",
    "### Install Seldon Core\n",
    "Use the notebook to [set-up Seldon Core with Ambassador or Istio Ingress](https://docs.seldon.io/projects/seldon-core/en/latest/examples/seldon_core_setup.html).\n",
    "\n",
    "Note: If running with KIND you need to make sure do follow [these steps](https://github.com/argoproj/argo/issues/2376#issuecomment-595593237) as workaround to the `/.../docker.sock` known issue.\n"
   ]
  },
  {
   "cell_type": "markdown",
   "metadata": {},
   "source": [
    "### Install Argo Workflows\n",
    "You can follow the instructions from the official [Argo Workflows Documentation](https://github.com/argoproj/argo#quickstart).\n",
    "\n",
    "Download the right CLi for your environment following the documentation (https://github.com/argoproj/argo-workflows/releases/tag/v3.0.8)\n",
    "\n",
    "You also need to make sure that argo has permissions to create seldon deployments - for this you can just create a default-admin rolebinding as follows:"
   ]
  },
  {
   "cell_type": "code",
   "execution_count": 302,
   "metadata": {},
   "outputs": [
    {
     "name": "stdout",
     "output_type": "stream",
     "text": [
      "Error from server (AlreadyExists): namespaces \"argo\" already exists\n",
      "namespace already created\n",
      "customresourcedefinition.apiextensions.k8s.io/clusterworkflowtemplates.argoproj.io unchanged\n",
      "customresourcedefinition.apiextensions.k8s.io/cronworkflows.argoproj.io unchanged\n",
      "customresourcedefinition.apiextensions.k8s.io/workfloweventbindings.argoproj.io unchanged\n",
      "customresourcedefinition.apiextensions.k8s.io/workflows.argoproj.io unchanged\n",
      "customresourcedefinition.apiextensions.k8s.io/workflowtemplates.argoproj.io unchanged\n",
      "serviceaccount/argo unchanged\n",
      "serviceaccount/argo-server unchanged\n",
      "role.rbac.authorization.k8s.io/argo-role unchanged\n",
      "clusterrole.rbac.authorization.k8s.io/argo-aggregate-to-admin unchanged\n",
      "clusterrole.rbac.authorization.k8s.io/argo-aggregate-to-edit unchanged\n",
      "clusterrole.rbac.authorization.k8s.io/argo-aggregate-to-view unchanged\n",
      "clusterrole.rbac.authorization.k8s.io/argo-cluster-role unchanged\n",
      "clusterrole.rbac.authorization.k8s.io/argo-server-cluster-role unchanged\n",
      "rolebinding.rbac.authorization.k8s.io/argo-binding unchanged\n",
      "clusterrolebinding.rbac.authorization.k8s.io/argo-binding unchanged\n",
      "clusterrolebinding.rbac.authorization.k8s.io/argo-server-binding unchanged\n",
      "configmap/workflow-controller-configmap unchanged\n",
      "service/argo-server unchanged\n",
      "service/workflow-controller-metrics configured\n",
      "deployment.apps/argo-server configured\n",
      "deployment.apps/workflow-controller configured\n",
      "Waiting for deployment \"argo-server\" rollout to finish: 1 old replicas are pending termination...\n",
      "Waiting for deployment \"argo-server\" rollout to finish: 1 old replicas are pending termination...\n",
      "deployment \"argo-server\" successfully rolled out\n",
      "deployment \"workflow-controller\" successfully rolled out\n"
     ]
    }
   ],
   "source": [
    "!kubectl create namespace argo || echo \"namespace already created\"\n",
    "!kubectl apply -n argo -f https://raw.githubusercontent.com/argoproj/argo/v3.1.0/manifests/install.yaml\n",
    "!kubectl rollout status -n argo deployment/argo-server\n",
    "!kubectl rollout status -n argo deployment/workflow-controller"
   ]
  },
  {
   "cell_type": "markdown",
   "metadata": {},
   "source": [
    "Set up the RBAC so the argo workflow is able to create seldon deployments."
   ]
  },
  {
   "cell_type": "code",
   "execution_count": 5,
   "metadata": {},
   "outputs": [
    {
     "name": "stdout",
     "output_type": "stream",
     "text": [
      "rolebinding.rbac.authorization.k8s.io/default-admin created\r\n"
     ]
    }
   ],
   "source": [
    "!kubectl create rolebinding default-admin --clusterrole=admin --serviceaccount=default:default\n",
    "print(\"Successfully installed admin role-binding\")"
   ]
  },
  {
   "cell_type": "markdown",
   "metadata": {},
   "source": [
    "### Create Benchmark Argo Workflow\n",
    "\n",
    "In order to create a benchmark, we created a simple argo workflow template so you can leverage the power of the helm charts.\n",
    "\n",
    "Before we dive into the contents of the full helm chart, let's first give it a try with some of the settings.\n",
    "\n",
    "We will run a batch job that will set up a Seldon Deployment with 1 replicas and 4 cpus (with 100 max workers) to send requests."
   ]
  },
  {
   "cell_type": "code",
   "execution_count": 490,
   "metadata": {
    "scrolled": false
   },
   "outputs": [
    {
     "name": "stdout",
     "output_type": "stream",
     "text": [
      "Name:                seldon-benchmark-process\r\n",
      "Namespace:           default\r\n",
      "ServiceAccount:      default\r\n",
      "Status:              Pending\r\n",
      "Created:             Sat Jun 26 18:39:08 +0100 (now)\r\n"
     ]
    }
   ],
   "source": [
    "print(\"Running argo workflow job\")\n",
    "!helm template seldon-benchmark-workflow helm-charts/seldon-benchmark-workflow/ \\\n",
    "    --set workflow.name=seldon-benchmark-process \\\n",
    "    --set workflow.parallelism=3 \\\n",
    "    --set seldonDeployment.name=sklearn \\\n",
    "    --set seldonDeployment.replicas=\"1|2\" \\\n",
    "    --set seldonDeployment.serverWorkers=\"2|5|10\" \\\n",
    "    --set seldonDeployment.serverThreads=1 \\\n",
    "    --set seldonDeployment.modelUri=\"gs://seldon-models/sklearn/iris\" \\\n",
    "    --set seldonDeployment.server=\"SKLEARN_SERVER\" \\\n",
    "    --set seldonDeployment.apiType=\"rest|grpc\" \\\n",
    "    --set seldonDeployment.requests.cpu=\"500Mi|1000Mi|2000Mi\" \\\n",
    "    --set seldonDeployment.requests.limits=\"2000Mi\" \\\n",
    "    --set seldonDeployment.disableOrchestrator=\"true|false\" \\\n",
    "    --set benchmark.cpu=\"5\" \\\n",
    "    --set benchmark.concurrency=\"1\" \\\n",
    "    --set benchmark.duration=\"30s\" \\\n",
    "    --set benchmark.rate=0 \\\n",
    "    --set benchmark.data='\\{\"data\": {\"ndarray\": [[0\\,1\\,2\\,3]]\\}\\}' \\\n",
    "    | argo submit -"
   ]
  },
  {
   "cell_type": "code",
   "execution_count": 515,
   "metadata": {},
   "outputs": [
    {
     "name": "stdout",
     "output_type": "stream",
     "text": [
      "Running argo workflows:\n",
      "NAME   STATUS   AGE   DURATION   PRIORITY\n"
     ]
    }
   ],
   "source": [
    "print(\"Running argo workflows:\")\n",
    "!argo list"
   ]
  },
  {
   "cell_type": "code",
   "execution_count": null,
   "metadata": {},
   "outputs": [],
   "source": [
    "!argo logs -f seldon-benchmark-process"
   ]
  },
  {
   "cell_type": "code",
   "execution_count": null,
   "metadata": {},
   "outputs": [],
   "source": [
    "!argo get seldon-benchmark-process"
   ]
  },
  {
   "cell_type": "markdown",
   "metadata": {},
   "source": [
    "## Process the results\n",
    "\n",
    "We can now print the results in a consumable format."
   ]
  },
  {
   "cell_type": "code",
   "execution_count": 494,
   "metadata": {},
   "outputs": [],
   "source": [
    "def get_results(results, print_results=True):\n",
    "    final = {}\n",
    "    # For GHZ / grpc\n",
    "    if \"average\" in results:\n",
    "        final[\"mean\"] = results[\"average\"] / 1e6\n",
    "        if results.get(\"latencyDistribution\", False):\n",
    "            final[\"50th\"] = results[\"latencyDistribution\"][-5][\"latency\"] / 1e6\n",
    "            final[\"90th\"] = results[\"latencyDistribution\"][-3][\"latency\"] / 1e6\n",
    "            final[\"95th\"] = results[\"latencyDistribution\"][-2][\"latency\"] / 1e6\n",
    "            final[\"99th\"] = results[\"latencyDistribution\"][-1][\"latency\"] / 1e6\n",
    "        final[\"throughputAchieved\"] = results[\"rps\"]\n",
    "        final[\"success\"] = results[\"statusCodeDistribution\"].get(\"OK\", 0)\n",
    "        final[\"errors\"] = sum(results[\"statusCodeDistribution\"].values()) - final[\"success\"]\n",
    "    # For vegeta / rest\n",
    "    else:\n",
    "        final[\"mean\"] = results[\"latencies\"][\"mean\"] / 1e6\n",
    "        final[\"50th\"] = results[\"latencies\"][\"50th\"] / 1e6\n",
    "        final[\"90th\"] = results[\"latencies\"][\"90th\"] / 1e6\n",
    "        final[\"95th\"] = results[\"latencies\"][\"95th\"] / 1e6\n",
    "        final[\"99th\"] = results[\"latencies\"][\"99th\"] / 1e6\n",
    "        final[\"throughputAchieved\"] = results[\"throughput\"]\n",
    "        final[\"success\"] = results[\"status_codes\"].get(\"200\", 0)\n",
    "        final[\"errors\"] = sum(results[\"status_codes\"].values()) - final[\"success\"]\n",
    "    for k in results[\"params\"].keys():\n",
    "        final[k] = results[\"params\"][k]\n",
    "    if print_results:\n",
    "        print(\"-----\")\n",
    "        print(\"ParamNames:\", results[\"params\"].keys())\n",
    "        print(\"ParamNames:\", results[\"params\"].values())\n",
    "        print(\"\\tLatencies:\")\n",
    "        print(\"\\t\\tmean:\", final[\"mean\"], \"ms\")\n",
    "        print(\"\\t\\t50th:\", final[\"50th\"], \"ms\")\n",
    "        print(\"\\t\\t90th:\", final[\"90th\"], \"ms\")\n",
    "        print(\"\\t\\t95th:\", final[\"95th\"], \"ms\")\n",
    "        print(\"\\t\\t99th:\", final[\"99th\"], \"ms\")\n",
    "        print(\"\")\n",
    "        print(\"\\tRate:\", str(final[\"throughputAchieved\"]) + \"/s\")\n",
    "        print(\"\\tSuccess:\", final[\"success\"])\n",
    "        print(\"\\tErrors:\", final[\"errors\"])\n",
    "    return final"
   ]
  },
  {
   "cell_type": "code",
   "execution_count": null,
   "metadata": {},
   "outputs": [],
   "source": [
    "wf_logs = !argo logs --no-color seldon-benchmark-process \n",
    "wf_bench = [json.loads(\":\".join(w.split(\":\")[1:])) for w in wf_logs if \"latenc\" in w]\n",
    "print(wf_bench)"
   ]
  },
  {
   "cell_type": "code",
   "execution_count": null,
   "metadata": {},
   "outputs": [],
   "source": [
    "results = []\n",
    "for w in wf_bench:\n",
    "    # Prints the results in a consumable format\n",
    "    results.append(get_results(w))"
   ]
  },
  {
   "cell_type": "code",
   "execution_count": 514,
   "metadata": {},
   "outputs": [
    {
     "name": "stdout",
     "output_type": "stream",
     "text": [
      "Workflow 'seldon-benchmark-process' deleted\r\n"
     ]
    }
   ],
   "source": [
    "!argo delete seldon-benchmark-process || echo \"Argo workflow already deleted or not exists\""
   ]
  },
  {
   "cell_type": "code",
   "execution_count": null,
   "metadata": {},
   "outputs": [],
   "source": [
    "!kubectl delete -n argo -f https://raw.githubusercontent.com/argoproj/argo/v3.1.0/manifests/install.yaml"
   ]
  },
  {
   "cell_type": "markdown",
   "metadata": {},
   "source": [
    "## Deeper Analysis\n",
    "Now that we have all the parameters, we can do a deeper analysis"
   ]
  },
  {
   "cell_type": "code",
   "execution_count": 497,
   "metadata": {},
   "outputs": [
    {
     "data": {
      "text/html": [
       "<div>\n",
       "<style scoped>\n",
       "    .dataframe tbody tr th:only-of-type {\n",
       "        vertical-align: middle;\n",
       "    }\n",
       "\n",
       "    .dataframe tbody tr th {\n",
       "        vertical-align: top;\n",
       "    }\n",
       "\n",
       "    .dataframe thead th {\n",
       "        text-align: right;\n",
       "    }\n",
       "</style>\n",
       "<table border=\"1\" class=\"dataframe\">\n",
       "  <thead>\n",
       "    <tr style=\"text-align: right;\">\n",
       "      <th></th>\n",
       "      <th>mean</th>\n",
       "      <th>50th</th>\n",
       "      <th>90th</th>\n",
       "      <th>95th</th>\n",
       "      <th>99th</th>\n",
       "      <th>throughputAchieved</th>\n",
       "      <th>success</th>\n",
       "      <th>errors</th>\n",
       "      <th>name</th>\n",
       "      <th>replicas</th>\n",
       "      <th>...</th>\n",
       "      <th>apiType</th>\n",
       "      <th>requestsCpu</th>\n",
       "      <th>requestsMemory</th>\n",
       "      <th>limitsCpu</th>\n",
       "      <th>limitsMemory</th>\n",
       "      <th>benchmarkCpu</th>\n",
       "      <th>concurrency</th>\n",
       "      <th>duration</th>\n",
       "      <th>rate</th>\n",
       "      <th>disableOrchestrator</th>\n",
       "    </tr>\n",
       "  </thead>\n",
       "  <tbody>\n",
       "    <tr>\n",
       "      <th>0</th>\n",
       "      <td>6.828045</td>\n",
       "      <td>6.390520</td>\n",
       "      <td>9.264792</td>\n",
       "      <td>10.765109</td>\n",
       "      <td>14.086176</td>\n",
       "      <td>146.276304</td>\n",
       "      <td>4389</td>\n",
       "      <td>0</td>\n",
       "      <td>sklearn-1</td>\n",
       "      <td>1</td>\n",
       "      <td>...</td>\n",
       "      <td>rest</td>\n",
       "      <td>500Mi</td>\n",
       "      <td>100Mi</td>\n",
       "      <td>50m</td>\n",
       "      <td>1000Mi</td>\n",
       "      <td>5</td>\n",
       "      <td>1</td>\n",
       "      <td>30s</td>\n",
       "      <td>0</td>\n",
       "      <td>false</td>\n",
       "    </tr>\n",
       "    <tr>\n",
       "      <th>1</th>\n",
       "      <td>5.401355</td>\n",
       "      <td>5.254559</td>\n",
       "      <td>6.584599</td>\n",
       "      <td>7.153629</td>\n",
       "      <td>8.984036</td>\n",
       "      <td>184.916561</td>\n",
       "      <td>5549</td>\n",
       "      <td>0</td>\n",
       "      <td>sklearn-5</td>\n",
       "      <td>1</td>\n",
       "      <td>...</td>\n",
       "      <td>rest</td>\n",
       "      <td>2000Mi</td>\n",
       "      <td>100Mi</td>\n",
       "      <td>50m</td>\n",
       "      <td>1000Mi</td>\n",
       "      <td>5</td>\n",
       "      <td>1</td>\n",
       "      <td>30s</td>\n",
       "      <td>0</td>\n",
       "      <td>false</td>\n",
       "    </tr>\n",
       "    <tr>\n",
       "      <th>2</th>\n",
       "      <td>5.291129</td>\n",
       "      <td>5.183541</td>\n",
       "      <td>6.444586</td>\n",
       "      <td>7.040763</td>\n",
       "      <td>9.199069</td>\n",
       "      <td>188.787112</td>\n",
       "      <td>5665</td>\n",
       "      <td>0</td>\n",
       "      <td>sklearn-4</td>\n",
       "      <td>1</td>\n",
       "      <td>...</td>\n",
       "      <td>rest</td>\n",
       "      <td>2000Mi</td>\n",
       "      <td>100Mi</td>\n",
       "      <td>50m</td>\n",
       "      <td>1000Mi</td>\n",
       "      <td>5</td>\n",
       "      <td>1</td>\n",
       "      <td>30s</td>\n",
       "      <td>0</td>\n",
       "      <td>true</td>\n",
       "    </tr>\n",
       "    <tr>\n",
       "      <th>3</th>\n",
       "      <td>4.646862</td>\n",
       "      <td>4.383044</td>\n",
       "      <td>5.952588</td>\n",
       "      <td>6.775633</td>\n",
       "      <td>9.886973</td>\n",
       "      <td>215.054059</td>\n",
       "      <td>6453</td>\n",
       "      <td>0</td>\n",
       "      <td>sklearn-15</td>\n",
       "      <td>1</td>\n",
       "      <td>...</td>\n",
       "      <td>rest</td>\n",
       "      <td>1000Mi</td>\n",
       "      <td>100Mi</td>\n",
       "      <td>50m</td>\n",
       "      <td>1000Mi</td>\n",
       "      <td>5</td>\n",
       "      <td>1</td>\n",
       "      <td>30s</td>\n",
       "      <td>0</td>\n",
       "      <td>false</td>\n",
       "    </tr>\n",
       "    <tr>\n",
       "      <th>4</th>\n",
       "      <td>6.568330</td>\n",
       "      <td>6.142206</td>\n",
       "      <td>8.891155</td>\n",
       "      <td>10.257702</td>\n",
       "      <td>13.721939</td>\n",
       "      <td>152.068454</td>\n",
       "      <td>4563</td>\n",
       "      <td>0</td>\n",
       "      <td>sklearn-0</td>\n",
       "      <td>1</td>\n",
       "      <td>...</td>\n",
       "      <td>rest</td>\n",
       "      <td>500Mi</td>\n",
       "      <td>100Mi</td>\n",
       "      <td>50m</td>\n",
       "      <td>1000Mi</td>\n",
       "      <td>5</td>\n",
       "      <td>1</td>\n",
       "      <td>30s</td>\n",
       "      <td>0</td>\n",
       "      <td>true</td>\n",
       "    </tr>\n",
       "  </tbody>\n",
       "</table>\n",
       "<p>5 rows × 25 columns</p>\n",
       "</div>"
      ],
      "text/plain": [
       "       mean      50th      90th       95th       99th  throughputAchieved  \\\n",
       "0  6.828045  6.390520  9.264792  10.765109  14.086176          146.276304   \n",
       "1  5.401355  5.254559  6.584599   7.153629   8.984036          184.916561   \n",
       "2  5.291129  5.183541  6.444586   7.040763   9.199069          188.787112   \n",
       "3  4.646862  4.383044  5.952588   6.775633   9.886973          215.054059   \n",
       "4  6.568330  6.142206  8.891155  10.257702  13.721939          152.068454   \n",
       "\n",
       "   success  errors        name replicas  ... apiType requestsCpu  \\\n",
       "0     4389       0   sklearn-1        1  ...    rest       500Mi   \n",
       "1     5549       0   sklearn-5        1  ...    rest      2000Mi   \n",
       "2     5665       0   sklearn-4        1  ...    rest      2000Mi   \n",
       "3     6453       0  sklearn-15        1  ...    rest      1000Mi   \n",
       "4     4563       0   sklearn-0        1  ...    rest       500Mi   \n",
       "\n",
       "  requestsMemory limitsCpu limitsMemory benchmarkCpu concurrency duration  \\\n",
       "0          100Mi       50m       1000Mi            5           1      30s   \n",
       "1          100Mi       50m       1000Mi            5           1      30s   \n",
       "2          100Mi       50m       1000Mi            5           1      30s   \n",
       "3          100Mi       50m       1000Mi            5           1      30s   \n",
       "4          100Mi       50m       1000Mi            5           1      30s   \n",
       "\n",
       "  rate disableOrchestrator  \n",
       "0    0               false  \n",
       "1    0               false  \n",
       "2    0                true  \n",
       "3    0               false  \n",
       "4    0                true  \n",
       "\n",
       "[5 rows x 25 columns]"
      ]
     },
     "execution_count": 497,
     "metadata": {},
     "output_type": "execute_result"
    }
   ],
   "source": [
    "import pandas as pd\n",
    "\n",
    "df = pd.DataFrame.from_dict(results)\n",
    "df.head()"
   ]
  },
  {
   "cell_type": "code",
   "execution_count": null,
   "metadata": {},
   "outputs": [],
   "source": []
  }
 ],
 "metadata": {
  "kernelspec": {
   "display_name": "Python 3",
   "language": "python",
   "name": "python3"
  },
  "language_info": {
   "codemirror_mode": {
    "name": "ipython",
    "version": 3
   },
   "file_extension": ".py",
   "mimetype": "text/x-python",
   "name": "python",
   "nbconvert_exporter": "python",
   "pygments_lexer": "ipython3",
   "version": "3.7.4"
  }
 },
 "nbformat": 4,
 "nbformat_minor": 2
}
