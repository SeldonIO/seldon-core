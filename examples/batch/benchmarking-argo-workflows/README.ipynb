{
 "cells": [
  {
   "cell_type": "markdown",
   "metadata": {},
   "source": [
    "## Benchmarking with Argo Worfklows & Vegeta\n",
    "\n",
    "In this notebook we will dive into how you can run bench marking with batch processing with Argo Workflows, Seldon Core and Vegeta.\n",
    "\n",
    "Dependencies:\n",
    "\n",
    "* Seldon core installed as per the docs with Istio as an ingress \n",
    "* Argo Workfklows installed in cluster (and argo CLI for commands)\n"
   ]
  },
  {
   "cell_type": "markdown",
   "metadata": {},
   "source": [
    "## Setup\n",
    "\n",
    "### Install Seldon Core\n",
    "Use the notebook to [set-up Seldon Core with Ambassador or Istio Ingress](https://docs.seldon.io/projects/seldon-core/en/latest/examples/seldon_core_setup.html).\n",
    "\n",
    "Note: If running with KIND you need to make sure do follow [these steps](https://github.com/argoproj/argo/issues/2376#issuecomment-595593237) as workaround to the `/.../docker.sock` known issue.\n"
   ]
  },
  {
   "cell_type": "markdown",
   "metadata": {},
   "source": [
    "### Install Argo Workflows\n",
    "You can follow the instructions from the official [Argo Workflows Documentation](https://github.com/argoproj/argo#quickstart).\n",
    "\n",
    "You also need to make sure that argo has permissions to create seldon deployments - for this you can just create a default-admin rolebinding as follows:"
   ]
  },
  {
   "cell_type": "code",
   "execution_count": 2,
   "metadata": {},
   "outputs": [
    {
     "name": "stdout",
     "output_type": "stream",
     "text": [
      "rolebinding.rbac.authorization.k8s.io/default-admin created\r\n"
     ]
    }
   ],
   "source": [
    "!kubectl create rolebinding default-admin --clusterrole=admin --serviceaccount=default:default"
   ]
  },
  {
   "cell_type": "markdown",
   "metadata": {},
   "source": [
    "### Create Benchmark Argo Workflow\n",
    "\n",
    "In order to create a benchmark, we created a simple argo workflow template so you can leverage the power of the helm charts.\n",
    "\n",
    "Before we dive into the contents of the full helm chart, let's first give it a try with some of the settings.\n",
    "\n",
    "We will run a batch job that will set up a Seldon Deployment with 1 replicas and 4 cpus (with 100 max workers) to send requests."
   ]
  },
  {
   "cell_type": "code",
   "execution_count": 287,
   "metadata": {
    "scrolled": false
   },
   "outputs": [
    {
     "name": "stdout",
     "output_type": "stream",
     "text": [
      "Name:                seldon-benchmark-process\r\n",
      "Namespace:           default\r\n",
      "ServiceAccount:      default\r\n",
      "Status:              Pending\r\n",
      "Created:             Fri Aug 07 17:55:06 +0100 (now)\r\n"
     ]
    }
   ],
   "source": [
    "!helm template seldon-benchmark-workflow helm-charts/seldon-benchmark-workflow/ \\\n",
    "    --set workflow.name=seldon-benchmark-process \\\n",
    "    --set seldonDeployment.name=sklearn \\\n",
    "    --set seldonDeployment.replicas=1 \\\n",
    "    --set seldonDeployment.serverWorkers=1 \\\n",
    "    --set seldonDeployment.serverThreads=10 \\\n",
    "    --set seldonDeployment.apiType=rest \\\n",
    "    --set benchmark.cpus=4 \\\n",
    "    --set benchmark.maxWorkers=100 \\\n",
    "    --set benchmark.duration=30s \\\n",
    "    --set benchmark.rate=0 \\\n",
    "    --set benchmark.data='\\{\"data\": {\"ndarray\": [[0\\,1\\,2\\,3]]\\}\\}' \\\n",
    "    | argo submit -"
   ]
  },
  {
   "cell_type": "code",
   "execution_count": 288,
   "metadata": {},
   "outputs": [
    {
     "name": "stdout",
     "output_type": "stream",
     "text": [
      "NAME                       STATUS    AGE   DURATION   PRIORITY\r\n",
      "seldon-benchmark-process   Running   3s    3s         0\r\n"
     ]
    }
   ],
   "source": [
    "!argo list"
   ]
  },
  {
   "cell_type": "code",
   "execution_count": 335,
   "metadata": {},
   "outputs": [
    {
     "name": "stdout",
     "output_type": "stream",
     "text": [
      "Name:                seldon-benchmark-process\r\n",
      "Namespace:           default\r\n",
      "ServiceAccount:      default\r\n",
      "Status:              Succeeded\r\n",
      "Created:             Fri Aug 07 17:55:06 +0100 (1 minute ago)\r\n",
      "Started:             Fri Aug 07 17:55:06 +0100 (1 minute ago)\r\n",
      "Finished:            Fri Aug 07 17:56:11 +0100 (3 seconds ago)\r\n",
      "Duration:            1 minute 5 seconds\r\n",
      "\r\n",
      "\u001b[39mSTEP\u001b[0m                                                             PODNAME                              DURATION  MESSAGE\r\n",
      " \u001b[32m✔\u001b[0m seldon-benchmark-process (seldon-benchmark-process)                                                          \r\n",
      " ├---\u001b[32m✔\u001b[0m create-seldon-resource (create-seldon-resource-template)  seldon-benchmark-process-3980407503  2s        \r\n",
      " ├---\u001b[32m✔\u001b[0m wait-seldon-resource (wait-seldon-resource-template)      seldon-benchmark-process-2136965893  27s       \r\n",
      " └---\u001b[32m✔\u001b[0m run-benchmark (run-benchmark-template)                    seldon-benchmark-process-780051119   32s       \r\n"
     ]
    }
   ],
   "source": [
    "!argo get seldon-benchmark-process"
   ]
  },
  {
   "cell_type": "code",
   "execution_count": 336,
   "metadata": {},
   "outputs": [
    {
     "name": "stdout",
     "output_type": "stream",
     "text": [
      "\u001b[35mcreate-seldon-resource\u001b[0m:\ttime=\"2020-08-07T16:55:07.490Z\" level=info msg=\"Starting Workflow Executor\" version=v2.9.3\r\n",
      "\u001b[35mcreate-seldon-resource\u001b[0m:\ttime=\"2020-08-07T16:55:07.497Z\" level=info msg=\"Creating a docker executor\"\r\n",
      "\u001b[35mcreate-seldon-resource\u001b[0m:\ttime=\"2020-08-07T16:55:07.499Z\" level=info msg=\"Executor (version: v2.9.3, build_date: 2020-07-18T19:11:19Z) initialized (pod: default/seldon-benchmark-process-3980407503) with template:\\n{\\\"name\\\":\\\"create-seldon-resource-template\\\",\\\"arguments\\\":{},\\\"inputs\\\":{},\\\"outputs\\\":{},\\\"metadata\\\":{},\\\"resource\\\":{\\\"action\\\":\\\"create\\\",\\\"manifest\\\":\\\"apiVersion: machinelearning.seldon.io/v1\\\\nkind: SeldonDeployment\\\\nmetadata:\\\\n  name: \\\\\\\"sklearn\\\\\\\"\\\\n  namespace: default\\\\n  ownerReferences:\\\\n  - apiVersion: argoproj.io/v1alpha1\\\\n    blockOwnerDeletion: true\\\\n    kind: Workflow\\\\n    name: \\\\\\\"seldon-benchmark-process\\\\\\\"\\\\n    uid: \\\\\\\"b56998f0-2f6c-4f76-89b3-8b8b24ee9ec4\\\\\\\"\\\\nspec:\\\\n  name: \\\\\\\"sklearn\\\\\\\"\\\\n  transport: rest\\\\n  predictors:\\\\n    - componentSpecs:\\\\n      - spec:\\\\n        containers:\\\\n        - name: classifier\\\\n          env:\\\\n          - name: GUNICORN_THREADS\\\\n            value: 10\\\\n          - name: GUNICORN_WORKERS\\\\n            value: 1\\\\n          resources:\\\\n            requests:\\\\n              cpu: 50m\\\\n              memory: 100Mi\\\\n            limits:\\\\n              cpu: 50m\\\\n              memory: 1000Mi\\\\n      graph:\\\\n        children: []\\\\n        implementation: SKLEARN_SERVER\\\\n        modelUri: gs://seldon-models/sklearn/iris\\\\n        name: classifier\\\\n      name: default\\\\n      replicas: 1\\\\n\\\"}}\"\r\n",
      "\u001b[35mcreate-seldon-resource\u001b[0m:\ttime=\"2020-08-07T16:55:07.499Z\" level=info msg=\"Loading manifest to /tmp/manifest.yaml\"\r\n",
      "\u001b[35mcreate-seldon-resource\u001b[0m:\ttime=\"2020-08-07T16:55:07.499Z\" level=info msg=\"kubectl create -f /tmp/manifest.yaml -o json\"\r\n",
      "\u001b[35mcreate-seldon-resource\u001b[0m:\ttime=\"2020-08-07T16:55:08.210Z\" level=info msg=default/SeldonDeployment.machinelearning.seldon.io/sklearn\r\n",
      "\u001b[35mcreate-seldon-resource\u001b[0m:\ttime=\"2020-08-07T16:55:08.211Z\" level=info msg=\"No output parameters\"\r\n",
      "\u001b[32mwait-seldon-resource\u001b[0m:\tWaiting for deployment \"sklearn-default-0-classifier\" rollout to finish: 0 of 1 updated replicas are available...\r\n",
      "\u001b[32mwait-seldon-resource\u001b[0m:\tdeployment \"sklearn-default-0-classifier\" successfully rolled out\r\n",
      "\u001b[35mrun-benchmark\u001b[0m:\t{\"latencies\":{\"total\":3009995580656,\"mean\":273785299,\"50th\":223315257,\"90th\":262145632,\"95th\":271603494,\"99th\":2137159641,\"max\":5772979420,\"min\":17831002},\"bytes_in\":{\"total\":1363256,\"mean\":124},\"bytes_out\":{\"total\":373796,\"mean\":34},\"earliest\":\"2020-08-07T16:55:39.319895683Z\",\"latest\":\"2020-08-07T16:56:09.320730933Z\",\"end\":\"2020-08-07T16:56:09.523609512Z\",\"duration\":30000835250,\"wait\":202878579,\"requests\":10994,\"rate\":366.4564639079507,\"throughput\":363.9949730103768,\"success\":1,\"status_codes\":{\"200\":10994},\"errors\":[]}\r\n"
     ]
    }
   ],
   "source": [
    "!argo logs -w seldon-benchmark-process "
   ]
  },
  {
   "cell_type": "code",
   "execution_count": 337,
   "metadata": {},
   "outputs": [
    {
     "name": "stdout",
     "output_type": "stream",
     "text": [
      "Latencies:\n",
      "\tmean: 273.785299 ms\n",
      "\t50th: 223.315257 ms\n",
      "\t90th: 262.145632 ms\n",
      "\t95th: 271.603494 ms\n",
      "\t99th: 2137.159641 ms\n",
      "\n",
      "Throughput: 363.9949730103768/s\n",
      "Errors: False\n"
     ]
    }
   ],
   "source": [
    "import json\n",
    "wf_logs = !argo logs -w seldon-benchmark-process \n",
    "wf_bench = wf_logs[-1]\n",
    "wf_json_str = wf_bench[24:]\n",
    "results = json.loads(wf_json_str)\n",
    "\n",
    "print(\"Latencies:\")\n",
    "print(\"\\tmean:\", results[\"latencies\"][\"mean\"] / 1e6, \"ms\")\n",
    "print(\"\\t50th:\", results[\"latencies\"][\"50th\"] / 1e6, \"ms\")\n",
    "print(\"\\t90th:\", results[\"latencies\"][\"90th\"] / 1e6, \"ms\")\n",
    "print(\"\\t95th:\", results[\"latencies\"][\"95th\"] / 1e6, \"ms\")\n",
    "print(\"\\t99th:\", results[\"latencies\"][\"99th\"] / 1e6, \"ms\")\n",
    "print(\"\")\n",
    "print(\"Throughput:\", str(results[\"throughput\"]) + \"/s\")\n",
    "print(\"Errors:\", len(results[\"errors\"]) > 0)"
   ]
  },
  {
   "cell_type": "code",
   "execution_count": 339,
   "metadata": {},
   "outputs": [
    {
     "name": "stdout",
     "output_type": "stream",
     "text": [
      "Workflow 'seldon-benchmark-process' deleted\r\n"
     ]
    }
   ],
   "source": [
    "!argo delete seldon-benchmark-process"
   ]
  },
  {
   "cell_type": "markdown",
   "metadata": {},
   "source": [
    "## Create GRPC benchmark with GHZ and Argo Workflows "
   ]
  },
  {
   "cell_type": "code",
   "execution_count": 340,
   "metadata": {},
   "outputs": [
    {
     "name": "stdout",
     "output_type": "stream",
     "text": [
      "Name:                seldon-benchmark-process\r\n",
      "Namespace:           default\r\n",
      "ServiceAccount:      default\r\n",
      "Status:              Pending\r\n",
      "Created:             Fri Aug 07 17:56:34 +0100 (now)\r\n"
     ]
    }
   ],
   "source": [
    "!helm template seldon-benchmark-workflow helm-charts/seldon-benchmark-workflow/ \\\n",
    "    --set workflow.name=seldon-benchmark-process \\\n",
    "    --set seldonDeployment.name=sklearn \\\n",
    "    --set seldonDeployment.replicas=1 \\\n",
    "    --set seldonDeployment.serverWorkers=1 \\\n",
    "    --set seldonDeployment.serverThreads=10 \\\n",
    "    --set seldonDeployment.apiType=grpc \\\n",
    "    --set benchmark.cpus=4 \\\n",
    "    --set benchmark.maxWorkers=100 \\\n",
    "    --set benchmark.duration=\"30s\" \\\n",
    "    --set benchmark.rate=0 \\\n",
    "    --set benchmark.data='\\{\"data\": {\"ndarray\": [[0\\,1\\,2\\,3]]\\}\\}' \\\n",
    "    | argo submit -"
   ]
  },
  {
   "cell_type": "code",
   "execution_count": 341,
   "metadata": {},
   "outputs": [
    {
     "name": "stdout",
     "output_type": "stream",
     "text": [
      "NAME                       STATUS    AGE   DURATION   PRIORITY\r\n",
      "seldon-benchmark-process   Running   3s    3s         0\r\n"
     ]
    }
   ],
   "source": [
    "!argo list"
   ]
  },
  {
   "cell_type": "code",
   "execution_count": 406,
   "metadata": {},
   "outputs": [
    {
     "name": "stdout",
     "output_type": "stream",
     "text": [
      "Name:                seldon-benchmark-process\n",
      "Namespace:           default\n",
      "ServiceAccount:      default\n",
      "Status:              Succeeded\n",
      "Created:             Fri Aug 07 17:56:34 +0100 (1 minute ago)\n",
      "Started:             Fri Aug 07 17:56:34 +0100 (1 minute ago)\n",
      "Finished:            Fri Aug 07 17:57:36 +0100 (6 seconds ago)\n",
      "Duration:            1 minute 2 seconds\n",
      "\n",
      "\u001b[39mSTEP\u001b[0m                                                             PODNAME                              DURATION  MESSAGE\n",
      " \u001b[32m✔\u001b[0m seldon-benchmark-process (seldon-benchmark-process)                                                          \n",
      " ├---\u001b[32m✔\u001b[0m create-seldon-resource (create-seldon-resource-template)  seldon-benchmark-process-3980407503  1s        \n",
      " ├---\u001b[32m✔\u001b[0m wait-seldon-resource (wait-seldon-resource-template)      seldon-benchmark-process-2136965893  25s       \n",
      " └---\u001b[32m✔\u001b[0m run-benchmark (run-benchmark-template)                    seldon-benchmark-process-780051119   31s       \n"
     ]
    }
   ],
   "source": [
    "!argo get seldon-benchmark-process"
   ]
  },
  {
   "cell_type": "code",
   "execution_count": 408,
   "metadata": {},
   "outputs": [
    {
     "name": "stdout",
     "output_type": "stream",
     "text": [
      "\u001b[35mcreate-seldon-resource\u001b[0m:\ttime=\"2020-08-07T16:56:35.211Z\" level=info msg=\"Starting Workflow Executor\" version=v2.9.3\r\n",
      "\u001b[35mcreate-seldon-resource\u001b[0m:\ttime=\"2020-08-07T16:56:35.214Z\" level=info msg=\"Creating a docker executor\"\r\n",
      "\u001b[35mcreate-seldon-resource\u001b[0m:\ttime=\"2020-08-07T16:56:35.214Z\" level=info msg=\"Executor (version: v2.9.3, build_date: 2020-07-18T19:11:19Z) initialized (pod: default/seldon-benchmark-process-3980407503) with template:\\n{\\\"name\\\":\\\"create-seldon-resource-template\\\",\\\"arguments\\\":{},\\\"inputs\\\":{},\\\"outputs\\\":{},\\\"metadata\\\":{},\\\"resource\\\":{\\\"action\\\":\\\"create\\\",\\\"manifest\\\":\\\"apiVersion: machinelearning.seldon.io/v1\\\\nkind: SeldonDeployment\\\\nmetadata:\\\\n  name: \\\\\\\"sklearn\\\\\\\"\\\\n  namespace: default\\\\n  ownerReferences:\\\\n  - apiVersion: argoproj.io/v1alpha1\\\\n    blockOwnerDeletion: true\\\\n    kind: Workflow\\\\n    name: \\\\\\\"seldon-benchmark-process\\\\\\\"\\\\n    uid: \\\\\\\"8164ae2c-9578-47d1-8007-356c5c9c4d65\\\\\\\"\\\\nspec:\\\\n  name: \\\\\\\"sklearn\\\\\\\"\\\\n  transport: grpc\\\\n  predictors:\\\\n    - componentSpecs:\\\\n      - spec:\\\\n        containers:\\\\n        - name: classifier\\\\n          env:\\\\n          - name: GUNICORN_THREADS\\\\n            value: 10\\\\n          - name: GUNICORN_WORKERS\\\\n            value: 1\\\\n          resources:\\\\n            requests:\\\\n              cpu: 50m\\\\n              memory: 100Mi\\\\n            limits:\\\\n              cpu: 50m\\\\n              memory: 1000Mi\\\\n      graph:\\\\n        children: []\\\\n        implementation: SKLEARN_SERVER\\\\n        modelUri: gs://seldon-models/sklearn/iris\\\\n        name: classifier\\\\n      name: default\\\\n      replicas: 1\\\\n\\\"}}\"\r\n",
      "\u001b[35mcreate-seldon-resource\u001b[0m:\ttime=\"2020-08-07T16:56:35.214Z\" level=info msg=\"Loading manifest to /tmp/manifest.yaml\"\r\n",
      "\u001b[35mcreate-seldon-resource\u001b[0m:\ttime=\"2020-08-07T16:56:35.214Z\" level=info msg=\"kubectl create -f /tmp/manifest.yaml -o json\"\r\n",
      "\u001b[35mcreate-seldon-resource\u001b[0m:\ttime=\"2020-08-07T16:56:35.772Z\" level=info msg=default/SeldonDeployment.machinelearning.seldon.io/sklearn\r\n",
      "\u001b[35mcreate-seldon-resource\u001b[0m:\ttime=\"2020-08-07T16:56:35.772Z\" level=info msg=\"No output parameters\"\r\n",
      "\u001b[32mwait-seldon-resource\u001b[0m:\tWaiting for deployment \"sklearn-default-0-classifier\" rollout to finish: 0 of 1 updated replicas are available...\r\n",
      "\u001b[32mwait-seldon-resource\u001b[0m:\tdeployment \"sklearn-default-0-classifier\" successfully rolled out\r\n",
      "\u001b[35mrun-benchmark\u001b[0m:\t{\"date\":\"2020-08-07T16:57:35Z\",\"endReason\":\"timeout\",\"options\":{\"host\":\"istio-ingressgateway.istio-system.svc.cluster.local:80\",\"proto\":\"/proto/prediction.proto\",\"import-paths\":[\"/proto\",\".\"],\"call\":\"seldon.protos.Seldon/Predict\",\"insecure\":true,\"total\":2147483647,\"concurrency\":50,\"connections\":1,\"duration\":30000000000,\"timeout\":20000000000,\"dial-timeout\":10000000000,\"data\":{\"data\":{\"ndarray\":[[0,1,2,3]]}},\"binary\":false,\"metadata\":{\"namespace\":\"default\",\"seldon\":\"sklearn\"},\"CPUs\":4},\"count\":15426,\"total\":30000789586,\"average\":96978401,\"fastest\":25564101,\"slowest\":213825809,\"rps\":514.1864668521462,\"errorDistribution\":{\"rpc error: code = Unavailable desc = transport is closing\":50},\"statusCodeDistribution\":{\"OK\":15376,\"Unavailable\":50},\"latencyDistribution\":[{\"percentage\":10,\"latency\":74147803},{\"percentage\":25,\"latency\":81290000},{\"percentage\":50,\"latency\":95194883},{\"percentage\":75,\"latency\":108884099},{\"percentage\":90,\"latency\":123530079},{\"percentage\":95,\"latency\":133409105},{\"percentage\":99,\"latency\":153339606}]}\r\n"
     ]
    }
   ],
   "source": [
    "!argo logs -w seldon-benchmark-process "
   ]
  },
  {
   "cell_type": "code",
   "execution_count": 409,
   "metadata": {},
   "outputs": [
    {
     "name": "stdout",
     "output_type": "stream",
     "text": [
      "Latencies:\n",
      "\tmean: 96.978401 ms\n",
      "\t50th: 95.194883 ms\n",
      "\t90th: 123.530079 ms\n",
      "\t95th: 133.409105 ms\n",
      "\t99th: 153.339606 ms\n",
      "\n",
      "rps: 514.1864668521462/s\n",
      "Errors: True\n",
      "Errors: {'OK': 15376, 'Unavailable': 50}\n"
     ]
    }
   ],
   "source": [
    "import json\n",
    "wf_logs = !argo logs -w seldon-benchmark-process \n",
    "wf_bench = wf_logs[-1]\n",
    "wf_json_str = wf_bench[24:]\n",
    "results = json.loads(wf_json_str)\n",
    "\n",
    "print(\"Latencies:\")\n",
    "print(\"\\tmean:\", results[\"average\"] / 1e6, \"ms\")\n",
    "print(\"\\t50th:\", results[\"latencyDistribution\"][-5][\"latency\"] / 1e6, \"ms\")\n",
    "print(\"\\t90th:\", results[\"latencyDistribution\"][-3][\"latency\"] / 1e6, \"ms\")\n",
    "print(\"\\t95th:\", results[\"latencyDistribution\"][-2][\"latency\"] / 1e6, \"ms\")\n",
    "print(\"\\t99th:\", results[\"latencyDistribution\"][-1][\"latency\"] / 1e6, \"ms\")\n",
    "print(\"\")\n",
    "print(\"Rate:\", str(results[\"rps\"]) + \"/s\")\n",
    "print(\"Errors:\", results[\"statusCodeDistribution\"].get(\"Unavailable\", 0) > 0)\n",
    "print(\"Errors:\", results[\"statusCodeDistribution\"])"
   ]
  },
  {
   "cell_type": "code",
   "execution_count": 410,
   "metadata": {},
   "outputs": [
    {
     "name": "stdout",
     "output_type": "stream",
     "text": [
      "Workflow 'seldon-benchmark-process' deleted\r\n"
     ]
    }
   ],
   "source": [
    "!argo delete seldon-benchmark-process"
   ]
  },
  {
   "cell_type": "code",
   "execution_count": null,
   "metadata": {},
   "outputs": [],
   "source": []
  }
 ],
 "metadata": {
  "kernelspec": {
   "display_name": "Python 3",
   "language": "python",
   "name": "python3"
  },
  "language_info": {
   "codemirror_mode": {
    "name": "ipython",
    "version": 3
   },
   "file_extension": ".py",
   "mimetype": "text/x-python",
   "name": "python",
   "nbconvert_exporter": "python",
   "pygments_lexer": "ipython3",
   "version": "3.7.4"
  }
 },
 "nbformat": 4,
 "nbformat_minor": 2
}
