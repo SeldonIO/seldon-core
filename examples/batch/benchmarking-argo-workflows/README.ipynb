{
 "cells": [
  {
   "cell_type": "markdown",
   "metadata": {},
   "source": [
    "## Benchmarking with Argo Worfklows & Vegeta\n",
    "\n",
    "In this notebook we will dive into how you can run bench marking with batch processing with Argo Workflows, Seldon Core and Vegeta.\n",
    "\n",
    "Dependencies:\n",
    "\n",
    "* Seldon core installed as per the docs with Istio as an ingress \n",
    "* Argo Workfklows installed in cluster (and argo CLI for commands)\n"
   ]
  },
  {
   "cell_type": "markdown",
   "metadata": {},
   "source": [
    "## Setup\n",
    "\n",
    "### Install Seldon Core\n",
    "Use the notebook to [set-up Seldon Core with Ambassador or Istio Ingress](https://docs.seldon.io/projects/seldon-core/en/latest/examples/seldon_core_setup.html).\n",
    "\n",
    "Note: If running with KIND you need to make sure do follow [these steps](https://github.com/argoproj/argo/issues/2376#issuecomment-595593237) as workaround to the `/.../docker.sock` known issue.\n"
   ]
  },
  {
   "cell_type": "markdown",
   "metadata": {},
   "source": [
    "### Install Argo Workflows\n",
    "You can follow the instructions from the official [Argo Workflows Documentation](https://github.com/argoproj/argo#quickstart).\n",
    "\n",
    "Download the right CLi for your environment following the documentation (https://github.com/argoproj/argo-workflows/releases/tag/v3.0.8)\n",
    "\n",
    "You also need to make sure that argo has permissions to create seldon deployments - for this you can just create a default-admin rolebinding as follows:"
   ]
  },
  {
   "cell_type": "code",
   "execution_count": 660,
   "metadata": {},
   "outputs": [
    {
     "name": "stdout",
     "output_type": "stream",
     "text": [
      "Error from server (AlreadyExists): namespaces \"argo\" already exists\n",
      "namespace already created\n",
      "customresourcedefinition.apiextensions.k8s.io/clusterworkflowtemplates.argoproj.io created\n",
      "customresourcedefinition.apiextensions.k8s.io/cronworkflows.argoproj.io created\n",
      "customresourcedefinition.apiextensions.k8s.io/workfloweventbindings.argoproj.io created\n",
      "customresourcedefinition.apiextensions.k8s.io/workflows.argoproj.io created\n",
      "customresourcedefinition.apiextensions.k8s.io/workflowtemplates.argoproj.io created\n",
      "serviceaccount/argo created\n",
      "serviceaccount/argo-server created\n",
      "role.rbac.authorization.k8s.io/argo-role created\n",
      "clusterrole.rbac.authorization.k8s.io/argo-aggregate-to-admin created\n",
      "clusterrole.rbac.authorization.k8s.io/argo-aggregate-to-edit created\n",
      "clusterrole.rbac.authorization.k8s.io/argo-aggregate-to-view created\n",
      "clusterrole.rbac.authorization.k8s.io/argo-cluster-role created\n",
      "clusterrole.rbac.authorization.k8s.io/argo-server-cluster-role created\n",
      "rolebinding.rbac.authorization.k8s.io/argo-binding created\n",
      "clusterrolebinding.rbac.authorization.k8s.io/argo-binding created\n",
      "clusterrolebinding.rbac.authorization.k8s.io/argo-server-binding created\n",
      "configmap/workflow-controller-configmap created\n",
      "service/argo-server created\n",
      "service/workflow-controller-metrics created\n",
      "deployment.apps/argo-server created\n",
      "deployment.apps/workflow-controller created\n",
      "Waiting for deployment \"argo-server\" rollout to finish: 0 of 1 updated replicas are available...\n",
      "deployment \"argo-server\" successfully rolled out\n",
      "deployment \"workflow-controller\" successfully rolled out\n"
     ]
    }
   ],
   "source": [
    "!kubectl create namespace argo || echo \"namespace already created\"\n",
    "!kubectl apply -n argo -f https://raw.githubusercontent.com/argoproj/argo/stable/manifests/install.yaml\n",
    "!kubectl rollout status -n argo deployment/argo-server\n",
    "!kubectl rollout status -n argo deployment/workflow-controller"
   ]
  },
  {
   "cell_type": "markdown",
   "metadata": {},
   "source": [
    "Set up the RBAC so the argo workflow is able to create seldon deployments."
   ]
  },
  {
   "cell_type": "code",
   "execution_count": 661,
   "metadata": {},
   "outputs": [
    {
     "name": "stdout",
     "output_type": "stream",
     "text": [
      "rolebinding.rbac.authorization.k8s.io/argo-default-admin created\n",
      "rolebinding.rbac.authorization.k8s.io/argo-seldon-workflow created\n"
     ]
    }
   ],
   "source": [
    "# RBAC for argo job to be able to access it's information as it progresses\n",
    "!kubectl create rolebinding argo-default-admin --clusterrole=admin --serviceaccount=argo:default -n argo\n",
    "# RBAC for argo workflow to be able to create seldon resources\n",
    "!kubectl create rolebinding argo-seldon-workflow --clusterrole=seldon-manager-role-seldon-system --serviceaccount=argo:default -n argo"
   ]
  },
  {
   "cell_type": "markdown",
   "metadata": {},
   "source": [
    "Set up the configmap in order for it to work in KIND and other environments where Docker may not be thr main runtime (see https://github.com/argoproj/argo-workflows/issues/5243#issuecomment-792993742)"
   ]
  },
  {
   "cell_type": "code",
   "execution_count": 662,
   "metadata": {},
   "outputs": [
    {
     "name": "stdout",
     "output_type": "stream",
     "text": [
      "configmap/workflow-controller-configmap configured\n"
     ]
    }
   ],
   "source": [
    "%%bash\n",
    "kubectl apply -n argo -f - << END\n",
    "apiVersion: v1\n",
    "kind: ConfigMap\n",
    "metadata:\n",
    "  name: workflow-controller-configmap\n",
    "data:\n",
    "  containerRuntimeExecutor: k8sapi\n",
    "END"
   ]
  },
  {
   "cell_type": "markdown",
   "metadata": {},
   "source": [
    "### Create Benchmark Argo Workflow\n",
    "\n",
    "In order to create a benchmark, we created a simple argo workflow template so you can leverage the power of the helm charts.\n",
    "\n",
    "Before we dive into the contents of the full helm chart, let's first give it a try with some of the settings.\n",
    "\n",
    "We will run a batch job that will set up a Seldon Deployment with 1 replicas and 4 cpus (with 100 max workers) to send requests."
   ]
  },
  {
   "cell_type": "code",
   "execution_count": 664,
   "metadata": {
    "scrolled": false
   },
   "outputs": [
    {
     "name": "stdout",
     "output_type": "stream",
     "text": [
      "Name:                seldon-benchmark-process\r\n",
      "Namespace:           argo\r\n",
      "ServiceAccount:      default\r\n",
      "Status:              Pending\r\n",
      "Created:             Sun Jun 27 14:30:24 +0100 (now)\r\n",
      "Progress:            \r\n"
     ]
    }
   ],
   "source": [
    "!helm template seldon-benchmark-workflow helm-charts/seldon-benchmark-workflow/ \\\n",
    "    --set workflow.namespace=argo \\\n",
    "    --set workflow.name=seldon-benchmark-process \\\n",
    "    --set workflow.parallelism=3 \\\n",
    "    --set seldonDeployment.name=sklearn \\\n",
    "    --set seldonDeployment.replicas=\"1\" \\\n",
    "    --set seldonDeployment.serverWorkers=\"2\" \\\n",
    "    --set seldonDeployment.serverThreads=1 \\\n",
    "    --set seldonDeployment.modelUri=\"gs://seldon-models/sklearn/iris\" \\\n",
    "    --set seldonDeployment.server=\"SKLEARN_SERVER\" \\\n",
    "    --set seldonDeployment.apiType=\"rest|grpc\" \\\n",
    "    --set seldonDeployment.requests.cpu=\"500Mi\" \\\n",
    "    --set seldonDeployment.requests.limits=\"2000Mi\" \\\n",
    "    --set seldonDeployment.disableOrchestrator=\"false\" \\\n",
    "    --set benchmark.cpu=\"5\" \\\n",
    "    --set benchmark.concurrency=\"1\" \\\n",
    "    --set benchmark.duration=\"30s\" \\\n",
    "    --set benchmark.rate=0 \\\n",
    "    --set benchmark.data='\\{\"data\": {\"ndarray\": [[0\\,1\\,2\\,3]]\\}\\}' \\\n",
    "    | argo submit -"
   ]
  },
  {
   "cell_type": "code",
   "execution_count": 665,
   "metadata": {},
   "outputs": [
    {
     "name": "stdout",
     "output_type": "stream",
     "text": [
      "NAME                       STATUS    AGE   DURATION   PRIORITY\r\n",
      "seldon-benchmark-process   Running   1s    1s         0\r\n"
     ]
    }
   ],
   "source": [
    "!argo list -n argo"
   ]
  },
  {
   "cell_type": "code",
   "execution_count": 666,
   "metadata": {},
   "outputs": [
    {
     "name": "stdout",
     "output_type": "stream",
     "text": [
      "\u001b[33mseldon-benchmark-process-635956972: [{\"name\": \"sklearn-0\", \"replicas\": \"1\", \"serverWorkers\": \"2\", \"serverThreads\": \"1\", \"modelUri\": \"gs://seldon-models/sklearn/iris\", \"image\": \"\", \"server\": \"SKLEARN_SERVER\", \"apiType\": \"rest\", \"requestsCpu\": \"500Mi\", \"requestsMemory\": \"100Mi\", \"limitsCpu\": \"50m\", \"limitsMemory\": \"1000Mi\", \"benchmarkCpu\": \"5\", \"concurrency\": \"1\", \"duration\": \"30s\", \"rate\": \"0\", \"disableOrchestrator\": \"false\", \"params\": \"{\\\"name\\\": \\\"sklearn-0\\\", \\\"replicas\\\": \\\"1\\\", \\\"serverWorkers\\\": \\\"2\\\", \\\"serverThreads\\\": \\\"1\\\", \\\"modelUri\\\": \\\"gs://seldon-models/sklearn/iris\\\", \\\"image\\\": \\\"\\\", \\\"server\\\": \\\"SKLEARN_SERVER\\\", \\\"apiType\\\": \\\"rest\\\", \\\"requestsCpu\\\": \\\"500Mi\\\", \\\"requestsMemory\\\": \\\"100Mi\\\", \\\"limitsCpu\\\": \\\"50m\\\", \\\"limitsMemory\\\": \\\"1000Mi\\\", \\\"benchmarkCpu\\\": \\\"5\\\", \\\"concurrency\\\": \\\"1\\\", \\\"duration\\\": \\\"30s\\\", \\\"rate\\\": \\\"0\\\", \\\"disableOrchestrator\\\": \\\"false\\\"}\"}, {\"name\": \"sklearn-1\", \"replicas\": \"1\", \"serverWorkers\": \"2\", \"serverThreads\": \"1\", \"modelUri\": \"gs://seldon-models/sklearn/iris\", \"image\": \"\", \"server\": \"SKLEARN_SERVER\", \"apiType\": \"grpc\", \"requestsCpu\": \"500Mi\", \"requestsMemory\": \"100Mi\", \"limitsCpu\": \"50m\", \"limitsMemory\": \"1000Mi\", \"benchmarkCpu\": \"5\", \"concurrency\": \"1\", \"duration\": \"30s\", \"rate\": \"0\", \"disableOrchestrator\": \"false\", \"params\": \"{\\\"name\\\": \\\"sklearn-1\\\", \\\"replicas\\\": \\\"1\\\", \\\"serverWorkers\\\": \\\"2\\\", \\\"serverThreads\\\": \\\"1\\\", \\\"modelUri\\\": \\\"gs://seldon-models/sklearn/iris\\\", \\\"image\\\": \\\"\\\", \\\"server\\\": \\\"SKLEARN_SERVER\\\", \\\"apiType\\\": \\\"grpc\\\", \\\"requestsCpu\\\": \\\"500Mi\\\", \\\"requestsMemory\\\": \\\"100Mi\\\", \\\"limitsCpu\\\": \\\"50m\\\", \\\"limitsMemory\\\": \\\"1000Mi\\\", \\\"benchmarkCpu\\\": \\\"5\\\", \\\"concurrency\\\": \\\"1\\\", \\\"duration\\\": \\\"30s\\\", \\\"rate\\\": \\\"0\\\", \\\"disableOrchestrator\\\": \\\"false\\\"}\"}]\u001b[0m\n",
      "\u001b[35mseldon-benchmark-process-3603152678: time=\"2021-06-27T13:30:35.684Z\" level=info msg=\"Starting Workflow Executor\" version=\"{v3.0.3 2021-05-11T21:14:20Z 02071057c082cf295ab8da68f1b2027ff8762b5a v3.0.3 clean go1.15.7 gc linux/amd64}\"\u001b[0m\n",
      "\u001b[33mseldon-benchmark-process-4143524011: time=\"2021-06-27T13:30:35.688Z\" level=info msg=\"Starting Workflow Executor\" version=\"{v3.0.3 2021-05-11T21:14:20Z 02071057c082cf295ab8da68f1b2027ff8762b5a v3.0.3 clean go1.15.7 gc linux/amd64}\"\u001b[0m\n",
      "\u001b[35mseldon-benchmark-process-3603152678: time=\"2021-06-27T13:30:35.690Z\" level=info msg=\"Creating a K8sAPI executor\"\u001b[0m\n",
      "\u001b[35mseldon-benchmark-process-3603152678: time=\"2021-06-27T13:30:35.691Z\" level=info msg=\"Executor (version: v3.0.3, build_date: 2021-05-11T21:14:20Z) initialized (pod: argo/seldon-benchmark-process-3603152678) with template:\\n{\\\"name\\\":\\\"create-seldon-resource-template\\\",\\\"inputs\\\":{\\\"parameters\\\":[{\\\"name\\\":\\\"inparam\\\",\\\"value\\\":\\\"sklearn-0\\\"},{\\\"name\\\":\\\"replicas\\\",\\\"value\\\":\\\"1\\\"},{\\\"name\\\":\\\"serverWorkers\\\",\\\"value\\\":\\\"2\\\"},{\\\"name\\\":\\\"serverThreads\\\",\\\"value\\\":\\\"1\\\"},{\\\"name\\\":\\\"modelUri\\\",\\\"value\\\":\\\"gs://seldon-models/sklearn/iris\\\"},{\\\"name\\\":\\\"image\\\",\\\"value\\\":\\\"\\\"},{\\\"name\\\":\\\"server\\\",\\\"value\\\":\\\"SKLEARN_SERVER\\\"},{\\\"name\\\":\\\"apiType\\\",\\\"value\\\":\\\"rest\\\"},{\\\"name\\\":\\\"requestsCpu\\\",\\\"value\\\":\\\"500Mi\\\"},{\\\"name\\\":\\\"requestsMemory\\\",\\\"value\\\":\\\"100Mi\\\"},{\\\"name\\\":\\\"limitsCpu\\\",\\\"value\\\":\\\"50m\\\"},{\\\"name\\\":\\\"limitsMemory\\\",\\\"value\\\":\\\"1000Mi\\\"},{\\\"name\\\":\\\"benchmarkCpu\\\",\\\"value\\\":\\\"5\\\"},{\\\"name\\\":\\\"concurrency\\\",\\\"value\\\":\\\"1\\\"},{\\\"name\\\":\\\"duration\\\",\\\"value\\\":\\\"30s\\\"},{\\\"name\\\":\\\"rate\\\",\\\"value\\\":\\\"0\\\"},{\\\"name\\\":\\\"params\\\",\\\"value\\\":\\\"{\\\\\\\\\\\\\\\"name\\\\\\\\\\\\\\\": \\\\\\\\\\\\\\\"sklearn-0\\\\\\\\\\\\\\\", \\\\\\\\\\\\\\\"replicas\\\\\\\\\\\\\\\": \\\\\\\\\\\\\\\"1\\\\\\\\\\\\\\\", \\\\\\\\\\\\\\\"serverWorkers\\\\\\\\\\\\\\\": \\\\\\\\\\\\\\\"2\\\\\\\\\\\\\\\", \\\\\\\\\\\\\\\"serverThreads\\\\\\\\\\\\\\\": \\\\\\\\\\\\\\\"1\\\\\\\\\\\\\\\", \\\\\\\\\\\\\\\"modelUri\\\\\\\\\\\\\\\": \\\\\\\\\\\\\\\"gs://seldon-models/sklearn/iris\\\\\\\\\\\\\\\", \\\\\\\\\\\\\\\"image\\\\\\\\\\\\\\\": \\\\\\\\\\\\\\\"\\\\\\\\\\\\\\\", \\\\\\\\\\\\\\\"server\\\\\\\\\\\\\\\": \\\\\\\\\\\\\\\"SKLEARN_SERVER\\\\\\\\\\\\\\\", \\\\\\\\\\\\\\\"apiType\\\\\\\\\\\\\\\": \\\\\\\\\\\\\\\"rest\\\\\\\\\\\\\\\", \\\\\\\\\\\\\\\"requestsCpu\\\\\\\\\\\\\\\": \\\\\\\\\\\\\\\"500Mi\\\\\\\\\\\\\\\", \\\\\\\\\\\\\\\"requestsMemory\\\\\\\\\\\\\\\": \\\\\\\\\\\\\\\"100Mi\\\\\\\\\\\\\\\", \\\\\\\\\\\\\\\"limitsCpu\\\\\\\\\\\\\\\": \\\\\\\\\\\\\\\"50m\\\\\\\\\\\\\\\", \\\\\\\\\\\\\\\"limitsMemory\\\\\\\\\\\\\\\": \\\\\\\\\\\\\\\"1000Mi\\\\\\\\\\\\\\\", \\\\\\\\\\\\\\\"benchmarkCpu\\\\\\\\\\\\\\\": \\\\\\\\\\\\\\\"5\\\\\\\\\\\\\\\", \\\\\\\\\\\\\\\"concurrency\\\\\\\\\\\\\\\": \\\\\\\\\\\\\\\"1\\\\\\\\\\\\\\\", \\\\\\\\\\\\\\\"duration\\\\\\\\\\\\\\\": \\\\\\\\\\\\\\\"30s\\\\\\\\\\\\\\\", \\\\\\\\\\\\\\\"rate\\\\\\\\\\\\\\\": \\\\\\\\\\\\\\\"0\\\\\\\\\\\\\\\", \\\\\\\\\\\\\\\"disableOrchestrator\\\\\\\\\\\\\\\": \\\\\\\\\\\\\\\"false\\\\\\\\\\\\\\\"}\\\"},{\\\"name\\\":\\\"disableOrchestrator\\\",\\\"value\\\":\\\"false\\\"}]},\\\"outputs\\\":{},\\\"metadata\\\":{},\\\"resource\\\":{\\\"action\\\":\\\"create\\\",\\\"manifest\\\":\\\"apiVersion: machinelearning.seldon.io/v1\\\\nkind: SeldonDeployment\\\\nmetadata:\\\\n  name: \\\\\\\"sklearn-0\\\\\\\"\\\\n  namespace: argo\\\\n  ownerReferences:\\\\n  - apiVersion: argoproj.io/v1alpha1\\\\n    blockOwnerDeletion: true\\\\n    kind: Workflow\\\\n    name: \\\\\\\"seldon-benchmark-process\\\\\\\"\\\\n    uid: \\\\\\\"cec5ab01-83b2-4e73-b45c-2aca7d6c5354\\\\\\\"\\\\nspec:\\\\n  name: \\\\\\\"sklearn-0\\\\\\\"\\\\n  transport: \\\\\\\"rest\\\\\\\"\\\\n  predictors:\\\\n    - annotations:\\\\n        seldonio/no-engine: \\\\\\\"false\\\\\\\"\\\\n      componentSpecs:\\\\n      - spec:\\\\n          containers:\\\\n          - name: classifier\\\\n            env:\\\\n            - name: GUNICORN_THREADS\\\\n              value: \\\\\\\"1\\\\\\\"\\\\n            - name: GUNICORN_WORKERS\\\\n              value: \\\\\\\"2\\\\\\\"\\\\n      graph:\\\\n        children: []\\\\n        implementation: SKLEARN_SERVER\\\\n        modelUri: gs://seldon-models/sklearn/iris\\\\n        name: classifier\\\\n      name: default\\\\n      replicas: 1\\\\n\\\"}}\"\u001b[0m\n",
      "\u001b[35mseldon-benchmark-process-3603152678: time=\"2021-06-27T13:30:35.691Z\" level=info msg=\"Loading manifest to /tmp/manifest.yaml\"\u001b[0m\n",
      "\u001b[35mseldon-benchmark-process-3603152678: time=\"2021-06-27T13:30:35.691Z\" level=info msg=\"kubectl create -f /tmp/manifest.yaml -o json\"\u001b[0m\n",
      "\u001b[33mseldon-benchmark-process-4143524011: time=\"2021-06-27T13:30:35.692Z\" level=info msg=\"Creating a K8sAPI executor\"\u001b[0m\n",
      "\u001b[33mseldon-benchmark-process-4143524011: time=\"2021-06-27T13:30:35.692Z\" level=info msg=\"Executor (version: v3.0.3, build_date: 2021-05-11T21:14:20Z) initialized (pod: argo/seldon-benchmark-process-4143524011) with template:\\n{\\\"name\\\":\\\"create-seldon-resource-template\\\",\\\"inputs\\\":{\\\"parameters\\\":[{\\\"name\\\":\\\"inparam\\\",\\\"value\\\":\\\"sklearn-1\\\"},{\\\"name\\\":\\\"replicas\\\",\\\"value\\\":\\\"1\\\"},{\\\"name\\\":\\\"serverWorkers\\\",\\\"value\\\":\\\"2\\\"},{\\\"name\\\":\\\"serverThreads\\\",\\\"value\\\":\\\"1\\\"},{\\\"name\\\":\\\"modelUri\\\",\\\"value\\\":\\\"gs://seldon-models/sklearn/iris\\\"},{\\\"name\\\":\\\"image\\\",\\\"value\\\":\\\"\\\"},{\\\"name\\\":\\\"server\\\",\\\"value\\\":\\\"SKLEARN_SERVER\\\"},{\\\"name\\\":\\\"apiType\\\",\\\"value\\\":\\\"grpc\\\"},{\\\"name\\\":\\\"requestsCpu\\\",\\\"value\\\":\\\"500Mi\\\"},{\\\"name\\\":\\\"requestsMemory\\\",\\\"value\\\":\\\"100Mi\\\"},{\\\"name\\\":\\\"limitsCpu\\\",\\\"value\\\":\\\"50m\\\"},{\\\"name\\\":\\\"limitsMemory\\\",\\\"value\\\":\\\"1000Mi\\\"},{\\\"name\\\":\\\"benchmarkCpu\\\",\\\"value\\\":\\\"5\\\"},{\\\"name\\\":\\\"concurrency\\\",\\\"value\\\":\\\"1\\\"},{\\\"name\\\":\\\"duration\\\",\\\"value\\\":\\\"30s\\\"},{\\\"name\\\":\\\"rate\\\",\\\"value\\\":\\\"0\\\"},{\\\"name\\\":\\\"params\\\",\\\"value\\\":\\\"{\\\\\\\\\\\\\\\"name\\\\\\\\\\\\\\\": \\\\\\\\\\\\\\\"sklearn-1\\\\\\\\\\\\\\\", \\\\\\\\\\\\\\\"replicas\\\\\\\\\\\\\\\": \\\\\\\\\\\\\\\"1\\\\\\\\\\\\\\\", \\\\\\\\\\\\\\\"serverWorkers\\\\\\\\\\\\\\\": \\\\\\\\\\\\\\\"2\\\\\\\\\\\\\\\", \\\\\\\\\\\\\\\"serverThreads\\\\\\\\\\\\\\\": \\\\\\\\\\\\\\\"1\\\\\\\\\\\\\\\", \\\\\\\\\\\\\\\"modelUri\\\\\\\\\\\\\\\": \\\\\\\\\\\\\\\"gs://seldon-models/sklearn/iris\\\\\\\\\\\\\\\", \\\\\\\\\\\\\\\"image\\\\\\\\\\\\\\\": \\\\\\\\\\\\\\\"\\\\\\\\\\\\\\\", \\\\\\\\\\\\\\\"server\\\\\\\\\\\\\\\": \\\\\\\\\\\\\\\"SKLEARN_SERVER\\\\\\\\\\\\\\\", \\\\\\\\\\\\\\\"apiType\\\\\\\\\\\\\\\": \\\\\\\\\\\\\\\"grpc\\\\\\\\\\\\\\\", \\\\\\\\\\\\\\\"requestsCpu\\\\\\\\\\\\\\\": \\\\\\\\\\\\\\\"500Mi\\\\\\\\\\\\\\\", \\\\\\\\\\\\\\\"requestsMemory\\\\\\\\\\\\\\\": \\\\\\\\\\\\\\\"100Mi\\\\\\\\\\\\\\\", \\\\\\\\\\\\\\\"limitsCpu\\\\\\\\\\\\\\\": \\\\\\\\\\\\\\\"50m\\\\\\\\\\\\\\\", \\\\\\\\\\\\\\\"limitsMemory\\\\\\\\\\\\\\\": \\\\\\\\\\\\\\\"1000Mi\\\\\\\\\\\\\\\", \\\\\\\\\\\\\\\"benchmarkCpu\\\\\\\\\\\\\\\": \\\\\\\\\\\\\\\"5\\\\\\\\\\\\\\\", \\\\\\\\\\\\\\\"concurrency\\\\\\\\\\\\\\\": \\\\\\\\\\\\\\\"1\\\\\\\\\\\\\\\", \\\\\\\\\\\\\\\"duration\\\\\\\\\\\\\\\": \\\\\\\\\\\\\\\"30s\\\\\\\\\\\\\\\", \\\\\\\\\\\\\\\"rate\\\\\\\\\\\\\\\": \\\\\\\\\\\\\\\"0\\\\\\\\\\\\\\\", \\\\\\\\\\\\\\\"disableOrchestrator\\\\\\\\\\\\\\\": \\\\\\\\\\\\\\\"false\\\\\\\\\\\\\\\"}\\\"},{\\\"name\\\":\\\"disableOrchestrator\\\",\\\"value\\\":\\\"false\\\"}]},\\\"outputs\\\":{},\\\"metadata\\\":{},\\\"resource\\\":{\\\"action\\\":\\\"create\\\",\\\"manifest\\\":\\\"apiVersion: machinelearning.seldon.io/v1\\\\nkind: SeldonDeployment\\\\nmetadata:\\\\n  name: \\\\\\\"sklearn-1\\\\\\\"\\\\n  namespace: argo\\\\n  ownerReferences:\\\\n  - apiVersion: argoproj.io/v1alpha1\\\\n    blockOwnerDeletion: true\\\\n    kind: Workflow\\\\n    name: \\\\\\\"seldon-benchmark-process\\\\\\\"\\\\n    uid: \\\\\\\"cec5ab01-83b2-4e73-b45c-2aca7d6c5354\\\\\\\"\\\\nspec:\\\\n  name: \\\\\\\"sklearn-1\\\\\\\"\\\\n  transport: \\\\\\\"grpc\\\\\\\"\\\\n  predictors:\\\\n    - annotations:\\\\n        seldonio/no-engine: \\\\\\\"false\\\\\\\"\\\\n      componentSpecs:\\\\n      - spec:\\\\n          containers:\\\\n          - name: classifier\\\\n            env:\\\\n            - name: GUNICORN_THREADS\\\\n              value: \\\\\\\"1\\\\\\\"\\\\n            - name: GUNICORN_WORKERS\\\\n              value: \\\\\\\"2\\\\\\\"\\\\n      graph:\\\\n        children: []\\\\n        implementation: SKLEARN_SERVER\\\\n        modelUri: gs://seldon-models/sklearn/iris\\\\n        name: classifier\\\\n      name: default\\\\n      replicas: 1\\\\n\\\"}}\"\u001b[0m\n",
      "\u001b[33mseldon-benchmark-process-4143524011: time=\"2021-06-27T13:30:35.692Z\" level=info msg=\"Loading manifest to /tmp/manifest.yaml\"\u001b[0m\n",
      "\u001b[33mseldon-benchmark-process-4143524011: time=\"2021-06-27T13:30:35.693Z\" level=info msg=\"kubectl create -f /tmp/manifest.yaml -o json\"\u001b[0m\n",
      "\u001b[35mseldon-benchmark-process-3603152678: time=\"2021-06-27T13:30:36.857Z\" level=info msg=argo/SeldonDeployment.machinelearning.seldon.io/sklearn-0\u001b[0m\n",
      "\u001b[35mseldon-benchmark-process-3603152678: time=\"2021-06-27T13:30:36.857Z\" level=info msg=\"Starting SIGUSR2 signal monitor\"\u001b[0m\n",
      "\u001b[35mseldon-benchmark-process-3603152678: time=\"2021-06-27T13:30:36.857Z\" level=info msg=\"No output parameters\"\u001b[0m\n",
      "\u001b[33mseldon-benchmark-process-4143524011: time=\"2021-06-27T13:30:36.859Z\" level=info msg=argo/SeldonDeployment.machinelearning.seldon.io/sklearn-1\u001b[0m\n",
      "\u001b[33mseldon-benchmark-process-4143524011: time=\"2021-06-27T13:30:36.859Z\" level=info msg=\"Starting SIGUSR2 signal monitor\"\u001b[0m\n",
      "\u001b[33mseldon-benchmark-process-4143524011: time=\"2021-06-27T13:30:36.860Z\" level=info msg=\"No output parameters\"\u001b[0m\n"
     ]
    },
    {
     "name": "stdout",
     "output_type": "stream",
     "text": [
      "\u001b[35mseldon-benchmark-process-4000812633: Waiting for deployment \"sklearn-1-default-0-classifier\" rollout to finish: 0 of 1 updated replicas are available...\u001b[0m\n",
      "\u001b[34mseldon-benchmark-process-789106512: Waiting for deployment \"sklearn-0-default-0-classifier\" rollout to finish: 0 of 1 updated replicas are available...\u001b[0m\n",
      "\u001b[34mseldon-benchmark-process-789106512: deployment \"sklearn-0-default-0-classifier\" successfully rolled out\u001b[0m\n",
      "\u001b[35mseldon-benchmark-process-4000812633: deployment \"sklearn-1-default-0-classifier\" successfully rolled out\u001b[0m\n",
      "\u001b[31mseldon-benchmark-process-345794713: {\"latencies\":{\"total\":29975520300,\"mean\":7300418,\"50th\":6839232,\"90th\":9876051,\"95th\":11144557,\"99th\":14635289,\"max\":51580500,\"min\":3999600},\"bytes_in\":{\"total\":751398,\"mean\":183},\"bytes_out\":{\"total\":139604,\"mean\":34},\"earliest\":\"2021-06-27T13:31:16.2189964Z\",\"latest\":\"2021-06-27T13:31:46.2223233Z\",\"end\":\"2021-06-27T13:31:46.2309266Z\",\"duration\":30003326900,\"wait\":8603300,\"requests\":4106,\"rate\":136.85149029256485,\"throughput\":136.81226007916013,\"success\":1,\"status_codes\":{\"200\":4106},\"errors\":[],\"params\":{\"name\":\"sklearn-0\",\"replicas\":\"1\",\"serverWorkers\":\"2\",\"serverThreads\":\"1\",\"modelUri\":\"gs://seldon-models/sklearn/iris\",\"image\":\"\",\"server\":\"SKLEARN_SERVER\",\"apiType\":\"rest\",\"requestsCpu\":\"500Mi\",\"requestsMemory\":\"100Mi\",\"limitsCpu\":\"50m\",\"limitsMemory\":\"1000Mi\",\"benchmarkCpu\":\"5\",\"concurrency\":\"1\",\"duration\":\"30s\",\"rate\":\"0\",\"disableOrchestrator\":\"false\"}}\u001b[0m\n",
      "\u001b[37mseldon-benchmark-process-3959726234: {\"date\":\"2021-06-27T13:31:47Z\",\"endReason\":\"timeout\",\"options\":{\"host\":\"istio-ingressgateway.istio-system.svc.cluster.local:80\",\"proto\":\"/proto/prediction.proto\",\"import-paths\":[\"/proto\",\".\"],\"call\":\"seldon.protos.Seldon/Predict\",\"insecure\":true,\"total\":2147483647,\"concurrency\":1,\"connections\":1,\"duration\":30000000000,\"timeout\":20000000000,\"dial-timeout\":10000000000,\"data\":{\"data\":{\"ndarray\":[[0,1,2,3]]}},\"binary\":false,\"metadata\":{\"namespace\":\"argo\",\"seldon\":\"sklearn-1\"},\"CPUs\":5},\"count\":4334,\"total\":30000850700,\"average\":6674704,\"fastest\":3262200,\"slowest\":78056100,\"rps\":144.46257018971798,\"errorDistribution\":{\"rpc error: code = Unavailable desc = transport is closing\":1},\"statusCodeDistribution\":{\"OK\":4333,\"Unavailable\":1},\"latencyDistribution\":[{\"percentage\":10,\"latency\":4666600},{\"percentage\":25,\"latency\":5342800},{\"percentage\":50,\"latency\":6330400},{\"percentage\":75,\"latency\":7654600},{\"percentage\":90,\"latency\":8990000},{\"percentage\":95,\"latency\":10044700},{\"percentage\":99,\"latency\":12267200}],\"params\":{\"name\":\"sklearn-1\",\"replicas\":\"1\",\"serverWorkers\":\"2\",\"serverThreads\":\"1\",\"modelUri\":\"gs://seldon-models/sklearn/iris\",\"image\":\"\",\"server\":\"SKLEARN_SERVER\",\"apiType\":\"grpc\",\"requestsCpu\":\"500Mi\",\"requestsMemory\":\"100Mi\",\"limitsCpu\":\"50m\",\"limitsMemory\":\"1000Mi\",\"benchmarkCpu\":\"5\",\"concurrency\":\"1\",\"duration\":\"30s\",\"rate\":\"0\",\"disableOrchestrator\":\"false\"}}\u001b[0m\n",
      "\u001b[35mseldon-benchmark-process-1123271433: seldondeployment.machinelearning.seldon.io \"sklearn-1\" deleted\u001b[0m\n",
      "\u001b[34mseldon-benchmark-process-2402082796: seldondeployment.machinelearning.seldon.io \"sklearn-0\" deleted\u001b[0m\n"
     ]
    }
   ],
   "source": [
    "!argo logs -f seldon-benchmark-process -n argo"
   ]
  },
  {
   "cell_type": "code",
   "execution_count": 667,
   "metadata": {},
   "outputs": [
    {
     "name": "stdout",
     "output_type": "stream",
     "text": [
      "Name:                seldon-benchmark-process\r\n",
      "Namespace:           argo\r\n",
      "ServiceAccount:      default\r\n",
      "Status:              Succeeded\r\n",
      "Conditions:          \r\n",
      " PodRunning          False\r\n",
      " Completed           True\r\n",
      "Created:             Sun Jun 27 14:30:24 +0100 (1 minute ago)\r\n",
      "Started:             Sun Jun 27 14:30:24 +0100 (1 minute ago)\r\n",
      "Finished:            Sun Jun 27 14:32:06 +0100 (1 second ago)\r\n",
      "Duration:            1 minute 42 seconds\r\n",
      "Progress:            9/9\r\n",
      "ResourcesDuration:   3m19s*(1 cpu),3m19s*(100Mi memory)\r\n",
      "\r\n",
      "\u001b[39mSTEP\u001b[0m                                                                                                                                                                                                                                                                                                                                                                                                                                                                                                                                                                                                                                                                                                                                                                                                                   TEMPLATE                               PODNAME                              DURATION  MESSAGE\r\n",
      " \u001b[32m✔\u001b[0m seldon-benchmark-process                                                                                                                                                                                                                                                                                                                                                                                                                                                                                                                                                                                                                                                                                                                                                                                            seldon-benchmark-process                                                                                                   \r\n",
      " ├───\u001b[32m✔\u001b[0m generate-parameters                                                                                                                                                                                                                                                                                                                                                                                                                                                                                                                                                                                                                                                                                                                                                                                             generate-parameters-template           seldon-benchmark-process-635956972   3s                                             \r\n",
      " └─┬─\u001b[32m✔\u001b[0m run-benchmark-iteration(0:apiType:rest,benchmarkCpu:5,concurrency:1,disableOrchestrator:false,duration:30s,image:,limitsCpu:50m,limitsMemory:1000Mi,modelUri:gs://seldon-models/sklearn/iris,name:sklearn-0,params:{\\\"name\\\": \\\"sklearn-0\\\", \\\"replicas\\\": \\\"1\\\", \\\"serverWorkers\\\": \\\"2\\\", \\\"serverThreads\\\": \\\"1\\\", \\\"modelUri\\\": \\\"gs://seldon-models/sklearn/iris\\\", \\\"image\\\": \\\"\\\", \\\"server\\\": \\\"SKLEARN_SERVER\\\", \\\"apiType\\\": \\\"rest\\\", \\\"requestsCpu\\\": \\\"500Mi\\\", \\\"requestsMemory\\\": \\\"100Mi\\\", \\\"limitsCpu\\\": \\\"50m\\\", \\\"limitsMemory\\\": \\\"1000Mi\\\", \\\"benchmarkCpu\\\": \\\"5\\\", \\\"concurrency\\\": \\\"1\\\", \\\"duration\\\": \\\"30s\\\", \\\"rate\\\": \\\"0\\\", \\\"disableOrchestrator\\\": \\\"false\\\"},rate:0,replicas:1,requestsCpu:500Mi,requestsMemory:100Mi,server:SKLEARN_SERVER,serverThreads:1,serverWorkers:2)  run-benchmark-iteration-step-template                                                                                      \r\n",
      "   │ ├───\u001b[32m✔\u001b[0m create-seldon-resource                                                                                                                                                                                                                                                                                                                                                                                                                                                                                                                                                                                                                                                                                                                                                                                      create-seldon-resource-template        seldon-benchmark-process-3603152678  2s                                             \r\n",
      "   │ ├───\u001b[32m✔\u001b[0m wait-seldon-resource                                                                                                                                                                                                                                                                                                                                                                                                                                                                                                                                                                                                                                                                                                                                                                                        wait-seldon-resource-template          seldon-benchmark-process-789106512   20s                                            \r\n",
      "   │ ├─┬─\u001b[39m○\u001b[0m run-benchmark-grpc                                                                                                                                                                                                                                                                                                                                                                                                                                                                                                                                                                                                                                                                                                                                                                                          run-benchmark-template-grpc                                                           when 'rest == grpc' evaluated false  \r\n",
      "   │ │ └─\u001b[32m✔\u001b[0m run-benchmark-rest                                                                                                                                                                                                                                                                                                                                                                                                                                                                                                                                                                                                                                                                                                                                                                                          run-benchmark-template-rest            seldon-benchmark-process-345794713   32s                                            \r\n",
      "   │ └───\u001b[32m✔\u001b[0m delete-seldon-resource                                                                                                                                                                                                                                                                                                                                                                                                                                                                                                                                                                                                                                                                                                                                                                                      delete-seldon-resource-template        seldon-benchmark-process-2402082796  4s                                             \r\n",
      "   └─\u001b[32m✔\u001b[0m run-benchmark-iteration(1:apiType:grpc,benchmarkCpu:5,concurrency:1,disableOrchestrator:false,duration:30s,image:,limitsCpu:50m,limitsMemory:1000Mi,modelUri:gs://seldon-models/sklearn/iris,name:sklearn-1,params:{\\\"name\\\": \\\"sklearn-1\\\", \\\"replicas\\\": \\\"1\\\", \\\"serverWorkers\\\": \\\"2\\\", \\\"serverThreads\\\": \\\"1\\\", \\\"modelUri\\\": \\\"gs://seldon-models/sklearn/iris\\\", \\\"image\\\": \\\"\\\", \\\"server\\\": \\\"SKLEARN_SERVER\\\", \\\"apiType\\\": \\\"grpc\\\", \\\"requestsCpu\\\": \\\"500Mi\\\", \\\"requestsMemory\\\": \\\"100Mi\\\", \\\"limitsCpu\\\": \\\"50m\\\", \\\"limitsMemory\\\": \\\"1000Mi\\\", \\\"benchmarkCpu\\\": \\\"5\\\", \\\"concurrency\\\": \\\"1\\\", \\\"duration\\\": \\\"30s\\\", \\\"rate\\\": \\\"0\\\", \\\"disableOrchestrator\\\": \\\"false\\\"},rate:0,replicas:1,requestsCpu:500Mi,requestsMemory:100Mi,server:SKLEARN_SERVER,serverThreads:1,serverWorkers:2)  run-benchmark-iteration-step-template                                                                                      \r\n",
      "     ├───\u001b[32m✔\u001b[0m create-seldon-resource                                                                                                                                                                                                                                                                                                                                                                                                                                                                                                                                                                                                                                                                                                                                                                                      create-seldon-resource-template        seldon-benchmark-process-4143524011  2s                                             \r\n",
      "     ├───\u001b[32m✔\u001b[0m wait-seldon-resource                                                                                                                                                                                                                                                                                                                                                                                                                                                                                                                                                                                                                                                                                                                                                                                        wait-seldon-resource-template          seldon-benchmark-process-4000812633  21s                                            \r\n",
      "     ├─┬─\u001b[32m✔\u001b[0m run-benchmark-grpc                                                                                                                                                                                                                                                                                                                                                                                                                                                                                                                                                                                                                                                                                                                                                                                          run-benchmark-template-grpc            seldon-benchmark-process-3959726234  33s                                            \r\n",
      "     │ └─\u001b[39m○\u001b[0m run-benchmark-rest                                                                                                                                                                                                                                                                                                                                                                                                                                                                                                                                                                                                                                                                                                                                                                                          run-benchmark-template-rest                                                           when 'grpc == rest' evaluated false  \r\n",
      "     └───\u001b[32m✔\u001b[0m delete-seldon-resource                                                                                                                                                                                                                                                                                                                                                                                                                                                                                                                                                                                                                                                                                                                                                                                      delete-seldon-resource-template        seldon-benchmark-process-1123271433  4s                                             \r\n"
     ]
    }
   ],
   "source": [
    "!argo get seldon-benchmark-process -n argo"
   ]
  },
  {
   "cell_type": "markdown",
   "metadata": {},
   "source": [
    "## Process the results\n",
    "\n",
    "We can now print the results in a consumable format."
   ]
  },
  {
   "cell_type": "code",
   "execution_count": 668,
   "metadata": {},
   "outputs": [],
   "source": [
    "def get_results(results, print_results=True):\n",
    "    final = {}\n",
    "    # For GHZ / grpc\n",
    "    if \"average\" in results:\n",
    "        final[\"mean\"] = results[\"average\"] / 1e6\n",
    "        if results.get(\"latencyDistribution\", False):\n",
    "            final[\"50th\"] = results[\"latencyDistribution\"][-5][\"latency\"] / 1e6\n",
    "            final[\"90th\"] = results[\"latencyDistribution\"][-3][\"latency\"] / 1e6\n",
    "            final[\"95th\"] = results[\"latencyDistribution\"][-2][\"latency\"] / 1e6\n",
    "            final[\"99th\"] = results[\"latencyDistribution\"][-1][\"latency\"] / 1e6\n",
    "        final[\"throughputAchieved\"] = results[\"rps\"]\n",
    "        final[\"success\"] = results[\"statusCodeDistribution\"].get(\"OK\", 0)\n",
    "        final[\"errors\"] = sum(results[\"statusCodeDistribution\"].values()) - final[\"success\"]\n",
    "    # For vegeta / rest\n",
    "    else:\n",
    "        final[\"mean\"] = results[\"latencies\"][\"mean\"] / 1e6\n",
    "        final[\"50th\"] = results[\"latencies\"][\"50th\"] / 1e6\n",
    "        final[\"90th\"] = results[\"latencies\"][\"90th\"] / 1e6\n",
    "        final[\"95th\"] = results[\"latencies\"][\"95th\"] / 1e6\n",
    "        final[\"99th\"] = results[\"latencies\"][\"99th\"] / 1e6\n",
    "        final[\"throughputAchieved\"] = results[\"throughput\"]\n",
    "        final[\"success\"] = results[\"status_codes\"].get(\"200\", 0)\n",
    "        final[\"errors\"] = sum(results[\"status_codes\"].values()) - final[\"success\"]\n",
    "    for k in results[\"params\"].keys():\n",
    "        final[k] = results[\"params\"][k]\n",
    "    if print_results:\n",
    "        print(\"-----\")\n",
    "        print(\"ParamNames:\", results[\"params\"].keys())\n",
    "        print(\"ParamNames:\", results[\"params\"].values())\n",
    "        print(\"\\tLatencies:\")\n",
    "        print(\"\\t\\tmean:\", final[\"mean\"], \"ms\")\n",
    "        print(\"\\t\\t50th:\", final[\"50th\"], \"ms\")\n",
    "        print(\"\\t\\t90th:\", final[\"90th\"], \"ms\")\n",
    "        print(\"\\t\\t95th:\", final[\"95th\"], \"ms\")\n",
    "        print(\"\\t\\t99th:\", final[\"99th\"], \"ms\")\n",
    "        print(\"\")\n",
    "        print(\"\\tRate:\", str(final[\"throughputAchieved\"]) + \"/s\")\n",
    "        print(\"\\tSuccess:\", final[\"success\"])\n",
    "        print(\"\\tErrors:\", final[\"errors\"])\n",
    "    return final"
   ]
  },
  {
   "cell_type": "code",
   "execution_count": 669,
   "metadata": {},
   "outputs": [
    {
     "name": "stdout",
     "output_type": "stream",
     "text": [
      "[{'latencies': {'total': 29975520300, 'mean': 7300418, '50th': 6839232, '90th': 9876051, '95th': 11144557, '99th': 14635289, 'max': 51580500, 'min': 3999600}, 'bytes_in': {'total': 751398, 'mean': 183}, 'bytes_out': {'total': 139604, 'mean': 34}, 'earliest': '2021-06-27T13:31:16.2189964Z', 'latest': '2021-06-27T13:31:46.2223233Z', 'end': '2021-06-27T13:31:46.2309266Z', 'duration': 30003326900, 'wait': 8603300, 'requests': 4106, 'rate': 136.85149029256485, 'throughput': 136.81226007916013, 'success': 1, 'status_codes': {'200': 4106}, 'errors': [], 'params': {'name': 'sklearn-0', 'replicas': '1', 'serverWorkers': '2', 'serverThreads': '1', 'modelUri': 'gs://seldon-models/sklearn/iris', 'image': '', 'server': 'SKLEARN_SERVER', 'apiType': 'rest', 'requestsCpu': '500Mi', 'requestsMemory': '100Mi', 'limitsCpu': '50m', 'limitsMemory': '1000Mi', 'benchmarkCpu': '5', 'concurrency': '1', 'duration': '30s', 'rate': '0', 'disableOrchestrator': 'false'}}, {'date': '2021-06-27T13:31:47Z', 'endReason': 'timeout', 'options': {'host': 'istio-ingressgateway.istio-system.svc.cluster.local:80', 'proto': '/proto/prediction.proto', 'import-paths': ['/proto', '.'], 'call': 'seldon.protos.Seldon/Predict', 'insecure': True, 'total': 2147483647, 'concurrency': 1, 'connections': 1, 'duration': 30000000000, 'timeout': 20000000000, 'dial-timeout': 10000000000, 'data': {'data': {'ndarray': [[0, 1, 2, 3]]}}, 'binary': False, 'metadata': {'namespace': 'argo', 'seldon': 'sklearn-1'}, 'CPUs': 5}, 'count': 4334, 'total': 30000850700, 'average': 6674704, 'fastest': 3262200, 'slowest': 78056100, 'rps': 144.46257018971798, 'errorDistribution': {'rpc error: code = Unavailable desc = transport is closing': 1}, 'statusCodeDistribution': {'OK': 4333, 'Unavailable': 1}, 'latencyDistribution': [{'percentage': 10, 'latency': 4666600}, {'percentage': 25, 'latency': 5342800}, {'percentage': 50, 'latency': 6330400}, {'percentage': 75, 'latency': 7654600}, {'percentage': 90, 'latency': 8990000}, {'percentage': 95, 'latency': 10044700}, {'percentage': 99, 'latency': 12267200}], 'params': {'name': 'sklearn-1', 'replicas': '1', 'serverWorkers': '2', 'serverThreads': '1', 'modelUri': 'gs://seldon-models/sklearn/iris', 'image': '', 'server': 'SKLEARN_SERVER', 'apiType': 'grpc', 'requestsCpu': '500Mi', 'requestsMemory': '100Mi', 'limitsCpu': '50m', 'limitsMemory': '1000Mi', 'benchmarkCpu': '5', 'concurrency': '1', 'duration': '30s', 'rate': '0', 'disableOrchestrator': 'false'}}]\n"
     ]
    }
   ],
   "source": [
    "import json\n",
    "wf_logs = !argo logs --no-color seldon-benchmark-process -n argo\n",
    "wf_bench = [json.loads(\":\".join(w.split(\":\")[1:])) for w in wf_logs if \"latenc\" in w]\n",
    "print(wf_bench)"
   ]
  },
  {
   "cell_type": "code",
   "execution_count": 670,
   "metadata": {},
   "outputs": [
    {
     "name": "stdout",
     "output_type": "stream",
     "text": [
      "-----\n",
      "ParamNames: dict_keys(['name', 'replicas', 'serverWorkers', 'serverThreads', 'modelUri', 'image', 'server', 'apiType', 'requestsCpu', 'requestsMemory', 'limitsCpu', 'limitsMemory', 'benchmarkCpu', 'concurrency', 'duration', 'rate', 'disableOrchestrator'])\n",
      "ParamNames: dict_values(['sklearn-0', '1', '2', '1', 'gs://seldon-models/sklearn/iris', '', 'SKLEARN_SERVER', 'rest', '500Mi', '100Mi', '50m', '1000Mi', '5', '1', '30s', '0', 'false'])\n",
      "\tLatencies:\n",
      "\t\tmean: 7.300418 ms\n",
      "\t\t50th: 6.839232 ms\n",
      "\t\t90th: 9.876051 ms\n",
      "\t\t95th: 11.144557 ms\n",
      "\t\t99th: 14.635289 ms\n",
      "\n",
      "\tRate: 136.81226007916013/s\n",
      "\tSuccess: 4106\n",
      "\tErrors: 0\n",
      "-----\n",
      "ParamNames: dict_keys(['name', 'replicas', 'serverWorkers', 'serverThreads', 'modelUri', 'image', 'server', 'apiType', 'requestsCpu', 'requestsMemory', 'limitsCpu', 'limitsMemory', 'benchmarkCpu', 'concurrency', 'duration', 'rate', 'disableOrchestrator'])\n",
      "ParamNames: dict_values(['sklearn-1', '1', '2', '1', 'gs://seldon-models/sklearn/iris', '', 'SKLEARN_SERVER', 'grpc', '500Mi', '100Mi', '50m', '1000Mi', '5', '1', '30s', '0', 'false'])\n",
      "\tLatencies:\n",
      "\t\tmean: 6.674704 ms\n",
      "\t\t50th: 6.3304 ms\n",
      "\t\t90th: 8.99 ms\n",
      "\t\t95th: 10.0447 ms\n",
      "\t\t99th: 12.2672 ms\n",
      "\n",
      "\tRate: 144.46257018971798/s\n",
      "\tSuccess: 4333\n",
      "\tErrors: 1\n"
     ]
    }
   ],
   "source": [
    "results = []\n",
    "for w in wf_bench:\n",
    "    # Prints the results in a consumable format\n",
    "    results.append(get_results(w))"
   ]
  },
  {
   "cell_type": "code",
   "execution_count": 663,
   "metadata": {},
   "outputs": [
    {
     "name": "stdout",
     "output_type": "stream",
     "text": [
      "Workflow 'seldon-benchmark-process' not found\r\n"
     ]
    }
   ],
   "source": [
    "!argo delete seldon-benchmark-process -n argo || echo \"Argo workflow already deleted or not exists\""
   ]
  },
  {
   "cell_type": "code",
   "execution_count": null,
   "metadata": {},
   "outputs": [],
   "source": [
    "!kubectl delete -n argo -f https://raw.githubusercontent.com/argoproj/argo/v3.1.0/manifests/install.yaml"
   ]
  },
  {
   "cell_type": "markdown",
   "metadata": {},
   "source": [
    "## Deeper Analysis\n",
    "Now that we have all the parameters, we can do a deeper analysis"
   ]
  },
  {
   "cell_type": "code",
   "execution_count": 672,
   "metadata": {},
   "outputs": [
    {
     "data": {
      "text/html": [
       "<div>\n",
       "<style scoped>\n",
       "    .dataframe tbody tr th:only-of-type {\n",
       "        vertical-align: middle;\n",
       "    }\n",
       "\n",
       "    .dataframe tbody tr th {\n",
       "        vertical-align: top;\n",
       "    }\n",
       "\n",
       "    .dataframe thead th {\n",
       "        text-align: right;\n",
       "    }\n",
       "</style>\n",
       "<table border=\"1\" class=\"dataframe\">\n",
       "  <thead>\n",
       "    <tr style=\"text-align: right;\">\n",
       "      <th></th>\n",
       "      <th>mean</th>\n",
       "      <th>50th</th>\n",
       "      <th>90th</th>\n",
       "      <th>95th</th>\n",
       "      <th>99th</th>\n",
       "      <th>throughputAchieved</th>\n",
       "      <th>success</th>\n",
       "      <th>errors</th>\n",
       "      <th>name</th>\n",
       "      <th>replicas</th>\n",
       "      <th>...</th>\n",
       "      <th>apiType</th>\n",
       "      <th>requestsCpu</th>\n",
       "      <th>requestsMemory</th>\n",
       "      <th>limitsCpu</th>\n",
       "      <th>limitsMemory</th>\n",
       "      <th>benchmarkCpu</th>\n",
       "      <th>concurrency</th>\n",
       "      <th>duration</th>\n",
       "      <th>rate</th>\n",
       "      <th>disableOrchestrator</th>\n",
       "    </tr>\n",
       "  </thead>\n",
       "  <tbody>\n",
       "    <tr>\n",
       "      <th>0</th>\n",
       "      <td>7.300418</td>\n",
       "      <td>6.839232</td>\n",
       "      <td>9.876051</td>\n",
       "      <td>11.144557</td>\n",
       "      <td>14.635289</td>\n",
       "      <td>136.81226</td>\n",
       "      <td>4106</td>\n",
       "      <td>0</td>\n",
       "      <td>sklearn-0</td>\n",
       "      <td>1</td>\n",
       "      <td>...</td>\n",
       "      <td>rest</td>\n",
       "      <td>500Mi</td>\n",
       "      <td>100Mi</td>\n",
       "      <td>50m</td>\n",
       "      <td>1000Mi</td>\n",
       "      <td>5</td>\n",
       "      <td>1</td>\n",
       "      <td>30s</td>\n",
       "      <td>0</td>\n",
       "      <td>false</td>\n",
       "    </tr>\n",
       "    <tr>\n",
       "      <th>1</th>\n",
       "      <td>6.674704</td>\n",
       "      <td>6.330400</td>\n",
       "      <td>8.990000</td>\n",
       "      <td>10.044700</td>\n",
       "      <td>12.267200</td>\n",
       "      <td>144.46257</td>\n",
       "      <td>4333</td>\n",
       "      <td>1</td>\n",
       "      <td>sklearn-1</td>\n",
       "      <td>1</td>\n",
       "      <td>...</td>\n",
       "      <td>grpc</td>\n",
       "      <td>500Mi</td>\n",
       "      <td>100Mi</td>\n",
       "      <td>50m</td>\n",
       "      <td>1000Mi</td>\n",
       "      <td>5</td>\n",
       "      <td>1</td>\n",
       "      <td>30s</td>\n",
       "      <td>0</td>\n",
       "      <td>false</td>\n",
       "    </tr>\n",
       "  </tbody>\n",
       "</table>\n",
       "<p>2 rows × 25 columns</p>\n",
       "</div>"
      ],
      "text/plain": [
       "       mean      50th      90th       95th       99th  throughputAchieved  \\\n",
       "0  7.300418  6.839232  9.876051  11.144557  14.635289           136.81226   \n",
       "1  6.674704  6.330400  8.990000  10.044700  12.267200           144.46257   \n",
       "\n",
       "   success  errors       name replicas  ... apiType requestsCpu  \\\n",
       "0     4106       0  sklearn-0        1  ...    rest       500Mi   \n",
       "1     4333       1  sklearn-1        1  ...    grpc       500Mi   \n",
       "\n",
       "  requestsMemory limitsCpu limitsMemory benchmarkCpu concurrency duration  \\\n",
       "0          100Mi       50m       1000Mi            5           1      30s   \n",
       "1          100Mi       50m       1000Mi            5           1      30s   \n",
       "\n",
       "  rate disableOrchestrator  \n",
       "0    0               false  \n",
       "1    0               false  \n",
       "\n",
       "[2 rows x 25 columns]"
      ]
     },
     "execution_count": 672,
     "metadata": {},
     "output_type": "execute_result"
    }
   ],
   "source": [
    "import pandas as pd\n",
    "\n",
    "df = pd.DataFrame.from_dict(results)\n",
    "df.head()"
   ]
  },
  {
   "cell_type": "code",
   "execution_count": null,
   "metadata": {},
   "outputs": [],
   "source": [
    "!jx step pr comment --owner=${REPO_OWNER} --repository=${REPO_NAME} --pull-request=${PULL_NUMBER} --comment=\"${df.to_markdown()}\""
   ]
  },
  {
   "cell_type": "code",
   "execution_count": null,
   "metadata": {},
   "outputs": [],
   "source": []
  }
 ],
 "metadata": {
  "kernelspec": {
   "display_name": "Python 3",
   "language": "python",
   "name": "python3"
  },
  "language_info": {
   "codemirror_mode": {
    "name": "ipython",
    "version": 3
   },
   "file_extension": ".py",
   "mimetype": "text/x-python",
   "name": "python",
   "nbconvert_exporter": "python",
   "pygments_lexer": "ipython3",
   "version": "3.7.4"
  }
 },
 "nbformat": 4,
 "nbformat_minor": 2
}
