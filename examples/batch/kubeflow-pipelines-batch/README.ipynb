{
 "cells": [
  {
   "cell_type": "markdown",
   "metadata": {},
   "source": [
    "## Batch processing with Kubeflow Pipelines\n",
    "In this notebook we will dive into how you can run batch processing with Kubeflow Pipelines and Seldon Core.\n",
    "\n",
    "Dependencies:\n",
    "* Seldon core installed as per the docs with [Istio Ingress](https://docs.seldon.io/projects/seldon-core/en/latest/workflow/install.html#install-seldon-core-with-helm)\n",
    "* Kubeflow Pipelines installed (installation instructions in this notebook)\n",
    "\n",
    "![](assets/kubeflow-pipeline.jpg)\n",
    "\n",
    "## Kubeflow Pipelines Setup\n",
    "\n",
    "Setup the pipeline in your current cluster:"
   ]
  },
  {
   "cell_type": "code",
   "execution_count": null,
   "metadata": {},
   "outputs": [],
   "source": [
    "%%bash\n",
    "export PIPELINE_VERSION=0.5.1\n",
    "kubectl apply -k github.com/kubeflow/pipelines/manifests/kustomize/cluster-scoped-resources?ref=$PIPELINE_VERSION\n",
    "kubectl wait --for condition=established --timeout=60s crd/applications.app.k8s.io\n",
    "kubectl apply -k github.com/kubeflow/pipelines/manifests/kustomize/env/dev?ref=$PIPELINE_VERSION"
   ]
  },
  {
   "cell_type": "markdown",
   "metadata": {},
   "source": [
    "We also install the Python Library so we can create our pipeline:"
   ]
  },
  {
   "cell_type": "code",
   "execution_count": null,
   "metadata": {},
   "outputs": [],
   "source": [
    "pip install kfp==0.5.1"
   ]
  },
  {
   "cell_type": "markdown",
   "metadata": {},
   "source": [
    "## Add Batch Data\n",
    "\n",
    "In order to run our batch job we will need to create some batch data that can be used to process.\n",
    "\n",
    "This batch dataset will be pushed to a minio instance so it can be downloaded from Minio (which we need to install first)\n",
    "\n",
    "### Install Minio"
   ]
  },
  {
   "cell_type": "code",
   "execution_count": null,
   "metadata": {},
   "outputs": [],
   "source": [
    "%%bash \n",
    "helm install minio stable/minio \\\n",
    "    --set accessKey=minioadmin \\\n",
    "    --set secretKey=minioadmin \\\n",
    "    --set image.tag=RELEASE.2020-04-15T19-42-18Z"
   ]
  },
  {
   "cell_type": "markdown",
   "metadata": {},
   "source": [
    "### Forward the Minio port so you can access it\n",
    "\n",
    "You can do this by runnning the following command in your terminal:\n",
    "```\n",
    "kubectl port-forward svc/minio 9000:9000\n",
    "    ```\n",
    "    \n",
    "### Configure local minio client"
   ]
  },
  {
   "cell_type": "code",
   "execution_count": null,
   "metadata": {},
   "outputs": [],
   "source": [
    "!mc config host add minio-local http://localhost:9000 minioadmin minioadmin"
   ]
  },
  {
   "cell_type": "markdown",
   "metadata": {},
   "source": [
    "### Create some input for our model\n",
    "\n",
    "We will create a file that will contain the inputs that will be sent to our model"
   ]
  },
  {
   "cell_type": "code",
   "execution_count": 3,
   "metadata": {},
   "outputs": [],
   "source": [
    "with open(\"assets/input-data.txt\", \"w\") as f:\n",
    "    for i in range(10000):\n",
    "        f.write('[[1, 2, 3, 4]]\\n')"
   ]
  },
  {
   "cell_type": "markdown",
   "metadata": {},
   "source": [
    "Check the contents of the file"
   ]
  },
  {
   "cell_type": "code",
   "execution_count": 4,
   "metadata": {},
   "outputs": [
    {
     "name": "stdout",
     "output_type": "stream",
     "text": [
      "10000 assets/input-data.txt\n",
      "[[1, 2, 3, 4]]\n",
      "[[1, 2, 3, 4]]\n",
      "[[1, 2, 3, 4]]\n",
      "[[1, 2, 3, 4]]\n",
      "[[1, 2, 3, 4]]\n",
      "[[1, 2, 3, 4]]\n",
      "[[1, 2, 3, 4]]\n",
      "[[1, 2, 3, 4]]\n",
      "[[1, 2, 3, 4]]\n",
      "[[1, 2, 3, 4]]\n"
     ]
    }
   ],
   "source": [
    "!wc -l assets/input-data.txt\n",
    "!head assets/input-data.txt"
   ]
  },
  {
   "cell_type": "markdown",
   "metadata": {},
   "source": [
    "### Upload the file to our minio"
   ]
  },
  {
   "cell_type": "code",
   "execution_count": null,
   "metadata": {},
   "outputs": [],
   "source": [
    "!mc mb minio-local/data\n",
    "!mc cp assets/input-data.txt minio-local/data/"
   ]
  },
  {
   "cell_type": "markdown",
   "metadata": {},
   "source": [
    "## Create Kubeflow Pipeline\n",
    "\n",
    "We are now able to create a kubeflow pipeline that will allow us to enter the batch parameters through the UI.\n",
    "\n",
    "We will also be able to add extra steps that will download the data from a Minio client."
   ]
  },
  {
   "cell_type": "code",
   "execution_count": null,
   "metadata": {},
   "outputs": [],
   "source": [
    "mkdir -p assets/"
   ]
  },
  {
   "cell_type": "markdown",
   "metadata": {},
   "source": [
    "We use the pipeline syntax to create the kubeflow pipeline, as outlined below:"
   ]
  },
  {
   "cell_type": "code",
   "execution_count": 40,
   "metadata": {},
   "outputs": [
    {
     "name": "stdout",
     "output_type": "stream",
     "text": [
      "Overwriting assets/seldon-batch-pipeline.py\n"
     ]
    }
   ],
   "source": [
    "%%writefile assets/seldon-batch-pipeline.py\n",
    "\n",
    "import kfp.dsl as dsl\n",
    "import yaml\n",
    "from kubernetes import client as k8s\n",
    "\n",
    "@dsl.pipeline(\n",
    "  name='SeldonBatch',\n",
    "  description='A batch processing pipeline for seldon models'\n",
    ")\n",
    "def nlp_pipeline(\n",
    "        namespace=\"kubeflow\",\n",
    "        seldon_server=\"SKLEARN_SERVER\",\n",
    "        model_path=\"gs://seldon-models/sklearn/iris\",\n",
    "        gateway_endpoint=\"istio-ingressgateway.istio-system.svc.cluster.local\",\n",
    "        retries=3,\n",
    "        replicas=10,\n",
    "        workers=100,\n",
    "        input_path=\"data/input-data.txt\",\n",
    "        output_path=\"data/output-data.txt\"):\n",
    "    \"\"\"\n",
    "    Pipeline \n",
    "    \"\"\"\n",
    "    \n",
    "    vop = dsl.VolumeOp(\n",
    "      name='seldon-batch-pvc',\n",
    "      resource_name=\"seldon-batch-pvc\",\n",
    "      modes=dsl.VOLUME_MODE_RWO,\n",
    "      size=\"2Mi\"\n",
    "    )\n",
    "    \n",
    "    seldon_deployment_yaml = f\"\"\"\n",
    "apiVersion: machinelearning.seldon.io/v1\n",
    "kind: SeldonDeployment\n",
    "metadata:\n",
    "  name: \"{{{{workflow.name}}}}\"\n",
    "  namespace: \"{namespace}\"\n",
    "spec:\n",
    "  name: \"{{{{workflow.name}}}}\"\n",
    "  predictors:\n",
    "  - graph:\n",
    "      children: []\n",
    "      implementation: \"{seldon_server}\"\n",
    "      modelUri: \"{model_path}\"\n",
    "      name: classifier\n",
    "    name: default\n",
    "    \"\"\"\n",
    "    \n",
    "    deploy_step = dsl.ResourceOp(\n",
    "        name=\"deploy_seldon\",\n",
    "        action=\"create\",\n",
    "        k8s_resource=yaml.safe_load(seldon_deployment_yaml))\n",
    "    \n",
    "    scale_and_wait = dsl.ContainerOp(\n",
    "        name=\"scale_and_wait_seldon\",\n",
    "        image=\"bitnami/kubectl:1.17\",\n",
    "        command=\"bash\",\n",
    "        arguments=[\n",
    "            \"-c\",\n",
    "            f\"sleep 10 && kubectl scale --namespace {namespace} --replicas={replicas} sdep/{{{{workflow.name}}}} && sleep 2 && kubectl rollout status deploy/$(kubectl get deploy -l seldon-deployment-id={{{{workflow.name}}}} -o jsonpath='{{.items[0].metadata.name'}})\"   \n",
    "        ])\n",
    "    \n",
    "    download_from_object_store = dsl.ContainerOp(\n",
    "        name=\"download-from-object-store\",\n",
    "        image=\"minio/mc:RELEASE.2020-04-17T08-55-48Z\",\n",
    "        command=\"sh\",\n",
    "        arguments=[\n",
    "            \"-c\",\n",
    "            f\"mc config host add minio-local http://minio.default.svc.cluster.local:9000 minioadmin minioadmin && mc cp minio-local/{input_path} /assets/input-data.txt\"   \n",
    "        ],\n",
    "        pvolumes={ \"/assets\": vop.volume })\n",
    "    \n",
    "\n",
    "    batch_process_step = dsl.ContainerOp(\n",
    "        name='data_downloader',\n",
    "        image='seldonio/seldon-core-s2i-python37:1.2.1-dev
    "        command=\"seldon-batch-processor\",\n",
    "        arguments=[\n",
    "            \"--deployment-name\", \"{{workflow.name}}\",\n",
    "            \"--namespace\", namespace,\n",
    "            \"--host\", gateway_endpoint,\n",
    "            \"--retries\", retries,\n",
    "            \"--input-data-path\", \"/assets/input-data.txt\",\n",
    "            \"--output-data-path\", \"/assets/output-data.txt\",\n",
    "            \"--benchmark\"\n",
    "        ],\n",
    "        pvolumes={ \"/assets\": vop.volume }\n",
    "    )\n",
    "    \n",
    "    upload_to_object_store = dsl.ContainerOp(\n",
    "        name=\"upload-to-object-store\",\n",
    "        image=\"minio/mc:RELEASE.2020-04-17T08-55-48Z\",\n",
    "        command=\"sh\",\n",
    "        arguments=[\n",
    "            \"-c\",\n",
    "            f\"mc config host add minio-local http://minio.default.svc.cluster.local:9000 minioadmin minioadmin && mc cp /assets/output-data.txt minio-local/{output_path}\"   \n",
    "        ],\n",
    "        pvolumes={ \"/assets\": vop.volume })\n",
    "    \n",
    "    delete_step = dsl.ResourceOp(\n",
    "        name=\"delete_seldon\",\n",
    "        action=\"delete\",\n",
    "        k8s_resource=yaml.safe_load(seldon_deployment_yaml))\n",
    "    \n",
    "    scale_and_wait.after(deploy_step)\n",
    "    download_from_object_store.after(scale_and_wait)\n",
    "    batch_process_step.after(download_from_object_store)\n",
    "    upload_to_object_store.after(batch_process_step)\n",
    "    delete_step.after(upload_to_object_store)\n",
    "\n",
    "if __name__ == '__main__':\n",
    "  import kfp.compiler as compiler\n",
    "  compiler.Compiler().compile(nlp_pipeline, __file__ + '.tar.gz')\n"
   ]
  },
  {
   "cell_type": "markdown",
   "metadata": {},
   "source": [
    "## Trigger the creation \n",
    "We will run the python file which triggers the creation of the pipeline that we can the upload on the UI:"
   ]
  },
  {
   "cell_type": "code",
   "execution_count": 41,
   "metadata": {},
   "outputs": [
    {
     "name": "stdout",
     "output_type": "stream",
     "text": [
      "/home/alejandro/miniconda3/lib/python3.7/site-packages/kfp/components/_data_passing.py:168: UserWarning: Missing type name was inferred as \"Integer\" based on the value \"3\".\r\n",
      "  warnings.warn('Missing type name was inferred as \"{}\" based on the value \"{}\".'.format(type_name, str(value)))\r\n",
      "/home/alejandro/miniconda3/lib/python3.7/site-packages/kfp/components/_data_passing.py:168: UserWarning: Missing type name was inferred as \"Integer\" based on the value \"10\".\r\n",
      "  warnings.warn('Missing type name was inferred as \"{}\" based on the value \"{}\".'.format(type_name, str(value)))\r\n",
      "/home/alejandro/miniconda3/lib/python3.7/site-packages/kfp/components/_data_passing.py:168: UserWarning: Missing type name was inferred as \"Integer\" based on the value \"100\".\r\n",
      "  warnings.warn('Missing type name was inferred as \"{}\" based on the value \"{}\".'.format(type_name, str(value)))\r\n"
     ]
    }
   ],
   "source": [
    "!python assets/seldon-batch-pipeline.py"
   ]
  },
  {
   "cell_type": "markdown",
   "metadata": {},
   "source": [
    "Check the pipeline has been created:"
   ]
  },
  {
   "cell_type": "code",
   "execution_count": 42,
   "metadata": {},
   "outputs": [
    {
     "name": "stdout",
     "output_type": "stream",
     "text": [
      "input-data.txt\t\t  seldon-batch-pipeline.py.tar.gz\r\n",
      "kubeflow-pipeline.jpg\t  seldon-kubeflow-batch.gif\r\n",
      "seldon-batch-pipeline.py\r\n"
     ]
    }
   ],
   "source": [
    "!ls assets/"
   ]
  },
  {
   "cell_type": "markdown",
   "metadata": {},
   "source": [
    "## Open the Kubeflow Pipelines UI\n",
    "\n",
    "We can now open the UI by port forwarding the UI with the following command:\n",
    "    \n",
    "```\n",
    "kubectl port-forward svc/ml-pipeline-ui -n kubeflow 8000:80\n",
    "```\n",
    "\n",
    "And we can open it locally in our browser via [http://localhost:8000](http://localhost:8000)\n",
    "\n",
    "Now we can follow the standard steps to create and deploy the kubeflow pipline\n",
    "\n",
    "![](assets/seldon-kubeflow-batch.gif)"
   ]
  },
  {
   "cell_type": "code",
   "execution_count": null,
   "metadata": {},
   "outputs": [],
   "source": []
  }
 ],
 "metadata": {
  "kernelspec": {
   "display_name": "Python 3",
   "language": "python",
   "name": "python3"
  },
  "language_info": {
   "codemirror_mode": {
    "name": "ipython",
    "version": 3
   },
   "file_extension": ".py",
   "mimetype": "text/x-python",
   "name": "python",
   "nbconvert_exporter": "python",
   "pygments_lexer": "ipython3",
   "version": "3.7.4"
  }
 },
 "nbformat": 4,
 "nbformat_minor": 2
}
