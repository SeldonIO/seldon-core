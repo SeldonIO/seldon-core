{
 "cells": [
  {
   "cell_type": "markdown",
   "metadata": {},
   "source": [
    "## Batch processing with Argo Worfklows\n",
    "\n",
    "In this notebook we will dive into how you can run batch processing with Argo Workflows and Seldon Core.\n",
    "\n",
    "Dependencies:\n",
    "\n",
    "* Seldon core installed as per the docs with an ingress\n",
    "* Argo Workfklows installed in cluster (and argo CLI for commands)\n"
   ]
  },
  {
   "cell_type": "markdown",
   "metadata": {},
   "source": [
    "## Argo Workflows Example\n",
    "\n",
    "Let's try an argo workflows example to see intuitively how it works. \n",
    "\n",
    "In this case we will trigger a workflow with 3 steps (first one will execute and the other two jobs are dependent on that).\n",
    "\n",
    "The example below will basically run a workflow in the following order:\n",
    "\n",
    "![](assets/argo-example.jpg)"
   ]
  },
  {
   "cell_type": "code",
   "execution_count": 1,
   "metadata": {},
   "outputs": [],
   "source": [
    "mkdir -p assets"
   ]
  },
  {
   "cell_type": "code",
   "execution_count": 821,
   "metadata": {},
   "outputs": [
    {
     "name": "stdout",
     "output_type": "stream",
     "text": [
      "Overwriting assets/argo-example.yaml\n"
     ]
    }
   ],
   "source": [
    "%%writefile assets/argo-example.yaml\n",
    "---\n",
    "apiVersion: argoproj.io/v1alpha1\n",
    "kind: Workflow\n",
    "metadata:\n",
    "  name: argo-basic-example\n",
    "spec:\n",
    "  entrypoint: hello-hello-hello\n",
    "  # This spec contains two templates: hello-hello-hello and whalesay\n",
    "  templates:\n",
    "  - name: hello-hello-hello\n",
    "    # Instead of just running a container\n",
    "    # This template has a sequence of steps\n",
    "    steps:\n",
    "    - - name: hello1            # hello1 is run before the following steps\n",
    "        template: whalesay\n",
    "        arguments:\n",
    "          parameters:\n",
    "          - name: message\n",
    "            value: \"hello1\"\n",
    "    - - name: hello2a           # double dash => run after previous step\n",
    "        template: whalesay\n",
    "        arguments:\n",
    "          parameters:\n",
    "          - name: message\n",
    "            value: \"hello2a\"\n",
    "      - name: hello2b           # single dash => run in parallel with previous step\n",
    "        template: whalesay\n",
    "        arguments:\n",
    "          parameters:\n",
    "          - name: message\n",
    "            value: \"hello2b\"\n",
    "  # This is the same template as from the previous example\n",
    "  - name: whalesay\n",
    "    inputs:\n",
    "      parameters:\n",
    "      - name: message\n",
    "    container:\n",
    "      image: docker/whalesay\n",
    "      command: [cowsay]\n",
    "      args: [\"{{inputs.parameters.message}}\"]\n",
    "        "
   ]
  },
  {
   "cell_type": "code",
   "execution_count": 822,
   "metadata": {},
   "outputs": [
    {
     "name": "stdout",
     "output_type": "stream",
     "text": [
      "Name:                argo-basic-example\r\n",
      "Namespace:           default\r\n",
      "ServiceAccount:      default\r\n",
      "Status:              Pending\r\n",
      "Created:             Sat May 02 12:15:51 +0100 (now)\r\n"
     ]
    }
   ],
   "source": [
    "!argo submit assets/argo-example.yaml"
   ]
  },
  {
   "cell_type": "code",
   "execution_count": 823,
   "metadata": {},
   "outputs": [
    {
     "name": "stdout",
     "output_type": "stream",
     "text": [
      "NAME                 STATUS    AGE   DURATION   PRIORITY\r\n",
      "argo-basic-example   Running   2s    2s         0\r\n"
     ]
    }
   ],
   "source": [
    "!argo list"
   ]
  },
  {
   "cell_type": "code",
   "execution_count": 863,
   "metadata": {},
   "outputs": [
    {
     "name": "stdout",
     "output_type": "stream",
     "text": [
      "Name:                argo-basic-example\r\n",
      "Namespace:           default\r\n",
      "ServiceAccount:      default\r\n",
      "Status:              Succeeded\r\n",
      "Created:             Sat May 02 12:15:51 +0100 (47 seconds ago)\r\n",
      "Started:             Sat May 02 12:15:51 +0100 (47 seconds ago)\r\n",
      "Finished:            Sat May 02 12:16:38 +0100 (now)\r\n",
      "Duration:            47 seconds\r\n",
      "\r\n",
      "\u001b[39mSTEP\u001b[0m                                       PODNAME                        DURATION  MESSAGE\r\n",
      " \u001b[32m✔\u001b[0m argo-basic-example (hello-hello-hello)                                           \r\n",
      " ├---\u001b[32m✔\u001b[0m hello1 (whalesay)                   argo-basic-example-3663002391  39s       \r\n",
      " └-·-\u001b[32m✔\u001b[0m hello2a (whalesay)                  argo-basic-example-3531035296  3s        \r\n",
      "   └-\u001b[32m✔\u001b[0m hello2b (whalesay)                  argo-basic-example-3581368153  5s        \r\n"
     ]
    }
   ],
   "source": [
    "!argo get argo-basic-example"
   ]
  },
  {
   "cell_type": "code",
   "execution_count": 864,
   "metadata": {},
   "outputs": [
    {
     "name": "stdout",
     "output_type": "stream",
     "text": [
      "\u001b[37mhello1\u001b[0m:\t ________ \r\n",
      "\u001b[37mhello1\u001b[0m:\t< hello1 >\r\n",
      "\u001b[37mhello1\u001b[0m:\t -------- \r\n",
      "\u001b[37mhello1\u001b[0m:\t    \\\r\n",
      "\u001b[37mhello1\u001b[0m:\t     \\\r\n",
      "\u001b[37mhello1\u001b[0m:\t      \\     \r\n",
      "\u001b[37mhello1\u001b[0m:\t                    ##        .            \r\n",
      "\u001b[37mhello1\u001b[0m:\t              ## ## ##       ==            \r\n",
      "\u001b[37mhello1\u001b[0m:\t           ## ## ## ##      ===            \r\n",
      "\u001b[37mhello1\u001b[0m:\t       /\"\"\"\"\"\"\"\"\"\"\"\"\"\"\"\"___/ ===        \r\n",
      "\u001b[37mhello1\u001b[0m:\t  ~~~ {~~ ~~~~ ~~~ ~~~~ ~~ ~ /  ===- ~~~   \r\n",
      "\u001b[37mhello1\u001b[0m:\t       \\______ o          __/            \r\n",
      "\u001b[37mhello1\u001b[0m:\t        \\    \\        __/             \r\n",
      "\u001b[37mhello1\u001b[0m:\t          \\____\\______/   \r\n",
      "\u001b[37mhello2a\u001b[0m:\t _________ \r\n",
      "\u001b[37mhello2a\u001b[0m:\t< hello2a >\r\n",
      "\u001b[37mhello2a\u001b[0m:\t --------- \r\n",
      "\u001b[37mhello2a\u001b[0m:\t    \\\r\n",
      "\u001b[37mhello2a\u001b[0m:\t     \\\r\n",
      "\u001b[37mhello2a\u001b[0m:\t      \\     \r\n",
      "\u001b[37mhello2a\u001b[0m:\t                    ##        .            \r\n",
      "\u001b[37mhello2a\u001b[0m:\t              ## ## ##       ==            \r\n",
      "\u001b[37mhello2a\u001b[0m:\t           ## ## ## ##      ===            \r\n",
      "\u001b[37mhello2a\u001b[0m:\t       /\"\"\"\"\"\"\"\"\"\"\"\"\"\"\"\"___/ ===        \r\n",
      "\u001b[37mhello2a\u001b[0m:\t  ~~~ {~~ ~~~~ ~~~ ~~~~ ~~ ~ /  ===- ~~~   \r\n",
      "\u001b[37mhello2a\u001b[0m:\t       \\______ o          __/            \r\n",
      "\u001b[37mhello2a\u001b[0m:\t        \\    \\        __/             \r\n",
      "\u001b[37mhello2a\u001b[0m:\t          \\____\\______/   \r\n",
      "\u001b[34mhello2b\u001b[0m:\t _________ \r\n",
      "\u001b[34mhello2b\u001b[0m:\t< hello2b >\r\n",
      "\u001b[34mhello2b\u001b[0m:\t --------- \r\n",
      "\u001b[34mhello2b\u001b[0m:\t    \\\r\n",
      "\u001b[34mhello2b\u001b[0m:\t     \\\r\n",
      "\u001b[34mhello2b\u001b[0m:\t      \\     \r\n",
      "\u001b[34mhello2b\u001b[0m:\t                    ##        .            \r\n",
      "\u001b[34mhello2b\u001b[0m:\t              ## ## ##       ==            \r\n",
      "\u001b[34mhello2b\u001b[0m:\t           ## ## ## ##      ===            \r\n",
      "\u001b[34mhello2b\u001b[0m:\t       /\"\"\"\"\"\"\"\"\"\"\"\"\"\"\"\"___/ ===        \r\n",
      "\u001b[34mhello2b\u001b[0m:\t  ~~~ {~~ ~~~~ ~~~ ~~~~ ~~ ~ /  ===- ~~~   \r\n",
      "\u001b[34mhello2b\u001b[0m:\t       \\______ o          __/            \r\n",
      "\u001b[34mhello2b\u001b[0m:\t        \\    \\        __/             \r\n",
      "\u001b[34mhello2b\u001b[0m:\t          \\____\\______/   \r\n"
     ]
    }
   ],
   "source": [
    "!argo logs -w argo-basic-example"
   ]
  },
  {
   "cell_type": "code",
   "execution_count": 865,
   "metadata": {},
   "outputs": [
    {
     "name": "stdout",
     "output_type": "stream",
     "text": [
      "Workflow 'argo-basic-example' deleted\r\n"
     ]
    }
   ],
   "source": [
    "!argo delete argo-basic-example"
   ]
  },
  {
   "cell_type": "markdown",
   "metadata": {},
   "source": [
    "## Seldon Core Batch \n",
    "Now we can leverage this functionality by using seldon core batch.\n",
    "\n",
    "The structure of this job will be the following:\n",
    "\n",
    "![](assets/seldon-batch-simple.jpg)\n",
    "\n",
    "THe file below denotes the structure of the three steps in this workflow:"
   ]
  },
  {
   "cell_type": "code",
   "execution_count": 798,
   "metadata": {},
   "outputs": [
    {
     "name": "stdout",
     "output_type": "stream",
     "text": [
      "Overwriting assets/seldon-batch.yaml\n"
     ]
    }
   ],
   "source": [
    "%%writefile assets/seldon-batch.yaml\n",
    "---\n",
    "apiVersion: argoproj.io/v1alpha1\n",
    "kind: Workflow\n",
    "metadata:\n",
    "  name: seldon-batch-simple\n",
    "spec:\n",
    "  entrypoint: seldon-batch-process\n",
    "  templates:\n",
    "  - name: seldon-batch-process\n",
    "    steps:\n",
    "    - - name: create-seldon-resource            \n",
    "        template: create-seldon-resource-template\n",
    "    - - name: wait-seldon-resource\n",
    "        template: wait-seldon-resource-template\n",
    "    - - name: process-batch-inputs\n",
    "        template: process-batch-inputs-template\n",
    "            \n",
    "  - name: create-seldon-resource-template\n",
    "    resource:\n",
    "      action: create\n",
    "      manifest: |\n",
    "        apiVersion: machinelearning.seldon.io/v1\n",
    "        kind: SeldonDeployment\n",
    "        metadata:\n",
    "          name: \"{{workflow.uid}}\"\n",
    "          ownerReferences:\n",
    "          - apiVersion: argoproj.io/v1alpha1\n",
    "            blockOwnerDeletion: true\n",
    "            kind: Workflow\n",
    "            name: \"{{workflow.name}}\"\n",
    "            uid: \"{{workflow.uid}}\"\n",
    "        spec:\n",
    "          name: \"{{workflow.uid}}\"\n",
    "          predictors:\n",
    "            - graph:\n",
    "                children: []\n",
    "                implementation: SKLEARN_SERVER\n",
    "                modelUri: gs://seldon-models/sklearn/iris\n",
    "                name: classifier\n",
    "              name: default\n",
    "              replicas: 1\n",
    "                \n",
    "  - name: wait-seldon-resource-template\n",
    "    script:\n",
    "      image: seldonio/core-builder:0.14\n",
    "      command: [bash]\n",
    "      source: |\n",
    "        sleep 5\n",
    "        kubectl rollout status deploy/$(kubectl get deploy -l seldon-deployment-id=\"{{workflow.uid}}\" -o jsonpath='{.items[0].metadata.name}')\n",
    "        \n",
    "  - name: process-batch-inputs-template\n",
    "    script:\n",
    "      image: seldonio/seldon-core-s2i-python3:1.1.1-SNAPSHOT\n",
    "      command: [python]\n",
    "      source: |\n",
    "        from seldon_core.seldon_client import SeldonClient\n",
    "        import numpy as np\n",
    "        import time\n",
    "        sc = SeldonClient(\n",
    "            gateway_endpoint=\"istio-ingressgateway.istio-system.svc.cluster.local\",\n",
    "            deployment_name=\"{{workflow.uid}}\",\n",
    "            namespace=\"default\")\n",
    "        for i in range(10):\n",
    "            data = np.array([[i, i, i, i]])\n",
    "            output = sc.predict(data=data)\n",
    "            print(output.response)\n",
    "            "
   ]
  },
  {
   "cell_type": "code",
   "execution_count": 799,
   "metadata": {},
   "outputs": [
    {
     "name": "stdout",
     "output_type": "stream",
     "text": [
      "Name:                seldon-batch-simple\r\n",
      "Namespace:           default\r\n",
      "ServiceAccount:      default\r\n",
      "Status:              Pending\r\n",
      "Created:             Sat May 02 12:14:04 +0100 (now)\r\n"
     ]
    }
   ],
   "source": [
    "!argo submit assets/seldon-batch.yaml"
   ]
  },
  {
   "cell_type": "code",
   "execution_count": 801,
   "metadata": {},
   "outputs": [
    {
     "name": "stdout",
     "output_type": "stream",
     "text": [
      "NAME                  STATUS    AGE   DURATION   PRIORITY\r\n",
      "seldon-batch-simple   Running   8s    8s         0\r\n"
     ]
    }
   ],
   "source": [
    "!argo list"
   ]
  },
  {
   "cell_type": "code",
   "execution_count": 802,
   "metadata": {},
   "outputs": [
    {
     "name": "stdout",
     "output_type": "stream",
     "text": [
      "Name:                seldon-batch-simple\r\n",
      "Namespace:           default\r\n",
      "ServiceAccount:      default\r\n",
      "Status:              Running\r\n",
      "Created:             Sat May 02 12:14:04 +0100 (9 seconds ago)\r\n",
      "Started:             Sat May 02 12:14:04 +0100 (9 seconds ago)\r\n",
      "Duration:            9 seconds\r\n",
      "\r\n",
      "\u001b[39mSTEP\u001b[0m                                                             PODNAME                         DURATION  MESSAGE\r\n",
      " \u001b[36m●\u001b[0m seldon-batch-simple (seldon-batch-process)                                                              \r\n",
      " ├---\u001b[32m✔\u001b[0m create-seldon-resource (create-seldon-resource-template)  seldon-batch-simple-3724798319  2s        \r\n",
      " └---\u001b[36m●\u001b[0m wait-seldon-resource (wait-seldon-resource-template)      seldon-batch-simple-4145437349  7s        \r\n"
     ]
    }
   ],
   "source": [
    "!argo get seldon-batch-simple"
   ]
  },
  {
   "cell_type": "code",
   "execution_count": 815,
   "metadata": {},
   "outputs": [
    {
     "name": "stdout",
     "output_type": "stream",
     "text": [
      "\u001b[35mcreate-seldon-resource\u001b[0m:\ttime=\"2020-05-02T11:14:05Z\" level=info msg=\"Starting Workflow Executor\" version=vv2.7.4+50b209c.dirty\r\n",
      "\u001b[35mcreate-seldon-resource\u001b[0m:\ttime=\"2020-05-02T11:14:05Z\" level=info msg=\"Creating a docker executor\"\r\n",
      "\u001b[35mcreate-seldon-resource\u001b[0m:\ttime=\"2020-05-02T11:14:05Z\" level=info msg=\"Executor (version: vv2.7.4+50b209c.dirty, build_date: 2020-04-16T16:37:57Z) initialized (pod: default/seldon-batch-simple-3724798319) with template:\\n{\\\"name\\\":\\\"create-seldon-resource-template\\\",\\\"arguments\\\":{},\\\"inputs\\\":{},\\\"outputs\\\":{},\\\"metadata\\\":{},\\\"resource\\\":{\\\"action\\\":\\\"create\\\",\\\"manifest\\\":\\\"apiVersion: machinelearning.seldon.io/v1\\\\nkind: SeldonDeployment\\\\nmetadata:\\\\n  name: \\\\\\\"b754cbcc-e2f2-49ee-978b-643699dee396\\\\\\\"\\\\n  ownerReferences:\\\\n  - apiVersion: argoproj.io/v1alpha1\\\\n    blockOwnerDeletion: true\\\\n    kind: Workflow\\\\n    name: \\\\\\\"seldon-batch-simple\\\\\\\"\\\\n    uid: \\\\\\\"b754cbcc-e2f2-49ee-978b-643699dee396\\\\\\\"\\\\nspec:\\\\n  name: \\\\\\\"b754cbcc-e2f2-49ee-978b-643699dee396\\\\\\\"\\\\n  predictors:\\\\n    - graph:\\\\n        children: []\\\\n        implementation: SKLEARN_SERVER\\\\n        modelUri: gs://seldon-models/sklearn/iris\\\\n        name: classifier\\\\n      name: default\\\\n      replicas: 1\\\\n        \\\\n\\\"}}\"\r\n",
      "\u001b[35mcreate-seldon-resource\u001b[0m:\ttime=\"2020-05-02T11:14:05Z\" level=info msg=\"Loading manifest to /tmp/manifest.yaml\"\r\n",
      "\u001b[35mcreate-seldon-resource\u001b[0m:\ttime=\"2020-05-02T11:14:05Z\" level=info msg=\"kubectl create -f /tmp/manifest.yaml -o json\"\r\n",
      "\u001b[35mcreate-seldon-resource\u001b[0m:\ttime=\"2020-05-02T11:14:06Z\" level=info msg=default/SeldonDeployment.machinelearning.seldon.io/b754cbcc-e2f2-49ee-978b-643699dee396\r\n",
      "\u001b[35mcreate-seldon-resource\u001b[0m:\ttime=\"2020-05-02T11:14:06Z\" level=info msg=\"No output parameters\"\r\n",
      "\u001b[32mwait-seldon-resource\u001b[0m:\tWaiting for deployment \"b754cbcc-e2f2-49ee-978b-643699dee396-default-0-classifier\" rollout to finish: 0 of 1 updated replicas are available...\r\n",
      "\u001b[32mwait-seldon-resource\u001b[0m:\tdeployment \"b754cbcc-e2f2-49ee-978b-643699dee396-default-0-classifier\" successfully rolled out\r\n",
      "\u001b[39mprocess-batch-inputs\u001b[0m:\t{'data': {'names': ['t:0', 't:1', 't:2'], 'tensor': {'shape': [1, 3], 'values': [0.3664487684438811, 0.48528762951761806, 0.14826360203850078]}}, 'meta': {}}\r\n",
      "\u001b[39mprocess-batch-inputs\u001b[0m:\t{'data': {'names': ['t:0', 't:1', 't:2'], 'tensor': {'shape': [1, 3], 'values': [0.2075509473561692, 0.2443463805811625, 0.5481026720626684]}}, 'meta': {}}\r\n",
      "\u001b[39mprocess-batch-inputs\u001b[0m:\t{'data': {'names': ['t:0', 't:1', 't:2'], 'tensor': {'shape': [1, 3], 'values': [0.06995304386311439, 0.04864300564562103, 0.8814039504912645]}}, 'meta': {}}\r\n",
      "\u001b[39mprocess-batch-inputs\u001b[0m:\t{'data': {'names': ['t:0', 't:1', 't:2'], 'tensor': {'shape': [1, 3], 'values': [0.01859472366015777, 0.006956450489196832, 0.9744488258506454]}}, 'meta': {}}\r\n",
      "\u001b[39mprocess-batch-inputs\u001b[0m:\t{'data': {'names': ['t:0', 't:1', 't:2'], 'tensor': {'shape': [1, 3], 'values': [0.004653433216061866, 0.0009398331072469446, 0.9944067336766912]}}, 'meta': {}}\r\n",
      "\u001b[39mprocess-batch-inputs\u001b[0m:\t{'data': {'names': ['t:0', 't:1', 't:2'], 'tensor': {'shape': [1, 3], 'values': [0.0011463235173706913, 0.0001256712307515923, 0.9987280052518777]}}, 'meta': {}}\r\n",
      "\u001b[39mprocess-batch-inputs\u001b[0m:\t{'data': {'names': ['t:0', 't:1', 't:2'], 'tensor': {'shape': [1, 3], 'values': [0.0002812079399700444, 1.6767055911301234e-05, 0.9997020250041186]}}, 'meta': {}}\r\n",
      "\u001b[39mprocess-batch-inputs\u001b[0m:\t{'data': {'names': ['t:0', 't:1', 't:2'], 'tensor': {'shape': [1, 3], 'values': [6.890870086562858e-05, 2.235872103887171e-06, 0.9999288554270304]}}, 'meta': {}}\r\n",
      "\u001b[39mprocess-batch-inputs\u001b[0m:\t{'data': {'names': ['t:0', 't:1', 't:2'], 'tensor': {'shape': [1, 3], 'values': [1.6881012306246608e-05, 2.981118341014688e-07, 0.9999828208758597]}}, 'meta': {}}\r\n",
      "\u001b[39mprocess-batch-inputs\u001b[0m:\t{'data': {'names': ['t:0', 't:1', 't:2'], 'tensor': {'shape': [1, 3], 'values': [4.135155685795574e-06, 3.974630518304911e-08, 0.9999958250980091]}}, 'meta': {}}\r\n"
     ]
    }
   ],
   "source": [
    "!argo logs -w seldon-batch-simple"
   ]
  },
  {
   "cell_type": "code",
   "execution_count": 819,
   "metadata": {},
   "outputs": [
    {
     "name": "stdout",
     "output_type": "stream",
     "text": [
      "{'data': {'names': ['t:0', 't:1', 't:2'], 'tensor': {'shape': [1, 3], 'values': [0.3664487684438811, 0.48528762951761806, 0.14826360203850078]}}, 'meta': {}}\n",
      "{'data': {'names': ['t:0', 't:1', 't:2'], 'tensor': {'shape': [1, 3], 'values': [0.2075509473561692, 0.2443463805811625, 0.5481026720626684]}}, 'meta': {}}\n",
      "{'data': {'names': ['t:0', 't:1', 't:2'], 'tensor': {'shape': [1, 3], 'values': [0.06995304386311439, 0.04864300564562103, 0.8814039504912645]}}, 'meta': {}}\n",
      "{'data': {'names': ['t:0', 't:1', 't:2'], 'tensor': {'shape': [1, 3], 'values': [0.01859472366015777, 0.006956450489196832, 0.9744488258506454]}}, 'meta': {}}\n",
      "{'data': {'names': ['t:0', 't:1', 't:2'], 'tensor': {'shape': [1, 3], 'values': [0.004653433216061866, 0.0009398331072469446, 0.9944067336766912]}}, 'meta': {}}\n",
      "{'data': {'names': ['t:0', 't:1', 't:2'], 'tensor': {'shape': [1, 3], 'values': [0.0011463235173706913, 0.0001256712307515923, 0.9987280052518777]}}, 'meta': {}}\n",
      "{'data': {'names': ['t:0', 't:1', 't:2'], 'tensor': {'shape': [1, 3], 'values': [0.0002812079399700444, 1.6767055911301234e-05, 0.9997020250041186]}}, 'meta': {}}\n",
      "{'data': {'names': ['t:0', 't:1', 't:2'], 'tensor': {'shape': [1, 3], 'values': [6.890870086562858e-05, 2.235872103887171e-06, 0.9999288554270304]}}, 'meta': {}}\n",
      "{'data': {'names': ['t:0', 't:1', 't:2'], 'tensor': {'shape': [1, 3], 'values': [1.6881012306246608e-05, 2.981118341014688e-07, 0.9999828208758597]}}, 'meta': {}}\n",
      "{'data': {'names': ['t:0', 't:1', 't:2'], 'tensor': {'shape': [1, 3], 'values': [4.135155685795574e-06, 3.974630518304911e-08, 0.9999958250980091]}}, 'meta': {}}\n"
     ]
    }
   ],
   "source": [
    "outputs = !(argo logs -w seldon-batch-simple --no-color | grep \"process-batch-inputs\" | cut -c 23-)\n",
    "for o in outputs:\n",
    "    print(o)"
   ]
  },
  {
   "cell_type": "code",
   "execution_count": 820,
   "metadata": {},
   "outputs": [
    {
     "name": "stdout",
     "output_type": "stream",
     "text": [
      "Workflow 'seldon-batch-simple' deleted\r\n"
     ]
    }
   ],
   "source": [
    "!argo delete seldon-batch-simple"
   ]
  },
  {
   "cell_type": "markdown",
   "metadata": {},
   "source": [
    "## Seldon Core Batch with Object Store\n",
    "\n",
    "In some cases we may want to read the data from an object source.\n",
    "\n",
    "In this case we will show how you can read from an object store, in this case minio.\n",
    "\n",
    "The workflow will look as follows:\n",
    "\n",
    "![](assets/seldon-batch-store.jpg)\n",
    "\n",
    "For this we will assume you have installed the Minio (mc) CLI - we will use a Minio client in the cluster but you can use another object store provider like S3, Google Cloud, Azure, etc.\n",
    "\n",
    "### Set up Minio in your cluster"
   ]
  },
  {
   "cell_type": "code",
   "execution_count": 481,
   "metadata": {},
   "outputs": [
    {
     "name": "stdout",
     "output_type": "stream",
     "text": [
      "NAME: minio\n",
      "LAST DEPLOYED: Thu Apr 30 10:57:00 2020\n",
      "NAMESPACE: default\n",
      "STATUS: deployed\n",
      "REVISION: 1\n",
      "TEST SUITE: None\n",
      "NOTES:\n",
      "Minio can be accessed via port 9000 on the following DNS name from within your cluster:\n",
      "minio.default.svc.cluster.local\n",
      "\n",
      "To access Minio from localhost, run the below commands:\n",
      "\n",
      "  1. export POD_NAME=$(kubectl get pods --namespace default -l \"release=minio\" -o jsonpath=\"{.items[0].metadata.name}\")\n",
      "\n",
      "  2. kubectl port-forward $POD_NAME 9000 --namespace default\n",
      "\n",
      "Read more about port forwarding here: http://kubernetes.io/docs/user-guide/kubectl/kubectl_port-forward/\n",
      "\n",
      "You can now access Minio server on http://localhost:9000. Follow the below steps to connect to Minio server with mc client:\n",
      "\n",
      "  1. Download the Minio mc client - https://docs.minio.io/docs/minio-client-quickstart-guide\n",
      "\n",
      "  2. mc config host add minio-local http://localhost:9000 minioadmin minioadmin S3v4\n",
      "\n",
      "  3. mc ls minio-local\n",
      "\n",
      "Alternately, you can use your browser or the Minio SDK to access the server - https://docs.minio.io/categories/17\n"
     ]
    }
   ],
   "source": [
    "%%bash \n",
    "helm install minio stable/minio \\\n",
    "    --set accessKey=minioadmin \\\n",
    "    --set secretKey=minioadmin \\\n",
    "    --set image.tag=RELEASE.2020-04-15T19-42-18Z"
   ]
  },
  {
   "cell_type": "markdown",
   "metadata": {},
   "source": [
    "### Forward the Minio port so you can access it\n",
    "\n",
    "You can do this by runnning the following command in your terminal:\n",
    "```\n",
    "kubectl port-forward svc/minio 9000:9000\n",
    "    ```\n",
    "    \n",
    "### Configure local minio client"
   ]
  },
  {
   "cell_type": "code",
   "execution_count": 483,
   "metadata": {},
   "outputs": [
    {
     "name": "stdout",
     "output_type": "stream",
     "text": [
      "\u001b[m\u001b[32mAdded `minio-local` successfully.\u001b[0m\r\n",
      "\u001b[0m"
     ]
    }
   ],
   "source": [
    "!mc config host add minio-local http://localhost:9000 minioadmin minioadmin"
   ]
  },
  {
   "cell_type": "markdown",
   "metadata": {},
   "source": [
    "### Configure bucket for Argo Artefact passing"
   ]
  },
  {
   "cell_type": "code",
   "execution_count": 76,
   "metadata": {},
   "outputs": [
    {
     "name": "stdout",
     "output_type": "stream",
     "text": [
      "Overwriting assets/argo-config.yaml\n"
     ]
    }
   ],
   "source": [
    "%%writefile assets/argo-config.yaml\n",
    "---\n",
    "apiVersion: v1\n",
    "kind: ConfigMap\n",
    "metadata:\n",
    "  name: workflow-controller-configmap\n",
    "data:\n",
    "  config: |\n",
    "    artifactRepository:\n",
    "      s3:\n",
    "        bucket: argo-artifacts\n",
    "        endpoint: minio.default.svc.cluster.local:9000\n",
    "        insecure: true\n",
    "        accessKeySecret:\n",
    "          name: minio\n",
    "          key: accesskey\n",
    "        secretKeySecret:\n",
    "          name: minio\n",
    "          key: secretkey"
   ]
  },
  {
   "cell_type": "markdown",
   "metadata": {},
   "source": [
    "### Make sure the configmap is in the same location as your argo controller"
   ]
  },
  {
   "cell_type": "code",
   "execution_count": 108,
   "metadata": {},
   "outputs": [
    {
     "name": "stdout",
     "output_type": "stream",
     "text": [
      "configmap/workflow-controller-configmap unchanged\r\n"
     ]
    }
   ],
   "source": [
    "!kubectl apply -n argo -f assets/argo-config.yaml"
   ]
  },
  {
   "cell_type": "markdown",
   "metadata": {},
   "source": [
    "### Create the bucket for artifact passing"
   ]
  },
  {
   "cell_type": "code",
   "execution_count": 572,
   "metadata": {},
   "outputs": [
    {
     "name": "stdout",
     "output_type": "stream",
     "text": [
      "\u001b[m\u001b[32;1mBucket created successfully `minio-local/argo-artifacts`.\u001b[0m\r\n",
      "\u001b[0m"
     ]
    }
   ],
   "source": [
    "!mc mb minio-local/argo-artifacts"
   ]
  },
  {
   "cell_type": "markdown",
   "metadata": {},
   "source": [
    "### Create some input for our model\n",
    "\n",
    "We will create a file that will contain the inputs that will be sent to our model"
   ]
  },
  {
   "cell_type": "code",
   "execution_count": 484,
   "metadata": {},
   "outputs": [],
   "source": [
    "with open(\"assets/input-data.txt\", \"w\") as f:\n",
    "    for i in range(10000):\n",
    "        f.write('{\"data\":{\"ndarray\":[[1, 2, 3, 4]]}, \"meta\": { \"puid\": \"' + str(i) + '\"}}\\n')"
   ]
  },
  {
   "cell_type": "markdown",
   "metadata": {},
   "source": [
    "### Check the contents of the file"
   ]
  },
  {
   "cell_type": "code",
   "execution_count": 485,
   "metadata": {},
   "outputs": [
    {
     "name": "stdout",
     "output_type": "stream",
     "text": [
      "10000 assets/input-data.txt\n",
      "{\"data\":{\"ndarray\":[[1, 2, 3, 4]]}, \"meta\": { \"puid\": \"0\"}}\n",
      "{\"data\":{\"ndarray\":[[1, 2, 3, 4]]}, \"meta\": { \"puid\": \"1\"}}\n",
      "{\"data\":{\"ndarray\":[[1, 2, 3, 4]]}, \"meta\": { \"puid\": \"2\"}}\n",
      "{\"data\":{\"ndarray\":[[1, 2, 3, 4]]}, \"meta\": { \"puid\": \"3\"}}\n",
      "{\"data\":{\"ndarray\":[[1, 2, 3, 4]]}, \"meta\": { \"puid\": \"4\"}}\n",
      "{\"data\":{\"ndarray\":[[1, 2, 3, 4]]}, \"meta\": { \"puid\": \"5\"}}\n",
      "{\"data\":{\"ndarray\":[[1, 2, 3, 4]]}, \"meta\": { \"puid\": \"6\"}}\n",
      "{\"data\":{\"ndarray\":[[1, 2, 3, 4]]}, \"meta\": { \"puid\": \"7\"}}\n",
      "{\"data\":{\"ndarray\":[[1, 2, 3, 4]]}, \"meta\": { \"puid\": \"8\"}}\n",
      "{\"data\":{\"ndarray\":[[1, 2, 3, 4]]}, \"meta\": { \"puid\": \"9\"}}\n"
     ]
    }
   ],
   "source": [
    "!wc -l assets/input-data.txt\n",
    "!head assets/input-data.txt"
   ]
  },
  {
   "cell_type": "markdown",
   "metadata": {},
   "source": [
    "### Upload the file to our minio"
   ]
  },
  {
   "cell_type": "code",
   "execution_count": 486,
   "metadata": {},
   "outputs": [
    {
     "name": "stdout",
     "output_type": "stream",
     "text": [
      "\u001b[m\u001b[32;1mBucket created successfully `minio-local/data`.\u001b[0m\n",
      "...-data.txt:  614.15 KiB / 614.15 KiB ┃▓▓▓▓▓▓▓▓▓▓▓▓▓▓▓▓▓▓▓▓▓▓▓▓▓┃ 9.74 MiB/s 0s\u001b[0m\u001b[0m\u001b[m\u001b[32;1m"
     ]
    }
   ],
   "source": [
    "!mc mb minio-local/data\n",
    "!mc cp assets/input-data.txt minio-local/data/"
   ]
  },
  {
   "cell_type": "markdown",
   "metadata": {},
   "source": [
    "### Create Argo Workflow\n",
    "\n",
    "In order to create our argo workflow we have made it simple so you can leverage the power of the helm charts.\n",
    "\n",
    "Before we dive into the contents of the full helm chart, let's first give it a try with some of the settings.\n",
    "\n",
    "We will run a batch job that will set up a Seldon Deployment with 10 replicas and 100 batch client workers to send requests."
   ]
  },
  {
   "cell_type": "code",
   "execution_count": 8,
   "metadata": {},
   "outputs": [
    {
     "name": "stdout",
     "output_type": "stream",
     "text": [
      "seldon-batch-workflow\r\n"
     ]
    }
   ],
   "source": [
    "!ls helm-charts/"
   ]
  },
  {
   "cell_type": "code",
   "execution_count": 119,
   "metadata": {
    "scrolled": false
   },
   "outputs": [
    {
     "name": "stdout",
     "output_type": "stream",
     "text": [
      "Name:                seldon-batch-process\r\n",
      "Namespace:           default\r\n",
      "ServiceAccount:      default\r\n",
      "Status:              Pending\r\n",
      "Created:             Mon May 18 21:55:31 +0100 (now)\r\n"
     ]
    }
   ],
   "source": [
    "!helm template seldon-batch-workflow helm-charts/seldon-batch-workflow \\\n",
    "    --set workflow.name=seldon-batch-process \\\n",
    "    --set seldonDeployment.create=true \\\n",
    "    --set seldonDeployment.name=\"seldon-batch\" \\\n",
    "    --set seldonDeployment.replicas=10 \\\n",
    "    --set batchWorker.workers=100 \\\n",
    "    --set minio.inputDataPath=\"s3://data/input-data.txt\" \\\n",
    "    --set minio.outputDataPath=\"s3://data/output-data-{{workflow.uid}}.txt\" \\\n",
    "    | argo submit -"
   ]
  },
  {
   "cell_type": "code",
   "execution_count": 120,
   "metadata": {},
   "outputs": [
    {
     "name": "stdout",
     "output_type": "stream",
     "text": [
      "NAME                   STATUS    AGE   DURATION   PRIORITY\r\n",
      "seldon-batch-process   Running   46s   46s        0\r\n"
     ]
    }
   ],
   "source": [
    "!argo list"
   ]
  },
  {
   "cell_type": "code",
   "execution_count": 121,
   "metadata": {},
   "outputs": [
    {
     "name": "stdout",
     "output_type": "stream",
     "text": [
      "Name:                seldon-batch-process\r\n",
      "Namespace:           default\r\n",
      "ServiceAccount:      default\r\n",
      "Status:              Running\r\n",
      "Created:             Mon May 18 21:55:31 +0100 (53 seconds ago)\r\n",
      "Started:             Mon May 18 21:55:31 +0100 (53 seconds ago)\r\n",
      "Duration:            53 seconds\r\n",
      "\r\n",
      "\u001b[39mSTEP\u001b[0m                                                             PODNAME                          DURATION  MESSAGE\r\n",
      " \u001b[36m●\u001b[0m seldon-batch-process (seldon-batch-process)                                                              \r\n",
      " ├---\u001b[32m✔\u001b[0m create-seldon-resource (create-seldon-resource-template)  seldon-batch-process-3626514072  1s        \r\n",
      " ├---\u001b[32m✔\u001b[0m wait-seldon-resource (wait-seldon-resource-template)      seldon-batch-process-2052519094  30s       \r\n",
      " └---\u001b[36m●\u001b[0m process-batch-inputs (process-batch-inputs-template)      seldon-batch-process-50851621    20s       \r\n"
     ]
    }
   ],
   "source": [
    "!argo get seldon-batch-process"
   ]
  },
  {
   "cell_type": "code",
   "execution_count": 112,
   "metadata": {},
   "outputs": [
    {
     "name": "stdout",
     "output_type": "stream",
     "text": [
      "\u001b[35mcreate-seldon-resource\u001b[0m:\ttime=\"2020-05-18T20:52:21Z\" level=info msg=\"Starting Workflow Executor\" version=vv2.7.4+50b209c.dirty\r\n",
      "\u001b[35mcreate-seldon-resource\u001b[0m:\ttime=\"2020-05-18T20:52:21Z\" level=info msg=\"Creating a docker executor\"\r\n",
      "\u001b[35mcreate-seldon-resource\u001b[0m:\ttime=\"2020-05-18T20:52:21Z\" level=info msg=\"Executor (version: vv2.7.4+50b209c.dirty, build_date: 2020-04-16T16:37:57Z) initialized (pod: default/seldon-batch-process-3626514072) with template:\\n{\\\"name\\\":\\\"create-seldon-resource-template\\\",\\\"arguments\\\":{},\\\"inputs\\\":{},\\\"outputs\\\":{},\\\"metadata\\\":{},\\\"resource\\\":{\\\"action\\\":\\\"create\\\",\\\"manifest\\\":\\\"apiVersion: machinelearning.seldon.io/v1\\\\nkind: SeldonDeployment\\\\nmetadata:\\\\n  name: \\\\\\\"seldon-844299e9-abf7-4742-9d4d-eeb405433569\\\\\\\"\\\\n  namespace: default\\\\n  ownerReferences:\\\\n  - apiVersion: argoproj.io/v1alpha1\\\\n    blockOwnerDeletion: true\\\\n    kind: Workflow\\\\n    name: \\\\\\\"seldon-batch-process\\\\\\\"\\\\n    uid: \\\\\\\"844299e9-abf7-4742-9d4d-eeb405433569\\\\\\\"\\\\nspec:\\\\n  name: \\\\\\\"seldon-844299e9-abf7-4742-9d4d-eeb405433569\\\\\\\"\\\\n  predictors:\\\\n    - graph:\\\\n        children: []\\\\n        implementation: SKLEARN_SERVER\\\\n        modelUri: gs://seldon-models/sklearn/iris\\\\n        name: classifier\\\\n      name: default\\\\n      replicas: 1\\\\n        \\\\n\\\"}}\"\r\n",
      "\u001b[35mcreate-seldon-resource\u001b[0m:\ttime=\"2020-05-18T20:52:21Z\" level=info msg=\"Loading manifest to /tmp/manifest.yaml\"\r\n",
      "\u001b[35mcreate-seldon-resource\u001b[0m:\ttime=\"2020-05-18T20:52:21Z\" level=info msg=\"kubectl create -f /tmp/manifest.yaml -o json\"\r\n",
      "\u001b[35mcreate-seldon-resource\u001b[0m:\ttime=\"2020-05-18T20:52:22Z\" level=info msg=default/SeldonDeployment.machinelearning.seldon.io/seldon-844299e9-abf7-4742-9d4d-eeb405433569\r\n",
      "\u001b[35mcreate-seldon-resource\u001b[0m:\ttime=\"2020-05-18T20:52:22Z\" level=info msg=\"No output parameters\"\r\n",
      "\u001b[32mwait-seldon-resource\u001b[0m:\tWaiting for deployment \"seldon-70a32d330b04187c79768e37cda5d600\" rollout to finish: 0 of 1 updated replicas are available...\r\n",
      "\u001b[32mwait-seldon-resource\u001b[0m:\tdeployment \"seldon-70a32d330b04187c79768e37cda5d600\" successfully rolled out\r\n"
     ]
    }
   ],
   "source": [
    "!argo logs -w seldon-batch-process "
   ]
  },
  {
   "cell_type": "markdown",
   "metadata": {},
   "source": [
    "## Check output in object store\n",
    "\n",
    "We can now visualise the output that we obtained in the object store.\n",
    "\n",
    "First we can check that the file is present:"
   ]
  },
  {
   "cell_type": "code",
   "execution_count": 114,
   "metadata": {},
   "outputs": [
    {
     "name": "stdout",
     "output_type": "stream",
     "text": [
      "Workflow ID is 844299e9-abf7-4742-9d4d-eeb405433569\n"
     ]
    }
   ],
   "source": [
    "import json\n",
    "wf_arr = !argo get seldon-batch-process -o json\n",
    "wf = json.loads(\"\".join(wf_arr))\n",
    "WF_ID = wf[\"metadata\"][\"uid\"]\n",
    "print(f\"Workflow ID is {WF_ID}\")"
   ]
  },
  {
   "cell_type": "code",
   "execution_count": 115,
   "metadata": {},
   "outputs": [
    {
     "name": "stdout",
     "output_type": "stream",
     "text": [
      "\u001b[m\u001b[32m[2020-05-18 21:53:16 BST] \u001b[0m\u001b[33m 1.3MiB \u001b[0m\u001b[1moutput-data-844299e9-abf7-4742-9d4d-eeb405433569.txt\u001b[0m\r\n",
      "\u001b[0m"
     ]
    }
   ],
   "source": [
    "!mc ls minio-local/data/output-data-\"$WF_ID\".txt"
   ]
  },
  {
   "cell_type": "markdown",
   "metadata": {},
   "source": [
    "Now we can output the contents of the file created using the `mc head` command."
   ]
  },
  {
   "cell_type": "code",
   "execution_count": 116,
   "metadata": {},
   "outputs": [
    {
     "name": "stdout",
     "output_type": "stream",
     "text": [
      "...33569.txt:  1.31 MiB / 1.31 MiB ┃▓▓▓▓▓▓▓▓▓▓▓▓▓▓▓▓▓▓▓▓▓▓▓▓▓▓▓▓┃ 26.12 MiB/s 0s\u001b[0m\u001b[0m\u001b[m\u001b[32;1m{\"data\":{\"names\":[\"t:0\",\"t:1\",\"t:2\"],\"ndarray\":[[0.0006985194531162841,0.003668039039435755,0.9956334415074478]]},\"meta\":{\"puid\":\"4\"}}\n",
      "{\"data\":{\"names\":[\"t:0\",\"t:1\",\"t:2\"],\"ndarray\":[[0.0006985194531162841,0.003668039039435755,0.9956334415074478]]},\"meta\":{\"puid\":\"0\"}}\n",
      "{\"data\":{\"names\":[\"t:0\",\"t:1\",\"t:2\"],\"ndarray\":[[0.0006985194531162841,0.003668039039435755,0.9956334415074478]]},\"meta\":{\"puid\":\"3\"}}\n",
      "{\"data\":{\"names\":[\"t:0\",\"t:1\",\"t:2\"],\"ndarray\":[[0.0006985194531162841,0.003668039039435755,0.9956334415074478]]},\"meta\":{\"puid\":\"1\"}}\n",
      "{\"data\":{\"names\":[\"t:0\",\"t:1\",\"t:2\"],\"ndarray\":[[0.0006985194531162841,0.003668039039435755,0.9956334415074478]]},\"meta\":{\"puid\":\"100\"}}\n",
      "{\"data\":{\"names\":[\"t:0\",\"t:1\",\"t:2\"],\"ndarray\":[[0.0006985194531162841,0.003668039039435755,0.9956334415074478]]},\"meta\":{\"puid\":\"6\"}}\n",
      "{\"data\":{\"names\":[\"t:0\",\"t:1\",\"t:2\"],\"ndarray\":[[0.0006985194531162841,0.003668039039435755,0.9956334415074478]]},\"meta\":{\"puid\":\"7\"}}\n",
      "{\"data\":{\"names\":[\"t:0\",\"t:1\",\"t:2\"],\"ndarray\":[[0.0006985194531162841,0.003668039039435755,0.9956334415074478]]},\"meta\":{\"puid\":\"9\"}}\n",
      "{\"data\":{\"names\":[\"t:0\",\"t:1\",\"t:2\"],\"ndarray\":[[0.0006985194531162841,0.003668039039435755,0.9956334415074478]]},\"meta\":{\"puid\":\"8\"}}\n",
      "{\"data\":{\"names\":[\"t:0\",\"t:1\",\"t:2\"],\"ndarray\":[[0.0006985194531162841,0.003668039039435755,0.9956334415074478]]},\"meta\":{\"puid\":\"106\"}}\n"
     ]
    }
   ],
   "source": [
    "!mc cp minio-local/data/output-data-\"$WF_ID\".txt assets/output-data.txt\n",
    "!head assets/output-data.txt"
   ]
  },
  {
   "cell_type": "code",
   "execution_count": 118,
   "metadata": {},
   "outputs": [
    {
     "name": "stdout",
     "output_type": "stream",
     "text": [
      "Workflow 'seldon-batch-process' deleted\r\n"
     ]
    }
   ],
   "source": [
    "!argo delete seldon-batch-process"
   ]
  },
  {
   "cell_type": "code",
   "execution_count": null,
   "metadata": {},
   "outputs": [],
   "source": []
  }
 ],
 "metadata": {
  "kernelspec": {
   "display_name": "Python 3",
   "language": "python",
   "name": "python3"
  },
  "language_info": {
   "codemirror_mode": {
    "name": "ipython",
    "version": 3
   },
   "file_extension": ".py",
   "mimetype": "text/x-python",
   "name": "python",
   "nbconvert_exporter": "python",
   "pygments_lexer": "ipython3",
   "version": "3.7.4"
  }
 },
 "nbformat": 4,
 "nbformat_minor": 2
}
