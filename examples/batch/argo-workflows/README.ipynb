{
 "cells": [
  {
   "cell_type": "markdown",
   "metadata": {},
   "source": [
    "## Batch processing with Argo Worfklows\n",
    "\n",
    "In this notebook we will dive into how you can run batch processing with Argo Workflows and Seldon Core.\n",
    "\n",
    "Dependencies:\n",
    "\n",
    "* Seldon core installed as per the docs with an ingress\n",
    "* Argo Workfklows installed in cluster (and argo CLI for commands)\n"
   ]
  },
  {
   "cell_type": "markdown",
   "metadata": {},
   "source": [
    "## Seldon Core Batch with Object Store\n",
    "\n",
    "In some cases we may want to read the data from an object source.\n",
    "\n",
    "In this case we will show how you can read from an object store, in this case minio.\n",
    "\n",
    "The workflow will look as follows:\n",
    "\n",
    "![](assets/seldon-batch.jpg)\n",
    "\n",
    "For this we will assume you have installed the Minio (mc) CLI - we will use a Minio client in the cluster but you can use another object store provider like S3, Google Cloud, Azure, etc.\n",
    "\n",
    "### Set up Minio in your cluster"
   ]
  },
  {
   "cell_type": "code",
   "execution_count": 481,
   "metadata": {},
   "outputs": [
    {
     "name": "stdout",
     "output_type": "stream",
     "text": [
      "NAME: minio\n",
      "LAST DEPLOYED: Thu Apr 30 10:57:00 2020\n",
      "NAMESPACE: default\n",
      "STATUS: deployed\n",
      "REVISION: 1\n",
      "TEST SUITE: None\n",
      "NOTES:\n",
      "Minio can be accessed via port 9000 on the following DNS name from within your cluster:\n",
      "minio.default.svc.cluster.local\n",
      "\n",
      "To access Minio from localhost, run the below commands:\n",
      "\n",
      "  1. export POD_NAME=$(kubectl get pods --namespace default -l \"release=minio\" -o jsonpath=\"{.items[0].metadata.name}\")\n",
      "\n",
      "  2. kubectl port-forward $POD_NAME 9000 --namespace default\n",
      "\n",
      "Read more about port forwarding here: http://kubernetes.io/docs/user-guide/kubectl/kubectl_port-forward/\n",
      "\n",
      "You can now access Minio server on http://localhost:9000. Follow the below steps to connect to Minio server with mc client:\n",
      "\n",
      "  1. Download the Minio mc client - https://docs.minio.io/docs/minio-client-quickstart-guide\n",
      "\n",
      "  2. mc config host add minio-local http://localhost:9000 minioadmin minioadmin S3v4\n",
      "\n",
      "  3. mc ls minio-local\n",
      "\n",
      "Alternately, you can use your browser or the Minio SDK to access the server - https://docs.minio.io/categories/17\n"
     ]
    }
   ],
   "source": [
    "%%bash \n",
    "helm install minio stable/minio \\\n",
    "    --set accessKey=minioadmin \\\n",
    "    --set secretKey=minioadmin \\\n",
    "    --set image.tag=RELEASE.2020-04-15T19-42-18Z"
   ]
  },
  {
   "cell_type": "markdown",
   "metadata": {},
   "source": [
    "### Forward the Minio port so you can access it\n",
    "\n",
    "You can do this by runnning the following command in your terminal:\n",
    "```\n",
    "kubectl port-forward svc/minio 9000:9000\n",
    "    ```\n",
    "    \n",
    "### Configure local minio client"
   ]
  },
  {
   "cell_type": "code",
   "execution_count": 483,
   "metadata": {},
   "outputs": [
    {
     "name": "stdout",
     "output_type": "stream",
     "text": [
      "\u001b[m\u001b[32mAdded `minio-local` successfully.\u001b[0m\r\n",
      "\u001b[0m"
     ]
    }
   ],
   "source": [
    "!mc config host add minio-local http://localhost:9000 minioadmin minioadmin"
   ]
  },
  {
   "cell_type": "markdown",
   "metadata": {},
   "source": [
    "### Create some input for our model\n",
    "\n",
    "We will create a file that will contain 10,000 inputs that will be sent to our model"
   ]
  },
  {
   "cell_type": "code",
   "execution_count": 484,
   "metadata": {},
   "outputs": [],
   "source": [
    "with open(\"assets/input-data.txt\", \"w\") as f:\n",
    "    for i in range(10000):\n",
    "        f.write('{\"data\":{\"ndarray\":[[1, 2, 3, 4]]}, \"meta\": { \"puid\": \"' + str(i) + '\"}}\\n')"
   ]
  },
  {
   "cell_type": "markdown",
   "metadata": {},
   "source": [
    "### Check the contents of the file"
   ]
  },
  {
   "cell_type": "code",
   "execution_count": 485,
   "metadata": {},
   "outputs": [
    {
     "name": "stdout",
     "output_type": "stream",
     "text": [
      "10000 assets/input-data.txt\n",
      "{\"data\":{\"ndarray\":[[1, 2, 3, 4]]}, \"meta\": { \"puid\": \"0\"}}\n",
      "{\"data\":{\"ndarray\":[[1, 2, 3, 4]]}, \"meta\": { \"puid\": \"1\"}}\n",
      "{\"data\":{\"ndarray\":[[1, 2, 3, 4]]}, \"meta\": { \"puid\": \"2\"}}\n",
      "{\"data\":{\"ndarray\":[[1, 2, 3, 4]]}, \"meta\": { \"puid\": \"3\"}}\n",
      "{\"data\":{\"ndarray\":[[1, 2, 3, 4]]}, \"meta\": { \"puid\": \"4\"}}\n",
      "{\"data\":{\"ndarray\":[[1, 2, 3, 4]]}, \"meta\": { \"puid\": \"5\"}}\n",
      "{\"data\":{\"ndarray\":[[1, 2, 3, 4]]}, \"meta\": { \"puid\": \"6\"}}\n",
      "{\"data\":{\"ndarray\":[[1, 2, 3, 4]]}, \"meta\": { \"puid\": \"7\"}}\n",
      "{\"data\":{\"ndarray\":[[1, 2, 3, 4]]}, \"meta\": { \"puid\": \"8\"}}\n",
      "{\"data\":{\"ndarray\":[[1, 2, 3, 4]]}, \"meta\": { \"puid\": \"9\"}}\n"
     ]
    }
   ],
   "source": [
    "!wc -l assets/input-data.txt\n",
    "!head assets/input-data.txt"
   ]
  },
  {
   "cell_type": "markdown",
   "metadata": {},
   "source": [
    "### Upload the file to our minio"
   ]
  },
  {
   "cell_type": "code",
   "execution_count": 486,
   "metadata": {},
   "outputs": [
    {
     "name": "stdout",
     "output_type": "stream",
     "text": [
      "\u001b[m\u001b[32;1mBucket created successfully `minio-local/data`.\u001b[0m\n",
      "...-data.txt:  614.15 KiB / 614.15 KiB ┃▓▓▓▓▓▓▓▓▓▓▓▓▓▓▓▓▓▓▓▓▓▓▓▓▓┃ 9.74 MiB/s 0s\u001b[0m\u001b[0m\u001b[m\u001b[32;1m"
     ]
    }
   ],
   "source": [
    "!mc mb minio-local/data\n",
    "!mc cp assets/input-data.txt minio-local/data/"
   ]
  },
  {
   "cell_type": "markdown",
   "metadata": {},
   "source": [
    "### Create Argo Workflow\n",
    "\n",
    "In order to create our argo workflow we have made it simple so you can leverage the power of the helm charts.\n",
    "\n",
    "Before we dive into the contents of the full helm chart, let's first give it a try with some of the settings.\n",
    "\n",
    "We will run a batch job that will set up a Seldon Deployment with 10 replicas and 100 batch client workers to send requests."
   ]
  },
  {
   "cell_type": "code",
   "execution_count": 8,
   "metadata": {},
   "outputs": [
    {
     "name": "stdout",
     "output_type": "stream",
     "text": [
      "seldon-batch-workflow\r\n"
     ]
    }
   ],
   "source": [
    "!ls helm-charts/"
   ]
  },
  {
   "cell_type": "code",
   "execution_count": 119,
   "metadata": {
    "scrolled": false
   },
   "outputs": [
    {
     "name": "stdout",
     "output_type": "stream",
     "text": [
      "Name:                seldon-batch-process\r\n",
      "Namespace:           default\r\n",
      "ServiceAccount:      default\r\n",
      "Status:              Pending\r\n",
      "Created:             Mon May 18 21:55:31 +0100 (now)\r\n"
     ]
    }
   ],
   "source": [
    "!helm template seldon-batch-workflow helm-charts/seldon-batch-workflow \\\n",
    "    --set workflow.name=seldon-batch-process \\\n",
    "    --set seldonDeployment.create=false \\\n",
    "    --set seldonDeployment.name=\"seldon-batch\" \\\n",
    "    --set seldonDeployment.replicas=10 \\\n",
    "    --set batchWorker.workers=100 \\\n",
    "    --set minio.inputDataPath=\"s3://data/input-data.txt\" \\\n",
    "    --set minio.outputDataPath=\"s3://data/output-data-{{workflow.uid}}.txt\" \\\n",
    "    | argo submit -"
   ]
  },
  {
   "cell_type": "code",
   "execution_count": 120,
   "metadata": {},
   "outputs": [
    {
     "name": "stdout",
     "output_type": "stream",
     "text": [
      "NAME                   STATUS    AGE   DURATION   PRIORITY\r\n",
      "seldon-batch-process   Running   46s   46s        0\r\n"
     ]
    }
   ],
   "source": [
    "!argo list"
   ]
  },
  {
   "cell_type": "code",
   "execution_count": 121,
   "metadata": {},
   "outputs": [
    {
     "name": "stdout",
     "output_type": "stream",
     "text": [
      "Name:                seldon-batch-process\r\n",
      "Namespace:           default\r\n",
      "ServiceAccount:      default\r\n",
      "Status:              Running\r\n",
      "Created:             Mon May 18 21:55:31 +0100 (53 seconds ago)\r\n",
      "Started:             Mon May 18 21:55:31 +0100 (53 seconds ago)\r\n",
      "Duration:            53 seconds\r\n",
      "\r\n",
      "\u001b[39mSTEP\u001b[0m                                                             PODNAME                          DURATION  MESSAGE\r\n",
      " \u001b[36m●\u001b[0m seldon-batch-process (seldon-batch-process)                                                              \r\n",
      " ├---\u001b[32m✔\u001b[0m create-seldon-resource (create-seldon-resource-template)  seldon-batch-process-3626514072  1s        \r\n",
      " ├---\u001b[32m✔\u001b[0m wait-seldon-resource (wait-seldon-resource-template)      seldon-batch-process-2052519094  30s       \r\n",
      " └---\u001b[36m●\u001b[0m process-batch-inputs (process-batch-inputs-template)      seldon-batch-process-50851621    20s       \r\n"
     ]
    }
   ],
   "source": [
    "!argo get seldon-batch-process"
   ]
  },
  {
   "cell_type": "code",
   "execution_count": 112,
   "metadata": {},
   "outputs": [
    {
     "name": "stdout",
     "output_type": "stream",
     "text": [
      "\u001b[35mcreate-seldon-resource\u001b[0m:\ttime=\"2020-05-18T20:52:21Z\" level=info msg=\"Starting Workflow Executor\" version=vv2.7.4+50b209c.dirty\r\n",
      "\u001b[35mcreate-seldon-resource\u001b[0m:\ttime=\"2020-05-18T20:52:21Z\" level=info msg=\"Creating a docker executor\"\r\n",
      "\u001b[35mcreate-seldon-resource\u001b[0m:\ttime=\"2020-05-18T20:52:21Z\" level=info msg=\"Executor (version: vv2.7.4+50b209c.dirty, build_date: 2020-04-16T16:37:57Z) initialized (pod: default/seldon-batch-process-3626514072) with template:\\n{\\\"name\\\":\\\"create-seldon-resource-template\\\",\\\"arguments\\\":{},\\\"inputs\\\":{},\\\"outputs\\\":{},\\\"metadata\\\":{},\\\"resource\\\":{\\\"action\\\":\\\"create\\\",\\\"manifest\\\":\\\"apiVersion: machinelearning.seldon.io/v1\\\\nkind: SeldonDeployment\\\\nmetadata:\\\\n  name: \\\\\\\"seldon-844299e9-abf7-4742-9d4d-eeb405433569\\\\\\\"\\\\n  namespace: default\\\\n  ownerReferences:\\\\n  - apiVersion: argoproj.io/v1alpha1\\\\n    blockOwnerDeletion: true\\\\n    kind: Workflow\\\\n    name: \\\\\\\"seldon-batch-process\\\\\\\"\\\\n    uid: \\\\\\\"844299e9-abf7-4742-9d4d-eeb405433569\\\\\\\"\\\\nspec:\\\\n  name: \\\\\\\"seldon-844299e9-abf7-4742-9d4d-eeb405433569\\\\\\\"\\\\n  predictors:\\\\n    - graph:\\\\n        children: []\\\\n        implementation: SKLEARN_SERVER\\\\n        modelUri: gs://seldon-models/sklearn/iris\\\\n        name: classifier\\\\n      name: default\\\\n      replicas: 1\\\\n        \\\\n\\\"}}\"\r\n",
      "\u001b[35mcreate-seldon-resource\u001b[0m:\ttime=\"2020-05-18T20:52:21Z\" level=info msg=\"Loading manifest to /tmp/manifest.yaml\"\r\n",
      "\u001b[35mcreate-seldon-resource\u001b[0m:\ttime=\"2020-05-18T20:52:21Z\" level=info msg=\"kubectl create -f /tmp/manifest.yaml -o json\"\r\n",
      "\u001b[35mcreate-seldon-resource\u001b[0m:\ttime=\"2020-05-18T20:52:22Z\" level=info msg=default/SeldonDeployment.machinelearning.seldon.io/seldon-844299e9-abf7-4742-9d4d-eeb405433569\r\n",
      "\u001b[35mcreate-seldon-resource\u001b[0m:\ttime=\"2020-05-18T20:52:22Z\" level=info msg=\"No output parameters\"\r\n",
      "\u001b[32mwait-seldon-resource\u001b[0m:\tWaiting for deployment \"seldon-70a32d330b04187c79768e37cda5d600\" rollout to finish: 0 of 1 updated replicas are available...\r\n",
      "\u001b[32mwait-seldon-resource\u001b[0m:\tdeployment \"seldon-70a32d330b04187c79768e37cda5d600\" successfully rolled out\r\n"
     ]
    }
   ],
   "source": [
    "!argo logs -w seldon-batch-process "
   ]
  },
  {
   "cell_type": "markdown",
   "metadata": {},
   "source": [
    "## Check output in object store\n",
    "\n",
    "We can now visualise the output that we obtained in the object store.\n",
    "\n",
    "First we can check that the file is present:"
   ]
  },
  {
   "cell_type": "code",
   "execution_count": 114,
   "metadata": {},
   "outputs": [
    {
     "name": "stdout",
     "output_type": "stream",
     "text": [
      "Workflow ID is 844299e9-abf7-4742-9d4d-eeb405433569\n"
     ]
    }
   ],
   "source": [
    "import json\n",
    "wf_arr = !argo get seldon-batch-process -o json\n",
    "wf = json.loads(\"\".join(wf_arr))\n",
    "WF_ID = wf[\"metadata\"][\"uid\"]\n",
    "print(f\"Workflow ID is {WF_ID}\")"
   ]
  },
  {
   "cell_type": "code",
   "execution_count": 115,
   "metadata": {},
   "outputs": [
    {
     "name": "stdout",
     "output_type": "stream",
     "text": [
      "\u001b[m\u001b[32m[2020-05-18 21:53:16 BST] \u001b[0m\u001b[33m 1.3MiB \u001b[0m\u001b[1moutput-data-844299e9-abf7-4742-9d4d-eeb405433569.txt\u001b[0m\r\n",
      "\u001b[0m"
     ]
    }
   ],
   "source": [
    "!mc ls minio-local/data/output-data-\"$WF_ID\".txt"
   ]
  },
  {
   "cell_type": "markdown",
   "metadata": {},
   "source": [
    "Now we can output the contents of the file created using the `mc head` command."
   ]
  },
  {
   "cell_type": "code",
   "execution_count": 116,
   "metadata": {},
   "outputs": [
    {
     "name": "stdout",
     "output_type": "stream",
     "text": [
      "...33569.txt:  1.31 MiB / 1.31 MiB ┃▓▓▓▓▓▓▓▓▓▓▓▓▓▓▓▓▓▓▓▓▓▓▓▓▓▓▓▓┃ 26.12 MiB/s 0s\u001b[0m\u001b[0m\u001b[m\u001b[32;1m{\"data\":{\"names\":[\"t:0\",\"t:1\",\"t:2\"],\"ndarray\":[[0.0006985194531162841,0.003668039039435755,0.9956334415074478]]},\"meta\":{\"puid\":\"4\"}}\n",
      "{\"data\":{\"names\":[\"t:0\",\"t:1\",\"t:2\"],\"ndarray\":[[0.0006985194531162841,0.003668039039435755,0.9956334415074478]]},\"meta\":{\"puid\":\"0\"}}\n",
      "{\"data\":{\"names\":[\"t:0\",\"t:1\",\"t:2\"],\"ndarray\":[[0.0006985194531162841,0.003668039039435755,0.9956334415074478]]},\"meta\":{\"puid\":\"3\"}}\n",
      "{\"data\":{\"names\":[\"t:0\",\"t:1\",\"t:2\"],\"ndarray\":[[0.0006985194531162841,0.003668039039435755,0.9956334415074478]]},\"meta\":{\"puid\":\"1\"}}\n",
      "{\"data\":{\"names\":[\"t:0\",\"t:1\",\"t:2\"],\"ndarray\":[[0.0006985194531162841,0.003668039039435755,0.9956334415074478]]},\"meta\":{\"puid\":\"100\"}}\n",
      "{\"data\":{\"names\":[\"t:0\",\"t:1\",\"t:2\"],\"ndarray\":[[0.0006985194531162841,0.003668039039435755,0.9956334415074478]]},\"meta\":{\"puid\":\"6\"}}\n",
      "{\"data\":{\"names\":[\"t:0\",\"t:1\",\"t:2\"],\"ndarray\":[[0.0006985194531162841,0.003668039039435755,0.9956334415074478]]},\"meta\":{\"puid\":\"7\"}}\n",
      "{\"data\":{\"names\":[\"t:0\",\"t:1\",\"t:2\"],\"ndarray\":[[0.0006985194531162841,0.003668039039435755,0.9956334415074478]]},\"meta\":{\"puid\":\"9\"}}\n",
      "{\"data\":{\"names\":[\"t:0\",\"t:1\",\"t:2\"],\"ndarray\":[[0.0006985194531162841,0.003668039039435755,0.9956334415074478]]},\"meta\":{\"puid\":\"8\"}}\n",
      "{\"data\":{\"names\":[\"t:0\",\"t:1\",\"t:2\"],\"ndarray\":[[0.0006985194531162841,0.003668039039435755,0.9956334415074478]]},\"meta\":{\"puid\":\"106\"}}\n"
     ]
    }
   ],
   "source": [
    "!mc cp minio-local/data/output-data-\"$WF_ID\".txt assets/output-data.txt\n",
    "!head assets/output-data.txt"
   ]
  },
  {
   "cell_type": "code",
   "execution_count": 122,
   "metadata": {},
   "outputs": [
    {
     "name": "stdout",
     "output_type": "stream",
     "text": [
      "Workflow 'seldon-batch-process' deleted\r\n"
     ]
    }
   ],
   "source": [
    "!argo delete seldon-batch-process"
   ]
  },
  {
   "cell_type": "code",
   "execution_count": null,
   "metadata": {},
   "outputs": [],
   "source": []
  }
 ],
 "metadata": {
  "kernelspec": {
   "display_name": "Python 3",
   "language": "python",
   "name": "python3"
  },
  "language_info": {
   "codemirror_mode": {
    "name": "ipython",
    "version": 3
   },
   "file_extension": ".py",
   "mimetype": "text/x-python",
   "name": "python",
   "nbconvert_exporter": "python",
   "pygments_lexer": "ipython3",
   "version": "3.7.4"
  }
 },
 "nbformat": 4,
 "nbformat_minor": 2
}
