{
 "metadata": {
  "language_info": {
   "codemirror_mode": {
    "name": "ipython",
    "version": 3
   },
   "file_extension": ".py",
   "mimetype": "text/x-python",
   "name": "python",
   "nbconvert_exporter": "python",
   "pygments_lexer": "ipython3",
   "version": "3.8.5"
  },
  "orig_nbformat": 2,
  "kernelspec": {
   "name": "python3",
   "display_name": "Python 3.8.5 64-bit"
  },
  "interpreter": {
   "hash": "916dbcbb3f70747c44a77c7bcd40155683ae19c65e1c03b4aa3499c5328201f1"
  }
 },
 "nbformat": 4,
 "nbformat_minor": 2,
 "cells": [
  {
   "source": [
    "# Setup Azure Kubernetes Infrastructure\n",
    "In this notebook we will \n",
    "- Login to Aure account\n",
    "- [Create AKS cluster with](#aks)\n",
    "  - **GPU enabled Spot VM nodepool** for running ML elastic training\n",
    "  - **CPU VM nodepool** for running typical workloads \n",
    "- [Azure Storage Account for hosting model data](#storageaccount)\n",
    "- Deploy Kubernetes Components\n",
    "  - [Install **Azure Blob CSI Driver**](#csidriver) to map Blob storage to container as persistent volumes\n",
    "  - [Create Kubernetes **PersistentVolume** and PersistentVolumeClaim](#pv)"
   ],
   "cell_type": "markdown",
   "metadata": {}
  },
  {
   "source": [
    "## Define Variables\n",
    "Set variables required for the project"
   ],
   "cell_type": "markdown",
   "metadata": {}
  },
  {
   "cell_type": "code",
   "execution_count": 13,
   "metadata": {},
   "outputs": [],
   "source": [
    "subscription_id = \"<xxxx-xxxx-xxxx-xxxx>\"  # fill in\n",
    "resource_group = \"seldon\"  # feel free to replace or use this default\n",
    "region = \"eastus2\"  # ffeel free to replace or use this default\n",
    "\n",
    "storage_account_name = \"modeltestsgpt\"  # fill in\n",
    "storage_container_name = \"gpt2tf\"\n",
    "\n",
    "aks_name = \"modeltests\"  # feel free to replace or use this default\n",
    "aks_gpupool = \"gpunodes\"  # feel free to replace or use this default\n",
    "aks_cpupool = \"cpunodes\"  # feel free to replace or use this default\n",
    "aks_gpu_sku = \"Standard_NC6s_v3\"  # feel free to replace or use this default\n",
    "aks_cpu_sku = \"Standard_F8s_v2\""
   ]
  },
  {
   "source": [
    "## Azure account login\n",
    "If you are not already logged in to an Azure account, the command below will initiate a login. This will pop up a browser where you can select your login. (if no web browser is available or if the web browser fails to open, use device code flow with `az login --use-device-code` or login in WSL command  prompt and proceed to notebook)"
   ],
   "cell_type": "markdown",
   "metadata": {}
  },
  {
   "cell_type": "code",
   "execution_count": null,
   "metadata": {},
   "outputs": [],
   "source": [
    "%%bash\n",
    "az login -o table\n"
   ]
  },
  {
   "cell_type": "code",
   "execution_count": null,
   "metadata": {},
   "outputs": [],
   "source": [
    "!az account set --subscription \"$subscription_id\""
   ]
  },
  {
   "cell_type": "code",
   "execution_count": null,
   "metadata": {},
   "outputs": [],
   "source": [
    "!az account show"
   ]
  },
  {
   "source": [
    "## Create Resource Group\n",
    "Azure encourages the use of groups to organize all the Azure components you deploy. That way it is easier to find them but also we can delete a number of resources simply by deleting the group."
   ],
   "cell_type": "markdown",
   "metadata": {}
  },
  {
   "cell_type": "code",
   "execution_count": null,
   "metadata": {},
   "outputs": [],
   "source": [
    "!az group create -l {region} -n {resource_group}"
   ]
  },
  {
   "source": [
    "## Create AKS Cluster and NodePools <a id=\"aks\"/>\n",
    "Below, we create the AKS cluster with default 1 system node (to save time, in production use more nodes as per best practices) in the resource group we created earlier. This step can take 5 or more minutes.\n"
   ],
   "cell_type": "markdown",
   "metadata": {}
  },
  {
   "cell_type": "code",
   "execution_count": null,
   "metadata": {},
   "outputs": [],
   "source": [
    "%%time\n",
    "!az aks create --resource-group {resource_group} \\\n",
    "    --name {aks_name} \\\n",
    "    --node-vm-size Standard_D8s_v3  \\\n",
    "    --node-count 1 \\\n",
    "    --location {region}  \\\n",
    "    --kubernetes-version 1.18.17 \\\n",
    "    --node-osdisk-type Ephemeral \\    \n",
    "    --generate-ssh-keys"
   ]
  },
  {
   "source": [
    "## Connect to AKS Cluster\n",
    "To configure kubectl to connect to Kubernetes cluster, run the following command"
   ],
   "cell_type": "markdown",
   "metadata": {}
  },
  {
   "cell_type": "code",
   "execution_count": null,
   "metadata": {},
   "outputs": [],
   "source": [
    "!az aks get-credentials --resource-group {resource_group} --name {aks_name}"
   ]
  },
  {
   "source": [
    "Let's verify connection by listing the nodes."
   ],
   "cell_type": "markdown",
   "metadata": {}
  },
  {
   "cell_type": "code",
   "execution_count": 34,
   "metadata": {},
   "outputs": [
    {
     "output_type": "stream",
     "name": "stdout",
     "text": [
      "NAME                                STATUS   ROLES   AGE     VERSION\naks-agentpool-28613018-vmss000000   Ready    agent   28d     v1.19.9\naks-agentpool-28613018-vmss000001   Ready    agent   28d     v1.19.9\naks-agentpool-28613018-vmss000002   Ready    agent   28d     v1.19.9\naks-cpunodes-28613018-vmss000000    Ready    agent   28d     v1.19.9\naks-cpunodes-28613018-vmss000001    Ready    agent   28d     v1.19.9\naks-gpunodes-28613018-vmss000001    Ready    agent   5h27m   v1.19.9\n"
     ]
    }
   ],
   "source": [
    "!kubectl get nodes"
   ]
  },
  {
   "source": [
    "Taint System node with `CriticalAddonsOnly` taint so it is available only for system workloads"
   ],
   "cell_type": "markdown",
   "metadata": {}
  },
  {
   "cell_type": "code",
   "execution_count": null,
   "metadata": {},
   "outputs": [],
   "source": [
    "!kubectl taint nodes -l kubernetes.azure.com/mode=system CriticalAddonsOnly=true:NoSchedule --overwrite"
   ]
  },
  {
   "source": [
    "## Create GPU enabled and CPU Node Pools\n",
    "To create GPU enabled nodepool, will use fully configured AKS image that contains the NVIDIA device plugin for Kubenetes, see [Use the AKS specialized GPU image (preview)](https://docs.microsoft.com/en-us/azure/aks/gpu-cluster#use-the-aks-specialized-gpu-image-preview). Creating nodepools could take five or more minutes."
   ],
   "cell_type": "markdown",
   "metadata": {}
  },
  {
   "cell_type": "code",
   "execution_count": null,
   "metadata": {},
   "outputs": [],
   "source": [
    "%%time\n",
    "!az feature register --name GPUDedicatedVHDPreview --namespace Microsoft.ContainerService\n",
    "!az feature list -o table --query \"[?contains(name, 'Microsoft.ContainerService/GPUDedicatedVHDPreview')].{Name:name,State:properties.state}\"\n",
    "!az provider register --namespace Microsoft.ContainerService\n",
    "!az extension add --name aks-preview"
   ]
  },
  {
   "source": [
    "## Create  GPU NodePool with GPU taint\n",
    "For more information on Azure Nodepools https://docs.microsoft.com/en-us/azure/aks/use-multiple-node-pools "
   ],
   "cell_type": "markdown",
   "metadata": {}
  },
  {
   "cell_type": "code",
   "execution_count": 14,
   "metadata": {},
   "outputs": [
    {
     "output_type": "stream",
     "name": "stdout",
     "text": [
      "{\n",
      "\u001b[33mThe behavior of this command has been altered by the following extension: aks-preview\u001b[0m\n",
      "\u001b[91mNode pool gpunodes already exists, please try a different name, use 'aks nodepool list' to get current list of node pool\u001b[0m\n",
      "\u001b[0mCPU times: user 275 ms, sys: 79 ms, total: 354 ms\n",
      "Wall time: 5.38 s\n"
     ]
    }
   ],
   "source": [
    "%%time\n",
    "print ({aks_gpu_sku})\n",
    "!az aks nodepool add \\\n",
    "    --resource-group {resource_group} \\\n",
    "    --cluster-name {aks_name} \\\n",
    "    --name {aks_gpupool} \\\n",
    "    --node-taints nvidia.com=gpu:NoSchedule \\\n",
    "    --node-count 1 \\\n",
    "    --node-vm-size  {aks_gpu_sku} \\\n",
    "    --aks-custom-headers UseGPUDedicatedVHD=true,usegen2vm=true"
   ]
  },
  {
   "source": [
    "## Verify GPU is available on Kubernetes Node\n",
    "Now use the kubectl describe node command to confirm that the GPUs are schedulable. Under the Capacity section, for Standard_NC12 sku the GPU should list as `nvidia.com/gpu: 2`"
   ],
   "cell_type": "markdown",
   "metadata": {}
  },
  {
   "cell_type": "code",
   "execution_count": 33,
   "metadata": {},
   "outputs": [
    {
     "output_type": "stream",
     "name": "stdout",
     "text": [
      "Name:               aks-gpunodes-28613018-vmss000001\nRoles:              agent\nLabels:             accelerator=nvidia\n                    agentpool=gpunodes\n                    beta.kubernetes.io/arch=amd64\n                    beta.kubernetes.io/instance-type=Standard_NC12\n                    beta.kubernetes.io/os=linux\n                    failure-domain.beta.kubernetes.io/region=eastus2\n--\n  cpu:                            12\n  ephemeral-storage:              129900528Ki\n  hugepages-1Gi:                  0\n  hugepages-2Mi:                  0\n  memory:                         115387540Ki\n  nvidia.com/gpu:                 2\n  pods:                           30\nAllocatable:\n  attachable-volumes-azure-disk:  48\n  cpu:                            11780m\n  ephemeral-storage:              119716326407\n  hugepages-1Gi:                  0\n  hugepages-2Mi:                  0\n  memory:                         105854100Ki\n  nvidia.com/gpu:                 2\n  pods:                           30\nSystem Info:\n  Machine ID:                 db67bd967e1441febad873ba49d35adc\n  System UUID:                f39ce4bc-11c6-8643-8a8a-dfb4998a0524\n  Boot ID:                    eb926e42-d4e7-4760-b124-9b09c0e56c57\n--\n  memory                         275Mi (0%)  850Mi (0%)\n  ephemeral-storage              0 (0%)      0 (0%)\n  hugepages-1Gi                  0 (0%)      0 (0%)\n  hugepages-2Mi                  0 (0%)      0 (0%)\n  attachable-volumes-azure-disk  0           0\n  nvidia.com/gpu                 0           0\nEvents:                          <none>\n"
     ]
    }
   ],
   "source": [
    "!kubectl describe node -l accelerator=nvidia | grep nvidia -A 5 -B 5"
   ]
  },
  {
   "source": [
    "## Create CPU NodePool for running regular workloads"
   ],
   "cell_type": "markdown",
   "metadata": {}
  },
  {
   "cell_type": "code",
   "execution_count": 3,
   "metadata": {},
   "outputs": [
    {
     "output_type": "stream",
     "name": "stdout",
     "text": [
      "\u001b[33mThe behavior of this command has been altered by the following extension: aks-preview\u001b[0m\n",
      "{\n",
      "  \"agentPoolType\": \"VirtualMachineScaleSets\",\n",
      "  \"availabilityZones\": null,\n",
      "  \"count\": 3,\n",
      "  \"enableAutoScaling\": true,\n",
      "  \"enableEncryptionAtHost\": false,\n",
      "  \"enableFips\": false,\n",
      "  \"enableNodePublicIp\": false,\n",
      "  \"gpuInstanceProfile\": null,\n",
      "  \"id\": \"/subscriptions/xxxx-xxxx-xxxx-xxxx-xxxxxx/resourcegroups/seldon/providers/Microsoft.ContainerService/managedClusters/modeltests/agentPools/cpunodes\",\n",
      "  \"kubeletConfig\": null,\n",
      "  \"kubeletDiskType\": \"OS\",\n",
      "  \"linuxOsConfig\": null,\n",
      "  \"maxCount\": 3,\n",
      "  \"maxPods\": 30,\n",
      "  \"minCount\": 1,\n",
      "  \"mode\": \"User\",\n",
      "  \"name\": \"cpunodes\",\n",
      "  \"nodeImageVersion\": \"AKSUbuntu-1804gen2containerd-2021.05.08\",\n",
      "  \"nodeLabels\": null,\n",
      "  \"nodePublicIpPrefixId\": null,\n",
      "  \"nodeTaints\": null,\n",
      "  \"orchestratorVersion\": \"1.19.9\",\n",
      "  \"osDiskSizeGb\": 128,\n",
      "  \"osDiskType\": \"Ephemeral\",\n",
      "  \"osSku\": \"Ubuntu\",\n",
      "  \"osType\": \"Linux\",\n",
      "  \"podSubnetId\": null,\n",
      "  \"powerState\": {\n",
      "    \"code\": \"Running\"\n",
      "  },\n",
      "  \"provisioningState\": \"Succeeded\",\n",
      "  \"proximityPlacementGroupId\": null,\n",
      "  \"resourceGroup\": \"seldon\",\n",
      "  \"scaleSetEvictionPolicy\": null,\n",
      "  \"scaleSetPriority\": null,\n",
      "  \"spotMaxPrice\": null,\n",
      "  \"tags\": null,\n",
      "  \"type\": \"Microsoft.ContainerService/managedClusters/agentPools\",\n",
      "  \"upgradeSettings\": {\n",
      "    \"maxSurge\": null\n",
      "  },\n",
      "  \"vmSize\": \"Standard_F8s_v2\",\n",
      "  \"vnetSubnetId\": \"/subscriptions/xxxxx-xxxx-xxxx-xxxxx-xxxxxx/resourceGroups/seldon/providers/Microsoft.Network/virtualNetworks/seldon-vnet/subnets/default\"\n",
      "}\n",
      "\u001b[K\u001b[0mCPU times: user 4.17 s, sys: 1.51 s, total: 5.68 s\n",
      "Wall time: 2min 36s\n"
     ]
    }
   ],
   "source": [
    "%%time\n",
    "!az aks nodepool add \\\n",
    "  --resource-group {resource_group} \\\n",
    "    --cluster-name {aks_name} \\\n",
    "    --name {aks_cpupool} \\\n",
    "    --enable-cluster-autoscaler \\\n",
    "    --node-osdisk-type Ephemeral \\\n",
    "    --min-count 1 \\\n",
    "    --max-count 3 \\\n",
    "    --node-vm-size {aks_cpu_sku}  \\\n",
    "    --node-osdisk-size 128 "
   ]
  },
  {
   "source": [
    "## Verify Taints on the Kubernetes nodes\n",
    "Verify that system pool and have the Taints `CriticalAddonsOnly` and `sku=gpu` respectively   \n"
   ],
   "cell_type": "markdown",
   "metadata": {}
  },
  {
   "cell_type": "code",
   "execution_count": 35,
   "metadata": {},
   "outputs": [
    {
     "output_type": "stream",
     "name": "stdout",
     "text": [
      "\u001b[1;39m[\n  \u001b[1;39m{\n    \u001b[0m\u001b[34;1m\"effect\"\u001b[0m\u001b[1;39m: \u001b[0m\u001b[0;32m\"NoSchedule\"\u001b[0m\u001b[1;39m,\n    \u001b[0m\u001b[34;1m\"key\"\u001b[0m\u001b[1;39m: \u001b[0m\u001b[0;32m\"CriticalAddonsOnly\"\u001b[0m\u001b[1;39m,\n    \u001b[0m\u001b[34;1m\"value\"\u001b[0m\u001b[1;39m: \u001b[0m\u001b[0;32m\"true\"\u001b[0m\u001b[1;39m\n  \u001b[1;39m}\u001b[0m\u001b[1;39m\n\u001b[1;39m]\u001b[0m\n\u001b[1;39m[\n  \u001b[1;39m{\n    \u001b[0m\u001b[34;1m\"effect\"\u001b[0m\u001b[1;39m: \u001b[0m\u001b[0;32m\"NoSchedule\"\u001b[0m\u001b[1;39m,\n    \u001b[0m\u001b[34;1m\"key\"\u001b[0m\u001b[1;39m: \u001b[0m\u001b[0;32m\"CriticalAddonsOnly\"\u001b[0m\u001b[1;39m,\n    \u001b[0m\u001b[34;1m\"value\"\u001b[0m\u001b[1;39m: \u001b[0m\u001b[0;32m\"true\"\u001b[0m\u001b[1;39m\n  \u001b[1;39m}\u001b[0m\u001b[1;39m\n\u001b[1;39m]\u001b[0m\n\u001b[1;39m[\n  \u001b[1;39m{\n    \u001b[0m\u001b[34;1m\"effect\"\u001b[0m\u001b[1;39m: \u001b[0m\u001b[0;32m\"NoSchedule\"\u001b[0m\u001b[1;39m,\n    \u001b[0m\u001b[34;1m\"key\"\u001b[0m\u001b[1;39m: \u001b[0m\u001b[0;32m\"CriticalAddonsOnly\"\u001b[0m\u001b[1;39m,\n    \u001b[0m\u001b[34;1m\"value\"\u001b[0m\u001b[1;39m: \u001b[0m\u001b[0;32m\"true\"\u001b[0m\u001b[1;39m\n  \u001b[1;39m}\u001b[0m\u001b[1;39m\n\u001b[1;39m]\u001b[0m\n\u001b[1;30mnull\u001b[0m\n\u001b[1;30mnull\u001b[0m\n\u001b[1;39m[\n  \u001b[1;39m{\n    \u001b[0m\u001b[34;1m\"effect\"\u001b[0m\u001b[1;39m: \u001b[0m\u001b[0;32m\"NoSchedule\"\u001b[0m\u001b[1;39m,\n    \u001b[0m\u001b[34;1m\"key\"\u001b[0m\u001b[1;39m: \u001b[0m\u001b[0;32m\"sku\"\u001b[0m\u001b[1;39m,\n    \u001b[0m\u001b[34;1m\"value\"\u001b[0m\u001b[1;39m: \u001b[0m\u001b[0;32m\"gpu\"\u001b[0m\u001b[1;39m\n  \u001b[1;39m}\u001b[0m\u001b[1;39m\n\u001b[1;39m]\u001b[0m\n"
     ]
    }
   ],
   "source": [
    "!kubectl get nodes -o json | jq '.items[].spec.taints'"
   ]
  },
  {
   "source": [
    "# Create Storage Account for training data <a id=\"storageaccount\"/>\n",
    "In this section of the notebook, we'll create an Azure blob storage that we'll use throughout the tutorial. This object store will be used to store input images and save checkpoints. Use `az cli` to create the account"
   ],
   "cell_type": "markdown",
   "metadata": {}
  },
  {
   "cell_type": "code",
   "execution_count": 36,
   "metadata": {},
   "outputs": [
    {
     "output_type": "stream",
     "name": "stdout",
     "text": [
      "\"Succeeded\"\n",
      "\u001b[K\u001b[0mCPU times: user 674 ms, sys: 214 ms, total: 888 ms\n",
      "Wall time: 22 s\n"
     ]
    }
   ],
   "source": [
    "%%time\n",
    "!az storage account create -n {storage_account_name} -g {resource_group} --query 'provisioningState'"
   ]
  },
  {
   "source": [
    "Grab the keys of the storage account that was just created.We would need them for binding Kubernetes Persistent Volume. The --quote '[0].value' part of the command simply means to select the value of the zero-th indexed of the set of keys."
   ],
   "cell_type": "markdown",
   "metadata": {}
  },
  {
   "cell_type": "code",
   "execution_count": 2,
   "metadata": {},
   "outputs": [],
   "source": [
    "key = !az storage account keys list --account-name {storage_account_name} -g {resource_group} --query '[0].value' -o tsv"
   ]
  },
  {
   "source": [
    "\n",
    "The stdout from the command above is stored in a string array of 1. Select the element in the array."
   ],
   "cell_type": "markdown",
   "metadata": {}
  },
  {
   "cell_type": "code",
   "execution_count": 3,
   "metadata": {},
   "outputs": [],
   "source": [
    "storage_account_key = key[0]"
   ]
  },
  {
   "cell_type": "code",
   "execution_count": 55,
   "metadata": {},
   "outputs": [
    {
     "output_type": "stream",
     "name": "stdout",
     "text": [
      "{\n",
      "  \"created\": true\n",
      "}\n",
      "\u001b[0m"
     ]
    }
   ],
   "source": [
    "# create storage container\n",
    "\n",
    "!az storage container create \\\n",
    "    --account-name {storage_account_name} \\\n",
    "    --account-key {storage_account_key} \\\n",
    "    --name {storage_container_name}"
   ]
  },
  {
   "source": [
    "# Install Kubernetes Blob CSI Driver <a id=\"csidriver\"/>\n",
    "[Azure Blob Storage CSI driver for Kubernetes](https://github.com/kubernetes-sigs/blob-csi-driver) allows Kubernetes to access Azure Storage. We will deploy it using Helm3 package manager as described in the docs https://github.com/kubernetes-sigs/blob-csi-driver/tree/master/charts"
   ],
   "cell_type": "markdown",
   "metadata": {}
  },
  {
   "cell_type": "code",
   "execution_count": null,
   "metadata": {},
   "outputs": [],
   "source": [
    "!az aks get-credentials --resource-group {resource_group} --name {aks_name}"
   ]
  },
  {
   "cell_type": "code",
   "execution_count": 57,
   "metadata": {},
   "outputs": [
    {
     "output_type": "stream",
     "name": "stdout",
     "text": [
      "\"blob-csi-driver\" already exists with the same configuration, skipping\n",
      "W0527 23:11:20.183604   13719 warnings.go:70] storage.k8s.io/v1beta1 CSIDriver is deprecated in v1.19+, unavailable in v1.22+; use storage.k8s.io/v1 CSIDriver\n",
      "W0527 23:11:20.506450   13719 warnings.go:70] storage.k8s.io/v1beta1 CSIDriver is deprecated in v1.19+, unavailable in v1.22+; use storage.k8s.io/v1 CSIDriver\n",
      "NAME: blob-csi-driver\n",
      "LAST DEPLOYED: Thu May 27 23:11:19 2021\n",
      "NAMESPACE: kube-system\n",
      "STATUS: deployed\n",
      "REVISION: 1\n",
      "TEST SUITE: None\n",
      "NOTES:\n",
      "The Azure Blob Storage CSI driver is getting deployed to your cluster.\n",
      "\n",
      "To check Azure Blob Storage CSI driver pods status, please run:\n",
      "\n",
      "  kubectl --namespace=kube-system get pods --selector=\"release=blob-csi-driver\" --watch\n"
     ]
    }
   ],
   "source": [
    "!helm repo add blob-csi-driver https://raw.githubusercontent.com/kubernetes-sigs/blob-csi-driver/master/charts\n",
    "!helm install blob-csi-driver blob-csi-driver/blob-csi-driver --namespace kube-system --version v1.1.0"
   ]
  },
  {
   "cell_type": "code",
   "execution_count": 59,
   "metadata": {},
   "outputs": [
    {
     "output_type": "stream",
     "name": "stdout",
     "text": [
      "NAME                                   READY   STATUS    RESTARTS   AGE\ncsi-blob-controller-7b9db4967c-fbsm2   4/4     Running   0          22s\ncsi-blob-controller-7b9db4967c-hdglw   4/4     Running   0          22s\ncsi-blob-node-7tgl8                    3/3     Running   0          22s\ncsi-blob-node-89rkn                    3/3     Running   0          22s\ncsi-blob-node-nnhfh                    3/3     Running   0          22s\ncsi-blob-node-pb584                    3/3     Running   0          22s\ncsi-blob-node-q6z6t                    3/3     Running   0          22s\ncsi-blob-node-tq4mh                    3/3     Running   0          22s\n"
     ]
    }
   ],
   "source": [
    "!kubectl -n kube-system get pods -l \"app.kubernetes.io/instance=blob-csi-driver\""
   ]
  },
  {
   "source": [
    "## Create Persistent Volume for Azure Blob <a id=\"pv\"/>\n",
    "For more details on creating   `PersistentVolume` using CSI driver refer to https://github.com/kubernetes-sigs/blob-csi-driver/blob/master/deploy/example/e2e_usage.md"
   ],
   "cell_type": "markdown",
   "metadata": {}
  },
  {
   "cell_type": "code",
   "execution_count": 4,
   "metadata": {},
   "outputs": [
    {
     "output_type": "stream",
     "name": "stdout",
     "text": [
      "secret/azure-blobsecret created\n"
     ]
    }
   ],
   "source": [
    "# Create secret to access storage account\n",
    "!kubectl create secret generic azure-blobsecret --from-literal azurestorageaccountname={storage_account_name} --from-literal azurestorageaccountkey=\"{storage_account_key}\" --type=Opaque"
   ]
  },
  {
   "source": [
    "Persistent Volume YAML definition is in `azure-blobfules-pv.yaml` with fields pointing to secret created above and containername we created in storage account:\n",
    "```yaml\n",
    "  csi:\n",
    "    driver: blob.csi.azure.com\n",
    "    readOnly: false\n",
    "    volumeHandle: trainingdata  # make sure this volumeid is unique in the cluster\n",
    "    volumeAttributes:\n",
    "      containerName: workerdata # !! Modify if changed in Notebook\n",
    "    nodeStageSecretRef:\n",
    "      name: azure-blobsecret\n",
    "     \n",
    "```"
   ],
   "cell_type": "markdown",
   "metadata": {}
  },
  {
   "cell_type": "code",
   "execution_count": 16,
   "metadata": {},
   "outputs": [
    {
     "output_type": "stream",
     "name": "stdout",
     "text": [
      "Overwriting azure-blobfuse-pv.yaml\n"
     ]
    }
   ],
   "source": [
    "%%writefile azure-blobfuse-pv.yaml\n",
    "apiVersion: v1\n",
    "kind: PersistentVolume\n",
    "metadata:\n",
    "  name: pv-gptblob\n",
    "  \n",
    "spec:\n",
    "  capacity:\n",
    "    storage: 10Gi\n",
    "  accessModes:\n",
    "    - ReadWriteMany\n",
    "  persistentVolumeReclaimPolicy: Retain  # \"Delete\" is not supported in static provisioning\n",
    "  csi:\n",
    "    driver: blob.csi.azure.com\n",
    "    readOnly: false\n",
    "    volumeHandle: trainingdata  # make sure this volumeid is unique in the cluster\n",
    "    volumeAttributes:\n",
    "      containerName: gpt2onnx # Modify if changed in Notebook\n",
    "    nodeStageSecretRef:\n",
    "      name: azure-blobsecret\n",
    "      namespace: default\n",
    "  mountOptions:\n",
    "    - -o uid=8888     # user in  Pod security context\n",
    "    - -o allow_other    \n",
    "    \n",
    "---\n",
    "kind: PersistentVolumeClaim\n",
    "apiVersion: v1\n",
    "metadata:\n",
    "  name: pvc-gptblob\n",
    " \n",
    "spec:\n",
    "  accessModes:\n",
    "    - ReadWriteMany\n",
    "  resources:\n",
    "    requests:\n",
    "      storage: 10Gi\n",
    "  volumeName: pv-gptblob\n",
    "  storageClassName: \"\"\n"
   ]
  },
  {
   "cell_type": "code",
   "execution_count": 17,
   "metadata": {},
   "outputs": [
    {
     "output_type": "stream",
     "name": "stdout",
     "text": [
      "persistentvolume/pv-gptblob created\n",
      "persistentvolumeclaim/pvc-gptblob created\n"
     ]
    }
   ],
   "source": [
    "# Create PersistentVolume and PersistenVollumeClaim for container mounts\n",
    "!kubectl apply -f  azure-blobfuse-pv.yaml"
   ]
  },
  {
   "cell_type": "code",
   "execution_count": 19,
   "metadata": {},
   "outputs": [
    {
     "output_type": "stream",
     "name": "stdout",
     "text": [
      "NAME                          CAPACITY   ACCESS MODES   RECLAIM POLICY   STATUS        CLAIM                 STORAGECLASS   REASON   AGE\npersistentvolume/pv-blob      10Gi       RWX            Retain           Terminating   default/pvc-blob                              113m\npersistentvolume/pv-gptblob   10Gi       RWX            Retain           Bound         default/pvc-gptblob                           18s\n\nNAME                                STATUS        VOLUME       CAPACITY   ACCESS MODES   STORAGECLASS   AGE\npersistentvolumeclaim/pvc-blob      Terminating   pv-blob      10Gi       RWX                           113m\npersistentvolumeclaim/pvc-gptblob   Bound         pv-gptblob   10Gi       RWX                           17s\n"
     ]
    }
   ],
   "source": [
    "# Verify PVC is bound\n",
    "!kubectl get pv,pvc"
   ]
  },
  {
   "source": [
    "In the end of this step you will have AKS cluster and Storage account in resource group. ALK cluster will have cpu and gpu nodepools in addition to system nodepool.\n"
   ],
   "cell_type": "markdown",
   "metadata": {}
  }
 ]
}
