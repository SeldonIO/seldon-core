{
 "cells": [
  {
   "cell_type": "markdown",
   "id": "liked-toronto",
   "metadata": {},
   "source": [
    "# Pretrained  GPT2  Model Deployment Example\n",
    "\n",
    "In this notebook, we will run an example of text generation using GPT2 model exported from HuggingFace and deployed with Seldon's Triton pre-packed server. the example also covers converting the model to ONNX format.\n",
    "The implemented example below is of the Greedy approach for the next token prediction.\n",
    "more info: https://huggingface.co/transformers/model_doc/gpt2.html?highlight=gpt2\n",
    "\n",
    "After we have the module deployed to Kubernetes, we will run a simple load test to evaluate the module inference performance.\n",
    "\n",
    "\n",
    "## Steps:\n",
    "1. Download pretrained GPT2 model from hugging face\n",
    "2. Convert the model to ONNX\n",
    "3. Store it in MinIo bucket\n",
    "4. Setup Seldon-Core in your kubernetes cluster\n",
    "5. Deploy the ONNX model with Seldon’s prepackaged Triton server.\n",
    "6. Interact with the model, run a greedy alg example (generate sentence completion)\n",
    "7. Run load test using vegeta\n",
    "8. Clean-up\n",
    "\n",
    "## Basic requirements\n",
    "* Helm v3.0.0+\n",
    "* A Kubernetes cluster running v1.13 or above (minkube / docker-for-windows work well if enough RAM)\n",
    "* kubectl v1.14+\n",
    "* Python 3.6+ "
   ]
  },
  {
   "cell_type": "code",
   "execution_count": 1,
   "id": "korean-reporter",
   "metadata": {},
   "outputs": [
    {
     "output_type": "stream",
     "name": "stdout",
     "text": [
      "Overwriting requirements.txt\n"
     ]
    }
   ],
   "source": [
    "%%writefile requirements.txt\n",
    "transformers==4.5.1\n",
    "torch==1.8.1\n",
    "tokenizers<0.11,>=0.10.1\n",
    "tensorflow==2.4.1\n",
    "tf2onnx"
   ]
  },
  {
   "cell_type": "code",
   "execution_count": 2,
   "id": "assigned-diesel",
   "metadata": {
    "tags": []
   },
   "outputs": [
    {
     "output_type": "stream",
     "name": "stdout",
     "text": [
      "Requirement already satisfied: transformers==4.5.1 in /home/lenisha/.local/lib/python3.8/site-packages (from -r requirements.txt (line 1)) (4.5.1)\n",
      "Requirement already satisfied: torch==1.8.1 in /home/lenisha/.local/lib/python3.8/site-packages (from -r requirements.txt (line 2)) (1.8.1)\n",
      "Requirement already satisfied: tokenizers<0.11,>=0.10.1 in /home/lenisha/.local/lib/python3.8/site-packages (from -r requirements.txt (line 3)) (0.10.3)\n",
      "Requirement already satisfied: tensorflow==2.4.1 in /home/lenisha/.local/lib/python3.8/site-packages (from -r requirements.txt (line 4)) (2.4.1)\n",
      "Requirement already satisfied: tf2onnx in /home/lenisha/.local/lib/python3.8/site-packages (from -r requirements.txt (line 5)) (1.8.5)\n",
      "Requirement already satisfied: tqdm>=4.27 in /home/lenisha/.local/lib/python3.8/site-packages (from transformers==4.5.1->-r requirements.txt (line 1)) (4.61.0)\n",
      "Requirement already satisfied: filelock in /home/lenisha/.local/lib/python3.8/site-packages (from transformers==4.5.1->-r requirements.txt (line 1)) (3.0.12)\n",
      "Requirement already satisfied: regex!=2019.12.17 in /home/lenisha/.local/lib/python3.8/site-packages (from transformers==4.5.1->-r requirements.txt (line 1)) (2021.4.4)\n",
      "Requirement already satisfied: sacremoses in /home/lenisha/.local/lib/python3.8/site-packages (from transformers==4.5.1->-r requirements.txt (line 1)) (0.0.45)\n",
      "Requirement already satisfied: numpy>=1.17 in /home/lenisha/.local/lib/python3.8/site-packages (from transformers==4.5.1->-r requirements.txt (line 1)) (1.20.1)\n",
      "Requirement already satisfied: packaging in /home/lenisha/.local/lib/python3.8/site-packages (from transformers==4.5.1->-r requirements.txt (line 1)) (20.9)\n",
      "Requirement already satisfied: requests in /usr/lib/python3/dist-packages (from transformers==4.5.1->-r requirements.txt (line 1)) (2.22.0)\n",
      "Requirement already satisfied: typing-extensions in /home/lenisha/.local/lib/python3.8/site-packages (from torch==1.8.1->-r requirements.txt (line 2)) (3.7.4.3)\n",
      "Requirement already satisfied: astunparse~=1.6.3 in /home/lenisha/.local/lib/python3.8/site-packages (from tensorflow==2.4.1->-r requirements.txt (line 4)) (1.6.3)\n",
      "Requirement already satisfied: gast==0.3.3 in /home/lenisha/.local/lib/python3.8/site-packages (from tensorflow==2.4.1->-r requirements.txt (line 4)) (0.3.3)\n",
      "Requirement already satisfied: protobuf>=3.9.2 in /home/lenisha/.local/lib/python3.8/site-packages (from tensorflow==2.4.1->-r requirements.txt (line 4)) (3.15.6)\n",
      "Requirement already satisfied: six~=1.15.0 in /home/lenisha/.local/lib/python3.8/site-packages (from tensorflow==2.4.1->-r requirements.txt (line 4)) (1.15.0)\n",
      "Requirement already satisfied: wrapt~=1.12.1 in /home/lenisha/.local/lib/python3.8/site-packages (from tensorflow==2.4.1->-r requirements.txt (line 4)) (1.12.1)\n",
      "Requirement already satisfied: termcolor~=1.1.0 in /home/lenisha/.local/lib/python3.8/site-packages (from tensorflow==2.4.1->-r requirements.txt (line 4)) (1.1.0)\n",
      "Requirement already satisfied: tensorboard~=2.4 in /home/lenisha/.local/lib/python3.8/site-packages (from tensorflow==2.4.1->-r requirements.txt (line 4)) (2.4.1)\n",
      "Requirement already satisfied: opt-einsum~=3.3.0 in /home/lenisha/.local/lib/python3.8/site-packages (from tensorflow==2.4.1->-r requirements.txt (line 4)) (3.3.0)\n",
      "Requirement already satisfied: absl-py~=0.10 in /home/lenisha/.local/lib/python3.8/site-packages (from tensorflow==2.4.1->-r requirements.txt (line 4)) (0.12.0)\n",
      "Requirement already satisfied: tensorflow-estimator<2.5.0,>=2.4.0 in /home/lenisha/.local/lib/python3.8/site-packages (from tensorflow==2.4.1->-r requirements.txt (line 4)) (2.4.0)\n",
      "Requirement already satisfied: wheel~=0.35 in /home/lenisha/.local/lib/python3.8/site-packages (from tensorflow==2.4.1->-r requirements.txt (line 4)) (0.36.2)\n",
      "Requirement already satisfied: h5py~=2.10.0 in /home/lenisha/.local/lib/python3.8/site-packages (from tensorflow==2.4.1->-r requirements.txt (line 4)) (2.10.0)\n",
      "Requirement already satisfied: google-pasta~=0.2 in /home/lenisha/.local/lib/python3.8/site-packages (from tensorflow==2.4.1->-r requirements.txt (line 4)) (0.2.0)\n",
      "Requirement already satisfied: grpcio~=1.32.0 in /home/lenisha/.local/lib/python3.8/site-packages (from tensorflow==2.4.1->-r requirements.txt (line 4)) (1.32.0)\n",
      "Requirement already satisfied: flatbuffers~=1.12.0 in /home/lenisha/.local/lib/python3.8/site-packages (from tensorflow==2.4.1->-r requirements.txt (line 4)) (1.12)\n",
      "Requirement already satisfied: keras-preprocessing~=1.1.2 in /home/lenisha/.local/lib/python3.8/site-packages (from tensorflow==2.4.1->-r requirements.txt (line 4)) (1.1.2)\n",
      "Requirement already satisfied: onnx>=1.4.1 in /home/lenisha/.local/lib/python3.8/site-packages (from tf2onnx->-r requirements.txt (line 5)) (1.9.0)\n",
      "Requirement already satisfied: joblib in /home/lenisha/.local/lib/python3.8/site-packages (from sacremoses->transformers==4.5.1->-r requirements.txt (line 1)) (1.0.1)\n",
      "Requirement already satisfied: click in /usr/lib/python3/dist-packages (from sacremoses->transformers==4.5.1->-r requirements.txt (line 1)) (7.0)\n",
      "Requirement already satisfied: pyparsing>=2.0.2 in /home/lenisha/.local/lib/python3.8/site-packages (from packaging->transformers==4.5.1->-r requirements.txt (line 1)) (2.4.7)\n",
      "Requirement already satisfied: markdown>=2.6.8 in /home/lenisha/.local/lib/python3.8/site-packages (from tensorboard~=2.4->tensorflow==2.4.1->-r requirements.txt (line 4)) (3.3.4)\n",
      "Requirement already satisfied: google-auth<2,>=1.6.3 in /home/lenisha/.local/lib/python3.8/site-packages (from tensorboard~=2.4->tensorflow==2.4.1->-r requirements.txt (line 4)) (1.28.0)\n",
      "Requirement already satisfied: setuptools>=41.0.0 in /usr/lib/python3/dist-packages (from tensorboard~=2.4->tensorflow==2.4.1->-r requirements.txt (line 4)) (45.2.0)\n",
      "Requirement already satisfied: tensorboard-plugin-wit>=1.6.0 in /home/lenisha/.local/lib/python3.8/site-packages (from tensorboard~=2.4->tensorflow==2.4.1->-r requirements.txt (line 4)) (1.8.0)\n",
      "Requirement already satisfied: werkzeug>=0.11.15 in /home/lenisha/.local/lib/python3.8/site-packages (from tensorboard~=2.4->tensorflow==2.4.1->-r requirements.txt (line 4)) (1.0.1)\n",
      "Requirement already satisfied: google-auth-oauthlib<0.5,>=0.4.1 in /home/lenisha/.local/lib/python3.8/site-packages (from tensorboard~=2.4->tensorflow==2.4.1->-r requirements.txt (line 4)) (0.4.3)\n",
      "Requirement already satisfied: cachetools<5.0,>=2.0.0 in /home/lenisha/.local/lib/python3.8/site-packages (from google-auth<2,>=1.6.3->tensorboard~=2.4->tensorflow==2.4.1->-r requirements.txt (line 4)) (4.2.1)\n",
      "Requirement already satisfied: rsa<5,>=3.1.4; python_version >= \"3.6\" in /home/lenisha/.local/lib/python3.8/site-packages (from google-auth<2,>=1.6.3->tensorboard~=2.4->tensorflow==2.4.1->-r requirements.txt (line 4)) (4.7.2)\n",
      "Requirement already satisfied: pyasn1-modules>=0.2.1 in /usr/lib/python3/dist-packages (from google-auth<2,>=1.6.3->tensorboard~=2.4->tensorflow==2.4.1->-r requirements.txt (line 4)) (0.2.1)\n",
      "Requirement already satisfied: requests-oauthlib>=0.7.0 in /home/lenisha/.local/lib/python3.8/site-packages (from google-auth-oauthlib<0.5,>=0.4.1->tensorboard~=2.4->tensorflow==2.4.1->-r requirements.txt (line 4)) (1.3.0)\n",
      "Requirement already satisfied: pyasn1>=0.1.3 in /usr/lib/python3/dist-packages (from rsa<5,>=3.1.4; python_version >= \"3.6\"->google-auth<2,>=1.6.3->tensorboard~=2.4->tensorflow==2.4.1->-r requirements.txt (line 4)) (0.4.2)\n",
      "Requirement already satisfied: oauthlib>=3.0.0 in /usr/lib/python3/dist-packages (from requests-oauthlib>=0.7.0->google-auth-oauthlib<0.5,>=0.4.1->tensorboard~=2.4->tensorflow==2.4.1->-r requirements.txt (line 4)) (3.1.0)\n"
     ]
    }
   ],
   "source": [
    "!pip install --trusted-host=pypi.python.org --trusted-host=pypi.org --trusted-host=files.pythonhosted.org -r requirements.txt\n"
   ]
  },
  {
   "cell_type": "markdown",
   "id": "completed-evaluation",
   "metadata": {},
   "source": [
    "### Export HuggingFace TFGPT2LMHeadModel pre-trained model and save it locally"
   ]
  },
  {
   "cell_type": "code",
   "execution_count": 3,
   "id": "iraqi-million",
   "metadata": {},
   "outputs": [
    {
     "output_type": "display_data",
     "data": {
      "text/plain": "Downloading:   0%|          | 0.00/1.04M [00:00<?, ?B/s]",
      "application/vnd.jupyter.widget-view+json": {
       "version_major": 2,
       "version_minor": 0,
       "model_id": "31f356272b04490faf0a30acc66be31c"
      }
     },
     "metadata": {}
    },
    {
     "output_type": "display_data",
     "data": {
      "text/plain": "Downloading:   0%|          | 0.00/456k [00:00<?, ?B/s]",
      "application/vnd.jupyter.widget-view+json": {
       "version_major": 2,
       "version_minor": 0,
       "model_id": "d7b02bdb3ba64033b78443faf2165802"
      }
     },
     "metadata": {}
    },
    {
     "output_type": "display_data",
     "data": {
      "text/plain": "Downloading:   0%|          | 0.00/1.36M [00:00<?, ?B/s]",
      "application/vnd.jupyter.widget-view+json": {
       "version_major": 2,
       "version_minor": 0,
       "model_id": "0fabe418805e4bc3a3f312b8e9598d57"
      }
     },
     "metadata": {}
    },
    {
     "output_type": "display_data",
     "data": {
      "text/plain": "Downloading:   0%|          | 0.00/665 [00:00<?, ?B/s]",
      "application/vnd.jupyter.widget-view+json": {
       "version_major": 2,
       "version_minor": 0,
       "model_id": "c0df7f4de90043aa91a9804372a2dde7"
      }
     },
     "metadata": {}
    },
    {
     "output_type": "display_data",
     "data": {
      "text/plain": "Downloading:   0%|          | 0.00/548M [00:00<?, ?B/s]",
      "application/vnd.jupyter.widget-view+json": {
       "version_major": 2,
       "version_minor": 0,
       "model_id": "3742ab38cb66414ca033ba40213bc241"
      }
     },
     "metadata": {}
    },
    {
     "output_type": "stream",
     "name": "stderr",
     "text": [
      "All PyTorch model weights were used when initializing TFGPT2LMHeadModel.\n",
      "\n",
      "All the weights of TFGPT2LMHeadModel were initialized from the PyTorch model.\n",
      "If your task is similar to the task the model of the checkpoint was trained on, you can already use TFGPT2LMHeadModel for predictions without further training.\n",
      "WARNING:tensorflow:The parameters `output_attentions`, `output_hidden_states` and `use_cache` cannot be updated when calling a model.They have to be set to True/False in the config object (i.e.: `config=XConfig.from_pretrained('name', output_attentions=True)`).\n",
      "WARNING:tensorflow:AutoGraph could not transform <bound method Socket.send of <zmq.sugar.socket.Socket object at 0x7f6af43501c0>> and will run it as-is.\n",
      "Please report this to the TensorFlow team. When filing the bug, set the verbosity to 10 (on Linux, `export AUTOGRAPH_VERBOSITY=10`) and attach the full output.\n",
      "Cause: module, class, method, function, traceback, frame, or code object was expected, got cython_function_or_method\n",
      "To silence this warning, decorate the function with @tf.autograph.experimental.do_not_convert\n",
      "WARNING: AutoGraph could not transform <bound method Socket.send of <zmq.sugar.socket.Socket object at 0x7f6af43501c0>> and will run it as-is.\n",
      "Please report this to the TensorFlow team. When filing the bug, set the verbosity to 10 (on Linux, `export AUTOGRAPH_VERBOSITY=10`) and attach the full output.\n",
      "Cause: module, class, method, function, traceback, frame, or code object was expected, got cython_function_or_method\n",
      "To silence this warning, decorate the function with @tf.autograph.experimental.do_not_convert\n",
      "WARNING:tensorflow:The parameter `return_dict` cannot be set in graph mode and will always be set to `True`.\n",
      "WARNING:tensorflow:The parameters `output_attentions`, `output_hidden_states` and `use_cache` cannot be updated when calling a model.They have to be set to True/False in the config object (i.e.: `config=XConfig.from_pretrained('name', output_attentions=True)`).\n",
      "WARNING:tensorflow:The parameter `return_dict` cannot be set in graph mode and will always be set to `True`.\n",
      "WARNING:tensorflow:The parameters `output_attentions`, `output_hidden_states` and `use_cache` cannot be updated when calling a model.They have to be set to True/False in the config object (i.e.: `config=XConfig.from_pretrained('name', output_attentions=True)`).\n",
      "WARNING:tensorflow:The parameter `return_dict` cannot be set in graph mode and will always be set to `True`.\n",
      "WARNING:tensorflow:The parameters `output_attentions`, `output_hidden_states` and `use_cache` cannot be updated when calling a model.They have to be set to True/False in the config object (i.e.: `config=XConfig.from_pretrained('name', output_attentions=True)`).\n",
      "WARNING:tensorflow:The parameter `return_dict` cannot be set in graph mode and will always be set to `True`.\n",
      "WARNING:tensorflow:The parameters `output_attentions`, `output_hidden_states` and `use_cache` cannot be updated when calling a model.They have to be set to True/False in the config object (i.e.: `config=XConfig.from_pretrained('name', output_attentions=True)`).\n",
      "WARNING:tensorflow:The parameter `return_dict` cannot be set in graph mode and will always be set to `True`.\n",
      "WARNING:tensorflow:The parameters `output_attentions`, `output_hidden_states` and `use_cache` cannot be updated when calling a model.They have to be set to True/False in the config object (i.e.: `config=XConfig.from_pretrained('name', output_attentions=True)`).\n",
      "WARNING:tensorflow:The parameter `return_dict` cannot be set in graph mode and will always be set to `True`.\n",
      "WARNING:tensorflow:The parameters `output_attentions`, `output_hidden_states` and `use_cache` cannot be updated when calling a model.They have to be set to True/False in the config object (i.e.: `config=XConfig.from_pretrained('name', output_attentions=True)`).\n",
      "WARNING:tensorflow:The parameter `return_dict` cannot be set in graph mode and will always be set to `True`.\n",
      "WARNING:tensorflow:The parameters `output_attentions`, `output_hidden_states` and `use_cache` cannot be updated when calling a model.They have to be set to True/False in the config object (i.e.: `config=XConfig.from_pretrained('name', output_attentions=True)`).\n",
      "WARNING:tensorflow:The parameter `return_dict` cannot be set in graph mode and will always be set to `True`.\n",
      "WARNING:absl:Found untraced functions such as wte_layer_call_and_return_conditional_losses, wte_layer_call_fn, dropout_layer_call_and_return_conditional_losses, dropout_layer_call_fn, ln_f_layer_call_and_return_conditional_losses while saving (showing 5 of 735). These functions will not be directly callable after loading.\n",
      "WARNING:absl:Found untraced functions such as wte_layer_call_and_return_conditional_losses, wte_layer_call_fn, dropout_layer_call_and_return_conditional_losses, dropout_layer_call_fn, ln_f_layer_call_and_return_conditional_losses while saving (showing 5 of 735). These functions will not be directly callable after loading.\n",
      "INFO:tensorflow:Assets written to: ./tfgpt2model/saved_model/1/assets\n",
      "INFO:tensorflow:Assets written to: ./tfgpt2model/saved_model/1/assets\n"
     ]
    }
   ],
   "source": [
    "from transformers import TFGPT2LMHeadModel, GPT2Tokenizer\n",
    "tokenizer = GPT2Tokenizer.from_pretrained(\"gpt2\")\n",
    "model = TFGPT2LMHeadModel.from_pretrained(\"gpt2\", from_pt=True, pad_token_id=tokenizer.eos_token_id)\n",
    "model.save_pretrained(\"./tfgpt2model\", saved_model=True)"
   ]
  },
  {
   "cell_type": "markdown",
   "id": "further-tribute",
   "metadata": {},
   "source": [
    "### Convert the TensorFlow saved model to ONNX"
   ]
  },
  {
   "cell_type": "code",
   "execution_count": 4,
   "id": "irish-mountain",
   "metadata": {},
   "outputs": [
    {
     "output_type": "stream",
     "name": "stdout",
     "text": [
      "2021-05-27 23:54:39.198493: W tensorflow/stream_executor/platform/default/dso_loader.cc:60] Could not load dynamic library 'libcudart.so.11.0'; dlerror: libcudart.so.11.0: cannot open shared object file: No such file or directory\n",
      "2021-05-27 23:54:39.198556: I tensorflow/stream_executor/cuda/cudart_stub.cc:29] Ignore above cudart dlerror if you do not have a GPU set up on your machine.\n",
      "/usr/lib/python3.8/runpy.py:127: RuntimeWarning: 'tf2onnx.convert' found in sys.modules after import of package 'tf2onnx', but prior to execution of 'tf2onnx.convert'; this may result in unpredictable behaviour\n",
      "  warn(RuntimeWarning(msg))\n",
      "2021-05-27 23:54:41.091561: I tensorflow/compiler/jit/xla_cpu_device.cc:41] Not creating XLA devices, tf_xla_enable_xla_devices not set\n",
      "2021-05-27 23:54:41.091930: W tensorflow/stream_executor/platform/default/dso_loader.cc:60] Could not load dynamic library 'libcuda.so.1'; dlerror: libcuda.so.1: cannot open shared object file: No such file or directory\n",
      "2021-05-27 23:54:41.091985: W tensorflow/stream_executor/cuda/cuda_driver.cc:326] failed call to cuInit: UNKNOWN ERROR (303)\n",
      "2021-05-27 23:54:41.092035: I tensorflow/stream_executor/cuda/cuda_diagnostics.cc:156] kernel driver does not appear to be running on this host (DESKTOP-UV3QRV5): /proc/driver/nvidia/version does not exist\n",
      "2021-05-27 23:54:41.092524: I tensorflow/core/platform/cpu_feature_guard.cc:142] This TensorFlow binary is optimized with oneAPI Deep Neural Network Library (oneDNN) to use the following CPU instructions in performance-critical operations:  AVX2 AVX512F FMA\n",
      "To enable them in other operations, rebuild TensorFlow with the appropriate compiler flags.\n",
      "2021-05-27 23:54:41.096407: I tensorflow/compiler/jit/xla_gpu_device.cc:99] Not creating XLA devices, tf_xla_enable_xla_devices not set\n",
      "2021-05-27 23:54:41,097 - WARNING - '--tag' not specified for saved_model. Using --tag serve\n",
      "2021-05-27 23:54:54,201 - INFO - Signatures found in model: [serving_default].\n",
      "2021-05-27 23:54:54,201 - WARNING - '--signature_def' not specified, using first signature: serving_default\n",
      "2021-05-27 23:54:54,202 - INFO - Output names: ['logits', 'past_key_values']\n",
      "2021-05-27 23:54:54.294740: I tensorflow/core/grappler/devices.cc:69] Number of eligible GPUs (core count >= 8, compute capability >= 0.0): 0\n",
      "2021-05-27 23:54:54.295026: I tensorflow/core/grappler/clusters/single_machine.cc:356] Starting new session\n",
      "2021-05-27 23:54:54.295500: I tensorflow/compiler/jit/xla_gpu_device.cc:99] Not creating XLA devices, tf_xla_enable_xla_devices not set\n",
      "2021-05-27 23:54:54.296360: I tensorflow/core/platform/profile_utils/cpu_utils.cc:112] CPU Frequency: 1497600000 Hz\n",
      "2021-05-27 23:54:54.550517: I tensorflow/core/grappler/optimizers/meta_optimizer.cc:928] Optimization results for grappler item: graph_to_optimize\n",
      "  function_optimizer: Graph size after: 3213 nodes (3060), 4128 edges (3974), time = 149.256ms.\n",
      "  function_optimizer: function_optimizer did nothing. time = 2.692ms.\n",
      "\n",
      "2021-05-27 23:55:05.522426: I tensorflow/compiler/jit/xla_gpu_device.cc:99] Not creating XLA devices, tf_xla_enable_xla_devices not set\n",
      "WARNING:tensorflow:From /home/lenisha/.local/lib/python3.8/site-packages/tf2onnx/tf_loader.py:603: extract_sub_graph (from tensorflow.python.framework.graph_util_impl) is deprecated and will be removed in a future version.\n",
      "Instructions for updating:\n",
      "Use `tf.compat.v1.graph_util.extract_sub_graph`\n",
      "2021-05-27 23:55:07,683 - WARNING - From /home/lenisha/.local/lib/python3.8/site-packages/tf2onnx/tf_loader.py:603: extract_sub_graph (from tensorflow.python.framework.graph_util_impl) is deprecated and will be removed in a future version.\n",
      "Instructions for updating:\n",
      "Use `tf.compat.v1.graph_util.extract_sub_graph`\n",
      "2021-05-27 23:55:07.805458: I tensorflow/core/grappler/devices.cc:69] Number of eligible GPUs (core count >= 8, compute capability >= 0.0): 0\n",
      "2021-05-27 23:55:07.805760: I tensorflow/core/grappler/clusters/single_machine.cc:356] Starting new session\n",
      "2021-05-27 23:55:07.806310: I tensorflow/compiler/jit/xla_gpu_device.cc:99] Not creating XLA devices, tf_xla_enable_xla_devices not set\n",
      "2021-05-27 23:55:14.013258: I tensorflow/core/grappler/optimizers/meta_optimizer.cc:928] Optimization results for grappler item: graph_to_optimize\n",
      "  constant_folding: Graph size after: 2720 nodes (-318), 3646 edges (-319), time = 4262.66309ms.\n",
      "  function_optimizer: function_optimizer did nothing. time = 3.025ms.\n",
      "  constant_folding: Graph size after: 2720 nodes (0), 3646 edges (0), time = 1101.80396ms.\n",
      "  function_optimizer: function_optimizer did nothing. time = 4.379ms.\n",
      "\n",
      "2021-05-27 23:55:17,978 - INFO - Using tensorflow=2.4.1, onnx=1.9.0, tf2onnx=1.8.5/50049d\n",
      "2021-05-27 23:55:17,978 - INFO - Using opset <onnx, 11>\n",
      "2021-05-27 23:55:34,054 - INFO - Computed 0 values for constant folding\n",
      "2021-05-27 23:56:12,694 - INFO - Optimizing ONNX model\n",
      "2021-05-27 23:56:22,225 - INFO - After optimization: Cast -123 (311->188), Concat -37 (126->89), Const -1854 (2032->178), Gather +12 (2->14), GlobalAveragePool +50 (0->50), Identity -76 (76->0), ReduceMean -50 (50->0), Shape -37 (112->75), Slice -74 (235->161), Squeeze -198 (223->25), Transpose -12 (61->49), Unsqueeze -361 (435->74)\n",
      "2021-05-27 23:56:25,114 - INFO - \n",
      "2021-05-27 23:56:25,114 - INFO - Successfully converted TensorFlow model ./tfgpt2model/saved_model/1 to ONNX\n",
      "2021-05-27 23:56:25,115 - INFO - Model inputs: ['attention_mask:0', 'input_ids:0']\n",
      "2021-05-27 23:56:25,115 - INFO - Model outputs: ['logits', 'past_key_values']\n",
      "2021-05-27 23:56:25,115 - INFO - ONNX model is saved at model.onnx\n"
     ]
    }
   ],
   "source": [
    "!python -m tf2onnx.convert --saved-model ./tfgpt2model/saved_model/1 --opset 11  --output model.onnx"
   ]
  },
  {
   "source": [
    "## Azure Setup\n",
    "We  have provided [Azure Setup Notebook](AzureSetup.ipynb) that deploys AKS cluster, Azure storage account and installs Azure Blob CSI driver. If AKS cluster already exists skip to creation of Blob Storage and CSI driver installtion steps."
   ],
   "cell_type": "markdown",
   "metadata": {}
  },
  {
   "cell_type": "code",
   "execution_count": 5,
   "metadata": {},
   "outputs": [],
   "source": [
    "resource_group = \"seldon\"   # feel free to replace or use this default\n",
    "aks_name = \"modeltests\"    \n",
    "\n",
    "storage_account_name = \"modeltestsgpt\"        # fill in\n",
    "storage_container_name = \"gpt2onnx\"             "
   ]
  },
  {
   "cell_type": "markdown",
   "id": "sunset-pantyhose",
   "metadata": {},
   "source": [
    "### Copy your model to Azure Blob\n"
   ]
  },
  {
   "cell_type": "code",
   "execution_count": 6,
   "id": "lasting-performance",
   "metadata": {},
   "outputs": [
    {
     "output_type": "stream",
     "name": "stdout",
     "text": [
      "\u001b[33mExtension 'storage-preview' is already installed.\u001b[0m\n",
      "\u001b[0m\u001b[33mAzcopy command: ['/home/lenisha/.azure/cliextensions/storage-preview/azext_storage_preview/azcopy/azcopy_linux_amd64_10.5.0/azcopy', 'copy', './model.onnx', 'https://modeltestsgpt.blob.core.windows.net/gpt2onnx/?se=2021-05-29T03%3A57%3A39Z&sp=rwdlacup&sv=2018-03-28&ss=b&srt=sco&sig=l1L7/xauvEWX2B3oV0Dvfl3s2ajxiq1PgV4/WLQpQ%2BU%3D']\u001b[0m\n",
      "INFO: Scanning...\n",
      "INFO: Any empty folders will not be processed, because source and/or destination doesn't have full folder support\n",
      "\n",
      "Job f0fa2ca6-467a-034d-5ed5-fbdd73eea742 has started\n",
      "Log file is located at: /home/lenisha/.azcopy/f0fa2ca6-467a-034d-5ed5-fbdd73eea742.log\n",
      "\n",
      "INFO: azcopy: A newer version 10.10.0 is available to download\n",
      "\n",
      "98.7 %, 0 Done, 0 Failed, 1 Pending, 0 Skipped, 1 Total, 2-sec Throughput (Mb/s): 15.8563\n",
      "\n",
      "\n",
      "Job f0fa2ca6-467a-034d-5ed5-fbdd73eea742 summary\n",
      "Elapsed Time (Minutes): 0.967\n",
      "Number of File Transfers: 1\n",
      "Number of Folder Property Transfers: 0\n",
      "Total Number of Transfers: 1\n",
      "Number of Transfers Completed: 1\n",
      "Number of Transfers Failed: 0\n",
      "Number of Transfers Skipped: 0\n",
      "TotalBytesTransferred: 652535462\n",
      "Final Job Status: Completed\n",
      "\n",
      "\u001b[0mCPU times: user 2.16 s, sys: 878 ms, total: 3.04 s\n",
      "Wall time: 59.9 s\n"
     ]
    }
   ],
   "source": [
    "%%time\n",
    "# Copy model file\n",
    "!az extension add --name storage-preview\n",
    "!az storage azcopy blob upload --container {storage_container_name} \\\n",
    "                               --account-name {storage_account_name} \\\n",
    "                               --source  ./model.onnx \\\n",
    "                               --destination gpt2/1/model.onnx  "
   ]
  },
  {
   "cell_type": "code",
   "execution_count": 11,
   "metadata": {},
   "outputs": [
    {
     "output_type": "stream",
     "name": "stdout",
     "text": [
      "\u001b[33mThis command has been deprecated and will be removed in future release. Use 'az storage fs file list' instead. For more information go to https://github.com/Azure/azure-cli/blob/dev/src/azure-cli/azure/cli/command_modules/storage/docs/ADLS%20Gen2.md\u001b[39m\n",
      "\u001b[33mThe behavior of this command has been altered by the following extension: storage-preview\u001b[0m\n",
      "Name        IsDirectory    Blob Type    Blob Tier    Length     Content Type              Last Modified              Snapshot\n",
      "----------  -------------  -----------  -----------  ---------  ------------------------  -------------------------  ----------\n",
      "model.onnx                 BlockBlob    Hot          652535462  application/octet-stream  2021-05-28T03:58:37+00:00\n",
      "\u001b[0m"
     ]
    }
   ],
   "source": [
    "#Verify Uploaded file\n",
    "!az storage blob list \\\n",
    "    --account-name {storage_account_name}\\\n",
    "    --container-name {storage_container_name} \\\n",
    "    --output table \n",
    "    "
   ]
  },
  {
   "cell_type": "markdown",
   "id": "convinced-syracuse",
   "metadata": {},
   "source": [
    "### Run Seldon in your kubernetes cluster\n",
    "\n",
    "Follow the [Seldon-Core Setup notebook](https://docs.seldon.io/projects/seldon-core/en/latest/examples/seldon_core_setup.html) to Setup a cluster with Ambassador Ingress or Istio and install Seldon Core"
   ]
  },
  {
   "cell_type": "markdown",
   "id": "backed-outreach",
   "metadata": {},
   "source": [
    "### Deploy your model with Seldon pre-packaged Triton server"
   ]
  },
  {
   "cell_type": "code",
   "execution_count": 12,
   "id": "beneficial-anime",
   "metadata": {},
   "outputs": [
    {
     "output_type": "stream",
     "name": "stdout",
     "text": [
      "Writing gpt2-deploy.yaml\n"
     ]
    }
   ],
   "source": [
    "%%writefile gpt2-deploy.yaml\n",
    "apiVersion: machinelearning.seldon.io/v1alpha2\n",
    "kind: SeldonDeployment\n",
    "metadata:\n",
    "  name: gpt2\n",
    "spec:\n",
    "  predictors:\n",
    "  - graph:\n",
    "      implementation: TRITON_SERVER\n",
    "      logger:\n",
    "        mode: all\n",
    "      modelUri: pvc://pvc-blob\n",
    "      name: gpt2\n",
    "      type: MODEL\n",
    "    name: default\n",
    "    replicas: 1\n",
    "  protocol: kfserving"
   ]
  },
  {
   "cell_type": "code",
   "execution_count": 13,
   "id": "subjective-involvement",
   "metadata": {},
   "outputs": [
    {
     "output_type": "stream",
     "name": "stdout",
     "text": [
      "seldondeployment.machinelearning.seldon.io/gpt2 created\n"
     ]
    }
   ],
   "source": [
    "\n",
    "!kubectl apply -f gpt2-deploy.yaml -n default"
   ]
  },
  {
   "cell_type": "code",
   "execution_count": 14,
   "id": "demanding-thesaurus",
   "metadata": {},
   "outputs": [
    {
     "output_type": "stream",
     "name": "stdout",
     "text": [
      "deployment \"gpt2-default-0-gpt2\" successfully rolled out\n"
     ]
    }
   ],
   "source": [
    "!kubectl rollout status deploy/$(kubectl get deploy -l seldon-deployment-id=gpt2 -o jsonpath='{.items[0].metadata.name}')"
   ]
  },
  {
   "cell_type": "markdown",
   "id": "digital-supervisor",
   "metadata": {},
   "source": [
    "#### Interact with the model: get model metadata (a \"test\" request to make sure our model is available and loaded correctly)"
   ]
  },
  {
   "cell_type": "code",
   "execution_count": 20,
   "id": "married-roller",
   "metadata": {},
   "outputs": [
    {
     "output_type": "stream",
     "name": "stdout",
     "text": [
      "{'20.186.162.33'}\n",
      "*   Trying 20.186.162.33:80...\n",
      "* TCP_NODELAY set\n",
      "* Connected to 20.186.162.33 (20.186.162.33) port 80 (#0)\n",
      "\n",
      "\n",
      "\n",
      "\n",
      "\n",
      "* Mark bundle as not supporting multiuse\n",
      "\n",
      "\n",
      "\n",
      "\n",
      "\n",
      "\n",
      "\n",
      "\n",
      "\n",
      "\n",
      "\n",
      "\n",
      "* Connection #0 to host 20.186.162.33 left intact\n",
      "{\"error\":\"Request for unknown model: 'gpt2' is not found\"}"
     ]
    }
   ],
   "source": [
    "ingress_ip=!(kubectl get svc --namespace seldon-system ambassador -o jsonpath='{.status.loadBalancer.ingress[0].ip}')\n",
    "ingress_ip = ingress_ip[0]\n",
    "\n",
    "!curl -v http://{ingress_ip}:80/seldon/default/gpt2/v2/models/gpt2"
   ]
  },
  {
   "cell_type": "markdown",
   "id": "anonymous-resource",
   "metadata": {},
   "source": [
    "### Run prediction test: generate a sentence completion using GPT2 model  - Greedy approach\n"
   ]
  },
  {
   "cell_type": "code",
   "execution_count": null,
   "id": "modified-termination",
   "metadata": {},
   "outputs": [],
   "source": [
    "import requests\n",
    "import json\n",
    "import numpy as np\n",
    "from transformers import GPT2Tokenizer\n",
    "\n",
    "tokenizer = GPT2Tokenizer.from_pretrained(\"gpt2\")\n",
    "input_text = 'I enjoy working in Seldon'\n",
    "count = 0\n",
    "max_gen_len = 10\n",
    "gen_sentence = input_text\n",
    "while count < max_gen_len:\n",
    "    input_ids = tokenizer.encode(gen_sentence, return_tensors='tf')\n",
    "    shape = input_ids.shape.as_list()\n",
    "    payload = {\n",
    "            \"inputs\": [\n",
    "                {\"name\": \"input_ids:0\",\n",
    "                 \"datatype\": \"INT32\",\n",
    "                 \"shape\": shape,\n",
    "                 \"data\": input_ids.numpy().tolist()\n",
    "                 },\n",
    "                {\"name\": \"attention_mask:0\",\n",
    "                 \"datatype\": \"INT32\",\n",
    "                 \"shape\": shape,\n",
    "                 \"data\": np.ones(shape, dtype=np.int32).tolist()\n",
    "                 }\n",
    "                ]\n",
    "            }\n",
    "\n",
    "    ret = requests.post('http://localhost:80/seldon/default/gpt2/v2/models/gpt2/infer', json=payload)\n",
    "\n",
    "    try:\n",
    "        res = ret.json()\n",
    "    except:\n",
    "       continue\n",
    "\n",
    "    # extract logits\n",
    "    logits = np.array(res[\"outputs\"][1][\"data\"])\n",
    "    logits = logits.reshape(res[\"outputs\"][1][\"shape\"])\n",
    "\n",
    "    # take the best next token probability of the last token of input ( greedy approach)\n",
    "    next_token = logits.argmax(axis=2)[0]\n",
    "    next_token_str = tokenizer.decode(next_token[-1:], skip_special_tokens=True,\n",
    "                                      clean_up_tokenization_spaces=True).strip()\n",
    "    gen_sentence += ' ' + next_token_str\n",
    "    count += 1\n",
    "\n",
    "print(f'Input: {input_text}\\nOutput: {gen_sentence}')"
   ]
  },
  {
   "cell_type": "markdown",
   "id": "colored-status",
   "metadata": {},
   "source": [
    "### Run Load Test / Performance Test using vegeta"
   ]
  },
  {
   "cell_type": "markdown",
   "id": "exempt-discovery",
   "metadata": {},
   "source": [
    "#### Install vegeta, for more details take a look in [vegeta](https://github.com/tsenart/vegeta#install) official documentation"
   ]
  },
  {
   "cell_type": "code",
   "execution_count": null,
   "id": "interesting-laptop",
   "metadata": {},
   "outputs": [],
   "source": [
    "!wget https://github.com/tsenart/vegeta/releases/download/v12.8.3/vegeta-12.8.3-linux-amd64.tar.gz\n",
    "!tar -zxvf vegeta-12.8.3-linux-amd64.tar.gz\n",
    "!chmod +x vegeta"
   ]
  },
  {
   "cell_type": "markdown",
   "id": "friendly-lying",
   "metadata": {},
   "source": [
    "#### Generate vegeta [target file](https://github.com/tsenart/vegeta#-targets) contains \"post\" cmd with payload in the requiered structure"
   ]
  },
  {
   "cell_type": "code",
   "execution_count": null,
   "id": "reliable-croatia",
   "metadata": {},
   "outputs": [],
   "source": [
    "from subprocess import run, Popen, PIPE\n",
    "import json\n",
    "import numpy as np\n",
    "from transformers import TFGPT2LMHeadModel, GPT2Tokenizer\n",
    "import base64\n",
    "\n",
    "tokenizer = GPT2Tokenizer.from_pretrained(\"gpt2\")\n",
    "input_text = 'I enjoy working in Seldon'\n",
    "input_ids = tokenizer.encode(input_text, return_tensors='tf')\n",
    "shape = input_ids.shape.as_list()\n",
    "payload = {\n",
    "\t\t\"inputs\": [\n",
    "\t\t\t{\"name\": \"input_ids:0\",\n",
    "\t\t\t \"datatype\": \"INT32\",\n",
    "\t\t\t \"shape\": shape,\n",
    "\t\t\t \"data\": input_ids.numpy().tolist()\n",
    "\t\t\t },\n",
    "\t\t\t{\"name\": \"attention_mask:0\",\n",
    "\t\t\t \"datatype\": \"INT32\",\n",
    "\t\t\t \"shape\": shape,\n",
    "\t\t\t \"data\": np.ones(shape, dtype=np.int32).tolist()\n",
    "\t\t\t }\n",
    "\t\t\t]\n",
    "\t\t}\n",
    "\n",
    "cmd= {\"method\": \"POST\",\n",
    "\t\t\"header\": {\"Content-Type\": [\"application/json\"] },\n",
    "\t\t\"url\": \"http://localhost:80/seldon/default/gpt2/v2/models/gpt2/infer\",\n",
    "\t\t\"body\": base64.b64encode(bytes(json.dumps(payload), \"utf-8\")).decode(\"utf-8\")}\n",
    "\n",
    "with open(\"vegeta_target.json\", mode=\"w\") as file:\n",
    "\tjson.dump(cmd, file)\n",
    "\tfile.write('\\n\\n')"
   ]
  },
  {
   "cell_type": "code",
   "execution_count": null,
   "id": "tribal-statistics",
   "metadata": {},
   "outputs": [],
   "source": [
    "!vegeta attack -targets=vegeta_target.json -rate=1 -duration=60s -format=json | vegeta report -type=text"
   ]
  },
  {
   "cell_type": "markdown",
   "id": "patient-suite",
   "metadata": {},
   "source": [
    "### Clean-up"
   ]
  },
  {
   "cell_type": "code",
   "execution_count": null,
   "id": "pacific-collectible",
   "metadata": {},
   "outputs": [],
   "source": [
    "!kubectl delete -f gpt2-deploy.yaml -n default"
   ]
  }
 ],
 "metadata": {
  "kernelspec": {
   "name": "python3",
   "display_name": "Python 3.8.5 64-bit"
  },
  "language_info": {
   "codemirror_mode": {
    "name": "ipython",
    "version": 3
   },
   "file_extension": ".py",
   "mimetype": "text/x-python",
   "name": "python",
   "nbconvert_exporter": "python",
   "pygments_lexer": "ipython3",
   "version": "3.8.5"
  },
  "interpreter": {
   "hash": "e7370f93d1d0cde622a1f8e1c04877d8463912d04d973331ad4851f04de6915a"
  }
 },
 "nbformat": 4,
 "nbformat_minor": 5
}