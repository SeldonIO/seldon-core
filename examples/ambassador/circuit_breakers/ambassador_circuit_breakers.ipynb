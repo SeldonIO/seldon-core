{
 "cells": [
  {
   "cell_type": "markdown",
   "metadata": {},
   "source": [
    "# Circuit Breakers with Seldon and Ambassador\n",
    "\n",
    "This notebook shows how you can deploy Seldon Deployments which can have circuit breakers via Ambassador's circuit breakers configuration.\n"
   ]
  },
  {
   "cell_type": "markdown",
   "metadata": {},
   "source": [
    "## Setup Seldon Core\n",
    "\n",
    "Use the setup notebook to [Setup Cluster](https://docs.seldon.io/projects/seldon-core/en/latest/examples/seldon_core_setup.html#Setup-Cluster) with [Ambassador Ingress](https://docs.seldon.io/projects/seldon-core/en/latest/examples/seldon_core_setup.html#Ambassador) and [Install Seldon Core](https://docs.seldon.io/projects/seldon-core/en/latest/examples/seldon_core_setup.html#Install-Seldon-Core). Instructions [also online](https://docs.seldon.io/projects/seldon-core/en/latest/examples/seldon_core_setup.html)."
   ]
  },
  {
   "cell_type": "code",
   "execution_count": 1,
   "metadata": {},
   "outputs": [
    {
     "name": "stdout",
     "output_type": "stream",
     "text": [
      "Error from server (AlreadyExists): namespaces \"seldon\" already exists\r\n"
     ]
    }
   ],
   "source": [
    "!kubectl create namespace seldon"
   ]
  },
  {
   "cell_type": "code",
   "execution_count": 2,
   "metadata": {},
   "outputs": [
    {
     "name": "stdout",
     "output_type": "stream",
     "text": [
      "Context \"kind-ansible\" modified.\r\n"
     ]
    }
   ],
   "source": [
    "!kubectl config set-context $(kubectl config current-context) --namespace=seldon"
   ]
  },
  {
   "cell_type": "markdown",
   "metadata": {},
   "source": [
    "## Launch main model\n",
    "\n",
    "We will create a very simple Seldon Deployment with a dummy model image `seldonio/mock_classifier:1.0`. This deployment is named `example`. We will add following circuit breakers configurations.\n",
    "\n",
    "```\n",
    "    \"seldon.io/ambassador-circuit-breakers-max-connections\":\"200\",\n",
    "    \"seldon.io/ambassador-circuit-breakers-max-pending-requests\":\"100\",\n",
    "    \"seldon.io/ambassador-circuit-breakers-max-requests\":\"200\",\n",
    "    \"seldon.io/ambassador-circuit-breakers-max-retries\":\"3\"\n",
    "```\n",
    "\n",
    "Where\n",
    "\n",
    "  * `\"seldon.io/ambassador-circuit-breakers-max-connections\":\"200\"` is the maximum number of connections will make to the Seldon Deployment\n",
    "  * `\"seldon.io/ambassador-circuit-breakers-max-pending-requests\":\"100\"` is the maximum number of requests that will be queued while waiting for a connection\n",
    "  * `\"seldon.io/ambassador-circuit-breakers-max-requests\":\"200\"` is the maximum number of parallel outstanding requests to the Seldon Deployment\n",
    "  * `\"seldon.io/ambassador-circuit-breakers-max-retries\":\"3\"` the maximum number of parallel retries allowed to the Seldon Deployment\n",
    "  "
   ]
  },
  {
   "cell_type": "code",
   "execution_count": 3,
   "metadata": {},
   "outputs": [
    {
     "name": "stdout",
     "output_type": "stream",
     "text": [
      "{\r\n",
      "    \u001b[94m\"apiVersion\"\u001b[39;49;00m: \u001b[33m\"machinelearning.seldon.io/v1alpha2\"\u001b[39;49;00m,\r\n",
      "    \u001b[94m\"kind\"\u001b[39;49;00m: \u001b[33m\"SeldonDeployment\"\u001b[39;49;00m,\r\n",
      "    \u001b[94m\"metadata\"\u001b[39;49;00m: {\r\n",
      "        \u001b[94m\"labels\"\u001b[39;49;00m: {\r\n",
      "            \u001b[94m\"app\"\u001b[39;49;00m: \u001b[33m\"seldon\"\u001b[39;49;00m\r\n",
      "        },\r\n",
      "        \u001b[94m\"name\"\u001b[39;49;00m: \u001b[33m\"example\"\u001b[39;49;00m\r\n",
      "    },\r\n",
      "    \u001b[94m\"spec\"\u001b[39;49;00m: {\t\r\n",
      "        \u001b[94m\"name\"\u001b[39;49;00m: \u001b[33m\"production-model\"\u001b[39;49;00m,\r\n",
      "    \u001b[94m\"annotations\"\u001b[39;49;00m: {\r\n",
      "        \u001b[94m\"seldon.io/ambassador-circuit-breakers-max-connections\"\u001b[39;49;00m:\u001b[33m\"200\"\u001b[39;49;00m,\r\n",
      "        \u001b[94m\"seldon.io/ambassador-circuit-breakers-max-pending-requests\"\u001b[39;49;00m:\u001b[33m\"100\"\u001b[39;49;00m,\r\n",
      "        \u001b[94m\"seldon.io/ambassador-circuit-breakers-max-requests\"\u001b[39;49;00m:\u001b[33m\"200\"\u001b[39;49;00m,\r\n",
      "        \u001b[94m\"seldon.io/ambassador-circuit-breakers-max-retries\"\u001b[39;49;00m:\u001b[33m\"3\"\u001b[39;49;00m\r\n",
      "    },\r\n",
      "        \u001b[94m\"predictors\"\u001b[39;49;00m: [\r\n",
      "            {\r\n",
      "                \u001b[94m\"componentSpecs\"\u001b[39;49;00m: [{\r\n",
      "                    \u001b[94m\"spec\"\u001b[39;49;00m: {\r\n",
      "                        \u001b[94m\"containers\"\u001b[39;49;00m: [\r\n",
      "                            {\r\n",
      "                                \u001b[94m\"image\"\u001b[39;49;00m: \u001b[33m\"seldonio/mock_classifier_rest:1.4\"\u001b[39;49;00m,\r\n",
      "                                \u001b[94m\"imagePullPolicy\"\u001b[39;49;00m: \u001b[33m\"IfNotPresent\"\u001b[39;49;00m,\r\n",
      "                                \u001b[94m\"name\"\u001b[39;49;00m: \u001b[33m\"classifier\"\u001b[39;49;00m\r\n",
      "                            }\r\n",
      "                        ],\r\n",
      "                        \u001b[94m\"terminationGracePeriodSeconds\"\u001b[39;49;00m: \u001b[34m1\u001b[39;49;00m\r\n",
      "                    }}\r\n",
      "                                  ],\r\n",
      "                \u001b[94m\"graph\"\u001b[39;49;00m:\r\n",
      "                {\r\n",
      "                    \u001b[94m\"children\"\u001b[39;49;00m: [],\r\n",
      "                    \u001b[94m\"name\"\u001b[39;49;00m: \u001b[33m\"classifier\"\u001b[39;49;00m,\r\n",
      "                    \u001b[94m\"type\"\u001b[39;49;00m: \u001b[33m\"MODEL\"\u001b[39;49;00m,\r\n",
      "                    \u001b[94m\"endpoint\"\u001b[39;49;00m: {\r\n",
      "                        \u001b[94m\"type\"\u001b[39;49;00m: \u001b[33m\"REST\"\u001b[39;49;00m\r\n",
      "                    }},\r\n",
      "                \u001b[94m\"name\"\u001b[39;49;00m: \u001b[33m\"single\"\u001b[39;49;00m,\r\n",
      "                \u001b[94m\"replicas\"\u001b[39;49;00m: \u001b[34m1\u001b[39;49;00m\r\n",
      "            }\r\n",
      "        ]\r\n",
      "    }\r\n",
      "}\r\n"
     ]
    }
   ],
   "source": [
    "!pygmentize model_circuit_breakers_ambassador.json"
   ]
  },
  {
   "cell_type": "code",
   "execution_count": 4,
   "metadata": {},
   "outputs": [
    {
     "name": "stdout",
     "output_type": "stream",
     "text": [
      "seldondeployment.machinelearning.seldon.io/example created\r\n"
     ]
    }
   ],
   "source": [
    "!kubectl create -f model_circuit_breakers_ambassador.json"
   ]
  },
  {
   "cell_type": "code",
   "execution_count": 10,
   "metadata": {},
   "outputs": [
    {
     "name": "stdout",
     "output_type": "stream",
     "text": [
      "deployment \"example-single-0-classifier\" successfully rolled out\r\n"
     ]
    }
   ],
   "source": [
    "!kubectl rollout status deploy/$(kubectl get deploy -l seldon-deployment-id=example -o jsonpath='{.items[0].metadata.name}')"
   ]
  },
  {
   "cell_type": "markdown",
   "metadata": {},
   "source": [
    "### Get predictions"
   ]
  },
  {
   "cell_type": "code",
   "execution_count": 11,
   "metadata": {},
   "outputs": [
    {
     "name": "stderr",
     "output_type": "stream",
     "text": [
      "2022-08-23 09:48:53.841515: W tensorflow/stream_executor/platform/default/dso_loader.cc:64] Could not load dynamic library 'libcudart.so.11.0'; dlerror: libcudart.so.11.0: cannot open shared object file: No such file or directory\n",
      "2022-08-23 09:48:53.841537: I tensorflow/stream_executor/cuda/cudart_stub.cc:29] Ignore above cudart dlerror if you do not have a GPU set up on your machine.\n"
     ]
    }
   ],
   "source": [
    "from seldon_core.seldon_client import SeldonClient\n",
    "\n",
    "sc = SeldonClient(deployment_name=\"example\", namespace=\"seldon\")"
   ]
  },
  {
   "cell_type": "markdown",
   "metadata": {},
   "source": [
    "#### REST Request"
   ]
  },
  {
   "cell_type": "code",
   "execution_count": 12,
   "metadata": {},
   "outputs": [
    {
     "name": "stdout",
     "output_type": "stream",
     "text": [
      "Success:True message:\n",
      "Request:\n",
      "meta {\n",
      "}\n",
      "data {\n",
      "  tensor {\n",
      "    shape: 1\n",
      "    shape: 1\n",
      "    values: 0.28811053211964466\n",
      "  }\n",
      "}\n",
      "\n",
      "Response:\n",
      "{'data': {'names': ['proba'], 'tensor': {'shape': [1, 1], 'values': [0.06732305523577842]}}, 'meta': {}}\n"
     ]
    }
   ],
   "source": [
    "r = sc.predict(gateway=\"ambassador\", transport=\"rest\")\n",
    "assert r.success == True\n",
    "print(r)"
   ]
  },
  {
   "cell_type": "code",
   "execution_count": 13,
   "metadata": {},
   "outputs": [
    {
     "name": "stdout",
     "output_type": "stream",
     "text": [
      "seldondeployment.machinelearning.seldon.io \"example\" deleted\r\n"
     ]
    }
   ],
   "source": [
    "!kubectl delete -f model_circuit_breakers_ambassador.json"
   ]
  },
  {
   "cell_type": "code",
   "execution_count": null,
   "metadata": {},
   "outputs": [],
   "source": []
  }
 ],
 "metadata": {
  "anaconda-cloud": {},
  "kernelspec": {
   "display_name": "Python 3 (ipykernel)",
   "language": "python",
   "name": "python3"
  },
  "language_info": {
   "codemirror_mode": {
    "name": "ipython",
    "version": 3
   },
   "file_extension": ".py",
   "mimetype": "text/x-python",
   "name": "python",
   "nbconvert_exporter": "python",
   "pygments_lexer": "ipython3",
   "version": "3.7.10"
  },
  "varInspector": {
   "cols": {
    "lenName": 16,
    "lenType": 16,
    "lenVar": 40
   },
   "kernels_config": {
    "python": {
     "delete_cmd_postfix": "",
     "delete_cmd_prefix": "del ",
     "library": "var_list.py",
     "varRefreshCmd": "print(var_dic_list())"
    },
    "r": {
     "delete_cmd_postfix": ") ",
     "delete_cmd_prefix": "rm(",
     "library": "var_list.r",
     "varRefreshCmd": "cat(var_dic_list()) "
    }
   },
   "types_to_exclude": [
    "module",
    "function",
    "builtin_function_or_method",
    "instance",
    "_Feature"
   ],
   "window_display": false
  }
 },
 "nbformat": 4,
 "nbformat_minor": 1
}
