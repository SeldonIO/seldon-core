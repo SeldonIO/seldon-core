{
 "cells": [
  {
   "cell_type": "markdown",
   "id": "7ffc7b6b-cec0-433f-b7dc-735f328fccb0",
   "metadata": {},
   "source": [
    "# Deploy Mnist model with Triton\n",
    "\n",
    "## Prerequisites\n",
    "\n",
    " * A kubernetes cluster with kubectl configured\n",
    "%%writefile rclone.conf\n",
    "[s3]\n",
    "type = s3\n",
    "provider = minio\n",
    "env_auth = false\n",
    "access_key_id = minioadmin\n",
    "secret_access_key = minioadmin\n",
    "endpoint = http://localhost:8090 * rclone\n",
    " * curl\n",
    "\n",
    "## Setup Seldon Core\n",
    "\n",
    "Use the setup notebook to [Setup Cluster](https://docs.seldon.io/projects/seldon-core/en/latest/examples/seldon_core_setup.html#Setup-Cluster) with [Ambassador Ingress](https://docs.seldon.io/projects/seldon-core/en/latest/examples/seldon_core_setup.html#Ambassador) and [Install Seldon Core](https://docs.seldon.io/projects/seldon-core/en/latest/examples/seldon_core_setup.html#Install-Seldon-Core). Instructions [also online](https://docs.seldon.io/projects/seldon-core/en/latest/examples/seldon_core_setup.html).\n",
    "\n",
    "We will assume that ambassador (or Istio) ingress is port-forwarded to `localhost:8003`\n",
    "\n",
    "## Setup MinIO\n",
    "\n",
    "Use the provided [notebook](https://docs.seldon.io/projects/seldon-core/en/latest/examples/minio_setup.html) to install Minio in your cluster.\n",
    "Instructions [also online](https://docs.seldon.io/projects/seldon-core/en/latest/examples/minio_setup.html).\n",
    "\n",
    "We will assume that MinIO service is port-forwarded to `localhost:8090`"
   ]
  },
  {
   "cell_type": "code",
   "execution_count": 97,
   "id": "b15fbfa1-ecf5-4b1e-b1f4-560fdbe641d7",
   "metadata": {},
   "outputs": [
    {
     "name": "stdout",
     "output_type": "stream",
     "text": [
      "Overwriting rclone.conf\n"
     ]
    }
   ],
   "source": [
    "%%writefile rclone.conf\n",
    "[s3]\n",
    "type = s3\n",
    "provider = minio\n",
    "env_auth = false\n",
    "access_key_id = \"admin@seldon.io\"\n",
    "secret_access_key = \"12341234\"\n",
    "endpoint = http://localhost:8090"
   ]
  },
  {
   "cell_type": "code",
   "execution_count": 98,
   "id": "75b0eb17-0acd-4320-a214-d9867e689482",
   "metadata": {},
   "outputs": [
    {
     "name": "stdout",
     "output_type": "stream",
     "text": [
      "Overwriting secret.yaml\n"
     ]
    }
   ],
   "source": [
    "%%writefile secret.yaml\n",
    "apiVersion: v1\n",
    "kind: Secret\n",
    "metadata:\n",
    "  name: seldon-rclone-secret\n",
    "type: Opaque\n",
    "stringData:\n",
    "  RCLONE_CONFIG_S3_TYPE: s3\n",
    "  RCLONE_CONFIG_S3_PROVIDER: minio\n",
    "  RCLONE_CONFIG_S3_ENV_AUTH: \"false\"\n",
    "  RCLONE_CONFIG_S3_ACCESS_KEY_ID: \"admin@seldon.io\"\n",
    "  RCLONE_CONFIG_S3_SECRET_ACCESS_KEY: \"12341234\"\n",
    "  RCLONE_CONFIG_S3_ENDPOINT: http://minio.minio-system.svc.cluster.local:9000"
   ]
  },
  {
   "cell_type": "code",
   "execution_count": 99,
   "id": "3c37860f-1e37-46b9-8c5c-d76ce0c49de6",
   "metadata": {},
   "outputs": [
    {
     "name": "stdout",
     "output_type": "stream",
     "text": [
      "secret/seldon-rclone-secret configured\n"
     ]
    }
   ],
   "source": [
    "!kubectl apply -f secret.yaml"
   ]
  },
  {
   "cell_type": "markdown",
   "id": "140c715c-6bac-466f-bc2a-1a6211d76304",
   "metadata": {},
   "source": [
    "# Add Triton cofniguration"
   ]
  },
  {
   "cell_type": "code",
   "execution_count": 100,
   "id": "a065f43c-8577-4a01-8240-d4e1d9ebcb3b",
   "metadata": {},
   "outputs": [
    {
     "name": "stdout",
     "output_type": "stream",
     "text": [
      "Overwriting models_repository/mnist/config.pbtxt\n"
     ]
    }
   ],
   "source": [
    "%%writefile models_repository/mnist/config.pbtxt\n",
    "name: \"mnist\"\n",
    "platform: \"tensorflow_savedmodel\"\n",
    "max_batch_size: 100\n",
    "dynamic_batching { preferred_batch_size: [ 50 ]}\n",
    "instance_group [ { count: 2 }]\n",
    "input [\n",
    "  {\n",
    "    name: \"conv2d_input\"\n",
    "    data_type: TYPE_FP32\n",
    "    dims: [ 28, 28, 1 ]\n",
    "  }\n",
    "]\n",
    "output [\n",
    "  {\n",
    "    name: \"dense_1\"\n",
    "    data_type: TYPE_FP32\n",
    "    dims: [ 10 ]\n",
    "  }\n",
    "]"
   ]
  },
  {
   "cell_type": "markdown",
   "id": "b4d11d8c-768d-493e-8a4c-f6670e7a223e",
   "metadata": {},
   "source": [
    "# Copy model into S3"
   ]
  },
  {
   "cell_type": "code",
   "execution_count": 116,
   "id": "a2f1febd-97b8-4761-8c98-d87992d0b9f7",
   "metadata": {},
   "outputs": [
    {
     "name": "stderr",
     "output_type": "stream",
     "text": [
      "2021/10/12 19:33:32 DEBUG : rclone: Version \"v1.56.2\" starting with parameters [\"/home/rskolasinski/.asdf/installs/rclone/1.56.2/bin/rclone\" \"copy\" \"-vvv\" \"models_repository\" \"s3:triton-models/mnist-model\"]\n",
      "2021/10/12 19:33:32 DEBUG : Creating backend with remote \"models_repository\"\n",
      "2021/10/12 19:33:32 DEBUG : Using config file from \"/home/rskolasinski/.config/rclone/rclone.conf\"\n",
      "2021/10/12 19:33:32 DEBUG : fs cache: renaming cache item \"models_repository\" to be canonical \"/home/rskolasinski/work/seldon-core/examples/mnist_triton_e2e/models_repository\"\n",
      "2021/10/12 19:33:32 DEBUG : Creating backend with remote \"s3:triton-models/mnist-model\"\n",
      "2021/10/12 19:33:32 DEBUG : Setting type=\"s3\" for \"s3\" from environment variable RCLONE_CONFIG_S3_TYPE\n",
      "2021/10/12 19:33:32 DEBUG : Setting provider=\"minio\" for \"s3\" from environment variable RCLONE_CONFIG_S3_PROVIDER\n",
      "2021/10/12 19:33:32 DEBUG : Setting env_auth=\"false\" for \"s3\" from environment variable RCLONE_CONFIG_S3_ENV_AUTH\n",
      "2021/10/12 19:33:32 DEBUG : Setting access_key_id=\"admin@seldon.io\" for \"s3\" from environment variable RCLONE_CONFIG_S3_ACCESS_KEY_ID\n",
      "2021/10/12 19:33:32 DEBUG : Setting secret_access_key=\"12341234\" for \"s3\" from environment variable RCLONE_CONFIG_S3_SECRET_ACCESS_KEY\n",
      "2021/10/12 19:33:32 DEBUG : Setting endpoint=\"http://localhost:8090\" for \"s3\" from environment variable RCLONE_CONFIG_S3_ENDPOINT\n",
      "2021/10/12 19:33:32 DEBUG : Setting endpoint=\"http://localhost:8090\" for \"s3\" from environment variable RCLONE_CONFIG_S3_ENDPOINT\n",
      "2021/10/12 19:33:32 DEBUG : Setting endpoint=\"http://localhost:8090\" for \"s3\" from environment variable RCLONE_CONFIG_S3_ENDPOINT\n",
      "2021/10/12 19:33:32 DEBUG : Setting endpoint=\"http://localhost:8090\" for \"s3\" from environment variable RCLONE_CONFIG_S3_ENDPOINT\n",
      "2021/10/12 19:33:32 DEBUG : Setting endpoint=\"http://localhost:8090\" for \"s3\" from environment variable RCLONE_CONFIG_S3_ENDPOINT\n",
      "2021/10/12 19:33:32 DEBUG : Setting endpoint=\"http://localhost:8090\" for \"s3\" from environment variable RCLONE_CONFIG_S3_ENDPOINT\n",
      "2021/10/12 19:33:32 DEBUG : Setting endpoint=\"http://localhost:8090\" for \"s3\" from environment variable RCLONE_CONFIG_S3_ENDPOINT\n",
      "2021/10/12 19:33:32 DEBUG : s3: detected overridden config - adding \"{mWOB1}\" suffix to name\n",
      "2021/10/12 19:33:32 DEBUG : Setting provider=\"minio\" for \"s3\" from environment variable RCLONE_CONFIG_S3_PROVIDER\n",
      "2021/10/12 19:33:32 DEBUG : Setting env_auth=\"false\" for \"s3\" from environment variable RCLONE_CONFIG_S3_ENV_AUTH\n",
      "2021/10/12 19:33:32 DEBUG : Setting access_key_id=\"admin@seldon.io\" for \"s3\" from environment variable RCLONE_CONFIG_S3_ACCESS_KEY_ID\n",
      "2021/10/12 19:33:32 DEBUG : Setting secret_access_key=\"12341234\" for \"s3\" from environment variable RCLONE_CONFIG_S3_SECRET_ACCESS_KEY\n",
      "2021/10/12 19:33:32 DEBUG : Setting endpoint=\"http://localhost:8090\" for \"s3\" from environment variable RCLONE_CONFIG_S3_ENDPOINT\n",
      "2021/10/12 19:33:32 DEBUG : fs cache: renaming cache item \"s3:triton-models/mnist-model\" to be canonical \"s3{mWOB1}:triton-models/mnist-model\"\n",
      "2021/10/12 19:33:32 DEBUG : S3 bucket triton-models path mnist-model: Waiting for checks to finish\n",
      "2021/10/12 19:33:32 DEBUG : mnist/config.pbtxt: Size and modification time the same (differ by 0s, within tolerance 1ns)\n",
      "2021/10/12 19:33:32 DEBUG : mnist/config.pbtxt: Unchanged skipping\n",
      "2021/10/12 19:33:32 DEBUG : mnist/1/model.savedmodel/variables/variables.data-00000-of-00001: Size and modification time the same (differ by 0s, within tolerance 1ns)\n",
      "2021/10/12 19:33:32 DEBUG : mnist/1/model.savedmodel/variables/variables.data-00000-of-00001: Unchanged skipping\n",
      "2021/10/12 19:33:32 DEBUG : mnist/1/model.savedmodel/saved_model.pb: Size and modification time the same (differ by 0s, within tolerance 1ns)\n",
      "2021/10/12 19:33:32 DEBUG : mnist/1/model.savedmodel/saved_model.pb: Unchanged skipping\n",
      "2021/10/12 19:33:32 DEBUG : mnist/1/model.savedmodel/keras_metadata.pb: Size and modification time the same (differ by 0s, within tolerance 1ns)\n",
      "2021/10/12 19:33:32 DEBUG : mnist/1/model.savedmodel/keras_metadata.pb: Unchanged skipping\n",
      "2021/10/12 19:33:32 DEBUG : mnist/1/model.savedmodel/variables/variables.index: Size and modification time the same (differ by 0s, within tolerance 1ns)\n",
      "2021/10/12 19:33:32 DEBUG : mnist/1/model.savedmodel/variables/variables.index: Unchanged skipping\n",
      "2021/10/12 19:33:32 DEBUG : S3 bucket triton-models path mnist-model: Waiting for transfers to finish\n",
      "2021/10/12 19:33:32 INFO  : There was nothing to transfer\n",
      "2021/10/12 19:33:32 INFO  : \n",
      "Transferred:   \t          0 / 0 Byte, -, 0 Byte/s, ETA -\n",
      "Checks:                 5 / 5, 100%\n",
      "Elapsed time:         0.2s\n",
      "\n",
      "2021/10/12 19:33:32 DEBUG : 12 go routines active\n"
     ]
    }
   ],
   "source": [
    "%%bash\n",
    "\n",
    "export RCLONE_CONFIG_S3_TYPE=s3\n",
    "export RCLONE_CONFIG_S3_PROVIDER=minio\n",
    "export RCLONE_CONFIG_S3_ENV_AUTH=\"false\"\n",
    "export RCLONE_CONFIG_S3_ACCESS_KEY_ID=\"admin@seldon.io\"\n",
    "export RCLONE_CONFIG_S3_SECRET_ACCESS_KEY=\"12341234\"\n",
    "export RCLONE_CONFIG_S3_ENDPOINT=\"http://localhost:8090\"\n",
    "            \n",
    "rclone copy -vvv models_repository s3:triton-models/mnist-model"
   ]
  },
  {
   "cell_type": "code",
   "execution_count": 136,
   "id": "701be6e7-a6d5-4320-afda-bfce473418b1",
   "metadata": {},
   "outputs": [
    {
     "name": "stdout",
     "output_type": "stream",
     "text": [
      "Overwriting rclone.conf\n"
     ]
    }
   ],
   "source": [
    "%%writefile rclone.conf\n",
    "[s3]\n",
    "type = s3\n",
    "provider = Minio\n",
    "env_auth = false\n",
    "access_key_id = admin@seldon.io\n",
    "secret_access_key = 12341234\n",
    "endpoint = http://localhost:8090"
   ]
  },
  {
   "cell_type": "code",
   "execution_count": 1,
   "id": "1f453e1d-3663-40bc-9959-0da7944d5f7b",
   "metadata": {},
   "outputs": [
    {
     "name": "stdout",
     "output_type": "stream",
     "text": [
      "2021/10/13 11:24:29 DEBUG : rclone: Version \"v1.56.2\" starting with parameters [\"/home/rskolasinski/.asdf/installs/rclone/1.56.2/bin/rclone\" \"-vvv\" \"--config=rclone.conf\" \"copy\" \"models_repository\" \"s3://triton-models/mnist-model\"]\n",
      "2021/10/13 11:24:29 DEBUG : Creating backend with remote \"models_repository\"\n",
      "2021/10/13 11:24:29 DEBUG : Using config file from \"/home/rskolasinski/work/seldon-core/examples/mnist_triton_e2e/rclone.conf\"\n",
      "2021/10/13 11:24:29 DEBUG : fs cache: renaming cache item \"models_repository\" to be canonical \"/home/rskolasinski/work/seldon-core/examples/mnist_triton_e2e/models_repository\"\n",
      "2021/10/13 11:24:29 DEBUG : Creating backend with remote \"s3://triton-models/mnist-model\"\n",
      "2021/10/13 11:24:29 DEBUG : fs cache: renaming cache item \"s3://triton-models/mnist-model\" to be canonical \"s3:triton-models/mnist-model\"\n",
      "2021/10/13 11:24:29 DEBUG : mnist/config.pbtxt: Size and modification time the same (differ by 0s, within tolerance 1ns)\n",
      "2021/10/13 11:24:29 DEBUG : mnist/config.pbtxt: Unchanged skipping\n",
      "2021/10/13 11:24:29 DEBUG : S3 bucket triton-models path mnist-model: Waiting for checks to finish\n",
      "2021/10/13 11:24:29 DEBUG : mnist/1/model.savedmodel/variables/variables.index: Size and modification time the same (differ by 0s, within tolerance 1ns)\n",
      "2021/10/13 11:24:29 DEBUG : mnist/1/model.savedmodel/variables/variables.index: Unchanged skipping\n",
      "2021/10/13 11:24:29 DEBUG : mnist/1/model.savedmodel/variables/variables.data-00000-of-00001: Size and modification time the same (differ by 0s, within tolerance 1ns)\n",
      "2021/10/13 11:24:29 DEBUG : mnist/1/model.savedmodel/variables/variables.data-00000-of-00001: Unchanged skipping\n",
      "2021/10/13 11:24:29 DEBUG : mnist/1/model.savedmodel/keras_metadata.pb: Size and modification time the same (differ by 0s, within tolerance 1ns)\n",
      "2021/10/13 11:24:29 DEBUG : mnist/1/model.savedmodel/keras_metadata.pb: Unchanged skipping\n",
      "2021/10/13 11:24:29 DEBUG : mnist/1/model.savedmodel/saved_model.pb: Size and modification time the same (differ by 0s, within tolerance 1ns)\n",
      "2021/10/13 11:24:29 DEBUG : mnist/1/model.savedmodel/saved_model.pb: Unchanged skipping\n",
      "2021/10/13 11:24:29 DEBUG : S3 bucket triton-models path mnist-model: Waiting for transfers to finish\n",
      "2021/10/13 11:24:29 INFO  : There was nothing to transfer\n",
      "2021/10/13 11:24:29 INFO  : \n",
      "Transferred:   \t          0 / 0 Byte, -, 0 Byte/s, ETA -\n",
      "Checks:                 5 / 5, 100%\n",
      "Elapsed time:         0.2s\n",
      "\n",
      "2021/10/13 11:24:29 DEBUG : 10 go routines active\n"
     ]
    }
   ],
   "source": [
    "!rclone -vvv --config=\"rclone.conf\" copy models_repository s3://triton-models/mnist-model"
   ]
  },
  {
   "cell_type": "code",
   "execution_count": 139,
   "id": "9b74db2d-29d9-492e-b9bd-8574c3b6c7f8",
   "metadata": {},
   "outputs": [
    {
     "name": "stdout",
     "output_type": "stream",
     "text": [
      "    15048 triton-models/mnist-model/mnist/1/model.savedmodel/keras_metadata.pb\n",
      "   157755 triton-models/mnist-model/mnist/1/model.savedmodel/saved_model.pb\n",
      "  7216711 triton-models/mnist-model/mnist/1/model.savedmodel/variables/variables.data-00000-of-00001\n",
      "     2303 triton-models/mnist-model/mnist/1/model.savedmodel/variables/variables.index\n",
      "      321 triton-models/mnist-model/mnist/config.pbtxt\n"
     ]
    }
   ],
   "source": [
    "!rclone --config=\"rclone.conf\" ls s3:"
   ]
  },
  {
   "cell_type": "markdown",
   "id": "520145df-c2e4-4eeb-8829-0e283f91d762",
   "metadata": {},
   "source": [
    "# Deploy and Test model"
   ]
  },
  {
   "cell_type": "markdown",
   "id": "8c398092-1104-4d2b-9472-ded947ae2257",
   "metadata": {},
   "source": [
    "## Deploy"
   ]
  },
  {
   "cell_type": "code",
   "execution_count": 86,
   "id": "16ba561e-c253-496e-aab6-739fe4f23dc4",
   "metadata": {},
   "outputs": [
    {
     "name": "stdout",
     "output_type": "stream",
     "text": [
      "Overwriting deployment.yaml\n"
     ]
    }
   ],
   "source": [
    "%%writefile deployment.yaml\n",
    "apiVersion: machinelearning.seldon.io/v1\n",
    "kind: SeldonDeployment\n",
    "metadata:\n",
    "  name: mnist\n",
    "  namespace: seldon\n",
    "spec:\n",
    "  name: default\n",
    "  predictors:\n",
    "  - graph:\n",
    "      implementation: TRITON_SERVER\n",
    "      logger:\n",
    "        mode: all\n",
    "      modelUri: s3:triton-models/mnist-model\n",
    "      envSecretRefName: seldon-rclone-secret\n",
    "      name: mnist\n",
    "      type: MODEL\n",
    "    name: default\n",
    "    replicas: 1\n",
    "  protocol: kfserving"
   ]
  },
  {
   "cell_type": "code",
   "execution_count": 87,
   "id": "64172b46-1e59-417f-a4fd-3954440d073f",
   "metadata": {},
   "outputs": [
    {
     "name": "stdout",
     "output_type": "stream",
     "text": [
      "seldondeployment.machinelearning.seldon.io/mnist created\n"
     ]
    }
   ],
   "source": [
    "!kubectl apply -f deployment.yaml"
   ]
  },
  {
   "cell_type": "code",
   "execution_count": 88,
   "id": "0b872742-44c4-43fa-ac50-8e4d189bd9ee",
   "metadata": {},
   "outputs": [
    {
     "name": "stdout",
     "output_type": "stream",
     "text": [
      "Waiting for deployment \"mnist-default-0-mnist\" rollout to finish: 0 of 1 updated replicas are available...\n",
      "deployment \"mnist-default-0-mnist\" successfully rolled out\n"
     ]
    }
   ],
   "source": [
    "!kubectl rollout status deploy/$(kubectl get deploy -l seldon-deployment-id=mnist -o jsonpath='{.items[0].metadata.name}')"
   ]
  },
  {
   "cell_type": "markdown",
   "id": "f10684cb-ff19-4268-aef6-cb8c9c63cac6",
   "metadata": {},
   "source": [
    "## Test"
   ]
  },
  {
   "cell_type": "code",
   "execution_count": 93,
   "id": "0341ac0e-837a-421c-9da1-4e58c5864674",
   "metadata": {},
   "outputs": [
    {
     "name": "stdout",
     "output_type": "stream",
     "text": [
      "\u001b[1;39m{\n",
      "  \u001b[0m\u001b[34;1m\"name\"\u001b[0m\u001b[1;39m: \u001b[0m\u001b[0;32m\"mnist\"\u001b[0m\u001b[1;39m,\n",
      "  \u001b[0m\u001b[34;1m\"versions\"\u001b[0m\u001b[1;39m: \u001b[0m\u001b[1;39m[\n",
      "    \u001b[0;32m\"1\"\u001b[0m\u001b[1;39m\n",
      "  \u001b[1;39m]\u001b[0m\u001b[1;39m,\n",
      "  \u001b[0m\u001b[34;1m\"platform\"\u001b[0m\u001b[1;39m: \u001b[0m\u001b[0;32m\"tensorflow_savedmodel\"\u001b[0m\u001b[1;39m,\n",
      "  \u001b[0m\u001b[34;1m\"inputs\"\u001b[0m\u001b[1;39m: \u001b[0m\u001b[1;39m[\n",
      "    \u001b[1;39m{\n",
      "      \u001b[0m\u001b[34;1m\"name\"\u001b[0m\u001b[1;39m: \u001b[0m\u001b[0;32m\"conv2d_input\"\u001b[0m\u001b[1;39m,\n",
      "      \u001b[0m\u001b[34;1m\"datatype\"\u001b[0m\u001b[1;39m: \u001b[0m\u001b[0;32m\"FP32\"\u001b[0m\u001b[1;39m,\n",
      "      \u001b[0m\u001b[34;1m\"shape\"\u001b[0m\u001b[1;39m: \u001b[0m\u001b[1;39m[\n",
      "        \u001b[0;39m-1\u001b[0m\u001b[1;39m,\n",
      "        \u001b[0;39m28\u001b[0m\u001b[1;39m,\n",
      "        \u001b[0;39m28\u001b[0m\u001b[1;39m,\n",
      "        \u001b[0;39m1\u001b[0m\u001b[1;39m\n",
      "      \u001b[1;39m]\u001b[0m\u001b[1;39m\n",
      "    \u001b[1;39m}\u001b[0m\u001b[1;39m\n",
      "  \u001b[1;39m]\u001b[0m\u001b[1;39m,\n",
      "  \u001b[0m\u001b[34;1m\"outputs\"\u001b[0m\u001b[1;39m: \u001b[0m\u001b[1;39m[\n",
      "    \u001b[1;39m{\n",
      "      \u001b[0m\u001b[34;1m\"name\"\u001b[0m\u001b[1;39m: \u001b[0m\u001b[0;32m\"dense_1\"\u001b[0m\u001b[1;39m,\n",
      "      \u001b[0m\u001b[34;1m\"datatype\"\u001b[0m\u001b[1;39m: \u001b[0m\u001b[0;32m\"FP32\"\u001b[0m\u001b[1;39m,\n",
      "      \u001b[0m\u001b[34;1m\"shape\"\u001b[0m\u001b[1;39m: \u001b[0m\u001b[1;39m[\n",
      "        \u001b[0;39m-1\u001b[0m\u001b[1;39m,\n",
      "        \u001b[0;39m10\u001b[0m\u001b[1;39m\n",
      "      \u001b[1;39m]\u001b[0m\u001b[1;39m\n",
      "    \u001b[1;39m}\u001b[0m\u001b[1;39m\n",
      "  \u001b[1;39m]\u001b[0m\u001b[1;39m\n",
      "\u001b[1;39m}\u001b[0m\n"
     ]
    }
   ],
   "source": [
    "!curl -s http://localhost:8003/seldon/seldon/mnist/v2/models/mnist | jq ."
   ]
  },
  {
   "cell_type": "code",
   "execution_count": 94,
   "id": "5d0e9445-f359-4d1b-8caf-c16540d4fd02",
   "metadata": {},
   "outputs": [],
   "source": [
    "import numpy as np\n",
    "import requests"
   ]
  },
  {
   "cell_type": "code",
   "execution_count": 95,
   "id": "215337e6-ae6c-40d9-aff3-354eb16a7b77",
   "metadata": {},
   "outputs": [],
   "source": [
    "URL = \"http://localhost:8003/seldon/seldon/mnist\"\n",
    "\n",
    "data = {\n",
    "    \"inputs\": [\n",
    "        {\n",
    "            \"name\": \"conv2d_input\",\n",
    "            \"data\": np.random.rand(10, 28, 28, 1).tolist(),\n",
    "            \"datatype\": \"FP32\",\n",
    "            \"shape\": [10, 28, 28, 1],\n",
    "        }\n",
    "    ]\n",
    "}\n",
    "\n",
    "r = requests.post(f\"{URL}/v2/models/mnist/infer\", json=data)\n",
    "predictions = np.array(r.json()[\"outputs\"][0][\"data\"]).reshape(\n",
    "    r.json()[\"outputs\"][0][\"shape\"]\n",
    ")\n",
    "output = [np.argmax(x) for x in predictions]"
   ]
  },
  {
   "cell_type": "code",
   "execution_count": 96,
   "id": "aeb03076-9545-4720-8c89-26e3df32101f",
   "metadata": {},
   "outputs": [
    {
     "data": {
      "text/plain": [
       "[8, 8, 8, 8, 8, 9, 8, 8, 8, 8]"
      ]
     },
     "execution_count": 96,
     "metadata": {},
     "output_type": "execute_result"
    }
   ],
   "source": [
    "output"
   ]
  }
 ],
 "metadata": {
  "kernelspec": {
   "display_name": "Python 3 (ipykernel)",
   "language": "python",
   "name": "python3"
  },
  "language_info": {
   "codemirror_mode": {
    "name": "ipython",
    "version": 3
   },
   "file_extension": ".py",
   "mimetype": "text/x-python",
   "name": "python",
   "nbconvert_exporter": "python",
   "pygments_lexer": "ipython3",
   "version": "3.8.11"
  }
 },
 "nbformat": 4,
 "nbformat_minor": 5
}
