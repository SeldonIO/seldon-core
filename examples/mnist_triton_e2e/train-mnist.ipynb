{
 "cells": [
  {
   "cell_type": "markdown",
   "metadata": {},
   "source": [
    "# Simple Keras tutorial\n",
    "\n",
    "Inspired by [elitedatascience.com](https://elitedatascience.com/keras-tutorial-deep-learning-in-python)"
   ]
  },
  {
   "cell_type": "code",
   "execution_count": 1,
   "metadata": {},
   "outputs": [],
   "source": [
    "import os\n",
    "\n",
    "os.environ[\"TF_CPP_MIN_LOG_LEVEL\"] = \"3\"\n",
    "os.environ[\"CUDA_VISIBLE_DEVICES\"] = \"\""
   ]
  },
  {
   "cell_type": "markdown",
   "metadata": {},
   "source": [
    "# Imports"
   ]
  },
  {
   "cell_type": "code",
   "execution_count": 2,
   "metadata": {},
   "outputs": [],
   "source": [
    "import numpy as np\n",
    "\n",
    "np.random.seed(123)  # for reproducibility"
   ]
  },
  {
   "cell_type": "code",
   "execution_count": 3,
   "metadata": {},
   "outputs": [],
   "source": [
    "from tensorflow.keras.layers import (Activation, Convolution2D, Dense, Dropout,\n",
    "                                     Flatten, MaxPooling2D)\n",
    "from tensorflow.keras.models import Sequential\n",
    "from tensorflow.keras.utils import to_categorical"
   ]
  },
  {
   "cell_type": "code",
   "execution_count": 4,
   "metadata": {},
   "outputs": [],
   "source": [
    "from matplotlib import pyplot as plt\n",
    "\n",
    "%matplotlib inline"
   ]
  },
  {
   "cell_type": "markdown",
   "metadata": {},
   "source": [
    "# Obtain mnist data"
   ]
  },
  {
   "cell_type": "code",
   "execution_count": 5,
   "metadata": {},
   "outputs": [],
   "source": [
    "from tensorflow.keras.datasets import mnist\n",
    "\n",
    "# Load pre-shuffled MNIST data into train and test sets\n",
    "(X_train, y_train), (X_test, y_test) = mnist.load_data()"
   ]
  },
  {
   "cell_type": "code",
   "execution_count": 6,
   "metadata": {},
   "outputs": [
    {
     "data": {
      "text/plain": [
       "((60000, 28, 28), (60000,), (10000, 28, 28), (10000,))"
      ]
     },
     "execution_count": 6,
     "metadata": {},
     "output_type": "execute_result"
    }
   ],
   "source": [
    "X_train.shape, y_train.shape, X_test.shape, y_test.shape"
   ]
  },
  {
   "cell_type": "code",
   "execution_count": 7,
   "metadata": {},
   "outputs": [
    {
     "data": {
      "image/png": "[encoded data removed]",
      "text/plain": [
       "<Figure size 432x288 with 1 Axes>"
      ]
     },
     "metadata": {
      "needs_background": "light"
     },
     "output_type": "display_data"
    }
   ],
   "source": [
    "plt.imshow(X_train[0], cmap=\"binary\")\n",
    "plt.title((y_train[0]))\n",
    "plt.show();"
   ]
  },
  {
   "cell_type": "markdown",
   "metadata": {},
   "source": [
    "# Reshape data (for tensorflow)"
   ]
  },
  {
   "cell_type": "code",
   "execution_count": 8,
   "metadata": {},
   "outputs": [],
   "source": [
    "X_train = X_train.reshape(-1, 28, 28, 1)\n",
    "X_test = X_test.reshape(-1, 28, 28, 1)\n",
    "\n",
    "X_train = X_train.astype(\"float32\")\n",
    "X_test = X_test.astype(\"float32\")\n",
    "X_train /= 255\n",
    "X_test /= 255"
   ]
  },
  {
   "cell_type": "code",
   "execution_count": 9,
   "metadata": {},
   "outputs": [
    {
     "data": {
      "text/plain": [
       "((60000, 28, 28, 1), (60000,), (10000, 28, 28, 1), (10000,))"
      ]
     },
     "execution_count": 9,
     "metadata": {},
     "output_type": "execute_result"
    }
   ],
   "source": [
    "X_train.shape, y_train.shape, X_test.shape, y_test.shape"
   ]
  },
  {
   "cell_type": "markdown",
   "metadata": {},
   "source": [
    "# Preprocess class labels for Keras"
   ]
  },
  {
   "cell_type": "code",
   "execution_count": 10,
   "metadata": {},
   "outputs": [],
   "source": [
    "# Convert 1-dimensional class arrays to 10-dimensional class matrices\n",
    "Y_train = to_categorical(y_train, 10)\n",
    "Y_test = to_categorical(y_test, 10)"
   ]
  },
  {
   "cell_type": "code",
   "execution_count": 11,
   "metadata": {},
   "outputs": [
    {
     "data": {
      "text/plain": [
       "((60000, 10), (10000, 10))"
      ]
     },
     "execution_count": 11,
     "metadata": {},
     "output_type": "execute_result"
    }
   ],
   "source": [
    "Y_train.shape, Y_test.shape"
   ]
  },
  {
   "cell_type": "markdown",
   "metadata": {},
   "source": [
    "# Define model architecture"
   ]
  },
  {
   "cell_type": "code",
   "execution_count": 12,
   "metadata": {},
   "outputs": [],
   "source": [
    "# define model\n",
    "model = Sequential()\n",
    "\n",
    "# declare input layer\n",
    "model.add(Convolution2D(32, (3, 3), activation=\"relu\", input_shape=(28, 28, 1)))\n",
    "\n",
    "# add more layers\n",
    "model.add(Convolution2D(32, (3, 3), activation=\"relu\"))\n",
    "model.add(MaxPooling2D(pool_size=(2, 2)))\n",
    "model.add(Dropout(0.25))\n",
    "\n",
    "# and even more layers\n",
    "model.add(Flatten())\n",
    "model.add(Dense(128, activation=\"relu\"))\n",
    "model.add(Dropout(0.5))\n",
    "model.add(Dense(10, activation=\"softmax\"))"
   ]
  },
  {
   "cell_type": "code",
   "execution_count": 13,
   "metadata": {},
   "outputs": [
    {
     "name": "stdout",
     "output_type": "stream",
     "text": [
      "Model: \"sequential\"\n",
      "_________________________________________________________________\n",
      "Layer (type)                 Output Shape              Param #   \n",
      "=================================================================\n",
      "conv2d (Conv2D)              (None, 26, 26, 32)        320       \n",
      "_________________________________________________________________\n",
      "conv2d_1 (Conv2D)            (None, 24, 24, 32)        9248      \n",
      "_________________________________________________________________\n",
      "max_pooling2d (MaxPooling2D) (None, 12, 12, 32)        0         \n",
      "_________________________________________________________________\n",
      "dropout (Dropout)            (None, 12, 12, 32)        0         \n",
      "_________________________________________________________________\n",
      "flatten (Flatten)            (None, 4608)              0         \n",
      "_________________________________________________________________\n",
      "dense (Dense)                (None, 128)               589952    \n",
      "_________________________________________________________________\n",
      "dropout_1 (Dropout)          (None, 128)               0         \n",
      "_________________________________________________________________\n",
      "dense_1 (Dense)              (None, 10)                1290      \n",
      "=================================================================\n",
      "Total params: 600,810\n",
      "Trainable params: 600,810\n",
      "Non-trainable params: 0\n",
      "_________________________________________________________________\n"
     ]
    }
   ],
   "source": [
    "model.summary()"
   ]
  },
  {
   "cell_type": "markdown",
   "metadata": {},
   "source": [
    "# Compile model"
   ]
  },
  {
   "cell_type": "code",
   "execution_count": 14,
   "metadata": {},
   "outputs": [],
   "source": [
    "model.compile(loss=\"categorical_crossentropy\", optimizer=\"adam\", metrics=[\"accuracy\"])"
   ]
  },
  {
   "cell_type": "markdown",
   "metadata": {},
   "source": [
    "# Train model"
   ]
  },
  {
   "cell_type": "code",
   "execution_count": 15,
   "metadata": {},
   "outputs": [
    {
     "name": "stdout",
     "output_type": "stream",
     "text": [
      "Epoch 1/4\n",
      "1875/1875 [==============================] - 43s 23ms/step - loss: 0.2148 - accuracy: 0.9347\n",
      "Epoch 2/4\n",
      "1875/1875 [==============================] - 43s 23ms/step - loss: 0.0867 - accuracy: 0.9741\n",
      "Epoch 3/4\n",
      "1875/1875 [==============================] - 43s 23ms/step - loss: 0.0682 - accuracy: 0.9795\n",
      "Epoch 4/4\n",
      "1875/1875 [==============================] - 42s 23ms/step - loss: 0.0563 - accuracy: 0.9821\n",
      "CPU times: user 21min 2s, sys: 37.1 s, total: 21min 39s\n",
      "Wall time: 2min 51s\n"
     ]
    },
    {
     "data": {
      "text/plain": [
       "<tensorflow.python.keras.callbacks.History at 0x7f318040cdf0>"
      ]
     },
     "execution_count": 15,
     "metadata": {},
     "output_type": "execute_result"
    }
   ],
   "source": [
    "%%time\n",
    "model.fit(X_train, Y_train, epochs=4, batch_size=32, verbose=1)"
   ]
  },
  {
   "cell_type": "code",
   "execution_count": 16,
   "metadata": {},
   "outputs": [
    {
     "name": "stdout",
     "output_type": "stream",
     "text": [
      "\n",
      "accuracy: 99.16%\n"
     ]
    }
   ],
   "source": [
    "score = model.evaluate(X_test, Y_test, verbose=0)\n",
    "print(\"\\n%s: %.2f%%\" % (model.metrics_names[1], score[1] * 100))"
   ]
  },
  {
   "cell_type": "markdown",
   "metadata": {},
   "source": [
    "# Make some predictions"
   ]
  },
  {
   "cell_type": "code",
   "execution_count": 17,
   "metadata": {},
   "outputs": [],
   "source": [
    "# calculate predictions\n",
    "predictions = model.predict(X_test[:5])\n",
    "output = [np.argmax(x) for x in predictions]"
   ]
  },
  {
   "cell_type": "code",
   "execution_count": 18,
   "metadata": {},
   "outputs": [
    {
     "data": {
      "image/png": "[encoded data removed]",
      "text/plain": [
       "<Figure size 432x288 with 1 Axes>"
      ]
     },
     "metadata": {
      "needs_background": "light"
     },
     "output_type": "display_data"
    },
    {
     "data": {
      "image/png": "[encoded data removed]",
      "text/plain": [
       "<Figure size 432x288 with 1 Axes>"
      ]
     },
     "metadata": {
      "needs_background": "light"
     },
     "output_type": "display_data"
    },
    {
     "data": {
      "image/png": "[encoded data removed]",
      "text/plain": [
       "<Figure size 432x288 with 1 Axes>"
      ]
     },
     "metadata": {
      "needs_background": "light"
     },
     "output_type": "display_data"
    },
    {
     "data": {
      "image/png": "[encoded data removed]",
      "text/plain": [
       "<Figure size 432x288 with 1 Axes>"
      ]
     },
     "metadata": {
      "needs_background": "light"
     },
     "output_type": "display_data"
    },
    {
     "data": {
      "image/png": "[encoded data removed]",
      "text/plain": [
       "<Figure size 432x288 with 1 Axes>"
      ]
     },
     "metadata": {
      "needs_background": "light"
     },
     "output_type": "display_data"
    }
   ],
   "source": [
    "for i in range(5):\n",
    "    plt.imshow(X_test[i, :, :, 0], cmap=\"binary\")\n",
    "    plt.title(\"{} - should be {}\".format(output[i], np.argmax(Y_test[i])))\n",
    "    plt.show()"
   ]
  },
  {
   "cell_type": "markdown",
   "metadata": {},
   "source": [
    "# Save model"
   ]
  },
  {
   "cell_type": "code",
   "execution_count": 19,
   "metadata": {},
   "outputs": [
    {
     "name": "stdout",
     "output_type": "stream",
     "text": [
      "INFO:tensorflow:Assets written to: models_repository/mnist/1/model.savedmodel/assets\n"
     ]
    }
   ],
   "source": [
    "model.save(\"models_repository/mnist/1/model.savedmodel\")"
   ]
  },
  {
   "cell_type": "code",
   "execution_count": 20,
   "metadata": {},
   "outputs": [
    {
     "name": "stdout",
     "output_type": "stream",
     "text": [
      "INFO:tensorflow:Assets written to: triton-models/mnist-model/mnist/1/model.savedmodel/assets\n"
     ]
    }
   ],
   "source": [
    "model.save(\"triton-models/mnist-model/mnist/1/model.savedmodel\")"
   ]
  },
  {
   "cell_type": "code",
   "execution_count": 21,
   "metadata": {},
   "outputs": [
    {
     "name": "stdout",
     "output_type": "stream",
     "text": [
      "\u001b[01;34mtriton-models/\u001b[00m\n",
      "└── \u001b[01;34mmnist-model\u001b[00m\n",
      "    └── \u001b[01;34mmnist\u001b[00m\n",
      "        └── \u001b[01;34m1\u001b[00m\n",
      "            └── \u001b[01;34mmodel.savedmodel\u001b[00m\n",
      "                ├── \u001b[01;34massets\u001b[00m\n",
      "                ├── keras_metadata.pb\n",
      "                ├── saved_model.pb\n",
      "                └── \u001b[01;34mvariables\u001b[00m\n",
      "                    ├── variables.data-00000-of-00001\n",
      "                    └── variables.index\n",
      "\n",
      "6 directories, 4 files\n"
     ]
    }
   ],
   "source": [
    "!tree triton-models/"
   ]
  },
  {
   "cell_type": "code",
   "execution_count": 22,
   "metadata": {},
   "outputs": [],
   "source": [
    "import mlflow"
   ]
  },
  {
   "cell_type": "code",
   "execution_count": 23,
   "metadata": {},
   "outputs": [],
   "source": [
    "!rm mlflow_models/ triton-mlflow/ -rf"
   ]
  },
  {
   "cell_type": "markdown",
   "metadata": {},
   "source": [
    "## mlflow save model"
   ]
  },
  {
   "cell_type": "code",
   "execution_count": 24,
   "metadata": {},
   "outputs": [
    {
     "name": "stdout",
     "output_type": "stream",
     "text": [
      "INFO:tensorflow:Assets written to: /home/rskolasinski/work/seldon-core/examples/mnist_triton_e2e/mlflow_models/mnist/data/model/assets\n"
     ]
    }
   ],
   "source": [
    "mlflow.keras.save_model(model, \"mlflow_models/mnist\", save_format=\"tf\")"
   ]
  },
  {
   "cell_type": "code",
   "execution_count": 43,
   "metadata": {},
   "outputs": [],
   "source": [
    "!mkdir -p triton-mlflow/mnist-save-model/mnist/1/model.savedmodel/\n",
    "!cp -r mlflow_models/mnist/data/model/* triton-mlflow/mnist-save-model/mnist/1/model.savedmodel/"
   ]
  },
  {
   "cell_type": "code",
   "execution_count": 44,
   "metadata": {},
   "outputs": [
    {
     "name": "stdout",
     "output_type": "stream",
     "text": [
      "\u001b[01;34mmlflow_models/\u001b[00m\n",
      "└── \u001b[01;34mmnist\u001b[00m\n",
      "    ├── conda.yaml\n",
      "    ├── \u001b[01;34mdata\u001b[00m\n",
      "    │   ├── keras_module.txt\n",
      "    │   ├── \u001b[01;34mmodel\u001b[00m\n",
      "    │   │   ├── \u001b[01;34massets\u001b[00m\n",
      "    │   │   ├── keras_metadata.pb\n",
      "    │   │   ├── saved_model.pb\n",
      "    │   │   └── \u001b[01;34mvariables\u001b[00m\n",
      "    │   │       ├── variables.data-00000-of-00001\n",
      "    │   │       └── variables.index\n",
      "    │   └── save_format.txt\n",
      "    ├── MLmodel\n",
      "    └── requirements.txt\n",
      "\n",
      "5 directories, 9 files\n"
     ]
    }
   ],
   "source": [
    "!tree mlflow_models/"
   ]
  },
  {
   "cell_type": "code",
   "execution_count": 45,
   "metadata": {},
   "outputs": [
    {
     "name": "stdout",
     "output_type": "stream",
     "text": [
      "\u001b[01;34mtriton-mlflow/\u001b[00m\n",
      "├── \u001b[01;34mmnist-log-model\u001b[00m\n",
      "│   ├── config.pbtxt\n",
      "│   └── \u001b[01;34mmnist\u001b[00m\n",
      "│       ├── \u001b[01;34m1\u001b[00m\n",
      "│       │   └── \u001b[01;34mmodel.savedmodel\u001b[00m\n",
      "│       │       ├── \u001b[01;34massets\u001b[00m\n",
      "│       │       ├── keras_metadata.pb\n",
      "│       │       ├── \u001b[01;34mmodel\u001b[00m\n",
      "│       │       │   ├── \u001b[01;34massets\u001b[00m\n",
      "│       │       │   ├── keras_metadata.pb\n",
      "│       │       │   ├── saved_model.pb\n",
      "│       │       │   └── \u001b[01;34mvariables\u001b[00m\n",
      "│       │       │       ├── variables.data-00000-of-00001\n",
      "│       │       │       └── variables.index\n",
      "│       │       ├── saved_model.pb\n",
      "│       │       └── \u001b[01;34mvariables\u001b[00m\n",
      "│       │           ├── variables.data-00000-of-00001\n",
      "│       │           └── variables.index\n",
      "│       └── config.pbtxt\n",
      "└── \u001b[01;34mmnist-save-model\u001b[00m\n",
      "    ├── config.pbtxt\n",
      "    └── \u001b[01;34mmnist\u001b[00m\n",
      "        ├── \u001b[01;34m1\u001b[00m\n",
      "        │   └── \u001b[01;34mmodel.savedmodel\u001b[00m\n",
      "        │       ├── \u001b[01;34massets\u001b[00m\n",
      "        │       ├── keras_metadata.pb\n",
      "        │       ├── \u001b[01;34mmodel\u001b[00m\n",
      "        │       │   ├── \u001b[01;34massets\u001b[00m\n",
      "        │       │   ├── keras_metadata.pb\n",
      "        │       │   ├── saved_model.pb\n",
      "        │       │   └── \u001b[01;34mvariables\u001b[00m\n",
      "        │       │       ├── variables.data-00000-of-00001\n",
      "        │       │       └── variables.index\n",
      "        │       ├── saved_model.pb\n",
      "        │       └── \u001b[01;34mvariables\u001b[00m\n",
      "        │           ├── variables.data-00000-of-00001\n",
      "        │           └── variables.index\n",
      "        └── config.pbtxt\n",
      "\n",
      "18 directories, 20 files\n"
     ]
    }
   ],
   "source": [
    "!tree triton-mlflow/"
   ]
  },
  {
   "cell_type": "markdown",
   "metadata": {},
   "source": [
    "## mlflow log model"
   ]
  },
  {
   "cell_type": "code",
   "execution_count": 46,
   "metadata": {},
   "outputs": [
    {
     "name": "stdout",
     "output_type": "stream",
     "text": [
      "INFO:tensorflow:Assets written to: /tmp/tmpz0i5v5gj/model/data/model/assets\n"
     ]
    }
   ],
   "source": [
    "mlflow.keras.log_model(model, \"mnist\", save_format=\"tf\")"
   ]
  },
  {
   "cell_type": "code",
   "execution_count": 47,
   "metadata": {},
   "outputs": [
    {
     "name": "stdout",
     "output_type": "stream",
     "text": [
      "\u001b[01;34mmlruns\u001b[00m\n",
      "└── \u001b[01;34m0\u001b[00m\n",
      "    ├── \u001b[01;34m5b26c1bcda4a4042915e51de6c2cb027\u001b[00m\n",
      "    │   ├── \u001b[01;34martifacts\u001b[00m\n",
      "    │   │   └── \u001b[01;34mmnist\u001b[00m\n",
      "    │   │       ├── conda.yaml\n",
      "    │   │       ├── \u001b[01;34mdata\u001b[00m\n",
      "    │   │       │   ├── keras_module.txt\n",
      "    │   │       │   ├── \u001b[01;34mmodel\u001b[00m\n",
      "    │   │       │   │   ├── \u001b[01;34massets\u001b[00m\n",
      "    │   │       │   │   ├── keras_metadata.pb\n",
      "    │   │       │   │   ├── saved_model.pb\n",
      "    │   │       │   │   └── \u001b[01;34mvariables\u001b[00m\n",
      "    │   │       │   │       ├── variables.data-00000-of-00001\n",
      "    │   │       │   │       └── variables.index\n",
      "    │   │       │   └── save_format.txt\n",
      "    │   │       ├── MLmodel\n",
      "    │   │       └── requirements.txt\n",
      "    │   ├── meta.yaml\n",
      "    │   ├── \u001b[01;34mmetrics\u001b[00m\n",
      "    │   ├── \u001b[01;34mparams\u001b[00m\n",
      "    │   └── \u001b[01;34mtags\u001b[00m\n",
      "    │       ├── mlflow.log-model.history\n",
      "    │       ├── mlflow.source.name\n",
      "    │       ├── mlflow.source.type\n",
      "    │       └── mlflow.user\n",
      "    └── meta.yaml\n",
      "\n",
      "11 directories, 15 files\n"
     ]
    }
   ],
   "source": [
    "!tree mlruns"
   ]
  },
  {
   "cell_type": "code",
   "execution_count": 2,
   "metadata": {},
   "outputs": [],
   "source": [
    "!mkdir -p triton-mlflow/mnist-log-model/mnist/1/model.savedmodel/\n",
    "!cp -r mlruns/0/5b26c1bcda4a4042915e51de6c2cb027/artifacts/mnist/data/model/* triton-mlflow/mnist-log-model/mnist/1/model.savedmodel/"
   ]
  },
  {
   "cell_type": "code",
   "execution_count": 4,
   "metadata": {},
   "outputs": [
    {
     "name": "stdout",
     "output_type": "stream",
     "text": [
      "\u001b[01;34mtriton-mlflow/\u001b[00m\n",
      "├── \u001b[01;34mmnist-log-model\u001b[00m\n",
      "│   └── \u001b[01;34mmnist\u001b[00m\n",
      "│       ├── \u001b[01;34m1\u001b[00m\n",
      "│       │   └── \u001b[01;34mmodel.savedmodel\u001b[00m\n",
      "│       │       ├── \u001b[01;34massets\u001b[00m\n",
      "│       │       ├── keras_metadata.pb\n",
      "│       │       ├── saved_model.pb\n",
      "│       │       └── \u001b[01;34mvariables\u001b[00m\n",
      "│       │           ├── variables.data-00000-of-00001\n",
      "│       │           └── variables.index\n",
      "│       └── config.pbtxt\n",
      "└── \u001b[01;34mmnist-save-model\u001b[00m\n",
      "    └── \u001b[01;34mmnist\u001b[00m\n",
      "        ├── \u001b[01;34m1\u001b[00m\n",
      "        │   └── \u001b[01;34mmodel.savedmodel\u001b[00m\n",
      "        │       ├── \u001b[01;34massets\u001b[00m\n",
      "        │       ├── keras_metadata.pb\n",
      "        │       ├── \u001b[01;34mmodel\u001b[00m\n",
      "        │       │   ├── \u001b[01;34massets\u001b[00m\n",
      "        │       │   ├── keras_metadata.pb\n",
      "        │       │   ├── saved_model.pb\n",
      "        │       │   └── \u001b[01;34mvariables\u001b[00m\n",
      "        │       │       ├── variables.data-00000-of-00001\n",
      "        │       │       └── variables.index\n",
      "        │       ├── saved_model.pb\n",
      "        │       └── \u001b[01;34mvariables\u001b[00m\n",
      "        │           ├── variables.data-00000-of-00001\n",
      "        │           └── variables.index\n",
      "        └── config.pbtxt\n",
      "\n",
      "15 directories, 14 files\n"
     ]
    }
   ],
   "source": [
    "!tree triton-mlflow/"
   ]
  }
 ],
 "metadata": {
  "kernelspec": {
   "display_name": "ml-env",
   "language": "python",
   "name": "ml-env"
  },
  "language_info": {
   "codemirror_mode": {
    "name": "ipython",
    "version": 3
   },
   "file_extension": ".py",
   "mimetype": "text/x-python",
   "name": "python",
   "nbconvert_exporter": "python",
   "pygments_lexer": "ipython3",
   "version": "3.8.11"
  }
 },
 "nbformat": 4,
 "nbformat_minor": 4
}
