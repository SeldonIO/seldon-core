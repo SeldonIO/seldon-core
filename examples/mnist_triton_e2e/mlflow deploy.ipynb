{
 "cells": [
  {
   "cell_type": "markdown",
   "id": "7ffc7b6b-cec0-433f-b7dc-735f328fccb0",
   "metadata": {},
   "source": [
    "# Deploy Mnist model with Triton\n",
    "\n",
    "## Prerequisites\n",
    "\n",
    " * A kubernetes cluster with kubectl configured\n",
    "%%writefile rclone.conf\n",
    "[s3]\n",
    "type = s3\n",
    "provider = minio\n",
    "env_auth = false\n",
    "access_key_id = minioadmin\n",
    "secret_access_key = minioadmin\n",
    "endpoint = http://localhost:8090 * rclone\n",
    " * curl\n",
    "\n",
    "## Setup Seldon Core\n",
    "\n",
    "Use the setup notebook to [Setup Cluster](https://docs.seldon.io/projects/seldon-core/en/latest/examples/seldon_core_setup.html#Setup-Cluster) with [Ambassador Ingress](https://docs.seldon.io/projects/seldon-core/en/latest/examples/seldon_core_setup.html#Ambassador) and [Install Seldon Core](https://docs.seldon.io/projects/seldon-core/en/latest/examples/seldon_core_setup.html#Install-Seldon-Core). Instructions [also online](https://docs.seldon.io/projects/seldon-core/en/latest/examples/seldon_core_setup.html).\n",
    "\n",
    "We will assume that ambassador (or Istio) ingress is port-forwarded to `localhost:8003`\n",
    "\n",
    "## Setup MinIO\n",
    "\n",
    "Use the provided [notebook](https://docs.seldon.io/projects/seldon-core/en/latest/examples/minio_setup.html) to install Minio in your cluster.\n",
    "Instructions [also online](https://docs.seldon.io/projects/seldon-core/en/latest/examples/minio_setup.html).\n",
    "\n",
    "We will assume that MinIO service is port-forwarded to `localhost:8090`"
   ]
  },
  {
   "cell_type": "code",
   "execution_count": 84,
   "id": "b15fbfa1-ecf5-4b1e-b1f4-560fdbe641d7",
   "metadata": {},
   "outputs": [
    {
     "name": "stdout",
     "output_type": "stream",
     "text": [
      "Overwriting rclone.conf\n"
     ]
    }
   ],
   "source": [
    "%%writefile rclone.conf\n",
    "[s3]\n",
    "type = s3\n",
    "provider = minio\n",
    "env_auth = false\n",
    "access_key_id = admin@seldon.io\n",
    "secret_access_key = 12341234\n",
    "endpoint = http://localhost:8090"
   ]
  },
  {
   "cell_type": "code",
   "execution_count": 85,
   "id": "75b0eb17-0acd-4320-a214-d9867e689482",
   "metadata": {},
   "outputs": [
    {
     "name": "stdout",
     "output_type": "stream",
     "text": [
      "Overwriting secret.yaml\n"
     ]
    }
   ],
   "source": [
    "%%writefile secret.yaml\n",
    "apiVersion: v1\n",
    "kind: Secret\n",
    "metadata:\n",
    "  name: seldon-rclone-secret\n",
    "type: Opaque\n",
    "stringData:\n",
    "  RCLONE_CONFIG_S3_TYPE: s3\n",
    "  RCLONE_CONFIG_S3_PROVIDER: minio\n",
    "  RCLONE_CONFIG_S3_ENV_AUTH: \"false\"\n",
    "  RCLONE_CONFIG_S3_ACCESS_KEY_ID: \"admin@seldon.io\"\n",
    "  RCLONE_CONFIG_S3_SECRET_ACCESS_KEY: \"12341234\"\n",
    "  RCLONE_CONFIG_S3_ENDPOINT: http://minio.minio-system.svc.cluster.local:9000"
   ]
  },
  {
   "cell_type": "code",
   "execution_count": 86,
   "id": "3c37860f-1e37-46b9-8c5c-d76ce0c49de6",
   "metadata": {},
   "outputs": [
    {
     "name": "stdout",
     "output_type": "stream",
     "text": [
      "secret/seldon-rclone-secret configured\n"
     ]
    }
   ],
   "source": [
    "!kubectl apply -f secret.yaml"
   ]
  },
  {
   "cell_type": "markdown",
   "id": "140c715c-6bac-466f-bc2a-1a6211d76304",
   "metadata": {},
   "source": [
    "# Add Triton cofniguration"
   ]
  },
  {
   "cell_type": "code",
   "execution_count": 1,
   "id": "a065f43c-8577-4a01-8240-d4e1d9ebcb3b",
   "metadata": {},
   "outputs": [
    {
     "name": "stdout",
     "output_type": "stream",
     "text": [
      "Overwriting triton-mlflow/mnist-save-model/mnist/config.pbtxt\n"
     ]
    }
   ],
   "source": [
    "%%writefile triton-mlflow/mnist-save-model/mnist/config.pbtxt \n",
    "name: \"mnist\"\n",
    "platform: \"tensorflow_savedmodel\"\n",
    "max_batch_size: 100\n",
    "dynamic_batching { preferred_batch_size: [ 50 ]}\n",
    "instance_group [ { count: 2 }]\n",
    "input [\n",
    "  {\n",
    "    name: \"conv2d_input\"\n",
    "    data_type: TYPE_FP32\n",
    "    dims: [ 28, 28, 1 ]\n",
    "  }\n",
    "]\n",
    "output [\n",
    "  {\n",
    "    name: \"dense_1\"\n",
    "    data_type: TYPE_FP32\n",
    "    dims: [ 10 ]\n",
    "  }\n",
    "]"
   ]
  },
  {
   "cell_type": "code",
   "execution_count": 2,
   "id": "da31abf4-fbc6-46c8-a6b9-4b436bf7e3e2",
   "metadata": {},
   "outputs": [
    {
     "name": "stdout",
     "output_type": "stream",
     "text": [
      "Writing triton-mlflow/mnist-log-model/mnist/config.pbtxt\n"
     ]
    }
   ],
   "source": [
    "%%writefile triton-mlflow/mnist-log-model/mnist/config.pbtxt \n",
    "name: \"mnist\"\n",
    "platform: \"tensorflow_savedmodel\"\n",
    "max_batch_size: 100\n",
    "dynamic_batching { preferred_batch_size: [ 50 ]}\n",
    "instance_group [ { count: 2 }]\n",
    "input [\n",
    "  {\n",
    "    name: \"conv2d_input\"\n",
    "    data_type: TYPE_FP32\n",
    "    dims: [ 28, 28, 1 ]\n",
    "  }\n",
    "]\n",
    "output [\n",
    "  {\n",
    "    name: \"dense_1\"\n",
    "    data_type: TYPE_FP32\n",
    "    dims: [ 10 ]\n",
    "  }\n",
    "]"
   ]
  },
  {
   "cell_type": "markdown",
   "id": "b4d11d8c-768d-493e-8a4c-f6670e7a223e",
   "metadata": {},
   "source": [
    "# Copy model into S3"
   ]
  },
  {
   "cell_type": "code",
   "execution_count": 89,
   "id": "1f453e1d-3663-40bc-9959-0da7944d5f7b",
   "metadata": {},
   "outputs": [
    {
     "name": "stdout",
     "output_type": "stream",
     "text": [
      "2021/10/13 11:55:31 DEBUG : rclone: Version \"v1.56.2\" starting with parameters [\"/home/rskolasinski/.asdf/installs/rclone/1.56.2/bin/rclone\" \"-vvv\" \"--config=rclone.conf\" \"copy\" \"triton-mlflow\" \"s3://triton-mlflow\"]\n",
      "2021/10/13 11:55:31 DEBUG : Creating backend with remote \"triton-mlflow\"\n",
      "2021/10/13 11:55:31 DEBUG : Using config file from \"/home/rskolasinski/work/seldon-core/examples/mnist_triton_e2e/rclone.conf\"\n",
      "2021/10/13 11:55:31 DEBUG : fs cache: renaming cache item \"triton-mlflow\" to be canonical \"/home/rskolasinski/work/seldon-core/examples/mnist_triton_e2e/triton-mlflow\"\n",
      "2021/10/13 11:55:31 DEBUG : Creating backend with remote \"s3://triton-mlflow\"\n",
      "2021/10/13 11:55:31 DEBUG : fs cache: renaming cache item \"s3://triton-mlflow\" to be canonical \"s3:triton-mlflow\"\n",
      "2021/10/13 11:55:31 DEBUG : mnist-save-model/mnist/config.pbtxt: Modification times differ by -6m34.559941588s: 2021-10-13 11:55:31.216961083 +0100 BST, 2021-10-13 11:48:56.657019495 +0100 BST\n",
      "2021/10/13 11:55:31 DEBUG : mnist-save-model/mnist/config.pbtxt: md5 = 8bf5c24a18dff3603cf2cdcbd5d5e929 OK\n",
      "2021/10/13 11:55:31 DEBUG : mnist-log-model/mnist/config.pbtxt: Modification times differ by -6m34.283937393s: 2021-10-13 11:55:31.232961185 +0100 BST, 2021-10-13 11:48:56.949023792 +0100 BST\n",
      "2021/10/13 11:55:31 DEBUG : mnist-log-model/mnist/config.pbtxt: md5 = 8bf5c24a18dff3603cf2cdcbd5d5e929 OK\n",
      "2021/10/13 11:55:31 DEBUG : mnist-save-model/mnist/1/model.savedmodel/keras_metadata.pb: Size and modification time the same (differ by 0s, within tolerance 1ns)\n",
      "2021/10/13 11:55:31 DEBUG : mnist-save-model/mnist/1/model.savedmodel/keras_metadata.pb: Unchanged skipping\n",
      "2021/10/13 11:55:31 INFO  : mnist-save-model/mnist/config.pbtxt: Updated modification time in destination\n",
      "2021/10/13 11:55:31 DEBUG : mnist-save-model/mnist/config.pbtxt: Unchanged skipping\n",
      "2021/10/13 11:55:31 INFO  : mnist-log-model/mnist/config.pbtxt: Updated modification time in destination\n",
      "2021/10/13 11:55:31 DEBUG : mnist-log-model/mnist/config.pbtxt: Unchanged skipping\n",
      "2021/10/13 11:55:31 DEBUG : mnist-save-model/mnist/1/model.savedmodel/saved_model.pb: Size and modification time the same (differ by 0s, within tolerance 1ns)\n",
      "2021/10/13 11:55:31 DEBUG : mnist-save-model/mnist/1/model.savedmodel/saved_model.pb: Unchanged skipping\n",
      "2021/10/13 11:55:31 DEBUG : mnist-save-model/mnist/1/model.savedmodel/model/saved_model.pb: Size and modification time the same (differ by 0s, within tolerance 1ns)\n",
      "2021/10/13 11:55:31 DEBUG : mnist-save-model/mnist/1/model.savedmodel/model/saved_model.pb: Unchanged skipping\n",
      "2021/10/13 11:55:31 DEBUG : mnist-save-model/mnist/1/model.savedmodel/variables/variables.data-00000-of-00001: Size and modification time the same (differ by 0s, within tolerance 1ns)\n",
      "2021/10/13 11:55:31 DEBUG : mnist-save-model/mnist/1/model.savedmodel/variables/variables.data-00000-of-00001: Unchanged skipping\n",
      "2021/10/13 11:55:31 DEBUG : mnist-save-model/mnist/1/model.savedmodel/model/keras_metadata.pb: Size and modification time the same (differ by 0s, within tolerance 1ns)\n",
      "2021/10/13 11:55:31 DEBUG : mnist-save-model/mnist/1/model.savedmodel/model/keras_metadata.pb: Unchanged skipping\n",
      "2021/10/13 11:55:31 DEBUG : mnist-save-model/mnist/1/model.savedmodel/variables/variables.index: Size and modification time the same (differ by 0s, within tolerance 1ns)\n",
      "2021/10/13 11:55:31 DEBUG : mnist-save-model/mnist/1/model.savedmodel/variables/variables.index: Unchanged skipping\n",
      "2021/10/13 11:55:31 DEBUG : mnist-log-model/mnist/1/model.savedmodel/keras_metadata.pb: Size and modification time the same (differ by 0s, within tolerance 1ns)\n",
      "2021/10/13 11:55:31 DEBUG : mnist-log-model/mnist/1/model.savedmodel/keras_metadata.pb: Unchanged skipping\n",
      "2021/10/13 11:55:31 DEBUG : mnist-save-model/mnist/1/model.savedmodel/model/variables/variables.data-00000-of-00001: Size and modification time the same (differ by 0s, within tolerance 1ns)\n",
      "2021/10/13 11:55:31 DEBUG : mnist-save-model/mnist/1/model.savedmodel/model/variables/variables.data-00000-of-00001: Unchanged skipping\n",
      "2021/10/13 11:55:31 DEBUG : mnist-save-model/mnist/1/model.savedmodel/model/variables/variables.index: Size and modification time the same (differ by 0s, within tolerance 1ns)\n",
      "2021/10/13 11:55:31 DEBUG : mnist-save-model/mnist/1/model.savedmodel/model/variables/variables.index: Unchanged skipping\n",
      "2021/10/13 11:55:31 DEBUG : mnist-log-model/mnist/1/model.savedmodel/variables/variables.index: Size and modification time the same (differ by 0s, within tolerance 1ns)\n",
      "2021/10/13 11:55:31 DEBUG : mnist-log-model/mnist/1/model.savedmodel/variables/variables.index: Unchanged skipping\n",
      "2021/10/13 11:55:31 DEBUG : mnist-log-model/mnist/1/model.savedmodel/variables/variables.data-00000-of-00001: Size and modification time the same (differ by 0s, within tolerance 1ns)\n",
      "2021/10/13 11:55:31 DEBUG : mnist-log-model/mnist/1/model.savedmodel/variables/variables.data-00000-of-00001: Unchanged skipping\n",
      "2021/10/13 11:55:31 DEBUG : mnist-log-model/mnist/1/model.savedmodel/saved_model.pb: Size and modification time the same (differ by 0s, within tolerance 1ns)\n",
      "2021/10/13 11:55:31 DEBUG : mnist-log-model/mnist/1/model.savedmodel/saved_model.pb: Unchanged skipping\n",
      "2021/10/13 11:55:31 DEBUG : S3 bucket triton-mlflow: Waiting for checks to finish\n",
      "2021/10/13 11:55:31 DEBUG : mnist-log-model/mnist/1/model.savedmodel/model/saved_model.pb: Size and modification time the same (differ by 0s, within tolerance 1ns)\n",
      "2021/10/13 11:55:31 DEBUG : mnist-log-model/mnist/1/model.savedmodel/model/keras_metadata.pb: Size and modification time the same (differ by 0s, within tolerance 1ns)\n",
      "2021/10/13 11:55:31 DEBUG : mnist-log-model/mnist/1/model.savedmodel/model/saved_model.pb: Unchanged skipping\n",
      "2021/10/13 11:55:31 DEBUG : mnist-log-model/mnist/1/model.savedmodel/model/keras_metadata.pb: Unchanged skipping\n",
      "2021/10/13 11:55:31 DEBUG : mnist-log-model/mnist/1/model.savedmodel/model/variables/variables.data-00000-of-00001: Size and modification time the same (differ by 0s, within tolerance 1ns)\n",
      "2021/10/13 11:55:31 DEBUG : mnist-log-model/mnist/1/model.savedmodel/model/variables/variables.data-00000-of-00001: Unchanged skipping\n",
      "2021/10/13 11:55:31 DEBUG : mnist-log-model/mnist/1/model.savedmodel/model/variables/variables.index: Size and modification time the same (differ by 0s, within tolerance 1ns)\n",
      "2021/10/13 11:55:31 DEBUG : mnist-log-model/mnist/1/model.savedmodel/model/variables/variables.index: Unchanged skipping\n",
      "2021/10/13 11:55:31 DEBUG : S3 bucket triton-mlflow: Waiting for transfers to finish\n",
      "2021/10/13 11:55:31 INFO  : There was nothing to transfer\n",
      "2021/10/13 11:55:31 INFO  : \n",
      "Transferred:   \t          0 / 0 Byte, -, 0 Byte/s, ETA -\n",
      "Checks:                18 / 18, 100%\n",
      "Elapsed time:         0.4s\n",
      "\n",
      "2021/10/13 11:55:31 DEBUG : 20 go routines active\n"
     ]
    }
   ],
   "source": [
    "!rclone -vvv --config=\"rclone.conf\" copy triton-mlflow s3://triton-mlflow"
   ]
  },
  {
   "cell_type": "code",
   "execution_count": 90,
   "id": "9b74db2d-29d9-492e-b9bd-8574c3b6c7f8",
   "metadata": {},
   "outputs": [
    {
     "name": "stdout",
     "output_type": "stream",
     "text": [
      "    15048 triton-mlflow/mnist-log-model/mnist/1/model.savedmodel/keras_metadata.pb\n",
      "    15048 triton-mlflow/mnist-log-model/mnist/1/model.savedmodel/model/keras_metadata.pb\n",
      "   157755 triton-mlflow/mnist-log-model/mnist/1/model.savedmodel/model/saved_model.pb\n",
      "  7216711 triton-mlflow/mnist-log-model/mnist/1/model.savedmodel/model/variables/variables.data-00000-of-00001\n",
      "     2303 triton-mlflow/mnist-log-model/mnist/1/model.savedmodel/model/variables/variables.index\n",
      "   157755 triton-mlflow/mnist-log-model/mnist/1/model.savedmodel/saved_model.pb\n",
      "  7216711 triton-mlflow/mnist-log-model/mnist/1/model.savedmodel/variables/variables.data-00000-of-00001\n",
      "     2303 triton-mlflow/mnist-log-model/mnist/1/model.savedmodel/variables/variables.index\n",
      "      321 triton-mlflow/mnist-log-model/mnist/config.pbtxt\n",
      "    15048 triton-mlflow/mnist-save-model/mnist/1/model.savedmodel/keras_metadata.pb\n",
      "    15048 triton-mlflow/mnist-save-model/mnist/1/model.savedmodel/model/keras_metadata.pb\n",
      "   157755 triton-mlflow/mnist-save-model/mnist/1/model.savedmodel/model/saved_model.pb\n",
      "  7216711 triton-mlflow/mnist-save-model/mnist/1/model.savedmodel/model/variables/variables.data-00000-of-00001\n",
      "     2303 triton-mlflow/mnist-save-model/mnist/1/model.savedmodel/model/variables/variables.index\n",
      "   157755 triton-mlflow/mnist-save-model/mnist/1/model.savedmodel/saved_model.pb\n",
      "  7216711 triton-mlflow/mnist-save-model/mnist/1/model.savedmodel/variables/variables.data-00000-of-00001\n",
      "     2303 triton-mlflow/mnist-save-model/mnist/1/model.savedmodel/variables/variables.index\n",
      "      321 triton-mlflow/mnist-save-model/mnist/config.pbtxt\n",
      "    15048 triton-models/mnist-model/mnist/1/model.savedmodel/keras_metadata.pb\n",
      "   157755 triton-models/mnist-model/mnist/1/model.savedmodel/saved_model.pb\n",
      "  7216711 triton-models/mnist-model/mnist/1/model.savedmodel/variables/variables.data-00000-of-00001\n",
      "     2303 triton-models/mnist-model/mnist/1/model.savedmodel/variables/variables.index\n",
      "      321 triton-models/mnist-model/mnist/config.pbtxt\n"
     ]
    }
   ],
   "source": [
    "!rclone --config=\"rclone.conf\" ls s3:"
   ]
  },
  {
   "cell_type": "markdown",
   "id": "520145df-c2e4-4eeb-8829-0e283f91d762",
   "metadata": {},
   "source": [
    "# Deploy and Test model"
   ]
  },
  {
   "cell_type": "markdown",
   "id": "8c398092-1104-4d2b-9472-ded947ae2257",
   "metadata": {},
   "source": [
    "## Deploy"
   ]
  },
  {
   "cell_type": "code",
   "execution_count": 91,
   "id": "16ba561e-c253-496e-aab6-739fe4f23dc4",
   "metadata": {},
   "outputs": [
    {
     "name": "stdout",
     "output_type": "stream",
     "text": [
      "Overwriting deployment.yaml\n"
     ]
    }
   ],
   "source": [
    "%%writefile deployment.yaml\n",
    "apiVersion: machinelearning.seldon.io/v1\n",
    "kind: SeldonDeployment\n",
    "metadata:\n",
    "  name: mnist-save-model\n",
    "  namespace: seldon\n",
    "spec:\n",
    "  name: default\n",
    "  predictors:\n",
    "  - graph:\n",
    "      implementation: TRITON_SERVER\n",
    "      logger:\n",
    "        mode: all\n",
    "      modelUri: s3:triton-mlflow/mnist-save-model\n",
    "      envSecretRefName: seldon-rclone-secret\n",
    "      name: mnist\n",
    "      type: MODEL\n",
    "    name: default\n",
    "    replicas: 1\n",
    "  protocol: kfserving\n",
    "    \n",
    "---\n",
    "\n",
    "apiVersion: machinelearning.seldon.io/v1\n",
    "kind: SeldonDeployment\n",
    "metadata:\n",
    "  name: mnist-log-model\n",
    "  namespace: seldon\n",
    "spec:\n",
    "  name: default\n",
    "  predictors:\n",
    "  - graph:\n",
    "      implementation: TRITON_SERVER\n",
    "      logger:\n",
    "        mode: all\n",
    "      modelUri: s3:triton-mlflow/mnist-log-model\n",
    "      envSecretRefName: seldon-rclone-secret\n",
    "      name: mnist\n",
    "      type: MODEL\n",
    "    name: default\n",
    "    replicas: 1\n",
    "  protocol: kfserving"
   ]
  },
  {
   "cell_type": "code",
   "execution_count": 92,
   "id": "64172b46-1e59-417f-a4fd-3954440d073f",
   "metadata": {},
   "outputs": [
    {
     "name": "stdout",
     "output_type": "stream",
     "text": [
      "seldondeployment.machinelearning.seldon.io/mnist-save-model unchanged\n",
      "seldondeployment.machinelearning.seldon.io/mnist-log-model unchanged\n"
     ]
    }
   ],
   "source": [
    "!kubectl apply -f deployment.yaml"
   ]
  },
  {
   "cell_type": "code",
   "execution_count": 93,
   "id": "0b872742-44c4-43fa-ac50-8e4d189bd9ee",
   "metadata": {},
   "outputs": [
    {
     "name": "stdout",
     "output_type": "stream",
     "text": [
      "deployment \"mnist-default-0-mnist\" successfully rolled out\n"
     ]
    }
   ],
   "source": [
    "!kubectl rollout status deploy/$(kubectl get deploy -l seldon-deployment-id=mnist -o jsonpath='{.items[0].metadata.name}')"
   ]
  },
  {
   "cell_type": "markdown",
   "id": "f10684cb-ff19-4268-aef6-cb8c9c63cac6",
   "metadata": {},
   "source": [
    "## Test"
   ]
  },
  {
   "cell_type": "code",
   "execution_count": 98,
   "id": "0341ac0e-837a-421c-9da1-4e58c5864674",
   "metadata": {},
   "outputs": [
    {
     "name": "stdout",
     "output_type": "stream",
     "text": [
      "\u001b[1;39m{\n",
      "  \u001b[0m\u001b[34;1m\"name\"\u001b[0m\u001b[1;39m: \u001b[0m\u001b[0;32m\"mnist\"\u001b[0m\u001b[1;39m,\n",
      "  \u001b[0m\u001b[34;1m\"versions\"\u001b[0m\u001b[1;39m: \u001b[0m\u001b[1;39m[\n",
      "    \u001b[0;32m\"1\"\u001b[0m\u001b[1;39m\n",
      "  \u001b[1;39m]\u001b[0m\u001b[1;39m,\n",
      "  \u001b[0m\u001b[34;1m\"platform\"\u001b[0m\u001b[1;39m: \u001b[0m\u001b[0;32m\"tensorflow_savedmodel\"\u001b[0m\u001b[1;39m,\n",
      "  \u001b[0m\u001b[34;1m\"inputs\"\u001b[0m\u001b[1;39m: \u001b[0m\u001b[1;39m[\n",
      "    \u001b[1;39m{\n",
      "      \u001b[0m\u001b[34;1m\"name\"\u001b[0m\u001b[1;39m: \u001b[0m\u001b[0;32m\"conv2d_input\"\u001b[0m\u001b[1;39m,\n",
      "      \u001b[0m\u001b[34;1m\"datatype\"\u001b[0m\u001b[1;39m: \u001b[0m\u001b[0;32m\"FP32\"\u001b[0m\u001b[1;39m,\n",
      "      \u001b[0m\u001b[34;1m\"shape\"\u001b[0m\u001b[1;39m: \u001b[0m\u001b[1;39m[\n",
      "        \u001b[0;39m-1\u001b[0m\u001b[1;39m,\n",
      "        \u001b[0;39m28\u001b[0m\u001b[1;39m,\n",
      "        \u001b[0;39m28\u001b[0m\u001b[1;39m,\n",
      "        \u001b[0;39m1\u001b[0m\u001b[1;39m\n",
      "      \u001b[1;39m]\u001b[0m\u001b[1;39m\n",
      "    \u001b[1;39m}\u001b[0m\u001b[1;39m\n",
      "  \u001b[1;39m]\u001b[0m\u001b[1;39m,\n",
      "  \u001b[0m\u001b[34;1m\"outputs\"\u001b[0m\u001b[1;39m: \u001b[0m\u001b[1;39m[\n",
      "    \u001b[1;39m{\n",
      "      \u001b[0m\u001b[34;1m\"name\"\u001b[0m\u001b[1;39m: \u001b[0m\u001b[0;32m\"dense_1\"\u001b[0m\u001b[1;39m,\n",
      "      \u001b[0m\u001b[34;1m\"datatype\"\u001b[0m\u001b[1;39m: \u001b[0m\u001b[0;32m\"FP32\"\u001b[0m\u001b[1;39m,\n",
      "      \u001b[0m\u001b[34;1m\"shape\"\u001b[0m\u001b[1;39m: \u001b[0m\u001b[1;39m[\n",
      "        \u001b[0;39m-1\u001b[0m\u001b[1;39m,\n",
      "        \u001b[0;39m10\u001b[0m\u001b[1;39m\n",
      "      \u001b[1;39m]\u001b[0m\u001b[1;39m\n",
      "    \u001b[1;39m}\u001b[0m\u001b[1;39m\n",
      "  \u001b[1;39m]\u001b[0m\u001b[1;39m\n",
      "\u001b[1;39m}\u001b[0m\n"
     ]
    }
   ],
   "source": [
    "!curl -s http://localhost:8003/seldon/seldon/mnist/v2/models/mnist | jq ."
   ]
  },
  {
   "cell_type": "code",
   "execution_count": 99,
   "id": "e8c184c6-9a8f-4a88-a84c-7bfcac1b2f06",
   "metadata": {},
   "outputs": [
    {
     "name": "stdout",
     "output_type": "stream",
     "text": [
      "\u001b[1;39m{\n",
      "  \u001b[0m\u001b[34;1m\"name\"\u001b[0m\u001b[1;39m: \u001b[0m\u001b[0;32m\"mnist\"\u001b[0m\u001b[1;39m,\n",
      "  \u001b[0m\u001b[34;1m\"versions\"\u001b[0m\u001b[1;39m: \u001b[0m\u001b[1;39m[\n",
      "    \u001b[0;32m\"1\"\u001b[0m\u001b[1;39m\n",
      "  \u001b[1;39m]\u001b[0m\u001b[1;39m,\n",
      "  \u001b[0m\u001b[34;1m\"platform\"\u001b[0m\u001b[1;39m: \u001b[0m\u001b[0;32m\"tensorflow_savedmodel\"\u001b[0m\u001b[1;39m,\n",
      "  \u001b[0m\u001b[34;1m\"inputs\"\u001b[0m\u001b[1;39m: \u001b[0m\u001b[1;39m[\n",
      "    \u001b[1;39m{\n",
      "      \u001b[0m\u001b[34;1m\"name\"\u001b[0m\u001b[1;39m: \u001b[0m\u001b[0;32m\"conv2d_input\"\u001b[0m\u001b[1;39m,\n",
      "      \u001b[0m\u001b[34;1m\"datatype\"\u001b[0m\u001b[1;39m: \u001b[0m\u001b[0;32m\"FP32\"\u001b[0m\u001b[1;39m,\n",
      "      \u001b[0m\u001b[34;1m\"shape\"\u001b[0m\u001b[1;39m: \u001b[0m\u001b[1;39m[\n",
      "        \u001b[0;39m-1\u001b[0m\u001b[1;39m,\n",
      "        \u001b[0;39m28\u001b[0m\u001b[1;39m,\n",
      "        \u001b[0;39m28\u001b[0m\u001b[1;39m,\n",
      "        \u001b[0;39m1\u001b[0m\u001b[1;39m\n",
      "      \u001b[1;39m]\u001b[0m\u001b[1;39m\n",
      "    \u001b[1;39m}\u001b[0m\u001b[1;39m\n",
      "  \u001b[1;39m]\u001b[0m\u001b[1;39m,\n",
      "  \u001b[0m\u001b[34;1m\"outputs\"\u001b[0m\u001b[1;39m: \u001b[0m\u001b[1;39m[\n",
      "    \u001b[1;39m{\n",
      "      \u001b[0m\u001b[34;1m\"name\"\u001b[0m\u001b[1;39m: \u001b[0m\u001b[0;32m\"dense_1\"\u001b[0m\u001b[1;39m,\n",
      "      \u001b[0m\u001b[34;1m\"datatype\"\u001b[0m\u001b[1;39m: \u001b[0m\u001b[0;32m\"FP32\"\u001b[0m\u001b[1;39m,\n",
      "      \u001b[0m\u001b[34;1m\"shape\"\u001b[0m\u001b[1;39m: \u001b[0m\u001b[1;39m[\n",
      "        \u001b[0;39m-1\u001b[0m\u001b[1;39m,\n",
      "        \u001b[0;39m10\u001b[0m\u001b[1;39m\n",
      "      \u001b[1;39m]\u001b[0m\u001b[1;39m\n",
      "    \u001b[1;39m}\u001b[0m\u001b[1;39m\n",
      "  \u001b[1;39m]\u001b[0m\u001b[1;39m\n",
      "\u001b[1;39m}\u001b[0m\n"
     ]
    }
   ],
   "source": [
    "!curl -s http://localhost:8003/seldon/seldon/mnist-log-model/v2/models/mnist | jq ."
   ]
  },
  {
   "cell_type": "code",
   "execution_count": 100,
   "id": "b03ec0bc-2581-420d-8bcb-e5ddfff7cd12",
   "metadata": {},
   "outputs": [
    {
     "name": "stdout",
     "output_type": "stream",
     "text": [
      "\u001b[1;39m{\n",
      "  \u001b[0m\u001b[34;1m\"name\"\u001b[0m\u001b[1;39m: \u001b[0m\u001b[0;32m\"mnist\"\u001b[0m\u001b[1;39m,\n",
      "  \u001b[0m\u001b[34;1m\"versions\"\u001b[0m\u001b[1;39m: \u001b[0m\u001b[1;39m[\n",
      "    \u001b[0;32m\"1\"\u001b[0m\u001b[1;39m\n",
      "  \u001b[1;39m]\u001b[0m\u001b[1;39m,\n",
      "  \u001b[0m\u001b[34;1m\"platform\"\u001b[0m\u001b[1;39m: \u001b[0m\u001b[0;32m\"tensorflow_savedmodel\"\u001b[0m\u001b[1;39m,\n",
      "  \u001b[0m\u001b[34;1m\"inputs\"\u001b[0m\u001b[1;39m: \u001b[0m\u001b[1;39m[\n",
      "    \u001b[1;39m{\n",
      "      \u001b[0m\u001b[34;1m\"name\"\u001b[0m\u001b[1;39m: \u001b[0m\u001b[0;32m\"conv2d_input\"\u001b[0m\u001b[1;39m,\n",
      "      \u001b[0m\u001b[34;1m\"datatype\"\u001b[0m\u001b[1;39m: \u001b[0m\u001b[0;32m\"FP32\"\u001b[0m\u001b[1;39m,\n",
      "      \u001b[0m\u001b[34;1m\"shape\"\u001b[0m\u001b[1;39m: \u001b[0m\u001b[1;39m[\n",
      "        \u001b[0;39m-1\u001b[0m\u001b[1;39m,\n",
      "        \u001b[0;39m28\u001b[0m\u001b[1;39m,\n",
      "        \u001b[0;39m28\u001b[0m\u001b[1;39m,\n",
      "        \u001b[0;39m1\u001b[0m\u001b[1;39m\n",
      "      \u001b[1;39m]\u001b[0m\u001b[1;39m\n",
      "    \u001b[1;39m}\u001b[0m\u001b[1;39m\n",
      "  \u001b[1;39m]\u001b[0m\u001b[1;39m,\n",
      "  \u001b[0m\u001b[34;1m\"outputs\"\u001b[0m\u001b[1;39m: \u001b[0m\u001b[1;39m[\n",
      "    \u001b[1;39m{\n",
      "      \u001b[0m\u001b[34;1m\"name\"\u001b[0m\u001b[1;39m: \u001b[0m\u001b[0;32m\"dense_1\"\u001b[0m\u001b[1;39m,\n",
      "      \u001b[0m\u001b[34;1m\"datatype\"\u001b[0m\u001b[1;39m: \u001b[0m\u001b[0;32m\"FP32\"\u001b[0m\u001b[1;39m,\n",
      "      \u001b[0m\u001b[34;1m\"shape\"\u001b[0m\u001b[1;39m: \u001b[0m\u001b[1;39m[\n",
      "        \u001b[0;39m-1\u001b[0m\u001b[1;39m,\n",
      "        \u001b[0;39m10\u001b[0m\u001b[1;39m\n",
      "      \u001b[1;39m]\u001b[0m\u001b[1;39m\n",
      "    \u001b[1;39m}\u001b[0m\u001b[1;39m\n",
      "  \u001b[1;39m]\u001b[0m\u001b[1;39m\n",
      "\u001b[1;39m}\u001b[0m\n"
     ]
    }
   ],
   "source": [
    "!curl -s http://localhost:8003/seldon/seldon/mnist-save-model/v2/models/mnist | jq ."
   ]
  },
  {
   "cell_type": "code",
   "execution_count": 101,
   "id": "5d0e9445-f359-4d1b-8caf-c16540d4fd02",
   "metadata": {},
   "outputs": [],
   "source": [
    "import numpy as np\n",
    "import requests"
   ]
  },
  {
   "cell_type": "code",
   "execution_count": 102,
   "id": "215337e6-ae6c-40d9-aff3-354eb16a7b77",
   "metadata": {},
   "outputs": [
    {
     "data": {
      "text/plain": [
       "[8, 8, 8, 8, 2, 8, 8, 8, 8, 2]"
      ]
     },
     "execution_count": 102,
     "metadata": {},
     "output_type": "execute_result"
    }
   ],
   "source": [
    "URL = \"http://localhost:8003/seldon/seldon/mnist\"\n",
    "# URL = \"http://localhost:8003/seldon/seldon/mnist-save-model\"\n",
    "\n",
    "data = {\n",
    "    \"inputs\": [\n",
    "        {\n",
    "            \"name\": \"conv2d_input\",\n",
    "            \"data\": np.random.rand(10, 28, 28, 1).tolist(),\n",
    "            \"datatype\": \"FP32\",\n",
    "            \"shape\": [10, 28, 28, 1],\n",
    "        }\n",
    "    ]\n",
    "}\n",
    "\n",
    "r = requests.post(f\"{URL}/v2/models/mnist/infer\", json=data)\n",
    "predictions = np.array(r.json()[\"outputs\"][0][\"data\"]).reshape(\n",
    "    r.json()[\"outputs\"][0][\"shape\"]\n",
    ")\n",
    "output = [np.argmax(x) for x in predictions]\n",
    "output"
   ]
  },
  {
   "cell_type": "code",
   "execution_count": 103,
   "id": "6b368f89-a4a8-4bd8-bfce-1522e3b886d0",
   "metadata": {},
   "outputs": [
    {
     "data": {
      "text/plain": [
       "[8, 8, 8, 8, 8, 8, 8, 8, 8, 8]"
      ]
     },
     "execution_count": 103,
     "metadata": {},
     "output_type": "execute_result"
    }
   ],
   "source": [
    "URL = \"http://localhost:8003/seldon/seldon/mnist-save-model\"\n",
    "\n",
    "data = {\n",
    "    \"inputs\": [\n",
    "        {\n",
    "            \"name\": \"conv2d_input\",\n",
    "            \"data\": np.random.rand(10, 28, 28, 1).tolist(),\n",
    "            \"datatype\": \"FP32\",\n",
    "            \"shape\": [10, 28, 28, 1],\n",
    "        }\n",
    "    ]\n",
    "}\n",
    "\n",
    "r = requests.post(f\"{URL}/v2/models/mnist/infer\", json=data)\n",
    "predictions = np.array(r.json()[\"outputs\"][0][\"data\"]).reshape(\n",
    "    r.json()[\"outputs\"][0][\"shape\"]\n",
    ")\n",
    "output = [np.argmax(x) for x in predictions]\n",
    "output"
   ]
  },
  {
   "cell_type": "code",
   "execution_count": 104,
   "id": "83274b27-5285-45e4-97db-124e894d4c39",
   "metadata": {},
   "outputs": [
    {
     "data": {
      "text/plain": [
       "[8, 2, 8, 8, 8, 8, 8, 8, 8, 8]"
      ]
     },
     "execution_count": 104,
     "metadata": {},
     "output_type": "execute_result"
    }
   ],
   "source": [
    "URL = \"http://localhost:8003/seldon/seldon/mnist-log-model\"\n",
    "\n",
    "data = {\n",
    "    \"inputs\": [\n",
    "        {\n",
    "            \"name\": \"conv2d_input\",\n",
    "            \"data\": np.random.rand(10, 28, 28, 1).tolist(),\n",
    "            \"datatype\": \"FP32\",\n",
    "            \"shape\": [10, 28, 28, 1],\n",
    "        }\n",
    "    ]\n",
    "}\n",
    "\n",
    "r = requests.post(f\"{URL}/v2/models/mnist/infer\", json=data)\n",
    "predictions = np.array(r.json()[\"outputs\"][0][\"data\"]).reshape(\n",
    "    r.json()[\"outputs\"][0][\"shape\"]\n",
    ")\n",
    "output = [np.argmax(x) for x in predictions]\n",
    "output"
   ]
  }
 ],
 "metadata": {
  "kernelspec": {
   "display_name": "Python 3 (ipykernel)",
   "language": "python",
   "name": "python3"
  },
  "language_info": {
   "codemirror_mode": {
    "name": "ipython",
    "version": 3
   },
   "file_extension": ".py",
   "mimetype": "text/x-python",
   "name": "python",
   "nbconvert_exporter": "python",
   "pygments_lexer": "ipython3",
   "version": "3.8.11"
  }
 },
 "nbformat": 4,
 "nbformat_minor": 5
}
