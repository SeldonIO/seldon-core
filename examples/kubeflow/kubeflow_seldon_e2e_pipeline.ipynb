{
 "cells": [
  {
   "cell_type": "markdown",
   "metadata": {},
   "source": [
    "# End-to-end Reusable ML Pipeline with Seldon and Kubeflow\n",
    "\n",
    "In this example we showcase how to build re-usable components to build an ML pipeline that can be trained and deployed at scale.\n",
    "\n",
    "We will automate content moderation on the Reddit comments in /r/science building a machine learning NLP model with the following components:\n",
    "\n",
    "![](img/completed-pipeline-deploy.jpg)\n",
    "\n",
    "This tutorial will break down in the following sections:\n",
    "\n",
    "1) Run all the services (Kubeflow and Seldon)\n",
    "\n",
    "2) Test and build all our reusable pipeline steps\n",
    "\n",
    "3) Use Kubeflow to Train the Pipeline and Deploy to Seldon\n",
    "\n",
    "5) Test Seldon Deployed ML REST Endpoints\n",
    "\n",
    "6) Visualise Seldon's Production ML Pipelines\n",
    "\n",
    "# Before you start\n",
    "Make sure you install the following dependencies, as they are critical for this example to work:\n",
    "\n",
    "* Helm v2.13.1+\n",
    "* A Kubernetes cluster running v1.13 or above (minkube / docker-for-windows work well if enough RAM)\n",
    "* kubectl v1.14+\n",
    "* ksonnet v0.13.1+\n",
    "* kfctl 0.5.1 - Please use this exact version as there are major changes every few months\n",
    "* Python 3.6+\n",
    "* Python DEV requirements (we'll install them below)\n",
    "\n",
    "Let's get started! 🚀🔥 We will be building the end-to-end pipeline below:\n",
    "\n",
    "![](img/kubeflow-seldon-nlp-full.jpg)\n"
   ]
  },
  {
   "cell_type": "code",
   "execution_count": 6,
   "metadata": {},
   "outputs": [
    {
     "name": "stdout",
     "output_type": "stream",
     "text": [
      "\u001b[38;5;238m───────┬────────────────────────────────────────────────────────────────────────\u001b[0m\n",
      "       \u001b[38;5;238m│ \u001b[0mFile: \u001b[1mrequirements-dev.txt\u001b[0m\n",
      "\u001b[38;5;238m───────┼────────────────────────────────────────────────────────────────────────\u001b[0m\n",
      "\u001b[38;5;238m   1\u001b[0m   \u001b[38;5;238m│\u001b[0m \u001b[38;5;231mpython-dateutil\u001b[0m\n",
      "\u001b[38;5;238m   2\u001b[0m   \u001b[38;5;238m│\u001b[0m \u001b[38;5;231mhttps://storage.googleapis.com/ml-pipeline/release/0.1.20/kfp.tar.gz\u001b[0m\n",
      "\u001b[38;5;238m   3\u001b[0m   \u001b[38;5;238m│\u001b[0m \u001b[38;5;231mkubernetes\u001b[0m\n",
      "\u001b[38;5;238m   4\u001b[0m   \u001b[38;5;238m│\u001b[0m \u001b[38;5;231mclick\u001b[0m\n",
      "\u001b[38;5;238m   5\u001b[0m   \u001b[38;5;238m│\u001b[0m \u001b[38;5;231mseldon_core\u001b[0m\n",
      "\u001b[38;5;238m   6\u001b[0m   \u001b[38;5;238m│\u001b[0m \u001b[38;5;231mnumpy\u001b[0m\n",
      "\u001b[38;5;238m───────┴────────────────────────────────────────────────────────────────────────\u001b[0m\n"
     ]
    }
   ],
   "source": [
    "!cat requirements-dev.txt"
   ]
  },
  {
   "cell_type": "code",
   "execution_count": null,
   "metadata": {
    "scrolled": true
   },
   "outputs": [],
   "source": [
    "!pip install -r requirements-dev.txt"
   ]
  },
  {
   "cell_type": "markdown",
   "metadata": {},
   "source": [
    "## 1) Run all the services (Kubeflow and Seldon)\n",
    "Kubeflow's CLI allows us to create a project which will allow us to build the configuration we need to deploy our kubeflow and seldon clusters."
   ]
  },
  {
   "cell_type": "code",
   "execution_count": 2,
   "metadata": {
    "scrolled": true
   },
   "outputs": [
    {
     "name": "stdout",
     "output_type": "stream",
     "text": [
      "app.yaml\r\n"
     ]
    }
   ],
   "source": [
    "!kfctl init kubeflow-seldon\n",
    "!ls kubeflow-seldon"
   ]
  },
  {
   "cell_type": "markdown",
   "metadata": {},
   "source": [
    "Now we run the following commands to basically launch our Kubeflow cluster with all its components. \n",
    "\n",
    "It may take a while to download all the images for Kubeflow so feel free to make yourself a cup of ☕.\n",
    "\n",
    "If you have a terminal you can see how the containers are created in real-time by running `kubectl get pods -n kubeflow -w`."
   ]
  },
  {
   "cell_type": "code",
   "execution_count": 1,
   "metadata": {
    "scrolled": true
   },
   "outputs": [
    {
     "name": "stderr",
     "output_type": "stream",
     "text": [
      "time=\"2019-05-28T11:43:47+01:00\" level=info msg=\"reading from /home/alejandro/Programming/kubernetes/seldon/seldon-core/examples/kubeflow/kubeflow-seldon/app.yaml\" filename=\"coordinator/coordinator.go:341\"\n",
      "time=\"2019-05-28T11:43:47+01:00\" level=info msg=\"reading from /home/alejandro/Programming/kubernetes/seldon/seldon-core/examples/kubeflow/kubeflow-seldon/app.yaml\" filename=\"coordinator/coordinator.go:341\"\n",
      "time=\"2019-05-28T11:43:47+01:00\" level=info msg=\"Ksonnet.Generate Name kubeflow-seldon AppDir /home/alejandro/Programming/kubernetes/seldon/seldon-core/examples/kubeflow/kubeflow-seldon Platform \" filename=\"ksonnet/ksonnet.go:369\"\n",
      "time=\"2019-05-28T11:43:48+01:00\" level=info msg=\"Creating environment \\\"default\\\" with namespace \\\"kubeflow\\\", pointing to \\\"version:v1.13.0\\\" cluster at address \\\"https://localhost:6445\\\"\" filename=\"env/create.go:77\"\n",
      "time=\"2019-05-28T11:43:53+01:00\" level=info msg=\"Generating ksonnet-lib data at path '/home/alejandro/Programming/kubernetes/seldon/seldon-core/examples/kubeflow/kubeflow-seldon/ks_app/lib/ksonnet-lib/v1.13.0'\" filename=\"lib/lib.go:148\"\n",
      "time=\"2019-05-28T11:43:53+01:00\" level=info msg=\"Successfully initialized the app kubeflow-seldon.\" filename=\"ksonnet/ksonnet.go:505\"\n",
      "time=\"2019-05-28T11:43:53+01:00\" level=info msg=\"App kubeflow-seldon add registry kubeflow URI /home/alejandro/Programming/kubernetes/seldon/seldon-core/examples/kubeflow/kubeflow-seldon/.cache/v0.5.1/kubeflow\" filename=\"ksonnet/ksonnet.go:621\"\n",
      "time=\"2019-05-28T11:43:53+01:00\" level=info msg=\"Retrieved 6 files\" filename=\"registry/cache.go:114\"\n",
      "time=\"2019-05-28T11:43:54+01:00\" level=info msg=\"Retrieved 22 files\" filename=\"registry/cache.go:114\"\n",
      "time=\"2019-05-28T11:43:54+01:00\" level=info msg=\"Retrieved 9 files\" filename=\"registry/cache.go:114\"\n",
      "time=\"2019-05-28T11:43:54+01:00\" level=info msg=\"Retrieved 35 files\" filename=\"registry/cache.go:114\"\n",
      "time=\"2019-05-28T11:43:54+01:00\" level=info msg=\"Retrieved 49 files\" filename=\"registry/cache.go:114\"\n",
      "time=\"2019-05-28T11:43:54+01:00\" level=info msg=\"Retrieved 6 files\" filename=\"registry/cache.go:114\"\n",
      "time=\"2019-05-28T11:43:54+01:00\" level=info msg=\"Retrieved 4 files\" filename=\"registry/cache.go:114\"\n",
      "time=\"2019-05-28T11:43:54+01:00\" level=info msg=\"Retrieved 4 files\" filename=\"registry/cache.go:114\"\n",
      "time=\"2019-05-28T11:43:54+01:00\" level=info msg=\"Retrieved 9 files\" filename=\"registry/cache.go:114\"\n",
      "time=\"2019-05-28T11:43:54+01:00\" level=info msg=\"Retrieved 14 files\" filename=\"registry/cache.go:114\"\n",
      "time=\"2019-05-28T11:43:54+01:00\" level=info msg=\"Retrieved 6 files\" filename=\"registry/cache.go:114\"\n",
      "time=\"2019-05-28T11:43:54+01:00\" level=info msg=\"Retrieved 17 files\" filename=\"registry/cache.go:114\"\n",
      "time=\"2019-05-28T11:43:54+01:00\" level=info msg=\"Retrieved 8 files\" filename=\"registry/cache.go:114\"\n",
      "time=\"2019-05-28T11:43:54+01:00\" level=info msg=\"Retrieved 12 files\" filename=\"registry/cache.go:114\"\n",
      "time=\"2019-05-28T11:43:55+01:00\" level=info msg=\"Retrieved 4 files\" filename=\"registry/cache.go:114\"\n",
      "time=\"2019-05-28T11:43:55+01:00\" level=info msg=\"Creating Component: ambassador ...\" filename=\"ksonnet/ksonnet.go:207\"\n",
      "time=\"2019-05-28T11:43:55+01:00\" level=info msg=\"Args: [ambassador ambassador]\" filename=\"ksonnet/ksonnet.go:208\"\n",
      "time=\"2019-05-28T11:43:55+01:00\" level=info msg=\"Writing component at '/home/alejandro/Programming/kubernetes/seldon/seldon-core/examples/kubeflow/kubeflow-seldon/ks_app/components/ambassador.jsonnet'\" filename=\"component/create.go:92\"\n",
      "time=\"2019-05-28T11:43:55+01:00\" level=info msg=\"Creating Component: argo ...\" filename=\"ksonnet/ksonnet.go:207\"\n",
      "time=\"2019-05-28T11:43:55+01:00\" level=info msg=\"Args: [argo argo]\" filename=\"ksonnet/ksonnet.go:208\"\n",
      "time=\"2019-05-28T11:43:55+01:00\" level=info msg=\"Writing component at '/home/alejandro/Programming/kubernetes/seldon/seldon-core/examples/kubeflow/kubeflow-seldon/ks_app/components/argo.jsonnet'\" filename=\"component/create.go:92\"\n",
      "time=\"2019-05-28T11:43:55+01:00\" level=info msg=\"Creating Component: centraldashboard ...\" filename=\"ksonnet/ksonnet.go:207\"\n",
      "time=\"2019-05-28T11:43:55+01:00\" level=info msg=\"Args: [centraldashboard centraldashboard]\" filename=\"ksonnet/ksonnet.go:208\"\n",
      "time=\"2019-05-28T11:43:55+01:00\" level=info msg=\"Writing component at '/home/alejandro/Programming/kubernetes/seldon/seldon-core/examples/kubeflow/kubeflow-seldon/ks_app/components/centraldashboard.jsonnet'\" filename=\"component/create.go:92\"\n",
      "time=\"2019-05-28T11:43:55+01:00\" level=info msg=\"Creating Component: jupyter-web-app ...\" filename=\"ksonnet/ksonnet.go:207\"\n",
      "time=\"2019-05-28T11:43:55+01:00\" level=info msg=\"Args: [jupyter-web-app jupyter-web-app]\" filename=\"ksonnet/ksonnet.go:208\"\n",
      "time=\"2019-05-28T11:43:55+01:00\" level=info msg=\"Writing component at '/home/alejandro/Programming/kubernetes/seldon/seldon-core/examples/kubeflow/kubeflow-seldon/ks_app/components/jupyter-web-app.jsonnet'\" filename=\"component/create.go:92\"\n",
      "time=\"2019-05-28T11:43:55+01:00\" level=info msg=\"Creating Component: katib ...\" filename=\"ksonnet/ksonnet.go:207\"\n",
      "time=\"2019-05-28T11:43:55+01:00\" level=info msg=\"Args: [katib katib]\" filename=\"ksonnet/ksonnet.go:208\"\n",
      "time=\"2019-05-28T11:43:55+01:00\" level=info msg=\"Writing component at '/home/alejandro/Programming/kubernetes/seldon/seldon-core/examples/kubeflow/kubeflow-seldon/ks_app/components/katib.jsonnet'\" filename=\"component/create.go:92\"\n",
      "time=\"2019-05-28T11:43:55+01:00\" level=info msg=\"Creating Component: metacontroller ...\" filename=\"ksonnet/ksonnet.go:207\"\n",
      "time=\"2019-05-28T11:43:55+01:00\" level=info msg=\"Args: [metacontroller metacontroller]\" filename=\"ksonnet/ksonnet.go:208\"\n",
      "time=\"2019-05-28T11:43:55+01:00\" level=info msg=\"Writing component at '/home/alejandro/Programming/kubernetes/seldon/seldon-core/examples/kubeflow/kubeflow-seldon/ks_app/components/metacontroller.jsonnet'\" filename=\"component/create.go:92\"\n",
      "time=\"2019-05-28T11:43:55+01:00\" level=info msg=\"Creating Component: notebook-controller ...\" filename=\"ksonnet/ksonnet.go:207\"\n",
      "time=\"2019-05-28T11:43:55+01:00\" level=info msg=\"Args: [notebook-controller notebook-controller]\" filename=\"ksonnet/ksonnet.go:208\"\n",
      "time=\"2019-05-28T11:43:55+01:00\" level=info msg=\"Writing component at '/home/alejandro/Programming/kubernetes/seldon/seldon-core/examples/kubeflow/kubeflow-seldon/ks_app/components/notebook-controller.jsonnet'\" filename=\"component/create.go:92\"\n",
      "time=\"2019-05-28T11:43:55+01:00\" level=info msg=\"Creating Component: pipeline ...\" filename=\"ksonnet/ksonnet.go:207\"\n",
      "time=\"2019-05-28T11:43:55+01:00\" level=info msg=\"Args: [pipeline pipeline]\" filename=\"ksonnet/ksonnet.go:208\"\n",
      "time=\"2019-05-28T11:43:55+01:00\" level=info msg=\"Writing component at '/home/alejandro/Programming/kubernetes/seldon/seldon-core/examples/kubeflow/kubeflow-seldon/ks_app/components/pipeline.jsonnet'\" filename=\"component/create.go:92\"\n",
      "time=\"2019-05-28T11:43:55+01:00\" level=info msg=\"Creating Component: pytorch-operator ...\" filename=\"ksonnet/ksonnet.go:207\"\n",
      "time=\"2019-05-28T11:43:55+01:00\" level=info msg=\"Args: [pytorch-operator pytorch-operator]\" filename=\"ksonnet/ksonnet.go:208\"\n",
      "time=\"2019-05-28T11:43:55+01:00\" level=info msg=\"Writing component at '/home/alejandro/Programming/kubernetes/seldon/seldon-core/examples/kubeflow/kubeflow-seldon/ks_app/components/pytorch-operator.jsonnet'\" filename=\"component/create.go:92\"\n",
      "time=\"2019-05-28T11:43:55+01:00\" level=info msg=\"Creating Component: tensorboard ...\" filename=\"ksonnet/ksonnet.go:207\"\n",
      "time=\"2019-05-28T11:43:55+01:00\" level=info msg=\"Args: [tensorboard tensorboard]\" filename=\"ksonnet/ksonnet.go:208\"\n",
      "time=\"2019-05-28T11:43:56+01:00\" level=info msg=\"Writing component at '/home/alejandro/Programming/kubernetes/seldon/seldon-core/examples/kubeflow/kubeflow-seldon/ks_app/components/tensorboard.jsonnet'\" filename=\"component/create.go:92\"\n",
      "time=\"2019-05-28T11:43:56+01:00\" level=info msg=\"Creating Component: tf-job-operator ...\" filename=\"ksonnet/ksonnet.go:207\"\n",
      "time=\"2019-05-28T11:43:56+01:00\" level=info msg=\"Args: [tf-job-operator tf-job-operator]\" filename=\"ksonnet/ksonnet.go:208\"\n",
      "time=\"2019-05-28T11:43:56+01:00\" level=info msg=\"Writing component at '/home/alejandro/Programming/kubernetes/seldon/seldon-core/examples/kubeflow/kubeflow-seldon/ks_app/components/tf-job-operator.jsonnet'\" filename=\"component/create.go:92\"\n",
      "time=\"2019-05-28T11:43:56+01:00\" level=info msg=\"deploying kubeflow application\" filename=\"cmd/apply.go:35\"\n",
      "time=\"2019-05-28T11:43:56+01:00\" level=info msg=\"reading from /home/alejandro/Programming/kubernetes/seldon/seldon-core/examples/kubeflow/kubeflow-seldon/app.yaml\" filename=\"coordinator/coordinator.go:341\"\n",
      "time=\"2019-05-28T11:43:56+01:00\" level=info msg=\"reading from /home/alejandro/Programming/kubernetes/seldon/seldon-core/examples/kubeflow/kubeflow-seldon/app.yaml\" filename=\"coordinator/coordinator.go:341\"\n",
      "time=\"2019-05-28T11:43:56+01:00\" level=info msg=\"namespace: kubeflow\" filename=\"ksonnet/ksonnet.go:109\"\n",
      "time=\"2019-05-28T11:43:56+01:00\" level=info msg=\"Creating namespace: kubeflow\" filename=\"ksonnet/ksonnet.go:112\"\n",
      "time=\"2019-05-28T11:44:09+01:00\" level=info msg=\"Applying services kubeflow.ambassador\" filename=\"cluster/upsert.go:73\"\n",
      "time=\"2019-05-28T11:44:09+01:00\" level=info msg=\"Creating non-existent services kubeflow.ambassador\" filename=\"cluster/upsert.go:92\"\n",
      "time=\"2019-05-28T11:44:09+01:00\" level=info msg=\"Applying services kubeflow.ambassador-admin\" filename=\"cluster/upsert.go:73\"\n",
      "time=\"2019-05-28T11:44:09+01:00\" level=info msg=\"Creating non-existent services kubeflow.ambassador-admin\" filename=\"cluster/upsert.go:92\"\n",
      "time=\"2019-05-28T11:44:09+01:00\" level=info msg=\"Applying clusterroles ambassador\" filename=\"cluster/upsert.go:73\"\n",
      "time=\"2019-05-28T11:44:09+01:00\" level=info msg=\"Applying serviceaccounts kubeflow.ambassador\" filename=\"cluster/upsert.go:73\"\n",
      "time=\"2019-05-28T11:44:09+01:00\" level=info msg=\"Creating non-existent serviceaccounts kubeflow.ambassador\" filename=\"cluster/upsert.go:92\"\n",
      "time=\"2019-05-28T11:44:09+01:00\" level=info msg=\"Applying clusterrolebindings ambassador\" filename=\"cluster/upsert.go:73\"\n",
      "time=\"2019-05-28T11:44:09+01:00\" level=info msg=\"Applying deployments kubeflow.ambassador\" filename=\"cluster/upsert.go:73\"\n",
      "time=\"2019-05-28T11:44:09+01:00\" level=info msg=\"Creating non-existent deployments kubeflow.ambassador\" filename=\"cluster/upsert.go:92\"\n",
      "time=\"2019-05-28T11:44:09+01:00\" level=info msg=\"Component ambassador apply succeeded\" filename=\"ksonnet/ksonnet.go:171\"\n",
      "time=\"2019-05-28T11:44:21+01:00\" level=info msg=\"Applying customresourcedefinitions workflows.argoproj.io\" filename=\"cluster/upsert.go:73\"\n",
      "time=\"2019-05-28T11:44:21+01:00\" level=info msg=\"Creating non-existent customresourcedefinitions workflows.argoproj.io\" filename=\"cluster/upsert.go:92\"\n",
      "time=\"2019-05-28T11:44:25+01:00\" level=info msg=\"Applying clusterrolebindings argo\" filename=\"cluster/upsert.go:73\"\n",
      "time=\"2019-05-28T11:44:25+01:00\" level=info msg=\"Applying serviceaccounts kubeflow.argo-ui\" filename=\"cluster/upsert.go:73\"\n",
      "time=\"2019-05-28T11:44:25+01:00\" level=info msg=\"Creating non-existent serviceaccounts kubeflow.argo-ui\" filename=\"cluster/upsert.go:92\"\n",
      "time=\"2019-05-28T11:44:26+01:00\" level=info msg=\"Applying services kubeflow.argo-ui\" filename=\"cluster/upsert.go:73\"\n",
      "time=\"2019-05-28T11:44:26+01:00\" level=info msg=\"Creating non-existent services kubeflow.argo-ui\" filename=\"cluster/upsert.go:92\"\n",
      "time=\"2019-05-28T11:44:26+01:00\" level=info msg=\"Applying configmaps kubeflow.workflow-controller-configmap\" filename=\"cluster/upsert.go:73\"\n",
      "time=\"2019-05-28T11:44:26+01:00\" level=info msg=\"Creating non-existent configmaps kubeflow.workflow-controller-configmap\" filename=\"cluster/upsert.go:92\"\n",
      "time=\"2019-05-28T11:44:26+01:00\" level=info msg=\"Applying serviceaccounts kubeflow.argo\" filename=\"cluster/upsert.go:73\"\n",
      "time=\"2019-05-28T11:44:26+01:00\" level=info msg=\"Creating non-existent serviceaccounts kubeflow.argo\" filename=\"cluster/upsert.go:92\"\n",
      "time=\"2019-05-28T11:44:26+01:00\" level=info msg=\"Applying clusterroles argo\" filename=\"cluster/upsert.go:73\"\n",
      "time=\"2019-05-28T11:44:26+01:00\" level=info msg=\"Applying clusterroles argo-ui\" filename=\"cluster/upsert.go:73\"\n",
      "time=\"2019-05-28T11:44:26+01:00\" level=info msg=\"Applying clusterrolebindings argo-ui\" filename=\"cluster/upsert.go:73\"\n",
      "time=\"2019-05-28T11:44:26+01:00\" level=info msg=\"Applying deployments kubeflow.workflow-controller\" filename=\"cluster/upsert.go:73\"\n",
      "time=\"2019-05-28T11:44:26+01:00\" level=info msg=\"Creating non-existent deployments kubeflow.workflow-controller\" filename=\"cluster/upsert.go:92\"\n",
      "time=\"2019-05-28T11:44:26+01:00\" level=info msg=\"Applying deployments kubeflow.argo-ui\" filename=\"cluster/upsert.go:73\"\n",
      "time=\"2019-05-28T11:44:26+01:00\" level=info msg=\"Creating non-existent deployments kubeflow.argo-ui\" filename=\"cluster/upsert.go:92\"\n",
      "time=\"2019-05-28T11:44:27+01:00\" level=info msg=\"Component argo apply succeeded\" filename=\"ksonnet/ksonnet.go:171\"\n",
      "time=\"2019-05-28T11:44:38+01:00\" level=info msg=\"Applying clusterrolebindings centraldashboard\" filename=\"cluster/upsert.go:73\"\n",
      "time=\"2019-05-28T11:44:38+01:00\" level=info msg=\"Applying services kubeflow.centraldashboard\" filename=\"cluster/upsert.go:73\"\n",
      "time=\"2019-05-28T11:44:38+01:00\" level=info msg=\"Creating non-existent services kubeflow.centraldashboard\" filename=\"cluster/upsert.go:92\"\n",
      "time=\"2019-05-28T11:44:38+01:00\" level=info msg=\"Applying serviceaccounts kubeflow.centraldashboard\" filename=\"cluster/upsert.go:73\"\n",
      "time=\"2019-05-28T11:44:38+01:00\" level=info msg=\"Creating non-existent serviceaccounts kubeflow.centraldashboard\" filename=\"cluster/upsert.go:92\"\n",
      "time=\"2019-05-28T11:44:38+01:00\" level=info msg=\"Applying roles kubeflow.centraldashboard\" filename=\"cluster/upsert.go:73\"\n",
      "time=\"2019-05-28T11:44:38+01:00\" level=info msg=\"Creating non-existent roles kubeflow.centraldashboard\" filename=\"cluster/upsert.go:92\"\n",
      "time=\"2019-05-28T11:44:38+01:00\" level=info msg=\"Applying rolebindings kubeflow.centraldashboard\" filename=\"cluster/upsert.go:73\"\n",
      "time=\"2019-05-28T11:44:38+01:00\" level=info msg=\"Creating non-existent rolebindings kubeflow.centraldashboard\" filename=\"cluster/upsert.go:92\"\n",
      "time=\"2019-05-28T11:44:39+01:00\" level=info msg=\"Applying clusterroles centraldashboard\" filename=\"cluster/upsert.go:73\"\n",
      "time=\"2019-05-28T11:44:39+01:00\" level=info msg=\"Applying deployments kubeflow.centraldashboard\" filename=\"cluster/upsert.go:73\"\n",
      "time=\"2019-05-28T11:44:39+01:00\" level=info msg=\"Creating non-existent deployments kubeflow.centraldashboard\" filename=\"cluster/upsert.go:92\"\n",
      "time=\"2019-05-28T11:44:39+01:00\" level=info msg=\"Component centraldashboard apply succeeded\" filename=\"ksonnet/ksonnet.go:171\"\n",
      "time=\"2019-05-28T11:44:50+01:00\" level=info msg=\"Applying services kubeflow.jupyter-web-app\" filename=\"cluster/upsert.go:73\"\n",
      "time=\"2019-05-28T11:44:50+01:00\" level=info msg=\"Creating non-existent services kubeflow.jupyter-web-app\" filename=\"cluster/upsert.go:92\"\n",
      "time=\"2019-05-28T11:44:50+01:00\" level=info msg=\"Applying deployments kubeflow.jupyter-web-app\" filename=\"cluster/upsert.go:73\"\n",
      "time=\"2019-05-28T11:44:50+01:00\" level=info msg=\"Creating non-existent deployments kubeflow.jupyter-web-app\" filename=\"cluster/upsert.go:92\"\n",
      "time=\"2019-05-28T11:44:50+01:00\" level=info msg=\"Applying configmaps kubeflow.jupyter-web-app-config\" filename=\"cluster/upsert.go:73\"\n",
      "time=\"2019-05-28T11:44:50+01:00\" level=info msg=\"Creating non-existent configmaps kubeflow.jupyter-web-app-config\" filename=\"cluster/upsert.go:92\"\n",
      "time=\"2019-05-28T11:44:50+01:00\" level=info msg=\"Applying serviceaccounts kubeflow.jupyter-web-app\" filename=\"cluster/upsert.go:73\"\n",
      "time=\"2019-05-28T11:44:50+01:00\" level=info msg=\"Creating non-existent serviceaccounts kubeflow.jupyter-web-app\" filename=\"cluster/upsert.go:92\"\n",
      "time=\"2019-05-28T11:44:50+01:00\" level=info msg=\"Applying clusterrolebindings jupyter-web-app-binding\" filename=\"cluster/upsert.go:73\"\n",
      "time=\"2019-05-28T11:44:51+01:00\" level=info msg=\"Applying clusterroles jupyter-web-app-cluster-role\" filename=\"cluster/upsert.go:73\"\n",
      "time=\"2019-05-28T11:44:51+01:00\" level=info msg=\"Applying serviceaccounts kubeflow.jupyter-notebook\" filename=\"cluster/upsert.go:73\"\n",
      "time=\"2019-05-28T11:44:51+01:00\" level=info msg=\"Creating non-existent serviceaccounts kubeflow.jupyter-notebook\" filename=\"cluster/upsert.go:92\"\n",
      "time=\"2019-05-28T11:44:51+01:00\" level=info msg=\"Applying roles kubeflow.jupyter-notebook-role\" filename=\"cluster/upsert.go:73\"\n",
      "time=\"2019-05-28T11:44:51+01:00\" level=info msg=\"Creating non-existent roles kubeflow.jupyter-notebook-role\" filename=\"cluster/upsert.go:92\"\n",
      "time=\"2019-05-28T11:44:51+01:00\" level=info msg=\"Applying rolebindings kubeflow.jupyter-notebook-role-binding\" filename=\"cluster/upsert.go:73\"\n",
      "time=\"2019-05-28T11:44:51+01:00\" level=info msg=\"Creating non-existent rolebindings kubeflow.jupyter-notebook-role-binding\" filename=\"cluster/upsert.go:92\"\n",
      "time=\"2019-05-28T11:44:51+01:00\" level=info msg=\"Component jupyter-web-app apply succeeded\" filename=\"ksonnet/ksonnet.go:171\"\n",
      "time=\"2019-05-28T11:45:01+01:00\" level=info msg=\"Applying clusterroles metrics-collector\" filename=\"cluster/upsert.go:73\"\n",
      "time=\"2019-05-28T11:45:01+01:00\" level=info msg=\"Applying services kubeflow.studyjob-controller\" filename=\"cluster/upsert.go:73\"\n",
      "time=\"2019-05-28T11:45:01+01:00\" level=info msg=\"Creating non-existent services kubeflow.studyjob-controller\" filename=\"cluster/upsert.go:92\"\n",
      "time=\"2019-05-28T11:45:01+01:00\" level=info msg=\"Applying services kubeflow.vizier-db\" filename=\"cluster/upsert.go:73\"\n",
      "time=\"2019-05-28T11:45:01+01:00\" level=info msg=\"Creating non-existent services kubeflow.vizier-db\" filename=\"cluster/upsert.go:92\"\n",
      "time=\"2019-05-28T11:45:01+01:00\" level=info msg=\"Applying persistentvolumeclaims kubeflow.katib-mysql\" filename=\"cluster/upsert.go:73\"\n",
      "time=\"2019-05-28T11:45:01+01:00\" level=info msg=\"Creating non-existent persistentvolumeclaims kubeflow.katib-mysql\" filename=\"cluster/upsert.go:92\"\n",
      "time=\"2019-05-28T11:45:02+01:00\" level=info msg=\"Applying clusterrolebindings studyjob-controller\" filename=\"cluster/upsert.go:73\"\n",
      "time=\"2019-05-28T11:45:02+01:00\" level=info msg=\"Applying secrets kubeflow.vizier-db-secrets\" filename=\"cluster/upsert.go:73\"\n",
      "time=\"2019-05-28T11:45:02+01:00\" level=info msg=\"Creating non-existent secrets kubeflow.vizier-db-secrets\" filename=\"cluster/upsert.go:92\"\n",
      "time=\"2019-05-28T11:45:02+01:00\" level=info msg=\"Applying clusterroles vizier-core\" filename=\"cluster/upsert.go:73\"\n",
      "time=\"2019-05-28T11:45:02+01:00\" level=info msg=\"Applying clusterrolebindings vizier-core\" filename=\"cluster/upsert.go:73\"\n",
      "time=\"2019-05-28T11:45:02+01:00\" level=info msg=\"Applying serviceaccounts kubeflow.vizier-core\" filename=\"cluster/upsert.go:73\"\n",
      "time=\"2019-05-28T11:45:02+01:00\" level=info msg=\"Creating non-existent serviceaccounts kubeflow.vizier-core\" filename=\"cluster/upsert.go:92\"\n",
      "time=\"2019-05-28T11:45:02+01:00\" level=info msg=\"Applying services kubeflow.vizier-core-rest\" filename=\"cluster/upsert.go:73\"\n",
      "time=\"2019-05-28T11:45:02+01:00\" level=info msg=\"Creating non-existent services kubeflow.vizier-core-rest\" filename=\"cluster/upsert.go:92\"\n",
      "time=\"2019-05-28T11:45:02+01:00\" level=info msg=\"Applying serviceaccounts kubeflow.studyjob-controller\" filename=\"cluster/upsert.go:73\"\n",
      "time=\"2019-05-28T11:45:02+01:00\" level=info msg=\"Creating non-existent serviceaccounts kubeflow.studyjob-controller\" filename=\"cluster/upsert.go:92\"\n",
      "time=\"2019-05-28T11:45:02+01:00\" level=info msg=\"Applying services kubeflow.katib-ui\" filename=\"cluster/upsert.go:73\"\n",
      "time=\"2019-05-28T11:45:02+01:00\" level=info msg=\"Creating non-existent services kubeflow.katib-ui\" filename=\"cluster/upsert.go:92\"\n",
      "time=\"2019-05-28T11:45:03+01:00\" level=info msg=\"Applying clusterroles studyjob-controller\" filename=\"cluster/upsert.go:73\"\n",
      "time=\"2019-05-28T11:45:03+01:00\" level=info msg=\"Applying clusterroles katib-ui\" filename=\"cluster/upsert.go:73\"\n",
      "time=\"2019-05-28T11:45:03+01:00\" level=info msg=\"Applying clusterrolebindings katib-ui\" filename=\"cluster/upsert.go:73\"\n",
      "time=\"2019-05-28T11:45:03+01:00\" level=info msg=\"Applying serviceaccounts kubeflow.katib-ui\" filename=\"cluster/upsert.go:73\"\n",
      "time=\"2019-05-28T11:45:03+01:00\" level=info msg=\"Creating non-existent serviceaccounts kubeflow.katib-ui\" filename=\"cluster/upsert.go:92\"\n",
      "time=\"2019-05-28T11:45:03+01:00\" level=info msg=\"Applying services kubeflow.vizier-suggestion-random\" filename=\"cluster/upsert.go:73\"\n",
      "time=\"2019-05-28T11:45:03+01:00\" level=info msg=\"Creating non-existent services kubeflow.vizier-suggestion-random\" filename=\"cluster/upsert.go:92\"\n",
      "time=\"2019-05-28T11:45:04+01:00\" level=info msg=\"Applying services kubeflow.vizier-core\" filename=\"cluster/upsert.go:73\"\n",
      "time=\"2019-05-28T11:45:04+01:00\" level=info msg=\"Creating non-existent services kubeflow.vizier-core\" filename=\"cluster/upsert.go:92\"\n",
      "time=\"2019-05-28T11:45:04+01:00\" level=info msg=\"Applying services kubeflow.vizier-suggestion-grid\" filename=\"cluster/upsert.go:73\"\n",
      "time=\"2019-05-28T11:45:04+01:00\" level=info msg=\"Creating non-existent services kubeflow.vizier-suggestion-grid\" filename=\"cluster/upsert.go:92\"\n",
      "time=\"2019-05-28T11:45:04+01:00\" level=info msg=\"Applying configmaps kubeflow.metricscollector-template\" filename=\"cluster/upsert.go:73\"\n",
      "time=\"2019-05-28T11:45:04+01:00\" level=info msg=\"Creating non-existent configmaps kubeflow.metricscollector-template\" filename=\"cluster/upsert.go:92\"\n",
      "time=\"2019-05-28T11:45:05+01:00\" level=info msg=\"Applying services kubeflow.vizier-suggestion-hyperband\" filename=\"cluster/upsert.go:73\"\n",
      "time=\"2019-05-28T11:45:05+01:00\" level=info msg=\"Creating non-existent services kubeflow.vizier-suggestion-hyperband\" filename=\"cluster/upsert.go:92\"\n",
      "time=\"2019-05-28T11:45:05+01:00\" level=info msg=\"Applying clusterrolebindings metrics-collector\" filename=\"cluster/upsert.go:73\"\n",
      "time=\"2019-05-28T11:45:05+01:00\" level=info msg=\"Applying services kubeflow.vizier-suggestion-bayesianoptimization\" filename=\"cluster/upsert.go:73\"\n",
      "time=\"2019-05-28T11:45:05+01:00\" level=info msg=\"Creating non-existent services kubeflow.vizier-suggestion-bayesianoptimization\" filename=\"cluster/upsert.go:92\"\n",
      "time=\"2019-05-28T11:45:05+01:00\" level=info msg=\"Applying serviceaccounts kubeflow.metrics-collector\" filename=\"cluster/upsert.go:73\"\n",
      "time=\"2019-05-28T11:45:06+01:00\" level=info msg=\"Creating non-existent serviceaccounts kubeflow.metrics-collector\" filename=\"cluster/upsert.go:92\"\n",
      "time=\"2019-05-28T11:45:06+01:00\" level=info msg=\"Applying customresourcedefinitions studyjobs.kubeflow.org\" filename=\"cluster/upsert.go:73\"\n",
      "time=\"2019-05-28T11:45:06+01:00\" level=info msg=\"Applying configmaps kubeflow.worker-template\" filename=\"cluster/upsert.go:73\"\n",
      "time=\"2019-05-28T11:45:06+01:00\" level=info msg=\"Creating non-existent configmaps kubeflow.worker-template\" filename=\"cluster/upsert.go:92\"\n",
      "time=\"2019-05-28T11:45:06+01:00\" level=info msg=\"Applying deployments kubeflow.vizier-suggestion-bayesianoptimization\" filename=\"cluster/upsert.go:73\"\n",
      "time=\"2019-05-28T11:45:06+01:00\" level=info msg=\"Creating non-existent deployments kubeflow.vizier-suggestion-bayesianoptimization\" filename=\"cluster/upsert.go:92\"\n",
      "time=\"2019-05-28T11:45:06+01:00\" level=info msg=\"Applying deployments kubeflow.vizier-suggestion-hyperband\" filename=\"cluster/upsert.go:73\"\n",
      "time=\"2019-05-28T11:45:06+01:00\" level=info msg=\"Creating non-existent deployments kubeflow.vizier-suggestion-hyperband\" filename=\"cluster/upsert.go:92\"\n",
      "time=\"2019-05-28T11:45:06+01:00\" level=info msg=\"Applying deployments kubeflow.vizier-suggestion-grid\" filename=\"cluster/upsert.go:73\"\n",
      "time=\"2019-05-28T11:45:06+01:00\" level=info msg=\"Creating non-existent deployments kubeflow.vizier-suggestion-grid\" filename=\"cluster/upsert.go:92\"\n",
      "time=\"2019-05-28T11:45:07+01:00\" level=info msg=\"Applying deployments kubeflow.katib-ui\" filename=\"cluster/upsert.go:73\"\n",
      "time=\"2019-05-28T11:45:07+01:00\" level=info msg=\"Creating non-existent deployments kubeflow.katib-ui\" filename=\"cluster/upsert.go:92\"\n",
      "time=\"2019-05-28T11:45:07+01:00\" level=info msg=\"Applying deployments kubeflow.vizier-core-rest\" filename=\"cluster/upsert.go:73\"\n",
      "time=\"2019-05-28T11:45:07+01:00\" level=info msg=\"Creating non-existent deployments kubeflow.vizier-core-rest\" filename=\"cluster/upsert.go:92\"\n",
      "time=\"2019-05-28T11:45:07+01:00\" level=info msg=\"Applying deployments kubeflow.vizier-db\" filename=\"cluster/upsert.go:73\"\n",
      "time=\"2019-05-28T11:45:07+01:00\" level=info msg=\"Creating non-existent deployments kubeflow.vizier-db\" filename=\"cluster/upsert.go:92\"\n",
      "time=\"2019-05-28T11:45:07+01:00\" level=info msg=\"Applying deployments kubeflow.studyjob-controller\" filename=\"cluster/upsert.go:73\"\n",
      "time=\"2019-05-28T11:45:07+01:00\" level=info msg=\"Creating non-existent deployments kubeflow.studyjob-controller\" filename=\"cluster/upsert.go:92\"\n",
      "time=\"2019-05-28T11:45:07+01:00\" level=info msg=\"Applying deployments kubeflow.vizier-core\" filename=\"cluster/upsert.go:73\"\n",
      "time=\"2019-05-28T11:45:07+01:00\" level=info msg=\"Creating non-existent deployments kubeflow.vizier-core\" filename=\"cluster/upsert.go:92\"\n",
      "time=\"2019-05-28T11:45:08+01:00\" level=info msg=\"Applying deployments kubeflow.vizier-suggestion-random\" filename=\"cluster/upsert.go:73\"\n",
      "time=\"2019-05-28T11:45:08+01:00\" level=info msg=\"Creating non-existent deployments kubeflow.vizier-suggestion-random\" filename=\"cluster/upsert.go:92\"\n",
      "time=\"2019-05-28T11:45:08+01:00\" level=info msg=\"Component katib apply succeeded\" filename=\"ksonnet/ksonnet.go:171\"\n",
      "time=\"2019-05-28T11:45:20+01:00\" level=info msg=\"Applying customresourcedefinitions compositecontrollers.metacontroller.k8s.io\" filename=\"cluster/upsert.go:73\"\n",
      "time=\"2019-05-28T11:45:20+01:00\" level=info msg=\"Creating non-existent customresourcedefinitions compositecontrollers.metacontroller.k8s.io\" filename=\"cluster/upsert.go:92\"\n",
      "time=\"2019-05-28T11:45:20+01:00\" level=info msg=\"Applying customresourcedefinitions controllerrevisions.metacontroller.k8s.io\" filename=\"cluster/upsert.go:73\"\n",
      "time=\"2019-05-28T11:45:20+01:00\" level=info msg=\"Creating non-existent customresourcedefinitions controllerrevisions.metacontroller.k8s.io\" filename=\"cluster/upsert.go:92\"\n",
      "time=\"2019-05-28T11:45:20+01:00\" level=info msg=\"Applying customresourcedefinitions decoratorcontrollers.metacontroller.k8s.io\" filename=\"cluster/upsert.go:73\"\n",
      "time=\"2019-05-28T11:45:20+01:00\" level=info msg=\"Creating non-existent customresourcedefinitions decoratorcontrollers.metacontroller.k8s.io\" filename=\"cluster/upsert.go:92\"\n",
      "time=\"2019-05-28T11:45:20+01:00\" level=info msg=\"Applying serviceaccounts kubeflow.meta-controller-service\" filename=\"cluster/upsert.go:73\"\n",
      "time=\"2019-05-28T11:45:20+01:00\" level=info msg=\"Creating non-existent serviceaccounts kubeflow.meta-controller-service\" filename=\"cluster/upsert.go:92\"\n",
      "time=\"2019-05-28T11:45:20+01:00\" level=info msg=\"Applying clusterrolebindings meta-controller-cluster-role-binding\" filename=\"cluster/upsert.go:73\"\n",
      "time=\"2019-05-28T11:45:20+01:00\" level=info msg=\"Creating non-existent clusterrolebindings meta-controller-cluster-role-binding\" filename=\"cluster/upsert.go:92\"\n",
      "time=\"2019-05-28T11:45:20+01:00\" level=info msg=\"Applying statefulsets kubeflow.metacontroller\" filename=\"cluster/upsert.go:73\"\n",
      "time=\"2019-05-28T11:45:20+01:00\" level=info msg=\"Creating non-existent statefulsets kubeflow.metacontroller\" filename=\"cluster/upsert.go:92\"\n",
      "time=\"2019-05-28T11:45:20+01:00\" level=info msg=\"Component metacontroller apply succeeded\" filename=\"ksonnet/ksonnet.go:171\"\n",
      "time=\"2019-05-28T11:45:32+01:00\" level=info msg=\"Applying customresourcedefinitions notebooks.kubeflow.org\" filename=\"cluster/upsert.go:73\"\n",
      "time=\"2019-05-28T11:45:32+01:00\" level=info msg=\"Applying services kubeflow.notebooks-controller\" filename=\"cluster/upsert.go:73\"\n",
      "time=\"2019-05-28T11:45:32+01:00\" level=info msg=\"Creating non-existent services kubeflow.notebooks-controller\" filename=\"cluster/upsert.go:92\"\n",
      "time=\"2019-05-28T11:45:32+01:00\" level=info msg=\"Applying serviceaccounts kubeflow.notebook-controller\" filename=\"cluster/upsert.go:73\"\n",
      "time=\"2019-05-28T11:45:32+01:00\" level=info msg=\"Creating non-existent serviceaccounts kubeflow.notebook-controller\" filename=\"cluster/upsert.go:92\"\n",
      "time=\"2019-05-28T11:45:32+01:00\" level=info msg=\"Applying deployments kubeflow.notebooks-controller\" filename=\"cluster/upsert.go:73\"\n",
      "time=\"2019-05-28T11:45:32+01:00\" level=info msg=\"Creating non-existent deployments kubeflow.notebooks-controller\" filename=\"cluster/upsert.go:92\"\n",
      "time=\"2019-05-28T11:45:32+01:00\" level=info msg=\"Applying clusterroles notebooks-controller\" filename=\"cluster/upsert.go:73\"\n",
      "time=\"2019-05-28T11:45:32+01:00\" level=info msg=\"Applying clusterrolebindings notebooks-controller\" filename=\"cluster/upsert.go:73\"\n",
      "time=\"2019-05-28T11:45:32+01:00\" level=info msg=\"Component notebook-controller apply succeeded\" filename=\"ksonnet/ksonnet.go:171\"\n",
      "time=\"2019-05-28T11:45:43+01:00\" level=info msg=\"Applying services kubeflow.minio-service\" filename=\"cluster/upsert.go:73\"\n",
      "time=\"2019-05-28T11:45:43+01:00\" level=info msg=\"Creating non-existent services kubeflow.minio-service\" filename=\"cluster/upsert.go:92\"\n",
      "time=\"2019-05-28T11:45:43+01:00\" level=info msg=\"Applying deployments kubeflow.minio\" filename=\"cluster/upsert.go:73\"\n",
      "time=\"2019-05-28T11:45:43+01:00\" level=info msg=\"Creating non-existent deployments kubeflow.minio\" filename=\"cluster/upsert.go:92\"\n",
      "time=\"2019-05-28T11:45:43+01:00\" level=info msg=\"Applying secrets kubeflow.mlpipeline-minio-artifact\" filename=\"cluster/upsert.go:73\"\n",
      "time=\"2019-05-28T11:45:43+01:00\" level=info msg=\"Creating non-existent secrets kubeflow.mlpipeline-minio-artifact\" filename=\"cluster/upsert.go:92\"\n",
      "time=\"2019-05-28T11:45:43+01:00\" level=info msg=\"Applying services kubeflow.mysql\" filename=\"cluster/upsert.go:73\"\n",
      "time=\"2019-05-28T11:45:43+01:00\" level=info msg=\"Creating non-existent services kubeflow.mysql\" filename=\"cluster/upsert.go:92\"\n",
      "time=\"2019-05-28T11:45:43+01:00\" level=info msg=\"Applying deployments kubeflow.mysql\" filename=\"cluster/upsert.go:73\"\n",
      "time=\"2019-05-28T11:45:43+01:00\" level=info msg=\"Creating non-existent deployments kubeflow.mysql\" filename=\"cluster/upsert.go:92\"\n",
      "time=\"2019-05-28T11:45:43+01:00\" level=info msg=\"Applying serviceaccounts kubeflow.ml-pipeline\" filename=\"cluster/upsert.go:73\"\n",
      "time=\"2019-05-28T11:45:43+01:00\" level=info msg=\"Creating non-existent serviceaccounts kubeflow.ml-pipeline\" filename=\"cluster/upsert.go:92\"\n",
      "time=\"2019-05-28T11:45:43+01:00\" level=info msg=\"Applying rolebindings kubeflow.ml-pipeline\" filename=\"cluster/upsert.go:73\"\n",
      "time=\"2019-05-28T11:45:43+01:00\" level=info msg=\"Creating non-existent rolebindings kubeflow.ml-pipeline\" filename=\"cluster/upsert.go:92\"\n",
      "time=\"2019-05-28T11:45:43+01:00\" level=info msg=\"Applying roles kubeflow.ml-pipeline\" filename=\"cluster/upsert.go:73\"\n",
      "time=\"2019-05-28T11:45:43+01:00\" level=info msg=\"Creating non-existent roles kubeflow.ml-pipeline\" filename=\"cluster/upsert.go:92\"\n",
      "time=\"2019-05-28T11:45:43+01:00\" level=info msg=\"Applying services kubeflow.ml-pipeline\" filename=\"cluster/upsert.go:73\"\n",
      "time=\"2019-05-28T11:45:43+01:00\" level=info msg=\"Creating non-existent services kubeflow.ml-pipeline\" filename=\"cluster/upsert.go:92\"\n",
      "time=\"2019-05-28T11:45:43+01:00\" level=info msg=\"Applying deployments kubeflow.ml-pipeline\" filename=\"cluster/upsert.go:73\"\n",
      "time=\"2019-05-28T11:45:43+01:00\" level=info msg=\"Creating non-existent deployments kubeflow.ml-pipeline\" filename=\"cluster/upsert.go:92\"\n",
      "time=\"2019-05-28T11:45:43+01:00\" level=info msg=\"Applying serviceaccounts kubeflow.pipeline-runner\" filename=\"cluster/upsert.go:73\"\n",
      "time=\"2019-05-28T11:45:43+01:00\" level=info msg=\"Creating non-existent serviceaccounts kubeflow.pipeline-runner\" filename=\"cluster/upsert.go:92\"\n",
      "time=\"2019-05-28T11:45:43+01:00\" level=info msg=\"Applying clusterroles pipeline-runner\" filename=\"cluster/upsert.go:73\"\n",
      "time=\"2019-05-28T11:45:44+01:00\" level=info msg=\"Applying clusterrolebindings pipeline-runner\" filename=\"cluster/upsert.go:73\"\n",
      "time=\"2019-05-28T11:45:44+01:00\" level=info msg=\"Applying serviceaccounts kubeflow.ml-pipeline-scheduledworkflow\" filename=\"cluster/upsert.go:73\"\n",
      "time=\"2019-05-28T11:45:44+01:00\" level=info msg=\"Creating non-existent serviceaccounts kubeflow.ml-pipeline-scheduledworkflow\" filename=\"cluster/upsert.go:92\"\n",
      "time=\"2019-05-28T11:45:44+01:00\" level=info msg=\"Applying clusterrolebindings ml-pipeline-scheduledworkflow\" filename=\"cluster/upsert.go:73\"\n",
      "time=\"2019-05-28T11:45:44+01:00\" level=info msg=\"Applying roles kubeflow.ml-pipeline-scheduledworkflow\" filename=\"cluster/upsert.go:73\"\n",
      "time=\"2019-05-28T11:45:44+01:00\" level=info msg=\"Creating non-existent roles kubeflow.ml-pipeline-scheduledworkflow\" filename=\"cluster/upsert.go:92\"\n",
      "time=\"2019-05-28T11:45:44+01:00\" level=info msg=\"Applying deployments kubeflow.ml-pipeline-scheduledworkflow\" filename=\"cluster/upsert.go:73\"\n",
      "time=\"2019-05-28T11:45:44+01:00\" level=info msg=\"Creating non-existent deployments kubeflow.ml-pipeline-scheduledworkflow\" filename=\"cluster/upsert.go:92\"\n",
      "time=\"2019-05-28T11:45:44+01:00\" level=info msg=\"Applying customresourcedefinitions scheduledworkflows.kubeflow.org\" filename=\"cluster/upsert.go:73\"\n",
      "time=\"2019-05-28T11:45:44+01:00\" level=info msg=\"Applying serviceaccounts kubeflow.ml-pipeline-persistenceagent\" filename=\"cluster/upsert.go:73\"\n",
      "time=\"2019-05-28T11:45:44+01:00\" level=info msg=\"Creating non-existent serviceaccounts kubeflow.ml-pipeline-persistenceagent\" filename=\"cluster/upsert.go:92\"\n",
      "time=\"2019-05-28T11:45:45+01:00\" level=info msg=\"Applying clusterrolebindings ml-pipeline-persistenceagent\" filename=\"cluster/upsert.go:73\"\n",
      "time=\"2019-05-28T11:45:45+01:00\" level=info msg=\"Applying clusterroles ml-pipeline-persistenceagent\" filename=\"cluster/upsert.go:73\"\n",
      "time=\"2019-05-28T11:45:45+01:00\" level=info msg=\"Applying deployments kubeflow.ml-pipeline-persistenceagent\" filename=\"cluster/upsert.go:73\"\n",
      "time=\"2019-05-28T11:45:45+01:00\" level=info msg=\"Creating non-existent deployments kubeflow.ml-pipeline-persistenceagent\" filename=\"cluster/upsert.go:92\"\n",
      "time=\"2019-05-28T11:45:45+01:00\" level=info msg=\"Applying serviceaccounts kubeflow.ml-pipeline-viewer-crd-service-account\" filename=\"cluster/upsert.go:73\"\n",
      "time=\"2019-05-28T11:45:45+01:00\" level=info msg=\"Creating non-existent serviceaccounts kubeflow.ml-pipeline-viewer-crd-service-account\" filename=\"cluster/upsert.go:92\"\n",
      "time=\"2019-05-28T11:45:45+01:00\" level=info msg=\"Applying clusterrolebindings ml-pipeline-viewer-crd-role-binding\" filename=\"cluster/upsert.go:73\"\n",
      "time=\"2019-05-28T11:45:45+01:00\" level=info msg=\"Applying clusterroles ml-pipeline-viewer-controller-role\" filename=\"cluster/upsert.go:73\"\n",
      "time=\"2019-05-28T11:45:45+01:00\" level=info msg=\"Applying deployments kubeflow.ml-pipeline-viewer-controller-deployment\" filename=\"cluster/upsert.go:73\"\n",
      "time=\"2019-05-28T11:45:45+01:00\" level=info msg=\"Creating non-existent deployments kubeflow.ml-pipeline-viewer-controller-deployment\" filename=\"cluster/upsert.go:92\"\n",
      "time=\"2019-05-28T11:45:46+01:00\" level=info msg=\"Applying customresourcedefinitions viewers.kubeflow.org\" filename=\"cluster/upsert.go:73\"\n",
      "time=\"2019-05-28T11:45:46+01:00\" level=info msg=\"Applying serviceaccounts kubeflow.ml-pipeline-ui\" filename=\"cluster/upsert.go:73\"\n",
      "time=\"2019-05-28T11:45:46+01:00\" level=info msg=\"Creating non-existent serviceaccounts kubeflow.ml-pipeline-ui\" filename=\"cluster/upsert.go:92\"\n",
      "time=\"2019-05-28T11:45:46+01:00\" level=info msg=\"Applying services kubeflow.ml-pipeline-ui\" filename=\"cluster/upsert.go:73\"\n",
      "time=\"2019-05-28T11:45:46+01:00\" level=info msg=\"Creating non-existent services kubeflow.ml-pipeline-ui\" filename=\"cluster/upsert.go:92\"\n",
      "time=\"2019-05-28T11:45:46+01:00\" level=info msg=\"Applying services kubeflow.ml-pipeline-tensorboard-ui\" filename=\"cluster/upsert.go:73\"\n",
      "time=\"2019-05-28T11:45:46+01:00\" level=info msg=\"Creating non-existent services kubeflow.ml-pipeline-tensorboard-ui\" filename=\"cluster/upsert.go:92\"\n",
      "time=\"2019-05-28T11:45:46+01:00\" level=info msg=\"Applying rolebindings kubeflow.ml-pipeline-ui\" filename=\"cluster/upsert.go:73\"\n",
      "time=\"2019-05-28T11:45:46+01:00\" level=info msg=\"Creating non-existent rolebindings kubeflow.ml-pipeline-ui\" filename=\"cluster/upsert.go:92\"\n",
      "time=\"2019-05-28T11:45:46+01:00\" level=info msg=\"Applying roles kubeflow.ml-pipeline-ui\" filename=\"cluster/upsert.go:73\"\n",
      "time=\"2019-05-28T11:45:46+01:00\" level=info msg=\"Creating non-existent roles kubeflow.ml-pipeline-ui\" filename=\"cluster/upsert.go:92\"\n",
      "time=\"2019-05-28T11:45:46+01:00\" level=info msg=\"Applying deployments kubeflow.ml-pipeline-ui\" filename=\"cluster/upsert.go:73\"\n",
      "time=\"2019-05-28T11:45:46+01:00\" level=info msg=\"Creating non-existent deployments kubeflow.ml-pipeline-ui\" filename=\"cluster/upsert.go:92\"\n",
      "time=\"2019-05-28T11:45:46+01:00\" level=info msg=\"Applying persistentvolumeclaims kubeflow.mysql-pv-claim\" filename=\"cluster/upsert.go:73\"\n",
      "time=\"2019-05-28T11:45:46+01:00\" level=info msg=\"Creating non-existent persistentvolumeclaims kubeflow.mysql-pv-claim\" filename=\"cluster/upsert.go:92\"\n",
      "time=\"2019-05-28T11:45:46+01:00\" level=info msg=\"Applying persistentvolumeclaims kubeflow.minio-pvc\" filename=\"cluster/upsert.go:73\"\n",
      "time=\"2019-05-28T11:45:46+01:00\" level=info msg=\"Creating non-existent persistentvolumeclaims kubeflow.minio-pvc\" filename=\"cluster/upsert.go:92\"\n",
      "time=\"2019-05-28T11:45:46+01:00\" level=info msg=\"Component pipeline apply succeeded\" filename=\"ksonnet/ksonnet.go:171\"\n",
      "time=\"2019-05-28T11:46:00+01:00\" level=info msg=\"Applying configmaps kubeflow.pytorch-operator-config\" filename=\"cluster/upsert.go:73\"\n",
      "time=\"2019-05-28T11:46:00+01:00\" level=info msg=\"Creating non-existent configmaps kubeflow.pytorch-operator-config\" filename=\"cluster/upsert.go:92\"\n",
      "time=\"2019-05-28T11:46:00+01:00\" level=info msg=\"Applying serviceaccounts kubeflow.pytorch-operator\" filename=\"cluster/upsert.go:73\"\n",
      "time=\"2019-05-28T11:46:00+01:00\" level=info msg=\"Creating non-existent serviceaccounts kubeflow.pytorch-operator\" filename=\"cluster/upsert.go:92\"\n",
      "time=\"2019-05-28T11:46:00+01:00\" level=info msg=\"Applying clusterroles pytorch-operator\" filename=\"cluster/upsert.go:73\"\n",
      "time=\"2019-05-28T11:46:00+01:00\" level=info msg=\"Applying clusterrolebindings pytorch-operator\" filename=\"cluster/upsert.go:73\"\n",
      "time=\"2019-05-28T11:46:01+01:00\" level=info msg=\"Applying customresourcedefinitions pytorchjobs.kubeflow.org\" filename=\"cluster/upsert.go:73\"\n",
      "time=\"2019-05-28T11:46:01+01:00\" level=info msg=\"Applying deployments kubeflow.pytorch-operator\" filename=\"cluster/upsert.go:73\"\n",
      "time=\"2019-05-28T11:46:01+01:00\" level=info msg=\"Creating non-existent deployments kubeflow.pytorch-operator\" filename=\"cluster/upsert.go:92\"\n",
      "time=\"2019-05-28T11:46:01+01:00\" level=info msg=\"Component pytorch-operator apply succeeded\" filename=\"ksonnet/ksonnet.go:171\"\n",
      "time=\"2019-05-28T11:46:12+01:00\" level=info msg=\"Applying services kubeflow.tensorboard\" filename=\"cluster/upsert.go:73\"\n",
      "time=\"2019-05-28T11:46:12+01:00\" level=info msg=\"Creating non-existent services kubeflow.tensorboard\" filename=\"cluster/upsert.go:92\"\n",
      "time=\"2019-05-28T11:46:12+01:00\" level=info msg=\"Applying deployments kubeflow.tensorboard\" filename=\"cluster/upsert.go:73\"\n",
      "time=\"2019-05-28T11:46:12+01:00\" level=info msg=\"Creating non-existent deployments kubeflow.tensorboard\" filename=\"cluster/upsert.go:92\"\n",
      "time=\"2019-05-28T11:46:12+01:00\" level=info msg=\"Component tensorboard apply succeeded\" filename=\"ksonnet/ksonnet.go:171\"\n",
      "time=\"2019-05-28T11:46:25+01:00\" level=info msg=\"Applying customresourcedefinitions tfjobs.kubeflow.org\" filename=\"cluster/upsert.go:73\"\n",
      "time=\"2019-05-28T11:46:25+01:00\" level=info msg=\"Applying serviceaccounts kubeflow.tf-job-dashboard\" filename=\"cluster/upsert.go:73\"\n",
      "time=\"2019-05-28T11:46:25+01:00\" level=info msg=\"Creating non-existent serviceaccounts kubeflow.tf-job-dashboard\" filename=\"cluster/upsert.go:92\"\n",
      "time=\"2019-05-28T11:46:25+01:00\" level=info msg=\"Applying configmaps kubeflow.tf-job-operator-config\" filename=\"cluster/upsert.go:73\"\n",
      "time=\"2019-05-28T11:46:25+01:00\" level=info msg=\"Creating non-existent configmaps kubeflow.tf-job-operator-config\" filename=\"cluster/upsert.go:92\"\n",
      "time=\"2019-05-28T11:46:25+01:00\" level=info msg=\"Applying serviceaccounts kubeflow.tf-job-operator\" filename=\"cluster/upsert.go:73\"\n",
      "time=\"2019-05-28T11:46:25+01:00\" level=info msg=\"Creating non-existent serviceaccounts kubeflow.tf-job-operator\" filename=\"cluster/upsert.go:92\"\n",
      "time=\"2019-05-28T11:46:25+01:00\" level=info msg=\"Applying clusterroles tf-job-operator\" filename=\"cluster/upsert.go:73\"\n",
      "time=\"2019-05-28T11:46:25+01:00\" level=info msg=\"Applying clusterrolebindings tf-job-operator\" filename=\"cluster/upsert.go:73\"\n",
      "time=\"2019-05-28T11:46:25+01:00\" level=info msg=\"Applying services kubeflow.tf-job-dashboard\" filename=\"cluster/upsert.go:73\"\n",
      "time=\"2019-05-28T11:46:25+01:00\" level=info msg=\"Creating non-existent services kubeflow.tf-job-dashboard\" filename=\"cluster/upsert.go:92\"\n",
      "time=\"2019-05-28T11:46:26+01:00\" level=info msg=\"Applying clusterroles tf-job-dashboard\" filename=\"cluster/upsert.go:73\"\n",
      "time=\"2019-05-28T11:46:26+01:00\" level=info msg=\"Applying clusterrolebindings tf-job-dashboard\" filename=\"cluster/upsert.go:73\"\n",
      "time=\"2019-05-28T11:46:26+01:00\" level=info msg=\"Applying deployments kubeflow.tf-job-operator\" filename=\"cluster/upsert.go:73\"\n",
      "time=\"2019-05-28T11:46:26+01:00\" level=info msg=\"Creating non-existent deployments kubeflow.tf-job-operator\" filename=\"cluster/upsert.go:92\"\n",
      "time=\"2019-05-28T11:46:26+01:00\" level=info msg=\"Applying deployments kubeflow.tf-job-dashboard\" filename=\"cluster/upsert.go:73\"\n",
      "time=\"2019-05-28T11:46:26+01:00\" level=info msg=\"Creating non-existent deployments kubeflow.tf-job-dashboard\" filename=\"cluster/upsert.go:92\"\n",
      "time=\"2019-05-28T11:46:26+01:00\" level=info msg=\"Component tf-job-operator apply succeeded\" filename=\"ksonnet/ksonnet.go:171\"\n",
      "time=\"2019-05-28T11:46:26+01:00\" level=info msg=\"All components apply succeeded\" filename=\"ksonnet/ksonnet.go:192\"\n"
     ]
    }
   ],
   "source": [
    "%%bash\n",
    "cd kubeflow-seldon\n",
    "kfctl generate all -V\n",
    "kfctl apply all -V"
   ]
  },
  {
   "cell_type": "markdown",
   "metadata": {},
   "source": [
    "### Now let's run Seldon \n",
    "For this we'll need Helm to be running, so we'll initialise it."
   ]
  },
  {
   "cell_type": "code",
   "execution_count": 2,
   "metadata": {},
   "outputs": [
    {
     "name": "stdout",
     "output_type": "stream",
     "text": [
      "$HELM_HOME has been configured at /home/alejandro/.helm.\n",
      "Warning: Tiller is already installed in the cluster.\n",
      "(Use --client-only to suppress this message, or --upgrade to upgrade Tiller to the current version.)\n",
      "Happy Helming!\n",
      "deployment \"tiller-deploy\" successfully rolled out\n"
     ]
    }
   ],
   "source": [
    "%%bash\n",
    "helm init \n",
    "kubectl rollout status deploy/tiller-deploy -n kube-system"
   ]
  },
  {
   "cell_type": "markdown",
   "metadata": {},
   "source": [
    "Once it's running we can now run the installation command for Seldon.\n",
    "\n",
    "As you can see, we are running the Seldon Operator in the Kubeflow namespace. "
   ]
  },
  {
   "cell_type": "code",
   "execution_count": 3,
   "metadata": {
    "scrolled": true
   },
   "outputs": [
    {
     "name": "stdout",
     "output_type": "stream",
     "text": [
      "NAME:   old-mastiff\n",
      "LAST DEPLOYED: Tue May 28 11:47:35 2019\n",
      "NAMESPACE: kubeflow\n",
      "STATUS: DEPLOYED\n",
      "\n",
      "RESOURCES:\n",
      "==> v1/ClusterRole\n",
      "NAME                          AGE\n",
      "seldon-operator-manager-role  0s\n",
      "\n",
      "==> v1/ClusterRoleBinding\n",
      "NAME                                 AGE\n",
      "seldon-operator-manager-rolebinding  0s\n",
      "\n",
      "==> v1/Pod(related)\n",
      "NAME                                  READY  STATUS             RESTARTS  AGE\n",
      "seldon-operator-controller-manager-0  0/1    ContainerCreating  0         0s\n",
      "\n",
      "==> v1/Secret\n",
      "NAME                                   TYPE    DATA  AGE\n",
      "seldon-operator-webhook-server-secret  Opaque  0     0s\n",
      "\n",
      "==> v1/Service\n",
      "NAME                                        TYPE       CLUSTER-IP     EXTERNAL-IP  PORT(S)  AGE\n",
      "seldon-operator-controller-manager-service  ClusterIP  10.101.228.36  <none>       443/TCP  0s\n",
      "\n",
      "==> v1/StatefulSet\n",
      "NAME                                READY  AGE\n",
      "seldon-operator-controller-manager  0/1    0s\n",
      "\n",
      "==> v1beta1/CustomResourceDefinition\n",
      "NAME                                         AGE\n",
      "seldondeployments.machinelearning.seldon.io  0s\n",
      "\n",
      "\n",
      "NOTES:\n",
      "NOTES: TODO\n",
      "\n",
      "\n"
     ]
    }
   ],
   "source": [
    "!helm install seldon-core-operator --namespace kubeflow --repo https://storage.googleapis.com/seldon-charts"
   ]
  },
  {
   "cell_type": "markdown",
   "metadata": {},
   "source": [
    "Check all the Seldon Deployment is running"
   ]
  },
  {
   "cell_type": "code",
   "execution_count": 4,
   "metadata": {},
   "outputs": [
    {
     "name": "stdout",
     "output_type": "stream",
     "text": [
      "seldon-operator-controller-manager-0                       1/1     Running   1          6s\r\n"
     ]
    }
   ],
   "source": [
    "!kubectl get pod -n kubeflow | grep seldon"
   ]
  },
  {
   "cell_type": "markdown",
   "metadata": {},
   "source": [
    "### Temporary fix for Argo image\n",
    "\n",
    "At the time of writing we need to make some updates in the Argo images with the following commands below.\n",
    "\n",
    "(This basically changes the images to the latest ones, otherwise we will get an error when we attach the volume)\n"
   ]
  },
  {
   "cell_type": "code",
   "execution_count": 1,
   "metadata": {},
   "outputs": [
    {
     "name": "stdout",
     "output_type": "stream",
     "text": [
      "deployment.extensions/workflow-controller patched\n",
      "deployment.extensions/ml-pipeline patched\n"
     ]
    }
   ],
   "source": [
    "!kubectl -n kubeflow patch deployments. workflow-controller --patch '{\"spec\": {\"template\": {\"spec\": {\"containers\": [{\"name\": \"workflow-controller\", \"image\": \"argoproj/workflow-controller:v2.3.0-rc3\"}]}}}}'\n",
    "!kubectl -n kubeflow patch deployments. ml-pipeline --patch '{\"spec\": {\"template\": {\"spec\": {\"containers\": [{\"name\": \"ml-pipeline-api-server\", \"image\": \"elikatsis/ml-pipeline-api-server:0.1.18-pick-1289\"}]}}}}'\n",
    "# !kubectl -n kubeflow patch configmaps workflow-controller-configmap --patch '{\"data\": {\"config\": \"{ executorImage: argoproj/argoexec:v2.3.0-rc3,artifactRepository:{s3: {bucket: mlpipeline,keyPrefix: artifacts,endpoint: minio-service.kubeflow:9000,insecure: true,accessKeySecret: {name: mlpipeline-minio-artifact,key: accesskey},secretKeySecret: {name: mlpipeline-minio-artifact,key: secretkey}}}}\" }}'"
   ]
  },
  {
   "cell_type": "markdown",
   "metadata": {},
   "source": [
    "The last command you need to run actually needs to be manual as the patch cannot change configmap contents directly\n",
    "\n",
    "You need to run the edit commad and change the executorImage to: `argoproj/argoexec:v2.3.0-rc3`\n",
    "\n",
    "The command should be run from a terminal:\n",
    "\n",
    "```\n",
    "kubectl edit configmaps workflow-controller-configmap -n kubeflow\n",
    "```"
   ]
  },
  {
   "cell_type": "markdown",
   "metadata": {},
   "source": [
    "## 2) Test and build all our reusable pipeline steps\n",
    "\n",
    "We will start by building each of the components in our ML pipeline. \n",
    "\n",
    "![](img/kubeflow-seldon-nlp-reusable-components.jpg)\n",
    "\n",
    "### Let's first have a look at our clean_text step:\n"
   ]
  },
  {
   "cell_type": "code",
   "execution_count": 7,
   "metadata": {},
   "outputs": [
    {
     "name": "stdout",
     "output_type": "stream",
     "text": [
      "clean_text\t lr_text_classifier  tfidf_vectorizer\r\n",
      "data_downloader  spacy_tokenize\r\n"
     ]
    }
   ],
   "source": [
    "!ls pipeline/pipeline_steps"
   ]
  },
  {
   "cell_type": "markdown",
   "metadata": {},
   "source": [
    "Like in this step, all of the other steps can be found in the `pipeline/pipeline_steps/` folder, and all have the following structure:\n",
    "* `pipeline_step.py` which exposes the functionality through a CLI \n",
    "* `Transformer.py` which transforms the data accordingly\n",
    "* `requirements.txt` which states the python dependencies to run\n",
    "* `build_image.sh` which uses `s2i` to build the image with one line\n",
    "\n",
    "### Let's check out the CLI for clean_text\n"
   ]
  },
  {
   "cell_type": "code",
   "execution_count": 8,
   "metadata": {},
   "outputs": [
    {
     "name": "stdout",
     "output_type": "stream",
     "text": [
      "Usage: pipeline_step.py [OPTIONS]\r\n",
      "\r\n",
      "Options:\r\n",
      "  --in-path TEXT\r\n",
      "  --out-path TEXT\r\n",
      "  --help           Show this message and exit.\r\n"
     ]
    }
   ],
   "source": [
    "!python pipeline/pipeline_steps/clean_text/pipeline_step.py --help"
   ]
  },
  {
   "cell_type": "markdown",
   "metadata": {},
   "source": [
    "This is actually a very simple file, as we are using the click library to define the commands:\n"
   ]
  },
  {
   "cell_type": "code",
   "execution_count": 7,
   "metadata": {},
   "outputs": [
    {
     "name": "stdout",
     "output_type": "stream",
     "text": [
      "\u001b[38;5;238m───────┬────────────────────────────────────────────────────────────────────────\u001b[0m\n",
      "       \u001b[38;5;238m│ \u001b[0mFile: \u001b[1mpipeline/pipeline_steps/clean_text/pipeline_step.py\u001b[0m\n",
      "\u001b[38;5;238m───────┼────────────────────────────────────────────────────────────────────────\u001b[0m\n",
      "\u001b[38;5;238m   1\u001b[0m   \u001b[38;5;238m│\u001b[0m \u001b[38;5;203mimport\u001b[0m\u001b[38;5;231m \u001b[0m\u001b[38;5;231mdill\u001b[0m\n",
      "\u001b[38;5;238m   2\u001b[0m   \u001b[38;5;238m│\u001b[0m \u001b[38;5;203mimport\u001b[0m\u001b[38;5;231m \u001b[0m\u001b[38;5;231mclick\u001b[0m\n",
      "\u001b[38;5;238m   3\u001b[0m   \u001b[38;5;238m│\u001b[0m \u001b[38;5;203mimport\u001b[0m\u001b[38;5;231m \u001b[0m\u001b[38;5;231mdill\u001b[0m\n",
      "\u001b[38;5;238m   4\u001b[0m   \u001b[38;5;238m│\u001b[0m \u001b[38;5;203mtry\u001b[0m\u001b[38;5;231m:\u001b[0m\n",
      "\u001b[38;5;238m   5\u001b[0m   \u001b[38;5;238m│\u001b[0m \u001b[38;5;231m    \u001b[0m\u001b[38;5;242m#\u001b[0m\u001b[38;5;242m Running for tests\u001b[0m\n",
      "\u001b[38;5;238m   6\u001b[0m   \u001b[38;5;238m│\u001b[0m \u001b[38;5;231m    \u001b[0m\u001b[38;5;203mfrom\u001b[0m\u001b[38;5;231m \u001b[0m\u001b[38;5;203m.\u001b[0m\u001b[38;5;231mTransformer\u001b[0m\u001b[38;5;231m \u001b[0m\u001b[38;5;203mimport\u001b[0m\u001b[38;5;231m \u001b[0m\u001b[38;5;231mTransformer\u001b[0m\n",
      "\u001b[38;5;238m   7\u001b[0m   \u001b[38;5;238m│\u001b[0m \u001b[38;5;203mexcept\u001b[0m\u001b[38;5;231m:\u001b[0m\n",
      "\u001b[38;5;238m   8\u001b[0m   \u001b[38;5;238m│\u001b[0m \u001b[38;5;231m    \u001b[0m\u001b[38;5;242m#\u001b[0m\u001b[38;5;242m Running from CLI\u001b[0m\n",
      "\u001b[38;5;238m   9\u001b[0m   \u001b[38;5;238m│\u001b[0m \u001b[38;5;231m    \u001b[0m\u001b[38;5;203mfrom\u001b[0m\u001b[38;5;231m \u001b[0m\u001b[38;5;231mTransformer\u001b[0m\u001b[38;5;231m \u001b[0m\u001b[38;5;203mimport\u001b[0m\u001b[38;5;231m \u001b[0m\u001b[38;5;231mTransformer\u001b[0m\n",
      "\u001b[38;5;238m  10\u001b[0m   \u001b[38;5;238m│\u001b[0m \n",
      "\u001b[38;5;238m  11\u001b[0m   \u001b[38;5;238m│\u001b[0m \u001b[38;5;231m@\u001b[0m\u001b[38;5;231mclick\u001b[0m\u001b[38;5;231m.\u001b[0m\u001b[38;5;231mcommand\u001b[0m\u001b[38;5;231m(\u001b[0m\u001b[38;5;231m)\u001b[0m\n",
      "\u001b[38;5;238m  12\u001b[0m   \u001b[38;5;238m│\u001b[0m \u001b[38;5;231m@\u001b[0m\u001b[38;5;231mclick\u001b[0m\u001b[38;5;231m.\u001b[0m\u001b[38;5;231moption\u001b[0m\u001b[38;5;231m(\u001b[0m\u001b[38;5;186m'\u001b[0m\u001b[38;5;186m--in-path\u001b[0m\u001b[38;5;186m'\u001b[0m\u001b[38;5;231m,\u001b[0m\u001b[38;5;231m \u001b[0m\u001b[38;5;208mdefault\u001b[0m\u001b[38;5;203m=\u001b[0m\u001b[38;5;186m\"\u001b[0m\u001b[38;5;186m/mnt/raw_text.data\u001b[0m\u001b[38;5;186m\"\u001b[0m\u001b[38;5;231m)\u001b[0m\n",
      "\u001b[38;5;238m  13\u001b[0m   \u001b[38;5;238m│\u001b[0m \u001b[38;5;231m@\u001b[0m\u001b[38;5;231mclick\u001b[0m\u001b[38;5;231m.\u001b[0m\u001b[38;5;231moption\u001b[0m\u001b[38;5;231m(\u001b[0m\u001b[38;5;186m'\u001b[0m\u001b[38;5;186m--out-path\u001b[0m\u001b[38;5;186m'\u001b[0m\u001b[38;5;231m,\u001b[0m\u001b[38;5;231m \u001b[0m\u001b[38;5;208mdefault\u001b[0m\u001b[38;5;203m=\u001b[0m\u001b[38;5;186m\"\u001b[0m\u001b[38;5;186m/mnt/clean_text.data\u001b[0m\u001b[38;5;186m\"\u001b[0m\u001b[38;5;231m)\u001b[0m\n",
      "\u001b[38;5;238m  14\u001b[0m   \u001b[38;5;238m│\u001b[0m \u001b[38;5;149mdef\u001b[0m\u001b[38;5;231m \u001b[0m\u001b[38;5;149mrun_pipeline\u001b[0m\u001b[38;5;231m(\u001b[0m\u001b[38;5;208min_path\u001b[0m\u001b[38;5;231m,\u001b[0m\u001b[38;5;231m \u001b[0m\u001b[38;5;208mout_path\u001b[0m\u001b[38;5;231m)\u001b[0m\u001b[38;5;231m:\u001b[0m\n",
      "\u001b[38;5;238m  15\u001b[0m   \u001b[38;5;238m│\u001b[0m \u001b[38;5;231m    \u001b[0m\u001b[38;5;231mclean_text_transformer\u001b[0m\u001b[38;5;231m \u001b[0m\u001b[38;5;203m=\u001b[0m\u001b[38;5;231m \u001b[0m\u001b[38;5;231mTransformer\u001b[0m\u001b[38;5;231m(\u001b[0m\u001b[38;5;231m)\u001b[0m\n",
      "\u001b[38;5;238m  16\u001b[0m   \u001b[38;5;238m│\u001b[0m \u001b[38;5;231m    \u001b[0m\u001b[38;5;203mwith\u001b[0m\u001b[38;5;231m \u001b[0m\u001b[38;5;81mopen\u001b[0m\u001b[38;5;231m(\u001b[0m\u001b[38;5;231min_path\u001b[0m\u001b[38;5;231m,\u001b[0m\u001b[38;5;231m \u001b[0m\u001b[38;5;186m'\u001b[0m\u001b[38;5;186mrb\u001b[0m\u001b[38;5;186m'\u001b[0m\u001b[38;5;231m)\u001b[0m\u001b[38;5;231m \u001b[0m\u001b[38;5;203mas\u001b[0m\u001b[38;5;231m \u001b[0m\u001b[38;5;231min_f\u001b[0m\u001b[38;5;231m:\u001b[0m\n",
      "\u001b[38;5;238m  17\u001b[0m   \u001b[38;5;238m│\u001b[0m \u001b[38;5;231m        \u001b[0m\u001b[38;5;231mx\u001b[0m\u001b[38;5;231m \u001b[0m\u001b[38;5;203m=\u001b[0m\u001b[38;5;231m \u001b[0m\u001b[38;5;231mdill\u001b[0m\u001b[38;5;231m.\u001b[0m\u001b[38;5;231mload\u001b[0m\u001b[38;5;231m(\u001b[0m\u001b[38;5;231min_f\u001b[0m\u001b[38;5;231m)\u001b[0m\n",
      "\u001b[38;5;238m  18\u001b[0m   \u001b[38;5;238m│\u001b[0m \u001b[38;5;231m    \u001b[0m\u001b[38;5;231my\u001b[0m\u001b[38;5;231m \u001b[0m\u001b[38;5;203m=\u001b[0m\u001b[38;5;231m \u001b[0m\u001b[38;5;231mclean_text_transformer\u001b[0m\u001b[38;5;231m.\u001b[0m\u001b[38;5;231mpredict\u001b[0m\u001b[38;5;231m(\u001b[0m\u001b[38;5;231mx\u001b[0m\u001b[38;5;231m)\u001b[0m\n",
      "\u001b[38;5;238m  19\u001b[0m   \u001b[38;5;238m│\u001b[0m \u001b[38;5;231m    \u001b[0m\u001b[38;5;203mwith\u001b[0m\u001b[38;5;231m \u001b[0m\u001b[38;5;81mopen\u001b[0m\u001b[38;5;231m(\u001b[0m\u001b[38;5;231mout_path\u001b[0m\u001b[38;5;231m,\u001b[0m\u001b[38;5;231m \u001b[0m\u001b[38;5;186m\"\u001b[0m\u001b[38;5;186mwb\u001b[0m\u001b[38;5;186m\"\u001b[0m\u001b[38;5;231m)\u001b[0m\u001b[38;5;231m \u001b[0m\u001b[38;5;203mas\u001b[0m\u001b[38;5;231m \u001b[0m\u001b[38;5;231mout_f\u001b[0m\u001b[38;5;231m:\u001b[0m\n",
      "\u001b[38;5;238m  20\u001b[0m   \u001b[38;5;238m│\u001b[0m \u001b[38;5;231m        \u001b[0m\u001b[38;5;231mdill\u001b[0m\u001b[38;5;231m.\u001b[0m\u001b[38;5;231mdump\u001b[0m\u001b[38;5;231m(\u001b[0m\u001b[38;5;231my\u001b[0m\u001b[38;5;231m,\u001b[0m\u001b[38;5;231m \u001b[0m\u001b[38;5;231mout_f\u001b[0m\u001b[38;5;231m)\u001b[0m\n",
      "\u001b[38;5;238m  21\u001b[0m   \u001b[38;5;238m│\u001b[0m \n",
      "\u001b[38;5;238m  22\u001b[0m   \u001b[38;5;238m│\u001b[0m \u001b[38;5;203mif\u001b[0m\u001b[38;5;231m \u001b[0m\u001b[38;5;231m__name__\u001b[0m\u001b[38;5;231m \u001b[0m\u001b[38;5;203m==\u001b[0m\u001b[38;5;231m \u001b[0m\u001b[38;5;186m\"\u001b[0m\u001b[38;5;186m__main__\u001b[0m\u001b[38;5;186m\"\u001b[0m\u001b[38;5;231m:\u001b[0m\n",
      "\u001b[38;5;238m  23\u001b[0m   \u001b[38;5;238m│\u001b[0m \u001b[38;5;231m    \u001b[0m\u001b[38;5;231mrun_pipeline\u001b[0m\u001b[38;5;231m(\u001b[0m\u001b[38;5;231m)\u001b[0m\n",
      "\u001b[38;5;238m  24\u001b[0m   \u001b[38;5;238m│\u001b[0m \n",
      "\u001b[38;5;238m───────┴────────────────────────────────────────────────────────────────────────\u001b[0m\n"
     ]
    }
   ],
   "source": [
    "!cat pipeline/pipeline_steps/clean_text/pipeline_step.py"
   ]
  },
  {
   "cell_type": "code",
   "execution_count": 8,
   "metadata": {
    "scrolled": true
   },
   "outputs": [
    {
     "name": "stdout",
     "output_type": "stream",
     "text": [
      "\u001b[38;5;238m───────┬────────────────────────────────────────────────────────────────────────\u001b[0m\r\n",
      "       \u001b[38;5;238m│ \u001b[0mFile: \u001b[1mpipeline/pipeline_steps/clean_text/Transformer.py\u001b[0m\r\n",
      "\u001b[38;5;238m───────┼────────────────────────────────────────────────────────────────────────\u001b[0m\r\n",
      "\u001b[38;5;238m   1\u001b[0m   \u001b[38;5;238m│\u001b[0m \u001b[38;5;203mimport\u001b[0m\u001b[38;5;231m \u001b[0m\u001b[38;5;231mre\u001b[0m\u001b[38;5;231m \u001b[0m\r\n",
      "\u001b[38;5;238m   2\u001b[0m   \u001b[38;5;238m│\u001b[0m \u001b[38;5;203mfrom\u001b[0m\u001b[38;5;231m \u001b[0m\u001b[38;5;231mhtml\u001b[0m\u001b[38;5;231m.\u001b[0m\u001b[38;5;231mparser\u001b[0m\u001b[38;5;231m \u001b[0m\u001b[38;5;203mimport\u001b[0m\u001b[38;5;231m \u001b[0m\u001b[38;5;231mHTMLParser\u001b[0m\r\n",
      "\u001b[38;5;238m   3\u001b[0m   \u001b[38;5;238m│\u001b[0m \u001b[38;5;203mimport\u001b[0m\u001b[38;5;231m \u001b[0m\u001b[38;5;231mnumpy\u001b[0m\u001b[38;5;231m \u001b[0m\u001b[38;5;203mas\u001b[0m\u001b[38;5;231m \u001b[0m\u001b[38;5;231mnp\u001b[0m\r\n",
      "\u001b[38;5;238m   4\u001b[0m   \u001b[38;5;238m│\u001b[0m \u001b[38;5;203mimport\u001b[0m\u001b[38;5;231m \u001b[0m\u001b[38;5;231mlogging\u001b[0m\r\n",
      "\u001b[38;5;238m   5\u001b[0m   \u001b[38;5;238m│\u001b[0m \r\n",
      "\u001b[38;5;238m   6\u001b[0m   \u001b[38;5;238m│\u001b[0m \u001b[38;5;149mclass\u001b[0m\u001b[38;5;231m \u001b[0m\u001b[4;38;5;81mTransformer\u001b[0m\u001b[38;5;231m(\u001b[0m\u001b[38;5;231m)\u001b[0m\u001b[38;5;231m:\u001b[0m\r\n",
      "\u001b[38;5;238m   7\u001b[0m   \u001b[38;5;238m│\u001b[0m \u001b[38;5;231m    \u001b[0m\u001b[38;5;231m__html_parser\u001b[0m\u001b[38;5;231m \u001b[0m\u001b[38;5;203m=\u001b[0m\u001b[38;5;231m \u001b[0m\u001b[38;5;231mHTMLParser\u001b[0m\u001b[38;5;231m(\u001b[0m\u001b[38;5;231m)\u001b[0m\r\n",
      "\u001b[38;5;238m   8\u001b[0m   \u001b[38;5;238m│\u001b[0m \u001b[38;5;231m    \u001b[0m\u001b[38;5;231m__uplus_pattern\u001b[0m\u001b[38;5;231m \u001b[0m\u001b[38;5;203m=\u001b[0m\u001b[38;5;231m \u001b[0m\u001b[38;5;231m\\\u001b[0m\r\n",
      "\u001b[38;5;238m   9\u001b[0m   \u001b[38;5;238m│\u001b[0m \u001b[38;5;231m        \u001b[0m\u001b[38;5;231mre\u001b[0m\u001b[38;5;231m.\u001b[0m\u001b[38;5;231mcompile\u001b[0m\u001b[38;5;231m(\u001b[0m\u001b[38;5;186m\"\u001b[0m\u001b[38;5;231m\\<\u001b[0m\u001b[38;5;186m[uU]\u001b[0m\u001b[38;5;231m\\+\u001b[0m\u001b[38;5;186m(?P<digit>[a-zA-Z0-9]+)\u001b[0m\u001b[38;5;231m\\>\u001b[0m\u001b[38;5;186m\"\u001b[0m\u001b[38;5;231m)\u001b[0m\r\n",
      "\u001b[38;5;238m  10\u001b[0m   \u001b[38;5;238m│\u001b[0m \u001b[38;5;231m    \u001b[0m\u001b[38;5;231m__markup_link_pattern\u001b[0m\u001b[38;5;231m \u001b[0m\u001b[38;5;203m=\u001b[0m\u001b[38;5;231m \u001b[0m\u001b[38;5;231m\\\u001b[0m\r\n",
      "\u001b[38;5;238m  11\u001b[0m   \u001b[38;5;238m│\u001b[0m \u001b[38;5;231m        \u001b[0m\u001b[38;5;231mre\u001b[0m\u001b[38;5;231m.\u001b[0m\u001b[38;5;231mcompile\u001b[0m\u001b[38;5;231m(\u001b[0m\u001b[38;5;186m\"\u001b[0m\u001b[38;5;231m\\[\u001b[0m\u001b[38;5;186m(.*)\u001b[0m\u001b[38;5;231m\\]\u001b[0m\u001b[38;5;231m\\(\u001b[0m\u001b[38;5;186m(.*)\u001b[0m\u001b[38;5;231m\\)\u001b[0m\u001b[38;5;186m\"\u001b[0m\u001b[38;5;231m)\u001b[0m\r\n",
      "\u001b[38;5;238m  12\u001b[0m   \u001b[38;5;238m│\u001b[0m \r\n",
      "\u001b[38;5;238m  13\u001b[0m   \u001b[38;5;238m│\u001b[0m \u001b[38;5;231m    \u001b[0m\u001b[38;5;149mdef\u001b[0m\u001b[38;5;231m \u001b[0m\u001b[38;5;149mpredict\u001b[0m\u001b[38;5;231m(\u001b[0m\u001b[38;5;208mself\u001b[0m\u001b[38;5;231m,\u001b[0m\u001b[38;5;231m \u001b[0m\u001b[38;5;208mX\u001b[0m\u001b[38;5;231m,\u001b[0m\u001b[38;5;231m \u001b[0m\u001b[38;5;208mfeature_names\u001b[0m\u001b[38;5;203m=\u001b[0m\u001b[38;5;231m[\u001b[0m\u001b[38;5;231m]\u001b[0m\u001b[38;5;231m)\u001b[0m\u001b[38;5;231m:\u001b[0m\r\n",
      "\u001b[38;5;238m  14\u001b[0m   \u001b[38;5;238m│\u001b[0m \u001b[38;5;231m        \u001b[0m\u001b[38;5;231mlogging\u001b[0m\u001b[38;5;231m.\u001b[0m\u001b[38;5;231mwarning\u001b[0m\u001b[38;5;231m(\u001b[0m\u001b[38;5;231mX\u001b[0m\u001b[38;5;231m)\u001b[0m\r\n",
      "\u001b[38;5;238m  15\u001b[0m   \u001b[38;5;238m│\u001b[0m \u001b[38;5;231m        \u001b[0m\u001b[38;5;231mf\u001b[0m\u001b[38;5;231m \u001b[0m\u001b[38;5;203m=\u001b[0m\u001b[38;5;231m \u001b[0m\u001b[38;5;231mnp\u001b[0m\u001b[38;5;231m.\u001b[0m\u001b[38;5;231mvectorize\u001b[0m\u001b[38;5;231m(\u001b[0m\u001b[38;5;231mTransformer\u001b[0m\u001b[38;5;231m.\u001b[0m\u001b[38;5;231mtransform_clean_text\u001b[0m\u001b[38;5;231m)\u001b[0m\r\n",
      "\u001b[38;5;238m  16\u001b[0m   \u001b[38;5;238m│\u001b[0m \u001b[38;5;231m        \u001b[0m\u001b[38;5;231mX_clean\u001b[0m\u001b[38;5;231m \u001b[0m\u001b[38;5;203m=\u001b[0m\u001b[38;5;231m \u001b[0m\u001b[38;5;231mf\u001b[0m\u001b[38;5;231m(\u001b[0m\u001b[38;5;231mX\u001b[0m\u001b[38;5;231m)\u001b[0m\r\n",
      "\u001b[38;5;238m  17\u001b[0m   \u001b[38;5;238m│\u001b[0m \u001b[38;5;231m        \u001b[0m\u001b[38;5;231mlogging\u001b[0m\u001b[38;5;231m.\u001b[0m\u001b[38;5;231mwarning\u001b[0m\u001b[38;5;231m(\u001b[0m\u001b[38;5;231mX_clean\u001b[0m\u001b[38;5;231m)\u001b[0m\r\n",
      "\u001b[38;5;238m  18\u001b[0m   \u001b[38;5;238m│\u001b[0m \u001b[38;5;231m        \u001b[0m\u001b[38;5;203mreturn\u001b[0m\u001b[38;5;231m \u001b[0m\u001b[38;5;231mX_clean\u001b[0m\r\n",
      "\u001b[38;5;238m  19\u001b[0m   \u001b[38;5;238m│\u001b[0m \r\n",
      "\u001b[38;5;238m  20\u001b[0m   \u001b[38;5;238m│\u001b[0m \u001b[38;5;231m    \u001b[0m\u001b[38;5;149mdef\u001b[0m\u001b[38;5;231m \u001b[0m\u001b[38;5;149mfit\u001b[0m\u001b[38;5;231m(\u001b[0m\u001b[38;5;208mself\u001b[0m\u001b[38;5;231m,\u001b[0m\u001b[38;5;231m \u001b[0m\u001b[38;5;208mX\u001b[0m\u001b[38;5;231m,\u001b[0m\u001b[38;5;231m \u001b[0m\u001b[38;5;208my\u001b[0m\u001b[38;5;203m=\u001b[0m\u001b[38;5;141mNone\u001b[0m\u001b[38;5;231m,\u001b[0m\u001b[38;5;231m \u001b[0m\u001b[38;5;203m**\u001b[0m\u001b[38;5;208mfit_params\u001b[0m\u001b[38;5;231m)\u001b[0m\u001b[38;5;231m:\u001b[0m\r\n",
      "\u001b[38;5;238m  21\u001b[0m   \u001b[38;5;238m│\u001b[0m \u001b[38;5;231m        \u001b[0m\u001b[38;5;203mreturn\u001b[0m\u001b[38;5;231m \u001b[0m\u001b[38;5;231mself\u001b[0m\r\n",
      "\u001b[38;5;238m  22\u001b[0m   \u001b[38;5;238m│\u001b[0m \u001b[38;5;231m    \u001b[0m\r\n",
      "\u001b[38;5;238m  23\u001b[0m   \u001b[38;5;238m│\u001b[0m \u001b[38;5;231m    \u001b[0m\u001b[38;5;231m@\u001b[0m\u001b[38;5;81mstaticmethod\u001b[0m\r\n",
      "\u001b[38;5;238m  24\u001b[0m   \u001b[38;5;238m│\u001b[0m \u001b[38;5;231m    \u001b[0m\u001b[38;5;149mdef\u001b[0m\u001b[38;5;231m \u001b[0m\u001b[38;5;149mtransform_clean_text\u001b[0m\u001b[38;5;231m(\u001b[0m\u001b[38;5;208mraw_text\u001b[0m\u001b[38;5;231m)\u001b[0m\u001b[38;5;231m:\u001b[0m\r\n",
      "\u001b[38;5;238m  25\u001b[0m   \u001b[38;5;238m│\u001b[0m \u001b[38;5;231m        \u001b[0m\u001b[38;5;203mtry\u001b[0m\u001b[38;5;231m:\u001b[0m\r\n",
      "\u001b[38;5;238m  26\u001b[0m   \u001b[38;5;238m│\u001b[0m \u001b[38;5;231m            \u001b[0m\u001b[38;5;231mdecoded\u001b[0m\u001b[38;5;231m \u001b[0m\u001b[38;5;203m=\u001b[0m\u001b[38;5;231m \u001b[0m\u001b[38;5;231mraw_text\u001b[0m\u001b[38;5;231m.\u001b[0m\u001b[38;5;231mencode\u001b[0m\u001b[38;5;231m(\u001b[0m\u001b[38;5;186m\"\u001b[0m\u001b[38;5;186mISO-8859-1\u001b[0m\u001b[38;5;186m\"\u001b[0m\u001b[38;5;231m)\u001b[0m\u001b[38;5;231m.\u001b[0m\u001b[38;5;231mdecode\u001b[0m\u001b[38;5;231m(\u001b[0m\u001b[38;5;186m\"\u001b[0m\u001b[38;5;186mutf-8\u001b[0m\u001b[38;5;186m\"\u001b[0m\u001b[38;5;231m)\u001b[0m\r\n",
      "\u001b[38;5;238m  27\u001b[0m   \u001b[38;5;238m│\u001b[0m \u001b[38;5;231m        \u001b[0m\u001b[38;5;203mexcept\u001b[0m\u001b[38;5;231m:\u001b[0m\r\n",
      "\u001b[38;5;238m  28\u001b[0m   \u001b[38;5;238m│\u001b[0m \u001b[38;5;231m            \u001b[0m\u001b[38;5;231mdecoded\u001b[0m\u001b[38;5;231m \u001b[0m\u001b[38;5;203m=\u001b[0m\u001b[38;5;231m \u001b[0m\u001b[38;5;231mraw_text\u001b[0m\u001b[38;5;231m.\u001b[0m\u001b[38;5;231mencode\u001b[0m\u001b[38;5;231m(\u001b[0m\u001b[38;5;186m\"\u001b[0m\u001b[38;5;186mISO-8859-1\u001b[0m\u001b[38;5;186m\"\u001b[0m\u001b[38;5;231m)\u001b[0m\u001b[38;5;231m.\u001b[0m\u001b[38;5;231mdecode\u001b[0m\u001b[38;5;231m(\u001b[0m\u001b[38;5;186m\"\u001b[0m\u001b[38;5;186mcp1252\u001b[0m\u001b[38;5;186m\"\u001b[0m\u001b[38;5;231m)\u001b[0m\r\n",
      "\u001b[38;5;238m  29\u001b[0m   \u001b[38;5;238m│\u001b[0m \u001b[38;5;231m        \u001b[0m\u001b[38;5;231mhtml_unescaped\u001b[0m\u001b[38;5;231m \u001b[0m\u001b[38;5;203m=\u001b[0m\u001b[38;5;231mTransformer\u001b[0m\u001b[38;5;231m.\u001b[0m\u001b[38;5;231m\\\u001b[0m\r\n",
      "\u001b[38;5;238m  30\u001b[0m   \u001b[38;5;238m│\u001b[0m \u001b[38;5;231m            \u001b[0m\u001b[38;5;231m__html_parser\u001b[0m\u001b[38;5;231m.\u001b[0m\u001b[38;5;231munescape\u001b[0m\u001b[38;5;231m(\u001b[0m\u001b[38;5;231mdecoded\u001b[0m\u001b[38;5;231m)\u001b[0m\u001b[38;5;231m \u001b[0m\r\n",
      "\u001b[38;5;238m  31\u001b[0m   \u001b[38;5;238m│\u001b[0m \u001b[38;5;231m        \u001b[0m\u001b[38;5;231mhtml_unescaped\u001b[0m\u001b[38;5;231m \u001b[0m\u001b[38;5;203m=\u001b[0m\u001b[38;5;231m \u001b[0m\u001b[38;5;231mre\u001b[0m\u001b[38;5;231m.\u001b[0m\u001b[38;5;231msub\u001b[0m\u001b[38;5;231m(\u001b[0m\u001b[38;5;81mr\u001b[0m\u001b[38;5;186m\"\u001b[0m\u001b[38;5;141m\\r\u001b[0m\u001b[38;5;141m\\n\u001b[0m\u001b[38;5;186m\"\u001b[0m\u001b[38;5;231m,\u001b[0m\u001b[38;5;231m \u001b[0m\u001b[38;5;186m\"\u001b[0m\u001b[38;5;186m \u001b[0m\u001b[38;5;186m\"\u001b[0m\u001b[38;5;231m,\u001b[0m\u001b[38;5;231m \u001b[0m\u001b[38;5;231mhtml_unescaped\u001b[0m\u001b[38;5;231m)\u001b[0m\r\n",
      "\u001b[38;5;238m  32\u001b[0m   \u001b[38;5;238m│\u001b[0m \u001b[38;5;231m        \u001b[0m\u001b[38;5;231mhtml_unescaped\u001b[0m\u001b[38;5;231m \u001b[0m\u001b[38;5;203m=\u001b[0m\u001b[38;5;231m \u001b[0m\u001b[38;5;231mre\u001b[0m\u001b[38;5;231m.\u001b[0m\u001b[38;5;231msub\u001b[0m\u001b[38;5;231m(\u001b[0m\u001b[38;5;81mr\u001b[0m\u001b[38;5;186m\"\u001b[0m\u001b[38;5;141m\\r\u001b[0m\u001b[38;5;141m\\r\u001b[0m\u001b[38;5;141m\\n\u001b[0m\u001b[38;5;186m\"\u001b[0m\u001b[38;5;231m,\u001b[0m\u001b[38;5;231m \u001b[0m\u001b[38;5;186m\"\u001b[0m\u001b[38;5;186m \u001b[0m\u001b[38;5;186m\"\u001b[0m\u001b[38;5;231m,\u001b[0m\u001b[38;5;231m \u001b[0m\u001b[38;5;231mhtml_unescaped\u001b[0m\u001b[38;5;231m)\u001b[0m\r\n",
      "\u001b[38;5;238m  33\u001b[0m   \u001b[38;5;238m│\u001b[0m \u001b[38;5;231m        \u001b[0m\u001b[38;5;231mhtml_unescaped\u001b[0m\u001b[38;5;231m \u001b[0m\u001b[38;5;203m=\u001b[0m\u001b[38;5;231m \u001b[0m\u001b[38;5;231mre\u001b[0m\u001b[38;5;231m.\u001b[0m\u001b[38;5;231msub\u001b[0m\u001b[38;5;231m(\u001b[0m\u001b[38;5;81mr\u001b[0m\u001b[38;5;186m\"\u001b[0m\u001b[38;5;141m\\r\u001b[0m\u001b[38;5;186m\"\u001b[0m\u001b[38;5;231m,\u001b[0m\u001b[38;5;231m \u001b[0m\u001b[38;5;186m\"\u001b[0m\u001b[38;5;186m \u001b[0m\u001b[38;5;186m\"\u001b[0m\u001b[38;5;231m,\u001b[0m\u001b[38;5;231m \u001b[0m\u001b[38;5;231mhtml_unescaped\u001b[0m\u001b[38;5;231m)\u001b[0m\r\n",
      "\u001b[38;5;238m  34\u001b[0m   \u001b[38;5;238m│\u001b[0m \u001b[38;5;231m        \u001b[0m\u001b[38;5;231mhtml_unescaped\u001b[0m\u001b[38;5;231m \u001b[0m\u001b[38;5;203m=\u001b[0m\u001b[38;5;231m \u001b[0m\u001b[38;5;231mhtml_unescaped\u001b[0m\u001b[38;5;231m.\u001b[0m\u001b[38;5;231mreplace\u001b[0m\u001b[38;5;231m(\u001b[0m\u001b[38;5;186m\"\u001b[0m\u001b[38;5;186m&gt;\u001b[0m\u001b[38;5;186m\"\u001b[0m\u001b[38;5;231m,\u001b[0m\u001b[38;5;231m \u001b[0m\u001b[38;5;186m\"\u001b[0m\u001b[38;5;186m > \u001b[0m\u001b[38;5;186m\"\u001b[0m\u001b[38;5;231m)\u001b[0m\r\n",
      "\u001b[38;5;238m  35\u001b[0m   \u001b[38;5;238m│\u001b[0m \u001b[38;5;231m        \u001b[0m\u001b[38;5;231mhtml_unescaped\u001b[0m\u001b[38;5;231m \u001b[0m\u001b[38;5;203m=\u001b[0m\u001b[38;5;231m \u001b[0m\u001b[38;5;231mhtml_unescaped\u001b[0m\u001b[38;5;231m.\u001b[0m\u001b[38;5;231mreplace\u001b[0m\u001b[38;5;231m(\u001b[0m\u001b[38;5;186m\"\u001b[0m\u001b[38;5;186m&lt;\u001b[0m\u001b[38;5;186m\"\u001b[0m\u001b[38;5;231m,\u001b[0m\u001b[38;5;231m \u001b[0m\u001b[38;5;186m\"\u001b[0m\u001b[38;5;186m < \u001b[0m\u001b[38;5;186m\"\u001b[0m\u001b[38;5;231m)\u001b[0m\r\n",
      "\u001b[38;5;238m  36\u001b[0m   \u001b[38;5;238m│\u001b[0m \u001b[38;5;231m        \u001b[0m\u001b[38;5;231mhtml_unescaped\u001b[0m\u001b[38;5;231m \u001b[0m\u001b[38;5;203m=\u001b[0m\u001b[38;5;231m \u001b[0m\u001b[38;5;231mhtml_unescaped\u001b[0m\u001b[38;5;231m.\u001b[0m\u001b[38;5;231mreplace\u001b[0m\u001b[38;5;231m(\u001b[0m\u001b[38;5;186m\"\u001b[0m\u001b[38;5;186m--\u001b[0m\u001b[38;5;186m\"\u001b[0m\u001b[38;5;231m,\u001b[0m\u001b[38;5;231m \u001b[0m\u001b[38;5;186m\"\u001b[0m\u001b[38;5;186m - \u001b[0m\u001b[38;5;186m\"\u001b[0m\u001b[38;5;231m)\u001b[0m\r\n",
      "\u001b[38;5;238m  37\u001b[0m   \u001b[38;5;238m│\u001b[0m \u001b[38;5;231m        \u001b[0m\u001b[38;5;231mhtml_unescaped\u001b[0m\u001b[38;5;231m \u001b[0m\u001b[38;5;203m=\u001b[0m\u001b[38;5;231m \u001b[0m\u001b[38;5;231mTransformer\u001b[0m\u001b[38;5;231m.\u001b[0m\u001b[38;5;231m__uplus_pattern\u001b[0m\u001b[38;5;231m.\u001b[0m\u001b[38;5;231msub\u001b[0m\u001b[38;5;231m(\u001b[0m\r\n",
      "\u001b[38;5;238m  38\u001b[0m   \u001b[38;5;238m│\u001b[0m \u001b[38;5;231m            \u001b[0m\u001b[38;5;186m\"\u001b[0m\u001b[38;5;186m U\u001b[0m\u001b[38;5;231m\\g\u001b[0m\u001b[38;5;186m<digit> \u001b[0m\u001b[38;5;186m\"\u001b[0m\u001b[38;5;231m,\u001b[0m\u001b[38;5;231m \u001b[0m\u001b[38;5;231mhtml_unescaped\u001b[0m\u001b[38;5;231m)\u001b[0m\r\n",
      "\u001b[38;5;238m  39\u001b[0m   \u001b[38;5;238m│\u001b[0m \u001b[38;5;231m        \u001b[0m\u001b[38;5;231mhtml_unescaped\u001b[0m\u001b[38;5;231m \u001b[0m\u001b[38;5;203m=\u001b[0m\u001b[38;5;231m \u001b[0m\u001b[38;5;231mTransformer\u001b[0m\u001b[38;5;231m.\u001b[0m\u001b[38;5;231m__markup_link_pattern\u001b[0m\u001b[38;5;231m.\u001b[0m\u001b[38;5;231msub\u001b[0m\u001b[38;5;231m(\u001b[0m\r\n",
      "\u001b[38;5;238m  40\u001b[0m   \u001b[38;5;238m│\u001b[0m \u001b[38;5;231m            \u001b[0m\u001b[38;5;186m\"\u001b[0m\u001b[38;5;186m \u001b[0m\u001b[38;5;231m\\1\u001b[0m\u001b[38;5;186m \u001b[0m\u001b[38;5;231m\\2\u001b[0m\u001b[38;5;186m \u001b[0m\u001b[38;5;186m\"\u001b[0m\u001b[38;5;231m,\u001b[0m\u001b[38;5;231m \u001b[0m\u001b[38;5;231mhtml_unescaped\u001b[0m\u001b[38;5;231m)\u001b[0m\r\n",
      "\u001b[38;5;238m  41\u001b[0m   \u001b[38;5;238m│\u001b[0m \u001b[38;5;231m        \u001b[0m\u001b[38;5;231mhtml_unescaped\u001b[0m\u001b[38;5;231m \u001b[0m\u001b[38;5;203m=\u001b[0m\u001b[38;5;231m \u001b[0m\u001b[38;5;231mhtml_unescaped\u001b[0m\u001b[38;5;231m.\u001b[0m\u001b[38;5;231mreplace\u001b[0m\u001b[38;5;231m(\u001b[0m\u001b[38;5;186m\"\u001b[0m\u001b[38;5;141m\\\\\u001b[0m\u001b[38;5;186m\"\u001b[0m\u001b[38;5;231m,\u001b[0m\u001b[38;5;231m \u001b[0m\u001b[38;5;186m\"\u001b[0m\u001b[38;5;186m\"\u001b[0m\u001b[38;5;231m)\u001b[0m\r\n",
      "\u001b[38;5;238m  42\u001b[0m   \u001b[38;5;238m│\u001b[0m \u001b[38;5;231m        \u001b[0m\u001b[38;5;203mreturn\u001b[0m\u001b[38;5;231m \u001b[0m\u001b[38;5;231mhtml_unescaped\u001b[0m\r\n",
      "\u001b[38;5;238m  43\u001b[0m   \u001b[38;5;238m│\u001b[0m \r\n",
      "\u001b[38;5;238m───────┴────────────────────────────────────────────────────────────────────────\u001b[0m\r\n"
     ]
    }
   ],
   "source": [
    "!cat pipeline/pipeline_steps/clean_text/Transformer.py"
   ]
  },
  {
   "cell_type": "markdown",
   "metadata": {},
   "source": [
    "If you want to understand how the CLI pipeline talks to each other, have a look at the end to end test in `pipeline/pipeline_tests/`:"
   ]
  },
  {
   "cell_type": "code",
   "execution_count": 11,
   "metadata": {},
   "outputs": [
    {
     "name": "stdout",
     "output_type": "stream",
     "text": [
      "\u001b[1m============================= test session starts ==============================\u001b[0m\n",
      "platform linux -- Python 3.7.3, pytest-4.5.0, py-1.8.0, pluggy-0.11.0\n",
      "rootdir: /home/alejandro/Programming/kubernetes/seldon/seldon-core/examples/kubeflow\n",
      "collected 1 item                                                               \u001b[0m\u001b[1m\n",
      "\n",
      "pipeline/pipeline_tests/test_pipeline.py \u001b[32m.\u001b[0m\u001b[36m                               [100%]\u001b[0m\n",
      "\n",
      "\u001b[33m\u001b[1m===================== 1 passed, 9 warnings in 3.26 seconds =====================\u001b[0m\n"
     ]
    }
   ],
   "source": [
    "!pytest ./pipeline/pipeline_tests/. --disable-pytest-warnings"
   ]
  },
  {
   "cell_type": "markdown",
   "metadata": {},
   "source": [
    "To build the image we provide a build script in each of the steps that contains the instructions:"
   ]
  },
  {
   "cell_type": "code",
   "execution_count": 10,
   "metadata": {},
   "outputs": [
    {
     "name": "stdout",
     "output_type": "stream",
     "text": [
      "#!/bin/bash\r\n",
      "\r\n",
      "s2i build . seldonio/seldon-core-s2i-python3:0.6 clean_text_transformer:0.1\r\n",
      "\r\n"
     ]
    }
   ],
   "source": [
    "!cat pipeline/pipeline_steps/clean_text/build_image.sh"
   ]
  },
  {
   "cell_type": "markdown",
   "metadata": {},
   "source": [
    "The only thing you need to make sure is that Seldon knows how to wrap the right model and file.\n",
    "\n",
    "This can be achieved with the s2i/environment file. \n",
    "\n",
    "As you can see, here we just tell it we want it to use our `Transformer.py` file:\n"
   ]
  },
  {
   "cell_type": "code",
   "execution_count": 13,
   "metadata": {},
   "outputs": [
    {
     "name": "stdout",
     "output_type": "stream",
     "text": [
      "MODEL_NAME=Transformer\r\n",
      "API_TYPE=REST\r\n",
      "SERVICE_TYPE=MODEL\r\n",
      "PERSISTENCE=0\r\n"
     ]
    }
   ],
   "source": [
    "!cat pipeline/pipeline_steps/clean_text/.s2i/environment"
   ]
  },
  {
   "cell_type": "markdown",
   "metadata": {},
   "source": [
    "Once this is defined, the only thing we need to do is to run the `build_image.sh` for all the reusable components.\n",
    "\n",
    "Here we show the manual way to do it:"
   ]
  },
  {
   "cell_type": "code",
   "execution_count": null,
   "metadata": {},
   "outputs": [],
   "source": [
    "%%bash\n",
    "# we must be in the same directory\n",
    "cd pipeline/pipeline_steps/clean_text/ && ./build_image.sh\n",
    "cd ../data_downloader && ./build_image.sh\n",
    "cd ../lr_text_classifier && ./build_image.sh\n",
    "cd ../spacy_tokenize && ./build_image.sh\n",
    "cd ../tfidf_vectorizer && ./build_image.sh"
   ]
  },
  {
   "cell_type": "markdown",
   "metadata": {},
   "source": [
    "## 3) Train our NLP Pipeline through the Kubeflow UI\n",
    "We can access the Kubeflow dashboard to train our ML pipeline via http://localhost/_/pipeline-dashboard\n",
    "\n",
    "If you can't edit this, you need to make sure that the ambassador gateway service is accessible:\n"
   ]
  },
  {
   "cell_type": "code",
   "execution_count": 11,
   "metadata": {},
   "outputs": [
    {
     "name": "stdout",
     "output_type": "stream",
     "text": [
      "NAME         TYPE       CLUSTER-IP      EXTERNAL-IP   PORT(S)        AGE\r\n",
      "ambassador   NodePort   10.97.236.196   <none>        80:30209/TCP   8m58s\r\n"
     ]
    }
   ],
   "source": [
    "!kubectl get svc ambassador -n kubeflow"
   ]
  },
  {
   "cell_type": "markdown",
   "metadata": {},
   "source": [
    "In my case, I need to change the kind from `NodePort` into `LoadBalancer` which can be done with the following command:\n"
   ]
  },
  {
   "cell_type": "code",
   "execution_count": 2,
   "metadata": {},
   "outputs": [
    {
     "name": "stdout",
     "output_type": "stream",
     "text": [
      "service/ambassador patched\r\n"
     ]
    }
   ],
   "source": [
    "!kubectl patch svc ambassador --type='json' -p '[{\"op\":\"replace\",\"path\":\"/spec/type\",\"value\":\"LoadBalancer\"}]' -n kubeflow"
   ]
  },
  {
   "cell_type": "markdown",
   "metadata": {},
   "source": [
    "Now that I've changed it to a loadbalancer, it has allocated the external IP as my localhost so I can access it at http://localhost/_/pipeline-dashboard\n"
   ]
  },
  {
   "cell_type": "code",
   "execution_count": 13,
   "metadata": {},
   "outputs": [
    {
     "name": "stdout",
     "output_type": "stream",
     "text": [
      "NAME         TYPE           CLUSTER-IP      EXTERNAL-IP   PORT(S)        AGE\r\n",
      "ambassador   LoadBalancer   10.97.236.196   localhost     80:30209/TCP   9m20s\r\n"
     ]
    }
   ],
   "source": [
    "!kubectl get svc ambassador -n kubeflow"
   ]
  },
  {
   "cell_type": "markdown",
   "metadata": {},
   "source": [
    "If this was successfull, you should be able to access the dashboard\n",
    "![](img/k-pipeline-dashboard.jpg)"
   ]
  },
  {
   "cell_type": "markdown",
   "metadata": {},
   "source": [
    "### Define the pipeline\n",
    "Now we want to generate the pipeline. For this we can use the DSL provided by kubeflow to define the actual steps required. \n",
    "\n",
    "The pipeline will look as follows:\n",
    "\n",
    "![](img/kubeflow-seldon-nlp-ml-pipelines.jpg)"
   ]
  },
  {
   "cell_type": "code",
   "execution_count": 12,
   "metadata": {},
   "outputs": [
    {
     "name": "stdout",
     "output_type": "stream",
     "text": [
      "\u001b[38;5;238m───────┬────────────────────────────────────────────────────────────────────────\u001b[0m\r\n",
      "       \u001b[38;5;238m│ \u001b[0mFile: \u001b[1mtrain_pipeline/nlp_pipeline.py\u001b[0m\r\n",
      "\u001b[38;5;238m───────┼────────────────────────────────────────────────────────────────────────\u001b[0m\r\n",
      "\u001b[38;5;238m   1\u001b[0m   \u001b[38;5;238m│\u001b[0m \r\n",
      "\u001b[38;5;238m   2\u001b[0m   \u001b[38;5;238m│\u001b[0m \u001b[38;5;203mimport\u001b[0m\u001b[38;5;231m \u001b[0m\u001b[38;5;231mkfp\u001b[0m\u001b[38;5;231m.\u001b[0m\u001b[38;5;231mdsl\u001b[0m\u001b[38;5;231m \u001b[0m\u001b[38;5;203mas\u001b[0m\u001b[38;5;231m \u001b[0m\u001b[38;5;231mdsl\u001b[0m\r\n",
      "\u001b[38;5;238m   3\u001b[0m   \u001b[38;5;238m│\u001b[0m \u001b[38;5;203mimport\u001b[0m\u001b[38;5;231m \u001b[0m\u001b[38;5;231myaml\u001b[0m\r\n",
      "\u001b[38;5;238m   4\u001b[0m   \u001b[38;5;238m│\u001b[0m \u001b[38;5;203mfrom\u001b[0m\u001b[38;5;231m \u001b[0m\u001b[38;5;231mkubernetes\u001b[0m\u001b[38;5;231m \u001b[0m\u001b[38;5;203mimport\u001b[0m\u001b[38;5;231m \u001b[0m\u001b[38;5;231mclient\u001b[0m\u001b[38;5;231m \u001b[0m\u001b[38;5;203mas\u001b[0m\u001b[38;5;231m \u001b[0m\u001b[38;5;231mk8s\u001b[0m\r\n",
      "\u001b[38;5;238m   5\u001b[0m   \u001b[38;5;238m│\u001b[0m \r\n",
      "\u001b[38;5;238m   6\u001b[0m   \u001b[38;5;238m│\u001b[0m \r\n",
      "\u001b[38;5;238m   7\u001b[0m   \u001b[38;5;238m│\u001b[0m \u001b[38;5;231m@\u001b[0m\u001b[38;5;231mdsl\u001b[0m\u001b[38;5;231m.\u001b[0m\u001b[38;5;231mpipeline\u001b[0m\u001b[38;5;231m(\u001b[0m\r\n",
      "\u001b[38;5;238m   8\u001b[0m   \u001b[38;5;238m│\u001b[0m \u001b[38;5;231m  \u001b[0m\u001b[38;5;208mname\u001b[0m\u001b[38;5;203m=\u001b[0m\u001b[38;5;186m'\u001b[0m\u001b[38;5;186mNLP\u001b[0m\u001b[38;5;186m'\u001b[0m\u001b[38;5;231m,\u001b[0m\r\n",
      "\u001b[38;5;238m   9\u001b[0m   \u001b[38;5;238m│\u001b[0m \u001b[38;5;231m  \u001b[0m\u001b[38;5;208mdescription\u001b[0m\u001b[38;5;203m=\u001b[0m\u001b[38;5;186m'\u001b[0m\u001b[38;5;186mA pipeline demonstrating reproducible steps for NLP\u001b[0m\u001b[38;5;186m'\u001b[0m\r\n",
      "\u001b[38;5;238m  10\u001b[0m   \u001b[38;5;238m│\u001b[0m \u001b[38;5;231m)\u001b[0m\r\n",
      "\u001b[38;5;238m  11\u001b[0m   \u001b[38;5;238m│\u001b[0m \u001b[38;5;149mdef\u001b[0m\u001b[38;5;231m \u001b[0m\u001b[38;5;149mnlp_pipeline\u001b[0m\u001b[38;5;231m(\u001b[0m\r\n",
      "\u001b[38;5;238m  12\u001b[0m   \u001b[38;5;238m│\u001b[0m \u001b[38;5;231m        \u001b[0m\u001b[38;5;208mcsv_url\u001b[0m\u001b[38;5;203m=\u001b[0m\u001b[38;5;186m\"\u001b[0m\u001b[38;5;186mhttps://raw.githubusercontent.com/axsauze/reddit-class\u001b[0m\r\n",
      "\u001b[38;5;238m    \u001b[0m   \u001b[38;5;238m│\u001b[0m \u001b[38;5;186mification-exploration/master/data/reddit_train.csv\u001b[0m\u001b[38;5;186m\"\u001b[0m\u001b[38;5;231m,\u001b[0m\r\n",
      "\u001b[38;5;238m  13\u001b[0m   \u001b[38;5;238m│\u001b[0m \u001b[38;5;231m        \u001b[0m\u001b[38;5;208mcsv_encoding\u001b[0m\u001b[38;5;203m=\u001b[0m\u001b[38;5;186m\"\u001b[0m\u001b[38;5;186mISO-8859-1\u001b[0m\u001b[38;5;186m\"\u001b[0m\u001b[38;5;231m,\u001b[0m\r\n",
      "\u001b[38;5;238m  14\u001b[0m   \u001b[38;5;238m│\u001b[0m \u001b[38;5;231m        \u001b[0m\u001b[38;5;208mfeatures_column\u001b[0m\u001b[38;5;203m=\u001b[0m\u001b[38;5;186m\"\u001b[0m\u001b[38;5;186mBODY\u001b[0m\u001b[38;5;186m\"\u001b[0m\u001b[38;5;231m,\u001b[0m\r\n",
      "\u001b[38;5;238m  15\u001b[0m   \u001b[38;5;238m│\u001b[0m \u001b[38;5;231m        \u001b[0m\u001b[38;5;208mlabels_column\u001b[0m\u001b[38;5;203m=\u001b[0m\u001b[38;5;186m\"\u001b[0m\u001b[38;5;186mREMOVED\u001b[0m\u001b[38;5;186m\"\u001b[0m\u001b[38;5;231m,\u001b[0m\r\n",
      "\u001b[38;5;238m  16\u001b[0m   \u001b[38;5;238m│\u001b[0m \u001b[38;5;231m        \u001b[0m\u001b[38;5;208mraw_text_path\u001b[0m\u001b[38;5;203m=\u001b[0m\u001b[38;5;186m'\u001b[0m\u001b[38;5;186m/mnt/text.data\u001b[0m\u001b[38;5;186m'\u001b[0m\u001b[38;5;231m,\u001b[0m\r\n",
      "\u001b[38;5;238m  17\u001b[0m   \u001b[38;5;238m│\u001b[0m \u001b[38;5;231m        \u001b[0m\u001b[38;5;208mlabels_path\u001b[0m\u001b[38;5;203m=\u001b[0m\u001b[38;5;186m'\u001b[0m\u001b[38;5;186m/mnt/labels.data\u001b[0m\u001b[38;5;186m'\u001b[0m\u001b[38;5;231m,\u001b[0m\r\n",
      "\u001b[38;5;238m  18\u001b[0m   \u001b[38;5;238m│\u001b[0m \u001b[38;5;231m        \u001b[0m\u001b[38;5;208mclean_text_path\u001b[0m\u001b[38;5;203m=\u001b[0m\u001b[38;5;186m'\u001b[0m\u001b[38;5;186m/mnt/clean.data\u001b[0m\u001b[38;5;186m'\u001b[0m\u001b[38;5;231m,\u001b[0m\r\n",
      "\u001b[38;5;238m  19\u001b[0m   \u001b[38;5;238m│\u001b[0m \u001b[38;5;231m        \u001b[0m\u001b[38;5;208mspacy_tokens_path\u001b[0m\u001b[38;5;203m=\u001b[0m\u001b[38;5;186m'\u001b[0m\u001b[38;5;186m/mnt/tokens.data\u001b[0m\u001b[38;5;186m'\u001b[0m\u001b[38;5;231m,\u001b[0m\r\n",
      "\u001b[38;5;238m  20\u001b[0m   \u001b[38;5;238m│\u001b[0m \u001b[38;5;231m        \u001b[0m\u001b[38;5;208mtfidf_vectors_path\u001b[0m\u001b[38;5;203m=\u001b[0m\u001b[38;5;186m'\u001b[0m\u001b[38;5;186m/mnt/tfidf.data\u001b[0m\u001b[38;5;186m'\u001b[0m\u001b[38;5;231m,\u001b[0m\r\n",
      "\u001b[38;5;238m  21\u001b[0m   \u001b[38;5;238m│\u001b[0m \u001b[38;5;231m        \u001b[0m\u001b[38;5;208mlr_prediction_path\u001b[0m\u001b[38;5;203m=\u001b[0m\u001b[38;5;186m'\u001b[0m\u001b[38;5;186m/mnt/prediction.data\u001b[0m\u001b[38;5;186m'\u001b[0m\u001b[38;5;231m,\u001b[0m\r\n",
      "\u001b[38;5;238m  22\u001b[0m   \u001b[38;5;238m│\u001b[0m \u001b[38;5;231m        \u001b[0m\u001b[38;5;208mtfidf_model_path\u001b[0m\u001b[38;5;203m=\u001b[0m\u001b[38;5;186m'\u001b[0m\u001b[38;5;186m/mnt/tfidf.model\u001b[0m\u001b[38;5;186m'\u001b[0m\u001b[38;5;231m,\u001b[0m\r\n",
      "\u001b[38;5;238m  23\u001b[0m   \u001b[38;5;238m│\u001b[0m \u001b[38;5;231m        \u001b[0m\u001b[38;5;208mlr_model_path\u001b[0m\u001b[38;5;203m=\u001b[0m\u001b[38;5;186m'\u001b[0m\u001b[38;5;186m/mnt/lr.model\u001b[0m\u001b[38;5;186m'\u001b[0m\u001b[38;5;231m,\u001b[0m\r\n",
      "\u001b[38;5;238m  24\u001b[0m   \u001b[38;5;238m│\u001b[0m \u001b[38;5;231m        \u001b[0m\u001b[38;5;208mlr_c_param\u001b[0m\u001b[38;5;203m=\u001b[0m\u001b[38;5;141m0\u001b[0m\u001b[38;5;141m.\u001b[0m\u001b[38;5;141m1\u001b[0m\u001b[38;5;231m,\u001b[0m\r\n",
      "\u001b[38;5;238m  25\u001b[0m   \u001b[38;5;238m│\u001b[0m \u001b[38;5;231m        \u001b[0m\u001b[38;5;208mtfidf_max_features\u001b[0m\u001b[38;5;203m=\u001b[0m\u001b[38;5;141m10000\u001b[0m\u001b[38;5;231m,\u001b[0m\r\n",
      "\u001b[38;5;238m  26\u001b[0m   \u001b[38;5;238m│\u001b[0m \u001b[38;5;231m        \u001b[0m\u001b[38;5;208mtfidf_ngram_range\u001b[0m\u001b[38;5;203m=\u001b[0m\u001b[38;5;141m3\u001b[0m\u001b[38;5;231m,\u001b[0m\r\n",
      "\u001b[38;5;238m  27\u001b[0m   \u001b[38;5;238m│\u001b[0m \u001b[38;5;231m        \u001b[0m\u001b[38;5;208mbatch_size\u001b[0m\u001b[38;5;203m=\u001b[0m\u001b[38;5;186m'\u001b[0m\u001b[38;5;186m100\u001b[0m\u001b[38;5;186m'\u001b[0m\u001b[38;5;231m)\u001b[0m\u001b[38;5;231m:\u001b[0m\r\n",
      "\u001b[38;5;238m  28\u001b[0m   \u001b[38;5;238m│\u001b[0m \u001b[38;5;231m    \u001b[0m\u001b[38;5;242m\"\"\"\u001b[0m\r\n",
      "\u001b[38;5;238m  29\u001b[0m   \u001b[38;5;238m│\u001b[0m \u001b[38;5;242m    Pipeline \u001b[0m\r\n",
      "\u001b[38;5;238m  30\u001b[0m   \u001b[38;5;238m│\u001b[0m \u001b[38;5;242m    \u001b[0m\u001b[38;5;242m\"\"\"\u001b[0m\r\n",
      "\u001b[38;5;238m  31\u001b[0m   \u001b[38;5;238m│\u001b[0m \u001b[38;5;231m    \u001b[0m\u001b[38;5;231mvop\u001b[0m\u001b[38;5;231m \u001b[0m\u001b[38;5;203m=\u001b[0m\u001b[38;5;231m \u001b[0m\u001b[38;5;231mdsl\u001b[0m\u001b[38;5;231m.\u001b[0m\u001b[38;5;231mVolumeOp\u001b[0m\u001b[38;5;231m(\u001b[0m\r\n",
      "\u001b[38;5;238m  32\u001b[0m   \u001b[38;5;238m│\u001b[0m \u001b[38;5;231m      \u001b[0m\u001b[38;5;208mname\u001b[0m\u001b[38;5;203m=\u001b[0m\u001b[38;5;186m'\u001b[0m\u001b[38;5;186mmy-pvc\u001b[0m\u001b[38;5;186m'\u001b[0m\u001b[38;5;231m,\u001b[0m\r\n",
      "\u001b[38;5;238m  33\u001b[0m   \u001b[38;5;238m│\u001b[0m \u001b[38;5;231m      \u001b[0m\u001b[38;5;208mresource_name\u001b[0m\u001b[38;5;203m=\u001b[0m\u001b[38;5;186m\"\u001b[0m\u001b[38;5;186mmy-pvc\u001b[0m\u001b[38;5;186m\"\u001b[0m\u001b[38;5;231m,\u001b[0m\r\n",
      "\u001b[38;5;238m  34\u001b[0m   \u001b[38;5;238m│\u001b[0m \u001b[38;5;231m      \u001b[0m\u001b[38;5;208mmodes\u001b[0m\u001b[38;5;203m=\u001b[0m\u001b[38;5;231m[\u001b[0m\u001b[38;5;186m\"\u001b[0m\u001b[38;5;186mReadWriteMany\u001b[0m\u001b[38;5;186m\"\u001b[0m\u001b[38;5;231m]\u001b[0m\u001b[38;5;231m,\u001b[0m\r\n",
      "\u001b[38;5;238m  35\u001b[0m   \u001b[38;5;238m│\u001b[0m \u001b[38;5;231m      \u001b[0m\u001b[38;5;208msize\u001b[0m\u001b[38;5;203m=\u001b[0m\u001b[38;5;186m\"\u001b[0m\u001b[38;5;186m1Gi\u001b[0m\u001b[38;5;186m\"\u001b[0m\r\n",
      "\u001b[38;5;238m  36\u001b[0m   \u001b[38;5;238m│\u001b[0m \u001b[38;5;231m    \u001b[0m\u001b[38;5;231m)\u001b[0m\r\n",
      "\u001b[38;5;238m  37\u001b[0m   \u001b[38;5;238m│\u001b[0m \r\n",
      "\u001b[38;5;238m  38\u001b[0m   \u001b[38;5;238m│\u001b[0m \u001b[38;5;231m    \u001b[0m\u001b[38;5;231mdownload_step\u001b[0m\u001b[38;5;231m \u001b[0m\u001b[38;5;203m=\u001b[0m\u001b[38;5;231m \u001b[0m\u001b[38;5;231mdsl\u001b[0m\u001b[38;5;231m.\u001b[0m\u001b[38;5;231mContainerOp\u001b[0m\u001b[38;5;231m(\u001b[0m\r\n",
      "\u001b[38;5;238m  39\u001b[0m   \u001b[38;5;238m│\u001b[0m \u001b[38;5;231m        \u001b[0m\u001b[38;5;208mname\u001b[0m\u001b[38;5;203m=\u001b[0m\u001b[38;5;186m'\u001b[0m\u001b[38;5;186mdata_downloader\u001b[0m\u001b[38;5;186m'\u001b[0m\u001b[38;5;231m,\u001b[0m\r\n",
      "\u001b[38;5;238m  40\u001b[0m   \u001b[38;5;238m│\u001b[0m \u001b[38;5;231m        \u001b[0m\u001b[38;5;208mimage\u001b[0m\u001b[38;5;203m=\u001b[0m\u001b[38;5;186m'\u001b[0m\u001b[38;5;186mdata_downloader:0.1\u001b[0m\u001b[38;5;186m'\u001b[0m\u001b[38;5;231m,\u001b[0m\r\n",
      "\u001b[38;5;238m  41\u001b[0m   \u001b[38;5;238m│\u001b[0m \u001b[38;5;231m        \u001b[0m\u001b[38;5;208mcommand\u001b[0m\u001b[38;5;203m=\u001b[0m\u001b[38;5;186m\"\u001b[0m\u001b[38;5;186mpython\u001b[0m\u001b[38;5;186m\"\u001b[0m\u001b[38;5;231m,\u001b[0m\r\n",
      "\u001b[38;5;238m  42\u001b[0m   \u001b[38;5;238m│\u001b[0m \u001b[38;5;231m        \u001b[0m\u001b[38;5;208marguments\u001b[0m\u001b[38;5;203m=\u001b[0m\u001b[38;5;231m[\u001b[0m\r\n",
      "\u001b[38;5;238m  43\u001b[0m   \u001b[38;5;238m│\u001b[0m \u001b[38;5;231m            \u001b[0m\u001b[38;5;186m\"\u001b[0m\u001b[38;5;186m/microservice/pipeline_step.py\u001b[0m\u001b[38;5;186m\"\u001b[0m\u001b[38;5;231m,\u001b[0m\r\n",
      "\u001b[38;5;238m  44\u001b[0m   \u001b[38;5;238m│\u001b[0m \u001b[38;5;231m            \u001b[0m\u001b[38;5;186m\"\u001b[0m\u001b[38;5;186m--labels-path\u001b[0m\u001b[38;5;186m\"\u001b[0m\u001b[38;5;231m,\u001b[0m\u001b[38;5;231m \u001b[0m\u001b[38;5;231mlabels_path\u001b[0m\u001b[38;5;231m,\u001b[0m\r\n",
      "\u001b[38;5;238m  45\u001b[0m   \u001b[38;5;238m│\u001b[0m \u001b[38;5;231m            \u001b[0m\u001b[38;5;186m\"\u001b[0m\u001b[38;5;186m--features-path\u001b[0m\u001b[38;5;186m\"\u001b[0m\u001b[38;5;231m,\u001b[0m\u001b[38;5;231m \u001b[0m\u001b[38;5;231mraw_text_path\u001b[0m\u001b[38;5;231m,\u001b[0m\r\n",
      "\u001b[38;5;238m  46\u001b[0m   \u001b[38;5;238m│\u001b[0m \u001b[38;5;231m            \u001b[0m\u001b[38;5;186m\"\u001b[0m\u001b[38;5;186m--csv-url\u001b[0m\u001b[38;5;186m\"\u001b[0m\u001b[38;5;231m,\u001b[0m\u001b[38;5;231m \u001b[0m\u001b[38;5;231mcsv_url\u001b[0m\u001b[38;5;231m,\u001b[0m\r\n",
      "\u001b[38;5;238m  47\u001b[0m   \u001b[38;5;238m│\u001b[0m \u001b[38;5;231m            \u001b[0m\u001b[38;5;186m\"\u001b[0m\u001b[38;5;186m--csv-encoding\u001b[0m\u001b[38;5;186m\"\u001b[0m\u001b[38;5;231m,\u001b[0m\u001b[38;5;231m \u001b[0m\u001b[38;5;231mcsv_encoding\u001b[0m\u001b[38;5;231m,\u001b[0m\r\n",
      "\u001b[38;5;238m  48\u001b[0m   \u001b[38;5;238m│\u001b[0m \u001b[38;5;231m            \u001b[0m\u001b[38;5;186m\"\u001b[0m\u001b[38;5;186m--features-column\u001b[0m\u001b[38;5;186m\"\u001b[0m\u001b[38;5;231m,\u001b[0m\u001b[38;5;231m \u001b[0m\u001b[38;5;231mfeatures_column\u001b[0m\u001b[38;5;231m,\u001b[0m\r\n",
      "\u001b[38;5;238m  49\u001b[0m   \u001b[38;5;238m│\u001b[0m \u001b[38;5;231m            \u001b[0m\u001b[38;5;186m\"\u001b[0m\u001b[38;5;186m--labels-column\u001b[0m\u001b[38;5;186m\"\u001b[0m\u001b[38;5;231m,\u001b[0m\u001b[38;5;231m \u001b[0m\u001b[38;5;231mlabels_column\u001b[0m\r\n",
      "\u001b[38;5;238m  50\u001b[0m   \u001b[38;5;238m│\u001b[0m \u001b[38;5;231m        \u001b[0m\u001b[38;5;231m]\u001b[0m\u001b[38;5;231m,\u001b[0m\r\n",
      "\u001b[38;5;238m  51\u001b[0m   \u001b[38;5;238m│\u001b[0m \u001b[38;5;231m        \u001b[0m\u001b[38;5;208mpvolumes\u001b[0m\u001b[38;5;203m=\u001b[0m\u001b[38;5;231m{\u001b[0m\u001b[38;5;186m\"\u001b[0m\u001b[38;5;186m/mnt\u001b[0m\u001b[38;5;186m\"\u001b[0m\u001b[38;5;231m:\u001b[0m\u001b[38;5;231m \u001b[0m\u001b[38;5;231mvop\u001b[0m\u001b[38;5;231m.\u001b[0m\u001b[38;5;231mvolume\u001b[0m\u001b[38;5;231m}\u001b[0m\r\n",
      "\u001b[38;5;238m  52\u001b[0m   \u001b[38;5;238m│\u001b[0m \u001b[38;5;231m    \u001b[0m\u001b[38;5;231m)\u001b[0m\r\n",
      "\u001b[38;5;238m  53\u001b[0m   \u001b[38;5;238m│\u001b[0m \r\n",
      "\u001b[38;5;238m  54\u001b[0m   \u001b[38;5;238m│\u001b[0m \u001b[38;5;231m    \u001b[0m\u001b[38;5;231mclean_step\u001b[0m\u001b[38;5;231m \u001b[0m\u001b[38;5;203m=\u001b[0m\u001b[38;5;231m \u001b[0m\u001b[38;5;231mdsl\u001b[0m\u001b[38;5;231m.\u001b[0m\u001b[38;5;231mContainerOp\u001b[0m\u001b[38;5;231m(\u001b[0m\r\n",
      "\u001b[38;5;238m  55\u001b[0m   \u001b[38;5;238m│\u001b[0m \u001b[38;5;231m        \u001b[0m\u001b[38;5;208mname\u001b[0m\u001b[38;5;203m=\u001b[0m\u001b[38;5;186m'\u001b[0m\u001b[38;5;186mclean_text\u001b[0m\u001b[38;5;186m'\u001b[0m\u001b[38;5;231m,\u001b[0m\r\n",
      "\u001b[38;5;238m  56\u001b[0m   \u001b[38;5;238m│\u001b[0m \u001b[38;5;231m        \u001b[0m\u001b[38;5;208mimage\u001b[0m\u001b[38;5;203m=\u001b[0m\u001b[38;5;186m'\u001b[0m\u001b[38;5;186mclean_text_transformer:0.1\u001b[0m\u001b[38;5;186m'\u001b[0m\u001b[38;5;231m,\u001b[0m\r\n",
      "\u001b[38;5;238m  57\u001b[0m   \u001b[38;5;238m│\u001b[0m \u001b[38;5;231m        \u001b[0m\u001b[38;5;208mcommand\u001b[0m\u001b[38;5;203m=\u001b[0m\u001b[38;5;186m\"\u001b[0m\u001b[38;5;186mpython\u001b[0m\u001b[38;5;186m\"\u001b[0m\u001b[38;5;231m,\u001b[0m\r\n",
      "\u001b[38;5;238m  58\u001b[0m   \u001b[38;5;238m│\u001b[0m \u001b[38;5;231m        \u001b[0m\u001b[38;5;208marguments\u001b[0m\u001b[38;5;203m=\u001b[0m\u001b[38;5;231m[\u001b[0m\r\n",
      "\u001b[38;5;238m  59\u001b[0m   \u001b[38;5;238m│\u001b[0m \u001b[38;5;231m            \u001b[0m\u001b[38;5;186m\"\u001b[0m\u001b[38;5;186m/microservice/pipeline_step.py\u001b[0m\u001b[38;5;186m\"\u001b[0m\u001b[38;5;231m,\u001b[0m\r\n",
      "\u001b[38;5;238m  60\u001b[0m   \u001b[38;5;238m│\u001b[0m \u001b[38;5;231m            \u001b[0m\u001b[38;5;186m\"\u001b[0m\u001b[38;5;186m--in-path\u001b[0m\u001b[38;5;186m\"\u001b[0m\u001b[38;5;231m,\u001b[0m\u001b[38;5;231m \u001b[0m\u001b[38;5;231mraw_text_path\u001b[0m\u001b[38;5;231m,\u001b[0m\r\n",
      "\u001b[38;5;238m  61\u001b[0m   \u001b[38;5;238m│\u001b[0m \u001b[38;5;231m            \u001b[0m\u001b[38;5;186m\"\u001b[0m\u001b[38;5;186m--out-path\u001b[0m\u001b[38;5;186m\"\u001b[0m\u001b[38;5;231m,\u001b[0m\u001b[38;5;231m \u001b[0m\u001b[38;5;231mclean_text_path\u001b[0m\u001b[38;5;231m,\u001b[0m\r\n",
      "\u001b[38;5;238m  62\u001b[0m   \u001b[38;5;238m│\u001b[0m \u001b[38;5;231m        \u001b[0m\u001b[38;5;231m]\u001b[0m\u001b[38;5;231m,\u001b[0m\r\n",
      "\u001b[38;5;238m  63\u001b[0m   \u001b[38;5;238m│\u001b[0m \u001b[38;5;231m        \u001b[0m\u001b[38;5;208mpvolumes\u001b[0m\u001b[38;5;203m=\u001b[0m\u001b[38;5;231m{\u001b[0m\u001b[38;5;186m\"\u001b[0m\u001b[38;5;186m/mnt\u001b[0m\u001b[38;5;186m\"\u001b[0m\u001b[38;5;231m:\u001b[0m\u001b[38;5;231m \u001b[0m\u001b[38;5;231mdownload_step\u001b[0m\u001b[38;5;231m.\u001b[0m\u001b[38;5;231mpvolume\u001b[0m\u001b[38;5;231m}\u001b[0m\r\n",
      "\u001b[38;5;238m  64\u001b[0m   \u001b[38;5;238m│\u001b[0m \u001b[38;5;231m    \u001b[0m\u001b[38;5;231m)\u001b[0m\r\n"
     ]
    },
    {
     "name": "stdout",
     "output_type": "stream",
     "text": [
      "\u001b[38;5;238m  65\u001b[0m   \u001b[38;5;238m│\u001b[0m \r\n",
      "\u001b[38;5;238m  66\u001b[0m   \u001b[38;5;238m│\u001b[0m \u001b[38;5;231m    \u001b[0m\u001b[38;5;231mtokenize_step\u001b[0m\u001b[38;5;231m \u001b[0m\u001b[38;5;203m=\u001b[0m\u001b[38;5;231m \u001b[0m\u001b[38;5;231mdsl\u001b[0m\u001b[38;5;231m.\u001b[0m\u001b[38;5;231mContainerOp\u001b[0m\u001b[38;5;231m(\u001b[0m\r\n",
      "\u001b[38;5;238m  67\u001b[0m   \u001b[38;5;238m│\u001b[0m \u001b[38;5;231m        \u001b[0m\u001b[38;5;208mname\u001b[0m\u001b[38;5;203m=\u001b[0m\u001b[38;5;186m'\u001b[0m\u001b[38;5;186mtokenize\u001b[0m\u001b[38;5;186m'\u001b[0m\u001b[38;5;231m,\u001b[0m\r\n",
      "\u001b[38;5;238m  68\u001b[0m   \u001b[38;5;238m│\u001b[0m \u001b[38;5;231m        \u001b[0m\u001b[38;5;208mimage\u001b[0m\u001b[38;5;203m=\u001b[0m\u001b[38;5;186m'\u001b[0m\u001b[38;5;186mspacy_tokenizer:0.1\u001b[0m\u001b[38;5;186m'\u001b[0m\u001b[38;5;231m,\u001b[0m\r\n",
      "\u001b[38;5;238m  69\u001b[0m   \u001b[38;5;238m│\u001b[0m \u001b[38;5;231m        \u001b[0m\u001b[38;5;208mcommand\u001b[0m\u001b[38;5;203m=\u001b[0m\u001b[38;5;186m\"\u001b[0m\u001b[38;5;186mpython\u001b[0m\u001b[38;5;186m\"\u001b[0m\u001b[38;5;231m,\u001b[0m\r\n",
      "\u001b[38;5;238m  70\u001b[0m   \u001b[38;5;238m│\u001b[0m \u001b[38;5;231m        \u001b[0m\u001b[38;5;208marguments\u001b[0m\u001b[38;5;203m=\u001b[0m\u001b[38;5;231m[\u001b[0m\r\n",
      "\u001b[38;5;238m  71\u001b[0m   \u001b[38;5;238m│\u001b[0m \u001b[38;5;231m            \u001b[0m\u001b[38;5;186m\"\u001b[0m\u001b[38;5;186m/microservice/pipeline_step.py\u001b[0m\u001b[38;5;186m\"\u001b[0m\u001b[38;5;231m,\u001b[0m\r\n",
      "\u001b[38;5;238m  72\u001b[0m   \u001b[38;5;238m│\u001b[0m \u001b[38;5;231m            \u001b[0m\u001b[38;5;186m\"\u001b[0m\u001b[38;5;186m--in-path\u001b[0m\u001b[38;5;186m\"\u001b[0m\u001b[38;5;231m,\u001b[0m\u001b[38;5;231m \u001b[0m\u001b[38;5;231mclean_text_path\u001b[0m\u001b[38;5;231m,\u001b[0m\r\n",
      "\u001b[38;5;238m  73\u001b[0m   \u001b[38;5;238m│\u001b[0m \u001b[38;5;231m            \u001b[0m\u001b[38;5;186m\"\u001b[0m\u001b[38;5;186m--out-path\u001b[0m\u001b[38;5;186m\"\u001b[0m\u001b[38;5;231m,\u001b[0m\u001b[38;5;231m \u001b[0m\u001b[38;5;231mspacy_tokens_path\u001b[0m\u001b[38;5;231m,\u001b[0m\r\n",
      "\u001b[38;5;238m  74\u001b[0m   \u001b[38;5;238m│\u001b[0m \u001b[38;5;231m        \u001b[0m\u001b[38;5;231m]\u001b[0m\u001b[38;5;231m,\u001b[0m\r\n",
      "\u001b[38;5;238m  75\u001b[0m   \u001b[38;5;238m│\u001b[0m \u001b[38;5;231m        \u001b[0m\u001b[38;5;208mpvolumes\u001b[0m\u001b[38;5;203m=\u001b[0m\u001b[38;5;231m{\u001b[0m\u001b[38;5;186m\"\u001b[0m\u001b[38;5;186m/mnt\u001b[0m\u001b[38;5;186m\"\u001b[0m\u001b[38;5;231m:\u001b[0m\u001b[38;5;231m \u001b[0m\u001b[38;5;231mclean_step\u001b[0m\u001b[38;5;231m.\u001b[0m\u001b[38;5;231mpvolume\u001b[0m\u001b[38;5;231m}\u001b[0m\r\n",
      "\u001b[38;5;238m  76\u001b[0m   \u001b[38;5;238m│\u001b[0m \u001b[38;5;231m    \u001b[0m\u001b[38;5;231m)\u001b[0m\r\n",
      "\u001b[38;5;238m  77\u001b[0m   \u001b[38;5;238m│\u001b[0m \r\n",
      "\u001b[38;5;238m  78\u001b[0m   \u001b[38;5;238m│\u001b[0m \u001b[38;5;231m    \u001b[0m\u001b[38;5;231mvectorize_step\u001b[0m\u001b[38;5;231m \u001b[0m\u001b[38;5;203m=\u001b[0m\u001b[38;5;231m \u001b[0m\u001b[38;5;231mdsl\u001b[0m\u001b[38;5;231m.\u001b[0m\u001b[38;5;231mContainerOp\u001b[0m\u001b[38;5;231m(\u001b[0m\r\n",
      "\u001b[38;5;238m  79\u001b[0m   \u001b[38;5;238m│\u001b[0m \u001b[38;5;231m        \u001b[0m\u001b[38;5;208mname\u001b[0m\u001b[38;5;203m=\u001b[0m\u001b[38;5;186m'\u001b[0m\u001b[38;5;186mvectorize\u001b[0m\u001b[38;5;186m'\u001b[0m\u001b[38;5;231m,\u001b[0m\r\n",
      "\u001b[38;5;238m  80\u001b[0m   \u001b[38;5;238m│\u001b[0m \u001b[38;5;231m        \u001b[0m\u001b[38;5;208mimage\u001b[0m\u001b[38;5;203m=\u001b[0m\u001b[38;5;186m'\u001b[0m\u001b[38;5;186mtfidf_vectorizer:0.1\u001b[0m\u001b[38;5;186m'\u001b[0m\u001b[38;5;231m,\u001b[0m\r\n",
      "\u001b[38;5;238m  81\u001b[0m   \u001b[38;5;238m│\u001b[0m \u001b[38;5;231m        \u001b[0m\u001b[38;5;208mcommand\u001b[0m\u001b[38;5;203m=\u001b[0m\u001b[38;5;186m\"\u001b[0m\u001b[38;5;186mpython\u001b[0m\u001b[38;5;186m\"\u001b[0m\u001b[38;5;231m,\u001b[0m\r\n",
      "\u001b[38;5;238m  82\u001b[0m   \u001b[38;5;238m│\u001b[0m \u001b[38;5;231m        \u001b[0m\u001b[38;5;208marguments\u001b[0m\u001b[38;5;203m=\u001b[0m\u001b[38;5;231m[\u001b[0m\r\n",
      "\u001b[38;5;238m  83\u001b[0m   \u001b[38;5;238m│\u001b[0m \u001b[38;5;231m            \u001b[0m\u001b[38;5;186m\"\u001b[0m\u001b[38;5;186m/microservice/pipeline_step.py\u001b[0m\u001b[38;5;186m\"\u001b[0m\u001b[38;5;231m,\u001b[0m\r\n",
      "\u001b[38;5;238m  84\u001b[0m   \u001b[38;5;238m│\u001b[0m \u001b[38;5;231m            \u001b[0m\u001b[38;5;186m\"\u001b[0m\u001b[38;5;186m--in-path\u001b[0m\u001b[38;5;186m\"\u001b[0m\u001b[38;5;231m,\u001b[0m\u001b[38;5;231m \u001b[0m\u001b[38;5;231mspacy_tokens_path\u001b[0m\u001b[38;5;231m,\u001b[0m\r\n",
      "\u001b[38;5;238m  85\u001b[0m   \u001b[38;5;238m│\u001b[0m \u001b[38;5;231m            \u001b[0m\u001b[38;5;186m\"\u001b[0m\u001b[38;5;186m--out-path\u001b[0m\u001b[38;5;186m\"\u001b[0m\u001b[38;5;231m,\u001b[0m\u001b[38;5;231m \u001b[0m\u001b[38;5;231mtfidf_vectors_path\u001b[0m\u001b[38;5;231m,\u001b[0m\r\n",
      "\u001b[38;5;238m  86\u001b[0m   \u001b[38;5;238m│\u001b[0m \u001b[38;5;231m            \u001b[0m\u001b[38;5;186m\"\u001b[0m\u001b[38;5;186m--max-features\u001b[0m\u001b[38;5;186m\"\u001b[0m\u001b[38;5;231m,\u001b[0m\u001b[38;5;231m \u001b[0m\u001b[38;5;231mtfidf_max_features\u001b[0m\u001b[38;5;231m,\u001b[0m\r\n",
      "\u001b[38;5;238m  87\u001b[0m   \u001b[38;5;238m│\u001b[0m \u001b[38;5;231m            \u001b[0m\u001b[38;5;186m\"\u001b[0m\u001b[38;5;186m--ngram-range\u001b[0m\u001b[38;5;186m\"\u001b[0m\u001b[38;5;231m,\u001b[0m\u001b[38;5;231m \u001b[0m\u001b[38;5;231mtfidf_ngram_range\u001b[0m\u001b[38;5;231m,\u001b[0m\r\n",
      "\u001b[38;5;238m  88\u001b[0m   \u001b[38;5;238m│\u001b[0m \u001b[38;5;231m            \u001b[0m\u001b[38;5;186m\"\u001b[0m\u001b[38;5;186m--action\u001b[0m\u001b[38;5;186m\"\u001b[0m\u001b[38;5;231m,\u001b[0m\u001b[38;5;231m \u001b[0m\u001b[38;5;186m\"\u001b[0m\u001b[38;5;186mtrain\u001b[0m\u001b[38;5;186m\"\u001b[0m\u001b[38;5;231m,\u001b[0m\r\n",
      "\u001b[38;5;238m  89\u001b[0m   \u001b[38;5;238m│\u001b[0m \u001b[38;5;231m            \u001b[0m\u001b[38;5;186m\"\u001b[0m\u001b[38;5;186m--model-path\u001b[0m\u001b[38;5;186m\"\u001b[0m\u001b[38;5;231m,\u001b[0m\u001b[38;5;231m \u001b[0m\u001b[38;5;231mtfidf_model_path\u001b[0m\u001b[38;5;231m,\u001b[0m\r\n",
      "\u001b[38;5;238m  90\u001b[0m   \u001b[38;5;238m│\u001b[0m \u001b[38;5;231m        \u001b[0m\u001b[38;5;231m]\u001b[0m\u001b[38;5;231m,\u001b[0m\r\n",
      "\u001b[38;5;238m  91\u001b[0m   \u001b[38;5;238m│\u001b[0m \u001b[38;5;231m        \u001b[0m\u001b[38;5;208mpvolumes\u001b[0m\u001b[38;5;203m=\u001b[0m\u001b[38;5;231m{\u001b[0m\u001b[38;5;186m\"\u001b[0m\u001b[38;5;186m/mnt\u001b[0m\u001b[38;5;186m\"\u001b[0m\u001b[38;5;231m:\u001b[0m\u001b[38;5;231m \u001b[0m\u001b[38;5;231mtokenize_step\u001b[0m\u001b[38;5;231m.\u001b[0m\u001b[38;5;231mpvolume\u001b[0m\u001b[38;5;231m}\u001b[0m\r\n",
      "\u001b[38;5;238m  92\u001b[0m   \u001b[38;5;238m│\u001b[0m \u001b[38;5;231m    \u001b[0m\u001b[38;5;231m)\u001b[0m\r\n",
      "\u001b[38;5;238m  93\u001b[0m   \u001b[38;5;238m│\u001b[0m \r\n",
      "\u001b[38;5;238m  94\u001b[0m   \u001b[38;5;238m│\u001b[0m \u001b[38;5;231m    \u001b[0m\u001b[38;5;231mpredict_step\u001b[0m\u001b[38;5;231m \u001b[0m\u001b[38;5;203m=\u001b[0m\u001b[38;5;231m \u001b[0m\u001b[38;5;231mdsl\u001b[0m\u001b[38;5;231m.\u001b[0m\u001b[38;5;231mContainerOp\u001b[0m\u001b[38;5;231m(\u001b[0m\r\n",
      "\u001b[38;5;238m  95\u001b[0m   \u001b[38;5;238m│\u001b[0m \u001b[38;5;231m        \u001b[0m\u001b[38;5;208mname\u001b[0m\u001b[38;5;203m=\u001b[0m\u001b[38;5;186m'\u001b[0m\u001b[38;5;186mpredictor\u001b[0m\u001b[38;5;186m'\u001b[0m\u001b[38;5;231m,\u001b[0m\r\n",
      "\u001b[38;5;238m  96\u001b[0m   \u001b[38;5;238m│\u001b[0m \u001b[38;5;231m        \u001b[0m\u001b[38;5;208mimage\u001b[0m\u001b[38;5;203m=\u001b[0m\u001b[38;5;186m'\u001b[0m\u001b[38;5;186mlr_text_classifier:0.1\u001b[0m\u001b[38;5;186m'\u001b[0m\u001b[38;5;231m,\u001b[0m\r\n",
      "\u001b[38;5;238m  97\u001b[0m   \u001b[38;5;238m│\u001b[0m \u001b[38;5;231m        \u001b[0m\u001b[38;5;208mcommand\u001b[0m\u001b[38;5;203m=\u001b[0m\u001b[38;5;186m\"\u001b[0m\u001b[38;5;186mpython\u001b[0m\u001b[38;5;186m\"\u001b[0m\u001b[38;5;231m,\u001b[0m\r\n",
      "\u001b[38;5;238m  98\u001b[0m   \u001b[38;5;238m│\u001b[0m \u001b[38;5;231m        \u001b[0m\u001b[38;5;208marguments\u001b[0m\u001b[38;5;203m=\u001b[0m\u001b[38;5;231m[\u001b[0m\r\n",
      "\u001b[38;5;238m  99\u001b[0m   \u001b[38;5;238m│\u001b[0m \u001b[38;5;231m            \u001b[0m\u001b[38;5;186m\"\u001b[0m\u001b[38;5;186m/microservice/pipeline_step.py\u001b[0m\u001b[38;5;186m\"\u001b[0m\u001b[38;5;231m,\u001b[0m\r\n",
      "\u001b[38;5;238m 100\u001b[0m   \u001b[38;5;238m│\u001b[0m \u001b[38;5;231m            \u001b[0m\u001b[38;5;186m\"\u001b[0m\u001b[38;5;186m--in-path\u001b[0m\u001b[38;5;186m\"\u001b[0m\u001b[38;5;231m,\u001b[0m\u001b[38;5;231m \u001b[0m\u001b[38;5;231mtfidf_vectors_path\u001b[0m\u001b[38;5;231m,\u001b[0m\r\n",
      "\u001b[38;5;238m 101\u001b[0m   \u001b[38;5;238m│\u001b[0m \u001b[38;5;231m            \u001b[0m\u001b[38;5;186m\"\u001b[0m\u001b[38;5;186m--labels-path\u001b[0m\u001b[38;5;186m\"\u001b[0m\u001b[38;5;231m,\u001b[0m\u001b[38;5;231m \u001b[0m\u001b[38;5;231mlabels_path\u001b[0m\u001b[38;5;231m,\u001b[0m\r\n",
      "\u001b[38;5;238m 102\u001b[0m   \u001b[38;5;238m│\u001b[0m \u001b[38;5;231m            \u001b[0m\u001b[38;5;186m\"\u001b[0m\u001b[38;5;186m--out-path\u001b[0m\u001b[38;5;186m\"\u001b[0m\u001b[38;5;231m,\u001b[0m\u001b[38;5;231m \u001b[0m\u001b[38;5;231mlr_prediction_path\u001b[0m\u001b[38;5;231m,\u001b[0m\r\n",
      "\u001b[38;5;238m 103\u001b[0m   \u001b[38;5;238m│\u001b[0m \u001b[38;5;231m            \u001b[0m\u001b[38;5;186m\"\u001b[0m\u001b[38;5;186m--c-param\u001b[0m\u001b[38;5;186m\"\u001b[0m\u001b[38;5;231m,\u001b[0m\u001b[38;5;231m \u001b[0m\u001b[38;5;231mlr_c_param\u001b[0m\u001b[38;5;231m,\u001b[0m\r\n",
      "\u001b[38;5;238m 104\u001b[0m   \u001b[38;5;238m│\u001b[0m \u001b[38;5;231m            \u001b[0m\u001b[38;5;186m\"\u001b[0m\u001b[38;5;186m--action\u001b[0m\u001b[38;5;186m\"\u001b[0m\u001b[38;5;231m,\u001b[0m\u001b[38;5;231m \u001b[0m\u001b[38;5;186m\"\u001b[0m\u001b[38;5;186mtrain\u001b[0m\u001b[38;5;186m\"\u001b[0m\u001b[38;5;231m,\u001b[0m\r\n",
      "\u001b[38;5;238m 105\u001b[0m   \u001b[38;5;238m│\u001b[0m \u001b[38;5;231m            \u001b[0m\u001b[38;5;186m\"\u001b[0m\u001b[38;5;186m--model-path\u001b[0m\u001b[38;5;186m\"\u001b[0m\u001b[38;5;231m,\u001b[0m\u001b[38;5;231m \u001b[0m\u001b[38;5;231mlr_model_path\u001b[0m\u001b[38;5;231m,\u001b[0m\r\n",
      "\u001b[38;5;238m 106\u001b[0m   \u001b[38;5;238m│\u001b[0m \u001b[38;5;231m        \u001b[0m\u001b[38;5;231m]\u001b[0m\u001b[38;5;231m,\u001b[0m\r\n",
      "\u001b[38;5;238m 107\u001b[0m   \u001b[38;5;238m│\u001b[0m \u001b[38;5;231m        \u001b[0m\u001b[38;5;208mpvolumes\u001b[0m\u001b[38;5;203m=\u001b[0m\u001b[38;5;231m{\u001b[0m\u001b[38;5;186m\"\u001b[0m\u001b[38;5;186m/mnt\u001b[0m\u001b[38;5;186m\"\u001b[0m\u001b[38;5;231m:\u001b[0m\u001b[38;5;231m \u001b[0m\u001b[38;5;231mvectorize_step\u001b[0m\u001b[38;5;231m.\u001b[0m\u001b[38;5;231mpvolume\u001b[0m\u001b[38;5;231m}\u001b[0m\r\n",
      "\u001b[38;5;238m 108\u001b[0m   \u001b[38;5;238m│\u001b[0m \u001b[38;5;231m    \u001b[0m\u001b[38;5;231m)\u001b[0m\r\n",
      "\u001b[38;5;238m 109\u001b[0m   \u001b[38;5;238m│\u001b[0m \r\n",
      "\u001b[38;5;238m 110\u001b[0m \u001b[33m~\u001b[0m \u001b[38;5;238m│\u001b[0m \u001b[38;5;231m    \u001b[0m\u001b[38;5;203mtry\u001b[0m\u001b[38;5;231m:\u001b[0m\r\n",
      "\u001b[38;5;238m 111\u001b[0m \u001b[33m~\u001b[0m \u001b[38;5;238m│\u001b[0m \u001b[38;5;231m        \u001b[0m\u001b[38;5;231mseldon_config\u001b[0m\u001b[38;5;231m \u001b[0m\u001b[38;5;203m=\u001b[0m\u001b[38;5;231m \u001b[0m\u001b[38;5;231myaml\u001b[0m\u001b[38;5;231m.\u001b[0m\u001b[38;5;231mload\u001b[0m\u001b[38;5;231m(\u001b[0m\u001b[38;5;81mopen\u001b[0m\u001b[38;5;231m(\u001b[0m\u001b[38;5;186m\"\u001b[0m\u001b[38;5;186m../deploy_pipeline/seldon_produ\u001b[0m\r\n",
      "\u001b[38;5;238m    \u001b[0m   \u001b[38;5;238m│\u001b[0m \u001b[38;5;186mction_pipeline.yaml\u001b[0m\u001b[38;5;186m\"\u001b[0m\u001b[38;5;231m)\u001b[0m\u001b[38;5;231m)\u001b[0m\r\n",
      "\u001b[38;5;238m 112\u001b[0m \u001b[33m~\u001b[0m \u001b[38;5;238m│\u001b[0m \u001b[38;5;231m    \u001b[0m\u001b[38;5;203mexcept\u001b[0m\u001b[38;5;231m:\u001b[0m\r\n",
      "\u001b[38;5;238m 113\u001b[0m \u001b[33m~\u001b[0m \u001b[38;5;238m│\u001b[0m \u001b[38;5;231m        \u001b[0m\u001b[38;5;242m#\u001b[0m\u001b[38;5;242m If this file is run from the project core directory \u001b[0m\r\n",
      "\u001b[38;5;238m 114\u001b[0m \u001b[33m~\u001b[0m \u001b[38;5;238m│\u001b[0m \u001b[38;5;231m        \u001b[0m\u001b[38;5;231mseldon_config\u001b[0m\u001b[38;5;231m \u001b[0m\u001b[38;5;203m=\u001b[0m\u001b[38;5;231m \u001b[0m\u001b[38;5;231myaml\u001b[0m\u001b[38;5;231m.\u001b[0m\u001b[38;5;231mload\u001b[0m\u001b[38;5;231m(\u001b[0m\u001b[38;5;81mopen\u001b[0m\u001b[38;5;231m(\u001b[0m\u001b[38;5;186m\"\u001b[0m\u001b[38;5;186mdeploy_pipeline/seldon_producti\u001b[0m\r\n",
      "\u001b[38;5;238m    \u001b[0m   \u001b[38;5;238m│\u001b[0m \u001b[38;5;186mon_pipeline.yaml\u001b[0m\u001b[38;5;186m\"\u001b[0m\u001b[38;5;231m)\u001b[0m\u001b[38;5;231m)\u001b[0m\r\n",
      "\u001b[38;5;238m 115\u001b[0m   \u001b[38;5;238m│\u001b[0m \r\n",
      "\u001b[38;5;238m 116\u001b[0m   \u001b[38;5;238m│\u001b[0m \u001b[38;5;231m    \u001b[0m\u001b[38;5;231mdeploy_step\u001b[0m\u001b[38;5;231m \u001b[0m\u001b[38;5;203m=\u001b[0m\u001b[38;5;231m \u001b[0m\u001b[38;5;231mdsl\u001b[0m\u001b[38;5;231m.\u001b[0m\u001b[38;5;231mResourceOp\u001b[0m\u001b[38;5;231m(\u001b[0m\r\n",
      "\u001b[38;5;238m 117\u001b[0m   \u001b[38;5;238m│\u001b[0m \u001b[38;5;231m        \u001b[0m\u001b[38;5;208mname\u001b[0m\u001b[38;5;203m=\u001b[0m\u001b[38;5;186m\"\u001b[0m\u001b[38;5;186mseldondeploy\u001b[0m\u001b[38;5;186m\"\u001b[0m\u001b[38;5;231m,\u001b[0m\r\n",
      "\u001b[38;5;238m 118\u001b[0m   \u001b[38;5;238m│\u001b[0m \u001b[38;5;231m        \u001b[0m\u001b[38;5;208mk8s_resource\u001b[0m\u001b[38;5;203m=\u001b[0m\u001b[38;5;231mseldon_config\u001b[0m\u001b[38;5;231m,\u001b[0m\r\n",
      "\u001b[38;5;238m 119\u001b[0m   \u001b[38;5;238m│\u001b[0m \u001b[38;5;231m        \u001b[0m\u001b[38;5;208mattribute_outputs\u001b[0m\u001b[38;5;203m=\u001b[0m\u001b[38;5;231m{\u001b[0m\u001b[38;5;186m\"\u001b[0m\u001b[38;5;186mname\u001b[0m\u001b[38;5;186m\"\u001b[0m\u001b[38;5;231m:\u001b[0m\u001b[38;5;231m \u001b[0m\u001b[38;5;186m\"\u001b[0m\u001b[38;5;141m{\u001b[0m\u001b[38;5;141m.metadata.name\u001b[0m\u001b[38;5;141m}\u001b[0m\u001b[38;5;186m\"\u001b[0m\u001b[38;5;231m}\u001b[0m\u001b[38;5;231m)\u001b[0m\r\n",
      "\u001b[38;5;238m 120\u001b[0m   \u001b[38;5;238m│\u001b[0m \r\n",
      "\u001b[38;5;238m 121\u001b[0m   \u001b[38;5;238m│\u001b[0m \u001b[38;5;231m    \u001b[0m\u001b[38;5;231mdeploy_step\u001b[0m\u001b[38;5;231m.\u001b[0m\u001b[38;5;231mafter\u001b[0m\u001b[38;5;231m(\u001b[0m\u001b[38;5;231mpredict_step\u001b[0m\u001b[38;5;231m)\u001b[0m\r\n",
      "\u001b[38;5;238m 122\u001b[0m   \u001b[38;5;238m│\u001b[0m \r\n",
      "\u001b[38;5;238m 123\u001b[0m   \u001b[38;5;238m│\u001b[0m \u001b[38;5;203mif\u001b[0m\u001b[38;5;231m \u001b[0m\u001b[38;5;231m__name__\u001b[0m\u001b[38;5;231m \u001b[0m\u001b[38;5;203m==\u001b[0m\u001b[38;5;231m \u001b[0m\u001b[38;5;186m'\u001b[0m\u001b[38;5;186m__main__\u001b[0m\u001b[38;5;186m'\u001b[0m\u001b[38;5;231m:\u001b[0m\r\n",
      "\u001b[38;5;238m 124\u001b[0m   \u001b[38;5;238m│\u001b[0m \u001b[38;5;231m  \u001b[0m\u001b[38;5;203mimport\u001b[0m\u001b[38;5;231m \u001b[0m\u001b[38;5;231mkfp\u001b[0m\u001b[38;5;231m.\u001b[0m\u001b[38;5;231mcompiler\u001b[0m\u001b[38;5;231m \u001b[0m\u001b[38;5;203mas\u001b[0m\u001b[38;5;231m \u001b[0m\u001b[38;5;231mcompiler\u001b[0m\r\n",
      "\u001b[38;5;238m 125\u001b[0m   \u001b[38;5;238m│\u001b[0m \u001b[38;5;231m  \u001b[0m\u001b[38;5;231mcompiler\u001b[0m\u001b[38;5;231m.\u001b[0m\u001b[38;5;231mCompiler\u001b[0m\u001b[38;5;231m(\u001b[0m\u001b[38;5;231m)\u001b[0m\u001b[38;5;231m.\u001b[0m\u001b[38;5;231mcompile\u001b[0m\u001b[38;5;231m(\u001b[0m\u001b[38;5;231mnlp_pipeline\u001b[0m\u001b[38;5;231m,\u001b[0m\u001b[38;5;231m \u001b[0m\u001b[38;5;231m__file__\u001b[0m\u001b[38;5;231m \u001b[0m\u001b[38;5;203m+\u001b[0m\u001b[38;5;231m \u001b[0m\u001b[38;5;186m'\u001b[0m\u001b[38;5;186m.tar.gz\u001b[0m\u001b[38;5;186m'\u001b[0m\u001b[38;5;231m)\u001b[0m\r\n",
      "\u001b[38;5;238m───────┴────────────────────────────────────────────────────────────────────────\u001b[0m\r\n"
     ]
    }
   ],
   "source": [
    "!cat train_pipeline/nlp_pipeline.py"
   ]
  },
  {
   "cell_type": "markdown",
   "metadata": {},
   "source": [
    "### Breaking down the  code\n",
    "As you can see in the DSL, we have the ContainerOp - each of those is a step in the Kubeflow pipeline.\n",
    "\n",
    "At the end we can see the `seldondeploy` step which basically deploys the trained pipeline\n",
    "\n",
    "The definition of the SeldonDeployment graph is provided in the `deploy_pipeline/seldon_production_pipeline.yaml` file.\n",
    "\n",
    "The seldondeployment file defines our production execution graph using the same reusable components."
   ]
  },
  {
   "cell_type": "code",
   "execution_count": 18,
   "metadata": {
    "scrolled": true
   },
   "outputs": [
    {
     "name": "stdout",
     "output_type": "stream",
     "text": [
      "\u001b[38;5;238m───────┬────────────────────────────────────────────────────────────────────────\u001b[0m\r\n",
      "       \u001b[38;5;238m│ \u001b[0mFile: \u001b[1mdeploy_pipeline/seldon_production_pipeline.yaml\u001b[0m\r\n",
      "\u001b[38;5;238m───────┼────────────────────────────────────────────────────────────────────────\u001b[0m\r\n",
      "\u001b[38;5;238m   1\u001b[0m   \u001b[38;5;238m│\u001b[0m \u001b[38;5;149m---\u001b[0m\r\n",
      "\u001b[38;5;238m   2\u001b[0m   \u001b[38;5;238m│\u001b[0m \u001b[38;5;203mapiVersion\u001b[0m\u001b[38;5;231m:\u001b[0m\u001b[38;5;231m \u001b[0m\u001b[38;5;186mmachinelearning.seldon.io/v1alpha2\u001b[0m\r\n",
      "\u001b[38;5;238m   3\u001b[0m   \u001b[38;5;238m│\u001b[0m \u001b[38;5;203mkind\u001b[0m\u001b[38;5;231m:\u001b[0m\u001b[38;5;231m \u001b[0m\u001b[38;5;186mSeldonDeployment\u001b[0m\r\n",
      "\u001b[38;5;238m   4\u001b[0m   \u001b[38;5;238m│\u001b[0m \u001b[38;5;203mmetadata\u001b[0m\u001b[38;5;231m:\u001b[0m\r\n",
      "\u001b[38;5;238m   5\u001b[0m   \u001b[38;5;238m│\u001b[0m \u001b[38;5;231m  \u001b[0m\u001b[38;5;203mlabels\u001b[0m\u001b[38;5;231m:\u001b[0m\r\n",
      "\u001b[38;5;238m   6\u001b[0m   \u001b[38;5;238m│\u001b[0m \u001b[38;5;231m    \u001b[0m\u001b[38;5;203mapp\u001b[0m\u001b[38;5;231m:\u001b[0m\u001b[38;5;231m \u001b[0m\u001b[38;5;186mseldon\u001b[0m\r\n",
      "\u001b[38;5;238m   7\u001b[0m \u001b[33m~\u001b[0m \u001b[38;5;238m│\u001b[0m \u001b[38;5;231m  \u001b[0m\u001b[38;5;203mname\u001b[0m\u001b[38;5;231m:\u001b[0m\u001b[38;5;231m \u001b[0m\u001b[38;5;186m\"\u001b[0m\u001b[38;5;186mseldon-deployment-{{workflow.name}}\u001b[0m\u001b[38;5;186m\"\u001b[0m\r\n",
      "\u001b[38;5;238m   8\u001b[0m   \u001b[38;5;238m│\u001b[0m \u001b[38;5;231m  \u001b[0m\u001b[38;5;203mnamespace\u001b[0m\u001b[38;5;231m:\u001b[0m\u001b[38;5;231m \u001b[0m\u001b[38;5;186mkubeflow\u001b[0m\r\n",
      "\u001b[38;5;238m   9\u001b[0m   \u001b[38;5;238m│\u001b[0m \u001b[38;5;203mspec\u001b[0m\u001b[38;5;231m:\u001b[0m\r\n",
      "\u001b[38;5;238m  10\u001b[0m   \u001b[38;5;238m│\u001b[0m \u001b[38;5;231m  \u001b[0m\u001b[38;5;203mannotations\u001b[0m\u001b[38;5;231m:\u001b[0m\r\n",
      "\u001b[38;5;238m  11\u001b[0m   \u001b[38;5;238m│\u001b[0m \u001b[38;5;231m    \u001b[0m\u001b[38;5;203mproject_name\u001b[0m\u001b[38;5;231m:\u001b[0m\u001b[38;5;231m \u001b[0m\u001b[38;5;186mNLP Pipeline\u001b[0m\r\n",
      "\u001b[38;5;238m  12\u001b[0m   \u001b[38;5;238m│\u001b[0m \u001b[38;5;231m    \u001b[0m\u001b[38;5;203mdeployment_version\u001b[0m\u001b[38;5;231m:\u001b[0m\u001b[38;5;231m \u001b[0m\u001b[38;5;186mv1\u001b[0m\r\n",
      "\u001b[38;5;238m  13\u001b[0m \u001b[33m~\u001b[0m \u001b[38;5;238m│\u001b[0m \u001b[38;5;231m  \u001b[0m\u001b[38;5;203mname\u001b[0m\u001b[38;5;231m:\u001b[0m\u001b[38;5;231m \u001b[0m\u001b[38;5;186m\"\u001b[0m\u001b[38;5;186mseldon-deployment-{{workflow.name}}\u001b[0m\u001b[38;5;186m\"\u001b[0m\r\n",
      "\u001b[38;5;238m  14\u001b[0m   \u001b[38;5;238m│\u001b[0m \u001b[38;5;231m  \u001b[0m\u001b[38;5;203moauth_key\u001b[0m\u001b[38;5;231m:\u001b[0m\u001b[38;5;231m \u001b[0m\u001b[38;5;186moauth-key\u001b[0m\r\n",
      "\u001b[38;5;238m  15\u001b[0m   \u001b[38;5;238m│\u001b[0m \u001b[38;5;231m  \u001b[0m\u001b[38;5;203moauth_secret\u001b[0m\u001b[38;5;231m:\u001b[0m\u001b[38;5;231m \u001b[0m\u001b[38;5;186moauth-secret\u001b[0m\r\n",
      "\u001b[38;5;238m  16\u001b[0m   \u001b[38;5;238m│\u001b[0m \u001b[38;5;231m  \u001b[0m\u001b[38;5;203mpredictors\u001b[0m\u001b[38;5;231m:\u001b[0m\r\n",
      "\u001b[38;5;238m  17\u001b[0m   \u001b[38;5;238m│\u001b[0m \u001b[38;5;231m  \u001b[0m\u001b[38;5;231m-\u001b[0m\u001b[38;5;231m \u001b[0m\u001b[38;5;203mcomponentSpecs\u001b[0m\u001b[38;5;231m:\u001b[0m\r\n",
      "\u001b[38;5;238m  18\u001b[0m   \u001b[38;5;238m│\u001b[0m \u001b[38;5;231m    \u001b[0m\u001b[38;5;231m-\u001b[0m\u001b[38;5;231m \u001b[0m\u001b[38;5;203mspec\u001b[0m\u001b[38;5;231m:\u001b[0m\r\n",
      "\u001b[38;5;238m  19\u001b[0m   \u001b[38;5;238m│\u001b[0m \u001b[38;5;231m        \u001b[0m\u001b[38;5;203mcontainers\u001b[0m\u001b[38;5;231m:\u001b[0m\r\n",
      "\u001b[38;5;238m  20\u001b[0m   \u001b[38;5;238m│\u001b[0m \u001b[38;5;231m        \u001b[0m\u001b[38;5;231m-\u001b[0m\u001b[38;5;231m \u001b[0m\u001b[38;5;203mimage\u001b[0m\u001b[38;5;231m:\u001b[0m\u001b[38;5;231m \u001b[0m\u001b[38;5;186mclean_text_transformer:0.1\u001b[0m\r\n",
      "\u001b[38;5;238m  21\u001b[0m   \u001b[38;5;238m│\u001b[0m \u001b[38;5;231m          \u001b[0m\u001b[38;5;203mimagePullPolicy\u001b[0m\u001b[38;5;231m:\u001b[0m\u001b[38;5;231m \u001b[0m\u001b[38;5;186mIfNotPresent\u001b[0m\r\n",
      "\u001b[38;5;238m  22\u001b[0m   \u001b[38;5;238m│\u001b[0m \u001b[38;5;231m          \u001b[0m\u001b[38;5;203mname\u001b[0m\u001b[38;5;231m:\u001b[0m\u001b[38;5;231m \u001b[0m\u001b[38;5;186mcleantext\u001b[0m\r\n",
      "\u001b[38;5;238m  23\u001b[0m   \u001b[38;5;238m│\u001b[0m \u001b[38;5;231m          \u001b[0m\u001b[38;5;203mresources\u001b[0m\u001b[38;5;231m:\u001b[0m\r\n",
      "\u001b[38;5;238m  24\u001b[0m   \u001b[38;5;238m│\u001b[0m \u001b[38;5;231m            \u001b[0m\u001b[38;5;203mrequests\u001b[0m\u001b[38;5;231m:\u001b[0m\r\n",
      "\u001b[38;5;238m  25\u001b[0m   \u001b[38;5;238m│\u001b[0m \u001b[38;5;231m              \u001b[0m\u001b[38;5;203mmemory\u001b[0m\u001b[38;5;231m:\u001b[0m\u001b[38;5;231m \u001b[0m\u001b[38;5;186m1Mi\u001b[0m\r\n",
      "\u001b[38;5;238m  26\u001b[0m   \u001b[38;5;238m│\u001b[0m \u001b[38;5;231m        \u001b[0m\u001b[38;5;231m-\u001b[0m\u001b[38;5;231m \u001b[0m\u001b[38;5;203mimage\u001b[0m\u001b[38;5;231m:\u001b[0m\u001b[38;5;231m \u001b[0m\u001b[38;5;186mspacy_tokenizer:0.1\u001b[0m\r\n",
      "\u001b[38;5;238m  27\u001b[0m   \u001b[38;5;238m│\u001b[0m \u001b[38;5;231m          \u001b[0m\u001b[38;5;203mimagePullPolicy\u001b[0m\u001b[38;5;231m:\u001b[0m\u001b[38;5;231m \u001b[0m\u001b[38;5;186mIfNotPresent\u001b[0m\r\n",
      "\u001b[38;5;238m  28\u001b[0m   \u001b[38;5;238m│\u001b[0m \u001b[38;5;231m          \u001b[0m\u001b[38;5;203mname\u001b[0m\u001b[38;5;231m:\u001b[0m\u001b[38;5;231m \u001b[0m\u001b[38;5;186mspacytokenizer\u001b[0m\r\n",
      "\u001b[38;5;238m  29\u001b[0m   \u001b[38;5;238m│\u001b[0m \u001b[38;5;231m        \u001b[0m\u001b[38;5;231m-\u001b[0m\u001b[38;5;231m \u001b[0m\u001b[38;5;203mimage\u001b[0m\u001b[38;5;231m:\u001b[0m\u001b[38;5;231m \u001b[0m\u001b[38;5;186mtfidf_vectorizer:0.1\u001b[0m\r\n",
      "\u001b[38;5;238m  30\u001b[0m   \u001b[38;5;238m│\u001b[0m \u001b[38;5;231m          \u001b[0m\u001b[38;5;203mimagePullPolicy\u001b[0m\u001b[38;5;231m:\u001b[0m\u001b[38;5;231m \u001b[0m\u001b[38;5;186mIfNotPresent\u001b[0m\r\n",
      "\u001b[38;5;238m  31\u001b[0m   \u001b[38;5;238m│\u001b[0m \u001b[38;5;231m          \u001b[0m\u001b[38;5;203mname\u001b[0m\u001b[38;5;231m:\u001b[0m\u001b[38;5;231m \u001b[0m\u001b[38;5;186mtfidfvectorizer\u001b[0m\r\n",
      "\u001b[38;5;238m  32\u001b[0m   \u001b[38;5;238m│\u001b[0m \u001b[38;5;231m          \u001b[0m\u001b[38;5;203mvolumeMounts\u001b[0m\u001b[38;5;231m:\u001b[0m\r\n",
      "\u001b[38;5;238m  33\u001b[0m   \u001b[38;5;238m│\u001b[0m \u001b[38;5;231m          \u001b[0m\u001b[38;5;231m-\u001b[0m\u001b[38;5;231m \u001b[0m\u001b[38;5;203mname\u001b[0m\u001b[38;5;231m:\u001b[0m\u001b[38;5;231m \u001b[0m\u001b[38;5;186mmypvc\u001b[0m\r\n",
      "\u001b[38;5;238m  34\u001b[0m   \u001b[38;5;238m│\u001b[0m \u001b[38;5;231m            \u001b[0m\u001b[38;5;203mmountPath\u001b[0m\u001b[38;5;231m:\u001b[0m\u001b[38;5;231m \u001b[0m\u001b[38;5;186m/mnt\u001b[0m\r\n",
      "\u001b[38;5;238m  35\u001b[0m   \u001b[38;5;238m│\u001b[0m \u001b[38;5;231m        \u001b[0m\u001b[38;5;231m-\u001b[0m\u001b[38;5;231m \u001b[0m\u001b[38;5;203mimage\u001b[0m\u001b[38;5;231m:\u001b[0m\u001b[38;5;231m \u001b[0m\u001b[38;5;186mlr_text_classifier:0.1\u001b[0m\r\n",
      "\u001b[38;5;238m  36\u001b[0m   \u001b[38;5;238m│\u001b[0m \u001b[38;5;231m          \u001b[0m\u001b[38;5;203mimagePullPolicy\u001b[0m\u001b[38;5;231m:\u001b[0m\u001b[38;5;231m \u001b[0m\u001b[38;5;186mIfNotPresent\u001b[0m\r\n",
      "\u001b[38;5;238m  37\u001b[0m   \u001b[38;5;238m│\u001b[0m \u001b[38;5;231m          \u001b[0m\u001b[38;5;203mname\u001b[0m\u001b[38;5;231m:\u001b[0m\u001b[38;5;231m \u001b[0m\u001b[38;5;186mlrclassifier\u001b[0m\r\n",
      "\u001b[38;5;238m  38\u001b[0m   \u001b[38;5;238m│\u001b[0m \u001b[38;5;231m          \u001b[0m\u001b[38;5;203mvolumeMounts\u001b[0m\u001b[38;5;231m:\u001b[0m\r\n",
      "\u001b[38;5;238m  39\u001b[0m   \u001b[38;5;238m│\u001b[0m \u001b[38;5;231m          \u001b[0m\u001b[38;5;231m-\u001b[0m\u001b[38;5;231m \u001b[0m\u001b[38;5;203mname\u001b[0m\u001b[38;5;231m:\u001b[0m\u001b[38;5;231m \u001b[0m\u001b[38;5;186mmypvc\u001b[0m\r\n",
      "\u001b[38;5;238m  40\u001b[0m   \u001b[38;5;238m│\u001b[0m \u001b[38;5;231m            \u001b[0m\u001b[38;5;203mmountPath\u001b[0m\u001b[38;5;231m:\u001b[0m\u001b[38;5;231m \u001b[0m\u001b[38;5;186m/mnt\u001b[0m\r\n",
      "\u001b[38;5;238m  41\u001b[0m   \u001b[38;5;238m│\u001b[0m \u001b[38;5;231m        \u001b[0m\u001b[38;5;203mterminationGracePeriodSeconds\u001b[0m\u001b[38;5;231m:\u001b[0m\u001b[38;5;231m \u001b[0m\u001b[38;5;141m20\u001b[0m\r\n",
      "\u001b[38;5;238m  42\u001b[0m   \u001b[38;5;238m│\u001b[0m \u001b[38;5;231m        \u001b[0m\u001b[38;5;203mvolumes\u001b[0m\u001b[38;5;231m:\u001b[0m\r\n",
      "\u001b[38;5;238m  43\u001b[0m   \u001b[38;5;238m│\u001b[0m \u001b[38;5;231m        \u001b[0m\u001b[38;5;231m-\u001b[0m\u001b[38;5;231m \u001b[0m\u001b[38;5;203mname\u001b[0m\u001b[38;5;231m:\u001b[0m\u001b[38;5;231m \u001b[0m\u001b[38;5;186mmypvc\u001b[0m\r\n",
      "\u001b[38;5;238m  44\u001b[0m   \u001b[38;5;238m│\u001b[0m \u001b[38;5;231m          \u001b[0m\u001b[38;5;203mpersistentVolumeClaim\u001b[0m\u001b[38;5;231m:\u001b[0m\r\n",
      "\u001b[38;5;238m  45\u001b[0m \u001b[33m~\u001b[0m \u001b[38;5;238m│\u001b[0m \u001b[38;5;231m            \u001b[0m\u001b[38;5;203mclaimName\u001b[0m\u001b[38;5;231m:\u001b[0m\u001b[38;5;231m \u001b[0m\u001b[38;5;186m\"\u001b[0m\u001b[38;5;186m{{workflow.name}}-my-pvc\u001b[0m\u001b[38;5;186m\"\u001b[0m\r\n",
      "\u001b[38;5;238m  46\u001b[0m   \u001b[38;5;238m│\u001b[0m \u001b[38;5;231m    \u001b[0m\u001b[38;5;203mgraph\u001b[0m\u001b[38;5;231m:\u001b[0m\r\n",
      "\u001b[38;5;238m  47\u001b[0m   \u001b[38;5;238m│\u001b[0m \u001b[38;5;231m      \u001b[0m\u001b[38;5;203mchildren\u001b[0m\u001b[38;5;231m:\u001b[0m\r\n",
      "\u001b[38;5;238m  48\u001b[0m   \u001b[38;5;238m│\u001b[0m \u001b[38;5;231m      \u001b[0m\u001b[38;5;231m-\u001b[0m\u001b[38;5;231m \u001b[0m\u001b[38;5;203mname\u001b[0m\u001b[38;5;231m:\u001b[0m\u001b[38;5;231m \u001b[0m\u001b[38;5;186mspacytokenizer\u001b[0m\r\n",
      "\u001b[38;5;238m  49\u001b[0m   \u001b[38;5;238m│\u001b[0m \u001b[38;5;231m        \u001b[0m\u001b[38;5;203mendpoint\u001b[0m\u001b[38;5;231m:\u001b[0m\r\n",
      "\u001b[38;5;238m  50\u001b[0m   \u001b[38;5;238m│\u001b[0m \u001b[38;5;231m          \u001b[0m\u001b[38;5;203mtype\u001b[0m\u001b[38;5;231m:\u001b[0m\u001b[38;5;231m \u001b[0m\u001b[38;5;186mREST\u001b[0m\r\n",
      "\u001b[38;5;238m  51\u001b[0m   \u001b[38;5;238m│\u001b[0m \u001b[38;5;231m        \u001b[0m\u001b[38;5;203mtype\u001b[0m\u001b[38;5;231m:\u001b[0m\u001b[38;5;231m \u001b[0m\u001b[38;5;186mMODEL\u001b[0m\r\n",
      "\u001b[38;5;238m  52\u001b[0m   \u001b[38;5;238m│\u001b[0m \u001b[38;5;231m        \u001b[0m\u001b[38;5;203mchildren\u001b[0m\u001b[38;5;231m:\u001b[0m\r\n",
      "\u001b[38;5;238m  53\u001b[0m   \u001b[38;5;238m│\u001b[0m \u001b[38;5;231m        \u001b[0m\u001b[38;5;231m-\u001b[0m\u001b[38;5;231m \u001b[0m\u001b[38;5;203mname\u001b[0m\u001b[38;5;231m:\u001b[0m\u001b[38;5;231m \u001b[0m\u001b[38;5;186mtfidfvectorizer\u001b[0m\r\n",
      "\u001b[38;5;238m  54\u001b[0m   \u001b[38;5;238m│\u001b[0m \u001b[38;5;231m          \u001b[0m\u001b[38;5;203mendpoint\u001b[0m\u001b[38;5;231m:\u001b[0m\r\n",
      "\u001b[38;5;238m  55\u001b[0m   \u001b[38;5;238m│\u001b[0m \u001b[38;5;231m            \u001b[0m\u001b[38;5;203mtype\u001b[0m\u001b[38;5;231m:\u001b[0m\u001b[38;5;231m \u001b[0m\u001b[38;5;186mREST\u001b[0m\r\n",
      "\u001b[38;5;238m  56\u001b[0m   \u001b[38;5;238m│\u001b[0m \u001b[38;5;231m          \u001b[0m\u001b[38;5;203mtype\u001b[0m\u001b[38;5;231m:\u001b[0m\u001b[38;5;231m \u001b[0m\u001b[38;5;186mMODEL\u001b[0m\r\n",
      "\u001b[38;5;238m  57\u001b[0m   \u001b[38;5;238m│\u001b[0m \u001b[38;5;231m          \u001b[0m\u001b[38;5;203mchildren\u001b[0m\u001b[38;5;231m:\u001b[0m\r\n",
      "\u001b[38;5;238m  58\u001b[0m   \u001b[38;5;238m│\u001b[0m \u001b[38;5;231m          \u001b[0m\u001b[38;5;231m-\u001b[0m\u001b[38;5;231m \u001b[0m\u001b[38;5;203mname\u001b[0m\u001b[38;5;231m:\u001b[0m\u001b[38;5;231m \u001b[0m\u001b[38;5;186mlrclassifier\u001b[0m\r\n",
      "\u001b[38;5;238m  59\u001b[0m   \u001b[38;5;238m│\u001b[0m \u001b[38;5;231m            \u001b[0m\u001b[38;5;203mendpoint\u001b[0m\u001b[38;5;231m:\u001b[0m\r\n",
      "\u001b[38;5;238m  60\u001b[0m   \u001b[38;5;238m│\u001b[0m \u001b[38;5;231m              \u001b[0m\u001b[38;5;203mtype\u001b[0m\u001b[38;5;231m:\u001b[0m\u001b[38;5;231m \u001b[0m\u001b[38;5;186mREST\u001b[0m\r\n",
      "\u001b[38;5;238m  61\u001b[0m   \u001b[38;5;238m│\u001b[0m \u001b[38;5;231m            \u001b[0m\u001b[38;5;203mtype\u001b[0m\u001b[38;5;231m:\u001b[0m\u001b[38;5;231m \u001b[0m\u001b[38;5;186mMODEL\u001b[0m\r\n",
      "\u001b[38;5;238m  62\u001b[0m   \u001b[38;5;238m│\u001b[0m \u001b[38;5;231m            \u001b[0m\u001b[38;5;203mchildren\u001b[0m\u001b[38;5;231m:\u001b[0m\u001b[38;5;231m \u001b[0m\u001b[38;5;231m[\u001b[0m\u001b[38;5;231m]\u001b[0m\r\n",
      "\u001b[38;5;238m  63\u001b[0m   \u001b[38;5;238m│\u001b[0m \u001b[38;5;231m      \u001b[0m\u001b[38;5;203mname\u001b[0m\u001b[38;5;231m:\u001b[0m\u001b[38;5;231m \u001b[0m\u001b[38;5;186mcleantext\u001b[0m\r\n",
      "\u001b[38;5;238m  64\u001b[0m   \u001b[38;5;238m│\u001b[0m \u001b[38;5;231m      \u001b[0m\u001b[38;5;203mendpoint\u001b[0m\u001b[38;5;231m:\u001b[0m\r\n",
      "\u001b[38;5;238m  65\u001b[0m   \u001b[38;5;238m│\u001b[0m \u001b[38;5;231m        \u001b[0m\u001b[38;5;203mtype\u001b[0m\u001b[38;5;231m:\u001b[0m\u001b[38;5;231m \u001b[0m\u001b[38;5;186mREST\u001b[0m\r\n",
      "\u001b[38;5;238m  66\u001b[0m   \u001b[38;5;238m│\u001b[0m \u001b[38;5;231m      \u001b[0m\u001b[38;5;203mtype\u001b[0m\u001b[38;5;231m:\u001b[0m\u001b[38;5;231m \u001b[0m\u001b[38;5;186mMODEL\u001b[0m\r\n",
      "\u001b[38;5;238m  67\u001b[0m   \u001b[38;5;238m│\u001b[0m \u001b[38;5;231m    \u001b[0m\u001b[38;5;203mname\u001b[0m\u001b[38;5;231m:\u001b[0m\u001b[38;5;231m \u001b[0m\u001b[38;5;186msingle-model\u001b[0m\r\n",
      "\u001b[38;5;238m  68\u001b[0m   \u001b[38;5;238m│\u001b[0m \u001b[38;5;231m    \u001b[0m\u001b[38;5;203mreplicas\u001b[0m\u001b[38;5;231m:\u001b[0m\u001b[38;5;231m \u001b[0m\u001b[38;5;141m1\u001b[0m\r\n",
      "\u001b[38;5;238m  69\u001b[0m   \u001b[38;5;238m│\u001b[0m \u001b[38;5;231m    \u001b[0m\u001b[38;5;203mannotations\u001b[0m\u001b[38;5;231m:\u001b[0m\r\n",
      "\u001b[38;5;238m  70\u001b[0m   \u001b[38;5;238m│\u001b[0m \u001b[38;5;231m      \u001b[0m\u001b[38;5;203mpredictor_version\u001b[0m\u001b[38;5;231m:\u001b[0m\u001b[38;5;231m \u001b[0m\u001b[38;5;186mv1\u001b[0m\r\n",
      "\u001b[38;5;238m  71\u001b[0m   \u001b[38;5;238m│\u001b[0m \r\n",
      "\u001b[38;5;238m───────┴────────────────────────────────────────────────────────────────────────\u001b[0m\r\n"
     ]
    }
   ],
   "source": [
    "!cat deploy_pipeline/seldon_production_pipeline.yaml"
   ]
  },
  {
   "cell_type": "markdown",
   "metadata": {},
   "source": [
    "### Seldon Production pipeline contents\n",
    "If we look at the file we'll be using to deploy our pipeline, we can see that it has the following key points:\n",
    "\n",
    "1) Reusable components definitions as containerSpecs: cleantext, spacytokenizer, tfidfvectorizer & lrclassifier\n",
    "\n",
    "2) DAG (directed acyclic graph) definition for REST pipeline: cleantext -> spacytokenizer -> tfidfvectorizer -> lrclassifier\n",
    "\n",
    "This graph in our production deployment looks as follows:\n",
    "\n",
    "![](img/kubeflow-seldon-nlp-ml-pipelines-deploy.jpg)"
   ]
  },
  {
   "cell_type": "markdown",
   "metadata": {},
   "source": [
    "### Generate the pipeline files to upload to Kubeflow\n",
    "To generate the pipeline we just have to run the pipeline file, which will output the `tar.gz` file that will be uploaded."
   ]
  },
  {
   "cell_type": "code",
   "execution_count": 13,
   "metadata": {},
   "outputs": [
    {
     "name": "stdout",
     "output_type": "stream",
     "text": [
      "nlp_pipeline.py\n",
      "nlp_pipeline.py.tar.gz\n"
     ]
    }
   ],
   "source": [
    "%%bash\n",
    "# Generating graph definition\n",
    "python train_pipeline/nlp_pipeline.py\n",
    "ls train_pipeline/"
   ]
  },
  {
   "cell_type": "markdown",
   "metadata": {},
   "source": [
    "\n",
    "### Run the pipeline\n",
    "\n",
    "We now need to upload the resulting `nlp_pipeline.py.tar.gz` file generated.\n",
    "\n",
    "This can be done through the \"Upload PIpeline\" button in the UI at http://localhost/_/pipeline-dashboard.\n",
    "\n",
    "Once it's uploaded, we want to create and trigger a run! You should now be able to see how each step is executed:\n",
    "\n",
    "![](img/running-pipeline.jpg)\n",
    "\n",
    "### Inspecting the data created in the Persistent Volume\n",
    "The pipeline saves the output of the pipeline together with the trained model in the persistent volume claim.\n",
    "\n",
    "The persistent volume claim is the same name as the argo workflow:\n"
   ]
  },
  {
   "cell_type": "code",
   "execution_count": 14,
   "metadata": {},
   "outputs": [
    {
     "name": "stdout",
     "output_type": "stream",
     "text": [
      "NAME        AGE\r\n",
      "nlp-bddff   2m\r\n"
     ]
    }
   ],
   "source": [
    "!kubectl get workflow -n kubeflow"
   ]
  },
  {
   "cell_type": "markdown",
   "metadata": {},
   "source": [
    "Our workflow is there! So we can actually access it by running"
   ]
  },
  {
   "cell_type": "code",
   "execution_count": 15,
   "metadata": {},
   "outputs": [
    {
     "name": "stdout",
     "output_type": "stream",
     "text": [
      "nlp-bddff"
     ]
    }
   ],
   "source": [
    "!kubectl get workflow -n kubeflow -o jsonpath='{.items[0].metadata.name}'"
   ]
  },
  {
   "cell_type": "markdown",
   "metadata": {},
   "source": [
    "And we can use good old `sed` to insert this workflow name in our PVC-Access controler which we can use to inspect the contents of the volume:"
   ]
  },
  {
   "cell_type": "code",
   "execution_count": 17,
   "metadata": {},
   "outputs": [
    {
     "name": "stdout",
     "output_type": "stream",
     "text": [
      "\u001b[38;5;238m───────┬────────────────────────────────────────────────────────────────────────\u001b[0m\r\n",
      "       \u001b[38;5;238m│ \u001b[0m\u001b[1mSTDIN\u001b[0m\r\n",
      "\u001b[38;5;238m───────┼────────────────────────────────────────────────────────────────────────\u001b[0m\r\n",
      "\u001b[38;5;238m   1\u001b[0m   \u001b[38;5;238m│\u001b[0m \u001b[38;5;203mapiVersion\u001b[0m\u001b[38;5;231m:\u001b[0m\u001b[38;5;231m \u001b[0m\u001b[38;5;186mv1\u001b[0m\r\n",
      "\u001b[38;5;238m   2\u001b[0m   \u001b[38;5;238m│\u001b[0m \u001b[38;5;203mkind\u001b[0m\u001b[38;5;231m:\u001b[0m\u001b[38;5;231m \u001b[0m\u001b[38;5;186mPod\u001b[0m\r\n",
      "\u001b[38;5;238m   3\u001b[0m   \u001b[38;5;238m│\u001b[0m \u001b[38;5;203mmetadata\u001b[0m\u001b[38;5;231m:\u001b[0m\r\n",
      "\u001b[38;5;238m   4\u001b[0m   \u001b[38;5;238m│\u001b[0m \u001b[38;5;231m  \u001b[0m\u001b[38;5;203mname\u001b[0m\u001b[38;5;231m:\u001b[0m\u001b[38;5;231m \u001b[0m\u001b[38;5;186mpvc-access-container\u001b[0m\r\n",
      "\u001b[38;5;238m   5\u001b[0m   \u001b[38;5;238m│\u001b[0m \u001b[38;5;203mspec\u001b[0m\u001b[38;5;231m:\u001b[0m\r\n",
      "\u001b[38;5;238m   6\u001b[0m   \u001b[38;5;238m│\u001b[0m \u001b[38;5;231m  \u001b[0m\u001b[38;5;203mcontainers\u001b[0m\u001b[38;5;231m:\u001b[0m\r\n",
      "\u001b[38;5;238m   7\u001b[0m   \u001b[38;5;238m│\u001b[0m \u001b[38;5;231m  \u001b[0m\u001b[38;5;231m-\u001b[0m\u001b[38;5;231m \u001b[0m\u001b[38;5;203mname\u001b[0m\u001b[38;5;231m:\u001b[0m\u001b[38;5;231m \u001b[0m\u001b[38;5;186mpvc-access-container\u001b[0m\r\n",
      "\u001b[38;5;238m   8\u001b[0m   \u001b[38;5;238m│\u001b[0m \u001b[38;5;231m    \u001b[0m\u001b[38;5;203mimage\u001b[0m\u001b[38;5;231m:\u001b[0m\u001b[38;5;231m \u001b[0m\u001b[38;5;186mbusybox\u001b[0m\r\n",
      "\u001b[38;5;238m   9\u001b[0m   \u001b[38;5;238m│\u001b[0m \u001b[38;5;231m    \u001b[0m\u001b[38;5;203mcommand\u001b[0m\u001b[38;5;231m:\u001b[0m\u001b[38;5;231m \u001b[0m\u001b[38;5;231m[\u001b[0m\u001b[38;5;186m\"\u001b[0m\u001b[38;5;186m/bin/sh\u001b[0m\u001b[38;5;186m\"\u001b[0m\u001b[38;5;231m,\u001b[0m\u001b[38;5;231m \u001b[0m\u001b[38;5;186m\"\u001b[0m\u001b[38;5;186m-ec\u001b[0m\u001b[38;5;186m\"\u001b[0m\u001b[38;5;231m,\u001b[0m\u001b[38;5;231m \u001b[0m\u001b[38;5;186m\"\u001b[0m\u001b[38;5;186msleep 1000\u001b[0m\u001b[38;5;186m\"\u001b[0m\u001b[38;5;231m]\u001b[0m\r\n",
      "\u001b[38;5;238m  10\u001b[0m   \u001b[38;5;238m│\u001b[0m \u001b[38;5;231m    \u001b[0m\u001b[38;5;203mvolumeMounts\u001b[0m\u001b[38;5;231m:\u001b[0m\r\n",
      "\u001b[38;5;238m  11\u001b[0m   \u001b[38;5;238m│\u001b[0m \u001b[38;5;231m    \u001b[0m\u001b[38;5;231m-\u001b[0m\u001b[38;5;231m \u001b[0m\u001b[38;5;203mname\u001b[0m\u001b[38;5;231m:\u001b[0m\u001b[38;5;231m \u001b[0m\u001b[38;5;186mmypvc\u001b[0m\r\n",
      "\u001b[38;5;238m  12\u001b[0m   \u001b[38;5;238m│\u001b[0m \u001b[38;5;231m      \u001b[0m\u001b[38;5;203mmountPath\u001b[0m\u001b[38;5;231m:\u001b[0m\u001b[38;5;231m \u001b[0m\u001b[38;5;186m/mnt\u001b[0m\r\n",
      "\u001b[38;5;238m  13\u001b[0m   \u001b[38;5;238m│\u001b[0m \u001b[38;5;231m  \u001b[0m\u001b[38;5;203mvolumes\u001b[0m\u001b[38;5;231m:\u001b[0m\r\n",
      "\u001b[38;5;238m  14\u001b[0m   \u001b[38;5;238m│\u001b[0m \u001b[38;5;231m  \u001b[0m\u001b[38;5;231m-\u001b[0m\u001b[38;5;231m \u001b[0m\u001b[38;5;203mname\u001b[0m\u001b[38;5;231m:\u001b[0m\u001b[38;5;231m \u001b[0m\u001b[38;5;186mmypvc\u001b[0m\r\n",
      "\u001b[38;5;238m  15\u001b[0m   \u001b[38;5;238m│\u001b[0m \u001b[38;5;231m    \u001b[0m\u001b[38;5;203mpersistentVolumeClaim\u001b[0m\u001b[38;5;231m:\u001b[0m\r\n",
      "\u001b[38;5;238m  16\u001b[0m   \u001b[38;5;238m│\u001b[0m \u001b[38;5;231m      \u001b[0m\u001b[38;5;203mclaimName\u001b[0m\u001b[38;5;231m:\u001b[0m\u001b[38;5;231m \u001b[0m\u001b[38;5;186mnlp-b7qt8-my-pvc\u001b[0m\r\n",
      "\u001b[38;5;238m───────┴────────────────────────────────────────────────────────────────────────\u001b[0m\r\n"
     ]
    }
   ],
   "source": [
    "!sed \"s/PVC_NAME/\"$(kubectl get workflow -n kubeflow -o jsonpath='{.items[0].metadata.name}')\"-my-pvc/g\" deploy_pipeline/pvc-access.yaml "
   ]
  },
  {
   "cell_type": "markdown",
   "metadata": {},
   "source": [
    "We just need to apply this container with our kubectl command, and we can use it to inspect the mounted folder:"
   ]
  },
  {
   "cell_type": "code",
   "execution_count": 23,
   "metadata": {},
   "outputs": [
    {
     "name": "stdout",
     "output_type": "stream",
     "text": [
      "pod/pvc-access-container created\r\n"
     ]
    }
   ],
   "source": [
    "!sed \"s/PVC_NAME/\"$(kubectl get workflow -n kubeflow -o jsonpath='{.items[0].metadata.name}')\"-my-pvc/g\" deploy_pipeline/pvc-access.yaml | kubectl -n kubeflow apply -f -"
   ]
  },
  {
   "cell_type": "code",
   "execution_count": 24,
   "metadata": {},
   "outputs": [
    {
     "name": "stdout",
     "output_type": "stream",
     "text": [
      "NAME                   READY   STATUS    RESTARTS   AGE\r\n",
      "pvc-access-container   1/1     Running   0          6s\r\n"
     ]
    }
   ],
   "source": [
    "!kubectl get pods -n kubeflow pvc-access-container"
   ]
  },
  {
   "cell_type": "markdown",
   "metadata": {},
   "source": [
    "Now we can run an `ls` command to see what's inside:"
   ]
  },
  {
   "cell_type": "code",
   "execution_count": 25,
   "metadata": {},
   "outputs": [
    {
     "name": "stdout",
     "output_type": "stream",
     "text": [
      "\u001b[1;32mclean.data\u001b[m       \u001b[1;32mlr.model\u001b[m         \u001b[1;32mtext.data\u001b[m        \u001b[1;32mtfidf.model\u001b[m\r\n",
      "\u001b[1;32mlabels.data\u001b[m      \u001b[1;32mprediction.data\u001b[m  \u001b[1;32mtfidf.data\u001b[m       \u001b[1;32mtokens.data\u001b[m\r\n"
     ]
    }
   ],
   "source": [
    "!kubectl -n kubeflow exec -it pvc-access-container ls /mnt"
   ]
  },
  {
   "cell_type": "code",
   "execution_count": 29,
   "metadata": {},
   "outputs": [
    {
     "name": "stdout",
     "output_type": "stream",
     "text": [
      "pod \"pvc-access-container\" deleted\r\n"
     ]
    }
   ],
   "source": [
    "!kubectl delete -f deploy_pipeline/pvc-access.yaml -n kubeflow"
   ]
  },
  {
   "cell_type": "markdown",
   "metadata": {},
   "source": [
    "## 5) Test Deployed ML REST Endpoints\n",
    "Now that it's running we have a production ML text pipeline that we can Query using REST and GRPC\n"
   ]
  },
  {
   "cell_type": "markdown",
   "metadata": {},
   "source": [
    "First we can check if our Seldon deployment is running with"
   ]
  },
  {
   "cell_type": "code",
   "execution_count": 24,
   "metadata": {},
   "outputs": [
    {
     "name": "stdout",
     "output_type": "stream",
     "text": [
      "NAME                          AGE\r\n",
      "seldon-deployment-nlp-b7qt8   57m\r\n"
     ]
    }
   ],
   "source": [
    "!kubectl -n kubeflow get seldondeployment "
   ]
  },
  {
   "cell_type": "markdown",
   "metadata": {},
   "source": [
    "We will need the Seldon Pipeline Deployment name to reach the API, so we can get it using:"
   ]
  },
  {
   "cell_type": "code",
   "execution_count": 26,
   "metadata": {},
   "outputs": [
    {
     "name": "stdout",
     "output_type": "stream",
     "text": [
      "seldon-deployment-nlp-b7qt8"
     ]
    }
   ],
   "source": [
    "!kubectl -n kubeflow get seldondeployment -o jsonpath='{.items[0].metadata.name}'"
   ]
  },
  {
   "cell_type": "markdown",
   "metadata": {},
   "source": [
    "Now we can interact with our API in two ways: \n",
    "\n",
    "1) Using CURL or any client like PostMan\n",
    "\n",
    "2) Using the Python SeldonClient\n",
    "\n",
    "### Using CURL from the terminal\n",
    "When using CURL, the only thing we need to provide is the data in JSON format, as well as the url, which is of the format:\n",
    "\n",
    "```\n",
    "http://<ENDPOINT>/seldon/kubeflow/<PIPELINE_NAME>/api/v0.1/predictions\n",
    "```"
   ]
  },
  {
   "cell_type": "code",
   "execution_count": 25,
   "metadata": {},
   "outputs": [
    {
     "name": "stdout",
     "output_type": "stream",
     "text": [
      "{\n",
      "  \"meta\": {\n",
      "    \"puid\": \"k89krp6t7tfgb386nt6vc3iftk\",\n",
      "    \"tags\": {\n",
      "    },\n",
      "    \"routing\": {\n",
      "      \"cleantext\": -1,\n",
      "      \"tfidfvectorizer\": -1,\n",
      "      \"spacytokenizer\": -1\n",
      "    },\n",
      "    \"requestPath\": {\n",
      "      \"cleantext\": \"clean_text_transformer:0.1\",\n",
      "      \"tfidfvectorizer\": \"tfidf_vectorizer:0.1\",\n",
      "      \"lrclassifier\": \"lr_text_classifier:0.1\",\n",
      "      \"spacytokenizer\": \"spacy_tokenizer:0.1\"\n",
      "    },\n",
      "    \"metrics\": []\n",
      "  },\n",
      "  \"data\": {\n",
      "    \"names\": [\"t:0\", \"t:1\"],\n",
      "    \"ndarray\": [[0.6729318752883149, 0.3270681247116851]]\n",
      "  }\n",
      "}"
     ]
    },
    {
     "name": "stderr",
     "output_type": "stream",
     "text": [
      "  % Total    % Received % Xferd  Average Speed   Time    Time     Time  Current\n",
      "                                 Dload  Upload   Total   Spent    Left  Speed\n",
      "\r",
      "  0     0    0     0    0     0      0      0 --:--:-- --:--:-- --:--:--     0\r",
      "100    72    0     0  100    72      0    354 --:--:-- --:--:-- --:--:--   356\r",
      "100   599  100   527  100    72    516     70  0:00:01  0:00:01 --:--:--   588\n"
     ]
    }
   ],
   "source": [
    "%%bash\n",
    "curl -X POST -H 'Content-Type: application/json' \\\n",
    "    -d \"{'data': {'names': ['text'], 'ndarray': ['Hello world this is a test']}}\" \\\n",
    "    http://127.0.0.1/seldon/kubeflow/$(kubectl -n kubeflow get seldondeployment -o jsonpath='{.items[0].metadata.name}')/api/v0.1/predictions"
   ]
  },
  {
   "cell_type": "markdown",
   "metadata": {},
   "source": [
    "### Using the SeldonClient\n",
    "We can also use the Python SeldonClient to interact with the pipeline we just deployed "
   ]
  },
  {
   "cell_type": "code",
   "execution_count": 36,
   "metadata": {},
   "outputs": [
    {
     "name": "stdout",
     "output_type": "stream",
     "text": [
      "Success:True message:\n",
      "Request:\n",
      "data {\n",
      "  names: \"text\"\n",
      "  ndarray {\n",
      "    values {\n",
      "      string_value: \"Hello world this is a test\"\n",
      "    }\n",
      "  }\n",
      "}\n",
      "\n",
      "Response:\n",
      "meta {\n",
      "  puid: \"qtdca40d3s0463nn4ginhkvc6t\"\n",
      "  routing {\n",
      "    key: \"cleantext\"\n",
      "    value: -1\n",
      "  }\n",
      "  routing {\n",
      "    key: \"spacytokenizer\"\n",
      "    value: -1\n",
      "  }\n",
      "  routing {\n",
      "    key: \"tfidfvectorizer\"\n",
      "    value: -1\n",
      "  }\n",
      "  requestPath {\n",
      "    key: \"cleantext\"\n",
      "    value: \"clean_text_transformer:0.1\"\n",
      "  }\n",
      "  requestPath {\n",
      "    key: \"lrclassifier\"\n",
      "    value: \"lr_text_classifier:0.1\"\n",
      "  }\n",
      "  requestPath {\n",
      "    key: \"spacytokenizer\"\n",
      "    value: \"spacy_tokenizer:0.1\"\n",
      "  }\n",
      "  requestPath {\n",
      "    key: \"tfidfvectorizer\"\n",
      "    value: \"tfidf_vectorizer:0.1\"\n",
      "  }\n",
      "}\n",
      "data {\n",
      "  names: \"t:0\"\n",
      "  names: \"t:1\"\n",
      "  ndarray {\n",
      "    values {\n",
      "      list_value {\n",
      "        values {\n",
      "          number_value: 0.6729318752883149\n",
      "        }\n",
      "        values {\n",
      "          number_value: 0.3270681247116851\n",
      "        }\n",
      "      }\n",
      "    }\n",
      "  }\n",
      "}\n",
      "\n"
     ]
    }
   ],
   "source": [
    "from seldon_core.seldon_client import SeldonClient\n",
    "import numpy as np\n",
    "import subprocess\n",
    "\n",
    "host = \"localhost\"\n",
    "port = \"80\" # Make sure you use the port above\n",
    "batch = np.array([\"Hello world this is a test\"])\n",
    "payload_type = \"ndarray\"\n",
    "# Get the deployment name\n",
    "deployment_name = subprocess.getoutput(\"kubectl -n kubeflow get seldondeployment -o jsonpath='{.items[0].metadata.name}'\")\n",
    "transport=\"rest\"\n",
    "namespace=\"kubeflow\"\n",
    "\n",
    "sc = SeldonClient(\n",
    "    gateway=\"ambassador\", \n",
    "    ambassador_endpoint=host + \":\" + port,\n",
    "    namespace=namespace)\n",
    "\n",
    "client_prediction = sc.predict(\n",
    "    data=batch, \n",
    "    deployment_name=deployment_name,\n",
    "    names=[\"text\"],\n",
    "    payload_type=payload_type,\n",
    "    transport=\"rest\")\n",
    "\n",
    "print(client_prediction)"
   ]
  },
  {
   "cell_type": "markdown",
   "metadata": {},
   "source": [
    "## 6) Visualise Seldon's Production ML Pipelines\n",
    "We can visualise the performance using the SeldonAnalytics package, which we can deploy using:"
   ]
  },
  {
   "cell_type": "code",
   "execution_count": null,
   "metadata": {},
   "outputs": [],
   "source": [
    "!helm install seldon-core-analytics --repo https://storage.googleapis.com/seldon-charts --namespace kubeflow"
   ]
  },
  {
   "cell_type": "markdown",
   "metadata": {},
   "source": [
    "In my case, similar to what I did with Ambassador, I need to make sure the the service is a LoadBalancer instead of a NodePort"
   ]
  },
  {
   "cell_type": "code",
   "execution_count": 38,
   "metadata": {},
   "outputs": [
    {
     "name": "stdout",
     "output_type": "stream",
     "text": [
      "service/grafana-prom patched\r\n"
     ]
    }
   ],
   "source": [
    "!kubectl patch svc grafana-prom --type='json' -p '[{\"op\":\"replace\",\"path\":\"/spec/type\",\"value\":\"LoadBalancer\"}]' -n kubeflow"
   ]
  },
  {
   "cell_type": "code",
   "execution_count": 39,
   "metadata": {},
   "outputs": [
    {
     "name": "stdout",
     "output_type": "stream",
     "text": [
      "NAME           TYPE           CLUSTER-IP      EXTERNAL-IP   PORT(S)        AGE\r\n",
      "grafana-prom   LoadBalancer   10.98.248.223   localhost     80:32445/TCP   64m\r\n"
     ]
    }
   ],
   "source": [
    "!kubectl get svc grafana-prom -n kubeflow"
   ]
  },
  {
   "cell_type": "markdown",
   "metadata": {},
   "source": [
    "Now we can access it at the port provided, in my case it is http://localhost:32445/d/3swM2iGWz/prediction-analytics?refresh=5s&orgId=1\n",
    "\n",
    "(initial username is admin and password is password, which will be requested to be changed on the first login)\n",
    "\n",
    "Generate a bunch of requests and visualise:"
   ]
  },
  {
   "cell_type": "code",
   "execution_count": null,
   "metadata": {},
   "outputs": [],
   "source": [
    "while True:\n",
    "    client_prediction = sc.predict(\n",
    "        data=batch, \n",
    "        deployment_name=deployment_name,\n",
    "        names=[\"text\"],\n",
    "        payload_type=payload_type,\n",
    "        transport=\"rest\")"
   ]
  },
  {
   "cell_type": "markdown",
   "metadata": {},
   "source": [
    "## You now have a full end-to-end training and production NLP pipeline 😎 \n",
    "![](img/seldon-analytics.jpg)"
   ]
  },
  {
   "cell_type": "code",
   "execution_count": null,
   "metadata": {},
   "outputs": [],
   "source": []
  }
 ],
 "metadata": {
  "kernelspec": {
   "display_name": "Python [conda env:reddit-classification] *",
   "language": "python",
   "name": "conda-env-reddit-classification-py"
  },
  "language_info": {
   "codemirror_mode": {
    "name": "ipython",
    "version": 3
   },
   "file_extension": ".py",
   "mimetype": "text/x-python",
   "name": "python",
   "nbconvert_exporter": "python",
   "pygments_lexer": "ipython3",
   "version": "3.7.3"
  }
 },
 "nbformat": 4,
 "nbformat_minor": 2
}
