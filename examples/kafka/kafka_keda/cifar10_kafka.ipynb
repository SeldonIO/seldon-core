{
 "cells": [
  {
   "cell_type": "markdown",
   "metadata": {},
   "source": [
    "# Seldon Kafka Integration with KEDA scaling over SSL\n",
    "\n",
    "In this example we will \n",
    "\n",
    " * run SeldonDeployments for a CIFAR10 Tensorflow model which take their inputs from a Kafka topic and push their outputs to a Kafka topic. \n",
    " * We will scale the Seldon Deployment via KEDA.\n",
    " * We will consume/product request over SSL"
   ]
  },
  {
   "cell_type": "markdown",
   "metadata": {},
   "source": [
    "## Requirements\n",
    "\n",
    " * [Install gsutil](https://cloud.google.com/storage/docs/gsutil_install)\n"
   ]
  },
  {
   "cell_type": "code",
   "execution_count": null,
   "metadata": {},
   "outputs": [],
   "source": [
    "!pip install -r requirements.txt"
   ]
  },
  {
   "cell_type": "markdown",
   "metadata": {},
   "source": [
    "## Setup Kafka and KEDA"
   ]
  },
  {
   "cell_type": "markdown",
   "metadata": {},
   "source": [
    " * Install Strimzi on cluster via out [playbook](https://github.com/SeldonIO/ansible-k8s-collection/blob/master/playbooks/kafka.yaml)\n",
    "\n",
    "```\n",
    "ansible-playbook kafka.yaml \n",
    "```\n",
    "\n",
    " * [Install KEDA](https://keda.sh/docs/2.6/deploy/) (tested on 2.6.1)\n",
    "   * See docs for [Kafka Scaler](https://keda.sh/docs/2.6/scalers/apache-kafka/)\n",
    "   "
   ]
  },
  {
   "cell_type": "markdown",
   "metadata": {},
   "source": [
    "## Create Kafka Cluster\n",
    "\n",
    " * Note tls listener is created with authentication"
   ]
  },
  {
   "cell_type": "code",
   "execution_count": null,
   "metadata": {},
   "outputs": [],
   "source": [
    "!cat cluster.yaml"
   ]
  },
  {
   "cell_type": "raw",
   "metadata": {},
   "source": [
    "!kubectl create -f cluster.yaml -n kafka"
   ]
  },
  {
   "cell_type": "markdown",
   "metadata": {},
   "source": [
    "## Create Kafka User\n",
    "\n",
    "This will create a secret called seldon-user in the kafka namespace with cert and key we can use later"
   ]
  },
  {
   "cell_type": "code",
   "execution_count": null,
   "metadata": {},
   "outputs": [],
   "source": [
    "!cat user.yaml"
   ]
  },
  {
   "cell_type": "code",
   "execution_count": null,
   "metadata": {},
   "outputs": [],
   "source": [
    "!kubectl create -f user.yaml -n kafka"
   ]
  },
  {
   "cell_type": "markdown",
   "metadata": {},
   "source": [
    "## Create Topics"
   ]
  },
  {
   "cell_type": "code",
   "execution_count": null,
   "metadata": {},
   "outputs": [],
   "source": [
    "res = !kubectl get service seldon-kafka-tls-bootstrap -n kafka -o=jsonpath='{.status.loadBalancer.ingress[0].ip}'\n",
    "ip = res[0]\n",
    "%env TLS_BROKER=$ip:9093"
   ]
  },
  {
   "cell_type": "code",
   "execution_count": null,
   "metadata": {},
   "outputs": [],
   "source": [
    "res = !kubectl get service seldon-kafka-plain-bootstrap -n kafka -o=jsonpath='{.status.loadBalancer.ingress[0].ip}'\n",
    "ip = res[0]\n",
    "%env BROKER=$ip:9092"
   ]
  },
  {
   "cell_type": "code",
   "execution_count": null,
   "metadata": {},
   "outputs": [],
   "source": [
    "%%writefile topics.yaml\n",
    "apiVersion: kafka.strimzi.io/v1beta2\n",
    "kind: KafkaTopic\n",
    "metadata:\n",
    "  name: cifar10-rest-input\n",
    "  namespace: kafka\n",
    "  labels:\n",
    "    strimzi.io/cluster: \"seldon\"\n",
    "spec:\n",
    "  partitions: 2\n",
    "  replicas: 1\n",
    "---\n",
    "apiVersion: kafka.strimzi.io/v1beta2\n",
    "kind: KafkaTopic\n",
    "metadata:\n",
    "  name: cifar10-rest-output\n",
    "  namespace: kafka\n",
    "  labels:\n",
    "    strimzi.io/cluster: \"seldon\"\n",
    "spec:\n",
    "  partitions: 2\n",
    "  replicas: 1"
   ]
  },
  {
   "cell_type": "markdown",
   "metadata": {},
   "source": [
    "Create two topics with 2 partitions each. This will allow scaling up to 2 replicas."
   ]
  },
  {
   "cell_type": "code",
   "execution_count": null,
   "metadata": {},
   "outputs": [],
   "source": [
    "!kubectl create -f topics.yaml"
   ]
  },
  {
   "cell_type": "markdown",
   "metadata": {},
   "source": [
    "## Install Seldon\n",
    "\n",
    "  * [Install Seldon](https://docs.seldon.io/projects/seldon-core/en/latest/workflow/install.html)\n",
    "  * [Follow our docs to intstall the Grafana analytics](https://docs.seldon.io/projects/seldon-core/en/latest/analytics/analytics.html)."
   ]
  },
  {
   "cell_type": "markdown",
   "metadata": {},
   "source": [
    "## Download Test Request Data\n",
    "We have two example datasets containing 50,000 requests in tensorflow serving format for CIFAR10. One in JSON format and one as length encoded proto buffers."
   ]
  },
  {
   "cell_type": "code",
   "execution_count": null,
   "metadata": {},
   "outputs": [],
   "source": [
    "!gsutil cp gs://seldon-datasets/cifar10/requests/tensorflow/cifar10_tensorflow.json.gz cifar10_tensorflow.json.gz\n",
    "!gunzip cifar10_tensorflow.json.gz"
   ]
  },
  {
   "cell_type": "markdown",
   "metadata": {},
   "source": [
    "## Test CIFAR10 REST Model"
   ]
  },
  {
   "cell_type": "markdown",
   "metadata": {},
   "source": [
    "Upload tensorflow serving rest requests to kafka. This may take some time dependent on your network connection."
   ]
  },
  {
   "cell_type": "code",
   "execution_count": null,
   "metadata": {},
   "outputs": [],
   "source": [
    "!python ../../../util/kafka/test-client.py produce $BROKER cifar10-rest-input --file cifar10_tensorflow.json"
   ]
  },
  {
   "cell_type": "code",
   "execution_count": null,
   "metadata": {},
   "outputs": [],
   "source": [
    "res = !kubectl get service -n kafka seldon-kafka-tls-bootstrap -o=jsonpath='{.spec.clusterIP}'\n",
    "ip = res[0]\n",
    "%env TLS_BROKER_CIP=$ip"
   ]
  },
  {
   "cell_type": "code",
   "execution_count": null,
   "metadata": {},
   "outputs": [],
   "source": [
    "!kubectl create secret generic keda-enable-tls --from-literal=tls=enable -n kafka"
   ]
  },
  {
   "cell_type": "markdown",
   "metadata": {},
   "source": [
    "## Create Trigger Auth\n",
    "\n",
    " * References keda-enable-tls secret\n",
    " * References seldon-cluster-ca-cert for ca cert\n",
    " * References seldon-user for user certificate"
   ]
  },
  {
   "cell_type": "code",
   "execution_count": 1,
   "metadata": {},
   "outputs": [
    {
     "name": "stdout",
     "output_type": "stream",
     "text": [
      "apiVersion: keda.sh/v1alpha1\r\n",
      "kind: TriggerAuthentication\r\n",
      "metadata:\r\n",
      "  name: seldon-kafka-auth\r\n",
      "  namespace: kafka\r\n",
      "spec:\r\n",
      "  secretTargetRef:\r\n",
      "  - parameter: tls\r\n",
      "    name: keda-enable-tls\r\n",
      "    key: tls\r\n",
      "  - parameter: ca\r\n",
      "    name: seldon-cluster-ca-cert\r\n",
      "    key: ca.crt\r\n",
      "  - parameter: cert\r\n",
      "    name: seldon-user\r\n",
      "    key: user.crt\r\n",
      "  - parameter: key\r\n",
      "    name: seldon-user\r\n",
      "    key: user.key\r\n"
     ]
    }
   ],
   "source": [
    "!cat trigger-auth.yaml"
   ]
  },
  {
   "cell_type": "code",
   "execution_count": null,
   "metadata": {},
   "outputs": [],
   "source": [
    "!kubectl create -f trigger-auth.yaml -n kafka"
   ]
  },
  {
   "cell_type": "code",
   "execution_count": null,
   "metadata": {},
   "outputs": [],
   "source": [
    "%%writefile cifar10_rest.yaml\n",
    "apiVersion: machinelearning.seldon.io/v1\n",
    "kind: SeldonDeployment\n",
    "metadata:\n",
    "  name: tfserving-cifar10\n",
    "  namespace: kafka\n",
    "spec:\n",
    "  protocol: tensorflow\n",
    "  transport: rest\n",
    "  serverType: kafka  \n",
    "  predictors:\n",
    "  - componentSpecs:\n",
    "    - spec:\n",
    "        containers:\n",
    "        - args: \n",
    "          - --port=8500\n",
    "          - --rest_api_port=8501\n",
    "          - --model_name=resnet32\n",
    "          - --model_base_path=gs://seldon-models/tfserving/cifar10/resnet32\n",
    "          - --enable_batching\n",
    "          image: tensorflow/serving\n",
    "          name: resnet32\n",
    "          ports:\n",
    "          - containerPort: 8501\n",
    "            name: http\n",
    "      kedaSpec:\n",
    "        pollingInterval: 15\n",
    "        minReplicaCount: 1\n",
    "        maxReplicaCount: 2\n",
    "        triggers:\n",
    "        - type: kafka\n",
    "          metadata:\n",
    "            bootstrapServers: TLS_BROKER_CIP\n",
    "            consumerGroup: model.tfserving-cifar10.kafka\n",
    "            lagThreshold: \"50\"\n",
    "            topic: cifar10-rest-input\n",
    "            offsetResetPolicy: latest\n",
    "            #authMode: sasl_ssl (for latest KEDA - not released yet)\n",
    "          authenticationRef:\n",
    "            name: seldon-kafka-auth\n",
    "    svcOrchSpec:\n",
    "      env:\n",
    "      - name: KAFKA_BROKER\n",
    "        value: TLS_BROKER_CIP\n",
    "      - name: KAFKA_INPUT_TOPIC\n",
    "        value: cifar10-rest-input\n",
    "      - name: KAFKA_OUTPUT_TOPIC\n",
    "        value: cifar10-rest-output\n",
    "      - name: KAFKA_SECURITY_PROTOCOL\n",
    "        value: ssl\n",
    "      - name: KAFKA_SSL_CA_CERT\n",
    "        valueFrom:\n",
    "          secretKeyRef:\n",
    "            name: seldon-cluster-ca-cert\n",
    "            key: ca.crt\n",
    "      - name: KAFKA_SSL_CLIENT_CERT\n",
    "        valueFrom:\n",
    "          secretKeyRef:\n",
    "            name: seldon-user\n",
    "            key: user.crt\n",
    "      - name: KAFKA_SSL_CLIENT_KEY\n",
    "        valueFrom:\n",
    "          secretKeyRef:\n",
    "            name: seldon-user\n",
    "            key: user.key\n",
    "      - name: KAFKA_SSL_CLIENT_KEY_PASS\n",
    "        valueFrom:\n",
    "          secretKeyRef:\n",
    "            name: seldon-user\n",
    "            key: user.password\n",
    "    graph:\n",
    "      name: resnet32\n",
    "      type: MODEL\n",
    "      endpoint:\n",
    "        service_port: 8501\n",
    "    name: model\n",
    "    replicas: 1"
   ]
  },
  {
   "cell_type": "code",
   "execution_count": null,
   "metadata": {},
   "outputs": [],
   "source": [
    "!cat cifar10_rest.yaml | sed s/TLS_BROKER_CIP/$TLS_BROKER_CIP:9093/ | kubectl apply -f -"
   ]
  },
  {
   "cell_type": "code",
   "execution_count": null,
   "metadata": {},
   "outputs": [],
   "source": [
    "!kubectl delete -f cifar10_rest.yaml"
   ]
  },
  {
   "cell_type": "code",
   "execution_count": null,
   "metadata": {},
   "outputs": [],
   "source": []
  }
 ],
 "metadata": {
  "kernelspec": {
   "display_name": "Python 3 (ipykernel)",
   "language": "python",
   "name": "python3"
  },
  "language_info": {
   "codemirror_mode": {
    "name": "ipython",
    "version": 3
   },
   "file_extension": ".py",
   "mimetype": "text/x-python",
   "name": "python",
   "nbconvert_exporter": "python",
   "pygments_lexer": "ipython3",
   "version": "3.7.10"
  }
 },
 "nbformat": 4,
 "nbformat_minor": 2
}
