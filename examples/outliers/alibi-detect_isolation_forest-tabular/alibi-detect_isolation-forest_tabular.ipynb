{
 "cells": [
  {
   "cell_type": "markdown",
   "metadata": {},
   "source": [
    "# Seldon deployment of Alibi Outlier detector\n",
    "\n",
    "\n",
    "This tutorial picks up when the [alibi anchor explainer](../../explainers/alibi_anchor_tabular/alibi_anchor_tabular_seldon_deployment.ipynb) left off.\n",
    "\n",
    "Tne objective of this tutorial is to build a \"loan approval\" classifier equiped with the outliers detector from [alibi-detect](https://github.com/SeldonIO/alibi-detect) package.\n",
    "The diagram of this tutorial is as follows:\n",
    "\n",
    "![deploy-overview](./img/deploy-overview.jpg)\n",
    "\n",
    "In this tutorial we will follow the following steps:\n",
    "\n",
    "1) Train a detector to look for outliers in the incoming data\n",
    "\n",
    "2) Containerise and deploy your detector\n",
    "\n",
    "3) Train a model to predict loan approvals\n",
    "\n",
    "4) Containerise and deploy your model\n",
    "\n",
    "5) Test your new loanclassifier deployment with outliers detection"
   ]
  },
  {
   "cell_type": "markdown",
   "metadata": {},
   "source": [
    "\n",
    "## Before you start\n",
    "Make sure you install the following dependencies, as they are critical for this example to work:\n",
    "\n",
    "* Helm v3.0.0+\n",
    "* A Kubernetes cluster running v1.13 or above (minkube / docker-for-windows work well if enough RAM)\n",
    "* kubectl v1.14+\n",
    "* ksonnet v0.13.1+\n",
    "* kfctl 0.5.1 - Please use this exact version as there are major changes every few months\n",
    "* Python 3.6+\n",
    "* Python DEV requirements (we'll install them below)\n",
    "\n",
    "You can follow this [notebook](../../../notebooks/seldon_core_setup.ipynb) to setup your cluster.\n",
    "\n",
    "Let's get started! 🚀🔥 \n"
   ]
  },
  {
   "cell_type": "markdown",
   "metadata": {},
   "source": [
    "## Install python dependencies"
   ]
  },
  {
   "cell_type": "code",
   "execution_count": 1,
   "metadata": {},
   "outputs": [
    {
     "name": "stdout",
     "output_type": "stream",
     "text": [
      "xai==0.0.5\n",
      "seldon_core==0.5.1\n",
      "alibi==0.3.2\n",
      "dill==0.3.1\n",
      "scikit-learn==0.20.1\n",
      "alibi-detect==0.2.0\n"
     ]
    }
   ],
   "source": [
    "!cat requirements-dev.txt"
   ]
  },
  {
   "cell_type": "code",
   "execution_count": 3,
   "metadata": {},
   "outputs": [],
   "source": [
    "# !pip install -r requirements-dev.txt"
   ]
  },
  {
   "cell_type": "markdown",
   "metadata": {},
   "source": [
    "## Setup Seldon Core\n",
    "\n",
    "Use the setup notebook to [Setup Cluster](../../seldon_core_setup.ipynb#Setup-Cluster) with [Ambassador Ingress](../../seldon_core_setup.ipynb#Ambassador) and [Install Seldon Core](../../seldon_core_setup.ipynb#Install-Seldon-Core). Instructions [also online](./seldon_core_setup.html)."
   ]
  },
  {
   "cell_type": "markdown",
   "metadata": {},
   "source": [
    "## 1) Train a detector to look for outliers in the incoming data"
   ]
  },
  {
   "cell_type": "markdown",
   "metadata": {},
   "source": [
    "### Imports"
   ]
  },
  {
   "cell_type": "code",
   "execution_count": 4,
   "metadata": {},
   "outputs": [
    {
     "name": "stderr",
     "output_type": "stream",
     "text": [
      "ERROR:fbprophet:Importing plotly failed. Interactive plots will not work.\n"
     ]
    }
   ],
   "source": [
    "import matplotlib\n",
    "%matplotlib inline\n",
    "import matplotlib.pyplot as plt\n",
    "import numpy as np\n",
    "import pandas as pd\n",
    "import seaborn as sns\n",
    "from sklearn.metrics import confusion_matrix, f1_score\n",
    "\n",
    "from alibi_detect.od import IForest\n",
    "from alibi_detect.datasets import fetch_kdd\n",
    "from alibi_detect.utils.data import create_outlier_batch\n",
    "from alibi_detect.utils.saving import save_detector, load_detector\n",
    "from alibi_detect.utils.visualize import plot_instance_score"
   ]
  },
  {
   "cell_type": "code",
   "execution_count": 5,
   "metadata": {},
   "outputs": [],
   "source": [
    "from sklearn.preprocessing import LabelEncoder, StandardScaler, OneHotEncoder\n",
    "from sklearn.impute import SimpleImputer\n",
    "from sklearn.pipeline import Pipeline\n",
    "from sklearn.compose import ColumnTransformer"
   ]
  },
  {
   "cell_type": "markdown",
   "metadata": {},
   "source": [
    "### Get data"
   ]
  },
  {
   "cell_type": "code",
   "execution_count": 6,
   "metadata": {},
   "outputs": [],
   "source": [
    "import alibi\n",
    "\n",
    "adult = alibi.datasets.fetch_adult()\n",
    "\n",
    "data = adult.data\n",
    "target = adult.target\n",
    "feature_names = adult.feature_names\n",
    "category_map = adult.category_map"
   ]
  },
  {
   "cell_type": "markdown",
   "metadata": {},
   "source": [
    "### Prepare data preprocessor "
   ]
  },
  {
   "cell_type": "code",
   "execution_count": 7,
   "metadata": {},
   "outputs": [
    {
     "data": {
      "text/plain": [
       "ColumnTransformer(n_jobs=None, remainder='drop', sparse_threshold=0.3,\n",
       "         transformer_weights=None,\n",
       "         transformers=[('num', Pipeline(memory=None,\n",
       "     steps=[('imputer', SimpleImputer(copy=True, fill_value=None, missing_values=nan,\n",
       "       strategy='median', verbose=0)), ('scaler', StandardScaler(copy=True, with_mean=True, with_std=True))]), [0, 8, 9, 10])])"
      ]
     },
     "execution_count": 7,
     "metadata": {},
     "output_type": "execute_result"
    }
   ],
   "source": [
    "ordinal_features = [x for x in range(len(feature_names)) if x not in list(category_map.keys())]\n",
    "ordinal_transformer = Pipeline(steps=[('imputer', SimpleImputer(strategy='median')),\n",
    "                                      ('scaler', StandardScaler())])\n",
    "\n",
    "outliers_preprocessor = ColumnTransformer(transformers=[('num', ordinal_transformer, ordinal_features)])\n",
    "outliers_preprocessor.fit(data)"
   ]
  },
  {
   "cell_type": "markdown",
   "metadata": {},
   "source": [
    "### Train on normal data"
   ]
  },
  {
   "cell_type": "code",
   "execution_count": 8,
   "metadata": {},
   "outputs": [],
   "source": [
    "np.random.seed(0)\n",
    "normal_batch = create_outlier_batch(data, target, n_samples=30000, perc_outlier=0)\n",
    "X_train, y_train = normal_batch.data.astype('float'), normal_batch.target"
   ]
  },
  {
   "cell_type": "code",
   "execution_count": 9,
   "metadata": {},
   "outputs": [],
   "source": [
    "X_train = outliers_preprocessor.transform(X_train)"
   ]
  },
  {
   "cell_type": "code",
   "execution_count": 10,
   "metadata": {},
   "outputs": [
    {
     "name": "stderr",
     "output_type": "stream",
     "text": [
      "WARNING:alibi_detect.od.isolationforest:No threshold level set. Need to infer threshold using `infer_threshold`.\n",
      "/home/rskolasinski/.local/lib/python3.7/site-packages/sklearn/ensemble/iforest.py:213: FutureWarning: default contamination parameter 0.1 will change in version 0.22 to \"auto\". This will change the predict method behavior.\n",
      "  FutureWarning)\n",
      "/home/rskolasinski/.local/lib/python3.7/site-packages/sklearn/ensemble/iforest.py:223: FutureWarning: behaviour=\"old\" is deprecated and will be removed in version 0.22. Please use behaviour=\"new\", which makes the decision_function change to match other anomaly detection algorithm API.\n",
      "  FutureWarning)\n"
     ]
    }
   ],
   "source": [
    "# initialize outlier detector\n",
    "od = IForest(threshold=None,  # threshold for outlier score\n",
    "             n_estimators=100)\n",
    "\n",
    "# train\n",
    "od.fit(X_train)"
   ]
  },
  {
   "cell_type": "markdown",
   "metadata": {},
   "source": [
    "### Train on threshold data"
   ]
  },
  {
   "cell_type": "code",
   "execution_count": 11,
   "metadata": {},
   "outputs": [],
   "source": [
    "np.random.seed(0)\n",
    "perc_outlier = 5\n",
    "threshold_batch = create_outlier_batch(data, target, n_samples=1000, perc_outlier=perc_outlier)\n",
    "X_threshold, y_threshold = threshold_batch.data.astype('float'), threshold_batch.target\n",
    "X_threshold = outliers_preprocessor.transform(X_threshold)"
   ]
  },
  {
   "cell_type": "code",
   "execution_count": 12,
   "metadata": {},
   "outputs": [
    {
     "name": "stdout",
     "output_type": "stream",
     "text": [
      "New threshold: 0.10840005025210257\n"
     ]
    }
   ],
   "source": [
    "od.infer_threshold(X_threshold, threshold_perc=100 - perc_outlier)\n",
    "print('New threshold: {}'.format(od.threshold))"
   ]
  },
  {
   "cell_type": "markdown",
   "metadata": {},
   "source": [
    "### Outlier data"
   ]
  },
  {
   "cell_type": "code",
   "execution_count": 13,
   "metadata": {},
   "outputs": [],
   "source": [
    "np.random.seed(1)\n",
    "outlier_batch = create_outlier_batch(data, target, n_samples=1000, perc_outlier=10)\n",
    "X_outlier, y_outlier = outlier_batch.data.astype('float'), outlier_batch.target\n",
    "X_outlier = outliers_preprocessor.transform(X_outlier)"
   ]
  },
  {
   "cell_type": "code",
   "execution_count": 14,
   "metadata": {},
   "outputs": [
    {
     "name": "stdout",
     "output_type": "stream",
     "text": [
      "(1000, 4) (1000,)\n",
      "10.0% outliers\n"
     ]
    }
   ],
   "source": [
    "print(X_outlier.shape, y_outlier.shape)\n",
    "print('{}% outliers'.format(100 * y_outlier.mean()))"
   ]
  },
  {
   "cell_type": "code",
   "execution_count": 17,
   "metadata": {},
   "outputs": [
    {
     "name": "stdout",
     "output_type": "stream",
     "text": [
      "F1 score: 0.32704402515723274\n"
     ]
    },
    {
     "data": {
      "image/png": "[encoded data removed]",
      "text/plain": [
       "<Figure size 432x288 with 2 Axes>"
      ]
     },
     "metadata": {
      "needs_background": "light"
     },
     "output_type": "display_data"
    }
   ],
   "source": [
    "od_preds = od.predict(X_outlier, return_instance_score=True)\n",
    "\n",
    "labels = outlier_batch.target_names\n",
    "y_pred = od_preds['data']['is_outlier']\n",
    "f1 = f1_score(y_outlier, y_pred)\n",
    "print('F1 score: {}'.format(f1))\n",
    "cm = confusion_matrix(y_outlier, y_pred)\n",
    "df_cm = pd.DataFrame(cm, index=labels, columns=labels)\n",
    "sns.heatmap(df_cm, annot=True, cbar=True, linewidths=.5)\n",
    "plt.show()"
   ]
  },
  {
   "cell_type": "code",
   "execution_count": 18,
   "metadata": {},
   "outputs": [
    {
     "data": {
      "image/png": "[encoded data removed]",
      "text/plain": [
       "<Figure size 432x288 with 1 Axes>"
      ]
     },
     "metadata": {
      "needs_background": "light"
     },
     "output_type": "display_data"
    }
   ],
   "source": [
    "plot_instance_score(od_preds, y_outlier, labels, od.threshold)"
   ]
  },
  {
   "cell_type": "markdown",
   "metadata": {},
   "source": [
    "## 2) Containerise and deploy your detector"
   ]
  },
  {
   "cell_type": "code",
   "execution_count": 19,
   "metadata": {},
   "outputs": [],
   "source": [
    "!mkdir -p pipeline/pipeline_steps/outliers-detector"
   ]
  },
  {
   "cell_type": "markdown",
   "metadata": {},
   "source": [
    "### 2.1 - Save the trained model in the folder"
   ]
  },
  {
   "cell_type": "code",
   "execution_count": 20,
   "metadata": {},
   "outputs": [],
   "source": [
    "import dill\n",
    "\n",
    "with open(\"pipeline/pipeline_steps/outliers-detector/preprocessor.dill\", \"wb\") as prep_f:\n",
    "    dill.dump(outliers_preprocessor, prep_f)\n",
    "    \n",
    "with open(\"pipeline/pipeline_steps/outliers-detector/model.dill\", \"wb\") as model_f:\n",
    "    dill.dump(od, model_f)"
   ]
  },
  {
   "cell_type": "markdown",
   "metadata": {},
   "source": [
    "### 2.2 Write a python wrapper for the outlier detector"
   ]
  },
  {
   "cell_type": "code",
   "execution_count": 21,
   "metadata": {},
   "outputs": [
    {
     "name": "stdout",
     "output_type": "stream",
     "text": [
      "Overwriting pipeline/pipeline_steps/outliers-detector/Detector.py\n"
     ]
    }
   ],
   "source": [
    "%%writefile pipeline/pipeline_steps/outliers-detector/Detector.py\n",
    "import dill\n",
    "import json\n",
    "import numpy as np\n",
    "\n",
    "\n",
    "class Detector:\n",
    "    def __init__(self, *args, **kwargs):\n",
    "        \n",
    "        with open(\"preprocessor.dill\", \"rb\") as prep_f:\n",
    "            self.preprocessor = dill.load(prep_f)\n",
    "        with open(\"model.dill\", \"rb\") as model_f:\n",
    "            self.od = dill.load(model_f)\n",
    "        \n",
    "    def predict(self, X, feature_names=[]):\n",
    "        print(\"Received: \" + str(X))\n",
    "        X_prep = self.preprocessor.transform(X)\n",
    "        od_preds = self.od.predict(X_prep, return_instance_score=True)\n",
    "        print(\"Predicted: \" + str(od_preds))\n",
    "        return json.dumps(od_preds, cls=NumpyEncoder)\n",
    "    \n",
    "\n",
    "class NumpyEncoder(json.JSONEncoder):\n",
    "    def default(self, obj):\n",
    "        if isinstance(obj, (\n",
    "        np.int_, np.intc, np.intp, np.int8, np.int16, np.int32, np.int64, np.uint8, np.uint16, np.uint32, np.uint64)):\n",
    "            return int(obj)\n",
    "        elif isinstance(obj, (np.float_, np.float16, np.float32, np.float64)):\n",
    "            return float(obj)\n",
    "        elif isinstance(obj, (np.ndarray,)):\n",
    "            return obj.tolist()\n",
    "        return json.JSONEncoder.default(self, obj)    "
   ]
  },
  {
   "cell_type": "markdown",
   "metadata": {},
   "source": [
    "### 2.3 Add the python requirements"
   ]
  },
  {
   "cell_type": "code",
   "execution_count": 22,
   "metadata": {},
   "outputs": [
    {
     "name": "stdout",
     "output_type": "stream",
     "text": [
      "Overwriting pipeline/pipeline_steps/outliers-detector/requirements.txt\n"
     ]
    }
   ],
   "source": [
    "%%writefile pipeline/pipeline_steps/outliers-detector/requirements.txt\n",
    "scikit-learn==0.20.1\n",
    "dill==0.3.1.\n",
    "alibi==0.3.2\n",
    "seldon-core==0.5.1\n",
    "alibi-detect==0.2.0"
   ]
  },
  {
   "cell_type": "markdown",
   "metadata": {},
   "source": [
    "### 2.4 Add the Source2Image configuration so the script knows which Model.py to use"
   ]
  },
  {
   "cell_type": "code",
   "execution_count": 23,
   "metadata": {},
   "outputs": [
    {
     "name": "stdout",
     "output_type": "stream",
     "text": [
      "mkdir: cannot create directory ‘pipeline/pipeline_steps/outliers-detector/.s2i’: File exists\n"
     ]
    }
   ],
   "source": [
    "!mkdir pipeline/pipeline_steps/outliers-detector/.s2i"
   ]
  },
  {
   "cell_type": "code",
   "execution_count": 24,
   "metadata": {},
   "outputs": [
    {
     "name": "stdout",
     "output_type": "stream",
     "text": [
      "Overwriting pipeline/pipeline_steps/outliers-detector/.s2i/environment\n"
     ]
    }
   ],
   "source": [
    "%%writefile pipeline/pipeline_steps/outliers-detector/.s2i/environment\n",
    "MODEL_NAME=Detector\n",
    "API_TYPE=REST\n",
    "SERVICE_TYPE=MODEL\n",
    "PERSISTENCE=0"
   ]
  },
  {
   "cell_type": "markdown",
   "metadata": {},
   "source": [
    "### 2.5 Run the s2i command to build the image"
   ]
  },
  {
   "cell_type": "code",
   "execution_count": 25,
   "metadata": {},
   "outputs": [],
   "source": [
    "# !s2i build pipeline/pipeline_steps/outliers-detector seldonio/seldon-core-s2i-python37:0.14 outliers-detector:0.1"
   ]
  },
  {
   "cell_type": "markdown",
   "metadata": {},
   "source": [
    "*or* if using Minikube"
   ]
  },
  {
   "cell_type": "code",
   "execution_count": 26,
   "metadata": {},
   "outputs": [],
   "source": [
    "# %%bash\n",
    "# eval $(minikube docker-env)\n",
    "# !build pipeline/pipeline_steps/outliers-detector seldonio/seldon-core-s2i-python37:0.14 outliers-detector:0.1"
   ]
  },
  {
   "cell_type": "markdown",
   "metadata": {},
   "source": [
    "### 2.6 Deploy your image with a Seldon Graph Definition"
   ]
  },
  {
   "cell_type": "code",
   "execution_count": 27,
   "metadata": {},
   "outputs": [
    {
     "name": "stdout",
     "output_type": "stream",
     "text": [
      "Overwriting pipeline/pipeline_steps/outliers-detector/outliers-detector.yaml\n"
     ]
    }
   ],
   "source": [
    "%%writefile pipeline/pipeline_steps/outliers-detector/outliers-detector.yaml\n",
    "apiVersion: machinelearning.seldon.io/v1alpha2\n",
    "kind: SeldonDeployment\n",
    "metadata:\n",
    "  labels:\n",
    "    app: seldon\n",
    "  name: outliers-detector\n",
    "spec:\n",
    "  name: outliers-detector\n",
    "  predictors:\n",
    "  - componentSpecs:\n",
    "    - spec:\n",
    "        containers:\n",
    "        - image: rafalskolasinski/seldon-experiments:outliers-detector-0.1\n",
    "          name: model-outliers\n",
    "          imagePullPolicy: Always\n",
    "    graph:\n",
    "      children: []\n",
    "      name: model-outliers\n",
    "      type: MODEL\n",
    "      endpoint:\n",
    "        type: REST\n",
    "    name: outliers-detector\n",
    "    replicas: 1\n"
   ]
  },
  {
   "cell_type": "code",
   "execution_count": 28,
   "metadata": {},
   "outputs": [
    {
     "name": "stdout",
     "output_type": "stream",
     "text": [
      "seldondeployment.machinelearning.seldon.io/outliers-detector configured\n"
     ]
    }
   ],
   "source": [
    "!kubectl apply -f pipeline/pipeline_steps/outliers-detector/outliers-detector.yaml"
   ]
  },
  {
   "cell_type": "code",
   "execution_count": 29,
   "metadata": {},
   "outputs": [
    {
     "name": "stdout",
     "output_type": "stream",
     "text": [
      "NAME                                                              READY   STATUS    RESTARTS   AGE\n",
      "ambassador-69d88f894c-28xr2                                       1/1     Running   0          45h\n",
      "ambassador-69d88f894c-9w685                                       1/1     Running   0          45h\n",
      "ambassador-69d88f894c-dlc9z                                       1/1     Running   0          45h\n",
      "loanclassifier-explainer-loanclassifier-explainer-d73a620-2gkgl   2/2     Running   0          44h\n",
      "loanclassifier-loanclassifier-796f306-694bc55488-n8btk            2/2     Running   0          45h\n",
      "loanclassifier-outliers-loanclassifier-outliers-e337bcf-5d65s52   2/2     Running   0          7m7s\n",
      "outliers-detector-outliers-detector-4f22c89-6f9cb776d8-dkmzp      2/2     Running   0          38m\n"
     ]
    }
   ],
   "source": [
    "!kubectl get pods"
   ]
  },
  {
   "cell_type": "markdown",
   "metadata": {},
   "source": [
    "### 2.7 Now that it's deployed we can query it\n",
    "**IMPORTANT:** If you are using minikube (instead of docker desktop) you have to forward the port first with:\n",
    "```\n",
    "kubectl port-forward svc/ambassador 8003:80\n",
    "```"
   ]
  },
  {
   "cell_type": "markdown",
   "metadata": {},
   "source": [
    "#### First we can try Curl"
   ]
  },
  {
   "cell_type": "code",
   "execution_count": 30,
   "metadata": {},
   "outputs": [
    {
     "data": {
      "text/plain": [
       "array([[  39,    7,    1,    1,    1,    1,    4,    1, 2174,    0,   40,\n",
       "           9]])"
      ]
     },
     "execution_count": 30,
     "metadata": {},
     "output_type": "execute_result"
    }
   ],
   "source": [
    "data[:1]"
   ]
  },
  {
   "cell_type": "code",
   "execution_count": 31,
   "metadata": {},
   "outputs": [
    {
     "name": "stdout",
     "output_type": "stream",
     "text": [
      "{\n",
      "  \"meta\": {\n",
      "    \"puid\": \"sliovk4ijihujshqnfrb46s371\",\n",
      "    \"tags\": {\n",
      "    },\n",
      "    \"routing\": {\n",
      "    },\n",
      "    \"requestPath\": {\n",
      "      \"model-outliers\": \"rafalskolasinski/seldon-experiments:outliers-detector-0.1\"\n",
      "    },\n",
      "    \"metrics\": []\n",
      "  },\n",
      "  \"strData\": \"{\\\"data\\\": {\\\"feature_score\\\": null, \\\"instance_score\\\": [0.0035157170373933955], \\\"is_outlier\\\": [0]}, \\\"meta\\\": {\\\"name\\\": \\\"IForest\\\", \\\"detector_type\\\": \\\"offline\\\", \\\"data_type\\\": \\\"tabular\\\"}}\"\n",
      "}"
     ]
    },
    {
     "name": "stderr",
     "output_type": "stream",
     "text": [
      "  % Total    % Received % Xferd  Average Speed   Time    Time     Time  Current\n",
      "                                 Dload  Upload   Total   Spent    Left  Speed\n",
      "100   537  100   451  100    86   1555    296 --:--:-- --:--:-- --:--:--  1845\n"
     ]
    }
   ],
   "source": [
    "%%bash\n",
    "curl -X POST -H 'Content-Type: application/json' \\\n",
    "    -d \"{'data': {'names': ['text'], 'ndarray': [[39, 7, 1, 1, 1, 1, 4, 1, 2174, 0, 40, 9]] }}\" \\\n",
    "    http://localhost:8003/seldon/seldon/outliers-detector/api/v0.1/predictions"
   ]
  },
  {
   "cell_type": "markdown",
   "metadata": {},
   "source": [
    "which we can compare with calling our detector in notebook"
   ]
  },
  {
   "cell_type": "markdown",
   "metadata": {},
   "source": [
    "### 2.8 Test outlier detection with Seldon Client"
   ]
  },
  {
   "cell_type": "code",
   "execution_count": 32,
   "metadata": {},
   "outputs": [],
   "source": [
    "from seldon_core.seldon_client import SeldonClient\n",
    "import json"
   ]
  },
  {
   "cell_type": "code",
   "execution_count": 33,
   "metadata": {},
   "outputs": [],
   "source": [
    "sc = SeldonClient(\n",
    "    gateway=\"ambassador\", \n",
    "    deployment_name=\"outliers-detector\",\n",
    "    gateway_endpoint=\"localhost:8003\",\n",
    "    payload_type=\"ndarray\",\n",
    "    namespace=\"seldon\",\n",
    "    transport=\"rest\"\n",
    ")"
   ]
  },
  {
   "cell_type": "code",
   "execution_count": 34,
   "metadata": {},
   "outputs": [
    {
     "data": {
      "text/plain": [
       "{'data': {'feature_score': None,\n",
       "  'instance_score': [0.0035157170373933955],\n",
       "  'is_outlier': [0]},\n",
       " 'meta': {'name': 'IForest',\n",
       "  'detector_type': 'offline',\n",
       "  'data_type': 'tabular'}}"
      ]
     },
     "execution_count": 34,
     "metadata": {},
     "output_type": "execute_result"
    }
   ],
   "source": [
    "to_explain = data[:1]\n",
    "\n",
    "resp = sc.predict(data=to_explain)\n",
    "json.loads(resp.response.strData)"
   ]
  },
  {
   "cell_type": "markdown",
   "metadata": {},
   "source": [
    "which we can compare with outlier detector defined in our notebook"
   ]
  },
  {
   "cell_type": "code",
   "execution_count": 35,
   "metadata": {},
   "outputs": [
    {
     "data": {
      "text/plain": [
       "{'data': {'feature_score': None,\n",
       "  'instance_score': array([0.00351572]),\n",
       "  'is_outlier': array([0])},\n",
       " 'meta': {'name': 'IForest',\n",
       "  'detector_type': 'offline',\n",
       "  'data_type': 'tabular'}}"
      ]
     },
     "execution_count": 35,
     "metadata": {},
     "output_type": "execute_result"
    }
   ],
   "source": [
    "od.predict(outliers_preprocessor.transform(data[:1]), return_instance_score=True)"
   ]
  },
  {
   "cell_type": "markdown",
   "metadata": {},
   "source": [
    "## 3)  Train a model to predict loan approvals"
   ]
  },
  {
   "cell_type": "markdown",
   "metadata": {},
   "source": [
    "### Split data into train and test data"
   ]
  },
  {
   "cell_type": "code",
   "execution_count": 36,
   "metadata": {},
   "outputs": [],
   "source": [
    "adult = alibi.datasets.fetch_adult()\n",
    "\n",
    "data = adult.data\n",
    "labels = adult.target\n",
    "feature_names = adult.feature_names\n",
    "category_map = adult.category_map\n",
    "\n",
    "# define train and test set\n",
    "np.random.seed(0)\n",
    "data_perm = np.random.permutation(np.c_[data, labels])\n",
    "data = data_perm[:, :-1]\n",
    "labels = data_perm[:, -1]\n",
    "\n",
    "idx = 30000\n",
    "X_train, y_train = data[:idx, :], labels[:idx]\n",
    "X_test, y_test = data[idx + 1:, :], labels[idx + 1:]"
   ]
  },
  {
   "cell_type": "markdown",
   "metadata": {},
   "source": [
    "### Imports"
   ]
  },
  {
   "cell_type": "code",
   "execution_count": 37,
   "metadata": {},
   "outputs": [],
   "source": [
    "from sklearn.ensemble import RandomForestClassifier"
   ]
  },
  {
   "cell_type": "markdown",
   "metadata": {},
   "source": [
    "### Add classifier preprocessor"
   ]
  },
  {
   "cell_type": "code",
   "execution_count": 38,
   "metadata": {},
   "outputs": [],
   "source": [
    "categorical_features = list(category_map.keys())\n",
    "categorical_transformer = Pipeline(steps=[('imputer', SimpleImputer(strategy='median')),\n",
    "                                          ('onehot', OneHotEncoder(handle_unknown='ignore'))])\n",
    "\n",
    "classifier_preprocessor = ColumnTransformer(transformers=[('num', ordinal_transformer, ordinal_features),\n",
    "                                                          ('cat', categorical_transformer, categorical_features)])"
   ]
  },
  {
   "cell_type": "code",
   "execution_count": 39,
   "metadata": {},
   "outputs": [
    {
     "data": {
      "text/plain": [
       "ColumnTransformer(n_jobs=None, remainder='drop', sparse_threshold=0.3,\n",
       "         transformer_weights=None,\n",
       "         transformers=[('num', Pipeline(memory=None,\n",
       "     steps=[('imputer', SimpleImputer(copy=True, fill_value=None, missing_values=nan,\n",
       "       strategy='median', verbose=0)), ('scaler', StandardScaler(copy=True, with_mean=True, with_std=True))]), [0, 8, 9, 10]), ('cat', Pipeline(memory=None,\n",
       "     steps=[(...oat64'>, handle_unknown='ignore',\n",
       "       n_values=None, sparse=True))]), [1, 2, 3, 4, 5, 6, 7, 11])])"
      ]
     },
     "execution_count": 39,
     "metadata": {},
     "output_type": "execute_result"
    }
   ],
   "source": [
    "classifier_preprocessor.fit(data)"
   ]
  },
  {
   "cell_type": "markdown",
   "metadata": {},
   "source": [
    "### Prepare model"
   ]
  },
  {
   "cell_type": "code",
   "execution_count": 40,
   "metadata": {},
   "outputs": [
    {
     "data": {
      "text/plain": [
       "RandomForestClassifier(bootstrap=True, class_weight=None, criterion='gini',\n",
       "            max_depth=None, max_features='auto', max_leaf_nodes=None,\n",
       "            min_impurity_decrease=0.0, min_impurity_split=None,\n",
       "            min_samples_leaf=1, min_samples_split=2,\n",
       "            min_weight_fraction_leaf=0.0, n_estimators=50, n_jobs=None,\n",
       "            oob_score=False, random_state=None, verbose=0,\n",
       "            warm_start=False)"
      ]
     },
     "execution_count": 40,
     "metadata": {},
     "output_type": "execute_result"
    }
   ],
   "source": [
    "np.random.seed(0)\n",
    "clf = RandomForestClassifier(n_estimators=50)\n",
    "clf.fit(classifier_preprocessor.transform(X_train), y_train)"
   ]
  },
  {
   "cell_type": "code",
   "execution_count": 41,
   "metadata": {},
   "outputs": [
    {
     "data": {
      "text/html": [
       "<div>\n",
       "<style scoped>\n",
       "    .dataframe tbody tr th:only-of-type {\n",
       "        vertical-align: middle;\n",
       "    }\n",
       "\n",
       "    .dataframe tbody tr th {\n",
       "        vertical-align: top;\n",
       "    }\n",
       "\n",
       "    .dataframe thead th {\n",
       "        text-align: right;\n",
       "    }\n",
       "</style>\n",
       "<table border=\"1\" class=\"dataframe\">\n",
       "  <thead>\n",
       "    <tr style=\"text-align: right;\">\n",
       "      <th></th>\n",
       "      <th>target</th>\n",
       "    </tr>\n",
       "  </thead>\n",
       "  <tbody>\n",
       "    <tr>\n",
       "      <th>precision</th>\n",
       "      <td>0.708042</td>\n",
       "    </tr>\n",
       "    <tr>\n",
       "      <th>recall</th>\n",
       "      <td>0.661765</td>\n",
       "    </tr>\n",
       "    <tr>\n",
       "      <th>specificity</th>\n",
       "      <td>0.914271</td>\n",
       "    </tr>\n",
       "    <tr>\n",
       "      <th>accuracy</th>\n",
       "      <td>0.853906</td>\n",
       "    </tr>\n",
       "    <tr>\n",
       "      <th>auc</th>\n",
       "      <td>0.788018</td>\n",
       "    </tr>\n",
       "    <tr>\n",
       "      <th>f1</th>\n",
       "      <td>0.684122</td>\n",
       "    </tr>\n",
       "  </tbody>\n",
       "</table>\n",
       "</div>"
      ],
      "text/plain": [
       "               target\n",
       "precision    0.708042\n",
       "recall       0.661765\n",
       "specificity  0.914271\n",
       "accuracy     0.853906\n",
       "auc          0.788018\n",
       "f1           0.684122"
      ]
     },
     "execution_count": 41,
     "metadata": {},
     "output_type": "execute_result"
    },
    {
     "data": {
      "image/png": "[encoded data removed]",
      "text/plain": [
       "<Figure size 1440x360 with 1 Axes>"
      ]
     },
     "metadata": {
      "needs_background": "light"
     },
     "output_type": "display_data"
    }
   ],
   "source": [
    "import xai\n",
    "pred = clf.predict(classifier_preprocessor.transform(X_test))\n",
    "xai.metrics_plot(y_test, pred)"
   ]
  },
  {
   "cell_type": "markdown",
   "metadata": {},
   "source": [
    "## 4) Containerise and deploy model (with outliers detector)"
   ]
  },
  {
   "cell_type": "markdown",
   "metadata": {},
   "source": [
    "Let's start containerising it - we'll be using the following folder for this:"
   ]
  },
  {
   "cell_type": "code",
   "execution_count": 42,
   "metadata": {},
   "outputs": [
    {
     "name": "stdout",
     "output_type": "stream",
     "text": [
      "mkdir: cannot create directory ‘pipeline/pipeline_steps/loanclassifier-outliers/’: File exists\n"
     ]
    }
   ],
   "source": [
    "!mkdir pipeline/pipeline_steps/loanclassifier-outliers/"
   ]
  },
  {
   "cell_type": "markdown",
   "metadata": {},
   "source": [
    "### 4.1 Save the trained model in the folder"
   ]
  },
  {
   "cell_type": "code",
   "execution_count": 43,
   "metadata": {},
   "outputs": [],
   "source": [
    "import dill\n",
    "\n",
    "with open(\"pipeline/pipeline_steps/loanclassifier-outliers/preprocessor.dill\", \"wb\") as prep_f:\n",
    "    dill.dump(classifier_preprocessor, prep_f)\n",
    "    \n",
    "with open(\"pipeline/pipeline_steps/loanclassifier-outliers/model.dill\", \"wb\") as model_f:\n",
    "    dill.dump(clf, model_f)"
   ]
  },
  {
   "cell_type": "markdown",
   "metadata": {},
   "source": [
    "### 4.2 Write a python wrapper for the loan approval model"
   ]
  },
  {
   "cell_type": "code",
   "execution_count": 75,
   "metadata": {},
   "outputs": [
    {
     "name": "stdout",
     "output_type": "stream",
     "text": [
      "Overwriting pipeline/pipeline_steps/loanclassifier-outliers/Model.py\n"
     ]
    }
   ],
   "source": [
    "%%writefile pipeline/pipeline_steps/loanclassifier-outliers/Model.py\n",
    "\n",
    "import dill\n",
    "import json\n",
    "\n",
    "from seldon_core.seldon_client import SeldonClient\n",
    "from seldon_core.utils import get_data_from_proto\n",
    "\n",
    "\n",
    "class Model:\n",
    "\n",
    "    def __init__(self, *args, **kwargs):\n",
    "        self._tags = {}\n",
    "        \n",
    "        with open(\"preprocessor.dill\", \"rb\") as prep_f:\n",
    "            self.preprocessor = dill.load(prep_f)\n",
    "        with open(\"model.dill\", \"rb\") as model_f:\n",
    "            self.clf = dill.load(model_f)\n",
    "        \n",
    "    def predict(self, X, feature_names=[]):\n",
    "        \"\"\"Run input X through loanclassifier model.\n",
    "        \n",
    "        Additionaly, query outliers-detector to check\n",
    "        if the input X contains any outliers. Output from\n",
    "        this check will be return through metadata.\n",
    "        \"\"\"\n",
    "        \n",
    "        print(\"Received: \" + str(X))\n",
    "        X_prep = self.preprocessor.transform(X)\n",
    "        proba = self.clf.predict_proba(X_prep)\n",
    "        print(\"Predicted: \" + str(proba))\n",
    "        \n",
    "        outliers = self.detect_remote_fn(X)\n",
    "        self._tags['outlier_score'] = list(outliers['data']['instance_score'])\n",
    "        self._tags['outlier_verdict'] = list(outliers['data']['is_outlier'])\n",
    "        \n",
    "        return proba    \n",
    "    \n",
    "    def tags(self):\n",
    "        return self._tags\n",
    "    \n",
    "    def detect_remote_fn(self, X):\n",
    "        \"\"\"Detect if input data is outliers.\n",
    "        \n",
    "        This function queries separately deployed component\n",
    "        to check whether input data contains outliers or not.\n",
    "        \"\"\"\n",
    "        kwargs = {\n",
    "            \"gateway\": \"ambassador\", \n",
    "            \"gateway_endpoint\": \"ambassador:80\",\n",
    "            \"deployment_name\": \"outliers-detector\",\n",
    "            \"payload_type\": \"ndarray\",\n",
    "            \"namespace\": \"seldon\",\n",
    "            \"transport\": \"rest\"\n",
    "        }\n",
    "\n",
    "        sc = SeldonClient(**kwargs)\n",
    "        prediction = sc.predict(data=X)\n",
    "        \n",
    "        return json.loads(prediction.response.strData)"
   ]
  },
  {
   "cell_type": "markdown",
   "metadata": {},
   "source": [
    "### 4.2 Add the python requirements"
   ]
  },
  {
   "cell_type": "code",
   "execution_count": 76,
   "metadata": {},
   "outputs": [
    {
     "name": "stdout",
     "output_type": "stream",
     "text": [
      "Overwriting pipeline/pipeline_steps/loanclassifier-outliers/requirements.txt\n"
     ]
    }
   ],
   "source": [
    "%%writefile pipeline/pipeline_steps/loanclassifier-outliers/requirements.txt\n",
    "scikit-learn==0.20.1\n",
    "\n",
    "scipy==1.1.0\n",
    "numpy==1.15.4\n",
    "\n",
    "dill==0.3.1\n",
    "seldon-core==0.5.1"
   ]
  },
  {
   "cell_type": "markdown",
   "metadata": {},
   "source": [
    "### 4.3 Add the Source2Image configuration so the script knows which Model.py to use"
   ]
  },
  {
   "cell_type": "code",
   "execution_count": 77,
   "metadata": {},
   "outputs": [
    {
     "name": "stdout",
     "output_type": "stream",
     "text": [
      "mkdir: cannot create directory ‘pipeline/pipeline_steps/loanclassifier-outliers/.s2i’: File exists\n"
     ]
    }
   ],
   "source": [
    "!mkdir pipeline/pipeline_steps/loanclassifier-outliers/.s2i"
   ]
  },
  {
   "cell_type": "code",
   "execution_count": 78,
   "metadata": {},
   "outputs": [
    {
     "name": "stdout",
     "output_type": "stream",
     "text": [
      "Overwriting pipeline/pipeline_steps/loanclassifier-outliers/.s2i/environment\n"
     ]
    }
   ],
   "source": [
    "%%writefile pipeline/pipeline_steps/loanclassifier-outliers/.s2i/environment\n",
    "MODEL_NAME=Model\n",
    "API_TYPE=REST\n",
    "SERVICE_TYPE=MODEL\n",
    "PERSISTENCE=0"
   ]
  },
  {
   "cell_type": "markdown",
   "metadata": {},
   "source": [
    "### 4.4 Run the s2i command to build the image"
   ]
  },
  {
   "cell_type": "code",
   "execution_count": 79,
   "metadata": {},
   "outputs": [],
   "source": [
    "# !s2i build pipeline/pipeline_steps/loanclassifier-combined seldonio/seldon-core-s2i-python37:0.14 loanclassifier-combined:0.1"
   ]
  },
  {
   "cell_type": "markdown",
   "metadata": {},
   "source": [
    "*or* if using Minikube"
   ]
  },
  {
   "cell_type": "code",
   "execution_count": 49,
   "metadata": {},
   "outputs": [],
   "source": [
    "# %%bash\n",
    "# eval $(minikube docker-env)"
   ]
  },
  {
   "cell_type": "markdown",
   "metadata": {},
   "source": [
    "### 4.5 Deploy your image with a Seldon Graph Definition"
   ]
  },
  {
   "cell_type": "code",
   "execution_count": 50,
   "metadata": {},
   "outputs": [
    {
     "name": "stdout",
     "output_type": "stream",
     "text": [
      "Overwriting pipeline/pipeline_steps/loanclassifier-outliers/loanclassifier-outliers.yaml\n"
     ]
    }
   ],
   "source": [
    "%%writefile pipeline/pipeline_steps/loanclassifier-outliers/loanclassifier-outliers.yaml\n",
    "apiVersion: machinelearning.seldon.io/v1alpha2\n",
    "kind: SeldonDeployment\n",
    "metadata:\n",
    "  labels:\n",
    "    app: seldon\n",
    "  name: loanclassifier-outliers\n",
    "spec:\n",
    "  name: loanclassifier-outliers\n",
    "  predictors:\n",
    "  - componentSpecs:\n",
    "    - spec:\n",
    "        containers:\n",
    "        - image: rafalskolasinski/seldon-experiments:loanclassifier-outliers-0.1\n",
    "          name: model-outliers\n",
    "          imagePullPolicy: Always\n",
    "    graph:\n",
    "      children: []\n",
    "      name: model-outliers\n",
    "      type: MODEL\n",
    "      endpoint:\n",
    "        type: REST\n",
    "    name: loanclassifier-outliers\n",
    "    replicas: 1"
   ]
  },
  {
   "cell_type": "code",
   "execution_count": 81,
   "metadata": {},
   "outputs": [
    {
     "name": "stdout",
     "output_type": "stream",
     "text": [
      "seldondeployment.machinelearning.seldon.io/loanclassifier-outliers created\n"
     ]
    }
   ],
   "source": [
    "!kubectl apply -f pipeline/pipeline_steps/loanclassifier-outliers/loanclassifier-outliers.yaml"
   ]
  },
  {
   "cell_type": "code",
   "execution_count": 83,
   "metadata": {},
   "outputs": [
    {
     "name": "stdout",
     "output_type": "stream",
     "text": [
      "NAME                                                              READY   STATUS    RESTARTS   AGE\n",
      "ambassador-69d88f894c-28xr2                                       1/1     Running   0          45h\n",
      "ambassador-69d88f894c-9w685                                       1/1     Running   0          45h\n",
      "ambassador-69d88f894c-dlc9z                                       1/1     Running   0          45h\n",
      "loanclassifier-explainer-loanclassifier-explainer-d73a620-2gkgl   2/2     Running   0          45h\n",
      "loanclassifier-loanclassifier-796f306-694bc55488-n8btk            2/2     Running   0          45h\n",
      "loanclassifier-outliers-loanclassifier-outliers-e337bcf-5dsm8jl   2/2     Running   0          82s\n",
      "outliers-detector-outliers-detector-4f22c89-6f9cb776d8-dkmzp      2/2     Running   0          62m\n"
     ]
    }
   ],
   "source": [
    "!kubectl get pods"
   ]
  },
  {
   "cell_type": "markdown",
   "metadata": {},
   "source": [
    "## 5) Test deployement using seldon client"
   ]
  },
  {
   "cell_type": "markdown",
   "metadata": {},
   "source": [
    "**IMPORTANT:** If you are using minikube (instead of docker desktop) you have to forward the port first with:\n",
    "```\n",
    "kubectl port-forward svc/ambassador 8003:80\n",
    "```"
   ]
  },
  {
   "cell_type": "code",
   "execution_count": 84,
   "metadata": {},
   "outputs": [],
   "source": [
    "from seldon_core.seldon_client import SeldonClient"
   ]
  },
  {
   "cell_type": "code",
   "execution_count": 85,
   "metadata": {},
   "outputs": [],
   "source": [
    "sc = SeldonClient(\n",
    "    gateway=\"ambassador\", \n",
    "    deployment_name=\"loanclassifier-outliers\",\n",
    "    gateway_endpoint=\"localhost:8003\",\n",
    "    payload_type=\"ndarray\",\n",
    "    namespace=\"seldon\",\n",
    "    transport=\"rest\"\n",
    ")"
   ]
  },
  {
   "cell_type": "code",
   "execution_count": 86,
   "metadata": {},
   "outputs": [],
   "source": [
    "to_explain = X_test[:1]\n",
    "\n",
    "prediction = sc.predict(data=to_explain)"
   ]
  },
  {
   "cell_type": "code",
   "execution_count": 87,
   "metadata": {},
   "outputs": [
    {
     "data": {
      "text/plain": [
       "array([[52,  4,  0,  2,  8,  4,  2,  0,  0,  0, 60,  9]])"
      ]
     },
     "execution_count": 87,
     "metadata": {},
     "output_type": "execute_result"
    }
   ],
   "source": [
    "to_explain"
   ]
  },
  {
   "cell_type": "code",
   "execution_count": 88,
   "metadata": {},
   "outputs": [
    {
     "data": {
      "text/plain": [
       "names: \"t:0\"\n",
       "names: \"t:1\"\n",
       "ndarray {\n",
       "  values {\n",
       "    list_value {\n",
       "      values {\n",
       "        number_value: 0.86\n",
       "      }\n",
       "      values {\n",
       "        number_value: 0.14\n",
       "      }\n",
       "    }\n",
       "  }\n",
       "}"
      ]
     },
     "execution_count": 88,
     "metadata": {},
     "output_type": "execute_result"
    }
   ],
   "source": [
    "prediction.response.data"
   ]
  },
  {
   "cell_type": "code",
   "execution_count": 89,
   "metadata": {},
   "outputs": [
    {
     "data": {
      "text/plain": [
       "puid: \"7j79l5kqkde854l3qq7q7j6lt2\"\n",
       "tags {\n",
       "  key: \"outlier_score\"\n",
       "  value {\n",
       "    list_value {\n",
       "      values {\n",
       "        number_value: -0.04721613112811712\n",
       "      }\n",
       "    }\n",
       "  }\n",
       "}\n",
       "tags {\n",
       "  key: \"outlier_verdict\"\n",
       "  value {\n",
       "    list_value {\n",
       "      values {\n",
       "        number_value: 0.0\n",
       "      }\n",
       "    }\n",
       "  }\n",
       "}\n",
       "requestPath {\n",
       "  key: \"model-outliers\"\n",
       "  value: \"rafalskolasinski/seldon-experiments:loanclassifier-outliers-0.1\"\n",
       "}"
      ]
     },
     "execution_count": 89,
     "metadata": {},
     "output_type": "execute_result"
    }
   ],
   "source": [
    "prediction.response.meta"
   ]
  }
 ],
 "metadata": {
  "kernelspec": {
   "display_name": "Python 3",
   "language": "python",
   "name": "python3"
  },
  "language_info": {
   "codemirror_mode": {
    "name": "ipython",
    "version": 3
   },
   "file_extension": ".py",
   "mimetype": "text/x-python",
   "name": "python",
   "nbconvert_exporter": "python",
   "pygments_lexer": "ipython3",
   "version": "3.7.5"
  }
 },
 "nbformat": 4,
 "nbformat_minor": 4
}
