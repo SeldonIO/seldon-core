{
  "cells": [
    {
      "cell_type": "markdown",
      "id": "46c8d2c9-ac60-4af3-beea-09bc397b04e0",
      "metadata": {},
      "source": [
        "# Outlier Detector for Cifar10 model with Poetry-defined Environment\n",
        "\n",
        "## Prerequisites\n",
        "\n",
        " * A kubernetes cluster with kubectl configured\n",
        " * poetry\n",
        " * rclone\n",
        " * curl\n",
        "\n",
        "## Setup Seldon Core\n",
        "\n",
        "Use the setup notebook to [Setup Cluster](https://docs.seldon.io/projects/seldon-core/en/latest/examples/seldon_core_setup.html#Setup-Cluster) with [Ambassador Ingress](https://docs.seldon.io/projects/seldon-core/en/latest/examples/seldon_core_setup.html#Ambassador) and [Install Seldon Core](https://docs.seldon.io/projects/seldon-core/en/latest/examples/seldon_core_setup.html#Install-Seldon-Core). Instructions [also online](https://docs.seldon.io/projects/seldon-core/en/latest/examples/seldon_core_setup.html).\n",
        "\n",
        "We will assume that ambassador (or Istio) ingress is port-forwarded to `localhost:8003`"
      ]
    },
    {
      "cell_type": "code",
      "execution_count": 1,
      "id": "834c1c97-1abb-4a68-92a2-080e67bec77b",
      "metadata": {},
      "outputs": [
        {
          "name": "stdout",
          "output_type": "stream",
          "text": [
            "namespace/cifar10 created\n"
          ]
        }
      ],
      "source": [
        "!kubectl create namespace cifar10 || true"
      ]
    },
    {
      "cell_type": "markdown",
      "id": "76c5f5ea-07db-4bc6-ae2a-bf2e4dd538b4",
      "metadata": {},
      "source": [
        "## Setup MinIO\n",
        "\n",
        "Use the provided [notebook](https://docs.seldon.io/projects/seldon-core/en/latest/examples/minio_setup.html) to install Minio in your cluster.\n",
        "Instructions [also online](https://docs.seldon.io/projects/seldon-core/en/latest/examples/minio_setup.html).\n",
        "\n",
        "We will assume that MinIO service is port-forwarded to `localhost:8090`"
      ]
    },
    {
      "cell_type": "code",
      "execution_count": 2,
      "id": "7d9c63c9-7788-46c1-858d-e5fc21a0179b",
      "metadata": {},
      "outputs": [
        {
          "name": "stdout",
          "output_type": "stream",
          "text": [
            "Overwriting rclone.conf\n"
          ]
        }
      ],
      "source": [
        "%%writefile rclone.conf\n",
        "[s3]\n",
        "type = s3\n",
        "provider = minio\n",
        "env_auth = false\n",
        "access_key_id = minioadmin\n",
        "secret_access_key = minioadmin\n",
        "endpoint = http://localhost:8090"
      ]
    },
    {
      "cell_type": "code",
      "execution_count": 3,
      "id": "d74b67e2-d975-4c06-a161-8fa31d7f4cd1",
      "metadata": {},
      "outputs": [
        {
          "name": "stdout",
          "output_type": "stream",
          "text": [
            "Overwriting secret.yaml\n"
          ]
        }
      ],
      "source": [
        "%%writefile secret.yaml\n",
        "apiVersion: v1\n",
        "kind: Secret\n",
        "metadata:\n",
        "  name: seldon-rclone-secret\n",
        "  namespace: cifar10\n",
        "type: Opaque\n",
        "stringData:\n",
        "  RCLONE_CONFIG_S3_TYPE: s3\n",
        "  RCLONE_CONFIG_S3_PROVIDER: minio\n",
        "  RCLONE_CONFIG_S3_ENV_AUTH: \"false\"\n",
        "  RCLONE_CONFIG_S3_ACCESS_KEY_ID: minioadmin\n",
        "  RCLONE_CONFIG_S3_SECRET_ACCESS_KEY: minioadmin\n",
        "  RCLONE_CONFIG_S3_ENDPOINT: http://minio.minio-system.svc.cluster.local:9000"
      ]
    },
    {
      "cell_type": "code",
      "execution_count": 4,
      "id": "caaebe7f-e969-4c71-9653-665f0def6675",
      "metadata": {},
      "outputs": [
        {
          "name": "stdout",
          "output_type": "stream",
          "text": [
            "secret/seldon-rclone-secret created\n"
          ]
        }
      ],
      "source": [
        "!kubectl apply -f secret.yaml"
      ]
    },
    {
      "cell_type": "markdown",
      "id": "135d8aad-0473-4558-a26e-31d1b14bf429",
      "metadata": {},
      "source": [
        "## Poetry\n",
        "\n",
        "We will use `poetry.lock` to fully define the explainer environment. Install poetry following official [documentation](https://python-poetry.org/docs/#installation). Usually this goes down to\n",
        "```bash\n",
        "curl -sSL https://install.python-poetry.org | python3 - --version 1.1.15\n",
        "```"
      ]
    },
    {
      "cell_type": "markdown",
      "id": "6fc0e458-d55c-49f4-b8ee-398476dd8413",
      "metadata": {},
      "source": [
        "# Train Outlier Detector"
      ]
    },
    {
      "cell_type": "markdown",
      "id": "ff305bb2-e37c-40c2-8798-1776c6ec2964",
      "metadata": {},
      "source": [
        "## Prepare Training Environment"
      ]
    },
    {
      "cell_type": "markdown",
      "id": "38291aa8-3682-4272-ae84-ff3b7f4b166a",
      "metadata": {},
      "source": [
        "We are going to use `pyproject.toml` and `poetry.lock` files from [Alibi Detect Server](https://github.com/SeldonIO/seldon-core/tree/master/components/alibi-detect-server). This will allow us to create environment that will match the runtime one.\n",
        "\n",
        "Currently, the server's pyproject.toml is structured in the way that it uses a locally present source code of seldon-core.\n",
        "\n",
        "Please, make sure that you obtain the source code that match the version of used alibi-detect-server. "
      ]
    },
    {
      "cell_type": "code",
      "execution_count": 5,
      "id": "0962b867-d27b-4c39-9d28-84ef85894988",
      "metadata": {},
      "outputs": [
        {
          "name": "stdout",
          "output_type": "stream",
          "text": [
            "Collecting package metadata (current_repodata.json): ...working... done\n",
            "Solving environment: ...working... failed with repodata from current_repodata.json, will retry with next repodata source.\n",
            "Collecting package metadata (repodata.json): ...working... done\n",
            "Solving environment: ...working... done\n",
            "\n",
            "## Package Plan ##\n",
            "\n",
            "  environment location: /home/rskolasinski/work/seldon-core/examples/outliers/cifar10-od-poetry/venv\n",
            "\n",
            "  added / updated specs:\n",
            "    - conda-ecosystem-user-package-isolation\n",
            "    - python=3.7.10\n",
            "\n",
            "\n",
            "The following NEW packages will be INSTALLED:\n",
            "\n",
            "  _libgcc_mutex      conda-forge/linux-64::_libgcc_mutex-0.1-conda_forge\n",
            "  _openmp_mutex      conda-forge/linux-64::_openmp_mutex-4.5-1_gnu\n",
            "  ca-certificates    conda-forge/linux-64::ca-certificates-2021.10.8-ha878542_0\n",
            "  conda-ecosystem-u~ conda-forge/linux-64::conda-ecosystem-user-package-isolation-1.0-ha770c72_1\n",
            "  ld_impl_linux-64   conda-forge/linux-64::ld_impl_linux-64-2.36.1-hea4e1c9_2\n",
            "  libffi             conda-forge/linux-64::libffi-3.4.2-h7f98852_5\n",
            "  libgcc-ng          conda-forge/linux-64::libgcc-ng-11.2.0-h1d223b6_15\n",
            "  libgomp            conda-forge/linux-64::libgomp-11.2.0-h1d223b6_15\n",
            "  libnsl             conda-forge/linux-64::libnsl-2.0.0-h7f98852_0\n",
            "  libstdcxx-ng       conda-forge/linux-64::libstdcxx-ng-11.2.0-he4da1e4_15\n",
            "  libzlib            conda-forge/linux-64::libzlib-1.2.11-h166bdaf_1014\n",
            "  ncurses            conda-forge/linux-64::ncurses-6.3-h27087fc_1\n",
            "  openssl            conda-forge/linux-64::openssl-3.0.2-h166bdaf_1\n",
            "  pip                conda-forge/noarch::pip-22.0.4-pyhd8ed1ab_0\n",
            "  python             conda-forge/linux-64::python-3.7.10-hf930737_104_cpython\n",
            "  python_abi         conda-forge/linux-64::python_abi-3.7-2_cp37m\n",
            "  readline           conda-forge/linux-64::readline-8.1-h46c0cb4_0\n",
            "  setuptools         conda-forge/linux-64::setuptools-62.1.0-py37h89c1867_0\n",
            "  sqlite             conda-forge/linux-64::sqlite-3.38.2-h4ff8645_0\n",
            "  tk                 conda-forge/linux-64::tk-8.6.12-h27826a3_0\n",
            "  wheel              conda-forge/noarch::wheel-0.37.1-pyhd8ed1ab_0\n",
            "  xz                 conda-forge/linux-64::xz-5.2.5-h516909a_1\n",
            "  zlib               conda-forge/linux-64::zlib-1.2.11-h166bdaf_1014\n",
            "\n",
            "\n",
            "Preparing transaction: ...working... done\n",
            "Verifying transaction: ...working... done\n",
            "Executing transaction: ...working... done\n",
            "#\n",
            "# To activate this environment, use\n",
            "#\n",
            "#     $ conda activate /home/rskolasinski/work/seldon-core/examples/outliers/cifar10-od-poetry/venv\n",
            "#\n",
            "# To deactivate an active environment, use\n",
            "#\n",
            "#     $ conda deactivate\n",
            "\n"
          ]
        }
      ],
      "source": [
        "%%bash\n",
        "cp ../../../components/alibi-detect-server/pyproject.toml .\n",
        "cp ../../../components/alibi-detect-server/poetry.lock .\n",
        "\n",
        "(rm _seldon_core -rf || true) && cp -rT ../../../python/ _seldon_core/\n",
        "\n",
        "conda create --yes --prefix ./venv python=3.7.10"
      ]
    },
    {
      "cell_type": "code",
      "execution_count": 6,
      "id": "e6bdac3b-32f0-42ba-a3aa-0f15027748aa",
      "metadata": {},
      "outputs": [
        {
          "name": "stdout",
          "output_type": "stream",
          "text": [
            "Installing dependencies from lock file\n",
            "\n",
            "Package operations: 169 installs, 0 updates, 0 removals\n",
            "\n",
            "  • Installing certifi (2021.10.8)\n",
            "  • Installing charset-normalizer (2.0.12)\n",
            "  • Installing idna (3.3)\n",
            "  • Installing pyasn1 (0.4.8)\n",
            "  • Installing urllib3 (1.26.5)\n",
            "  • Installing cachetools (4.2.4)\n",
            "  • Installing oauthlib (3.2.0)\n",
            "  • Installing protobuf (3.19.4)\n",
            "  • Installing pyasn1-modules (0.2.8)\n",
            "  • Installing pycparser (2.21)\n",
            "  • Installing pyparsing (3.0.7)\n",
            "  • Installing rsa (4.7.2)\n",
            "  • Installing six (1.16.0)\n",
            "  • Installing typing-extensions (4.1.1)\n",
            "  • Installing zipp (3.7.0)\n",
            "  • Installing requests (2.27.1)\n",
            "  • Installing cffi (1.15.0)\n",
            "  • Installing google-auth (1.35.0)\n",
            "  • Installing googleapis-common-protos (1.56.0)\n",
            "  • Installing importlib-metadata (4.11.3)\n",
            "  • Installing markupsafe (1.1.1)\n",
            "  • Installing packaging (21.3)\n",
            "  • Installing pytz (2022.1)\n",
            "  • Installing requests-oauthlib (1.3.1)\n",
            "  • Installing absl-py (1.0.0)\n",
            "  • Installing azure-common (1.1.28)\n",
            "  • Installing cached-property (1.5.2)\n",
            "  • Installing click (8.0.4)\n",
            "  • Installing filelock (3.6.0)\n",
            "  • Installing google-api-core (1.31.5)\n",
            "  • Installing google-crc32c (1.3.0)\n",
            "  • Installing grpcio (1.44.0)\n",
            "  • Installing itsdangerous (1.1.0)\n",
            "  • Installing jinja2 (2.11.3)\n",
            "  • Installing joblib (1.1.0)\n",
            "  • Installing markdown (3.3.6)\n",
            "  • Installing httplib2 (0.20.4)\n",
            "  • Installing google-auth-oauthlib (0.4.6)\n",
            "  • Installing numpy (1.21.5)\n",
            "  • Installing cryptography (3.4.8)\n",
            "  • Installing pillow (9.0.1)\n",
            "  • Installing pymeeus (0.5.11)\n",
            "  • Installing python-dateutil (2.8.2)\n",
            "  • Installing pyu2f (0.1.5)\n",
            "  • Installing pyyaml (5.4.1)\n",
            "  • Installing regex (2022.3.15)\n",
            "  • Installing tensorboard-data-server (0.6.1)\n",
            "  • Installing tensorboard-plugin-wit (1.8.1)\n",
            "  • Installing tomli (1.2.3)\n",
            "  • Installing tornado (6.1)\n",
            "  • Installing tqdm (4.63.0)\n",
            "  • Installing werkzeug (2.0.3)\n",
            "  • Installing astunparse (1.6.3)\n",
            "  • Installing attrs (21.4.0)\n",
            "  • Installing azure-storage-common (2.1.0)\n",
            "  • Installing boto (2.49.0)\n",
            "  • Installing cloudpickle (2.0.0)\n",
            "  • Installing convertdate (2.4.0)\n",
            "  • Installing cycler (0.11.0)\n",
            "  • Installing cython (0.29.28)\n",
            "  • Installing decorator (5.1.1)\n",
            "  • Installing dm-tree (0.1.6)\n",
            "  • Installing ephem (4.1.3)\n",
            "  • Installing fasteners (0.17.3)\n",
            "  • Installing flask (1.1.2)\n",
            "  • Installing flatbuffers (1.12)\n",
            "  • Installing fonttools (4.31.2)\n",
            "  • Installing gast (0.4.0)\n",
            "  • Installing google-cloud-core (1.4.1)\n",
            "  • Installing google-pasta (0.2.0)\n",
            "  • Installing google-reauth (0.1.1)\n",
            "  • Installing google-resumable-media (1.3.3)\n",
            "  • Installing h5py (3.6.0)\n",
            "  • Installing hijri-converter (2.2.3)\n",
            "  • Installing huggingface-hub (0.4.0)\n",
            "  • Installing imageio (2.16.1)\n",
            "  • Installing iniconfig (1.1.1)\n",
            "  • Installing keras (2.7.0)\n",
            "  • Installing keras-preprocessing (1.1.2)\n",
            "  • Installing kiwisolver (1.4.0)\n",
            "  • Installing korean-lunar-calendar (0.2.1)\n",
            "  • Installing libclang (13.0.0)\n",
            "  • Installing llvmlite (0.38.0)\n",
            "  • Installing networkx (2.6.3)\n",
            "  • Installing oauth2client (4.1.3)\n",
            "  • Installing opentracing (2.4.0)\n",
            "  • Installing opt-einsum (3.3.0)\n",
            "  • Installing pandas (1.1.5)\n",
            "  • Installing pluggy (1.0.0)\n",
            "  • Installing py (1.11.0)\n",
            "  • Installing pyjwt (2.3.0)\n",
            "  • Installing pyopenssl (21.0.0)\n",
            "  • Installing pyrsistent (0.18.1)\n",
            "  • Installing pywavelets (1.3.0)\n",
            "  • Installing retry-decorator (1.1.1)\n",
            "  • Installing sacremoses (0.0.49)\n",
            "  • Installing scipy (1.7.3)\n",
            "  • Installing setuptools-scm (6.4.2)\n",
            "  • Installing tensorboard (2.8.0)\n",
            "  • Installing tensorflow-estimator (2.7.0)\n",
            "  • Installing tensorflow-io-gcs-filesystem (0.24.0)\n",
            "  • Installing termcolor (1.1.0)\n",
            "  • Installing threadloop (1.0.2)\n",
            "  • Installing threadpoolctl (3.1.0)\n",
            "  • Installing thrift (0.15.0)\n",
            "  • Installing tifffile (2021.11.2)\n",
            "  • Installing tokenizers (0.11.6)\n",
            "  • Installing toml (0.10.2)\n",
            "  • Installing websocket-client (1.3.1)\n",
            "  • Installing wrapt (1.14.0)\n",
            "  • Installing adal (1.2.7)\n",
            "  • Installing appdirs (1.4.4)\n",
            "  • Installing argcomplete (2.0.0)\n",
            "  • Installing argparse (1.4.0)\n",
            "  • Installing azure-storage-blob (2.1.0)\n",
            "  • Installing cmdstanpy (0.4.0)\n",
            "  • Installing crcmod (1.7)\n",
            "  • Installing dill (0.3.2)\n",
            "  • Installing deprecation (2.1.0)\n",
            "  • Installing flask-cors (3.0.10)\n",
            "  • Installing gcs-oauth2-boto-plugin (3.0)\n",
            "  • Installing google-cloud-storage (1.31.2)\n",
            "  • Installing flask-opentracing (1.1.0)\n",
            "  • Installing grpcio-reflection (1.34.1)\n",
            "  • Installing google-apitools (0.5.32)\n",
            "  • Installing grpcio-opentracing (1.1.4)\n",
            "  • Installing gunicorn (20.1.0)\n",
            "  • Installing holidays (0.13)\n",
            "  • Installing jaeger-client (4.4.0)\n",
            "  • Installing jsonschema (3.2.0)\n",
            "  • Installing kubernetes (10.0.1)\n",
            "  • Installing lunarcalendar (0.0.9)\n",
            "  • Installing matplotlib (3.5.1)\n",
            "  • Installing minio (7.1.5)\n",
            "  • Installing monotonic (1.6)\n",
            "  • Installing mypy-extensions (0.4.3)\n",
            "  • Installing numba (0.55.1)\n",
            "  • Installing opencv-python (4.5.5.64)\n",
            "  • Installing pathspec (0.9.0)\n",
            "  • Installing prometheus-client (0.8.0)\n",
            "  • Installing ptable (0.9.2)\n",
            "  • Installing pystan (2.19.1.1)\n",
            "  • Installing pytest (6.2.5)\n",
            "  • Installing scikit-image (0.19.2)\n",
            "  • Installing scikit-learn (0.24.2)\n",
            "  • Installing setuptools-git (1.2)\n",
            "  • Installing table-logger (0.3.6)\n",
            "  • Installing tensorflow (2.7.0)\n",
            "  • Installing tensorflow-probability (0.12.2)\n",
            "  • Installing transformers (4.17.0)\n",
            "  • Installing typed-ast (1.4.3)\n",
            "  • Installing alibi-detect (0.9.0)\n",
            "  • Installing black (21.7b0)\n",
            "  • Installing cloudevents (1.2.0)\n",
            "  • Installing elasticsearch (7.9.1)\n",
            "  • Installing fbprophet (0.6)\n",
            "  • Installing grpcio-tools (1.31.0)\n",
            "  • Installing gsutil (5.5)\n",
            "  • Installing isort (5.9.0)\n",
            "  • Installing kfserving (0.3.0.2)\n",
            "  • Installing mypy-protobuf (1.22)\n",
            "  • Installing pip-licenses (3.5.3)\n",
            "  • Installing requests-mock (1.9.3)\n",
            "  • Installing seldon-core (1.14.0.dev0 /home/rskolasinski/work/seldon-core/examples/outliers/cifar10-od-poetry/_seldon_core)\n",
            "  • Installing sh (1.14.2)\n",
            "  • Installing pytest-tornasync (0.6.0.post2)\n",
            "  • Installing mypy (0.910)\n",
            "  • Installing tenacity (8.0.1)\n",
            "  • Installing types-requests (2.26.0)\n"
          ]
        }
      ],
      "source": [
        "%%bash\n",
        "source ~/miniconda3/etc/profile.d/conda.sh\n",
        "conda activate ./venv\n",
        "poetry install"
      ]
    },
    {
      "cell_type": "markdown",
      "id": "d62afb8c-4c93-4b14-b7b7-b1cebf3a7a71",
      "metadata": {},
      "source": [
        "## Prepare Training Script"
      ]
    },
    {
      "cell_type": "code",
      "execution_count": 7,
      "id": "48047625-1245-4621-ab19-d36cd34fb388",
      "metadata": {},
      "outputs": [
        {
          "name": "stdout",
          "output_type": "stream",
          "text": [
            "Overwriting train.py\n"
          ]
        }
      ],
      "source": [
        "%%writefile train.py\n",
        "import logging\n",
        "import os\n",
        "\n",
        "import tensorflow as tf\n",
        "import numpy as np\n",
        "\n",
        "from tensorflow.keras.layers import Conv2D, Conv2DTranspose, Dense\n",
        "from tensorflow.keras.layers import Flatten, Layer, Reshape, InputLayer\n",
        "from tensorflow.keras.regularizers import l1\n",
        "\n",
        "from alibi_detect.od import OutlierVAE\n",
        "from alibi_detect.utils.fetching import fetch_detector\n",
        "from alibi_detect.utils.perturbation import apply_mask\n",
        "from alibi_detect.utils.saving import save_detector, load_detector\n",
        "\n",
        "\n",
        "logger = tf.get_logger()\n",
        "logger.setLevel(logging.ERROR)\n",
        "\n",
        "(X_train, y_train), (X_test, y_test) = tf.keras.datasets.cifar10.load_data()\n",
        "\n",
        "X_train = X_train.astype('float32') / 255\n",
        "X_test = X_test.astype('float32') / 255\n",
        "y_train = y_train.astype('int64').reshape(-1,)\n",
        "y_test = y_test.astype('int64').reshape(-1,)\n",
        "\n",
        "print('Train: ', X_train.shape, y_train.shape)\n",
        "print('Test: ', X_test.shape, y_test.shape)\n",
        "\n",
        "detector_type = 'outlier'\n",
        "dataset = 'cifar10'\n",
        "detector_name = 'OutlierVAE'\n",
        "\n",
        "# define encoder and decoder networks\n",
        "latent_dim = 1024\n",
        "encoder_net = tf.keras.Sequential(\n",
        "  [\n",
        "      InputLayer(input_shape=(32, 32, 3)),\n",
        "      Conv2D(64, 4, strides=2, padding='same', activation=tf.nn.relu),\n",
        "      Conv2D(128, 4, strides=2, padding='same', activation=tf.nn.relu),\n",
        "      Conv2D(512, 4, strides=2, padding='same', activation=tf.nn.relu)\n",
        "  ]\n",
        ")\n",
        "\n",
        "decoder_net = tf.keras.Sequential(\n",
        "  [\n",
        "      InputLayer(input_shape=(latent_dim,)),\n",
        "      Dense(4*4*128),\n",
        "      Reshape(target_shape=(4, 4, 128)),\n",
        "      Conv2DTranspose(256, 4, strides=2, padding='same', activation=tf.nn.relu),\n",
        "      Conv2DTranspose(64, 4, strides=2, padding='same', activation=tf.nn.relu),\n",
        "      Conv2DTranspose(3, 4, strides=2, padding='same', activation='sigmoid')\n",
        "  ]\n",
        ")\n",
        "\n",
        "# initialize outlier detector\n",
        "od = OutlierVAE(\n",
        "    threshold=.015,  # threshold for outlier score\n",
        "    encoder_net=encoder_net,  # can also pass VAE model instead\n",
        "    decoder_net=decoder_net,  # of separate encoder and decoder\n",
        "    latent_dim=latent_dim\n",
        ")\n",
        "\n",
        "# train\n",
        "od.fit(X_train, epochs=50, verbose=True)\n",
        "\n",
        "# save the trained outlier detector\n",
        "save_detector(od, './outlier-detector')"
      ]
    },
    {
      "cell_type": "code",
      "execution_count": 8,
      "id": "532abb82-0e1a-4d8e-9b6e-b33f402388af",
      "metadata": {},
      "outputs": [
        {
          "name": "stdout",
          "output_type": "stream",
          "text": [
            "2022-04-14 13:41:54.199577: I tensorflow/stream_executor/cuda/cuda_gpu_executor.cc:939] successful NUMA node read from SysFS had negative value (-1), but there must be at least one NUMA node, so returning NUMA node zero\n",
            "2022-04-14 13:41:54.217047: I tensorflow/stream_executor/cuda/cuda_gpu_executor.cc:939] successful NUMA node read from SysFS had negative value (-1), but there must be at least one NUMA node, so returning NUMA node zero\n",
            "2022-04-14 13:41:54.217420: I tensorflow/stream_executor/cuda/cuda_gpu_executor.cc:939] successful NUMA node read from SysFS had negative value (-1), but there must be at least one NUMA node, so returning NUMA node zero\n",
            "2022-04-14 13:41:54.217938: I tensorflow/core/platform/cpu_feature_guard.cc:151] This TensorFlow binary is optimized with oneAPI Deep Neural Network Library (oneDNN) to use the following CPU instructions in performance-critical operations:  AVX2 FMA\n",
            "To enable them in other operations, rebuild TensorFlow with the appropriate compiler flags.\n",
            "2022-04-14 13:41:54.218807: I tensorflow/stream_executor/cuda/cuda_gpu_executor.cc:939] successful NUMA node read from SysFS had negative value (-1), but there must be at least one NUMA node, so returning NUMA node zero\n",
            "2022-04-14 13:41:54.219165: I tensorflow/stream_executor/cuda/cuda_gpu_executor.cc:939] successful NUMA node read from SysFS had negative value (-1), but there must be at least one NUMA node, so returning NUMA node zero\n",
            "2022-04-14 13:41:54.219504: I tensorflow/stream_executor/cuda/cuda_gpu_executor.cc:939] successful NUMA node read from SysFS had negative value (-1), but there must be at least one NUMA node, so returning NUMA node zero\n",
            "2022-04-14 13:41:54.848889: I tensorflow/stream_executor/cuda/cuda_gpu_executor.cc:939] successful NUMA node read from SysFS had negative value (-1), but there must be at least one NUMA node, so returning NUMA node zero\n",
            "2022-04-14 13:41:54.849320: I tensorflow/stream_executor/cuda/cuda_gpu_executor.cc:939] successful NUMA node read from SysFS had negative value (-1), but there must be at least one NUMA node, so returning NUMA node zero\n",
            "2022-04-14 13:41:54.849643: I tensorflow/stream_executor/cuda/cuda_gpu_executor.cc:939] successful NUMA node read from SysFS had negative value (-1), but there must be at least one NUMA node, so returning NUMA node zero\n",
            "2022-04-14 13:41:54.849923: I tensorflow/core/common_runtime/gpu/gpu_device.cc:1525] Created device /job:localhost/replica:0/task:0/device:GPU:0 with 2644 MB memory:  -> device: 0, name: NVIDIA GeForce GTX 1650, pci bus id: 0000:01:00.0, compute capability: 7.5\n",
            "Importing matplotlib failed. Plotting will not work.\n",
            "Importing plotly failed. Interactive plots will not work.\n",
            "Train:  (50000, 32, 32, 3) (50000,)\n",
            "Test:  (10000, 32, 32, 3) (10000,)\n",
            "2022-04-14 13:41:58.818151: W tensorflow/core/framework/cpu_allocator_impl.cc:82] Allocation of 614400000 exceeds 10% of free system memory.\n",
            "2022-04-14 13:41:59.371330: W tensorflow/core/framework/cpu_allocator_impl.cc:82] Allocation of 614400000 exceeds 10% of free system memory.\n",
            "2022-04-14 13:41:59.782408: W tensorflow/core/framework/cpu_allocator_impl.cc:82] Allocation of 614400000 exceeds 10% of free system memory.\n",
            "2022-04-14 13:42:01.148966: I tensorflow/stream_executor/cuda/cuda_dnn.cc:366] Loaded cuDNN version 8101\n",
            "782/782 [=] - 55s 64ms/step - loss_ma: 8927.7510\n",
            "2022-04-14 13:42:54.773587: W tensorflow/core/framework/cpu_allocator_impl.cc:82] Allocation of 614400000 exceeds 10% of free system memory.\n",
            "782/782 [=] - 99s 126ms/step - loss_ma: -2284.2741\n",
            "2022-04-14 13:44:34.044742: W tensorflow/core/framework/cpu_allocator_impl.cc:82] Allocation of 614400000 exceeds 10% of free system memory.\n",
            "782/782 [=] - 65s 82ms/step - loss_ma: -3521.0513\n",
            "782/782 [=] - 69s 87ms/step - loss_ma: -4055.0235\n",
            "782/782 [=] - 66s 83ms/step - loss_ma: -4369.6132\n",
            "782/782 [=] - 65s 82ms/step - loss_ma: -4575.9023\n",
            "782/782 [=] - 68s 86ms/step - loss_ma: -4773.8706\n",
            "782/782 [=] - 67s 84ms/step - loss_ma: -4934.9222\n",
            "782/782 [=] - 71s 90ms/step - loss_ma: -5055.4330\n",
            "782/782 [=] - 59s 75ms/step - loss_ma: -5155.0893\n",
            "782/782 [=] - 56s 71ms/step - loss_ma: -5198.4920\n",
            "782/782 [=] - 57s 72ms/step - loss_ma: -5314.9975\n",
            "782/782 [=] - 57s 72ms/step - loss_ma: -5366.3326\n",
            "782/782 [=] - 57s 71ms/step - loss_ma: -5434.8929\n",
            "782/782 [=] - 57s 72ms/step - loss_ma: -5468.0532\n",
            "782/782 [=] - 56s 71ms/step - loss_ma: -5504.1972\n",
            "782/782 [=] - 61s 76ms/step - loss_ma: -5549.6413\n",
            "782/782 [=] - 73s 93ms/step - loss_ma: -5579.2789\n",
            "782/782 [=] - 65s 82ms/step - loss_ma: -5593.0464\n",
            "782/782 [=] - 65s 82ms/step - loss_ma: -5639.0633\n",
            "782/782 [=] - 65s 82ms/step - loss_ma: -5658.0385\n",
            "782/782 [=] - 67s 85ms/step - loss_ma: -5656.6797\n",
            "782/782 [=] - 67s 85ms/step - loss_ma: -5701.8011\n",
            "782/782 [=] - 63s 80ms/step - loss_ma: -5723.2239\n",
            "782/782 [=] - 66s 83ms/step - loss_ma: -5740.9575\n",
            "782/782 [=] - 65s 82ms/step - loss_ma: -5758.7366\n",
            "782/782 [=] - 65s 82ms/step - loss_ma: -5781.2925\n",
            "782/782 [=] - 67s 85ms/step - loss_ma: -5796.3319\n",
            "782/782 [=] - 63s 80ms/step - loss_ma: -5815.1920\n",
            "782/782 [=] - 64s 81ms/step - loss_ma: -5830.7356\n",
            "782/782 [=] - 66s 84ms/step - loss_ma: -5842.1293\n",
            "782/782 [=] - 63s 79ms/step - loss_ma: -5847.8182\n",
            "782/782 [=] - 64s 81ms/step - loss_ma: -5866.5971\n",
            "782/782 [=] - 69s 87ms/step - loss_ma: -5878.1151\n",
            "782/782 [=] - 70s 89ms/step - loss_ma: -5893.1399\n",
            "782/782 [=] - 65s 83ms/step - loss_ma: -5893.4249\n",
            "782/782 [=] - 70s 88ms/step - loss_ma: -5909.6713\n",
            "782/782 [=] - 58s 73ms/step - loss_ma: -5916.4036\n",
            "782/782 [=] - 58s 74ms/step - loss_ma: -5921.7595\n",
            "782/782 [=] - 58s 73ms/step - loss_ma: -5924.8622\n",
            "782/782 [=] - 58s 73ms/step - loss_ma: -5935.0705\n",
            "782/782 [=] - 58s 74ms/step - loss_ma: -5943.9454\n",
            "782/782 [=] - 59s 75ms/step - loss_ma: -5948.6081\n",
            "782/782 [=] - 58s 74ms/step - loss_ma: -5960.5511\n",
            "782/782 [=] - 59s 75ms/step - loss_ma: -5970.2687\n",
            "782/782 [=] - 59s 74ms/step - loss_ma: -5970.9040\n",
            "782/782 [=] - 59s 75ms/step - loss_ma: -5980.7978\n",
            "782/782 [=] - 58s 74ms/step - loss_ma: -5980.5145\n",
            "782/782 [=] - 58s 73ms/step - loss_ma: -5986.5828\n",
            "782/782 [=] - 54s 68ms/step - loss_ma: -5989.7350\n",
            "CPU times: user 2min 14s, sys: 1min 2s, total: 3min 17s\n",
            "Wall time: 52min 52s\n"
          ]
        }
      ],
      "source": [
        "%%time\n",
        "!./venv/bin/python3 train.py"
      ]
    },
    {
      "cell_type": "code",
      "execution_count": 21,
      "id": "93a3d026-d217-47d5-a98a-824379498b45",
      "metadata": {},
      "outputs": [
        {
          "name": "stdout",
          "output_type": "stream",
          "text": [
            "\u001b[01;34moutlier-detector\u001b[00m\n",
            "├── meta.dill\n",
            "├── \u001b[01;34mmodel\u001b[00m\n",
            "│   ├── checkpoint\n",
            "│   ├── decoder_net.h5\n",
            "│   ├── encoder_net.h5\n",
            "│   ├── vae.ckpt.data-00000-of-00001\n",
            "│   └── vae.ckpt.index\n",
            "└── OutlierVAE.dill\n",
            "\n",
            "1 directory, 7 files\n"
          ]
        }
      ],
      "source": [
        "!tree outlier-detector"
      ]
    },
    {
      "cell_type": "markdown",
      "id": "99d4436b-4512-4357-9b31-19685be90fa4",
      "metadata": {},
      "source": [
        "## Deploy Cifar10 model and Outlier Detector\n",
        "\n",
        "Note, this requires Knative. Follow Knative [documentation](https://knative.dev/docs/install/) to install it."
      ]
    },
    {
      "cell_type": "code",
      "execution_count": 10,
      "id": "0ea7a271-a192-4787-be28-e6162dd1f522",
      "metadata": {},
      "outputs": [],
      "source": [
        "!rclone --config=\"rclone.conf\" copy outlier-detector/ s3:outlier-detector/cifar10/"
      ]
    },
    {
      "cell_type": "markdown",
      "id": "9e6a51b0-09da-4d54-aef1-a49da6487a11",
      "metadata": {},
      "source": [
        "### Deploy Event Display"
      ]
    },
    {
      "cell_type": "code",
      "execution_count": 11,
      "id": "47f060ce-4c87-4fda-9a53-5a5d0af9fd17",
      "metadata": {},
      "outputs": [
        {
          "name": "stdout",
          "output_type": "stream",
          "text": [
            "Overwriting event-display.yaml\n"
          ]
        }
      ],
      "source": [
        "%%writefile event-display.yaml\n",
        "apiVersion: apps/v1\n",
        "kind: Deployment\n",
        "metadata:\n",
        "  name: event-display\n",
        "  namespace: cifar10\n",
        "spec:\n",
        "  replicas: 1\n",
        "  selector:\n",
        "    matchLabels: &labels\n",
        "      app: event-display\n",
        "  template:\n",
        "    metadata:\n",
        "      labels: *labels\n",
        "    spec:\n",
        "      containers:\n",
        "       - name: event-display\n",
        "         image: gcr.io/knative-releases/knative.dev/eventing-contrib/cmd/event_display\n",
        "\n",
        "---\n",
        "\n",
        "kind: Service\n",
        "apiVersion: v1\n",
        "metadata:\n",
        "  name: event-display\n",
        "  namespace: cifar10\n",
        "spec:\n",
        "  selector:\n",
        "    app: event-display\n",
        "  ports:\n",
        "  - protocol: TCP\n",
        "    port: 80\n",
        "    targetPort: 8080"
      ]
    },
    {
      "cell_type": "code",
      "execution_count": 12,
      "id": "1221f2aa-4fee-4e07-8a5e-ce2c9c79431a",
      "metadata": {},
      "outputs": [
        {
          "name": "stdout",
          "output_type": "stream",
          "text": [
            "deployment.apps/event-display created\n",
            "service/event-display created\n"
          ]
        }
      ],
      "source": [
        "!kubectl apply -f event-display.yaml"
      ]
    },
    {
      "cell_type": "markdown",
      "id": "7a8ff9fa-c7fa-4c7e-b67b-2d23b445b9f0",
      "metadata": {},
      "source": [
        "### Deploy Model"
      ]
    },
    {
      "cell_type": "code",
      "execution_count": 13,
      "id": "5bf9951c-e431-4c41-b8df-1aeef48c6216",
      "metadata": {},
      "outputs": [
        {
          "name": "stdout",
          "output_type": "stream",
          "text": [
            "Overwriting cifar10.yaml\n"
          ]
        }
      ],
      "source": [
        "%%writefile cifar10.yaml\n",
        "apiVersion: machinelearning.seldon.io/v1\n",
        "kind: SeldonDeployment\n",
        "metadata:\n",
        "  name: cifar10\n",
        "  namespace: cifar10\n",
        "spec:\n",
        "  protocol: tensorflow\n",
        "  predictors:\n",
        "  - name: default\n",
        "    replicas: 1\n",
        "    graph:\n",
        "      implementation: TENSORFLOW_SERVER\n",
        "      modelUri: gs://seldon-models/tfserving/cifar10/resnet32\n",
        "      name: cifar10-container\n",
        "      logger:\n",
        "        mode: all    \n",
        "        url: http://broker-ingress.knative-eventing.svc.cluster.local/cifar10/default"
      ]
    },
    {
      "cell_type": "code",
      "execution_count": 14,
      "id": "f5517544-7bf4-4985-b4bd-54c1df2ab95c",
      "metadata": {},
      "outputs": [
        {
          "name": "stdout",
          "output_type": "stream",
          "text": [
            "seldondeployment.machinelearning.seldon.io/cifar10 created\n"
          ]
        }
      ],
      "source": [
        "!kubectl apply -f cifar10.yaml"
      ]
    },
    {
      "cell_type": "markdown",
      "id": "4500b844-284c-4538-9233-d519b216ebd3",
      "metadata": {},
      "source": [
        "### Create Knative Broker, Trigger and Kservice"
      ]
    },
    {
      "cell_type": "code",
      "execution_count": 15,
      "id": "0557bfe8-2152-441b-aca3-c680899c6a8b",
      "metadata": {},
      "outputs": [
        {
          "name": "stdout",
          "output_type": "stream",
          "text": [
            "Overwriting broker.yaml\n"
          ]
        }
      ],
      "source": [
        "%%writefile broker.yaml\n",
        "\n",
        "apiVersion: eventing.knative.dev/v1\n",
        "kind: broker\n",
        "metadata:\n",
        " name: default\n",
        " namespace: cifar10"
      ]
    },
    {
      "cell_type": "code",
      "execution_count": 16,
      "id": "f67f01f0-2e34-43e0-aef1-ae1f7a8abbbf",
      "metadata": {},
      "outputs": [
        {
          "name": "stdout",
          "output_type": "stream",
          "text": [
            "broker.eventing.knative.dev/default created\n"
          ]
        }
      ],
      "source": [
        "!kubectl create -f broker.yaml"
      ]
    },
    {
      "cell_type": "code",
      "execution_count": 17,
      "id": "78f8976b-40a3-4dc5-ab64-7faad17fa836",
      "metadata": {},
      "outputs": [
        {
          "name": "stdout",
          "output_type": "stream",
          "text": [
            "Overwriting kservice.yaml\n"
          ]
        }
      ],
      "source": [
        "%%writefile kservice.yaml\n",
        "apiVersion: serving.knative.dev/v1\n",
        "kind: Service\n",
        "metadata:\n",
        "  name: vae-outlier\n",
        "  namespace: cifar10\n",
        "spec:\n",
        "  template:\n",
        "    metadata:\n",
        "      annotations:\n",
        "        autoscaling.knative.dev/minScale: \"1\"\n",
        "    spec:\n",
        "      containers:\n",
        "      - image: seldonio/alibi-detect-server:1.15.0-dev\n",
        "        imagePullPolicy: IfNotPresent\n",
        "        args:\n",
        "        - --model_name\n",
        "        - cifar10od\n",
        "        - --http_port\n",
        "        - '8080'\n",
        "        - --protocol\n",
        "        - tensorflow.http\n",
        "        - --storage_uri\n",
        "        - s3:outlier-detector/cifar10\n",
        "        - --reply_url\n",
        "        - http://event-display.cifar10.svc.cluster.local\n",
        "        - --event_type\n",
        "        - io.seldon.serving.inference.outlier\n",
        "        - --event_source\n",
        "        - io.seldon.serving.cifar10od\n",
        "        - OutlierDetector\n",
        "        envFrom:\n",
        "        - secretRef:\n",
        "            name: seldon-rclone-secret"
      ]
    },
    {
      "cell_type": "code",
      "execution_count": 18,
      "id": "335ee0d3-bd6d-4487-9ee5-2f249b88ef0b",
      "metadata": {},
      "outputs": [
        {
          "name": "stdout",
          "output_type": "stream",
          "text": [
            "service.serving.knative.dev/vae-outlier created\n"
          ]
        }
      ],
      "source": [
        "!kubectl apply -f kservice.yaml"
      ]
    },
    {
      "cell_type": "code",
      "execution_count": 19,
      "id": "faa8d2e5-38dd-4824-a749-b2ee64a5af13",
      "metadata": {},
      "outputs": [
        {
          "name": "stdout",
          "output_type": "stream",
          "text": [
            "Overwriting trigger.yaml\n"
          ]
        }
      ],
      "source": [
        "%%writefile trigger.yaml\n",
        "apiVersion: eventing.knative.dev/v1\n",
        "kind: Trigger\n",
        "metadata:\n",
        "  name: vaeoutlier-trigger\n",
        "  namespace: cifar10\n",
        "spec:\n",
        "  broker: default\n",
        "  filter:\n",
        "    attributes:\n",
        "      type: io.seldon.serving.inference.request\n",
        "  subscriber:\n",
        "    ref:\n",
        "      apiVersion: serving.knative.dev/v1\n",
        "      kind: Service\n",
        "      name: vae-outlier\n",
        "      namespace: cifar10"
      ]
    },
    {
      "cell_type": "code",
      "execution_count": 20,
      "id": "a0f6a3e8-5b48-47fc-a03d-d9ba9cd1ea55",
      "metadata": {},
      "outputs": [
        {
          "name": "stdout",
          "output_type": "stream",
          "text": [
            "trigger.eventing.knative.dev/vaeoutlier-trigger created\n"
          ]
        }
      ],
      "source": [
        "!kubectl apply -f trigger.yaml"
      ]
    },
    {
      "cell_type": "markdown",
      "id": "67f745c0-5afe-4f20-93b6-b244a81bf04c",
      "metadata": {},
      "source": [
        "## Test it!\n",
        "\n",
        "In a terminal follow logs of the `event-display` deployment with for example\n",
        "```bash\n",
        "kubectl logs event-display-7f5f8647fb-t227z -f\n",
        "```\n",
        "\n",
        "Now we were send two requests, one containing a normal image and one outlier.\n",
        "\n",
        "Note: it may take a moment for the kservice to become available"
      ]
    },
    {
      "cell_type": "code",
      "execution_count": 22,
      "id": "2125fc7b-3017-4963-8e41-73177339f043",
      "metadata": {},
      "outputs": [
        {
          "name": "stdout",
          "output_type": "stream",
          "text": [
            "deployment \"cifar10-default-0-cifar10-container\" successfully rolled out\n"
          ]
        }
      ],
      "source": [
        "%%bash\n",
        "deployment=$(kubectl get deploy -n cifar10 -l seldon-deployment-id=cifar10 -o jsonpath='{.items[0].metadata.name}')\n",
        "kubectl rollout status deploy/${deployment} -n cifar10"
      ]
    },
    {
      "cell_type": "code",
      "execution_count": 23,
      "id": "3d26b477-31ea-4693-815b-c3894fa64140",
      "metadata": {},
      "outputs": [
        {
          "name": "stdout",
          "output_type": "stream",
          "text": [
            "NAME                                  URL                                                                        AGE   READY   REASON\n",
            "broker.eventing.knative.dev/default   http://broker-ingress.knative-eventing.svc.cluster.local/cifar10/default   5m    True    \n",
            "\n",
            "NAME                                              BROKER    SUBSCRIBER_URI                                 AGE     READY   REASON\n",
            "trigger.eventing.knative.dev/vaeoutlier-trigger   default   http://vae-outlier.cifar10.svc.cluster.local   4m59s   True    \n",
            "\n",
            "NAME                                      URL                                      LATESTCREATED       LATESTREADY         READY   REASON\n",
            "service.serving.knative.dev/vae-outlier   http://vae-outlier.cifar10.example.com   vae-outlier-00001   vae-outlier-00001   True    \n"
          ]
        }
      ],
      "source": [
        "!kubectl get broker,trigger,kservice -n cifar10"
      ]
    },
    {
      "cell_type": "code",
      "execution_count": 24,
      "id": "300a9704-f94b-459e-83c8-56abdb344960",
      "metadata": {},
      "outputs": [
        {
          "data": {
            "image/png": "[encoded data removed]",
            "text/plain": [
              "<Figure size 432x288 with 1 Axes>"
            ]
          },
          "metadata": {
            "needs_background": "light"
          },
          "output_type": "display_data"
        },
        {
          "name": "stderr",
          "output_type": "stream",
          "text": [
            "Clipping input data to the valid range for imshow with RGB data ([0..1] for floats or [0..255] for integers).\n"
          ]
        },
        {
          "data": {
            "image/png": "[encoded data removed]",
            "text/plain": [
              "<Figure size 432x288 with 1 Axes>"
            ]
          },
          "metadata": {
            "needs_background": "light"
          },
          "output_type": "display_data"
        }
      ],
      "source": [
        "import json\n",
        "\n",
        "import matplotlib.pyplot as plt\n",
        "\n",
        "with open(\"images/cifar10_image.json\") as f:\n",
        "    data = json.load(f)\n",
        "plt.imshow(data[\"instances\"][0])\n",
        "plt.show()\n",
        "\n",
        "with open(\"images/outlier_image.json\") as f:\n",
        "    data = json.load(f)\n",
        "plt.imshow(data[\"instances\"][0])\n",
        "plt.show();"
      ]
    },
    {
      "cell_type": "code",
      "execution_count": 25,
      "id": "5e6ea0ae-fb6d-4cc3-b95f-467413dfd3c8",
      "metadata": {},
      "outputs": [
        {
          "name": "stdout",
          "output_type": "stream",
          "text": [
            "{\n",
            "  \"predictions\": [\n",
            "    [\n",
            "      1.26448288e-06,\n",
            "      4.88144e-09,\n",
            "      1.51532642e-09,\n",
            "      8.49054249e-09,\n",
            "      5.51306611e-10,\n",
            "      1.16171261e-09,\n",
            "      5.77286274e-10,\n",
            "      2.88394716e-07,\n",
            "      0.00061489339,\n",
            "      0.999383569\n",
            "    ]\n",
            "  ]\n",
            "}\n",
            "{\n",
            "  \"predictions\": [\n",
            "    [\n",
            "      0.000593999459,\n",
            "      1.13762019e-06,\n",
            "      9.31399063e-06,\n",
            "      4.24927e-05,\n",
            "      2.75517505e-06,\n",
            "      3.1435934e-06,\n",
            "      1.53180349e-06,\n",
            "      2.40643985e-05,\n",
            "      0.320169568,\n",
            "      0.679151952\n",
            "    ]\n",
            "  ]\n",
            "}\n"
          ]
        }
      ],
      "source": [
        "%%bash\n",
        "curl -s -H \"Content-Type: application/json\" -d @images/cifar10_image.json http://localhost:8003/seldon/cifar10/cifar10/v1/models/:predict | jq .\n",
        "curl -s -H \"Content-Type: application/json\" -d @images/outlier_image.json http://localhost:8003/seldon/cifar10/cifar10/v1/models/:predict | jq ."
      ]
    },
    {
      "cell_type": "code",
      "execution_count": 26,
      "id": "9d4050ce-d584-4386-b2fc-8ec3c0ae6251",
      "metadata": {},
      "outputs": [
        {
          "name": "stdout",
          "output_type": "stream",
          "text": [
            "☁️  cloudevents.Event\n",
            "Validation: valid\n",
            "Context Attributes,\n",
            "  specversion: 1.0\n",
            "  type: io.seldon.serving.inference.outlier\n",
            "  source: io.seldon.serving.cifar10od\n",
            "  id: 10a3afa3-cff0-4635-ae9f-228a4606d4c4\n",
            "  datacontenttype: application/json\n",
            "Extensions,\n",
            "  datacontenttype: application/json\n",
            "  endpoint: default\n",
            "  inferenceservicename: cifar10\n",
            "  knativearrivaltime: 2022-04-14T13:39:51.246502704Z\n",
            "  modelid: cifar10-container\n",
            "  namespace: cifar10\n",
            "  requestid: b1dd7f60-af19-4923-8798-fe0a59917f03\n",
            "  traceparent: 00-96072a87694e76ba19866ae817338065-36d85cff2f7e96ed-00\n",
            "Data,\n",
            "  {\n",
            "    \"data\": {\n",
            "      \"is_outlier\": [\n",
            "        0\n",
            "      ]\n",
            "    },\n",
            "    \"meta\": {\n",
            "      \"name\": \"OutlierVAE\",\n",
            "      \"detector_type\": \"offline\",\n",
            "      \"data_type\": null,\n",
            "      \"version\": \"0.9.0\"\n",
            "    }\n",
            "  }\n",
            "☁️  cloudevents.Event\n",
            "Validation: valid\n",
            "Context Attributes,\n",
            "  specversion: 1.0\n",
            "  type: io.seldon.serving.inference.outlier\n",
            "  source: io.seldon.serving.cifar10od\n",
            "  id: 9f01ad25-f9e0-4dde-b44b-4195f0215e7b\n",
            "  datacontenttype: application/json\n",
            "Extensions,\n",
            "  datacontenttype: application/json\n",
            "  endpoint: default\n",
            "  inferenceservicename: cifar10\n",
            "  knativearrivaltime: 2022-04-14T13:39:51.655837137Z\n",
            "  modelid: cifar10-container\n",
            "  namespace: cifar10\n",
            "  requestid: c8d25839-7cc5-4724-8794-7b95a3cdb172\n",
            "  traceparent: 00-75a6ca94a00a120da387dc97d202e6f9-9ac91209c1c8a958-00\n",
            "Data,\n",
            "  {\n",
            "    \"data\": {\n",
            "      \"is_outlier\": [\n",
            "        0\n",
            "      ]\n",
            "    },\n",
            "    \"meta\": {\n",
            "      \"name\": \"OutlierVAE\",\n",
            "      \"detector_type\": \"offline\",\n",
            "      \"data_type\": null,\n",
            "      \"version\": \"0.9.0\"\n",
            "    }\n",
            "  }\n"
          ]
        }
      ],
      "source": [
        "%%bash\n",
        "pod=$(kubectl get pod -n cifar10 -l app=event-display -o jsonpath='{.items[0].metadata.name}')\n",
        "kubectl logs $pod -n cifar10"
      ]
    },
    {
      "cell_type": "markdown",
      "id": "59619db8-e2b9-46f0-82f1-2eceaedd87af",
      "metadata": {},
      "source": [
        "## Tear Down"
      ]
    },
    {
      "cell_type": "code",
      "execution_count": 27,
      "id": "fd49cb95-8832-4f54-a921-743bdd62a7a3",
      "metadata": {},
      "outputs": [
        {
          "name": "stdout",
          "output_type": "stream",
          "text": [
            "namespace \"cifar10\" deleted\n"
          ]
        }
      ],
      "source": [
        "!kubectl delete ns cifar10"
      ]
    }
  ],
  "metadata": {
    "kernelspec": {
      "display_name": "alibi-detect",
      "language": "python",
      "name": "alibi-detect"
    },
    "language_info": {
      "codemirror_mode": {
        "name": "ipython",
        "version": 3
      },
      "file_extension": ".py",
      "mimetype": "text/x-python",
      "name": "python",
      "nbconvert_exporter": "python",
      "pygments_lexer": "ipython3",
      "version": "3.7.10"
    }
  },
  "nbformat": 4,
  "nbformat_minor": 5
}
