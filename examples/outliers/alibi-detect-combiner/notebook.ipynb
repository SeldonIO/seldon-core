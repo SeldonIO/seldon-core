{
 "cells": [
  {
   "cell_type": "markdown",
   "metadata": {},
   "source": [
    "# Seldon deployment of Alibi Outlier detector\n",
    "\n",
    "Tne objective of this tutorial is to build a \"loan approval\" classifier equiped with the outliers detector from [alibi-detect](https://github.com/SeldonIO/alibi-detect) package.\n",
    "The diagram of this tutorial is as follows:\n",
    "\n",
    "**NOTE**: I will need to make new diagram for this variation of the tutorial\n",
    "\n",
    "In this tutorial we will follow the following steps:\n",
    "\n",
    "1) Train and test model to predict loan approvals\n",
    "\n",
    "2) Train and test outliers detector\n",
    "\n",
    "3) Containerise and deploy your models\n",
    "\n",
    "4) Test your your new seldon deployment"
   ]
  },
  {
   "cell_type": "markdown",
   "metadata": {},
   "source": [
    "\n",
    "## Before you start\n",
    "Make sure you install the following dependencies, as they are critical for this example to work:\n",
    "\n",
    "* Helm v3.0.0+\n",
    "* A Kubernetes cluster running v1.13 or above (minkube / docker-for-windows work well if enough RAM)\n",
    "* kubectl v1.14+\n",
    "* ksonnet v0.13.1+\n",
    "* kfctl 0.5.1 - Please use this exact version as there are major changes every few months\n",
    "* Python 3.6+\n",
    "* Python DEV requirements (we'll install them below)\n",
    "\n",
    "You can follow this [notebook](../../../notebooks/seldon_core_setup.ipynb) to setup your cluster.\n",
    "\n",
    "Let's get started! 🚀🔥 \n"
   ]
  },
  {
   "cell_type": "markdown",
   "metadata": {},
   "source": [
    "## Install Python dependencies\n",
    "\n",
    "In [requirements-dev](requirements-dev.txt) file you will find set of python dependencies required to run this notebook."
   ]
  },
  {
   "cell_type": "code",
   "execution_count": 1,
   "metadata": {},
   "outputs": [
    {
     "name": "stdout",
     "output_type": "stream",
     "text": [
      "dill==0.3.1\n",
      "xai==0.0.5\n",
      "\n",
      "alibi==0.3.2\n",
      "alibi-detect==0.2.0\n",
      "seldon_core==1.0\n",
      "\n",
      "scipy==1.1.0\n",
      "numpy==1.15.4\n",
      "scikit-learn==0.20.1\n"
     ]
    }
   ],
   "source": [
    "!cat requirements-dev.txt"
   ]
  },
  {
   "cell_type": "code",
   "execution_count": 2,
   "metadata": {},
   "outputs": [
    {
     "name": "stdout",
     "output_type": "stream",
     "text": [
      "Processing /home/rskolasinski/.cache/pip/wheels/b6/26/8f/152327a2b78a0c2c3166e5d20d331bd4fb1272e810836fed76/dill-0.3.1.dev0-cp37-none-any.whl\n",
      "Requirement already satisfied: xai==0.0.5 in /home/rskolasinski/.local/lib/python3.7/site-packages (from -r requirements-dev.txt (line 2)) (0.0.5)\n",
      "Requirement already satisfied: alibi==0.3.2 in /home/rskolasinski/.local/lib/python3.7/site-packages (from -r requirements-dev.txt (line 4)) (0.3.2)\n",
      "Requirement already satisfied: alibi-detect==0.2.0 in /home/rskolasinski/.local/lib/python3.7/site-packages (from -r requirements-dev.txt (line 5)) (0.2.0)\n",
      "Requirement already satisfied: seldon_core==1.0 in /home/rskolasinski/.local/lib/python3.7/site-packages (from -r requirements-dev.txt (line 6)) (1.0.0)\n",
      "Requirement already satisfied: scipy==1.1.0 in /home/rskolasinski/.local/lib/python3.7/site-packages (from -r requirements-dev.txt (line 8)) (1.1.0)\n",
      "Requirement already satisfied: numpy==1.15.4 in /home/rskolasinski/.local/lib/python3.7/site-packages (from -r requirements-dev.txt (line 9)) (1.15.4)\n",
      "Requirement already satisfied: scikit-learn==0.20.1 in /home/rskolasinski/.local/lib/python3.7/site-packages (from -r requirements-dev.txt (line 10)) (0.20.1)\n",
      "Requirement already satisfied: pandas==0.23.4 in /home/rskolasinski/.local/lib/python3.7/site-packages (from xai==0.0.5->-r requirements-dev.txt (line 2)) (0.23.4)\n",
      "Requirement already satisfied: kiwisolver==1.0.1 in /home/rskolasinski/.local/lib/python3.7/site-packages (from xai==0.0.5->-r requirements-dev.txt (line 2)) (1.0.1)\n",
      "Requirement already satisfied: matplotlib==3.0.2 in /home/rskolasinski/.local/lib/python3.7/site-packages (from xai==0.0.5->-r requirements-dev.txt (line 2)) (3.0.2)\n",
      "Requirement already satisfied: cycler==0.10.0 in /home/rskolasinski/.local/lib/python3.7/site-packages (from xai==0.0.5->-r requirements-dev.txt (line 2)) (0.10.0)\n",
      "Requirement already satisfied: pytz==2018.7 in /home/rskolasinski/.local/lib/python3.7/site-packages (from xai==0.0.5->-r requirements-dev.txt (line 2)) (2018.7)\n",
      "Requirement already satisfied: pyparsing==2.3.0 in /home/rskolasinski/.local/lib/python3.7/site-packages (from xai==0.0.5->-r requirements-dev.txt (line 2)) (2.3.0)\n",
      "Requirement already satisfied: python-dateutil==2.7.5 in /home/rskolasinski/.local/lib/python3.7/site-packages (from xai==0.0.5->-r requirements-dev.txt (line 2)) (2.7.5)\n",
      "Requirement already satisfied: six==1.12.0 in /usr/lib/python3/dist-packages (from xai==0.0.5->-r requirements-dev.txt (line 2)) (1.12.0)\n",
      "Requirement already satisfied: Pillow in /usr/lib/python3/dist-packages (from alibi==0.3.2->-r requirements-dev.txt (line 4)) (6.1.0)\n",
      "Requirement already satisfied: scikit-image in /home/rskolasinski/.local/lib/python3.7/site-packages (from alibi==0.3.2->-r requirements-dev.txt (line 4)) (0.16.2)\n",
      "Requirement already satisfied: spacy in /home/rskolasinski/.local/lib/python3.7/site-packages (from alibi==0.3.2->-r requirements-dev.txt (line 4)) (2.2.3)\n",
      "Requirement already satisfied: requests in /usr/lib/python3/dist-packages (from alibi==0.3.2->-r requirements-dev.txt (line 4)) (2.21.0)\n",
      "Requirement already satisfied: beautifulsoup4 in /home/rskolasinski/.local/lib/python3.7/site-packages (from alibi==0.3.2->-r requirements-dev.txt (line 4)) (4.8.1)\n",
      "Requirement already satisfied: tensorflow<2.0 in /home/rskolasinski/.local/lib/python3.7/site-packages (from alibi==0.3.2->-r requirements-dev.txt (line 4)) (1.15.0)\n",
      "Requirement already satisfied: tensorflow-probability>=0.8 in /home/rskolasinski/.local/lib/python3.7/site-packages (from alibi-detect==0.2.0->-r requirements-dev.txt (line 5)) (0.8.0)\n",
      "Requirement already satisfied: creme in /home/rskolasinski/.local/lib/python3.7/site-packages (from alibi-detect==0.2.0->-r requirements-dev.txt (line 5)) (0.4.4)\n",
      "Requirement already satisfied: fbprophet in /home/rskolasinski/.local/lib/python3.7/site-packages (from alibi-detect==0.2.0->-r requirements-dev.txt (line 5)) (0.5)\n",
      "Requirement already satisfied: flatbuffers<2.0.0 in /home/rskolasinski/.local/lib/python3.7/site-packages (from seldon_core==1.0->-r requirements-dev.txt (line 6)) (1.11)\n",
      "Requirement already satisfied: Flask-cors<4.0.0 in /home/rskolasinski/.local/lib/python3.7/site-packages (from seldon_core==1.0->-r requirements-dev.txt (line 6)) (3.0.8)\n",
      "Requirement already satisfied: Flask-OpenTracing<1.2.0,>=1.1.0 in /home/rskolasinski/.local/lib/python3.7/site-packages (from seldon_core==1.0->-r requirements-dev.txt (line 6)) (1.1.0)\n",
      "Requirement already satisfied: grpcio-opentracing<1.2.0,>=1.1.4 in /home/rskolasinski/.local/lib/python3.7/site-packages (from seldon_core==1.0->-r requirements-dev.txt (line 6)) (1.1.4)\n",
      "Requirement already satisfied: minio<6.0.0,>=4.0.9 in /home/rskolasinski/.local/lib/python3.7/site-packages (from seldon_core==1.0->-r requirements-dev.txt (line 6)) (5.0.5)\n",
      "Requirement already satisfied: opentracing<2.3.0,>=2.2.0 in /home/rskolasinski/.local/lib/python3.7/site-packages (from seldon_core==1.0->-r requirements-dev.txt (line 6)) (2.2.0)\n",
      "Requirement already satisfied: azure-storage-blob<3.0.0,>=2.0.1 in /home/rskolasinski/.local/lib/python3.7/site-packages (from seldon_core==1.0->-r requirements-dev.txt (line 6)) (2.1.0)\n",
      "Requirement already satisfied: protobuf<4.0.0 in /home/rskolasinski/.local/lib/python3.7/site-packages (from seldon_core==1.0->-r requirements-dev.txt (line 6)) (3.11.1)\n",
      "Requirement already satisfied: grpcio<2.0.0 in /home/rskolasinski/.local/lib/python3.7/site-packages (from seldon_core==1.0->-r requirements-dev.txt (line 6)) (1.25.0)\n",
      "Requirement already satisfied: redis<4.0.0 in /home/rskolasinski/.local/lib/python3.7/site-packages (from seldon_core==1.0->-r requirements-dev.txt (line 6)) (3.3.11)\n",
      "Requirement already satisfied: jaeger-client<4.2.0,>=4.1.0 in /home/rskolasinski/.local/lib/python3.7/site-packages (from seldon_core==1.0->-r requirements-dev.txt (line 6)) (4.1.0)\n",
      "Requirement already satisfied: pyaml<20.0.0 in /home/rskolasinski/.local/lib/python3.7/site-packages (from seldon_core==1.0->-r requirements-dev.txt (line 6)) (19.12.0)\n",
      "Requirement already satisfied: gunicorn<20.1.0,>=19.9.0 in /home/rskolasinski/.local/lib/python3.7/site-packages (from seldon_core==1.0->-r requirements-dev.txt (line 6)) (20.0.4)\n",
      "Requirement already satisfied: setuptools>=41.0.0 in /home/rskolasinski/.local/lib/python3.7/site-packages (from seldon_core==1.0->-r requirements-dev.txt (line 6)) (42.0.2)\n",
      "Requirement already satisfied: Flask<2.0.0 in /home/rskolasinski/.local/lib/python3.7/site-packages (from seldon_core==1.0->-r requirements-dev.txt (line 6)) (1.1.1)\n",
      "Requirement already satisfied: networkx>=2.0 in /home/rskolasinski/.local/lib/python3.7/site-packages (from scikit-image->alibi==0.3.2->-r requirements-dev.txt (line 4)) (2.4)\n",
      "Requirement already satisfied: PyWavelets>=0.4.0 in /home/rskolasinski/.local/lib/python3.7/site-packages (from scikit-image->alibi==0.3.2->-r requirements-dev.txt (line 4)) (1.1.1)\n",
      "Requirement already satisfied: imageio>=2.3.0 in /home/rskolasinski/.local/lib/python3.7/site-packages (from scikit-image->alibi==0.3.2->-r requirements-dev.txt (line 4)) (2.6.1)\n",
      "Requirement already satisfied: srsly<1.1.0,>=0.1.0 in /home/rskolasinski/.local/lib/python3.7/site-packages (from spacy->alibi==0.3.2->-r requirements-dev.txt (line 4)) (0.2.0)\n",
      "Requirement already satisfied: cymem<2.1.0,>=2.0.2 in /home/rskolasinski/.local/lib/python3.7/site-packages (from spacy->alibi==0.3.2->-r requirements-dev.txt (line 4)) (2.0.3)\n",
      "Requirement already satisfied: murmurhash<1.1.0,>=0.28.0 in /home/rskolasinski/.local/lib/python3.7/site-packages (from spacy->alibi==0.3.2->-r requirements-dev.txt (line 4)) (1.0.2)\n",
      "Requirement already satisfied: plac<1.2.0,>=0.9.6 in /home/rskolasinski/.local/lib/python3.7/site-packages (from spacy->alibi==0.3.2->-r requirements-dev.txt (line 4)) (1.1.3)\n",
      "Requirement already satisfied: blis<0.5.0,>=0.4.0 in /home/rskolasinski/.local/lib/python3.7/site-packages (from spacy->alibi==0.3.2->-r requirements-dev.txt (line 4)) (0.4.1)\n",
      "Requirement already satisfied: wasabi<1.1.0,>=0.4.0 in /home/rskolasinski/.local/lib/python3.7/site-packages (from spacy->alibi==0.3.2->-r requirements-dev.txt (line 4)) (0.4.2)\n",
      "Requirement already satisfied: preshed<3.1.0,>=3.0.2 in /home/rskolasinski/.local/lib/python3.7/site-packages (from spacy->alibi==0.3.2->-r requirements-dev.txt (line 4)) (3.0.2)\n",
      "Requirement already satisfied: thinc<7.4.0,>=7.3.0 in /home/rskolasinski/.local/lib/python3.7/site-packages (from spacy->alibi==0.3.2->-r requirements-dev.txt (line 4)) (7.3.1)\n",
      "Requirement already satisfied: catalogue<1.1.0,>=0.0.7 in /home/rskolasinski/.local/lib/python3.7/site-packages (from spacy->alibi==0.3.2->-r requirements-dev.txt (line 4)) (0.0.8)\n",
      "Requirement already satisfied: soupsieve>=1.2 in /home/rskolasinski/.local/lib/python3.7/site-packages (from beautifulsoup4->alibi==0.3.2->-r requirements-dev.txt (line 4)) (1.9.5)\n",
      "Requirement already satisfied: opt-einsum>=2.3.2 in /home/rskolasinski/.local/lib/python3.7/site-packages (from tensorflow<2.0->alibi==0.3.2->-r requirements-dev.txt (line 4)) (3.1.0)\n",
      "Requirement already satisfied: tensorboard<1.16.0,>=1.15.0 in /home/rskolasinski/.local/lib/python3.7/site-packages (from tensorflow<2.0->alibi==0.3.2->-r requirements-dev.txt (line 4)) (1.15.0)\n",
      "Requirement already satisfied: absl-py>=0.7.0 in /home/rskolasinski/.local/lib/python3.7/site-packages (from tensorflow<2.0->alibi==0.3.2->-r requirements-dev.txt (line 4)) (0.8.1)\n",
      "Requirement already satisfied: astor>=0.6.0 in /home/rskolasinski/.local/lib/python3.7/site-packages (from tensorflow<2.0->alibi==0.3.2->-r requirements-dev.txt (line 4)) (0.8.1)\n",
      "Requirement already satisfied: wrapt>=1.11.1 in /home/rskolasinski/.local/lib/python3.7/site-packages (from tensorflow<2.0->alibi==0.3.2->-r requirements-dev.txt (line 4)) (1.11.2)\n",
      "Requirement already satisfied: termcolor>=1.1.0 in /home/rskolasinski/.local/lib/python3.7/site-packages (from tensorflow<2.0->alibi==0.3.2->-r requirements-dev.txt (line 4)) (1.1.0)\n",
      "Requirement already satisfied: gast==0.2.2 in /home/rskolasinski/.local/lib/python3.7/site-packages (from tensorflow<2.0->alibi==0.3.2->-r requirements-dev.txt (line 4)) (0.2.2)\n",
      "Requirement already satisfied: keras-applications>=1.0.8 in /home/rskolasinski/.local/lib/python3.7/site-packages (from tensorflow<2.0->alibi==0.3.2->-r requirements-dev.txt (line 4)) (1.0.8)\n",
      "Requirement already satisfied: keras-preprocessing>=1.0.5 in /home/rskolasinski/.local/lib/python3.7/site-packages (from tensorflow<2.0->alibi==0.3.2->-r requirements-dev.txt (line 4)) (1.1.0)\n",
      "Requirement already satisfied: google-pasta>=0.1.6 in /home/rskolasinski/.local/lib/python3.7/site-packages (from tensorflow<2.0->alibi==0.3.2->-r requirements-dev.txt (line 4)) (0.1.8)\n",
      "Requirement already satisfied: wheel>=0.26 in /usr/lib/python3/dist-packages (from tensorflow<2.0->alibi==0.3.2->-r requirements-dev.txt (line 4)) (0.32.3)\n",
      "Requirement already satisfied: tensorflow-estimator==1.15.1 in /home/rskolasinski/.local/lib/python3.7/site-packages (from tensorflow<2.0->alibi==0.3.2->-r requirements-dev.txt (line 4)) (1.15.1)\n",
      "Requirement already satisfied: decorator in /home/rskolasinski/.local/lib/python3.7/site-packages (from tensorflow-probability>=0.8->alibi-detect==0.2.0->-r requirements-dev.txt (line 5)) (4.4.1)\n",
      "Requirement already satisfied: cloudpickle==1.1.1 in /home/rskolasinski/.local/lib/python3.7/site-packages (from tensorflow-probability>=0.8->alibi-detect==0.2.0->-r requirements-dev.txt (line 5)) (1.1.1)\n",
      "Requirement already satisfied: Cython>=0.22 in /home/rskolasinski/.local/lib/python3.7/site-packages (from fbprophet->alibi-detect==0.2.0->-r requirements-dev.txt (line 5)) (0.29.14)\n",
      "Requirement already satisfied: pystan>=2.14 in /home/rskolasinski/.local/lib/python3.7/site-packages (from fbprophet->alibi-detect==0.2.0->-r requirements-dev.txt (line 5)) (2.19.1.1)\n",
      "Requirement already satisfied: lunardate>=0.1.5 in /home/rskolasinski/.local/lib/python3.7/site-packages (from fbprophet->alibi-detect==0.2.0->-r requirements-dev.txt (line 5)) (0.2.0)\n",
      "Requirement already satisfied: convertdate>=2.1.2 in /home/rskolasinski/.local/lib/python3.7/site-packages (from fbprophet->alibi-detect==0.2.0->-r requirements-dev.txt (line 5)) (2.2.0)\n",
      "Requirement already satisfied: holidays>=0.9.5 in /home/rskolasinski/.local/lib/python3.7/site-packages (from fbprophet->alibi-detect==0.2.0->-r requirements-dev.txt (line 5)) (0.9.11)\n",
      "Requirement already satisfied: setuptools-git>=1.2 in /home/rskolasinski/.local/lib/python3.7/site-packages (from fbprophet->alibi-detect==0.2.0->-r requirements-dev.txt (line 5)) (1.2)\n",
      "Requirement already satisfied: certifi in /usr/lib/python3/dist-packages (from minio<6.0.0,>=4.0.9->seldon_core==1.0->-r requirements-dev.txt (line 6)) (2018.8.24)\n",
      "Requirement already satisfied: urllib3 in /usr/lib/python3/dist-packages (from minio<6.0.0,>=4.0.9->seldon_core==1.0->-r requirements-dev.txt (line 6)) (1.24.1)\n",
      "Requirement already satisfied: azure-storage-common~=2.1 in /home/rskolasinski/.local/lib/python3.7/site-packages (from azure-storage-blob<3.0.0,>=2.0.1->seldon_core==1.0->-r requirements-dev.txt (line 6)) (2.1.0)\n",
      "Requirement already satisfied: azure-common>=1.1.5 in /home/rskolasinski/.local/lib/python3.7/site-packages (from azure-storage-blob<3.0.0,>=2.0.1->seldon_core==1.0->-r requirements-dev.txt (line 6)) (1.1.23)\n",
      "Requirement already satisfied: tornado<6,>=4.3 in /home/rskolasinski/.local/lib/python3.7/site-packages (from jaeger-client<4.2.0,>=4.1.0->seldon_core==1.0->-r requirements-dev.txt (line 6)) (5.1.1)\n",
      "Requirement already satisfied: threadloop<2,>=1 in /home/rskolasinski/.local/lib/python3.7/site-packages (from jaeger-client<4.2.0,>=4.1.0->seldon_core==1.0->-r requirements-dev.txt (line 6)) (1.0.2)\n",
      "Requirement already satisfied: thrift in /home/rskolasinski/.local/lib/python3.7/site-packages (from jaeger-client<4.2.0,>=4.1.0->seldon_core==1.0->-r requirements-dev.txt (line 6)) (0.13.0)\n",
      "Requirement already satisfied: PyYAML in /usr/lib/python3/dist-packages (from pyaml<20.0.0->seldon_core==1.0->-r requirements-dev.txt (line 6)) (5.1.2)\n",
      "Requirement already satisfied: Jinja2>=2.10.1 in /home/rskolasinski/.local/lib/python3.7/site-packages (from Flask<2.0.0->seldon_core==1.0->-r requirements-dev.txt (line 6)) (2.10.3)\n",
      "Requirement already satisfied: click>=5.1 in /home/rskolasinski/.local/lib/python3.7/site-packages (from Flask<2.0.0->seldon_core==1.0->-r requirements-dev.txt (line 6)) (7.0)\n",
      "Requirement already satisfied: itsdangerous>=0.24 in /home/rskolasinski/.local/lib/python3.7/site-packages (from Flask<2.0.0->seldon_core==1.0->-r requirements-dev.txt (line 6)) (1.1.0)\n",
      "Requirement already satisfied: Werkzeug>=0.15 in /home/rskolasinski/.local/lib/python3.7/site-packages (from Flask<2.0.0->seldon_core==1.0->-r requirements-dev.txt (line 6)) (0.16.0)\n",
      "Requirement already satisfied: tqdm<5.0.0,>=4.10.0 in /home/rskolasinski/.local/lib/python3.7/site-packages (from thinc<7.4.0,>=7.3.0->spacy->alibi==0.3.2->-r requirements-dev.txt (line 4)) (4.40.2)\n",
      "Requirement already satisfied: importlib-metadata>=0.20; python_version < \"3.8\" in /home/rskolasinski/.local/lib/python3.7/site-packages (from catalogue<1.1.0,>=0.0.7->spacy->alibi==0.3.2->-r requirements-dev.txt (line 4)) (1.2.0)\n",
      "Requirement already satisfied: markdown>=2.6.8 in /home/rskolasinski/.local/lib/python3.7/site-packages (from tensorboard<1.16.0,>=1.15.0->tensorflow<2.0->alibi==0.3.2->-r requirements-dev.txt (line 4)) (3.1.1)\n",
      "Requirement already satisfied: h5py in /home/rskolasinski/.local/lib/python3.7/site-packages (from keras-applications>=1.0.8->tensorflow<2.0->alibi==0.3.2->-r requirements-dev.txt (line 4)) (2.10.0)\n",
      "Requirement already satisfied: pymeeus<=1,>=0.3.6 in /home/rskolasinski/.local/lib/python3.7/site-packages (from convertdate>=2.1.2->fbprophet->alibi-detect==0.2.0->-r requirements-dev.txt (line 5)) (0.3.6)\n",
      "Requirement already satisfied: cryptography in /usr/lib/python3/dist-packages (from azure-storage-common~=2.1->azure-storage-blob<3.0.0,>=2.0.1->seldon_core==1.0->-r requirements-dev.txt (line 6)) (2.6.1)\n",
      "Requirement already satisfied: MarkupSafe>=0.23 in /home/rskolasinski/.local/lib/python3.7/site-packages (from Jinja2>=2.10.1->Flask<2.0.0->seldon_core==1.0->-r requirements-dev.txt (line 6)) (1.1.1)\n",
      "Requirement already satisfied: zipp>=0.5 in /home/rskolasinski/.local/lib/python3.7/site-packages (from importlib-metadata>=0.20; python_version < \"3.8\"->catalogue<1.1.0,>=0.0.7->spacy->alibi==0.3.2->-r requirements-dev.txt (line 4)) (0.6.0)\n",
      "Requirement already satisfied: more-itertools in /home/rskolasinski/.local/lib/python3.7/site-packages (from zipp>=0.5->importlib-metadata>=0.20; python_version < \"3.8\"->catalogue<1.1.0,>=0.0.7->spacy->alibi==0.3.2->-r requirements-dev.txt (line 4)) (8.0.2)\n",
      "Installing collected packages: dill\n",
      "  Found existing installation: dill 0.3.1.dev0\n",
      "    Uninstalling dill-0.3.1.dev0:\n",
      "      Successfully uninstalled dill-0.3.1.dev0\n",
      "Successfully installed dill-0.3.1.dev0\n"
     ]
    }
   ],
   "source": [
    "!pip install -r requirements-dev.txt"
   ]
  },
  {
   "cell_type": "markdown",
   "metadata": {},
   "source": [
    "# Train and test loanclassifier\n",
    "\n",
    "We start with training the loanclassifier model by using a prepared python script [train_classifier](train_classifier.py):"
   ]
  },
  {
   "cell_type": "code",
   "execution_count": 3,
   "metadata": {},
   "outputs": [
    {
     "name": "stdout",
     "output_type": "stream",
     "text": [
      "\u001b[34mimport\u001b[39;49;00m \u001b[04m\u001b[36malibi\u001b[39;49;00m\n",
      "\u001b[34mimport\u001b[39;49;00m \u001b[04m\u001b[36mdill\u001b[39;49;00m\n",
      "\u001b[34mimport\u001b[39;49;00m \u001b[04m\u001b[36mnumpy\u001b[39;49;00m \u001b[34mas\u001b[39;49;00m \u001b[04m\u001b[36mnp\u001b[39;49;00m\n",
      "\n",
      "\u001b[34mfrom\u001b[39;49;00m \u001b[04m\u001b[36msklearn\u001b[39;49;00m\u001b[04m\u001b[36m.\u001b[39;49;00m\u001b[04m\u001b[36mpreprocessing\u001b[39;49;00m \u001b[34mimport\u001b[39;49;00m StandardScaler, OneHotEncoder\n",
      "\u001b[34mfrom\u001b[39;49;00m \u001b[04m\u001b[36msklearn\u001b[39;49;00m\u001b[04m\u001b[36m.\u001b[39;49;00m\u001b[04m\u001b[36mimpute\u001b[39;49;00m \u001b[34mimport\u001b[39;49;00m SimpleImputer\n",
      "\u001b[34mfrom\u001b[39;49;00m \u001b[04m\u001b[36msklearn\u001b[39;49;00m\u001b[04m\u001b[36m.\u001b[39;49;00m\u001b[04m\u001b[36mpipeline\u001b[39;49;00m \u001b[34mimport\u001b[39;49;00m Pipeline\n",
      "\u001b[34mfrom\u001b[39;49;00m \u001b[04m\u001b[36msklearn\u001b[39;49;00m\u001b[04m\u001b[36m.\u001b[39;49;00m\u001b[04m\u001b[36mcompose\u001b[39;49;00m \u001b[34mimport\u001b[39;49;00m ColumnTransformer\n",
      "\u001b[34mfrom\u001b[39;49;00m \u001b[04m\u001b[36msklearn\u001b[39;49;00m\u001b[04m\u001b[36m.\u001b[39;49;00m\u001b[04m\u001b[36mensemble\u001b[39;49;00m \u001b[34mimport\u001b[39;49;00m RandomForestClassifier\n",
      "\n",
      "\n",
      "DATA_DIR = \u001b[33m\"\u001b[39;49;00m\u001b[33mpipeline/loanclassifier\u001b[39;49;00m\u001b[33m\"\u001b[39;49;00m\n",
      "\n",
      "\n",
      "\u001b[34mdef\u001b[39;49;00m \u001b[32mload_data\u001b[39;49;00m(train_size=\u001b[34m30000\u001b[39;49;00m, random_state=\u001b[34m0\u001b[39;49;00m):\n",
      "    \u001b[33m\"\"\"Load example dataset and split between train and test datasets.\"\"\"\u001b[39;49;00m\n",
      "    \u001b[36mprint\u001b[39;49;00m(\u001b[33m\"\u001b[39;49;00m\u001b[33mLoading adult data from alibi.\u001b[39;49;00m\u001b[33m\"\u001b[39;49;00m)\n",
      "    np.random.seed(random_state)\n",
      "\n",
      "    data = alibi.datasets.fetch_adult()\n",
      "\n",
      "    \u001b[37m# mix input data\u001b[39;49;00m\n",
      "    data_perm = np.random.permutation(np.c_[data.data, data.target])\n",
      "    data.data = data_perm[:, :-\u001b[34m1\u001b[39;49;00m]\n",
      "    data.target = data_perm[:, -\u001b[34m1\u001b[39;49;00m]\n",
      "\n",
      "    \u001b[37m# perform train / test split\u001b[39;49;00m\n",
      "    X_train, y_train = data.data[:train_size, :], data.target[:train_size]\n",
      "    X_test, y_test = data.data[train_size:, :], data.target[train_size:]\n",
      "\n",
      "    \u001b[34mreturn\u001b[39;49;00m data, X_train, y_train, X_test, y_test\n",
      "\n",
      "\n",
      "\u001b[34mdef\u001b[39;49;00m \u001b[32mtrain_preprocessor\u001b[39;49;00m(data):\n",
      "    \u001b[33m\"\"\"Train preprocessor.\"\"\"\u001b[39;49;00m\n",
      "    \u001b[36mprint\u001b[39;49;00m(\u001b[33m\"\u001b[39;49;00m\u001b[33mTraining preprocessor.\u001b[39;49;00m\u001b[33m\"\u001b[39;49;00m)\n",
      "    \u001b[37m# TODO: ask if we need np.random.seed(...) here\u001b[39;49;00m\n",
      "\n",
      "    ordinal_features = [\n",
      "        n \u001b[34mfor\u001b[39;49;00m (n, _) \u001b[35min\u001b[39;49;00m \u001b[36menumerate\u001b[39;49;00m(data.feature_names)\n",
      "        \u001b[34mif\u001b[39;49;00m n \u001b[35mnot\u001b[39;49;00m \u001b[35min\u001b[39;49;00m data.category_map\n",
      "    ]\n",
      "\n",
      "    categorical_features = \u001b[36mlist\u001b[39;49;00m(data.category_map.keys())\n",
      "    ordinal_transformer = Pipeline(steps=[\n",
      "            (\u001b[33m'\u001b[39;49;00m\u001b[33mimputer\u001b[39;49;00m\u001b[33m'\u001b[39;49;00m, SimpleImputer(strategy=\u001b[33m'\u001b[39;49;00m\u001b[33mmedian\u001b[39;49;00m\u001b[33m'\u001b[39;49;00m)),\n",
      "            (\u001b[33m'\u001b[39;49;00m\u001b[33mscaler\u001b[39;49;00m\u001b[33m'\u001b[39;49;00m, StandardScaler())\n",
      "    ])\n",
      "\n",
      "    categorical_transformer = Pipeline(steps=[\n",
      "            (\u001b[33m'\u001b[39;49;00m\u001b[33mimputer\u001b[39;49;00m\u001b[33m'\u001b[39;49;00m, SimpleImputer(strategy=\u001b[33m'\u001b[39;49;00m\u001b[33mmedian\u001b[39;49;00m\u001b[33m'\u001b[39;49;00m)),\n",
      "            (\u001b[33m'\u001b[39;49;00m\u001b[33monehot\u001b[39;49;00m\u001b[33m'\u001b[39;49;00m, OneHotEncoder(handle_unknown=\u001b[33m'\u001b[39;49;00m\u001b[33mignore\u001b[39;49;00m\u001b[33m'\u001b[39;49;00m))\n",
      "        ])\n",
      "\n",
      "    preprocessor = ColumnTransformer(transformers=[\n",
      "        (\u001b[33m'\u001b[39;49;00m\u001b[33mnum\u001b[39;49;00m\u001b[33m'\u001b[39;49;00m, ordinal_transformer, ordinal_features),\n",
      "        (\u001b[33m'\u001b[39;49;00m\u001b[33mcat\u001b[39;49;00m\u001b[33m'\u001b[39;49;00m, categorical_transformer, categorical_features)\n",
      "    ])\n",
      "\n",
      "    preprocessor.fit(data.data)\n",
      "\n",
      "    \u001b[34mreturn\u001b[39;49;00m  preprocessor\n",
      "\n",
      "\n",
      "\u001b[34mdef\u001b[39;49;00m \u001b[32mtrain_model\u001b[39;49;00m(X_train, y_train, preprocessor):\n",
      "    \u001b[33m\"\"\"Train model.\"\"\"\u001b[39;49;00m\n",
      "    \u001b[36mprint\u001b[39;49;00m(\u001b[33m\"\u001b[39;49;00m\u001b[33mTraining model.\u001b[39;49;00m\u001b[33m\"\u001b[39;49;00m)\n",
      "    \u001b[37m# TODO: ask if we need np.random.seed(...) here\u001b[39;49;00m\n",
      "\n",
      "    clf = RandomForestClassifier(n_estimators=\u001b[34m50\u001b[39;49;00m)\n",
      "    clf.fit(preprocessor.transform(X_train), y_train)\n",
      "    \u001b[34mreturn\u001b[39;49;00m clf\n",
      "\n",
      "\n",
      "\u001b[34mdef\u001b[39;49;00m \u001b[32mserialize_pipeline\u001b[39;49;00m(preprocessor, clf):\n",
      "    \u001b[33m\"\"\"Serialize preprocessor and model.\"\"\"\u001b[39;49;00m\n",
      "    \u001b[36mprint\u001b[39;49;00m(\u001b[33m\"\u001b[39;49;00m\u001b[33mSerializing preprocessor and model.\u001b[39;49;00m\u001b[33m\"\u001b[39;49;00m)\n",
      "\n",
      "    \u001b[34mwith\u001b[39;49;00m \u001b[36mopen\u001b[39;49;00m(DATA_DIR + \u001b[33m\"\u001b[39;49;00m\u001b[33m/preprocessor.dill\u001b[39;49;00m\u001b[33m\"\u001b[39;49;00m, \u001b[33m\"\u001b[39;49;00m\u001b[33mwb\u001b[39;49;00m\u001b[33m\"\u001b[39;49;00m) \u001b[34mas\u001b[39;49;00m prep_f:\n",
      "        dill.dump(preprocessor, prep_f)\n",
      "\n",
      "    \u001b[34mwith\u001b[39;49;00m \u001b[36mopen\u001b[39;49;00m(DATA_DIR + \u001b[33m\"\u001b[39;49;00m\u001b[33m/model.dill\u001b[39;49;00m\u001b[33m\"\u001b[39;49;00m, \u001b[33m\"\u001b[39;49;00m\u001b[33mwb\u001b[39;49;00m\u001b[33m\"\u001b[39;49;00m) \u001b[34mas\u001b[39;49;00m model_f:\n",
      "        dill.dump(clf, model_f)\n",
      "\n",
      "\n",
      "\u001b[34mdef\u001b[39;49;00m \u001b[32mmain\u001b[39;49;00m():\n",
      "    data, X_train, y_train, X_test, y_test = load_data()\n",
      "    preprocessor = train_preprocessor(data)\n",
      "    clf = train_model(X_train, y_train, preprocessor)\n",
      "\n",
      "    serialize_pipeline(preprocessor, clf)\n",
      "    \u001b[34mreturn\u001b[39;49;00m preprocessor, clf, data, X_train, y_train, X_test, y_test\n",
      "\n",
      "\n",
      "\u001b[34mif\u001b[39;49;00m \u001b[31m__name__\u001b[39;49;00m == \u001b[33m\"\u001b[39;49;00m\u001b[33m__main__\u001b[39;49;00m\u001b[33m\"\u001b[39;49;00m:\n",
      "    main()\n"
     ]
    }
   ],
   "source": [
    "!pygmentize train_classifier.py"
   ]
  },
  {
   "cell_type": "code",
   "execution_count": 4,
   "metadata": {},
   "outputs": [
    {
     "name": "stdout",
     "output_type": "stream",
     "text": [
      "Loading adult data from alibi.\n",
      "Training preprocessor.\n",
      "Training model.\n",
      "Serializing preprocessor and model.\n"
     ]
    }
   ],
   "source": [
    "!python3 train_classifier.py"
   ]
  },
  {
   "cell_type": "markdown",
   "metadata": {},
   "source": [
    "This script creates two dill-serialized files `preprocess.dill` and `model.dill` that are used by the `Model` class to make prediction:"
   ]
  },
  {
   "cell_type": "code",
   "execution_count": 5,
   "metadata": {},
   "outputs": [
    {
     "name": "stdout",
     "output_type": "stream",
     "text": [
      "\u001b[34mimport\u001b[39;49;00m \u001b[04m\u001b[36mlogging\u001b[39;49;00m\n",
      "\u001b[34mimport\u001b[39;49;00m \u001b[04m\u001b[36mdill\u001b[39;49;00m\n",
      "\u001b[34mimport\u001b[39;49;00m \u001b[04m\u001b[36mos\u001b[39;49;00m\n",
      "\n",
      "\n",
      "dirname = os.path.dirname(\u001b[31m__file__\u001b[39;49;00m)\n",
      "\n",
      "\n",
      "\u001b[34mclass\u001b[39;49;00m \u001b[04m\u001b[32mModel\u001b[39;49;00m:\n",
      "\n",
      "    \u001b[34mdef\u001b[39;49;00m \u001b[32m__init__\u001b[39;49;00m(\u001b[36mself\u001b[39;49;00m, *args, **kwargs):\n",
      "        \u001b[33m\"\"\"Deserilize preprocessor and model.\"\"\"\u001b[39;49;00m\n",
      "        \u001b[34mwith\u001b[39;49;00m \u001b[36mopen\u001b[39;49;00m(os.path.join(dirname, \u001b[33m\"\u001b[39;49;00m\u001b[33mpreprocessor.dill\u001b[39;49;00m\u001b[33m\"\u001b[39;49;00m), \u001b[33m\"\u001b[39;49;00m\u001b[33mrb\u001b[39;49;00m\u001b[33m\"\u001b[39;49;00m) \u001b[34mas\u001b[39;49;00m prep_f:\n",
      "            \u001b[36mself\u001b[39;49;00m.preprocessor = dill.load(prep_f)\n",
      "        \u001b[34mwith\u001b[39;49;00m \u001b[36mopen\u001b[39;49;00m(os.path.join(dirname, \u001b[33m\"\u001b[39;49;00m\u001b[33mmodel.dill\u001b[39;49;00m\u001b[33m\"\u001b[39;49;00m), \u001b[33m\"\u001b[39;49;00m\u001b[33mrb\u001b[39;49;00m\u001b[33m\"\u001b[39;49;00m) \u001b[34mas\u001b[39;49;00m model_f:\n",
      "            \u001b[36mself\u001b[39;49;00m.clf = dill.load(model_f)\n",
      "\n",
      "    \u001b[34mdef\u001b[39;49;00m \u001b[32mpredict\u001b[39;49;00m(\u001b[36mself\u001b[39;49;00m, X, feature_names=[]):\n",
      "        \u001b[33m\"\"\"Run input X through loanclassifier model.\"\"\"\u001b[39;49;00m\n",
      "        logging.info(\u001b[33m\"\u001b[39;49;00m\u001b[33mInput: \u001b[39;49;00m\u001b[33m\"\u001b[39;49;00m + \u001b[36mstr\u001b[39;49;00m(X))\n",
      "\n",
      "        X_prep = \u001b[36mself\u001b[39;49;00m.preprocessor.transform(X)\n",
      "        output = \u001b[36mself\u001b[39;49;00m.clf.predict_proba(X_prep)\n",
      "\n",
      "        logging.info(\u001b[33m\"\u001b[39;49;00m\u001b[33mOutput: \u001b[39;49;00m\u001b[33m\"\u001b[39;49;00m + \u001b[36mstr\u001b[39;49;00m(output))\n",
      "        \u001b[34mreturn\u001b[39;49;00m output\n"
     ]
    }
   ],
   "source": [
    "!pygmentize pipeline/loanclassifier/Model.py"
   ]
  },
  {
   "cell_type": "markdown",
   "metadata": {},
   "source": [
    "We will in a moment contenrize this Model. You can test how it will work from the notebook:"
   ]
  },
  {
   "cell_type": "code",
   "execution_count": 6,
   "metadata": {},
   "outputs": [],
   "source": [
    "import sys; sys.path.append(\"pipeline/loanclassifier\")\n",
    "from Model import Model\n",
    "\n",
    "model = Model()"
   ]
  },
  {
   "cell_type": "code",
   "execution_count": 7,
   "metadata": {},
   "outputs": [
    {
     "name": "stdout",
     "output_type": "stream",
     "text": [
      "Loading adult data from alibi.\n"
     ]
    },
    {
     "data": {
      "text/html": [
       "<div>\n",
       "<style scoped>\n",
       "    .dataframe tbody tr th:only-of-type {\n",
       "        vertical-align: middle;\n",
       "    }\n",
       "\n",
       "    .dataframe tbody tr th {\n",
       "        vertical-align: top;\n",
       "    }\n",
       "\n",
       "    .dataframe thead th {\n",
       "        text-align: right;\n",
       "    }\n",
       "</style>\n",
       "<table border=\"1\" class=\"dataframe\">\n",
       "  <thead>\n",
       "    <tr style=\"text-align: right;\">\n",
       "      <th></th>\n",
       "      <th>target</th>\n",
       "    </tr>\n",
       "  </thead>\n",
       "  <tbody>\n",
       "    <tr>\n",
       "      <th>precision</th>\n",
       "      <td>0.704545</td>\n",
       "    </tr>\n",
       "    <tr>\n",
       "      <th>recall</th>\n",
       "      <td>0.658497</td>\n",
       "    </tr>\n",
       "    <tr>\n",
       "      <th>specificity</th>\n",
       "      <td>0.913289</td>\n",
       "    </tr>\n",
       "    <tr>\n",
       "      <th>accuracy</th>\n",
       "      <td>0.852401</td>\n",
       "    </tr>\n",
       "    <tr>\n",
       "      <th>auc</th>\n",
       "      <td>0.785893</td>\n",
       "    </tr>\n",
       "    <tr>\n",
       "      <th>f1</th>\n",
       "      <td>0.680743</td>\n",
       "    </tr>\n",
       "  </tbody>\n",
       "</table>\n",
       "</div>"
      ],
      "text/plain": [
       "               target\n",
       "precision    0.704545\n",
       "recall       0.658497\n",
       "specificity  0.913289\n",
       "accuracy     0.852401\n",
       "auc          0.785893\n",
       "f1           0.680743"
      ]
     },
     "execution_count": 7,
     "metadata": {},
     "output_type": "execute_result"
    },
    {
     "data": {
      "image/png": "[encoded data removed]",
      "text/plain": [
       "<Figure size 1440x360 with 1 Axes>"
      ]
     },
     "metadata": {
      "needs_background": "light"
     },
     "output_type": "display_data"
    }
   ],
   "source": [
    "import xai\n",
    "import numpy as np\n",
    "\n",
    "from train_classifier import load_data\n",
    "\n",
    "data, X_train, y_train, X_test, y_test = load_data()\n",
    "proba = model.predict(X_test)\n",
    "\n",
    "pred = np.argmax(proba, axis=1)\n",
    "xai.metrics_plot(y_test, pred)"
   ]
  },
  {
   "cell_type": "markdown",
   "metadata": {},
   "source": [
    "# Train and test outliers detector\n",
    "\n",
    "We will now train the outliers detector using another prepared script [train_detector](train_detector.py):"
   ]
  },
  {
   "cell_type": "code",
   "execution_count": 8,
   "metadata": {},
   "outputs": [
    {
     "name": "stdout",
     "output_type": "stream",
     "text": [
      "\u001b[34mimport\u001b[39;49;00m \u001b[04m\u001b[36mdill\u001b[39;49;00m\n",
      "\n",
      "\u001b[34mimport\u001b[39;49;00m \u001b[04m\u001b[36mnumpy\u001b[39;49;00m \u001b[34mas\u001b[39;49;00m \u001b[04m\u001b[36mnp\u001b[39;49;00m\n",
      "\n",
      "\u001b[34mfrom\u001b[39;49;00m \u001b[04m\u001b[36malibi_detect\u001b[39;49;00m\u001b[04m\u001b[36m.\u001b[39;49;00m\u001b[04m\u001b[36mod\u001b[39;49;00m \u001b[34mimport\u001b[39;49;00m IForest\n",
      "\u001b[34mfrom\u001b[39;49;00m \u001b[04m\u001b[36malibi_detect\u001b[39;49;00m\u001b[04m\u001b[36m.\u001b[39;49;00m\u001b[04m\u001b[36mutils\u001b[39;49;00m\u001b[04m\u001b[36m.\u001b[39;49;00m\u001b[04m\u001b[36mdata\u001b[39;49;00m \u001b[34mimport\u001b[39;49;00m create_outlier_batch\n",
      "\u001b[37m# from alibi_detect.utils.saving import save_detector, load_detector\u001b[39;49;00m\n",
      "\u001b[37m# from alibi_detect.utils.visualize import plot_instance_score\u001b[39;49;00m\n",
      "\n",
      "\u001b[34mfrom\u001b[39;49;00m \u001b[04m\u001b[36msklearn\u001b[39;49;00m\u001b[04m\u001b[36m.\u001b[39;49;00m\u001b[04m\u001b[36mpreprocessing\u001b[39;49;00m \u001b[34mimport\u001b[39;49;00m StandardScaler\n",
      "\u001b[34mfrom\u001b[39;49;00m \u001b[04m\u001b[36msklearn\u001b[39;49;00m\u001b[04m\u001b[36m.\u001b[39;49;00m\u001b[04m\u001b[36mimpute\u001b[39;49;00m \u001b[34mimport\u001b[39;49;00m SimpleImputer\n",
      "\u001b[34mfrom\u001b[39;49;00m \u001b[04m\u001b[36msklearn\u001b[39;49;00m\u001b[04m\u001b[36m.\u001b[39;49;00m\u001b[04m\u001b[36mpipeline\u001b[39;49;00m \u001b[34mimport\u001b[39;49;00m Pipeline\n",
      "\u001b[34mfrom\u001b[39;49;00m \u001b[04m\u001b[36msklearn\u001b[39;49;00m\u001b[04m\u001b[36m.\u001b[39;49;00m\u001b[04m\u001b[36mcompose\u001b[39;49;00m \u001b[34mimport\u001b[39;49;00m ColumnTransformer\n",
      "\n",
      "\u001b[34mfrom\u001b[39;49;00m \u001b[04m\u001b[36mtrain_classifier\u001b[39;49;00m \u001b[34mimport\u001b[39;49;00m load_data\n",
      "\n",
      "\n",
      "DATA_DIR = \u001b[33m\"\u001b[39;49;00m\u001b[33mpipeline/outliersdetector\u001b[39;49;00m\u001b[33m\"\u001b[39;49;00m\n",
      "\n",
      "\n",
      "\u001b[34mdef\u001b[39;49;00m \u001b[32mtrain_preprocessor\u001b[39;49;00m(data):\n",
      "    \u001b[33m\"\"\"Train preprocessor.\"\"\"\u001b[39;49;00m\n",
      "    \u001b[36mprint\u001b[39;49;00m(\u001b[33m\"\u001b[39;49;00m\u001b[33mTraining preprocessor.\u001b[39;49;00m\u001b[33m\"\u001b[39;49;00m)\n",
      "\n",
      "    ordinal_features = [\n",
      "        n \u001b[34mfor\u001b[39;49;00m (n, _) \u001b[35min\u001b[39;49;00m \u001b[36menumerate\u001b[39;49;00m(data.feature_names)\n",
      "        \u001b[34mif\u001b[39;49;00m n \u001b[35mnot\u001b[39;49;00m \u001b[35min\u001b[39;49;00m data.category_map\n",
      "    ]\n",
      "\n",
      "    ordinal_transformer = Pipeline(steps=[\n",
      "            (\u001b[33m'\u001b[39;49;00m\u001b[33mimputer\u001b[39;49;00m\u001b[33m'\u001b[39;49;00m, SimpleImputer(strategy=\u001b[33m'\u001b[39;49;00m\u001b[33mmedian\u001b[39;49;00m\u001b[33m'\u001b[39;49;00m)),\n",
      "            (\u001b[33m'\u001b[39;49;00m\u001b[33mscaler\u001b[39;49;00m\u001b[33m'\u001b[39;49;00m, StandardScaler())\n",
      "    ])\n",
      "\n",
      "    preprocessor = ColumnTransformer(transformers=[\n",
      "        (\u001b[33m'\u001b[39;49;00m\u001b[33mnum\u001b[39;49;00m\u001b[33m'\u001b[39;49;00m, ordinal_transformer, ordinal_features),\n",
      "    ])\n",
      "\n",
      "    preprocessor.fit(data.data)\n",
      "\n",
      "    \u001b[34mreturn\u001b[39;49;00m  preprocessor\n",
      "\n",
      "\n",
      "\u001b[34mdef\u001b[39;49;00m \u001b[32mtrain_detector\u001b[39;49;00m(data, preprocessor, perc_outlier=\u001b[34m5\u001b[39;49;00m):\n",
      "    \u001b[33m\"\"\"Train outliers detector.\"\"\"\u001b[39;49;00m\n",
      "\n",
      "    \u001b[36mprint\u001b[39;49;00m(\u001b[33m\"\u001b[39;49;00m\u001b[33mInitialize outlier detector.\u001b[39;49;00m\u001b[33m\"\u001b[39;49;00m)\n",
      "    od = IForest(threshold=\u001b[34mNone\u001b[39;49;00m,  n_estimators=\u001b[34m100\u001b[39;49;00m)\n",
      "\n",
      "    \u001b[36mprint\u001b[39;49;00m(\u001b[33m\"\u001b[39;49;00m\u001b[33mTraining on normal data.\u001b[39;49;00m\u001b[33m\"\u001b[39;49;00m)\n",
      "    np.random.seed(\u001b[34m0\u001b[39;49;00m)\n",
      "    normal_batch = create_outlier_batch(\n",
      "        data.data, data.target, n_samples=\u001b[34m30000\u001b[39;49;00m, perc_outlier=\u001b[34m0\u001b[39;49;00m\n",
      "    )\n",
      "\n",
      "    X_train = normal_batch.data.astype(\u001b[33m'\u001b[39;49;00m\u001b[33mfloat\u001b[39;49;00m\u001b[33m'\u001b[39;49;00m)\n",
      "    \u001b[37m# y_train = normal_batch.target\u001b[39;49;00m\n",
      "\n",
      "    od.fit(preprocessor.transform(X_train))\n",
      "\n",
      "    \u001b[36mprint\u001b[39;49;00m(\u001b[33m\"\u001b[39;49;00m\u001b[33mTrain on threshold data.\u001b[39;49;00m\u001b[33m\"\u001b[39;49;00m)\n",
      "    np.random.seed(\u001b[34m0\u001b[39;49;00m)\n",
      "    threshold_batch = create_outlier_batch(\n",
      "        data.data, data.target, n_samples=\u001b[34m1000\u001b[39;49;00m, perc_outlier=perc_outlier\n",
      "    )\n",
      "    X_threshold = threshold_batch.data.astype(\u001b[33m'\u001b[39;49;00m\u001b[33mfloat\u001b[39;49;00m\u001b[33m'\u001b[39;49;00m)\n",
      "    \u001b[37m# y_threshold = threshold_batch.target\u001b[39;49;00m\n",
      "\n",
      "    od.infer_threshold(\n",
      "        preprocessor.transform(X_threshold), threshold_perc=\u001b[34m100\u001b[39;49;00m - perc_outlier\n",
      "    )\n",
      "\n",
      "    \u001b[34mreturn\u001b[39;49;00m od\n",
      "\n",
      "\n",
      "\u001b[34mdef\u001b[39;49;00m \u001b[32mserialize_pipeline\u001b[39;49;00m(preprocessor, od):\n",
      "    \u001b[33m\"\"\"Serialize preprocessor and model.\"\"\"\u001b[39;49;00m\n",
      "    \u001b[36mprint\u001b[39;49;00m(\u001b[33m\"\u001b[39;49;00m\u001b[33mSerializing preprocessor and model.\u001b[39;49;00m\u001b[33m\"\u001b[39;49;00m)\n",
      "\n",
      "    \u001b[34mwith\u001b[39;49;00m \u001b[36mopen\u001b[39;49;00m(DATA_DIR + \u001b[33m\"\u001b[39;49;00m\u001b[33m/preprocessor.dill\u001b[39;49;00m\u001b[33m\"\u001b[39;49;00m, \u001b[33m\"\u001b[39;49;00m\u001b[33mwb\u001b[39;49;00m\u001b[33m\"\u001b[39;49;00m) \u001b[34mas\u001b[39;49;00m prep_f:\n",
      "        dill.dump(preprocessor, prep_f)\n",
      "\n",
      "    \u001b[34mwith\u001b[39;49;00m \u001b[36mopen\u001b[39;49;00m(DATA_DIR + \u001b[33m\"\u001b[39;49;00m\u001b[33m/model.dill\u001b[39;49;00m\u001b[33m\"\u001b[39;49;00m, \u001b[33m\"\u001b[39;49;00m\u001b[33mwb\u001b[39;49;00m\u001b[33m\"\u001b[39;49;00m) \u001b[34mas\u001b[39;49;00m model_f:\n",
      "        dill.dump(od, model_f)\n",
      "\n",
      "\n",
      "\u001b[34mdef\u001b[39;49;00m \u001b[32mmain\u001b[39;49;00m():\n",
      "    data = load_data()[\u001b[34m0\u001b[39;49;00m]\n",
      "    preprocessor = train_preprocessor(data)\n",
      "    od = train_detector(data, preprocessor)\n",
      "    serialize_pipeline(preprocessor, od)\n",
      "\n",
      "\n",
      "\u001b[34mif\u001b[39;49;00m \u001b[31m__name__\u001b[39;49;00m == \u001b[33m\"\u001b[39;49;00m\u001b[33m__main__\u001b[39;49;00m\u001b[33m\"\u001b[39;49;00m:\n",
      "    main()\n"
     ]
    }
   ],
   "source": [
    "!pygmentize train_detector.py"
   ]
  },
  {
   "cell_type": "code",
   "execution_count": 9,
   "metadata": {},
   "outputs": [
    {
     "name": "stdout",
     "output_type": "stream",
     "text": [
      "ERROR:fbprophet:Importing plotly failed. Interactive plots will not work.\n",
      "Loading adult data from alibi.\n",
      "Training preprocessor.\n",
      "Initialize outlier detector.\n",
      "WARNING:alibi_detect.od.isolationforest:No threshold level set. Need to infer threshold using `infer_threshold`.\n",
      "Training on normal data.\n",
      "/home/rskolasinski/.local/lib/python3.7/site-packages/sklearn/ensemble/iforest.py:213: FutureWarning: default contamination parameter 0.1 will change in version 0.22 to \"auto\". This will change the predict method behavior.\n",
      "  FutureWarning)\n",
      "/home/rskolasinski/.local/lib/python3.7/site-packages/sklearn/ensemble/iforest.py:223: FutureWarning: behaviour=\"old\" is deprecated and will be removed in version 0.22. Please use behaviour=\"new\", which makes the decision_function change to match other anomaly detection algorithm API.\n",
      "  FutureWarning)\n",
      "Train on threshold data.\n",
      "Serializing preprocessor and model.\n"
     ]
    }
   ],
   "source": [
    "!python3 train_detector.py"
   ]
  },
  {
   "cell_type": "markdown",
   "metadata": {},
   "source": [
    "In similar fashion to previous Model it will create `dill-serialized` objects used by `Detector` class:"
   ]
  },
  {
   "cell_type": "code",
   "execution_count": 10,
   "metadata": {},
   "outputs": [
    {
     "name": "stdout",
     "output_type": "stream",
     "text": [
      "\u001b[34mimport\u001b[39;49;00m \u001b[04m\u001b[36mlogging\u001b[39;49;00m\n",
      "\u001b[34mimport\u001b[39;49;00m \u001b[04m\u001b[36mdill\u001b[39;49;00m\n",
      "\u001b[34mimport\u001b[39;49;00m \u001b[04m\u001b[36mos\u001b[39;49;00m\n",
      "\n",
      "\u001b[34mimport\u001b[39;49;00m \u001b[04m\u001b[36mnumpy\u001b[39;49;00m \u001b[34mas\u001b[39;49;00m \u001b[04m\u001b[36mnp\u001b[39;49;00m\n",
      "\n",
      "\n",
      "dirname = os.path.dirname(\u001b[31m__file__\u001b[39;49;00m)\n",
      "\n",
      "\n",
      "\u001b[34mclass\u001b[39;49;00m \u001b[04m\u001b[32mDetector\u001b[39;49;00m:\n",
      "    \u001b[34mdef\u001b[39;49;00m \u001b[32m__init__\u001b[39;49;00m(\u001b[36mself\u001b[39;49;00m, *args, **kwargs):\n",
      "\n",
      "        \u001b[34mwith\u001b[39;49;00m \u001b[36mopen\u001b[39;49;00m(os.path.join(dirname, \u001b[33m\"\u001b[39;49;00m\u001b[33mpreprocessor.dill\u001b[39;49;00m\u001b[33m\"\u001b[39;49;00m), \u001b[33m\"\u001b[39;49;00m\u001b[33mrb\u001b[39;49;00m\u001b[33m\"\u001b[39;49;00m) \u001b[34mas\u001b[39;49;00m prep_f:\n",
      "            \u001b[36mself\u001b[39;49;00m.preprocessor = dill.load(prep_f)\n",
      "        \u001b[34mwith\u001b[39;49;00m \u001b[36mopen\u001b[39;49;00m(os.path.join(dirname, \u001b[33m\"\u001b[39;49;00m\u001b[33mmodel.dill\u001b[39;49;00m\u001b[33m\"\u001b[39;49;00m), \u001b[33m\"\u001b[39;49;00m\u001b[33mrb\u001b[39;49;00m\u001b[33m\"\u001b[39;49;00m) \u001b[34mas\u001b[39;49;00m model_f:\n",
      "            \u001b[36mself\u001b[39;49;00m.od = dill.load(model_f)\n",
      "\n",
      "    \u001b[34mdef\u001b[39;49;00m \u001b[32mpredict\u001b[39;49;00m(\u001b[36mself\u001b[39;49;00m, X, feature_names=[]):\n",
      "        logging.info(\u001b[33m\"\u001b[39;49;00m\u001b[33mInput: \u001b[39;49;00m\u001b[33m\"\u001b[39;49;00m + \u001b[36mstr\u001b[39;49;00m(X))\n",
      "\n",
      "        X_prep = \u001b[36mself\u001b[39;49;00m.preprocessor.transform(X)\n",
      "        output = \u001b[36mself\u001b[39;49;00m.od.predict(X_prep)[\u001b[33m'\u001b[39;49;00m\u001b[33mdata\u001b[39;49;00m\u001b[33m'\u001b[39;49;00m][\u001b[33m'\u001b[39;49;00m\u001b[33mis_outlier\u001b[39;49;00m\u001b[33m'\u001b[39;49;00m]\n",
      "\n",
      "        logging.info(\u001b[33m\"\u001b[39;49;00m\u001b[33mOutput: \u001b[39;49;00m\u001b[33m\"\u001b[39;49;00m + \u001b[36mstr\u001b[39;49;00m(output))\n",
      "        \u001b[34mreturn\u001b[39;49;00m output\n"
     ]
    }
   ],
   "source": [
    "!pygmentize pipeline/outliersdetector/Detector.py"
   ]
  },
  {
   "cell_type": "markdown",
   "metadata": {},
   "source": [
    "You can see how the detector works from this notebook:"
   ]
  },
  {
   "cell_type": "code",
   "execution_count": 11,
   "metadata": {},
   "outputs": [
    {
     "name": "stderr",
     "output_type": "stream",
     "text": [
      "ERROR:fbprophet:Importing plotly failed. Interactive plots will not work.\n"
     ]
    }
   ],
   "source": [
    "import sys; sys.path.append(\"pipeline/outliersdetector\")\n",
    "from Detector import Detector\n",
    "\n",
    "detector = Detector()"
   ]
  },
  {
   "cell_type": "code",
   "execution_count": 12,
   "metadata": {},
   "outputs": [],
   "source": [
    "import json\n",
    "\n",
    "import numpy as np\n",
    "import pandas as pd\n",
    "import seaborn as sns\n",
    "\n",
    "import matplotlib.pyplot as plt\n",
    "%matplotlib inline\n",
    "\n",
    "from sklearn.metrics import confusion_matrix, f1_score\n",
    "from alibi_detect.utils.data import create_outlier_batch\n",
    "\n",
    "\n",
    "np.random.seed(1)\n",
    "outlier_batch = create_outlier_batch(data.data, data.target, n_samples=1000, perc_outlier=10)\n",
    "X_outlier, y_outlier = outlier_batch.data.astype('float'), outlier_batch.target"
   ]
  },
  {
   "cell_type": "code",
   "execution_count": 13,
   "metadata": {},
   "outputs": [],
   "source": [
    "y_pred = detector.predict(X_outlier)"
   ]
  },
  {
   "cell_type": "code",
   "execution_count": 14,
   "metadata": {},
   "outputs": [
    {
     "name": "stdout",
     "output_type": "stream",
     "text": [
      "F1 score: 0.35365853658536583\n"
     ]
    },
    {
     "data": {
      "image/png": "[encoded data removed]",
      "text/plain": [
       "<Figure size 432x288 with 2 Axes>"
      ]
     },
     "metadata": {
      "needs_background": "light"
     },
     "output_type": "display_data"
    }
   ],
   "source": [
    "labels = outlier_batch.target_names\n",
    "f1 = f1_score(y_outlier, y_pred)\n",
    "print('F1 score: {}'.format(f1))\n",
    "cm = confusion_matrix(y_outlier, y_pred)\n",
    "df_cm = pd.DataFrame(cm, index=labels, columns=labels)\n",
    "sns.heatmap(df_cm, annot=True, cbar=True, linewidths=.5)\n",
    "plt.show()"
   ]
  },
  {
   "cell_type": "markdown",
   "metadata": {},
   "source": [
    "# Contenerise your models\n",
    "\n",
    "Before you can deploy classifier `Model` and outliers `Detector` as part of seldon's graph you have to contenerise them.\n",
    "\n",
    "We will use the s2i to do so with help of provided [Makefile](Makefile):"
   ]
  },
  {
   "cell_type": "code",
   "execution_count": 15,
   "metadata": {},
   "outputs": [
    {
     "name": "stdout",
     "output_type": "stream",
     "text": [
      "\u001b[32m.ONESHELL\u001b[39;49;00m:\n",
      "\n",
      "\u001b[32mall\u001b[39;49;00m: base loanclassifier outliersdetector combiner\n",
      "\n",
      "\u001b[32mbase\u001b[39;49;00m:\n",
      "\tdocker build . -t seldon-core-outliers-base:0.1\n",
      "\n",
      "\u001b[32mloanclassifier\u001b[39;49;00m:\n",
      "\ts2i build pipeline/loanclassifier seldon-core-outliers-base:0.1 loanclassifier:0.1\n",
      "\n",
      "\u001b[32moutliersdetector\u001b[39;49;00m:\n",
      "\ts2i build pipeline/outliersdetector seldon-core-outliers-base:0.1 outliersdetector:0.1\n",
      "\n",
      "\u001b[32mcombiner\u001b[39;49;00m:\n",
      "\ts2i build pipeline/combiner seldon-core-outliers-base:0.1 combiner:0.1\n"
     ]
    }
   ],
   "source": [
    "!pygmentize Makefile"
   ]
  },
  {
   "cell_type": "code",
   "execution_count": null,
   "metadata": {},
   "outputs": [],
   "source": [
    "!make"
   ]
  },
  {
   "cell_type": "markdown",
   "metadata": {},
   "source": [
    "or if using Minikube"
   ]
  },
  {
   "cell_type": "code",
   "execution_count": 16,
   "metadata": {},
   "outputs": [
    {
     "name": "stdout",
     "output_type": "stream",
     "text": [
      "docker build . -t seldon-core-outliers-base:0.1\n",
      "Sending build context to Docker daemon  35.71MB\n",
      "Step 1/3 : FROM seldonio/seldon-core-s2i-python37:0.14\n",
      "0.14: Pulling from seldonio/seldon-core-s2i-python37\n",
      "\n",
      "\u001b[1B55d5a1d1: Pulling fs layer \n",
      "\u001b[1B80d00ae9: Pulling fs layer \n",
      "\u001b[1Bb3117dca: Pulling fs layer \n",
      "\u001b[1Ba19181b2: Pulling fs layer \n",
      "\u001b[1B7b2a5bcc: Pulling fs layer \n",
      "\u001b[1B49ff3f44: Pulling fs layer \n",
      "\u001b[1B6afc6332: Pulling fs layer \n",
      "\u001b[1Bc90f8d7c: Pulling fs layer \n",
      "\u001b[1Bee813012: Pulling fs layer \n",
      "\u001b[1B14ec38a7: Pulling fs layer \n",
      "\u001b[1Be3003449: Pulling fs layer \n",
      "\u001b[1B0e7471a0: Pulling fs layer \n",
      "\u001b[1BDigest: sha256:70b0df3f9f98159ee522b3d45a779fbc5939c19d5126e7b053745415c68d2d8a[2K\u001b[12A\u001b[2K\u001b[11A\u001b[2K\u001b[12A\u001b[2K\u001b[11A\u001b[2K\u001b[12A\u001b[2K\u001b[11A\u001b[2K\u001b[11A\u001b[2K\u001b[11A\u001b[2K\u001b[12A\u001b[2K\u001b[12A\u001b[2K\u001b[12A\u001b[2K\u001b[12A\u001b[2K\u001b[12A\u001b[2K\u001b[12A\u001b[2K\u001b[12A\u001b[2K\u001b[12A\u001b[2K\u001b[12A\u001b[2K\u001b[12A\u001b[2K\u001b[13A\u001b[2K\u001b[10A\u001b[2K\u001b[10A\u001b[2K\u001b[10A\u001b[2K\u001b[9A\u001b[2K\u001b[10A\u001b[2K\u001b[9A\u001b[2K\u001b[10A\u001b[2K\u001b[9A\u001b[2K\u001b[13A\u001b[2K\u001b[9A\u001b[2K\u001b[9A\u001b[2K\u001b[10A\u001b[2K\u001b[9A\u001b[2K\u001b[10A\u001b[2K\u001b[9A\u001b[2K\u001b[10A\u001b[2K\u001b[9A\u001b[2K\u001b[10A\u001b[2K\u001b[9A\u001b[2K\u001b[9A\u001b[2K\u001b[10A\u001b[2K\u001b[10A\u001b[2K\u001b[9A\u001b[2K\u001b[10A\u001b[2K\u001b[9A\u001b[2K\u001b[10A\u001b[2K\u001b[9A\u001b[2K\u001b[10A\u001b[2K\u001b[9A\u001b[2K\u001b[10A\u001b[2K\u001b[9A\u001b[2K\u001b[13A\u001b[2K\u001b[10A\u001b[2K\u001b[9A\u001b[2K\u001b[10A\u001b[2K\u001b[10A\u001b[2K\u001b[9A\u001b[2K\u001b[10A\u001b[2K\u001b[9A\u001b[2K\u001b[9A\u001b[2K\u001b[9A\u001b[2K\u001b[10A\u001b[2K\u001b[9A\u001b[2K\u001b[9A\u001b[2K\u001b[10A\u001b[2K\u001b[9A\u001b[2K\u001b[13A\u001b[2K\u001b[13A\u001b[2K\u001b[10A\u001b[2K\u001b[13A\u001b[2K\u001b[13A\u001b[2K\u001b[10A\u001b[2K\u001b[13A\u001b[2K\u001b[9A\u001b[2K\u001b[9A\u001b[2K\u001b[10A\u001b[2K\u001b[13A\u001b[2K\u001b[9A\u001b[2K\u001b[13A\u001b[2K\u001b[13A\u001b[2K\u001b[10A\u001b[2K\u001b[13A\u001b[2K\u001b[9A\u001b[2K\u001b[10A\u001b[2K\u001b[9A\u001b[2K\u001b[10A\u001b[2K\u001b[9A\u001b[2K\u001b[13A\u001b[2K\u001b[10A\u001b[2K\u001b[9A\u001b[2K\u001b[10A\u001b[2K\u001b[13A\u001b[2K\u001b[10A\u001b[2K\u001b[9A\u001b[2K\u001b[13A\u001b[2K\u001b[13A\u001b[2K\u001b[10A\u001b[2K\u001b[9A\u001b[2K\u001b[13A\u001b[2K\u001b[10A\u001b[2K\u001b[9A\u001b[2K\u001b[10A\u001b[2K\u001b[13A\u001b[2K\u001b[10A\u001b[2K\u001b[9A\u001b[2K\u001b[13A\u001b[2K\u001b[10A\u001b[2K\u001b[9A\u001b[2K\u001b[10A\u001b[2K\u001b[9A\u001b[2K\u001b[13A\u001b[2K\u001b[9A\u001b[2K\u001b[13A\u001b[2K\u001b[10A\u001b[2K\u001b[9A\u001b[2K\u001b[13A\u001b[2K\u001b[10A\u001b[2K\u001b[13A\u001b[2K\u001b[10A\u001b[2K\u001b[9A\u001b[2K\u001b[13A\u001b[2K\u001b[10A\u001b[2K\u001b[13A\u001b[2K\u001b[9A\u001b[2K\u001b[13A\u001b[2K\u001b[10A\u001b[2K\u001b[9A\u001b[2K\u001b[10A\u001b[2K\u001b[13A\u001b[2K\u001b[13A\u001b[2K\u001b[10A\u001b[2K\u001b[13A\u001b[2K\u001b[10A\u001b[2K\u001b[9A\u001b[2K\u001b[13A\u001b[2K\u001b[10A\u001b[2K\u001b[13A\u001b[2K\u001b[9A\u001b[2K\u001b[10A\u001b[2K\u001b[13A\u001b[2K\u001b[10A\u001b[2K\u001b[9A\u001b[2K\u001b[13A\u001b[2K\u001b[10A\u001b[2K\u001b[13A\u001b[2K\u001b[9A\u001b[2K\u001b[10A\u001b[2K\u001b[13A\u001b[2K\u001b[13A\u001b[2K\u001b[9A\u001b[2K\u001b[10A\u001b[2K\u001b[13A\u001b[2K\u001b[9A\u001b[2K\u001b[10A\u001b[2K\u001b[13A\u001b[2K\u001b[13A\u001b[2K\u001b[10A\u001b[2K\u001b[9A\u001b[2K\u001b[13A\u001b[2K\u001b[9A\u001b[2K\u001b[10A\u001b[2K\u001b[9A\u001b[2K\u001b[13A\u001b[2K\u001b[10A\u001b[2K\u001b[9A\u001b[2K\u001b[13A\u001b[2K\u001b[9A\u001b[2K\u001b[13A\u001b[2K\u001b[13A\u001b[2K\u001b[13A\u001b[2K\u001b[10A\u001b[2K\u001b[9A\u001b[2K\u001b[13A\u001b[2K\u001b[10A\u001b[2K\u001b[13A\u001b[2K\u001b[9A\u001b[2K\u001b[10A\u001b[2K\u001b[9A\u001b[2K\u001b[13A\u001b[2K\u001b[9A\u001b[2K\u001b[9A\u001b[2K\u001b[10A\u001b[2K\u001b[9A\u001b[2K\u001b[13A\u001b[2K\u001b[9A\u001b[2K\u001b[10A\u001b[2K\u001b[9A\u001b[2K\u001b[13A\u001b[2K\u001b[9A\u001b[2K\u001b[10A\u001b[2K\u001b[9A\u001b[2K\u001b[13A\u001b[2K\u001b[9A\u001b[2K\u001b[10A\u001b[2K\u001b[13A\u001b[2K\u001b[13A\u001b[2K\u001b[10A\u001b[2K\u001b[9A\u001b[2K\u001b[13A\u001b[2K\u001b[10A\u001b[2K\u001b[13A\u001b[2K\u001b[9A\u001b[2K\u001b[13A\u001b[2K\u001b[9A\u001b[2K\u001b[9A\u001b[2K\u001b[13A\u001b[2K\u001b[9A\u001b[2K\u001b[9A\u001b[2K\u001b[8A\u001b[2K\u001b[10A\u001b[2K\u001b[13A\u001b[2K\u001b[8A\u001b[2K\u001b[10A\u001b[2K\u001b[13A\u001b[2K\u001b[8A\u001b[2K\u001b[13A\u001b[2K\u001b[8A\u001b[2K\u001b[9A\u001b[2K\u001b[8A\u001b[2K\u001b[9A\u001b[2K\u001b[13A\u001b[2K\u001b[8A\u001b[2K\u001b[13A\u001b[2K\u001b[10A\u001b[2K\u001b[8A\u001b[2K\u001b[13A\u001b[2K\u001b[8A\u001b[2K\u001b[13A\u001b[2K\u001b[8A\u001b[2K\u001b[12A\u001b[2K\u001b[8A\u001b[2K\u001b[12A\u001b[2K\u001b[9A\u001b[2K\u001b[12A\u001b[2K\u001b[8A\u001b[2K\u001b[12A\u001b[2K\u001b[12A\u001b[2K\u001b[11A\u001b[2K\u001b[8A\u001b[2K\u001b[11A\u001b[2K\u001b[8A\u001b[2K\u001b[8A\u001b[2K\u001b[8A\u001b[2K\u001b[9A\u001b[2K\u001b[8A\u001b[2K\u001b[10A\u001b[2K\u001b[8A\u001b[2K\u001b[9A\u001b[2K\u001b[8A\u001b[2K\u001b[8A\u001b[2K\u001b[8A\u001b[2K\u001b[10A\u001b[2K\u001b[9A\u001b[2K\u001b[9A\u001b[2K\u001b[9A\u001b[2K\u001b[10A\u001b[2K\u001b[9A\u001b[2K\u001b[9A\u001b[2K\u001b[10A\u001b[2K\u001b[9A\u001b[2K\u001b[9A\u001b[2K\u001b[9A\u001b[2K\u001b[7A\u001b[2K\u001b[9A\u001b[2K\u001b[9A\u001b[2K\u001b[9A\u001b[2K\u001b[7A\u001b[2K\u001b[10A\u001b[2K\u001b[9A\u001b[2K\u001b[10A\u001b[2K\u001b[7A\u001b[2K\u001b[10A\u001b[2K\u001b[9A\u001b[2K\u001b[7A\u001b[2K\u001b[10A\u001b[2K\u001b[7A\u001b[2K\u001b[10A\u001b[2K\u001b[9A\u001b[2K\u001b[10A\u001b[2K\u001b[10A\u001b[2K\u001b[7A\u001b[2K\u001b[10A\u001b[2K\u001b[9A\u001b[2K\u001b[7A\u001b[2K\u001b[9A\u001b[2K\u001b[7A\u001b[2K\u001b[10A\u001b[2K\u001b[9A\u001b[2K\u001b[10A\u001b[2K\u001b[9A\u001b[2K\u001b[7A\u001b[2K\u001b[9A\u001b[2K\u001b[10A\u001b[2K\u001b[7A\u001b[2K\u001b[9A\u001b[2K\u001b[10A\u001b[2K\u001b[9A\u001b[2K\u001b[10A\u001b[2K\u001b[7A\u001b[2K\u001b[10A\u001b[2K\u001b[7A\u001b[2K\u001b[10A\u001b[2K\u001b[10A\u001b[2K\u001b[5A\u001b[2K\u001b[10A\u001b[2K\u001b[7A\u001b[2KDownloading  90.78MB/215.1MB\u001b[10A\u001b[2K\u001b[5A\u001b[2K\u001b[10A\u001b[2K\u001b[7A\u001b[2K\u001b[10A\u001b[2K\u001b[9A\u001b[2K\u001b[5A\u001b[2K\u001b[5A\u001b[2K\u001b[7A\u001b[2K\u001b[9A\u001b[2K\u001b[10A\u001b[2K\u001b[7A\u001b[2K\u001b[9A\u001b[2K\u001b[10A\u001b[2K\u001b[7A\u001b[2K\u001b[9A\u001b[2K\u001b[5A\u001b[2K\u001b[5A\u001b[2K\u001b[7A\u001b[2K\u001b[7A\u001b[2K\u001b[7A\u001b[2K\u001b[9A\u001b[2K\u001b[7A\u001b[2K\u001b[9A\u001b[2K\u001b[7A\u001b[2K\u001b[4A\u001b[2K\u001b[7A\u001b[2K\u001b[9A\u001b[2K\u001b[7A\u001b[2K\u001b[9A\u001b[2K\u001b[9A\u001b[2K\u001b[7A\u001b[2K\u001b[9A\u001b[2K\u001b[7A\u001b[2K\u001b[7A\u001b[2K\u001b[3A\u001b[2K\u001b[9A\u001b[2K\u001b[7A\u001b[2K\u001b[9A\u001b[2K\u001b[7A\u001b[2K\u001b[3A\u001b[2K\u001b[7A\u001b[2K\u001b[7A\u001b[2K\u001b[9A\u001b[2K\u001b[9A\u001b[2K\u001b[7A\u001b[2K\u001b[9A\u001b[2K\u001b[7A\u001b[2K\u001b[7A\u001b[2K\u001b[9A\u001b[2K\u001b[3A\u001b[2K\u001b[9A\u001b[2K\u001b[9A\u001b[2K\u001b[9A\u001b[2K\u001b[9A\u001b[2K\u001b[9A\u001b[2K\u001b[1A\u001b[2K\u001b[9A\u001b[2K\u001b[9A\u001b[2K\u001b[2A\u001b[2K\u001b[9A\u001b[2K\u001b[9A\u001b[2K\u001b[2A\u001b[2K\u001b[9A\u001b[2K\u001b[9A\u001b[2K\u001b[2A\u001b[2K\u001b[9A\u001b[2K\u001b[9A\u001b[2K\u001b[9A\u001b[2K\u001b[2A\u001b[2K\u001b[9A\u001b[2K\u001b[9A\u001b[2K\u001b[2A\u001b[2K\u001b[9A\u001b[2K\u001b[2A\u001b[2K\u001b[9A\u001b[2K\u001b[2A\u001b[2K\u001b[9A\u001b[2K\u001b[2A\u001b[2K\u001b[9A\u001b[2K\u001b[2A\u001b[2K\u001b[2A\u001b[2K\u001b[9A\u001b[2K\u001b[2A\u001b[2K\u001b[9A\u001b[2K\u001b[2A\u001b[2K\u001b[9A\u001b[2K\u001b[2A\u001b[2K\u001b[9A\u001b[2K\u001b[2A\u001b[2K\u001b[9A\u001b[2K\u001b[2A\u001b[2K\u001b[2A\u001b[2K\u001b[9A\u001b[2K\u001b[9A\u001b[2K\u001b[2A\u001b[2K\u001b[9A\u001b[2K\u001b[9A\u001b[2K\u001b[2A\u001b[2K\u001b[9A\u001b[2K\u001b[9A\u001b[2K\u001b[2A\u001b[2K\u001b[9A\u001b[2K\u001b[9A\u001b[2K\u001b[2A\u001b[2K\u001b[2A\u001b[2K\u001b[9A\u001b[2K\u001b[2A\u001b[2K\u001b[9A\u001b[2K\u001b[2A\u001b[2K\u001b[2A\u001b[2K\u001b[9A\u001b[2K\u001b[2A\u001b[2K\u001b[9A\u001b[2K\u001b[2A\u001b[2K\u001b[9A\u001b[2K\u001b[2A\u001b[2K\u001b[9A\u001b[2K\u001b[2A\u001b[2K\u001b[9A\u001b[2K\u001b[2A\u001b[2K\u001b[9A\u001b[2K\u001b[9A\u001b[2K\u001b[2A\u001b[2K\u001b[2A\u001b[2K\u001b[9A\u001b[2K\u001b[2A\u001b[2K\u001b[2A\u001b[2K\u001b[9A\u001b[2K\u001b[2A\u001b[2K\u001b[9A\u001b[2K\u001b[2A\u001b[2K\u001b[9A\u001b[2K\u001b[2A\u001b[2K\u001b[9A\u001b[2K\u001b[2A\u001b[2K\u001b[9A\u001b[2K\u001b[2A\u001b[2K\u001b[9A\u001b[2K\u001b[2A\u001b[2K\u001b[2A\u001b[2K\u001b[9A\u001b[2K\u001b[2A\u001b[2K\u001b[2A\u001b[2K\u001b[9A\u001b[2K\u001b[2A\u001b[2K\u001b[2A\u001b[2K\u001b[9A\u001b[2K\u001b[2A\u001b[2K\u001b[2A\u001b[2K\u001b[9A\u001b[2K\u001b[2A\u001b[2K\u001b[9A\u001b[2K\u001b[2A\u001b[2K\u001b[9A\u001b[2K\u001b[9A\u001b[2K\u001b[2A\u001b[2K\u001b[9A\u001b[2K\u001b[2A\u001b[2K\u001b[9A\u001b[2K\u001b[2A\u001b[2K\u001b[9A\u001b[2K\u001b[2A\u001b[2K\u001b[9A\u001b[2K\u001b[9A\u001b[2K\u001b[2A\u001b[2K\u001b[9A\u001b[2K\u001b[2A\u001b[2K\u001b[9A\u001b[2K\u001b[2A\u001b[2K\u001b[2A\u001b[2K\u001b[9A\u001b[2K\u001b[2A\u001b[2K\u001b[9A\u001b[2K\u001b[2A\u001b[2K\u001b[9A\u001b[2K\u001b[9A\u001b[2K\u001b[9A\u001b[2K\u001b[2A\u001b[2K\u001b[2A\u001b[2K\u001b[9A\u001b[2K\u001b[2A\u001b[2K\u001b[9A\u001b[2K\u001b[9A\u001b[2K\u001b[9A\u001b[2K\u001b[2A\u001b[2K\u001b[9A\u001b[2K\u001b[9A\u001b[2K\u001b[2A\u001b[2K\u001b[9A\u001b[2K\u001b[2A\u001b[2K\u001b[2A\u001b[2K\u001b[2A\u001b[2K\u001b[2A\u001b[2K\u001b[9A\u001b[2K\u001b[2A\u001b[2K\u001b[9A\u001b[2K\u001b[2A\u001b[2K\u001b[9A\u001b[2K\u001b[2A\u001b[2K\u001b[9A\u001b[2K\u001b[2A\u001b[2K\u001b[9A\u001b[2K\u001b[2A\u001b[2K\u001b[9A\u001b[2K\u001b[2A\u001b[2K\u001b[2A\u001b[2K\u001b[9A\u001b[2K\u001b[2A\u001b[2K\u001b[9A\u001b[2K\u001b[2A\u001b[2K\u001b[9A\u001b[2K\u001b[2A\u001b[2K\u001b[9A\u001b[2K\u001b[2A\u001b[2K\u001b[9A\u001b[2K\u001b[2A\u001b[2K\u001b[9A\u001b[2K\u001b[2A\u001b[2K\u001b[9A\u001b[2K\u001b[2A\u001b[2K\u001b[9A\u001b[2K\u001b[2A\u001b[2K\u001b[9A\u001b[2K\u001b[2A\u001b[2K\u001b[9A\u001b[2K\u001b[2A\u001b[2K\u001b[9A\u001b[2K\u001b[2A\u001b[2K\u001b[9A\u001b[2K\u001b[2A\u001b[2K\u001b[9A\u001b[2K\u001b[9A\u001b[2K\u001b[9A\u001b[2K\u001b[9A\u001b[2K\u001b[9A\u001b[2K\u001b[9A\u001b[2K\u001b[9A\u001b[2K\u001b[9A\u001b[2K\u001b[9A\u001b[2K\u001b[9A\u001b[2K\u001b[9A\u001b[2K\u001b[9A\u001b[2K\u001b[9A\u001b[2K\u001b[9A\u001b[2K\u001b[9A\u001b[2K\u001b[9A\u001b[2K\u001b[9A\u001b[2K\u001b[9A\u001b[2K\u001b[9A\u001b[2K\u001b[9A\u001b[2K\u001b[9A\u001b[2K\u001b[9A\u001b[2K\u001b[9A\u001b[2K\u001b[9A\u001b[2K\u001b[9A\u001b[2K\u001b[9A\u001b[2K\u001b[9A\u001b[2K\u001b[9A\u001b[2K\u001b[9A\u001b[2K\u001b[9A\u001b[2K\u001b[9A\u001b[2K\u001b[9A\u001b[2K\u001b[9A\u001b[2K\u001b[9A\u001b[2K\u001b[9A\u001b[2K\u001b[9A\u001b[2K\u001b[9A\u001b[2K\u001b[9A\u001b[2K\u001b[9A\u001b[2K\u001b[9A\u001b[2K\u001b[9A\u001b[2K\u001b[9A\u001b[2K\u001b[9A\u001b[2K\u001b[9A\u001b[2K\u001b[9A\u001b[2K\u001b[9A\u001b[2K\u001b[9A\u001b[2K\u001b[9A\u001b[2K\u001b[9A\u001b[2K\u001b[9A\u001b[2K\u001b[9A\u001b[2K\u001b[9A\u001b[2K\u001b[9A\u001b[2K\u001b[9A\u001b[2K\u001b[9A\u001b[2K\u001b[9A\u001b[2K\u001b[9A\u001b[2K\u001b[9A\u001b[2K\u001b[9A\u001b[2K\u001b[9A\u001b[2K\u001b[9A\u001b[2K\u001b[9A\u001b[2K\u001b[9A\u001b[2K\u001b[9A\u001b[2K\u001b[9A\u001b[2K\u001b[9A\u001b[2K\u001b[9A\u001b[2K\u001b[9A\u001b[2K\u001b[9A\u001b[2K\u001b[9A\u001b[2K\u001b[9A\u001b[2K\u001b[9A\u001b[2K\u001b[9A\u001b[2K\u001b[9A\u001b[2K\u001b[9A\u001b[2K\u001b[9A\u001b[2K\u001b[9A\u001b[2K\u001b[9A\u001b[2K\u001b[9A\u001b[2K\u001b[9A\u001b[2K\u001b[9A\u001b[2K\u001b[9A\u001b[2K\u001b[9A\u001b[2K\u001b[9A\u001b[2K\u001b[9A\u001b[2K\u001b[9A\u001b[2K\u001b[9A\u001b[2K\u001b[9A\u001b[2K\u001b[9A\u001b[2K\u001b[9A\u001b[2K\u001b[9A\u001b[2K\u001b[9A\u001b[2K\u001b[9A\u001b[2K\u001b[9A\u001b[2K\u001b[9A\u001b[2K\u001b[9A\u001b[2K\u001b[9A\u001b[2K\u001b[9A\u001b[2K\u001b[9A\u001b[2K\u001b[9A\u001b[2K\u001b[9A\u001b[2K\u001b[9A\u001b[2K\u001b[9A\u001b[2K\u001b[9A\u001b[2K\u001b[9A\u001b[2K\u001b[9A\u001b[2K\u001b[9A\u001b[2K\u001b[9A\u001b[2K\u001b[9A\u001b[2K\u001b[9A\u001b[2K\u001b[9A\u001b[2K\u001b[9A\u001b[2K\u001b[9A\u001b[2K\u001b[9A\u001b[2K\u001b[8A\u001b[2K\u001b[8A\u001b[2K\u001b[8A\u001b[2K\u001b[8A\u001b[2K\u001b[8A\u001b[2K\u001b[7A\u001b[2K\u001b[7A\u001b[2K\u001b[7A\u001b[2K\u001b[7A\u001b[2K\u001b[7A\u001b[2K\u001b[7A\u001b[2K\u001b[7A\u001b[2K\u001b[7A\u001b[2K\u001b[7A\u001b[2K\u001b[7A\u001b[2K\u001b[7A\u001b[2K\u001b[6A\u001b[2K\u001b[5A\u001b[2K\u001b[5A\u001b[2K\u001b[4A\u001b[2K\u001b[3A\u001b[2K\u001b[2A\u001b[2K\u001b[2A\u001b[2K\u001b[2A\u001b[2K\u001b[2A\u001b[2K\u001b[2A\u001b[2K\u001b[2A\u001b[2K\u001b[2A\u001b[2K\u001b[2A\u001b[2K\u001b[2A\u001b[2K\u001b[2A\u001b[2K\u001b[2A\u001b[2K\u001b[2A\u001b[2K\u001b[2A\u001b[2K\u001b[2A\u001b[2K\u001b[2A\u001b[2K\u001b[2A\u001b[2K\u001b[2A\u001b[2K\u001b[2A\u001b[2K\u001b[2A\u001b[2K\u001b[2A\u001b[2K\u001b[2A\u001b[2K\u001b[2A\u001b[2K\u001b[2A\u001b[2K\u001b[1A\u001b[2K\n",
      "Status: Downloaded newer image for seldonio/seldon-core-s2i-python37:0.14\n",
      " ---> 9bc15beb4ced\n",
      "Step 2/3 : COPY requirements-dev.txt /microservice/\n",
      " ---> de33f9a94a7b\n",
      "Step 3/3 : RUN pip install --upgrade pip setuptools &&     pip install -r requirements-dev.txt\n",
      " ---> Running in 00c556dbe335\n",
      "Collecting pip\n",
      "  Downloading https://files.pythonhosted.org/packages/00/b6/9cfa56b4081ad13874b0c6f96af8ce16cfbc1cb06bedf8e9164ce5551ec1/pip-19.3.1-py2.py3-none-any.whl (1.4MB)\n",
      "Collecting setuptools\n",
      "  Downloading https://files.pythonhosted.org/packages/f9/d3/955738b20d3832dfa3cd3d9b07e29a8162edb480bf988332f5e6e48ca444/setuptools-44.0.0-py2.py3-none-any.whl (583kB)\n",
      "Installing collected packages: pip, setuptools\n",
      "  Found existing installation: pip 19.1.1\n",
      "    Uninstalling pip-19.1.1:\n",
      "      Successfully uninstalled pip-19.1.1\n",
      "  Found existing installation: setuptools 41.0.1\n",
      "    Uninstalling setuptools-41.0.1:\n",
      "      Successfully uninstalled setuptools-41.0.1\n",
      "Successfully installed pip-19.3.1 setuptools-44.0.0\n",
      "Collecting dill==0.3.1\n",
      "  Downloading https://files.pythonhosted.org/packages/3e/ad/31932a4e2804897e6fd2f946d53df51dd9b4aa55e152b5404395d00354d1/dill-0.3.1.tar.gz (151kB)\n",
      "\u001b[91m  WARNING: Requested dill==0.3.1 from https://files.pythonhosted.org/packages/3e/ad/31932a4e2804897e6fd2f946d53df51dd9b4aa55e152b5404395d00354d1/dill-0.3.1.tar.gz#sha256=d3ddddf2806a7bc9858b20c02dc174396795545e9d62f243b34481fd26eb3e2c (from -r requirements-dev.txt (line 1)), but installing version 0.3.1.dev0\n",
      "\u001b[0mCollecting xai==0.0.5\n",
      "  Downloading https://files.pythonhosted.org/packages/57/ff/cb5a2d94f4ce159f7abadc92c581749d6f45b027aaf4cc0823e948064b98/xai-0.0.5-py3-none-any.whl (349kB)\n",
      "Collecting alibi==0.3.2\n",
      "  Downloading https://files.pythonhosted.org/packages/00/e7/54214fcf84a65339d6c993121da52edea52b56d39e6ec87ad30c755d665a/alibi-0.3.2-py3-none-any.whl (81kB)\n",
      "Collecting alibi-detect==0.2.0\n",
      "  Downloading https://files.pythonhosted.org/packages/dd/65/eeaebb2983fcfdaaf558d8f167433b5cab11b7c3b7b2544584b50073a266/alibi_detect-0.2.0-py3-none-any.whl (54kB)\n",
      "Collecting seldon_core==1.0\n",
      "  Downloading https://files.pythonhosted.org/packages/4b/50/7d0a6c99467f86d5acff107d7cecb4f21066402dddcea2b4d7bb1eb5aefb/seldon_core-1.0.0-py3-none-any.whl (84kB)\n",
      "Collecting scipy==1.1.0\n",
      "  Downloading https://files.pythonhosted.org/packages/40/de/0c22c6754370ba6b1fa8e53bd6e514d4a41a181125d405a501c215cbdbd6/scipy-1.1.0-cp37-cp37m-manylinux1_x86_64.whl (31.2MB)\n",
      "Collecting numpy==1.15.4\n",
      "  Downloading https://files.pythonhosted.org/packages/38/39/f73e104d44f19a6203e786d5204532e214443ea2954917b27f3229e7639b/numpy-1.15.4-cp37-cp37m-manylinux1_x86_64.whl (13.8MB)\n",
      "Collecting scikit-learn==0.20.1\n",
      "  Downloading https://files.pythonhosted.org/packages/b0/3a/0802b78f697ae04ba06f49d0ebc6e872f2c470687c3e61ad8ef523e125c3/scikit_learn-0.20.1-cp37-cp37m-manylinux1_x86_64.whl (5.4MB)\n",
      "Collecting pandas==0.23.4\n",
      "  Downloading https://files.pythonhosted.org/packages/67/a7/12261a51ac2e7be4c698ca27cbe364ca5f16d64999456ee47ea8c7b44417/pandas-0.23.4-cp37-cp37m-manylinux1_x86_64.whl (8.8MB)\n",
      "Collecting matplotlib==3.0.2\n",
      "  Downloading https://files.pythonhosted.org/packages/e7/f9/5377596cb1c035c102396f5934237a046f80da69974026f90bee5db8b7ba/matplotlib-3.0.2-cp37-cp37m-manylinux1_x86_64.whl (12.9MB)\n",
      "Collecting python-dateutil==2.7.5\n",
      "  Downloading https://files.pythonhosted.org/packages/74/68/d87d9b36af36f44254a8d512cbfc48369103a3b9e474be9bdfe536abfc45/python_dateutil-2.7.5-py2.py3-none-any.whl (225kB)\n",
      "Collecting six==1.12.0\n",
      "  Downloading https://files.pythonhosted.org/packages/73/fb/00a976f728d0d1fecfe898238ce23f502a721c0ac0ecfedb80e0d88c64e9/six-1.12.0-py2.py3-none-any.whl\n",
      "Collecting pyparsing==2.3.0\n",
      "  Downloading https://files.pythonhosted.org/packages/71/e8/6777f6624681c8b9701a8a0a5654f3eb56919a01a78e12bf3c73f5a3c714/pyparsing-2.3.0-py2.py3-none-any.whl (59kB)\n",
      "Collecting pytz==2018.7\n",
      "  Downloading https://files.pythonhosted.org/packages/f8/0e/2365ddc010afb3d79147f1dd544e5ee24bf4ece58ab99b16fbb465ce6dc0/pytz-2018.7-py2.py3-none-any.whl (506kB)\n",
      "Collecting kiwisolver==1.0.1\n",
      "  Downloading https://files.pythonhosted.org/packages/5c/7e/d6cae2f241ba474a2665f24b480bf4e247036d63939dda2bbc4d2ee5069d/kiwisolver-1.0.1-cp37-cp37m-manylinux1_x86_64.whl (89kB)\n",
      "Collecting cycler==0.10.0\n",
      "  Downloading https://files.pythonhosted.org/packages/f7/d2/e07d3ebb2bd7af696440ce7e754c59dd546ffe1bbe732c8ab68b9c834e61/cycler-0.10.0-py2.py3-none-any.whl\n",
      "Collecting spacy\n",
      "  Downloading https://files.pythonhosted.org/packages/91/76/1f30264c433f9c3c84171fa03f4b6bb5f3303df7781d21554d25045873f4/spacy-2.2.3-cp37-cp37m-manylinux1_x86_64.whl (10.4MB)\n",
      "Collecting scikit-image\n",
      "  Downloading https://files.pythonhosted.org/packages/dc/48/454bf836d302465475e02bc0468b879302145b07a005174c409a5b5869c7/scikit_image-0.16.2-cp37-cp37m-manylinux1_x86_64.whl (26.5MB)\n",
      "Collecting beautifulsoup4\n",
      "  Downloading https://files.pythonhosted.org/packages/cb/a1/c698cf319e9cfed6b17376281bd0efc6bfc8465698f54170ef60a485ab5d/beautifulsoup4-4.8.2-py3-none-any.whl (106kB)\n",
      "Collecting Pillow\n",
      "  Downloading https://files.pythonhosted.org/packages/f5/79/b2d5695d1a931474fa68b68ec93bdf08ba9acbc4d6b3b628eb6aac81d11c/Pillow-7.0.0-cp37-cp37m-manylinux1_x86_64.whl (2.1MB)\n",
      "Requirement already satisfied: requests in /usr/local/lib/python3.7/site-packages (from alibi==0.3.2->-r requirements-dev.txt (line 4)) (2.22.0)\n",
      "Collecting tensorflow<2.0\n",
      "  Downloading https://files.pythonhosted.org/packages/92/2b/e3af15221da9ff323521565fa3324b0d7c7c5b1d7a8ca66984c8d59cb0ce/tensorflow-1.15.0-cp37-cp37m-manylinux2010_x86_64.whl (412.3MB)\n",
      "Collecting creme\n",
      "  Downloading https://files.pythonhosted.org/packages/a2/0c/b45aa23907c33f91862f5a2760e86b2b59750ce485899156fb58c197baac/creme-0.4.4-cp37-cp37m-manylinux2010_x86_64.whl (1.2MB)\n",
      "Collecting tensorflow-probability>=0.8\n",
      "  Downloading https://files.pythonhosted.org/packages/f8/72/29ef1e5f386b65544d4e7002dfeca1e55b099ed182cd6d405c21a19ae259/tensorflow_probability-0.8.0-py2.py3-none-any.whl (2.5MB)\n",
      "Collecting fbprophet\n",
      "  Downloading https://files.pythonhosted.org/packages/33/fb/ad98d46773929079657706e6b2b6e366ba6c282bc2397d8f9b0ea8e5614c/fbprophet-0.5.tar.gz (49kB)\n",
      "Requirement already satisfied: Flask-OpenTracing<1.2.0,>=1.1.0 in /usr/local/lib/python3.7/site-packages (from seldon_core==1.0->-r requirements-dev.txt (line 6)) (1.1.0)\n",
      "Requirement already satisfied: jaeger-client<4.2.0,>=4.1.0 in /usr/local/lib/python3.7/site-packages (from seldon_core==1.0->-r requirements-dev.txt (line 6)) (4.1.0)\n",
      "Requirement already satisfied: setuptools>=41.0.0 in /usr/local/lib/python3.7/site-packages (from seldon_core==1.0->-r requirements-dev.txt (line 6)) (44.0.0)\n",
      "Requirement already satisfied: grpcio-opentracing<1.2.0,>=1.1.4 in /usr/local/lib/python3.7/site-packages (from seldon_core==1.0->-r requirements-dev.txt (line 6)) (1.1.4)\n",
      "Requirement already satisfied: flatbuffers<2.0.0 in /usr/local/lib/python3.7/site-packages (from seldon_core==1.0->-r requirements-dev.txt (line 6)) (1.11)\n",
      "Requirement already satisfied: gunicorn<20.1.0,>=19.9.0 in /usr/local/lib/python3.7/site-packages (from seldon_core==1.0->-r requirements-dev.txt (line 6)) (20.0.0)\n",
      "Requirement already satisfied: redis<4.0.0 in /usr/local/lib/python3.7/site-packages (from seldon_core==1.0->-r requirements-dev.txt (line 6)) (3.3.11)\n",
      "Requirement already satisfied: minio<6.0.0,>=4.0.9 in /usr/local/lib/python3.7/site-packages (from seldon_core==1.0->-r requirements-dev.txt (line 6)) (5.0.5)\n",
      "Requirement already satisfied: grpcio<2.0.0 in /usr/local/lib/python3.7/site-packages (from seldon_core==1.0->-r requirements-dev.txt (line 6)) (1.25.0)\n",
      "Requirement already satisfied: azure-storage-blob<3.0.0,>=2.0.1 in /usr/local/lib/python3.7/site-packages (from seldon_core==1.0->-r requirements-dev.txt (line 6)) (2.1.0)\n",
      "Requirement already satisfied: opentracing<2.3.0,>=2.2.0 in /usr/local/lib/python3.7/site-packages (from seldon_core==1.0->-r requirements-dev.txt (line 6)) (2.2.0)\n",
      "Requirement already satisfied: pyaml<20.0.0 in /usr/local/lib/python3.7/site-packages (from seldon_core==1.0->-r requirements-dev.txt (line 6)) (19.4.1)\n",
      "Requirement already satisfied: Flask-cors<4.0.0 in /usr/local/lib/python3.7/site-packages (from seldon_core==1.0->-r requirements-dev.txt (line 6)) (3.0.8)\n",
      "Requirement already satisfied: protobuf<4.0.0 in /usr/local/lib/python3.7/site-packages (from seldon_core==1.0->-r requirements-dev.txt (line 6)) (3.10.0)\n",
      "Requirement already satisfied: Flask<2.0.0 in /usr/local/lib/python3.7/site-packages (from seldon_core==1.0->-r requirements-dev.txt (line 6)) (1.1.1)\n",
      "Collecting blis<0.5.0,>=0.4.0\n",
      "  Downloading https://files.pythonhosted.org/packages/0a/8c/f1b2aad385de78db151a6e9728026f311dee8bd480f2edc28a0175a543b6/blis-0.4.1-cp37-cp37m-manylinux1_x86_64.whl (3.7MB)\n",
      "Collecting thinc<7.4.0,>=7.3.0\n",
      "  Downloading https://files.pythonhosted.org/packages/32/53/d11d2faa6921e55c37ad2cd56b0866a9e6df647fb547cfb69a50059d759c/thinc-7.3.1-cp37-cp37m-manylinux1_x86_64.whl (2.2MB)\n",
      "Collecting srsly<1.1.0,>=0.1.0\n",
      "  Downloading https://files.pythonhosted.org/packages/19/be/3a87e39dd0a6ff11effe7b45c9b5790d8556bb135a855b985ce0ed24dd27/srsly-1.0.0-cp37-cp37m-manylinux1_x86_64.whl (185kB)\n",
      "Collecting catalogue<1.1.0,>=0.0.7\n",
      "  Downloading https://files.pythonhosted.org/packages/4b/4c/0e0fa8b1e193c1e09a6b72807ff4ca17c78f68f0c0f4459bc8043c66d649/catalogue-0.2.0-py2.py3-none-any.whl\n",
      "Collecting wasabi<1.1.0,>=0.4.0\n",
      "  Downloading https://files.pythonhosted.org/packages/9b/f5/01bc4156ac46c46297b6291ab438336ff66c096bd37e85f7381e6254f908/wasabi-0.5.0-py3-none-any.whl\n",
      "Collecting preshed<3.1.0,>=3.0.2\n",
      "  Downloading https://files.pythonhosted.org/packages/6c/5b/ae4da6230eb48df353b199f53532c8407d0e9eb6ed678d3d36fa75ac391c/preshed-3.0.2-cp37-cp37m-manylinux1_x86_64.whl (118kB)\n",
      "Collecting plac<1.2.0,>=0.9.6\n",
      "  Downloading https://files.pythonhosted.org/packages/86/85/40b8f66c2dd8f4fd9f09d59b22720cffecf1331e788b8a0cab5bafb353d1/plac-1.1.3-py2.py3-none-any.whl\n",
      "Collecting cymem<2.1.0,>=2.0.2\n",
      "  Downloading https://files.pythonhosted.org/packages/e1/79/6ce05ecf4d50344e29749ea7db7ddf427589228fb8fe89b29718c38c27c5/cymem-2.0.3-cp37-cp37m-manylinux1_x86_64.whl\n",
      "Collecting murmurhash<1.1.0,>=0.28.0\n",
      "  Downloading https://files.pythonhosted.org/packages/73/fc/10eeacb926ec1e88cd62f79d9ac106b0a3e3fe5ff1690422d88c29bd0909/murmurhash-1.0.2-cp37-cp37m-manylinux1_x86_64.whl\n",
      "Collecting networkx>=2.0\n",
      "  Downloading https://files.pythonhosted.org/packages/41/8f/dd6a8e85946def36e4f2c69c84219af0fa5e832b018c970e92f2ad337e45/networkx-2.4-py3-none-any.whl (1.6MB)\n",
      "Collecting PyWavelets>=0.4.0\n",
      "  Downloading https://files.pythonhosted.org/packages/62/bd/592c7242fdd1218a96431512e77265c50812315ef72570ace85e1cfae298/PyWavelets-1.1.1-cp37-cp37m-manylinux1_x86_64.whl (4.4MB)\n",
      "Collecting imageio>=2.3.0\n",
      "  Downloading https://files.pythonhosted.org/packages/1a/de/f7f985018f462ceeffada7f6e609919fbcc934acd9301929cba14bc2c24a/imageio-2.6.1-py3-none-any.whl (3.3MB)\n",
      "Collecting soupsieve>=1.2\n",
      "  Downloading https://files.pythonhosted.org/packages/81/94/03c0f04471fc245d08d0a99f7946ac228ca98da4fa75796c507f61e688c2/soupsieve-1.9.5-py2.py3-none-any.whl\n",
      "Requirement already satisfied: certifi>=2017.4.17 in /usr/local/lib/python3.7/site-packages (from requests->alibi==0.3.2->-r requirements-dev.txt (line 4)) (2019.9.11)\n",
      "Requirement already satisfied: idna<2.9,>=2.5 in /usr/local/lib/python3.7/site-packages (from requests->alibi==0.3.2->-r requirements-dev.txt (line 4)) (2.8)\n",
      "Requirement already satisfied: urllib3!=1.25.0,!=1.25.1,<1.26,>=1.21.1 in /usr/local/lib/python3.7/site-packages (from requests->alibi==0.3.2->-r requirements-dev.txt (line 4)) (1.25.7)\n",
      "Requirement already satisfied: chardet<3.1.0,>=3.0.2 in /usr/local/lib/python3.7/site-packages (from requests->alibi==0.3.2->-r requirements-dev.txt (line 4)) (3.0.4)\n",
      "Collecting keras-preprocessing>=1.0.5\n",
      "  Downloading https://files.pythonhosted.org/packages/28/6a/8c1f62c37212d9fc441a7e26736df51ce6f0e38455816445471f10da4f0a/Keras_Preprocessing-1.1.0-py2.py3-none-any.whl (41kB)\n",
      "Requirement already satisfied: wheel>=0.26 in /usr/local/lib/python3.7/site-packages (from tensorflow<2.0->alibi==0.3.2->-r requirements-dev.txt (line 4)) (0.33.1)\n",
      "Collecting keras-applications>=1.0.8\n",
      "  Downloading https://files.pythonhosted.org/packages/71/e3/19762fdfc62877ae9102edf6342d71b28fbfd9dea3d2f96a882ce099b03f/Keras_Applications-1.0.8-py3-none-any.whl (50kB)\n",
      "Collecting absl-py>=0.7.0\n",
      "  Downloading https://files.pythonhosted.org/packages/1a/53/9243c600e047bd4c3df9e69cfabc1e8004a82cac2e0c484580a78a94ba2a/absl-py-0.9.0.tar.gz (104kB)\n",
      "Collecting termcolor>=1.1.0\n",
      "  Downloading https://files.pythonhosted.org/packages/8a/48/a76be51647d0eb9f10e2a4511bf3ffb8cc1e6b14e9e4fab46173aa79f981/termcolor-1.1.0.tar.gz\n",
      "Collecting opt-einsum>=2.3.2\n",
      "  Downloading https://files.pythonhosted.org/packages/b8/83/755bd5324777875e9dff19c2e59daec837d0378c09196634524a3d7269ac/opt_einsum-3.1.0.tar.gz (69kB)\n",
      "Collecting tensorboard<1.16.0,>=1.15.0\n",
      "  Downloading https://files.pythonhosted.org/packages/1e/e9/d3d747a97f7188f48aa5eda486907f3b345cd409f0a0850468ba867db246/tensorboard-1.15.0-py3-none-any.whl (3.8MB)\n",
      "Collecting wrapt>=1.11.1\n",
      "  Downloading https://files.pythonhosted.org/packages/23/84/323c2415280bc4fc880ac5050dddfb3c8062c2552b34c2e512eb4aa68f79/wrapt-1.11.2.tar.gz\n",
      "Collecting google-pasta>=0.1.6\n",
      "  Downloading https://files.pythonhosted.org/packages/c3/fd/1e86bc4837cc9a3a5faf3db9b1854aa04ad35b5f381f9648fbe81a6f94e4/google_pasta-0.1.8-py3-none-any.whl (57kB)\n",
      "Collecting astor>=0.6.0\n",
      "  Downloading https://files.pythonhosted.org/packages/c3/88/97eef84f48fa04fbd6750e62dcceafba6c63c81b7ac1420856c8dcc0a3f9/astor-0.8.1-py2.py3-none-any.whl\n",
      "Collecting gast==0.2.2\n",
      "  Downloading https://files.pythonhosted.org/packages/4e/35/11749bf99b2d4e3cceb4d55ca22590b0d7c2c62b9de38ac4a4a7f4687421/gast-0.2.2.tar.gz\n",
      "Collecting tensorflow-estimator==1.15.1\n",
      "  Downloading https://files.pythonhosted.org/packages/de/62/2ee9cd74c9fa2fa450877847ba560b260f5d0fb70ee0595203082dafcc9d/tensorflow_estimator-1.15.1-py2.py3-none-any.whl (503kB)\n",
      "Collecting decorator\n",
      "  Downloading https://files.pythonhosted.org/packages/8f/b7/f329cfdc75f3d28d12c65980e4469e2fa373f1953f5df6e370e84ea2e875/decorator-4.4.1-py2.py3-none-any.whl\n",
      "Collecting cloudpickle==1.1.1\n",
      "  Downloading https://files.pythonhosted.org/packages/24/fb/4f92f8c0f40a0d728b4f3d5ec5ff84353e705d8ff5e3e447620ea98b06bd/cloudpickle-1.1.1-py2.py3-none-any.whl\n",
      "Collecting Cython>=0.22\n",
      "  Downloading https://files.pythonhosted.org/packages/d8/58/2deb24de3c10cc4c0f09639b46f4f4b50059f0fdc785128a57dd9fdce026/Cython-0.29.14-cp37-cp37m-manylinux1_x86_64.whl (2.1MB)\n",
      "Collecting pystan>=2.14\n",
      "  Downloading https://files.pythonhosted.org/packages/9f/cc/4e88a34a015aa7aa459220bd18429f3ac6b15c703465fc7c411989f04ccc/pystan-2.19.1.1-cp37-cp37m-manylinux1_x86_64.whl (67.3MB)\n",
      "Collecting lunardate>=0.1.5\n",
      "  Downloading https://files.pythonhosted.org/packages/4e/7e/377a3cbba646ec0cf79433ef858881d809a3b87eb887b0901cb83c66a758/lunardate-0.2.0-py3-none-any.whl\n",
      "Collecting convertdate>=2.1.2\n",
      "  Downloading https://files.pythonhosted.org/packages/c9/f8/02a18000b0fbfd714f78aa16359796727a181e80f679682e3f62771a5c23/convertdate-2.2.0-py3-none-any.whl\n",
      "Collecting holidays>=0.9.5\n",
      "  Downloading https://files.pythonhosted.org/packages/51/2c/5289263b6bb3a1ac51ddfd1f631947e2636ad9ebe8ac5e88ec37bceffc11/holidays-0.9.12.tar.gz (85kB)\n",
      "Collecting setuptools-git>=1.2\n",
      "  Downloading https://files.pythonhosted.org/packages/05/97/dd99fa9c0d9627a7b3c103a00f1566d8193aca8d473884ed258cca82b06f/setuptools_git-1.2-py2.py3-none-any.whl\n",
      "Requirement already satisfied: threadloop<2,>=1 in /usr/local/lib/python3.7/site-packages (from jaeger-client<4.2.0,>=4.1.0->seldon_core==1.0->-r requirements-dev.txt (line 6)) (1.0.2)\n",
      "Requirement already satisfied: tornado<6,>=4.3 in /usr/local/lib/python3.7/site-packages (from jaeger-client<4.2.0,>=4.1.0->seldon_core==1.0->-r requirements-dev.txt (line 6)) (5.1.1)\n",
      "Requirement already satisfied: thrift in /usr/local/lib/python3.7/site-packages (from jaeger-client<4.2.0,>=4.1.0->seldon_core==1.0->-r requirements-dev.txt (line 6)) (0.13.0)\n",
      "Requirement already satisfied: azure-common>=1.1.5 in /usr/local/lib/python3.7/site-packages (from azure-storage-blob<3.0.0,>=2.0.1->seldon_core==1.0->-r requirements-dev.txt (line 6)) (1.1.23)\n",
      "Requirement already satisfied: azure-storage-common~=2.1 in /usr/local/lib/python3.7/site-packages (from azure-storage-blob<3.0.0,>=2.0.1->seldon_core==1.0->-r requirements-dev.txt (line 6)) (2.1.0)\n",
      "Requirement already satisfied: PyYAML in /usr/local/lib/python3.7/site-packages (from pyaml<20.0.0->seldon_core==1.0->-r requirements-dev.txt (line 6)) (5.1.2)\n",
      "Requirement already satisfied: Werkzeug>=0.15 in /usr/local/lib/python3.7/site-packages (from Flask<2.0.0->seldon_core==1.0->-r requirements-dev.txt (line 6)) (0.16.0)\n",
      "Requirement already satisfied: click>=5.1 in /usr/local/lib/python3.7/site-packages (from Flask<2.0.0->seldon_core==1.0->-r requirements-dev.txt (line 6)) (7.0)\n",
      "Requirement already satisfied: itsdangerous>=0.24 in /usr/local/lib/python3.7/site-packages (from Flask<2.0.0->seldon_core==1.0->-r requirements-dev.txt (line 6)) (1.1.0)\n",
      "Requirement already satisfied: Jinja2>=2.10.1 in /usr/local/lib/python3.7/site-packages (from Flask<2.0.0->seldon_core==1.0->-r requirements-dev.txt (line 6)) (2.10.3)\n",
      "Collecting tqdm<5.0.0,>=4.10.0\n",
      "  Downloading https://files.pythonhosted.org/packages/72/c9/7fc20feac72e79032a7c8138fd0d395dc6d8812b5b9edf53c3afd0b31017/tqdm-4.41.1-py2.py3-none-any.whl (56kB)\n",
      "Collecting importlib-metadata>=0.20; python_version < \"3.8\"\n",
      "  Downloading https://files.pythonhosted.org/packages/e9/71/1a1e0ed0981bb6a67bce55a210f168126b7ebd2065958673797ea66489ca/importlib_metadata-1.3.0-py2.py3-none-any.whl\n",
      "Collecting h5py\n",
      "  Downloading https://files.pythonhosted.org/packages/3f/c0/abde58b837e066bca19a3f7332d9d0493521d7dd6b48248451a9e3fe2214/h5py-2.10.0-cp37-cp37m-manylinux1_x86_64.whl (2.9MB)\n",
      "Collecting markdown>=2.6.8\n",
      "  Downloading https://files.pythonhosted.org/packages/c0/4e/fd492e91abdc2d2fcb70ef453064d980688762079397f779758e055f6575/Markdown-3.1.1-py2.py3-none-any.whl (87kB)\n",
      "Collecting pymeeus<=1,>=0.3.6\n",
      "  Downloading https://files.pythonhosted.org/packages/a3/78/6aef07082e4f4ebc9ce7b86ec0560e1b12f21d90f7a5706dc341b3538c49/PyMeeus-0.3.6.tar.gz (736kB)\n",
      "Requirement already satisfied: cryptography in /usr/local/lib/python3.7/site-packages (from azure-storage-common~=2.1->azure-storage-blob<3.0.0,>=2.0.1->seldon_core==1.0->-r requirements-dev.txt (line 6)) (2.8)\n",
      "Requirement already satisfied: MarkupSafe>=0.23 in /usr/local/lib/python3.7/site-packages (from Jinja2>=2.10.1->Flask<2.0.0->seldon_core==1.0->-r requirements-dev.txt (line 6)) (1.1.1)\n",
      "Collecting zipp>=0.5\n",
      "  Downloading https://files.pythonhosted.org/packages/74/3d/1ee25a26411ba0401b43c6376d2316a71addcc72ef8690b101b4ea56d76a/zipp-0.6.0-py2.py3-none-any.whl\n",
      "Requirement already satisfied: cffi!=1.11.3,>=1.8 in /usr/local/lib/python3.7/site-packages (from cryptography->azure-storage-common~=2.1->azure-storage-blob<3.0.0,>=2.0.1->seldon_core==1.0->-r requirements-dev.txt (line 6)) (1.13.2)\n",
      "Collecting more-itertools\n",
      "  Downloading https://files.pythonhosted.org/packages/68/03/0604cec1ea13c9f063dd50f900d1a36160334dd3cfb01fd0e638f61b46ba/more_itertools-8.0.2-py3-none-any.whl (40kB)\n",
      "Requirement already satisfied: pycparser in /usr/local/lib/python3.7/site-packages (from cffi!=1.11.3,>=1.8->cryptography->azure-storage-common~=2.1->azure-storage-blob<3.0.0,>=2.0.1->seldon_core==1.0->-r requirements-dev.txt (line 6)) (2.19)\n",
      "Building wheels for collected packages: dill, fbprophet, absl-py, termcolor, opt-einsum, wrapt, gast, holidays, pymeeus\n",
      "  Building wheel for dill (setup.py): started\n",
      "  Building wheel for dill (setup.py): finished with status 'done'\n",
      "  Created wheel for dill: filename=dill-0.3.1.dev0-cp37-none-any.whl size=78553 sha256=e2abb45fb4ff8292a95f01c56c38eef04473b482b53281d3ed267a48cbc8fb34\n",
      "  Stored in directory: /root/.cache/pip/wheels/b6/26/8f/152327a2b78a0c2c3166e5d20d331bd4fb1272e810836fed76\n",
      "  Building wheel for fbprophet (setup.py): started\n",
      "  Building wheel for fbprophet (setup.py): finished with status 'error'\n",
      "\u001b[91m  ERROR: Command errored out with exit status 1:\n",
      "   command: /usr/local/bin/python -u -c 'import sys, setuptools, tokenize; sys.argv[0] = '\"'\"'/tmp/pip-install-cjc8hsds/fbprophet/setup.py'\"'\"'; __file__='\"'\"'/tmp/pip-install-cjc8hsds/fbprophet/setup.py'\"'\"';f=getattr(tokenize, '\"'\"'open'\"'\"', open)(__file__);code=f.read().replace('\"'\"'\\r\\n'\"'\"', '\"'\"'\\n'\"'\"');f.close();exec(compile(code, __file__, '\"'\"'exec'\"'\"'))' bdist_wheel -d /tmp/pip-wheel-b5yzlaca --python-tag cp37\n",
      "       cwd: /tmp/pip-install-cjc8hsds/fbprophet/\n",
      "  Complete output (36 lines):\n",
      "  running bdist_wheel\n",
      "  running build\n",
      "  running build_py\n",
      "  creating build\n",
      "  creating build/lib\n",
      "  creating build/lib/fbprophet\n",
      "  creating build/lib/fbprophet/stan_model\n",
      "  Traceback (most recent call last):\n",
      "    File \"<string>\", line 1, in <module>\n",
      "    File \"/tmp/pip-install-cjc8hsds/fbprophet/setup.py\", line 120, in <module>\n",
      "      \"\"\"\n",
      "    File \"/usr/local/lib/python3.7/site-packages/setuptools/__init__.py\", line 145, in setup\n",
      "      return distutils.core.setup(**attrs)\n",
      "    File \"/usr/local/lib/python3.7/distutils/core.py\", line 148, in setup\n",
      "      dist.run_commands()\n",
      "    File \"/usr/local/lib/python3.7/distutils/dist.py\", line 966, in run_commands\n",
      "      self.run_command(cmd)\n",
      "    File \"/usr/local/lib/python3.7/distutils/dist.py\", line 985, in run_command\n",
      "      cmd_obj.run()\n",
      "    File \"/usr/local/lib/python3.7/site-packages/wheel/bdist_wheel.py\", line 192, in run\n",
      "      self.run_command('build')\n",
      "    File \"/usr/local/lib/python3.7/distutils/cmd.py\", line 313, in run_command\n",
      "      self.distribution.run_command(command)\n",
      "    File \"/usr/local/lib/python3.7/distutils/dist.py\", line 985, in run_command\n",
      "      cmd_obj.run()\n",
      "    File \"/usr/local/lib/python3.7/distutils/command/build.py\", line 135, in run\n",
      "      self.run_command(cmd_name)\n",
      "    File \"/usr/local/lib/python3.7/distutils/cmd.py\", line 313, in run_command\n",
      "      self.distribution.run_command(command)\n",
      "    File \"/usr/local/lib/python3.7/distutils/dist.py\", line 985, in run_command\n",
      "      cmd_obj.run()\n",
      "    File \"/tmp/pip-install-cjc8hsds/fbprophet/setup.py\", line 44, in run\n",
      "      build_stan_model(target_dir)\n",
      "    File \"/tmp/pip-install-cjc8hsds/fbprophet/setup.py\", line 27, in build_stan_model\n",
      "      from pystan import StanModel\n",
      "  ModuleNotFoundError: No module named 'pystan'\n",
      "  ----------------------------------------\n",
      "\u001b[0m\u001b[91m  ERROR: Failed building wheel for fbprophet\n",
      "\u001b[0m  Running setup.py clean for fbprophet\n",
      "  Building wheel for absl-py (setup.py): started\n",
      "  Building wheel for absl-py (setup.py): finished with status 'done'\n",
      "  Created wheel for absl-py: filename=absl_py-0.9.0-cp37-none-any.whl size=121932 sha256=afbcbbc3da143a2d9bd5fc2be76b9aabc27a709ee419cecc187e6ead0542f67d\n",
      "  Stored in directory: /root/.cache/pip/wheels/8e/28/49/fad4e7f0b9a1227708cbbee4487ac8558a7334849cb81c813d\n",
      "  Building wheel for termcolor (setup.py): started\n",
      "  Building wheel for termcolor (setup.py): finished with status 'done'\n",
      "  Created wheel for termcolor: filename=termcolor-1.1.0-cp37-none-any.whl size=4833 sha256=9cdc68de1a3369690d86ea33ad953bcda7c3d48f01360dcdd47d469504af676b\n",
      "  Stored in directory: /root/.cache/pip/wheels/7c/06/54/bc84598ba1daf8f970247f550b175aaaee85f68b4b0c5ab2c6\n",
      "  Building wheel for opt-einsum (setup.py): started\n",
      "  Building wheel for opt-einsum (setup.py): finished with status 'done'\n",
      "  Created wheel for opt-einsum: filename=opt_einsum-3.1.0-cp37-none-any.whl size=61682 sha256=ae201f6b0abb4a6fd94c6042fff14b0c177a02837d90e1a3d69b68a87e5733c7\n",
      "  Stored in directory: /root/.cache/pip/wheels/2c/b1/94/43d03e130b929aae7ba3f8d15cbd7bc0d1cb5bb38a5c721833\n",
      "  Building wheel for wrapt (setup.py): started\n",
      "  Building wheel for wrapt (setup.py): finished with status 'done'\n",
      "  Created wheel for wrapt: filename=wrapt-1.11.2-cp37-cp37m-linux_x86_64.whl size=71292 sha256=ad456ed26915f877d79d6a586688f73c9220d37bbb565f2468f2f55515112022\n",
      "  Stored in directory: /root/.cache/pip/wheels/d7/de/2e/efa132238792efb6459a96e85916ef8597fcb3d2ae51590dfd\n",
      "  Building wheel for gast (setup.py): started\n",
      "  Building wheel for gast (setup.py): finished with status 'done'\n",
      "  Created wheel for gast: filename=gast-0.2.2-cp37-none-any.whl size=7540 sha256=af553172d5dd7ca6085f792d262171e25e5ad1f4d84c28e37eb6b73207803c92\n",
      "  Stored in directory: /root/.cache/pip/wheels/5c/2e/7e/a1d4d4fcebe6c381f378ce7743a3ced3699feb89bcfbdadadd\n",
      "  Building wheel for holidays (setup.py): started\n",
      "  Building wheel for holidays (setup.py): finished with status 'done'\n",
      "  Created wheel for holidays: filename=holidays-0.9.12-cp37-none-any.whl size=47610 sha256=ec32dccfcb6223bb2dc62b1121c388b5cfc16cbd383ba457f7f21090ec0ad879\n",
      "  Stored in directory: /root/.cache/pip/wheels/1f/fd/3a/f29866dc23dada18f25e9837477c82bbd7952aeef86fa46f11\n",
      "  Building wheel for pymeeus (setup.py): started\n",
      "  Building wheel for pymeeus (setup.py): finished with status 'done'\n",
      "  Created wheel for pymeeus: filename=PyMeeus-0.3.6-cp37-none-any.whl size=702823 sha256=7cd95798c04434c84aac3858fd61bd82a75ee75450b4b058613f23cb99cff54c\n",
      "  Stored in directory: /root/.cache/pip/wheels/d6/a7/fd/a3cc8df9eb57b13a7e8935c406627e3d7f41cd511010b02e9c\n",
      "Successfully built dill absl-py termcolor opt-einsum wrapt gast holidays pymeeus\n",
      "Failed to build fbprophet\n",
      "\u001b[91mERROR: tensorflow 1.15.0 has requirement numpy<2.0,>=1.16.0, but you'll have numpy 1.15.4 which is incompatible.\n",
      "\u001b[0m\u001b[91mERROR: creme 0.4.4 has requirement numpy>=1.16.4, but you'll have numpy 1.15.4 which is incompatible.\n",
      "\u001b[0m\u001b[91mERROR: creme 0.4.4 has requirement scikit-learn>=0.21.2, but you'll have scikit-learn 0.20.1 which is incompatible.\n",
      "\u001b[0m\u001b[91mERROR: creme 0.4.4 has requirement scipy>=1.3.0, but you'll have scipy 1.1.0 which is incompatible.\n",
      "\u001b[0m\u001b[91mERROR: alibi-detect 0.2.0 has requirement tensorflow>=2, but you'll have tensorflow 1.15.0 which is incompatible.\n",
      "\u001b[0mInstalling collected packages: dill, numpy, pytz, six, python-dateutil, pandas, scipy, cycler, kiwisolver, pyparsing, matplotlib, scikit-learn, xai, blis, tqdm, srsly, wasabi, cymem, murmurhash, preshed, plac, thinc, more-itertools, zipp, importlib-metadata, catalogue, spacy, decorator, networkx, Pillow, PyWavelets, imageio, scikit-image, soupsieve, beautifulsoup4, keras-preprocessing, h5py, keras-applications, absl-py, termcolor, opt-einsum, markdown, tensorboard, wrapt, google-pasta, astor, gast, tensorflow-estimator, tensorflow, alibi, creme, cloudpickle, tensorflow-probability, Cython, pystan, lunardate, pymeeus, convertdate, holidays, setuptools-git, fbprophet, alibi-detect, seldon-core\n",
      "  Found existing installation: numpy 1.17.4\n",
      "    Uninstalling numpy-1.17.4:\n",
      "      Successfully uninstalled numpy-1.17.4\n",
      "  Found existing installation: pytz 2019.3\n",
      "    Uninstalling pytz-2019.3:\n",
      "      Successfully uninstalled pytz-2019.3\n",
      "  Found existing installation: six 1.13.0\n",
      "    Uninstalling six-1.13.0:\n",
      "      Successfully uninstalled six-1.13.0\n",
      "  Found existing installation: python-dateutil 2.8.1\n",
      "    Uninstalling python-dateutil-2.8.1:\n",
      "      Successfully uninstalled python-dateutil-2.8.1\n",
      "    Running setup.py install for fbprophet: started\n",
      "    Running setup.py install for fbprophet: finished with status 'done'\n",
      "  Found existing installation: seldon-core 0.5.1\n",
      "    Uninstalling seldon-core-0.5.1:\n",
      "      Successfully uninstalled seldon-core-0.5.1\n",
      "Successfully installed Cython-0.29.14 Pillow-7.0.0 PyWavelets-1.1.1 absl-py-0.9.0 alibi-0.3.2 alibi-detect-0.2.0 astor-0.8.1 beautifulsoup4-4.8.2 blis-0.4.1 catalogue-0.2.0 cloudpickle-1.1.1 convertdate-2.2.0 creme-0.4.4 cycler-0.10.0 cymem-2.0.3 decorator-4.4.1 dill-0.3.1.dev0 fbprophet-0.5 gast-0.2.2 google-pasta-0.1.8 h5py-2.10.0 holidays-0.9.12 imageio-2.6.1 importlib-metadata-1.3.0 keras-applications-1.0.8 keras-preprocessing-1.1.0 kiwisolver-1.0.1 lunardate-0.2.0 markdown-3.1.1 matplotlib-3.0.2 more-itertools-8.0.2 murmurhash-1.0.2 networkx-2.4 numpy-1.15.4 opt-einsum-3.1.0 pandas-0.23.4 plac-1.1.3 preshed-3.0.2 pymeeus-0.3.6 pyparsing-2.3.0 pystan-2.19.1.1 python-dateutil-2.7.5 pytz-2018.7 scikit-image-0.16.2 scikit-learn-0.20.1 scipy-1.1.0 seldon-core-1.0.0 setuptools-git-1.2 six-1.12.0 soupsieve-1.9.5 spacy-2.2.3 srsly-1.0.0 tensorboard-1.15.0 tensorflow-1.15.0 tensorflow-estimator-1.15.1 tensorflow-probability-0.8.0 termcolor-1.1.0 thinc-7.3.1 tqdm-4.41.1 wasabi-0.5.0 wrapt-1.11.2 xai-0.0.5 zipp-0.6.0\n",
      "Removing intermediate container 00c556dbe335\n",
      " ---> caad41f85c56\n",
      "Successfully built caad41f85c56\n",
      "Successfully tagged seldon-core-outliers-base:0.1\n",
      "s2i build pipeline/loanclassifier seldon-core-outliers-base:0.1 loanclassifier:0.1\n",
      "---> Installing application source...\n",
      "Build completed successfully\n",
      "s2i build pipeline/outliersdetector seldon-core-outliers-base:0.1 outliersdetector:0.1\n",
      "---> Installing application source...\n",
      "Build completed successfully\n",
      "s2i build pipeline/combiner seldon-core-outliers-base:0.1 combiner:0.1\n",
      "---> Installing application source...\n",
      "Build completed successfully\n"
     ]
    }
   ],
   "source": [
    "!eval $(minikube docker-env) && make"
   ]
  },
  {
   "cell_type": "markdown",
   "metadata": {},
   "source": [
    "# Deploy your models separately\n",
    "\n",
    "Now, you can include your newly build containers as part of seldon deployment.\n",
    "\n",
    "First, we will create two separate deployments: `loanclassifier` and `outliersdetector`.\n",
    "Each of them will have their own separate endpoint and can be queried independently depending on your needs. "
   ]
  },
  {
   "cell_type": "markdown",
   "metadata": {},
   "source": [
    "### Deploy separate loanclassifier"
   ]
  },
  {
   "cell_type": "code",
   "execution_count": 25,
   "metadata": {},
   "outputs": [
    {
     "name": "stdout",
     "output_type": "stream",
     "text": [
      "\u001b[94mapiVersion\u001b[39;49;00m: machinelearning.seldon.io/v1alpha2\n",
      "\u001b[94mkind\u001b[39;49;00m: SeldonDeployment\n",
      "\u001b[94mmetadata\u001b[39;49;00m:\n",
      "  \u001b[94mlabels\u001b[39;49;00m:\n",
      "    \u001b[94mapp\u001b[39;49;00m: seldon\n",
      "  \u001b[94mname\u001b[39;49;00m: loanclassifier\n",
      "\u001b[94mspec\u001b[39;49;00m:\n",
      "  \u001b[94mname\u001b[39;49;00m: loanclassifier\n",
      "  \u001b[94mpredictors\u001b[39;49;00m:\n",
      "  - \u001b[94mcomponentSpecs\u001b[39;49;00m:\n",
      "    - \u001b[94mspec\u001b[39;49;00m:\n",
      "        \u001b[94mcontainers\u001b[39;49;00m:\n",
      "        - \u001b[94mimage\u001b[39;49;00m: loanclassifier:0.1\n",
      "          \u001b[94mname\u001b[39;49;00m: loanclassifier\n",
      "          \u001b[94menv\u001b[39;49;00m:\n",
      "          - \u001b[94mname\u001b[39;49;00m: SELDON_LOG_LEVEL\n",
      "            \u001b[94mvalue\u001b[39;49;00m: DEBUG\n",
      "    \u001b[94mgraph\u001b[39;49;00m:\n",
      "      \u001b[94mchildren\u001b[39;49;00m: []\n",
      "      \u001b[94mname\u001b[39;49;00m: loanclassifier\n",
      "      \u001b[94mtype\u001b[39;49;00m: MODEL\n",
      "      \u001b[94mendpoint\u001b[39;49;00m:\n",
      "        \u001b[94mtype\u001b[39;49;00m: REST\n",
      "    \u001b[94mname\u001b[39;49;00m: loanclassifier\n",
      "    \u001b[94mreplicas\u001b[39;49;00m: 1\n"
     ]
    }
   ],
   "source": [
    "!pygmentize pipeline/loanclassifier.yaml"
   ]
  },
  {
   "cell_type": "code",
   "execution_count": 26,
   "metadata": {},
   "outputs": [
    {
     "name": "stdout",
     "output_type": "stream",
     "text": [
      "seldondeployment.machinelearning.seldon.io/loanclassifier configured\n"
     ]
    }
   ],
   "source": [
    "!kubectl apply -f pipeline/loanclassifier.yaml"
   ]
  },
  {
   "cell_type": "markdown",
   "metadata": {},
   "source": [
    "### Deploy separate outliers detector"
   ]
  },
  {
   "cell_type": "code",
   "execution_count": 27,
   "metadata": {},
   "outputs": [
    {
     "name": "stdout",
     "output_type": "stream",
     "text": [
      "\u001b[94mapiVersion\u001b[39;49;00m: machinelearning.seldon.io/v1alpha2\n",
      "\u001b[94mkind\u001b[39;49;00m: SeldonDeployment\n",
      "\u001b[94mmetadata\u001b[39;49;00m:\n",
      "  \u001b[94mlabels\u001b[39;49;00m:\n",
      "    \u001b[94mapp\u001b[39;49;00m: seldon\n",
      "  \u001b[94mname\u001b[39;49;00m: outliersdetector\n",
      "\u001b[94mspec\u001b[39;49;00m:\n",
      "  \u001b[94mname\u001b[39;49;00m: outliersdetector\n",
      "  \u001b[94mpredictors\u001b[39;49;00m:\n",
      "  - \u001b[94mcomponentSpecs\u001b[39;49;00m:\n",
      "    - \u001b[94mspec\u001b[39;49;00m:\n",
      "        \u001b[94mcontainers\u001b[39;49;00m:\n",
      "        - \u001b[94mimage\u001b[39;49;00m: outliersdetector:0.1\n",
      "          \u001b[94mname\u001b[39;49;00m: outliersdetector\n",
      "          \u001b[94menv\u001b[39;49;00m:\n",
      "          - \u001b[94mname\u001b[39;49;00m: SELDON_LOG_LEVEL\n",
      "            \u001b[94mvalue\u001b[39;49;00m: DEBUG\n",
      "    \u001b[94mgraph\u001b[39;49;00m:\n",
      "      \u001b[94mchildren\u001b[39;49;00m: []\n",
      "      \u001b[94mname\u001b[39;49;00m: outliersdetector\n",
      "      \u001b[94mtype\u001b[39;49;00m: MODEL\n",
      "      \u001b[94mendpoint\u001b[39;49;00m:\n",
      "        \u001b[94mtype\u001b[39;49;00m: REST\n",
      "    \u001b[94mname\u001b[39;49;00m: outliersdetector\n",
      "    \u001b[94mreplicas\u001b[39;49;00m: 1\n"
     ]
    }
   ],
   "source": [
    "!pygmentize pipeline/outliersdetector.yaml"
   ]
  },
  {
   "cell_type": "code",
   "execution_count": 28,
   "metadata": {},
   "outputs": [
    {
     "name": "stdout",
     "output_type": "stream",
     "text": [
      "seldondeployment.machinelearning.seldon.io/outliersdetector configured\n"
     ]
    }
   ],
   "source": [
    "!kubectl apply -f pipeline/outliersdetector.yaml"
   ]
  },
  {
   "cell_type": "markdown",
   "metadata": {},
   "source": [
    "### View newly deployed Kubernetes pods"
   ]
  },
  {
   "cell_type": "code",
   "execution_count": 30,
   "metadata": {},
   "outputs": [
    {
     "name": "stdout",
     "output_type": "stream",
     "text": [
      "NAME                                                              READY   STATUS    RESTARTS   AGE\n",
      "ambassador-69b784f9d5-b444s                                       1/1     Running   1          14m\n",
      "ambassador-69b784f9d5-zkpbv                                       1/1     Running   1          14m\n",
      "ambassador-69b784f9d5-zx9w7                                       1/1     Running   1          14m\n",
      "loanclassifier-combined-combiner-graph-f931ba8-6b8645f8f9-h2hqj   4/4     Running   0          91s\n",
      "loanclassifier-loanclassifier-65e0c2e-7449f4d596-4xrhc            2/2     Running   0          91s\n",
      "outliersdetector-outliersdetector-1a4e53e-b5cd784df-c6rll         2/2     Running   0          91s\n"
     ]
    }
   ],
   "source": [
    "!kubectl get pods"
   ]
  },
  {
   "cell_type": "markdown",
   "metadata": {},
   "source": [
    "### Test deployed components\n",
    "**IMPORTANT:** If you are using minikube (instead of docker desktop) you have to forward the port first with:\n",
    "```\n",
    "kubectl port-forward svc/ambassador 8003:80\n",
    "```"
   ]
  },
  {
   "cell_type": "code",
   "execution_count": 31,
   "metadata": {},
   "outputs": [],
   "source": [
    "import json\n",
    "\n",
    "from seldon_core.seldon_client import SeldonClient\n",
    "from seldon_core.utils import get_data_from_proto"
   ]
  },
  {
   "cell_type": "code",
   "execution_count": 32,
   "metadata": {},
   "outputs": [
    {
     "name": "stdout",
     "output_type": "stream",
     "text": [
      "[[  46    5    4    2    8    4    4    0 2036    0   60    9]\n",
      " [  52    4    0    2    8    4    2    0    0    0   60    9]\n",
      " [  21    4    4    1    2    3    4    1    0    0   20    9]]\n"
     ]
    }
   ],
   "source": [
    "to_explain = X_test[:3]\n",
    "print(to_explain)"
   ]
  },
  {
   "cell_type": "code",
   "execution_count": 33,
   "metadata": {},
   "outputs": [
    {
     "data": {
      "text/plain": [
       "array([[0.9, 0.1],\n",
       "       [0.9, 0.1],\n",
       "       [1. , 0. ]])"
      ]
     },
     "execution_count": 33,
     "metadata": {},
     "output_type": "execute_result"
    }
   ],
   "source": [
    "sc = SeldonClient(\n",
    "    gateway=\"ambassador\", \n",
    "    deployment_name=\"loanclassifier\",\n",
    "    gateway_endpoint=\"localhost:8003\",\n",
    "    payload_type=\"ndarray\",\n",
    "    namespace=\"seldon\",\n",
    "    transport=\"rest\"\n",
    ")\n",
    "\n",
    "prediction = sc.predict(data=to_explain)\n",
    "get_data_from_proto(prediction.response)"
   ]
  },
  {
   "cell_type": "code",
   "execution_count": 34,
   "metadata": {},
   "outputs": [
    {
     "data": {
      "text/plain": [
       "array([0., 0., 0.])"
      ]
     },
     "execution_count": 34,
     "metadata": {},
     "output_type": "execute_result"
    }
   ],
   "source": [
    "sc = SeldonClient(\n",
    "    gateway=\"ambassador\", \n",
    "    deployment_name=\"outliersdetector\",\n",
    "    gateway_endpoint=\"localhost:8003\",\n",
    "    payload_type=\"ndarray\",\n",
    "    namespace=\"seldon\",\n",
    "    transport=\"rest\"\n",
    ")\n",
    "\n",
    "prediction = sc.predict(data=to_explain)\n",
    "get_data_from_proto(prediction.response)"
   ]
  },
  {
   "cell_type": "markdown",
   "metadata": {},
   "source": [
    "# Deploy loanclassifier and outliersdetector with combiner\n",
    "\n",
    "Another possibility is to use slightly more complicated graph with a `combiner` that will\n",
    "gather outputs from `loanclassifier` and `outliersdetector`.\n",
    "\n",
    "Please note that `loanclassifier` and `outliersdetector` are part of `loanclassifier-combined` graph and this deployment is independent from previous two.\n",
    "\n",
    "In this approach there is a single API endpoint that serves both functionalities."
   ]
  },
  {
   "cell_type": "code",
   "execution_count": 35,
   "metadata": {},
   "outputs": [
    {
     "name": "stdout",
     "output_type": "stream",
     "text": [
      "\u001b[34mimport\u001b[39;49;00m \u001b[04m\u001b[36mlogging\u001b[39;49;00m\n",
      "\u001b[34mimport\u001b[39;49;00m \u001b[04m\u001b[36mnumpy\u001b[39;49;00m \u001b[34mas\u001b[39;49;00m \u001b[04m\u001b[36mnp\u001b[39;49;00m\n",
      "\n",
      "\u001b[34mclass\u001b[39;49;00m \u001b[04m\u001b[32mCombiner\u001b[39;49;00m(\u001b[36mobject\u001b[39;49;00m):\n",
      "\n",
      "    \u001b[34mdef\u001b[39;49;00m \u001b[32maggregate\u001b[39;49;00m(\u001b[36mself\u001b[39;49;00m, X, features_names=[]):\n",
      "        logging.info(\u001b[33m\"\u001b[39;49;00m\u001b[33mInput: \u001b[39;49;00m\u001b[33m\"\u001b[39;49;00m + \u001b[36mstr\u001b[39;49;00m(X))\n",
      "        output = {\n",
      "            \u001b[33m\"\u001b[39;49;00m\u001b[33mloanclassifier\u001b[39;49;00m\u001b[33m\"\u001b[39;49;00m: X[\u001b[34m0\u001b[39;49;00m].tolist(),\n",
      "            \u001b[33m\"\u001b[39;49;00m\u001b[33moutliersdetector\u001b[39;49;00m\u001b[33m\"\u001b[39;49;00m: X[\u001b[34m1\u001b[39;49;00m].tolist(),\n",
      "        }\n",
      "        logging.info(\u001b[33m\"\u001b[39;49;00m\u001b[33mOutput: \u001b[39;49;00m\u001b[33m\"\u001b[39;49;00m + \u001b[36mstr\u001b[39;49;00m(output))\n",
      "        \u001b[34mreturn\u001b[39;49;00m output\n"
     ]
    }
   ],
   "source": [
    "!pygmentize pipeline/combiner/Combiner.py"
   ]
  },
  {
   "cell_type": "code",
   "execution_count": 36,
   "metadata": {},
   "outputs": [
    {
     "name": "stdout",
     "output_type": "stream",
     "text": [
      "\u001b[94mapiVersion\u001b[39;49;00m: machinelearning.seldon.io/v1alpha2\n",
      "\u001b[94mkind\u001b[39;49;00m: SeldonDeployment\n",
      "\u001b[94mmetadata\u001b[39;49;00m:\n",
      "  \u001b[94mlabels\u001b[39;49;00m:\n",
      "    \u001b[94mapp\u001b[39;49;00m: seldon\n",
      "  \u001b[94mname\u001b[39;49;00m: loanclassifier-combined\n",
      "\u001b[94mspec\u001b[39;49;00m:\n",
      "  \u001b[94mannotations\u001b[39;49;00m:\n",
      "    \u001b[94mproject_name\u001b[39;49;00m: Iris classification\n",
      "  \u001b[94mname\u001b[39;49;00m: loanclassifier-combined\n",
      "  \u001b[94mpredictors\u001b[39;49;00m:\n",
      "  - \u001b[94mcomponentSpecs\u001b[39;49;00m:\n",
      "    - \u001b[94mspec\u001b[39;49;00m:\n",
      "        \u001b[94mcontainers\u001b[39;49;00m:\n",
      "        - \u001b[94mimage\u001b[39;49;00m: loanclassifier:0.1\n",
      "          \u001b[94mname\u001b[39;49;00m: loanclassifier\n",
      "          \u001b[94menv\u001b[39;49;00m:\n",
      "          - \u001b[94mname\u001b[39;49;00m: SELDON_LOG_LEVEL\n",
      "            \u001b[94mvalue\u001b[39;49;00m: DEBUG\n",
      "        - \u001b[94mimage\u001b[39;49;00m: outliersdetector:0.1\n",
      "          \u001b[94mname\u001b[39;49;00m: outliersdetector\n",
      "          \u001b[94menv\u001b[39;49;00m:\n",
      "          - \u001b[94mname\u001b[39;49;00m: SELDON_LOG_LEVEL\n",
      "            \u001b[94mvalue\u001b[39;49;00m: DEBUG\n",
      "        - \u001b[94mimage\u001b[39;49;00m: combiner:0.1\n",
      "          \u001b[94mname\u001b[39;49;00m: combiner\n",
      "          \u001b[94menv\u001b[39;49;00m:\n",
      "          - \u001b[94mname\u001b[39;49;00m: SELDON_LOG_LEVEL\n",
      "            \u001b[94mvalue\u001b[39;49;00m: DEBUG\n",
      "    \u001b[94mgraph\u001b[39;49;00m:\n",
      "      \u001b[94mchildren\u001b[39;49;00m:\n",
      "      - \u001b[94mchildren\u001b[39;49;00m: []\n",
      "        \u001b[94mname\u001b[39;49;00m: loanclassifier\n",
      "        \u001b[94mtype\u001b[39;49;00m: MODEL\n",
      "        \u001b[94mendpoint\u001b[39;49;00m:\n",
      "          \u001b[94mtype\u001b[39;49;00m: REST\n",
      "      - \u001b[94mchildren\u001b[39;49;00m: []\n",
      "        \u001b[94mname\u001b[39;49;00m: outliersdetector\n",
      "        \u001b[94mtype\u001b[39;49;00m: MODEL\n",
      "        \u001b[94mendpoint\u001b[39;49;00m:\n",
      "          \u001b[94mtype\u001b[39;49;00m: REST\n",
      "      \u001b[94mendpoint\u001b[39;49;00m:\n",
      "        \u001b[94mtype\u001b[39;49;00m: REST\n",
      "      \u001b[94mname\u001b[39;49;00m: combiner\n",
      "      \u001b[94mtype\u001b[39;49;00m: COMBINER\n",
      "    \u001b[94mname\u001b[39;49;00m: combiner-graph\n",
      "    \u001b[94mreplicas\u001b[39;49;00m: 1\n"
     ]
    }
   ],
   "source": [
    "! pygmentize pipeline/combiner.yaml"
   ]
  },
  {
   "cell_type": "code",
   "execution_count": 37,
   "metadata": {},
   "outputs": [
    {
     "name": "stdout",
     "output_type": "stream",
     "text": [
      "seldondeployment.machinelearning.seldon.io/loanclassifier-combined configured\n"
     ]
    }
   ],
   "source": [
    "!kubectl apply -f pipeline/combiner.yaml"
   ]
  },
  {
   "cell_type": "code",
   "execution_count": 38,
   "metadata": {},
   "outputs": [
    {
     "name": "stdout",
     "output_type": "stream",
     "text": [
      "NAME                                                              READY   STATUS    RESTARTS   AGE\n",
      "ambassador-69b784f9d5-b444s                                       1/1     Running   1          15m\n",
      "ambassador-69b784f9d5-zkpbv                                       1/1     Running   1          15m\n",
      "ambassador-69b784f9d5-zx9w7                                       1/1     Running   1          15m\n",
      "loanclassifier-combined-combiner-graph-f931ba8-6b8645f8f9-h2hqj   4/4     Running   0          99s\n",
      "loanclassifier-loanclassifier-65e0c2e-7449f4d596-4xrhc            2/2     Running   0          99s\n",
      "outliersdetector-outliersdetector-1a4e53e-b5cd784df-c6rll         2/2     Running   0          99s\n"
     ]
    }
   ],
   "source": [
    "!kubectl get pods"
   ]
  },
  {
   "cell_type": "code",
   "execution_count": 39,
   "metadata": {},
   "outputs": [],
   "source": [
    "sc = SeldonClient(\n",
    "    gateway=\"ambassador\", \n",
    "    deployment_name=\"loanclassifier-combined\",\n",
    "    gateway_endpoint=\"localhost:8003\",\n",
    "    payload_type=\"ndarray\",\n",
    "    namespace=\"seldon\",\n",
    "    transport=\"rest\"\n",
    ")\n",
    "\n",
    "prediction = sc.predict(data=to_explain)\n",
    "output = get_data_from_proto(prediction.response)"
   ]
  },
  {
   "cell_type": "code",
   "execution_count": 40,
   "metadata": {},
   "outputs": [
    {
     "data": {
      "text/plain": [
       "meta {\n",
       "  puid: \"u1senpm46fnf6ejh73i8bpftau\"\n",
       "  routing {\n",
       "    key: \"combiner\"\n",
       "    value: -1\n",
       "  }\n",
       "  requestPath {\n",
       "    key: \"combiner\"\n",
       "    value: \"combiner:0.1\"\n",
       "  }\n",
       "  requestPath {\n",
       "    key: \"loanclassifier\"\n",
       "    value: \"loanclassifier:0.1\"\n",
       "  }\n",
       "  requestPath {\n",
       "    key: \"outliersdetector\"\n",
       "    value: \"outliersdetector:0.1\"\n",
       "  }\n",
       "}\n",
       "jsonData {\n",
       "  struct_value {\n",
       "    fields {\n",
       "      key: \"loanclassifier\"\n",
       "      value {\n",
       "        list_value {\n",
       "          values {\n",
       "            list_value {\n",
       "              values {\n",
       "                number_value: 0.9\n",
       "              }\n",
       "              values {\n",
       "                number_value: 0.1\n",
       "              }\n",
       "            }\n",
       "          }\n",
       "          values {\n",
       "            list_value {\n",
       "              values {\n",
       "                number_value: 0.9\n",
       "              }\n",
       "              values {\n",
       "                number_value: 0.1\n",
       "              }\n",
       "            }\n",
       "          }\n",
       "          values {\n",
       "            list_value {\n",
       "              values {\n",
       "                number_value: 1.0\n",
       "              }\n",
       "              values {\n",
       "                number_value: 0.0\n",
       "              }\n",
       "            }\n",
       "          }\n",
       "        }\n",
       "      }\n",
       "    }\n",
       "    fields {\n",
       "      key: \"outliersdetector\"\n",
       "      value {\n",
       "        list_value {\n",
       "          values {\n",
       "            number_value: 0.0\n",
       "          }\n",
       "          values {\n",
       "            number_value: 0.0\n",
       "          }\n",
       "          values {\n",
       "            number_value: 0.0\n",
       "          }\n",
       "        }\n",
       "      }\n",
       "    }\n",
       "  }\n",
       "}"
      ]
     },
     "execution_count": 40,
     "metadata": {},
     "output_type": "execute_result"
    }
   ],
   "source": [
    "prediction.response"
   ]
  },
  {
   "cell_type": "code",
   "execution_count": 41,
   "metadata": {},
   "outputs": [
    {
     "data": {
      "text/plain": [
       "[[0.9, 0.1], [0.9, 0.1], [1.0, 0.0]]"
      ]
     },
     "execution_count": 41,
     "metadata": {},
     "output_type": "execute_result"
    }
   ],
   "source": [
    "output['loanclassifier']"
   ]
  },
  {
   "cell_type": "code",
   "execution_count": 42,
   "metadata": {},
   "outputs": [
    {
     "data": {
      "text/plain": [
       "[0.0, 0.0, 0.0]"
      ]
     },
     "execution_count": 42,
     "metadata": {},
     "output_type": "execute_result"
    }
   ],
   "source": [
    "output['outliersdetector']"
   ]
  }
 ],
 "metadata": {
  "kernelspec": {
   "display_name": "Python 3",
   "language": "python",
   "name": "python3"
  },
  "language_info": {
   "codemirror_mode": {
    "name": "ipython",
    "version": 3
   },
   "file_extension": ".py",
   "mimetype": "text/x-python",
   "name": "python",
   "nbconvert_exporter": "python",
   "pygments_lexer": "ipython3",
   "version": "3.7.5"
  }
 },
 "nbformat": 4,
 "nbformat_minor": 4
}
