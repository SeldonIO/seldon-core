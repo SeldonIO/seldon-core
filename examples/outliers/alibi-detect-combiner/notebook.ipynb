{
 "cells": [
  {
   "cell_type": "markdown",
   "metadata": {},
   "source": [
    "# Seldon deployment of Alibi Outlier detector\n",
    "\n",
    "Tne objective of this tutorial is to build a \"loan approval\" classifier equiped with the outliers detector from [alibi-detect](https://github.com/SeldonIO/alibi-detect) package.\n",
    "The diagram of this tutorial is as follows:\n",
    "\n",
    "In this tutorial we will follow the following steps:\n",
    "\n",
    "1) Train and test model to predict loan approvals\n",
    "\n",
    "2) Train and test outliers detector\n",
    "\n",
    "3) Containerise and deploy your models\n",
    "\n",
    "4) Test your your new seldon deployment"
   ]
  },
  {
   "cell_type": "markdown",
   "metadata": {},
   "source": [
    "\n",
    "### Before you start\n",
    "Make sure you install the following dependencies, as they are critical for this example to work:\n",
    "\n",
    "* Helm v3.0.0+\n",
    "* A Kubernetes cluster running v1.13 or above (minkube / docker-for-windows work well if enough RAM)\n",
    "* kubectl v1.14+\n",
    "* ksonnet v0.13.1+\n",
    "* kfctl 0.5.1 - Please use this exact version as there are major changes every few months\n",
    "* Python 3.6+\n",
    "* Python DEV requirements (we'll install them below)\n",
    "\n",
    "You can follow this [notebook](../../../notebooks/seldon_core_setup.ipynb#Setup-Cluster) to setup your cluster.\n",
    "\n",
    "Let's get started! 🚀🔥 \n"
   ]
  },
  {
   "cell_type": "markdown",
   "metadata": {},
   "source": [
    "### Install Python dependencies\n",
    "\n",
    "In [requirements-dev](https://github.com/SeldonIO/seldon-core/blob/master/examples/outliers/alibi-detect-combiner/requirements-dev.txt) file you will find set of python dependencies required to run this notebook."
   ]
  },
  {
   "cell_type": "code",
   "execution_count": 1,
   "metadata": {},
   "outputs": [
    {
     "name": "stdout",
     "output_type": "stream",
     "text": [
      "dill==0.3.1\n",
      "xai==0.0.5\n",
      "\n",
      "alibi==0.3.2\n",
      "alibi-detect==0.2.0\n",
      "seldon_core==1.0\n",
      "\n",
      "scipy==1.1.0\n",
      "numpy==1.15.4\n",
      "scikit-learn==0.20.1\n"
     ]
    }
   ],
   "source": [
    "!cat requirements-dev.txt"
   ]
  },
  {
   "cell_type": "code",
   "execution_count": null,
   "metadata": {},
   "outputs": [],
   "source": [
    "!pip install -r requirements-dev.txt"
   ]
  },
  {
   "cell_type": "markdown",
   "metadata": {},
   "source": [
    "## Train and test loanclassifier\n",
    "\n",
    "We start with training the loanclassifier model by using a prepared python script [train_classifier](https://github.com/SeldonIO/seldon-core/blob/master/examples/outliers/alibi-detect-combiner/train_classifier.py):"
   ]
  },
  {
   "cell_type": "code",
   "execution_count": 2,
   "metadata": {},
   "outputs": [
    {
     "name": "stdout",
     "output_type": "stream",
     "text": [
      "\u001b[34mimport\u001b[39;49;00m \u001b[04m\u001b[36malibi\u001b[39;49;00m\n",
      "\u001b[34mimport\u001b[39;49;00m \u001b[04m\u001b[36mdill\u001b[39;49;00m\n",
      "\u001b[34mimport\u001b[39;49;00m \u001b[04m\u001b[36mnumpy\u001b[39;49;00m \u001b[34mas\u001b[39;49;00m \u001b[04m\u001b[36mnp\u001b[39;49;00m\n",
      "\n",
      "\u001b[34mfrom\u001b[39;49;00m \u001b[04m\u001b[36msklearn\u001b[39;49;00m\u001b[04m\u001b[36m.\u001b[39;49;00m\u001b[04m\u001b[36mpreprocessing\u001b[39;49;00m \u001b[34mimport\u001b[39;49;00m StandardScaler, OneHotEncoder\n",
      "\u001b[34mfrom\u001b[39;49;00m \u001b[04m\u001b[36msklearn\u001b[39;49;00m\u001b[04m\u001b[36m.\u001b[39;49;00m\u001b[04m\u001b[36mimpute\u001b[39;49;00m \u001b[34mimport\u001b[39;49;00m SimpleImputer\n",
      "\u001b[34mfrom\u001b[39;49;00m \u001b[04m\u001b[36msklearn\u001b[39;49;00m\u001b[04m\u001b[36m.\u001b[39;49;00m\u001b[04m\u001b[36mpipeline\u001b[39;49;00m \u001b[34mimport\u001b[39;49;00m Pipeline\n",
      "\u001b[34mfrom\u001b[39;49;00m \u001b[04m\u001b[36msklearn\u001b[39;49;00m\u001b[04m\u001b[36m.\u001b[39;49;00m\u001b[04m\u001b[36mcompose\u001b[39;49;00m \u001b[34mimport\u001b[39;49;00m ColumnTransformer\n",
      "\u001b[34mfrom\u001b[39;49;00m \u001b[04m\u001b[36msklearn\u001b[39;49;00m\u001b[04m\u001b[36m.\u001b[39;49;00m\u001b[04m\u001b[36mensemble\u001b[39;49;00m \u001b[34mimport\u001b[39;49;00m RandomForestClassifier\n",
      "\n",
      "\n",
      "DATA_DIR = \u001b[33m\"\u001b[39;49;00m\u001b[33mpipeline/loanclassifier\u001b[39;49;00m\u001b[33m\"\u001b[39;49;00m\n",
      "\n",
      "\n",
      "\u001b[34mdef\u001b[39;49;00m \u001b[32mload_data\u001b[39;49;00m(train_size=\u001b[34m30000\u001b[39;49;00m, random_state=\u001b[34m0\u001b[39;49;00m):\n",
      "    \u001b[33m\"\"\"Load example dataset and split between train and test datasets.\"\"\"\u001b[39;49;00m\n",
      "    \u001b[36mprint\u001b[39;49;00m(\u001b[33m\"\u001b[39;49;00m\u001b[33mLoading adult data from alibi.\u001b[39;49;00m\u001b[33m\"\u001b[39;49;00m)\n",
      "    np.random.seed(random_state)\n",
      "\n",
      "    data = alibi.datasets.fetch_adult()\n",
      "\n",
      "    \u001b[37m# mix input data\u001b[39;49;00m\n",
      "    data_perm = np.random.permutation(np.c_[data.data, data.target])\n",
      "    data.data = data_perm[:, :-\u001b[34m1\u001b[39;49;00m]\n",
      "    data.target = data_perm[:, -\u001b[34m1\u001b[39;49;00m]\n",
      "\n",
      "    \u001b[37m# perform train / test split\u001b[39;49;00m\n",
      "    X_train, y_train = data.data[:train_size, :], data.target[:train_size]\n",
      "    X_test, y_test = data.data[train_size:, :], data.target[train_size:]\n",
      "\n",
      "    \u001b[34mreturn\u001b[39;49;00m data, X_train, y_train, X_test, y_test\n",
      "\n",
      "\n",
      "\u001b[34mdef\u001b[39;49;00m \u001b[32mtrain_preprocessor\u001b[39;49;00m(data):\n",
      "    \u001b[33m\"\"\"Train preprocessor.\"\"\"\u001b[39;49;00m\n",
      "    \u001b[36mprint\u001b[39;49;00m(\u001b[33m\"\u001b[39;49;00m\u001b[33mTraining preprocessor.\u001b[39;49;00m\u001b[33m\"\u001b[39;49;00m)\n",
      "    \u001b[37m# TODO: ask if we need np.random.seed(...) here\u001b[39;49;00m\n",
      "\n",
      "    ordinal_features = [\n",
      "        n \u001b[34mfor\u001b[39;49;00m (n, _) \u001b[35min\u001b[39;49;00m \u001b[36menumerate\u001b[39;49;00m(data.feature_names)\n",
      "        \u001b[34mif\u001b[39;49;00m n \u001b[35mnot\u001b[39;49;00m \u001b[35min\u001b[39;49;00m data.category_map\n",
      "    ]\n",
      "\n",
      "    categorical_features = \u001b[36mlist\u001b[39;49;00m(data.category_map.keys())\n",
      "    ordinal_transformer = Pipeline(steps=[\n",
      "            (\u001b[33m'\u001b[39;49;00m\u001b[33mimputer\u001b[39;49;00m\u001b[33m'\u001b[39;49;00m, SimpleImputer(strategy=\u001b[33m'\u001b[39;49;00m\u001b[33mmedian\u001b[39;49;00m\u001b[33m'\u001b[39;49;00m)),\n",
      "            (\u001b[33m'\u001b[39;49;00m\u001b[33mscaler\u001b[39;49;00m\u001b[33m'\u001b[39;49;00m, StandardScaler())\n",
      "    ])\n",
      "\n",
      "    categorical_transformer = Pipeline(steps=[\n",
      "            (\u001b[33m'\u001b[39;49;00m\u001b[33mimputer\u001b[39;49;00m\u001b[33m'\u001b[39;49;00m, SimpleImputer(strategy=\u001b[33m'\u001b[39;49;00m\u001b[33mmedian\u001b[39;49;00m\u001b[33m'\u001b[39;49;00m)),\n",
      "            (\u001b[33m'\u001b[39;49;00m\u001b[33monehot\u001b[39;49;00m\u001b[33m'\u001b[39;49;00m, OneHotEncoder(handle_unknown=\u001b[33m'\u001b[39;49;00m\u001b[33mignore\u001b[39;49;00m\u001b[33m'\u001b[39;49;00m))\n",
      "        ])\n",
      "\n",
      "    preprocessor = ColumnTransformer(transformers=[\n",
      "        (\u001b[33m'\u001b[39;49;00m\u001b[33mnum\u001b[39;49;00m\u001b[33m'\u001b[39;49;00m, ordinal_transformer, ordinal_features),\n",
      "        (\u001b[33m'\u001b[39;49;00m\u001b[33mcat\u001b[39;49;00m\u001b[33m'\u001b[39;49;00m, categorical_transformer, categorical_features)\n",
      "    ])\n",
      "\n",
      "    preprocessor.fit(data.data)\n",
      "\n",
      "    \u001b[34mreturn\u001b[39;49;00m  preprocessor\n",
      "\n",
      "\n",
      "\u001b[34mdef\u001b[39;49;00m \u001b[32mtrain_model\u001b[39;49;00m(X_train, y_train, preprocessor):\n",
      "    \u001b[33m\"\"\"Train model.\"\"\"\u001b[39;49;00m\n",
      "    \u001b[36mprint\u001b[39;49;00m(\u001b[33m\"\u001b[39;49;00m\u001b[33mTraining model.\u001b[39;49;00m\u001b[33m\"\u001b[39;49;00m)\n",
      "    \u001b[37m# TODO: ask if we need np.random.seed(...) here\u001b[39;49;00m\n",
      "\n",
      "    clf = RandomForestClassifier(n_estimators=\u001b[34m50\u001b[39;49;00m)\n",
      "    clf.fit(preprocessor.transform(X_train), y_train)\n",
      "    \u001b[34mreturn\u001b[39;49;00m clf\n",
      "\n",
      "\n",
      "\u001b[34mdef\u001b[39;49;00m \u001b[32mserialize_pipeline\u001b[39;49;00m(preprocessor, clf):\n",
      "    \u001b[33m\"\"\"Serialize preprocessor and model.\"\"\"\u001b[39;49;00m\n",
      "    \u001b[36mprint\u001b[39;49;00m(\u001b[33m\"\u001b[39;49;00m\u001b[33mSerializing preprocessor and model.\u001b[39;49;00m\u001b[33m\"\u001b[39;49;00m)\n",
      "\n",
      "    \u001b[34mwith\u001b[39;49;00m \u001b[36mopen\u001b[39;49;00m(DATA_DIR + \u001b[33m\"\u001b[39;49;00m\u001b[33m/preprocessor.dill\u001b[39;49;00m\u001b[33m\"\u001b[39;49;00m, \u001b[33m\"\u001b[39;49;00m\u001b[33mwb\u001b[39;49;00m\u001b[33m\"\u001b[39;49;00m) \u001b[34mas\u001b[39;49;00m prep_f:\n",
      "        dill.dump(preprocessor, prep_f)\n",
      "\n",
      "    \u001b[34mwith\u001b[39;49;00m \u001b[36mopen\u001b[39;49;00m(DATA_DIR + \u001b[33m\"\u001b[39;49;00m\u001b[33m/model.dill\u001b[39;49;00m\u001b[33m\"\u001b[39;49;00m, \u001b[33m\"\u001b[39;49;00m\u001b[33mwb\u001b[39;49;00m\u001b[33m\"\u001b[39;49;00m) \u001b[34mas\u001b[39;49;00m model_f:\n",
      "        dill.dump(clf, model_f)\n",
      "\n",
      "\n",
      "\u001b[34mdef\u001b[39;49;00m \u001b[32mmain\u001b[39;49;00m():\n",
      "    data, X_train, y_train, X_test, y_test = load_data()\n",
      "    preprocessor = train_preprocessor(data)\n",
      "    clf = train_model(X_train, y_train, preprocessor)\n",
      "\n",
      "    serialize_pipeline(preprocessor, clf)\n",
      "    \u001b[34mreturn\u001b[39;49;00m preprocessor, clf, data, X_train, y_train, X_test, y_test\n",
      "\n",
      "\n",
      "\u001b[34mif\u001b[39;49;00m \u001b[31m__name__\u001b[39;49;00m == \u001b[33m\"\u001b[39;49;00m\u001b[33m__main__\u001b[39;49;00m\u001b[33m\"\u001b[39;49;00m:\n",
      "    main()\n"
     ]
    }
   ],
   "source": [
    "!pygmentize train_classifier.py"
   ]
  },
  {
   "cell_type": "code",
   "execution_count": 3,
   "metadata": {},
   "outputs": [
    {
     "name": "stdout",
     "output_type": "stream",
     "text": [
      "Loading adult data from alibi.\n",
      "Training preprocessor.\n",
      "Training model.\n",
      "Serializing preprocessor and model.\n"
     ]
    }
   ],
   "source": [
    "!python3 train_classifier.py"
   ]
  },
  {
   "cell_type": "markdown",
   "metadata": {},
   "source": [
    "This script creates two dill-serialized files `preprocess.dill` and `model.dill` that are used by the `Model` class to make prediction:"
   ]
  },
  {
   "cell_type": "code",
   "execution_count": 4,
   "metadata": {},
   "outputs": [
    {
     "name": "stdout",
     "output_type": "stream",
     "text": [
      "\u001b[34mimport\u001b[39;49;00m \u001b[04m\u001b[36mlogging\u001b[39;49;00m\n",
      "\u001b[34mimport\u001b[39;49;00m \u001b[04m\u001b[36mdill\u001b[39;49;00m\n",
      "\u001b[34mimport\u001b[39;49;00m \u001b[04m\u001b[36mos\u001b[39;49;00m\n",
      "\n",
      "\n",
      "dirname = os.path.dirname(\u001b[31m__file__\u001b[39;49;00m)\n",
      "\n",
      "\n",
      "\u001b[34mclass\u001b[39;49;00m \u001b[04m\u001b[32mModel\u001b[39;49;00m:\n",
      "\n",
      "    \u001b[34mdef\u001b[39;49;00m \u001b[32m__init__\u001b[39;49;00m(\u001b[36mself\u001b[39;49;00m, *args, **kwargs):\n",
      "        \u001b[33m\"\"\"Deserilize preprocessor and model.\"\"\"\u001b[39;49;00m\n",
      "        \u001b[34mwith\u001b[39;49;00m \u001b[36mopen\u001b[39;49;00m(os.path.join(dirname, \u001b[33m\"\u001b[39;49;00m\u001b[33mpreprocessor.dill\u001b[39;49;00m\u001b[33m\"\u001b[39;49;00m), \u001b[33m\"\u001b[39;49;00m\u001b[33mrb\u001b[39;49;00m\u001b[33m\"\u001b[39;49;00m) \u001b[34mas\u001b[39;49;00m prep_f:\n",
      "            \u001b[36mself\u001b[39;49;00m.preprocessor = dill.load(prep_f)\n",
      "        \u001b[34mwith\u001b[39;49;00m \u001b[36mopen\u001b[39;49;00m(os.path.join(dirname, \u001b[33m\"\u001b[39;49;00m\u001b[33mmodel.dill\u001b[39;49;00m\u001b[33m\"\u001b[39;49;00m), \u001b[33m\"\u001b[39;49;00m\u001b[33mrb\u001b[39;49;00m\u001b[33m\"\u001b[39;49;00m) \u001b[34mas\u001b[39;49;00m model_f:\n",
      "            \u001b[36mself\u001b[39;49;00m.clf = dill.load(model_f)\n",
      "\n",
      "    \u001b[34mdef\u001b[39;49;00m \u001b[32mpredict\u001b[39;49;00m(\u001b[36mself\u001b[39;49;00m, X, feature_names=[]):\n",
      "        \u001b[33m\"\"\"Run input X through loanclassifier model.\"\"\"\u001b[39;49;00m\n",
      "        logging.info(\u001b[33m\"\u001b[39;49;00m\u001b[33mInput: \u001b[39;49;00m\u001b[33m\"\u001b[39;49;00m + \u001b[36mstr\u001b[39;49;00m(X))\n",
      "\n",
      "        X_prep = \u001b[36mself\u001b[39;49;00m.preprocessor.transform(X)\n",
      "        output = \u001b[36mself\u001b[39;49;00m.clf.predict_proba(X_prep)\n",
      "\n",
      "        logging.info(\u001b[33m\"\u001b[39;49;00m\u001b[33mOutput: \u001b[39;49;00m\u001b[33m\"\u001b[39;49;00m + \u001b[36mstr\u001b[39;49;00m(output))\n",
      "        \u001b[34mreturn\u001b[39;49;00m output\n"
     ]
    }
   ],
   "source": [
    "!pygmentize pipeline/loanclassifier/Model.py"
   ]
  },
  {
   "cell_type": "markdown",
   "metadata": {},
   "source": [
    "We will in a moment contenrize this Model. You can test how it will work from the notebook:"
   ]
  },
  {
   "cell_type": "code",
   "execution_count": 5,
   "metadata": {},
   "outputs": [],
   "source": [
    "import sys; sys.path.append(\"pipeline/loanclassifier\")\n",
    "from Model import Model\n",
    "\n",
    "model = Model()"
   ]
  },
  {
   "cell_type": "code",
   "execution_count": 6,
   "metadata": {},
   "outputs": [
    {
     "name": "stdout",
     "output_type": "stream",
     "text": [
      "Loading adult data from alibi.\n"
     ]
    },
    {
     "data": {
      "text/html": [
       "<div>\n",
       "<style scoped>\n",
       "    .dataframe tbody tr th:only-of-type {\n",
       "        vertical-align: middle;\n",
       "    }\n",
       "\n",
       "    .dataframe tbody tr th {\n",
       "        vertical-align: top;\n",
       "    }\n",
       "\n",
       "    .dataframe thead th {\n",
       "        text-align: right;\n",
       "    }\n",
       "</style>\n",
       "<table border=\"1\" class=\"dataframe\">\n",
       "  <thead>\n",
       "    <tr style=\"text-align: right;\">\n",
       "      <th></th>\n",
       "      <th>target</th>\n",
       "    </tr>\n",
       "  </thead>\n",
       "  <tbody>\n",
       "    <tr>\n",
       "      <th>precision</th>\n",
       "      <td>0.704545</td>\n",
       "    </tr>\n",
       "    <tr>\n",
       "      <th>recall</th>\n",
       "      <td>0.658497</td>\n",
       "    </tr>\n",
       "    <tr>\n",
       "      <th>specificity</th>\n",
       "      <td>0.913289</td>\n",
       "    </tr>\n",
       "    <tr>\n",
       "      <th>accuracy</th>\n",
       "      <td>0.852401</td>\n",
       "    </tr>\n",
       "    <tr>\n",
       "      <th>auc</th>\n",
       "      <td>0.785893</td>\n",
       "    </tr>\n",
       "    <tr>\n",
       "      <th>f1</th>\n",
       "      <td>0.680743</td>\n",
       "    </tr>\n",
       "  </tbody>\n",
       "</table>\n",
       "</div>"
      ],
      "text/plain": [
       "               target\n",
       "precision    0.704545\n",
       "recall       0.658497\n",
       "specificity  0.913289\n",
       "accuracy     0.852401\n",
       "auc          0.785893\n",
       "f1           0.680743"
      ]
     },
     "execution_count": 6,
     "metadata": {},
     "output_type": "execute_result"
    },
    {
     "data": {
      "image/png": "[encoded data removed]",
      "text/plain": [
       "<Figure size 1440x360 with 1 Axes>"
      ]
     },
     "metadata": {
      "needs_background": "light"
     },
     "output_type": "display_data"
    }
   ],
   "source": [
    "import xai\n",
    "import numpy as np\n",
    "\n",
    "from train_classifier import load_data\n",
    "\n",
    "data, X_train, y_train, X_test, y_test = load_data()\n",
    "proba = model.predict(X_test)\n",
    "\n",
    "pred = np.argmax(proba, axis=1)\n",
    "xai.metrics_plot(y_test, pred)"
   ]
  },
  {
   "cell_type": "markdown",
   "metadata": {},
   "source": [
    "## Train and test outliers detector\n",
    "\n",
    "We will now train the outliers detector using another prepared script [train_detector](https://github.com/SeldonIO/seldon-core/blob/master/examples/outliers/alibi-detect-combiner/train_detector.py):"
   ]
  },
  {
   "cell_type": "code",
   "execution_count": 7,
   "metadata": {},
   "outputs": [
    {
     "name": "stdout",
     "output_type": "stream",
     "text": [
      "\u001b[34mimport\u001b[39;49;00m \u001b[04m\u001b[36mdill\u001b[39;49;00m\n",
      "\n",
      "\u001b[34mimport\u001b[39;49;00m \u001b[04m\u001b[36mnumpy\u001b[39;49;00m \u001b[34mas\u001b[39;49;00m \u001b[04m\u001b[36mnp\u001b[39;49;00m\n",
      "\n",
      "\u001b[34mfrom\u001b[39;49;00m \u001b[04m\u001b[36malibi_detect\u001b[39;49;00m\u001b[04m\u001b[36m.\u001b[39;49;00m\u001b[04m\u001b[36mod\u001b[39;49;00m \u001b[34mimport\u001b[39;49;00m IForest\n",
      "\u001b[34mfrom\u001b[39;49;00m \u001b[04m\u001b[36malibi_detect\u001b[39;49;00m\u001b[04m\u001b[36m.\u001b[39;49;00m\u001b[04m\u001b[36mutils\u001b[39;49;00m\u001b[04m\u001b[36m.\u001b[39;49;00m\u001b[04m\u001b[36mdata\u001b[39;49;00m \u001b[34mimport\u001b[39;49;00m create_outlier_batch\n",
      "\u001b[37m# from alibi_detect.utils.saving import save_detector, load_detector\u001b[39;49;00m\n",
      "\u001b[37m# from alibi_detect.utils.visualize import plot_instance_score\u001b[39;49;00m\n",
      "\n",
      "\u001b[34mfrom\u001b[39;49;00m \u001b[04m\u001b[36msklearn\u001b[39;49;00m\u001b[04m\u001b[36m.\u001b[39;49;00m\u001b[04m\u001b[36mpreprocessing\u001b[39;49;00m \u001b[34mimport\u001b[39;49;00m StandardScaler\n",
      "\u001b[34mfrom\u001b[39;49;00m \u001b[04m\u001b[36msklearn\u001b[39;49;00m\u001b[04m\u001b[36m.\u001b[39;49;00m\u001b[04m\u001b[36mimpute\u001b[39;49;00m \u001b[34mimport\u001b[39;49;00m SimpleImputer\n",
      "\u001b[34mfrom\u001b[39;49;00m \u001b[04m\u001b[36msklearn\u001b[39;49;00m\u001b[04m\u001b[36m.\u001b[39;49;00m\u001b[04m\u001b[36mpipeline\u001b[39;49;00m \u001b[34mimport\u001b[39;49;00m Pipeline\n",
      "\u001b[34mfrom\u001b[39;49;00m \u001b[04m\u001b[36msklearn\u001b[39;49;00m\u001b[04m\u001b[36m.\u001b[39;49;00m\u001b[04m\u001b[36mcompose\u001b[39;49;00m \u001b[34mimport\u001b[39;49;00m ColumnTransformer\n",
      "\n",
      "\u001b[34mfrom\u001b[39;49;00m \u001b[04m\u001b[36mtrain_classifier\u001b[39;49;00m \u001b[34mimport\u001b[39;49;00m load_data\n",
      "\n",
      "\n",
      "DATA_DIR = \u001b[33m\"\u001b[39;49;00m\u001b[33mpipeline/outliersdetector\u001b[39;49;00m\u001b[33m\"\u001b[39;49;00m\n",
      "\n",
      "\n",
      "\u001b[34mdef\u001b[39;49;00m \u001b[32mtrain_preprocessor\u001b[39;49;00m(data):\n",
      "    \u001b[33m\"\"\"Train preprocessor.\"\"\"\u001b[39;49;00m\n",
      "    \u001b[36mprint\u001b[39;49;00m(\u001b[33m\"\u001b[39;49;00m\u001b[33mTraining preprocessor.\u001b[39;49;00m\u001b[33m\"\u001b[39;49;00m)\n",
      "\n",
      "    ordinal_features = [\n",
      "        n \u001b[34mfor\u001b[39;49;00m (n, _) \u001b[35min\u001b[39;49;00m \u001b[36menumerate\u001b[39;49;00m(data.feature_names)\n",
      "        \u001b[34mif\u001b[39;49;00m n \u001b[35mnot\u001b[39;49;00m \u001b[35min\u001b[39;49;00m data.category_map\n",
      "    ]\n",
      "\n",
      "    ordinal_transformer = Pipeline(steps=[\n",
      "            (\u001b[33m'\u001b[39;49;00m\u001b[33mimputer\u001b[39;49;00m\u001b[33m'\u001b[39;49;00m, SimpleImputer(strategy=\u001b[33m'\u001b[39;49;00m\u001b[33mmedian\u001b[39;49;00m\u001b[33m'\u001b[39;49;00m)),\n",
      "            (\u001b[33m'\u001b[39;49;00m\u001b[33mscaler\u001b[39;49;00m\u001b[33m'\u001b[39;49;00m, StandardScaler())\n",
      "    ])\n",
      "\n",
      "    preprocessor = ColumnTransformer(transformers=[\n",
      "        (\u001b[33m'\u001b[39;49;00m\u001b[33mnum\u001b[39;49;00m\u001b[33m'\u001b[39;49;00m, ordinal_transformer, ordinal_features),\n",
      "    ])\n",
      "\n",
      "    preprocessor.fit(data.data)\n",
      "\n",
      "    \u001b[34mreturn\u001b[39;49;00m  preprocessor\n",
      "\n",
      "\n",
      "\u001b[34mdef\u001b[39;49;00m \u001b[32mtrain_detector\u001b[39;49;00m(data, preprocessor, perc_outlier=\u001b[34m5\u001b[39;49;00m):\n",
      "    \u001b[33m\"\"\"Train outliers detector.\"\"\"\u001b[39;49;00m\n",
      "\n",
      "    \u001b[36mprint\u001b[39;49;00m(\u001b[33m\"\u001b[39;49;00m\u001b[33mInitialize outlier detector.\u001b[39;49;00m\u001b[33m\"\u001b[39;49;00m)\n",
      "    od = IForest(threshold=\u001b[34mNone\u001b[39;49;00m,  n_estimators=\u001b[34m100\u001b[39;49;00m)\n",
      "\n",
      "    \u001b[36mprint\u001b[39;49;00m(\u001b[33m\"\u001b[39;49;00m\u001b[33mTraining on normal data.\u001b[39;49;00m\u001b[33m\"\u001b[39;49;00m)\n",
      "    np.random.seed(\u001b[34m0\u001b[39;49;00m)\n",
      "    normal_batch = create_outlier_batch(\n",
      "        data.data, data.target, n_samples=\u001b[34m30000\u001b[39;49;00m, perc_outlier=\u001b[34m0\u001b[39;49;00m\n",
      "    )\n",
      "\n",
      "    X_train = normal_batch.data.astype(\u001b[33m'\u001b[39;49;00m\u001b[33mfloat\u001b[39;49;00m\u001b[33m'\u001b[39;49;00m)\n",
      "    \u001b[37m# y_train = normal_batch.target\u001b[39;49;00m\n",
      "\n",
      "    od.fit(preprocessor.transform(X_train))\n",
      "\n",
      "    \u001b[36mprint\u001b[39;49;00m(\u001b[33m\"\u001b[39;49;00m\u001b[33mTrain on threshold data.\u001b[39;49;00m\u001b[33m\"\u001b[39;49;00m)\n",
      "    np.random.seed(\u001b[34m0\u001b[39;49;00m)\n",
      "    threshold_batch = create_outlier_batch(\n",
      "        data.data, data.target, n_samples=\u001b[34m1000\u001b[39;49;00m, perc_outlier=perc_outlier\n",
      "    )\n",
      "    X_threshold = threshold_batch.data.astype(\u001b[33m'\u001b[39;49;00m\u001b[33mfloat\u001b[39;49;00m\u001b[33m'\u001b[39;49;00m)\n",
      "    \u001b[37m# y_threshold = threshold_batch.target\u001b[39;49;00m\n",
      "\n",
      "    od.infer_threshold(\n",
      "        preprocessor.transform(X_threshold), threshold_perc=\u001b[34m100\u001b[39;49;00m - perc_outlier\n",
      "    )\n",
      "\n",
      "    \u001b[34mreturn\u001b[39;49;00m od\n",
      "\n",
      "\n",
      "\u001b[34mdef\u001b[39;49;00m \u001b[32mserialize_pipeline\u001b[39;49;00m(preprocessor, od):\n",
      "    \u001b[33m\"\"\"Serialize preprocessor and model.\"\"\"\u001b[39;49;00m\n",
      "    \u001b[36mprint\u001b[39;49;00m(\u001b[33m\"\u001b[39;49;00m\u001b[33mSerializing preprocessor and model.\u001b[39;49;00m\u001b[33m\"\u001b[39;49;00m)\n",
      "\n",
      "    \u001b[34mwith\u001b[39;49;00m \u001b[36mopen\u001b[39;49;00m(DATA_DIR + \u001b[33m\"\u001b[39;49;00m\u001b[33m/preprocessor.dill\u001b[39;49;00m\u001b[33m\"\u001b[39;49;00m, \u001b[33m\"\u001b[39;49;00m\u001b[33mwb\u001b[39;49;00m\u001b[33m\"\u001b[39;49;00m) \u001b[34mas\u001b[39;49;00m prep_f:\n",
      "        dill.dump(preprocessor, prep_f)\n",
      "\n",
      "    \u001b[34mwith\u001b[39;49;00m \u001b[36mopen\u001b[39;49;00m(DATA_DIR + \u001b[33m\"\u001b[39;49;00m\u001b[33m/model.dill\u001b[39;49;00m\u001b[33m\"\u001b[39;49;00m, \u001b[33m\"\u001b[39;49;00m\u001b[33mwb\u001b[39;49;00m\u001b[33m\"\u001b[39;49;00m) \u001b[34mas\u001b[39;49;00m model_f:\n",
      "        dill.dump(od, model_f)\n",
      "\n",
      "\n",
      "\u001b[34mdef\u001b[39;49;00m \u001b[32mmain\u001b[39;49;00m():\n",
      "    data = load_data()[\u001b[34m0\u001b[39;49;00m]\n",
      "    preprocessor = train_preprocessor(data)\n",
      "    od = train_detector(data, preprocessor)\n",
      "    serialize_pipeline(preprocessor, od)\n",
      "\n",
      "\n",
      "\u001b[34mif\u001b[39;49;00m \u001b[31m__name__\u001b[39;49;00m == \u001b[33m\"\u001b[39;49;00m\u001b[33m__main__\u001b[39;49;00m\u001b[33m\"\u001b[39;49;00m:\n",
      "    main()\n"
     ]
    }
   ],
   "source": [
    "!pygmentize train_detector.py"
   ]
  },
  {
   "cell_type": "code",
   "execution_count": 8,
   "metadata": {},
   "outputs": [
    {
     "name": "stdout",
     "output_type": "stream",
     "text": [
      "ERROR:fbprophet:Importing plotly failed. Interactive plots will not work.\n",
      "Loading adult data from alibi.\n",
      "Training preprocessor.\n",
      "Initialize outlier detector.\n",
      "WARNING:alibi_detect.od.isolationforest:No threshold level set. Need to infer threshold using `infer_threshold`.\n",
      "Training on normal data.\n",
      "/home/rskolasinski/.local/lib/python3.7/site-packages/sklearn/ensemble/iforest.py:213: FutureWarning: default contamination parameter 0.1 will change in version 0.22 to \"auto\". This will change the predict method behavior.\n",
      "  FutureWarning)\n",
      "/home/rskolasinski/.local/lib/python3.7/site-packages/sklearn/ensemble/iforest.py:223: FutureWarning: behaviour=\"old\" is deprecated and will be removed in version 0.22. Please use behaviour=\"new\", which makes the decision_function change to match other anomaly detection algorithm API.\n",
      "  FutureWarning)\n",
      "Train on threshold data.\n",
      "Serializing preprocessor and model.\n"
     ]
    }
   ],
   "source": [
    "!python3 train_detector.py"
   ]
  },
  {
   "cell_type": "markdown",
   "metadata": {},
   "source": [
    "In similar fashion to previous Model it will create `dill-serialized` objects used by `Detector` class:"
   ]
  },
  {
   "cell_type": "code",
   "execution_count": 9,
   "metadata": {},
   "outputs": [
    {
     "name": "stdout",
     "output_type": "stream",
     "text": [
      "\u001b[34mimport\u001b[39;49;00m \u001b[04m\u001b[36mlogging\u001b[39;49;00m\n",
      "\u001b[34mimport\u001b[39;49;00m \u001b[04m\u001b[36mdill\u001b[39;49;00m\n",
      "\u001b[34mimport\u001b[39;49;00m \u001b[04m\u001b[36mos\u001b[39;49;00m\n",
      "\n",
      "\u001b[34mimport\u001b[39;49;00m \u001b[04m\u001b[36mnumpy\u001b[39;49;00m \u001b[34mas\u001b[39;49;00m \u001b[04m\u001b[36mnp\u001b[39;49;00m\n",
      "\n",
      "\n",
      "dirname = os.path.dirname(\u001b[31m__file__\u001b[39;49;00m)\n",
      "\n",
      "\n",
      "\u001b[34mclass\u001b[39;49;00m \u001b[04m\u001b[32mDetector\u001b[39;49;00m:\n",
      "    \u001b[34mdef\u001b[39;49;00m \u001b[32m__init__\u001b[39;49;00m(\u001b[36mself\u001b[39;49;00m, *args, **kwargs):\n",
      "\n",
      "        \u001b[34mwith\u001b[39;49;00m \u001b[36mopen\u001b[39;49;00m(os.path.join(dirname, \u001b[33m\"\u001b[39;49;00m\u001b[33mpreprocessor.dill\u001b[39;49;00m\u001b[33m\"\u001b[39;49;00m), \u001b[33m\"\u001b[39;49;00m\u001b[33mrb\u001b[39;49;00m\u001b[33m\"\u001b[39;49;00m) \u001b[34mas\u001b[39;49;00m prep_f:\n",
      "            \u001b[36mself\u001b[39;49;00m.preprocessor = dill.load(prep_f)\n",
      "        \u001b[34mwith\u001b[39;49;00m \u001b[36mopen\u001b[39;49;00m(os.path.join(dirname, \u001b[33m\"\u001b[39;49;00m\u001b[33mmodel.dill\u001b[39;49;00m\u001b[33m\"\u001b[39;49;00m), \u001b[33m\"\u001b[39;49;00m\u001b[33mrb\u001b[39;49;00m\u001b[33m\"\u001b[39;49;00m) \u001b[34mas\u001b[39;49;00m model_f:\n",
      "            \u001b[36mself\u001b[39;49;00m.od = dill.load(model_f)\n",
      "\n",
      "    \u001b[34mdef\u001b[39;49;00m \u001b[32mpredict\u001b[39;49;00m(\u001b[36mself\u001b[39;49;00m, X, feature_names=[]):\n",
      "        logging.info(\u001b[33m\"\u001b[39;49;00m\u001b[33mInput: \u001b[39;49;00m\u001b[33m\"\u001b[39;49;00m + \u001b[36mstr\u001b[39;49;00m(X))\n",
      "\n",
      "        X_prep = \u001b[36mself\u001b[39;49;00m.preprocessor.transform(X)\n",
      "        output = \u001b[36mself\u001b[39;49;00m.od.predict(X_prep)[\u001b[33m'\u001b[39;49;00m\u001b[33mdata\u001b[39;49;00m\u001b[33m'\u001b[39;49;00m][\u001b[33m'\u001b[39;49;00m\u001b[33mis_outlier\u001b[39;49;00m\u001b[33m'\u001b[39;49;00m]\n",
      "\n",
      "        logging.info(\u001b[33m\"\u001b[39;49;00m\u001b[33mOutput: \u001b[39;49;00m\u001b[33m\"\u001b[39;49;00m + \u001b[36mstr\u001b[39;49;00m(output))\n",
      "        \u001b[34mreturn\u001b[39;49;00m output\n"
     ]
    }
   ],
   "source": [
    "!pygmentize pipeline/outliersdetector/Detector.py"
   ]
  },
  {
   "cell_type": "markdown",
   "metadata": {},
   "source": [
    "You can see how the detector works from this notebook:"
   ]
  },
  {
   "cell_type": "code",
   "execution_count": 10,
   "metadata": {},
   "outputs": [
    {
     "name": "stderr",
     "output_type": "stream",
     "text": [
      "ERROR:fbprophet:Importing plotly failed. Interactive plots will not work.\n"
     ]
    }
   ],
   "source": [
    "import sys; sys.path.append(\"pipeline/outliersdetector\")\n",
    "from Detector import Detector\n",
    "\n",
    "detector = Detector()"
   ]
  },
  {
   "cell_type": "code",
   "execution_count": 11,
   "metadata": {},
   "outputs": [],
   "source": [
    "import json\n",
    "\n",
    "import numpy as np\n",
    "import pandas as pd\n",
    "import seaborn as sns\n",
    "\n",
    "import matplotlib.pyplot as plt\n",
    "%matplotlib inline\n",
    "\n",
    "from sklearn.metrics import confusion_matrix, f1_score\n",
    "from alibi_detect.utils.data import create_outlier_batch\n",
    "\n",
    "\n",
    "np.random.seed(1)\n",
    "outlier_batch = create_outlier_batch(data.data, data.target, n_samples=1000, perc_outlier=10)\n",
    "X_outlier, y_outlier = outlier_batch.data.astype('float'), outlier_batch.target"
   ]
  },
  {
   "cell_type": "code",
   "execution_count": 12,
   "metadata": {},
   "outputs": [],
   "source": [
    "y_pred = detector.predict(X_outlier)"
   ]
  },
  {
   "cell_type": "code",
   "execution_count": 13,
   "metadata": {},
   "outputs": [
    {
     "name": "stdout",
     "output_type": "stream",
     "text": [
      "F1 score: 0.35365853658536583\n"
     ]
    },
    {
     "data": {
      "image/png": "[encoded data removed]",
      "text/plain": [
       "<Figure size 432x288 with 2 Axes>"
      ]
     },
     "metadata": {
      "needs_background": "light"
     },
     "output_type": "display_data"
    }
   ],
   "source": [
    "labels = outlier_batch.target_names\n",
    "f1 = f1_score(y_outlier, y_pred)\n",
    "print('F1 score: {}'.format(f1))\n",
    "cm = confusion_matrix(y_outlier, y_pred)\n",
    "df_cm = pd.DataFrame(cm, index=labels, columns=labels)\n",
    "sns.heatmap(df_cm, annot=True, cbar=True, linewidths=.5)\n",
    "plt.show()"
   ]
  },
  {
   "cell_type": "markdown",
   "metadata": {},
   "source": [
    "## Contenerise your models\n",
    "\n",
    "Before you can deploy classifier `Model` and outliers `Detector` as part of seldon's graph you have to contenerise them.\n",
    "\n",
    "We will use the s2i to do so with help of provided [Makefile](https://github.com/SeldonIO/seldon-core/blob/master/examples/outliers/alibi-detect-combiner/Makefile):"
   ]
  },
  {
   "cell_type": "code",
   "execution_count": 14,
   "metadata": {},
   "outputs": [
    {
     "name": "stdout",
     "output_type": "stream",
     "text": [
      "\u001b[32m.ONESHELL\u001b[39;49;00m:\n",
      "\n",
      "\u001b[32mall\u001b[39;49;00m: base loanclassifier outliersdetector combiner\n",
      "\n",
      "\u001b[32mbase\u001b[39;49;00m:\n",
      "\tdocker build . -t seldon-core-outliers-base:0.1\n",
      "\n",
      "\u001b[32mloanclassifier\u001b[39;49;00m:\n",
      "\ts2i build pipeline/loanclassifier seldon-core-outliers-base:0.1 loanclassifier:0.1\n",
      "\n",
      "\u001b[32moutliersdetector\u001b[39;49;00m:\n",
      "\ts2i build pipeline/outliersdetector seldon-core-outliers-base:0.1 outliersdetector:0.1\n",
      "\n",
      "\u001b[32mcombiner\u001b[39;49;00m:\n",
      "\ts2i build pipeline/combiner seldon-core-outliers-base:0.1 combiner:0.1\n"
     ]
    }
   ],
   "source": [
    "!pygmentize Makefile"
   ]
  },
  {
   "cell_type": "code",
   "execution_count": null,
   "metadata": {},
   "outputs": [],
   "source": [
    "!make"
   ]
  },
  {
   "cell_type": "markdown",
   "metadata": {},
   "source": [
    "or if using Minikube"
   ]
  },
  {
   "cell_type": "code",
   "execution_count": null,
   "metadata": {},
   "outputs": [],
   "source": [
    "!eval $(minikube docker-env) && make"
   ]
  },
  {
   "cell_type": "markdown",
   "metadata": {},
   "source": [
    "## Deploy your models separately\n",
    "\n",
    "Now, you can include your newly build containers as part of seldon deployment.\n",
    "\n",
    "First, we will create two separate deployments: `loanclassifier` and `outliersdetector`.\n",
    "Each of them will have their own separate endpoint and can be queried independently depending on your needs. "
   ]
  },
  {
   "cell_type": "markdown",
   "metadata": {},
   "source": [
    "#### Deploy separate loanclassifier"
   ]
  },
  {
   "cell_type": "markdown",
   "metadata": {},
   "source": [
    "![](img/outliers-combiner-1.jpg)"
   ]
  },
  {
   "cell_type": "code",
   "execution_count": 15,
   "metadata": {},
   "outputs": [
    {
     "name": "stdout",
     "output_type": "stream",
     "text": [
      "\u001b[94mapiVersion\u001b[39;49;00m: machinelearning.seldon.io/v1alpha2\n",
      "\u001b[94mkind\u001b[39;49;00m: SeldonDeployment\n",
      "\u001b[94mmetadata\u001b[39;49;00m:\n",
      "  \u001b[94mlabels\u001b[39;49;00m:\n",
      "    \u001b[94mapp\u001b[39;49;00m: seldon\n",
      "  \u001b[94mname\u001b[39;49;00m: loanclassifier\n",
      "\u001b[94mspec\u001b[39;49;00m:\n",
      "  \u001b[94mname\u001b[39;49;00m: loanclassifier\n",
      "  \u001b[94mpredictors\u001b[39;49;00m:\n",
      "  - \u001b[94mcomponentSpecs\u001b[39;49;00m:\n",
      "    - \u001b[94mspec\u001b[39;49;00m:\n",
      "        \u001b[94mcontainers\u001b[39;49;00m:\n",
      "        - \u001b[94mimage\u001b[39;49;00m: loanclassifier:0.1\n",
      "          \u001b[94mname\u001b[39;49;00m: loanclassifier\n",
      "          \u001b[94menv\u001b[39;49;00m:\n",
      "          - \u001b[94mname\u001b[39;49;00m: SELDON_LOG_LEVEL\n",
      "            \u001b[94mvalue\u001b[39;49;00m: DEBUG\n",
      "    \u001b[94mgraph\u001b[39;49;00m:\n",
      "      \u001b[94mchildren\u001b[39;49;00m: []\n",
      "      \u001b[94mname\u001b[39;49;00m: loanclassifier\n",
      "      \u001b[94mtype\u001b[39;49;00m: MODEL\n",
      "      \u001b[94mendpoint\u001b[39;49;00m:\n",
      "        \u001b[94mtype\u001b[39;49;00m: REST\n",
      "    \u001b[94mname\u001b[39;49;00m: loanclassifier\n",
      "    \u001b[94mreplicas\u001b[39;49;00m: 1\n"
     ]
    }
   ],
   "source": [
    "!pygmentize pipeline/loanclassifier.yaml"
   ]
  },
  {
   "cell_type": "code",
   "execution_count": 16,
   "metadata": {},
   "outputs": [
    {
     "name": "stdout",
     "output_type": "stream",
     "text": [
      "seldondeployment.machinelearning.seldon.io/loanclassifier created\n"
     ]
    }
   ],
   "source": [
    "!kubectl apply -f pipeline/loanclassifier.yaml"
   ]
  },
  {
   "cell_type": "markdown",
   "metadata": {},
   "source": [
    "#### Deploy separate outliers detector"
   ]
  },
  {
   "cell_type": "markdown",
   "metadata": {},
   "source": [
    "![](img/outliers-combiner-2.jpg)"
   ]
  },
  {
   "cell_type": "code",
   "execution_count": 17,
   "metadata": {},
   "outputs": [
    {
     "name": "stdout",
     "output_type": "stream",
     "text": [
      "\u001b[94mapiVersion\u001b[39;49;00m: machinelearning.seldon.io/v1alpha2\n",
      "\u001b[94mkind\u001b[39;49;00m: SeldonDeployment\n",
      "\u001b[94mmetadata\u001b[39;49;00m:\n",
      "  \u001b[94mlabels\u001b[39;49;00m:\n",
      "    \u001b[94mapp\u001b[39;49;00m: seldon\n",
      "  \u001b[94mname\u001b[39;49;00m: outliersdetector\n",
      "\u001b[94mspec\u001b[39;49;00m:\n",
      "  \u001b[94mname\u001b[39;49;00m: outliersdetector\n",
      "  \u001b[94mpredictors\u001b[39;49;00m:\n",
      "  - \u001b[94mcomponentSpecs\u001b[39;49;00m:\n",
      "    - \u001b[94mspec\u001b[39;49;00m:\n",
      "        \u001b[94mcontainers\u001b[39;49;00m:\n",
      "        - \u001b[94mimage\u001b[39;49;00m: outliersdetector:0.1\n",
      "          \u001b[94mname\u001b[39;49;00m: outliersdetector\n",
      "          \u001b[94menv\u001b[39;49;00m:\n",
      "          - \u001b[94mname\u001b[39;49;00m: SELDON_LOG_LEVEL\n",
      "            \u001b[94mvalue\u001b[39;49;00m: DEBUG\n",
      "    \u001b[94mgraph\u001b[39;49;00m:\n",
      "      \u001b[94mchildren\u001b[39;49;00m: []\n",
      "      \u001b[94mname\u001b[39;49;00m: outliersdetector\n",
      "      \u001b[94mtype\u001b[39;49;00m: MODEL\n",
      "      \u001b[94mendpoint\u001b[39;49;00m:\n",
      "        \u001b[94mtype\u001b[39;49;00m: REST\n",
      "    \u001b[94mname\u001b[39;49;00m: outliersdetector\n",
      "    \u001b[94mreplicas\u001b[39;49;00m: 1\n"
     ]
    }
   ],
   "source": [
    "!pygmentize pipeline/outliersdetector.yaml"
   ]
  },
  {
   "cell_type": "code",
   "execution_count": 18,
   "metadata": {},
   "outputs": [
    {
     "name": "stdout",
     "output_type": "stream",
     "text": [
      "seldondeployment.machinelearning.seldon.io/outliersdetector created\n"
     ]
    }
   ],
   "source": [
    "!kubectl apply -f pipeline/outliersdetector.yaml"
   ]
  },
  {
   "cell_type": "markdown",
   "metadata": {},
   "source": [
    "#### View newly deployed Kubernetes pods"
   ]
  },
  {
   "cell_type": "code",
   "execution_count": 19,
   "metadata": {},
   "outputs": [
    {
     "name": "stdout",
     "output_type": "stream",
     "text": [
      "NAME                                                        READY   STATUS    RESTARTS   AGE\n",
      "ambassador-69b784f9d5-b444s                                 1/1     Running   1          22h\n",
      "ambassador-69b784f9d5-zkpbv                                 1/1     Running   3          22h\n",
      "ambassador-69b784f9d5-zx9w7                                 1/1     Running   3          22h\n",
      "loanclassifier-loanclassifier-65e0c2e-7449f4d596-55p8t      2/2     Running   0          2m10s\n",
      "outliersdetector-outliersdetector-1a4e53e-b5cd784df-j56tx   2/2     Running   0          2m8s\n"
     ]
    }
   ],
   "source": [
    "!kubectl get pods"
   ]
  },
  {
   "cell_type": "markdown",
   "metadata": {},
   "source": [
    "#### Test deployed components\n",
    "**IMPORTANT:** If you are using minikube (instead of docker desktop) you have to forward the port first with:\n",
    "```\n",
    "kubectl port-forward svc/ambassador 8003:80\n",
    "```"
   ]
  },
  {
   "cell_type": "code",
   "execution_count": 20,
   "metadata": {},
   "outputs": [],
   "source": [
    "import json\n",
    "\n",
    "from seldon_core.seldon_client import SeldonClient\n",
    "from seldon_core.utils import get_data_from_proto"
   ]
  },
  {
   "cell_type": "code",
   "execution_count": 21,
   "metadata": {},
   "outputs": [
    {
     "name": "stdout",
     "output_type": "stream",
     "text": [
      "[[  46    5    4    2    8    4    4    0 2036    0   60    9]\n",
      " [  52    4    0    2    8    4    2    0    0    0   60    9]\n",
      " [  21    4    4    1    2    3    4    1    0    0   20    9]]\n"
     ]
    }
   ],
   "source": [
    "to_explain = X_test[:3]\n",
    "print(to_explain)"
   ]
  },
  {
   "cell_type": "code",
   "execution_count": 22,
   "metadata": {},
   "outputs": [
    {
     "data": {
      "text/plain": [
       "array([[0.9, 0.1],\n",
       "       [0.9, 0.1],\n",
       "       [1. , 0. ]])"
      ]
     },
     "execution_count": 22,
     "metadata": {},
     "output_type": "execute_result"
    }
   ],
   "source": [
    "sc = SeldonClient(\n",
    "    gateway=\"ambassador\", \n",
    "    deployment_name=\"loanclassifier\",\n",
    "    gateway_endpoint=\"localhost:8003\",\n",
    "    payload_type=\"ndarray\",\n",
    "    namespace=\"seldon\",\n",
    "    transport=\"rest\"\n",
    ")\n",
    "\n",
    "prediction = sc.predict(data=to_explain)\n",
    "get_data_from_proto(prediction.response)"
   ]
  },
  {
   "cell_type": "code",
   "execution_count": 23,
   "metadata": {},
   "outputs": [
    {
     "data": {
      "text/plain": [
       "array([0., 0., 0.])"
      ]
     },
     "execution_count": 23,
     "metadata": {},
     "output_type": "execute_result"
    }
   ],
   "source": [
    "sc = SeldonClient(\n",
    "    gateway=\"ambassador\", \n",
    "    deployment_name=\"outliersdetector\",\n",
    "    gateway_endpoint=\"localhost:8003\",\n",
    "    payload_type=\"ndarray\",\n",
    "    namespace=\"seldon\",\n",
    "    transport=\"rest\"\n",
    ")\n",
    "\n",
    "prediction = sc.predict(data=to_explain)\n",
    "get_data_from_proto(prediction.response)"
   ]
  },
  {
   "cell_type": "markdown",
   "metadata": {},
   "source": [
    "## Deploy loanclassifier and outliersdetector with combiner\n",
    "\n",
    "Another possibility is to use slightly more complicated graph with a `combiner` that will\n",
    "gather outputs from `loanclassifier` and `outliersdetector`.\n",
    "\n",
    "Please note that `loanclassifier` and `outliersdetector` are part of `loanclassifier-combined` graph and this deployment is independent from previous two.\n",
    "\n",
    "In this approach there is a single API endpoint that serves both functionalities."
   ]
  },
  {
   "cell_type": "markdown",
   "metadata": {},
   "source": [
    "![](img/outliers-combiner-3.jpg)"
   ]
  },
  {
   "cell_type": "code",
   "execution_count": 24,
   "metadata": {},
   "outputs": [
    {
     "name": "stdout",
     "output_type": "stream",
     "text": [
      "\u001b[34mimport\u001b[39;49;00m \u001b[04m\u001b[36mlogging\u001b[39;49;00m\n",
      "\u001b[34mimport\u001b[39;49;00m \u001b[04m\u001b[36mnumpy\u001b[39;49;00m \u001b[34mas\u001b[39;49;00m \u001b[04m\u001b[36mnp\u001b[39;49;00m\n",
      "\n",
      "\u001b[34mclass\u001b[39;49;00m \u001b[04m\u001b[32mCombiner\u001b[39;49;00m(\u001b[36mobject\u001b[39;49;00m):\n",
      "\n",
      "    \u001b[34mdef\u001b[39;49;00m \u001b[32maggregate\u001b[39;49;00m(\u001b[36mself\u001b[39;49;00m, X, features_names=[]):\n",
      "        logging.info(\u001b[33m\"\u001b[39;49;00m\u001b[33mInput: \u001b[39;49;00m\u001b[33m\"\u001b[39;49;00m + \u001b[36mstr\u001b[39;49;00m(X))\n",
      "        output = {\n",
      "            \u001b[33m\"\u001b[39;49;00m\u001b[33mloanclassifier\u001b[39;49;00m\u001b[33m\"\u001b[39;49;00m: X[\u001b[34m0\u001b[39;49;00m].tolist(),\n",
      "            \u001b[33m\"\u001b[39;49;00m\u001b[33moutliersdetector\u001b[39;49;00m\u001b[33m\"\u001b[39;49;00m: X[\u001b[34m1\u001b[39;49;00m].tolist(),\n",
      "        }\n",
      "        logging.info(\u001b[33m\"\u001b[39;49;00m\u001b[33mOutput: \u001b[39;49;00m\u001b[33m\"\u001b[39;49;00m + \u001b[36mstr\u001b[39;49;00m(output))\n",
      "        \u001b[34mreturn\u001b[39;49;00m output\n"
     ]
    }
   ],
   "source": [
    "!pygmentize pipeline/combiner/Combiner.py"
   ]
  },
  {
   "cell_type": "code",
   "execution_count": 25,
   "metadata": {},
   "outputs": [
    {
     "name": "stdout",
     "output_type": "stream",
     "text": [
      "\u001b[94mapiVersion\u001b[39;49;00m: machinelearning.seldon.io/v1alpha2\n",
      "\u001b[94mkind\u001b[39;49;00m: SeldonDeployment\n",
      "\u001b[94mmetadata\u001b[39;49;00m:\n",
      "  \u001b[94mlabels\u001b[39;49;00m:\n",
      "    \u001b[94mapp\u001b[39;49;00m: seldon\n",
      "  \u001b[94mname\u001b[39;49;00m: loanclassifier-combined\n",
      "\u001b[94mspec\u001b[39;49;00m:\n",
      "  \u001b[94mannotations\u001b[39;49;00m:\n",
      "    \u001b[94mproject_name\u001b[39;49;00m: Iris classification\n",
      "  \u001b[94mname\u001b[39;49;00m: loanclassifier-combined\n",
      "  \u001b[94mpredictors\u001b[39;49;00m:\n",
      "  - \u001b[94mcomponentSpecs\u001b[39;49;00m:\n",
      "    - \u001b[94mspec\u001b[39;49;00m:\n",
      "        \u001b[94mcontainers\u001b[39;49;00m:\n",
      "        - \u001b[94mimage\u001b[39;49;00m: loanclassifier:0.1\n",
      "          \u001b[94mname\u001b[39;49;00m: loanclassifier\n",
      "          \u001b[94menv\u001b[39;49;00m:\n",
      "          - \u001b[94mname\u001b[39;49;00m: SELDON_LOG_LEVEL\n",
      "            \u001b[94mvalue\u001b[39;49;00m: DEBUG\n",
      "        - \u001b[94mimage\u001b[39;49;00m: outliersdetector:0.1\n",
      "          \u001b[94mname\u001b[39;49;00m: outliersdetector\n",
      "          \u001b[94menv\u001b[39;49;00m:\n",
      "          - \u001b[94mname\u001b[39;49;00m: SELDON_LOG_LEVEL\n",
      "            \u001b[94mvalue\u001b[39;49;00m: DEBUG\n",
      "        - \u001b[94mimage\u001b[39;49;00m: combiner:0.1\n",
      "          \u001b[94mname\u001b[39;49;00m: combiner\n",
      "          \u001b[94menv\u001b[39;49;00m:\n",
      "          - \u001b[94mname\u001b[39;49;00m: SELDON_LOG_LEVEL\n",
      "            \u001b[94mvalue\u001b[39;49;00m: DEBUG\n",
      "    \u001b[94mgraph\u001b[39;49;00m:\n",
      "      \u001b[94mchildren\u001b[39;49;00m:\n",
      "      - \u001b[94mchildren\u001b[39;49;00m: []\n",
      "        \u001b[94mname\u001b[39;49;00m: loanclassifier\n",
      "        \u001b[94mtype\u001b[39;49;00m: MODEL\n",
      "        \u001b[94mendpoint\u001b[39;49;00m:\n",
      "          \u001b[94mtype\u001b[39;49;00m: REST\n",
      "      - \u001b[94mchildren\u001b[39;49;00m: []\n",
      "        \u001b[94mname\u001b[39;49;00m: outliersdetector\n",
      "        \u001b[94mtype\u001b[39;49;00m: MODEL\n",
      "        \u001b[94mendpoint\u001b[39;49;00m:\n",
      "          \u001b[94mtype\u001b[39;49;00m: REST\n",
      "      \u001b[94mendpoint\u001b[39;49;00m:\n",
      "        \u001b[94mtype\u001b[39;49;00m: REST\n",
      "      \u001b[94mname\u001b[39;49;00m: combiner\n",
      "      \u001b[94mtype\u001b[39;49;00m: COMBINER\n",
      "    \u001b[94mname\u001b[39;49;00m: combiner-graph\n",
      "    \u001b[94mreplicas\u001b[39;49;00m: 1\n"
     ]
    }
   ],
   "source": [
    "! pygmentize pipeline/combiner.yaml"
   ]
  },
  {
   "cell_type": "code",
   "execution_count": 26,
   "metadata": {},
   "outputs": [
    {
     "name": "stdout",
     "output_type": "stream",
     "text": [
      "seldondeployment.machinelearning.seldon.io/loanclassifier-combined created\n"
     ]
    }
   ],
   "source": [
    "!kubectl apply -f pipeline/combiner.yaml"
   ]
  },
  {
   "cell_type": "code",
   "execution_count": 28,
   "metadata": {},
   "outputs": [
    {
     "name": "stdout",
     "output_type": "stream",
     "text": [
      "NAME                                                              READY   STATUS    RESTARTS   AGE\n",
      "ambassador-69b784f9d5-b444s                                       1/1     Running   1          22h\n",
      "ambassador-69b784f9d5-zkpbv                                       1/1     Running   3          22h\n",
      "ambassador-69b784f9d5-zx9w7                                       1/1     Running   3          22h\n",
      "loanclassifier-combined-combiner-graph-f931ba8-6b8645f8f9-q99nr   4/4     Running   0          28s\n",
      "loanclassifier-loanclassifier-65e0c2e-7449f4d596-55p8t            2/2     Running   0          2m50s\n",
      "outliersdetector-outliersdetector-1a4e53e-b5cd784df-j56tx         2/2     Running   0          2m48s\n"
     ]
    }
   ],
   "source": [
    "!kubectl get pods"
   ]
  },
  {
   "cell_type": "code",
   "execution_count": 29,
   "metadata": {},
   "outputs": [],
   "source": [
    "sc = SeldonClient(\n",
    "    gateway=\"ambassador\", \n",
    "    deployment_name=\"loanclassifier-combined\",\n",
    "    gateway_endpoint=\"localhost:8003\",\n",
    "    payload_type=\"ndarray\",\n",
    "    namespace=\"seldon\",\n",
    "    transport=\"rest\"\n",
    ")\n",
    "\n",
    "prediction = sc.predict(data=to_explain)\n",
    "output = get_data_from_proto(prediction.response)"
   ]
  },
  {
   "cell_type": "code",
   "execution_count": 30,
   "metadata": {},
   "outputs": [
    {
     "data": {
      "text/plain": [
       "meta {\n",
       "  puid: \"5ef3jd2oumacs4ig0ldr7ads2a\"\n",
       "  routing {\n",
       "    key: \"combiner\"\n",
       "    value: -1\n",
       "  }\n",
       "  requestPath {\n",
       "    key: \"combiner\"\n",
       "    value: \"combiner:0.1\"\n",
       "  }\n",
       "  requestPath {\n",
       "    key: \"loanclassifier\"\n",
       "    value: \"loanclassifier:0.1\"\n",
       "  }\n",
       "  requestPath {\n",
       "    key: \"outliersdetector\"\n",
       "    value: \"outliersdetector:0.1\"\n",
       "  }\n",
       "}\n",
       "jsonData {\n",
       "  struct_value {\n",
       "    fields {\n",
       "      key: \"loanclassifier\"\n",
       "      value {\n",
       "        list_value {\n",
       "          values {\n",
       "            list_value {\n",
       "              values {\n",
       "                number_value: 0.9\n",
       "              }\n",
       "              values {\n",
       "                number_value: 0.1\n",
       "              }\n",
       "            }\n",
       "          }\n",
       "          values {\n",
       "            list_value {\n",
       "              values {\n",
       "                number_value: 0.9\n",
       "              }\n",
       "              values {\n",
       "                number_value: 0.1\n",
       "              }\n",
       "            }\n",
       "          }\n",
       "          values {\n",
       "            list_value {\n",
       "              values {\n",
       "                number_value: 1.0\n",
       "              }\n",
       "              values {\n",
       "                number_value: 0.0\n",
       "              }\n",
       "            }\n",
       "          }\n",
       "        }\n",
       "      }\n",
       "    }\n",
       "    fields {\n",
       "      key: \"outliersdetector\"\n",
       "      value {\n",
       "        list_value {\n",
       "          values {\n",
       "            number_value: 0.0\n",
       "          }\n",
       "          values {\n",
       "            number_value: 0.0\n",
       "          }\n",
       "          values {\n",
       "            number_value: 0.0\n",
       "          }\n",
       "        }\n",
       "      }\n",
       "    }\n",
       "  }\n",
       "}"
      ]
     },
     "execution_count": 30,
     "metadata": {},
     "output_type": "execute_result"
    }
   ],
   "source": [
    "prediction.response"
   ]
  },
  {
   "cell_type": "code",
   "execution_count": 31,
   "metadata": {},
   "outputs": [
    {
     "data": {
      "text/plain": [
       "[[0.9, 0.1], [0.9, 0.1], [1.0, 0.0]]"
      ]
     },
     "execution_count": 31,
     "metadata": {},
     "output_type": "execute_result"
    }
   ],
   "source": [
    "output['loanclassifier']"
   ]
  },
  {
   "cell_type": "code",
   "execution_count": 32,
   "metadata": {},
   "outputs": [
    {
     "data": {
      "text/plain": [
       "[0.0, 0.0, 0.0]"
      ]
     },
     "execution_count": 32,
     "metadata": {},
     "output_type": "execute_result"
    }
   ],
   "source": [
    "output['outliersdetector']"
   ]
  }
 ],
 "metadata": {
  "kernelspec": {
   "display_name": "Python 3",
   "language": "python",
   "name": "python3"
  },
  "language_info": {
   "codemirror_mode": {
    "name": "ipython",
    "version": 3
   },
   "file_extension": ".py",
   "mimetype": "text/x-python",
   "name": "python",
   "nbconvert_exporter": "python",
   "pygments_lexer": "ipython3",
   "version": "3.7.5"
  }
 },
 "nbformat": 4,
 "nbformat_minor": 4
}
