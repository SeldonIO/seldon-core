{
 "cells": [
  {
   "cell_type": "markdown",
   "metadata": {},
   "source": [
    "## SSL Enabled Requests\n",
    "\n",
    "Install seldon with ingress provider.\n"
   ]
  },
  {
   "cell_type": "code",
   "execution_count": null,
   "metadata": {},
   "outputs": [],
   "source": [
    "%%bash\n",
    "kubectl create ns cert-manager\n",
    "helm install \\\n",
    "  cert-manager jetstack/cert-manager \\\n",
    "  --namespace cert-manager \\\n",
    "  --version v0.15.1 \\\n",
    "  --set installCRDs=true"
   ]
  },
  {
   "cell_type": "markdown",
   "metadata": {},
   "source": [
    "#### Deploying self signed certificate"
   ]
  },
  {
   "cell_type": "code",
   "execution_count": 8,
   "metadata": {},
   "outputs": [
    {
     "name": "stdout",
     "output_type": "stream",
     "text": [
      "issuer.cert-manager.io/selfsigned-issuer created\n"
     ]
    }
   ],
   "source": [
    "%%bash\n",
    "kubectl apply -f - << END\n",
    "apiVersion: cert-manager.io/v1alpha2\n",
    "kind: Issuer\n",
    "metadata:\n",
    "  name: selfsigned-issuer\n",
    "  namespace: default\n",
    "spec:\n",
    "  selfSigned: {}\n",
    "END"
   ]
  },
  {
   "cell_type": "code",
   "execution_count": 4,
   "metadata": {},
   "outputs": [
    {
     "name": "stdout",
     "output_type": "stream",
     "text": [
      "NAME                READY   AGE\r\n",
      "selfsigned-issuer   True    23s\r\n"
     ]
    }
   ],
   "source": [
    "!kubectl get issuer "
   ]
  },
  {
   "cell_type": "code",
   "execution_count": 9,
   "metadata": {},
   "outputs": [
    {
     "name": "stdout",
     "output_type": "stream",
     "text": [
      "certificate.cert-manager.io/selfsigned-crt created\n"
     ]
    }
   ],
   "source": [
    "%%bash\n",
    "apiVersion: machinelearning.seldon.io/v1\n",
    "kind: SeldonDeployment\n",
    "metadata:\n",
    "  name: sklearn\n",
    "spec:\n",
    "  name: iris\n",
    "  predictors:\n",
    "  - graph:\n",
    "      children: []\n",
    "      implementation: SKLEARN_SERVER\n",
    "      modelUri: gs://seldon-models/sklearn/iris\n",
    "      name: classifier\n",
    "    name: default\n",
    "    replicas: 1\n",
    "    ssl:\n",
    "      certSpecOverrides:\n",
    "        issuerRef:\n",
    "          name: selfsigned-issuer\n",
    "        dnsNames:\n",
    "        - example.com"
   ]
  },
  {
   "cell_type": "code",
   "execution_count": 14,
   "metadata": {},
   "outputs": [
    {
     "name": "stdout",
     "output_type": "stream",
     "text": [
      "NAME                   READY   SECRET                 AGE\r\n",
      "sklearn-default-cert   True    sklearn-default-cert   3m1s\r\n"
     ]
    }
   ],
   "source": [
    "!kubectl get certificate"
   ]
  },
  {
   "cell_type": "code",
   "execution_count": null,
   "metadata": {},
   "outputs": [],
   "source": [
    "%%bash\n",
    "curl -v -X POST -H 'Content-Type: application/json' \\\n",
    "    -d '{\"data\": {\"ndarray\": [[1,2,3,4]]}}' \\\n",
    "    https://localhost:80/seldon/default/sklearn/api/v1.0/predictions"
   ]
  },
  {
   "cell_type": "code",
   "execution_count": null,
   "metadata": {},
   "outputs": [],
   "source": [
    "%%bash\n",
    "cd ../../../executor/proto && \\\n",
    "grpcurl \\\n",
    "         -rpc-header seldon:sklearn -rpc-header namespace:default \\\n",
    "        -d '{\"data\": {\"ndarray\": []}}' \\\n",
    "         -proto prediction.proto  127.0.0.1:443 seldon.protos.Seldon/Predict"
   ]
  },
  {
   "cell_type": "code",
   "execution_count": null,
   "metadata": {},
   "outputs": [],
   "source": []
  }
 ],
 "metadata": {
  "kernelspec": {
   "display_name": "Python 3",
   "language": "python",
   "name": "python3"
  },
  "language_info": {
   "codemirror_mode": {
    "name": "ipython",
    "version": 3
   },
   "file_extension": ".py",
   "mimetype": "text/x-python",
   "name": "python",
   "nbconvert_exporter": "python",
   "pygments_lexer": "ipython3",
   "version": "3.7.4"
  }
 },
 "nbformat": 4,
 "nbformat_minor": 2
}
