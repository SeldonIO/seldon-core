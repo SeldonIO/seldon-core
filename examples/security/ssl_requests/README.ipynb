{
 "cells": [
  {
   "cell_type": "markdown",
   "metadata": {},
   "source": [
    "## SSL Enabled Requests\n",
    "\n",
    "Install seldon with ingress provider.\n"
   ]
  },
  {
   "cell_type": "code",
   "execution_count": 2,
   "metadata": {},
   "outputs": [
    {
     "name": "stdout",
     "output_type": "stream",
     "text": [
      "\"jetstack\" has been added to your repositories\n",
      "Hang tight while we grab the latest from your chart repositories...\n",
      "...Successfully got an update from the \"strimzi\" chart repository\n",
      "...Successfully got an update from the \"kube-eagle\" chart repository\n",
      "...Successfully got an update from the \"jetstack\" chart repository\n",
      "...Successfully got an update from the \"incubator\" chart repository\n",
      "...Successfully got an update from the \"astronomer\" chart repository\n",
      "...Successfully got an update from the \"datawire\" chart repository\n",
      "...Successfully got an update from the \"bitnami\" chart repository\n",
      "...Successfully got an update from the \"stable\" chart repository\n",
      "Update Complete. ⎈ Happy Helming!⎈ \n",
      "NAME: cert-manager\n",
      "LAST DEPLOYED: Tue Aug 25 12:45:43 2020\n",
      "NAMESPACE: cert-manager\n",
      "STATUS: deployed\n",
      "REVISION: 1\n",
      "TEST SUITE: None\n",
      "NOTES:\n",
      "cert-manager has been deployed successfully!\n",
      "\n",
      "In order to begin issuing certificates, you will need to set up a ClusterIssuer\n",
      "or Issuer resource (for example, by creating a 'letsencrypt-staging' issuer).\n",
      "\n",
      "More information on the different types of issuers and how to configure them\n",
      "can be found in our documentation:\n",
      "\n",
      "https://cert-manager.io/docs/configuration/\n",
      "\n",
      "For information on how to configure cert-manager to automatically provision\n",
      "Certificates for Ingress resources, take a look at the `ingress-shim`\n",
      "documentation:\n",
      "\n",
      "https://cert-manager.io/docs/usage/ingress/\n"
     ]
    },
    {
     "name": "stderr",
     "output_type": "stream",
     "text": [
      "Error from server (AlreadyExists): namespaces \"cert-manager\" already exists\n"
     ]
    }
   ],
   "source": [
    "%%bash\n",
    "helm repo add jetstack https://charts.jetstack.io\n",
    "helm repo update\n",
    "kubectl create ns cert-manager\n",
    "helm install \\\n",
    "  cert-manager jetstack/cert-manager \\\n",
    "  --namespace cert-manager \\\n",
    "  --version v0.16.1 \\\n",
    "  --set installCRDs=true"
   ]
  },
  {
   "cell_type": "markdown",
   "metadata": {},
   "source": [
    "#### Creating issuer so we can deploy certificates"
   ]
  },
  {
   "cell_type": "code",
   "execution_count": 3,
   "metadata": {},
   "outputs": [
    {
     "name": "stdout",
     "output_type": "stream",
     "text": [
      "issuer.cert-manager.io/selfsigned-issuer created\n"
     ]
    }
   ],
   "source": [
    "%%bash\n",
    "kubectl apply -f - << END\n",
    "apiVersion: cert-manager.io/v1alpha2\n",
    "kind: Issuer\n",
    "metadata:\n",
    "  name: selfsigned-issuer\n",
    "  namespace: default\n",
    "spec:\n",
    "  selfSigned: {}\n",
    "END"
   ]
  },
  {
   "cell_type": "code",
   "execution_count": 4,
   "metadata": {},
   "outputs": [
    {
     "name": "stdout",
     "output_type": "stream",
     "text": [
      "NAME                READY   AGE\r\n",
      "selfsigned-issuer   True    5s\r\n"
     ]
    }
   ],
   "source": [
    "!kubectl get issuer"
   ]
  },
  {
   "cell_type": "markdown",
   "metadata": {},
   "source": [
    "#### Deploying self signed certificate"
   ]
  },
  {
   "cell_type": "code",
   "execution_count": 33,
   "metadata": {},
   "outputs": [
    {
     "name": "stdout",
     "output_type": "stream",
     "text": [
      "certificate.cert-manager.io/sklearn-default-cert configured\n"
     ]
    }
   ],
   "source": [
    "%%bash \n",
    "kubectl apply -f - << END\n",
    "apiVersion: cert-manager.io/v1alpha3\n",
    "kind: Certificate\n",
    "metadata:\n",
    "  name: sklearn-default-cert\n",
    "spec:\n",
    "  dnsNames:\n",
    "  - \"*\"\n",
    "  issuerRef:\n",
    "    name: selfsigned-issuer\n",
    "  secretName: sklearn-default-cert\n",
    "END"
   ]
  },
  {
   "cell_type": "code",
   "execution_count": 25,
   "metadata": {},
   "outputs": [
    {
     "name": "stdout",
     "output_type": "stream",
     "text": [
      "NAME                   READY   SECRET                 AGE\r\n",
      "sklearn-default-cert   True    sklearn-default-cert   10s\r\n"
     ]
    }
   ],
   "source": [
    "!kubectl get certificate"
   ]
  },
  {
   "cell_type": "markdown",
   "metadata": {},
   "source": [
    "#### Confirm the certificate has been created"
   ]
  },
  {
   "cell_type": "code",
   "execution_count": 7,
   "metadata": {},
   "outputs": [
    {
     "name": "stdout",
     "output_type": "stream",
     "text": [
      "NAME                   TYPE                DATA   AGE\r\n",
      "sklearn-default-cert   kubernetes.io/tls   3      33s\r\n"
     ]
    }
   ],
   "source": [
    "!kubectl get secret sklearn-default-cert "
   ]
  },
  {
   "cell_type": "markdown",
   "metadata": {},
   "source": [
    "#### Create a NON-SSL seldon core model"
   ]
  },
  {
   "cell_type": "code",
   "execution_count": 33,
   "metadata": {},
   "outputs": [
    {
     "name": "stdout",
     "output_type": "stream",
     "text": [
      "seldondeployment.machinelearning.seldon.io/sklearn configured\n"
     ]
    }
   ],
   "source": [
    "%%bash\n",
    "kubectl apply -f - << END\n",
    "apiVersion: machinelearning.seldon.io/v1\n",
    "kind: SeldonDeployment\n",
    "metadata:\n",
    "  name: sklearn\n",
    "spec:\n",
    "  predictors:\n",
    "  - graph:\n",
    "      children: []\n",
    "      implementation: SKLEARN_SERVER\n",
    "      modelUri: gs://seldon-models/sklearn/iris\n",
    "      name: classifier\n",
    "    name: default\n",
    "    replicas: 1\n",
    "END"
   ]
  },
  {
   "cell_type": "markdown",
   "metadata": {},
   "source": [
    "#### And an SSL seldon core model"
   ]
  },
  {
   "cell_type": "code",
   "execution_count": 34,
   "metadata": {},
   "outputs": [
    {
     "name": "stdout",
     "output_type": "stream",
     "text": [
      "seldondeployment.machinelearning.seldon.io/sklearn-ssl created\n"
     ]
    }
   ],
   "source": [
    "%%bash\n",
    "kubectl apply -f - << END\n",
    "apiVersion: machinelearning.seldon.io/v1\n",
    "kind: SeldonDeployment\n",
    "metadata:\n",
    "  name: sklearn-ssl\n",
    "spec:\n",
    "  predictors:\n",
    "  - graph:\n",
    "      children: []\n",
    "      implementation: SKLEARN_SERVER\n",
    "      modelUri: gs://seldon-models/sklearn/iris\n",
    "      name: classifier\n",
    "    name: default\n",
    "    replicas: 1\n",
    "    ssl:\n",
    "      certSecretName: sklearn-default-cert \n",
    "END"
   ]
  },
  {
   "cell_type": "code",
   "execution_count": 10,
   "metadata": {},
   "outputs": [
    {
     "name": "stdout",
     "output_type": "stream",
     "text": [
      "NAME      AGE\r\n",
      "sklearn   11s\r\n"
     ]
    }
   ],
   "source": [
    "!kubectl get sdep"
   ]
  },
  {
   "cell_type": "markdown",
   "metadata": {},
   "source": [
    "#### Send requests to the NON-SSL model\n",
    "\n",
    "First we'll try sending a non-ssl request (which should work):"
   ]
  },
  {
   "cell_type": "code",
   "execution_count": 35,
   "metadata": {},
   "outputs": [
    {
     "name": "stdout",
     "output_type": "stream",
     "text": [
      "> POST /api/v1.0/predictions HTTP/1.1\r",
      "\r\n",
      "> User-Agent: curl/7.35.0\r",
      "\r\n",
      "> Host: sklearn-default.default.svc.cluster.local:8000\r",
      "\r\n",
      "> Accept: */*\r",
      "\r\n",
      "> Content-Type: application/json\r",
      "\r\n",
      "> Content-Length: 64\r",
      "\r\n",
      "> \r",
      "\r\n",
      "< HTTP/1.1 200 OK\r",
      "\r\n",
      "< Access-Control-Allow-Headers: Accept, Accept-Encoding, Authorization, Content-Length, Content-Type, X-CSRF-Token\r",
      "\r\n",
      "< Access-Control-Allow-Methods: OPTIONS,POST\r",
      "\r\n",
      "< Access-Control-Allow-Origin: *\r",
      "\r\n",
      "< Content-Type: application/json\r",
      "\r\n",
      "< Seldon-Puid: 1dde70f3-00ed-4165-807e-874544128b7b\r",
      "\r\n",
      "< X-Content-Type-Options: nosniff\r",
      "\r\n",
      "< Date: Tue, 25 Aug 2020 15:39:06 GMT\r",
      "\r\n",
      "< Content-Length: 139\r",
      "\r\n",
      "< \r",
      "\r\n",
      "{\"data\":{\"names\":[\"t:0\",\"t:1\",\"t:2\"],\"ndarray\":[[0.0006985194531162841,0.003668039039435755,0.9956334415074478]]},\"meta\":{\"puid\":\"hello\"}}\r\n"
     ]
    }
   ],
   "source": [
    "%%bash\n",
    "kubectl run --quiet=true -it --rm curl --image=radial/busyboxplus:curl --restart=Never -- \\\n",
    "    curl -X POST -v \"http://sklearn-default.default.svc.cluster.local:8000/api/v1.0/predictions\" \\\n",
    "        -H \"Content-Type: application/json\" -d '{\"data\": { \"ndarray\": [[1,2,3,4]]}, \"meta\": { \"puid\": \"hello\" }}'"
   ]
  },
  {
   "cell_type": "markdown",
   "metadata": {},
   "source": [
    "And then we'll send an SSL request (which should fail)"
   ]
  },
  {
   "cell_type": "code",
   "execution_count": 37,
   "metadata": {},
   "outputs": [
    {
     "name": "stdout",
     "output_type": "stream",
     "text": [
      "* SSLv3, TLS handshake, Client hello (1):\r\n",
      "* Unknown SSL protocol error in connection to sklearn-default.default.svc.cluster.local:8000 \r\n",
      "curl: (35) Unknown SSL protocol error in connection to sklearn-default.default.svc.cluster.local:8000 \r\n",
      "done\n"
     ]
    },
    {
     "name": "stderr",
     "output_type": "stream",
     "text": [
      "pod default/curl terminated (Error)\n"
     ]
    }
   ],
   "source": [
    "%%bash\n",
    "kubectl run --quiet=true -it --rm curl --image=radial/busyboxplus:curl --restart=Never -- \\\n",
    "    curl -X POST -k -v \"https://sklearn-default.default.svc.cluster.local:8000/api/v1.0/predictions\" \\\n",
    "        -H \"Content-Type: application/json\" -d '{\"data\": { \"ndarray\": [[1,2,3,4]]}, \"meta\": { \"puid\": \"hello\" }}' || echo \"done\""
   ]
  },
  {
   "cell_type": "markdown",
   "metadata": {},
   "source": [
    "#### Send requests to the SSL-ENABLED model\n",
    "\n",
    "First we send a non-ssl request (which should FAIL)"
   ]
  },
  {
   "cell_type": "code",
   "execution_count": 27,
   "metadata": {},
   "outputs": [
    {
     "name": "stdout",
     "output_type": "stream",
     "text": [
      "> POST /api/v1.0/predictions HTTP/1.1\r",
      "\r\n",
      "> User-Agent: curl/7.35.0\r",
      "\r\n",
      "> Host: sklearn-ssl-grpc-default.default.svc.cluster.local:8000\r",
      "\r\n",
      "> Accept: */*\r",
      "\r\n",
      "> Content-Type: application/json\r",
      "\r\n",
      "> Content-Length: 64\r",
      "\r\n",
      "> \r",
      "\r\n",
      "* Empty reply from server\r\n",
      "curl: (52) Empty reply from server\r\n",
      "done\n"
     ]
    },
    {
     "name": "stderr",
     "output_type": "stream",
     "text": [
      "pod default/curl terminated (Error)\n"
     ]
    }
   ],
   "source": [
    "%%bash\n",
    "kubectl run --quiet=true -it --rm curl --image=radial/busyboxplus:curl --restart=Never -- \\\n",
    "    curl -X POST -v \"http://sklearn-ssl-default.default.svc.cluster.local:8000/api/v1.0/predictions\" \\\n",
    "        -H \"Content-Type: application/json\" -d '{\"data\": { \"ndarray\": [[1,2,3,4]]}, \"meta\": { \"puid\": \"hello\" }}' || echo \"done\""
   ]
  },
  {
   "cell_type": "markdown",
   "metadata": {},
   "source": [
    "Then we send an SSL request (which should be SUCCESSFUL)"
   ]
  },
  {
   "cell_type": "code",
   "execution_count": 29,
   "metadata": {},
   "outputs": [
    {
     "name": "stdout",
     "output_type": "stream",
     "text": [
      "* SSLv3, TLS handshake, Client hello (1):\r\n",
      "* SSLv3, TLS handshake, Server hello (2):\r\n",
      "* SSLv3, TLS handshake, CERT (11):\r\n",
      "* SSLv3, TLS handshake, Server key exchange (12):\r\n",
      "* SSLv3, TLS handshake, Server finished (14):\r\n",
      "* SSLv3, TLS handshake, Client key exchange (16):\r\n",
      "* SSLv3, TLS change cipher, Client hello (1):\r\n",
      "* SSLv3, TLS handshake, Finished (20):\r\n",
      "* SSLv3, TLS change cipher, Client hello (1):\r\n",
      "* SSLv3, TLS handshake, Finished (20):\r\n",
      "> POST /api/v1.0/predictions HTTP/1.1\r",
      "\r\n",
      "> User-Agent: curl/7.35.0\r",
      "\r\n",
      "> Host: sklearn-ssl-grpc-default.default.svc.cluster.local:8000\r",
      "\r\n",
      "> Accept: */*\r",
      "\r\n",
      "> Content-Type: application/json\r",
      "\r\n",
      "> Content-Length: 64\r",
      "\r\n",
      "> \r",
      "\r\n",
      "< HTTP/1.1 500 Internal Server Error\r",
      "\r\n",
      "< Access-Control-Allow-Headers: Accept, Accept-Encoding, Authorization, Content-Length, Content-Type, X-CSRF-Token\r",
      "\r\n",
      "< Access-Control-Allow-Methods: OPTIONS,POST\r",
      "\r\n",
      "< Access-Control-Allow-Origin: *\r",
      "\r\n",
      "< Seldon-Puid: a5c0b59f-1b50-492a-ad58-56700b632b8e\r",
      "\r\n",
      "< X-Content-Type-Options: nosniff\r",
      "\r\n",
      "< Date: Tue, 01 Sep 2020 11:04:44 GMT\r",
      "\r\n",
      "< Content-Length: 0\r",
      "\r\n",
      "< \r",
      "\r\n"
     ]
    }
   ],
   "source": [
    "%%bash\n",
    "kubectl run --quiet=true -it --rm curl --image=radial/busyboxplus:curl --restart=Never -- \\\n",
    "    curl -X POST -k -v \"https://sklearn-ssl-grpc-default.default.svc.cluster.local:8000/api/v1.0/predictions\" \\\n",
    "        -H \"Content-Type: application/json\" -d '{\"data\": { \"ndarray\": [[1,2,3,4]]}, \"meta\": { \"puid\": \"hello\" }}' || echo \"done\""
   ]
  },
  {
   "cell_type": "markdown",
   "metadata": {},
   "source": [
    "#### Test Ambassador Configured with SSL\n",
    "You can install Ambassador by following the instructions in [the documentation](https://docs.seldon.io/projects/seldon-core/en/latest/ingress/ambassador.html#option-1-ambassador-api-gateway).\n",
    "\n",
    "The external API would still be reachable without SSL. \n",
    "\n",
    "This means that both models (the SSL and NON-SSL) will be reachable through port 80 in the ambassador gateway.\n",
    "\n",
    "This is because the Ambassador gateway establishes an SSL communication with the SSL-ENABLED model, and establishes a non-ssl communication with the NON-SSL-ENABLED model.\n",
    "\n",
    "##### Testing the NON-SSL model"
   ]
  },
  {
   "cell_type": "code",
   "execution_count": 41,
   "metadata": {},
   "outputs": [
    {
     "name": "stdout",
     "output_type": "stream",
     "text": [
      "> POST /seldon/default/sklearn/api/v1.0/predictions HTTP/1.1\r",
      "\r",
      "\r\n",
      "> User-Agent: curl/7.35.0\r",
      "\r",
      "\r\n",
      "> Host: ambassador.ambassador.svc.cluster.local\r",
      "\r",
      "\r\n",
      "> Accept: */*\r",
      "\r",
      "\r\n",
      "> Content-Type: application/json\r",
      "\r",
      "\r\n",
      "> Content-Length: 64\r",
      "\r",
      "\r\n",
      "> \r",
      "\r",
      "\r\n",
      "< HTTP/1.1 200 OK\r",
      "\r",
      "\r\n",
      "< access-control-allow-headers: Accept, Accept-Encoding, Authorization, Content-Length, Content-Type, X-CSRF-Token\r",
      "\r",
      "\r\n",
      "< access-control-allow-methods: OPTIONS,POST\r",
      "\r",
      "\r\n",
      "< access-control-allow-origin: *\r",
      "\r",
      "\r\n",
      "< content-type: application/json\r",
      "\r",
      "\r\n",
      "< seldon-puid: f2133d1c-7c19-45a4-aba1-4b46ede8d13c\r",
      "\r",
      "\r\n",
      "< x-content-type-options: nosniff\r",
      "\r",
      "\r\n",
      "< date: Tue, 25 Aug 2020 15:43:45 GMT\r",
      "\r",
      "\r\n",
      "< content-length: 139\r",
      "\r",
      "\r\n",
      "< x-envoy-upstream-service-time: 3\r",
      "\r",
      "\r\n",
      "< server: envoy\r",
      "\r",
      "\r\n",
      "< \r",
      "\r",
      "\r\n",
      "{\"data\":{\"names\":[\"t:0\",\"t:1\",\"t:2\"],\"ndarray\":[[0.0006985194531162841,0.003668039039435755,0.9956334415074478]]},\"meta\":{\"puid\":\"hello\"}}\r",
      "\r\n"
     ]
    }
   ],
   "source": [
    "!kubectl run --quiet=true -it --rm curl --image=radial/busyboxplus:curl --restart=Never -- \\\n",
    "    curl -X POST -k -v \"http://ambassador.ambassador.svc.cluster.local/seldon/default/sklearn/api/v1.0/predictions\" \\\n",
    "        -H \"Content-Type: application/json\" -d '{\"data\": { \"ndarray\": [[1,2,3,4]]}, \"meta\": { \"puid\": \"hello\" }}'"
   ]
  },
  {
   "cell_type": "markdown",
   "metadata": {},
   "source": [
    "Testing the SSL ENABLED Model"
   ]
  },
  {
   "cell_type": "code",
   "execution_count": 42,
   "metadata": {},
   "outputs": [
    {
     "name": "stdout",
     "output_type": "stream",
     "text": [
      "> POST /seldon/default/sklearn-ssl/api/v1.0/predictions HTTP/1.1\r",
      "\r",
      "\r\n",
      "> User-Agent: curl/7.35.0\r",
      "\r",
      "\r\n",
      "> Host: ambassador.ambassador.svc.cluster.local\r",
      "\r",
      "\r\n",
      "> Accept: */*\r",
      "\r",
      "\r\n",
      "> Content-Type: application/json\r",
      "\r",
      "\r\n",
      "> Content-Length: 64\r",
      "\r",
      "\r\n",
      "> \r",
      "\r",
      "\r\n",
      "< HTTP/1.1 200 OK\r",
      "\r",
      "\r\n",
      "< access-control-allow-headers: Accept, Accept-Encoding, Authorization, Content-Length, Content-Type, X-CSRF-Token\r",
      "\r",
      "\r\n",
      "< access-control-allow-methods: OPTIONS,POST\r",
      "\r",
      "\r\n",
      "< access-control-allow-origin: *\r",
      "\r",
      "\r\n",
      "< content-type: application/json\r",
      "\r",
      "\r\n",
      "< seldon-puid: 5db83c18-1d1b-4b94-b2c5-b579a45351ba\r",
      "\r",
      "\r\n",
      "< x-content-type-options: nosniff\r",
      "\r",
      "\r\n",
      "< date: Tue, 25 Aug 2020 15:44:05 GMT\r",
      "\r",
      "\r\n",
      "< content-length: 139\r",
      "\r",
      "\r\n",
      "< x-envoy-upstream-service-time: 7\r",
      "\r",
      "\r\n",
      "< server: envoy\r",
      "\r",
      "\r\n",
      "< \r",
      "\r",
      "\r\n",
      "{\"data\":{\"names\":[\"t:0\",\"t:1\",\"t:2\"],\"ndarray\":[[0.0006985194531162841,0.003668039039435755,0.9956334415074478]]},\"meta\":{\"puid\":\"hello\"}}\r",
      "\r\n"
     ]
    }
   ],
   "source": [
    "!kubectl run --quiet=true -it --rm curl --image=radial/busyboxplus:curl --restart=Never -- \\\n",
    "    curl -X POST -k -v \"http://ambassador.ambassador.svc.cluster.local/seldon/default/sklearn-ssl/api/v1.0/predictions\" \\\n",
    "        -H \"Content-Type: application/json\" -d '{\"data\": { \"ndarray\": [[1,2,3,4]]}, \"meta\": { \"puid\": \"hello\" }}'"
   ]
  },
  {
   "cell_type": "markdown",
   "metadata": {},
   "source": [
    "### Creating a GRPC model"
   ]
  },
  {
   "cell_type": "code",
   "execution_count": 66,
   "metadata": {},
   "outputs": [
    {
     "name": "stdout",
     "output_type": "stream",
     "text": [
      "seldondeployment.machinelearning.seldon.io/sklearn-ssl-grpc created\n"
     ]
    }
   ],
   "source": [
    "%%bash\n",
    "kubectl apply -f - << END\n",
    "apiVersion: machinelearning.seldon.io/v1\n",
    "kind: SeldonDeployment\n",
    "metadata:\n",
    "  name: sklearn-ssl-grpc\n",
    "spec:\n",
    "  transport: grpc\n",
    "  predictors:\n",
    "  - graph:\n",
    "      children: []\n",
    "      implementation: SKLEARN_SERVER\n",
    "      modelUri: gs://seldon-models/sklearn/iris\n",
    "      name: classifier\n",
    "    name: default\n",
    "    replicas: 1\n",
    "    ssl:\n",
    "      certSecretName: sklearn-default-cert \n",
    "END"
   ]
  },
  {
   "cell_type": "markdown",
   "metadata": {},
   "source": [
    "### Test the service directly\n",
    "We can send a request directly to the service by portforwarding the service with the following command:\n",
    "    \n",
    "```\n",
    "kubectl port-forward svc/sklearn-ssl-grpc-default 8000:8000\n",
    "```\n",
    "\n",
    "And then running the following request using the GRPCURL library (which you can download in their github page):"
   ]
  },
  {
   "cell_type": "markdown",
   "metadata": {},
   "source": [
    "And finally we can send a request via the ambassador port as above:"
   ]
  },
  {
   "cell_type": "code",
   "execution_count": 39,
   "metadata": {},
   "outputs": [
    {
     "name": "stdout",
     "output_type": "stream",
     "text": [
      "{\n",
      "  \"meta\": {\n",
      "    \n",
      "  },\n",
      "  \"data\": {\n",
      "    \"names\": [\n",
      "      \"t:0\",\n",
      "      \"t:1\",\n",
      "      \"t:2\"\n",
      "    ],\n",
      "    \"ndarray\": [\n",
      "        [\n",
      "              0.0006985194531162841,\n",
      "              0.003668039039435755,\n",
      "              0.9956334415074478\n",
      "            ]\n",
      "      ]\n",
      "  }\n",
      "}\n"
     ]
    }
   ],
   "source": [
    "%%bash\n",
    "cd ../../../executor/proto && \\\n",
    "grpcurl \\\n",
    "         -rpc-header seldon:sklearn -rpc-header namespace:default \\\n",
    "        -d '{\"data\": {\"ndarray\": [[1,2,3,4]]}}' \\\n",
    "        -insecure -proto prediction.proto  localhost:8000 seldon.protos.Seldon/Predict"
   ]
  },
  {
   "cell_type": "code",
   "execution_count": null,
   "metadata": {},
   "outputs": [],
   "source": []
  }
 ],
 "metadata": {
  "kernelspec": {
   "display_name": "Python 3",
   "language": "python",
   "name": "python3"
  },
  "language_info": {
   "codemirror_mode": {
    "name": "ipython",
    "version": 3
   },
   "file_extension": ".py",
   "mimetype": "text/x-python",
   "name": "python",
   "nbconvert_exporter": "python",
   "pygments_lexer": "ipython3",
   "version": "3.7.4"
  }
 },
 "nbformat": 4,
 "nbformat_minor": 2
}
