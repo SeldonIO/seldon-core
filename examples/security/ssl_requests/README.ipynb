{
 "cells": [
  {
   "cell_type": "markdown",
   "metadata": {},
   "source": [
    "## SSL Enabled Requests\n",
    "\n",
    "Install seldon with ingress provider.\n"
   ]
  },
  {
   "cell_type": "code",
   "execution_count": null,
   "metadata": {},
   "outputs": [],
   "source": [
    "%%bash\n",
    "kubectl create ns cert-manager\n",
    "helm install \\\n",
    "  cert-manager jetstack/cert-manager \\\n",
    "  --namespace cert-manager \\\n",
    "  --version v0.15.1 \\\n",
    "  --set installCRDs=true"
   ]
  },
  {
   "cell_type": "markdown",
   "metadata": {},
   "source": [
    "#### Deploying self signed certificate"
   ]
  },
  {
   "cell_type": "code",
   "execution_count": 8,
   "metadata": {},
   "outputs": [
    {
     "name": "stdout",
     "output_type": "stream",
     "text": [
      "issuer.cert-manager.io/selfsigned-issuer created\n"
     ]
    }
   ],
   "source": [
    "%%bash\n",
    "kubectl apply -f - << END\n",
    "apiVersion: cert-manager.io/v1alpha2\n",
    "kind: Issuer\n",
    "metadata:\n",
    "  name: selfsigned-issuer\n",
    "  namespace: default\n",
    "spec:\n",
    "  selfSigned: {}\n",
    "END"
   ]
  },
  {
   "cell_type": "code",
   "execution_count": 4,
   "metadata": {},
   "outputs": [
    {
     "name": "stdout",
     "output_type": "stream",
     "text": [
      "NAME                READY   AGE\r\n",
      "selfsigned-issuer   True    23s\r\n"
     ]
    }
   ],
   "source": [
    "!kubectl get issuer "
   ]
  },
  {
   "cell_type": "code",
   "execution_count": 9,
   "metadata": {},
   "outputs": [
    {
     "name": "stdout",
     "output_type": "stream",
     "text": [
      "certificate.cert-manager.io/selfsigned-crt created\n"
     ]
    }
   ],
   "source": [
    "%%bash\n",
    "kubectl apply -f - << END\n",
    "apiVersion: cert-manager.io/v1alpha2\n",
    "kind: Certificate\n",
    "metadata:\n",
    "  name: selfsigned-crt\n",
    "spec:\n",
    "  secretName: selfsigned-crt-secret\n",
    "  dnsNames:\n",
    "  - foo.example.com\n",
    "  issuerRef:\n",
    "    kind: Issuer\n",
    "    group: cert-manager.io\n",
    "    name: selfsigned-issuer\n",
    "END"
   ]
  },
  {
   "cell_type": "code",
   "execution_count": 11,
   "metadata": {},
   "outputs": [
    {
     "name": "stdout",
     "output_type": "stream",
     "text": [
      "apiVersion: v1\r\n",
      "items:\r\n",
      "- apiVersion: cert-manager.io/v1alpha3\r\n",
      "  kind: Certificate\r\n",
      "  metadata:\r\n",
      "    annotations:\r\n",
      "      kubectl.kubernetes.io/last-applied-configuration: |\r\n",
      "        {\"apiVersion\":\"cert-manager.io/v1alpha2\",\"kind\":\"Certificate\",\"metadata\":{\"annotations\":{},\"name\":\"selfsigned-crt\",\"namespace\":\"default\"},\"spec\":{\"dnsNames\":[\"foo.example.com\"],\"issuerRef\":{\"group\":\"cert-manager.io\",\"kind\":\"Issuer\",\"name\":\"selfsigned-issuer\"},\"secretName\":\"selfsigned-crt-secret\"}}\r\n",
      "    creationTimestamp: \"2020-06-19T18:35:01Z\"\r\n",
      "    generation: 1\r\n",
      "    name: selfsigned-crt\r\n",
      "    namespace: default\r\n",
      "    resourceVersion: \"630874\"\r\n",
      "    selfLink: /apis/cert-manager.io/v1alpha3/namespaces/default/certificates/selfsigned-crt\r\n",
      "    uid: f7196e82-6bc8-42fb-899e-8f53a408bdce\r\n",
      "  spec:\r\n",
      "    dnsNames:\r\n",
      "    - foo.example.com\r\n",
      "    issuerRef:\r\n",
      "      group: cert-manager.io\r\n",
      "      kind: Issuer\r\n",
      "      name: selfsigned-issuer\r\n",
      "    secretName: selfsigned-crt-secret\r\n",
      "  status:\r\n",
      "    conditions:\r\n",
      "    - lastTransitionTime: \"2020-06-19T18:35:01Z\"\r\n",
      "      message: Certificate is up to date and has not expired\r\n",
      "      reason: Ready\r\n",
      "      status: \"True\"\r\n",
      "      type: Ready\r\n",
      "    notAfter: \"2020-09-17T18:35:01Z\"\r\n",
      "kind: List\r\n",
      "metadata:\r\n",
      "  resourceVersion: \"\"\r\n",
      "  selfLink: \"\"\r\n"
     ]
    }
   ],
   "source": [
    "!kubectl get certificate -o yaml"
   ]
  },
  {
   "cell_type": "code",
   "execution_count": null,
   "metadata": {},
   "outputs": [],
   "source": []
  }
 ],
 "metadata": {
  "kernelspec": {
   "display_name": "Python 3",
   "language": "python",
   "name": "python3"
  },
  "language_info": {
   "codemirror_mode": {
    "name": "ipython",
    "version": 3
   },
   "file_extension": ".py",
   "mimetype": "text/x-python",
   "name": "python",
   "nbconvert_exporter": "python",
   "pygments_lexer": "ipython3",
   "version": "3.7.4"
  }
 },
 "nbformat": 4,
 "nbformat_minor": 2
}
