{
 "cells": [
  {
   "cell_type": "markdown",
   "metadata": {},
   "source": [
    "## SSL Enabled Requests\n",
    "\n",
    "Install seldon with ingress provider.\n"
   ]
  },
  {
   "cell_type": "code",
   "execution_count": null,
   "metadata": {},
   "outputs": [],
   "source": [
    "%%bash\n",
    "kubectl create ns cert-manager\n",
    "helm install \\\n",
    "  cert-manager jetstack/cert-manager \\\n",
    "  --namespace cert-manager \\\n",
    "  --version v0.15.1 \\\n",
    "  --set installCRDs=true"
   ]
  },
  {
   "cell_type": "markdown",
   "metadata": {},
   "source": [
    "#### Deploying self signed certificate"
   ]
  },
  {
   "cell_type": "code",
   "execution_count": 8,
   "metadata": {},
   "outputs": [
    {
     "name": "stdout",
     "output_type": "stream",
     "text": [
      "issuer.cert-manager.io/selfsigned-issuer created\n"
     ]
    }
   ],
   "source": [
    "%%bash\n",
    "kubectl apply -f - << END\n",
    "apiVersion: cert-manager.io/v1alpha2\n",
    "kind: Issuer\n",
    "metadata:\n",
    "  name: selfsigned-issuer\n",
    "  namespace: default\n",
    "spec:\n",
    "  selfSigned: {}\n",
    "END"
   ]
  },
  {
   "cell_type": "code",
   "execution_count": 4,
   "metadata": {},
   "outputs": [
    {
     "name": "stdout",
     "output_type": "stream",
     "text": [
      "NAME                READY   AGE\r\n",
      "selfsigned-issuer   True    23s\r\n"
     ]
    }
   ],
   "source": [
    "!kubectl get issuer"
   ]
  },
  {
   "cell_type": "code",
   "execution_count": 24,
   "metadata": {},
   "outputs": [
    {
     "name": "stdout",
     "output_type": "stream",
     "text": [
      "certificate.cert-manager.io/sklearn-default-cert created\n"
     ]
    }
   ],
   "source": [
    "%%bash \n",
    "kubectl apply -f - << END\n",
    "apiVersion: cert-manager.io/v1alpha3\n",
    "kind: Certificate\n",
    "metadata:\n",
    "  name: sklearn-default-cert\n",
    "spec:\n",
    "  dnsNames:\n",
    "  - example.com\n",
    "  issuerRef:\n",
    "    name: selfsigned-issuer\n",
    "  secretName: sklearn-default-cert\n",
    "END"
   ]
  },
  {
   "cell_type": "code",
   "execution_count": 25,
   "metadata": {},
   "outputs": [
    {
     "name": "stdout",
     "output_type": "stream",
     "text": [
      "NAME                   READY   SECRET                 AGE\r\n",
      "sklearn-default-cert   True    sklearn-default-cert   10s\r\n"
     ]
    }
   ],
   "source": [
    "!kubectl get certificate"
   ]
  },
  {
   "cell_type": "code",
   "execution_count": 79,
   "metadata": {},
   "outputs": [
    {
     "name": "stdout",
     "output_type": "stream",
     "text": [
      "seldondeployment.machinelearning.seldon.io/sklearn configured\n"
     ]
    }
   ],
   "source": [
    "%%bash\n",
    "kubectl apply -f - << END\n",
    "apiVersion: machinelearning.seldon.io/v1\n",
    "kind: SeldonDeployment\n",
    "metadata:\n",
    "  name: sklearn\n",
    "spec:\n",
    "  name: iris\n",
    "  predictors:\n",
    "  - graph:\n",
    "      children: []\n",
    "      implementation: SKLEARN_SERVER\n",
    "      modelUri: gs://seldon-models/sklearn/iris\n",
    "      name: classifier\n",
    "    name: default\n",
    "    replicas: 1\n",
    "    ssl:\n",
    "      certSecretName: sklearn-default-cert \n",
    "END"
   ]
  },
  {
   "cell_type": "code",
   "execution_count": 14,
   "metadata": {},
   "outputs": [
    {
     "name": "stdout",
     "output_type": "stream",
     "text": [
      "NAME                   READY   SECRET                 AGE\r\n",
      "sklearn-default-cert   True    sklearn-default-cert   3m1s\r\n"
     ]
    }
   ],
   "source": [
    "!kubectl get sdep"
   ]
  },
  {
   "cell_type": "code",
   "execution_count": null,
   "metadata": {},
   "outputs": [],
   "source": [
    "### Send a request from inside cluster"
   ]
  },
  {
   "cell_type": "code",
   "execution_count": 84,
   "metadata": {},
   "outputs": [
    {
     "name": "stdout",
     "output_type": "stream",
     "text": [
      "* SSLv3, TLS handshake, Client hello (1):\r\n",
      "* SSLv3, TLS handshake, Server hello (2):\r\n",
      "* SSLv3, TLS handshake, CERT (11):\r\n",
      "* SSLv3, TLS handshake, Server key exchange (12):\r\n",
      "* SSLv3, TLS handshake, Server finished (14):\r\n",
      "* SSLv3, TLS handshake, Client key exchange (16):\r\n",
      "* SSLv3, TLS change cipher, Client hello (1):\r\n",
      "* SSLv3, TLS handshake, Finished (20):\r\n",
      "* SSLv3, TLS change cipher, Client hello (1):\r\n",
      "* SSLv3, TLS handshake, Finished (20):\r\n",
      "> POST /api/v1.0/predictions HTTP/1.1\r",
      "\r\n",
      "> User-Agent: curl/7.35.0\r",
      "\r\n",
      "> Host: sklearn-default.default.svc.cluster.local:8000\r",
      "\r\n",
      "> Accept: */*\r",
      "\r\n",
      "> Content-Type: application/json\r",
      "\r\n",
      "> Content-Length: 64\r",
      "\r\n",
      "> \r",
      "\r\n",
      "< HTTP/1.1 200 OK\r",
      "\r\n",
      "< Content-Type: application/json\r",
      "\r\n",
      "< Seldon-Puid: 638d5e55-7a04-4c9d-94e1-93b7adb99039\r",
      "\r\n",
      "< X-Content-Type-Options: nosniff\r",
      "\r\n",
      "< Date: Tue, 23 Jun 2020 11:32:03 GMT\r",
      "\r\n",
      "< Content-Length: 139\r",
      "\r\n",
      "< \r",
      "\r\n",
      "{\"data\":{\"names\":[\"t:0\",\"t:1\",\"t:2\"],\"ndarray\":[[0.0006985194531162841,0.003668039039435755,0.9956334415074478]]},\"meta\":{\"puid\":\"hello\"}}\r\n"
     ]
    }
   ],
   "source": [
    "%%bash\n",
    "kubectl run --quiet=true -it --rm curl --image=radial/busyboxplus:curl --restart=Never -- \\\n",
    "    curl -X POST -k -v \"https://sklearn-default.default.svc.cluster.local:8000/api/v1.0/predictions\" \\\n",
    "        -H \"Content-Type: application/json\" -d '{\"data\": { \"ndarray\": [[1,2,3,4]]}, \"meta\": { \"puid\": \"hello\" }}'"
   ]
  },
  {
   "cell_type": "code",
   "execution_count": 34,
   "metadata": {},
   "outputs": [
    {
     "name": "stdout",
     "output_type": "stream",
     "text": [
      "gateway.networking.istio.io \"seldon-gateway\" deleted\r\n"
     ]
    }
   ],
   "source": [
    "!kubectl delete gateway -n istio-system seldon-gateway || true"
   ]
  },
  {
   "cell_type": "code",
   "execution_count": 39,
   "metadata": {},
   "outputs": [
    {
     "name": "stdout",
     "output_type": "stream",
     "text": [
      "gateway.networking.istio.io/seldon-gateway created\n"
     ]
    }
   ],
   "source": [
    "%%bash\n",
    "kubectl apply -n istio-system -f - << END\n",
    "apiVersion: networking.istio.io/v1beta1\n",
    "kind: Gateway\n",
    "metadata:\n",
    "  name: seldon-gateway\n",
    "spec:\n",
    "  selector:\n",
    "    istio: ingressgateway\n",
    "  servers:\n",
    "  - hosts:\n",
    "    - '*'\n",
    "    port:\n",
    "      name: http\n",
    "      number: 80\n",
    "      protocol: HTTP\n",
    "  - hosts:\n",
    "    - '*'\n",
    "    port:\n",
    "      name: https\n",
    "      number: 443\n",
    "      protocol: HTTPS\n",
    "    tls:\n",
    "      mode: PASSTHROUGH\n",
    "  - hosts:\n",
    "    - '*'\n",
    "    port:\n",
    "      name: https2\n",
    "      number: 8443\n",
    "      protocol: HTTPS\n",
    "    tls:\n",
    "      mode: PASSTHROUGH\n",
    "END"
   ]
  },
  {
   "cell_type": "code",
   "execution_count": 42,
   "metadata": {},
   "outputs": [
    {
     "name": "stdout",
     "output_type": "stream",
     "text": [
      "virtualservice.networking.istio.io/sklearn-https created\n"
     ]
    }
   ],
   "source": [
    "%%bash\n",
    "kubectl apply -f - << END\n",
    "apiVersion: networking.istio.io/v1beta1\n",
    "kind: VirtualService\n",
    "metadata:\n",
    "  name: sklearn-https\n",
    "spec:\n",
    "  gateways:\n",
    "  - istio-system/seldon-gateway\n",
    "  hosts:\n",
    "  - '*'\n",
    "  http:\n",
    "  - match:\n",
    "    - uri:\n",
    "        prefix: /seldon/default/sklearn/\n",
    "    rewrite:\n",
    "      uri: /\n",
    "    route:\n",
    "    - destination:\n",
    "        host: sklearn-default\n",
    "        port:\n",
    "          number: 8000\n",
    "        subset: default\n",
    "  tls:\n",
    "  - match:\n",
    "    - port: 443\n",
    "      sniHosts:\n",
    "      - '*'\n",
    "    route:\n",
    "    - destination:\n",
    "        host: sklearn-default\n",
    "        port:\n",
    "          number: 8000\n",
    "        subset: default\n",
    "END"
   ]
  },
  {
   "cell_type": "code",
   "execution_count": 85,
   "metadata": {},
   "outputs": [
    {
     "name": "stdout",
     "output_type": "stream",
     "text": [
      "{\"data\":{\"names\":[\"t:0\",\"t:1\",\"t:2\"],\"ndarray\":[[0.0006985194531162841,0.003668039039435755,0.9956334415074478]]},\"meta\":{}}\n"
     ]
    },
    {
     "name": "stderr",
     "output_type": "stream",
     "text": [
      "Note: Unnecessary use of -X or --request, POST is already inferred.\n",
      "  % Total    % Received % Xferd  Average Speed   Time    Time     Time  Current\n",
      "                                 Dload  Upload   Total   Spent    Left  Speed\n",
      "\r",
      "  0     0    0     0    0     0      0      0 --:--:-- --:--:-- --:--:--     0*   Trying 127.0.0.1...\n",
      "* TCP_NODELAY set\n",
      "* Connected to localhost (127.0.0.1) port 80 (#0)\n",
      "> POST /seldon/default/sklearn/api/v1.0/predictions HTTP/1.1\r\n",
      "> Host: localhost\r\n",
      "> User-Agent: curl/7.58.0\r\n",
      "> Accept: */*\r\n",
      "> Content-Type: application/json\r\n",
      "> Content-Length: 34\r\n",
      "> \r\n",
      "} [34 bytes data]\n",
      "* upload completely sent off: 34 out of 34 bytes\n",
      "< HTTP/1.1 200 OK\r\n",
      "< content-type: application/json\r\n",
      "< seldon-puid: 394bfaf4-7e46-481e-8f99-b5b4f29ad297\r\n",
      "< x-content-type-options: nosniff\r\n",
      "< date: Tue, 23 Jun 2020 11:32:16 GMT\r\n",
      "< content-length: 125\r\n",
      "< x-envoy-upstream-service-time: 4\r\n",
      "< server: envoy\r\n",
      "< \r\n",
      "{ [125 bytes data]\n",
      "\r",
      "100   159  100   125  100    34   8928   2428 --:--:-- --:--:-- --:--:-- 11357\n",
      "* Connection #0 to host localhost left intact\n"
     ]
    }
   ],
   "source": [
    "%%bash\n",
    "curl -v -X POST -H 'Content-Type: application/json' \\\n",
    "    -d '{\"data\": {\"ndarray\": [[1,2,3,4]]}}' \\\n",
    "    http://localhost:80/seldon/default/sklearn/api/v1.0/predictions"
   ]
  },
  {
   "cell_type": "code",
   "execution_count": null,
   "metadata": {},
   "outputs": [],
   "source": [
    "%%bash\n",
    "cd ../../../executor/proto && \\\n",
    "grpcurl \\\n",
    "         -rpc-header seldon:sklearn -rpc-header namespace:default \\\n",
    "        -d '{\"data\": {\"ndarray\": []}}' \\\n",
    "         -proto prediction.proto  127.0.0.1:443 seldon.protos.Seldon/Predict"
   ]
  },
  {
   "cell_type": "code",
   "execution_count": null,
   "metadata": {},
   "outputs": [],
   "source": []
  }
 ],
 "metadata": {
  "kernelspec": {
   "display_name": "Python 3",
   "language": "python",
   "name": "python3"
  },
  "language_info": {
   "codemirror_mode": {
    "name": "ipython",
    "version": 3
   },
   "file_extension": ".py",
   "mimetype": "text/x-python",
   "name": "python",
   "nbconvert_exporter": "python",
   "pygments_lexer": "ipython3",
   "version": "3.7.4"
  }
 },
 "nbformat": 4,
 "nbformat_minor": 2
}
