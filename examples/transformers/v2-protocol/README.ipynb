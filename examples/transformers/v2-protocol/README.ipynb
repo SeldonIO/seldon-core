{
 "cells": [
  {
   "cell_type": "markdown",
   "id": "cdb42efd-86dd-4d4e-904f-5956aa4727ad",
   "metadata": {},
   "source": [
    "# Custom pre-processors with the V2 protocol\n",
    "\n",
    "Most of the time, the requests that we send to our model need some kind of processing.\n",
    "For example, extra information may need to be fetched (e.g. from a feature store), or processed, in order to obtain the actual tensors required by the model. One example for this use case are NLP models, where natural language needs first to be tokenised according to a vocabulary, or embedded by a 2nd model. \n",
    "\n",
    "In this tutorial, we will focus on this latter scenario.\n",
    "In particular, we will explore how to deploy a _tokeniser_ pre-transformer that converts our natural language text to tokens. \n",
    "This tokeniser will then be part of an inference graph, so that its output gets routed to a [GPT-2 model deployed using Triton](https://docs.seldon.io/projects/seldon-core/en/latest/examples/triton_gpt2_example.html).\n",
    "\n",
    "> **NOTE**: The tokeniser logic and the Triton artifacts are taken from the [GPT-2 Model example](https://docs.seldon.io/projects/seldon-core/en/latest/examples/triton_gpt2_example.html). To learn more about these, feel free to check that tutorial.\n",
    "\n",
    "![Inference graph with tokeniser and GPT-2 model](./gpt2-graph.svg)"
   ]
  },
  {
   "cell_type": "markdown",
   "id": "cd60a985-54e3-4973-a640-40ed52d30203",
   "metadata": {},
   "source": [
    "## Creating a Tokeniser\n",
    "\n",
    "In order to create a custom pre-processing step, the first step will be to [write a **custom runtime**](https://mlserver.readthedocs.io/en/latest/runtimes/custom.html) using [MLServer](https://mlserver.readthedocs.io/en/latest/).\n",
    "MLServer is a production-grade inference server, whose main goal is to ease up the serving of models through a REST and gRPC interface compatible with the [V2 Inference Protocol](https://kserve.github.io/website/modelserving/inference_api/).\n",
    "\n",
    "As well as an inference server, MLServer also exposes a *framework* which can be leveraged to easily **write your custom inference runtimes**.\n",
    "These custom runtimes can be used to write any custom logic, including (you guessed it!) our tokeniser pre-processor.\n",
    "Therefore, we will start by extending the base `mlserver.MLModel` class, adding our custom logic.\n",
    "Note that this logic is taken (almost) verbatim from the [GPT-2 Model example](https://docs.seldon.io/projects/seldon-core/en/latest/examples/triton_gpt2_example.html)."
   ]
  },
  {
   "cell_type": "code",
   "execution_count": 100,
   "id": "3d0c2ffb-a268-4ad7-af43-a94edfc5c2d6",
   "metadata": {},
   "outputs": [
    {
     "name": "stdout",
     "output_type": "stream",
     "text": [
      "Overwriting tokeniser/runtime.py\n"
     ]
    }
   ],
   "source": [
    "%%writefile tokeniser/runtime.py\n",
    "import os\n",
    "from mlserver import MLModel\n",
    "from mlserver.types import InferenceRequest, InferenceResponse\n",
    "from mlserver.codecs import NumpyCodec\n",
    "from mlserver.codecs.string import StringRequestCodec, StringCodec\n",
    "from transformers import GPT2Tokenizer\n",
    "\n",
    "TOKENIZER_TYPE_ENV_NAME = \"SELDON_TOKENIZER_TYPE\"\n",
    "TOKENIZER_TYPE_ENCODE = \"ENCODER\"\n",
    "\n",
    "class Tokeniser(MLModel):\n",
    "    async def load(self) -> bool:\n",
    "        self._tokeniser = GPT2Tokenizer.from_pretrained(\"gpt2\")\n",
    "        self._tokenizer_type = os.environ.get(TOKENIZER_TYPE_ENV_NAME, TOKENIZER_TYPE_ENCODE)\n",
    "\n",
    "        self.ready = True\n",
    "        return self.ready\n",
    "\n",
    "    async def predict(self, inference_request: InferenceRequest) -> InferenceResponse:\n",
    "        outputs = None\n",
    "        if self._tokenizer_type == TOKENIZER_TYPE_ENCODE:\n",
    "            sentences = StringRequestCodec.decode(inference_request)\n",
    "            tokenised = self._tokeniser(sentences, return_tensors=\"np\")\n",
    "            \n",
    "            outputs = []\n",
    "            for name, payload in tokenised.items():\n",
    "                inference_output = NumpyCodec.encode(name=name, payload=payload)\n",
    "                # Transformer's TF GPT2 model expects `INT32` inputs by default, so\n",
    "                # let's enforce them\n",
    "                inference_output.datatype = \"INT32\"\n",
    "                outputs.append(inference_output)\n",
    "        else:\n",
    "            logits = NumpyCodec.decode(inference_request.inputs[0])\n",
    "            # take the best next token probability of the last token of input ( greedy approach)\n",
    "            next_token = logits.argmax(axis=2)[0]\n",
    "            next_token_str = self._tokeniser.decode(\n",
    "                next_token[-1:], skip_special_tokens=True, clean_up_tokenization_spaces=True\n",
    "            ).strip()\n",
    "            outputs = [StringCodec.encode(\"next_token\", [next_token_str])]\n",
    "\n",
    "        return InferenceResponse(\n",
    "            model_name=self.name, model_version=self.version, outputs=outputs\n",
    "        )\n"
   ]
  },
  {
   "cell_type": "markdown",
   "id": "f8b4ca8d-5948-4ad1-a401-15457c29a5e8",
   "metadata": {},
   "source": [
    "Note that the pre-processing logic is implemented in the `predict()` method.\n",
    "At the moment, the MLServer framework doesn't expose the concept of pre- and post-processing.\n",
    "However, it's possible to implement this is a _\"pseudo-model\"_, thus relying on the service orchestrator of Seldon Core, who will be responsible of chaining the output of our tokeniser to the next model.\n"
   ]
  },
  {
   "cell_type": "markdown",
   "id": "6d46ea7b-455b-4df0-aebb-9ef5296cd2b9",
   "metadata": {},
   "source": [
    "### Requirements and default model settings\n",
    "\n",
    "Besides writing the logic of our custom runtime, we will also need to provide the extra requirements that will be used by our environment.\n",
    "This can be done through a plain `requirements.txt` file.\n",
    "Alternatively, for a finer control, it'd also be possible to leverage [Conda's environment files](https://docs.conda.io/projects/conda/en/latest/user-guide/tasks/manage-environments.html#create-env-file-manually) to specify our environment."
   ]
  },
  {
   "cell_type": "code",
   "execution_count": 6,
   "id": "fec97bba-08a4-444f-a2b5-f6b6af461567",
   "metadata": {},
   "outputs": [
    {
     "name": "stdout",
     "output_type": "stream",
     "text": [
      "Overwriting tokeniser/requirements.txt\n"
     ]
    }
   ],
   "source": [
    "%%writefile tokeniser/requirements.txt\n",
    "mlserver==1.0.1\n",
    "transformers==4.12.3\n"
   ]
  },
  {
   "cell_type": "markdown",
   "id": "8422729e-1b9c-4e94-8ce0-12466f467003",
   "metadata": {},
   "source": [
    "On top of this, we will also add a `model-settings.json` file with the default settings for our model.\n",
    "MLServer uses these files to provide extra configuration (e.g. number of parallel workers, adaptive batching configuration, etc.) for each model.\n",
    "In our case, we will use this file to tell MLServer that it should always use our custom runtime by default and name our models as `tokeniser` (unless other name is specified)."
   ]
  },
  {
   "cell_type": "code",
   "execution_count": 31,
   "id": "d919825e-bcbf-4d07-b03b-09d07a516663",
   "metadata": {},
   "outputs": [
    {
     "name": "stdout",
     "output_type": "stream",
     "text": [
      "Overwriting tokeniser/model-settings.json\n"
     ]
    }
   ],
   "source": [
    "%%writefile tokeniser/model-settings.json\n",
    "{\n",
    "  \"implementation\": \"runtime.Tokeniser\"\n",
    "}"
   ]
  },
  {
   "cell_type": "markdown",
   "id": "4ffdfa09-61b8-46d6-82d1-097e938f3bea",
   "metadata": {},
   "source": [
    "### Testing our tokeniser\n",
    "\n",
    "> **NOTE**: To test our custom runtime locally, we will need to install the same set of dependencies that will be bundled and deployed remotely.\n",
    "  To achieve this, we can re-use the environment that was described on the previous section:\n",
    "  \n",
    "   ```bash\n",
    "   pip install -r ./tokeniser/requirements.txt\n",
    "   ```\n",
    "\n",
    "\n",
    "Since we're leveraging MLServer to write our custom pre-processor, it should be **easy to test it locally**.\n",
    "For this, we will start MLServer using the [`mlserver start` subcommand](https://mlserver.readthedocs.io/en/latest/reference/cli.html#mlserver-start).\n",
    "Note that this command has to be carried out on a separate terminal:\n",
    "\n",
    "```bash\n",
    "mlserver start ./tokeniser\n",
    "```\n",
    "\n",
    "We can then send a test request using `curl` as follows:"
   ]
  },
  {
   "cell_type": "code",
   "execution_count": null,
   "id": "7a0ee123-07e3-45e1-ae3c-c80a96ffed58",
   "metadata": {},
   "outputs": [],
   "source": [
    "%%bash\n",
    "curl localhost:8080/v2/models/tokeniser/infer \\\n",
    "    -H 'Content-Type: application/json' \\\n",
    "    -d '{\"inputs\": [{\"name\": \"sentences\", \"datatype\": \"BYTES\", \"shape\": [1, 11], \"data\": \"hello world\"}]}' \\\n",
    "    | python -m json.tool "
   ]
  },
  {
   "cell_type": "markdown",
   "id": "846d4500-00eb-46eb-a800-6b71486e1457",
   "metadata": {},
   "source": [
    "As we can see above, the input `hello world` gets tokenised into `[31373, 995]`, thus confirming that our custom runtime is working as expected locally."
   ]
  },
  {
   "cell_type": "markdown",
   "id": "3953dfee-7c21-4586-a1b5-a3e33a2e9231",
   "metadata": {},
   "source": [
    "### Building the image\n",
    "\n",
    "Once we have our custom code tested and ready, we should be able to build our custom image by using the [`mlserver build` subcommand](https://mlserver.readthedocs.io/en/latest/reference/cli.html#mlserver-build).\n",
    "This image will be created under the `gpt2-tokeniser:0.1.0` tag."
   ]
  },
  {
   "cell_type": "code",
   "execution_count": 101,
   "id": "1d2a8821-b584-4cfe-9f1d-a26d4f92b06b",
   "metadata": {
    "tags": []
   },
   "outputs": [
    {
     "name": "stdout",
     "output_type": "stream",
     "text": [
      "2022-04-05 15:15:28,033 [mlserver] INFO - Building Docker image with tag seldonio/gpt2-tokeniser:0.1.0\n",
      "2022-04-05 15:15:28,034 [mlserver] INFO - Writing Dockerfile in /tmp/tmplikh1d16/Dockerfile\n",
      "2022-04-05 15:15:28,034 [mlserver] INFO - Writing .dockerignore in /tmp/tmplikh1d16/Dockerfile.dockerignore\n",
      "2022-04-05 15:15:36,788 [mlserver] INFO - Successfully built custom Docker image with tag seldonio/gpt2-tokeniser:0.1.0\n"
     ]
    },
    {
     "name": "stderr",
     "output_type": "stream",
     "text": [
      "#1 [internal] load build definition from Dockerfile\n",
      "#1 sha256:4c3bed19ae876da4b557945d7ea1c0b6713a6598174e6123a804485421b9276e\n",
      "#1 transferring dockerfile: 2.26kB done\n",
      "#1 DONE 0.0s\n",
      "\n",
      "#2 [internal] load .dockerignore\n",
      "#2 sha256:39483f4ba294b7d511062e2dae3be3a016578c6b6b6a466c8d830fbada151eb2\n",
      "#2 transferring context: 2B done\n",
      "#2 DONE 0.0s\n",
      "\n",
      "#4 [internal] load metadata for docker.io/continuumio/miniconda3:4.10.3\n",
      "#4 sha256:f692b03fa4ad9171171f333a701a320801f86a5a153c52ecb1003a5c4c2ae3ce\n",
      "#4 ...\n",
      "\n",
      "#5 [auth] seldonio/mlserver:pull token for registry-1.docker.io\n",
      "#5 sha256:4298de01bc2590ba05b0b0f2a38fc8678e347f2cd5e2447fe093e5d683366c97\n",
      "#5 DONE 0.0s\n",
      "\n",
      "#3 [internal] load metadata for docker.io/seldonio/mlserver:1.0.1-slim\n",
      "#3 sha256:79171f286cc89c430aafdc64914d9cce5f3399e973f61acf0a39c477ffedaa20\n",
      "#3 ...\n",
      "\n",
      "#6 [auth] continuumio/miniconda3:pull token for registry-1.docker.io\n",
      "#6 sha256:74cd040b7a319939e45bbfd0c39846a4571d5c1a478785f473f6de904f52c583\n",
      "#6 DONE 0.0s\n",
      "\n",
      "#3 [internal] load metadata for docker.io/seldonio/mlserver:1.0.1-slim\n",
      "#3 sha256:79171f286cc89c430aafdc64914d9cce5f3399e973f61acf0a39c477ffedaa20\n",
      "#3 DONE 7.7s\n",
      "\n",
      "#4 [internal] load metadata for docker.io/continuumio/miniconda3:4.10.3\n",
      "#4 sha256:f692b03fa4ad9171171f333a701a320801f86a5a153c52ecb1003a5c4c2ae3ce\n",
      "#4 DONE 8.1s\n",
      "\n",
      "#8 [env-builder 1/4] FROM docker.io/continuumio/miniconda3:4.10.3@sha256:a137c7da98c8680467490e15ac3c54e25db77495be1737076b053a6790ad6082\n",
      "#8 sha256:303ec1e2d8b90ac6a39c06473d2c8520b602780f3a5a452cdee2d369a90f4b4e\n",
      "#8 DONE 0.0s\n",
      "\n",
      "#7 [stage-1 1/5] FROM docker.io/seldonio/mlserver:1.0.1-slim@sha256:20e049f6f972d6882b20913c4567537a66d9c4c2f1a786ee70be1c357f0299f9\n",
      "#7 sha256:370f193b7a382590e60733d181824e8d9035636e879cf6781212fbfdc5b0f6a6\n",
      "#7 DONE 0.0s\n",
      "\n",
      "#10 [internal] load build context\n",
      "#10 sha256:7bda3e089971e894941ffb3600ced777a25eaef1873b26990c34f7b3cb7edec6\n",
      "#10 transferring context: 2.02kB done\n",
      "#10 DONE 0.0s\n",
      "\n",
      "#9 [env-builder 2/4] RUN conda config --add channels conda-forge &&     conda install conda-pack\n",
      "#9 sha256:4b955554f2f7d779949ba24bfe29a1f06119656233d0777dcff5c98793b3e284\n",
      "#9 CACHED\n",
      "\n",
      "#14 [stage-1 3/5] COPY     ./settings.jso[n]     ./model-settings.jso[n]     ./requirements.tx[t]     .\n",
      "#14 sha256:4ddf050d0723819a66bf473bbf91bb5850cdb17f208495893c408dd008baa4e5\n",
      "#14 CACHED\n",
      "\n",
      "#13 [stage-1 2/5] COPY     --chown=1000     --from=env-builder     /envs/base.tar.g[z]     ./envs/base.tar.gz\n",
      "#13 sha256:d119600b40ec96fcf0b83e112dcfb27a7196de8ce5ed0ddc8940585b6845fdf7\n",
      "#13 CACHED\n",
      "\n",
      "#11 [env-builder 3/4] COPY     ./environment.ym[l]     ./environment.yam[l]     ./conda.ym[l]     ./conda.yam[l]     .\n",
      "#11 sha256:e215b92f755d9abeada28ee9b1bf29b792c2c81442b7d7864a7f9a8a416e6689\n",
      "#11 CACHED\n",
      "\n",
      "#12 [env-builder 4/4] RUN mkdir $(dirname ./envs/base.tar.gz);     for envFile in environment.yml environment.yaml conda.yml conda.yaml; do         if [[ -f $envFile ]]; then             conda env create                 --name mlserver-custom-env                 --file $envFile;             conda-pack --ignore-missing-files                 -n mlserver-custom-env                 -o ./envs/base.tar.gz;         fi     done;     chmod -R 776 $(dirname ./envs/base.tar.gz)\n",
      "#12 sha256:cc3a8a537f4d86bd8f0c58ac778d2276c0d3532185b3412762630c5509db3b84\n",
      "#12 CACHED\n",
      "\n",
      "#15 [stage-1 4/5] RUN ./hack/build-env.sh . ./envs/base &&     chown -R 1000:0 ./envs/base &&     chmod -R 776 ./envs/base\n",
      "#15 sha256:33319943d34fe0fe846edeb360e8bd952a31f93d9a52fab858447b56a057b379\n",
      "#15 CACHED\n",
      "\n",
      "#16 [stage-1 5/5] COPY . .\n",
      "#16 sha256:bab0e38fc4750600ac0c9c35c5dbfb6a787e6c7882fc1e9bd41eb74aff9fca9c\n",
      "#16 DONE 0.1s\n",
      "\n",
      "#17 exporting to image\n",
      "#17 sha256:e8c613e07b0b7ff33893b694f7759a10d42e180f2b4dc349fb57dc6b71dcab00\n",
      "#17 exporting layers 0.0s done\n",
      "#17 writing image sha256:56e76bb65f1ab901507305d3c791a01fc700227c465639809ecdda61802d66c2 done\n",
      "#17 naming to docker.io/seldonio/gpt2-tokeniser:0.1.0 done\n",
      "#17 DONE 0.1s\n"
     ]
    }
   ],
   "source": [
    "%%bash\n",
    "mlserver build ./tokeniser --tag seldonio/gpt2-tokeniser:0.1.0"
   ]
  },
  {
   "cell_type": "markdown",
   "id": "308134b7-a0fb-4714-bc52-0942e9f9686d",
   "metadata": {},
   "source": [
    "## Deploying our inference graph\n",
    "\n",
    "Now that we have our custom tokeniser built and ready, we are able to deploy it alongside our GPT-2 model.\n",
    "This can be achieved through a `SeldonDeployment` manifest which **links both models**.\n",
    "That is, our tokeniser, plus the actual GPT-2 model.\n",
    "\n",
    "As outlined above, this manifest will re-use the image and resources built in the [GPT-2 Model example](https://docs.seldon.io/projects/seldon-core/en/latest/examples/triton_gpt2_example.html), which is accessible from GCS.\n",
    "\n",
    "> **NOTE:** This manifest expects that the `gpt2-tokeniser:0.1.0` image built in the previous section **is accessible** from within the cluster where Seldon Core has been installed. If you are [using `kind`](https://docs.seldon.io/projects/seldon-core/en/latest/install/kind.html), you should be able to load the image into your local cluster with the following command:\n",
    "```bash\n",
    "kind load docker-image gpt2-tokeniser:0.1.0\n",
    "```"
   ]
  },
  {
   "cell_type": "code",
   "execution_count": 87,
   "id": "bcb676bc-21ef-438c-b398-d18e51ad6188",
   "metadata": {},
   "outputs": [
    {
     "name": "stdout",
     "output_type": "stream",
     "text": [
      "Overwriting seldondeployment.yaml\n"
     ]
    }
   ],
   "source": [
    "%%writefile seldondeployment.yaml\n",
    "apiVersion: machinelearning.seldon.io/v1\n",
    "kind: SeldonDeployment\n",
    "metadata:\n",
    "  name: gpt2\n",
    "spec:\n",
    "  protocol: v2\n",
    "  predictors:\n",
    "    - name: default\n",
    "      graph:\n",
    "        name: tokeniser-encoder\n",
    "        children:\n",
    "          - name: gpt2\n",
    "            implementation: TRITON_SERVER\n",
    "            modelUri: gs://seldon-models/triton/onnx_gpt2\n",
    "            children:\n",
    "              - name: tokeniser-decoder\n",
    "      componentSpecs:\n",
    "        - spec:\n",
    "            containers:\n",
    "              - name: tokeniser-encoder\n",
    "                image: seldonio/gpt2-tokeniser:0.1.0\n",
    "                env:\n",
    "                  # Use always a writable HuggingFace cache location regardless of the user\n",
    "                  - name: TRANSFORMERS_CACHE\n",
    "                    value: /opt/mlserver/.cache\n",
    "                  - name: MLSERVER_MODEL_NAME\n",
    "                    value: \"tokeniser-encoder\"\n",
    "              - name: tokeniser-decoder\n",
    "                image: seldonio/gpt2-tokeniser:0.1.0\n",
    "                env:\n",
    "                  - name: SELDON_TOKENIZER_TYPE\n",
    "                    value: \"DECODER\"\n",
    "                  # Use always a writable HuggingFace cache location regardless of the user\n",
    "                  - name: TRANSFORMERS_CACHE\n",
    "                    value: /opt/mlserver/.cache\n",
    "                  - name: MLSERVER_MODEL_NAME\n",
    "                    value: \"tokeniser-decoder\"\n"
   ]
  },
  {
   "cell_type": "markdown",
   "id": "a103cd18-6fb0-4db5-aaa0-c887b860f613",
   "metadata": {},
   "source": [
    "The final step will be to apply this manifest into the cluster, where Seldon Core is running.\n",
    "For example, to deploy the manifest into the `models` namespace, we could run the following command:"
   ]
  },
  {
   "cell_type": "code",
   "execution_count": 88,
   "id": "7fabbd5f-8729-46ce-9eae-588114ab279c",
   "metadata": {},
   "outputs": [
    {
     "name": "stdout",
     "output_type": "stream",
     "text": [
      "seldondeployment.machinelearning.seldon.io/gpt2 configured\r\n"
     ]
    }
   ],
   "source": [
    "!kubectl apply -f seldondeployment.yaml"
   ]
  },
  {
   "cell_type": "markdown",
   "id": "5ca23aec-f3e3-4174-8ce6-2df1d7d6cea7",
   "metadata": {},
   "source": [
    "### Testing our deployed inference graph\n",
    "\n",
    "Finally, we can test that our deployed inference graph is working as expected by sending a request.\n",
    "If we assume that our cluster can be reached in `localhost:8003`, we can send a request using `cURL` as:"
   ]
  },
  {
   "cell_type": "code",
   "execution_count": 102,
   "id": "faff9193-b7c8-4989-95f3-817ebc276a1c",
   "metadata": {
    "tags": []
   },
   "outputs": [
    {
     "name": "stdout",
     "output_type": "stream",
     "text": [
      "{\"model_name\":\"tokeniser-decoder\",\"model_version\":null,\"id\":\"6f952cc2-3648-4180-bd70-163a731bdb86\",\"parameters\":null,\"outputs\":[{\"name\":\"next_token\",\"shape\":[1],\"datatype\":\"BYTES\",\"parameters\":null,\"data\":[\"pleased\"]}]}"
     ]
    },
    {
     "name": "stderr",
     "output_type": "stream",
     "text": [
      "  % Total    % Received % Xferd  Average Speed   Time    Time     Time  Current\n",
      "                                 Dload  Upload   Total   Spent    Left  Speed\n",
      "\r",
      "  0     0    0     0    0     0      0      0 --:--:-- --:--:-- --:--:--     0\r",
      "100   115    0     0  100   115      0     95  0:00:01  0:00:01 --:--:--    95\r",
      "100   115    0     0  100   115      0     52  0:00:02  0:00:02 --:--:--    52\r",
      "100   115    0     0  100   115      0     35  0:00:03  0:00:03 --:--:--    35\r",
      "100   115    0     0  100   115      0     27  0:00:04  0:00:04 --:--:--    27\r",
      "100   115    0     0  100   115      0     22  0:00:05  0:00:05 --:--:--    22\r",
      "100   115    0     0  100   115      0     18  0:00:06  0:00:06 --:--:--     0\r",
      "100   115    0     0  100   115      0     15  0:00:07  0:00:07 --:--:--     0\r",
      "100   334  100   219  100   115     27     14  0:00:08  0:00:08 --:--:--    45\r",
      "100   334  100   219  100   115     27     14  0:00:08  0:00:08 --:--:--    57\n"
     ]
    }
   ],
   "source": [
    "%%bash\n",
    "curl localhost:80/seldon/default/gpt2/v2/models/infer \\\n",
    "    -H 'Content-Type: application/json' \\\n",
    "    -d '{\"inputs\": [{\"name\": \"sentences\", \"datatype\": \"BYTES\", \"shape\": [1, 11], \"data\": [\"Seldon Technologies is very\"]}]}'"
   ]
  },
  {
   "cell_type": "markdown",
   "id": "7322029d-70f0-4c20-9f81-62c84b2b846a",
   "metadata": {},
   "source": [
    "As we can see above, our plain-text request is now going successfully through the `tokeniser`, acting as a pre-processor, whose output then gets routed to the actual GPT-2 model. "
   ]
  }
 ],
 "metadata": {
  "kernelspec": {
   "display_name": "Python 3",
   "language": "python",
   "name": "python3"
  },
  "language_info": {
   "codemirror_mode": {
    "name": "ipython",
    "version": 3
   },
   "file_extension": ".py",
   "mimetype": "text/x-python",
   "name": "python",
   "nbconvert_exporter": "python",
   "pygments_lexer": "ipython3",
   "version": "3.7.10"
  }
 },
 "nbformat": 4,
 "nbformat_minor": 5
}
