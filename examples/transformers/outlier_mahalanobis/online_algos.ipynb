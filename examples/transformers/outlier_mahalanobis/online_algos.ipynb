{
 "cells": [
  {
   "cell_type": "code",
   "execution_count": null,
   "metadata": {
    "collapsed": true
   },
   "outputs": [],
   "source": [
    "import numpy as np\n",
    "\n",
    "import matplotlib.pyplot as plt\n",
    "%matplotlib inline"
   ]
  },
  {
   "cell_type": "markdown",
   "metadata": {},
   "source": [
    "## Online algorithm for the mean"
   ]
  },
  {
   "cell_type": "markdown",
   "metadata": {},
   "source": [
    "Univariate"
   ]
  },
  {
   "cell_type": "code",
   "execution_count": null,
   "metadata": {
    "collapsed": true
   },
   "outputs": [],
   "source": [
    "def update_mean(prev_mean,new_data,n):\n",
    "    new_mean = prev_mean + 1/float(n)*(new_data-prev_mean)\n",
    "    return new_mean"
   ]
  },
  {
   "cell_type": "code",
   "execution_count": null,
   "metadata": {
    "collapsed": false
   },
   "outputs": [],
   "source": [
    "print update_mean(0,1,1)\n",
    "print update_mean(1,0,2)\n"
   ]
  },
  {
   "cell_type": "code",
   "execution_count": null,
   "metadata": {
    "collapsed": false
   },
   "outputs": [],
   "source": [
    "values = np.random.randint(0,9,size=(10000))"
   ]
  },
  {
   "cell_type": "code",
   "execution_count": null,
   "metadata": {
    "collapsed": false
   },
   "outputs": [],
   "source": [
    "values\n"
   ]
  },
  {
   "cell_type": "code",
   "execution_count": null,
   "metadata": {
    "collapsed": false
   },
   "outputs": [],
   "source": [
    "values.mean()"
   ]
  },
  {
   "cell_type": "code",
   "execution_count": null,
   "metadata": {
    "collapsed": false
   },
   "outputs": [],
   "source": [
    "prev_mean = values[0]\n",
    "n = 1\n",
    "for new_data in values[1:]:\n",
    "    n+=1\n",
    "    new_mean = update_mean(prev_mean,new_data,n)\n",
    "    prev_mean = new_mean\n",
    "    print new_mean \n",
    "    "
   ]
  },
  {
   "cell_type": "code",
   "execution_count": null,
   "metadata": {
    "collapsed": true
   },
   "outputs": [],
   "source": [
    "def rolling_expand(arr):\n",
    "    assert len(arr.shape) == 1, \"Array must be 1-dimensional\"\n",
    "    padded_array = np.concatenate([np.nan*np.empty(shape=arr.shape[0]-1),arr],axis=0)\n",
    "    return np.lib.stride_tricks.as_strided(padded_array,shape=(arr.shape[0],arr.shape[0]),strides=(8,8),writeable=False)\n",
    "    "
   ]
  },
  {
   "cell_type": "code",
   "execution_count": null,
   "metadata": {
    "collapsed": false
   },
   "outputs": [],
   "source": [
    "rolling_means = np.nanmean(rolling_expand(values),axis=0)"
   ]
  },
  {
   "cell_type": "code",
   "execution_count": null,
   "metadata": {
    "collapsed": true
   },
   "outputs": [],
   "source": []
  },
  {
   "cell_type": "code",
   "execution_count": null,
   "metadata": {
    "collapsed": true
   },
   "outputs": [],
   "source": []
  },
  {
   "cell_type": "markdown",
   "metadata": {},
   "source": [
    "## Online covariance"
   ]
  },
  {
   "cell_type": "code",
   "execution_count": null,
   "metadata": {
    "collapsed": true
   },
   "outputs": [],
   "source": [
    "def update_cov_matrix(cov,xn,xn_mean,xn1_mean):\n",
    "    return cov + np.matmul((xn-xn_mean)[None,:].transpose(),(xn-xn1_mean)[None,:])"
   ]
  },
  {
   "cell_type": "code",
   "execution_count": null,
   "metadata": {
    "collapsed": true
   },
   "outputs": [],
   "source": [
    "real_cov = np.array([[5,0.5],[0.5,1]])\n",
    "real_mean = np.array([0,10])"
   ]
  },
  {
   "cell_type": "code",
   "execution_count": null,
   "metadata": {
    "collapsed": false
   },
   "outputs": [],
   "source": [
    "real_cov, real_mean"
   ]
  },
  {
   "cell_type": "code",
   "execution_count": null,
   "metadata": {
    "collapsed": true
   },
   "outputs": [],
   "source": [
    "N = 1000"
   ]
  },
  {
   "cell_type": "code",
   "execution_count": null,
   "metadata": {
    "collapsed": false
   },
   "outputs": [],
   "source": [
    "x = np.random.multivariate_normal(real_mean,real_cov,size=N)\n",
    "estimated_s = 0\n",
    "prev_mean = x[0]\n",
    "for i, xi in enumerate(x[1:]):\n",
    "    new_mean = update_mean(prev_mean,xi,i+1)\n",
    "    estimated_s = update_cov_matrix(estimated_s,xi,new_mean,prev_mean)\n",
    "    prev_mean = new_mean\n",
    "    \n",
    "estimated_s/float(N)"
   ]
  },
  {
   "cell_type": "code",
   "execution_count": null,
   "metadata": {
    "collapsed": false
   },
   "outputs": [],
   "source": [
    "plt.figure(figsize=(12,8))\n",
    "plt.scatter(x[:,0],x[:,1])"
   ]
  },
  {
   "cell_type": "code",
   "execution_count": null,
   "metadata": {
    "collapsed": true
   },
   "outputs": [],
   "source": []
  },
  {
   "cell_type": "code",
   "execution_count": null,
   "metadata": {
    "collapsed": true
   },
   "outputs": [],
   "source": []
  },
  {
   "cell_type": "markdown",
   "metadata": {},
   "source": [
    "## Draft for outlier detector algo"
   ]
  },
  {
   "cell_type": "markdown",
   "metadata": {},
   "source": [
    "**Formula for online mean update:**\n",
    "\n",
    "$ \\bar{X}_n = \\bar{X}_{n-1} + (X_n - \\bar{X}_{n-1}) $"
   ]
  },
  {
   "cell_type": "markdown",
   "metadata": {},
   "source": [
    "**Formula for online Covariance Matrix Estimator update:**\n",
    "\n",
    "$ S_n = S_{n-1} + (X_n - \\bar{X}_n)(X_n - \\bar{X}_{n-1})^t $\n",
    "\n",
    "$ C_n = \\frac{1}{n-1}S_n $"
   ]
  },
  {
   "cell_type": "code",
   "execution_count": null,
   "metadata": {
    "collapsed": true
   },
   "outputs": [],
   "source": [
    "class MockSelf(object):\n",
    "    pass\n",
    "self = MockSelf()"
   ]
  },
  {
   "cell_type": "code",
   "execution_count": null,
   "metadata": {
    "collapsed": true
   },
   "outputs": [],
   "source": [
    "# Ground truth\n",
    "\n",
    "real_cov = np.array([[5,0.5],[0.5,1]])\n",
    "real_mean = np.array([0,10])"
   ]
  },
  {
   "cell_type": "code",
   "execution_count": null,
   "metadata": {
    "collapsed": true
   },
   "outputs": [],
   "source": [
    "p = 10\n",
    "tmp_mat = np.random.normal(0,2,size=(p,p))\n",
    "real_cov = np.matmul(tmp_mat.transpose(),tmp_mat)\n",
    "real_mean = np.random.normal(0,5,size=p)"
   ]
  },
  {
   "cell_type": "code",
   "execution_count": null,
   "metadata": {
    "collapsed": true
   },
   "outputs": [],
   "source": [
    "# state\n",
    "self.mean = None\n",
    "self.n = 0\n",
    "self.C = 0"
   ]
  },
  {
   "cell_type": "code",
   "execution_count": null,
   "metadata": {
    "collapsed": false
   },
   "outputs": [],
   "source": [
    "# inputs\n",
    "features = np.random.multivariate_normal(real_mean,real_cov,size=1)\n",
    "feature_names = []\n",
    "\n",
    "# score function\n",
    "\n",
    "self.n += 1\n",
    "feat0 = features[0]\n",
    "\n",
    "if self.mean is None:\n",
    "    self.mean = feat0\n",
    "    assert False, 0\n",
    "else:\n",
    "    new_mean = self.mean + 1./float(self.n)*(feat0 - self.mean)\n",
    "    self.C = self.C + np.matmul((feat0 - self.mean)[None,:].transpose(),(feat0 - new_mean)[None,:])\n",
    "    self.mean = new_mean\n",
    "    \n",
    "mean = self.mean\n",
    "cov = self.C/float(self.n-1)\n",
    "\n",
    "cov1 = np.linalg.inv(cov)\n",
    "\n",
    "# Mahalanobis distance = (X-u)t * C-1 * (X-u)\n",
    "d2 = np.matmul(feat0 - mean, np.matmul(feat0 - mean, cov1.transpose()).transpose())\n",
    "\n",
    "print features, d2"
   ]
  },
  {
   "cell_type": "markdown",
   "metadata": {},
   "source": [
    "## Handling Batches"
   ]
  },
  {
   "cell_type": "markdown",
   "metadata": {},
   "source": [
    "** Formula for online batch mean update (batch of size $b$): **\n",
    "\n",
    "$ \\bar{X}_{n+b} = \\bar{X}_n + \\frac{b}{n+b}(\\bar{X}_{n,n+b} - \\bar{X}_n) $\n",
    "\n",
    "where $\\bar{X}_{n,n+b}$ is the mean of the batch."
   ]
  },
  {
   "cell_type": "markdown",
   "metadata": {},
   "source": [
    "**Theorem:**\n",
    "\n",
    "if $A$ and $A+B$ are invertible and $rank(B) = 1$ then\n",
    "\n",
    "$ (A + B)^{-1} = A^{-1} - \\frac{1}{1+trace(BA^{-1})}A^{-1}BA^{-1} $\n",
    "\n",
    "In our case is B of rank 1 ? Yes:\n",
    "\n",
    "$ B = (X_n - \\bar{X}_n)*(X_n - \\bar{X}_{n-1}) $\n",
    "\n",
    "and \n",
    "\n",
    "$ \\bar{X}_n = \\bar{X}_{n-1} * \\frac{n-1}{n} + X_n * \\frac{1}{n} $\n",
    "\n",
    "$ X_n - \\bar{X}_n = X_n * ( 1 - \\frac{1}{n} ) - \\bar{X}_{n-1} * \\frac{n-1}{n} $\n",
    "\n",
    "$ X_n = \\frac{n-1}{n}(X_n - \\bar{X}_{n-1}) $\n",
    "\n",
    "So B is produced from a single vector, its rank can only be one"
   ]
  },
  {
   "cell_type": "code",
   "execution_count": null,
   "metadata": {
    "collapsed": true
   },
   "outputs": [],
   "source": [
    "self.n = 0 \n",
    "self.mean = 0\n",
    "self.C = 0"
   ]
  },
  {
   "cell_type": "code",
   "execution_count": null,
   "metadata": {
    "collapsed": false
   },
   "outputs": [],
   "source": [
    "# inputs\n",
    "features = np.random.multivariate_normal(real_mean,real_cov,size=1000)\n",
    "feature_names = []\n",
    "\n",
    "nb = features.shape[0]\n",
    "\n",
    "roll_partial_means = features.cumsum(axis=0)/(np.arange(nb)+1).reshape((nb,1))\n",
    "\n",
    "coefs = (np.arange(nb)+1.)/(np.arange(nb)+self.n+1.)\n",
    "\n",
    "new_means = self.mean + coefs.reshape((nb,1))*(roll_partial_means-self.mean)\n",
    "\n",
    "# lets compute rolling (Xn-mXn)t*(Xn-mXn-1)\n",
    "\n",
    "new_means_offset = np.empty_like(new_means)\n",
    "new_means_offset[0] = self.mean\n",
    "new_means_offset[1:] = new_means[:-1]\n",
    "\n",
    "B = np.matmul((features - new_means)[:,:,None],(features - new_means_offset)[:,None,:])\n",
    "\n",
    "all_C = self.C + B.cumsum(axis=0)\n",
    "all_C_inv = np.zeros_like(B)\n",
    "\n",
    "all_C = np.roll(all_C,1,axis=0)\n",
    "all_C[0] = self.C\n",
    "\n",
    "c_inv = None\n",
    "EPSILON = 1e-8\n",
    "\n",
    "for i, b in enumerate(B):\n",
    "    if c_inv is None:\n",
    "        if abs(np.linalg.det(all_C[i])) > EPSILON:\n",
    "            c_inv = np.linalg.inv(all_C[i])\n",
    "        else:\n",
    "            continue\n",
    "    else:\n",
    "        c_inv = all_C_inv[i-1]\n",
    "    BC1 = np.matmul(b,c_inv)\n",
    "    all_C_inv[i] = c_inv - 1./(1.+np.trace(BC1))*np.matmul(c_inv,BC1)\n",
    "\n",
    "all_C_inv *= np.arange(nb).reshape((nb,1,1)) + self.n\n",
    "\n",
    "self.C += B.sum(axis=0)\n",
    "\n",
    "self.mean = new_means[-1]\n",
    "\n",
    "self.n += nb\n",
    "\n",
    "feat_diff = features-new_means_offset\n",
    "outlier_scores = np.matmul(feat_diff[:,None,:],np.matmul(all_C_inv,feat_diff[:,:,None])).reshape(nb)"
   ]
  },
  {
   "cell_type": "code",
   "execution_count": null,
   "metadata": {
    "collapsed": false
   },
   "outputs": [],
   "source": [
    "plt.plot(outlier_scores)"
   ]
  },
  {
   "cell_type": "code",
   "execution_count": null,
   "metadata": {
    "collapsed": true
   },
   "outputs": [],
   "source": []
  },
  {
   "cell_type": "code",
   "execution_count": null,
   "metadata": {
    "collapsed": false
   },
   "outputs": [],
   "source": [
    "import OutlierZscore\n",
    "reload(OutlierZscore)\n",
    "from OutlierZscore import OutlierZscore"
   ]
  },
  {
   "cell_type": "code",
   "execution_count": null,
   "metadata": {
    "collapsed": false
   },
   "outputs": [],
   "source": []
  },
  {
   "cell_type": "code",
   "execution_count": null,
   "metadata": {
    "collapsed": true
   },
   "outputs": [],
   "source": [
    "detector = OutlierZscore()"
   ]
  },
  {
   "cell_type": "code",
   "execution_count": null,
   "metadata": {
    "collapsed": false,
    "scrolled": false
   },
   "outputs": [],
   "source": [
    "detector.score(features,[])"
   ]
  },
  {
   "cell_type": "code",
   "execution_count": null,
   "metadata": {
    "collapsed": true
   },
   "outputs": [],
   "source": []
  }
 ],
 "metadata": {
  "anaconda-cloud": {},
  "kernelspec": {
   "display_name": "Python [default]",
   "language": "python",
   "name": "python2"
  },
  "language_info": {
   "codemirror_mode": {
    "name": "ipython",
    "version": 2
   },
   "file_extension": ".py",
   "mimetype": "text/x-python",
   "name": "python",
   "nbconvert_exporter": "python",
   "pygments_lexer": "ipython2",
   "version": "2.7.12"
  }
 },
 "nbformat": 4,
 "nbformat_minor": 2
}
