{
 "cells": [
  {
   "cell_type": "code",
   "execution_count": null,
   "metadata": {
    "collapsed": true
   },
   "outputs": [],
   "source": [
    "import numpy as np\n",
    "\n",
    "import matplotlib.pyplot as plt\n",
    "%matplotlib inline"
   ]
  },
  {
   "cell_type": "markdown",
   "metadata": {},
   "source": [
    "## Online algorithm for the mean"
   ]
  },
  {
   "cell_type": "markdown",
   "metadata": {},
   "source": [
    "Univariate"
   ]
  },
  {
   "cell_type": "code",
   "execution_count": null,
   "metadata": {
    "collapsed": true
   },
   "outputs": [],
   "source": [
    "def update_mean(prev_mean,new_data,n):\n",
    "    new_mean = prev_mean + 1/float(n)*(new_data-prev_mean)\n",
    "    return new_mean"
   ]
  },
  {
   "cell_type": "code",
   "execution_count": null,
   "metadata": {
    "collapsed": false
   },
   "outputs": [],
   "source": [
    "print update_mean(0,1,1)\n",
    "print update_mean(1,0,2)\n"
   ]
  },
  {
   "cell_type": "code",
   "execution_count": null,
   "metadata": {
    "collapsed": false
   },
   "outputs": [],
   "source": [
    "values = np.random.randint(0,9,size=(10000))"
   ]
  },
  {
   "cell_type": "code",
   "execution_count": null,
   "metadata": {
    "collapsed": false
   },
   "outputs": [],
   "source": [
    "values\n"
   ]
  },
  {
   "cell_type": "code",
   "execution_count": null,
   "metadata": {
    "collapsed": false
   },
   "outputs": [],
   "source": [
    "values.mean()"
   ]
  },
  {
   "cell_type": "code",
   "execution_count": null,
   "metadata": {
    "collapsed": false
   },
   "outputs": [],
   "source": [
    "prev_mean = values[0]\n",
    "n = 1\n",
    "for new_data in values[1:]:\n",
    "    n+=1\n",
    "    new_mean = update_mean(prev_mean,new_data,n)\n",
    "    prev_mean = new_mean\n",
    "    print new_mean \n",
    "    "
   ]
  },
  {
   "cell_type": "code",
   "execution_count": null,
   "metadata": {
    "collapsed": true
   },
   "outputs": [],
   "source": [
    "def rolling_expand(arr):\n",
    "    assert len(arr.shape) == 1, \"Array must be 1-dimensional\"\n",
    "    padded_array = np.concatenate([np.nan*np.empty(shape=arr.shape[0]-1),arr],axis=0)\n",
    "    return np.lib.stride_tricks.as_strided(padded_array,shape=(arr.shape[0],arr.shape[0]),strides=(8,8),writeable=False)\n",
    "    "
   ]
  },
  {
   "cell_type": "code",
   "execution_count": null,
   "metadata": {
    "collapsed": false
   },
   "outputs": [],
   "source": [
    "rolling_means = np.nanmean(rolling_expand(values),axis=0)"
   ]
  },
  {
   "cell_type": "code",
   "execution_count": null,
   "metadata": {
    "collapsed": true
   },
   "outputs": [],
   "source": []
  },
  {
   "cell_type": "code",
   "execution_count": null,
   "metadata": {
    "collapsed": true
   },
   "outputs": [],
   "source": []
  },
  {
   "cell_type": "markdown",
   "metadata": {},
   "source": [
    "## Online covariance"
   ]
  },
  {
   "cell_type": "code",
   "execution_count": null,
   "metadata": {
    "collapsed": true
   },
   "outputs": [],
   "source": [
    "def update_cov_matrix(cov,xn,xn_mean,xn1_mean):\n",
    "    return cov + np.matmul((xn-xn_mean)[None,:].transpose(),(xn-xn1_mean)[None,:])"
   ]
  },
  {
   "cell_type": "code",
   "execution_count": null,
   "metadata": {
    "collapsed": true
   },
   "outputs": [],
   "source": [
    "real_cov = np.array([[5,0.5],[0.5,1]])\n",
    "real_mean = np.array([0,10])"
   ]
  },
  {
   "cell_type": "code",
   "execution_count": null,
   "metadata": {
    "collapsed": false
   },
   "outputs": [],
   "source": [
    "real_cov, real_mean"
   ]
  },
  {
   "cell_type": "code",
   "execution_count": null,
   "metadata": {
    "collapsed": true
   },
   "outputs": [],
   "source": [
    "N = 1000"
   ]
  },
  {
   "cell_type": "code",
   "execution_count": null,
   "metadata": {
    "collapsed": false
   },
   "outputs": [],
   "source": [
    "x = np.random.multivariate_normal(real_mean,real_cov,size=N)\n",
    "estimated_s = 0\n",
    "prev_mean = x[0]\n",
    "for i, xi in enumerate(x[1:]):\n",
    "    new_mean = update_mean(prev_mean,xi,i+1)\n",
    "    estimated_s = update_cov_matrix(estimated_s,xi,new_mean,prev_mean)\n",
    "    prev_mean = new_mean\n",
    "    \n",
    "estimated_s/float(N)"
   ]
  },
  {
   "cell_type": "code",
   "execution_count": null,
   "metadata": {
    "collapsed": false
   },
   "outputs": [],
   "source": [
    "plt.figure(figsize=(12,8))\n",
    "plt.scatter(x[:,0],x[:,1])"
   ]
  },
  {
   "cell_type": "code",
   "execution_count": null,
   "metadata": {
    "collapsed": true
   },
   "outputs": [],
   "source": []
  },
  {
   "cell_type": "code",
   "execution_count": null,
   "metadata": {
    "collapsed": true
   },
   "outputs": [],
   "source": []
  },
  {
   "cell_type": "markdown",
   "metadata": {},
   "source": [
    "## Draft for outlier detector algo"
   ]
  },
  {
   "cell_type": "markdown",
   "metadata": {},
   "source": [
    "**Formula for online mean update:**\n",
    "\n",
    "$ \\bar{X}_n = \\bar{X}_{n-1} + (X_n - \\bar{X}_{n-1}) $"
   ]
  },
  {
   "cell_type": "markdown",
   "metadata": {},
   "source": [
    "**Formula for online Covariance Matrix Estimator update:**\n",
    "\n",
    "$ S_n = S_{n-1} + (X_n - \\bar{X}_n)(X_n - \\bar{X}_{n-1})^t $\n",
    "\n",
    "$ C_n = \\frac{1}{n-1}S_n $"
   ]
  },
  {
   "cell_type": "code",
   "execution_count": null,
   "metadata": {
    "collapsed": true
   },
   "outputs": [],
   "source": [
    "class MockSelf(object):\n",
    "    pass\n",
    "self = MockSelf()"
   ]
  },
  {
   "cell_type": "code",
   "execution_count": null,
   "metadata": {
    "collapsed": true
   },
   "outputs": [],
   "source": [
    "# Ground truth\n",
    "\n",
    "real_cov = np.array([[5,2],[2,1]])\n",
    "real_mean = np.array([0,10])"
   ]
  },
  {
   "cell_type": "code",
   "execution_count": null,
   "metadata": {
    "collapsed": true
   },
   "outputs": [],
   "source": [
    "p = 10\n",
    "tmp_mat = np.random.normal(0,2,size=(p,p))\n",
    "real_cov = np.matmul(tmp_mat.transpose(),tmp_mat)\n",
    "real_mean = np.random.normal(0,5,size=p)"
   ]
  },
  {
   "cell_type": "code",
   "execution_count": null,
   "metadata": {
    "collapsed": true
   },
   "outputs": [],
   "source": [
    "# state\n",
    "self.mean = None\n",
    "self.n = 0\n",
    "self.C = 0"
   ]
  },
  {
   "cell_type": "code",
   "execution_count": null,
   "metadata": {
    "collapsed": false
   },
   "outputs": [],
   "source": [
    "# inputs\n",
    "features = np.random.multivariate_normal(real_mean,real_cov,size=1)\n",
    "feature_names = []\n",
    "\n",
    "# score function\n",
    "\n",
    "self.n += 1\n",
    "feat0 = features[0]\n",
    "\n",
    "if self.mean is None:\n",
    "    self.mean = feat0\n",
    "    assert False, 0\n",
    "else:\n",
    "    new_mean = self.mean + 1./float(self.n)*(feat0 - self.mean)\n",
    "    self.C = self.C + np.matmul((feat0 - self.mean)[None,:].transpose(),(feat0 - new_mean)[None,:])\n",
    "    self.mean = new_mean\n",
    "    \n",
    "mean = self.mean\n",
    "cov = self.C/float(self.n-1)\n",
    "\n",
    "cov1 = np.linalg.inv(cov)\n",
    "\n",
    "# Mahalanobis distance = (X-u)t * C-1 * (X-u)\n",
    "d2 = np.matmul(feat0 - mean, np.matmul(feat0 - mean, cov1.transpose()).transpose())\n",
    "\n",
    "print features, d2"
   ]
  },
  {
   "cell_type": "markdown",
   "metadata": {},
   "source": [
    "## Handling Batches"
   ]
  },
  {
   "cell_type": "markdown",
   "metadata": {},
   "source": [
    "** Formula for online batch mean update (batch of size $b$): **\n",
    "\n",
    "$ \\bar{X}_{n+b} = \\bar{X}_n + \\frac{b}{n+b}(\\bar{X}_{n,n+b} - \\bar{X}_n) $\n",
    "\n",
    "where $\\bar{X}_{n,n+b}$ is the mean of the batch."
   ]
  },
  {
   "cell_type": "markdown",
   "metadata": {},
   "source": [
    "**Theorem:**\n",
    "\n",
    "if $A$ and $A+B$ are invertible and $rank(B) = 1$ then\n",
    "\n",
    "$ (A + B)^{-1} = A^{-1} - \\frac{1}{1+trace(BA^{-1})}A^{-1}BA^{-1} $\n",
    "\n",
    "In our case is B of rank 1 ? Yes:\n",
    "\n",
    "$ B = (X_n - \\bar{X}_n)*(X_n - \\bar{X}_{n-1}) $\n",
    "\n",
    "and \n",
    "\n",
    "$ \\bar{X}_n = \\bar{X}_{n-1} * \\frac{n-1}{n} + X_n * \\frac{1}{n} $\n",
    "\n",
    "$ X_n - \\bar{X}_n = X_n * ( 1 - \\frac{1}{n} ) - \\bar{X}_{n-1} * \\frac{n-1}{n} $\n",
    "\n",
    "$ X_n = \\frac{n-1}{n}(X_n - \\bar{X}_{n-1}) $\n",
    "\n",
    "So B is produced from a single vector, its rank can only be one"
   ]
  },
  {
   "cell_type": "code",
   "execution_count": null,
   "metadata": {
    "collapsed": true
   },
   "outputs": [],
   "source": [
    "self.n = 0 \n",
    "self.mean = 0\n",
    "self.C = 0"
   ]
  },
  {
   "cell_type": "code",
   "execution_count": null,
   "metadata": {
    "collapsed": false
   },
   "outputs": [],
   "source": [
    "# inputs\n",
    "features = np.random.multivariate_normal(real_mean,real_cov,size=1000)\n",
    "feature_names = []\n",
    "\n",
    "nb = features.shape[0]\n",
    "\n",
    "roll_partial_means = features.cumsum(axis=0)/(np.arange(nb)+1).reshape((nb,1))\n",
    "\n",
    "coefs = (np.arange(nb)+1.)/(np.arange(nb)+self.n+1.)\n",
    "\n",
    "new_means = self.mean + coefs.reshape((nb,1))*(roll_partial_means-self.mean)\n",
    "\n",
    "# lets compute rolling (Xn-mXn)t*(Xn-mXn-1)\n",
    "\n",
    "new_means_offset = np.empty_like(new_means)\n",
    "new_means_offset[0] = self.mean\n",
    "new_means_offset[1:] = new_means[:-1]\n",
    "\n",
    "B = np.matmul((features - new_means)[:,:,None],(features - new_means_offset)[:,None,:])\n",
    "\n",
    "all_C = self.C + B.cumsum(axis=0)\n",
    "all_C_inv = np.zeros_like(B)\n",
    "\n",
    "all_C = np.roll(all_C,1,axis=0)\n",
    "all_C[0] = self.C\n",
    "\n",
    "c_inv = None\n",
    "EPSILON = 1e-8\n",
    "\n",
    "for i, b in enumerate(B):\n",
    "    if c_inv is None:\n",
    "        if abs(np.linalg.det(all_C[i])) > EPSILON:\n",
    "            c_inv = np.linalg.inv(all_C[i])\n",
    "        else:\n",
    "            continue\n",
    "    else:\n",
    "        c_inv = all_C_inv[i-1]\n",
    "    BC1 = np.matmul(b,c_inv)\n",
    "    all_C_inv[i] = c_inv - 1./(1.+np.trace(BC1))*np.matmul(c_inv,BC1)\n",
    "\n",
    "all_C_inv *= np.arange(nb).reshape((nb,1,1)) + self.n\n",
    "\n",
    "self.C += B.sum(axis=0)\n",
    "\n",
    "self.mean = new_means[-1]\n",
    "\n",
    "self.n += nb\n",
    "\n",
    "feat_diff = features-new_means_offset\n",
    "outlier_scores = np.matmul(feat_diff[:,None,:],np.matmul(all_C_inv,feat_diff[:,:,None])).reshape(nb)"
   ]
  },
  {
   "cell_type": "code",
   "execution_count": null,
   "metadata": {
    "collapsed": false
   },
   "outputs": [],
   "source": [
    "plt.plot(outlier_scores)"
   ]
  },
  {
   "cell_type": "code",
   "execution_count": null,
   "metadata": {
    "collapsed": true
   },
   "outputs": [],
   "source": []
  },
  {
   "cell_type": "code",
   "execution_count": null,
   "metadata": {
    "collapsed": false
   },
   "outputs": [],
   "source": [
    "import OutlierZscore\n",
    "reload(OutlierZscore)\n",
    "from OutlierZscore import OutlierZscore"
   ]
  },
  {
   "cell_type": "code",
   "execution_count": null,
   "metadata": {
    "collapsed": false
   },
   "outputs": [],
   "source": []
  },
  {
   "cell_type": "code",
   "execution_count": null,
   "metadata": {
    "collapsed": true
   },
   "outputs": [],
   "source": [
    "detector = OutlierZscore()"
   ]
  },
  {
   "cell_type": "code",
   "execution_count": null,
   "metadata": {
    "collapsed": false,
    "scrolled": false
   },
   "outputs": [],
   "source": [
    "detector.score(features,[])"
   ]
  },
  {
   "cell_type": "code",
   "execution_count": null,
   "metadata": {
    "collapsed": true
   },
   "outputs": [],
   "source": []
  },
  {
   "cell_type": "code",
   "execution_count": null,
   "metadata": {
    "collapsed": true
   },
   "outputs": [],
   "source": []
  },
  {
   "cell_type": "markdown",
   "metadata": {},
   "source": [
    "## PCA"
   ]
  },
  {
   "cell_type": "code",
   "execution_count": null,
   "metadata": {
    "collapsed": false
   },
   "outputs": [],
   "source": [
    "cov = self.C/(self.n-1.)"
   ]
  },
  {
   "cell_type": "code",
   "execution_count": null,
   "metadata": {
    "collapsed": false
   },
   "outputs": [],
   "source": [
    "cov"
   ]
  },
  {
   "cell_type": "code",
   "execution_count": null,
   "metadata": {
    "collapsed": false
   },
   "outputs": [],
   "source": [
    "plt.scatter(features[:,0],features[:,1])"
   ]
  },
  {
   "cell_type": "code",
   "execution_count": null,
   "metadata": {
    "collapsed": false
   },
   "outputs": [],
   "source": [
    "np.linalg.eigh?"
   ]
  },
  {
   "cell_type": "code",
   "execution_count": null,
   "metadata": {
    "collapsed": true
   },
   "outputs": [],
   "source": [
    "from scipy.linalg import eigh"
   ]
  },
  {
   "cell_type": "code",
   "execution_count": null,
   "metadata": {
    "collapsed": true
   },
   "outputs": [],
   "source": [
    "nd = cov.shape[0]"
   ]
  },
  {
   "cell_type": "code",
   "execution_count": null,
   "metadata": {
    "collapsed": true
   },
   "outputs": [],
   "source": [
    "n_vals = 1"
   ]
  },
  {
   "cell_type": "code",
   "execution_count": null,
   "metadata": {
    "collapsed": false
   },
   "outputs": [],
   "source": [
    "eigvals, eigvects = eigh(cov,eigvals=(nd-n_vals,nd-1))"
   ]
  },
  {
   "cell_type": "code",
   "execution_count": null,
   "metadata": {
    "collapsed": false
   },
   "outputs": [],
   "source": [
    "eigvals"
   ]
  },
  {
   "cell_type": "code",
   "execution_count": null,
   "metadata": {
    "collapsed": false
   },
   "outputs": [],
   "source": [
    "eigvects"
   ]
  },
  {
   "cell_type": "code",
   "execution_count": null,
   "metadata": {
    "collapsed": true
   },
   "outputs": [],
   "source": [
    "P = np.matmul(eigvects,eigvects.transpose())"
   ]
  },
  {
   "cell_type": "code",
   "execution_count": null,
   "metadata": {
    "collapsed": false
   },
   "outputs": [],
   "source": [
    "P"
   ]
  },
  {
   "cell_type": "code",
   "execution_count": null,
   "metadata": {
    "collapsed": false
   },
   "outputs": [],
   "source": [
    "normed_features = np.matmul(features,P.transpose())"
   ]
  },
  {
   "cell_type": "code",
   "execution_count": null,
   "metadata": {
    "collapsed": false
   },
   "outputs": [],
   "source": [
    "plt.scatter(normed_features[:,0],normed_features[:,1])"
   ]
  },
  {
   "cell_type": "code",
   "execution_count": null,
   "metadata": {
    "collapsed": true
   },
   "outputs": [],
   "source": []
  },
  {
   "cell_type": "code",
   "execution_count": null,
   "metadata": {
    "collapsed": true
   },
   "outputs": [],
   "source": [
    "# inputs\n",
    "features = np.random.multivariate_normal(real_mean,real_cov,size=1000)\n",
    "feature_names = []\n"
   ]
  },
  {
   "cell_type": "code",
   "execution_count": null,
   "metadata": {
    "collapsed": false
   },
   "outputs": [],
   "source": [
    "nb = features.shape[0]\n",
    "\n",
    "roll_partial_means = features.cumsum(axis=0)/(np.arange(nb)+1).reshape((nb,1))\n",
    "\n",
    "coefs = (np.arange(nb)+1.)/(np.arange(nb)+self.n+1.)\n",
    "\n",
    "new_means = self.mean + coefs.reshape((nb,1))*(roll_partial_means-self.mean)\n",
    "\n",
    "# lets compute rolling (Xn-mXn)t*(Xn-mXn-1)\n",
    "\n",
    "new_means_offset = np.empty_like(new_means)\n",
    "new_means_offset[0] = self.mean\n",
    "new_means_offset[1:] = new_means[:-1]\n",
    "\n",
    "B = np.matmul((features - new_means)[:,:,None],(features - new_means_offset)[:,None,:])"
   ]
  },
  {
   "cell_type": "code",
   "execution_count": null,
   "metadata": {
    "collapsed": true
   },
   "outputs": [],
   "source": [
    "cov_complete_batch = (self.C + B.sum(axis=0))/(self.n+nb-1.)"
   ]
  },
  {
   "cell_type": "code",
   "execution_count": null,
   "metadata": {
    "collapsed": true
   },
   "outputs": [],
   "source": [
    "p = features.shape[1]"
   ]
  },
  {
   "cell_type": "code",
   "execution_count": null,
   "metadata": {
    "collapsed": true
   },
   "outputs": [],
   "source": [
    "n_components = 1"
   ]
  },
  {
   "cell_type": "code",
   "execution_count": null,
   "metadata": {
    "collapsed": true
   },
   "outputs": [],
   "source": []
  },
  {
   "cell_type": "code",
   "execution_count": null,
   "metadata": {
    "collapsed": false
   },
   "outputs": [],
   "source": [
    "cov_complete_batch"
   ]
  },
  {
   "cell_type": "code",
   "execution_count": null,
   "metadata": {
    "collapsed": false
   },
   "outputs": [],
   "source": [
    "eigvals, eigvects = eigh(cov_complete_batch,eigvals=(p-n_components,p-1))\n",
    "\n",
    "proj_matrix = np.matmul(eigvects,eigvects.transpose())\n",
    "\n",
    "proj_features = np.matmul(features,proj_matrix.transpose())"
   ]
  },
  {
   "cell_type": "code",
   "execution_count": null,
   "metadata": {
    "collapsed": false
   },
   "outputs": [],
   "source": [
    "plt.scatter((features - new_means[-1])[:,0],(features - new_means[-1])[:,1])\n",
    "plt.scatter((proj_features-proj_features.mean(axis=0))[:,0],(proj_features-proj_features.mean(axis=0))[:,1])"
   ]
  },
  {
   "cell_type": "code",
   "execution_count": null,
   "metadata": {
    "collapsed": false
   },
   "outputs": [],
   "source": [
    "plt.scatter(proj_features[:,0],np.zeros(nb))"
   ]
  },
  {
   "cell_type": "code",
   "execution_count": null,
   "metadata": {
    "collapsed": false
   },
   "outputs": [],
   "source": [
    "proj_features.mean(axis=0)"
   ]
  },
  {
   "cell_type": "code",
   "execution_count": null,
   "metadata": {
    "collapsed": true
   },
   "outputs": [],
   "source": []
  },
  {
   "cell_type": "code",
   "execution_count": null,
   "metadata": {
    "collapsed": true
   },
   "outputs": [],
   "source": [
    "features = proj_features[:,:n_components]"
   ]
  },
  {
   "cell_type": "code",
   "execution_count": null,
   "metadata": {
    "collapsed": true
   },
   "outputs": [],
   "source": [
    "roll_partial_means = features.cumsum(axis=0)/(np.arange(nb)+1).reshape((nb,1))\n",
    "\n",
    "coefs = (np.arange(nb)+1.)/(np.arange(nb)+self.n+1.)\n",
    "\n",
    "new_means = self.mean + coefs.reshape((nb,1))*(roll_partial_means-self.mean)\n",
    "\n",
    "new_means_offset = np.empty_like(new_means)\n",
    "new_means_offset[0] = self.mean\n",
    "new_means_offset[1:] = new_means[:-1]\n",
    "\n",
    "B = np.matmul((features - new_means)[:,:,None],(features - new_means_offset)[:,None,:])\n",
    "\n",
    "all_C = self.C + B.cumsum(axis=0)\n",
    "all_C_inv = np.zeros_like(B)\n",
    "\n",
    "all_C = np.roll(all_C,1,axis=0)\n",
    "all_C[0] = self.C\n",
    "\n",
    "c_inv = None\n",
    "EPSILON = 1e-8\n",
    "\n",
    "for i, b in enumerate(B):\n",
    "    if c_inv is None:\n",
    "        if abs(np.linalg.det(all_C[i])) > EPSILON:\n",
    "            c_inv = np.linalg.inv(all_C[i])\n",
    "        else:\n",
    "            continue\n",
    "    else:\n",
    "        c_inv = all_C_inv[i-1]\n",
    "    BC1 = np.matmul(b,c_inv)\n",
    "    all_C_inv[i] = c_inv - 1./(1.+np.trace(BC1))*np.matmul(c_inv,BC1)\n",
    "\n",
    "all_C_inv *= np.arange(nb).reshape((nb,1,1)) + self.n\n",
    "\n",
    "self.C += B.sum(axis=0)\n",
    "\n",
    "self.mean = new_means[-1]\n",
    "\n",
    "self.n += nb\n",
    "\n",
    "feat_diff = features-new_means_offset\n",
    "outlier_scores = np.matmul(feat_diff[:,None,:],np.matmul(all_C_inv,feat_diff[:,:,None])).reshape(nb)"
   ]
  },
  {
   "cell_type": "code",
   "execution_count": null,
   "metadata": {
    "collapsed": false
   },
   "outputs": [],
   "source": [
    "plt.plot(outlier_scores)"
   ]
  },
  {
   "cell_type": "code",
   "execution_count": null,
   "metadata": {
    "collapsed": false
   },
   "outputs": [],
   "source": []
  },
  {
   "cell_type": "markdown",
   "metadata": {
    "collapsed": true
   },
   "source": [
    "### Improved algo for online covariance"
   ]
  },
  {
   "cell_type": "code",
   "execution_count": null,
   "metadata": {
    "collapsed": false
   },
   "outputs": [],
   "source": [
    "real_cov = np.array([[5,2.],[2.,1]])\n",
    "real_mean = np.array([0,10])\n",
    "\n",
    "N = 1000\n",
    "\n",
    "p = 2\n",
    "\n",
    "X = np.random.multivariate_normal(real_mean,real_cov,N)"
   ]
  },
  {
   "cell_type": "code",
   "execution_count": null,
   "metadata": {
    "collapsed": false
   },
   "outputs": [],
   "source": [
    "np.cov(*X.transpose())"
   ]
  },
  {
   "cell_type": "code",
   "execution_count": null,
   "metadata": {
    "collapsed": false
   },
   "outputs": [],
   "source": [
    "X_ = np.cumsum(X,axis=0)/(np.arange(N).reshape((N,1))+1.)"
   ]
  },
  {
   "cell_type": "code",
   "execution_count": null,
   "metadata": {
    "collapsed": true
   },
   "outputs": [],
   "source": [
    "diffs = (X[1:]-X_[1:]).reshape((N-1,X.shape[1],1))\n",
    "diffs_offset =  (X[1:]-np.roll(X_,1)[1:]).reshape((N-1,1,X.shape[1]))"
   ]
  },
  {
   "cell_type": "code",
   "execution_count": null,
   "metadata": {
    "collapsed": true
   },
   "outputs": [],
   "source": [
    "B = np.matmul(diffs,diffs_offset)"
   ]
  },
  {
   "cell_type": "code",
   "execution_count": null,
   "metadata": {
    "collapsed": false
   },
   "outputs": [],
   "source": [
    "B"
   ]
  },
  {
   "cell_type": "code",
   "execution_count": null,
   "metadata": {
    "collapsed": false
   },
   "outputs": [],
   "source": [
    "B = np.matmul((X-X_).reshape((N,X.shape[1],1)),(X-X_).reshape((N,1,X.shape[1])))"
   ]
  },
  {
   "cell_type": "code",
   "execution_count": null,
   "metadata": {
    "collapsed": false
   },
   "outputs": [],
   "source": [
    "B.shape"
   ]
  },
  {
   "cell_type": "code",
   "execution_count": null,
   "metadata": {
    "collapsed": false
   },
   "outputs": [],
   "source": [
    "B.sum(axis=0)/(N-1)"
   ]
  },
  {
   "cell_type": "code",
   "execution_count": null,
   "metadata": {
    "collapsed": false
   },
   "outputs": [],
   "source": [
    "np.roll(X_,1)"
   ]
  },
  {
   "cell_type": "code",
   "execution_count": null,
   "metadata": {
    "collapsed": false
   },
   "outputs": [],
   "source": [
    "X_"
   ]
  },
  {
   "cell_type": "code",
   "execution_count": null,
   "metadata": {
    "collapsed": true
   },
   "outputs": [],
   "source": []
  },
  {
   "cell_type": "code",
   "execution_count": null,
   "metadata": {
    "collapsed": false
   },
   "outputs": [],
   "source": [
    "X"
   ]
  },
  {
   "cell_type": "code",
   "execution_count": null,
   "metadata": {
    "collapsed": false
   },
   "outputs": [],
   "source": [
    "X_"
   ]
  },
  {
   "cell_type": "code",
   "execution_count": null,
   "metadata": {
    "collapsed": false
   },
   "outputs": [],
   "source": [
    "cX = (X-X_).reshape((N,1,X.shape[1]))"
   ]
  },
  {
   "cell_type": "code",
   "execution_count": null,
   "metadata": {
    "collapsed": false
   },
   "outputs": [],
   "source": [
    "B = np.matmul(cX.transpose((0,2,1)),cX)"
   ]
  },
  {
   "cell_type": "code",
   "execution_count": null,
   "metadata": {
    "collapsed": true
   },
   "outputs": [],
   "source": [
    "S = B.cumsum(axis=0)"
   ]
  },
  {
   "cell_type": "code",
   "execution_count": null,
   "metadata": {
    "collapsed": true
   },
   "outputs": [],
   "source": [
    "S = np.empty(shape=(N,p,p))"
   ]
  },
  {
   "cell_type": "code",
   "execution_count": null,
   "metadata": {
    "collapsed": false
   },
   "outputs": [],
   "source": [
    "for i in range(N):\n",
    "    cX = (X[:i+1]-X_[i]).reshape(((i+1,1,X.shape[1])))\n",
    "    S[i] = np.matmul(cX.transpose((0,2,1)),cX).sum(axis=0)"
   ]
  },
  {
   "cell_type": "code",
   "execution_count": null,
   "metadata": {
    "collapsed": false
   },
   "outputs": [],
   "source": [
    "S[-1]"
   ]
  },
  {
   "cell_type": "code",
   "execution_count": null,
   "metadata": {
    "collapsed": true
   },
   "outputs": [],
   "source": [
    "np.cov?"
   ]
  },
  {
   "cell_type": "code",
   "execution_count": null,
   "metadata": {
    "collapsed": false
   },
   "outputs": [],
   "source": [
    "S[-1]"
   ]
  },
  {
   "cell_type": "code",
   "execution_count": null,
   "metadata": {
    "collapsed": false
   },
   "outputs": [],
   "source": [
    "S[-2] + np.matmul((X[-1]-X_[-1])[:,None],(X[-1]-X_[-2])[None,:])"
   ]
  },
  {
   "cell_type": "code",
   "execution_count": null,
   "metadata": {
    "collapsed": false
   },
   "outputs": [],
   "source": [
    "S[-1] - S[-2]"
   ]
  },
  {
   "cell_type": "code",
   "execution_count": null,
   "metadata": {
    "collapsed": false
   },
   "outputs": [],
   "source": [
    "np.matmul((X[-1]-X_[-1])[:,None],(X[-1]-X_[-2])[None,:])"
   ]
  },
  {
   "cell_type": "code",
   "execution_count": null,
   "metadata": {
    "collapsed": false,
    "scrolled": true
   },
   "outputs": [],
   "source": [
    "np.cov(*X.transpose())*(len(X)-1) - np.cov(*X[:-1].transpose())*(len(X[:-1])-1)"
   ]
  },
  {
   "cell_type": "code",
   "execution_count": null,
   "metadata": {
    "collapsed": false
   },
   "outputs": [],
   "source": [
    "np.cov(*X[:-1].transpose())*(len(X[:-1])-1)"
   ]
  },
  {
   "cell_type": "code",
   "execution_count": null,
   "metadata": {
    "collapsed": false
   },
   "outputs": [],
   "source": [
    "S[-2]"
   ]
  },
  {
   "cell_type": "code",
   "execution_count": null,
   "metadata": {
    "collapsed": false
   },
   "outputs": [],
   "source": [
    "np.cov(X.transpose())*(len(X)-1)"
   ]
  },
  {
   "cell_type": "code",
   "execution_count": null,
   "metadata": {
    "collapsed": false
   },
   "outputs": [],
   "source": [
    "np.cov(*X.transpose())*(len(X)-1)"
   ]
  },
  {
   "cell_type": "code",
   "execution_count": null,
   "metadata": {
    "collapsed": false
   },
   "outputs": [],
   "source": [
    "C = S/np.arange(N).reshape((N,1,1))"
   ]
  },
  {
   "cell_type": "code",
   "execution_count": null,
   "metadata": {
    "collapsed": false
   },
   "outputs": [],
   "source": [
    "C[-1]"
   ]
  },
  {
   "cell_type": "code",
   "execution_count": null,
   "metadata": {
    "collapsed": false
   },
   "outputs": [],
   "source": [
    "S[-1]/(N-1)"
   ]
  },
  {
   "cell_type": "code",
   "execution_count": null,
   "metadata": {
    "collapsed": false
   },
   "outputs": [],
   "source": [
    "1./float(N-1)*(C[-2]-float(N-1)/float(N)*np.matmul((X[-1]-X_[-2])[:,None],(X[-1]-X_[-2])[None,:]))"
   ]
  },
  {
   "cell_type": "code",
   "execution_count": null,
   "metadata": {
    "collapsed": false
   },
   "outputs": [],
   "source": []
  },
  {
   "cell_type": "code",
   "execution_count": null,
   "metadata": {
    "collapsed": false
   },
   "outputs": [],
   "source": [
    "C[-2]-C[-1]"
   ]
  },
  {
   "cell_type": "code",
   "execution_count": null,
   "metadata": {
    "collapsed": false
   },
   "outputs": [],
   "source": [
    "(N-1)/float(N)*np.matmul((X[-1]-X_[-2])[:,None],(X[-1]-X_[-2])[None,:])"
   ]
  },
  {
   "cell_type": "code",
   "execution_count": null,
   "metadata": {
    "collapsed": false
   },
   "outputs": [],
   "source": [
    "C[-2]"
   ]
  },
  {
   "cell_type": "code",
   "execution_count": null,
   "metadata": {
    "collapsed": false
   },
   "outputs": [],
   "source": [
    "C[0]"
   ]
  },
  {
   "cell_type": "code",
   "execution_count": null,
   "metadata": {
    "collapsed": false
   },
   "outputs": [],
   "source": [
    "C[1]"
   ]
  },
  {
   "cell_type": "markdown",
   "metadata": {},
   "source": [
    "Setting up the algorithm in an efficient way"
   ]
  },
  {
   "cell_type": "code",
   "execution_count": null,
   "metadata": {
    "collapsed": true
   },
   "outputs": [],
   "source": []
  },
  {
   "cell_type": "code",
   "execution_count": null,
   "metadata": {
    "collapsed": true
   },
   "outputs": [],
   "source": [
    "self.C"
   ]
  },
  {
   "cell_type": "code",
   "execution_count": null,
   "metadata": {
    "collapsed": true
   },
   "outputs": [],
   "source": [
    "features\n"
   ]
  },
  {
   "cell_type": "code",
   "execution_count": null,
   "metadata": {
    "collapsed": false
   },
   "outputs": [],
   "source": [
    "1./float(N-1)*(C[-2]-float(N-2)/float(N-1)*np.matmul((X[-1]-X_[-2])[:,None],(X[-1]-X_[-2])[None,:]))"
   ]
  },
  {
   "cell_type": "code",
   "execution_count": null,
   "metadata": {
    "collapsed": false
   },
   "outputs": [],
   "source": []
  },
  {
   "cell_type": "code",
   "execution_count": null,
   "metadata": {
    "collapsed": false
   },
   "outputs": [],
   "source": [
    "features = X[:100]"
   ]
  },
  {
   "cell_type": "code",
   "execution_count": null,
   "metadata": {
    "collapsed": false
   },
   "outputs": [],
   "source": [
    "self.mean = 0\n",
    "self.C = 0"
   ]
  },
  {
   "cell_type": "code",
   "execution_count": null,
   "metadata": {
    "collapsed": true
   },
   "outputs": [],
   "source": [
    "for i in len(features):\n",
    "    self.C = self"
   ]
  },
  {
   "cell_type": "code",
   "execution_count": null,
   "metadata": {
    "collapsed": true
   },
   "outputs": [],
   "source": [
    "self.mean = features[0]"
   ]
  },
  {
   "cell_type": "code",
   "execution_count": null,
   "metadata": {
    "collapsed": false
   },
   "outputs": [],
   "source": [
    "i = 2\n",
    "n = i+1\n",
    "x = features[i]"
   ]
  },
  {
   "cell_type": "code",
   "execution_count": null,
   "metadata": {
    "collapsed": false
   },
   "outputs": [],
   "source": [
    "self.C = self.C - 1./(n-1.)*(self.C - (n-1.)/n*np.matmul((x-self.mean)[:,None],(x-self.mean)[None,:]))"
   ]
  },
  {
   "cell_type": "code",
   "execution_count": null,
   "metadata": {
    "collapsed": true
   },
   "outputs": [],
   "source": [
    "self.mean = self.mean + 1./float(n)*(x - self.mean)"
   ]
  },
  {
   "cell_type": "code",
   "execution_count": null,
   "metadata": {
    "collapsed": false
   },
   "outputs": [],
   "source": [
    "self.C"
   ]
  },
  {
   "cell_type": "code",
   "execution_count": null,
   "metadata": {
    "collapsed": false
   },
   "outputs": [],
   "source": [
    "np.cov(*features[:i-1].transpose())"
   ]
  },
  {
   "cell_type": "code",
   "execution_count": null,
   "metadata": {
    "collapsed": false
   },
   "outputs": [],
   "source": [
    "features[:i]"
   ]
  },
  {
   "cell_type": "code",
   "execution_count": null,
   "metadata": {
    "collapsed": false
   },
   "outputs": [],
   "source": [
    "np.cov(features[:i+1].transpose())"
   ]
  },
  {
   "cell_type": "code",
   "execution_count": null,
   "metadata": {
    "collapsed": false
   },
   "outputs": [],
   "source": [
    "self.mean"
   ]
  },
  {
   "cell_type": "code",
   "execution_count": null,
   "metadata": {
    "collapsed": false
   },
   "outputs": [],
   "source": [
    "self.mean = np.mean(features[:i+1],axis=0)"
   ]
  },
  {
   "cell_type": "code",
   "execution_count": null,
   "metadata": {
    "collapsed": true
   },
   "outputs": [],
   "source": [
    "self.C = np.cov(features[:i+1].transpose())\n",
    "self.mean = np.mean(features[:i+1],axis=0)"
   ]
  },
  {
   "cell_type": "code",
   "execution_count": null,
   "metadata": {
    "collapsed": false
   },
   "outputs": [],
   "source": [
    "self.C"
   ]
  },
  {
   "cell_type": "code",
   "execution_count": null,
   "metadata": {
    "collapsed": false
   },
   "outputs": [],
   "source": [
    "self.mean"
   ]
  },
  {
   "cell_type": "code",
   "execution_count": null,
   "metadata": {
    "collapsed": false
   },
   "outputs": [],
   "source": [
    "self.C"
   ]
  },
  {
   "cell_type": "code",
   "execution_count": null,
   "metadata": {
    "collapsed": false
   },
   "outputs": [],
   "source": [
    "np.cov(features[:i+1].transpose())"
   ]
  },
  {
   "cell_type": "code",
   "execution_count": null,
   "metadata": {
    "collapsed": false
   },
   "outputs": [],
   "source": [
    "i = 2\n",
    "n = i+1\n",
    "x = features[i]\n",
    "\n",
    "self.C = np.cov(features[:i+1].transpose())\n",
    "self.mean = np.mean(features[:i+1],axis=0)\n",
    "\n",
    "i = 3\n",
    "n = i+1\n",
    "x = features[i]\n",
    "\n",
    "new_C = self.C - 1./(n-1.)*(self.C - (n-1.)/n*np.matmul((x-self.mean)[:,None],(x-self.mean)[None,:]))\n",
    "\n",
    "new_C_real = np.cov(features[:i+1].transpose())\n",
    "\n",
    "diff_real = new_C_real - self.C\n",
    "diff_observed = - 1./(n-1.)*(self.C - (n-1.)/n*np.matmul((x-self.mean)[:,None],(x-self.mean)[None,:]))\n",
    "\n",
    "print \"real\"\n",
    "print new_C_real\n",
    "print \"observed\"\n",
    "print new_C"
   ]
  },
  {
   "cell_type": "code",
   "execution_count": null,
   "metadata": {
    "collapsed": true
   },
   "outputs": [],
   "source": []
  },
  {
   "cell_type": "code",
   "execution_count": null,
   "metadata": {
    "collapsed": true
   },
   "outputs": [],
   "source": [
    "real_cov = np.array([[5,2.],[2.,1]])\n",
    "real_mean = np.array([0,10])\n",
    "\n",
    "N = 100\n",
    "\n",
    "p = 2\n",
    "\n",
    "features = np.random.multivariate_normal(real_mean,real_cov,N)"
   ]
  },
  {
   "cell_type": "code",
   "execution_count": null,
   "metadata": {
    "collapsed": false
   },
   "outputs": [],
   "source": [
    "n_components = 3\n",
    "\n",
    "self.mean = 0\n",
    "self.complete_mean = 0\n",
    "self.C = 0\n",
    "self.complete_C = 0\n",
    "self.n = 0\n",
    "self.n_components = n_components"
   ]
  },
  {
   "cell_type": "code",
   "execution_count": null,
   "metadata": {
    "collapsed": true
   },
   "outputs": [],
   "source": [
    "nb = features.shape[0] # batch size\n",
    "p = features.shape[1] # number of features\n",
    "n_components = min(self.n_components,p)\n",
    "\n",
    "# PCA\n",
    "roll_partial_means = features.cumsum(axis=0)/(np.arange(nb)+1).reshape((nb,1))\n",
    "coefs = (np.arange(nb)+1.)/(np.arange(nb)+self.n+1.)\n",
    "new_means = self.complete_mean + coefs.reshape((nb,1))*(roll_partial_means-self.complete_mean)\n",
    "new_means_offset = np.empty_like(new_means)\n",
    "new_means_offset[0] = self.complete_mean\n",
    "new_means_offset[1:] = new_means[:-1]\n",
    "\n",
    "B = np.matmul((features - new_means_offset)[:,:,None],(features - new_means_offset)[:,None,:])\n",
    "cov_complete_batch = (self.complete_C + B.sum(axis=0))/(self.n+nb-1.)"
   ]
  },
  {
   "cell_type": "code",
   "execution_count": null,
   "metadata": {
    "collapsed": true
   },
   "outputs": [],
   "source": []
  },
  {
   "cell_type": "markdown",
   "metadata": {},
   "source": [
    "Let's test the following formula:\n",
    "\n",
    "$ C_n = \\frac{n-1-k}{n-1}C_{n-k} + \\frac{1}{n-1}\\sum^k_{i=1}\\frac{n-i}{n-i+1}(X_{n-i+1}-\\bar{X}_{n-i})(X_{n-i+1}-\\bar{X}_{n-i})^t$  \n",
    "$\\forall k \\in [1,n-1]$\n",
    "\n",
    "or\n",
    "\n",
    "$ C_{n+k} = \\frac{n-1}{n+k-1}C_{n} + \\frac{1}{n+k-1}\\sum^{k-1}_{i=0}\\frac{n+i}{n+i+1}(X_{n+i+1}-\\bar{X}_{n+i})^2 $\n",
    "\n",
    "or\n",
    "\n",
    "$ C_{N} = \\frac{n-1}{N-1}C_{n} + \\frac{1}{N-1}\\sum^{N-1}_{i=n}\\frac{i}{i+1}(X_{i+1}-\\bar{X}_{i})^2 $\n"
   ]
  },
  {
   "cell_type": "code",
   "execution_count": null,
   "metadata": {
    "collapsed": false
   },
   "outputs": [],
   "source": [
    "B.shape"
   ]
  },
  {
   "cell_type": "code",
   "execution_count": null,
   "metadata": {
    "collapsed": true
   },
   "outputs": [],
   "source": [
    "coefs = ((self.n+np.arange(nb))/(self.n+np.arange(nb)+1.)).reshape((nb,1,1))"
   ]
  },
  {
   "cell_type": "code",
   "execution_count": null,
   "metadata": {
    "collapsed": false
   },
   "outputs": [],
   "source": [
    "B = coefs*np.matmul((features - new_means_offset)[:,:,None],(features - new_means_offset)[:,None,:])"
   ]
  },
  {
   "cell_type": "code",
   "execution_count": null,
   "metadata": {
    "collapsed": true
   },
   "outputs": [],
   "source": [
    "cov_complete_batch = (self.n-1.)/(self.n+nb-1.)*self.C + 1./(self.n+nb-1.)*B.sum(axis=0)"
   ]
  },
  {
   "cell_type": "code",
   "execution_count": null,
   "metadata": {
    "collapsed": false
   },
   "outputs": [],
   "source": [
    "cov_complete_batch"
   ]
  },
  {
   "cell_type": "code",
   "execution_count": null,
   "metadata": {
    "collapsed": false
   },
   "outputs": [],
   "source": [
    "np.cov(features.transpose())"
   ]
  },
  {
   "cell_type": "code",
   "execution_count": null,
   "metadata": {
    "collapsed": true
   },
   "outputs": [],
   "source": [
    "X = np.random.multivariate_normal(real_mean,real_cov,N*2)\n"
   ]
  },
  {
   "cell_type": "code",
   "execution_count": null,
   "metadata": {
    "collapsed": true
   },
   "outputs": [],
   "source": [
    "i = 1\n",
    "features = X[i*N:(i+1)*N]"
   ]
  },
  {
   "cell_type": "code",
   "execution_count": null,
   "metadata": {
    "collapsed": false
   },
   "outputs": [],
   "source": [
    "nb = features.shape[0] # batch size\n",
    "p = features.shape[1] # number of features\n",
    "n_components = min(self.n_components,p)\n",
    "\n",
    "# PCA\n",
    "roll_partial_means = features.cumsum(axis=0)/(np.arange(nb)+1).reshape((nb,1))\n",
    "coefs = (np.arange(nb)+1.)/(np.arange(nb)+self.n+1.)\n",
    "new_means = self.complete_mean + coefs.reshape((nb,1))*(roll_partial_means-self.complete_mean)\n",
    "new_means_offset = np.empty_like(new_means)\n",
    "new_means_offset[0] = self.complete_mean\n",
    "new_means_offset[1:] = new_means[:-1]\n",
    "\n",
    "coefs = ((self.n+np.arange(nb))/(self.n+np.arange(nb)+1.)).reshape((nb,1,1))\n",
    "B = coefs*np.matmul((features - new_means_offset)[:,:,None],(features - new_means_offset)[:,None,:])\n",
    "cov_complete_batch = (self.n-1.)/(self.n+nb-1.)*self.complete_C + 1./(self.n+nb-1.)*B.sum(axis=0)"
   ]
  },
  {
   "cell_type": "code",
   "execution_count": null,
   "metadata": {
    "collapsed": false
   },
   "outputs": [],
   "source": [
    "cov_complete_batch"
   ]
  },
  {
   "cell_type": "code",
   "execution_count": null,
   "metadata": {
    "collapsed": false
   },
   "outputs": [],
   "source": [
    "np.cov(X.transpose())"
   ]
  },
  {
   "cell_type": "code",
   "execution_count": null,
   "metadata": {
    "collapsed": true
   },
   "outputs": [],
   "source": [
    "self.n += nb\n",
    "self.complete_mean = new_means[-1]\n",
    "self.complete_C = cov_complete_batch"
   ]
  },
  {
   "cell_type": "code",
   "execution_count": null,
   "metadata": {
    "collapsed": true
   },
   "outputs": [],
   "source": []
  },
  {
   "cell_type": "code",
   "execution_count": null,
   "metadata": {
    "collapsed": true
   },
   "outputs": [],
   "source": []
  }
 ],
 "metadata": {
  "anaconda-cloud": {},
  "kernelspec": {
   "display_name": "Python [default]",
   "language": "python",
   "name": "python2"
  },
  "language_info": {
   "codemirror_mode": {
    "name": "ipython",
    "version": 2
   },
   "file_extension": ".py",
   "mimetype": "text/x-python",
   "name": "python",
   "nbconvert_exporter": "python",
   "pygments_lexer": "ipython2",
   "version": "2.7.12"
  }
 },
 "nbformat": 4,
 "nbformat_minor": 2
}
