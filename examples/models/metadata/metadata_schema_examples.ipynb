{
 "cells": [
  {
   "cell_type": "markdown",
   "metadata": {},
   "source": [
    "# Metadata Schema and Validation"
   ]
  },
  {
   "cell_type": "code",
   "execution_count": 1,
   "metadata": {},
   "outputs": [],
   "source": [
    "from seldon_core.metadata import validate_model_metadata\n",
    "import yaml"
   ]
  },
  {
   "cell_type": "markdown",
   "metadata": {},
   "source": [
    "## Examples Description\n",
    "\n",
    "Simple and transparent list of valid model metadata definitions"
   ]
  },
  {
   "cell_type": "markdown",
   "metadata": {},
   "source": [
    "## kfserving Schema"
   ]
  },
  {
   "cell_type": "code",
   "execution_count": 2,
   "metadata": {},
   "outputs": [
    {
     "data": {
      "text/plain": [
       "{'name': 'my-model-name',\n",
       " 'versions': ['my-model-version-01'],\n",
       " 'platform': 'seldon',\n",
       " 'inputs': [{'datatype': 'BYTES', 'name': 'input', 'shape': [1, 4]}],\n",
       " 'outputs': [{'datatype': 'BYTES', 'name': 'output', 'shape': [3]}]}"
      ]
     },
     "execution_count": 2,
     "metadata": {},
     "output_type": "execute_result"
    }
   ],
   "source": [
    "data = \"\"\"\n",
    "name: my-model-name\n",
    "versions: [ my-model-version-01 ]\n",
    "platform: seldon\n",
    "inputs:\n",
    "- datatype: BYTES\n",
    "  name: input\n",
    "  shape: [ 1, 4 ]\n",
    "outputs:\n",
    "- datatype: BYTES\n",
    "  name: output\n",
    "  shape: [ 3 ]\n",
    "\"\"\"\n",
    "\n",
    "validate_model_metadata(yaml.safe_load(data))"
   ]
  },
  {
   "cell_type": "markdown",
   "metadata": {},
   "source": [
    "## Seldon Schema"
   ]
  },
  {
   "cell_type": "markdown",
   "metadata": {},
   "source": [
    "### array\n",
    "\n",
    "payload examples:\n",
    "- `{\"data\": {\"names\": [\"a\", \"b\"], \"ndarray\": [[1, 2], [3, 4]]}}`\n",
    "- `{\"data\": {\"names\": [\"a\", \"b\"], \"tensor\": {\"values\": [1, 2, 3, 4], \"shape\": [2, 2]}}`"
   ]
  },
  {
   "cell_type": "code",
   "execution_count": 3,
   "metadata": {},
   "outputs": [
    {
     "data": {
      "text/plain": [
       "{'name': 'my-model-name',\n",
       " 'versions': ['my-model-version-01'],\n",
       " 'platform': 'seldon',\n",
       " 'inputs': [{'messagetype': 'tensor',\n",
       "   'schema': {'names': ['a', 'b', 'c', 'd'], 'shape': [4]}}],\n",
       " 'outputs': [{'messagetype': 'tensor', 'schema': {'shape': [1]}}]}"
      ]
     },
     "execution_count": 3,
     "metadata": {},
     "output_type": "execute_result"
    }
   ],
   "source": [
    "data = \"\"\"\n",
    "name: my-model-name\n",
    "versions: [ my-model-version-01 ]\n",
    "platform: seldon\n",
    "inputs:\n",
    "- messagetype: tensor\n",
    "  schema:\n",
    "    names: [a, b, c, d]\n",
    "    shape: [ 4 ]\n",
    "outputs:\n",
    "- messagetype: tensor\n",
    "  schema:\n",
    "    shape: [ 1 ]\n",
    "\"\"\"\n",
    "\n",
    "validate_model_metadata(yaml.safe_load(data))"
   ]
  },
  {
   "cell_type": "markdown",
   "metadata": {},
   "source": [
    "### json data\n",
    "\n",
    "payload example: `{\"jsonData\": {\"my-custom-field\": \"my-custom-data\"}}`\n"
   ]
  },
  {
   "cell_type": "code",
   "execution_count": 4,
   "metadata": {},
   "outputs": [
    {
     "data": {
      "text/plain": [
       "{'name': 'my-model-name',\n",
       " 'versions': ['my-model-version-01'],\n",
       " 'platform': 'seldon',\n",
       " 'inputs': [{'messagetype': 'jsonData'}],\n",
       " 'outputs': [{'messagetype': 'tensor', 'schema': {'shape': [1]}}]}"
      ]
     },
     "execution_count": 4,
     "metadata": {},
     "output_type": "execute_result"
    }
   ],
   "source": [
    "data = \"\"\"\n",
    "name: my-model-name\n",
    "versions: [ my-model-version-01 ]\n",
    "platform: seldon\n",
    "inputs:\n",
    "- messagetype: jsonData\n",
    "outputs:\n",
    "- messagetype: tensor\n",
    "  schema:\n",
    "    shape: [ 1 ]\n",
    "\"\"\"\n",
    "\n",
    "validate_model_metadata(yaml.safe_load(data))"
   ]
  },
  {
   "cell_type": "markdown",
   "metadata": {},
   "source": [
    "### json data with user's schema\n",
    "\n",
    "payload example: `{\"jsonData\": {\"names\": [\"a\", \"b\"], \"data\": [1, 2]}}`"
   ]
  },
  {
   "cell_type": "code",
   "execution_count": 5,
   "metadata": {},
   "outputs": [
    {
     "data": {
      "text/plain": [
       "{'name': 'my-model-name',\n",
       " 'versions': ['my-model-version-01'],\n",
       " 'platform': 'seldon',\n",
       " 'inputs': [{'messagetype': 'jsonData',\n",
       "   'schema': {'type': 'object',\n",
       "    'properties': {'names': {'type': 'array', 'items': {'type': 'string'}},\n",
       "     'data': {'type': 'array',\n",
       "      'items': {'type': 'number', 'format': 'double'}}}}}],\n",
       " 'outputs': [{'messagetype': 'tensor', 'schema': {'shape': [1]}}]}"
      ]
     },
     "execution_count": 5,
     "metadata": {},
     "output_type": "execute_result"
    }
   ],
   "source": [
    "data = \"\"\"\n",
    "name: my-model-name\n",
    "versions: [ my-model-version-01 ]\n",
    "platform: seldon\n",
    "inputs:\n",
    "- messagetype: jsonData\n",
    "  schema:\n",
    "      type: object\n",
    "      properties:\n",
    "          names:\n",
    "              type: array\n",
    "              items:\n",
    "                  type: string\n",
    "          data:\n",
    "            type: array\n",
    "            items:\n",
    "                type: number\n",
    "                format: double\n",
    "outputs:\n",
    "- messagetype: tensor\n",
    "  schema:\n",
    "    shape: [ 1 ]\n",
    "\"\"\"\n",
    "\n",
    "validate_model_metadata(yaml.safe_load(data))"
   ]
  },
  {
   "cell_type": "markdown",
   "metadata": {},
   "source": [
    "### str data\n",
    "payload example: `{\"strData\": \"some test input\"}`"
   ]
  },
  {
   "cell_type": "code",
   "execution_count": 6,
   "metadata": {},
   "outputs": [
    {
     "data": {
      "text/plain": [
       "{'name': 'my-model-name',\n",
       " 'versions': ['my-model-version-01'],\n",
       " 'platform': 'seldon',\n",
       " 'inputs': [{'messagetype': 'strData'}],\n",
       " 'outputs': [{'messagetype': 'tensor', 'schema': {'shape': [1]}}]}"
      ]
     },
     "execution_count": 6,
     "metadata": {},
     "output_type": "execute_result"
    }
   ],
   "source": [
    "data = \"\"\"\n",
    "name: my-model-name\n",
    "versions: [ my-model-version-01 ]\n",
    "platform: seldon\n",
    "inputs:\n",
    "- messagetype: strData\n",
    "outputs:\n",
    "- messagetype: tensor\n",
    "  schema:\n",
    "    shape: [ 1 ]\n",
    "\"\"\"\n",
    "\n",
    "validate_model_metadata(yaml.safe_load(data))"
   ]
  },
  {
   "cell_type": "markdown",
   "metadata": {},
   "source": [
    "### custom"
   ]
  },
  {
   "cell_type": "code",
   "execution_count": 7,
   "metadata": {},
   "outputs": [
    {
     "data": {
      "text/plain": [
       "{'name': 'my-model-name',\n",
       " 'versions': ['my-model-version-01'],\n",
       " 'platform': 'seldon',\n",
       " 'inputs': [{'messagetype': 'customData',\n",
       "   'schema': {'my-names': ['a', 'b', 'c']}}],\n",
       " 'outputs': [{'messagetype': 'tensor', 'schema': {'shape': [1]}}]}"
      ]
     },
     "execution_count": 7,
     "metadata": {},
     "output_type": "execute_result"
    }
   ],
   "source": [
    "data = \"\"\"\n",
    "name: my-model-name\n",
    "versions: [ my-model-version-01 ]\n",
    "platform: seldon\n",
    "inputs:\n",
    "- messagetype: customData\n",
    "  schema:\n",
    "    my-names: [\"a\", \"b\", \"c\"]\n",
    "outputs:\n",
    "- messagetype: tensor\n",
    "  schema:\n",
    "    shape: [ 1 ]\n",
    "\"\"\"\n",
    "\n",
    "validate_model_metadata(yaml.safe_load(data))"
   ]
  }
 ],
 "metadata": {
  "kernelspec": {
   "display_name": "Python 3",
   "language": "python",
   "name": "python3"
  },
  "language_info": {
   "codemirror_mode": {
    "name": "ipython",
    "version": 3
   },
   "file_extension": ".py",
   "mimetype": "text/x-python",
   "name": "python",
   "nbconvert_exporter": "python",
   "pygments_lexer": "ipython3",
   "version": "3.7.6"
  }
 },
 "nbformat": 4,
 "nbformat_minor": 4
}
