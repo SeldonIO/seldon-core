{
 "cells": [
  {
   "cell_type": "code",
   "execution_count": 1,
   "metadata": {},
   "outputs": [],
   "source": [
    "from seldon_core.proto import prediction_pb2\n",
    "from seldon_core.utils import json_to_seldon_model_metadata\n",
    "from seldon_core.metadata import validate_model_metadata\n",
    "\n",
    "from google.protobuf import json_format\n",
    "\n",
    "import yaml"
   ]
  },
  {
   "cell_type": "markdown",
   "metadata": {},
   "source": [
    "# v1"
   ]
  },
  {
   "cell_type": "code",
   "execution_count": 2,
   "metadata": {},
   "outputs": [
    {
     "name": "stdout",
     "output_type": "stream",
     "text": [
      "name: \"my-model-name\"\n",
      "versions: \"my-model-version-01\"\n",
      "platform: \"seldon\"\n",
      "inputs {\n",
      "  messagetype: \"binData\"\n",
      "}\n",
      "outputs {\n",
      "  shape: 1\n",
      "  messagetype: \"array\"\n",
      "}\n",
      "\n"
     ]
    }
   ],
   "source": [
    "data = \"\"\"\n",
    "name: my-model-name\n",
    "versions: [ my-model-version-01 ]\n",
    "platform: seldon\n",
    "inputs:\n",
    "- messagetype: binData\n",
    "outputs:\n",
    "- messagetype: array\n",
    "  shape: [ 1 ]\n",
    "\"\"\"\n",
    "\n",
    "meta_json = validate_model_metadata(yaml.safe_load(data))\n",
    "meta_pb = json_to_seldon_model_metadata(meta_json)\n",
    "print(meta_pb)"
   ]
  },
  {
   "cell_type": "code",
   "execution_count": 3,
   "metadata": {},
   "outputs": [
    {
     "data": {
      "text/plain": [
       "{'name': 'my-model-name',\n",
       " 'versions': ['my-model-version-01'],\n",
       " 'platform': 'seldon',\n",
       " 'inputs': [{'messagetype': 'binData'}],\n",
       " 'outputs': [{'messagetype': 'array', 'shape': [1]}]}"
      ]
     },
     "execution_count": 3,
     "metadata": {},
     "output_type": "execute_result"
    }
   ],
   "source": [
    "meta_json"
   ]
  },
  {
   "cell_type": "code",
   "execution_count": 4,
   "metadata": {},
   "outputs": [
    {
     "data": {
      "text/plain": [
       "{'name': 'my-model-name',\n",
       " 'versions': ['my-model-version-01'],\n",
       " 'platform': 'seldon',\n",
       " 'inputs': [{'messagetype': 'binData'}],\n",
       " 'outputs': [{'shape': ['1'], 'messagetype': 'array'}]}"
      ]
     },
     "execution_count": 4,
     "metadata": {},
     "output_type": "execute_result"
    }
   ],
   "source": [
    "import json\n",
    "json.loads(json_format.MessageToJson(meta_pb)) "
   ]
  },
  {
   "cell_type": "markdown",
   "metadata": {},
   "source": [
    "# v2"
   ]
  },
  {
   "cell_type": "code",
   "execution_count": 5,
   "metadata": {},
   "outputs": [
    {
     "name": "stdout",
     "output_type": "stream",
     "text": [
      "name: \"my-model-name\"\n",
      "versions: \"my-model-version-01\"\n",
      "platform: \"seldon\"\n",
      "inputs {\n",
      "  name: \"input\"\n",
      "  datatype: \"BYTES\"\n",
      "  shape: 1\n",
      "  shape: 4\n",
      "}\n",
      "outputs {\n",
      "  name: \"output\"\n",
      "  datatype: \"BYTES\"\n",
      "  shape: 3\n",
      "}\n",
      "\n"
     ]
    }
   ],
   "source": [
    "data = \"\"\"\n",
    "name: my-model-name\n",
    "versions: [ my-model-version-01 ]\n",
    "platform: seldon\n",
    "inputs:\n",
    "- datatype: BYTES\n",
    "  name: input\n",
    "  shape: [ 1, 4 ]\n",
    "outputs:\n",
    "- datatype: BYTES\n",
    "  name: output\n",
    "  shape: [ 3 ]\n",
    "\"\"\"\n",
    "\n",
    "meta_json = validate_model_metadata(yaml.safe_load(data))\n",
    "meta_pb = json_to_seldon_model_metadata(meta_json)\n",
    "print(meta_pb)"
   ]
  },
  {
   "cell_type": "code",
   "execution_count": 6,
   "metadata": {},
   "outputs": [
    {
     "data": {
      "text/plain": [
       "{'name': 'my-model-name',\n",
       " 'versions': ['my-model-version-01'],\n",
       " 'platform': 'seldon',\n",
       " 'inputs': [{'datatype': 'BYTES', 'name': 'input', 'shape': [1, 4]}],\n",
       " 'outputs': [{'datatype': 'BYTES', 'name': 'output', 'shape': [3]}]}"
      ]
     },
     "execution_count": 6,
     "metadata": {},
     "output_type": "execute_result"
    }
   ],
   "source": [
    "meta_json"
   ]
  },
  {
   "cell_type": "code",
   "execution_count": 7,
   "metadata": {},
   "outputs": [
    {
     "data": {
      "text/plain": [
       "{'name': 'my-model-name',\n",
       " 'versions': ['my-model-version-01'],\n",
       " 'platform': 'seldon',\n",
       " 'inputs': [{'name': 'input', 'datatype': 'BYTES', 'shape': ['1', '4']}],\n",
       " 'outputs': [{'name': 'output', 'datatype': 'BYTES', 'shape': ['3']}]}"
      ]
     },
     "execution_count": 7,
     "metadata": {},
     "output_type": "execute_result"
    }
   ],
   "source": [
    "import json\n",
    "json.loads(json_format.MessageToJson(meta_pb)) "
   ]
  }
 ],
 "metadata": {
  "kernelspec": {
   "display_name": "Python 3",
   "language": "python",
   "name": "python3"
  },
  "language_info": {
   "codemirror_mode": {
    "name": "ipython",
    "version": 3
   },
   "file_extension": ".py",
   "mimetype": "text/x-python",
   "name": "python",
   "nbconvert_exporter": "python",
   "pygments_lexer": "ipython3",
   "version": "3.7.6"
  }
 },
 "nbformat": 4,
 "nbformat_minor": 4
}
