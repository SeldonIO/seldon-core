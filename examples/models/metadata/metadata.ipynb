{
 "cells": [
  {
   "cell_type": "markdown",
   "metadata": {},
   "source": [
    "# Simple Metadata Example\n",
    "\n",
    "\n",
    "## Prerequisites\n",
    "\n",
    " * A kubernetes cluster with kubectl configured\n",
    " * curl\n",
    " * grpcurl\n",
    " * pygmentize\n",
    " \n",
    "\n",
    "## Setup Seldon Core\n",
    "\n",
    "Use the setup notebook to [Setup Cluster](seldon_core_setup.ipynb) to setup Seldon Core with an ingress."
   ]
  },
  {
   "cell_type": "code",
   "execution_count": 1,
   "metadata": {},
   "outputs": [
    {
     "name": "stdout",
     "output_type": "stream",
     "text": [
      "Error from server (AlreadyExists): namespaces \"seldon\" already exists\n"
     ]
    }
   ],
   "source": [
    "!kubectl create namespace seldon"
   ]
  },
  {
   "cell_type": "code",
   "execution_count": 2,
   "metadata": {},
   "outputs": [
    {
     "name": "stdout",
     "output_type": "stream",
     "text": [
      "Context \"kind-kind\" modified.\n"
     ]
    }
   ],
   "source": [
    "!kubectl config set-context $(kubectl config current-context) --namespace=seldon"
   ]
  },
  {
   "cell_type": "markdown",
   "metadata": {},
   "source": [
    "## Example description\n",
    "\n",
    "In this example we will define a following metadata\n",
    "```\n",
    "name: my-model-name\n",
    "versions: [ my-model-version-01 ]\n",
    "platform: seldon\n",
    "inputs:\n",
    "- messagetype: tensor\n",
    "  schema:\n",
    "    names: [a, b, c, d]\n",
    "    shape: [ 4 ]\n",
    "outputs:\n",
    "- messagetype: tensor\n",
    "  schema:\n",
    "    shape: [ 1 ]\n",
    "```\n",
    "\n",
    "which corresponds to model taking a tensor input with four columns named `a`, `b`, `c`, and `d`.\n",
    "\n",
    "We will define the `metadata` in two ways: directly in the model.py and in the deployment manifest.\n",
    "\n",
    "When defining `metadata` in deployment manifest we will use different names to indicate that metadata can be overwritten.\n",
    "\n",
    "At the end we will see what happens if one misdefined the Metadata."
   ]
  },
  {
   "cell_type": "code",
   "execution_count": 3,
   "metadata": {},
   "outputs": [],
   "source": [
    "import requests\n",
    "import time\n",
    "def getWithRetry(url, expected_code=requests.codes.ok):\n",
    "    for i in range(3):\n",
    "        r = requests.get(url)\n",
    "        if r.status_code == expected_code:\n",
    "            meta = r.json()\n",
    "            return meta\n",
    "        else:\n",
    "            print(\"Failed request with status code \",r.status_code)\n",
    "            time.sleep(3)"
   ]
  },
  {
   "cell_type": "markdown",
   "metadata": {},
   "source": [
    "## 1. Directly define in model"
   ]
  },
  {
   "cell_type": "markdown",
   "metadata": {},
   "source": [
    "### Define Model"
   ]
  },
  {
   "cell_type": "code",
   "execution_count": 4,
   "metadata": {},
   "outputs": [
    {
     "name": "stdout",
     "output_type": "stream",
     "text": [
      "Overwriting models/init-metadata/Model.py\n"
     ]
    }
   ],
   "source": [
    "%%writefile models/init-metadata/Model.py\n",
    "\n",
    "import logging\n",
    "\n",
    "\n",
    "class Model:\n",
    "    def predict(self, features, names=[], meta=[]):\n",
    "        logging.info(f\"model features: {features}\")\n",
    "        logging.info(f\"model names: {names}\")\n",
    "        logging.info(f\"model meta: {meta}\")\n",
    "        return features\n",
    "\n",
    "    def init_metadata(self):\n",
    "        logging.info(\"metadata method  called\")\n",
    "\n",
    "        meta = {\n",
    "            \"name\": \"my-model-name\",\n",
    "            \"versions\": [\"my-model-version-01\"],\n",
    "            \"platform\": \"seldon\",\n",
    "            \"inputs\": [\n",
    "                {\n",
    "                    \"messagetype\": \"tensor\",\n",
    "                    \"schema\": {\"names\": [\"a\", \"b\", \"c\", \"d\"], \"shape\": [4]},\n",
    "                }\n",
    "            ],\n",
    "            \"outputs\": [{\"messagetype\": \"tensor\", \"schema\": {\"shape\": [1]}}],\n",
    "        }\n",
    "\n",
    "        return meta"
   ]
  },
  {
   "cell_type": "markdown",
   "metadata": {},
   "source": [
    "### Build image\n",
    "\n",
    "build image using provided Makefile\n",
    "```\n",
    "cd models/init-metadata\n",
    "make build\n",
    "```\n",
    "\n",
    "If you are using `kind` you can use `kind_image_install` target to directly\n",
    "load your image into your local cluster.\n"
   ]
  },
  {
   "cell_type": "markdown",
   "metadata": {},
   "source": [
    "### Define deployment"
   ]
  },
  {
   "cell_type": "code",
   "execution_count": 5,
   "metadata": {},
   "outputs": [
    {
     "name": "stdout",
     "output_type": "stream",
     "text": [
      "Overwriting model-metadata/init-metadata.yaml\n"
     ]
    }
   ],
   "source": [
    "%%writefile model-metadata/init-metadata.yaml\n",
    "\n",
    "apiVersion: machinelearning.seldon.io/v1\n",
    "kind: SeldonDeployment\n",
    "metadata:\n",
    "  name: seldon-model-init-metadata\n",
    "spec:\n",
    "  name: test-deployment\n",
    "  predictors:\n",
    "  - componentSpecs:\n",
    "    - spec:\n",
    "        containers:\n",
    "        - image: seldonio/model-with-metadata:0.3\n",
    "          name: my-model\n",
    "          env:\n",
    "          - name: SELDON_LOG_LEVEL\n",
    "            value: DEBUG\n",
    "    graph:\n",
    "      children: []\n",
    "      name: my-model\n",
    "      type: MODEL\n",
    "    name: example\n",
    "    replicas: 1"
   ]
  },
  {
   "cell_type": "markdown",
   "metadata": {},
   "source": [
    "### Deploy"
   ]
  },
  {
   "cell_type": "code",
   "execution_count": 6,
   "metadata": {},
   "outputs": [
    {
     "name": "stdout",
     "output_type": "stream",
     "text": [
      "seldondeployment.machinelearning.seldon.io/seldon-model-init-metadata created\n"
     ]
    }
   ],
   "source": [
    "!kubectl apply -f model-metadata/init-metadata.yaml"
   ]
  },
  {
   "cell_type": "code",
   "execution_count": 7,
   "metadata": {},
   "outputs": [
    {
     "name": "stdout",
     "output_type": "stream",
     "text": [
      "Waiting for deployment \"seldon-model-init-metadata-example-0-my-model\" rollout to finish: 0 of 1 updated replicas are available...\n",
      "deployment \"seldon-model-init-metadata-example-0-my-model\" successfully rolled out\n"
     ]
    }
   ],
   "source": [
    "!kubectl rollout status deploy/$(kubectl get deploy -l seldon-deployment-id=seldon-model-init-metadata -o jsonpath='{.items[0].metadata.name}')"
   ]
  },
  {
   "cell_type": "markdown",
   "metadata": {},
   "source": [
    "### Model Metadata"
   ]
  },
  {
   "cell_type": "code",
   "execution_count": 8,
   "metadata": {},
   "outputs": [
    {
     "name": "stdout",
     "output_type": "stream",
     "text": [
      "Failed request with status code  404\n"
     ]
    },
    {
     "data": {
      "text/plain": [
       "{'inputs': [{'messagetype': 'tensor',\n",
       "   'schema': {'names': ['a', 'b', 'c', 'd'], 'shape': [4]}}],\n",
       " 'name': 'my-model-name',\n",
       " 'outputs': [{'messagetype': 'tensor', 'schema': {'shape': [1]}}],\n",
       " 'platform': 'seldon',\n",
       " 'versions': ['my-model-version-01']}"
      ]
     },
     "execution_count": 8,
     "metadata": {},
     "output_type": "execute_result"
    }
   ],
   "source": [
    "meta = getWithRetry(\"http://localhost:8003/seldon/seldon/seldon-model-init-metadata/api/v1.0/metadata/my-model\")\n",
    "\n",
    "assert meta == {\n",
    "    \"name\": \"my-model-name\",\n",
    "    \"versions\": [\"my-model-version-01\"],\n",
    "    \"platform\": \"seldon\",\n",
    "    \"inputs\": [{\n",
    "        \"messagetype\": \"tensor\",\n",
    "        \"schema\": {\"names\": [\"a\", \"b\", \"c\", \"d\"], \"shape\": [4]},\n",
    "    }],\n",
    "    \"outputs\": [{\"messagetype\": \"tensor\", \"schema\": {\"shape\": [1]}}],\n",
    "}\n",
    "\n",
    "meta"
   ]
  },
  {
   "cell_type": "markdown",
   "metadata": {},
   "source": [
    "### Graph Metadata"
   ]
  },
  {
   "cell_type": "code",
   "execution_count": 9,
   "metadata": {},
   "outputs": [
    {
     "data": {
      "text/plain": [
       "{'name': 'example',\n",
       " 'models': {'my-model': {'name': 'my-model-name',\n",
       "   'platform': 'seldon',\n",
       "   'versions': ['my-model-version-01'],\n",
       "   'inputs': [{'messagetype': 'tensor',\n",
       "     'schema': {'names': ['a', 'b', 'c', 'd'], 'shape': [4]}}],\n",
       "   'outputs': [{'messagetype': 'tensor', 'schema': {'shape': [1]}}]}},\n",
       " 'graphinputs': [{'messagetype': 'tensor',\n",
       "   'schema': {'names': ['a', 'b', 'c', 'd'], 'shape': [4]}}],\n",
       " 'graphoutputs': [{'messagetype': 'tensor', 'schema': {'shape': [1]}}]}"
      ]
     },
     "execution_count": 9,
     "metadata": {},
     "output_type": "execute_result"
    }
   ],
   "source": [
    "meta = getWithRetry(\"http://localhost:8003/seldon/seldon/seldon-model-init-metadata/api/v1.0/metadata\")\n",
    "\n",
    "assert meta == {\n",
    "    \"name\": \"example\",\n",
    "    \"models\": {\n",
    "        \"my-model\": {\n",
    "            \"name\": \"my-model-name\",\n",
    "            \"platform\": \"seldon\",\n",
    "            \"versions\": [\"my-model-version-01\"],\n",
    "            \"inputs\": [{\n",
    "                \"messagetype\": \"tensor\",\n",
    "                \"schema\": {\"names\": [\"a\", \"b\", \"c\", \"d\"], \"shape\": [4]},\n",
    "            }],\n",
    "            \"outputs\": [{\"messagetype\": \"tensor\", \"schema\": {\"shape\": [1]}}],\n",
    "        }\n",
    "    },\n",
    "    \"graphinputs\": [{\n",
    "        \"messagetype\": \"tensor\",\n",
    "        \"schema\": {\"names\": [\"a\", \"b\", \"c\", \"d\"], \"shape\": [4]},\n",
    "    }],\n",
    "    \"graphoutputs\": [{\"messagetype\": \"tensor\", \"schema\": {\"shape\": [1]}}],\n",
    "}\n",
    "\n",
    "meta"
   ]
  },
  {
   "cell_type": "markdown",
   "metadata": {},
   "source": [
    "## 2. Via environmental variable\n",
    "\n",
    "Metadata defined via environmental variables will overwrite top-level fields \n",
    "in metadata defined directly in the models.\n",
    "\n",
    "You can use this approach to overwrite metadata defined in the model or \n",
    "to provide metadata if model does not define it."
   ]
  },
  {
   "cell_type": "code",
   "execution_count": 10,
   "metadata": {},
   "outputs": [
    {
     "name": "stdout",
     "output_type": "stream",
     "text": [
      "Overwriting model-metadata/environ-metadata.yaml\n"
     ]
    }
   ],
   "source": [
    "%%writefile model-metadata/environ-metadata.yaml\n",
    "\n",
    "apiVersion: machinelearning.seldon.io/v1\n",
    "kind: SeldonDeployment\n",
    "metadata:\n",
    "  name: seldon-model-environ-metadata\n",
    "spec:\n",
    "  name: test-deployment\n",
    "  predictors:\n",
    "  - componentSpecs:\n",
    "    - spec:\n",
    "        containers:\n",
    "        - image: seldonio/model-with-metadata:0.3\n",
    "          name: my-model\n",
    "          env:\n",
    "          - name: SELDON_LOG_LEVEL\n",
    "            value: DEBUG\n",
    "          - name: MODEL_METADATA\n",
    "            value: |\n",
    "              ---\n",
    "              name: second-example-model-name\n",
    "              versions: [ my-model-version-01 ]\n",
    "              inputs:\n",
    "              - messagetype: tensor\n",
    "                schema:\n",
    "                  names: [alpha, beta, gamma, delta]\n",
    "                  shape: [4]\n",
    "    graph:\n",
    "      children: []\n",
    "      name: my-model\n",
    "      type: MODEL\n",
    "    name: example\n",
    "    replicas: 1"
   ]
  },
  {
   "cell_type": "code",
   "execution_count": 11,
   "metadata": {},
   "outputs": [
    {
     "name": "stdout",
     "output_type": "stream",
     "text": [
      "seldondeployment.machinelearning.seldon.io/seldon-model-environ-metadata created\n"
     ]
    }
   ],
   "source": [
    "!kubectl apply -f model-metadata/environ-metadata.yaml"
   ]
  },
  {
   "cell_type": "code",
   "execution_count": 12,
   "metadata": {},
   "outputs": [
    {
     "name": "stdout",
     "output_type": "stream",
     "text": [
      "Waiting for deployment \"seldon-model-environ-metadata-example-0-my-model\" rollout to finish: 0 of 1 updated replicas are available...\n",
      "deployment \"seldon-model-environ-metadata-example-0-my-model\" successfully rolled out\n"
     ]
    }
   ],
   "source": [
    "!kubectl rollout status deploy/$(kubectl get deploy -l seldon-deployment-id=seldon-model-environ-metadata -o jsonpath='{.items[0].metadata.name}')"
   ]
  },
  {
   "cell_type": "markdown",
   "metadata": {},
   "source": [
    "### Model Metadata"
   ]
  },
  {
   "cell_type": "code",
   "execution_count": 13,
   "metadata": {},
   "outputs": [
    {
     "name": "stdout",
     "output_type": "stream",
     "text": [
      "Failed request with status code  404\n"
     ]
    },
    {
     "data": {
      "text/plain": [
       "{'inputs': [{'messagetype': 'tensor',\n",
       "   'schema': {'names': ['alpha', 'beta', 'gamma', 'delta'], 'shape': [4]}}],\n",
       " 'name': 'second-example-model-name',\n",
       " 'outputs': [{'messagetype': 'tensor', 'schema': {'shape': [1]}}],\n",
       " 'platform': 'seldon',\n",
       " 'versions': ['my-model-version-01']}"
      ]
     },
     "execution_count": 13,
     "metadata": {},
     "output_type": "execute_result"
    }
   ],
   "source": [
    "meta = getWithRetry(\"http://localhost:8003/seldon/seldon/seldon-model-environ-metadata/api/v1.0/metadata/my-model\")\n",
    "\n",
    "\n",
    "assert meta == {\n",
    "    \"name\": \"second-example-model-name\",\n",
    "    \"versions\": [\"my-model-version-01\"],\n",
    "    \"platform\": \"seldon\",\n",
    "    \"inputs\": [{\n",
    "        \"messagetype\": \"tensor\",\n",
    "        \"schema\": {\"names\": [\"alpha\", \"beta\", \"gamma\", \"delta\"], \"shape\": [4]},\n",
    "    }],\n",
    "    \"outputs\": [{\"messagetype\": \"tensor\", \"schema\": {\"shape\": [1]}}],\n",
    "}\n",
    "\n",
    "meta"
   ]
  },
  {
   "cell_type": "markdown",
   "metadata": {},
   "source": [
    "### Graph Metadata"
   ]
  },
  {
   "cell_type": "code",
   "execution_count": 14,
   "metadata": {},
   "outputs": [
    {
     "data": {
      "text/plain": [
       "{'name': 'example',\n",
       " 'models': {'my-model': {'name': 'my-model-name',\n",
       "   'platform': 'seldon',\n",
       "   'versions': ['my-model-version-01'],\n",
       "   'inputs': [{'messagetype': 'tensor',\n",
       "     'schema': {'names': ['a', 'b', 'c', 'd'], 'shape': [4]}}],\n",
       "   'outputs': [{'messagetype': 'tensor', 'schema': {'shape': [1]}}]}},\n",
       " 'graphinputs': [{'messagetype': 'tensor',\n",
       "   'schema': {'names': ['a', 'b', 'c', 'd'], 'shape': [4]}}],\n",
       " 'graphoutputs': [{'messagetype': 'tensor', 'schema': {'shape': [1]}}]}"
      ]
     },
     "execution_count": 14,
     "metadata": {},
     "output_type": "execute_result"
    }
   ],
   "source": [
    "meta = getWithRetry(\"http://localhost:8003/seldon/seldon/seldon-model-init-metadata/api/v1.0/metadata\")\n",
    "\n",
    "assert meta == {\n",
    "    \"name\": \"example\",\n",
    "    \"models\": {\n",
    "        \"my-model\": {\n",
    "            \"name\": \"my-model-name\",\n",
    "            \"platform\": \"seldon\",\n",
    "            \"versions\": [\"my-model-version-01\"],\n",
    "            \"inputs\": [{\n",
    "                \"messagetype\": \"tensor\",\n",
    "                \"schema\": {\"names\": [\"a\", \"b\", \"c\", \"d\"], \"shape\": [4]},\n",
    "            }],\n",
    "            \"outputs\": [{\"messagetype\": \"tensor\", \"schema\": {\"shape\": [1]}}],\n",
    "        }\n",
    "    },\n",
    "    \"graphinputs\": [{\n",
    "        \"messagetype\": \"tensor\",\n",
    "        \"schema\": {\"names\": [\"a\", \"b\", \"c\", \"d\"], \"shape\": [4]},\n",
    "    }],\n",
    "    \"graphoutputs\": [{\"messagetype\": \"tensor\", \"schema\": {\"shape\": [1]}}],\n",
    "}\n",
    "\n",
    "meta"
   ]
  },
  {
   "cell_type": "markdown",
   "metadata": {},
   "source": [
    "## 3. Invalid metadata definition\n",
    "\n",
    "Here we define metadata that is invalid (versions must be a list)"
   ]
  },
  {
   "cell_type": "code",
   "execution_count": 15,
   "metadata": {},
   "outputs": [
    {
     "name": "stdout",
     "output_type": "stream",
     "text": [
      "Overwriting model-metadata/invalid-environ-metadata.yaml\n"
     ]
    }
   ],
   "source": [
    "%%writefile model-metadata/invalid-environ-metadata.yaml\n",
    "\n",
    "apiVersion: machinelearning.seldon.io/v1\n",
    "kind: SeldonDeployment\n",
    "metadata:\n",
    "  name: seldon-model-invalid-environ-metadata\n",
    "spec:\n",
    "  name: test-deployment\n",
    "  predictors:\n",
    "  - componentSpecs:\n",
    "    - spec:\n",
    "        containers:\n",
    "        - image: seldonio/model-with-metadata:0.3\n",
    "          name: my-model\n",
    "          env:\n",
    "          - name: SELDON_LOG_LEVEL\n",
    "            value: DEBUG\n",
    "          - name: MODEL_METADATA\n",
    "            value: |\n",
    "              ---\n",
    "              name: my-model-name\n",
    "              versions: my-model-version-01\n",
    "    graph:\n",
    "      children: []\n",
    "      name: my-model\n",
    "      type: MODEL\n",
    "    name: example\n",
    "    replicas: 1"
   ]
  },
  {
   "cell_type": "code",
   "execution_count": 16,
   "metadata": {},
   "outputs": [
    {
     "name": "stdout",
     "output_type": "stream",
     "text": [
      "seldondeployment.machinelearning.seldon.io/seldon-model-invalid-environ-metadata created\n"
     ]
    }
   ],
   "source": [
    "!kubectl apply -f model-metadata/invalid-environ-metadata.yaml"
   ]
  },
  {
   "cell_type": "code",
   "execution_count": 17,
   "metadata": {},
   "outputs": [
    {
     "name": "stdout",
     "output_type": "stream",
     "text": [
      "Waiting for deployment \"seldon-model-invalid-environ-metadata-example-0-my-model\" rollout to finish: 0 of 1 updated replicas are available...\n",
      "deployment \"seldon-model-invalid-environ-metadata-example-0-my-model\" successfully rolled out\n"
     ]
    }
   ],
   "source": [
    "!kubectl rollout status deploy/$(kubectl get deploy -l seldon-deployment-id=seldon-model-invalid-environ-metadata -o jsonpath='{.items[0].metadata.name}')"
   ]
  },
  {
   "cell_type": "markdown",
   "metadata": {},
   "source": [
    "Requesting Metadata will lead to 500 error."
   ]
  },
  {
   "cell_type": "code",
   "execution_count": 18,
   "metadata": {},
   "outputs": [
    {
     "name": "stdout",
     "output_type": "stream",
     "text": [
      "Failed request with status code  404\n"
     ]
    },
    {
     "data": {
      "text/plain": [
       "{'status': {'code': -1,\n",
       "  'info': 'Model metadata unavailable',\n",
       "  'reason': 'MICROSERVICE_BAD_METADATA',\n",
       "  'status': 1}}"
      ]
     },
     "execution_count": 18,
     "metadata": {},
     "output_type": "execute_result"
    }
   ],
   "source": [
    "meta = getWithRetry(\"http://localhost:8003/seldon/seldon/seldon-model-invalid-environ-metadata/api/v1.0/metadata/my-model\", 500)\n",
    "\n",
    "assert meta == {\n",
    "    'status': {\n",
    "        'code': -1,\n",
    "        'info': 'Model metadata unavailable',\n",
    "        'reason': 'MICROSERVICE_BAD_METADATA',\n",
    "        'status': 1\n",
    "    }\n",
    "}\n",
    "\n",
    "meta"
   ]
  },
  {
   "cell_type": "markdown",
   "metadata": {},
   "source": [
    "But Model will still be serving predictions"
   ]
  },
  {
   "cell_type": "code",
   "execution_count": 19,
   "metadata": {},
   "outputs": [
    {
     "name": "stdout",
     "output_type": "stream",
     "text": [
      "{\"data\":{\"names\":[],\"ndarray\":[\"data\"]},\"meta\":{}}\n"
     ]
    }
   ],
   "source": [
    "%%bash\n",
    "curl -s -H 'Content-Type: application/json' \\\n",
    "    -d '{\"data\": {\"names\": [\"input\"], \"ndarray\": [\"data\"]}}' \\\n",
    "    http://localhost:8003/seldon/seldon/seldon-model-invalid-environ-metadata/api/v1.0/predictions"
   ]
  },
  {
   "cell_type": "markdown",
   "metadata": {},
   "source": [
    "## Cleanup resources"
   ]
  },
  {
   "cell_type": "code",
   "execution_count": 20,
   "metadata": {},
   "outputs": [
    {
     "name": "stdout",
     "output_type": "stream",
     "text": [
      "seldondeployment.machinelearning.seldon.io \"seldon-model-environ-metadata\" deleted\n",
      "seldondeployment.machinelearning.seldon.io \"seldon-model-init-metadata\" deleted\n",
      "seldondeployment.machinelearning.seldon.io \"seldon-model-invalid-environ-metadata\" deleted\n"
     ]
    }
   ],
   "source": [
    "%%bash\n",
    "kubectl delete -f model-metadata/"
   ]
  }
 ],
 "metadata": {
  "kernelspec": {
   "display_name": "Python 3",
   "language": "python",
   "name": "python3"
  },
  "language_info": {
   "codemirror_mode": {
    "name": "ipython",
    "version": 3
   },
   "file_extension": ".py",
   "mimetype": "text/x-python",
   "name": "python",
   "nbconvert_exporter": "python",
   "pygments_lexer": "ipython3",
   "version": "3.7.6"
  }
 },
 "nbformat": 4,
 "nbformat_minor": 4
}
