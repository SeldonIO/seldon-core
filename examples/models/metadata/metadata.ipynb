{
 "cells": [
  {
   "cell_type": "markdown",
   "metadata": {},
   "source": [
    "# Basic Examples for Model with Metadata\n",
    "\n",
    "\n",
    "## Prerequisites\n",
    "\n",
    " * A kubernetes cluster with kubectl configured\n",
    " * curl\n",
    " * grpcurl\n",
    " * pygmentize\n",
    " \n",
    "\n",
    "## Setup Seldon Core\n",
    "\n",
    "Use the setup notebook to [Setup Cluster](seldon_core_setup.ipynb) to setup Seldon Core with an ingress."
   ]
  },
  {
   "cell_type": "code",
   "execution_count": 1,
   "metadata": {},
   "outputs": [
    {
     "name": "stdout",
     "output_type": "stream",
     "text": [
      "Error from server (AlreadyExists): namespaces \"seldon\" already exists\n"
     ]
    }
   ],
   "source": [
    "!kubectl create namespace seldon"
   ]
  },
  {
   "cell_type": "code",
   "execution_count": 2,
   "metadata": {},
   "outputs": [
    {
     "name": "stdout",
     "output_type": "stream",
     "text": [
      "Context \"kind-kind\" modified.\n"
     ]
    }
   ],
   "source": [
    "!kubectl config set-context $(kubectl config current-context) --namespace=seldon"
   ]
  },
  {
   "cell_type": "markdown",
   "metadata": {},
   "source": [
    "# 1. Directly define in model's method"
   ]
  },
  {
   "cell_type": "code",
   "execution_count": 3,
   "metadata": {},
   "outputs": [
    {
     "name": "stdout",
     "output_type": "stream",
     "text": [
      "\u001b[34mimport\u001b[39;49;00m \u001b[04m\u001b[36mlogging\u001b[39;49;00m\n",
      "\u001b[34mimport\u001b[39;49;00m \u001b[04m\u001b[36mjson\u001b[39;49;00m\n",
      "\u001b[34mimport\u001b[39;49;00m \u001b[04m\u001b[36mos\u001b[39;49;00m\n",
      "\n",
      "\n",
      "\u001b[34mclass\u001b[39;49;00m \u001b[04m\u001b[32mModel\u001b[39;49;00m:\n",
      "    \u001b[34mdef\u001b[39;49;00m \u001b[32mpredict\u001b[39;49;00m(\u001b[36mself\u001b[39;49;00m, features, names=[], meta=[]):\n",
      "        logging.info(\u001b[33mf\u001b[39;49;00m\u001b[33m\"\u001b[39;49;00m\u001b[33mmodel features: \u001b[39;49;00m\u001b[33m{features}\u001b[39;49;00m\u001b[33m\"\u001b[39;49;00m)\n",
      "        logging.info(\u001b[33mf\u001b[39;49;00m\u001b[33m\"\u001b[39;49;00m\u001b[33mmodel names: \u001b[39;49;00m\u001b[33m{names}\u001b[39;49;00m\u001b[33m\"\u001b[39;49;00m)\n",
      "        logging.info(\u001b[33mf\u001b[39;49;00m\u001b[33m\"\u001b[39;49;00m\u001b[33mmodel meta: \u001b[39;49;00m\u001b[33m{meta}\u001b[39;49;00m\u001b[33m\"\u001b[39;49;00m)\n",
      "        \u001b[34mreturn\u001b[39;49;00m features.tolist()\n",
      "\n",
      "    \u001b[34mdef\u001b[39;49;00m \u001b[32minit_metadata\u001b[39;49;00m(\u001b[36mself\u001b[39;49;00m):\n",
      "        logging.info(\u001b[33m\"\u001b[39;49;00m\u001b[33mmetadata method  called\u001b[39;49;00m\u001b[33m\"\u001b[39;49;00m)\n",
      "\n",
      "        meta = {\n",
      "            \u001b[33m\"\u001b[39;49;00m\u001b[33mname\u001b[39;49;00m\u001b[33m\"\u001b[39;49;00m: \u001b[33m\"\u001b[39;49;00m\u001b[33mmy-model-name\u001b[39;49;00m\u001b[33m\"\u001b[39;49;00m,\n",
      "            \u001b[33m\"\u001b[39;49;00m\u001b[33mversions\u001b[39;49;00m\u001b[33m\"\u001b[39;49;00m: [\u001b[33m\"\u001b[39;49;00m\u001b[33mmy-model-version-01\u001b[39;49;00m\u001b[33m\"\u001b[39;49;00m],\n",
      "            \u001b[33m\"\u001b[39;49;00m\u001b[33mplatform\u001b[39;49;00m\u001b[33m\"\u001b[39;49;00m: \u001b[33m\"\u001b[39;49;00m\u001b[33mseldon-custom\u001b[39;49;00m\u001b[33m\"\u001b[39;49;00m,\n",
      "            \u001b[33m\"\u001b[39;49;00m\u001b[33minputs\u001b[39;49;00m\u001b[33m\"\u001b[39;49;00m: [{\u001b[33m\"\u001b[39;49;00m\u001b[33mname\u001b[39;49;00m\u001b[33m\"\u001b[39;49;00m: \u001b[33m\"\u001b[39;49;00m\u001b[33minput\u001b[39;49;00m\u001b[33m\"\u001b[39;49;00m, \u001b[33m\"\u001b[39;49;00m\u001b[33mdatatype\u001b[39;49;00m\u001b[33m\"\u001b[39;49;00m: \u001b[33m\"\u001b[39;49;00m\u001b[33mBYTES\u001b[39;49;00m\u001b[33m\"\u001b[39;49;00m, \u001b[33m\"\u001b[39;49;00m\u001b[33mshape\u001b[39;49;00m\u001b[33m\"\u001b[39;49;00m: [\u001b[34m1\u001b[39;49;00m]}],\n",
      "            \u001b[33m\"\u001b[39;49;00m\u001b[33moutputs\u001b[39;49;00m\u001b[33m\"\u001b[39;49;00m: [{\u001b[33m\"\u001b[39;49;00m\u001b[33mname\u001b[39;49;00m\u001b[33m\"\u001b[39;49;00m: \u001b[33m\"\u001b[39;49;00m\u001b[33moutput\u001b[39;49;00m\u001b[33m\"\u001b[39;49;00m, \u001b[33m\"\u001b[39;49;00m\u001b[33mdatatype\u001b[39;49;00m\u001b[33m\"\u001b[39;49;00m: \u001b[33m\"\u001b[39;49;00m\u001b[33mBYTES\u001b[39;49;00m\u001b[33m\"\u001b[39;49;00m, \u001b[33m\"\u001b[39;49;00m\u001b[33mshape\u001b[39;49;00m\u001b[33m\"\u001b[39;49;00m: [\u001b[34m1\u001b[39;49;00m]}],\n",
      "        }\n",
      "\n",
      "        \u001b[34mreturn\u001b[39;49;00m meta\n"
     ]
    }
   ],
   "source": [
    "!pygmentize example-01/Model.py"
   ]
  },
  {
   "cell_type": "code",
   "execution_count": 4,
   "metadata": {},
   "outputs": [
    {
     "name": "stdout",
     "output_type": "stream",
     "text": [
      "\u001b[94mapiVersion\u001b[39;49;00m: machinelearning.seldon.io/v1\n",
      "\u001b[94mkind\u001b[39;49;00m: SeldonDeployment\n",
      "\u001b[94mmetadata\u001b[39;49;00m:\n",
      "  \u001b[94mname\u001b[39;49;00m: seldon-model\n",
      "\u001b[94mspec\u001b[39;49;00m:\n",
      "  \u001b[94mname\u001b[39;49;00m: test-deployment\n",
      "  \u001b[94mpredictors\u001b[39;49;00m:\n",
      "  - \u001b[94mcomponentSpecs\u001b[39;49;00m:\n",
      "    - \u001b[94mspec\u001b[39;49;00m:\n",
      "        \u001b[94mcontainers\u001b[39;49;00m:\n",
      "        - \u001b[94mimage\u001b[39;49;00m: seldonio/model-with-metadata-01_rest:0.1\n",
      "          \u001b[94mname\u001b[39;49;00m: my-model\n",
      "          \u001b[94menv\u001b[39;49;00m:\n",
      "          - \u001b[94mname\u001b[39;49;00m: SELDON_LOG_LEVEL\n",
      "            \u001b[94mvalue\u001b[39;49;00m: DEBUG\n",
      "    \u001b[94mgraph\u001b[39;49;00m:\n",
      "      \u001b[94mchildren\u001b[39;49;00m: []\n",
      "      \u001b[94mendpoint\u001b[39;49;00m:\n",
      "        \u001b[94mtype\u001b[39;49;00m: REST\n",
      "      \u001b[94mname\u001b[39;49;00m: my-model\n",
      "      \u001b[94mtype\u001b[39;49;00m: MODEL\n",
      "    \u001b[94mname\u001b[39;49;00m: example\n",
      "    \u001b[94mreplicas\u001b[39;49;00m: 1\n"
     ]
    }
   ],
   "source": [
    "!pygmentize example-01/model_rest.yaml"
   ]
  },
  {
   "cell_type": "code",
   "execution_count": 5,
   "metadata": {},
   "outputs": [
    {
     "name": "stdout",
     "output_type": "stream",
     "text": [
      "seldondeployment.machinelearning.seldon.io/seldon-model created\n",
      "Waiting for deployment \"seldon-model-example-0-my-model\" rollout to finish: 0 of 1 updated replicas are available...\n",
      "deployment \"seldon-model-example-0-my-model\" successfully rolled out\n"
     ]
    }
   ],
   "source": [
    "%%bash\n",
    "\n",
    "kubectl apply -f example-01/model_rest.yaml\n",
    "\n",
    "dep_name=$(kubectl get deploy -l seldon-deployment-id=seldon-model -o jsonpath='{.items[0].metadata.name}')\n",
    "kubectl rollout status deploy/${dep_name}"
   ]
  },
  {
   "cell_type": "code",
   "execution_count": 15,
   "metadata": {},
   "outputs": [
    {
     "name": "stdout",
     "output_type": "stream",
     "text": [
      "\u001b[1;39m{\n",
      "  \u001b[0m\u001b[34;1m\"inputs\"\u001b[0m\u001b[1;39m: \u001b[0m\u001b[1;39m[\n",
      "    \u001b[1;39m{\n",
      "      \u001b[0m\u001b[34;1m\"datatype\"\u001b[0m\u001b[1;39m: \u001b[0m\u001b[0;32m\"BYTES\"\u001b[0m\u001b[1;39m,\n",
      "      \u001b[0m\u001b[34;1m\"name\"\u001b[0m\u001b[1;39m: \u001b[0m\u001b[0;32m\"input\"\u001b[0m\u001b[1;39m,\n",
      "      \u001b[0m\u001b[34;1m\"shape\"\u001b[0m\u001b[1;39m: \u001b[0m\u001b[1;39m[\n",
      "        \u001b[0;39m1\u001b[0m\u001b[1;39m\n",
      "      \u001b[1;39m]\u001b[0m\u001b[1;39m\n",
      "    \u001b[1;39m}\u001b[0m\u001b[1;39m\n",
      "  \u001b[1;39m]\u001b[0m\u001b[1;39m,\n",
      "  \u001b[0m\u001b[34;1m\"name\"\u001b[0m\u001b[1;39m: \u001b[0m\u001b[0;32m\"my-model-name\"\u001b[0m\u001b[1;39m,\n",
      "  \u001b[0m\u001b[34;1m\"outputs\"\u001b[0m\u001b[1;39m: \u001b[0m\u001b[1;39m[\n",
      "    \u001b[1;39m{\n",
      "      \u001b[0m\u001b[34;1m\"datatype\"\u001b[0m\u001b[1;39m: \u001b[0m\u001b[0;32m\"BYTES\"\u001b[0m\u001b[1;39m,\n",
      "      \u001b[0m\u001b[34;1m\"name\"\u001b[0m\u001b[1;39m: \u001b[0m\u001b[0;32m\"output\"\u001b[0m\u001b[1;39m,\n",
      "      \u001b[0m\u001b[34;1m\"shape\"\u001b[0m\u001b[1;39m: \u001b[0m\u001b[1;39m[\n",
      "        \u001b[0;39m1\u001b[0m\u001b[1;39m\n",
      "      \u001b[1;39m]\u001b[0m\u001b[1;39m\n",
      "    \u001b[1;39m}\u001b[0m\u001b[1;39m\n",
      "  \u001b[1;39m]\u001b[0m\u001b[1;39m,\n",
      "  \u001b[0m\u001b[34;1m\"platform\"\u001b[0m\u001b[1;39m: \u001b[0m\u001b[0;32m\"seldon-custom\"\u001b[0m\u001b[1;39m,\n",
      "  \u001b[0m\u001b[34;1m\"versions\"\u001b[0m\u001b[1;39m: \u001b[0m\u001b[1;39m[\n",
      "    \u001b[0;32m\"my-model-version-01\"\u001b[0m\u001b[1;39m\n",
      "  \u001b[1;39m]\u001b[0m\u001b[1;39m\n",
      "\u001b[1;39m}\u001b[0m\n"
     ]
    }
   ],
   "source": [
    "!curl -s http://localhost:8003/seldon/seldon/seldon-model/api/v1.0/metadata/my-model | jq ."
   ]
  },
  {
   "cell_type": "code",
   "execution_count": 18,
   "metadata": {},
   "outputs": [],
   "source": [
    "import json\n",
    "\n",
    "meta = !curl -s http://localhost:8003/seldon/seldon/seldon-model/api/v1.0/metadata/my-model \n",
    "meta = json.loads(meta[0])\n",
    "\n",
    "assert meta == {\n",
    "    \"inputs\": [{\"datatype\": \"BYTES\", \"name\": \"input\", \"shape\": [1]}],\n",
    "    \"name\": \"my-model-name\",\n",
    "    \"outputs\": [{\"datatype\": \"BYTES\", \"name\": \"output\", \"shape\": [1]}],\n",
    "    \"platform\": \"seldon-custom\",\n",
    "    \"versions\": [\"my-model-version-01\"],\n",
    "}\n"
   ]
  },
  {
   "cell_type": "code",
   "execution_count": 19,
   "metadata": {},
   "outputs": [
    {
     "name": "stdout",
     "output_type": "stream",
     "text": [
      "seldondeployment.machinelearning.seldon.io \"seldon-model\" deleted\n"
     ]
    }
   ],
   "source": [
    "!kubectl delete -f example-01/model_rest.yaml"
   ]
  },
  {
   "cell_type": "markdown",
   "metadata": {},
   "source": [
    "# 2. Via environmental variable"
   ]
  },
  {
   "cell_type": "code",
   "execution_count": 20,
   "metadata": {},
   "outputs": [
    {
     "name": "stdout",
     "output_type": "stream",
     "text": [
      "\u001b[34mimport\u001b[39;49;00m \u001b[04m\u001b[36mlogging\u001b[39;49;00m\n",
      "\u001b[34mimport\u001b[39;49;00m \u001b[04m\u001b[36mjson\u001b[39;49;00m\n",
      "\u001b[34mimport\u001b[39;49;00m \u001b[04m\u001b[36mos\u001b[39;49;00m\n",
      "\n",
      "\n",
      "\u001b[34mclass\u001b[39;49;00m \u001b[04m\u001b[32mModel\u001b[39;49;00m:\n",
      "    \u001b[34mdef\u001b[39;49;00m \u001b[32mpredict\u001b[39;49;00m(\u001b[36mself\u001b[39;49;00m, features, names=[], meta=[]):\n",
      "        logging.info(\u001b[33mf\u001b[39;49;00m\u001b[33m\"\u001b[39;49;00m\u001b[33mmodel features: \u001b[39;49;00m\u001b[33m{features}\u001b[39;49;00m\u001b[33m\"\u001b[39;49;00m)\n",
      "        logging.info(\u001b[33mf\u001b[39;49;00m\u001b[33m\"\u001b[39;49;00m\u001b[33mmodel names: \u001b[39;49;00m\u001b[33m{names}\u001b[39;49;00m\u001b[33m\"\u001b[39;49;00m)\n",
      "        logging.info(\u001b[33mf\u001b[39;49;00m\u001b[33m\"\u001b[39;49;00m\u001b[33mmodel meta: \u001b[39;49;00m\u001b[33m{meta}\u001b[39;49;00m\u001b[33m\"\u001b[39;49;00m)\n",
      "        \u001b[34mreturn\u001b[39;49;00m features.tolist()\n"
     ]
    }
   ],
   "source": [
    "!pygmentize example-02/Model.py"
   ]
  },
  {
   "cell_type": "code",
   "execution_count": 21,
   "metadata": {},
   "outputs": [
    {
     "name": "stdout",
     "output_type": "stream",
     "text": [
      "\u001b[94mapiVersion\u001b[39;49;00m: machinelearning.seldon.io/v1\n",
      "\u001b[94mkind\u001b[39;49;00m: SeldonDeployment\n",
      "\u001b[94mmetadata\u001b[39;49;00m:\n",
      "  \u001b[94mname\u001b[39;49;00m: seldon-model\n",
      "\u001b[94mspec\u001b[39;49;00m:\n",
      "  \u001b[94mname\u001b[39;49;00m: test-deployment\n",
      "  \u001b[94mpredictors\u001b[39;49;00m:\n",
      "  - \u001b[94mcomponentSpecs\u001b[39;49;00m:\n",
      "    - \u001b[94mspec\u001b[39;49;00m:\n",
      "        \u001b[94mcontainers\u001b[39;49;00m:\n",
      "        - \u001b[94mimage\u001b[39;49;00m: seldonio/model-with-metadata-02_rest:0.1\n",
      "          \u001b[94mname\u001b[39;49;00m: my-model\n",
      "          \u001b[94menv\u001b[39;49;00m:\n",
      "          - \u001b[94mname\u001b[39;49;00m: SELDON_LOG_LEVEL\n",
      "            \u001b[94mvalue\u001b[39;49;00m: DEBUG\n",
      "          - \u001b[94mname\u001b[39;49;00m: MODEL_METADATA\n",
      "            \u001b[94mvalue\u001b[39;49;00m: |\n",
      "              \u001b[31m{\"name\": \"my-model-name\",\u001b[39;49;00m\n",
      "               \u001b[31m\"versions\": [\"my-model-version-02\"],\u001b[39;49;00m\n",
      "               \u001b[31m\"platform\": \"seldon-custom\",\u001b[39;49;00m\n",
      "               \u001b[31m\"inputs\": [{\"name\": \"input\", \"datatype\": \"BYTES\", \"shape\": [1]}],\u001b[39;49;00m\n",
      "               \u001b[31m\"outputs\": [{\"name\": \"output\", \"datatype\": \"BYTES\", \"shape\": [1]}]}\u001b[39;49;00m\n",
      "    \u001b[94mgraph\u001b[39;49;00m:\n",
      "      \u001b[94mchildren\u001b[39;49;00m: []\n",
      "      \u001b[94mendpoint\u001b[39;49;00m:\n",
      "        \u001b[94mtype\u001b[39;49;00m: REST\n",
      "      \u001b[94mname\u001b[39;49;00m: my-model\n",
      "      \u001b[94mtype\u001b[39;49;00m: MODEL\n",
      "    \u001b[94mname\u001b[39;49;00m: example\n",
      "    \u001b[94mreplicas\u001b[39;49;00m: 1\n"
     ]
    }
   ],
   "source": [
    "!pygmentize example-02/model_rest.yaml"
   ]
  },
  {
   "cell_type": "code",
   "execution_count": 22,
   "metadata": {},
   "outputs": [
    {
     "name": "stdout",
     "output_type": "stream",
     "text": [
      "seldondeployment.machinelearning.seldon.io/seldon-model created\n",
      "Waiting for deployment \"seldon-model-example-0-my-model\" rollout to finish: 0 of 1 updated replicas are available...\n",
      "deployment \"seldon-model-example-0-my-model\" successfully rolled out\n"
     ]
    }
   ],
   "source": [
    "%%bash\n",
    "\n",
    "kubectl apply -f example-02/model_rest.yaml\n",
    "\n",
    "dep_name=$(kubectl get deploy -l seldon-deployment-id=seldon-model -o jsonpath='{.items[0].metadata.name}')\n",
    "kubectl rollout status deploy/${dep_name}"
   ]
  },
  {
   "cell_type": "code",
   "execution_count": 23,
   "metadata": {},
   "outputs": [],
   "source": [
    "!curl -s http://localhost:8003/seldon/seldon/seldon-model/api/v1.0/metadata/my-model | jq ."
   ]
  },
  {
   "cell_type": "code",
   "execution_count": 26,
   "metadata": {},
   "outputs": [],
   "source": [
    "import json\n",
    "\n",
    "meta = !curl -s http://localhost:8003/seldon/seldon/seldon-model/api/v1.0/metadata/my-model \n",
    "meta = json.loads(meta[0])\n",
    "\n",
    "assert meta == {\n",
    "    \"inputs\": [{\"datatype\": \"BYTES\", \"name\": \"input\", \"shape\": [1]}],\n",
    "    \"name\": \"my-model-name\",\n",
    "    \"outputs\": [{\"datatype\": \"BYTES\", \"name\": \"output\", \"shape\": [1]}],\n",
    "    \"platform\": \"seldon-custom\",\n",
    "    \"versions\": [\"my-model-version-02\"],\n",
    "}\n"
   ]
  },
  {
   "cell_type": "code",
   "execution_count": 27,
   "metadata": {},
   "outputs": [
    {
     "name": "stdout",
     "output_type": "stream",
     "text": [
      "seldondeployment.machinelearning.seldon.io \"seldon-model\" deleted\n"
     ]
    }
   ],
   "source": [
    "!kubectl delete -f example-02/model_rest.yaml"
   ]
  },
  {
   "cell_type": "markdown",
   "metadata": {},
   "source": [
    "# 3. Prepackaged model servers: SKLearn Server"
   ]
  },
  {
   "cell_type": "code",
   "execution_count": 28,
   "metadata": {},
   "outputs": [
    {
     "name": "stdout",
     "output_type": "stream",
     "text": [
      "\u001b[94mapiVersion\u001b[39;49;00m: machinelearning.seldon.io/v1\n",
      "\u001b[94mkind\u001b[39;49;00m: SeldonDeployment\n",
      "\u001b[94mmetadata\u001b[39;49;00m:\n",
      "  \u001b[94mname\u001b[39;49;00m: seldon-model\n",
      "\u001b[94mspec\u001b[39;49;00m:\n",
      "  \u001b[94mannotations\u001b[39;49;00m:\n",
      "    \u001b[94mseldon.io/executor\u001b[39;49;00m: \u001b[33m\"\u001b[39;49;00m\u001b[33mtrue\u001b[39;49;00m\u001b[33m\"\u001b[39;49;00m\n",
      "  \u001b[94mname\u001b[39;49;00m: iris\n",
      "  \u001b[94mpredictors\u001b[39;49;00m:\n",
      "  - \u001b[94mcomponentSpecs\u001b[39;49;00m:\n",
      "    - \u001b[94mspec\u001b[39;49;00m:\n",
      "        \u001b[94mcontainers\u001b[39;49;00m:\n",
      "        - \u001b[94mname\u001b[39;49;00m: my-model\n",
      "          \u001b[94menv\u001b[39;49;00m:\n",
      "          - \u001b[94mname\u001b[39;49;00m: SELDON_LOG_LEVEL\n",
      "            \u001b[94mvalue\u001b[39;49;00m: DEBUG\n",
      "          - \u001b[94mname\u001b[39;49;00m: MODEL_METADATA\n",
      "            \u001b[94mvalue\u001b[39;49;00m: |\n",
      "              \u001b[31m{\"name\": \"my-model-name\",\u001b[39;49;00m\n",
      "               \u001b[31m\"versions\": [\"my-sklearn-server\"],\u001b[39;49;00m\n",
      "               \u001b[31m\"platform\": \"seldon-custom\",\u001b[39;49;00m\n",
      "               \u001b[31m\"inputs\": [{\"name\": \"input\", \"datatype\": \"BYTES\", \"shape\": [4]}],\u001b[39;49;00m\n",
      "               \u001b[31m\"outputs\": [{\"name\": \"output\", \"datatype\": \"BYTES\", \"shape\": [3]}]}\u001b[39;49;00m\n",
      "    \u001b[94mgraph\u001b[39;49;00m:\n",
      "      \u001b[94mchildren\u001b[39;49;00m: []\n",
      "      \u001b[94mimplementation\u001b[39;49;00m: SKLEARN_SERVER\n",
      "      \u001b[94mmodelUri\u001b[39;49;00m: gs://seldon-models/sklearn/iris\n",
      "      \u001b[94mname\u001b[39;49;00m: my-model\n",
      "    \u001b[94mname\u001b[39;49;00m: example\n",
      "    \u001b[94mreplicas\u001b[39;49;00m: 1\n"
     ]
    }
   ],
   "source": [
    "!pygmentize sklearn.yaml"
   ]
  },
  {
   "cell_type": "code",
   "execution_count": 29,
   "metadata": {},
   "outputs": [
    {
     "name": "stdout",
     "output_type": "stream",
     "text": [
      "seldondeployment.machinelearning.seldon.io/seldon-model created\n",
      "Waiting for deployment \"seldon-model-example-0-my-model\" rollout to finish: 0 of 1 updated replicas are available...\n",
      "deployment \"seldon-model-example-0-my-model\" successfully rolled out\n"
     ]
    }
   ],
   "source": [
    "%%bash\n",
    "\n",
    "kubectl apply -f sklearn.yaml\n",
    "\n",
    "dep_name=$(kubectl get deploy -l seldon-deployment-id=seldon-model -o jsonpath='{.items[0].metadata.name}')\n",
    "kubectl rollout status deploy/${dep_name}"
   ]
  },
  {
   "cell_type": "code",
   "execution_count": 31,
   "metadata": {},
   "outputs": [
    {
     "name": "stdout",
     "output_type": "stream",
     "text": [
      "\u001b[1;39m{\n",
      "  \u001b[0m\u001b[34;1m\"inputs\"\u001b[0m\u001b[1;39m: \u001b[0m\u001b[1;39m[\n",
      "    \u001b[1;39m{\n",
      "      \u001b[0m\u001b[34;1m\"datatype\"\u001b[0m\u001b[1;39m: \u001b[0m\u001b[0;32m\"BYTES\"\u001b[0m\u001b[1;39m,\n",
      "      \u001b[0m\u001b[34;1m\"name\"\u001b[0m\u001b[1;39m: \u001b[0m\u001b[0;32m\"input\"\u001b[0m\u001b[1;39m,\n",
      "      \u001b[0m\u001b[34;1m\"shape\"\u001b[0m\u001b[1;39m: \u001b[0m\u001b[1;39m[\n",
      "        \u001b[0;39m4\u001b[0m\u001b[1;39m\n",
      "      \u001b[1;39m]\u001b[0m\u001b[1;39m\n",
      "    \u001b[1;39m}\u001b[0m\u001b[1;39m\n",
      "  \u001b[1;39m]\u001b[0m\u001b[1;39m,\n",
      "  \u001b[0m\u001b[34;1m\"name\"\u001b[0m\u001b[1;39m: \u001b[0m\u001b[0;32m\"my-model-name\"\u001b[0m\u001b[1;39m,\n",
      "  \u001b[0m\u001b[34;1m\"outputs\"\u001b[0m\u001b[1;39m: \u001b[0m\u001b[1;39m[\n",
      "    \u001b[1;39m{\n",
      "      \u001b[0m\u001b[34;1m\"datatype\"\u001b[0m\u001b[1;39m: \u001b[0m\u001b[0;32m\"BYTES\"\u001b[0m\u001b[1;39m,\n",
      "      \u001b[0m\u001b[34;1m\"name\"\u001b[0m\u001b[1;39m: \u001b[0m\u001b[0;32m\"output\"\u001b[0m\u001b[1;39m,\n",
      "      \u001b[0m\u001b[34;1m\"shape\"\u001b[0m\u001b[1;39m: \u001b[0m\u001b[1;39m[\n",
      "        \u001b[0;39m3\u001b[0m\u001b[1;39m\n",
      "      \u001b[1;39m]\u001b[0m\u001b[1;39m\n",
      "    \u001b[1;39m}\u001b[0m\u001b[1;39m\n",
      "  \u001b[1;39m]\u001b[0m\u001b[1;39m,\n",
      "  \u001b[0m\u001b[34;1m\"platform\"\u001b[0m\u001b[1;39m: \u001b[0m\u001b[0;32m\"seldon-custom\"\u001b[0m\u001b[1;39m,\n",
      "  \u001b[0m\u001b[34;1m\"versions\"\u001b[0m\u001b[1;39m: \u001b[0m\u001b[1;39m[\n",
      "    \u001b[0;32m\"my-sklearn-server\"\u001b[0m\u001b[1;39m\n",
      "  \u001b[1;39m]\u001b[0m\u001b[1;39m\n",
      "\u001b[1;39m}\u001b[0m\n"
     ]
    }
   ],
   "source": [
    "!curl -s http://localhost:8003/seldon/seldon/seldon-model/api/v1.0/metadata/my-model | jq ."
   ]
  },
  {
   "cell_type": "code",
   "execution_count": 32,
   "metadata": {},
   "outputs": [],
   "source": [
    "import json\n",
    "\n",
    "meta = !curl -s http://localhost:8003/seldon/seldon/seldon-model/api/v1.0/metadata/my-model \n",
    "meta = json.loads(meta[0])\n",
    "\n",
    "assert meta == {\n",
    "    \"inputs\": [{\"datatype\": \"BYTES\", \"name\": \"input\", \"shape\": [4]}],\n",
    "    \"name\": \"my-model-name\",\n",
    "    \"outputs\": [{\"datatype\": \"BYTES\", \"name\": \"output\", \"shape\": [3]}],\n",
    "    \"platform\": \"seldon-custom\",\n",
    "    \"versions\": [\"my-sklearn-server\"],\n",
    "}\n"
   ]
  },
  {
   "cell_type": "code",
   "execution_count": 33,
   "metadata": {},
   "outputs": [
    {
     "name": "stdout",
     "output_type": "stream",
     "text": [
      "seldondeployment.machinelearning.seldon.io \"seldon-model\" deleted\n"
     ]
    }
   ],
   "source": [
    "!kubectl delete -f sklearn.yaml"
   ]
  }
 ],
 "metadata": {
  "kernelspec": {
   "display_name": "Python 3",
   "language": "python",
   "name": "python3"
  },
  "language_info": {
   "codemirror_mode": {
    "name": "ipython",
    "version": 3
   },
   "file_extension": ".py",
   "mimetype": "text/x-python",
   "name": "python",
   "nbconvert_exporter": "python",
   "pygments_lexer": "ipython3",
   "version": "3.7.6"
  }
 },
 "nbformat": 4,
 "nbformat_minor": 4
}
