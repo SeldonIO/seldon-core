{
 "cells": [
  {
   "cell_type": "markdown",
   "metadata": {},
   "source": [
    "# overview of valid metadata formats"
   ]
  },
  {
   "cell_type": "code",
   "execution_count": 1,
   "metadata": {},
   "outputs": [],
   "source": [
    "from seldon_core.metadata import validate_model_metadata\n",
    "import yaml"
   ]
  },
  {
   "cell_type": "markdown",
   "metadata": {},
   "source": [
    "# Examples of inputs (in yaml format)"
   ]
  },
  {
   "cell_type": "markdown",
   "metadata": {},
   "source": [
    "## kfserving Schema"
   ]
  },
  {
   "cell_type": "code",
   "execution_count": 2,
   "metadata": {},
   "outputs": [
    {
     "data": {
      "text/plain": [
       "{'name': 'my-model-name',\n",
       " 'versions': ['my-model-version-01'],\n",
       " 'platform': 'seldon',\n",
       " 'inputs': [{'datatype': 'BYTES', 'name': 'input', 'shape': [1, 4]}],\n",
       " 'outputs': [{'datatype': 'BYTES', 'name': 'output', 'shape': [3]}]}"
      ]
     },
     "execution_count": 2,
     "metadata": {},
     "output_type": "execute_result"
    }
   ],
   "source": [
    "data = \"\"\"\n",
    "name: my-model-name\n",
    "versions: [ my-model-version-01 ]\n",
    "platform: seldon\n",
    "inputs:\n",
    "- datatype: BYTES\n",
    "  name: input\n",
    "  shape: [ 1, 4 ]\n",
    "outputs:\n",
    "- datatype: BYTES\n",
    "  name: output\n",
    "  shape: [ 3 ]\n",
    "\"\"\"\n",
    "\n",
    "validate_model_metadata(yaml.safe_load(data))"
   ]
  },
  {
   "cell_type": "markdown",
   "metadata": {},
   "source": [
    "## Seldon Schema"
   ]
  },
  {
   "cell_type": "markdown",
   "metadata": {},
   "source": [
    "### array\n",
    "\n",
    "payload examples:\n",
    "- `{\"data\": {\"names\": [\"a\", \"b\", \"c\", \"d\"], \"ndarray\": [[1, 2], [3, 4]]}}`\n",
    "- `{\"data\": {\"names\": [\"a\", \"b\", \"c\", \"d\"], \"tensor\": {\"values\": [1, 2, 3, 4], \"shape\": [2, 2]}}`"
   ]
  },
  {
   "cell_type": "code",
   "execution_count": 3,
   "metadata": {},
   "outputs": [
    {
     "data": {
      "text/plain": [
       "{'name': 'my-model-name',\n",
       " 'versions': ['my-model-version-01'],\n",
       " 'platform': 'seldon',\n",
       " 'inputs': [{'messagetype': 'array',\n",
       "   'names': ['a', 'b', 'c', 'd'],\n",
       "   'shape': [2, 2]}],\n",
       " 'outputs': [{'messagetype': 'array', 'shape': [1]}]}"
      ]
     },
     "execution_count": 3,
     "metadata": {},
     "output_type": "execute_result"
    }
   ],
   "source": [
    "data = \"\"\"\n",
    "name: my-model-name\n",
    "versions: [ my-model-version-01 ]\n",
    "platform: seldon\n",
    "inputs:\n",
    "- messagetype: array\n",
    "  names: [a, b, c, d]\n",
    "  shape: [ 2, 2 ]\n",
    "outputs:\n",
    "- messagetype: array\n",
    "  shape: [ 1 ]\n",
    "\"\"\"\n",
    "\n",
    "validate_model_metadata(yaml.safe_load(data))"
   ]
  },
  {
   "cell_type": "markdown",
   "metadata": {},
   "source": [
    "### json data\n",
    "\n",
    "payload example: `{\"jsonData\": {\"my-custom-field\": \"my-custom-data\"}}`\n"
   ]
  },
  {
   "cell_type": "code",
   "execution_count": 7,
   "metadata": {},
   "outputs": [
    {
     "data": {
      "text/plain": [
       "{'name': 'my-model-name',\n",
       " 'versions': ['my-model-version-01'],\n",
       " 'platform': 'seldon',\n",
       " 'inputs': [{'messagetype': 'jsonData'}],\n",
       " 'outputs': [{'messagetype': 'array', 'shape': [1]}]}"
      ]
     },
     "execution_count": 7,
     "metadata": {},
     "output_type": "execute_result"
    }
   ],
   "source": [
    "data = \"\"\"\n",
    "name: my-model-name\n",
    "versions: [ my-model-version-01 ]\n",
    "platform: seldon\n",
    "inputs:\n",
    "- messagetype: jsonData\n",
    "outputs:\n",
    "- messagetype: array\n",
    "  shape: [ 1 ]\n",
    "\"\"\"\n",
    "\n",
    "validate_model_metadata(yaml.safe_load(data))"
   ]
  },
  {
   "cell_type": "markdown",
   "metadata": {},
   "source": [
    "### json data with user's schema\n",
    "\n",
    "payload example: `{\"jsonData\": {\"names\": [\"a\", \"b\"], \"data\": [1, 2]}}`"
   ]
  },
  {
   "cell_type": "code",
   "execution_count": 9,
   "metadata": {},
   "outputs": [
    {
     "data": {
      "text/plain": [
       "{'name': 'my-model-name',\n",
       " 'versions': ['my-model-version-01'],\n",
       " 'platform': 'seldon',\n",
       " 'inputs': [{'messagetype': 'jsonData',\n",
       "   'schema': {'type': 'object',\n",
       "    'properties': {'names': {'type': 'array', 'items': {'type': 'string'}},\n",
       "     'data': {'type': 'array',\n",
       "      'items': {'type': 'number', 'format': 'double'}}}}}],\n",
       " 'outputs': [{'messagetype': 'array', 'shape': [1]}]}"
      ]
     },
     "execution_count": 9,
     "metadata": {},
     "output_type": "execute_result"
    }
   ],
   "source": [
    "data = \"\"\"\n",
    "name: my-model-name\n",
    "versions: [ my-model-version-01 ]\n",
    "platform: seldon\n",
    "inputs:\n",
    "- messagetype: jsonData\n",
    "  schema:\n",
    "      type: object\n",
    "      properties:\n",
    "          names:\n",
    "              type: array\n",
    "              items:\n",
    "                  type: string\n",
    "          data:\n",
    "            type: array\n",
    "            items:\n",
    "                type: number\n",
    "                format: double\n",
    "outputs:\n",
    "- messagetype: array\n",
    "  shape: [ 1 ]\n",
    "\"\"\"\n",
    "\n",
    "validate_model_metadata(yaml.safe_load(data))"
   ]
  },
  {
   "cell_type": "markdown",
   "metadata": {},
   "source": [
    "### str data\n",
    "payload example: `{\"strData\": \"some test input\"}`"
   ]
  },
  {
   "cell_type": "code",
   "execution_count": 10,
   "metadata": {},
   "outputs": [
    {
     "data": {
      "text/plain": [
       "{'name': 'my-model-name',\n",
       " 'versions': ['my-model-version-01'],\n",
       " 'platform': 'seldon',\n",
       " 'inputs': [{'messagetype': 'strData'}],\n",
       " 'outputs': [{'messagetype': 'array', 'shape': [1]}]}"
      ]
     },
     "execution_count": 10,
     "metadata": {},
     "output_type": "execute_result"
    }
   ],
   "source": [
    "data = \"\"\"\n",
    "name: my-model-name\n",
    "versions: [ my-model-version-01 ]\n",
    "platform: seldon\n",
    "inputs:\n",
    "- messagetype: strData\n",
    "outputs:\n",
    "- messagetype: array\n",
    "  shape: [ 1 ]\n",
    "\"\"\"\n",
    "\n",
    "validate_model_metadata(yaml.safe_load(data))"
   ]
  }
 ],
 "metadata": {
  "kernelspec": {
   "display_name": "Python 3",
   "language": "python",
   "name": "python3"
  },
  "language_info": {
   "codemirror_mode": {
    "name": "ipython",
    "version": 3
   },
   "file_extension": ".py",
   "mimetype": "text/x-python",
   "name": "python",
   "nbconvert_exporter": "python",
   "pygments_lexer": "ipython3",
   "version": "3.7.6"
  }
 },
 "nbformat": 4,
 "nbformat_minor": 4
}
