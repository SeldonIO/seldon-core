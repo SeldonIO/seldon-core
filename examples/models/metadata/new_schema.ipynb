{
 "cells": [
  {
   "cell_type": "markdown",
   "metadata": {},
   "source": [
    "# V1 and V2 metadata formats"
   ]
  },
  {
   "cell_type": "markdown",
   "metadata": {},
   "source": [
    "Introducing a \"new\" v1 schema that extends v2 to cover Seldon Message (time machine).\n",
    "\n",
    "P.S. This notebook is just playground showcasing different metadata options."
   ]
  },
  {
   "cell_type": "code",
   "execution_count": 1,
   "metadata": {},
   "outputs": [],
   "source": [
    "from seldon_core.metadata import validate_model_metadata\n",
    "import yaml"
   ]
  },
  {
   "cell_type": "markdown",
   "metadata": {},
   "source": [
    "# Examples of inputs (in yaml format)"
   ]
  },
  {
   "cell_type": "markdown",
   "metadata": {},
   "source": [
    "## Proper V2 Schema"
   ]
  },
  {
   "cell_type": "code",
   "execution_count": 2,
   "metadata": {},
   "outputs": [
    {
     "data": {
      "text/plain": [
       "{'apiVersion': 'v2',\n",
       " 'name': 'my-model-name',\n",
       " 'versions': ['my-model-version-01'],\n",
       " 'platform': 'seldon',\n",
       " 'inputs': [{'datatype': 'BYTES', 'name': 'input', 'shape': [1, 4]}],\n",
       " 'outputs': [{'datatype': 'BYTES', 'name': 'output', 'shape': [3]}]}"
      ]
     },
     "execution_count": 2,
     "metadata": {},
     "output_type": "execute_result"
    }
   ],
   "source": [
    "data = \"\"\"\n",
    "apiVersion: v2\n",
    "name: my-model-name\n",
    "versions: [ my-model-version-01 ]\n",
    "platform: seldon\n",
    "inputs:\n",
    "- datatype: BYTES\n",
    "  name: input\n",
    "  shape: [ 1, 4 ]\n",
    "outputs:\n",
    "- datatype: BYTES\n",
    "  name: output\n",
    "  shape: [ 3 ]\n",
    "\"\"\"\n",
    "\n",
    "validate_model_metadata(yaml.safe_load(data))"
   ]
  },
  {
   "cell_type": "markdown",
   "metadata": {},
   "source": [
    "## Seldon V1 Schema"
   ]
  },
  {
   "cell_type": "markdown",
   "metadata": {},
   "source": [
    "### array\n",
    "\n",
    "payload examples:\n",
    "- `{\"data\": {\"names\": [\"input\"], \"ndarray\": [[1, 2], [3, 4]]}}`\n",
    "- `{\"data\": {\"names\": [\"input\"], \"tensor\": {\"values\": [1, 2, 3, 4], \"shape\": [2, 2]}}`"
   ]
  },
  {
   "cell_type": "code",
   "execution_count": 3,
   "metadata": {},
   "outputs": [
    {
     "data": {
      "text/plain": [
       "{'apiVersion': 'v1',\n",
       " 'name': 'my-model-name',\n",
       " 'versions': ['my-model-version-01'],\n",
       " 'platform': 'seldon',\n",
       " 'inputs': {'datatype': 'array', 'shape': [2, 2]},\n",
       " 'outputs': {'datatype': 'array', 'shape': [1]}}"
      ]
     },
     "execution_count": 3,
     "metadata": {},
     "output_type": "execute_result"
    }
   ],
   "source": [
    "data = \"\"\"\n",
    "apiVersion: v1\n",
    "name: my-model-name\n",
    "versions: [ my-model-version-01 ]\n",
    "platform: seldon\n",
    "inputs:\n",
    "  datatype: array\n",
    "  shape: [ 2, 2 ]\n",
    "outputs:\n",
    "  datatype: array\n",
    "  shape: [ 1 ]\n",
    "\"\"\"\n",
    "\n",
    "validate_model_metadata(yaml.safe_load(data))"
   ]
  },
  {
   "cell_type": "markdown",
   "metadata": {},
   "source": [
    "### json data\n",
    "\n",
    "payload example: `{\"jsonData\": {\"my-custom-field\": \"my-custom-data\"}}`\n"
   ]
  },
  {
   "cell_type": "code",
   "execution_count": 4,
   "metadata": {},
   "outputs": [
    {
     "data": {
      "text/plain": [
       "{'apiVersion': 'v1',\n",
       " 'name': 'my-model-name',\n",
       " 'versions': ['my-model-version-01'],\n",
       " 'platform': 'seldon',\n",
       " 'inputs': {'datatype': 'jsonData'},\n",
       " 'outputs': {'datatype': 'array', 'shape': [1]}}"
      ]
     },
     "execution_count": 4,
     "metadata": {},
     "output_type": "execute_result"
    }
   ],
   "source": [
    "data = \"\"\"\n",
    "apiVersion: v1\n",
    "name: my-model-name\n",
    "versions: [ my-model-version-01 ]\n",
    "platform: seldon\n",
    "inputs:\n",
    "  datatype: jsonData\n",
    "outputs:\n",
    "  datatype: array\n",
    "  shape: [ 1 ]\n",
    "\"\"\"\n",
    "\n",
    "validate_model_metadata(yaml.safe_load(data))"
   ]
  },
  {
   "cell_type": "markdown",
   "metadata": {},
   "source": [
    "### json data with user's schema\n",
    "\n",
    "payload example: `{\"jsonData\": {\"names\": [\"a\", \"b\"], \"data\": [1, 2]}}`"
   ]
  },
  {
   "cell_type": "code",
   "execution_count": 5,
   "metadata": {},
   "outputs": [
    {
     "data": {
      "text/plain": [
       "{'apiVersion': 'v1',\n",
       " 'name': 'my-model-name',\n",
       " 'versions': ['my-model-version-01'],\n",
       " 'platform': 'seldon',\n",
       " 'inputs': {'datatype': 'jsonData',\n",
       "  'schema': {'type': 'object',\n",
       "   'properties': {'names': {'type': 'array', 'items': {'type': 'string'}},\n",
       "    'data': {'type': 'array',\n",
       "     'items': {'type': 'number', 'format': 'double'}}}}},\n",
       " 'outputs': {'datatype': 'array', 'shape': [1]}}"
      ]
     },
     "execution_count": 5,
     "metadata": {},
     "output_type": "execute_result"
    }
   ],
   "source": [
    "data = \"\"\"\n",
    "apiVersion: v1\n",
    "name: my-model-name\n",
    "versions: [ my-model-version-01 ]\n",
    "platform: seldon\n",
    "inputs:\n",
    "  datatype: jsonData\n",
    "  schema:\n",
    "      type: object\n",
    "      properties:\n",
    "          names:\n",
    "              type: array\n",
    "              items:\n",
    "                  type: string\n",
    "          data:\n",
    "            type: array\n",
    "            items:\n",
    "                type: number\n",
    "                format: double\n",
    "outputs:\n",
    "  datatype: array\n",
    "  shape: [ 1 ]\n",
    "\"\"\"\n",
    "\n",
    "validate_model_metadata(yaml.safe_load(data))"
   ]
  },
  {
   "cell_type": "markdown",
   "metadata": {},
   "source": [
    "### str data\n",
    "payload example: `{\"strData\": \"some test input\"}`"
   ]
  },
  {
   "cell_type": "code",
   "execution_count": 6,
   "metadata": {},
   "outputs": [
    {
     "data": {
      "text/plain": [
       "{'apiVersion': 'v1',\n",
       " 'name': 'my-model-name',\n",
       " 'versions': ['my-model-version-01'],\n",
       " 'platform': 'seldon',\n",
       " 'inputs': {'datatype': 'strData'},\n",
       " 'outputs': {'datatype': 'array', 'shape': [1]}}"
      ]
     },
     "execution_count": 6,
     "metadata": {},
     "output_type": "execute_result"
    }
   ],
   "source": [
    "data = \"\"\"\n",
    "apiVersion: v1\n",
    "name: my-model-name\n",
    "versions: [ my-model-version-01 ]\n",
    "platform: seldon\n",
    "inputs:\n",
    "  datatype: strData\n",
    "outputs:\n",
    "  datatype: array\n",
    "  shape: [ 1 ]\n",
    "\"\"\"\n",
    "\n",
    "validate_model_metadata(yaml.safe_load(data))"
   ]
  }
 ],
 "metadata": {
  "kernelspec": {
   "display_name": "Python 3",
   "language": "python",
   "name": "python3"
  },
  "language_info": {
   "codemirror_mode": {
    "name": "ipython",
    "version": 3
   },
   "file_extension": ".py",
   "mimetype": "text/x-python",
   "name": "python",
   "nbconvert_exporter": "python",
   "pygments_lexer": "ipython3",
   "version": "3.7.6"
  }
 },
 "nbformat": 4,
 "nbformat_minor": 4
}
