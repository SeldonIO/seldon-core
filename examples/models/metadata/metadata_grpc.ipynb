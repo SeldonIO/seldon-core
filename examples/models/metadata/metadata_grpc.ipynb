{
 "cells": [
  {
   "cell_type": "markdown",
   "metadata": {},
   "source": [
    "# Metadata GRPC API example\n",
    "\n",
    "## Prerequisites\n",
    "\n",
    " * A kubernetes cluster with kubectl configured\n",
    " * curl\n",
    " * grpcurl\n",
    " * pygmentize\n",
    " \n",
    "\n",
    "## Setup Seldon Core\n",
    "\n",
    "Use the setup notebook to [Setup Cluster](seldon_core_setup.ipynb) to setup Seldon Core with an ingress."
   ]
  },
  {
   "cell_type": "code",
   "execution_count": 1,
   "metadata": {},
   "outputs": [
    {
     "name": "stdout",
     "output_type": "stream",
     "text": [
      "Error from server (AlreadyExists): namespaces \"seldon\" already exists\n"
     ]
    }
   ],
   "source": [
    "!kubectl create namespace seldon"
   ]
  },
  {
   "cell_type": "code",
   "execution_count": 2,
   "metadata": {},
   "outputs": [
    {
     "name": "stdout",
     "output_type": "stream",
     "text": [
      "Context \"kind-kind\" modified.\n"
     ]
    }
   ],
   "source": [
    "!kubectl config set-context $(kubectl config current-context) --namespace=seldon"
   ]
  },
  {
   "cell_type": "markdown",
   "metadata": {},
   "source": [
    "# Example description\n",
    "\n",
    "Simple, two-node graph that shows how Metadata is handled in GRPC API mode.\n",
    "\n",
    "Model used in this example is defined in [graph_metadata](graph_metadata.ipynb) notebook ([online](./graph-metadata.html)).\n"
   ]
  },
  {
   "cell_type": "code",
   "execution_count": 3,
   "metadata": {},
   "outputs": [
    {
     "name": "stdout",
     "output_type": "stream",
     "text": [
      "Overwriting example-grpc.yaml\n"
     ]
    }
   ],
   "source": [
    "%%writefile example-grpc.yaml\n",
    "\n",
    "apiVersion: machinelearning.seldon.io/v1\n",
    "kind: SeldonDeployment\n",
    "metadata:\n",
    "  name: graph-metadata-grpc\n",
    "spec:\n",
    "  name: test-deployment\n",
    "  predictors:\n",
    "  - componentSpecs:\n",
    "    - spec:\n",
    "        containers:\n",
    "        - image: seldonio/metadata-generic-node_grpc:0.3\n",
    "          name: node-one\n",
    "          env:           \n",
    "          - name: MODEL_METADATA\n",
    "            value: |\n",
    "              ---\n",
    "              name: node-one\n",
    "              versions: [ generic-node/v0.3 ]\n",
    "              platform: seldon\n",
    "              inputs:\n",
    "              - messagetype: tensor\n",
    "                schema:\n",
    "                  names: [one-input]\n",
    "              outputs:\n",
    "              - messagetype: tensor\n",
    "                schema:\n",
    "                  names: [one-output]\n",
    "        - image: seldonio/metadata-generic-node_grpc:0.3\n",
    "          name: node-two\n",
    "          env:\n",
    "         \n",
    "          - name: MODEL_METADATA\n",
    "            value: |\n",
    "              ---\n",
    "              name: node-two\n",
    "              versions: [ generic-node/v0.3 ]\n",
    "              platform: seldon\n",
    "              inputs:\n",
    "              - messagetype: tensor\n",
    "                schema:\n",
    "                  names: [two-input]\n",
    "              outputs:\n",
    "              - messagetype: tensor\n",
    "                schema:\n",
    "                  names: [two-output]\n",
    "    graph:\n",
    "      name: node-one\n",
    "      type: MODEL\n",
    "      children:\n",
    "      - name: node-two\n",
    "        type: MODEL\n",
    "        children: []   \n",
    "    name: example\n",
    "    replicas: 1"
   ]
  },
  {
   "cell_type": "code",
   "execution_count": 4,
   "metadata": {},
   "outputs": [
    {
     "name": "stdout",
     "output_type": "stream",
     "text": [
      "seldondeployment.machinelearning.seldon.io/graph-metadata-grpc created\n"
     ]
    }
   ],
   "source": [
    "!kubectl apply -f  example-grpc.yaml"
   ]
  },
  {
   "cell_type": "code",
   "execution_count": 5,
   "metadata": {},
   "outputs": [
    {
     "name": "stdout",
     "output_type": "stream",
     "text": [
      "Waiting for deployment \"graph-metadata-grpc-example-0-node-one-node-two\" rollout to finish: 0 of 1 updated replicas are available...\n",
      "deployment \"graph-metadata-grpc-example-0-node-one-node-two\" successfully rolled out\n"
     ]
    }
   ],
   "source": [
    "!kubectl rollout status deploy/$(kubectl get deploy -l seldon-deployment-id=graph-metadata-grpc -o jsonpath='{.items[0].metadata.name}')"
   ]
  },
  {
   "cell_type": "code",
   "execution_count": 7,
   "metadata": {},
   "outputs": [
    {
     "name": "stdout",
     "output_type": "stream",
     "text": [
      "{\n",
      "  \"name\": \"node-one\",\n",
      "  \"versions\": [\n",
      "    \"generic-node/v0.3\"\n",
      "  ],\n",
      "  \"platform\": \"seldon\",\n",
      "  \"inputs\": [\n",
      "    {\n",
      "      \"messagetype\": \"tensor\",\n",
      "      \"schema\": {\n",
      "            \"names\": [\n",
      "                  \"one-input\"\n",
      "                ]\n",
      "          }\n",
      "    }\n",
      "  ],\n",
      "  \"outputs\": [\n",
      "    {\n",
      "      \"messagetype\": \"tensor\",\n",
      "      \"schema\": {\n",
      "            \"names\": [\n",
      "                  \"one-output\"\n",
      "                ]\n",
      "          }\n",
      "    }\n",
      "  ]\n",
      "}\n"
     ]
    }
   ],
   "source": [
    "%%bash\n",
    "cd ../../../executor/proto && grpcurl \\\n",
    "    -d '{\"name\": \"node-one\"}' \\\n",
    "    -rpc-header seldon:graph-metadata-grpc -rpc-header namespace:seldon \\\n",
    "    -plaintext -proto ./prediction.proto  0.0.0.0:8003 seldon.protos.Seldon/ModelMetadata"
   ]
  },
  {
   "cell_type": "code",
   "execution_count": 8,
   "metadata": {},
   "outputs": [
    {
     "name": "stdout",
     "output_type": "stream",
     "text": [
      "{\n",
      "  \"name\": \"node-two\",\n",
      "  \"versions\": [\n",
      "    \"generic-node/v0.3\"\n",
      "  ],\n",
      "  \"platform\": \"seldon\",\n",
      "  \"inputs\": [\n",
      "    {\n",
      "      \"messagetype\": \"tensor\",\n",
      "      \"schema\": {\n",
      "            \"names\": [\n",
      "                  \"two-input\"\n",
      "                ]\n",
      "          }\n",
      "    }\n",
      "  ],\n",
      "  \"outputs\": [\n",
      "    {\n",
      "      \"messagetype\": \"tensor\",\n",
      "      \"schema\": {\n",
      "            \"names\": [\n",
      "                  \"two-output\"\n",
      "                ]\n",
      "          }\n",
      "    }\n",
      "  ]\n",
      "}\n"
     ]
    }
   ],
   "source": [
    "%%bash\n",
    "cd ../../../executor/proto && grpcurl \\\n",
    "    -d '{\"name\": \"node-two\"}' \\\n",
    "    -rpc-header seldon:graph-metadata-grpc -rpc-header namespace:seldon \\\n",
    "    -plaintext -proto ./prediction.proto  0.0.0.0:8003 seldon.protos.Seldon/ModelMetadata"
   ]
  },
  {
   "cell_type": "code",
   "execution_count": 9,
   "metadata": {},
   "outputs": [
    {
     "name": "stdout",
     "output_type": "stream",
     "text": [
      "{\n",
      "  \"name\": \"example\",\n",
      "  \"models\": {\n",
      "    \"node-one\": {\n",
      "      \"name\": \"node-one\",\n",
      "      \"versions\": [\n",
      "        \"generic-node/v0.3\"\n",
      "      ],\n",
      "      \"platform\": \"seldon\",\n",
      "      \"inputs\": [\n",
      "        {\n",
      "          \"messagetype\": \"tensor\",\n",
      "          \"schema\": {\n",
      "                \"names\": [\n",
      "                      \"one-input\"\n",
      "                    ]\n",
      "              }\n",
      "        }\n",
      "      ],\n",
      "      \"outputs\": [\n",
      "        {\n",
      "          \"messagetype\": \"tensor\",\n",
      "          \"schema\": {\n",
      "                \"names\": [\n",
      "                      \"one-output\"\n",
      "                    ]\n",
      "              }\n",
      "        }\n",
      "      ]\n",
      "    },\n",
      "    \"node-two\": {\n",
      "      \"name\": \"node-two\",\n",
      "      \"versions\": [\n",
      "        \"generic-node/v0.3\"\n",
      "      ],\n",
      "      \"platform\": \"seldon\",\n",
      "      \"inputs\": [\n",
      "        {\n",
      "          \"messagetype\": \"tensor\",\n",
      "          \"schema\": {\n",
      "                \"names\": [\n",
      "                      \"two-input\"\n",
      "                    ]\n",
      "              }\n",
      "        }\n",
      "      ],\n",
      "      \"outputs\": [\n",
      "        {\n",
      "          \"messagetype\": \"tensor\",\n",
      "          \"schema\": {\n",
      "                \"names\": [\n",
      "                      \"two-output\"\n",
      "                    ]\n",
      "              }\n",
      "        }\n",
      "      ]\n",
      "    }\n",
      "  },\n",
      "  \"inputs\": [\n",
      "    {\n",
      "      \"messagetype\": \"tensor\",\n",
      "      \"schema\": {\n",
      "            \"names\": [\n",
      "                  \"one-input\"\n",
      "                ]\n",
      "          }\n",
      "    }\n",
      "  ],\n",
      "  \"outputs\": [\n",
      "    {\n",
      "      \"messagetype\": \"tensor\",\n",
      "      \"schema\": {\n",
      "            \"names\": [\n",
      "                  \"two-output\"\n",
      "                ]\n",
      "          }\n",
      "    }\n",
      "  ]\n",
      "}\n"
     ]
    }
   ],
   "source": [
    "%%bash\n",
    "cd ../../../executor/proto && grpcurl \\\n",
    "    -rpc-header seldon:graph-metadata-grpc -rpc-header namespace:seldon \\\n",
    "    -plaintext -proto ./prediction.proto  0.0.0.0:8003 seldon.protos.Seldon/GraphMetadata"
   ]
  },
  {
   "cell_type": "code",
   "execution_count": 10,
   "metadata": {},
   "outputs": [
    {
     "name": "stdout",
     "output_type": "stream",
     "text": [
      "seldondeployment.machinelearning.seldon.io \"graph-metadata-grpc\" deleted\n"
     ]
    }
   ],
   "source": [
    "!kubectl delete -f example-grpc.yaml"
   ]
  }
 ],
 "metadata": {
  "kernelspec": {
   "display_name": "Python 3",
   "language": "python",
   "name": "python3"
  },
  "language_info": {
   "codemirror_mode": {
    "name": "ipython",
    "version": 3
   },
   "file_extension": ".py",
   "mimetype": "text/x-python",
   "name": "python",
   "nbconvert_exporter": "python",
   "pygments_lexer": "ipython3",
   "version": "3.7.6"
  }
 },
 "nbformat": 4,
 "nbformat_minor": 4
}
