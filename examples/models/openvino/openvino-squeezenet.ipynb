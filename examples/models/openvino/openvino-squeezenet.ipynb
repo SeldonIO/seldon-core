{
 "cells": [
  {
   "cell_type": "markdown",
   "metadata": {},
   "source": [
    "# OpenVINO example with Squeezenet Model\n",
    "\n",
    "This notebook illustrates how you can serve [OpenVINO](https://software.intel.com/en-us/openvino-toolkit) optimized models for Imagenet with Seldon Core.\n",
    "\n",
    "![car](car.png)\n",
    "\n",
    "   \n",
    "To run all of the notebook successfully you will need to start it with\n",
    "```\n",
    "jupyter notebook --NotebookApp.iopub_data_rate_limit=100000000\n",
    "```"
   ]
  },
  {
   "cell_type": "markdown",
   "metadata": {},
   "source": [
    "## Setup Seldon Core\n",
    "\n",
    "Use the setup notebook to [Setup Cluster](../../../notebooks/seldon_core_setup.ipynb#Setup-Cluster) with [Ambassador Ingress](../../../notebooks/seldon_core_setup.ipynb#Ambassador) and [Install Seldon Core](../../seldon_core_setup.ipynb#Install-Seldon-Core). Instructions [also online](./seldon_core_setup.html)."
   ]
  },
  {
   "cell_type": "code",
   "execution_count": null,
   "metadata": {},
   "outputs": [],
   "source": [
    "!kubectl create namespace seldon"
   ]
  },
  {
   "cell_type": "code",
   "execution_count": null,
   "metadata": {},
   "outputs": [],
   "source": [
    "!kubectl config set-context $(kubectl config current-context) --namespace=seldon"
   ]
  },
  {
   "cell_type": "markdown",
   "metadata": {},
   "source": [
    "## Deploy Seldon Intel OpenVINO Graph"
   ]
  },
  {
   "cell_type": "code",
   "execution_count": null,
   "metadata": {},
   "outputs": [],
   "source": [
    "!helm install openvino-squeezenet ../../../helm-charts/seldon-openvino \\\n",
    "    --set openvino.model.src=gs://seldon-models/openvino/squeezenet \\\n",
    "    --set openvino.model.path=/opt/ml/squeezenet \\\n",
    "    --set openvino.model.name=squeezenet1.1 \\\n",
    "    --set openvino.model.input=data \\\n",
    "    --set openvino.model.output=prob "
   ]
  },
  {
   "cell_type": "code",
   "execution_count": null,
   "metadata": {
    "scrolled": false
   },
   "outputs": [],
   "source": [
    "!helm template openvino-squeezenet ../../../helm-charts/seldon-openvino \\\n",
    "    --set openvino.model.src=gs://seldon-models/openvino/squeezenet \\\n",
    "    --set openvino.model.path=/opt/ml/squeezenet \\\n",
    "    --set openvino.model.name=squeezenet1.1 \\\n",
    "    --set openvino.model.input=data \\\n",
    "    --set openvino.model.output=prob | pygmentize -l json"
   ]
  },
  {
   "cell_type": "code",
   "execution_count": null,
   "metadata": {},
   "outputs": [],
   "source": [
    "!kubectl rollout status deploy/$(kubectl get deploy -l seldon-deployment-id=openvino-model -o jsonpath='{.items[0].metadata.name}')"
   ]
  },
  {
   "cell_type": "markdown",
   "metadata": {},
   "source": [
    "## Test\n"
   ]
  },
  {
   "cell_type": "code",
   "execution_count": null,
   "metadata": {},
   "outputs": [],
   "source": [
    "%matplotlib inline\n",
    "import numpy as np\n",
    "from keras.applications.imagenet_utils import preprocess_input, decode_predictions\n",
    "from keras.preprocessing import image\n",
    "import sys\n",
    "import json\n",
    "import matplotlib.pyplot as plt\n",
    "from seldon_core.seldon_client import SeldonClient\n",
    "\n",
    "def getImage(path):\n",
    "    img = image.load_img(path, target_size=(227, 227))\n",
    "    x = image.img_to_array(img)\n",
    "    plt.imshow(x/255.)\n",
    "    x = np.expand_dims(x, axis=0)\n",
    "    x = preprocess_input(x)\n",
    "    return x\n",
    "\n",
    "X = getImage(\"car.png\")\n",
    "X = X.transpose((0,3,1,2))\n",
    "print(X.shape)\n",
    "\n",
    "sc = SeldonClient(deployment_name=\"openvino-model\",namespace=\"seldon\")\n",
    "\n",
    "response = sc.predict(gateway=\"ambassador\",transport=\"grpc\",data=X, client_return_type=\"proto\")\n",
    "\n",
    "result = response.response.data.tensor.values\n",
    "    \n",
    "result = np.array(result)\n",
    "result = result.reshape(1,1000)\n",
    "\n",
    "with open('imagenet_classes.json') as f:\n",
    "    cnames = eval(f.read())\n",
    "\n",
    "    for i in range(result.shape[0]):\n",
    "        single_result = result[[i],...]\n",
    "        ma = np.argmax(single_result)\n",
    "        print(\"\\t\",i, cnames[ma])\n",
    "        assert(cnames[ma]==\"sports car, sport car\")\n"
   ]
  },
  {
   "cell_type": "code",
   "execution_count": null,
   "metadata": {},
   "outputs": [],
   "source": [
    "!helm delete openvino-squeezenet"
   ]
  },
  {
   "cell_type": "code",
   "execution_count": null,
   "metadata": {},
   "outputs": [],
   "source": []
  }
 ],
 "metadata": {
  "kernelspec": {
   "display_name": "Python 3",
   "language": "python",
   "name": "python3"
  },
  "language_info": {
   "codemirror_mode": {
    "name": "ipython",
    "version": 3
   },
   "file_extension": ".py",
   "mimetype": "text/x-python",
   "name": "python",
   "nbconvert_exporter": "python",
   "pygments_lexer": "ipython3",
   "version": "3.6.8"
  }
 },
 "nbformat": 4,
 "nbformat_minor": 2
}
