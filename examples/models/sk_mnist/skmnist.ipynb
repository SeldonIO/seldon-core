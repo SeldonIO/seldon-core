{
 "cells": [
  {
   "cell_type": "markdown",
   "metadata": {},
   "source": [
    "# Scikit-learn MNIST Model Deployment\n",
    "\n",
    " * Wrap a Scikit-learn MNIST python model for use as a prediction microservice in seldon-core\n",
    "   * Run locally on Docker to test\n",
    "   * Deploy on seldon-core running on minikube\n",
    " \n",
    "## Dependencies\n",
    "\n",
    " * [Helm](https://github.com/kubernetes/helm)\n",
    " * [Minikube](https://github.com/kubernetes/minikube)\n",
    " * [S2I](https://github.com/openshift/source-to-image)\n",
    "\n",
    "```bash\n",
    "pip install sklearn\n",
    "pip install seldon-core\n",
    "```\n",
    "\n",
    "## Train locally\n",
    " "
   ]
  },
  {
   "cell_type": "code",
   "execution_count": 1,
   "metadata": {},
   "outputs": [
    {
     "name": "stdout",
     "output_type": "stream",
     "text": [
      "WARNING:tensorflow:From <ipython-input-1-2e859e898107>:8: read_data_sets (from tensorflow.contrib.learn.python.learn.datasets.mnist) is deprecated and will be removed in a future version.\n",
      "Instructions for updating:\n",
      "Please use alternatives such as official/mnist/dataset.py from tensorflow/models.\n",
      "WARNING:tensorflow:From /home/clive/anaconda3/lib/python3.6/site-packages/tensorflow/contrib/learn/python/learn/datasets/mnist.py:260: maybe_download (from tensorflow.contrib.learn.python.learn.datasets.base) is deprecated and will be removed in a future version.\n",
      "Instructions for updating:\n",
      "Please write your own downloading logic.\n",
      "WARNING:tensorflow:From /home/clive/anaconda3/lib/python3.6/site-packages/tensorflow/contrib/learn/python/learn/datasets/mnist.py:262: extract_images (from tensorflow.contrib.learn.python.learn.datasets.mnist) is deprecated and will be removed in a future version.\n",
      "Instructions for updating:\n",
      "Please use tf.data to implement this functionality.\n",
      "Extracting MNIST_data/train-images-idx3-ubyte.gz\n",
      "WARNING:tensorflow:From /home/clive/anaconda3/lib/python3.6/site-packages/tensorflow/contrib/learn/python/learn/datasets/mnist.py:267: extract_labels (from tensorflow.contrib.learn.python.learn.datasets.mnist) is deprecated and will be removed in a future version.\n",
      "Instructions for updating:\n",
      "Please use tf.data to implement this functionality.\n",
      "Extracting MNIST_data/train-labels-idx1-ubyte.gz\n",
      "Extracting MNIST_data/t10k-images-idx3-ubyte.gz\n",
      "Extracting MNIST_data/t10k-labels-idx1-ubyte.gz\n",
      "WARNING:tensorflow:From /home/clive/anaconda3/lib/python3.6/site-packages/tensorflow/contrib/learn/python/learn/datasets/mnist.py:290: DataSet.__init__ (from tensorflow.contrib.learn.python.learn.datasets.mnist) is deprecated and will be removed in a future version.\n",
      "Instructions for updating:\n",
      "Please use alternatives such as official/mnist/dataset.py from tensorflow/models.\n",
      "0.9536\n",
      "Classification report for classifier RandomForestClassifier(bootstrap=True, class_weight=None, criterion='gini',\n",
      "            max_depth=None, max_features='auto', max_leaf_nodes=None,\n",
      "            min_impurity_decrease=0.0, min_impurity_split=None,\n",
      "            min_samples_leaf=1, min_samples_split=2,\n",
      "            min_weight_fraction_leaf=0.0, n_estimators=30, n_jobs=None,\n",
      "            oob_score=False, random_state=None, verbose=0,\n",
      "            warm_start=False):\n",
      "              precision    recall  f1-score   support\n",
      "\n",
      "           0       0.97      0.98      0.98      2772\n",
      "           1       0.98      0.98      0.98      3070\n",
      "           2       0.94      0.95      0.95      2762\n",
      "           3       0.94      0.93      0.94      2809\n",
      "           4       0.95      0.96      0.95      2680\n",
      "           5       0.94      0.95      0.94      2416\n",
      "           6       0.97      0.98      0.97      2719\n",
      "           7       0.97      0.95      0.96      2855\n",
      "           8       0.94      0.92      0.93      2682\n",
      "           9       0.93      0.93      0.93      2735\n",
      "\n",
      "   micro avg       0.95      0.95      0.95     27500\n",
      "   macro avg       0.95      0.95      0.95     27500\n",
      "weighted avg       0.95      0.95      0.95     27500\n",
      "\n",
      "\n",
      "Confusion matrix:\n",
      "[[2721    1    7    3    1    8   14    0   17    0]\n",
      " [   0 3019   15    6    7    4    1    6    7    5]\n",
      " [  18    5 2629   19   19    3   19   24   21    5]\n",
      " [   3    1   51 2622    5   50    3   28   29   17]\n",
      " [   5    5    4    3 2564    1   17    5   12   64]\n",
      " [  13    3    3   50    5 2291   21    0   22    8]\n",
      " [  14    7    3    0    8   24 2655    0    8    0]\n",
      " [   5   12   46   10   24    2    0 2706    6   44]\n",
      " [   8   16   30   47   11   39   18    4 2471   38]\n",
      " [   9    4    8   39   52   13    2   29   33 2546]]\n"
     ]
    },
    {
     "data": {
      "text/plain": [
       "['sk.pkl']"
      ]
     },
     "execution_count": 1,
     "metadata": {},
     "output_type": "execute_result"
    }
   ],
   "source": [
    "from sklearn.ensemble import RandomForestClassifier\n",
    "from sklearn import datasets, metrics\n",
    "from sklearn.utils import shuffle\n",
    "from sklearn.datasets import fetch_mldata\n",
    "from sklearn.externals import joblib\n",
    "\n",
    "from tensorflow.examples.tutorials.mnist import input_data\n",
    "mnist = input_data.read_data_sets(\"MNIST_data/\")\n",
    "\n",
    "mnist_images = mnist.train.images\n",
    "mnist_labels = mnist.train.labels\n",
    " # To apply a classifier on this data, we need to flatten the image, to\n",
    "    # turn the data in a (samples, feature) matrix:\n",
    "n_samples = len(mnist_images)\n",
    "data = mnist_images.reshape((n_samples, -1))\n",
    "targets = mnist_labels\n",
    "\n",
    "data,targets = shuffle(data,targets)\n",
    "classifier = RandomForestClassifier(n_estimators=30)\n",
    "\n",
    "# We learn the digits on the first half of the digits\n",
    "classifier.fit(data[:n_samples // 2], targets[:n_samples // 2])\n",
    "\n",
    "# Now predict the value of the digit on the second half:\n",
    "expected = targets[n_samples // 2:]\n",
    "test_data = data[n_samples // 2:]\n",
    "\n",
    "print(classifier.score(test_data, expected))\n",
    "\n",
    "predicted = classifier.predict(data[n_samples // 2:])\n",
    "\n",
    "print(\"Classification report for classifier %s:\\n%s\\n\"\n",
    "          % (classifier, metrics.classification_report(expected, predicted)))\n",
    "print(\"Confusion matrix:\\n%s\" % metrics.confusion_matrix(expected, predicted))\n",
    "\n",
    "joblib.dump(classifier, 'sk.pkl')\n",
    "\n"
   ]
  },
  {
   "cell_type": "markdown",
   "metadata": {},
   "source": [
    "Wrap model using s2i"
   ]
  },
  {
   "cell_type": "code",
   "execution_count": 2,
   "metadata": {},
   "outputs": [
    {
     "name": "stdout",
     "output_type": "stream",
     "text": [
      "---> Installing application source...\n",
      "---> Installing dependencies ...\n",
      "Looking in links: /whl\n",
      "Collecting scipy>=0.13.3 (from -r requirements.txt (line 1))\n",
      "  Url '/whl' is ignored. It is either a non-existing path or lacks a specific scheme.\n",
      "Downloading https://files.pythonhosted.org/packages/7f/5f/c48860704092933bf1c4c1574a8de1ffd16bf4fde8bab190d747598844b2/scipy-1.2.1-cp36-cp36m-manylinux1_x86_64.whl (24.8MB)\n",
      "Collecting scikit-learn>=0.18 (from -r requirements.txt (line 2))\n",
      "  Url '/whl' is ignored. It is either a non-existing path or lacks a specific scheme.\n",
      "Downloading https://files.pythonhosted.org/packages/5e/82/c0de5839d613b82bddd088599ac0bbfbbbcbd8ca470680658352d2c435bd/scikit_learn-0.20.3-cp36-cp36m-manylinux1_x86_64.whl (5.4MB)\n",
      "Requirement already satisfied: numpy>=1.8.2 in /usr/local/lib/python3.6/site-packages (from scipy>=0.13.3->-r requirements.txt (line 1)) (1.16.1)\n",
      "Installing collected packages: scipy, scikit-learn\n",
      "Successfully installed scikit-learn-0.20.3 scipy-1.2.1\n",
      "Url '/whl' is ignored. It is either a non-existing path or lacks a specific scheme.\n",
      "Build completed successfully\n"
     ]
    }
   ],
   "source": [
    "!s2i build . seldonio/seldon-core-s2i-python3:0.6 sk-mnist:0.1"
   ]
  },
  {
   "cell_type": "code",
   "execution_count": 3,
   "metadata": {},
   "outputs": [
    {
     "name": "stdout",
     "output_type": "stream",
     "text": [
      "4ac7945aa20408dcfdabcb47ad081cf06e6007acbe414471d02d3ea06c4d6f36\r\n"
     ]
    }
   ],
   "source": [
    "!docker run --name \"mnist_predictor\" -d --rm -p 5000:5000 sk-mnist:0.1"
   ]
  },
  {
   "cell_type": "markdown",
   "metadata": {},
   "source": [
    "Send some random features that conform to the contract"
   ]
  },
  {
   "cell_type": "code",
   "execution_count": 4,
   "metadata": {},
   "outputs": [
    {
     "name": "stdout",
     "output_type": "stream",
     "text": [
      "----------------------------------------\r\n",
      "SENDING NEW REQUEST:\r\n",
      "\r\n",
      "[[0.75  0.424 0.813 0.267 0.448 0.786 0.436 0.941 0.439 0.716 0.833 0.229\r\n",
      "  0.387 0.494 0.99  0.893 0.856 0.865 0.623 0.983 0.238 0.368 0.687 0.722\r\n",
      "  0.193 0.509 0.779 0.625 0.362 0.004 0.26  0.58  0.17  0.179 0.903 0.07\r\n",
      "  0.754 0.267 0.471 0.9   0.332 0.352 0.775 0.376 0.506 0.993 0.023 0.709\r\n",
      "  0.569 0.643 0.075 0.031 0.616 0.152 0.403 0.948 0.366 0.353 0.457 0.371\r\n",
      "  0.3   0.596 0.314 0.748 0.724 0.785 0.458 0.404 0.087 0.233 0.468 0.97\r\n",
      "  0.938 0.698 0.331 0.669 0.436 0.551 0.941 0.161 0.277 0.149 0.284 0.951\r\n",
      "  0.983 0.526 0.893 0.585 0.487 0.58  0.418 0.781 0.6   0.487 0.997 0.093\r\n",
      "  0.368 0.841 0.659 0.72  0.243 0.349 0.05  0.796 0.798 0.618 0.863 0.222\r\n",
      "  0.446 0.901 0.911 0.789 0.543 0.807 0.363 0.085 0.343 0.006 0.34  0.135\r\n",
      "  0.518 0.887 0.706 0.285 0.554 0.426 0.336 0.503 0.089 0.475 0.515 0.552\r\n",
      "  0.277 0.251 0.668 0.057 0.251 0.353 0.887 0.466 0.54  0.095 0.685 0.385\r\n",
      "  0.353 0.603 0.716 0.984 0.855 0.511 0.308 0.028 0.046 0.242 0.91  0.45\r\n",
      "  0.331 0.085 0.677 0.606 0.355 0.964 0.089 0.227 0.052 0.666 0.401 0.402\r\n",
      "  0.983 0.448 0.972 0.508 0.452 0.888 0.466 0.488 0.509 0.106 0.097 0.996\r\n",
      "  0.424 0.416 0.679 0.627 0.831 0.402 0.571 0.04  0.409 0.293 0.949 0.947\r\n",
      "  0.913 0.223 0.655 0.249 0.801 0.854 0.722 0.062 0.885 0.597 0.393 0.907\r\n",
      "  0.92  0.095 0.258 0.451 0.583 0.405 0.594 0.905 0.587 0.29  0.289 0.189\r\n",
      "  0.696 0.297 0.737 0.174 0.094 0.862 0.611 0.504 0.249 0.379 0.749 0.614\r\n",
      "  0.371 0.038 0.123 0.314 0.892 0.864 0.666 0.046 0.917 0.017 0.646 0.26\r\n",
      "  0.491 0.726 0.403 0.019 0.276 0.291 0.746 0.617 0.709 0.934 0.768 0.192\r\n",
      "  0.919 0.861 0.487 0.054 0.84  0.49  0.701 0.184 0.302 0.755 0.07  0.563\r\n",
      "  0.337 0.723 0.628 0.563 0.626 0.495 0.185 0.988 0.688 0.632 0.612 0.925\r\n",
      "  0.592 0.143 0.295 0.701 0.984 0.094 0.582 0.227 0.059 0.919 0.215 0.585\r\n",
      "  0.13  0.056 0.137 0.079 0.544 0.696 0.759 0.053 0.862 0.583 0.924 0.812\r\n",
      "  0.531 0.975 0.576 0.23  0.777 0.703 0.225 0.861 0.935 0.712 0.659 0.907\r\n",
      "  0.432 0.716 0.134 0.163 0.466 0.19  0.658 0.774 0.076 0.775 0.451 0.558\r\n",
      "  0.48  0.425 0.567 0.118 0.214 0.915 0.359 0.885 0.807 0.187 0.638 0.767\r\n",
      "  0.971 0.489 0.643 0.482 0.031 0.922 0.613 0.953 0.633 0.009 0.601 0.292\r\n",
      "  0.174 0.828 0.488 0.307 0.407 0.718 0.115 0.713 0.603 0.413 0.078 0.893\r\n",
      "  0.864 0.506 0.397 0.376 0.829 0.88  0.797 0.057 0.242 0.924 0.091 0.507\r\n",
      "  0.117 0.7   0.656 0.44  0.868 0.998 0.977 0.626 0.688 0.772 0.748 0.671\r\n",
      "  0.705 0.813 0.624 0.917 0.881 0.096 0.854 0.18  0.7   0.963 0.741 0.026\r\n",
      "  0.984 0.189 0.621 0.254 0.3   0.483 0.774 0.423 0.183 0.474 0.638 0.621\r\n",
      "  0.891 0.478 0.991 0.196 0.76  0.649 0.129 0.264 0.962 0.717 0.285 0.268\r\n",
      "  0.015 0.157 0.537 0.631 0.119 0.479 0.294 0.303 0.816 0.241 0.569 0.314\r\n",
      "  0.196 0.299 0.382 0.074 0.753 0.647 0.73  0.068 0.123 0.905 0.022 0.374\r\n",
      "  0.371 0.214 0.742 0.259 0.602 0.061 0.187 0.36  0.658 0.56  0.95  0.624\r\n",
      "  0.479 0.849 0.596 0.244 0.26  0.522 0.649 0.801 0.332 0.535 0.673 0.504\r\n",
      "  0.04  0.944 0.74  0.666 0.332 0.552 0.549 0.646 0.523 0.638 0.95  0.584\r\n",
      "  0.229 0.748 0.646 0.591 0.409 0.169 0.002 0.548 0.914 0.706 0.12  0.114\r\n",
      "  0.901 0.11  0.544 0.772 0.539 0.868 0.739 0.446 0.297 0.878 0.614 0.964\r\n",
      "  0.729 0.46  0.541 0.597 0.317 0.629 0.8   0.257 0.365 0.297 0.818 0.953\r\n",
      "  0.853 0.732 0.1   0.526 0.222 0.72  0.671 0.931 0.055 0.899 0.57  0.97\r\n",
      "  0.587 0.499 0.521 0.782 0.664 0.352 0.922 0.06  0.373 0.256 0.127 0.321\r\n",
      "  0.965 0.504 0.964 0.699 0.568 0.127 0.699 0.129 0.817 0.789 0.547 0.988\r\n",
      "  0.258 0.765 0.11  0.517 0.868 0.514 0.731 0.164 0.724 0.119 0.066 0.167\r\n",
      "  0.744 0.65  0.171 0.919 0.025 0.553 0.223 0.051 0.064 0.356 0.045 0.31\r\n",
      "  0.744 0.066 0.67  0.85  0.415 0.174 0.499 0.341 0.261 0.695 0.533 0.021\r\n",
      "  0.361 0.459 0.366 0.716 0.55  0.854 0.092 0.565 0.844 0.798 0.475 0.455\r\n",
      "  0.186 0.962 0.847 0.566 0.786 0.752 0.31  0.623 0.854 0.57  0.195 0.24\r\n",
      "  0.249 0.292 0.964 0.005 0.621 0.977 0.613 0.346 0.477 0.208 0.026 0.424\r\n",
      "  0.724 0.067 0.998 0.564 0.805 0.326 0.33  0.659 0.521 0.791 0.832 0.239\r\n",
      "  0.666 0.233 0.239 0.239 0.92  0.25  0.057 0.425 0.532 0.91  0.565 0.144\r\n",
      "  0.197 0.485 0.649 0.202 0.339 0.645 0.199 0.549 0.869 0.365 0.61  0.922\r\n",
      "  0.94  0.835 0.616 0.791 0.145 0.201 0.52  0.993 0.908 0.746 0.604 0.055\r\n",
      "  0.072 0.453 0.407 0.601 0.9   0.496 0.544 0.015 0.699 0.64  0.744 0.247\r\n",
      "  0.866 0.296 0.522 0.532 0.04  0.954 0.091 0.145 0.726 0.514 0.367 0.125\r\n",
      "  0.217 0.784 0.732 0.026 0.559 0.262 0.379 0.142 0.281 0.468 0.121 0.913\r\n",
      "  0.67  0.485 0.954 0.553 0.511 0.886 0.239 0.217 0.379 0.937 0.943 0.235\r\n",
      "  0.967 0.34  0.226 0.616 0.55  0.234 0.172 0.187 0.108 0.345 0.808 0.707\r\n",
      "  0.969 0.581 0.211 0.352 0.033 0.503 0.742 0.608 0.215 0.715 0.34  0.944\r\n",
      "  0.765 0.796 0.193 0.274 0.906 0.58  0.124 0.722 0.718 0.387 0.114 0.462\r\n",
      "  0.769 0.011 0.185 0.809 0.781 0.733 0.931 0.648 0.007 0.392 0.026 0.826\r\n",
      "  0.755 0.826 0.761 0.533 0.378 0.966 0.878 0.815 0.969 0.633 0.509 0.115\r\n",
      "  0.321 0.725 0.708 0.177]]\r\n",
      "RECEIVED RESPONSE:\r\n",
      "meta {\r\n",
      "}\r\n",
      "data {\r\n",
      "  names: \"class:0\"\r\n",
      "  names: \"class:1\"\r\n",
      "  names: \"class:2\"\r\n",
      "  names: \"class:3\"\r\n",
      "  names: \"class:4\"\r\n",
      "  names: \"class:5\"\r\n",
      "  names: \"class:6\"\r\n",
      "  names: \"class:7\"\r\n",
      "  names: \"class:8\"\r\n",
      "  names: \"class:9\"\r\n",
      "  ndarray {\r\n",
      "    values {\r\n",
      "      list_value {\r\n",
      "        values {\r\n",
      "          number_value: 0.1\r\n",
      "        }\r\n",
      "        values {\r\n",
      "          number_value: 0.0\r\n",
      "        }\r\n",
      "        values {\r\n",
      "          number_value: 0.23333333333333334\r\n",
      "        }\r\n",
      "        values {\r\n",
      "          number_value: 0.1\r\n",
      "        }\r\n",
      "        values {\r\n",
      "          number_value: 0.16666666666666666\r\n",
      "        }\r\n",
      "        values {\r\n",
      "          number_value: 0.03333333333333333\r\n",
      "        }\r\n",
      "        values {\r\n",
      "          number_value: 0.06666666666666667\r\n",
      "        }\r\n",
      "        values {\r\n",
      "          number_value: 0.06666666666666667\r\n",
      "        }\r\n",
      "        values {\r\n",
      "          number_value: 0.2\r\n",
      "        }\r\n",
      "        values {\r\n",
      "          number_value: 0.03333333333333333\r\n",
      "        }\r\n",
      "      }\r\n",
      "    }\r\n",
      "  }\r\n",
      "}\r\n",
      "\r\n",
      "\r\n"
     ]
    }
   ],
   "source": [
    "!seldon-core-tester contract.json 0.0.0.0 5000 -p"
   ]
  },
  {
   "cell_type": "code",
   "execution_count": 5,
   "metadata": {},
   "outputs": [
    {
     "name": "stdout",
     "output_type": "stream",
     "text": [
      "mnist_predictor\r\n"
     ]
    }
   ],
   "source": [
    "!docker rm mnist_predictor --force"
   ]
  },
  {
   "cell_type": "markdown",
   "metadata": {},
   "source": [
    "## Test using Minikube\n",
    "\n",
    "**Due to a [minikube/s2i issue](https://github.com/SeldonIO/seldon-core/issues/253) you will need [s2i >= 1.1.13](https://github.com/openshift/source-to-image/releases/tag/v1.1.13)**"
   ]
  },
  {
   "cell_type": "code",
   "execution_count": 8,
   "metadata": {},
   "outputs": [
    {
     "name": "stdout",
     "output_type": "stream",
     "text": [
      "😄  minikube v0.34.1 on linux (amd64)\n",
      "🔥  Creating virtualbox VM (CPUs=2, Memory=4096MB, Disk=20000MB) ...\n",
      "📶  \"minikube\" IP address is 192.168.99.100\n",
      "🐳  Configuring Docker as the container runtime ...\n",
      "✨  Preparing Kubernetes environment ...\n",
      "🚜  Pulling images required by Kubernetes v1.13.3 ...\n",
      "🚀  Launching Kubernetes v1.13.3 using kubeadm ... \n",
      "🔑  Configuring cluster permissions ...\n",
      "🤔  Verifying component health .....\n",
      "💗  kubectl is now configured to use \"minikube\"\n",
      "🏄  Done! Thank you for using minikube!\n"
     ]
    }
   ],
   "source": [
    "!minikube start --memory 4096"
   ]
  },
  {
   "cell_type": "code",
   "execution_count": 9,
   "metadata": {},
   "outputs": [
    {
     "name": "stdout",
     "output_type": "stream",
     "text": [
      "clusterrolebinding.rbac.authorization.k8s.io/kube-system-cluster-admin created\r\n"
     ]
    }
   ],
   "source": [
    "!kubectl create clusterrolebinding kube-system-cluster-admin --clusterrole=cluster-admin --serviceaccount=kube-system:default"
   ]
  },
  {
   "cell_type": "code",
   "execution_count": 10,
   "metadata": {},
   "outputs": [
    {
     "name": "stdout",
     "output_type": "stream",
     "text": [
      "$HELM_HOME has been configured at /home/clive/.helm.\n",
      "\n",
      "Tiller (the Helm server-side component) has been installed into your Kubernetes Cluster.\n",
      "\n",
      "Please note: by default, Tiller is deployed with an insecure 'allow unauthenticated users' policy.\n",
      "To prevent this, run `helm init` with the --tiller-tls-verify flag.\n",
      "For more information on securing your installation see: https://docs.helm.sh/using_helm/#securing-your-helm-installation\n",
      "Happy Helming!\n"
     ]
    }
   ],
   "source": [
    "!helm init"
   ]
  },
  {
   "cell_type": "code",
   "execution_count": 11,
   "metadata": {},
   "outputs": [
    {
     "name": "stdout",
     "output_type": "stream",
     "text": [
      "Waiting for deployment \"tiller-deploy\" rollout to finish: 0 of 1 updated replicas are available...\n",
      "deployment \"tiller-deploy\" successfully rolled out\n"
     ]
    }
   ],
   "source": [
    "!kubectl rollout status deploy/tiller-deploy -n kube-system"
   ]
  },
  {
   "cell_type": "code",
   "execution_count": 12,
   "metadata": {},
   "outputs": [
    {
     "name": "stdout",
     "output_type": "stream",
     "text": [
      "NAME:   seldon-core-crd\n",
      "LAST DEPLOYED: Wed Mar 13 17:03:15 2019\n",
      "NAMESPACE: default\n",
      "STATUS: DEPLOYED\n",
      "\n",
      "RESOURCES:\n",
      "==> v1beta1/Deployment\n",
      "NAME                        DESIRED  CURRENT  UP-TO-DATE  AVAILABLE  AGE\n",
      "seldon-spartakus-volunteer  1        1        1           0          0s\n",
      "\n",
      "==> v1/ServiceAccount\n",
      "NAME                        SECRETS  AGE\n",
      "seldon-spartakus-volunteer  1        0s\n",
      "\n",
      "==> v1beta1/ClusterRole\n",
      "NAME                        AGE\n",
      "seldon-spartakus-volunteer  0s\n",
      "\n",
      "==> v1beta1/ClusterRoleBinding\n",
      "NAME                        AGE\n",
      "seldon-spartakus-volunteer  0s\n",
      "\n",
      "==> v1/Pod(related)\n",
      "NAME                                         READY  STATUS             RESTARTS  AGE\n",
      "seldon-spartakus-volunteer-5554c4d8b6-h8r5x  0/1    ContainerCreating  0         0s\n",
      "\n",
      "==> v1/ConfigMap\n",
      "NAME                     DATA  AGE\n",
      "seldon-spartakus-config  3     4s\n",
      "\n",
      "==> v1beta1/CustomResourceDefinition\n",
      "NAME                                         AGE\n",
      "seldondeployments.machinelearning.seldon.io  0s\n",
      "\n",
      "\n",
      "NOTES:\n",
      "NOTES: TODO\n",
      "\n",
      "\n",
      "NAME:   seldon-core\n",
      "LAST DEPLOYED: Wed Mar 13 17:03:20 2019\n",
      "NAMESPACE: default\n",
      "STATUS: DEPLOYED\n",
      "\n",
      "RESOURCES:\n",
      "==> v1/ServiceAccount\n",
      "NAME    SECRETS  AGE\n",
      "seldon  1        0s\n",
      "\n",
      "==> v1/Role\n",
      "NAME          AGE\n",
      "seldon-local  0s\n",
      "\n",
      "==> v1/RoleBinding\n",
      "NAME    AGE\n",
      "seldon  0s\n",
      "\n",
      "==> v1/Service\n",
      "NAME                          TYPE       CLUSTER-IP     EXTERNAL-IP  PORT(S)                        AGE\n",
      "seldon-core-seldon-apiserver  NodePort   10.99.139.201  <none>       8080:31310/TCP,5000:30250/TCP  0s\n",
      "seldon-core-redis             ClusterIP  10.97.79.126   <none>       6379/TCP                       0s\n",
      "\n",
      "==> v1beta1/Deployment\n",
      "NAME                                DESIRED  CURRENT  UP-TO-DATE  AVAILABLE  AGE\n",
      "seldon-core-seldon-apiserver        1        1        1           0          0s\n",
      "seldon-core-seldon-cluster-manager  1        1        1           0          0s\n",
      "seldon-core-redis                   1        1        1           0          0s\n",
      "\n",
      "==> v1/Pod(related)\n",
      "NAME                                                 READY  STATUS             RESTARTS  AGE\n",
      "seldon-core-seldon-apiserver-7c9898d988-kmxhk        0/1    ContainerCreating  0         0s\n",
      "seldon-core-seldon-cluster-manager-68ff4ccfcf-qw7b5  0/1    ContainerCreating  0         0s\n",
      "seldon-core-redis-7d64dc686b-tkx7m                   0/1    ContainerCreating  0         0s\n",
      "\n",
      "\n",
      "NOTES:\n",
      "Thank you for installing Seldon Core.\n",
      "\n",
      "Documentation can be found at https://github.com/SeldonIO/seldon-core\n",
      "\n",
      "\n",
      "\n",
      "\n"
     ]
    }
   ],
   "source": [
    "!helm install ../../../helm-charts/seldon-core-crd --name seldon-core-crd  --set usage_metrics.enabled=true\n",
    "!helm install ../../../helm-charts/seldon-core --name seldon-core "
   ]
  },
  {
   "cell_type": "code",
   "execution_count": 13,
   "metadata": {},
   "outputs": [
    {
     "name": "stdout",
     "output_type": "stream",
     "text": [
      "---> Installing application source...\n",
      "---> Installing dependencies ...\n",
      "Looking in links: /whl\n",
      "Collecting scipy>=0.13.3 (from -r requirements.txt (line 1))\n",
      "  Url '/whl' is ignored. It is either a non-existing path or lacks a specific scheme.\n",
      "Downloading https://files.pythonhosted.org/packages/7f/5f/c48860704092933bf1c4c1574a8de1ffd16bf4fde8bab190d747598844b2/scipy-1.2.1-cp36-cp36m-manylinux1_x86_64.whl (24.8MB)\n",
      "Collecting scikit-learn>=0.18 (from -r requirements.txt (line 2))\n",
      "  Url '/whl' is ignored. It is either a non-existing path or lacks a specific scheme.\n",
      "Downloading https://files.pythonhosted.org/packages/5e/82/c0de5839d613b82bddd088599ac0bbfbbbcbd8ca470680658352d2c435bd/scikit_learn-0.20.3-cp36-cp36m-manylinux1_x86_64.whl (5.4MB)\n",
      "Requirement already satisfied: numpy>=1.8.2 in /usr/local/lib/python3.6/site-packages (from scipy>=0.13.3->-r requirements.txt (line 1)) (1.16.1)\n",
      "Installing collected packages: scipy, scikit-learn\n",
      "Successfully installed scikit-learn-0.20.3 scipy-1.2.1\n",
      "Url '/whl' is ignored. It is either a non-existing path or lacks a specific scheme.\n",
      "Build completed successfully\n"
     ]
    }
   ],
   "source": [
    "!eval $(minikube docker-env) && s2i build . seldonio/seldon-core-s2i-python3:0.6 sk-mnist:0.1"
   ]
  },
  {
   "cell_type": "code",
   "execution_count": 14,
   "metadata": {},
   "outputs": [
    {
     "name": "stdout",
     "output_type": "stream",
     "text": [
      "seldondeployment.machinelearning.seldon.io/sk-mnist created\r\n"
     ]
    }
   ],
   "source": [
    "!kubectl create -f sk_mnist.json"
   ]
  },
  {
   "cell_type": "code",
   "execution_count": 15,
   "metadata": {},
   "outputs": [
    {
     "name": "stdout",
     "output_type": "stream",
     "text": [
      "deployment \"sk-mnist-single-model-3812de6\" successfully rolled out\r\n"
     ]
    }
   ],
   "source": [
    "!kubectl rollout status deploy/sk-mnist-single-model-3812de6"
   ]
  },
  {
   "cell_type": "code",
   "execution_count": 16,
   "metadata": {},
   "outputs": [
    {
     "name": "stdout",
     "output_type": "stream",
     "text": [
      "----------------------------------------\n",
      "SENDING NEW REQUEST:\n",
      "\n",
      "[[0.846 0.642 0.705 0.841 0.875 0.031 0.775 0.272 0.937 0.267 0.512 0.081\n",
      "  0.631 0.739 0.378 0.492 0.541 0.229 0.479 0.54  0.465 0.322 0.144 0.199\n",
      "  0.957 0.025 0.039 0.235 0.563 0.601 0.13  0.148 0.365 0.872 0.574 0.836\n",
      "  0.252 0.742 0.941 0.202 0.825 0.416 0.822 0.56  0.934 0.367 0.537 0.278\n",
      "  0.18  0.803 0.399 0.658 0.113 0.33  0.445 0.742 0.434 0.599 0.376 0.797\n",
      "  0.111 0.245 0.812 0.859 0.609 0.02  0.045 0.514 0.115 0.402 0.616 0.246\n",
      "  0.241 0.403 0.051 0.11  0.117 0.759 0.506 0.597 0.347 0.704 0.658 0.276\n",
      "  0.919 0.302 0.83  0.673 0.662 0.313 0.859 0.561 0.936 0.667 0.712 0.453\n",
      "  0.967 0.113 0.002 0.265 0.446 0.924 0.62  0.215 0.94  0.631 0.003 0.615\n",
      "  0.104 0.534 0.798 0.36  0.152 0.275 0.513 0.448 0.718 0.928 0.842 0.992\n",
      "  0.477 0.463 0.894 0.3   0.844 0.488 0.291 0.311 0.453 0.819 0.178 0.959\n",
      "  0.982 0.05  0.268 0.296 0.152 0.671 0.88  0.818 0.154 0.194 0.212 0.773\n",
      "  0.907 0.445 0.071 0.83  0.622 0.792 0.659 0.426 0.997 0.956 0.912 0.356\n",
      "  0.029 0.346 0.44  0.917 0.233 0.489 0.369 0.448 0.077 0.373 0.853 0.411\n",
      "  0.908 0.179 0.524 0.881 0.634 0.28  0.282 0.345 0.881 0.637 0.148 0.346\n",
      "  0.272 0.818 0.066 0.493 0.553 0.56  0.665 0.8   0.05  0.8   0.012 0.244\n",
      "  0.7   0.639 0.781 0.472 0.025 0.341 0.542 0.418 0.401 0.172 0.266 0.979\n",
      "  0.586 0.176 0.988 0.507 0.529 0.901 0.454 0.475 0.391 0.219 0.59  0.145\n",
      "  0.274 0.578 0.669 0.196 0.333 0.468 0.925 0.286 0.303 0.459 0.579 0.447\n",
      "  0.658 0.86  0.479 0.535 0.361 0.067 0.379 0.078 0.909 0.283 0.483 0.606\n",
      "  0.113 0.748 0.127 0.107 0.678 0.155 0.481 0.097 0.556 0.057 0.904 0.505\n",
      "  0.117 0.315 0.559 0.947 0.172 0.359 0.727 0.091 0.857 0.48  0.658 0.581\n",
      "  0.671 0.405 0.943 0.427 0.903 0.253 0.669 0.563 0.412 0.367 0.352 0.3\n",
      "  0.672 0.171 0.549 0.244 0.136 0.893 0.6   0.779 0.232 0.177 0.161 0.862\n",
      "  0.02  0.039 0.645 0.832 0.186 0.616 0.875 0.402 0.911 0.418 0.631 0.15\n",
      "  0.845 0.335 0.575 0.783 0.525 0.284 0.071 0.429 0.403 0.543 0.229 0.243\n",
      "  0.804 0.494 0.816 0.555 0.076 0.497 0.001 0.613 0.512 0.58  0.944 0.069\n",
      "  0.55  0.878 0.383 0.196 0.512 0.999 0.903 0.749 0.065 0.754 0.483 0.387\n",
      "  0.806 0.934 0.518 0.212 0.45  0.101 0.514 0.616 0.759 0.338 0.59  0.848\n",
      "  0.667 0.081 0.745 0.614 0.492 0.548 0.216 0.552 0.802 0.662 0.408 0.7\n",
      "  0.32  0.894 0.998 0.484 0.083 0.028 0.46  0.758 0.478 0.925 0.252 0.277\n",
      "  0.04  0.721 0.7   0.419 0.762 0.476 0.071 0.734 0.996 0.389 0.563 0.331\n",
      "  0.453 0.713 0.908 0.952 0.616 0.088 0.525 0.519 0.258 0.641 0.087 0.279\n",
      "  0.722 0.425 0.119 0.473 0.488 0.688 0.995 0.285 0.765 0.437 0.684 0.79\n",
      "  0.012 0.263 0.923 0.691 0.569 0.483 0.926 0.689 0.215 0.494 0.186 0.909\n",
      "  0.838 0.593 0.628 0.768 0.252 0.44  0.744 0.157 0.336 0.423 0.474 0.651\n",
      "  0.361 0.08  0.634 0.935 0.233 0.928 0.555 0.049 0.299 0.496 0.413 0.726\n",
      "  0.14  0.511 0.601 0.702 0.626 0.798 0.559 0.92  0.262 0.824 0.499 0.123\n",
      "  0.027 0.085 0.069 0.094 0.489 0.001 0.84  0.798 0.87  0.379 0.684 0.55\n",
      "  0.938 0.362 0.489 0.421 0.302 0.509 0.342 0.608 0.861 0.74  0.652 0.034\n",
      "  0.109 0.933 0.166 0.42  0.413 0.252 0.26  0.622 0.81  0.571 0.101 0.778\n",
      "  0.476 0.014 0.415 0.379 0.978 0.672 0.31  0.461 0.996 0.92  0.529 0.956\n",
      "  0.774 0.071 0.139 0.709 0.199 0.303 0.085 0.809 0.5   0.337 0.663 0.616\n",
      "  0.08  0.471 0.622 0.964 0.354 0.428 0.177 0.37  0.146 0.55  0.98  0.345\n",
      "  0.584 0.98  0.471 0.875 0.845 0.198 0.661 0.777 0.311 0.884 0.021 0.722\n",
      "  0.583 0.278 0.271 0.008 0.05  0.284 0.316 0.179 0.276 0.589 0.524 0.294\n",
      "  0.521 0.078 0.46  0.957 0.349 0.009 0.81  0.962 0.145 0.525 0.22  0.981\n",
      "  0.239 0.657 0.155 0.704 0.986 0.032 0.992 0.859 0.993 0.099 0.767 0.152\n",
      "  0.901 0.502 0.023 0.057 0.343 0.087 0.228 0.113 0.966 0.104 0.223 0.105\n",
      "  0.273 0.884 0.06  0.628 0.244 0.138 0.233 0.346 0.628 0.734 0.092 0.076\n",
      "  0.53  0.497 0.153 0.638 0.731 0.558 0.421 0.724 0.488 0.147 0.775 0.956\n",
      "  0.332 0.465 0.419 0.505 0.916 0.442 0.636 0.623 0.97  0.469 0.098 0.369\n",
      "  0.238 0.713 0.931 0.874 0.226 0.938 0.808 0.933 0.954 0.856 0.772 0.925\n",
      "  0.188 0.793 0.379 0.296 0.064 0.851 0.391 0.785 0.005 0.466 0.526 0.098\n",
      "  0.074 0.639 0.609 0.602 0.007 0.897 0.022 0.816 0.239 0.801 0.987 0.049\n",
      "  0.272 0.201 0.835 0.815 0.594 0.858 0.672 0.753 0.355 0.946 0.098 0.033\n",
      "  0.907 0.456 0.395 0.463 0.609 0.839 0.468 0.648 0.835 0.336 0.07  0.206\n",
      "  0.136 0.754 0.777 0.737 0.186 0.185 0.331 0.364 0.371 0.712 0.842 0.761\n",
      "  0.84  0.255 0.98  0.151 0.762 0.694 0.309 0.66  0.405 0.211 0.362 0.417\n",
      "  0.351 0.374 0.15  0.611 0.636 0.457 0.815 0.251 0.385 0.645 0.114 0.206\n",
      "  0.949 0.544 0.576 0.84  0.105 0.364 0.441 0.708 0.127 0.107 0.235 0.224\n",
      "  0.043 0.093 0.747 0.245 0.705 0.501 0.923 0.827 0.465 0.289 0.76  0.857\n",
      "  0.113 0.737 0.573 0.786 0.887 0.782 0.169 0.628 0.326 0.118 0.203 0.913\n",
      "  0.79  0.341 0.05  0.05  0.265 0.485 0.372 0.439 0.491 0.537 0.905 0.678\n",
      "  0.663 0.793 0.477 0.879 0.683 0.891 0.932 0.724 0.352 0.992 0.54  0.971\n",
      "  0.193 0.948 0.253 0.971]]\n",
      "RECEIVED RESPONSE:\n",
      "meta {\n",
      "  puid: \"38jc6635t7d61ed41dgf57ne4q\"\n",
      "  requestPath {\n",
      "    key: \"classifier\"\n",
      "    value: \"sk-mnist:0.1\"\n",
      "  }\n",
      "}\n",
      "data {\n",
      "  names: \"class:0\"\n",
      "  names: \"class:1\"\n",
      "  names: \"class:2\"\n",
      "  names: \"class:3\"\n",
      "  names: \"class:4\"\n",
      "  names: \"class:5\"\n",
      "  names: \"class:6\"\n",
      "  names: \"class:7\"\n",
      "  names: \"class:8\"\n",
      "  names: \"class:9\"\n",
      "  tensor {\n",
      "    shape: 1\n",
      "    shape: 10\n",
      "    values: 0.13333333333333333\n",
      "    values: 0.0\n",
      "    values: 0.16666666666666666\n",
      "    values: 0.16666666666666666\n",
      "    values: 0.0\n",
      "    values: 0.03333333333333333\n",
      "    values: 0.1\n",
      "    values: 0.06666666666666667\n",
      "    values: 0.26666666666666666\n",
      "    values: 0.06666666666666667\n",
      "  }\n",
      "}\n",
      "\n",
      "\n"
     ]
    }
   ],
   "source": [
    "!seldon-core-api-tester contract.json \\\n",
    "    `minikube ip` `kubectl get svc -l app=seldon-apiserver-container-app -o jsonpath='{.items[0].spec.ports[0].nodePort}'` \\\n",
    "    --oauth-key oauth-key --oauth-secret oauth-secret -p"
   ]
  },
  {
   "cell_type": "code",
   "execution_count": 17,
   "metadata": {},
   "outputs": [
    {
     "name": "stdout",
     "output_type": "stream",
     "text": [
      "🔥  Deleting \"minikube\" from virtualbox ...\n",
      "💔  The \"minikube\" cluster has been deleted.\n"
     ]
    }
   ],
   "source": [
    "!minikube delete"
   ]
  },
  {
   "cell_type": "code",
   "execution_count": null,
   "metadata": {},
   "outputs": [],
   "source": []
  }
 ],
 "metadata": {
  "kernelspec": {
   "display_name": "Python 3",
   "language": "python",
   "name": "python3"
  },
  "language_info": {
   "codemirror_mode": {
    "name": "ipython",
    "version": 3
   },
   "file_extension": ".py",
   "mimetype": "text/x-python",
   "name": "python",
   "nbconvert_exporter": "python",
   "pygments_lexer": "ipython3",
   "version": "3.6.4"
  },
  "varInspector": {
   "cols": {
    "lenName": 16,
    "lenType": 16,
    "lenVar": 40
   },
   "kernels_config": {
    "python": {
     "delete_cmd_postfix": "",
     "delete_cmd_prefix": "del ",
     "library": "var_list.py",
     "varRefreshCmd": "print(var_dic_list())"
    },
    "r": {
     "delete_cmd_postfix": ") ",
     "delete_cmd_prefix": "rm(",
     "library": "var_list.r",
     "varRefreshCmd": "cat(var_dic_list()) "
    }
   },
   "types_to_exclude": [
    "module",
    "function",
    "builtin_function_or_method",
    "instance",
    "_Feature"
   ],
   "window_display": false
  }
 },
 "nbformat": 4,
 "nbformat_minor": 2
}
