{
 "cells": [
  {
   "cell_type": "markdown",
   "metadata": {},
   "source": [
    "# Autoscaling Seldon Deployments\n"
   ]
  },
  {
   "cell_type": "markdown",
   "metadata": {},
   "source": [
    "## Prerequisites\n",
    " \n",
    "- The cluster should have `heapster` and `metric-server` running in the `kube-system` namespace\n",
    "- For Minikube run:\n",
    "    \n",
    "    ```\n",
    "    minikube addons enable metrics-server\n",
    "    minikube addons enable heapster\n",
    "    ```"
   ]
  },
  {
   "cell_type": "markdown",
   "metadata": {},
   "source": [
    "## Setup Seldon Core\n",
    "\n",
    "Use the setup notebook to [Setup Cluster](../../seldon_core_setup.ipynb#Setup-Cluster) with [Ambassador Ingress](../../seldon_core_setup.ipynb#Ambassador) and [Install Seldon Core](../../seldon_core_setup.ipynb#Install-Seldon-Core). Instructions [also online](./seldon_core_setup.html)."
   ]
  },
  {
   "cell_type": "markdown",
   "metadata": {},
   "source": [
    "## Create model with autoscaler\n",
    "\n",
    "To create a model with an HorizontalPodAutoscaler there are three steps:\n",
    "\n",
    "\n",
    "  1. Ensure you have a resource request for the metric you want to scale on if it is a standard metric such as cpu or memory, e.g.:\n",
    "  \n",
    "```\n",
    "      \"resources\": {\n",
    "         \"requests\": {\n",
    "            \"cpu\": \"0.5\"\n",
    "         }\n",
    "      }\n",
    "```\n",
    "     \n",
    "  1. Add an HPA Spec refering to this Deployment, e.g.:\n",
    "  \n",
    "```\n",
    "     \"hpaSpec\":\n",
    "\t\t    {\n",
    "\t\t\t\"minReplicas\": 1,\n",
    "\t\t\t\"maxReplicas\": 3,\n",
    "\t\t\t\"metrics\": \n",
    "\t\t\t    [ {\n",
    "\t\t\t\t\"type\": \"Resource\",\n",
    "\t\t\t\t\"resource\": {\n",
    "\t\t\t\t    \"name\": \"cpu\",\n",
    "\t\t\t\t    \"targetAverageUtilization\": 10\n",
    "\t\t\t\t}\n",
    "\t\t\t    }]\n",
    "\t\t    },\n",
    "```\n",
    "\n",
    "The full SeldonDeployment spec is shown below."
   ]
  },
  {
   "cell_type": "code",
   "execution_count": 10,
   "metadata": {},
   "outputs": [
    {
     "name": "stdout",
     "output_type": "stream",
     "text": [
      "{\r\n",
      "    \u001b[34;01m\"apiVersion\"\u001b[39;49;00m: \u001b[33m\"machinelearning.seldon.io/v1alpha2\"\u001b[39;49;00m,\r\n",
      "    \u001b[34;01m\"kind\"\u001b[39;49;00m: \u001b[33m\"SeldonDeployment\"\u001b[39;49;00m,\r\n",
      "    \u001b[34;01m\"metadata\"\u001b[39;49;00m: {\r\n",
      "        \u001b[34;01m\"name\"\u001b[39;49;00m: \u001b[33m\"seldon-model\"\u001b[39;49;00m\r\n",
      "    },\r\n",
      "    \u001b[34;01m\"spec\"\u001b[39;49;00m: {\r\n",
      "        \u001b[34;01m\"name\"\u001b[39;49;00m: \u001b[33m\"test-deployment\"\u001b[39;49;00m,\r\n",
      "        \u001b[34;01m\"oauth_key\"\u001b[39;49;00m: \u001b[33m\"oauth-key\"\u001b[39;49;00m,\r\n",
      "        \u001b[34;01m\"oauth_secret\"\u001b[39;49;00m: \u001b[33m\"oauth-secret\"\u001b[39;49;00m,\r\n",
      "        \u001b[34;01m\"predictors\"\u001b[39;49;00m: [\r\n",
      "            {\r\n",
      "                \u001b[34;01m\"componentSpecs\"\u001b[39;49;00m: [{\r\n",
      "                    \u001b[34;01m\"spec\"\u001b[39;49;00m: {\r\n",
      "                        \u001b[34;01m\"containers\"\u001b[39;49;00m: [\r\n",
      "                            {\r\n",
      "                                \u001b[34;01m\"image\"\u001b[39;49;00m: \u001b[33m\"seldonio/mock_classifier:1.0\"\u001b[39;49;00m,\r\n",
      "                                \u001b[34;01m\"imagePullPolicy\"\u001b[39;49;00m: \u001b[33m\"IfNotPresent\"\u001b[39;49;00m,\r\n",
      "                                \u001b[34;01m\"name\"\u001b[39;49;00m: \u001b[33m\"classifier\"\u001b[39;49;00m,\r\n",
      "                                \u001b[34;01m\"resources\"\u001b[39;49;00m: {\r\n",
      "                                    \u001b[34;01m\"requests\"\u001b[39;49;00m: {\r\n",
      "                                        \u001b[34;01m\"cpu\"\u001b[39;49;00m: \u001b[33m\"0.5\"\u001b[39;49;00m\r\n",
      "                                    }\r\n",
      "                                }\r\n",
      "                            }\r\n",
      "                        ],\r\n",
      "                        \u001b[34;01m\"terminationGracePeriodSeconds\"\u001b[39;49;00m: \u001b[34m1\u001b[39;49;00m\r\n",
      "                    },\r\n",
      "\t\t    \u001b[34;01m\"hpaSpec\"\u001b[39;49;00m:\r\n",
      "\t\t    {\r\n",
      "\t\t\t\u001b[34;01m\"minReplicas\"\u001b[39;49;00m: \u001b[34m1\u001b[39;49;00m,\r\n",
      "\t\t\t\u001b[34;01m\"maxReplicas\"\u001b[39;49;00m: \u001b[34m3\u001b[39;49;00m,\r\n",
      "\t\t\t\u001b[34;01m\"metrics\"\u001b[39;49;00m: \r\n",
      "\t\t\t    [ {\r\n",
      "\t\t\t\t\u001b[34;01m\"type\"\u001b[39;49;00m: \u001b[33m\"Resource\"\u001b[39;49;00m,\r\n",
      "\t\t\t\t\u001b[34;01m\"resource\"\u001b[39;49;00m: {\r\n",
      "\t\t\t\t    \u001b[34;01m\"name\"\u001b[39;49;00m: \u001b[33m\"cpu\"\u001b[39;49;00m,\r\n",
      "\t\t\t\t    \u001b[34;01m\"targetAverageUtilization\"\u001b[39;49;00m: \u001b[34m10\u001b[39;49;00m\r\n",
      "\t\t\t\t}\r\n",
      "\t\t\t    }]\r\n",
      "\t\t    }\r\n",
      "                }],\r\n",
      "                \u001b[34;01m\"graph\"\u001b[39;49;00m: {\r\n",
      "                    \u001b[34;01m\"children\"\u001b[39;49;00m: [],\r\n",
      "                    \u001b[34;01m\"name\"\u001b[39;49;00m: \u001b[33m\"classifier\"\u001b[39;49;00m,\r\n",
      "                    \u001b[34;01m\"endpoint\"\u001b[39;49;00m: {\r\n",
      "\t\t\t\u001b[34;01m\"type\"\u001b[39;49;00m : \u001b[33m\"REST\"\u001b[39;49;00m\r\n",
      "\t\t    },\r\n",
      "                    \u001b[34;01m\"type\"\u001b[39;49;00m: \u001b[33m\"MODEL\"\u001b[39;49;00m\r\n",
      "                },\r\n",
      "                \u001b[34;01m\"name\"\u001b[39;49;00m: \u001b[33m\"example\"\u001b[39;49;00m,\r\n",
      "                \u001b[34;01m\"replicas\"\u001b[39;49;00m: \u001b[34m1\u001b[39;49;00m\r\n",
      "            }\r\n",
      "        ]\r\n",
      "    }\r\n",
      "}\r\n"
     ]
    }
   ],
   "source": [
    "!pygmentize model_with_hpa.json"
   ]
  },
  {
   "cell_type": "code",
   "execution_count": 11,
   "metadata": {},
   "outputs": [
    {
     "name": "stdout",
     "output_type": "stream",
     "text": [
      "seldondeployment.machinelearning.seldon.io/seldon-model created\r\n"
     ]
    }
   ],
   "source": [
    "!kubectl create -f model_with_hpa.json"
   ]
  },
  {
   "cell_type": "markdown",
   "metadata": {},
   "source": [
    "## Create Load"
   ]
  },
  {
   "cell_type": "code",
   "execution_count": 12,
   "metadata": {},
   "outputs": [
    {
     "name": "stdout",
     "output_type": "stream",
     "text": [
      "node/gke-standard-cluster-1-default-pool-b1c35e14-rrbd labeled\r\n"
     ]
    }
   ],
   "source": [
    "!kubectl label nodes $(kubectl get nodes -o jsonpath='{.items[0].metadata.name}') role=locust"
   ]
  },
  {
   "cell_type": "code",
   "execution_count": 15,
   "metadata": {},
   "outputs": [
    {
     "name": "stdout",
     "output_type": "stream",
     "text": [
      "NAME:   loadtest\n",
      "LAST DEPLOYED: Thu Aug 29 13:17:11 2019\n",
      "NAMESPACE: seldon\n",
      "STATUS: DEPLOYED\n",
      "\n",
      "RESOURCES:\n",
      "==> v1/Pod(related)\n",
      "NAME                   READY  STATUS             RESTARTS  AGE\n",
      "locust-master-1-znncw  0/1    ContainerCreating  0         0s\n",
      "locust-slave-1-hnx8n   0/1    ContainerCreating  0         0s\n",
      "\n",
      "==> v1/ReplicationController\n",
      "NAME             DESIRED  CURRENT  READY  AGE\n",
      "locust-master-1  1        1        0      0s\n",
      "locust-slave-1   1        1        0      0s\n",
      "\n",
      "==> v1/Service\n",
      "NAME             TYPE      CLUSTER-IP   EXTERNAL-IP  PORT(S)                                       AGE\n",
      "locust-master-1  NodePort  10.0.31.100  <none>       5557:32552/TCP,5558:32023/TCP,8089:32677/TCP  0s\n",
      "\n",
      "\n"
     ]
    }
   ],
   "source": [
    "!helm install ../../../helm-charts/seldon-core-loadtesting --name loadtest  \\\n",
    "    --set locust.host=http://seldon-model-test-deployment-example:8000 \\\n",
    "    --set oauth.enabled=false \\\n",
    "    --set oauth.key=oauth-key \\\n",
    "    --set oauth.secret=oauth-secret \\\n",
    "    --set locust.hatchRate=1 \\\n",
    "    --set locust.clients=1 \\\n",
    "    --set loadtest.sendFeedback=0 \\\n",
    "    --set locust.minWait=0 \\\n",
    "    --set locust.maxWait=0 \\\n",
    "    --set replicaCount=1"
   ]
  },
  {
   "cell_type": "markdown",
   "metadata": {},
   "source": [
    "After a few mins you should see the deployment `my-dep` scaled to 3 deployments"
   ]
  },
  {
   "cell_type": "code",
   "execution_count": 16,
   "metadata": {},
   "outputs": [
    {
     "name": "stdout",
     "output_type": "stream",
     "text": [
      "NAME                                                   READY   STATUS    RESTARTS   AGE\r\n",
      "pod/ambassador-684d6f8cd9-cfxwc                        1/1     Running   0          10m\r\n",
      "pod/ambassador-684d6f8cd9-lxwcd                        1/1     Running   0          10m\r\n",
      "pod/ambassador-684d6f8cd9-ncv8b                        1/1     Running   0          10m\r\n",
      "pod/locust-master-1-znncw                              1/1     Running   0          3m13s\r\n",
      "pod/locust-slave-1-hnx8n                               1/1     Running   0          3m13s\r\n",
      "pod/test-deployment-example-7cd068f-6cc64774ff-dtqwv   2/2     Running   0          2m40s\r\n",
      "pod/test-deployment-example-7cd068f-6cc64774ff-gdkb8   2/2     Running   0          8m57s\r\n",
      "pod/test-deployment-example-7cd068f-6cc64774ff-l4mn5   2/2     Running   0          5m11s\r\n",
      "\r\n",
      "NAME                                                    DESIRED   CURRENT   UP-TO-DATE   AVAILABLE   AGE\r\n",
      "deployment.extensions/ambassador                        3         3         3            3           10m\r\n",
      "deployment.extensions/test-deployment-example-7cd068f   3         3         3            3           8m57s\r\n",
      "\r\n",
      "NAME                                                                  REFERENCE                                    TARGETS   MINPODS   MAXPODS   REPLICAS   AGE\r\n",
      "horizontalpodautoscaler.autoscaling/test-deployment-example-7cd068f   Deployment/test-deployment-example-7cd068f   51%/10%   1         3         3          8m57s\r\n"
     ]
    }
   ],
   "source": [
    "!kubectl get pods,deployments,hpa"
   ]
  },
  {
   "cell_type": "markdown",
   "metadata": {},
   "source": [
    "## Remove Load\n",
    "After 5-10 mins you should see the deployments replicas decrease to 1"
   ]
  },
  {
   "cell_type": "code",
   "execution_count": 17,
   "metadata": {},
   "outputs": [
    {
     "name": "stdout",
     "output_type": "stream",
     "text": [
      "release \"loadtest\" deleted\r\n"
     ]
    }
   ],
   "source": [
    "!helm delete loadtest --purge"
   ]
  },
  {
   "cell_type": "code",
   "execution_count": 19,
   "metadata": {},
   "outputs": [
    {
     "name": "stdout",
     "output_type": "stream",
     "text": [
      "NAME                                                   READY   STATUS    RESTARTS   AGE\r\n",
      "pod/ambassador-684d6f8cd9-cfxwc                        1/1     Running   0          16m\r\n",
      "pod/ambassador-684d6f8cd9-lxwcd                        1/1     Running   0          16m\r\n",
      "pod/ambassador-684d6f8cd9-ncv8b                        1/1     Running   0          16m\r\n",
      "pod/test-deployment-example-7cd068f-6cc64774ff-gdkb8   2/2     Running   0          15m\r\n",
      "\r\n",
      "NAME                                                    DESIRED   CURRENT   UP-TO-DATE   AVAILABLE   AGE\r\n",
      "deployment.extensions/ambassador                        3         3         3            3           16m\r\n",
      "deployment.extensions/test-deployment-example-7cd068f   1         1         1            1           15m\r\n",
      "\r\n",
      "NAME                                                                  REFERENCE                                    TARGETS   MINPODS   MAXPODS   REPLICAS   AGE\r\n",
      "horizontalpodautoscaler.autoscaling/test-deployment-example-7cd068f   Deployment/test-deployment-example-7cd068f   1%/10%    1         3         1          15m\r\n"
     ]
    }
   ],
   "source": [
    "!kubectl get pods,deployments,hpa"
   ]
  },
  {
   "cell_type": "code",
   "execution_count": null,
   "metadata": {},
   "outputs": [],
   "source": []
  }
 ],
 "metadata": {
  "anaconda-cloud": {},
  "kernelspec": {
   "display_name": "Python 3",
   "language": "python",
   "name": "python3"
  },
  "language_info": {
   "codemirror_mode": {
    "name": "ipython",
    "version": 3
   },
   "file_extension": ".py",
   "mimetype": "text/x-python",
   "name": "python",
   "nbconvert_exporter": "python",
   "pygments_lexer": "ipython3",
   "version": "3.7.5"
  },
  "varInspector": {
   "cols": {
    "lenName": 16,
    "lenType": 16,
    "lenVar": 40
   },
   "kernels_config": {
    "python": {
     "delete_cmd_postfix": "",
     "delete_cmd_prefix": "del ",
     "library": "var_list.py",
     "varRefreshCmd": "print(var_dic_list())"
    },
    "r": {
     "delete_cmd_postfix": ") ",
     "delete_cmd_prefix": "rm(",
     "library": "var_list.r",
     "varRefreshCmd": "cat(var_dic_list()) "
    }
   },
   "types_to_exclude": [
    "module",
    "function",
    "builtin_function_or_method",
    "instance",
    "_Feature"
   ],
   "window_display": false
  }
 },
 "nbformat": 4,
 "nbformat_minor": 1
}
