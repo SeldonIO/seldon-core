{
 "cells": [
  {
   "cell_type": "markdown",
   "metadata": {},
   "source": [
    "# Autoscaling Seldon Deployments\n"
   ]
  },
  {
   "cell_type": "markdown",
   "metadata": {},
   "source": [
    "## Prerequisites\n",
    " \n",
    "- The cluster should have `metric-server` running in the `kube-system` namespace\n",
    "- For Kind install `../../testing/scripts/metrics.yaml` See https://github.com/kubernetes-sigs/kind/issues/398\n",
    "- For Minikube run:\n",
    "    \n",
    "    ```\n",
    "    minikube addons enable metrics-server\n",
    "    ```\n",
    "    "
   ]
  },
  {
   "cell_type": "markdown",
   "metadata": {},
   "source": [
    "## Setup Seldon Core\n",
    "\n",
    "Use the setup notebook to [Setup Cluster](https://docs.seldon.io/projects/seldon-core/en/latest/examples/seldon_core_setup.html#Setup-Cluster) with [Ambassador Ingress](https://docs.seldon.io/projects/seldon-core/en/latest/examples/seldon_core_setup.html#Ambassador) and [Install Seldon Core](https://docs.seldon.io/projects/seldon-core/en/latest/examples/seldon_core_setup.html#Install-Seldon-Core). Instructions [also online](https://docs.seldon.io/projects/seldon-core/en/latest/examples/seldon_core_setup.html)."
   ]
  },
  {
   "cell_type": "code",
   "execution_count": 1,
   "metadata": {},
   "outputs": [
    {
     "name": "stdout",
     "output_type": "stream",
     "text": [
      "Error from server (AlreadyExists): namespaces \"seldon\" already exists\r\n"
     ]
    }
   ],
   "source": [
    "!kubectl create namespace seldon"
   ]
  },
  {
   "cell_type": "code",
   "execution_count": 2,
   "metadata": {},
   "outputs": [
    {
     "name": "stdout",
     "output_type": "stream",
     "text": [
      "Context \"kind-ansible\" modified.\r\n"
     ]
    }
   ],
   "source": [
    "!kubectl config set-context $(kubectl config current-context) --namespace=seldon"
   ]
  },
  {
   "cell_type": "markdown",
   "metadata": {},
   "source": [
    "## Create model with v2beta1 autoscaler\n",
    "\n",
    "To create a model with an HorizontalPodAutoscaler there are three steps:\n",
    "\n",
    "\n",
    "  1. Ensure you have a resource request for the metric you want to scale on if it is a standard metric such as cpu or memory, e.g.:\n",
    "  \n",
    "```\n",
    "          resources:\n",
    "            requests:\n",
    "              cpu: '0.5'\n",
    "     \n",
    "```\n",
    "     \n",
    "  1. Add an v2beta1 HPA Spec referring to this Deployment, e.g.:\n",
    "  \n",
    "```\n",
    "    - hpaSpec:\n",
    "        maxReplicas: 3\n",
    "        minReplicas: 1\n",
    "        metrics:\n",
    "        - resource:\n",
    "            name: cpu\n",
    "            targetAverageUtilization: 10\n",
    "          type: Resource\n",
    "\n",
    "```\n",
    "\n",
    "The full SeldonDeployment spec is shown below."
   ]
  },
  {
   "cell_type": "code",
   "execution_count": 5,
   "metadata": {},
   "outputs": [
    {
     "name": "stdout",
     "output_type": "stream",
     "text": [
      "\u001b[38;2;0;128;0;01mapiVersion\u001b[39;00m:\u001b[38;2;187;187;187m \u001b[39mmachinelearning.seldon.io/v1\r\n",
      "\u001b[38;2;0;128;0;01mkind\u001b[39;00m:\u001b[38;2;187;187;187m \u001b[39mSeldonDeployment\r\n",
      "\u001b[38;2;0;128;0;01mmetadata\u001b[39;00m:\r\n",
      "\u001b[38;2;187;187;187m  \u001b[39m\u001b[38;2;0;128;0;01mname\u001b[39;00m:\u001b[38;2;187;187;187m \u001b[39mseldon-model\r\n",
      "\u001b[38;2;0;128;0;01mspec\u001b[39;00m:\r\n",
      "\u001b[38;2;187;187;187m  \u001b[39m\u001b[38;2;0;128;0;01mname\u001b[39;00m:\u001b[38;2;187;187;187m \u001b[39mtest-deployment\r\n",
      "\u001b[38;2;187;187;187m  \u001b[39m\u001b[38;2;0;128;0;01mpredictors\u001b[39;00m:\r\n",
      "\u001b[38;2;187;187;187m  \u001b[39m-\u001b[38;2;187;187;187m \u001b[39m\u001b[38;2;0;128;0;01mcomponentSpecs\u001b[39;00m:\r\n",
      "\u001b[38;2;187;187;187m    \u001b[39m-\u001b[38;2;187;187;187m \u001b[39m\u001b[38;2;0;128;0;01mhpaSpec\u001b[39;00m:\r\n",
      "\u001b[38;2;187;187;187m        \u001b[39m\u001b[38;2;0;128;0;01mmaxReplicas\u001b[39;00m:\u001b[38;2;187;187;187m \u001b[39m3\r\n",
      "\u001b[38;2;187;187;187m        \u001b[39m\u001b[38;2;0;128;0;01mmetrics\u001b[39;00m:\r\n",
      "\u001b[38;2;187;187;187m        \u001b[39m-\u001b[38;2;187;187;187m \u001b[39m\u001b[38;2;0;128;0;01mresource\u001b[39;00m:\r\n",
      "\u001b[38;2;187;187;187m            \u001b[39m\u001b[38;2;0;128;0;01mname\u001b[39;00m:\u001b[38;2;187;187;187m \u001b[39mcpu\r\n",
      "\u001b[38;2;187;187;187m            \u001b[39m\u001b[38;2;0;128;0;01mtargetAverageUtilization\u001b[39;00m:\u001b[38;2;187;187;187m \u001b[39m10\r\n",
      "\u001b[38;2;187;187;187m          \u001b[39m\u001b[38;2;0;128;0;01mtype\u001b[39;00m:\u001b[38;2;187;187;187m \u001b[39mResource\r\n",
      "\u001b[38;2;187;187;187m        \u001b[39m\u001b[38;2;0;128;0;01mminReplicas\u001b[39;00m:\u001b[38;2;187;187;187m \u001b[39m1\r\n",
      "\u001b[38;2;187;187;187m      \u001b[39m\u001b[38;2;0;128;0;01mspec\u001b[39;00m:\r\n",
      "\u001b[38;2;187;187;187m        \u001b[39m\u001b[38;2;0;128;0;01mcontainers\u001b[39;00m:\r\n",
      "\u001b[38;2;187;187;187m        \u001b[39m-\u001b[38;2;187;187;187m \u001b[39m\u001b[38;2;0;128;0;01mimage\u001b[39;00m:\u001b[38;2;187;187;187m \u001b[39mseldonio/mock_classifier:1.5.0-dev\r\n",
      "\u001b[38;2;187;187;187m          \u001b[39m\u001b[38;2;0;128;0;01mimagePullPolicy\u001b[39;00m:\u001b[38;2;187;187;187m \u001b[39mIfNotPresent\r\n",
      "\u001b[38;2;187;187;187m          \u001b[39m\u001b[38;2;0;128;0;01mname\u001b[39;00m:\u001b[38;2;187;187;187m \u001b[39mclassifier\r\n",
      "\u001b[38;2;187;187;187m          \u001b[39m\u001b[38;2;0;128;0;01mresources\u001b[39;00m:\r\n",
      "\u001b[38;2;187;187;187m            \u001b[39m\u001b[38;2;0;128;0;01mrequests\u001b[39;00m:\r\n",
      "\u001b[38;2;187;187;187m              \u001b[39m\u001b[38;2;0;128;0;01mcpu\u001b[39;00m:\u001b[38;2;187;187;187m \u001b[39m\u001b[38;2;186;33;33m'\u001b[39m\u001b[38;2;186;33;33m0.5\u001b[39m\u001b[38;2;186;33;33m'\u001b[39m\r\n",
      "\u001b[38;2;187;187;187m        \u001b[39m\u001b[38;2;0;128;0;01mterminationGracePeriodSeconds\u001b[39;00m:\u001b[38;2;187;187;187m \u001b[39m1\r\n",
      "\u001b[38;2;187;187;187m    \u001b[39m\u001b[38;2;0;128;0;01mgraph\u001b[39;00m:\r\n",
      "\u001b[38;2;187;187;187m      \u001b[39m\u001b[38;2;0;128;0;01mchildren\u001b[39;00m:\u001b[38;2;187;187;187m \u001b[39m[]\r\n",
      "\u001b[38;2;187;187;187m      \u001b[39m\u001b[38;2;0;128;0;01mname\u001b[39;00m:\u001b[38;2;187;187;187m \u001b[39mclassifier\r\n",
      "\u001b[38;2;187;187;187m      \u001b[39m\u001b[38;2;0;128;0;01mtype\u001b[39;00m:\u001b[38;2;187;187;187m \u001b[39mMODEL\r\n",
      "\u001b[38;2;187;187;187m    \u001b[39m\u001b[38;2;0;128;0;01mname\u001b[39;00m:\u001b[38;2;187;187;187m \u001b[39mexample\r\n"
     ]
    }
   ],
   "source": [
    "!pygmentize model_with_hpa_v2beta1.yaml"
   ]
  },
  {
   "cell_type": "code",
   "execution_count": 6,
   "metadata": {},
   "outputs": [
    {
     "name": "stdout",
     "output_type": "stream",
     "text": [
      "seldondeployment.machinelearning.seldon.io/seldon-model created\r\n"
     ]
    }
   ],
   "source": [
    "!kubectl create -f model_with_hpa_v2beta1.yaml"
   ]
  },
  {
   "cell_type": "code",
   "execution_count": 7,
   "metadata": {},
   "outputs": [
    {
     "name": "stdout",
     "output_type": "stream",
     "text": [
      "Waiting for deployment \"seldon-model-example-0-classifier\" rollout to finish: 0 of 1 updated replicas are available...\n",
      "deployment \"seldon-model-example-0-classifier\" successfully rolled out\n"
     ]
    }
   ],
   "source": [
    "!kubectl rollout status deploy/$(kubectl get deploy -l seldon-deployment-id=seldon-model -o jsonpath='{.items[0].metadata.name}')"
   ]
  },
  {
   "cell_type": "markdown",
   "metadata": {},
   "source": [
    "### Create Load\n",
    "\n",
    "We label some nodes for the loadtester. We attempt the first two as for Kind the first node shown will be the master."
   ]
  },
  {
   "cell_type": "code",
   "execution_count": 9,
   "metadata": {},
   "outputs": [
    {
     "name": "stdout",
     "output_type": "stream",
     "text": [
      "node/ansible-control-plane not labeled\r\n"
     ]
    }
   ],
   "source": [
    "!kubectl label nodes $(kubectl get nodes -o jsonpath='{.items[0].metadata.name}') role=locust"
   ]
  },
  {
   "cell_type": "code",
   "execution_count": 10,
   "metadata": {},
   "outputs": [
    {
     "name": "stdout",
     "output_type": "stream",
     "text": [
      "NAME: loadtester\r\n",
      "LAST DEPLOYED: Sat Mar  4 09:13:46 2023\r\n",
      "NAMESPACE: seldon\r\n",
      "STATUS: deployed\r\n",
      "REVISION: 1\r\n",
      "TEST SUITE: None\r\n"
     ]
    }
   ],
   "source": [
    "!helm install loadtester ../../../helm-charts/seldon-core-loadtesting  \\\n",
    "    --set locust.host=http://seldon-model-example:8000 \\\n",
    "    --set oauth.enabled=false \\\n",
    "    --set locust.hatchRate=1 \\\n",
    "    --set locust.clients=1 \\\n",
    "    --set loadtest.sendFeedback=0 \\\n",
    "    --set locust.minWait=0 \\\n",
    "    --set locust.maxWait=0 \\\n",
    "    --set replicaCount=1"
   ]
  },
  {
   "cell_type": "markdown",
   "metadata": {},
   "source": [
    "After a few mins you should see the deployment `my-dep` scaled to 3 deployments"
   ]
  },
  {
   "cell_type": "code",
   "execution_count": 11,
   "metadata": {},
   "outputs": [
    {
     "name": "stdout",
     "output_type": "stream",
     "text": [
      "3\n"
     ]
    }
   ],
   "source": [
    "import json\n",
    "import time\n",
    "\n",
    "\n",
    "def getNumberPods():\n",
    "    dp = !kubectl get deployment seldon-model-example-0-classifier -o json\n",
    "    dp = json.loads(\"\".join(dp))\n",
    "    return dp[\"status\"][\"replicas\"]\n",
    "\n",
    "\n",
    "scaled = False\n",
    "for i in range(60):\n",
    "    pods = getNumberPods()\n",
    "    print(pods)\n",
    "    if pods > 1:\n",
    "        scaled = True\n",
    "        break\n",
    "    time.sleep(5)\n",
    "assert scaled"
   ]
  },
  {
   "cell_type": "code",
   "execution_count": 12,
   "metadata": {},
   "outputs": [
    {
     "name": "stdout",
     "output_type": "stream",
     "text": [
      "NAME                                                     READY   STATUS    RESTARTS   AGE\r\n",
      "pod/locust-master-1-xjplw                                1/1     Running   0          85s\r\n",
      "pod/locust-slave-1-gljjf                                 1/1     Running   0          85s\r\n",
      "pod/seldon-model-example-0-classifier-795b9cc8b6-7jfgp   0/2     Running   0          15s\r\n",
      "pod/seldon-model-example-0-classifier-795b9cc8b6-bqwg9   2/2     Running   0          80m\r\n",
      "pod/seldon-model-example-0-classifier-795b9cc8b6-fms5f   0/2     Running   0          15s\r\n",
      "\r\n",
      "NAME                                                READY   UP-TO-DATE   AVAILABLE   AGE\r\n",
      "deployment.apps/seldon-model-example-0-classifier   1/3     3            1           80m\r\n",
      "\r\n",
      "NAME                                                                    REFERENCE                                      TARGETS   MINPODS   MAXPODS   REPLICAS   AGE\r\n",
      "horizontalpodautoscaler.autoscaling/seldon-model-example-0-classifier   Deployment/seldon-model-example-0-classifier   60%/10%   1         3         1          80m\r\n"
     ]
    }
   ],
   "source": [
    "!kubectl get pods,deployments,hpa"
   ]
  },
  {
   "cell_type": "code",
   "execution_count": 13,
   "metadata": {},
   "outputs": [
    {
     "name": "stdout",
     "output_type": "stream",
     "text": [
      "release \"loadtester\" uninstalled\r\n"
     ]
    }
   ],
   "source": [
    "!helm delete loadtester -n seldon"
   ]
  },
  {
   "cell_type": "code",
   "execution_count": 14,
   "metadata": {},
   "outputs": [
    {
     "name": "stdout",
     "output_type": "stream",
     "text": [
      "seldondeployment.machinelearning.seldon.io \"seldon-model\" deleted\r\n"
     ]
    }
   ],
   "source": [
    "!kubectl delete -f model_with_hpa_v2beta1.yaml"
   ]
  },
  {
   "cell_type": "markdown",
   "metadata": {},
   "source": [
    "## Create model with v2 autoscaler\n",
    "\n",
    "To create a model with an HorizontalPodAutoscaler there are three steps:\n",
    "\n",
    "\n",
    "  1. Ensure you have a resource request for the metric you want to scale on if it is a standard metric such as cpu or memory, e.g.:\n",
    "  \n",
    "```\n",
    "          resources:\n",
    "            requests:\n",
    "              cpu: '0.5'\n",
    "     \n",
    "```\n",
    "     \n",
    "  1. Add an v2beta1 HPA Spec referring to this Deployment, e.g.:\n",
    "  \n",
    "```\n",
    "    - hpaSpec:\n",
    "        maxReplicas: 3\n",
    "        minReplicas: 1\n",
    "        metricsv2:\n",
    "        - resource:\n",
    "            name: cpu\n",
    "            target:\n",
    "              type: Utilization\n",
    "              averageUtilization: 10\n",
    "          type: Resource\n",
    "```\n",
    "\n",
    "The full SeldonDeployment spec is shown below."
   ]
  },
  {
   "cell_type": "code",
   "execution_count": 16,
   "metadata": {},
   "outputs": [
    {
     "name": "stdout",
     "output_type": "stream",
     "text": [
      "\u001b[38;2;0;128;0;01mapiVersion\u001b[39;00m:\u001b[38;2;187;187;187m \u001b[39mmachinelearning.seldon.io/v1\r\n",
      "\u001b[38;2;0;128;0;01mkind\u001b[39;00m:\u001b[38;2;187;187;187m \u001b[39mSeldonDeployment\r\n",
      "\u001b[38;2;0;128;0;01mmetadata\u001b[39;00m:\r\n",
      "\u001b[38;2;187;187;187m  \u001b[39m\u001b[38;2;0;128;0;01mname\u001b[39;00m:\u001b[38;2;187;187;187m \u001b[39mseldon-model\r\n",
      "\u001b[38;2;0;128;0;01mspec\u001b[39;00m:\r\n",
      "\u001b[38;2;187;187;187m  \u001b[39m\u001b[38;2;0;128;0;01mname\u001b[39;00m:\u001b[38;2;187;187;187m \u001b[39mtest-deployment\r\n",
      "\u001b[38;2;187;187;187m  \u001b[39m\u001b[38;2;0;128;0;01mpredictors\u001b[39;00m:\r\n",
      "\u001b[38;2;187;187;187m  \u001b[39m-\u001b[38;2;187;187;187m \u001b[39m\u001b[38;2;0;128;0;01mcomponentSpecs\u001b[39;00m:\r\n",
      "\u001b[38;2;187;187;187m    \u001b[39m-\u001b[38;2;187;187;187m \u001b[39m\u001b[38;2;0;128;0;01mhpaSpec\u001b[39;00m:\r\n",
      "\u001b[38;2;187;187;187m        \u001b[39m\u001b[38;2;0;128;0;01mmaxReplicas\u001b[39;00m:\u001b[38;2;187;187;187m \u001b[39m3\r\n",
      "\u001b[38;2;187;187;187m        \u001b[39m\u001b[38;2;0;128;0;01mmetricsv2\u001b[39;00m:\r\n",
      "\u001b[38;2;187;187;187m        \u001b[39m-\u001b[38;2;187;187;187m \u001b[39m\u001b[38;2;0;128;0;01mresource\u001b[39;00m:\r\n",
      "\u001b[38;2;187;187;187m            \u001b[39m\u001b[38;2;0;128;0;01mname\u001b[39;00m:\u001b[38;2;187;187;187m \u001b[39mcpu\r\n",
      "\u001b[38;2;187;187;187m            \u001b[39m\u001b[38;2;0;128;0;01mtarget\u001b[39;00m:\r\n",
      "\u001b[38;2;187;187;187m              \u001b[39m\u001b[38;2;0;128;0;01mtype\u001b[39;00m:\u001b[38;2;187;187;187m \u001b[39mUtilization\r\n",
      "\u001b[38;2;187;187;187m              \u001b[39m\u001b[38;2;0;128;0;01maverageUtilization\u001b[39;00m:\u001b[38;2;187;187;187m \u001b[39m10\r\n",
      "\u001b[38;2;187;187;187m          \u001b[39m\u001b[38;2;0;128;0;01mtype\u001b[39;00m:\u001b[38;2;187;187;187m \u001b[39mResource\r\n",
      "\u001b[38;2;187;187;187m        \u001b[39m\u001b[38;2;0;128;0;01mminReplicas\u001b[39;00m:\u001b[38;2;187;187;187m \u001b[39m1\r\n",
      "\u001b[38;2;187;187;187m      \u001b[39m\u001b[38;2;0;128;0;01mspec\u001b[39;00m:\r\n",
      "\u001b[38;2;187;187;187m        \u001b[39m\u001b[38;2;0;128;0;01mcontainers\u001b[39;00m:\r\n",
      "\u001b[38;2;187;187;187m        \u001b[39m-\u001b[38;2;187;187;187m \u001b[39m\u001b[38;2;0;128;0;01mimage\u001b[39;00m:\u001b[38;2;187;187;187m \u001b[39mseldonio/mock_classifier:1.5.0-dev\r\n",
      "\u001b[38;2;187;187;187m          \u001b[39m\u001b[38;2;0;128;0;01mimagePullPolicy\u001b[39;00m:\u001b[38;2;187;187;187m \u001b[39mIfNotPresent\r\n",
      "\u001b[38;2;187;187;187m          \u001b[39m\u001b[38;2;0;128;0;01mname\u001b[39;00m:\u001b[38;2;187;187;187m \u001b[39mclassifier\r\n",
      "\u001b[38;2;187;187;187m          \u001b[39m\u001b[38;2;0;128;0;01mresources\u001b[39;00m:\r\n",
      "\u001b[38;2;187;187;187m            \u001b[39m\u001b[38;2;0;128;0;01mrequests\u001b[39;00m:\r\n",
      "\u001b[38;2;187;187;187m              \u001b[39m\u001b[38;2;0;128;0;01mcpu\u001b[39;00m:\u001b[38;2;187;187;187m \u001b[39m\u001b[38;2;186;33;33m'\u001b[39m\u001b[38;2;186;33;33m0.5\u001b[39m\u001b[38;2;186;33;33m'\u001b[39m\r\n",
      "\u001b[38;2;187;187;187m        \u001b[39m\u001b[38;2;0;128;0;01mterminationGracePeriodSeconds\u001b[39;00m:\u001b[38;2;187;187;187m \u001b[39m1\r\n",
      "\u001b[38;2;187;187;187m    \u001b[39m\u001b[38;2;0;128;0;01mgraph\u001b[39;00m:\r\n",
      "\u001b[38;2;187;187;187m      \u001b[39m\u001b[38;2;0;128;0;01mchildren\u001b[39;00m:\u001b[38;2;187;187;187m \u001b[39m[]\r\n",
      "\u001b[38;2;187;187;187m      \u001b[39m\u001b[38;2;0;128;0;01mname\u001b[39;00m:\u001b[38;2;187;187;187m \u001b[39mclassifier\r\n",
      "\u001b[38;2;187;187;187m      \u001b[39m\u001b[38;2;0;128;0;01mtype\u001b[39;00m:\u001b[38;2;187;187;187m \u001b[39mMODEL\r\n",
      "\u001b[38;2;187;187;187m    \u001b[39m\u001b[38;2;0;128;0;01mname\u001b[39;00m:\u001b[38;2;187;187;187m \u001b[39mexample\r\n"
     ]
    }
   ],
   "source": [
    "!pygmentize model_with_hpa_v2.yaml"
   ]
  },
  {
   "cell_type": "code",
   "execution_count": 17,
   "metadata": {},
   "outputs": [
    {
     "name": "stdout",
     "output_type": "stream",
     "text": [
      "seldondeployment.machinelearning.seldon.io/seldon-model created\r\n"
     ]
    }
   ],
   "source": [
    "!kubectl create -f model_with_hpa_v2.yaml"
   ]
  },
  {
   "cell_type": "code",
   "execution_count": 18,
   "metadata": {},
   "outputs": [
    {
     "name": "stdout",
     "output_type": "stream",
     "text": [
      "Waiting for deployment \"seldon-model-example-0-classifier\" rollout to finish: 0 of 1 updated replicas are available...\n",
      "deployment \"seldon-model-example-0-classifier\" successfully rolled out\n"
     ]
    }
   ],
   "source": [
    "!kubectl rollout status deploy/$(kubectl get deploy -l seldon-deployment-id=seldon-model -o jsonpath='{.items[0].metadata.name}')"
   ]
  },
  {
   "cell_type": "markdown",
   "metadata": {},
   "source": [
    "### Create Load\n",
    "\n",
    "We label some nodes for the loadtester. We attempt the first two as for Kind the first node shown will be the master."
   ]
  },
  {
   "cell_type": "code",
   "execution_count": 19,
   "metadata": {},
   "outputs": [
    {
     "name": "stdout",
     "output_type": "stream",
     "text": [
      "node/ansible-control-plane not labeled\r\n"
     ]
    }
   ],
   "source": [
    "!kubectl label nodes $(kubectl get nodes -o jsonpath='{.items[0].metadata.name}') role=locust"
   ]
  },
  {
   "cell_type": "code",
   "execution_count": 20,
   "metadata": {},
   "outputs": [
    {
     "name": "stdout",
     "output_type": "stream",
     "text": [
      "NAME: loadtester\r\n",
      "LAST DEPLOYED: Sat Mar  4 09:20:04 2023\r\n",
      "NAMESPACE: seldon\r\n",
      "STATUS: deployed\r\n",
      "REVISION: 1\r\n",
      "TEST SUITE: None\r\n"
     ]
    }
   ],
   "source": [
    "!helm install loadtester ../../../helm-charts/seldon-core-loadtesting  \\\n",
    "    --set locust.host=http://seldon-model-example:8000 \\\n",
    "    --set oauth.enabled=false \\\n",
    "    --set locust.hatchRate=1 \\\n",
    "    --set locust.clients=1 \\\n",
    "    --set loadtest.sendFeedback=0 \\\n",
    "    --set locust.minWait=0 \\\n",
    "    --set locust.maxWait=0 \\\n",
    "    --set replicaCount=1"
   ]
  },
  {
   "cell_type": "markdown",
   "metadata": {},
   "source": [
    "After a few mins you should see the deployment `my-dep` scaled to 3 deployments"
   ]
  },
  {
   "cell_type": "code",
   "execution_count": 21,
   "metadata": {},
   "outputs": [
    {
     "name": "stdout",
     "output_type": "stream",
     "text": [
      "1\n",
      "1\n",
      "1\n",
      "1\n",
      "1\n",
      "1\n",
      "3\n"
     ]
    }
   ],
   "source": [
    "import json\n",
    "import time\n",
    "\n",
    "\n",
    "def getNumberPods():\n",
    "    dp = !kubectl get deployment seldon-model-example-0-classifier -o json\n",
    "    dp = json.loads(\"\".join(dp))\n",
    "    return dp[\"status\"][\"replicas\"]\n",
    "\n",
    "\n",
    "scaled = False\n",
    "for i in range(60):\n",
    "    pods = getNumberPods()\n",
    "    print(pods)\n",
    "    if pods > 1:\n",
    "        scaled = True\n",
    "        break\n",
    "    time.sleep(5)\n",
    "assert scaled"
   ]
  },
  {
   "cell_type": "code",
   "execution_count": 22,
   "metadata": {},
   "outputs": [
    {
     "name": "stdout",
     "output_type": "stream",
     "text": [
      "NAME                                                     READY   STATUS    RESTARTS   AGE\r\n",
      "pod/locust-master-1-qhvt6                                1/1     Running   0          11m\r\n",
      "pod/locust-slave-1-gnz8h                                 1/1     Running   0          11m\r\n",
      "pod/seldon-model-example-0-classifier-5f6445c99c-6t42q   2/2     Running   0          10m\r\n",
      "pod/seldon-model-example-0-classifier-5f6445c99c-fqfd9   2/2     Running   0          10m\r\n",
      "pod/seldon-model-example-0-classifier-5f6445c99c-s4wrv   2/2     Running   0          11m\r\n",
      "\r\n",
      "NAME                                                READY   UP-TO-DATE   AVAILABLE   AGE\r\n",
      "deployment.apps/seldon-model-example-0-classifier   3/3     3            3           11m\r\n",
      "\r\n",
      "NAME                                                                    REFERENCE                                      TARGETS   MINPODS   MAXPODS   REPLICAS   AGE\r\n",
      "horizontalpodautoscaler.autoscaling/seldon-model-example-0-classifier   Deployment/seldon-model-example-0-classifier   21%/10%   1         3         3          11m\r\n"
     ]
    }
   ],
   "source": [
    "!kubectl get pods,deployments,hpa"
   ]
  },
  {
   "cell_type": "code",
   "execution_count": 23,
   "metadata": {},
   "outputs": [
    {
     "name": "stdout",
     "output_type": "stream",
     "text": [
      "release \"loadtester\" uninstalled\r\n"
     ]
    }
   ],
   "source": [
    "!helm delete loadtester -n seldon"
   ]
  },
  {
   "cell_type": "code",
   "execution_count": 24,
   "metadata": {},
   "outputs": [
    {
     "name": "stdout",
     "output_type": "stream",
     "text": [
      "seldondeployment.machinelearning.seldon.io \"seldon-model\" deleted\r\n"
     ]
    }
   ],
   "source": [
    "!kubectl delete -f model_with_hpa_v2.yaml"
   ]
  }
 ],
 "metadata": {
  "anaconda-cloud": {},
  "kernelspec": {
   "display_name": "Python 3 (ipykernel)",
   "language": "python",
   "name": "python3"
  },
  "language_info": {
   "codemirror_mode": {
    "name": "ipython",
    "version": 3
   },
   "file_extension": ".py",
   "mimetype": "text/x-python",
   "name": "python",
   "nbconvert_exporter": "python",
   "pygments_lexer": "ipython3",
   "version": "3.9.13"
  },
  "varInspector": {
   "cols": {
    "lenName": 16,
    "lenType": 16,
    "lenVar": 40
   },
   "kernels_config": {
    "python": {
     "delete_cmd_postfix": "",
     "delete_cmd_prefix": "del ",
     "library": "var_list.py",
     "varRefreshCmd": "print(var_dic_list())"
    },
    "r": {
     "delete_cmd_postfix": ") ",
     "delete_cmd_prefix": "rm(",
     "library": "var_list.r",
     "varRefreshCmd": "cat(var_dic_list()) "
    }
   },
   "types_to_exclude": [
    "module",
    "function",
    "builtin_function_or_method",
    "instance",
    "_Feature"
   ],
   "window_display": false
  }
 },
 "nbformat": 4,
 "nbformat_minor": 1
}
