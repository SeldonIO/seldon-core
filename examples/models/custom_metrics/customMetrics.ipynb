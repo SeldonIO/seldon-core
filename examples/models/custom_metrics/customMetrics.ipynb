{
 "cells": [
  {
   "cell_type": "markdown",
   "metadata": {},
   "source": [
    "# Basic Examples with Different Protocols\n",
    "\n",
    "## Prerequisites\n",
    "\n",
    " * A kubernetes cluster with kubectl configured\n",
    " * curl\n",
    " * grpcurl\n",
    " * pygmentize\n",
    " \n",
    "\n",
    "## Setup Seldon Core\n",
    "\n",
    "Use the setup notebook to [Setup Cluster](https://docs.seldon.io/projects/seldon-core/en/latest/examples/seldon_core_setup.html) to setup Seldon Core with an ingress - either Ambassador or Istio.\n",
    "\n",
    "Then port-forward to that ingress on localhost:8003 in a separate terminal either with:\n",
    "\n",
    " * Ambassador: `kubectl port-forward $(kubectl get pods -n seldon -l app.kubernetes.io/name=ambassador -o jsonpath='{.items[0].metadata.name}') -n seldon 8003:8080`\n",
    " * Istio: `kubectl port-forward $(kubectl get pods -l istio=ingressgateway -n istio-system -o jsonpath='{.items[0].metadata.name}') -n istio-system 8003:80`"
   ]
  },
  {
   "cell_type": "markdown",
   "metadata": {},
   "source": [
    "## Install Seldon Analytics"
   ]
  },
  {
   "cell_type": "code",
   "execution_count": 1,
   "metadata": {},
   "outputs": [],
   "source": [
    "import os\n",
    "import json\n",
    "import time\n",
    "from pprint import pprint"
   ]
  },
  {
   "cell_type": "code",
   "execution_count": 2,
   "metadata": {},
   "outputs": [
    {
     "name": "stdout",
     "output_type": "stream",
     "text": [
      "/Users/zyxue/Projects/seldon/seldon-core/helm-charts/seldon-core-analytics\n",
      "NAME: seldon-core-analytics\n",
      "LAST DEPLOYED: Tue Feb  9 14:19:39 2021\n",
      "NAMESPACE: seldon-system\n",
      "STATUS: deployed\n",
      "REVISION: 1\n"
     ]
    }
   ],
   "source": [
    "chart_path = os.path.abspath('../../../helm-charts/seldon-core-analytics')\n",
    "print(chart_path)\n",
    "\n",
    "!helm install seldon-core-analytics {chart_path} -n seldon-system --wait"
   ]
  },
  {
   "cell_type": "code",
   "execution_count": 3,
   "metadata": {},
   "outputs": [
    {
     "name": "stdout",
     "output_type": "stream",
     "text": [
      "namespace/seldon created\r\n"
     ]
    }
   ],
   "source": [
    "!kubectl create namespace seldon"
   ]
  },
  {
   "cell_type": "code",
   "execution_count": 4,
   "metadata": {},
   "outputs": [
    {
     "name": "stdout",
     "output_type": "stream",
     "text": [
      "Context \"minikube\" modified.\r\n"
     ]
    }
   ],
   "source": [
    "!kubectl config set-context $(kubectl config current-context) --namespace=seldon"
   ]
  },
  {
   "cell_type": "markdown",
   "metadata": {},
   "source": [
    "## Custom Metrics"
   ]
  },
  {
   "cell_type": "code",
   "execution_count": 5,
   "metadata": {},
   "outputs": [
    {
     "name": "stdout",
     "output_type": "stream",
     "text": [
      "\u001b[94mapiVersion\u001b[39;49;00m: machinelearning.seldon.io/v1\r\n",
      "\u001b[94mkind\u001b[39;49;00m: SeldonDeployment\r\n",
      "\u001b[94mmetadata\u001b[39;49;00m:\r\n",
      "  \u001b[94mname\u001b[39;49;00m: seldon-model\r\n",
      "\u001b[94mspec\u001b[39;49;00m:\r\n",
      "  \u001b[94mname\u001b[39;49;00m: test-deployment\r\n",
      "  \u001b[94mpredictors\u001b[39;49;00m:\r\n",
      "  - \u001b[94mcomponentSpecs\u001b[39;49;00m:\r\n",
      "    - \u001b[94mspec\u001b[39;49;00m:\r\n",
      "        \u001b[94mcontainers\u001b[39;49;00m:\r\n",
      "        - \u001b[94mimage\u001b[39;49;00m: seldonio/model-with-metrics:0.2\r\n",
      "          \u001b[94mname\u001b[39;49;00m: classifier\r\n",
      "          \u001b[94mimagePullPolicy\u001b[39;49;00m: Never\r\n",
      "    \u001b[94mgraph\u001b[39;49;00m:\r\n",
      "      \u001b[94mchildren\u001b[39;49;00m: []\r\n",
      "      \u001b[94mname\u001b[39;49;00m: classifier\r\n",
      "      \u001b[94mtype\u001b[39;49;00m: MODEL\r\n",
      "    \u001b[94mname\u001b[39;49;00m: example\r\n",
      "    \u001b[94mreplicas\u001b[39;49;00m: 1\r\n"
     ]
    }
   ],
   "source": [
    "!pygmentize model.yaml"
   ]
  },
  {
   "cell_type": "code",
   "execution_count": 6,
   "metadata": {},
   "outputs": [
    {
     "name": "stdout",
     "output_type": "stream",
     "text": [
      "seldondeployment.machinelearning.seldon.io/seldon-model created\r\n"
     ]
    }
   ],
   "source": [
    "!kubectl create -f model.yaml"
   ]
  },
  {
   "cell_type": "code",
   "execution_count": 7,
   "metadata": {},
   "outputs": [
    {
     "name": "stdout",
     "output_type": "stream",
     "text": [
      "Waiting for deployment \"seldon-model-example-0-classifier\" rollout to finish: 0 of 1 updated replicas are available...\n",
      "deployment \"seldon-model-example-0-classifier\" successfully rolled out\n"
     ]
    }
   ],
   "source": [
    "!kubectl rollout status deploy/$(kubectl get deployment -l seldon-deployment-id=seldon-model -o jsonpath='{.items[0].metadata.name}')"
   ]
  },
  {
   "cell_type": "code",
   "execution_count": 10,
   "metadata": {},
   "outputs": [],
   "source": [
    "response_curl=!curl -s -d '{\"data\": {\"ndarray\":[[1.0, 2.0, 5.0]]}}' \\\n",
    "        -X POST http://localhost:8003/seldon/seldon/seldon-model/api/v1.0/predictions \\\n",
    "        -H \"Content-Type: application/json\""
   ]
  },
  {
   "cell_type": "code",
   "execution_count": 11,
   "metadata": {},
   "outputs": [
    {
     "data": {
      "text/plain": [
       "{'data': {'names': ['t:0', 't:1', 't:2'], 'ndarray': [[1.0, 2.0, 5.0]]},\n",
       " 'meta': {'metrics': [{'key': 'mycounter', 'type': 'COUNTER', 'value': 1},\n",
       "   {'key': 'mygauge', 'type': 'GAUGE', 'value': 100},\n",
       "   {'bins': [0, 1, 2],\n",
       "    'key': 'myhistogram',\n",
       "    'type': 'HISTOGRAM',\n",
       "    'value': 0.5},\n",
       "   {'key': 'mytimer', 'type': 'TIMER', 'value': 20.2}],\n",
       "  'requestPath': {'classifier': 'seldonio/model-with-metrics:0.2'}}}"
      ]
     },
     "execution_count": 11,
     "metadata": {},
     "output_type": "execute_result"
    }
   ],
   "source": [
    "assert len(response_curl) == 1\n",
    "response_curl_json = json.loads(response_curl[0])\n",
    "assert len(response_curl_json[\"meta\"][\"metrics\"]) == 4\n",
    "response_curl_json"
   ]
  },
  {
   "cell_type": "code",
   "execution_count": 12,
   "metadata": {},
   "outputs": [
    {
     "name": "stdout",
     "output_type": "stream",
     "text": [
      "Waiting so metrics can be scraped\n"
     ]
    }
   ],
   "source": [
    "print(\"Waiting so metrics can be scraped\")\n",
    "time.sleep(30)"
   ]
  },
  {
   "cell_type": "code",
   "execution_count": 13,
   "metadata": {},
   "outputs": [
    {
     "name": "stdout",
     "output_type": "stream",
     "text": [
      "Overwriting get-metrics.sh\n"
     ]
    }
   ],
   "source": [
    "%%writefile get-metrics.sh\n",
    "\n",
    "kubectl run --quiet=true -it --rm curlmetrics --image=tutum/curl --restart=Never -- \\\n",
    "    curl -s seldon-core-analytics-prometheus-seldon.seldon-system/api/v1/query?query=mycounter_total"
   ]
  },
  {
   "cell_type": "code",
   "execution_count": 14,
   "metadata": {},
   "outputs": [],
   "source": [
    "response_get_metrics =! bash get-metrics.sh"
   ]
  },
  {
   "cell_type": "code",
   "execution_count": 15,
   "metadata": {},
   "outputs": [
    {
     "data": {
      "text/plain": [
       "{'status': 'success',\n",
       " 'data': {'resultType': 'vector',\n",
       "  'result': [{'metric': {'__name__': 'mycounter_total',\n",
       "     'app': 'seldon-model-example-0-classifier',\n",
       "     'app_kubernetes_io_managed_by': 'seldon-core',\n",
       "     'deployment_name': 'seldon-model',\n",
       "     'fluentd': 'true',\n",
       "     'image_name': 'seldonio/model-with-metrics',\n",
       "     'image_version': '0.2',\n",
       "     'instance': '172.17.0.13:6000',\n",
       "     'job': 'kubernetes-pods',\n",
       "     'kubernetes_namespace': 'seldon',\n",
       "     'kubernetes_pod_name': 'seldon-model-example-0-classifier-6794b688d8-t5nxp',\n",
       "     'method': 'predict',\n",
       "     'model_image': 'seldonio/model-with-metrics',\n",
       "     'model_name': 'classifier',\n",
       "     'model_version': '0.2',\n",
       "     'pod_template_hash': '6794b688d8',\n",
       "     'predictor_name': 'example',\n",
       "     'predictor_version': 'example',\n",
       "     'seldon_app': 'seldon-model-example',\n",
       "     'seldon_app_svc': 'seldon-model-example-classifier',\n",
       "     'seldon_deployment_id': 'seldon-model',\n",
       "     'seldon_deployment_name': 'seldon-model',\n",
       "     'seldon_io_default': 'true',\n",
       "     'seldon_io_model': 'true',\n",
       "     'version': 'example',\n",
       "     'worker_id': '36'},\n",
       "    'value': [1612909370.292, '1']}]}}"
      ]
     },
     "execution_count": 15,
     "metadata": {},
     "output_type": "execute_result"
    }
   ],
   "source": [
    "assert len(response_get_metrics) == 1\n",
    "json.loads(response_get_metrics[0])"
   ]
  },
  {
   "cell_type": "code",
   "execution_count": 16,
   "metadata": {},
   "outputs": [
    {
     "data": {
      "text/plain": [
       "{'status': 'success',\n",
       " 'data': {'resultType': 'vector',\n",
       "  'result': [{'metric': {'__name__': 'mycounter_total',\n",
       "     'app': 'seldon-model-example-0-classifier',\n",
       "     'app_kubernetes_io_managed_by': 'seldon-core',\n",
       "     'deployment_name': 'seldon-model',\n",
       "     'fluentd': 'true',\n",
       "     'image_name': 'seldonio/model-with-metrics',\n",
       "     'image_version': '0.2',\n",
       "     'instance': '172.17.0.13:6000',\n",
       "     'job': 'kubernetes-pods',\n",
       "     'kubernetes_namespace': 'seldon',\n",
       "     'kubernetes_pod_name': 'seldon-model-example-0-classifier-6794b688d8-t5nxp',\n",
       "     'method': 'predict',\n",
       "     'model_image': 'seldonio/model-with-metrics',\n",
       "     'model_name': 'classifier',\n",
       "     'model_version': '0.2',\n",
       "     'pod_template_hash': '6794b688d8',\n",
       "     'predictor_name': 'example',\n",
       "     'predictor_version': 'example',\n",
       "     'seldon_app': 'seldon-model-example',\n",
       "     'seldon_app_svc': 'seldon-model-example-classifier',\n",
       "     'seldon_deployment_id': 'seldon-model',\n",
       "     'seldon_deployment_name': 'seldon-model',\n",
       "     'seldon_io_default': 'true',\n",
       "     'seldon_io_model': 'true',\n",
       "     'version': 'example',\n",
       "     'worker_id': '36'},\n",
       "    'value': [1612909370.292, '1']}]}}"
      ]
     },
     "execution_count": 16,
     "metadata": {},
     "output_type": "execute_result"
    }
   ],
   "source": [
    "response_get_metrics_json = json.loads(response_get_metrics[0])\n",
    "assert response_get_metrics_json[\"data\"][\"result\"][0][\"metric\"][\"__name__\"] == \"mycounter_total\"\n",
    "response_get_metrics_json"
   ]
  },
  {
   "cell_type": "code",
   "execution_count": 17,
   "metadata": {},
   "outputs": [],
   "source": [
    "response_grpccurl = !cd ../../../executor/proto && grpcurl -d '{\"data\":{\"ndarray\":[[1.0,2.0,5.0]]}}' \\\n",
    "         -rpc-header seldon:seldon-model -rpc-header namespace:seldon \\\n",
    "         -plaintext \\\n",
    "         -proto ./prediction.proto  0.0.0.0:8003 seldon.protos.Seldon/Predict"
   ]
  },
  {
   "cell_type": "code",
   "execution_count": 18,
   "metadata": {},
   "outputs": [
    {
     "data": {
      "text/plain": [
       "['{',\n",
       " '  \"meta\": {',\n",
       " '    \"requestPath\": {',\n",
       " '      \"classifier\": \"seldonio/model-with-metrics:0.2\"',\n",
       " '    },',\n",
       " '    \"metrics\": [',\n",
       " '      {',\n",
       " '        \"key\": \"mycounter\",',\n",
       " '        \"value\": 1',\n",
       " '      },',\n",
       " '      {',\n",
       " '        \"key\": \"mygauge\",',\n",
       " '        \"type\": \"GAUGE\",',\n",
       " '        \"value\": 100',\n",
       " '      },',\n",
       " '      {',\n",
       " '        \"key\": \"myhistogram\",',\n",
       " '        \"type\": 3,',\n",
       " '        \"value\": 0.5',\n",
       " '      },',\n",
       " '      {',\n",
       " '        \"key\": \"mytimer\",',\n",
       " '        \"type\": \"TIMER\",',\n",
       " '        \"value\": 20.2',\n",
       " '      }',\n",
       " '    ]',\n",
       " '  },',\n",
       " '  \"data\": {',\n",
       " '    \"names\": [',\n",
       " '      \"t:0\",',\n",
       " '      \"t:1\",',\n",
       " '      \"t:2\"',\n",
       " '    ],',\n",
       " '    \"ndarray\": [',\n",
       " '        [',\n",
       " '              1,',\n",
       " '              2,',\n",
       " '              5',\n",
       " '            ]',\n",
       " '      ]',\n",
       " '  }',\n",
       " '}']"
      ]
     },
     "execution_count": 18,
     "metadata": {},
     "output_type": "execute_result"
    }
   ],
   "source": [
    "response_grpccurl"
   ]
  },
  {
   "cell_type": "code",
   "execution_count": 19,
   "metadata": {},
   "outputs": [
    {
     "data": {
      "text/plain": [
       "{'meta': {'requestPath': {'classifier': 'seldonio/model-with-metrics:0.2'},\n",
       "  'metrics': [{'key': 'mycounter', 'value': 1},\n",
       "   {'key': 'mygauge', 'type': 'GAUGE', 'value': 100},\n",
       "   {'key': 'myhistogram', 'type': 3, 'value': 0.5},\n",
       "   {'key': 'mytimer', 'type': 'TIMER', 'value': 20.2}]},\n",
       " 'data': {'names': ['t:0', 't:1', 't:2'], 'ndarray': [[1, 2, 5]]}}"
      ]
     },
     "execution_count": 19,
     "metadata": {},
     "output_type": "execute_result"
    }
   ],
   "source": [
    "response_grpccurl_json = json.loads(\"\".join(response_grpccurl))\n",
    "assert len(response_grpccurl_json[\"meta\"][\"metrics\"]) == 4\n",
    "response_grpccurl_json"
   ]
  },
  {
   "cell_type": "code",
   "execution_count": 20,
   "metadata": {},
   "outputs": [
    {
     "name": "stdout",
     "output_type": "stream",
     "text": [
      "Waiting so metrics can be scraped\n"
     ]
    }
   ],
   "source": [
    "print(\"Waiting so metrics can be scraped\")\n",
    "time.sleep(30)"
   ]
  },
  {
   "cell_type": "code",
   "execution_count": 21,
   "metadata": {},
   "outputs": [],
   "source": [
    "response_get_metrics_again = !bash get-metrics.sh"
   ]
  },
  {
   "cell_type": "code",
   "execution_count": 22,
   "metadata": {},
   "outputs": [
    {
     "data": {
      "text/plain": [
       "{'status': 'success',\n",
       " 'data': {'resultType': 'vector',\n",
       "  'result': [{'metric': {'__name__': 'mycounter_total',\n",
       "     'app': 'seldon-model-example-0-classifier',\n",
       "     'app_kubernetes_io_managed_by': 'seldon-core',\n",
       "     'deployment_name': 'seldon-model',\n",
       "     'fluentd': 'true',\n",
       "     'image_name': 'seldonio/model-with-metrics',\n",
       "     'image_version': '0.2',\n",
       "     'instance': '172.17.0.13:6000',\n",
       "     'job': 'kubernetes-pods',\n",
       "     'kubernetes_namespace': 'seldon',\n",
       "     'kubernetes_pod_name': 'seldon-model-example-0-classifier-6794b688d8-t5nxp',\n",
       "     'method': 'predict',\n",
       "     'model_image': 'seldonio/model-with-metrics',\n",
       "     'model_name': 'classifier',\n",
       "     'model_version': '0.2',\n",
       "     'pod_template_hash': '6794b688d8',\n",
       "     'predictor_name': 'example',\n",
       "     'predictor_version': 'example',\n",
       "     'seldon_app': 'seldon-model-example',\n",
       "     'seldon_app_svc': 'seldon-model-example-classifier',\n",
       "     'seldon_deployment_id': 'seldon-model',\n",
       "     'seldon_deployment_name': 'seldon-model',\n",
       "     'seldon_io_default': 'true',\n",
       "     'seldon_io_model': 'true',\n",
       "     'version': 'example',\n",
       "     'worker_id': '36'},\n",
       "    'value': [1612909403.493, '1']},\n",
       "   {'metric': {'__name__': 'mycounter_total',\n",
       "     'app': 'seldon-model-example-0-classifier',\n",
       "     'app_kubernetes_io_managed_by': 'seldon-core',\n",
       "     'deployment_name': 'seldon-model',\n",
       "     'fluentd': 'true',\n",
       "     'image_name': 'seldonio/model-with-metrics',\n",
       "     'image_version': '0.2',\n",
       "     'instance': '172.17.0.13:6000',\n",
       "     'job': 'kubernetes-pods',\n",
       "     'kubernetes_namespace': 'seldon',\n",
       "     'kubernetes_pod_name': 'seldon-model-example-0-classifier-6794b688d8-t5nxp',\n",
       "     'method': 'predict',\n",
       "     'model_image': 'seldonio/model-with-metrics',\n",
       "     'model_name': 'classifier',\n",
       "     'model_version': '0.2',\n",
       "     'pod_template_hash': '6794b688d8',\n",
       "     'predictor_name': 'example',\n",
       "     'predictor_version': 'example',\n",
       "     'seldon_app': 'seldon-model-example',\n",
       "     'seldon_app_svc': 'seldon-model-example-classifier',\n",
       "     'seldon_deployment_id': 'seldon-model',\n",
       "     'seldon_deployment_name': 'seldon-model',\n",
       "     'seldon_io_default': 'true',\n",
       "     'seldon_io_model': 'true',\n",
       "     'version': 'example',\n",
       "     'worker_id': '27'},\n",
       "    'value': [1612909403.493, '1']}]}}"
      ]
     },
     "execution_count": 22,
     "metadata": {},
     "output_type": "execute_result"
    }
   ],
   "source": [
    "response_get_metrics_again_json = json.loads(response_get_metrics_again[0])\n",
    "assert response_get_metrics_again_json[\"data\"][\"result\"][0][\"metric\"][\"__name__\"] == \"mycounter_total\"\n",
    "assert (\n",
    "    response_get_metrics_again_json[\"data\"][\"result\"][0][\"metric\"][\"image_name\"]\n",
    "    == \"seldonio/model-with-metrics\"\n",
    ")\n",
    "response_get_metrics_again_json"
   ]
  },
  {
   "cell_type": "code",
   "execution_count": 23,
   "metadata": {},
   "outputs": [
    {
     "name": "stdout",
     "output_type": "stream",
     "text": [
      "seldondeployment.machinelearning.seldon.io \"seldon-model\" deleted\r\n"
     ]
    }
   ],
   "source": [
    "!kubectl delete -f model.yaml"
   ]
  },
  {
   "cell_type": "code",
   "execution_count": 24,
   "metadata": {},
   "outputs": [
    {
     "name": "stdout",
     "output_type": "stream",
     "text": [
      "release \"seldon-core-analytics\" uninstalled\r\n"
     ]
    }
   ],
   "source": [
    "!helm delete seldon-core-analytics --namespace seldon-system"
   ]
  },
  {
   "cell_type": "code",
   "execution_count": null,
   "metadata": {},
   "outputs": [],
   "source": []
  }
 ],
 "metadata": {
  "kernelspec": {
   "display_name": "Python 3",
   "language": "python",
   "name": "python3"
  },
  "language_info": {
   "codemirror_mode": {
    "name": "ipython",
    "version": 3
   },
   "file_extension": ".py",
   "mimetype": "text/x-python",
   "name": "python",
   "nbconvert_exporter": "python",
   "pygments_lexer": "ipython3",
   "version": "3.7.9"
  }
 },
 "nbformat": 4,
 "nbformat_minor": 4
}
