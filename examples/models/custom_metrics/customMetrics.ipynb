{
 "cells": [
  {
   "cell_type": "markdown",
   "metadata": {},
   "source": [
    "# Basic Examples with Different Protocols\n",
    "\n",
    "## Prerequisites\n",
    "\n",
    " * A kubernetes cluster with kubectl configured\n",
    " * curl\n",
    " * grpcurl\n",
    " * pygmentize\n",
    " \n",
    "\n",
    "## Setup Seldon Core\n",
    "\n",
    "Use the setup notebook to [Setup Cluster](https://docs.seldon.io/projects/seldon-core/en/latest/examples/seldon_core_setup.html) to setup Seldon Core with an ingress - either Ambassador or Istio.\n",
    "\n",
    "Then port-forward to that ingress on localhost:8003 in a separate terminal either with:\n",
    "\n",
    " * Ambassador: `kubectl port-forward $(kubectl get pods -n seldon -l app.kubernetes.io/name=ambassador -o jsonpath='{.items[0].metadata.name}') -n seldon 8003:8080`\n",
    " * Istio: `kubectl port-forward $(kubectl get pods -l istio=ingressgateway -n istio-system -o jsonpath='{.items[0].metadata.name}') -n istio-system 8003:80`"
   ]
  },
  {
   "cell_type": "markdown",
   "metadata": {},
   "source": [
    "## Install Seldon Analytics"
   ]
  },
  {
   "cell_type": "code",
   "execution_count": 1,
   "metadata": {},
   "outputs": [
    {
     "name": "stdout",
     "output_type": "stream",
     "text": [
      "NAME: seldon-core-analytics\r\n",
      "LAST DEPLOYED: Sun Nov  8 10:24:13 2020\r\n",
      "NAMESPACE: seldon-system\r\n",
      "STATUS: deployed\r\n",
      "REVISION: 1\r\n"
     ]
    }
   ],
   "source": [
    "!helm install seldon-core-analytics ../../../helm-charts/seldon-core-analytics -n seldon-system --wait"
   ]
  },
  {
   "cell_type": "code",
   "execution_count": 2,
   "metadata": {},
   "outputs": [
    {
     "name": "stdout",
     "output_type": "stream",
     "text": [
      "Error from server (AlreadyExists): namespaces \"seldon\" already exists\r\n"
     ]
    }
   ],
   "source": [
    "!kubectl create namespace seldon"
   ]
  },
  {
   "cell_type": "code",
   "execution_count": 3,
   "metadata": {},
   "outputs": [
    {
     "name": "stdout",
     "output_type": "stream",
     "text": [
      "Context \"kind-kind\" modified.\r\n"
     ]
    }
   ],
   "source": [
    "!kubectl config set-context $(kubectl config current-context) --namespace=seldon"
   ]
  },
  {
   "cell_type": "code",
   "execution_count": 4,
   "metadata": {},
   "outputs": [],
   "source": [
    "import json\n",
    "import time"
   ]
  },
  {
   "cell_type": "markdown",
   "metadata": {},
   "source": [
    "## Custom Metrics"
   ]
  },
  {
   "cell_type": "code",
   "execution_count": 5,
   "metadata": {},
   "outputs": [
    {
     "name": "stdout",
     "output_type": "stream",
     "text": [
      "\u001b[94mapiVersion\u001b[39;49;00m: machinelearning.seldon.io/v1\r\n",
      "\u001b[94mkind\u001b[39;49;00m: SeldonDeployment\r\n",
      "\u001b[94mmetadata\u001b[39;49;00m:\r\n",
      "  \u001b[94mname\u001b[39;49;00m: seldon-model\r\n",
      "\u001b[94mspec\u001b[39;49;00m:\r\n",
      "  \u001b[94mname\u001b[39;49;00m: test-deployment\r\n",
      "  \u001b[94mpredictors\u001b[39;49;00m:\r\n",
      "  - \u001b[94mcomponentSpecs\u001b[39;49;00m:\r\n",
      "    - \u001b[94mspec\u001b[39;49;00m:\r\n",
      "        \u001b[94mcontainers\u001b[39;49;00m:\r\n",
      "        - \u001b[94mimage\u001b[39;49;00m: seldonio/model-with-metrics:0.2\r\n",
      "          \u001b[94mname\u001b[39;49;00m: classifier\r\n",
      "    \u001b[94mgraph\u001b[39;49;00m:\r\n",
      "      \u001b[94mchildren\u001b[39;49;00m: []\r\n",
      "      \u001b[94mname\u001b[39;49;00m: classifier\r\n",
      "      \u001b[94mtype\u001b[39;49;00m: MODEL\r\n",
      "    \u001b[94mname\u001b[39;49;00m: example\r\n",
      "    \u001b[94mreplicas\u001b[39;49;00m: 1\r\n"
     ]
    }
   ],
   "source": [
    "!pygmentize model.yaml"
   ]
  },
  {
   "cell_type": "code",
   "execution_count": 6,
   "metadata": {},
   "outputs": [
    {
     "name": "stdout",
     "output_type": "stream",
     "text": [
      "seldondeployment.machinelearning.seldon.io/seldon-model created\r\n"
     ]
    }
   ],
   "source": [
    "!kubectl create -f model.yaml"
   ]
  },
  {
   "cell_type": "code",
   "execution_count": 7,
   "metadata": {},
   "outputs": [
    {
     "name": "stdout",
     "output_type": "stream",
     "text": [
      "Waiting for deployment \"seldon-model-example-0-classifier\" rollout to finish: 0 of 1 updated replicas are available...\n",
      "deployment \"seldon-model-example-0-classifier\" successfully rolled out\n"
     ]
    }
   ],
   "source": [
    "!kubectl rollout status deploy/$(kubectl get deploy -l seldon-deployment-id=seldon-model \\\n",
    "                                 -o jsonpath='{.items[0].metadata.name}')"
   ]
  },
  {
   "cell_type": "code",
   "execution_count": 8,
   "metadata": {},
   "outputs": [],
   "source": [
    "responseRaw=!curl -s -d '{\"data\": {\"ndarray\":[[1.0, 2.0, 5.0]]}}'    -X POST http://localhost:8003/seldon/seldon/seldon-model/api/v1.0/predictions    -H \"Content-Type: application/json\""
   ]
  },
  {
   "cell_type": "code",
   "execution_count": 9,
   "metadata": {},
   "outputs": [
    {
     "name": "stdout",
     "output_type": "stream",
     "text": [
      "{'data': {'names': ['t:0', 't:1', 't:2'], 'ndarray': [[1.0, 2.0, 5.0]]}, 'meta': {'metrics': [{'key': 'mycounter', 'type': 'COUNTER', 'value': 1}, {'key': 'mygauge', 'type': 'GAUGE', 'value': 100}, {'key': 'mytimer', 'type': 'TIMER', 'value': 20.2}]}}\n"
     ]
    }
   ],
   "source": [
    "response=json.loads(responseRaw[0])\n",
    "print(response)\n",
    "assert(len(response[\"meta\"][\"metrics\"]) == 3)"
   ]
  },
  {
   "cell_type": "code",
   "execution_count": 10,
   "metadata": {},
   "outputs": [
    {
     "name": "stdout",
     "output_type": "stream",
     "text": [
      "Waiting so metrics can be scraped\n"
     ]
    }
   ],
   "source": [
    "print(\"Waiting so metrics can be scraped\")\n",
    "time.sleep(30)"
   ]
  },
  {
   "cell_type": "code",
   "execution_count": 11,
   "metadata": {},
   "outputs": [
    {
     "name": "stdout",
     "output_type": "stream",
     "text": [
      "Overwriting get-metrics.sh\n"
     ]
    }
   ],
   "source": [
    "%%writefile get-metrics.sh\n",
    "\n",
    "kubectl run --quiet=true -it --rm curlmetrics --image=tutum/curl --restart=Never -- \\\n",
    "    curl -s seldon-core-analytics-prometheus-seldon.seldon-system/api/v1/query?query=mycounter_total"
   ]
  },
  {
   "cell_type": "code",
   "execution_count": 12,
   "metadata": {},
   "outputs": [],
   "source": [
    "responseRaw =! bash get-metrics.sh"
   ]
  },
  {
   "cell_type": "code",
   "execution_count": 13,
   "metadata": {},
   "outputs": [
    {
     "data": {
      "text/plain": [
       "'{\"status\":\"success\",\"data\":{\"resultType\":\"vector\",\"result\":[{\"metric\":{\"__name__\":\"mycounter_total\",\"app\":\"seldon-model-example-0-classifier\",\"app_kubernetes_io_managed_by\":\"seldon-core\",\"deployment_name\":\"seldon-model\",\"fluentd\":\"true\",\"image_name\":\"seldonio/model-with-metrics\",\"image_version\":\"0.2\",\"instance\":\"10.244.1.109:6000\",\"job\":\"kubernetes-pods\",\"kubernetes_namespace\":\"seldon\",\"kubernetes_pod_name\":\"seldon-model-example-0-classifier-869f44f779-547dj\",\"method\":\"predict\",\"model_image\":\"seldonio/model-with-metrics\",\"model_name\":\"classifier\",\"model_version\":\"0.2\",\"pod_template_hash\":\"869f44f779\",\"predictor_name\":\"example\",\"predictor_version\":\"example\",\"seldon_app\":\"seldon-model-example\",\"seldon_app_svc\":\"seldon-model-example-classifier\",\"seldon_deployment_id\":\"seldon-model\",\"seldon_deployment_name\":\"seldon-model\",\"seldon_io_default\":\"true\",\"seldon_io_model\":\"true\",\"version\":\"example\",\"worker_id\":\"40\"},\"value\":[1604831146.35,\"1\"]}]}}'"
      ]
     },
     "execution_count": 13,
     "metadata": {},
     "output_type": "execute_result"
    }
   ],
   "source": [
    "responseRaw[0]"
   ]
  },
  {
   "cell_type": "code",
   "execution_count": 14,
   "metadata": {},
   "outputs": [
    {
     "name": "stdout",
     "output_type": "stream",
     "text": [
      "{'status': 'success', 'data': {'resultType': 'vector', 'result': [{'metric': {'__name__': 'mycounter_total', 'app': 'seldon-model-example-0-classifier', 'app_kubernetes_io_managed_by': 'seldon-core', 'deployment_name': 'seldon-model', 'fluentd': 'true', 'image_name': 'seldonio/model-with-metrics', 'image_version': '0.2', 'instance': '10.244.1.109:6000', 'job': 'kubernetes-pods', 'kubernetes_namespace': 'seldon', 'kubernetes_pod_name': 'seldon-model-example-0-classifier-869f44f779-547dj', 'method': 'predict', 'model_image': 'seldonio/model-with-metrics', 'model_name': 'classifier', 'model_version': '0.2', 'pod_template_hash': '869f44f779', 'predictor_name': 'example', 'predictor_version': 'example', 'seldon_app': 'seldon-model-example', 'seldon_app_svc': 'seldon-model-example-classifier', 'seldon_deployment_id': 'seldon-model', 'seldon_deployment_name': 'seldon-model', 'seldon_io_default': 'true', 'seldon_io_model': 'true', 'version': 'example', 'worker_id': '40'}, 'value': [1604831146.35, '1']}]}}\n"
     ]
    }
   ],
   "source": [
    "response=json.loads(responseRaw[0])\n",
    "print(response)\n",
    "assert(response['data'][\"result\"][0][\"metric\"][\"__name__\"]=='mycounter_total')"
   ]
  },
  {
   "cell_type": "code",
   "execution_count": 15,
   "metadata": {},
   "outputs": [],
   "source": [
    "responseRaw=!cd ../../../executor/proto && grpcurl -d '{\"data\":{\"ndarray\":[[1.0,2.0,5.0]]}}' \\\n",
    "         -rpc-header seldon:seldon-model -rpc-header namespace:seldon \\\n",
    "         -plaintext \\\n",
    "         -proto ./prediction.proto  0.0.0.0:8003 seldon.protos.Seldon/Predict"
   ]
  },
  {
   "cell_type": "code",
   "execution_count": 16,
   "metadata": {},
   "outputs": [
    {
     "name": "stdout",
     "output_type": "stream",
     "text": [
      "{'meta': {'metrics': [{'key': 'mycounter', 'value': 1}, {'key': 'mygauge', 'type': 'GAUGE', 'value': 100}, {'key': 'mytimer', 'type': 'TIMER', 'value': 20.2}]}, 'data': {'names': ['t:0', 't:1', 't:2'], 'ndarray': [[1, 2, 5]]}}\n"
     ]
    }
   ],
   "source": [
    "response=json.loads(\"\".join(responseRaw))\n",
    "print(response)\n",
    "assert(len(response[\"meta\"][\"metrics\"]) == 3)"
   ]
  },
  {
   "cell_type": "code",
   "execution_count": 17,
   "metadata": {},
   "outputs": [
    {
     "name": "stdout",
     "output_type": "stream",
     "text": [
      "Waiting so metrics can be scraped\n"
     ]
    }
   ],
   "source": [
    "print(\"Waiting so metrics can be scraped\")\n",
    "time.sleep(30)"
   ]
  },
  {
   "cell_type": "code",
   "execution_count": 18,
   "metadata": {},
   "outputs": [],
   "source": [
    "responseRaw =! bash get-metrics.sh"
   ]
  },
  {
   "cell_type": "code",
   "execution_count": 19,
   "metadata": {},
   "outputs": [
    {
     "name": "stdout",
     "output_type": "stream",
     "text": [
      "{'status': 'success', 'data': {'resultType': 'vector', 'result': [{'metric': {'__name__': 'mycounter_total', 'app': 'seldon-model-example-0-classifier', 'app_kubernetes_io_managed_by': 'seldon-core', 'deployment_name': 'seldon-model', 'fluentd': 'true', 'image_name': 'seldonio/model-with-metrics', 'image_version': '0.2', 'instance': '10.244.1.73:6000', 'job': 'kubernetes-pods', 'kubernetes_namespace': 'seldon', 'kubernetes_pod_name': 'seldon-model-example-0-classifier-869f44f779-hk8p2', 'method': 'predict', 'model_image': 'seldonio/model-with-metrics', 'model_name': 'classifier', 'model_version': '0.2', 'pod_template_hash': '869f44f779', 'predictor_name': 'example', 'predictor_version': 'example', 'seldon_app': 'seldon-model-example', 'seldon_app_svc': 'seldon-model-example-classifier', 'seldon_deployment_id': 'seldon-model', 'seldon_deployment_name': 'seldon-model', 'seldon_io_default': 'true', 'seldon_io_model': 'true', 'version': 'example', 'worker_id': '42'}, 'value': [1604666136.309, '1']}, {'metric': {'__name__': 'mycounter_total', 'app': 'seldon-model-example-0-classifier', 'app_kubernetes_io_managed_by': 'seldon-core', 'deployment_name': 'seldon-model', 'fluentd': 'true', 'image_name': 'seldonio/model-with-metrics', 'image_version': '0.2', 'instance': '10.244.1.73:6000', 'job': 'kubernetes-pods', 'kubernetes_namespace': 'seldon', 'kubernetes_pod_name': 'seldon-model-example-0-classifier-869f44f779-hk8p2', 'method': 'predict', 'model_image': 'seldonio/model-with-metrics', 'model_name': 'classifier', 'model_version': '0.2', 'pod_template_hash': '869f44f779', 'predictor_name': 'example', 'predictor_version': 'example', 'seldon_app': 'seldon-model-example', 'seldon_app_svc': 'seldon-model-example-classifier', 'seldon_deployment_id': 'seldon-model', 'seldon_deployment_name': 'seldon-model', 'seldon_io_default': 'true', 'seldon_io_model': 'true', 'version': 'example', 'worker_id': '31'}, 'value': [1604666136.309, '1']}]}}\n"
     ]
    }
   ],
   "source": [
    "response=json.loads(responseRaw[0])\n",
    "print(response)\n",
    "assert(response['data'][\"result\"][0][\"metric\"][\"__name__\"]=='mycounter_total')\n",
    "assert(response['data'][\"result\"][0][\"metric\"][\"image_name\"]=='seldonio/model-with-metrics')"
   ]
  },
  {
   "cell_type": "code",
   "execution_count": 20,
   "metadata": {},
   "outputs": [
    {
     "name": "stdout",
     "output_type": "stream",
     "text": [
      "seldondeployment.machinelearning.seldon.io \"seldon-model\" deleted\r\n"
     ]
    }
   ],
   "source": [
    "!kubectl delete -f model.yaml"
   ]
  },
  {
   "cell_type": "code",
   "execution_count": 21,
   "metadata": {},
   "outputs": [
    {
     "name": "stdout",
     "output_type": "stream",
     "text": [
      "release \"seldon-core-analytics\" uninstalled\r\n"
     ]
    }
   ],
   "source": [
    "!helm delete seldon-core-analytics --namespace seldon-system"
   ]
  },
  {
   "cell_type": "code",
   "execution_count": null,
   "metadata": {},
   "outputs": [],
   "source": []
  }
 ],
 "metadata": {
  "kernelspec": {
   "display_name": "Python 3",
   "language": "python",
   "name": "python3"
  },
  "language_info": {
   "codemirror_mode": {
    "name": "ipython",
    "version": 3
   },
   "file_extension": ".py",
   "mimetype": "text/x-python",
   "name": "python",
   "nbconvert_exporter": "python",
   "pygments_lexer": "ipython3",
   "version": "3.6.8"
  }
 },
 "nbformat": 4,
 "nbformat_minor": 4
}
