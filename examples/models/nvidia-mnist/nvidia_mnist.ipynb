{
 "cells": [
  {
   "cell_type": "markdown",
   "metadata": {},
   "source": [
    "# Seldon and TensorRT Inference Server MNIST Example\n",
    "\n",
    "This example shows how you can combine Seldon with the NVIDIA TensorRT Inference Server. We will use a Seldon TensorRT proxy model image that will forward Seldon internal microservice prediction calls out to an external TensorRT Inference Server.\n",
    "\n",
    "This example will:\n",
    "\n",
    " * Show the packaging of the components using S2I"
   ]
  },
  {
   "cell_type": "markdown",
   "metadata": {},
   "source": [
    "# Setup"
   ]
  },
  {
   "cell_type": "code",
   "execution_count": 1,
   "metadata": {},
   "outputs": [
    {
     "name": "stderr",
     "output_type": "stream",
     "text": [
      "/home/clive/anaconda3/lib/python3.6/site-packages/h5py/__init__.py:36: FutureWarning: Conversion of the second argument of issubdtype from `float` to `np.floating` is deprecated. In future, it will be treated as `np.float64 == np.dtype(float).type`.\n",
      "  from ._conv import register_converters as _register_converters\n"
     ]
    }
   ],
   "source": [
    "%matplotlib inline\n",
    "import requests\n",
    "from random import randint,random\n",
    "import json\n",
    "from matplotlib import pyplot as plt\n",
    "import numpy as np\n",
    "from tensorflow.examples.tutorials.mnist import input_data\n"
   ]
  },
  {
   "cell_type": "code",
   "execution_count": 2,
   "metadata": {},
   "outputs": [],
   "source": [
    "def gen_image(arr):\n",
    "    two_d = (np.reshape(arr, (28, 28)) * 255).astype(np.uint8)\n",
    "    plt.imshow(two_d,cmap=plt.cm.gray_r, interpolation='nearest')\n",
    "    return plt\n",
    "\n",
    "def download_mnist():\n",
    "    return input_data.read_data_sets(\"MNIST_data/\", one_hot = True)\n",
    "\n",
    "def rest_predict_request(endpoint,data):\n",
    "    request = {\"data\":{\"ndarray\":data.tolist()}}\n",
    "    response = requests.post(\n",
    "                \"http://\"+endpoint+\"/predict\",\n",
    "                data={\"json\":json.dumps(request),\"isDefault\":True})\n",
    "    return response.json()   \n",
    "\n",
    "def rest_transform_input_request(endpoint,data):\n",
    "    request = {\"data\":{\"ndarray\":data.tolist()}}\n",
    "    response = requests.post(\n",
    "                \"http://\"+endpoint+\"/transform-input\",\n",
    "                data={\"json\":json.dumps(request),\"isDefault\":True})\n",
    "    return response.json()   \n",
    "\n",
    "def rest_transform_output_request(endpoint,data):\n",
    "    request = {\"data\":{\"ndarray\":data.tolist()}}\n",
    "    response = requests.post(\n",
    "                \"http://\"+endpoint+\"/transform-output\",\n",
    "                data={\"json\":json.dumps(request),\"isDefault\":True})\n",
    "    return response.json()   \n",
    "\n",
    "def rest_request_ambassador(deploymentName,endpoint=\"localhost:8003\",arr=None):\n",
    "    payload = {\"data\":{\"names\":[\"a\",\"b\"],\"tensor\":{\"shape\":[1,784],\"values\":arr.tolist()}}}\n",
    "    response = requests.post(\n",
    "                \"http://\"+endpoint+\"/seldon/\"+deploymentName+\"/api/v0.1/predictions\",\n",
    "                json=payload)\n",
    "    print(response.status_code)\n",
    "    print(response.text)\n",
    "\n",
    "\n",
    "def gen_mnist_data(mnist):\n",
    "    batch_xs, batch_ys = mnist.train.next_batch(1)\n",
    "    chosen=0\n",
    "    gen_image(batch_xs[chosen]).show()\n",
    "    data = batch_xs[chosen].reshape((1,784))\n",
    "    return data\n"
   ]
  },
  {
   "cell_type": "code",
   "execution_count": 3,
   "metadata": {},
   "outputs": [
    {
     "name": "stdout",
     "output_type": "stream",
     "text": [
      "WARNING:tensorflow:From <ipython-input-2-8029beac92e7>:7: read_data_sets (from tensorflow.contrib.learn.python.learn.datasets.mnist) is deprecated and will be removed in a future version.\n",
      "Instructions for updating:\n",
      "Please use alternatives such as official/mnist/dataset.py from tensorflow/models.\n",
      "WARNING:tensorflow:From /home/clive/anaconda3/lib/python3.6/site-packages/tensorflow/contrib/learn/python/learn/datasets/mnist.py:260: maybe_download (from tensorflow.contrib.learn.python.learn.datasets.base) is deprecated and will be removed in a future version.\n",
      "Instructions for updating:\n",
      "Please write your own downloading logic.\n",
      "WARNING:tensorflow:From /home/clive/anaconda3/lib/python3.6/site-packages/tensorflow/contrib/learn/python/learn/datasets/mnist.py:262: extract_images (from tensorflow.contrib.learn.python.learn.datasets.mnist) is deprecated and will be removed in a future version.\n",
      "Instructions for updating:\n",
      "Please use tf.data to implement this functionality.\n",
      "Extracting MNIST_data/train-images-idx3-ubyte.gz\n",
      "WARNING:tensorflow:From /home/clive/anaconda3/lib/python3.6/site-packages/tensorflow/contrib/learn/python/learn/datasets/mnist.py:267: extract_labels (from tensorflow.contrib.learn.python.learn.datasets.mnist) is deprecated and will be removed in a future version.\n",
      "Instructions for updating:\n",
      "Please use tf.data to implement this functionality.\n",
      "Extracting MNIST_data/train-labels-idx1-ubyte.gz\n",
      "WARNING:tensorflow:From /home/clive/anaconda3/lib/python3.6/site-packages/tensorflow/contrib/learn/python/learn/datasets/mnist.py:110: dense_to_one_hot (from tensorflow.contrib.learn.python.learn.datasets.mnist) is deprecated and will be removed in a future version.\n",
      "Instructions for updating:\n",
      "Please use tf.one_hot on tensors.\n",
      "Extracting MNIST_data/t10k-images-idx3-ubyte.gz\n",
      "Extracting MNIST_data/t10k-labels-idx1-ubyte.gz\n",
      "WARNING:tensorflow:From /home/clive/anaconda3/lib/python3.6/site-packages/tensorflow/contrib/learn/python/learn/datasets/mnist.py:290: DataSet.__init__ (from tensorflow.contrib.learn.python.learn.datasets.mnist) is deprecated and will be removed in a future version.\n",
      "Instructions for updating:\n",
      "Please use alternatives such as official/mnist/dataset.py from tensorflow/models.\n"
     ]
    }
   ],
   "source": [
    "mnist = download_mnist()"
   ]
  },
  {
   "cell_type": "markdown",
   "metadata": {},
   "source": [
    "# Create an Nvidia Model Repository"
   ]
  },
  {
   "cell_type": "markdown",
   "metadata": {},
   "source": [
    "Fetch pretrained MNIST model ready for serving and place in model repository"
   ]
  },
  {
   "cell_type": "code",
   "execution_count": 9,
   "metadata": {},
   "outputs": [
    {
     "name": "stdout",
     "output_type": "stream",
     "text": [
      "--2018-09-20 14:18:52--  http://seldon-public.s3.amazonaws.com/nvidia-mnist-model/model.plan\n",
      "Resolving seldon-public.s3.amazonaws.com (seldon-public.s3.amazonaws.com)... 52.218.48.249\n",
      "Connecting to seldon-public.s3.amazonaws.com (seldon-public.s3.amazonaws.com)|52.218.48.249|:80... connected.\n",
      "HTTP request sent, awaiting response... 200 OK\n",
      "Length: 1731864 (1.7M) [binary/octet-stream]\n",
      "Saving to: ‘tensorrt_mnist/1/model.plan’\n",
      "\n",
      "tensorrt_mnist/1/mo 100%[===================>]   1.65M   148KB/s    in 12s     \n",
      "\n",
      "2018-09-20 14:19:05 (136 KB/s) - ‘tensorrt_mnist/1/model.plan’ saved [1731864/1731864]\n",
      "\n"
     ]
    }
   ],
   "source": [
    "!wget -O tensorrt_mnist/1/model.plan http://seldon-public.s3.amazonaws.com/nvidia-mnist-model/model.plan"
   ]
  },
  {
   "cell_type": "markdown",
   "metadata": {},
   "source": [
    "To run your Mvidia Inference Server you will need to upload to a google bucket the model repository in mnsit_tensorrt_model. Follow the steps below:"
   ]
  },
  {
   "cell_type": "code",
   "execution_count": 10,
   "metadata": {},
   "outputs": [
    {
     "name": "stdout",
     "output_type": "stream",
     "text": [
      "env: MODEL_REPOSITORY_BUCKET=seldon-inference-server-model-store\n"
     ]
    }
   ],
   "source": [
    "# CHANGE THIS TO YOUR OWN CHOSEN GOOGLE BUCKET NAME\n",
    "%env MODEL_REPOSITORY_BUCKET=seldon-inference-server-model-store"
   ]
  },
  {
   "cell_type": "code",
   "execution_count": 5,
   "metadata": {},
   "outputs": [
    {
     "name": "stdout",
     "output_type": "stream",
     "text": [
      "Creating gs://seldon-inference-server-model-store/...\n",
      "ServiceException: 409 Bucket seldon-inference-server-model-store already exists.\n"
     ]
    }
   ],
   "source": [
    "!gsutil mb gs://${MODEL_REPOSITORY_BUCKET}"
   ]
  },
  {
   "cell_type": "code",
   "execution_count": 11,
   "metadata": {},
   "outputs": [
    {
     "name": "stdout",
     "output_type": "stream",
     "text": [
      "Copying file://tensorrt_mnist/config.pbtxt [Content-Type=application/octet-stream]...\n",
      "Copying file://tensorrt_mnist/config.pbtxt~ [Content-Type=application/octet-stream]...\n",
      "Copying file://tensorrt_mnist/mnist_labels.txt [Content-Type=text/plain]...     \n",
      "Copying file://tensorrt_mnist/1/model.plan [Content-Type=application/octet-stream]...\n",
      "\\ [4 files][  1.7 MiB/  1.7 MiB]                                                \n",
      "Operation completed over 4 objects/1.7 MiB.                                      \n"
     ]
    }
   ],
   "source": [
    "!gsutil cp -r tensorrt_mnist gs://${MODEL_REPOSITORY_BUCKET}"
   ]
  },
  {
   "cell_type": "markdown",
   "metadata": {},
   "source": [
    "# Test Locally From Docker with Standalone NVIDIA Inference Server"
   ]
  },
  {
   "cell_type": "markdown",
   "metadata": {},
   "source": [
    "## Create your Nvidia Inference Server\n",
    "\n",
    "For example:\n",
    "\n",
    " * Follow the steps in the [Kubeflow guide](https://github.com/kubeflow/kubeflow/tree/master/kubeflow/nvidia-inference-server) to create your Nvidia Inference Server \n",
    "   * You will need to use the Google Bucket location"
   ]
  },
  {
   "cell_type": "markdown",
   "metadata": {},
   "source": [
    "## Package and run a Transformer and Nvidia Proxy"
   ]
  },
  {
   "cell_type": "markdown",
   "metadata": {},
   "source": [
    "We will use a Seldon Transformer to remove the training-set mean values from the input features and rehsape the output as the prediction comes back."
   ]
  },
  {
   "cell_type": "code",
   "execution_count": 17,
   "metadata": {},
   "outputs": [
    {
     "name": "stdout",
     "output_type": "stream",
     "text": [
      "\u001b[34mimport\u001b[39;49;00m \u001b[04m\u001b[36mnumpy\u001b[39;49;00m \u001b[34mas\u001b[39;49;00m \u001b[04m\u001b[36mnp\u001b[39;49;00m\r\n",
      "\r\n",
      "MEANS=np.array([\u001b[34m255.0\u001b[39;49;00m,\u001b[34m255\u001b[39;49;00m,\u001b[34m255\u001b[39;49;00m,\u001b[34m255\u001b[39;49;00m,\u001b[34m255\u001b[39;49;00m,\u001b[34m255\u001b[39;49;00m,\u001b[34m255\u001b[39;49;00m,\u001b[34m255\u001b[39;49;00m,\u001b[34m255\u001b[39;49;00m,\u001b[34m255\u001b[39;49;00m,\u001b[34m255\u001b[39;49;00m,\u001b[34m255\u001b[39;49;00m,\u001b[34m255\u001b[39;49;00m,\u001b[34m255\u001b[39;49;00m,\u001b[34m255\u001b[39;49;00m,\u001b[34m255\u001b[39;49;00m,\u001b[34m255\u001b[39;49;00m,\u001b[34m255\u001b[39;49;00m,\u001b[34m255\u001b[39;49;00m,\u001b[34m255\u001b[39;49;00m,\u001b[34m255\u001b[39;49;00m,\u001b[34m255\u001b[39;49;00m,\u001b[34m255\u001b[39;49;00m,\u001b[34m255\u001b[39;49;00m,\u001b[34m255\u001b[39;49;00m,\u001b[34m255\u001b[39;49;00m,\u001b[34m255\u001b[39;49;00m,\u001b[34m255\u001b[39;49;00m,\u001b[34m255\u001b[39;49;00m,\u001b[34m255\u001b[39;49;00m,\u001b[34m255\u001b[39;49;00m,\u001b[34m255\u001b[39;49;00m,\u001b[34m255\u001b[39;49;00m,\u001b[34m255\u001b[39;49;00m,\u001b[34m255\u001b[39;49;00m,\u001b[34m255\u001b[39;49;00m,\u001b[34m255\u001b[39;49;00m,\u001b[34m255\u001b[39;49;00m,\u001b[34m255\u001b[39;49;00m,\u001b[34m255\u001b[39;49;00m,\u001b[34m255\u001b[39;49;00m,\u001b[34m255\u001b[39;49;00m,\u001b[34m255\u001b[39;49;00m,\u001b[34m255\u001b[39;49;00m,\u001b[34m255\u001b[39;49;00m,\u001b[34m255\u001b[39;49;00m,\u001b[34m255\u001b[39;49;00m,\u001b[34m255\u001b[39;49;00m,\u001b[34m255\u001b[39;49;00m,\u001b[34m255\u001b[39;49;00m,\u001b[34m255\u001b[39;49;00m,\u001b[34m255\u001b[39;49;00m,\u001b[34m255\u001b[39;49;00m,\u001b[34m255\u001b[39;49;00m,\u001b[34m255\u001b[39;49;00m,\u001b[34m255\u001b[39;49;00m,\u001b[34m255\u001b[39;49;00m,\u001b[34m255\u001b[39;49;00m,\u001b[34m255\u001b[39;49;00m,\u001b[34m255\u001b[39;49;00m,\u001b[34m255\u001b[39;49;00m,\u001b[34m255\u001b[39;49;00m,\u001b[34m255\u001b[39;49;00m,\u001b[34m255\u001b[39;49;00m,\u001b[34m255\u001b[39;49;00m,\u001b[34m254\u001b[39;49;00m,\u001b[34m254\u001b[39;49;00m,\u001b[34m254\u001b[39;49;00m,\u001b[34m253\u001b[39;49;00m,\u001b[34m252\u001b[39;49;00m,\u001b[34m252\u001b[39;49;00m,\u001b[34m251\u001b[39;49;00m,\u001b[34m251\u001b[39;49;00m,\u001b[34m252\u001b[39;49;00m,\u001b[34m252\u001b[39;49;00m,\u001b[34m253\u001b[39;49;00m,\u001b[34m254\u001b[39;49;00m,\u001b[34m254\u001b[39;49;00m,\u001b[34m255\u001b[39;49;00m,\u001b[34m255\u001b[39;49;00m,\u001b[34m255\u001b[39;49;00m,\u001b[34m255\u001b[39;49;00m,\u001b[34m255\u001b[39;49;00m,\u001b[34m255\u001b[39;49;00m,\u001b[34m255\u001b[39;49;00m,\u001b[34m255\u001b[39;49;00m,\u001b[34m255\u001b[39;49;00m,\u001b[34m255\u001b[39;49;00m,\u001b[34m255\u001b[39;49;00m,\u001b[34m255\u001b[39;49;00m,\u001b[34m255\u001b[39;49;00m,\u001b[34m254\u001b[39;49;00m,\u001b[34m254\u001b[39;49;00m,\u001b[34m253\u001b[39;49;00m,\u001b[34m251\u001b[39;49;00m,\u001b[34m249\u001b[39;49;00m,\u001b[34m248\u001b[39;49;00m,\u001b[34m245\u001b[39;49;00m,\u001b[34m243\u001b[39;49;00m,\u001b[34m242\u001b[39;49;00m,\u001b[34m242\u001b[39;49;00m,\u001b[34m243\u001b[39;49;00m,\u001b[34m246\u001b[39;49;00m,\u001b[34m248\u001b[39;49;00m,\u001b[34m251\u001b[39;49;00m,\u001b[34m253\u001b[39;49;00m,\u001b[34m254\u001b[39;49;00m,\u001b[34m255\u001b[39;49;00m,\u001b[34m255\u001b[39;49;00m,\u001b[34m255\u001b[39;49;00m,\u001b[34m255\u001b[39;49;00m,\u001b[34m255\u001b[39;49;00m,\u001b[34m255\u001b[39;49;00m,\u001b[34m255\u001b[39;49;00m,\u001b[34m255\u001b[39;49;00m,\u001b[34m255\u001b[39;49;00m,\u001b[34m255\u001b[39;49;00m,\u001b[34m255\u001b[39;49;00m,\u001b[34m254\u001b[39;49;00m,\u001b[34m253\u001b[39;49;00m,\u001b[34m250\u001b[39;49;00m,\u001b[34m247\u001b[39;49;00m,\u001b[34m242\u001b[39;49;00m,\u001b[34m235\u001b[39;49;00m,\u001b[34m228\u001b[39;49;00m,\u001b[34m220\u001b[39;49;00m,\u001b[34m213\u001b[39;49;00m,\u001b[34m210\u001b[39;49;00m,\u001b[34m211\u001b[39;49;00m,\u001b[34m216\u001b[39;49;00m,\u001b[34m224\u001b[39;49;00m,\u001b[34m232\u001b[39;49;00m,\u001b[34m240\u001b[39;49;00m,\u001b[34m246\u001b[39;49;00m,\u001b[34m251\u001b[39;49;00m,\u001b[34m253\u001b[39;49;00m,\u001b[34m254\u001b[39;49;00m,\u001b[34m255\u001b[39;49;00m,\u001b[34m255\u001b[39;49;00m,\u001b[34m255\u001b[39;49;00m,\u001b[34m255\u001b[39;49;00m,\u001b[34m255\u001b[39;49;00m,\u001b[34m255\u001b[39;49;00m,\u001b[34m255\u001b[39;49;00m,\u001b[34m255\u001b[39;49;00m,\u001b[34m254\u001b[39;49;00m,\u001b[34m251\u001b[39;49;00m,\u001b[34m248\u001b[39;49;00m,\u001b[34m242\u001b[39;49;00m,\u001b[34m234\u001b[39;49;00m,\u001b[34m223\u001b[39;49;00m,\u001b[34m211\u001b[39;49;00m,\u001b[34m196\u001b[39;49;00m,\u001b[34m181\u001b[39;49;00m,\u001b[34m170\u001b[39;49;00m,\u001b[34m164\u001b[39;49;00m,\u001b[34m166\u001b[39;49;00m,\u001b[34m175\u001b[39;49;00m,\u001b[34m189\u001b[39;49;00m,\u001b[34m205\u001b[39;49;00m,\u001b[34m221\u001b[39;49;00m,\u001b[34m233\u001b[39;49;00m,\u001b[34m243\u001b[39;49;00m,\u001b[34m248\u001b[39;49;00m,\u001b[34m252\u001b[39;49;00m,\u001b[34m254\u001b[39;49;00m,\u001b[34m255\u001b[39;49;00m,\u001b[34m255\u001b[39;49;00m,\u001b[34m255\u001b[39;49;00m,\u001b[34m255\u001b[39;49;00m,\u001b[34m255\u001b[39;49;00m,\u001b[34m255\u001b[39;49;00m,\u001b[34m254\u001b[39;49;00m,\u001b[34m252\u001b[39;49;00m,\u001b[34m248\u001b[39;49;00m,\u001b[34m241\u001b[39;49;00m,\u001b[34m231\u001b[39;49;00m,\u001b[34m217\u001b[39;49;00m,\u001b[34m202\u001b[39;49;00m,\u001b[34m184\u001b[39;49;00m,\u001b[34m166\u001b[39;49;00m,\u001b[34m149\u001b[39;49;00m,\u001b[34m136\u001b[39;49;00m,\u001b[34m131\u001b[39;49;00m,\u001b[34m134\u001b[39;49;00m,\u001b[34m143\u001b[39;49;00m,\u001b[34m159\u001b[39;49;00m,\u001b[34m180\u001b[39;49;00m,\u001b[34m201\u001b[39;49;00m,\u001b[34m220\u001b[39;49;00m,\u001b[34m234\u001b[39;49;00m,\u001b[34m243\u001b[39;49;00m,\u001b[34m249\u001b[39;49;00m,\u001b[34m253\u001b[39;49;00m,\u001b[34m255\u001b[39;49;00m,\u001b[34m255\u001b[39;49;00m,\u001b[34m255\u001b[39;49;00m,\u001b[34m255\u001b[39;49;00m,\u001b[34m255\u001b[39;49;00m,\u001b[34m254\u001b[39;49;00m,\u001b[34m253\u001b[39;49;00m,\u001b[34m249\u001b[39;49;00m,\u001b[34m243\u001b[39;49;00m,\u001b[34m233\u001b[39;49;00m,\u001b[34m219\u001b[39;49;00m,\u001b[34m201\u001b[39;49;00m,\u001b[34m181\u001b[39;49;00m,\u001b[34m161\u001b[39;49;00m,\u001b[34m143\u001b[39;49;00m,\u001b[34m130\u001b[39;49;00m,\u001b[34m122\u001b[39;49;00m,\u001b[34m120\u001b[39;49;00m,\u001b[34m122\u001b[39;49;00m,\u001b[34m129\u001b[39;49;00m,\u001b[34m141\u001b[39;49;00m,\u001b[34m161\u001b[39;49;00m,\u001b[34m185\u001b[39;49;00m,\u001b[34m208\u001b[39;49;00m,\u001b[34m227\u001b[39;49;00m,\u001b[34m240\u001b[39;49;00m,\u001b[34m248\u001b[39;49;00m,\u001b[34m252\u001b[39;49;00m,\u001b[34m254\u001b[39;49;00m,\u001b[34m255\u001b[39;49;00m,\u001b[34m255\u001b[39;49;00m,\u001b[34m255\u001b[39;49;00m,\u001b[34m255\u001b[39;49;00m,\u001b[34m254\u001b[39;49;00m,\u001b[34m251\u001b[39;49;00m,\u001b[34m246\u001b[39;49;00m,\u001b[34m238\u001b[39;49;00m,\u001b[34m226\u001b[39;49;00m,\u001b[34m208\u001b[39;49;00m,\u001b[34m187\u001b[39;49;00m,\u001b[34m164\u001b[39;49;00m,\u001b[34m146\u001b[39;49;00m,\u001b[34m135\u001b[39;49;00m,\u001b[34m131\u001b[39;49;00m,\u001b[34m132\u001b[39;49;00m,\u001b[34m133\u001b[39;49;00m,\u001b[34m132\u001b[39;49;00m,\u001b[34m133\u001b[39;49;00m,\u001b[34m139\u001b[39;49;00m,\u001b[34m154\u001b[39;49;00m,\u001b[34m178\u001b[39;49;00m,\u001b[34m202\u001b[39;49;00m,\u001b[34m223\u001b[39;49;00m,\u001b[34m239\u001b[39;49;00m,\u001b[34m248\u001b[39;49;00m,\u001b[34m252\u001b[39;49;00m,\u001b[34m255\u001b[39;49;00m,\u001b[34m255\u001b[39;49;00m,\u001b[34m255\u001b[39;49;00m,\u001b[34m255\u001b[39;49;00m,\u001b[34m254\u001b[39;49;00m,\u001b[34m253\u001b[39;49;00m,\u001b[34m251\u001b[39;49;00m,\u001b[34m245\u001b[39;49;00m,\u001b[34m236\u001b[39;49;00m,\u001b[34m221\u001b[39;49;00m,\u001b[34m200\u001b[39;49;00m,\u001b[34m177\u001b[39;49;00m,\u001b[34m156\u001b[39;49;00m,\u001b[34m144\u001b[39;49;00m,\u001b[34m144\u001b[39;49;00m,\u001b[34m150\u001b[39;49;00m,\u001b[34m156\u001b[39;49;00m,\u001b[34m156\u001b[39;49;00m,\u001b[34m151\u001b[39;49;00m,\u001b[34m144\u001b[39;49;00m,\u001b[34m144\u001b[39;49;00m,\u001b[34m156\u001b[39;49;00m,\u001b[34m178\u001b[39;49;00m,\u001b[34m202\u001b[39;49;00m,\u001b[34m224\u001b[39;49;00m,\u001b[34m240\u001b[39;49;00m,\u001b[34m249\u001b[39;49;00m,\u001b[34m253\u001b[39;49;00m,\u001b[34m255\u001b[39;49;00m,\u001b[34m255\u001b[39;49;00m,\u001b[34m255\u001b[39;49;00m,\u001b[34m255\u001b[39;49;00m,\u001b[34m254\u001b[39;49;00m,\u001b[34m253\u001b[39;49;00m,\u001b[34m251\u001b[39;49;00m,\u001b[34m245\u001b[39;49;00m,\u001b[34m235\u001b[39;49;00m,\u001b[34m218\u001b[39;49;00m,\u001b[34m195\u001b[39;49;00m,\u001b[34m172\u001b[39;49;00m,\u001b[34m155\u001b[39;49;00m,\u001b[34m152\u001b[39;49;00m,\u001b[34m161\u001b[39;49;00m,\u001b[34m172\u001b[39;49;00m,\u001b[34m176\u001b[39;49;00m,\u001b[34m170\u001b[39;49;00m,\u001b[34m161\u001b[39;49;00m,\u001b[34m150\u001b[39;49;00m,\u001b[34m149\u001b[39;49;00m,\u001b[34m161\u001b[39;49;00m,\u001b[34m183\u001b[39;49;00m,\u001b[34m207\u001b[39;49;00m,\u001b[34m227\u001b[39;49;00m,\u001b[34m242\u001b[39;49;00m,\u001b[34m250\u001b[39;49;00m,\u001b[34m254\u001b[39;49;00m,\u001b[34m255\u001b[39;49;00m,\u001b[34m255\u001b[39;49;00m,\u001b[34m255\u001b[39;49;00m,\u001b[34m255\u001b[39;49;00m,\u001b[34m255\u001b[39;49;00m,\u001b[34m254\u001b[39;49;00m,\u001b[34m251\u001b[39;49;00m,\u001b[34m246\u001b[39;49;00m,\u001b[34m234\u001b[39;49;00m,\u001b[34m215\u001b[39;49;00m,\u001b[34m191\u001b[39;49;00m,\u001b[34m168\u001b[39;49;00m,\u001b[34m156\u001b[39;49;00m,\u001b[34m160\u001b[39;49;00m,\u001b[34m173\u001b[39;49;00m,\u001b[34m182\u001b[39;49;00m,\u001b[34m179\u001b[39;49;00m,\u001b[34m169\u001b[39;49;00m,\u001b[34m157\u001b[39;49;00m,\u001b[34m147\u001b[39;49;00m,\u001b[34m149\u001b[39;49;00m,\u001b[34m166\u001b[39;49;00m,\u001b[34m190\u001b[39;49;00m,\u001b[34m213\u001b[39;49;00m,\u001b[34m230\u001b[39;49;00m,\u001b[34m243\u001b[39;49;00m,\u001b[34m251\u001b[39;49;00m,\u001b[34m254\u001b[39;49;00m,\u001b[34m255\u001b[39;49;00m,\u001b[34m255\u001b[39;49;00m,\u001b[34m255\u001b[39;49;00m,\u001b[34m255\u001b[39;49;00m,\u001b[34m255\u001b[39;49;00m,\u001b[34m254\u001b[39;49;00m,\u001b[34m252\u001b[39;49;00m,\u001b[34m246\u001b[39;49;00m,\u001b[34m233\u001b[39;49;00m,\u001b[34m212\u001b[39;49;00m,\u001b[34m186\u001b[39;49;00m,\u001b[34m165\u001b[39;49;00m,\u001b[34m157\u001b[39;49;00m,\u001b[34m164\u001b[39;49;00m,\u001b[34m175\u001b[39;49;00m,\u001b[34m176\u001b[39;49;00m,\u001b[34m165\u001b[39;49;00m,\u001b[34m153\u001b[39;49;00m,\u001b[34m142\u001b[39;49;00m,\u001b[34m137\u001b[39;49;00m,\u001b[34m147\u001b[39;49;00m,\u001b[34m170\u001b[39;49;00m,\u001b[34m196\u001b[39;49;00m,\u001b[34m217\u001b[39;49;00m,\u001b[34m231\u001b[39;49;00m,\u001b[34m242\u001b[39;49;00m,\u001b[34m251\u001b[39;49;00m,\u001b[34m255\u001b[39;49;00m,\u001b[34m255\u001b[39;49;00m,\u001b[34m255\u001b[39;49;00m,\u001b[34m255\u001b[39;49;00m,\u001b[34m255\u001b[39;49;00m,\u001b[34m255\u001b[39;49;00m,\u001b[34m254\u001b[39;49;00m,\u001b[34m252\u001b[39;49;00m,\u001b[34m245\u001b[39;49;00m,\u001b[34m230\u001b[39;49;00m,\u001b[34m207\u001b[39;49;00m,\u001b[34m182\u001b[39;49;00m,\u001b[34m163\u001b[39;49;00m,\u001b[34m158\u001b[39;49;00m,\u001b[34m164\u001b[39;49;00m,\u001b[34m168\u001b[39;49;00m,\u001b[34m158\u001b[39;49;00m,\u001b[34m143\u001b[39;49;00m,\u001b[34m131\u001b[39;49;00m,\u001b[34m125\u001b[39;49;00m,\u001b[34m128\u001b[39;49;00m,\u001b[34m146\u001b[39;49;00m,\u001b[34m174\u001b[39;49;00m,\u001b[34m200\u001b[39;49;00m,\u001b[34m218\u001b[39;49;00m,\u001b[34m231\u001b[39;49;00m,\u001b[34m241\u001b[39;49;00m,\u001b[34m250\u001b[39;49;00m,\u001b[34m254\u001b[39;49;00m,\u001b[34m255\u001b[39;49;00m,\u001b[34m255\u001b[39;49;00m,\u001b[34m255\u001b[39;49;00m,\u001b[34m255\u001b[39;49;00m,\u001b[34m255\u001b[39;49;00m,\u001b[34m255\u001b[39;49;00m,\u001b[34m252\u001b[39;49;00m,\u001b[34m243\u001b[39;49;00m,\u001b[34m227\u001b[39;49;00m,\u001b[34m205\u001b[39;49;00m,\u001b[34m181\u001b[39;49;00m,\u001b[34m164\u001b[39;49;00m,\u001b[34m159\u001b[39;49;00m,\u001b[34m161\u001b[39;49;00m,\u001b[34m157\u001b[39;49;00m,\u001b[34m139\u001b[39;49;00m,\u001b[34m124\u001b[39;49;00m,\u001b[34m115\u001b[39;49;00m,\u001b[34m118\u001b[39;49;00m,\u001b[34m127\u001b[39;49;00m,\u001b[34m148\u001b[39;49;00m,\u001b[34m176\u001b[39;49;00m,\u001b[34m199\u001b[39;49;00m,\u001b[34m216\u001b[39;49;00m,\u001b[34m230\u001b[39;49;00m,\u001b[34m240\u001b[39;49;00m,\u001b[34m249\u001b[39;49;00m,\u001b[34m254\u001b[39;49;00m,\u001b[34m255\u001b[39;49;00m,\u001b[34m255\u001b[39;49;00m,\u001b[34m255\u001b[39;49;00m,\u001b[34m255\u001b[39;49;00m,\u001b[34m255\u001b[39;49;00m,\u001b[34m254\u001b[39;49;00m,\u001b[34m251\u001b[39;49;00m,\u001b[34m241\u001b[39;49;00m,\u001b[34m224\u001b[39;49;00m,\u001b[34m204\u001b[39;49;00m,\u001b[34m184\u001b[39;49;00m,\u001b[34m169\u001b[39;49;00m,\u001b[34m163\u001b[39;49;00m,\u001b[34m160\u001b[39;49;00m,\u001b[34m150\u001b[39;49;00m,\u001b[34m132\u001b[39;49;00m,\u001b[34m119\u001b[39;49;00m,\u001b[34m116\u001b[39;49;00m,\u001b[34m123\u001b[39;49;00m,\u001b[34m133\u001b[39;49;00m,\u001b[34m153\u001b[39;49;00m,\u001b[34m177\u001b[39;49;00m,\u001b[34m197\u001b[39;49;00m,\u001b[34m214\u001b[39;49;00m,\u001b[34m228\u001b[39;49;00m,\u001b[34m240\u001b[39;49;00m,\u001b[34m249\u001b[39;49;00m,\u001b[34m254\u001b[39;49;00m,\u001b[34m255\u001b[39;49;00m,\u001b[34m255\u001b[39;49;00m,\u001b[34m255\u001b[39;49;00m,\u001b[34m255\u001b[39;49;00m,\u001b[34m255\u001b[39;49;00m,\u001b[34m254\u001b[39;49;00m,\u001b[34m251\u001b[39;49;00m,\u001b[34m239\u001b[39;49;00m,\u001b[34m222\u001b[39;49;00m,\u001b[34m205\u001b[39;49;00m,\u001b[34m189\u001b[39;49;00m,\u001b[34m177\u001b[39;49;00m,\u001b[34m171\u001b[39;49;00m,\u001b[34m166\u001b[39;49;00m,\u001b[34m154\u001b[39;49;00m,\u001b[34m139\u001b[39;49;00m,\u001b[34m129\u001b[39;49;00m,\u001b[34m128\u001b[39;49;00m,\u001b[34m134\u001b[39;49;00m,\u001b[34m144\u001b[39;49;00m,\u001b[34m159\u001b[39;49;00m,\u001b[34m177\u001b[39;49;00m,\u001b[34m195\u001b[39;49;00m,\u001b[34m213\u001b[39;49;00m,\u001b[34m228\u001b[39;49;00m,\u001b[34m241\u001b[39;49;00m,\u001b[34m249\u001b[39;49;00m,\u001b[34m254\u001b[39;49;00m,\u001b[34m255\u001b[39;49;00m,\u001b[34m255\u001b[39;49;00m,\u001b[34m255\u001b[39;49;00m,\u001b[34m255\u001b[39;49;00m,\u001b[34m255\u001b[39;49;00m,\u001b[34m254\u001b[39;49;00m,\u001b[34m249\u001b[39;49;00m,\u001b[34m237\u001b[39;49;00m,\u001b[34m222\u001b[39;49;00m,\u001b[34m207\u001b[39;49;00m,\u001b[34m195\u001b[39;49;00m,\u001b[34m186\u001b[39;49;00m,\u001b[34m180\u001b[39;49;00m,\u001b[34m175\u001b[39;49;00m,\u001b[34m166\u001b[39;49;00m,\u001b[34m153\u001b[39;49;00m,\u001b[34m143\u001b[39;49;00m,\u001b[34m140\u001b[39;49;00m,\u001b[34m142\u001b[39;49;00m,\u001b[34m150\u001b[39;49;00m,\u001b[34m162\u001b[39;49;00m,\u001b[34m178\u001b[39;49;00m,\u001b[34m195\u001b[39;49;00m,\u001b[34m214\u001b[39;49;00m,\u001b[34m230\u001b[39;49;00m,\u001b[34m242\u001b[39;49;00m,\u001b[34m250\u001b[39;49;00m,\u001b[34m254\u001b[39;49;00m,\u001b[34m255\u001b[39;49;00m,\u001b[34m255\u001b[39;49;00m,\u001b[34m255\u001b[39;49;00m,\u001b[34m255\u001b[39;49;00m,\u001b[34m255\u001b[39;49;00m,\u001b[34m253\u001b[39;49;00m,\u001b[34m247\u001b[39;49;00m,\u001b[34m235\u001b[39;49;00m,\u001b[34m220\u001b[39;49;00m,\u001b[34m207\u001b[39;49;00m,\u001b[34m197\u001b[39;49;00m,\u001b[34m189\u001b[39;49;00m,\u001b[34m183\u001b[39;49;00m,\u001b[34m179\u001b[39;49;00m,\u001b[34m172\u001b[39;49;00m,\u001b[34m160\u001b[39;49;00m,\u001b[34m148\u001b[39;49;00m,\u001b[34m142\u001b[39;49;00m,\u001b[34m143\u001b[39;49;00m,\u001b[34m150\u001b[39;49;00m,\u001b[34m161\u001b[39;49;00m,\u001b[34m178\u001b[39;49;00m,\u001b[34m198\u001b[39;49;00m,\u001b[34m217\u001b[39;49;00m,\u001b[34m233\u001b[39;49;00m,\u001b[34m244\u001b[39;49;00m,\u001b[34m250\u001b[39;49;00m,\u001b[34m254\u001b[39;49;00m,\u001b[34m255\u001b[39;49;00m,\u001b[34m255\u001b[39;49;00m,\u001b[34m255\u001b[39;49;00m,\u001b[34m255\u001b[39;49;00m,\u001b[34m255\u001b[39;49;00m,\u001b[34m253\u001b[39;49;00m,\u001b[34m246\u001b[39;49;00m,\u001b[34m233\u001b[39;49;00m,\u001b[34m218\u001b[39;49;00m,\u001b[34m204\u001b[39;49;00m,\u001b[34m192\u001b[39;49;00m,\u001b[34m184\u001b[39;49;00m,\u001b[34m177\u001b[39;49;00m,\u001b[34m172\u001b[39;49;00m,\u001b[34m165\u001b[39;49;00m,\u001b[34m153\u001b[39;49;00m,\u001b[34m142\u001b[39;49;00m,\u001b[34m137\u001b[39;49;00m,\u001b[34m139\u001b[39;49;00m,\u001b[34m148\u001b[39;49;00m,\u001b[34m163\u001b[39;49;00m,\u001b[34m183\u001b[39;49;00m,\u001b[34m204\u001b[39;49;00m,\u001b[34m222\u001b[39;49;00m,\u001b[34m236\u001b[39;49;00m,\u001b[34m246\u001b[39;49;00m,\u001b[34m251\u001b[39;49;00m,\u001b[34m254\u001b[39;49;00m,\u001b[34m255\u001b[39;49;00m,\u001b[34m255\u001b[39;49;00m,\u001b[34m255\u001b[39;49;00m,\u001b[34m255\u001b[39;49;00m,\u001b[34m255\u001b[39;49;00m,\u001b[34m253\u001b[39;49;00m,\u001b[34m247\u001b[39;49;00m,\u001b[34m234\u001b[39;49;00m,\u001b[34m218\u001b[39;49;00m,\u001b[34m201\u001b[39;49;00m,\u001b[34m186\u001b[39;49;00m,\u001b[34m174\u001b[39;49;00m,\u001b[34m165\u001b[39;49;00m,\u001b[34m157\u001b[39;49;00m,\u001b[34m148\u001b[39;49;00m,\u001b[34m137\u001b[39;49;00m,\u001b[34m130\u001b[39;49;00m,\u001b[34m129\u001b[39;49;00m,\u001b[34m137\u001b[39;49;00m,\u001b[34m151\u001b[39;49;00m,\u001b[34m171\u001b[39;49;00m,\u001b[34m194\u001b[39;49;00m,\u001b[34m214\u001b[39;49;00m,\u001b[34m230\u001b[39;49;00m,\u001b[34m242\u001b[39;49;00m,\u001b[34m248\u001b[39;49;00m,\u001b[34m252\u001b[39;49;00m,\u001b[34m254\u001b[39;49;00m,\u001b[34m255\u001b[39;49;00m,\u001b[34m255\u001b[39;49;00m,\u001b[34m255\u001b[39;49;00m,\u001b[34m255\u001b[39;49;00m,\u001b[34m255\u001b[39;49;00m,\u001b[34m253\u001b[39;49;00m,\u001b[34m249\u001b[39;49;00m,\u001b[34m238\u001b[39;49;00m,\u001b[34m222\u001b[39;49;00m,\u001b[34m203\u001b[39;49;00m,\u001b[34m184\u001b[39;49;00m,\u001b[34m168\u001b[39;49;00m,\u001b[34m154\u001b[39;49;00m,\u001b[34m143\u001b[39;49;00m,\u001b[34m132\u001b[39;49;00m,\u001b[34m124\u001b[39;49;00m,\u001b[34m123\u001b[39;49;00m,\u001b[34m130\u001b[39;49;00m,\u001b[34m145\u001b[39;49;00m,\u001b[34m165\u001b[39;49;00m,\u001b[34m188\u001b[39;49;00m,\u001b[34m209\u001b[39;49;00m,\u001b[34m227\u001b[39;49;00m,\u001b[34m239\u001b[39;49;00m,\u001b[34m247\u001b[39;49;00m,\u001b[34m251\u001b[39;49;00m,\u001b[34m253\u001b[39;49;00m,\u001b[34m255\u001b[39;49;00m,\u001b[34m255\u001b[39;49;00m,\u001b[34m255\u001b[39;49;00m,\u001b[34m255\u001b[39;49;00m,\u001b[34m255\u001b[39;49;00m,\u001b[34m255\u001b[39;49;00m,\u001b[34m254\u001b[39;49;00m,\u001b[34m251\u001b[39;49;00m,\u001b[34m244\u001b[39;49;00m,\u001b[34m232\u001b[39;49;00m,\u001b[34m214\u001b[39;49;00m,\u001b[34m194\u001b[39;49;00m,\u001b[34m174\u001b[39;49;00m,\u001b[34m156\u001b[39;49;00m,\u001b[34m142\u001b[39;49;00m,\u001b[34m132\u001b[39;49;00m,\u001b[34m130\u001b[39;49;00m,\u001b[34m134\u001b[39;49;00m,\u001b[34m148\u001b[39;49;00m,\u001b[34m167\u001b[39;49;00m,\u001b[34m189\u001b[39;49;00m,\u001b[34m210\u001b[39;49;00m,\u001b[34m226\u001b[39;49;00m,\u001b[34m238\u001b[39;49;00m,\u001b[34m246\u001b[39;49;00m,\u001b[34m250\u001b[39;49;00m,\u001b[34m253\u001b[39;49;00m,\u001b[34m254\u001b[39;49;00m,\u001b[34m255\u001b[39;49;00m,\u001b[34m255\u001b[39;49;00m,\u001b[34m255\u001b[39;49;00m,\u001b[34m255\u001b[39;49;00m,\u001b[34m255\u001b[39;49;00m,\u001b[34m255\u001b[39;49;00m,\u001b[34m255\u001b[39;49;00m,\u001b[34m253\u001b[39;49;00m,\u001b[34m250\u001b[39;49;00m,\u001b[34m243\u001b[39;49;00m,\u001b[34m231\u001b[39;49;00m,\u001b[34m215\u001b[39;49;00m,\u001b[34m196\u001b[39;49;00m,\u001b[34m178\u001b[39;49;00m,\u001b[34m163\u001b[39;49;00m,\u001b[34m155\u001b[39;49;00m,\u001b[34m156\u001b[39;49;00m,\u001b[34m164\u001b[39;49;00m,\u001b[34m179\u001b[39;49;00m,\u001b[34m197\u001b[39;49;00m,\u001b[34m215\u001b[39;49;00m,\u001b[34m230\u001b[39;49;00m,\u001b[34m240\u001b[39;49;00m,\u001b[34m247\u001b[39;49;00m,\u001b[34m251\u001b[39;49;00m,\u001b[34m253\u001b[39;49;00m,\u001b[34m254\u001b[39;49;00m,\u001b[34m255\u001b[39;49;00m,\u001b[34m255\u001b[39;49;00m,\u001b[34m255\u001b[39;49;00m,\u001b[34m255\u001b[39;49;00m,\u001b[34m255\u001b[39;49;00m,\u001b[34m255\u001b[39;49;00m,\u001b[34m255\u001b[39;49;00m,\u001b[34m255\u001b[39;49;00m,\u001b[34m254\u001b[39;49;00m,\u001b[34m253\u001b[39;49;00m,\u001b[34m251\u001b[39;49;00m,\u001b[34m246\u001b[39;49;00m,\u001b[34m238\u001b[39;49;00m,\u001b[34m228\u001b[39;49;00m,\u001b[34m217\u001b[39;49;00m,\u001b[34m208\u001b[39;49;00m,\u001b[34m203\u001b[39;49;00m,\u001b[34m204\u001b[39;49;00m,\u001b[34m210\u001b[39;49;00m,\u001b[34m218\u001b[39;49;00m,\u001b[34m228\u001b[39;49;00m,\u001b[34m236\u001b[39;49;00m,\u001b[34m243\u001b[39;49;00m,\u001b[34m248\u001b[39;49;00m,\u001b[34m251\u001b[39;49;00m,\u001b[34m253\u001b[39;49;00m,\u001b[34m254\u001b[39;49;00m,\u001b[34m255\u001b[39;49;00m,\u001b[34m255\u001b[39;49;00m,\u001b[34m255\u001b[39;49;00m,\u001b[34m255\u001b[39;49;00m,\u001b[34m255\u001b[39;49;00m,\u001b[34m255\u001b[39;49;00m,\u001b[34m255\u001b[39;49;00m,\u001b[34m255\u001b[39;49;00m,\u001b[34m255\u001b[39;49;00m,\u001b[34m255\u001b[39;49;00m,\u001b[34m255\u001b[39;49;00m,\u001b[34m254\u001b[39;49;00m,\u001b[34m252\u001b[39;49;00m,\u001b[34m249\u001b[39;49;00m,\u001b[34m245\u001b[39;49;00m,\u001b[34m241\u001b[39;49;00m,\u001b[34m238\u001b[39;49;00m,\u001b[34m237\u001b[39;49;00m,\u001b[34m237\u001b[39;49;00m,\u001b[34m239\u001b[39;49;00m,\u001b[34m242\u001b[39;49;00m,\u001b[34m245\u001b[39;49;00m,\u001b[34m247\u001b[39;49;00m,\u001b[34m250\u001b[39;49;00m,\u001b[34m252\u001b[39;49;00m,\u001b[34m253\u001b[39;49;00m,\u001b[34m254\u001b[39;49;00m,\u001b[34m255\u001b[39;49;00m,\u001b[34m255\u001b[39;49;00m,\u001b[34m255\u001b[39;49;00m,\u001b[34m255\u001b[39;49;00m,\u001b[34m255\u001b[39;49;00m,\u001b[34m255\u001b[39;49;00m,\u001b[34m255\u001b[39;49;00m,\u001b[34m255\u001b[39;49;00m,\u001b[34m255\u001b[39;49;00m,\u001b[34m255\u001b[39;49;00m,\u001b[34m255\u001b[39;49;00m,\u001b[34m255\u001b[39;49;00m,\u001b[34m254\u001b[39;49;00m,\u001b[34m254\u001b[39;49;00m,\u001b[34m253\u001b[39;49;00m,\u001b[34m252\u001b[39;49;00m,\u001b[34m250\u001b[39;49;00m,\u001b[34m249\u001b[39;49;00m,\u001b[34m248\u001b[39;49;00m,\u001b[34m249\u001b[39;49;00m,\u001b[34m249\u001b[39;49;00m,\u001b[34m250\u001b[39;49;00m,\u001b[34m252\u001b[39;49;00m,\u001b[34m253\u001b[39;49;00m,\u001b[34m253\u001b[39;49;00m,\u001b[34m254\u001b[39;49;00m,\u001b[34m254\u001b[39;49;00m,\u001b[34m255\u001b[39;49;00m,\u001b[34m255\u001b[39;49;00m,\u001b[34m255\u001b[39;49;00m,\u001b[34m255\u001b[39;49;00m,\u001b[34m255\u001b[39;49;00m,\u001b[34m255\u001b[39;49;00m,\u001b[34m255\u001b[39;49;00m,\u001b[34m255\u001b[39;49;00m,\u001b[34m255\u001b[39;49;00m,\u001b[34m255\u001b[39;49;00m,\u001b[34m255\u001b[39;49;00m,\u001b[34m255\u001b[39;49;00m,\u001b[34m255\u001b[39;49;00m,\u001b[34m255\u001b[39;49;00m,\u001b[34m255\u001b[39;49;00m,\u001b[34m255\u001b[39;49;00m,\u001b[34m255\u001b[39;49;00m,\u001b[34m255\u001b[39;49;00m,\u001b[34m255\u001b[39;49;00m,\u001b[34m254\u001b[39;49;00m,\u001b[34m254\u001b[39;49;00m,\u001b[34m254\u001b[39;49;00m,\u001b[34m254\u001b[39;49;00m,\u001b[34m255\u001b[39;49;00m,\u001b[34m255\u001b[39;49;00m,\u001b[34m255\u001b[39;49;00m,\u001b[34m255\u001b[39;49;00m,\u001b[34m255\u001b[39;49;00m,\u001b[34m255\u001b[39;49;00m,\u001b[34m255\u001b[39;49;00m,\u001b[34m255\u001b[39;49;00m,\u001b[34m255\u001b[39;49;00m,\u001b[34m255\u001b[39;49;00m,\u001b[34m255\u001b[39;49;00m,\u001b[34m255\u001b[39;49;00m])\r\n",
      "\r\n",
      "\r\n",
      "\u001b[34mclass\u001b[39;49;00m \u001b[04m\u001b[32mMnistTransformer\u001b[39;49;00m(\u001b[36mobject\u001b[39;49;00m):\r\n",
      "\r\n",
      "    \u001b[34mdef\u001b[39;49;00m \u001b[32m__init__\u001b[39;49;00m(\u001b[36mself\u001b[39;49;00m):\r\n",
      "        \u001b[34mprint\u001b[39;49;00m(\u001b[33m\"\u001b[39;49;00m\u001b[33minit\u001b[39;49;00m\u001b[33m\"\u001b[39;49;00m);\r\n",
      "        \r\n",
      "    \u001b[34mdef\u001b[39;49;00m \u001b[32mpreProcessMNIST\u001b[39;49;00m(\u001b[36mself\u001b[39;49;00m,X):\r\n",
      "        \u001b[33m'''\u001b[39;49;00m\r\n",
      "\u001b[33m        Convert values assumed to be in 0-1 range to a value in 0-255.\u001b[39;49;00m\r\n",
      "\u001b[33m        The remove the training mean needed by the Caffe2 model.\u001b[39;49;00m\r\n",
      "\u001b[33m        Finally reshape the output to that expected by the model\u001b[39;49;00m\r\n",
      "\u001b[33m        '''\u001b[39;49;00m\r\n",
      "        X = X * \u001b[34m255\u001b[39;49;00m\r\n",
      "        X = \u001b[34m255\u001b[39;49;00m - X\r\n",
      "        X = (X.reshape(\u001b[34m784\u001b[39;49;00m) - MEANS).reshape(\u001b[34m28\u001b[39;49;00m,\u001b[34m28\u001b[39;49;00m,\u001b[34m1\u001b[39;49;00m)\r\n",
      "        X = np.transpose(X, (\u001b[34m2\u001b[39;49;00m, \u001b[34m0\u001b[39;49;00m, \u001b[34m1\u001b[39;49;00m))\r\n",
      "        \u001b[34mreturn\u001b[39;49;00m X\r\n",
      "\r\n",
      "    \u001b[34mdef\u001b[39;49;00m \u001b[32mtransform_input\u001b[39;49;00m(\u001b[36mself\u001b[39;49;00m,X,names):\r\n",
      "        \u001b[34mreturn\u001b[39;49;00m \u001b[36mself\u001b[39;49;00m.preProcessMNIST(X)\r\n",
      "\r\n",
      "    \u001b[34mdef\u001b[39;49;00m \u001b[32mtransform_output\u001b[39;49;00m(\u001b[36mself\u001b[39;49;00m,X,names):\r\n",
      "        \u001b[34mreturn\u001b[39;49;00m X.reshape(\u001b[34m1\u001b[39;49;00m,\u001b[34m10\u001b[39;49;00m)\r\n"
     ]
    }
   ],
   "source": [
    "!pygmentize MnistTransformer.py"
   ]
  },
  {
   "cell_type": "code",
   "execution_count": 12,
   "metadata": {},
   "outputs": [
    {
     "name": "stdout",
     "output_type": "stream",
     "text": [
      "---> Installing application source...\n",
      "Build completed successfully\n"
     ]
    }
   ],
   "source": [
    "!s2i build . seldonio/seldon-core-s2i-python3:0.2 mnist-caffe2-transformer:0.1"
   ]
  },
  {
   "cell_type": "code",
   "execution_count": 29,
   "metadata": {},
   "outputs": [
    {
     "name": "stdout",
     "output_type": "stream",
     "text": [
      "f2ce59df93344847d070d4218d6bccb5a7d1dab48120967a2e213435a69dce9c\r\n"
     ]
    }
   ],
   "source": [
    "!docker run --name \"mnist-transformer\" -d --rm -p 5000:5000 mnist-caffe2-transformer:0.1"
   ]
  },
  {
   "cell_type": "markdown",
   "metadata": {},
   "source": [
    "Run the Seldon Nvidia Inference Server Proxy Model.\n",
    "\n",
    "** CHANGE THE IP ADDRESS BELOW TO THAT OF YOUR RUNNING NVIDIA SERVER **"
   ]
  },
  {
   "cell_type": "code",
   "execution_count": 30,
   "metadata": {},
   "outputs": [
    {
     "name": "stdout",
     "output_type": "stream",
     "text": [
      "3bcca7450fadcbb8d54f90af0b40c32f26b875938b742451a4365ced0c5d3ccf\r\n"
     ]
    }
   ],
   "source": [
    "!docker run --name \"tensorrt-proxy\" -d --rm -p 5001:5001 \\\n",
    "    -e PREDICTIVE_UNIT_SERVICE_PORT=5001 \\\n",
    "    -e PREDICTIVE_UNIT_PARAMETERS='[{\"name\":\"url\",\"type\":\"STRING\",\"value\":\"35.204.115.6:8000\"},{\"name\":\"model_name\",\"type\":\"STRING\",\"value\":\"tensorrt_mnist\"},{\"name\":\"protocol\",\"type\":\"STRING\",\"value\":\"HTTP\"}]' \\\n",
    "    seldonio/nvidia-inference-server-proxy:0.1"
   ]
  },
  {
   "cell_type": "code",
   "execution_count": 31,
   "metadata": {},
   "outputs": [],
   "source": [
    "TRANSFORMER_URL=\"localhost:5000\"\n",
    "PREDICTOR_URL=\"localhost:5001\""
   ]
  },
  {
   "cell_type": "markdown",
   "metadata": {},
   "source": [
    "In the next few steps we illustrate each step by step process and test that out on our running Docker containers."
   ]
  },
  {
   "cell_type": "code",
   "execution_count": 32,
   "metadata": {},
   "outputs": [
    {
     "data": {
      "image/png": "[encoded data removed]",
      "text/plain": [
       "<matplotlib.figure.Figure at 0x7ff1285767f0>"
      ]
     },
     "metadata": {},
     "output_type": "display_data"
    },
    {
     "name": "stdout",
     "output_type": "stream",
     "text": [
      "(1, 28, 28)\n"
     ]
    }
   ],
   "source": [
    "data = gen_mnist_data(mnist)\n",
    "response = rest_transform_input_request(TRANSFORMER_URL,data)\n",
    "transformed = np.array(response['data']['ndarray'])\n",
    "print(transformed.shape)"
   ]
  },
  {
   "cell_type": "code",
   "execution_count": 33,
   "metadata": {},
   "outputs": [
    {
     "name": "stdout",
     "output_type": "stream",
     "text": [
      "[[[[6.36274109e-08]]\n",
      "\n",
      "  [[9.99982357e-01]]\n",
      "\n",
      "  [[1.35594092e-07]]\n",
      "\n",
      "  [[2.00526298e-08]]\n",
      "\n",
      "  [[1.17960089e-05]]\n",
      "\n",
      "  [[8.07224509e-08]]\n",
      "\n",
      "  [[4.73712625e-08]]\n",
      "\n",
      "  [[4.78241873e-06]]\n",
      "\n",
      "  [[6.21992911e-07]]\n",
      "\n",
      "  [[9.71163061e-08]]]]\n"
     ]
    }
   ],
   "source": [
    "response = rest_predict_request(PREDICTOR_URL,transformed)\n",
    "predictions = np.array(response[\"data\"][\"ndarray\"])\n",
    "print(predictions)"
   ]
  },
  {
   "cell_type": "code",
   "execution_count": 34,
   "metadata": {},
   "outputs": [
    {
     "name": "stdout",
     "output_type": "stream",
     "text": [
      "{'data': {'names': None, 'ndarray': [[6.362741089560586e-08, 0.9999823570251465, 1.3559409239860543e-07, 2.005262977888833e-08, 1.1796008948294912e-05, 8.072245094581376e-08, 4.737126246823209e-08, 4.782418727700133e-06, 6.219929105100164e-07, 9.711630610809152e-08]]}}\n"
     ]
    }
   ],
   "source": [
    "response = rest_transform_output_request(TRANSFORMER_URL,predictions)\n",
    "print(response)"
   ]
  },
  {
   "cell_type": "code",
   "execution_count": 35,
   "metadata": {},
   "outputs": [
    {
     "name": "stdout",
     "output_type": "stream",
     "text": [
      "mnist-transformer\n",
      "tensorrt-proxy\n"
     ]
    }
   ],
   "source": [
    "!docker rm -f mnist-transformer\n",
    "!docker rm -f tensorrt-proxy"
   ]
  },
  {
   "cell_type": "markdown",
   "metadata": {},
   "source": [
    "# Test From GCP Cluster"
   ]
  },
  {
   "cell_type": "code",
   "execution_count": 4,
   "metadata": {},
   "outputs": [
    {
     "name": "stdout",
     "output_type": "stream",
     "text": [
      "serviceaccount \"tiller\" created\n",
      "clusterrolebinding \"tiller\" created\n",
      "$HELM_HOME has been configured at /home/clive/.helm.\n",
      "\n",
      "Tiller (the Helm server-side component) has been installed into your Kubernetes Cluster.\n",
      "\n",
      "Please note: by default, Tiller is deployed with an insecure 'allow unauthenticated users' policy.\n",
      "To prevent this, run `helm init` with the --tiller-tls-verify flag.\n",
      "For more information on securing your installation see: https://docs.helm.sh/using_helm/#securing-your-helm-installation\n",
      "Happy Helming!\n"
     ]
    }
   ],
   "source": [
    "!kubectl -n kube-system create sa tiller\n",
    "!kubectl create clusterrolebinding tiller --clusterrole cluster-admin --serviceaccount=kube-system:tiller\n",
    "!helm init --service-account tiller"
   ]
  },
  {
   "cell_type": "code",
   "execution_count": 5,
   "metadata": {},
   "outputs": [
    {
     "name": "stdout",
     "output_type": "stream",
     "text": [
      "Waiting for rollout to finish: 0 of 1 updated replicas are available...\n",
      "deployment \"tiller-deploy\" successfully rolled out\n"
     ]
    }
   ],
   "source": [
    "!kubectl rollout status deploy/tiller-deploy -n kube-system"
   ]
  },
  {
   "cell_type": "code",
   "execution_count": 6,
   "metadata": {},
   "outputs": [
    {
     "name": "stdout",
     "output_type": "stream",
     "text": [
      "NAME:   seldon-core-crd\n",
      "LAST DEPLOYED: Sat Sep 22 09:59:50 2018\n",
      "NAMESPACE: default\n",
      "STATUS: DEPLOYED\n",
      "\n",
      "RESOURCES:\n",
      "==> v1/ConfigMap\n",
      "NAME                     DATA  AGE\n",
      "seldon-spartakus-config  3     0s\n",
      "\n",
      "==> v1beta1/CustomResourceDefinition\n",
      "NAME                                         AGE\n",
      "seldondeployments.machinelearning.seldon.io  0s\n",
      "\n",
      "==> v1beta1/Deployment\n",
      "NAME                        DESIRED  CURRENT  UP-TO-DATE  AVAILABLE  AGE\n",
      "seldon-spartakus-volunteer  1        0        0           0          0s\n",
      "\n",
      "==> v1/ServiceAccount\n",
      "NAME                        SECRETS  AGE\n",
      "seldon-spartakus-volunteer  1        0s\n",
      "\n",
      "==> v1beta1/ClusterRole\n",
      "NAME                        AGE\n",
      "seldon-spartakus-volunteer  0s\n",
      "\n",
      "==> v1beta1/ClusterRoleBinding\n",
      "NAME                        AGE\n",
      "seldon-spartakus-volunteer  0s\n",
      "\n",
      "\n",
      "NOTES:\n",
      "NOTES: TODO\n",
      "\n",
      "\n"
     ]
    }
   ],
   "source": [
    "!helm install ../../../helm-charts/seldon-core-crd --name seldon-core-crd \\\n",
    "    --set usage_metrics.enabled=true"
   ]
  },
  {
   "cell_type": "code",
   "execution_count": 7,
   "metadata": {},
   "outputs": [
    {
     "name": "stdout",
     "output_type": "stream",
     "text": [
      "namespace \"seldon\" created\r\n"
     ]
    }
   ],
   "source": [
    "!kubectl create namespace seldon"
   ]
  },
  {
   "cell_type": "code",
   "execution_count": 8,
   "metadata": {},
   "outputs": [
    {
     "name": "stdout",
     "output_type": "stream",
     "text": [
      "Context \"gke_kubeflow-testing-213813_europe-west4-a_cluster-1\" modified.\r\n"
     ]
    }
   ],
   "source": [
    "!kubectl config set-context $(kubectl config current-context) --namespace=seldon"
   ]
  },
  {
   "cell_type": "code",
   "execution_count": 10,
   "metadata": {},
   "outputs": [
    {
     "name": "stdout",
     "output_type": "stream",
     "text": [
      "NAME:   seldon-core\n",
      "LAST DEPLOYED: Sat Sep 22 10:05:18 2018\n",
      "NAMESPACE: seldon\n",
      "STATUS: DEPLOYED\n",
      "\n",
      "RESOURCES:\n",
      "==> v1/Pod(related)\n",
      "NAME                                                 READY  STATUS             RESTARTS  AGE\n",
      "seldon-core-ambassador-778c58bf5d-rpkr5              0/2    ContainerCreating  0         1s\n",
      "seldon-core-seldon-apiserver-6cb45f8db7-7fzxk        0/1    ContainerCreating  0         1s\n",
      "seldon-core-seldon-cluster-manager-8485f8c994-n87tn  0/1    ContainerCreating  0         1s\n",
      "seldon-core-redis-8668565565-wgdlk                   0/1    ContainerCreating  0         1s\n",
      "\n",
      "==> v1/ClusterRoleBinding\n",
      "NAME    AGE\n",
      "seldon  1s\n",
      "\n",
      "==> v1beta1/Role\n",
      "NAME          AGE\n",
      "ambassador    1s\n",
      "seldon-local  1s\n",
      "\n",
      "==> v1beta1/Deployment\n",
      "NAME                                DESIRED  CURRENT  UP-TO-DATE  AVAILABLE  AGE\n",
      "seldon-core-ambassador              1        1        1           0          1s\n",
      "seldon-core-seldon-apiserver        1        1        1           0          1s\n",
      "seldon-core-seldon-cluster-manager  1        1        1           0          1s\n",
      "seldon-core-redis                   1        1        1           0          1s\n",
      "\n",
      "==> v1beta1/RoleBinding\n",
      "NAME        AGE\n",
      "ambassador  1s\n",
      "\n",
      "==> v1/Service\n",
      "NAME                          TYPE       CLUSTER-IP     EXTERNAL-IP  PORT(S)                        AGE\n",
      "seldon-core-ambassador-admin  NodePort   10.39.244.193  <none>       8877:30249/TCP                 1s\n",
      "seldon-core-ambassador        NodePort   10.39.248.82   <none>       8080:31362/TCP                 1s\n",
      "seldon-core-seldon-apiserver  NodePort   10.39.243.139  <none>       8080:32252/TCP,5000:30451/TCP  1s\n",
      "seldon-core-redis             ClusterIP  10.39.244.96   <none>       6379/TCP                       1s\n",
      "\n",
      "==> v1/ServiceAccount\n",
      "NAME    SECRETS  AGE\n",
      "seldon  1        1s\n",
      "\n",
      "==> v1beta1/ClusterRole\n",
      "NAME        AGE\n",
      "seldon-crd  1s\n",
      "\n",
      "==> v1/RoleBinding\n",
      "NAME    AGE\n",
      "seldon  1s\n",
      "\n",
      "\n",
      "NOTES:\n",
      "Thank you for installing Seldon Core.\n",
      "\n",
      "Documentation can be found at https://github.com/SeldonIO/seldon-core\n",
      "\n",
      "\n",
      "\n",
      "\n"
     ]
    }
   ],
   "source": [
    "!helm install ../../../helm-charts/seldon-core --name seldon-core \\\n",
    "        --namespace seldon \\\n",
    "        --set ambassador.enabled=true \\\n",
    "        --set apife.image.name=127.0.0.1:5000/seldonio/apife:0.2.4-SNAPSHOT \\\n",
    "        --set cluster_manager.image.name=127.0.0.1:5000/seldonio/cluster-manager:0.2.4-SNAPSHOT \\\n",
    "        --set cluster_manager.image.pull_policy=Always \\\n",
    "        --set engine.image.name=127.0.0.1:5000/seldonio/engine:0.2.4-SNAPSHOT"
   ]
  },
  {
   "cell_type": "code",
   "execution_count": 11,
   "metadata": {},
   "outputs": [
    {
     "name": "stdout",
     "output_type": "stream",
     "text": [
      "Waiting for rollout to finish: 0 of 1 updated replicas are available...\n",
      "deployment \"seldon-core-seldon-cluster-manager\" successfully rolled out\n",
      "deployment \"seldon-core-seldon-apiserver\" successfully rolled out\n"
     ]
    }
   ],
   "source": [
    "!kubectl rollout status deploy/seldon-core-seldon-cluster-manager\n",
    "!kubectl rollout status deploy/seldon-core-seldon-apiserver"
   ]
  },
  {
   "cell_type": "code",
   "execution_count": null,
   "metadata": {},
   "outputs": [],
   "source": [
    "!kubectl create -f mnist_nvidia_deployment.json"
   ]
  },
  {
   "cell_type": "markdown",
   "metadata": {},
   "source": [
    "**Port forward Ambassador**\n",
    "\n",
    "```\n",
    "kubectl port-forward $(kubectl get pods -n seldon -l service=ambassador -o jsonpath='{.items[0].metadata.name}') -n seldon 8003:8080\n",
    "```"
   ]
  },
  {
   "cell_type": "code",
   "execution_count": 14,
   "metadata": {},
   "outputs": [
    {
     "data": {
      "image/png": "[encoded data removed]",
      "text/plain": [
       "<matplotlib.figure.Figure at 0x7ff2e44c3cc0>"
      ]
     },
     "metadata": {},
     "output_type": "display_data"
    },
    {
     "name": "stdout",
     "output_type": "stream",
     "text": [
      "200\n",
      "{\n",
      "  \"meta\": {\n",
      "    \"puid\": \"800pictsl5iql7abbj59usa1th\",\n",
      "    \"tags\": {\n",
      "    },\n",
      "    \"routing\": {\n",
      "      \"mnist-transformer\": -1\n",
      "    }\n",
      "  },\n",
      "  \"data\": {\n",
      "    \"names\": [\"t:0\", \"t:1\", \"t:2\", \"t:3\", \"t:4\", \"t:5\", \"t:6\", \"t:7\", \"t:8\", \"t:9\"],\n",
      "    \"tensor\": {\n",
      "      \"shape\": [1, 10, 1, 1],\n",
      "      \"values\": [2.777279348720185E-7, 4.369575279383753E-8, 1.7066646250896156E-5, 1.005070870974123E-7, 3.579007645804211E-10, 3.0749108814731585E-10, 6.789910855786729E-10, 1.049850784085038E-8, 0.9999823570251465, 1.4369774703482108E-7]\n",
      "    }\n",
      "  }\n",
      "}\n"
     ]
    }
   ],
   "source": [
    "data = gen_mnist_data(mnist)\n",
    "data = data.reshape((784))\n",
    "rest_request_ambassador(\"nvidia-mnist\",endpoint=\"localhost:8003\",arr=data)"
   ]
  },
  {
   "cell_type": "code",
   "execution_count": null,
   "metadata": {},
   "outputs": [],
   "source": []
  }
 ],
 "metadata": {
  "kernelspec": {
   "display_name": "Python 3",
   "language": "python",
   "name": "python3"
  },
  "language_info": {
   "codemirror_mode": {
    "name": "ipython",
    "version": 3
   },
   "file_extension": ".py",
   "mimetype": "text/x-python",
   "name": "python",
   "nbconvert_exporter": "python",
   "pygments_lexer": "ipython3",
   "version": "3.6.4"
  }
 },
 "nbformat": 4,
 "nbformat_minor": 2
}
