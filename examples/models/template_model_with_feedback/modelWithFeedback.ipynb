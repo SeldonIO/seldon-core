{
 "cells": [
  {
   "cell_type": "markdown",
   "metadata": {},
   "source": [
    "# Model with Feedback\n",
    "\n",
    "Example testing a model with both predict and feedback in python. This could be used as a basis for a reinforcement learning model deployment.\n",
    " "
   ]
  },
  {
   "cell_type": "markdown",
   "metadata": {},
   "source": [
    "# REST"
   ]
  },
  {
   "cell_type": "code",
   "execution_count": null,
   "metadata": {},
   "outputs": [],
   "source": [
    "!s2i build -E environment_rest . seldonio/seldon-core-s2i-python3:0.3-SNAPSHOT model-with-feedback-rest:0.1"
   ]
  },
  {
   "cell_type": "code",
   "execution_count": null,
   "metadata": {},
   "outputs": [],
   "source": [
    "!docker run --name \"model-with-feedback\" -d --rm -p 5000:5000 model-with-feedback-rest:0.1"
   ]
  },
  {
   "cell_type": "code",
   "execution_count": null,
   "metadata": {},
   "outputs": [],
   "source": [
    "!cd ../../../wrappers/testing && make build_protos"
   ]
  },
  {
   "cell_type": "markdown",
   "metadata": {},
   "source": [
    "## Test predict"
   ]
  },
  {
   "cell_type": "code",
   "execution_count": null,
   "metadata": {},
   "outputs": [],
   "source": [
    "!python ../../../wrappers/testing/tester.py contract.json 0.0.0.0 5000 -p"
   ]
  },
  {
   "cell_type": "markdown",
   "metadata": {},
   "source": [
    "## Test feedback"
   ]
  },
  {
   "cell_type": "code",
   "execution_count": null,
   "metadata": {},
   "outputs": [],
   "source": [
    "!python ../../../wrappers/testing/tester.py contract.json 0.0.0.0 5000 -p --endpoint send-feedback"
   ]
  },
  {
   "cell_type": "code",
   "execution_count": null,
   "metadata": {},
   "outputs": [],
   "source": [
    "!docker rm model-with-feedback --force"
   ]
  },
  {
   "cell_type": "markdown",
   "metadata": {},
   "source": [
    "# gRPC"
   ]
  },
  {
   "cell_type": "code",
   "execution_count": null,
   "metadata": {},
   "outputs": [],
   "source": [
    "!s2i build -E environment_grpc . seldonio/seldon-core-s2i-python3:0.3-SNAPSHOT model-with-feedback-grpc:0.1"
   ]
  },
  {
   "cell_type": "code",
   "execution_count": null,
   "metadata": {},
   "outputs": [],
   "source": [
    "!docker run --name \"model-with-feedback\" -d --rm -p 5000:5000 model-with-feedback-grpc:0.1"
   ]
  },
  {
   "cell_type": "code",
   "execution_count": null,
   "metadata": {},
   "outputs": [],
   "source": [
    "!cd ../../../wrappers/testing && make build_protos"
   ]
  },
  {
   "cell_type": "markdown",
   "metadata": {},
   "source": [
    "## Test predict"
   ]
  },
  {
   "cell_type": "code",
   "execution_count": null,
   "metadata": {},
   "outputs": [],
   "source": [
    "!python ../../../wrappers/testing/tester.py contract.json 0.0.0.0 5000 -p --grpc"
   ]
  },
  {
   "cell_type": "markdown",
   "metadata": {},
   "source": [
    "## Test feedback"
   ]
  },
  {
   "cell_type": "code",
   "execution_count": null,
   "metadata": {},
   "outputs": [],
   "source": [
    "!python ../../../wrappers/testing/tester.py contract.json 0.0.0.0 5000 -p --endpoint send-feedback --grpc"
   ]
  },
  {
   "cell_type": "code",
   "execution_count": null,
   "metadata": {},
   "outputs": [],
   "source": [
    "!docker rm model-with-feedback --force"
   ]
  },
  {
   "cell_type": "markdown",
   "metadata": {},
   "source": [
    "# Test using Minikube\n",
    "\n",
    "**Due to a [minikube/s2i issue](https://github.com/SeldonIO/seldon-core/issues/253) you will need Minikube version 0.25.2**"
   ]
  },
  {
   "cell_type": "code",
   "execution_count": 8,
   "metadata": {},
   "outputs": [
    {
     "name": "stdout",
     "output_type": "stream",
     "text": [
      "Starting local Kubernetes v1.9.4 cluster...\n",
      "Starting VM...\n",
      "Getting VM IP address...\n",
      "Moving files into cluster...\n",
      "Setting up certs...\n",
      "Connecting to cluster...\n",
      "Setting up kubeconfig...\n",
      "Starting cluster components...\n",
      "Kubectl is now configured to use the cluster.\n",
      "Loading cached images from config file.\n"
     ]
    }
   ],
   "source": [
    "!minikube start --vm-driver kvm2 --memory 4096 --feature-gates=CustomResourceValidation=true --extra-config=apiserver.Authorization.Mode=RBAC"
   ]
  },
  {
   "cell_type": "code",
   "execution_count": 9,
   "metadata": {},
   "outputs": [
    {
     "name": "stdout",
     "output_type": "stream",
     "text": [
      "clusterrolebinding.rbac.authorization.k8s.io/kube-system-cluster-admin created\r\n"
     ]
    }
   ],
   "source": [
    "!kubectl create clusterrolebinding kube-system-cluster-admin --clusterrole=cluster-admin --serviceaccount=kube-system:default"
   ]
  },
  {
   "cell_type": "code",
   "execution_count": 10,
   "metadata": {},
   "outputs": [
    {
     "name": "stdout",
     "output_type": "stream",
     "text": [
      "$HELM_HOME has been configured at /home/clive/.helm.\n",
      "\n",
      "Tiller (the Helm server-side component) has been installed into your Kubernetes Cluster.\n",
      "\n",
      "Please note: by default, Tiller is deployed with an insecure 'allow unauthenticated users' policy.\n",
      "To prevent this, run `helm init` with the --tiller-tls-verify flag.\n",
      "For more information on securing your installation see: https://docs.helm.sh/using_helm/#securing-your-helm-installation\n",
      "Happy Helming!\n"
     ]
    }
   ],
   "source": [
    "!helm init"
   ]
  },
  {
   "cell_type": "code",
   "execution_count": 11,
   "metadata": {},
   "outputs": [
    {
     "name": "stdout",
     "output_type": "stream",
     "text": [
      "Waiting for deployment \"tiller-deploy\" rollout to finish: 0 of 1 updated replicas are available...\n",
      "deployment \"tiller-deploy\" successfully rolled out\n"
     ]
    }
   ],
   "source": [
    "!kubectl rollout status deploy/tiller-deploy -n kube-system"
   ]
  },
  {
   "cell_type": "code",
   "execution_count": 12,
   "metadata": {},
   "outputs": [
    {
     "name": "stdout",
     "output_type": "stream",
     "text": [
      "NAME:   seldon-core-crd\n",
      "LAST DEPLOYED: Sat Oct 13 11:28:53 2018\n",
      "NAMESPACE: default\n",
      "STATUS: DEPLOYED\n",
      "\n",
      "RESOURCES:\n",
      "==> v1beta1/Deployment\n",
      "NAME                        DESIRED  CURRENT  UP-TO-DATE  AVAILABLE  AGE\n",
      "seldon-spartakus-volunteer  1        0        0           0          0s\n",
      "\n",
      "==> v1/ServiceAccount\n",
      "NAME                        SECRETS  AGE\n",
      "seldon-spartakus-volunteer  1        0s\n",
      "\n",
      "==> v1beta1/ClusterRole\n",
      "NAME                        AGE\n",
      "seldon-spartakus-volunteer  0s\n",
      "\n",
      "==> v1beta1/ClusterRoleBinding\n",
      "NAME                        AGE\n",
      "seldon-spartakus-volunteer  0s\n",
      "\n",
      "==> v1/ConfigMap\n",
      "NAME                     DATA  AGE\n",
      "seldon-spartakus-config  3     1s\n",
      "\n",
      "==> v1beta1/CustomResourceDefinition\n",
      "NAME                                         AGE\n",
      "seldondeployments.machinelearning.seldon.io  1s\n",
      "\n",
      "\n",
      "NOTES:\n",
      "NOTES: TODO\n",
      "\n",
      "\n",
      "NAME:   seldon-core\n",
      "LAST DEPLOYED: Sat Oct 13 11:28:54 2018\n",
      "NAMESPACE: default\n",
      "STATUS: DEPLOYED\n",
      "\n",
      "RESOURCES:\n",
      "==> v1beta1/ClusterRole\n",
      "NAME        AGE\n",
      "seldon-crd  0s\n",
      "\n",
      "==> v1/ClusterRoleBinding\n",
      "NAME    AGE\n",
      "seldon  0s\n",
      "\n",
      "==> v1beta1/Role\n",
      "NAME          AGE\n",
      "seldon-local  0s\n",
      "\n",
      "==> v1/RoleBinding\n",
      "NAME    AGE\n",
      "seldon  0s\n",
      "\n",
      "==> v1/Service\n",
      "NAME                          TYPE       CLUSTER-IP      EXTERNAL-IP  PORT(S)                        AGE\n",
      "seldon-core-seldon-apiserver  NodePort   10.106.229.193  <none>       8080:30552/TCP,5000:31146/TCP  0s\n",
      "seldon-core-redis             ClusterIP  10.111.253.20   <none>       6379/TCP                       0s\n",
      "\n",
      "==> v1beta1/Deployment\n",
      "NAME                                DESIRED  CURRENT  UP-TO-DATE  AVAILABLE  AGE\n",
      "seldon-core-seldon-apiserver        1        1        1           0          0s\n",
      "seldon-core-seldon-cluster-manager  1        1        1           0          0s\n",
      "seldon-core-redis                   1        1        1           0          0s\n",
      "\n",
      "==> v1/Pod(related)\n",
      "NAME                                                 READY  STATUS             RESTARTS  AGE\n",
      "seldon-core-seldon-apiserver-5976c46469-kftvr        0/1    ContainerCreating  0         0s\n",
      "seldon-core-seldon-cluster-manager-55db6c898c-glzvj  0/1    ContainerCreating  0         0s\n",
      "seldon-core-redis-98c4948f7-kp8sx                    0/1    ContainerCreating  0         0s\n",
      "\n",
      "==> v1/ServiceAccount\n",
      "NAME    SECRETS  AGE\n",
      "seldon  1        0s\n",
      "\n",
      "\n",
      "NOTES:\n",
      "Thank you for installing Seldon Core.\n",
      "\n",
      "Documentation can be found at https://github.com/SeldonIO/seldon-core\n",
      "\n",
      "\n",
      "\n",
      "\n"
     ]
    }
   ],
   "source": [
    "!helm install ../../../helm-charts/seldon-core-crd --name seldon-core-crd  --set usage_metrics.enabled=true\n",
    "!helm install ../../../helm-charts/seldon-core --name seldon-core "
   ]
  },
  {
   "cell_type": "markdown",
   "metadata": {},
   "source": [
    "# REST"
   ]
  },
  {
   "cell_type": "code",
   "execution_count": 13,
   "metadata": {},
   "outputs": [
    {
     "name": "stdout",
     "output_type": "stream",
     "text": [
      "I1013 11:29:08.699259   21892 build.go:50] Running S2I version \"v1.1.9a\"\n",
      "I1013 11:29:08.699394   21892 util.go:57] Getting docker credentials for seldonio/seldon-core-s2i-python3:0.3-SNAPSHOT\n",
      "I1013 11:29:08.699416   21892 util.go:73] Using  credentials for pulling seldonio/seldon-core-s2i-python3:0.3-SNAPSHOT\n",
      "I1013 11:29:08.729338   21892 docker.go:519] error inspecting image seldonio/seldon-core-s2i-python3:0.3-SNAPSHOT: Error: No such image: seldonio/seldon-core-s2i-python3:0.3-SNAPSHOT\n",
      "I1013 11:29:08.729358   21892 docker.go:506] Image \"seldonio/seldon-core-s2i-python3:0.3-SNAPSHOT\" not available locally, pulling ...\n",
      "I1013 11:29:10.193024   21892 docker.go:578] pulling image seldonio/seldon-core-s2i-python3:0.3-SNAPSHOT: \n",
      "I1013 11:29:10.193042   21892 docker.go:578] pulling image seldonio/seldon-core-s2i-python3:0.3-SNAPSHOT: \n",
      "I1013 11:29:10.193051   21892 docker.go:578] pulling image seldonio/seldon-core-s2i-python3:0.3-SNAPSHOT: \n",
      "I1013 11:29:10.193059   21892 docker.go:578] pulling image seldonio/seldon-core-s2i-python3:0.3-SNAPSHOT: \n",
      "I1013 11:29:10.193070   21892 docker.go:578] pulling image seldonio/seldon-core-s2i-python3:0.3-SNAPSHOT: \n",
      "I1013 11:29:10.193077   21892 docker.go:578] pulling image seldonio/seldon-core-s2i-python3:0.3-SNAPSHOT: \n",
      "I1013 11:29:10.193085   21892 docker.go:578] pulling image seldonio/seldon-core-s2i-python3:0.3-SNAPSHOT: \n",
      "I1013 11:29:10.193092   21892 docker.go:578] pulling image seldonio/seldon-core-s2i-python3:0.3-SNAPSHOT: \n",
      "I1013 11:29:10.193101   21892 docker.go:578] pulling image seldonio/seldon-core-s2i-python3:0.3-SNAPSHOT: \n",
      "I1013 11:29:10.193110   21892 docker.go:578] pulling image seldonio/seldon-core-s2i-python3:0.3-SNAPSHOT: \n",
      "I1013 11:29:10.193118   21892 docker.go:578] pulling image seldonio/seldon-core-s2i-python3:0.3-SNAPSHOT: \n",
      "I1013 11:29:10.193126   21892 docker.go:578] pulling image seldonio/seldon-core-s2i-python3:0.3-SNAPSHOT: \n",
      "I1013 11:29:10.193134   21892 docker.go:578] pulling image seldonio/seldon-core-s2i-python3:0.3-SNAPSHOT: \n",
      "I1013 11:29:10.193151   21892 docker.go:578] pulling image seldonio/seldon-core-s2i-python3:0.3-SNAPSHOT: \n",
      "I1013 11:29:10.193160   21892 docker.go:578] pulling image seldonio/seldon-core-s2i-python3:0.3-SNAPSHOT: \n",
      "I1013 11:29:10.193168   21892 docker.go:578] pulling image seldonio/seldon-core-s2i-python3:0.3-SNAPSHOT: \n",
      "I1013 11:29:10.193176   21892 docker.go:578] pulling image seldonio/seldon-core-s2i-python3:0.3-SNAPSHOT: \n",
      "I1013 11:29:10.193183   21892 docker.go:578] pulling image seldonio/seldon-core-s2i-python3:0.3-SNAPSHOT: \n",
      "I1013 11:29:10.193824   21892 docker.go:578] pulling image seldonio/seldon-core-s2i-python3:0.3-SNAPSHOT: \n",
      "I1013 11:29:10.193853   21892 docker.go:578] pulling image seldonio/seldon-core-s2i-python3:0.3-SNAPSHOT: \n",
      "I1013 11:29:10.193868   21892 docker.go:578] pulling image seldonio/seldon-core-s2i-python3:0.3-SNAPSHOT: \n",
      "I1013 11:29:10.193985   21892 docker.go:578] pulling image seldonio/seldon-core-s2i-python3:0.3-SNAPSHOT: \n",
      "I1013 11:29:10.193999   21892 docker.go:578] pulling image seldonio/seldon-core-s2i-python3:0.3-SNAPSHOT: \n",
      "I1013 11:29:10.194010   21892 docker.go:578] pulling image seldonio/seldon-core-s2i-python3:0.3-SNAPSHOT: \n",
      "I1013 11:29:10.194128   21892 docker.go:578] pulling image seldonio/seldon-core-s2i-python3:0.3-SNAPSHOT: \n",
      "I1013 11:29:10.194141   21892 docker.go:578] pulling image seldonio/seldon-core-s2i-python3:0.3-SNAPSHOT: \n",
      "I1013 11:29:10.194152   21892 docker.go:578] pulling image seldonio/seldon-core-s2i-python3:0.3-SNAPSHOT: \n",
      "I1013 11:29:10.194265   21892 docker.go:578] pulling image seldonio/seldon-core-s2i-python3:0.3-SNAPSHOT: \n",
      "I1013 11:29:10.194281   21892 docker.go:578] pulling image seldonio/seldon-core-s2i-python3:0.3-SNAPSHOT: \n",
      "I1013 11:29:10.195278   21892 docker.go:578] pulling image seldonio/seldon-core-s2i-python3:0.3-SNAPSHOT: \n",
      "I1013 11:29:10.195482   21892 docker.go:578] pulling image seldonio/seldon-core-s2i-python3:0.3-SNAPSHOT: \n",
      "I1013 11:29:10.195497   21892 docker.go:578] pulling image seldonio/seldon-core-s2i-python3:0.3-SNAPSHOT: \n",
      "I1013 11:29:10.195676   21892 docker.go:578] pulling image seldonio/seldon-core-s2i-python3:0.3-SNAPSHOT: \n",
      "I1013 11:29:10.825026   21892 docker.go:578] pulling image seldonio/seldon-core-s2i-python3:0.3-SNAPSHOT:  44.22kB/4.336MB\n",
      "I1013 11:29:10.834217   21892 docker.go:578] pulling image seldonio/seldon-core-s2i-python3:0.3-SNAPSHOT:  110.1kB/10.74MB\n",
      "I1013 11:29:10.926581   21892 docker.go:578] pulling image seldonio/seldon-core-s2i-python3:0.3-SNAPSHOT:  961.9kB/4.336MB\n",
      "I1013 11:29:10.936301   21892 docker.go:578] pulling image seldonio/seldon-core-s2i-python3:0.3-SNAPSHOT:   1.26MB/10.74MB\n",
      "I1013 11:29:10.971967   21892 docker.go:578] pulling image seldonio/seldon-core-s2i-python3:0.3-SNAPSHOT:  457.9kB/45.31MB\n",
      "I1013 11:29:11.028258   21892 docker.go:578] pulling image seldonio/seldon-core-s2i-python3:0.3-SNAPSHOT:   1.85MB/4.336MB\n",
      "I1013 11:29:11.040152   21892 docker.go:578] pulling image seldonio/seldon-core-s2i-python3:0.3-SNAPSHOT:  2.764MB/10.74MB\n",
      "I1013 11:29:11.082118   21892 docker.go:578] pulling image seldonio/seldon-core-s2i-python3:0.3-SNAPSHOT:  916.6kB/45.31MB\n",
      "I1013 11:29:11.142445   21892 docker.go:578] pulling image seldonio/seldon-core-s2i-python3:0.3-SNAPSHOT:  4.488MB/10.74MB\n",
      "I1013 11:29:11.143457   21892 docker.go:578] pulling image seldonio/seldon-core-s2i-python3:0.3-SNAPSHOT:  2.653MB/4.336MB\n",
      "I1013 11:29:11.229318   21892 docker.go:578] pulling image seldonio/seldon-core-s2i-python3:0.3-SNAPSHOT:  1.371MB/45.31MB\n",
      "I1013 11:29:11.241051   21892 docker.go:578] pulling image seldonio/seldon-core-s2i-python3:0.3-SNAPSHOT:  6.212MB/10.74MB\n",
      "I1013 11:29:11.246852   21892 docker.go:578] pulling image seldonio/seldon-core-s2i-python3:0.3-SNAPSHOT:  3.439MB/4.336MB\n",
      "I1013 11:29:11.347402   21892 docker.go:578] pulling image seldonio/seldon-core-s2i-python3:0.3-SNAPSHOT:  8.301MB/10.74MB\n",
      "I1013 11:29:11.350162   21892 docker.go:578] pulling image seldonio/seldon-core-s2i-python3:0.3-SNAPSHOT:   3.98MB/4.336MB\n",
      "I1013 11:29:11.428790   21892 docker.go:578] pulling image seldonio/seldon-core-s2i-python3:0.3-SNAPSHOT:  1.825MB/45.31MB\n",
      "I1013 11:29:11.434086   21892 docker.go:578] pulling image seldonio/seldon-core-s2i-python3:0.3-SNAPSHOT: \n",
      "I1013 11:29:11.434106   21892 docker.go:578] pulling image seldonio/seldon-core-s2i-python3:0.3-SNAPSHOT: \n",
      "I1013 11:29:11.451042   21892 docker.go:578] pulling image seldonio/seldon-core-s2i-python3:0.3-SNAPSHOT:   10.6MB/10.74MB\n",
      "I1013 11:29:11.458164   21892 docker.go:578] pulling image seldonio/seldon-core-s2i-python3:0.3-SNAPSHOT: \n",
      "I1013 11:29:11.458185   21892 docker.go:578] pulling image seldonio/seldon-core-s2i-python3:0.3-SNAPSHOT: \n",
      "I1013 11:29:11.542569   21892 docker.go:578] pulling image seldonio/seldon-core-s2i-python3:0.3-SNAPSHOT:   2.28MB/45.31MB\n",
      "I1013 11:29:11.715797   21892 docker.go:578] pulling image seldonio/seldon-core-s2i-python3:0.3-SNAPSHOT:  3.194MB/45.31MB\n",
      "I1013 11:29:11.849869   21892 docker.go:578] pulling image seldonio/seldon-core-s2i-python3:0.3-SNAPSHOT:  4.107MB/45.31MB\n",
      "I1013 11:29:11.960073   21892 docker.go:578] pulling image seldonio/seldon-core-s2i-python3:0.3-SNAPSHOT:  5.029MB/45.31MB\n",
      "I1013 11:29:12.062345   21892 docker.go:578] pulling image seldonio/seldon-core-s2i-python3:0.3-SNAPSHOT:   5.95MB/45.31MB\n",
      "I1013 11:29:12.086629   21892 docker.go:578] pulling image seldonio/seldon-core-s2i-python3:0.3-SNAPSHOT:  510.7kB/50.06MB\n",
      "I1013 11:29:12.189303   21892 docker.go:578] pulling image seldonio/seldon-core-s2i-python3:0.3-SNAPSHOT:  2.555MB/50.06MB\n",
      "I1013 11:29:12.196876   21892 docker.go:578] pulling image seldonio/seldon-core-s2i-python3:0.3-SNAPSHOT:  6.876MB/45.31MB\n",
      "I1013 11:29:12.314633   21892 docker.go:578] pulling image seldonio/seldon-core-s2i-python3:0.3-SNAPSHOT:  5.094MB/50.06MB\n",
      "I1013 11:29:12.381962   21892 docker.go:578] pulling image seldonio/seldon-core-s2i-python3:0.3-SNAPSHOT:  7.793MB/45.31MB\n",
      "I1013 11:29:12.401807   21892 docker.go:578] pulling image seldonio/seldon-core-s2i-python3:0.3-SNAPSHOT:  539.8kB/213.2MB\n",
      "I1013 11:29:12.439093   21892 docker.go:578] pulling image seldonio/seldon-core-s2i-python3:0.3-SNAPSHOT:   7.63MB/50.06MB\n",
      "I1013 11:29:12.499925   21892 docker.go:578] pulling image seldonio/seldon-core-s2i-python3:0.3-SNAPSHOT:  8.252MB/45.31MB\n",
      "I1013 11:29:12.526343   21892 docker.go:578] pulling image seldonio/seldon-core-s2i-python3:0.3-SNAPSHOT:   1.08MB/213.2MB\n"
     ]
    },
    {
     "name": "stdout",
     "output_type": "stream",
     "text": [
      "I1013 11:29:12.549005   21892 docker.go:578] pulling image seldonio/seldon-core-s2i-python3:0.3-SNAPSHOT:  9.678MB/50.06MB\n",
      "I1013 11:29:12.645817   21892 docker.go:578] pulling image seldonio/seldon-core-s2i-python3:0.3-SNAPSHOT:  8.711MB/45.31MB\n",
      "I1013 11:29:12.659347   21892 docker.go:578] pulling image seldonio/seldon-core-s2i-python3:0.3-SNAPSHOT:  11.72MB/50.06MB\n",
      "I1013 11:29:12.714873   21892 docker.go:578] pulling image seldonio/seldon-core-s2i-python3:0.3-SNAPSHOT:  2.145MB/213.2MB\n",
      "I1013 11:29:12.759366   21892 docker.go:578] pulling image seldonio/seldon-core-s2i-python3:0.3-SNAPSHOT:  13.77MB/50.06MB\n",
      "I1013 11:29:12.817788   21892 docker.go:578] pulling image seldonio/seldon-core-s2i-python3:0.3-SNAPSHOT:  2.677MB/213.2MB\n",
      "I1013 11:29:12.824387   21892 docker.go:578] pulling image seldonio/seldon-core-s2i-python3:0.3-SNAPSHOT:   9.17MB/45.31MB\n",
      "I1013 11:29:12.862147   21892 docker.go:578] pulling image seldonio/seldon-core-s2i-python3:0.3-SNAPSHOT:  15.81MB/50.06MB\n",
      "I1013 11:29:12.920086   21892 docker.go:578] pulling image seldonio/seldon-core-s2i-python3:0.3-SNAPSHOT:  3.218MB/213.2MB\n",
      "I1013 11:29:12.990459   21892 docker.go:578] pulling image seldonio/seldon-core-s2i-python3:0.3-SNAPSHOT:  18.35MB/50.06MB\n",
      "I1013 11:29:13.056780   21892 docker.go:578] pulling image seldonio/seldon-core-s2i-python3:0.3-SNAPSHOT:  9.628MB/45.31MB\n",
      "I1013 11:29:13.111436   21892 docker.go:578] pulling image seldonio/seldon-core-s2i-python3:0.3-SNAPSHOT:  20.89MB/50.06MB\n",
      "I1013 11:29:13.120251   21892 docker.go:578] pulling image seldonio/seldon-core-s2i-python3:0.3-SNAPSHOT:  4.283MB/213.2MB\n",
      "I1013 11:29:13.216212   21892 docker.go:578] pulling image seldonio/seldon-core-s2i-python3:0.3-SNAPSHOT:  22.92MB/50.06MB\n",
      "I1013 11:29:13.278076   21892 docker.go:578] pulling image seldonio/seldon-core-s2i-python3:0.3-SNAPSHOT:  10.09MB/45.31MB\n",
      "I1013 11:29:13.291723   21892 docker.go:578] pulling image seldonio/seldon-core-s2i-python3:0.3-SNAPSHOT:  5.356MB/213.2MB\n",
      "I1013 11:29:13.325108   21892 docker.go:578] pulling image seldonio/seldon-core-s2i-python3:0.3-SNAPSHOT:  24.95MB/50.06MB\n",
      "I1013 11:29:13.431226   21892 docker.go:578] pulling image seldonio/seldon-core-s2i-python3:0.3-SNAPSHOT:  6.433MB/213.2MB\n",
      "I1013 11:29:13.441830   21892 docker.go:578] pulling image seldonio/seldon-core-s2i-python3:0.3-SNAPSHOT:  26.99MB/50.06MB\n",
      "I1013 11:29:13.486430   21892 docker.go:578] pulling image seldonio/seldon-core-s2i-python3:0.3-SNAPSHOT:  10.55MB/45.31MB\n",
      "I1013 11:29:13.557511   21892 docker.go:578] pulling image seldonio/seldon-core-s2i-python3:0.3-SNAPSHOT:  7.515MB/213.2MB\n",
      "I1013 11:29:13.561704   21892 docker.go:578] pulling image seldonio/seldon-core-s2i-python3:0.3-SNAPSHOT:  29.01MB/50.06MB\n",
      "I1013 11:29:13.667654   21892 docker.go:578] pulling image seldonio/seldon-core-s2i-python3:0.3-SNAPSHOT:  8.592MB/213.2MB\n",
      "I1013 11:29:13.695756   21892 docker.go:578] pulling image seldonio/seldon-core-s2i-python3:0.3-SNAPSHOT:  31.05MB/50.06MB\n",
      "I1013 11:29:13.708541   21892 docker.go:578] pulling image seldonio/seldon-core-s2i-python3:0.3-SNAPSHOT:  11.01MB/45.31MB\n",
      "I1013 11:29:13.804251   21892 docker.go:578] pulling image seldonio/seldon-core-s2i-python3:0.3-SNAPSHOT:  32.57MB/50.06MB\n",
      "I1013 11:29:13.808159   21892 docker.go:578] pulling image seldonio/seldon-core-s2i-python3:0.3-SNAPSHOT:  10.21MB/213.2MB\n",
      "I1013 11:29:13.917824   21892 docker.go:578] pulling image seldonio/seldon-core-s2i-python3:0.3-SNAPSHOT:  34.09MB/50.06MB\n",
      "I1013 11:29:13.935618   21892 docker.go:578] pulling image seldonio/seldon-core-s2i-python3:0.3-SNAPSHOT:  11.82MB/213.2MB\n",
      "I1013 11:29:13.958553   21892 docker.go:578] pulling image seldonio/seldon-core-s2i-python3:0.3-SNAPSHOT:  11.47MB/45.31MB\n",
      "I1013 11:29:14.038496   21892 docker.go:578] pulling image seldonio/seldon-core-s2i-python3:0.3-SNAPSHOT:  35.61MB/50.06MB\n",
      "I1013 11:29:14.054484   21892 docker.go:578] pulling image seldonio/seldon-core-s2i-python3:0.3-SNAPSHOT:  13.42MB/213.2MB\n",
      "I1013 11:29:14.165904   21892 docker.go:578] pulling image seldonio/seldon-core-s2i-python3:0.3-SNAPSHOT:  15.03MB/213.2MB\n",
      "I1013 11:29:14.170771   21892 docker.go:578] pulling image seldonio/seldon-core-s2i-python3:0.3-SNAPSHOT:  37.13MB/50.06MB\n",
      "I1013 11:29:14.245155   21892 docker.go:578] pulling image seldonio/seldon-core-s2i-python3:0.3-SNAPSHOT:  11.93MB/45.31MB\n",
      "I1013 11:29:14.270520   21892 docker.go:578] pulling image seldonio/seldon-core-s2i-python3:0.3-SNAPSHOT:  16.64MB/213.2MB\n",
      "I1013 11:29:14.318072   21892 docker.go:578] pulling image seldonio/seldon-core-s2i-python3:0.3-SNAPSHOT:  38.66MB/50.06MB\n",
      "I1013 11:29:14.398554   21892 docker.go:578] pulling image seldonio/seldon-core-s2i-python3:0.3-SNAPSHOT:  18.77MB/213.2MB\n",
      "I1013 11:29:14.433287   21892 docker.go:578] pulling image seldonio/seldon-core-s2i-python3:0.3-SNAPSHOT:  39.68MB/50.06MB\n",
      "I1013 11:29:14.519981   21892 docker.go:578] pulling image seldonio/seldon-core-s2i-python3:0.3-SNAPSHOT:  20.92MB/213.2MB\n",
      "I1013 11:29:14.555765   21892 docker.go:578] pulling image seldonio/seldon-core-s2i-python3:0.3-SNAPSHOT:   40.7MB/50.06MB\n",
      "I1013 11:29:14.576335   21892 docker.go:578] pulling image seldonio/seldon-core-s2i-python3:0.3-SNAPSHOT:  12.39MB/45.31MB\n",
      "I1013 11:29:14.632198   21892 docker.go:578] pulling image seldonio/seldon-core-s2i-python3:0.3-SNAPSHOT:  23.07MB/213.2MB\n",
      "I1013 11:29:14.706958   21892 docker.go:578] pulling image seldonio/seldon-core-s2i-python3:0.3-SNAPSHOT:  41.71MB/50.06MB\n",
      "I1013 11:29:14.742554   21892 docker.go:578] pulling image seldonio/seldon-core-s2i-python3:0.3-SNAPSHOT:  25.21MB/213.2MB\n",
      "I1013 11:29:14.842855   21892 docker.go:578] pulling image seldonio/seldon-core-s2i-python3:0.3-SNAPSHOT:  27.34MB/213.2MB\n",
      "I1013 11:29:14.875044   21892 docker.go:578] pulling image seldonio/seldon-core-s2i-python3:0.3-SNAPSHOT:  42.73MB/50.06MB\n",
      "I1013 11:29:14.965939   21892 docker.go:578] pulling image seldonio/seldon-core-s2i-python3:0.3-SNAPSHOT:  30.01MB/213.2MB\n",
      "I1013 11:29:14.982435   21892 docker.go:578] pulling image seldonio/seldon-core-s2i-python3:0.3-SNAPSHOT:  43.24MB/50.06MB\n",
      "I1013 11:29:15.021392   21892 docker.go:578] pulling image seldonio/seldon-core-s2i-python3:0.3-SNAPSHOT:  12.85MB/45.31MB\n",
      "I1013 11:29:15.085748   21892 docker.go:578] pulling image seldonio/seldon-core-s2i-python3:0.3-SNAPSHOT:   32.7MB/213.2MB\n",
      "I1013 11:29:15.105021   21892 docker.go:578] pulling image seldonio/seldon-core-s2i-python3:0.3-SNAPSHOT:  43.74MB/50.06MB\n",
      "I1013 11:29:15.202388   21892 docker.go:578] pulling image seldonio/seldon-core-s2i-python3:0.3-SNAPSHOT:  35.38MB/213.2MB\n",
      "I1013 11:29:15.248988   21892 docker.go:578] pulling image seldonio/seldon-core-s2i-python3:0.3-SNAPSHOT:  44.25MB/50.06MB\n",
      "I1013 11:29:15.315949   21892 docker.go:578] pulling image seldonio/seldon-core-s2i-python3:0.3-SNAPSHOT:  38.05MB/213.2MB\n",
      "I1013 11:29:15.411775   21892 docker.go:578] pulling image seldonio/seldon-core-s2i-python3:0.3-SNAPSHOT:  44.76MB/50.06MB\n",
      "I1013 11:29:15.428594   21892 docker.go:578] pulling image seldonio/seldon-core-s2i-python3:0.3-SNAPSHOT:  40.73MB/213.2MB\n",
      "I1013 11:29:15.541148   21892 docker.go:578] pulling image seldonio/seldon-core-s2i-python3:0.3-SNAPSHOT:  43.42MB/213.2MB\n",
      "I1013 11:29:15.567437   21892 docker.go:578] pulling image seldonio/seldon-core-s2i-python3:0.3-SNAPSHOT:  13.31MB/45.31MB\n",
      "I1013 11:29:15.617521   21892 docker.go:578] pulling image seldonio/seldon-core-s2i-python3:0.3-SNAPSHOT:  45.27MB/50.06MB\n",
      "I1013 11:29:15.648992   21892 docker.go:578] pulling image seldonio/seldon-core-s2i-python3:0.3-SNAPSHOT:   46.1MB/213.2MB\n",
      "I1013 11:29:15.759645   21892 docker.go:578] pulling image seldonio/seldon-core-s2i-python3:0.3-SNAPSHOT:  48.77MB/213.2MB\n",
      "I1013 11:29:15.833561   21892 docker.go:578] pulling image seldonio/seldon-core-s2i-python3:0.3-SNAPSHOT:  45.77MB/50.06MB\n",
      "I1013 11:29:15.866984   21892 docker.go:578] pulling image seldonio/seldon-core-s2i-python3:0.3-SNAPSHOT:  51.44MB/213.2MB\n",
      "I1013 11:29:15.975863   21892 docker.go:578] pulling image seldonio/seldon-core-s2i-python3:0.3-SNAPSHOT:  54.13MB/213.2MB\n",
      "I1013 11:29:16.083166   21892 docker.go:578] pulling image seldonio/seldon-core-s2i-python3:0.3-SNAPSHOT:  56.81MB/213.2MB\n",
      "I1013 11:29:16.097547   21892 docker.go:578] pulling image seldonio/seldon-core-s2i-python3:0.3-SNAPSHOT:  46.28MB/50.06MB\n"
     ]
    },
    {
     "name": "stdout",
     "output_type": "stream",
     "text": [
      "I1013 11:29:16.186382   21892 docker.go:578] pulling image seldonio/seldon-core-s2i-python3:0.3-SNAPSHOT:  13.77MB/45.31MB\n",
      "I1013 11:29:16.189193   21892 docker.go:578] pulling image seldonio/seldon-core-s2i-python3:0.3-SNAPSHOT:   59.5MB/213.2MB\n",
      "I1013 11:29:16.293343   21892 docker.go:578] pulling image seldonio/seldon-core-s2i-python3:0.3-SNAPSHOT:  62.16MB/213.2MB\n",
      "I1013 11:29:16.398154   21892 docker.go:578] pulling image seldonio/seldon-core-s2i-python3:0.3-SNAPSHOT:  64.83MB/213.2MB\n",
      "I1013 11:29:16.456559   21892 docker.go:578] pulling image seldonio/seldon-core-s2i-python3:0.3-SNAPSHOT:  46.79MB/50.06MB\n",
      "I1013 11:29:16.503665   21892 docker.go:578] pulling image seldonio/seldon-core-s2i-python3:0.3-SNAPSHOT:  67.53MB/213.2MB\n",
      "I1013 11:29:16.608726   21892 docker.go:578] pulling image seldonio/seldon-core-s2i-python3:0.3-SNAPSHOT:  70.22MB/213.2MB\n",
      "I1013 11:29:16.713105   21892 docker.go:578] pulling image seldonio/seldon-core-s2i-python3:0.3-SNAPSHOT:   72.9MB/213.2MB\n",
      "I1013 11:29:16.817706   21892 docker.go:578] pulling image seldonio/seldon-core-s2i-python3:0.3-SNAPSHOT:  75.59MB/213.2MB\n",
      "I1013 11:29:16.853875   21892 docker.go:578] pulling image seldonio/seldon-core-s2i-python3:0.3-SNAPSHOT:  14.23MB/45.31MB\n",
      "I1013 11:29:16.873039   21892 docker.go:578] pulling image seldonio/seldon-core-s2i-python3:0.3-SNAPSHOT:   47.3MB/50.06MB\n",
      "I1013 11:29:16.922349   21892 docker.go:578] pulling image seldonio/seldon-core-s2i-python3:0.3-SNAPSHOT:  78.26MB/213.2MB\n",
      "I1013 11:29:17.026868   21892 docker.go:578] pulling image seldonio/seldon-core-s2i-python3:0.3-SNAPSHOT:  80.94MB/213.2MB\n",
      "I1013 11:29:17.130825   21892 docker.go:578] pulling image seldonio/seldon-core-s2i-python3:0.3-SNAPSHOT:  83.63MB/213.2MB\n",
      "I1013 11:29:17.234728   21892 docker.go:578] pulling image seldonio/seldon-core-s2i-python3:0.3-SNAPSHOT:  86.33MB/213.2MB\n",
      "I1013 11:29:17.337245   21892 docker.go:578] pulling image seldonio/seldon-core-s2i-python3:0.3-SNAPSHOT:     89MB/213.2MB\n",
      "I1013 11:29:17.358369   21892 docker.go:578] pulling image seldonio/seldon-core-s2i-python3:0.3-SNAPSHOT:  47.81MB/50.06MB\n",
      "I1013 11:29:17.440057   21892 docker.go:578] pulling image seldonio/seldon-core-s2i-python3:0.3-SNAPSHOT:  91.67MB/213.2MB\n",
      "I1013 11:29:17.542461   21892 docker.go:578] pulling image seldonio/seldon-core-s2i-python3:0.3-SNAPSHOT:  14.69MB/45.31MB\n",
      "I1013 11:29:17.543233   21892 docker.go:578] pulling image seldonio/seldon-core-s2i-python3:0.3-SNAPSHOT:  94.36MB/213.2MB\n",
      "I1013 11:29:17.646153   21892 docker.go:578] pulling image seldonio/seldon-core-s2i-python3:0.3-SNAPSHOT:  97.02MB/213.2MB\n",
      "I1013 11:29:17.749126   21892 docker.go:578] pulling image seldonio/seldon-core-s2i-python3:0.3-SNAPSHOT:  99.72MB/213.2MB\n",
      "I1013 11:29:17.851790   21892 docker.go:578] pulling image seldonio/seldon-core-s2i-python3:0.3-SNAPSHOT:  102.4MB/213.2MB\n",
      "I1013 11:29:17.925603   21892 docker.go:578] pulling image seldonio/seldon-core-s2i-python3:0.3-SNAPSHOT:  48.32MB/50.06MB\n",
      "I1013 11:29:17.955230   21892 docker.go:578] pulling image seldonio/seldon-core-s2i-python3:0.3-SNAPSHOT:  105.1MB/213.2MB\n",
      "I1013 11:29:18.057367   21892 docker.go:578] pulling image seldonio/seldon-core-s2i-python3:0.3-SNAPSHOT:  107.8MB/213.2MB\n",
      "I1013 11:29:18.159435   21892 docker.go:578] pulling image seldonio/seldon-core-s2i-python3:0.3-SNAPSHOT:  110.4MB/213.2MB\n",
      "I1013 11:29:18.261753   21892 docker.go:578] pulling image seldonio/seldon-core-s2i-python3:0.3-SNAPSHOT:  113.1MB/213.2MB\n",
      "I1013 11:29:18.362284   21892 docker.go:578] pulling image seldonio/seldon-core-s2i-python3:0.3-SNAPSHOT:  15.15MB/45.31MB\n",
      "I1013 11:29:18.364678   21892 docker.go:578] pulling image seldonio/seldon-core-s2i-python3:0.3-SNAPSHOT:  115.8MB/213.2MB\n",
      "I1013 11:29:18.466917   21892 docker.go:578] pulling image seldonio/seldon-core-s2i-python3:0.3-SNAPSHOT:  118.5MB/213.2MB\n",
      "I1013 11:29:18.530557   21892 docker.go:578] pulling image seldonio/seldon-core-s2i-python3:0.3-SNAPSHOT:  48.83MB/50.06MB\n",
      "I1013 11:29:18.568682   21892 docker.go:578] pulling image seldonio/seldon-core-s2i-python3:0.3-SNAPSHOT:  121.2MB/213.2MB\n",
      "I1013 11:29:18.671068   21892 docker.go:578] pulling image seldonio/seldon-core-s2i-python3:0.3-SNAPSHOT:  123.9MB/213.2MB\n",
      "I1013 11:29:18.772744   21892 docker.go:578] pulling image seldonio/seldon-core-s2i-python3:0.3-SNAPSHOT:  126.5MB/213.2MB\n",
      "I1013 11:29:18.874669   21892 docker.go:578] pulling image seldonio/seldon-core-s2i-python3:0.3-SNAPSHOT:  129.2MB/213.2MB\n",
      "I1013 11:29:18.977259   21892 docker.go:578] pulling image seldonio/seldon-core-s2i-python3:0.3-SNAPSHOT:  131.9MB/213.2MB\n",
      "I1013 11:29:19.080602   21892 docker.go:578] pulling image seldonio/seldon-core-s2i-python3:0.3-SNAPSHOT:  134.6MB/213.2MB\n",
      "I1013 11:29:19.158789   21892 docker.go:578] pulling image seldonio/seldon-core-s2i-python3:0.3-SNAPSHOT:  49.33MB/50.06MB\n",
      "I1013 11:29:19.181953   21892 docker.go:578] pulling image seldonio/seldon-core-s2i-python3:0.3-SNAPSHOT:  137.3MB/213.2MB\n",
      "I1013 11:29:19.265424   21892 docker.go:578] pulling image seldonio/seldon-core-s2i-python3:0.3-SNAPSHOT:   15.6MB/45.31MB\n",
      "I1013 11:29:19.284681   21892 docker.go:578] pulling image seldonio/seldon-core-s2i-python3:0.3-SNAPSHOT:    140MB/213.2MB\n",
      "I1013 11:29:19.387478   21892 docker.go:578] pulling image seldonio/seldon-core-s2i-python3:0.3-SNAPSHOT:  142.7MB/213.2MB\n",
      "I1013 11:29:19.490044   21892 docker.go:578] pulling image seldonio/seldon-core-s2i-python3:0.3-SNAPSHOT:  145.4MB/213.2MB\n",
      "I1013 11:29:19.593115   21892 docker.go:578] pulling image seldonio/seldon-core-s2i-python3:0.3-SNAPSHOT:  148.1MB/213.2MB\n",
      "I1013 11:29:19.695585   21892 docker.go:578] pulling image seldonio/seldon-core-s2i-python3:0.3-SNAPSHOT:  150.7MB/213.2MB\n",
      "I1013 11:29:19.773457   21892 docker.go:578] pulling image seldonio/seldon-core-s2i-python3:0.3-SNAPSHOT:  49.84MB/50.06MB\n",
      "I1013 11:29:19.798527   21892 docker.go:578] pulling image seldonio/seldon-core-s2i-python3:0.3-SNAPSHOT:  153.4MB/213.2MB\n",
      "I1013 11:29:19.901642   21892 docker.go:578] pulling image seldonio/seldon-core-s2i-python3:0.3-SNAPSHOT:  156.1MB/213.2MB\n",
      "I1013 11:29:20.004582   21892 docker.go:578] pulling image seldonio/seldon-core-s2i-python3:0.3-SNAPSHOT:  158.8MB/213.2MB\n",
      "I1013 11:29:20.030678   21892 docker.go:578] pulling image seldonio/seldon-core-s2i-python3:0.3-SNAPSHOT: \n",
      "I1013 11:29:20.030697   21892 docker.go:578] pulling image seldonio/seldon-core-s2i-python3:0.3-SNAPSHOT: \n",
      "I1013 11:29:20.092729   21892 docker.go:578] pulling image seldonio/seldon-core-s2i-python3:0.3-SNAPSHOT:  16.06MB/45.31MB\n",
      "I1013 11:29:20.124141   21892 docker.go:578] pulling image seldonio/seldon-core-s2i-python3:0.3-SNAPSHOT:    162MB/213.2MB\n",
      "I1013 11:29:20.224545   21892 docker.go:578] pulling image seldonio/seldon-core-s2i-python3:0.3-SNAPSHOT:  164.7MB/213.2MB\n",
      "I1013 11:29:20.344079   21892 docker.go:578] pulling image seldonio/seldon-core-s2i-python3:0.3-SNAPSHOT:  167.9MB/213.2MB\n",
      "I1013 11:29:20.462434   21892 docker.go:578] pulling image seldonio/seldon-core-s2i-python3:0.3-SNAPSHOT:  171.2MB/213.2MB\n",
      "I1013 11:29:20.581090   21892 docker.go:578] pulling image seldonio/seldon-core-s2i-python3:0.3-SNAPSHOT:  174.4MB/213.2MB\n",
      "I1013 11:29:20.701275   21892 docker.go:578] pulling image seldonio/seldon-core-s2i-python3:0.3-SNAPSHOT:  177.6MB/213.2MB\n",
      "I1013 11:29:20.795585   21892 docker.go:578] pulling image seldonio/seldon-core-s2i-python3:0.3-SNAPSHOT:  58.18kB/5.745MB\n",
      "I1013 11:29:20.803331   21892 docker.go:578] pulling image seldonio/seldon-core-s2i-python3:0.3-SNAPSHOT:  180.3MB/213.2MB\n",
      "I1013 11:29:20.904138   21892 docker.go:578] pulling image seldonio/seldon-core-s2i-python3:0.3-SNAPSHOT:  506.6kB/5.745MB\n",
      "I1013 11:29:20.925867   21892 docker.go:578] pulling image seldonio/seldon-core-s2i-python3:0.3-SNAPSHOT:    183MB/213.2MB\n",
      "I1013 11:29:21.006741   21892 docker.go:578] pulling image seldonio/seldon-core-s2i-python3:0.3-SNAPSHOT:  1.686MB/5.745MB\n",
      "I1013 11:29:21.035158   21892 docker.go:578] pulling image seldonio/seldon-core-s2i-python3:0.3-SNAPSHOT:  184.6MB/213.2MB\n",
      "I1013 11:29:21.111711   21892 docker.go:578] pulling image seldonio/seldon-core-s2i-python3:0.3-SNAPSHOT:  3.325MB/5.745MB\n",
      "I1013 11:29:21.167471   21892 docker.go:578] pulling image seldonio/seldon-core-s2i-python3:0.3-SNAPSHOT:  186.2MB/213.2MB\n"
     ]
    },
    {
     "name": "stdout",
     "output_type": "stream",
     "text": [
      "I1013 11:29:21.215853   21892 docker.go:578] pulling image seldonio/seldon-core-s2i-python3:0.3-SNAPSHOT:  16.52MB/45.31MB\n",
      "I1013 11:29:21.220274   21892 docker.go:578] pulling image seldonio/seldon-core-s2i-python3:0.3-SNAPSHOT:  5.156MB/5.745MB\n",
      "I1013 11:29:21.260535   21892 docker.go:578] pulling image seldonio/seldon-core-s2i-python3:0.3-SNAPSHOT:  5.745MB/5.745MB\n",
      "I1013 11:29:21.260655   21892 docker.go:578] pulling image seldonio/seldon-core-s2i-python3:0.3-SNAPSHOT: \n",
      "I1013 11:29:21.285489   21892 docker.go:578] pulling image seldonio/seldon-core-s2i-python3:0.3-SNAPSHOT:  187.8MB/213.2MB\n",
      "I1013 11:29:21.393302   21892 docker.go:578] pulling image seldonio/seldon-core-s2i-python3:0.3-SNAPSHOT:  190.5MB/213.2MB\n",
      "I1013 11:29:21.510676   21892 docker.go:578] pulling image seldonio/seldon-core-s2i-python3:0.3-SNAPSHOT:  193.7MB/213.2MB\n",
      "I1013 11:29:21.630573   21892 docker.go:578] pulling image seldonio/seldon-core-s2i-python3:0.3-SNAPSHOT:  196.9MB/213.2MB\n",
      "I1013 11:29:21.730840   21892 docker.go:578] pulling image seldonio/seldon-core-s2i-python3:0.3-SNAPSHOT:  199.6MB/213.2MB\n",
      "I1013 11:29:21.831269   21892 docker.go:578] pulling image seldonio/seldon-core-s2i-python3:0.3-SNAPSHOT:  202.3MB/213.2MB\n",
      "I1013 11:29:21.846319   21892 docker.go:578] pulling image seldonio/seldon-core-s2i-python3:0.3-SNAPSHOT:  16.98MB/45.31MB\n",
      "I1013 11:29:21.931732   21892 docker.go:578] pulling image seldonio/seldon-core-s2i-python3:0.3-SNAPSHOT:    205MB/213.2MB\n",
      "I1013 11:29:22.038093   21892 docker.go:578] pulling image seldonio/seldon-core-s2i-python3:0.3-SNAPSHOT:  207.6MB/213.2MB\n",
      "I1013 11:29:22.055141   21892 docker.go:578] pulling image seldonio/seldon-core-s2i-python3:0.3-SNAPSHOT:    212kB/20.95MB\n",
      "I1013 11:29:22.158026   21892 docker.go:578] pulling image seldonio/seldon-core-s2i-python3:0.3-SNAPSHOT:  1.285MB/20.95MB\n",
      "I1013 11:29:22.163819   21892 docker.go:578] pulling image seldonio/seldon-core-s2i-python3:0.3-SNAPSHOT:  209.8MB/213.2MB\n",
      "I1013 11:29:22.260915   21892 docker.go:578] pulling image seldonio/seldon-core-s2i-python3:0.3-SNAPSHOT:  2.817MB/20.95MB\n",
      "I1013 11:29:22.293617   21892 docker.go:578] pulling image seldonio/seldon-core-s2i-python3:0.3-SNAPSHOT:  211.4MB/213.2MB\n",
      "I1013 11:29:22.367173   21892 docker.go:578] pulling image seldonio/seldon-core-s2i-python3:0.3-SNAPSHOT:  4.562MB/20.95MB\n",
      "I1013 11:29:22.386872   21892 docker.go:578] pulling image seldonio/seldon-core-s2i-python3:0.3-SNAPSHOT:  17.44MB/45.31MB\n",
      "I1013 11:29:22.412678   21892 docker.go:578] pulling image seldonio/seldon-core-s2i-python3:0.3-SNAPSHOT:  212.5MB/213.2MB\n",
      "I1013 11:29:22.471412   21892 docker.go:578] pulling image seldonio/seldon-core-s2i-python3:0.3-SNAPSHOT:  6.294MB/20.95MB\n",
      "I1013 11:29:22.487021   21892 docker.go:578] pulling image seldonio/seldon-core-s2i-python3:0.3-SNAPSHOT: \n",
      "I1013 11:29:22.487042   21892 docker.go:578] pulling image seldonio/seldon-core-s2i-python3:0.3-SNAPSHOT: \n",
      "I1013 11:29:22.578208   21892 docker.go:578] pulling image seldonio/seldon-core-s2i-python3:0.3-SNAPSHOT:  8.862MB/20.95MB\n",
      "I1013 11:29:22.684312   21892 docker.go:578] pulling image seldonio/seldon-core-s2i-python3:0.3-SNAPSHOT:  11.65MB/20.95MB\n",
      "I1013 11:29:22.741849   21892 docker.go:578] pulling image seldonio/seldon-core-s2i-python3:0.3-SNAPSHOT:   17.9MB/45.31MB\n",
      "I1013 11:29:22.791669   21892 docker.go:578] pulling image seldonio/seldon-core-s2i-python3:0.3-SNAPSHOT:  14.44MB/20.95MB\n",
      "I1013 11:29:22.898856   21892 docker.go:578] pulling image seldonio/seldon-core-s2i-python3:0.3-SNAPSHOT:  17.21MB/20.95MB\n",
      "I1013 11:29:23.017775   21892 docker.go:578] pulling image seldonio/seldon-core-s2i-python3:0.3-SNAPSHOT:  18.36MB/45.31MB\n",
      "I1013 11:29:23.039010   21892 docker.go:578] pulling image seldonio/seldon-core-s2i-python3:0.3-SNAPSHOT:  19.99MB/20.95MB\n",
      "I1013 11:29:23.059294   21892 docker.go:578] pulling image seldonio/seldon-core-s2i-python3:0.3-SNAPSHOT: \n",
      "I1013 11:29:23.059315   21892 docker.go:578] pulling image seldonio/seldon-core-s2i-python3:0.3-SNAPSHOT: \n",
      "I1013 11:29:23.099598   21892 docker.go:578] pulling image seldonio/seldon-core-s2i-python3:0.3-SNAPSHOT:     240B/240B\n",
      "I1013 11:29:23.099780   21892 docker.go:578] pulling image seldonio/seldon-core-s2i-python3:0.3-SNAPSHOT: \n",
      "I1013 11:29:23.099795   21892 docker.go:578] pulling image seldonio/seldon-core-s2i-python3:0.3-SNAPSHOT: \n",
      "I1013 11:29:23.201304   21892 docker.go:578] pulling image seldonio/seldon-core-s2i-python3:0.3-SNAPSHOT:  18.82MB/45.31MB\n",
      "I1013 11:29:23.333604   21892 docker.go:578] pulling image seldonio/seldon-core-s2i-python3:0.3-SNAPSHOT:  19.28MB/45.31MB\n",
      "I1013 11:29:23.435575   21892 docker.go:578] pulling image seldonio/seldon-core-s2i-python3:0.3-SNAPSHOT:  19.74MB/45.31MB\n",
      "I1013 11:29:23.597445   21892 docker.go:578] pulling image seldonio/seldon-core-s2i-python3:0.3-SNAPSHOT:  20.66MB/45.31MB\n",
      "I1013 11:29:23.683838   21892 docker.go:578] pulling image seldonio/seldon-core-s2i-python3:0.3-SNAPSHOT:  18.29kB/1.788MB\n",
      "I1013 11:29:23.700471   21892 docker.go:578] pulling image seldonio/seldon-core-s2i-python3:0.3-SNAPSHOT:  21.57MB/45.31MB\n",
      "I1013 11:29:23.707436   21892 docker.go:578] pulling image seldonio/seldon-core-s2i-python3:0.3-SNAPSHOT:  126.6kB/12.37MB\n",
      "I1013 11:29:23.785057   21892 docker.go:578] pulling image seldonio/seldon-core-s2i-python3:0.3-SNAPSHOT:    589kB/1.788MB\n",
      "I1013 11:29:23.811189   21892 docker.go:578] pulling image seldonio/seldon-core-s2i-python3:0.3-SNAPSHOT:  1.703MB/12.37MB\n",
      "I1013 11:29:23.836817   21892 docker.go:578] pulling image seldonio/seldon-core-s2i-python3:0.3-SNAPSHOT:  22.49MB/45.31MB\n",
      "I1013 11:29:23.885689   21892 docker.go:578] pulling image seldonio/seldon-core-s2i-python3:0.3-SNAPSHOT:  1.212MB/1.788MB\n",
      "I1013 11:29:23.917277   21892 docker.go:578] pulling image seldonio/seldon-core-s2i-python3:0.3-SNAPSHOT:  3.288MB/12.37MB\n",
      "I1013 11:29:23.956152   21892 docker.go:578] pulling image seldonio/seldon-core-s2i-python3:0.3-SNAPSHOT: \n",
      "I1013 11:29:23.968644   21892 docker.go:578] pulling image seldonio/seldon-core-s2i-python3:0.3-SNAPSHOT:  23.41MB/45.31MB\n",
      "I1013 11:29:24.023441   21892 docker.go:578] pulling image seldonio/seldon-core-s2i-python3:0.3-SNAPSHOT:  4.865MB/12.37MB\n",
      "I1013 11:29:24.109031   21892 docker.go:578] pulling image seldonio/seldon-core-s2i-python3:0.3-SNAPSHOT:  24.78MB/45.31MB\n",
      "I1013 11:29:24.130616   21892 docker.go:578] pulling image seldonio/seldon-core-s2i-python3:0.3-SNAPSHOT:  6.708MB/12.37MB\n",
      "I1013 11:29:24.234723   21892 docker.go:578] pulling image seldonio/seldon-core-s2i-python3:0.3-SNAPSHOT:   8.69MB/12.37MB\n",
      "I1013 11:29:24.261121   21892 docker.go:578] pulling image seldonio/seldon-core-s2i-python3:0.3-SNAPSHOT:  26.16MB/45.31MB\n",
      "I1013 11:29:24.337792   21892 docker.go:578] pulling image seldonio/seldon-core-s2i-python3:0.3-SNAPSHOT:  10.66MB/12.37MB\n",
      "I1013 11:29:24.367262   21892 docker.go:578] pulling image seldonio/seldon-core-s2i-python3:0.3-SNAPSHOT:  27.08MB/45.31MB\n",
      "I1013 11:29:24.431326   21892 docker.go:578] pulling image seldonio/seldon-core-s2i-python3:0.3-SNAPSHOT: \n",
      "I1013 11:29:24.431363   21892 docker.go:578] pulling image seldonio/seldon-core-s2i-python3:0.3-SNAPSHOT: \n",
      "I1013 11:29:24.502858   21892 docker.go:578] pulling image seldonio/seldon-core-s2i-python3:0.3-SNAPSHOT:  28.46MB/45.31MB\n",
      "I1013 11:29:24.621857   21892 docker.go:578] pulling image seldonio/seldon-core-s2i-python3:0.3-SNAPSHOT:   30.3MB/45.31MB\n",
      "I1013 11:29:24.622499   21892 docker.go:578] pulling image seldonio/seldon-core-s2i-python3:0.3-SNAPSHOT:  391.9kB/38.45MB\n",
      "I1013 11:29:24.723009   21892 docker.go:578] pulling image seldonio/seldon-core-s2i-python3:0.3-SNAPSHOT:  31.68MB/45.31MB\n",
      "I1013 11:29:24.734768   21892 docker.go:578] pulling image seldonio/seldon-core-s2i-python3:0.3-SNAPSHOT:  1.969MB/38.45MB\n",
      "I1013 11:29:24.834963   21892 docker.go:578] pulling image seldonio/seldon-core-s2i-python3:0.3-SNAPSHOT:  3.534MB/38.45MB\n",
      "I1013 11:29:24.836824   21892 docker.go:578] pulling image seldonio/seldon-core-s2i-python3:0.3-SNAPSHOT:  33.06MB/45.31MB\n",
      "I1013 11:29:24.937024   21892 docker.go:578] pulling image seldonio/seldon-core-s2i-python3:0.3-SNAPSHOT:   5.11MB/38.45MB\n",
      "I1013 11:29:24.951670   21892 docker.go:578] pulling image seldonio/seldon-core-s2i-python3:0.3-SNAPSHOT:  34.44MB/45.31MB\n"
     ]
    },
    {
     "name": "stdout",
     "output_type": "stream",
     "text": [
      "I1013 11:29:25.043800   21892 docker.go:578] pulling image seldonio/seldon-core-s2i-python3:0.3-SNAPSHOT:  6.679MB/38.45MB\n",
      "I1013 11:29:25.077202   21892 docker.go:578] pulling image seldonio/seldon-core-s2i-python3:0.3-SNAPSHOT:  35.83MB/45.31MB\n",
      "I1013 11:29:25.116991   21892 docker.go:578] pulling image seldonio/seldon-core-s2i-python3:0.3-SNAPSHOT:     135B/135B\n",
      "I1013 11:29:25.117391   21892 docker.go:578] pulling image seldonio/seldon-core-s2i-python3:0.3-SNAPSHOT: \n",
      "I1013 11:29:25.117425   21892 docker.go:578] pulling image seldonio/seldon-core-s2i-python3:0.3-SNAPSHOT: \n",
      "I1013 11:29:25.156316   21892 docker.go:578] pulling image seldonio/seldon-core-s2i-python3:0.3-SNAPSHOT:  8.645MB/38.45MB\n",
      "I1013 11:29:25.196498   21892 docker.go:578] pulling image seldonio/seldon-core-s2i-python3:0.3-SNAPSHOT:   37.2MB/45.31MB\n",
      "I1013 11:29:25.280294   21892 docker.go:578] pulling image seldonio/seldon-core-s2i-python3:0.3-SNAPSHOT:  10.61MB/38.45MB\n",
      "I1013 11:29:25.311265   21892 docker.go:578] pulling image seldonio/seldon-core-s2i-python3:0.3-SNAPSHOT:  38.58MB/45.31MB\n",
      "I1013 11:29:25.403297   21892 docker.go:578] pulling image seldonio/seldon-core-s2i-python3:0.3-SNAPSHOT:  12.57MB/38.45MB\n",
      "I1013 11:29:25.430090   21892 docker.go:578] pulling image seldonio/seldon-core-s2i-python3:0.3-SNAPSHOT:  39.96MB/45.31MB\n",
      "I1013 11:29:25.524052   21892 docker.go:578] pulling image seldonio/seldon-core-s2i-python3:0.3-SNAPSHOT:  14.53MB/38.45MB\n",
      "I1013 11:29:25.558292   21892 docker.go:578] pulling image seldonio/seldon-core-s2i-python3:0.3-SNAPSHOT:  41.33MB/45.31MB\n",
      "I1013 11:29:25.642389   21892 docker.go:578] pulling image seldonio/seldon-core-s2i-python3:0.3-SNAPSHOT:   16.5MB/38.45MB\n",
      "I1013 11:29:25.680702   21892 docker.go:578] pulling image seldonio/seldon-core-s2i-python3:0.3-SNAPSHOT:  42.71MB/45.31MB\n",
      "I1013 11:29:25.747346   21892 docker.go:578] pulling image seldonio/seldon-core-s2i-python3:0.3-SNAPSHOT:     499B/10.14kB\n",
      "I1013 11:29:25.750459   21892 docker.go:578] pulling image seldonio/seldon-core-s2i-python3:0.3-SNAPSHOT: \n",
      "I1013 11:29:25.750514   21892 docker.go:578] pulling image seldonio/seldon-core-s2i-python3:0.3-SNAPSHOT: \n",
      "I1013 11:29:25.764753   21892 docker.go:578] pulling image seldonio/seldon-core-s2i-python3:0.3-SNAPSHOT:  18.46MB/38.45MB\n",
      "I1013 11:29:25.803709   21892 docker.go:578] pulling image seldonio/seldon-core-s2i-python3:0.3-SNAPSHOT:  44.09MB/45.31MB\n",
      "I1013 11:29:25.882785   21892 docker.go:578] pulling image seldonio/seldon-core-s2i-python3:0.3-SNAPSHOT:  20.41MB/38.45MB\n",
      "I1013 11:29:25.913638   21892 docker.go:578] pulling image seldonio/seldon-core-s2i-python3:0.3-SNAPSHOT: \n",
      "I1013 11:29:25.913664   21892 docker.go:578] pulling image seldonio/seldon-core-s2i-python3:0.3-SNAPSHOT: \n",
      "I1013 11:29:25.949972   21892 docker.go:578] pulling image seldonio/seldon-core-s2i-python3:0.3-SNAPSHOT:  458.8kB/45.31MB\n",
      "I1013 11:29:25.997104   21892 docker.go:578] pulling image seldonio/seldon-core-s2i-python3:0.3-SNAPSHOT:  22.76MB/38.45MB\n",
      "I1013 11:29:26.071778   21892 docker.go:578] pulling image seldonio/seldon-core-s2i-python3:0.3-SNAPSHOT:  2.753MB/45.31MB\n",
      "I1013 11:29:26.104735   21892 docker.go:578] pulling image seldonio/seldon-core-s2i-python3:0.3-SNAPSHOT:  25.51MB/38.45MB\n",
      "I1013 11:29:26.171324   21892 docker.go:578] pulling image seldonio/seldon-core-s2i-python3:0.3-SNAPSHOT:  5.046MB/45.31MB\n",
      "I1013 11:29:26.218359   21892 docker.go:578] pulling image seldonio/seldon-core-s2i-python3:0.3-SNAPSHOT:  28.64MB/38.45MB\n",
      "I1013 11:29:26.290792   21892 docker.go:578] pulling image seldonio/seldon-core-s2i-python3:0.3-SNAPSHOT:  7.799MB/45.31MB\n",
      "I1013 11:29:26.322264   21892 docker.go:578] pulling image seldonio/seldon-core-s2i-python3:0.3-SNAPSHOT:  31.37MB/38.45MB\n",
      "I1013 11:29:26.416390   21892 docker.go:578] pulling image seldonio/seldon-core-s2i-python3:0.3-SNAPSHOT:  10.09MB/45.31MB\n",
      "I1013 11:29:26.429201   21892 docker.go:578] pulling image seldonio/seldon-core-s2i-python3:0.3-SNAPSHOT:  34.12MB/38.45MB\n",
      "I1013 11:29:26.507191   21892 docker.go:578] pulling image seldonio/seldon-core-s2i-python3:0.3-SNAPSHOT:  420.6kB/41.14MB\n",
      "I1013 11:29:26.535056   21892 docker.go:578] pulling image seldonio/seldon-core-s2i-python3:0.3-SNAPSHOT:  11.93MB/45.31MB\n",
      "I1013 11:29:26.543580   21892 docker.go:578] pulling image seldonio/seldon-core-s2i-python3:0.3-SNAPSHOT:  36.47MB/38.45MB\n",
      "I1013 11:29:26.609747   21892 docker.go:578] pulling image seldonio/seldon-core-s2i-python3:0.3-SNAPSHOT:   1.67MB/41.14MB\n",
      "I1013 11:29:26.636656   21892 docker.go:578] pulling image seldonio/seldon-core-s2i-python3:0.3-SNAPSHOT:  13.76MB/45.31MB\n",
      "I1013 11:29:26.667413   21892 docker.go:578] pulling image seldonio/seldon-core-s2i-python3:0.3-SNAPSHOT:  38.05MB/38.45MB\n",
      "I1013 11:29:26.703666   21892 docker.go:578] pulling image seldonio/seldon-core-s2i-python3:0.3-SNAPSHOT: \n",
      "I1013 11:29:26.703764   21892 docker.go:578] pulling image seldonio/seldon-core-s2i-python3:0.3-SNAPSHOT: \n",
      "I1013 11:29:26.712361   21892 docker.go:578] pulling image seldonio/seldon-core-s2i-python3:0.3-SNAPSHOT:  3.353MB/41.14MB\n",
      "I1013 11:29:26.749812   21892 docker.go:578] pulling image seldonio/seldon-core-s2i-python3:0.3-SNAPSHOT:   15.6MB/45.31MB\n",
      "I1013 11:29:26.816362   21892 docker.go:578] pulling image seldonio/seldon-core-s2i-python3:0.3-SNAPSHOT:  5.876MB/41.14MB\n",
      "I1013 11:29:26.834396   21892 docker.go:578] pulling image seldonio/seldon-core-s2i-python3:0.3-SNAPSHOT:  425.1kB/41.48MB\n",
      "I1013 11:29:26.859748   21892 docker.go:578] pulling image seldonio/seldon-core-s2i-python3:0.3-SNAPSHOT:  17.89MB/45.31MB\n",
      "I1013 11:29:26.930432   21892 docker.go:578] pulling image seldonio/seldon-core-s2i-python3:0.3-SNAPSHOT:  8.826MB/41.14MB\n",
      "I1013 11:29:26.964068   21892 docker.go:578] pulling image seldonio/seldon-core-s2i-python3:0.3-SNAPSHOT:  20.19MB/45.31MB\n",
      "I1013 11:29:26.979336   21892 docker.go:578] pulling image seldonio/seldon-core-s2i-python3:0.3-SNAPSHOT:  851.1kB/41.48MB\n",
      "I1013 11:29:27.041035   21892 docker.go:578] pulling image seldonio/seldon-core-s2i-python3:0.3-SNAPSHOT:  11.36MB/41.14MB\n",
      "I1013 11:29:27.077402   21892 docker.go:578] pulling image seldonio/seldon-core-s2i-python3:0.3-SNAPSHOT:   21.1MB/45.31MB\n",
      "I1013 11:29:27.104964   21892 docker.go:578] pulling image seldonio/seldon-core-s2i-python3:0.3-SNAPSHOT:  1.277MB/41.48MB\n",
      "I1013 11:29:27.145412   21892 docker.go:578] pulling image seldonio/seldon-core-s2i-python3:0.3-SNAPSHOT:  13.89MB/41.14MB\n",
      "I1013 11:29:27.182639   21892 docker.go:578] pulling image seldonio/seldon-core-s2i-python3:0.3-SNAPSHOT:  24.31MB/45.31MB\n",
      "I1013 11:29:27.254182   21892 docker.go:578] pulling image seldonio/seldon-core-s2i-python3:0.3-SNAPSHOT:  16.42MB/41.14MB\n",
      "I1013 11:29:27.273147   21892 docker.go:578] pulling image seldonio/seldon-core-s2i-python3:0.3-SNAPSHOT:  2.112MB/41.48MB\n",
      "I1013 11:29:27.294454   21892 docker.go:578] pulling image seldonio/seldon-core-s2i-python3:0.3-SNAPSHOT:  30.28MB/45.31MB\n",
      "I1013 11:29:27.372245   21892 docker.go:578] pulling image seldonio/seldon-core-s2i-python3:0.3-SNAPSHOT:  18.95MB/41.14MB\n",
      "I1013 11:29:27.406031   21892 docker.go:578] pulling image seldonio/seldon-core-s2i-python3:0.3-SNAPSHOT:  32.11MB/45.31MB\n",
      "I1013 11:29:27.407151   21892 docker.go:578] pulling image seldonio/seldon-core-s2i-python3:0.3-SNAPSHOT:  2.956MB/41.48MB\n",
      "I1013 11:29:27.488422   21892 docker.go:578] pulling image seldonio/seldon-core-s2i-python3:0.3-SNAPSHOT:  21.48MB/41.14MB\n",
      "I1013 11:29:27.509123   21892 docker.go:578] pulling image seldonio/seldon-core-s2i-python3:0.3-SNAPSHOT:  33.49MB/45.31MB\n",
      "I1013 11:29:27.565077   21892 docker.go:578] pulling image seldonio/seldon-core-s2i-python3:0.3-SNAPSHOT:     500B/6.612kB\n",
      "I1013 11:29:27.565216   21892 docker.go:578] pulling image seldonio/seldon-core-s2i-python3:0.3-SNAPSHOT:  6.612kB/6.612kB\n",
      "I1013 11:29:27.565720   21892 docker.go:578] pulling image seldonio/seldon-core-s2i-python3:0.3-SNAPSHOT: \n",
      "I1013 11:29:27.565738   21892 docker.go:578] pulling image seldonio/seldon-core-s2i-python3:0.3-SNAPSHOT: \n",
      "I1013 11:29:27.566525   21892 docker.go:578] pulling image seldonio/seldon-core-s2i-python3:0.3-SNAPSHOT:  3.804MB/41.48MB\n",
      "I1013 11:29:27.602114   21892 docker.go:578] pulling image seldonio/seldon-core-s2i-python3:0.3-SNAPSHOT:     24MB/41.14MB\n",
      "I1013 11:29:27.613413   21892 docker.go:578] pulling image seldonio/seldon-core-s2i-python3:0.3-SNAPSHOT:  35.32MB/45.31MB\n"
     ]
    },
    {
     "name": "stdout",
     "output_type": "stream",
     "text": [
      "I1013 11:29:27.712751   21892 docker.go:578] pulling image seldonio/seldon-core-s2i-python3:0.3-SNAPSHOT:   36.7MB/45.31MB\n",
      "I1013 11:29:27.715204   21892 docker.go:578] pulling image seldonio/seldon-core-s2i-python3:0.3-SNAPSHOT:  26.52MB/41.14MB\n",
      "I1013 11:29:27.723277   21892 docker.go:578] pulling image seldonio/seldon-core-s2i-python3:0.3-SNAPSHOT:  4.652MB/41.48MB\n",
      "I1013 11:29:27.829179   21892 docker.go:578] pulling image seldonio/seldon-core-s2i-python3:0.3-SNAPSHOT:  29.05MB/41.14MB\n",
      "I1013 11:29:27.842593   21892 docker.go:578] pulling image seldonio/seldon-core-s2i-python3:0.3-SNAPSHOT:  38.54MB/45.31MB\n",
      "I1013 11:29:27.882535   21892 docker.go:578] pulling image seldonio/seldon-core-s2i-python3:0.3-SNAPSHOT:  5.504MB/41.48MB\n",
      "I1013 11:29:27.942767   21892 docker.go:578] pulling image seldonio/seldon-core-s2i-python3:0.3-SNAPSHOT:  31.56MB/41.14MB\n",
      "I1013 11:29:27.957006   21892 docker.go:578] pulling image seldonio/seldon-core-s2i-python3:0.3-SNAPSHOT:  40.37MB/45.31MB\n",
      "I1013 11:29:28.035143   21892 docker.go:578] pulling image seldonio/seldon-core-s2i-python3:0.3-SNAPSHOT:  6.352MB/41.48MB\n",
      "I1013 11:29:28.061164   21892 docker.go:578] pulling image seldonio/seldon-core-s2i-python3:0.3-SNAPSHOT:  34.09MB/41.14MB\n",
      "I1013 11:29:28.062883   21892 docker.go:578] pulling image seldonio/seldon-core-s2i-python3:0.3-SNAPSHOT:  42.21MB/45.31MB\n",
      "I1013 11:29:28.173491   21892 docker.go:578] pulling image seldonio/seldon-core-s2i-python3:0.3-SNAPSHOT:  36.62MB/41.14MB\n",
      "I1013 11:29:28.178490   21892 docker.go:578] pulling image seldonio/seldon-core-s2i-python3:0.3-SNAPSHOT:  44.04MB/45.31MB\n",
      "I1013 11:29:28.183821   21892 docker.go:578] pulling image seldonio/seldon-core-s2i-python3:0.3-SNAPSHOT:  7.204MB/41.48MB\n",
      "I1013 11:29:28.289910   21892 docker.go:578] pulling image seldonio/seldon-core-s2i-python3:0.3-SNAPSHOT:   7.63MB/41.48MB\n",
      "I1013 11:29:28.289975   21892 docker.go:578] pulling image seldonio/seldon-core-s2i-python3:0.3-SNAPSHOT:  38.28MB/41.14MB\n",
      "I1013 11:29:28.359589   21892 docker.go:578] pulling image seldonio/seldon-core-s2i-python3:0.3-SNAPSHOT:   44.5MB/45.31MB\n",
      "I1013 11:29:28.375305   21892 docker.go:578] pulling image seldonio/seldon-core-s2i-python3:0.3-SNAPSHOT:  15.56kB/1.434MB\n",
      "I1013 11:29:28.386381   21892 docker.go:578] pulling image seldonio/seldon-core-s2i-python3:0.3-SNAPSHOT: \n",
      "I1013 11:29:28.386422   21892 docker.go:578] pulling image seldonio/seldon-core-s2i-python3:0.3-SNAPSHOT: \n",
      "I1013 11:29:28.406637   21892 docker.go:578] pulling image seldonio/seldon-core-s2i-python3:0.3-SNAPSHOT:  8.486MB/41.48MB\n",
      "I1013 11:29:28.450900   21892 docker.go:578] pulling image seldonio/seldon-core-s2i-python3:0.3-SNAPSHOT:  45.31MB/45.31MB\n",
      "I1013 11:29:28.477283   21892 docker.go:578] pulling image seldonio/seldon-core-s2i-python3:0.3-SNAPSHOT:  670.5kB/1.434MB\n",
      "I1013 11:29:28.517094   21892 docker.go:578] pulling image seldonio/seldon-core-s2i-python3:0.3-SNAPSHOT: \n",
      "I1013 11:29:28.517115   21892 docker.go:578] pulling image seldonio/seldon-core-s2i-python3:0.3-SNAPSHOT: \n",
      "I1013 11:29:28.538497   21892 docker.go:578] pulling image seldonio/seldon-core-s2i-python3:0.3-SNAPSHOT:  9.764MB/41.48MB\n",
      "I1013 11:29:28.652882   21892 docker.go:578] pulling image seldonio/seldon-core-s2i-python3:0.3-SNAPSHOT:  11.46MB/41.48MB\n",
      "I1013 11:29:28.769333   21892 docker.go:578] pulling image seldonio/seldon-core-s2i-python3:0.3-SNAPSHOT:  14.02MB/41.48MB\n",
      "I1013 11:29:28.877957   21892 docker.go:578] pulling image seldonio/seldon-core-s2i-python3:0.3-SNAPSHOT:  17.01MB/41.48MB\n",
      "I1013 11:29:28.986214   21892 docker.go:578] pulling image seldonio/seldon-core-s2i-python3:0.3-SNAPSHOT:  19.99MB/41.48MB\n",
      "I1013 11:29:29.027655   21892 docker.go:578] pulling image seldonio/seldon-core-s2i-python3:0.3-SNAPSHOT:     500B/1.573kB\n",
      "I1013 11:29:29.027748   21892 docker.go:578] pulling image seldonio/seldon-core-s2i-python3:0.3-SNAPSHOT: \n",
      "I1013 11:29:29.027759   21892 docker.go:578] pulling image seldonio/seldon-core-s2i-python3:0.3-SNAPSHOT: \n",
      "I1013 11:29:29.094567   21892 docker.go:578] pulling image seldonio/seldon-core-s2i-python3:0.3-SNAPSHOT:  22.96MB/41.48MB\n",
      "I1013 11:29:29.203034   21892 docker.go:578] pulling image seldonio/seldon-core-s2i-python3:0.3-SNAPSHOT:  25.94MB/41.48MB\n",
      "I1013 11:29:29.307149   21892 docker.go:578] pulling image seldonio/seldon-core-s2i-python3:0.3-SNAPSHOT:   28.5MB/41.48MB\n",
      "I1013 11:29:29.325753   21892 docker.go:578] pulling image seldonio/seldon-core-s2i-python3:0.3-SNAPSHOT: \n",
      "I1013 11:29:29.433581   21892 docker.go:578] pulling image seldonio/seldon-core-s2i-python3:0.3-SNAPSHOT:  30.21MB/41.48MB\n",
      "I1013 11:29:29.443328   21892 docker.go:578] pulling image seldonio/seldon-core-s2i-python3:0.3-SNAPSHOT:  131.1kB/10.74MB\n",
      "I1013 11:29:29.543259   21892 docker.go:578] pulling image seldonio/seldon-core-s2i-python3:0.3-SNAPSHOT:   2.49MB/10.74MB\n",
      "I1013 11:29:29.575411   21892 docker.go:578] pulling image seldonio/seldon-core-s2i-python3:0.3-SNAPSHOT:  31.48MB/41.48MB\n",
      "I1013 11:29:29.648815   21892 docker.go:578] pulling image seldonio/seldon-core-s2i-python3:0.3-SNAPSHOT:  3.801MB/10.74MB\n",
      "I1013 11:29:29.728511   21892 docker.go:578] pulling image seldonio/seldon-core-s2i-python3:0.3-SNAPSHOT:  32.75MB/41.48MB\n",
      "I1013 11:29:29.754676   21892 docker.go:578] pulling image seldonio/seldon-core-s2i-python3:0.3-SNAPSHOT:  5.505MB/10.74MB\n",
      "I1013 11:29:29.830815   21892 docker.go:578] pulling image seldonio/seldon-core-s2i-python3:0.3-SNAPSHOT:   33.6MB/41.48MB\n",
      "I1013 11:29:29.859895   21892 docker.go:578] pulling image seldonio/seldon-core-s2i-python3:0.3-SNAPSHOT:  6.554MB/10.74MB\n",
      "I1013 11:29:29.944166   21892 docker.go:578] pulling image seldonio/seldon-core-s2i-python3:0.3-SNAPSHOT:  34.03MB/41.48MB\n",
      "I1013 11:29:29.963278   21892 docker.go:578] pulling image seldonio/seldon-core-s2i-python3:0.3-SNAPSHOT:  9.044MB/10.74MB\n",
      "I1013 11:29:30.047838   21892 docker.go:578] pulling image seldonio/seldon-core-s2i-python3:0.3-SNAPSHOT:   35.3MB/41.48MB\n",
      "I1013 11:29:30.065478   21892 docker.go:578] pulling image seldonio/seldon-core-s2i-python3:0.3-SNAPSHOT:  10.22MB/10.74MB\n",
      "I1013 11:29:30.141156   21892 docker.go:578] pulling image seldonio/seldon-core-s2i-python3:0.3-SNAPSHOT:  10.74MB/10.74MB\n",
      "I1013 11:29:30.148728   21892 docker.go:578] pulling image seldonio/seldon-core-s2i-python3:0.3-SNAPSHOT:  10.74MB/10.74MB\n",
      "I1013 11:29:30.177079   21892 docker.go:578] pulling image seldonio/seldon-core-s2i-python3:0.3-SNAPSHOT:  36.15MB/41.48MB\n",
      "I1013 11:29:30.246998   21892 docker.go:578] pulling image seldonio/seldon-core-s2i-python3:0.3-SNAPSHOT: \n",
      "I1013 11:29:30.294818   21892 docker.go:578] pulling image seldonio/seldon-core-s2i-python3:0.3-SNAPSHOT:  65.54kB/4.336MB\n",
      "I1013 11:29:30.327481   21892 docker.go:578] pulling image seldonio/seldon-core-s2i-python3:0.3-SNAPSHOT:     37MB/41.48MB\n",
      "I1013 11:29:30.396944   21892 docker.go:578] pulling image seldonio/seldon-core-s2i-python3:0.3-SNAPSHOT:   1.18MB/4.336MB\n",
      "I1013 11:29:30.429237   21892 docker.go:578] pulling image seldonio/seldon-core-s2i-python3:0.3-SNAPSHOT:  37.43MB/41.48MB\n",
      "I1013 11:29:30.501335   21892 docker.go:578] pulling image seldonio/seldon-core-s2i-python3:0.3-SNAPSHOT:   2.49MB/4.336MB\n",
      "I1013 11:29:30.534306   21892 docker.go:578] pulling image seldonio/seldon-core-s2i-python3:0.3-SNAPSHOT:  37.85MB/41.48MB\n",
      "I1013 11:29:30.601733   21892 docker.go:578] pulling image seldonio/seldon-core-s2i-python3:0.3-SNAPSHOT:  4.194MB/4.336MB\n",
      "I1013 11:29:30.632221   21892 docker.go:578] pulling image seldonio/seldon-core-s2i-python3:0.3-SNAPSHOT:  4.336MB/4.336MB\n",
      "I1013 11:29:30.667342   21892 docker.go:578] pulling image seldonio/seldon-core-s2i-python3:0.3-SNAPSHOT:  38.28MB/41.48MB\n",
      "I1013 11:29:30.703151   21892 docker.go:578] pulling image seldonio/seldon-core-s2i-python3:0.3-SNAPSHOT: \n",
      "I1013 11:29:30.778446   21892 docker.go:578] pulling image seldonio/seldon-core-s2i-python3:0.3-SNAPSHOT:  524.3kB/50.06MB\n",
      "I1013 11:29:30.829150   21892 docker.go:578] pulling image seldonio/seldon-core-s2i-python3:0.3-SNAPSHOT:  38.71MB/41.48MB\n",
      "I1013 11:29:30.886570   21892 docker.go:578] pulling image seldonio/seldon-core-s2i-python3:0.3-SNAPSHOT:  3.146MB/50.06MB\n",
      "I1013 11:29:30.994679   21892 docker.go:578] pulling image seldonio/seldon-core-s2i-python3:0.3-SNAPSHOT:  5.767MB/50.06MB\n"
     ]
    },
    {
     "name": "stdout",
     "output_type": "stream",
     "text": [
      "I1013 11:29:31.035092   21892 docker.go:578] pulling image seldonio/seldon-core-s2i-python3:0.3-SNAPSHOT:  39.14MB/41.48MB\n",
      "I1013 11:29:31.099013   21892 docker.go:578] pulling image seldonio/seldon-core-s2i-python3:0.3-SNAPSHOT:  8.389MB/50.06MB\n",
      "I1013 11:29:31.208740   21892 docker.go:578] pulling image seldonio/seldon-core-s2i-python3:0.3-SNAPSHOT:  11.01MB/50.06MB\n",
      "I1013 11:29:31.257113   21892 docker.go:578] pulling image seldonio/seldon-core-s2i-python3:0.3-SNAPSHOT:  39.56MB/41.48MB\n",
      "I1013 11:29:31.322078   21892 docker.go:578] pulling image seldonio/seldon-core-s2i-python3:0.3-SNAPSHOT:  13.63MB/50.06MB\n",
      "I1013 11:29:31.440454   21892 docker.go:578] pulling image seldonio/seldon-core-s2i-python3:0.3-SNAPSHOT:  16.25MB/50.06MB\n",
      "I1013 11:29:31.568258   21892 docker.go:578] pulling image seldonio/seldon-core-s2i-python3:0.3-SNAPSHOT:  18.35MB/50.06MB\n",
      "I1013 11:29:31.675662   21892 docker.go:578] pulling image seldonio/seldon-core-s2i-python3:0.3-SNAPSHOT:  19.92MB/50.06MB\n",
      "I1013 11:29:31.787437   21892 docker.go:578] pulling image seldonio/seldon-core-s2i-python3:0.3-SNAPSHOT:  22.02MB/50.06MB\n",
      "I1013 11:29:31.810223   21892 docker.go:578] pulling image seldonio/seldon-core-s2i-python3:0.3-SNAPSHOT:  39.99MB/41.48MB\n",
      "I1013 11:29:31.931627   21892 docker.go:578] pulling image seldonio/seldon-core-s2i-python3:0.3-SNAPSHOT:  24.12MB/50.06MB\n",
      "I1013 11:29:32.043748   21892 docker.go:578] pulling image seldonio/seldon-core-s2i-python3:0.3-SNAPSHOT:  26.21MB/50.06MB\n",
      "I1013 11:29:32.147698   21892 docker.go:578] pulling image seldonio/seldon-core-s2i-python3:0.3-SNAPSHOT:  27.79MB/50.06MB\n",
      "I1013 11:29:32.250392   21892 docker.go:578] pulling image seldonio/seldon-core-s2i-python3:0.3-SNAPSHOT:  30.41MB/50.06MB\n",
      "I1013 11:29:32.357317   21892 docker.go:578] pulling image seldonio/seldon-core-s2i-python3:0.3-SNAPSHOT:  32.51MB/50.06MB\n",
      "I1013 11:29:32.448957   21892 docker.go:578] pulling image seldonio/seldon-core-s2i-python3:0.3-SNAPSHOT:  40.41MB/41.48MB\n",
      "I1013 11:29:32.459482   21892 docker.go:578] pulling image seldonio/seldon-core-s2i-python3:0.3-SNAPSHOT:   34.6MB/50.06MB\n",
      "I1013 11:29:32.584180   21892 docker.go:578] pulling image seldonio/seldon-core-s2i-python3:0.3-SNAPSHOT:   36.7MB/50.06MB\n",
      "I1013 11:29:32.701564   21892 docker.go:578] pulling image seldonio/seldon-core-s2i-python3:0.3-SNAPSHOT:  40.37MB/50.06MB\n",
      "I1013 11:29:32.799498   21892 docker.go:578] pulling image seldonio/seldon-core-s2i-python3:0.3-SNAPSHOT:  40.84MB/41.48MB\n",
      "I1013 11:29:32.838538   21892 docker.go:578] pulling image seldonio/seldon-core-s2i-python3:0.3-SNAPSHOT:  42.47MB/50.06MB\n",
      "I1013 11:29:32.941969   21892 docker.go:578] pulling image seldonio/seldon-core-s2i-python3:0.3-SNAPSHOT:  44.04MB/50.06MB\n",
      "I1013 11:29:33.062461   21892 docker.go:578] pulling image seldonio/seldon-core-s2i-python3:0.3-SNAPSHOT:  41.27MB/41.48MB\n",
      "I1013 11:29:33.087878   21892 docker.go:578] pulling image seldonio/seldon-core-s2i-python3:0.3-SNAPSHOT:  45.61MB/50.06MB\n",
      "I1013 11:29:33.164715   21892 docker.go:578] pulling image seldonio/seldon-core-s2i-python3:0.3-SNAPSHOT: \n",
      "I1013 11:29:33.164736   21892 docker.go:578] pulling image seldonio/seldon-core-s2i-python3:0.3-SNAPSHOT: \n",
      "I1013 11:29:33.203678   21892 docker.go:578] pulling image seldonio/seldon-core-s2i-python3:0.3-SNAPSHOT:  47.19MB/50.06MB\n",
      "I1013 11:29:33.309520   21892 docker.go:578] pulling image seldonio/seldon-core-s2i-python3:0.3-SNAPSHOT:  48.23MB/50.06MB\n",
      "I1013 11:29:33.416376   21892 docker.go:578] pulling image seldonio/seldon-core-s2i-python3:0.3-SNAPSHOT:  49.28MB/50.06MB\n",
      "I1013 11:29:33.502692   21892 docker.go:578] pulling image seldonio/seldon-core-s2i-python3:0.3-SNAPSHOT:  50.06MB/50.06MB\n",
      "I1013 11:29:33.989159   21892 docker.go:578] pulling image seldonio/seldon-core-s2i-python3:0.3-SNAPSHOT: \n",
      "I1013 11:29:34.121754   21892 docker.go:578] pulling image seldonio/seldon-core-s2i-python3:0.3-SNAPSHOT:  557.1kB/213.2MB\n",
      "I1013 11:29:34.246906   21892 docker.go:578] pulling image seldonio/seldon-core-s2i-python3:0.3-SNAPSHOT:  2.785MB/213.2MB\n",
      "I1013 11:29:34.385885   21892 docker.go:578] pulling image seldonio/seldon-core-s2i-python3:0.3-SNAPSHOT:  5.014MB/213.2MB\n",
      "I1013 11:29:34.518463   21892 docker.go:578] pulling image seldonio/seldon-core-s2i-python3:0.3-SNAPSHOT:  7.242MB/213.2MB\n",
      "I1013 11:29:34.634423   21892 docker.go:578] pulling image seldonio/seldon-core-s2i-python3:0.3-SNAPSHOT:  8.913MB/213.2MB\n",
      "I1013 11:29:34.822642   21892 docker.go:578] pulling image seldonio/seldon-core-s2i-python3:0.3-SNAPSHOT:  10.03MB/213.2MB\n",
      "I1013 11:29:35.012634   21892 docker.go:578] pulling image seldonio/seldon-core-s2i-python3:0.3-SNAPSHOT:  11.14MB/213.2MB\n",
      "I1013 11:29:35.185496   21892 docker.go:578] pulling image seldonio/seldon-core-s2i-python3:0.3-SNAPSHOT:  12.26MB/213.2MB\n",
      "I1013 11:29:35.336818   21892 docker.go:578] pulling image seldonio/seldon-core-s2i-python3:0.3-SNAPSHOT:  13.37MB/213.2MB\n",
      "I1013 11:29:35.463067   21892 docker.go:578] pulling image seldonio/seldon-core-s2i-python3:0.3-SNAPSHOT:  15.04MB/213.2MB\n",
      "I1013 11:29:35.571248   21892 docker.go:578] pulling image seldonio/seldon-core-s2i-python3:0.3-SNAPSHOT:  16.71MB/213.2MB\n",
      "I1013 11:29:35.685345   21892 docker.go:578] pulling image seldonio/seldon-core-s2i-python3:0.3-SNAPSHOT:  20.05MB/213.2MB\n",
      "I1013 11:29:35.790341   21892 docker.go:578] pulling image seldonio/seldon-core-s2i-python3:0.3-SNAPSHOT:  22.84MB/213.2MB\n",
      "I1013 11:29:35.925302   21892 docker.go:578] pulling image seldonio/seldon-core-s2i-python3:0.3-SNAPSHOT:  25.62MB/213.2MB\n",
      "I1013 11:29:36.034821   21892 docker.go:578] pulling image seldonio/seldon-core-s2i-python3:0.3-SNAPSHOT:  27.85MB/213.2MB\n",
      "I1013 11:29:36.144831   21892 docker.go:578] pulling image seldonio/seldon-core-s2i-python3:0.3-SNAPSHOT:  30.08MB/213.2MB\n",
      "I1013 11:29:36.263073   21892 docker.go:578] pulling image seldonio/seldon-core-s2i-python3:0.3-SNAPSHOT:  32.87MB/213.2MB\n",
      "I1013 11:29:36.388003   21892 docker.go:578] pulling image seldonio/seldon-core-s2i-python3:0.3-SNAPSHOT:  34.54MB/213.2MB\n",
      "I1013 11:29:36.503309   21892 docker.go:578] pulling image seldonio/seldon-core-s2i-python3:0.3-SNAPSHOT:  38.44MB/213.2MB\n",
      "I1013 11:29:36.622652   21892 docker.go:578] pulling image seldonio/seldon-core-s2i-python3:0.3-SNAPSHOT:  40.67MB/213.2MB\n",
      "I1013 11:29:36.729989   21892 docker.go:578] pulling image seldonio/seldon-core-s2i-python3:0.3-SNAPSHOT:  44.01MB/213.2MB\n",
      "I1013 11:29:36.850512   21892 docker.go:578] pulling image seldonio/seldon-core-s2i-python3:0.3-SNAPSHOT:  46.79MB/213.2MB\n",
      "I1013 11:29:36.970918   21892 docker.go:578] pulling image seldonio/seldon-core-s2i-python3:0.3-SNAPSHOT:  49.02MB/213.2MB\n",
      "I1013 11:29:37.102820   21892 docker.go:578] pulling image seldonio/seldon-core-s2i-python3:0.3-SNAPSHOT:  51.25MB/213.2MB\n",
      "I1013 11:29:37.213053   21892 docker.go:578] pulling image seldonio/seldon-core-s2i-python3:0.3-SNAPSHOT:  52.36MB/213.2MB\n",
      "I1013 11:29:37.323327   21892 docker.go:578] pulling image seldonio/seldon-core-s2i-python3:0.3-SNAPSHOT:  54.03MB/213.2MB\n",
      "I1013 11:29:37.440449   21892 docker.go:578] pulling image seldonio/seldon-core-s2i-python3:0.3-SNAPSHOT:  55.71MB/213.2MB\n",
      "I1013 11:29:37.540390   21892 docker.go:578] pulling image seldonio/seldon-core-s2i-python3:0.3-SNAPSHOT:  57.38MB/213.2MB\n",
      "I1013 11:29:37.652848   21892 docker.go:578] pulling image seldonio/seldon-core-s2i-python3:0.3-SNAPSHOT:  60.16MB/213.2MB\n",
      "I1013 11:29:37.770563   21892 docker.go:578] pulling image seldonio/seldon-core-s2i-python3:0.3-SNAPSHOT:  62.95MB/213.2MB\n",
      "I1013 11:29:37.891267   21892 docker.go:578] pulling image seldonio/seldon-core-s2i-python3:0.3-SNAPSHOT:  66.29MB/213.2MB\n",
      "I1013 11:29:37.994017   21892 docker.go:578] pulling image seldonio/seldon-core-s2i-python3:0.3-SNAPSHOT:  68.52MB/213.2MB\n",
      "I1013 11:29:38.096614   21892 docker.go:578] pulling image seldonio/seldon-core-s2i-python3:0.3-SNAPSHOT:   71.3MB/213.2MB\n",
      "I1013 11:29:38.208132   21892 docker.go:578] pulling image seldonio/seldon-core-s2i-python3:0.3-SNAPSHOT:  74.09MB/213.2MB\n",
      "I1013 11:29:38.316353   21892 docker.go:578] pulling image seldonio/seldon-core-s2i-python3:0.3-SNAPSHOT:  76.87MB/213.2MB\n",
      "I1013 11:29:38.424506   21892 docker.go:578] pulling image seldonio/seldon-core-s2i-python3:0.3-SNAPSHOT:  79.66MB/213.2MB\n"
     ]
    },
    {
     "name": "stdout",
     "output_type": "stream",
     "text": [
      "I1013 11:29:38.525285   21892 docker.go:578] pulling image seldonio/seldon-core-s2i-python3:0.3-SNAPSHOT:  82.44MB/213.2MB\n",
      "I1013 11:29:38.632107   21892 docker.go:578] pulling image seldonio/seldon-core-s2i-python3:0.3-SNAPSHOT:  85.79MB/213.2MB\n",
      "I1013 11:29:38.743181   21892 docker.go:578] pulling image seldonio/seldon-core-s2i-python3:0.3-SNAPSHOT:  89.13MB/213.2MB\n",
      "I1013 11:29:38.859429   21892 docker.go:578] pulling image seldonio/seldon-core-s2i-python3:0.3-SNAPSHOT:  91.91MB/213.2MB\n",
      "I1013 11:29:38.962587   21892 docker.go:578] pulling image seldonio/seldon-core-s2i-python3:0.3-SNAPSHOT:   94.7MB/213.2MB\n",
      "I1013 11:29:39.081219   21892 docker.go:578] pulling image seldonio/seldon-core-s2i-python3:0.3-SNAPSHOT:  97.48MB/213.2MB\n",
      "I1013 11:29:39.185847   21892 docker.go:578] pulling image seldonio/seldon-core-s2i-python3:0.3-SNAPSHOT:  100.8MB/213.2MB\n",
      "I1013 11:29:39.291732   21892 docker.go:578] pulling image seldonio/seldon-core-s2i-python3:0.3-SNAPSHOT:  103.6MB/213.2MB\n",
      "I1013 11:29:39.396322   21892 docker.go:578] pulling image seldonio/seldon-core-s2i-python3:0.3-SNAPSHOT:  105.8MB/213.2MB\n",
      "I1013 11:29:39.498980   21892 docker.go:578] pulling image seldonio/seldon-core-s2i-python3:0.3-SNAPSHOT:  108.1MB/213.2MB\n",
      "I1013 11:29:39.613402   21892 docker.go:578] pulling image seldonio/seldon-core-s2i-python3:0.3-SNAPSHOT:  110.3MB/213.2MB\n",
      "I1013 11:29:39.717879   21892 docker.go:578] pulling image seldonio/seldon-core-s2i-python3:0.3-SNAPSHOT:  112.5MB/213.2MB\n",
      "I1013 11:29:39.817883   21892 docker.go:578] pulling image seldonio/seldon-core-s2i-python3:0.3-SNAPSHOT:  114.8MB/213.2MB\n",
      "I1013 11:29:39.921121   21892 docker.go:578] pulling image seldonio/seldon-core-s2i-python3:0.3-SNAPSHOT:    117MB/213.2MB\n",
      "I1013 11:29:40.033497   21892 docker.go:578] pulling image seldonio/seldon-core-s2i-python3:0.3-SNAPSHOT:  119.8MB/213.2MB\n",
      "I1013 11:29:40.160726   21892 docker.go:578] pulling image seldonio/seldon-core-s2i-python3:0.3-SNAPSHOT:    122MB/213.2MB\n",
      "I1013 11:29:40.270176   21892 docker.go:578] pulling image seldonio/seldon-core-s2i-python3:0.3-SNAPSHOT:  124.8MB/213.2MB\n",
      "I1013 11:29:40.374822   21892 docker.go:578] pulling image seldonio/seldon-core-s2i-python3:0.3-SNAPSHOT:  127.6MB/213.2MB\n",
      "I1013 11:29:40.485753   21892 docker.go:578] pulling image seldonio/seldon-core-s2i-python3:0.3-SNAPSHOT:  129.8MB/213.2MB\n",
      "I1013 11:29:40.587929   21892 docker.go:578] pulling image seldonio/seldon-core-s2i-python3:0.3-SNAPSHOT:    132MB/213.2MB\n",
      "I1013 11:29:40.700967   21892 docker.go:578] pulling image seldonio/seldon-core-s2i-python3:0.3-SNAPSHOT:  134.8MB/213.2MB\n",
      "I1013 11:29:40.820180   21892 docker.go:578] pulling image seldonio/seldon-core-s2i-python3:0.3-SNAPSHOT:  137.6MB/213.2MB\n",
      "I1013 11:29:40.957152   21892 docker.go:578] pulling image seldonio/seldon-core-s2i-python3:0.3-SNAPSHOT:  139.3MB/213.2MB\n",
      "I1013 11:29:41.073350   21892 docker.go:578] pulling image seldonio/seldon-core-s2i-python3:0.3-SNAPSHOT:  143.2MB/213.2MB\n",
      "I1013 11:29:41.184044   21892 docker.go:578] pulling image seldonio/seldon-core-s2i-python3:0.3-SNAPSHOT:  149.3MB/213.2MB\n",
      "I1013 11:29:41.292471   21892 docker.go:578] pulling image seldonio/seldon-core-s2i-python3:0.3-SNAPSHOT:  153.7MB/213.2MB\n",
      "I1013 11:29:41.394717   21892 docker.go:578] pulling image seldonio/seldon-core-s2i-python3:0.3-SNAPSHOT:  162.7MB/213.2MB\n",
      "I1013 11:29:41.510077   21892 docker.go:578] pulling image seldonio/seldon-core-s2i-python3:0.3-SNAPSHOT:  169.3MB/213.2MB\n",
      "I1013 11:29:41.626329   21892 docker.go:578] pulling image seldonio/seldon-core-s2i-python3:0.3-SNAPSHOT:  176.6MB/213.2MB\n",
      "I1013 11:29:41.748356   21892 docker.go:578] pulling image seldonio/seldon-core-s2i-python3:0.3-SNAPSHOT:  180.5MB/213.2MB\n",
      "I1013 11:29:41.907382   21892 docker.go:578] pulling image seldonio/seldon-core-s2i-python3:0.3-SNAPSHOT:  182.7MB/213.2MB\n",
      "I1013 11:29:42.071980   21892 docker.go:578] pulling image seldonio/seldon-core-s2i-python3:0.3-SNAPSHOT:  183.3MB/213.2MB\n",
      "I1013 11:29:42.173920   21892 docker.go:578] pulling image seldonio/seldon-core-s2i-python3:0.3-SNAPSHOT:  186.1MB/213.2MB\n",
      "I1013 11:29:42.284274   21892 docker.go:578] pulling image seldonio/seldon-core-s2i-python3:0.3-SNAPSHOT:  190.5MB/213.2MB\n",
      "I1013 11:29:42.454269   21892 docker.go:578] pulling image seldonio/seldon-core-s2i-python3:0.3-SNAPSHOT:  192.2MB/213.2MB\n",
      "I1013 11:29:42.563289   21892 docker.go:578] pulling image seldonio/seldon-core-s2i-python3:0.3-SNAPSHOT:  193.9MB/213.2MB\n",
      "I1013 11:29:42.685274   21892 docker.go:578] pulling image seldonio/seldon-core-s2i-python3:0.3-SNAPSHOT:  195.5MB/213.2MB\n",
      "I1013 11:29:42.807783   21892 docker.go:578] pulling image seldonio/seldon-core-s2i-python3:0.3-SNAPSHOT:  197.8MB/213.2MB\n",
      "I1013 11:29:42.912837   21892 docker.go:578] pulling image seldonio/seldon-core-s2i-python3:0.3-SNAPSHOT:    200MB/213.2MB\n",
      "I1013 11:29:43.023675   21892 docker.go:578] pulling image seldonio/seldon-core-s2i-python3:0.3-SNAPSHOT:  202.2MB/213.2MB\n",
      "I1013 11:29:43.133650   21892 docker.go:578] pulling image seldonio/seldon-core-s2i-python3:0.3-SNAPSHOT:  204.4MB/213.2MB\n",
      "I1013 11:29:43.234800   21892 docker.go:578] pulling image seldonio/seldon-core-s2i-python3:0.3-SNAPSHOT:  206.7MB/213.2MB\n",
      "I1013 11:29:43.352799   21892 docker.go:578] pulling image seldonio/seldon-core-s2i-python3:0.3-SNAPSHOT:  208.9MB/213.2MB\n",
      "I1013 11:29:43.463058   21892 docker.go:578] pulling image seldonio/seldon-core-s2i-python3:0.3-SNAPSHOT:  210.6MB/213.2MB\n",
      "I1013 11:29:43.592340   21892 docker.go:578] pulling image seldonio/seldon-core-s2i-python3:0.3-SNAPSHOT:  211.7MB/213.2MB\n",
      "I1013 11:29:43.736794   21892 docker.go:578] pulling image seldonio/seldon-core-s2i-python3:0.3-SNAPSHOT:  212.8MB/213.2MB\n",
      "I1013 11:29:43.779657   21892 docker.go:578] pulling image seldonio/seldon-core-s2i-python3:0.3-SNAPSHOT:  213.2MB/213.2MB\n",
      "I1013 11:29:44.267582   21892 docker.go:578] pulling image seldonio/seldon-core-s2i-python3:0.3-SNAPSHOT: \n",
      "I1013 11:29:44.317209   21892 docker.go:578] pulling image seldonio/seldon-core-s2i-python3:0.3-SNAPSHOT:  65.54kB/5.745MB\n",
      "I1013 11:29:44.417742   21892 docker.go:578] pulling image seldonio/seldon-core-s2i-python3:0.3-SNAPSHOT:  2.097MB/5.745MB\n",
      "I1013 11:29:44.519024   21892 docker.go:578] pulling image seldonio/seldon-core-s2i-python3:0.3-SNAPSHOT:  4.653MB/5.745MB\n",
      "I1013 11:29:44.600946   21892 docker.go:578] pulling image seldonio/seldon-core-s2i-python3:0.3-SNAPSHOT:  5.745MB/5.745MB\n",
      "I1013 11:29:44.632123   21892 docker.go:578] pulling image seldonio/seldon-core-s2i-python3:0.3-SNAPSHOT: \n",
      "I1013 11:29:44.675788   21892 docker.go:578] pulling image seldonio/seldon-core-s2i-python3:0.3-SNAPSHOT:  229.4kB/20.95MB\n",
      "I1013 11:29:44.786488   21892 docker.go:578] pulling image seldonio/seldon-core-s2i-python3:0.3-SNAPSHOT:  2.753MB/20.95MB\n",
      "I1013 11:29:44.895061   21892 docker.go:578] pulling image seldonio/seldon-core-s2i-python3:0.3-SNAPSHOT:  4.817MB/20.95MB\n",
      "I1013 11:29:45.001131   21892 docker.go:578] pulling image seldonio/seldon-core-s2i-python3:0.3-SNAPSHOT:  7.111MB/20.95MB\n",
      "I1013 11:29:45.101327   21892 docker.go:578] pulling image seldonio/seldon-core-s2i-python3:0.3-SNAPSHOT:  9.404MB/20.95MB\n",
      "I1013 11:29:45.209048   21892 docker.go:578] pulling image seldonio/seldon-core-s2i-python3:0.3-SNAPSHOT:   11.7MB/20.95MB\n",
      "I1013 11:29:45.322384   21892 docker.go:578] pulling image seldonio/seldon-core-s2i-python3:0.3-SNAPSHOT:  14.91MB/20.95MB\n",
      "I1013 11:29:45.429569   21892 docker.go:578] pulling image seldonio/seldon-core-s2i-python3:0.3-SNAPSHOT:   17.2MB/20.95MB\n",
      "I1013 11:29:45.538386   21892 docker.go:578] pulling image seldonio/seldon-core-s2i-python3:0.3-SNAPSHOT:  19.73MB/20.95MB\n",
      "I1013 11:29:45.628542   21892 docker.go:578] pulling image seldonio/seldon-core-s2i-python3:0.3-SNAPSHOT:  20.95MB/20.95MB\n",
      "I1013 11:29:45.659167   21892 docker.go:578] pulling image seldonio/seldon-core-s2i-python3:0.3-SNAPSHOT: \n",
      "I1013 11:29:45.664341   21892 docker.go:578] pulling image seldonio/seldon-core-s2i-python3:0.3-SNAPSHOT:     240B/240B\n",
      "I1013 11:29:45.666721   21892 docker.go:578] pulling image seldonio/seldon-core-s2i-python3:0.3-SNAPSHOT:     240B/240B\n",
      "I1013 11:29:45.703922   21892 docker.go:578] pulling image seldonio/seldon-core-s2i-python3:0.3-SNAPSHOT: \n",
      "I1013 11:29:45.710116   21892 docker.go:578] pulling image seldonio/seldon-core-s2i-python3:0.3-SNAPSHOT:  32.77kB/1.788MB\n"
     ]
    },
    {
     "name": "stdout",
     "output_type": "stream",
     "text": [
      "I1013 11:29:45.811261   21892 docker.go:578] pulling image seldonio/seldon-core-s2i-python3:0.3-SNAPSHOT:  1.245MB/1.788MB\n",
      "I1013 11:29:45.840128   21892 docker.go:578] pulling image seldonio/seldon-core-s2i-python3:0.3-SNAPSHOT:  1.788MB/1.788MB\n",
      "I1013 11:29:45.842266   21892 docker.go:578] pulling image seldonio/seldon-core-s2i-python3:0.3-SNAPSHOT:  1.788MB/1.788MB\n",
      "I1013 11:29:45.868300   21892 docker.go:578] pulling image seldonio/seldon-core-s2i-python3:0.3-SNAPSHOT: \n",
      "I1013 11:29:45.904949   21892 docker.go:578] pulling image seldonio/seldon-core-s2i-python3:0.3-SNAPSHOT:  131.1kB/12.37MB\n",
      "I1013 11:29:46.005945   21892 docker.go:578] pulling image seldonio/seldon-core-s2i-python3:0.3-SNAPSHOT:  3.015MB/12.37MB\n",
      "I1013 11:29:46.108468   21892 docker.go:578] pulling image seldonio/seldon-core-s2i-python3:0.3-SNAPSHOT:  6.554MB/12.37MB\n",
      "I1013 11:29:46.210401   21892 docker.go:578] pulling image seldonio/seldon-core-s2i-python3:0.3-SNAPSHOT:  10.22MB/12.37MB\n",
      "I1013 11:29:46.273605   21892 docker.go:578] pulling image seldonio/seldon-core-s2i-python3:0.3-SNAPSHOT:  12.37MB/12.37MB\n",
      "I1013 11:29:46.294172   21892 docker.go:578] pulling image seldonio/seldon-core-s2i-python3:0.3-SNAPSHOT: \n",
      "I1013 11:29:46.346694   21892 docker.go:578] pulling image seldonio/seldon-core-s2i-python3:0.3-SNAPSHOT:  393.2kB/38.45MB\n",
      "I1013 11:29:46.449248   21892 docker.go:578] pulling image seldonio/seldon-core-s2i-python3:0.3-SNAPSHOT:  6.291MB/38.45MB\n",
      "I1013 11:29:46.552236   21892 docker.go:578] pulling image seldonio/seldon-core-s2i-python3:0.3-SNAPSHOT:  11.01MB/38.45MB\n",
      "I1013 11:29:46.656705   21892 docker.go:578] pulling image seldonio/seldon-core-s2i-python3:0.3-SNAPSHOT:  16.52MB/38.45MB\n",
      "I1013 11:29:46.761139   21892 docker.go:578] pulling image seldonio/seldon-core-s2i-python3:0.3-SNAPSHOT:  22.41MB/38.45MB\n",
      "I1013 11:29:46.867524   21892 docker.go:578] pulling image seldonio/seldon-core-s2i-python3:0.3-SNAPSHOT:  27.92MB/38.45MB\n",
      "I1013 11:29:46.969014   21892 docker.go:578] pulling image seldonio/seldon-core-s2i-python3:0.3-SNAPSHOT:  31.06MB/38.45MB\n",
      "I1013 11:29:47.089235   21892 docker.go:578] pulling image seldonio/seldon-core-s2i-python3:0.3-SNAPSHOT:  32.64MB/38.45MB\n",
      "I1013 11:29:47.190523   21892 docker.go:578] pulling image seldonio/seldon-core-s2i-python3:0.3-SNAPSHOT:     35MB/38.45MB\n",
      "I1013 11:29:47.297231   21892 docker.go:578] pulling image seldonio/seldon-core-s2i-python3:0.3-SNAPSHOT:  38.45MB/38.45MB\n",
      "I1013 11:29:47.331191   21892 docker.go:578] pulling image seldonio/seldon-core-s2i-python3:0.3-SNAPSHOT: \n",
      "I1013 11:29:47.336824   21892 docker.go:578] pulling image seldonio/seldon-core-s2i-python3:0.3-SNAPSHOT:     135B/135B\n",
      "I1013 11:29:47.339291   21892 docker.go:578] pulling image seldonio/seldon-core-s2i-python3:0.3-SNAPSHOT:     135B/135B\n",
      "I1013 11:29:47.378254   21892 docker.go:578] pulling image seldonio/seldon-core-s2i-python3:0.3-SNAPSHOT: \n",
      "I1013 11:29:47.386134   21892 docker.go:578] pulling image seldonio/seldon-core-s2i-python3:0.3-SNAPSHOT:  10.14kB/10.14kB\n",
      "I1013 11:29:47.402769   21892 docker.go:578] pulling image seldonio/seldon-core-s2i-python3:0.3-SNAPSHOT:  10.14kB/10.14kB\n",
      "I1013 11:29:47.428566   21892 docker.go:578] pulling image seldonio/seldon-core-s2i-python3:0.3-SNAPSHOT: \n",
      "I1013 11:29:47.491289   21892 docker.go:578] pulling image seldonio/seldon-core-s2i-python3:0.3-SNAPSHOT:    426kB/41.14MB\n",
      "I1013 11:29:47.596659   21892 docker.go:578] pulling image seldonio/seldon-core-s2i-python3:0.3-SNAPSHOT:  2.556MB/41.14MB\n",
      "I1013 11:29:47.707220   21892 docker.go:578] pulling image seldonio/seldon-core-s2i-python3:0.3-SNAPSHOT:  5.538MB/41.14MB\n",
      "I1013 11:29:47.809612   21892 docker.go:578] pulling image seldonio/seldon-core-s2i-python3:0.3-SNAPSHOT:   8.52MB/41.14MB\n",
      "I1013 11:29:47.910366   21892 docker.go:578] pulling image seldonio/seldon-core-s2i-python3:0.3-SNAPSHOT:  10.65MB/41.14MB\n",
      "I1013 11:29:48.023868   21892 docker.go:578] pulling image seldonio/seldon-core-s2i-python3:0.3-SNAPSHOT:  12.78MB/41.14MB\n",
      "I1013 11:29:48.128449   21892 docker.go:578] pulling image seldonio/seldon-core-s2i-python3:0.3-SNAPSHOT:  14.91MB/41.14MB\n",
      "I1013 11:29:48.239763   21892 docker.go:578] pulling image seldonio/seldon-core-s2i-python3:0.3-SNAPSHOT:  17.47MB/41.14MB\n",
      "I1013 11:29:48.347283   21892 docker.go:578] pulling image seldonio/seldon-core-s2i-python3:0.3-SNAPSHOT:  20.02MB/41.14MB\n",
      "I1013 11:29:48.471824   21892 docker.go:578] pulling image seldonio/seldon-core-s2i-python3:0.3-SNAPSHOT:  22.58MB/41.14MB\n",
      "I1013 11:29:48.588919   21892 docker.go:578] pulling image seldonio/seldon-core-s2i-python3:0.3-SNAPSHOT:  24.71MB/41.14MB\n",
      "I1013 11:29:48.695761   21892 docker.go:578] pulling image seldonio/seldon-core-s2i-python3:0.3-SNAPSHOT:  27.26MB/41.14MB\n",
      "I1013 11:29:48.805880   21892 docker.go:578] pulling image seldonio/seldon-core-s2i-python3:0.3-SNAPSHOT:  30.24MB/41.14MB\n",
      "I1013 11:29:48.916756   21892 docker.go:578] pulling image seldonio/seldon-core-s2i-python3:0.3-SNAPSHOT:   32.8MB/41.14MB\n",
      "I1013 11:29:49.044034   21892 docker.go:578] pulling image seldonio/seldon-core-s2i-python3:0.3-SNAPSHOT:  34.93MB/41.14MB\n",
      "I1013 11:29:49.162213   21892 docker.go:578] pulling image seldonio/seldon-core-s2i-python3:0.3-SNAPSHOT:  36.63MB/41.14MB\n",
      "I1013 11:29:49.284375   21892 docker.go:578] pulling image seldonio/seldon-core-s2i-python3:0.3-SNAPSHOT:  38.34MB/41.14MB\n",
      "I1013 11:29:49.413639   21892 docker.go:578] pulling image seldonio/seldon-core-s2i-python3:0.3-SNAPSHOT:  39.62MB/41.14MB\n",
      "I1013 11:29:49.523092   21892 docker.go:578] pulling image seldonio/seldon-core-s2i-python3:0.3-SNAPSHOT:  41.14MB/41.14MB\n",
      "I1013 11:29:49.651266   21892 docker.go:578] pulling image seldonio/seldon-core-s2i-python3:0.3-SNAPSHOT: \n",
      "I1013 11:29:49.700800   21892 docker.go:578] pulling image seldonio/seldon-core-s2i-python3:0.3-SNAPSHOT:    426kB/41.48MB\n",
      "I1013 11:29:49.804341   21892 docker.go:578] pulling image seldonio/seldon-core-s2i-python3:0.3-SNAPSHOT:  8.946MB/41.48MB\n",
      "I1013 11:29:49.904796   21892 docker.go:578] pulling image seldonio/seldon-core-s2i-python3:0.3-SNAPSHOT:  17.47MB/41.48MB\n",
      "I1013 11:29:50.033922   21892 docker.go:578] pulling image seldonio/seldon-core-s2i-python3:0.3-SNAPSHOT:   21.3MB/41.48MB\n",
      "I1013 11:29:50.136513   21892 docker.go:578] pulling image seldonio/seldon-core-s2i-python3:0.3-SNAPSHOT:  23.86MB/41.48MB\n",
      "I1013 11:29:50.248764   21892 docker.go:578] pulling image seldonio/seldon-core-s2i-python3:0.3-SNAPSHOT:  26.84MB/41.48MB\n",
      "I1013 11:29:50.355468   21892 docker.go:578] pulling image seldonio/seldon-core-s2i-python3:0.3-SNAPSHOT:  29.82MB/41.48MB\n",
      "I1013 11:29:50.463708   21892 docker.go:578] pulling image seldonio/seldon-core-s2i-python3:0.3-SNAPSHOT:   32.8MB/41.48MB\n",
      "I1013 11:29:50.570879   21892 docker.go:578] pulling image seldonio/seldon-core-s2i-python3:0.3-SNAPSHOT:  35.78MB/41.48MB\n",
      "I1013 11:29:50.679753   21892 docker.go:578] pulling image seldonio/seldon-core-s2i-python3:0.3-SNAPSHOT:  37.91MB/41.48MB\n",
      "I1013 11:29:50.785249   21892 docker.go:578] pulling image seldonio/seldon-core-s2i-python3:0.3-SNAPSHOT:  39.62MB/41.48MB\n",
      "I1013 11:29:50.886590   21892 docker.go:578] pulling image seldonio/seldon-core-s2i-python3:0.3-SNAPSHOT:  41.32MB/41.48MB\n",
      "I1013 11:29:50.899239   21892 docker.go:578] pulling image seldonio/seldon-core-s2i-python3:0.3-SNAPSHOT:  41.48MB/41.48MB\n",
      "I1013 11:29:51.286017   21892 docker.go:578] pulling image seldonio/seldon-core-s2i-python3:0.3-SNAPSHOT: \n",
      "I1013 11:29:51.293487   21892 docker.go:578] pulling image seldonio/seldon-core-s2i-python3:0.3-SNAPSHOT:  6.612kB/6.612kB\n",
      "I1013 11:29:51.328791   21892 docker.go:578] pulling image seldonio/seldon-core-s2i-python3:0.3-SNAPSHOT:  6.612kB/6.612kB\n",
      "I1013 11:29:51.355454   21892 docker.go:578] pulling image seldonio/seldon-core-s2i-python3:0.3-SNAPSHOT: \n",
      "I1013 11:29:51.362482   21892 docker.go:578] pulling image seldonio/seldon-core-s2i-python3:0.3-SNAPSHOT:  32.77kB/1.434MB\n",
      "I1013 11:29:51.464242   21892 docker.go:578] pulling image seldonio/seldon-core-s2i-python3:0.3-SNAPSHOT:  720.9kB/1.434MB\n",
      "I1013 11:29:51.472760   21892 docker.go:578] pulling image seldonio/seldon-core-s2i-python3:0.3-SNAPSHOT:  1.434MB/1.434MB\n",
      "I1013 11:29:51.473159   21892 docker.go:578] pulling image seldonio/seldon-core-s2i-python3:0.3-SNAPSHOT:  1.434MB/1.434MB\n",
      "I1013 11:29:51.500542   21892 docker.go:578] pulling image seldonio/seldon-core-s2i-python3:0.3-SNAPSHOT: \n",
      "I1013 11:29:51.506602   21892 docker.go:578] pulling image seldonio/seldon-core-s2i-python3:0.3-SNAPSHOT:  1.573kB/1.573kB\n"
     ]
    },
    {
     "name": "stdout",
     "output_type": "stream",
     "text": [
      "I1013 11:29:51.508783   21892 docker.go:578] pulling image seldonio/seldon-core-s2i-python3:0.3-SNAPSHOT:  1.573kB/1.573kB\n",
      "I1013 11:29:51.544862   21892 docker.go:578] pulling image seldonio/seldon-core-s2i-python3:0.3-SNAPSHOT: \n",
      "I1013 11:29:51.564452   21892 build.go:150] \n",
      "Builder Image:\t\t\tseldonio/seldon-core-s2i-python3:0.3-SNAPSHOT\n",
      "Source:\t\t\t\t.\n",
      "Output Image Tag:\t\tmodel-with-feedback-rest:0.1\n",
      "Environment:\t\t\tMODEL_NAME=ModelWithFeedback,API_TYPE=REST,SERVICE_TYPE=MODEL,PERSISTENCE=0\n",
      "Environment File:\t\tenvironment_rest\n",
      "Labels:\t\t\t\t\n",
      "Incremental Build:\t\tdisabled\n",
      "Remove Old Build:\t\tdisabled\n",
      "Builder Pull Policy:\t\tif-not-present\n",
      "Previous Image Pull Policy:\tif-not-present\n",
      "Quiet:\t\t\t\tdisabled\n",
      "Layered Build:\t\t\tdisabled\n",
      "Docker Endpoint:\t\ttcp://192.168.39.88:2376\n",
      "Docker Pull Config:\t\t/home/clive/.docker/config.json\n",
      "Docker Pull User:\t\tcliveseldon\n",
      "\n",
      "I1013 11:29:51.565657   21892 docker.go:510] Using locally available image \"seldonio/seldon-core-s2i-python3:0.3-SNAPSHOT\"\n",
      "I1013 11:29:51.570531   21892 docker.go:510] Using locally available image \"seldonio/seldon-core-s2i-python3:0.3-SNAPSHOT\"\n",
      "I1013 11:29:51.570546   21892 docker.go:741] Image sha256:7097dbb0ba6329243ec675b4c88ca47e83b97441566f42eb77315039bfa7f249 contains io.openshift.s2i.scripts-url set to \"image:///s2i/bin\"\n",
      "I1013 11:29:51.570555   21892 scm.go:20] DownloadForSource .\n",
      "I1013 11:29:51.570585   21892 sti.go:198] Preparing to build model-with-feedback-rest:0.1\n",
      "I1013 11:29:51.570707   21892 download.go:30] Copying sources from \".\" to \"/tmp/s2i357918663/upload/src\"\n",
      "I1013 11:29:51.570784   21892 fs.go:236] F \"build-minikube-ok.log\" -> \"/tmp/s2i357918663/upload/src/build-minikube-ok.log\"\n",
      "I1013 11:29:51.570823   21892 fs.go:236] F \"ModelWithFeedback.py~\" -> \"/tmp/s2i357918663/upload/src/ModelWithFeedback.py~\"\n",
      "I1013 11:29:51.570865   21892 fs.go:236] F \"contract.json\" -> \"/tmp/s2i357918663/upload/src/contract.json\"\n",
      "I1013 11:29:51.570899   21892 fs.go:236] F \"deployment-rest.json\" -> \"/tmp/s2i357918663/upload/src/deployment-rest.json\"\n",
      "I1013 11:29:51.570931   21892 fs.go:236] F \"environment_rest\" -> \"/tmp/s2i357918663/upload/src/environment_rest\"\n",
      "I1013 11:29:51.570964   21892 fs.go:236] F \"2\" -> \"/tmp/s2i357918663/upload/src/2\"\n",
      "I1013 11:29:51.570983   21892 fs.go:223] D \".s2i\" -> \"/tmp/s2i357918663/upload/src/.s2i\"\n",
      "I1013 11:29:51.571020   21892 fs.go:223] D \".s2i/bin\" -> \"/tmp/s2i357918663/upload/src/.s2i/bin\"\n",
      "I1013 11:29:51.571073   21892 fs.go:236] F \".s2i/bin/assemble\" -> \"/tmp/s2i357918663/upload/src/.s2i/bin/assemble\"\n",
      "I1013 11:29:51.571107   21892 fs.go:236] F \".s2i/bin/assemble~\" -> \"/tmp/s2i357918663/upload/src/.s2i/bin/assemble~\"\n",
      "I1013 11:29:51.571141   21892 fs.go:236] F \".s2i/environment\" -> \"/tmp/s2i357918663/upload/src/.s2i/environment\"\n",
      "I1013 11:29:51.571175   21892 fs.go:236] F \"deployment.json~\" -> \"/tmp/s2i357918663/upload/src/deployment.json~\"\n",
      "I1013 11:29:51.571208   21892 fs.go:236] F \"deployment-grpc.json\" -> \"/tmp/s2i357918663/upload/src/deployment-grpc.json\"\n",
      "I1013 11:29:51.571240   21892 fs.go:236] F \"minikube.log\" -> \"/tmp/s2i357918663/upload/src/minikube.log\"\n",
      "I1013 11:29:51.571280   21892 fs.go:236] F \"deployment-rest.json~\" -> \"/tmp/s2i357918663/upload/src/deployment-rest.json~\"\n",
      "I1013 11:29:51.571306   21892 fs.go:223] D \".ipynb_checkpoints\" -> \"/tmp/s2i357918663/upload/src/.ipynb_checkpoints\"\n",
      "I1013 11:29:51.571354   21892 fs.go:236] F \".ipynb_checkpoints/modelWithFeedback-checkpoint.ipynb\" -> \"/tmp/s2i357918663/upload/src/.ipynb_checkpoints/modelWithFeedback-checkpoint.ipynb\"\n",
      "I1013 11:29:51.571399   21892 fs.go:236] F \".ipynb_checkpoints/complex_model-checkpoint.ipynb\" -> \"/tmp/s2i357918663/upload/src/.ipynb_checkpoints/complex_model-checkpoint.ipynb\"\n",
      "I1013 11:29:51.571449   21892 fs.go:236] F \"environment_grpc~\" -> \"/tmp/s2i357918663/upload/src/environment_grpc~\"\n",
      "I1013 11:29:51.571489   21892 fs.go:236] F \"ModelWithFeedback.py\" -> \"/tmp/s2i357918663/upload/src/ModelWithFeedback.py\"\n",
      "I1013 11:29:51.571529   21892 fs.go:236] F \"environment_grpc\" -> \"/tmp/s2i357918663/upload/src/environment_grpc\"\n",
      "I1013 11:29:51.571568   21892 fs.go:236] F \"modelWithFeedback.ipynb\" -> \"/tmp/s2i357918663/upload/src/modelWithFeedback.ipynb\"\n",
      "I1013 11:29:51.571616   21892 fs.go:236] F \"deployment-grpc.json~\" -> \"/tmp/s2i357918663/upload/src/deployment-grpc.json~\"\n",
      "I1013 11:29:51.571658   21892 install.go:249] Using \"assemble\" installed from \"<source-dir>/.s2i/bin/assemble\"\n",
      "I1013 11:29:51.571679   21892 install.go:249] Using \"run\" installed from \"image:///s2i/bin/run\"\n",
      "I1013 11:29:51.571691   21892 install.go:249] Using \"save-artifacts\" installed from \"image:///s2i/bin/save-artifacts\"\n",
      "I1013 11:29:51.571705   21892 ignore.go:63] .s2iignore file does not exist\n",
      "I1013 11:29:51.571711   21892 sti.go:207] Clean build will be performed\n",
      "I1013 11:29:51.571715   21892 sti.go:210] Performing source build from .\n",
      "I1013 11:29:51.571720   21892 sti.go:221] Running \"assemble\" in \"model-with-feedback-rest:0.1\"\n",
      "I1013 11:29:51.571724   21892 sti.go:559] Using image name seldonio/seldon-core-s2i-python3:0.3-SNAPSHOT\n",
      "I1013 11:29:51.573219   21892 docker.go:510] Using locally available image \"seldonio/seldon-core-s2i-python3:0.3-SNAPSHOT\"\n",
      "I1013 11:29:51.573256   21892 environment.go:45] Setting 4 environment variables provided by environment file in sources\n",
      "I1013 11:29:51.573290   21892 sti.go:673] starting the source uploading ...\n",
      "I1013 11:29:51.573302   21892 tar.go:201] Adding \"/tmp/s2i357918663/upload\" to tar ...\n",
      "I1013 11:29:51.573350   21892 tar.go:296] Adding to tar: /tmp/s2i357918663/upload/scripts as scripts\n",
      "I1013 11:29:51.575924   21892 docker.go:804] Both scripts and untarred source will be placed in '/tmp'\n",
      "I1013 11:29:51.575940   21892 docker.go:972] Setting \"/bin/sh -c tar -C /tmp -xf - && /tmp/scripts/assemble\" command for container ...\n",
      "I1013 11:29:51.576020   21892 docker.go:981] Creating container with options {Name:\"s2i_seldonio_seldon_core_s2i_python3_0_3_SNAPSHOT_751368ff\" Config:{Hostname: Domainname: User: AttachStdin:false AttachStdout:true AttachStderr:false ExposedPorts:map[] Tty:false OpenStdin:true StdinOnce:true Env:[MODEL_NAME=ModelWithFeedback API_TYPE=REST SERVICE_TYPE=MODEL PERSISTENCE=0 MODEL_NAME=ModelWithFeedback API_TYPE=REST SERVICE_TYPE=MODEL PERSISTENCE=0] Cmd:[/bin/sh -c tar -C /tmp -xf - && /tmp/scripts/assemble] Healthcheck:<nil> ArgsEscaped:false Image:seldonio/seldon-core-s2i-python3:0.3-SNAPSHOT Volumes:map[] WorkingDir: Entrypoint:[] NetworkDisabled:false MacAddress: OnBuild:[] Labels:map[] StopSignal: StopTimeout:<nil> Shell:[]} HostConfig:&{Binds:[] ContainerIDFile: LogConfig:{Type: Config:map[]} NetworkMode: PortBindings:map[] RestartPolicy:{Name: MaximumRetryCount:0} AutoRemove:false VolumeDriver: VolumesFrom:[] CapAdd:[] CapDrop:[] DNS:[] DNSOptions:[] DNSSearch:[] ExtraHosts:[] GroupAdd:[] IpcMode: Cgroup: Links:[] OomScoreAdj:0 PidMode: Privileged:false PublishAllPorts:false ReadonlyRootfs:false SecurityOpt:[] StorageOpt:map[] Tmpfs:map[] UTSMode: UsernsMode: ShmSize:67108864 Sysctls:map[] Runtime: ConsoleSize:[0 0] Isolation: Resources:{CPUShares:0 Memory:0 NanoCPUs:0 CgroupParent: BlkioWeight:0 BlkioWeightDevice:[] BlkioDeviceReadBps:[] BlkioDeviceWriteBps:[] BlkioDeviceReadIOps:[] BlkioDeviceWriteIOps:[] CPUPeriod:0 CPUQuota:0 CPURealtimePeriod:0 CPURealtimeRuntime:0 CpusetCpus: CpusetMems: Devices:[] DeviceCgroupRules:[] DiskQuota:0 KernelMemory:0 MemoryReservation:0 MemorySwap:0 MemorySwappiness:<nil> OomKillDisable:<nil> PidsLimit:0 Ulimits:[] CPUCount:0 CPUPercent:0 IOMaximumIOps:0 IOMaximumBandwidth:0} Mounts:[] Init:<nil>}} ...\n",
      "I1013 11:29:51.614191   21892 docker.go:1013] Attaching to container \"0469954fa0a4ac2dbb4cdcb42beea6828dc629dc4334942bfdd793af17007b34\" ...\n",
      "I1013 11:29:51.630146   21892 docker.go:1024] Starting container \"0469954fa0a4ac2dbb4cdcb42beea6828dc629dc4334942bfdd793af17007b34\" ...\n",
      "I1013 11:29:51.783024   21892 tar.go:296] Adding to tar: /tmp/s2i357918663/upload/scripts/assemble as scripts/assemble\n",
      "I1013 11:29:51.783136   21892 tar.go:296] Adding to tar: /tmp/s2i357918663/upload/src as src\n",
      "I1013 11:29:51.783222   21892 tar.go:296] Adding to tar: /tmp/s2i357918663/upload/src/.ipynb_checkpoints as src/.ipynb_checkpoints\n",
      "I1013 11:29:51.783307   21892 tar.go:296] Adding to tar: /tmp/s2i357918663/upload/src/.ipynb_checkpoints/complex_model-checkpoint.ipynb as src/.ipynb_checkpoints/complex_model-checkpoint.ipynb\n",
      "I1013 11:29:51.783374   21892 tar.go:296] Adding to tar: /tmp/s2i357918663/upload/src/.ipynb_checkpoints/modelWithFeedback-checkpoint.ipynb as src/.ipynb_checkpoints/modelWithFeedback-checkpoint.ipynb\n",
      "I1013 11:29:51.783424   21892 tar.go:296] Adding to tar: /tmp/s2i357918663/upload/src/.s2i as src/.s2i\n",
      "I1013 11:29:51.783462   21892 tar.go:296] Adding to tar: /tmp/s2i357918663/upload/src/.s2i/bin as src/.s2i/bin\n",
      "I1013 11:29:51.783495   21892 tar.go:296] Adding to tar: /tmp/s2i357918663/upload/src/.s2i/bin/assemble~ as src/.s2i/bin/assemble~\n",
      "I1013 11:29:51.783527   21892 tar.go:296] Adding to tar: /tmp/s2i357918663/upload/src/.s2i/environment as src/.s2i/environment\n",
      "I1013 11:29:51.783558   21892 tar.go:296] Adding to tar: /tmp/s2i357918663/upload/src/2 as src/2\n",
      "I1013 11:29:51.783588   21892 tar.go:296] Adding to tar: /tmp/s2i357918663/upload/src/ModelWithFeedback.py as src/ModelWithFeedback.py\n",
      "I1013 11:29:51.783635   21892 tar.go:296] Adding to tar: /tmp/s2i357918663/upload/src/ModelWithFeedback.py~ as src/ModelWithFeedback.py~\n",
      "I1013 11:29:51.783706   21892 tar.go:296] Adding to tar: /tmp/s2i357918663/upload/src/build-minikube-ok.log as src/build-minikube-ok.log\n",
      "I1013 11:29:51.783753   21892 tar.go:296] Adding to tar: /tmp/s2i357918663/upload/src/contract.json as src/contract.json\n",
      "I1013 11:29:51.783786   21892 tar.go:296] Adding to tar: /tmp/s2i357918663/upload/src/deployment-grpc.json as src/deployment-grpc.json\n",
      "I1013 11:29:51.783844   21892 tar.go:296] Adding to tar: /tmp/s2i357918663/upload/src/deployment-grpc.json~ as src/deployment-grpc.json~\n",
      "I1013 11:29:51.784802   21892 tar.go:296] Adding to tar: /tmp/s2i357918663/upload/src/deployment-rest.json as src/deployment-rest.json\n",
      "I1013 11:29:51.784871   21892 tar.go:296] Adding to tar: /tmp/s2i357918663/upload/src/deployment-rest.json~ as src/deployment-rest.json~\n",
      "I1013 11:29:51.784919   21892 tar.go:296] Adding to tar: /tmp/s2i357918663/upload/src/deployment.json~ as src/deployment.json~\n",
      "I1013 11:29:51.784969   21892 tar.go:296] Adding to tar: /tmp/s2i357918663/upload/src/environment_grpc as src/environment_grpc\n",
      "I1013 11:29:51.785019   21892 tar.go:296] Adding to tar: /tmp/s2i357918663/upload/src/environment_grpc~ as src/environment_grpc~\n",
      "I1013 11:29:51.785065   21892 tar.go:296] Adding to tar: /tmp/s2i357918663/upload/src/environment_rest as src/environment_rest\n",
      "I1013 11:29:51.785113   21892 tar.go:296] Adding to tar: /tmp/s2i357918663/upload/src/minikube.log as src/minikube.log\n",
      "I1013 11:29:51.785170   21892 tar.go:296] Adding to tar: /tmp/s2i357918663/upload/src/modelWithFeedback.ipynb as src/modelWithFeedback.ipynb\n",
      "I1013 11:29:51.790189   21892 sti.go:681] Before assembling\n",
      "I1013 11:29:51.793380   21892 sti.go:681] ---> Installing application source...\n",
      "I1013 11:29:51.795303   21892 sti.go:681] After successful assembling\n"
     ]
    },
    {
     "name": "stdout",
     "output_type": "stream",
     "text": [
      "I1013 11:29:51.813097   21892 docker.go:1055] Waiting for container \"0469954fa0a4ac2dbb4cdcb42beea6828dc629dc4334942bfdd793af17007b34\" to stop ...\n",
      "I1013 11:29:51.867706   21892 docker.go:1080] Invoking PostExecute function\n",
      "I1013 11:29:51.867719   21892 postexecutorstep.go:67] Skipping step: store previous image\n",
      "I1013 11:29:51.867724   21892 postexecutorstep.go:116] Executing step: commit image\n",
      "I1013 11:29:51.869206   21892 postexecutorstep.go:521] Checking for new Labels to apply... \n",
      "I1013 11:29:51.869218   21892 postexecutorstep.go:529] Creating the download path '/tmp/s2i357918663/metadata'\n",
      "I1013 11:29:51.869271   21892 postexecutorstep.go:463] Downloading file \"/tmp/.s2i/image_metadata.json\"\n",
      "I1013 11:29:51.911999   21892 postexecutorstep.go:537] unable to download and extract 'image_metadata.json' ... continuing\n",
      "I1013 11:29:51.914973   21892 docker.go:1114] Committing container with dockerOpts: {Reference:model-with-feedback-rest:0.1 Comment: Author: Changes:[] Pause:false Config:0xc4203768c0}, config: {Hostname: Domainname: User: AttachStdin:false AttachStdout:false AttachStderr:false ExposedPorts:map[] Tty:false OpenStdin:false StdinOnce:false Env:[MODEL_NAME=ModelWithFeedback API_TYPE=REST SERVICE_TYPE=MODEL PERSISTENCE=0 MODEL_NAME=ModelWithFeedback API_TYPE=REST SERVICE_TYPE=MODEL PERSISTENCE=0] Cmd:[/s2i/bin/run] Healthcheck:<nil> ArgsEscaped:false Image: Volumes:map[] WorkingDir: Entrypoint:[] NetworkDisabled:false MacAddress: OnBuild:[] Labels:map[io.openshift.s2i.build.source-location:. io.k8s.display-name:model-with-feedback-rest:0.1 io.openshift.s2i.build.image:seldonio/seldon-core-s2i-python3:0.3-SNAPSHOT io.openshift.s2i.scripts-url:image:///s2i/bin] StopSignal: StopTimeout:<nil> Shell:[]}\n",
      "I1013 11:29:51.991967   21892 postexecutorstep.go:391] Executing step: report success\n",
      "I1013 11:29:51.991982   21892 postexecutorstep.go:396] Successfully built model-with-feedback-rest:0.1\n",
      "I1013 11:29:51.991988   21892 postexecutorstep.go:92] Skipping step: remove previous image\n",
      "I1013 11:29:51.992033   21892 docker.go:991] Removing container \"0469954fa0a4ac2dbb4cdcb42beea6828dc629dc4334942bfdd793af17007b34\" ...\n",
      "I1013 11:29:52.005926   21892 docker.go:1001] Removed container \"0469954fa0a4ac2dbb4cdcb42beea6828dc629dc4334942bfdd793af17007b34\"\n",
      "I1013 11:29:52.006016   21892 cleanup.go:33] Removing temporary directory /tmp/s2i357918663\n",
      "I1013 11:29:52.006026   21892 fs.go:278] Removing directory '/tmp/s2i357918663'\n",
      "I1013 11:29:52.006506   21892 build.go:159] Build completed successfully\n"
     ]
    }
   ],
   "source": [
    "!eval $(minikube docker-env) && s2i build -E environment_rest . seldonio/seldon-core-s2i-python3:0.3-SNAPSHOT model-with-feedback-rest:0.1 --loglevel 5"
   ]
  },
  {
   "cell_type": "code",
   "execution_count": 14,
   "metadata": {},
   "outputs": [
    {
     "name": "stdout",
     "output_type": "stream",
     "text": [
      "seldondeployment.machinelearning.seldon.io/mymodel created\r\n"
     ]
    }
   ],
   "source": [
    "!kubectl create -f deployment-rest.json"
   ]
  },
  {
   "cell_type": "markdown",
   "metadata": {},
   "source": [
    "Wait until ready (replicas == replicasAvailable)"
   ]
  },
  {
   "cell_type": "code",
   "execution_count": 15,
   "metadata": {},
   "outputs": [
    {
     "name": "stdout",
     "output_type": "stream",
     "text": [
      "map[predictorStatus:[map[name:mymodel-mymodel-svc-orch replicas:1 replicasAvailable:1] map[name:mymodel-mymodel-complex-model-0 replicas:1 replicasAvailable:1]] state:Available]"
     ]
    }
   ],
   "source": [
    "!kubectl get seldondeployments mymodel -o jsonpath='{.status}' "
   ]
  },
  {
   "cell_type": "code",
   "execution_count": 16,
   "metadata": {},
   "outputs": [
    {
     "name": "stdout",
     "output_type": "stream",
     "text": [
      "rm -f proto/prediction*.py\r\n",
      "rm -f proto/prediction.proto\r\n",
      "rm -rf proto/__pycache__\r\n",
      "mkdir -p ./proto\r\n",
      "touch ./proto/__init__.py\r\n",
      "cp ../../proto/prediction.proto ./proto\r\n",
      "python -m grpc.tools.protoc -I. --python_out=. --grpc_python_out=. ./proto/prediction.proto\r\n"
     ]
    }
   ],
   "source": [
    "!cd ../../../util/api_tester && make build_protos "
   ]
  },
  {
   "cell_type": "markdown",
   "metadata": {},
   "source": [
    "## Test predict"
   ]
  },
  {
   "cell_type": "code",
   "execution_count": 17,
   "metadata": {},
   "outputs": [
    {
     "name": "stdout",
     "output_type": "stream",
     "text": [
      "----------------------------------------\n",
      "SENDING NEW REQUEST:\n",
      "{'meta': {}, 'data': {'names': ['sepal_length', 'sepal_width', 'petal_length', 'petal_width'], 'ndarray': [[4.165728345860066, 3.421125351987684, 5.347988225860308, 0.34862197994993105]]}}\n",
      "Getting token from http://192.168.39.88:30552/oauth/token\n",
      "{\"access_token\":\"83061770-7057-4e82-aa6d-ea310e9749b3\",\"token_type\":\"bearer\",\"expires_in\":43199,\"scope\":\"read write\"}\n",
      "RECEIVED RESPONSE:\n",
      "{'meta': {'puid': '3h96s6vgngcnokui05uu99on8t', 'tags': {}, 'routing': {}, 'requestPath': {'complex-model': 'model-with-feedback-rest:0.1'}}, 'data': {'names': ['t:0', 't:1', 't:2', 't:3'], 'ndarray': [[4.165728345860066, 3.421125351987684, 5.347988225860308, 0.34862197994993105]]}}\n",
      "\n"
     ]
    }
   ],
   "source": [
    "!python ../../../util/api_tester/api-tester.py contract.json \\\n",
    "    `minikube ip` `kubectl get svc -l app=seldon-apiserver-container-app -o jsonpath='{.items[0].spec.ports[0].nodePort}'` \\\n",
    "    --oauth-key oauth-key --oauth-secret oauth-secret -p"
   ]
  },
  {
   "cell_type": "markdown",
   "metadata": {},
   "source": [
    "## Test feedback"
   ]
  },
  {
   "cell_type": "code",
   "execution_count": 18,
   "metadata": {},
   "outputs": [
    {
     "name": "stdout",
     "output_type": "stream",
     "text": [
      "----------------------------------------\n",
      "SENDING NEW REQUEST:\n",
      "{'request': {'meta': {}, 'data': {'names': ['sepal_length', 'sepal_width', 'petal_length', 'petal_width'], 'ndarray': [[6.231069700941248, 4.672819188325931, 9.82963767564628, 2.9349660518483818]]}}, 'response': {'meta': {}, 'data': {'names': ['class1', 'class2', 'class3'], 'ndarray': [[0.9325544700393164, 0.3367054849207918, 0.7675130586137497]]}}, 'reward': 1.0}\n",
      "Getting token from http://192.168.39.88:30552/oauth/token\n",
      "{\"access_token\":\"83061770-7057-4e82-aa6d-ea310e9749b3\",\"token_type\":\"bearer\",\"expires_in\":43196,\"scope\":\"read write\"}\n",
      "<Response [200]>\n"
     ]
    }
   ],
   "source": [
    "!python ../../../util/api_tester/api-tester.py contract.json \\\n",
    "    `minikube ip` `kubectl get svc -l app=seldon-apiserver-container-app -o jsonpath='{.items[0].spec.ports[0].nodePort}'` \\\n",
    "    --oauth-key oauth-key --oauth-secret oauth-secret -p --endpoint send-feedback"
   ]
  },
  {
   "cell_type": "code",
   "execution_count": 19,
   "metadata": {},
   "outputs": [
    {
     "name": "stdout",
     "output_type": "stream",
     "text": [
      "seldondeployment.machinelearning.seldon.io \"mymodel\" deleted\r\n"
     ]
    }
   ],
   "source": [
    "!kubectl delete -f deployment-rest.json"
   ]
  },
  {
   "cell_type": "markdown",
   "metadata": {},
   "source": [
    "# gRPC"
   ]
  },
  {
   "cell_type": "code",
   "execution_count": 35,
   "metadata": {},
   "outputs": [
    {
     "name": "stdout",
     "output_type": "stream",
     "text": [
      "---> Installing application source...\n",
      "Build completed successfully\n"
     ]
    }
   ],
   "source": [
    "!eval $(minikube docker-env) && s2i build -E environment_grpc . seldonio/seldon-core-s2i-python3:0.3-SNAPSHOT model-with-feedback-grpc:0.1"
   ]
  },
  {
   "cell_type": "code",
   "execution_count": 36,
   "metadata": {},
   "outputs": [
    {
     "name": "stdout",
     "output_type": "stream",
     "text": [
      "seldondeployment.machinelearning.seldon.io/mymodel created\r\n"
     ]
    }
   ],
   "source": [
    "!kubectl create -f deployment-grpc.json"
   ]
  },
  {
   "cell_type": "markdown",
   "metadata": {},
   "source": [
    "Wait until ready (replicas == replicasAvailable)"
   ]
  },
  {
   "cell_type": "code",
   "execution_count": 37,
   "metadata": {},
   "outputs": [
    {
     "name": "stdout",
     "output_type": "stream",
     "text": [
      "map[predictorStatus:[map[name:mymodel-mymodel-svc-orch replicas:1 replicasAvailable:0] map[replicasAvailable:1 name:mymodel-mymodel-complex-model-0 replicas:1]]]"
     ]
    }
   ],
   "source": [
    "!kubectl get seldondeployments mymodel -o jsonpath='{.status}' "
   ]
  },
  {
   "cell_type": "code",
   "execution_count": 38,
   "metadata": {},
   "outputs": [
    {
     "name": "stdout",
     "output_type": "stream",
     "text": [
      "rm -f proto/prediction*.py\r\n",
      "rm -f proto/prediction.proto\r\n",
      "rm -rf proto/__pycache__\r\n",
      "mkdir -p ./proto\r\n",
      "touch ./proto/__init__.py\r\n",
      "cp ../../proto/prediction.proto ./proto\r\n",
      "python -m grpc.tools.protoc -I. --python_out=. --grpc_python_out=. ./proto/prediction.proto\r\n"
     ]
    }
   ],
   "source": [
    "!cd ../../../util/api_tester && make build_protos "
   ]
  },
  {
   "cell_type": "markdown",
   "metadata": {},
   "source": [
    "## Test predict"
   ]
  },
  {
   "cell_type": "code",
   "execution_count": 39,
   "metadata": {},
   "outputs": [
    {
     "name": "stdout",
     "output_type": "stream",
     "text": [
      "----------------------------------------\n",
      "SENDING NEW REQUEST:\n",
      "data {\n",
      "  names: \"sepal_length\"\n",
      "  names: \"sepal_width\"\n",
      "  names: \"petal_length\"\n",
      "  names: \"petal_width\"\n",
      "  ndarray {\n",
      "    values {\n",
      "      list_value {\n",
      "        values {\n",
      "          number_value: 4.676817651188339\n",
      "        }\n",
      "        values {\n",
      "          number_value: 3.364202436251853\n",
      "        }\n",
      "        values {\n",
      "          number_value: 9.38636971737447\n",
      "        }\n",
      "        values {\n",
      "          number_value: 0.873046002568805\n",
      "        }\n",
      "      }\n",
      "    }\n",
      "  }\n",
      "}\n",
      "\n",
      "Getting token from http://192.168.39.88:30552/oauth/token\n",
      "{\"access_token\":\"83061770-7057-4e82-aa6d-ea310e9749b3\",\"token_type\":\"bearer\",\"expires_in\":42543,\"scope\":\"read write\"}\n",
      "RECEIVED RESPONSE:\n",
      "meta {\n",
      "  puid: \"9li1oc1lr2ooc67g7hiuhmiuh3\"\n",
      "  requestPath {\n",
      "    key: \"complex-model\"\n",
      "    value: \"model-with-feedback-grpc:0.1\"\n",
      "  }\n",
      "}\n",
      "data {\n",
      "  names: \"t:0\"\n",
      "  names: \"t:1\"\n",
      "  names: \"t:2\"\n",
      "  names: \"t:3\"\n",
      "  ndarray {\n",
      "    values {\n",
      "      list_value {\n",
      "        values {\n",
      "          number_value: 4.676817651188339\n",
      "        }\n",
      "        values {\n",
      "          number_value: 3.364202436251853\n",
      "        }\n",
      "        values {\n",
      "          number_value: 9.38636971737447\n",
      "        }\n",
      "        values {\n",
      "          number_value: 0.873046002568805\n",
      "        }\n",
      "      }\n",
      "    }\n",
      "  }\n",
      "}\n",
      "\n",
      "\n"
     ]
    }
   ],
   "source": [
    "!python ../../../util/api_tester/api-tester.py contract.json \\\n",
    "    `minikube ip` `kubectl get svc -l app=seldon-apiserver-container-app -o jsonpath='{.items[0].spec.ports[1].nodePort}'` \\\n",
    "    --oauth-key oauth-key --oauth-secret oauth-secret -p --grpc --oauth-port `kubectl get svc -l app=seldon-apiserver-container-app -o jsonpath='{.items[0].spec.ports[0].nodePort}'`"
   ]
  },
  {
   "cell_type": "markdown",
   "metadata": {},
   "source": [
    "## Test feedback"
   ]
  },
  {
   "cell_type": "code",
   "execution_count": 40,
   "metadata": {},
   "outputs": [
    {
     "name": "stdout",
     "output_type": "stream",
     "text": [
      "----------------------------------------\n",
      "SENDING NEW REQUEST:\n",
      "request {\n",
      "  data {\n",
      "    names: \"sepal_length\"\n",
      "    names: \"sepal_width\"\n",
      "    names: \"petal_length\"\n",
      "    names: \"petal_width\"\n",
      "    ndarray {\n",
      "      values {\n",
      "        list_value {\n",
      "          values {\n",
      "            number_value: 4.892674496650631\n",
      "          }\n",
      "          values {\n",
      "            number_value: 4.742377470286767\n",
      "          }\n",
      "          values {\n",
      "            number_value: 2.851798122512135\n",
      "          }\n",
      "          values {\n",
      "            number_value: 0.004773596258239476\n",
      "          }\n",
      "        }\n",
      "      }\n",
      "    }\n",
      "  }\n",
      "}\n",
      "response {\n",
      "  data {\n",
      "    names: \"class1\"\n",
      "    names: \"class2\"\n",
      "    names: \"class3\"\n",
      "    ndarray {\n",
      "      values {\n",
      "        list_value {\n",
      "          values {\n",
      "            number_value: 0.8873412759534708\n",
      "          }\n",
      "          values {\n",
      "            number_value: 0.6945005393322701\n",
      "          }\n",
      "          values {\n",
      "            number_value: 0.18687912951259333\n",
      "          }\n",
      "        }\n",
      "      }\n",
      "    }\n",
      "  }\n",
      "}\n",
      "reward: 1.0\n",
      "\n",
      "Getting token from http://192.168.39.88:30552/oauth/token\n",
      "{\"access_token\":\"83061770-7057-4e82-aa6d-ea310e9749b3\",\"token_type\":\"bearer\",\"expires_in\":42539,\"scope\":\"read write\"}\n",
      "RECEIVED RESPONSE:\n",
      "\n"
     ]
    }
   ],
   "source": [
    "!python ../../../util/api_tester/api-tester.py contract.json \\\n",
    "    `minikube ip` `kubectl get svc -l app=seldon-apiserver-container-app -o jsonpath='{.items[0].spec.ports[1].nodePort}'` \\\n",
    "    --oauth-key oauth-key --oauth-secret oauth-secret -p --endpoint send-feedback --grpc --oauth-port `kubectl get svc -l app=seldon-apiserver-container-app -o jsonpath='{.items[0].spec.ports[0].nodePort}'`"
   ]
  },
  {
   "cell_type": "code",
   "execution_count": 41,
   "metadata": {},
   "outputs": [
    {
     "name": "stdout",
     "output_type": "stream",
     "text": [
      "seldondeployment.machinelearning.seldon.io \"mymodel\" deleted\r\n"
     ]
    }
   ],
   "source": [
    "!kubectl delete -f deployment-grpc.json"
   ]
  },
  {
   "cell_type": "code",
   "execution_count": 42,
   "metadata": {},
   "outputs": [
    {
     "name": "stdout",
     "output_type": "stream",
     "text": [
      "Deleting local Kubernetes cluster...\n",
      "Machine deleted.\n"
     ]
    }
   ],
   "source": [
    "!minikube delete"
   ]
  },
  {
   "cell_type": "code",
   "execution_count": null,
   "metadata": {},
   "outputs": [],
   "source": []
  }
 ],
 "metadata": {
  "kernelspec": {
   "display_name": "Python 3",
   "language": "python",
   "name": "python3"
  },
  "language_info": {
   "codemirror_mode": {
    "name": "ipython",
    "version": 3
   },
   "file_extension": ".py",
   "mimetype": "text/x-python",
   "name": "python",
   "nbconvert_exporter": "python",
   "pygments_lexer": "ipython3",
   "version": "3.6.4"
  }
 },
 "nbformat": 4,
 "nbformat_minor": 2
}
