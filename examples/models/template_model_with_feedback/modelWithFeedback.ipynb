{
 "cells": [
  {
   "cell_type": "markdown",
   "metadata": {},
   "source": [
    "# Model with Feedback\n",
    "\n",
    "Example testing a model with both predict and feedback in python. This could be used as a basis for a reinforcement learning model deployment.\n",
    " "
   ]
  },
  {
   "cell_type": "markdown",
   "metadata": {},
   "source": [
    "# REST"
   ]
  },
  {
   "cell_type": "code",
   "execution_count": 21,
   "metadata": {},
   "outputs": [
    {
     "name": "stdout",
     "output_type": "stream",
     "text": [
      "---> Installing application source...\n",
      "Build completed successfully\n"
     ]
    }
   ],
   "source": [
    "!s2i build -E environment_rest . seldonio/seldon-core-s2i-python3:0.16 model-with-feedback-rest:0.1"
   ]
  },
  {
   "cell_type": "code",
   "execution_count": 22,
   "metadata": {},
   "outputs": [
    {
     "name": "stdout",
     "output_type": "stream",
     "text": [
      "eab4c739935ffea02f9d761e968069ff43593887cd65b45e261b13fb4d455534\r\n"
     ]
    }
   ],
   "source": [
    "!docker run --name \"model-with-feedback\" -d --rm -p 5000:5000 model-with-feedback-rest:0.1"
   ]
  },
  {
   "cell_type": "markdown",
   "metadata": {},
   "source": [
    "## Test predict"
   ]
  },
  {
   "cell_type": "code",
   "execution_count": 23,
   "metadata": {},
   "outputs": [
    {
     "name": "stdout",
     "output_type": "stream",
     "text": [
      "----------------------------------------\r\n",
      "SENDING NEW REQUEST:\r\n",
      "\r\n",
      "[[4.207 3.755 3.804 1.798]]\r\n",
      "RECEIVED RESPONSE:\r\n",
      "meta {\r\n",
      "}\r\n",
      "data {\r\n",
      "  names: \"t:0\"\r\n",
      "  names: \"t:1\"\r\n",
      "  names: \"t:2\"\r\n",
      "  names: \"t:3\"\r\n",
      "  ndarray {\r\n",
      "    values {\r\n",
      "      list_value {\r\n",
      "        values {\r\n",
      "          number_value: 4.207\r\n",
      "        }\r\n",
      "        values {\r\n",
      "          number_value: 3.755\r\n",
      "        }\r\n",
      "        values {\r\n",
      "          number_value: 3.804\r\n",
      "        }\r\n",
      "        values {\r\n",
      "          number_value: 1.798\r\n",
      "        }\r\n",
      "      }\r\n",
      "    }\r\n",
      "  }\r\n",
      "}\r\n",
      "\r\n",
      "\r\n"
     ]
    }
   ],
   "source": [
    "!seldon-core-tester contract.json 0.0.0.0 5000 -p"
   ]
  },
  {
   "cell_type": "markdown",
   "metadata": {},
   "source": [
    "## Test feedback"
   ]
  },
  {
   "cell_type": "code",
   "execution_count": 24,
   "metadata": {},
   "outputs": [
    {
     "name": "stdout",
     "output_type": "stream",
     "text": [
      "----------------------------------------\r\n",
      "SENDING NEW REQUEST:\r\n",
      "RECEIVED RESPONSE:\r\n",
      "Success:True message:\r\n",
      "Request:\r\n",
      "request {\r\n",
      "  data {\r\n",
      "    ndarray {\r\n",
      "      values {\r\n",
      "        list_value {\r\n",
      "          values {\r\n",
      "            number_value: 7.73\r\n",
      "          }\r\n",
      "          values {\r\n",
      "            number_value: 2.464\r\n",
      "          }\r\n",
      "          values {\r\n",
      "            number_value: 9.52\r\n",
      "          }\r\n",
      "          values {\r\n",
      "            number_value: 2.069\r\n",
      "          }\r\n",
      "        }\r\n",
      "      }\r\n",
      "    }\r\n",
      "  }\r\n",
      "}\r\n",
      "response {\r\n",
      "  meta {\r\n",
      "  }\r\n",
      "  data {\r\n",
      "    names: \"t:0\"\r\n",
      "    names: \"t:1\"\r\n",
      "    names: \"t:2\"\r\n",
      "    names: \"t:3\"\r\n",
      "    ndarray {\r\n",
      "      values {\r\n",
      "        list_value {\r\n",
      "          values {\r\n",
      "            number_value: 7.73\r\n",
      "          }\r\n",
      "          values {\r\n",
      "            number_value: 2.464\r\n",
      "          }\r\n",
      "          values {\r\n",
      "            number_value: 9.52\r\n",
      "          }\r\n",
      "          values {\r\n",
      "            number_value: 2.069\r\n",
      "          }\r\n",
      "        }\r\n",
      "      }\r\n",
      "    }\r\n",
      "  }\r\n",
      "}\r\n",
      "reward: 1.0\r\n",
      "\r\n",
      "Response:\r\n",
      "meta {\r\n",
      "}\r\n",
      "data {\r\n",
      "  ndarray {\r\n",
      "  }\r\n",
      "}\r\n",
      "\r\n",
      "\r\n"
     ]
    }
   ],
   "source": [
    "!seldon-core-tester contract.json 0.0.0.0 5000 -p --endpoint send-feedback"
   ]
  },
  {
   "cell_type": "code",
   "execution_count": 25,
   "metadata": {},
   "outputs": [
    {
     "name": "stdout",
     "output_type": "stream",
     "text": [
      "model-with-feedback\r\n"
     ]
    }
   ],
   "source": [
    "!docker rm model-with-feedback --force"
   ]
  },
  {
   "cell_type": "markdown",
   "metadata": {},
   "source": [
    "# gRPC"
   ]
  },
  {
   "cell_type": "code",
   "execution_count": 16,
   "metadata": {},
   "outputs": [
    {
     "name": "stdout",
     "output_type": "stream",
     "text": [
      "---> Installing application source...\n",
      "Build completed successfully\n"
     ]
    }
   ],
   "source": [
    "!s2i build -E environment_grpc . seldonio/seldon-core-s2i-python3:0.16 model-with-feedback-grpc:0.1"
   ]
  },
  {
   "cell_type": "code",
   "execution_count": 17,
   "metadata": {},
   "outputs": [
    {
     "name": "stdout",
     "output_type": "stream",
     "text": [
      "35507ae68ef33ecf8c3cd8d70ffb0f16805ae328c472e3210acddafe4922badb\r\n"
     ]
    }
   ],
   "source": [
    "!docker run --name \"model-with-feedback\" -d --rm -p 5000:5000 model-with-feedback-grpc:0.1"
   ]
  },
  {
   "cell_type": "markdown",
   "metadata": {},
   "source": [
    "## Test predict"
   ]
  },
  {
   "cell_type": "code",
   "execution_count": 18,
   "metadata": {},
   "outputs": [
    {
     "name": "stdout",
     "output_type": "stream",
     "text": [
      "----------------------------------------\n",
      "SENDING NEW REQUEST:\n",
      "\n",
      "[[6.406 2.144 7.581 2.228]]\n",
      "RECEIVED RESPONSE:\n",
      "meta {\n",
      "}\n",
      "data {\n",
      "  names: \"t:0\"\n",
      "  names: \"t:1\"\n",
      "  names: \"t:2\"\n",
      "  names: \"t:3\"\n",
      "  ndarray {\n",
      "    values {\n",
      "      list_value {\n",
      "        values {\n",
      "          number_value: 6.406\n",
      "        }\n",
      "        values {\n",
      "          number_value: 2.144\n",
      "        }\n",
      "        values {\n",
      "          number_value: 7.581\n",
      "        }\n",
      "        values {\n",
      "          number_value: 2.228\n",
      "        }\n",
      "      }\n",
      "    }\n",
      "  }\n",
      "}\n",
      "\n",
      "\n"
     ]
    }
   ],
   "source": [
    "!seldon-core-tester contract.json 0.0.0.0 5000 -p --grpc"
   ]
  },
  {
   "cell_type": "markdown",
   "metadata": {},
   "source": [
    "## Test feedback"
   ]
  },
  {
   "cell_type": "code",
   "execution_count": 19,
   "metadata": {},
   "outputs": [
    {
     "name": "stdout",
     "output_type": "stream",
     "text": [
      "----------------------------------------\r\n",
      "SENDING NEW REQUEST:\r\n",
      "RECEIVED RESPONSE:\r\n",
      "Success:True message:\r\n",
      "Request:\r\n",
      "request {\r\n",
      "  data {\r\n",
      "    ndarray {\r\n",
      "      values {\r\n",
      "        list_value {\r\n",
      "          values {\r\n",
      "            number_value: 5.852\r\n",
      "          }\r\n",
      "          values {\r\n",
      "            number_value: 2.691\r\n",
      "          }\r\n",
      "          values {\r\n",
      "            number_value: 6.856\r\n",
      "          }\r\n",
      "          values {\r\n",
      "            number_value: 0.334\r\n",
      "          }\r\n",
      "        }\r\n",
      "      }\r\n",
      "    }\r\n",
      "  }\r\n",
      "}\r\n",
      "response {\r\n",
      "  meta {\r\n",
      "  }\r\n",
      "  data {\r\n",
      "    names: \"t:0\"\r\n",
      "    names: \"t:1\"\r\n",
      "    names: \"t:2\"\r\n",
      "    names: \"t:3\"\r\n",
      "    ndarray {\r\n",
      "      values {\r\n",
      "        list_value {\r\n",
      "          values {\r\n",
      "            number_value: 5.852\r\n",
      "          }\r\n",
      "          values {\r\n",
      "            number_value: 2.691\r\n",
      "          }\r\n",
      "          values {\r\n",
      "            number_value: 6.856\r\n",
      "          }\r\n",
      "          values {\r\n",
      "            number_value: 0.334\r\n",
      "          }\r\n",
      "        }\r\n",
      "      }\r\n",
      "    }\r\n",
      "  }\r\n",
      "}\r\n",
      "reward: 1.0\r\n",
      "\r\n",
      "Response:\r\n",
      "meta {\r\n",
      "}\r\n",
      "data {\r\n",
      "  ndarray {\r\n",
      "  }\r\n",
      "}\r\n",
      "\r\n",
      "\r\n"
     ]
    }
   ],
   "source": [
    "!seldon-core-tester contract.json 0.0.0.0 5000 -p --endpoint send-feedback --grpc"
   ]
  },
  {
   "cell_type": "code",
   "execution_count": 15,
   "metadata": {},
   "outputs": [
    {
     "name": "stdout",
     "output_type": "stream",
     "text": [
      "model-with-feedback\r\n"
     ]
    }
   ],
   "source": [
    "!docker rm model-with-feedback --force"
   ]
  },
  {
   "cell_type": "markdown",
   "metadata": {},
   "source": [
    "# Test using Minikube\n",
    "\n",
    "**Due to a [minikube/s2i issue](https://github.com/SeldonIO/seldon-core/issues/253) you will need [s2i >= 1.1.13](https://github.com/openshift/source-to-image/releases/tag/v1.1.13)**"
   ]
  },
  {
   "cell_type": "code",
   "execution_count": 26,
   "metadata": {},
   "outputs": [
    {
     "name": "stdout",
     "output_type": "stream",
     "text": [
      "😄  minikube v1.0.0 on linux (amd64)\n",
      "🤹  Downloading Kubernetes v1.14.0 images in the background ...\n",
      "🔥  Creating kvm2 VM (CPUs=2, Memory=4096MB, Disk=20000MB) ...\n",
      "📶  \"minikube\" IP address is 192.168.39.222\n",
      "🐳  Configuring Docker as the container runtime ...\n",
      "🐳  Version of container runtime is 18.06.2-ce\n",
      "⌛  Waiting for image downloads to complete ...\n",
      "✨  Preparing Kubernetes environment ...\n",
      "🚜  Pulling images required by Kubernetes v1.14.0 ...\n",
      "🚀  Launching Kubernetes v1.14.0 using kubeadm ... \n",
      "⌛  Waiting for pods: apiserver proxy etcd scheduler controller dns\n",
      "🔑  Configuring cluster permissions ...\n",
      "🤔  Verifying component health .....\n",
      "💗  kubectl is now configured to use \"minikube\"\n",
      "🏄  Done! Thank you for using minikube!\n"
     ]
    }
   ],
   "source": [
    "!minikube start --vm-driver kvm2 --memory 4096 "
   ]
  },
  {
   "cell_type": "markdown",
   "metadata": {},
   "source": [
    "## Setup Seldon Core\n",
    "\n",
    "Use the setup notebook to [Setup Cluster](../../seldon_core_setup.ipynb#Setup-Cluster) with [Ambassador Ingress](../../seldon_core_setup.ipynb#Ambassador) and [Install Seldon Core](../../seldon_core_setup.ipynb#Install-Seldon-Core). Instructions [also online](./seldon_core_setup.html)."
   ]
  },
  {
   "cell_type": "markdown",
   "metadata": {},
   "source": [
    "# REST"
   ]
  },
  {
   "cell_type": "code",
   "execution_count": 38,
   "metadata": {},
   "outputs": [
    {
     "name": "stdout",
     "output_type": "stream",
     "text": [
      "I0504 10:06:30.601358   13997 build.go:50] Running S2I version \"v1.1.12-6-gb54d75d\"\n",
      "I0504 10:06:30.601739   13997 util.go:58] Getting docker credentials for seldonio/seldon-core-s2i-python3:0.16\n",
      "I0504 10:06:30.601779   13997 util.go:74] Using  credentials for pulling seldonio/seldon-core-s2i-python3:0.16\n",
      "I0504 10:06:30.650747   13997 docker.go:497] error inspecting image seldonio/seldon-core-s2i-python3:0.16: Error: No such image: seldonio/seldon-core-s2i-python3:0.16\n",
      "I0504 10:06:30.650764   13997 docker.go:484] Image \"seldonio/seldon-core-s2i-python3:0.16\" not available locally, pulling ...\n",
      "I0504 10:06:32.225110   13997 docker.go:556] pulling image seldonio/seldon-core-s2i-python3:0.16: \n",
      "I0504 10:06:32.225197   13997 docker.go:556] pulling image seldonio/seldon-core-s2i-python3:0.16: \n",
      "I0504 10:06:32.225231   13997 docker.go:556] pulling image seldonio/seldon-core-s2i-python3:0.16: \n",
      "I0504 10:06:32.225255   13997 docker.go:556] pulling image seldonio/seldon-core-s2i-python3:0.16: \n",
      "I0504 10:06:32.225289   13997 docker.go:556] pulling image seldonio/seldon-core-s2i-python3:0.16: \n",
      "I0504 10:06:32.225314   13997 docker.go:556] pulling image seldonio/seldon-core-s2i-python3:0.16: \n",
      "I0504 10:06:32.225338   13997 docker.go:556] pulling image seldonio/seldon-core-s2i-python3:0.16: \n",
      "I0504 10:06:32.225361   13997 docker.go:556] pulling image seldonio/seldon-core-s2i-python3:0.16: \n",
      "I0504 10:06:32.225384   13997 docker.go:556] pulling image seldonio/seldon-core-s2i-python3:0.16: \n",
      "I0504 10:06:32.225408   13997 docker.go:556] pulling image seldonio/seldon-core-s2i-python3:0.16: \n",
      "I0504 10:06:32.225432   13997 docker.go:556] pulling image seldonio/seldon-core-s2i-python3:0.16: \n",
      "I0504 10:06:32.225454   13997 docker.go:556] pulling image seldonio/seldon-core-s2i-python3:0.16: \n",
      "I0504 10:06:32.225477   13997 docker.go:556] pulling image seldonio/seldon-core-s2i-python3:0.16: \n",
      "I0504 10:06:32.225527   13997 docker.go:556] pulling image seldonio/seldon-core-s2i-python3:0.16: \n",
      "I0504 10:06:32.225808   13997 docker.go:556] pulling image seldonio/seldon-core-s2i-python3:0.16: \n",
      "I0504 10:06:32.225955   13997 docker.go:556] pulling image seldonio/seldon-core-s2i-python3:0.16: \n",
      "I0504 10:06:32.226082   13997 docker.go:556] pulling image seldonio/seldon-core-s2i-python3:0.16: \n",
      "I0504 10:06:32.226161   13997 docker.go:556] pulling image seldonio/seldon-core-s2i-python3:0.16: \n",
      "I0504 10:06:32.226310   13997 docker.go:556] pulling image seldonio/seldon-core-s2i-python3:0.16: \n",
      "I0504 10:06:32.226348   13997 docker.go:556] pulling image seldonio/seldon-core-s2i-python3:0.16: \n",
      "I0504 10:06:32.226396   13997 docker.go:556] pulling image seldonio/seldon-core-s2i-python3:0.16: \n",
      "I0504 10:06:32.226423   13997 docker.go:556] pulling image seldonio/seldon-core-s2i-python3:0.16: \n",
      "I0504 10:06:32.226452   13997 docker.go:556] pulling image seldonio/seldon-core-s2i-python3:0.16: \n",
      "I0504 10:06:32.226485   13997 docker.go:556] pulling image seldonio/seldon-core-s2i-python3:0.16: \n",
      "I0504 10:06:32.226532   13997 docker.go:556] pulling image seldonio/seldon-core-s2i-python3:0.16: \n",
      "I0504 10:06:32.886043   13997 docker.go:556] pulling image seldonio/seldon-core-s2i-python3:0.16:  44.35kB/4.34MB\n",
      "I0504 10:06:32.888873   13997 docker.go:556] pulling image seldonio/seldon-core-s2i-python3:0.16:  109.6kB/10.78MB\n",
      "I0504 10:06:32.971353   13997 docker.go:556] pulling image seldonio/seldon-core-s2i-python3:0.16:  457.4kB/45.34MB\n",
      "I0504 10:06:32.987237   13997 docker.go:556] pulling image seldonio/seldon-core-s2i-python3:0.16:  768.8kB/4.34MB\n",
      "I0504 10:06:32.989741   13997 docker.go:556] pulling image seldonio/seldon-core-s2i-python3:0.16:  1.486MB/10.78MB\n",
      "I0504 10:06:33.088668   13997 docker.go:556] pulling image seldonio/seldon-core-s2i-python3:0.16:  1.719MB/4.34MB\n",
      "I0504 10:06:33.089962   13997 docker.go:556] pulling image seldonio/seldon-core-s2i-python3:0.16:  2.866MB/10.78MB\n",
      "I0504 10:06:33.167644   13997 docker.go:556] pulling image seldonio/seldon-core-s2i-python3:0.16:  1.371MB/45.34MB\n",
      "I0504 10:06:33.188906   13997 docker.go:556] pulling image seldonio/seldon-core-s2i-python3:0.16:  2.718MB/4.34MB\n",
      "I0504 10:06:33.196444   13997 docker.go:556] pulling image seldonio/seldon-core-s2i-python3:0.16:   4.25MB/10.78MB\n",
      "I0504 10:06:33.293968   13997 docker.go:556] pulling image seldonio/seldon-core-s2i-python3:0.16:  3.603MB/4.34MB\n",
      "I0504 10:06:33.304885   13997 docker.go:556] pulling image seldonio/seldon-core-s2i-python3:0.16:  5.758MB/10.78MB\n",
      "I0504 10:06:33.347469   13997 docker.go:556] pulling image seldonio/seldon-core-s2i-python3:0.16:  2.301MB/45.34MB\n",
      "I0504 10:06:33.380719   13997 docker.go:556] pulling image seldonio/seldon-core-s2i-python3:0.16: \n",
      "I0504 10:06:33.380764   13997 docker.go:556] pulling image seldonio/seldon-core-s2i-python3:0.16: \n",
      "I0504 10:06:33.405336   13997 docker.go:556] pulling image seldonio/seldon-core-s2i-python3:0.16:  7.249MB/10.78MB\n",
      "I0504 10:06:33.479184   13997 docker.go:556] pulling image seldonio/seldon-core-s2i-python3:0.16:   3.23MB/45.34MB\n",
      "I0504 10:06:33.507303   13997 docker.go:556] pulling image seldonio/seldon-core-s2i-python3:0.16:  8.977MB/10.78MB\n",
      "I0504 10:06:33.588701   13997 docker.go:556] pulling image seldonio/seldon-core-s2i-python3:0.16:   4.16MB/45.34MB\n",
      "I0504 10:06:33.600173   13997 docker.go:556] pulling image seldonio/seldon-core-s2i-python3:0.16: \n",
      "I0504 10:06:33.600278   13997 docker.go:556] pulling image seldonio/seldon-core-s2i-python3:0.16: \n",
      "I0504 10:06:33.700855   13997 docker.go:556] pulling image seldonio/seldon-core-s2i-python3:0.16:  5.536MB/45.34MB\n",
      "I0504 10:06:33.804304   13997 docker.go:556] pulling image seldonio/seldon-core-s2i-python3:0.16:  7.388MB/45.34MB\n",
      "I0504 10:06:33.917480   13997 docker.go:556] pulling image seldonio/seldon-core-s2i-python3:0.16:  10.14MB/45.34MB\n",
      "I0504 10:06:34.025712   13997 docker.go:556] pulling image seldonio/seldon-core-s2i-python3:0.16:  12.89MB/45.34MB\n",
      "I0504 10:06:34.077905   13997 docker.go:556] pulling image seldonio/seldon-core-s2i-python3:0.16:  506.6kB/50.07MB\n",
      "I0504 10:06:34.135183   13997 docker.go:556] pulling image seldonio/seldon-core-s2i-python3:0.16:  15.19MB/45.34MB\n",
      "I0504 10:06:34.201168   13997 docker.go:556] pulling image seldonio/seldon-core-s2i-python3:0.16:  1.522MB/50.07MB\n",
      "I0504 10:06:34.256062   13997 docker.go:556] pulling image seldonio/seldon-core-s2i-python3:0.16:  17.02MB/45.34MB\n",
      "I0504 10:06:34.328027   13997 docker.go:556] pulling image seldonio/seldon-core-s2i-python3:0.16:  3.554MB/50.07MB\n",
      "I0504 10:06:34.375330   13997 docker.go:556] pulling image seldonio/seldon-core-s2i-python3:0.16:   18.4MB/45.34MB\n",
      "I0504 10:06:34.457800   13997 docker.go:556] pulling image seldonio/seldon-core-s2i-python3:0.16:  5.586MB/50.07MB\n",
      "I0504 10:06:34.499313   13997 docker.go:556] pulling image seldonio/seldon-core-s2i-python3:0.16:  19.77MB/45.34MB\n",
      "I0504 10:06:34.564632   13997 docker.go:556] pulling image seldonio/seldon-core-s2i-python3:0.16:  539.3kB/215MB\n",
      "I0504 10:06:34.578732   13997 docker.go:556] pulling image seldonio/seldon-core-s2i-python3:0.16:  7.105MB/50.07MB\n",
      "I0504 10:06:34.645043   13997 docker.go:556] pulling image seldonio/seldon-core-s2i-python3:0.16:  21.15MB/45.34MB\n",
      "I0504 10:06:34.674531   13997 docker.go:556] pulling image seldonio/seldon-core-s2i-python3:0.16:  1.612MB/215MB\n",
      "I0504 10:06:34.696061   13997 docker.go:556] pulling image seldonio/seldon-core-s2i-python3:0.16:  8.121MB/50.07MB\n",
      "I0504 10:06:34.777439   13997 docker.go:556] pulling image seldonio/seldon-core-s2i-python3:0.16:  3.214MB/215MB\n",
      "I0504 10:06:34.858599   13997 docker.go:556] pulling image seldonio/seldon-core-s2i-python3:0.16:  9.141MB/50.07MB\n",
      "I0504 10:06:34.886305   13997 docker.go:556] pulling image seldonio/seldon-core-s2i-python3:0.16:  5.344MB/215MB\n",
      "I0504 10:06:34.899532   13997 docker.go:556] pulling image seldonio/seldon-core-s2i-python3:0.16:  22.07MB/45.34MB\n",
      "I0504 10:06:34.994668   13997 docker.go:556] pulling image seldonio/seldon-core-s2i-python3:0.16:  7.486MB/215MB\n",
      "I0504 10:06:35.058051   13997 docker.go:556] pulling image seldonio/seldon-core-s2i-python3:0.16:  10.17MB/50.07MB\n",
      "I0504 10:06:35.104494   13997 docker.go:556] pulling image seldonio/seldon-core-s2i-python3:0.16:  9.632MB/215MB\n",
      "I0504 10:06:35.138940   13997 docker.go:556] pulling image seldonio/seldon-core-s2i-python3:0.16:  22.99MB/45.34MB\n"
     ]
    },
    {
     "name": "stdout",
     "output_type": "stream",
     "text": [
      "I0504 10:06:35.162275   13997 docker.go:556] pulling image seldonio/seldon-core-s2i-python3:0.16:  10.68MB/50.07MB\n",
      "I0504 10:06:35.264791   13997 docker.go:556] pulling image seldonio/seldon-core-s2i-python3:0.16:  10.71MB/215MB\n",
      "I0504 10:06:35.300974   13997 docker.go:556] pulling image seldonio/seldon-core-s2i-python3:0.16:  11.18MB/50.07MB\n",
      "I0504 10:06:35.309589   13997 docker.go:556] pulling image seldonio/seldon-core-s2i-python3:0.16:  23.44MB/45.34MB\n",
      "I0504 10:06:35.370045   13997 docker.go:556] pulling image seldonio/seldon-core-s2i-python3:0.16:  14.45MB/215MB\n",
      "I0504 10:06:35.420523   13997 docker.go:556] pulling image seldonio/seldon-core-s2i-python3:0.16:   12.2MB/50.07MB\n",
      "I0504 10:06:35.488635   13997 docker.go:556] pulling image seldonio/seldon-core-s2i-python3:0.16:  16.59MB/215MB\n",
      "I0504 10:06:35.495614   13997 docker.go:556] pulling image seldonio/seldon-core-s2i-python3:0.16:  24.36MB/45.34MB\n",
      "I0504 10:06:35.524450   13997 docker.go:556] pulling image seldonio/seldon-core-s2i-python3:0.16:  12.71MB/50.07MB\n",
      "I0504 10:06:35.596365   13997 docker.go:556] pulling image seldonio/seldon-core-s2i-python3:0.16:  18.73MB/215MB\n",
      "I0504 10:06:35.624470   13997 docker.go:556] pulling image seldonio/seldon-core-s2i-python3:0.16:  13.22MB/50.07MB\n",
      "I0504 10:06:35.648458   13997 docker.go:556] pulling image seldonio/seldon-core-s2i-python3:0.16:  24.82MB/45.34MB\n",
      "I0504 10:06:35.704294   13997 docker.go:556] pulling image seldonio/seldon-core-s2i-python3:0.16:  20.88MB/215MB\n",
      "I0504 10:06:35.810470   13997 docker.go:556] pulling image seldonio/seldon-core-s2i-python3:0.16:  23.03MB/215MB\n",
      "I0504 10:06:35.823590   13997 docker.go:556] pulling image seldonio/seldon-core-s2i-python3:0.16:  25.27MB/45.34MB\n",
      "I0504 10:06:35.837446   13997 docker.go:556] pulling image seldonio/seldon-core-s2i-python3:0.16:  14.24MB/50.07MB\n",
      "I0504 10:06:35.914471   13997 docker.go:556] pulling image seldonio/seldon-core-s2i-python3:0.16:  25.18MB/215MB\n",
      "I0504 10:06:35.959017   13997 docker.go:556] pulling image seldonio/seldon-core-s2i-python3:0.16:  14.74MB/50.07MB\n",
      "I0504 10:06:36.019948   13997 docker.go:556] pulling image seldonio/seldon-core-s2i-python3:0.16:  25.73MB/45.34MB\n",
      "I0504 10:06:36.035933   13997 docker.go:556] pulling image seldonio/seldon-core-s2i-python3:0.16:  27.88MB/215MB\n",
      "I0504 10:06:36.101520   13997 docker.go:556] pulling image seldonio/seldon-core-s2i-python3:0.16:  15.25MB/50.07MB\n",
      "I0504 10:06:36.138415   13997 docker.go:556] pulling image seldonio/seldon-core-s2i-python3:0.16:  30.03MB/215MB\n",
      "I0504 10:06:36.235793   13997 docker.go:556] pulling image seldonio/seldon-core-s2i-python3:0.16:  15.76MB/50.07MB\n",
      "I0504 10:06:36.253962   13997 docker.go:556] pulling image seldonio/seldon-core-s2i-python3:0.16:  32.72MB/215MB\n",
      "I0504 10:06:36.301971   13997 docker.go:556] pulling image seldonio/seldon-core-s2i-python3:0.16:  26.19MB/45.34MB\n",
      "I0504 10:06:36.370599   13997 docker.go:556] pulling image seldonio/seldon-core-s2i-python3:0.16:   35.4MB/215MB\n",
      "I0504 10:06:36.407631   13997 docker.go:556] pulling image seldonio/seldon-core-s2i-python3:0.16:  16.26MB/50.07MB\n",
      "I0504 10:06:36.485098   13997 docker.go:556] pulling image seldonio/seldon-core-s2i-python3:0.16:  38.07MB/215MB\n",
      "I0504 10:06:36.587503   13997 docker.go:556] pulling image seldonio/seldon-core-s2i-python3:0.16:  16.77MB/50.07MB\n",
      "I0504 10:06:36.597595   13997 docker.go:556] pulling image seldonio/seldon-core-s2i-python3:0.16:  40.75MB/215MB\n",
      "I0504 10:06:36.676345   13997 docker.go:556] pulling image seldonio/seldon-core-s2i-python3:0.16:  26.66MB/45.34MB\n",
      "I0504 10:06:36.711508   13997 docker.go:556] pulling image seldonio/seldon-core-s2i-python3:0.16:  43.45MB/215MB\n",
      "I0504 10:06:36.792696   13997 docker.go:556] pulling image seldonio/seldon-core-s2i-python3:0.16:  17.28MB/50.07MB\n",
      "I0504 10:06:36.820755   13997 docker.go:556] pulling image seldonio/seldon-core-s2i-python3:0.16:  46.14MB/215MB\n",
      "I0504 10:06:36.931261   13997 docker.go:556] pulling image seldonio/seldon-core-s2i-python3:0.16:  48.84MB/215MB\n",
      "I0504 10:06:37.037011   13997 docker.go:556] pulling image seldonio/seldon-core-s2i-python3:0.16:   17.8MB/50.07MB\n",
      "I0504 10:06:37.039885   13997 docker.go:556] pulling image seldonio/seldon-core-s2i-python3:0.16:  51.52MB/215MB\n",
      "I0504 10:06:37.148920   13997 docker.go:556] pulling image seldonio/seldon-core-s2i-python3:0.16:  54.21MB/215MB\n",
      "I0504 10:06:37.177132   13997 docker.go:556] pulling image seldonio/seldon-core-s2i-python3:0.16:  27.11MB/45.34MB\n",
      "I0504 10:06:37.256245   13997 docker.go:556] pulling image seldonio/seldon-core-s2i-python3:0.16:   56.9MB/215MB\n",
      "I0504 10:06:37.308332   13997 docker.go:556] pulling image seldonio/seldon-core-s2i-python3:0.16:  18.31MB/50.07MB\n",
      "I0504 10:06:37.361546   13997 docker.go:556] pulling image seldonio/seldon-core-s2i-python3:0.16:  59.57MB/215MB\n",
      "I0504 10:06:37.467020   13997 docker.go:556] pulling image seldonio/seldon-core-s2i-python3:0.16:  62.26MB/215MB\n",
      "I0504 10:06:37.571638   13997 docker.go:556] pulling image seldonio/seldon-core-s2i-python3:0.16:  64.94MB/215MB\n",
      "I0504 10:06:37.662337   13997 docker.go:556] pulling image seldonio/seldon-core-s2i-python3:0.16:  18.83MB/50.07MB\n",
      "I0504 10:06:37.675614   13997 docker.go:556] pulling image seldonio/seldon-core-s2i-python3:0.16:  67.59MB/215MB\n",
      "I0504 10:06:37.778297   13997 docker.go:556] pulling image seldonio/seldon-core-s2i-python3:0.16:  70.26MB/215MB\n",
      "I0504 10:06:37.882534   13997 docker.go:556] pulling image seldonio/seldon-core-s2i-python3:0.16:  72.94MB/215MB\n",
      "I0504 10:06:37.913125   13997 docker.go:556] pulling image seldonio/seldon-core-s2i-python3:0.16:  27.57MB/45.34MB\n",
      "I0504 10:06:37.985998   13997 docker.go:556] pulling image seldonio/seldon-core-s2i-python3:0.16:  75.62MB/215MB\n",
      "I0504 10:06:38.089897   13997 docker.go:556] pulling image seldonio/seldon-core-s2i-python3:0.16:  78.31MB/215MB\n",
      "I0504 10:06:38.097074   13997 docker.go:556] pulling image seldonio/seldon-core-s2i-python3:0.16:  19.34MB/50.07MB\n",
      "I0504 10:06:38.193296   13997 docker.go:556] pulling image seldonio/seldon-core-s2i-python3:0.16:     81MB/215MB\n",
      "I0504 10:06:38.295660   13997 docker.go:556] pulling image seldonio/seldon-core-s2i-python3:0.16:  83.66MB/215MB\n",
      "I0504 10:06:38.398504   13997 docker.go:556] pulling image seldonio/seldon-core-s2i-python3:0.16:  86.35MB/215MB\n",
      "I0504 10:06:38.501646   13997 docker.go:556] pulling image seldonio/seldon-core-s2i-python3:0.16:  89.05MB/215MB\n",
      "I0504 10:06:38.604079   13997 docker.go:556] pulling image seldonio/seldon-core-s2i-python3:0.16:  91.73MB/215MB\n",
      "I0504 10:06:38.604715   13997 docker.go:556] pulling image seldonio/seldon-core-s2i-python3:0.16:  19.85MB/50.07MB\n",
      "I0504 10:06:38.707023   13997 docker.go:556] pulling image seldonio/seldon-core-s2i-python3:0.16:  94.42MB/215MB\n",
      "I0504 10:06:38.809389   13997 docker.go:556] pulling image seldonio/seldon-core-s2i-python3:0.16:   97.1MB/215MB\n",
      "I0504 10:06:38.821421   13997 docker.go:556] pulling image seldonio/seldon-core-s2i-python3:0.16:  28.03MB/45.34MB\n",
      "I0504 10:06:38.911493   13997 docker.go:556] pulling image seldonio/seldon-core-s2i-python3:0.16:  99.79MB/215MB\n",
      "I0504 10:06:39.013085   13997 docker.go:556] pulling image seldonio/seldon-core-s2i-python3:0.16:  102.4MB/215MB\n",
      "I0504 10:06:39.115542   13997 docker.go:556] pulling image seldonio/seldon-core-s2i-python3:0.16:  105.1MB/215MB\n",
      "I0504 10:06:39.162339   13997 docker.go:556] pulling image seldonio/seldon-core-s2i-python3:0.16:  20.36MB/50.07MB\n",
      "I0504 10:06:39.219041   13997 docker.go:556] pulling image seldonio/seldon-core-s2i-python3:0.16:  107.8MB/215MB\n",
      "I0504 10:06:39.320900   13997 docker.go:556] pulling image seldonio/seldon-core-s2i-python3:0.16:  110.5MB/215MB\n",
      "I0504 10:06:39.421460   13997 docker.go:556] pulling image seldonio/seldon-core-s2i-python3:0.16:  113.2MB/215MB\n",
      "I0504 10:06:39.524064   13997 docker.go:556] pulling image seldonio/seldon-core-s2i-python3:0.16:  115.9MB/215MB\n",
      "I0504 10:06:39.624733   13997 docker.go:556] pulling image seldonio/seldon-core-s2i-python3:0.16:  118.5MB/215MB\n",
      "I0504 10:06:39.725958   13997 docker.go:556] pulling image seldonio/seldon-core-s2i-python3:0.16:  121.2MB/215MB\n",
      "I0504 10:06:39.805468   13997 docker.go:556] pulling image seldonio/seldon-core-s2i-python3:0.16:  28.49MB/45.34MB\n",
      "I0504 10:06:39.827696   13997 docker.go:556] pulling image seldonio/seldon-core-s2i-python3:0.16:  123.9MB/215MB\n",
      "I0504 10:06:39.834478   13997 docker.go:556] pulling image seldonio/seldon-core-s2i-python3:0.16:  20.87MB/50.07MB\n"
     ]
    },
    {
     "name": "stdout",
     "output_type": "stream",
     "text": [
      "I0504 10:06:39.929630   13997 docker.go:556] pulling image seldonio/seldon-core-s2i-python3:0.16:  126.6MB/215MB\n",
      "I0504 10:06:40.030945   13997 docker.go:556] pulling image seldonio/seldon-core-s2i-python3:0.16:  129.3MB/215MB\n",
      "I0504 10:06:40.132774   13997 docker.go:556] pulling image seldonio/seldon-core-s2i-python3:0.16:    132MB/215MB\n",
      "I0504 10:06:40.234265   13997 docker.go:556] pulling image seldonio/seldon-core-s2i-python3:0.16:  134.7MB/215MB\n",
      "I0504 10:06:40.336425   13997 docker.go:556] pulling image seldonio/seldon-core-s2i-python3:0.16:  137.4MB/215MB\n",
      "I0504 10:06:40.438213   13997 docker.go:556] pulling image seldonio/seldon-core-s2i-python3:0.16:    140MB/215MB\n",
      "I0504 10:06:40.539563   13997 docker.go:556] pulling image seldonio/seldon-core-s2i-python3:0.16:  142.7MB/215MB\n",
      "I0504 10:06:40.547932   13997 docker.go:556] pulling image seldonio/seldon-core-s2i-python3:0.16:  21.38MB/50.07MB\n",
      "I0504 10:06:40.641365   13997 docker.go:556] pulling image seldonio/seldon-core-s2i-python3:0.16:  145.4MB/215MB\n",
      "I0504 10:06:40.743002   13997 docker.go:556] pulling image seldonio/seldon-core-s2i-python3:0.16:  148.1MB/215MB\n",
      "I0504 10:06:40.809417   13997 docker.go:556] pulling image seldonio/seldon-core-s2i-python3:0.16:  28.95MB/45.34MB\n",
      "I0504 10:06:40.845190   13997 docker.go:556] pulling image seldonio/seldon-core-s2i-python3:0.16:  150.8MB/215MB\n",
      "I0504 10:06:40.946695   13997 docker.go:556] pulling image seldonio/seldon-core-s2i-python3:0.16:  153.5MB/215MB\n",
      "I0504 10:06:41.048419   13997 docker.go:556] pulling image seldonio/seldon-core-s2i-python3:0.16:  156.2MB/215MB\n",
      "I0504 10:06:41.149560   13997 docker.go:556] pulling image seldonio/seldon-core-s2i-python3:0.16:  158.8MB/215MB\n",
      "I0504 10:06:41.250820   13997 docker.go:556] pulling image seldonio/seldon-core-s2i-python3:0.16:  161.5MB/215MB\n",
      "I0504 10:06:41.271986   13997 docker.go:556] pulling image seldonio/seldon-core-s2i-python3:0.16:  21.89MB/50.07MB\n",
      "I0504 10:06:41.351975   13997 docker.go:556] pulling image seldonio/seldon-core-s2i-python3:0.16:  164.2MB/215MB\n",
      "I0504 10:06:41.453803   13997 docker.go:556] pulling image seldonio/seldon-core-s2i-python3:0.16:  166.9MB/215MB\n",
      "I0504 10:06:41.556792   13997 docker.go:556] pulling image seldonio/seldon-core-s2i-python3:0.16:  169.6MB/215MB\n",
      "I0504 10:06:41.658327   13997 docker.go:556] pulling image seldonio/seldon-core-s2i-python3:0.16:  172.2MB/215MB\n",
      "I0504 10:06:41.688509   13997 docker.go:556] pulling image seldonio/seldon-core-s2i-python3:0.16:  29.41MB/45.34MB\n",
      "I0504 10:06:41.761066   13997 docker.go:556] pulling image seldonio/seldon-core-s2i-python3:0.16:  174.9MB/215MB\n",
      "I0504 10:06:41.862902   13997 docker.go:556] pulling image seldonio/seldon-core-s2i-python3:0.16:  177.6MB/215MB\n",
      "I0504 10:06:41.939420   13997 docker.go:556] pulling image seldonio/seldon-core-s2i-python3:0.16:   22.4MB/50.07MB\n",
      "I0504 10:06:41.965271   13997 docker.go:556] pulling image seldonio/seldon-core-s2i-python3:0.16:  180.3MB/215MB\n",
      "I0504 10:06:42.069459   13997 docker.go:556] pulling image seldonio/seldon-core-s2i-python3:0.16:    183MB/215MB\n",
      "I0504 10:06:42.169139   13997 docker.go:556] pulling image seldonio/seldon-core-s2i-python3:0.16:  185.7MB/215MB\n",
      "I0504 10:06:42.271197   13997 docker.go:556] pulling image seldonio/seldon-core-s2i-python3:0.16:  188.4MB/215MB\n",
      "I0504 10:06:42.372001   13997 docker.go:556] pulling image seldonio/seldon-core-s2i-python3:0.16:    191MB/215MB\n",
      "I0504 10:06:42.473114   13997 docker.go:556] pulling image seldonio/seldon-core-s2i-python3:0.16:  193.7MB/215MB\n",
      "I0504 10:06:42.573646   13997 docker.go:556] pulling image seldonio/seldon-core-s2i-python3:0.16:  196.4MB/215MB\n",
      "I0504 10:06:42.612971   13997 docker.go:556] pulling image seldonio/seldon-core-s2i-python3:0.16:  29.86MB/45.34MB\n",
      "I0504 10:06:42.674074   13997 docker.go:556] pulling image seldonio/seldon-core-s2i-python3:0.16:    199MB/215MB\n",
      "I0504 10:06:42.675262   13997 docker.go:556] pulling image seldonio/seldon-core-s2i-python3:0.16:  22.91MB/50.07MB\n",
      "I0504 10:06:42.775862   13997 docker.go:556] pulling image seldonio/seldon-core-s2i-python3:0.16:  201.7MB/215MB\n",
      "I0504 10:06:42.876921   13997 docker.go:556] pulling image seldonio/seldon-core-s2i-python3:0.16:  204.4MB/215MB\n",
      "I0504 10:06:42.977755   13997 docker.go:556] pulling image seldonio/seldon-core-s2i-python3:0.16:  207.1MB/215MB\n",
      "I0504 10:06:43.079079   13997 docker.go:556] pulling image seldonio/seldon-core-s2i-python3:0.16:  209.8MB/215MB\n",
      "I0504 10:06:43.180620   13997 docker.go:556] pulling image seldonio/seldon-core-s2i-python3:0.16:  212.4MB/215MB\n",
      "I0504 10:06:43.280551   13997 docker.go:556] pulling image seldonio/seldon-core-s2i-python3:0.16: \n",
      "I0504 10:06:43.280600   13997 docker.go:556] pulling image seldonio/seldon-core-s2i-python3:0.16: \n",
      "I0504 10:06:43.350566   13997 docker.go:556] pulling image seldonio/seldon-core-s2i-python3:0.16:  23.42MB/50.07MB\n",
      "I0504 10:06:43.507184   13997 docker.go:556] pulling image seldonio/seldon-core-s2i-python3:0.16:  30.32MB/45.34MB\n",
      "I0504 10:06:43.614124   13997 docker.go:556] pulling image seldonio/seldon-core-s2i-python3:0.16:  23.93MB/50.07MB\n",
      "I0504 10:06:43.767894   13997 docker.go:556] pulling image seldonio/seldon-core-s2i-python3:0.16:  24.44MB/50.07MB\n",
      "I0504 10:06:43.940792   13997 docker.go:556] pulling image seldonio/seldon-core-s2i-python3:0.16:  25.45MB/50.07MB\n",
      "I0504 10:06:43.981225   13997 docker.go:556] pulling image seldonio/seldon-core-s2i-python3:0.16:  58.17kB/5.747MB\n",
      "I0504 10:06:44.083140   13997 docker.go:556] pulling image seldonio/seldon-core-s2i-python3:0.16:  1.883MB/5.747MB\n",
      "I0504 10:06:44.098819   13997 docker.go:556] pulling image seldonio/seldon-core-s2i-python3:0.16:  26.47MB/50.07MB\n",
      "I0504 10:06:44.181770   13997 docker.go:556] pulling image seldonio/seldon-core-s2i-python3:0.16:  30.78MB/45.34MB\n",
      "I0504 10:06:44.184107   13997 docker.go:556] pulling image seldonio/seldon-core-s2i-python3:0.16:  4.111MB/5.747MB\n",
      "I0504 10:06:44.262866   13997 docker.go:556] pulling image seldonio/seldon-core-s2i-python3:0.16:  27.48MB/50.07MB\n",
      "I0504 10:06:44.268397   13997 docker.go:556] pulling image seldonio/seldon-core-s2i-python3:0.16:  5.747MB/5.747MB\n",
      "I0504 10:06:44.268422   13997 docker.go:556] pulling image seldonio/seldon-core-s2i-python3:0.16: \n",
      "I0504 10:06:44.388385   13997 docker.go:556] pulling image seldonio/seldon-core-s2i-python3:0.16:  28.49MB/50.07MB\n",
      "I0504 10:06:44.494101   13997 docker.go:556] pulling image seldonio/seldon-core-s2i-python3:0.16:  29.51MB/50.07MB\n",
      "I0504 10:06:44.521488   13997 docker.go:556] pulling image seldonio/seldon-core-s2i-python3:0.16:  31.24MB/45.34MB\n",
      "I0504 10:06:44.626871   13997 docker.go:556] pulling image seldonio/seldon-core-s2i-python3:0.16:  31.04MB/50.07MB\n",
      "I0504 10:06:44.714661   13997 docker.go:556] pulling image seldonio/seldon-core-s2i-python3:0.16:   31.7MB/45.34MB\n",
      "I0504 10:06:44.730011   13997 docker.go:556] pulling image seldonio/seldon-core-s2i-python3:0.16:  32.56MB/50.07MB\n",
      "I0504 10:06:44.833535   13997 docker.go:556] pulling image seldonio/seldon-core-s2i-python3:0.16:  34.59MB/50.07MB\n",
      "I0504 10:06:44.861422   13997 docker.go:556] pulling image seldonio/seldon-core-s2i-python3:0.16:  32.16MB/45.34MB\n",
      "I0504 10:06:44.916949   13997 docker.go:556] pulling image seldonio/seldon-core-s2i-python3:0.16:  211.7kB/20.98MB\n",
      "I0504 10:06:44.956810   13997 docker.go:556] pulling image seldonio/seldon-core-s2i-python3:0.16:  37.14MB/50.07MB\n",
      "I0504 10:06:45.017964   13997 docker.go:556] pulling image seldonio/seldon-core-s2i-python3:0.16:   1.08MB/20.98MB\n",
      "I0504 10:06:45.045888   13997 docker.go:556] pulling image seldonio/seldon-core-s2i-python3:0.16:  32.62MB/45.34MB\n",
      "I0504 10:06:45.059319   13997 docker.go:556] pulling image seldonio/seldon-core-s2i-python3:0.16:  38.67MB/50.07MB\n",
      "I0504 10:06:45.128027   13997 docker.go:556] pulling image seldonio/seldon-core-s2i-python3:0.16:  2.587MB/20.98MB\n",
      "I0504 10:06:45.208133   13997 docker.go:556] pulling image seldonio/seldon-core-s2i-python3:0.16:  40.19MB/50.07MB\n",
      "I0504 10:06:45.238126   13997 docker.go:556] pulling image seldonio/seldon-core-s2i-python3:0.16:  4.312MB/20.98MB\n",
      "I0504 10:06:45.328211   13997 docker.go:556] pulling image seldonio/seldon-core-s2i-python3:0.16:  41.21MB/50.07MB\n",
      "I0504 10:06:45.332977   13997 docker.go:556] pulling image seldonio/seldon-core-s2i-python3:0.16:  33.08MB/45.34MB\n"
     ]
    },
    {
     "name": "stdout",
     "output_type": "stream",
     "text": [
      "I0504 10:06:45.343073   13997 docker.go:556] pulling image seldonio/seldon-core-s2i-python3:0.16:  6.028MB/20.98MB\n",
      "I0504 10:06:45.433468   13997 docker.go:556] pulling image seldonio/seldon-core-s2i-python3:0.16:  42.23MB/50.07MB\n",
      "I0504 10:06:45.453937   13997 docker.go:556] pulling image seldonio/seldon-core-s2i-python3:0.16:  7.974MB/20.98MB\n",
      "I0504 10:06:45.543722   13997 docker.go:556] pulling image seldonio/seldon-core-s2i-python3:0.16:  43.25MB/50.07MB\n",
      "I0504 10:06:45.560659   13997 docker.go:556] pulling image seldonio/seldon-core-s2i-python3:0.16:  9.911MB/20.98MB\n",
      "I0504 10:06:45.662644   13997 docker.go:556] pulling image seldonio/seldon-core-s2i-python3:0.16:  11.84MB/20.98MB\n",
      "I0504 10:06:45.675228   13997 docker.go:556] pulling image seldonio/seldon-core-s2i-python3:0.16:  33.54MB/45.34MB\n",
      "I0504 10:06:45.676130   13997 docker.go:556] pulling image seldonio/seldon-core-s2i-python3:0.16:  44.26MB/50.07MB\n",
      "I0504 10:06:45.763602   13997 docker.go:556] pulling image seldonio/seldon-core-s2i-python3:0.16:  13.78MB/20.98MB\n",
      "I0504 10:06:45.824321   13997 docker.go:556] pulling image seldonio/seldon-core-s2i-python3:0.16:  45.28MB/50.07MB\n",
      "I0504 10:06:45.871413   13997 docker.go:556] pulling image seldonio/seldon-core-s2i-python3:0.16:  15.91MB/20.98MB\n",
      "I0504 10:06:45.977547   13997 docker.go:556] pulling image seldonio/seldon-core-s2i-python3:0.16:  18.05MB/20.98MB\n",
      "I0504 10:06:45.990886   13997 docker.go:556] pulling image seldonio/seldon-core-s2i-python3:0.16:   46.3MB/50.07MB\n",
      "I0504 10:06:46.020208   13997 docker.go:556] pulling image seldonio/seldon-core-s2i-python3:0.16:     34MB/45.34MB\n",
      "I0504 10:06:46.080394   13997 docker.go:556] pulling image seldonio/seldon-core-s2i-python3:0.16:  20.18MB/20.98MB\n",
      "I0504 10:06:46.118416   13997 docker.go:556] pulling image seldonio/seldon-core-s2i-python3:0.16: \n",
      "I0504 10:06:46.118439   13997 docker.go:556] pulling image seldonio/seldon-core-s2i-python3:0.16: \n",
      "I0504 10:06:46.166525   13997 docker.go:556] pulling image seldonio/seldon-core-s2i-python3:0.16:  47.32MB/50.07MB\n",
      "I0504 10:06:46.304278   13997 docker.go:556] pulling image seldonio/seldon-core-s2i-python3:0.16:  48.34MB/50.07MB\n",
      "I0504 10:06:46.316151   13997 docker.go:556] pulling image seldonio/seldon-core-s2i-python3:0.16:  34.45MB/45.34MB\n",
      "I0504 10:06:46.414728   13997 docker.go:556] pulling image seldonio/seldon-core-s2i-python3:0.16:  49.36MB/50.07MB\n",
      "I0504 10:06:46.485086   13997 docker.go:556] pulling image seldonio/seldon-core-s2i-python3:0.16: \n",
      "I0504 10:06:46.485107   13997 docker.go:556] pulling image seldonio/seldon-core-s2i-python3:0.16: \n",
      "I0504 10:06:46.524821   13997 docker.go:556] pulling image seldonio/seldon-core-s2i-python3:0.16:  34.91MB/45.34MB\n",
      "I0504 10:06:46.685648   13997 docker.go:556] pulling image seldonio/seldon-core-s2i-python3:0.16:  35.37MB/45.34MB\n",
      "I0504 10:06:46.748442   13997 docker.go:556] pulling image seldonio/seldon-core-s2i-python3:0.16:     240B/240B\n",
      "I0504 10:06:46.748651   13997 docker.go:556] pulling image seldonio/seldon-core-s2i-python3:0.16: \n",
      "I0504 10:06:46.748663   13997 docker.go:556] pulling image seldonio/seldon-core-s2i-python3:0.16: \n",
      "I0504 10:06:46.853401   13997 docker.go:556] pulling image seldonio/seldon-core-s2i-python3:0.16:  36.29MB/45.34MB\n",
      "I0504 10:06:46.973220   13997 docker.go:556] pulling image seldonio/seldon-core-s2i-python3:0.16:  37.21MB/45.34MB\n",
      "I0504 10:06:47.078714   13997 docker.go:556] pulling image seldonio/seldon-core-s2i-python3:0.16:  38.12MB/45.34MB\n",
      "I0504 10:06:47.085911   13997 docker.go:556] pulling image seldonio/seldon-core-s2i-python3:0.16:  18.29kB/1.821MB\n",
      "I0504 10:06:47.186141   13997 docker.go:556] pulling image seldonio/seldon-core-s2i-python3:0.16:  1.125MB/1.821MB\n",
      "I0504 10:06:47.217499   13997 docker.go:556] pulling image seldonio/seldon-core-s2i-python3:0.16:   39.5MB/45.34MB\n",
      "I0504 10:06:47.222031   13997 docker.go:556] pulling image seldonio/seldon-core-s2i-python3:0.16: \n",
      "I0504 10:06:47.222060   13997 docker.go:556] pulling image seldonio/seldon-core-s2i-python3:0.16: \n",
      "I0504 10:06:47.342279   13997 docker.go:556] pulling image seldonio/seldon-core-s2i-python3:0.16:  41.33MB/45.34MB\n",
      "I0504 10:06:47.371288   13997 docker.go:556] pulling image seldonio/seldon-core-s2i-python3:0.16:    127kB/12.5MB\n",
      "I0504 10:06:47.460990   13997 docker.go:556] pulling image seldonio/seldon-core-s2i-python3:0.16:  43.18MB/45.34MB\n",
      "I0504 10:06:47.473853   13997 docker.go:556] pulling image seldonio/seldon-core-s2i-python3:0.16:  1.572MB/12.5MB\n",
      "I0504 10:06:47.579846   13997 docker.go:556] pulling image seldonio/seldon-core-s2i-python3:0.16:  3.013MB/12.5MB\n",
      "I0504 10:06:47.591726   13997 docker.go:556] pulling image seldonio/seldon-core-s2i-python3:0.16:  45.02MB/45.34MB\n",
      "I0504 10:06:47.613195   13997 docker.go:556] pulling image seldonio/seldon-core-s2i-python3:0.16: \n",
      "I0504 10:06:47.613216   13997 docker.go:556] pulling image seldonio/seldon-core-s2i-python3:0.16: \n",
      "I0504 10:06:47.647706   13997 docker.go:556] pulling image seldonio/seldon-core-s2i-python3:0.16:  458.8kB/45.34MB\n",
      "I0504 10:06:47.680419   13997 docker.go:556] pulling image seldonio/seldon-core-s2i-python3:0.16:  4.742MB/12.5MB\n",
      "I0504 10:06:47.800552   13997 docker.go:556] pulling image seldonio/seldon-core-s2i-python3:0.16:  7.138MB/12.5MB\n",
      "I0504 10:06:47.800578   13997 docker.go:556] pulling image seldonio/seldon-core-s2i-python3:0.16:  2.753MB/45.34MB\n",
      "I0504 10:06:47.884542   13997 docker.go:556] pulling image seldonio/seldon-core-s2i-python3:0.16:  5.046MB/45.34MB\n",
      "I0504 10:06:47.902689   13997 docker.go:556] pulling image seldonio/seldon-core-s2i-python3:0.16:  10.03MB/12.5MB\n",
      "I0504 10:06:47.940399   13997 docker.go:556] pulling image seldonio/seldon-core-s2i-python3:0.16:  387.8kB/38.2MB\n",
      "I0504 10:06:48.004640   13997 docker.go:556] pulling image seldonio/seldon-core-s2i-python3:0.16:   7.34MB/45.34MB\n",
      "I0504 10:06:48.006392   13997 docker.go:556] pulling image seldonio/seldon-core-s2i-python3:0.16:     12MB/12.5MB\n",
      "I0504 10:06:48.041459   13997 docker.go:556] pulling image seldonio/seldon-core-s2i-python3:0.16: \n",
      "I0504 10:06:48.041480   13997 docker.go:556] pulling image seldonio/seldon-core-s2i-python3:0.16: \n",
      "I0504 10:06:48.042101   13997 docker.go:556] pulling image seldonio/seldon-core-s2i-python3:0.16:  1.572MB/38.2MB\n",
      "I0504 10:06:48.116558   13997 docker.go:556] pulling image seldonio/seldon-core-s2i-python3:0.16:  9.175MB/45.34MB\n",
      "I0504 10:06:48.155992   13997 docker.go:556] pulling image seldonio/seldon-core-s2i-python3:0.16:  4.676MB/38.2MB\n",
      "I0504 10:06:48.217017   13997 docker.go:556] pulling image seldonio/seldon-core-s2i-python3:0.16:  11.01MB/45.34MB\n",
      "I0504 10:06:48.256460   13997 docker.go:556] pulling image seldonio/seldon-core-s2i-python3:0.16:  7.421MB/38.2MB\n",
      "I0504 10:06:48.325525   13997 docker.go:556] pulling image seldonio/seldon-core-s2i-python3:0.16:     101B/101B\n",
      "I0504 10:06:48.325573   13997 docker.go:556] pulling image seldonio/seldon-core-s2i-python3:0.16: \n",
      "I0504 10:06:48.325601   13997 docker.go:556] pulling image seldonio/seldon-core-s2i-python3:0.16: \n",
      "I0504 10:06:48.333587   13997 docker.go:556] pulling image seldonio/seldon-core-s2i-python3:0.16:   13.3MB/45.34MB\n",
      "I0504 10:06:48.362450   13997 docker.go:556] pulling image seldonio/seldon-core-s2i-python3:0.16:  10.15MB/38.2MB\n",
      "I0504 10:06:48.452968   13997 docker.go:556] pulling image seldonio/seldon-core-s2i-python3:0.16:   15.6MB/45.34MB\n",
      "I0504 10:06:48.475963   13997 docker.go:556] pulling image seldonio/seldon-core-s2i-python3:0.16:  13.27MB/38.2MB\n",
      "I0504 10:06:48.556197   13997 docker.go:556] pulling image seldonio/seldon-core-s2i-python3:0.16:  17.89MB/45.34MB\n",
      "I0504 10:06:48.591676   13997 docker.go:556] pulling image seldonio/seldon-core-s2i-python3:0.16:  16.42MB/38.2MB\n",
      "I0504 10:06:48.676382   13997 docker.go:556] pulling image seldonio/seldon-core-s2i-python3:0.16:  20.19MB/45.34MB\n",
      "I0504 10:06:48.694084   13997 docker.go:556] pulling image seldonio/seldon-core-s2i-python3:0.16:  18.77MB/38.2MB\n",
      "I0504 10:06:48.798040   13997 docker.go:556] pulling image seldonio/seldon-core-s2i-python3:0.16:  21.56MB/45.34MB\n",
      "I0504 10:06:48.799432   13997 docker.go:556] pulling image seldonio/seldon-core-s2i-python3:0.16:   21.5MB/38.2MB\n",
      "I0504 10:06:48.856263   13997 docker.go:556] pulling image seldonio/seldon-core-s2i-python3:0.16:  539.3kB/255.2MB\n",
      "I0504 10:06:48.898843   13997 docker.go:556] pulling image seldonio/seldon-core-s2i-python3:0.16:  26.15MB/45.34MB\n",
      "I0504 10:06:48.903955   13997 docker.go:556] pulling image seldonio/seldon-core-s2i-python3:0.16:  23.46MB/38.2MB\n"
     ]
    },
    {
     "name": "stdout",
     "output_type": "stream",
     "text": [
      "I0504 10:06:48.974656   13997 docker.go:556] pulling image seldonio/seldon-core-s2i-python3:0.16:  2.145MB/255.2MB\n",
      "I0504 10:06:49.004173   13997 docker.go:556] pulling image seldonio/seldon-core-s2i-python3:0.16:  30.74MB/45.34MB\n",
      "I0504 10:06:49.011188   13997 docker.go:556] pulling image seldonio/seldon-core-s2i-python3:0.16:  24.64MB/38.2MB\n",
      "I0504 10:06:49.086759   13997 docker.go:556] pulling image seldonio/seldon-core-s2i-python3:0.16:  4.299MB/255.2MB\n",
      "I0504 10:06:49.113342   13997 docker.go:556] pulling image seldonio/seldon-core-s2i-python3:0.16:  32.57MB/45.34MB\n",
      "I0504 10:06:49.176884   13997 docker.go:556] pulling image seldonio/seldon-core-s2i-python3:0.16:     500B/1.549kB\n",
      "I0504 10:06:49.177007   13997 docker.go:556] pulling image seldonio/seldon-core-s2i-python3:0.16:  1.549kB/1.549kB\n",
      "I0504 10:06:49.177020   13997 docker.go:556] pulling image seldonio/seldon-core-s2i-python3:0.16: \n",
      "I0504 10:06:49.177038   13997 docker.go:556] pulling image seldonio/seldon-core-s2i-python3:0.16: \n",
      "I0504 10:06:49.219840   13997 docker.go:556] pulling image seldonio/seldon-core-s2i-python3:0.16:  25.82MB/38.2MB\n",
      "I0504 10:06:49.233149   13997 docker.go:556] pulling image seldonio/seldon-core-s2i-python3:0.16:  34.41MB/45.34MB\n",
      "I0504 10:06:49.276028   13997 docker.go:556] pulling image seldonio/seldon-core-s2i-python3:0.16:   6.45MB/255.2MB\n",
      "I0504 10:06:49.321654   13997 docker.go:556] pulling image seldonio/seldon-core-s2i-python3:0.16:  27.38MB/38.2MB\n",
      "I0504 10:06:49.344520   13997 docker.go:556] pulling image seldonio/seldon-core-s2i-python3:0.16:  36.24MB/45.34MB\n",
      "I0504 10:06:49.399094   13997 docker.go:556] pulling image seldonio/seldon-core-s2i-python3:0.16:   10.2MB/255.2MB\n",
      "I0504 10:06:49.440833   13997 docker.go:556] pulling image seldonio/seldon-core-s2i-python3:0.16:  28.55MB/38.2MB\n",
      "I0504 10:06:49.461141   13997 docker.go:556] pulling image seldonio/seldon-core-s2i-python3:0.16:  38.54MB/45.34MB\n",
      "I0504 10:06:49.503065   13997 docker.go:556] pulling image seldonio/seldon-core-s2i-python3:0.16:  11.81MB/255.2MB\n",
      "I0504 10:06:49.549189   13997 docker.go:556] pulling image seldonio/seldon-core-s2i-python3:0.16:  29.72MB/38.2MB\n",
      "I0504 10:06:49.577425   13997 docker.go:556] pulling image seldonio/seldon-core-s2i-python3:0.16:  40.37MB/45.34MB\n",
      "I0504 10:06:49.627876   13997 docker.go:556] pulling image seldonio/seldon-core-s2i-python3:0.16:  13.97MB/255.2MB\n",
      "I0504 10:06:49.678901   13997 docker.go:556] pulling image seldonio/seldon-core-s2i-python3:0.16:  30.89MB/38.2MB\n",
      "I0504 10:06:49.682216   13997 docker.go:556] pulling image seldonio/seldon-core-s2i-python3:0.16:  41.75MB/45.34MB\n",
      "I0504 10:06:49.736088   13997 docker.go:556] pulling image seldonio/seldon-core-s2i-python3:0.16:  16.12MB/255.2MB\n",
      "I0504 10:06:49.791320   13997 docker.go:556] pulling image seldonio/seldon-core-s2i-python3:0.16:  31.67MB/38.2MB\n",
      "I0504 10:06:49.793168   13997 docker.go:556] pulling image seldonio/seldon-core-s2i-python3:0.16:  43.12MB/45.34MB\n",
      "I0504 10:06:49.837219   13997 docker.go:556] pulling image seldonio/seldon-core-s2i-python3:0.16:  18.28MB/255.2MB\n",
      "I0504 10:06:49.891518   13997 docker.go:556] pulling image seldonio/seldon-core-s2i-python3:0.16:  32.46MB/38.2MB\n",
      "I0504 10:06:49.942923   13997 docker.go:556] pulling image seldonio/seldon-core-s2i-python3:0.16:  20.44MB/255.2MB\n",
      "I0504 10:06:49.988391   13997 docker.go:556] pulling image seldonio/seldon-core-s2i-python3:0.16:   44.5MB/45.34MB\n",
      "I0504 10:06:50.011658   13997 docker.go:556] pulling image seldonio/seldon-core-s2i-python3:0.16:  33.24MB/38.2MB\n",
      "I0504 10:06:50.045567   13997 docker.go:556] pulling image seldonio/seldon-core-s2i-python3:0.16:  22.59MB/255.2MB\n",
      "I0504 10:06:50.082638   13997 docker.go:556] pulling image seldonio/seldon-core-s2i-python3:0.16:  45.34MB/45.34MB\n",
      "I0504 10:06:50.149581   13997 docker.go:556] pulling image seldonio/seldon-core-s2i-python3:0.16:  34.01MB/38.2MB\n",
      "I0504 10:06:50.169794   13997 docker.go:556] pulling image seldonio/seldon-core-s2i-python3:0.16:  25.26MB/255.2MB\n",
      "I0504 10:06:50.173738   13997 docker.go:556] pulling image seldonio/seldon-core-s2i-python3:0.16: \n",
      "I0504 10:06:50.218931   13997 docker.go:556] pulling image seldonio/seldon-core-s2i-python3:0.16:  131.1kB/10.78MB\n",
      "I0504 10:06:50.281872   13997 docker.go:556] pulling image seldonio/seldon-core-s2i-python3:0.16:  27.95MB/255.2MB\n",
      "I0504 10:06:50.320066   13997 docker.go:556] pulling image seldonio/seldon-core-s2i-python3:0.16:  2.621MB/10.78MB\n",
      "I0504 10:06:50.323194   13997 docker.go:556] pulling image seldonio/seldon-core-s2i-python3:0.16:  34.79MB/38.2MB\n",
      "I0504 10:06:50.396874   13997 docker.go:556] pulling image seldonio/seldon-core-s2i-python3:0.16:  30.62MB/255.2MB\n",
      "I0504 10:06:50.425751   13997 docker.go:556] pulling image seldonio/seldon-core-s2i-python3:0.16:  4.456MB/10.78MB\n",
      "I0504 10:06:50.508475   13997 docker.go:556] pulling image seldonio/seldon-core-s2i-python3:0.16:   33.3MB/255.2MB\n",
      "I0504 10:06:50.519580   13997 docker.go:556] pulling image seldonio/seldon-core-s2i-python3:0.16:  35.58MB/38.2MB\n",
      "I0504 10:06:50.534356   13997 docker.go:556] pulling image seldonio/seldon-core-s2i-python3:0.16:  6.816MB/10.78MB\n",
      "I0504 10:06:50.619482   13997 docker.go:556] pulling image seldonio/seldon-core-s2i-python3:0.16:  35.98MB/255.2MB\n",
      "I0504 10:06:50.641838   13997 docker.go:556] pulling image seldonio/seldon-core-s2i-python3:0.16:   9.83MB/10.78MB\n",
      "I0504 10:06:50.649348   13997 docker.go:556] pulling image seldonio/seldon-core-s2i-python3:0.16:  35.97MB/38.2MB\n",
      "I0504 10:06:50.724749   13997 docker.go:556] pulling image seldonio/seldon-core-s2i-python3:0.16:  38.65MB/255.2MB\n",
      "I0504 10:06:50.732125   13997 docker.go:556] pulling image seldonio/seldon-core-s2i-python3:0.16:  10.78MB/10.78MB\n",
      "I0504 10:06:50.768848   13997 docker.go:556] pulling image seldonio/seldon-core-s2i-python3:0.16: \n",
      "I0504 10:06:50.784370   13997 docker.go:556] pulling image seldonio/seldon-core-s2i-python3:0.16:  65.54kB/4.34MB\n",
      "I0504 10:06:50.795828   13997 docker.go:556] pulling image seldonio/seldon-core-s2i-python3:0.16:  36.37MB/38.2MB\n",
      "I0504 10:06:50.833678   13997 docker.go:556] pulling image seldonio/seldon-core-s2i-python3:0.16:  41.34MB/255.2MB\n",
      "I0504 10:06:50.893382   13997 docker.go:556] pulling image seldonio/seldon-core-s2i-python3:0.16:  1.835MB/4.34MB\n",
      "I0504 10:06:50.932944   13997 docker.go:556] pulling image seldonio/seldon-core-s2i-python3:0.16:  36.76MB/38.2MB\n",
      "I0504 10:06:50.948989   13997 docker.go:556] pulling image seldonio/seldon-core-s2i-python3:0.16:  44.05MB/255.2MB\n",
      "I0504 10:06:50.984203   13997 docker.go:556] pulling image seldonio/seldon-core-s2i-python3:0.16:   4.34MB/4.34MB\n",
      "I0504 10:06:51.068227   13997 docker.go:556] pulling image seldonio/seldon-core-s2i-python3:0.16:  47.27MB/255.2MB\n",
      "I0504 10:06:51.144051   13997 docker.go:556] pulling image seldonio/seldon-core-s2i-python3:0.16:  37.16MB/38.2MB\n",
      "I0504 10:06:51.171790   13997 docker.go:556] pulling image seldonio/seldon-core-s2i-python3:0.16:  49.96MB/255.2MB\n",
      "I0504 10:06:51.275254   13997 docker.go:556] pulling image seldonio/seldon-core-s2i-python3:0.16:  52.65MB/255.2MB\n",
      "I0504 10:06:51.377772   13997 docker.go:556] pulling image seldonio/seldon-core-s2i-python3:0.16:  55.33MB/255.2MB\n",
      "I0504 10:06:51.405403   13997 docker.go:556] pulling image seldonio/seldon-core-s2i-python3:0.16:  37.55MB/38.2MB\n",
      "I0504 10:06:51.479584   13997 docker.go:556] pulling image seldonio/seldon-core-s2i-python3:0.16:  58.01MB/255.2MB\n",
      "I0504 10:06:51.486825   13997 docker.go:556] pulling image seldonio/seldon-core-s2i-python3:0.16: \n",
      "I0504 10:06:51.546995   13997 docker.go:556] pulling image seldonio/seldon-core-s2i-python3:0.16:  524.3kB/50.07MB\n",
      "I0504 10:06:51.583467   13997 docker.go:556] pulling image seldonio/seldon-core-s2i-python3:0.16:  60.71MB/255.2MB\n",
      "I0504 10:06:51.668377   13997 docker.go:556] pulling image seldonio/seldon-core-s2i-python3:0.16:  3.146MB/50.07MB\n",
      "I0504 10:06:51.684399   13997 docker.go:556] pulling image seldonio/seldon-core-s2i-python3:0.16:  63.41MB/255.2MB\n",
      "I0504 10:06:51.740804   13997 docker.go:556] pulling image seldonio/seldon-core-s2i-python3:0.16:  37.94MB/38.2MB\n",
      "I0504 10:06:51.771947   13997 docker.go:556] pulling image seldonio/seldon-core-s2i-python3:0.16:  5.243MB/50.07MB\n",
      "I0504 10:06:51.784610   13997 docker.go:556] pulling image seldonio/seldon-core-s2i-python3:0.16:  66.09MB/255.2MB\n"
     ]
    },
    {
     "name": "stdout",
     "output_type": "stream",
     "text": [
      "I0504 10:06:51.884676   13997 docker.go:556] pulling image seldonio/seldon-core-s2i-python3:0.16:  68.76MB/255.2MB\n",
      "I0504 10:06:51.888193   13997 docker.go:556] pulling image seldonio/seldon-core-s2i-python3:0.16:  7.864MB/50.07MB\n",
      "I0504 10:06:51.997968   13997 docker.go:556] pulling image seldonio/seldon-core-s2i-python3:0.16:  10.49MB/50.07MB\n",
      "I0504 10:06:52.005938   13997 docker.go:556] pulling image seldonio/seldon-core-s2i-python3:0.16:  71.97MB/255.2MB\n",
      "I0504 10:06:52.042244   13997 docker.go:556] pulling image seldonio/seldon-core-s2i-python3:0.16: \n",
      "I0504 10:06:52.042401   13997 docker.go:556] pulling image seldonio/seldon-core-s2i-python3:0.16: \n",
      "I0504 10:06:52.123406   13997 docker.go:556] pulling image seldonio/seldon-core-s2i-python3:0.16:  75.18MB/255.2MB\n",
      "I0504 10:06:52.125069   13997 docker.go:556] pulling image seldonio/seldon-core-s2i-python3:0.16:  13.11MB/50.07MB\n",
      "I0504 10:06:52.238766   13997 docker.go:556] pulling image seldonio/seldon-core-s2i-python3:0.16:   78.4MB/255.2MB\n",
      "I0504 10:06:52.246959   13997 docker.go:556] pulling image seldonio/seldon-core-s2i-python3:0.16:  15.73MB/50.07MB\n",
      "I0504 10:06:52.355770   13997 docker.go:556] pulling image seldonio/seldon-core-s2i-python3:0.16:  81.63MB/255.2MB\n",
      "I0504 10:06:52.370241   13997 docker.go:556] pulling image seldonio/seldon-core-s2i-python3:0.16:   17.3MB/50.07MB\n",
      "I0504 10:06:52.473453   13997 docker.go:556] pulling image seldonio/seldon-core-s2i-python3:0.16:  84.86MB/255.2MB\n",
      "I0504 10:06:52.480103   13997 docker.go:556] pulling image seldonio/seldon-core-s2i-python3:0.16:  18.87MB/50.07MB\n",
      "I0504 10:06:52.589616   13997 docker.go:556] pulling image seldonio/seldon-core-s2i-python3:0.16:  88.09MB/255.2MB\n",
      "I0504 10:06:52.612586   13997 docker.go:556] pulling image seldonio/seldon-core-s2i-python3:0.16:  20.45MB/50.07MB\n",
      "I0504 10:06:52.707225   13997 docker.go:556] pulling image seldonio/seldon-core-s2i-python3:0.16:  91.29MB/255.2MB\n",
      "I0504 10:06:52.718573   13997 docker.go:556] pulling image seldonio/seldon-core-s2i-python3:0.16:  22.02MB/50.07MB\n",
      "I0504 10:06:52.821970   13997 docker.go:556] pulling image seldonio/seldon-core-s2i-python3:0.16:   94.5MB/255.2MB\n",
      "I0504 10:06:52.845287   13997 docker.go:556] pulling image seldonio/seldon-core-s2i-python3:0.16:  23.59MB/50.07MB\n",
      "I0504 10:06:52.938794   13997 docker.go:556] pulling image seldonio/seldon-core-s2i-python3:0.16:  97.73MB/255.2MB\n",
      "I0504 10:06:52.952463   13997 docker.go:556] pulling image seldonio/seldon-core-s2i-python3:0.16:  24.64MB/50.07MB\n",
      "I0504 10:06:53.046693   13997 docker.go:556] pulling image seldonio/seldon-core-s2i-python3:0.16:  100.4MB/255.2MB\n",
      "I0504 10:06:53.079486   13997 docker.go:556] pulling image seldonio/seldon-core-s2i-python3:0.16:  26.21MB/50.07MB\n",
      "I0504 10:06:53.152402   13997 docker.go:556] pulling image seldonio/seldon-core-s2i-python3:0.16:  103.6MB/255.2MB\n",
      "I0504 10:06:53.206920   13997 docker.go:556] pulling image seldonio/seldon-core-s2i-python3:0.16:  27.79MB/50.07MB\n",
      "I0504 10:06:53.269717   13997 docker.go:556] pulling image seldonio/seldon-core-s2i-python3:0.16:  106.8MB/255.2MB\n",
      "I0504 10:06:53.336162   13997 docker.go:556] pulling image seldonio/seldon-core-s2i-python3:0.16:  29.88MB/50.07MB\n",
      "I0504 10:06:53.369985   13997 docker.go:556] pulling image seldonio/seldon-core-s2i-python3:0.16:  109.5MB/255.2MB\n",
      "I0504 10:06:53.467882   13997 docker.go:556] pulling image seldonio/seldon-core-s2i-python3:0.16:  31.46MB/50.07MB\n",
      "I0504 10:06:53.482428   13997 docker.go:556] pulling image seldonio/seldon-core-s2i-python3:0.16:  112.7MB/255.2MB\n",
      "I0504 10:06:53.584261   13997 docker.go:556] pulling image seldonio/seldon-core-s2i-python3:0.16:  115.4MB/255.2MB\n",
      "I0504 10:06:53.584888   13997 docker.go:556] pulling image seldonio/seldon-core-s2i-python3:0.16:  32.51MB/50.07MB\n",
      "I0504 10:06:53.695791   13997 docker.go:556] pulling image seldonio/seldon-core-s2i-python3:0.16:  118.6MB/255.2MB\n",
      "I0504 10:06:53.707571   13997 docker.go:556] pulling image seldonio/seldon-core-s2i-python3:0.16:  34.08MB/50.07MB\n",
      "I0504 10:06:53.796666   13997 docker.go:556] pulling image seldonio/seldon-core-s2i-python3:0.16:  121.3MB/255.2MB\n",
      "I0504 10:06:53.820715   13997 docker.go:556] pulling image seldonio/seldon-core-s2i-python3:0.16:  35.65MB/50.07MB\n",
      "I0504 10:06:53.909723   13997 docker.go:556] pulling image seldonio/seldon-core-s2i-python3:0.16:  124.5MB/255.2MB\n",
      "I0504 10:06:53.931244   13997 docker.go:556] pulling image seldonio/seldon-core-s2i-python3:0.16:  39.32MB/50.07MB\n",
      "I0504 10:06:54.026606   13997 docker.go:556] pulling image seldonio/seldon-core-s2i-python3:0.16:  127.7MB/255.2MB\n",
      "I0504 10:06:54.056746   13997 docker.go:556] pulling image seldonio/seldon-core-s2i-python3:0.16:  41.42MB/50.07MB\n",
      "I0504 10:06:54.142756   13997 docker.go:556] pulling image seldonio/seldon-core-s2i-python3:0.16:    131MB/255.2MB\n",
      "I0504 10:06:54.175269   13997 docker.go:556] pulling image seldonio/seldon-core-s2i-python3:0.16:  43.52MB/50.07MB\n",
      "I0504 10:06:54.247714   13997 docker.go:556] pulling image seldonio/seldon-core-s2i-python3:0.16:  133.6MB/255.2MB\n",
      "I0504 10:06:54.285996   13997 docker.go:556] pulling image seldonio/seldon-core-s2i-python3:0.16:  45.09MB/50.07MB\n",
      "I0504 10:06:54.356098   13997 docker.go:556] pulling image seldonio/seldon-core-s2i-python3:0.16:  136.8MB/255.2MB\n",
      "I0504 10:06:54.423765   13997 docker.go:556] pulling image seldonio/seldon-core-s2i-python3:0.16:  46.66MB/50.07MB\n",
      "I0504 10:06:54.475899   13997 docker.go:556] pulling image seldonio/seldon-core-s2i-python3:0.16:    140MB/255.2MB\n",
      "I0504 10:06:54.540178   13997 docker.go:556] pulling image seldonio/seldon-core-s2i-python3:0.16:  48.23MB/50.07MB\n",
      "I0504 10:06:54.589271   13997 docker.go:556] pulling image seldonio/seldon-core-s2i-python3:0.16:  143.3MB/255.2MB\n",
      "I0504 10:06:54.678232   13997 docker.go:556] pulling image seldonio/seldon-core-s2i-python3:0.16:  49.28MB/50.07MB\n",
      "I0504 10:06:54.689787   13997 docker.go:556] pulling image seldonio/seldon-core-s2i-python3:0.16:    146MB/255.2MB\n",
      "I0504 10:06:54.749715   13997 docker.go:556] pulling image seldonio/seldon-core-s2i-python3:0.16:  50.07MB/50.07MB\n",
      "I0504 10:06:54.803573   13997 docker.go:556] pulling image seldonio/seldon-core-s2i-python3:0.16:  149.2MB/255.2MB\n",
      "I0504 10:06:54.819228   13997 docker.go:556] pulling image seldonio/seldon-core-s2i-python3:0.16: \n",
      "I0504 10:06:54.881811   13997 docker.go:556] pulling image seldonio/seldon-core-s2i-python3:0.16:  557.1kB/215MB\n",
      "I0504 10:06:54.921513   13997 docker.go:556] pulling image seldonio/seldon-core-s2i-python3:0.16:  152.4MB/255.2MB\n",
      "I0504 10:06:54.993531   13997 docker.go:556] pulling image seldonio/seldon-core-s2i-python3:0.16:  2.785MB/215MB\n",
      "I0504 10:06:55.031988   13997 docker.go:556] pulling image seldonio/seldon-core-s2i-python3:0.16:  155.1MB/255.2MB\n",
      "I0504 10:06:55.108708   13997 docker.go:556] pulling image seldonio/seldon-core-s2i-python3:0.16:  4.456MB/215MB\n",
      "I0504 10:06:55.133644   13997 docker.go:556] pulling image seldonio/seldon-core-s2i-python3:0.16:  158.3MB/255.2MB\n",
      "I0504 10:06:55.215865   13997 docker.go:556] pulling image seldonio/seldon-core-s2i-python3:0.16:  6.685MB/215MB\n",
      "I0504 10:06:55.249689   13997 docker.go:556] pulling image seldonio/seldon-core-s2i-python3:0.16:  161.5MB/255.2MB\n",
      "I0504 10:06:55.340721   13997 docker.go:556] pulling image seldonio/seldon-core-s2i-python3:0.16:   9.47MB/215MB\n",
      "I0504 10:06:55.367469   13997 docker.go:556] pulling image seldonio/seldon-core-s2i-python3:0.16:  164.7MB/255.2MB\n",
      "I0504 10:06:55.472925   13997 docker.go:556] pulling image seldonio/seldon-core-s2i-python3:0.16:  10.58MB/215MB\n",
      "I0504 10:06:55.482139   13997 docker.go:556] pulling image seldonio/seldon-core-s2i-python3:0.16:  167.9MB/255.2MB\n",
      "I0504 10:06:55.599192   13997 docker.go:556] pulling image seldonio/seldon-core-s2i-python3:0.16:  171.2MB/255.2MB\n",
      "I0504 10:06:55.599930   13997 docker.go:556] pulling image seldonio/seldon-core-s2i-python3:0.16:   11.7MB/215MB\n",
      "I0504 10:06:55.716339   13997 docker.go:556] pulling image seldonio/seldon-core-s2i-python3:0.16:  174.4MB/255.2MB\n",
      "I0504 10:06:55.734806   13997 docker.go:556] pulling image seldonio/seldon-core-s2i-python3:0.16:  12.81MB/215MB\n",
      "I0504 10:06:55.833578   13997 docker.go:556] pulling image seldonio/seldon-core-s2i-python3:0.16:  177.6MB/255.2MB\n",
      "I0504 10:06:55.841434   13997 docker.go:556] pulling image seldonio/seldon-core-s2i-python3:0.16:  13.93MB/215MB\n"
     ]
    },
    {
     "name": "stdout",
     "output_type": "stream",
     "text": [
      "I0504 10:06:55.950573   13997 docker.go:556] pulling image seldonio/seldon-core-s2i-python3:0.16:  180.9MB/255.2MB\n",
      "I0504 10:06:55.975877   13997 docker.go:556] pulling image seldonio/seldon-core-s2i-python3:0.16:  15.04MB/215MB\n",
      "I0504 10:06:56.066930   13997 docker.go:556] pulling image seldonio/seldon-core-s2i-python3:0.16:  184.1MB/255.2MB\n",
      "I0504 10:06:56.149714   13997 docker.go:556] pulling image seldonio/seldon-core-s2i-python3:0.16:  16.71MB/215MB\n",
      "I0504 10:06:56.188933   13997 docker.go:556] pulling image seldonio/seldon-core-s2i-python3:0.16:  187.3MB/255.2MB\n",
      "I0504 10:06:56.256320   13997 docker.go:556] pulling image seldonio/seldon-core-s2i-python3:0.16:  18.94MB/215MB\n",
      "I0504 10:06:56.300629   13997 docker.go:556] pulling image seldonio/seldon-core-s2i-python3:0.16:  190.5MB/255.2MB\n",
      "I0504 10:06:56.362078   13997 docker.go:556] pulling image seldonio/seldon-core-s2i-python3:0.16:  21.73MB/215MB\n",
      "I0504 10:06:56.402091   13997 docker.go:556] pulling image seldonio/seldon-core-s2i-python3:0.16:  193.2MB/255.2MB\n",
      "I0504 10:06:56.466615   13997 docker.go:556] pulling image seldonio/seldon-core-s2i-python3:0.16:  23.95MB/215MB\n",
      "I0504 10:06:56.515169   13997 docker.go:556] pulling image seldonio/seldon-core-s2i-python3:0.16:  196.4MB/255.2MB\n",
      "I0504 10:06:56.584624   13997 docker.go:556] pulling image seldonio/seldon-core-s2i-python3:0.16:  26.18MB/215MB\n",
      "I0504 10:06:56.631523   13997 docker.go:556] pulling image seldonio/seldon-core-s2i-python3:0.16:  199.6MB/255.2MB\n",
      "I0504 10:06:56.698208   13997 docker.go:556] pulling image seldonio/seldon-core-s2i-python3:0.16:  28.97MB/215MB\n",
      "I0504 10:06:56.747256   13997 docker.go:556] pulling image seldonio/seldon-core-s2i-python3:0.16:  202.8MB/255.2MB\n",
      "I0504 10:06:56.808662   13997 docker.go:556] pulling image seldonio/seldon-core-s2i-python3:0.16:   31.2MB/215MB\n",
      "I0504 10:06:56.865001   13997 docker.go:556] pulling image seldonio/seldon-core-s2i-python3:0.16:  206.1MB/255.2MB\n",
      "I0504 10:06:56.943869   13997 docker.go:556] pulling image seldonio/seldon-core-s2i-python3:0.16:  33.42MB/215MB\n",
      "I0504 10:06:56.980587   13997 docker.go:556] pulling image seldonio/seldon-core-s2i-python3:0.16:  209.3MB/255.2MB\n",
      "I0504 10:06:57.081903   13997 docker.go:556] pulling image seldonio/seldon-core-s2i-python3:0.16:    212MB/255.2MB\n",
      "I0504 10:06:57.082450   13997 docker.go:556] pulling image seldonio/seldon-core-s2i-python3:0.16:  35.09MB/215MB\n",
      "I0504 10:06:57.187098   13997 docker.go:556] pulling image seldonio/seldon-core-s2i-python3:0.16:  38.44MB/215MB\n",
      "I0504 10:06:57.196670   13997 docker.go:556] pulling image seldonio/seldon-core-s2i-python3:0.16:  215.2MB/255.2MB\n",
      "I0504 10:06:57.304677   13997 docker.go:556] pulling image seldonio/seldon-core-s2i-python3:0.16:  40.11MB/215MB\n",
      "I0504 10:06:57.310703   13997 docker.go:556] pulling image seldonio/seldon-core-s2i-python3:0.16:  218.4MB/255.2MB\n",
      "I0504 10:06:57.424818   13997 docker.go:556] pulling image seldonio/seldon-core-s2i-python3:0.16:  42.89MB/215MB\n",
      "I0504 10:06:57.427418   13997 docker.go:556] pulling image seldonio/seldon-core-s2i-python3:0.16:  221.6MB/255.2MB\n",
      "I0504 10:06:57.530165   13997 docker.go:556] pulling image seldonio/seldon-core-s2i-python3:0.16:  45.12MB/215MB\n",
      "I0504 10:06:57.544739   13997 docker.go:556] pulling image seldonio/seldon-core-s2i-python3:0.16:  224.8MB/255.2MB\n",
      "I0504 10:06:57.635829   13997 docker.go:556] pulling image seldonio/seldon-core-s2i-python3:0.16:  47.35MB/215MB\n",
      "I0504 10:06:57.662828   13997 docker.go:556] pulling image seldonio/seldon-core-s2i-python3:0.16:    228MB/255.2MB\n",
      "I0504 10:06:57.768989   13997 docker.go:556] pulling image seldonio/seldon-core-s2i-python3:0.16:  49.58MB/215MB\n",
      "I0504 10:06:57.776839   13997 docker.go:556] pulling image seldonio/seldon-core-s2i-python3:0.16:  231.3MB/255.2MB\n",
      "I0504 10:06:57.893876   13997 docker.go:556] pulling image seldonio/seldon-core-s2i-python3:0.16:  234.5MB/255.2MB\n",
      "I0504 10:06:57.921553   13997 docker.go:556] pulling image seldonio/seldon-core-s2i-python3:0.16:  51.81MB/215MB\n",
      "I0504 10:06:58.011352   13997 docker.go:556] pulling image seldonio/seldon-core-s2i-python3:0.16:  237.7MB/255.2MB\n",
      "I0504 10:06:58.076218   13997 docker.go:556] pulling image seldonio/seldon-core-s2i-python3:0.16:  53.48MB/215MB\n",
      "I0504 10:06:58.129111   13997 docker.go:556] pulling image seldonio/seldon-core-s2i-python3:0.16:    241MB/255.2MB\n",
      "I0504 10:06:58.223515   13997 docker.go:556] pulling image seldonio/seldon-core-s2i-python3:0.16:  55.15MB/215MB\n",
      "I0504 10:06:58.244953   13997 docker.go:556] pulling image seldonio/seldon-core-s2i-python3:0.16:  244.2MB/255.2MB\n",
      "I0504 10:06:58.345421   13997 docker.go:556] pulling image seldonio/seldon-core-s2i-python3:0.16:  246.9MB/255.2MB\n",
      "I0504 10:06:58.379356   13997 docker.go:556] pulling image seldonio/seldon-core-s2i-python3:0.16:  56.82MB/215MB\n",
      "I0504 10:06:58.460675   13997 docker.go:556] pulling image seldonio/seldon-core-s2i-python3:0.16:  250.1MB/255.2MB\n",
      "I0504 10:06:58.509528   13997 docker.go:556] pulling image seldonio/seldon-core-s2i-python3:0.16:  58.49MB/215MB\n",
      "I0504 10:06:58.576571   13997 docker.go:556] pulling image seldonio/seldon-core-s2i-python3:0.16:  253.3MB/255.2MB\n",
      "I0504 10:06:58.628884   13997 docker.go:556] pulling image seldonio/seldon-core-s2i-python3:0.16:  60.16MB/215MB\n",
      "I0504 10:06:58.645959   13997 docker.go:556] pulling image seldonio/seldon-core-s2i-python3:0.16: \n",
      "I0504 10:06:58.645980   13997 docker.go:556] pulling image seldonio/seldon-core-s2i-python3:0.16: \n",
      "I0504 10:06:58.744718   13997 docker.go:556] pulling image seldonio/seldon-core-s2i-python3:0.16:  62.39MB/215MB\n",
      "I0504 10:06:58.850164   13997 docker.go:556] pulling image seldonio/seldon-core-s2i-python3:0.16:  65.18MB/215MB\n",
      "I0504 10:06:58.970926   13997 docker.go:556] pulling image seldonio/seldon-core-s2i-python3:0.16:  67.96MB/215MB\n",
      "I0504 10:06:59.077087   13997 docker.go:556] pulling image seldonio/seldon-core-s2i-python3:0.16:  70.19MB/215MB\n",
      "I0504 10:06:59.201058   13997 docker.go:556] pulling image seldonio/seldon-core-s2i-python3:0.16:  72.97MB/215MB\n",
      "I0504 10:06:59.320543   13997 docker.go:556] pulling image seldonio/seldon-core-s2i-python3:0.16:  75.76MB/215MB\n",
      "I0504 10:06:59.433280   13997 docker.go:556] pulling image seldonio/seldon-core-s2i-python3:0.16:  78.54MB/215MB\n",
      "I0504 10:06:59.560960   13997 docker.go:556] pulling image seldonio/seldon-core-s2i-python3:0.16:  81.33MB/215MB\n",
      "I0504 10:06:59.674686   13997 docker.go:556] pulling image seldonio/seldon-core-s2i-python3:0.16:  84.12MB/215MB\n",
      "I0504 10:06:59.795007   13997 docker.go:556] pulling image seldonio/seldon-core-s2i-python3:0.16:  87.46MB/215MB\n",
      "I0504 10:06:59.895489   13997 docker.go:556] pulling image seldonio/seldon-core-s2i-python3:0.16:  90.24MB/215MB\n",
      "I0504 10:06:59.998961   13997 docker.go:556] pulling image seldonio/seldon-core-s2i-python3:0.16:  93.03MB/215MB\n",
      "I0504 10:07:00.114525   13997 docker.go:556] pulling image seldonio/seldon-core-s2i-python3:0.16:  95.81MB/215MB\n",
      "I0504 10:07:00.218938   13997 docker.go:556] pulling image seldonio/seldon-core-s2i-python3:0.16:   98.6MB/215MB\n",
      "I0504 10:07:00.324841   13997 docker.go:556] pulling image seldonio/seldon-core-s2i-python3:0.16:  101.4MB/215MB\n",
      "I0504 10:07:00.442931   13997 docker.go:556] pulling image seldonio/seldon-core-s2i-python3:0.16:  104.2MB/215MB\n",
      "I0504 10:07:00.571467   13997 docker.go:556] pulling image seldonio/seldon-core-s2i-python3:0.16:    107MB/215MB\n",
      "I0504 10:07:00.695656   13997 docker.go:556] pulling image seldonio/seldon-core-s2i-python3:0.16:  109.2MB/215MB\n",
      "I0504 10:07:00.804197   13997 docker.go:556] pulling image seldonio/seldon-core-s2i-python3:0.16:  111.4MB/215MB\n",
      "I0504 10:07:00.912018   13997 docker.go:556] pulling image seldonio/seldon-core-s2i-python3:0.16:  113.6MB/215MB\n",
      "I0504 10:07:01.043765   13997 docker.go:556] pulling image seldonio/seldon-core-s2i-python3:0.16:  116.4MB/215MB\n",
      "I0504 10:07:01.152701   13997 docker.go:556] pulling image seldonio/seldon-core-s2i-python3:0.16:  118.7MB/215MB\n",
      "I0504 10:07:01.273368   13997 docker.go:556] pulling image seldonio/seldon-core-s2i-python3:0.16:  121.4MB/215MB\n",
      "I0504 10:07:01.393396   13997 docker.go:556] pulling image seldonio/seldon-core-s2i-python3:0.16:  123.7MB/215MB\n",
      "I0504 10:07:01.502652   13997 docker.go:556] pulling image seldonio/seldon-core-s2i-python3:0.16:  126.5MB/215MB\n"
     ]
    },
    {
     "name": "stdout",
     "output_type": "stream",
     "text": [
      "I0504 10:07:01.603985   13997 docker.go:556] pulling image seldonio/seldon-core-s2i-python3:0.16:  128.7MB/215MB\n",
      "I0504 10:07:01.729815   13997 docker.go:556] pulling image seldonio/seldon-core-s2i-python3:0.16:  131.5MB/215MB\n",
      "I0504 10:07:01.849834   13997 docker.go:556] pulling image seldonio/seldon-core-s2i-python3:0.16:  134.3MB/215MB\n",
      "I0504 10:07:01.964461   13997 docker.go:556] pulling image seldonio/seldon-core-s2i-python3:0.16:    137MB/215MB\n",
      "I0504 10:07:02.073824   13997 docker.go:556] pulling image seldonio/seldon-core-s2i-python3:0.16:  139.3MB/215MB\n",
      "I0504 10:07:02.190627   13997 docker.go:556] pulling image seldonio/seldon-core-s2i-python3:0.16:  140.9MB/215MB\n",
      "I0504 10:07:02.291041   13997 docker.go:556] pulling image seldonio/seldon-core-s2i-python3:0.16:  145.4MB/215MB\n",
      "I0504 10:07:02.401105   13997 docker.go:556] pulling image seldonio/seldon-core-s2i-python3:0.16:  150.4MB/215MB\n",
      "I0504 10:07:02.502841   13997 docker.go:556] pulling image seldonio/seldon-core-s2i-python3:0.16:  153.7MB/215MB\n",
      "I0504 10:07:02.602979   13997 docker.go:556] pulling image seldonio/seldon-core-s2i-python3:0.16:  158.8MB/215MB\n",
      "I0504 10:07:02.703808   13997 docker.go:556] pulling image seldonio/seldon-core-s2i-python3:0.16:  169.3MB/215MB\n",
      "I0504 10:07:02.804287   13997 docker.go:556] pulling image seldonio/seldon-core-s2i-python3:0.16:  174.9MB/215MB\n",
      "I0504 10:07:02.917866   13997 docker.go:556] pulling image seldonio/seldon-core-s2i-python3:0.16:  180.5MB/215MB\n",
      "I0504 10:07:03.037471   13997 docker.go:556] pulling image seldonio/seldon-core-s2i-python3:0.16:  183.8MB/215MB\n",
      "I0504 10:07:03.200554   13997 docker.go:556] pulling image seldonio/seldon-core-s2i-python3:0.16:  184.9MB/215MB\n",
      "I0504 10:07:03.304149   13997 docker.go:556] pulling image seldonio/seldon-core-s2i-python3:0.16:  187.2MB/215MB\n",
      "I0504 10:07:03.410509   13997 docker.go:556] pulling image seldonio/seldon-core-s2i-python3:0.16:  192.2MB/215MB\n",
      "I0504 10:07:03.545514   13997 docker.go:556] pulling image seldonio/seldon-core-s2i-python3:0.16:  194.4MB/215MB\n",
      "I0504 10:07:03.669594   13997 docker.go:556] pulling image seldonio/seldon-core-s2i-python3:0.16:  196.1MB/215MB\n",
      "I0504 10:07:03.784238   13997 docker.go:556] pulling image seldonio/seldon-core-s2i-python3:0.16:  198.3MB/215MB\n",
      "I0504 10:07:03.901707   13997 docker.go:556] pulling image seldonio/seldon-core-s2i-python3:0.16:  200.5MB/215MB\n",
      "I0504 10:07:04.002373   13997 docker.go:556] pulling image seldonio/seldon-core-s2i-python3:0.16:  202.8MB/215MB\n",
      "I0504 10:07:04.121412   13997 docker.go:556] pulling image seldonio/seldon-core-s2i-python3:0.16:    205MB/215MB\n",
      "I0504 10:07:04.243388   13997 docker.go:556] pulling image seldonio/seldon-core-s2i-python3:0.16:  207.2MB/215MB\n",
      "I0504 10:07:04.358227   13997 docker.go:556] pulling image seldonio/seldon-core-s2i-python3:0.16:  209.5MB/215MB\n",
      "I0504 10:07:04.489521   13997 docker.go:556] pulling image seldonio/seldon-core-s2i-python3:0.16:  211.7MB/215MB\n",
      "I0504 10:07:04.625953   13997 docker.go:556] pulling image seldonio/seldon-core-s2i-python3:0.16:  213.4MB/215MB\n",
      "I0504 10:07:04.749785   13997 docker.go:556] pulling image seldonio/seldon-core-s2i-python3:0.16:  214.5MB/215MB\n",
      "I0504 10:07:04.827115   13997 docker.go:556] pulling image seldonio/seldon-core-s2i-python3:0.16:    215MB/215MB\n",
      "I0504 10:07:04.955401   13997 docker.go:556] pulling image seldonio/seldon-core-s2i-python3:0.16: \n",
      "I0504 10:07:04.980366   13997 docker.go:556] pulling image seldonio/seldon-core-s2i-python3:0.16:  65.54kB/5.747MB\n",
      "I0504 10:07:05.081499   13997 docker.go:556] pulling image seldonio/seldon-core-s2i-python3:0.16:  1.901MB/5.747MB\n",
      "I0504 10:07:05.181804   13997 docker.go:556] pulling image seldonio/seldon-core-s2i-python3:0.16:  3.867MB/5.747MB\n",
      "I0504 10:07:05.290315   13997 docker.go:556] pulling image seldonio/seldon-core-s2i-python3:0.16:  5.571MB/5.747MB\n",
      "I0504 10:07:05.298134   13997 docker.go:556] pulling image seldonio/seldon-core-s2i-python3:0.16:  5.747MB/5.747MB\n",
      "I0504 10:07:05.725382   13997 docker.go:556] pulling image seldonio/seldon-core-s2i-python3:0.16: \n",
      "I0504 10:07:05.779637   13997 docker.go:556] pulling image seldonio/seldon-core-s2i-python3:0.16:  229.4kB/20.98MB\n",
      "I0504 10:07:05.885430   13997 docker.go:556] pulling image seldonio/seldon-core-s2i-python3:0.16:  3.211MB/20.98MB\n",
      "I0504 10:07:05.992030   13997 docker.go:556] pulling image seldonio/seldon-core-s2i-python3:0.16:  5.276MB/20.98MB\n",
      "I0504 10:07:06.093807   13997 docker.go:556] pulling image seldonio/seldon-core-s2i-python3:0.16:  7.569MB/20.98MB\n",
      "I0504 10:07:06.195147   13997 docker.go:556] pulling image seldonio/seldon-core-s2i-python3:0.16:  9.863MB/20.98MB\n",
      "I0504 10:07:06.303415   13997 docker.go:556] pulling image seldonio/seldon-core-s2i-python3:0.16:  12.39MB/20.98MB\n",
      "I0504 10:07:06.406747   13997 docker.go:556] pulling image seldonio/seldon-core-s2i-python3:0.16:  15.14MB/20.98MB\n",
      "I0504 10:07:06.508532   13997 docker.go:556] pulling image seldonio/seldon-core-s2i-python3:0.16:  17.66MB/20.98MB\n",
      "I0504 10:07:06.619307   13997 docker.go:556] pulling image seldonio/seldon-core-s2i-python3:0.16:  20.19MB/20.98MB\n",
      "I0504 10:07:06.671468   13997 docker.go:556] pulling image seldonio/seldon-core-s2i-python3:0.16:  20.98MB/20.98MB\n",
      "I0504 10:07:06.705895   13997 docker.go:556] pulling image seldonio/seldon-core-s2i-python3:0.16: \n",
      "I0504 10:07:06.712010   13997 docker.go:556] pulling image seldonio/seldon-core-s2i-python3:0.16:     240B/240B\n",
      "I0504 10:07:06.724174   13997 docker.go:556] pulling image seldonio/seldon-core-s2i-python3:0.16:     240B/240B\n",
      "I0504 10:07:06.744175   13997 docker.go:556] pulling image seldonio/seldon-core-s2i-python3:0.16: \n",
      "I0504 10:07:06.754093   13997 docker.go:556] pulling image seldonio/seldon-core-s2i-python3:0.16:  32.77kB/1.821MB\n",
      "I0504 10:07:06.855587   13997 docker.go:556] pulling image seldonio/seldon-core-s2i-python3:0.16:  1.409MB/1.821MB\n",
      "I0504 10:07:06.876746   13997 docker.go:556] pulling image seldonio/seldon-core-s2i-python3:0.16:  1.821MB/1.821MB\n",
      "I0504 10:07:06.882813   13997 docker.go:556] pulling image seldonio/seldon-core-s2i-python3:0.16:  1.821MB/1.821MB\n",
      "I0504 10:07:06.918786   13997 docker.go:556] pulling image seldonio/seldon-core-s2i-python3:0.16: \n",
      "I0504 10:07:06.943183   13997 docker.go:556] pulling image seldonio/seldon-core-s2i-python3:0.16:  131.1kB/12.5MB\n",
      "I0504 10:07:07.045146   13997 docker.go:556] pulling image seldonio/seldon-core-s2i-python3:0.16:  3.539MB/12.5MB\n",
      "I0504 10:07:07.147522   13997 docker.go:556] pulling image seldonio/seldon-core-s2i-python3:0.16:  7.209MB/12.5MB\n",
      "I0504 10:07:07.250377   13997 docker.go:556] pulling image seldonio/seldon-core-s2i-python3:0.16:  10.75MB/12.5MB\n",
      "I0504 10:07:07.303809   13997 docker.go:556] pulling image seldonio/seldon-core-s2i-python3:0.16:   12.5MB/12.5MB\n",
      "I0504 10:07:07.329444   13997 docker.go:556] pulling image seldonio/seldon-core-s2i-python3:0.16: \n",
      "I0504 10:07:07.377614   13997 docker.go:556] pulling image seldonio/seldon-core-s2i-python3:0.16:  393.2kB/38.2MB\n",
      "I0504 10:07:07.478852   13997 docker.go:556] pulling image seldonio/seldon-core-s2i-python3:0.16:  5.898MB/38.2MB\n",
      "I0504 10:07:07.585944   13997 docker.go:556] pulling image seldonio/seldon-core-s2i-python3:0.16:   11.4MB/38.2MB\n",
      "I0504 10:07:07.691033   13997 docker.go:556] pulling image seldonio/seldon-core-s2i-python3:0.16:  16.91MB/38.2MB\n",
      "I0504 10:07:07.796439   13997 docker.go:556] pulling image seldonio/seldon-core-s2i-python3:0.16:  22.81MB/38.2MB\n",
      "I0504 10:07:07.898453   13997 docker.go:556] pulling image seldonio/seldon-core-s2i-python3:0.16:  27.92MB/38.2MB\n",
      "I0504 10:07:08.021162   13997 docker.go:556] pulling image seldonio/seldon-core-s2i-python3:0.16:  31.06MB/38.2MB\n",
      "I0504 10:07:08.142270   13997 docker.go:556] pulling image seldonio/seldon-core-s2i-python3:0.16:  32.64MB/38.2MB\n",
      "I0504 10:07:08.243227   13997 docker.go:556] pulling image seldonio/seldon-core-s2i-python3:0.16:   34.6MB/38.2MB\n",
      "I0504 10:07:08.354901   13997 docker.go:556] pulling image seldonio/seldon-core-s2i-python3:0.16:  38.14MB/38.2MB\n",
      "I0504 10:07:08.360242   13997 docker.go:556] pulling image seldonio/seldon-core-s2i-python3:0.16:   38.2MB/38.2MB\n",
      "I0504 10:07:08.394948   13997 docker.go:556] pulling image seldonio/seldon-core-s2i-python3:0.16: \n",
      "I0504 10:07:08.407911   13997 docker.go:556] pulling image seldonio/seldon-core-s2i-python3:0.16:     101B/101B\n",
      "I0504 10:07:08.416318   13997 docker.go:556] pulling image seldonio/seldon-core-s2i-python3:0.16:     101B/101B\n"
     ]
    },
    {
     "name": "stdout",
     "output_type": "stream",
     "text": [
      "I0504 10:07:08.448708   13997 docker.go:556] pulling image seldonio/seldon-core-s2i-python3:0.16: \n",
      "I0504 10:07:08.479969   13997 docker.go:556] pulling image seldonio/seldon-core-s2i-python3:0.16:  557.1kB/255.2MB\n",
      "I0504 10:07:08.582202   13997 docker.go:556] pulling image seldonio/seldon-core-s2i-python3:0.16:  8.913MB/255.2MB\n",
      "I0504 10:07:08.690105   13997 docker.go:556] pulling image seldonio/seldon-core-s2i-python3:0.16:  15.04MB/255.2MB\n",
      "I0504 10:07:08.792576   13997 docker.go:556] pulling image seldonio/seldon-core-s2i-python3:0.16:  22.28MB/255.2MB\n",
      "I0504 10:07:08.896090   13997 docker.go:556] pulling image seldonio/seldon-core-s2i-python3:0.16:  30.08MB/255.2MB\n",
      "I0504 10:07:09.007919   13997 docker.go:556] pulling image seldonio/seldon-core-s2i-python3:0.16:  37.32MB/255.2MB\n",
      "I0504 10:07:09.109429   13997 docker.go:556] pulling image seldonio/seldon-core-s2i-python3:0.16:  43.45MB/255.2MB\n",
      "I0504 10:07:09.210255   13997 docker.go:556] pulling image seldonio/seldon-core-s2i-python3:0.16:  50.69MB/255.2MB\n",
      "I0504 10:07:09.318473   13997 docker.go:556] pulling image seldonio/seldon-core-s2i-python3:0.16:  59.05MB/255.2MB\n",
      "I0504 10:07:09.423246   13997 docker.go:556] pulling image seldonio/seldon-core-s2i-python3:0.16:  70.19MB/255.2MB\n",
      "I0504 10:07:09.530773   13997 docker.go:556] pulling image seldonio/seldon-core-s2i-python3:0.16:  80.77MB/255.2MB\n",
      "I0504 10:07:09.637387   13997 docker.go:556] pulling image seldonio/seldon-core-s2i-python3:0.16:  85.23MB/255.2MB\n",
      "I0504 10:07:09.740810   13997 docker.go:556] pulling image seldonio/seldon-core-s2i-python3:0.16:   90.8MB/255.2MB\n",
      "I0504 10:07:09.844011   13997 docker.go:556] pulling image seldonio/seldon-core-s2i-python3:0.16:  96.93MB/255.2MB\n",
      "I0504 10:07:09.954065   13997 docker.go:556] pulling image seldonio/seldon-core-s2i-python3:0.16:  106.4MB/255.2MB\n",
      "I0504 10:07:10.063898   13997 docker.go:556] pulling image seldonio/seldon-core-s2i-python3:0.16:  113.1MB/255.2MB\n",
      "I0504 10:07:10.172365   13997 docker.go:556] pulling image seldonio/seldon-core-s2i-python3:0.16:  120.9MB/255.2MB\n",
      "I0504 10:07:10.287663   13997 docker.go:556] pulling image seldonio/seldon-core-s2i-python3:0.16:  123.1MB/255.2MB\n",
      "I0504 10:07:10.410868   13997 docker.go:556] pulling image seldonio/seldon-core-s2i-python3:0.16:  124.8MB/255.2MB\n",
      "I0504 10:07:10.527390   13997 docker.go:556] pulling image seldonio/seldon-core-s2i-python3:0.16:  127.6MB/255.2MB\n",
      "I0504 10:07:10.649445   13997 docker.go:556] pulling image seldonio/seldon-core-s2i-python3:0.16:  130.4MB/255.2MB\n",
      "I0504 10:07:10.757591   13997 docker.go:556] pulling image seldonio/seldon-core-s2i-python3:0.16:    132MB/255.2MB\n",
      "I0504 10:07:10.873892   13997 docker.go:556] pulling image seldonio/seldon-core-s2i-python3:0.16:  134.3MB/255.2MB\n",
      "I0504 10:07:10.991414   13997 docker.go:556] pulling image seldonio/seldon-core-s2i-python3:0.16:  136.5MB/255.2MB\n",
      "I0504 10:07:11.097805   13997 docker.go:556] pulling image seldonio/seldon-core-s2i-python3:0.16:  138.1MB/255.2MB\n",
      "I0504 10:07:11.209435   13997 docker.go:556] pulling image seldonio/seldon-core-s2i-python3:0.16:  140.9MB/255.2MB\n",
      "I0504 10:07:11.325161   13997 docker.go:556] pulling image seldonio/seldon-core-s2i-python3:0.16:  143.7MB/255.2MB\n",
      "I0504 10:07:11.448776   13997 docker.go:556] pulling image seldonio/seldon-core-s2i-python3:0.16:  145.9MB/255.2MB\n",
      "I0504 10:07:11.585676   13997 docker.go:556] pulling image seldonio/seldon-core-s2i-python3:0.16:  148.2MB/255.2MB\n",
      "I0504 10:07:11.699385   13997 docker.go:556] pulling image seldonio/seldon-core-s2i-python3:0.16:  149.8MB/255.2MB\n",
      "I0504 10:07:11.817861   13997 docker.go:556] pulling image seldonio/seldon-core-s2i-python3:0.16:  152.1MB/255.2MB\n",
      "I0504 10:07:11.952208   13997 docker.go:556] pulling image seldonio/seldon-core-s2i-python3:0.16:  153.7MB/255.2MB\n",
      "I0504 10:07:12.052838   13997 docker.go:556] pulling image seldonio/seldon-core-s2i-python3:0.16:  157.1MB/255.2MB\n",
      "I0504 10:07:12.175109   13997 docker.go:556] pulling image seldonio/seldon-core-s2i-python3:0.16:  158.2MB/255.2MB\n",
      "I0504 10:07:12.283139   13997 docker.go:556] pulling image seldonio/seldon-core-s2i-python3:0.16:    161MB/255.2MB\n",
      "I0504 10:07:12.384314   13997 docker.go:556] pulling image seldonio/seldon-core-s2i-python3:0.16:  162.7MB/255.2MB\n",
      "I0504 10:07:12.487380   13997 docker.go:556] pulling image seldonio/seldon-core-s2i-python3:0.16:  163.8MB/255.2MB\n",
      "I0504 10:07:12.589341   13997 docker.go:556] pulling image seldonio/seldon-core-s2i-python3:0.16:    166MB/255.2MB\n",
      "I0504 10:07:12.690555   13997 docker.go:556] pulling image seldonio/seldon-core-s2i-python3:0.16:  168.2MB/255.2MB\n",
      "I0504 10:07:12.800350   13997 docker.go:556] pulling image seldonio/seldon-core-s2i-python3:0.16:  170.5MB/255.2MB\n",
      "I0504 10:07:12.929085   13997 docker.go:556] pulling image seldonio/seldon-core-s2i-python3:0.16:  172.1MB/255.2MB\n",
      "I0504 10:07:13.056727   13997 docker.go:556] pulling image seldonio/seldon-core-s2i-python3:0.16:  173.8MB/255.2MB\n",
      "I0504 10:07:13.162505   13997 docker.go:556] pulling image seldonio/seldon-core-s2i-python3:0.16:  175.5MB/255.2MB\n",
      "I0504 10:07:13.272065   13997 docker.go:556] pulling image seldonio/seldon-core-s2i-python3:0.16:  178.3MB/255.2MB\n",
      "I0504 10:07:13.407386   13997 docker.go:556] pulling image seldonio/seldon-core-s2i-python3:0.16:  179.9MB/255.2MB\n",
      "I0504 10:07:13.583866   13997 docker.go:556] pulling image seldonio/seldon-core-s2i-python3:0.16:    181MB/255.2MB\n",
      "I0504 10:07:13.702224   13997 docker.go:556] pulling image seldonio/seldon-core-s2i-python3:0.16:  182.2MB/255.2MB\n",
      "I0504 10:07:13.824007   13997 docker.go:556] pulling image seldonio/seldon-core-s2i-python3:0.16:  183.3MB/255.2MB\n",
      "I0504 10:07:13.926278   13997 docker.go:556] pulling image seldonio/seldon-core-s2i-python3:0.16:  184.4MB/255.2MB\n",
      "I0504 10:07:14.070601   13997 docker.go:556] pulling image seldonio/seldon-core-s2i-python3:0.16:  186.1MB/255.2MB\n",
      "I0504 10:07:14.226223   13997 docker.go:556] pulling image seldonio/seldon-core-s2i-python3:0.16:  187.2MB/255.2MB\n",
      "I0504 10:07:14.337502   13997 docker.go:556] pulling image seldonio/seldon-core-s2i-python3:0.16:  188.3MB/255.2MB\n",
      "I0504 10:07:14.440038   13997 docker.go:556] pulling image seldonio/seldon-core-s2i-python3:0.16:    190MB/255.2MB\n",
      "I0504 10:07:14.552772   13997 docker.go:556] pulling image seldonio/seldon-core-s2i-python3:0.16:  192.7MB/255.2MB\n",
      "I0504 10:07:14.669237   13997 docker.go:556] pulling image seldonio/seldon-core-s2i-python3:0.16:    195MB/255.2MB\n",
      "I0504 10:07:14.849217   13997 docker.go:556] pulling image seldonio/seldon-core-s2i-python3:0.16:  197.8MB/255.2MB\n",
      "I0504 10:07:14.981123   13997 docker.go:556] pulling image seldonio/seldon-core-s2i-python3:0.16:    200MB/255.2MB\n",
      "I0504 10:07:15.112624   13997 docker.go:556] pulling image seldonio/seldon-core-s2i-python3:0.16:  202.8MB/255.2MB\n",
      "I0504 10:07:15.220849   13997 docker.go:556] pulling image seldonio/seldon-core-s2i-python3:0.16:    205MB/255.2MB\n",
      "I0504 10:07:15.334807   13997 docker.go:556] pulling image seldonio/seldon-core-s2i-python3:0.16:  207.8MB/255.2MB\n",
      "I0504 10:07:15.445093   13997 docker.go:556] pulling image seldonio/seldon-core-s2i-python3:0.16:  210.6MB/255.2MB\n",
      "I0504 10:07:15.563414   13997 docker.go:556] pulling image seldonio/seldon-core-s2i-python3:0.16:  213.4MB/255.2MB\n",
      "I0504 10:07:15.675887   13997 docker.go:556] pulling image seldonio/seldon-core-s2i-python3:0.16:  215.6MB/255.2MB\n",
      "I0504 10:07:15.793359   13997 docker.go:556] pulling image seldonio/seldon-core-s2i-python3:0.16:  217.8MB/255.2MB\n",
      "I0504 10:07:15.909179   13997 docker.go:556] pulling image seldonio/seldon-core-s2i-python3:0.16:  221.2MB/255.2MB\n",
      "I0504 10:07:16.015828   13997 docker.go:556] pulling image seldonio/seldon-core-s2i-python3:0.16:  223.9MB/255.2MB\n",
      "I0504 10:07:16.128323   13997 docker.go:556] pulling image seldonio/seldon-core-s2i-python3:0.16:  226.7MB/255.2MB\n",
      "I0504 10:07:16.248021   13997 docker.go:556] pulling image seldonio/seldon-core-s2i-python3:0.16:  230.1MB/255.2MB\n",
      "I0504 10:07:16.357762   13997 docker.go:556] pulling image seldonio/seldon-core-s2i-python3:0.16:  232.8MB/255.2MB\n",
      "I0504 10:07:16.491864   13997 docker.go:556] pulling image seldonio/seldon-core-s2i-python3:0.16:  235.6MB/255.2MB\n",
      "I0504 10:07:16.593557   13997 docker.go:556] pulling image seldonio/seldon-core-s2i-python3:0.16:  237.9MB/255.2MB\n",
      "I0504 10:07:16.702040   13997 docker.go:556] pulling image seldonio/seldon-core-s2i-python3:0.16:  240.6MB/255.2MB\n"
     ]
    },
    {
     "name": "stdout",
     "output_type": "stream",
     "text": [
      "I0504 10:07:16.804288   13997 docker.go:556] pulling image seldonio/seldon-core-s2i-python3:0.16:  242.9MB/255.2MB\n",
      "I0504 10:07:16.958097   13997 docker.go:556] pulling image seldonio/seldon-core-s2i-python3:0.16:  244.5MB/255.2MB\n",
      "I0504 10:07:17.100676   13997 docker.go:556] pulling image seldonio/seldon-core-s2i-python3:0.16:  245.7MB/255.2MB\n",
      "I0504 10:07:17.217166   13997 docker.go:556] pulling image seldonio/seldon-core-s2i-python3:0.16:  246.8MB/255.2MB\n",
      "I0504 10:07:17.332295   13997 docker.go:556] pulling image seldonio/seldon-core-s2i-python3:0.16:  248.4MB/255.2MB\n",
      "I0504 10:07:17.435623   13997 docker.go:556] pulling image seldonio/seldon-core-s2i-python3:0.16:  250.1MB/255.2MB\n",
      "I0504 10:07:17.579408   13997 docker.go:556] pulling image seldonio/seldon-core-s2i-python3:0.16:  251.8MB/255.2MB\n",
      "I0504 10:07:17.697374   13997 docker.go:556] pulling image seldonio/seldon-core-s2i-python3:0.16:  253.5MB/255.2MB\n",
      "I0504 10:07:17.817975   13997 docker.go:556] pulling image seldonio/seldon-core-s2i-python3:0.16:  255.1MB/255.2MB\n",
      "I0504 10:07:17.833957   13997 docker.go:556] pulling image seldonio/seldon-core-s2i-python3:0.16:  255.2MB/255.2MB\n",
      "I0504 10:07:18.062514   13997 docker.go:556] pulling image seldonio/seldon-core-s2i-python3:0.16: \n",
      "I0504 10:07:18.075870   13997 docker.go:556] pulling image seldonio/seldon-core-s2i-python3:0.16:  1.549kB/1.549kB\n",
      "I0504 10:07:18.078346   13997 docker.go:556] pulling image seldonio/seldon-core-s2i-python3:0.16:  1.549kB/1.549kB\n",
      "I0504 10:07:18.131668   13997 docker.go:556] pulling image seldonio/seldon-core-s2i-python3:0.16: \n",
      "I0504 10:07:18.159636   13997 build.go:163] \n",
      "Builder Image:\t\t\tseldonio/seldon-core-s2i-python3:0.16\n",
      "Source:\t\t\t\t.\n",
      "Output Image Tag:\t\tmodel-with-feedback-rest:0.1\n",
      "Environment:\t\t\tMODEL_NAME=ModelWithFeedback,API_TYPE=REST,SERVICE_TYPE=MODEL,PERSISTENCE=0\n",
      "Environment File:\t\tenvironment_rest\n",
      "Labels:\t\t\t\t\n",
      "Incremental Build:\t\tdisabled\n",
      "Remove Old Build:\t\tdisabled\n",
      "Builder Pull Policy:\t\tif-not-present\n",
      "Previous Image Pull Policy:\tif-not-present\n",
      "Quiet:\t\t\t\tdisabled\n",
      "Layered Build:\t\t\tdisabled\n",
      "Docker Endpoint:\t\ttcp://192.168.39.222:2376\n",
      "Docker Pull Config:\t\t/home/clive/.docker/config.json\n",
      "Docker Pull User:\t\tcliveseldon\n",
      "\n",
      "I0504 10:07:18.162112   13997 docker.go:488] Using locally available image \"seldonio/seldon-core-s2i-python3:0.16\"\n",
      "I0504 10:07:18.169550   13997 docker.go:488] Using locally available image \"seldonio/seldon-core-s2i-python3:0.16\"\n",
      "I0504 10:07:18.169571   13997 docker.go:728] Image sha256:9162e0413537608f8056c82d3059288fbc39e9c4fac95769f980e33a344beb94 contains io.openshift.s2i.scripts-url set to \"image:///s2i/bin\"\n",
      "I0504 10:07:18.169585   13997 scm.go:20] DownloadForSource .\n",
      "I0504 10:07:18.169626   13997 sti.go:204] Preparing to build model-with-feedback-rest:0.1\n",
      "I0504 10:07:18.169806   13997 download.go:37] Copying sources from \".\" to \"/tmp/s2i539374798/upload/src\"\n",
      "I0504 10:07:18.169915   13997 fs.go:260] F \"contract.json\" -> \"/tmp/s2i539374798/upload/src/contract.json\"\n",
      "I0504 10:07:18.169996   13997 fs.go:260] F \"deployment-rest.json\" -> \"/tmp/s2i539374798/upload/src/deployment-rest.json\"\n",
      "I0504 10:07:18.170053   13997 fs.go:260] F \"environment_rest\" -> \"/tmp/s2i539374798/upload/src/environment_rest\"\n",
      "I0504 10:07:18.170107   13997 fs.go:260] F \"deployment-grpc.json\" -> \"/tmp/s2i539374798/upload/src/deployment-grpc.json\"\n",
      "I0504 10:07:18.170151   13997 fs.go:247] D \".ipynb_checkpoints\" -> \"/tmp/s2i539374798/upload/src/.ipynb_checkpoints\"\n",
      "I0504 10:07:18.170229   13997 fs.go:260] F \".ipynb_checkpoints/modelWithFeedback-checkpoint.ipynb\" -> \"/tmp/s2i539374798/upload/src/.ipynb_checkpoints/modelWithFeedback-checkpoint.ipynb\"\n",
      "I0504 10:07:18.170300   13997 fs.go:260] F \".ipynb_checkpoints/complex_model-checkpoint.ipynb\" -> \"/tmp/s2i539374798/upload/src/.ipynb_checkpoints/complex_model-checkpoint.ipynb\"\n",
      "I0504 10:07:18.170371   13997 fs.go:260] F \"ModelWithFeedback.py\" -> \"/tmp/s2i539374798/upload/src/ModelWithFeedback.py\"\n",
      "I0504 10:07:18.170425   13997 fs.go:260] F \"environment_grpc\" -> \"/tmp/s2i539374798/upload/src/environment_grpc\"\n",
      "I0504 10:07:18.170483   13997 fs.go:260] F \"modelWithFeedback.ipynb\" -> \"/tmp/s2i539374798/upload/src/modelWithFeedback.ipynb\"\n",
      "I0504 10:07:18.170564   13997 install.go:261] Using \"assemble\" installed from \"image:///s2i/bin/assemble\"\n",
      "I0504 10:07:18.170586   13997 install.go:261] Using \"run\" installed from \"image:///s2i/bin/run\"\n",
      "I0504 10:07:18.170604   13997 install.go:261] Using \"save-artifacts\" installed from \"image:///s2i/bin/save-artifacts\"\n",
      "I0504 10:07:18.170627   13997 ignore.go:64] .s2iignore file does not exist\n",
      "I0504 10:07:18.170639   13997 sti.go:213] Clean build will be performed\n",
      "I0504 10:07:18.170647   13997 sti.go:216] Performing source build from .\n",
      "I0504 10:07:18.170656   13997 sti.go:227] Running \"assemble\" in \"model-with-feedback-rest:0.1\"\n",
      "I0504 10:07:18.170663   13997 sti.go:585] Using image name seldonio/seldon-core-s2i-python3:0.16\n",
      "I0504 10:07:18.172517   13997 docker.go:488] Using locally available image \"seldonio/seldon-core-s2i-python3:0.16\"\n",
      "I0504 10:07:18.172545   13997 sti.go:465] No user environment provided (no environment file found in application sources)\n",
      "I0504 10:07:18.172651   13997 sti.go:703] starting the source uploading ...\n",
      "I0504 10:07:18.172664   13997 tar.go:217] Adding \"/tmp/s2i539374798/upload\" to tar ...\n",
      "I0504 10:07:18.172739   13997 tar.go:312] Adding to tar: /tmp/s2i539374798/upload/scripts as scripts\n",
      "I0504 10:07:18.176239   13997 docker.go:728] Image sha256:9162e0413537608f8056c82d3059288fbc39e9c4fac95769f980e33a344beb94 contains io.openshift.s2i.scripts-url set to \"image:///s2i/bin\"\n",
      "I0504 10:07:18.176256   13997 docker.go:803] Base directory for S2I scripts is '/s2i/bin'. Untarring destination is '/tmp'.\n",
      "I0504 10:07:18.176270   13997 docker.go:959] Setting \"/bin/sh -c tar -C /tmp -xf - && /s2i/bin/assemble\" command for container ...\n",
      "I0504 10:07:18.176372   13997 docker.go:968] Creating container with options {Name:\"s2i_seldonio_seldon_core_s2i_python3_0_6_e09fb601\" Config:{Hostname: Domainname: User: AttachStdin:false AttachStdout:true AttachStderr:false ExposedPorts:map[] Tty:false OpenStdin:true StdinOnce:true Env:[MODEL_NAME=ModelWithFeedback API_TYPE=REST SERVICE_TYPE=MODEL PERSISTENCE=0] Cmd:[/bin/sh -c tar -C /tmp -xf - && /s2i/bin/assemble] Healthcheck:<nil> ArgsEscaped:false Image:seldonio/seldon-core-s2i-python3:0.16 Volumes:map[] WorkingDir: Entrypoint:[] NetworkDisabled:false MacAddress: OnBuild:[] Labels:map[] StopSignal: StopTimeout:<nil> Shell:[]} HostConfig:&{Binds:[] ContainerIDFile: LogConfig:{Type: Config:map[]} NetworkMode: PortBindings:map[] RestartPolicy:{Name: MaximumRetryCount:0} AutoRemove:false VolumeDriver: VolumesFrom:[] CapAdd:[] CapDrop:[] DNS:[] DNSOptions:[] DNSSearch:[] ExtraHosts:[] GroupAdd:[] IpcMode: Cgroup: Links:[] OomScoreAdj:0 PidMode: Privileged:false PublishAllPorts:false ReadonlyRootfs:false SecurityOpt:[] StorageOpt:map[] Tmpfs:map[] UTSMode: UsernsMode: ShmSize:67108864 Sysctls:map[] Runtime: ConsoleSize:[0 0] Isolation: Resources:{CPUShares:0 Memory:0 NanoCPUs:0 CgroupParent: BlkioWeight:0 BlkioWeightDevice:[] BlkioDeviceReadBps:[] BlkioDeviceWriteBps:[] BlkioDeviceReadIOps:[] BlkioDeviceWriteIOps:[] CPUPeriod:0 CPUQuota:0 CPURealtimePeriod:0 CPURealtimeRuntime:0 CpusetCpus: CpusetMems: Devices:[] DeviceCgroupRules:[] DiskQuota:0 KernelMemory:0 MemoryReservation:0 MemorySwap:0 MemorySwappiness:<nil> OomKillDisable:<nil> PidsLimit:0 Ulimits:[] CPUCount:0 CPUPercent:0 IOMaximumIOps:0 IOMaximumBandwidth:0} Mounts:[] Init:<nil>}} ...\n",
      "I0504 10:07:18.992142   13997 docker.go:1000] Attaching to container \"1c56a99456e9e1437b41d6ad1a05bc7894f4396fdc90fb47cc1a6b315c6e30ba\" ...\n",
      "I0504 10:07:18.999180   13997 docker.go:1011] Starting container \"1c56a99456e9e1437b41d6ad1a05bc7894f4396fdc90fb47cc1a6b315c6e30ba\" ...\n",
      "I0504 10:07:19.345397   13997 tar.go:312] Adding to tar: /tmp/s2i539374798/upload/src as src\n",
      "I0504 10:07:19.345459   13997 tar.go:312] Adding to tar: /tmp/s2i539374798/upload/src/.ipynb_checkpoints as src/.ipynb_checkpoints\n",
      "I0504 10:07:19.345522   13997 tar.go:312] Adding to tar: /tmp/s2i539374798/upload/src/.ipynb_checkpoints/complex_model-checkpoint.ipynb as src/.ipynb_checkpoints/complex_model-checkpoint.ipynb\n",
      "I0504 10:07:19.345605   13997 tar.go:312] Adding to tar: /tmp/s2i539374798/upload/src/.ipynb_checkpoints/modelWithFeedback-checkpoint.ipynb as src/.ipynb_checkpoints/modelWithFeedback-checkpoint.ipynb\n",
      "I0504 10:07:19.345665   13997 tar.go:312] Adding to tar: /tmp/s2i539374798/upload/src/ModelWithFeedback.py as src/ModelWithFeedback.py\n",
      "I0504 10:07:19.345719   13997 tar.go:312] Adding to tar: /tmp/s2i539374798/upload/src/contract.json as src/contract.json\n",
      "I0504 10:07:19.345774   13997 tar.go:312] Adding to tar: /tmp/s2i539374798/upload/src/deployment-grpc.json as src/deployment-grpc.json\n",
      "I0504 10:07:19.345822   13997 tar.go:312] Adding to tar: /tmp/s2i539374798/upload/src/deployment-rest.json as src/deployment-rest.json\n",
      "I0504 10:07:19.345867   13997 tar.go:312] Adding to tar: /tmp/s2i539374798/upload/src/environment_grpc as src/environment_grpc\n",
      "I0504 10:07:19.345914   13997 tar.go:312] Adding to tar: /tmp/s2i539374798/upload/src/environment_rest as src/environment_rest\n",
      "I0504 10:07:19.345961   13997 tar.go:312] Adding to tar: /tmp/s2i539374798/upload/src/modelWithFeedback.ipynb as src/modelWithFeedback.ipynb\n",
      "I0504 10:07:19.357690   13997 sti.go:711] ---> Installing application source...\n"
     ]
    },
    {
     "name": "stdout",
     "output_type": "stream",
     "text": [
      "I0504 10:07:19.403315   13997 docker.go:1042] Waiting for container \"1c56a99456e9e1437b41d6ad1a05bc7894f4396fdc90fb47cc1a6b315c6e30ba\" to stop ...\n",
      "I0504 10:07:19.518598   13997 docker.go:1067] Invoking PostExecute function\n",
      "I0504 10:07:19.518611   13997 postexecutorstep.go:68] Skipping step: store previous image\n",
      "I0504 10:07:19.518616   13997 postexecutorstep.go:117] Executing step: commit image\n",
      "I0504 10:07:19.519624   13997 postexecutorstep.go:523] Checking for new Labels to apply... \n",
      "I0504 10:07:19.519634   13997 postexecutorstep.go:531] Creating the download path '/tmp/s2i539374798/metadata'\n",
      "I0504 10:07:19.519687   13997 postexecutorstep.go:465] Downloading file \"/tmp/.s2i/image_metadata.json\"\n",
      "I0504 10:07:19.569060   13997 postexecutorstep.go:539] unable to download and extract 'image_metadata.json' ... continuing\n",
      "I0504 10:07:19.571303   13997 docker.go:1101] Committing container with dockerOpts: {Reference:model-with-feedback-rest:0.1 Comment: Author: Changes:[] Pause:false Config:0xc4201cc8c0}, config: {Hostname: Domainname: User: AttachStdin:false AttachStdout:false AttachStderr:false ExposedPorts:map[] Tty:false OpenStdin:false StdinOnce:false Env:[MODEL_NAME=ModelWithFeedback API_TYPE=REST SERVICE_TYPE=MODEL PERSISTENCE=0] Cmd:[/s2i/bin/run] Healthcheck:<nil> ArgsEscaped:false Image: Volumes:map[] WorkingDir: Entrypoint:[] NetworkDisabled:false MacAddress: OnBuild:[] Labels:map[io.openshift.s2i.build.image:seldonio/seldon-core-s2i-python3:0.16 io.openshift.s2i.build.source-location:. io.openshift.s2i.scripts-url:image:///s2i/bin io.k8s.display-name:model-with-feedback-rest:0.1] StopSignal: StopTimeout:<nil> Shell:[]}\n",
      "I0504 10:07:19.659258   13997 postexecutorstep.go:393] Executing step: report success\n",
      "I0504 10:07:19.659272   13997 postexecutorstep.go:398] Successfully built model-with-feedback-rest:0.1\n",
      "I0504 10:07:19.659277   13997 postexecutorstep.go:93] Skipping step: remove previous image\n",
      "I0504 10:07:19.659323   13997 docker.go:978] Removing container \"1c56a99456e9e1437b41d6ad1a05bc7894f4396fdc90fb47cc1a6b315c6e30ba\" ...\n",
      "I0504 10:07:19.670084   13997 docker.go:988] Removed container \"1c56a99456e9e1437b41d6ad1a05bc7894f4396fdc90fb47cc1a6b315c6e30ba\"\n",
      "I0504 10:07:19.670244   13997 cleanup.go:33] Removing temporary directory /tmp/s2i539374798\n",
      "I0504 10:07:19.670252   13997 fs.go:302] Removing directory '/tmp/s2i539374798'\n",
      "I0504 10:07:19.670520   13997 build.go:175] Build completed successfully\n"
     ]
    }
   ],
   "source": [
    "!eval $(minikube docker-env) && s2i build -E environment_rest . seldonio/seldon-core-s2i-python3:0.16 model-with-feedback-rest:0.1 --loglevel 5"
   ]
  },
  {
   "cell_type": "code",
   "execution_count": 39,
   "metadata": {},
   "outputs": [
    {
     "name": "stdout",
     "output_type": "stream",
     "text": [
      "seldondeployment.machinelearning.seldon.io/mymodel created\r\n"
     ]
    }
   ],
   "source": [
    "!kubectl create -f deployment-rest.json"
   ]
  },
  {
   "cell_type": "code",
   "execution_count": 42,
   "metadata": {},
   "outputs": [
    {
     "name": "stdout",
     "output_type": "stream",
     "text": [
      "deployment \"mymodel-mymodel-09f8ccd\" successfully rolled out\r\n"
     ]
    }
   ],
   "source": [
    "!kubectl rollout status deploy/mymodel-mymodel-09f8ccd"
   ]
  },
  {
   "cell_type": "markdown",
   "metadata": {},
   "source": [
    "## Test predict"
   ]
  },
  {
   "cell_type": "code",
   "execution_count": 44,
   "metadata": {},
   "outputs": [
    {
     "name": "stdout",
     "output_type": "stream",
     "text": [
      "----------------------------------------\n",
      "SENDING NEW REQUEST:\n",
      "\n",
      "[[5.088 4.905 3.444 1.005]]\n",
      "RECEIVED RESPONSE:\n",
      "meta {\n",
      "  puid: \"f119ao14i6u2rr0pv5dgig8roa\"\n",
      "  requestPath {\n",
      "    key: \"complex-model\"\n",
      "    value: \"model-with-feedback-rest:0.1\"\n",
      "  }\n",
      "}\n",
      "data {\n",
      "  names: \"t:0\"\n",
      "  names: \"t:1\"\n",
      "  names: \"t:2\"\n",
      "  names: \"t:3\"\n",
      "  ndarray {\n",
      "    values {\n",
      "      list_value {\n",
      "        values {\n",
      "          number_value: 5.088\n",
      "        }\n",
      "        values {\n",
      "          number_value: 4.905\n",
      "        }\n",
      "        values {\n",
      "          number_value: 3.444\n",
      "        }\n",
      "        values {\n",
      "          number_value: 1.005\n",
      "        }\n",
      "      }\n",
      "    }\n",
      "  }\n",
      "}\n",
      "\n",
      "\n"
     ]
    }
   ],
   "source": [
    "!seldon-core-api-tester contract.json `minikube ip` `kubectl get svc ambassador -o jsonpath='{.spec.ports[0].nodePort}'` \\\n",
    "    mymodel --namespace default -p"
   ]
  },
  {
   "cell_type": "markdown",
   "metadata": {},
   "source": [
    "## Test feedback"
   ]
  },
  {
   "cell_type": "code",
   "execution_count": 45,
   "metadata": {},
   "outputs": [
    {
     "name": "stdout",
     "output_type": "stream",
     "text": [
      "RECEIVED RESPONSE:\r\n",
      "Success:True message:\r\n",
      "Request:\r\n",
      "request {\r\n",
      "  data {\r\n",
      "    tensor {\r\n",
      "      shape: 1\r\n",
      "      shape: 4\r\n",
      "      values: 7.038\r\n",
      "      values: 4.9\r\n",
      "      values: 8.671\r\n",
      "      values: 2.599\r\n",
      "    }\r\n",
      "  }\r\n",
      "}\r\n",
      "response {\r\n",
      "  meta {\r\n",
      "    puid: \"9mcgb30f442ll01qks2k5rr00q\"\r\n",
      "    requestPath {\r\n",
      "      key: \"complex-model\"\r\n",
      "      value: \"model-with-feedback-rest:0.1\"\r\n",
      "    }\r\n",
      "  }\r\n",
      "  data {\r\n",
      "    names: \"t:0\"\r\n",
      "    names: \"t:1\"\r\n",
      "    names: \"t:2\"\r\n",
      "    names: \"t:3\"\r\n",
      "    tensor {\r\n",
      "      shape: 1\r\n",
      "      shape: 4\r\n",
      "      values: 7.038\r\n",
      "      values: 4.9\r\n",
      "      values: 8.671\r\n",
      "      values: 2.599\r\n",
      "    }\r\n",
      "  }\r\n",
      "}\r\n",
      "reward: 1.0\r\n",
      "\r\n",
      "Response:\r\n",
      "\r\n",
      "\r\n"
     ]
    }
   ],
   "source": [
    "!seldon-core-api-tester contract.json `minikube ip` `kubectl get svc ambassador -o jsonpath='{.spec.ports[0].nodePort}'` \\\n",
    "   mymodel --namespace default -p --endpoint send-feedback "
   ]
  },
  {
   "cell_type": "code",
   "execution_count": 46,
   "metadata": {},
   "outputs": [
    {
     "name": "stdout",
     "output_type": "stream",
     "text": [
      "seldondeployment.machinelearning.seldon.io \"mymodel\" deleted\r\n"
     ]
    }
   ],
   "source": [
    "!kubectl delete -f deployment-rest.json"
   ]
  },
  {
   "cell_type": "markdown",
   "metadata": {},
   "source": [
    "# gRPC"
   ]
  },
  {
   "cell_type": "code",
   "execution_count": 47,
   "metadata": {},
   "outputs": [
    {
     "name": "stdout",
     "output_type": "stream",
     "text": [
      "---> Installing application source...\n",
      "Build completed successfully\n"
     ]
    }
   ],
   "source": [
    "!eval $(minikube docker-env) && s2i build -E environment_grpc . seldonio/seldon-core-s2i-python3:0.16 model-with-feedback-grpc:0.1"
   ]
  },
  {
   "cell_type": "code",
   "execution_count": 48,
   "metadata": {},
   "outputs": [
    {
     "name": "stdout",
     "output_type": "stream",
     "text": [
      "seldondeployment.machinelearning.seldon.io/mymodel created\r\n"
     ]
    }
   ],
   "source": [
    "!kubectl create -f deployment-grpc.json"
   ]
  },
  {
   "cell_type": "code",
   "execution_count": 49,
   "metadata": {},
   "outputs": [
    {
     "name": "stdout",
     "output_type": "stream",
     "text": [
      "Waiting for deployment \"mymodel-mymodel-89dbe9b\" rollout to finish: 0 of 1 updated replicas are available...\n",
      "deployment \"mymodel-mymodel-89dbe9b\" successfully rolled out\n"
     ]
    }
   ],
   "source": [
    "!kubectl rollout status deploy/mymodel-mymodel-89dbe9b"
   ]
  },
  {
   "cell_type": "markdown",
   "metadata": {},
   "source": [
    "## Test predict"
   ]
  },
  {
   "cell_type": "code",
   "execution_count": 52,
   "metadata": {},
   "outputs": [
    {
     "name": "stdout",
     "output_type": "stream",
     "text": [
      "----------------------------------------\n",
      "SENDING NEW REQUEST:\n",
      "\n",
      "[[6.876 4.935 3.355 2.282]]\n",
      "RECEIVED RESPONSE:\n",
      "meta {\n",
      "  puid: \"eg510dp6dkobgah13ckn0n003h\"\n",
      "  requestPath {\n",
      "    key: \"complex-model\"\n",
      "    value: \"model-with-feedback-grpc:0.1\"\n",
      "  }\n",
      "}\n",
      "data {\n",
      "  names: \"t:0\"\n",
      "  names: \"t:1\"\n",
      "  names: \"t:2\"\n",
      "  names: \"t:3\"\n",
      "  ndarray {\n",
      "    values {\n",
      "      list_value {\n",
      "        values {\n",
      "          number_value: 6.876\n",
      "        }\n",
      "        values {\n",
      "          number_value: 4.935\n",
      "        }\n",
      "        values {\n",
      "          number_value: 3.355\n",
      "        }\n",
      "        values {\n",
      "          number_value: 2.282\n",
      "        }\n",
      "      }\n",
      "    }\n",
      "  }\n",
      "}\n",
      "\n",
      "\n"
     ]
    }
   ],
   "source": [
    "!seldon-core-api-tester contract.json `minikube ip` `kubectl get svc ambassador -o jsonpath='{.spec.ports[0].nodePort}'` \\\n",
    "    mymodel --namespace default -p --grpc"
   ]
  },
  {
   "cell_type": "markdown",
   "metadata": {},
   "source": [
    "## Test feedback"
   ]
  },
  {
   "cell_type": "code",
   "execution_count": 54,
   "metadata": {},
   "outputs": [
    {
     "name": "stdout",
     "output_type": "stream",
     "text": [
      "RECEIVED RESPONSE:\r\n",
      "Success:True message:\r\n",
      "Request:\r\n",
      "request {\r\n",
      "  data {\r\n",
      "    tensor {\r\n",
      "      shape: 1\r\n",
      "      shape: 4\r\n",
      "      values: 6.06\r\n",
      "      values: 2.838\r\n",
      "      values: 3.649\r\n",
      "      values: 2.901\r\n",
      "    }\r\n",
      "  }\r\n",
      "}\r\n",
      "response {\r\n",
      "  meta {\r\n",
      "    puid: \"78t5phalicb7cggnj6i71el9ta\"\r\n",
      "    requestPath {\r\n",
      "      key: \"complex-model\"\r\n",
      "      value: \"model-with-feedback-grpc:0.1\"\r\n",
      "    }\r\n",
      "  }\r\n",
      "  data {\r\n",
      "    names: \"t:0\"\r\n",
      "    names: \"t:1\"\r\n",
      "    names: \"t:2\"\r\n",
      "    names: \"t:3\"\r\n",
      "    tensor {\r\n",
      "      shape: 1\r\n",
      "      shape: 4\r\n",
      "      values: 6.06\r\n",
      "      values: 2.838\r\n",
      "      values: 3.649\r\n",
      "      values: 2.901\r\n",
      "    }\r\n",
      "  }\r\n",
      "}\r\n",
      "reward: 1.0\r\n",
      "\r\n",
      "Response:\r\n",
      "\r\n",
      "\r\n"
     ]
    }
   ],
   "source": [
    "!seldon-core-api-tester contract.json `minikube ip` `kubectl get svc ambassador -o jsonpath='{.spec.ports[0].nodePort}'` \\\n",
    "    mymodel --namespace default -p --endpoint send-feedback --grpc"
   ]
  },
  {
   "cell_type": "code",
   "execution_count": 55,
   "metadata": {},
   "outputs": [
    {
     "name": "stdout",
     "output_type": "stream",
     "text": [
      "seldondeployment.machinelearning.seldon.io \"mymodel\" deleted\r\n"
     ]
    }
   ],
   "source": [
    "!kubectl delete -f deployment-grpc.json"
   ]
  },
  {
   "cell_type": "code",
   "execution_count": null,
   "metadata": {},
   "outputs": [],
   "source": [
    "!minikube delete"
   ]
  },
  {
   "cell_type": "code",
   "execution_count": null,
   "metadata": {},
   "outputs": [],
   "source": []
  }
 ],
 "metadata": {
  "kernelspec": {
   "display_name": "Python 3",
   "language": "python",
   "name": "python3"
  },
  "language_info": {
   "codemirror_mode": {
    "name": "ipython",
    "version": 3
   },
   "file_extension": ".py",
   "mimetype": "text/x-python",
   "name": "python",
   "nbconvert_exporter": "python",
   "pygments_lexer": "ipython3",
   "version": "3.7.5"
  }
 },
 "nbformat": 4,
 "nbformat_minor": 2
}
