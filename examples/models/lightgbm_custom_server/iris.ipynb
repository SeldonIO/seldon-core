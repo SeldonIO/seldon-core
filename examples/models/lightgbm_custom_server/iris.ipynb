{
 "cells": [
  {
   "cell_type": "markdown",
   "id": "9893b7fc",
   "metadata": {},
   "source": [
    "# Custom LightGBM Prepackaged Model Server\n",
    "\n",
    "In this notebook we create a new custom LIGHTGBM_SERVER prepackaged server with two versions:\n",
    "   * A Seldon protocol LightGBM model server\n",
    "   * A KfServing V2 protocol version using MLServer for running lightgbm models\n",
    "\n",
    "The Seldon model server is in defined in `lightgbmserver` folder.\n",
    "\n",
    "## Prerequisites\n",
    "\n",
    " * A kubernetes cluster with kubectl configured\n",
    " * curl\n",
    "\n",
    "## Setup Seldon Core\n",
    "\n",
    "Use the setup notebook to [Setup Cluster](https://docs.seldon.io/projects/seldon-core/en/latest/examples/seldon_core_setup.html) to setup Seldon Core with an ingress - either Ambassador or Istio.\n",
    "\n",
    "Then port-forward to that ingress on localhost:8003 in a separate terminal either with:\n",
    "\n",
    " * Ambassador: `kubectl port-forward $(kubectl get pods -n seldon -l app.kubernetes.io/name=ambassador -o jsonpath='{.items[0].metadata.name}') -n seldon 8003:8080`\n",
    " * Istio: `kubectl port-forward $(kubectl get pods -l istio=ingressgateway -n istio-system -o jsonpath='{.items[0].metadata.name}') -n istio-system 8003:8080`"
   ]
  },
  {
   "cell_type": "code",
   "execution_count": null,
   "id": "a60a8353",
   "metadata": {},
   "outputs": [],
   "source": [
    "!kubectl create namespace seldon"
   ]
  },
  {
   "cell_type": "code",
   "execution_count": null,
   "id": "2e70d73e",
   "metadata": {},
   "outputs": [],
   "source": [
    "from IPython.core.magic import register_line_cell_magic\n",
    "\n",
    "\n",
    "@register_line_cell_magic\n",
    "def writetemplate(line, cell):\n",
    "    with open(line, \"w\") as f:\n",
    "        f.write(cell.format(**globals()))"
   ]
  },
  {
   "cell_type": "code",
   "execution_count": null,
   "id": "d876e7c0",
   "metadata": {},
   "outputs": [],
   "source": [
    "VERSION = !cat ../../../version.txt\n",
    "VERSION = VERSION[0]\n",
    "VERSION"
   ]
  },
  {
   "cell_type": "markdown",
   "id": "d564a1bb",
   "metadata": {},
   "source": [
    "## Training (can be skipped)"
   ]
  },
  {
   "cell_type": "code",
   "execution_count": null,
   "id": "cad84c6b",
   "metadata": {},
   "outputs": [],
   "source": [
    "TRAIN_MODEL = False\n",
    "if TRAIN_MODEL:\n",
    "    import os\n",
    "\n",
    "    import joblib\n",
    "    import lightgbm as lgb\n",
    "    from sklearn import datasets\n",
    "    from sklearn.datasets import load_iris\n",
    "    from sklearn.model_selection import train_test_split\n",
    "\n",
    "    model_dir = \"./artifacts\"\n",
    "    BST_FILE = \"model.txt\"\n",
    "\n",
    "    iris = load_iris()\n",
    "    y = iris[\"target\"]\n",
    "    X = iris[\"data\"]\n",
    "    X_train, X_test, y_train, y_test = train_test_split(X, y, test_size=0.1)\n",
    "    dtrain = lgb.Dataset(X_train, label=y_train)\n",
    "\n",
    "    params = {\"objective\": \"multiclass\", \"metric\": \"softmax\", \"num_class\": 3}\n",
    "    lgb_model = lgb.train(params=params, train_set=dtrain)\n",
    "    model_file = os.path.join(model_dir, BST_FILE)\n",
    "    lgb_model.save_model(model_file)"
   ]
  },
  {
   "cell_type": "markdown",
   "id": "e64cac3b",
   "metadata": {},
   "source": [
    "## Update Seldon Core with Custom Model"
   ]
  },
  {
   "cell_type": "code",
   "execution_count": null,
   "id": "cb889019",
   "metadata": {},
   "outputs": [],
   "source": [
    "%%writetemplate values.yaml\n",
    "predictor_servers:\n",
    "  MLFLOW_SERVER:\n",
    "    protocols:\n",
    "      seldon:\n",
    "        defaultImageVersion: \"{VERSION}\"\n",
    "        image: seldonio/mlflowserver\n",
    "  SKLEARN_SERVER:\n",
    "    protocols:\n",
    "      seldon:\n",
    "        defaultImageVersion: \"{VERSION}\"\n",
    "        image: seldonio/sklearnserver\n",
    "      kfserving:\n",
    "        defaultImageVersion: \"0.3.2\"\n",
    "        image: seldonio/mlserver\n",
    "  TENSORFLOW_SERVER:\n",
    "    protocols:\n",
    "      seldon:\n",
    "        defaultImageVersion: \"{VERSION}\"\n",
    "        image: seldonio/tfserving-proxy\n",
    "      tensorflow: \n",
    "        defaultImageVersion: 2.1.0\n",
    "        image:  tensorflow/serving\n",
    "  XGBOOST_SERVER:\n",
    "    protocols:\n",
    "      seldon:\n",
    "        defaultImageVersion: \"{VERSION}\"\n",
    "        image: seldonio/xgboostserver\n",
    "      kfserving:\n",
    "        defaultImageVersion: \"0.3.2\"\n",
    "        image: seldonio/mlserver\n",
    "  LIGHTGBM_SERVER:\n",
    "    protocols:\n",
    "      seldon:\n",
    "        defaultImageVersion: \"{VERSION}\"\n",
    "        image: seldonio/lighgbmserver\n",
    "      kfserving:\n",
    "        defaultImageVersion: \"0.3.2\"\n",
    "        image: seldonio/mlserver\n",
    "  TRITON_SERVER:\n",
    "    protocols:\n",
    "      kfserving:\n",
    "        defaultImageVersion: \"20.08-py3\"\n",
    "        image: nvcr.io/nvidia/tritonserver\n",
    "  TEMPO_SERVER:\n",
    "    protocols:\n",
    "      kfserving:\n",
    "        defaultImageVersion: \"0.3.2\"\n",
    "        image: seldonio/mlserver\n"
   ]
  },
  {
   "cell_type": "code",
   "execution_count": null,
   "id": "af9695e7",
   "metadata": {},
   "outputs": [],
   "source": [
    "!helm upgrade seldon-core  \\\n",
    "    ../../../helm-charts/seldon-core-operator \\\n",
    "    --namespace seldon-system \\\n",
    "    --values values.yaml \\\n",
    "    --set istio.enabled=true"
   ]
  },
  {
   "cell_type": "markdown",
   "id": "cd4fc5b7",
   "metadata": {},
   "source": [
    "## DeployLightGBM Model with Seldon Protocol"
   ]
  },
  {
   "cell_type": "code",
   "execution_count": null,
   "id": "1d4050e1",
   "metadata": {},
   "outputs": [],
   "source": [
    "!cat model_seldon_v1.yaml"
   ]
  },
  {
   "cell_type": "markdown",
   "id": "925ac571",
   "metadata": {},
   "source": [
    "Wait for new webhook certificates to be loaded"
   ]
  },
  {
   "cell_type": "code",
   "execution_count": null,
   "id": "f30e84d0",
   "metadata": {},
   "outputs": [],
   "source": [
    "import time\n",
    "\n",
    "time.sleep(60)"
   ]
  },
  {
   "cell_type": "code",
   "execution_count": null,
   "id": "eb61cba5",
   "metadata": {
    "scrolled": true
   },
   "outputs": [],
   "source": [
    "!kubectl create -f model_seldon_v1.yaml -n seldon"
   ]
  },
  {
   "cell_type": "code",
   "execution_count": null,
   "id": "80629999",
   "metadata": {},
   "outputs": [],
   "source": [
    "!kubectl rollout status deploy/$(kubectl get deploy -l seldon-deployment-id=iris -o jsonpath='{.items[0].metadata.name}' -n seldon) -n seldon"
   ]
  },
  {
   "cell_type": "code",
   "execution_count": null,
   "id": "7238d33c",
   "metadata": {},
   "outputs": [],
   "source": [
    "for i in range(60):\n",
    "    state = !kubectl get sdep iris -n seldon -o jsonpath='{.status.state}'\n",
    "    state = state[0]\n",
    "    print(state)\n",
    "    if state == \"Available\":\n",
    "        break\n",
    "    time.sleep(1)\n",
    "assert state == \"Available\""
   ]
  },
  {
   "cell_type": "code",
   "execution_count": null,
   "id": "fcc52ab9",
   "metadata": {},
   "outputs": [],
   "source": [
    "import json\n",
    "X=!curl -s -d '{\"data\": {\"ndarray\":[[1.0, 2.0, 3.0, 4.0]]}}' \\\n",
    "   -X POST http://localhost:8003/seldon/seldon/iris/api/v1.0/predictions \\\n",
    "   -H \"Content-Type: application/json\"\n",
    "d=json.loads(X[0])\n",
    "print(d)"
   ]
  },
  {
   "cell_type": "code",
   "execution_count": null,
   "id": "1c2d80b0",
   "metadata": {},
   "outputs": [],
   "source": [
    "!kubectl delete -f model_seldon_v1.yaml"
   ]
  },
  {
   "cell_type": "markdown",
   "id": "31e25811",
   "metadata": {},
   "source": [
    "## Deploy Model with KFserving Protocol"
   ]
  },
  {
   "cell_type": "code",
   "execution_count": null,
   "id": "2d713176",
   "metadata": {},
   "outputs": [],
   "source": [
    "!cat model_seldon_v2.yaml"
   ]
  },
  {
   "cell_type": "code",
   "execution_count": null,
   "id": "f6121be8",
   "metadata": {
    "scrolled": true
   },
   "outputs": [],
   "source": [
    "!kubectl create -f model_seldon_v2.yaml -n seldon"
   ]
  },
  {
   "cell_type": "code",
   "execution_count": null,
   "id": "0dc67de0",
   "metadata": {},
   "outputs": [],
   "source": [
    "!kubectl rollout status deploy/$(kubectl get deploy -l seldon-deployment-id=iris -o jsonpath='{.items[0].metadata.name}' -n seldon) -n seldon"
   ]
  },
  {
   "cell_type": "code",
   "execution_count": null,
   "id": "96b19e64",
   "metadata": {},
   "outputs": [],
   "source": [
    "for i in range(60):\n",
    "    state = !kubectl get sdep iris -n seldon -o jsonpath='{.status.state}'\n",
    "    state = state[0]\n",
    "    print(state)\n",
    "    if state == \"Available\":\n",
    "        break\n",
    "    time.sleep(1)\n",
    "assert state == \"Available\""
   ]
  },
  {
   "cell_type": "code",
   "execution_count": null,
   "id": "ba2da33c",
   "metadata": {},
   "outputs": [],
   "source": [
    "import json\n",
    "X=!curl -s -d '{\"inputs\": [{\"name\": \"predict\", \"shape\": [1, 4], \"datatype\": \"FP32\", \"data\": [[1, 2, 3, 4]]}]}'\\\n",
    "   -X POST http://localhost:8003/seldon/seldon/iris/v2/models/infer \\\n",
    "   -H \"Content-Type: application/json\"\n",
    "d=json.loads(X[0])\n",
    "print(d)"
   ]
  },
  {
   "cell_type": "code",
   "execution_count": null,
   "id": "da968df4",
   "metadata": {},
   "outputs": [],
   "source": [
    "!kubectl delete -f model_seldon_v2.yaml"
   ]
  },
  {
   "cell_type": "code",
   "execution_count": null,
   "id": "469bbfd8",
   "metadata": {},
   "outputs": [],
   "source": []
  }
 ],
 "metadata": {
  "kernelspec": {
   "display_name": "Python 3 (ipykernel)",
   "language": "python",
   "name": "python3"
  },
  "language_info": {
   "codemirror_mode": {
    "name": "ipython",
    "version": 3
   },
   "file_extension": ".py",
   "mimetype": "text/x-python",
   "name": "python",
   "nbconvert_exporter": "python",
   "pygments_lexer": "ipython3",
   "version": "3.7.10"
  }
 },
 "nbformat": 4,
 "nbformat_minor": 5
}
