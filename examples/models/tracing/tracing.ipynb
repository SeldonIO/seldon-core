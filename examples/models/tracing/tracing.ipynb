{
 "cells": [
  {
   "cell_type": "markdown",
   "metadata": {},
   "source": [
    "# Distributed Tracing Template\n",
    "\n",
    " Illustrate the configuration for allowing distributed tracing using Jaeger.\n",
    " \n"
   ]
  },
  {
   "cell_type": "markdown",
   "metadata": {},
   "source": [
    "## Setup Seldon Core\n",
    "\n",
    "Install Seldon Core as described in [docs](https://docs.seldon.io/projects/seldon-core/en/latest/workflow/install.html)\n",
    "\n",
    "Then port-forward to that ingress on localhost:8003 in a separate terminal either with:\n",
    "\n",
    " * Ambassador: \n",
    " \n",
    "  ```kubectl port-forward $(kubectl get pods -n seldon -l app.kubernetes.io/name=ambassador -o jsonpath='{.items[0].metadata.name}') -n seldon 8003:8080```\n",
    "  \n",
    " * Istio: \n",
    " \n",
    " ```kubectl port-forward $(kubectl get pods -l istio=ingressgateway -n istio-system -o jsonpath='{.items[0].metadata.name}') -n istio-system 8003:80```"
   ]
  },
  {
   "cell_type": "code",
   "execution_count": 1,
   "metadata": {},
   "outputs": [
    {
     "name": "stdout",
     "output_type": "stream",
     "text": [
      "Error from server (AlreadyExists): namespaces \"seldon\" already exists\r\n"
     ]
    }
   ],
   "source": [
    "!kubectl create namespace seldon"
   ]
  },
  {
   "cell_type": "code",
   "execution_count": 2,
   "metadata": {},
   "outputs": [
    {
     "name": "stdout",
     "output_type": "stream",
     "text": [
      "Context \"kind-ansible\" modified.\r\n"
     ]
    }
   ],
   "source": [
    "!kubectl config set-context $(kubectl config current-context) --namespace=seldon"
   ]
  },
  {
   "cell_type": "markdown",
   "metadata": {},
   "source": [
    "## Install Jaeger\n",
    "\n",
    "Follow the Jaeger docs to [install on Kubernetes](https://www.jaegertracing.io/docs/1.18/operator/)."
   ]
  },
  {
   "cell_type": "code",
   "execution_count": 3,
   "metadata": {},
   "outputs": [
    {
     "name": "stdout",
     "output_type": "stream",
     "text": [
      "namespace/observability created\n",
      "customresourcedefinition.apiextensions.k8s.io/jaegers.jaegertracing.io created\n",
      "serviceaccount/jaeger-operator created\n",
      "role.rbac.authorization.k8s.io/jaeger-operator created\n",
      "rolebinding.rbac.authorization.k8s.io/jaeger-operator created\n",
      "deployment.apps/jaeger-operator created\n"
     ]
    }
   ],
   "source": [
    "!kubectl create namespace observability\n",
    "!kubectl create -f https://raw.githubusercontent.com/jaegertracing/jaeger-operator/master/deploy/crds/jaegertracing.io_jaegers_crd.yaml\n",
    "!kubectl create -f https://raw.githubusercontent.com/jaegertracing/jaeger-operator/master/deploy/service_account.yaml\n",
    "!kubectl create -f https://raw.githubusercontent.com/jaegertracing/jaeger-operator/master/deploy/role.yaml\n",
    "!kubectl create -f https://raw.githubusercontent.com/jaegertracing/jaeger-operator/master/deploy/role_binding.yaml\n",
    "!kubectl create -f https://raw.githubusercontent.com/jaegertracing/jaeger-operator/master/deploy/operator.yaml"
   ]
  },
  {
   "cell_type": "code",
   "execution_count": 4,
   "metadata": {},
   "outputs": [
    {
     "name": "stdout",
     "output_type": "stream",
     "text": [
      "\u001b[94mapiVersion\u001b[39;49;00m: jaegertracing.io/v1\r\n",
      "\u001b[94mkind\u001b[39;49;00m: Jaeger\r\n",
      "\u001b[94mmetadata\u001b[39;49;00m:\r\n",
      "  \u001b[94mname\u001b[39;49;00m: simplest\r\n",
      "\u001b[94mspec\u001b[39;49;00m:\r\n",
      "  \u001b[94magent\u001b[39;49;00m:\r\n",
      "    \u001b[94mstrategy\u001b[39;49;00m: DaemonSet\r\n"
     ]
    }
   ],
   "source": [
    "!pygmentize simplest.yaml"
   ]
  },
  {
   "cell_type": "code",
   "execution_count": 5,
   "metadata": {},
   "outputs": [
    {
     "name": "stdout",
     "output_type": "stream",
     "text": [
      "jaeger.jaegertracing.io/simplest created\r\n"
     ]
    }
   ],
   "source": [
    "!kubectl apply -f simplest.yaml"
   ]
  },
  {
   "cell_type": "markdown",
   "metadata": {},
   "source": [
    "Port forward to Jaeger UI\n",
    "\n",
    "```bash\n",
    "kubectl port-forward $(kubectl get pods -l app.kubernetes.io/name=simplest -n seldon -o jsonpath='{.items[0].metadata.name}') 16686:16686 -n seldon\n",
    "```"
   ]
  },
  {
   "cell_type": "markdown",
   "metadata": {},
   "source": [
    "## Run Example REST Deployment"
   ]
  },
  {
   "cell_type": "code",
   "execution_count": 12,
   "metadata": {},
   "outputs": [
    {
     "name": "stdout",
     "output_type": "stream",
     "text": [
      "\u001b[94mapiVersion\u001b[39;49;00m: machinelearning.seldon.io/v1\r\n",
      "\u001b[94mkind\u001b[39;49;00m: SeldonDeployment\r\n",
      "\u001b[94mmetadata\u001b[39;49;00m:\r\n",
      "  \u001b[94mname\u001b[39;49;00m: tracing-example\r\n",
      "  \u001b[94mnamespace\u001b[39;49;00m: seldon\r\n",
      "\u001b[94mspec\u001b[39;49;00m:\r\n",
      "  \u001b[94mname\u001b[39;49;00m: tracing-example\r\n",
      "  \u001b[94mpredictors\u001b[39;49;00m:\r\n",
      "  - \u001b[94mcomponentSpecs\u001b[39;49;00m:\r\n",
      "    - \u001b[94mspec\u001b[39;49;00m:\r\n",
      "        \u001b[94mcontainers\u001b[39;49;00m:\r\n",
      "        - \u001b[94menv\u001b[39;49;00m:\r\n",
      "          - \u001b[94mname\u001b[39;49;00m: TRACING\r\n",
      "            \u001b[94mvalue\u001b[39;49;00m: \u001b[33m'\u001b[39;49;00m\u001b[33m0\u001b[39;49;00m\u001b[33m'\u001b[39;49;00m\r\n",
      "          - \u001b[94mname\u001b[39;49;00m: JAEGER_AGENT_HOST\r\n",
      "            \u001b[94mvalueFrom\u001b[39;49;00m:\r\n",
      "              \u001b[94mfieldRef\u001b[39;49;00m:\r\n",
      "                \u001b[94mfieldPath\u001b[39;49;00m: status.hostIP\r\n",
      "          - \u001b[94mname\u001b[39;49;00m: JAEGER_AGENT_PORT\r\n",
      "            \u001b[94mvalue\u001b[39;49;00m: \u001b[33m'\u001b[39;49;00m\u001b[33m5775\u001b[39;49;00m\u001b[33m'\u001b[39;49;00m\r\n",
      "          - \u001b[94mname\u001b[39;49;00m: JAEGER_SAMPLER_TYPE\r\n",
      "            \u001b[94mvalue\u001b[39;49;00m: const\r\n",
      "          - \u001b[94mname\u001b[39;49;00m: JAEGER_SAMPLER_PARAM\r\n",
      "            \u001b[94mvalue\u001b[39;49;00m: \u001b[33m'\u001b[39;49;00m\u001b[33m1\u001b[39;49;00m\u001b[33m'\u001b[39;49;00m\r\n",
      "          \u001b[94mimage\u001b[39;49;00m: seldonio/mock_classifier:1.9.0-dev\r\n",
      "          \u001b[94mname\u001b[39;49;00m: model1\r\n",
      "        \u001b[94mterminationGracePeriodSeconds\u001b[39;49;00m: 1\r\n",
      "    \u001b[94mgraph\u001b[39;49;00m:\r\n",
      "      \u001b[94mchildren\u001b[39;49;00m: []\r\n",
      "      \u001b[94mendpoint\u001b[39;49;00m:\r\n",
      "        \u001b[94mtype\u001b[39;49;00m: REST\r\n",
      "      \u001b[94mname\u001b[39;49;00m: model1\r\n",
      "      \u001b[94mtype\u001b[39;49;00m: MODEL\r\n",
      "    \u001b[94mname\u001b[39;49;00m: tracing\r\n",
      "    \u001b[94mreplicas\u001b[39;49;00m: 1\r\n",
      "    \u001b[94msvcOrchSpec\u001b[39;49;00m:\r\n",
      "      \u001b[94menv\u001b[39;49;00m:\r\n",
      "      - \u001b[94mname\u001b[39;49;00m: TRACING\r\n",
      "        \u001b[94mvalue\u001b[39;49;00m: \u001b[33m'\u001b[39;49;00m\u001b[33m1\u001b[39;49;00m\u001b[33m'\u001b[39;49;00m\r\n",
      "      - \u001b[94mname\u001b[39;49;00m: JAEGER_AGENT_HOST\r\n",
      "        \u001b[94mvalueFrom\u001b[39;49;00m:\r\n",
      "          \u001b[94mfieldRef\u001b[39;49;00m:\r\n",
      "            \u001b[94mfieldPath\u001b[39;49;00m: status.hostIP\r\n",
      "      - \u001b[94mname\u001b[39;49;00m: JAEGER_AGENT_PORT\r\n",
      "        \u001b[94mvalue\u001b[39;49;00m: \u001b[33m'\u001b[39;49;00m\u001b[33m5775\u001b[39;49;00m\u001b[33m'\u001b[39;49;00m\r\n",
      "      - \u001b[94mname\u001b[39;49;00m: JAEGER_SAMPLER_TYPE\r\n",
      "        \u001b[94mvalue\u001b[39;49;00m: const\r\n",
      "      - \u001b[94mname\u001b[39;49;00m: JAEGER_SAMPLER_PARAM\r\n",
      "        \u001b[94mvalue\u001b[39;49;00m: \u001b[33m'\u001b[39;49;00m\u001b[33m1\u001b[39;49;00m\u001b[33m'\u001b[39;49;00m\r\n"
     ]
    }
   ],
   "source": [
    "!pygmentize deployment_rest.yaml"
   ]
  },
  {
   "cell_type": "code",
   "execution_count": 13,
   "metadata": {},
   "outputs": [
    {
     "name": "stdout",
     "output_type": "stream",
     "text": [
      "seldondeployment.machinelearning.seldon.io/tracing-example created\r\n"
     ]
    }
   ],
   "source": [
    "!kubectl create -f deployment_rest.yaml"
   ]
  },
  {
   "cell_type": "code",
   "execution_count": 14,
   "metadata": {},
   "outputs": [
    {
     "name": "stdout",
     "output_type": "stream",
     "text": [
      "deployment \"tracing-example-tracing-0-model1\" successfully rolled out\r\n"
     ]
    }
   ],
   "source": [
    "!kubectl rollout status deploy/$(kubectl get deploy -l seldon-deployment-id=tracing-example -o jsonpath='{.items[0].metadata.name}')"
   ]
  },
  {
   "cell_type": "code",
   "execution_count": 15,
   "metadata": {},
   "outputs": [
    {
     "name": "stdout",
     "output_type": "stream",
     "text": [
      "{\"data\":{\"names\":[\"proba\"],\"ndarray\":[[0.43782349911420193]]},\"meta\":{\"requestPath\":{\"model1\":\"seldonio/mock_classifier:1.9.0-dev\"}}}\r\n"
     ]
    }
   ],
   "source": [
    "!curl -d '{\"data\": {\"ndarray\":[[1.0, 2.0, 5.0]]}}' \\\n",
    "   -X POST http://localhost:8003/seldon/seldon/tracing-example/api/v1.0/predictions \\\n",
    "   -H \"Content-Type: application/json\""
   ]
  },
  {
   "cell_type": "markdown",
   "metadata": {},
   "source": [
    "Check the Jaeger UI. You should be able to find traces like below:\n",
    "\n",
    "![rest](jaeger-ui-rest-example.png)"
   ]
  },
  {
   "cell_type": "code",
   "execution_count": 11,
   "metadata": {},
   "outputs": [
    {
     "name": "stdout",
     "output_type": "stream",
     "text": [
      "seldondeployment.machinelearning.seldon.io \"tracing-example\" deleted\r\n"
     ]
    }
   ],
   "source": [
    "!kubectl delete -f deployment_rest.yaml"
   ]
  },
  {
   "cell_type": "markdown",
   "metadata": {},
   "source": [
    "## Run Example GRPC Deployment"
   ]
  },
  {
   "cell_type": "code",
   "execution_count": null,
   "metadata": {},
   "outputs": [],
   "source": [
    "!pygmentize deployment_grpc.yaml"
   ]
  },
  {
   "cell_type": "code",
   "execution_count": null,
   "metadata": {},
   "outputs": [],
   "source": [
    "!kubectl create -f deployment_grpc.yaml"
   ]
  },
  {
   "cell_type": "code",
   "execution_count": null,
   "metadata": {},
   "outputs": [],
   "source": [
    "!kubectl rollout status deploy/$(kubectl get deploy -l seldon-deployment-id=tracing-example -o jsonpath='{.items[0].metadata.name}')"
   ]
  },
  {
   "cell_type": "code",
   "execution_count": null,
   "metadata": {},
   "outputs": [],
   "source": [
    "!cd ../../../executor/proto && grpcurl -d '{\"data\":{\"ndarray\":[[1.0,2.0]]}}' \\\n",
    "         -rpc-header seldon:tracing-example -rpc-header namespace:seldon \\\n",
    "         -plaintext \\\n",
    "         -proto ./prediction.proto  0.0.0.0:8003 seldon.protos.Seldon/Predict"
   ]
  },
  {
   "cell_type": "markdown",
   "metadata": {},
   "source": [
    "Check the Jaeger UI. You should be able to find traces like below:\n",
    "\n",
    "\n",
    "![grpc](jaeger-ui-grpc-example.png)"
   ]
  },
  {
   "cell_type": "code",
   "execution_count": null,
   "metadata": {},
   "outputs": [],
   "source": [
    "!kubectl delete -f deployment_grpc.yaml"
   ]
  },
  {
   "cell_type": "code",
   "execution_count": null,
   "metadata": {},
   "outputs": [],
   "source": [
    "!kubectl delete -f https://raw.githubusercontent.com/jaegertracing/jaeger-operator/master/deploy/crds/jaegertracing.io_jaegers_crd.yaml\n",
    "!kubectl delete -f https://raw.githubusercontent.com/jaegertracing/jaeger-operator/master/deploy/service_account.yaml\n",
    "!kubectl delete -f https://raw.githubusercontent.com/jaegertracing/jaeger-operator/master/deploy/role.yaml\n",
    "!kubectl delete -f https://raw.githubusercontent.com/jaegertracing/jaeger-operator/master/deploy/role_binding.yaml\n",
    "!kubectl delete -f https://raw.githubusercontent.com/jaegertracing/jaeger-operator/master/deploy/operator.yaml\n",
    "!kubectl delete namespace observability"
   ]
  },
  {
   "cell_type": "code",
   "execution_count": null,
   "metadata": {},
   "outputs": [],
   "source": []
  }
 ],
 "metadata": {
  "kernelspec": {
   "display_name": "Python 3",
   "language": "python",
   "name": "python3"
  },
  "language_info": {
   "codemirror_mode": {
    "name": "ipython",
    "version": 3
   },
   "file_extension": ".py",
   "mimetype": "text/x-python",
   "name": "python",
   "nbconvert_exporter": "python",
   "pygments_lexer": "ipython3",
   "version": "3.6.8"
  },
  "varInspector": {
   "cols": {
    "lenName": 16,
    "lenType": 16,
    "lenVar": 40
   },
   "kernels_config": {
    "python": {
     "delete_cmd_postfix": "",
     "delete_cmd_prefix": "del ",
     "library": "var_list.py",
     "varRefreshCmd": "print(var_dic_list())"
    },
    "r": {
     "delete_cmd_postfix": ") ",
     "delete_cmd_prefix": "rm(",
     "library": "var_list.r",
     "varRefreshCmd": "cat(var_dic_list()) "
    }
   },
   "types_to_exclude": [
    "module",
    "function",
    "builtin_function_or_method",
    "instance",
    "_Feature"
   ],
   "window_display": false
  }
 },
 "nbformat": 4,
 "nbformat_minor": 2
}
