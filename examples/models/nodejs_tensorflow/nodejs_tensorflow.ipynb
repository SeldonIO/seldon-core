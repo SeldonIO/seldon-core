{
	"cells": [{
			"cell_type": "markdown",
			"metadata": {},
			"source": [
				"# NodeJs tensorflow example\n",
				"\n",
				" * Wrap a nodejs tensorflow model for use as a prediction microservice in seldon-core\n",
				"   * Run locally on Docker to test\n",
				" \n",
				"## Depenencies\n",
				"\n",
				" * [S2I](https://github.com/openshift/source-to-image)\n",
				"\n",
				"```bash\n",
				"pip install grpcio-tools\n",
				"```\n",
				"\n",
				"## Train locally using npm commands\n",
				" "
			]
		},
		{
			"cell_type": "code",
			"execution_count": null,
			"metadata": {},
			"outputs": [],
			"source": [
				"!npm install",
				"!npm start"
			]
		},
		{
			"cell_type": "markdown",
			"metadata": {},
			"source": [
				"Wrap model using s2i"
			]
		},
		{
			"cell_type": "markdown",
			"metadata": {},
			"source": [
				"## REST test"
			]
		},
		{
			"cell_type": "code",
			"execution_count": null,
			"metadata": {},
			"outputs": [],
			"source": [
				"!s2i build . seldonio/seldon-core-s2i-nodejs:0.1 node-s2i-model-image:0.1"
			]
		},
		{
			"cell_type": "code",
			"execution_count": null,
			"metadata": {},
			"outputs": [],
			"source": [
				"!docker run --name \"nodejs_tensorflow_predictor\" -d --rm -p 5000:5000 node-s2i-model-image:0.1"
			]
		},
		{
			"cell_type": "code",
			"execution_count": null,
			"metadata": {},
			"outputs": [],
			"source": [
				"!cd ../../../wrappers/testing && make build_protos"
			]
		},
		{
			"cell_type": "markdown",
			"metadata": {},
			"source": [
				"Send some random features that conform to the contract"
			]
		},
		{
			"cell_type": "code",
			"execution_count": null,
			"metadata": {},
			"outputs": [],
			"source": [
				"!python ../../../wrappers/testing/tester.py contract.json 0.0.0.0 5000 -p -t"
			]
		},
		{
			"cell_type": "code",
			"execution_count": null,
			"metadata": {},
			"outputs": [],
			"source": [
				"!docker rm iris_predictor --force"
			]
		}
	],
	"metadata": {
		"kernelspec": {
			"display_name": "Python 3",
			"language": "python",
			"name": "python3"
		},
		"language_info": {
			"codemirror_mode": {
				"name": "ipython",
				"version": 3
			},
			"file_extension": ".py",
			"mimetype": "text/x-python",
			"name": "python",
			"nbconvert_exporter": "python",
			"pygments_lexer": "ipython3",
			"version": "3.6.4"
		}
	},
	"nbformat": 4,
	"nbformat_minor": 2
}