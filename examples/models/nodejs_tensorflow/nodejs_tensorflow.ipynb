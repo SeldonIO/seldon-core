{
	"cells": [{
			"cell_type": "markdown",
			"metadata": {},
			"source": [
				"# Nodejs tensorflow model example\n",
				"\n",
				" * Wrap a nodejs tensorflow model for use as a prediction microservice in seldon-core\n",
				"   * Run locally on Docker to test\n",
				" \n",
				"## Depenencies\n",
				"\n",
				" * [S2I](https://github.com/openshift/source-to-image)\n",
				" * pip install grpcio-tools\n",
                " * node (version>=8.11.0)\n",
-               " * npm\n",
				"\n",
				"## Train locally using npm commands\n",
				"This model example takes an input of 10 different features and predicts a out for the same. For the training part it uses a random normally distributed input set of 100 rows i.e a data set of [100,10] and trains it for another random normally distributed data set of size [100,1]. For every prediction the model expects a dataset of dimension [r,10] where r is the num of input rows to be predicted."
			]
		},
		{
			"cell_type": "code",
			"execution_count": null,
			"metadata": {},
			"outputs": [],
			"source": [
				"!npm install\n",
				"!npm start\n"
			]
		},
		{
			"cell_type": "markdown",
			"metadata": {},
			"source": [
				"Training creates a model.json file and a weights.bin file which is utilized for prediction"
			]
		},
		{
			"cell_type": "markdown",
			"metadata": {},
			"source": [
				"## Prediction using REST API on the docker container"
			]
		},
		{
			"cell_type": "code",
			"execution_count": null,
			"metadata": {},
			"outputs": [],
			"source": [
				"!s2i build . seldonio/seldon-core-s2i-nodejs:0.1 node-s2i-model-image:0.1"
			]
		},
		{
			"cell_type": "code",
			"execution_count": null,
			"metadata": {},
			"outputs": [],
			"source": [
				"!docker run --name \"nodejs_tensorflow_predictor\" -d --rm -p 5000:5000 node-s2i-model-image:0.1"
			]
		},
		{
			"cell_type": "code",
			"execution_count": null,
			"metadata": {},
			"outputs": [],
			"source": [
				"!cd ../../../wrappers/testing && make build_protos"
			]
		},
		{
			"cell_type": "markdown",
			"metadata": {},
			"source": [
				"Send some random features that conform to the contract"
			]
		},
		{
			"cell_type": "code",
			"execution_count": null,
			"metadata": {},
			"outputs": [],
			"source": [
				"!python ../../../wrappers/testing/tester.py contract.json 0.0.0.0 5000 -p -t"
			]
		},
		{
			"cell_type": "code",
			"execution_count": null,
			"metadata": {},
			"outputs": [],
			"source": [
				"!docker rm nodejs_tensorflow_predictor --force"
			]
		}
	],
	"metadata": {
		"kernelspec": {
			"display_name": "Python 3",
			"language": "python",
			"name": "python3"
		},
		"language_info": {
			"codemirror_mode": {
				"name": "ipython",
				"version": 3
			},
			"file_extension": ".py",
			"mimetype": "text/x-python",
			"name": "python",
			"nbconvert_exporter": "python",
			"pygments_lexer": "ipython3",
			"version": "3.6.4"
		}
	},
	"nbformat": 4,
	"nbformat_minor": 2
}