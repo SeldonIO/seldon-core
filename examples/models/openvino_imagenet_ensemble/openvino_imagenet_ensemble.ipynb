{
 "cells": [
  {
   "cell_type": "markdown",
   "metadata": {},
   "source": [
    "# Pipeline example with OpenVINO inference execution engine \n",
    "\n",
    "This notebook illustrates how you can serve ensemble of models using [OpenVINO prediction model](https://github.com/SeldonIO/seldon-core/tree/master/wrappers/s2i/python_openvino).\n",
    "The demo includes optimized ResNet50 and DenseNet169 models by OpenVINO model optimizer. \n",
    "They have [reduced precision](https://www.intel.ai/introducing-int8-quantization-for-fast-cpu-inference-using-openvino/#gs.lUSgiWKa) of graph operations from FP32 to INT8. It significantly improves the execution peformance with minimal impact on the accuracy. The gain is particulary visible with the latest Casade Lake CPU with [VNNI](https://www.intel.ai/intel-deep-learning-boost/#gs.sy7JEtwu) extension.\n",
    "\n",
    "<img src=\"pipeline1.png\"/>"
   ]
  },
  {
   "cell_type": "markdown",
   "metadata": {},
   "source": [
    "## Install Seldon Core on Minikube or on any Kubernetes cluster\n",
    "\n",
    "**The Minikube example below assumes version 0.30.0 installed**\n",
    "\n",
    "It also assumes;\n",
    "  * You have 4G of memory available\n",
    "  * You have 4 CPU Cores available\n",
    "  * You have 20G of free disk\n",
    "  \n",
    "**If you already have Kubernetes cluster present, you can skip minikube setup steps**"
   ]
  },
  {
   "cell_type": "code",
   "execution_count": 25,
   "metadata": {
    "scrolled": true
   },
   "outputs": [
    {
     "name": "stdout",
     "output_type": "stream",
     "text": [
      "Starting local Kubernetes v1.13.2 cluster...\n",
      "Starting VM...\n",
      "Getting VM IP address...\n",
      "Moving files into cluster...\n",
      "Setting up certs...\n",
      "Connecting to cluster...\n",
      "Setting up kubeconfig...\n",
      "Stopping extra container runtimes...\n",
      "Starting cluster components...\n",
      "Verifying kubelet health ...\n",
      "Verifying apiserver health ...\n",
      "Kubectl is now configured to use the cluster.\n",
      "Loading cached images from config file.\n",
      "\n",
      "\n",
      "Everything looks great. Please enjoy minikube!\n"
     ]
    }
   ],
   "source": [
    "!minikube start --memory 4096 --cpus 4 --disk-size 20g"
   ]
  },
  {
   "cell_type": "code",
   "execution_count": 2,
   "metadata": {},
   "outputs": [
    {
     "name": "stdout",
     "output_type": "stream",
     "text": [
      "namespace/seldon created\r\n"
     ]
    }
   ],
   "source": [
    "!kubectl create namespace seldon"
   ]
  },
  {
   "cell_type": "code",
   "execution_count": 1,
   "metadata": {},
   "outputs": [
    {
     "name": "stdout",
     "output_type": "stream",
     "text": [
      "Context \"minikube\" modified.\r\n"
     ]
    }
   ],
   "source": [
    "!kubectl config set-context $(kubectl config current-context) --namespace=seldon"
   ]
  },
  {
   "cell_type": "code",
   "execution_count": 4,
   "metadata": {},
   "outputs": [
    {
     "name": "stdout",
     "output_type": "stream",
     "text": [
      "clusterrolebinding.rbac.authorization.k8s.io/kube-system-cluster-admin created\r\n"
     ]
    }
   ],
   "source": [
    "!kubectl create clusterrolebinding kube-system-cluster-admin --clusterrole=cluster-admin --serviceaccount=kube-system:default"
   ]
  },
  {
   "cell_type": "code",
   "execution_count": 5,
   "metadata": {},
   "outputs": [
    {
     "name": "stdout",
     "output_type": "stream",
     "text": [
      "$HELM_HOME has been configured at /home/clive/.helm.\n",
      "\n",
      "Tiller (the Helm server-side component) has been installed into your Kubernetes Cluster.\n",
      "\n",
      "Please note: by default, Tiller is deployed with an insecure 'allow unauthenticated users' policy.\n",
      "To prevent this, run `helm init` with the --tiller-tls-verify flag.\n",
      "For more information on securing your installation see: https://docs.helm.sh/using_helm/#securing-your-helm-installation\n",
      "Happy Helming!\n"
     ]
    }
   ],
   "source": [
    "!helm init"
   ]
  },
  {
   "cell_type": "code",
   "execution_count": 6,
   "metadata": {},
   "outputs": [
    {
     "name": "stdout",
     "output_type": "stream",
     "text": [
      "Waiting for deployment \"tiller-deploy\" rollout to finish: 0 of 1 updated replicas are available...\n",
      "deployment \"tiller-deploy\" successfully rolled out\n"
     ]
    }
   ],
   "source": [
    "!kubectl rollout status deploy/tiller-deploy -n kube-system"
   ]
  },
  {
   "cell_type": "code",
   "execution_count": 7,
   "metadata": {},
   "outputs": [
    {
     "name": "stdout",
     "output_type": "stream",
     "text": [
      "NAME:   seldon-core-crd\n",
      "LAST DEPLOYED: Thu Feb  7 08:51:17 2019\n",
      "NAMESPACE: seldon\n",
      "STATUS: DEPLOYED\n",
      "\n",
      "RESOURCES:\n",
      "==> v1/ServiceAccount\n",
      "NAME                        SECRETS  AGE\n",
      "seldon-spartakus-volunteer  1        0s\n",
      "\n",
      "==> v1beta1/ClusterRole\n",
      "NAME                        AGE\n",
      "seldon-spartakus-volunteer  0s\n",
      "\n",
      "==> v1beta1/ClusterRoleBinding\n",
      "NAME                        AGE\n",
      "seldon-spartakus-volunteer  0s\n",
      "\n",
      "==> v1/Pod(related)\n",
      "NAME                                         READY  STATUS             RESTARTS  AGE\n",
      "seldon-spartakus-volunteer-5554c4d8b6-46np7  0/1    ContainerCreating  0         0s\n",
      "\n",
      "==> v1/ConfigMap\n",
      "NAME                     DATA  AGE\n",
      "seldon-spartakus-config  3     4s\n",
      "\n",
      "==> v1beta1/CustomResourceDefinition\n",
      "NAME                                         AGE\n",
      "seldondeployments.machinelearning.seldon.io  0s\n",
      "\n",
      "==> v1beta1/Deployment\n",
      "NAME                        DESIRED  CURRENT  UP-TO-DATE  AVAILABLE  AGE\n",
      "seldon-spartakus-volunteer  1        1        1           0          0s\n",
      "\n",
      "\n",
      "NOTES:\n",
      "NOTES: TODO\n",
      "\n",
      "\n",
      "NAME:   seldon-core\n",
      "LAST DEPLOYED: Thu Feb  7 08:51:22 2019\n",
      "NAMESPACE: seldon\n",
      "STATUS: DEPLOYED\n",
      "\n",
      "RESOURCES:\n",
      "==> v1beta1/Deployment\n",
      "NAME                                DESIRED  CURRENT  UP-TO-DATE  AVAILABLE  AGE\n",
      "seldon-core-ambassador              1        1        1           0          0s\n",
      "seldon-core-seldon-apiserver        1        1        1           0          0s\n",
      "seldon-core-seldon-cluster-manager  1        1        1           0          0s\n",
      "seldon-core-redis                   1        1        1           0          0s\n",
      "\n",
      "==> v1/Pod(related)\n",
      "NAME                                                 READY  STATUS             RESTARTS  AGE\n",
      "seldon-core-ambassador-847f7d4c4f-wq6wb              0/1    ContainerCreating  0         0s\n",
      "seldon-core-seldon-apiserver-68d9cfb85b-7ngms        0/1    ContainerCreating  0         0s\n",
      "seldon-core-seldon-cluster-manager-8558f78868-f6vqx  0/1    ContainerCreating  0         0s\n",
      "seldon-core-redis-5bcfff58dc-dk6ds                   0/1    Pending            0         0s\n",
      "\n",
      "==> v1/ServiceAccount\n",
      "NAME    SECRETS  AGE\n",
      "seldon  1        0s\n",
      "\n",
      "==> v1/Role\n",
      "NAME          AGE\n",
      "ambassador    0s\n",
      "seldon-local  0s\n",
      "\n",
      "==> v1/RoleBinding\n",
      "NAME        AGE\n",
      "seldon      0s\n",
      "ambassador  0s\n",
      "\n",
      "==> v1/Service\n",
      "NAME                          TYPE       CLUSTER-IP      EXTERNAL-IP  PORT(S)                        AGE\n",
      "seldon-core-ambassador        NodePort   10.106.160.111  <none>       80:30629/TCP,443:30210/TCP     0s\n",
      "seldon-core-ambassador-admin  NodePort   10.98.135.208   <none>       8877:32037/TCP                 0s\n",
      "seldon-core-seldon-apiserver  NodePort   10.99.170.231   <none>       8080:30258/TCP,5000:30126/TCP  0s\n",
      "seldon-core-redis             ClusterIP  10.101.245.221  <none>       6379/TCP                       0s\n",
      "\n",
      "\n",
      "NOTES:\n",
      "Thank you for installing Seldon Core.\n",
      "\n",
      "Documentation can be found at https://github.com/SeldonIO/seldon-core\n",
      "\n",
      "\n",
      "\n",
      "\n"
     ]
    }
   ],
   "source": [
    "!helm install ../../../helm-charts/seldon-core-crd --name seldon-core-crd  --set usage_metrics.enabled=true\n",
    "!helm install ../../../helm-charts/seldon-core --name seldon-core --set ambassador.enabled=true"
   ]
  },
  {
   "cell_type": "markdown",
   "metadata": {},
   "source": [
    "## (Optional) Install Jaeger\n",
    "\n",
    "We will use the Jaeger All-in-1 resource found at the [Jaeger Kubernetes repo](https://github.com/jaegertracing/jaeger-kubernetes)."
   ]
  },
  {
   "cell_type": "code",
   "execution_count": 8,
   "metadata": {},
   "outputs": [
    {
     "name": "stdout",
     "output_type": "stream",
     "text": [
      "deployment.extensions/jaeger-deployment created\n",
      "service/jaeger-query created\n",
      "service/jaeger-collector created\n",
      "service/jaeger-agent created\n",
      "service/zipkin created\n"
     ]
    }
   ],
   "source": [
    "!kubectl create -f https://raw.githubusercontent.com/jaegertracing/jaeger-kubernetes/master/all-in-one/jaeger-all-in-one-template.yml -n seldon"
   ]
  },
  {
   "cell_type": "markdown",
   "metadata": {},
   "source": [
    "### Start Jaeger UI\n",
    "\n",
    "```\n",
    "minikube service jaeger-query -n seldon\n",
    "```"
   ]
  },
  {
   "cell_type": "markdown",
   "metadata": {},
   "source": [
    "## (Optional) Build Model, Combiner and Transformer Images\n",
    "This is optional step. You can skip building the docker images for the pipeline components and rely on the prebuilt versions in the public docker registry. \n",
    "\n",
    "The commands below build the components on the docker registry inside the minikube.\n",
    "\n",
    "Alternatively you can change the REGISTRY variable to your private one and drop the `eval $(minikube docker-env) &&` phrase. In that case, after the images are built, you need to push them to your docker registry and update the images names in the pipeline json file."
   ]
  },
  {
   "cell_type": "code",
   "execution_count": 4,
   "metadata": {
    "scrolled": true
   },
   "outputs": [
    {
     "name": "stdout",
     "output_type": "stream",
     "text": [
      "env: REGISTRY=docker.io/seldonio\n"
     ]
    }
   ],
   "source": [
    "%env REGISTRY=docker.io/seldonio"
   ]
  },
  {
   "cell_type": "code",
   "execution_count": 18,
   "metadata": {},
   "outputs": [
    {
     "name": "stdout",
     "output_type": "stream",
     "text": [
      "---> Installing application source...\n",
      "---> Installing dependencies ...\n",
      "Looking in links: /whl\n",
      "Collecting google-cloud-storage==1.13.0 (from -r requirements.txt (line 1))\n",
      "  Url '/whl' is ignored. It is either a non-existing path or lacks a specific scheme.\n",
      "Downloading https://files.pythonhosted.org/packages/d7/62/a2e3111bf4d1eb54fe86dec694418644e024eb059bf1e66ebdcf9f98ad70/google_cloud_storage-1.13.0-py2.py3-none-any.whl (59kB)\n",
      "Collecting boto3==1.9.34 (from -r requirements.txt (line 2))\n",
      "  Url '/whl' is ignored. It is either a non-existing path or lacks a specific scheme.\n",
      "Downloading https://files.pythonhosted.org/packages/94/04/c48c102e11b0cb2e3d4a7bdda49647b40e2ae03279ce9ba935e4ae66ab89/boto3-1.9.34-py2.py3-none-any.whl (128kB)\n",
      "  Url '/whl' is ignored. It is either a non-existing path or lacks a specific scheme.\n",
      "Collecting google-cloud-core<0.29dev,>=0.28.0 (from google-cloud-storage==1.13.0->-r requirements.txt (line 1))\n",
      "Downloading https://files.pythonhosted.org/packages/0f/41/ae2418b4003a14cf21c1c46d61d1b044bf02cf0f8f91598af572b9216515/google_cloud_core-0.28.1-py2.py3-none-any.whl\n",
      "Collecting google-api-core<2.0.0dev,>=0.1.1 (from google-cloud-storage==1.13.0->-r requirements.txt (line 1))\n",
      "  Url '/whl' is ignored. It is either a non-existing path or lacks a specific scheme.\n",
      "Downloading https://files.pythonhosted.org/packages/8b/01/13758ff9b970008ccf9e0dcc3b86d0e01937d7485b9a2c6142c9c2bdb4da/google_api_core-1.7.0-py2.py3-none-any.whl (64kB)\n",
      "Collecting google-resumable-media>=0.3.1 (from google-cloud-storage==1.13.0->-r requirements.txt (line 1))\n",
      "  Url '/whl' is ignored. It is either a non-existing path or lacks a specific scheme.\n",
      "Downloading https://files.pythonhosted.org/packages/e2/5d/4bc5c28c252a62efe69ed1a1561da92bd5af8eca0cdcdf8e60354fae9b29/google_resumable_media-0.3.2-py2.py3-none-any.whl\n",
      "Collecting botocore<1.13.0,>=1.12.34 (from boto3==1.9.34->-r requirements.txt (line 2))\n",
      "  Url '/whl' is ignored. It is either a non-existing path or lacks a specific scheme.\n",
      "Downloading https://files.pythonhosted.org/packages/c8/6c/2058039815eb4eac4f2f7462ecae3e352e994d6618ba1f27114d9b985618/botocore-1.12.89-py2.py3-none-any.whl (5.2MB)\n",
      "Collecting jmespath<1.0.0,>=0.7.1 (from boto3==1.9.34->-r requirements.txt (line 2))\n",
      "  Url '/whl' is ignored. It is either a non-existing path or lacks a specific scheme.\n",
      "Downloading https://files.pythonhosted.org/packages/b7/31/05c8d001f7f87f0f07289a5fc0fc3832e9a57f2dbd4d3b0fee70e0d51365/jmespath-0.9.3-py2.py3-none-any.whl\n",
      "Collecting s3transfer<0.2.0,>=0.1.10 (from boto3==1.9.34->-r requirements.txt (line 2))\n",
      "  Url '/whl' is ignored. It is either a non-existing path or lacks a specific scheme.\n",
      "Downloading https://files.pythonhosted.org/packages/d7/14/2a0004d487464d120c9fb85313a75cd3d71a7506955be458eebfe19a6b1d/s3transfer-0.1.13-py2.py3-none-any.whl (59kB)\n",
      "Requirement already satisfied: setuptools>=34.0.0 in /opt/conda/lib/python3.6/site-packages (from google-api-core<2.0.0dev,>=0.1.1->google-cloud-storage==1.13.0->-r requirements.txt (line 1)) (40.8.0)\n",
      "Requirement already satisfied: requests<3.0.0dev,>=2.18.0 in /opt/conda/lib/python3.6/site-packages (from google-api-core<2.0.0dev,>=0.1.1->google-cloud-storage==1.13.0->-r requirements.txt (line 1)) (2.18.4)\n",
      "Requirement already satisfied: protobuf>=3.4.0 in /opt/conda/lib/python3.6/site-packages (from google-api-core<2.0.0dev,>=0.1.1->google-cloud-storage==1.13.0->-r requirements.txt (line 1)) (3.6.1)\n",
      "Collecting googleapis-common-protos!=1.5.4,<2.0dev,>=1.5.3 (from google-api-core<2.0.0dev,>=0.1.1->google-cloud-storage==1.13.0->-r requirements.txt (line 1))\n",
      "  Url '/whl' is ignored. It is either a non-existing path or lacks a specific scheme.\n",
      "Downloading https://files.pythonhosted.org/packages/61/29/1549f61917eadd11650e42b78b4afcfe9cb467157af4510ab8cb59535f14/googleapis-common-protos-1.5.6.tar.gz\n",
      "Requirement already satisfied: six>=1.10.0 in /opt/conda/lib/python3.6/site-packages (from google-api-core<2.0.0dev,>=0.1.1->google-cloud-storage==1.13.0->-r requirements.txt (line 1)) (1.11.0)\n",
      "Collecting pytz (from google-api-core<2.0.0dev,>=0.1.1->google-cloud-storage==1.13.0->-r requirements.txt (line 1))\n",
      "  Url '/whl' is ignored. It is either a non-existing path or lacks a specific scheme.\n",
      "Downloading https://files.pythonhosted.org/packages/61/28/1d3920e4d1d50b19bc5d24398a7cd85cc7b9a75a490570d5a30c57622d34/pytz-2018.9-py2.py3-none-any.whl (510kB)\n",
      "Collecting google-auth<2.0dev,>=0.4.0 (from google-api-core<2.0.0dev,>=0.1.1->google-cloud-storage==1.13.0->-r requirements.txt (line 1))\n",
      "  Url '/whl' is ignored. It is either a non-existing path or lacks a specific scheme.\n",
      "Downloading https://files.pythonhosted.org/packages/4e/85/71b2dfbf5b4241cd031cc333ed71f90a271074a97cb2c517bb65f07a1a90/google_auth-1.6.2-py2.py3-none-any.whl (73kB)\n",
      "Collecting docutils>=0.10 (from botocore<1.13.0,>=1.12.34->boto3==1.9.34->-r requirements.txt (line 2))\n",
      "  Url '/whl' is ignored. It is either a non-existing path or lacks a specific scheme.\n",
      "Downloading https://files.pythonhosted.org/packages/36/fa/08e9e6e0e3cbd1d362c3bbee8d01d0aedb2155c4ac112b19ef3cae8eed8d/docutils-0.14-py3-none-any.whl (543kB)\n",
      "Collecting python-dateutil<3.0.0,>=2.1; python_version >= \"2.7\" (from botocore<1.13.0,>=1.12.34->boto3==1.9.34->-r requirements.txt (line 2))\n",
      "  Url '/whl' is ignored. It is either a non-existing path or lacks a specific scheme.\n",
      "Downloading https://files.pythonhosted.org/packages/41/17/c62faccbfbd163c7f57f3844689e3a78bae1f403648a6afb1d0866d87fbb/python_dateutil-2.8.0-py2.py3-none-any.whl (226kB)\n",
      "Requirement already satisfied: urllib3<1.25,>=1.20; python_version >= \"3.4\" in /opt/conda/lib/python3.6/site-packages (from botocore<1.13.0,>=1.12.34->boto3==1.9.34->-r requirements.txt (line 2)) (1.22)\n",
      "Requirement already satisfied: chardet<3.1.0,>=3.0.2 in /opt/conda/lib/python3.6/site-packages (from requests<3.0.0dev,>=2.18.0->google-api-core<2.0.0dev,>=0.1.1->google-cloud-storage==1.13.0->-r requirements.txt (line 1)) (3.0.4)\n",
      "Requirement already satisfied: idna<2.7,>=2.5 in /opt/conda/lib/python3.6/site-packages (from requests<3.0.0dev,>=2.18.0->google-api-core<2.0.0dev,>=0.1.1->google-cloud-storage==1.13.0->-r requirements.txt (line 1)) (2.6)\n",
      "Requirement already satisfied: certifi>=2017.4.17 in /opt/conda/lib/python3.6/site-packages (from requests<3.0.0dev,>=2.18.0->google-api-core<2.0.0dev,>=0.1.1->google-cloud-storage==1.13.0->-r requirements.txt (line 1)) (2018.1.18)\n",
      "Collecting cachetools>=2.0.0 (from google-auth<2.0dev,>=0.4.0->google-api-core<2.0.0dev,>=0.1.1->google-cloud-storage==1.13.0->-r requirements.txt (line 1))\n",
      "  Url '/whl' is ignored. It is either a non-existing path or lacks a specific scheme.\n",
      "Downloading https://files.pythonhosted.org/packages/39/2b/d87fc2369242bd743883232c463f28205902b8579cb68dcf5b11eee1652f/cachetools-3.1.0-py2.py3-none-any.whl\n",
      "Collecting pyasn1-modules>=0.2.1 (from google-auth<2.0dev,>=0.4.0->google-api-core<2.0.0dev,>=0.1.1->google-cloud-storage==1.13.0->-r requirements.txt (line 1))\n",
      "  Url '/whl' is ignored. It is either a non-existing path or lacks a specific scheme.\n",
      "Downloading https://files.pythonhosted.org/packages/da/98/8ddd9fa4d84065926832bcf2255a2b69f1d03330aa4d1c49cc7317ac888e/pyasn1_modules-0.2.4-py2.py3-none-any.whl (66kB)\n",
      "Collecting rsa>=3.1.4 (from google-auth<2.0dev,>=0.4.0->google-api-core<2.0.0dev,>=0.1.1->google-cloud-storage==1.13.0->-r requirements.txt (line 1))\n",
      "  Url '/whl' is ignored. It is either a non-existing path or lacks a specific scheme.\n",
      "Downloading https://files.pythonhosted.org/packages/02/e5/38518af393f7c214357079ce67a317307936896e961e35450b70fad2a9cf/rsa-4.0-py2.py3-none-any.whl\n",
      "  Url '/whl' is ignored. It is either a non-existing path or lacks a specific scheme.\n",
      "Collecting pyasn1<0.5.0,>=0.4.1 (from pyasn1-modules>=0.2.1->google-auth<2.0dev,>=0.4.0->google-api-core<2.0.0dev,>=0.1.1->google-cloud-storage==1.13.0->-r requirements.txt (line 1))\n",
      "Downloading https://files.pythonhosted.org/packages/7b/7c/c9386b82a25115cccf1903441bba3cbadcfae7b678a20167347fa8ded34c/pyasn1-0.4.5-py2.py3-none-any.whl (73kB)\n",
      "Building wheels for collected packages: googleapis-common-protos\n",
      "Running setup.py bdist_wheel for googleapis-common-protos: started\n",
      "Running setup.py bdist_wheel for googleapis-common-protos: finished with status 'done'\n",
      "Stored in directory: /root/.cache/pip/wheels/da/6b/81/8573adcbe2aa2ecba92c341dfe19c5b5a733f4514297ba52b4\n"
     ]
    },
    {
     "name": "stdout",
     "output_type": "stream",
     "text": [
      "Successfully built googleapis-common-protos\n",
      "Installing collected packages: googleapis-common-protos, pytz, cachetools, pyasn1, pyasn1-modules, rsa, google-auth, google-api-core, google-cloud-core, google-resumable-media, google-cloud-storage, jmespath, docutils, python-dateutil, botocore, s3transfer, boto3\n",
      "Successfully installed boto3-1.9.34 botocore-1.12.89 cachetools-3.1.0 docutils-0.14 google-api-core-1.7.0 google-auth-1.6.2 google-cloud-core-0.28.1 google-cloud-storage-1.13.0 google-resumable-media-0.3.2 googleapis-common-protos-1.5.6 jmespath-0.9.3 pyasn1-0.4.5 pyasn1-modules-0.2.4 python-dateutil-2.8.0 pytz-2018.9 rsa-4.0 s3transfer-0.1.13\n",
      "You are using pip version 10.0.1, however version 19.0.1 is available.\n",
      "You should consider upgrading via the 'pip install --upgrade pip' command.\n",
      "Build completed successfully\n"
     ]
    }
   ],
   "source": [
    "!eval $(minikube docker-env) && cd resources/model && s2i build -E environment_grpc . ${REGISTRY}/seldon-core-s2i-openvino:0.1 ${REGISTRY}/seldon-openvino-prediction:0.1"
   ]
  },
  {
   "cell_type": "code",
   "execution_count": 11,
   "metadata": {},
   "outputs": [
    {
     "name": "stdout",
     "output_type": "stream",
     "text": [
      "---> Installing application source...\n",
      "Build completed successfully\n"
     ]
    }
   ],
   "source": [
    "!eval $(minikube docker-env) && cd resources/combiner && s2i build -E environment_grpc . ${REGISTRY}/seldon-core-s2i-openvino:0.1 ${REGISTRY}/imagenet_combiner:0.1"
   ]
  },
  {
   "cell_type": "code",
   "execution_count": 12,
   "metadata": {},
   "outputs": [
    {
     "name": "stdout",
     "output_type": "stream",
     "text": [
      "---> Installing application source...\n",
      "---> Installing dependencies ...\n",
      "Looking in links: /whl\n",
      "You are using pip version 10.0.1, however version 19.0.1 is available.\n",
      "You should consider upgrading via the 'pip install --upgrade pip' command.\n",
      "Build completed successfully\n"
     ]
    }
   ],
   "source": [
    "!eval $(minikube docker-env) && cd resources/transformer && s2i build -E environment_grpc . ${REGISTRY}/seldon-core-s2i-openvino:0.1 ${REGISTRY}/imagenet_transformer:0.1"
   ]
  },
  {
   "cell_type": "markdown",
   "metadata": {},
   "source": [
    "## Deploy Seldon pipelien with Intel OpenVINO models ensemble\n",
    "\n",
    " * Ingest compressed JPEG binary and transform to TensorFlow Proto payload\n",
    " * Ensemble two OpenVINO optimized models for ImageNet classification: ResNet50, DenseNet169\n",
    " * Return result in human readable text\n",
    "\n"
   ]
  },
  {
   "cell_type": "code",
   "execution_count": 8,
   "metadata": {},
   "outputs": [
    {
     "name": "stdout",
     "output_type": "stream",
     "text": [
      "Requirement already satisfied: graphviz in /Users/dtrawins/seldon-core-fork/.venv/lib/python3.6/site-packages (0.10.1)\r\n"
     ]
    }
   ],
   "source": [
    "!pip install graphviz\n",
    "import sys\n",
    "sys.path.append(\"../../../notebooks\")\n",
    "from visualizer import *"
   ]
  },
  {
   "cell_type": "code",
   "execution_count": 12,
   "metadata": {},
   "outputs": [
    {
     "data": {
      "image/svg+xml": [
       "<?xml version=\"1.0\" encoding=\"UTF-8\" standalone=\"no\"?>\n",
       "<!DOCTYPE svg PUBLIC \"-//W3C//DTD SVG 1.1//EN\"\n",
       " \"http://www.w3.org/Graphics/SVG/1.1/DTD/svg11.dtd\">\n",
       "<!-- Generated by graphviz version 2.40.1 (20161225.0304)\n",
       " -->\n",
       "<!-- Title: %3 Pages: 1 -->\n",
       "<svg width=\"302pt\" height=\"386pt\"\n",
       " viewBox=\"0.00 0.00 302.00 386.00\" xmlns=\"http://www.w3.org/2000/svg\" xmlns:xlink=\"http://www.w3.org/1999/xlink\">\n",
       "<g id=\"graph0\" class=\"graph\" transform=\"scale(1 1) rotate(0) translate(4 382)\">\n",
       "<title>%3</title>\n",
       "<polygon fill=\"#ffffff\" stroke=\"transparent\" points=\"-4,4 -4,-382 298,-382 298,4 -4,4\"/>\n",
       "<g id=\"clust1\" class=\"cluster\">\n",
       "<title>cluster_0</title>\n",
       "<polygon fill=\"none\" stroke=\"#000000\" points=\"8,-8 8,-370 286,-370 286,-8 8,-8\"/>\n",
       "<text text-anchor=\"middle\" x=\"147\" y=\"-354.8\" font-family=\"Times,serif\" font-size=\"14.00\" fill=\"#000000\">predictor&#45;0</text>\n",
       "</g>\n",
       "<!-- imagenet&#45;otransformer0 -->\n",
       "<g id=\"node1\" class=\"node\">\n",
       "<title>imagenet&#45;otransformer0</title>\n",
       "<polygon fill=\"none\" stroke=\"#000000\" points=\"201.2766,-340 56.7234,-340 56.7234,-304 201.2766,-304 201.2766,-340\"/>\n",
       "<text text-anchor=\"middle\" x=\"129\" y=\"-317.8\" font-family=\"Times,serif\" font-size=\"14.00\" fill=\"#000000\">imagenet&#45;otransformer</text>\n",
       "</g>\n",
       "<!-- imagenet&#45;otransformer0endpoint -->\n",
       "<g id=\"node2\" class=\"node\">\n",
       "<title>imagenet&#45;otransformer0endpoint</title>\n",
       "<ellipse fill=\"none\" stroke=\"#000000\" cx=\"49\" cy=\"-250\" rx=\"33.4186\" ry=\"18\"/>\n",
       "<text text-anchor=\"middle\" x=\"49\" y=\"-245.8\" font-family=\"Times,serif\" font-size=\"14.00\" fill=\"#000000\">GRPC</text>\n",
       "</g>\n",
       "<!-- imagenet&#45;otransformer0&#45;&gt;imagenet&#45;otransformer0endpoint -->\n",
       "<g id=\"edge1\" class=\"edge\">\n",
       "<title>imagenet&#45;otransformer0&#45;&gt;imagenet&#45;otransformer0endpoint</title>\n",
       "<path fill=\"none\" stroke=\"#000000\" d=\"M108.8126,-303.8314C98.1317,-294.2185 84.9293,-282.3364 73.6477,-272.183\"/>\n",
       "<polygon fill=\"#000000\" stroke=\"#000000\" points=\"75.9732,-269.5671 66.1989,-265.479 71.2904,-274.7702 75.9732,-269.5671\"/>\n",
       "</g>\n",
       "<!-- imagenet&#45;itransformer -->\n",
       "<g id=\"node3\" class=\"node\">\n",
       "<title>imagenet&#45;itransformer</title>\n",
       "<polygon fill=\"none\" stroke=\"#000000\" points=\"241.6661,-268 100.3339,-268 100.3339,-232 241.6661,-232 241.6661,-268\"/>\n",
       "<text text-anchor=\"middle\" x=\"171\" y=\"-245.8\" font-family=\"Times,serif\" font-size=\"14.00\" fill=\"#000000\">imagenet&#45;itransformer</text>\n",
       "</g>\n",
       "<!-- imagenet&#45;otransformer0&#45;&gt;imagenet&#45;itransformer -->\n",
       "<g id=\"edge9\" class=\"edge\">\n",
       "<title>imagenet&#45;otransformer0&#45;&gt;imagenet&#45;itransformer</title>\n",
       "<path fill=\"none\" stroke=\"#000000\" d=\"M139.5984,-303.8314C144.2877,-295.7925 149.9028,-286.1666 155.0798,-277.2918\"/>\n",
       "<polygon fill=\"#000000\" stroke=\"#000000\" points=\"158.2434,-278.8146 160.2589,-268.4133 152.1969,-275.2875 158.2434,-278.8146\"/>\n",
       "</g>\n",
       "<!-- imagenet&#45;itransformerendpoint -->\n",
       "<g id=\"node4\" class=\"node\">\n",
       "<title>imagenet&#45;itransformerendpoint</title>\n",
       "<ellipse fill=\"none\" stroke=\"#000000\" cx=\"57\" cy=\"-178\" rx=\"33.4186\" ry=\"18\"/>\n",
       "<text text-anchor=\"middle\" x=\"57\" y=\"-173.8\" font-family=\"Times,serif\" font-size=\"14.00\" fill=\"#000000\">GRPC</text>\n",
       "</g>\n",
       "<!-- imagenet&#45;itransformer&#45;&gt;imagenet&#45;itransformerendpoint -->\n",
       "<g id=\"edge2\" class=\"edge\">\n",
       "<title>imagenet&#45;itransformer&#45;&gt;imagenet&#45;itransformerendpoint</title>\n",
       "<path fill=\"none\" stroke=\"#000000\" d=\"M142.233,-231.8314C125.4946,-221.2597 104.4106,-207.9435 87.4005,-197.2003\"/>\n",
       "<polygon fill=\"#000000\" stroke=\"#000000\" points=\"89.2452,-194.2258 78.9213,-191.845 85.5072,-200.1442 89.2452,-194.2258\"/>\n",
       "</g>\n",
       "<!-- imagenet&#45;combiner -->\n",
       "<g id=\"node5\" class=\"node\">\n",
       "<title>imagenet&#45;combiner</title>\n",
       "<polygon fill=\"none\" stroke=\"#000000\" points=\"233.3419,-196 108.6581,-196 108.6581,-160 233.3419,-160 233.3419,-196\"/>\n",
       "<text text-anchor=\"middle\" x=\"171\" y=\"-173.8\" font-family=\"Times,serif\" font-size=\"14.00\" fill=\"#000000\">imagenet&#45;combiner</text>\n",
       "</g>\n",
       "<!-- imagenet&#45;itransformer&#45;&gt;imagenet&#45;combiner -->\n",
       "<g id=\"edge8\" class=\"edge\">\n",
       "<title>imagenet&#45;itransformer&#45;&gt;imagenet&#45;combiner</title>\n",
       "<path fill=\"none\" stroke=\"#000000\" d=\"M171,-231.8314C171,-224.131 171,-214.9743 171,-206.4166\"/>\n",
       "<polygon fill=\"#000000\" stroke=\"#000000\" points=\"174.5001,-206.4132 171,-196.4133 167.5001,-206.4133 174.5001,-206.4132\"/>\n",
       "</g>\n",
       "<!-- imagenet&#45;combinerendpoint -->\n",
       "<g id=\"node6\" class=\"node\">\n",
       "<title>imagenet&#45;combinerendpoint</title>\n",
       "<ellipse fill=\"none\" stroke=\"#000000\" cx=\"49\" cy=\"-106\" rx=\"33.4186\" ry=\"18\"/>\n",
       "<text text-anchor=\"middle\" x=\"49\" y=\"-101.8\" font-family=\"Times,serif\" font-size=\"14.00\" fill=\"#000000\">GRPC</text>\n",
       "</g>\n",
       "<!-- imagenet&#45;combiner&#45;&gt;imagenet&#45;combinerendpoint -->\n",
       "<g id=\"edge3\" class=\"edge\">\n",
       "<title>imagenet&#45;combiner&#45;&gt;imagenet&#45;combinerendpoint</title>\n",
       "<path fill=\"none\" stroke=\"#000000\" d=\"M140.2142,-159.8314C121.9775,-149.0687 98.9206,-135.4613 80.5513,-124.6204\"/>\n",
       "<polygon fill=\"#000000\" stroke=\"#000000\" points=\"82.0791,-121.4581 71.6881,-119.3897 78.5213,-127.4865 82.0791,-121.4581\"/>\n",
       "</g>\n",
       "<!-- prediction1 -->\n",
       "<g id=\"node7\" class=\"node\">\n",
       "<title>prediction1</title>\n",
       "<polygon fill=\"none\" stroke=\"#000000\" points=\"179.7592,-124 100.2408,-124 100.2408,-88 179.7592,-88 179.7592,-124\"/>\n",
       "<text text-anchor=\"middle\" x=\"140\" y=\"-101.8\" font-family=\"Times,serif\" font-size=\"14.00\" fill=\"#000000\">prediction1</text>\n",
       "</g>\n",
       "<!-- imagenet&#45;combiner&#45;&gt;prediction1 -->\n",
       "<g id=\"edge5\" class=\"edge\">\n",
       "<title>imagenet&#45;combiner&#45;&gt;prediction1</title>\n",
       "<path fill=\"none\" stroke=\"#000000\" d=\"M163.1774,-159.8314C159.7891,-151.9617 155.7459,-142.5712 151.9924,-133.8533\"/>\n",
       "<polygon fill=\"#000000\" stroke=\"#000000\" points=\"155.0973,-132.214 147.9279,-124.4133 148.6679,-134.9822 155.0973,-132.214\"/>\n",
       "</g>\n",
       "<!-- prediction2 -->\n",
       "<g id=\"node9\" class=\"node\">\n",
       "<title>prediction2</title>\n",
       "<polygon fill=\"none\" stroke=\"#000000\" points=\"277.7592,-124 198.2408,-124 198.2408,-88 277.7592,-88 277.7592,-124\"/>\n",
       "<text text-anchor=\"middle\" x=\"238\" y=\"-101.8\" font-family=\"Times,serif\" font-size=\"14.00\" fill=\"#000000\">prediction2</text>\n",
       "</g>\n",
       "<!-- imagenet&#45;combiner&#45;&gt;prediction2 -->\n",
       "<g id=\"edge7\" class=\"edge\">\n",
       "<title>imagenet&#45;combiner&#45;&gt;prediction2</title>\n",
       "<path fill=\"none\" stroke=\"#000000\" d=\"M187.9069,-159.8314C195.7813,-151.3694 205.292,-141.1489 213.9013,-131.8971\"/>\n",
       "<polygon fill=\"#000000\" stroke=\"#000000\" points=\"216.6153,-134.1183 220.8654,-124.4133 211.4908,-129.3497 216.6153,-134.1183\"/>\n",
       "</g>\n",
       "<!-- prediction1endpoint -->\n",
       "<g id=\"node8\" class=\"node\">\n",
       "<title>prediction1endpoint</title>\n",
       "<ellipse fill=\"none\" stroke=\"#000000\" cx=\"140\" cy=\"-34\" rx=\"33.4186\" ry=\"18\"/>\n",
       "<text text-anchor=\"middle\" x=\"140\" y=\"-29.8\" font-family=\"Times,serif\" font-size=\"14.00\" fill=\"#000000\">GRPC</text>\n",
       "</g>\n",
       "<!-- prediction1&#45;&gt;prediction1endpoint -->\n",
       "<g id=\"edge4\" class=\"edge\">\n",
       "<title>prediction1&#45;&gt;prediction1endpoint</title>\n",
       "<path fill=\"none\" stroke=\"#000000\" d=\"M140,-87.8314C140,-80.131 140,-70.9743 140,-62.4166\"/>\n",
       "<polygon fill=\"#000000\" stroke=\"#000000\" points=\"143.5001,-62.4132 140,-52.4133 136.5001,-62.4133 143.5001,-62.4132\"/>\n",
       "</g>\n",
       "<!-- prediction2endpoint -->\n",
       "<g id=\"node10\" class=\"node\">\n",
       "<title>prediction2endpoint</title>\n",
       "<ellipse fill=\"none\" stroke=\"#000000\" cx=\"238\" cy=\"-34\" rx=\"33.4186\" ry=\"18\"/>\n",
       "<text text-anchor=\"middle\" x=\"238\" y=\"-29.8\" font-family=\"Times,serif\" font-size=\"14.00\" fill=\"#000000\">GRPC</text>\n",
       "</g>\n",
       "<!-- prediction2&#45;&gt;prediction2endpoint -->\n",
       "<g id=\"edge6\" class=\"edge\">\n",
       "<title>prediction2&#45;&gt;prediction2endpoint</title>\n",
       "<path fill=\"none\" stroke=\"#000000\" d=\"M238,-87.8314C238,-80.131 238,-70.9743 238,-62.4166\"/>\n",
       "<polygon fill=\"#000000\" stroke=\"#000000\" points=\"241.5001,-62.4132 238,-52.4133 234.5001,-62.4133 241.5001,-62.4132\"/>\n",
       "</g>\n",
       "</g>\n",
       "</svg>\n"
      ],
      "text/plain": [
       "<graphviz.dot.Digraph at 0x107ecae48>"
      ]
     },
     "execution_count": 12,
     "metadata": {},
     "output_type": "execute_result"
    }
   ],
   "source": [
    "get_graph(\"seldon_ov_predict_ensemble.json\")"
   ]
  },
  {
   "cell_type": "code",
   "execution_count": 10,
   "metadata": {},
   "outputs": [
    {
     "name": "stdout",
     "output_type": "stream",
     "text": [
      "{\r\n",
      "  \u001b[34;01m\"apiVersion\"\u001b[39;49;00m: \u001b[33m\"machinelearning.seldon.io/v1alpha2\"\u001b[39;49;00m,\r\n",
      "  \u001b[34;01m\"kind\"\u001b[39;49;00m: \u001b[33m\"SeldonDeployment\"\u001b[39;49;00m,\r\n",
      "  \u001b[34;01m\"metadata\"\u001b[39;49;00m: {\r\n",
      "    \u001b[34;01m\"labels\"\u001b[39;49;00m: {\r\n",
      "      \u001b[34;01m\"app\"\u001b[39;49;00m: \u001b[33m\"seldon\"\u001b[39;49;00m\r\n",
      "    },\r\n",
      "    \u001b[34;01m\"name\"\u001b[39;49;00m: \u001b[33m\"openvino-model\"\u001b[39;49;00m,\r\n",
      "    \u001b[34;01m\"namespace\"\u001b[39;49;00m: \u001b[33m\"seldon\"\u001b[39;49;00m\r\n",
      "  },\r\n",
      "  \u001b[34;01m\"spec\"\u001b[39;49;00m: {\r\n",
      "    \u001b[34;01m\"name\"\u001b[39;49;00m: \u001b[33m\"openvino\"\u001b[39;49;00m,\r\n",
      "    \u001b[34;01m\"predictors\"\u001b[39;49;00m: [\r\n",
      "      {\r\n",
      "        \u001b[34;01m\"componentSpecs\"\u001b[39;49;00m: [{\r\n",
      "          \u001b[34;01m\"spec\"\u001b[39;49;00m: {\r\n",
      "            \u001b[34;01m\"containers\"\u001b[39;49;00m: [\r\n",
      "              {\r\n",
      "                \u001b[34;01m\"name\"\u001b[39;49;00m: \u001b[33m\"imagenet-itransformer\"\u001b[39;49;00m,\r\n",
      "                \u001b[34;01m\"image\"\u001b[39;49;00m: \u001b[33m\"seldonio/openvino-demo-transformer:0.1\"\u001b[39;49;00m,\r\n",
      "                \u001b[34;01m\"env\"\u001b[39;49;00m: [\r\n",
      "                  {\r\n",
      "                    \u001b[34;01m\"name\"\u001b[39;49;00m: \u001b[33m\"TRACING\"\u001b[39;49;00m,\r\n",
      "                    \u001b[34;01m\"value\"\u001b[39;49;00m: \u001b[33m\"1\"\u001b[39;49;00m\r\n",
      "                  },\r\n",
      "                  {\r\n",
      "                    \u001b[34;01m\"name\"\u001b[39;49;00m: \u001b[33m\"JAEGER_AGENT_HOST\"\u001b[39;49;00m,\r\n",
      "                    \u001b[34;01m\"value\"\u001b[39;49;00m: \u001b[33m\"jaeger-agent\"\u001b[39;49;00m\r\n",
      "                  },\r\n",
      "                  {\r\n",
      "                    \u001b[34;01m\"name\"\u001b[39;49;00m: \u001b[33m\"DTYPE\"\u001b[39;49;00m,\r\n",
      "                    \u001b[34;01m\"value\"\u001b[39;49;00m: \u001b[33m\"float32\"\u001b[39;49;00m\r\n",
      "                  }\r\n",
      "                ]\r\n",
      "              },\r\n",
      "              {\r\n",
      "                \u001b[34;01m\"name\"\u001b[39;49;00m: \u001b[33m\"imagenet-otransformer\"\u001b[39;49;00m,\r\n",
      "                \u001b[34;01m\"image\"\u001b[39;49;00m: \u001b[33m\"seldonio/openvino-demo-transformer:0.1\"\u001b[39;49;00m,\r\n",
      "                \u001b[34;01m\"env\"\u001b[39;49;00m: [\r\n",
      "                  {\r\n",
      "                    \u001b[34;01m\"name\"\u001b[39;49;00m: \u001b[33m\"TRACING\"\u001b[39;49;00m,\r\n",
      "                    \u001b[34;01m\"value\"\u001b[39;49;00m: \u001b[33m\"1\"\u001b[39;49;00m\r\n",
      "                  },\r\n",
      "                  {\r\n",
      "                    \u001b[34;01m\"name\"\u001b[39;49;00m: \u001b[33m\"JAEGER_AGENT_HOST\"\u001b[39;49;00m,\r\n",
      "                    \u001b[34;01m\"value\"\u001b[39;49;00m: \u001b[33m\"jaeger-agent\"\u001b[39;49;00m\r\n",
      "                  }\r\n",
      "                ]\r\n",
      "              },\r\n",
      "              {\r\n",
      "                \u001b[34;01m\"name\"\u001b[39;49;00m: \u001b[33m\"imagenet-combiner\"\u001b[39;49;00m,\r\n",
      "                \u001b[34;01m\"image\"\u001b[39;49;00m: \u001b[33m\"seldonio/openvino-demo-combiner:0.1\"\u001b[39;49;00m,\r\n",
      "                \u001b[34;01m\"env\"\u001b[39;49;00m: [\r\n",
      "                  {\r\n",
      "                    \u001b[34;01m\"name\"\u001b[39;49;00m: \u001b[33m\"TRACING\"\u001b[39;49;00m,\r\n",
      "                    \u001b[34;01m\"value\"\u001b[39;49;00m: \u001b[33m\"1\"\u001b[39;49;00m\r\n",
      "                  },\r\n",
      "                  {\r\n",
      "                    \u001b[34;01m\"name\"\u001b[39;49;00m: \u001b[33m\"JAEGER_AGENT_HOST\"\u001b[39;49;00m,\r\n",
      "                    \u001b[34;01m\"value\"\u001b[39;49;00m: \u001b[33m\"jaeger-agent\"\u001b[39;49;00m\r\n",
      "                  }\r\n",
      "                ]\r\n",
      "              },\r\n",
      "              {\r\n",
      "                \u001b[34;01m\"name\"\u001b[39;49;00m: \u001b[33m\"prediction1\"\u001b[39;49;00m,\r\n",
      "                \u001b[34;01m\"image\"\u001b[39;49;00m: \u001b[33m\"seldonio/openvino-demo-prediction:0.1\"\u001b[39;49;00m,\r\n",
      "                \u001b[34;01m\"env\"\u001b[39;49;00m: [\r\n",
      "                  {\r\n",
      "                    \u001b[34;01m\"name\"\u001b[39;49;00m: \u001b[33m\"XML_PATH\"\u001b[39;49;00m,\r\n",
      "                    \u001b[34;01m\"value\"\u001b[39;49;00m: \u001b[33m\"gs://intelai_public_models/densenet_169/1/densenet_169_i8.xml\"\u001b[39;49;00m\r\n",
      "                  },\r\n",
      "                  {\r\n",
      "                    \u001b[34;01m\"name\"\u001b[39;49;00m: \u001b[33m\"BIN_PATH\"\u001b[39;49;00m,\r\n",
      "                    \u001b[34;01m\"value\"\u001b[39;49;00m: \u001b[33m\"gs://intelai_public_models/densenet_169/1/densenet_169_i8.bin\"\u001b[39;49;00m\r\n",
      "                  },\r\n",
      "                  {\r\n",
      "                    \u001b[34;01m\"name\"\u001b[39;49;00m: \u001b[33m\"http_proxy\"\u001b[39;49;00m,\r\n",
      "                    \u001b[34;01m\"value\"\u001b[39;49;00m: \u001b[33m\"\"\u001b[39;49;00m\r\n",
      "                  },\r\n",
      "                  {\r\n",
      "                    \u001b[34;01m\"name\"\u001b[39;49;00m: \u001b[33m\"https_proxy\"\u001b[39;49;00m,\r\n",
      "                    \u001b[34;01m\"value\"\u001b[39;49;00m: \u001b[33m\"\"\u001b[39;49;00m\r\n",
      "                  },\r\n",
      "                  {\r\n",
      "                    \u001b[34;01m\"name\"\u001b[39;49;00m: \u001b[33m\"TRACING\"\u001b[39;49;00m,\r\n",
      "                    \u001b[34;01m\"value\"\u001b[39;49;00m: \u001b[33m\"1\"\u001b[39;49;00m\r\n",
      "                  },\r\n",
      "                  {\r\n",
      "                    \u001b[34;01m\"name\"\u001b[39;49;00m: \u001b[33m\"JAEGER_AGENT_HOST\"\u001b[39;49;00m,\r\n",
      "                    \u001b[34;01m\"value\"\u001b[39;49;00m: \u001b[33m\"jaeger-agent\"\u001b[39;49;00m\r\n",
      "                  }\r\n",
      "                ]\r\n",
      "              },\r\n",
      "              {\r\n",
      "                \u001b[34;01m\"name\"\u001b[39;49;00m: \u001b[33m\"prediction2\"\u001b[39;49;00m,\r\n",
      "                \u001b[34;01m\"image\"\u001b[39;49;00m: \u001b[33m\"seldonio/openvino-demo-prediction:0.1\"\u001b[39;49;00m,\r\n",
      "                \u001b[34;01m\"env\"\u001b[39;49;00m: [\r\n",
      "                   {\r\n",
      "                     \u001b[34;01m\"name\"\u001b[39;49;00m: \u001b[33m\"XML_PATH\"\u001b[39;49;00m,\r\n",
      "                     \u001b[34;01m\"value\"\u001b[39;49;00m: \u001b[33m\"gs://intelai_public_models/resnet_50_i8/1/resnet_50_i8.xml\"\u001b[39;49;00m\r\n",
      "                   },\r\n",
      "                   {\r\n",
      "                    \u001b[34;01m\"name\"\u001b[39;49;00m: \u001b[33m\"BIN_PATH\"\u001b[39;49;00m,\r\n",
      "                    \u001b[34;01m\"value\"\u001b[39;49;00m: \u001b[33m\"gs://intelai_public_models/resnet_50_i8/1/resnet_50_i8.bin\"\u001b[39;49;00m\r\n",
      "                   },\r\n",
      "                   {\r\n",
      "                     \u001b[34;01m\"name\"\u001b[39;49;00m: \u001b[33m\"http_proxy\"\u001b[39;49;00m,\r\n",
      "                    \u001b[34;01m\"value\"\u001b[39;49;00m: \u001b[33m\"\"\u001b[39;49;00m\r\n",
      "                   },\r\n",
      "                   {\r\n",
      "                     \u001b[34;01m\"name\"\u001b[39;49;00m: \u001b[33m\"https_proxy\"\u001b[39;49;00m,\r\n",
      "                     \u001b[34;01m\"value\"\u001b[39;49;00m: \u001b[33m\"\"\u001b[39;49;00m\r\n",
      "                   },\r\n",
      "                   {\r\n",
      "                    \u001b[34;01m\"name\"\u001b[39;49;00m: \u001b[33m\"TRACING\"\u001b[39;49;00m,\r\n",
      "                     \u001b[34;01m\"value\"\u001b[39;49;00m: \u001b[33m\"1\"\u001b[39;49;00m\r\n",
      "                   },\r\n",
      "                   {\r\n",
      "                     \u001b[34;01m\"name\"\u001b[39;49;00m: \u001b[33m\"JAEGER_AGENT_HOST\"\u001b[39;49;00m,\r\n",
      "                     \u001b[34;01m\"value\"\u001b[39;49;00m: \u001b[33m\"jaeger-agent\"\u001b[39;49;00m\r\n",
      "                   }\r\n",
      "                  ]\r\n",
      "              }\r\n",
      "            ],\r\n",
      "            \u001b[34;01m\"terminationGracePeriodSeconds\"\u001b[39;49;00m: \u001b[34m1\u001b[39;49;00m\r\n",
      "          }\r\n",
      "        }],\r\n",
      "        \u001b[34;01m\"graph\"\u001b[39;49;00m: {\r\n",
      "          \u001b[34;01m\"name\"\u001b[39;49;00m: \u001b[33m\"imagenet-otransformer\"\u001b[39;49;00m,\r\n",
      "          \u001b[34;01m\"endpoint\"\u001b[39;49;00m: { \u001b[34;01m\"type\"\u001b[39;49;00m : \u001b[33m\"GRPC\"\u001b[39;49;00m },\r\n",
      "          \u001b[34;01m\"type\"\u001b[39;49;00m: \u001b[33m\"OUTPUT_TRANSFORMER\"\u001b[39;49;00m,\r\n",
      "          \u001b[34;01m\"children\"\u001b[39;49;00m: [\r\n",
      "            {\r\n",
      "\r\n",
      "              \u001b[34;01m\"name\"\u001b[39;49;00m: \u001b[33m\"imagenet-itransformer\"\u001b[39;49;00m,\r\n",
      "              \u001b[34;01m\"endpoint\"\u001b[39;49;00m: { \u001b[34;01m\"type\"\u001b[39;49;00m : \u001b[33m\"GRPC\"\u001b[39;49;00m },\r\n",
      "              \u001b[34;01m\"type\"\u001b[39;49;00m: \u001b[33m\"TRANSFORMER\"\u001b[39;49;00m,\r\n",
      "              \u001b[34;01m\"children\"\u001b[39;49;00m: [\r\n",
      "                {\r\n",
      "                  \u001b[34;01m\"name\"\u001b[39;49;00m: \u001b[33m\"imagenet-combiner\"\u001b[39;49;00m,\r\n",
      "                  \u001b[34;01m\"endpoint\"\u001b[39;49;00m: { \u001b[34;01m\"type\"\u001b[39;49;00m : \u001b[33m\"GRPC\"\u001b[39;49;00m },\r\n",
      "                  \u001b[34;01m\"type\"\u001b[39;49;00m: \u001b[33m\"COMBINER\"\u001b[39;49;00m,\r\n",
      "                  \u001b[34;01m\"children\"\u001b[39;49;00m: [\r\n",
      "                    {\r\n",
      "                      \u001b[34;01m\"name\"\u001b[39;49;00m: \u001b[33m\"prediction1\"\u001b[39;49;00m,\r\n",
      "                      \u001b[34;01m\"endpoint\"\u001b[39;49;00m: { \u001b[34;01m\"type\"\u001b[39;49;00m : \u001b[33m\"GRPC\"\u001b[39;49;00m },\r\n",
      "                      \u001b[34;01m\"type\"\u001b[39;49;00m: \u001b[33m\"MODEL\"\u001b[39;49;00m,\r\n",
      "                      \u001b[34;01m\"children\"\u001b[39;49;00m: []\r\n",
      "                    },\r\n",
      "                    {\r\n",
      "                      \u001b[34;01m\"name\"\u001b[39;49;00m: \u001b[33m\"prediction2\"\u001b[39;49;00m,\r\n",
      "                      \u001b[34;01m\"endpoint\"\u001b[39;49;00m: { \u001b[34;01m\"type\"\u001b[39;49;00m : \u001b[33m\"GRPC\"\u001b[39;49;00m },\r\n",
      "                      \u001b[34;01m\"type\"\u001b[39;49;00m: \u001b[33m\"MODEL\"\u001b[39;49;00m,\r\n",
      "                      \u001b[34;01m\"children\"\u001b[39;49;00m: []\r\n",
      "                    }\r\n",
      "                  ]\r\n",
      "                }\r\n",
      "              ]\r\n",
      "            }\r\n",
      "          ]\r\n",
      "        },\r\n",
      "        \u001b[34;01m\"name\"\u001b[39;49;00m: \u001b[33m\"openvino\"\u001b[39;49;00m,\r\n",
      "        \u001b[34;01m\"replicas\"\u001b[39;49;00m: \u001b[34m1\u001b[39;49;00m,\r\n",
      "        \u001b[34;01m\"svcOrchSpec\"\u001b[39;49;00m : {\r\n",
      "          \u001b[34;01m\"env\"\u001b[39;49;00m: [\r\n",
      "            {\r\n",
      "              \u001b[34;01m\"name\"\u001b[39;49;00m: \u001b[33m\"TRACING\"\u001b[39;49;00m,\r\n",
      "              \u001b[34;01m\"value\"\u001b[39;49;00m: \u001b[33m\"1\"\u001b[39;49;00m\r\n",
      "            },\r\n",
      "            {\r\n",
      "              \u001b[34;01m\"name\"\u001b[39;49;00m: \u001b[33m\"JAEGER_AGENT_HOST\"\u001b[39;49;00m,\r\n",
      "              \u001b[34;01m\"value\"\u001b[39;49;00m: \u001b[33m\"jaeger-agent\"\u001b[39;49;00m\r\n",
      "            },\r\n",
      "            {\r\n",
      "              \u001b[34;01m\"name\"\u001b[39;49;00m: \u001b[33m\"JAEGER_AGENT_PORT\"\u001b[39;49;00m,\r\n",
      "              \u001b[34;01m\"value\"\u001b[39;49;00m: \u001b[33m\"5775\"\u001b[39;49;00m\r\n",
      "            },\r\n",
      "            {\r\n",
      "              \u001b[34;01m\"name\"\u001b[39;49;00m: \u001b[33m\"JAEGER_SAMPLER_TYPE\"\u001b[39;49;00m,\r\n",
      "              \u001b[34;01m\"value\"\u001b[39;49;00m: \u001b[33m\"const\"\u001b[39;49;00m\r\n",
      "            },\r\n",
      "            {\r\n",
      "              \u001b[34;01m\"name\"\u001b[39;49;00m: \u001b[33m\"JAEGER_SAMPLER_PARAM\"\u001b[39;49;00m,\r\n",
      "              \u001b[34;01m\"value\"\u001b[39;49;00m: \u001b[33m\"1\"\u001b[39;49;00m\r\n",
      "            }\r\n",
      "          ]\r\n",
      "        }\r\n",
      "      }\r\n",
      "    ]\r\n",
      "  }\r\n",
      "}\r\n"
     ]
    }
   ],
   "source": [
    "!pygmentize seldon_ov_predict_ensemble.json"
   ]
  },
  {
   "cell_type": "code",
   "execution_count": 11,
   "metadata": {},
   "outputs": [
    {
     "name": "stdout",
     "output_type": "stream",
     "text": [
      "seldondeployment.machinelearning.seldon.io \"openvino-model\" configured\r\n"
     ]
    }
   ],
   "source": [
    "!kubectl apply -f seldon_ov_predict_ensemble.json"
   ]
  },
  {
   "cell_type": "markdown",
   "metadata": {},
   "source": [
    "## Executing the pipeline\n",
    "\n",
    "### Connectivity with the seldon pipeline\n",
    "\n",
    "You may connect to the seldon ambassador endpoint using on of the following options:\n",
    "- Establish a tunnel over http via `kubectl port-forward` command.\n",
    "\n",
    "Expose ambassador API endpoint outside of the Kubernetes cluster or connect to it via `kubectl port-forward`.\n",
    "\n",
    "```\n",
    "kubectl port-forward $(kubectl get pods -n seldon -l service=ambassador -o jsonpath='{.items[0].metadata.name}') -n seldon 8080:8080\n",
    "```\n",
    "- Expose the service `seldon-core-ambassador` using a `LoadBalancer` or `NodePort` type.\n",
    "\n",
    "```kubectl edit service seldon-core-ambassador```\n",
    "\n",
    "Check the assigned External IP address with:\n",
    "\n",
    "```kubectl get service seldon-core-ambassador```\n"
   ]
  },
  {
   "cell_type": "markdown",
   "metadata": {},
   "source": [
    "### Using the exemplary grpc client\n",
    "\n",
    "Install client dependencies: seldon-core and grpcio packages"
   ]
  },
  {
   "cell_type": "code",
   "execution_count": 4,
   "metadata": {},
   "outputs": [],
   "source": [
    "!pip install -q seldon-core grpcio"
   ]
  },
  {
   "cell_type": "code",
   "execution_count": 3,
   "metadata": {},
   "outputs": [
    {
     "name": "stdout",
     "output_type": "stream",
     "text": [
      "meta {\n",
      "  puid: \"6shes2pseaghd8s1o1tedj2qil\"\n",
      "  routing {\n",
      "    key: \"imagenet-combiner\"\n",
      "    value: -1\n",
      "  }\n",
      "  routing {\n",
      "    key: \"imagenet-itransformer\"\n",
      "    value: -1\n",
      "  }\n",
      "  routing {\n",
      "    key: \"imagenet-otransformer\"\n",
      "    value: -1\n",
      "  }\n",
      "  requestPath {\n",
      "    key: \"imagenet-combiner\"\n",
      "    value: \"seldonio/openvino-demo-combiner:0.1\"\n",
      "  }\n",
      "  requestPath {\n",
      "    key: \"imagenet-itransformer\"\n",
      "    value: \"seldonio/openvino-demo-transformer:0.1\"\n",
      "  }\n",
      "  requestPath {\n",
      "    key: \"imagenet-otransformer\"\n",
      "    value: \"seldonio/openvino-demo-transformer:0.1\"\n",
      "  }\n",
      "  requestPath {\n",
      "    key: \"prediction1\"\n",
      "    value: \"seldonio/openvino-demo-prediction:0.1\"\n",
      "  }\n",
      "  requestPath {\n",
      "    key: \"prediction2\"\n",
      "    value: \"seldonio/openvino-demo-prediction:0.1\"\n",
      "  }\n",
      "}\n",
      "strData: \"Eskimo dog, husky\"\n",
      "\n",
      "Duration 62.163000000000004\n",
      "meta {\n",
      "  puid: \"qucieg4akkmouchn08dodmj7ic\"\n",
      "  routing {\n",
      "    key: \"imagenet-combiner\"\n",
      "    value: -1\n",
      "  }\n",
      "  routing {\n",
      "    key: \"imagenet-itransformer\"\n",
      "    value: -1\n",
      "  }\n",
      "  routing {\n",
      "    key: \"imagenet-otransformer\"\n",
      "    value: -1\n",
      "  }\n",
      "  requestPath {\n",
      "    key: \"imagenet-combiner\"\n",
      "    value: \"seldonio/openvino-demo-combiner:0.1\"\n",
      "  }\n",
      "  requestPath {\n",
      "    key: \"imagenet-itransformer\"\n",
      "    value: \"seldonio/openvino-demo-transformer:0.1\"\n",
      "  }\n",
      "  requestPath {\n",
      "    key: \"imagenet-otransformer\"\n",
      "    value: \"seldonio/openvino-demo-transformer:0.1\"\n",
      "  }\n",
      "  requestPath {\n",
      "    key: \"prediction1\"\n",
      "    value: \"seldonio/openvino-demo-prediction:0.1\"\n",
      "  }\n",
      "  requestPath {\n",
      "    key: \"prediction2\"\n",
      "    value: \"seldonio/openvino-demo-prediction:0.1\"\n",
      "  }\n",
      "}\n",
      "strData: \"zebra\"\n",
      "\n",
      "Duration 51.096999999999994\n",
      "meta {\n",
      "  puid: \"5frp8ojfl75tjhhlv2u2dlostr\"\n",
      "  routing {\n",
      "    key: \"imagenet-combiner\"\n",
      "    value: -1\n",
      "  }\n",
      "  routing {\n",
      "    key: \"imagenet-itransformer\"\n",
      "    value: -1\n",
      "  }\n",
      "  routing {\n",
      "    key: \"imagenet-otransformer\"\n",
      "    value: -1\n",
      "  }\n",
      "  requestPath {\n",
      "    key: \"imagenet-combiner\"\n",
      "    value: \"seldonio/openvino-demo-combiner:0.1\"\n",
      "  }\n",
      "  requestPath {\n",
      "    key: \"imagenet-itransformer\"\n",
      "    value: \"seldonio/openvino-demo-transformer:0.1\"\n",
      "  }\n",
      "  requestPath {\n",
      "    key: \"imagenet-otransformer\"\n",
      "    value: \"seldonio/openvino-demo-transformer:0.1\"\n",
      "  }\n",
      "  requestPath {\n",
      "    key: \"prediction1\"\n",
      "    value: \"seldonio/openvino-demo-prediction:0.1\"\n",
      "  }\n",
      "  requestPath {\n",
      "    key: \"prediction2\"\n",
      "    value: \"seldonio/openvino-demo-prediction:0.1\"\n",
      "  }\n",
      "}\n",
      "strData: \"pelican\"\n",
      "\n",
      "Duration 54.818\n",
      "average duration: 56.02599999999999 ms\n",
      "average accuracy: 100.0\n"
     ]
    }
   ],
   "source": [
    "!python seldon_grpc_client.py --debug"
   ]
  },
  {
   "cell_type": "markdown",
   "metadata": {},
   "source": [
    "For more extensive test see the client help.\n",
    "\n",
    "You can change the default test-input file including labeled list of images to calculate accuracy based on complete imagenet dataset. Follow the format from file `input_images.txt` - path to the image and imagenet class in every line."
   ]
  },
  {
   "cell_type": "code",
   "execution_count": 28,
   "metadata": {},
   "outputs": [
    {
     "name": "stdout",
     "output_type": "stream",
     "text": [
      "usage: seldon_grpc_client.py [-h] [--repeats REPEATS] [--debug]\r\n",
      "                             [--test-input TEST_INPUT]\r\n",
      "\r\n",
      "optional arguments:\r\n",
      "  -h, --help            show this help message and exit\r\n",
      "  --repeats REPEATS\r\n",
      "  --debug\r\n",
      "  --test-input TEST_INPUT\r\n"
     ]
    }
   ],
   "source": [
    "!python seldon_grpc_client.py --help"
   ]
  },
  {
   "cell_type": "markdown",
   "metadata": {},
   "source": [
    "## Examining the logs\n",
    "\n",
    "You can use Seldon containers logs to get additional details about the execution:\n"
   ]
  },
  {
   "cell_type": "code",
   "execution_count": 2,
   "metadata": {},
   "outputs": [
    {
     "name": "stdout",
     "output_type": "stream",
     "text": [
      "2019-02-12 10:32:38,646 - Prediction - DEBUG - Processing time: 27.29 ms\r\n",
      "2019-02-12 10:32:38,646 - Prediction:predict:103 - DEBUG:  Processing time: 27.29 ms\r\n",
      "2019-02-12 10:32:38,699 - Prediction - DEBUG - Processing time: 26.76 ms\r\n",
      "2019-02-12 10:32:38,699 - Prediction:predict:103 - DEBUG:  Processing time: 26.76 ms\r\n",
      "2019-02-12 10:37:59,123 - Prediction - DEBUG - Processing time: 27.28 ms\r\n",
      "2019-02-12 10:37:59,123 - Prediction:predict:103 - DEBUG:  Processing time: 27.28 ms\r\n",
      "2019-02-12 10:37:59,174 - Prediction - DEBUG - Processing time: 26.20 ms\r\n",
      "2019-02-12 10:37:59,174 - Prediction:predict:103 - DEBUG:  Processing time: 26.20 ms\r\n",
      "2019-02-12 10:37:59,228 - Prediction - DEBUG - Processing time: 27.33 ms\r\n",
      "2019-02-12 10:37:59,228 - Prediction:predict:103 - DEBUG:  Processing time: 27.33 ms\r\n"
     ]
    }
   ],
   "source": [
    "!kubectl logs $(kubectl get pods -l seldon-app=openvino -o jsonpath='{.items[0].metadata.name}') prediction1 --tail=10"
   ]
  },
  {
   "cell_type": "code",
   "execution_count": 3,
   "metadata": {},
   "outputs": [
    {
     "name": "stdout",
     "output_type": "stream",
     "text": [
      "2019-02-12 10:32:38,630 - Prediction - DEBUG - Processing time: 9.86 ms\r\n",
      "2019-02-12 10:32:38,630 - Prediction:predict:103 - DEBUG:  Processing time: 9.86 ms\r\n",
      "2019-02-12 10:32:38,681 - Prediction - DEBUG - Processing time: 9.32 ms\r\n",
      "2019-02-12 10:32:38,681 - Prediction:predict:103 - DEBUG:  Processing time: 9.32 ms\r\n",
      "2019-02-12 10:37:59,111 - Prediction - DEBUG - Processing time: 15.16 ms\r\n",
      "2019-02-12 10:37:59,111 - Prediction:predict:103 - DEBUG:  Processing time: 15.16 ms\r\n",
      "2019-02-12 10:37:59,158 - Prediction - DEBUG - Processing time: 9.16 ms\r\n",
      "2019-02-12 10:37:59,158 - Prediction:predict:103 - DEBUG:  Processing time: 9.16 ms\r\n",
      "2019-02-12 10:37:59,211 - Prediction - DEBUG - Processing time: 9.62 ms\r\n",
      "2019-02-12 10:37:59,211 - Prediction:predict:103 - DEBUG:  Processing time: 9.62 ms\r\n"
     ]
    }
   ],
   "source": [
    "!kubectl logs $(kubectl get pods -l seldon-app=openvino -o jsonpath='{.items[0].metadata.name}') prediction2 --tail=10"
   ]
  },
  {
   "cell_type": "code",
   "execution_count": 4,
   "metadata": {},
   "outputs": [
    {
     "name": "stdout",
     "output_type": "stream",
     "text": [
      "2019-02-12 10:37:59,086 - ImageNetTransformer:transform_input_grpc:43 - INFO:  jpeg preprocessing: 1.464 ms\r\n",
      "2019-02-12 10:37:59,089 - ImageNetTransformer:transform_input_grpc:50 - INFO:  Total transformation: 4.042 ms\r\n",
      "2019-02-12 10:37:59,137 - ImageNetTransformer:transform_input_grpc:33 - INFO:  Transform called\r\n",
      "2019-02-12 10:37:59,139 - ImageNetTransformer:transform_input_grpc:40 - INFO:  Shape: (1, 3, 224, 224); Dtype: float32; Min: 0.0; Max: 255.0\r\n",
      "2019-02-12 10:37:59,140 - ImageNetTransformer:transform_input_grpc:43 - INFO:  jpeg preprocessing: 2.222 ms\r\n",
      "2019-02-12 10:37:59,142 - ImageNetTransformer:transform_input_grpc:50 - INFO:  Total transformation: 4.92 ms\r\n",
      "2019-02-12 10:37:59,188 - ImageNetTransformer:transform_input_grpc:33 - INFO:  Transform called\r\n",
      "2019-02-12 10:37:59,191 - ImageNetTransformer:transform_input_grpc:40 - INFO:  Shape: (1, 3, 224, 224); Dtype: float32; Min: 0.0; Max: 255.0\r\n",
      "2019-02-12 10:37:59,191 - ImageNetTransformer:transform_input_grpc:43 - INFO:  jpeg preprocessing: 2.3249999999999997 ms\r\n",
      "2019-02-12 10:37:59,194 - ImageNetTransformer:transform_input_grpc:50 - INFO:  Total transformation: 5.760999999999999 ms\r\n"
     ]
    }
   ],
   "source": [
    "!kubectl logs $(kubectl get pods -l seldon-app=openvino -o jsonpath='{.items[0].metadata.name}') imagenet-itransformer --tail=10"
   ]
  },
  {
   "cell_type": "markdown",
   "metadata": {},
   "source": [
    "## Performance consideration\n",
    "\n",
    "In production environment with a shared workloads, you might consider contraining the CPU resources for individual pipeline components. You might restrict the assigned capacity using [Kubernetes capabilities](https://kubernetes.io/docs/concepts/configuration/manage-compute-resources-container/). This configuration can be added to seldon pipeline definition.\n",
    "\n",
    "Another option for tuning the resource allocation is adding environment variable `OMP_NUM_THREADS`. It can indicate how many threads will be used by OpenVINO execution engine and how many CPU cores can be consumed. The recommeded value is equal to the number of allocated CPU physical cores.\n",
    "\n",
    "In the tests using GKE service in Google Cloud on nodes with 32 SkyLake vCPU assigned, the following configuration was set on prediction components. It achieved the optimal latency and throughput:\n",
    "```\n",
    "\"resources\": {\n",
    "  \"requests\": {\n",
    "     \"cpu\": \"1\"\n",
    "  },\n",
    "  \"limits\": {\n",
    "     \"cpu\": \"32\"\n",
    "  }\n",
    "}\n",
    "\n",
    "\"env\": [\n",
    "  {\n",
    "    \"name\": \"KMP_AFFINITY\",\n",
    "    \"value\": \"granularity=fine,verbose,compact,1,0\"\n",
    "  },\n",
    "  {\n",
    "    \"name\": \"KMP_BLOCKTIME\",\n",
    "    \"value\": \"1\"\n",
    "  },\n",
    "  {\n",
    "    \"name\": \"OMP_NUM_THREADS\",\n",
    "    \"value\": \"8\"\n",
    "  }\n",
    "]\n",
    "```"
   ]
  },
  {
   "cell_type": "code",
   "execution_count": null,
   "metadata": {},
   "outputs": [],
   "source": []
  }
 ],
 "metadata": {
  "kernelspec": {
   "display_name": "Python 3",
   "language": "python",
   "name": "python3"
  },
  "language_info": {
   "codemirror_mode": {
    "name": "ipython",
    "version": 3
   },
   "file_extension": ".py",
   "mimetype": "text/x-python",
   "name": "python",
   "nbconvert_exporter": "python",
   "pygments_lexer": "ipython3",
   "version": "3.6.5"
  }
 },
 "nbformat": 4,
 "nbformat_minor": 2
}
