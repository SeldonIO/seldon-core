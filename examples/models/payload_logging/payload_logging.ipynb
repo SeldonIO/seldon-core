{
 "cells": [
  {
   "cell_type": "markdown",
   "metadata": {},
   "source": [
    "# Payload Logging \n",
    "\n",
    "An example of payload logging of Seldon Deployment requests and responses.\n",
    "\n",
    "## Prerequisites\n",
    "\n",
    " * A kubernetes cluster with kubectl configured\n",
    " * curl\n",
    " * grpcurl\n",
    " * pygmentize\n",
    " \n",
    "\n",
    "## Setup Seldon Core\n",
    "\n",
    "Install Seldon Core as described in [docs](https://docs.seldon.io/projects/seldon-core/en/latest/workflow/install.html)\n",
    "\n",
    "Then port-forward to that ingress on localhost:8003 in a separate terminal either with:\n",
    "\n",
    " * Ambassador: \n",
    " \n",
    " ```bash \n",
    " kubectl port-forward $(kubectl get pods -n seldon -l app.kubernetes.io/name=ambassador -o jsonpath='{.items[0].metadata.name}') -n seldon 8003:8080```\n",
    " \n",
    " * Istio: \n",
    " \n",
    " ```bash \n",
    " kubectl port-forward $(kubectl get pods -l istio=ingressgateway -n istio-system -o jsonpath='{.items[0].metadata.name}') -n istio-system 8003:80```\n",
    " "
   ]
  },
  {
   "cell_type": "code",
   "execution_count": 1,
   "metadata": {},
   "outputs": [
    {
     "name": "stdout",
     "output_type": "stream",
     "text": [
      "Error from server (AlreadyExists): namespaces \"seldon\" already exists\r\n"
     ]
    }
   ],
   "source": [
    "!kubectl create namespace seldon"
   ]
  },
  {
   "cell_type": "code",
   "execution_count": 2,
   "metadata": {},
   "outputs": [
    {
     "name": "stdout",
     "output_type": "stream",
     "text": [
      "Context \"kind-kind\" modified.\r\n"
     ]
    }
   ],
   "source": [
    "!kubectl config set-context $(kubectl config current-context) --namespace=seldon"
   ]
  },
  {
   "cell_type": "code",
   "execution_count": 7,
   "metadata": {},
   "outputs": [],
   "source": [
    "from IPython.core.magic import register_line_cell_magic\n",
    "\n",
    "\n",
    "@register_line_cell_magic\n",
    "def writetemplate(line, cell):\n",
    "    with open(line, \"w\") as f:\n",
    "        f.write(cell.format(**globals()))"
   ]
  },
  {
   "cell_type": "code",
   "execution_count": 8,
   "metadata": {},
   "outputs": [
    {
     "data": {
      "text/plain": [
       "'1.5.0-dev'"
      ]
     },
     "execution_count": 8,
     "metadata": {},
     "output_type": "execute_result"
    }
   ],
   "source": [
    "VERSION = !cat ../../../version.txt\n",
    "VERSION = VERSION[0]\n",
    "VERSION"
   ]
  },
  {
   "cell_type": "markdown",
   "metadata": {},
   "source": [
    "## Deploy a Request Logger\n",
    "\n",
    "This will echo CloudEvents it receives.\n"
   ]
  },
  {
   "cell_type": "code",
   "execution_count": 3,
   "metadata": {},
   "outputs": [
    {
     "name": "stdout",
     "output_type": "stream",
     "text": [
      "\u001b[94mapiVersion\u001b[39;49;00m: apps/v1\r\n",
      "\u001b[94mkind\u001b[39;49;00m: Deployment\r\n",
      "\u001b[94mmetadata\u001b[39;49;00m:\r\n",
      "  \u001b[94mname\u001b[39;49;00m: logger\r\n",
      "\u001b[94mspec\u001b[39;49;00m:\r\n",
      "  \u001b[94mselector\u001b[39;49;00m:\r\n",
      "    \u001b[94mmatchLabels\u001b[39;49;00m:\r\n",
      "      \u001b[94mrun\u001b[39;49;00m: logger\r\n",
      "  \u001b[94mreplicas\u001b[39;49;00m: 1\r\n",
      "  \u001b[94mtemplate\u001b[39;49;00m:\r\n",
      "    \u001b[94mmetadata\u001b[39;49;00m:\r\n",
      "      \u001b[94mlabels\u001b[39;49;00m:\r\n",
      "        \u001b[94mrun\u001b[39;49;00m: logger\r\n",
      "    \u001b[94mspec\u001b[39;49;00m:\r\n",
      "      \u001b[94mcontainers\u001b[39;49;00m:\r\n",
      "      - \u001b[94mname\u001b[39;49;00m: logger\r\n",
      "        \u001b[94mimage\u001b[39;49;00m: mendhak/http-https-echo\r\n",
      "        \u001b[94mports\u001b[39;49;00m:\r\n",
      "        - \u001b[94mcontainerPort\u001b[39;49;00m: 80\r\n",
      "\u001b[04m\u001b[36m---\u001b[39;49;00m\r\n",
      "\u001b[94mapiVersion\u001b[39;49;00m: v1\r\n",
      "\u001b[94mkind\u001b[39;49;00m: Service\r\n",
      "\u001b[94mmetadata\u001b[39;49;00m:\r\n",
      "  \u001b[94mname\u001b[39;49;00m: logger\r\n",
      "  \u001b[94mlabels\u001b[39;49;00m:\r\n",
      "    \u001b[94mrun\u001b[39;49;00m: logger\r\n",
      "\u001b[94mspec\u001b[39;49;00m:\r\n",
      "  \u001b[94mports\u001b[39;49;00m:\r\n",
      "  - \u001b[94mport\u001b[39;49;00m: 80\r\n",
      "    \u001b[94mtargetPort\u001b[39;49;00m: 80\r\n",
      "    \u001b[94mprotocol\u001b[39;49;00m: TCP\r\n",
      "  \u001b[94mselector\u001b[39;49;00m:\r\n",
      "    \u001b[94mrun\u001b[39;49;00m: logger\r\n",
      "\r\n",
      "    \r\n"
     ]
    }
   ],
   "source": [
    "!pygmentize message-dumper.yaml"
   ]
  },
  {
   "cell_type": "code",
   "execution_count": 4,
   "metadata": {},
   "outputs": [
    {
     "name": "stdout",
     "output_type": "stream",
     "text": [
      "deployment.apps/logger created\n",
      "service/logger created\n"
     ]
    }
   ],
   "source": [
    "!kubectl apply -f message-dumper.yaml -n seldon"
   ]
  },
  {
   "cell_type": "code",
   "execution_count": 5,
   "metadata": {},
   "outputs": [
    {
     "name": "stdout",
     "output_type": "stream",
     "text": [
      "Waiting for deployment \"logger\" rollout to finish: 0 of 1 updated replicas are available...\n",
      "deployment \"logger\" successfully rolled out\n"
     ]
    }
   ],
   "source": [
    "!kubectl rollout status deploy/logger"
   ]
  },
  {
   "cell_type": "markdown",
   "metadata": {},
   "source": [
    "## Create a Model with Logging"
   ]
  },
  {
   "cell_type": "code",
   "execution_count": 14,
   "metadata": {},
   "outputs": [],
   "source": [
    "%%writetemplate model_logger.yaml\n",
    "apiVersion: machinelearning.seldon.io/v1\n",
    "kind: SeldonDeployment\n",
    "metadata:\n",
    "  name: model-logs\n",
    "spec:\n",
    "  name: model-logs\n",
    "  predictors:\n",
    "  - componentSpecs:\n",
    "    - spec:\n",
    "        containers:\n",
    "        - image: seldonio/mock_classifier:{VERSION}\n",
    "          name: classifier\n",
    "    graph:\n",
    "      children: []\n",
    "      endpoint:\n",
    "        type: REST\n",
    "      name: classifier\n",
    "      type: MODEL\n",
    "      logger:\n",
    "        url: http://logger.seldon/\n",
    "        mode: all\n",
    "    name: logging\n",
    "    replicas: 1\n"
   ]
  },
  {
   "cell_type": "code",
   "execution_count": 15,
   "metadata": {},
   "outputs": [
    {
     "name": "stdout",
     "output_type": "stream",
     "text": [
      "seldondeployment.machinelearning.seldon.io/model-logs created\r\n"
     ]
    }
   ],
   "source": [
    "!kubectl apply -f model_logger.yaml -n seldon"
   ]
  },
  {
   "cell_type": "code",
   "execution_count": 16,
   "metadata": {},
   "outputs": [
    {
     "name": "stdout",
     "output_type": "stream",
     "text": [
      "Waiting for deployment \"model-logs-logging-0-classifier\" rollout to finish: 0 of 1 updated replicas are available...\n",
      "deployment \"model-logs-logging-0-classifier\" successfully rolled out\n"
     ]
    }
   ],
   "source": [
    "!kubectl rollout status deploy/$(kubectl get deploy -l seldon-deployment-id=model-logs -o jsonpath='{.items[0].metadata.name}')"
   ]
  },
  {
   "cell_type": "markdown",
   "metadata": {},
   "source": [
    "## Send a Prediction Request"
   ]
  },
  {
   "cell_type": "code",
   "execution_count": 17,
   "metadata": {},
   "outputs": [
    {
     "name": "stdout",
     "output_type": "stream",
     "text": [
      "['{\"data\":{\"names\":[\"proba\"],\"ndarray\":[[0.43782349911420193]]},\"meta\":{}}']\n"
     ]
    }
   ],
   "source": [
    "res=!curl -s -d '{\"data\": {\"ndarray\":[[1.0, 2.0, 5.0]]}}' \\\n",
    "   -X POST http://localhost:8003/seldon/seldon/model-logs/api/v1.0/predictions \\\n",
    "   -H \"Content-Type: application/json\";\n",
    "print(res)\n",
    "import json\n",
    "j=json.loads(res[0])\n",
    "assert(j[\"data\"][\"ndarray\"][0][0]>0.2)"
   ]
  },
  {
   "cell_type": "markdown",
   "metadata": {},
   "source": [
    "## Check Logger"
   ]
  },
  {
   "cell_type": "code",
   "execution_count": 18,
   "metadata": {},
   "outputs": [
    {
     "name": "stdout",
     "output_type": "stream",
     "text": [
      "-----------------\r\n",
      "{\r\n",
      "    \"path\": \"/\",\r\n",
      "    \"headers\": {\r\n",
      "        \"host\": \"logger.seldon\",\r\n",
      "        \"user-agent\": \"Go-http-client/1.1\",\r\n",
      "        \"content-length\": \"39\",\r\n",
      "        \"ce-endpoint\": \"logging\",\r\n",
      "        \"ce-id\": \"e276a0c3-a522-4499-b509-5e98e06e96fe\",\r\n",
      "        \"ce-inferenceservicename\": \"model-logs\",\r\n",
      "        \"ce-modelid\": \"classifier\",\r\n",
      "        \"ce-namespace\": \"seldon\",\r\n",
      "        \"ce-requestid\": \"33fb419e-8d6b-44e0-a084-8bd4bd4dbf7b\",\r\n",
      "        \"ce-source\": \"http://:8000/\",\r\n",
      "        \"ce-specversion\": \"1.0\",\r\n",
      "        \"ce-time\": \"2020-11-06T09:35:09.171644169Z\",\r\n",
      "        \"ce-traceparent\": \"00-9c7cc210d352f7b68be6422c1b4b78f4-a7e8a2a38709bbc9-00\",\r\n",
      "        \"ce-type\": \"io.seldon.serving.inference.request\",\r\n",
      "        \"content-type\": \"application/json\",\r\n",
      "        \"traceparent\": \"00-9c7cc210d352f7b68be6422c1b4b78f4-b49edd5ad25552ae-00\",\r\n",
      "        \"accept-encoding\": \"gzip\"\r\n",
      "    },\r\n",
      "    \"method\": \"POST\",\r\n",
      "    \"body\": \"{\\\"data\\\": {\\\"ndarray\\\":[[1.0, 2.0, 5.0]]}}\",\r\n",
      "    \"fresh\": false,\r\n",
      "    \"hostname\": \"logger.seldon\",\r\n",
      "    \"ip\": \"::ffff:10.244.1.65\",\r\n",
      "    \"ips\": [],\r\n",
      "    \"protocol\": \"http\",\r\n",
      "    \"query\": {},\r\n",
      "    \"subdomains\": [],\r\n",
      "    \"xhr\": false,\r\n",
      "    \"os\": {\r\n",
      "        \"hostname\": \"logger-766f99b9b7-mqtql\"\r\n",
      "    },\r\n",
      "    \"connection\": {},\r\n",
      "    \"json\": {\r\n",
      "        \"data\": {\r\n",
      "            \"ndarray\": [\r\n",
      "                [\r\n",
      "                    1,\r\n",
      "                    2,\r\n",
      "                    5\r\n",
      "                ]\r\n",
      "            ]\r\n",
      "        }\r\n",
      "    }\r\n",
      "}\r\n",
      "::ffff:10.244.1.65 - - [06/Nov/2020:09:35:09 +0000] \"POST / HTTP/1.1\" 200 1220 \"-\" \"Go-http-client/1.1\"\r\n",
      "-----------------\r\n",
      "{\r\n",
      "    \"path\": \"/\",\r\n",
      "    \"headers\": {\r\n",
      "        \"host\": \"logger.seldon\",\r\n",
      "        \"user-agent\": \"Go-http-client/1.1\",\r\n",
      "        \"content-length\": \"73\",\r\n",
      "        \"ce-endpoint\": \"logging\",\r\n",
      "        \"ce-id\": \"68345c32-d144-4e21-a840-55e7e809c002\",\r\n",
      "        \"ce-inferenceservicename\": \"model-logs\",\r\n",
      "        \"ce-modelid\": \"classifier\",\r\n",
      "        \"ce-namespace\": \"seldon\",\r\n",
      "        \"ce-requestid\": \"33fb419e-8d6b-44e0-a084-8bd4bd4dbf7b\",\r\n",
      "        \"ce-source\": \"http://:8000/\",\r\n",
      "        \"ce-specversion\": \"1.0\",\r\n",
      "        \"ce-time\": \"2020-11-06T09:35:09.180317759Z\",\r\n",
      "        \"ce-traceparent\": \"00-cbb2fa5d83dbc42f2f8e9f8957b5c121-c15418121da2e992-00\",\r\n",
      "        \"ce-type\": \"io.seldon.serving.inference.response\",\r\n",
      "        \"content-type\": \"application/json\",\r\n",
      "        \"traceparent\": \"00-cbb2fa5d83dbc42f2f8e9f8957b5c121-ce0a53c967ee8077-00\",\r\n",
      "        \"accept-encoding\": \"gzip\"\r\n",
      "    },\r\n",
      "    \"method\": \"POST\",\r\n",
      "    \"body\": \"{\\\"data\\\":{\\\"names\\\":[\\\"proba\\\"],\\\"ndarray\\\":[[0.43782349911420193]]},\\\"meta\\\":{}}\\n\",\r\n",
      "    \"fresh\": false,\r\n",
      "    \"hostname\": \"logger.seldon\",\r\n",
      "    \"ip\": \"::ffff:10.244.1.65\",\r\n",
      "    \"ips\": [],\r\n",
      "    \"protocol\": \"http\",\r\n",
      "    \"query\": {},\r\n",
      "    \"subdomains\": [],\r\n",
      "    \"xhr\": false,\r\n",
      "    \"os\": {\r\n",
      "        \"hostname\": \"logger-766f99b9b7-mqtql\"\r\n",
      "    },\r\n",
      "    \"connection\": {},\r\n",
      "    \"json\": {\r\n",
      "        \"data\": {\r\n",
      "            \"names\": [\r\n",
      "                \"proba\"\r\n",
      "            ],\r\n",
      "            \"ndarray\": [\r\n",
      "                [\r\n",
      "                    0.43782349911420193\r\n",
      "                ]\r\n",
      "            ]\r\n",
      "        },\r\n",
      "        \"meta\": {}\r\n",
      "    }\r\n",
      "}\r\n",
      "::ffff:10.244.1.65 - - [06/Nov/2020:09:35:09 +0000] \"POST / HTTP/1.1\" 200 1312 \"-\" \"Go-http-client/1.1\"\r\n"
     ]
    }
   ],
   "source": [
    "!kubectl logs $(kubectl get pods -l run=logger -n seldon -o jsonpath='{.items[0].metadata.name}') logger"
   ]
  },
  {
   "cell_type": "code",
   "execution_count": 24,
   "metadata": {},
   "outputs": [
    {
     "name": "stdout",
     "output_type": "stream",
     "text": [
      "['        \"ce-modelid\": \"classifier\",', '        \"ce-modelid\": \"classifier\",']\n"
     ]
    }
   ],
   "source": [
    "modelids = !kubectl logs $(kubectl get pods -l run=logger -n seldon -o jsonpath='{.items[0].metadata.name}') logger | grep \"ce-modelid\"\n",
    "print(modelids)\n",
    "assert modelids[0].strip() == '\"ce-modelid\": \"classifier\",'"
   ]
  },
  {
   "cell_type": "markdown",
   "metadata": {},
   "source": [
    "## Clean Up"
   ]
  },
  {
   "cell_type": "code",
   "execution_count": 25,
   "metadata": {},
   "outputs": [
    {
     "name": "stdout",
     "output_type": "stream",
     "text": [
      "seldondeployment.machinelearning.seldon.io \"model-logs\" deleted\r\n"
     ]
    }
   ],
   "source": [
    "!kubectl delete -f model_logger.yaml -n seldon"
   ]
  },
  {
   "cell_type": "code",
   "execution_count": 26,
   "metadata": {},
   "outputs": [
    {
     "name": "stdout",
     "output_type": "stream",
     "text": [
      "deployment.apps \"logger\" deleted\r\n",
      "service \"logger\" deleted\r\n"
     ]
    }
   ],
   "source": [
    "!kubectl delete -f message-dumper.yaml -n seldon"
   ]
  },
  {
   "cell_type": "code",
   "execution_count": null,
   "metadata": {},
   "outputs": [],
   "source": []
  }
 ],
 "metadata": {
  "kernelspec": {
   "display_name": "Python 3",
   "language": "python",
   "name": "python3"
  },
  "language_info": {
   "codemirror_mode": {
    "name": "ipython",
    "version": 3
   },
   "file_extension": ".py",
   "mimetype": "text/x-python",
   "name": "python",
   "nbconvert_exporter": "python",
   "pygments_lexer": "ipython3",
   "version": "3.6.8"
  }
 },
 "nbformat": 4,
 "nbformat_minor": 2
}
