{
	"cells": [{
			"cell_type": "markdown",
			"metadata": {},
			"source": [
				"# Nodejs MNIST model Deployment\n",
				"\n",
				" * Wrap a nodejs tensorflow model for use as a prediction microservice in seldon-core\n",
				"   * Run locally on Docker to test\n",
				" \n",
				"## Depenencies\n",
				"\n",
				" * [S2I](https://github.com/openshift/source-to-image)\n",
				" * pip install grpcio-tools\n",
                " * node (version>=8.11.0)\n",
                " * npm\n",
				"\n",
				"## Train locally using npm commands\n"
			]
		},
		{
			"cell_type": "code",
			"execution_count": null,
			"metadata": {},
			"outputs": [],
			"source": [
				"!npm install\n",
				"!npm start\n"
			]
		},
		{
			"cell_type": "markdown",
			"metadata": {},
			"source": [
				"Training creates a model.json file and a weights.bin file which is utilized for prediction"
			]
		},
		{
			"cell_type": "markdown",
			"metadata": {},
			"source": [
				"## Prediction using REST API on the docker container"
			]
		},
		{
			"cell_type": "code",
			"execution_count": null,
			"metadata": {},
			"outputs": [],
			"source": [
				"!s2i build . seldonio/seldon-core-s2i-nodejs:0.1 node-s2i-mnist-model:0.1"
			]
		},
		{
			"cell_type": "code",
			"execution_count": null,
			"metadata": {},
			"outputs": [],
			"source": [
				"!docker run --name \"nodejs_mnist_predictor\" -d --rm -p 5000:5000 node-s2i-mnist-model:0.1"
			]
		},
		{
			"cell_type": "code",
			"execution_count": null,
			"metadata": {},
			"outputs": [],
			"source": [
				"!cd ../../../wrappers/testing && make build_protos"
			]
		},
		{
			"cell_type": "markdown",
			"metadata": {},
			"source": [
				"Send some random features that conform to the contract"
			]
		},
		{
			"cell_type": "code",
			"execution_count": null,
			"metadata": {},
			"outputs": [],
			"source": [
				"!python ../../../wrappers/testing/tester.py contract.json 0.0.0.0 5000 -p -t"
			]
		},
		{
			"cell_type": "code",
			"execution_count": null,
			"metadata": {},
			"outputs": [],
			"source": [
				"!docker rm nodejs_mnist_predictor --force"
			]
		}
	],
	"metadata": {
		"kernelspec": {
			"display_name": "Python 3",
			"language": "python",
			"name": "python3"
		},
		"language_info": {
			"codemirror_mode": {
				"name": "ipython",
				"version": 3
			},
			"file_extension": ".py",
			"mimetype": "text/x-python",
			"name": "python",
			"nbconvert_exporter": "python",
			"pygments_lexer": "ipython3",
			"version": "3.6.4"
		}
	},
	"nbformat": 4,
	"nbformat_minor": 2
}