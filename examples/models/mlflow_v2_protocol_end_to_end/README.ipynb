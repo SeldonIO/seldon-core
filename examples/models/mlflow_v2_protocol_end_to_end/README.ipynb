{
 "cells": [
  {
   "cell_type": "markdown",
   "id": "6812a5fb",
   "metadata": {},
   "source": [
    "# MLflow v2 protocol elasticnet wine example\n",
    "\n",
    "In this example we are going to build a model using mlflow, pack and deploy it on seldon-core on a local kind cluster"
   ]
  },
  {
   "cell_type": "markdown",
   "id": "a842a699",
   "metadata": {},
   "source": [
    "Prerequisites before running this notebook:\n",
    "\n",
    "- install and configure `mc`, follow the relevant section in this [link](https://docs.seldon.io/projects/seldon-core/en/latest/examples/minio_setup.html)\n",
    "\n",
    "- run this jupyter notebook in conda environment\n",
    "```bash\n",
    "$ conda create --name python3.8-mlflow-example python=3.8 -y\n",
    "$ conda activate python3.8-mlflow-example\n",
    "$ pip install jupyter\n",
    "$ jupyter notebook\n",
    "```"
   ]
  },
  {
   "cell_type": "markdown",
   "id": "6674657a-3a92-440b-9e40-79dddb0c3834",
   "metadata": {},
   "source": [
    "## Setup `seldon-core` and `minio`\n",
    "\n",
    "\n",
    "### Setup Seldon Core\n",
    "\n",
    "Use the setup notebook to [Setup Cluster](https://docs.seldon.io/projects/seldon-core/en/latest/examples/seldon_core_setup.html#Setup-Cluster) with [Ambassador Ingress](https://docs.seldon.io/projects/seldon-core/en/latest/examples/seldon_core_setup.html#Ambassador) and [Install Seldon Core](https://docs.seldon.io/projects/seldon-core/en/latest/examples/seldon_core_setup.html#Install-Seldon-Core). Instructions [also online](https://docs.seldon.io/projects/seldon-core/en/latest/examples/seldon_core_setup.html).\n",
    "\n",
    "### Setup MinIO\n",
    "\n",
    "Use the provided [notebook](https://docs.seldon.io/projects/seldon-core/en/latest/examples/minio_setup.html) to install Minio in your cluster and configure `mc` CLI tool. \n",
    "Instructions [also online](https://docs.seldon.io/projects/seldon-core/en/latest/examples/minio_setup.html)."
   ]
  },
  {
   "cell_type": "markdown",
   "id": "144577cf",
   "metadata": {},
   "source": [
    "## Train elasticnet wine model using `mlflow`"
   ]
  },
  {
   "cell_type": "markdown",
   "id": "d6201b16",
   "metadata": {},
   "source": [
    "### Install `mlflow` and required dependencies to train the model"
   ]
  },
  {
   "cell_type": "code",
   "execution_count": null,
   "id": "65d444af",
   "metadata": {},
   "outputs": [],
   "source": [
    "!pip install mlflow scikit-learn==0.23.2 pandas"
   ]
  },
  {
   "cell_type": "markdown",
   "id": "74c9dc2b",
   "metadata": {},
   "source": [
    "### Define where the model artifacts will be saved"
   ]
  },
  {
   "cell_type": "code",
   "execution_count": null,
   "id": "b66ccdff",
   "metadata": {},
   "outputs": [],
   "source": [
    "import os\n",
    "import shutil\n",
    "from pathlib import Path\n",
    "MODEL_DIR = Path(os.getcwd()) / \"elasticnet_wine_model\"\n",
    "shutil.rmtree(MODEL_DIR, ignore_errors=True)"
   ]
  },
  {
   "cell_type": "markdown",
   "id": "54993046",
   "metadata": {},
   "source": [
    "### Define training function"
   ]
  },
  {
   "cell_type": "code",
   "execution_count": null,
   "id": "57f8a675",
   "metadata": {},
   "outputs": [],
   "source": [
    "# Wine Quality Sample a copy from: \n",
    "# https://github.com/mlflow/mlflow/blob/master/examples/sklearn_elasticnet_wine/train.ipynb\n",
    "\n",
    "def train(in_alpha, in_l1_ratio):\n",
    "    import os\n",
    "    import warnings\n",
    "    import sys\n",
    "\n",
    "    import pandas as pd\n",
    "    import numpy as np\n",
    "    from sklearn.metrics import mean_squared_error, mean_absolute_error, r2_score\n",
    "    from sklearn.model_selection import train_test_split\n",
    "    from sklearn.linear_model import ElasticNet\n",
    "\n",
    "    import mlflow\n",
    "    import mlflow.sklearn\n",
    "    \n",
    "    import logging\n",
    "    logging.basicConfig(level=logging.WARN)\n",
    "    logger = logging.getLogger(__name__)\n",
    "\n",
    "    def eval_metrics(actual, pred):\n",
    "        rmse = np.sqrt(mean_squared_error(actual, pred))\n",
    "        mae = mean_absolute_error(actual, pred)\n",
    "        r2 = r2_score(actual, pred)\n",
    "        return rmse, mae, r2\n",
    "\n",
    "\n",
    "    warnings.filterwarnings(\"ignore\")\n",
    "    np.random.seed(40)\n",
    "\n",
    "    # Read the wine-quality csv file from the URL\n",
    "    csv_url =\\\n",
    "        'http://archive.ics.uci.edu/ml/machine-learning-databases/wine-quality/winequality-red.csv'\n",
    "    try:\n",
    "        data = pd.read_csv(csv_url, sep=';')\n",
    "    except Exception as e:\n",
    "        logger.exception(\n",
    "            \"Unable to download training & test CSV, check your internet connection. Error: %s\", e)\n",
    "\n",
    "    # Split the data into training and test sets. (0.75, 0.25) split.\n",
    "    train, test = train_test_split(data)\n",
    "\n",
    "    # The predicted column is \"quality\" which is a scalar from [3, 9]\n",
    "    train_x = train.drop([\"quality\"], axis=1)\n",
    "    test_x = test.drop([\"quality\"], axis=1)\n",
    "    train_y = train[[\"quality\"]]\n",
    "    test_y = test[[\"quality\"]]\n",
    "\n",
    "    # Set default values if no alpha is provided\n",
    "    if float(in_alpha) is None:\n",
    "        alpha = 0.5\n",
    "    else:\n",
    "        alpha = float(in_alpha)\n",
    "\n",
    "    # Set default values if no l1_ratio is provided\n",
    "    if float(in_l1_ratio) is None:\n",
    "        l1_ratio = 0.5\n",
    "    else:\n",
    "        l1_ratio = float(in_l1_ratio)\n",
    "\n",
    "    # Useful for multiple runs (only doing one run in this sample notebook)    \n",
    "    with mlflow.start_run():\n",
    "        # Execute ElasticNet\n",
    "        lr = ElasticNet(alpha=alpha, l1_ratio=l1_ratio, random_state=42)\n",
    "        lr.fit(train_x, train_y)\n",
    "\n",
    "        # Evaluate Metrics\n",
    "        predicted_qualities = lr.predict(test_x)\n",
    "        (rmse, mae, r2) = eval_metrics(test_y, predicted_qualities)\n",
    "\n",
    "        # Print out metrics\n",
    "        print(\"Elasticnet model (alpha=%f, l1_ratio=%f):\" % (alpha, l1_ratio))\n",
    "        print(\"  RMSE: %s\" % rmse)\n",
    "        print(\"  MAE: %s\" % mae)\n",
    "        print(\"  R2: %s\" % r2)\n",
    "\n",
    "        # Log parameter, metrics, and model to MLflow\n",
    "        mlflow.log_param(\"alpha\", alpha)\n",
    "        mlflow.log_param(\"l1_ratio\", l1_ratio)\n",
    "        mlflow.log_metric(\"rmse\", rmse)\n",
    "        mlflow.log_metric(\"r2\", r2)\n",
    "        mlflow.log_metric(\"mae\", mae)\n",
    "\n",
    "        mlflow.sklearn.save_model(lr, MODEL_DIR)\n",
    "        print(f\" Model saved to {MODEL_DIR}\")"
   ]
  },
  {
   "cell_type": "markdown",
   "id": "5e97b0ab",
   "metadata": {},
   "source": [
    "### Train the elasticnet_wine model"
   ]
  },
  {
   "cell_type": "code",
   "execution_count": null,
   "id": "33f84e54",
   "metadata": {
    "scrolled": true
   },
   "outputs": [],
   "source": [
    "train(0.5, 0.5)"
   ]
  },
  {
   "cell_type": "markdown",
   "id": "4e440e3c",
   "metadata": {},
   "source": [
    "### Install dependencies to be able to pack and deploy the model on `seldon_core`"
   ]
  },
  {
   "cell_type": "markdown",
   "id": "7be3a300",
   "metadata": {},
   "source": [
    "We are going to use [`conda-pack`](https://conda.github.io/conda-pack/) to pack the python enviornment. We also need `mlserver` dependencies.\n",
    "We are planning to simplify this workflow in future releases."
   ]
  },
  {
   "cell_type": "code",
   "execution_count": null,
   "id": "00aeeccb",
   "metadata": {},
   "outputs": [],
   "source": [
    "!pip install conda-pack mlserver==0.4.0 mlserver-mlflow==0.4.0"
   ]
  },
  {
   "cell_type": "markdown",
   "id": "9cb7f760",
   "metadata": {},
   "source": [
    "### Pack the conda enviornment"
   ]
  },
  {
   "cell_type": "code",
   "execution_count": null,
   "id": "0fbfe38f",
   "metadata": {},
   "outputs": [],
   "source": [
    "import conda_pack\n",
    "env_file_path = MODEL_DIR / \"environment.tar.gz\"\n",
    "conda_pack.pack(\n",
    "    output=str(env_file_path),\n",
    "    force=True,\n",
    "    verbose=True,\n",
    "    ignore_editable_packages=False,\n",
    "    ignore_missing_files=True,\n",
    ")"
   ]
  },
  {
   "cell_type": "markdown",
   "id": "d851890f",
   "metadata": {},
   "source": [
    "### Configure `mc` to access the minio service in the local kind cluster\n",
    "note: make sure that minio ip is reflected properly below, run `kubectl get service -n minio-system`"
   ]
  },
  {
   "cell_type": "code",
   "execution_count": null,
   "id": "e4373b0e",
   "metadata": {},
   "outputs": [],
   "source": [
    "!mc config host add minio-seldon http://172.18.255.3:9000 minioadmin minioadmin"
   ]
  },
  {
   "cell_type": "markdown",
   "id": "0a4d4733",
   "metadata": {},
   "source": [
    "### Copy the model artifacts to minio"
   ]
  },
  {
   "cell_type": "code",
   "execution_count": null,
   "id": "7434bf31",
   "metadata": {},
   "outputs": [],
   "source": [
    "import os\n",
    "target_bucket = \"minio-seldon/models\"\n",
    "os.system(f\"mc rb --force {target_bucket}\")\n",
    "os.system(f\"mc mb {target_bucket}\")\n",
    "os.system(f\"mc cp --recursive {MODEL_DIR} {target_bucket}\")"
   ]
  },
  {
   "cell_type": "markdown",
   "id": "6325166a-01b8-4742-b00f-1fbb8d6c5cf7",
   "metadata": {},
   "source": [
    "### Create model deployment configuration"
   ]
  },
  {
   "cell_type": "code",
   "execution_count": null,
   "id": "84ca9ee9",
   "metadata": {},
   "outputs": [],
   "source": [
    "%%writefile mlflow_elasticnet_wine_v2.yaml\n",
    "apiVersion: machinelearning.seldon.io/v1alpha2\n",
    "kind: SeldonDeployment\n",
    "metadata:\n",
    "  name: mlflow\n",
    "spec:\n",
    "  protocol: kfserving  # Activate v2 protocol\n",
    "  name: wines\n",
    "  predictors:\n",
    "    - graph:\n",
    "        children: []\n",
    "        implementation: MLFLOW_SERVER\n",
    "        modelUri: s3://models/elasticnet_wine_model  # note: s3 points to minio-seldon in the local kind cluster\n",
    "        envSecretRefName: seldon-rclone-secret\n",
    "        name: classifier\n",
    "      name: default\n",
    "      replicas: 1"
   ]
  },
  {
   "cell_type": "markdown",
   "id": "63994123-0f7f-4cb8-b940-231138f69f48",
   "metadata": {},
   "source": [
    "### Deploy the model on the local kind cluster"
   ]
  },
  {
   "cell_type": "code",
   "execution_count": null,
   "id": "a0050f5e",
   "metadata": {},
   "outputs": [],
   "source": [
    "!kubectl apply -f mlflow_elasticnet_wine_v2.yaml"
   ]
  },
  {
   "cell_type": "code",
   "execution_count": null,
   "id": "20d0891e",
   "metadata": {
    "scrolled": true
   },
   "outputs": [],
   "source": [
    "!kubectl rollout status deploy/$(kubectl get deploy -l seldon-deployment-id=mlflow -o jsonpath='{.items[0].metadata.name}')"
   ]
  },
  {
   "cell_type": "markdown",
   "id": "1a2e1a24-7407-4bf5-a589-f87d5c352218",
   "metadata": {},
   "source": [
    "### Get prediction from the service using REST"
   ]
  },
  {
   "cell_type": "code",
   "execution_count": null,
   "id": "33ff7b69",
   "metadata": {},
   "outputs": [],
   "source": [
    "import json\n",
    "\n",
    "import requests\n",
    "\n",
    "inference_request = {\n",
    "    \"parameters\": {\n",
    "        \"content_type\": \"pd\"\n",
    "    },\n",
    "    \"inputs\": [\n",
    "        {\n",
    "          \"name\": \"fixed acidity\",\n",
    "          \"shape\": [1],\n",
    "          \"datatype\": \"FP32\",\n",
    "          \"data\": [7.4],\n",
    "          \"parameters\": {\n",
    "              \"content_type\": \"np\"\n",
    "          }\n",
    "        },\n",
    "        {\n",
    "          \"name\": \"volatile acidity\",\n",
    "          \"shape\": [1],\n",
    "          \"datatype\": \"FP32\",\n",
    "          \"data\": [0.7000],\n",
    "          \"parameters\": {\n",
    "              \"content_type\": \"np\"\n",
    "          }\n",
    "        },\n",
    "        {\n",
    "          \"name\": \"citric acidity\",\n",
    "          \"shape\": [1],\n",
    "          \"datatype\": \"FP32\",\n",
    "          \"data\": [0],\n",
    "          \"parameters\": {\n",
    "              \"content_type\": \"np\"\n",
    "          }\n",
    "        },\n",
    "        {\n",
    "          \"name\": \"residual sugar\",\n",
    "          \"shape\": [1],\n",
    "          \"datatype\": \"FP32\",\n",
    "          \"data\": [1.9],\n",
    "          \"parameters\": {\n",
    "              \"content_type\": \"np\"\n",
    "          }\n",
    "        },\n",
    "        {\n",
    "          \"name\": \"chlorides\",\n",
    "          \"shape\": [1],\n",
    "          \"datatype\": \"FP32\",\n",
    "          \"data\": [0.076],\n",
    "          \"parameters\": {\n",
    "              \"content_type\": \"np\"\n",
    "          }\n",
    "        },\n",
    "        {\n",
    "          \"name\": \"free sulfur dioxide\",\n",
    "          \"shape\": [1],\n",
    "          \"datatype\": \"FP32\",\n",
    "          \"data\": [11],\n",
    "          \"parameters\": {\n",
    "              \"content_type\": \"np\"\n",
    "          }\n",
    "        },\n",
    "        {\n",
    "          \"name\": \"total sulfur dioxide\",\n",
    "          \"shape\": [1],\n",
    "          \"datatype\": \"FP32\",\n",
    "          \"data\": [34],\n",
    "          \"parameters\": {\n",
    "              \"content_type\": \"np\"\n",
    "          }\n",
    "        },\n",
    "        {\n",
    "          \"name\": \"density\",\n",
    "          \"shape\": [1],\n",
    "          \"datatype\": \"FP32\",\n",
    "          \"data\": [0.9978],\n",
    "          \"parameters\": {\n",
    "              \"content_type\": \"np\"\n",
    "          }\n",
    "        },\n",
    "        {\n",
    "          \"name\": \"pH\",\n",
    "          \"shape\": [1],\n",
    "          \"datatype\": \"FP32\",\n",
    "          \"data\": [3.51],\n",
    "          \"parameters\": {\n",
    "              \"content_type\": \"np\"\n",
    "          }\n",
    "        },\n",
    "        {\n",
    "          \"name\": \"sulphates\",\n",
    "          \"shape\": [1],\n",
    "          \"datatype\": \"FP32\",\n",
    "          \"data\": [0.56],\n",
    "          \"parameters\": {\n",
    "              \"content_type\": \"np\"\n",
    "          }\n",
    "        },\n",
    "        {\n",
    "          \"name\": \"alcohol\",\n",
    "          \"shape\": [1],\n",
    "          \"datatype\": \"FP32\",\n",
    "          \"data\": [9.4],\n",
    "          \"parameters\": {\n",
    "              \"content_type\": \"np\"\n",
    "          }\n",
    "        },\n",
    "    ]\n",
    "}\n",
    "\n",
    "# note is the local balancer for istion, make sure that the ip is reflected in the setup,\n",
    "# run kubectl get service -n istio-system\n",
    "endpoint = \"http://172.18.255.1/seldon/seldon/mlflow/v2/models/infer\"\n",
    "response = requests.post(endpoint, json=inference_request)\n",
    "\n",
    "print(json.dumps(response.json(), indent=2))\n",
    "assert response.ok"
   ]
  },
  {
   "cell_type": "markdown",
   "id": "fc974c57-57b3-44aa-b02b-4cc61892f871",
   "metadata": {},
   "source": [
    "### Delete the model deployment"
   ]
  },
  {
   "cell_type": "code",
   "execution_count": null,
   "id": "f82997a8",
   "metadata": {},
   "outputs": [],
   "source": [
    "!kubectl delete -f mlflow_elasticnet_wine_v2.yaml"
   ]
  },
  {
   "cell_type": "code",
   "execution_count": null,
   "id": "4886debf-c2ed-415f-9e8c-619511552aa5",
   "metadata": {},
   "outputs": [],
   "source": []
  }
 ],
 "metadata": {
  "kernelspec": {
   "display_name": "Python 3 (ipykernel)",
   "language": "python",
   "name": "python3"
  },
  "language_info": {
   "codemirror_mode": {
    "name": "ipython",
    "version": 3
   },
   "file_extension": ".py",
   "mimetype": "text/x-python",
   "name": "python",
   "nbconvert_exporter": "python",
   "pygments_lexer": "ipython3",
   "version": "3.8.11"
  }
 },
 "nbformat": 4,
 "nbformat_minor": 5
}
