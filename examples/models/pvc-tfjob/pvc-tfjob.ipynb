{
 "cells": [
  {
   "cell_type": "markdown",
   "metadata": {},
   "source": [
    "# PVC with TFJob MNIST Example"
   ]
  },
  {
   "cell_type": "markdown",
   "metadata": {},
   "source": [
    "In this example we will deploy a tensorflow MNIST model. The model will be created using a TFJob and stored in a PVC. \n",
    "\n",
    "This example requires `TFJob`. The example is [based on a Kubeflow example](https://github.com/kubeflow/kfserving/tree/master/docs/samples/pvc) and is [tailored for Seldon](https://github.com/SeldonIO/seldon-core/issues/1106).\n",
    "\n",
    "First install the `TFJob` custom resource or all of Kubeflow, together with Seldon. Follow your chosen [Kubeflow installation as these currently all include Seldon](https://www.kubeflow.org/docs/started/k8s/). You'll also need to [be able to provision volumes on your cluster](https://github.com/SeldonIO/seldon-core/issues/1191#issuecomment-562047298).\n",
    "\n",
    "Then follow the below steps to create a PVC, create a model on the pvc using `TFJob` and create a `SeldonDeployment` for the model."
   ]
  },
  {
   "cell_type": "code",
   "execution_count": null,
   "metadata": {},
   "outputs": [],
   "source": [
    "kubectl apply -f pvc.yaml"
   ]
  },
  {
   "cell_type": "code",
   "execution_count": null,
   "metadata": {},
   "outputs": [],
   "source": [
    "kubectl apply -f tfjob.yaml"
   ]
  },
  {
   "cell_type": "code",
   "execution_count": null,
   "metadata": {},
   "outputs": [],
   "source": [
    "kubectl apply -f sdep-pvc.yaml"
   ]
  }
 ],
 "metadata": {
  "kernelspec": {
   "display_name": "Python 3",
   "language": "python",
   "name": "python3"
  },
  "language_info": {
   "codemirror_mode": {
    "name": "ipython",
    "version": 3
   },
   "file_extension": ".py",
   "mimetype": "text/x-python",
   "name": "python",
   "nbconvert_exporter": "python",
   "pygments_lexer": "ipython3",
   "version": "3.7.3"
  }
 },
 "nbformat": 4,
 "nbformat_minor": 2
}
