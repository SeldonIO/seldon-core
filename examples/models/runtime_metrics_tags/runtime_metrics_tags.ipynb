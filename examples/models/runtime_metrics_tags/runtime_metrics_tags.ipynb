{
 "cells": [
  {
   "cell_type": "markdown",
   "metadata": {},
   "source": [
    "# Runtime Metrics / Tags Example\n",
    "\n",
    "\n",
    "## Prerequisites\n",
    "\n",
    " * Kind cluster with Seldon Installed\n",
    " * curl\n",
    " * s2i\n",
    " * seldon-core-analytics\n",
    "\n",
    " \n",
    "## Setup Seldon Core\n",
    "\n",
    "Use the setup notebook to [Setup Cluster](https://docs.seldon.io/projects/seldon-core/en/latest/examples/seldon_core_setup.html) to setup Seldon Core with an ingress."
   ]
  },
  {
   "cell_type": "code",
   "execution_count": 1,
   "metadata": {},
   "outputs": [
    {
     "name": "stdout",
     "output_type": "stream",
     "text": [
      "Error from server (AlreadyExists): namespaces \"seldon\" already exists\n"
     ]
    }
   ],
   "source": [
    "!kubectl create namespace seldon"
   ]
  },
  {
   "cell_type": "code",
   "execution_count": 2,
   "metadata": {},
   "outputs": [
    {
     "name": "stdout",
     "output_type": "stream",
     "text": [
      "Context \"kind-kind\" modified.\n"
     ]
    }
   ],
   "source": [
    "!kubectl config set-context $(kubectl config current-context) --namespace=seldon"
   ]
  },
  {
   "cell_type": "markdown",
   "metadata": {},
   "source": [
    "## Install Seldon Core Analytics"
   ]
  },
  {
   "cell_type": "code",
   "execution_count": 3,
   "metadata": {},
   "outputs": [
    {
     "name": "stdout",
     "output_type": "stream",
     "text": [
      "Error: cannot re-use a name that is still in use\n"
     ]
    }
   ],
   "source": [
    "!helm install seldon-core-analytics ../../../helm-charts/seldon-core-analytics -n seldon-system --wait"
   ]
  },
  {
   "cell_type": "markdown",
   "metadata": {},
   "source": [
    "## Define Model"
   ]
  },
  {
   "cell_type": "code",
   "execution_count": 4,
   "metadata": {},
   "outputs": [
    {
     "name": "stdout",
     "output_type": "stream",
     "text": [
      "Overwriting Model.py\n"
     ]
    }
   ],
   "source": [
    "%%writefile Model.py\n",
    "import logging\n",
    "\n",
    "from seldon_core.user_model import SeldonResponse\n",
    "\n",
    "\n",
    "def reshape(x):\n",
    "    if len(x.shape) < 2:\n",
    "        return x.reshape(1, -1)\n",
    "    else:\n",
    "        return x\n",
    "\n",
    "\n",
    "class Model:\n",
    "    def predict(self, features, names=[], meta={}):\n",
    "        X = reshape(features)\n",
    "\n",
    "        logging.info(f\"model features: {features}\")\n",
    "        logging.info(f\"model names: {names}\")\n",
    "        logging.info(f\"model meta: {meta}\")\n",
    "\n",
    "        logging.info(f\"model X: {X}\")\n",
    "\n",
    "        runtime_metrics = [{\"type\": \"COUNTER\", \"key\": \"instance_counter\", \"value\": len(X)}]\n",
    "        runtime_tags = {\"runtime\": \"tag\", \"shared\": \"right one\"}\n",
    "        return SeldonResponse(data=X, metrics=runtime_metrics, tags=runtime_tags)\n",
    "\n",
    "    def metrics(self):\n",
    "        return [{\"type\": \"COUNTER\", \"key\": \"requests_counter\", \"value\": 1}]\n",
    "\n",
    "    def tags(self):\n",
    "        return {\"static\": \"tag\", \"shared\": \"not right one\"}      "
   ]
  },
  {
   "cell_type": "markdown",
   "metadata": {},
   "source": [
    "## Build Image and load into kind cluster"
   ]
  },
  {
   "cell_type": "code",
   "execution_count": 5,
   "metadata": {},
   "outputs": [
    {
     "name": "stderr",
     "output_type": "stream",
     "text": [
      "---> Installing application source...\n",
      "Collecting pip-licenses\n",
      "Downloading https://files.pythonhosted.org/packages/c5/50/6c4b4e69a0c43bd9f03a30579695093062ba72da4e3e4026cd2144dbcc71/pip_licenses-2.3.0-py3-none-any.whl\n",
      "Collecting PTable (from pip-licenses)\n",
      "Downloading https://files.pythonhosted.org/packages/ab/b3/b54301811173ca94119eb474634f120a49cd370f257d1aae5a4abaf12729/PTable-0.9.2.tar.gz\n",
      "Building wheels for collected packages: PTable\n",
      "Building wheel for PTable (setup.py): started\n",
      "Building wheel for PTable (setup.py): finished with status 'done'\n",
      "Created wheel for PTable: filename=PTable-0.9.2-cp37-none-any.whl size=22906 sha256=fe30596e3606620d3cfba1d38ee16568d716eebc86368394bfaf62cbe9a905c3\n",
      "Stored in directory: /root/.cache/pip/wheels/22/cc/2e/55980bfe86393df3e9896146a01f6802978d09d7ebcba5ea56\n",
      "Successfully built PTable\n",
      "Installing collected packages: PTable, pip-licenses\n",
      "Successfully installed PTable-0.9.2 pip-licenses-2.3.0\n",
      "created path: ./licenses/license_info.csv\n",
      "created path: ./licenses/license.txt\n",
      "Build completed successfully\n",
      "Image: \"runtime-metrics-tags:0.1\" with ID \"sha256:75b9a64cf21c3ae335eb62fadf76d9841b057b899fdf2778833cdba5e26295f8\" not yet present on node \"kind-control-plane\", loading...\n"
     ]
    }
   ],
   "source": [
    "%%bash\n",
    "s2i build -E ENVIRONMENT_REST . seldonio/seldon-core-s2i-python37-ubi8:1.7.0-dev runtime-metrics-tags:0.1\n",
    "kind load docker-image runtime-metrics-tags:0.1"
   ]
  },
  {
   "cell_type": "markdown",
   "metadata": {},
   "source": [
    "## Deploy Model"
   ]
  },
  {
   "cell_type": "code",
   "execution_count": 6,
   "metadata": {},
   "outputs": [
    {
     "name": "stdout",
     "output_type": "stream",
     "text": [
      "Overwriting deployment.yaml\n"
     ]
    }
   ],
   "source": [
    "%%writefile deployment.yaml\n",
    "\n",
    "apiVersion: machinelearning.seldon.io/v1\n",
    "kind: SeldonDeployment\n",
    "metadata:\n",
    "  name: seldon-model-runtime-data\n",
    "spec:\n",
    "  name: test-deployment\n",
    "  predictors:\n",
    "  - componentSpecs:\n",
    "    - spec:\n",
    "        containers:\n",
    "        - image: runtime-metrics-tags:0.1\n",
    "          name: my-model\n",
    "    graph:\n",
    "      name: my-model\n",
    "      type: MODEL\n",
    "    name: example\n",
    "    replicas: 1"
   ]
  },
  {
   "cell_type": "code",
   "execution_count": 7,
   "metadata": {},
   "outputs": [
    {
     "name": "stdout",
     "output_type": "stream",
     "text": [
      "seldondeployment.machinelearning.seldon.io/seldon-model-runtime-data created\n"
     ]
    }
   ],
   "source": [
    "!kubectl apply -f deployment.yaml"
   ]
  },
  {
   "cell_type": "code",
   "execution_count": 8,
   "metadata": {},
   "outputs": [
    {
     "name": "stdout",
     "output_type": "stream",
     "text": [
      "Waiting for deployment \"seldon-model-runtime-data-example-0-my-model\" rollout to finish: 0 of 1 updated replicas are available...\n",
      "deployment \"seldon-model-runtime-data-example-0-my-model\" successfully rolled out\n"
     ]
    }
   ],
   "source": [
    "!kubectl rollout status deploy/$(kubectl get deploy -l seldon-deployment-id=seldon-model-runtime-data -o jsonpath='{.items[0].metadata.name}')"
   ]
  },
  {
   "cell_type": "markdown",
   "metadata": {},
   "source": [
    "## Send few inference requests"
   ]
  },
  {
   "cell_type": "code",
   "execution_count": 13,
   "metadata": {},
   "outputs": [
    {
     "name": "stdout",
     "output_type": "stream",
     "text": [
      "{\"data\":{\"names\":[\"t:0\",\"t:1\",\"t:2\"],\"ndarray\":[[1,2,3]]},\"meta\":{\"metrics\":[{\"key\":\"requests_counter\",\"type\":\"COUNTER\",\"value\":1},{\"key\":\"instance_counter\",\"type\":\"COUNTER\",\"value\":1}],\"tags\":{\"runtime\":\"tag\",\"shared\":\"right one\",\"static\":\"tag\"}}}\n"
     ]
    }
   ],
   "source": [
    "%%bash\n",
    "curl -s -H 'Content-Type: application/json' -d '{\"data\": {\"ndarray\": [[1, 2, 3]]}}' \\\n",
    "    http://localhost:8003/seldon/seldon/seldon-model-runtime-data/api/v1.0/predictions"
   ]
  },
  {
   "cell_type": "code",
   "execution_count": 14,
   "metadata": {},
   "outputs": [
    {
     "name": "stdout",
     "output_type": "stream",
     "text": [
      "{\"data\":{\"names\":[\"t:0\",\"t:1\",\"t:2\"],\"ndarray\":[[1,2,3],[4,5,6]]},\"meta\":{\"metrics\":[{\"key\":\"requests_counter\",\"type\":\"COUNTER\",\"value\":1},{\"key\":\"instance_counter\",\"type\":\"COUNTER\",\"value\":2}],\"tags\":{\"runtime\":\"tag\",\"shared\":\"right one\",\"static\":\"tag\"}}}\n"
     ]
    }
   ],
   "source": [
    "%%bash\n",
    "curl -s -H 'Content-Type: application/json' -d '{\"data\": {\"ndarray\": [[1, 2, 3], [4, 5, 6]]}}' \\\n",
    "    http://localhost:8003/seldon/seldon/seldon-model-runtime-data/api/v1.0/predictions"
   ]
  },
  {
   "cell_type": "markdown",
   "metadata": {},
   "source": [
    "## Check metrics"
   ]
  },
  {
   "cell_type": "code",
   "execution_count": 15,
   "metadata": {},
   "outputs": [],
   "source": [
    "import json"
   ]
  },
  {
   "cell_type": "code",
   "execution_count": 16,
   "metadata": {},
   "outputs": [
    {
     "data": {
      "text/plain": [
       "'3'"
      ]
     },
     "execution_count": 16,
     "metadata": {},
     "output_type": "execute_result"
    }
   ],
   "source": [
    "metrics =! kubectl run --quiet=true -it --rm curlmetrics --image=radial/busyboxplus:curl --restart=Never -- \\\n",
    "    curl -s seldon-core-analytics-prometheus-seldon.seldon-system/api/v1/query?query=instance_counter_total\n",
    "\n",
    "json.loads(metrics[0])[\"data\"][\"result\"][0][\"value\"][1]"
   ]
  },
  {
   "cell_type": "code",
   "execution_count": 17,
   "metadata": {},
   "outputs": [
    {
     "data": {
      "text/plain": [
       "'2'"
      ]
     },
     "execution_count": 17,
     "metadata": {},
     "output_type": "execute_result"
    }
   ],
   "source": [
    "metrics =! kubectl run --quiet=true -it --rm curlmetrics --image=radial/busyboxplus:curl --restart=Never -- \\\n",
    "    curl -s seldon-core-analytics-prometheus-seldon.seldon-system/api/v1/query?query=requests_counter_total\n",
    "\n",
    "json.loads(metrics[0])[\"data\"][\"result\"][0][\"value\"][1]"
   ]
  },
  {
   "cell_type": "markdown",
   "metadata": {},
   "source": [
    "## Cleanup"
   ]
  },
  {
   "cell_type": "code",
   "execution_count": 18,
   "metadata": {},
   "outputs": [
    {
     "name": "stdout",
     "output_type": "stream",
     "text": [
      "seldondeployment.machinelearning.seldon.io \"seldon-model-runtime-data\" deleted\n"
     ]
    }
   ],
   "source": [
    "!kubectl delete -f deployment.yaml"
   ]
  },
  {
   "cell_type": "code",
   "execution_count": 19,
   "metadata": {},
   "outputs": [
    {
     "name": "stdout",
     "output_type": "stream",
     "text": [
      "release \"seldon-core-analytics\" uninstalled\n"
     ]
    }
   ],
   "source": [
    "!helm delete seldon-core-analytics --namespace seldon-system"
   ]
  }
 ],
 "metadata": {
  "kernelspec": {
   "display_name": "Python 3",
   "language": "python",
   "name": "python3"
  },
  "language_info": {
   "codemirror_mode": {
    "name": "ipython",
    "version": 3
   },
   "file_extension": ".py",
   "mimetype": "text/x-python",
   "name": "python",
   "nbconvert_exporter": "python",
   "pygments_lexer": "ipython3",
   "version": "3.8.5"
  }
 },
 "nbformat": 4,
 "nbformat_minor": 4
}
