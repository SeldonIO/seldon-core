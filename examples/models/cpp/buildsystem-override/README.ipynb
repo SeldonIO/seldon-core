{
 "cells": [
  {
   "cell_type": "markdown",
   "metadata": {},
   "source": [
    "# Advanced CPP Buildsystem Override\n",
    "\n",
    "In this example we will show how we can wrap a complex CPP project by extending the buildsystem defaults provided, which will give us flexibility to configure the required bindings.\n",
    "\n",
    "If you are looking for a basic implementation of the C++ wrapper, you can get started with the [\"Single file C++ Example\"](https://docs.seldon.io/projects/seldon-core/en/latest/examples/cpp_simple.html).\n",
    "\n",
    "You can read about how to configure your environment in the [CPP Wrapper documentation page](https://docs.seldon.io/projects/seldon-core/en/latest/cpp/README.html)."
   ]
  },
  {
   "cell_type": "markdown",
   "metadata": {},
   "source": [
    "## Naming Conventions\n",
    "\n",
    "In this example we will have full control on naming conventions.\n",
    "\n",
    "More specifically there are a few key naming conventions that we need to consider:\n",
    "* Python Module name\n",
    "* Python Wrapper Class name\n",
    "* C++ Library Name\n",
    "\n",
    "As long as we keep these three key naming conventions in mind, we will have full flexibility on the entire build system.\n",
    "\n",
    "For this project we will choose the following naming conventions:\n",
    "* Python Module Name: `CustomSeldonPackage`\n",
    "* Python Wrapper Class: `MyModelClass`\n",
    "* C++ Library Name: `CustomSeldonPackage`\n",
    "\n",
    "As you can see, the name of the Python Module and C++ Library can be the same.\n",
    "\n",
    "## Wrapper Class\n",
    "\n",
    "We will first start with the wrapper code of our example. We'll first create our file `Main.cpp` and we'll explain in detail each section below."
   ]
  },
  {
   "cell_type": "code",
   "execution_count": 1,
   "metadata": {},
   "outputs": [
    {
     "name": "stdout",
     "output_type": "stream",
     "text": [
      "Overwriting Main.cpp\n"
     ]
    }
   ],
   "source": [
    "%%writefile Main.cpp\n",
    "#include \"seldon/SeldonModel.hpp\"\n",
    "\n",
    "class MyModelClass : public seldon::SeldonModelBase {\n",
    "\n",
    "    seldon::protos::SeldonMessage predict(seldon::protos::SeldonMessage &data) override {\n",
    "        return data;\n",
    "    }\n",
    "};\n",
    "\n",
    "SELDON_BIND_MODULE(CustomSeldonPackage, MyModelClass)\n"
   ]
  },
  {
   "cell_type": "markdown",
   "metadata": {},
   "source": [
    "In this file we basically have to note the following key points:\n",
    "\n",
    "* We import `\"seldon/SeldonModel.hpp\"` which is from the Seldon package\n",
    "* We use our custom class name `\"MyModelClass\"`\n",
    "* We extend the `SeldonModelBase` class which processes the protos for us\n",
    "* We override the `predict()` function which provides the raw protos\n",
    "* We register our class as `SELDON_BIND_MODULE` passing the package name and class name"
   ]
  },
  {
   "cell_type": "markdown",
   "metadata": {},
   "source": [
    "## Buildsystem CMakeLists.txt\n",
    "For the build system we have integrated with CMake, as this provides quite a lot of flexibility, and easy integration with external projects.\n",
    "\n",
    "In this case below are the minimal configurations required in order for everything to work smoothly. The key components to note are:\n",
    "\n",
    "* We fetch the seldon and pybind11 packages\n",
    "* We register our C++ library with the name `CustomSeldonMessage`\n",
    "* We bind the package with the seldon library\n",
    "\n",
    "You are able to extend the points below as required."
   ]
  },
  {
   "cell_type": "code",
   "execution_count": 3,
   "metadata": {},
   "outputs": [
    {
     "name": "stdout",
     "output_type": "stream",
     "text": [
      "Overwriting CMakeLists.txt\n"
     ]
    }
   ],
   "source": [
    "%%writefile CMakeLists.txt\n",
    "cmake_minimum_required(VERSION 3.4.1)\n",
    "project(seldon_custom_model VERSION 0.0.1)\n",
    "\n",
    "set(CMAKE_CXX_STANDARD 14)\n",
    "\n",
    "find_package(seldon REQUIRED)\n",
    "find_package(pybind11 REQUIRED)\n",
    "\n",
    "pybind11_add_module(\n",
    "    CustomSeldonPackage\n",
    "    Main.cpp)\n",
    "\n",
    "target_link_libraries(\n",
    "    CustomSeldonPackage PRIVATE\n",
    "    seldon::seldon)"
   ]
  },
  {
   "cell_type": "markdown",
   "metadata": {},
   "source": [
    "# Environment Variables\n",
    "The final component is to specify the environment variables. \n",
    "\n",
    "FOr this we can either pass the env variable as a parameter to the `s2i` command below, or in this example we'll approach it by the other option which is creating an environment file in the `.s2i/environment` file.\n",
    "\n",
    "The environment variable is `MODEL_NAME`, which should contain the name of your package and model. \n",
    "\n",
    "In our case it is `CustomSeldonPackage.MyModelClass` as follows:"
   ]
  },
  {
   "cell_type": "code",
   "execution_count": 22,
   "metadata": {},
   "outputs": [],
   "source": [
    "!mkdir -p .s2i/"
   ]
  },
  {
   "cell_type": "code",
   "execution_count": 23,
   "metadata": {},
   "outputs": [
    {
     "name": "stderr",
     "output_type": "stream",
     "text": [
      "UsageError: Line magic function `%writefile` not found (But cell magic `%%writefile` exists, did you mean that instead?).\n"
     ]
    }
   ],
   "source": [
    "%writefile .s2i/environment\n",
    "MODEL_NAME = CustomSeldonPackage.MyModelClass"
   ]
  },
  {
   "cell_type": "markdown",
   "metadata": {},
   "source": [
    "## (Optional) Extend CMake Config via Setup.py\n",
    "\n",
    "In our case we won't have to pass any custom CMAKE parameters as we can configure everything through the `CMakeLists.txt`, but if you wish to modify how your C++ wrapper is packaged you can extend the setup.py file by following the details in the CPP Wrapper documentation page."
   ]
  },
  {
   "cell_type": "markdown",
   "metadata": {},
   "source": [
    "## Build Seldon Microservice\n",
    "\n",
    "We can now build our seldon microservice using `s2i`:"
   ]
  },
  {
   "cell_type": "code",
   "execution_count": 24,
   "metadata": {},
   "outputs": [
    {
     "name": "stdout",
     "output_type": "stream",
     "text": [
      "---> Installing application source...\n",
      "---> Installing application ...\n",
      "Looking in links: /whl\n",
      "Obtaining file:///microservice\n",
      "Installing collected packages: SeldonPackage\n",
      "Running setup.py develop for SeldonPackage\n",
      "Successfully installed SeldonPackage\n",
      "Collecting pip-licenses\n",
      "Downloading https://files.pythonhosted.org/packages/08/b4/6e53ab4e82e2b9f8356dd17d7b9e30cba57ba0460186c92cc05e8a1a7f97/pip_licenses-3.0.0-py3-none-any.whl\n",
      "Collecting PTable (from pip-licenses)\n",
      "Downloading https://files.pythonhosted.org/packages/ab/b3/b54301811173ca94119eb474634f120a49cd370f257d1aae5a4abaf12729/PTable-0.9.2.tar.gz\n",
      "Building wheels for collected packages: PTable\n",
      "Building wheel for PTable (setup.py): started\n",
      "Building wheel for PTable (setup.py): finished with status 'done'\n",
      "Created wheel for PTable: filename=PTable-0.9.2-cp37-none-any.whl size=22906 sha256=98facc4ac39cd0e7c89a7c87587cf9941e9aa75817f105b8e5e01b499d1efb2a\n",
      "Stored in directory: /root/.cache/pip/wheels/22/cc/2e/55980bfe86393df3e9896146a01f6802978d09d7ebcba5ea56\n",
      "Successfully built PTable\n",
      "Installing collected packages: PTable, pip-licenses\n",
      "Successfully installed PTable-0.9.2 pip-licenses-3.0.0\n",
      "created path: ./licenses/license_info.csv\n",
      "created path: ./licenses/license.txt\n",
      "Build completed successfully\n"
     ]
    }
   ],
   "source": [
    "!s2i build . seldonio/s2i-cpp-build:0.0.1 seldonio/advanced-cpp:0.1"
   ]
  },
  {
   "cell_type": "markdown",
   "metadata": {},
   "source": [
    "## Test our model locally by running docker"
   ]
  },
  {
   "cell_type": "code",
   "execution_count": 25,
   "metadata": {},
   "outputs": [
    {
     "name": "stdout",
     "output_type": "stream",
     "text": [
      "aaa5795779f2e605f7ead2772e912c8dd7de04002457eb4b3966b2b2182c63f4\n"
     ]
    }
   ],
   "source": [
    "!docker run --name \"advanced_cpp\" -d --rm -p 5000:5000 seldonio/advanced-cpp:0.1"
   ]
  },
  {
   "cell_type": "markdown",
   "metadata": {},
   "source": [
    "### Send request (which should return the same value)"
   ]
  },
  {
   "cell_type": "code",
   "execution_count": 26,
   "metadata": {},
   "outputs": [
    {
     "name": "stdout",
     "output_type": "stream",
     "text": [
      "{\"strData\":\"hello\"}"
     ]
    }
   ],
   "source": [
    "!curl -X POST -H 'Content-Type: application/json' \\\n",
    "   -d '{\"strData\":\"hello\"}' \\\n",
    "    http://localhost:5000/api/v1.0/predictions"
   ]
  },
  {
   "cell_type": "markdown",
   "metadata": {},
   "source": [
    "### Clean up"
   ]
  },
  {
   "cell_type": "code",
   "execution_count": 27,
   "metadata": {},
   "outputs": [
    {
     "name": "stdout",
     "output_type": "stream",
     "text": [
      "advanced_cpp\n"
     ]
    }
   ],
   "source": [
    "!docker rm -f \"advanced_cpp\""
   ]
  },
  {
   "cell_type": "markdown",
   "metadata": {},
   "source": [
    "## Deploy to seldon"
   ]
  },
  {
   "cell_type": "code",
   "execution_count": 17,
   "metadata": {},
   "outputs": [
    {
     "name": "stdout",
     "output_type": "stream",
     "text": [
      "seldondeployment.machinelearning.seldon.io/advanced-cpp created\n"
     ]
    }
   ],
   "source": [
    "%%bash\n",
    "kubectl apply -f - << END\n",
    "apiVersion: machinelearning.seldon.io/v1\n",
    "kind: SeldonDeployment\n",
    "metadata:\n",
    "  name: advanced-cpp\n",
    "spec:\n",
    "  predictors:\n",
    "  - componentSpecs:\n",
    "    - spec:\n",
    "        containers:\n",
    "          - image: seldonio/advanced-cpp:0.1\n",
    "            name: classifier\n",
    "    engineResources: {}\n",
    "    graph:\n",
    "      name: classifier\n",
    "      type: MODEL\n",
    "    name: default\n",
    "    replicas: 1\n",
    "END"
   ]
  },
  {
   "cell_type": "code",
   "execution_count": 18,
   "metadata": {},
   "outputs": [
    {
     "name": "stdout",
     "output_type": "stream",
     "text": [
      "{\"strData\":\"hello\"}"
     ]
    }
   ],
   "source": [
    "!curl -X POST -H 'Content-Type: application/json' \\\n",
    "   -d '{\"strData\":\"hello\"}' \\\n",
    "    http://localhost:80/seldon/default/advanced-cpp/api/v1.0/predictions"
   ]
  },
  {
   "cell_type": "code",
   "execution_count": 19,
   "metadata": {},
   "outputs": [
    {
     "name": "stdout",
     "output_type": "stream",
     "text": [
      "seldondeployment.machinelearning.seldon.io \"advanced-cpp\" deleted\n"
     ]
    }
   ],
   "source": [
    "!kubectl delete sdep advanced-cpp"
   ]
  },
  {
   "cell_type": "code",
   "execution_count": null,
   "metadata": {},
   "outputs": [],
   "source": []
  }
 ],
 "metadata": {
  "kernelspec": {
   "display_name": "Python 3",
   "language": "python",
   "name": "python3"
  },
  "language_info": {
   "codemirror_mode": {
    "name": "ipython",
    "version": 3
   },
   "file_extension": ".py",
   "mimetype": "text/x-python",
   "name": "python",
   "nbconvert_exporter": "python",
   "pygments_lexer": "ipython3",
   "version": "3.7.8"
  }
 },
 "nbformat": 4,
 "nbformat_minor": 4
}
