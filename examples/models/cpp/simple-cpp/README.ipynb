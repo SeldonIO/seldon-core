{
 "cells": [
  {
   "cell_type": "markdown",
   "metadata": {},
   "source": [
    "# Single CPP File Build\n",
    "\n",
    "In this example we will show how we can wrap a simple CPP project with the default parameters, which will enable us to just provide a single CPP file.\n",
    "\n",
    "If you want to wrap an existing library, or you have more complex requirements please refer to the [\"Build system override CPP Wrapper example\"](https://docs.seldon.io/projects/seldon-core/en/latest/examples/cpp_advanced.html).\n",
    "\n",
    "You can read about how to configure your environment in the [CPP Wrapper page](https://docs.seldon.io/projects/seldon-core/en/latest/cpp/README.html)."
   ]
  },
  {
   "cell_type": "markdown",
   "metadata": {},
   "source": [
    "## CPP Wrapper\n",
    "\n",
    "The only thing that we will need for this, is a single CPP file. \n",
    "\n",
    "To ensure we align with the defaults, the name of our CPP file has to be `SeldonPackage.cpp`.\n",
    "\n",
    "The contents of our file are quire minimal - namely:"
   ]
  },
  {
   "cell_type": "code",
   "execution_count": 1,
   "metadata": {},
   "outputs": [
    {
     "name": "stdout",
     "output_type": "stream",
     "text": [
      "Overwriting SeldonPackage.cpp\n"
     ]
    }
   ],
   "source": [
    "%%writefile SeldonPackage.cpp\n",
    "#include \"seldon/SeldonModel.hpp\"\n",
    "\n",
    "class ModelClass : public seldon::SeldonModelBase {\n",
    "\n",
    "    seldon::protos::SeldonMessage predict(seldon::protos::SeldonMessage &data) override {\n",
    "        return data;\n",
    "    }\n",
    "};\n",
    "\n",
    "SELDON_DEFAULT_BIND_MODULE()\n"
   ]
  },
  {
   "cell_type": "markdown",
   "metadata": {},
   "source": [
    "In this file we basically have to note the following key points:\n",
    "\n",
    "* We import `\"seldon/SeldonModel.hpp\"` which is from the Seldon package\n",
    "* For the defaults the name of our class has to be `\"ModelClass\"`\n",
    "* We extend the `SeldonModelBase` class which processes the protos for us\n",
    "* We override the `predict()` function which provides the raw protos\n",
    "* We register our class as `SELDON_DEFAULT_BIND_MODULE`"
   ]
  },
  {
   "cell_type": "markdown",
   "metadata": {},
   "source": [
    "## Build Seldon Microservice\n",
    "\n",
    "We can now build our seldon microservice using `s2i`:"
   ]
  },
  {
   "cell_type": "code",
   "execution_count": 2,
   "metadata": {},
   "outputs": [
    {
     "name": "stdout",
     "output_type": "stream",
     "text": [
      "---> Installing application source...\n",
      "---> Installing application ...\n",
      "Looking in links: /whl\n",
      "Obtaining file:///microservice\n",
      "Installing collected packages: SeldonPackage\n",
      "Running setup.py develop for SeldonPackage\n",
      "Successfully installed SeldonPackage\n",
      "WARNING: Url '/whl' is ignored. It is either a non-existing path or lacks a specific scheme.\n",
      "WARNING: You are using pip version 20.2; however, version 22.0.4 is available.\n",
      "You should consider upgrading via the '/opt/conda/bin/python -m pip install --upgrade pip' command.\n",
      "Collecting pip-licenses\n",
      "Downloading pip_licenses-3.5.3-py3-none-any.whl (17 kB)\n",
      "Collecting PTable\n",
      "Downloading PTable-0.9.2.tar.gz (31 kB)\n",
      "Building wheels for collected packages: PTable\n",
      "Building wheel for PTable (setup.py): started\n",
      "Building wheel for PTable (setup.py): finished with status 'done'\n",
      "Created wheel for PTable: filename=PTable-0.9.2-py3-none-any.whl size=22908 sha256=3957aaca98c08e334c02711f973964454d089ed7ec1d25760986f01af67dde69\n",
      "Stored in directory: /root/.cache/pip/wheels/1b/3a/02/8d8da2bca2223dda2f827949c88b2d82dc85dccbc2bb6265e5\n",
      "Successfully built PTable\n",
      "Installing collected packages: PTable, pip-licenses\n",
      "Successfully installed PTable-0.9.2 pip-licenses-3.5.3\n",
      "WARNING: You are using pip version 20.2; however, version 22.0.4 is available.\n",
      "You should consider upgrading via the '/opt/conda/bin/python -m pip install --upgrade pip' command.\n",
      "created path: ./licenses/license_info.csv\n",
      "created path: ./licenses/license.txt\n",
      "Build completed successfully\n"
     ]
    }
   ],
   "source": [
    "!s2i build . seldonio/s2i-cpp-build:0.0.1 seldonio/simple-cpp:0.1"
   ]
  },
  {
   "cell_type": "markdown",
   "metadata": {},
   "source": [
    "## Test our model locally by running docker"
   ]
  },
  {
   "cell_type": "code",
   "execution_count": 16,
   "metadata": {},
   "outputs": [
    {
     "name": "stdout",
     "output_type": "stream",
     "text": [
      "8027cd995ae3012286abfccaa0cb12be0688997f2d156d0d415e118b06a3a60f\r\n"
     ]
    }
   ],
   "source": [
    "!docker run --name \"simple_cpp\" -d --rm -p 9000:9000 seldonio/simple-cpp:0.1"
   ]
  },
  {
   "cell_type": "markdown",
   "metadata": {},
   "source": [
    "### Send request (which should return the same value)"
   ]
  },
  {
   "cell_type": "code",
   "execution_count": 18,
   "metadata": {},
   "outputs": [
    {
     "name": "stdout",
     "output_type": "stream",
     "text": [
      "{\"strData\":\"hello\"}"
     ]
    }
   ],
   "source": [
    "!curl -X POST -H 'Content-Type: application/json' \\\n",
    "   -d '{\"strData\":\"hello\"}' \\\n",
    "    http://localhost:9000/api/v1.0/predictions"
   ]
  },
  {
   "cell_type": "markdown",
   "metadata": {},
   "source": [
    "### Clean up"
   ]
  },
  {
   "cell_type": "code",
   "execution_count": 15,
   "metadata": {},
   "outputs": [
    {
     "name": "stdout",
     "output_type": "stream",
     "text": [
      "simple_cpp\r\n"
     ]
    }
   ],
   "source": [
    "!docker rm -f \"simple_cpp\""
   ]
  },
  {
   "cell_type": "markdown",
   "metadata": {},
   "source": [
    "## Deploy to seldon"
   ]
  },
  {
   "cell_type": "code",
   "execution_count": 15,
   "metadata": {},
   "outputs": [
    {
     "name": "stdout",
     "output_type": "stream",
     "text": [
      "seldondeployment.machinelearning.seldon.io/simple-cpp created\n"
     ]
    }
   ],
   "source": [
    "%%bash\n",
    "kubectl apply -f - << END\n",
    "apiVersion: machinelearning.seldon.io/v1\n",
    "kind: SeldonDeployment\n",
    "metadata:\n",
    "  name: simple-cpp\n",
    "spec:\n",
    "  predictors:\n",
    "  - componentSpecs:\n",
    "    - spec:\n",
    "        containers:\n",
    "          - image: seldonio/simple-cpp:0.1\n",
    "            name: classifier\n",
    "    engineResources: {}\n",
    "    graph:\n",
    "      name: classifier\n",
    "      type: MODEL\n",
    "    name: default\n",
    "    replicas: 1\n",
    "END"
   ]
  },
  {
   "cell_type": "code",
   "execution_count": 16,
   "metadata": {},
   "outputs": [
    {
     "name": "stdout",
     "output_type": "stream",
     "text": [
      "{\"strData\":\"hello\"}"
     ]
    }
   ],
   "source": [
    "!curl -X POST -H 'Content-Type: application/json' \\\n",
    "   -d '{\"strData\":\"hello\"}' \\\n",
    "    http://localhost:80/seldon/default/simple-cpp/api/v1.0/predictions"
   ]
  },
  {
   "cell_type": "code",
   "execution_count": 3,
   "metadata": {},
   "outputs": [
    {
     "name": "stdout",
     "output_type": "stream",
     "text": [
      "seldondeployment.machinelearning.seldon.io \"simple-cpp\" deleted\n"
     ]
    }
   ],
   "source": [
    "!kubectl delete sdep simple-cpp"
   ]
  },
  {
   "cell_type": "code",
   "execution_count": null,
   "metadata": {},
   "outputs": [],
   "source": []
  }
 ],
 "metadata": {
  "kernelspec": {
   "display_name": "Python 3",
   "language": "python",
   "name": "python3"
  },
  "language_info": {
   "codemirror_mode": {
    "name": "ipython",
    "version": 3
   },
   "file_extension": ".py",
   "mimetype": "text/x-python",
   "name": "python",
   "nbconvert_exporter": "python",
   "pygments_lexer": "ipython3",
   "version": "3.7.10"
  }
 },
 "nbformat": 4,
 "nbformat_minor": 4
}
