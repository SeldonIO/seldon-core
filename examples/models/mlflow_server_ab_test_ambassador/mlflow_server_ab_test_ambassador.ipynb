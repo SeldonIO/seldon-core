{
 "cells": [
  {
   "cell_type": "markdown",
   "metadata": {},
   "source": [
    "# MLFlow Pre-packaged Model Server AB Test Deployment \n",
    "In this example we will build two models with MLFlow and we will deploy them as an A/B test deployment. The reason this is powerful is because it allows you to deploy a new model next to the old one, distributing a percentage of traffic. These deployment strategies are quite simple using Seldon, and can be extended to shadow deployments, multi-armed-bandits, etc."
   ]
  },
  {
   "cell_type": "markdown",
   "metadata": {},
   "source": [
    "## Tutorial Overview\n",
    "\n",
    "This tutorial will follow closely break down in the following sections:\n",
    "\n",
    "1. Train the MLFlow elastic net wine example\n",
    "\n",
    "2. Deploy your trained model leveraging our pre-packaged MLFlow model server\n",
    "\n",
    "3. Test the deployed MLFlow model by sending requests\n",
    "\n",
    "4. Deploy your second model as an A/B test\n",
    "\n",
    "5. Visualise and monitor the performance of your models using Seldon Analytics\n",
    "\n",
    "It will follow closely our talk at the [Spark + AI Summit 2019 on Seldon and MLflow](https://www.youtube.com/watch?v=D6eSfd9w9eA)."
   ]
  },
  {
   "cell_type": "markdown",
   "metadata": {},
   "source": [
    "## Dependencies\n",
    "\n",
    "For this example to work you must be running Seldon 0.3.2 or above - you can follow our [getting started guide for this](https://docs.seldon.io/projects/seldon-core/en/latest/workflow/install.html).\n",
    "\n",
    "In regards to other dependencies, make sure you have installed:\n",
    "\n",
    "* Helm v3.0.0+\n",
    "* kubectl v1.14+\n",
    "* Python 3.6+\n",
    "* MLFlow 1.1.0\n",
    "* [pygmentize](https://pygments.org/docs/cmdline/)\n",
    "* [tree](http://mama.indstate.edu/users/ice/tree/)\n",
    "\n",
    "We will also take this chance to load the Python dependencies we will use through the tutorial:"
   ]
  },
  {
   "cell_type": "code",
   "execution_count": 52,
   "metadata": {},
   "outputs": [],
   "source": [
    "import pandas as pd\n",
    "import numpy as np\n",
    "from seldon_core.seldon_client import SeldonClient"
   ]
  },
  {
   "cell_type": "markdown",
   "metadata": {},
   "source": [
    "#### Let's get started! 🚀🔥"
   ]
  },
  {
   "cell_type": "markdown",
   "metadata": {},
   "source": [
    "## 1. Train the first MLFlow Elastic Net Wine example\n",
    "\n",
    "For our example, we will use the elastic net wine example from [MLflow's tutorial](https://www.mlflow.org/docs/latest/tutorial.html)."
   ]
  },
  {
   "cell_type": "markdown",
   "metadata": {},
   "source": [
    "### MLproject\n",
    "\n",
    "As any other MLflow project, it is defined by its `MLproject` file:"
   ]
  },
  {
   "cell_type": "code",
   "execution_count": 10,
   "metadata": {},
   "outputs": [
    {
     "name": "stdout",
     "output_type": "stream",
     "text": [
      "\u001b[94mname\u001b[39;49;00m: mlflow-talk\n",
      "\n",
      "\u001b[94mconda_env\u001b[39;49;00m: conda.yaml\n",
      "\n",
      "\u001b[94mentry_points\u001b[39;49;00m:\n",
      "  \u001b[94mmain\u001b[39;49;00m:\n",
      "    \u001b[94mparameters\u001b[39;49;00m:\n",
      "      \u001b[94malpha\u001b[39;49;00m: float\n",
      "      \u001b[94ml1_ratio\u001b[39;49;00m: {\u001b[94mtype\u001b[39;49;00m: \u001b[31mfloat\u001b[39;49;00m,\u001b[94m default\u001b[39;49;00m: \u001b[31m0.1\u001b[39;49;00m}\n",
      "    \u001b[94mcommand\u001b[39;49;00m: \u001b[33m\"\u001b[39;49;00m\u001b[33mpython\u001b[39;49;00m\u001b[31m \u001b[39;49;00m\u001b[33mtrain.py\u001b[39;49;00m\u001b[31m \u001b[39;49;00m\u001b[33m{alpha}\u001b[39;49;00m\u001b[31m \u001b[39;49;00m\u001b[33m{l1_ratio}\u001b[39;49;00m\u001b[33m\"\u001b[39;49;00m\n"
     ]
    }
   ],
   "source": [
    "!pygmentize -l yaml MLproject"
   ]
  },
  {
   "cell_type": "markdown",
   "metadata": {},
   "source": [
    "We can see that this project uses Conda for the environment and that it's defined in the `conda.yaml` file:"
   ]
  },
  {
   "cell_type": "code",
   "execution_count": 11,
   "metadata": {},
   "outputs": [
    {
     "name": "stdout",
     "output_type": "stream",
     "text": [
      "\u001b[94mname\u001b[39;49;00m: mlflow-talk\n",
      "\u001b[94mchannels\u001b[39;49;00m:\n",
      "  - defaults\n",
      "\u001b[94mdependencies\u001b[39;49;00m:\n",
      "  - python=3.6\n",
      "  - scikit-learn=0.19.1\n",
      "  - \u001b[94mpip\u001b[39;49;00m:\n",
      "    - mlflow>=1.0\n"
     ]
    }
   ],
   "source": [
    "!pygmentize conda.yaml"
   ]
  },
  {
   "cell_type": "markdown",
   "metadata": {},
   "source": [
    "Lastly, we can also see that the training will be performed by the `train.py` file, which receives two parameters `alpha` and `l1_ratio`:"
   ]
  },
  {
   "cell_type": "code",
   "execution_count": 12,
   "metadata": {},
   "outputs": [
    {
     "name": "stdout",
     "output_type": "stream",
     "text": [
      "\u001b[37m# The data set used in this example is from http://archive.ics.uci.edu/ml/datasets/Wine+Quality\u001b[39;49;00m\n",
      "\u001b[37m# P. Cortez, A. Cerdeira, F. Almeida, T. Matos and J. Reis.\u001b[39;49;00m\n",
      "\u001b[37m# Modeling wine preferences by data mining from physicochemical properties. In Decision Support Systems, Elsevier, 47(4):547-553, 2009.\u001b[39;49;00m\n",
      "\n",
      "\u001b[34mimport\u001b[39;49;00m \u001b[04m\u001b[36mos\u001b[39;49;00m\n",
      "\u001b[34mimport\u001b[39;49;00m \u001b[04m\u001b[36mwarnings\u001b[39;49;00m\n",
      "\u001b[34mimport\u001b[39;49;00m \u001b[04m\u001b[36msys\u001b[39;49;00m\n",
      "\n",
      "\u001b[34mimport\u001b[39;49;00m \u001b[04m\u001b[36mpandas\u001b[39;49;00m \u001b[34mas\u001b[39;49;00m \u001b[04m\u001b[36mpd\u001b[39;49;00m\n",
      "\u001b[34mimport\u001b[39;49;00m \u001b[04m\u001b[36mnumpy\u001b[39;49;00m \u001b[34mas\u001b[39;49;00m \u001b[04m\u001b[36mnp\u001b[39;49;00m\n",
      "\u001b[34mfrom\u001b[39;49;00m \u001b[04m\u001b[36msklearn.metrics\u001b[39;49;00m \u001b[34mimport\u001b[39;49;00m mean_squared_error, mean_absolute_error, r2_score\n",
      "\u001b[34mfrom\u001b[39;49;00m \u001b[04m\u001b[36msklearn.model_selection\u001b[39;49;00m \u001b[34mimport\u001b[39;49;00m train_test_split\n",
      "\u001b[34mfrom\u001b[39;49;00m \u001b[04m\u001b[36msklearn.linear_model\u001b[39;49;00m \u001b[34mimport\u001b[39;49;00m ElasticNet\n",
      "\n",
      "\u001b[34mimport\u001b[39;49;00m \u001b[04m\u001b[36mmlflow\u001b[39;49;00m\n",
      "\u001b[34mimport\u001b[39;49;00m \u001b[04m\u001b[36mmlflow.sklearn\u001b[39;49;00m\n",
      "\n",
      "\n",
      "\u001b[34mdef\u001b[39;49;00m \u001b[32meval_metrics\u001b[39;49;00m(actual, pred):\n",
      "    rmse = np.sqrt(mean_squared_error(actual, pred))\n",
      "    mae = mean_absolute_error(actual, pred)\n",
      "    r2 = r2_score(actual, pred)\n",
      "    \u001b[34mreturn\u001b[39;49;00m rmse, mae, r2\n",
      "\n",
      "\n",
      "\n",
      "\u001b[34mif\u001b[39;49;00m \u001b[31m__name__\u001b[39;49;00m == \u001b[33m\"\u001b[39;49;00m\u001b[33m__main__\u001b[39;49;00m\u001b[33m\"\u001b[39;49;00m:\n",
      "    warnings.filterwarnings(\u001b[33m\"\u001b[39;49;00m\u001b[33mignore\u001b[39;49;00m\u001b[33m\"\u001b[39;49;00m)\n",
      "    np.random.seed(\u001b[34m40\u001b[39;49;00m)\n",
      "\n",
      "    \u001b[37m# Read the wine-quality csv file (make sure you're running this from the root of MLflow!)\u001b[39;49;00m\n",
      "    wine_path = os.path.join(os.path.dirname(os.path.abspath(\u001b[31m__file__\u001b[39;49;00m)), \u001b[33m\"\u001b[39;49;00m\u001b[33mwine-quality.csv\u001b[39;49;00m\u001b[33m\"\u001b[39;49;00m)\n",
      "    data = pd.read_csv(wine_path)\n",
      "\n",
      "    \u001b[37m# Split the data into training and test sets. (0.75, 0.25) split.\u001b[39;49;00m\n",
      "    train, test = train_test_split(data)\n",
      "\n",
      "    \u001b[37m# The predicted column is \"quality\" which is a scalar from [3, 9]\u001b[39;49;00m\n",
      "    train_x = train.drop([\u001b[33m\"\u001b[39;49;00m\u001b[33mquality\u001b[39;49;00m\u001b[33m\"\u001b[39;49;00m], axis=\u001b[34m1\u001b[39;49;00m)\n",
      "    test_x = test.drop([\u001b[33m\"\u001b[39;49;00m\u001b[33mquality\u001b[39;49;00m\u001b[33m\"\u001b[39;49;00m], axis=\u001b[34m1\u001b[39;49;00m)\n",
      "    train_y = train[[\u001b[33m\"\u001b[39;49;00m\u001b[33mquality\u001b[39;49;00m\u001b[33m\"\u001b[39;49;00m]]\n",
      "    test_y = test[[\u001b[33m\"\u001b[39;49;00m\u001b[33mquality\u001b[39;49;00m\u001b[33m\"\u001b[39;49;00m]]\n",
      "\n",
      "    alpha = \u001b[36mfloat\u001b[39;49;00m(sys.argv[\u001b[34m1\u001b[39;49;00m]) \u001b[34mif\u001b[39;49;00m \u001b[36mlen\u001b[39;49;00m(sys.argv) > \u001b[34m1\u001b[39;49;00m \u001b[34melse\u001b[39;49;00m \u001b[34m0.5\u001b[39;49;00m\n",
      "    l1_ratio = \u001b[36mfloat\u001b[39;49;00m(sys.argv[\u001b[34m2\u001b[39;49;00m]) \u001b[34mif\u001b[39;49;00m \u001b[36mlen\u001b[39;49;00m(sys.argv) > \u001b[34m2\u001b[39;49;00m \u001b[34melse\u001b[39;49;00m \u001b[34m0.5\u001b[39;49;00m\n",
      "\n",
      "    \u001b[34mwith\u001b[39;49;00m mlflow.start_run():\n",
      "        lr = ElasticNet(alpha=alpha, l1_ratio=l1_ratio, random_state=\u001b[34m42\u001b[39;49;00m)\n",
      "        lr.fit(train_x, train_y)\n",
      "\n",
      "        predicted_qualities = lr.predict(test_x)\n",
      "\n",
      "        (rmse, mae, r2) = eval_metrics(test_y, predicted_qualities)\n",
      "\n",
      "        \u001b[34mprint\u001b[39;49;00m(\u001b[33m\"\u001b[39;49;00m\u001b[33mElasticnet model (alpha=\u001b[39;49;00m\u001b[33m%f\u001b[39;49;00m\u001b[33m, l1_ratio=\u001b[39;49;00m\u001b[33m%f\u001b[39;49;00m\u001b[33m):\u001b[39;49;00m\u001b[33m\"\u001b[39;49;00m % (alpha, l1_ratio))\n",
      "        \u001b[34mprint\u001b[39;49;00m(\u001b[33m\"\u001b[39;49;00m\u001b[33m  RMSE: \u001b[39;49;00m\u001b[33m%s\u001b[39;49;00m\u001b[33m\"\u001b[39;49;00m % rmse)\n",
      "        \u001b[34mprint\u001b[39;49;00m(\u001b[33m\"\u001b[39;49;00m\u001b[33m  MAE: \u001b[39;49;00m\u001b[33m%s\u001b[39;49;00m\u001b[33m\"\u001b[39;49;00m % mae)\n",
      "        \u001b[34mprint\u001b[39;49;00m(\u001b[33m\"\u001b[39;49;00m\u001b[33m  R2: \u001b[39;49;00m\u001b[33m%s\u001b[39;49;00m\u001b[33m\"\u001b[39;49;00m % r2)\n",
      "\n",
      "        mlflow.log_param(\u001b[33m\"\u001b[39;49;00m\u001b[33malpha\u001b[39;49;00m\u001b[33m\"\u001b[39;49;00m, alpha)\n",
      "        mlflow.log_param(\u001b[33m\"\u001b[39;49;00m\u001b[33ml1_ratio\u001b[39;49;00m\u001b[33m\"\u001b[39;49;00m, l1_ratio)\n",
      "        mlflow.log_metric(\u001b[33m\"\u001b[39;49;00m\u001b[33mrmse\u001b[39;49;00m\u001b[33m\"\u001b[39;49;00m, rmse)\n",
      "        mlflow.log_metric(\u001b[33m\"\u001b[39;49;00m\u001b[33mr2\u001b[39;49;00m\u001b[33m\"\u001b[39;49;00m, r2)\n",
      "        mlflow.log_metric(\u001b[33m\"\u001b[39;49;00m\u001b[33mmae\u001b[39;49;00m\u001b[33m\"\u001b[39;49;00m, mae)\n",
      "\n",
      "        mlflow.sklearn.log_model(lr, \u001b[33m\"\u001b[39;49;00m\u001b[33mmodel\u001b[39;49;00m\u001b[33m\"\u001b[39;49;00m)\n"
     ]
    }
   ],
   "source": [
    "!pygmentize train.py"
   ]
  },
  {
   "cell_type": "markdown",
   "metadata": {},
   "source": [
    "### Dataset\n",
    "\n",
    "We will use the wine quality dataset.\n",
    "Let's load it to see what's inside:"
   ]
  },
  {
   "cell_type": "code",
   "execution_count": 53,
   "metadata": {},
   "outputs": [
    {
     "data": {
      "text/html": [
       "<div>\n",
       "<style scoped>\n",
       "    .dataframe tbody tr th:only-of-type {\n",
       "        vertical-align: middle;\n",
       "    }\n",
       "\n",
       "    .dataframe tbody tr th {\n",
       "        vertical-align: top;\n",
       "    }\n",
       "\n",
       "    .dataframe thead th {\n",
       "        text-align: right;\n",
       "    }\n",
       "</style>\n",
       "<table border=\"1\" class=\"dataframe\">\n",
       "  <thead>\n",
       "    <tr style=\"text-align: right;\">\n",
       "      <th></th>\n",
       "      <th>fixed acidity</th>\n",
       "      <th>volatile acidity</th>\n",
       "      <th>citric acid</th>\n",
       "      <th>residual sugar</th>\n",
       "      <th>chlorides</th>\n",
       "      <th>free sulfur dioxide</th>\n",
       "      <th>total sulfur dioxide</th>\n",
       "      <th>density</th>\n",
       "      <th>pH</th>\n",
       "      <th>sulphates</th>\n",
       "      <th>alcohol</th>\n",
       "      <th>quality</th>\n",
       "    </tr>\n",
       "  </thead>\n",
       "  <tbody>\n",
       "    <tr>\n",
       "      <th>0</th>\n",
       "      <td>7.0</td>\n",
       "      <td>0.27</td>\n",
       "      <td>0.36</td>\n",
       "      <td>20.7</td>\n",
       "      <td>0.045</td>\n",
       "      <td>45.0</td>\n",
       "      <td>170.0</td>\n",
       "      <td>1.0010</td>\n",
       "      <td>3.00</td>\n",
       "      <td>0.45</td>\n",
       "      <td>8.8</td>\n",
       "      <td>6</td>\n",
       "    </tr>\n",
       "    <tr>\n",
       "      <th>1</th>\n",
       "      <td>6.3</td>\n",
       "      <td>0.30</td>\n",
       "      <td>0.34</td>\n",
       "      <td>1.6</td>\n",
       "      <td>0.049</td>\n",
       "      <td>14.0</td>\n",
       "      <td>132.0</td>\n",
       "      <td>0.9940</td>\n",
       "      <td>3.30</td>\n",
       "      <td>0.49</td>\n",
       "      <td>9.5</td>\n",
       "      <td>6</td>\n",
       "    </tr>\n",
       "    <tr>\n",
       "      <th>2</th>\n",
       "      <td>8.1</td>\n",
       "      <td>0.28</td>\n",
       "      <td>0.40</td>\n",
       "      <td>6.9</td>\n",
       "      <td>0.050</td>\n",
       "      <td>30.0</td>\n",
       "      <td>97.0</td>\n",
       "      <td>0.9951</td>\n",
       "      <td>3.26</td>\n",
       "      <td>0.44</td>\n",
       "      <td>10.1</td>\n",
       "      <td>6</td>\n",
       "    </tr>\n",
       "    <tr>\n",
       "      <th>3</th>\n",
       "      <td>7.2</td>\n",
       "      <td>0.23</td>\n",
       "      <td>0.32</td>\n",
       "      <td>8.5</td>\n",
       "      <td>0.058</td>\n",
       "      <td>47.0</td>\n",
       "      <td>186.0</td>\n",
       "      <td>0.9956</td>\n",
       "      <td>3.19</td>\n",
       "      <td>0.40</td>\n",
       "      <td>9.9</td>\n",
       "      <td>6</td>\n",
       "    </tr>\n",
       "    <tr>\n",
       "      <th>4</th>\n",
       "      <td>7.2</td>\n",
       "      <td>0.23</td>\n",
       "      <td>0.32</td>\n",
       "      <td>8.5</td>\n",
       "      <td>0.058</td>\n",
       "      <td>47.0</td>\n",
       "      <td>186.0</td>\n",
       "      <td>0.9956</td>\n",
       "      <td>3.19</td>\n",
       "      <td>0.40</td>\n",
       "      <td>9.9</td>\n",
       "      <td>6</td>\n",
       "    </tr>\n",
       "  </tbody>\n",
       "</table>\n",
       "</div>"
      ],
      "text/plain": [
       "   fixed acidity  volatile acidity  citric acid  residual sugar  chlorides  \\\n",
       "0            7.0              0.27         0.36            20.7      0.045   \n",
       "1            6.3              0.30         0.34             1.6      0.049   \n",
       "2            8.1              0.28         0.40             6.9      0.050   \n",
       "3            7.2              0.23         0.32             8.5      0.058   \n",
       "4            7.2              0.23         0.32             8.5      0.058   \n",
       "\n",
       "   free sulfur dioxide  total sulfur dioxide  density    pH  sulphates  \\\n",
       "0                 45.0                 170.0   1.0010  3.00       0.45   \n",
       "1                 14.0                 132.0   0.9940  3.30       0.49   \n",
       "2                 30.0                  97.0   0.9951  3.26       0.44   \n",
       "3                 47.0                 186.0   0.9956  3.19       0.40   \n",
       "4                 47.0                 186.0   0.9956  3.19       0.40   \n",
       "\n",
       "   alcohol  quality  \n",
       "0      8.8        6  \n",
       "1      9.5        6  \n",
       "2     10.1        6  \n",
       "3      9.9        6  \n",
       "4      9.9        6  "
      ]
     },
     "execution_count": 53,
     "metadata": {},
     "output_type": "execute_result"
    }
   ],
   "source": [
    "data = pd.read_csv(\"wine-quality.csv\")\n",
    "data.head()"
   ]
  },
  {
   "cell_type": "markdown",
   "metadata": {},
   "source": [
    "### Training\n",
    "\n",
    "We've set up our MLflow project and our dataset is ready, so we are now good to start training.\n",
    "MLflow allows us to train our model with the following command:\n",
    "\n",
    "``` bash\n",
    "$ mlflow run . -P alpha=... -P l1_ratio=...\n",
    "```\n",
    "\n",
    "On each run, `mlflow` will set up the Conda environment defined by the `conda.yaml` file and will run the training commands defined in the `MLproject` file."
   ]
  },
  {
   "cell_type": "code",
   "execution_count": 20,
   "metadata": {},
   "outputs": [
    {
     "name": "stdout",
     "output_type": "stream",
     "text": [
      "2019/11/20 11:16:37 INFO mlflow.projects: === Created directory /tmp/tmpaok27ecp for downloading remote URIs passed to arguments of type 'path' ===\n",
      "2019/11/20 11:16:37 INFO mlflow.projects: === Running command 'source /opt/miniconda3/bin/../etc/profile.d/conda.sh && conda activate mlflow-1ecba04797edb7e7f7212d429debd9b664c31651 1>&2 && python train.py 0.5 0.5' in run with ID 'fbbb1fe4f9ef4b4faf370f8a946f7c60' === \n",
      "Elasticnet model (alpha=0.500000, l1_ratio=0.500000):\n",
      "  RMSE: 0.82224284975954\n",
      "  MAE: 0.6278761410160691\n",
      "  R2: 0.12678721972772689\n",
      "2019/11/20 11:16:38 INFO mlflow.projects: === Run (ID 'fbbb1fe4f9ef4b4faf370f8a946f7c60') succeeded ===\n"
     ]
    }
   ],
   "source": [
    "!mlflow run . -P alpha=0.5 -P l1_ratio=0.5"
   ]
  },
  {
   "cell_type": "markdown",
   "metadata": {},
   "source": [
    "Each of these commands will create a new run which can be visualised through the MLFlow dashboard as per the screenshot below.\n",
    "\n",
    "![](images/mlflow-dashboard.png)\n"
   ]
  },
  {
   "cell_type": "markdown",
   "metadata": {},
   "source": [
    "Each of these models can actually be found on the `mlruns` folder:"
   ]
  },
  {
   "cell_type": "code",
   "execution_count": 24,
   "metadata": {},
   "outputs": [
    {
     "name": "stdout",
     "output_type": "stream",
     "text": [
      "\u001b[01;34mmlruns/0\u001b[00m\n",
      "├── \u001b[01;34m835f65ed47974d3fb3359e646b61a009\u001b[00m\n",
      "├── \u001b[01;34mfbbb1fe4f9ef4b4faf370f8a946f7c60\u001b[00m\n",
      "└── meta.yaml\n",
      "\n",
      "2 directories, 1 file\n"
     ]
    }
   ],
   "source": [
    "!tree -L 1 mlruns/0"
   ]
  },
  {
   "cell_type": "markdown",
   "metadata": {},
   "source": [
    "### MLmodel\n",
    "\n",
    "Inside each of these folders, MLflow stores the parameters we used to train our model, any metric we logged during training, and a snapshot of our model.\n",
    "If we look into one of them, we can see the following structure:"
   ]
  },
  {
   "cell_type": "code",
   "execution_count": 25,
   "metadata": {},
   "outputs": [
    {
     "name": "stdout",
     "output_type": "stream",
     "text": [
      "\u001b[01;34mmlruns/0/835f65ed47974d3fb3359e646b61a009\u001b[00m\n",
      "├── \u001b[01;34martifacts\u001b[00m\n",
      "│   └── \u001b[01;34mmodel\u001b[00m\n",
      "│       ├── conda.yaml\n",
      "│       ├── MLmodel\n",
      "│       └── model.pkl\n",
      "├── meta.yaml\n",
      "├── \u001b[01;34mmetrics\u001b[00m\n",
      "│   ├── mae\n",
      "│   ├── r2\n",
      "│   └── rmse\n",
      "├── \u001b[01;34mparams\u001b[00m\n",
      "│   ├── alpha\n",
      "│   └── l1_ratio\n",
      "└── \u001b[01;34mtags\u001b[00m\n",
      "    ├── mlflow.gitRepoURL\n",
      "    ├── mlflow.project.backend\n",
      "    ├── mlflow.project.entryPoint\n",
      "    ├── mlflow.project.env\n",
      "    ├── mlflow.source.git.commit\n",
      "    ├── mlflow.source.git.repoURL\n",
      "    ├── mlflow.source.name\n",
      "    ├── mlflow.source.type\n",
      "    └── mlflow.user\n",
      "\n",
      "5 directories, 18 files\n"
     ]
    }
   ],
   "source": [
    "!tree mlruns/0/$(ls mlruns/0 | head -1)"
   ]
  },
  {
   "cell_type": "markdown",
   "metadata": {},
   "source": [
    "In particular, we are interested in the `MLmodel` file stored under `artifacts/model`:"
   ]
  },
  {
   "cell_type": "code",
   "execution_count": 26,
   "metadata": {},
   "outputs": [
    {
     "name": "stdout",
     "output_type": "stream",
     "text": [
      "\u001b[94martifact_path\u001b[39;49;00m: model\n",
      "\u001b[94mflavors\u001b[39;49;00m:\n",
      "  \u001b[94mpython_function\u001b[39;49;00m:\n",
      "    \u001b[94mdata\u001b[39;49;00m: model.pkl\n",
      "    \u001b[94menv\u001b[39;49;00m: conda.yaml\n",
      "    \u001b[94mloader_module\u001b[39;49;00m: mlflow.sklearn\n",
      "    \u001b[94mpython_version\u001b[39;49;00m: 3.6.9\n",
      "  \u001b[94msklearn\u001b[39;49;00m:\n",
      "    \u001b[94mpickled_model\u001b[39;49;00m: model.pkl\n",
      "    \u001b[94mserialization_format\u001b[39;49;00m: cloudpickle\n",
      "    \u001b[94msklearn_version\u001b[39;49;00m: 0.19.1\n",
      "\u001b[94mrun_id\u001b[39;49;00m: 835f65ed47974d3fb3359e646b61a009\n",
      "\u001b[94mutc_time_created\u001b[39;49;00m: \u001b[33m'\u001b[39;49;00m\u001b[33m2019-11-20\u001b[39;49;00m\u001b[31m \u001b[39;49;00m\u001b[33m11:15:42.706884\u001b[39;49;00m\u001b[33m'\u001b[39;49;00m\n"
     ]
    }
   ],
   "source": [
    "!pygmentize -l yaml mlruns/0/$(ls mlruns/0 | head -1)/artifacts/model/MLmodel"
   ]
  },
  {
   "cell_type": "markdown",
   "metadata": {},
   "source": [
    "This file stores the details of how the model was stored.\n",
    "With this information (plus the other files in the folder), we are able to load the model back.\n",
    "Seldon's MLflow server will use this information to serve this model.\n",
    "\n",
    "Now we should upload our newly trained model into a public Google Bucket or S3 bucket.\n",
    "We have already done this to make it simpler, which you will be able to find at `gs://seldon-models/mlflow/model-a`."
   ]
  },
  {
   "cell_type": "markdown",
   "metadata": {},
   "source": [
    "## 2. Deploy your model using the Pre-packaged Moldel Server for MLFlow\n",
    "\n",
    "Now we can deploy our trained MLFlow model.\n",
    "\n",
    "For this we have to create a Seldon definition of the model server definition, which we will break down further below.\n",
    "\n",
    "We will be using the model we updated to our google bucket (gs://seldon-models/mlflow/elasticnet_wine), but you can use your model if you uploaded it to a public bucket."
   ]
  },
  {
   "cell_type": "markdown",
   "metadata": {},
   "source": [
    "## Setup Seldon Core\n",
    "\n",
    "Use the setup notebook to [Setup Cluster](../../seldon_core_setup.ipynb#Setup-Cluster) with [Ambassador Ingress](../../seldon_core_setup.ipynb#Ambassador) and [Install Seldon Core](../../seldon_core_setup.ipynb#Install-Seldon-Core). Instructions [also online](./seldon_core_setup.html)."
   ]
  },
  {
   "cell_type": "code",
   "execution_count": 27,
   "metadata": {},
   "outputs": [
    {
     "name": "stdout",
     "output_type": "stream",
     "text": [
      "\u001b[04m\u001b[36m---\u001b[39;49;00m\n",
      "\u001b[94mapiVersion\u001b[39;49;00m: machinelearning.seldon.io/v1alpha2\n",
      "\u001b[94mkind\u001b[39;49;00m: SeldonDeployment\n",
      "\u001b[94mmetadata\u001b[39;49;00m:\n",
      "  \u001b[94mname\u001b[39;49;00m: mlflow-deployment\n",
      "\u001b[94mspec\u001b[39;49;00m:\n",
      "  \u001b[94mname\u001b[39;49;00m: mlflow-deployment\n",
      "  \u001b[94mpredictors\u001b[39;49;00m:\n",
      "  - \u001b[94mgraph\u001b[39;49;00m:\n",
      "      \u001b[94mchildren\u001b[39;49;00m: []\n",
      "      \u001b[94mimplementation\u001b[39;49;00m: MLFLOW_SERVER\n",
      "      \u001b[94mmodelUri\u001b[39;49;00m: gs://seldon-models/mlflow/elasticnet_wine\n",
      "      \u001b[94mname\u001b[39;49;00m: wines-classifier\n",
      "    \u001b[94mname\u001b[39;49;00m: mlflow-deployment-dag\n",
      "    \u001b[94mreplicas\u001b[39;49;00m: 1\n"
     ]
    }
   ],
   "source": [
    "!pygmentize mlflow-model-server-seldon-config.yaml"
   ]
  },
  {
   "cell_type": "markdown",
   "metadata": {},
   "source": [
    "Once we write our configuration file, we are able to deploy it to our cluster by running it with our command"
   ]
  },
  {
   "cell_type": "code",
   "execution_count": 29,
   "metadata": {},
   "outputs": [
    {
     "name": "stdout",
     "output_type": "stream",
     "text": [
      "seldondeployment.machinelearning.seldon.io/mlflow-deployment created\n"
     ]
    }
   ],
   "source": [
    "!kubectl apply -f mlflow-model-server-seldon-config.yaml"
   ]
  },
  {
   "cell_type": "markdown",
   "metadata": {},
   "source": [
    "Once it's created we just wait until it's deployed. \n",
    "\n",
    "It will basically download the image for the pre-packaged MLFlow model server, and initialise it with the model we specified above.\n",
    "\n",
    "You can check the status of the deployment with the following command:"
   ]
  },
  {
   "cell_type": "code",
   "execution_count": 31,
   "metadata": {},
   "outputs": [
    {
     "name": "stdout",
     "output_type": "stream",
     "text": [
      "deployment \"mlflow-deployment-mlflow-deployment-dag-77efeb1\" successfully rolled out\n"
     ]
    }
   ],
   "source": [
    "!kubectl rollout status deployment.apps/mlflow-deployment-mlflow-deployment-dag-77efeb1"
   ]
  },
  {
   "cell_type": "markdown",
   "metadata": {},
   "source": [
    "Once it's deployed, we should see a \"succcessfully rolled out\" message above. We can now test it!"
   ]
  },
  {
   "cell_type": "markdown",
   "metadata": {},
   "source": [
    "## 3. Test the deployed MLFlow model by sending requests\n",
    "Now that our model is deployed in Kubernetes, we are able to send any requests."
   ]
  },
  {
   "cell_type": "markdown",
   "metadata": {},
   "source": [
    "We will first need the URL that is currently available through Ambassador. \n",
    "\n",
    "If you are running this locally, you should be able to reach it through localhost, in this case we can use port 80."
   ]
  },
  {
   "cell_type": "code",
   "execution_count": 32,
   "metadata": {},
   "outputs": [
    {
     "name": "stdout",
     "output_type": "stream",
     "text": [
      "ambassador                                                  NodePort    10.97.44.51      <none>        80:30080/TCP        23h\n",
      "ambassador-admin                                            ClusterIP   10.108.207.108   <none>        8877/TCP            23h\n"
     ]
    }
   ],
   "source": [
    "!kubectl get svc | grep ambassador"
   ]
  },
  {
   "cell_type": "markdown",
   "metadata": {},
   "source": [
    "Now we will select the first datapoint in our dataset to send to the model."
   ]
  },
  {
   "cell_type": "code",
   "execution_count": 33,
   "metadata": {},
   "outputs": [
    {
     "name": "stdout",
     "output_type": "stream",
     "text": [
      "[7.0, 0.27, 0.36, 20.7, 0.045, 45.0, 170.0, 1.001, 3.0, 0.45, 8.8]\n"
     ]
    }
   ],
   "source": [
    "x_0 = data.drop([\"quality\"], axis=1).values[:1]\n",
    "print(list(x_0[0]))"
   ]
  },
  {
   "cell_type": "markdown",
   "metadata": {},
   "source": [
    "We can try sending a request first using curl:"
   ]
  },
  {
   "cell_type": "code",
   "execution_count": 39,
   "metadata": {},
   "outputs": [
    {
     "name": "stdout",
     "output_type": "stream",
     "text": [
      "{\n",
      "  \"meta\": {\n",
      "    \"puid\": \"n7i76rf930auf7u7ulhig51bu5\",\n",
      "    \"tags\": {\n",
      "    },\n",
      "    \"routing\": {\n",
      "    },\n",
      "    \"requestPath\": {\n",
      "      \"wines-classifier\": \"seldonio/mlflowserver_rest:0.2\"\n",
      "    },\n",
      "    \"metrics\": []\n",
      "  },\n",
      "  \"data\": {\n",
      "    \"names\": [],\n",
      "    \"ndarray\": [5.550530190667395]\n",
      "  }\n",
      "}"
     ]
    }
   ],
   "source": [
    "!curl -X POST -H 'Content-Type: application/json' \\\n",
    "    -d \"{'data': {'names': [], 'ndarray': [[7.0, 0.27, 0.36, 20.7, 0.045, 45.0, 170.0, 1.001, 3.0, 0.45, 8.8]]}}\" \\\n",
    "    http://localhost:80/seldon/seldon/mlflow-deployment/api/v0.1/predictions"
   ]
  },
  {
   "cell_type": "markdown",
   "metadata": {},
   "source": [
    "We can also send the request by using our python client"
   ]
  },
  {
   "cell_type": "code",
   "execution_count": 41,
   "metadata": {},
   "outputs": [
    {
     "name": "stdout",
     "output_type": "stream",
     "text": [
      "meta {\n",
      "  puid: \"cdjl6irq91taaavkam57g2eatu\"\n",
      "  requestPath {\n",
      "    key: \"wines-classifier\"\n",
      "    value: \"seldonio/mlflowserver_rest:0.2\"\n",
      "  }\n",
      "}\n",
      "data {\n",
      "  ndarray {\n",
      "    values {\n",
      "      number_value: 5.550530190667395\n",
      "    }\n",
      "  }\n",
      "}\n",
      "\n"
     ]
    }
   ],
   "source": [
    "from seldon_core.seldon_client import SeldonClient\n",
    "import math\n",
    "import numpy as np\n",
    "import subprocess\n",
    "\n",
    "HOST = \"localhost\" # Add the URL you found above\n",
    "port = \"80\" # Make sure you use the port above\n",
    "batch = x_0\n",
    "payload_type = \"ndarray\"\n",
    "\n",
    "sc = SeldonClient(\n",
    "    gateway=\"ambassador\", \n",
    "    namespace=\"seldon\",\n",
    "    gateway_endpoint=HOST + \":\" + port)\n",
    "\n",
    "client_prediction = sc.predict(\n",
    "    data=batch, \n",
    "    deployment_name=\"mlflow-deployment\",\n",
    "    names=[],\n",
    "    payload_type=payload_type)\n",
    "\n",
    "print(client_prediction.response)"
   ]
  },
  {
   "cell_type": "markdown",
   "metadata": {},
   "source": [
    "## 4. Deploy your second model as an A/B test\n",
    "\n",
    "Now that we have a model in production, it's possible to deploy a second model as an A/B test.\n",
    "Our model will also be an Elastic Net model but using a different set of parameters.\n",
    "We can easily train it by leveraging MLflow:"
   ]
  },
  {
   "cell_type": "code",
   "execution_count": 42,
   "metadata": {},
   "outputs": [
    {
     "name": "stdout",
     "output_type": "stream",
     "text": [
      "2019/11/20 11:38:36 INFO mlflow.projects: === Created directory /tmp/tmppr1ufom9 for downloading remote URIs passed to arguments of type 'path' ===\n",
      "2019/11/20 11:38:36 INFO mlflow.projects: === Running command 'source /opt/miniconda3/bin/../etc/profile.d/conda.sh && conda activate mlflow-1ecba04797edb7e7f7212d429debd9b664c31651 1>&2 && python train.py 0.75 0.2' in run with ID '18f9f8c5d6a249f28f024011dea10e23' === \n",
      "Elasticnet model (alpha=0.750000, l1_ratio=0.200000):\n",
      "  RMSE: 0.8118203122913661\n",
      "  MAE: 0.6244638140789723\n",
      "  R2: 0.14878415499818187\n",
      "2019/11/20 11:38:37 INFO mlflow.projects: === Run (ID '18f9f8c5d6a249f28f024011dea10e23') succeeded ===\n"
     ]
    }
   ],
   "source": [
    "!mlflow run . -P alpha=0.75 -P l1_ratio=0.2"
   ]
  },
  {
   "cell_type": "markdown",
   "metadata": {},
   "source": [
    "As we did before, we will now need to upload our model to a cloud bucket.\n",
    "To speed things up, we already have done so and the second model is now accessible in `gs://seldon-models/mlflow/model-b`."
   ]
  },
  {
   "cell_type": "markdown",
   "metadata": {},
   "source": [
    "### A/B test\n",
    "\n",
    "We will deploy our second model as an A/B test.\n",
    "In particular, we will redirect 20% of the traffic to the new model.\n",
    "\n",
    "This can be done by simply adding a `traffic` attribute on our `SeldonDeployment` spec:"
   ]
  },
  {
   "cell_type": "code",
   "execution_count": 44,
   "metadata": {},
   "outputs": [
    {
     "name": "stdout",
     "output_type": "stream",
     "text": [
      "\u001b[04m\u001b[36m---\u001b[39;49;00m\n",
      "\u001b[94mapiVersion\u001b[39;49;00m: machinelearning.seldon.io/v1alpha2\n",
      "\u001b[94mkind\u001b[39;49;00m: SeldonDeployment\n",
      "\u001b[94mmetadata\u001b[39;49;00m:\n",
      "  \u001b[94mname\u001b[39;49;00m: mlflow-deployment\n",
      "\u001b[94mspec\u001b[39;49;00m:\n",
      "  \u001b[94mname\u001b[39;49;00m: mlflow-deployment\n",
      "  \u001b[94mpredictors\u001b[39;49;00m:\n",
      "    - \u001b[94mgraph\u001b[39;49;00m:\n",
      "        \u001b[94mchildren\u001b[39;49;00m: []\n",
      "        \u001b[94mimplementation\u001b[39;49;00m: MLFLOW_SERVER\n",
      "        \u001b[94mmodelUri\u001b[39;49;00m: gs://seldon-models/mlflow/model-a\n",
      "        \u001b[94mname\u001b[39;49;00m: wines-classifier\n",
      "      \u001b[94mname\u001b[39;49;00m: a-mlflow-deployment-dag\n",
      "      \u001b[94mreplicas\u001b[39;49;00m: 1\n",
      "      \u001b[94mtraffic\u001b[39;49;00m: 80\n",
      "    - \u001b[94mgraph\u001b[39;49;00m:\n",
      "        \u001b[94mchildren\u001b[39;49;00m: []\n",
      "        \u001b[94mimplementation\u001b[39;49;00m: MLFLOW_SERVER\n",
      "        \u001b[94mmodelUri\u001b[39;49;00m: gs://seldon-models/mlflow/model-b\n",
      "        \u001b[94mname\u001b[39;49;00m: wines-classifier\n",
      "      \u001b[94mname\u001b[39;49;00m: b-mlflow-deployment-dag\n",
      "      \u001b[94mreplicas\u001b[39;49;00m: 1\n",
      "      \u001b[94mtraffic\u001b[39;49;00m: 20\n"
     ]
    }
   ],
   "source": [
    "!pygmentize ab-test-mlflow-model-server-seldon-config.yaml"
   ]
  },
  {
   "cell_type": "markdown",
   "metadata": {},
   "source": [
    "And similar to the model above, we only need to run the following to deploy it:"
   ]
  },
  {
   "cell_type": "code",
   "execution_count": 47,
   "metadata": {},
   "outputs": [
    {
     "name": "stdout",
     "output_type": "stream",
     "text": [
      "seldondeployment.machinelearning.seldon.io/mlflow-deployment created\n"
     ]
    }
   ],
   "source": [
    "!kubectl apply -f ab-test-mlflow-model-server-seldon-config.yaml"
   ]
  },
  {
   "cell_type": "markdown",
   "metadata": {},
   "source": [
    "We can check that the models have been deployed and are running with the following command.\n",
    "\n",
    "We should now see the \"a-\" model and the \"b-\" models."
   ]
  },
  {
   "cell_type": "code",
   "execution_count": 51,
   "metadata": {},
   "outputs": [
    {
     "name": "stdout",
     "output_type": "stream",
     "text": [
      "NAME                                                              READY   STATUS     RESTARTS   AGE\n",
      "ambassador-5d97b7df6f-tkrhq                                       1/1     Running    0          24h\n",
      "mlflow-deployment-a-mlflow-deployment-dag-77efeb1-56dd56dcpx54t   0/2     Init:0/1   0          6s\n",
      "mlflow-deployment-b-mlflow-deployment-dag-77efeb1-86cb459drl7fw   0/2     Init:0/1   0          6s\n"
     ]
    }
   ],
   "source": [
    "!kubectl get pods"
   ]
  },
  {
   "cell_type": "markdown",
   "metadata": {},
   "source": [
    "## 5. Visualise and monitor the performance of your models using Seldon Analytics\n",
    "\n",
    "This section is optional, but by following the instructions you will be able to visualise the performance of both models as per the chart below.\n",
    "\n",
    "In order for this example to work you need to install and run the [Grafana Analytics package for Seldon Core](https://docs.seldon.io/projects/seldon-core/en/latest/analytics/analytics.html#helm-analytics-chart).\n",
    "\n",
    "For this we can access the URL with the command below, it will request an admin and password which by default are set to the following:\n",
    "* Username: admin\n",
    "* Password: password\n",
    "\n",
    "You can access the grafana dashboard through the port provided below:"
   ]
  },
  {
   "cell_type": "code",
   "execution_count": 85,
   "metadata": {},
   "outputs": [
    {
     "name": "stdout",
     "output_type": "stream",
     "text": [
      "31212"
     ]
    }
   ],
   "source": [
    "!kubectl get svc grafana-prom -o jsonpath='{.spec.ports[0].nodePort}'  "
   ]
  },
  {
   "cell_type": "markdown",
   "metadata": {},
   "source": [
    "Now that we have both models running in our Kubernetes cluster, we can analyse their performance using Seldon Core's integration with Prometheus and Grafana.\n",
    "To do so, we will iterate over the training set (which can be found in `wine-quality.csv`), making a request and sending the feedback of the prediction.\n",
    "\n",
    "Since the `/feedback` endpoint requires a `reward` signal (i.e. the higher the better), we will simulate one as:\n",
    "\n",
    "$$\n",
    "  R(x_{n})\n",
    "    = \\begin{cases}\n",
    "        \\frac{1}{(y_{n} - f(x_{n}))^{2}} &, y_{n} \\neq f(x_{n}) \\\\\n",
    "        500 &, y_{n} = f(x_{n})\n",
    "      \\end{cases}\n",
    "$$\n",
    "\n",
    ", where $R(x_{n})$ is the reward for input point $x_{n}$, $f(x_{n})$ is our trained model and $y_{n}$ is the actual value."
   ]
  },
  {
   "cell_type": "code",
   "execution_count": 56,
   "metadata": {},
   "outputs": [
    {
     "data": {
      "text/plain": [
       "0        [4.949928760465064]\n",
       "1         [2.33866485520918]\n",
       "2       [16.671295276036165]\n",
       "3       [11.360528710955778]\n",
       "4       [10.762015969288063]\n",
       "                ...         \n",
       "4893     [270.7374890482452]\n",
       "4894    [1.8348875422756648]\n",
       "4895     [3.872377496349884]\n",
       "4896    [1.9544204216470193]\n",
       "4897     [22.25374886390087]\n",
       "Length: 4898, dtype: object"
      ]
     },
     "execution_count": 56,
     "metadata": {},
     "output_type": "execute_result"
    }
   ],
   "source": [
    "def _get_reward(y, y_pred):\n",
    "    if y == y_pred:\n",
    "        return 500    \n",
    "    \n",
    "    return 1 / np.square(y - y_pred)\n",
    "\n",
    "def _test_row(row):\n",
    "    input_features = row[:-1]\n",
    "    feature_names = input_features.index.to_list()\n",
    "    X = input_features.values.reshape(1, -1)\n",
    "    y = row[-1].reshape(1, -1)\n",
    "    \n",
    "    # Note that we are re-using the SeldonClient defined previously\n",
    "    r = sc.predict(\n",
    "        deployment_name=\"mlflow-deployment\",\n",
    "        data=X,\n",
    "        names=feature_names)\n",
    "    \n",
    "    y_pred = r.response.data.tensor.values\n",
    "    reward = _get_reward(y, y_pred)\n",
    "    sc.feedback(\n",
    "        deployment_name=\"mlflow-deployment\",\n",
    "        prediction_request=r.request,\n",
    "        prediction_response=r.response,\n",
    "        reward=reward)\n",
    "    \n",
    "    return reward[0]\n",
    "\n",
    "data.apply(_test_row, axis=1)"
   ]
  },
  {
   "cell_type": "markdown",
   "metadata": {},
   "source": [
    "You should now be able to see Seldon's pre-built Grafana dashboard."
   ]
  },
  {
   "cell_type": "markdown",
   "metadata": {},
   "source": [
    "![](images/grafana-mlflow.jpg)"
   ]
  },
  {
   "cell_type": "markdown",
   "metadata": {},
   "source": [
    "In bottom of the dashboard you can see the following charts: \n",
    "\n",
    "- On the left: the requests per second, which shows the different traffic breakdown we specified.\n",
    "- On the center: the reward, where you can see how model `a` outperforms model `b` by a large margin.\n",
    "- On the right, the latency for each one of them.\n",
    "\n",
    "You are able to add your own custom metrics, and try out other more complex deployments by following further guides at https://docs.seldon.io/projects/seldon-core/en/latest/workflow/README.html"
   ]
  },
  {
   "cell_type": "code",
   "execution_count": null,
   "metadata": {},
   "outputs": [],
   "source": []
  }
 ],
 "metadata": {
  "kernelspec": {
   "display_name": "mirror1",
   "language": "python",
   "name": "mirror1"
  },
  "language_info": {
   "codemirror_mode": {
    "name": "ipython",
    "version": 3
   },
   "file_extension": ".py",
   "mimetype": "text/x-python",
   "name": "python",
   "nbconvert_exporter": "python",
   "pygments_lexer": "ipython3",
   "version": "3.6.9"
  },
  "varInspector": {
   "cols": {
    "lenName": 16,
    "lenType": 16,
    "lenVar": 40
   },
   "kernels_config": {
    "python": {
     "delete_cmd_postfix": "",
     "delete_cmd_prefix": "del ",
     "library": "var_list.py",
     "varRefreshCmd": "print(var_dic_list())"
    },
    "r": {
     "delete_cmd_postfix": ") ",
     "delete_cmd_prefix": "rm(",
     "library": "var_list.r",
     "varRefreshCmd": "cat(var_dic_list()) "
    }
   },
   "types_to_exclude": [
    "module",
    "function",
    "builtin_function_or_method",
    "instance",
    "_Feature"
   ],
   "window_display": false
  }
 },
 "nbformat": 4,
 "nbformat_minor": 4
}
