{
 "cells": [
  {
   "cell_type": "markdown",
   "metadata": {},
   "source": [
    "# Stateful Model Feedback Metrics Server\n",
    "In this example we will add statistical performance metrics capabilities by levering the Seldon metrics server.\n",
    "\n",
    "Dependencies\n",
    "* Seldon Core installed\n",
    "* Ingress provider (Istio or Ambassador)\n",
    "\n",
    "An easy way is to run `examples/centralized-logging/full-kind-setup.sh` and then:\n",
    "```bash\n",
    "    helm delete seldon-core-loadtesting\n",
    "    helm delete seldon-single-model\n",
    "```\n",
    "    \n",
    "Then port-forward to that ingress on localhost:8003 in a separate terminal either with:\n",
    "\n",
    "Ambassador:\n",
    "\n",
    "    kubectl port-forward $(kubectl get pods -n seldon -l app.kubernetes.io/name=ambassador -o jsonpath='{.items[0].metadata.name}') -n seldon 8003:8080\n",
    "\n",
    "Istio:\n",
    "\n",
    "    kubectl port-forward -n istio-system svc/istio-ingressgateway 8003:80\n",
    "\n",
    "\n"
   ]
  },
  {
   "cell_type": "code",
   "execution_count": 1,
   "metadata": {},
   "outputs": [
    {
     "name": "stdout",
     "output_type": "stream",
     "text": [
      "Error from server (AlreadyExists): namespaces \"seldon\" already exists\n",
      "namespace already created\n"
     ]
    }
   ],
   "source": [
    "!kubectl create namespace seldon || echo \"namespace already created\""
   ]
  },
  {
   "cell_type": "code",
   "execution_count": 2,
   "metadata": {},
   "outputs": [
    {
     "name": "stdout",
     "output_type": "stream",
     "text": [
      "Context \"kind-ansible\" modified.\n"
     ]
    }
   ],
   "source": [
    "!kubectl config set-context $(kubectl config current-context) --namespace=seldon"
   ]
  },
  {
   "cell_type": "code",
   "execution_count": 3,
   "metadata": {},
   "outputs": [],
   "source": [
    "!mkdir -p config"
   ]
  },
  {
   "cell_type": "markdown",
   "metadata": {},
   "source": [
    "### Create a simple model\n",
    "We create a multiclass classification model - iris classifier.\n",
    "\n",
    "The iris classifier takes an input array, and returns the prediction of the 4 classes.\n",
    "\n",
    "The prediction can be done as numeric or as a probability array."
   ]
  },
  {
   "cell_type": "code",
   "execution_count": 4,
   "metadata": {},
   "outputs": [
    {
     "name": "stdout",
     "output_type": "stream",
     "text": [
      "seldondeployment.machinelearning.seldon.io/multiclass-model unchanged\n"
     ]
    }
   ],
   "source": [
    "%%bash\n",
    "kubectl apply -f - << END\n",
    "apiVersion: machinelearning.seldon.io/v1\n",
    "kind: SeldonDeployment\n",
    "metadata:\n",
    "  name: multiclass-model\n",
    "spec:\n",
    "  predictors:\n",
    "  - graph:\n",
    "      children: []\n",
    "      implementation: SKLEARN_SERVER\n",
    "      modelUri: gs://seldon-models/v1.11.0-dev/sklearn/iris\n",
    "      name: classifier\n",
    "      logger:\n",
    "        url: http://seldon-multiclass-model-metrics.seldon.svc.cluster.local:80/\n",
    "        mode: all\n",
    "    name: default\n",
    "    replicas: 1\n",
    "END"
   ]
  },
  {
   "cell_type": "code",
   "execution_count": 5,
   "metadata": {},
   "outputs": [
    {
     "name": "stdout",
     "output_type": "stream",
     "text": [
      "deployment \"multiclass-model-default-0-classifier\" successfully rolled out\n"
     ]
    }
   ],
   "source": [
    "!kubectl rollout status deploy/$(kubectl get deploy -l seldon-deployment-id=multiclass-model -o jsonpath='{.items[0].metadata.name}')"
   ]
  },
  {
   "cell_type": "markdown",
   "metadata": {},
   "source": [
    "#### Send test request"
   ]
  },
  {
   "cell_type": "code",
   "execution_count": 6,
   "metadata": {},
   "outputs": [
    {
     "name": "stdout",
     "output_type": "stream",
     "text": [
      "['  % Total    % Received % Xferd  Average Speed   Time    Time     Time  Current', '                                 Dload  Upload   Total   Spent    Left  Speed', '', '  0     0    0     0    0     0      0      0 --:--:-- --:--:-- --:--:--     0', '100   267  100   203  100    64   9227   2909 --:--:-- --:--:-- --:--:-- 12136', '{\"data\":{\"names\":[\"t:0\",\"t:1\",\"t:2\"],\"ndarray\":[[0.0006985194531162841,0.003668039039435755,0.9956334415074478]]},\"meta\":{\"puid\":\"hello\",\"requestPath\":{\"classifier\":\"seldonio/sklearnserver:1.7.0-dev\"}}}']\n"
     ]
    }
   ],
   "source": [
    "res=!curl -X POST \"http://localhost:8003/seldon/seldon/multiclass-model/api/v1.0/predictions\" \\\n",
    "        -H \"Content-Type: application/json\" -d '{\"data\": { \"ndarray\": [[1,2,3,4]]}, \"meta\": { \"puid\": \"hello\" }}'\n",
    "print(res)\n",
    "import json\n",
    "j=json.loads(res[-1])\n",
    "assert(len(j[\"data\"][\"ndarray\"][0])==3)"
   ]
  },
  {
   "cell_type": "markdown",
   "metadata": {},
   "source": [
    "### Metrics Server\n",
    "You can create a kubernetes deployment of the metrics server with this:"
   ]
  },
  {
   "cell_type": "code",
   "execution_count": 7,
   "metadata": {},
   "outputs": [
    {
     "name": "stdout",
     "output_type": "stream",
     "text": [
      "Overwriting config/multiclass-deployment.yaml\n"
     ]
    }
   ],
   "source": [
    "%%writefile config/multiclass-deployment.yaml\n",
    "apiVersion: apps/v1\n",
    "kind: Deployment\n",
    "metadata:\n",
    "  name: seldon-multiclass-model-metrics\n",
    "  namespace: seldon\n",
    "  labels:\n",
    "    app: seldon-multiclass-model-metrics\n",
    "spec:\n",
    "  replicas: 1\n",
    "  selector:\n",
    "    matchLabels:\n",
    "      app: seldon-multiclass-model-metrics\n",
    "  template:\n",
    "    metadata:\n",
    "      labels:\n",
    "        app: seldon-multiclass-model-metrics\n",
    "    spec:\n",
    "      securityContext:\n",
    "          runAsUser: 8888\n",
    "      containers:\n",
    "      - name: user-container\n",
    "        image: seldonio/alibi-detect-server:1.7.0-dev\n",
    "        imagePullPolicy: IfNotPresent\n",
    "        args:\n",
    "        - --model_name\n",
    "        - multiclassserver\n",
    "        - --http_port\n",
    "        - '8080'\n",
    "        - --protocol\n",
    "        - seldonfeedback.http\n",
    "        - --storage_uri\n",
    "        - \"adserver.cm_models.multiclass_one_hot.MulticlassOneHot\"\n",
    "        - --reply_url\n",
    "        - http://message-dumper.default        \n",
    "        - --event_type\n",
    "        - io.seldon.serving.feedback.metrics\n",
    "        - --event_source\n",
    "        - io.seldon.serving.feedback\n",
    "        - MetricsServer\n",
    "        env:\n",
    "        - name: \"SELDON_DEPLOYMENT_ID\"\n",
    "          value: \"multiclass-model\"\n",
    "        - name: \"PREDICTIVE_UNIT_ID\"\n",
    "          value: \"classifier\"\n",
    "        - name: \"PREDICTIVE_UNIT_IMAGE\"\n",
    "          value: \"alibi-detect-server:1.7.0-dev\"\n",
    "        - name: \"PREDICTOR_ID\"\n",
    "          value: \"default\"\n",
    "---\n",
    "apiVersion: v1\n",
    "kind: Service\n",
    "metadata:\n",
    "  name: seldon-multiclass-model-metrics\n",
    "  namespace: seldon\n",
    "  labels:\n",
    "    app: seldon-multiclass-model-metrics\n",
    "spec:\n",
    "  selector:\n",
    "    app: seldon-multiclass-model-metrics\n",
    "  ports:\n",
    "    - protocol: TCP\n",
    "      port: 80\n",
    "      targetPort: 8080"
   ]
  },
  {
   "cell_type": "code",
   "execution_count": 8,
   "metadata": {},
   "outputs": [
    {
     "name": "stdout",
     "output_type": "stream",
     "text": [
      "deployment.apps/seldon-multiclass-model-metrics unchanged\n",
      "service/seldon-multiclass-model-metrics unchanged\n"
     ]
    }
   ],
   "source": [
    "!kubectl apply -n seldon -f config/multiclass-deployment.yaml"
   ]
  },
  {
   "cell_type": "code",
   "execution_count": 9,
   "metadata": {},
   "outputs": [
    {
     "name": "stdout",
     "output_type": "stream",
     "text": [
      "deployment \"seldon-multiclass-model-metrics\" successfully rolled out\n"
     ]
    }
   ],
   "source": [
    "!kubectl rollout status deploy/seldon-multiclass-model-metrics"
   ]
  },
  {
   "cell_type": "code",
   "execution_count": 10,
   "metadata": {},
   "outputs": [],
   "source": [
    "import time\n",
    "\n",
    "time.sleep(20)"
   ]
  },
  {
   "cell_type": "markdown",
   "metadata": {},
   "source": [
    "### Send feedback"
   ]
  },
  {
   "cell_type": "code",
   "execution_count": 11,
   "metadata": {},
   "outputs": [
    {
     "name": "stdout",
     "output_type": "stream",
     "text": [
      "['  % Total    % Received % Xferd  Average Speed   Time    Time     Time  Current', '                                 Dload  Upload   Total   Spent    Left  Speed', '', '  0     0    0     0    0     0      0      0 --:--:-- --:--:-- --:--:--     0', '100   251  100   107  100   144    136    183 --:--:-- --:--:-- --:--:--   320', '100   251  100   107  100   144    136    183 --:--:-- --:--:-- --:--:--   319', '{\"data\":{\"tensor\":{\"shape\":[0]}},\"meta\":{\"requestPath\":{\"classifier\":\"seldonio/sklearnserver:1.7.0-dev\"}}}']\n"
     ]
    }
   ],
   "source": [
    "res=!curl -X POST \"http://localhost:8003/seldon/seldon/multiclass-model/api/v1.0/feedback\" \\\n",
    "        -H \"Content-Type: application/json\" \\\n",
    "        -d '{\"response\": {\"data\": {\"ndarray\": [[0.0006985194531162841,0.003668039039435755,0.9956334415074478]]}}, \"truth\":{\"data\": {\"ndarray\": [[0,0,1]]}}}'\n",
    "print(res)\n",
    "import json\n",
    "j=json.loads(res[-1])\n",
    "assert(\"data\" in j)"
   ]
  },
  {
   "cell_type": "code",
   "execution_count": 12,
   "metadata": {},
   "outputs": [],
   "source": [
    "import time\n",
    "\n",
    "time.sleep(3)"
   ]
  },
  {
   "cell_type": "markdown",
   "metadata": {},
   "source": [
    "### Check that metrics are recorded"
   ]
  },
  {
   "cell_type": "code",
   "execution_count": 13,
   "metadata": {},
   "outputs": [
    {
     "name": "stdout",
     "output_type": "stream",
     "text": [
      "['[I 210304 12:16:36 cm_model:103] PROCESSING Feedback Event.']\n"
     ]
    }
   ],
   "source": [
    "res=!kubectl logs $(kubectl get pods -l app=seldon-multiclass-model-metrics \\\n",
    "                    -n seldon -o jsonpath='{.items[0].metadata.name}') | grep \"PROCESSING Feedback Event\"\n",
    "print(res)\n",
    "assert(len(res)>0)"
   ]
  },
  {
   "cell_type": "markdown",
   "metadata": {},
   "source": [
    "### Cleanup"
   ]
  },
  {
   "cell_type": "code",
   "execution_count": 14,
   "metadata": {},
   "outputs": [
    {
     "name": "stdout",
     "output_type": "stream",
     "text": [
      "deployment.apps \"seldon-multiclass-model-metrics\" deleted\n",
      "service \"seldon-multiclass-model-metrics\" deleted\n"
     ]
    }
   ],
   "source": [
    "!kubectl delete -n seldon -f config/multiclass-deployment.yaml"
   ]
  },
  {
   "cell_type": "code",
   "execution_count": 15,
   "metadata": {},
   "outputs": [
    {
     "name": "stdout",
     "output_type": "stream",
     "text": [
      "seldondeployment.machinelearning.seldon.io \"multiclass-model\" deleted\n"
     ]
    }
   ],
   "source": [
    "!kubectl delete sdep multiclass-model"
   ]
  }
 ],
 "metadata": {
  "kernelspec": {
   "display_name": "Python 3",
   "language": "python",
   "name": "python3"
  },
  "language_info": {
   "codemirror_mode": {
    "name": "ipython",
    "version": 3
   },
   "file_extension": ".py",
   "mimetype": "text/x-python",
   "name": "python",
   "nbconvert_exporter": "python",
   "pygments_lexer": "ipython3",
   "version": "3.7.9"
  }
 },
 "nbformat": 4,
 "nbformat_minor": 4
}
