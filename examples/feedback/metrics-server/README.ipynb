{
 "cells": [
  {
   "cell_type": "markdown",
   "metadata": {},
   "source": [
    "# Stateful Model Feedback Metrics Server\n",
    "In this example we will add statistical performance metrics capabilities by levering the Seldon metrics server.\n",
    "\n",
    "Dependencies\n",
    "* Istio with a gateway set up as per docs\n",
    "* Seldon Core installed\n",
    "* KNative eventing v0.11.0\n",
    "* KNative serving v0.11.1\n"
   ]
  },
  {
   "cell_type": "code",
   "execution_count": 2,
   "metadata": {},
   "outputs": [
    {
     "name": "stdout",
     "output_type": "stream",
     "text": [
      "namespace/default labeled\r\n"
     ]
    }
   ],
   "source": [
    "!kubectl label namespace default knative-eventing-injection=enabled --overwrite=true"
   ]
  },
  {
   "cell_type": "code",
   "execution_count": 8,
   "metadata": {},
   "outputs": [
    {
     "name": "stdout",
     "output_type": "stream",
     "text": [
      "NAME      READY   REASON   URL                                               AGE\r\n",
      "default   True             http://default-broker.default.svc.cluster.local   16m\r\n"
     ]
    }
   ],
   "source": [
    "!kubectl get broker"
   ]
  },
  {
   "cell_type": "code",
   "execution_count": 4,
   "metadata": {},
   "outputs": [
    {
     "name": "stdout",
     "output_type": "stream",
     "text": [
      "seldondeployment.machinelearning.seldon.io/multi-class created\n"
     ]
    }
   ],
   "source": [
    "%%bash\n",
    "kubectl apply -f - << END\n",
    "apiVersion: machinelearning.seldon.io/v1\n",
    "kind: SeldonDeployment\n",
    "metadata:\n",
    "  name: multiclass-model\n",
    "spec:\n",
    "  predictors:\n",
    "  - graph:\n",
    "      children: []\n",
    "      implementation: SKLEARN_SERVER\n",
    "      modelUri: gs://seldon-models/sklearn/iris\n",
    "      name: classifier\n",
    "    name: default\n",
    "    replicas: 1\n",
    "END"
   ]
  },
  {
   "cell_type": "code",
   "execution_count": 3,
   "metadata": {},
   "outputs": [],
   "source": [
    "!mkdir -p config"
   ]
  },
  {
   "cell_type": "code",
   "execution_count": 23,
   "metadata": {},
   "outputs": [
    {
     "name": "stdout",
     "output_type": "stream",
     "text": [
      "Overwriting config/multiclass-service.yaml\n"
     ]
    }
   ],
   "source": [
    "%%writefile config/multiclass-service.yaml\n",
    "apiVersion: serving.knative.dev/v1alpha1\n",
    "kind: Service\n",
    "metadata:\n",
    "  name: multiclass-model-metrics-kservice\n",
    "spec:\n",
    "  template:\n",
    "    metadata:\n",
    "      annotations:\n",
    "        autoscaling.knative.dev/minScale: \"1\"\n",
    "    spec:\n",
    "      containers:\n",
    "      - image: seldonio/alibi-detect-server:1.3.0-dev\n",
    "        imagePullPolicy: IfNotPresent\n",
    "        args:\n",
    "        - --model_name\n",
    "        - multiclassserver\n",
    "        - --http_port\n",
    "        - '8080'\n",
    "        - --protocol\n",
    "        - seldonfeedback.http\n",
    "        - --storage_uri\n",
    "        - \"adserver.cm_models.multiclass_one_hot.MulticlassOneHot\"\n",
    "        - --reply_url\n",
    "        - http://message-dumper.default        \n",
    "        - --event_type\n",
    "        - io.seldon.serving.feedback.metrics\n",
    "        - --event_source\n",
    "        - io.seldon.serving.feedback\n",
    "        - MetricsServer\n",
    "        env:\n",
    "        - name: \"SELDON_DEPLOYMENT_ID\"\n",
    "          value: \"multiclass-model\"\n",
    "        - name: \"PREDICTIVE_UNIT_ID\"\n",
    "          value: \"classifier\"\n",
    "        - name: \"PREDICTIVE_UNIT_IMAGE\"\n",
    "          value: \"alibi-detect-server:1.3.0-dev\"\n",
    "        - name: \"PREDICTOR_ID\"\n",
    "          value: \"default\""
   ]
  },
  {
   "cell_type": "code",
   "execution_count": 38,
   "metadata": {},
   "outputs": [
    {
     "name": "stdout",
     "output_type": "stream",
     "text": [
      "service.serving.knative.dev/multiclass-model-metrics-kservice created\r\n"
     ]
    }
   ],
   "source": [
    "!kubectl apply -f config/multiclass-service.yaml"
   ]
  },
  {
   "cell_type": "code",
   "execution_count": 19,
   "metadata": {},
   "outputs": [
    {
     "name": "stdout",
     "output_type": "stream",
     "text": [
      "NAME                                URL                                                            LATESTCREATED                             LATESTREADY   READY   REASON\r\n",
      "multiclass-model-metrics-kservice   http://multiclass-model-metrics-kservice.default.example.com   multiclass-model-metrics-kservice-8nh2p                 False   RevisionMissing\r\n"
     ]
    }
   ],
   "source": [
    "!kubectl get kservice"
   ]
  },
  {
   "cell_type": "code",
   "execution_count": 5,
   "metadata": {},
   "outputs": [
    {
     "name": "stdout",
     "output_type": "stream",
     "text": [
      "Writing config/trigger.yaml\n"
     ]
    }
   ],
   "source": [
    "%%writefile config/trigger.yaml\n",
    "apiVersion: eventing.knative.dev/v1alpha1\n",
    "kind: Trigger\n",
    "metadata:\n",
    "  name: multiclass-model-metrics-trigger\n",
    "  namespace: default\n",
    "spec:\n",
    "  filter:\n",
    "    sourceAndType:\n",
    "      type: io.seldon.serving.feedback\n",
    "  subscriber:\n",
    "    ref:\n",
    "      apiVersion: serving.knative.dev/v1alpha1\n",
    "      kind: Service\n",
    "      name: multiclass-model-metrics"
   ]
  },
  {
   "cell_type": "code",
   "execution_count": 6,
   "metadata": {},
   "outputs": [
    {
     "name": "stdout",
     "output_type": "stream",
     "text": [
      "trigger.eventing.knative.dev/multiclass-model-metrics-trigger created\r\n"
     ]
    }
   ],
   "source": [
    "!kubectl apply -f config/trigger.yaml"
   ]
  },
  {
   "cell_type": "code",
   "execution_count": 9,
   "metadata": {},
   "outputs": [
    {
     "name": "stdout",
     "output_type": "stream",
     "text": [
      "NAME                               READY   REASON                               BROKER    SUBSCRIBER_URI   AGE\r\n",
      "multiclass-model-metrics-trigger   False   Unable to get the Subscriber's URI   default                    25s\r\n"
     ]
    }
   ],
   "source": [
    "!kubectl get trigger"
   ]
  },
  {
   "cell_type": "code",
   "execution_count": null,
   "metadata": {},
   "outputs": [],
   "source": []
  }
 ],
 "metadata": {
  "kernelspec": {
   "display_name": "Python 3",
   "language": "python",
   "name": "python3"
  },
  "language_info": {
   "codemirror_mode": {
    "name": "ipython",
    "version": 3
   },
   "file_extension": ".py",
   "mimetype": "text/x-python",
   "name": "python",
   "nbconvert_exporter": "python",
   "pygments_lexer": "ipython3",
   "version": "3.7.4"
  }
 },
 "nbformat": 4,
 "nbformat_minor": 2
}
