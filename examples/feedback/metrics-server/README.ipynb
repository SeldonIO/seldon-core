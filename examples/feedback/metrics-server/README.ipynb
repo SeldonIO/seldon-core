{
 "cells": [
  {
   "cell_type": "markdown",
   "metadata": {},
   "source": [
    "# Stateful Model Feedback Metrics Server\n",
    "In this example we will add statistical performance metrics capabilities by levering the Seldon metrics server.\n",
    "\n",
    "Dependencies\n",
    "* Seldon Core installed\n",
    "* KNative eventing v0.11.0\n",
    "* KNative serving v0.11.1 (optional)\n"
   ]
  },
  {
   "cell_type": "code",
   "execution_count": null,
   "metadata": {},
   "outputs": [],
   "source": [
    "!mkdir -p config"
   ]
  },
  {
   "cell_type": "markdown",
   "metadata": {},
   "source": [
    "### Create a simple model\n",
    "We create a multiclass classification model - iris classifier.\n",
    "\n",
    "The iris classifier takes an input array, and returns the prediction of the 4 classes.\n",
    "\n",
    "The prediction can be done as numeric or as a probability array."
   ]
  },
  {
   "cell_type": "code",
   "execution_count": 109,
   "metadata": {},
   "outputs": [
    {
     "name": "stdout",
     "output_type": "stream",
     "text": [
      "seldondeployment.machinelearning.seldon.io/multiclass-model configured\n"
     ]
    }
   ],
   "source": [
    "%%bash\n",
    "kubectl apply -f - << END\n",
    "apiVersion: machinelearning.seldon.io/v1\n",
    "kind: SeldonDeployment\n",
    "metadata:\n",
    "  name: multiclass-model\n",
    "spec:\n",
    "  predictors:\n",
    "  - graph:\n",
    "      children: []\n",
    "      implementation: SKLEARN_SERVER\n",
    "      modelUri: gs://seldon-models/sklearn/iris\n",
    "      name: classifier\n",
    "      logger:\n",
    "        mode: all\n",
    "    name: default\n",
    "    replicas: 1\n",
    "END"
   ]
  },
  {
   "cell_type": "markdown",
   "metadata": {},
   "source": [
    "#### Send test request"
   ]
  },
  {
   "cell_type": "code",
   "execution_count": 111,
   "metadata": {},
   "outputs": [
    {
     "name": "stdout",
     "output_type": "stream",
     "text": [
      "> POST /api/v1.0/predictions HTTP/1.1\r",
      "\r",
      "\r\n",
      "> User-Agent: curl/7.35.0\r",
      "\r",
      "\r\n",
      "> Host: multiclass-model-default.default.svc.cluster.local:8000\r",
      "\r",
      "\r\n",
      "> Accept: */*\r",
      "\r",
      "\r\n",
      "> Content-Type: application/json\r",
      "\r",
      "\r\n",
      "> Content-Length: 64\r",
      "\r",
      "\r\n",
      "> \r",
      "\r",
      "\r\n",
      "< HTTP/1.1 200 OK\r",
      "\r",
      "\r\n",
      "< Access-Control-Allow-Headers: Accept, Accept-Encoding, Authorization, Content-Length, Content-Type, X-CSRF-Token\r",
      "\r",
      "\r\n",
      "< Access-Control-Allow-Methods: OPTIONS,POST\r",
      "\r",
      "\r\n",
      "< Access-Control-Allow-Origin: *\r",
      "\r",
      "\r\n",
      "< Content-Type: application/json\r",
      "\r",
      "\r\n",
      "< Seldon-Puid: b8c38c50-2bda-419b-88c3-62a74068eea0\r",
      "\r",
      "\r\n",
      "< X-Content-Type-Options: nosniff\r",
      "\r",
      "\r\n",
      "< Date: Fri, 25 Sep 2020 07:47:01 GMT\r",
      "\r",
      "\r\n",
      "< Content-Length: 139\r",
      "\r",
      "\r\n",
      "< \r",
      "\r",
      "\r\n",
      "{\"data\":{\"names\":[\"t:0\",\"t:1\",\"t:2\"],\"ndarray\":[[0.0006985194531162841,0.003668039039435755,0.9956334415074478]]},\"meta\":{\"puid\":\"hello\"}}\r",
      "\r\n"
     ]
    }
   ],
   "source": [
    "!kubectl run --quiet=true -it --rm curl --image=radial/busyboxplus:curl --restart=Never -- \\\n",
    "    curl -X POST -v \"http://multiclass-model-default.default.svc.cluster.local:8000/api/v1.0/predictions\" \\\n",
    "        -H \"Content-Type: application/json\" -d '{\"data\": { \"ndarray\": [[1,2,3,4]]}, \"meta\": { \"puid\": \"hello\" }}'"
   ]
  },
  {
   "cell_type": "markdown",
   "metadata": {},
   "source": [
    "### Create Metrics Service"
   ]
  },
  {
   "cell_type": "code",
   "execution_count": 108,
   "metadata": {},
   "outputs": [
    {
     "name": "stdout",
     "output_type": "stream",
     "text": [
      "Overwriting config/multiclass-service.yaml\n"
     ]
    }
   ],
   "source": [
    "%%writefile config/multiclass-service.yaml\n",
    "apiVersion: serving.knative.dev/v1alpha1\n",
    "kind: Service\n",
    "metadata:\n",
    "  name: seldon-multiclass-model-metrics\n",
    "spec:\n",
    "  template:\n",
    "    metadata:\n",
    "      annotations:\n",
    "        autoscaling.knative.dev/minScale: \"1\"\n",
    "    spec:\n",
    "      containers:\n",
    "      - image: \"seldonio/alibi-detect-server:1.3.0-dev\"\n",
    "        imagePullPolicy: Never\n",
    "        args:\n",
    "        - --model_name\n",
    "        - multiclassserver\n",
    "        - --http_port\n",
    "        - '8080'\n",
    "        - --protocol\n",
    "        - seldonfeedback.http\n",
    "        - --storage_uri\n",
    "        - \"adserver.cm_models.multiclass_one_hot.MulticlassOneHot\"\n",
    "        - --reply_url\n",
    "        - http://message-dumper.default        \n",
    "        - --event_type\n",
    "        - io.seldon.serving.feedback.metrics\n",
    "        - --event_source\n",
    "        - io.seldon.serving.feedback\n",
    "        - MetricsServer\n",
    "        env:\n",
    "        - name: \"SELDON_DEPLOYMENT_ID\"\n",
    "          value: \"multiclass-model\"\n",
    "        - name: \"PREDICTIVE_UNIT_ID\"\n",
    "          value: \"classifier\"\n",
    "        - name: \"PREDICTIVE_UNIT_IMAGE\"\n",
    "          value: \"alibi-detect-server:1.3.0-dev\"\n",
    "        - name: \"PREDICTOR_ID\"\n",
    "          value: \"default\"\n",
    "        securityContext:\n",
    "            runAsUser: 8888"
   ]
  },
  {
   "cell_type": "code",
   "execution_count": 88,
   "metadata": {},
   "outputs": [
    {
     "name": "stdout",
     "output_type": "stream",
     "text": [
      "service.serving.knative.dev/multiclass-model-metrics-kservice created\r\n"
     ]
    }
   ],
   "source": [
    "!kubectl apply -f config/multiclass-service.yaml"
   ]
  },
  {
   "cell_type": "code",
   "execution_count": 19,
   "metadata": {},
   "outputs": [
    {
     "name": "stdout",
     "output_type": "stream",
     "text": [
      "NAME                                URL                                                            LATESTCREATED                             LATESTREADY   READY   REASON\r\n",
      "multiclass-model-metrics-kservice   http://multiclass-model-metrics-kservice.default.example.com   multiclass-model-metrics-kservice-8nh2p                 False   RevisionMissing\r\n"
     ]
    }
   ],
   "source": [
    "!kubectl get kservice"
   ]
  },
  {
   "cell_type": "markdown",
   "metadata": {},
   "source": [
    "### (Alternative) Kubernetes Deployment\n",
    "Alternatively you can also create a kubernetes deployment instead of a kservice with the yaml below."
   ]
  },
  {
   "cell_type": "code",
   "execution_count": 89,
   "metadata": {},
   "outputs": [
    {
     "name": "stdout",
     "output_type": "stream",
     "text": [
      "Overwriting config/multiclass-deployment.yaml\n"
     ]
    }
   ],
   "source": [
    "%%writefile config/multiclass-deployment.yaml\n",
    "apiVersion: apps/v1\n",
    "kind: Deployment\n",
    "metadata:\n",
    "  name: seldon-multiclass-model-metrics\n",
    "  labels:\n",
    "    app: seldon-multiclass-model-metrics\n",
    "spec:\n",
    "  replicas: 1\n",
    "  selector:\n",
    "    matchLabels:\n",
    "      app: seldon-multiclass-model-metrics\n",
    "  template:\n",
    "    metadata:\n",
    "      labels:\n",
    "        app: seldon-multiclass-model-metrics\n",
    "    spec:\n",
    "      securityContext:\n",
    "          runAsUser: 8888\n",
    "      containers:\n",
    "      - name: user-container\n",
    "        image: seldonio/alibi-detect-server:1.3.0-dev\n",
    "        imagePullPolicy: Never\n",
    "        args:\n",
    "        - --model_name\n",
    "        - multiclassserver\n",
    "        - --http_port\n",
    "        - '8080'\n",
    "        - --protocol\n",
    "        - seldonfeedback.http\n",
    "        - --storage_uri\n",
    "        - \"adserver.cm_models.multiclass_one_hot.MulticlassOneHot\"\n",
    "        - --reply_url\n",
    "        - http://message-dumper.default        \n",
    "        - --event_type\n",
    "        - io.seldon.serving.feedback.metrics\n",
    "        - --event_source\n",
    "        - io.seldon.serving.feedback\n",
    "        - MetricsServer\n",
    "        env:\n",
    "        - name: \"SELDON_DEPLOYMENT_ID\"\n",
    "          value: \"multiclass-model\"\n",
    "        - name: \"PREDICTIVE_UNIT_ID\"\n",
    "          value: \"classifier\"\n",
    "        - name: \"PREDICTIVE_UNIT_IMAGE\"\n",
    "          value: \"alibi-detect-server:1.3.0-dev\"\n",
    "        - name: \"PREDICTOR_ID\"\n",
    "          value: \"default\"\n",
    "---\n",
    "apiVersion: v1\n",
    "kind: Service\n",
    "metadata:\n",
    "  name: seldon-multiclass-model-metrics\n",
    "  labels:\n",
    "    app: seldon-multiclass-model-metrics\n",
    "spec:\n",
    "  selector:\n",
    "    app: seldon-multiclass-model-metrics\n",
    "  ports:\n",
    "    - protocol: TCP\n",
    "      port: 80\n",
    "      targetPort: 8080"
   ]
  },
  {
   "cell_type": "code",
   "execution_count": 91,
   "metadata": {},
   "outputs": [
    {
     "name": "stdout",
     "output_type": "stream",
     "text": [
      "deployment.apps/seldon-multiclass-model-metrics created\r\n",
      "service/seldon-multiclass-model-metrics created\r\n"
     ]
    }
   ],
   "source": [
    "!kubectl apply -f config/multiclass-deployment.yaml"
   ]
  },
  {
   "cell_type": "code",
   "execution_count": 97,
   "metadata": {},
   "outputs": [
    {
     "name": "stdout",
     "output_type": "stream",
     "text": [
      "NAME                                               READY   STATUS        RESTARTS   AGE\r\n",
      "seldon-multiclass-model-metrics-5f9776bf69-25dxk   1/1     Running       0          20s\r\n",
      "seldon-multiclass-model-metrics-5f9776bf69-55jzn   1/1     Terminating   0          10m\r\n"
     ]
    }
   ],
   "source": [
    "!kubectl get pods"
   ]
  },
  {
   "cell_type": "markdown",
   "metadata": {},
   "source": [
    "### Create Trigger"
   ]
  },
  {
   "cell_type": "code",
   "execution_count": 100,
   "metadata": {},
   "outputs": [
    {
     "name": "stdout",
     "output_type": "stream",
     "text": [
      "namespace/default not labeled\r\n"
     ]
    }
   ],
   "source": [
    "!kubectl label namespace default knative-eventing-injection=enabled --overwrite=true"
   ]
  },
  {
   "cell_type": "code",
   "execution_count": 99,
   "metadata": {},
   "outputs": [
    {
     "name": "stdout",
     "output_type": "stream",
     "text": [
      "NAME      READY   REASON   URL                                               AGE\r\n",
      "default   True             http://default-broker.default.svc.cluster.local   2m53s\r\n"
     ]
    }
   ],
   "source": [
    "!kubectl get broker"
   ]
  },
  {
   "cell_type": "code",
   "execution_count": 105,
   "metadata": {},
   "outputs": [
    {
     "name": "stdout",
     "output_type": "stream",
     "text": [
      "Overwriting config/trigger.yaml\n"
     ]
    }
   ],
   "source": [
    "%%writefile config/trigger.yaml\n",
    "apiVersion: eventing.knative.dev/v1alpha1\n",
    "kind: Trigger\n",
    "metadata:\n",
    "  name: multiclass-model-metrics-trigger\n",
    "  namespace: default\n",
    "spec:\n",
    "  filter:\n",
    "    sourceAndType:\n",
    "      type: io.seldon.serving.feedback\n",
    "  subscriber:\n",
    "    ref:\n",
    "      apiVersion: v1\n",
    "      kind: Service\n",
    "      name: seldon-multiclass-model-metrics"
   ]
  },
  {
   "cell_type": "code",
   "execution_count": 106,
   "metadata": {},
   "outputs": [
    {
     "name": "stdout",
     "output_type": "stream",
     "text": [
      "trigger.eventing.knative.dev/multiclass-model-metrics-trigger created\r\n"
     ]
    }
   ],
   "source": [
    "!kubectl apply -f config/trigger.yaml"
   ]
  },
  {
   "cell_type": "code",
   "execution_count": 107,
   "metadata": {},
   "outputs": [
    {
     "name": "stdout",
     "output_type": "stream",
     "text": [
      "NAME                               READY   REASON   BROKER    SUBSCRIBER_URI                                                      AGE\r\n",
      "multiclass-model-metrics-trigger   True             default   http://seldon-multiclass-model-metrics.default.svc.cluster.local/   1s\r\n"
     ]
    }
   ],
   "source": [
    "!kubectl get trigger"
   ]
  },
  {
   "cell_type": "markdown",
   "metadata": {},
   "source": [
    "### Send feedback"
   ]
  },
  {
   "cell_type": "code",
   "execution_count": 116,
   "metadata": {},
   "outputs": [
    {
     "name": "stdout",
     "output_type": "stream",
     "text": [
      "> POST /api/v1.0/feedback HTTP/1.1\r",
      "\r",
      "\r\n",
      "> User-Agent: curl/7.35.0\r",
      "\r",
      "\r\n",
      "> Host: multiclass-model-default.default.svc.cluster.local:8000\r",
      "\r",
      "\r\n",
      "> Accept: */*\r",
      "\r",
      "\r\n",
      "> Content-Type: application/json\r",
      "\r",
      "\r\n",
      "> Content-Length: 144\r",
      "\r",
      "\r\n",
      "> \r",
      "\r",
      "\r\n",
      "< HTTP/1.1 200 OK\r",
      "\r",
      "\r\n",
      "< Access-Control-Allow-Headers: Accept, Accept-Encoding, Authorization, Content-Length, Content-Type, X-CSRF-Token\r",
      "\r",
      "\r\n",
      "< Access-Control-Allow-Methods: OPTIONS,POST\r",
      "\r",
      "\r\n",
      "< Access-Control-Allow-Origin: *\r",
      "\r",
      "\r\n",
      "< Content-Type: application/json\r",
      "\r",
      "\r\n",
      "< Seldon-Puid: 7a7c95e5-70fe-4464-8b63-9e0bafe00cb1\r",
      "\r",
      "\r\n",
      "< X-Content-Type-Options: nosniff\r",
      "\r",
      "\r\n",
      "< Date: Fri, 25 Sep 2020 07:49:57 GMT\r",
      "\r",
      "\r\n",
      "< Content-Length: 44\r",
      "\r",
      "\r\n",
      "< \r",
      "\r",
      "\r\n",
      "{\"data\":{\"tensor\":{\"shape\":[0]}},\"meta\":{}}\r",
      "\r\n"
     ]
    }
   ],
   "source": [
    "!kubectl run --quiet=true -it --rm curl --image=radial/busyboxplus:curl --restart=Never -- \\\n",
    "    curl -X POST -v \"http://multiclass-model-default.default.svc.cluster.local:8000/api/v1.0/feedback\" \\\n",
    "        -H \"Content-Type: application/json\" \\\n",
    "        -d '{\"response\": {\"data\": {\"ndarray\": [[0.0006985194531162841,0.003668039039435755,0.9956334415074478]]}}, \"truth\":{\"data\": {\"ndarray\": [[0,0,1]]}}}'"
   ]
  },
  {
   "cell_type": "markdown",
   "metadata": {},
   "source": [
    "### Check that metrics are recorded"
   ]
  },
  {
   "cell_type": "code",
   "execution_count": 122,
   "metadata": {},
   "outputs": [
    {
     "name": "stdout",
     "output_type": "stream",
     "text": [
      "> GET /v1/metrics HTTP/1.1\r",
      "\r",
      "\r\n",
      "> User-Agent: curl/7.35.0\r",
      "\r",
      "\r\n",
      "> Host: seldon-multiclass-model-metrics.default.svc.cluster.local\r",
      "\r",
      "\r\n",
      "> Accept: */*\r",
      "\r",
      "\r\n",
      "> \r",
      "\r",
      "\r\n",
      "< HTTP/1.1 200 OK\r",
      "\r",
      "\r\n",
      "< Server: TornadoServer/6.0.4\r",
      "\r",
      "\r\n",
      "< Content-Type: text/plain; version=0.0.4; charset=utf-8\r",
      "\r",
      "\r\n",
      "< Date: Fri, 25 Sep 2020 08:07:41 GMT\r",
      "\r",
      "\r\n",
      "< Etag: \"91440f4e5e783afe116d54978ccc0e7ae6f6e252\"\r",
      "\r",
      "\r\n",
      "< Content-Length: 495\r",
      "\r",
      "\r\n",
      "< \r",
      "\r",
      "\r\n",
      "# HELP seldon_metric_true_positive_total \r",
      "\r\n",
      "# TYPE seldon_metric_true_positive_total counter\r",
      "\r\n",
      "seldon_metric_true_positive_total{class=\"CLASS_0\",deployment_name=\"multiclass-model\",image_name=\"alibi-detect-server\",image_version=\"1.3.0-dev\",method=\"ce_server\",model_image=\"alibi-detect-server\",model_name=\"classifier\",model_version=\"1.3.0-dev\",predictor_name=\"default\",predictor_version=\"NOT_IMPLEMENTED\",seldon_deployment_name=\"multiclass-model\",worker_id=\"b53f1f2a-ff03-11ea-9e97-f68d14edffe0\"} 1.0\r",
      "\r\n"
     ]
    }
   ],
   "source": [
    "!kubectl run --quiet=true -it --rm curl --image=radial/busyboxplus:curl --restart=Never -- \\\n",
    "    curl -X GET -v \"http://seldon-multiclass-model-metrics.default.svc.cluster.local:80/v1/metrics\""
   ]
  },
  {
   "cell_type": "code",
   "execution_count": null,
   "metadata": {},
   "outputs": [],
   "source": []
  }
 ],
 "metadata": {
  "kernelspec": {
   "display_name": "Python 3",
   "language": "python",
   "name": "python3"
  },
  "language_info": {
   "codemirror_mode": {
    "name": "ipython",
    "version": 3
   },
   "file_extension": ".py",
   "mimetype": "text/x-python",
   "name": "python",
   "nbconvert_exporter": "python",
   "pygments_lexer": "ipython3",
   "version": "3.7.4"
  }
 },
 "nbformat": 4,
 "nbformat_minor": 2
}
