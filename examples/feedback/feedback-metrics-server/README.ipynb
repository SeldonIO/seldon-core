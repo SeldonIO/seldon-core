{
 "cells": [
  {
   "cell_type": "markdown",
   "metadata": {},
   "source": [
    "# Stateful Elasticsearch Feedback Workflow for Metrics Server\n",
    "In this example we will add statistical performance metrics capabilities by levering the Seldon metrics server with persistence through the elasticsearch setup.\n",
    "\n",
    "Dependencies\n",
    "* Seldon Core installed\n",
    "* Ingress provider (Istio or Ambassador)\n",
    "* Install [Elasticsearch for the Seldon Core Logging](https://docs.seldon.io/projects/seldon-core/en/latest/analytics/logging.html)\n",
    "* KNative eventing v0.11.0\n",
    "* KNative serving v0.11.1 (optional)\n",
    "\n",
    "Then port-forward to that ingress on localhost:8003 in a separate terminal either with:\n",
    "\n",
    "Ambassador:\n",
    "\n",
    "    kubectl port-forward $(kubectl get pods -n seldon -l app.kubernetes.io/name=ambassador -o jsonpath='{.items[0].metadata.name}') -n seldon 8003:8080\n",
    "\n",
    "Istio:\n",
    "\n",
    "    kubectl port-forward $(kubectl get pods -l istio=ingressgateway -n istio-system -o jsonpath='{.items[0].metadata.name}') -n istio-system 8003:80\n",
    "\n",
    "\n"
   ]
  },
  {
   "cell_type": "code",
   "execution_count": 76,
   "metadata": {},
   "outputs": [
    {
     "name": "stdout",
     "output_type": "stream",
     "text": [
      "Overwriting requirements-dev.txt\n"
     ]
    }
   ],
   "source": [
    "%%writefile requirements-dev.txt\n",
    "elasticsearch==7.9.1"
   ]
  },
  {
   "cell_type": "code",
   "execution_count": 77,
   "metadata": {},
   "outputs": [
    {
     "name": "stdout",
     "output_type": "stream",
     "text": [
      "Collecting elasticsearch==7.9.1\n",
      "\u001b[?25l  Downloading https://files.pythonhosted.org/packages/e4/b7/f8f03019089671486e2910282c1b6fce26ccc8a513322df72ac8994ab2de/elasticsearch-7.9.1-py2.py3-none-any.whl (219kB)\n",
      "\u001b[K     |████████████████████████████████| 225kB 1.1MB/s eta 0:00:01\n",
      "\u001b[?25hRequirement already satisfied: certifi in /home/alejandro/miniconda3/lib/python3.7/site-packages (from elasticsearch==7.9.1->-r requirements-dev.txt (line 1)) (2019.9.11)\n",
      "Requirement already satisfied: urllib3>=1.21.1 in /home/alejandro/miniconda3/lib/python3.7/site-packages (from elasticsearch==7.9.1->-r requirements-dev.txt (line 1)) (1.24.2)\n",
      "Installing collected packages: elasticsearch\n",
      "  Found existing installation: elasticsearch 7.5.1\n",
      "    Uninstalling elasticsearch-7.5.1:\n",
      "      Successfully uninstalled elasticsearch-7.5.1\n",
      "Successfully installed elasticsearch-7.9.1\n"
     ]
    }
   ],
   "source": [
    "!pip install -r requirements-dev.txt"
   ]
  },
  {
   "cell_type": "code",
   "execution_count": 5,
   "metadata": {},
   "outputs": [
    {
     "name": "stdout",
     "output_type": "stream",
     "text": [
      "namespace/seldon created\r\n"
     ]
    }
   ],
   "source": [
    "!kubectl create namespace seldon || echo \"namespace already created\""
   ]
  },
  {
   "cell_type": "code",
   "execution_count": 6,
   "metadata": {},
   "outputs": [
    {
     "name": "stdout",
     "output_type": "stream",
     "text": [
      "Context \"docker-desktop\" modified.\r\n"
     ]
    }
   ],
   "source": [
    "!kubectl config set-context $(kubectl config current-context) --namespace=seldon"
   ]
  },
  {
   "cell_type": "code",
   "execution_count": 65,
   "metadata": {},
   "outputs": [],
   "source": [
    "!mkdir -p config"
   ]
  },
  {
   "cell_type": "markdown",
   "metadata": {},
   "source": [
    "Setting up Knative eventing routing for request logger "
   ]
  },
  {
   "cell_type": "code",
   "execution_count": 37,
   "metadata": {},
   "outputs": [
    {
     "name": "stdout",
     "output_type": "stream",
     "text": [
      "namespace/seldon labeled\r\n"
     ]
    }
   ],
   "source": [
    "!kubectl label namespace seldon-logs knative-eventing-injection=enabled --overwrite=true"
   ]
  },
  {
   "cell_type": "markdown",
   "metadata": {},
   "source": [
    "Adding payload request logger component for redirection of logs"
   ]
  },
  {
   "cell_type": "code",
   "execution_count": 17,
   "metadata": {},
   "outputs": [
    {
     "name": "stdout",
     "output_type": "stream",
     "text": [
      "trigger.eventing.knative.dev/seldon-request-logger-trigger unchanged\n",
      "deployment.apps/seldon-request-logger configured\n",
      "service/seldon-request-logger unchanged\n"
     ]
    }
   ],
   "source": [
    "%%bash\n",
    "kubectl apply -f - << END\n",
    "apiVersion: eventing.knative.dev/v1alpha1\n",
    "kind: Trigger\n",
    "metadata:\n",
    " name: seldon-request-logger-trigger\n",
    " namespace: seldon-logs\n",
    "spec:\n",
    " subscriber:\n",
    "   ref:\n",
    "     apiVersion: v1\n",
    "     kind: Service\n",
    "     name: seldon-request-logger\n",
    "END\n",
    "\n",
    "kubectl apply -f - << END\n",
    "apiVersion: apps/v1\n",
    "kind: Deployment\n",
    "metadata:\n",
    " name: seldon-request-logger\n",
    " namespace: seldon-logs\n",
    " labels:\n",
    "   app: seldon-request-logger\n",
    "spec:\n",
    " replicas: 1\n",
    " selector:\n",
    "   matchLabels:\n",
    "     app: seldon-request-logger\n",
    " template:\n",
    "   metadata:\n",
    "     labels:\n",
    "       app: seldon-request-logger\n",
    "   spec:\n",
    "     containers:\n",
    "       - name: user-container\n",
    "         image: docker.io/seldonio/seldon-request-logger:1.5.0-dev\n",
    "         imagePullPolicy: IfNotPresent\n",
    "         env:\n",
    "           - name: ELASTICSEARCH_HOST\n",
    "             value: \"elasticsearch-master.seldon-logs.svc.cluster.local\"\n",
    "           - name: ELASTICSEARCH_PORT\n",
    "             value: \"9200\"\n",
    "END\n",
    "\n",
    "kubectl apply -f - << END\n",
    "apiVersion: v1\n",
    "kind: Service\n",
    "metadata:\n",
    " name: seldon-request-logger\n",
    " namespace: seldon-logs\n",
    "spec:\n",
    " selector:\n",
    "   app: seldon-request-logger\n",
    " ports:\n",
    "   - protocol: TCP\n",
    "     port: 80\n",
    "     targetPort: 8080\n",
    "END"
   ]
  },
  {
   "cell_type": "markdown",
   "metadata": {},
   "source": [
    "### Create a simple model\n",
    "We create a multiclass classification model - iris classifier.\n",
    "\n",
    "The iris classifier takes an input array, and returns the prediction of the 4 classes.\n",
    "\n",
    "The prediction can be done as numeric or as a probability array."
   ]
  },
  {
   "cell_type": "code",
   "execution_count": 51,
   "metadata": {},
   "outputs": [
    {
     "name": "stdout",
     "output_type": "stream",
     "text": [
      "seldondeployment.machinelearning.seldon.io/multiclass-model configured\n"
     ]
    }
   ],
   "source": [
    "%%bash\n",
    "kubectl apply -f - << END\n",
    "apiVersion: machinelearning.seldon.io/v1\n",
    "kind: SeldonDeployment\n",
    "metadata:\n",
    "  name: multiclass-model\n",
    "spec:\n",
    "  predictors:\n",
    "  - graph:\n",
    "      children: []\n",
    "      implementation: SKLEARN_SERVER\n",
    "      modelUri: gs://seldon-models/sklearn/iris\n",
    "      name: classifier\n",
    "      logger:\n",
    "        url: http://default-broker.seldon-logs.svc.cluster.local:80/\n",
    "        mode: all\n",
    "    name: default\n",
    "    replicas: 1\n",
    "END"
   ]
  },
  {
   "cell_type": "code",
   "execution_count": 18,
   "metadata": {},
   "outputs": [
    {
     "name": "stdout",
     "output_type": "stream",
     "text": [
      "deployment \"multiclass-model-default-0-classifier\" successfully rolled out\r\n"
     ]
    }
   ],
   "source": [
    "!kubectl rollout status deploy/$(kubectl get deploy -l seldon-deployment-id=multiclass-model -o jsonpath='{.items[0].metadata.name}')"
   ]
  },
  {
   "cell_type": "markdown",
   "metadata": {},
   "source": [
    "### Send Prediction Request"
   ]
  },
  {
   "cell_type": "code",
   "execution_count": 19,
   "metadata": {},
   "outputs": [],
   "source": [
    "import requests\n",
    "url = \"http://localhost:80/seldon/seldon/multiclass-model/api/v1.0\""
   ]
  },
  {
   "cell_type": "code",
   "execution_count": 22,
   "metadata": {},
   "outputs": [
    {
     "name": "stdout",
     "output_type": "stream",
     "text": [
      "{'data': {'names': ['t:0', 't:1', 't:2'], 'ndarray': [[0.0006985194531162841, 0.003668039039435755, 0.9956334415074478]]}, 'meta': {}}\n"
     ]
    }
   ],
   "source": [
    "pred_req_1 = {\"data\":{\"ndarray\":[[1,2,3,4]]}}\n",
    "pred_resp_1 = requests.post(f\"{url}/predictions\", json=pred_req_1)\n",
    "print(pred_resp_1.json())\n",
    "assert(len(pred_resp_1.json()[\"data\"][\"ndarray\"][0])==3)"
   ]
  },
  {
   "cell_type": "markdown",
   "metadata": {},
   "source": [
    "### Check data in Elasticsearch\n",
    "We'll be able to check the elasticsearch through the service or the pods in our cluster."
   ]
  },
  {
   "cell_type": "code",
   "execution_count": 23,
   "metadata": {},
   "outputs": [],
   "source": [
    "from elasticsearch import Elasticsearch\n",
    "es = Elasticsearch(['http://localhost:9200'])"
   ]
  },
  {
   "cell_type": "markdown",
   "metadata": {},
   "source": [
    "See the indices that have been created"
   ]
  },
  {
   "cell_type": "code",
   "execution_count": 24,
   "metadata": {},
   "outputs": [
    {
     "data": {
      "text/plain": [
       "{'inference-log-seldon-seldon-multiclass-model-default': {'aliases': {}}}"
      ]
     },
     "execution_count": 24,
     "metadata": {},
     "output_type": "execute_result"
    }
   ],
   "source": [
    "es.indices.get_alias(\"*\")"
   ]
  },
  {
   "cell_type": "markdown",
   "metadata": {},
   "source": [
    "Look at the data that is stored in the elasticsearch index"
   ]
  },
  {
   "cell_type": "code",
   "execution_count": 25,
   "metadata": {},
   "outputs": [
    {
     "name": "stdout",
     "output_type": "stream",
     "text": [
      "Logged Request:\n",
      "{'payload': {'data': {'ndarray': [[1, 2, 3, 4]]}, 'meta': {'puid': 'hello'}}, 'dataType': 'tabular', 'elements': {}, 'instance': [1.0, 2.0, 3.0, 4.0], 'ce-time': '2020-11-02T13:06:44.024402323Z', 'ce-source': 'http::8000'}\n",
      "\n",
      "Logged Response:\n",
      "{'ce-source': 'http::8000', 'instance': [0.0006985194531162841, 0.003668039039435755, 0.9956334415074478], 'names': ['t:0', 't:1', 't:2'], 'payload': {'data': {'names': ['t:0', 't:1', 't:2'], 'ndarray': [[0.0006985194531162841, 0.003668039039435755, 0.9956334415074478]]}, 'meta': {'puid': 'hello'}}, 'dataType': 'tabular', 'elements': {'t:1': [0.003668039039435755], 't:0': [0.0006985194531162841], 't:2': [0.9956334415074478]}, 'ce-time': '2020-11-02T13:06:44.042412223Z'}\n"
     ]
    }
   ],
   "source": [
    "res = es.search(index=\"inference-log-seldon-seldon-multiclass-model-default\", body={\"query\": {\"match_all\": {}}})\n",
    "print(\"Logged Request:\")\n",
    "print(res[\"hits\"][\"hits\"][0][\"_source\"][\"request\"])\n",
    "print(\"\\nLogged Response:\")\n",
    "print(res[\"hits\"][\"hits\"][0][\"_source\"][\"response\"])"
   ]
  },
  {
   "cell_type": "markdown",
   "metadata": {},
   "source": [
    "### Send feedback\n",
    "\n",
    "We can now send the correction, or the truth value of the prediction.\n",
    "\n",
    "For this we'll need to send the UUID of the feedback request to ensure it's added to the correct index."
   ]
  },
  {
   "cell_type": "code",
   "execution_count": 27,
   "metadata": {},
   "outputs": [
    {
     "name": "stdout",
     "output_type": "stream",
     "text": [
      "7f9e69df-6601-4947-b30b-e05a12f5726b\n"
     ]
    }
   ],
   "source": [
    "puid_seldon_1 = pred_resp_1.headers.get(\"seldon-puid\")\n",
    "\n",
    "print(puid_seldon_1)"
   ]
  },
  {
   "cell_type": "markdown",
   "metadata": {},
   "source": [
    "We can also be able to add extra metadata, such as the user providing the feedback, date, time, etc."
   ]
  },
  {
   "cell_type": "code",
   "execution_count": 28,
   "metadata": {},
   "outputs": [],
   "source": [
    "feedback_tags_1 = {\n",
    "    \"user\": \"Seldon Admin\",\n",
    "    \"date\": \"11/07/2020\"\n",
    "}"
   ]
  },
  {
   "cell_type": "markdown",
   "metadata": {},
   "source": [
    "And finally we can put together the feedback request."
   ]
  },
  {
   "cell_type": "code",
   "execution_count": 96,
   "metadata": {},
   "outputs": [],
   "source": [
    "feedback_req_1 = {\n",
    "    \"reward\": 0,\n",
    "    \"truth\": {\n",
    "        'data': {\n",
    "            'names': ['t:0', 't:1', 't:2'], \n",
    "            'ndarray': [[0, 0, 1]]\n",
    "        },\n",
    "        \"meta\": {\n",
    "            \"tags\": feedback_tags_1\n",
    "        }\n",
    "    }\n",
    "}"
   ]
  },
  {
   "cell_type": "markdown",
   "metadata": {},
   "source": [
    "And send the feedback request"
   ]
  },
  {
   "cell_type": "code",
   "execution_count": 30,
   "metadata": {},
   "outputs": [
    {
     "name": "stdout",
     "output_type": "stream",
     "text": [
      "<Response [200]>\n"
     ]
    }
   ],
   "source": [
    "feedback_resp_1 = requests.post(f\"{url}/feedback\", json=feedback_req_1, headers={\"seldon-puid\": puid_seldon_1})\n",
    "print(feedback_resp_1)"
   ]
  },
  {
   "cell_type": "markdown",
   "metadata": {},
   "source": [
    "Check that feedback has been received and stored in the Elasticsearch index"
   ]
  },
  {
   "cell_type": "code",
   "execution_count": 31,
   "metadata": {},
   "outputs": [
    {
     "name": "stdout",
     "output_type": "stream",
     "text": [
      "{'reward': 0, 'ce-source': 'http::8000', 'truth': {'data': {'names': ['t:0', 't:1', 't:2'], 'ndarray': [[0, 0, 1]]}, 'meta': {'tags': {'date': '11/07/2020', 'user': 'Seldon Admin'}}}, 'ce-time': '2020-11-02T18:26:22.03643351Z'}\n"
     ]
    }
   ],
   "source": [
    "res = es.search(index=\"inference-log-seldon-seldon-multiclass-model-default\", body={\"query\": {\"match_all\": {}}})\n",
    "\n",
    "print(res[\"hits\"][\"hits\"][-1][\"_source\"][\"feedback\"])"
   ]
  },
  {
   "cell_type": "markdown",
   "metadata": {},
   "source": [
    "### Deploying Metrics Server\n",
    "\n",
    "Now we'll be able to see how the metrics server makes use of this infrastructure patterns to provide real time performance metrics."
   ]
  },
  {
   "cell_type": "code",
   "execution_count": 68,
   "metadata": {},
   "outputs": [
    {
     "name": "stdout",
     "output_type": "stream",
     "text": [
      "Overwriting config/multiclass-deployment.yaml\n"
     ]
    }
   ],
   "source": [
    "%%writefile config/multiclass-deployment.yaml\n",
    "apiVersion: apps/v1\n",
    "kind: Deployment\n",
    "metadata:\n",
    "  name: seldon-multiclass-model-metrics\n",
    "  labels:\n",
    "    app: seldon-multiclass-model-metrics\n",
    "spec:\n",
    "  replicas: 1\n",
    "  selector:\n",
    "    matchLabels:\n",
    "      app: seldon-multiclass-model-metrics\n",
    "  template:\n",
    "    metadata:\n",
    "      annotations:\n",
    "        prometheus.io/path: /v1/metrics\n",
    "        prometheus.io/scrape: \"true\"\n",
    "      labels:\n",
    "        app: seldon-multiclass-model-metrics\n",
    "    spec:\n",
    "      securityContext:\n",
    "          runAsUser: 8888\n",
    "      containers:\n",
    "      - name: user-container\n",
    "        image: seldonio/alibi-detect-server:1.5.0-dev\n",
    "        imagePullPolicy: IfNotPresent\n",
    "        args:\n",
    "        - --model_name\n",
    "        - multiclassserver\n",
    "        - --http_port\n",
    "        - '8080'\n",
    "        - --protocol\n",
    "        - seldonfeedback.http\n",
    "        - --storage_uri\n",
    "        - \"adserver.cm_models.multiclass_one_hot.MulticlassOneHot\"\n",
    "        - --reply_url\n",
    "        - http://message-dumper.default        \n",
    "        - --event_type\n",
    "        - io.seldon.serving.feedback.metrics\n",
    "        - --event_source\n",
    "        - io.seldon.serving.feedback\n",
    "        - --elasticsearch_uri\n",
    "        - http://elasticsearch-master.seldon-logs:9200\n",
    "        - MetricsServer\n",
    "        env:\n",
    "        - name: \"SELDON_DEPLOYMENT_ID\"\n",
    "          value: \"multiclass-model\"\n",
    "        - name: \"PREDICTIVE_UNIT_ID\"\n",
    "          value: \"classifier\"\n",
    "        - name: \"PREDICTIVE_UNIT_IMAGE\"\n",
    "          value: \"alibi-detect-server:1.5.0-dev\"\n",
    "        - name: \"PREDICTOR_ID\"\n",
    "          value: \"default\"\n",
    "        ports:\n",
    "        - containerPort: 8080\n",
    "          name: metrics\n",
    "          protocol: TCP\n",
    "---\n",
    "apiVersion: v1\n",
    "kind: Service\n",
    "metadata:\n",
    "  name: seldon-multiclass-model-metrics\n",
    "  labels:\n",
    "    app: seldon-multiclass-model-metrics\n",
    "spec:\n",
    "  selector:\n",
    "    app: seldon-multiclass-model-metrics\n",
    "  ports:\n",
    "    - protocol: TCP\n",
    "      port: 80\n",
    "      targetPort: 8080"
   ]
  },
  {
   "cell_type": "code",
   "execution_count": 69,
   "metadata": {},
   "outputs": [
    {
     "name": "stdout",
     "output_type": "stream",
     "text": [
      "deployment.apps/seldon-multiclass-model-metrics configured\n",
      "service/seldon-multiclass-model-metrics unchanged\n"
     ]
    }
   ],
   "source": [
    "!kubectl apply -n seldon -f config/multiclass-deployment.yaml"
   ]
  },
  {
   "cell_type": "code",
   "execution_count": 15,
   "metadata": {},
   "outputs": [
    {
     "name": "stdout",
     "output_type": "stream",
     "text": [
      "deployment \"seldon-multiclass-model-metrics\" successfully rolled out\r\n"
     ]
    }
   ],
   "source": [
    "!kubectl rollout status deploy/seldon-multiclass-model-metrics"
   ]
  },
  {
   "cell_type": "markdown",
   "metadata": {},
   "source": [
    "### Trigger for metrics server\n",
    "\n",
    "The trigger will be created in the seldon-logs namespace as that is where the initial trigger will be sent to."
   ]
  },
  {
   "cell_type": "code",
   "execution_count": 52,
   "metadata": {},
   "outputs": [
    {
     "name": "stdout",
     "output_type": "stream",
     "text": [
      "trigger.eventing.knative.dev/multiclass-model-metrics-trigger created\n"
     ]
    }
   ],
   "source": [
    "%%bash\n",
    "\n",
    "kubectl apply -f - << END\n",
    "apiVersion: eventing.knative.dev/v1alpha1\n",
    "kind: Trigger\n",
    "metadata:\n",
    "  name: multiclass-model-metrics-trigger\n",
    "  namespace: seldon-logs\n",
    "spec:\n",
    "  filter:\n",
    "    sourceAndType:\n",
    "      type: io.seldon.serving.feedback\n",
    "  subscriber:\n",
    "    uri: http://seldon-multiclass-model-metrics.seldon:80\n",
    "END"
   ]
  },
  {
   "cell_type": "code",
   "execution_count": null,
   "metadata": {},
   "outputs": [],
   "source": [
    "import time\n",
    "time.sleep(20)"
   ]
  },
  {
   "cell_type": "markdown",
   "metadata": {},
   "source": [
    "### (Alternative) create kservice\n",
    "\n",
    "If you want to create a kservice, and you've installed knative eventing and knative serving, you can use the instructions below.\n",
    "\n",
    "The value of the file `config/multiclass-service.yaml` would be:\n",
    "```\n",
    "apiVersion: serving.knative.dev/v1alpha1\n",
    "kind: Service\n",
    "metadata:\n",
    "  name: seldon-multiclass-model-metrics\n",
    "spec:\n",
    "  template:\n",
    "    metadata:\n",
    "      annotations:\n",
    "        prometheus.io/path: /v1/metrics\n",
    "        prometheus.io/scrape: \"true\"\n",
    "        autoscaling.knative.dev/minScale: \"1\"\n",
    "    spec:\n",
    "      containers:\n",
    "      - image: \"seldonio/alibi-detect-server:1.5.0-dev\"\n",
    "        args:\n",
    "        - --model_name\n",
    "        - multiclassserver\n",
    "        - --http_port\n",
    "        - '8080'\n",
    "        - --protocol\n",
    "        - seldonfeedback.http\n",
    "        - --storage_uri\n",
    "        - \"adserver.cm_models.multiclass_one_hot.MulticlassOneHot\"\n",
    "        - --reply_url\n",
    "        - http://message-dumper.default        \n",
    "        - --event_type\n",
    "        - io.seldon.serving.feedback.metrics\n",
    "        - --event_source\n",
    "        - io.seldon.serving.feedback\n",
    "        - MetricsServer\n",
    "        env:\n",
    "        - name: \"SELDON_DEPLOYMENT_ID\"\n",
    "          value: \"multiclass-model\"\n",
    "        - name: \"PREDICTIVE_UNIT_ID\"\n",
    "          value: \"classifier\"\n",
    "        - name: \"PREDICTIVE_UNIT_IMAGE\"\n",
    "          value: \"alibi-detect-server:1.5.0-dev\"\n",
    "        - name: \"PREDICTOR_ID\"\n",
    "          value: \"default\"\n",
    "        ports:\n",
    "        - containerPort: 8080\n",
    "          name: metrics\n",
    "          protocol: TCP\n",
    "        securityContext:\n",
    "            runAsUser: 8888\n",
    "```\n",
    "\n",
    "You can run the kservice with the command below:\n",
    "```\n",
    "kubectl apply -f config/multiclass-service.yaml\n",
    "```\n",
    "And then check with:\n",
    "\n",
    "```\n",
    "kubectl get kservice\n",
    "```\n",
    "\n",
    "You'll then have to create the trigger, first by creating the broker:\n",
    "\n",
    "```\n",
    "kubectl label namespace default knative-eventing-injection=enabled --overwrite=true\n",
    "```\n",
    "\n",
    "And then the trigger contents:\n",
    "\n",
    "```\n",
    "apiVersion: eventing.knative.dev/v1alpha1\n",
    "kind: Trigger\n",
    "metadata:\n",
    "  name: multiclass-model-metrics-trigger\n",
    "  namespace: default\n",
    "spec:\n",
    "  filter:\n",
    "    sourceAndType:\n",
    "      type: io.seldon.serving.feedback\n",
    "  subscriber:\n",
    "    ref:\n",
    "      apiVersion: v1\n",
    "      kind: Service\n",
    "      name: seldon-multiclass-model-metrics\n",
    "```\n",
    "\n",
    "And you can run it with:\n",
    "```\n",
    "kubectl apply -f config/trigger.yaml\n",
    "```"
   ]
  },
  {
   "cell_type": "markdown",
   "metadata": {},
   "source": [
    "### Confirm empty metrics"
   ]
  },
  {
   "cell_type": "code",
   "execution_count": 71,
   "metadata": {},
   "outputs": [
    {
     "name": "stdout",
     "output_type": "stream",
     "text": [
      "> GET /v1/metrics HTTP/1.1\r",
      "\r",
      "\r\n",
      "> User-Agent: curl/7.35.0\r",
      "\r",
      "\r\n",
      "> Host: seldon-multiclass-model-metrics.seldon.svc.cluster.local\r",
      "\r",
      "\r\n",
      "> Accept: */*\r",
      "\r",
      "\r\n",
      "> \r",
      "\r",
      "\r\n",
      "< HTTP/1.1 200 OK\r",
      "\r",
      "\r\n",
      "< Server: TornadoServer/6.0.4\r",
      "\r",
      "\r\n",
      "< Content-Type: text/plain; version=0.0.4; charset=utf-8\r",
      "\r",
      "\r\n",
      "< Date: Tue, 03 Nov 2020 02:16:56 GMT\r",
      "\r",
      "\r\n",
      "< Etag: \"6c89cfb2f6b1ccb59ee9882ebcece5dbd504a148\"\r",
      "\r",
      "\r\n",
      "< Content-Length: 520\r",
      "\r",
      "\r\n",
      "< \r",
      "\r",
      "\r\n",
      "# HELP seldon_metric_true_positive_total \r",
      "\r\n",
      "# TYPE seldon_metric_true_positive_total counter\r",
      "\r\n",
      "seldon_metric_true_positive_total{class=\"CLASS_2\",deployment_name=\"multiclass-model\",image_name=\"alibi-detect-server\",image_version=\"1.5.0-dev\",method=\"io.seldon.serving.feedback.metrics\",model_image=\"alibi-detect-server\",model_name=\"classifier\",model_version=\"1.5.0-dev\",predictor_name=\"default\",predictor_version=\"NOT_IMPLEMENTED\",seldon_deployment_name=\"multiclass-model\",worker_id=\"9b8f9146-1d7a-11eb-a09a-725716f0e186\"} 1.0\r",
      "\r\n"
     ]
    }
   ],
   "source": [
    "!kubectl run --quiet=true -it --rm curl --image=radial/busyboxplus:curl --restart=Never -- \\\n",
    "    curl -v -X GET \"http://seldon-multiclass-model-metrics.seldon.svc.cluster.local:80/v1/metrics\" "
   ]
  },
  {
   "cell_type": "markdown",
   "metadata": {},
   "source": [
    "### Send Feedback"
   ]
  },
  {
   "cell_type": "code",
   "execution_count": 99,
   "metadata": {},
   "outputs": [
    {
     "name": "stdout",
     "output_type": "stream",
     "text": [
      "<Response [200]>\n"
     ]
    }
   ],
   "source": [
    "feedback_resp_1 = requests.post(f\"{url}/feedback\", json=feedback_req_1, headers={\"seldon-puid\": puid_seldon_1})\n",
    "print(feedback_resp_1)"
   ]
  },
  {
   "cell_type": "markdown",
   "metadata": {},
   "source": [
    "### Confirm metrics available"
   ]
  },
  {
   "cell_type": "code",
   "execution_count": 95,
   "metadata": {},
   "outputs": [
    {
     "name": "stdout",
     "output_type": "stream",
     "text": [
      "> GET /v1/metrics HTTP/1.1\r",
      "\r",
      "\r\n",
      "> User-Agent: curl/7.35.0\r",
      "\r",
      "\r\n",
      "> Host: seldon-multiclass-model-metrics.seldon\r",
      "\r",
      "\r\n",
      "> Accept: */*\r",
      "\r",
      "\r\n",
      "> \r",
      "\r",
      "\r\n",
      "< HTTP/1.1 200 OK\r",
      "\r",
      "\r\n",
      "< Server: TornadoServer/6.0.4\r",
      "\r",
      "\r\n",
      "< Content-Type: text/plain; version=0.0.4; charset=utf-8\r",
      "\r",
      "\r\n",
      "< Date: Tue, 03 Nov 2020 12:12:59 GMT\r",
      "\r",
      "\r\n",
      "< Etag: \"1406db362863a19cc8973b736ee25c1c00894223\"\r",
      "\r",
      "\r\n",
      "< Content-Length: 3138\r",
      "\r",
      "\r\n",
      "< \r",
      "\r",
      "\r\n",
      "# HELP seldon_metric_false_negative_total \r",
      "\r\n",
      "# TYPE seldon_metric_false_negative_total counter\r",
      "\r\n",
      "seldon_metric_false_negative_total{class=\"CLASS_1\",deployment_name=\"multiclass-model\",image_name=\"alibi-detect-server\",image_version=\"1.5.0-dev\",method=\"io.seldon.serving.feedback.metrics\",model_image=\"alibi-detect-server\",model_name=\"classifier\",model_version=\"1.5.0-dev\",predictor_name=\"default\",predictor_version=\"NOT_IMPLEMENTED\",seldon_deployment_name=\"multiclass-model\",worker_id=\"e58ce2f0-1dcd-11eb-8d78-6ecd39673484\"} 1.0\r",
      "\r\n",
      "# HELP seldon_metric_false_positive_total \r",
      "\r\n",
      "# TYPE seldon_metric_false_positive_total counter\r",
      "\r\n",
      "seldon_metric_false_positive_total{class=\"CLASS_2\",deployment_name=\"multiclass-model\",image_name=\"alibi-detect-server\",image_version=\"1.5.0-dev\",method=\"io.seldon.serving.feedback.metrics\",model_image=\"alibi-detect-server\",model_name=\"classifier\",model_version=\"1.5.0-dev\",predictor_name=\"default\",predictor_version=\"NOT_IMPLEMENTED\",seldon_deployment_name=\"multiclass-model\",worker_id=\"e58ce2f0-1dcd-11eb-8d78-6ecd39673484\"} 1.0\r",
      "\r\n",
      "# HELP seldon_metric_false_negative_total \r",
      "\r\n",
      "# TYPE seldon_metric_false_negative_total counter\r",
      "\r\n",
      "seldon_metric_false_negative_total{class=\"CLASS_1\",deployment_name=\"multiclass-model\",image_name=\"alibi-detect-server\",image_version=\"1.5.0-dev\",method=\"io.seldon.serving.feedback.metrics\",model_image=\"alibi-detect-server\",model_name=\"classifier\",model_version=\"1.5.0-dev\",predictor_name=\"default\",predictor_version=\"NOT_IMPLEMENTED\",seldon_deployment_name=\"multiclass-model\",worker_id=\"e5c09de8-1dcd-11eb-8d78-6ecd39673484\"} 1.0\r",
      "\r\n",
      "# HELP seldon_metric_false_positive_total \r",
      "\r\n",
      "# TYPE seldon_metric_false_positive_total counter\r",
      "\r\n",
      "seldon_metric_false_positive_total{class=\"CLASS_2\",deployment_name=\"multiclass-model\",image_name=\"alibi-detect-server\",image_version=\"1.5.0-dev\",method=\"io.seldon.serving.feedback.metrics\",model_image=\"alibi-detect-server\",model_name=\"classifier\",model_version=\"1.5.0-dev\",predictor_name=\"default\",predictor_version=\"NOT_IMPLEMENTED\",seldon_deployment_name=\"multiclass-model\",worker_id=\"e5c09de8-1dcd-11eb-8d78-6ecd39673484\"} 1.0\r",
      "\r\n",
      "# HELP seldon_metric_false_negative_total \r",
      "\r\n",
      "# TYPE seldon_metric_false_negative_total counter\r",
      "\r\n",
      "seldon_metric_false_negative_total{class=\"CLASS_1\",deployment_name=\"multiclass-model\",image_name=\"alibi-detect-server\",image_version=\"1.5.0-dev\",method=\"io.seldon.serving.feedback.metrics\",model_image=\"alibi-detect-server\",model_name=\"classifier\",model_version=\"1.5.0-dev\",predictor_name=\"default\",predictor_version=\"NOT_IMPLEMENTED\",seldon_deployment_name=\"multiclass-model\",worker_id=\"e6030020-1dcd-11eb-8d78-6ecd39673484\"} 1.0\r",
      "\r\n",
      "# HELP seldon_metric_false_positive_total \r",
      "\r\n",
      "# TYPE seldon_metric_false_positive_total counter\r",
      "\r\n",
      "seldon_metric_false_positive_total{class=\"CLASS_2\",deployment_name=\"multiclass-model\",image_name=\"alibi-detect-server\",image_version=\"1.5.0-dev\",method=\"io.seldon.serving.feedback.metrics\",model_image=\"alibi-detect-server\",model_name=\"classifier\",model_version=\"1.5.0-dev\",predictor_name=\"default\",predictor_version=\"NOT_IMPLEMENTED\",seldon_deployment_name=\"multiclass-model\",worker_id=\"e6030020-1dcd-11eb-8d78-6ecd39673484\"} 1.0\r",
      "\r\n"
     ]
    }
   ],
   "source": [
    "!kubectl run --quiet=true -it --rm curl --image=radial/busyboxplus:curl --restart=Never -- \\\n",
    "    curl -v -X GET \"http://seldon-multiclass-model-metrics.seldon:80/v1/metrics\" "
   ]
  },
  {
   "cell_type": "markdown",
   "metadata": {},
   "source": [
    "## Forward Grafana Dashboard"
   ]
  },
  {
   "cell_type": "markdown",
   "metadata": {},
   "source": [
    "Now we should be able to access the grafana dashboard for the model. You can access it by port-forwarding the grafana dashboard with:\n",
    "```\n",
    "kubectl port-forward -n seldon-system svc/seldon-core-analytics-grafana 7000:80\n",
    "```\n",
    "\n",
    "And you can load the following dashboard via the import tool:"
   ]
  },
  {
   "cell_type": "code",
   "execution_count": null,
   "metadata": {},
   "outputs": [],
   "source": [
    "{\"annotations\": {\"list\": [{\"builtIn\": 1,\"datasource\": \"-- Grafana --\",\"enable\": true,\"hide\": true,\"iconColor\": \"rgba(0, 211, 255, 1)\",\"name\": \"Annotations & Alerts\",\"type\": \"dashboard\"}]},\"editable\": true,\"gnetId\": null,\"graphTooltip\": 0,\"id\": 4,\"links\": [],\"panels\": [{\"datasource\": \"prometheus\",\"description\": \"\",\"fieldConfig\": {\"defaults\": {\"custom\": {},\"mappings\": [],\"thresholds\": {\"mode\": \"absolute\",\"steps\": [{\"color\": \"green\",\"value\": null},{\"color\": \"red\",\"value\": 80}]}},\"overrides\": []},\"gridPos\": {\"h\": 5,\"w\": 8,\"x\": 0,\"y\": 0},\"id\": 5,\"options\": {\"colorMode\": \"background\",\"graphMode\": \"area\",\"justifyMode\": \"auto\",\"orientation\": \"auto\",\"reduceOptions\": {\"calcs\": [\"mean\"],\"fields\": \"\",\"values\": false}},\"pluginVersion\": \"7.0.3\",\"targets\": [{\"expr\": \"((sum(seldon_metric_true_positive_total) by (seldon_deployment_name) + sum(seldon_metric_true_negative_total) by (seldon_deployment_name))  /  (sum(seldon_metric_true_positive_total) by (seldon_deployment_name) + sum(seldon_metric_false_positive_total) by (seldon_deployment_name) + sum(seldon_metric_false_negative_total) by (seldon_deployment_name))) \",\"format\": \"time_series\",\"instant\": false,\"interval\": \"\",\"legendFormat\": \"{{class}} - {{seldon_app}}\",\"refId\": \"A\"}],\"timeFrom\": null,\"timeShift\": null,\"title\": \"ACCURACY\",\"transparent\": true,\"type\": \"stat\"},{\"datasource\": \"prometheus\",\"description\": \"\",\"fieldConfig\": {\"defaults\": {\"custom\": {},\"mappings\": [],\"thresholds\": {\"mode\": \"absolute\",\"steps\": [{\"color\": \"green\",\"value\": null},{\"color\": \"red\",\"value\": 80}]}},\"overrides\": []},\"gridPos\": {\"h\": 5,\"w\": 8,\"x\": 8,\"y\": 0},\"id\": 6,\"options\": {\"colorMode\": \"value\",\"graphMode\": \"area\",\"justifyMode\": \"auto\",\"orientation\": \"auto\",\"reduceOptions\": {\"calcs\": [\"mean\"],\"fields\": \"\",\"values\": false}},\"pluginVersion\": \"7.0.3\",\"targets\": [{\"expr\": \"(sum(seldon_metric_true_positive_total) by (seldon_deployment_name)  /  (sum(seldon_metric_true_positive_total) by (seldon_deployment_name) + sum(seldon_metric_false_positive_total) by (seldon_deployment_name))) \",\"instant\": false,\"interval\": \"\",\"legendFormat\": \"{{class}} - {{seldon_deployment_name}}\",\"refId\": \"A\"}],\"timeFrom\": null,\"timeShift\": null,\"title\": \"PRECISION\",\"transparent\": true,\"type\": \"stat\"},{\"datasource\": \"prometheus\",\"description\": \"\",\"fieldConfig\": {\"defaults\": {\"custom\": {},\"mappings\": [],\"thresholds\": {\"mode\": \"absolute\",\"steps\": [{\"color\": \"green\",\"value\": null},{\"color\": \"red\",\"value\": 80}]}},\"overrides\": []},\"gridPos\": {\"h\": 5,\"w\": 8,\"x\": 16,\"y\": 0},\"id\": 7,\"options\": {\"colorMode\": \"value\",\"graphMode\": \"area\",\"justifyMode\": \"auto\",\"orientation\": \"auto\",\"reduceOptions\": {\"calcs\": [\"mean\"],\"fields\": \"\",\"values\": false}},\"pluginVersion\": \"7.0.3\",\"targets\": [{\"expr\": \"(sum(seldon_metric_true_positive_total) by (seldon_deployment_name)  /  (sum(seldon_metric_true_positive_total) by (seldon_deployment_name) + sum(seldon_metric_false_negative_total) by (seldon_deployment_name))) \",\"instant\": false,\"interval\": \"\",\"legendFormat\": \"{{class}} - {{seldon_app}}\",\"refId\": \"A\"}],\"timeFrom\": null,\"timeShift\": null,\"title\": \"Recall\",\"transparent\": true,\"type\": \"stat\"},{\"aliasColors\": {},\"bars\": false,\"dashLength\": 10,\"dashes\": false,\"datasource\": \"prometheus\",\"description\": \"\",\"fieldConfig\": {\"defaults\": {\"custom\": {}},\"overrides\": []},\"fill\": 1,\"fillGradient\": 0,\"gridPos\": {\"h\": 6,\"w\": 24,\"x\": 0,\"y\": 5},\"hiddenSeries\": false,\"id\": 3,\"legend\": {\"avg\": false,\"current\": false,\"max\": false,\"min\": false,\"show\": true,\"total\": false,\"values\": false},\"lines\": true,\"linewidth\": 1,\"nullPointMode\": \"null\",\"options\": {\"dataLinks\": []},\"percentage\": false,\"pointradius\": 2,\"points\": true,\"renderer\": \"flot\",\"seriesOverrides\": [],\"spaceLength\": 10,\"stack\": false,\"steppedLine\": false,\"targets\": [{\"expr\": \"((sum(seldon_metric_true_positive_total) by (class, seldon_deployment_name) + sum(seldon_metric_true_negative_total) by (class, seldon_deployment_name))  /  (sum(seldon_metric_true_positive_total) by (class, seldon_deployment_name) + sum(seldon_metric_false_positive_total) by (class, seldon_deployment_name) + sum(seldon_metric_false_negative_total) by (class, seldon_deployment_name))) \",\"interval\": \"\",\"legendFormat\": \"{{class}} - {{seldon_deployment_name}}\",\"refId\": \"A\"}],\"thresholds\": [],\"timeFrom\": null,\"timeRegions\": [],\"timeShift\": null,\"title\": \"Real Time Model ACCURACY by Class\",\"tooltip\": {\"shared\": true,\"sort\": 0,\"value_type\": \"individual\"},\"transparent\": true,\"type\": \"graph\",\"xaxis\": {\"buckets\": null,\"mode\": \"time\",\"name\": null,\"show\": true,\"values\": []},\"yaxes\": [{\"decimals\": null,\"format\": \"short\",\"label\": null,\"logBase\": 1,\"max\": \"1\",\"min\": \"0\",\"show\": true},{\"format\": \"short\",\"label\": null,\"logBase\": 1,\"max\": null,\"min\": null,\"show\": true}],\"yaxis\": {\"align\": false,\"alignLevel\": null}},{\"aliasColors\": {},\"bars\": false,\"dashLength\": 10,\"dashes\": false,\"datasource\": \"prometheus\",\"description\": \"\",\"fieldConfig\": {\"defaults\": {\"custom\": {}},\"overrides\": []},\"fill\": 1,\"fillGradient\": 0,\"gridPos\": {\"h\": 7,\"w\": 12,\"x\": 0,\"y\": 11},\"hiddenSeries\": false,\"id\": 2,\"legend\": {\"avg\": false,\"current\": false,\"max\": false,\"min\": false,\"show\": true,\"total\": false,\"values\": false},\"lines\": true,\"linewidth\": 1,\"nullPointMode\": \"null\",\"options\": {\"dataLinks\": []},\"percentage\": false,\"pointradius\": 2,\"points\": true,\"renderer\": \"flot\",\"seriesOverrides\": [],\"spaceLength\": 10,\"stack\": false,\"steppedLine\": false,\"targets\": [{\"expr\": \"((sum(seldon_metric_true_positive_total) by (class, seldon_deployment_name))  /  (sum(seldon_metric_true_positive_total) by (class, seldon_deployment_name) + sum(seldon_metric_false_positive_total) by (class, seldon_deployment_name))) \",\"interval\": \"\",\"legendFormat\": \"{{class}} - {{seldon_deployment_name}}\",\"refId\": \"A\"}],\"thresholds\": [],\"timeFrom\": null,\"timeRegions\": [],\"timeShift\": null,\"title\": \"Real Time Model PRECISION by Class\",\"tooltip\": {\"shared\": true,\"sort\": 0,\"value_type\": \"individual\"},\"type\": \"graph\",\"xaxis\": {\"buckets\": null,\"mode\": \"time\",\"name\": null,\"show\": true,\"values\": []},\"yaxes\": [{\"decimals\": null,\"format\": \"short\",\"label\": null,\"logBase\": 1,\"max\": \"1\",\"min\": \"0\",\"show\": true},{\"format\": \"short\",\"label\": null,\"logBase\": 1,\"max\": null,\"min\": null,\"show\": true}],\"yaxis\": {\"align\": false,\"alignLevel\": null}},{\"aliasColors\": {},\"bars\": false,\"dashLength\": 10,\"dashes\": false,\"datasource\": \"prometheus\",\"description\": \"\",\"fieldConfig\": {\"defaults\": {\"custom\": {}},\"overrides\": []},\"fill\": 1,\"fillGradient\": 0,\"gridPos\": {\"h\": 7,\"w\": 12,\"x\": 12,\"y\": 11},\"hiddenSeries\": false,\"id\": 4,\"legend\": {\"avg\": false,\"current\": false,\"max\": false,\"min\": false,\"show\": true,\"total\": false,\"values\": false},\"lines\": true,\"linewidth\": 1,\"nullPointMode\": \"null\",\"options\": {\"dataLinks\": []},\"percentage\": false,\"pointradius\": 2,\"points\": true,\"renderer\": \"flot\",\"seriesOverrides\": [],\"spaceLength\": 10,\"stack\": false,\"steppedLine\": false,\"targets\": [{\"expr\": \"((sum(seldon_metric_true_negative_total) by (class, seldon_deployment_name))  /  (sum(seldon_metric_true_positive_total) by (class, seldon_deployment_name) + sum(seldon_metric_false_negative_total) by (class, seldon_deployment_name))) \",\"interval\": \"\",\"legendFormat\": \"{{class}} - {{seldon_deployment_name}}\",\"refId\": \"A\"}],\"thresholds\": [],\"timeFrom\": null,\"timeRegions\": [],\"timeShift\": null,\"title\": \"Real Time Model RECALL by Class\",\"tooltip\": {\"shared\": true,\"sort\": 0,\"value_type\": \"individual\"},\"type\": \"graph\",\"xaxis\": {\"buckets\": null,\"mode\": \"time\",\"name\": null,\"show\": true,\"values\": []},\"yaxes\": [{\"decimals\": null,\"format\": \"short\",\"label\": null,\"logBase\": 1,\"max\": \"1\",\"min\": \"0\",\"show\": true},{\"format\": \"short\",\"label\": null,\"logBase\": 1,\"max\": null,\"min\": null,\"show\": true}],\"yaxis\": {\"align\": false,\"alignLevel\": null}}],\"refresh\": false,\"schemaVersion\": 25,\"style\": \"dark\",\"tags\": [],\"templating\": {\"list\": []},\"time\": {\"from\": \"2020-11-03T12:06:17.311Z\",\"to\": \"2020-11-03T13:06:17.315Z\"},\"timepicker\": {\"refresh_intervals\": [\"10s\",\"30s\",\"1m\",\"5m\",\"15m\",\"30m\",\"1h\",\"2h\",\"1d\"]},\"timezone\": \"\",\"title\": \"Real Time Statistical Performance\",\"uid\": \"St9vqHnGk\",\"version\": 1}"
   ]
  },
  {
   "cell_type": "code",
   "execution_count": 106,
   "metadata": {},
   "outputs": [],
   "source": [
    "?datasets.load_iris"
   ]
  },
  {
   "cell_type": "markdown",
   "metadata": {},
   "source": [
    "### Download prediction and feedback data"
   ]
  },
  {
   "cell_type": "code",
   "execution_count": 133,
   "metadata": {},
   "outputs": [
    {
     "name": "stdout",
     "output_type": "stream",
     "text": [
      "[0. 0.]\n"
     ]
    }
   ],
   "source": [
    "from sklearn.model_selection import train_test_split\n",
    "from sklearn import datasets\n",
    "import numpy as np\n",
    "\n",
    "X_test, y_test = datasets.load_iris(return_X_y=True)\n",
    "\n",
    "# convert y to one hot\n",
    "y_test = np.eye(y_test.max() + 1)[y_test]\n",
    "print(y[:2])"
   ]
  },
  {
   "cell_type": "markdown",
   "metadata": {},
   "source": [
    "### Send Prediction Requests"
   ]
  },
  {
   "cell_type": "code",
   "execution_count": 134,
   "metadata": {},
   "outputs": [],
   "source": [
    "import time\n",
    "\n",
    "puids = []\n",
    "\n",
    "for x in X_test:\n",
    "    pred_req = {\"data\":{\"ndarray\":[x.tolist()]}}\n",
    "    pred_resp = requests.post(f\"{url}/predictions\", json=pred_req)\n",
    "    puid_seldon = pred_resp.headers.get(\"seldon-puid\")\n",
    "    puids.append(puid_seldon)\n",
    "    time.sleep(0.1)"
   ]
  },
  {
   "cell_type": "code",
   "execution_count": 135,
   "metadata": {},
   "outputs": [
    {
     "data": {
      "text/plain": [
       "['fe460353-9411-46bc-addb-7d84a6645ca9',\n",
       " '4b47edd9-b2b2-4594-a27a-5e9c50c1591f']"
      ]
     },
     "execution_count": 135,
     "metadata": {},
     "output_type": "execute_result"
    }
   ],
   "source": [
    "puids[:2]"
   ]
  },
  {
   "cell_type": "code",
   "execution_count": 136,
   "metadata": {},
   "outputs": [],
   "source": [
    "for puid, y in zip(puids, y_test):\n",
    "    data = {\n",
    "        \"truth\": {\n",
    "            'data': {\n",
    "                'names': ['t:0', 't:1', 't:2'], \n",
    "                'ndarray': [y.tolist()]\n",
    "            }\n",
    "        }\n",
    "    }\n",
    "    requests.post(f\"{url}/feedback\", json=data, headers={\"seldon-puid\": puid})\n",
    "    time.sleep(0.5)"
   ]
  },
  {
   "cell_type": "markdown",
   "metadata": {},
   "source": [
    "### Send randomized metrics to visualise degrade performance"
   ]
  },
  {
   "cell_type": "code",
   "execution_count": 138,
   "metadata": {},
   "outputs": [],
   "source": [
    "np.random.shuffle(y_test)\n",
    "for puid, y in zip(puids, y_test):\n",
    "    data = {\n",
    "        \"truth\": {\n",
    "            'data': {\n",
    "                'names': ['t:0', 't:1', 't:2'], \n",
    "                'ndarray': [y.tolist()]\n",
    "            }\n",
    "        }\n",
    "    }\n",
    "    requests.post(f\"{url}/feedback\", json=data, headers={\"seldon-puid\": puid})\n",
    "    time.sleep(0.5)"
   ]
  },
  {
   "cell_type": "markdown",
   "metadata": {},
   "source": [
    "### VIsualise metrics\n",
    "\n",
    "Now you should be able to see real time performance in the dashboard for \"Accuracy\", \"Precision\" and \"Recall\".\n",
    "\n",
    "Furthermore you should also be able to get further insights from the data that is stored in Elasticsearch."
   ]
  },
  {
   "cell_type": "code",
   "execution_count": null,
   "metadata": {},
   "outputs": [],
   "source": []
  }
 ],
 "metadata": {
  "kernelspec": {
   "display_name": "Python 3",
   "language": "python",
   "name": "python3"
  },
  "language_info": {
   "codemirror_mode": {
    "name": "ipython",
    "version": 3
   },
   "file_extension": ".py",
   "mimetype": "text/x-python",
   "name": "python",
   "nbconvert_exporter": "python",
   "pygments_lexer": "ipython3",
   "version": "3.7.4"
  }
 },
 "nbformat": 4,
 "nbformat_minor": 2
}
