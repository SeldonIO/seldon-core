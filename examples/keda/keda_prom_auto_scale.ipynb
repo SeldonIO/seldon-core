{
 "cells": [
  {
   "cell_type": "markdown",
   "metadata": {},
   "source": [
    "\n",
    "# Scale Seldon Deployments based on Prometheus Metrics.\n",
    "This notebook shows how you can scale Seldon Deployments based on Prometheus metrics via KEDA. \n",
    "\n",
    "[KEDA](https://keda.sh/) is a Kubernetes-based Event Driven Autoscaler. With KEDA, you can drive the scaling of any container in Kubernetes based on the number of events needing to be processed. \n",
    "\n",
    "With the support of KEDA in Seldon, you can scale your seldon deployments with any scalers listed [here](https://keda.sh/docs/2.0/scalers/).\n",
    "In this example we will scale the seldon deployment with Prometheus metrics as an example."
   ]
  },
  {
   "cell_type": "markdown",
   "metadata": {},
   "source": [
    "## Install Seldon Core\n",
    "\n",
    "Install Seldon Core as described in [docs](https://docs.seldon.io/projects/seldon-core/en/latest/workflow/install.html)\n",
    "\n",
    "Make sure add `--set keda.enabled=true`"
   ]
  },
  {
   "cell_type": "markdown",
   "metadata": {},
   "source": [
    "## Install Seldon Core Analytic\n",
    "\n",
    "seldon-core-analytics contains Prometheus and Grafana installation with a basic Grafana dashboard showing the default Prometheus metrics exposed by Seldon for each inference graph deployed. \n",
    "Later we will use the Prometheus service installed to provide metrics in order to scale the Seldon models.\n",
    "\n",
    "Install Seldon Core Analytics as described in [docs](https://docs.seldon.io/projects/seldon-core/en/latest/analytics/analytics.html)"
   ]
  },
  {
   "cell_type": "code",
   "execution_count": null,
   "metadata": {},
   "outputs": [],
   "source": [
    "!helm install seldon-core-analytics ../../helm-charts/seldon-core-analytics -n seldon-system --wait"
   ]
  },
  {
   "cell_type": "markdown",
   "metadata": {},
   "source": [
    "## Install KEDA"
   ]
  },
  {
   "cell_type": "code",
   "execution_count": null,
   "metadata": {
    "tags": []
   },
   "outputs": [],
   "source": [
    "!kubectl delete -f https://github.com/kedacore/keda/releases/download/v2.0.0/keda-2.0.0.yaml\n",
    "!kubectl apply -f https://github.com/kedacore/keda/releases/download/v2.0.0/keda-2.0.0.yaml"
   ]
  },
  {
   "cell_type": "code",
   "execution_count": null,
   "metadata": {
    "tags": []
   },
   "outputs": [],
   "source": [
    "!kubectl get pod -n keda"
   ]
  },
  {
   "cell_type": "markdown",
   "metadata": {},
   "source": [
    "## Create model with KEDA"
   ]
  },
  {
   "cell_type": "markdown",
   "metadata": {},
   "source": [
    "To create a model with KEDA autoscaling you just need to add a KEDA spec referring in the Deployment, e.g.:\n",
    "```yaml\n",
    "kedaSpec:\n",
    "  pollingInterval: 15                                # Optional. Default: 30 seconds\n",
    "  minReplicaCount: 1                                 # Optional. Default: 0\n",
    "  maxReplicaCount: 5                                 # Optional. Default: 100\n",
    "  triggers:\n",
    "  - type: prometheus\n",
    "    metadata:\n",
    "      # Required\n",
    "      serverAddress: http://seldon-core-analytics-prometheus-seldon.seldon-system.svc.cluster.local\n",
    "      metricName: access_frequency\n",
    "      threshold: '10'\n",
    "      query: rate(seldon_api_executor_client_requests_seconds_count{seldon_app=~\"seldon-model-example\"}[10s]\n",
    "```\n",
    "The full SeldonDeployment spec is shown below."
   ]
  },
  {
   "cell_type": "code",
   "execution_count": null,
   "metadata": {},
   "outputs": [],
   "source": [
    "VERSION = !cat ../../version.txt\n",
    "VERSION = VERSION[0]\n",
    "VERSION"
   ]
  },
  {
   "cell_type": "code",
   "execution_count": null,
   "metadata": {},
   "outputs": [],
   "source": [
    "%%writefile model_with_keda_prom.yaml\n",
    "apiVersion: machinelearning.seldon.io/v1\n",
    "kind: SeldonDeployment\n",
    "metadata:\n",
    "  name: seldon-model\n",
    "spec:\n",
    "  name: test-deployment\n",
    "  predictors:\n",
    "  - componentSpecs:\n",
    "    - spec:\n",
    "        containers:\n",
    "        - image: seldonio/mock_classifier:1.5.0-dev\n",
    "          imagePullPolicy: IfNotPresent\n",
    "          name: classifier\n",
    "          resources:\n",
    "            requests:\n",
    "              cpu: '0.5'\n",
    "      kedaSpec:\n",
    "        pollingInterval: 15                                # Optional. Default: 30 seconds\n",
    "        minReplicaCount: 1                                 # Optional. Default: 0\n",
    "        maxReplicaCount: 5                                 # Optional. Default: 100\n",
    "        triggers:\n",
    "        - type: prometheus\n",
    "          metadata:\n",
    "            # Required\n",
    "            serverAddress: http://seldon-core-analytics-prometheus-seldon.seldon-system.svc.cluster.local\n",
    "            metricName: access_frequency\n",
    "            threshold: '10'\n",
    "            query: rate(seldon_api_executor_client_requests_seconds_count{seldon_app=~\"seldon-model-example\"}[1m])\n",
    "    graph:\n",
    "      children: []\n",
    "      endpoint:\n",
    "        type: REST\n",
    "      name: classifier\n",
    "      type: MODEL\n",
    "    name: example\n"
   ]
  },
  {
   "cell_type": "code",
   "execution_count": null,
   "metadata": {
    "tags": []
   },
   "outputs": [],
   "source": [
    "!kubectl create -f model_with_keda_prom.yaml"
   ]
  },
  {
   "cell_type": "code",
   "execution_count": null,
   "metadata": {
    "tags": []
   },
   "outputs": [],
   "source": [
    "!kubectl rollout status deploy/$(kubectl get deploy -l seldon-deployment-id=seldon-model -o jsonpath='{.items[0].metadata.name}')"
   ]
  },
  {
   "cell_type": "markdown",
   "metadata": {},
   "source": [
    "## Create Load"
   ]
  },
  {
   "cell_type": "markdown",
   "metadata": {},
   "source": [
    "We label some nodes for the loadtester. We attempt the first two as for Kind the first node shown will be the master."
   ]
  },
  {
   "cell_type": "code",
   "execution_count": null,
   "metadata": {
    "tags": []
   },
   "outputs": [],
   "source": [
    "!kubectl label nodes $(kubectl get nodes -o jsonpath='{.items[0].metadata.name}') role=locust\n",
    "!kubectl label nodes $(kubectl get nodes -o jsonpath='{.items[1].metadata.name}') role=locust"
   ]
  },
  {
   "cell_type": "markdown",
   "metadata": {},
   "source": [
    "Before add loads to the model, there is only one replica"
   ]
  },
  {
   "cell_type": "code",
   "execution_count": null,
   "metadata": {
    "tags": []
   },
   "outputs": [],
   "source": [
    "!kubectl get deployment seldon-model-example-0-classifier"
   ]
  },
  {
   "cell_type": "code",
   "execution_count": null,
   "metadata": {
    "tags": []
   },
   "outputs": [],
   "source": [
    "!helm install seldon-core-loadtesting seldon-core-loadtesting --repo https://storage.googleapis.com/seldon-charts \\\n",
    "    --set locust.host=http://seldon-model-example:8000 \\\n",
    "    --set oauth.enabled=false \\\n",
    "    --set locust.hatchRate=1 \\\n",
    "    --set locust.clients=1 \\\n",
    "    --set loadtest.sendFeedback=0 \\\n",
    "    --set locust.minWait=0 \\\n",
    "    --set locust.maxWait=0 \\\n",
    "    --set replicaCount=1"
   ]
  },
  {
   "cell_type": "markdown",
   "metadata": {},
   "source": [
    "After a few mins you should see the deployment scaled to 5 replicas"
   ]
  },
  {
   "cell_type": "code",
   "execution_count": null,
   "metadata": {},
   "outputs": [],
   "source": [
    "import json\n",
    "import time\n",
    "\n",
    "\n",
    "def getNumberPods():\n",
    "    dp = !kubectl get deployment seldon-model-example-0-classifier -o json\n",
    "    dp = json.loads(\"\".join(dp))\n",
    "    return dp[\"status\"][\"replicas\"]\n",
    "\n",
    "\n",
    "scaled = False\n",
    "for i in range(60):\n",
    "    pods = getNumberPods()\n",
    "    print(pods)\n",
    "    if pods > 1:\n",
    "        scaled = True\n",
    "        break\n",
    "    time.sleep(5)\n",
    "assert scaled"
   ]
  },
  {
   "cell_type": "code",
   "execution_count": null,
   "metadata": {
    "tags": []
   },
   "outputs": [],
   "source": [
    "!kubectl get deployment/seldon-model-example-0-classifier scaledobject/seldon-model-example-0-classifier"
   ]
  },
  {
   "cell_type": "markdown",
   "metadata": {},
   "source": [
    "## Remove Load"
   ]
  },
  {
   "cell_type": "code",
   "execution_count": null,
   "metadata": {
    "tags": []
   },
   "outputs": [],
   "source": [
    "!helm delete seldon-core-loadtesting"
   ]
  },
  {
   "cell_type": "markdown",
   "metadata": {},
   "source": [
    "After 5-10 mins you should see the deployment replica number decrease to 1"
   ]
  },
  {
   "cell_type": "code",
   "execution_count": null,
   "metadata": {
    "tags": []
   },
   "outputs": [],
   "source": [
    "!kubectl get pods,deployments,hpa,scaledobject"
   ]
  },
  {
   "cell_type": "code",
   "execution_count": null,
   "metadata": {
    "tags": []
   },
   "outputs": [],
   "source": [
    "!kubectl delete -f model_with_keda_prom.yaml"
   ]
  },
  {
   "cell_type": "code",
   "execution_count": null,
   "metadata": {},
   "outputs": [],
   "source": []
  }
 ],
 "metadata": {
  "kernelspec": {
   "display_name": "Python 3",
   "language": "python",
   "name": "python3"
  },
  "language_info": {
   "codemirror_mode": {
    "name": "ipython",
    "version": 3
   },
   "file_extension": ".py",
   "mimetype": "text/x-python",
   "name": "python",
   "nbconvert_exporter": "python",
   "pygments_lexer": "ipython3",
   "version": "3.7.4"
  }
 },
 "nbformat": 4,
 "nbformat_minor": 2
}
