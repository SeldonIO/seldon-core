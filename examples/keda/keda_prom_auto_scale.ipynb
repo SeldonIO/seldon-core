{
 "cells": [
  {
   "cell_type": "markdown",
   "metadata": {},
   "source": [
    "\n",
    "# Scale Seldon Deployments based on Prometheus Metrics.\n",
    "This notebook shows how you can scale Seldon Deployments based on Prometheus metrics via KEDA. \n",
    "\n",
    "[KEDA](https://keda.sh/) is a Kubernetes-based Event Driven Autoscaler. With KEDA, you can drive the scaling of any container in Kubernetes based on the number of events needing to be processed. \n",
    "\n",
    "With the support of KEDA in Seldon, you can scale your seldon deployments with any scalers listed [here](https://keda.sh/docs/2.0/scalers/).\n",
    "In this example we will scale the seldon deployment with Prometheus metrics as an example."
   ]
  },
  {
   "cell_type": "markdown",
   "metadata": {},
   "source": [
    "## Install Seldon Core\n",
    "\n",
    "Install Seldon Core as described in [docs](https://docs.seldon.io/projects/seldon-core/en/latest/workflow/install.html)\n",
    "\n",
    "Make sure add `--set keda.enabled=true`"
   ]
  },
  {
   "cell_type": "markdown",
   "metadata": {},
   "source": [
    "## Install Prometheus\n"
   ]
  },
  {
   "cell_type": "code",
   "execution_count": 55,
   "metadata": {},
   "outputs": [
    {
     "name": "stdout",
     "output_type": "stream",
     "text": [
      "namespace/seldon-monitoring created\n",
      "Release \"seldon-monitoring\" does not exist. Installing it now.\n",
      "NAME: seldon-monitoring\n",
      "LAST DEPLOYED: Sun Feb  5 08:41:12 2023\n",
      "NAMESPACE: seldon-monitoring\n",
      "STATUS: deployed\n",
      "REVISION: 1\n",
      "TEST SUITE: None\n",
      "NOTES:\n",
      "CHART NAME: kube-prometheus\n",
      "CHART VERSION: 8.3.2\n",
      "APP VERSION: 0.62.0\n",
      "\n",
      "** Please be patient while the chart is being deployed **\n",
      "\n",
      "Watch the Prometheus Operator Deployment status using the command:\n",
      "\n",
      "    kubectl get deploy -w --namespace seldon-monitoring -l app.kubernetes.io/name=kube-prometheus-operator,app.kubernetes.io/instance=seldon-monitoring\n",
      "\n",
      "Watch the Prometheus StatefulSet status using the command:\n",
      "\n",
      "    kubectl get sts -w --namespace seldon-monitoring -l app.kubernetes.io/name=kube-prometheus-prometheus,app.kubernetes.io/instance=seldon-monitoring\n",
      "\n",
      "Prometheus can be accessed via port \"9090\" on the following DNS name from within your cluster:\n",
      "\n",
      "    seldon-monitoring-prometheus.seldon-monitoring.svc.cluster.local\n",
      "\n",
      "To access Prometheus from outside the cluster execute the following commands:\n",
      "\n",
      "    echo \"Prometheus URL: http://127.0.0.1:9090/\"\n",
      "    kubectl port-forward --namespace seldon-monitoring svc/seldon-monitoring-prometheus 9090:9090\n",
      "\n",
      "Watch the Alertmanager StatefulSet status using the command:\n",
      "\n",
      "    kubectl get sts -w --namespace seldon-monitoring -l app.kubernetes.io/name=kube-prometheus-alertmanager,app.kubernetes.io/instance=seldon-monitoring\n",
      "\n",
      "Alertmanager can be accessed via port \"9093\" on the following DNS name from within your cluster:\n",
      "\n",
      "    seldon-monitoring-alertmanager.seldon-monitoring.svc.cluster.local\n",
      "\n",
      "To access Alertmanager from outside the cluster execute the following commands:\n",
      "\n",
      "    echo \"Alertmanager URL: http://127.0.0.1:9093/\"\n",
      "    kubectl port-forward --namespace seldon-monitoring svc/seldon-monitoring-alertmanager 9093:9093\n"
     ]
    }
   ],
   "source": [
    "!kubectl create namespace seldon-monitoring\n",
    "!helm upgrade --install seldon-monitoring kube-prometheus \\\n",
    "    --version 8.3.2 \\\n",
    "    --set fullnameOverride=seldon-monitoring \\\n",
    "    --namespace seldon-monitoring \\\n",
    "    --repo https://charts.bitnami.com/bitnami \\\n",
    "    --wait"
   ]
  },
  {
   "cell_type": "code",
   "execution_count": 56,
   "metadata": {},
   "outputs": [
    {
     "name": "stdout",
     "output_type": "stream",
     "text": [
      "statefulset rolling update complete 1 pods at revision prometheus-seldon-monitoring-prometheus-b99bd7cb6...\r\n"
     ]
    }
   ],
   "source": [
    "!kubectl rollout status -n seldon-monitoring statefulsets/prometheus-seldon-monitoring-prometheus"
   ]
  },
  {
   "cell_type": "code",
   "execution_count": 57,
   "metadata": {},
   "outputs": [
    {
     "name": "stdout",
     "output_type": "stream",
     "text": [
      "apiVersion: monitoring.coreos.com/v1\r\n",
      "kind: PodMonitor\r\n",
      "metadata:\r\n",
      "  name: seldon-podmonitor\r\n",
      "  namespace: seldon-monitoring\r\n",
      "spec:\r\n",
      "  selector:\r\n",
      "    matchLabels:\r\n",
      "      app.kubernetes.io/managed-by: seldon-core\r\n",
      "  podMetricsEndpoints:\r\n",
      "    - port: metrics\r\n",
      "      path: /prometheus\r\n",
      "  namespaceSelector:\r\n",
      "    any: true\r\n"
     ]
    }
   ],
   "source": [
    "!cat pod-monitor.yaml"
   ]
  },
  {
   "cell_type": "code",
   "execution_count": 58,
   "metadata": {},
   "outputs": [
    {
     "name": "stdout",
     "output_type": "stream",
     "text": [
      "podmonitor.monitoring.coreos.com/seldon-podmonitor created\r\n"
     ]
    }
   ],
   "source": [
    "!kubectl apply -f pod-monitor.yaml"
   ]
  },
  {
   "cell_type": "markdown",
   "metadata": {},
   "source": [
    "## Install KEDA\n",
    "\n",
    "Follow the [docs for KEDA](https://keda.sh/docs/) to install."
   ]
  },
  {
   "cell_type": "markdown",
   "metadata": {},
   "source": [
    "## Create model with KEDA"
   ]
  },
  {
   "cell_type": "markdown",
   "metadata": {},
   "source": [
    "To create a model with KEDA autoscaling you just need to add a KEDA spec referring in the Deployment, e.g.:\n",
    "```yaml\n",
    "kedaSpec:\n",
    "  pollingInterval: 15                                # Optional. Default: 30 seconds\n",
    "  minReplicaCount: 1                                 # Optional. Default: 0\n",
    "  maxReplicaCount: 5                                 # Optional. Default: 100\n",
    "  triggers:\n",
    "  - type: prometheus\n",
    "          metadata:\n",
    "            # Required\n",
    "            serverAddress: http://seldon-monitoring-prometheus.seldon-monitoring.svc.cluster.local:9090\n",
    "            metricName: access_frequency\n",
    "            threshold: '10'\n",
    "            query: rate(seldon_api_executor_client_requests_seconds_count{model_name=\"classifier\"}[1m])\n",
    "```\n",
    "The full SeldonDeployment spec is shown below."
   ]
  },
  {
   "cell_type": "code",
   "execution_count": 59,
   "metadata": {},
   "outputs": [
    {
     "data": {
      "text/plain": [
       "'1.16.0-dev'"
      ]
     },
     "execution_count": 59,
     "metadata": {},
     "output_type": "execute_result"
    }
   ],
   "source": [
    "VERSION = !cat ../../version.txt\n",
    "VERSION = VERSION[0]\n",
    "VERSION"
   ]
  },
  {
   "cell_type": "code",
   "execution_count": 60,
   "metadata": {},
   "outputs": [
    {
     "name": "stdout",
     "output_type": "stream",
     "text": [
      "Overwriting model_with_keda_prom.yaml\n"
     ]
    }
   ],
   "source": [
    "%%writefile model_with_keda_prom.yaml\n",
    "apiVersion: machinelearning.seldon.io/v1\n",
    "kind: SeldonDeployment\n",
    "metadata:\n",
    "  name: seldon-model\n",
    "spec:\n",
    "  name: test-deployment\n",
    "  predictors:\n",
    "  - componentSpecs:\n",
    "    - spec:\n",
    "        containers:\n",
    "        - image: seldonio/mock_classifier:1.16.0-dev\n",
    "          imagePullPolicy: IfNotPresent\n",
    "          name: classifier\n",
    "          resources:\n",
    "            requests:\n",
    "              cpu: '0.5'\n",
    "      kedaSpec:\n",
    "        pollingInterval: 15                                # Optional. Default: 30 seconds\n",
    "        minReplicaCount: 1                                 # Optional. Default: 0\n",
    "        maxReplicaCount: 5                                 # Optional. Default: 100\n",
    "        triggers:\n",
    "        - type: prometheus\n",
    "          metadata:\n",
    "            # Required\n",
    "            serverAddress: http://seldon-monitoring-prometheus.seldon-monitoring.svc.cluster.local:9090\n",
    "            metricName: access_frequency\n",
    "            threshold: '10'\n",
    "            query: rate(seldon_api_executor_client_requests_seconds_count{model_name=\"classifier\"}[1m])\n",
    "    graph:\n",
    "      children: []\n",
    "      endpoint:\n",
    "        type: REST\n",
    "      name: classifier\n",
    "      type: MODEL\n",
    "    name: example\n"
   ]
  },
  {
   "cell_type": "code",
   "execution_count": 62,
   "metadata": {
    "tags": []
   },
   "outputs": [
    {
     "name": "stdout",
     "output_type": "stream",
     "text": [
      "seldondeployment.machinelearning.seldon.io/seldon-model created\r\n"
     ]
    }
   ],
   "source": [
    "!kubectl create -f model_with_keda_prom.yaml"
   ]
  },
  {
   "cell_type": "code",
   "execution_count": 63,
   "metadata": {
    "tags": []
   },
   "outputs": [
    {
     "name": "stdout",
     "output_type": "stream",
     "text": [
      "Waiting for deployment \"seldon-model-example-0-classifier\" rollout to finish: 0 of 1 updated replicas are available...\n",
      "deployment \"seldon-model-example-0-classifier\" successfully rolled out\n"
     ]
    }
   ],
   "source": [
    "!kubectl rollout status deploy/$(kubectl get deploy -l seldon-deployment-id=seldon-model -o jsonpath='{.items[0].metadata.name}')"
   ]
  },
  {
   "cell_type": "markdown",
   "metadata": {},
   "source": [
    "## Create Load"
   ]
  },
  {
   "cell_type": "markdown",
   "metadata": {},
   "source": [
    "We label some nodes for the loadtester. We attempt the first two as for Kind the first node shown will be the master."
   ]
  },
  {
   "cell_type": "code",
   "execution_count": 64,
   "metadata": {
    "tags": []
   },
   "outputs": [
    {
     "name": "stdout",
     "output_type": "stream",
     "text": [
      "node/kind-control-plane not labeled\n",
      "node/kind-worker not labeled\n"
     ]
    }
   ],
   "source": [
    "!kubectl label nodes $(kubectl get nodes -o jsonpath='{.items[0].metadata.name}') role=locust\n",
    "!kubectl label nodes $(kubectl get nodes -o jsonpath='{.items[1].metadata.name}') role=locust"
   ]
  },
  {
   "cell_type": "markdown",
   "metadata": {},
   "source": [
    "Before add loads to the model, there is only one replica"
   ]
  },
  {
   "cell_type": "code",
   "execution_count": 65,
   "metadata": {
    "tags": []
   },
   "outputs": [
    {
     "name": "stdout",
     "output_type": "stream",
     "text": [
      "NAME                                READY   UP-TO-DATE   AVAILABLE   AGE\r\n",
      "seldon-model-example-0-classifier   1/1     1            1           34s\r\n"
     ]
    }
   ],
   "source": [
    "!kubectl get deployment seldon-model-example-0-classifier"
   ]
  },
  {
   "cell_type": "code",
   "execution_count": 66,
   "metadata": {
    "tags": []
   },
   "outputs": [
    {
     "name": "stdout",
     "output_type": "stream",
     "text": [
      "NAME: seldon-core-loadtesting\r\n",
      "LAST DEPLOYED: Sun Feb  5 08:48:08 2023\r\n",
      "NAMESPACE: seldon\r\n",
      "STATUS: deployed\r\n",
      "REVISION: 1\r\n",
      "TEST SUITE: None\r\n"
     ]
    }
   ],
   "source": [
    "!helm install seldon-core-loadtesting seldon-core-loadtesting --repo https://storage.googleapis.com/seldon-charts \\\n",
    "    --set locust.host=http://seldon-model-example:8000 \\\n",
    "    --set oauth.enabled=false \\\n",
    "    --set locust.hatchRate=1 \\\n",
    "    --set locust.clients=1 \\\n",
    "    --set loadtest.sendFeedback=0 \\\n",
    "    --set locust.minWait=0 \\\n",
    "    --set locust.maxWait=0 \\\n",
    "    --set replicaCount=1"
   ]
  },
  {
   "cell_type": "markdown",
   "metadata": {},
   "source": [
    "After a few mins you should see the deployment scaled to 5 replicas"
   ]
  },
  {
   "cell_type": "code",
   "execution_count": 67,
   "metadata": {},
   "outputs": [
    {
     "name": "stdout",
     "output_type": "stream",
     "text": [
      "1\n",
      "1\n",
      "1\n",
      "1\n",
      "1\n",
      "1\n",
      "1\n",
      "1\n",
      "1\n",
      "1\n",
      "4\n"
     ]
    }
   ],
   "source": [
    "import json\n",
    "import time\n",
    "\n",
    "\n",
    "def getNumberPods():\n",
    "    dp = !kubectl get deployment seldon-model-example-0-classifier -o json\n",
    "    dp = json.loads(\"\".join(dp))\n",
    "    return dp[\"status\"][\"replicas\"]\n",
    "\n",
    "\n",
    "scaled = False\n",
    "for i in range(60):\n",
    "    pods = getNumberPods()\n",
    "    print(pods)\n",
    "    if pods > 1:\n",
    "        scaled = True\n",
    "        break\n",
    "    time.sleep(5)\n",
    "assert scaled"
   ]
  },
  {
   "cell_type": "code",
   "execution_count": 68,
   "metadata": {
    "tags": []
   },
   "outputs": [
    {
     "name": "stdout",
     "output_type": "stream",
     "text": [
      "NAME                                                READY   UP-TO-DATE   AVAILABLE   AGE\r\n",
      "deployment.apps/seldon-model-example-0-classifier   5/5     5            5           3m51s\r\n",
      "\r\n",
      "NAME                                                     SCALETARGETKIND      SCALETARGETNAME                     TRIGGERS     AUTHENTICATION   READY   ACTIVE   AGE\r\n",
      "scaledobject.keda.sh/seldon-model-example-0-classifier   apps/v1.Deployment   seldon-model-example-0-classifier   prometheus                    True    True     3m51s\r\n"
     ]
    }
   ],
   "source": [
    "!kubectl get deployment/seldon-model-example-0-classifier scaledobject/seldon-model-example-0-classifier"
   ]
  },
  {
   "cell_type": "markdown",
   "metadata": {},
   "source": [
    "## Remove Load"
   ]
  },
  {
   "cell_type": "code",
   "execution_count": 69,
   "metadata": {
    "tags": []
   },
   "outputs": [
    {
     "name": "stdout",
     "output_type": "stream",
     "text": [
      "release \"seldon-core-loadtesting\" uninstalled\r\n"
     ]
    }
   ],
   "source": [
    "!helm delete seldon-core-loadtesting"
   ]
  },
  {
   "cell_type": "markdown",
   "metadata": {},
   "source": [
    "After 5-10 mins you should see the deployment replica number decrease to 1"
   ]
  },
  {
   "cell_type": "markdown",
   "metadata": {},
   "source": [
    "## Cleanup"
   ]
  },
  {
   "cell_type": "code",
   "execution_count": 71,
   "metadata": {
    "tags": []
   },
   "outputs": [
    {
     "name": "stdout",
     "output_type": "stream",
     "text": [
      "seldondeployment.machinelearning.seldon.io \"seldon-model\" deleted\r\n"
     ]
    }
   ],
   "source": [
    "!kubectl delete -f model_with_keda_prom.yaml"
   ]
  },
  {
   "cell_type": "code",
   "execution_count": 72,
   "metadata": {},
   "outputs": [
    {
     "name": "stdout",
     "output_type": "stream",
     "text": [
      "release \"seldon-monitoring\" uninstalled\r\n"
     ]
    }
   ],
   "source": [
    "!helm delete seldon-monitoring -n seldon-monitoring"
   ]
  },
  {
   "cell_type": "code",
   "execution_count": 73,
   "metadata": {},
   "outputs": [
    {
     "name": "stdout",
     "output_type": "stream",
     "text": [
      "namespace \"seldon-monitoring\" deleted\r\n"
     ]
    }
   ],
   "source": [
    "!kubectl delete namespace seldon-monitoring"
   ]
  },
  {
   "cell_type": "code",
   "execution_count": null,
   "metadata": {},
   "outputs": [],
   "source": []
  }
 ],
 "metadata": {
  "kernelspec": {
   "display_name": "Python 3 (ipykernel)",
   "language": "python",
   "name": "python3"
  },
  "language_info": {
   "codemirror_mode": {
    "name": "ipython",
    "version": 3
   },
   "file_extension": ".py",
   "mimetype": "text/x-python",
   "name": "python",
   "nbconvert_exporter": "python",
   "pygments_lexer": "ipython3",
   "version": "3.9.13"
  }
 },
 "nbformat": 4,
 "nbformat_minor": 4
}
