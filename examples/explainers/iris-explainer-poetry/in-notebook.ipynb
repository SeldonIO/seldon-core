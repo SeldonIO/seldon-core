{
 "cells": [
  {
   "cell_type": "markdown",
   "id": "974d3b79-8f37-446c-9715-50806555b09a",
   "metadata": {},
   "source": [
    "# Explainer for Iris model with Poetry-defined Environment\n",
    "\n",
    "## Prerequisites\n",
    "\n",
    " * A kubernetes cluster with kubectl configured\n",
    " * poetry\n",
    " * rclone\n",
    " * curl\n",
    "\n",
    "## Setup Seldon Core\n",
    "\n",
    "Use the setup notebook to [Setup Cluster](https://docs.seldon.io/projects/seldon-core/en/latest/examples/seldon_core_setup.html#Setup-Cluster) with [Ambassador Ingress](https://docs.seldon.io/projects/seldon-core/en/latest/examples/seldon_core_setup.html#Ambassador) and [Install Seldon Core](https://docs.seldon.io/projects/seldon-core/en/latest/examples/seldon_core_setup.html#Install-Seldon-Core). Instructions [also online](https://docs.seldon.io/projects/seldon-core/en/latest/examples/seldon_core_setup.html).\n",
    "\n",
    "We will assume that ambassador (or Istio) ingress is port-forwarded to `localhost:8003`\n",
    "\n",
    "## Setup MinIO\n",
    "\n",
    "Use the provided [notebook](https://docs.seldon.io/projects/seldon-core/en/latest/examples/minio_setup.html) to install Minio in your cluster.\n",
    "Instructions [also online](https://docs.seldon.io/projects/seldon-core/en/latest/examples/minio_setup.html).\n",
    "\n",
    "We will assume that MinIO service is port-forwarded to `localhost:8090`"
   ]
  },
  {
   "cell_type": "code",
   "execution_count": 1,
   "id": "3dfd0c1e-2470-41bc-a1bc-d5a8c2ef633c",
   "metadata": {},
   "outputs": [
    {
     "name": "stdout",
     "output_type": "stream",
     "text": [
      "Overwriting rclone.conf\n"
     ]
    }
   ],
   "source": [
    "%%writefile rclone.conf\n",
    "[s3]\n",
    "type = s3\n",
    "provider = minio\n",
    "env_auth = false\n",
    "access_key_id = minioadmin\n",
    "secret_access_key = minioadmin\n",
    "endpoint = http://localhost:8090"
   ]
  },
  {
   "cell_type": "code",
   "execution_count": 2,
   "id": "5719dad8-1b7c-4885-ba9a-1972905450bd",
   "metadata": {},
   "outputs": [
    {
     "name": "stdout",
     "output_type": "stream",
     "text": [
      "Overwriting secret.yaml\n"
     ]
    }
   ],
   "source": [
    "%%writefile secret.yaml\n",
    "apiVersion: v1\n",
    "kind: Secret\n",
    "metadata:\n",
    "  name: seldon-rclone-secret\n",
    "type: Opaque\n",
    "stringData:\n",
    "  RCLONE_CONFIG_S3_TYPE: s3\n",
    "  RCLONE_CONFIG_S3_PROVIDER: minio\n",
    "  RCLONE_CONFIG_S3_ENV_AUTH: \"false\"\n",
    "  RCLONE_CONFIG_S3_ACCESS_KEY_ID: minioadmin\n",
    "  RCLONE_CONFIG_S3_SECRET_ACCESS_KEY: minioadmin\n",
    "  RCLONE_CONFIG_S3_ENDPOINT: http://minio.minio-system.svc.cluster.local:9000"
   ]
  },
  {
   "cell_type": "code",
   "execution_count": 3,
   "id": "a21e62d8-d9a6-450b-afc0-9952a8c7771a",
   "metadata": {},
   "outputs": [
    {
     "name": "stdout",
     "output_type": "stream",
     "text": [
      "secret/seldon-rclone-secret configured\n"
     ]
    }
   ],
   "source": [
    "!kubectl apply -f secret.yaml"
   ]
  },
  {
   "cell_type": "markdown",
   "id": "1362cfa3-2652-4fa4-879d-775984f92c4e",
   "metadata": {},
   "source": [
    "## Poetry\n",
    "\n",
    "We will use `poetry.lock` to fully define the explainer environment. Install poetry following official [documentation](https://python-poetry.org/docs/#installation). Usually this goes down to\n",
    "```bash\n",
    "curl -sSL https://raw.githubusercontent.com/python-poetry/poetry/master/get-poetry.py | python3 -\n",
    "```"
   ]
  },
  {
   "cell_type": "markdown",
   "id": "4a334313-42e4-465b-bafc-47242a4d2d0b",
   "metadata": {},
   "source": [
    "# Deploy Iris Model"
   ]
  },
  {
   "cell_type": "code",
   "execution_count": 80,
   "id": "a3f4de77-e8d5-4c7a-9b76-e00b45f8ecb0",
   "metadata": {},
   "outputs": [
    {
     "name": "stdout",
     "output_type": "stream",
     "text": [
      "Overwriting iris.yaml\n"
     ]
    }
   ],
   "source": [
    "%%writefile iris.yaml\n",
    "apiVersion: machinelearning.seldon.io/v1alpha2\n",
    "kind: SeldonDeployment\n",
    "metadata:\n",
    "  name: iris\n",
    "spec:\n",
    "  predictors:\n",
    "  - name: default\n",
    "    replicas: 1\n",
    "    graph:\n",
    "      name: classifier\n",
    "      implementation: SKLEARN_SERVER\n",
    "      modelUri: gs://seldon-models/v1.11.0-dev/sklearn/iris"
   ]
  },
  {
   "cell_type": "code",
   "execution_count": 81,
   "id": "6148e333-ce89-4146-9a33-ae9971e7dc6a",
   "metadata": {},
   "outputs": [
    {
     "name": "stdout",
     "output_type": "stream",
     "text": [
      "seldondeployment.machinelearning.seldon.io/iris configured\n"
     ]
    }
   ],
   "source": [
    "!kubectl apply -f iris.yaml"
   ]
  },
  {
   "cell_type": "code",
   "execution_count": 82,
   "id": "f74d8f49-9ba1-4739-85f0-33da5244447a",
   "metadata": {},
   "outputs": [
    {
     "name": "stdout",
     "output_type": "stream",
     "text": [
      "deployment \"iris-default-0-classifier\" successfully rolled out\n"
     ]
    }
   ],
   "source": [
    "!kubectl rollout status deploy/$(kubectl get deploy -l seldon-deployment-id=iris -o jsonpath='{.items[0].metadata.name}')"
   ]
  },
  {
   "cell_type": "code",
   "execution_count": 83,
   "id": "60842788-2dfb-41e7-ae91-7d1a43343144",
   "metadata": {},
   "outputs": [
    {
     "name": "stdout",
     "output_type": "stream",
     "text": [
      "{\n",
      "  \"data\": {\n",
      "    \"names\": [\n",
      "      \"t:0\",\n",
      "      \"t:1\",\n",
      "      \"t:2\"\n",
      "    ],\n",
      "    \"ndarray\": [\n",
      "      [\n",
      "        0.9548873249364059,\n",
      "        0.04505474761562512,\n",
      "        5.7927447968953825e-05\n",
      "      ]\n",
      "    ]\n",
      "  },\n",
      "  \"meta\": {\n",
      "    \"requestPath\": {\n",
      "      \"classifier\": \"seldonio/sklearnserver:1.12.0-dev\"\n",
      "    }\n",
      "  }\n",
      "}\n"
     ]
    }
   ],
   "source": [
    "%%bash\n",
    "curl -s -X POST -H 'Content-Type: application/json' \\\n",
    "    -d '{\"data\":{\"ndarray\":[[5.964, 4.006, 2.081, 1.031]]}}' \\\n",
    "    http://localhost:8003/seldon/seldon/iris/api/v1.0/predictions  | jq ."
   ]
  },
  {
   "cell_type": "code",
   "execution_count": 90,
   "id": "cc831153-105c-452d-8fc1-8d990bf5a0c7",
   "metadata": {},
   "outputs": [
    {
     "name": "stdout",
     "output_type": "stream",
     "text": [
      "{\"data\":{\"names\":[\"t:0\",\"t:1\",\"t:2\"],\"ndarray\":[[0.9548873249364059,0.04505474761562512,5.7927447968953825e-05]]},\"meta\":{\"requestPath\":{\"classifier\":\"seldonio/sklearnserver:1.12.0-dev\"}}}\n"
     ]
    },
    {
     "name": "stderr",
     "output_type": "stream",
     "text": [
      "Defaulting container name to classifier.\n",
      "Use 'kubectl describe pod/iris-default-0-classifier-7c5b78594-bw52s -n seldon' to see all of the containers in this pod.\n"
     ]
    }
   ],
   "source": [
    "%%bash\n",
    "kubectl exec  iris-default-0-classifier-7c5b78594-bw52s --  \\\n",
    "   curl -s -X POST -H 'Content-Type: application/json' \\\n",
    "    -d '{\"data\":{\"ndarray\":[[5.964, 4.006, 2.081, 1.031]]}}' \\\n",
    "    http://localhost:9000/api/v1.0/predictions"
   ]
  },
  {
   "cell_type": "code",
   "execution_count": 89,
   "id": "3ed49a26-40e1-433d-a9a5-145e42ac4f14",
   "metadata": {},
   "outputs": [
    {
     "name": "stdout",
     "output_type": "stream",
     "text": [
      "{\"data\":{\"names\":[\"t:0\",\"t:1\",\"t:2\"],\"ndarray\":[[0.9548873249364059,0.04505474761562512,5.7927447968953825e-05]]},\"meta\":{\"requestPath\":{\"classifier\":\"seldonio/sklearnserver:1.12.0-dev\"}}}\n"
     ]
    }
   ],
   "source": [
    "%%bash\n",
    "kubectl run --quiet=true -it --rm curl --image=radial/busyboxplus:curl --restart=Never --  \\\n",
    "   curl -s -X POST -H 'Content-Type: application/json' \\\n",
    "    -d '{\"data\":{\"ndarray\":[[5.964, 4.006, 2.081, 1.031]]}}' \\\n",
    "    http://iris-default.seldon.svc.cluster.local:8000/api/v1.0/predictions"
   ]
  },
  {
   "cell_type": "code",
   "execution_count": 86,
   "id": "d01bd2f3-2b82-4ca0-a784-e595c19878e0",
   "metadata": {},
   "outputs": [
    {
     "name": "stdout",
     "output_type": "stream",
     "text": [
      "{\"data\":{\"names\":[\"t:0\",\"t:1\",\"t:2\"],\"ndarray\":[[0.9548873249364059,0.04505474761562512,5.7927447968953825e-05]]},\"meta\":{\"requestPath\":{\"classifier\":\"seldonio/sklearnserver:1.12.0-dev\"}}}\n"
     ]
    }
   ],
   "source": [
    "%%bash\n",
    "kubectl run --quiet=true -it --rm curl --image=radial/busyboxplus:curl --restart=Never --  \\\n",
    "   curl -s -X POST -H 'Content-Type: application/json' \\\n",
    "    -d '{\"data\":{\"ndarray\":[[5.964, 4.006, 2.081, 1.031]]}}' \\\n",
    "    http://istio-ingressgateway.istio-system.svc.cluster.local/seldon/seldon/iris/api/v1.0/predictions"
   ]
  },
  {
   "cell_type": "markdown",
   "id": "96bea1d0-7ab2-45a2-8ade-4dad47302a78",
   "metadata": {},
   "source": [
    "# Train Explainer"
   ]
  },
  {
   "cell_type": "code",
   "execution_count": 126,
   "id": "f06a8de7-4cd8-4cc5-946d-c9435efcc157",
   "metadata": {},
   "outputs": [],
   "source": [
    "import numpy as np\n",
    "from sklearn.datasets import load_iris\n",
    "from alibi.explainers import AnchorTabular\n",
    "\n",
    "import requests"
   ]
  },
  {
   "cell_type": "code",
   "execution_count": 127,
   "id": "99b54a86-54c8-42cc-b324-9a20e113afc6",
   "metadata": {},
   "outputs": [],
   "source": [
    "dataset = load_iris()\n",
    "feature_names = dataset.feature_names\n",
    "iris_data = dataset.data"
   ]
  },
  {
   "cell_type": "code",
   "execution_count": 128,
   "id": "732db4cc-bbb6-4d1f-864b-5fda3c888795",
   "metadata": {},
   "outputs": [],
   "source": [
    "model_url = \"http://localhost:8003/seldon/seldon/iris/api/v1.0/predictions\"\n",
    "\n",
    "\n",
    "def predict_fn(X):\n",
    "    data = {\"data\": {\"ndarray\": X.tolist()}}\n",
    "    r = requests.post(model_url, json={\"data\": {\"ndarray\": [[1, 2, 3, 4]]}})\n",
    "    return np.array(r.json()[\"data\"][\"ndarray\"])"
   ]
  },
  {
   "cell_type": "code",
   "execution_count": 129,
   "id": "1e155fa7-d720-4826-bc36-aa78da798dfa",
   "metadata": {},
   "outputs": [
    {
     "data": {
      "text/plain": [
       "array([[6.98519453e-04, 3.66803904e-03, 9.95633442e-01]])"
      ]
     },
     "execution_count": 129,
     "metadata": {},
     "output_type": "execute_result"
    }
   ],
   "source": [
    "predict_fn(np.array([[5.964, 4.006, 2.081, 1.031]]))"
   ]
  },
  {
   "cell_type": "code",
   "execution_count": 130,
   "id": "65a1cd6b-1ac0-4da6-b5ea-31a4ed0f8801",
   "metadata": {},
   "outputs": [],
   "source": [
    "explainer = AnchorTabular(predict_fn, feature_names)"
   ]
  },
  {
   "cell_type": "code",
   "execution_count": 131,
   "id": "2d21adc4-6096-488a-87ac-c817b83d6348",
   "metadata": {},
   "outputs": [
    {
     "data": {
      "text/plain": [
       "AnchorTabular(meta={\n",
       "  'name': 'AnchorTabular',\n",
       "  'type': ['blackbox'],\n",
       "  'explanations': ['local'],\n",
       "  'params': {'disc_perc': (25, 50, 75), 'seed': None}}\n",
       ")"
      ]
     },
     "execution_count": 131,
     "metadata": {},
     "output_type": "execute_result"
    }
   ],
   "source": [
    "explainer.fit(iris_data, disc_perc=(25, 50, 75))"
   ]
  },
  {
   "cell_type": "markdown",
   "id": "3276f55f-5738-4c89-87f0-1e304b1bbeb9",
   "metadata": {},
   "source": [
    "# Save and deploy Explainer"
   ]
  },
  {
   "cell_type": "code",
   "execution_count": 132,
   "id": "d118464a-c2d2-4724-8c07-1880ddf86cf8",
   "metadata": {},
   "outputs": [],
   "source": [
    "explainer.save(\"./explainer/\")"
   ]
  },
  {
   "cell_type": "code",
   "execution_count": 97,
   "id": "514dfa8f-6916-4551-ab07-9747761495cb",
   "metadata": {},
   "outputs": [
    {
     "name": "stdout",
     "output_type": "stream",
     "text": [
      "\u001b[01;34m.\u001b[00m\n",
      "├── \u001b[01;34mexplainer\u001b[00m\n",
      "│   ├── explainer.dill\n",
      "│   └── meta.dill\n",
      "├── iris-with-explainer.yaml\n",
      "├── iris.yaml\n",
      "├── rclone.conf\n",
      "├── README.ipynb\n",
      "└── secret.yaml\n",
      "\n",
      "1 directory, 7 files\n"
     ]
    }
   ],
   "source": [
    "!tree"
   ]
  },
  {
   "cell_type": "code",
   "execution_count": 98,
   "id": "daf6ad2b-1bfd-42ab-bc9f-5f950b455252",
   "metadata": {},
   "outputs": [],
   "source": [
    "!rclone --config=\"rclone.conf\" copy explainer/ s3:explainers/iris/"
   ]
  },
  {
   "cell_type": "code",
   "execution_count": 133,
   "id": "367573ff-649f-4dc1-91a5-ecdeffef4157",
   "metadata": {},
   "outputs": [
    {
     "name": "stdout",
     "output_type": "stream",
     "text": [
      "Overwriting iris-with-explainer.yaml\n"
     ]
    }
   ],
   "source": [
    "%%writefile iris-with-explainer.yaml\n",
    "apiVersion: machinelearning.seldon.io/v1alpha2\n",
    "kind: SeldonDeployment\n",
    "metadata:\n",
    "  name: iris\n",
    "spec:\n",
    "  predictors:\n",
    "  - name: default\n",
    "    replicas: 1\n",
    "    graph:\n",
    "      name: classifier\n",
    "      implementation: SKLEARN_SERVER\n",
    "      modelUri: gs://seldon-models/v1.11.0-dev/sklearn/iris\n",
    "    explainer:\n",
    "      type: AnchorTabular\n",
    "      modelUri: s3:explainers/iris/\n",
    "      envSecretRefName: seldon-rclone-secret\n",
    "      replicas: 1            "
   ]
  },
  {
   "cell_type": "code",
   "execution_count": 134,
   "id": "4e5695e9-d7d4-4217-96d2-dea086214f8b",
   "metadata": {},
   "outputs": [
    {
     "name": "stdout",
     "output_type": "stream",
     "text": [
      "seldondeployment.machinelearning.seldon.io/iris unchanged\n"
     ]
    }
   ],
   "source": [
    "!kubectl apply -f iris-with-explainer.yaml"
   ]
  },
  {
   "cell_type": "markdown",
   "id": "20366503-eb7d-4c33-b7a2-9d1cd1c7c166",
   "metadata": {},
   "source": [
    "# Test Deployed explainer"
   ]
  },
  {
   "cell_type": "code",
   "execution_count": 135,
   "id": "6bc0dcb3-d288-443e-8f69-3fced936d3f8",
   "metadata": {},
   "outputs": [],
   "source": [
    "model_url = \"http://localhost:8003/seldon/seldon/iris-explainer/default/api/v1.0/explain\"\n",
    "\n",
    "\n",
    "def explain_fn(X):\n",
    "    data = {\"data\": {\"ndarray\": X.tolist()}}\n",
    "    r = requests.post(model_url, json={\"data\": {\"ndarray\": [[1, 2, 3, 4]]}})\n",
    "    return r.json()"
   ]
  },
  {
   "cell_type": "code",
   "execution_count": 136,
   "id": "ce286c70-2443-48d7-8ea2-88de67ed4c3d",
   "metadata": {},
   "outputs": [],
   "source": [
    "explanation = explain_fn(np.array([[5.964, 4.006, 2.081, 1.031]]))"
   ]
  },
  {
   "cell_type": "code",
   "execution_count": 137,
   "id": "ed3fc211-0acb-4021-a198-dfb4a419fabc",
   "metadata": {},
   "outputs": [
    {
     "name": "stdout",
     "output_type": "stream",
     "text": [
      "Anchor: petal width (cm) > 1.80 AND sepal width (cm) <= 2.80\n",
      "Precision: 0.98\n",
      "Coverage: 0.08\n"
     ]
    }
   ],
   "source": [
    "print('Anchor: %s' % (' AND '.join(explanation[\"data\"][\"anchor\"])))\n",
    "print('Precision: %.2f' % explanation[\"data\"][\"precision\"])\n",
    "print('Coverage: %.2f' % explanation[\"data\"][\"coverage\"])"
   ]
  },
  {
   "cell_type": "code",
   "execution_count": null,
   "id": "7de1a350-88be-4e2a-9326-e53951e69062",
   "metadata": {},
   "outputs": [],
   "source": []
  }
 ],
 "metadata": {
  "kernelspec": {
   "display_name": "alibiexplainer",
   "language": "python",
   "name": "alibiexplainer"
  },
  "language_info": {
   "codemirror_mode": {
    "name": "ipython",
    "version": 3
   },
   "file_extension": ".py",
   "mimetype": "text/x-python",
   "name": "python",
   "nbconvert_exporter": "python",
   "pygments_lexer": "ipython3",
   "version": "3.7.10"
  }
 },
 "nbformat": 4,
 "nbformat_minor": 5
}
