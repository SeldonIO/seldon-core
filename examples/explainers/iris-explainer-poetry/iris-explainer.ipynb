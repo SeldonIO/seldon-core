{
  "cells": [
    {
      "cell_type": "markdown",
      "id": "974d3b79-8f37-446c-9715-50806555b09a",
      "metadata": {},
      "source": [
        "# Explainer for Iris model with Poetry-defined Environment\n",
        "\n",
        "## Prerequisites\n",
        "\n",
        " * A kubernetes cluster with kubectl configured\n",
        " * poetry\n",
        " * rclone\n",
        " * curl\n",
        "\n",
        "## Setup Seldon Core\n",
        "\n",
        "Use the setup notebook to [Setup Cluster](https://docs.seldon.io/projects/seldon-core/en/latest/examples/seldon_core_setup.html#Setup-Cluster) with [Ambassador Ingress](https://docs.seldon.io/projects/seldon-core/en/latest/examples/seldon_core_setup.html#Ambassador) and [Install Seldon Core](https://docs.seldon.io/projects/seldon-core/en/latest/examples/seldon_core_setup.html#Install-Seldon-Core). Instructions [also online](https://docs.seldon.io/projects/seldon-core/en/latest/examples/seldon_core_setup.html).\n",
        "\n",
        "We will assume that ambassador (or Istio) ingress is port-forwarded to `localhost:8003`\n",
        "\n",
        "## Setup MinIO\n",
        "\n",
        "Use the provided [notebook](https://docs.seldon.io/projects/seldon-core/en/latest/examples/minio_setup.html) to install Minio in your cluster.\n",
        "Instructions [also online](https://docs.seldon.io/projects/seldon-core/en/latest/examples/minio_setup.html).\n",
        "\n",
        "We will assume that MinIO service is port-forwarded to `localhost:8090`"
      ]
    },
    {
      "cell_type": "code",
      "execution_count": 1,
      "id": "3dfd0c1e-2470-41bc-a1bc-d5a8c2ef633c",
      "metadata": {},
      "outputs": [
        {
          "name": "stdout",
          "output_type": "stream",
          "text": [
            "Overwriting rclone.conf\n"
          ]
        }
      ],
      "source": [
        "%%writefile rclone.conf\n",
        "[s3]\n",
        "type = s3\n",
        "provider = minio\n",
        "env_auth = false\n",
        "access_key_id = minioadmin\n",
        "secret_access_key = minioadmin\n",
        "endpoint = http://localhost:8090"
      ]
    },
    {
      "cell_type": "code",
      "execution_count": 2,
      "id": "5719dad8-1b7c-4885-ba9a-1972905450bd",
      "metadata": {},
      "outputs": [
        {
          "name": "stdout",
          "output_type": "stream",
          "text": [
            "Overwriting secret.yaml\n"
          ]
        }
      ],
      "source": [
        "%%writefile secret.yaml\n",
        "apiVersion: v1\n",
        "kind: Secret\n",
        "metadata:\n",
        "  name: seldon-rclone-secret\n",
        "type: Opaque\n",
        "stringData:\n",
        "  RCLONE_CONFIG_S3_TYPE: s3\n",
        "  RCLONE_CONFIG_S3_PROVIDER: minio\n",
        "  RCLONE_CONFIG_S3_ENV_AUTH: \"false\"\n",
        "  RCLONE_CONFIG_S3_ACCESS_KEY_ID: minioadmin\n",
        "  RCLONE_CONFIG_S3_SECRET_ACCESS_KEY: minioadmin\n",
        "  RCLONE_CONFIG_S3_ENDPOINT: http://minio.minio-system.svc.cluster.local:9000"
      ]
    },
    {
      "cell_type": "code",
      "execution_count": 3,
      "id": "a21e62d8-d9a6-450b-afc0-9952a8c7771a",
      "metadata": {},
      "outputs": [
        {
          "name": "stdout",
          "output_type": "stream",
          "text": [
            "secret/seldon-rclone-secret configured\n"
          ]
        }
      ],
      "source": [
        "!kubectl apply -f secret.yaml"
      ]
    },
    {
      "cell_type": "markdown",
      "id": "1362cfa3-2652-4fa4-879d-775984f92c4e",
      "metadata": {},
      "source": [
        "## Poetry\n",
        "\n",
        "We will use `poetry.lock` to fully define the explainer environment. Install poetry following official [documentation](https://python-poetry.org/docs/#installation). Usually this goes down to\n",
        "```bash\n",
        "curl -sSL https://install.python-poetry.org | python3 - --version 1.1.15\n",
        "```"
      ]
    },
    {
      "cell_type": "markdown",
      "id": "4a334313-42e4-465b-bafc-47242a4d2d0b",
      "metadata": {},
      "source": [
        "# Deploy Iris Model"
      ]
    },
    {
      "cell_type": "code",
      "execution_count": 4,
      "id": "a3f4de77-e8d5-4c7a-9b76-e00b45f8ecb0",
      "metadata": {},
      "outputs": [
        {
          "name": "stdout",
          "output_type": "stream",
          "text": [
            "Overwriting iris.yaml\n"
          ]
        }
      ],
      "source": [
        "%%writefile iris.yaml\n",
        "apiVersion: machinelearning.seldon.io/v1alpha2\n",
        "kind: SeldonDeployment\n",
        "metadata:\n",
        "  name: iris\n",
        "spec:\n",
        "  predictors:\n",
        "  - name: default\n",
        "    replicas: 1\n",
        "    graph:\n",
        "      name: classifier\n",
        "      implementation: SKLEARN_SERVER\n",
        "      modelUri: gs://seldon-models/v1.15.0-dev/sklearn/iris"
      ]
    },
    {
      "cell_type": "code",
      "execution_count": 5,
      "id": "6148e333-ce89-4146-9a33-ae9971e7dc6a",
      "metadata": {},
      "outputs": [
        {
          "name": "stdout",
          "output_type": "stream",
          "text": [
            "seldondeployment.machinelearning.seldon.io/iris configured\n"
          ]
        }
      ],
      "source": [
        "!kubectl apply -f iris.yaml"
      ]
    },
    {
      "cell_type": "code",
      "execution_count": 6,
      "id": "f74d8f49-9ba1-4739-85f0-33da5244447a",
      "metadata": {},
      "outputs": [
        {
          "name": "stdout",
          "output_type": "stream",
          "text": [
            "Waiting for deployment \"iris-default-0-classifier\" rollout to finish: 1 old replicas are pending termination...\n",
            "Waiting for deployment \"iris-default-0-classifier\" rollout to finish: 1 old replicas are pending termination...\n",
            "deployment \"iris-default-0-classifier\" successfully rolled out\n"
          ]
        }
      ],
      "source": [
        "!kubectl rollout status deploy/$(kubectl get deploy -l seldon-deployment-id=iris -o jsonpath='{.items[0].metadata.name}')"
      ]
    },
    {
      "cell_type": "code",
      "execution_count": 7,
      "id": "60842788-2dfb-41e7-ae91-7d1a43343144",
      "metadata": {},
      "outputs": [
        {
          "name": "stdout",
          "output_type": "stream",
          "text": [
            "{\n",
            "  \"data\": {\n",
            "    \"names\": [\n",
            "      \"t:0\",\n",
            "      \"t:1\",\n",
            "      \"t:2\"\n",
            "    ],\n",
            "    \"ndarray\": [\n",
            "      [\n",
            "        0.9548873249364059,\n",
            "        0.04505474761562512,\n",
            "        5.7927447968953825e-05\n",
            "      ]\n",
            "    ]\n",
            "  },\n",
            "  \"meta\": {\n",
            "    \"requestPath\": {\n",
            "      \"classifier\": \"seldonio/sklearnserver:1.15.0-dev\"\n",
            "    }\n",
            "  }\n",
            "}\n"
          ]
        }
      ],
      "source": [
        "%%bash\n",
        "curl -s -X POST -H 'Content-Type: application/json' \\\n",
        "    -d '{\"data\":{\"ndarray\":[[5.964, 4.006, 2.081, 1.031]]}}' \\\n",
        "    http://localhost:8003/seldon/seldon/iris/api/v1.0/predictions  | jq ."
      ]
    },
    {
      "cell_type": "markdown",
      "id": "96bea1d0-7ab2-45a2-8ade-4dad47302a78",
      "metadata": {},
      "source": [
        "# Train Explainer"
      ]
    },
    {
      "cell_type": "markdown",
      "id": "63d3c13d-2734-44ae-87e2-3da7a6fbca1a",
      "metadata": {},
      "source": [
        "## Prepare Training Environment\n",
        "\n",
        "We are going to use `pyproject.toml` and `poetry.lock` files from [Alibi Explain Server](https://github.com/SeldonIO/seldon-core/tree/master/components/alibi-explain-server). This will allow us to create environment that will match the runtime one."
      ]
    },
    {
      "cell_type": "code",
      "execution_count": 8,
      "id": "6a6b7e4c-2b8c-4b0f-a5b7-93ca3792702a",
      "metadata": {},
      "outputs": [
        {
          "name": "stdout",
          "output_type": "stream",
          "text": [
            "Collecting package metadata (current_repodata.json): ...working... done\n",
            "Solving environment: ...working... failed with repodata from current_repodata.json, will retry with next repodata source.\n",
            "Collecting package metadata (repodata.json): ...working... done\n",
            "Solving environment: ...working... done\n",
            "\n",
            "## Package Plan ##\n",
            "\n",
            "  environment location: /home/rskolasinski/work/seldon-core/examples/explainers/iris-explainer-poetry/venv\n",
            "\n",
            "  added / updated specs:\n",
            "    - conda-ecosystem-user-package-isolation\n",
            "    - python=3.7.10\n",
            "\n",
            "\n",
            "The following NEW packages will be INSTALLED:\n",
            "\n",
            "  _libgcc_mutex      conda-forge/linux-64::_libgcc_mutex-0.1-conda_forge\n",
            "  _openmp_mutex      conda-forge/linux-64::_openmp_mutex-4.5-2_gnu\n",
            "  ca-certificates    conda-forge/linux-64::ca-certificates-2022.5.18.1-ha878542_0\n",
            "  conda-ecosystem-u~ conda-forge/linux-64::conda-ecosystem-user-package-isolation-1.0-ha770c72_1\n",
            "  ld_impl_linux-64   conda-forge/linux-64::ld_impl_linux-64-2.36.1-hea4e1c9_2\n",
            "  libffi             conda-forge/linux-64::libffi-3.4.2-h7f98852_5\n",
            "  libgcc-ng          conda-forge/linux-64::libgcc-ng-12.1.0-h8d9b700_16\n",
            "  libgomp            conda-forge/linux-64::libgomp-12.1.0-h8d9b700_16\n",
            "  libnsl             conda-forge/linux-64::libnsl-2.0.0-h7f98852_0\n",
            "  libstdcxx-ng       conda-forge/linux-64::libstdcxx-ng-12.1.0-ha89aaad_16\n",
            "  libzlib            conda-forge/linux-64::libzlib-1.2.11-h166bdaf_1014\n",
            "  ncurses            conda-forge/linux-64::ncurses-6.3-h27087fc_1\n",
            "  openssl            conda-forge/linux-64::openssl-3.0.3-h166bdaf_0\n",
            "  pip                conda-forge/noarch::pip-22.1.1-pyhd8ed1ab_0\n",
            "  python             conda-forge/linux-64::python-3.7.10-hf930737_104_cpython\n",
            "  python_abi         conda-forge/linux-64::python_abi-3.7-2_cp37m\n",
            "  readline           conda-forge/linux-64::readline-8.1-h46c0cb4_0\n",
            "  setuptools         conda-forge/linux-64::setuptools-62.3.2-py37h89c1867_0\n",
            "  sqlite             conda-forge/linux-64::sqlite-3.38.5-h4ff8645_0\n",
            "  tk                 conda-forge/linux-64::tk-8.6.12-h27826a3_0\n",
            "  wheel              conda-forge/noarch::wheel-0.37.1-pyhd8ed1ab_0\n",
            "  xz                 conda-forge/linux-64::xz-5.2.5-h516909a_1\n",
            "  zlib               conda-forge/linux-64::zlib-1.2.11-h166bdaf_1014\n",
            "\n",
            "\n",
            "Preparing transaction: ...working... done\n",
            "Verifying transaction: ...working... done\n",
            "Executing transaction: ...working... done\n",
            "#\n",
            "# To activate this environment, use\n",
            "#\n",
            "#     $ conda activate /home/rskolasinski/work/seldon-core/examples/explainers/iris-explainer-poetry/venv\n",
            "#\n",
            "# To deactivate an active environment, use\n",
            "#\n",
            "#     $ conda deactivate\n",
            "\n"
          ]
        }
      ],
      "source": [
        "%%bash\n",
        "cp ../../../components/alibi-explain-server/pyproject.toml .\n",
        "cp ../../../components/alibi-explain-server/poetry.lock .\n",
        "\n",
        "conda create --yes --prefix ./venv python=3.7.10"
      ]
    },
    {
      "cell_type": "code",
      "execution_count": 9,
      "id": "5322313e-9c80-477b-8b66-b873a6eb3124",
      "metadata": {},
      "outputs": [
        {
          "name": "stdout",
          "output_type": "stream",
          "text": [
            "Installing dependencies from lock file\n",
            "\n",
            "Package operations: 138 installs, 0 updates, 0 removals\n",
            "\n",
            "  • Installing certifi (2021.10.8)\n",
            "  • Installing charset-normalizer (2.0.11)\n",
            "  • Installing idna (3.3)\n",
            "  • Installing pyasn1 (0.4.8)\n",
            "  • Installing pycparser (2.21)\n",
            "  • Installing typing-extensions (4.0.1)\n",
            "  • Installing urllib3 (1.26.8)\n",
            "  • Installing zipp (3.7.0)\n",
            "  • Installing cachetools (5.0.0)\n",
            "  • Installing cffi (1.15.0)\n",
            "  • Installing cymem (2.0.6)\n",
            "  • Installing importlib-metadata (4.10.1)\n",
            "  • Installing numpy (1.19.5)\n",
            "  • Installing oauthlib (3.2.0)\n",
            "  • Installing pyparsing (3.0.7)\n",
            "  • Installing requests (2.27.1)\n",
            "  • Installing rsa (4.7.2)\n",
            "  • Installing six (1.16.0)\n",
            "  • Installing pyasn1-modules (0.2.8)\n",
            "  • Installing murmurhash (1.0.6)\n",
            "  • Installing blis (0.7.5)\n",
            "  • Installing catalogue (1.0.0)\n",
            "  • Installing click (8.0.3)\n",
            "  • Installing cryptography (36.0.1)\n",
            "  • Installing filelock (3.4.2)\n",
            "  • Installing google-auth (2.6.0)\n",
            "  • Installing joblib (1.1.0)\n",
            "  • Installing packaging (21.3)\n",
            "  • Installing pillow (9.0.0)\n",
            "  • Installing preshed (3.0.6)\n",
            "  • Installing httplib2 (0.20.2)\n",
            "  • Installing pyyaml (6.0)\n",
            "  • Installing pyu2f (0.1.5)\n",
            "  • Installing plac (1.1.3)\n",
            "  • Installing requests-oauthlib (1.3.1)\n",
            "  • Installing regex (2022.1.18)\n",
            "  • Installing sniffio (1.2.0)\n",
            "  • Installing srsly (1.0.5)\n",
            "  • Installing tomli (1.2.3)\n",
            "  • Installing tqdm (4.62.3)\n",
            "  • Installing wasabi (0.9.0)\n",
            "  • Installing absl-py (1.0.0)\n",
            "  • Installing anyio (3.5.0)\n",
            "  • Installing attrs (21.4.0)\n",
            "  • Installing boto (2.49.0)\n",
            "  • Installing cached-property (1.5.2)\n",
            "  • Installing cycler (0.11.0)\n",
            "  • Installing fasteners (0.17.3)\n",
            "  • Installing fonttools (4.29.1)\n",
            "  • Installing google-auth-oauthlib (0.4.6)\n",
            "  • Installing google-reauth (0.1.1)\n",
            "  • Installing grpcio (1.43.0)\n",
            "  • Installing huggingface-hub (0.4.0)\n",
            "  • Installing imageio (2.14.1)\n",
            "  • Installing iniconfig (1.1.1)\n",
            "  • Installing kiwisolver (1.3.2)\n",
            "  • Installing llvmlite (0.38.0)\n",
            "  • Installing markdown (3.3.6)\n",
            "  • Installing networkx (2.6.3)\n",
            "  • Installing oauth2client (4.1.3)\n",
            "  • Installing pluggy (1.0.0)\n",
            "  • Installing protobuf (3.19.4)\n",
            "  • Installing py (1.11.0)\n",
            "  • Installing python-dateutil (2.8.2)\n",
            "  • Installing pyopenssl (22.0.0)\n",
            "  • Installing pytz (2021.3)\n",
            "  • Installing pywavelets (1.2.0)\n",
            "  • Installing retry-decorator (1.1.1)\n",
            "  • Installing sacremoses (0.0.47)\n",
            "  • Installing scipy (1.7.3)\n",
            "  • Installing setuptools-scm (6.4.2)\n",
            "  • Installing spacy-lookups-data (0.3.2)\n",
            "  • Installing tenacity (8.0.1)\n",
            "  • Installing tensorboard-data-server (0.6.1)\n",
            "  • Installing tensorboard-plugin-wit (1.8.1)\n",
            "  • Installing thinc (7.4.5)\n",
            "  • Installing threadpoolctl (3.1.0)\n",
            "  • Installing tifffile (2021.11.2)\n",
            "  • Installing tokenizers (0.11.4)\n",
            "  • Installing toml (0.10.2)\n",
            "  • Installing werkzeug (2.0.2)\n",
            "  • Installing appdirs (1.4.4)\n",
            "  • Installing argcomplete (2.0.0)\n",
            "  • Installing astunparse (1.6.3)\n",
            "  • Installing cloudpickle (2.0.0)\n",
            "  • Installing crcmod (1.7)\n",
            "  • Installing dill (0.3.4)\n",
            "  • Installing gast (0.4.0)\n",
            "  • Installing gcs-oauth2-boto-plugin (3.0)\n",
            "  • Installing google-pasta (0.2.0)\n",
            "  • Installing graphviz (0.19.1)\n",
            "  • Installing h5py (3.6.0)\n",
            "  • Installing flatbuffers (2.0)\n",
            "  • Installing keras-preprocessing (1.1.2)\n",
            "  • Installing keras (2.7.0)\n",
            "  • Installing libclang (13.0.0)\n",
            "  • Installing google-apitools (0.5.32)\n",
            "  • Installing matplotlib (3.5.1)\n",
            "  • Installing monotonic (1.6)\n",
            "  • Installing mypy-extensions (0.4.3)\n",
            "  • Installing numba (0.55.0)\n",
            "  • Installing opt-einsum (3.3.0)\n",
            "  • Installing pandas (1.1.5)\n",
            "  • Installing pathspec (0.9.0)\n",
            "  • Installing plotly (5.5.0)\n",
            "  • Installing ptable (0.9.2)\n",
            "  • Installing pydantic (1.9.0)\n",
            "  • Installing pytest (6.2.5)\n",
            "  • Installing scikit-image (0.19.1)\n",
            "  • Installing scikit-learn (1.0.2)\n",
            "  • Installing slicer (0.0.7)\n",
            "  • Installing spacy (2.3.7)\n",
            "  • Installing starlette (0.17.1)\n",
            "  • Installing tensorboard (2.8.0)\n",
            "  • Installing tensorflow-estimator (2.7.0)\n",
            "  • Installing tensorflow-io-gcs-filesystem (0.23.1)\n",
            "  • Installing termcolor (1.1.0)\n",
            "  • Installing tornado (6.1)\n",
            "  • Installing transformers (4.16.2)\n",
            "  • Installing typed-ast (1.4.3)\n",
            "  • Installing wrapt (1.13.3)\n",
            "  • Installing alibi (0.7.0)\n",
            "  • Installing black (21.7b0)\n",
            "  • Installing catboost (1.0.4)\n",
            "  • Installing fastapi (0.73.0)\n",
            "  • Installing grpcio-tools (1.31.0)\n",
            "  • Installing gsutil (5.5)\n",
            "  • Installing isort (5.9.0)\n",
            "  • Installing lightgbm (3.3.2)\n",
            "  • Installing mypy (0.910)\n",
            "  • Installing mypy-protobuf (1.22)\n",
            "  • Installing pip-licenses (3.5.3)\n",
            "  • Installing pytest-tornasync (0.6.0.post2)\n",
            "  • Installing requests-mock (1.9.3)\n",
            "  • Installing shap (0.40.0 429fb3e)\n",
            "  • Installing tensorflow (2.7.0)\n",
            "  • Installing types-requests (2.26.0)\n",
            "  • Installing xgboost (1.5.2)\n"
          ]
        }
      ],
      "source": [
        "%%bash\n",
        "source ~/miniconda3/etc/profile.d/conda.sh\n",
        "conda activate ./venv\n",
        "poetry install"
      ]
    },
    {
      "cell_type": "markdown",
      "id": "74dc9b79-896c-434e-bed6-ec190fe61a9c",
      "metadata": {},
      "source": [
        "## Prepare Training Script"
      ]
    },
    {
      "cell_type": "code",
      "execution_count": 10,
      "id": "40699b1d-3df2-4a45-b51e-a00ae85fc0e0",
      "metadata": {},
      "outputs": [
        {
          "name": "stdout",
          "output_type": "stream",
          "text": [
            "Overwriting train.py\n"
          ]
        }
      ],
      "source": [
        "%%writefile train.py\n",
        "import numpy as np\n",
        "from sklearn.datasets import load_iris\n",
        "from alibi.explainers import AnchorTabular\n",
        "\n",
        "import requests\n",
        "\n",
        "\n",
        "dataset = load_iris()\n",
        "feature_names = dataset.feature_names\n",
        "iris_data = dataset.data\n",
        "\n",
        "model_url = \"http://localhost:8003/seldon/seldon/iris/api/v1.0/predictions\"\n",
        "\n",
        "\n",
        "def predict_fn(X):\n",
        "    data = {\"data\": {\"ndarray\": X.tolist()}}\n",
        "    r = requests.post(model_url, json={\"data\": {\"ndarray\": [[1, 2, 3, 4]]}})\n",
        "    return np.array(r.json()[\"data\"][\"ndarray\"])\n",
        "\n",
        "\n",
        "explainer = AnchorTabular(predict_fn, feature_names)\n",
        "explainer.fit(iris_data, disc_perc=(25, 50, 75))\n",
        "\n",
        "explainer.save(\"./explainer/\")"
      ]
    },
    {
      "cell_type": "code",
      "execution_count": 11,
      "id": "bf9ba6db-0874-4611-91a6-8ad8cfac7311",
      "metadata": {},
      "outputs": [
        {
          "name": "stderr",
          "output_type": "stream",
          "text": [
            "IPython could not be loaded!\n"
          ]
        }
      ],
      "source": [
        "%%bash\n",
        "unset MPLBACKEND # required as we call the script from Jupyter Lab in this demo\n",
        "./venv/bin/python3 train.py"
      ]
    },
    {
      "cell_type": "code",
      "execution_count": 12,
      "id": "b1e2b313-17bd-4841-a528-0de2e2d229ba",
      "metadata": {},
      "outputs": [
        {
          "name": "stdout",
          "output_type": "stream",
          "text": [
            "\u001b[01;34mexplainer/\u001b[0m\n",
            "├── \u001b[00mexplainer.dill\u001b[0m\n",
            "└── \u001b[00mmeta.dill\u001b[0m\n",
            "\n",
            "0 directories, 2 files\n"
          ]
        }
      ],
      "source": [
        "!tree explainer/"
      ]
    },
    {
      "cell_type": "markdown",
      "id": "3276f55f-5738-4c89-87f0-1e304b1bbeb9",
      "metadata": {},
      "source": [
        "# Save and deploy Explainer"
      ]
    },
    {
      "cell_type": "code",
      "execution_count": 13,
      "id": "daf6ad2b-1bfd-42ab-bc9f-5f950b455252",
      "metadata": {},
      "outputs": [],
      "source": [
        "!rclone --config=\"rclone.conf\" copy explainer/ s3:explainers/iris/"
      ]
    },
    {
      "cell_type": "code",
      "execution_count": 14,
      "id": "367573ff-649f-4dc1-91a5-ecdeffef4157",
      "metadata": {},
      "outputs": [
        {
          "name": "stdout",
          "output_type": "stream",
          "text": [
            "Overwriting iris-with-explainer.yaml\n"
          ]
        }
      ],
      "source": [
        "%%writefile iris-with-explainer.yaml\n",
        "apiVersion: machinelearning.seldon.io/v1alpha2\n",
        "kind: SeldonDeployment\n",
        "metadata:\n",
        "  name: iris\n",
        "spec:\n",
        "  predictors:\n",
        "  - name: default\n",
        "    replicas: 1\n",
        "    graph:\n",
        "      name: classifier\n",
        "      implementation: SKLEARN_SERVER\n",
        "      modelUri: gs://seldon-models/v1.11.0-dev/sklearn/iris\n",
        "    explainer:\n",
        "      type: AnchorTabular\n",
        "      modelUri: s3:explainers/iris/\n",
        "      envSecretRefName: seldon-rclone-secret\n",
        "      replicas: 1            "
      ]
    },
    {
      "cell_type": "code",
      "execution_count": 15,
      "id": "4e5695e9-d7d4-4217-96d2-dea086214f8b",
      "metadata": {},
      "outputs": [
        {
          "name": "stdout",
          "output_type": "stream",
          "text": [
            "seldondeployment.machinelearning.seldon.io/iris configured\n"
          ]
        }
      ],
      "source": [
        "!kubectl apply -f iris-with-explainer.yaml"
      ]
    },
    {
      "cell_type": "code",
      "execution_count": 16,
      "id": "ac97f0df-c9d0-47d5-8e75-12a7548a7ca5",
      "metadata": {},
      "outputs": [
        {
          "name": "stdout",
          "output_type": "stream",
          "text": [
            "Waiting for deployment \"iris-default-0-classifier\" rollout to finish: 1 old replicas are pending termination...\n",
            "Waiting for deployment \"iris-default-0-classifier\" rollout to finish: 1 old replicas are pending termination...\n",
            "deployment \"iris-default-0-classifier\" successfully rolled out\n",
            "deployment \"iris-default-explainer\" successfully rolled out\n"
          ]
        }
      ],
      "source": [
        "!kubectl rollout status deploy/$(kubectl get deploy -l seldon-deployment-id=iris -o jsonpath='{.items[0].metadata.name}')\n",
        "!kubectl rollout status deploy/$(kubectl get deploy -l seldon-deployment-id=iris -o jsonpath='{.items[1].metadata.name}')"
      ]
    },
    {
      "cell_type": "markdown",
      "id": "20366503-eb7d-4c33-b7a2-9d1cd1c7c166",
      "metadata": {},
      "source": [
        "# Test Deployed explainer"
      ]
    },
    {
      "cell_type": "code",
      "execution_count": 17,
      "id": "b5c0965a-0ee1-44f6-9761-92f2af1f1172",
      "metadata": {},
      "outputs": [],
      "source": [
        "import numpy as np\n",
        "import requests"
      ]
    },
    {
      "cell_type": "code",
      "execution_count": 18,
      "id": "6bc0dcb3-d288-443e-8f69-3fced936d3f8",
      "metadata": {},
      "outputs": [],
      "source": [
        "model_url = (\n",
        "    \"http://localhost:8003/seldon/seldon/iris-explainer/default/api/v1.0/explain\"\n",
        ")\n",
        "\n",
        "\n",
        "def explain_fn(X):\n",
        "    data = {\"data\": {\"ndarray\": X.tolist()}}\n",
        "    r = requests.post(model_url, json={\"data\": {\"ndarray\": [[1, 2, 3, 4]]}})\n",
        "    return r.json()"
      ]
    },
    {
      "cell_type": "code",
      "execution_count": 19,
      "id": "ce286c70-2443-48d7-8ea2-88de67ed4c3d",
      "metadata": {},
      "outputs": [],
      "source": [
        "explanation = explain_fn(np.array([[5.964, 4.006, 2.081, 1.031]]))"
      ]
    },
    {
      "cell_type": "code",
      "execution_count": 20,
      "id": "ed3fc211-0acb-4021-a198-dfb4a419fabc",
      "metadata": {},
      "outputs": [
        {
          "name": "stdout",
          "output_type": "stream",
          "text": [
            "Anchor: petal width (cm) > 1.80 AND sepal width (cm) <= 2.80\n",
            "Precision: 0.97\n",
            "Coverage: 0.08\n"
          ]
        }
      ],
      "source": [
        "print(\"Anchor: %s\" % (\" AND \".join(explanation[\"data\"][\"anchor\"])))\n",
        "print(\"Precision: %.2f\" % explanation[\"data\"][\"precision\"])\n",
        "print(\"Coverage: %.2f\" % explanation[\"data\"][\"coverage\"])"
      ]
    }
  ],
  "metadata": {
    "kernelspec": {
      "display_name": "Python 3 (ipykernel)",
      "language": "python",
      "name": "python3"
    },
    "language_info": {
      "codemirror_mode": {
        "name": "ipython",
        "version": 3
      },
      "file_extension": ".py",
      "mimetype": "text/x-python",
      "name": "python",
      "nbconvert_exporter": "python",
      "pygments_lexer": "ipython3",
      "version": "3.8.11"
    }
  },
  "nbformat": 4,
  "nbformat_minor": 5
}
