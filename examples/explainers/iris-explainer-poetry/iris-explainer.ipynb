{
 "cells": [
  {
   "cell_type": "markdown",
   "id": "974d3b79-8f37-446c-9715-50806555b09a",
   "metadata": {},
   "source": [
    "# Explainer for Iris model with Poetry-defined Environment\n",
    "\n",
    "## Prerequisites\n",
    "\n",
    " * A kubernetes cluster with kubectl configured\n",
    " * poetry\n",
    " * rclone\n",
    " * curl\n",
    "\n",
    "## Setup Seldon Core\n",
    "\n",
    "Use the setup notebook to [Setup Cluster](https://docs.seldon.io/projects/seldon-core/en/latest/examples/seldon_core_setup.html#Setup-Cluster) with [Ambassador Ingress](https://docs.seldon.io/projects/seldon-core/en/latest/examples/seldon_core_setup.html#Ambassador) and [Install Seldon Core](https://docs.seldon.io/projects/seldon-core/en/latest/examples/seldon_core_setup.html#Install-Seldon-Core). Instructions [also online](https://docs.seldon.io/projects/seldon-core/en/latest/examples/seldon_core_setup.html).\n",
    "\n",
    "We will assume that ambassador (or Istio) ingress is port-forwarded to `localhost:8003`\n",
    "\n",
    "## Setup MinIO\n",
    "\n",
    "Use the provided [notebook](https://docs.seldon.io/projects/seldon-core/en/latest/examples/minio_setup.html) to install Minio in your cluster.\n",
    "Instructions [also online](https://docs.seldon.io/projects/seldon-core/en/latest/examples/minio_setup.html).\n",
    "\n",
    "We will assume that MinIO service is port-forwarded to `localhost:8090`"
   ]
  },
  {
   "cell_type": "code",
   "execution_count": 1,
   "id": "3dfd0c1e-2470-41bc-a1bc-d5a8c2ef633c",
   "metadata": {},
   "outputs": [
    {
     "name": "stdout",
     "output_type": "stream",
     "text": [
      "Overwriting rclone.conf\n"
     ]
    }
   ],
   "source": [
    "%%writefile rclone.conf\n",
    "[s3]\n",
    "type = s3\n",
    "provider = minio\n",
    "env_auth = false\n",
    "access_key_id = minioadmin\n",
    "secret_access_key = minioadmin\n",
    "endpoint = http://localhost:8090"
   ]
  },
  {
   "cell_type": "code",
   "execution_count": 2,
   "id": "5719dad8-1b7c-4885-ba9a-1972905450bd",
   "metadata": {},
   "outputs": [
    {
     "name": "stdout",
     "output_type": "stream",
     "text": [
      "Overwriting secret.yaml\n"
     ]
    }
   ],
   "source": [
    "%%writefile secret.yaml\n",
    "apiVersion: v1\n",
    "kind: Secret\n",
    "metadata:\n",
    "  name: seldon-rclone-secret\n",
    "type: Opaque\n",
    "stringData:\n",
    "  RCLONE_CONFIG_S3_TYPE: s3\n",
    "  RCLONE_CONFIG_S3_PROVIDER: minio\n",
    "  RCLONE_CONFIG_S3_ENV_AUTH: \"false\"\n",
    "  RCLONE_CONFIG_S3_ACCESS_KEY_ID: minioadmin\n",
    "  RCLONE_CONFIG_S3_SECRET_ACCESS_KEY: minioadmin\n",
    "  RCLONE_CONFIG_S3_ENDPOINT: http://minio.minio-system.svc.cluster.local:9000"
   ]
  },
  {
   "cell_type": "code",
   "execution_count": 3,
   "id": "a21e62d8-d9a6-450b-afc0-9952a8c7771a",
   "metadata": {},
   "outputs": [
    {
     "name": "stdout",
     "output_type": "stream",
     "text": [
      "secret/seldon-rclone-secret configured\n"
     ]
    }
   ],
   "source": [
    "!kubectl apply -f secret.yaml"
   ]
  },
  {
   "cell_type": "markdown",
   "id": "1362cfa3-2652-4fa4-879d-775984f92c4e",
   "metadata": {},
   "source": [
    "## Poetry\n",
    "\n",
    "We will use `poetry.lock` to fully define the explainer environment. Install poetry following official [documentation](https://python-poetry.org/docs/#installation). Usually this goes down to\n",
    "```bash\n",
    "curl -sSL https://raw.githubusercontent.com/python-poetry/poetry/master/get-poetry.py | python3 -\n",
    "```"
   ]
  },
  {
   "cell_type": "markdown",
   "id": "4a334313-42e4-465b-bafc-47242a4d2d0b",
   "metadata": {},
   "source": [
    "# Deploy Iris Model"
   ]
  },
  {
   "cell_type": "code",
   "execution_count": 4,
   "id": "a3f4de77-e8d5-4c7a-9b76-e00b45f8ecb0",
   "metadata": {},
   "outputs": [
    {
     "name": "stdout",
     "output_type": "stream",
     "text": [
      "Overwriting iris.yaml\n"
     ]
    }
   ],
   "source": [
    "%%writefile iris.yaml\n",
    "apiVersion: machinelearning.seldon.io/v1alpha2\n",
    "kind: SeldonDeployment\n",
    "metadata:\n",
    "  name: iris\n",
    "spec:\n",
    "  predictors:\n",
    "  - name: default\n",
    "    replicas: 1\n",
    "    graph:\n",
    "      name: classifier\n",
    "      implementation: SKLEARN_SERVER\n",
    "      modelUri: gs://seldon-models/v1.11.0-dev/sklearn/iris"
   ]
  },
  {
   "cell_type": "code",
   "execution_count": 5,
   "id": "6148e333-ce89-4146-9a33-ae9971e7dc6a",
   "metadata": {},
   "outputs": [
    {
     "name": "stdout",
     "output_type": "stream",
     "text": [
      "seldondeployment.machinelearning.seldon.io/iris configured\n"
     ]
    }
   ],
   "source": [
    "!kubectl apply -f iris.yaml"
   ]
  },
  {
   "cell_type": "code",
   "execution_count": 6,
   "id": "f74d8f49-9ba1-4739-85f0-33da5244447a",
   "metadata": {},
   "outputs": [
    {
     "name": "stdout",
     "output_type": "stream",
     "text": [
      "deployment \"iris-default-0-classifier\" successfully rolled out\n"
     ]
    }
   ],
   "source": [
    "!kubectl rollout status deploy/$(kubectl get deploy -l seldon-deployment-id=iris -o jsonpath='{.items[0].metadata.name}')"
   ]
  },
  {
   "cell_type": "code",
   "execution_count": 7,
   "id": "60842788-2dfb-41e7-ae91-7d1a43343144",
   "metadata": {},
   "outputs": [
    {
     "name": "stdout",
     "output_type": "stream",
     "text": [
      "{\n",
      "  \"data\": {\n",
      "    \"names\": [\n",
      "      \"t:0\",\n",
      "      \"t:1\",\n",
      "      \"t:2\"\n",
      "    ],\n",
      "    \"ndarray\": [\n",
      "      [\n",
      "        0.9548873249364059,\n",
      "        0.04505474761562512,\n",
      "        5.7927447968953825e-05\n",
      "      ]\n",
      "    ]\n",
      "  },\n",
      "  \"meta\": {\n",
      "    \"requestPath\": {\n",
      "      \"classifier\": \"seldonio/sklearnserver:1.12.0-dev\"\n",
      "    }\n",
      "  }\n",
      "}\n"
     ]
    }
   ],
   "source": [
    "%%bash\n",
    "curl -s -X POST -H 'Content-Type: application/json' \\\n",
    "    -d '{\"data\":{\"ndarray\":[[5.964, 4.006, 2.081, 1.031]]}}' \\\n",
    "    http://localhost:8003/seldon/seldon/iris/api/v1.0/predictions  | jq ."
   ]
  },
  {
   "cell_type": "markdown",
   "id": "96bea1d0-7ab2-45a2-8ade-4dad47302a78",
   "metadata": {},
   "source": [
    "# Train Explainer"
   ]
  },
  {
   "cell_type": "markdown",
   "id": "63d3c13d-2734-44ae-87e2-3da7a6fbca1a",
   "metadata": {},
   "source": [
    "## Prepare Training Environment\n",
    "\n",
    "We are going to use `pyproject.toml` and `poetry.lock` files from [Alibi Explain Server](https://github.com/SeldonIO/seldon-core/tree/master/components/alibi-explain-server). This will allow us to create environment that will match the runtime one."
   ]
  },
  {
   "cell_type": "code",
   "execution_count": 20,
   "id": "6a6b7e4c-2b8c-4b0f-a5b7-93ca3792702a",
   "metadata": {},
   "outputs": [
    {
     "name": "stdout",
     "output_type": "stream",
     "text": [
      "Collecting package metadata (current_repodata.json): ...working... done\n",
      "Solving environment: ...working... done\n",
      "\n",
      "## Package Plan ##\n",
      "\n",
      "  environment location: /home/rskolasinski/work/seldon-core/examples/explainers/iris-explainer-poetry/venv\n",
      "\n",
      "  added / updated specs:\n",
      "    - conda-ecosystem-user-package-isolation\n",
      "    - python=3.7.10\n",
      "\n",
      "\n",
      "The following packages will be downloaded:\n",
      "\n",
      "    package                    |            build\n",
      "    ---------------------------|-----------------\n",
      "    libzlib-1.2.11             |    h36c2ea0_1013          59 KB  conda-forge\n",
      "    zlib-1.2.11                |    h36c2ea0_1013          86 KB  conda-forge\n",
      "    ------------------------------------------------------------\n",
      "                                           Total:         145 KB\n",
      "\n",
      "The following NEW packages will be INSTALLED:\n",
      "\n",
      "  _libgcc_mutex      conda-forge/linux-64::_libgcc_mutex-0.1-conda_forge\n",
      "  _openmp_mutex      conda-forge/linux-64::_openmp_mutex-4.5-1_gnu\n",
      "  ca-certificates    conda-forge/linux-64::ca-certificates-2021.5.30-ha878542_0\n",
      "  conda-ecosystem-u~ conda-forge/linux-64::conda-ecosystem-user-package-isolation-1.0-0\n",
      "  ld_impl_linux-64   conda-forge/linux-64::ld_impl_linux-64-2.36.1-hea4e1c9_2\n",
      "  libffi             conda-forge/linux-64::libffi-3.4.2-h9c3ff4c_4\n",
      "  libgcc-ng          conda-forge/linux-64::libgcc-ng-11.2.0-h1d223b6_9\n",
      "  libgomp            conda-forge/linux-64::libgomp-11.2.0-h1d223b6_9\n",
      "  libstdcxx-ng       conda-forge/linux-64::libstdcxx-ng-11.2.0-he4da1e4_9\n",
      "  libzlib            conda-forge/linux-64::libzlib-1.2.11-h36c2ea0_1013\n",
      "  ncurses            conda-forge/linux-64::ncurses-6.2-h58526e2_4\n",
      "  openssl            conda-forge/linux-64::openssl-1.1.1l-h7f98852_0\n",
      "  pip                conda-forge/noarch::pip-21.2.4-pyhd8ed1ab_0\n",
      "  python             conda-forge/linux-64::python-3.7.10-hb7a2778_101_cpython\n",
      "  python_abi         conda-forge/linux-64::python_abi-3.7-2_cp37m\n",
      "  readline           conda-forge/linux-64::readline-8.1-h46c0cb4_0\n",
      "  setuptools         conda-forge/linux-64::setuptools-58.0.4-py37h89c1867_2\n",
      "  sqlite             conda-forge/linux-64::sqlite-3.36.0-h9cd32fc_2\n",
      "  tk                 conda-forge/linux-64::tk-8.6.11-h27826a3_1\n",
      "  wheel              conda-forge/noarch::wheel-0.37.0-pyhd8ed1ab_1\n",
      "  xz                 conda-forge/linux-64::xz-5.2.5-h516909a_1\n",
      "  zlib               conda-forge/linux-64::zlib-1.2.11-h36c2ea0_1013\n",
      "\n",
      "\n",
      "\n",
      "Downloading and Extracting Packages\n",
      "libzlib-1.2.11       | 59 KB     | ########## | 100% \n",
      "zlib-1.2.11          | 86 KB     | ########## | 100% \n",
      "Preparing transaction: ...working... done\n",
      "Verifying transaction: ...working... done\n",
      "Executing transaction: ...working... done\n",
      "#\n",
      "# To activate this environment, use\n",
      "#\n",
      "#     $ conda activate /home/rskolasinski/work/seldon-core/examples/explainers/iris-explainer-poetry/venv\n",
      "#\n",
      "# To deactivate an active environment, use\n",
      "#\n",
      "#     $ conda deactivate\n",
      "\n"
     ]
    }
   ],
   "source": [
    "%%bash\n",
    "cp ../../../components/alibi-explain-server/pyproject.toml .\n",
    "cp ../../../components/alibi-explain-server/poetry.lock .\n",
    "\n",
    "conda create --yes --prefix ./venv python=3.7.10"
   ]
  },
  {
   "cell_type": "code",
   "execution_count": 28,
   "id": "5322313e-9c80-477b-8b66-b873a6eb3124",
   "metadata": {},
   "outputs": [
    {
     "name": "stdout",
     "output_type": "stream",
     "text": [
      "Installing dependencies from lock file\n",
      "\n",
      "Package operations: 150 installs, 0 updates, 0 removals\n",
      "\n",
      "  • Installing certifi (2021.5.30)\n",
      "  • Installing charset-normalizer (2.0.6)\n",
      "  • Installing idna (3.2)\n",
      "  • Installing pyasn1 (0.4.8)\n",
      "  • Installing typing-extensions (3.7.4.3)\n",
      "  • Installing urllib3 (1.26.7)\n",
      "  • Installing zipp (3.6.0)\n",
      "  • Installing cachetools (4.2.4)\n",
      "  • Installing importlib-metadata (4.8.1)\n",
      "  • Installing oauthlib (3.1.1)\n",
      "  • Installing protobuf (3.18.0)\n",
      "  • Installing pyasn1-modules (0.2.8)\n",
      "  • Installing pycparser (2.20)\n",
      "  • Installing requests (2.26.0)\n",
      "  • Installing rsa (4.7.2)\n",
      "  • Installing six (1.15.0)\n",
      "  • Installing sniffio (1.2.0)\n",
      "  • Installing anyio (3.3.2)\n",
      "  • Installing catalogue (2.0.6)\n",
      "  • Installing cffi (1.14.6)\n",
      "  • Installing click (8.0.1)\n",
      "  • Installing cymem (2.0.5)\n",
      "  • Installing google-auth (1.35.0)\n",
      "  • Installing googleapis-common-protos (1.53.0)\n",
      "  • Installing jmespath (0.10.0)\n",
      "  • Installing murmurhash (1.0.5)\n",
      "  • Installing numpy (1.19.5)\n",
      "  • Installing pyparsing (2.4.7)\n",
      "  • Installing python-dateutil (2.8.2)\n",
      "  • Installing requests-oauthlib (1.3.0)\n",
      "  • Installing absl-py (0.14.0)\n",
      "  • Installing asgiref (3.4.1)\n",
      "  • Installing azure-common (1.1.27)\n",
      "  • Installing blis (0.7.4)\n",
      "  • Installing botocore (1.21.51)\n",
      "  • Installing cached-property (1.5.2)\n",
      "  • Installing cryptography (35.0.0)\n",
      "  • Installing cycler (0.10.0)\n",
      "  • Installing filelock (3.2.0)\n",
      "  • Installing google-auth-oauthlib (0.4.6)\n",
      "  • Installing google-crc32c (1.2.0)\n",
      "  • Installing h11 (0.12.0)\n",
      "  • Installing kiwisolver (1.3.2)\n",
      "  • Installing grpcio (1.34.1)\n",
      "  • Installing google-api-core (2.0.1)\n",
      "  • Installing joblib (1.0.1)\n",
      "  • Installing markdown (3.3.4)\n",
      "  • Installing markupsafe (2.0.1)\n",
      "  • Installing packaging (21.0)\n",
      "  • Installing pillow (8.3.2)\n",
      "  • Installing preshed (3.0.5)\n",
      "  • Installing pydantic (1.8.2)\n",
      "  • Installing regex (2021.9.24)\n",
      "  • Installing smart-open (5.2.1)\n",
      "  • Installing srsly (2.4.1)\n",
      "  • Installing starlette (0.16.0)\n",
      "  • Installing tensorboard-data-server (0.6.1)\n",
      "  • Installing tensorboard-plugin-wit (1.8.0)\n",
      "  • Installing tqdm (4.62.3)\n",
      "  • Installing typer (0.4.0)\n",
      "  • Installing wasabi (0.8.2)\n",
      "  • Installing werkzeug (2.0.1)\n",
      "  • Installing astunparse (1.6.3)\n",
      "  • Installing attrs (21.2.0)\n",
      "  • Installing azure-storage-common (2.1.0)\n",
      "  • Installing configparser (5.0.2)\n",
      "  • Installing deprecation (2.1.0)\n",
      "  • Installing fastapi (0.1.17)\n",
      "  • Installing gast (0.4.0)\n",
      "  • Installing google-pasta (0.2.0)\n",
      "  • Installing h5py (3.1.0)\n",
      "  • Installing flatbuffers (1.12)\n",
      "  • Installing google-cloud-core (2.0.0)\n",
      "  • Installing iniconfig (1.1.1)\n",
      "  • Installing huggingface-hub (0.0.17)\n",
      "  • Installing google-resumable-media (2.0.3)\n",
      "  • Installing imageio (2.9.0)\n",
      "  • Installing jinja2 (3.0.1)\n",
      "  • Installing keras-nightly (2.5.0.dev2021032900)\n",
      "  • Installing keras-preprocessing (1.1.2)\n",
      "  • Installing llvmlite (0.34.0)\n",
      "  • Installing matplotlib (3.4.3)\n",
      "  • Installing msgpack (1.0.2)\n",
      "  • Installing networkx (2.6.3)\n",
      "  • Installing opt-einsum (3.3.0)\n",
      "  • Installing pathy (0.6.0)\n",
      "  • Installing pluggy (1.0.0)\n",
      "  • Installing py (1.10.0)\n",
      "  • Installing pyjwt (2.1.0)\n",
      "  • Installing pytz (2021.1)\n",
      "  • Installing pywavelets (1.1.1)\n",
      "  • Installing pyyaml (5.4.1)\n",
      "  • Installing redis (3.5.3)\n",
      "  • Installing s3transfer (0.5.0)\n",
      "  • Installing sacremoses (0.0.46)\n",
      "  • Installing scipy (1.6.1)\n",
      "  • Installing spacy-legacy (3.0.8)\n",
      "  • Installing spacy-lookups-data (1.0.2)\n",
      "  • Installing tenacity (8.0.1)\n",
      "  • Installing tensorboard (2.6.0)\n",
      "  • Installing tensorflow-estimator (2.5.0)\n",
      "  • Installing termcolor (1.1.0)\n",
      "  • Installing thinc (8.0.10)\n",
      "  • Installing threadpoolctl (2.2.0)\n",
      "  • Installing tifffile (2021.8.30)\n",
      "  • Installing tokenizers (0.10.3)\n",
      "  • Installing toml (0.10.2)\n",
      "  • Installing uvicorn (0.15.0)\n",
      "  • Installing websocket-client (1.2.1)\n",
      "  • Installing wrapt (1.12.1)\n",
      "  • Installing adal (1.2.7)\n",
      "  • Installing argparse (1.4.0)\n",
      "  • Installing avro (1.10.2)\n",
      "  • Installing azure-storage-blob (2.1.0)\n",
      "  • Installing boto3 (1.18.51)\n",
      "  • Installing cloudevents (1.2.0)\n",
      "  • Installing cloudpickle (2.0.0)\n",
      "  • Installing dill (0.3.4)\n",
      "  • Installing google-cloud-storage (1.42.2)\n",
      "  • Installing graphviz (0.17)\n",
      "  • Installing kubernetes (18.20.0)\n",
      "  • Installing minio (6.0.2)\n",
      "  • Installing mypy-extensions (0.4.3)\n",
      "  • Installing numba (0.51.2)\n",
      "  • Installing pandas (1.1.5)\n",
      "  • Installing plotly (5.3.1)\n",
      "  • Installing psutil (5.8.0)\n",
      "  • Installing ptable (0.9.2)\n",
      "  • Installing pytest (6.2.5)\n",
      "  • Installing ray (1.6.0)\n",
      "  • Installing scikit-image (0.18.3)\n",
      "  • Installing scikit-learn (0.24.2)\n",
      "  • Installing slicer (0.0.7)\n",
      "  • Installing spacy (3.1.3)\n",
      "  • Installing table-logger (0.3.6)\n",
      "  • Installing tensorflow (2.5.1)\n",
      "  • Installing tornado (6.1)\n",
      "  • Installing transformers (4.11.1)\n",
      "  • Installing typed-ast (1.4.3)\n",
      "  • Installing alibi (0.6.0)\n",
      "  • Installing catboost (0.24.4)\n",
      "  • Installing grpcio-tools (1.31.0)\n",
      "  • Installing kfserving (0.6.1)\n",
      "  • Installing lightgbm (3.1.1)\n",
      "  • Installing mypy-protobuf (1.22)\n",
      "  • Installing mypy (0.910)\n",
      "  • Installing pytest-tornasync (0.6.0.post2)\n",
      "  • Installing xgboost (1.4.2)\n",
      "  • Installing pip-licenses (3.5.2)\n",
      "  • Installing shap (0.39.0 765c714)\n"
     ]
    }
   ],
   "source": [
    "%%bash\n",
    "source ~/miniconda3/etc/profile.d/conda.sh\n",
    "conda activate ./venv\n",
    "poetry install"
   ]
  },
  {
   "cell_type": "markdown",
   "id": "74dc9b79-896c-434e-bed6-ec190fe61a9c",
   "metadata": {},
   "source": [
    "## Prepare Training Script"
   ]
  },
  {
   "cell_type": "code",
   "execution_count": 33,
   "id": "40699b1d-3df2-4a45-b51e-a00ae85fc0e0",
   "metadata": {},
   "outputs": [
    {
     "name": "stdout",
     "output_type": "stream",
     "text": [
      "Overwriting train.py\n"
     ]
    }
   ],
   "source": [
    "%%writefile train.py\n",
    "import numpy as np\n",
    "from sklearn.datasets import load_iris\n",
    "from alibi.explainers import AnchorTabular\n",
    "\n",
    "import requests\n",
    "\n",
    "\n",
    "dataset = load_iris()\n",
    "feature_names = dataset.feature_names\n",
    "iris_data = dataset.data\n",
    "\n",
    "model_url = \"http://localhost:8003/seldon/seldon/iris/api/v1.0/predictions\"\n",
    "\n",
    "\n",
    "def predict_fn(X):\n",
    "    data = {\"data\": {\"ndarray\": X.tolist()}}\n",
    "    r = requests.post(model_url, json={\"data\": {\"ndarray\": [[1, 2, 3, 4]]}})\n",
    "    return np.array(r.json()[\"data\"][\"ndarray\"])\n",
    "\n",
    "\n",
    "explainer = AnchorTabular(predict_fn, feature_names)\n",
    "explainer.fit(iris_data, disc_perc=(25, 50, 75))\n",
    "\n",
    "explainer.save(\"./explainer/\")"
   ]
  },
  {
   "cell_type": "code",
   "execution_count": 34,
   "id": "bf9ba6db-0874-4611-91a6-8ad8cfac7311",
   "metadata": {},
   "outputs": [
    {
     "name": "stdout",
     "output_type": "stream",
     "text": [
      "2021-10-05 15:51:48.007726: I tensorflow/stream_executor/platform/default/dso_loader.cc:53] Successfully opened dynamic library libcudart.so.11.0\n",
      "\u001b[0m"
     ]
    }
   ],
   "source": [
    "!./venv/bin/python3 train.py"
   ]
  },
  {
   "cell_type": "code",
   "execution_count": 1,
   "id": "b1e2b313-17bd-4841-a528-0de2e2d229ba",
   "metadata": {},
   "outputs": [
    {
     "name": "stdout",
     "output_type": "stream",
     "text": [
      "\u001b[01;34mexplainer/\u001b[00m\n",
      "├── explainer.dill\n",
      "└── meta.dill\n",
      "\n",
      "0 directories, 2 files\n"
     ]
    }
   ],
   "source": [
    "!tree explainer/"
   ]
  },
  {
   "cell_type": "markdown",
   "id": "3276f55f-5738-4c89-87f0-1e304b1bbeb9",
   "metadata": {},
   "source": [
    "# Save and deploy Explainer"
   ]
  },
  {
   "cell_type": "code",
   "execution_count": 35,
   "id": "daf6ad2b-1bfd-42ab-bc9f-5f950b455252",
   "metadata": {},
   "outputs": [],
   "source": [
    "!rclone --config=\"rclone.conf\" copy explainer/ s3:explainers/iris/"
   ]
  },
  {
   "cell_type": "code",
   "execution_count": 49,
   "id": "367573ff-649f-4dc1-91a5-ecdeffef4157",
   "metadata": {},
   "outputs": [
    {
     "name": "stdout",
     "output_type": "stream",
     "text": [
      "Overwriting iris-with-explainer.yaml\n"
     ]
    }
   ],
   "source": [
    "%%writefile iris-with-explainer.yaml\n",
    "apiVersion: machinelearning.seldon.io/v1alpha2\n",
    "kind: SeldonDeployment\n",
    "metadata:\n",
    "  name: iris\n",
    "spec:\n",
    "  predictors:\n",
    "  - name: default\n",
    "    replicas: 1\n",
    "    graph:\n",
    "      name: classifier\n",
    "      implementation: SKLEARN_SERVER\n",
    "      modelUri: gs://seldon-models/v1.11.0-dev/sklearn/iris\n",
    "    explainer:\n",
    "      type: AnchorTabular\n",
    "      modelUri: s3:explainers/iris/\n",
    "      envSecretRefName: seldon-rclone-secret\n",
    "      replicas: 1            "
   ]
  },
  {
   "cell_type": "code",
   "execution_count": 50,
   "id": "4e5695e9-d7d4-4217-96d2-dea086214f8b",
   "metadata": {},
   "outputs": [
    {
     "name": "stdout",
     "output_type": "stream",
     "text": [
      "seldondeployment.machinelearning.seldon.io/iris unchanged\n"
     ]
    }
   ],
   "source": [
    "!kubectl apply -f iris-with-explainer.yaml"
   ]
  },
  {
   "cell_type": "markdown",
   "id": "20366503-eb7d-4c33-b7a2-9d1cd1c7c166",
   "metadata": {},
   "source": [
    "# Test Deployed explainer"
   ]
  },
  {
   "cell_type": "code",
   "execution_count": 51,
   "id": "b5c0965a-0ee1-44f6-9761-92f2af1f1172",
   "metadata": {},
   "outputs": [],
   "source": [
    "import numpy as np\n",
    "import requests"
   ]
  },
  {
   "cell_type": "code",
   "execution_count": 52,
   "id": "6bc0dcb3-d288-443e-8f69-3fced936d3f8",
   "metadata": {},
   "outputs": [],
   "source": [
    "model_url = (\n",
    "    \"http://localhost:8003/seldon/seldon/iris-explainer/default/api/v1.0/explain\"\n",
    ")\n",
    "\n",
    "\n",
    "def explain_fn(X):\n",
    "    data = {\"data\": {\"ndarray\": X.tolist()}}\n",
    "    r = requests.post(model_url, json={\"data\": {\"ndarray\": [[1, 2, 3, 4]]}})\n",
    "    return r.json()"
   ]
  },
  {
   "cell_type": "code",
   "execution_count": 53,
   "id": "ce286c70-2443-48d7-8ea2-88de67ed4c3d",
   "metadata": {},
   "outputs": [],
   "source": [
    "explanation = explain_fn(np.array([[5.964, 4.006, 2.081, 1.031]]))"
   ]
  },
  {
   "cell_type": "code",
   "execution_count": 54,
   "id": "ed3fc211-0acb-4021-a198-dfb4a419fabc",
   "metadata": {},
   "outputs": [
    {
     "name": "stdout",
     "output_type": "stream",
     "text": [
      "Anchor: petal width (cm) > 1.80 AND sepal width (cm) <= 2.80\n",
      "Precision: 0.99\n",
      "Coverage: 0.08\n"
     ]
    }
   ],
   "source": [
    "print(\"Anchor: %s\" % (\" AND \".join(explanation[\"data\"][\"anchor\"])))\n",
    "print(\"Precision: %.2f\" % explanation[\"data\"][\"precision\"])\n",
    "print(\"Coverage: %.2f\" % explanation[\"data\"][\"coverage\"])"
   ]
  }
 ],
 "metadata": {
  "kernelspec": {
   "display_name": "alibiexplainer",
   "language": "python",
   "name": "alibiexplainer"
  },
  "language_info": {
   "codemirror_mode": {
    "name": "ipython",
    "version": 3
   },
   "file_extension": ".py",
   "mimetype": "text/x-python",
   "name": "python",
   "nbconvert_exporter": "python",
   "pygments_lexer": "ipython3",
   "version": "3.7.10"
  }
 },
 "nbformat": 4,
 "nbformat_minor": 5
}
