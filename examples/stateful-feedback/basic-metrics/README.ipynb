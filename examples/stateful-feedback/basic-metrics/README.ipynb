{
 "cells": [
  {
   "cell_type": "markdown",
   "metadata": {},
   "source": [
    "## Stateful Basic Model Feedback Metrics \n",
    "\n",
    "![](img/diagram.jpg)\n",
    "\n",
    "### Setup dependencies\n",
    "* Istio\n",
    "* Seldon Core (with Istio + Req Logger)\n",
    "* Elasticsearch\n",
    "* Knative eventing\n",
    "* Request logger\n",
    "* Model with request logger"
   ]
  },
  {
   "cell_type": "markdown",
   "metadata": {},
   "source": [
    "#### Istio"
   ]
  },
  {
   "cell_type": "code",
   "execution_count": 4,
   "metadata": {},
   "outputs": [
    {
     "name": "stdout",
     "output_type": "stream",
     "text": [
      "Detected that your cluster does not support third party JWT authentication. Falling back to less secure first party JWT. See https://istio.io/docs/ops/best-practices/security/#configure-third-party-service-account-tokens for details.\n",
      "\u001b[32m✔\u001b[0m Istio core installed                                                          \n",
      "\u001b[32m✔\u001b[0m Istiod installed                                                              \n",
      "\u001b[32m✔\u001b[0m Addons installed                                                              \n",
      "\u001b[32m✔\u001b[0m Ingress gateways installed                                                    \n",
      "\u001b[32m✔\u001b[0m Installation complete                                                         "
     ]
    }
   ],
   "source": [
    "!istioctl install -y"
   ]
  },
  {
   "cell_type": "code",
   "execution_count": 3,
   "metadata": {},
   "outputs": [
    {
     "name": "stdout",
     "output_type": "stream",
     "text": [
      "gateway.networking.istio.io/seldon-gateway created\n"
     ]
    }
   ],
   "source": [
    "%%bash\n",
    "kubectl apply -n istio-system -f - << END\n",
    "apiVersion: networking.istio.io/v1alpha3\n",
    "kind: Gateway\n",
    "metadata:\n",
    "  name: seldon-gateway\n",
    "spec:\n",
    "  selector:\n",
    "    istio: ingressgateway # use istio default controller\n",
    "  servers:\n",
    "  - port:\n",
    "      number: 80\n",
    "      name: http\n",
    "      protocol: HTTP\n",
    "    hosts:\n",
    "    - \"*\"\n",
    "END"
   ]
  },
  {
   "cell_type": "markdown",
   "metadata": {},
   "source": [
    "#### Seldon Core"
   ]
  },
  {
   "cell_type": "code",
   "execution_count": 36,
   "metadata": {},
   "outputs": [
    {
     "name": "stdout",
     "output_type": "stream",
     "text": [
      "seldon-system ns exists\n",
      "Release \"seldon-core\" does not exist. Installing it now.\n",
      "NAME: seldon-core\n",
      "LAST DEPLOYED: Sat Jul 11 09:24:28 2020\n",
      "NAMESPACE: seldon-system\n",
      "STATUS: deployed\n",
      "REVISION: 1\n",
      "TEST SUITE: None\n"
     ]
    },
    {
     "name": "stderr",
     "output_type": "stream",
     "text": [
      "Error from server (AlreadyExists): namespaces \"seldon-system\" already exists\n"
     ]
    }
   ],
   "source": [
    "%%bash\n",
    "kubectl create ns seldon-system || echo \"seldon-system ns exists\"\n",
    "\n",
    "helm upgrade --install seldon-core ../../../helm-charts/seldon-core-operator/ \\\n",
    "    --namespace seldon-system \\\n",
    "    --set certmanager.enabled=\"true\" \\\n",
    "    --set istio.enabled=\"true\" \\\n",
    "    --set istio.gateway=\"seldon-gateway.istio-system.svc.cluster.local\" \\\n",
    "    --set executor.requestLogger.defaultEndpoint=\"http://default-broker.seldon-logs.svc.cluster.local\""
   ]
  },
  {
   "cell_type": "code",
   "execution_count": 7,
   "metadata": {},
   "outputs": [
    {
     "name": "stdout",
     "output_type": "stream",
     "text": [
      "namespace/seldon-logs created\n",
      "Release \"elasticsearch\" does not exist. Installing it now.\n",
      "NAME: elasticsearch\n",
      "LAST DEPLOYED: Sat Jul 11 08:56:31 2020\n",
      "NAMESPACE: seldon-logs\n",
      "STATUS: deployed\n",
      "REVISION: 1\n",
      "NOTES:\n",
      "1. Watch all cluster members come up.\n",
      "  $ kubectl get pods --namespace=seldon-logs -l app=elasticsearch-master -w\n",
      "2. Test cluster health using Helm test.\n",
      "  $ helm test elasticsearch\n"
     ]
    }
   ],
   "source": [
    "%%bash\n",
    "kubectl create ns seldon-logs || echo \"seldon-logs ns exists\"\n",
    "helm upgrade --install elasticsearch elasticsearch \\\n",
    "    --version 7.6.0 \\\n",
    "    --namespace=seldon-logs \\\n",
    "    --set service.type=LoadBalancer \\\n",
    "    --set antiAffinity=\"soft\" \\\n",
    "    --repo https://helm.elastic.co \\\n",
    "    --set image=docker.elastic.co/elasticsearch/elasticsearch-oss"
   ]
  },
  {
   "cell_type": "code",
   "execution_count": 9,
   "metadata": {},
   "outputs": [
    {
     "name": "stdout",
     "output_type": "stream",
     "text": [
      "Waiting for 3 pods to be ready...\n",
      "Waiting for 2 pods to be ready...\n",
      "Waiting for 1 pods to be ready...\n",
      "statefulset rolling update complete 3 pods at revision elasticsearch-master-695c796997...\n"
     ]
    }
   ],
   "source": [
    "!kubectl rollout status statefulset/elasticsearch-master -n seldon-logs"
   ]
  },
  {
   "cell_type": "markdown",
   "metadata": {},
   "source": [
    "#### Knative Eventing"
   ]
  },
  {
   "cell_type": "code",
   "execution_count": 29,
   "metadata": {},
   "outputs": [
    {
     "name": "stdout",
     "output_type": "stream",
     "text": [
      "customresourcedefinition.apiextensions.k8s.io/apiserversources.sources.eventing.knative.dev created\n",
      "customresourcedefinition.apiextensions.k8s.io/brokers.eventing.knative.dev created\n",
      "customresourcedefinition.apiextensions.k8s.io/channels.messaging.knative.dev created\n",
      "customresourcedefinition.apiextensions.k8s.io/containersources.sources.eventing.knative.dev created\n",
      "customresourcedefinition.apiextensions.k8s.io/cronjobsources.sources.eventing.knative.dev created\n",
      "customresourcedefinition.apiextensions.k8s.io/eventtypes.eventing.knative.dev created\n",
      "customresourcedefinition.apiextensions.k8s.io/parallels.flows.knative.dev created\n",
      "customresourcedefinition.apiextensions.k8s.io/sequences.flows.knative.dev created\n",
      "customresourcedefinition.apiextensions.k8s.io/parallels.messaging.knative.dev created\n",
      "customresourcedefinition.apiextensions.k8s.io/sequences.messaging.knative.dev created\n",
      "customresourcedefinition.apiextensions.k8s.io/sinkbindings.sources.eventing.knative.dev created\n",
      "customresourcedefinition.apiextensions.k8s.io/subscriptions.messaging.knative.dev created\n",
      "customresourcedefinition.apiextensions.k8s.io/triggers.eventing.knative.dev created\n",
      "customresourcedefinition.apiextensions.k8s.io/apiserversources.sources.eventing.knative.dev unchanged\n",
      "customresourcedefinition.apiextensions.k8s.io/brokers.eventing.knative.dev unchanged\n",
      "customresourcedefinition.apiextensions.k8s.io/channels.messaging.knative.dev unchanged\n",
      "customresourcedefinition.apiextensions.k8s.io/containersources.sources.eventing.knative.dev unchanged\n",
      "customresourcedefinition.apiextensions.k8s.io/cronjobsources.sources.eventing.knative.dev unchanged\n",
      "customresourcedefinition.apiextensions.k8s.io/eventtypes.eventing.knative.dev unchanged\n",
      "customresourcedefinition.apiextensions.k8s.io/parallels.flows.knative.dev unchanged\n",
      "customresourcedefinition.apiextensions.k8s.io/sequences.flows.knative.dev unchanged\n",
      "customresourcedefinition.apiextensions.k8s.io/parallels.messaging.knative.dev unchanged\n",
      "customresourcedefinition.apiextensions.k8s.io/sequences.messaging.knative.dev unchanged\n",
      "customresourcedefinition.apiextensions.k8s.io/sinkbindings.sources.eventing.knative.dev unchanged\n",
      "customresourcedefinition.apiextensions.k8s.io/subscriptions.messaging.knative.dev unchanged\n",
      "customresourcedefinition.apiextensions.k8s.io/triggers.eventing.knative.dev unchanged\n",
      "namespace/knative-eventing created\n",
      "clusterrole.rbac.authorization.k8s.io/addressable-resolver created\n",
      "clusterrole.rbac.authorization.k8s.io/service-addressable-resolver created\n",
      "clusterrole.rbac.authorization.k8s.io/serving-addressable-resolver created\n",
      "clusterrole.rbac.authorization.k8s.io/channel-addressable-resolver created\n",
      "clusterrole.rbac.authorization.k8s.io/broker-addressable-resolver created\n",
      "clusterrole.rbac.authorization.k8s.io/messaging-addressable-resolver created\n",
      "clusterrole.rbac.authorization.k8s.io/flows-addressable-resolver created\n",
      "clusterrole.rbac.authorization.k8s.io/eventing-broker-filter created\n",
      "clusterrole.rbac.authorization.k8s.io/eventing-broker-ingress created\n",
      "clusterrole.rbac.authorization.k8s.io/eventing-config-reader created\n",
      "clusterrole.rbac.authorization.k8s.io/channelable-manipulator created\n",
      "clusterrole.rbac.authorization.k8s.io/knative-eventing-namespaced-admin created\n",
      "clusterrole.rbac.authorization.k8s.io/knative-messaging-namespaced-admin created\n",
      "clusterrole.rbac.authorization.k8s.io/knative-eventing-sources-namespaced-admin created\n",
      "clusterrole.rbac.authorization.k8s.io/knative-eventing-namespaced-edit created\n",
      "clusterrole.rbac.authorization.k8s.io/knative-eventing-namespaced-view created\n",
      "clusterrole.rbac.authorization.k8s.io/knative-eventing-controller created\n",
      "clusterrole.rbac.authorization.k8s.io/podspecable-binding created\n",
      "clusterrole.rbac.authorization.k8s.io/builtin-podspecable-binding created\n",
      "serviceaccount/eventing-controller created\n",
      "serviceaccount/eventing-webhook created\n",
      "serviceaccount/eventing-source-controller created\n",
      "clusterrole.rbac.authorization.k8s.io/source-observer created\n",
      "clusterrole.rbac.authorization.k8s.io/eventing-sources-source-observer created\n",
      "clusterrole.rbac.authorization.k8s.io/knative-eventing-source-controller created\n",
      "clusterrole.rbac.authorization.k8s.io/knative-eventing-webhook created\n",
      "clusterrolebinding.rbac.authorization.k8s.io/eventing-controller created\n",
      "clusterrolebinding.rbac.authorization.k8s.io/eventing-controller-resolver created\n",
      "clusterrolebinding.rbac.authorization.k8s.io/eventing-controller-source-observer created\n",
      "clusterrolebinding.rbac.authorization.k8s.io/eventing-controller-manipulator created\n",
      "clusterrolebinding.rbac.authorization.k8s.io/eventing-webhook created\n",
      "clusterrolebinding.rbac.authorization.k8s.io/eventing-source-controller created\n",
      "clusterrolebinding.rbac.authorization.k8s.io/eventing-source-controller-resolver created\n",
      "clusterrolebinding.rbac.authorization.k8s.io/eventing-webhook-resolver created\n",
      "clusterrolebinding.rbac.authorization.k8s.io/eventing-webhook-podspecable-binding created\n",
      "customresourcedefinition.apiextensions.k8s.io/apiserversources.sources.eventing.knative.dev unchanged\n",
      "customresourcedefinition.apiextensions.k8s.io/brokers.eventing.knative.dev unchanged\n",
      "customresourcedefinition.apiextensions.k8s.io/channels.messaging.knative.dev unchanged\n",
      "customresourcedefinition.apiextensions.k8s.io/containersources.sources.eventing.knative.dev unchanged\n",
      "customresourcedefinition.apiextensions.k8s.io/cronjobsources.sources.eventing.knative.dev unchanged\n",
      "customresourcedefinition.apiextensions.k8s.io/eventtypes.eventing.knative.dev unchanged\n",
      "customresourcedefinition.apiextensions.k8s.io/parallels.flows.knative.dev unchanged\n",
      "customresourcedefinition.apiextensions.k8s.io/sequences.flows.knative.dev unchanged\n",
      "customresourcedefinition.apiextensions.k8s.io/parallels.messaging.knative.dev unchanged\n",
      "customresourcedefinition.apiextensions.k8s.io/sequences.messaging.knative.dev unchanged\n",
      "customresourcedefinition.apiextensions.k8s.io/sinkbindings.sources.eventing.knative.dev unchanged\n",
      "customresourcedefinition.apiextensions.k8s.io/subscriptions.messaging.knative.dev unchanged\n",
      "customresourcedefinition.apiextensions.k8s.io/triggers.eventing.knative.dev unchanged\n",
      "configmap/default-ch-webhook created\n",
      "service/eventing-webhook created\n",
      "deployment.apps/eventing-controller created\n",
      "deployment.apps/sources-controller created\n",
      "mutatingwebhookconfiguration.admissionregistration.k8s.io/webhook.eventing.knative.dev created\n",
      "validatingwebhookconfiguration.admissionregistration.k8s.io/validation.webhook.eventing.knative.dev created\n",
      "validatingwebhookconfiguration.admissionregistration.k8s.io/config.webhook.eventing.knative.dev created\n",
      "mutatingwebhookconfiguration.admissionregistration.k8s.io/sinkbindings.webhook.sources.knative.dev created\n",
      "secret/eventing-webhook-certs created\n",
      "deployment.apps/eventing-webhook created\n",
      "configmap/config-logging created\n",
      "configmap/config-observability created\n",
      "configmap/config-tracing created\n",
      "Waiting for deployment \"eventing-controller\" rollout to finish: 0 of 1 updated replicas are available...\n",
      "deployment \"eventing-controller\" successfully rolled out\n",
      "clusterrole.rbac.authorization.k8s.io/imc-addressable-resolver created\n",
      "clusterrole.rbac.authorization.k8s.io/imc-channelable-manipulator created\n",
      "clusterrole.rbac.authorization.k8s.io/imc-controller created\n",
      "clusterrole.rbac.authorization.k8s.io/imc-dispatcher created\n",
      "service/imc-dispatcher created\n",
      "serviceaccount/imc-controller created\n",
      "serviceaccount/imc-dispatcher created\n",
      "clusterrolebinding.rbac.authorization.k8s.io/imc-controller created\n",
      "clusterrolebinding.rbac.authorization.k8s.io/imc-dispatcher created\n",
      "customresourcedefinition.apiextensions.k8s.io/inmemorychannels.messaging.knative.dev created\n",
      "deployment.apps/imc-controller created\n",
      "deployment.apps/imc-dispatcher created\n"
     ]
    }
   ],
   "source": [
    "%%bash\n",
    "\n",
    "kubectl apply --selector knative.dev/crd-install=true \\\n",
    "\t--filename https://github.com/knative/eventing/releases/download/v0.11.0/eventing.yaml\n",
    "\n",
    "kubectl apply --selector knative.dev/crd-install=true \\\n",
    "\t--filename https://github.com/knative/eventing/releases/download/v0.11.0/eventing.yaml \n",
    "\n",
    "kubectl apply \\\n",
    "\t--filename https://github.com/knative/eventing/releases/download/v0.11.0/eventing.yaml \n",
    "\n",
    "kubectl rollout status -n knative-eventing deployment/eventing-controller\n",
    "\n",
    "kubectl apply --filename https://github.com/knative/eventing/releases/download/v0.11.0/in-memory-channel.yaml"
   ]
  },
  {
   "cell_type": "code",
   "execution_count": 23,
   "metadata": {},
   "outputs": [
    {
     "name": "stdout",
     "output_type": "stream",
     "text": [
      "NAME                                  READY   STATUS    RESTARTS   AGE\r\n",
      "eventing-controller-d67878576-szkqx   1/1     Running   0          34s\r\n",
      "eventing-webhook-5b45945585-l8xxf     1/1     Running   0          34s\r\n",
      "imc-controller-67b4c9787b-np5cm       1/1     Running   0          30s\r\n",
      "imc-dispatcher-7b57bc9796-b4hpn       1/1     Running   0          30s\r\n",
      "sources-controller-685db898c-t65fl    1/1     Running   0          34s\r\n"
     ]
    }
   ],
   "source": [
    "!kubectl get pods -n knative-eventing"
   ]
  },
  {
   "cell_type": "markdown",
   "metadata": {},
   "source": [
    "#### Create Request Logger in Seldon Logs namespace"
   ]
  },
  {
   "cell_type": "code",
   "execution_count": 31,
   "metadata": {},
   "outputs": [
    {
     "name": "stdout",
     "output_type": "stream",
     "text": [
      "namespace/seldon-logs labeled\r\n"
     ]
    }
   ],
   "source": [
    "!kubectl label namespace seldon-logs knative-eventing-injection=enabled --overwrite=true"
   ]
  },
  {
   "cell_type": "code",
   "execution_count": 32,
   "metadata": {},
   "outputs": [
    {
     "name": "stdout",
     "output_type": "stream",
     "text": [
      "NAME      READY   REASON   URL                                                   AGE\r\n",
      "default   True             http://default-broker.seldon-logs.svc.cluster.local   18s\r\n"
     ]
    }
   ],
   "source": [
    "!kubectl get broker -n seldon-logs "
   ]
  },
  {
   "cell_type": "code",
   "execution_count": 30,
   "metadata": {},
   "outputs": [
    {
     "name": "stdout",
     "output_type": "stream",
     "text": [
      "trigger.eventing.knative.dev/seldon-request-logger-trigger created\n",
      "deployment.apps/seldon-request-logger unchanged\n",
      "service/seldon-request-logger unchanged\n"
     ]
    }
   ],
   "source": [
    "%%bash\n",
    "kubectl apply -f - << END\n",
    "apiVersion: eventing.knative.dev/v1alpha1\n",
    "kind: Trigger\n",
    "metadata:\n",
    " name: seldon-request-logger-trigger\n",
    " namespace: seldon-logs\n",
    "spec:\n",
    " subscriber:\n",
    "   ref:\n",
    "     apiVersion: v1\n",
    "     kind: Service\n",
    "     name: seldon-request-logger\n",
    "END\n",
    "\n",
    "kubectl apply -f - << END\n",
    "apiVersion: apps/v1\n",
    "kind: Deployment\n",
    "metadata:\n",
    " name: seldon-request-logger\n",
    " namespace: seldon-logs\n",
    " labels:\n",
    "   app: seldon-request-logger\n",
    "spec:\n",
    " replicas: 1\n",
    " selector:\n",
    "   matchLabels:\n",
    "     app: seldon-request-logger\n",
    " template:\n",
    "   metadata:\n",
    "     labels:\n",
    "       app: seldon-request-logger\n",
    "   spec:\n",
    "     containers:\n",
    "       - name: user-container\n",
    "         image: docker.io/seldonio/seldon-request-logger:1.2.2-dev\n",
    "         imagePullPolicy: IfNotPresent\n",
    "         env:\n",
    "           - name: ELASTICSEARCH_HOST\n",
    "             value: \"elasticsearch-master.seldon-logs.svc.cluster.local\"\n",
    "           - name: ELASTICSEARCH_PORT\n",
    "             value: \"9200\"\n",
    "END\n",
    "\n",
    "kubectl apply -f - << END\n",
    "apiVersion: v1\n",
    "kind: Service\n",
    "metadata:\n",
    " name: seldon-request-logger\n",
    " namespace: seldon-logs\n",
    "spec:\n",
    " selector:\n",
    "   app: seldon-request-logger\n",
    " ports:\n",
    "   - protocol: TCP\n",
    "     port: 80\n",
    "     targetPort: 8080\n",
    "END"
   ]
  },
  {
   "cell_type": "code",
   "execution_count": 33,
   "metadata": {},
   "outputs": [
    {
     "name": "stdout",
     "output_type": "stream",
     "text": [
      "NAME                            READY   REASON   BROKER    SUBSCRIBER_URI                                                AGE\r\n",
      "seldon-request-logger-trigger   True             default   http://seldon-request-logger.seldon-logs.svc.cluster.local/   2m18s\r\n"
     ]
    }
   ],
   "source": [
    "!kubectl get trigger -n seldon-logs"
   ]
  },
  {
   "cell_type": "code",
   "execution_count": null,
   "metadata": {},
   "outputs": [],
   "source": [
    "#### Deploy model with request logger"
   ]
  },
  {
   "cell_type": "code",
   "execution_count": 54,
   "metadata": {},
   "outputs": [
    {
     "name": "stdout",
     "output_type": "stream",
     "text": [
      "seldon ns exists\n",
      "seldondeployment.machinelearning.seldon.io/sklearn configured\n"
     ]
    },
    {
     "name": "stderr",
     "output_type": "stream",
     "text": [
      "Error from server (AlreadyExists): namespaces \"seldon\" already exists\n"
     ]
    }
   ],
   "source": [
    "%%bash\n",
    "\n",
    "kubectl create ns seldon || echo \"seldon ns exists\"\n",
    "\n",
    "kubectl apply -n seldon -f - << END\n",
    "kind: SeldonDeployment\n",
    "apiVersion: machinelearning.seldon.io/v1\n",
    "metadata:\n",
    "  name: sklearn\n",
    "spec:\n",
    "  annotations:\n",
    "    seldon.io/engine-seldon-log-messages-externally: 'true'\n",
    "  name: sklearn\n",
    "  predictors:\n",
    "  - name: default\n",
    "    graph:\n",
    "      name: irisclassifier-default\n",
    "      implementation: SKLEARN_SERVER\n",
    "      endpoint:\n",
    "        type: REST\n",
    "      modelUri: gs://seldon-models/sklearn/iris\n",
    "      logger:\n",
    "        mode: \"all\"\n",
    "    replicas: 1\n",
    "END"
   ]
  },
  {
   "cell_type": "markdown",
   "metadata": {},
   "source": [
    "## Send Request"
   ]
  },
  {
   "cell_type": "code",
   "execution_count": null,
   "metadata": {},
   "outputs": [],
   "source": [
    "import requests\n",
    "url = \"http://localhost:80/seldon/seldon/sklearn/api/v1.0\""
   ]
  },
  {
   "cell_type": "code",
   "execution_count": 55,
   "metadata": {},
   "outputs": [],
   "source": [
    "pred_req_1 = {\"data\":{\"ndarray\":[[1,2,3,4]]}}\n",
    "pred_resp_1 = requests.post(f\"{url}/predictions\", json=pred_req_1)"
   ]
  },
  {
   "cell_type": "code",
   "execution_count": 56,
   "metadata": {},
   "outputs": [
    {
     "name": "stdout",
     "output_type": "stream",
     "text": [
      "Response ID: b470c0a1-e207-43d4-90d4-db64b879d068\n",
      "{'data': {'names': ['t:0', 't:1', 't:2'], 'ndarray': [[0.0006985194531162841, 0.003668039039435755, 0.9956334415074478]]}, 'meta': {}}\n"
     ]
    }
   ],
   "source": [
    "print(f\"Response ID: {pred_resp_1.headers.get('seldon-puid')}\")\n",
    "print(pred_resp_1.json())"
   ]
  },
  {
   "cell_type": "markdown",
   "metadata": {},
   "source": [
    "### Check request was sent to Elasticsearch"
   ]
  },
  {
   "cell_type": "code",
   "execution_count": 57,
   "metadata": {},
   "outputs": [],
   "source": [
    "from elasticsearch import Elasticsearch\n",
    "es = Elasticsearch(['http://localhost:9200'])"
   ]
  },
  {
   "cell_type": "markdown",
   "metadata": {},
   "source": [
    "See the index that has been created"
   ]
  },
  {
   "cell_type": "code",
   "execution_count": 58,
   "metadata": {},
   "outputs": [
    {
     "data": {
      "text/plain": [
       "{'inference-log-seldon-seldon-sklearn-default': {'aliases': {}}}"
      ]
     },
     "execution_count": 58,
     "metadata": {},
     "output_type": "execute_result"
    }
   ],
   "source": [
    " es.indices.get_alias(\"*\")"
   ]
  },
  {
   "cell_type": "markdown",
   "metadata": {},
   "source": [
    "Check that the index has been created for that request"
   ]
  },
  {
   "cell_type": "code",
   "execution_count": 75,
   "metadata": {},
   "outputs": [
    {
     "name": "stdout",
     "output_type": "stream",
     "text": [
      "Logged Request:\n",
      "{'ce-source': 'http:localhost:8000', 'instance': [1.0, 2.0, 3.0, 4.0], 'payload': {'data': {'ndarray': [[1, 2, 3, 4]]}}, 'dataType': 'tabular', 'elements': {}, 'ce-time': '2020-07-11T08:41:50.378621945Z'}\n",
      "\n",
      "Logged Response:\n",
      "{'payload': {'data': {'names': ['t:0', 't:1', 't:2'], 'ndarray': [[0.0006985194531162841, 0.003668039039435755, 0.9956334415074478]]}, 'meta': {}}, 'dataType': 'tabular', 'elements': {'t:0': [0.0006985194531162841], 't:1': [0.003668039039435755], 't:2': [0.9956334415074478]}, 'instance': [0.0006985194531162841, 0.003668039039435755, 0.9956334415074478], 'names': ['t:0', 't:1', 't:2'], 'ce-time': '2020-07-11T08:41:50.384083245Z', 'ce-source': 'http:localhost:8000'}\n"
     ]
    }
   ],
   "source": [
    "res = es.search(index=\"inference-log-seldon-seldon-sklearn-default\", body={\"query\": {\"match_all\": {}}})\n",
    "print(\"Logged Request:\")\n",
    "print(res[\"hits\"][\"hits\"][0][\"_source\"][\"request\"])\n",
    "print(\"\\nLogged Response:\")\n",
    "print(res[\"hits\"][\"hits\"][0][\"_source\"][\"response\"])"
   ]
  },
  {
   "cell_type": "markdown",
   "metadata": {},
   "source": [
    "### Now we can send feedback \n",
    "\n",
    "For this we can include the reward, which in this case can state whether it's correct or incorrect, together with the truth answer, in case it was incorrect (or to emphasise that it was correct).\n",
    "\n",
    "In order for us to be able to send the feedback to the right request, we need to provide the feedback ID for the request:"
   ]
  },
  {
   "cell_type": "code",
   "execution_count": 79,
   "metadata": {},
   "outputs": [
    {
     "name": "stdout",
     "output_type": "stream",
     "text": [
      "b470c0a1-e207-43d4-90d4-db64b879d068\n"
     ]
    }
   ],
   "source": [
    "puid_seldon_1 = pred_resp_1.headers.get(\"seldon-puid\")\n",
    "\n",
    "print(puid_seldon_1)"
   ]
  },
  {
   "cell_type": "markdown",
   "metadata": {},
   "source": [
    "We will also be able to add extra metadata, such as the user providing the feedback, date, time, etc."
   ]
  },
  {
   "cell_type": "code",
   "execution_count": 82,
   "metadata": {},
   "outputs": [],
   "source": [
    "feedback_tags_1 = {\n",
    "    \"user\": \"Seldon Admin\",\n",
    "    \"date\": \"11/07/2020\"\n",
    "}"
   ]
  },
  {
   "cell_type": "markdown",
   "metadata": {},
   "source": [
    "And finally we can put together the feedback request."
   ]
  },
  {
   "cell_type": "code",
   "execution_count": 84,
   "metadata": {},
   "outputs": [],
   "source": [
    "feedback_req_1 = {\n",
    "    \"reward\": 0,\n",
    "    \"truth\": {\n",
    "        'data': {\n",
    "            'names': ['t:0', 't:1', 't:2'], \n",
    "            'ndarray': [[0, 0, 1]]\n",
    "        },\n",
    "        \"meta\": {\n",
    "            \"tags\": feedback_tags_1\n",
    "        }\n",
    "    }\n",
    "}"
   ]
  },
  {
   "cell_type": "code",
   "execution_count": 85,
   "metadata": {},
   "outputs": [],
   "source": [
    "feedback_resp_1 = requests.post(f\"{url}/feedback\", json=feedback_req_1, headers={\"seldon-puid\": puid_seldon_1})"
   ]
  },
  {
   "cell_type": "code",
   "execution_count": 86,
   "metadata": {},
   "outputs": [
    {
     "data": {
      "text/plain": [
       "<Response [200]>"
      ]
     },
     "execution_count": 86,
     "metadata": {},
     "output_type": "execute_result"
    }
   ],
   "source": [
    "feedback_resp_1"
   ]
  },
  {
   "cell_type": "markdown",
   "metadata": {},
   "source": [
    "### CHeck that feedback has been received"
   ]
  },
  {
   "cell_type": "code",
   "execution_count": 87,
   "metadata": {},
   "outputs": [
    {
     "name": "stdout",
     "output_type": "stream",
     "text": [
      "{'reward': 0, 'ce-source': 'http:localhost:8000', 'truth': {'data': {'names': ['t:0', 't:1', 't:2'], 'ndarray': [[0.0006985194531162841, 0.003668039039435755, 0.9956334415074478]]}, 'meta': {'tags': {'date': '11/07/2020', 'user': 'Seldon Admin'}}}, 'ce-time': '2020-07-11T09:00:44.310299646Z'}\n"
     ]
    }
   ],
   "source": [
    "res = es.search(index=\"inference-log-seldon-seldon-sklearn-default\", body={\"query\": {\"match_all\": {}}})\n",
    "print(res[\"hits\"][\"hits\"][0][\"_source\"][\"feedback\"])"
   ]
  },
  {
   "cell_type": "markdown",
   "metadata": {},
   "source": [
    "### Stateful metrics Overview\n",
    "\n",
    "Now that we have seen the basics of the feedback mechanism we can actually leverage the features it provides.\n",
    "\n",
    "For this we'll want to send a few requests, together with feedback to some requests. This will include:\n",
    "* 100 requests in total\n",
    "* 50 will be provided feedback\n",
    "* 35 of those will be correct (the rest incorrect)\n",
    "\n",
    "Once we set up the requests, we will be able to get further insights."
   ]
  },
  {
   "cell_type": "code",
   "execution_count": 248,
   "metadata": {},
   "outputs": [],
   "source": [
    "TOTAL_REQS = 100\n",
    "MAX_FEEDBACK = 63\n",
    "MAX_CORRECT = 46"
   ]
  },
  {
   "cell_type": "code",
   "execution_count": 249,
   "metadata": {},
   "outputs": [
    {
     "data": {
      "text/plain": [
       "{'acknowledged': True}"
      ]
     },
     "execution_count": 249,
     "metadata": {},
     "output_type": "execute_result"
    }
   ],
   "source": [
    "es.indices.delete(index='inference-log-seldon-seldon-sklearn-default', ignore=[400, 404])"
   ]
  },
  {
   "cell_type": "markdown",
   "metadata": {},
   "source": [
    "#### First send all the requests"
   ]
  },
  {
   "cell_type": "code",
   "execution_count": 250,
   "metadata": {},
   "outputs": [],
   "source": [
    "ids_list = []\n",
    "for i in range(TOTAL_REQS):\n",
    "    pred_req = {\"data\":{\"ndarray\":[[1,2,3,4]]}}\n",
    "    pred_resp = requests.post(f\"{url}/predictions\", json=pred_req)\n",
    "    assert pred_resp.status_code == 200\n",
    "    ids_list.append(pred_resp.headers[\"seldon-puid\"])\n",
    "    "
   ]
  },
  {
   "cell_type": "code",
   "execution_count": 258,
   "metadata": {},
   "outputs": [
    {
     "name": "stdout",
     "output_type": "stream",
     "text": [
      "{'count': 100, '_shards': {'total': 1, 'successful': 1, 'skipped': 0, 'failed': 0}}\n"
     ]
    }
   ],
   "source": [
    "es_count = es.count(index=\"inference-log-seldon-seldon-sklearn-default\")\n",
    "print(es_count)"
   ]
  },
  {
   "cell_type": "markdown",
   "metadata": {},
   "source": [
    "#### Then send the feedback"
   ]
  },
  {
   "cell_type": "code",
   "execution_count": 259,
   "metadata": {},
   "outputs": [],
   "source": [
    "default_truth_val = {'data': { 'names': ['t:0', 't:1', 't:2'], 'ndarray': [[0, 0, 1]]}}\n",
    "default_truth_meta = {\"tags\": {\"user\": \"Seldon Admin\", \"date\": \"11/07/2020\"}}\n",
    "\n",
    "for idx, sid in enumerate(ids_list):\n",
    "    if idx == MAX_FEEDBACK: break # we only want to provide feedback to 50\n",
    "    \n",
    "    feedback = {}\n",
    "    feedback[\"reward\"] = idx < MAX_CORRECT\n",
    "    feedback[\"truth\"] = {} if idx < MAX_CORRECT else default_truth_val\n",
    "    feedback[\"truth\"][\"meta\"] = default_truth_meta\n",
    "    \n",
    "    pred_resp = requests.post(f\"{url}/feedback\", json=feedback, headers={\"seldon-puid\": sid})\n",
    "    assert pred_resp.status_code == 200"
   ]
  },
  {
   "cell_type": "markdown",
   "metadata": {},
   "source": [
    "### Exposing Feedback Metrics\n",
    "\n",
    "Now that feedback has been provided, it's possible to expose the feedback metrics for visualisation.\n",
    "\n",
    "The default and simplest way to provide this is basically through two simple metrics:\n",
    "* Accuracy \n",
    "* Number of data with feedback\n",
    "\n",
    "This can be extended to also provide insights such as:\n",
    "* Precision\n",
    "* Recall\n",
    "* Specificity\n",
    "* F1 score\n",
    "\n",
    "Primarily as these insights can be provided as insights with teh feedback. For more advanced metrics is discussed below."
   ]
  },
  {
   "cell_type": "code",
   "execution_count": 260,
   "metadata": {},
   "outputs": [
    {
     "name": "stdout",
     "output_type": "stream",
     "text": [
      "{'reward_sum': {'value': 46.0, 'value_as_string': 'true'}, 'reward_count': {'doc_count': 63}}\n"
     ]
    }
   ],
   "source": [
    "query = {\n",
    "  \"aggregations\": { \n",
    "    \"reward_sum\": { \"sum\": { \"field\": \"feedback.reward\" } },\n",
    "    \"reward_count\": { \"filter\": { \"exists\": { \"field\": \"feedback.reward\"} } }\n",
    "  }\n",
    "}\n",
    "feedback_metrics = es.search(index=\"inference-log-seldon-seldon-sklearn-default\", body=query)\n",
    "print(feedback_metrics[\"aggregations\"])"
   ]
  },
  {
   "cell_type": "markdown",
   "metadata": {},
   "source": [
    "This can also be performed for a specified datetime, so you can actually filter the accuracy / performance based on:\n",
    "* Date of processing of the initial request\n",
    "* Date of feedback being provided\n",
    "\n",
    "Below is a simple visualisation of these results:"
   ]
  },
  {
   "cell_type": "code",
   "execution_count": 271,
   "metadata": {},
   "outputs": [
    {
     "data": {
      "image/png": "[encoded data removed]",
      "text/plain": [
       "<Figure size 864x432 with 2 Axes>"
      ]
     },
     "metadata": {},
     "output_type": "display_data"
    }
   ],
   "source": [
    "import numpy as np\n",
    "import matplotlib.pyplot as plt\n",
    "\n",
    "feedback_correct = feedback_metrics[\"aggregations\"][\"reward_sum\"][\"value\"]\n",
    "feedback_total = feedback_metrics[\"aggregations\"][\"reward_count\"][\"doc_count\"]\n",
    "feedback_incorrect = feedback_total - feedback_correct\n",
    "no_feedback = es_count[\"count\"] - feedback_total\n",
    "\n",
    "plt.subplots(figsize=(12, 6))\n",
    "plt.subplot(1, 2, 1)\n",
    "plt.pie([feedback_incorrect, feedback_correct], explode=(0, 0.1), labels=('Correct', 'Incorrect'), autopct='%1.1f%%', shadow=True, startangle=90)\n",
    "\n",
    "plt.subplot(1, 2, 2)\n",
    "plt.pie([feedback_total, no_feedback], explode=(0.1, 0), labels=('Feedback Proved', 'No Feedback'), autopct='%.0f', shadow=True, startangle=90, colors=['green', 'red'])\n",
    "\n",
    "plt.show()"
   ]
  },
  {
   "cell_type": "markdown",
   "metadata": {},
   "source": [
    "### Advanced ML Insights\n",
    "\n",
    "In the case where more advanced ML Metrics are to be computed, these can be done in two ways:\n",
    "* Add stateful processing of the feedback provided\n",
    "* Perform the calculation in the request logger\n",
    "* Retrieve all of the datapoints from ELK and calculate the metrics"
   ]
  },
  {
   "cell_type": "markdown",
   "metadata": {},
   "source": [
    "#### Add stateful processing of the feedback provided\n",
    "\n",
    "Similar to the design pattern that Seldon Core introduced with request logging and outlier detectors through asynchronous eventing, it's possible to do the same for metrics.\n",
    "\n",
    "More specifically, it is possible to set up a stateful feedback processor which retrieves all the metrics on start and registers for feedback events to provide real time insights on any new incoming requests.\n",
    "\n",
    "These can then be visualised through different areas such as through prometheus metrics, using a grafana dashboard. Below is a brief example of how this can be achieved through a simple implementation.\n",
    "\n",
    "![](img/metrics-processor.jpg)\n"
   ]
  },
  {
   "cell_type": "markdown",
   "metadata": {},
   "source": [
    "#### Perform the calculation in the request logger\n",
    "\n",
    "If this is to eb performed in the request logger, it's possible to build your own custom request logger.\n",
    "\n",
    "In this, you woudl be able to add logic to retrieve the specific request from the prediction, and then calculate the performance against the specific metrics you are required. \n",
    "\n",
    "Finally these results can be stored back into the Elasticsearch index using an \"upsert\" (update + insert).\n",
    "\n",
    "![](img/req-logger.jpg)\n"
   ]
  },
  {
   "cell_type": "markdown",
   "metadata": {},
   "source": [
    "#### Retrieve all of the datapoints from ELK and calculate the metrics\n",
    "\n",
    "In this second option, you would be able to fetch all of the datapoints for a specific model and perform processing on top.\n",
    "\n",
    "This would allow you to have more flexibility, especially for calculations which would require maintaining a global metric across your data, such as for global AI explanation techniques.\n",
    "\n",
    "The example below shows how you would be able to retrieve this data and process it. \n",
    "\n",
    "Given that these would often be stateful, you may want to run this in an async fashion and store it for later/efficient retrieval.\n",
    "\n",
    "![](img/custom-aggreg.jpg)"
   ]
  }
 ],
 "metadata": {
  "kernelspec": {
   "display_name": "Python 3",
   "language": "python",
   "name": "python3"
  },
  "language_info": {
   "codemirror_mode": {
    "name": "ipython",
    "version": 3
   },
   "file_extension": ".py",
   "mimetype": "text/x-python",
   "name": "python",
   "nbconvert_exporter": "python",
   "pygments_lexer": "ipython3",
   "version": "3.7.4"
  }
 },
 "nbformat": 4,
 "nbformat_minor": 2
}
