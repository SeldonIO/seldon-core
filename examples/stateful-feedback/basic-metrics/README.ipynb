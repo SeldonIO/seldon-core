{
 "cells": [
  {
   "cell_type": "markdown",
   "metadata": {},
   "source": [
    "## Stateful Basic Model Feedback Metrics \n",
    "\n",
    "### Setup dependencies\n",
    "* Istio\n",
    "* Seldon Core (with Istio + Req Logger)\n",
    "* Elasticsearch\n",
    "* Knative eventing\n",
    "* Request logger\n",
    "* Model with request logger"
   ]
  },
  {
   "cell_type": "markdown",
   "metadata": {},
   "source": [
    "#### Istio"
   ]
  },
  {
   "cell_type": "code",
   "execution_count": 4,
   "metadata": {},
   "outputs": [
    {
     "name": "stdout",
     "output_type": "stream",
     "text": [
      "Detected that your cluster does not support third party JWT authentication. Falling back to less secure first party JWT. See https://istio.io/docs/ops/best-practices/security/#configure-third-party-service-account-tokens for details.\n",
      "\u001b[32m✔\u001b[0m Istio core installed                                                          \n",
      "\u001b[32m✔\u001b[0m Istiod installed                                                              \n",
      "\u001b[32m✔\u001b[0m Addons installed                                                              \n",
      "\u001b[32m✔\u001b[0m Ingress gateways installed                                                    \n",
      "\u001b[32m✔\u001b[0m Installation complete                                                         "
     ]
    }
   ],
   "source": [
    "!istioctl install -y"
   ]
  },
  {
   "cell_type": "code",
   "execution_count": 3,
   "metadata": {},
   "outputs": [
    {
     "name": "stdout",
     "output_type": "stream",
     "text": [
      "gateway.networking.istio.io/seldon-gateway created\n"
     ]
    }
   ],
   "source": [
    "%%bash\n",
    "kubectl apply -n istio-system -f - << END\n",
    "apiVersion: networking.istio.io/v1alpha3\n",
    "kind: Gateway\n",
    "metadata:\n",
    "  name: seldon-gateway\n",
    "spec:\n",
    "  selector:\n",
    "    istio: ingressgateway # use istio default controller\n",
    "  servers:\n",
    "  - port:\n",
    "      number: 80\n",
    "      name: http\n",
    "      protocol: HTTP\n",
    "    hosts:\n",
    "    - \"*\"\n",
    "END"
   ]
  },
  {
   "cell_type": "markdown",
   "metadata": {},
   "source": [
    "#### Seldon Core"
   ]
  },
  {
   "cell_type": "code",
   "execution_count": 36,
   "metadata": {},
   "outputs": [
    {
     "name": "stdout",
     "output_type": "stream",
     "text": [
      "seldon-system ns exists\n",
      "Release \"seldon-core\" does not exist. Installing it now.\n",
      "NAME: seldon-core\n",
      "LAST DEPLOYED: Sat Jul 11 09:24:28 2020\n",
      "NAMESPACE: seldon-system\n",
      "STATUS: deployed\n",
      "REVISION: 1\n",
      "TEST SUITE: None\n"
     ]
    },
    {
     "name": "stderr",
     "output_type": "stream",
     "text": [
      "Error from server (AlreadyExists): namespaces \"seldon-system\" already exists\n"
     ]
    }
   ],
   "source": [
    "%%bash\n",
    "kubectl create ns seldon-system || echo \"seldon-system ns exists\"\n",
    "\n",
    "helm upgrade --install seldon-core ../../../helm-charts/seldon-core-operator/ \\\n",
    "    --namespace seldon-system \\\n",
    "    --set certmanager.enabled=\"true\" \\\n",
    "    --set istio.enabled=\"true\" \\\n",
    "    --set istio.gateway=\"seldon-gateway.istio-system.svc.cluster.local\" \\\n",
    "    --set executor.requestLogger.defaultEndpoint=\"http://default-broker.seldon-logs.svc.cluster.local\""
   ]
  },
  {
   "cell_type": "code",
   "execution_count": 7,
   "metadata": {},
   "outputs": [
    {
     "name": "stdout",
     "output_type": "stream",
     "text": [
      "namespace/seldon-logs created\n",
      "Release \"elasticsearch\" does not exist. Installing it now.\n",
      "NAME: elasticsearch\n",
      "LAST DEPLOYED: Sat Jul 11 08:56:31 2020\n",
      "NAMESPACE: seldon-logs\n",
      "STATUS: deployed\n",
      "REVISION: 1\n",
      "NOTES:\n",
      "1. Watch all cluster members come up.\n",
      "  $ kubectl get pods --namespace=seldon-logs -l app=elasticsearch-master -w\n",
      "2. Test cluster health using Helm test.\n",
      "  $ helm test elasticsearch\n"
     ]
    }
   ],
   "source": [
    "%%bash\n",
    "kubectl create ns seldon-logs || echo \"seldon-logs ns exists\"\n",
    "helm upgrade --install elasticsearch elasticsearch \\\n",
    "    --version 7.6.0 \\\n",
    "    --namespace=seldon-logs \\\n",
    "    --set service.type=LoadBalancer \\\n",
    "    --set antiAffinity=\"soft\" \\\n",
    "    --repo https://helm.elastic.co \\\n",
    "    --set image=docker.elastic.co/elasticsearch/elasticsearch-oss"
   ]
  },
  {
   "cell_type": "code",
   "execution_count": 9,
   "metadata": {},
   "outputs": [
    {
     "name": "stdout",
     "output_type": "stream",
     "text": [
      "Waiting for 3 pods to be ready...\n",
      "Waiting for 2 pods to be ready...\n",
      "Waiting for 1 pods to be ready...\n",
      "statefulset rolling update complete 3 pods at revision elasticsearch-master-695c796997...\n"
     ]
    }
   ],
   "source": [
    "!kubectl rollout status statefulset/elasticsearch-master -n seldon-logs"
   ]
  },
  {
   "cell_type": "markdown",
   "metadata": {},
   "source": [
    "#### Knative Eventing"
   ]
  },
  {
   "cell_type": "code",
   "execution_count": 29,
   "metadata": {},
   "outputs": [
    {
     "name": "stdout",
     "output_type": "stream",
     "text": [
      "customresourcedefinition.apiextensions.k8s.io/apiserversources.sources.eventing.knative.dev created\n",
      "customresourcedefinition.apiextensions.k8s.io/brokers.eventing.knative.dev created\n",
      "customresourcedefinition.apiextensions.k8s.io/channels.messaging.knative.dev created\n",
      "customresourcedefinition.apiextensions.k8s.io/containersources.sources.eventing.knative.dev created\n",
      "customresourcedefinition.apiextensions.k8s.io/cronjobsources.sources.eventing.knative.dev created\n",
      "customresourcedefinition.apiextensions.k8s.io/eventtypes.eventing.knative.dev created\n",
      "customresourcedefinition.apiextensions.k8s.io/parallels.flows.knative.dev created\n",
      "customresourcedefinition.apiextensions.k8s.io/sequences.flows.knative.dev created\n",
      "customresourcedefinition.apiextensions.k8s.io/parallels.messaging.knative.dev created\n",
      "customresourcedefinition.apiextensions.k8s.io/sequences.messaging.knative.dev created\n",
      "customresourcedefinition.apiextensions.k8s.io/sinkbindings.sources.eventing.knative.dev created\n",
      "customresourcedefinition.apiextensions.k8s.io/subscriptions.messaging.knative.dev created\n",
      "customresourcedefinition.apiextensions.k8s.io/triggers.eventing.knative.dev created\n",
      "customresourcedefinition.apiextensions.k8s.io/apiserversources.sources.eventing.knative.dev unchanged\n",
      "customresourcedefinition.apiextensions.k8s.io/brokers.eventing.knative.dev unchanged\n",
      "customresourcedefinition.apiextensions.k8s.io/channels.messaging.knative.dev unchanged\n",
      "customresourcedefinition.apiextensions.k8s.io/containersources.sources.eventing.knative.dev unchanged\n",
      "customresourcedefinition.apiextensions.k8s.io/cronjobsources.sources.eventing.knative.dev unchanged\n",
      "customresourcedefinition.apiextensions.k8s.io/eventtypes.eventing.knative.dev unchanged\n",
      "customresourcedefinition.apiextensions.k8s.io/parallels.flows.knative.dev unchanged\n",
      "customresourcedefinition.apiextensions.k8s.io/sequences.flows.knative.dev unchanged\n",
      "customresourcedefinition.apiextensions.k8s.io/parallels.messaging.knative.dev unchanged\n",
      "customresourcedefinition.apiextensions.k8s.io/sequences.messaging.knative.dev unchanged\n",
      "customresourcedefinition.apiextensions.k8s.io/sinkbindings.sources.eventing.knative.dev unchanged\n",
      "customresourcedefinition.apiextensions.k8s.io/subscriptions.messaging.knative.dev unchanged\n",
      "customresourcedefinition.apiextensions.k8s.io/triggers.eventing.knative.dev unchanged\n",
      "namespace/knative-eventing created\n",
      "clusterrole.rbac.authorization.k8s.io/addressable-resolver created\n",
      "clusterrole.rbac.authorization.k8s.io/service-addressable-resolver created\n",
      "clusterrole.rbac.authorization.k8s.io/serving-addressable-resolver created\n",
      "clusterrole.rbac.authorization.k8s.io/channel-addressable-resolver created\n",
      "clusterrole.rbac.authorization.k8s.io/broker-addressable-resolver created\n",
      "clusterrole.rbac.authorization.k8s.io/messaging-addressable-resolver created\n",
      "clusterrole.rbac.authorization.k8s.io/flows-addressable-resolver created\n",
      "clusterrole.rbac.authorization.k8s.io/eventing-broker-filter created\n",
      "clusterrole.rbac.authorization.k8s.io/eventing-broker-ingress created\n",
      "clusterrole.rbac.authorization.k8s.io/eventing-config-reader created\n",
      "clusterrole.rbac.authorization.k8s.io/channelable-manipulator created\n",
      "clusterrole.rbac.authorization.k8s.io/knative-eventing-namespaced-admin created\n",
      "clusterrole.rbac.authorization.k8s.io/knative-messaging-namespaced-admin created\n",
      "clusterrole.rbac.authorization.k8s.io/knative-eventing-sources-namespaced-admin created\n",
      "clusterrole.rbac.authorization.k8s.io/knative-eventing-namespaced-edit created\n",
      "clusterrole.rbac.authorization.k8s.io/knative-eventing-namespaced-view created\n",
      "clusterrole.rbac.authorization.k8s.io/knative-eventing-controller created\n",
      "clusterrole.rbac.authorization.k8s.io/podspecable-binding created\n",
      "clusterrole.rbac.authorization.k8s.io/builtin-podspecable-binding created\n",
      "serviceaccount/eventing-controller created\n",
      "serviceaccount/eventing-webhook created\n",
      "serviceaccount/eventing-source-controller created\n",
      "clusterrole.rbac.authorization.k8s.io/source-observer created\n",
      "clusterrole.rbac.authorization.k8s.io/eventing-sources-source-observer created\n",
      "clusterrole.rbac.authorization.k8s.io/knative-eventing-source-controller created\n",
      "clusterrole.rbac.authorization.k8s.io/knative-eventing-webhook created\n",
      "clusterrolebinding.rbac.authorization.k8s.io/eventing-controller created\n",
      "clusterrolebinding.rbac.authorization.k8s.io/eventing-controller-resolver created\n",
      "clusterrolebinding.rbac.authorization.k8s.io/eventing-controller-source-observer created\n",
      "clusterrolebinding.rbac.authorization.k8s.io/eventing-controller-manipulator created\n",
      "clusterrolebinding.rbac.authorization.k8s.io/eventing-webhook created\n",
      "clusterrolebinding.rbac.authorization.k8s.io/eventing-source-controller created\n",
      "clusterrolebinding.rbac.authorization.k8s.io/eventing-source-controller-resolver created\n",
      "clusterrolebinding.rbac.authorization.k8s.io/eventing-webhook-resolver created\n",
      "clusterrolebinding.rbac.authorization.k8s.io/eventing-webhook-podspecable-binding created\n",
      "customresourcedefinition.apiextensions.k8s.io/apiserversources.sources.eventing.knative.dev unchanged\n",
      "customresourcedefinition.apiextensions.k8s.io/brokers.eventing.knative.dev unchanged\n",
      "customresourcedefinition.apiextensions.k8s.io/channels.messaging.knative.dev unchanged\n",
      "customresourcedefinition.apiextensions.k8s.io/containersources.sources.eventing.knative.dev unchanged\n",
      "customresourcedefinition.apiextensions.k8s.io/cronjobsources.sources.eventing.knative.dev unchanged\n",
      "customresourcedefinition.apiextensions.k8s.io/eventtypes.eventing.knative.dev unchanged\n",
      "customresourcedefinition.apiextensions.k8s.io/parallels.flows.knative.dev unchanged\n",
      "customresourcedefinition.apiextensions.k8s.io/sequences.flows.knative.dev unchanged\n",
      "customresourcedefinition.apiextensions.k8s.io/parallels.messaging.knative.dev unchanged\n",
      "customresourcedefinition.apiextensions.k8s.io/sequences.messaging.knative.dev unchanged\n",
      "customresourcedefinition.apiextensions.k8s.io/sinkbindings.sources.eventing.knative.dev unchanged\n",
      "customresourcedefinition.apiextensions.k8s.io/subscriptions.messaging.knative.dev unchanged\n",
      "customresourcedefinition.apiextensions.k8s.io/triggers.eventing.knative.dev unchanged\n",
      "configmap/default-ch-webhook created\n",
      "service/eventing-webhook created\n",
      "deployment.apps/eventing-controller created\n",
      "deployment.apps/sources-controller created\n",
      "mutatingwebhookconfiguration.admissionregistration.k8s.io/webhook.eventing.knative.dev created\n",
      "validatingwebhookconfiguration.admissionregistration.k8s.io/validation.webhook.eventing.knative.dev created\n",
      "validatingwebhookconfiguration.admissionregistration.k8s.io/config.webhook.eventing.knative.dev created\n",
      "mutatingwebhookconfiguration.admissionregistration.k8s.io/sinkbindings.webhook.sources.knative.dev created\n",
      "secret/eventing-webhook-certs created\n",
      "deployment.apps/eventing-webhook created\n",
      "configmap/config-logging created\n",
      "configmap/config-observability created\n",
      "configmap/config-tracing created\n",
      "Waiting for deployment \"eventing-controller\" rollout to finish: 0 of 1 updated replicas are available...\n",
      "deployment \"eventing-controller\" successfully rolled out\n",
      "clusterrole.rbac.authorization.k8s.io/imc-addressable-resolver created\n",
      "clusterrole.rbac.authorization.k8s.io/imc-channelable-manipulator created\n",
      "clusterrole.rbac.authorization.k8s.io/imc-controller created\n",
      "clusterrole.rbac.authorization.k8s.io/imc-dispatcher created\n",
      "service/imc-dispatcher created\n",
      "serviceaccount/imc-controller created\n",
      "serviceaccount/imc-dispatcher created\n",
      "clusterrolebinding.rbac.authorization.k8s.io/imc-controller created\n",
      "clusterrolebinding.rbac.authorization.k8s.io/imc-dispatcher created\n",
      "customresourcedefinition.apiextensions.k8s.io/inmemorychannels.messaging.knative.dev created\n",
      "deployment.apps/imc-controller created\n",
      "deployment.apps/imc-dispatcher created\n"
     ]
    }
   ],
   "source": [
    "%%bash\n",
    "\n",
    "kubectl apply --selector knative.dev/crd-install=true \\\n",
    "\t--filename https://github.com/knative/eventing/releases/download/v0.11.0/eventing.yaml\n",
    "\n",
    "kubectl apply --selector knative.dev/crd-install=true \\\n",
    "\t--filename https://github.com/knative/eventing/releases/download/v0.11.0/eventing.yaml \n",
    "\n",
    "kubectl apply \\\n",
    "\t--filename https://github.com/knative/eventing/releases/download/v0.11.0/eventing.yaml \n",
    "\n",
    "kubectl rollout status -n knative-eventing deployment/eventing-controller\n",
    "\n",
    "kubectl apply --filename https://github.com/knative/eventing/releases/download/v0.11.0/in-memory-channel.yaml"
   ]
  },
  {
   "cell_type": "code",
   "execution_count": 23,
   "metadata": {},
   "outputs": [
    {
     "name": "stdout",
     "output_type": "stream",
     "text": [
      "NAME                                  READY   STATUS    RESTARTS   AGE\r\n",
      "eventing-controller-d67878576-szkqx   1/1     Running   0          34s\r\n",
      "eventing-webhook-5b45945585-l8xxf     1/1     Running   0          34s\r\n",
      "imc-controller-67b4c9787b-np5cm       1/1     Running   0          30s\r\n",
      "imc-dispatcher-7b57bc9796-b4hpn       1/1     Running   0          30s\r\n",
      "sources-controller-685db898c-t65fl    1/1     Running   0          34s\r\n"
     ]
    }
   ],
   "source": [
    "!kubectl get pods -n knative-eventing"
   ]
  },
  {
   "cell_type": "markdown",
   "metadata": {},
   "source": [
    "#### Create Request Logger in Seldon Logs namespace"
   ]
  },
  {
   "cell_type": "code",
   "execution_count": 31,
   "metadata": {},
   "outputs": [
    {
     "name": "stdout",
     "output_type": "stream",
     "text": [
      "namespace/seldon-logs labeled\r\n"
     ]
    }
   ],
   "source": [
    "!kubectl label namespace seldon-logs knative-eventing-injection=enabled --overwrite=true"
   ]
  },
  {
   "cell_type": "code",
   "execution_count": 32,
   "metadata": {},
   "outputs": [
    {
     "name": "stdout",
     "output_type": "stream",
     "text": [
      "NAME      READY   REASON   URL                                                   AGE\r\n",
      "default   True             http://default-broker.seldon-logs.svc.cluster.local   18s\r\n"
     ]
    }
   ],
   "source": [
    "!kubectl get broker -n seldon-logs "
   ]
  },
  {
   "cell_type": "code",
   "execution_count": 30,
   "metadata": {},
   "outputs": [
    {
     "name": "stdout",
     "output_type": "stream",
     "text": [
      "trigger.eventing.knative.dev/seldon-request-logger-trigger created\n",
      "deployment.apps/seldon-request-logger unchanged\n",
      "service/seldon-request-logger unchanged\n"
     ]
    }
   ],
   "source": [
    "%%bash\n",
    "kubectl apply -f - << END\n",
    "apiVersion: eventing.knative.dev/v1alpha1\n",
    "kind: Trigger\n",
    "metadata:\n",
    " name: seldon-request-logger-trigger\n",
    " namespace: seldon-logs\n",
    "spec:\n",
    " subscriber:\n",
    "   ref:\n",
    "     apiVersion: v1\n",
    "     kind: Service\n",
    "     name: seldon-request-logger\n",
    "END\n",
    "\n",
    "kubectl apply -f - << END\n",
    "apiVersion: apps/v1\n",
    "kind: Deployment\n",
    "metadata:\n",
    " name: seldon-request-logger\n",
    " namespace: seldon-logs\n",
    " labels:\n",
    "   app: seldon-request-logger\n",
    "spec:\n",
    " replicas: 1\n",
    " selector:\n",
    "   matchLabels:\n",
    "     app: seldon-request-logger\n",
    " template:\n",
    "   metadata:\n",
    "     labels:\n",
    "       app: seldon-request-logger\n",
    "   spec:\n",
    "     containers:\n",
    "       - name: user-container\n",
    "         image: docker.io/seldonio/seldon-request-logger:1.2.2-dev\n",
    "         imagePullPolicy: IfNotPresent\n",
    "         env:\n",
    "           - name: ELASTICSEARCH_HOST\n",
    "             value: \"elasticsearch-master.seldon-logs.svc.cluster.local\"\n",
    "           - name: ELASTICSEARCH_PORT\n",
    "             value: \"9200\"\n",
    "END\n",
    "\n",
    "kubectl apply -f - << END\n",
    "apiVersion: v1\n",
    "kind: Service\n",
    "metadata:\n",
    " name: seldon-request-logger\n",
    " namespace: seldon-logs\n",
    "spec:\n",
    " selector:\n",
    "   app: seldon-request-logger\n",
    " ports:\n",
    "   - protocol: TCP\n",
    "     port: 80\n",
    "     targetPort: 8080\n",
    "END"
   ]
  },
  {
   "cell_type": "code",
   "execution_count": 33,
   "metadata": {},
   "outputs": [
    {
     "name": "stdout",
     "output_type": "stream",
     "text": [
      "NAME                            READY   REASON   BROKER    SUBSCRIBER_URI                                                AGE\r\n",
      "seldon-request-logger-trigger   True             default   http://seldon-request-logger.seldon-logs.svc.cluster.local/   2m18s\r\n"
     ]
    }
   ],
   "source": [
    "!kubectl get trigger -n seldon-logs"
   ]
  },
  {
   "cell_type": "code",
   "execution_count": null,
   "metadata": {},
   "outputs": [],
   "source": [
    "#### Deploy model with request logger"
   ]
  },
  {
   "cell_type": "code",
   "execution_count": 54,
   "metadata": {},
   "outputs": [
    {
     "name": "stdout",
     "output_type": "stream",
     "text": [
      "seldon ns exists\n",
      "seldondeployment.machinelearning.seldon.io/sklearn configured\n"
     ]
    },
    {
     "name": "stderr",
     "output_type": "stream",
     "text": [
      "Error from server (AlreadyExists): namespaces \"seldon\" already exists\n"
     ]
    }
   ],
   "source": [
    "%%bash\n",
    "\n",
    "kubectl create ns seldon || echo \"seldon ns exists\"\n",
    "\n",
    "kubectl apply -n seldon -f - << END\n",
    "kind: SeldonDeployment\n",
    "apiVersion: machinelearning.seldon.io/v1\n",
    "metadata:\n",
    "  name: sklearn\n",
    "spec:\n",
    "  annotations:\n",
    "    seldon.io/engine-seldon-log-messages-externally: 'true'\n",
    "  name: sklearn\n",
    "  predictors:\n",
    "  - name: default\n",
    "    graph:\n",
    "      name: irisclassifier-default\n",
    "      implementation: SKLEARN_SERVER\n",
    "      endpoint:\n",
    "        type: REST\n",
    "      modelUri: gs://seldon-models/sklearn/iris\n",
    "      logger:\n",
    "        mode: \"all\"\n",
    "    replicas: 1\n",
    "END"
   ]
  },
  {
   "cell_type": "markdown",
   "metadata": {},
   "source": [
    "## Send Request"
   ]
  },
  {
   "cell_type": "code",
   "execution_count": null,
   "metadata": {},
   "outputs": [],
   "source": [
    "import requests\n",
    "url = \"http://localhost:80/seldon/seldon/sklearn/api/v1.0\""
   ]
  },
  {
   "cell_type": "code",
   "execution_count": 55,
   "metadata": {},
   "outputs": [],
   "source": [
    "pred_req_1 = {\"data\":{\"ndarray\":[[1,2,3,4]]}}\n",
    "pred_resp_1 = requests.post(f\"{url}/predictions\", json=pred_req_1)"
   ]
  },
  {
   "cell_type": "code",
   "execution_count": 56,
   "metadata": {},
   "outputs": [
    {
     "name": "stdout",
     "output_type": "stream",
     "text": [
      "Response ID: b470c0a1-e207-43d4-90d4-db64b879d068\n",
      "{'data': {'names': ['t:0', 't:1', 't:2'], 'ndarray': [[0.0006985194531162841, 0.003668039039435755, 0.9956334415074478]]}, 'meta': {}}\n"
     ]
    }
   ],
   "source": [
    "print(f\"Response ID: {pred_resp_1.headers.get('seldon-puid')}\")\n",
    "print(pred_resp_1.json())"
   ]
  },
  {
   "cell_type": "markdown",
   "metadata": {},
   "source": [
    "### Check request was sent to Elasticsearch"
   ]
  },
  {
   "cell_type": "code",
   "execution_count": 57,
   "metadata": {},
   "outputs": [],
   "source": [
    "from elasticsearch import Elasticsearch\n",
    "es = Elasticsearch(['http://localhost:9200'])"
   ]
  },
  {
   "cell_type": "markdown",
   "metadata": {},
   "source": [
    "See the index that has been created"
   ]
  },
  {
   "cell_type": "code",
   "execution_count": 58,
   "metadata": {},
   "outputs": [
    {
     "data": {
      "text/plain": [
       "{'inference-log-seldon-seldon-sklearn-default': {'aliases': {}}}"
      ]
     },
     "execution_count": 58,
     "metadata": {},
     "output_type": "execute_result"
    }
   ],
   "source": [
    " es.indices.get_alias(\"*\")"
   ]
  },
  {
   "cell_type": "markdown",
   "metadata": {},
   "source": [
    "Check that the index has been created for that request"
   ]
  },
  {
   "cell_type": "code",
   "execution_count": 75,
   "metadata": {},
   "outputs": [
    {
     "name": "stdout",
     "output_type": "stream",
     "text": [
      "Logged Request:\n",
      "{'ce-source': 'http:localhost:8000', 'instance': [1.0, 2.0, 3.0, 4.0], 'payload': {'data': {'ndarray': [[1, 2, 3, 4]]}}, 'dataType': 'tabular', 'elements': {}, 'ce-time': '2020-07-11T08:41:50.378621945Z'}\n",
      "\n",
      "Logged Response:\n",
      "{'payload': {'data': {'names': ['t:0', 't:1', 't:2'], 'ndarray': [[0.0006985194531162841, 0.003668039039435755, 0.9956334415074478]]}, 'meta': {}}, 'dataType': 'tabular', 'elements': {'t:0': [0.0006985194531162841], 't:1': [0.003668039039435755], 't:2': [0.9956334415074478]}, 'instance': [0.0006985194531162841, 0.003668039039435755, 0.9956334415074478], 'names': ['t:0', 't:1', 't:2'], 'ce-time': '2020-07-11T08:41:50.384083245Z', 'ce-source': 'http:localhost:8000'}\n"
     ]
    }
   ],
   "source": [
    "res = es.search(index=\"inference-log-seldon-seldon-sklearn-default\", body={\"query\": {\"match_all\": {}}})\n",
    "print(\"Logged Request:\")\n",
    "print(res[\"hits\"][\"hits\"][0][\"_source\"][\"request\"])\n",
    "print(\"\\nLogged Response:\")\n",
    "print(res[\"hits\"][\"hits\"][0][\"_source\"][\"response\"])"
   ]
  },
  {
   "cell_type": "markdown",
   "metadata": {},
   "source": [
    "### Now we can send feedback \n",
    "\n",
    "For this we can include the reward, which in this case can state whether it's correct or incorrect, together with the truth answer, in case it was incorrect (or to emphasise that it was correct).\n",
    "\n",
    "In order for us to be able to send the feedback to the right request, we need to provide the feedback ID."
   ]
  },
  {
   "cell_type": "code",
   "execution_count": null,
   "metadata": {},
   "outputs": [],
   "source": []
  }
 ],
 "metadata": {
  "kernelspec": {
   "display_name": "Python 3",
   "language": "python",
   "name": "python3"
  },
  "language_info": {
   "codemirror_mode": {
    "name": "ipython",
    "version": 3
   },
   "file_extension": ".py",
   "mimetype": "text/x-python",
   "name": "python",
   "nbconvert_exporter": "python",
   "pygments_lexer": "ipython3",
   "version": "3.7.4"
  }
 },
 "nbformat": 4,
 "nbformat_minor": 2
}
