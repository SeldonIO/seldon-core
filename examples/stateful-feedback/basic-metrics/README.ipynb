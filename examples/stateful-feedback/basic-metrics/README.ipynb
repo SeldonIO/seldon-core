{
 "cells": [
  {
   "cell_type": "markdown",
   "metadata": {},
   "source": [
    "## Stateful Basic Model Feedback Metrics \n",
    "\n",
    "We will be able to see real time metrics for ml metrics as follows:\n",
    "\n",
    "![](img/realtime-accuracy.jpg)\n",
    "\n",
    "At the end we will be able to compare two models performance against each other.\n",
    "\n",
    "The screenshot below shows the shadow and default model performance.\n",
    "\n",
    "![](img/comparison.jpg)\n",
    "\n",
    "This will explore two architecture to achieve this, namely:\n",
    "* Through a separate stateful metrics server using knative eventing (left)\n",
    "* Through the model server leveraging custom metrics (right)\n",
    "\n",
    "<table>\n",
    "<tr>\n",
    "<td>\n",
    "    <img src=\"img/custom-stateful.jpg\">\n",
    "</td>\n",
    "<td>\n",
    "    <img src=\"img/standard-server.jpg\">\n",
    "</td>\n",
    "</tr>\n",
    "</table>\n",
    "\n",
    "### Setup dependencies\n",
    "* Istio\n",
    "* Seldon Core (with Istio + Req Logger)\n",
    "* Elasticsearch\n",
    "* Knative eventing\n",
    "* Request logger\n",
    "* Model with request logger"
   ]
  },
  {
   "cell_type": "markdown",
   "metadata": {},
   "source": [
    "#### Istio"
   ]
  },
  {
   "cell_type": "code",
   "execution_count": 4,
   "metadata": {},
   "outputs": [
    {
     "name": "stdout",
     "output_type": "stream",
     "text": [
      "Detected that your cluster does not support third party JWT authentication. Falling back to less secure first party JWT. See https://istio.io/docs/ops/best-practices/security/#configure-third-party-service-account-tokens for details.\n",
      "\u001b[32m✔\u001b[0m Istio core installed                                                          \n",
      "\u001b[32m✔\u001b[0m Istiod installed                                                              \n",
      "\u001b[32m✔\u001b[0m Addons installed                                                              \n",
      "\u001b[32m✔\u001b[0m Ingress gateways installed                                                    \n",
      "\u001b[32m✔\u001b[0m Installation complete                                                         "
     ]
    }
   ],
   "source": [
    "!istioctl install -y"
   ]
  },
  {
   "cell_type": "code",
   "execution_count": 3,
   "metadata": {},
   "outputs": [
    {
     "name": "stdout",
     "output_type": "stream",
     "text": [
      "gateway.networking.istio.io/seldon-gateway created\n"
     ]
    }
   ],
   "source": [
    "%%bash\n",
    "kubectl apply -n istio-system -f - << END\n",
    "apiVersion: networking.istio.io/v1alpha3\n",
    "kind: Gateway\n",
    "metadata:\n",
    "  name: seldon-gateway\n",
    "spec:\n",
    "  selector:\n",
    "    istio: ingressgateway # use istio default controller\n",
    "  servers:\n",
    "  - port:\n",
    "      number: 80\n",
    "      name: http\n",
    "      protocol: HTTP\n",
    "    hosts:\n",
    "    - \"*\"\n",
    "END"
   ]
  },
  {
   "cell_type": "markdown",
   "metadata": {},
   "source": [
    "#### Seldon Core"
   ]
  },
  {
   "cell_type": "code",
   "execution_count": 36,
   "metadata": {},
   "outputs": [
    {
     "name": "stdout",
     "output_type": "stream",
     "text": [
      "seldon-system ns exists\n",
      "Release \"seldon-core\" does not exist. Installing it now.\n",
      "NAME: seldon-core\n",
      "LAST DEPLOYED: Sat Jul 11 09:24:28 2020\n",
      "NAMESPACE: seldon-system\n",
      "STATUS: deployed\n",
      "REVISION: 1\n",
      "TEST SUITE: None\n"
     ]
    },
    {
     "name": "stderr",
     "output_type": "stream",
     "text": [
      "Error from server (AlreadyExists): namespaces \"seldon-system\" already exists\n"
     ]
    }
   ],
   "source": [
    "%%bash\n",
    "kubectl create ns seldon-system || echo \"seldon-system ns exists\"\n",
    "\n",
    "helm upgrade --install seldon-core ../../../helm-charts/seldon-core-operator/ \\\n",
    "    --namespace seldon-system \\\n",
    "    --set certmanager.enabled=\"true\" \\\n",
    "    --set istio.enabled=\"true\" \\\n",
    "    --set istio.gateway=\"seldon-gateway.istio-system.svc.cluster.local\" \\\n",
    "    --set executor.requestLogger.defaultEndpoint=\"http://default-broker.seldon-logs.svc.cluster.local\""
   ]
  },
  {
   "cell_type": "code",
   "execution_count": 7,
   "metadata": {},
   "outputs": [
    {
     "name": "stdout",
     "output_type": "stream",
     "text": [
      "namespace/seldon-logs created\n",
      "Release \"elasticsearch\" does not exist. Installing it now.\n",
      "NAME: elasticsearch\n",
      "LAST DEPLOYED: Sat Jul 11 08:56:31 2020\n",
      "NAMESPACE: seldon-logs\n",
      "STATUS: deployed\n",
      "REVISION: 1\n",
      "NOTES:\n",
      "1. Watch all cluster members come up.\n",
      "  $ kubectl get pods --namespace=seldon-logs -l app=elasticsearch-master -w\n",
      "2. Test cluster health using Helm test.\n",
      "  $ helm test elasticsearch\n"
     ]
    }
   ],
   "source": [
    "%%bash\n",
    "kubectl create ns seldon-logs || echo \"seldon-logs ns exists\"\n",
    "helm upgrade --install elasticsearch elasticsearch \\\n",
    "    --version 7.6.0 \\\n",
    "    --namespace=seldon-logs \\\n",
    "    --set service.type=LoadBalancer \\\n",
    "    --set antiAffinity=\"soft\" \\\n",
    "    --repo https://helm.elastic.co \\\n",
    "    --set image=docker.elastic.co/elasticsearch/elasticsearch-oss"
   ]
  },
  {
   "cell_type": "code",
   "execution_count": 9,
   "metadata": {},
   "outputs": [
    {
     "name": "stdout",
     "output_type": "stream",
     "text": [
      "Waiting for 3 pods to be ready...\n",
      "Waiting for 2 pods to be ready...\n",
      "Waiting for 1 pods to be ready...\n",
      "statefulset rolling update complete 3 pods at revision elasticsearch-master-695c796997...\n"
     ]
    }
   ],
   "source": [
    "!kubectl rollout status statefulset/elasticsearch-master -n seldon-logs"
   ]
  },
  {
   "cell_type": "markdown",
   "metadata": {},
   "source": [
    "#### Knative Eventing"
   ]
  },
  {
   "cell_type": "code",
   "execution_count": 29,
   "metadata": {},
   "outputs": [
    {
     "name": "stdout",
     "output_type": "stream",
     "text": [
      "customresourcedefinition.apiextensions.k8s.io/apiserversources.sources.eventing.knative.dev created\n",
      "customresourcedefinition.apiextensions.k8s.io/brokers.eventing.knative.dev created\n",
      "customresourcedefinition.apiextensions.k8s.io/channels.messaging.knative.dev created\n",
      "customresourcedefinition.apiextensions.k8s.io/containersources.sources.eventing.knative.dev created\n",
      "customresourcedefinition.apiextensions.k8s.io/cronjobsources.sources.eventing.knative.dev created\n",
      "customresourcedefinition.apiextensions.k8s.io/eventtypes.eventing.knative.dev created\n",
      "customresourcedefinition.apiextensions.k8s.io/parallels.flows.knative.dev created\n",
      "customresourcedefinition.apiextensions.k8s.io/sequences.flows.knative.dev created\n",
      "customresourcedefinition.apiextensions.k8s.io/parallels.messaging.knative.dev created\n",
      "customresourcedefinition.apiextensions.k8s.io/sequences.messaging.knative.dev created\n",
      "customresourcedefinition.apiextensions.k8s.io/sinkbindings.sources.eventing.knative.dev created\n",
      "customresourcedefinition.apiextensions.k8s.io/subscriptions.messaging.knative.dev created\n",
      "customresourcedefinition.apiextensions.k8s.io/triggers.eventing.knative.dev created\n",
      "customresourcedefinition.apiextensions.k8s.io/apiserversources.sources.eventing.knative.dev unchanged\n",
      "customresourcedefinition.apiextensions.k8s.io/brokers.eventing.knative.dev unchanged\n",
      "customresourcedefinition.apiextensions.k8s.io/channels.messaging.knative.dev unchanged\n",
      "customresourcedefinition.apiextensions.k8s.io/containersources.sources.eventing.knative.dev unchanged\n",
      "customresourcedefinition.apiextensions.k8s.io/cronjobsources.sources.eventing.knative.dev unchanged\n",
      "customresourcedefinition.apiextensions.k8s.io/eventtypes.eventing.knative.dev unchanged\n",
      "customresourcedefinition.apiextensions.k8s.io/parallels.flows.knative.dev unchanged\n",
      "customresourcedefinition.apiextensions.k8s.io/sequences.flows.knative.dev unchanged\n",
      "customresourcedefinition.apiextensions.k8s.io/parallels.messaging.knative.dev unchanged\n",
      "customresourcedefinition.apiextensions.k8s.io/sequences.messaging.knative.dev unchanged\n",
      "customresourcedefinition.apiextensions.k8s.io/sinkbindings.sources.eventing.knative.dev unchanged\n",
      "customresourcedefinition.apiextensions.k8s.io/subscriptions.messaging.knative.dev unchanged\n",
      "customresourcedefinition.apiextensions.k8s.io/triggers.eventing.knative.dev unchanged\n",
      "namespace/knative-eventing created\n",
      "clusterrole.rbac.authorization.k8s.io/addressable-resolver created\n",
      "clusterrole.rbac.authorization.k8s.io/service-addressable-resolver created\n",
      "clusterrole.rbac.authorization.k8s.io/serving-addressable-resolver created\n",
      "clusterrole.rbac.authorization.k8s.io/channel-addressable-resolver created\n",
      "clusterrole.rbac.authorization.k8s.io/broker-addressable-resolver created\n",
      "clusterrole.rbac.authorization.k8s.io/messaging-addressable-resolver created\n",
      "clusterrole.rbac.authorization.k8s.io/flows-addressable-resolver created\n",
      "clusterrole.rbac.authorization.k8s.io/eventing-broker-filter created\n",
      "clusterrole.rbac.authorization.k8s.io/eventing-broker-ingress created\n",
      "clusterrole.rbac.authorization.k8s.io/eventing-config-reader created\n",
      "clusterrole.rbac.authorization.k8s.io/channelable-manipulator created\n",
      "clusterrole.rbac.authorization.k8s.io/knative-eventing-namespaced-admin created\n",
      "clusterrole.rbac.authorization.k8s.io/knative-messaging-namespaced-admin created\n",
      "clusterrole.rbac.authorization.k8s.io/knative-eventing-sources-namespaced-admin created\n",
      "clusterrole.rbac.authorization.k8s.io/knative-eventing-namespaced-edit created\n",
      "clusterrole.rbac.authorization.k8s.io/knative-eventing-namespaced-view created\n",
      "clusterrole.rbac.authorization.k8s.io/knative-eventing-controller created\n",
      "clusterrole.rbac.authorization.k8s.io/podspecable-binding created\n",
      "clusterrole.rbac.authorization.k8s.io/builtin-podspecable-binding created\n",
      "serviceaccount/eventing-controller created\n",
      "serviceaccount/eventing-webhook created\n",
      "serviceaccount/eventing-source-controller created\n",
      "clusterrole.rbac.authorization.k8s.io/source-observer created\n",
      "clusterrole.rbac.authorization.k8s.io/eventing-sources-source-observer created\n",
      "clusterrole.rbac.authorization.k8s.io/knative-eventing-source-controller created\n",
      "clusterrole.rbac.authorization.k8s.io/knative-eventing-webhook created\n",
      "clusterrolebinding.rbac.authorization.k8s.io/eventing-controller created\n",
      "clusterrolebinding.rbac.authorization.k8s.io/eventing-controller-resolver created\n",
      "clusterrolebinding.rbac.authorization.k8s.io/eventing-controller-source-observer created\n",
      "clusterrolebinding.rbac.authorization.k8s.io/eventing-controller-manipulator created\n",
      "clusterrolebinding.rbac.authorization.k8s.io/eventing-webhook created\n",
      "clusterrolebinding.rbac.authorization.k8s.io/eventing-source-controller created\n",
      "clusterrolebinding.rbac.authorization.k8s.io/eventing-source-controller-resolver created\n",
      "clusterrolebinding.rbac.authorization.k8s.io/eventing-webhook-resolver created\n",
      "clusterrolebinding.rbac.authorization.k8s.io/eventing-webhook-podspecable-binding created\n",
      "customresourcedefinition.apiextensions.k8s.io/apiserversources.sources.eventing.knative.dev unchanged\n",
      "customresourcedefinition.apiextensions.k8s.io/brokers.eventing.knative.dev unchanged\n",
      "customresourcedefinition.apiextensions.k8s.io/channels.messaging.knative.dev unchanged\n",
      "customresourcedefinition.apiextensions.k8s.io/containersources.sources.eventing.knative.dev unchanged\n",
      "customresourcedefinition.apiextensions.k8s.io/cronjobsources.sources.eventing.knative.dev unchanged\n",
      "customresourcedefinition.apiextensions.k8s.io/eventtypes.eventing.knative.dev unchanged\n",
      "customresourcedefinition.apiextensions.k8s.io/parallels.flows.knative.dev unchanged\n",
      "customresourcedefinition.apiextensions.k8s.io/sequences.flows.knative.dev unchanged\n",
      "customresourcedefinition.apiextensions.k8s.io/parallels.messaging.knative.dev unchanged\n",
      "customresourcedefinition.apiextensions.k8s.io/sequences.messaging.knative.dev unchanged\n",
      "customresourcedefinition.apiextensions.k8s.io/sinkbindings.sources.eventing.knative.dev unchanged\n",
      "customresourcedefinition.apiextensions.k8s.io/subscriptions.messaging.knative.dev unchanged\n",
      "customresourcedefinition.apiextensions.k8s.io/triggers.eventing.knative.dev unchanged\n",
      "configmap/default-ch-webhook created\n",
      "service/eventing-webhook created\n",
      "deployment.apps/eventing-controller created\n",
      "deployment.apps/sources-controller created\n",
      "mutatingwebhookconfiguration.admissionregistration.k8s.io/webhook.eventing.knative.dev created\n",
      "validatingwebhookconfiguration.admissionregistration.k8s.io/validation.webhook.eventing.knative.dev created\n",
      "validatingwebhookconfiguration.admissionregistration.k8s.io/config.webhook.eventing.knative.dev created\n",
      "mutatingwebhookconfiguration.admissionregistration.k8s.io/sinkbindings.webhook.sources.knative.dev created\n",
      "secret/eventing-webhook-certs created\n",
      "deployment.apps/eventing-webhook created\n",
      "configmap/config-logging created\n",
      "configmap/config-observability created\n",
      "configmap/config-tracing created\n",
      "Waiting for deployment \"eventing-controller\" rollout to finish: 0 of 1 updated replicas are available...\n",
      "deployment \"eventing-controller\" successfully rolled out\n",
      "clusterrole.rbac.authorization.k8s.io/imc-addressable-resolver created\n",
      "clusterrole.rbac.authorization.k8s.io/imc-channelable-manipulator created\n",
      "clusterrole.rbac.authorization.k8s.io/imc-controller created\n",
      "clusterrole.rbac.authorization.k8s.io/imc-dispatcher created\n",
      "service/imc-dispatcher created\n",
      "serviceaccount/imc-controller created\n",
      "serviceaccount/imc-dispatcher created\n",
      "clusterrolebinding.rbac.authorization.k8s.io/imc-controller created\n",
      "clusterrolebinding.rbac.authorization.k8s.io/imc-dispatcher created\n",
      "customresourcedefinition.apiextensions.k8s.io/inmemorychannels.messaging.knative.dev created\n",
      "deployment.apps/imc-controller created\n",
      "deployment.apps/imc-dispatcher created\n"
     ]
    }
   ],
   "source": [
    "%%bash\n",
    "\n",
    "kubectl apply --selector knative.dev/crd-install=true \\\n",
    "\t--filename https://github.com/knative/eventing/releases/download/v0.11.0/eventing.yaml\n",
    "\n",
    "kubectl apply --selector knative.dev/crd-install=true \\\n",
    "\t--filename https://github.com/knative/eventing/releases/download/v0.11.0/eventing.yaml \n",
    "\n",
    "kubectl apply \\\n",
    "\t--filename https://github.com/knative/eventing/releases/download/v0.11.0/eventing.yaml \n",
    "\n",
    "kubectl rollout status -n knative-eventing deployment/eventing-controller\n",
    "\n",
    "kubectl apply --filename https://github.com/knative/eventing/releases/download/v0.11.0/in-memory-channel.yaml"
   ]
  },
  {
   "cell_type": "code",
   "execution_count": 23,
   "metadata": {},
   "outputs": [
    {
     "name": "stdout",
     "output_type": "stream",
     "text": [
      "NAME                                  READY   STATUS    RESTARTS   AGE\r\n",
      "eventing-controller-d67878576-szkqx   1/1     Running   0          34s\r\n",
      "eventing-webhook-5b45945585-l8xxf     1/1     Running   0          34s\r\n",
      "imc-controller-67b4c9787b-np5cm       1/1     Running   0          30s\r\n",
      "imc-dispatcher-7b57bc9796-b4hpn       1/1     Running   0          30s\r\n",
      "sources-controller-685db898c-t65fl    1/1     Running   0          34s\r\n"
     ]
    }
   ],
   "source": [
    "!kubectl get pods -n knative-eventing"
   ]
  },
  {
   "cell_type": "markdown",
   "metadata": {},
   "source": [
    "#### Create Request Logger in Seldon Logs namespace"
   ]
  },
  {
   "cell_type": "code",
   "execution_count": 31,
   "metadata": {},
   "outputs": [
    {
     "name": "stdout",
     "output_type": "stream",
     "text": [
      "namespace/seldon-logs labeled\r\n"
     ]
    }
   ],
   "source": [
    "!kubectl label namespace seldon-logs knative-eventing-injection=enabled --overwrite=true"
   ]
  },
  {
   "cell_type": "code",
   "execution_count": 32,
   "metadata": {},
   "outputs": [
    {
     "name": "stdout",
     "output_type": "stream",
     "text": [
      "NAME      READY   REASON   URL                                                   AGE\r\n",
      "default   True             http://default-broker.seldon-logs.svc.cluster.local   18s\r\n"
     ]
    }
   ],
   "source": [
    "!kubectl get broker -n seldon-logs "
   ]
  },
  {
   "cell_type": "code",
   "execution_count": 30,
   "metadata": {},
   "outputs": [
    {
     "name": "stdout",
     "output_type": "stream",
     "text": [
      "trigger.eventing.knative.dev/seldon-request-logger-trigger created\n",
      "deployment.apps/seldon-request-logger unchanged\n",
      "service/seldon-request-logger unchanged\n"
     ]
    }
   ],
   "source": [
    "%%bash\n",
    "kubectl apply -f - << END\n",
    "apiVersion: eventing.knative.dev/v1alpha1\n",
    "kind: Trigger\n",
    "metadata:\n",
    " name: seldon-request-logger-trigger\n",
    " namespace: seldon-logs\n",
    "spec:\n",
    " subscriber:\n",
    "   ref:\n",
    "     apiVersion: v1\n",
    "     kind: Service\n",
    "     name: seldon-request-logger\n",
    "END\n",
    "\n",
    "kubectl apply -f - << END\n",
    "apiVersion: apps/v1\n",
    "kind: Deployment\n",
    "metadata:\n",
    " name: seldon-request-logger\n",
    " namespace: seldon-logs\n",
    " labels:\n",
    "   app: seldon-request-logger\n",
    "spec:\n",
    " replicas: 1\n",
    " selector:\n",
    "   matchLabels:\n",
    "     app: seldon-request-logger\n",
    " template:\n",
    "   metadata:\n",
    "     labels:\n",
    "       app: seldon-request-logger\n",
    "   spec:\n",
    "     containers:\n",
    "       - name: user-container\n",
    "         image: docker.io/seldonio/seldon-request-logger:1.2.2-dev\n",
    "         imagePullPolicy: IfNotPresent\n",
    "         env:\n",
    "           - name: ELASTICSEARCH_HOST\n",
    "             value: \"elasticsearch-master.seldon-logs.svc.cluster.local\"\n",
    "           - name: ELASTICSEARCH_PORT\n",
    "             value: \"9200\"\n",
    "END\n",
    "\n",
    "kubectl apply -f - << END\n",
    "apiVersion: v1\n",
    "kind: Service\n",
    "metadata:\n",
    " name: seldon-request-logger\n",
    " namespace: seldon-logs\n",
    "spec:\n",
    " selector:\n",
    "   app: seldon-request-logger\n",
    " ports:\n",
    "   - protocol: TCP\n",
    "     port: 80\n",
    "     targetPort: 8080\n",
    "END"
   ]
  },
  {
   "cell_type": "code",
   "execution_count": 33,
   "metadata": {},
   "outputs": [
    {
     "name": "stdout",
     "output_type": "stream",
     "text": [
      "NAME                            READY   REASON   BROKER    SUBSCRIBER_URI                                                AGE\r\n",
      "seldon-request-logger-trigger   True             default   http://seldon-request-logger.seldon-logs.svc.cluster.local/   2m18s\r\n"
     ]
    }
   ],
   "source": [
    "!kubectl get trigger -n seldon-logs"
   ]
  },
  {
   "cell_type": "code",
   "execution_count": null,
   "metadata": {},
   "outputs": [],
   "source": [
    "#### Deploy model with request logger"
   ]
  },
  {
   "cell_type": "code",
   "execution_count": 54,
   "metadata": {},
   "outputs": [
    {
     "name": "stdout",
     "output_type": "stream",
     "text": [
      "seldon ns exists\n",
      "seldondeployment.machinelearning.seldon.io/sklearn configured\n"
     ]
    },
    {
     "name": "stderr",
     "output_type": "stream",
     "text": [
      "Error from server (AlreadyExists): namespaces \"seldon\" already exists\n"
     ]
    }
   ],
   "source": [
    "%%bash\n",
    "\n",
    "kubectl create ns seldon || echo \"seldon ns exists\"\n",
    "\n",
    "kubectl apply -n seldon -f - << END\n",
    "kind: SeldonDeployment\n",
    "apiVersion: machinelearning.seldon.io/v1\n",
    "metadata:\n",
    "  name: sklearn\n",
    "spec:\n",
    "  annotations:\n",
    "    seldon.io/engine-seldon-log-messages-externally: 'true'\n",
    "  name: sklearn\n",
    "  predictors:\n",
    "  - name: default\n",
    "    graph:\n",
    "      name: irisclassifier-default\n",
    "      implementation: SKLEARN_SERVER\n",
    "      endpoint:\n",
    "        type: REST\n",
    "      modelUri: gs://seldon-models/sklearn/iris\n",
    "      logger:\n",
    "        mode: \"all\"\n",
    "    replicas: 1\n",
    "END"
   ]
  },
  {
   "cell_type": "markdown",
   "metadata": {},
   "source": [
    "## Send Request"
   ]
  },
  {
   "cell_type": "code",
   "execution_count": null,
   "metadata": {},
   "outputs": [],
   "source": [
    "import requests\n",
    "url = \"http://localhost:80/seldon/seldon/sklearn/api/v1.0\""
   ]
  },
  {
   "cell_type": "code",
   "execution_count": 55,
   "metadata": {},
   "outputs": [],
   "source": [
    "pred_req_1 = {\"data\":{\"ndarray\":[[1,2,3,4]]}}\n",
    "pred_resp_1 = requests.post(f\"{url}/predictions\", json=pred_req_1)"
   ]
  },
  {
   "cell_type": "code",
   "execution_count": 56,
   "metadata": {},
   "outputs": [
    {
     "name": "stdout",
     "output_type": "stream",
     "text": [
      "Response ID: b470c0a1-e207-43d4-90d4-db64b879d068\n",
      "{'data': {'names': ['t:0', 't:1', 't:2'], 'ndarray': [[0.0006985194531162841, 0.003668039039435755, 0.9956334415074478]]}, 'meta': {}}\n"
     ]
    }
   ],
   "source": [
    "print(f\"Response ID: {pred_resp_1.headers.get('seldon-puid')}\")\n",
    "print(pred_resp_1.json())"
   ]
  },
  {
   "cell_type": "markdown",
   "metadata": {},
   "source": [
    "### Check request was sent to Elasticsearch"
   ]
  },
  {
   "cell_type": "code",
   "execution_count": 57,
   "metadata": {},
   "outputs": [],
   "source": [
    "from elasticsearch import Elasticsearch\n",
    "es = Elasticsearch(['http://localhost:9200'])"
   ]
  },
  {
   "cell_type": "markdown",
   "metadata": {},
   "source": [
    "See the index that has been created"
   ]
  },
  {
   "cell_type": "code",
   "execution_count": 58,
   "metadata": {},
   "outputs": [
    {
     "data": {
      "text/plain": [
       "{'inference-log-seldon-seldon-sklearn-default': {'aliases': {}}}"
      ]
     },
     "execution_count": 58,
     "metadata": {},
     "output_type": "execute_result"
    }
   ],
   "source": [
    " es.indices.get_alias(\"*\")"
   ]
  },
  {
   "cell_type": "markdown",
   "metadata": {},
   "source": [
    "Check that the index has been created for that request"
   ]
  },
  {
   "cell_type": "code",
   "execution_count": 75,
   "metadata": {},
   "outputs": [
    {
     "name": "stdout",
     "output_type": "stream",
     "text": [
      "Logged Request:\n",
      "{'ce-source': 'http:localhost:8000', 'instance': [1.0, 2.0, 3.0, 4.0], 'payload': {'data': {'ndarray': [[1, 2, 3, 4]]}}, 'dataType': 'tabular', 'elements': {}, 'ce-time': '2020-07-11T08:41:50.378621945Z'}\n",
      "\n",
      "Logged Response:\n",
      "{'payload': {'data': {'names': ['t:0', 't:1', 't:2'], 'ndarray': [[0.0006985194531162841, 0.003668039039435755, 0.9956334415074478]]}, 'meta': {}}, 'dataType': 'tabular', 'elements': {'t:0': [0.0006985194531162841], 't:1': [0.003668039039435755], 't:2': [0.9956334415074478]}, 'instance': [0.0006985194531162841, 0.003668039039435755, 0.9956334415074478], 'names': ['t:0', 't:1', 't:2'], 'ce-time': '2020-07-11T08:41:50.384083245Z', 'ce-source': 'http:localhost:8000'}\n"
     ]
    }
   ],
   "source": [
    "res = es.search(index=\"inference-log-seldon-seldon-sklearn-default\", body={\"query\": {\"match_all\": {}}})\n",
    "print(\"Logged Request:\")\n",
    "print(res[\"hits\"][\"hits\"][0][\"_source\"][\"request\"])\n",
    "print(\"\\nLogged Response:\")\n",
    "print(res[\"hits\"][\"hits\"][0][\"_source\"][\"response\"])"
   ]
  },
  {
   "cell_type": "markdown",
   "metadata": {},
   "source": [
    "### Now we can send feedback \n",
    "\n",
    "For this we can include the reward, which in this case can state whether it's correct or incorrect, together with the truth answer, in case it was incorrect (or to emphasise that it was correct).\n",
    "\n",
    "In order for us to be able to send the feedback to the right request, we need to provide the feedback ID for the request:"
   ]
  },
  {
   "cell_type": "code",
   "execution_count": 79,
   "metadata": {},
   "outputs": [
    {
     "name": "stdout",
     "output_type": "stream",
     "text": [
      "b470c0a1-e207-43d4-90d4-db64b879d068\n"
     ]
    }
   ],
   "source": [
    "puid_seldon_1 = pred_resp_1.headers.get(\"seldon-puid\")\n",
    "\n",
    "print(puid_seldon_1)"
   ]
  },
  {
   "cell_type": "markdown",
   "metadata": {},
   "source": [
    "We will also be able to add extra metadata, such as the user providing the feedback, date, time, etc."
   ]
  },
  {
   "cell_type": "code",
   "execution_count": 82,
   "metadata": {},
   "outputs": [],
   "source": [
    "feedback_tags_1 = {\n",
    "    \"user\": \"Seldon Admin\",\n",
    "    \"date\": \"11/07/2020\"\n",
    "}"
   ]
  },
  {
   "cell_type": "markdown",
   "metadata": {},
   "source": [
    "And finally we can put together the feedback request."
   ]
  },
  {
   "cell_type": "code",
   "execution_count": 84,
   "metadata": {},
   "outputs": [],
   "source": [
    "feedback_req_1 = {\n",
    "    \"reward\": 0,\n",
    "    \"truth\": {\n",
    "        'data': {\n",
    "            'names': ['t:0', 't:1', 't:2'], \n",
    "            'ndarray': [[0, 0, 1]]\n",
    "        },\n",
    "        \"meta\": {\n",
    "            \"tags\": feedback_tags_1\n",
    "        }\n",
    "    }\n",
    "}"
   ]
  },
  {
   "cell_type": "code",
   "execution_count": 85,
   "metadata": {},
   "outputs": [],
   "source": [
    "feedback_resp_1 = requests.post(f\"{url}/feedback\", json=feedback_req_1, headers={\"seldon-puid\": puid_seldon_1})"
   ]
  },
  {
   "cell_type": "code",
   "execution_count": 86,
   "metadata": {},
   "outputs": [
    {
     "data": {
      "text/plain": [
       "<Response [200]>"
      ]
     },
     "execution_count": 86,
     "metadata": {},
     "output_type": "execute_result"
    }
   ],
   "source": [
    "feedback_resp_1"
   ]
  },
  {
   "cell_type": "markdown",
   "metadata": {},
   "source": [
    "### CHeck that feedback has been received"
   ]
  },
  {
   "cell_type": "code",
   "execution_count": 87,
   "metadata": {},
   "outputs": [
    {
     "name": "stdout",
     "output_type": "stream",
     "text": [
      "{'reward': 0, 'ce-source': 'http:localhost:8000', 'truth': {'data': {'names': ['t:0', 't:1', 't:2'], 'ndarray': [[0.0006985194531162841, 0.003668039039435755, 0.9956334415074478]]}, 'meta': {'tags': {'date': '11/07/2020', 'user': 'Seldon Admin'}}}, 'ce-time': '2020-07-11T09:00:44.310299646Z'}\n"
     ]
    }
   ],
   "source": [
    "res = es.search(index=\"inference-log-seldon-seldon-sklearn-default\", body={\"query\": {\"match_all\": {}}})\n",
    "print(res[\"hits\"][\"hits\"][0][\"_source\"][\"feedback\"])"
   ]
  },
  {
   "cell_type": "markdown",
   "metadata": {},
   "source": [
    "### Stateful metrics Overview\n",
    "\n",
    "Now that we have seen the basics of the feedback mechanism we can actually leverage the features it provides.\n",
    "\n",
    "For this we'll want to send a few requests, together with feedback to some requests. This will include:\n",
    "* 100 requests in total\n",
    "* 50 will be provided feedback\n",
    "* 35 of those will be correct (the rest incorrect)\n",
    "\n",
    "Once we set up the requests, we will be able to get further insights."
   ]
  },
  {
   "cell_type": "code",
   "execution_count": 248,
   "metadata": {},
   "outputs": [],
   "source": [
    "TOTAL_REQS = 100\n",
    "MAX_FEEDBACK = 63\n",
    "MAX_CORRECT = 46"
   ]
  },
  {
   "cell_type": "code",
   "execution_count": 249,
   "metadata": {},
   "outputs": [
    {
     "data": {
      "text/plain": [
       "{'acknowledged': True}"
      ]
     },
     "execution_count": 249,
     "metadata": {},
     "output_type": "execute_result"
    }
   ],
   "source": [
    "es.indices.delete(index='inference-log-seldon-seldon-sklearn-default', ignore=[400, 404])"
   ]
  },
  {
   "cell_type": "markdown",
   "metadata": {},
   "source": [
    "#### First send all the requests"
   ]
  },
  {
   "cell_type": "code",
   "execution_count": 280,
   "metadata": {},
   "outputs": [],
   "source": [
    "ids_list = []\n",
    "for i in range(TOTAL_REQS):\n",
    "    pred_req = {\"data\":{\"ndarray\":[[1,2,3,4]]}}\n",
    "    pred_resp = requests.post(f\"{url}/predictions\", json=pred_req)\n",
    "    assert pred_resp.status_code == 200\n",
    "    ids_list.append(pred_resp.headers[\"seldon-puid\"])\n",
    "    "
   ]
  },
  {
   "cell_type": "code",
   "execution_count": 298,
   "metadata": {},
   "outputs": [
    {
     "name": "stdout",
     "output_type": "stream",
     "text": [
      "{'count': 212, '_shards': {'total': 1, 'successful': 1, 'skipped': 0, 'failed': 0}}\n"
     ]
    }
   ],
   "source": [
    "es_count = es.count(index=\"inference-log-seldon-seldon-sklearn-default\")\n",
    "print(es_count)"
   ]
  },
  {
   "cell_type": "markdown",
   "metadata": {},
   "source": [
    "#### Then send the feedback"
   ]
  },
  {
   "cell_type": "code",
   "execution_count": 259,
   "metadata": {},
   "outputs": [],
   "source": [
    "default_truth_val = {'data': { 'names': ['t:0', 't:1', 't:2'], 'ndarray': [[0, 0, 1]]}}\n",
    "default_truth_meta = {\"tags\": {\"user\": \"Seldon Admin\", \"date\": \"11/07/2020\"}}\n",
    "\n",
    "for idx, sid in enumerate(ids_list):\n",
    "    if idx == MAX_FEEDBACK: break # we only want to provide feedback to 50\n",
    "    \n",
    "    feedback = {}\n",
    "    feedback[\"reward\"] = idx < MAX_CORRECT\n",
    "    feedback[\"truth\"] = {} if idx < MAX_CORRECT else default_truth_val\n",
    "    feedback[\"truth\"][\"meta\"] = default_truth_meta\n",
    "    \n",
    "    feed_resp = requests.post(f\"{url}/feedback\", json=feedback, headers={\"seldon-puid\": sid})\n",
    "    assert feed_resp.status_code == 200"
   ]
  },
  {
   "cell_type": "markdown",
   "metadata": {},
   "source": [
    "### Exposing Feedback Metrics\n",
    "\n",
    "Now that feedback has been provided, it's possible to expose the feedback metrics for visualisation.\n",
    "\n",
    "The default and simplest way to provide this is basically through two simple metrics:\n",
    "* Accuracy \n",
    "* Number of data with feedback\n",
    "\n",
    "This can be extended to also provide insights such as:\n",
    "* Precision\n",
    "* Recall\n",
    "* Specificity\n",
    "* F1 score\n",
    "\n",
    "Primarily as these insights can be provided as insights with teh feedback. For more advanced metrics is discussed below."
   ]
  },
  {
   "cell_type": "code",
   "execution_count": 260,
   "metadata": {},
   "outputs": [
    {
     "name": "stdout",
     "output_type": "stream",
     "text": [
      "{'reward_sum': {'value': 46.0, 'value_as_string': 'true'}, 'reward_count': {'doc_count': 63}}\n"
     ]
    }
   ],
   "source": [
    "query = {\n",
    "  \"aggregations\": { \n",
    "    \"reward_sum\": { \"sum\": { \"field\": \"feedback.reward\" } },\n",
    "    \"reward_count\": { \"filter\": { \"exists\": { \"field\": \"feedback.reward\"} } }\n",
    "  }\n",
    "}\n",
    "feedback_metrics = es.search(index=\"inference-log-seldon-seldon-sklearn-default\", body=query)\n",
    "print(feedback_metrics[\"aggregations\"])"
   ]
  },
  {
   "cell_type": "markdown",
   "metadata": {},
   "source": [
    "This can also be performed for a specified datetime, so you can actually filter the accuracy / performance based on:\n",
    "* Date of processing of the initial request\n",
    "* Date of feedback being provided\n",
    "\n",
    "Below is a simple visualisation of these results:"
   ]
  },
  {
   "cell_type": "code",
   "execution_count": 279,
   "metadata": {},
   "outputs": [
    {
     "data": {
      "image/png": "[encoded data removed]",
      "text/plain": [
       "<Figure size 864x432 with 2 Axes>"
      ]
     },
     "metadata": {},
     "output_type": "display_data"
    }
   ],
   "source": [
    "import numpy as np\n",
    "import matplotlib.pyplot as plt\n",
    "\n",
    "feedback_correct = feedback_metrics[\"aggregations\"][\"reward_sum\"][\"value\"]\n",
    "feedback_total = feedback_metrics[\"aggregations\"][\"reward_count\"][\"doc_count\"]\n",
    "feedback_incorrect = feedback_total - feedback_correct\n",
    "no_feedback = es_count[\"count\"] - feedback_total\n",
    "\n",
    "plt.subplots(figsize=(12, 6))\n",
    "plt.subplot(1, 2, 1)\n",
    "plt.title(\"Accuracy (Correct vs Incorrect)\")\n",
    "plt.pie([feedback_incorrect, feedback_correct], explode=(0, 0.1), labels=('Incorrect', 'Correct'), autopct='%1.1f%%', shadow=True, startangle=90, colors=['yellow', 'lightskyblue'])  \n",
    "\n",
    "plt.subplot(1, 2, 2)\n",
    "plt.title(\"Total Requests vs Feedback Proveded\")\n",
    "plt.pie([feedback_total, no_feedback], explode=(0.1, 0), labels=('Feedback Provided', 'No Feedback'), autopct='%.0f', shadow=True, startangle=90, colors=['green', 'red'])\n",
    "\n",
    "plt.show()"
   ]
  },
  {
   "cell_type": "markdown",
   "metadata": {},
   "source": [
    "## Real Time Metrics Example\n",
    "\n",
    "Similar to the design pattern that Seldon Core introduced with request logging and outlier detectors through asynchronous eventing, it's possible to do the same for metrics.\n",
    "\n",
    "More specifically, it is possible to set up a stateful feedback processor which retrieves all the metrics on start and registers for feedback events to provide real time insights on any new incoming requests.\n",
    "\n",
    "In this notebook we show how this can be achieved thorugh two different approaches:\n",
    "* As a separate stateful metrics processor using KNative Eventing\n",
    "* Implemented in the seldon model itself\n",
    "\n",
    "Below we dive into both examples together with tradeoffs.\n",
    "\n",
    "#### Example of custom stateful metrics processor\n",
    "\n",
    "These can then be visualised through different areas such as through prometheus metrics, using a grafana dashboard. Below is a brief example of how this can be achieved through a simple implementation.\n",
    "\n",
    "\n",
    "<img src=\"img/custom-stateful.jpg\">\n"
   ]
  },
  {
   "cell_type": "markdown",
   "metadata": {},
   "source": [
    "\n",
    "First we deploy the Seldon Core Analyitcs"
   ]
  },
  {
   "cell_type": "code",
   "execution_count": null,
   "metadata": {},
   "outputs": [],
   "source": [
    "!helm install seldon-core-analytics ../../../helm-charts/seldon-core-analytics --namespace seldon-system"
   ]
  },
  {
   "cell_type": "markdown",
   "metadata": {},
   "source": [
    "Now we should be able to access the grafana dashboard for the model. You can access it by port-forwarding the grafana dashboard with:\n",
    "```\n",
    "kubectl port-forward -n seldon-system svc/seldon-core-analytics-grafana 7000:80\n",
    "```\n",
    "This way you can now access it via `http://localhost:7000` with the username `admin` and password `password`.\n",
    "\n",
    "You should be able to see the following dashboard out of the box:\n",
    "![](img/base-dashboard.jpg)\n",
    "\n",
    "Now we can deploy our [stateful metrics component](../../../components/stateful-metrics-server/) with the following configuration:"
   ]
  },
  {
   "cell_type": "code",
   "execution_count": null,
   "metadata": {},
   "outputs": [],
   "source": [
    "%%bash\n",
    "kubectl apply -n seldon-logs -f - << END\n",
    "---\n",
    "apiVersion: apps/v1\n",
    "kind: Deployment\n",
    "metadata:\n",
    " name: seldon-stateful-metrics-sklearn-deployment\n",
    " labels:\n",
    "   app: seldon-stateful-metrics-sklearn\n",
    "spec:\n",
    " replicas: 1\n",
    " selector:\n",
    "   matchLabels:\n",
    "     app: seldon-stateful-metrics-sklearn\n",
    " template:\n",
    "   metadata:\n",
    "     annotations:\n",
    "       prometheus.io/path: /metrics\n",
    "       prometheus.io/scrape: \"true\"\n",
    "     labels:\n",
    "       app: seldon-stateful-metrics-sklearn\n",
    "   spec:\n",
    "     containers:\n",
    "       - name: user-container\n",
    "         image: docker.io/seldonio/stateful-metrics-server:1.2.2-dev\n",
    "         imagePullPolicy: IfNotPresent\n",
    "         ports:\n",
    "         - containerPort: 8080\n",
    "           name: metrics\n",
    "           protocol: TCP\n",
    "         - containerPort: 8080\n",
    "           name: http\n",
    "           protocol: TCP\n",
    "         env:\n",
    "           - name: ELASTICSEARCH_HOST\n",
    "             value: \"elasticsearch-master.seldon-logs.svc.cluster.local\"\n",
    "           - name: ELASTICSEARCH_PORT\n",
    "             value: \"9200\"\n",
    "---\n",
    "apiVersion: v1\n",
    "kind: Service\n",
    "metadata:\n",
    " name: seldon-stateful-metrics-sklearn-svc\n",
    "spec:\n",
    " selector:\n",
    "   app: seldon-stateful-metrics-sklearn\n",
    " ports:\n",
    "   - protocol: TCP\n",
    "     port: 80\n",
    "     targetPort: 8080\n",
    "END"
   ]
  },
  {
   "cell_type": "markdown",
   "metadata": {},
   "source": [
    "A couple of things to notice, is that here we have enabled prometheus scraping to the `/metrics` endpoint, and we've also added the named `metrcs` port, which `seldon-core-analytics` is configured to scrape from.\n",
    "\n",
    "Now we can actually deploy the trigger for the model we've built:"
   ]
  },
  {
   "cell_type": "code",
   "execution_count": null,
   "metadata": {},
   "outputs": [],
   "source": [
    "%%bash\n",
    "kubectl apply -n seldon-logs -f - << END\n",
    "apiVersion: eventing.knative.dev/v1alpha1\n",
    "kind: Trigger\n",
    "metadata:\n",
    "  name: seldon-stateful-metrics-sklearn-trigger\n",
    "spec:\n",
    "  subscriber:\n",
    "    ref:\n",
    "      apiVersion: v1\n",
    "      kind: Service\n",
    "      name: seldon-stateful-metrics-sklearn-svc\n",
    "  filter:\n",
    "    attributes:\n",
    "      type: io.seldon.serving.feedback\n",
    "      inferenceservicename: sklearn\n",
    "END"
   ]
  },
  {
   "cell_type": "markdown",
   "metadata": {},
   "source": [
    "You can see that this trigger is filtering on the `type: io.seldon.serving.feedback` and `inferenceservicename: sklearn`.\n",
    "\n",
    "Once we have this, we actually would see that it automatically collects all of the available logs and starts producing metrics that are being collected with prometheus.\n",
    "\n",
    "We can confirm this by proceeding to our dashboard and adding a new dashboard, with the prometheus datasource, and the metric would have as value `sum(correct_total) / sum(total_total)` which basically is the metric `correct_total` divided by the `total_total` which shoudl give us the real time accuracy.\n",
    "\n",
    "You should be able to see the following: \n",
    "\n",
    "![](img/accuracy-dashboard.jpg)\n",
    "\n",
    "Once you add this dashboard, you can set it to refresh every 5 minutes, and in turn, we will now be able to see real time accuracy changing, let's actually start some data:"
   ]
  },
  {
   "cell_type": "code",
   "execution_count": null,
   "metadata": {
    "scrolled": true
   },
   "outputs": [],
   "source": [
    "import time\n",
    "import random\n",
    "\n",
    "CORRECT_PROBABILITY = 0.8\n",
    "\n",
    "pred_req = {\"data\":{\"ndarray\":[[1,2,3,4]]}}\n",
    "default_truth_val = {'data': { 'names': ['t:0', 't:1', 't:2'], 'ndarray': [[0, 0, 1]]}}\n",
    "default_truth_meta = {\"tags\": {\"user\": \"Seldon Admin\", \"date\": \"11/07/2020\"}}\n",
    "\n",
    "while True:\n",
    "    pred_resp = requests.post(f\"{url}/predictions\", json=pred_req)\n",
    "    assert pred_resp.status_code == 200\n",
    "    idx = pred_resp.headers[\"seldon-puid\"]\n",
    "    time.sleep(0.1)\n",
    "    \n",
    "    pred = 1 if random.random() > CORRECT_PROBABILITY else 0\n",
    "    print(f\"Sending: {pred} \")\n",
    "    feedback = {}\n",
    "    feedback[\"reward\"] = 1 if pred else 0\n",
    "    feedback[\"truth\"] = {} if pred else default_truth_val\n",
    "    feedback[\"truth\"][\"meta\"] = default_truth_meta\n",
    "    feed_resp = requests.post(f\"{url}/feedback\", json=feedback, headers={\"seldon-puid\": sid})\n",
    "    assert feed_resp.status_code == 200\n",
    "    time.sleep(0.5)    "
   ]
  },
  {
   "cell_type": "markdown",
   "metadata": {},
   "source": [
    "This will send requests that will show 80% probablility of incorrect predictions, showing a steady decline in accuracy as per the image below.\n",
    "\n",
    "![](img/realtime-accuracy.jpg)\n",
    "\n",
    "This could be quite powerful as it could be connected with something like Alertmanager to ensure alerts are sent if the model metric drops below a specific percentage."
   ]
  },
  {
   "cell_type": "markdown",
   "metadata": {},
   "source": [
    "If you wish to load the dashboard directly, you can also do this by importing the json below in your grafana dashboard:"
   ]
  },
  {
   "cell_type": "code",
   "execution_count": null,
   "metadata": {},
   "outputs": [],
   "source": [
    "{\"annotations\": {\"list\": [{\"builtIn\": 1,\"datasource\": \"-- Grafana --\",\"enable\": true,\"hide\": true,\"iconColor\": \"rgba(0, 211, 255, 1)\",\"name\": \"Annotations & Alerts\",\"type\": \"dashboard\"}]},\"editable\": true,\"gnetId\": null,\"graphTooltip\": 0,\"id\": null,\"links\": [],\"panels\": [{\"aliasColors\": {},\"bars\": true,\"dashLength\": 10,\"dashes\": false,\"datasource\": \"prometheus\",\"description\": \"\",\"fieldConfig\": {\"defaults\": {\"custom\": {}},\"overrides\": []},\"fill\": 1,\"fillGradient\": 0,\"gridPos\": {\"h\": 12,\"w\": 24,\"x\": 0,\"y\": 0},\"hiddenSeries\": false,\"id\": 2,\"legend\": {\"avg\": false,\"current\": false,\"max\": false,\"min\": false,\"show\": true,\"total\": false,\"values\": false},\"lines\": true,\"linewidth\": 1,\"nullPointMode\": \"null\",\"options\": {\"dataLinks\": []},\"percentage\": false,\"pointradius\": 2,\"points\": false,\"renderer\": \"flot\",\"seriesOverrides\": [],\"spaceLength\": 10,\"stack\": false,\"steppedLine\": false,\"targets\": [{\"expr\": \"sum(correct_total) / sum(total_total)\",\"interval\": \"\",\"legendFormat\": \"Accuracy %\",\"refId\": \"A\"}],\"thresholds\": [],\"timeFrom\": null,\"timeRegions\": [],\"timeShift\": null,\"title\": \"Real Time Model Accuracy\",\"tooltip\": {\"shared\": true,\"sort\": 0,\"value_type\": \"individual\"},\"type\": \"graph\",\"xaxis\": {\"buckets\": null,\"mode\": \"time\",\"name\": null,\"show\": true,\"values\": []},\"yaxes\": [{\"decimals\": null,\"format\": \"short\",\"label\": null,\"logBase\": 1,\"max\": \"1\",\"min\": \"0\",\"show\": true},{\"format\": \"short\",\"label\": null,\"logBase\": 1,\"max\": null,\"min\": null,\"show\": true}],\"yaxis\": {\"align\": false,\"alignLevel\": null}}],\"refresh\": \"5s\",\"schemaVersion\": 25,\"style\": \"dark\",\"tags\": [],\"templating\": {\"list\": []},\"time\": {\"from\": \"now-5m\",\"to\": \"now\"},\"timepicker\": {\"refresh_intervals\": [\"10s\",\"30s\",\"1m\",\"5m\",\"15m\",\"30m\",\"1h\",\"2h\",\"1d\"]},\"timezone\": \"\",\"title\": \"New dashboard\",\"uid\": null,\"version\": 0}"
   ]
  },
  {
   "cell_type": "markdown",
   "metadata": {},
   "source": [
    "### Example using python wrapper\n",
    "\n",
    "For this second example we will show how we can implement the stateful metrics in the python wrapper itself.\n",
    "\n",
    "The reason why this is possible, is because the metrics server above is actually implemented in a very similar way to the wrapper.\n",
    "\n",
    "Because of this, it will be possible to just use the wrapper itself and enable for more complex functionality.\n",
    "\n",
    "Not only it's possible to store the metrics, but given that the models are loaded, it's possible to perform complex comparisons in the model itself.\n",
    "\n",
    "Let's have a look at an example with the iris classifier example.\n",
    "\n",
    "We will deploy two models as shadows and compare them using statistical metrics.\n",
    "\n",
    "\n",
    "<img src=\"img/standard-server.jpg\">\n",
    "\n",
    "#### Train models\n",
    "\n",
    "We will create a language wrapper, and we will have two models that we want to compare.\n",
    "\n",
    "The first model is a LogisticRegression model, and the second is a Perceptron model.\n",
    "\n",
    "We will first set everyhthing up with the LogisticRegression model."
   ]
  },
  {
   "cell_type": "code",
   "execution_count": 56,
   "metadata": {},
   "outputs": [
    {
     "name": "stdout",
     "output_type": "stream",
     "text": [
      "Writing requirements.txt\n"
     ]
    }
   ],
   "source": [
    "%%writefile requirements.txt\n",
    "joblib==0.14.1\n",
    "scikit-learn==0.20.3"
   ]
  },
  {
   "cell_type": "markdown",
   "metadata": {},
   "source": [
    "We install the dependencies for the training and inference of the model"
   ]
  },
  {
   "cell_type": "code",
   "execution_count": null,
   "metadata": {},
   "outputs": [],
   "source": [
    "!pip install -r requirememnts.txt"
   ]
  },
  {
   "cell_type": "markdown",
   "metadata": {},
   "source": [
    "Now we can build the model wrapper which uses sklearn "
   ]
  },
  {
   "cell_type": "code",
   "execution_count": 74,
   "metadata": {},
   "outputs": [
    {
     "name": "stdout",
     "output_type": "stream",
     "text": [
      "Loading iris data set...\n",
      "Dataset loaded!\n",
      "Training model...\n",
      "Model trained!\n",
      "Saving model in iris-lr.joblib\n",
      "Model saved!\n",
      "Training model...\n",
      "Model trained!\n",
      "Saving model in iris-percept.joblib\n",
      "Model saved!\n"
     ]
    },
    {
     "name": "stderr",
     "output_type": "stream",
     "text": [
      "/home/alejandro/miniconda3/lib/python3.7/site-packages/sklearn/linear_model/stochastic_gradient.py:152: DeprecationWarning: n_iter parameter is deprecated in 0.19 and will be removed in 0.21. Use max_iter and tol instead.\n",
      "  DeprecationWarning)\n"
     ]
    }
   ],
   "source": [
    "import joblib\n",
    "from sklearn.pipeline import Pipeline\n",
    "from sklearn.linear_model import LogisticRegression, Perceptron\n",
    "from sklearn import datasets\n",
    "\n",
    "parameters = [\n",
    "    {\"clf\": LogisticRegression(solver=\"liblinear\", multi_class=\"ovr\"), \"name\": \"iris-lr.joblib\"},\n",
    "    {\"clf\": Perceptron(n_iter=40, eta0=0.1, random_state=0), \"name\": \"iris-percept.joblib\"}\n",
    "]\n",
    "\n",
    "def main():\n",
    "    for param in parameters:\n",
    "        clf = param[\"clf\"]\n",
    "        p = Pipeline([(\"clf\", clf)])\n",
    "        print(\"Training model...\")\n",
    "        p.fit(X, y)\n",
    "        print(\"Model trained!\")\n",
    "\n",
    "        print(f\"Saving model in {param['name']}\")\n",
    "        joblib.dump(p, param['name'])\n",
    "        print(\"Model saved!\")\n",
    "\n",
    "\n",
    "if __name__ == \"__main__\":\n",
    "    print(\"Loading iris data set...\")\n",
    "    iris = datasets.load_iris()\n",
    "    X, y = iris.data, iris.target\n",
    "    print(\"Dataset loaded!\")\n",
    "\n",
    "    main()"
   ]
  },
  {
   "cell_type": "markdown",
   "metadata": {},
   "source": [
    "We can see both our logistic regression model and the perceptron models are available"
   ]
  },
  {
   "cell_type": "code",
   "execution_count": 90,
   "metadata": {},
   "outputs": [
    {
     "name": "stdout",
     "output_type": "stream",
     "text": [
      "IrisClassifier.py  README_files  iris-lr.joblib       train_iris.py\r\n",
      "README.ipynb\t   __pycache__\t iris-percept.joblib\r\n",
      "README.md\t   img\t\t requirements.txt\r\n"
     ]
    }
   ],
   "source": [
    "!ls"
   ]
  },
  {
   "cell_type": "markdown",
   "metadata": {},
   "source": [
    "We can now create our simple wrapper. In this wrapper we will be exposing some of the key custom metrics"
   ]
  },
  {
   "cell_type": "code",
   "execution_count": 91,
   "metadata": {},
   "outputs": [
    {
     "name": "stdout",
     "output_type": "stream",
     "text": [
      "Overwriting IrisClassifier.py\n"
     ]
    }
   ],
   "source": [
    "%%writefile IrisClassifier.py\n",
    "import joblib\n",
    "\n",
    "class IrisClassifier:\n",
    "\n",
    "    def __init__(self, model_name=\"iris-lr.joblib\"):\n",
    "        self.scores = {\"correct\": 0, \"incorrect\": 0}\n",
    "        self.model = joblib.load(model_name)\n",
    "\n",
    "    def predict(self, X, features_names=None, meta=None):\n",
    "        return self.model.predict(X)\n",
    "\n",
    "    def send_feedback(self, features, feature_names, reward, truth, routing=\"\"):\n",
    "        predicted = self.predict(features)\n",
    "        if int(predicted[0]) == int(truth[0]):\n",
    "            self.scores[\"correct\"] += 1\n",
    "        else:\n",
    "            self.scores[\"incorrect\"] += 1\n",
    "        return [] # Ignore return statement as its not used\n",
    "        \n",
    "    def metrics(self):\n",
    "        return [\n",
    "            {\"type\": \"GAUGE\", \"key\": \"correct\", \"value\": self.scores[\"correct\"]},\n",
    "            {\"type\": \"GAUGE\", \"key\": \"incorrect\", \"value\": self.scores[\"incorrect\"]},\n",
    "        ]"
   ]
  },
  {
   "cell_type": "markdown",
   "metadata": {},
   "source": [
    "Now we can build the image"
   ]
  },
  {
   "cell_type": "code",
   "execution_count": 92,
   "metadata": {},
   "outputs": [
    {
     "name": "stdout",
     "output_type": "stream",
     "text": [
      "---> Installing application source...\n",
      "---> Installing dependencies ...\n",
      "Looking in links: /whl\n",
      "Collecting joblib==0.14.1 (from -r requirements.txt (line 1))\n",
      "  WARNING: Url '/whl' is ignored. It is either a non-existing path or lacks a specific scheme.\n",
      "Downloading https://files.pythonhosted.org/packages/28/5c/cf6a2b65a321c4a209efcdf64c2689efae2cb62661f8f6f4bb28547cf1bf/joblib-0.14.1-py2.py3-none-any.whl (294kB)\n",
      "Collecting scikit-learn==0.20.3 (from -r requirements.txt (line 2))\n",
      "  WARNING: Url '/whl' is ignored. It is either a non-existing path or lacks a specific scheme.\n",
      "Downloading https://files.pythonhosted.org/packages/aa/cc/a84e1748a2a70d0f3e081f56cefc634f3b57013b16faa6926d3a6f0598df/scikit_learn-0.20.3-cp37-cp37m-manylinux1_x86_64.whl (5.4MB)\n",
      "Collecting scipy>=0.13.3 (from scikit-learn==0.20.3->-r requirements.txt (line 2))\n",
      "  WARNING: Url '/whl' is ignored. It is either a non-existing path or lacks a specific scheme.\n",
      "Downloading https://files.pythonhosted.org/packages/30/45/ff9df4beceab76f979ee0ea7f5d248596aa5b0c179aa3d30589a3f4549eb/scipy-1.5.1-cp37-cp37m-manylinux1_x86_64.whl (25.9MB)\n",
      "Requirement already satisfied: numpy>=1.8.2 in /opt/conda/lib/python3.7/site-packages (from scikit-learn==0.20.3->-r requirements.txt (line 2)) (1.19.0)\n",
      "Installing collected packages: joblib, scipy, scikit-learn\n",
      "Successfully installed joblib-0.14.1 scikit-learn-0.20.3 scipy-1.5.1\n",
      "Collecting pip-licenses\n",
      "Downloading https://files.pythonhosted.org/packages/2e/8a/b8eb114545d9e984fcc013ef544c487aa2c02489a66185a82108625784a5/pip_licenses-2.2.1-py3-none-any.whl\n",
      "Collecting PTable (from pip-licenses)\n",
      "Downloading https://files.pythonhosted.org/packages/ab/b3/b54301811173ca94119eb474634f120a49cd370f257d1aae5a4abaf12729/PTable-0.9.2.tar.gz\n",
      "Building wheels for collected packages: PTable\n",
      "Building wheel for PTable (setup.py): started\n",
      "Building wheel for PTable (setup.py): finished with status 'done'\n",
      "Created wheel for PTable: filename=PTable-0.9.2-cp37-none-any.whl size=22906 sha256=9b6965b595a29f2f93c8c3bbb06938e11ca7a969381dbdd23ebbb31707710ffa\n",
      "Stored in directory: /root/.cache/pip/wheels/22/cc/2e/55980bfe86393df3e9896146a01f6802978d09d7ebcba5ea56\n",
      "Successfully built PTable\n",
      "Installing collected packages: PTable, pip-licenses\n",
      "Successfully installed PTable-0.9.2 pip-licenses-2.2.1\n",
      "created path: ./licenses/license_info.csv\n",
      "created path: ./licenses/license.txt\n",
      "Build completed successfully\n"
     ]
    }
   ],
   "source": [
    "!s2i build . seldonio/seldon-core-s2i-python37:1.2.2-dev iris_perf:0.1 \\\n",
    "        --env MODEL_NAME=IrisClassifier --env API_TYPE=REST --env SERVICE_TYPE=MODEL --env PERSISTENCE=0"
   ]
  },
  {
   "cell_type": "markdown",
   "metadata": {},
   "source": [
    "Now we can deploy a simple model to initially visualise the custom metrics that are generated"
   ]
  },
  {
   "cell_type": "code",
   "execution_count": 85,
   "metadata": {},
   "outputs": [
    {
     "name": "stdout",
     "output_type": "stream",
     "text": [
      "seldondeployment.machinelearning.seldon.io/iris-lr configured\n"
     ]
    }
   ],
   "source": [
    "%%bash\n",
    "kubectl apply -n seldon -f - <<END\n",
    "apiVersion: machinelearning.seldon.io/v1\n",
    "kind: SeldonDeployment\n",
    "metadata:\n",
    "  name: iris-perf\n",
    "spec:\n",
    "  name: iris-perf\n",
    "  predictors:\n",
    "  - componentSpecs:\n",
    "    - spec:\n",
    "        containers:\n",
    "        - image: iris_perf:0.1\n",
    "          imagePullPolicy: IfNotPresent\n",
    "          name: classifier\n",
    "    graph:\n",
    "      children: []\n",
    "      endpoint:\n",
    "        type: REST\n",
    "      parameters:\n",
    "      - name: model_name\n",
    "        type: STRING\n",
    "        value: iris-lr.joblib\n",
    "      name: classifier\n",
    "      type: MODEL\n",
    "    name: default\n",
    "    replicas: 1\n",
    "END"
   ]
  },
  {
   "cell_type": "code",
   "execution_count": 88,
   "metadata": {},
   "outputs": [
    {
     "name": "stdout",
     "output_type": "stream",
     "text": [
      "iris-lr-default-0-classifier-b6cb8c496-n4m55   2/2     Running   0          62s\r\n"
     ]
    }
   ],
   "source": [
    "!kubectl get pods -n seldon | grep iris-lr"
   ]
  },
  {
   "cell_type": "markdown",
   "metadata": {},
   "source": [
    "Now that we have deployed the model let's send a couple of requests so we can generate metrics, and we can create the dashboard."
   ]
  },
  {
   "cell_type": "code",
   "execution_count": 94,
   "metadata": {},
   "outputs": [],
   "source": [
    "import requests\n",
    "\n",
    "url = \"http://localhost:80/seldon/seldon/iris-perf/api/v1.0\"\n",
    "\n",
    "correct = {\"reward\": 0, \"request\": {\"data\": {\"ndarray\": [[1,2,3,4]]}}, \"truth\":{\"data\": {\"ndarray\": [[1]]}}}\n",
    "incorrect = {\"reward\": 0, \"request\": {\"data\": {\"ndarray\": [[1,2,3,4]]}}, \"truth\":{\"data\": {\"ndarray\": [[2]]}}}\n",
    "\n",
    "for i in range(7):\n",
    "    requests.post(f\"{url}/feedback\", json=incorrect)\n",
    "for i in range(93):\n",
    "    requests.post(f\"{url}/feedback\", json=incorrect)"
   ]
  },
  {
   "cell_type": "markdown",
   "metadata": {},
   "source": [
    "Now we can go to grafana and create a dashboard. We just need to go to the dashboard and provide the custom metrics to create the dashboard.\n",
    "\n",
    "For this, we just have to select \"prometheus\" as the main source, and then we just have to add `sum(correct)/(sum(incorrect)+sum(correct))` as the equation.\n",
    "\n",
    "We should then be able to see the following dashboard:\n",
    "\n",
    "![](img/model-perf.jpg)"
   ]
  },
  {
   "cell_type": "markdown",
   "metadata": {},
   "source": [
    "#### Compare two models performance\n",
    "Now we can actually run two models in parallel and compare their performance against each other.\n",
    "\n",
    "The previous model was trained with a LogisticRegrssion model, this one will be trained with a different SVM model"
   ]
  },
  {
   "cell_type": "code",
   "execution_count": 105,
   "metadata": {},
   "outputs": [
    {
     "name": "stdout",
     "output_type": "stream",
     "text": [
      "seldondeployment.machinelearning.seldon.io/iris-perf created\n"
     ]
    }
   ],
   "source": [
    "%%bash\n",
    "kubectl apply -n seldon -f - <<END\n",
    "apiVersion: machinelearning.seldon.io/v1\n",
    "kind: SeldonDeployment\n",
    "metadata:\n",
    "  name: iris-perf\n",
    "spec:\n",
    "  name: iris-perf\n",
    "  predictors:\n",
    "  - componentSpecs:\n",
    "    - spec:\n",
    "        containers:\n",
    "        - image: iris_perf:0.1\n",
    "          imagePullPolicy: IfNotPresent\n",
    "          name: classifier\n",
    "    graph:\n",
    "      children: []\n",
    "      endpoint:\n",
    "        type: REST\n",
    "      parameters:\n",
    "      - name: model_name\n",
    "        type: STRING\n",
    "        value: iris-lr.joblib\n",
    "      name: classifier\n",
    "      type: MODEL\n",
    "    name: default\n",
    "    replicas: 1\n",
    "  - componentSpecs:\n",
    "    - spec:\n",
    "        containers:\n",
    "        - image: iris_perf:0.1\n",
    "          imagePullPolicy: IfNotPresent\n",
    "          name: classifier\n",
    "    graph:\n",
    "      children: []\n",
    "      endpoint:\n",
    "        type: REST\n",
    "      parameters:\n",
    "      - name: model_name\n",
    "        type: STRING\n",
    "        value: iris-percept.joblib\n",
    "      name: classifier\n",
    "      type: MODEL\n",
    "    name: shadow\n",
    "    replicas: 1\n",
    "    shadow: true\n",
    "END"
   ]
  },
  {
   "cell_type": "markdown",
   "metadata": {},
   "source": [
    "We can now see that the logistic regression (default) and perceptron (shadow) models are running"
   ]
  },
  {
   "cell_type": "code",
   "execution_count": 113,
   "metadata": {},
   "outputs": [
    {
     "name": "stdout",
     "output_type": "stream",
     "text": [
      "iris-perf-default-0-classifier-76998fb887-xjg79   2/2     Running   0          10m\r\n",
      "iris-perf-shadow-0-classifier-7b4bffb85f-t68lw    2/2     Running   0          10m\r\n"
     ]
    }
   ],
   "source": [
    "!kubectl get pods -n seldon | grep iris"
   ]
  },
  {
   "cell_type": "markdown",
   "metadata": {},
   "source": [
    "We now just need to send some data. We can send the data one by one to simulate live data.\n",
    "\n",
    "We will be able to see the data as it's computed in the dashboard"
   ]
  },
  {
   "cell_type": "code",
   "execution_count": 103,
   "metadata": {},
   "outputs": [],
   "source": [
    "from sklearn import datasets\n",
    "\n",
    "iris = datasets.load_iris()\n",
    "X_in, y_in = iris.data, iris.target"
   ]
  },
  {
   "cell_type": "code",
   "execution_count": 111,
   "metadata": {},
   "outputs": [],
   "source": [
    "import time\n",
    "\n",
    "url = \"http://localhost:80/seldon/seldon/iris-perf/api/v1.0\"\n",
    "\n",
    "for x, y in zip(X_in, y_in):\n",
    "    data = {\"reward\": 0, \"request\": {\"data\": {\"ndarray\": [x.tolist()]}}, \"truth\":{\"data\": {\"ndarray\": [[y.tolist()]]}}}\n",
    "    requests.post(f\"{url}/feedback\", json=data)\n",
    "    time.sleep(0.1)"
   ]
  },
  {
   "cell_type": "markdown",
   "metadata": {},
   "source": [
    "We can now see in real time the performance of both models in regards to accuracy.\n",
    "\n",
    "We can see that our logistic regression model is performing better than our perceptron model.\n",
    "\n",
    "In this case we would be able to programmatically promote the logistic regression model without loss of performance.\n",
    "\n",
    "![](img/comparison.jpg)"
   ]
  },
  {
   "cell_type": "markdown",
   "metadata": {},
   "source": [
    "As an extension, it's possible to easily implement further components including:\n",
    "* Loading the historical feedback from elasticsearch upon starting (similar to the metrics server)\n",
    "* Adding further statistical metrics (such as precision, recall, etc), and support multiclass metrics\n",
    "* Storing feedback created by the python wrapper component"
   ]
  },
  {
   "cell_type": "markdown",
   "metadata": {},
   "source": [
    "Based on this implementation, it seems that it's possible to:\n",
    "* Explore providing out-of-the-box statistical metrics on accuracy\n",
    "* Adding ability to amend feedback to provdie more advanced components to store in elasticsearch\n",
    "* Provide out of the box means to load historical data for evaluation"
   ]
  },
  {
   "cell_type": "code",
   "execution_count": null,
   "metadata": {},
   "outputs": [],
   "source": []
  }
 ],
 "metadata": {
  "kernelspec": {
   "display_name": "Python 3",
   "language": "python",
   "name": "python3"
  },
  "language_info": {
   "codemirror_mode": {
    "name": "ipython",
    "version": 3
   },
   "file_extension": ".py",
   "mimetype": "text/x-python",
   "name": "python",
   "nbconvert_exporter": "python",
   "pygments_lexer": "ipython3",
   "version": "3.7.4"
  }
 },
 "nbformat": 4,
 "nbformat_minor": 2
}
