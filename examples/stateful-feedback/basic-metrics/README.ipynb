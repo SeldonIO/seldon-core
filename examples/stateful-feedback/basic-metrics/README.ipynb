{
 "cells": [
  {
   "cell_type": "markdown",
   "metadata": {},
   "source": [
    "## Stateful Basic Model Feedback Metrics \n",
    "\n",
    "In this example we will be able to see how we can add stateful ML metrics into our models.\n",
    "\n",
    "Initially we will see how to use simple statistical metrics for a binary model.\n",
    "\n",
    "We will be able to leverage this to compare the performance of two models at the same time.\n",
    "\n",
    "<table>\n",
    "<tr>\n",
    "<td>\n",
    "    <img src=\"img/realtime-accuracy.jpg\">\n",
    "</td>\n",
    "<td>\n",
    "    <img src=\"img/model-perf-comp.jpg\">\n",
    "</td>\n",
    "</tr>\n",
    "</table>\n",
    "\n",
    "\n",
    "At the end we will be able to show how this can be extended to multiclass models as well.\n",
    "\n",
    "This can be seen in the dashboard below.\n",
    "\n",
    "![](img/comparison-multiclass.jpg)\n",
    "\n",
    "This will explore two architecture to achieve this, namely:\n",
    "* Through a separate stateful metrics server using knative eventing (left)\n",
    "* Through the model server leveraging custom metrics (right)\n",
    "\n",
    "<table>\n",
    "<tr>\n",
    "<td>\n",
    "    <img src=\"img/custom-stateful.jpg\">\n",
    "</td>\n",
    "<td>\n",
    "    <img src=\"img/standard-server.jpg\">\n",
    "</td>\n",
    "</tr>\n",
    "</table>\n",
    "\n",
    "### Setup dependencies\n",
    "* Istio\n",
    "* Seldon Core (with Istio + Req Logger)\n",
    "* Elasticsearch\n",
    "* Knative eventing\n",
    "* Request logger\n",
    "* Model with request logger"
   ]
  },
  {
   "cell_type": "markdown",
   "metadata": {},
   "source": [
    "#### Istio"
   ]
  },
  {
   "cell_type": "code",
   "execution_count": 4,
   "metadata": {},
   "outputs": [
    {
     "name": "stdout",
     "output_type": "stream",
     "text": [
      "Detected that your cluster does not support third party JWT authentication. Falling back to less secure first party JWT. See https://istio.io/docs/ops/best-practices/security/#configure-third-party-service-account-tokens for details.\n",
      "\u001b[32m✔\u001b[0m Istio core installed                                                          \n",
      "\u001b[32m✔\u001b[0m Istiod installed                                                              \n",
      "\u001b[32m✔\u001b[0m Addons installed                                                              \n",
      "\u001b[32m✔\u001b[0m Ingress gateways installed                                                    \n",
      "\u001b[32m✔\u001b[0m Installation complete                                                         "
     ]
    }
   ],
   "source": [
    "!istioctl install -y"
   ]
  },
  {
   "cell_type": "code",
   "execution_count": 3,
   "metadata": {},
   "outputs": [
    {
     "name": "stdout",
     "output_type": "stream",
     "text": [
      "gateway.networking.istio.io/seldon-gateway created\n"
     ]
    }
   ],
   "source": [
    "%%bash\n",
    "kubectl apply -n istio-system -f - << END\n",
    "apiVersion: networking.istio.io/v1alpha3\n",
    "kind: Gateway\n",
    "metadata:\n",
    "  name: seldon-gateway\n",
    "spec:\n",
    "  selector:\n",
    "    istio: ingressgateway # use istio default controller\n",
    "  servers:\n",
    "  - port:\n",
    "      number: 80\n",
    "      name: http\n",
    "      protocol: HTTP\n",
    "    hosts:\n",
    "    - \"*\"\n",
    "END"
   ]
  },
  {
   "cell_type": "markdown",
   "metadata": {},
   "source": [
    "#### Seldon Core"
   ]
  },
  {
   "cell_type": "code",
   "execution_count": 36,
   "metadata": {},
   "outputs": [
    {
     "name": "stdout",
     "output_type": "stream",
     "text": [
      "seldon-system ns exists\n",
      "Release \"seldon-core\" does not exist. Installing it now.\n",
      "NAME: seldon-core\n",
      "LAST DEPLOYED: Sat Jul 11 09:24:28 2020\n",
      "NAMESPACE: seldon-system\n",
      "STATUS: deployed\n",
      "REVISION: 1\n",
      "TEST SUITE: None\n"
     ]
    },
    {
     "name": "stderr",
     "output_type": "stream",
     "text": [
      "Error from server (AlreadyExists): namespaces \"seldon-system\" already exists\n"
     ]
    }
   ],
   "source": [
    "%%bash\n",
    "kubectl create ns seldon-system || echo \"seldon-system ns exists\"\n",
    "\n",
    "helm upgrade --install seldon-core ../../../helm-charts/seldon-core-operator/ \\\n",
    "    --namespace seldon-system \\\n",
    "    --set certmanager.enabled=\"true\" \\\n",
    "    --set istio.enabled=\"true\" \\\n",
    "    --set istio.gateway=\"seldon-gateway.istio-system.svc.cluster.local\" \\\n",
    "    --set executor.requestLogger.defaultEndpoint=\"http://default-broker.seldon-logs.svc.cluster.local\""
   ]
  },
  {
   "cell_type": "code",
   "execution_count": 7,
   "metadata": {},
   "outputs": [
    {
     "name": "stdout",
     "output_type": "stream",
     "text": [
      "namespace/seldon-logs created\n",
      "Release \"elasticsearch\" does not exist. Installing it now.\n",
      "NAME: elasticsearch\n",
      "LAST DEPLOYED: Sat Jul 11 08:56:31 2020\n",
      "NAMESPACE: seldon-logs\n",
      "STATUS: deployed\n",
      "REVISION: 1\n",
      "NOTES:\n",
      "1. Watch all cluster members come up.\n",
      "  $ kubectl get pods --namespace=seldon-logs -l app=elasticsearch-master -w\n",
      "2. Test cluster health using Helm test.\n",
      "  $ helm test elasticsearch\n"
     ]
    }
   ],
   "source": [
    "%%bash\n",
    "kubectl create ns seldon-logs || echo \"seldon-logs ns exists\"\n",
    "helm upgrade --install elasticsearch elasticsearch \\\n",
    "    --version 7.6.0 \\\n",
    "    --namespace=seldon-logs \\\n",
    "    --set service.type=LoadBalancer \\\n",
    "    --set antiAffinity=\"soft\" \\\n",
    "    --repo https://helm.elastic.co \\\n",
    "    --set image=docker.elastic.co/elasticsearch/elasticsearch-oss"
   ]
  },
  {
   "cell_type": "code",
   "execution_count": 9,
   "metadata": {},
   "outputs": [
    {
     "name": "stdout",
     "output_type": "stream",
     "text": [
      "Waiting for 3 pods to be ready...\n",
      "Waiting for 2 pods to be ready...\n",
      "Waiting for 1 pods to be ready...\n",
      "statefulset rolling update complete 3 pods at revision elasticsearch-master-695c796997...\n"
     ]
    }
   ],
   "source": [
    "!kubectl rollout status statefulset/elasticsearch-master -n seldon-logs"
   ]
  },
  {
   "cell_type": "markdown",
   "metadata": {},
   "source": [
    "#### Knative Eventing"
   ]
  },
  {
   "cell_type": "code",
   "execution_count": 29,
   "metadata": {},
   "outputs": [
    {
     "name": "stdout",
     "output_type": "stream",
     "text": [
      "customresourcedefinition.apiextensions.k8s.io/apiserversources.sources.eventing.knative.dev created\n",
      "customresourcedefinition.apiextensions.k8s.io/brokers.eventing.knative.dev created\n",
      "customresourcedefinition.apiextensions.k8s.io/channels.messaging.knative.dev created\n",
      "customresourcedefinition.apiextensions.k8s.io/containersources.sources.eventing.knative.dev created\n",
      "customresourcedefinition.apiextensions.k8s.io/cronjobsources.sources.eventing.knative.dev created\n",
      "customresourcedefinition.apiextensions.k8s.io/eventtypes.eventing.knative.dev created\n",
      "customresourcedefinition.apiextensions.k8s.io/parallels.flows.knative.dev created\n",
      "customresourcedefinition.apiextensions.k8s.io/sequences.flows.knative.dev created\n",
      "customresourcedefinition.apiextensions.k8s.io/parallels.messaging.knative.dev created\n",
      "customresourcedefinition.apiextensions.k8s.io/sequences.messaging.knative.dev created\n",
      "customresourcedefinition.apiextensions.k8s.io/sinkbindings.sources.eventing.knative.dev created\n",
      "customresourcedefinition.apiextensions.k8s.io/subscriptions.messaging.knative.dev created\n",
      "customresourcedefinition.apiextensions.k8s.io/triggers.eventing.knative.dev created\n",
      "customresourcedefinition.apiextensions.k8s.io/apiserversources.sources.eventing.knative.dev unchanged\n",
      "customresourcedefinition.apiextensions.k8s.io/brokers.eventing.knative.dev unchanged\n",
      "customresourcedefinition.apiextensions.k8s.io/channels.messaging.knative.dev unchanged\n",
      "customresourcedefinition.apiextensions.k8s.io/containersources.sources.eventing.knative.dev unchanged\n",
      "customresourcedefinition.apiextensions.k8s.io/cronjobsources.sources.eventing.knative.dev unchanged\n",
      "customresourcedefinition.apiextensions.k8s.io/eventtypes.eventing.knative.dev unchanged\n",
      "customresourcedefinition.apiextensions.k8s.io/parallels.flows.knative.dev unchanged\n",
      "customresourcedefinition.apiextensions.k8s.io/sequences.flows.knative.dev unchanged\n",
      "customresourcedefinition.apiextensions.k8s.io/parallels.messaging.knative.dev unchanged\n",
      "customresourcedefinition.apiextensions.k8s.io/sequences.messaging.knative.dev unchanged\n",
      "customresourcedefinition.apiextensions.k8s.io/sinkbindings.sources.eventing.knative.dev unchanged\n",
      "customresourcedefinition.apiextensions.k8s.io/subscriptions.messaging.knative.dev unchanged\n",
      "customresourcedefinition.apiextensions.k8s.io/triggers.eventing.knative.dev unchanged\n",
      "namespace/knative-eventing created\n",
      "clusterrole.rbac.authorization.k8s.io/addressable-resolver created\n",
      "clusterrole.rbac.authorization.k8s.io/service-addressable-resolver created\n",
      "clusterrole.rbac.authorization.k8s.io/serving-addressable-resolver created\n",
      "clusterrole.rbac.authorization.k8s.io/channel-addressable-resolver created\n",
      "clusterrole.rbac.authorization.k8s.io/broker-addressable-resolver created\n",
      "clusterrole.rbac.authorization.k8s.io/messaging-addressable-resolver created\n",
      "clusterrole.rbac.authorization.k8s.io/flows-addressable-resolver created\n",
      "clusterrole.rbac.authorization.k8s.io/eventing-broker-filter created\n",
      "clusterrole.rbac.authorization.k8s.io/eventing-broker-ingress created\n",
      "clusterrole.rbac.authorization.k8s.io/eventing-config-reader created\n",
      "clusterrole.rbac.authorization.k8s.io/channelable-manipulator created\n",
      "clusterrole.rbac.authorization.k8s.io/knative-eventing-namespaced-admin created\n",
      "clusterrole.rbac.authorization.k8s.io/knative-messaging-namespaced-admin created\n",
      "clusterrole.rbac.authorization.k8s.io/knative-eventing-sources-namespaced-admin created\n",
      "clusterrole.rbac.authorization.k8s.io/knative-eventing-namespaced-edit created\n",
      "clusterrole.rbac.authorization.k8s.io/knative-eventing-namespaced-view created\n",
      "clusterrole.rbac.authorization.k8s.io/knative-eventing-controller created\n",
      "clusterrole.rbac.authorization.k8s.io/podspecable-binding created\n",
      "clusterrole.rbac.authorization.k8s.io/builtin-podspecable-binding created\n",
      "serviceaccount/eventing-controller created\n",
      "serviceaccount/eventing-webhook created\n",
      "serviceaccount/eventing-source-controller created\n",
      "clusterrole.rbac.authorization.k8s.io/source-observer created\n",
      "clusterrole.rbac.authorization.k8s.io/eventing-sources-source-observer created\n",
      "clusterrole.rbac.authorization.k8s.io/knative-eventing-source-controller created\n",
      "clusterrole.rbac.authorization.k8s.io/knative-eventing-webhook created\n",
      "clusterrolebinding.rbac.authorization.k8s.io/eventing-controller created\n",
      "clusterrolebinding.rbac.authorization.k8s.io/eventing-controller-resolver created\n",
      "clusterrolebinding.rbac.authorization.k8s.io/eventing-controller-source-observer created\n",
      "clusterrolebinding.rbac.authorization.k8s.io/eventing-controller-manipulator created\n",
      "clusterrolebinding.rbac.authorization.k8s.io/eventing-webhook created\n",
      "clusterrolebinding.rbac.authorization.k8s.io/eventing-source-controller created\n",
      "clusterrolebinding.rbac.authorization.k8s.io/eventing-source-controller-resolver created\n",
      "clusterrolebinding.rbac.authorization.k8s.io/eventing-webhook-resolver created\n",
      "clusterrolebinding.rbac.authorization.k8s.io/eventing-webhook-podspecable-binding created\n",
      "customresourcedefinition.apiextensions.k8s.io/apiserversources.sources.eventing.knative.dev unchanged\n",
      "customresourcedefinition.apiextensions.k8s.io/brokers.eventing.knative.dev unchanged\n",
      "customresourcedefinition.apiextensions.k8s.io/channels.messaging.knative.dev unchanged\n",
      "customresourcedefinition.apiextensions.k8s.io/containersources.sources.eventing.knative.dev unchanged\n",
      "customresourcedefinition.apiextensions.k8s.io/cronjobsources.sources.eventing.knative.dev unchanged\n",
      "customresourcedefinition.apiextensions.k8s.io/eventtypes.eventing.knative.dev unchanged\n",
      "customresourcedefinition.apiextensions.k8s.io/parallels.flows.knative.dev unchanged\n",
      "customresourcedefinition.apiextensions.k8s.io/sequences.flows.knative.dev unchanged\n",
      "customresourcedefinition.apiextensions.k8s.io/parallels.messaging.knative.dev unchanged\n",
      "customresourcedefinition.apiextensions.k8s.io/sequences.messaging.knative.dev unchanged\n",
      "customresourcedefinition.apiextensions.k8s.io/sinkbindings.sources.eventing.knative.dev unchanged\n",
      "customresourcedefinition.apiextensions.k8s.io/subscriptions.messaging.knative.dev unchanged\n",
      "customresourcedefinition.apiextensions.k8s.io/triggers.eventing.knative.dev unchanged\n",
      "configmap/default-ch-webhook created\n",
      "service/eventing-webhook created\n",
      "deployment.apps/eventing-controller created\n",
      "deployment.apps/sources-controller created\n",
      "mutatingwebhookconfiguration.admissionregistration.k8s.io/webhook.eventing.knative.dev created\n",
      "validatingwebhookconfiguration.admissionregistration.k8s.io/validation.webhook.eventing.knative.dev created\n",
      "validatingwebhookconfiguration.admissionregistration.k8s.io/config.webhook.eventing.knative.dev created\n",
      "mutatingwebhookconfiguration.admissionregistration.k8s.io/sinkbindings.webhook.sources.knative.dev created\n",
      "secret/eventing-webhook-certs created\n",
      "deployment.apps/eventing-webhook created\n",
      "configmap/config-logging created\n",
      "configmap/config-observability created\n",
      "configmap/config-tracing created\n",
      "Waiting for deployment \"eventing-controller\" rollout to finish: 0 of 1 updated replicas are available...\n",
      "deployment \"eventing-controller\" successfully rolled out\n",
      "clusterrole.rbac.authorization.k8s.io/imc-addressable-resolver created\n",
      "clusterrole.rbac.authorization.k8s.io/imc-channelable-manipulator created\n",
      "clusterrole.rbac.authorization.k8s.io/imc-controller created\n",
      "clusterrole.rbac.authorization.k8s.io/imc-dispatcher created\n",
      "service/imc-dispatcher created\n",
      "serviceaccount/imc-controller created\n",
      "serviceaccount/imc-dispatcher created\n",
      "clusterrolebinding.rbac.authorization.k8s.io/imc-controller created\n",
      "clusterrolebinding.rbac.authorization.k8s.io/imc-dispatcher created\n",
      "customresourcedefinition.apiextensions.k8s.io/inmemorychannels.messaging.knative.dev created\n",
      "deployment.apps/imc-controller created\n",
      "deployment.apps/imc-dispatcher created\n"
     ]
    }
   ],
   "source": [
    "%%bash\n",
    "\n",
    "kubectl apply --selector knative.dev/crd-install=true \\\n",
    "\t--filename https://github.com/knative/eventing/releases/download/v0.11.0/eventing.yaml\n",
    "\n",
    "kubectl apply --selector knative.dev/crd-install=true \\\n",
    "\t--filename https://github.com/knative/eventing/releases/download/v0.11.0/eventing.yaml \n",
    "\n",
    "kubectl apply \\\n",
    "\t--filename https://github.com/knative/eventing/releases/download/v0.11.0/eventing.yaml \n",
    "\n",
    "kubectl rollout status -n knative-eventing deployment/eventing-controller\n",
    "\n",
    "kubectl apply --filename https://github.com/knative/eventing/releases/download/v0.11.0/in-memory-channel.yaml"
   ]
  },
  {
   "cell_type": "code",
   "execution_count": 23,
   "metadata": {},
   "outputs": [
    {
     "name": "stdout",
     "output_type": "stream",
     "text": [
      "NAME                                  READY   STATUS    RESTARTS   AGE\r\n",
      "eventing-controller-d67878576-szkqx   1/1     Running   0          34s\r\n",
      "eventing-webhook-5b45945585-l8xxf     1/1     Running   0          34s\r\n",
      "imc-controller-67b4c9787b-np5cm       1/1     Running   0          30s\r\n",
      "imc-dispatcher-7b57bc9796-b4hpn       1/1     Running   0          30s\r\n",
      "sources-controller-685db898c-t65fl    1/1     Running   0          34s\r\n"
     ]
    }
   ],
   "source": [
    "!kubectl get pods -n knative-eventing"
   ]
  },
  {
   "cell_type": "markdown",
   "metadata": {},
   "source": [
    "#### Create Request Logger in Seldon Logs namespace"
   ]
  },
  {
   "cell_type": "code",
   "execution_count": 31,
   "metadata": {},
   "outputs": [
    {
     "name": "stdout",
     "output_type": "stream",
     "text": [
      "namespace/seldon-logs labeled\r\n"
     ]
    }
   ],
   "source": [
    "!kubectl label namespace seldon-logs knative-eventing-injection=enabled --overwrite=true"
   ]
  },
  {
   "cell_type": "code",
   "execution_count": 32,
   "metadata": {},
   "outputs": [
    {
     "name": "stdout",
     "output_type": "stream",
     "text": [
      "NAME      READY   REASON   URL                                                   AGE\r\n",
      "default   True             http://default-broker.seldon-logs.svc.cluster.local   18s\r\n"
     ]
    }
   ],
   "source": [
    "!kubectl get broker -n seldon-logs "
   ]
  },
  {
   "cell_type": "code",
   "execution_count": 30,
   "metadata": {},
   "outputs": [
    {
     "name": "stdout",
     "output_type": "stream",
     "text": [
      "trigger.eventing.knative.dev/seldon-request-logger-trigger created\n",
      "deployment.apps/seldon-request-logger unchanged\n",
      "service/seldon-request-logger unchanged\n"
     ]
    }
   ],
   "source": [
    "%%bash\n",
    "kubectl apply -f - << END\n",
    "apiVersion: eventing.knative.dev/v1alpha1\n",
    "kind: Trigger\n",
    "metadata:\n",
    " name: seldon-request-logger-trigger\n",
    " namespace: seldon-logs\n",
    "spec:\n",
    " subscriber:\n",
    "   ref:\n",
    "     apiVersion: v1\n",
    "     kind: Service\n",
    "     name: seldon-request-logger\n",
    "END\n",
    "\n",
    "kubectl apply -f - << END\n",
    "apiVersion: apps/v1\n",
    "kind: Deployment\n",
    "metadata:\n",
    " name: seldon-request-logger\n",
    " namespace: seldon-logs\n",
    " labels:\n",
    "   app: seldon-request-logger\n",
    "spec:\n",
    " replicas: 1\n",
    " selector:\n",
    "   matchLabels:\n",
    "     app: seldon-request-logger\n",
    " template:\n",
    "   metadata:\n",
    "     labels:\n",
    "       app: seldon-request-logger\n",
    "   spec:\n",
    "     containers:\n",
    "       - name: user-container\n",
    "         image: docker.io/seldonio/seldon-request-logger:1.2.2-dev\n",
    "         imagePullPolicy: IfNotPresent\n",
    "         env:\n",
    "           - name: ELASTICSEARCH_HOST\n",
    "             value: \"elasticsearch-master.seldon-logs.svc.cluster.local\"\n",
    "           - name: ELASTICSEARCH_PORT\n",
    "             value: \"9200\"\n",
    "END\n",
    "\n",
    "kubectl apply -f - << END\n",
    "apiVersion: v1\n",
    "kind: Service\n",
    "metadata:\n",
    " name: seldon-request-logger\n",
    " namespace: seldon-logs\n",
    "spec:\n",
    " selector:\n",
    "   app: seldon-request-logger\n",
    " ports:\n",
    "   - protocol: TCP\n",
    "     port: 80\n",
    "     targetPort: 8080\n",
    "END"
   ]
  },
  {
   "cell_type": "code",
   "execution_count": 33,
   "metadata": {},
   "outputs": [
    {
     "name": "stdout",
     "output_type": "stream",
     "text": [
      "NAME                            READY   REASON   BROKER    SUBSCRIBER_URI                                                AGE\r\n",
      "seldon-request-logger-trigger   True             default   http://seldon-request-logger.seldon-logs.svc.cluster.local/   2m18s\r\n"
     ]
    }
   ],
   "source": [
    "!kubectl get trigger -n seldon-logs"
   ]
  },
  {
   "cell_type": "code",
   "execution_count": null,
   "metadata": {},
   "outputs": [],
   "source": [
    "#### Deploy model with request logger"
   ]
  },
  {
   "cell_type": "code",
   "execution_count": 5,
   "metadata": {},
   "outputs": [
    {
     "name": "stdout",
     "output_type": "stream",
     "text": [
      "seldon ns exists\n",
      "seldondeployment.machinelearning.seldon.io/sklearn created\n"
     ]
    },
    {
     "name": "stderr",
     "output_type": "stream",
     "text": [
      "Error from server (AlreadyExists): namespaces \"seldon\" already exists\n"
     ]
    }
   ],
   "source": [
    "%%bash\n",
    "\n",
    "kubectl create ns seldon || echo \"seldon ns exists\"\n",
    "\n",
    "kubectl apply -n seldon -f - << END\n",
    "kind: SeldonDeployment\n",
    "apiVersion: machinelearning.seldon.io/v1\n",
    "metadata:\n",
    "  name: sklearn\n",
    "spec:\n",
    "  annotations:\n",
    "    seldon.io/engine-seldon-log-messages-externally: 'true'\n",
    "  name: sklearn\n",
    "  predictors:\n",
    "  - name: default\n",
    "    graph:\n",
    "      name: irisclassifier-default\n",
    "      implementation: SKLEARN_SERVER\n",
    "      endpoint:\n",
    "        type: REST\n",
    "      modelUri: gs://seldon-models/sklearn/iris\n",
    "      logger:\n",
    "        mode: \"all\"\n",
    "    replicas: 1\n",
    "END"
   ]
  },
  {
   "cell_type": "markdown",
   "metadata": {},
   "source": [
    "### Set up elasticsearch client and clean the index"
   ]
  },
  {
   "cell_type": "code",
   "execution_count": null,
   "metadata": {},
   "outputs": [],
   "source": [
    "from elasticsearch import Elasticsearch\n",
    "es = Elasticsearch(['http://localhost:9200'])"
   ]
  },
  {
   "cell_type": "code",
   "execution_count": null,
   "metadata": {},
   "outputs": [],
   "source": [
    "es.indices.delete(index='inference-log-seldon-seldon-sklearn-default', ignore=[400, 404])"
   ]
  },
  {
   "cell_type": "markdown",
   "metadata": {},
   "source": [
    "## Send Request"
   ]
  },
  {
   "cell_type": "code",
   "execution_count": 61,
   "metadata": {},
   "outputs": [],
   "source": [
    "import requests\n",
    "url = \"http://localhost:80/seldon/seldon/sklearn/api/v1.0\""
   ]
  },
  {
   "cell_type": "code",
   "execution_count": 62,
   "metadata": {},
   "outputs": [],
   "source": [
    "pred_req_1 = {\"data\":{\"ndarray\":[[1,2,3,4]]}}\n",
    "pred_resp_1 = requests.post(f\"{url}/predictions\", json=pred_req_1)"
   ]
  },
  {
   "cell_type": "code",
   "execution_count": 63,
   "metadata": {},
   "outputs": [
    {
     "name": "stdout",
     "output_type": "stream",
     "text": [
      "Response ID: 2cfe7cb7-9467-467e-b9ea-1361042c3d60\n",
      "{'data': {'names': ['t:0', 't:1', 't:2'], 'ndarray': [[0.0006985194531162841, 0.003668039039435755, 0.9956334415074478]]}, 'meta': {}}\n"
     ]
    }
   ],
   "source": [
    "print(f\"Response ID: {pred_resp_1.headers.get('seldon-puid')}\")\n",
    "print(pred_resp_1.json())"
   ]
  },
  {
   "cell_type": "markdown",
   "metadata": {},
   "source": [
    "### Check request was sent to Elasticsearch"
   ]
  },
  {
   "cell_type": "markdown",
   "metadata": {},
   "source": [
    "See the index that has been created"
   ]
  },
  {
   "cell_type": "code",
   "execution_count": 65,
   "metadata": {},
   "outputs": [
    {
     "data": {
      "text/plain": [
       "{'inference-log-seldon-seldon-sklearn-default': {'aliases': {}}}"
      ]
     },
     "execution_count": 65,
     "metadata": {},
     "output_type": "execute_result"
    }
   ],
   "source": [
    " es.indices.get_alias(\"*\")"
   ]
  },
  {
   "cell_type": "markdown",
   "metadata": {},
   "source": [
    "Check that the index has been created for that request"
   ]
  },
  {
   "cell_type": "code",
   "execution_count": 66,
   "metadata": {},
   "outputs": [
    {
     "name": "stdout",
     "output_type": "stream",
     "text": [
      "Logged Request:\n",
      "{'payload': {'data': {'ndarray': [[1, 2, 3, 4]]}}, 'dataType': 'tabular', 'elements': {}, 'instance': [1.0, 2.0, 3.0, 4.0], 'ce-time': '2020-07-14T19:51:55.897123716Z', 'ce-source': 'http:localhost:8000'}\n",
      "\n",
      "Logged Response:\n",
      "{'ce-source': 'http:localhost:8000', 'instance': [0.0006985194531162841, 0.003668039039435755, 0.9956334415074478], 'names': ['t:0', 't:1', 't:2'], 'payload': {'data': {'names': ['t:0', 't:1', 't:2'], 'ndarray': [[0.0006985194531162841, 0.003668039039435755, 0.9956334415074478]]}, 'meta': {}}, 'dataType': 'tabular', 'elements': {'t:1': [0.003668039039435755], 't:0': [0.0006985194531162841], 't:2': [0.9956334415074478]}, 'ce-time': '2020-07-14T19:51:55.900570216Z'}\n"
     ]
    }
   ],
   "source": [
    "res = es.search(index=\"inference-log-seldon-seldon-sklearn-default\", body={\"query\": {\"match_all\": {}}})\n",
    "print(\"Logged Request:\")\n",
    "print(res[\"hits\"][\"hits\"][0][\"_source\"][\"request\"])\n",
    "print(\"\\nLogged Response:\")\n",
    "print(res[\"hits\"][\"hits\"][0][\"_source\"][\"response\"])"
   ]
  },
  {
   "cell_type": "markdown",
   "metadata": {},
   "source": [
    "### Now we can send feedback \n",
    "\n",
    "For this we can include the reward, which in this case can state whether it's correct or incorrect, together with the truth answer, in case it was incorrect (or to emphasise that it was correct).\n",
    "\n",
    "In order for us to be able to send the feedback to the right request, we need to provide the feedback ID for the request:"
   ]
  },
  {
   "cell_type": "code",
   "execution_count": 67,
   "metadata": {},
   "outputs": [
    {
     "name": "stdout",
     "output_type": "stream",
     "text": [
      "2cfe7cb7-9467-467e-b9ea-1361042c3d60\n"
     ]
    }
   ],
   "source": [
    "puid_seldon_1 = pred_resp_1.headers.get(\"seldon-puid\")\n",
    "\n",
    "print(puid_seldon_1)"
   ]
  },
  {
   "cell_type": "markdown",
   "metadata": {},
   "source": [
    "We will also be able to add extra metadata, such as the user providing the feedback, date, time, etc."
   ]
  },
  {
   "cell_type": "code",
   "execution_count": 68,
   "metadata": {},
   "outputs": [],
   "source": [
    "feedback_tags_1 = {\n",
    "    \"user\": \"Seldon Admin\",\n",
    "    \"date\": \"11/07/2020\"\n",
    "}"
   ]
  },
  {
   "cell_type": "markdown",
   "metadata": {},
   "source": [
    "And finally we can put together the feedback request."
   ]
  },
  {
   "cell_type": "code",
   "execution_count": 69,
   "metadata": {},
   "outputs": [],
   "source": [
    "feedback_req_1 = {\n",
    "    \"reward\": 0,\n",
    "    \"truth\": {\n",
    "        'data': {\n",
    "            'names': ['t:0', 't:1', 't:2'], \n",
    "            'ndarray': [[0, 0, 1]]\n",
    "        },\n",
    "        \"meta\": {\n",
    "            \"tags\": feedback_tags_1\n",
    "        }\n",
    "    }\n",
    "}"
   ]
  },
  {
   "cell_type": "code",
   "execution_count": 70,
   "metadata": {},
   "outputs": [],
   "source": [
    "feedback_resp_1 = requests.post(f\"{url}/feedback\", json=feedback_req_1, headers={\"seldon-puid\": puid_seldon_1})"
   ]
  },
  {
   "cell_type": "code",
   "execution_count": 71,
   "metadata": {},
   "outputs": [
    {
     "data": {
      "text/plain": [
       "<Response [200]>"
      ]
     },
     "execution_count": 71,
     "metadata": {},
     "output_type": "execute_result"
    }
   ],
   "source": [
    "feedback_resp_1"
   ]
  },
  {
   "cell_type": "markdown",
   "metadata": {},
   "source": [
    "### CHeck that feedback has been received"
   ]
  },
  {
   "cell_type": "code",
   "execution_count": 72,
   "metadata": {},
   "outputs": [
    {
     "name": "stdout",
     "output_type": "stream",
     "text": [
      "{'reward': 0, 'ce-source': 'http:localhost:8000', 'truth': {'data': {'names': ['t:0', 't:1', 't:2'], 'ndarray': [[0, 0, 1]]}, 'meta': {'tags': {'date': '11/07/2020', 'user': 'Seldon Admin'}}}, 'ce-time': '2020-07-14T19:52:10.51310669Z'}\n"
     ]
    }
   ],
   "source": [
    "res = es.search(index=\"inference-log-seldon-seldon-sklearn-default\", body={\"query\": {\"match_all\": {}}})\n",
    "print(res[\"hits\"][\"hits\"][0][\"_source\"][\"feedback\"])"
   ]
  },
  {
   "cell_type": "markdown",
   "metadata": {},
   "source": [
    "### Stateful metrics Overview\n",
    "\n",
    "Now that we have seen the basics of the feedback mechanism we can actually leverage the features it provides.\n",
    "\n",
    "For this we'll want to send a few requests, together with feedback to some requests. This will include:\n",
    "* 100 requests in total\n",
    "* 50 will be provided feedback\n",
    "* 35 of those will be correct (the rest incorrect)\n",
    "\n",
    "Once we set up the requests, we will be able to get further insights."
   ]
  },
  {
   "cell_type": "code",
   "execution_count": 73,
   "metadata": {},
   "outputs": [],
   "source": [
    "TOTAL_REQS = 100\n",
    "MAX_FEEDBACK = 63\n",
    "MAX_CORRECT = 46"
   ]
  },
  {
   "cell_type": "code",
   "execution_count": 74,
   "metadata": {},
   "outputs": [
    {
     "data": {
      "text/plain": [
       "{'acknowledged': True}"
      ]
     },
     "execution_count": 74,
     "metadata": {},
     "output_type": "execute_result"
    }
   ],
   "source": [
    "es.indices.delete(index='inference-log-seldon-seldon-sklearn-default', ignore=[400, 404])"
   ]
  },
  {
   "cell_type": "markdown",
   "metadata": {},
   "source": [
    "#### First send all the requests"
   ]
  },
  {
   "cell_type": "code",
   "execution_count": 75,
   "metadata": {},
   "outputs": [],
   "source": [
    "ids_list = []\n",
    "for i in range(TOTAL_REQS):\n",
    "    pred_req = {\"data\":{\"ndarray\":[[1,2,3,4]]}}\n",
    "    pred_resp = requests.post(f\"{url}/predictions\", json=pred_req)\n",
    "    assert pred_resp.status_code == 200\n",
    "    ids_list.append(pred_resp.headers[\"seldon-puid\"])\n",
    "    "
   ]
  },
  {
   "cell_type": "code",
   "execution_count": 76,
   "metadata": {},
   "outputs": [
    {
     "name": "stdout",
     "output_type": "stream",
     "text": [
      "{'count': 100, '_shards': {'total': 1, 'successful': 1, 'skipped': 0, 'failed': 0}}\n"
     ]
    }
   ],
   "source": [
    "es_count = es.count(index=\"inference-log-seldon-seldon-sklearn-default\")\n",
    "print(es_count)"
   ]
  },
  {
   "cell_type": "markdown",
   "metadata": {},
   "source": [
    "#### Then send the feedback"
   ]
  },
  {
   "cell_type": "code",
   "execution_count": 77,
   "metadata": {},
   "outputs": [],
   "source": [
    "default_truth_val = {'data': { 'names': ['t:0', 't:1', 't:2'], 'ndarray': [[0, 0, 1]]}}\n",
    "default_truth_meta = {\"tags\": {\"user\": \"Seldon Admin\", \"date\": \"11/07/2020\"}}\n",
    "\n",
    "for idx, sid in enumerate(ids_list):\n",
    "    if idx == MAX_FEEDBACK: break # we only want to provide feedback to 50\n",
    "    \n",
    "    feedback = {}\n",
    "    feedback[\"reward\"] = idx < MAX_CORRECT\n",
    "    feedback[\"truth\"] = {} if idx < MAX_CORRECT else default_truth_val\n",
    "    feedback[\"truth\"][\"meta\"] = default_truth_meta\n",
    "    \n",
    "    feed_resp = requests.post(f\"{url}/feedback\", json=feedback, headers={\"seldon-puid\": sid})\n",
    "    assert feed_resp.status_code == 200"
   ]
  },
  {
   "cell_type": "markdown",
   "metadata": {},
   "source": [
    "### Exposing Feedback Metrics\n",
    "\n",
    "Now that feedback has been provided, it's possible to expose the feedback metrics for visualisation.\n",
    "\n",
    "The default and simplest way to provide this is basically through two simple metrics:\n",
    "* Accuracy \n",
    "* Number of data with feedback\n",
    "\n",
    "This can be extended to also provide insights such as:\n",
    "* Precision\n",
    "* Recall\n",
    "* Specificity\n",
    "* F1 score\n",
    "\n",
    "Primarily as these insights can be provided as insights with teh feedback. For more advanced metrics is discussed below."
   ]
  },
  {
   "cell_type": "code",
   "execution_count": 78,
   "metadata": {},
   "outputs": [
    {
     "name": "stdout",
     "output_type": "stream",
     "text": [
      "{'reward_sum': {'value': 31.0, 'value_as_string': 'true'}, 'reward_count': {'doc_count': 40}}\n"
     ]
    }
   ],
   "source": [
    "query = {\n",
    "  \"aggregations\": { \n",
    "    \"reward_sum\": { \"sum\": { \"field\": \"feedback.reward\" } },\n",
    "    \"reward_count\": { \"filter\": { \"exists\": { \"field\": \"feedback.reward\"} } }\n",
    "  }\n",
    "}\n",
    "feedback_metrics = es.search(index=\"inference-log-seldon-seldon-sklearn-default\", body=query)\n",
    "print(feedback_metrics[\"aggregations\"])"
   ]
  },
  {
   "cell_type": "markdown",
   "metadata": {},
   "source": [
    "This can also be performed for a specified datetime, so you can actually filter the accuracy / performance based on:\n",
    "* Date of processing of the initial request\n",
    "* Date of feedback being provided\n",
    "\n",
    "Below is a simple visualisation of these results:"
   ]
  },
  {
   "cell_type": "code",
   "execution_count": 79,
   "metadata": {},
   "outputs": [
    {
     "data": {
      "image/png": "[encoded data removed]",
      "text/plain": [
       "<Figure size 864x432 with 2 Axes>"
      ]
     },
     "metadata": {},
     "output_type": "display_data"
    }
   ],
   "source": [
    "import numpy as np\n",
    "import matplotlib.pyplot as plt\n",
    "\n",
    "feedback_correct = feedback_metrics[\"aggregations\"][\"reward_sum\"][\"value\"]\n",
    "feedback_total = feedback_metrics[\"aggregations\"][\"reward_count\"][\"doc_count\"]\n",
    "feedback_incorrect = feedback_total - feedback_correct\n",
    "no_feedback = es_count[\"count\"] - feedback_total\n",
    "\n",
    "plt.subplots(figsize=(12, 6))\n",
    "plt.subplot(1, 2, 1)\n",
    "plt.title(\"Accuracy (Correct vs Incorrect)\")\n",
    "plt.pie([feedback_incorrect, feedback_correct], explode=(0, 0.1), labels=('Incorrect', 'Correct'), autopct='%1.1f%%', shadow=True, startangle=90, colors=['yellow', 'lightskyblue'])  \n",
    "\n",
    "plt.subplot(1, 2, 2)\n",
    "plt.title(\"Total Requests vs Feedback Proveded\")\n",
    "plt.pie([feedback_total, no_feedback], explode=(0.1, 0), labels=('Feedback Provided', 'No Feedback'), autopct='%.0f', shadow=True, startangle=90, colors=['green', 'red'])\n",
    "\n",
    "plt.show()"
   ]
  },
  {
   "cell_type": "markdown",
   "metadata": {},
   "source": [
    "## Real Time Metrics Example with separate service\n",
    "\n",
    "Similar to the design pattern that Seldon Core introduced with request logging and outlier detectors through asynchronous eventing, it's possible to do the same for metrics.\n",
    "\n",
    "More specifically, it is possible to set up a stateful feedback processor which retrieves all the metrics on start and registers for feedback events to provide real time insights on any new incoming requests.\n",
    "\n",
    "In this notebook we show how this can be achieved thorugh two different approaches:\n",
    "* As a separate stateful metrics processor using KNative Eventing\n",
    "* Implemented in the seldon model itself\n",
    "\n",
    "Below we dive into both examples together with tradeoffs.\n",
    "\n",
    "#### Example of custom stateful metrics processor\n",
    "\n",
    "These can then be visualised through different areas such as through prometheus metrics, using a grafana dashboard. Below is a brief example of how this can be achieved through a simple implementation.\n",
    "\n",
    "\n",
    "<img src=\"img/custom-stateful.jpg\">\n"
   ]
  },
  {
   "cell_type": "markdown",
   "metadata": {},
   "source": [
    "\n",
    "First we deploy the Seldon Core Analyitcs"
   ]
  },
  {
   "cell_type": "code",
   "execution_count": null,
   "metadata": {},
   "outputs": [],
   "source": [
    "!helm install seldon-core-analytics ../../../helm-charts/seldon-core-analytics --namespace seldon-system"
   ]
  },
  {
   "cell_type": "markdown",
   "metadata": {},
   "source": [
    "Now we should be able to access the grafana dashboard for the model. You can access it by port-forwarding the grafana dashboard with:\n",
    "```\n",
    "kubectl port-forward -n seldon-system svc/seldon-core-analytics-grafana 7000:80\n",
    "```\n",
    "This way you can now access it via `http://localhost:7000` with the username `admin` and password `password`.\n",
    "\n",
    "You should be able to see the following dashboard out of the box:\n",
    "![](img/base-dashboard.jpg)\n",
    "\n",
    "Now we can deploy our [stateful metrics component](../../../components/stateful-metrics-server/) with the following configuration:"
   ]
  },
  {
   "cell_type": "code",
   "execution_count": null,
   "metadata": {},
   "outputs": [],
   "source": [
    "%%bash\n",
    "kubectl apply -n seldon-logs -f - << END\n",
    "---\n",
    "apiVersion: apps/v1\n",
    "kind: Deployment\n",
    "metadata:\n",
    " name: seldon-stateful-metrics-sklearn-deployment\n",
    " labels:\n",
    "   app: seldon-stateful-metrics-sklearn\n",
    "spec:\n",
    " replicas: 1\n",
    " selector:\n",
    "   matchLabels:\n",
    "     app: seldon-stateful-metrics-sklearn\n",
    " template:\n",
    "   metadata:\n",
    "     annotations:\n",
    "       prometheus.io/path: /metrics\n",
    "       prometheus.io/scrape: \"true\"\n",
    "     labels:\n",
    "       app: seldon-stateful-metrics-sklearn\n",
    "   spec:\n",
    "     containers:\n",
    "       - name: user-container\n",
    "         image: docker.io/seldonio/stateful-metrics-server:1.2.2-dev\n",
    "         imagePullPolicy: IfNotPresent\n",
    "         ports:\n",
    "         - containerPort: 8080\n",
    "           name: metrics\n",
    "           protocol: TCP\n",
    "         - containerPort: 8080\n",
    "           name: http\n",
    "           protocol: TCP\n",
    "         env:\n",
    "           - name: ELASTICSEARCH_HOST\n",
    "             value: \"elasticsearch-master.seldon-logs.svc.cluster.local\"\n",
    "           - name: ELASTICSEARCH_PORT\n",
    "             value: \"9200\"\n",
    "---\n",
    "apiVersion: v1\n",
    "kind: Service\n",
    "metadata:\n",
    " name: seldon-stateful-metrics-sklearn-svc\n",
    "spec:\n",
    " selector:\n",
    "   app: seldon-stateful-metrics-sklearn\n",
    " ports:\n",
    "   - protocol: TCP\n",
    "     port: 80\n",
    "     targetPort: 8080\n",
    "END"
   ]
  },
  {
   "cell_type": "markdown",
   "metadata": {},
   "source": [
    "A couple of things to notice, is that here we have enabled prometheus scraping to the `/metrics` endpoint, and we've also added the named `metrcs` port, which `seldon-core-analytics` is configured to scrape from.\n",
    "\n",
    "Now we can actually deploy the trigger for the model we've built:"
   ]
  },
  {
   "cell_type": "code",
   "execution_count": null,
   "metadata": {},
   "outputs": [],
   "source": [
    "%%bash\n",
    "kubectl apply -n seldon-logs -f - << END\n",
    "apiVersion: eventing.knative.dev/v1alpha1\n",
    "kind: Trigger\n",
    "metadata:\n",
    "  name: seldon-stateful-metrics-sklearn-trigger\n",
    "spec:\n",
    "  subscriber:\n",
    "    ref:\n",
    "      apiVersion: v1\n",
    "      kind: Service\n",
    "      name: seldon-stateful-metrics-sklearn-svc\n",
    "  filter:\n",
    "    attributes:\n",
    "      type: io.seldon.serving.feedback\n",
    "      inferenceservicename: sklearn\n",
    "END"
   ]
  },
  {
   "cell_type": "markdown",
   "metadata": {},
   "source": [
    "You can see that this trigger is filtering on the `type: io.seldon.serving.feedback` and `inferenceservicename: sklearn`.\n",
    "\n",
    "Once we have this, we actually would see that it automatically collects all of the available logs and starts producing metrics that are being collected with prometheus.\n",
    "\n",
    "We can confirm this by proceeding to our dashboard and adding a new dashboard, with the prometheus datasource, and the metric would have as value `sum(correct_total) / sum(total_total)` which basically is the metric `correct_total` divided by the `total_total` which shoudl give us the real time accuracy.\n",
    "\n",
    "You should be able to see the following: \n",
    "\n",
    "![](img/accuracy-dashboard.jpg)\n",
    "\n",
    "Once you add this dashboard, you can set it to refresh every 5 minutes, and in turn, we will now be able to see real time accuracy changing, let's actually start some data:"
   ]
  },
  {
   "cell_type": "code",
   "execution_count": 80,
   "metadata": {
    "scrolled": true
   },
   "outputs": [
    {
     "name": "stdout",
     "output_type": "stream",
     "text": [
      "Sending: 1 \n",
      "Sending: 0 \n",
      "Sending: 1 \n",
      "Sending: 0 \n",
      "Sending: 0 \n",
      "Sending: 1 \n",
      "Sending: 0 \n",
      "Sending: 1 \n",
      "Sending: 0 \n",
      "Sending: 1 \n",
      "Sending: 0 \n",
      "Sending: 1 \n",
      "Sending: 0 \n",
      "Sending: 0 \n",
      "Sending: 0 \n",
      "Sending: 0 \n",
      "Sending: 0 \n",
      "Sending: 0 \n",
      "Sending: 0 \n",
      "Sending: 0 \n",
      "Sending: 0 \n",
      "Sending: 0 \n",
      "Sending: 1 \n",
      "Sending: 0 \n",
      "Sending: 0 \n",
      "Sending: 0 \n",
      "Sending: 1 \n",
      "Sending: 0 \n",
      "Sending: 0 \n",
      "Sending: 0 \n",
      "Sending: 0 \n",
      "Sending: 1 \n",
      "Sending: 0 \n",
      "Sending: 0 \n",
      "Sending: 0 \n",
      "Sending: 1 \n",
      "Sending: 0 \n",
      "Sending: 0 \n",
      "Sending: 0 \n",
      "Sending: 0 \n",
      "Sending: 0 \n",
      "Sending: 0 \n",
      "Sending: 0 \n",
      "Sending: 0 \n",
      "Sending: 0 \n",
      "Sending: 0 \n",
      "Sending: 0 \n",
      "Sending: 1 \n",
      "Sending: 0 \n",
      "Sending: 0 \n",
      "Sending: 0 \n",
      "Sending: 0 \n",
      "Sending: 1 \n",
      "Sending: 0 \n",
      "Sending: 0 \n",
      "Sending: 0 \n",
      "Sending: 0 \n",
      "Sending: 0 \n",
      "Sending: 0 \n",
      "Sending: 0 \n",
      "Sending: 0 \n",
      "Sending: 0 \n",
      "Sending: 0 \n",
      "Sending: 0 \n",
      "Sending: 1 \n",
      "Sending: 0 \n",
      "Sending: 0 \n",
      "Sending: 0 \n",
      "Sending: 0 \n",
      "Sending: 0 \n",
      "Sending: 1 \n",
      "Sending: 1 \n",
      "Sending: 0 \n",
      "Sending: 0 \n",
      "Sending: 0 \n",
      "Sending: 0 \n",
      "Sending: 0 \n",
      "Sending: 0 \n",
      "Sending: 0 \n",
      "Sending: 0 \n",
      "Sending: 0 \n",
      "Sending: 1 \n",
      "Sending: 0 \n",
      "Sending: 0 \n",
      "Sending: 0 \n",
      "Sending: 0 \n",
      "Sending: 1 \n",
      "Sending: 0 \n",
      "Sending: 0 \n",
      "Sending: 0 \n"
     ]
    },
    {
     "ename": "KeyboardInterrupt",
     "evalue": "",
     "output_type": "error",
     "traceback": [
      "\u001b[0;31m-----------------------\u001b[0m",
      "\u001b[0;31mKeyboardInterrupt\u001b[0mTraceback (most recent call last)",
      "\u001b[0;32m<ipython-input-80-fc7bc223c77e>\u001b[0m in \u001b[0;36m<module>\u001b[0;34m\u001b[0m\n\u001b[1;32m     22\u001b[0m     \u001b[0mfeed_resp\u001b[0m \u001b[0;34m=\u001b[0m \u001b[0mrequests\u001b[0m\u001b[0;34m.\u001b[0m\u001b[0mpost\u001b[0m\u001b[0;34m(\u001b[0m\u001b[0;34mf\"{url}/feedback\"\u001b[0m\u001b[0;34m,\u001b[0m \u001b[0mjson\u001b[0m\u001b[0;34m=\u001b[0m\u001b[0mfeedback\u001b[0m\u001b[0;34m,\u001b[0m \u001b[0mheaders\u001b[0m\u001b[0;34m=\u001b[0m\u001b[0;34m{\u001b[0m\u001b[0;34m\"seldon-puid\"\u001b[0m\u001b[0;34m:\u001b[0m \u001b[0msid\u001b[0m\u001b[0;34m}\u001b[0m\u001b[0;34m)\u001b[0m\u001b[0;34m\u001b[0m\u001b[0;34m\u001b[0m\u001b[0m\n\u001b[1;32m     23\u001b[0m     \u001b[0;32massert\u001b[0m \u001b[0mfeed_resp\u001b[0m\u001b[0;34m.\u001b[0m\u001b[0mstatus_code\u001b[0m \u001b[0;34m==\u001b[0m \u001b[0;36m200\u001b[0m\u001b[0;34m\u001b[0m\u001b[0;34m\u001b[0m\u001b[0m\n\u001b[0;32m---> 24\u001b[0;31m     \u001b[0mtime\u001b[0m\u001b[0;34m.\u001b[0m\u001b[0msleep\u001b[0m\u001b[0;34m(\u001b[0m\u001b[0;36m0.5\u001b[0m\u001b[0;34m)\u001b[0m\u001b[0;34m\u001b[0m\u001b[0;34m\u001b[0m\u001b[0m\n\u001b[0m",
      "\u001b[0;31mKeyboardInterrupt\u001b[0m: "
     ]
    }
   ],
   "source": [
    "import time\n",
    "import random\n",
    "\n",
    "CORRECT_PROBABILITY = 0.8\n",
    "\n",
    "pred_req = {\"data\":{\"ndarray\":[[1,2,3,4]]}}\n",
    "default_truth_val = {'data': { 'names': ['t:0', 't:1', 't:2'], 'ndarray': [[0, 0, 1]]}}\n",
    "default_truth_meta = {\"tags\": {\"user\": \"Seldon Admin\", \"date\": \"11/07/2020\"}}\n",
    "\n",
    "while True:\n",
    "    pred_resp = requests.post(f\"{url}/predictions\", json=pred_req)\n",
    "    assert pred_resp.status_code == 200\n",
    "    idx = pred_resp.headers[\"seldon-puid\"]\n",
    "    time.sleep(0.1)\n",
    "    \n",
    "    pred = 1 if random.random() > CORRECT_PROBABILITY else 0\n",
    "    print(f\"Sending: {pred} \")\n",
    "    feedback = {}\n",
    "    feedback[\"reward\"] = 1 if pred else 0\n",
    "    feedback[\"truth\"] = {} if pred else default_truth_val\n",
    "    feedback[\"truth\"][\"meta\"] = default_truth_meta\n",
    "    feed_resp = requests.post(f\"{url}/feedback\", json=feedback, headers={\"seldon-puid\": sid})\n",
    "    assert feed_resp.status_code == 200\n",
    "    time.sleep(0.5)    "
   ]
  },
  {
   "cell_type": "markdown",
   "metadata": {},
   "source": [
    "This will send requests that will show 80% probablility of incorrect predictions, showing a steady decline in accuracy as per the image below.\n",
    "\n",
    "![](img/realtime-accuracy.jpg)\n",
    "\n",
    "This could be quite powerful as it could be connected with something like Alertmanager to ensure alerts are sent if the model metric drops below a specific percentage."
   ]
  },
  {
   "cell_type": "markdown",
   "metadata": {},
   "source": [
    "If you wish to load the dashboard directly, you can also do this by importing the json below in your grafana dashboard:"
   ]
  },
  {
   "cell_type": "code",
   "execution_count": null,
   "metadata": {},
   "outputs": [],
   "source": [
    "{\"annotations\": {\"list\": [{\"builtIn\": 1,\"datasource\": \"-- Grafana --\",\"enable\": true,\"hide\": true,\"iconColor\": \"rgba(0, 211, 255, 1)\",\"name\": \"Annotations & Alerts\",\"type\": \"dashboard\"}]},\"editable\": true,\"gnetId\": null,\"graphTooltip\": 0,\"id\": null,\"links\": [],\"panels\": [{\"aliasColors\": {},\"bars\": true,\"dashLength\": 10,\"dashes\": false,\"datasource\": \"prometheus\",\"description\": \"\",\"fieldConfig\": {\"defaults\": {\"custom\": {}},\"overrides\": []},\"fill\": 1,\"fillGradient\": 0,\"gridPos\": {\"h\": 12,\"w\": 24,\"x\": 0,\"y\": 0},\"hiddenSeries\": false,\"id\": 2,\"legend\": {\"avg\": false,\"current\": false,\"max\": false,\"min\": false,\"show\": true,\"total\": false,\"values\": false},\"lines\": true,\"linewidth\": 1,\"nullPointMode\": \"null\",\"options\": {\"dataLinks\": []},\"percentage\": false,\"pointradius\": 2,\"points\": false,\"renderer\": \"flot\",\"seriesOverrides\": [],\"spaceLength\": 10,\"stack\": false,\"steppedLine\": false,\"targets\": [{\"expr\": \"sum(correct_total) / sum(total_total)\",\"interval\": \"\",\"legendFormat\": \"Accuracy %\",\"refId\": \"A\"}],\"thresholds\": [],\"timeFrom\": null,\"timeRegions\": [],\"timeShift\": null,\"title\": \"Real Time Model Accuracy\",\"tooltip\": {\"shared\": true,\"sort\": 0,\"value_type\": \"individual\"},\"type\": \"graph\",\"xaxis\": {\"buckets\": null,\"mode\": \"time\",\"name\": null,\"show\": true,\"values\": []},\"yaxes\": [{\"decimals\": null,\"format\": \"short\",\"label\": null,\"logBase\": 1,\"max\": \"1\",\"min\": \"0\",\"show\": true},{\"format\": \"short\",\"label\": null,\"logBase\": 1,\"max\": null,\"min\": null,\"show\": true}],\"yaxis\": {\"align\": false,\"alignLevel\": null}}],\"refresh\": \"5s\",\"schemaVersion\": 25,\"style\": \"dark\",\"tags\": [],\"templating\": {\"list\": []},\"time\": {\"from\": \"now-5m\",\"to\": \"now\"},\"timepicker\": {\"refresh_intervals\": [\"10s\",\"30s\",\"1m\",\"5m\",\"15m\",\"30m\",\"1h\",\"2h\",\"1d\"]},\"timezone\": \"\",\"title\": \"New dashboard\",\"uid\": null,\"version\": 0}"
   ]
  },
  {
   "cell_type": "markdown",
   "metadata": {},
   "source": [
    "### Example using python wrapper for Binary Classifier\n",
    "\n",
    "For this second example we will show how we can implement the stateful metrics in the python wrapper itself.\n",
    "\n",
    "The reason why this is possible, is because the metrics server above is actually implemented in a very similar way to the wrapper.\n",
    "\n",
    "Because of this, it will be possible to just use the wrapper itself and enable for more complex functionality.\n",
    "\n",
    "Not only it's possible to store the metrics, but given that the models are loaded, it's possible to perform complex comparisons in the model itself.\n",
    "\n",
    "We will see how to compute complex statistical metrics for a binary model, and then how it can be approached for multi-class models.\n",
    "\n",
    "This will allow us to deploy a shadow deployment and compare the metrics against both models.\n",
    "\n",
    "\n",
    "<img src=\"img/standard-server.jpg\">\n",
    "\n"
   ]
  },
  {
   "cell_type": "markdown",
   "metadata": {},
   "source": [
    "#### Setup Requirements\n",
    "\n",
    "Install required dependencies and make file available for language wrapper."
   ]
  },
  {
   "cell_type": "code",
   "execution_count": null,
   "metadata": {},
   "outputs": [],
   "source": [
    "%%writefile requirements.txt\n",
    "joblib==0.14.1\n",
    "scikit-learn==0.20.3"
   ]
  },
  {
   "cell_type": "code",
   "execution_count": null,
   "metadata": {},
   "outputs": [],
   "source": [
    "!pip install -r requirememnts.txt"
   ]
  },
  {
   "cell_type": "markdown",
   "metadata": {},
   "source": [
    "#### Train the binary models we'll deploy\n",
    "\n",
    "The first model is a LogisticRegression model, and the second is a Perceptron model.\n",
    "\n",
    "We will first set everyhthing up with the LogisticRegression model."
   ]
  },
  {
   "cell_type": "code",
   "execution_count": 81,
   "metadata": {},
   "outputs": [
    {
     "name": "stdout",
     "output_type": "stream",
     "text": [
      "Saving model in binary-lr.joblib\n",
      "Saving model in binary-percept.joblib\n"
     ]
    },
    {
     "name": "stderr",
     "output_type": "stream",
     "text": [
      "/home/alejandro/miniconda3/lib/python3.7/site-packages/sklearn/linear_model/stochastic_gradient.py:152: DeprecationWarning: n_iter parameter is deprecated in 0.19 and will be removed in 0.21. Use max_iter and tol instead.\n",
      "  DeprecationWarning)\n"
     ]
    }
   ],
   "source": [
    "import joblib\n",
    "from sklearn.pipeline import Pipeline\n",
    "from sklearn.linear_model import LogisticRegression, Perceptron\n",
    "from sklearn import datasets\n",
    "\n",
    "parameters = [\n",
    "    {\"clf\": LogisticRegression(solver=\"liblinear\", multi_class=\"ovr\"), \"name\": \"binary-lr.joblib\"},\n",
    "    {\"clf\": Perceptron(n_iter=40, eta0=0.1, random_state=0), \"name\": \"binary-percept.joblib\"},\n",
    "]\n",
    "\n",
    "X, y = datasets.load_breast_cancer(return_X_y=True)\n",
    "\n",
    "for param in parameters:\n",
    "    clf = param[\"clf\"]\n",
    "    clf.fit(X, y)\n",
    "\n",
    "    print(f\"Saving model in {param['name']}\")\n",
    "    joblib.dump(clf, param['name'])"
   ]
  },
  {
   "cell_type": "code",
   "execution_count": 84,
   "metadata": {},
   "outputs": [
    {
     "name": "stdout",
     "output_type": "stream",
     "text": [
      "Overwriting BinaryClassifier.py\n"
     ]
    }
   ],
   "source": [
    "%%writefile BinaryClassifier.py\n",
    "import joblib\n",
    "\n",
    "\n",
    "class Score:\n",
    "    def __init__(self, TP, FP, TN, FN):\n",
    "        self.TP = TP\n",
    "        self.FP = FP\n",
    "        self.TN = TN\n",
    "        self.FN = FN\n",
    "\n",
    "\n",
    "class BinaryClassifier:\n",
    "    def __init__(self, model_name=\"binary-lr.joblib\"):\n",
    "        self.scores = Score(0, 0, 0, 0)\n",
    "        self.model = joblib.load(model_name)\n",
    "\n",
    "    def predict(self, X, features_names=None, meta=None):\n",
    "        return self.model.predict(X)\n",
    "\n",
    "    def send_feedback(self, features, feature_names, reward, truth, routing=\"\"):\n",
    "        predicted = self.predict(features)\n",
    "        if int(truth[0]) == 1:\n",
    "            if int(predicted[0]) == int(truth[0]):\n",
    "                self.scores.TP += 1\n",
    "            else:\n",
    "                self.scores.FN += 1\n",
    "        else:\n",
    "            if int(predicted[0]) == int(truth[0]):\n",
    "                self.scores.TN += 1\n",
    "            else:\n",
    "                self.scores.FP += 1\n",
    "        return []  # Ignore return statement as its not used\n",
    "\n",
    "    def metrics(self):\n",
    "        return [\n",
    "            {\"type\": \"GAUGE\", \"key\": \"true_pos\", \"value\": self.scores.TP},\n",
    "            {\"type\": \"GAUGE\", \"key\": \"true_neg\", \"value\": self.scores.FN},\n",
    "            {\"type\": \"GAUGE\", \"key\": \"false_pos\", \"value\": self.scores.TN},\n",
    "            {\"type\": \"GAUGE\", \"key\": \"false_neg\", \"value\": self.scores.FP},\n",
    "        ]"
   ]
  },
  {
   "cell_type": "markdown",
   "metadata": {},
   "source": [
    "Now we can build the image using the s2i utility which will create our microservice to deploy."
   ]
  },
  {
   "cell_type": "code",
   "execution_count": 85,
   "metadata": {
    "scrolled": true
   },
   "outputs": [
    {
     "name": "stdout",
     "output_type": "stream",
     "text": [
      "---> Installing application source...\n",
      "---> Installing dependencies ...\n",
      "Looking in links: /whl\n",
      "Collecting joblib==0.14.1 (from -r requirements.txt (line 1))\n",
      "  WARNING: Url '/whl' is ignored. It is either a non-existing path or lacks a specific scheme.\n",
      "Downloading https://files.pythonhosted.org/packages/28/5c/cf6a2b65a321c4a209efcdf64c2689efae2cb62661f8f6f4bb28547cf1bf/joblib-0.14.1-py2.py3-none-any.whl (294kB)\n",
      "Collecting scikit-learn==0.20.3 (from -r requirements.txt (line 2))\n",
      "  WARNING: Url '/whl' is ignored. It is either a non-existing path or lacks a specific scheme.\n",
      "Downloading https://files.pythonhosted.org/packages/aa/cc/a84e1748a2a70d0f3e081f56cefc634f3b57013b16faa6926d3a6f0598df/scikit_learn-0.20.3-cp37-cp37m-manylinux1_x86_64.whl (5.4MB)\n",
      "Collecting scipy>=0.13.3 (from scikit-learn==0.20.3->-r requirements.txt (line 2))\n",
      "  WARNING: Url '/whl' is ignored. It is either a non-existing path or lacks a specific scheme.\n",
      "Downloading https://files.pythonhosted.org/packages/30/45/ff9df4beceab76f979ee0ea7f5d248596aa5b0c179aa3d30589a3f4549eb/scipy-1.5.1-cp37-cp37m-manylinux1_x86_64.whl (25.9MB)\n",
      "Requirement already satisfied: numpy>=1.8.2 in /opt/conda/lib/python3.7/site-packages (from scikit-learn==0.20.3->-r requirements.txt (line 2)) (1.19.0)\n",
      "Installing collected packages: joblib, scipy, scikit-learn\n",
      "Successfully installed joblib-0.14.1 scikit-learn-0.20.3 scipy-1.5.1\n",
      "Collecting pip-licenses\n",
      "Downloading https://files.pythonhosted.org/packages/2e/8a/b8eb114545d9e984fcc013ef544c487aa2c02489a66185a82108625784a5/pip_licenses-2.2.1-py3-none-any.whl\n",
      "Collecting PTable (from pip-licenses)\n",
      "Downloading https://files.pythonhosted.org/packages/ab/b3/b54301811173ca94119eb474634f120a49cd370f257d1aae5a4abaf12729/PTable-0.9.2.tar.gz\n",
      "Building wheels for collected packages: PTable\n",
      "Building wheel for PTable (setup.py): started\n",
      "Building wheel for PTable (setup.py): finished with status 'done'\n",
      "Created wheel for PTable: filename=PTable-0.9.2-cp37-none-any.whl size=22906 sha256=879ef5389c9fde9164b54781263911d3dddbc07f3c552ca98188f6774b64104a\n",
      "Stored in directory: /root/.cache/pip/wheels/22/cc/2e/55980bfe86393df3e9896146a01f6802978d09d7ebcba5ea56\n",
      "Successfully built PTable\n",
      "Installing collected packages: PTable, pip-licenses\n",
      "Successfully installed PTable-0.9.2 pip-licenses-2.2.1\n",
      "created path: ./licenses/license_info.csv\n",
      "created path: ./licenses/license.txt\n",
      "Build completed successfully\n"
     ]
    }
   ],
   "source": [
    "!s2i build . seldonio/seldon-core-s2i-python37:1.2.2-dev binary_perf:0.1 \\\n",
    "        --env MODEL_NAME=BinaryClassifier --env API_TYPE=REST --env SERVICE_TYPE=MODEL --env PERSISTENCE=0"
   ]
  },
  {
   "cell_type": "markdown",
   "metadata": {},
   "source": [
    "And we can deploy a simple model with the yaml below"
   ]
  },
  {
   "cell_type": "code",
   "execution_count": 86,
   "metadata": {},
   "outputs": [
    {
     "name": "stdout",
     "output_type": "stream",
     "text": [
      "seldondeployment.machinelearning.seldon.io/binary-perf created\n"
     ]
    }
   ],
   "source": [
    "%%bash\n",
    "kubectl apply -n seldon -f - <<END\n",
    "apiVersion: machinelearning.seldon.io/v1\n",
    "kind: SeldonDeployment\n",
    "metadata:\n",
    "  name: binary-perf\n",
    "spec:\n",
    "  name: binary-perf\n",
    "  predictors:\n",
    "  - componentSpecs:\n",
    "    - spec:\n",
    "        containers:\n",
    "        - image: binary_perf:0.1\n",
    "          imagePullPolicy: IfNotPresent\n",
    "          name: classifier\n",
    "    graph:\n",
    "      children: []\n",
    "      endpoint:\n",
    "        type: REST\n",
    "      parameters:\n",
    "      - name: model_name\n",
    "        type: STRING\n",
    "        value: binary-lr.joblib\n",
    "      name: classifier\n",
    "      type: MODEL\n",
    "    name: default\n",
    "    replicas: 1\n",
    "END"
   ]
  },
  {
   "cell_type": "code",
   "execution_count": 114,
   "metadata": {},
   "outputs": [
    {
     "name": "stdout",
     "output_type": "stream",
     "text": [
      "binary-perf-default-0-classifier-6bb78d67d4-2b2gh           2/2     Running   0          24s\r\n"
     ]
    }
   ],
   "source": [
    "!kubectl get pods -n seldon | grep binary"
   ]
  },
  {
   "cell_type": "markdown",
   "metadata": {},
   "source": [
    "Now we can send a couple of initial requests to be able to set up the initial dashboard in grafana with the metrics generated in prometheus"
   ]
  },
  {
   "cell_type": "code",
   "execution_count": 115,
   "metadata": {},
   "outputs": [],
   "source": [
    "import requests\n",
    "\n",
    "url = \"http://localhost:80/seldon/seldon/binary-perf/api/v1.0\"\n",
    "\n",
    "tn = {\"reward\": 0, \"request\": {\"data\": {\"ndarray\": [X[0].tolist()]}}, \"truth\":{\"data\": {\"ndarray\": [[0]]}}}\n",
    "fp = {\"reward\": 0, \"request\": {\"data\": {\"ndarray\": [X[0].tolist()]}}, \"truth\":{\"data\": {\"ndarray\": [[1]]}}}\n",
    "tp = {\"reward\": 0, \"request\": {\"data\": {\"ndarray\": [X[-1].tolist()]}}, \"truth\":{\"data\": {\"ndarray\": [[1]]}}}\n",
    "fn = {\"reward\": 0, \"request\": {\"data\": {\"ndarray\": [X[-1].tolist()]}}, \"truth\":{\"data\": {\"ndarray\": [[0]]}}}\n",
    "\n",
    "samp_list = [tn, tp, fp, fn]\n",
    "\n",
    "for s in samp_list:\n",
    "    for i in range(10):\n",
    "        requests.post(f\"{url}/feedback\", json=s)"
   ]
  },
  {
   "cell_type": "markdown",
   "metadata": {},
   "source": [
    "We can now create a dashboard with these values to display the following statistical metrics:\n",
    "* Accuracy (tp + tn) / (tp + tn + fp + fn)\n",
    "* Precision tp / (tp + fp)\n",
    "* Recall tp / (fp + fn)\n",
    "* Specificity tn / (tn + fp)\n",
    "    \n",
    "![](img/stat-metrics.jpg)"
   ]
  },
  {
   "cell_type": "markdown",
   "metadata": {},
   "source": [
    "You can import the dashboard using the json below:"
   ]
  },
  {
   "cell_type": "code",
   "execution_count": null,
   "metadata": {},
   "outputs": [],
   "source": [
    "{\"annotations\": {\"list\": [{\"builtIn\": 1,\"datasource\": \"-- Grafana --\",\"enable\": true,\"hide\": true,\"iconColor\": \"rgba(0, 211, 255, 1)\",\"name\": \"Annotations & Alerts\",\"type\": \"dashboard\"}]},\"editable\": true,\"gnetId\": null,\"graphTooltip\": 0,\"links\": [],\"panels\": [{\"aliasColors\": {},\"bars\": false,\"dashLength\": 10,\"dashes\": false,\"datasource\": \"prometheus\",\"description\": \"\",\"fieldConfig\": {\"defaults\": {\"custom\": {},\"mappings\": [],\"thresholds\": {\"mode\": \"absolute\",\"steps\": [{\"color\": \"green\",\"value\": null},{\"color\": \"red\",\"value\": 80}]}},\"overrides\": []},\"fill\": 1,\"fillGradient\": 0,\"gridPos\": {\"h\": 8,\"w\": 12,\"x\": 0,\"y\": 0},\"hiddenSeries\": false,\"id\": 2,\"legend\": {\"avg\": false,\"current\": false,\"max\": false,\"min\": false,\"show\": true,\"total\": false,\"values\": false},\"lines\": true,\"linewidth\": 1,\"nullPointMode\": \"null\",\"options\": {\"dataLinks\": []},\"percentage\": false,\"pluginVersion\": \"7.0.3\",\"pointradius\": 2,\"points\": true,\"renderer\": \"flot\",\"seriesOverrides\": [],\"spaceLength\": 10,\"stack\": false,\"steppedLine\": false,\"targets\": [{\"expr\": \"(true_pos+true_neg)/(true_pos + true_neg + false_neg + false_pos)\",\"interval\": \"\",\"legendFormat\": \"{{app}}\",\"refId\": \"A\"}],\"thresholds\": [],\"timeFrom\": null,\"timeRegions\": [],\"timeShift\": null,\"title\": \"Real Time Model Accuracy\",\"tooltip\": {\"shared\": true,\"sort\": 0,\"value_type\": \"individual\"},\"type\": \"graph\",\"xaxis\": {\"buckets\": null,\"mode\": \"time\",\"name\": null,\"show\": true,\"values\": []},\"yaxes\": [{\"$$hashKey\": \"object:211\",\"decimals\": null,\"format\": \"short\",\"label\": null,\"logBase\": 1,\"max\": \"1\",\"min\": \"0\",\"show\": true},{\"$$hashKey\": \"object:212\",\"format\": \"short\",\"label\": null,\"logBase\": 1,\"max\": null,\"min\": null,\"show\": true}],\"yaxis\": {\"align\": false,\"alignLevel\": null}},{\"aliasColors\": {},\"bars\": false,\"dashLength\": 10,\"dashes\": false,\"datasource\": \"prometheus\",\"description\": \"\",\"fieldConfig\": {\"defaults\": {\"custom\": {\"align\": null},\"mappings\": [],\"thresholds\": {\"mode\": \"absolute\",\"steps\": [{\"color\": \"green\",\"value\": null},{\"color\": \"red\",\"value\": 80}]}},\"overrides\": []},\"fill\": 1,\"fillGradient\": 0,\"gridPos\": {\"h\": 8,\"w\": 12,\"x\": 12,\"y\": 0},\"hiddenSeries\": false,\"id\": 3,\"legend\": {\"avg\": false,\"current\": false,\"max\": false,\"min\": false,\"show\": true,\"total\": false,\"values\": false},\"lines\": true,\"linewidth\": 1,\"nullPointMode\": \"null\",\"options\": {\"dataLinks\": []},\"percentage\": false,\"pluginVersion\": \"7.0.3\",\"pointradius\": 2,\"points\": true,\"renderer\": \"flot\",\"seriesOverrides\": [],\"spaceLength\": 10,\"stack\": false,\"steppedLine\": false,\"targets\": [{\"expr\": \"true_pos/(true_pos + false_pos)\",\"interval\": \"\",\"legendFormat\": \"{{app}}\",\"refId\": \"A\"}],\"thresholds\": [],\"timeFrom\": null,\"timeRegions\": [],\"timeShift\": null,\"title\": \"Real Time Model Precision\",\"tooltip\": {\"shared\": true,\"sort\": 0,\"value_type\": \"individual\"},\"type\": \"graph\",\"xaxis\": {\"buckets\": null,\"mode\": \"time\",\"name\": null,\"show\": true,\"values\": []},\"yaxes\": [{\"$$hashKey\": \"object:260\",\"decimals\": null,\"format\": \"short\",\"label\": null,\"logBase\": 1,\"max\": \"1\",\"min\": \"0\",\"show\": true},{\"$$hashKey\": \"object:261\",\"format\": \"short\",\"label\": null,\"logBase\": 1,\"max\": null,\"min\": null,\"show\": true}],\"yaxis\": {\"align\": false,\"alignLevel\": null}},{\"aliasColors\": {},\"bars\": false,\"dashLength\": 10,\"dashes\": false,\"datasource\": \"prometheus\",\"description\": \"\",\"fieldConfig\": {\"defaults\": {\"custom\": {},\"mappings\": [],\"thresholds\": {\"mode\": \"absolute\",\"steps\": [{\"color\": \"green\",\"value\": null},{\"color\": \"red\",\"value\": 80}]}},\"overrides\": []},\"fill\": 1,\"fillGradient\": 0,\"gridPos\": {\"h\": 8,\"w\": 12,\"x\": 0,\"y\": 8},\"hiddenSeries\": false,\"id\": 5,\"legend\": {\"avg\": false,\"current\": false,\"max\": false,\"min\": false,\"show\": true,\"total\": false,\"values\": false},\"lines\": true,\"linewidth\": 1,\"nullPointMode\": \"null\",\"options\": {\"dataLinks\": []},\"percentage\": false,\"pluginVersion\": \"7.0.3\",\"pointradius\": 2,\"points\": true,\"renderer\": \"flot\",\"seriesOverrides\": [],\"spaceLength\": 10,\"stack\": false,\"steppedLine\": false,\"targets\": [{\"expr\": \"true_pos/(true_pos + false_neg)\",\"interval\": \"\",\"legendFormat\": \"{{app}}\",\"refId\": \"A\"}],\"thresholds\": [],\"timeFrom\": null,\"timeRegions\": [],\"timeShift\": null,\"title\": \"Real Time Model Recall\",\"tooltip\": {\"shared\": true,\"sort\": 0,\"value_type\": \"individual\"},\"type\": \"graph\",\"xaxis\": {\"buckets\": null,\"mode\": \"time\",\"name\": null,\"show\": true,\"values\": []},\"yaxes\": [{\"$$hashKey\": \"object:309\",\"decimals\": null,\"format\": \"short\",\"label\": null,\"logBase\": 1,\"max\": \"1\",\"min\": \"0\",\"show\": true},{\"$$hashKey\": \"object:310\",\"format\": \"short\",\"label\": null,\"logBase\": 1,\"max\": null,\"min\": null,\"show\": true}],\"yaxis\": {\"align\": false,\"alignLevel\": null}},{\"aliasColors\": {},\"bars\": false,\"dashLength\": 10,\"dashes\": false,\"datasource\": \"prometheus\",\"description\": \"\",\"fieldConfig\": {\"defaults\": {\"custom\": {},\"mappings\": [],\"thresholds\": {\"mode\": \"absolute\",\"steps\": [{\"color\": \"green\",\"value\": null},{\"color\": \"red\",\"value\": 80}]}},\"overrides\": []},\"fill\": 1,\"fillGradient\": 0,\"gridPos\": {\"h\": 8,\"w\": 12,\"x\": 12,\"y\": 8},\"hiddenSeries\": false,\"id\": 4,\"legend\": {\"avg\": false,\"current\": false,\"max\": false,\"min\": false,\"show\": true,\"total\": false,\"values\": false},\"lines\": true,\"linewidth\": 1,\"nullPointMode\": \"null\",\"options\": {\"dataLinks\": []},\"percentage\": false,\"pluginVersion\": \"7.0.3\",\"pointradius\": 2,\"points\": true,\"renderer\": \"flot\",\"seriesOverrides\": [],\"spaceLength\": 10,\"stack\": false,\"steppedLine\": false,\"targets\": [{\"expr\": \"true_neg/(true_neg + false_pos)\",\"interval\": \"\",\"legendFormat\": \"{{app}}\",\"refId\": \"A\"}],\"thresholds\": [],\"timeFrom\": null,\"timeRegions\": [],\"timeShift\": null,\"title\": \"Real Time Model Specificity\",\"tooltip\": {\"shared\": true,\"sort\": 0,\"value_type\": \"individual\"},\"type\": \"graph\",\"xaxis\": {\"buckets\": null,\"mode\": \"time\",\"name\": null,\"show\": true,\"values\": []},\"yaxes\": [{\"$$hashKey\": \"object:358\",\"decimals\": null,\"format\": \"short\",\"label\": null,\"logBase\": 1,\"max\": \"1\",\"min\": \"0\",\"show\": true},{\"$$hashKey\": \"object:359\",\"format\": \"short\",\"label\": null,\"logBase\": 1,\"max\": null,\"min\": null,\"show\": true}],\"yaxis\": {\"align\": false,\"alignLevel\": null}}],\"refresh\": false,\"schemaVersion\": 25,\"style\": \"dark\",\"tags\": [],\"templating\": {\"list\": []},\"time\": {\"from\": \"now-5m\",\"to\": \"now\"},\"timepicker\": {\"refresh_intervals\": [\"5s\",\"10s\",\"30s\",\"1m\",\"5m\",\"15m\",\"30m\",\"1h\",\"2h\",\"1d\"],\"time_options\": [\"5m\",\"15m\",\"1h\",\"6h\",\"12h\",\"24h\",\"2d\",\"7d\",\"30d\"]},\"timezone\": \"browser\",\"title\": \"metrics-test\",\"uid\": \"zmkrlZ7Gk\",\"version\": 1}"
   ]
  },
  {
   "cell_type": "markdown",
   "metadata": {},
   "source": [
    "We can now use this to compare the performance of two models next to each other.\n",
    "\n",
    "We'll delete the model and create a new shadow deployment"
   ]
  },
  {
   "cell_type": "code",
   "execution_count": 40,
   "metadata": {},
   "outputs": [
    {
     "name": "stdout",
     "output_type": "stream",
     "text": [
      "seldondeployment.machinelearning.seldon.io \"binary-perf\" deleted\r\n"
     ]
    }
   ],
   "source": [
    "!kubectl delete sdep -n seldon binary-perf"
   ]
  },
  {
   "cell_type": "markdown",
   "metadata": {},
   "source": [
    "Now the command below will create two models, with a shadow deployment where the traffic will be forwarded to both models (but only the main one will return value)"
   ]
  },
  {
   "cell_type": "code",
   "execution_count": 116,
   "metadata": {},
   "outputs": [
    {
     "name": "stdout",
     "output_type": "stream",
     "text": [
      "seldondeployment.machinelearning.seldon.io/binary-perf configured\n"
     ]
    }
   ],
   "source": [
    "%%bash\n",
    "kubectl apply -n seldon -f - <<END\n",
    "apiVersion: machinelearning.seldon.io/v1\n",
    "kind: SeldonDeployment\n",
    "metadata:\n",
    "  name: binary-perf\n",
    "spec:\n",
    "  name: binary-perf\n",
    "  predictors:\n",
    "  - componentSpecs:\n",
    "    - spec:\n",
    "        containers:\n",
    "        - image: binary_perf:0.1\n",
    "          imagePullPolicy: IfNotPresent\n",
    "          name: classifier\n",
    "    graph:\n",
    "      children: []\n",
    "      endpoint:\n",
    "        type: REST\n",
    "      parameters:\n",
    "      - name: model_name\n",
    "        type: STRING\n",
    "        value: binary-lr.joblib\n",
    "      name: classifier\n",
    "      type: MODEL\n",
    "    name: default\n",
    "    replicas: 1\n",
    "  - componentSpecs:\n",
    "    - spec:\n",
    "        containers:\n",
    "        - image: binary_perf:0.1\n",
    "          imagePullPolicy: IfNotPresent\n",
    "          name: classifier\n",
    "    graph:\n",
    "      children: []\n",
    "      endpoint:\n",
    "        type: REST\n",
    "      parameters:\n",
    "      - name: model_name\n",
    "        type: STRING\n",
    "        value: binary-percept.joblib\n",
    "      name: classifier\n",
    "      type: MODEL\n",
    "    name: shadow\n",
    "    replicas: 1\n",
    "    shadow: true\n",
    "END"
   ]
  },
  {
   "cell_type": "code",
   "execution_count": 55,
   "metadata": {},
   "outputs": [
    {
     "name": "stdout",
     "output_type": "stream",
     "text": [
      "binary-perf-default-0-classifier-6bb78d67d4-tcp5f   2/2     Running   0          29s\r\n",
      "binary-perf-shadow-0-classifier-5dbcf7997b-mxmn4    2/2     Running   0          29s\r\n"
     ]
    }
   ],
   "source": [
    "!kubectl get pods -n seldon | grep binary"
   ]
  },
  {
   "cell_type": "markdown",
   "metadata": {},
   "source": [
    "Now that we have both models deployed, we can send requests with 0.1 sec delay to see the real time metrics comparison"
   ]
  },
  {
   "cell_type": "code",
   "execution_count": 117,
   "metadata": {},
   "outputs": [],
   "source": [
    "import time\n",
    "from sklearn import datasets\n",
    "\n",
    "X_in, y_in = datasets.load_breast_cancer(return_X_y=True)\n",
    "\n",
    "url = \"http://localhost:80/seldon/seldon/binary-perf/api/v1.0\"\n",
    "\n",
    "for x, y in zip(X_in, y_in):\n",
    "    data = {\"reward\": 0, \"request\": {\"data\": {\"ndarray\": [x.tolist()]}}, \"truth\":{\"data\": {\"ndarray\": [[y.tolist()]]}}}\n",
    "    requests.post(f\"{url}/feedback\", json=data)\n",
    "    time.sleep(0.1)"
   ]
  },
  {
   "cell_type": "markdown",
   "metadata": {},
   "source": [
    "Now with our model we are able to see the detailed performance by looking at the dashboard we created.\n",
    "\n",
    "We can see that in this case, both models have very similar perfromance on accuracy, however one model has better performance on precision, which would be important if you need to minimise false positives.\n",
    "\n",
    "![](img/model-perf-comp.jpg)"
   ]
  },
  {
   "cell_type": "markdown",
   "metadata": {},
   "source": [
    "### Example using python wrapper for Multiclass Classifier\n",
    "\n",
    "Now we can build the model wrapper which uses the iris dataset.\n",
    "\n",
    "This will have 3 classes available, and we will be able to use this for deploying and evaluation.\n",
    "\n",
    "FOr this example the metrics used are only accuracy, but we can explore how to abstract for multi-class classification.\n",
    "\n",
    "#### STart by training the models to deploy"
   ]
  },
  {
   "cell_type": "code",
   "execution_count": 118,
   "metadata": {},
   "outputs": [
    {
     "name": "stdout",
     "output_type": "stream",
     "text": [
      "Saving model in multiclass-lr.joblib\n",
      "Saving model in multiclass-percept.joblib\n"
     ]
    },
    {
     "name": "stderr",
     "output_type": "stream",
     "text": [
      "/home/alejandro/miniconda3/lib/python3.7/site-packages/sklearn/linear_model/stochastic_gradient.py:152: DeprecationWarning: n_iter parameter is deprecated in 0.19 and will be removed in 0.21. Use max_iter and tol instead.\n",
      "  DeprecationWarning)\n"
     ]
    }
   ],
   "source": [
    "import joblib\n",
    "from sklearn.linear_model import LogisticRegression, Perceptron\n",
    "from sklearn.model_selection import train_test_split\n",
    "from sklearn import datasets\n",
    "\n",
    "parameters = [\n",
    "    {\"clf\": LogisticRegression(solver=\"liblinear\", multi_class=\"ovr\"), \"name\": \"multiclass-lr.joblib\"},\n",
    "    {\"clf\": Perceptron(n_iter=40, eta0=0.1, random_state=0), \"name\": \"multiclass-percept.joblib\"},\n",
    "]\n",
    "\n",
    "X, y = datasets.load_iris(return_X_y=True)\n",
    "X_train, X_test, y_train, y_test = train_test_split(X, y, test_size=0.9)\n",
    "\n",
    "for param in parameters:\n",
    "    clf = param[\"clf\"]\n",
    "    clf.fit(X_train, y_train)\n",
    "\n",
    "    print(f\"Saving model in {param['name']}\")\n",
    "    joblib.dump(clf, param['name'])"
   ]
  },
  {
   "cell_type": "markdown",
   "metadata": {},
   "source": [
    "We can see both our logistic regression model and the perceptron models are available"
   ]
  },
  {
   "cell_type": "markdown",
   "metadata": {},
   "source": [
    "We can now create our simple wrapper. In this wrapper we will be exposing some of the key custom metrics"
   ]
  },
  {
   "cell_type": "code",
   "execution_count": 178,
   "metadata": {},
   "outputs": [
    {
     "name": "stdout",
     "output_type": "stream",
     "text": [
      "Overwriting MulticlassClassifier.py\n"
     ]
    }
   ],
   "source": [
    "%%writefile MulticlassClassifier.py\n",
    "import joblib\n",
    "\n",
    "\n",
    "class Scores:\n",
    "    def __init__(self, numclass):\n",
    "        self.TP = [0] * numclass\n",
    "        self.FP = [0] * numclass\n",
    "        self.FN = [0] * numclass\n",
    "        # Further parameters can be added for more advanced metrics\n",
    "#         self.N = 0\n",
    "#         self.DELTA = [0] * numclass # [0, 0, 0]\n",
    "#         self.DELTA_SQ = [0] * numclass\n",
    "#         self.LOG_DELTA = [0] * numclass\n",
    "        # self.TN = [0] * numclass # Most often there won't be true negatives in multiclass although w\n",
    "        # We could explore using reward (or a binary param) to define if expected TN, but that seems more custom\n",
    "\n",
    "class MulticlassClassifier:\n",
    "    def __init__(self, model_name=\"multiclass-lr.joblib\", class_num=3, proba=False):\n",
    "        self.scores = Scores(class_num)\n",
    "        self.model = joblib.load(model_name)\n",
    "        self.proba = proba\n",
    "\n",
    "    def predict(self, X, features_names=None, meta=None):\n",
    "        return self.model.predict(X)\n",
    "\n",
    "    def send_feedback(self, features, feature_names, reward, truth, routing=\"\"):\n",
    "        predicted = self.predict(features)\n",
    "        print(f\"Predicted: {predicted}\")\n",
    "        print(f\"Truth: {truth}\")\n",
    "        # These parameters could also be set for other metrics\n",
    "#         delta = truth - predicted\n",
    "#         delta_sq = delta ** 2\n",
    "#         delta_sq = math.log(delta)\n",
    "#         self.score.DELTA += delta\n",
    "#         self.score.DELTA_SQ += delta_sq\n",
    "        \n",
    "        if int(predicted[0]) == int(truth[0]):\n",
    "            self.scores.TP[int(truth[0])] += 1\n",
    "        else:\n",
    "            self.scores.FN[int(truth[0])] += 1\n",
    "            self.scores.FP[int(predicted[0])] += 1\n",
    "        return []  # Ignore return statement as its not used\n",
    "\n",
    "    def metrics(self):\n",
    "        metrics = []\n",
    "        for score, arr in vars(self.scores).items():\n",
    "            for i,val in enumerate(arr):\n",
    "                metric = {\"type\": \"GAUGE\", \"key\": f\"score_{score}\", \"value\": val, \"tags\": {\"class\": f\"class_{i}\"}}\n",
    "                print(metric)\n",
    "                metrics.append(metric)\n",
    "        return metrics"
   ]
  },
  {
   "cell_type": "markdown",
   "metadata": {},
   "source": [
    "Now we can build the image"
   ]
  },
  {
   "cell_type": "code",
   "execution_count": 179,
   "metadata": {},
   "outputs": [
    {
     "name": "stdout",
     "output_type": "stream",
     "text": [
      "---> Installing application source...\n",
      "---> Installing dependencies ...\n",
      "Looking in links: /whl\n",
      "Collecting joblib==0.14.1 (from -r requirements.txt (line 1))\n",
      "  WARNING: Url '/whl' is ignored. It is either a non-existing path or lacks a specific scheme.\n",
      "Downloading https://files.pythonhosted.org/packages/28/5c/cf6a2b65a321c4a209efcdf64c2689efae2cb62661f8f6f4bb28547cf1bf/joblib-0.14.1-py2.py3-none-any.whl (294kB)\n",
      "Collecting scikit-learn==0.20.3 (from -r requirements.txt (line 2))\n",
      "  WARNING: Url '/whl' is ignored. It is either a non-existing path or lacks a specific scheme.\n",
      "Downloading https://files.pythonhosted.org/packages/aa/cc/a84e1748a2a70d0f3e081f56cefc634f3b57013b16faa6926d3a6f0598df/scikit_learn-0.20.3-cp37-cp37m-manylinux1_x86_64.whl (5.4MB)\n",
      "Requirement already satisfied: numpy>=1.8.2 in /opt/conda/lib/python3.7/site-packages (from scikit-learn==0.20.3->-r requirements.txt (line 2)) (1.19.0)\n",
      "Collecting scipy>=0.13.3 (from scikit-learn==0.20.3->-r requirements.txt (line 2))\n",
      "  WARNING: Url '/whl' is ignored. It is either a non-existing path or lacks a specific scheme.\n",
      "Downloading https://files.pythonhosted.org/packages/30/45/ff9df4beceab76f979ee0ea7f5d248596aa5b0c179aa3d30589a3f4549eb/scipy-1.5.1-cp37-cp37m-manylinux1_x86_64.whl (25.9MB)\n",
      "Installing collected packages: joblib, scipy, scikit-learn\n",
      "Successfully installed joblib-0.14.1 scikit-learn-0.20.3 scipy-1.5.1\n",
      "Collecting pip-licenses\n",
      "Downloading https://files.pythonhosted.org/packages/2e/8a/b8eb114545d9e984fcc013ef544c487aa2c02489a66185a82108625784a5/pip_licenses-2.2.1-py3-none-any.whl\n",
      "Collecting PTable (from pip-licenses)\n",
      "Downloading https://files.pythonhosted.org/packages/ab/b3/b54301811173ca94119eb474634f120a49cd370f257d1aae5a4abaf12729/PTable-0.9.2.tar.gz\n",
      "Building wheels for collected packages: PTable\n",
      "Building wheel for PTable (setup.py): started\n",
      "Building wheel for PTable (setup.py): finished with status 'done'\n",
      "Created wheel for PTable: filename=PTable-0.9.2-cp37-none-any.whl size=22906 sha256=dcd92a9d34f16e4b8fa793b7146ceea7d8d8ff0306edded2c7a38f907a52daea\n",
      "Stored in directory: /root/.cache/pip/wheels/22/cc/2e/55980bfe86393df3e9896146a01f6802978d09d7ebcba5ea56\n",
      "Successfully built PTable\n",
      "Installing collected packages: PTable, pip-licenses\n",
      "Successfully installed PTable-0.9.2 pip-licenses-2.2.1\n",
      "created path: ./licenses/license_info.csv\n",
      "created path: ./licenses/license.txt\n",
      "Build completed successfully\n"
     ]
    }
   ],
   "source": [
    "!s2i build . seldonio/seldon-core-s2i-python37:1.2.2-dev multiclass_perf:0.1 \\\n",
    "        --env MODEL_NAME=MulticlassClassifier --env API_TYPE=REST --env SERVICE_TYPE=MODEL --env PERSISTENCE=0"
   ]
  },
  {
   "cell_type": "markdown",
   "metadata": {},
   "source": [
    "Now we can deploy a simple model to initially visualise the custom metrics that are generated"
   ]
  },
  {
   "cell_type": "code",
   "execution_count": 175,
   "metadata": {},
   "outputs": [
    {
     "name": "stdout",
     "output_type": "stream",
     "text": [
      "seldondeployment.machinelearning.seldon.io/multiclass-perf created\n"
     ]
    }
   ],
   "source": [
    "%%bash\n",
    "kubectl apply -n seldon -f - <<END\n",
    "apiVersion: machinelearning.seldon.io/v1\n",
    "kind: SeldonDeployment\n",
    "metadata:\n",
    "  name: multiclass-perf\n",
    "spec:\n",
    "  name: multiclass-perf\n",
    "  predictors:\n",
    "  - componentSpecs:\n",
    "    - spec:\n",
    "        containers:\n",
    "        - image: multiclass_perf:0.1\n",
    "          imagePullPolicy: IfNotPresent\n",
    "          name: classifier\n",
    "    graph:\n",
    "      children: []\n",
    "      endpoint:\n",
    "        type: REST\n",
    "      parameters:\n",
    "      - name: model_name\n",
    "        type: STRING\n",
    "        value: multiclass-percept.joblib\n",
    "      name: classifier\n",
    "      type: MODEL\n",
    "    name: default\n",
    "    replicas: 1\n",
    "END"
   ]
  },
  {
   "cell_type": "code",
   "execution_count": 176,
   "metadata": {},
   "outputs": [
    {
     "name": "stdout",
     "output_type": "stream",
     "text": [
      "multiclass-perf-default-0-classifier-ff47b85dc-q95fr        2/2     Running   0          58s\r\n"
     ]
    }
   ],
   "source": [
    "!kubectl get pods -n seldon | grep multiclass"
   ]
  },
  {
   "cell_type": "markdown",
   "metadata": {},
   "source": [
    "Now that we have deployed the model let's send a couple of requests so we can generate metrics, and we can create the dashboard."
   ]
  },
  {
   "cell_type": "code",
   "execution_count": 180,
   "metadata": {},
   "outputs": [],
   "source": [
    "import requests\n",
    "from sklearn import datasets\n",
    "import random\n",
    "\n",
    "url = \"http://localhost:80/seldon/seldon/multiclass-perf/api/v1.0\"\n",
    "\n",
    "for x_i, y_i in zip(X_test, y_test):\n",
    "    data = {\"reward\": 0, \"request\": {\"data\": {\"ndarray\": [x_i.tolist()]}}, \"truth\":{\"data\": {\"ndarray\": [[y_i.tolist()]]}}}\n",
    "    requests.post(f\"{url}/feedback\", json=data)\n",
    "    time.sleep(0.1)"
   ]
  },
  {
   "cell_type": "markdown",
   "metadata": {},
   "source": [
    "Now we can go to grafana and create a dashboard. We just need to go to the dashboard and provide the custom metrics to create the dashboard.\n",
    "\n",
    "For this, we are able to build a flexible dashboard that is able to display the metrics for each of the subclasses, together with the global metrics.\n",
    "\n",
    "The way that this is done is scalable, as we will see that once we deploy a second model we will be able to see that it automatically appears as well.\n",
    "\n",
    "We should then be able to see the following dashboard:\n",
    "\n",
    "![](img/model-perf-multiclass.jpg)"
   ]
  },
  {
   "cell_type": "markdown",
   "metadata": {},
   "source": [
    "You can load/import the full dashboard with the json below:"
   ]
  },
  {
   "cell_type": "code",
   "execution_count": null,
   "metadata": {},
   "outputs": [],
   "source": [
    "{\"annotations\": {\"list\": [{\"builtIn\": 1,\"datasource\": \"-- Grafana --\",\"enable\": true,\"hide\": true,\"iconColor\": \"rgba(0, 211, 255, 1)\",\"name\": \"Annotations & Alerts\",\"type\": \"dashboard\"}]},\"editable\": true,\"gnetId\": null,\"graphTooltip\": 0,\"id\": 4,\"links\": [],\"panels\": [{\"datasource\": \"prometheus\",\"description\": \"\",\"fieldConfig\": {\"defaults\": {\"custom\": {},\"mappings\": [],\"thresholds\": {\"mode\": \"absolute\",\"steps\": [{\"color\": \"green\",\"value\": null},{\"color\": \"red\",\"value\": 80}]}},\"overrides\": []},\"gridPos\": {\"h\": 5,\"w\": 8,\"x\": 0,\"y\": 0},\"id\": 5,\"options\": {\"colorMode\": \"background\",\"graphMode\": \"area\",\"justifyMode\": \"auto\",\"orientation\": \"auto\",\"reduceOptions\": {\"calcs\": [\"mean\"],\"fields\": \"\",\"values\": false}},\"pluginVersion\": \"7.0.3\",\"targets\": [{\"expr\": \"(sum(score_TP) by (seldon_app)) / (sum(score_TP + score_FN + score_FP) by (seldon_app))\",\"interval\": \"\",\"legendFormat\": \"{{class}} - {{seldon_app}}\",\"refId\": \"A\"}],\"timeFrom\": null,\"timeShift\": null,\"title\": \"ACCURACY\",\"transparent\": true,\"type\": \"stat\"},{\"datasource\": \"prometheus\",\"description\": \"\",\"fieldConfig\": {\"defaults\": {\"custom\": {},\"mappings\": [],\"thresholds\": {\"mode\": \"absolute\",\"steps\": [{\"color\": \"green\",\"value\": null},{\"color\": \"red\",\"value\": 80}]}},\"overrides\": []},\"gridPos\": {\"h\": 5,\"w\": 8,\"x\": 8,\"y\": 0},\"id\": 6,\"options\": {\"colorMode\": \"value\",\"graphMode\": \"area\",\"justifyMode\": \"auto\",\"orientation\": \"auto\",\"reduceOptions\": {\"calcs\": [\"mean\"],\"fields\": \"\",\"values\": false}},\"pluginVersion\": \"7.0.3\",\"targets\": [{\"expr\": \"(sum(score_TP) by (seldon_app)) / (sum(score_TP + score_FP) by (seldon_app))\",\"interval\": \"\",\"legendFormat\": \"{{class}} - {{seldon_app}}\",\"refId\": \"A\"}],\"timeFrom\": null,\"timeShift\": null,\"title\": \"PRECISION\",\"transparent\": true,\"type\": \"stat\"},{\"datasource\": \"prometheus\",\"description\": \"\",\"fieldConfig\": {\"defaults\": {\"custom\": {},\"mappings\": [],\"thresholds\": {\"mode\": \"absolute\",\"steps\": [{\"color\": \"green\",\"value\": null},{\"color\": \"red\",\"value\": 80}]}},\"overrides\": []},\"gridPos\": {\"h\": 5,\"w\": 8,\"x\": 16,\"y\": 0},\"id\": 7,\"options\": {\"colorMode\": \"value\",\"graphMode\": \"area\",\"justifyMode\": \"auto\",\"orientation\": \"auto\",\"reduceOptions\": {\"calcs\": [\"mean\"],\"fields\": \"\",\"values\": false}},\"pluginVersion\": \"7.0.3\",\"targets\": [{\"expr\": \"(sum(score_TP) by (seldon_app)) / (sum(score_TP + score_FN) by (seldon_app))\",\"interval\": \"\",\"legendFormat\": \"{{class}} - {{seldon_app}}\",\"refId\": \"A\"}],\"timeFrom\": null,\"timeShift\": null,\"title\": \"Recall\",\"transparent\": true,\"type\": \"stat\"},{\"aliasColors\": {},\"bars\": false,\"dashLength\": 10,\"dashes\": false,\"datasource\": \"prometheus\",\"description\": \"\",\"fieldConfig\": {\"defaults\": {\"custom\": {}},\"overrides\": []},\"fill\": 1,\"fillGradient\": 0,\"gridPos\": {\"h\": 6,\"w\": 24,\"x\": 0,\"y\": 5},\"hiddenSeries\": false,\"id\": 3,\"legend\": {\"avg\": false,\"current\": false,\"max\": false,\"min\": false,\"show\": true,\"total\": false,\"values\": false},\"lines\": true,\"linewidth\": 1,\"nullPointMode\": \"null\",\"options\": {\"dataLinks\": []},\"percentage\": false,\"pointradius\": 2,\"points\": true,\"renderer\": \"flot\",\"seriesOverrides\": [],\"spaceLength\": 10,\"stack\": false,\"steppedLine\": false,\"targets\": [{\"expr\": \"sum(score_TP / (score_TP + score_FN + score_FP)) by (class, seldon_app)\",\"interval\": \"\",\"legendFormat\": \"{{class}} - {{seldon_app}}\",\"refId\": \"A\"}],\"thresholds\": [],\"timeFrom\": null,\"timeRegions\": [],\"timeShift\": null,\"title\": \"Real Time Model ACCURACY by Class\",\"tooltip\": {\"shared\": true,\"sort\": 0,\"value_type\": \"individual\"},\"transparent\": true,\"type\": \"graph\",\"xaxis\": {\"buckets\": null,\"mode\": \"time\",\"name\": null,\"show\": true,\"values\": []},\"yaxes\": [{\"decimals\": null,\"format\": \"short\",\"label\": null,\"logBase\": 1,\"max\": \"1\",\"min\": \"0\",\"show\": true},{\"format\": \"short\",\"label\": null,\"logBase\": 1,\"max\": null,\"min\": null,\"show\": true}],\"yaxis\": {\"align\": false,\"alignLevel\": null}},{\"aliasColors\": {},\"bars\": false,\"dashLength\": 10,\"dashes\": false,\"datasource\": \"prometheus\",\"description\": \"\",\"fieldConfig\": {\"defaults\": {\"custom\": {}},\"overrides\": []},\"fill\": 1,\"fillGradient\": 0,\"gridPos\": {\"h\": 7,\"w\": 12,\"x\": 0,\"y\": 11},\"hiddenSeries\": false,\"id\": 2,\"legend\": {\"avg\": false,\"current\": false,\"max\": false,\"min\": false,\"show\": true,\"total\": false,\"values\": false},\"lines\": true,\"linewidth\": 1,\"nullPointMode\": \"null\",\"options\": {\"dataLinks\": []},\"percentage\": false,\"pointradius\": 2,\"points\": true,\"renderer\": \"flot\",\"seriesOverrides\": [],\"spaceLength\": 10,\"stack\": false,\"steppedLine\": false,\"targets\": [{\"expr\": \"sum(score_TP / (score_TP + score_FP)) by (class, seldon_app)\",\"interval\": \"\",\"legendFormat\": \"{{class}} - {{seldon_app}}\",\"refId\": \"A\"}],\"thresholds\": [],\"timeFrom\": null,\"timeRegions\": [],\"timeShift\": null,\"title\": \"Real Time Model PRECISION by Class\",\"tooltip\": {\"shared\": true,\"sort\": 0,\"value_type\": \"individual\"},\"type\": \"graph\",\"xaxis\": {\"buckets\": null,\"mode\": \"time\",\"name\": null,\"show\": true,\"values\": []},\"yaxes\": [{\"decimals\": null,\"format\": \"short\",\"label\": null,\"logBase\": 1,\"max\": \"1\",\"min\": \"0\",\"show\": true},{\"format\": \"short\",\"label\": null,\"logBase\": 1,\"max\": null,\"min\": null,\"show\": true}],\"yaxis\": {\"align\": false,\"alignLevel\": null}},{\"aliasColors\": {},\"bars\": false,\"dashLength\": 10,\"dashes\": false,\"datasource\": \"prometheus\",\"description\": \"\",\"fieldConfig\": {\"defaults\": {\"custom\": {}},\"overrides\": []},\"fill\": 1,\"fillGradient\": 0,\"gridPos\": {\"h\": 7,\"w\": 12,\"x\": 12,\"y\": 11},\"hiddenSeries\": false,\"id\": 4,\"legend\": {\"avg\": false,\"current\": false,\"max\": false,\"min\": false,\"show\": true,\"total\": false,\"values\": false},\"lines\": true,\"linewidth\": 1,\"nullPointMode\": \"null\",\"options\": {\"dataLinks\": []},\"percentage\": false,\"pointradius\": 2,\"points\": true,\"renderer\": \"flot\",\"seriesOverrides\": [],\"spaceLength\": 10,\"stack\": false,\"steppedLine\": false,\"targets\": [{\"expr\": \"sum(score_TP / (score_TP + score_FN)) by (class, seldon_app)\",\"interval\": \"\",\"legendFormat\": \"{{class}} - {{seldon_app}}\",\"refId\": \"A\"}],\"thresholds\": [],\"timeFrom\": null,\"timeRegions\": [],\"timeShift\": null,\"title\": \"Real Time Model RECALL by Class\",\"tooltip\": {\"shared\": true,\"sort\": 0,\"value_type\": \"individual\"},\"type\": \"graph\",\"xaxis\": {\"buckets\": null,\"mode\": \"time\",\"name\": null,\"show\": true,\"values\": []},\"yaxes\": [{\"decimals\": null,\"format\": \"short\",\"label\": null,\"logBase\": 1,\"max\": \"1\",\"min\": \"0\",\"show\": true},{\"format\": \"short\",\"label\": null,\"logBase\": 1,\"max\": null,\"min\": null,\"show\": true}],\"yaxis\": {\"align\": false,\"alignLevel\": null}}],\"refresh\": \"5s\",\"schemaVersion\": 25,\"style\": \"dark\",\"tags\": [],\"templating\": {\"list\": []},\"time\": {\"from\": \"now-1m\",\"to\": \"now\"},\"timepicker\": {\"refresh_intervals\": [\"10s\",\"30s\",\"1m\",\"5m\",\"15m\",\"30m\",\"1h\",\"2h\",\"1d\"]},\"timezone\": \"\",\"title\": \"MultiClass Prediction Statistics\",\"uid\": \"St9vqHnGk\",\"version\": 2}"
   ]
  },
  {
   "cell_type": "markdown",
   "metadata": {},
   "source": [
    "#### Compare two models performance\n",
    "Now we can actually run two models in parallel and compare their performance against each other.\n",
    "\n",
    "The previous model was trained with a LogisticRegrssion model, this one will be trained with a different SVM model"
   ]
  },
  {
   "cell_type": "code",
   "execution_count": 139,
   "metadata": {},
   "outputs": [
    {
     "name": "stdout",
     "output_type": "stream",
     "text": [
      "seldondeployment.machinelearning.seldon.io/multiclass-perf configured\n"
     ]
    }
   ],
   "source": [
    "%%bash\n",
    "kubectl apply -n seldon -f - <<END\n",
    "apiVersion: machinelearning.seldon.io/v1\n",
    "kind: SeldonDeployment\n",
    "metadata:\n",
    "  name: multiclass-perf\n",
    "spec:\n",
    "  name: multiclass-perf\n",
    "  predictors:\n",
    "  - componentSpecs:\n",
    "    - spec:\n",
    "        containers:\n",
    "        - image: multiclass_perf:0.1\n",
    "          imagePullPolicy: IfNotPresent\n",
    "          name: classifier\n",
    "    graph:\n",
    "      children: []\n",
    "      endpoint:\n",
    "        type: REST\n",
    "      parameters:\n",
    "      - name: model_name\n",
    "        type: STRING\n",
    "        value: multiclass-lr.joblib\n",
    "      name: classifier\n",
    "      type: MODEL\n",
    "    name: default\n",
    "    replicas: 1\n",
    "  - componentSpecs:\n",
    "    - spec:\n",
    "        containers:\n",
    "        - image: multiclass_perf:0.1\n",
    "          imagePullPolicy: IfNotPresent\n",
    "          name: classifier\n",
    "    graph:\n",
    "      children: []\n",
    "      endpoint:\n",
    "        type: REST\n",
    "      parameters:\n",
    "      - name: model_name\n",
    "        type: STRING\n",
    "        value: multiclass-percept.joblib\n",
    "      name: classifier\n",
    "      type: MODEL\n",
    "    name: shadow\n",
    "    replicas: 1\n",
    "    shadow: true\n",
    "END"
   ]
  },
  {
   "cell_type": "markdown",
   "metadata": {},
   "source": [
    "We can now see that the logistic regression (default) and perceptron (shadow) models are running"
   ]
  },
  {
   "cell_type": "code",
   "execution_count": 140,
   "metadata": {},
   "outputs": [
    {
     "name": "stdout",
     "output_type": "stream",
     "text": [
      "multiclass-perf-default-0-classifier-77d74bd8f7-nn8n9   0/2     Running   0          3s\r\n",
      "multiclass-perf-default-0-classifier-ff47b85dc-sgmvz    2/2     Running   0          5m58s\r\n",
      "multiclass-perf-shadow-0-classifier-7f4646bc4-xwmkc     0/2     Running   0          3s\r\n"
     ]
    }
   ],
   "source": [
    "!kubectl get pods -n seldon | grep multiclass"
   ]
  },
  {
   "cell_type": "markdown",
   "metadata": {},
   "source": [
    "We now just need to send some data. We can send the data one by one to simulate live data.\n",
    "\n",
    "We will be able to see the data as it's computed in the dashboard"
   ]
  },
  {
   "cell_type": "code",
   "execution_count": 142,
   "metadata": {},
   "outputs": [],
   "source": [
    "import requests\n",
    "from sklearn import datasets\n",
    "import random\n",
    "\n",
    "url = \"http://localhost:80/seldon/seldon/multiclass-perf/api/v1.0\"\n",
    "\n",
    "for i in range(2):\n",
    "    for x_i, y_i in zip(X_test, y_test):\n",
    "        data = {\"reward\": 0, \"request\": {\"data\": {\"ndarray\": [x_i.tolist()]}}, \"truth\":{\"data\": {\"ndarray\": [[y_i.tolist()]]}}}\n",
    "        requests.post(f\"{url}/feedback\", json=data)\n",
    "        time.sleep(0.1)"
   ]
  },
  {
   "cell_type": "markdown",
   "metadata": {},
   "source": [
    "We can now see in real time the performance of both models in regards to accuracy.\n",
    "\n",
    "We can see that our perceptron model is performing better than our logistic regression model.\n",
    "\n",
    "In this case we would be able to programmatically promote the 2nd model model without loss of performance.\n",
    "\n",
    "Both models are performing badly in this case to show some noise but this can be tweaked by increasing the training size earlier in the example.\n",
    "\n",
    "![](img/comparison-multiclass.jpg)"
   ]
  },
  {
   "cell_type": "markdown",
   "metadata": {},
   "source": [
    "As a side note, the current idea as extension is:\n",
    "* Out of the box, all models will come with basic statistical metrics (accuracy, precision, recall), without even implementing the feedback function, as long as you send the feedback with the statMetrics info (that's something I have still to specifically define, but it would be of similar structure to the Score  class in the multiclass example)\n",
    "* Feature to override the feedback that is stored in the ELK database, which would just require returning the value from Feedback. This new Feedback message would also be the one that would be used for the model itself ot display the metrics\n",
    "* Feature to override and extend your own statistical metrics on the model, which basically owuld be exactly how I'm doing it in the example provided (or at least very similar)"
   ]
  },
  {
   "cell_type": "code",
   "execution_count": null,
   "metadata": {},
   "outputs": [],
   "source": []
  }
 ],
 "metadata": {
  "kernelspec": {
   "display_name": "Python 3",
   "language": "python",
   "name": "python3"
  },
  "language_info": {
   "codemirror_mode": {
    "name": "ipython",
    "version": 3
   },
   "file_extension": ".py",
   "mimetype": "text/x-python",
   "name": "python",
   "nbconvert_exporter": "python",
   "pygments_lexer": "ipython3",
   "version": "3.7.4"
  }
 },
 "nbformat": 4,
 "nbformat_minor": 2
}
