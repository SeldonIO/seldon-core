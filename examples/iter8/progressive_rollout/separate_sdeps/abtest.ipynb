{
 "cells": [
  {
   "cell_type": "markdown",
   "metadata": {},
   "source": [
    "# Progressive Rollouts using Two Seldon Deployments\n",
    "\n",
    "In this example we will AB Test two Iris models: an SKLearn model and an XGBOOST model.\n",
    "We will run a progressive rollout allowing Iter8 to control the traffic to the two Seldon Deployments and gradually move traffic to the best model."
   ]
  },
  {
   "cell_type": "markdown",
   "metadata": {},
   "source": [
    "## Install Depenendcies\n",
    "\n",
    "  * Istio\n",
    "  * Seldon Core\n",
    "  * Seldon Core Analytics\n",
    "  * Iter8\n",
    "  \n",
    " You can create a Kind cluster with all dependencies installed with [Ansible](https://www.ansible.com/) with:\n",
    "  \n",
    "  ```\n",
    "  pip install ansible openshift\n",
    "  ansible-galaxy collection install git+https://github.com/SeldonIO/ansible-k8s-collection.git,v0.1.0\n",
    "  ```\n",
    "  \n",
    "  Then from `example/iter8` folder run:\n",
    "  \n",
    "  ```\n",
    "  ansible-playbook playbooks/iter8.yml\n",
    "  ```"
   ]
  },
  {
   "cell_type": "markdown",
   "metadata": {},
   "source": [
    "## Create ABTest with Two Seldon Deployments"
   ]
  },
  {
   "cell_type": "code",
   "execution_count": 1,
   "metadata": {},
   "outputs": [
    {
     "name": "stdout",
     "output_type": "stream",
     "text": [
      "apiVersion: v1\r\n",
      "kind: Namespace\r\n",
      "metadata:\r\n",
      "    name: ns-baseline\r\n",
      "---\r\n",
      "apiVersion: machinelearning.seldon.io/v1\r\n",
      "kind: SeldonDeployment\r\n",
      "metadata:\r\n",
      "  name: iris\r\n",
      "  namespace: ns-baseline\r\n",
      "spec:\r\n",
      "  predictors:\r\n",
      "  - name: default\r\n",
      "    graph:\r\n",
      "      name: classifier\r\n",
      "      modelUri: gs://seldon-models/v1.11.0-dev/sklearn/iris\n",
      "      implementation: SKLEARN_SERVER\r\n"
     ]
    }
   ],
   "source": [
    "!cat baseline.yaml"
   ]
  },
  {
   "cell_type": "code",
   "execution_count": 2,
   "metadata": {},
   "outputs": [
    {
     "name": "stdout",
     "output_type": "stream",
     "text": [
      "namespace/ns-baseline created\n",
      "seldondeployment.machinelearning.seldon.io/iris created\n"
     ]
    }
   ],
   "source": [
    "!kubectl apply -f baseline.yaml"
   ]
  },
  {
   "cell_type": "code",
   "execution_count": 3,
   "metadata": {},
   "outputs": [
    {
     "name": "stdout",
     "output_type": "stream",
     "text": [
      "apiVersion: v1\r\n",
      "kind: Namespace\r\n",
      "metadata:\r\n",
      "    name: ns-candidate\r\n",
      "---\r\n",
      "apiVersion: machinelearning.seldon.io/v1\r\n",
      "kind: SeldonDeployment\r\n",
      "metadata:\r\n",
      "  name: iris\r\n",
      "  namespace: ns-candidate\r\n",
      "spec:\r\n",
      "  predictors:\r\n",
      "  - name: default\r\n",
      "    graph:\r\n",
      "      name: classifier\r\n",
      "      modelUri: gs://seldon-models/xgboost/iris\r\n",
      "      implementation: XGBOOST_SERVER\r\n",
      "\r\n"
     ]
    }
   ],
   "source": [
    "!cat candidate.yaml"
   ]
  },
  {
   "cell_type": "code",
   "execution_count": 4,
   "metadata": {},
   "outputs": [
    {
     "name": "stdout",
     "output_type": "stream",
     "text": [
      "namespace/ns-candidate created\r\n",
      "seldondeployment.machinelearning.seldon.io/iris created\r\n"
     ]
    }
   ],
   "source": [
    "!kubectl apply -f candidate.yaml"
   ]
  },
  {
   "cell_type": "code",
   "execution_count": 5,
   "metadata": {},
   "outputs": [
    {
     "name": "stdout",
     "output_type": "stream",
     "text": [
      "pod/iris-default-0-classifier-5dc67f64bf-brmss condition met\r\n"
     ]
    }
   ],
   "source": [
    "!kubectl wait --for condition=ready --timeout=600s pods --all -n ns-baseline"
   ]
  },
  {
   "cell_type": "code",
   "execution_count": 6,
   "metadata": {},
   "outputs": [
    {
     "name": "stdout",
     "output_type": "stream",
     "text": [
      "pod/iris-default-0-classifier-7fff869d67-g5qnh condition met\r\n"
     ]
    }
   ],
   "source": [
    "!kubectl wait --for condition=ready --timeout=600s pods --all -n ns-candidate"
   ]
  },
  {
   "cell_type": "markdown",
   "metadata": {},
   "source": [
    "## Create Virtual Service to Split Traffic"
   ]
  },
  {
   "cell_type": "code",
   "execution_count": 7,
   "metadata": {},
   "outputs": [
    {
     "name": "stdout",
     "output_type": "stream",
     "text": [
      "apiVersion: networking.istio.io/v1alpha3\r\n",
      "kind: VirtualService\r\n",
      "metadata:\r\n",
      "  name: routing-rule\r\n",
      "  namespace: default\r\n",
      "spec:\r\n",
      "  gateways:\r\n",
      "  - istio-system/seldon-gateway\r\n",
      "  hosts:\r\n",
      "  - iris.example.com\r\n",
      "  http:\r\n",
      "  - route:\r\n",
      "    - destination:\r\n",
      "        host: iris-default.ns-baseline.svc.cluster.local\r\n",
      "        port:\r\n",
      "          number: 8000\r\n",
      "      headers:\r\n",
      "        response:\r\n",
      "          set:\r\n",
      "            version: iris-v1\r\n",
      "      weight: 100\r\n",
      "    - destination:\r\n",
      "        host: iris-default.ns-candidate.svc.cluster.local\r\n",
      "        port:\r\n",
      "          number: 8000\r\n",
      "      headers:\r\n",
      "        response:\r\n",
      "          set:\r\n",
      "            version: iris-v2\r\n",
      "      weight: 0\r\n"
     ]
    }
   ],
   "source": [
    "!cat routing-rule.yaml"
   ]
  },
  {
   "cell_type": "code",
   "execution_count": 8,
   "metadata": {},
   "outputs": [
    {
     "name": "stdout",
     "output_type": "stream",
     "text": [
      "virtualservice.networking.istio.io/routing-rule created\r\n"
     ]
    }
   ],
   "source": [
    "!kubectl apply -f routing-rule.yaml"
   ]
  },
  {
   "cell_type": "markdown",
   "metadata": {},
   "source": [
    "## Create some load on models.\n",
    "\n",
    "We will send reqeusts which will be split by the Seldon AB Test as well as random feedback to both models with feedback favouring the candidate"
   ]
  },
  {
   "cell_type": "code",
   "execution_count": 9,
   "metadata": {},
   "outputs": [
    {
     "name": "stdout",
     "output_type": "stream",
     "text": [
      "---\r\n",
      "apiVersion: batch/v1\r\n",
      "kind: Job\r\n",
      "metadata:\r\n",
      "  name: fortio-requests\r\n",
      "  namespace: default\r\n",
      "spec:\r\n",
      "  template:\r\n",
      "    spec:\r\n",
      "      volumes:\r\n",
      "      - name: shared\r\n",
      "        emptyDir: {}    \r\n",
      "      containers:\r\n",
      "      - name: fortio\r\n",
      "        image: fortio/fortio\r\n",
      "        command: [ 'fortio', 'load', '-t', '6000s', '-qps', \"5\", '-json', '/shared/fortiooutput.json', '-H', 'Host: iris.example.com', '-H', 'Content-Type: application/json', '-payload', '{\"data\": {\"ndarray\":[[6.8,2.8,4.8,1.4]]}}',  \"$(URL)\" ]\r\n",
      "        env:\r\n",
      "        - name: URL\r\n",
      "          value: URL_VALUE/api/v1.0/predictions\r\n",
      "        volumeMounts:\r\n",
      "        - name: shared\r\n",
      "          mountPath: /shared         \r\n",
      "      - name: busybox\r\n",
      "        image: busybox:1.28\r\n",
      "        command: ['sh', '-c', 'echo busybox is running! && sleep 6000']          \r\n",
      "        volumeMounts:\r\n",
      "        - name: shared\r\n",
      "          mountPath: /shared       \r\n",
      "      restartPolicy: Never\r\n",
      "---\r\n",
      "apiVersion: batch/v1\r\n",
      "kind: Job\r\n",
      "metadata:\r\n",
      "  name: fortio-irisv1-rewards\r\n",
      "  namespace: default\r\n",
      "spec:\r\n",
      "  template:\r\n",
      "    spec:\r\n",
      "      volumes:\r\n",
      "      - name: shared\r\n",
      "        emptyDir: {}    \r\n",
      "      containers:\r\n",
      "      - name: fortio\r\n",
      "        image: fortio/fortio\r\n",
      "        command: [ 'fortio', 'load', '-t', '6000s', '-qps', \"0.7\", '-json', '/shared/fortiooutput.json', '-H', 'Content-Type: application/json', '-payload', '{\"reward\": 1}',  \"$(URL)\" ]\r\n",
      "        env:\r\n",
      "        - name: URL\r\n",
      "          value: URL_VALUE/seldon/ns-baseline/iris/api/v1.0/feedback\r\n",
      "        volumeMounts:\r\n",
      "        - name: shared\r\n",
      "          mountPath: /shared         \r\n",
      "      - name: busybox\r\n",
      "        image: busybox:1.28\r\n",
      "        command: ['sh', '-c', 'echo busybox is running! && sleep 6000']          \r\n",
      "        volumeMounts:\r\n",
      "        - name: shared\r\n",
      "          mountPath: /shared       \r\n",
      "      restartPolicy: Never\r\n",
      "---\r\n",
      "apiVersion: batch/v1\r\n",
      "kind: Job\r\n",
      "metadata:\r\n",
      "  name: fortio-irisv2-rewards\r\n",
      "  namespace: default\r\n",
      "spec:\r\n",
      "  template:\r\n",
      "    spec:\r\n",
      "      volumes:\r\n",
      "      - name: shared\r\n",
      "        emptyDir: {}    \r\n",
      "      containers:\r\n",
      "      - name: fortio\r\n",
      "        image: fortio/fortio\r\n",
      "        command: [ 'fortio', 'load', '-t', '6000s', '-qps', \"1\", '-json', '/shared/fortiooutput.json', '-H', 'Content-Type: application/json', '-payload', '{\"reward\": 1}',  \"$(URL)\" ]\r\n",
      "        env:\r\n",
      "        - name: URL\r\n",
      "          value: URL_VALUE/seldon/ns-candidate/iris/api/v1.0/feedback\r\n",
      "        volumeMounts:\r\n",
      "        - name: shared\r\n",
      "          mountPath: /shared         \r\n",
      "      - name: busybox\r\n",
      "        image: busybox:1.28\r\n",
      "        command: ['sh', '-c', 'echo busybox is running! && sleep 6000']          \r\n",
      "        volumeMounts:\r\n",
      "        - name: shared\r\n",
      "          mountPath: /shared       \r\n",
      "      restartPolicy: Never\r\n"
     ]
    }
   ],
   "source": [
    "!cat fortio.yaml"
   ]
  },
  {
   "cell_type": "code",
   "execution_count": 10,
   "metadata": {},
   "outputs": [
    {
     "name": "stdout",
     "output_type": "stream",
     "text": [
      "job.batch/fortio-requests created\n",
      "job.batch/fortio-irisv1-rewards created\n",
      "job.batch/fortio-irisv2-rewards created\n"
     ]
    }
   ],
   "source": [
    "!URL_VALUE=\"http://$(kubectl -n istio-system get svc istio-ingressgateway -o jsonpath='{.spec.clusterIP}')\" && \\\n",
    "  sed \"s+URL_VALUE+${URL_VALUE}+g\" fortio.yaml | kubectl apply -f -"
   ]
  },
  {
   "cell_type": "code",
   "execution_count": 11,
   "metadata": {},
   "outputs": [
    {
     "name": "stdout",
     "output_type": "stream",
     "text": [
      "pod/fortio-irisv1-rewards-t5drl condition met\n",
      "pod/fortio-irisv2-rewards-rb9k8 condition met\n",
      "pod/fortio-requests-fkp95 condition met\n"
     ]
    }
   ],
   "source": [
    "!kubectl wait --for condition=ready --timeout=600s pods --all -n default"
   ]
  },
  {
   "cell_type": "markdown",
   "metadata": {},
   "source": [
    "## Create Metrics to evaluate \n",
    "\n",
    "These are a standard set of metrics we use in all examples."
   ]
  },
  {
   "cell_type": "code",
   "execution_count": 12,
   "metadata": {},
   "outputs": [
    {
     "name": "stdout",
     "output_type": "stream",
     "text": [
      "apiVersion: v1\r\n",
      "kind: Namespace\r\n",
      "metadata:\r\n",
      "  name: iter8-seldon\r\n",
      "---\r\n",
      "apiVersion: iter8.tools/v2alpha2\r\n",
      "kind: Metric\r\n",
      "metadata:\r\n",
      "  name: 95th-percentile-tail-latency\r\n",
      "  namespace: iter8-seldon\r\n",
      "spec:\r\n",
      "  description: 95th percentile tail latency\r\n",
      "  jqExpression: .data.result[0].value[1] | tonumber\r\n",
      "  params:\r\n",
      "  - name: query\r\n",
      "    value: |\r\n",
      "      histogram_quantile(0.95, sum(rate(seldon_api_executor_client_requests_seconds_bucket{seldon_deployment_id='$sid',predictor_name='$predictor',kubernetes_namespace='$ns'}[${elapsedTime}s])) by (le))\r\n",
      "  provider: prometheus\r\n",
      "  sampleSize: iter8-seldon/request-count\r\n",
      "  type: Gauge\r\n",
      "  units: milliseconds\r\n",
      "  urlTemplate: http://seldon-core-analytics-prometheus-seldon.seldon-system/api/v1/query\r\n",
      "---\r\n",
      "apiVersion: iter8.tools/v2alpha2\r\n",
      "kind: Metric\r\n",
      "metadata:\r\n",
      "  name: error-count\r\n",
      "  namespace: iter8-seldon\r\n",
      "spec:\r\n",
      "  description: Number of error responses\r\n",
      "  jqExpression: .data.result[0].value[1] | tonumber\r\n",
      "  params:\r\n",
      "  - name: query\r\n",
      "    value: |\r\n",
      "      sum(increase(seldon_api_executor_server_requests_seconds_count{code!='200',seldon_deployment_id='$sid',predictor_name='$predictor',kubernetes_namespace='$ns'}[${elapsedTime}s])) or on() vector(0)\r\n",
      "  provider: prometheus\r\n",
      "  type: Counter\r\n",
      "  urlTemplate: http://seldon-core-analytics-prometheus-seldon.seldon-system/api/v1/query  \r\n",
      "---\r\n",
      "apiVersion: iter8.tools/v2alpha2\r\n",
      "kind: Metric\r\n",
      "metadata:\r\n",
      "  name: error-rate\r\n",
      "  namespace: iter8-seldon\r\n",
      "spec:\r\n",
      "  description: Fraction of requests with error responses\r\n",
      "  jqExpression: .data.result[0].value[1] | tonumber\r\n",
      "  params:\r\n",
      "  - name: query\r\n",
      "    value: |\r\n",
      "      (sum(increase(seldon_api_executor_server_requests_seconds_count{code!='200',seldon_deployment_id='$sid',predictor_name='$predictor',kubernetes_namespace='$ns'}[${elapsedTime}s])) or on() vector(0)) / (sum(increase(seldon_api_executor_server_requests_seconds_count{seldon_deployment_id='$sid',predictor_name='$predictor',kubernetes_namespace='$ns'}[${elapsedTime}s])) or on() vector(0))\r\n",
      "  provider: prometheus\r\n",
      "  sampleSize: iter8-seldon/request-count\r\n",
      "  type: Gauge\r\n",
      "  urlTemplate: http://seldon-core-analytics-prometheus-seldon.seldon-system/api/v1/query    \r\n",
      "---\r\n",
      "apiVersion: iter8.tools/v2alpha2\r\n",
      "kind: Metric\r\n",
      "metadata:\r\n",
      "  name: mean-latency\r\n",
      "  namespace: iter8-seldon\r\n",
      "spec:\r\n",
      "  description: Mean latency\r\n",
      "  jqExpression: .data.result[0].value[1] | tonumber\r\n",
      "  params:\r\n",
      "  - name: query\r\n",
      "    value: |\r\n",
      "      (sum(increase(seldon_api_executor_client_requests_seconds_sum{seldon_deployment_id='$sid',predictor_name='$predictor',kubernetes_namespace='$ns'}[${elapsedTime}s])) or on() vector(0)) / (sum(increase(seldon_api_executor_client_requests_seconds_count{seldon_deployment_id='$sid',predictor_name='$predictor',kubernetes_namespace='$ns'}[${elapsedTime}s])) or on() vector(0))\r\n",
      "  provider: prometheus\r\n",
      "  sampleSize: iter8-seldon/request-count\r\n",
      "  type: Gauge\r\n",
      "  units: milliseconds\r\n",
      "  urlTemplate: http://seldon-core-analytics-prometheus-seldon.seldon-system/api/v1/query      \r\n",
      "---\r\n",
      "apiVersion: iter8.tools/v2alpha2\r\n",
      "kind: Metric\r\n",
      "metadata:\r\n",
      "  name: request-count\r\n",
      "  namespace: iter8-seldon\r\n",
      "spec:\r\n",
      "  description: Number of requests\r\n",
      "  jqExpression: .data.result[0].value[1] | tonumber\r\n",
      "  params:\r\n",
      "  - name: query\r\n",
      "    value: |\r\n",
      "      sum(increase(seldon_api_executor_client_requests_seconds_sum{seldon_deployment_id='$sid',predictor_name='$predictor',kubernetes_namespace='$ns'}[${elapsedTime}s])) or on() vector(0)\r\n",
      "  provider: prometheus\r\n",
      "  type: Counter\r\n",
      "  urlTemplate: http://seldon-core-analytics-prometheus-seldon.seldon-system/api/v1/query\r\n",
      "---\r\n",
      "apiVersion: iter8.tools/v2alpha2\r\n",
      "kind: Metric\r\n",
      "metadata:\r\n",
      "  name: user-engagement\r\n",
      "  namespace: iter8-seldon\r\n",
      "spec:\r\n",
      "  description: Number of feedback requests\r\n",
      "  jqExpression: .data.result[0].value[1] | tonumber\r\n",
      "  params:\r\n",
      "  - name: query\r\n",
      "    value: |\r\n",
      "      sum(increase(seldon_api_executor_server_requests_seconds_count{service='feedback',seldon_deployment_id='$sid',predictor_name='$predictor',kubernetes_namespace='$ns'}[${elapsedTime}s])) or on() vector(0)\r\n",
      "  provider: prometheus\r\n",
      "  type: Gauge\r\n",
      "  urlTemplate: http://seldon-core-analytics-prometheus-seldon.seldon-system/api/v1/query\r\n"
     ]
    }
   ],
   "source": [
    "!cat ../../metrics.yaml"
   ]
  },
  {
   "cell_type": "code",
   "execution_count": 13,
   "metadata": {},
   "outputs": [
    {
     "name": "stdout",
     "output_type": "stream",
     "text": [
      "namespace/iter8-seldon created\r\n",
      "metric.iter8.tools/95th-percentile-tail-latency created\r\n",
      "metric.iter8.tools/error-count created\r\n",
      "metric.iter8.tools/error-rate created\r\n",
      "metric.iter8.tools/mean-latency created\r\n",
      "metric.iter8.tools/request-count created\r\n",
      "metric.iter8.tools/user-engagement created\r\n"
     ]
    }
   ],
   "source": [
    "!kubectl create -f ../../metrics.yaml"
   ]
  },
  {
   "cell_type": "code",
   "execution_count": 14,
   "metadata": {},
   "outputs": [
    {
     "name": "stdout",
     "output_type": "stream",
     "text": [
      "NAME                           TYPE      DESCRIPTION\r\n",
      "95th-percentile-tail-latency   Gauge     95th percentile tail latency\r\n",
      "error-count                    Counter   Number of error responses\r\n",
      "error-rate                     Gauge     Fraction of requests with error responses\r\n",
      "mean-latency                   Gauge     Mean latency\r\n",
      "request-count                  Counter   Number of requests\r\n",
      "user-engagement                Gauge     Number of feedback requests\r\n"
     ]
    }
   ],
   "source": [
    "!kubectl get metrics -n iter8-seldon"
   ]
  },
  {
   "cell_type": "markdown",
   "metadata": {},
   "source": [
    "## Create Progressive Rollout Experiment\n",
    "\n",
    "  * Run 15 iterations with 5 second gaps between default and candidate models\n",
    "  * Both models must pass objectives\n",
    "  * winnder will be chosen based on user engagement metric"
   ]
  },
  {
   "cell_type": "code",
   "execution_count": 15,
   "metadata": {},
   "outputs": [
    {
     "name": "stdout",
     "output_type": "stream",
     "text": [
      "apiVersion: iter8.tools/v2alpha2\r\n",
      "kind: Experiment\r\n",
      "metadata:\r\n",
      "  name: quickstart-exp\r\n",
      "spec:\r\n",
      "  target: iris\r\n",
      "  strategy:\r\n",
      "    testingPattern: A/B\r\n",
      "    deploymentPattern: Progressive\r\n",
      "    actions:\r\n",
      "      # when the experiment completes, promote the winning version using kubectl apply\r\n",
      "      finish:\r\n",
      "      - task: common/exec\r\n",
      "        with:\r\n",
      "          cmd: /bin/bash\r\n",
      "          args: [ \"-c\", \"kubectl apply -f {{ .promote }}\" ]\r\n",
      "  criteria:\r\n",
      "    requestCount: iter8-seldon/request-count\r\n",
      "    rewards: # Business rewards\r\n",
      "    - metric: iter8-seldon/user-engagement\r\n",
      "      preferredDirection: High # maximize user engagement\r\n",
      "    objectives:\r\n",
      "    - metric: iter8-seldon/mean-latency\r\n",
      "      upperLimit: 2000\r\n",
      "    - metric: iter8-seldon/95th-percentile-tail-latency\r\n",
      "      upperLimit: 5000\r\n",
      "    - metric: iter8-seldon/error-rate\r\n",
      "      upperLimit: \"0.01\"\r\n",
      "  duration:\r\n",
      "    intervalSeconds: 10\r\n",
      "    iterationsPerLoop: 10\r\n",
      "  versionInfo:\r\n",
      "    # information about model versions used in this experiment\r\n",
      "    baseline:\r\n",
      "      name: iris-v1\r\n",
      "      weightObjRef:\r\n",
      "        apiVersion: networking.istio.io/v1alpha3\r\n",
      "        kind: VirtualService\r\n",
      "        name: routing-rule\r\n",
      "        namespace: default\r\n",
      "        fieldPath: .spec.http[0].route[0].weight      \r\n",
      "      variables:\r\n",
      "      - name: ns\r\n",
      "        value: ns-baseline\r\n",
      "      - name: sid\r\n",
      "        value: iris\r\n",
      "      - name: predictor\r\n",
      "        value: default\r\n",
      "      - name: promote\r\n",
      "        value: https://raw.githubusercontent.com/iter8-tools/iter8/master/samples/seldon/quickstart/promote-v1.yaml\r\n",
      "    candidates:\r\n",
      "    - name: iris-v2\r\n",
      "      weightObjRef:\r\n",
      "        apiVersion: networking.istio.io/v1alpha3\r\n",
      "        kind: VirtualService\r\n",
      "        name: routing-rule\r\n",
      "        namespace: default\r\n",
      "        fieldPath: .spec.http[0].route[1].weight      \r\n",
      "      variables:\r\n",
      "      - name: ns\r\n",
      "        value: ns-candidate\r\n",
      "      - name: sid\r\n",
      "        value: iris\r\n",
      "      - name: predictor\r\n",
      "        value: default\r\n",
      "      - name: promote\r\n",
      "        value: https://raw.githubusercontent.com/iter8-tools/iter8/master/samples/seldon/quickstart/promote-v2.yaml\r\n"
     ]
    }
   ],
   "source": [
    "!cat experiment.yaml"
   ]
  },
  {
   "cell_type": "code",
   "execution_count": 16,
   "metadata": {},
   "outputs": [
    {
     "name": "stdout",
     "output_type": "stream",
     "text": [
      "experiment.iter8.tools/quickstart-exp created\r\n"
     ]
    }
   ],
   "source": [
    "!kubectl create -f experiment.yaml"
   ]
  },
  {
   "cell_type": "markdown",
   "metadata": {},
   "source": [
    "## Monitor Experiment\n",
    "\n",
    "Download iter8ctl. \n",
    "\n",
    "```\n",
    "GO111MODULE=on GOBIN=/usr/local/bin go get github.com/iter8-tools/iter8ctl@v0.1.3\n",
    "```\n",
    "\n",
    "Then:\n",
    "\n",
    "```\n",
    "while clear; do kubectl get experiment quickstart-exp -o yaml | iter8ctl describe -f -; sleep 8; done\n",
    "```\n",
    "\n",
    "By the end you should see the xgboost candidate model is promoted."
   ]
  },
  {
   "cell_type": "code",
   "execution_count": 17,
   "metadata": {},
   "outputs": [
    {
     "name": "stdout",
     "output_type": "stream",
     "text": [
      "experiment.iter8.tools/quickstart-exp condition met\r\n"
     ]
    }
   ],
   "source": [
    "!kubectl wait experiment quickstart-exp --for=condition=Completed --timeout=300s"
   ]
  },
  {
   "cell_type": "code",
   "execution_count": 18,
   "metadata": {},
   "outputs": [
    {
     "name": "stdout",
     "output_type": "stream",
     "text": [
      "NAME             TYPE   TARGET   STAGE       COMPLETED ITERATIONS   MESSAGE\r\n",
      "quickstart-exp   A/B    iris     Completed   10                     ExperimentCompleted: Experiment Completed\r\n"
     ]
    }
   ],
   "source": [
    "!kubectl get experiment quickstart-exp"
   ]
  },
  {
   "cell_type": "markdown",
   "metadata": {},
   "source": [
    "## Cleanup"
   ]
  },
  {
   "cell_type": "code",
   "execution_count": 19,
   "metadata": {},
   "outputs": [
    {
     "name": "stdout",
     "output_type": "stream",
     "text": [
      "job.batch \"fortio-requests\" deleted\n",
      "job.batch \"fortio-irisv1-rewards\" deleted\n",
      "job.batch \"fortio-irisv2-rewards\" deleted\n",
      "experiment.iter8.tools \"quickstart-exp\" deleted\n",
      "namespace \"iter8-seldon\" deleted\n",
      "metric.iter8.tools \"95th-percentile-tail-latency\" deleted\n",
      "metric.iter8.tools \"error-count\" deleted\n",
      "metric.iter8.tools \"error-rate\" deleted\n",
      "metric.iter8.tools \"mean-latency\" deleted\n",
      "metric.iter8.tools \"request-count\" deleted\n",
      "metric.iter8.tools \"user-engagement\" deleted\n",
      "virtualservice.networking.istio.io \"routing-rule\" deleted\n",
      "namespace \"ns-baseline\" deleted\n",
      "seldondeployment.machinelearning.seldon.io \"iris\" deleted\n",
      "namespace \"ns-candidate\" deleted\n",
      "seldondeployment.machinelearning.seldon.io \"iris\" deleted\n"
     ]
    }
   ],
   "source": [
    "!kubectl delete -f fortio.yaml\n",
    "!kubectl delete -f experiment.yaml\n",
    "!kubectl delete -f ../../metrics.yaml\n",
    "!kubectl delete -f routing-rule.yaml\n",
    "!kubectl delete -f baseline.yaml\n",
    "!kubectl delete -f candidate.yaml"
   ]
  },
  {
   "cell_type": "code",
   "execution_count": null,
   "metadata": {},
   "outputs": [],
   "source": []
  }
 ],
 "metadata": {
  "kernelspec": {
   "display_name": "Python 3",
   "language": "python",
   "name": "python3"
  },
  "language_info": {
   "codemirror_mode": {
    "name": "ipython",
    "version": 3
   },
   "file_extension": ".py",
   "mimetype": "text/x-python",
   "name": "python",
   "nbconvert_exporter": "python",
   "pygments_lexer": "ipython3",
   "version": "3.6.8"
  }
 },
 "nbformat": 4,
 "nbformat_minor": 2
}
