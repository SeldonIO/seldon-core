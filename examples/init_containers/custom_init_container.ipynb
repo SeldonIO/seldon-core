{
 "cells": [
  {
   "cell_type": "markdown",
   "metadata": {},
   "source": [
    "# Custom Init Containers with rclone and MinIO\n",
    "\n",
    "In this tutorial we will deep dive into some of the interals of how Storage Initilizers are used by Prepackaged Model Servers.\n",
    "\n",
    "We will also write a custom Init Container that will use `rclone` to download model artifacts from the `in-cluster` MinIO storage.\n",
    "\n",
    "\n",
    "## Prerequisites\n",
    "\n",
    " * A kubernetes cluster with kubectl configured\n",
    " * curl\n",
    "\n",
    "## Setup Seldon Core\n",
    "\n",
    "Use the setup notebook to [Setup Cluster](https://docs.seldon.io/projects/seldon-core/en/latest/examples/seldon_core_setup.html#Setup-Cluster) with [Ambassador Ingress](https://docs.seldon.io/projects/seldon-core/en/latest/examples/seldon_core_setup.html#Ambassador) and [Install Seldon Core](https://docs.seldon.io/projects/seldon-core/en/latest/examples/seldon_core_setup.html#Install-Seldon-Core). Instructions [also online](https://docs.seldon.io/projects/seldon-core/en/latest/examples/seldon_core_setup.html).\n",
    "\n",
    "## Setup MinIO\n",
    "\n",
    "Use the provided [notebook](https://docs.seldon.io/projects/seldon-core/en/latest/examples/minio_setup.html) to install Minio in your cluster and configure `mc` CLI tool. \n",
    "Instructions [also online](https://docs.seldon.io/projects/seldon-core/en/latest/examples/minio_setup.html)."
   ]
  },
  {
   "cell_type": "markdown",
   "metadata": {},
   "source": [
    "## Copy iris model into local MinIO"
   ]
  },
  {
   "cell_type": "code",
   "execution_count": 1,
   "metadata": {},
   "outputs": [
    {
     "name": "stdout",
     "output_type": "stream",
     "text": [
      "Added `gcs` successfully.\n",
      "Bucket created successfully `minio-seldon/iris`.\n",
      "`gcs/seldon-models/sklearn/iris/model.joblib` -> `minio-seldon/iris/model.joblib`\n",
      "Total: 0 B, Transferred: 1.06 KiB, Speed: 10.35 KiB/s\n",
      "`gcs/seldon-models/sklearn/iris/metadata.yaml` -> `minio-seldon/iris/metadata.yaml`\n",
      "Total: 0 B, Transferred: 162 B, Speed: 1.35 KiB/s\n"
     ]
    }
   ],
   "source": [
    "%%bash\n",
    "mc config host add gcs https://storage.googleapis.com \"\" \"\" \n",
    "\n",
    "mc mb minio-seldon/iris -p\n",
    "mc cp gcs/seldon-models/sklearn/iris/model.joblib minio-seldon/iris/\n",
    "mc cp gcs/seldon-models/sklearn/iris/metadata.yaml minio-seldon/iris/"
   ]
  },
  {
   "cell_type": "code",
   "execution_count": 2,
   "metadata": {},
   "outputs": [
    {
     "name": "stdout",
     "output_type": "stream",
     "text": [
      "[2021-02-09 18:11:17 GMT]    162B metadata.yaml\n",
      "[2021-02-09 18:11:16 GMT]  1.1KiB model.joblib\n"
     ]
    }
   ],
   "source": [
    "%%bash\n",
    "mc ls minio-seldon/iris/"
   ]
  },
  {
   "cell_type": "markdown",
   "metadata": {},
   "source": [
    "## Init Containers Deep Dive"
   ]
  },
  {
   "cell_type": "markdown",
   "metadata": {},
   "source": [
    "Usually, when using in example SKLearn Prepackaged Model server one defines Seldon Deployment as follows\n",
    "```yaml\n",
    "apiVersion: machinelearning.seldon.io/v1\n",
    "kind: SeldonDeployment\n",
    "metadata:\n",
    "  name: sklearn-default-init-container\n",
    "spec:\n",
    "  name: iris\n",
    "  predictors:\n",
    "  - graph:\n",
    "      implementation: SKLEARN_SERVER\n",
    "      modelUri: gs://seldon-models/v1.11.0-dev/sklearn/iris\n",
    "      envSecretRefName: seldon-init-container-secret      \n",
    "      name: classifier\n",
    "    name: default\n",
    "    replicas: 1\n",
    "```\n",
    "\n",
    "This uses the default storage initilizer defined in the helm values, e.g.:\n",
    "```yaml\n",
    "storageInitializer:\n",
    "  image: gcr.io/kfserving/storage-initializer:v0.4.0\n",
    "```\n",
    "\n",
    "There are few things that effectively happens here:\n",
    "- `emptyDir: {}` volume is created and mounted into the model `classifier` and init containers `classifier-storage-initializer`\n",
    "- the `seldon-init-container-secret` secrets are exposed inside the init container via environmental variables\n",
    "- init container is called with two arguments: source `seldon-init-container-secret` and destination `/mnt/models` of artifacts to download\n",
    "\n",
    "This is well illustrated by the following effective resource definition:\n",
    "```yaml\n",
    "apiVersion: machinelearning.seldon.io/v1\n",
    "kind: SeldonDeployment\n",
    "metadata:\n",
    "  name: custom-init-container\n",
    "spec:\n",
    "  name: iris\n",
    "  predictors:\n",
    "  - componentSpecs:\n",
    "    - spec:\n",
    "        containers:\n",
    "        - name: classifier\n",
    "          volumeMounts:\n",
    "          - mountPath: /mnt/models\n",
    "            name: classifier-provision-location\n",
    "            readOnly: true\n",
    "\n",
    "        initContainers:\n",
    "        - name: classifier-model-initializer\n",
    "          image: gcr.io/kfserving/storage-initializer:v0.4.0\n",
    "          imagePullPolicy: IfNotPresent\n",
    "          args:\n",
    "          - gs://seldon-models/v1.11.0-dev/sklearn/iris\n",
    "          - /mnt/models\n",
    "\n",
    "          envFrom:\n",
    "          - secretRef:\n",
    "              name: seldon-init-container-secret\n",
    "\n",
    "          terminationMessagePath: /dev/termination-log\n",
    "          terminationMessagePolicy: File\n",
    "\n",
    "          volumeMounts:\n",
    "          - mountPath: /mnt/models\n",
    "            name: classifier-provision-location\n",
    "\n",
    "        volumes:\n",
    "        - emptyDir: {}\n",
    "          name: classifier-provision-location\n",
    "\n",
    "    graph:\n",
    "      children: []\n",
    "      implementation: SKLEARN_SERVER\n",
    "      modelUri: gs://seldon-models/v1.11.0-dev/sklearn/iris\n",
    "      name: classifier\n",
    "    name: default\n",
    "    replicas: 1\n",
    "```\n",
    "\n",
    "**Note**:: \n",
    "- init container name is constructed from the `${predictiveUnitContainerName}-model-initializer` pattern. \n",
    "- If the init container is provided explicitly with name matching the pattern SC won't create one automatically."
   ]
  },
  {
   "cell_type": "markdown",
   "metadata": {},
   "source": [
    "## Custom Init Container (full inline definition)\n",
    "\n",
    "We will now define an init container that will use `rclone/rclone:latest` image with a very explicit definition.\n",
    "\n",
    "**Note**: currently if init container of a matching name is provided manually it will be used as it is."
   ]
  },
  {
   "cell_type": "code",
   "execution_count": 3,
   "metadata": {},
   "outputs": [
    {
     "name": "stdout",
     "output_type": "stream",
     "text": [
      "Overwriting explicit-init-definition.yaml\n"
     ]
    }
   ],
   "source": [
    "%%writefile explicit-init-definition.yaml\n",
    "apiVersion: v1\n",
    "kind: Secret\n",
    "metadata:\n",
    "  name: mysecret\n",
    "type: Opaque\n",
    "stringData:\n",
    "  rclone.conf: |\n",
    "    [cluster-minio]\n",
    "    type = s3\n",
    "    provider = minio\n",
    "    env_auth = false\n",
    "    access_key_id = minioadmin\n",
    "    secret_access_key = minioadmin\n",
    "    endpoint = http://minio.minio-system.svc.cluster.local:9000\n",
    "\n",
    "\n",
    "---\n",
    "\n",
    "apiVersion: machinelearning.seldon.io/v1\n",
    "kind: SeldonDeployment\n",
    "metadata:\n",
    "  name: explicit-init-definition\n",
    "spec:\n",
    "  name: iris\n",
    "  predictors:\n",
    "  - componentSpecs:\n",
    "    - spec:\n",
    "        containers:\n",
    "        - name: classifier\n",
    "          volumeMounts:\n",
    "          - mountPath: /mnt/models\n",
    "            name: classifier-provision-location\n",
    "            readOnly: true\n",
    "\n",
    "        initContainers:\n",
    "        - name: classifier-model-initializer\n",
    "          image: rclone/rclone:latest\n",
    "          imagePullPolicy: IfNotPresent\n",
    "\n",
    "          args:\n",
    "            - \"copy\"\n",
    "            - \"cluster-minio:sklearn/iris\"\n",
    "            - \"/mnt/models\"\n",
    "\n",
    "          volumeMounts:\n",
    "          - mountPath: /mnt/models\n",
    "            name: classifier-provision-location\n",
    "\n",
    "          - name: config\n",
    "            mountPath: \"/config/rclone\"\n",
    "            readOnly: true\n",
    "\n",
    "        volumes:\n",
    "        - name: classifier-provision-location\n",
    "          emptyDir: {}\n",
    "\n",
    "        - name: config\n",
    "          secret:\n",
    "            secretName: mysecret\n",
    "\n",
    "    graph:\n",
    "      implementation: SKLEARN_SERVER\n",
    "      modelUri: \"dummy value\"\n",
    "      name: classifier\n",
    "    name: default\n",
    "    replicas: 1"
   ]
  },
  {
   "cell_type": "code",
   "execution_count": 4,
   "metadata": {},
   "outputs": [
    {
     "name": "stdout",
     "output_type": "stream",
     "text": [
      "secret/mysecret created\n",
      "seldondeployment.machinelearning.seldon.io/explicit-init-definition created\n"
     ]
    }
   ],
   "source": [
    "!kubectl apply -f explicit-init-definition.yaml"
   ]
  },
  {
   "cell_type": "code",
   "execution_count": 5,
   "metadata": {},
   "outputs": [
    {
     "name": "stdout",
     "output_type": "stream",
     "text": [
      "Waiting for deployment \"explicit-init-definition-default-0-classifier\" rollout to finish: 0 of 1 updated replicas are available...\n",
      "deployment \"explicit-init-definition-default-0-classifier\" successfully rolled out\n"
     ]
    }
   ],
   "source": [
    "!kubectl rollout status deploy/$(kubectl get deploy -l seldon-deployment-id=explicit-init-definition -o jsonpath='{.items[0].metadata.name}')"
   ]
  },
  {
   "cell_type": "code",
   "execution_count": 6,
   "metadata": {},
   "outputs": [
    {
     "name": "stdout",
     "output_type": "stream",
     "text": [
      "{\n",
      "  \"data\": {\n",
      "    \"names\": [\n",
      "      \"t:0\",\n",
      "      \"t:1\",\n",
      "      \"t:2\"\n",
      "    ],\n",
      "    \"ndarray\": [\n",
      "      [\n",
      "        0.9548873249364169,\n",
      "        0.04505474761561406,\n",
      "        5.7927447968952436e-05\n",
      "      ]\n",
      "    ]\n",
      "  },\n",
      "  \"meta\": {\n",
      "    \"requestPath\": {\n",
      "      \"classifier\": \"seldonio/sklearnserver:1.6.0-dev\"\n",
      "    }\n",
      "  }\n",
      "}\n"
     ]
    }
   ],
   "source": [
    "%%bash\n",
    "curl -s -X POST -H 'Content-Type: application/json' \\\n",
    "    -d '{\"data\":{\"ndarray\":[[5.964, 4.006, 2.081, 1.031]]}}' \\\n",
    "    http://localhost:8003/seldon/seldon/explicit-init-definition/api/v1.0/predictions  | jq ."
   ]
  },
  {
   "cell_type": "markdown",
   "metadata": {},
   "source": [
    "## Custom Init Container (the right way)\n",
    "\n",
    "It is also possible to prepare a custom init container image to:\n",
    "- use it on an individual deployment\n",
    "- set as a new default \n",
    "\n",
    "For this purpose we need to build a docker image which entrypoint will accept two arguments:\n",
    "- source\n",
    "- destination\n",
    "\n",
    "Because copying artifacts with `rclone` between two location is done with\n",
    "```\n",
    "rclone copy source destination\n",
    "```\n",
    "we prepare following Dockerfile"
   ]
  },
  {
   "cell_type": "code",
   "execution_count": 7,
   "metadata": {},
   "outputs": [
    {
     "name": "stdout",
     "output_type": "stream",
     "text": [
      "Overwriting Dockerfile\n"
     ]
    }
   ],
   "source": [
    "%%writefile Dockerfile\n",
    "FROM rclone/rclone:latest\n",
    "ENTRYPOINT [\"rclone\", \"copy\"]"
   ]
  },
  {
   "cell_type": "markdown",
   "metadata": {},
   "source": [
    "This image example is build and published as `seldonio/rclone-init-container-example`.\n",
    "\n",
    "`rclone` tool can be configured using both `rclone.conf` config file (as above) and environmental variables.\n",
    "Note the remote name `mys3` in the name of environmental variables defined in the following secret:"
   ]
  },
  {
   "cell_type": "code",
   "execution_count": 8,
   "metadata": {},
   "outputs": [
    {
     "name": "stdout",
     "output_type": "stream",
     "text": [
      "Overwriting seldon-reclone-secret.yaml\n"
     ]
    }
   ],
   "source": [
    "%%writefile seldon-reclone-secret.yaml\n",
    "\n",
    "apiVersion: v1\n",
    "kind: Secret\n",
    "metadata:\n",
    "  name: seldon-rclone-secret\n",
    "type: Opaque\n",
    "stringData:\n",
    "  RCLONE_CONFIG_MYS3_TYPE: s3\n",
    "  RCLONE_CONFIG_MYS3_PROVIDER: minio\n",
    "  RCLONE_CONFIG_MYS3_ENV_AUTH: \"false\"\n",
    "  RCLONE_CONFIG_MYS3_ACCESS_KEY_ID: minioadmin\n",
    "  RCLONE_CONFIG_MYS3_SECRET_ACCESS_KEY: minioadmin\n",
    "  RCLONE_CONFIG_MYS3_ENDPOINT: http://minio.minio-system.svc.cluster.local:9000"
   ]
  },
  {
   "cell_type": "code",
   "execution_count": 9,
   "metadata": {},
   "outputs": [
    {
     "name": "stdout",
     "output_type": "stream",
     "text": [
      "secret/seldon-rclone-secret configured\n"
     ]
    }
   ],
   "source": [
    "!kubectl apply -f seldon-reclone-secret.yaml"
   ]
  },
  {
   "cell_type": "markdown",
   "metadata": {},
   "source": [
    "With above defined we can easily define our sklear server using `modelUri: mys3:sklearn/iris`:"
   ]
  },
  {
   "cell_type": "code",
   "execution_count": 10,
   "metadata": {},
   "outputs": [
    {
     "name": "stdout",
     "output_type": "stream",
     "text": [
      "Overwriting rclone-default-init.yaml\n"
     ]
    }
   ],
   "source": [
    "%%writefile rclone-default-init.yaml\n",
    "\n",
    "apiVersion: machinelearning.seldon.io/v1\n",
    "kind: SeldonDeployment\n",
    "metadata:\n",
    "  name: rclone-as-default-init-container\n",
    "spec:\n",
    "  name: iris\n",
    "  predictors:\n",
    "  - name: default\n",
    "    replicas: 1\n",
    "    graph:\n",
    "      name: classifier\n",
    "      implementation: SKLEARN_SERVER\n",
    "      modelUri: mys3:sklearn/iris\n",
    "      storageInitializerImage: seldonio/rclone-init-container-example:0.1\n",
    "      envSecretRefName: seldon-rclone-secret    "
   ]
  },
  {
   "cell_type": "code",
   "execution_count": 11,
   "metadata": {},
   "outputs": [
    {
     "name": "stdout",
     "output_type": "stream",
     "text": [
      "seldondeployment.machinelearning.seldon.io/rclone-as-default-init-container created\n"
     ]
    }
   ],
   "source": [
    "!kubectl apply -f rclone-default-init.yaml"
   ]
  },
  {
   "cell_type": "code",
   "execution_count": 12,
   "metadata": {},
   "outputs": [
    {
     "name": "stdout",
     "output_type": "stream",
     "text": [
      "Waiting for deployment \"rclone-as-default-init-container-default-0-classifier\" rollout to finish: 0 of 1 updated replicas are available...\n",
      "deployment \"rclone-as-default-init-container-default-0-classifier\" successfully rolled out\n"
     ]
    }
   ],
   "source": [
    "!kubectl rollout status deploy/$(kubectl get deploy -l seldon-deployment-id=rclone-as-default-init-container -o jsonpath='{.items[0].metadata.name}')"
   ]
  },
  {
   "cell_type": "code",
   "execution_count": 13,
   "metadata": {},
   "outputs": [
    {
     "name": "stdout",
     "output_type": "stream",
     "text": [
      "{\n",
      "  \"data\": {\n",
      "    \"names\": [\n",
      "      \"t:0\",\n",
      "      \"t:1\",\n",
      "      \"t:2\"\n",
      "    ],\n",
      "    \"ndarray\": [\n",
      "      [\n",
      "        0.9548873249364169,\n",
      "        0.04505474761561406,\n",
      "        5.7927447968952436e-05\n",
      "      ]\n",
      "    ]\n",
      "  },\n",
      "  \"meta\": {\n",
      "    \"requestPath\": {\n",
      "      \"classifier\": \"seldonio/sklearnserver:1.6.0-dev\"\n",
      "    }\n",
      "  }\n",
      "}\n"
     ]
    }
   ],
   "source": [
    "%%bash\n",
    "curl -s -X POST -H 'Content-Type: application/json' \\\n",
    "    -d '{\"data\":{\"ndarray\":[[5.964, 4.006, 2.081, 1.031]]}}' \\\n",
    "    http://localhost:8003/seldon/seldon/rclone-as-default-init-container/api/v1.0/predictions  | jq ."
   ]
  },
  {
   "cell_type": "markdown",
   "metadata": {},
   "source": [
    "### Set new default storage initializer\n",
    "\n",
    "To user our newly created init container as default we need to configure `Seldon Core` installations by setting following helm values:\n",
    "```yaml\n",
    "storageInitializer:\n",
    "  image: seldonio/rclone-init-container-example:0.1\n",
    "\n",
    "predictiveUnit:\n",
    "  defaultEnvSecretRefName: seldon-rclone-secret\n",
    "```"
   ]
  },
  {
   "cell_type": "markdown",
   "metadata": {},
   "source": [
    "# Cleanup"
   ]
  },
  {
   "cell_type": "code",
   "execution_count": 14,
   "metadata": {},
   "outputs": [
    {
     "name": "stdout",
     "output_type": "stream",
     "text": [
      "secret \"mysecret\" deleted\n",
      "seldondeployment.machinelearning.seldon.io \"explicit-init-definition\" deleted\n",
      "seldondeployment.machinelearning.seldon.io \"rclone-as-default-init-container\" deleted\n"
     ]
    }
   ],
   "source": [
    "%%bash\n",
    "kubectl delete -f explicit-init-definition.yaml\n",
    "kubectl delete -f rclone-default-init.yaml"
   ]
  }
 ],
 "metadata": {
  "kernelspec": {
   "display_name": "Python 3",
   "language": "python",
   "name": "python3"
  },
  "language_info": {
   "codemirror_mode": {
    "name": "ipython",
    "version": 3
   },
   "file_extension": ".py",
   "mimetype": "text/x-python",
   "name": "python",
   "nbconvert_exporter": "python",
   "pygments_lexer": "ipython3",
   "version": "3.7.10"
  }
 },
 "nbformat": 4,
 "nbformat_minor": 4
}
