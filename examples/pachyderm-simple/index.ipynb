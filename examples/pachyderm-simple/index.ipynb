{
  "cells": [
    {
      "cell_type": "markdown",
      "metadata": {},
      "source": [
        "# Pachyderm-Seldon Integration: Version Controlled Models\n",
        "\n",
        "[Pachyderm](https://pachyderm.io/) is a data science platform that combines Data Lineage with End-to-End Pipelines. [Seldon-Core](https://www.seldon.io/tech/products/core/) is an open-source platform for rapidly deploying machine learning models.\n",
        "\n",
        "This notebook will show you how to perform data-driven model training using Pachyderm and deploy that model using Seldon-Core. This represents the simplest integration between Pachyderm and Seldon.\n",
        "\n",
        "### Highlights\n",
        "\n",
        "The highlight in this example is the use of Pachyderm's S3 gateway, where version controlled pachyderm repositories are exposed via an S3-like API. This means that Seldon-Core's pre-packaged model servers, which typically read from blob storage, can read directly from Pachyderm.\n",
        "\n",
        "This implements the machine learning best practice of provenance. You can trace the model artifact's lineage right back to the version of the data that it was trained on, without making any changes to your usual way of working.\n",
        "\n",
        "![overview image](./images/pachyderm-simple-demo.png)\n",
        "\n",
        "## Prerequisites\n",
        "\n",
        " * A kubernetes cluster with kubectl configured\n",
        " * [A seldon-core cluster installed and configured](https://docs.seldon.io/projects/seldon-core/en/latest/examples/seldon_core_setup.html)\n",
        " * `curl`\n",
        " * Pachyderm's `pachctl` binary installed following the [official documentation](https://docs.pachyderm.com/2.3.x/getting-started/install-pachctl-completion/)\n",
        "\n",
        "Pachyderm is controlled and deployed via the `pachctl`. This document assumes that you have version `1.11.8` installed, although it should work with any `1.x.x` version."
      ]
    },
    {
      "cell_type": "code",
      "execution_count": 1,
      "metadata": {},
      "outputs": [
        {
          "name": "stdout",
          "output_type": "stream",
          "text": [
            "1.11.9\n",
            "NAMESPACE            NAME                                           READY   STATUS    RESTARTS   AGE\n",
            "istio-system         istio-ingressgateway-56c9c8cd47-v5tjv          1/1     Running   0          116s\n",
            "istio-system         istiod-759c7859d5-g5nnn                        1/1     Running   0          2m19s\n",
            "kube-system          coredns-6955765f44-4rfs6                       1/1     Running   0          3m39s\n",
            "kube-system          coredns-6955765f44-gsggt                       1/1     Running   0          3m39s\n",
            "kube-system          etcd-seldon-control-plane                      1/1     Running   0          3m32s\n",
            "kube-system          kindnet-g8ptw                                  1/1     Running   0          3m39s\n",
            "kube-system          kube-apiserver-seldon-control-plane            1/1     Running   0          3m32s\n",
            "kube-system          kube-controller-manager-seldon-control-plane   1/1     Running   0          3m32s\n",
            "kube-system          kube-proxy-7lgg5                               1/1     Running   0          3m39s\n",
            "kube-system          kube-scheduler-seldon-control-plane            1/1     Running   0          3m32s\n",
            "local-path-storage   local-path-provisioner-58f6947c7-pfvth         1/1     Running   0          3m39s\n",
            "seldon-system        seldon-controller-manager-b9fd77c6f-pmdc2      1/1     Running   0          88s\n"
          ]
        }
      ],
      "source": [
        "!pachctl version --client-only\n",
        "!kubectl get po -A"
      ]
    },
    {
      "cell_type": "markdown",
      "metadata": {},
      "source": [
        "## 1. Installing Pachyderm\n",
        "\n",
        "Use `pachctl` to deploy Pachyderm to your cluster. In the command below I disable the pachyderm dashboard because it is not used in this example and I intentionally disable sharing of the docker socket to reduce the chance that rogue containers can access my system."
      ]
    },
    {
      "cell_type": "code",
      "execution_count": 2,
      "metadata": {},
      "outputs": [
        {
          "name": "stdout",
          "output_type": "stream",
          "text": [
            "namespace/pachyderm created\n",
            "serviceaccount/pachyderm created\n",
            "serviceaccount/pachyderm-worker created\n",
            "clusterrole.rbac.authorization.k8s.io/pachyderm created\n",
            "clusterrolebinding.rbac.authorization.k8s.io/pachyderm created\n",
            "role.rbac.authorization.k8s.io/pachyderm-worker created\n",
            "rolebinding.rbac.authorization.k8s.io/pachyderm-worker created\n",
            "deployment.apps/etcd created\n",
            "service/etcd created\n",
            "service/pachd created\n",
            "service/pachd-peer created\n",
            "deployment.apps/pachd created\n",
            "secret/pachyderm-storage-secret created\n",
            "\n",
            "Pachyderm is launching. Check its status with \"kubectl get all\"\n",
            "\n"
          ]
        }
      ],
      "source": [
        "!kubectl create ns pachyderm\n",
        "!pachctl deploy local --no-expose-docker-socket --no-dashboard --namespace pachyderm"
      ]
    },
    {
      "cell_type": "code",
      "execution_count": 3,
      "metadata": {},
      "outputs": [
        {
          "name": "stdout",
          "output_type": "stream",
          "text": [
            "Waiting for deployment \"pachd\" rollout to finish: 0 of 1 updated replicas are available...\n",
            "deployment \"pachd\" successfully rolled out\n"
          ]
        }
      ],
      "source": [
        "!kubectl rollout status deployment -n pachyderm pachd"
      ]
    },
    {
      "cell_type": "markdown",
      "metadata": {},
      "source": [
        "## 2. Add the Training Data\n",
        "\n",
        "> Note: If you are using a non-standard Pachyderm namespace, you will need to run `pachctl port-forward` in a separate terminal\n",
        "\n",
        "Before we train a model, I will first create a new Pachyderm repository to version control the data, then commit the training data to that repository. You should be able to see `iris.csv` in the `master` branch of the repository `training`."
      ]
    },
    {
      "cell_type": "code",
      "execution_count": 4,
      "metadata": {},
      "outputs": [],
      "source": [
        "!pachctl create repo training"
      ]
    },
    {
      "cell_type": "code",
      "execution_count": 5,
      "metadata": {},
      "outputs": [
        {
          "name": "stdout",
          "output_type": "stream",
          "text": [
            "iris.csv: 4.44 KiB / 4.44 KiB [===============================] 100.00% ? p/s 0s\n"
          ]
        }
      ],
      "source": [
        "!cd data && pachctl put file training@master -f iris.csv"
      ]
    },
    {
      "cell_type": "code",
      "execution_count": 6,
      "metadata": {},
      "outputs": [
        {
          "name": "stdout",
          "output_type": "stream",
          "text": [
            "NAME     CREATED            SIZE (MASTER) DESCRIPTION \n",
            "training About a minute ago 4.443KiB                  \n"
          ]
        }
      ],
      "source": [
        "!pachctl list repo"
      ]
    },
    {
      "cell_type": "code",
      "execution_count": 7,
      "metadata": {},
      "outputs": [
        {
          "name": "stdout",
          "output_type": "stream",
          "text": [
            "NAME      TYPE SIZE     \n",
            "/iris.csv file 4.443KiB \n"
          ]
        }
      ],
      "source": [
        "!pachctl list file training@master"
      ]
    },
    {
      "cell_type": "markdown",
      "metadata": {},
      "source": [
        "## 3. Train the Model Using a Pachyderm Pipeline\n",
        "\n",
        "Pachyderm Pipelines are the computational component of the Pachyderm platform. They are responsible for reading data from a specified source, such as a Pachyderm repo, transforming it according to the pipeline configuration, and writing the result to an output repo. Pachyderm pipelines can be easily chained together to create a directed acyclic graph (DAG).\n",
        "\n",
        "I define a simple pipeline that is inspired by a [similar Pachyderm example](https://github.com/pachyderm/pachyderm/tree/master/examples/ml/iris). It accepts training data, trains a logistic classifier, and returns a pickled model in joblib format.\n",
        "\n",
        "This uses a container built from the [iris-train-python-svm](https://github.com/SeldonIO/seldon-core/tree/master/examples/pachyderm-simple/iris-train-python-svm) directory to perform the training, but you could use your own. The input is defined to be the `training` Pachyderm repository and the output will be stored in a repository with the same name as the pipeline (`model`). Remember to push the container to somewhere that the cluster can acccess. For example, you can use the `make kind_load` target in the [Makefile](https://github.com/SeldonIO/seldon-core/blob/master/examples/pachyderm-simple/iris-train-python-svm/Makefile) to push the container to a `kind` cluster."
      ]
    },
    {
      "cell_type": "code",
      "execution_count": 8,
      "metadata": {},
      "outputs": [
        {
          "name": "stdout",
          "output_type": "stream",
          "text": [
            "Overwriting train.json\n"
          ]
        }
      ],
      "source": [
        "%%writefile train.json\n",
        "{\n",
        "  \"pipeline\": {\n",
        "    \"name\": \"model\"\n",
        "  },\n",
        "  \"description\": \"A pipeline that trains a SVM model based on the data in the `data` directory by using a Python script.\",\n",
        "  \"transform\": {\n",
        "    \"image\": \"seldonio/pachyderm-iris-trainer:1.0.0\",\n",
        "    \"cmd\": [\n",
        "      \"python3\",\n",
        "      \"/code/pytrain.py\",\n",
        "      \"/pfs/training/\",\n",
        "      \"/pfs/out/\"\n",
        "    ]\n",
        "  },\n",
        "  \"parallelism_spec\": {\n",
        "    \"constant\": \"1\"\n",
        "  },\n",
        "  \"input\": {\n",
        "    \"pfs\": {\n",
        "      \"repo\": \"training\",\n",
        "      \"glob\": \"/\"\n",
        "    }\n",
        "  }\n",
        "}"
      ]
    },
    {
      "cell_type": "code",
      "execution_count": 9,
      "metadata": {},
      "outputs": [],
      "source": [
        "!pachctl create pipeline -f train.json"
      ]
    },
    {
      "cell_type": "code",
      "execution_count": 10,
      "metadata": {},
      "outputs": [
        {
          "name": "stdout",
          "output_type": "stream",
          "text": [
            "NAME  VERSION INPUT      CREATED      STATE / LAST JOB    DESCRIPTION                                                                                            \n",
            "model 1       training:/ 1 second ago \u001b[33mstarting\u001b[0m / \u001b[33mstarting\u001b[0m A pipeline that trains a SVM model based on the data in the `data` directory by using a Python script. \n"
          ]
        }
      ],
      "source": [
        "!pachctl list pipeline"
      ]
    },
    {
      "cell_type": "markdown",
      "metadata": {},
      "source": [
        "## 4. Verify Pipeline Success\n",
        "\n",
        "It may take a while for the job to start the first time, as Kubernetes pulls the container. But eventually you should see that the job completes and a new file is committed to the `master` branch of the `model` repository."
      ]
    },
    {
      "cell_type": "code",
      "execution_count": 12,
      "metadata": {},
      "outputs": [
        {
          "name": "stdout",
          "output_type": "stream",
          "text": [
            "ID                               PIPELINE STARTED            DURATION RESTART PROGRESS  DL       UL       STATE   \n",
            "4315d70acf4d4497ba9d3581a731c8d5 model    About a minute ago 1 second 0       1 + 0 / 1 4.443KiB 1.193KiB \u001b[32msuccess\u001b[0m \n"
          ]
        }
      ],
      "source": [
        "!pachctl list job"
      ]
    },
    {
      "cell_type": "code",
      "execution_count": 13,
      "metadata": {},
      "outputs": [
        {
          "name": "stdout",
          "output_type": "stream",
          "text": [
            "NAME          TYPE SIZE     \n",
            "/model.joblib file 1.193KiB \n"
          ]
        }
      ],
      "source": [
        "!pachctl list file model@master"
      ]
    },
    {
      "cell_type": "markdown",
      "metadata": {},
      "source": [
        "## 5. Deploy Seldon-Core Powered Sklearn Server\n",
        "\n",
        "Now that you have a model artefact, you can use Pachyderm's S3 gateway feature to directly load the version controlled model into a Seldon-Core deployment.\n",
        "\n",
        "The key is to create a container secret that points to the pachyderm cluster on the right port. If you have installed Pachyderm by following this tutorial, then it will have installed with no credentials. In this case the corresponding access key and secret are not used (but must be set). The endpoint URL is pointing to the in-cluster FQDN of the pachyderm service on port `600`.\n",
        "\n",
        "Next you can deploy your sklearn-based Seldon Deployment in the usual mannor, using the following format for the S3 bucket: `s3://${branch}.${repository}/${directory}`. Since our model is written to the root of the directory, the final s3 `modelUri` is `s3://master.model`. "
      ]
    },
    {
      "cell_type": "code",
      "execution_count": 16,
      "metadata": {},
      "outputs": [
        {
          "name": "stdout",
          "output_type": "stream",
          "text": [
            "Overwriting secret.yaml\n"
          ]
        }
      ],
      "source": [
        "%%writefile secret.yaml\n",
        "\n",
        "apiVersion: v1\n",
        "kind: Secret\n",
        "metadata:\n",
        "  name: seldon-init-container-secret\n",
        "type: Opaque\n",
        "stringData:\n",
        "  AWS_ACCESS_KEY_ID: noauth\n",
        "  AWS_SECRET_ACCESS_KEY: noauth\n",
        "  AWS_ENDPOINT_URL: http://pachd.pachyderm.svc.cluster.local:600\n",
        "  USE_SSL: \"false\""
      ]
    },
    {
      "cell_type": "code",
      "execution_count": 17,
      "metadata": {},
      "outputs": [
        {
          "name": "stdout",
          "output_type": "stream",
          "text": [
            "secret/seldon-init-container-secret configured\n"
          ]
        }
      ],
      "source": [
        "!kubectl -n seldon apply -f secret.yaml"
      ]
    },
    {
      "cell_type": "code",
      "execution_count": 20,
      "metadata": {},
      "outputs": [
        {
          "name": "stdout",
          "output_type": "stream",
          "text": [
            "Overwriting deploy.yaml\n"
          ]
        }
      ],
      "source": [
        "%%writefile deploy.yaml\n",
        "\n",
        "apiVersion: machinelearning.seldon.io/v1\n",
        "kind: SeldonDeployment\n",
        "metadata:\n",
        "  name: pachyderm-sklearn\n",
        "spec:\n",
        "  name: iris\n",
        "  predictors:\n",
        "  - componentSpecs:\n",
        "    graph:\n",
        "      children: []\n",
        "      implementation: SKLEARN_SERVER\n",
        "      modelUri: s3://master.model\n",
        "      envSecretRefName: seldon-init-container-secret\n",
        "      name: classifier\n",
        "    name: default\n",
        "    replicas: 1"
      ]
    },
    {
      "cell_type": "code",
      "execution_count": 21,
      "metadata": {},
      "outputs": [
        {
          "name": "stdout",
          "output_type": "stream",
          "text": [
            "seldondeployment.machinelearning.seldon.io/pachyderm-sklearn configured\n"
          ]
        }
      ],
      "source": [
        "!kubectl -n seldon apply -f deploy.yaml"
      ]
    },
    {
      "cell_type": "code",
      "execution_count": 22,
      "metadata": {},
      "outputs": [
        {
          "name": "stdout",
          "output_type": "stream",
          "text": [
            "Waiting for deployment \"pachyderm-sklearn-default-0-classifier\" rollout to finish: 1 old replicas are pending termination...\n",
            "Waiting for deployment \"pachyderm-sklearn-default-0-classifier\" rollout to finish: 1 old replicas are pending termination...\n",
            "Waiting for deployment \"pachyderm-sklearn-default-0-classifier\" rollout to finish: 1 old replicas are pending termination...\n",
            "deployment \"pachyderm-sklearn-default-0-classifier\" successfully rolled out\n"
          ]
        }
      ],
      "source": [
        "!kubectl -n seldon rollout status deploy/$(kubectl get deploy -l seldon-deployment-id=pachyderm-sklearn -o jsonpath='{.items[0].metadata.name}')"
      ]
    },
    {
      "cell_type": "markdown",
      "metadata": {},
      "source": [
        "## 6. Test the Deployment\n",
        "\n",
        "Now that the deployment has completed, you can call the model predict endpoint via the port-forwarded ingress FDQN and the seldon-core API. The input matches the convension expected by the mdoel (set by the training data) and results in predicted class probabilities."
      ]
    },
    {
      "cell_type": "code",
      "execution_count": 28,
      "metadata": {},
      "outputs": [
        {
          "name": "stdout",
          "output_type": "stream",
          "text": [
            "{\n",
            "  \"data\": {\n",
            "    \"names\": [\n",
            "      \"t:0\",\n",
            "      \"t:1\",\n",
            "      \"t:2\"\n",
            "    ],\n",
            "    \"ndarray\": [\n",
            "      [\n",
            "        0.9550249833404882,\n",
            "        0.04491709964435876,\n",
            "        5.791701515296898e-05\n",
            "      ]\n",
            "    ]\n",
            "  },\n",
            "  \"meta\": {\n",
            "    \"requestPath\": {\n",
            "      \"classifier\": \"seldonio/sklearnserver:1.6.0-dev\"\n",
            "    }\n",
            "  }\n",
            "}\n"
          ]
        }
      ],
      "source": [
        "%%bash\n",
        "curl -s -X POST -H 'Content-Type: application/json' \\\n",
        "    -d '{\"data\":{\"ndarray\":[[5.964, 4.006, 2.081, 1.031]]}}' \\\n",
        "    http://localhost:8003/seldon/seldon/pachyderm-sklearn/api/v1.0/predictions  | jq ."
      ]
    },
    {
      "cell_type": "markdown",
      "metadata": {},
      "source": [
        "## 7. Bonus: Rebuilding the Model\n",
        "\n",
        "The beauty of having models version controlled is that when you change the data, you can automatically retrain the model.\n",
        "\n",
        "Below I'm overwriting the old training data with a slightly smaller version of the same. When I do this, the pipeline notices and automatically runs. That means that the model artifact is regenerated and place back in it's repo.\n",
        "\n",
        "At the end, all we need to do is restart the pod, to get Seldon-Core to reload model from it's S3 endpoint. You'll see in the final call of the predict endpoint that the result has changed, even though we're passing in the same input data. This is because the decision boundaries have changed slightly due to the different training data distribution.\n",
        "\n",
        "\n",
        "In another example I will show you how to automate this."
      ]
    },
    {
      "cell_type": "code",
      "execution_count": 29,
      "metadata": {},
      "outputs": [
        {
          "name": "stdout",
          "output_type": "stream",
          "text": [
            "iris_2.csv: 1.29 KiB / 1.29 KiB [=============================] 100.00% ? p/s 0s\n"
          ]
        }
      ],
      "source": [
        "!cd data && pachctl put file training@master:/iris.csv -f iris_2.csv"
      ]
    },
    {
      "cell_type": "code",
      "execution_count": 30,
      "metadata": {},
      "outputs": [
        {
          "name": "stdout",
          "output_type": "stream",
          "text": [
            "NAME      TYPE SIZE     \n",
            "/iris.csv file 5.729KiB \n"
          ]
        }
      ],
      "source": [
        "!pachctl list file training@master"
      ]
    },
    {
      "cell_type": "code",
      "execution_count": 31,
      "metadata": {},
      "outputs": [
        {
          "name": "stdout",
          "output_type": "stream",
          "text": [
            "ID                               PIPELINE STARTED       DURATION           RESTART PROGRESS  DL       UL       STATE   \n",
            "54168db975c2459cb5e537db4def3688 model    3 seconds ago Less than a second 0       1 + 0 / 1 5.729KiB 1.193KiB \u001b[32msuccess\u001b[0m \n",
            "4315d70acf4d4497ba9d3581a731c8d5 model    5 minutes ago 1 second           0       1 + 0 / 1 4.443KiB 1.193KiB \u001b[32msuccess\u001b[0m \n"
          ]
        }
      ],
      "source": [
        "!pachctl list job"
      ]
    },
    {
      "cell_type": "code",
      "execution_count": 32,
      "metadata": {},
      "outputs": [
        {
          "name": "stdout",
          "output_type": "stream",
          "text": [
            "seldondeployment.machinelearning.seldon.io \"pachyderm-sklearn\" deleted\n",
            "seldondeployment.machinelearning.seldon.io/pachyderm-sklearn created\n"
          ]
        }
      ],
      "source": [
        "!kubectl -n seldon delete -f deploy.yaml\n",
        "!kubectl -n seldon apply -f deploy.yaml"
      ]
    },
    {
      "cell_type": "code",
      "execution_count": 33,
      "metadata": {},
      "outputs": [
        {
          "name": "stdout",
          "output_type": "stream",
          "text": [
            "Waiting for deployment \"pachyderm-sklearn-default-0-classifier\" rollout to finish: 0 of 1 updated replicas are available...\n",
            "deployment \"pachyderm-sklearn-default-0-classifier\" successfully rolled out\n"
          ]
        }
      ],
      "source": [
        "!kubectl -n seldon rollout status deploy/$(kubectl get deploy -l seldon-deployment-id=pachyderm-sklearn -o jsonpath='{.items[0].metadata.name}')"
      ]
    },
    {
      "cell_type": "code",
      "execution_count": 34,
      "metadata": {},
      "outputs": [
        {
          "name": "stdout",
          "output_type": "stream",
          "text": [
            "{\n",
            "  \"data\": {\n",
            "    \"names\": [\n",
            "      \"t:0\",\n",
            "      \"t:1\",\n",
            "      \"t:2\"\n",
            "    ],\n",
            "    \"ndarray\": [\n",
            "      [\n",
            "        0.9622688698661227,\n",
            "        0.03771194327740441,\n",
            "        1.9186856472893013e-05\n",
            "      ]\n",
            "    ]\n",
            "  },\n",
            "  \"meta\": {\n",
            "    \"requestPath\": {\n",
            "      \"classifier\": \"seldonio/sklearnserver:1.6.0-dev\"\n",
            "    }\n",
            "  }\n",
            "}\n"
          ]
        }
      ],
      "source": [
        "%%bash\n",
        "curl -s -X POST -H 'Content-Type: application/json' \\\n",
        "    -d '{\"data\":{\"ndarray\":[[5.964, 4.006, 2.081, 1.031]]}}' \\\n",
        "    http://localhost:8003/seldon/seldon/pachyderm-sklearn/api/v1.0/predictions | jq ."
      ]
    },
    {
      "cell_type": "markdown",
      "metadata": {},
      "source": [
        "## Cleanup"
      ]
    },
    {
      "cell_type": "code",
      "execution_count": 35,
      "metadata": {},
      "outputs": [
        {
          "name": "stdout",
          "output_type": "stream",
          "text": [
            "seldondeployment.machinelearning.seldon.io \"pachyderm-sklearn\" deleted\n",
            "namespace \"pachyderm\" deleted\n"
          ]
        }
      ],
      "source": [
        "!kubectl -n seldon delete -f deploy.yaml\n",
        "!kubectl delete ns pachyderm"
      ]
    }
  ],
  "metadata": {
    "kernelspec": {
      "display_name": "Python 3",
      "language": "python",
      "name": "python3"
    },
    "language_info": {
      "codemirror_mode": {
        "name": "ipython",
        "version": 3
      },
      "file_extension": ".py",
      "mimetype": "text/x-python",
      "name": "python",
      "nbconvert_exporter": "python",
      "pygments_lexer": "ipython3",
      "version": "3.7.8"
    }
  },
  "nbformat": 4,
  "nbformat_minor": 4
}
