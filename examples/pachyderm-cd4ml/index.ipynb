{
 "cells": [
  {
   "cell_type": "markdown",
   "metadata": {},
   "source": [
    "# Pachyderm-Seldon Integration: Version Controlled Models\n",
    " \n",
    "> By Dr. Phil Winder, CEO of [Winder Research](https://WinderResearch.com)\n",
    "\n",
    "[Pachyderm](https://pachyderm.io/) is a data science platform that combines Data Lineage with End-to-End Pipelines. [Seldon-Core](https://www.seldon.io/tech/products/core/) is an open-source platform for rapidly deploying machine learning models.\n",
    "\n",
    "This notebook specialises in showing you how you can automate the provisioning of a Seldon deployment using Pachyderm pipelines when new training data enters a Pachyderm repository. Additionally, this example uses Pachyderm's S3 gateway feature to provide convenient access to version controlled model parameters.\n",
    "\n",
    "### Highlights\n",
    "\n",
    "In ML, provenance describes the ability to pinpoint all of the factors that contributed to a deployed model. People often talk about the provenance of the data, but what about the provenance of a model? Not only does model provenance provide the ability to do post-mortems on bad models, it is also an integral to GitOps, which provides repeatability, and resiliency.\n",
    "\n",
    "Similary, automation is the art of encoding a process to produce a deployed model. Without a process you can't have provenance, since several people will peform the task in several different ways. If you can automate the process then you can remove the human-induced variance entirelly and improve efficiency to boot.\n",
    "\n",
    "### Example Situation\n",
    "\n",
    "Imagine you work for an organization that uses the UK's retail services index (RSI), similar to the consumer prices index in the US, to help predict demand for your products. The RSI is often quoted as a proxy for consumer demand, so you could base your stock levels upon a future RSI prediction.\n",
    "\n",
    "But the RSI is a dynamic index. It is influenced by external events, like COVID-19, for example. Because of this you want to make sure that your model is up to date. One potential solution is scheduled retraining, but this is a poor proxy because it is not reactive. Scheduling is a poor-mans proxy because you end up retraining too much, which adds risk, or too little, where important changes to the model parameters are delayed.\n",
    "\n",
    "The solution then, if you pardon the buzz-word, is to become data-driven. When new data is available, it should kick-off a new training run. That should result in a model which is then automatically deployed. And ideally, all of this should be tracked and version controlled for provenance.\n",
    "\n",
    "I achieve this with two Pachyderm pipelines (on for training, one for deployment) and a simple custom Seldon deployment to serve the model. From an outsiders perspective, this is still a pure Seldon solution. But internally you will have full data-driven automation and provenance. This is depicted in the image below.\n",
    "\n",
    "![overview image](./images/pachyderm-cd4ml.png)\n",
    "\n",
    "## Prerequisites\n",
    "\n",
    "This is a follow-on example from the simpler Pachyderm demo. I recommend that you review that first before following this one.\n",
    "\n",
    " * A kubernetes cluster with kubectl configured\n",
    " * [A seldon-core cluster installed and configured](https://docs.seldon.io/projects/seldon-core/en/latest/examples/seldon_core_setup.html)\n",
    " * Pachyderm's `pachctl` binary installed following the [official documentation](https://docs.pachyderm.com/latest/getting_started/local_installation/#install-pachctl)\n",
    " * The ability to build docker images and push them to your cluster\n",
    "\n",
    "Pachyderm is controlled and deployed via the `pachctl`. This document assumes that you have version `1.11.8` installed, although it should work with any `1.x.x` version."
   ]
  },
  {
   "cell_type": "code",
   "execution_count": 1,
   "metadata": {},
   "outputs": [
    {
     "name": "stdout",
     "output_type": "stream",
     "text": [
      "1.11.8\n",
      "NAMESPACE            NAME                                          READY   STATUS    RESTARTS   AGE\n",
      "kube-system          coredns-f9fd979d6-5ddkn                       1/1     Running   0          7m53s\n",
      "kube-system          coredns-f9fd979d6-lbz46                       1/1     Running   0          7m53s\n",
      "kube-system          etcd-kind-control-plane                       1/1     Running   0          8m1s\n",
      "kube-system          kindnet-pfxnk                                 1/1     Running   0          7m53s\n",
      "kube-system          kube-apiserver-kind-control-plane             1/1     Running   0          8m1s\n",
      "kube-system          kube-controller-manager-kind-control-plane    1/1     Running   0          8m1s\n",
      "kube-system          kube-proxy-s5z84                              1/1     Running   0          7m53s\n",
      "kube-system          kube-scheduler-kind-control-plane             1/1     Running   0          8m1s\n",
      "kube-system          seldon-spartakus-volunteer-5b57b95596-7hjb5   1/1     Running   0          6m16s\n",
      "local-path-storage   local-path-provisioner-78776bfc44-pqfxt       1/1     Running   0          7m53s\n",
      "seldon-system        ambassador-dd7bd645d-dc5wd                    1/1     Running   0          5m30s\n",
      "seldon-system        seldon-controller-manager-7f5d7bbb75-47njm    1/1     Running   0          6m16s\n"
     ]
    }
   ],
   "source": [
    "!pachctl version --client-only\n",
    "!kubectl get po -A"
   ]
  },
  {
   "cell_type": "markdown",
   "metadata": {},
   "source": [
    "## 1. Install Pachyderm\n",
    "\n",
    "First install a Pachyderm cluster. This uses the standard `local` install method which creates a cluster using your current kubernetes context.\n",
    "\n",
    "The second step is to give all Pachyderm pielines permission to deploy the `SeldonDeployment` to the `seldon` namespace. If you alter the deployment you will need to check that you provide the correct permissions."
   ]
  },
  {
   "cell_type": "code",
   "execution_count": 2,
   "metadata": {},
   "outputs": [
    {
     "name": "stdout",
     "output_type": "stream",
     "text": [
      "namespace/pachyderm created\n",
      "serviceaccount/pachyderm created\n",
      "serviceaccount/pachyderm-worker created\n",
      "clusterrole.rbac.authorization.k8s.io/pachyderm created\n",
      "clusterrolebinding.rbac.authorization.k8s.io/pachyderm created\n",
      "role.rbac.authorization.k8s.io/pachyderm-worker created\n",
      "rolebinding.rbac.authorization.k8s.io/pachyderm-worker created\n",
      "deployment.apps/etcd created\n",
      "service/etcd created\n",
      "service/pachd created\n",
      "service/pachd-peer created\n",
      "deployment.apps/pachd created\n",
      "secret/pachyderm-storage-secret created\n",
      "\n",
      "Pachyderm is launching. Check its status with \"kubectl get all\"\n",
      "\n",
      "Waiting for deployment spec update to be observed...\n",
      "Waiting for deployment \"pachd\" rollout to finish: 0 of 1 updated replicas are available...\n",
      "deployment \"pachd\" successfully rolled out\n"
     ]
    }
   ],
   "source": [
    "!kubectl create ns pachyderm\n",
    "!pachctl deploy local --no-expose-docker-socket --no-dashboard --namespace pachyderm\n",
    "!kubectl rollout status deployment -n pachyderm pachd"
   ]
  },
  {
   "cell_type": "code",
   "execution_count": 91,
   "metadata": {},
   "outputs": [
    {
     "name": "stdout",
     "output_type": "stream",
     "text": [
      "Overwriting rbac.yaml\n"
     ]
    }
   ],
   "source": [
    "%%writefile rbac.yaml\n",
    "---\n",
    "kind: Role\n",
    "apiVersion: rbac.authorization.k8s.io/v1\n",
    "metadata:\n",
    "  namespace: seldon\n",
    "  name: allow-all\n",
    "rules:\n",
    "# To write the Pachyderm S3 gateway secret\n",
    "- apiGroups: [\"\", ]\n",
    "  resources: [\"secrets\"]\n",
    "  verbs: [\"*\"]\n",
    "# To create the Seldon deployment \n",
    "- apiGroups: [\"machinelearning.seldon.io\", ]\n",
    "  resources: [\"seldondeployments\"]\n",
    "  verbs: [\"*\"]\n",
    "# So Helm can do an upgrade\n",
    "- apiGroups: [\"\", ]\n",
    "  resources: [\"serviceaccounts\"]\n",
    "  verbs: [\"*\"]\n",
    "---\n",
    "apiVersion: rbac.authorization.k8s.io/v1\n",
    "kind: RoleBinding\n",
    "metadata:\n",
    "  name: pachyderm-deployer\n",
    "  namespace: seldon\n",
    "subjects:\n",
    "- kind: ServiceAccount\n",
    "  name: pachyderm-worker\n",
    "  namespace: pachyderm\n",
    "roleRef:\n",
    "  kind: Role\n",
    "  name: allow-all\n",
    "  apiGroup: rbac.authorization.k8s.io"
   ]
  },
  {
   "cell_type": "code",
   "execution_count": 92,
   "metadata": {},
   "outputs": [
    {
     "name": "stdout",
     "output_type": "stream",
     "text": [
      "role.rbac.authorization.k8s.io/allow-all configured\r\n",
      "rolebinding.rbac.authorization.k8s.io/pachyderm-deployer unchanged\r\n"
     ]
    }
   ],
   "source": [
    "!kubectl apply -f rbac.yaml"
   ]
  },
  {
   "cell_type": "markdown",
   "metadata": {},
   "source": [
    "## 2. Add Initial Training Data and Build the Necessary Containers\n",
    "\n",
    "> Note: If you are using a non-standard Pachyderm namespace, you will need to run `pachctl port-forward` in a separate terminal\n",
    "\n",
    "Below I create a training data repository and populate it with some initial RSI data. This data comes from the [UK's Office of National Statistics](https://www.ons.gov.uk/businessindustryandtrade/retailindustry/timeseries/j5c4/drsi). I have altered the original data by adding headers, removing quotes for floats, and organized into pre, mid, and post corona datasets for demonstration purposes.\n",
    "\n",
    "You'll have to wait a moment to see the data. I want to setup the automation so you can see it in action and first we need to create a data repo."
   ]
  },
  {
   "cell_type": "code",
   "execution_count": 93,
   "metadata": {},
   "outputs": [],
   "source": [
    "!pachctl create repo rsi_data"
   ]
  },
  {
   "cell_type": "code",
   "execution_count": 94,
   "metadata": {},
   "outputs": [
    {
     "name": "stdout",
     "output_type": "stream",
     "text": [
      "\r",
      "rsi_before.csv: 1.17 KiB / 1.17 KiB [=========================] 100.00% ? p/s 0s\r\n"
     ]
    }
   ],
   "source": [
    "!cd data && pachctl put file rsi_data@master:/rsi.csv -f rsi_before.csv"
   ]
  },
  {
   "cell_type": "code",
   "execution_count": 95,
   "metadata": {},
   "outputs": [
    {
     "name": "stdout",
     "output_type": "stream",
     "text": [
      "NAME     CREATED                SIZE (MASTER) DESCRIPTION \r\n",
      "rsi_data Less than a second ago 1.173KiB                  \r\n"
     ]
    }
   ],
   "source": [
    "!pachctl list repo"
   ]
  },
  {
   "cell_type": "code",
   "execution_count": 96,
   "metadata": {
    "scrolled": false
   },
   "outputs": [
    {
     "name": "stdout",
     "output_type": "stream",
     "text": [
      "NAME     TYPE SIZE     \r\n",
      "/rsi.csv file 1.173KiB \r\n"
     ]
    }
   ],
   "source": [
    "!pachctl list file rsi_data@master"
   ]
  },
  {
   "cell_type": "markdown",
   "metadata": {},
   "source": [
    "There are three containers used in this demo, one to train, one to deploy and the custom seldon deployment. You'll need to make sure that these containers are present in this cluster. I provide a script to upload to a local `kind` cluster but if you're using something else, you'll have to upload those containers yourself."
   ]
  },
  {
   "cell_type": "code",
   "execution_count": 9,
   "metadata": {},
   "outputs": [
    {
     "name": "stdout",
     "output_type": "stream",
     "text": [
      "make -C RSIServing build\n",
      "docker build . -t seldonio/pachyderm-rsi-server:0.1.0\n",
      "Sending build context to Docker daemon  7.168kB\n",
      "Step 1/6 : FROM python:3.8-slim\n",
      " ---> be5d294735c6\n",
      "Step 2/6 : RUN pip install pandas==1.1.4 statsmodels==0.12.1 seldon-core==1.5.0 joblib==1.0.0 minio==7.0.0\n",
      " ---> Running in 06fb3520d480\n",
      "Collecting joblib==1.0.0\n",
      "  Downloading joblib-1.0.0-py3-none-any.whl (302 kB)\n",
      "Collecting minio==7.0.0\n",
      "  Downloading minio-7.0.0-py3-none-any.whl (72 kB)\n",
      "Collecting pandas==1.1.4\n",
      "  Downloading pandas-1.1.4-cp38-cp38-manylinux1_x86_64.whl (9.3 MB)\n",
      "Collecting seldon-core==1.5.0\n",
      "  Downloading seldon_core-1.5.0-py3-none-any.whl (127 kB)\n",
      "Requirement already satisfied: setuptools>=41.0.0 in /usr/local/lib/python3.8/site-packages (from seldon-core==1.5.0) (51.1.2)\n",
      "Collecting statsmodels==0.12.1\n",
      "  Downloading statsmodels-0.12.1-cp38-cp38-manylinux1_x86_64.whl (9.5 MB)\n",
      "Collecting Flask<2.0.0\n",
      "  Downloading Flask-1.1.2-py2.py3-none-any.whl (94 kB)\n",
      "Collecting click>=5.1\n",
      "  Downloading click-7.1.2-py2.py3-none-any.whl (82 kB)\n",
      "Collecting Flask-cors<4.0.0\n",
      "  Downloading Flask_Cors-3.0.10-py2.py3-none-any.whl (14 kB)\n",
      "Collecting Flask-OpenTracing<1.2.0,>=1.1.0\n",
      "  Downloading Flask-OpenTracing-1.1.0.tar.gz (8.2 kB)\n",
      "Collecting flatbuffers<2.0.0\n",
      "  Downloading flatbuffers-1.12-py2.py3-none-any.whl (15 kB)\n",
      "Collecting grpcio<2.0.0\n",
      "  Downloading grpcio-1.34.1-cp38-cp38-manylinux2014_x86_64.whl (4.0 MB)\n",
      "Collecting grpcio-opentracing<1.2.0,>=1.1.4\n",
      "  Downloading grpcio_opentracing-1.1.4-py3-none-any.whl (14 kB)\n",
      "Collecting gunicorn<20.1.0,>=19.9.0\n",
      "  Downloading gunicorn-20.0.4-py2.py3-none-any.whl (77 kB)\n",
      "Collecting itsdangerous>=0.24\n",
      "  Downloading itsdangerous-1.1.0-py2.py3-none-any.whl (16 kB)\n",
      "Collecting jaeger-client<4.4.0,>=4.1.0\n",
      "  Downloading jaeger-client-4.3.0.tar.gz (81 kB)\n",
      "Collecting Jinja2>=2.10.1\n",
      "  Downloading Jinja2-2.11.2-py2.py3-none-any.whl (125 kB)\n",
      "Collecting jsonschema<4.0.0\n",
      "  Downloading jsonschema-3.2.0-py2.py3-none-any.whl (56 kB)\n",
      "Collecting attrs>=17.4.0\n",
      "  Downloading attrs-20.3.0-py2.py3-none-any.whl (49 kB)\n",
      "Collecting MarkupSafe>=0.23\n",
      "  Downloading MarkupSafe-1.1.1-cp38-cp38-manylinux1_x86_64.whl (32 kB)\n",
      "Collecting numpy>=1.15.4\n",
      "  Downloading numpy-1.19.5-cp38-cp38-manylinux2010_x86_64.whl (14.9 MB)\n",
      "Collecting opentracing<2.5.0,>=2.2.0\n",
      "  Downloading opentracing-2.4.0.tar.gz (46 kB)\n",
      "Collecting patsy>=0.5\n",
      "  Downloading patsy-0.5.1-py2.py3-none-any.whl (231 kB)\n",
      "Collecting prometheus-client<0.9.0,>=0.7.1\n",
      "  Downloading prometheus_client-0.8.0-py2.py3-none-any.whl (53 kB)\n",
      "Collecting protobuf<4.0.0\n",
      "  Downloading protobuf-3.14.0-cp38-cp38-manylinux1_x86_64.whl (1.0 MB)\n",
      "Collecting pyrsistent>=0.14.0\n",
      "  Downloading pyrsistent-0.17.3.tar.gz (106 kB)\n",
      "Collecting python-dateutil>=2.7.3\n",
      "  Downloading python_dateutil-2.8.1-py2.py3-none-any.whl (227 kB)\n",
      "Collecting pytz>=2017.2\n",
      "  Downloading pytz-2020.5-py2.py3-none-any.whl (510 kB)\n",
      "Collecting PyYAML<5.4\n",
      "  Downloading PyYAML-5.3.1.tar.gz (269 kB)\n",
      "Collecting redis<4.0.0\n",
      "  Downloading redis-3.5.3-py2.py3-none-any.whl (72 kB)\n",
      "Collecting requests<3.0.0\n",
      "  Downloading requests-2.25.1-py2.py3-none-any.whl (61 kB)\n",
      "Collecting certifi\n",
      "  Downloading certifi-2020.12.5-py2.py3-none-any.whl (147 kB)\n",
      "Collecting chardet<5,>=3.0.2\n",
      "  Downloading chardet-4.0.0-py2.py3-none-any.whl (178 kB)\n",
      "Collecting idna<3,>=2.5\n",
      "  Downloading idna-2.10-py2.py3-none-any.whl (58 kB)\n",
      "Collecting scipy>=1.1\n",
      "  Downloading scipy-1.6.0-cp38-cp38-manylinux1_x86_64.whl (27.2 MB)\n",
      "Collecting Six\n",
      "  Downloading six-1.15.0-py2.py3-none-any.whl (10 kB)\n",
      "Collecting threadloop<2,>=1\n",
      "  Downloading threadloop-1.0.2.tar.gz (4.9 kB)\n",
      "Collecting tornado>=4.3\n",
      "  Downloading tornado-6.1-cp38-cp38-manylinux2010_x86_64.whl (427 kB)\n",
      "Collecting urllib3\n",
      "  Downloading urllib3-1.26.2-py2.py3-none-any.whl (136 kB)\n",
      "Collecting Werkzeug>=0.15\n",
      "  Downloading Werkzeug-1.0.1-py2.py3-none-any.whl (298 kB)\n",
      "Collecting configparser\n",
      "  Downloading configparser-5.0.1-py3-none-any.whl (22 kB)\n",
      "Collecting thrift\n",
      "  Downloading thrift-0.13.0.tar.gz (59 kB)\n",
      "Building wheels for collected packages: Flask-OpenTracing, jaeger-client, opentracing, pyrsistent, PyYAML, threadloop, thrift\n",
      "  Building wheel for Flask-OpenTracing (setup.py): started\n",
      "  Building wheel for Flask-OpenTracing (setup.py): finished with status 'done'\n",
      "  Created wheel for Flask-OpenTracing: filename=Flask_OpenTracing-1.1.0-py3-none-any.whl size=9069 sha256=58f1bef06ac3b2e2da1e6b13ba7550d4fee548fc78c545add7b4d0b8c7cc76af\n",
      "  Stored in directory: /root/.cache/pip/wheels/f2/fc/27/9dd7ae47db91620be849e6479d5f3d44005a1304b70906d2b0\n",
      "  Building wheel for jaeger-client (setup.py): started\n",
      "  Building wheel for jaeger-client (setup.py): finished with status 'done'\n",
      "  Created wheel for jaeger-client: filename=jaeger_client-4.3.0-py3-none-any.whl size=64290 sha256=a418c03173771635ed891049b9ff622ae88633880a52c47f457150f9afd53625\n",
      "  Stored in directory: /root/.cache/pip/wheels/ef/67/cc/1e96fd3ac7a245e8115eb2fe99f57a01699127e0ee212e4e1d\n",
      "  Building wheel for opentracing (setup.py): started\n",
      "  Building wheel for opentracing (setup.py): finished with status 'done'\n",
      "  Created wheel for opentracing: filename=opentracing-2.4.0-py3-none-any.whl size=51399 sha256=dee02b559488e374b1c18a9e9c774c9b6a56756dc33d8a2b2621f8952f62e63e\n",
      "  Stored in directory: /root/.cache/pip/wheels/c7/d1/cc/de262a2bc00e9fdfe32334094183aa9a78a2458dca9212145c\n",
      "  Building wheel for pyrsistent (setup.py): started\n",
      "  Building wheel for pyrsistent (setup.py): finished with status 'done'\n",
      "  Created wheel for pyrsistent: filename=pyrsistent-0.17.3-cp38-cp38-linux_x86_64.whl size=55874 sha256=b4de6f536e26393441b90de1b954ff769ce033ef862f1faa7ed1c283e79d2368\n",
      "  Stored in directory: /root/.cache/pip/wheels/3d/22/08/7042eb6309c650c7b53615d5df5cc61f1ea9680e7edd3a08d2\n",
      "  Building wheel for PyYAML (setup.py): started\n",
      "  Building wheel for PyYAML (setup.py): finished with status 'done'\n",
      "  Created wheel for PyYAML: filename=PyYAML-5.3.1-cp38-cp38-linux_x86_64.whl size=44618 sha256=e8c3d384a3e11a62aa34a3d03227b96f29813b21acd0843c7bdb443aaa669da6\n",
      "  Stored in directory: /root/.cache/pip/wheels/13/90/db/290ab3a34f2ef0b5a0f89235dc2d40fea83e77de84ed2dc05c\n",
      "  Building wheel for threadloop (setup.py): started\n",
      "  Building wheel for threadloop (setup.py): finished with status 'done'\n",
      "  Created wheel for threadloop: filename=threadloop-1.0.2-py3-none-any.whl size=3422 sha256=f78d99980863b694cd72bbf1289fd4d62b7b16a841b067e477ee0e20504be86d\n",
      "  Stored in directory: /root/.cache/pip/wheels/45/b4/e0/10a61e44f3381ae9f0454997f045d5695d92399e5e498380d4\n",
      "  Building wheel for thrift (setup.py): started\n",
      "  Building wheel for thrift (setup.py): finished with status 'done'\n",
      "  Created wheel for thrift: filename=thrift-0.13.0-py3-none-any.whl size=155527 sha256=406e0cd01f7ed86ca2dd451bb23c6da02bb9cf3dee07c8797043fa8c245bf83d\n",
      "  Stored in directory: /root/.cache/pip/wheels/0a/52/7e/8054b57725b8f2b9ddbaacb81b271b939681cc03f8231e6ebc\n",
      "Successfully built Flask-OpenTracing jaeger-client opentracing pyrsistent PyYAML threadloop thrift\n",
      "Installing collected packages: MarkupSafe, Werkzeug, tornado, Six, Jinja2, itsdangerous, click, urllib3, thrift, threadloop, pytz, python-dateutil, pyrsistent, opentracing, numpy, idna, grpcio, Flask, chardet, certifi, attrs, scipy, requests, redis, PyYAML, protobuf, prometheus-client, patsy, pandas, jsonschema, jaeger-client, gunicorn, grpcio-opentracing, flatbuffers, Flask-OpenTracing, Flask-cors, configparser, statsmodels, seldon-core, minio, joblib\n",
      "Successfully installed Flask-1.1.2 Flask-OpenTracing-1.1.0 Flask-cors-3.0.10 Jinja2-2.11.2 MarkupSafe-1.1.1 PyYAML-5.3.1 Six-1.15.0 Werkzeug-1.0.1 attrs-20.3.0 certifi-2020.12.5 chardet-4.0.0 click-7.1.2 configparser-5.0.1 flatbuffers-1.12 grpcio-1.34.1 grpcio-opentracing-1.1.4 gunicorn-20.0.4 idna-2.10 itsdangerous-1.1.0 jaeger-client-4.3.0 joblib-1.0.0 jsonschema-3.2.0 minio-7.0.0 numpy-1.19.5 opentracing-2.4.0 pandas-1.1.4 patsy-0.5.1 prometheus-client-0.8.0 protobuf-3.14.0 pyrsistent-0.17.3 python-dateutil-2.8.1 pytz-2020.5 redis-3.5.3 requests-2.25.1 scipy-1.6.0 seldon-core-1.5.0 statsmodels-0.12.1 threadloop-1.0.2 thrift-0.13.0 tornado-6.1 urllib3-1.26.2\n",
      "Removing intermediate container 06fb3520d480\n",
      " ---> c41297e36f56\n",
      "Step 3/6 : WORKDIR /app\n",
      " ---> Running in 3504690ab808\n"
     ]
    },
    {
     "name": "stdout",
     "output_type": "stream",
     "text": [
      "Removing intermediate container 3504690ab808\n",
      " ---> 9637593aeef4\n",
      "Step 4/6 : ADD RSIModel.py /app/RSIModel.py\n",
      " ---> 528dee1588b2\n",
      "Step 5/6 : EXPOSE 5000\n",
      " ---> Running in 1b2cec6829ee\n",
      "Removing intermediate container 1b2cec6829ee\n",
      " ---> 91bbee86319b\n",
      "Step 6/6 : CMD exec seldon-core-microservice RSIModel --service-type MODEL --persistence 0\n",
      " ---> Running in d96196da433a\n",
      "Removing intermediate container d96196da433a\n",
      " ---> eb81bd5b3d1a\n",
      "Successfully built eb81bd5b3d1a\n",
      "Successfully tagged seldonio/pachyderm-rsi-server:0.1.0\n",
      "make -C RSITraining build\n",
      "docker build . -t seldonio/pachyderm-rsi-trainer:0.1.0\n",
      "Sending build context to Docker daemon  4.608kB\n",
      "Step 1/4 : FROM python:3.8-slim\n",
      " ---> be5d294735c6\n",
      "Step 2/4 : RUN pip install pandas==1.1.4 statsmodels==0.12.1 joblib==1.0.0\n",
      " ---> Running in 5cabc7a1057b\n",
      "Collecting joblib==1.0.0\n",
      "  Downloading joblib-1.0.0-py3-none-any.whl (302 kB)\n",
      "Collecting pandas==1.1.4\n",
      "  Downloading pandas-1.1.4-cp38-cp38-manylinux1_x86_64.whl (9.3 MB)\n",
      "Collecting statsmodels==0.12.1\n",
      "  Downloading statsmodels-0.12.1-cp38-cp38-manylinux1_x86_64.whl (9.5 MB)\n",
      "Collecting numpy>=1.15.4\n",
      "  Downloading numpy-1.19.5-cp38-cp38-manylinux2010_x86_64.whl (14.9 MB)\n",
      "Collecting patsy>=0.5\n",
      "  Downloading patsy-0.5.1-py2.py3-none-any.whl (231 kB)\n",
      "Collecting python-dateutil>=2.7.3\n",
      "  Downloading python_dateutil-2.8.1-py2.py3-none-any.whl (227 kB)\n",
      "Collecting pytz>=2017.2\n",
      "  Downloading pytz-2020.5-py2.py3-none-any.whl (510 kB)\n",
      "Collecting scipy>=1.1\n",
      "  Downloading scipy-1.6.0-cp38-cp38-manylinux1_x86_64.whl (27.2 MB)\n",
      "Collecting six\n",
      "  Downloading six-1.15.0-py2.py3-none-any.whl (10 kB)\n",
      "Installing collected packages: six, pytz, python-dateutil, numpy, scipy, patsy, pandas, statsmodels, joblib\n",
      "Successfully installed joblib-1.0.0 numpy-1.19.5 pandas-1.1.4 patsy-0.5.1 python-dateutil-2.8.1 pytz-2020.5 scipy-1.6.0 six-1.15.0 statsmodels-0.12.1\n",
      "Removing intermediate container 5cabc7a1057b\n",
      " ---> 1a895af60575\n",
      "Step 3/4 : WORKDIR /code\n",
      " ---> Running in 65ea1b52ee53\n",
      "Removing intermediate container 65ea1b52ee53\n",
      " ---> 615e1ceff630\n",
      "Step 4/4 : ADD RSITrain.py /code/RSITrain.py\n",
      " ---> 4c4683f7fc6d\n",
      "Successfully built 4c4683f7fc6d\n",
      "Successfully tagged seldonio/pachyderm-rsi-trainer:0.1.0\n",
      "make -C RSIDeployer build\n",
      "docker build . -t seldonio/pachyderm-rsi-deployer:0.1.0\n",
      "Sending build context to Docker daemon  11.26kB\n",
      "Step 1/4 : FROM alpine/helm:3.4.2\n",
      "3.4.2: Pulling from alpine/helm\n",
      "\n",
      "\u001b[1B0c94c7c5: Pulling fs layer \n",
      "\u001b[1B8eb397af: Pulling fs layer \n",
      "\u001b[1B595362b4: Pull complete  127B/127B1MBB\u001b[1A\u001b[2K\u001b[3A\u001b[2K\u001b[2A\u001b[2K\u001b[2A\u001b[2K\u001b[3A\u001b[2K\u001b[3A\u001b[2K\u001b[2A\u001b[2K\u001b[2A\u001b[2K\u001b[3A\u001b[2K\u001b[2A\u001b[2K\u001b[2A\u001b[2K\u001b[2A\u001b[2K\u001b[3A\u001b[2K\u001b[2A\u001b[2K\u001b[2A\u001b[2K\u001b[3A\u001b[2K\u001b[2A\u001b[2K\u001b[3A\u001b[2K\u001b[2A\u001b[2K\u001b[3A\u001b[2K\u001b[3A\u001b[2K\u001b[2A\u001b[2K\u001b[3A\u001b[2K\u001b[2A\u001b[2K\u001b[2A\u001b[2K\u001b[2A\u001b[2K\u001b[2A\u001b[2K\u001b[2A\u001b[2K\u001b[2A\u001b[2K\u001b[2A\u001b[2K\u001b[2A\u001b[2K\u001b[2A\u001b[2K\u001b[2A\u001b[2K\u001b[2A\u001b[2K\u001b[2A\u001b[2K\u001b[2A\u001b[2K\u001b[2A\u001b[2K\u001b[1A\u001b[2KDigest: sha256:298397182125f0772a0802fc658031893b4e249e7a524a2e3b3a662a842dfad9\n",
      "Status: Downloaded newer image for alpine/helm:3.4.2\n",
      " ---> a3b06963e712\n",
      "Step 2/4 : ADD ./charts /charts\n",
      " ---> 6c6033947f67\n",
      "Step 3/4 : ADD ./deploy.sh /\n",
      " ---> eb0bac341ca4\n",
      "Step 4/4 : ENTRYPOINT [ \"ash\" ]\n",
      " ---> Running in c9890f511935\n",
      "Removing intermediate container c9890f511935\n",
      " ---> 7f6c38c141e6\n",
      "Successfully built 7f6c38c141e6\n",
      "Successfully tagged seldonio/pachyderm-rsi-deployer:0.1.0\n",
      "export KIND_NAME=kind\n",
      "make -C RSIServing kind_load\n",
      "docker build . -t seldonio/pachyderm-rsi-server:0.1.0\n",
      "Sending build context to Docker daemon  7.168kB\n",
      "Step 1/6 : FROM python:3.8-slim\n",
      " ---> be5d294735c6\n",
      "Step 2/6 : RUN pip install pandas==1.1.4 statsmodels==0.12.1 seldon-core==1.5.0 joblib==1.0.0 minio==7.0.0\n",
      " ---> Using cache\n",
      " ---> c41297e36f56\n",
      "Step 3/6 : WORKDIR /app\n",
      " ---> Using cache\n",
      " ---> 9637593aeef4\n",
      "Step 4/6 : ADD RSIModel.py /app/RSIModel.py\n",
      " ---> Using cache\n",
      " ---> 528dee1588b2\n",
      "Step 5/6 : EXPOSE 5000\n",
      " ---> Using cache\n",
      " ---> 91bbee86319b\n",
      "Step 6/6 : CMD exec seldon-core-microservice RSIModel --service-type MODEL --persistence 0\n",
      " ---> Using cache\n",
      " ---> eb81bd5b3d1a\n",
      "Successfully built eb81bd5b3d1a\n",
      "Successfully tagged seldonio/pachyderm-rsi-server:0.1.0\n",
      "kind load -v 3 docker-image seldonio/pachyderm-rsi-server:0.1.0 --name kind\n",
      "Image: \"seldonio/pachyderm-rsi-server:0.1.0\" with ID \"sha256:eb81bd5b3d1af959853ab99542f8a2b2a0b35ee6995c9d907cd8aeb8a5fa7700\" not yet present on node \"kind-control-plane\", loading...\n",
      "make -C RSITraining kind_load\n",
      "kind load -v 3 docker-image seldonio/pachyderm-rsi-trainer:0.1.0 --name kind\n",
      "Image: \"seldonio/pachyderm-rsi-trainer:0.1.0\" with ID \"sha256:4c4683f7fc6df4e55595ddad482c62a01cfb0135f561c55919ce3c76d239bd6a\" not yet present on node \"kind-control-plane\", loading...\n",
      "make -C RSIDeployer kind_load\n",
      "docker build . -t seldonio/pachyderm-rsi-deployer:0.1.0\n",
      "Sending build context to Docker daemon  11.26kB\n",
      "Step 1/4 : FROM alpine/helm:3.4.2\n",
      " ---> a3b06963e712\n",
      "Step 2/4 : ADD ./charts /charts\n",
      " ---> Using cache\n",
      " ---> 6c6033947f67\n",
      "Step 3/4 : ADD ./deploy.sh /\n",
      " ---> Using cache\n",
      " ---> eb0bac341ca4\n",
      "Step 4/4 : ENTRYPOINT [ \"ash\" ]\n",
      " ---> Using cache\n",
      " ---> 7f6c38c141e6\n",
      "Successfully built 7f6c38c141e6\n",
      "Successfully tagged seldonio/pachyderm-rsi-deployer:0.1.0\n",
      "kind load -v 3 docker-image seldonio/pachyderm-rsi-deployer:0.1.0 --name kind\n",
      "Image: \"seldonio/pachyderm-rsi-deployer:0.1.0\" with ID \"sha256:7f6c38c141e6f9aff823e103fbf5c437ba839474de2425e88bcc26ba4f7885f7\" not yet present on node \"kind-control-plane\", loading...\n"
     ]
    }
   ],
   "source": [
    "!make kind_load"
   ]
  },
  {
   "cell_type": "markdown",
   "metadata": {},
   "source": [
    "## 3. Create a Training Pipeline\n",
    "\n",
    "The training pipeline accepts data from a Pachyderm repository, trains a regression forecasting model using the `statsmodels` library, and produces a `joblib` file that holds the model parameters.\n",
    "\n",
    "The pipeline uses a custom container and python file to train the model (which you uploaded in the previous step). I'm not going to show it because it's really straightforward and builds a predictive model based upon an exponentially weighted moving average."
   ]
  },
  {
   "cell_type": "code",
   "execution_count": 97,
   "metadata": {},
   "outputs": [
    {
     "name": "stdout",
     "output_type": "stream",
     "text": [
      "Overwriting train.json\n"
     ]
    }
   ],
   "source": [
    "%%writefile train.json\n",
    "{\n",
    "  \"pipeline\": {\n",
    "    \"name\": \"rsi_training\"\n",
    "  },\n",
    "  \"description\": \"A pipeline that trains a statsmodels model based on the provided input data.\",\n",
    "  \"transform\": {\n",
    "    \"image\": \"seldonio/pachyderm-rsi-trainer:0.1.0\",\n",
    "    \"cmd\": [\n",
    "      \"python3\",\n",
    "      \"/code/RSITrain.py\",\n",
    "      \"/pfs/rsi_data/rsi.csv\",\n",
    "      \"/pfs/out/model.joblib\"\n",
    "    ]\n",
    "  },\n",
    "  \"parallelism_spec\": {\n",
    "    \"constant\": \"1\"\n",
    "  },\n",
    "  \"input\": {\n",
    "    \"pfs\": {\n",
    "      \"repo\": \"rsi_data\",\n",
    "      \"glob\": \"/\"\n",
    "    }\n",
    "  }\n",
    "}"
   ]
  },
  {
   "cell_type": "code",
   "execution_count": 98,
   "metadata": {},
   "outputs": [],
   "source": [
    "!pachctl create pipeline -f train.json"
   ]
  },
  {
   "cell_type": "markdown",
   "metadata": {},
   "source": [
    "## 4. Create a Custom Seldon Deployment\n",
    "\n",
    "This is where things get interesting. If you are using an sklearn or TF based model, you could use one of the out of the box Seldon servers. But `statsmodels` doesn't have one, and more to the point there is a key piece of functionality missing from the built in containers.\n",
    "\n",
    "Pachyderm exposes the commit hash of the objects in the repository via the `version` field of the S3 API. This isn't supported by KFServing/Seldon yet, so I created a custom container that does just that. This means that the code is slightly longer because of the inclusion of the minio code/library, but I think you should still be able to understand it.\n",
    "\n",
    "In summary, you need to pass the commit hash into the container, then use that to [call the S3 API](https://docs.min.io/docs/python-client-api-reference.html#fget_object), setting the `version` parameter. After that you need to implement the standard [Seldon API](https://docs.seldon.io/projects/seldon-core/en/latest/python/python_component.html), which basically consists of a `predict` function, and make sure it returns the right type (a numpy array).\n",
    "\n",
    "Check out the accompanying video if you want a walkthrough of the code.\n",
    "\n",
    "Finally, this is all wrapped in a helm chart which consists of a `SeldonDeployment` and a `Secret` to store the S3 credentials. The trick here is that I use helm to template the S3 URI and the commit hash of the model that was trained by the pipeline.\n",
    "\n",
    "Again, check out the video for a walkthrough.\n",
    "\n",
    "## 5. Create a Deployment Pipeline\n",
    "\n",
    "At this point you could kick off any old CD pipeline to deploy, but Pachyderm is perfectly capable, and you gain from the tight integration. For example, you could argue that the pipeline definition is static, and can reside in traditional CD systems, but the deployment is dynamic and data driven, so it makes more sense to keep it close to the data.\n",
    "\n",
    "To do this I create a custom deployer container which contains my custom helm chart. Typically you wouldn't need to do this, because your chart is likely to be hosted somewhere, so you can use the standard `alpine/helm` container. But for this demo the chart is local, so I bake it.\n",
    "\n",
    "Also there is a tiny `deploy.sh` script to `helm install` if it doesn't exist, else `helm upgrade`.\n",
    "\n",
    "The key section here is the parameters passed into the deploy script. Here I am hardcoding the master branch from the `rsi_training` repository, and the model name. But the commit hash is a special environmental variable provided to us by Pachyderm, specifying the new commit hash. \n",
    "\n",
    "### Important\n",
    "\n",
    "This is what provides the provenance. At any point in the future, from anywhere in the world, you can deploy an old model using `deploy.sh in_some_namespace from_some_repo and_some_commit`. Beautifully simple and repeatable.\n",
    "\n",
    "Once you run the code below, the `rsi_deploy` pipeline will see that there is a new trained model, then run helm install to deploy the Seldon Deployment. (Lots of deploys!)"
   ]
  },
  {
   "cell_type": "code",
   "execution_count": 99,
   "metadata": {},
   "outputs": [
    {
     "name": "stdout",
     "output_type": "stream",
     "text": [
      "Overwriting deploy.json\n"
     ]
    }
   ],
   "source": [
    "%%writefile deploy.json\n",
    "{\n",
    "  \"pipeline\": {\n",
    "    \"name\": \"rsi_deploy\"\n",
    "  },\n",
    "  \"description\": \"A pipeline deploys a seldon core model using the most recent model parameters.\",\n",
    "  \"transform\": {\n",
    "    \"image\": \"seldonio/pachyderm-rsi-deployer:0.1.0\",\n",
    "    \"cmd\": [\"/bin/ash\"],\n",
    "    \"stdin\": [\n",
    "      \"/deploy.sh seldon s3://master.rsi_training/model.joblib ${rsi_training_COMMIT}\"\n",
    "    ]\n",
    "  },\n",
    "  \"parallelism_spec\": {\n",
    "    \"constant\": \"1\"\n",
    "  },\n",
    "  \"input\": {\n",
    "    \"pfs\": {\n",
    "      \"repo\": \"rsi_training\",\n",
    "      \"glob\": \"/\"\n",
    "    }\n",
    "  }\n",
    "}"
   ]
  },
  {
   "cell_type": "code",
   "execution_count": 100,
   "metadata": {},
   "outputs": [],
   "source": [
    "!pachctl create pipeline -f deploy.json"
   ]
  },
  {
   "cell_type": "code",
   "execution_count": 102,
   "metadata": {},
   "outputs": [
    {
     "name": "stdout",
     "output_type": "stream",
     "text": [
      "NAME         VERSION INPUT          CREATED        STATE / LAST JOB  DESCRIPTION                                                                    \n",
      "rsi_deploy   1       rsi_training:/ 17 seconds ago \u001b[32mrunning\u001b[0m / \u001b[32msuccess\u001b[0m A pipeline deploys a seldon core model using the most recent model parameters. \n",
      "rsi_training 1       rsi_data:/     19 seconds ago \u001b[32mrunning\u001b[0m / \u001b[32msuccess\u001b[0m A pipeline that trains a statsmodels model based on the provided input data.   \n",
      "ID                               PIPELINE     STARTED        DURATION  RESTART PROGRESS  DL       UL      STATE   \n",
      "61e0dd166c1c41499cb064d4ade222a4 rsi_deploy   9 seconds ago  2 seconds 0       1 + 0 / 1 15.9KiB  0B      \u001b[32msuccess\u001b[0m \n",
      "0e689e1838ec4b499eb57c10bad4c391 rsi_training 11 seconds ago 2 seconds 0       1 + 0 / 1 1.173KiB 15.9KiB \u001b[32msuccess\u001b[0m \n"
     ]
    }
   ],
   "source": [
    "!pachctl list pipeline\n",
    "!pachctl list job"
   ]
  },
  {
   "cell_type": "markdown",
   "metadata": {},
   "source": [
    "## 6. Call the Initial Model to Predict the Future (pre-COVID)\n",
    "\n",
    "By now you should have a fully operational Seldon Deployment, driven by your initial data commit. But it's worth checking. Often there are resource limit issues or silly things like that. If you have any issues, fix them first."
   ]
  },
  {
   "cell_type": "code",
   "execution_count": 103,
   "metadata": {},
   "outputs": [
    {
     "name": "stdout",
     "output_type": "stream",
     "text": [
      "Waiting for deployment \"rsi-predictor-default-0-rsi-predictor\" rollout to finish: 0 of 1 updated replicas are available...\n",
      "deployment \"rsi-predictor-default-0-rsi-predictor\" successfully rolled out\n"
     ]
    }
   ],
   "source": [
    "!kubectl rollout status deployment -n seldon rsi-predictor-default-0-rsi-predictor"
   ]
  },
  {
   "cell_type": "markdown",
   "metadata": {},
   "source": [
    "Now it's time to take a look at the data. In this notebook I want to actually show you the data, so I'm going to parse it into a pandas array. Below I create two helper methods to do this.\n",
    "\n",
    "Make sure you've port-forwarded the ingress controller service, or replace localhost with something routable from your machine. For exmaple:\n",
    "\n",
    "```sh\n",
    "kubectl port-forward $(kubectl get pods -n seldon-system -l app.kubernetes.io/name=ambassador -o jsonpath='{.items[0].metadata.name}') -n seldon-system 8003:8080\n",
    "```"
   ]
  },
  {
   "cell_type": "code",
   "execution_count": 104,
   "metadata": {},
   "outputs": [],
   "source": [
    "from urllib import request, parse\n",
    "import json\n",
    "from pprint import pprint\n",
    "\n",
    "def get_predictions(num_periods: int = 6):\n",
    "    data = json.dumps({\"data\":{\"ndarray\": num_periods}}).encode()\n",
    "    req =  request.Request(\"http://localhost:8003/seldon/seldon/rsi-predictor/api/v1.0/predictions\", data=data)\n",
    "    req.add_header('Content-Type', 'application/json')\n",
    "    resp = request.urlopen(req)\n",
    "    print(resp.status)\n",
    "    resp_data = json.loads(resp.read())\n",
    "    pprint(resp_data)\n",
    "    return resp_data[\"data\"][\"ndarray\"]\n",
    "\n",
    "def get_metadata() -> None:\n",
    "    req =  request.Request(\"http://localhost:8003/seldon/seldon/rsi-predictor/api/v1.0/metadata\")\n",
    "    req.add_header('Content-Type', 'application/json')\n",
    "    resp = request.urlopen(req)\n",
    "    print(resp.status)\n",
    "    resp_data = json.loads(resp.read())\n",
    "    pprint(resp_data)"
   ]
  },
  {
   "cell_type": "code",
   "execution_count": 105,
   "metadata": {},
   "outputs": [
    {
     "name": "stdout",
     "output_type": "stream",
     "text": [
      "200\n",
      "{'data': {'names': ['t:0', 't:1'],\n",
      "          'ndarray': [['Sat, 01 Feb 2020 00:00:00 GMT', 104.4494780932981],\n",
      "                      ['Sun, 01 Mar 2020 00:00:00 GMT', 104.69971373078019],\n",
      "                      ['Wed, 01 Apr 2020 00:00:00 GMT', 104.9499493682623],\n",
      "                      ['Fri, 01 May 2020 00:00:00 GMT', 105.20018500574439],\n",
      "                      ['Mon, 01 Jun 2020 00:00:00 GMT', 105.4504206432265],\n",
      "                      ['Wed, 01 Jul 2020 00:00:00 GMT', 105.70065628070859]]},\n",
      " 'meta': {'requestPath': {'rsi-predictor': 'seldonio/pachyderm-rsi-server:0.1.0'}}}\n",
      "200\n",
      "{'graphinputs': [{'messagetype': 'ndarray',\n",
      "                  'schema': {'names': ['periods'], 'shape': [1]}}],\n",
      " 'graphoutputs': [{'messagetype': 'ndarray', 'schema': {'shape': [2]}}],\n",
      " 'models': {'rsi-predictor': {'custom': {'MODEL_COMMIT_HASH': 'ee7ff0e85615451e8bf4f03ba399ff04',\n",
      "                                         'MODEL_URI': 's3://master.rsi_training/model.joblib'},\n",
      "                              'inputs': [{'messagetype': 'ndarray',\n",
      "                                          'schema': {'names': ['periods'],\n",
      "                                                     'shape': [1]}}],\n",
      "                              'name': 'RSIModel',\n",
      "                              'outputs': [{'messagetype': 'ndarray',\n",
      "                                           'schema': {'shape': [2]}}],\n",
      "                              'platform': 'seldon',\n",
      "                              'versions': ['s3://master.rsi_training/model.joblib@ee7ff0e85615451e8bf4f03ba399ff04']}},\n",
      " 'name': 'default'}\n"
     ]
    }
   ],
   "source": [
    "predictions = get_predictions(6)\n",
    "get_metadata()"
   ]
  },
  {
   "cell_type": "markdown",
   "metadata": {},
   "source": [
    "Inspect that data. See how the prediction has returned 6 months into the future. Also note the metadata, which contains the commit hash of the model that generated this prediction. Cool huh! You can tracing predictions back to their model/data.\n",
    "\n",
    "This is implemented as custom metadata. It's not a standard feature of Seldon.\n",
    "\n",
    "Now let me load and plot all the data to see how our notional business is going to do in the future..."
   ]
  },
  {
   "cell_type": "code",
   "execution_count": 106,
   "metadata": {},
   "outputs": [
    {
     "name": "stderr",
     "output_type": "stream",
     "text": [
      "/Users/phil/.pyenv/versions/3.8.1/lib/python3.8/site-packages/pandas/core/arrays/datetimes.py:1266: UserWarning: Converting to PeriodArray/Index representation will drop timezone information.\n",
      "  warnings.warn(\n"
     ]
    },
    {
     "data": {
      "text/plain": [
       "<AxesSubplot:xlabel='0'>"
      ]
     },
     "execution_count": 106,
     "metadata": {},
     "output_type": "execute_result"
    },
    {
     "data": {
      "image/png": "[encoded data removed]",
      "text/plain": [
       "<Figure size 432x288 with 1 Axes>"
      ]
     },
     "metadata": {
      "needs_background": "light"
     },
     "output_type": "display_data"
    }
   ],
   "source": [
    "import pandas as pd\n",
    "\n",
    "rsi = pd.read_csv(\"./data/rsi_before.csv\", index_col=\"Date\", parse_dates=True) # Load data\n",
    "rsi_prediction = pd.DataFrame(predictions).set_index(0) # Move timestamp to index\n",
    "rsi_prediction.index = pd.to_datetime(rsi_prediction.index) # Parse timestamp\n",
    "ax = rsi.plot()\n",
    "rsi_prediction.plot(ax=ax)"
   ]
  },
  {
   "cell_type": "markdown",
   "metadata": {},
   "source": [
    "Not too bad ehy? Minor blip in the last couple of months in 2019, but sentiment continues to be positive...\n",
    "\n",
    "> BUT WAIT...\n",
    "> \n",
    "> WHAT IS... GOING ON...\n",
    "> \n",
    "> WHY...\n",
    "> \n",
    "> UH OH..."
   ]
  },
  {
   "cell_type": "code",
   "execution_count": 107,
   "metadata": {},
   "outputs": [
    {
     "name": "stderr",
     "output_type": "stream",
     "text": [
      "/Users/phil/.pyenv/versions/3.8.1/lib/python3.8/site-packages/pandas/core/arrays/datetimes.py:1266: UserWarning: Converting to PeriodArray/Index representation will drop timezone information.\n",
      "  warnings.warn(\n"
     ]
    },
    {
     "data": {
      "text/plain": [
       "<AxesSubplot:xlabel='0'>"
      ]
     },
     "execution_count": 107,
     "metadata": {},
     "output_type": "execute_result"
    },
    {
     "data": {
      "image/png": "[encoded data removed]",
      "text/plain": [
       "<Figure size 432x288 with 1 Axes>"
      ]
     },
     "metadata": {
      "needs_background": "light"
     },
     "output_type": "display_data"
    }
   ],
   "source": [
    "rsi = pd.read_csv(\"./data/rsi_mid.csv\", index_col=\"Date\", parse_dates=True) # Load more recent data\n",
    "rsi_prediction = pd.DataFrame(predictions).set_index(0)\n",
    "rsi_prediction.index = pd.to_datetime(rsi_prediction.index)\n",
    "ax = rsi.plot()\n",
    "rsi_prediction.plot(ax=ax)"
   ]
  },
  {
   "cell_type": "markdown",
   "metadata": {},
   "source": [
    "## 7. Panic-Driven Manual Deploys Always Fail\n",
    "\n",
    "Yes, Coronavirus happened. It's the latest in a string of many so-called \"1-in-100 year events\" and affected nearly every aspect of life.\n",
    "\n",
    "Thankfully, in our wisdom, we have a pipeline. All we need to do is to stream the data into our training data repository, then watch the deployment bloom. Don't Panic!"
   ]
  },
  {
   "cell_type": "code",
   "execution_count": 108,
   "metadata": {},
   "outputs": [
    {
     "name": "stdout",
     "output_type": "stream",
     "text": [
      "\r",
      "rsi_mid.csv: 1.22 KiB / 1.22 KiB [============================] 100.00% ? p/s 0s\r\n"
     ]
    }
   ],
   "source": [
    "!cd data && pachctl put file rsi_data@master:/rsi.csv -f rsi_mid.csv --overwrite"
   ]
  },
  {
   "cell_type": "code",
   "execution_count": 111,
   "metadata": {},
   "outputs": [
    {
     "name": "stdout",
     "output_type": "stream",
     "text": [
      "NAME         VERSION INPUT          CREATED            STATE / LAST JOB  DESCRIPTION                                                                    \n",
      "rsi_deploy   1       rsi_training:/ About a minute ago \u001b[32mrunning\u001b[0m / \u001b[32msuccess\u001b[0m A pipeline deploys a seldon core model using the most recent model parameters. \n",
      "rsi_training 1       rsi_data:/     About a minute ago \u001b[32mrunning\u001b[0m / \u001b[32msuccess\u001b[0m A pipeline that trains a statsmodels model based on the provided input data.   \n",
      "ID                               PIPELINE     STARTED            DURATION  RESTART PROGRESS  DL       UL       STATE   \n",
      "3952150e4c294a1d9702ff790966ca8a rsi_deploy   15 seconds ago     2 seconds 0       1 + 0 / 1 16.23KiB 0B       \u001b[32msuccess\u001b[0m \n",
      "7af818fe71ed4d2e90c9a56c42aabed5 rsi_training 18 seconds ago     2 seconds 0       1 + 0 / 1 1.221KiB 16.23KiB \u001b[32msuccess\u001b[0m \n",
      "61e0dd166c1c41499cb064d4ade222a4 rsi_deploy   58 seconds ago     2 seconds 0       1 + 0 / 1 15.9KiB  0B       \u001b[32msuccess\u001b[0m \n",
      "0e689e1838ec4b499eb57c10bad4c391 rsi_training About a minute ago 2 seconds 0       1 + 0 / 1 1.173KiB 15.9KiB  \u001b[32msuccess\u001b[0m \n",
      "Waiting for deployment \"rsi-predictor-default-0-rsi-predictor\" rollout to finish: 1 old replicas are pending termination...\n",
      "Waiting for deployment \"rsi-predictor-default-0-rsi-predictor\" rollout to finish: 1 old replicas are pending termination...\n",
      "deployment \"rsi-predictor-default-0-rsi-predictor\" successfully rolled out\n"
     ]
    }
   ],
   "source": [
    "!pachctl list pipeline\n",
    "!pachctl list job\n",
    "!kubectl rollout status deployment -n seldon rsi-predictor-default-0-rsi-predictor"
   ]
  },
  {
   "cell_type": "code",
   "execution_count": 112,
   "metadata": {},
   "outputs": [
    {
     "name": "stdout",
     "output_type": "stream",
     "text": [
      "200\n",
      "{'graphinputs': [{'messagetype': 'ndarray',\n",
      "                  'schema': {'names': ['periods'], 'shape': [1]}}],\n",
      " 'graphoutputs': [{'messagetype': 'ndarray', 'schema': {'shape': [2]}}],\n",
      " 'models': {'rsi-predictor': {'custom': {'MODEL_COMMIT_HASH': 'f6d17cefdfe94c1f96b1bab58fdef9db',\n",
      "                                         'MODEL_URI': 's3://master.rsi_training/model.joblib'},\n",
      "                              'inputs': [{'messagetype': 'ndarray',\n",
      "                                          'schema': {'names': ['periods'],\n",
      "                                                     'shape': [1]}}],\n",
      "                              'name': 'RSIModel',\n",
      "                              'outputs': [{'messagetype': 'ndarray',\n",
      "                                           'schema': {'shape': [2]}}],\n",
      "                              'platform': 'seldon',\n",
      "                              'versions': ['s3://master.rsi_training/model.joblib@f6d17cefdfe94c1f96b1bab58fdef9db']}},\n",
      " 'name': 'default'}\n",
      "200\n",
      "{'data': {'names': ['t:0', 't:1'],\n",
      "          'ndarray': [['Fri, 01 May 2020 00:00:00 GMT', 62.011830355889295],\n",
      "                      ['Mon, 01 Jun 2020 00:00:00 GMT', 44.38159708645799],\n",
      "                      ['Wed, 01 Jul 2020 00:00:00 GMT', 26.75136381702668],\n",
      "                      ['Sat, 01 Aug 2020 00:00:00 GMT', 9.12113054759537],\n",
      "                      ['Tue, 01 Sep 2020 00:00:00 GMT', -8.50910272183593],\n",
      "                      ['Thu, 01 Oct 2020 00:00:00 GMT', -26.139335991267245]]},\n",
      " 'meta': {'requestPath': {'rsi-predictor': 'seldonio/pachyderm-rsi-server:0.1.0'}}}\n"
     ]
    }
   ],
   "source": [
    "get_metadata()\n",
    "predictions = get_predictions(6)"
   ]
  },
  {
   "cell_type": "markdown",
   "metadata": {},
   "source": [
    "First, notice the commit hash in the metadata. See that it has changed. Your old model still exists in the repo, but it's not at the tip any more.\n",
    "\n",
    "Secondly, let's look at the predictions now..."
   ]
  },
  {
   "cell_type": "code",
   "execution_count": 113,
   "metadata": {},
   "outputs": [
    {
     "name": "stderr",
     "output_type": "stream",
     "text": [
      "/Users/phil/.pyenv/versions/3.8.1/lib/python3.8/site-packages/pandas/core/arrays/datetimes.py:1266: UserWarning: Converting to PeriodArray/Index representation will drop timezone information.\n",
      "  warnings.warn(\n"
     ]
    },
    {
     "data": {
      "text/plain": [
       "<AxesSubplot:xlabel='0'>"
      ]
     },
     "execution_count": 113,
     "metadata": {},
     "output_type": "execute_result"
    },
    {
     "data": {
      "image/png": "[encoded data removed]",
      "text/plain": [
       "<Figure size 432x288 with 1 Axes>"
      ]
     },
     "metadata": {
      "needs_background": "light"
     },
     "output_type": "display_data"
    }
   ],
   "source": [
    "rsi = pd.read_csv(\"./data/rsi_mid.csv\", index_col=\"Date\", parse_dates=True)\n",
    "rsi_prediction = pd.DataFrame(predictions).set_index(0)\n",
    "rsi_prediction.index = pd.to_datetime(rsi_prediction.index)\n",
    "ax = rsi.plot()\n",
    "rsi_prediction.plot(ax=ax)"
   ]
  },
  {
   "cell_type": "markdown",
   "metadata": {},
   "source": [
    "Oh dear! Negative RSI's that's not right! This highlights that our model isn't fit for purpose any more, but that's a conversation for another day.\n",
    "\n",
    "After some time, we get more data..."
   ]
  },
  {
   "cell_type": "code",
   "execution_count": 114,
   "metadata": {},
   "outputs": [
    {
     "name": "stdout",
     "output_type": "stream",
     "text": [
      "\r",
      "rsi_after.csv: 1.32 KiB / 1.32 KiB [==========================] 100.00% ? p/s 0s\r\n"
     ]
    }
   ],
   "source": [
    "!cd data && pachctl put file rsi_data@master:/rsi.csv -f rsi_after.csv --overwrite"
   ]
  },
  {
   "cell_type": "code",
   "execution_count": 116,
   "metadata": {},
   "outputs": [
    {
     "name": "stdout",
     "output_type": "stream",
     "text": [
      "NAME         VERSION INPUT          CREATED            STATE / LAST JOB  DESCRIPTION                                                                    \n",
      "rsi_deploy   1       rsi_training:/ About a minute ago \u001b[32mrunning\u001b[0m / \u001b[32msuccess\u001b[0m A pipeline deploys a seldon core model using the most recent model parameters. \n",
      "rsi_training 1       rsi_data:/     About a minute ago \u001b[32mrunning\u001b[0m / \u001b[32msuccess\u001b[0m A pipeline that trains a statsmodels model based on the provided input data.   \n",
      "ID                               PIPELINE     STARTED            DURATION  RESTART PROGRESS  DL       UL       STATE   \n",
      "97e8589ed2624d43b6fea7ac982ed710 rsi_deploy   5 seconds ago      2 seconds 0       1 + 0 / 1 16.88KiB 0B       \u001b[32msuccess\u001b[0m \n",
      "b123e245235b48bea8f2bd81b13a38de rsi_training 8 seconds ago      2 seconds 0       1 + 0 / 1 1.319KiB 16.88KiB \u001b[32msuccess\u001b[0m \n",
      "3952150e4c294a1d9702ff790966ca8a rsi_deploy   45 seconds ago     2 seconds 0       1 + 0 / 1 16.23KiB 0B       \u001b[32msuccess\u001b[0m \n",
      "7af818fe71ed4d2e90c9a56c42aabed5 rsi_training 48 seconds ago     2 seconds 0       1 + 0 / 1 1.221KiB 16.23KiB \u001b[32msuccess\u001b[0m \n",
      "61e0dd166c1c41499cb064d4ade222a4 rsi_deploy   About a minute ago 2 seconds 0       1 + 0 / 1 15.9KiB  0B       \u001b[32msuccess\u001b[0m \n",
      "0e689e1838ec4b499eb57c10bad4c391 rsi_training About a minute ago 2 seconds 0       1 + 0 / 1 1.173KiB 15.9KiB  \u001b[32msuccess\u001b[0m \n",
      "Waiting for deployment \"rsi-predictor-default-0-rsi-predictor\" rollout to finish: 1 old replicas are pending termination...\n",
      "Waiting for deployment \"rsi-predictor-default-0-rsi-predictor\" rollout to finish: 1 old replicas are pending termination...\n",
      "deployment \"rsi-predictor-default-0-rsi-predictor\" successfully rolled out\n"
     ]
    }
   ],
   "source": [
    "!pachctl list pipeline\n",
    "!pachctl list job\n",
    "!kubectl rollout status deployment -n seldon rsi-predictor-default-0-rsi-predictor"
   ]
  },
  {
   "cell_type": "code",
   "execution_count": 118,
   "metadata": {},
   "outputs": [
    {
     "name": "stdout",
     "output_type": "stream",
     "text": [
      "200\n",
      "{'graphinputs': [{'messagetype': 'ndarray',\n",
      "                  'schema': {'names': ['periods'], 'shape': [1]}}],\n",
      " 'graphoutputs': [{'messagetype': 'ndarray', 'schema': {'shape': [2]}}],\n",
      " 'models': {'rsi-predictor': {'custom': {'MODEL_COMMIT_HASH': 'a3649690959640758852a21fbab8d05e',\n",
      "                                         'MODEL_URI': 's3://master.rsi_training/model.joblib'},\n",
      "                              'inputs': [{'messagetype': 'ndarray',\n",
      "                                          'schema': {'names': ['periods'],\n",
      "                                                     'shape': [1]}}],\n",
      "                              'name': 'RSIModel',\n",
      "                              'outputs': [{'messagetype': 'ndarray',\n",
      "                                           'schema': {'shape': [2]}}],\n",
      "                              'platform': 'seldon',\n",
      "                              'versions': ['s3://master.rsi_training/model.joblib@a3649690959640758852a21fbab8d05e']}},\n",
      " 'name': 'default'}\n",
      "200\n",
      "{'data': {'names': ['t:0', 't:1'],\n",
      "          'ndarray': [['Sun, 01 Nov 2020 00:00:00 GMT', 109.2839513222438],\n",
      "                      ['Tue, 01 Dec 2020 00:00:00 GMT', 109.56790266260813],\n",
      "                      ['Fri, 01 Jan 2021 00:00:00 GMT', 109.85185400297246],\n",
      "                      ['Mon, 01 Feb 2021 00:00:00 GMT', 110.1358053433368],\n",
      "                      ['Mon, 01 Mar 2021 00:00:00 GMT', 110.41975668370112],\n",
      "                      ['Thu, 01 Apr 2021 00:00:00 GMT', 110.70370802406546]]},\n",
      " 'meta': {'requestPath': {'rsi-predictor': 'seldonio/pachyderm-rsi-server:0.1.0'}}}\n"
     ]
    }
   ],
   "source": [
    "get_metadata()\n",
    "predictions = get_predictions(6)"
   ]
  },
  {
   "cell_type": "code",
   "execution_count": 119,
   "metadata": {},
   "outputs": [
    {
     "name": "stderr",
     "output_type": "stream",
     "text": [
      "/Users/phil/.pyenv/versions/3.8.1/lib/python3.8/site-packages/pandas/core/arrays/datetimes.py:1266: UserWarning: Converting to PeriodArray/Index representation will drop timezone information.\n",
      "  warnings.warn(\n"
     ]
    },
    {
     "data": {
      "text/plain": [
       "<AxesSubplot:xlabel='0'>"
      ]
     },
     "execution_count": 119,
     "metadata": {},
     "output_type": "execute_result"
    },
    {
     "data": {
      "image/png": "[encoded data removed]",
      "text/plain": [
       "<Figure size 432x288 with 1 Axes>"
      ]
     },
     "metadata": {
      "needs_background": "light"
     },
     "output_type": "display_data"
    }
   ],
   "source": [
    "rsi = pd.read_csv(\"./data/rsi_after.csv\", index_col=\"Date\", parse_dates=True)\n",
    "rsi_prediction = pd.DataFrame(predictions).set_index(0)\n",
    "rsi_prediction.index = pd.to_datetime(rsi_prediction.index)\n",
    "ax = rsi.plot()\n",
    "rsi_prediction.plot(ax=ax)"
   ]
  },
  {
   "cell_type": "markdown",
   "metadata": {},
   "source": [
    "And we're looking ok again. Shaken, but we made it through.\n",
    "\n",
    "## Summary\n",
    "\n",
    "In this example you have encoded the Seldon deployment into a Pachyderm pipeline. This provides clear, simple provenance and lineage between the data (version controlled) and the deployed model (also version controlled).\n",
    "\n",
    "There's an argument to be made that Pachyderm isn't a fully fledged CD system. And that's true, you don't get all of the niceties that they provide. But I like how close the deployment is to the data; it's much easier to reason about end-to-end applications when all the components are close together.\n",
    "\n",
    "Another option is to simply call your CD system from the Pachyderm pipeline, rather than doing the deployment directly. This still gives you the benefit of having data-driven deployments, but at the same time, the rigour of a CD system."
   ]
  }
 ],
 "metadata": {
  "kernelspec": {
   "display_name": "Python 3",
   "language": "python",
   "name": "python3"
  },
  "language_info": {
   "codemirror_mode": {
    "name": "ipython",
    "version": 3
   },
   "file_extension": ".py",
   "mimetype": "text/x-python",
   "name": "python",
   "nbconvert_exporter": "python",
   "pygments_lexer": "ipython3",
   "version": "3.8.1"
  }
 },
 "nbformat": 4,
 "nbformat_minor": 4
}
