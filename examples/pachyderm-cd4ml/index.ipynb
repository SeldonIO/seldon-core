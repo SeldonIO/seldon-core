{
 "cells": [
  {
   "cell_type": "markdown",
   "metadata": {},
   "source": [
    "# Pachyderm-Seldon Integration: Version Controlled Models\n",
    " \n",
    "> By Dr. Phil Winder, CEO of [Winder Research](https://WinderResearch.com)\n",
    "\n",
    "[Pachyderm](https://pachyderm.io/) is a data science platform that combines Data Lineage with End-to-End Pipelines. [Seldon-Core](https://www.seldon.io/tech/products/core/) is an open-source platform for rapidly deploying machine learning models.\n",
    "\n",
    "This notebook specialises in showing you how you can automate the provisioning of a Seldon deployment using Pachyderm pipelines when new training data enters a Pachyderm repository. Additionally, this example uses Pachyderm's S3 gateway feature to provide convenient access to version controlled model parameters.\n",
    "\n",
    "### Highlights\n",
    "\n",
    "In ML, provenance describes the ability to pinpoint all of the factors that contributed to a deployed model. People often talk about the provenance of the data, but what about the provenance of a model? Not only does model provenance provide the ability to do post-mortems on bad models, it is also an integral to GitOps, which provides repeatability, and resiliency.\n",
    "\n",
    "Similary, automation is the art of encoding a process to produce a deployed model. Without a process you can't have provenance, since several people will peform the task in several different ways. If you can automate the process then you can remove the human-induced variance entirelly and improve efficiency to boot.\n",
    "\n",
    "### Example Situation\n",
    "\n",
    "Imagine you work for an organization that uses the UK's retail services index (RSI), similar to the consumer prices index in the US, to help predict demand for your products. The RSI is often quoted as a proxy for consumer demand, so you could base your stock levels upon a future RSI prediction.\n",
    "\n",
    "But the RSI is a dynamic index. It is influenced by external events, like COVID-19, for example. Because of this you want to make sure that your model is up to date. One potential solution is scheduled retraining, but this is a poor proxy because it is not reactive. Scheduling is a poor-mans proxy because you end up retraining too much, which adds risk, or too little, where important changes to the model parameters are delayed.\n",
    "\n",
    "The solution then, if you pardon the buzz-word, is to become data-driven. When new data is available, it should kick-off a new training run. That should result in a model which is then automatically deployed. And ideally, all of this should be tracked and version controlled for provenance.\n",
    "\n",
    "I achieve this with two Pachyderm pipelines (on for training, one for deployment) and a simple custom Seldon deployment to serve the model. From an outsiders perspective, this is still a pure Seldon solution. But internally you will have full data-driven automation and provenance. This is depicted in the image below.\n",
    "\n",
    "![overview image](./images/pachyderm-cd4ml.png)\n",
    "\n",
    "## Prerequisites\n",
    "\n",
    "This is a follow-on example from the simpler Pachyderm demo. I recommend that you review that first before following this one.\n",
    "\n",
    " * A kubernetes cluster with kubectl configured\n",
    " * [A seldon-core cluster installed and configured](https://docs.seldon.io/projects/seldon-core/en/latest/examples/seldon_core_setup.html)\n",
    " * Pachyderm's `pachctl` binary installed following the [official documentation](https://docs.pachyderm.com/latest/getting_started/local_installation/#install-pachctl)\n",
    " * The ability to build docker images and push them to your cluster\n",
    "\n",
    "Pachyderm is controlled and deployed via the `pachctl`. This document assumes that you have version `1.11.8` installed, although it should work with any `1.x.x` version."
   ]
  },
  {
   "cell_type": "code",
   "execution_count": 1,
   "metadata": {},
   "outputs": [
    {
     "name": "stdout",
     "output_type": "stream",
     "text": [
      "1.11.8\n",
      "NAMESPACE            NAME                                          READY   STATUS    RESTARTS   AGE\n",
      "kube-system          coredns-f9fd979d6-9gvj7                       1/1     Running   0          3m49s\n",
      "kube-system          coredns-f9fd979d6-vzrjc                       1/1     Running   0          3m49s\n",
      "kube-system          etcd-kind-control-plane                       1/1     Running   0          3m54s\n",
      "kube-system          kindnet-wngx6                                 1/1     Running   0          3m49s\n",
      "kube-system          kube-apiserver-kind-control-plane             1/1     Running   0          3m54s\n",
      "kube-system          kube-controller-manager-kind-control-plane    1/1     Running   0          3m54s\n",
      "kube-system          kube-proxy-69x76                              1/1     Running   0          3m49s\n",
      "kube-system          kube-scheduler-kind-control-plane             1/1     Running   0          3m54s\n",
      "kube-system          seldon-spartakus-volunteer-5b57b95596-jr68g   1/1     Running   0          3m18s\n",
      "local-path-storage   local-path-provisioner-78776bfc44-tqldw       1/1     Running   0          3m49s\n",
      "seldon-system        ambassador-dd7bd645d-zxc8c                    1/1     Running   0          2m32s\n",
      "seldon-system        seldon-controller-manager-7f5d7bbb75-msgm7    1/1     Running   0          3m18s\n"
     ]
    }
   ],
   "source": [
    "!pachctl version --client-only\n",
    "!kubectl get po -A"
   ]
  },
  {
   "cell_type": "markdown",
   "metadata": {},
   "source": [
    "## 1. Install Pachyderm\n",
    "\n",
    "First install a Pachyderm cluster. This uses the standard `local` install method which creates a cluster using your current kubernetes context.\n",
    "\n",
    "The second step is to give all Pachyderm pielines access to the kube API. This is done via the `cluster-admin` ClusterRole. This is the easiest and quickest way to give the pipelines the permissions they need to deploy new Seldon deployments.\n",
    "\n",
    "> **WARNING**: Don't use this in produciton. The `cluster-admin` ClusterRole gives access to do anything."
   ]
  },
  {
   "cell_type": "code",
   "execution_count": 2,
   "metadata": {},
   "outputs": [
    {
     "name": "stdout",
     "output_type": "stream",
     "text": [
      "namespace/pachyderm created\n",
      "serviceaccount/pachyderm created\n",
      "serviceaccount/pachyderm-worker created\n",
      "clusterrole.rbac.authorization.k8s.io/pachyderm created\n",
      "clusterrolebinding.rbac.authorization.k8s.io/pachyderm created\n",
      "role.rbac.authorization.k8s.io/pachyderm-worker created\n",
      "rolebinding.rbac.authorization.k8s.io/pachyderm-worker created\n",
      "deployment.apps/etcd created\n",
      "service/etcd created\n",
      "service/pachd created\n",
      "service/pachd-peer created\n",
      "deployment.apps/pachd created\n",
      "secret/pachyderm-storage-secret created\n",
      "\n",
      "Pachyderm is launching. Check its status with \"kubectl get all\"\n",
      "\n",
      "Waiting for deployment \"pachd\" rollout to finish: 0 of 1 updated replicas are available...\n",
      "deployment \"pachd\" successfully rolled out\n"
     ]
    }
   ],
   "source": [
    "!kubectl create ns pachyderm\n",
    "!pachctl deploy local --no-expose-docker-socket --no-dashboard --namespace pachyderm\n",
    "!kubectl rollout status deployment -n pachyderm pachd"
   ]
  },
  {
   "cell_type": "code",
   "execution_count": 3,
   "metadata": {},
   "outputs": [
    {
     "name": "stdout",
     "output_type": "stream",
     "text": [
      "Writing rbac.yaml\n"
     ]
    }
   ],
   "source": [
    "%%writefile rbac.yaml\n",
    "apiVersion: rbac.authorization.k8s.io/v1\n",
    "kind: ClusterRoleBinding\n",
    "metadata:\n",
    "  name: pachyderm-deployer\n",
    "subjects:\n",
    "- kind: ServiceAccount\n",
    "  name: pachyderm-worker\n",
    "  namespace: pachyderm\n",
    "roleRef:\n",
    "  kind: ClusterRole\n",
    "  name: cluster-admin\n",
    "  apiGroup: rbac.authorization.k8s.io"
   ]
  },
  {
   "cell_type": "code",
   "execution_count": 4,
   "metadata": {},
   "outputs": [
    {
     "name": "stdout",
     "output_type": "stream",
     "text": [
      "clusterrolebinding.rbac.authorization.k8s.io/pachyderm-deployer created\r\n"
     ]
    }
   ],
   "source": [
    "!kubectl apply -f rbac.yaml"
   ]
  },
  {
   "cell_type": "markdown",
   "metadata": {},
   "source": [
    "## 2. Add Initial Training Data and Build the Necessary Containers\n",
    "\n",
    "> Note: If you are using a non-standard Pachyderm namespace, you will need to run `pachctl port-forward` in a separate terminal\n",
    "\n",
    "Below I create a training data repository and populate it with some initial RSI data. This data comes from the [UK's Office of National Statistics](https://www.ons.gov.uk/businessindustryandtrade/retailindustry/timeseries/j5c4/drsi). I have altered the original data by adding headers, removing quotes for floats, and organized into pre, mid, and post corona datasets for demonstration purposes.\n",
    "\n",
    "You'll have to wait a moment to see the data. I want to setup the automation so you can see it in action and first we need to create a data repo."
   ]
  },
  {
   "cell_type": "code",
   "execution_count": 5,
   "metadata": {},
   "outputs": [],
   "source": [
    "!pachctl create repo rsi_data"
   ]
  },
  {
   "cell_type": "code",
   "execution_count": 6,
   "metadata": {},
   "outputs": [
    {
     "name": "stdout",
     "output_type": "stream",
     "text": [
      "\r",
      "rsi_before.csv: 1.17 KiB / 1.17 KiB [=========================] 100.00% ? p/s 0s\r\n"
     ]
    }
   ],
   "source": [
    "!cd data && pachctl put file rsi_data@master:/rsi.csv -f rsi_before.csv"
   ]
  },
  {
   "cell_type": "code",
   "execution_count": 7,
   "metadata": {},
   "outputs": [
    {
     "name": "stdout",
     "output_type": "stream",
     "text": [
      "NAME     CREATED       SIZE (MASTER) DESCRIPTION \r\n",
      "rsi_data 2 seconds ago 1.173KiB                  \r\n"
     ]
    }
   ],
   "source": [
    "!pachctl list repo"
   ]
  },
  {
   "cell_type": "code",
   "execution_count": 8,
   "metadata": {
    "scrolled": false
   },
   "outputs": [
    {
     "name": "stdout",
     "output_type": "stream",
     "text": [
      "NAME     TYPE SIZE     \r\n",
      "/rsi.csv file 1.173KiB \r\n"
     ]
    }
   ],
   "source": [
    "!pachctl list file rsi_data@master"
   ]
  },
  {
   "cell_type": "markdown",
   "metadata": {},
   "source": [
    "There are three containers used in this demo, one to train, one to deploy and the custom seldon deployment. You'll need to make sure that these containers are present in this cluster. I provide a script to upload to a local `kind` cluster but if you're using something else, you'll have to upload those containers yourself."
   ]
  },
  {
   "cell_type": "code",
   "execution_count": 10,
   "metadata": {},
   "outputs": [
    {
     "name": "stdout",
     "output_type": "stream",
     "text": [
      "make -C RSIServing build\n",
      "docker build . -t seldonio/pachyderm-rsi-server:0.1.0\n",
      "Sending build context to Docker daemon  7.168kB\n",
      "Step 1/6 : FROM python:3.8-slim\n",
      " ---> 2be36bcc692b\n",
      "Step 2/6 : RUN pip install pandas==1.1.4 statsmodels==0.12.1 seldon-core==1.5.0 joblib==1.0.0 minio==7.0.0\n",
      " ---> Using cache\n",
      " ---> b46c6b8b240a\n",
      "Step 3/6 : WORKDIR /app\n",
      " ---> Using cache\n",
      " ---> 47aab161391d\n",
      "Step 4/6 : ADD RSIModel.py /app/RSIModel.py\n",
      " ---> Using cache\n",
      " ---> 4e101bf3c18a\n",
      "Step 5/6 : EXPOSE 5000\n",
      " ---> Using cache\n",
      " ---> fcced6dd4ddc\n",
      "Step 6/6 : CMD exec seldon-core-microservice RSIModel --service-type MODEL --persistence 0\n",
      " ---> Using cache\n",
      " ---> ef1b56a691d2\n",
      "Successfully built ef1b56a691d2\n",
      "Successfully tagged seldonio/pachyderm-rsi-server:0.1.0\n",
      "make -C RSITraining build\n",
      "docker build . -t seldonio/pachyderm-rsi-trainer:0.1.0\n",
      "Sending build context to Docker daemon  4.608kB\n",
      "Step 1/4 : FROM python:3.8-slim\n",
      " ---> 2be36bcc692b\n",
      "Step 2/4 : RUN pip install pandas==1.1.4 statsmodels==0.12.1 joblib==1.0.0\n",
      " ---> Using cache\n",
      " ---> 4ac91f50d6ef\n",
      "Step 3/4 : WORKDIR /code\n",
      " ---> Using cache\n",
      " ---> 69d0bcdb2722\n",
      "Step 4/4 : ADD RSITrain.py /code/RSITrain.py\n",
      " ---> Using cache\n",
      " ---> 0cedec68130e\n",
      "Successfully built 0cedec68130e\n",
      "Successfully tagged seldonio/pachyderm-rsi-trainer:0.1.0\n",
      "make -C RSIDeployer build\n",
      "docker build . -t seldonio/pachyderm-rsi-deployer:0.1.0\n",
      "Sending build context to Docker daemon  11.26kB\n",
      "Step 1/4 : FROM alpine/helm:3.4.2\n",
      " ---> a3b06963e712\n",
      "Step 2/4 : ADD ./charts /charts\n",
      " ---> Using cache\n",
      " ---> 1d14ca7efc8e\n",
      "Step 3/4 : ADD ./deploy.sh /\n",
      " ---> Using cache\n",
      " ---> 4d1813a4e5f6\n",
      "Step 4/4 : ENTRYPOINT [ \"ash\" ]\n",
      " ---> Using cache\n",
      " ---> a56181ccdfbf\n",
      "Successfully built a56181ccdfbf\n",
      "Successfully tagged seldonio/pachyderm-rsi-deployer:0.1.0\n",
      "make -C RSIServing kind_load\n",
      "docker build . -t seldonio/pachyderm-rsi-server:0.1.0\n",
      "Sending build context to Docker daemon  7.168kB\n",
      "Step 1/6 : FROM python:3.8-slim\n",
      " ---> 2be36bcc692b\n",
      "Step 2/6 : RUN pip install pandas==1.1.4 statsmodels==0.12.1 seldon-core==1.5.0 joblib==1.0.0 minio==7.0.0\n",
      " ---> Using cache\n",
      " ---> b46c6b8b240a\n",
      "Step 3/6 : WORKDIR /app\n",
      " ---> Using cache\n",
      " ---> 47aab161391d\n",
      "Step 4/6 : ADD RSIModel.py /app/RSIModel.py\n",
      " ---> Using cache\n",
      " ---> 4e101bf3c18a\n",
      "Step 5/6 : EXPOSE 5000\n",
      " ---> Using cache\n",
      " ---> fcced6dd4ddc\n",
      "Step 6/6 : CMD exec seldon-core-microservice RSIModel --service-type MODEL --persistence 0\n",
      " ---> Using cache\n",
      " ---> ef1b56a691d2\n",
      "Successfully built ef1b56a691d2\n",
      "Successfully tagged seldonio/pachyderm-rsi-server:0.1.0\n",
      "kind load -v 3 docker-image seldonio/pachyderm-rsi-server:0.1.0 --name kind\n",
      "Image: \"seldonio/pachyderm-rsi-server:0.1.0\" with ID \"sha256:ef1b56a691d262700efcf7bc6a696a5ed88393de4ec2fc32c93cb61329d489b3\" not yet present on node \"kind-control-plane\", loading...\n",
      "make -C RSITraining kind_load\n",
      "kind load -v 3 docker-image seldonio/pachyderm-rsi-trainer:0.1.0 --name kind\n",
      "Image: \"seldonio/pachyderm-rsi-trainer:0.1.0\" with ID \"sha256:0cedec68130ecb9ea2eeecba04f90aad3739a74cf957bbd3e8b9da36372b6d7f\" not yet present on node \"kind-control-plane\", loading...\n",
      "make -C RSIDeployer kind_load\n",
      "docker build . -t seldonio/pachyderm-rsi-deployer:0.1.0\n",
      "Sending build context to Docker daemon  11.26kB\n",
      "Step 1/4 : FROM alpine/helm:3.4.2\n",
      " ---> a3b06963e712\n",
      "Step 2/4 : ADD ./charts /charts\n",
      " ---> Using cache\n",
      " ---> 1d14ca7efc8e\n",
      "Step 3/4 : ADD ./deploy.sh /\n",
      " ---> Using cache\n",
      " ---> 4d1813a4e5f6\n",
      "Step 4/4 : ENTRYPOINT [ \"ash\" ]\n",
      " ---> Using cache\n",
      " ---> a56181ccdfbf\n",
      "Successfully built a56181ccdfbf\n",
      "Successfully tagged seldonio/pachyderm-rsi-deployer:0.1.0\n",
      "kind load -v 3 docker-image seldonio/pachyderm-rsi-deployer:0.1.0 --name kind\n",
      "Image: \"seldonio/pachyderm-rsi-deployer:0.1.0\" with ID \"sha256:a56181ccdfbf928fa9e821476396f93f1b9c5ff16a15860122e08f21ee2d6680\" not yet present on node \"kind-control-plane\", loading...\n"
     ]
    }
   ],
   "source": [
    "!make kind_load"
   ]
  },
  {
   "cell_type": "markdown",
   "metadata": {},
   "source": [
    "## 3. Create a Training Pipeline\n",
    "\n",
    "The training pipeline accepts data from a Pachyderm repository, trains a regression forecasting model using the `statsmodels` library, and produces a `joblib` file that holds the model parameters.\n",
    "\n",
    "The pipeline uses a custom container and python file to train the model (which you uploaded in the previous step). I'm not going to show it because it's really straightforward and builds a predictive model based upon an exponentially weighted moving average."
   ]
  },
  {
   "cell_type": "code",
   "execution_count": 11,
   "metadata": {},
   "outputs": [
    {
     "name": "stdout",
     "output_type": "stream",
     "text": [
      "Writing train.json\n"
     ]
    }
   ],
   "source": [
    "%%writefile train.json\n",
    "{\n",
    "  \"pipeline\": {\n",
    "    \"name\": \"rsi_training\"\n",
    "  },\n",
    "  \"description\": \"A pipeline that trains a statsmodels model based on the provided input data.\",\n",
    "  \"transform\": {\n",
    "    \"image\": \"seldonio/pachyderm-rsi-trainer:0.1.0\",\n",
    "    \"cmd\": [\n",
    "      \"python3\",\n",
    "      \"/code/RSITrain.py\",\n",
    "      \"/pfs/rsi_data/rsi.csv\",\n",
    "      \"/pfs/out/model.joblib\"\n",
    "    ]\n",
    "  },\n",
    "  \"parallelism_spec\": {\n",
    "    \"constant\": \"1\"\n",
    "  },\n",
    "  \"input\": {\n",
    "    \"pfs\": {\n",
    "      \"repo\": \"rsi_data\",\n",
    "      \"glob\": \"/\"\n",
    "    }\n",
    "  }\n",
    "}"
   ]
  },
  {
   "cell_type": "code",
   "execution_count": 12,
   "metadata": {},
   "outputs": [],
   "source": [
    "!pachctl create pipeline -f train.json"
   ]
  },
  {
   "cell_type": "markdown",
   "metadata": {},
   "source": [
    "## 4. Create a Custom Seldon Deployment\n",
    "\n",
    "This is where things get interesting. If you are using an sklearn or TF based model, you could use one of the out of the box Seldon servers. But `statsmodels` doesn't have one, and more to the point there is a key piece of functionality missing from the built in containers.\n",
    "\n",
    "Pachyderm exposes the commit hash of the objects in the repository via the `version` field of the S3 API. This isn't supported by KFServing/Seldon yet, so I created a custom container that does just that. This means that the code is slightly longer because of the inclusion of the minio code/library, but I think you should still be able to understand it.\n",
    "\n",
    "In summary, you need to pass the commit hash into the container, then use that to [call the S3 API](https://docs.min.io/docs/python-client-api-reference.html#fget_object), setting the `version` parameter. After that you need to implement the standard [Seldon API](https://docs.seldon.io/projects/seldon-core/en/latest/python/python_component.html), which basically consists of a `predict` function, and make sure it returns the right type (a numpy array).\n",
    "\n",
    "Check out the accompanying video if you want a walkthrough of the code.\n",
    "\n",
    "Finally, this is all wrapped in a helm chart which consists of a `SeldonDeployment` and a `Secret` to store the S3 credentials. The trick here is that I use helm to template the S3 URI and the commit hash of the model that was trained by the pipeline.\n",
    "\n",
    "Again, check out the video for a walkthrough.\n",
    "\n",
    "## 5. Create a Deployment Pipeline\n",
    "\n",
    "At this point you could kick off any old CD pipeline to deploy, but Pachyderm is perfectly capable, and you gain from the tight integration. For example, you could argue that the pipeline definition is static, and can reside in traditional CD systems, but the deployment is dynamic and data driven, so it makes more sense to keep it close to the data.\n",
    "\n",
    "To do this I create a custom deployer container which contains my custom helm chart. Typically you wouldn't need to do this, because your chart is likely to be hosted somewhere, so you can use the standard `alpine/helm` container. But for this demo the chart is local, so I bake it.\n",
    "\n",
    "Also there is a tiny `deploy.sh` script to `helm install` if it doesn't exist, else `helm upgrade`.\n",
    "\n",
    "The key section here is the parameters passed into the deploy script. Here I am hardcoding the master branch from the `rsi_training` repository, and the model name. But the commit hash is a special environmental variable provided to us by Pachyderm, specifying the new commit hash. \n",
    "\n",
    "### Important\n",
    "\n",
    "This is what provides the provenance. At any point in the future, from anywhere in the world, you can deploy an old model using `deploy.sh in_some_namespace from_some_repo and_some_commit`. Beautifully simple and repeatable.\n",
    "\n",
    "Once you run the code below, the `rsi_deploy` pipeline will see that there is a new trained model, then run helm install to deploy the Seldon Deployment. (Lots of deploys!)"
   ]
  },
  {
   "cell_type": "code",
   "execution_count": 13,
   "metadata": {},
   "outputs": [
    {
     "name": "stdout",
     "output_type": "stream",
     "text": [
      "Writing deploy.json\n"
     ]
    }
   ],
   "source": [
    "%%writefile deploy.json\n",
    "{\n",
    "  \"pipeline\": {\n",
    "    \"name\": \"rsi_deploy\"\n",
    "  },\n",
    "  \"description\": \"A pipeline deploys a seldon core model using the most recent model parameters.\",\n",
    "  \"transform\": {\n",
    "    \"image\": \"seldonio/pachyderm-rsi-deployer:0.1.0\",\n",
    "    \"cmd\": [\"/bin/ash\"],\n",
    "    \"stdin\": [\n",
    "      \"/deploy.sh seldon s3://master.rsi_training/model.joblib ${rsi_training_COMMIT}\"\n",
    "    ]\n",
    "  },\n",
    "  \"parallelism_spec\": {\n",
    "    \"constant\": \"1\"\n",
    "  },\n",
    "  \"input\": {\n",
    "    \"pfs\": {\n",
    "      \"repo\": \"rsi_training\",\n",
    "      \"glob\": \"/\"\n",
    "    }\n",
    "  }\n",
    "}"
   ]
  },
  {
   "cell_type": "code",
   "execution_count": 14,
   "metadata": {},
   "outputs": [],
   "source": [
    "!pachctl create pipeline -f deploy.json"
   ]
  },
  {
   "cell_type": "code",
   "execution_count": 15,
   "metadata": {},
   "outputs": [
    {
     "name": "stdout",
     "output_type": "stream",
     "text": [
      "NAME         VERSION INPUT          CREATED            STATE / LAST JOB  DESCRIPTION                                                                    \n",
      "rsi_deploy   1       rsi_training:/ 43 seconds ago     \u001b[32mrunning\u001b[0m / \u001b[32msuccess\u001b[0m A pipeline deploys a seldon core model using the most recent model parameters. \n",
      "rsi_training 1       rsi_data:/     About a minute ago \u001b[32mrunning\u001b[0m / \u001b[32msuccess\u001b[0m A pipeline that trains a statsmodels model based on the provided input data.   \n",
      "ID                               PIPELINE     STARTED        DURATION  RESTART PROGRESS  DL       UL      STATE   \n",
      "f5bb1b2009e0452b806681b7e44e403d rsi_deploy   39 seconds ago 2 seconds 0       1 + 0 / 1 15.9KiB  0B      \u001b[32msuccess\u001b[0m \n",
      "5a45b36d40b74b49832d052b5eae4fe9 rsi_training 53 seconds ago 1 second  0       1 + 0 / 1 1.173KiB 15.9KiB \u001b[32msuccess\u001b[0m \n"
     ]
    }
   ],
   "source": [
    "!pachctl list pipeline\n",
    "!pachctl list job"
   ]
  },
  {
   "cell_type": "markdown",
   "metadata": {},
   "source": [
    "## 6. Call the Initial Model to Predict the Future (pre-COVID)\n",
    "\n",
    "By now you should have a fully operational Seldon Deployment, driven by your initial data commit. But it's worth checking. Often there are resource limit issues or silly things like that. If you have any issues, fix them first."
   ]
  },
  {
   "cell_type": "code",
   "execution_count": 16,
   "metadata": {},
   "outputs": [
    {
     "name": "stdout",
     "output_type": "stream",
     "text": [
      "NAME                                                    READY   STATUS    RESTARTS   AGE\r\n",
      "rsi-predictor-default-0-rsi-predictor-c4d7dfbf6-vm56d   2/2     Running   0          41s\r\n"
     ]
    }
   ],
   "source": [
    "!kubectl -n seldon get po"
   ]
  },
  {
   "cell_type": "markdown",
   "metadata": {},
   "source": [
    "Now it's time to take a look at the data. In this notebook I want to actually show you the data, so I'm going to parse it into a pandas array. Below I create two helper methods to do this.\n",
    "\n",
    "Make sure you've port-forwarded the ingress controller service, or replace localhost with something routable from your machine. For exmaple:\n",
    "\n",
    "```sh\n",
    "kubectl port-forward $(kubectl get pods -n seldon-system -l app.kubernetes.io/name=ambassador -o jsonpath='{.items[0].metadata.name}') -n seldon-system 8080:8080\n",
    "```"
   ]
  },
  {
   "cell_type": "code",
   "execution_count": 19,
   "metadata": {},
   "outputs": [],
   "source": [
    "from urllib import request, parse\n",
    "import json\n",
    "from pprint import pprint\n",
    "\n",
    "def get_predictions(num_periods: int = 6):\n",
    "    data = json.dumps({\"data\":{\"ndarray\": num_periods}}).encode()\n",
    "    req =  request.Request(\"http://localhost:8080/seldon/seldon/rsi-predictor/api/v1.0/predictions\", data=data)\n",
    "    req.add_header('Content-Type', 'application/json')\n",
    "    resp = request.urlopen(req)\n",
    "    print(resp.status)\n",
    "    resp_data = json.loads(resp.read())\n",
    "    pprint(resp_data)\n",
    "    return resp_data[\"data\"][\"ndarray\"]\n",
    "\n",
    "def get_metadata() -> None:\n",
    "    req =  request.Request(\"http://localhost:8080/seldon/seldon/rsi-predictor/api/v1.0/metadata\")\n",
    "    req.add_header('Content-Type', 'application/json')\n",
    "    resp = request.urlopen(req)\n",
    "    print(resp.status)\n",
    "    resp_data = json.loads(resp.read())\n",
    "    pprint(resp_data)"
   ]
  },
  {
   "cell_type": "code",
   "execution_count": 20,
   "metadata": {},
   "outputs": [
    {
     "name": "stdout",
     "output_type": "stream",
     "text": [
      "200\n",
      "{'data': {'names': ['t:0', 't:1'],\n",
      "          'ndarray': [['Sat, 01 Feb 2020 00:00:00 GMT', 104.4494782191445],\n",
      "                      ['Sun, 01 Mar 2020 00:00:00 GMT', 104.69971391672216],\n",
      "                      ['Wed, 01 Apr 2020 00:00:00 GMT', 104.94994961429981],\n",
      "                      ['Fri, 01 May 2020 00:00:00 GMT', 105.20018531187748],\n",
      "                      ['Mon, 01 Jun 2020 00:00:00 GMT', 105.45042100945513],\n",
      "                      ['Wed, 01 Jul 2020 00:00:00 GMT', 105.70065670703278]]},\n",
      " 'meta': {'requestPath': {'rsi-predictor': 'seldonio/pachyderm-rsi-server:0.1.0'}}}\n",
      "200\n",
      "{'graphinputs': [{'messagetype': 'ndarray',\n",
      "                  'schema': {'names': ['periods'], 'shape': [1]}}],\n",
      " 'graphoutputs': [{'messagetype': 'ndarray', 'schema': {'shape': [2]}}],\n",
      " 'models': {'rsi-predictor': {'custom': {'MODEL_COMMIT_HASH': 'ddc86dc43e82428282165617368763ad',\n",
      "                                         'MODEL_URI': 's3://master.rsi_training/model.joblib'},\n",
      "                              'inputs': [{'messagetype': 'ndarray',\n",
      "                                          'schema': {'names': ['periods'],\n",
      "                                                     'shape': [1]}}],\n",
      "                              'name': 'RSIModel',\n",
      "                              'outputs': [{'messagetype': 'ndarray',\n",
      "                                           'schema': {'shape': [2]}}],\n",
      "                              'platform': 'seldon',\n",
      "                              'versions': ['s3://master.rsi_training/model.joblib@ddc86dc43e82428282165617368763ad']}},\n",
      " 'name': 'default'}\n"
     ]
    }
   ],
   "source": [
    "predictions = get_predictions(6)\n",
    "get_metadata()"
   ]
  },
  {
   "cell_type": "markdown",
   "metadata": {},
   "source": [
    "Inspect that data. See how the prediction has returned 6 months into the future. Also note the metadata, which contains the commit hash of the model that generated this prediction. Cool huh! You can tracing predictions back to their model/data.\n",
    "\n",
    "This is implemented as custom metadata. It's not a standard feature of Seldon.\n",
    "\n",
    "Now let me load and plot all the data to see how our notional business is going to do in the future..."
   ]
  },
  {
   "cell_type": "code",
   "execution_count": 21,
   "metadata": {},
   "outputs": [
    {
     "name": "stderr",
     "output_type": "stream",
     "text": [
      "/Users/phil/.pyenv/versions/3.8.1/lib/python3.8/site-packages/pandas/core/arrays/datetimes.py:1266: UserWarning: Converting to PeriodArray/Index representation will drop timezone information.\n",
      "  warnings.warn(\n"
     ]
    },
    {
     "data": {
      "text/plain": [
       "<AxesSubplot:xlabel='0'>"
      ]
     },
     "execution_count": 21,
     "metadata": {},
     "output_type": "execute_result"
    },
    {
     "data": {
      "image/png": "[encoded data removed]",
      "text/plain": [
       "<Figure size 432x288 with 1 Axes>"
      ]
     },
     "metadata": {
      "needs_background": "light"
     },
     "output_type": "display_data"
    }
   ],
   "source": [
    "import pandas as pd\n",
    "\n",
    "rsi = pd.read_csv(\"./data/rsi_before.csv\", index_col=\"Date\", parse_dates=True) # Load data\n",
    "rsi_prediction = pd.DataFrame(predictions).set_index(0) # Move timestamp to index\n",
    "rsi_prediction.index = pd.to_datetime(rsi_prediction.index) # Parse timestamp\n",
    "ax = rsi.plot()\n",
    "rsi_prediction.plot(ax=ax)"
   ]
  },
  {
   "cell_type": "markdown",
   "metadata": {},
   "source": [
    "Not too bad ehy? Minor blip in the last couple of months in 2019, but sentiment continues to be positive...\n",
    "\n",
    "> BUT WAIT...\n",
    "> \n",
    "> WHAT IS... GOING ON...\n",
    "> \n",
    "> WHY...\n",
    "> \n",
    "> UH OH..."
   ]
  },
  {
   "cell_type": "code",
   "execution_count": 22,
   "metadata": {},
   "outputs": [
    {
     "name": "stderr",
     "output_type": "stream",
     "text": [
      "/Users/phil/.pyenv/versions/3.8.1/lib/python3.8/site-packages/pandas/core/arrays/datetimes.py:1266: UserWarning: Converting to PeriodArray/Index representation will drop timezone information.\n",
      "  warnings.warn(\n"
     ]
    },
    {
     "data": {
      "text/plain": [
       "<AxesSubplot:xlabel='0'>"
      ]
     },
     "execution_count": 22,
     "metadata": {},
     "output_type": "execute_result"
    },
    {
     "data": {
      "image/png": "[encoded data removed]",
      "text/plain": [
       "<Figure size 432x288 with 1 Axes>"
      ]
     },
     "metadata": {
      "needs_background": "light"
     },
     "output_type": "display_data"
    }
   ],
   "source": [
    "rsi = pd.read_csv(\"./data/rsi_mid.csv\", index_col=\"Date\", parse_dates=True) # Load more recent data\n",
    "rsi_prediction = pd.DataFrame(predictions).set_index(0)\n",
    "rsi_prediction.index = pd.to_datetime(rsi_prediction.index)\n",
    "ax = rsi.plot()\n",
    "rsi_prediction.plot(ax=ax)"
   ]
  },
  {
   "cell_type": "markdown",
   "metadata": {},
   "source": [
    "## 7. Panic-Driven Manual Deploys Always Fail\n",
    "\n",
    "Yes, Coronavirus happened. It's the latest in a string of many so-called \"1-in-100 year events\" and affected nearly every aspect of life.\n",
    "\n",
    "Thankfully, in our wisdom, we have a pipeline. All we need to do is to stream the data into our training data repository, then watch the deployment bloom. Don't Panic!"
   ]
  },
  {
   "cell_type": "code",
   "execution_count": 23,
   "metadata": {},
   "outputs": [
    {
     "name": "stdout",
     "output_type": "stream",
     "text": [
      "\r",
      "rsi_mid.csv: 1.22 KiB / 1.22 KiB [============================] 100.00% ? p/s 0s\r\n"
     ]
    }
   ],
   "source": [
    "!cd data && pachctl put file rsi_data@master:/rsi.csv -f rsi_mid.csv --overwrite"
   ]
  },
  {
   "cell_type": "code",
   "execution_count": 26,
   "metadata": {},
   "outputs": [
    {
     "name": "stdout",
     "output_type": "stream",
     "text": [
      "NAME         VERSION INPUT          CREATED       STATE / LAST JOB  DESCRIPTION                                                                    \n",
      "rsi_deploy   1       rsi_training:/ 2 minutes ago \u001b[32mrunning\u001b[0m / \u001b[32msuccess\u001b[0m A pipeline deploys a seldon core model using the most recent model parameters. \n",
      "rsi_training 1       rsi_data:/     3 minutes ago \u001b[32mrunning\u001b[0m / \u001b[32msuccess\u001b[0m A pipeline that trains a statsmodels model based on the provided input data.   \n",
      "ID                               PIPELINE     STARTED       DURATION  RESTART PROGRESS  DL       UL       STATE   \n",
      "0c76733e7f42473090d1fead72c28886 rsi_deploy   7 seconds ago 2 seconds 0       1 + 0 / 1 16.23KiB 0B       \u001b[32msuccess\u001b[0m \n",
      "148aa0addfad429a964936fdfa79cd6e rsi_training 9 seconds ago 2 seconds 0       1 + 0 / 1 1.221KiB 16.23KiB \u001b[32msuccess\u001b[0m \n",
      "f5bb1b2009e0452b806681b7e44e403d rsi_deploy   2 minutes ago 2 seconds 0       1 + 0 / 1 15.9KiB  0B       \u001b[32msuccess\u001b[0m \n",
      "5a45b36d40b74b49832d052b5eae4fe9 rsi_training 2 minutes ago 1 second  0       1 + 0 / 1 1.173KiB 15.9KiB  \u001b[32msuccess\u001b[0m \n"
     ]
    }
   ],
   "source": [
    "!pachctl list pipeline\n",
    "!pachctl list job"
   ]
  },
  {
   "cell_type": "code",
   "execution_count": 29,
   "metadata": {},
   "outputs": [
    {
     "name": "stdout",
     "output_type": "stream",
     "text": [
      "200\n",
      "{'graphinputs': [{'messagetype': 'ndarray',\n",
      "                  'schema': {'names': ['periods'], 'shape': [1]}}],\n",
      " 'graphoutputs': [{'messagetype': 'ndarray', 'schema': {'shape': [2]}}],\n",
      " 'models': {'rsi-predictor': {'custom': {'MODEL_COMMIT_HASH': 'fa919b5131474ed6bad092e979263747',\n",
      "                                         'MODEL_URI': 's3://master.rsi_training/model.joblib'},\n",
      "                              'inputs': [{'messagetype': 'ndarray',\n",
      "                                          'schema': {'names': ['periods'],\n",
      "                                                     'shape': [1]}}],\n",
      "                              'name': 'RSIModel',\n",
      "                              'outputs': [{'messagetype': 'ndarray',\n",
      "                                           'schema': {'shape': [2]}}],\n",
      "                              'platform': 'seldon',\n",
      "                              'versions': ['s3://master.rsi_training/model.joblib@fa919b5131474ed6bad092e979263747']}},\n",
      " 'name': 'default'}\n",
      "200\n",
      "{'data': {'names': ['t:0', 't:1'],\n",
      "          'ndarray': [['Fri, 01 May 2020 00:00:00 GMT', 62.0118309430902],\n",
      "                      ['Mon, 01 Jun 2020 00:00:00 GMT', 44.38159802651911],\n",
      "                      ['Wed, 01 Jul 2020 00:00:00 GMT', 26.75136510994801],\n",
      "                      ['Sat, 01 Aug 2020 00:00:00 GMT', 9.121132193376923],\n",
      "                      ['Tue, 01 Sep 2020 00:00:00 GMT', -8.509100723194166],\n",
      "                      ['Thu, 01 Oct 2020 00:00:00 GMT', -26.13933363976527]]},\n",
      " 'meta': {'requestPath': {'rsi-predictor': 'seldonio/pachyderm-rsi-server:0.1.0'}}}\n"
     ]
    }
   ],
   "source": [
    "get_metadata()\n",
    "predictions = get_predictions(6)"
   ]
  },
  {
   "cell_type": "markdown",
   "metadata": {},
   "source": [
    "First, notice the commit hash in the metadata. See that it has changed. Your old model still exists in the repo, but it's not at the tip any more.\n",
    "\n",
    "Secondly, let's look at the predictions now..."
   ]
  },
  {
   "cell_type": "code",
   "execution_count": 30,
   "metadata": {},
   "outputs": [
    {
     "name": "stderr",
     "output_type": "stream",
     "text": [
      "/Users/phil/.pyenv/versions/3.8.1/lib/python3.8/site-packages/pandas/core/arrays/datetimes.py:1266: UserWarning: Converting to PeriodArray/Index representation will drop timezone information.\n",
      "  warnings.warn(\n"
     ]
    },
    {
     "data": {
      "text/plain": [
       "<AxesSubplot:xlabel='0'>"
      ]
     },
     "execution_count": 30,
     "metadata": {},
     "output_type": "execute_result"
    },
    {
     "data": {
      "image/png": "[encoded data removed]",
      "text/plain": [
       "<Figure size 432x288 with 1 Axes>"
      ]
     },
     "metadata": {
      "needs_background": "light"
     },
     "output_type": "display_data"
    }
   ],
   "source": [
    "rsi = pd.read_csv(\"./data/rsi_mid.csv\", index_col=\"Date\", parse_dates=True)\n",
    "rsi_prediction = pd.DataFrame(predictions).set_index(0)\n",
    "rsi_prediction.index = pd.to_datetime(rsi_prediction.index)\n",
    "ax = rsi.plot()\n",
    "rsi_prediction.plot(ax=ax)"
   ]
  },
  {
   "cell_type": "markdown",
   "metadata": {},
   "source": [
    "Oh dear! Negative RSI's that's not right! This highlights that our model isn't fit for purpose any more, but that's a conversation for another day.\n",
    "\n",
    "After some time, we get more data..."
   ]
  },
  {
   "cell_type": "code",
   "execution_count": 31,
   "metadata": {},
   "outputs": [
    {
     "name": "stdout",
     "output_type": "stream",
     "text": [
      "\r",
      "rsi_after.csv: 1.32 KiB / 1.32 KiB [==========================] 100.00% ? p/s 0s\r\n"
     ]
    }
   ],
   "source": [
    "!cd data && pachctl put file rsi_data@master:/rsi.csv -f rsi_after.csv --overwrite"
   ]
  },
  {
   "cell_type": "code",
   "execution_count": 32,
   "metadata": {},
   "outputs": [
    {
     "name": "stdout",
     "output_type": "stream",
     "text": [
      "NAME         VERSION INPUT          CREATED       STATE / LAST JOB  DESCRIPTION                                                                    \n",
      "rsi_deploy   1       rsi_training:/ 3 minutes ago \u001b[32mrunning\u001b[0m / \u001b[32msuccess\u001b[0m A pipeline deploys a seldon core model using the most recent model parameters. \n",
      "rsi_training 1       rsi_data:/     4 minutes ago \u001b[32mrunning\u001b[0m / \u001b[32msuccess\u001b[0m A pipeline that trains a statsmodels model based on the provided input data.   \n",
      "ID                               PIPELINE     STARTED            DURATION  RESTART PROGRESS  DL       UL       STATE   \n",
      "7226ef5d276043f0a4e4b66b0b4e33ee rsi_deploy   6 seconds ago      1 second  0       1 + 0 / 1 16.88KiB 0B       \u001b[32msuccess\u001b[0m \n",
      "35a0a0e4cf964c6cad3db2b71db8c750 rsi_training 8 seconds ago      2 seconds 0       1 + 0 / 1 1.319KiB 16.88KiB \u001b[32msuccess\u001b[0m \n",
      "0c76733e7f42473090d1fead72c28886 rsi_deploy   About a minute ago 2 seconds 0       1 + 0 / 1 16.23KiB 0B       \u001b[32msuccess\u001b[0m \n",
      "148aa0addfad429a964936fdfa79cd6e rsi_training About a minute ago 2 seconds 0       1 + 0 / 1 1.221KiB 16.23KiB \u001b[32msuccess\u001b[0m \n",
      "f5bb1b2009e0452b806681b7e44e403d rsi_deploy   3 minutes ago      2 seconds 0       1 + 0 / 1 15.9KiB  0B       \u001b[32msuccess\u001b[0m \n",
      "5a45b36d40b74b49832d052b5eae4fe9 rsi_training 3 minutes ago      1 second  0       1 + 0 / 1 1.173KiB 15.9KiB  \u001b[32msuccess\u001b[0m \n"
     ]
    }
   ],
   "source": [
    "!pachctl list pipeline\n",
    "!pachctl list job"
   ]
  },
  {
   "cell_type": "code",
   "execution_count": 73,
   "metadata": {},
   "outputs": [
    {
     "name": "stdout",
     "output_type": "stream",
     "text": [
      "200\n",
      "{'graphinputs': [{'messagetype': 'ndarray',\n",
      "                  'schema': {'names': ['periods'], 'shape': [1]}}],\n",
      " 'graphoutputs': [{'messagetype': 'ndarray', 'schema': {'shape': [2]}}],\n",
      " 'models': {'rsi-predictor': {'custom': {'MODEL_COMMIT_HASH': 'db39cf661a934dd7b0a847f35818e745',\n",
      "                                         'MODEL_URI': 's3://master.rsi_training/model.joblib'},\n",
      "                              'inputs': [{'messagetype': 'ndarray',\n",
      "                                          'schema': {'names': ['periods'],\n",
      "                                                     'shape': [1]}}],\n",
      "                              'name': 'RSIModel',\n",
      "                              'outputs': [{'messagetype': 'ndarray',\n",
      "                                           'schema': {'shape': [2]}}],\n",
      "                              'platform': 'seldon',\n",
      "                              'versions': ['s3://master.rsi_training/model.joblib@db39cf661a934dd7b0a847f35818e745']}},\n",
      " 'name': 'default'}\n",
      "200\n",
      "{'data': {'names': ['t:0', 't:1'],\n",
      "          'ndarray': [['Sun, 01 Nov 2020 00:00:00 GMT', 109.28392428909866],\n",
      "                      ['Tue, 01 Dec 2020 00:00:00 GMT', 109.56784859631829],\n",
      "                      ['Fri, 01 Jan 2021 00:00:00 GMT', 109.85177290353789],\n",
      "                      ['Mon, 01 Feb 2021 00:00:00 GMT', 110.1356972107575],\n",
      "                      ['Mon, 01 Mar 2021 00:00:00 GMT', 110.4196215179771],\n",
      "                      ['Thu, 01 Apr 2021 00:00:00 GMT', 110.70354582519673]]},\n",
      " 'meta': {'requestPath': {'rsi-predictor': 'seldonio/pachyderm-rsi-server:0.1.0'}}}\n"
     ]
    }
   ],
   "source": [
    "get_metadata()\n",
    "predictions = get_predictions(6)"
   ]
  },
  {
   "cell_type": "code",
   "execution_count": 74,
   "metadata": {},
   "outputs": [
    {
     "name": "stderr",
     "output_type": "stream",
     "text": [
      "/Users/phil/.pyenv/versions/3.8.1/lib/python3.8/site-packages/pandas/core/arrays/datetimes.py:1266: UserWarning: Converting to PeriodArray/Index representation will drop timezone information.\n",
      "  warnings.warn(\n"
     ]
    },
    {
     "data": {
      "text/plain": [
       "<AxesSubplot:xlabel='0'>"
      ]
     },
     "execution_count": 74,
     "metadata": {},
     "output_type": "execute_result"
    },
    {
     "data": {
      "image/png": "[encoded data removed]",
      "text/plain": [
       "<Figure size 432x288 with 1 Axes>"
      ]
     },
     "metadata": {
      "needs_background": "light"
     },
     "output_type": "display_data"
    }
   ],
   "source": [
    "rsi = pd.read_csv(\"./data/rsi_after.csv\", index_col=\"Date\", parse_dates=True)\n",
    "rsi_prediction = pd.DataFrame(predictions).set_index(0)\n",
    "rsi_prediction.index = pd.to_datetime(rsi_prediction.index)\n",
    "ax = rsi.plot()\n",
    "rsi_prediction.plot(ax=ax)"
   ]
  },
  {
   "cell_type": "markdown",
   "metadata": {},
   "source": [
    "And we're looking ok again. Shaken, but we made it through.\n",
    "\n",
    "## Summary\n",
    "\n",
    "In this example you have encoded the Seldon deployment into a Pachyderm pipeline. This provides clear, simple provenance and lineage between the data (version controlled) and the deployed model (also version controlled).\n",
    "\n",
    "There's an argument to be made that Pachyderm isn't a fully fledged CD system. And that's true, you don't get all of the niceties that they provide. But I like how close the deployment is to the data; it's much easier to reason about end-to-end applications when all the components are close together.\n",
    "\n",
    "Another option is to simply call your CD system from the Pachyderm pipeline, rather than doing the deployment directly. This still gives you the benefit of having data-driven deployments, but at the same time, the rigour of a CD system."
   ]
  }
 ],
 "metadata": {
  "kernelspec": {
   "display_name": "Python 3",
   "language": "python",
   "name": "python3"
  },
  "language_info": {
   "codemirror_mode": {
    "name": "ipython",
    "version": 3
   },
   "file_extension": ".py",
   "mimetype": "text/x-python",
   "name": "python",
   "nbconvert_exporter": "python",
   "pygments_lexer": "ipython3",
   "version": "3.8.1"
  }
 },
 "nbformat": 4,
 "nbformat_minor": 4
}
