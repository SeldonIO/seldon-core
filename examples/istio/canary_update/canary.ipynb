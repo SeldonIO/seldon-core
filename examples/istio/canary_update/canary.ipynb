{
 "cells": [
  {
   "cell_type": "code",
   "execution_count": 16,
   "metadata": {},
   "outputs": [
    {
     "name": "stdout",
     "output_type": "stream",
     "text": [
      "env: ISTIO_HOME=/home/clive/work/istio/istio-0.8.0\n"
     ]
    }
   ],
   "source": [
    "%env ISTIO_HOME=/home/clive/work/istio/istio-0.8.0"
   ]
  },
  {
   "cell_type": "code",
   "execution_count": 20,
   "metadata": {},
   "outputs": [
    {
     "name": "stdout",
     "output_type": "stream",
     "text": [
      "serviceaccount \"tiller\" created\r\n",
      "clusterrolebinding \"tiller\" created\r\n"
     ]
    }
   ],
   "source": [
    "!kubectl create -f ${ISTIO_HOME}/install/kubernetes/helm/helm-service-account.yaml"
   ]
  },
  {
   "cell_type": "code",
   "execution_count": 21,
   "metadata": {},
   "outputs": [
    {
     "name": "stdout",
     "output_type": "stream",
     "text": [
      "$HELM_HOME has been configured at /home/clive/.helm.\n",
      "\n",
      "Tiller (the Helm server-side component) has been installed into your Kubernetes Cluster.\n",
      "Happy Helming!\n"
     ]
    }
   ],
   "source": [
    "!helm init --service-account tiller"
   ]
  },
  {
   "cell_type": "code",
   "execution_count": 23,
   "metadata": {},
   "outputs": [
    {
     "name": "stdout",
     "output_type": "stream",
     "text": [
      "NAME:   istio\n",
      "LAST DEPLOYED: Tue Jun 19 18:45:17 2018\n",
      "NAMESPACE: istio-system\n",
      "STATUS: DEPLOYED\n",
      "\n",
      "RESOURCES:\n",
      "==> v1beta1/CustomResourceDefinition\n",
      "NAME                                   AGE\n",
      "deniers.config.istio.io                45s\n",
      "rbacs.config.istio.io                  45s\n",
      "prometheuses.config.istio.io           45s\n",
      "servicecontrolreports.config.istio.io  45s\n",
      "logentries.config.istio.io             45s\n",
      "listentries.config.istio.io            45s\n",
      "kuberneteses.config.istio.io           45s\n",
      "fluentds.config.istio.io               45s\n",
      "kubernetesenvs.config.istio.io         45s\n",
      "stdios.config.istio.io                 45s\n",
      "circonuses.config.istio.io             45s\n",
      "listcheckers.config.istio.io           45s\n",
      "solarwindses.config.istio.io           45s\n",
      "apikeys.config.istio.io                45s\n",
      "rules.config.istio.io                  45s\n",
      "quotas.config.istio.io                 45s\n",
      "reportnothings.config.istio.io         45s\n",
      "tracespans.config.istio.io             45s\n",
      "serviceroles.config.istio.io           45s\n",
      "servicerolebindings.config.istio.io    45s\n",
      "noops.config.istio.io                  45s\n",
      "opas.config.istio.io                   45s\n",
      "statsds.config.istio.io                45s\n",
      "checknothings.config.istio.io          45s\n",
      "attributemanifests.config.istio.io     45s\n",
      "memquotas.config.istio.io              45s\n",
      "stackdrivers.config.istio.io           45s\n",
      "authorizations.config.istio.io         45s\n",
      "metrics.config.istio.io                45s\n",
      "servicecontrols.config.istio.io        45s\n",
      "routerules.config.istio.io             45s\n",
      "quotaspecbindings.config.istio.io      45s\n",
      "destinationpolicies.config.istio.io    45s\n",
      "egressrules.config.istio.io            45s\n",
      "httpapispecs.config.istio.io           45s\n",
      "quotaspecs.config.istio.io             45s\n",
      "httpapispecbindings.config.istio.io    45s\n",
      "gateways.networking.istio.io           45s\n",
      "destinationrules.networking.istio.io   45s\n",
      "virtualservices.networking.istio.io    45s\n",
      "serviceentries.networking.istio.io     45s\n",
      "policies.authentication.istio.io       45s\n",
      "\n",
      "==> v1beta1/RoleBinding\n",
      "NAME                               AGE\n",
      "istio-cleanup-old-ca-istio-system  45s\n",
      "\n",
      "==> v2beta1/HorizontalPodAutoscaler\n",
      "NAME                  REFERENCE                        TARGETS          MINPODS  MAXPODS  REPLICAS  AGE\n",
      "istio-egressgateway   Deployment/istio-egressgateway   <unknown> / 80%  1        1        1         45s\n",
      "istio-ingress         Deployment/istio-ingress         <unknown> / 80%  1        1        1         45s\n",
      "istio-ingressgateway  Deployment/istio-ingressgateway  <unknown> / 80%  1        1        1         45s\n",
      "\n",
      "==> v1beta1/MutatingWebhookConfiguration\n",
      "NAME                    AGE\n",
      "istio-sidecar-injector  45s\n",
      "\n",
      "==> v1/Pod(related)\n",
      "NAME                                       READY  STATUS             RESTARTS  AGE\n",
      "istio-egressgateway-58d98d898c-ftrxw       1/1    Running            0         45s\n",
      "istio-ingress-6fb78f687f-m4c47             1/1    Running            0         45s\n",
      "istio-ingressgateway-6bc7c7c4bc-km9xn      0/1    ContainerCreating  0         45s\n",
      "istio-telemetry-54b5bf4847-ndp9d           2/2    Running            0         45s\n",
      "istio-policy-5c7fbb4b9f-mdwcl              0/2    ContainerCreating  0         45s\n",
      "istio-statsd-prom-bridge-6dbb7dcc7f-qxhxg  0/1    ContainerCreating  0         45s\n",
      "istio-pilot-6c5c6b586c-xgp4q               0/2    ContainerCreating  0         45s\n",
      "prometheus-586d95b8d9-6wfbj                0/1    ContainerCreating  0         45s\n",
      "istio-citadel-ff5696f6f-78mt5              0/1    ContainerCreating  0         44s\n",
      "istio-sidecar-injector-dbd67c88d-glfbf     0/1    ContainerCreating  0         44s\n",
      "\n",
      "==> v1/ConfigMap\n",
      "NAME                          DATA  AGE\n",
      "istio-statsd-prom-bridge      1     45s\n",
      "istio-mixer-custom-resources  1     45s\n",
      "prometheus                    1     45s\n",
      "istio                         1     45s\n",
      "istio-sidecar-injector        1     45s\n",
      "\n",
      "==> v1/ServiceAccount\n",
      "NAME                                    SECRETS  AGE\n",
      "istio-egressgateway-service-account     1        45s\n",
      "istio-ingress-service-account           1        45s\n",
      "istio-ingressgateway-service-account    1        45s\n",
      "istio-mixer-post-install-account        1        45s\n",
      "istio-mixer-service-account             1        45s\n",
      "istio-pilot-service-account             1        45s\n",
      "prometheus                              1        45s\n",
      "istio-cleanup-old-ca-service-account    1        45s\n",
      "istio-citadel-service-account           1        45s\n",
      "istio-sidecar-injector-service-account  1        45s\n",
      "\n",
      "==> v1beta1/ClusterRole\n",
      "NAME                                   AGE\n",
      "istio-ingress-istio-system             45s\n",
      "istio-mixer-istio-system               45s\n",
      "istio-mixer-post-install-istio-system  45s\n",
      "istio-pilot-istio-system               45s\n",
      "prometheus-istio-system                45s\n",
      "istio-citadel-istio-system             45s\n",
      "istio-sidecar-injector-istio-system    45s\n",
      "\n",
      "==> v1beta1/ClusterRoleBinding\n",
      "NAME                                                    AGE\n",
      "istio-ingress-istio-system                              45s\n",
      "istio-mixer-admin-role-binding-istio-system             45s\n",
      "istio-mixer-post-install-role-binding-istio-system      45s\n",
      "istio-pilot-istio-system                                45s\n",
      "prometheus-istio-system                                 45s\n",
      "istio-citadel-istio-system                              45s\n",
      "istio-sidecar-injector-admin-role-binding-istio-system  45s\n",
      "\n",
      "==> v1beta1/Role\n",
      "NAME                               AGE\n",
      "istio-cleanup-old-ca-istio-system  45s\n",
      "\n",
      "==> v1/Service\n",
      "NAME                      TYPE          CLUSTER-IP      EXTERNAL-IP  PORT(S)                                                              AGE\n",
      "istio-egressgateway       ClusterIP     10.102.213.53   <none>       80/TCP,443/TCP                                                       45s\n",
      "istio-ingress             LoadBalancer  10.106.70.233   <pending>    80:32000/TCP,443:31186/TCP                                           45s\n",
      "istio-ingressgateway      LoadBalancer  10.106.229.108  <pending>    80:31380/TCP,443:31390/TCP,31400:31400/TCP                           45s\n",
      "istio-policy              ClusterIP     10.111.134.24   <none>       9091/TCP,15004/TCP,9093/TCP                                          45s\n",
      "istio-telemetry           ClusterIP     10.98.139.75    <none>       9091/TCP,15004/TCP,9093/TCP,42422/TCP                                45s\n",
      "istio-statsd-prom-bridge  ClusterIP     10.101.127.9    <none>       9102/TCP,9125/UDP                                                    45s\n",
      "istio-pilot               ClusterIP     10.108.21.76    <none>       15003/TCP,15005/TCP,15007/TCP,15010/TCP,15011/TCP,8080/TCP,9093/TCP  45s\n",
      "prometheus                ClusterIP     10.109.91.39    <none>       9090/TCP                                                             45s\n",
      "istio-citadel             ClusterIP     10.98.205.164   <none>       8060/TCP,9093/TCP                                                    45s\n",
      "istio-sidecar-injector    ClusterIP     10.103.0.45     <none>       443/TCP                                                              45s\n",
      "\n",
      "==> v1beta1/Deployment\n",
      "NAME                      DESIRED  CURRENT  UP-TO-DATE  AVAILABLE  AGE\n",
      "istio-egressgateway       1        1        1           1          45s\n",
      "istio-ingress             1        1        1           1          45s\n",
      "istio-ingressgateway      1        1        1           0          45s\n",
      "istio-telemetry           1        1        1           1          45s\n",
      "istio-policy              1        1        1           0          45s\n",
      "istio-statsd-prom-bridge  1        1        1           0          45s\n",
      "istio-pilot               1        1        1           0          45s\n",
      "prometheus                1        1        1           0          45s\n",
      "istio-citadel             1        1        1           0          45s\n",
      "istio-sidecar-injector    1        1        1           0          45s\n",
      "\n",
      "\n"
     ]
    }
   ],
   "source": [
    "!helm install ${ISTIO_HOME}/install/kubernetes/helm/istio --name istio --namespace istio-system \\\n",
    "    --set global.proxy.includeIPRanges=\"10.0.0.1/8\""
   ]
  },
  {
   "cell_type": "code",
   "execution_count": 24,
   "metadata": {},
   "outputs": [
    {
     "name": "stdout",
     "output_type": "stream",
     "text": [
      "service \"grafana\" created\n",
      "deployment \"grafana\" created\n",
      "serviceaccount \"grafana\" created\n"
     ]
    }
   ],
   "source": [
    "!kubectl apply -f ${ISTIO_HOME}/install/kubernetes/addons/grafana.yaml"
   ]
  },
  {
   "cell_type": "markdown",
   "metadata": {},
   "source": [
    "```\n",
    "kubectl -n istio-system port-forward $(kubectl -n istio-system get pod -l app=grafana -o jsonpath='{.items[0].metadata.name}') 3000:3000\n",
    "```\n",
    "http://localhost:3000/dashboard/db/istio-dashboard"
   ]
  },
  {
   "cell_type": "code",
   "execution_count": null,
   "metadata": {},
   "outputs": [],
   "source": [
    "!kubectl create namespace seldon"
   ]
  },
  {
   "cell_type": "code",
   "execution_count": null,
   "metadata": {},
   "outputs": [],
   "source": [
    "!kubectl label namespace seldon istio-injection=enabled"
   ]
  },
  {
   "cell_type": "code",
   "execution_count": 25,
   "metadata": {},
   "outputs": [
    {
     "name": "stdout",
     "output_type": "stream",
     "text": [
      "clusterrole \"ambassador\" created\n",
      "serviceaccount \"ambassador\" created\n",
      "clusterrolebinding \"ambassador\" created\n",
      "service \"ambassador\" created\n",
      "service \"ambassador-admin\" created\n",
      "deployment \"ambassador\" created\n"
     ]
    }
   ],
   "source": [
    "!kubectl apply -f ../../../notebooks/resources/ambassador-rbac.yaml -n seldon"
   ]
  },
  {
   "cell_type": "code",
   "execution_count": 26,
   "metadata": {},
   "outputs": [
    {
     "name": "stdout",
     "output_type": "stream",
     "text": [
      "NAME:   seldon-core-analytics\n",
      "LAST DEPLOYED: Tue Jun 19 18:49:33 2018\n",
      "NAMESPACE: seldon\n",
      "STATUS: DEPLOYED\n",
      "\n",
      "RESOURCES:\n",
      "==> v1/Service\n",
      "NAME                      TYPE       CLUSTER-IP      EXTERNAL-IP  PORT(S)       AGE\n",
      "alertmanager              ClusterIP  10.97.10.96     <none>       80/TCP        1s\n",
      "grafana-prom              NodePort   10.101.14.81    <none>       80:31040/TCP  1s\n",
      "prometheus-node-exporter  ClusterIP  None            <none>       9100/TCP      1s\n",
      "prometheus-seldon         ClusterIP  10.103.146.190  <none>       80/TCP        1s\n",
      "\n",
      "==> v1/Pod(related)\n",
      "NAME                                      READY  STATUS    RESTARTS  AGE\n",
      "grafana-prom-import-dashboards-mp82k      0/2    Init:0/1  0         1s\n",
      "alertmanager-deployment-7fbfdfdfb6-tr8fj  0/2    Init:0/1  0         1s\n",
      "grafana-prom-deployment-7b45fb85d4-htvvh  0/2    Init:0/1  0         1s\n",
      "prometheus-node-exporter-wt5hk            0/1    Pending   0         1s\n",
      "prometheus-deployment-cbfd78cc7-qwxx9     0/2    Pending   0         1s\n",
      "\n",
      "==> v1/ServiceAccount\n",
      "NAME        SECRETS  AGE\n",
      "prometheus  1        1s\n",
      "\n",
      "==> v1beta1/ClusterRole\n",
      "NAME        AGE\n",
      "prometheus  1s\n",
      "\n",
      "==> v1beta1/ClusterRoleBinding\n",
      "NAME        AGE\n",
      "prometheus  1s\n",
      "\n",
      "==> v1/Job\n",
      "NAME                            DESIRED  SUCCESSFUL  AGE\n",
      "grafana-prom-import-dashboards  1        0           1s\n",
      "\n",
      "==> v1beta1/Deployment\n",
      "NAME                     DESIRED  CURRENT  UP-TO-DATE  AVAILABLE  AGE\n",
      "alertmanager-deployment  1        1        1           0          1s\n",
      "grafana-prom-deployment  1        1        1           0          1s\n",
      "prometheus-deployment    1        1        1           0          1s\n",
      "\n",
      "==> v1/Secret\n",
      "NAME                 TYPE    DATA  AGE\n",
      "grafana-prom-secret  Opaque  1     1s\n",
      "\n",
      "==> v1/ConfigMap\n",
      "NAME                       DATA  AGE\n",
      "alertmanager-server-conf   1     1s\n",
      "grafana-import-dashboards  5     1s\n",
      "prometheus-rules           4     1s\n",
      "prometheus-server-conf     1     1s\n",
      "\n",
      "==> v1beta1/DaemonSet\n",
      "NAME                      DESIRED  CURRENT  READY  UP-TO-DATE  AVAILABLE  NODE SELECTOR  AGE\n",
      "prometheus-node-exporter  1        1        0      1           0          <none>         1s\n",
      "\n",
      "\n",
      "NOTES:\n",
      "NOTES: TODO\n",
      "\n",
      "\n"
     ]
    }
   ],
   "source": [
    "!helm install ../../../helm-charts/seldon-core-analytics --name seldon-core-analytics \\\n",
    "    --set grafana_prom_admin_password=password \\\n",
    "    --set persistence.enabled=false \\\n",
    "    --namespace seldon"
   ]
  },
  {
   "cell_type": "markdown",
   "metadata": {},
   "source": [
    "```\n",
    "kubectl port-forward $(kubectl get pods -n seldon -l app=grafana-prom-server -o jsonpath='{.items[0].metadata.name}') -n seldon 3001:3000\n",
    "```\n",
    "\n",
    "http://localhost:3001/dashboard/db/prediction-analytics?refresh=5s&orgId=1"
   ]
  },
  {
   "cell_type": "code",
   "execution_count": 27,
   "metadata": {},
   "outputs": [
    {
     "name": "stdout",
     "output_type": "stream",
     "text": [
      "Context \"minikube\" modified.\r\n"
     ]
    }
   ],
   "source": [
    "!kubectl config set-context $(kubectl config current-context) --namespace=seldon"
   ]
  },
  {
   "cell_type": "code",
   "execution_count": 28,
   "metadata": {},
   "outputs": [],
   "source": [
    "!mkdir -p proto\n",
    "!cp ../../../proto/prediction.proto ./proto\n",
    "!python -m grpc.tools.protoc -I. --python_out=. --grpc_python_out=. ./proto/prediction.proto"
   ]
  },
  {
   "cell_type": "code",
   "execution_count": 35,
   "metadata": {},
   "outputs": [
    {
     "name": "stdout",
     "output_type": "stream",
     "text": [
      "Extracting MNIST_data/train-images-idx3-ubyte.gz\n",
      "Extracting MNIST_data/train-labels-idx1-ubyte.gz\n",
      "Extracting MNIST_data/t10k-images-idx3-ubyte.gz\n",
      "Extracting MNIST_data/t10k-labels-idx1-ubyte.gz\n"
     ]
    }
   ],
   "source": [
    "%matplotlib inline\n",
    "import utils\n",
    "mnist = utils.download_mnist()"
   ]
  },
  {
   "cell_type": "code",
   "execution_count": null,
   "metadata": {},
   "outputs": [],
   "source": [
    "!kubectl create -f mnist_v1.json"
   ]
  },
  {
   "cell_type": "code",
   "execution_count": null,
   "metadata": {},
   "outputs": [],
   "source": [
    "!kubectl get pods"
   ]
  },
  {
   "cell_type": "code",
   "execution_count": 30,
   "metadata": {},
   "outputs": [
    {
     "data": {
      "image/png": "[encoded data removed]",
      "text/plain": [
       "<matplotlib.figure.Figure at 0x7fd526f4d9e8>"
      ]
     },
     "metadata": {},
     "output_type": "display_data"
    },
    {
     "name": "stdout",
     "output_type": "stream",
     "text": [
      "Route:{}\n",
      "{\n",
      "  \"0\": \"0.08\",\n",
      "  \"1\": \"0.10\",\n",
      "  \"2\": \"0.09\",\n",
      "  \"3\": \"0.09\",\n",
      "  \"4\": \"0.12\",\n",
      "  \"5\": \"0.09\",\n",
      "  \"6\": \"0.10\",\n",
      "  \"7\": \"0.11\",\n",
      "  \"8\": \"0.09\",\n",
      "  \"9\": \"0.12\"\n",
      "}\n"
     ]
    }
   ],
   "source": [
    "utils.predict_rest_mnist(mnist,\"mnist-classifier\")"
   ]
  },
  {
   "cell_type": "code",
   "execution_count": 31,
   "metadata": {},
   "outputs": [
    {
     "name": "stdout",
     "output_type": "stream",
     "text": [
      "node \"minikube\" labeled\r\n"
     ]
    }
   ],
   "source": [
    "!kubectl label nodes $(kubectl get nodes -o jsonpath='{.items[0].metadata.name}') role=locust"
   ]
  },
  {
   "cell_type": "code",
   "execution_count": 32,
   "metadata": {},
   "outputs": [
    {
     "name": "stdout",
     "output_type": "stream",
     "text": [
      "NAME:   loadtest\n",
      "LAST DEPLOYED: Tue Jun 19 18:53:23 2018\n",
      "NAMESPACE: seldon\n",
      "STATUS: DEPLOYED\n",
      "\n",
      "RESOURCES:\n",
      "==> v1/Pod(related)\n",
      "NAME                   READY  STATUS    RESTARTS  AGE\n",
      "locust-slave-1-jmjbs   0/2    Init:0/1  0         0s\n",
      "locust-master-1-6xhvd  0/2    Init:0/1  0         0s\n",
      "\n",
      "==> v1/ReplicationController\n",
      "NAME             DESIRED  CURRENT  READY  AGE\n",
      "locust-slave-1   1        1        0      0s\n",
      "locust-master-1  1        1        0      0s\n",
      "\n",
      "==> v1/Service\n",
      "NAME             TYPE      CLUSTER-IP     EXTERNAL-IP  PORT(S)                                       AGE\n",
      "locust-master-1  NodePort  10.102.138.69  <none>       5557:31388/TCP,5558:32352/TCP,8089:30904/TCP  0s\n",
      "\n",
      "\n"
     ]
    }
   ],
   "source": [
    "!helm install seldon-core-loadtesting --name loadtest  \\\n",
    "    --namespace seldon \\\n",
    "    --repo https://storage.googleapis.com/seldon-charts \\\n",
    "    --set locust.script=mnist_rest_locust.py \\\n",
    "    --set locust.host=http://mnist-deployment:8000 \\\n",
    "    --set oauth.enabled=false \\\n",
    "    --set oauth.key=oauth-key \\\n",
    "    --set oauth.secret=oauth-secret \\\n",
    "    --set locust.hatchRate=1 \\\n",
    "    --set locust.clients=1 \\\n",
    "    --set loadtest.sendFeedback=1 \\\n",
    "    --set locust.minWait=0 \\\n",
    "    --set locust.maxWait=0 \\\n",
    "    --set replicaCount=1 \\\n",
    "    --set data.size=784\n"
   ]
  },
  {
   "cell_type": "code",
   "execution_count": null,
   "metadata": {},
   "outputs": [],
   "source": [
    "!pygmentize istio_canary_v1.yaml"
   ]
  },
  {
   "cell_type": "code",
   "execution_count": null,
   "metadata": {},
   "outputs": [],
   "source": [
    "!istioctl create -f istio_canary_v1.yaml"
   ]
  },
  {
   "cell_type": "code",
   "execution_count": null,
   "metadata": {},
   "outputs": [],
   "source": [
    "!kubectl apply -f mnist_v2.json"
   ]
  },
  {
   "cell_type": "code",
   "execution_count": null,
   "metadata": {},
   "outputs": [],
   "source": [
    "for i in range (100):\n",
    "    utils.predict_rest_mnist(mnist,\"mnist-classifier\")"
   ]
  },
  {
   "cell_type": "code",
   "execution_count": 34,
   "metadata": {},
   "outputs": [
    {
     "name": "stdout",
     "output_type": "stream",
     "text": [
      "Updated config virtual-service/seldon/mnist-deployment to revision 3005\r\n",
      "Updated config destination-rule/seldon/mnist-deployment to revision 3006\r\n"
     ]
    }
   ],
   "source": [
    "!istioctl replace -f istio_canary_v2.yaml"
   ]
  },
  {
   "cell_type": "markdown",
   "metadata": {},
   "source": [
    "# Tear Down"
   ]
  },
  {
   "cell_type": "code",
   "execution_count": 15,
   "metadata": {},
   "outputs": [
    {
     "name": "stdout",
     "output_type": "stream",
     "text": [
      "release \"loadtest\" deleted\r\n"
     ]
    }
   ],
   "source": [
    "!helm delete loadtest --purge"
   ]
  },
  {
   "cell_type": "code",
   "execution_count": null,
   "metadata": {},
   "outputs": [],
   "source": []
  }
 ],
 "metadata": {
  "kernelspec": {
   "display_name": "Python 3",
   "language": "python",
   "name": "python3"
  },
  "language_info": {
   "codemirror_mode": {
    "name": "ipython",
    "version": 3
   },
   "file_extension": ".py",
   "mimetype": "text/x-python",
   "name": "python",
   "nbconvert_exporter": "python",
   "pygments_lexer": "ipython3",
   "version": "3.6.4"
  }
 },
 "nbformat": 4,
 "nbformat_minor": 2
}
