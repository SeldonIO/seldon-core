{
 "cells": [
  {
   "cell_type": "markdown",
   "metadata": {},
   "source": [
    "# Canary Deployment with Seldon and Istio"
   ]
  },
  {
   "cell_type": "markdown",
   "metadata": {},
   "source": [
    "## Running this example\n",
    "\n",
    "***This demo needs egress when running the load test to allow MNIST digits to be downloaded. If you want to run the load test then you will need to follow the docs on egress [here](https://istio.io/docs/tasks/traffic-management/egress/#calling-external-services-directly) if you run istio in a way that egress is blocked***"
   ]
  },
  {
   "cell_type": "markdown",
   "metadata": {},
   "source": [
    "## Setup Cluster and Ingress\n",
    "Use the setup notebook to [Setup Cluster](../../seldon_core_setup.ipynb#Setup-Cluster) with [Istio Ingress](../../seldon_core_setup.ipynb#Istio). Instructions [also online](./seldon_core_setup.html)."
   ]
  },
  {
   "cell_type": "markdown",
   "metadata": {},
   "source": [
    "## Setup Istio\n",
    "\n",
    "Ensure you have istio installed. Follow their [docs](https://istio.io/docs)\n",
    "\n",
    "For this example we will create the default istio gateway for seldon which needs to be called `seldon-gateway`. You can supply your own gateway by adding to your SeldonDeployments resources the annotation `seldon.io/istio-gateway` with values the name of your istio gateway."
   ]
  },
  {
   "cell_type": "markdown",
   "metadata": {},
   "source": [
    "Create a gateway for our istio-ingress"
   ]
  },
  {
   "cell_type": "code",
   "execution_count": 19,
   "metadata": {},
   "outputs": [
    {
     "name": "stdout",
     "output_type": "stream",
     "text": [
      "gateway.networking.istio.io/seldon-gateway created\r\n"
     ]
    }
   ],
   "source": [
    "!kubectl create -f ../../../notebooks/resources/seldon-gateway.yaml"
   ]
  },
  {
   "cell_type": "markdown",
   "metadata": {},
   "source": [
    "Label our namespace so istio creates sidecars"
   ]
  },
  {
   "cell_type": "code",
   "execution_count": 20,
   "metadata": {},
   "outputs": [
    {
     "name": "stdout",
     "output_type": "stream",
     "text": [
      "namespace/seldon labeled\r\n"
     ]
    }
   ],
   "source": [
    "!kubectl label namespace seldon istio-injection=enabled"
   ]
  },
  {
   "cell_type": "markdown",
   "metadata": {},
   "source": [
    "If you are using Minikube for your Kubernetes cluster you will need to run as root in a separte terminal:\n",
    "```\n",
    "minikube tunnel\n",
    "```\n",
    "This will allow a LoadBalancer to be simulated on your local machine. "
   ]
  },
  {
   "cell_type": "code",
   "execution_count": 21,
   "metadata": {},
   "outputs": [],
   "source": [
    "INGRESS_HOST=!kubectl -n istio-system get service istio-ingressgateway -o jsonpath='{.status.loadBalancer.ingress[0].ip}'\n",
    "INGRESS_PORT=!kubectl -n istio-system get service istio-ingressgateway -o jsonpath='{.spec.ports[?(@.name==\"http2\")].port}'\n",
    "ISTIO_GATEWAY=INGRESS_HOST[0]+\":\"+INGRESS_PORT[0]"
   ]
  },
  {
   "cell_type": "markdown",
   "metadata": {},
   "source": [
    "Check the istio gateway address"
   ]
  },
  {
   "cell_type": "code",
   "execution_count": 22,
   "metadata": {},
   "outputs": [
    {
     "data": {
      "text/plain": [
       "'10.109.199.85:80'"
      ]
     },
     "execution_count": 22,
     "metadata": {},
     "output_type": "execute_result"
    }
   ],
   "source": [
    "ISTIO_GATEWAY"
   ]
  },
  {
   "cell_type": "markdown",
   "metadata": {},
   "source": [
    "To view the istio traffic you can go to the istio grafana dashboard. In a separate terminal port-forward to it:\n",
    "\n",
    "See their docs [here](https://istio.io/docs/tasks/telemetry/metrics/using-istio-dashboard/)"
   ]
  },
  {
   "cell_type": "markdown",
   "metadata": {},
   "source": [
    "## Start Seldon Core\n",
    "Uset the setup notebook to [Install Seldon Core](../../seldon_core_setup.ipynb#Install-Seldon-Core) with Istio Ingress. Instructions [also online](./seldon_core_setup.html)."
   ]
  },
  {
   "cell_type": "markdown",
   "metadata": {},
   "source": [
    "## Serve Single Model"
   ]
  },
  {
   "cell_type": "code",
   "execution_count": 25,
   "metadata": {},
   "outputs": [],
   "source": [
    "from random import randint,random\n",
    "import json\n",
    "from matplotlib import pyplot as plt\n",
    "import numpy as np\n",
    "from tensorflow.examples.tutorials.mnist import input_data\n",
    "from seldon_core.seldon_client import SeldonClient\n",
    "import seldon_core\n",
    "\n",
    "def gen_image(arr):\n",
    "    two_d = (np.reshape(arr, (28, 28)) * 255).astype(np.uint8)\n",
    "    plt.imshow(two_d,cmap=plt.cm.gray_r, interpolation='nearest')\n",
    "    return plt\n",
    "\n",
    "def download_mnist():\n",
    "    return input_data.read_data_sets(\"MNIST_data/\", one_hot = True)\n",
    "\n",
    "def predict_rest_mnist(mnist,deployment_name,namespace,istio_gateway):\n",
    "    sc = SeldonClient(deployment_name=deployment_name,namespace=namespace,gateway_endpoint=istio_gateway)\n",
    "    batch_xs, batch_ys = mnist.train.next_batch(1)\n",
    "    chosen=0\n",
    "    gen_image(batch_xs[chosen]).show()\n",
    "    data = batch_xs[chosen].reshape((1,784))\n",
    "    features = [\"X\"+str(i+1) for i in range (0,784)]  \n",
    "    r = sc.predict(gateway=\"istio\",transport=\"rest\",shape=(1,784),data=data,payload_type='ndarray',names=features)\n",
    "    predictions = seldon_core.utils.seldon_message_to_json(r.response)\n",
    "    print(predictions)\n",
    "    #print(\"Route:\"+json.dumps(predictions[\"meta\"][\"routing\"],indent=2))\n",
    "    fpreds = [ '%.2f' % elem for elem in predictions[\"data\"][\"ndarray\"][0] ]\n",
    "    m = dict(zip(predictions[\"data\"][\"names\"],fpreds))\n",
    "    print(json.dumps(m,indent=2))\n"
   ]
  },
  {
   "cell_type": "code",
   "execution_count": 26,
   "metadata": {},
   "outputs": [
    {
     "name": "stdout",
     "output_type": "stream",
     "text": [
      "Extracting MNIST_data/train-images-idx3-ubyte.gz\n",
      "Extracting MNIST_data/train-labels-idx1-ubyte.gz\n",
      "Extracting MNIST_data/t10k-images-idx3-ubyte.gz\n",
      "Extracting MNIST_data/t10k-labels-idx1-ubyte.gz\n"
     ]
    }
   ],
   "source": [
    "%matplotlib inline\n",
    "from visualizer import get_graph\n",
    "mnist = download_mnist()"
   ]
  },
  {
   "cell_type": "code",
   "execution_count": 27,
   "metadata": {},
   "outputs": [
    {
     "name": "stdout",
     "output_type": "stream",
     "text": [
      "seldondeployment.machinelearning.seldon.io/mnist-classifier created\r\n"
     ]
    }
   ],
   "source": [
    "!kubectl apply -f mnist_v1.json"
   ]
  },
  {
   "cell_type": "code",
   "execution_count": 28,
   "metadata": {},
   "outputs": [
    {
     "name": "stdout",
     "output_type": "stream",
     "text": [
      "deployment \"mnist-deployment-sk-mnist-predictor-73d7608\" successfully rolled out\r\n"
     ]
    }
   ],
   "source": [
    "!kubectl rollout status deploy/mnist-deployment-sk-mnist-predictor-73d7608"
   ]
  },
  {
   "cell_type": "code",
   "execution_count": 29,
   "metadata": {},
   "outputs": [
    {
     "data": {
      "image/png": "[encoded data removed]",
      "text/plain": [
       "<Figure size 432x288 with 1 Axes>"
      ]
     },
     "metadata": {
      "needs_background": "light"
     },
     "output_type": "display_data"
    },
    {
     "name": "stdout",
     "output_type": "stream",
     "text": [
      "{'meta': {'puid': 'nn5g30lmmgj5sqg1etdcbi4695', 'requestPath': {'sk-mnist-classifier': 'seldonio/sk-example-mnist:0.2'}}, 'data': {'names': ['class:0', 'class:1', 'class:2', 'class:3', 'class:4', 'class:5', 'class:6', 'class:7', 'class:8', 'class:9'], 'ndarray': [[0.0, 1.0, 0.0, 0.0, 0.0, 0.0, 0.0, 0.0, 0.0, 0.0]]}}\n",
      "{\n",
      "  \"class:0\": \"0.00\",\n",
      "  \"class:1\": \"1.00\",\n",
      "  \"class:2\": \"0.00\",\n",
      "  \"class:3\": \"0.00\",\n",
      "  \"class:4\": \"0.00\",\n",
      "  \"class:5\": \"0.00\",\n",
      "  \"class:6\": \"0.00\",\n",
      "  \"class:7\": \"0.00\",\n",
      "  \"class:8\": \"0.00\",\n",
      "  \"class:9\": \"0.00\"\n",
      "}\n"
     ]
    }
   ],
   "source": [
    "predict_rest_mnist(mnist,\"mnist-classifier\",\"seldon\",ISTIO_GATEWAY)"
   ]
  },
  {
   "cell_type": "markdown",
   "metadata": {},
   "source": [
    "## Start a Load Test"
   ]
  },
  {
   "cell_type": "code",
   "execution_count": 34,
   "metadata": {},
   "outputs": [
    {
     "name": "stdout",
     "output_type": "stream",
     "text": [
      "node/minikube labeled\r\n"
     ]
    }
   ],
   "source": [
    "!kubectl label nodes $(kubectl get nodes -o jsonpath='{.items[0].metadata.name}') role=locust"
   ]
  },
  {
   "cell_type": "code",
   "execution_count": 44,
   "metadata": {},
   "outputs": [
    {
     "name": "stdout",
     "output_type": "stream",
     "text": [
      "NAME:   loadtest\n",
      "LAST DEPLOYED: Sun Jun 30 16:23:57 2019\n",
      "NAMESPACE: seldon\n",
      "STATUS: DEPLOYED\n",
      "\n",
      "RESOURCES:\n",
      "==> v1/Pod(related)\n",
      "NAME                   READY  STATUS       RESTARTS  AGE\n",
      "locust-master-1-mblc6  0/2    Init:0/1     0         1s\n",
      "locust-master-1-trgc5  0/2    Terminating  0         85s\n",
      "locust-slave-1-jgqp2   0/2    Init:0/1     0         1s\n",
      "locust-slave-1-mdgxc   0/2    Terminating  0         85s\n",
      "\n",
      "==> v1/ReplicationController\n",
      "NAME             DESIRED  CURRENT  READY  AGE\n",
      "locust-master-1  1        1        0      1s\n",
      "locust-slave-1   1        1        0      1s\n",
      "\n",
      "==> v1/Service\n",
      "NAME             TYPE      CLUSTER-IP     EXTERNAL-IP  PORT(S)                                       AGE\n",
      "locust-master-1  NodePort  10.98.215.152  <none>       5557:31305/TCP,5558:31110/TCP,8089:31793/TCP  1s\n",
      "\n",
      "\n"
     ]
    }
   ],
   "source": [
    "!helm install ../../../helm-charts/seldon-core-loadtesting --name loadtest  \\\n",
    "    --namespace seldon \\\n",
    "    --repo https://storage.googleapis.com/seldon-charts \\\n",
    "    --set locust.script=mnist_rest_locust.py \\\n",
    "    --set locust.host=http://{ISTIO_GATEWAY} \\\n",
    "    --set rest.pathPrefix=/seldon/seldon/mnist-classifier \\\n",
    "    --set oauth.enabled=false \\\n",
    "    --set oauth.key=oauth-key \\\n",
    "    --set oauth.secret=oauth-secret \\\n",
    "    --set locust.hatchRate=1 \\\n",
    "    --set locust.clients=1 \\\n",
    "    --set loadtest.sendFeedback=1 \\\n",
    "    --set locust.minWait=0 \\\n",
    "    --set locust.maxWait=0 \\\n",
    "    --set replicaCount=1 \\\n",
    "    --set data.size=784\n"
   ]
  },
  {
   "cell_type": "markdown",
   "metadata": {},
   "source": [
    "Now we will add a canary and split traffic 75% to 25% to it. This is done by adding a new predictor to the SeldonDeployment and specifying the traffic values."
   ]
  },
  {
   "cell_type": "code",
   "execution_count": 40,
   "metadata": {},
   "outputs": [
    {
     "name": "stdout",
     "output_type": "stream",
     "text": [
      "{\r\n",
      "    \u001b[34;01m\"apiVersion\"\u001b[39;49;00m: \u001b[33m\"machinelearning.seldon.io/v1alpha2\"\u001b[39;49;00m,\r\n",
      "    \u001b[34;01m\"kind\"\u001b[39;49;00m: \u001b[33m\"SeldonDeployment\"\u001b[39;49;00m,\r\n",
      "    \u001b[34;01m\"metadata\"\u001b[39;49;00m: {\r\n",
      "        \u001b[34;01m\"labels\"\u001b[39;49;00m: {\r\n",
      "            \u001b[34;01m\"app\"\u001b[39;49;00m: \u001b[33m\"seldon\"\u001b[39;49;00m\r\n",
      "        },\r\n",
      "        \u001b[34;01m\"name\"\u001b[39;49;00m: \u001b[33m\"mnist-classifier\"\u001b[39;49;00m\r\n",
      "    },\r\n",
      "    \u001b[34;01m\"spec\"\u001b[39;49;00m: {\r\n",
      "        \u001b[34;01m\"annotations\"\u001b[39;49;00m: {\r\n",
      "            \u001b[34;01m\"project_name\"\u001b[39;49;00m: \u001b[33m\"Mnist classification\"\u001b[39;49;00m\r\n",
      "        },\r\n",
      "        \u001b[34;01m\"name\"\u001b[39;49;00m: \u001b[33m\"mnist-deployment\"\u001b[39;49;00m,\r\n",
      "        \u001b[34;01m\"predictors\"\u001b[39;49;00m: [\r\n",
      "            {\r\n",
      "                \u001b[34;01m\"componentSpecs\"\u001b[39;49;00m: [{\r\n",
      "                    \u001b[34;01m\"spec\"\u001b[39;49;00m: {\r\n",
      "                        \u001b[34;01m\"containers\"\u001b[39;49;00m: [\r\n",
      "                            {\r\n",
      "                                \u001b[34;01m\"image\"\u001b[39;49;00m: \u001b[33m\"seldonio/sk-example-mnist:0.2\"\u001b[39;49;00m,\r\n",
      "                                \u001b[34;01m\"imagePullPolicy\"\u001b[39;49;00m: \u001b[33m\"IfNotPresent\"\u001b[39;49;00m,\r\n",
      "                                \u001b[34;01m\"name\"\u001b[39;49;00m: \u001b[33m\"sk-mnist-classifier\"\u001b[39;49;00m,\r\n",
      "                                \u001b[34;01m\"resources\"\u001b[39;49;00m: {\r\n",
      "                                    \u001b[34;01m\"requests\"\u001b[39;49;00m: {\r\n",
      "                                        \u001b[34;01m\"memory\"\u001b[39;49;00m: \u001b[33m\"1Mi\"\u001b[39;49;00m\r\n",
      "                                    }\r\n",
      "                                }\r\n",
      "                            }\r\n",
      "                        ],\r\n",
      "                        \u001b[34;01m\"terminationGracePeriodSeconds\"\u001b[39;49;00m: \u001b[34m1\u001b[39;49;00m\r\n",
      "                    }\r\n",
      "                }],\r\n",
      "                \u001b[34;01m\"graph\"\u001b[39;49;00m: {\r\n",
      "                    \u001b[34;01m\"children\"\u001b[39;49;00m: [],\r\n",
      "                    \u001b[34;01m\"name\"\u001b[39;49;00m: \u001b[33m\"sk-mnist-classifier\"\u001b[39;49;00m,\r\n",
      "                    \u001b[34;01m\"endpoint\"\u001b[39;49;00m: {\r\n",
      "                        \u001b[34;01m\"type\"\u001b[39;49;00m : \u001b[33m\"REST\"\u001b[39;49;00m\r\n",
      "                    },\r\n",
      "                    \u001b[34;01m\"type\"\u001b[39;49;00m: \u001b[33m\"MODEL\"\u001b[39;49;00m\r\n",
      "                },\r\n",
      "                \u001b[34;01m\"name\"\u001b[39;49;00m: \u001b[33m\"sk-mnist-predictor\"\u001b[39;49;00m,\r\n",
      "                \u001b[34;01m\"replicas\"\u001b[39;49;00m: \u001b[34m1\u001b[39;49;00m,\r\n",
      "\t\t\u001b[34;01m\"labels\"\u001b[39;49;00m:{\r\n",
      "\t\t    \u001b[34;01m\"version\"\u001b[39;49;00m:\u001b[33m\"v1\"\u001b[39;49;00m\r\n",
      "\t\t},\r\n",
      "\t\t\u001b[34;01m\"traffic\"\u001b[39;49;00m: \u001b[34m75\u001b[39;49;00m\r\n",
      "            },\r\n",
      "            {\r\n",
      "                \u001b[34;01m\"componentSpecs\"\u001b[39;49;00m: [{\r\n",
      "                    \u001b[34;01m\"spec\"\u001b[39;49;00m: {\r\n",
      "                        \u001b[34;01m\"containers\"\u001b[39;49;00m: [\r\n",
      "                            {\r\n",
      "                                \u001b[34;01m\"image\"\u001b[39;49;00m: \u001b[33m\"seldonio/tf-example-mnist:0.1\"\u001b[39;49;00m,\r\n",
      "                                \u001b[34;01m\"imagePullPolicy\"\u001b[39;49;00m: \u001b[33m\"IfNotPresent\"\u001b[39;49;00m,\r\n",
      "                                \u001b[34;01m\"name\"\u001b[39;49;00m: \u001b[33m\"tf-mnist-classifier\"\u001b[39;49;00m,\r\n",
      "                                \u001b[34;01m\"resources\"\u001b[39;49;00m: {\r\n",
      "                                    \u001b[34;01m\"requests\"\u001b[39;49;00m: {\r\n",
      "                                        \u001b[34;01m\"memory\"\u001b[39;49;00m: \u001b[33m\"1Mi\"\u001b[39;49;00m\r\n",
      "                                    }\r\n",
      "                                }\r\n",
      "                            }\r\n",
      "                        ],\r\n",
      "                        \u001b[34;01m\"terminationGracePeriodSeconds\"\u001b[39;49;00m: \u001b[34m1\u001b[39;49;00m\r\n",
      "                    }\r\n",
      "                }],\r\n",
      "                \u001b[34;01m\"graph\"\u001b[39;49;00m: {\r\n",
      "                    \u001b[34;01m\"children\"\u001b[39;49;00m: [],\r\n",
      "                    \u001b[34;01m\"name\"\u001b[39;49;00m: \u001b[33m\"tf-mnist-classifier\"\u001b[39;49;00m,\r\n",
      "                    \u001b[34;01m\"endpoint\"\u001b[39;49;00m: {\r\n",
      "                        \u001b[34;01m\"type\"\u001b[39;49;00m : \u001b[33m\"REST\"\u001b[39;49;00m\r\n",
      "                    },\r\n",
      "                    \u001b[34;01m\"type\"\u001b[39;49;00m: \u001b[33m\"MODEL\"\u001b[39;49;00m\r\n",
      "                },\r\n",
      "                \u001b[34;01m\"name\"\u001b[39;49;00m: \u001b[33m\"tf-mnist-predictor\"\u001b[39;49;00m,\r\n",
      "                \u001b[34;01m\"replicas\"\u001b[39;49;00m: \u001b[34m1\u001b[39;49;00m,\r\n",
      "\t\t\u001b[34;01m\"labels\"\u001b[39;49;00m:{\r\n",
      "\t\t    \u001b[34;01m\"version\"\u001b[39;49;00m:\u001b[33m\"v2\"\u001b[39;49;00m\r\n",
      "\t\t},\r\n",
      "\t\t\u001b[34;01m\"traffic\"\u001b[39;49;00m: \u001b[34m25\u001b[39;49;00m\r\n",
      "            }\r\n",
      "\t    \r\n",
      "        ]\r\n",
      "    }\r\n",
      "}\r\n"
     ]
    }
   ],
   "source": [
    "!pygmentize mnist_v2.json"
   ]
  },
  {
   "cell_type": "code",
   "execution_count": 41,
   "metadata": {},
   "outputs": [
    {
     "data": {
      "image/svg+xml": [
       "<?xml version=\"1.0\" encoding=\"UTF-8\" standalone=\"no\"?>\n",
       "<!DOCTYPE svg PUBLIC \"-//W3C//DTD SVG 1.1//EN\"\n",
       " \"http://www.w3.org/Graphics/SVG/1.1/DTD/svg11.dtd\">\n",
       "<!-- Generated by graphviz version 2.38.0 (20140413.2041)\n",
       " -->\n",
       "<!-- Title: %3 Pages: 1 -->\n",
       "<svg width=\"296pt\" height=\"171pt\"\n",
       " viewBox=\"0.00 0.00 296.00 171.00\" xmlns=\"http://www.w3.org/2000/svg\" xmlns:xlink=\"http://www.w3.org/1999/xlink\">\n",
       "<g id=\"graph0\" class=\"graph\" transform=\"scale(1 1) rotate(0) translate(4 167)\">\n",
       "<title>%3</title>\n",
       "<polygon fill=\"white\" stroke=\"none\" points=\"-4,4 -4,-167 292,-167 292,4 -4,4\"/>\n",
       "<g id=\"clust1\" class=\"cluster\"><title>cluster_0</title>\n",
       "<polygon fill=\"none\" stroke=\"black\" points=\"8,-8 8,-155 142,-155 142,-8 8,-8\"/>\n",
       "<text text-anchor=\"middle\" x=\"75\" y=\"-139.8\" font-family=\"Times,serif\" font-size=\"14.00\">predictor</text>\n",
       "</g>\n",
       "<g id=\"clust2\" class=\"cluster\"><title>cluster_1</title>\n",
       "<polygon fill=\"none\" stroke=\"black\" points=\"150,-8 150,-155 280,-155 280,-8 150,-8\"/>\n",
       "<text text-anchor=\"middle\" x=\"215\" y=\"-139.8\" font-family=\"Times,serif\" font-size=\"14.00\">canary</text>\n",
       "</g>\n",
       "<!-- sk&#45;mnist&#45;classifier0 -->\n",
       "<g id=\"node1\" class=\"node\"><title>sk&#45;mnist&#45;classifier0</title>\n",
       "<polygon fill=\"none\" stroke=\"black\" points=\"133.5,-124 16.5,-124 16.5,-88 133.5,-88 133.5,-124\"/>\n",
       "<text text-anchor=\"middle\" x=\"75\" y=\"-102.3\" font-family=\"Times,serif\" font-size=\"14.00\">sk&#45;mnist&#45;classifier</text>\n",
       "</g>\n",
       "<!-- sk&#45;mnist&#45;classifier0endpoint -->\n",
       "<g id=\"node2\" class=\"node\"><title>sk&#45;mnist&#45;classifier0endpoint</title>\n",
       "<ellipse fill=\"none\" stroke=\"black\" cx=\"75\" cy=\"-34\" rx=\"32.4942\" ry=\"18\"/>\n",
       "<text text-anchor=\"middle\" x=\"75\" y=\"-30.3\" font-family=\"Times,serif\" font-size=\"14.00\">REST</text>\n",
       "</g>\n",
       "<!-- sk&#45;mnist&#45;classifier0&#45;&gt;sk&#45;mnist&#45;classifier0endpoint -->\n",
       "<g id=\"edge1\" class=\"edge\"><title>sk&#45;mnist&#45;classifier0&#45;&gt;sk&#45;mnist&#45;classifier0endpoint</title>\n",
       "<path fill=\"none\" stroke=\"black\" d=\"M75,-87.6966C75,-79.9827 75,-70.7125 75,-62.1124\"/>\n",
       "<polygon fill=\"black\" stroke=\"black\" points=\"78.5001,-62.1043 75,-52.1043 71.5001,-62.1044 78.5001,-62.1043\"/>\n",
       "</g>\n",
       "<!-- tf&#45;mnist&#45;classifier1 -->\n",
       "<g id=\"node3\" class=\"node\"><title>tf&#45;mnist&#45;classifier1</title>\n",
       "<polygon fill=\"none\" stroke=\"black\" points=\"271.5,-124 158.5,-124 158.5,-88 271.5,-88 271.5,-124\"/>\n",
       "<text text-anchor=\"middle\" x=\"215\" y=\"-102.3\" font-family=\"Times,serif\" font-size=\"14.00\">tf&#45;mnist&#45;classifier</text>\n",
       "</g>\n",
       "<!-- tf&#45;mnist&#45;classifier1endpoint -->\n",
       "<g id=\"node4\" class=\"node\"><title>tf&#45;mnist&#45;classifier1endpoint</title>\n",
       "<ellipse fill=\"none\" stroke=\"black\" cx=\"215\" cy=\"-34\" rx=\"32.4942\" ry=\"18\"/>\n",
       "<text text-anchor=\"middle\" x=\"215\" y=\"-30.3\" font-family=\"Times,serif\" font-size=\"14.00\">REST</text>\n",
       "</g>\n",
       "<!-- tf&#45;mnist&#45;classifier1&#45;&gt;tf&#45;mnist&#45;classifier1endpoint -->\n",
       "<g id=\"edge2\" class=\"edge\"><title>tf&#45;mnist&#45;classifier1&#45;&gt;tf&#45;mnist&#45;classifier1endpoint</title>\n",
       "<path fill=\"none\" stroke=\"black\" d=\"M215,-87.6966C215,-79.9827 215,-70.7125 215,-62.1124\"/>\n",
       "<polygon fill=\"black\" stroke=\"black\" points=\"218.5,-62.1043 215,-52.1043 211.5,-62.1044 218.5,-62.1043\"/>\n",
       "</g>\n",
       "</g>\n",
       "</svg>\n"
      ],
      "text/plain": [
       "<graphviz.dot.Digraph at 0x7f28fc35acc0>"
      ]
     },
     "execution_count": 41,
     "metadata": {},
     "output_type": "execute_result"
    }
   ],
   "source": [
    "get_graph(\"mnist_v2.json\")"
   ]
  },
  {
   "cell_type": "code",
   "execution_count": 42,
   "metadata": {},
   "outputs": [
    {
     "name": "stdout",
     "output_type": "stream",
     "text": [
      "seldondeployment.machinelearning.seldon.io/mnist-classifier configured\r\n"
     ]
    }
   ],
   "source": [
    "!kubectl apply -f mnist_v2.json"
   ]
  },
  {
   "cell_type": "code",
   "execution_count": 45,
   "metadata": {},
   "outputs": [
    {
     "data": {
      "image/png": "[encoded data removed]",
      "text/plain": [
       "<Figure size 432x288 with 1 Axes>"
      ]
     },
     "metadata": {
      "needs_background": "light"
     },
     "output_type": "display_data"
    },
    {
     "name": "stdout",
     "output_type": "stream",
     "text": [
      "{'meta': {'puid': 'pii2cg6n9gpke7gag6etkuj4cv', 'requestPath': {'sk-mnist-classifier': 'seldonio/sk-example-mnist:0.2'}}, 'data': {'names': ['class:0', 'class:1', 'class:2', 'class:3', 'class:4', 'class:5', 'class:6', 'class:7', 'class:8', 'class:9'], 'ndarray': [[0.0, 0.0, 0.03333333333333333, 0.8666666666666667, 0.0, 0.06666666666666667, 0.0, 0.0, 0.03333333333333333, 0.0]]}}\n",
      "{\n",
      "  \"class:0\": \"0.00\",\n",
      "  \"class:1\": \"0.00\",\n",
      "  \"class:2\": \"0.03\",\n",
      "  \"class:3\": \"0.87\",\n",
      "  \"class:4\": \"0.00\",\n",
      "  \"class:5\": \"0.07\",\n",
      "  \"class:6\": \"0.00\",\n",
      "  \"class:7\": \"0.00\",\n",
      "  \"class:8\": \"0.03\",\n",
      "  \"class:9\": \"0.00\"\n",
      "}\n"
     ]
    }
   ],
   "source": [
    "predict_rest_mnist(mnist,\"mnist-classifier\",\"seldon\",ISTIO_GATEWAY)"
   ]
  },
  {
   "cell_type": "markdown",
   "metadata": {},
   "source": [
    "You should see traffic being split on the Istio service dashboard for the mnist-classifier.\n",
    "\n",
    "![skpredictor](sk-predictor.png)\n",
    "\n"
   ]
  },
  {
   "cell_type": "markdown",
   "metadata": {},
   "source": [
    "![tfpredictor](tf-predictor.png)"
   ]
  },
  {
   "cell_type": "markdown",
   "metadata": {},
   "source": [
    "When you are happy the canary is ok you can promote to full traffic."
   ]
  },
  {
   "cell_type": "code",
   "execution_count": 46,
   "metadata": {},
   "outputs": [
    {
     "name": "stdout",
     "output_type": "stream",
     "text": [
      "seldondeployment.machinelearning.seldon.io/mnist-classifier configured\r\n"
     ]
    }
   ],
   "source": [
    "!kubectl apply -f mnist_v3.json"
   ]
  },
  {
   "cell_type": "code",
   "execution_count": 102,
   "metadata": {},
   "outputs": [
    {
     "data": {
      "image/png": "[encoded data removed]",
      "text/plain": [
       "<Figure size 432x288 with 1 Axes>"
      ]
     },
     "metadata": {
      "needs_background": "light"
     },
     "output_type": "display_data"
    },
    {
     "name": "stdout",
     "output_type": "stream",
     "text": [
      "<Response [200]>\n",
      "Route:{}\n",
      "{\n",
      "  \"class:0\": \"0.00\",\n",
      "  \"class:1\": \"0.00\",\n",
      "  \"class:2\": \"0.01\",\n",
      "  \"class:3\": \"0.11\",\n",
      "  \"class:4\": \"0.00\",\n",
      "  \"class:5\": \"0.04\",\n",
      "  \"class:6\": \"0.00\",\n",
      "  \"class:7\": \"0.00\",\n",
      "  \"class:8\": \"0.84\",\n",
      "  \"class:9\": \"0.00\"\n",
      "}\n"
     ]
    }
   ],
   "source": [
    "predict_rest_mnist(mnist,\"mnist-classifier\",\"seldon\",ISTIO_GATEWAY)"
   ]
  },
  {
   "cell_type": "markdown",
   "metadata": {},
   "source": [
    "You should now see all traffic transfer to the canary.\n",
    "\n",
    "![sk-preditor2](sk-predictor2.png)\n",
    "\n",
    "![tf-preditor2](tf-predictor2.png)"
   ]
  },
  {
   "cell_type": "code",
   "execution_count": null,
   "metadata": {},
   "outputs": [],
   "source": []
  }
 ],
 "metadata": {
  "anaconda-cloud": {},
  "kernelspec": {
   "display_name": "Python 3",
   "language": "python",
   "name": "python3"
  },
  "language_info": {
   "codemirror_mode": {
    "name": "ipython",
    "version": 3
   },
   "file_extension": ".py",
   "mimetype": "text/x-python",
   "name": "python",
   "nbconvert_exporter": "python",
   "pygments_lexer": "ipython3",
   "version": "3.7.5"
  },
  "varInspector": {
   "cols": {
    "lenName": 16,
    "lenType": 16,
    "lenVar": 40
   },
   "kernels_config": {
    "python": {
     "delete_cmd_postfix": "",
     "delete_cmd_prefix": "del ",
     "library": "var_list.py",
     "varRefreshCmd": "print(var_dic_list())"
    },
    "r": {
     "delete_cmd_postfix": ") ",
     "delete_cmd_prefix": "rm(",
     "library": "var_list.r",
     "varRefreshCmd": "cat(var_dic_list()) "
    }
   },
   "types_to_exclude": [
    "module",
    "function",
    "builtin_function_or_method",
    "instance",
    "_Feature"
   ],
   "window_display": false
  }
 },
 "nbformat": 4,
 "nbformat_minor": 1
}
