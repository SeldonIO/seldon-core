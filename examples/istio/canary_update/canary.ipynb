{
 "cells": [
  {
   "cell_type": "markdown",
   "metadata": {},
   "source": [
    "# Canary Models with Seldon and Istio\n",
    "\n",
    "This folder provides resources to illustrate how to do a canary\troll out of one\tMNIST model to another using the canary\tpattern where a small amount\tof traffic is sent to the new model to validate\tit before sending all traffic to the new model.\n",
    "\n",
    "We utilize two MNIST digit classification models. \n",
    "\n",
    " * Version 1 of the model using scikit-learn\n",
    " * Version 2 of the model using Tensorflow.\n",
    " \n",
    "After deploying Istio and Seldon to a kubernetes cluster we will:\n",
    "\n",
    " * Deploy version 1 scikit-learn based model using seldon-core\n",
    " * Create an istio routing rule to direct all traffic to this version\n",
    " * Create a canary deployment with both version 1 and version 2 (the Tensorflow model)\n",
    " * Update the istio routing to send 10% of the traffic to version 2\n",
    " * Update the istio routing to send 100% of the traffic to version 2\n",
    " \n",
    " "
   ]
  },
  {
   "cell_type": "markdown",
   "metadata": {},
   "source": [
    "## Setup\n",
    "\n",
    "The steps below will install istio and seldon onto a GKE Cluster. If you wish to use your own setup then you need to ensure\n",
    "\n",
    " * You allow istio egress to the internet as the load test downloads MNIST images\n",
    " * Ensure you give your user cluster-admin privledges\n",
    " * Install seldon into a namespace seldon\n",
    " \n",
    "To follow the steps below you will need:\n",
    " \n",
    "  * a Google project running a K8S cluster\n",
    "  * gcloud and kubectl installed with kubectl authorized for your cluster\n",
    "  * [istio download](https://github.com/istio/istio/releases/)"
   ]
  },
  {
   "cell_type": "markdown",
   "metadata": {},
   "source": [
    "## Setup Environment Variables"
   ]
  },
  {
   "cell_type": "code",
   "execution_count": 5,
   "metadata": {},
   "outputs": [
    {
     "name": "stdout",
     "output_type": "stream",
     "text": [
      "env: ISTIO_HOME=/home/clive/work/istio/istio-1.0.6\n"
     ]
    }
   ],
   "source": [
    "# Set this to your istio download folder, e.g. \n",
    "# %env ISTIO_HOME=~/istio-1.0.0\n",
    "%env ISTIO_HOME=/home/clive/work/istio/istio-1.0.6"
   ]
  },
  {
   "cell_type": "code",
   "execution_count": 6,
   "metadata": {},
   "outputs": [
    {
     "name": "stdout",
     "output_type": "stream",
     "text": [
      "env: ZONE=europe-west3-b\n"
     ]
    }
   ],
   "source": [
    "# Set this to your GKE Zone for your cluster, e.g.\n",
    "# %env ZONE=europe-west3-b\n",
    "%env ZONE=europe-west3-b"
   ]
  },
  {
   "cell_type": "code",
   "execution_count": 7,
   "metadata": {},
   "outputs": [
    {
     "name": "stdout",
     "output_type": "stream",
     "text": [
      "env: PROJECT=seldon-demos\n"
     ]
    }
   ],
   "source": [
    "# Set this to the GCP Project within which your cluster is running\n",
    "%env PROJECT=seldon-demos"
   ]
  },
  {
   "cell_type": "code",
   "execution_count": 8,
   "metadata": {},
   "outputs": [
    {
     "name": "stdout",
     "output_type": "stream",
     "text": [
      "env: CLUSTER_NAME=istio-seldon\n"
     ]
    }
   ],
   "source": [
    "# Set this to the name of your kubernetes cluster\n",
    "%env CLUSTER_NAME=istio-seldon"
   ]
  },
  {
   "cell_type": "markdown",
   "metadata": {},
   "source": [
    "## Determine CIDR ranges"
   ]
  },
  {
   "cell_type": "code",
   "execution_count": 9,
   "metadata": {},
   "outputs": [
    {
     "name": "stdout",
     "output_type": "stream",
     "text": [
      "clusterIpv4Cidr: 10.56.0.0/14\n",
      "servicesIpv4Cidr: 10.59.240.0/20\n"
     ]
    }
   ],
   "source": [
    "!gcloud container clusters describe ${CLUSTER_NAME} --zone ${ZONE} --project ${PROJECT} | grep -e clusterIpv4Cidr -e servicesIpv4Cidr"
   ]
  },
  {
   "cell_type": "markdown",
   "metadata": {},
   "source": [
    "## Install Helm"
   ]
  },
  {
   "cell_type": "code",
   "execution_count": 10,
   "metadata": {},
   "outputs": [
    {
     "name": "stdout",
     "output_type": "stream",
     "text": [
      "clusterrolebinding.rbac.authorization.k8s.io/my-cluster-admin-binding created\r\n"
     ]
    }
   ],
   "source": [
    "!kubectl create clusterrolebinding my-cluster-admin-binding --clusterrole=cluster-admin --user=$(gcloud info --format=\"value(config.account)\")"
   ]
  },
  {
   "cell_type": "code",
   "execution_count": 11,
   "metadata": {},
   "outputs": [
    {
     "name": "stdout",
     "output_type": "stream",
     "text": [
      "serviceaccount/tiller created\r\n",
      "clusterrolebinding.rbac.authorization.k8s.io/tiller created\r\n"
     ]
    }
   ],
   "source": [
    "!kubectl create -f ${ISTIO_HOME}/install/kubernetes/helm/helm-service-account.yaml"
   ]
  },
  {
   "cell_type": "code",
   "execution_count": 12,
   "metadata": {},
   "outputs": [
    {
     "name": "stdout",
     "output_type": "stream",
     "text": [
      "$HELM_HOME has been configured at /home/clive/.helm.\n",
      "\n",
      "Tiller (the Helm server-side component) has been installed into your Kubernetes Cluster.\n",
      "\n",
      "Please note: by default, Tiller is deployed with an insecure 'allow unauthenticated users' policy.\n",
      "To prevent this, run `helm init` with the --tiller-tls-verify flag.\n",
      "For more information on securing your installation see: https://docs.helm.sh/using_helm/#securing-your-helm-installation\n",
      "Happy Helming!\n"
     ]
    }
   ],
   "source": [
    "!helm init --service-account tiller"
   ]
  },
  {
   "cell_type": "markdown",
   "metadata": {},
   "source": [
    "## Install Istio\n"
   ]
  },
  {
   "cell_type": "markdown",
   "metadata": {},
   "source": [
    "** Replace the CIDR 10.48.0.0/14\\,10.51.240.0/20 values with those you got above **\n",
    "\n",
    "For more details see [istio docs on egress](https://istio.io/docs/tasks/traffic-management/egress/#calling-external-services-directly)"
   ]
  },
  {
   "cell_type": "code",
   "execution_count": 13,
   "metadata": {},
   "outputs": [
    {
     "name": "stdout",
     "output_type": "stream",
     "text": [
      "NAME:   istio\n",
      "LAST DEPLOYED: Fri Mar 15 15:05:11 2019\n",
      "NAMESPACE: istio-system\n",
      "STATUS: DEPLOYED\n",
      "\n",
      "RESOURCES:\n",
      "==> v1beta1/ClusterRoleBinding\n",
      "NAME                                                    AGE\n",
      "istio-galley-admin-role-binding-istio-system            58s\n",
      "istio-ingressgateway-istio-system                       58s\n",
      "istio-egressgateway-istio-system                        58s\n",
      "istio-grafana-post-install-role-binding-istio-system    58s\n",
      "istio-mixer-admin-role-binding-istio-system             58s\n",
      "istio-pilot-istio-system                                58s\n",
      "prometheus-istio-system                                 58s\n",
      "istio-citadel-istio-system                              58s\n",
      "istio-security-post-install-role-binding-istio-system   58s\n",
      "istio-sidecar-injector-admin-role-binding-istio-system  58s\n",
      "\n",
      "==> v1alpha2/prometheus\n",
      "NAME     AGE\n",
      "handler  56s\n",
      "\n",
      "==> v1/Pod(related)\n",
      "NAME                                     READY  STATUS   RESTARTS  AGE\n",
      "istio-galley-6c68c5dbcf-kcsxc            1/1    Running  0         57s\n",
      "istio-ingressgateway-694576c7bb-jd8kv    1/1    Running  0         57s\n",
      "istio-egressgateway-864444d6ff-qtgxj     1/1    Running  0         57s\n",
      "grafana-7f6cd4bf56-kjzlw                 1/1    Running  0         57s\n",
      "istio-policy-5bd5578b94-4khb6            2/2    Running  0         57s\n",
      "istio-telemetry-5598f86cd8-m5tgv         2/2    Running  0         57s\n",
      "istio-pilot-79f5f46dd5-x95tc             2/2    Running  0         57s\n",
      "prometheus-76db5fddd5-hpbch              1/1    Running  0         57s\n",
      "istio-citadel-796c94878b-9d9dv           1/1    Running  0         57s\n",
      "istio-sidecar-injector-6d8f88c98f-2r8jh  1/1    Running  0         56s\n",
      "\n",
      "==> v1/ConfigMap\n",
      "NAME                                    DATA  AGE\n",
      "istio-galley-configuration              1     58s\n",
      "istio-grafana-custom-resources          2     58s\n",
      "istio-grafana-configuration-dashboards  7     58s\n",
      "istio-grafana                           2     58s\n",
      "istio-statsd-prom-bridge                1     58s\n",
      "prometheus                              1     58s\n",
      "istio-security-custom-resources         2     58s\n",
      "istio                                   1     58s\n",
      "istio-sidecar-injector                  1     58s\n",
      "\n",
      "==> v1/ServiceAccount\n",
      "NAME                                    SECRETS  AGE\n",
      "istio-galley-service-account            1        58s\n",
      "istio-egressgateway-service-account     1        58s\n",
      "istio-ingressgateway-service-account    1        58s\n",
      "istio-grafana-post-install-account      1        58s\n",
      "istio-mixer-service-account             1        58s\n",
      "istio-pilot-service-account             1        58s\n",
      "prometheus                              1        58s\n",
      "istio-security-post-install-account     1        58s\n",
      "istio-citadel-service-account           1        58s\n",
      "istio-sidecar-injector-service-account  1        58s\n",
      "\n",
      "==> v1alpha3/DestinationRule\n",
      "NAME             AGE\n",
      "istio-telemetry  57s\n",
      "istio-policy     57s\n",
      "\n",
      "==> v2beta1/HorizontalPodAutoscaler\n",
      "NAME                  REFERENCE                        TARGETS        MINPODS  MAXPODS  REPLICAS  AGE\n",
      "istio-egressgateway   Deployment/istio-egressgateway   <unknown>/80%  1        5        1         57s\n",
      "istio-ingressgateway  Deployment/istio-ingressgateway  <unknown>/80%  1        5        1         57s\n",
      "istio-policy          Deployment/istio-policy          <unknown>/80%  1        5        1         57s\n",
      "istio-telemetry       Deployment/istio-telemetry       <unknown>/80%  1        5        1         57s\n",
      "istio-pilot           Deployment/istio-pilot           <unknown>/80%  1        5        1         57s\n",
      "\n",
      "==> v1beta1/MutatingWebhookConfiguration\n",
      "NAME                    AGE\n",
      "istio-sidecar-injector  57s\n",
      "\n",
      "==> v1alpha2/stdio\n",
      "handler  56s\n",
      "\n",
      "==> v1beta1/ClusterRole\n",
      "istio-galley-istio-system                 58s\n",
      "istio-egressgateway-istio-system          58s\n",
      "istio-ingressgateway-istio-system         58s\n",
      "istio-grafana-post-install-istio-system   58s\n",
      "istio-mixer-istio-system                  58s\n",
      "istio-pilot-istio-system                  58s\n",
      "prometheus-istio-system                   58s\n",
      "istio-citadel-istio-system                58s\n",
      "istio-security-post-install-istio-system  58s\n",
      "istio-sidecar-injector-istio-system       58s\n",
      "\n",
      "==> v1/Service\n",
      "NAME                    TYPE          CLUSTER-IP     EXTERNAL-IP    PORT(S)                                                                                                                  AGE\n",
      "istio-galley            ClusterIP     10.59.243.132  <none>         443/TCP,9093/TCP                                                                                                         58s\n",
      "istio-ingressgateway    LoadBalancer  10.59.244.1    35.246.157.48  80:31380/TCP,443:31390/TCP,31400:31400/TCP,15011:31566/TCP,8060:30664/TCP,853:32190/TCP,15030:32184/TCP,15031:30001/TCP  58s\n",
      "istio-egressgateway     ClusterIP     10.59.250.227  <none>         80/TCP,443/TCP                                                                                                           58s\n",
      "grafana                 ClusterIP     10.59.241.43   <none>         3000/TCP                                                                                                                 58s\n",
      "istio-policy            ClusterIP     10.59.244.115  <none>         9091/TCP,15004/TCP,9093/TCP                                                                                              58s\n",
      "istio-telemetry         ClusterIP     10.59.246.61   <none>         9091/TCP,15004/TCP,9093/TCP,42422/TCP                                                                                    58s\n",
      "istio-pilot             ClusterIP     10.59.250.223  <none>         15010/TCP,15011/TCP,8080/TCP,9093/TCP                                                                                    58s\n",
      "prometheus              ClusterIP     10.59.252.138  <none>         9090/TCP                                                                                                                 58s\n",
      "istio-citadel           ClusterIP     10.59.246.133  <none>         8060/TCP,9093/TCP                                                                                                        57s\n",
      "istio-sidecar-injector  ClusterIP     10.59.245.74   <none>         443/TCP                                                                                                                  57s\n",
      "\n",
      "==> v1beta1/Deployment\n",
      "NAME                    DESIRED  CURRENT  UP-TO-DATE  AVAILABLE  AGE\n",
      "istio-galley            1        1        1           1          57s\n",
      "istio-ingressgateway    1        1        1           1          57s\n",
      "istio-egressgateway     1        1        1           1          57s\n",
      "grafana                 1        1        1           1          57s\n",
      "istio-policy            1        1        1           1          57s\n",
      "istio-telemetry         1        1        1           1          57s\n",
      "istio-pilot             1        1        1           1          57s\n",
      "prometheus              1        1        1           1          57s\n",
      "istio-citadel           1        1        1           1          57s\n",
      "istio-sidecar-injector  1        1        1           1          57s\n",
      "\n",
      "==> v1alpha3/Gateway\n",
      "NAME                             AGE\n",
      "istio-autogenerated-k8s-ingress  57s\n",
      "\n",
      "==> v1alpha2/attributemanifest\n",
      "istioproxy  57s\n",
      "kubernetes  57s\n",
      "\n",
      "==> v1alpha2/kubernetes\n",
      "attributes  57s\n",
      "\n",
      "==> v1alpha2/logentry\n",
      "accesslog     56s\n",
      "tcpaccesslog  56s\n",
      "\n",
      "==> v1alpha2/kubernetesenv\n",
      "handler  56s\n",
      "\n",
      "==> v1alpha2/metric\n",
      "requestsize      56s\n",
      "tcpbytereceived  56s\n",
      "requestduration  56s\n",
      "responsesize     56s\n",
      "requestcount     56s\n",
      "tcpbytesent      56s\n",
      "\n",
      "==> v1alpha2/rule\n",
      "tcpkubeattrgenrulerule  56s\n",
      "stdio                   56s\n",
      "stdiotcp                56s\n",
      "kubeattrgenrulerule     56s\n",
      "promtcp                 56s\n",
      "promhttp                56s\n",
      "\n",
      "\n"
     ]
    }
   ],
   "source": [
    "!helm install ${ISTIO_HOME}/install/kubernetes/helm/istio --name istio --namespace istio-system \\\n",
    "    --set global.proxy.includeIPRanges=\"10.56.0.0/14\\,10.59.240.0/20\" --set grafana.enabled=true"
   ]
  },
  {
   "cell_type": "markdown",
   "metadata": {},
   "source": [
    "To view the istio Grafana dashboard:\n",
    "```\n",
    "kubectl -n istio-system port-forward $(kubectl -n istio-system get pod -l app=grafana -o jsonpath='{.items[0].metadata.name}') 3000:3000\n",
    "```\n",
    "http://localhost:3000"
   ]
  },
  {
   "cell_type": "markdown",
   "metadata": {},
   "source": [
    "## Install Seldon"
   ]
  },
  {
   "cell_type": "code",
   "execution_count": 14,
   "metadata": {},
   "outputs": [
    {
     "name": "stdout",
     "output_type": "stream",
     "text": [
      "namespace/seldon created\r\n"
     ]
    }
   ],
   "source": [
    "!kubectl create namespace seldon"
   ]
  },
  {
   "cell_type": "code",
   "execution_count": 15,
   "metadata": {},
   "outputs": [
    {
     "name": "stdout",
     "output_type": "stream",
     "text": [
      "NAME:   seldon-core-crd\n",
      "LAST DEPLOYED: Fri Mar 15 15:06:41 2019\n",
      "NAMESPACE: default\n",
      "STATUS: DEPLOYED\n",
      "\n",
      "RESOURCES:\n",
      "==> v1beta1/CustomResourceDefinition\n",
      "NAME                                         AGE\n",
      "seldondeployments.machinelearning.seldon.io  1s\n",
      "\n",
      "\n",
      "NOTES:\n",
      "NOTES: TODO\n",
      "\n",
      "\n"
     ]
    }
   ],
   "source": [
    "!helm install ../../../helm-charts/seldon-core-crd --name seldon-core-crd"
   ]
  },
  {
   "cell_type": "code",
   "execution_count": 16,
   "metadata": {},
   "outputs": [
    {
     "name": "stdout",
     "output_type": "stream",
     "text": [
      "NAME:   seldon-core\n",
      "LAST DEPLOYED: Fri Mar 15 15:06:46 2019\n",
      "NAMESPACE: seldon\n",
      "STATUS: DEPLOYED\n",
      "\n",
      "RESOURCES:\n",
      "==> v1/Service\n",
      "NAME                          TYPE       CLUSTER-IP     EXTERNAL-IP  PORT(S)                        AGE\n",
      "seldon-core-ambassador        NodePort   10.59.245.46   <none>       80:30123/TCP,443:30357/TCP     1s\n",
      "seldon-core-ambassador-admin  NodePort   10.59.242.95   <none>       8877:32411/TCP                 1s\n",
      "seldon-core-seldon-apiserver  NodePort   10.59.252.104  <none>       8080:31488/TCP,5000:31609/TCP  1s\n",
      "seldon-core-redis             ClusterIP  10.59.240.115  <none>       6379/TCP                       1s\n",
      "\n",
      "==> v1beta1/Deployment\n",
      "NAME                                DESIRED  CURRENT  UP-TO-DATE  AVAILABLE  AGE\n",
      "seldon-core-ambassador              1        1        1           0          1s\n",
      "seldon-core-seldon-apiserver        1        1        1           0          1s\n",
      "seldon-core-seldon-cluster-manager  1        1        1           0          1s\n",
      "seldon-core-redis                   1        1        1           0          1s\n",
      "\n",
      "==> v1/Pod(related)\n",
      "NAME                                                 READY  STATUS             RESTARTS  AGE\n",
      "seldon-core-ambassador-6bb6fb974d-8xsmd              0/1    ContainerCreating  0         1s\n",
      "seldon-core-seldon-apiserver-cb585f944-hgq2m         0/1    ContainerCreating  0         1s\n",
      "seldon-core-seldon-cluster-manager-66cc785bc9-6cm8z  0/1    ContainerCreating  0         1s\n",
      "seldon-core-redis-566b4548cf-sgb4w                   0/1    ContainerCreating  0         1s\n",
      "\n",
      "==> v1/ServiceAccount\n",
      "NAME    SECRETS  AGE\n",
      "seldon  1        1s\n",
      "\n",
      "==> v1/Role\n",
      "NAME          AGE\n",
      "ambassador    1s\n",
      "seldon-local  1s\n",
      "\n",
      "==> v1/RoleBinding\n",
      "NAME        AGE\n",
      "seldon      1s\n",
      "ambassador  1s\n",
      "\n",
      "\n",
      "NOTES:\n",
      "Thank you for installing Seldon Core.\n",
      "\n",
      "Documentation can be found at https://github.com/SeldonIO/seldon-core\n",
      "\n",
      "\n",
      "\n",
      "\n"
     ]
    }
   ],
   "source": [
    "!helm install ../../../helm-charts/seldon-core --name seldon-core --namespace seldon \\\n",
    "    --set ambassador.enabled=true"
   ]
  },
  {
   "cell_type": "code",
   "execution_count": 17,
   "metadata": {},
   "outputs": [
    {
     "name": "stdout",
     "output_type": "stream",
     "text": [
      "NAME:   seldon-core-analytics\n",
      "LAST DEPLOYED: Fri Mar 15 15:06:51 2019\n",
      "NAMESPACE: seldon\n",
      "STATUS: DEPLOYED\n",
      "\n",
      "RESOURCES:\n",
      "==> v1/Pod(related)\n",
      "NAME                                      READY  STATUS             RESTARTS  AGE\n",
      "grafana-prom-import-dashboards-nnd85      0/1    ContainerCreating  0         1s\n",
      "alertmanager-deployment-5bff7cbb4d-5rr66  0/1    ContainerCreating  0         1s\n",
      "grafana-prom-deployment-5dbc55b564-nxtxl  0/1    ContainerCreating  0         1s\n",
      "prometheus-node-exporter-dzh66            0/1    ContainerCreating  0         1s\n",
      "prometheus-node-exporter-n657d            0/1    Pending            0         1s\n",
      "prometheus-node-exporter-wpwbf            0/1    ContainerCreating  0         1s\n",
      "prometheus-deployment-78f855c4b-zpzrb     0/1    ContainerCreating  0         1s\n",
      "\n",
      "==> v1/Secret\n",
      "NAME                 TYPE    DATA  AGE\n",
      "grafana-prom-secret  Opaque  1     1s\n",
      "\n",
      "==> v1/ServiceAccount\n",
      "NAME        SECRETS  AGE\n",
      "prometheus  1        1s\n",
      "\n",
      "==> v1beta1/ClusterRole\n",
      "NAME        AGE\n",
      "prometheus  1s\n",
      "\n",
      "==> v1beta1/ClusterRoleBinding\n",
      "NAME        AGE\n",
      "prometheus  1s\n",
      "\n",
      "==> v1beta1/Deployment\n",
      "NAME                     DESIRED  CURRENT  UP-TO-DATE  AVAILABLE  AGE\n",
      "alertmanager-deployment  1        1        1           0          1s\n",
      "grafana-prom-deployment  1        1        1           0          1s\n",
      "prometheus-deployment    1        1        1           0          1s\n",
      "\n",
      "==> v1beta1/DaemonSet\n",
      "NAME                      DESIRED  CURRENT  READY  UP-TO-DATE  AVAILABLE  NODE SELECTOR  AGE\n",
      "prometheus-node-exporter  3        3        0      3           0          <none>         1s\n",
      "\n",
      "==> v1/ConfigMap\n",
      "NAME                       DATA  AGE\n",
      "alertmanager-server-conf   1     1s\n",
      "grafana-import-dashboards  11    1s\n",
      "prometheus-rules           0     1s\n",
      "prometheus-server-conf     1     1s\n",
      "\n",
      "==> v1/Job\n",
      "NAME                            DESIRED  SUCCESSFUL  AGE\n",
      "grafana-prom-import-dashboards  1        0           1s\n",
      "\n",
      "==> v1/Service\n",
      "NAME                      TYPE       CLUSTER-IP     EXTERNAL-IP  PORT(S)       AGE\n",
      "alertmanager              ClusterIP  10.59.249.255  <none>       80/TCP        1s\n",
      "grafana-prom              NodePort   10.59.245.243  <none>       80:31958/TCP  1s\n",
      "prometheus-node-exporter  ClusterIP  None           <none>       9100/TCP      1s\n",
      "prometheus-seldon         ClusterIP  10.59.240.255  <none>       80/TCP        1s\n",
      "\n",
      "\n",
      "NOTES:\n",
      "NOTES: TODO\n",
      "\n",
      "\n"
     ]
    }
   ],
   "source": [
    "!helm install ../../../helm-charts/seldon-core-analytics --name seldon-core-analytics \\\n",
    "    --set grafana_prom_admin_password=password \\\n",
    "    --set persistence.enabled=false \\\n",
    "    --namespace seldon"
   ]
  },
  {
   "cell_type": "markdown",
   "metadata": {},
   "source": [
    "To send requests to Ambassador ingress in another terminal run:\n",
    "    \n",
    "```\n",
    "kubectl port-forward $(kubectl get pods -n seldon -l app.kubernetes.io/name=ambassador -o jsonpath='{.items[0].metadata.name}') -n seldon 8002:8080\n",
    "```"
   ]
  },
  {
   "cell_type": "markdown",
   "metadata": {},
   "source": [
    "To view the Seldon Grafana dashboard in another terminal run:\n",
    "\n",
    "```\n",
    "kubectl port-forward $(kubectl get pods -n seldon -l app=grafana-prom-server -o jsonpath='{.items[0].metadata.name}') -n seldon 3001:3000\n",
    "```\n",
    "\n",
    "Use user:admin and the password passed in above in the helm install.\n",
    "\n",
    "http://localhost:3001/dashboard/db/prediction-analytics?refresh=5s&orgId=1"
   ]
  },
  {
   "cell_type": "code",
   "execution_count": 18,
   "metadata": {},
   "outputs": [
    {
     "name": "stdout",
     "output_type": "stream",
     "text": [
      "namespace/seldon labeled\r\n"
     ]
    }
   ],
   "source": [
    "!kubectl label namespace seldon istio-injection=enabled"
   ]
  },
  {
   "cell_type": "code",
   "execution_count": 19,
   "metadata": {},
   "outputs": [
    {
     "name": "stdout",
     "output_type": "stream",
     "text": [
      "Context \"gke_seldon-demos_europe-west3-b_istio-seldon\" modified.\r\n"
     ]
    }
   ],
   "source": [
    "!kubectl config set-context $(kubectl config current-context) --namespace=seldon"
   ]
  },
  {
   "cell_type": "code",
   "execution_count": 20,
   "metadata": {},
   "outputs": [
    {
     "name": "stdout",
     "output_type": "stream",
     "text": [
      "WARNING:tensorflow:From /home/clive/work/seldon-core/fork-seldon-core/examples/istio/canary_update/utils.py:65: read_data_sets (from tensorflow.contrib.learn.python.learn.datasets.mnist) is deprecated and will be removed in a future version.\n",
      "Instructions for updating:\n",
      "Please use alternatives such as official/mnist/dataset.py from tensorflow/models.\n",
      "WARNING:tensorflow:From /home/clive/anaconda3/lib/python3.6/site-packages/tensorflow/contrib/learn/python/learn/datasets/mnist.py:260: maybe_download (from tensorflow.contrib.learn.python.learn.datasets.base) is deprecated and will be removed in a future version.\n",
      "Instructions for updating:\n",
      "Please write your own downloading logic.\n",
      "WARNING:tensorflow:From /home/clive/anaconda3/lib/python3.6/site-packages/tensorflow/contrib/learn/python/learn/datasets/mnist.py:262: extract_images (from tensorflow.contrib.learn.python.learn.datasets.mnist) is deprecated and will be removed in a future version.\n",
      "Instructions for updating:\n",
      "Please use tf.data to implement this functionality.\n",
      "Extracting MNIST_data/train-images-idx3-ubyte.gz\n",
      "WARNING:tensorflow:From /home/clive/anaconda3/lib/python3.6/site-packages/tensorflow/contrib/learn/python/learn/datasets/mnist.py:267: extract_labels (from tensorflow.contrib.learn.python.learn.datasets.mnist) is deprecated and will be removed in a future version.\n",
      "Instructions for updating:\n",
      "Please use tf.data to implement this functionality.\n",
      "Extracting MNIST_data/train-labels-idx1-ubyte.gz\n",
      "WARNING:tensorflow:From /home/clive/anaconda3/lib/python3.6/site-packages/tensorflow/contrib/learn/python/learn/datasets/mnist.py:110: dense_to_one_hot (from tensorflow.contrib.learn.python.learn.datasets.mnist) is deprecated and will be removed in a future version.\n",
      "Instructions for updating:\n",
      "Please use tf.one_hot on tensors.\n",
      "Extracting MNIST_data/t10k-images-idx3-ubyte.gz\n",
      "Extracting MNIST_data/t10k-labels-idx1-ubyte.gz\n",
      "WARNING:tensorflow:From /home/clive/anaconda3/lib/python3.6/site-packages/tensorflow/contrib/learn/python/learn/datasets/mnist.py:290: DataSet.__init__ (from tensorflow.contrib.learn.python.learn.datasets.mnist) is deprecated and will be removed in a future version.\n",
      "Instructions for updating:\n",
      "Please use alternatives such as official/mnist/dataset.py from tensorflow/models.\n"
     ]
    }
   ],
   "source": [
    "%matplotlib inline\n",
    "import utils\n",
    "from visualizer import get_graph\n",
    "mnist = utils.download_mnist()"
   ]
  },
  {
   "cell_type": "markdown",
   "metadata": {},
   "source": [
    "## Launch Version 1 Model\n",
    "A sklearn MNIST model."
   ]
  },
  {
   "cell_type": "code",
   "execution_count": 21,
   "metadata": {},
   "outputs": [
    {
     "name": "stdout",
     "output_type": "stream",
     "text": [
      "{\r\n",
      "    \u001b[34;01m\"apiVersion\"\u001b[39;49;00m: \u001b[33m\"machinelearning.seldon.io/v1alpha2\"\u001b[39;49;00m,\r\n",
      "    \u001b[34;01m\"kind\"\u001b[39;49;00m: \u001b[33m\"SeldonDeployment\"\u001b[39;49;00m,\r\n",
      "    \u001b[34;01m\"metadata\"\u001b[39;49;00m: {\r\n",
      "        \u001b[34;01m\"labels\"\u001b[39;49;00m: {\r\n",
      "            \u001b[34;01m\"app\"\u001b[39;49;00m: \u001b[33m\"seldon\"\u001b[39;49;00m\r\n",
      "        },\r\n",
      "        \u001b[34;01m\"name\"\u001b[39;49;00m: \u001b[33m\"mnist-classifier\"\u001b[39;49;00m\r\n",
      "    },\r\n",
      "    \u001b[34;01m\"spec\"\u001b[39;49;00m: {\r\n",
      "        \u001b[34;01m\"annotations\"\u001b[39;49;00m: {\r\n",
      "            \u001b[34;01m\"project_name\"\u001b[39;49;00m: \u001b[33m\"Mnist classification\"\u001b[39;49;00m\r\n",
      "        },\r\n",
      "        \u001b[34;01m\"name\"\u001b[39;49;00m: \u001b[33m\"mnist-deployment\"\u001b[39;49;00m,\r\n",
      "        \u001b[34;01m\"predictors\"\u001b[39;49;00m: [\r\n",
      "            {\r\n",
      "                \u001b[34;01m\"componentSpecs\"\u001b[39;49;00m: [{\r\n",
      "                    \u001b[34;01m\"spec\"\u001b[39;49;00m: {\r\n",
      "                        \u001b[34;01m\"containers\"\u001b[39;49;00m: [\r\n",
      "                            {\r\n",
      "                                \u001b[34;01m\"image\"\u001b[39;49;00m: \u001b[33m\"seldonio/sk-mnist:0.1\"\u001b[39;49;00m,\r\n",
      "                                \u001b[34;01m\"imagePullPolicy\"\u001b[39;49;00m: \u001b[33m\"IfNotPresent\"\u001b[39;49;00m,\r\n",
      "                                \u001b[34;01m\"name\"\u001b[39;49;00m: \u001b[33m\"sk-mnist-classifier\"\u001b[39;49;00m,\r\n",
      "                                \u001b[34;01m\"resources\"\u001b[39;49;00m: {\r\n",
      "                                    \u001b[34;01m\"requests\"\u001b[39;49;00m: {\r\n",
      "                                        \u001b[34;01m\"memory\"\u001b[39;49;00m: \u001b[33m\"1Mi\"\u001b[39;49;00m\r\n",
      "                                    }\r\n",
      "                                }\r\n",
      "                            }\r\n",
      "                        ],\r\n",
      "                        \u001b[34;01m\"terminationGracePeriodSeconds\"\u001b[39;49;00m: \u001b[34m1\u001b[39;49;00m\r\n",
      "                    }\r\n",
      "                }],\r\n",
      "                \u001b[34;01m\"graph\"\u001b[39;49;00m: {\r\n",
      "                    \u001b[34;01m\"children\"\u001b[39;49;00m: [],\r\n",
      "                    \u001b[34;01m\"name\"\u001b[39;49;00m: \u001b[33m\"sk-mnist-classifier\"\u001b[39;49;00m,\r\n",
      "                    \u001b[34;01m\"endpoint\"\u001b[39;49;00m: {\r\n",
      "                        \u001b[34;01m\"type\"\u001b[39;49;00m : \u001b[33m\"REST\"\u001b[39;49;00m\r\n",
      "                    },\r\n",
      "                    \u001b[34;01m\"type\"\u001b[39;49;00m: \u001b[33m\"MODEL\"\u001b[39;49;00m\r\n",
      "                },\r\n",
      "                \u001b[34;01m\"name\"\u001b[39;49;00m: \u001b[33m\"sk-mnist-predictor\"\u001b[39;49;00m,\r\n",
      "                \u001b[34;01m\"replicas\"\u001b[39;49;00m: \u001b[34m1\u001b[39;49;00m,\r\n",
      "\t\t\u001b[34;01m\"labels\"\u001b[39;49;00m:{\r\n",
      "\t\t    \u001b[34;01m\"version\"\u001b[39;49;00m:\u001b[33m\"v1\"\u001b[39;49;00m\r\n",
      "\t\t}\r\n",
      "            }\r\n",
      "        ]\r\n",
      "    }\r\n",
      "}\r\n"
     ]
    }
   ],
   "source": [
    "!pygmentize mnist_v1.json"
   ]
  },
  {
   "cell_type": "code",
   "execution_count": 22,
   "metadata": {},
   "outputs": [
    {
     "data": {
      "image/svg+xml": [
       "<?xml version=\"1.0\" encoding=\"UTF-8\" standalone=\"no\"?>\n",
       "<!DOCTYPE svg PUBLIC \"-//W3C//DTD SVG 1.1//EN\"\n",
       " \"http://www.w3.org/Graphics/SVG/1.1/DTD/svg11.dtd\">\n",
       "<!-- Generated by graphviz version 2.38.0 (20140413.2041)\n",
       " -->\n",
       "<!-- Title: %3 Pages: 1 -->\n",
       "<svg width=\"158pt\" height=\"171pt\"\n",
       " viewBox=\"0.00 0.00 158.00 171.00\" xmlns=\"http://www.w3.org/2000/svg\" xmlns:xlink=\"http://www.w3.org/1999/xlink\">\n",
       "<g id=\"graph0\" class=\"graph\" transform=\"scale(1 1) rotate(0) translate(4 167)\">\n",
       "<title>%3</title>\n",
       "<polygon fill=\"white\" stroke=\"none\" points=\"-4,4 -4,-167 154,-167 154,4 -4,4\"/>\n",
       "<g id=\"clust1\" class=\"cluster\"><title>cluster_0</title>\n",
       "<polygon fill=\"none\" stroke=\"black\" points=\"8,-8 8,-155 142,-155 142,-8 8,-8\"/>\n",
       "<text text-anchor=\"middle\" x=\"75\" y=\"-139.8\" font-family=\"Times,serif\" font-size=\"14.00\">predictor</text>\n",
       "</g>\n",
       "<!-- sk&#45;mnist&#45;classifier0 -->\n",
       "<g id=\"node1\" class=\"node\"><title>sk&#45;mnist&#45;classifier0</title>\n",
       "<polygon fill=\"none\" stroke=\"black\" points=\"133.5,-124 16.5,-124 16.5,-88 133.5,-88 133.5,-124\"/>\n",
       "<text text-anchor=\"middle\" x=\"75\" y=\"-102.3\" font-family=\"Times,serif\" font-size=\"14.00\">sk&#45;mnist&#45;classifier</text>\n",
       "</g>\n",
       "<!-- sk&#45;mnist&#45;classifier0endpoint -->\n",
       "<g id=\"node2\" class=\"node\"><title>sk&#45;mnist&#45;classifier0endpoint</title>\n",
       "<ellipse fill=\"none\" stroke=\"black\" cx=\"75\" cy=\"-34\" rx=\"32.4942\" ry=\"18\"/>\n",
       "<text text-anchor=\"middle\" x=\"75\" y=\"-30.3\" font-family=\"Times,serif\" font-size=\"14.00\">REST</text>\n",
       "</g>\n",
       "<!-- sk&#45;mnist&#45;classifier0&#45;&gt;sk&#45;mnist&#45;classifier0endpoint -->\n",
       "<g id=\"edge1\" class=\"edge\"><title>sk&#45;mnist&#45;classifier0&#45;&gt;sk&#45;mnist&#45;classifier0endpoint</title>\n",
       "<path fill=\"none\" stroke=\"black\" d=\"M75,-87.6966C75,-79.9827 75,-70.7125 75,-62.1124\"/>\n",
       "<polygon fill=\"black\" stroke=\"black\" points=\"78.5001,-62.1043 75,-52.1043 71.5001,-62.1044 78.5001,-62.1043\"/>\n",
       "</g>\n",
       "</g>\n",
       "</svg>\n"
      ],
      "text/plain": [
       "<graphviz.dot.Digraph at 0x7f81800f2198>"
      ]
     },
     "execution_count": 22,
     "metadata": {},
     "output_type": "execute_result"
    }
   ],
   "source": [
    "get_graph(\"mnist_v1.json\")"
   ]
  },
  {
   "cell_type": "code",
   "execution_count": 52,
   "metadata": {},
   "outputs": [
    {
     "name": "stdout",
     "output_type": "stream",
     "text": [
      "seldondeployment.machinelearning.seldon.io/mnist-classifier created\r\n"
     ]
    }
   ],
   "source": [
    "!kubectl apply -f mnist_v1.json"
   ]
  },
  {
   "cell_type": "markdown",
   "metadata": {},
   "source": [
    "** Wait until new pods are running **"
   ]
  },
  {
   "cell_type": "code",
   "execution_count": 24,
   "metadata": {},
   "outputs": [
    {
     "name": "stdout",
     "output_type": "stream",
     "text": [
      "deployment \"mnist-deployment-sk-mnist-predictor-78b83e6\" successfully rolled out\r\n"
     ]
    }
   ],
   "source": [
    "!kubectl rollout status deploy/mnist-deployment-sk-mnist-predictor-78b83e6"
   ]
  },
  {
   "cell_type": "code",
   "execution_count": 55,
   "metadata": {},
   "outputs": [
    {
     "data": {
      "image/png": "[encoded data removed]",
      "text/plain": [
       "<matplotlib.figure.Figure at 0x7f817d426828>"
      ]
     },
     "metadata": {},
     "output_type": "display_data"
    },
    {
     "name": "stdout",
     "output_type": "stream",
     "text": [
      "Route:{}\n",
      "{\n",
      "  \"class:0\": \"0.00\",\n",
      "  \"class:1\": \"0.03\",\n",
      "  \"class:2\": \"0.00\",\n",
      "  \"class:3\": \"0.00\",\n",
      "  \"class:4\": \"0.03\",\n",
      "  \"class:5\": \"0.03\",\n",
      "  \"class:6\": \"0.07\",\n",
      "  \"class:7\": \"0.00\",\n",
      "  \"class:8\": \"0.83\",\n",
      "  \"class:9\": \"0.00\"\n",
      "}\n"
     ]
    }
   ],
   "source": [
    "utils.predict_rest_mnist(mnist,\"mnist-classifier\")"
   ]
  },
  {
   "cell_type": "markdown",
   "metadata": {},
   "source": [
    "## Start a Load Test"
   ]
  },
  {
   "cell_type": "code",
   "execution_count": 56,
   "metadata": {},
   "outputs": [
    {
     "name": "stdout",
     "output_type": "stream",
     "text": [
      "error: 'role' already has a value (locust), and --overwrite is false\r\n"
     ]
    }
   ],
   "source": [
    "!kubectl label nodes $(kubectl get nodes -o jsonpath='{.items[0].metadata.name}') role=locust"
   ]
  },
  {
   "cell_type": "code",
   "execution_count": 57,
   "metadata": {},
   "outputs": [
    {
     "name": "stdout",
     "output_type": "stream",
     "text": [
      "NAME:   loadtest\n",
      "LAST DEPLOYED: Fri Mar 15 15:40:06 2019\n",
      "NAMESPACE: seldon\n",
      "STATUS: DEPLOYED\n",
      "\n",
      "RESOURCES:\n",
      "==> v1/Pod(related)\n",
      "NAME                   READY  STATUS    RESTARTS  AGE\n",
      "locust-slave-1-4kptp   0/2    Init:0/1  0         0s\n",
      "locust-master-1-qd9zg  0/2    Init:0/1  0         0s\n",
      "\n",
      "==> v1/ReplicationController\n",
      "NAME             DESIRED  CURRENT  READY  AGE\n",
      "locust-slave-1   1        1        0      0s\n",
      "locust-master-1  1        1        0      0s\n",
      "\n",
      "==> v1/Service\n",
      "NAME             TYPE      CLUSTER-IP    EXTERNAL-IP  PORT(S)                                       AGE\n",
      "locust-master-1  NodePort  10.59.244.63  <none>       5557:31879/TCP,5558:32461/TCP,8089:31585/TCP  0s\n",
      "\n",
      "\n"
     ]
    }
   ],
   "source": [
    "!helm install seldon-core-loadtesting --name loadtest  \\\n",
    "    --namespace seldon \\\n",
    "    --repo https://storage.googleapis.com/seldon-charts \\\n",
    "    --set locust.script=mnist_rest_locust.py \\\n",
    "    --set locust.host=http://mnist-deployment-mnist-classifier:8000 \\\n",
    "    --set oauth.enabled=false \\\n",
    "    --set oauth.key=oauth-key \\\n",
    "    --set oauth.secret=oauth-secret \\\n",
    "    --set locust.hatchRate=1 \\\n",
    "    --set locust.clients=1 \\\n",
    "    --set loadtest.sendFeedback=1 \\\n",
    "    --set locust.minWait=0 \\\n",
    "    --set locust.maxWait=0 \\\n",
    "    --set replicaCount=1 \\\n",
    "    --set data.size=784\n"
   ]
  },
  {
   "cell_type": "markdown",
   "metadata": {},
   "source": [
    "## Setup Version 1 Istio Routing\n",
    "\n",
    "Just route to version 1 of our model"
   ]
  },
  {
   "cell_type": "code",
   "execution_count": 28,
   "metadata": {},
   "outputs": [
    {
     "name": "stdout",
     "output_type": "stream",
     "text": [
      "apiVersion: networking.istio.io/v1alpha3\r\n",
      "kind: VirtualService\r\n",
      "metadata:\r\n",
      "  name: mnist-deployment\r\n",
      "  namespace: seldon\r\n",
      "spec:\r\n",
      "  hosts:\r\n",
      "  - mnist-deployment\r\n",
      "  http:\r\n",
      "  - route:\r\n",
      "    - destination:\r\n",
      "        host: mnist-deployment\r\n",
      "        subset: v1\r\n",
      "\u001b[04m\u001b[36m---\u001b[39;49;00m\r\n",
      "apiVersion: networking.istio.io/v1alpha3\r\n",
      "kind: DestinationRule\r\n",
      "metadata:\r\n",
      "  name: mnist-deployment\r\n",
      "  namespace: seldon  \r\n",
      "spec:\r\n",
      "  host: mnist-deployment\r\n",
      "  subsets:\r\n",
      "  - name: v1\r\n",
      "    labels:\r\n",
      "      version: v1\r\n",
      "  - name: v2\r\n",
      "    labels:\r\n",
      "      version: v2\r\n",
      "\u001b[04m\u001b[36m---\u001b[39;49;00m\r\n"
     ]
    }
   ],
   "source": [
    "!pygmentize istio_canary_v1.yaml"
   ]
  },
  {
   "cell_type": "code",
   "execution_count": 64,
   "metadata": {},
   "outputs": [
    {
     "name": "stdout",
     "output_type": "stream",
     "text": [
      "Updated config virtual-service/seldon/mnist-deployment to revision 9948\n",
      "Updated config destination-rule/seldon/mnist-deployment to revision 9949\n"
     ]
    }
   ],
   "source": [
    "!istioctl create -f istio_canary_v1.yaml"
   ]
  },
  {
   "cell_type": "markdown",
   "metadata": {},
   "source": [
    "## Launch Version 2 of Model\n",
    "\n",
    "Version 2 is a Tensorflow Deep Learning Model for MNIST. Hopefully, better..."
   ]
  },
  {
   "cell_type": "code",
   "execution_count": 58,
   "metadata": {},
   "outputs": [
    {
     "name": "stdout",
     "output_type": "stream",
     "text": [
      "{\r\n",
      "    \u001b[34;01m\"apiVersion\"\u001b[39;49;00m: \u001b[33m\"machinelearning.seldon.io/v1alpha2\"\u001b[39;49;00m,\r\n",
      "    \u001b[34;01m\"kind\"\u001b[39;49;00m: \u001b[33m\"SeldonDeployment\"\u001b[39;49;00m,\r\n",
      "    \u001b[34;01m\"metadata\"\u001b[39;49;00m: {\r\n",
      "        \u001b[34;01m\"labels\"\u001b[39;49;00m: {\r\n",
      "            \u001b[34;01m\"app\"\u001b[39;49;00m: \u001b[33m\"seldon\"\u001b[39;49;00m\r\n",
      "        },\r\n",
      "        \u001b[34;01m\"name\"\u001b[39;49;00m: \u001b[33m\"mnist-classifier\"\u001b[39;49;00m\r\n",
      "    },\r\n",
      "    \u001b[34;01m\"spec\"\u001b[39;49;00m: {\r\n",
      "        \u001b[34;01m\"annotations\"\u001b[39;49;00m: {\r\n",
      "            \u001b[34;01m\"project_name\"\u001b[39;49;00m: \u001b[33m\"Mnist classification\"\u001b[39;49;00m\r\n",
      "        },\r\n",
      "        \u001b[34;01m\"name\"\u001b[39;49;00m: \u001b[33m\"mnist-deployment\"\u001b[39;49;00m,\r\n",
      "        \u001b[34;01m\"predictors\"\u001b[39;49;00m: [\r\n",
      "            {\r\n",
      "                \u001b[34;01m\"componentSpecs\"\u001b[39;49;00m: [{\r\n",
      "                    \u001b[34;01m\"spec\"\u001b[39;49;00m: {\r\n",
      "                        \u001b[34;01m\"containers\"\u001b[39;49;00m: [\r\n",
      "                            {\r\n",
      "                                \u001b[34;01m\"image\"\u001b[39;49;00m: \u001b[33m\"seldonio/sk-example-mnist:0.2\"\u001b[39;49;00m,\r\n",
      "                                \u001b[34;01m\"imagePullPolicy\"\u001b[39;49;00m: \u001b[33m\"IfNotPresent\"\u001b[39;49;00m,\r\n",
      "                                \u001b[34;01m\"name\"\u001b[39;49;00m: \u001b[33m\"sk-mnist-classifier\"\u001b[39;49;00m,\r\n",
      "                                \u001b[34;01m\"resources\"\u001b[39;49;00m: {\r\n",
      "                                    \u001b[34;01m\"requests\"\u001b[39;49;00m: {\r\n",
      "                                        \u001b[34;01m\"memory\"\u001b[39;49;00m: \u001b[33m\"1Mi\"\u001b[39;49;00m\r\n",
      "                                    }\r\n",
      "                                }\r\n",
      "                            }\r\n",
      "                        ],\r\n",
      "                        \u001b[34;01m\"terminationGracePeriodSeconds\"\u001b[39;49;00m: \u001b[34m1\u001b[39;49;00m\r\n",
      "                    }\r\n",
      "                }],\r\n",
      "                \u001b[34;01m\"graph\"\u001b[39;49;00m: {\r\n",
      "                    \u001b[34;01m\"children\"\u001b[39;49;00m: [],\r\n",
      "                    \u001b[34;01m\"name\"\u001b[39;49;00m: \u001b[33m\"sk-mnist-classifier\"\u001b[39;49;00m,\r\n",
      "                    \u001b[34;01m\"endpoint\"\u001b[39;49;00m: {\r\n",
      "                        \u001b[34;01m\"type\"\u001b[39;49;00m : \u001b[33m\"REST\"\u001b[39;49;00m\r\n",
      "                    },\r\n",
      "                    \u001b[34;01m\"type\"\u001b[39;49;00m: \u001b[33m\"MODEL\"\u001b[39;49;00m\r\n",
      "                },\r\n",
      "                \u001b[34;01m\"name\"\u001b[39;49;00m: \u001b[33m\"sk-mnist-predictor\"\u001b[39;49;00m,\r\n",
      "                \u001b[34;01m\"replicas\"\u001b[39;49;00m: \u001b[34m1\u001b[39;49;00m,\r\n",
      "\t\t\u001b[34;01m\"labels\"\u001b[39;49;00m:{\r\n",
      "\t\t    \u001b[34;01m\"version\"\u001b[39;49;00m:\u001b[33m\"v1\"\u001b[39;49;00m\r\n",
      "\t\t}\r\n",
      "            },\r\n",
      "            {\r\n",
      "                \u001b[34;01m\"componentSpecs\"\u001b[39;49;00m: [{\r\n",
      "                    \u001b[34;01m\"spec\"\u001b[39;49;00m: {\r\n",
      "                        \u001b[34;01m\"containers\"\u001b[39;49;00m: [\r\n",
      "                            {\r\n",
      "                                \u001b[34;01m\"image\"\u001b[39;49;00m: \u001b[33m\"seldonio/tf-example-mnist:0.1\"\u001b[39;49;00m,\r\n",
      "                                \u001b[34;01m\"imagePullPolicy\"\u001b[39;49;00m: \u001b[33m\"IfNotPresent\"\u001b[39;49;00m,\r\n",
      "                                \u001b[34;01m\"name\"\u001b[39;49;00m: \u001b[33m\"tf-mnist-classifier\"\u001b[39;49;00m,\r\n",
      "                                \u001b[34;01m\"resources\"\u001b[39;49;00m: {\r\n",
      "                                    \u001b[34;01m\"requests\"\u001b[39;49;00m: {\r\n",
      "                                        \u001b[34;01m\"memory\"\u001b[39;49;00m: \u001b[33m\"1Mi\"\u001b[39;49;00m\r\n",
      "                                    }\r\n",
      "                                }\r\n",
      "                            }\r\n",
      "                        ],\r\n",
      "                        \u001b[34;01m\"terminationGracePeriodSeconds\"\u001b[39;49;00m: \u001b[34m1\u001b[39;49;00m\r\n",
      "                    }\r\n",
      "                }],\r\n",
      "                \u001b[34;01m\"graph\"\u001b[39;49;00m: {\r\n",
      "                    \u001b[34;01m\"children\"\u001b[39;49;00m: [],\r\n",
      "                    \u001b[34;01m\"name\"\u001b[39;49;00m: \u001b[33m\"tf-mnist-classifier\"\u001b[39;49;00m,\r\n",
      "                    \u001b[34;01m\"endpoint\"\u001b[39;49;00m: {\r\n",
      "                        \u001b[34;01m\"type\"\u001b[39;49;00m : \u001b[33m\"REST\"\u001b[39;49;00m\r\n",
      "                    },\r\n",
      "                    \u001b[34;01m\"type\"\u001b[39;49;00m: \u001b[33m\"MODEL\"\u001b[39;49;00m\r\n",
      "                },\r\n",
      "                \u001b[34;01m\"name\"\u001b[39;49;00m: \u001b[33m\"tf-mnist-predictor\"\u001b[39;49;00m,\r\n",
      "                \u001b[34;01m\"replicas\"\u001b[39;49;00m: \u001b[34m1\u001b[39;49;00m,\r\n",
      "\t\t\u001b[34;01m\"labels\"\u001b[39;49;00m:{\r\n",
      "\t\t    \u001b[34;01m\"version\"\u001b[39;49;00m:\u001b[33m\"v2\"\u001b[39;49;00m\r\n",
      "\t\t}\r\n",
      "            }\r\n",
      "\t    \r\n",
      "        ]\r\n",
      "    }\r\n",
      "}\r\n"
     ]
    }
   ],
   "source": [
    "!pygmentize mnist_v2.json"
   ]
  },
  {
   "cell_type": "code",
   "execution_count": 59,
   "metadata": {},
   "outputs": [
    {
     "data": {
      "image/svg+xml": [
       "<?xml version=\"1.0\" encoding=\"UTF-8\" standalone=\"no\"?>\n",
       "<!DOCTYPE svg PUBLIC \"-//W3C//DTD SVG 1.1//EN\"\n",
       " \"http://www.w3.org/Graphics/SVG/1.1/DTD/svg11.dtd\">\n",
       "<!-- Generated by graphviz version 2.38.0 (20140413.2041)\n",
       " -->\n",
       "<!-- Title: %3 Pages: 1 -->\n",
       "<svg width=\"296pt\" height=\"171pt\"\n",
       " viewBox=\"0.00 0.00 296.00 171.00\" xmlns=\"http://www.w3.org/2000/svg\" xmlns:xlink=\"http://www.w3.org/1999/xlink\">\n",
       "<g id=\"graph0\" class=\"graph\" transform=\"scale(1 1) rotate(0) translate(4 167)\">\n",
       "<title>%3</title>\n",
       "<polygon fill=\"white\" stroke=\"none\" points=\"-4,4 -4,-167 292,-167 292,4 -4,4\"/>\n",
       "<g id=\"clust1\" class=\"cluster\"><title>cluster_0</title>\n",
       "<polygon fill=\"none\" stroke=\"black\" points=\"8,-8 8,-155 142,-155 142,-8 8,-8\"/>\n",
       "<text text-anchor=\"middle\" x=\"75\" y=\"-139.8\" font-family=\"Times,serif\" font-size=\"14.00\">predictor</text>\n",
       "</g>\n",
       "<g id=\"clust2\" class=\"cluster\"><title>cluster_1</title>\n",
       "<polygon fill=\"none\" stroke=\"black\" points=\"150,-8 150,-155 280,-155 280,-8 150,-8\"/>\n",
       "<text text-anchor=\"middle\" x=\"215\" y=\"-139.8\" font-family=\"Times,serif\" font-size=\"14.00\">canary</text>\n",
       "</g>\n",
       "<!-- sk&#45;mnist&#45;classifier0 -->\n",
       "<g id=\"node1\" class=\"node\"><title>sk&#45;mnist&#45;classifier0</title>\n",
       "<polygon fill=\"none\" stroke=\"black\" points=\"133.5,-124 16.5,-124 16.5,-88 133.5,-88 133.5,-124\"/>\n",
       "<text text-anchor=\"middle\" x=\"75\" y=\"-102.3\" font-family=\"Times,serif\" font-size=\"14.00\">sk&#45;mnist&#45;classifier</text>\n",
       "</g>\n",
       "<!-- sk&#45;mnist&#45;classifier0endpoint -->\n",
       "<g id=\"node2\" class=\"node\"><title>sk&#45;mnist&#45;classifier0endpoint</title>\n",
       "<ellipse fill=\"none\" stroke=\"black\" cx=\"75\" cy=\"-34\" rx=\"32.4942\" ry=\"18\"/>\n",
       "<text text-anchor=\"middle\" x=\"75\" y=\"-30.3\" font-family=\"Times,serif\" font-size=\"14.00\">REST</text>\n",
       "</g>\n",
       "<!-- sk&#45;mnist&#45;classifier0&#45;&gt;sk&#45;mnist&#45;classifier0endpoint -->\n",
       "<g id=\"edge1\" class=\"edge\"><title>sk&#45;mnist&#45;classifier0&#45;&gt;sk&#45;mnist&#45;classifier0endpoint</title>\n",
       "<path fill=\"none\" stroke=\"black\" d=\"M75,-87.6966C75,-79.9827 75,-70.7125 75,-62.1124\"/>\n",
       "<polygon fill=\"black\" stroke=\"black\" points=\"78.5001,-62.1043 75,-52.1043 71.5001,-62.1044 78.5001,-62.1043\"/>\n",
       "</g>\n",
       "<!-- tf&#45;mnist&#45;classifier1 -->\n",
       "<g id=\"node3\" class=\"node\"><title>tf&#45;mnist&#45;classifier1</title>\n",
       "<polygon fill=\"none\" stroke=\"black\" points=\"271.5,-124 158.5,-124 158.5,-88 271.5,-88 271.5,-124\"/>\n",
       "<text text-anchor=\"middle\" x=\"215\" y=\"-102.3\" font-family=\"Times,serif\" font-size=\"14.00\">tf&#45;mnist&#45;classifier</text>\n",
       "</g>\n",
       "<!-- tf&#45;mnist&#45;classifier1endpoint -->\n",
       "<g id=\"node4\" class=\"node\"><title>tf&#45;mnist&#45;classifier1endpoint</title>\n",
       "<ellipse fill=\"none\" stroke=\"black\" cx=\"215\" cy=\"-34\" rx=\"32.4942\" ry=\"18\"/>\n",
       "<text text-anchor=\"middle\" x=\"215\" y=\"-30.3\" font-family=\"Times,serif\" font-size=\"14.00\">REST</text>\n",
       "</g>\n",
       "<!-- tf&#45;mnist&#45;classifier1&#45;&gt;tf&#45;mnist&#45;classifier1endpoint -->\n",
       "<g id=\"edge2\" class=\"edge\"><title>tf&#45;mnist&#45;classifier1&#45;&gt;tf&#45;mnist&#45;classifier1endpoint</title>\n",
       "<path fill=\"none\" stroke=\"black\" d=\"M215,-87.6966C215,-79.9827 215,-70.7125 215,-62.1124\"/>\n",
       "<polygon fill=\"black\" stroke=\"black\" points=\"218.5,-62.1043 215,-52.1043 211.5,-62.1044 218.5,-62.1043\"/>\n",
       "</g>\n",
       "</g>\n",
       "</svg>\n"
      ],
      "text/plain": [
       "<graphviz.dot.Digraph at 0x7f817b161eb8>"
      ]
     },
     "execution_count": 59,
     "metadata": {},
     "output_type": "execute_result"
    }
   ],
   "source": [
    "get_graph(\"mnist_v2.json\")"
   ]
  },
  {
   "cell_type": "code",
   "execution_count": 60,
   "metadata": {},
   "outputs": [
    {
     "name": "stdout",
     "output_type": "stream",
     "text": [
      "seldondeployment.machinelearning.seldon.io/mnist-classifier configured\r\n"
     ]
    }
   ],
   "source": [
    "!kubectl apply -f mnist_v2.json"
   ]
  },
  {
   "cell_type": "markdown",
   "metadata": {},
   "source": [
    "** Wait until new pods are running **"
   ]
  },
  {
   "cell_type": "code",
   "execution_count": 33,
   "metadata": {},
   "outputs": [
    {
     "name": "stdout",
     "output_type": "stream",
     "text": [
      "Waiting for deployment \"mnist-deployment-tf-mnist-predictor-0b33413\" rollout to finish: 0 of 1 updated replicas are available...\n",
      "deployment \"mnist-deployment-tf-mnist-predictor-0b33413\" successfully rolled out\n"
     ]
    }
   ],
   "source": [
    "!kubectl rollout status deploy/mnist-deployment-tf-mnist-predictor-0b33413"
   ]
  },
  {
   "cell_type": "code",
   "execution_count": 61,
   "metadata": {},
   "outputs": [
    {
     "data": {
      "image/png": "[encoded data removed]",
      "text/plain": [
       "<matplotlib.figure.Figure at 0x7f817b120a58>"
      ]
     },
     "metadata": {},
     "output_type": "display_data"
    },
    {
     "name": "stdout",
     "output_type": "stream",
     "text": [
      "Route:{}\n",
      "{\n",
      "  \"class:0\": \"0.00\",\n",
      "  \"class:1\": \"0.00\",\n",
      "  \"class:2\": \"0.00\",\n",
      "  \"class:3\": \"0.01\",\n",
      "  \"class:4\": \"0.95\",\n",
      "  \"class:5\": \"0.01\",\n",
      "  \"class:6\": \"0.00\",\n",
      "  \"class:7\": \"0.00\",\n",
      "  \"class:8\": \"0.00\",\n",
      "  \"class:9\": \"0.03\"\n",
      "}\n"
     ]
    }
   ],
   "source": [
    "utils.predict_rest_mnist(mnist,\"mnist-classifier\")"
   ]
  },
  {
   "cell_type": "markdown",
   "metadata": {},
   "source": [
    "## Setup Canary Routing\n",
    "\n",
    "Let's be cautious and route 30% of traffic to version 2"
   ]
  },
  {
   "cell_type": "code",
   "execution_count": 62,
   "metadata": {},
   "outputs": [
    {
     "name": "stdout",
     "output_type": "stream",
     "text": [
      "apiVersion: networking.istio.io/v1alpha3\r\n",
      "kind: VirtualService\r\n",
      "metadata:\r\n",
      "  name: mnist-deployment\r\n",
      "  namespace: seldon\r\n",
      "spec:\r\n",
      "  hosts:\r\n",
      "  - mnist-deployment\r\n",
      "  http:\r\n",
      "  - route:\r\n",
      "    - destination:\r\n",
      "        host: mnist-deployment\r\n",
      "        subset: v1\r\n",
      "      weight: 70\r\n",
      "    - destination:\r\n",
      "        host: mnist-deployment\r\n",
      "        subset: v2\r\n",
      "      weight: 30      \r\n",
      "\u001b[04m\u001b[36m---\u001b[39;49;00m\r\n",
      "apiVersion: networking.istio.io/v1alpha3\r\n",
      "kind: DestinationRule\r\n",
      "metadata:\r\n",
      "  name: mnist-deployment\r\n",
      "  namespace: seldon  \r\n",
      "spec:\r\n",
      "  host: mnist-deployment\r\n",
      "  subsets:\r\n",
      "  - name: v1\r\n",
      "    labels:\r\n",
      "      version: v1\r\n",
      "  - name: v2\r\n",
      "    labels:\r\n",
      "      version: v2\r\n",
      "\u001b[04m\u001b[36m---\u001b[39;49;00m\r\n"
     ]
    }
   ],
   "source": [
    "!pygmentize istio_canary_v2.yaml"
   ]
  },
  {
   "cell_type": "code",
   "execution_count": 65,
   "metadata": {},
   "outputs": [
    {
     "name": "stdout",
     "output_type": "stream",
     "text": [
      "Updated config virtual-service/seldon/mnist-deployment to revision 11056\n",
      "Updated config destination-rule/seldon/mnist-deployment to revision 10741\n"
     ]
    }
   ],
   "source": [
    "!istioctl replace -f istio_canary_v2.yaml"
   ]
  },
  {
   "cell_type": "markdown",
   "metadata": {},
   "source": [
    "Viewing the Seldon Grafana dashboard we see both models getting traffic.\n",
    "\n",
    "![dashboard](dashboard.png)"
   ]
  },
  {
   "cell_type": "markdown",
   "metadata": {},
   "source": [
    "## Setup Routing to Version 2\n",
    "\n",
    "After testing we are happy and want to switch 100% of traffic to version 2 our Tensorflow model."
   ]
  },
  {
   "cell_type": "code",
   "execution_count": 67,
   "metadata": {},
   "outputs": [
    {
     "name": "stdout",
     "output_type": "stream",
     "text": [
      "apiVersion: networking.istio.io/v1alpha3\r\n",
      "kind: VirtualService\r\n",
      "metadata:\r\n",
      "  name: mnist-deployment\r\n",
      "  namespace: seldon\r\n",
      "spec:\r\n",
      "  hosts:\r\n",
      "  - mnist-deployment-mnist-classifier\r\n",
      "  http:\r\n",
      "  - route:\r\n",
      "    - destination:\r\n",
      "        host: mnist-deployment-mnist-classifier\r\n",
      "        subset: v2\r\n",
      "\u001b[04m\u001b[36m---\u001b[39;49;00m\r\n",
      "apiVersion: networking.istio.io/v1alpha3\r\n",
      "kind: DestinationRule\r\n",
      "metadata:\r\n",
      "  name: mnist-deployment\r\n",
      "  namespace: seldon  \r\n",
      "spec:\r\n",
      "  host: mnist-deployment-mnist-classifier\r\n",
      "  subsets:\r\n",
      "  - name: v1\r\n",
      "    labels:\r\n",
      "      version: v1\r\n",
      "  - name: v2\r\n",
      "    labels:\r\n",
      "      version: v2\r\n",
      "\u001b[04m\u001b[36m---\u001b[39;49;00m\r\n"
     ]
    }
   ],
   "source": [
    "!pygmentize istio_canary_v3.yaml"
   ]
  },
  {
   "cell_type": "code",
   "execution_count": 68,
   "metadata": {},
   "outputs": [
    {
     "name": "stdout",
     "output_type": "stream",
     "text": [
      "Updated config virtual-service/seldon/mnist-deployment to revision 12704\n",
      "Updated config destination-rule/seldon/mnist-deployment to revision 10741\n"
     ]
    }
   ],
   "source": [
    "!istioctl replace -f istio_canary_v3.yaml"
   ]
  },
  {
   "cell_type": "markdown",
   "metadata": {},
   "source": [
    "The dashboard now show traffic 100% to our new model.\n",
    "\n",
    "![dashboard2](dashboard2.png)"
   ]
  },
  {
   "cell_type": "markdown",
   "metadata": {},
   "source": [
    "## Switch to final model\n",
    "\n",
    "Finally, lets save resources and remove version 1 of our model"
   ]
  },
  {
   "cell_type": "code",
   "execution_count": 71,
   "metadata": {},
   "outputs": [
    {
     "name": "stdout",
     "output_type": "stream",
     "text": [
      "{\r\n",
      "    \u001b[34;01m\"apiVersion\"\u001b[39;49;00m: \u001b[33m\"machinelearning.seldon.io/v1alpha2\"\u001b[39;49;00m,\r\n",
      "    \u001b[34;01m\"kind\"\u001b[39;49;00m: \u001b[33m\"SeldonDeployment\"\u001b[39;49;00m,\r\n",
      "    \u001b[34;01m\"metadata\"\u001b[39;49;00m: {\r\n",
      "        \u001b[34;01m\"labels\"\u001b[39;49;00m: {\r\n",
      "            \u001b[34;01m\"app\"\u001b[39;49;00m: \u001b[33m\"seldon\"\u001b[39;49;00m\r\n",
      "        },\r\n",
      "        \u001b[34;01m\"name\"\u001b[39;49;00m: \u001b[33m\"mnist-classifier\"\u001b[39;49;00m\r\n",
      "    },\r\n",
      "    \u001b[34;01m\"spec\"\u001b[39;49;00m: {\r\n",
      "        \u001b[34;01m\"annotations\"\u001b[39;49;00m: {\r\n",
      "            \u001b[34;01m\"project_name\"\u001b[39;49;00m: \u001b[33m\"Mnist classification\"\u001b[39;49;00m\r\n",
      "        },\r\n",
      "        \u001b[34;01m\"name\"\u001b[39;49;00m: \u001b[33m\"mnist-deployment\"\u001b[39;49;00m,\r\n",
      "        \u001b[34;01m\"predictors\"\u001b[39;49;00m: [\r\n",
      "            {\r\n",
      "                \u001b[34;01m\"componentSpecs\"\u001b[39;49;00m: [{\r\n",
      "                    \u001b[34;01m\"spec\"\u001b[39;49;00m: {\r\n",
      "                        \u001b[34;01m\"containers\"\u001b[39;49;00m: [\r\n",
      "                            {\r\n",
      "                                \u001b[34;01m\"image\"\u001b[39;49;00m: \u001b[33m\"seldonio/tf-example-mnist:0.1\"\u001b[39;49;00m,\r\n",
      "                                \u001b[34;01m\"imagePullPolicy\"\u001b[39;49;00m: \u001b[33m\"IfNotPresent\"\u001b[39;49;00m,\r\n",
      "                                \u001b[34;01m\"name\"\u001b[39;49;00m: \u001b[33m\"tf-mnist-classifier\"\u001b[39;49;00m,\r\n",
      "                                \u001b[34;01m\"resources\"\u001b[39;49;00m: {\r\n",
      "                                    \u001b[34;01m\"requests\"\u001b[39;49;00m: {\r\n",
      "                                        \u001b[34;01m\"memory\"\u001b[39;49;00m: \u001b[33m\"1Mi\"\u001b[39;49;00m\r\n",
      "                                    }\r\n",
      "                                }\r\n",
      "                            }\r\n",
      "                        ],\r\n",
      "                        \u001b[34;01m\"terminationGracePeriodSeconds\"\u001b[39;49;00m: \u001b[34m1\u001b[39;49;00m\r\n",
      "                    }\r\n",
      "                }],\r\n",
      "                \u001b[34;01m\"graph\"\u001b[39;49;00m: {\r\n",
      "                    \u001b[34;01m\"children\"\u001b[39;49;00m: [],\r\n",
      "                    \u001b[34;01m\"name\"\u001b[39;49;00m: \u001b[33m\"tf-mnist-classifier\"\u001b[39;49;00m,\r\n",
      "                    \u001b[34;01m\"endpoint\"\u001b[39;49;00m: {\r\n",
      "                        \u001b[34;01m\"type\"\u001b[39;49;00m : \u001b[33m\"REST\"\u001b[39;49;00m\r\n",
      "                    },\r\n",
      "                    \u001b[34;01m\"type\"\u001b[39;49;00m: \u001b[33m\"MODEL\"\u001b[39;49;00m\r\n",
      "                },\r\n",
      "                \u001b[34;01m\"name\"\u001b[39;49;00m: \u001b[33m\"tf-mnist-predictor\"\u001b[39;49;00m,\r\n",
      "                \u001b[34;01m\"replicas\"\u001b[39;49;00m: \u001b[34m1\u001b[39;49;00m,\r\n",
      "\t\t\u001b[34;01m\"labels\"\u001b[39;49;00m:{\r\n",
      "\t\t    \u001b[34;01m\"version\"\u001b[39;49;00m:\u001b[33m\"v2\"\u001b[39;49;00m\r\n",
      "\t\t}\r\n",
      "            }\r\n",
      "\t    \r\n",
      "        ]\r\n",
      "    }\r\n",
      "}\r\n"
     ]
    }
   ],
   "source": [
    "!pygmentize mnist_v3.json"
   ]
  },
  {
   "cell_type": "code",
   "execution_count": 72,
   "metadata": {},
   "outputs": [
    {
     "data": {
      "image/svg+xml": [
       "<?xml version=\"1.0\" encoding=\"UTF-8\" standalone=\"no\"?>\n",
       "<!DOCTYPE svg PUBLIC \"-//W3C//DTD SVG 1.1//EN\"\n",
       " \"http://www.w3.org/Graphics/SVG/1.1/DTD/svg11.dtd\">\n",
       "<!-- Generated by graphviz version 2.38.0 (20140413.2041)\n",
       " -->\n",
       "<!-- Title: %3 Pages: 1 -->\n",
       "<svg width=\"154pt\" height=\"171pt\"\n",
       " viewBox=\"0.00 0.00 154.00 171.00\" xmlns=\"http://www.w3.org/2000/svg\" xmlns:xlink=\"http://www.w3.org/1999/xlink\">\n",
       "<g id=\"graph0\" class=\"graph\" transform=\"scale(1 1) rotate(0) translate(4 167)\">\n",
       "<title>%3</title>\n",
       "<polygon fill=\"white\" stroke=\"none\" points=\"-4,4 -4,-167 150,-167 150,4 -4,4\"/>\n",
       "<g id=\"clust1\" class=\"cluster\"><title>cluster_0</title>\n",
       "<polygon fill=\"none\" stroke=\"black\" points=\"8,-8 8,-155 138,-155 138,-8 8,-8\"/>\n",
       "<text text-anchor=\"middle\" x=\"73\" y=\"-139.8\" font-family=\"Times,serif\" font-size=\"14.00\">predictor</text>\n",
       "</g>\n",
       "<!-- tf&#45;mnist&#45;classifier0 -->\n",
       "<g id=\"node1\" class=\"node\"><title>tf&#45;mnist&#45;classifier0</title>\n",
       "<polygon fill=\"none\" stroke=\"black\" points=\"129.5,-124 16.5,-124 16.5,-88 129.5,-88 129.5,-124\"/>\n",
       "<text text-anchor=\"middle\" x=\"73\" y=\"-102.3\" font-family=\"Times,serif\" font-size=\"14.00\">tf&#45;mnist&#45;classifier</text>\n",
       "</g>\n",
       "<!-- tf&#45;mnist&#45;classifier0endpoint -->\n",
       "<g id=\"node2\" class=\"node\"><title>tf&#45;mnist&#45;classifier0endpoint</title>\n",
       "<ellipse fill=\"none\" stroke=\"black\" cx=\"73\" cy=\"-34\" rx=\"32.4942\" ry=\"18\"/>\n",
       "<text text-anchor=\"middle\" x=\"73\" y=\"-30.3\" font-family=\"Times,serif\" font-size=\"14.00\">REST</text>\n",
       "</g>\n",
       "<!-- tf&#45;mnist&#45;classifier0&#45;&gt;tf&#45;mnist&#45;classifier0endpoint -->\n",
       "<g id=\"edge1\" class=\"edge\"><title>tf&#45;mnist&#45;classifier0&#45;&gt;tf&#45;mnist&#45;classifier0endpoint</title>\n",
       "<path fill=\"none\" stroke=\"black\" d=\"M73,-87.6966C73,-79.9827 73,-70.7125 73,-62.1124\"/>\n",
       "<polygon fill=\"black\" stroke=\"black\" points=\"76.5001,-62.1043 73,-52.1043 69.5001,-62.1044 76.5001,-62.1043\"/>\n",
       "</g>\n",
       "</g>\n",
       "</svg>\n"
      ],
      "text/plain": [
       "<graphviz.dot.Digraph at 0x7f81793da8d0>"
      ]
     },
     "execution_count": 72,
     "metadata": {},
     "output_type": "execute_result"
    }
   ],
   "source": [
    "get_graph(\"mnist_v3.json\")"
   ]
  },
  {
   "cell_type": "code",
   "execution_count": 73,
   "metadata": {},
   "outputs": [
    {
     "name": "stdout",
     "output_type": "stream",
     "text": [
      "seldondeployment.machinelearning.seldon.io/mnist-classifier configured\r\n"
     ]
    }
   ],
   "source": [
    "!kubectl apply -f mnist_v3.json"
   ]
  },
  {
   "cell_type": "code",
   "execution_count": null,
   "metadata": {},
   "outputs": [],
   "source": []
  }
 ],
 "metadata": {
  "kernelspec": {
   "display_name": "Python 3",
   "language": "python",
   "name": "python3"
  },
  "language_info": {
   "codemirror_mode": {
    "name": "ipython",
    "version": 3
   },
   "file_extension": ".py",
   "mimetype": "text/x-python",
   "name": "python",
   "nbconvert_exporter": "python",
   "pygments_lexer": "ipython3",
   "version": "3.6.4"
  }
 },
 "nbformat": 4,
 "nbformat_minor": 2
}
