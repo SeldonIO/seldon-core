{
 "cells": [
  {
   "cell_type": "markdown",
   "metadata": {},
   "source": [
    "# Basic Examples for SKlearn Prepackaged Server train with DVC and deployed to MinIO\n",
    "\n",
    "\n",
    "## Prerequisites\n",
    "\n",
    " * A kubernetes cluster with kubectl configured\n",
    " * curl\n",
    " * pygmentize\n",
    " \n",
    "\n",
    "## Setup Seldon Core\n",
    "\n",
    "Use the setup notebook to [Setup Cluster](seldon_core_setup.ipynb) to setup Seldon Core with an ingress.\n",
    "\n",
    "\n",
    "## Setup MinIO\n",
    "\n",
    "Use the provided [notebook](../../../notebooks/minio_setup.ipynb) to install Minio in your cluster and configure `mc` CLI tool. \n",
    "Instructions [also online](./minio_setup.html)."
   ]
  },
  {
   "cell_type": "markdown",
   "metadata": {},
   "source": [
    "## Get DVC CLI tool\n",
    "\n",
    "Using pip\n",
    "```bash\n",
    "pip install --user dvc\n",
    "```\n",
    "\n",
    "Or follow steps relevant to your platform from official [documentation](https://dvc.org/doc/install)"
   ]
  },
  {
   "cell_type": "markdown",
   "metadata": {},
   "source": [
    "## Train model\n",
    "\n",
    "Key points of training are defined in the following Makefile"
   ]
  },
  {
   "cell_type": "code",
   "execution_count": 1,
   "metadata": {},
   "outputs": [
    {
     "name": "stdout",
     "output_type": "stream",
     "text": [
      "\u001b[32menv\u001b[39;49;00m:\n",
      "\tpython3 -m venv .env\n",
      "\t./.env/bin/pip install --upgrade pip setuptools\n",
      "\t./.env/bin/pip install -r requirements.txt\n",
      "\n",
      "\u001b[32mtrain\u001b[39;49;00m:\n",
      "\t.env/bin/python train_iris.py\n",
      "\n",
      "\u001b[32mmodel\u001b[39;49;00m: env train\n"
     ]
    }
   ],
   "source": [
    "!pygmentize Makefile"
   ]
  },
  {
   "cell_type": "markdown",
   "metadata": {},
   "source": [
    "which creates a python environment `.env` and call following training script:"
   ]
  },
  {
   "cell_type": "code",
   "execution_count": 2,
   "metadata": {},
   "outputs": [
    {
     "name": "stdout",
     "output_type": "stream",
     "text": [
      "\u001b[34mimport\u001b[39;49;00m \u001b[04m\u001b[36mjoblib\u001b[39;49;00m\n",
      "\u001b[34mfrom\u001b[39;49;00m \u001b[04m\u001b[36msklearn\u001b[39;49;00m\u001b[04m\u001b[36m.\u001b[39;49;00m\u001b[04m\u001b[36mlinear_model\u001b[39;49;00m \u001b[34mimport\u001b[39;49;00m LogisticRegression\n",
      "\u001b[34mfrom\u001b[39;49;00m \u001b[04m\u001b[36msklearn\u001b[39;49;00m\u001b[04m\u001b[36m.\u001b[39;49;00m\u001b[04m\u001b[36mpipeline\u001b[39;49;00m \u001b[34mimport\u001b[39;49;00m Pipeline\n",
      "\u001b[34mfrom\u001b[39;49;00m \u001b[04m\u001b[36msklearn\u001b[39;49;00m \u001b[34mimport\u001b[39;49;00m datasets\n",
      "\n",
      "\n",
      "\u001b[34mdef\u001b[39;49;00m \u001b[32mmain\u001b[39;49;00m():\n",
      "    clf = LogisticRegression(solver=\u001b[33m\"\u001b[39;49;00m\u001b[33mliblinear\u001b[39;49;00m\u001b[33m\"\u001b[39;49;00m, multi_class=\u001b[33m'\u001b[39;49;00m\u001b[33movr\u001b[39;49;00m\u001b[33m'\u001b[39;49;00m)\n",
      "    p = Pipeline([(\u001b[33m\"\u001b[39;49;00m\u001b[33mclf\u001b[39;49;00m\u001b[33m\"\u001b[39;49;00m, clf)])\n",
      "    \u001b[36mprint\u001b[39;49;00m(\u001b[33m\"\u001b[39;49;00m\u001b[33mTraining model...\u001b[39;49;00m\u001b[33m\"\u001b[39;49;00m)\n",
      "    p.fit(X, y)\n",
      "    \u001b[36mprint\u001b[39;49;00m(\u001b[33m\"\u001b[39;49;00m\u001b[33mModel trained!\u001b[39;49;00m\u001b[33m\"\u001b[39;49;00m)\n",
      "\n",
      "    filename_p = \u001b[33m\"\u001b[39;49;00m\u001b[33mmodel.joblib\u001b[39;49;00m\u001b[33m\"\u001b[39;49;00m\n",
      "    \u001b[36mprint\u001b[39;49;00m(\u001b[33m\"\u001b[39;49;00m\u001b[33mSaving model in \u001b[39;49;00m\u001b[33m%s\u001b[39;49;00m\u001b[33m\"\u001b[39;49;00m % filename_p)\n",
      "    joblib.dump(p, filename_p)\n",
      "    \u001b[36mprint\u001b[39;49;00m(\u001b[33m\"\u001b[39;49;00m\u001b[33mModel saved!\u001b[39;49;00m\u001b[33m\"\u001b[39;49;00m)\n",
      "\n",
      "\n",
      "\u001b[34mif\u001b[39;49;00m \u001b[31m__name__\u001b[39;49;00m == \u001b[33m\"\u001b[39;49;00m\u001b[33m__main__\u001b[39;49;00m\u001b[33m\"\u001b[39;49;00m:\n",
      "    \u001b[36mprint\u001b[39;49;00m(\u001b[33m\"\u001b[39;49;00m\u001b[33mLoading iris data set...\u001b[39;49;00m\u001b[33m\"\u001b[39;49;00m)\n",
      "    iris = datasets.load_iris()\n",
      "    X, y = iris.data, iris.target\n",
      "    \u001b[36mprint\u001b[39;49;00m(\u001b[33m\"\u001b[39;49;00m\u001b[33mDataset loaded!\u001b[39;49;00m\u001b[33m\"\u001b[39;49;00m)\n",
      "    main()\n"
     ]
    }
   ],
   "source": [
    "!pygmentize train_iris.py"
   ]
  },
  {
   "cell_type": "markdown",
   "metadata": {},
   "source": [
    "### Initial model training (first run)\n",
    "\n",
    "First training with dvc will crate the `model.dvc` file specifying the hash of output.\n",
    "We will use that hash to version our model."
   ]
  },
  {
   "cell_type": "code",
   "execution_count": 3,
   "metadata": {},
   "outputs": [
    {
     "name": "stdout",
     "output_type": "stream",
     "text": [
      "Stage is cached, skipping.\n"
     ]
    }
   ],
   "source": [
    "%%bash\n",
    "dvc run -f model.dvc \\\n",
    "          -d Makefile -d requirements.txt -d train_iris.py \\\n",
    "          -o model.joblib \\\n",
    "          --overwrite-dvcfile \\\n",
    "          make model"
   ]
  },
  {
   "cell_type": "code",
   "execution_count": 4,
   "metadata": {},
   "outputs": [
    {
     "name": "stdout",
     "output_type": "stream",
     "text": [
      "md5: 99124ac10a601ab1d9f07f9c392b5d89\n",
      "cmd: make model\n",
      "deps:\n",
      "- md5: 65fd61883993b68d1937bdc36c59b20c\n",
      "  path: Makefile\n",
      "- md5: 7e8ce9f96492fee21db6a59c2b52f34d\n",
      "  path: requirements.txt\n",
      "- md5: 49c19c3ea9deb642066c0a457181cfbf\n",
      "  path: train_iris.py\n",
      "outs:\n",
      "- md5: 8104914e6936da9864603b9bc4be2114\n",
      "  path: model.joblib\n",
      "  cache: true\n",
      "  metric: false\n",
      "  persist: false\n"
     ]
    }
   ],
   "source": [
    "!cat model.dvc"
   ]
  },
  {
   "cell_type": "markdown",
   "metadata": {},
   "source": [
    "The hash of the output is `8104914e6936da9864603b9bc4be2114`"
   ]
  },
  {
   "cell_type": "markdown",
   "metadata": {},
   "source": [
    "### Reproducing results (successive later runs)"
   ]
  },
  {
   "cell_type": "markdown",
   "metadata": {},
   "source": [
    "With DVC it is possible to repeat training in reproducible way as versions (hashes) of dependencies are all stored in the `model.dvc` file"
   ]
  },
  {
   "cell_type": "code",
   "execution_count": 5,
   "metadata": {},
   "outputs": [
    {
     "name": "stdout",
     "output_type": "stream",
     "text": [
      "Running command:\n",
      "\tmake model\n",
      "Output 'model.joblib' didn't change. Skipping saving.\n",
      "\n",
      "To track the changes with git, run:\n",
      "\n",
      "\tgit add model.dvc\n"
     ]
    },
    {
     "name": "stderr",
     "output_type": "stream",
     "text": [
      "WARNING: stage: 'model.dvc' changed.\n"
     ]
    }
   ],
   "source": [
    "%%bash\n",
    "rm model.joblib -f\n",
    "dvc repro model.dvc"
   ]
  },
  {
   "cell_type": "markdown",
   "metadata": {},
   "source": [
    "## Add trained model to remote S3 storage"
   ]
  },
  {
   "cell_type": "markdown",
   "metadata": {},
   "source": [
    "### Create metadata.yaml \n",
    "\n",
    "In metadata we can use DVC's hash to version deployed models"
   ]
  },
  {
   "cell_type": "code",
   "execution_count": 6,
   "metadata": {},
   "outputs": [
    {
     "name": "stdout",
     "output_type": "stream",
     "text": [
      "Overwriting metadata.yaml\n"
     ]
    }
   ],
   "source": [
    "%%writefile metadata.yaml\n",
    "\n",
    "name: iris\n",
    "versions: [iris/dvc:8104914e6936da9864603b9bc4be2114]\n",
    "platform: sklearn\n",
    "inputs:\n",
    "- datatype: BYTES\n",
    "  name: input\n",
    "  shape: [ 1, 4 ]\n",
    "outputs:\n",
    "- datatype: BYTES\n",
    "  name: output\n",
    "  shape: [ 3 ]"
   ]
  },
  {
   "cell_type": "markdown",
   "metadata": {},
   "source": [
    "### Create bucket for our trained model and push it"
   ]
  },
  {
   "cell_type": "code",
   "execution_count": 7,
   "metadata": {},
   "outputs": [
    {
     "name": "stdout",
     "output_type": "stream",
     "text": [
      "Bucket created successfully `minio-seldon/dvc-iris`.\n",
      "`model.joblib` -> `minio-seldon/dvc-iris/model.joblib`\n",
      "Total: 0 B, Transferred: 1.05 KiB, Speed: 101.06 KiB/s\n",
      "`metadata.yaml` -> `minio-seldon/dvc-iris/metadata.yaml`\n",
      "Total: 0 B, Transferred: 199 B, Speed: 40.66 KiB/s\n"
     ]
    }
   ],
   "source": [
    "%%bash\n",
    "mc mb minio-seldon/dvc-iris -p\n",
    "\n",
    "mc cp model.joblib minio-seldon/dvc-iris/\n",
    "mc cp metadata.yaml minio-seldon/dvc-iris/"
   ]
  },
  {
   "cell_type": "code",
   "execution_count": 9,
   "metadata": {},
   "outputs": [
    {
     "name": "stdout",
     "output_type": "stream",
     "text": [
      "\u001b[m\u001b[32m[2020-05-24 18:56:43 BST] \u001b[0m\u001b[33m   199B \u001b[0m\u001b[1mmetadata.yaml\u001b[0m\n",
      "\u001b[0m\u001b[m\u001b[32m[2020-05-24 18:56:43 BST] \u001b[0m\u001b[33m 1.1KiB \u001b[0m\u001b[1mmodel.joblib\u001b[0m\n",
      "\u001b[0m"
     ]
    }
   ],
   "source": [
    "!mc ls minio-seldon/dvc-iris"
   ]
  },
  {
   "cell_type": "markdown",
   "metadata": {},
   "source": [
    "## Deploy sklearn server"
   ]
  },
  {
   "cell_type": "code",
   "execution_count": 10,
   "metadata": {},
   "outputs": [
    {
     "name": "stdout",
     "output_type": "stream",
     "text": [
      "Overwriting secret.yaml\n"
     ]
    }
   ],
   "source": [
    "%%writefile secret.yaml\n",
    "\n",
    "apiVersion: v1\n",
    "kind: Secret\n",
    "metadata:\n",
    "  name: seldon-init-container-secret\n",
    "type: Opaque\n",
    "stringData:\n",
    "  AWS_ACCESS_KEY_ID: minioadmin\n",
    "  AWS_SECRET_ACCESS_KEY: minioadmin\n",
    "  AWS_ENDPOINT_URL: http://minio.minio-system.svc.cluster.local:9000\n",
    "  USE_SSL: \"false\""
   ]
  },
  {
   "cell_type": "code",
   "execution_count": 11,
   "metadata": {},
   "outputs": [
    {
     "name": "stdout",
     "output_type": "stream",
     "text": [
      "secret/seldon-init-container-secret configured\n"
     ]
    }
   ],
   "source": [
    "!kubectl apply -f secret.yaml"
   ]
  },
  {
   "cell_type": "code",
   "execution_count": 12,
   "metadata": {},
   "outputs": [
    {
     "name": "stdout",
     "output_type": "stream",
     "text": [
      "Overwriting deploy.yaml\n"
     ]
    }
   ],
   "source": [
    "%%writefile deploy.yaml\n",
    "\n",
    "apiVersion: machinelearning.seldon.io/v1\n",
    "kind: SeldonDeployment\n",
    "metadata:\n",
    "  name: minio-dvc-sklearn\n",
    "spec:\n",
    "  annotations:\n",
    "    seldon.io/executor: \"true\"\n",
    "  name: iris\n",
    "  predictors:\n",
    "  - componentSpecs:\n",
    "    graph:\n",
    "      children: []\n",
    "      implementation: SKLEARN_SERVER\n",
    "      modelUri: s3://dvc-iris\n",
    "      envSecretRefName: seldon-init-container-secret\n",
    "      name: classifier\n",
    "    name: default\n",
    "    replicas: 1"
   ]
  },
  {
   "cell_type": "code",
   "execution_count": 13,
   "metadata": {},
   "outputs": [
    {
     "name": "stdout",
     "output_type": "stream",
     "text": [
      "seldondeployment.machinelearning.seldon.io/minio-dvc-sklearn created\n"
     ]
    }
   ],
   "source": [
    "!kubectl apply -f deploy.yaml"
   ]
  },
  {
   "cell_type": "code",
   "execution_count": 14,
   "metadata": {},
   "outputs": [
    {
     "name": "stdout",
     "output_type": "stream",
     "text": [
      "Waiting for deployment \"minio-dvc-sklearn-default-0-classifier\" rollout to finish: 0 of 1 updated replicas are available...\n",
      "deployment \"minio-dvc-sklearn-default-0-classifier\" successfully rolled out\n"
     ]
    }
   ],
   "source": [
    "!kubectl rollout status deploy/$(kubectl get deploy -l seldon-deployment-id=minio-dvc-sklearn -o jsonpath='{.items[0].metadata.name}')"
   ]
  },
  {
   "cell_type": "markdown",
   "metadata": {},
   "source": [
    "## Test deployment"
   ]
  },
  {
   "cell_type": "markdown",
   "metadata": {},
   "source": [
    "### Test prediction"
   ]
  },
  {
   "cell_type": "code",
   "execution_count": 15,
   "metadata": {},
   "outputs": [
    {
     "name": "stdout",
     "output_type": "stream",
     "text": [
      "{\n",
      "  \"data\": {\n",
      "    \"names\": [\n",
      "      \"t:0\",\n",
      "      \"t:1\",\n",
      "      \"t:2\"\n",
      "    ],\n",
      "    \"ndarray\": [\n",
      "      [\n",
      "        0.9548873249364185,\n",
      "        0.04505474761561256,\n",
      "        5.792744796895459e-05\n",
      "      ]\n",
      "    ]\n",
      "  },\n",
      "  \"meta\": {}\n",
      "}\n"
     ]
    }
   ],
   "source": [
    "%%bash\n",
    "curl -s -X POST -H 'Content-Type: application/json' \\\n",
    "    -d '{\"data\":{\"ndarray\":[[5.964, 4.006, 2.081, 1.031]]}}' \\\n",
    "    http://localhost:8003/seldon/seldon/minio-dvc-sklearn/api/v1.0/predictions  | jq ."
   ]
  },
  {
   "cell_type": "markdown",
   "metadata": {},
   "source": [
    "### Test model metadata (optional)"
   ]
  },
  {
   "cell_type": "code",
   "execution_count": 16,
   "metadata": {},
   "outputs": [
    {
     "name": "stdout",
     "output_type": "stream",
     "text": [
      "{\n",
      "  \"inputs\": [\n",
      "    {\n",
      "      \"datatype\": \"BYTES\",\n",
      "      \"name\": \"input\",\n",
      "      \"shape\": [\n",
      "        1,\n",
      "        4\n",
      "      ]\n",
      "    }\n",
      "  ],\n",
      "  \"name\": \"iris\",\n",
      "  \"outputs\": [\n",
      "    {\n",
      "      \"datatype\": \"BYTES\",\n",
      "      \"name\": \"output\",\n",
      "      \"shape\": [\n",
      "        3\n",
      "      ]\n",
      "    }\n",
      "  ],\n",
      "  \"platform\": \"sklearn\",\n",
      "  \"versions\": [\n",
      "    \"iris/dvc:8104914e6936da9864603b9bc4be2114\"\n",
      "  ]\n",
      "}\n"
     ]
    }
   ],
   "source": [
    "%%bash\n",
    "curl -s http://localhost:8003/seldon/seldon/minio-dvc-sklearn/api/v1.0/metadata/classifier | jq ."
   ]
  },
  {
   "cell_type": "markdown",
   "metadata": {},
   "source": [
    "## Cleanup"
   ]
  },
  {
   "cell_type": "code",
   "execution_count": 17,
   "metadata": {},
   "outputs": [
    {
     "name": "stdout",
     "output_type": "stream",
     "text": [
      "seldondeployment.machinelearning.seldon.io \"minio-dvc-sklearn\" deleted\n"
     ]
    }
   ],
   "source": [
    "!kubectl delete -f deploy.yaml"
   ]
  },
  {
   "cell_type": "code",
   "execution_count": 20,
   "metadata": {},
   "outputs": [
    {
     "name": "stdout",
     "output_type": "stream",
     "text": [
      "rm: cannot remove '.env': No such file or directory\n"
     ]
    }
   ],
   "source": [
    "!rm .env -r"
   ]
  }
 ],
 "metadata": {
  "kernelspec": {
   "display_name": "Python 3",
   "language": "python",
   "name": "python3"
  },
  "language_info": {
   "codemirror_mode": {
    "name": "ipython",
    "version": 3
   },
   "file_extension": ".py",
   "mimetype": "text/x-python",
   "name": "python",
   "nbconvert_exporter": "python",
   "pygments_lexer": "ipython3",
   "version": "3.7.6"
  }
 },
 "nbformat": 4,
 "nbformat_minor": 4
}
