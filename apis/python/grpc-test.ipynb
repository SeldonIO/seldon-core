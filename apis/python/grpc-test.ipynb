{
 "cells": [
  {
   "cell_type": "code",
   "execution_count": null,
   "metadata": {},
   "outputs": [],
   "source": [
    "\n",
    "import subprocess\n",
    "import grpc\n",
    "from mlops.v2_dataplane.v2_dataplane_pb2_grpc import GRPCInferenceServiceStub\n",
    "from mlops.v2_dataplane.v2_dataplane_pb2 import ModelInferRequest, InferTensorContents\n",
    "\n",
    "def get_mesh_ip():\n",
    "    cmd = f\"kubectl get svc seldon-mesh -n seldon-mesh -o jsonpath='{{.status.loadBalancer.ingress[0].ip}}'\"\n",
    "    return subprocess.check_output(cmd, shell=True).decode(\"utf-8\")\n",
    "\n",
    "def generate_requests():\n",
    "    prompts = [\"Once upon a time \" * 10_000]\n",
    "    for prompt in prompts:\n",
    "        yield ModelInferRequest(\n",
    "            model_name=\"text-model\",\n",
    "            inputs=[ModelInferRequest.InferInputTensor(\n",
    "                name=\"prompt\",\n",
    "                datatype=\"BYTES\",\n",
    "                shape=[1, 1],\n",
    "                contents=InferTensorContents(bytes_contents=[prompt.encode()])\n",
    "            )]\n",
    "        )\n",
    "\n",
    "\n",
    "endpoint = get_mesh_ip() + \":80\"\n",
    "channel = grpc.insecure_channel(endpoint)\n",
    "stub = GRPCInferenceServiceStub(channel)\n",
    "\n",
    "\n",
    "# Define headers (metadata)\n",
    "metadata = [\n",
    "    (\"seldon-model\", \"text-model\"),\n",
    "    (\"seldon-internal-model\", \"text-model_1\")\n",
    "]\n",
    "\n",
    "# Make the streaming request with metadata\n",
    "response_stream = stub.ModelStreamInfer(generate_requests(), metadata=metadata)\n",
    "\n",
    "for response in response_stream:\n",
    "    print(response)"
   ]
  },
  {
   "cell_type": "code",
   "execution_count": null,
   "metadata": {},
   "outputs": [],
   "source": []
  }
 ],
 "metadata": {
  "kernelspec": {
   "display_name": "venv",
   "language": "python",
   "name": "python3"
  },
  "language_info": {
   "codemirror_mode": {
    "name": "ipython",
    "version": 3
   },
   "file_extension": ".py",
   "mimetype": "text/x-python",
   "name": "python",
   "nbconvert_exporter": "python",
   "pygments_lexer": "ipython3",
   "version": "3.10.16"
  }
 },
 "nbformat": 4,
 "nbformat_minor": 2
}
