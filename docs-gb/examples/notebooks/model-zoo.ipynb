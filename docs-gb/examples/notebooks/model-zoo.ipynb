{
 "cells": [
  {
   "cell_type": "markdown",
   "id": "lesbian-springer",
   "metadata": {},
   "source": [
    "## Seldon Model Zoo\n",
    "\n",
    "Examples of various model artefact types from various frameworks running under Seldon Core V2.\n",
    "\n",
    " * SKlearn\n",
    " * Tensorflow\n",
    " * XGBoost\n",
    " * ONNX\n",
    " * Lightgbm\n",
    " * MLFlow\n",
    " * PyTorch\n",
    "\n",
    "Python requirements in `model-zoo-requirements.txt`"
   ]
  },
  {
   "cell_type": "markdown",
   "id": "5b1925df",
   "metadata": {},
   "source": [
    "### SKLearn Iris Classification Model\n",
    "\n",
    "The training code for this model can be found at `./scripts/models/iris`"
   ]
  },
  {
   "cell_type": "code",
   "execution_count": 1,
   "id": "8b4be911",
   "metadata": {},
   "outputs": [
    {
     "name": "stdout",
     "output_type": "stream",
     "text": [
      "apiVersion: mlops.seldon.io/v1alpha1\r\n",
      "kind: Model\r\n",
      "metadata:\r\n",
      "  name: iris\r\n",
      "spec:\r\n",
      "  storageUri: \"gs://seldon-models/scv2/samples/mlserver_1.3.5/iris-sklearn\"\r\n",
      "  requirements:\r\n",
      "  - sklearn\r\n",
      "  memory: 100Ki\r\n"
     ]
    }
   ],
   "source": [
    "!cat ./models/sklearn-iris-gs.yaml"
   ]
  },
  {
   "cell_type": "code",
   "execution_count": 2,
   "id": "checked-cream",
   "metadata": {},
   "outputs": [
    {
     "name": "stdout",
     "output_type": "stream",
     "text": [
      "{}\r\n"
     ]
    }
   ],
   "source": [
    "!seldon model load -f ./models/sklearn-iris-gs.yaml"
   ]
  },
  {
   "cell_type": "code",
   "execution_count": 3,
   "id": "interracial-secret",
   "metadata": {},
   "outputs": [
    {
     "name": "stdout",
     "output_type": "stream",
     "text": [
      "{}\r\n"
     ]
    }
   ],
   "source": [
    "!seldon model status iris -w ModelAvailable | jq -M ."
   ]
  },
  {
   "cell_type": "code",
   "execution_count": 4,
   "id": "upper-cholesterol",
   "metadata": {},
   "outputs": [
    {
     "name": "stdout",
     "output_type": "stream",
     "text": [
      "{\r\n",
      "\t\"model_name\": \"iris_1\",\r\n",
      "\t\"model_version\": \"1\",\r\n",
      "\t\"id\": \"09263298-ca66-49c5-acb9-0ca75b06f825\",\r\n",
      "\t\"parameters\": {},\r\n",
      "\t\"outputs\": [\r\n",
      "\t\t{\r\n",
      "\t\t\t\"name\": \"predict\",\r\n",
      "\t\t\t\"shape\": [\r\n",
      "\t\t\t\t1,\r\n",
      "\t\t\t\t1\r\n",
      "\t\t\t],\r\n",
      "\t\t\t\"datatype\": \"INT64\",\r\n",
      "\t\t\t\"data\": [\r\n",
      "\t\t\t\t2\r\n",
      "\t\t\t]\r\n",
      "\t\t}\r\n",
      "\t]\r\n",
      "}\r\n"
     ]
    }
   ],
   "source": [
    "!seldon model infer iris \\\n",
    "  '{\"inputs\": [{\"name\": \"predict\", \"shape\": [1, 4], \"datatype\": \"FP32\", \"data\": [[1, 2, 3, 4]]}]}' "
   ]
  },
  {
   "cell_type": "code",
   "execution_count": 5,
   "id": "ceramic-illness",
   "metadata": {},
   "outputs": [
    {
     "name": "stdout",
     "output_type": "stream",
     "text": [
      "{}\r\n"
     ]
    }
   ],
   "source": [
    "!seldon model unload iris"
   ]
  },
  {
   "cell_type": "markdown",
   "id": "30431134",
   "metadata": {},
   "source": [
    "### Tensorflow CIFAR10 Image Classification Model\n"
   ]
  },
  {
   "cell_type": "code",
   "execution_count": 6,
   "id": "f0e7043f",
   "metadata": {},
   "outputs": [
    {
     "name": "stderr",
     "output_type": "stream",
     "text": [
      "2023-03-09 19:43:43.637892: W tensorflow/stream_executor/platform/default/dso_loader.cc:64] Could not load dynamic library 'libcudart.so.11.0'; dlerror: libcudart.so.11.0: cannot open shared object file: No such file or directory\n",
      "2023-03-09 19:43:43.637906: I tensorflow/stream_executor/cuda/cudart_stub.cc:29] Ignore above cudart dlerror if you do not have a GPU set up on your machine.\n"
     ]
    }
   ],
   "source": [
    "import requests\n",
    "import json\n",
    "from typing import Dict, List\n",
    "import numpy as np\n",
    "import os\n",
    "import tensorflow as tf\n",
    "from alibi_detect.utils.perturbation import apply_mask\n",
    "from alibi_detect.datasets import fetch_cifar10c\n",
    "import matplotlib.pyplot as plt\n",
    "tf.keras.backend.clear_session()"
   ]
  },
  {
   "cell_type": "code",
   "execution_count": 7,
   "id": "727e6a62",
   "metadata": {},
   "outputs": [
    {
     "name": "stdout",
     "output_type": "stream",
     "text": [
      "(50000, 32, 32, 3) (50000, 1) (10000, 32, 32, 3) (10000, 1)\n"
     ]
    }
   ],
   "source": [
    "train, test = tf.keras.datasets.cifar10.load_data()\n",
    "X_train, y_train = train\n",
    "X_test, y_test = test\n",
    "\n",
    "X_train = X_train.astype('float32') / 255\n",
    "X_test = X_test.astype('float32') / 255\n",
    "print(X_train.shape, y_train.shape, X_test.shape, y_test.shape)\n",
    "classes = (\n",
    "    \"plane\",\n",
    "    \"car\",\n",
    "    \"bird\",\n",
    "    \"cat\",\n",
    "    \"deer\",\n",
    "    \"dog\",\n",
    "    \"frog\",\n",
    "    \"horse\",\n",
    "    \"ship\",\n",
    "    \"truck\",\n",
    ")\n"
   ]
  },
  {
   "cell_type": "code",
   "execution_count": 8,
   "id": "e2dc7fe8",
   "metadata": {},
   "outputs": [],
   "source": [
    "reqJson = json.loads('{\"inputs\":[{\"name\":\"input_1\",\"data\":[],\"datatype\":\"FP32\",\"shape\":[]}]}')\n",
    "url = \"http://0.0.0.0:9000/v2/models/model/infer\"\n",
    "\n",
    "def infer(resourceName: str, idx: int):\n",
    "    rows = X_train[idx:idx+1]\n",
    "    show(rows[0])\n",
    "    reqJson[\"inputs\"][0][\"data\"] = rows.flatten().tolist()\n",
    "    reqJson[\"inputs\"][0][\"shape\"] = [1, 32, 32, 3]\n",
    "    headers = {\"Content-Type\": \"application/json\", \"seldon-model\":resourceName}\n",
    "    response_raw = requests.post(url, json=reqJson, headers=headers)\n",
    "    probs = np.array(response_raw.json()[\"outputs\"][0][\"data\"])\n",
    "    print(classes[probs.argmax(axis=0)])\n",
    "    \n",
    "\n",
    "def show(X):\n",
    "    plt.imshow(X.reshape(32, 32, 3))\n",
    "    plt.axis(\"off\")\n",
    "    plt.show()\n"
   ]
  },
  {
   "cell_type": "code",
   "execution_count": 9,
   "id": "34165288",
   "metadata": {},
   "outputs": [
    {
     "name": "stdout",
     "output_type": "stream",
     "text": [
      "apiVersion: mlops.seldon.io/v1alpha1\r\n",
      "kind: Model\r\n",
      "metadata:\r\n",
      "  name: cifar10\r\n",
      "spec:\r\n",
      "  storageUri: \"gs://seldon-models/scv2/samples/tensorflow/cifar10\"\r\n",
      "  requirements:\r\n",
      "  - tensorflow\r\n"
     ]
    }
   ],
   "source": [
    "!cat ./models/cifar10-no-config.yaml"
   ]
  },
  {
   "cell_type": "code",
   "execution_count": 10,
   "id": "726f2dd0",
   "metadata": {},
   "outputs": [
    {
     "name": "stdout",
     "output_type": "stream",
     "text": [
      "{}\r\n"
     ]
    }
   ],
   "source": [
    "!seldon model load -f ./models/cifar10-no-config.yaml"
   ]
  },
  {
   "cell_type": "code",
   "execution_count": 11,
   "id": "2d9b631f",
   "metadata": {},
   "outputs": [
    {
     "name": "stdout",
     "output_type": "stream",
     "text": [
      "{}\r\n"
     ]
    }
   ],
   "source": [
    "!seldon model status cifar10 -w ModelAvailable | jq -M ."
   ]
  },
  {
   "cell_type": "code",
   "execution_count": 12,
   "id": "16ac398b",
   "metadata": {},
   "outputs": [
    {
     "data": {
      "image/png": "[encoded data removed]",
      "text/plain": [
       "<Figure size 640x480 with 1 Axes>"
      ]
     },
     "metadata": {},
     "output_type": "display_data"
    },
    {
     "name": "stdout",
     "output_type": "stream",
     "text": [
      "car\n"
     ]
    }
   ],
   "source": [
    "infer(\"cifar10\",4)"
   ]
  },
  {
   "cell_type": "code",
   "execution_count": 13,
   "id": "f7405940",
   "metadata": {},
   "outputs": [
    {
     "name": "stdout",
     "output_type": "stream",
     "text": [
      "{}\r\n"
     ]
    }
   ],
   "source": [
    "!seldon model unload cifar10"
   ]
  },
  {
   "cell_type": "markdown",
   "id": "04a726c0",
   "metadata": {},
   "source": [
    "### XGBoost Model\n",
    "\n",
    "The training code for this model can be found at `./scripts/models/income-xgb`"
   ]
  },
  {
   "cell_type": "code",
   "execution_count": 14,
   "id": "c57d72d2",
   "metadata": {},
   "outputs": [
    {
     "name": "stdout",
     "output_type": "stream",
     "text": [
      "apiVersion: mlops.seldon.io/v1alpha1\r\n",
      "kind: Model\r\n",
      "metadata:\r\n",
      "  name: income-xgb\r\n",
      "spec:\r\n",
      "  storageUri: \"gs://seldon-models/scv2/samples/mlserver_1.3.5/income-xgb\"\r\n",
      "  requirements:\r\n",
      "  - xgboost\r\n"
     ]
    }
   ],
   "source": [
    "!cat ./models/income-xgb.yaml"
   ]
  },
  {
   "cell_type": "code",
   "execution_count": 15,
   "id": "28e5f8d9",
   "metadata": {},
   "outputs": [
    {
     "name": "stdout",
     "output_type": "stream",
     "text": [
      "{}\r\n"
     ]
    }
   ],
   "source": [
    "!seldon model load -f ./models/income-xgb.yaml"
   ]
  },
  {
   "cell_type": "code",
   "execution_count": 16,
   "id": "8e20ab04",
   "metadata": {},
   "outputs": [
    {
     "name": "stdout",
     "output_type": "stream",
     "text": [
      "{}\r\n"
     ]
    }
   ],
   "source": [
    "!seldon model status income-xgb -w ModelAvailable | jq -M ."
   ]
  },
  {
   "cell_type": "code",
   "execution_count": 17,
   "id": "a772f985",
   "metadata": {},
   "outputs": [
    {
     "name": "stdout",
     "output_type": "stream",
     "text": [
      "{\r\n",
      "\t\"model_name\": \"income-xgb_1\",\r\n",
      "\t\"model_version\": \"1\",\r\n",
      "\t\"id\": \"e30c3b44-fa14-4e5f-88f5-d6f4d287da20\",\r\n",
      "\t\"parameters\": {},\r\n",
      "\t\"outputs\": [\r\n",
      "\t\t{\r\n",
      "\t\t\t\"name\": \"predict\",\r\n",
      "\t\t\t\"shape\": [\r\n",
      "\t\t\t\t1,\r\n",
      "\t\t\t\t1\r\n",
      "\t\t\t],\r\n",
      "\t\t\t\"datatype\": \"FP32\",\r\n",
      "\t\t\t\"data\": [\r\n",
      "\t\t\t\t-1.8380107879638672\r\n",
      "\t\t\t]\r\n",
      "\t\t}\r\n",
      "\t]\r\n",
      "}\r\n"
     ]
    }
   ],
   "source": [
    "!seldon model infer income-xgb \\\n",
    "  '{ \"parameters\": {\"content_type\": \"pd\"}, \"inputs\": [{\"name\": \"Age\", \"shape\": [1, 1], \"datatype\": \"INT64\", \"data\": [47]},{\"name\": \"Workclass\", \"shape\": [1, 1], \"datatype\": \"INT64\", \"data\": [4]},{\"name\": \"Education\", \"shape\": [1, 1], \"datatype\": \"INT64\", \"data\": [1]},{\"name\": \"Marital Status\", \"shape\": [1, 1], \"datatype\": \"INT64\", \"data\": [1]},{\"name\": \"Occupation\", \"shape\": [1, 1], \"datatype\": \"INT64\", \"data\": [1]},{\"name\": \"Relationship\", \"shape\": [1, 1], \"datatype\": \"INT64\", \"data\": [3]},{\"name\": \"Race\", \"shape\": [1, 1], \"datatype\": \"INT64\", \"data\": [4]},{\"name\": \"Sex\", \"shape\": [1, 1], \"datatype\": \"INT64\", \"data\": [1]},{\"name\": \"Capital Gain\", \"shape\": [1, 1], \"datatype\": \"INT64\", \"data\": [0]},{\"name\": \"Capital Loss\", \"shape\": [1, 1], \"datatype\": \"INT64\", \"data\": [0]},{\"name\": \"Hours per week\", \"shape\": [1, 1], \"datatype\": \"INT64\", \"data\": [40]},{\"name\": \"Country\", \"shape\": [1, 1], \"datatype\": \"INT64\", \"data\": [9]}]}' "
   ]
  },
  {
   "cell_type": "code",
   "execution_count": 18,
   "id": "01f1d42b",
   "metadata": {},
   "outputs": [
    {
     "name": "stdout",
     "output_type": "stream",
     "text": [
      "{}\r\n"
     ]
    }
   ],
   "source": [
    "!seldon model unload income-xgb"
   ]
  },
  {
   "cell_type": "markdown",
   "id": "ca3f0a3c",
   "metadata": {},
   "source": [
    "## ONNX MNIST Model\n",
    "\n",
    "This model is a pretrained model as defined in `./scripts/models/Makefile` target `mnist-onnx`"
   ]
  },
  {
   "cell_type": "code",
   "execution_count": 1,
   "id": "322251ec",
   "metadata": {},
   "outputs": [],
   "source": [
    "import matplotlib.pyplot as plt\n",
    "import json\n",
    "import requests\n",
    "from torchvision.datasets import MNIST\n",
    "from torchvision.transforms import ToTensor\n",
    "from torchvision import transforms\n",
    "from torch.utils.data import DataLoader\n",
    "import numpy as np\n",
    "training_data = MNIST(\n",
    "    root=\".\",\n",
    "    download=True,\n",
    "    train=False,\n",
    "    transform = transforms.Compose([\n",
    "              transforms.ToTensor()\n",
    "          ])\n",
    ")\n"
   ]
  },
  {
   "cell_type": "code",
   "execution_count": 2,
   "id": "256db298",
   "metadata": {},
   "outputs": [],
   "source": [
    "reqJson = json.loads('{\"inputs\":[{\"name\":\"Input3\",\"data\":[],\"datatype\":\"FP32\",\"shape\":[]}]}')\n",
    "url = \"http://0.0.0.0:9000/v2/models/model/infer\"\n",
    "dl = DataLoader(training_data, batch_size=1, shuffle=False)\n",
    "dlIter = iter(dl)\n",
    "\n",
    "def infer_mnist():\n",
    "    x, y = next(dlIter)\n",
    "    data = x.cpu().numpy()\n",
    "    reqJson[\"inputs\"][0][\"data\"] = data.flatten().tolist()\n",
    "    reqJson[\"inputs\"][0][\"shape\"] = [1, 1, 28, 28]\n",
    "    headers = {\"Content-Type\": \"application/json\", \"seldon-model\":\"mnist-onnx\"}\n",
    "    response_raw = requests.post(url, json=reqJson, headers=headers)\n",
    "    show_mnist(x)\n",
    "    probs = np.array(response_raw.json()[\"outputs\"][0][\"data\"])\n",
    "    print(probs.argmax(axis=0))\n",
    "    \n",
    "\n",
    "def show_mnist(X):\n",
    "    plt.imshow(X.reshape(28, 28))\n",
    "    plt.axis(\"off\")\n",
    "    plt.show()"
   ]
  },
  {
   "cell_type": "code",
   "execution_count": 3,
   "id": "9c5cd5af",
   "metadata": {},
   "outputs": [
    {
     "name": "stdout",
     "output_type": "stream",
     "text": [
      "apiVersion: mlops.seldon.io/v1alpha1\r\n",
      "kind: Model\r\n",
      "metadata:\r\n",
      "  name: mnist-onnx\r\n",
      "spec:\r\n",
      "  storageUri: \"gs://seldon-models/scv2/samples/triton_23-03/mnist-onnx\"\r\n",
      "  requirements:\r\n",
      "  - onnx\r\n"
     ]
    }
   ],
   "source": [
    "!cat ./models/mnist-onnx.yaml"
   ]
  },
  {
   "cell_type": "code",
   "execution_count": 4,
   "id": "8c698c9d",
   "metadata": {},
   "outputs": [
    {
     "name": "stdout",
     "output_type": "stream",
     "text": [
      "{}\r\n"
     ]
    }
   ],
   "source": [
    "!seldon model load -f ./models/mnist-onnx.yaml"
   ]
  },
  {
   "cell_type": "code",
   "execution_count": 5,
   "id": "91e05090",
   "metadata": {},
   "outputs": [
    {
     "name": "stdout",
     "output_type": "stream",
     "text": [
      "{}\r\n"
     ]
    }
   ],
   "source": [
    "!seldon model status mnist-onnx -w ModelAvailable | jq -M ."
   ]
  },
  {
   "cell_type": "code",
   "execution_count": 6,
   "id": "bec480da",
   "metadata": {
    "scrolled": true
   },
   "outputs": [
    {
     "data": {
      "image/png": "[encoded data removed]",
      "text/plain": [
       "<Figure size 640x480 with 1 Axes>"
      ]
     },
     "metadata": {},
     "output_type": "display_data"
    },
    {
     "name": "stdout",
     "output_type": "stream",
     "text": [
      "7\n"
     ]
    }
   ],
   "source": [
    "infer_mnist()"
   ]
  },
  {
   "cell_type": "code",
   "execution_count": 7,
   "id": "6a0cd431",
   "metadata": {},
   "outputs": [
    {
     "name": "stdout",
     "output_type": "stream",
     "text": [
      "{}\r\n"
     ]
    }
   ],
   "source": [
    "!seldon model unload mnist-onnx"
   ]
  },
  {
   "cell_type": "markdown",
   "id": "8325a49e",
   "metadata": {},
   "source": [
    "### LightGBM Model\n",
    "\n",
    "The training code for this model can be found at `./scripts/models/income-lgb`"
   ]
  },
  {
   "cell_type": "code",
   "execution_count": 31,
   "id": "47896ade",
   "metadata": {},
   "outputs": [
    {
     "name": "stdout",
     "output_type": "stream",
     "text": [
      "apiVersion: mlops.seldon.io/v1alpha1\r\n",
      "kind: Model\r\n",
      "metadata:\r\n",
      "  name: income-lgb\r\n",
      "spec:\r\n",
      "  storageUri: \"gs://seldon-models/scv2/samples/mlserver_1.3.5/income-lgb\"\r\n",
      "  requirements:\r\n",
      "  - lightgbm\r\n"
     ]
    }
   ],
   "source": [
    "!cat ./models/income-lgb.yaml"
   ]
  },
  {
   "cell_type": "code",
   "execution_count": 32,
   "id": "8ac81161",
   "metadata": {},
   "outputs": [
    {
     "name": "stdout",
     "output_type": "stream",
     "text": [
      "{}\r\n"
     ]
    }
   ],
   "source": [
    "!seldon model load -f ./models/income-lgb.yaml"
   ]
  },
  {
   "cell_type": "code",
   "execution_count": 33,
   "id": "d65a7f91",
   "metadata": {},
   "outputs": [
    {
     "name": "stdout",
     "output_type": "stream",
     "text": [
      "{}\r\n"
     ]
    }
   ],
   "source": [
    "!seldon model status income-lgb -w ModelAvailable | jq -M ."
   ]
  },
  {
   "cell_type": "code",
   "execution_count": 34,
   "id": "aa6403a1",
   "metadata": {},
   "outputs": [
    {
     "name": "stdout",
     "output_type": "stream",
     "text": [
      "{\r\n",
      "\t\"model_name\": \"income-lgb_1\",\r\n",
      "\t\"model_version\": \"1\",\r\n",
      "\t\"id\": \"4437a71e-9af1-4e3b-aa4b-cb95d2cd86b9\",\r\n",
      "\t\"parameters\": {},\r\n",
      "\t\"outputs\": [\r\n",
      "\t\t{\r\n",
      "\t\t\t\"name\": \"predict\",\r\n",
      "\t\t\t\"shape\": [\r\n",
      "\t\t\t\t1,\r\n",
      "\t\t\t\t1\r\n",
      "\t\t\t],\r\n",
      "\t\t\t\"datatype\": \"FP64\",\r\n",
      "\t\t\t\"data\": [\r\n",
      "\t\t\t\t0.06279460120044741\r\n",
      "\t\t\t]\r\n",
      "\t\t}\r\n",
      "\t]\r\n",
      "}\r\n"
     ]
    }
   ],
   "source": [
    "!seldon model infer income-lgb \\\n",
    "  '{ \"parameters\": {\"content_type\": \"pd\"}, \"inputs\": [{\"name\": \"Age\", \"shape\": [1, 1], \"datatype\": \"INT64\", \"data\": [47]},{\"name\": \"Workclass\", \"shape\": [1, 1], \"datatype\": \"INT64\", \"data\": [4]},{\"name\": \"Education\", \"shape\": [1, 1], \"datatype\": \"INT64\", \"data\": [1]},{\"name\": \"Marital Status\", \"shape\": [1, 1], \"datatype\": \"INT64\", \"data\": [1]},{\"name\": \"Occupation\", \"shape\": [1, 1], \"datatype\": \"INT64\", \"data\": [1]},{\"name\": \"Relationship\", \"shape\": [1, 1], \"datatype\": \"INT64\", \"data\": [3]},{\"name\": \"Race\", \"shape\": [1, 1], \"datatype\": \"INT64\", \"data\": [4]},{\"name\": \"Sex\", \"shape\": [1, 1], \"datatype\": \"INT64\", \"data\": [1]},{\"name\": \"Capital Gain\", \"shape\": [1, 1], \"datatype\": \"INT64\", \"data\": [0]},{\"name\": \"Capital Loss\", \"shape\": [1, 1], \"datatype\": \"INT64\", \"data\": [0]},{\"name\": \"Hours per week\", \"shape\": [1, 1], \"datatype\": \"INT64\", \"data\": [40]},{\"name\": \"Country\", \"shape\": [1, 1], \"datatype\": \"INT64\", \"data\": [9]}]}' "
   ]
  },
  {
   "cell_type": "code",
   "execution_count": 35,
   "id": "f1912a83",
   "metadata": {},
   "outputs": [
    {
     "name": "stdout",
     "output_type": "stream",
     "text": [
      "{}\r\n"
     ]
    }
   ],
   "source": [
    "!seldon model unload income-lgb"
   ]
  },
  {
   "cell_type": "markdown",
   "id": "1baa5a6c",
   "metadata": {},
   "source": [
    "### MLFlow Wine Model\n",
    "\n",
    "The training code for this model can be found at `./scripts/models/wine-mlflow`"
   ]
  },
  {
   "cell_type": "code",
   "execution_count": 36,
   "id": "5ffd0f32",
   "metadata": {},
   "outputs": [
    {
     "name": "stdout",
     "output_type": "stream",
     "text": [
      "apiVersion: mlops.seldon.io/v1alpha1\r\n",
      "kind: Model\r\n",
      "metadata:\r\n",
      "  name: wine\r\n",
      "spec:\r\n",
      "  storageUri: \"gs://seldon-models/scv2/samples/mlserver_1.3.5/wine-mlflow\"\r\n",
      "  requirements:\r\n",
      "  - mlflow\r\n"
     ]
    }
   ],
   "source": [
    "!cat ./models/wine-mlflow.yaml"
   ]
  },
  {
   "cell_type": "code",
   "execution_count": 37,
   "id": "8a5d38b6",
   "metadata": {},
   "outputs": [
    {
     "name": "stdout",
     "output_type": "stream",
     "text": [
      "{}\r\n"
     ]
    }
   ],
   "source": [
    "!seldon model load -f ./models/wine-mlflow.yaml"
   ]
  },
  {
   "cell_type": "code",
   "execution_count": 38,
   "id": "2e749f0d",
   "metadata": {},
   "outputs": [
    {
     "name": "stdout",
     "output_type": "stream",
     "text": [
      "{}\r\n"
     ]
    }
   ],
   "source": [
    "!seldon model status wine -w ModelAvailable | jq -M ."
   ]
  },
  {
   "cell_type": "code",
   "execution_count": 39,
   "id": "c71e83de",
   "metadata": {},
   "outputs": [
    {
     "name": "stdout",
     "output_type": "stream",
     "text": [
      "{'model_name': 'wine_1', 'model_version': '1', 'id': '0d7e44f8-b46c-4438-b8af-a749e6aa6039', 'parameters': {}, 'outputs': [{'name': 'output-1', 'shape': [1, 1], 'datatype': 'FP64', 'data': [5.576883936610762]}]}\n"
     ]
    }
   ],
   "source": [
    "import requests\n",
    "url = \"http://0.0.0.0:9000/v2/models/model/infer\"\n",
    "inference_request = {\n",
    "    \"inputs\": [\n",
    "        {\n",
    "          \"name\": \"fixed acidity\",\n",
    "          \"shape\": [1],\n",
    "          \"datatype\": \"FP32\",\n",
    "          \"data\": [7.4],\n",
    "        },\n",
    "        {\n",
    "          \"name\": \"volatile acidity\",\n",
    "          \"shape\": [1],\n",
    "          \"datatype\": \"FP32\",\n",
    "          \"data\": [0.7000],\n",
    "        },\n",
    "        {\n",
    "          \"name\": \"citric acid\",\n",
    "          \"shape\": [1],\n",
    "          \"datatype\": \"FP32\",\n",
    "          \"data\": [0],\n",
    "        },\n",
    "        {\n",
    "          \"name\": \"residual sugar\",\n",
    "          \"shape\": [1],\n",
    "          \"datatype\": \"FP32\",\n",
    "          \"data\": [1.9],\n",
    "        },\n",
    "        {\n",
    "          \"name\": \"chlorides\",\n",
    "          \"shape\": [1],\n",
    "          \"datatype\": \"FP32\",\n",
    "          \"data\": [0.076],\n",
    "        },\n",
    "        {\n",
    "          \"name\": \"free sulfur dioxide\",\n",
    "          \"shape\": [1],\n",
    "          \"datatype\": \"FP32\",\n",
    "          \"data\": [11],\n",
    "        },\n",
    "        {\n",
    "          \"name\": \"total sulfur dioxide\",\n",
    "          \"shape\": [1],\n",
    "          \"datatype\": \"FP32\",\n",
    "          \"data\": [34],\n",
    "        },\n",
    "        {\n",
    "          \"name\": \"density\",\n",
    "          \"shape\": [1],\n",
    "          \"datatype\": \"FP32\",\n",
    "          \"data\": [0.9978],\n",
    "        },\n",
    "        {\n",
    "          \"name\": \"pH\",\n",
    "          \"shape\": [1],\n",
    "          \"datatype\": \"FP32\",\n",
    "          \"data\": [3.51],\n",
    "        },\n",
    "        {\n",
    "          \"name\": \"sulphates\",\n",
    "          \"shape\": [1],\n",
    "          \"datatype\": \"FP32\",\n",
    "          \"data\": [0.56],\n",
    "        },\n",
    "        {\n",
    "          \"name\": \"alcohol\",\n",
    "          \"shape\": [1],\n",
    "          \"datatype\": \"FP32\",\n",
    "          \"data\": [9.4],\n",
    "        },\n",
    "    ]\n",
    "}\n",
    "headers = {\"Content-Type\": \"application/json\", \"seldon-model\":\"wine\"}\n",
    "response_raw = requests.post(url, json=inference_request, headers=headers)\n",
    "print(response_raw.json())"
   ]
  },
  {
   "cell_type": "code",
   "execution_count": 40,
   "id": "a2ba83ea",
   "metadata": {},
   "outputs": [
    {
     "name": "stdout",
     "output_type": "stream",
     "text": [
      "{}\r\n"
     ]
    }
   ],
   "source": [
    "!seldon model unload wine"
   ]
  },
  {
   "cell_type": "markdown",
   "id": "d850d9dd",
   "metadata": {},
   "source": [
    "## Pytorch MNIST Model\n",
    "\n",
    "This example model is downloaded and trained in `./scripts/models/Makefile` target `mnist-pytorch`"
   ]
  },
  {
   "cell_type": "code",
   "execution_count": 8,
   "id": "57d19f06",
   "metadata": {},
   "outputs": [],
   "source": [
    "import numpy as np\n",
    "import matplotlib.pyplot as plt\n",
    "import json\n",
    "import requests\n",
    "from torchvision.datasets import MNIST\n",
    "from torchvision.transforms import ToTensor\n",
    "from torchvision import transforms\n",
    "from torch.utils.data import DataLoader\n",
    "training_data = MNIST(\n",
    "    root=\".\",\n",
    "    download=True,\n",
    "    train=False,\n",
    "    transform = transforms.Compose([\n",
    "              transforms.ToTensor()\n",
    "          ])\n",
    ")\n"
   ]
  },
  {
   "cell_type": "code",
   "execution_count": 9,
   "id": "5b27e8b5",
   "metadata": {},
   "outputs": [],
   "source": [
    "reqJson = json.loads('{\"inputs\":[{\"name\":\"x__0\",\"data\":[],\"datatype\":\"FP32\",\"shape\":[]}]}')\n",
    "url = \"http://0.0.0.0:9000/v2/models/model/infer\"\n",
    "dl = DataLoader(training_data, batch_size=1, shuffle=False)\n",
    "dlIter = iter(dl)\n",
    "\n",
    "def infer_mnist():\n",
    "    x, y = next(dlIter)\n",
    "    data = x.cpu().numpy()\n",
    "    reqJson[\"inputs\"][0][\"data\"] = data.flatten().tolist()\n",
    "    reqJson[\"inputs\"][0][\"shape\"] = [1, 1, 28, 28]\n",
    "    headers = {\"Content-Type\": \"application/json\", \"seldon-model\":\"mnist-pytorch\"}\n",
    "    response_raw = requests.post(url, json=reqJson, headers=headers)\n",
    "    show_mnist(x)\n",
    "    probs = np.array(response_raw.json()[\"outputs\"][0][\"data\"])\n",
    "    print(probs.argmax(axis=0))\n",
    "    \n",
    "\n",
    "def show_mnist(X):\n",
    "    plt.imshow(X.reshape(28, 28))\n",
    "    plt.axis(\"off\")\n",
    "    plt.show()"
   ]
  },
  {
   "cell_type": "code",
   "execution_count": 10,
   "id": "a5085df5",
   "metadata": {},
   "outputs": [
    {
     "name": "stdout",
     "output_type": "stream",
     "text": [
      "apiVersion: mlops.seldon.io/v1alpha1\r\n",
      "kind: Model\r\n",
      "metadata:\r\n",
      "  name: mnist-pytorch\r\n",
      "spec:\r\n",
      "  storageUri: \"gs://seldon-models/scv2/samples/triton_23-03/mnist-pytorch\"\r\n",
      "  requirements:\r\n",
      "  - pytorch\r\n"
     ]
    }
   ],
   "source": [
    "!cat ./models/mnist-pytorch.yaml"
   ]
  },
  {
   "cell_type": "code",
   "execution_count": 11,
   "id": "ada997dd",
   "metadata": {},
   "outputs": [
    {
     "name": "stdout",
     "output_type": "stream",
     "text": [
      "{}\r\n"
     ]
    }
   ],
   "source": [
    "!seldon model load -f ./models/mnist-pytorch.yaml"
   ]
  },
  {
   "cell_type": "code",
   "execution_count": 12,
   "id": "85e443ac",
   "metadata": {},
   "outputs": [
    {
     "name": "stdout",
     "output_type": "stream",
     "text": [
      "{}\r\n"
     ]
    }
   ],
   "source": [
    "!seldon model status mnist-pytorch -w ModelAvailable | jq -M ."
   ]
  },
  {
   "cell_type": "code",
   "execution_count": 13,
   "id": "a8f1ba5c",
   "metadata": {
    "scrolled": true
   },
   "outputs": [
    {
     "data": {
      "image/png": "[encoded data removed]",
      "text/plain": [
       "<Figure size 640x480 with 1 Axes>"
      ]
     },
     "metadata": {},
     "output_type": "display_data"
    },
    {
     "name": "stdout",
     "output_type": "stream",
     "text": [
      "7\n"
     ]
    }
   ],
   "source": [
    "infer_mnist()"
   ]
  },
  {
   "cell_type": "code",
   "execution_count": 14,
   "id": "b972b1ef",
   "metadata": {},
   "outputs": [
    {
     "name": "stdout",
     "output_type": "stream",
     "text": [
      "{}\r\n"
     ]
    }
   ],
   "source": [
    "!seldon model unload mnist-pytorch"
   ]
  },
  {
   "cell_type": "code",
   "execution_count": null,
   "id": "94cd2aba",
   "metadata": {},
   "outputs": [],
   "source": []
  }
 ],
 "metadata": {
  "kernelspec": {
   "display_name": "Python 3 (ipykernel)",
   "language": "python",
   "name": "python3"
  },
  "language_info": {
   "codemirror_mode": {
    "name": "ipython",
    "version": 3
   },
   "file_extension": ".py",
   "mimetype": "text/x-python",
   "name": "python",
   "nbconvert_exporter": "python",
   "pygments_lexer": "ipython3",
   "version": "3.9.13"
  }
 },
 "nbformat": 4,
 "nbformat_minor": 5
}
