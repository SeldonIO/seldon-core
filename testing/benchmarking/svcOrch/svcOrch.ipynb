{
 "cells": [
  {
   "cell_type": "markdown",
   "metadata": {},
   "source": [
    "# Service Orchestrator Benchmark Tests\n",
    "\n",
    "Using a pretrained model for [Tensorflow flowers dataset](https://www.tensorflow.org/datasets/catalog/tf_flowers)\n",
    "\n",
    " * Tests the extra latency added by the svcOrch for a medium size image (224x224) classification model.\n",
    " \n",
    " ## Setup\n",
    " \n",
    "  * Create a 3 node GCP cluster with n1-standard-8 node\n",
    "  * Install Seldon Core"
   ]
  },
  {
   "cell_type": "code",
   "execution_count": 1,
   "metadata": {},
   "outputs": [
    {
     "name": "stdout",
     "output_type": "stream",
     "text": [
      "Error from server (AlreadyExists): namespaces \"seldon\" already exists\r\n"
     ]
    }
   ],
   "source": [
    "!kubectl create namespace seldon"
   ]
  },
  {
   "cell_type": "code",
   "execution_count": 2,
   "metadata": {},
   "outputs": [
    {
     "name": "stdout",
     "output_type": "stream",
     "text": [
      "Context \"gke_seldon-demos_europe-west2-b_loadtest\" modified.\r\n"
     ]
    }
   ],
   "source": [
    "!kubectl config set-context $(kubectl config current-context) --namespace=seldon"
   ]
  },
  {
   "cell_type": "code",
   "execution_count": 11,
   "metadata": {},
   "outputs": [],
   "source": [
    "import sys\n",
    "sys.path.append('../')\n",
    "from vegeta_utils import *"
   ]
  },
  {
   "cell_type": "markdown",
   "metadata": {},
   "source": [
    "## Tensorflow Flowers Model - Latency Test"
   ]
  },
  {
   "cell_type": "code",
   "execution_count": 12,
   "metadata": {},
   "outputs": [
    {
     "name": "stdout",
     "output_type": "stream",
     "text": [
      "Overwriting tf_flowers.yaml\n"
     ]
    }
   ],
   "source": [
    "%%writefile tf_flowers.yaml\n",
    "apiVersion: machinelearning.seldon.io/v1alpha2\n",
    "kind: SeldonDeployment\n",
    "metadata:\n",
    "  name: tf-flowers\n",
    "spec:\n",
    "  protocol: tensorflow\n",
    "  transport: rest\n",
    "  predictors:\n",
    "  - graph:\n",
    "      implementation: TENSORFLOW_SERVER\n",
    "      modelUri: gs://kfserving-samples/models/tensorflow/flowers\n",
    "      name:  flowers\n",
    "      parameters:\n",
    "        - name: model_name\n",
    "          type: STRING\n",
    "          value: flowers\n",
    "    componentSpecs:\n",
    "    - spec:\n",
    "        containers:\n",
    "        - name: flowers\n",
    "          resources:\n",
    "            requests:\n",
    "              cpu: '2'\n",
    "    name: default\n",
    "    replicas: 1"
   ]
  },
  {
   "cell_type": "code",
   "execution_count": 13,
   "metadata": {},
   "outputs": [
    {
     "name": "stdout",
     "output_type": "stream",
     "text": [
      "Available\n"
     ]
    }
   ],
   "source": [
    "run_model(\"tf_flowers.yaml\")"
   ]
  },
  {
   "cell_type": "code",
   "execution_count": 14,
   "metadata": {},
   "outputs": [
    {
     "name": "stdout",
     "output_type": "stream",
     "text": [
      "{\n",
      "    \"latencies\": {\n",
      "        \"total\": 1200122285781,\n",
      "        \"mean\": 87434233,\n",
      "        \"50th\": 86289248,\n",
      "        \"90th\": 92084428,\n",
      "        \"95th\": 94640378,\n",
      "        \"99th\": 100283524,\n",
      "        \"max\": 744456093,\n",
      "        \"min\": 81534907\n",
      "    },\n",
      "    \"bytes_in\": {\n",
      "        \"total\": 2992268,\n",
      "        \"mean\": 218\n",
      "    },\n",
      "    \"bytes_out\": {\n",
      "        \"total\": 222018050,\n",
      "        \"mean\": 16175\n",
      "    },\n",
      "    \"earliest\": \"2020-07-09T07:33:37.975420123Z\",\n",
      "    \"latest\": \"2020-07-09T07:53:38.044683957Z\",\n",
      "    \"end\": \"2020-07-09T07:53:38.143936319Z\",\n",
      "    \"duration\": 1200069263834,\n",
      "    \"wait\": 99252362,\n",
      "    \"requests\": 13726,\n",
      "    \"rate\": 11.437673152421189,\n",
      "    \"throughput\": 11.436727271854549,\n",
      "    \"success\": 1,\n",
      "    \"status_codes\": {\n",
      "        \"200\": 13726\n",
      "    },\n",
      "    \"errors\": []\n",
      "}\n"
     ]
    }
   ],
   "source": [
    "results = run_test(\"tf_vegeta_cfg.yaml\",\"vegeta_1worker.yaml\",\"21m\")\n",
    "print(json.dumps(results, indent=4))\n",
    "mean_with_executor=results[\"latencies\"][\"mean\"]"
   ]
  },
  {
   "cell_type": "markdown",
   "metadata": {},
   "source": [
    "## Tensorflow Flowers Model - No executor - Latency Test\n",
    "This test will show that the executor adds around 1-2ms on each request when compared to the last test."
   ]
  },
  {
   "cell_type": "code",
   "execution_count": 15,
   "metadata": {},
   "outputs": [
    {
     "name": "stdout",
     "output_type": "stream",
     "text": [
      "Overwriting tf_flowers.yaml\n"
     ]
    }
   ],
   "source": [
    "%%writefile tf_flowers.yaml\n",
    "apiVersion: machinelearning.seldon.io/v1alpha2\n",
    "kind: SeldonDeployment\n",
    "metadata:\n",
    "  name: tf-flowers\n",
    "spec:\n",
    "  protocol: tensorflow\n",
    "  transport: rest\n",
    "  predictors:\n",
    "  - graph:\n",
    "      implementation: TENSORFLOW_SERVER\n",
    "      modelUri: gs://kfserving-samples/models/tensorflow/flowers\n",
    "      name:  flowers\n",
    "      parameters:\n",
    "        - name: model_name\n",
    "          type: STRING\n",
    "          value: flowers\n",
    "    annotations:\n",
    "        seldon.io/no-engine: \"true\"\n",
    "    componentSpecs:\n",
    "    - spec:\n",
    "        containers:\n",
    "        - name: flowers\n",
    "          resources:\n",
    "            requests:\n",
    "              cpu: '2'\n",
    "    name: default\n",
    "    replicas: 1"
   ]
  },
  {
   "cell_type": "code",
   "execution_count": 16,
   "metadata": {},
   "outputs": [
    {
     "name": "stdout",
     "output_type": "stream",
     "text": [
      "Failed\n",
      "Available\n"
     ]
    }
   ],
   "source": [
    "run_model(\"tf_flowers.yaml\")"
   ]
  },
  {
   "cell_type": "code",
   "execution_count": 17,
   "metadata": {},
   "outputs": [
    {
     "name": "stdout",
     "output_type": "stream",
     "text": [
      "{\n",
      "    \"latencies\": {\n",
      "        \"total\": 1200085544000,\n",
      "        \"mean\": 83834128,\n",
      "        \"50th\": 82507619,\n",
      "        \"90th\": 89062704,\n",
      "        \"95th\": 94367150,\n",
      "        \"99th\": 100908596,\n",
      "        \"max\": 887568018,\n",
      "        \"min\": 76060432\n",
      "    },\n",
      "    \"bytes_in\": {\n",
      "        \"total\": 3120670,\n",
      "        \"mean\": 218\n",
      "    },\n",
      "    \"bytes_out\": {\n",
      "        \"total\": 231545125,\n",
      "        \"mean\": 16175\n",
      "    },\n",
      "    \"earliest\": \"2020-07-09T07:59:00.137250198Z\",\n",
      "    \"latest\": \"2020-07-09T08:19:00.19068938Z\",\n",
      "    \"end\": \"2020-07-09T08:19:00.273006669Z\",\n",
      "    \"duration\": 1200053439182,\n",
      "    \"wait\": 82317289,\n",
      "    \"requests\": 14315,\n",
      "    \"rate\": 11.928635452899185,\n",
      "    \"throughput\": 11.927817268017469,\n",
      "    \"success\": 1,\n",
      "    \"status_codes\": {\n",
      "        \"200\": 14315\n",
      "    },\n",
      "    \"errors\": []\n",
      "}\n"
     ]
    }
   ],
   "source": [
    "results = run_test(\"tf_standalone_vegeta_cfg.yaml\",\"vegeta_1worker.yaml\",\"21m\")\n",
    "print(json.dumps(results, indent=4))\n",
    "mean_no_executor=results[\"latencies\"][\"mean\"]"
   ]
  },
  {
   "cell_type": "markdown",
   "metadata": {},
   "source": [
    "If there are errors above you will need to rerun as this may skew result becuase of network error.\n",
    "Observed difference is between 2 and 4ms."
   ]
  },
  {
   "cell_type": "code",
   "execution_count": 18,
   "metadata": {},
   "outputs": [
    {
     "name": "stdout",
     "output_type": "stream",
     "text": [
      "Diff in ms 3.600105\n"
     ]
    }
   ],
   "source": [
    "diff = (mean_with_executor - mean_no_executor) / 1e6\n",
    "print(\"Diff in ms\",diff)"
   ]
  },
  {
   "cell_type": "code",
   "execution_count": null,
   "metadata": {},
   "outputs": [],
   "source": []
  }
 ],
 "metadata": {
  "kernelspec": {
   "display_name": "Python 3",
   "language": "python",
   "name": "python3"
  },
  "language_info": {
   "codemirror_mode": {
    "name": "ipython",
    "version": 3
   },
   "file_extension": ".py",
   "mimetype": "text/x-python",
   "name": "python",
   "nbconvert_exporter": "python",
   "pygments_lexer": "ipython3",
   "version": "3.6.8"
  }
 },
 "nbformat": 4,
 "nbformat_minor": 2
}
