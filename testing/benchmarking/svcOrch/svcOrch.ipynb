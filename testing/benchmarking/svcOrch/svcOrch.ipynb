{
 "cells": [
  {
   "cell_type": "markdown",
   "metadata": {},
   "source": [
    "# Service Orchestrator Benchmark Tests\n",
    "\n",
    "Using a pretrained model for [Tensorflow flowers dataset](https://www.tensorflow.org/datasets/catalog/tf_flowers)\n",
    "\n",
    " * Tests the extra latency added by the svcOrch for a medium size image (224x224) classification model.\n",
    " \n",
    " ## Setup\n",
    " \n",
    "  * Create a 3 node cluster\n",
    "  * Install Seldon Core"
   ]
  },
  {
   "cell_type": "code",
   "execution_count": null,
   "metadata": {},
   "outputs": [],
   "source": [
    "!kubectl create namespace seldon"
   ]
  },
  {
   "cell_type": "code",
   "execution_count": null,
   "metadata": {},
   "outputs": [],
   "source": [
    "!kubectl config set-context $(kubectl config current-context) --namespace=seldon"
   ]
  },
  {
   "cell_type": "code",
   "execution_count": 1,
   "metadata": {},
   "outputs": [],
   "source": [
    "import sys\n",
    "sys.path.append('../')\n",
    "from vegeta_utils import *"
   ]
  },
  {
   "cell_type": "markdown",
   "metadata": {},
   "source": [
    "## Put Taints Nodes"
   ]
  },
  {
   "cell_type": "code",
   "execution_count": 6,
   "metadata": {},
   "outputs": [
    {
     "name": "stdout",
     "output_type": "stream",
     "text": [
      "error: Node pool-triv8uq93-3oaz0 already has loadtester taint(s) with same effect(s) and --overwrite is false\n",
      "error: Node pool-triv8uq93-3oaz1 already has model taint(s) with same effect(s) and --overwrite is false\n",
      "error: Node pool-triv8uq93-3oazd already has model taint(s) with same effect(s) and --overwrite is false\n"
     ]
    }
   ],
   "source": [
    "raw=!kubectl get nodes -o jsonpath='{.items[0].metadata.name}'\n",
    "firstNode = raw[0]\n",
    "raw=!kubectl get nodes -o jsonpath='{.items[1].metadata.name}'\n",
    "secondNode = raw[0]\n",
    "raw=!kubectl get nodes -o jsonpath='{.items[2].metadata.name}'\n",
    "thirdNode = raw[0]\n",
    "!kubectl taint nodes '{firstNode}' loadtester=active:NoSchedule\n",
    "!kubectl taint nodes '{secondNode}' model=active:NoSchedule \n",
    "!kubectl taint nodes '{thirdNode}' model=active:NoSchedule     "
   ]
  },
  {
   "cell_type": "markdown",
   "metadata": {},
   "source": [
    "## Tensorflow Flowers Model - Latency Test"
   ]
  },
  {
   "cell_type": "code",
   "execution_count": 7,
   "metadata": {},
   "outputs": [
    {
     "name": "stdout",
     "output_type": "stream",
     "text": [
      "Overwriting tf_flowers.yaml\n"
     ]
    }
   ],
   "source": [
    "%%writefile tf_flowers.yaml\n",
    "apiVersion: machinelearning.seldon.io/v1alpha2\n",
    "kind: SeldonDeployment\n",
    "metadata:\n",
    "  name: tf-flowers\n",
    "spec:\n",
    "  protocol: tensorflow\n",
    "  transport: rest\n",
    "  predictors:\n",
    "  - graph:\n",
    "      implementation: TENSORFLOW_SERVER\n",
    "      modelUri: gs://kfserving-samples/models/tensorflow/flowers\n",
    "      name:  flowers\n",
    "      parameters:\n",
    "        - name: model_name\n",
    "          type: STRING\n",
    "          value: flowers\n",
    "    componentSpecs:\n",
    "    - spec:\n",
    "        containers:\n",
    "        - name: flowers\n",
    "          resources:\n",
    "            requests:\n",
    "              cpu: '2'\n",
    "        tolerations:\n",
    "        - key: model\n",
    "          operator: Exists\n",
    "          effect: NoSchedule\n",
    "    name: default\n",
    "    replicas: 1"
   ]
  },
  {
   "cell_type": "code",
   "execution_count": 8,
   "metadata": {},
   "outputs": [
    {
     "name": "stdout",
     "output_type": "stream",
     "text": [
      "Available with 1 pods\n"
     ]
    }
   ],
   "source": [
    "run_model(\"tf_flowers.yaml\")"
   ]
  },
  {
   "cell_type": "code",
   "execution_count": 9,
   "metadata": {},
   "outputs": [
    {
     "name": "stdout",
     "output_type": "stream",
     "text": [
      "{\n",
      "    \"latencies\": {\n",
      "        \"total\": 1200086051040,\n",
      "        \"mean\": 82639171,\n",
      "        \"50th\": 79832732,\n",
      "        \"90th\": 95849466,\n",
      "        \"95th\": 104009039,\n",
      "        \"99th\": 128516774,\n",
      "        \"max\": 964378237,\n",
      "        \"min\": 58091922\n",
      "    },\n",
      "    \"bytes_in\": {\n",
      "        \"total\": 3165796,\n",
      "        \"mean\": 218\n",
      "    },\n",
      "    \"bytes_out\": {\n",
      "        \"total\": 234893350,\n",
      "        \"mean\": 16175\n",
      "    },\n",
      "    \"earliest\": \"2020-07-12T15:59:55.298435559Z\",\n",
      "    \"latest\": \"2020-07-12T16:19:55.34937906Z\",\n",
      "    \"end\": \"2020-07-12T16:19:55.42413935Z\",\n",
      "    \"duration\": 1200050943501,\n",
      "    \"wait\": 74760290,\n",
      "    \"requests\": 14522,\n",
      "    \"rate\": 12.10115293741936,\n",
      "    \"throughput\": 12.100399111632546,\n",
      "    \"success\": 1,\n",
      "    \"status_codes\": {\n",
      "        \"200\": 14522\n",
      "    },\n",
      "    \"errors\": []\n",
      "}\n"
     ]
    }
   ],
   "source": [
    "results = run_vegeta_test(\"tf_vegeta_cfg.yaml\",\"vegeta_1worker.yaml\",\"60m\")\n",
    "print(json.dumps(results, indent=4))\n",
    "mean_with_executor=results[\"latencies\"][\"mean\"]"
   ]
  },
  {
   "cell_type": "markdown",
   "metadata": {},
   "source": [
    "## Tensorflow Flowers Model - No executor - Latency Test\n"
   ]
  },
  {
   "cell_type": "code",
   "execution_count": 10,
   "metadata": {},
   "outputs": [
    {
     "name": "stdout",
     "output_type": "stream",
     "text": [
      "Overwriting tf_flowers.yaml\n"
     ]
    }
   ],
   "source": [
    "%%writefile tf_flowers.yaml\n",
    "apiVersion: machinelearning.seldon.io/v1alpha2\n",
    "kind: SeldonDeployment\n",
    "metadata:\n",
    "  name: tf-flowers\n",
    "spec:\n",
    "  protocol: tensorflow\n",
    "  transport: rest\n",
    "  predictors:\n",
    "  - graph:\n",
    "      implementation: TENSORFLOW_SERVER\n",
    "      modelUri: gs://kfserving-samples/models/tensorflow/flowers\n",
    "      name:  flowers\n",
    "      parameters:\n",
    "        - name: model_name\n",
    "          type: STRING\n",
    "          value: flowers\n",
    "    annotations:\n",
    "        seldon.io/no-engine: \"true\"\n",
    "    componentSpecs:\n",
    "    - spec:\n",
    "        containers:\n",
    "        - name: flowers\n",
    "          resources:\n",
    "            requests:\n",
    "              cpu: '2'\n",
    "        tolerations:\n",
    "        - key: model\n",
    "          operator: Exists\n",
    "          effect: NoSchedule\n",
    "    name: default\n",
    "    replicas: 1"
   ]
  },
  {
   "cell_type": "code",
   "execution_count": 11,
   "metadata": {},
   "outputs": [
    {
     "name": "stdout",
     "output_type": "stream",
     "text": [
      "Available with 1 pods\n"
     ]
    }
   ],
   "source": [
    "run_model(\"tf_flowers.yaml\")"
   ]
  },
  {
   "cell_type": "code",
   "execution_count": 12,
   "metadata": {},
   "outputs": [
    {
     "name": "stdout",
     "output_type": "stream",
     "text": [
      "{\n",
      "    \"latencies\": {\n",
      "        \"total\": 1200089018347,\n",
      "        \"mean\": 73670289,\n",
      "        \"50th\": 73129037,\n",
      "        \"90th\": 81823849,\n",
      "        \"95th\": 84928884,\n",
      "        \"99th\": 93248220,\n",
      "        \"max\": 976431685,\n",
      "        \"min\": 53958421\n",
      "    },\n",
      "    \"bytes_in\": {\n",
      "        \"total\": 3551220,\n",
      "        \"mean\": 218\n",
      "    },\n",
      "    \"bytes_out\": {\n",
      "        \"total\": 263490750,\n",
      "        \"mean\": 16175\n",
      "    },\n",
      "    \"earliest\": \"2020-07-12T16:21:00.12358772Z\",\n",
      "    \"latest\": \"2020-07-12T16:41:00.180620249Z\",\n",
      "    \"end\": \"2020-07-12T16:41:00.255483814Z\",\n",
      "    \"duration\": 1200057032529,\n",
      "    \"wait\": 74863565,\n",
      "    \"requests\": 16290,\n",
      "    \"rate\": 13.574354850177793,\n",
      "    \"throughput\": 13.573508089417606,\n",
      "    \"success\": 1,\n",
      "    \"status_codes\": {\n",
      "        \"200\": 16290\n",
      "    },\n",
      "    \"errors\": []\n",
      "}\n"
     ]
    }
   ],
   "source": [
    "results = run_vegeta_test(\"tf_standalone_vegeta_cfg.yaml\",\"vegeta_1worker.yaml\",\"60m\")\n",
    "print(json.dumps(results, indent=4))\n",
    "mean_no_executor=results[\"latencies\"][\"mean\"]"
   ]
  },
  {
   "cell_type": "code",
   "execution_count": 13,
   "metadata": {},
   "outputs": [
    {
     "name": "stdout",
     "output_type": "stream",
     "text": [
      "Diff in ms 8.968882\n"
     ]
    }
   ],
   "source": [
    "diff = (mean_with_executor - mean_no_executor) / 1e6\n",
    "print(\"Diff in ms\",diff)"
   ]
  },
  {
   "cell_type": "markdown",
   "metadata": {},
   "source": [
    "## GRPC Tensorflow Flowers Model - Latency Test\n",
    "\n",
    "First create the binary proto for the flowers payload"
   ]
  },
  {
   "cell_type": "code",
   "execution_count": 1,
   "metadata": {},
   "outputs": [
    {
     "name": "stdout",
     "output_type": "stream",
     "text": [
      "/home/clive/anaconda3/envs/seldon-core/lib/python3.6/site-packages/tensorflow/python/framework/dtypes.py:516: FutureWarning: Passing (type, 1) or '1type' as a synonym of type is deprecated; in a future version of numpy, it will be understood as (type, (1,)) / '(1,)type'.\n",
      "  _np_qint8 = np.dtype([(\"qint8\", np.int8, 1)])\n",
      "/home/clive/anaconda3/envs/seldon-core/lib/python3.6/site-packages/tensorflow/python/framework/dtypes.py:517: FutureWarning: Passing (type, 1) or '1type' as a synonym of type is deprecated; in a future version of numpy, it will be understood as (type, (1,)) / '(1,)type'.\n",
      "  _np_quint8 = np.dtype([(\"quint8\", np.uint8, 1)])\n",
      "/home/clive/anaconda3/envs/seldon-core/lib/python3.6/site-packages/tensorflow/python/framework/dtypes.py:518: FutureWarning: Passing (type, 1) or '1type' as a synonym of type is deprecated; in a future version of numpy, it will be understood as (type, (1,)) / '(1,)type'.\n",
      "  _np_qint16 = np.dtype([(\"qint16\", np.int16, 1)])\n",
      "/home/clive/anaconda3/envs/seldon-core/lib/python3.6/site-packages/tensorflow/python/framework/dtypes.py:519: FutureWarning: Passing (type, 1) or '1type' as a synonym of type is deprecated; in a future version of numpy, it will be understood as (type, (1,)) / '(1,)type'.\n",
      "  _np_quint16 = np.dtype([(\"quint16\", np.uint16, 1)])\n",
      "/home/clive/anaconda3/envs/seldon-core/lib/python3.6/site-packages/tensorflow/python/framework/dtypes.py:520: FutureWarning: Passing (type, 1) or '1type' as a synonym of type is deprecated; in a future version of numpy, it will be understood as (type, (1,)) / '(1,)type'.\n",
      "  _np_qint32 = np.dtype([(\"qint32\", np.int32, 1)])\n",
      "/home/clive/anaconda3/envs/seldon-core/lib/python3.6/site-packages/tensorflow/python/framework/dtypes.py:525: FutureWarning: Passing (type, 1) or '1type' as a synonym of type is deprecated; in a future version of numpy, it will be understood as (type, (1,)) / '(1,)type'.\n",
      "  np_resource = np.dtype([(\"resource\", np.ubyte, 1)])\n",
      "/home/clive/anaconda3/envs/seldon-core/lib/python3.6/site-packages/tensorboard/compat/tensorflow_stub/dtypes.py:541: FutureWarning: Passing (type, 1) or '1type' as a synonym of type is deprecated; in a future version of numpy, it will be understood as (type, (1,)) / '(1,)type'.\n",
      "  _np_qint8 = np.dtype([(\"qint8\", np.int8, 1)])\n",
      "/home/clive/anaconda3/envs/seldon-core/lib/python3.6/site-packages/tensorboard/compat/tensorflow_stub/dtypes.py:542: FutureWarning: Passing (type, 1) or '1type' as a synonym of type is deprecated; in a future version of numpy, it will be understood as (type, (1,)) / '(1,)type'.\n",
      "  _np_quint8 = np.dtype([(\"quint8\", np.uint8, 1)])\n",
      "/home/clive/anaconda3/envs/seldon-core/lib/python3.6/site-packages/tensorboard/compat/tensorflow_stub/dtypes.py:543: FutureWarning: Passing (type, 1) or '1type' as a synonym of type is deprecated; in a future version of numpy, it will be understood as (type, (1,)) / '(1,)type'.\n",
      "  _np_qint16 = np.dtype([(\"qint16\", np.int16, 1)])\n",
      "/home/clive/anaconda3/envs/seldon-core/lib/python3.6/site-packages/tensorboard/compat/tensorflow_stub/dtypes.py:544: FutureWarning: Passing (type, 1) or '1type' as a synonym of type is deprecated; in a future version of numpy, it will be understood as (type, (1,)) / '(1,)type'.\n",
      "  _np_quint16 = np.dtype([(\"quint16\", np.uint16, 1)])\n",
      "/home/clive/anaconda3/envs/seldon-core/lib/python3.6/site-packages/tensorboard/compat/tensorflow_stub/dtypes.py:545: FutureWarning: Passing (type, 1) or '1type' as a synonym of type is deprecated; in a future version of numpy, it will be understood as (type, (1,)) / '(1,)type'.\n",
      "  _np_qint32 = np.dtype([(\"qint32\", np.int32, 1)])\n",
      "/home/clive/anaconda3/envs/seldon-core/lib/python3.6/site-packages/tensorboard/compat/tensorflow_stub/dtypes.py:550: FutureWarning: Passing (type, 1) or '1type' as a synonym of type is deprecated; in a future version of numpy, it will be understood as (type, (1,)) / '(1,)type'.\n",
      "  np_resource = np.dtype([(\"resource\", np.ubyte, 1)])\n"
     ]
    }
   ],
   "source": [
    "!python ../tf_proto_save.py --model flowers --input_path flowers.json --output_path flowers.bin"
   ]
  },
  {
   "cell_type": "code",
   "execution_count": 14,
   "metadata": {},
   "outputs": [
    {
     "name": "stdout",
     "output_type": "stream",
     "text": [
      "Overwriting tf_flowers.yaml\n"
     ]
    }
   ],
   "source": [
    "%%writefile tf_flowers.yaml\n",
    "apiVersion: machinelearning.seldon.io/v1alpha2\n",
    "kind: SeldonDeployment\n",
    "metadata:\n",
    "  name: tf-flowers\n",
    "spec:\n",
    "  protocol: tensorflow\n",
    "  transport: grpc\n",
    "  predictors:\n",
    "  - graph:\n",
    "      implementation: TENSORFLOW_SERVER\n",
    "      modelUri: gs://kfserving-samples/models/tensorflow/flowers\n",
    "      name:  flowers\n",
    "      parameters:\n",
    "        - name: model_name\n",
    "          type: STRING\n",
    "          value: flowers\n",
    "    componentSpecs:\n",
    "    - spec:\n",
    "        containers:\n",
    "        - name: flowers\n",
    "          resources:\n",
    "            requests:\n",
    "              cpu: '2'\n",
    "        tolerations:\n",
    "        - key: model\n",
    "          operator: Exists\n",
    "          effect: NoSchedule\n",
    "    name: default\n",
    "    replicas: 1"
   ]
  },
  {
   "cell_type": "code",
   "execution_count": 15,
   "metadata": {},
   "outputs": [
    {
     "name": "stdout",
     "output_type": "stream",
     "text": [
      "Available with 1 pods\n"
     ]
    }
   ],
   "source": [
    "run_model(\"tf_flowers.yaml\")"
   ]
  },
  {
   "cell_type": "code",
   "execution_count": 16,
   "metadata": {
    "scrolled": true
   },
   "outputs": [
    {
     "name": "stdout",
     "output_type": "stream",
     "text": [
      "{\n",
      "    \"date\": \"2020-07-12T17:12:04Z\",\n",
      "    \"endReason\": \"timeout\",\n",
      "    \"options\": {\n",
      "        \"host\": \"tf-flowers-default.seldon.svc.cluster.local:8000\",\n",
      "        \"proto\": \"/proto/prediction_service.proto\",\n",
      "        \"import-paths\": [\n",
      "            \"/proto\",\n",
      "            \".\"\n",
      "        ],\n",
      "        \"call\": \"tensorflow.serving.PredictionService/Predict\",\n",
      "        \"insecure\": true,\n",
      "        \"total\": 1000000,\n",
      "        \"concurrency\": 1,\n",
      "        \"connections\": 1,\n",
      "        \"duration\": 1800000000000,\n",
      "        \"timeout\": 20000000000,\n",
      "        \"dial-timeout\": 10000000000,\n",
      "        \"keepalive\": 1800000000000,\n",
      "        \"binary\": true,\n",
      "        \"CPUs\": 8\n",
      "    },\n",
      "    \"count\": 22978,\n",
      "    \"total\": 1800000675146,\n",
      "    \"average\": 78227435,\n",
      "    \"fastest\": 54712167,\n",
      "    \"slowest\": 938906233,\n",
      "    \"rps\": 12.76555076743859,\n",
      "    \"errorDistribution\": {\n",
      "        \"rpc error: code = Unavailable desc = transport is closing\": 1\n",
      "    },\n",
      "    \"statusCodeDistribution\": {\n",
      "        \"OK\": 22977,\n",
      "        \"Unavailable\": 1\n",
      "    },\n",
      "    \"latencyDistribution\": [\n",
      "        {\n",
      "            \"percentage\": 10,\n",
      "            \"latency\": 68291719\n",
      "        },\n",
      "        {\n",
      "            \"percentage\": 25,\n",
      "            \"latency\": 71762262\n",
      "        },\n",
      "        {\n",
      "            \"percentage\": 50,\n",
      "            \"latency\": 75875238\n",
      "        },\n",
      "        {\n",
      "            \"percentage\": 75,\n",
      "            \"latency\": 81163515\n",
      "        },\n",
      "        {\n",
      "            \"percentage\": 90,\n",
      "            \"latency\": 89225781\n",
      "        },\n",
      "        {\n",
      "            \"percentage\": 95,\n",
      "            \"latency\": 97536730\n",
      "        },\n",
      "        {\n",
      "            \"percentage\": 99,\n",
      "            \"latency\": 128647238\n",
      "        }\n",
      "    ]\n",
      "}\n"
     ]
    }
   ],
   "source": [
    "results = run_ghz_test(\"flowers.bin\",\"ghz_1worker.yaml\",\"60m\")\n",
    "print(json.dumps(results, indent=4))\n",
    "mean_with_executor=results[\"average\"]"
   ]
  },
  {
   "cell_type": "markdown",
   "metadata": {},
   "source": [
    "## GRPC Tensorflow Flowers Model - No executor - Latency Test\n"
   ]
  },
  {
   "cell_type": "code",
   "execution_count": 21,
   "metadata": {},
   "outputs": [
    {
     "name": "stdout",
     "output_type": "stream",
     "text": [
      "Overwriting tf_flowers.yaml\n"
     ]
    }
   ],
   "source": [
    "%%writefile tf_flowers.yaml\n",
    "apiVersion: machinelearning.seldon.io/v1alpha2\n",
    "kind: SeldonDeployment\n",
    "metadata:\n",
    "  name: tf-flowers\n",
    "spec:\n",
    "  protocol: tensorflow\n",
    "  transport: grpc\n",
    "  predictors:\n",
    "  - graph:\n",
    "      implementation: TENSORFLOW_SERVER\n",
    "      modelUri: gs://kfserving-samples/models/tensorflow/flowers\n",
    "      name:  flowers\n",
    "      parameters:\n",
    "        - name: model_name\n",
    "          type: STRING\n",
    "          value: flowers\n",
    "    annotations:\n",
    "        seldon.io/no-engine: \"true\"\n",
    "    componentSpecs:\n",
    "    - spec:\n",
    "        containers:\n",
    "        - name: flowers\n",
    "          resources:\n",
    "            requests:\n",
    "              cpu: '2'\n",
    "        tolerations:\n",
    "        - key: model\n",
    "          operator: Exists\n",
    "          effect: NoSchedule\n",
    "    name: default\n",
    "    replicas: 1"
   ]
  },
  {
   "cell_type": "code",
   "execution_count": 22,
   "metadata": {
    "scrolled": true
   },
   "outputs": [
    {
     "name": "stdout",
     "output_type": "stream",
     "text": [
      "Available with 1 pods\n"
     ]
    }
   ],
   "source": [
    "run_model(\"tf_flowers.yaml\")"
   ]
  },
  {
   "cell_type": "code",
   "execution_count": 23,
   "metadata": {},
   "outputs": [
    {
     "name": "stdout",
     "output_type": "stream",
     "text": [
      "{\n",
      "    \"date\": \"2020-07-12T18:04:44Z\",\n",
      "    \"endReason\": \"timeout\",\n",
      "    \"options\": {\n",
      "        \"host\": \"tf-flowers-default.seldon.svc.cluster.local:9000\",\n",
      "        \"proto\": \"/proto/prediction_service.proto\",\n",
      "        \"import-paths\": [\n",
      "            \"/proto\",\n",
      "            \".\"\n",
      "        ],\n",
      "        \"call\": \"tensorflow.serving.PredictionService/Predict\",\n",
      "        \"insecure\": true,\n",
      "        \"total\": 1000000,\n",
      "        \"concurrency\": 1,\n",
      "        \"connections\": 1,\n",
      "        \"duration\": 1800000000000,\n",
      "        \"timeout\": 20000000000,\n",
      "        \"dial-timeout\": 10000000000,\n",
      "        \"keepalive\": 1800000000000,\n",
      "        \"binary\": true,\n",
      "        \"CPUs\": 8\n",
      "    },\n",
      "    \"count\": 24132,\n",
      "    \"total\": 1800013456837,\n",
      "    \"average\": 74479232,\n",
      "    \"fastest\": 53792435,\n",
      "    \"slowest\": 1008191507,\n",
      "    \"rps\": 13.406566438900391,\n",
      "    \"errorDistribution\": {\n",
      "        \"rpc error: code = Unavailable desc = transport is closing\": 1\n",
      "    },\n",
      "    \"statusCodeDistribution\": {\n",
      "        \"OK\": 24131,\n",
      "        \"Unavailable\": 1\n",
      "    },\n",
      "    \"latencyDistribution\": [\n",
      "        {\n",
      "            \"percentage\": 10,\n",
      "            \"latency\": 67087978\n",
      "        },\n",
      "        {\n",
      "            \"percentage\": 25,\n",
      "            \"latency\": 70242403\n",
      "        },\n",
      "        {\n",
      "            \"percentage\": 50,\n",
      "            \"latency\": 73838624\n",
      "        },\n",
      "        {\n",
      "            \"percentage\": 75,\n",
      "            \"latency\": 77894265\n",
      "        },\n",
      "        {\n",
      "            \"percentage\": 90,\n",
      "            \"latency\": 82282422\n",
      "        },\n",
      "        {\n",
      "            \"percentage\": 95,\n",
      "            \"latency\": 85533746\n",
      "        },\n",
      "        {\n",
      "            \"percentage\": 99,\n",
      "            \"latency\": 93875540\n",
      "        }\n",
      "    ]\n",
      "}\n"
     ]
    }
   ],
   "source": [
    "results = run_ghz_test(\"flowers.bin\",\"ghz_standalone_1worker.yaml\",\"60m\")\n",
    "print(json.dumps(results, indent=4))\n",
    "mean_no_executor=results[\"average\"]"
   ]
  },
  {
   "cell_type": "code",
   "execution_count": 24,
   "metadata": {},
   "outputs": [
    {
     "name": "stdout",
     "output_type": "stream",
     "text": [
      "Diff in ms 3.748203\n"
     ]
    }
   ],
   "source": [
    "diff = (mean_with_executor - mean_no_executor) / 1e6\n",
    "print(\"Diff in ms\",diff)"
   ]
  },
  {
   "cell_type": "code",
   "execution_count": null,
   "metadata": {},
   "outputs": [],
   "source": []
  }
 ],
 "metadata": {
  "kernelspec": {
   "display_name": "Python 3",
   "language": "python",
   "name": "python3"
  },
  "language_info": {
   "codemirror_mode": {
    "name": "ipython",
    "version": 3
   },
   "file_extension": ".py",
   "mimetype": "text/x-python",
   "name": "python",
   "nbconvert_exporter": "python",
   "pygments_lexer": "ipython3",
   "version": "3.6.8"
  }
 },
 "nbformat": 4,
 "nbformat_minor": 2
}
