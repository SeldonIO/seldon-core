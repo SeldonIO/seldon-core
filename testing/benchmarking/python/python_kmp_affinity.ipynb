{
 "cells": [
  {
   "cell_type": "markdown",
   "metadata": {},
   "source": [
    "# Python Wrapper KMP_AFFINITY Tests\n",
    "\n",
    "This notebook illustrates testing your model with KMP_AFFINITY settings.\n",
    "\n",
    "## Prequisites\n",
    "\n",
    " * An authenticated K8S cluster with istio and Seldon Core installed\n",
    "   * You can use the ansible seldon-core playbook at https://github.com/SeldonIO/ansible-k8s-collection\n",
    " * vegeta and ghz benchmarking tools\n",
    " \n",
    " Port forward to istio\n",
    " \n",
    " ```\n",
    " kubectl port-forward $(kubectl get pods -l istio=ingressgateway -n istio-system -o jsonpath='{.items[0].metadata.name}') -n istio-system 8003:8080\n",
    " ```\n",
    " \n",
    "  * Tested on GKE with 3 nodes of 32vCPU  e2-highcpu-32 \n"
   ]
  },
  {
   "cell_type": "code",
   "execution_count": 1,
   "metadata": {},
   "outputs": [],
   "source": [
    "from IPython.core.magic import register_line_cell_magic\n",
    "\n",
    "\n",
    "@register_line_cell_magic\n",
    "def writetemplate(line, cell):\n",
    "    with open(line, \"w\") as f:\n",
    "        f.write(cell.format(**globals()))"
   ]
  },
  {
   "cell_type": "code",
   "execution_count": 2,
   "metadata": {},
   "outputs": [
    {
     "data": {
      "text/plain": [
       "'1.10.0-dev'"
      ]
     },
     "execution_count": 2,
     "metadata": {},
     "output_type": "execute_result"
    }
   ],
   "source": [
    "VERSION = !cat ../../../version.txt\n",
    "VERSION = VERSION[0]\n",
    "VERSION"
   ]
  },
  {
   "cell_type": "code",
   "execution_count": 3,
   "metadata": {},
   "outputs": [
    {
     "name": "stdout",
     "output_type": "stream",
     "text": [
      "Error from server (AlreadyExists): namespaces \"seldon\" already exists\r\n"
     ]
    }
   ],
   "source": [
    "!kubectl create namespace seldon"
   ]
  },
  {
   "cell_type": "markdown",
   "metadata": {},
   "source": [
    "## CIFAR10 Model with KMP Settings\n",
    "\n",
    "We run a custom python model built using [Intel's Tensorflow library](https://pypi.org/project/intel-tensorflow/)."
   ]
  },
  {
   "cell_type": "code",
   "execution_count": 5,
   "metadata": {},
   "outputs": [],
   "source": [
    "KMP_AFFINITY = \"verbose,disabled\"\n",
    "OMP_NUM_THREADS = 1"
   ]
  },
  {
   "cell_type": "code",
   "execution_count": 6,
   "metadata": {},
   "outputs": [],
   "source": [
    "%%writetemplate model.yaml\n",
    "apiVersion: machinelearning.seldon.io/v1alpha2\n",
    "kind: SeldonDeployment\n",
    "metadata:\n",
    "  name: seldon-model\n",
    "spec:\n",
    "  predictors:\n",
    "  - graph:\n",
    "      name: classifier\n",
    "    componentSpecs:    \n",
    "    - spec:\n",
    "        containers:\n",
    "        - name: classifier\n",
    "          image: seldonio/keras_cifar10:1.10.0-dev\n",
    "          resources:\n",
    "            requests:\n",
    "              cpu: 10\n",
    "            limits:\n",
    "              cpu: 10\n",
    "          env:\n",
    "          - name: GUNICORN_WORKERS\n",
    "            value: \"10\"\n",
    "          - name: GUNICORN_THREADS\n",
    "            value: \"1\"\n",
    "          - name: KMP_AFFINITY\n",
    "            value: \"{KMP_AFFINITY}\"\n",
    "          - name: OMP_NUM_THREADS\n",
    "            value: \"{OMP_NUM_THREADS}\"\n",
    "          - name: KMP_SETTINGS\n",
    "            value: \"TRUE\"\n",
    "          - name: KMP_BLOCKTIME\n",
    "            value: \"1\"\n",
    "        tolerations:\n",
    "        - key: model\n",
    "          operator: Exists\n",
    "          effect: NoSchedule\n",
    "    name: default\n",
    "    replicas: 1"
   ]
  },
  {
   "cell_type": "code",
   "execution_count": 7,
   "metadata": {},
   "outputs": [
    {
     "name": "stdout",
     "output_type": "stream",
     "text": [
      "seldondeployment.machinelearning.seldon.io/seldon-model created\r\n"
     ]
    }
   ],
   "source": [
    "!kubectl apply -f model.yaml -n seldon"
   ]
  },
  {
   "cell_type": "code",
   "execution_count": 8,
   "metadata": {},
   "outputs": [
    {
     "name": "stdout",
     "output_type": "stream",
     "text": [
      "pod/seldon-model-default-0-classifier-7b6f7d5ddf-qnw48 condition met\r\n"
     ]
    }
   ],
   "source": [
    "!kubectl wait --for condition=ready --timeout=600s pods --all -n seldon"
   ]
  },
  {
   "cell_type": "code",
   "execution_count": 9,
   "metadata": {},
   "outputs": [
    {
     "name": "stdout",
     "output_type": "stream",
     "text": [
      "{\"data\":{\"names\":[\"t:0\",\"t:1\",\"t:2\",\"t:3\",\"t:4\",\"t:5\",\"t:6\",\"t:7\",\"t:8\",\"t:9\"],\"ndarray\":[[1.716785118333064e-05,1.575566102474113e-06,2.213756124547217e-05,0.047145213931798935,0.00011693393025780097,0.01819806545972824,0.9344443678855896,6.195103196660057e-06,4.7716683184262365e-05,6.440643574023852e-07]]},\"meta\":{\"requestPath\":{\"classifier\":\"seldonio/keras_cifar10:1.10.0-dev\"}}}\r\n"
     ]
    }
   ],
   "source": [
    "!curl -X POST -H 'Content-Type: application/json' \\\n",
    "   -d '@./cifar10.json' \\\n",
    "    http://localhost:8003/seldon/seldon/seldon-model/api/v1.0/predictions"
   ]
  },
  {
   "cell_type": "markdown",
   "metadata": {},
   "source": [
    "## Direct Tests\n",
    "\n",
    "Inital warm-up tests via port-forward."
   ]
  },
  {
   "cell_type": "code",
   "execution_count": 10,
   "metadata": {},
   "outputs": [
    {
     "name": "stdout",
     "output_type": "stream",
     "text": [
      "Requests      [total, rate, throughput]         110, 5.49, 5.46\n",
      "Duration      [total, attack, wait]             20.128s, 20.028s, 100.14ms\n",
      "Latencies     [min, mean, 50, 90, 95, 99, max]  92.268ms, 182.983ms, 103.193ms, 349.642ms, 872.554ms, 1.013s, 1.036s\n",
      "Bytes In      [total, mean]                     42350, 385.00\n",
      "Bytes Out     [total, mean]                     7077730, 64343.00\n",
      "Success       [ratio]                           100.00%\n",
      "Status Codes  [code:count]                      200:110  \n",
      "Error Set:\n"
     ]
    }
   ],
   "source": [
    "%%bash\n",
    "vegeta attack -format=json -duration=20s -rate=0 -max-workers=1 -targets=vegeta_cifar10.json | \n",
    "  vegeta report -type=text"
   ]
  },
  {
   "cell_type": "markdown",
   "metadata": {},
   "source": [
    "## Run Vegeta Benchmark\n"
   ]
  },
  {
   "cell_type": "code",
   "execution_count": 11,
   "metadata": {},
   "outputs": [
    {
     "name": "stdout",
     "output_type": "stream",
     "text": [
      "configmap/vegeta-cfg created\r\n"
     ]
    }
   ],
   "source": [
    "!kubectl create -f configmap_cifar10.yaml -n seldon"
   ]
  },
  {
   "cell_type": "code",
   "execution_count": 12,
   "metadata": {},
   "outputs": [],
   "source": [
    "workers = 10\n",
    "duration = \"60s\""
   ]
  },
  {
   "cell_type": "code",
   "execution_count": 13,
   "metadata": {},
   "outputs": [],
   "source": [
    "%%writetemplate job-vegeta-cifar10.yaml\n",
    "apiVersion: batch/v1\n",
    "kind: Job\n",
    "metadata:\n",
    "  name: cifar10-loadtest\n",
    "spec:\n",
    "  backoffLimit: 6\n",
    "  parallelism: 1\n",
    "  template:\n",
    "    metadata:\n",
    "      annotations:\n",
    "        sidecar.istio.io/inject: \"false\"\n",
    "    spec:\n",
    "      containers:\n",
    "        - args:\n",
    "            - vegeta -cpus=1 attack -format=json -keepalive=false -duration={duration} -rate=0 -max-workers={workers} -targets=/var/vegeta/cifar10.json\n",
    "              | vegeta report -type=text\n",
    "          command:\n",
    "            - sh\n",
    "            - -c\n",
    "          image: peterevans/vegeta:latest\n",
    "          imagePullPolicy: Always\n",
    "          name: vegeta\n",
    "          volumeMounts:\n",
    "            - mountPath: /var/vegeta\n",
    "              name: vegeta-cfg\n",
    "      restartPolicy: Never\n",
    "      volumes:\n",
    "        - configMap:\n",
    "            defaultMode: 420\n",
    "            name: vegeta-cfg\n",
    "          name: vegeta-cfg\n"
   ]
  },
  {
   "cell_type": "code",
   "execution_count": 14,
   "metadata": {},
   "outputs": [
    {
     "name": "stdout",
     "output_type": "stream",
     "text": [
      "job.batch/cifar10-loadtest created\r\n"
     ]
    }
   ],
   "source": [
    "!kubectl create -f job-vegeta-cifar10.yaml -n seldon"
   ]
  },
  {
   "cell_type": "code",
   "execution_count": 15,
   "metadata": {},
   "outputs": [
    {
     "name": "stdout",
     "output_type": "stream",
     "text": [
      "error: timed out waiting for the condition on jobs/cifar10-loadtest\r\n"
     ]
    }
   ],
   "source": [
    "!kubectl wait --for=condition=complete job/cifar10-loadtest -n seldon"
   ]
  },
  {
   "cell_type": "code",
   "execution_count": 16,
   "metadata": {},
   "outputs": [
    {
     "name": "stdout",
     "output_type": "stream",
     "text": [
      "Requests      [total, rate, throughput]         8677, 144.61, 144.46\r\n",
      "Duration      [total, attack, wait]             1m0s, 1m0s, 63.126ms\r\n",
      "Latencies     [min, mean, 50, 90, 95, 99, max]  55.621ms, 69.182ms, 66.127ms, 79.525ms, 83.454ms, 126.962ms, 230.469ms\r\n",
      "Bytes In      [total, mean]                     3340645, 385.00\r\n",
      "Bytes Out     [total, mean]                     558304211, 64343.00\r\n",
      "Success       [ratio]                           100.00%\r\n",
      "Status Codes  [code:count]                      200:8677  \r\n",
      "Error Set:\r\n"
     ]
    }
   ],
   "source": [
    "!kubectl logs $(kubectl get pod -l job-name=cifar10-loadtest -n seldon -o jsonpath='{.items[0].metadata.name}') -n seldon"
   ]
  },
  {
   "cell_type": "code",
   "execution_count": 17,
   "metadata": {},
   "outputs": [
    {
     "name": "stdout",
     "output_type": "stream",
     "text": [
      "job.batch \"cifar10-loadtest\" deleted\r\n"
     ]
    }
   ],
   "source": [
    "!kubectl delete -f job-vegeta-cifar10.yaml -n seldon"
   ]
  },
  {
   "cell_type": "code",
   "execution_count": 18,
   "metadata": {},
   "outputs": [
    {
     "name": "stdout",
     "output_type": "stream",
     "text": [
      "Error from server (NotFound): error when deleting \"model.yaml\": seldondeployments.machinelearning.seldon.io \"seldon-model\" not found\r\n"
     ]
    }
   ],
   "source": [
    "!kubectl delete -f model.yaml"
   ]
  },
  {
   "cell_type": "markdown",
   "metadata": {},
   "source": [
    "## Notes\n",
    "\n",
    "Always ensure your resource.cpu.linits >= GUNICORN_WORKERS otherwise there may be [CPU throttling](https://medium.com/omio-engineering/cpu-limits-and-aggressive-throttling-in-kubernetes-c5b20bd8a718)"
   ]
  },
  {
   "cell_type": "code",
   "execution_count": null,
   "metadata": {},
   "outputs": [],
   "source": []
  }
 ],
 "metadata": {
  "kernelspec": {
   "display_name": "Python 3 (ipykernel)",
   "language": "python",
   "name": "python3"
  },
  "language_info": {
   "codemirror_mode": {
    "name": "ipython",
    "version": 3
   },
   "file_extension": ".py",
   "mimetype": "text/x-python",
   "name": "python",
   "nbconvert_exporter": "python",
   "pygments_lexer": "ipython3",
   "version": "3.7.10"
  }
 },
 "nbformat": 4,
 "nbformat_minor": 2
}
