{
 "cells": [
  {
   "cell_type": "markdown",
   "metadata": {},
   "source": [
    "# Benchmarking with Argo Worfklows & Vegeta\n",
    "\n",
    "In this notebook we will dive into how you can run bench marking with batch processing with Argo Workflows, Seldon Core and Vegeta.\n",
    "\n",
    "Dependencies:\n",
    "\n",
    "* Seldon core installed as per the docs with Istio as an ingress \n",
    "* Argo Workfklows installed in cluster (and argo CLI for commands)\n"
   ]
  },
  {
   "cell_type": "markdown",
   "metadata": {},
   "source": [
    "## Setup\n",
    "\n",
    "### Install Seldon Core\n",
    "Use the notebook to [set-up Seldon Core with Ambassador or Istio Ingress](https://docs.seldon.io/projects/seldon-core/en/latest/examples/seldon_core_setup.html).\n",
    "\n",
    "Note: If running with KIND you need to make sure do follow [these steps](https://github.com/argoproj/argo-workflows/issues/2376#issuecomment-595593237) as workaround to the `/.../docker.sock` known issue.\n"
   ]
  },
  {
   "cell_type": "markdown",
   "metadata": {},
   "source": [
    "### Install Argo Workflows\n",
    "You can follow the instructions from the official [Argo Workflows Documentation](https://github.com/argoproj/argo#quickstart).\n",
    "\n",
    "Download the right CLi for your environment following the documentation (https://github.com/argoproj/argo-workflows/releases/tag/v3.0.8)\n",
    "\n",
    "You also need to make sure that argo has permissions to create seldon deployments - for this you can just create a default-admin rolebinding as follows:"
   ]
  },
  {
   "cell_type": "markdown",
   "metadata": {},
   "source": [
    "Set up the RBAC so the argo workflow is able to create seldon deployments."
   ]
  },
  {
   "cell_type": "markdown",
   "metadata": {},
   "source": [
    "Set up the configmap in order for it to work in KIND and other environments where Docker may not be thr main runtime (see https://github.com/argoproj/argo-workflows/issues/5243#issuecomment-792993742)"
   ]
  },
  {
   "cell_type": "markdown",
   "metadata": {},
   "source": [
    "### Create Benchmark Argo Workflow\n",
    "\n",
    "In order to create a benchmark, we created a simple argo workflow template so you can leverage the power of the helm charts.\n",
    "\n",
    "Before we dive into the contents of the full helm chart, let's first give it a try with some of the settings.\n",
    "\n",
    "We will run a batch job that will set up a Seldon Deployment with 1 replicas and 4 cpus (with 100 max workers) to send requests."
   ]
  },
  {
   "cell_type": "code",
   "execution_count": 7,
   "metadata": {
    "scrolled": false
   },
   "outputs": [
    {
     "name": "stdout",
     "output_type": "stream",
     "text": [
      "Name:                seldon-benchmark-process\r\n",
      "Namespace:           argo\r\n",
      "ServiceAccount:      default\r\n",
      "Status:              Pending\r\n",
      "Created:             Mon Jun 28 18:38:12 +0100 (now)\r\n",
      "Progress:            \r\n"
     ]
    }
   ],
   "source": [
    "!helm template seldon-benchmark-workflow ../../../helm-charts/seldon-benchmark-workflow/ \\\n",
    "    --set workflow.namespace=argo \\\n",
    "    --set workflow.name=seldon-benchmark-process \\\n",
    "    --set workflow.parallelism=2 \\\n",
    "    --set seldonDeployment.name=sklearn \\\n",
    "    --set seldonDeployment.replicas=\"1\" \\\n",
    "    --set seldonDeployment.serverWorkers=\"5\" \\\n",
    "    --set seldonDeployment.serverThreads=1 \\\n",
    "    --set seldonDeployment.modelUri=\"gs://seldon-models/v1.11.0-dev/sklearn/iris\" \\\n",
    "    --set seldonDeployment.server=\"SKLEARN_SERVER\" \\\n",
    "    --set seldonDeployment.apiType=\"rest|grpc\" \\\n",
    "    --set seldonDeployment.requests.cpu=\"2000Mi\" \\\n",
    "    --set seldonDeployment.limits.cpu=\"2000Mi\" \\\n",
    "    --set seldonDeployment.disableOrchestrator=\"true|false\" \\\n",
    "    --set benchmark.cpu=\"2\" \\\n",
    "    --set benchmark.concurrency=\"1\" \\\n",
    "    --set benchmark.duration=\"30s\" \\\n",
    "    --set benchmark.rate=0 \\\n",
    "    --set benchmark.data='\\{\"data\": {\"ndarray\": [[0\\,1\\,2\\,3]]\\}\\}' \\\n",
    "    | argo submit -"
   ]
  },
  {
   "cell_type": "code",
   "execution_count": 7,
   "metadata": {},
   "outputs": [
    {
     "name": "stdout",
     "output_type": "stream",
     "text": [
      "NAME                       STATUS    AGE   DURATION   PRIORITY\r\n",
      "seldon-benchmark-process   Running   20s   20s        0\r\n"
     ]
    }
   ],
   "source": [
    "!argo list -n argo"
   ]
  },
  {
   "cell_type": "code",
   "execution_count": 8,
   "metadata": {},
   "outputs": [
    {
     "name": "stdout",
     "output_type": "stream",
     "text": [
      "\u001b[33mseldon-benchmark-process-635956972: [{\"name\": \"sklearn-0\", \"replicas\": \"1\", \"serverWorkers\": \"5\", \"serverThreads\": \"1\", \"modelUri\": \"gs://seldon-models/sklearn/iris\", \"image\": \"\", \"server\": \"SKLEARN_SERVER\", \"apiType\": \"rest\", \"requestsCpu\": \"2000Mi\", \"requestsMemory\": \"100Mi\", \"limitsCpu\": \"2000Mi\", \"limitsMemory\": \"1000Mi\", \"benchmarkCpu\": \"2\", \"concurrency\": \"1\", \"duration\": \"30s\", \"rate\": \"0\", \"disableOrchestrator\": \"true\", \"params\": \"{\\\"name\\\": \\\"sklearn-0\\\", \\\"replicas\\\": \\\"1\\\", \\\"serverWorkers\\\": \\\"5\\\", \\\"serverThreads\\\": \\\"1\\\", \\\"modelUri\\\": \\\"gs://seldon-models/sklearn/iris\\\", \\\"image\\\": \\\"\\\", \\\"server\\\": \\\"SKLEARN_SERVER\\\", \\\"apiType\\\": \\\"rest\\\", \\\"requestsCpu\\\": \\\"2000Mi\\\", \\\"requestsMemory\\\": \\\"100Mi\\\", \\\"limitsCpu\\\": \\\"2000Mi\\\", \\\"limitsMemory\\\": \\\"1000Mi\\\", \\\"benchmarkCpu\\\": \\\"2\\\", \\\"concurrency\\\": \\\"1\\\", \\\"duration\\\": \\\"30s\\\", \\\"rate\\\": \\\"0\\\", \\\"disableOrchestrator\\\": \\\"true\\\"}\"}]\u001b[0m\n",
      "\u001b[31mseldon-benchmark-process-2323867814: time=\"2021-06-28T17:27:52.287Z\" level=info msg=\"Starting Workflow Executor\" version=\"{v3.0.3 2021-05-11T21:14:20Z 02071057c082cf295ab8da68f1b2027ff8762b5a v3.0.3 clean go1.15.7 gc linux/amd64}\"\u001b[0m\n",
      "\u001b[31mseldon-benchmark-process-2323867814: time=\"2021-06-28T17:27:52.289Z\" level=info msg=\"Creating a docker executor\"\u001b[0m\n",
      "\u001b[31mseldon-benchmark-process-2323867814: time=\"2021-06-28T17:27:52.289Z\" level=info msg=\"Executor (version: v3.0.3, build_date: 2021-05-11T21:14:20Z) initialized (pod: argo/seldon-benchmark-process-2323867814) with template:\\n{\\\"name\\\":\\\"create-seldon-resource-template\\\",\\\"inputs\\\":{\\\"parameters\\\":[{\\\"name\\\":\\\"inparam\\\",\\\"value\\\":\\\"sklearn-0\\\"},{\\\"name\\\":\\\"replicas\\\",\\\"value\\\":\\\"1\\\"},{\\\"name\\\":\\\"serverWorkers\\\",\\\"value\\\":\\\"5\\\"},{\\\"name\\\":\\\"serverThreads\\\",\\\"value\\\":\\\"1\\\"},{\\\"name\\\":\\\"modelUri\\\",\\\"value\\\":\\\"gs://seldon-models/sklearn/iris\\\"},{\\\"name\\\":\\\"image\\\",\\\"value\\\":\\\"\\\"},{\\\"name\\\":\\\"server\\\",\\\"value\\\":\\\"SKLEARN_SERVER\\\"},{\\\"name\\\":\\\"apiType\\\",\\\"value\\\":\\\"rest\\\"},{\\\"name\\\":\\\"requestsCpu\\\",\\\"value\\\":\\\"2000Mi\\\"},{\\\"name\\\":\\\"requestsMemory\\\",\\\"value\\\":\\\"100Mi\\\"},{\\\"name\\\":\\\"limitsCpu\\\",\\\"value\\\":\\\"2000Mi\\\"},{\\\"name\\\":\\\"limitsMemory\\\",\\\"value\\\":\\\"1000Mi\\\"},{\\\"name\\\":\\\"benchmarkCpu\\\",\\\"value\\\":\\\"2\\\"},{\\\"name\\\":\\\"concurrency\\\",\\\"value\\\":\\\"1\\\"},{\\\"name\\\":\\\"duration\\\",\\\"value\\\":\\\"30s\\\"},{\\\"name\\\":\\\"rate\\\",\\\"value\\\":\\\"0\\\"},{\\\"name\\\":\\\"params\\\",\\\"value\\\":\\\"{\\\\\\\\\\\\\\\"name\\\\\\\\\\\\\\\": \\\\\\\\\\\\\\\"sklearn-0\\\\\\\\\\\\\\\", \\\\\\\\\\\\\\\"replicas\\\\\\\\\\\\\\\": \\\\\\\\\\\\\\\"1\\\\\\\\\\\\\\\", \\\\\\\\\\\\\\\"serverWorkers\\\\\\\\\\\\\\\": \\\\\\\\\\\\\\\"5\\\\\\\\\\\\\\\", \\\\\\\\\\\\\\\"serverThreads\\\\\\\\\\\\\\\": \\\\\\\\\\\\\\\"1\\\\\\\\\\\\\\\", \\\\\\\\\\\\\\\"modelUri\\\\\\\\\\\\\\\": \\\\\\\\\\\\\\\"gs://seldon-models/sklearn/iris\\\\\\\\\\\\\\\", \\\\\\\\\\\\\\\"image\\\\\\\\\\\\\\\": \\\\\\\\\\\\\\\"\\\\\\\\\\\\\\\", \\\\\\\\\\\\\\\"server\\\\\\\\\\\\\\\": \\\\\\\\\\\\\\\"SKLEARN_SERVER\\\\\\\\\\\\\\\", \\\\\\\\\\\\\\\"apiType\\\\\\\\\\\\\\\": \\\\\\\\\\\\\\\"rest\\\\\\\\\\\\\\\", \\\\\\\\\\\\\\\"requestsCpu\\\\\\\\\\\\\\\": \\\\\\\\\\\\\\\"2000Mi\\\\\\\\\\\\\\\", \\\\\\\\\\\\\\\"requestsMemory\\\\\\\\\\\\\\\": \\\\\\\\\\\\\\\"100Mi\\\\\\\\\\\\\\\", \\\\\\\\\\\\\\\"limitsCpu\\\\\\\\\\\\\\\": \\\\\\\\\\\\\\\"2000Mi\\\\\\\\\\\\\\\", \\\\\\\\\\\\\\\"limitsMemory\\\\\\\\\\\\\\\": \\\\\\\\\\\\\\\"1000Mi\\\\\\\\\\\\\\\", \\\\\\\\\\\\\\\"benchmarkCpu\\\\\\\\\\\\\\\": \\\\\\\\\\\\\\\"2\\\\\\\\\\\\\\\", \\\\\\\\\\\\\\\"concurrency\\\\\\\\\\\\\\\": \\\\\\\\\\\\\\\"1\\\\\\\\\\\\\\\", \\\\\\\\\\\\\\\"duration\\\\\\\\\\\\\\\": \\\\\\\\\\\\\\\"30s\\\\\\\\\\\\\\\", \\\\\\\\\\\\\\\"rate\\\\\\\\\\\\\\\": \\\\\\\\\\\\\\\"0\\\\\\\\\\\\\\\", \\\\\\\\\\\\\\\"disableOrchestrator\\\\\\\\\\\\\\\": \\\\\\\\\\\\\\\"true\\\\\\\\\\\\\\\"}\\\"},{\\\"name\\\":\\\"disableOrchestrator\\\",\\\"value\\\":\\\"true\\\"}]},\\\"outputs\\\":{},\\\"metadata\\\":{},\\\"resource\\\":{\\\"action\\\":\\\"create\\\",\\\"manifest\\\":\\\"apiVersion: machinelearning.seldon.io/v1\\\\nkind: SeldonDeployment\\\\nmetadata:\\\\n  name: \\\\\\\"sklearn-0\\\\\\\"\\\\n  namespace: argo\\\\n  ownerReferences:\\\\n  - apiVersion: argoproj.io/v1alpha1\\\\n    blockOwnerDeletion: true\\\\n    kind: Workflow\\\\n    name: \\\\\\\"seldon-benchmark-process\\\\\\\"\\\\n    uid: \\\\\\\"8be89da7-cb46-40c5-98ac-c17dd9d99d12\\\\\\\"\\\\nspec:\\\\n  name: \\\\\\\"sklearn-0\\\\\\\"\\\\n  transport: \\\\\\\"rest\\\\\\\"\\\\n  predictors:\\\\n    - annotations:\\\\n        seldonio/no-engine: \\\\\\\"true\\\\\\\"\\\\n      componentSpecs:\\\\n      - spec:\\\\n          containers:\\\\n          - name: classifier\\\\n            env:\\\\n            - name: GUNICORN_THREADS\\\\n              value: \\\\\\\"1\\\\\\\"\\\\n            - name: GUNICORN_WORKERS\\\\n              value: \\\\\\\"5\\\\\\\"\\\\n      graph:\\\\n        children: []\\\\n        implementation: SKLEARN_SERVER\\\\n        modelUri: gs://seldon-models/sklearn/iris\\\\n        name: classifier\\\\n      name: default\\\\n      replicas: 1\\\\n\\\"}}\"\u001b[0m\n",
      "\u001b[31mseldon-benchmark-process-2323867814: time=\"2021-06-28T17:27:52.289Z\" level=info msg=\"Loading manifest to /tmp/manifest.yaml\"\u001b[0m\n",
      "\u001b[31mseldon-benchmark-process-2323867814: time=\"2021-06-28T17:27:52.289Z\" level=info msg=\"kubectl create -f /tmp/manifest.yaml -o json\"\u001b[0m\n",
      "\u001b[31mseldon-benchmark-process-2323867814: time=\"2021-06-28T17:27:52.808Z\" level=info msg=argo/SeldonDeployment.machinelearning.seldon.io/sklearn-0\u001b[0m\n",
      "\u001b[31mseldon-benchmark-process-2323867814: time=\"2021-06-28T17:27:52.808Z\" level=info msg=\"Starting SIGUSR2 signal monitor\"\u001b[0m\n",
      "\u001b[31mseldon-benchmark-process-2323867814: time=\"2021-06-28T17:27:52.808Z\" level=info msg=\"No output parameters\"\u001b[0m\n",
      "\u001b[32mseldon-benchmark-process-2388065488: Waiting for deployment \"sklearn-0-default-0-classifier\" rollout to finish: 0 of 1 updated replicas are available...\u001b[0m\n",
      "\u001b[32mseldon-benchmark-process-2388065488: deployment \"sklearn-0-default-0-classifier\" successfully rolled out\u001b[0m\n",
      "\u001b[31mseldon-benchmark-process-3406592537: {\"latencies\":{\"total\":29976397800,\"mean\":4636720,\"50th\":4085862,\"90th\":6830905,\"95th\":7974040,\"99th\":12617402,\"max\":37090400,\"min\":2523500},\"bytes_in\":{\"total\":1183095,\"mean\":183},\"bytes_out\":{\"total\":219810,\"mean\":34},\"earliest\":\"2021-06-28T17:28:30.4200499Z\",\"latest\":\"2021-06-28T17:29:00.4217614Z\",\"end\":\"2021-06-28T17:29:00.4249416Z\",\"duration\":30001711500,\"wait\":3180200,\"requests\":6465,\"rate\":215.48770642634838,\"throughput\":215.46486701700042,\"success\":1,\"status_codes\":{\"200\":6465},\"errors\":[],\"params\":{\"name\":\"sklearn-0\",\"replicas\":\"1\",\"serverWorkers\":\"5\",\"serverThreads\":\"1\",\"modelUri\":\"gs://seldon-models/sklearn/iris\",\"image\":\"\",\"server\":\"SKLEARN_SERVER\",\"apiType\":\"rest\",\"requestsCpu\":\"2000Mi\",\"requestsMemory\":\"100Mi\",\"limitsCpu\":\"2000Mi\",\"limitsMemory\":\"1000Mi\",\"benchmarkCpu\":\"2\",\"concurrency\":\"1\",\"duration\":\"30s\",\"rate\":\"0\",\"disableOrchestrator\":\"true\"}}\u001b[0m\n",
      "\u001b[37mseldon-benchmark-process-1122797932: seldondeployment.machinelearning.seldon.io \"sklearn-0\" deleted\u001b[0m\n"
     ]
    }
   ],
   "source": [
    "!argo logs -f seldon-benchmark-process -n argo"
   ]
  },
  {
   "cell_type": "code",
   "execution_count": 14,
   "metadata": {},
   "outputs": [
    {
     "name": "stdout",
     "output_type": "stream",
     "text": [
      "Name:                seldon-benchmark-process\r\n",
      "Namespace:           argo\r\n",
      "ServiceAccount:      default\r\n",
      "Status:              Running\r\n",
      "Conditions:          \r\n",
      " PodRunning          False\r\n",
      "Created:             Mon Jun 28 18:38:12 +0100 (4 minutes ago)\r\n",
      "Started:             Mon Jun 28 18:38:12 +0100 (4 minutes ago)\r\n",
      "Duration:            4 minutes 53 seconds\r\n",
      "Progress:            14/15\r\n",
      "ResourcesDuration:   4m41s*(1 cpu),4m41s*(100Mi memory)\r\n",
      "\r\n",
      "\u001b[39mSTEP\u001b[0m                                                                                                                                                                                                                                                                                                                                                                                                                                                                                                                                                                                                                                                                                                                                                                                                                           TEMPLATE                               PODNAME                              DURATION  MESSAGE\r\n",
      " \u001b[36m●\u001b[0m seldon-benchmark-process                                                                                                                                                                                                                                                                                                                                                                                                                                                                                                                                                                                                                                                                                                                                                                                                    seldon-benchmark-process                                                                                                   \r\n",
      " ├───\u001b[32m✔\u001b[0m generate-parameters                                                                                                                                                                                                                                                                                                                                                                                                                                                                                                                                                                                                                                                                                                                                                                                                     generate-parameters-template           seldon-benchmark-process-635956972   3s                                             \r\n",
      " └─┬─\u001b[32m✔\u001b[0m run-benchmark-iteration(0:apiType:rest,benchmarkCpu:2,concurrency:1,disableOrchestrator:true,duration:30s,image:,limitsCpu:2000Mi,limitsMemory:1000Mi,modelUri:gs://seldon-models/sklearn/iris,name:sklearn-0,params:{\\\"name\\\": \\\"sklearn-0\\\", \\\"replicas\\\": \\\"1\\\", \\\"serverWorkers\\\": \\\"5\\\", \\\"serverThreads\\\": \\\"1\\\", \\\"modelUri\\\": \\\"gs://seldon-models/sklearn/iris\\\", \\\"image\\\": \\\"\\\", \\\"server\\\": \\\"SKLEARN_SERVER\\\", \\\"apiType\\\": \\\"rest\\\", \\\"requestsCpu\\\": \\\"2000Mi\\\", \\\"requestsMemory\\\": \\\"100Mi\\\", \\\"limitsCpu\\\": \\\"2000Mi\\\", \\\"limitsMemory\\\": \\\"1000Mi\\\", \\\"benchmarkCpu\\\": \\\"2\\\", \\\"concurrency\\\": \\\"1\\\", \\\"duration\\\": \\\"30s\\\", \\\"rate\\\": \\\"0\\\", \\\"disableOrchestrator\\\": \\\"true\\\"},rate:0,replicas:1,requestsCpu:2000Mi,requestsMemory:100Mi,server:SKLEARN_SERVER,serverThreads:1,serverWorkers:5)    run-benchmark-iteration-step-template                                                                                      \r\n",
      "   │ ├───\u001b[32m✔\u001b[0m create-seldon-resource                                                                                                                                                                                                                                                                                                                                                                                                                                                                                                                                                                                                                                                                                                                                                                                              create-seldon-resource-template        seldon-benchmark-process-2323867814  1s                                             \r\n",
      "   │ ├───\u001b[32m✔\u001b[0m wait-seldon-resource                                                                                                                                                                                                                                                                                                                                                                                                                                                                                                                                                                                                                                                                                                                                                                                                wait-seldon-resource-template          seldon-benchmark-process-2388065488  15s                                            \r\n",
      "   │ ├─┬─\u001b[39m○\u001b[0m run-benchmark-grpc                                                                                                                                                                                                                                                                                                                                                                                                                                                                                                                                                                                                                                                                                                                                                                                                  run-benchmark-template-grpc                                                           when 'rest == grpc' evaluated false  \r\n",
      "   │ │ └─\u001b[32m✔\u001b[0m run-benchmark-rest                                                                                                                                                                                                                                                                                                                                                                                                                                                                                                                                                                                                                                                                                                                                                                                                  run-benchmark-template-rest            seldon-benchmark-process-3406592537  31s                                            \r\n",
      "   │ └───\u001b[32m✔\u001b[0m delete-seldon-resource                                                                                                                                                                                                                                                                                                                                                                                                                                                                                                                                                                                                                                                                                                                                                                                              delete-seldon-resource-template        seldon-benchmark-process-1122797932  3s                                             \r\n",
      "   ├─\u001b[32m✔\u001b[0m run-benchmark-iteration(1:apiType:rest,benchmarkCpu:2,concurrency:1,disableOrchestrator:false,duration:30s,image:,limitsCpu:2000Mi,limitsMemory:1000Mi,modelUri:gs://seldon-models/sklearn/iris,name:sklearn-1,params:{\\\"name\\\": \\\"sklearn-1\\\", \\\"replicas\\\": \\\"1\\\", \\\"serverWorkers\\\": \\\"5\\\", \\\"serverThreads\\\": \\\"1\\\", \\\"modelUri\\\": \\\"gs://seldon-models/sklearn/iris\\\", \\\"image\\\": \\\"\\\", \\\"server\\\": \\\"SKLEARN_SERVER\\\", \\\"apiType\\\": \\\"rest\\\", \\\"requestsCpu\\\": \\\"2000Mi\\\", \\\"requestsMemory\\\": \\\"100Mi\\\", \\\"limitsCpu\\\": \\\"2000Mi\\\", \\\"limitsMemory\\\": \\\"1000Mi\\\", \\\"benchmarkCpu\\\": \\\"2\\\", \\\"concurrency\\\": \\\"1\\\", \\\"duration\\\": \\\"30s\\\", \\\"rate\\\": \\\"0\\\", \\\"disableOrchestrator\\\": \\\"false\\\"},rate:0,replicas:1,requestsCpu:2000Mi,requestsMemory:100Mi,server:SKLEARN_SERVER,serverThreads:1,serverWorkers:5)  run-benchmark-iteration-step-template                                                                                      \r\n",
      "   │ ├───\u001b[32m✔\u001b[0m create-seldon-resource                                                                                                                                                                                                                                                                                                                                                                                                                                                                                                                                                                                                                                                                                                                                                                                              create-seldon-resource-template        seldon-benchmark-process-1282498819  2s                                             \r\n",
      "   │ ├───\u001b[32m✔\u001b[0m wait-seldon-resource                                                                                                                                                                                                                                                                                                                                                                                                                                                                                                                                                                                                                                                                                                                                                                                                wait-seldon-resource-template          seldon-benchmark-process-634593      17s                                            \r\n",
      "   │ ├─┬─\u001b[39m○\u001b[0m run-benchmark-grpc                                                                                                                                                                                                                                                                                                                                                                                                                                                                                                                                                                                                                                                                                                                                                                                                  run-benchmark-template-grpc                                                           when 'rest == grpc' evaluated false  \r\n",
      "   │ │ └─\u001b[32m✔\u001b[0m run-benchmark-rest                                                                                                                                                                                                                                                                                                                                                                                                                                                                                                                                                                                                                                                                                                                                                                                                  run-benchmark-template-rest            seldon-benchmark-process-692934928   32s                                            \r\n",
      "   │ └───\u001b[32m✔\u001b[0m delete-seldon-resource                                                                                                                                                                                                                                                                                                                                                                                                                                                                                                                                                                                                                                                                                                                                                                                              delete-seldon-resource-template        seldon-benchmark-process-3935684561  2s                                             \r\n",
      "   ├─\u001b[32m✔\u001b[0m run-benchmark-iteration(2:apiType:grpc,benchmarkCpu:2,concurrency:1,disableOrchestrator:true,duration:30s,image:,limitsCpu:2000Mi,limitsMemory:1000Mi,modelUri:gs://seldon-models/sklearn/iris,name:sklearn-2,params:{\\\"name\\\": \\\"sklearn-2\\\", \\\"replicas\\\": \\\"1\\\", \\\"serverWorkers\\\": \\\"5\\\", \\\"serverThreads\\\": \\\"1\\\", \\\"modelUri\\\": \\\"gs://seldon-models/sklearn/iris\\\", \\\"image\\\": \\\"\\\", \\\"server\\\": \\\"SKLEARN_SERVER\\\", \\\"apiType\\\": \\\"grpc\\\", \\\"requestsCpu\\\": \\\"2000Mi\\\", \\\"requestsMemory\\\": \\\"100Mi\\\", \\\"limitsCpu\\\": \\\"2000Mi\\\", \\\"limitsMemory\\\": \\\"1000Mi\\\", \\\"benchmarkCpu\\\": \\\"2\\\", \\\"concurrency\\\": \\\"1\\\", \\\"duration\\\": \\\"30s\\\", \\\"rate\\\": \\\"0\\\", \\\"disableOrchestrator\\\": \\\"true\\\"},rate:0,replicas:1,requestsCpu:2000Mi,requestsMemory:100Mi,server:SKLEARN_SERVER,serverThreads:1,serverWorkers:5)    run-benchmark-iteration-step-template                                                                                      \r\n",
      "   │ ├───\u001b[32m✔\u001b[0m create-seldon-resource                                                                                                                                                                                                                                                                                                                                                                                                                                                                                                                                                                                                                                                                                                                                                                                              create-seldon-resource-template        seldon-benchmark-process-637309828   1s                                             \r\n",
      "   │ ├───\u001b[32m✔\u001b[0m wait-seldon-resource                                                                                                                                                                                                                                                                                                                                                                                                                                                                                                                                                                                                                                                                                                                                                                                                wait-seldon-resource-template          seldon-benchmark-process-2284480586  19s                                            \r\n",
      "   │ ├─┬─\u001b[32m✔\u001b[0m run-benchmark-grpc                                                                                                                                                                                                                                                                                                                                                                                                                                                                                                                                                                                                                                                                                                                                                                                                  run-benchmark-template-grpc            seldon-benchmark-process-2580139445  32s                                            \r\n",
      "   │ │ └─\u001b[39m○\u001b[0m run-benchmark-rest                                                                                                                                                                                                                                                                                                                                                                                                                                                                                                                                                                                                                                                                                                                                                                                                  run-benchmark-template-rest                                                           when 'grpc == rest' evaluated false  \r\n",
      "   │ └───\u001b[32m✔\u001b[0m delete-seldon-resource                                                                                                                                                                                                                                                                                                                                                                                                                                                                                                                                                                                                                                                                                                                                                                                              delete-seldon-resource-template        seldon-benchmark-process-757645342   3s                                             \r\n",
      "   └─\u001b[36m●\u001b[0m run-benchmark-iteration(3:apiType:grpc,benchmarkCpu:2,concurrency:1,disableOrchestrator:false,duration:30s,image:,limitsCpu:2000Mi,limitsMemory:1000Mi,modelUri:gs://seldon-models/sklearn/iris,name:sklearn-3,params:{\\\"name\\\": \\\"sklearn-3\\\", \\\"replicas\\\": \\\"1\\\", \\\"serverWorkers\\\": \\\"5\\\", \\\"serverThreads\\\": \\\"1\\\", \\\"modelUri\\\": \\\"gs://seldon-models/sklearn/iris\\\", \\\"image\\\": \\\"\\\", \\\"server\\\": \\\"SKLEARN_SERVER\\\", \\\"apiType\\\": \\\"grpc\\\", \\\"requestsCpu\\\": \\\"2000Mi\\\", \\\"requestsMemory\\\": \\\"100Mi\\\", \\\"limitsCpu\\\": \\\"2000Mi\\\", \\\"limitsMemory\\\": \\\"1000Mi\\\", \\\"benchmarkCpu\\\": \\\"2\\\", \\\"concurrency\\\": \\\"1\\\", \\\"duration\\\": \\\"30s\\\", \\\"rate\\\": \\\"0\\\", \\\"disableOrchestrator\\\": \\\"false\\\"},rate:0,replicas:1,requestsCpu:2000Mi,requestsMemory:100Mi,server:SKLEARN_SERVER,serverThreads:1,serverWorkers:5)  run-benchmark-iteration-step-template                                                                                      \r\n",
      "     ├───\u001b[32m✔\u001b[0m create-seldon-resource                                                                                                                                                                                                                                                                                                                                                                                                                                                                                                                                                                                                                                                                                                                                                                                              create-seldon-resource-template        seldon-benchmark-process-1376808213  1s                                             \r\n",
      "     └───\u001b[33m◷\u001b[0m wait-seldon-resource                                                                                                                                                                                                                                                                                                                                                                                                                                                                                                                                                                                                                                                                                                                                                                                                wait-seldon-resource-template          seldon-benchmark-process-3668579423  7s                                             \r\n"
     ]
    }
   ],
   "source": [
    "!argo get seldon-benchmark-process -n argo"
   ]
  },
  {
   "cell_type": "markdown",
   "metadata": {},
   "source": [
    "## Process the results\n",
    "\n",
    "We can now print the results in a consumable format."
   ]
  },
  {
   "cell_type": "markdown",
   "metadata": {},
   "source": [
    "## Deeper Analysis\n",
    "Now that we have all the parameters, we can do a deeper analysis"
   ]
  },
  {
   "cell_type": "code",
   "execution_count": 12,
   "metadata": {},
   "outputs": [
    {
     "data": {
      "text/plain": [
       "True"
      ]
     },
     "execution_count": 12,
     "metadata": {},
     "output_type": "execute_result"
    }
   ],
   "source": []
  },
  {
   "cell_type": "code",
   "execution_count": null,
   "metadata": {},
   "outputs": [],
   "source": [
    "import sys\n",
    "\n",
    "sys.path.append(\"../../../testing/scripts\")\n",
    "import pandas as pd\n",
    "from seldon_e2e_utils import bench_results_from_output_logs\n",
    "\n",
    "results = bench_results_from_output_logs(\"seldon-benchmark-process\", namespace=\"argo\")\n",
    "df = pd.DataFrame.from_dict(results)"
   ]
  },
  {
   "cell_type": "code",
   "execution_count": 16,
   "metadata": {},
   "outputs": [
    {
     "data": {
      "text/html": [
       "<div>\n",
       "<style scoped>\n",
       "    .dataframe tbody tr th:only-of-type {\n",
       "        vertical-align: middle;\n",
       "    }\n",
       "\n",
       "    .dataframe tbody tr th {\n",
       "        vertical-align: top;\n",
       "    }\n",
       "\n",
       "    .dataframe thead th {\n",
       "        text-align: right;\n",
       "    }\n",
       "</style>\n",
       "<table border=\"1\" class=\"dataframe\">\n",
       "  <thead>\n",
       "    <tr style=\"text-align: right;\">\n",
       "      <th></th>\n",
       "      <th>mean</th>\n",
       "      <th>50th</th>\n",
       "      <th>90th</th>\n",
       "      <th>95th</th>\n",
       "      <th>99th</th>\n",
       "      <th>throughputAchieved</th>\n",
       "      <th>success</th>\n",
       "      <th>errors</th>\n",
       "      <th>name</th>\n",
       "      <th>replicas</th>\n",
       "      <th>...</th>\n",
       "      <th>apiType</th>\n",
       "      <th>requestsCpu</th>\n",
       "      <th>requestsMemory</th>\n",
       "      <th>limitsCpu</th>\n",
       "      <th>limitsMemory</th>\n",
       "      <th>benchmarkCpu</th>\n",
       "      <th>concurrency</th>\n",
       "      <th>duration</th>\n",
       "      <th>rate</th>\n",
       "      <th>disableOrchestrator</th>\n",
       "    </tr>\n",
       "  </thead>\n",
       "  <tbody>\n",
       "    <tr>\n",
       "      <th>0</th>\n",
       "      <td>4.573302</td>\n",
       "      <td>4.018635</td>\n",
       "      <td>6.225710</td>\n",
       "      <td>7.480878</td>\n",
       "      <td>13.893386</td>\n",
       "      <td>218.518811</td>\n",
       "      <td>6559</td>\n",
       "      <td>0</td>\n",
       "      <td>sklearn-0</td>\n",
       "      <td>1</td>\n",
       "      <td>...</td>\n",
       "      <td>rest</td>\n",
       "      <td>2000Mi</td>\n",
       "      <td>100Mi</td>\n",
       "      <td>2000Mi</td>\n",
       "      <td>1000Mi</td>\n",
       "      <td>2</td>\n",
       "      <td>1</td>\n",
       "      <td>30s</td>\n",
       "      <td>0</td>\n",
       "      <td>true</td>\n",
       "    </tr>\n",
       "    <tr>\n",
       "      <th>1</th>\n",
       "      <td>4.565145</td>\n",
       "      <td>3.939032</td>\n",
       "      <td>6.785393</td>\n",
       "      <td>7.928704</td>\n",
       "      <td>13.315820</td>\n",
       "      <td>218.892806</td>\n",
       "      <td>6568</td>\n",
       "      <td>0</td>\n",
       "      <td>sklearn-1</td>\n",
       "      <td>1</td>\n",
       "      <td>...</td>\n",
       "      <td>rest</td>\n",
       "      <td>2000Mi</td>\n",
       "      <td>100Mi</td>\n",
       "      <td>2000Mi</td>\n",
       "      <td>1000Mi</td>\n",
       "      <td>2</td>\n",
       "      <td>1</td>\n",
       "      <td>30s</td>\n",
       "      <td>0</td>\n",
       "      <td>false</td>\n",
       "    </tr>\n",
       "    <tr>\n",
       "      <th>2</th>\n",
       "      <td>3.747319</td>\n",
       "      <td>3.212300</td>\n",
       "      <td>5.651600</td>\n",
       "      <td>6.858700</td>\n",
       "      <td>9.191800</td>\n",
       "      <td>258.595746</td>\n",
       "      <td>7757</td>\n",
       "      <td>1</td>\n",
       "      <td>sklearn-2</td>\n",
       "      <td>1</td>\n",
       "      <td>...</td>\n",
       "      <td>grpc</td>\n",
       "      <td>2000Mi</td>\n",
       "      <td>100Mi</td>\n",
       "      <td>2000Mi</td>\n",
       "      <td>1000Mi</td>\n",
       "      <td>2</td>\n",
       "      <td>1</td>\n",
       "      <td>30s</td>\n",
       "      <td>0</td>\n",
       "      <td>true</td>\n",
       "    </tr>\n",
       "    <tr>\n",
       "      <th>3</th>\n",
       "      <td>4.271879</td>\n",
       "      <td>3.855800</td>\n",
       "      <td>6.495800</td>\n",
       "      <td>7.353500</td>\n",
       "      <td>8.980500</td>\n",
       "      <td>226.930063</td>\n",
       "      <td>6807</td>\n",
       "      <td>1</td>\n",
       "      <td>sklearn-3</td>\n",
       "      <td>1</td>\n",
       "      <td>...</td>\n",
       "      <td>grpc</td>\n",
       "      <td>2000Mi</td>\n",
       "      <td>100Mi</td>\n",
       "      <td>2000Mi</td>\n",
       "      <td>1000Mi</td>\n",
       "      <td>2</td>\n",
       "      <td>1</td>\n",
       "      <td>30s</td>\n",
       "      <td>0</td>\n",
       "      <td>false</td>\n",
       "    </tr>\n",
       "  </tbody>\n",
       "</table>\n",
       "<p>4 rows × 25 columns</p>\n",
       "</div>"
      ],
      "text/plain": [
       "       mean      50th      90th      95th       99th  throughputAchieved  \\\n",
       "0  4.573302  4.018635  6.225710  7.480878  13.893386          218.518811   \n",
       "1  4.565145  3.939032  6.785393  7.928704  13.315820          218.892806   \n",
       "2  3.747319  3.212300  5.651600  6.858700   9.191800          258.595746   \n",
       "3  4.271879  3.855800  6.495800  7.353500   8.980500          226.930063   \n",
       "\n",
       "   success  errors       name replicas  ... apiType requestsCpu  \\\n",
       "0     6559       0  sklearn-0        1  ...    rest      2000Mi   \n",
       "1     6568       0  sklearn-1        1  ...    rest      2000Mi   \n",
       "2     7757       1  sklearn-2        1  ...    grpc      2000Mi   \n",
       "3     6807       1  sklearn-3        1  ...    grpc      2000Mi   \n",
       "\n",
       "  requestsMemory limitsCpu limitsMemory benchmarkCpu concurrency duration  \\\n",
       "0          100Mi    2000Mi       1000Mi            2           1      30s   \n",
       "1          100Mi    2000Mi       1000Mi            2           1      30s   \n",
       "2          100Mi    2000Mi       1000Mi            2           1      30s   \n",
       "3          100Mi    2000Mi       1000Mi            2           1      30s   \n",
       "\n",
       "  rate disableOrchestrator  \n",
       "0    0                true  \n",
       "1    0               false  \n",
       "2    0                true  \n",
       "3    0               false  \n",
       "\n",
       "[4 rows x 25 columns]"
      ]
     },
     "execution_count": 16,
     "metadata": {},
     "output_type": "execute_result"
    }
   ],
   "source": [
    "df.head()"
   ]
  },
  {
   "cell_type": "code",
   "execution_count": 51,
   "metadata": {},
   "outputs": [
    {
     "name": "stdout",
     "output_type": "stream",
     "text": [
      "Workflow 'seldon-benchmark-process' deleted\r\n"
     ]
    }
   ],
   "source": [
    "!argo delete seldon-benchmark-process -n argo || echo \"Argo workflow already deleted or not exists\""
   ]
  },
  {
   "cell_type": "code",
   "execution_count": null,
   "metadata": {},
   "outputs": [],
   "source": []
  }
 ],
 "metadata": {
  "kernelspec": {
   "display_name": "Python 3 (ipykernel)",
   "language": "python",
   "name": "python3"
  },
  "language_info": {
   "codemirror_mode": {
    "name": "ipython",
    "version": 3
   },
   "file_extension": ".py",
   "mimetype": "text/x-python",
   "name": "python",
   "nbconvert_exporter": "python",
   "pygments_lexer": "ipython3",
   "version": "3.7.10"
  }
 },
 "nbformat": 4,
 "nbformat_minor": 2
}
