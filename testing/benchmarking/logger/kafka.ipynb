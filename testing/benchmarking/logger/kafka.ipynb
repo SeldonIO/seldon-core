{
 "cells": [
  {
   "cell_type": "markdown",
   "metadata": {},
   "source": [
    "# Kafka Request Logging Tests\n",
    "\n",
    "This notebook illustrates testing your model with Kafka payload logging.\n",
    "\n",
    "## Prequisites\n",
    "\n",
    " * An authenticated K8S cluster with istio and Seldon Core installed\n",
    "   * You can use the ansible seldon-core and kafka playbooks in the root ansible folder.\n",
    " * vegeta and ghz benchmarking tools\n",
    " \n",
    " Port forward to istio\n",
    " \n",
    " ```\n",
    " kubectl port-forward $(kubectl get pods -l istio=ingressgateway -n istio-system -o jsonpath='{.items[0].metadata.name}') -n istio-system 8003:8080\n",
    " ```\n",
    " \n",
    "  * Tested on GKE with 6 nodes of 32vCPU  e2-standard-32 \n"
   ]
  },
  {
   "cell_type": "code",
   "execution_count": null,
   "metadata": {},
   "outputs": [],
   "source": [
    "from IPython.core.magic import register_line_cell_magic\n",
    "\n",
    "\n",
    "@register_line_cell_magic\n",
    "def writetemplate(line, cell):\n",
    "    with open(line, \"w\") as f:\n",
    "        f.write(cell.format(**globals()))"
   ]
  },
  {
   "cell_type": "code",
   "execution_count": null,
   "metadata": {},
   "outputs": [],
   "source": [
    "VERSION = !cat ../../../version.txt\n",
    "VERSION = VERSION[0]\n",
    "VERSION"
   ]
  },
  {
   "cell_type": "code",
   "execution_count": null,
   "metadata": {},
   "outputs": [],
   "source": [
    "!kubectl create namespace seldon"
   ]
  },
  {
   "cell_type": "markdown",
   "metadata": {},
   "source": [
    "## CIFAR10 Model running on Triton Inference Server\n",
    "\n",
    "We run CIFAR10 image model on Triton inference server with settings to allow 5 CPUs to be used for model on Triton."
   ]
  },
  {
   "cell_type": "code",
   "execution_count": null,
   "metadata": {},
   "outputs": [],
   "source": [
    "%%writetemplate model.yaml\n",
    "apiVersion: machinelearning.seldon.io/v1\n",
    "kind: SeldonDeployment\n",
    "metadata:\n",
    "  name: cifar10\n",
    "  namespace: seldon\n",
    "spec:\n",
    "  name: resnet32\n",
    "  predictors:\n",
    "  - componentSpecs:\n",
    "    - spec:\n",
    "        containers:\n",
    "        - name: cifar10\n",
    "          resources:\n",
    "            requests:\n",
    "              cpu: 5\n",
    "            limits:\n",
    "              cpu: 5\n",
    "    graph:\n",
    "      implementation: TRITON_SERVER\n",
    "      logger:\n",
    "        mode: all\n",
    "      modelUri: gs://seldon-models/triton/tf_cifar10_5cpu\n",
    "      name: cifar10\n",
    "    name: default\n",
    "    svcOrchSpec:\n",
    "      env:\n",
    "      - name: LOGGER_KAFKA_BROKER\n",
    "        value: seldon-kafka-plain-0.kafka:9092\n",
    "      - name: LOGGER_KAFKA_TOPIC\n",
    "        value: seldon\n",
    "      - name: GOMAXPROCS\n",
    "        value: \"2\"\n",
    "      resources:\n",
    "        requests:\n",
    "          memory: \"3G\"\n",
    "          cpu: 2\n",
    "        limits:\n",
    "          memory: \"3G\"\n",
    "          cpu: 2\n",
    "    replicas: 15\n",
    "  protocol: kfserving"
   ]
  },
  {
   "cell_type": "code",
   "execution_count": null,
   "metadata": {},
   "outputs": [],
   "source": [
    "!kubectl apply -f model.yaml -n seldon"
   ]
  },
  {
   "cell_type": "code",
   "execution_count": null,
   "metadata": {},
   "outputs": [],
   "source": [
    "!kubectl wait --for condition=ready --timeout=600s pods --all -n seldon"
   ]
  },
  {
   "cell_type": "code",
   "execution_count": null,
   "metadata": {},
   "outputs": [],
   "source": [
    "!curl -X POST -H 'Content-Type: application/json' \\\n",
    "   -d '@./truck-v2.json' \\\n",
    "    http://localhost:8003/seldon/seldon/cifar10/v2/models/cifar10/infer"
   ]
  },
  {
   "cell_type": "markdown",
   "metadata": {},
   "source": [
    "## Direct Tests to Validate Setup\n"
   ]
  },
  {
   "cell_type": "code",
   "execution_count": null,
   "metadata": {},
   "outputs": [],
   "source": [
    "%%bash\n",
    "vegeta attack -format=json -duration=10s -rate=0 -max-workers=1 -targets=vegeta_cifar10.json | \n",
    "  vegeta report -type=text"
   ]
  },
  {
   "cell_type": "markdown",
   "metadata": {},
   "source": [
    "## Run Vegeta Benchmark\n"
   ]
  },
  {
   "cell_type": "code",
   "execution_count": null,
   "metadata": {},
   "outputs": [],
   "source": [
    "!kubectl create -f configmap_cifar10.yaml -n seldon"
   ]
  },
  {
   "cell_type": "code",
   "execution_count": null,
   "metadata": {},
   "outputs": [],
   "source": [
    "workers = 10\n",
    "duration = \"300s\""
   ]
  },
  {
   "cell_type": "code",
   "execution_count": null,
   "metadata": {},
   "outputs": [],
   "source": [
    "%%writetemplate job-vegeta-cifar10.yaml\n",
    "apiVersion: batch/v1\n",
    "kind: Job\n",
    "metadata:\n",
    "  name: cifar10-loadtest\n",
    "spec:\n",
    "  backoffLimit: 6\n",
    "  parallelism: 16\n",
    "  template:\n",
    "    metadata:\n",
    "      annotations:\n",
    "        sidecar.istio.io/inject: \"false\"\n",
    "    spec:\n",
    "      containers:\n",
    "        - args:\n",
    "            - vegeta -cpus=1 attack -format=json -keepalive=false -duration={duration} -rate=0 -max-workers={workers} -targets=/var/vegeta/cifar10.json\n",
    "              | vegeta report -type=text\n",
    "          command:\n",
    "            - sh\n",
    "            - -c\n",
    "          image: peterevans/vegeta:latest\n",
    "          imagePullPolicy: Always\n",
    "          name: vegeta\n",
    "          volumeMounts:\n",
    "            - mountPath: /var/vegeta\n",
    "              name: vegeta-cfg\n",
    "      restartPolicy: Never\n",
    "      volumes:\n",
    "        - configMap:\n",
    "            defaultMode: 420\n",
    "            name: vegeta-cfg\n",
    "          name: vegeta-cfg\n"
   ]
  },
  {
   "cell_type": "code",
   "execution_count": null,
   "metadata": {},
   "outputs": [],
   "source": [
    "!kubectl create -f job-vegeta-cifar10.yaml -n seldon"
   ]
  },
  {
   "cell_type": "code",
   "execution_count": null,
   "metadata": {},
   "outputs": [],
   "source": [
    "!kubectl wait --for=condition=complete job/cifar10-loadtest -n seldon"
   ]
  },
  {
   "cell_type": "code",
   "execution_count": null,
   "metadata": {},
   "outputs": [],
   "source": [
    "!kubectl delete -f job-vegeta-cifar10.yaml -n seldon"
   ]
  },
  {
   "cell_type": "code",
   "execution_count": null,
   "metadata": {},
   "outputs": [],
   "source": [
    "!kubectl delete -f model.yaml"
   ]
  },
  {
   "cell_type": "markdown",
   "metadata": {},
   "source": [
    "## Summary\n",
    "\n",
    "By looking at the Kafka Grafana monitoring on e can inspect the achieved message rate.\n",
    "\n",
    "You can port-forward to it with:\n",
    "\n",
    "```\n",
    "kubectl port-forward svc/kafka-grafana -n kafka 3000:80\n",
    "```\n",
    "\n",
    "The default login and password is set to `admin`.\n",
    "\n",
    "On the above deployment and test we see around 3K predictions per second resulting in 6K Kafka messages per second."
   ]
  },
  {
   "cell_type": "code",
   "execution_count": null,
   "metadata": {},
   "outputs": [],
   "source": []
  }
 ],
 "metadata": {
  "kernelspec": {
   "display_name": "Python 3 (ipykernel)",
   "language": "python",
   "name": "python3"
  },
  "language_info": {
   "codemirror_mode": {
    "name": "ipython",
    "version": 3
   },
   "file_extension": ".py",
   "mimetype": "text/x-python",
   "name": "python",
   "nbconvert_exporter": "python",
   "pygments_lexer": "ipython3",
   "version": "3.7.10"
  }
 },
 "nbformat": 4,
 "nbformat_minor": 2
}
