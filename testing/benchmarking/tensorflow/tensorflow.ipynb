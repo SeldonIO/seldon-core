{
 "cells": [
  {
   "cell_type": "markdown",
   "metadata": {},
   "source": [
    "# Tensorflow Load and Benchmark Tests\n",
    "\n",
    "Using a pretrained model for [Tensorflow flowers dataset](https://www.tensorflow.org/datasets/catalog/tf_flowers)\n",
    "\n",
    " * Load test the model at fixed rate\n",
    " * Benchmark the model to find maximum throughput and saturation handling\n",
    " \n",
    " ## Setup\n",
    " \n",
    "  * Create a 3 node GCP cluster with n1-standard-8 node\n",
    "  * Install Seldon Core\n",
    "  \n",
    " ## TODO\n",
    " \n",
    "  * gRPC\n",
    "  * Run vegeta on separate node to model servers using affinity/taints"
   ]
  },
  {
   "cell_type": "code",
   "execution_count": 1,
   "metadata": {},
   "outputs": [
    {
     "name": "stdout",
     "output_type": "stream",
     "text": [
      "Error from server (AlreadyExists): namespaces \"seldon\" already exists\r\n"
     ]
    }
   ],
   "source": [
    "!kubectl create namespace seldon"
   ]
  },
  {
   "cell_type": "code",
   "execution_count": 2,
   "metadata": {},
   "outputs": [
    {
     "name": "stdout",
     "output_type": "stream",
     "text": [
      "Context \"do-lon1-k8s-1-16-10-do-0-lon1-1594477430912\" modified.\r\n"
     ]
    }
   ],
   "source": [
    "!kubectl config set-context $(kubectl config current-context) --namespace=seldon"
   ]
  },
  {
   "cell_type": "code",
   "execution_count": 3,
   "metadata": {},
   "outputs": [],
   "source": [
    "import sys\n",
    "sys.path.append('../')\n",
    "from vegeta_utils import *"
   ]
  },
  {
   "cell_type": "markdown",
   "metadata": {},
   "source": [
    "## Put Taint on Nodes"
   ]
  },
  {
   "cell_type": "code",
   "execution_count": 14,
   "metadata": {},
   "outputs": [
    {
     "name": "stdout",
     "output_type": "stream",
     "text": [
      "node/pool-triv8uq93-3oaz0 tainted\n",
      "error: Node pool-triv8uq93-3oaz1 already has model taint(s) with same effect(s) and --overwrite is false\n",
      "error: Node pool-triv8uq93-3oazd already has model taint(s) with same effect(s) and --overwrite is false\n"
     ]
    }
   ],
   "source": [
    "raw=!kubectl get nodes -o jsonpath='{.items[0].metadata.name}'\n",
    "firstNode = raw[0]\n",
    "raw=!kubectl get nodes -o jsonpath='{.items[1].metadata.name}'\n",
    "secondNode = raw[0]\n",
    "raw=!kubectl get nodes -o jsonpath='{.items[2].metadata.name}'\n",
    "thirdNode = raw[0]\n",
    "!kubectl taint nodes '{firstNode}' loadtester=active:NoSchedule\n",
    "!kubectl taint nodes '{secondNode}' model=active:NoSchedule \n",
    "!kubectl taint nodes '{thirdNode}' model=active:NoSchedule     "
   ]
  },
  {
   "cell_type": "markdown",
   "metadata": {},
   "source": [
    "## Benchmark with Saturation Test"
   ]
  },
  {
   "cell_type": "code",
   "execution_count": 5,
   "metadata": {},
   "outputs": [
    {
     "name": "stdout",
     "output_type": "stream",
     "text": [
      "Overwriting tf_flowers.yaml\n"
     ]
    }
   ],
   "source": [
    "%%writefile tf_flowers.yaml\n",
    "apiVersion: machinelearning.seldon.io/v1alpha2\n",
    "kind: SeldonDeployment\n",
    "metadata:\n",
    "  name: tf-flowers\n",
    "spec:\n",
    "  protocol: tensorflow\n",
    "  transport: rest\n",
    "  predictors:\n",
    "  - graph:\n",
    "      implementation: TENSORFLOW_SERVER\n",
    "      modelUri: gs://kfserving-samples/models/tensorflow/flowers\n",
    "      name:  flowers\n",
    "      parameters:\n",
    "        - name: model_name\n",
    "          type: STRING\n",
    "          value: flowers\n",
    "    componentSpecs:\n",
    "    - spec:\n",
    "        containers:\n",
    "        - name: flowers\n",
    "          resources:\n",
    "            requests:\n",
    "              cpu: '2'\n",
    "        tolerations:\n",
    "        - key: model\n",
    "          operator: Exists\n",
    "          effect: NoSchedule\n",
    "    name: default\n",
    "    replicas: 1"
   ]
  },
  {
   "cell_type": "code",
   "execution_count": 6,
   "metadata": {
    "scrolled": false
   },
   "outputs": [
    {
     "name": "stdout",
     "output_type": "stream",
     "text": [
      "Available with 1 pods\n"
     ]
    }
   ],
   "source": [
    "run_model(\"tf_flowers.yaml\")"
   ]
  },
  {
   "cell_type": "markdown",
   "metadata": {},
   "source": [
    "Run test to gather the max throughput of the model"
   ]
  },
  {
   "cell_type": "code",
   "execution_count": 7,
   "metadata": {
    "scrolled": true
   },
   "outputs": [
    {
     "name": "stdout",
     "output_type": "stream",
     "text": [
      "{\n",
      "    \"latencies\": {\n",
      "        \"total\": 18194676761380,\n",
      "        \"mean\": 4069487085,\n",
      "        \"50th\": 3865217401,\n",
      "        \"90th\": 5285272466,\n",
      "        \"95th\": 5768188708,\n",
      "        \"99th\": 6667031940,\n",
      "        \"max\": 7656080367,\n",
      "        \"min\": 970003451\n",
      "    },\n",
      "    \"bytes_in\": {\n",
      "        \"total\": 974678,\n",
      "        \"mean\": 218\n",
      "    },\n",
      "    \"bytes_out\": {\n",
      "        \"total\": 72318425,\n",
      "        \"mean\": 16175\n",
      "    },\n",
      "    \"earliest\": \"2020-07-13T09:38:48.517793327Z\",\n",
      "    \"latest\": \"2020-07-13T09:41:48.535299333Z\",\n",
      "    \"end\": \"2020-07-13T09:41:52.165570518Z\",\n",
      "    \"duration\": 180017506006,\n",
      "    \"wait\": 3630271185,\n",
      "    \"requests\": 4471,\n",
      "    \"rate\": 24.836473403042152,\n",
      "    \"throughput\": 24.34551655558568,\n",
      "    \"success\": 1,\n",
      "    \"status_codes\": {\n",
      "        \"200\": 4471\n",
      "    },\n",
      "    \"errors\": []\n",
      "}\n"
     ]
    }
   ],
   "source": [
    "results = run_vegeta_test(\"tf_vegeta_cfg.yaml\",\"vegeta_max.yaml\",\"11m\")\n",
    "print(json.dumps(results, indent=4))\n",
    "saturation_throughput=int(results[\"throughput\"])"
   ]
  },
  {
   "cell_type": "code",
   "execution_count": 8,
   "metadata": {},
   "outputs": [
    {
     "name": "stdout",
     "output_type": "stream",
     "text": [
      "Max Throughtput= 24\n"
     ]
    }
   ],
   "source": [
    "print(\"Max Throughtput=\",saturation_throughput)"
   ]
  },
  {
   "cell_type": "markdown",
   "metadata": {},
   "source": [
    "## Load Tests with HPA\n",
    "\n",
    "Run with an HPA at saturation rate to check:\n",
    "  * Latencies affected by scaling\n"
   ]
  },
  {
   "cell_type": "code",
   "execution_count": 9,
   "metadata": {},
   "outputs": [
    {
     "name": "stdout",
     "output_type": "stream",
     "text": [
      "Overwriting tf_flowers.yaml\n"
     ]
    }
   ],
   "source": [
    "%%writefile tf_flowers.yaml\n",
    "apiVersion: machinelearning.seldon.io/v1alpha2\n",
    "kind: SeldonDeployment\n",
    "metadata:\n",
    "  name: tf-flowers\n",
    "spec:\n",
    "  protocol: tensorflow\n",
    "  transport: rest\n",
    "  predictors:\n",
    "  - graph:\n",
    "      implementation: TENSORFLOW_SERVER\n",
    "      modelUri: gs://kfserving-samples/models/tensorflow/flowers\n",
    "      name:  flowers\n",
    "      parameters:\n",
    "        - name: model_name\n",
    "          type: STRING\n",
    "          value: flowers\n",
    "    componentSpecs:\n",
    "    - hpaSpec:\n",
    "        minReplicas: 1\n",
    "        maxReplicas: 5\n",
    "        metrics:\n",
    "        - resource:\n",
    "            name: cpu\n",
    "            targetAverageUtilization: 70\n",
    "          type: Resource\n",
    "      spec:\n",
    "        containers:\n",
    "        - name: flowers\n",
    "          resources:\n",
    "            requests:\n",
    "              cpu: '1'\n",
    "          livenessProbe:\n",
    "            failureThreshold: 3\n",
    "            initialDelaySeconds: 60\n",
    "            periodSeconds: 5\n",
    "            successThreshold: 1\n",
    "            tcpSocket:\n",
    "              port: http\n",
    "            timeoutSeconds: 5\n",
    "          readinessProbe:\n",
    "            failureThreshold: 3\n",
    "            initialDelaySeconds: 20\n",
    "            periodSeconds: 5\n",
    "            successThreshold: 1\n",
    "            tcpSocket:\n",
    "              port: http\n",
    "            timeoutSeconds: 5\n",
    "        tolerations:\n",
    "        - key: model\n",
    "          operator: Exists\n",
    "          effect: NoSchedule\n",
    "    name: default\n",
    "    replicas: 1"
   ]
  },
  {
   "cell_type": "code",
   "execution_count": 10,
   "metadata": {
    "scrolled": true
   },
   "outputs": [
    {
     "name": "stdout",
     "output_type": "stream",
     "text": [
      "Available with 1 pods\n"
     ]
    }
   ],
   "source": [
    "run_model(\"tf_flowers.yaml\")"
   ]
  },
  {
   "cell_type": "code",
   "execution_count": 11,
   "metadata": {},
   "outputs": [
    {
     "name": "stdout",
     "output_type": "stream",
     "text": [
      "env: DURATION=10m\n",
      "env: RATE=24/1s\n",
      "apiVersion: batch/v1\n",
      "kind: Job\n",
      "metadata:\n",
      "  name: tf-load-test\n",
      "spec:\n",
      "  backoffLimit: 6\n",
      "  parallelism: 1\n",
      "  template:\n",
      "    metadata:\n",
      "      annotations:\n",
      "        sidecar.istio.io/inject: \"false\"\n",
      "    spec:\n",
      "      containers:\n",
      "        - args:\n",
      "            - vegeta -cpus=4 attack -keepalive=false -duration=10m -rate=24/1s -targets=/var/vegeta/cfg\n",
      "              | vegeta report -type=json\n",
      "          command:\n",
      "            - sh\n",
      "            - -c\n",
      "          image: peterevans/vegeta:latest\n",
      "          imagePullPolicy: Always\n",
      "          name: vegeta\n",
      "          volumeMounts:\n",
      "            - mountPath: /var/vegeta\n",
      "              name: tf-vegeta-cfg\n",
      "      restartPolicy: Never\n",
      "      volumes:\n",
      "        - configMap:\n",
      "            defaultMode: 420\n",
      "            name: tf-vegeta-cfg\n",
      "          name: tf-vegeta-cfg\n",
      "      tolerations:\n",
      "      - key: loadtester\n",
      "        operator: Exists\n",
      "        effect: NoSchedule\n"
     ]
    }
   ],
   "source": [
    "rate=saturation_throughput\n",
    "duration=\"10m\"\n",
    "%env DURATION=$duration\n",
    "%env RATE=$rate/1s\n",
    "!cat vegeta_cfg.tmpl.yaml | envsubst > vegeta.tmp.yaml\n",
    "!cat vegeta.tmp.yaml"
   ]
  },
  {
   "cell_type": "code",
   "execution_count": 15,
   "metadata": {
    "scrolled": true
   },
   "outputs": [
    {
     "name": "stdout",
     "output_type": "stream",
     "text": [
      "{\n",
      "    \"latencies\": {\n",
      "        \"total\": 3743859444532,\n",
      "        \"mean\": 259990239,\n",
      "        \"50th\": 131917169,\n",
      "        \"90th\": 310053255,\n",
      "        \"95th\": 916684759,\n",
      "        \"99th\": 2775052710,\n",
      "        \"max\": 7645706522,\n",
      "        \"min\": 61953433\n",
      "    },\n",
      "    \"bytes_in\": {\n",
      "        \"total\": 3139200,\n",
      "        \"mean\": 218\n",
      "    },\n",
      "    \"bytes_out\": {\n",
      "        \"total\": 232920000,\n",
      "        \"mean\": 16175\n",
      "    },\n",
      "    \"earliest\": \"2020-07-13T09:57:01.982849851Z\",\n",
      "    \"latest\": \"2020-07-13T10:07:01.94120089Z\",\n",
      "    \"end\": \"2020-07-13T10:07:02.043547541Z\",\n",
      "    \"duration\": 599958351039,\n",
      "    \"wait\": 102346651,\n",
      "    \"requests\": 14400,\n",
      "    \"rate\": 24.001666074090423,\n",
      "    \"throughput\": 23.997572337989126,\n",
      "    \"success\": 1,\n",
      "    \"status_codes\": {\n",
      "        \"200\": 14400\n",
      "    },\n",
      "    \"errors\": []\n",
      "}\n"
     ]
    }
   ],
   "source": [
    "results = run_vegeta_test(\"tf_vegeta_cfg.yaml\",\"vegeta.tmp.yaml\",\"11m\")\n",
    "print(json.dumps(results, indent=4))"
   ]
  },
  {
   "cell_type": "code",
   "execution_count": 17,
   "metadata": {},
   "outputs": [
    {
     "name": "stdout",
     "output_type": "stream",
     "text": [
      "Latencies:\n",
      "\tmean: 259.990239 ms\n",
      "\t50th: 131.917169 ms\n",
      "\t90th: 310.053255 ms\n",
      "\t95th: 916.684759 ms\n",
      "\t99th: 2775.05271 ms\n",
      "\n",
      "Throughput: 23.997572337989126/s\n",
      "Errors: False\n"
     ]
    }
   ],
   "source": [
    "print_vegeta_results(results)"
   ]
  },
  {
   "cell_type": "code",
   "execution_count": null,
   "metadata": {},
   "outputs": [],
   "source": []
  }
 ],
 "metadata": {
  "kernelspec": {
   "display_name": "Python 3",
   "language": "python",
   "name": "python3"
  },
  "language_info": {
   "codemirror_mode": {
    "name": "ipython",
    "version": 3
   },
   "file_extension": ".py",
   "mimetype": "text/x-python",
   "name": "python",
   "nbconvert_exporter": "python",
   "pygments_lexer": "ipython3",
   "version": "3.6.8"
  }
 },
 "nbformat": 4,
 "nbformat_minor": 2
}
