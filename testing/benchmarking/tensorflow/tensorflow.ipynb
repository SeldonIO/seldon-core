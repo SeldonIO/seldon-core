{
 "cells": [
  {
   "cell_type": "markdown",
   "metadata": {},
   "source": [
    "# Tensorflow Load and Benchmark Tests\n",
    "\n",
    "Using a pretrained model for [Tensorflow flowers dataset](https://www.tensorflow.org/datasets/catalog/tf_flowers)\n",
    "\n",
    " * Load test the model at fixed rate\n",
    " * Benchmark the model to find maximum throughput and saturation handling\n",
    " \n",
    " ## Setup\n",
    " \n",
    "  * Create a 3 node GCP cluster with n1-standard-8 node\n",
    "  * Install Seldon Core\n",
    "  \n",
    " ## TODO\n",
    " \n",
    "  * gRPC\n",
    "  * Run vegeta on separate node to model servers using affinity/taints"
   ]
  },
  {
   "cell_type": "code",
   "execution_count": 1,
   "metadata": {},
   "outputs": [
    {
     "name": "stdout",
     "output_type": "stream",
     "text": [
      "Error from server (AlreadyExists): namespaces \"seldon\" already exists\r\n"
     ]
    }
   ],
   "source": [
    "!kubectl create namespace seldon"
   ]
  },
  {
   "cell_type": "code",
   "execution_count": 2,
   "metadata": {},
   "outputs": [
    {
     "name": "stdout",
     "output_type": "stream",
     "text": [
      "Context \"gke_seldon-demos_europe-west2-b_loadtest\" modified.\r\n"
     ]
    }
   ],
   "source": [
    "!kubectl config set-context $(kubectl config current-context) --namespace=seldon"
   ]
  },
  {
   "cell_type": "code",
   "execution_count": 4,
   "metadata": {},
   "outputs": [],
   "source": [
    "import sys\n",
    "sys.path.append('../')\n",
    "from vegeta_utils import *"
   ]
  },
  {
   "cell_type": "markdown",
   "metadata": {},
   "source": [
    "## Benchmark with Saturation Test"
   ]
  },
  {
   "cell_type": "code",
   "execution_count": 5,
   "metadata": {},
   "outputs": [
    {
     "name": "stdout",
     "output_type": "stream",
     "text": [
      "Overwriting tf_flowers.yaml\n"
     ]
    }
   ],
   "source": [
    "%%writefile tf_flowers.yaml\n",
    "apiVersion: machinelearning.seldon.io/v1alpha2\n",
    "kind: SeldonDeployment\n",
    "metadata:\n",
    "  name: tf-flowers\n",
    "spec:\n",
    "  protocol: tensorflow\n",
    "  transport: rest\n",
    "  predictors:\n",
    "  - graph:\n",
    "      implementation: TENSORFLOW_SERVER\n",
    "      modelUri: gs://kfserving-samples/models/tensorflow/flowers\n",
    "      name:  flowers\n",
    "      parameters:\n",
    "        - name: model_name\n",
    "          type: STRING\n",
    "          value: flowers\n",
    "    componentSpecs:\n",
    "    - spec:\n",
    "        containers:\n",
    "        - name: flowers\n",
    "          resources:\n",
    "            requests:\n",
    "              cpu: '2'\n",
    "    name: default\n",
    "    replicas: 1"
   ]
  },
  {
   "cell_type": "code",
   "execution_count": 6,
   "metadata": {
    "scrolled": false
   },
   "outputs": [],
   "source": [
    "run_model(\"tf_flowers.yaml\")"
   ]
  },
  {
   "cell_type": "markdown",
   "metadata": {},
   "source": [
    "Run test to gather the max throughput of the model"
   ]
  },
  {
   "cell_type": "code",
   "execution_count": 7,
   "metadata": {
    "scrolled": true
   },
   "outputs": [
    {
     "name": "stdout",
     "output_type": "stream",
     "text": [
      "{\n",
      "    \"latencies\": {\n",
      "        \"total\": 18288021903509,\n",
      "        \"mean\": 5842818499,\n",
      "        \"50th\": 5514724729,\n",
      "        \"90th\": 7604202154,\n",
      "        \"95th\": 8413391930,\n",
      "        \"99th\": 10730548917,\n",
      "        \"max\": 14035522987,\n",
      "        \"min\": 928993664\n",
      "    },\n",
      "    \"bytes_in\": {\n",
      "        \"total\": 682340,\n",
      "        \"mean\": 218\n",
      "    },\n",
      "    \"bytes_out\": {\n",
      "        \"total\": 50627750,\n",
      "        \"mean\": 16175\n",
      "    },\n",
      "    \"earliest\": \"2020-07-09T12:52:58.723093584Z\",\n",
      "    \"latest\": \"2020-07-09T12:55:58.804550443Z\",\n",
      "    \"end\": \"2020-07-09T12:56:04.265767959Z\",\n",
      "    \"duration\": 180081456859,\n",
      "    \"wait\": 5461217516,\n",
      "    \"requests\": 3130,\n",
      "    \"rate\": 17.38102331352597,\n",
      "    \"throughput\": 16.869434541371124,\n",
      "    \"success\": 1,\n",
      "    \"status_codes\": {\n",
      "        \"200\": 3130\n",
      "    },\n",
      "    \"errors\": []\n",
      "}\n",
      "Max Throughtput= 16\n"
     ]
    }
   ],
   "source": [
    "results = run_test(\"tf_vegeta_cfg.yaml\",\"vegeta_max.yaml\",\"11m\")\n",
    "print(json.dumps(results, indent=4))\n",
    "saturation_throughput=int(results[\"throughput\"])"
   ]
  },
  {
   "cell_type": "code",
   "execution_count": 8,
   "metadata": {},
   "outputs": [
    {
     "name": "stdout",
     "output_type": "stream",
     "text": [
      "Max Throughtput= 16\n"
     ]
    }
   ],
   "source": [
    "print(\"Max Throughtput=\",saturation_throughput)"
   ]
  },
  {
   "cell_type": "markdown",
   "metadata": {},
   "source": [
    "## Load Tests with HPA\n",
    "\n",
    "Run with an HPA at saturation rate to check:\n",
    "  * Latencies affected by scaling\n"
   ]
  },
  {
   "cell_type": "code",
   "execution_count": 11,
   "metadata": {},
   "outputs": [
    {
     "name": "stdout",
     "output_type": "stream",
     "text": [
      "Overwriting tf_flowers.yaml\n"
     ]
    }
   ],
   "source": [
    "%%writefile tf_flowers.yaml\n",
    "apiVersion: machinelearning.seldon.io/v1alpha2\n",
    "kind: SeldonDeployment\n",
    "metadata:\n",
    "  name: tf-flowers\n",
    "spec:\n",
    "  protocol: tensorflow\n",
    "  transport: rest\n",
    "  predictors:\n",
    "  - graph:\n",
    "      implementation: TENSORFLOW_SERVER\n",
    "      modelUri: gs://kfserving-samples/models/tensorflow/flowers\n",
    "      name:  flowers\n",
    "      parameters:\n",
    "        - name: model_name\n",
    "          type: STRING\n",
    "          value: flowers\n",
    "    componentSpecs:\n",
    "    - hpaSpec:\n",
    "        minReplicas: 1\n",
    "        maxReplicas: 5\n",
    "        metrics:\n",
    "        - resource:\n",
    "            name: cpu\n",
    "            targetAverageUtilization: 70\n",
    "          type: Resource\n",
    "      spec:\n",
    "        containers:\n",
    "        - name: flowers\n",
    "          resources:\n",
    "            requests:\n",
    "              cpu: '1'\n",
    "          livenessProbe:\n",
    "            failureThreshold: 3\n",
    "            initialDelaySeconds: 60\n",
    "            periodSeconds: 5\n",
    "            successThreshold: 1\n",
    "            tcpSocket:\n",
    "              port: http\n",
    "            timeoutSeconds: 5\n",
    "          readinessProbe:\n",
    "            failureThreshold: 3\n",
    "            initialDelaySeconds: 20\n",
    "            periodSeconds: 5\n",
    "            successThreshold: 1\n",
    "            tcpSocket:\n",
    "              port: http\n",
    "            timeoutSeconds: 5\n",
    "    name: default\n",
    "    replicas: 1"
   ]
  },
  {
   "cell_type": "code",
   "execution_count": 12,
   "metadata": {
    "scrolled": true
   },
   "outputs": [],
   "source": [
    "run_model(\"tf_flowers.yaml\")"
   ]
  },
  {
   "cell_type": "code",
   "execution_count": 7,
   "metadata": {},
   "outputs": [
    {
     "name": "stdout",
     "output_type": "stream",
     "text": [
      "env: DURATION=10m\n",
      "env: RATE=18/1s\n",
      "apiVersion: batch/v1\n",
      "kind: Job\n",
      "metadata:\n",
      "  name: tf-load-test\n",
      "spec:\n",
      "  backoffLimit: 6\n",
      "  parallelism: 1\n",
      "  template:\n",
      "    metadata:\n",
      "      annotations:\n",
      "        sidecar.istio.io/inject: \"false\"\n",
      "    spec:\n",
      "      containers:\n",
      "        - args:\n",
      "            - vegeta -cpus=4 attack -keepalive=false -duration=10m -rate=18/1s -targets=/var/vegeta/cfg\n",
      "              | vegeta report -type=json\n",
      "          command:\n",
      "            - sh\n",
      "            - -c\n",
      "          image: peterevans/vegeta:latest\n",
      "          imagePullPolicy: Always\n",
      "          name: vegeta\n",
      "          volumeMounts:\n",
      "            - mountPath: /var/vegeta\n",
      "              name: tf-vegeta-cfg\n",
      "      restartPolicy: Never\n",
      "      volumes:\n",
      "        - configMap:\n",
      "            defaultMode: 420\n",
      "            name: tf-vegeta-cfg\n",
      "          name: tf-vegeta-cfg\n"
     ]
    }
   ],
   "source": [
    "rate=saturation_throughput\n",
    "duration=\"10m\"\n",
    "%env DURATION=$duration\n",
    "%env RATE=$rate/1s\n",
    "!cat vegeta_cfg.tmpl.yaml | envsubst > vegeta.tmp.yaml\n",
    "!cat vegeta.tmp.yaml"
   ]
  },
  {
   "cell_type": "code",
   "execution_count": 8,
   "metadata": {
    "scrolled": true
   },
   "outputs": [
    {
     "name": "stdout",
     "output_type": "stream",
     "text": [
      "{\n",
      "    \"latencies\": {\n",
      "        \"total\": 6235317971355,\n",
      "        \"mean\": 577344256,\n",
      "        \"50th\": 114263582,\n",
      "        \"90th\": 1927105619,\n",
      "        \"95th\": 4408763192,\n",
      "        \"99th\": 6560764472,\n",
      "        \"max\": 11078287773,\n",
      "        \"min\": 80305724\n",
      "    },\n",
      "    \"bytes_in\": {\n",
      "        \"total\": 2354400,\n",
      "        \"mean\": 218\n",
      "    },\n",
      "    \"bytes_out\": {\n",
      "        \"total\": 174690000,\n",
      "        \"mean\": 16175\n",
      "    },\n",
      "    \"earliest\": \"2020-07-09T07:01:17.395810851Z\",\n",
      "    \"latest\": \"2020-07-09T07:11:17.340159956Z\",\n",
      "    \"end\": \"2020-07-09T07:11:17.475663766Z\",\n",
      "    \"duration\": 599944349105,\n",
      "    \"wait\": 135503810,\n",
      "    \"requests\": 10800,\n",
      "    \"rate\": 18.00166968171547,\n",
      "    \"throughput\": 17.99760473133198,\n",
      "    \"success\": 1,\n",
      "    \"status_codes\": {\n",
      "        \"200\": 10800\n",
      "    },\n",
      "    \"errors\": []\n",
      "}\n"
     ]
    }
   ],
   "source": [
    "results = run_test(\"tf_vegeta_cfg.yaml\",\"vegeta.tmp.yaml\",\"11m\")\n",
    "print(json.dumps(results, indent=4))"
   ]
  },
  {
   "cell_type": "code",
   "execution_count": 9,
   "metadata": {},
   "outputs": [
    {
     "name": "stdout",
     "output_type": "stream",
     "text": [
      "Latencies:\n",
      "\tmean: 577.344256 ms\n",
      "\t50th: 114.263582 ms\n",
      "\t90th: 1927.105619 ms\n",
      "\t95th: 4408.763192 ms\n",
      "\t99th: 6560.764472 ms\n",
      "\n",
      "Throughput: 17.99760473133198/s\n",
      "Errors: False\n"
     ]
    }
   ],
   "source": [
    "print_results(results)"
   ]
  }
 ],
 "metadata": {
  "kernelspec": {
   "display_name": "Python 3",
   "language": "python",
   "name": "python3"
  },
  "language_info": {
   "codemirror_mode": {
    "name": "ipython",
    "version": 3
   },
   "file_extension": ".py",
   "mimetype": "text/x-python",
   "name": "python",
   "nbconvert_exporter": "python",
   "pygments_lexer": "ipython3",
   "version": "3.6.8"
  }
 },
 "nbformat": 4,
 "nbformat_minor": 2
}
