{
 "cells": [
  {
   "cell_type": "markdown",
   "metadata": {},
   "source": [
    "# Create Test CIFAR10 Dataset for Kafka\n",
    "\n",
    " * Create a set of tensorflow REST requests\n",
    " * Create a set of tensorflow proto requests\n",
    "    * The binary proto file will begin each request with the number of bytes in a 4-byte field as proto messages are not self delimiting.\n",
    "    "
   ]
  },
  {
   "cell_type": "code",
   "execution_count": 34,
   "metadata": {},
   "outputs": [],
   "source": [
    "import tensorflow as tf\n",
    "from tensorflow_serving.apis import prediction_service_pb2_grpc, predict_pb2\n",
    "import grpc\n",
    "import json"
   ]
  },
  {
   "cell_type": "markdown",
   "metadata": {},
   "source": [
    "Load CIFAR10 Data"
   ]
  },
  {
   "cell_type": "code",
   "execution_count": 33,
   "metadata": {},
   "outputs": [],
   "source": [
    "(X_train, y_train), (X_test, y_test) = tf.keras.datasets.cifar10.load_data()\n",
    "X_train = X_train.astype('float32') / 255\n",
    "X_test = X_test.astype('float32') / 255\n",
    "y_train = y_train.astype('int64').reshape(-1,)\n",
    "y_test = y_test.astype('int64').reshape(-1,)"
   ]
  },
  {
   "cell_type": "markdown",
   "metadata": {},
   "source": [
    "Save Tensorflow REST requests into a file"
   ]
  },
  {
   "cell_type": "code",
   "execution_count": 35,
   "metadata": {},
   "outputs": [],
   "source": [
    "with open(\"cifar10_tensorflow.json\",\"w\") as f:\n",
    "    for idx in range(0,X_train.shape[0]):\n",
    "        row = X_train[idx:idx+1]\n",
    "        data = {\"instances\":row.tolist()}\n",
    "        dataStr = json.dumps(data) + \"\\n\"\n",
    "        f.write(dataStr)\n",
    "    f.close()"
   ]
  },
  {
   "cell_type": "markdown",
   "metadata": {},
   "source": [
    "Save Tensorflow PredictRequest protos to a file."
   ]
  },
  {
   "cell_type": "code",
   "execution_count": 37,
   "metadata": {},
   "outputs": [],
   "source": [
    "with open(\"cifar10_tensorflow.proto\",\"wb\") as f:\n",
    "    for idx in range(0,X_train.shape[0]):\n",
    "        row = X_train[idx:idx+1]\n",
    "        request = predict_pb2.PredictRequest()\n",
    "        request.model_spec.name = \"resnet32\"\n",
    "        request.model_spec.signature_name = \"serving_default\"\n",
    "        request.inputs[\"input_1\"].CopyFrom(tf.make_tensor_proto(X_train[idx:idx+1]))\n",
    "        dataStr = request.SerializeToString()\n",
    "        l = len(dataStr)\n",
    "        lb = l.to_bytes(4, byteorder='big', signed=True)\n",
    "        f.write(lb)\n",
    "        f.write(dataStr)\n",
    "    f.close()"
   ]
  },
  {
   "cell_type": "code",
   "execution_count": null,
   "metadata": {},
   "outputs": [],
   "source": []
  }
 ],
 "metadata": {
  "kernelspec": {
   "display_name": "Python 3",
   "language": "python",
   "name": "python3"
  },
  "language_info": {
   "codemirror_mode": {
    "name": "ipython",
    "version": 3
   },
   "file_extension": ".py",
   "mimetype": "text/x-python",
   "name": "python",
   "nbconvert_exporter": "python",
   "pygments_lexer": "ipython3",
   "version": "3.6.8"
  }
 },
 "nbformat": 4,
 "nbformat_minor": 2
}
