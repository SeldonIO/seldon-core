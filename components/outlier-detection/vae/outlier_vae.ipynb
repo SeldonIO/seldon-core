{
 "cells": [
  {
   "cell_type": "markdown",
   "metadata": {},
   "source": [
    "# VAE (variational autoencoder) outlier detector deployment"
   ]
  },
  {
   "cell_type": "markdown",
   "metadata": {},
   "source": [
    "Wrap a keras VAE python model for use as a prediction microservice in seldon-core and deploy on seldon-core running on minikube or a Kubernetes cluster using GCP."
   ]
  },
  {
   "cell_type": "markdown",
   "metadata": {},
   "source": [
    "## Dependencies"
   ]
  },
  {
   "cell_type": "markdown",
   "metadata": {},
   "source": [
    "- [helm](https://github.com/helm/helm)\n",
    "- [minikube](https://github.com/kubernetes/minikube) --> install 0.25.2\n",
    "- [s2i](https://github.com/openshift/source-to-image)\n",
    "\n",
    "python packages:\n",
    "- keras: pip install keras\n",
    "- tensorflow: https://www.tensorflow.org/install/pip\n",
    "- scikit-learn: pip install scikit-learn --> 0.20.1"
   ]
  },
  {
   "cell_type": "markdown",
   "metadata": {},
   "source": [
    "## Task"
   ]
  },
  {
   "cell_type": "markdown",
   "metadata": {},
   "source": [
    "The outlier detector needs to detect computer network intrusions using TCP dump data for a local-area network (LAN) simulating a typical U.S. Air Force LAN. A connection is a sequence of TCP packets starting and ending at some well defined times, between which data flows to and from a source IP address to a target IP address under some well defined protocol. Each connection is labeled as either normal, or as an attack. \n",
    "\n",
    "There are 4 types of attacks in the dataset:\n",
    "- DOS: denial-of-service, e.g. syn flood;\n",
    "- R2L: unauthorized access from a remote machine, e.g. guessing password;\n",
    "- U2R:  unauthorized access to local superuser (root) privileges;\n",
    "- probing: surveillance and other probing, e.g., port scanning.\n",
    "    \n",
    "The dataset contains about 5 million connection records.\n",
    "\n",
    "There are 3 types of features:\n",
    "- basic features of individual connections, e.g. duration of connection\n",
    "- content features within a connection, e.g. number of failed log in attempts\n",
    "- traffic features within a 2 second window, e.g. number of connections to the same host as the current connection\n",
    "\n",
    "The outlier detector is only using the continuous (18 out of 41) features."
   ]
  },
  {
   "cell_type": "markdown",
   "metadata": {},
   "source": [
    "## Train locally\n",
    "\n",
    "Train on small dataset of normal traffic."
   ]
  },
  {
   "cell_type": "code",
   "execution_count": 1,
   "metadata": {},
   "outputs": [],
   "source": [
    "# define columns to keep\n",
    "cols=['srv_count','serror_rate','srv_serror_rate','rerror_rate','srv_rerror_rate',\n",
    "      'same_srv_rate','diff_srv_rate','srv_diff_host_rate','dst_host_count','dst_host_srv_count',\n",
    "      'dst_host_same_srv_rate','dst_host_diff_srv_rate','dst_host_same_src_port_rate',\n",
    "      'dst_host_srv_diff_host_rate','dst_host_serror_rate','dst_host_srv_serror_rate',\n",
    "      'dst_host_rerror_rate','dst_host_srv_rerror_rate','target']\n",
    "cols_str = str(cols)"
   ]
  },
  {
   "cell_type": "code",
   "execution_count": 2,
   "metadata": {},
   "outputs": [
    {
     "name": "stdout",
     "output_type": "stream",
     "text": [
      "Using TensorFlow backend.\n",
      "\n",
      "Load dataset\n",
      "\n",
      "Generate training batch\n",
      "\n",
      "Initiate outlier detector model\n",
      "_________________________________________________________________\n",
      "Layer (type)                 Output Shape              Param #   \n",
      "=================================================================\n",
      "encoder_input (InputLayer)   (None, 18)                0         \n",
      "_________________________________________________________________\n",
      "encoder (Model)              [(None, 2), (None, 2), (N 211       \n",
      "_________________________________________________________________\n",
      "decoder (Model)              (None, 18)                207       \n",
      "=================================================================\n",
      "Total params: 418\n",
      "Trainable params: 418\n",
      "Non-trainable params: 0\n",
      "_________________________________________________________________\n",
      "\n",
      "Train outlier detector\n",
      "Train on 50000 samples, validate on 50000 samples\n",
      "Epoch 1/10\n",
      "2018-12-04 11:25:44.750313: I tensorflow/core/platform/cpu_feature_guard.cc:141] Your CPU supports instructions that this TensorFlow binary was not compiled to use: AVX2 FMA\n",
      "50000/50000 [==============================] - 2s 43us/step - loss: 22997693.8286 - val_loss: 7794.4118\n",
      "Epoch 2/10\n",
      "50000/50000 [==============================] - 2s 39us/step - loss: 7782.2974 - val_loss: 7738.7541\n",
      "Epoch 3/10\n",
      "50000/50000 [==============================] - 2s 39us/step - loss: 2178.3535 - val_loss: 27.7127\n",
      "Epoch 4/10\n",
      "50000/50000 [==============================] - 2s 38us/step - loss: 26.9291 - val_loss: 16.4084\n",
      "Epoch 5/10\n",
      "50000/50000 [==============================] - 2s 36us/step - loss: 16.3346 - val_loss: 16.2751\n",
      "Epoch 6/10\n",
      "50000/50000 [==============================] - 2s 36us/step - loss: 16.2493 - val_loss: 16.2281\n",
      "Epoch 7/10\n",
      "50000/50000 [==============================] - 2s 36us/step - loss: 16.2145 - val_loss: 16.2041\n",
      "Epoch 8/10\n",
      "50000/50000 [==============================] - 2s 35us/step - loss: 16.1962 - val_loss: 16.1813\n",
      "Epoch 9/10\n",
      "50000/50000 [==============================] - 2s 35us/step - loss: 16.1632 - val_loss: 16.1450\n",
      "Epoch 10/10\n",
      "50000/50000 [==============================] - 2s 35us/step - loss: 16.1369 - val_loss: 16.1182\n"
     ]
    }
   ],
   "source": [
    "!python train.py \\\n",
    "--dataset 'kddcup99' \\\n",
    "--samples 50000 \\\n",
    "--keep_cols \"$cols_str\" \\\n",
    "--hidden_layers 1 \\\n",
    "--latent_dim 2 \\\n",
    "--hidden_dim 9 \\\n",
    "--epochs 10 \\\n",
    "--batch_size 32 \\\n",
    "--print_progress \\\n",
    "--save_path './models/'"
   ]
  },
  {
   "cell_type": "markdown",
   "metadata": {},
   "source": [
    "## Test using Kubernetes cluster on GCP or Minikube"
   ]
  },
  {
   "cell_type": "markdown",
   "metadata": {},
   "source": [
    "Pick Kubernetes cluster on GCP or Minikube."
   ]
  },
  {
   "cell_type": "code",
   "execution_count": 2,
   "metadata": {},
   "outputs": [],
   "source": [
    "minikube = True"
   ]
  },
  {
   "cell_type": "code",
   "execution_count": 3,
   "metadata": {},
   "outputs": [
    {
     "name": "stdout",
     "output_type": "stream",
     "text": [
      "Starting local Kubernetes v1.9.4 cluster...\n",
      "Starting VM...\n",
      "Getting VM IP address...\n",
      "Moving files into cluster...\n",
      "Setting up certs...\n",
      "Connecting to cluster...\n",
      "Setting up kubeconfig...\n",
      "Starting cluster components...\n",
      "Kubectl is now configured to use the cluster.\n",
      "Loading cached images from config file.\n"
     ]
    }
   ],
   "source": [
    "if minikube:\n",
    "    !minikube start --memory 4096 --feature-gates=CustomResourceValidation=true \\\n",
    "    --extra-config=apiserver.Authorization.Mode=RBAC\n",
    "else:\n",
    "    !gcloud container clusters get-credentials standard-cluster-1 --zone europe-west1-b --project seldon-demos"
   ]
  },
  {
   "cell_type": "markdown",
   "metadata": {},
   "source": [
    "Create a cluster-wide cluster-admin role assigned to a service account named “default” in the namespace “kube-system”."
   ]
  },
  {
   "cell_type": "code",
   "execution_count": 4,
   "metadata": {},
   "outputs": [
    {
     "name": "stdout",
     "output_type": "stream",
     "text": [
      "clusterrolebinding.rbac.authorization.k8s.io/kube-system-cluster-admin created\r\n"
     ]
    }
   ],
   "source": [
    "!kubectl create clusterrolebinding kube-system-cluster-admin --clusterrole=cluster-admin \\\n",
    "--serviceaccount=kube-system:default"
   ]
  },
  {
   "cell_type": "code",
   "execution_count": 5,
   "metadata": {},
   "outputs": [
    {
     "name": "stdout",
     "output_type": "stream",
     "text": [
      "namespace/seldon created\r\n"
     ]
    }
   ],
   "source": [
    "!kubectl create namespace seldon"
   ]
  },
  {
   "cell_type": "markdown",
   "metadata": {},
   "source": [
    "Add current context details to the configuration file in the seldon namespace."
   ]
  },
  {
   "cell_type": "code",
   "execution_count": 6,
   "metadata": {},
   "outputs": [
    {
     "name": "stdout",
     "output_type": "stream",
     "text": [
      "Context \"minikube\" modified.\r\n"
     ]
    }
   ],
   "source": [
    "!kubectl config set-context $(kubectl config current-context) --namespace=seldon"
   ]
  },
  {
   "cell_type": "markdown",
   "metadata": {},
   "source": [
    "Create tiller service account and give it a cluster-wide cluster-admin role."
   ]
  },
  {
   "cell_type": "code",
   "execution_count": 7,
   "metadata": {},
   "outputs": [
    {
     "name": "stdout",
     "output_type": "stream",
     "text": [
      "serviceaccount/tiller created\n",
      "clusterrolebinding.rbac.authorization.k8s.io/tiller created\n",
      "$HELM_HOME has been configured at /home/arnaud/.helm.\n",
      "\n",
      "Tiller (the Helm server-side component) has been installed into your Kubernetes Cluster.\n",
      "Happy Helming!\n"
     ]
    }
   ],
   "source": [
    "!kubectl -n kube-system create sa tiller\n",
    "!kubectl create clusterrolebinding tiller --clusterrole cluster-admin --serviceaccount=kube-system:tiller\n",
    "!helm init --service-account tiller"
   ]
  },
  {
   "cell_type": "markdown",
   "metadata": {},
   "source": [
    "Check deployment rollout status and deploy seldon/spartakus helm charts."
   ]
  },
  {
   "cell_type": "code",
   "execution_count": 8,
   "metadata": {},
   "outputs": [
    {
     "name": "stdout",
     "output_type": "stream",
     "text": [
      "Waiting for deployment \"tiller-deploy\" rollout to finish: 0 of 1 updated replicas are available...\n",
      "deployment \"tiller-deploy\" successfully rolled out\n"
     ]
    }
   ],
   "source": [
    "!kubectl rollout status deploy/tiller-deploy -n kube-system"
   ]
  },
  {
   "cell_type": "code",
   "execution_count": 9,
   "metadata": {},
   "outputs": [
    {
     "name": "stdout",
     "output_type": "stream",
     "text": [
      "NAME:   seldon-core-crd\n",
      "LAST DEPLOYED: Tue Dec  4 14:35:09 2018\n",
      "NAMESPACE: seldon\n",
      "STATUS: DEPLOYED\n",
      "\n",
      "RESOURCES:\n",
      "==> v1/ConfigMap\n",
      "NAME                     DATA  AGE\n",
      "seldon-spartakus-config  3     1s\n",
      "\n",
      "==> v1beta1/Deployment\n",
      "NAME                        DESIRED  CURRENT  UP-TO-DATE  AVAILABLE  AGE\n",
      "seldon-spartakus-volunteer  1        0        0           0          1s\n",
      "\n",
      "==> v1beta1/CustomResourceDefinition\n",
      "NAME                                         KIND\n",
      "seldondeployments.machinelearning.seldon.io  CustomResourceDefinition.v1beta1.apiextensions.k8s.io\n",
      "\n",
      "==> v1/ServiceAccount\n",
      "NAME                        SECRETS  AGE\n",
      "seldon-spartakus-volunteer  1        1s\n",
      "\n",
      "==> v1beta1/ClusterRole\n",
      "NAME                        AGE\n",
      "seldon-spartakus-volunteer  1s\n",
      "\n",
      "==> v1beta1/ClusterRoleBinding\n",
      "NAME                        AGE\n",
      "seldon-spartakus-volunteer  1s\n",
      "\n",
      "\n",
      "NOTES:\n",
      "NOTES: TODO\n",
      "\n",
      "\n"
     ]
    }
   ],
   "source": [
    "!helm install ../../../helm-charts/seldon-core-crd --name seldon-core-crd \\\n",
    "    --set usage_metrics.enabled=true"
   ]
  },
  {
   "cell_type": "code",
   "execution_count": 10,
   "metadata": {},
   "outputs": [
    {
     "name": "stdout",
     "output_type": "stream",
     "text": [
      "NAME:   seldon-core\n",
      "LAST DEPLOYED: Tue Dec  4 14:35:10 2018\n",
      "NAMESPACE: seldon\n",
      "STATUS: DEPLOYED\n",
      "\n",
      "RESOURCES:\n",
      "==> v1beta1/Role\n",
      "NAME          AGE\n",
      "ambassador    1s\n",
      "seldon-local  1s\n",
      "\n",
      "==> v1beta1/RoleBinding\n",
      "NAME        AGE\n",
      "ambassador  1s\n",
      "\n",
      "==> v1/RoleBinding\n",
      "NAME    KIND                                      SUBJECTS\n",
      "seldon  RoleBinding.v1.rbac.authorization.k8s.io  1 item(s)\n",
      "\n",
      "==> v1/Service\n",
      "NAME                          CLUSTER-IP      EXTERNAL-IP  PORT(S)                        AGE\n",
      "seldon-core-ambassador        10.107.127.210  <nodes>      80:30706/TCP,443:31941/TCP     1s\n",
      "seldon-core-ambassador-admin  10.102.0.164    <nodes>      8877:30825/TCP                 1s\n",
      "seldon-core-seldon-apiserver  10.111.28.90    <nodes>      8080:32415/TCP,5000:31673/TCP  1s\n",
      "seldon-core-redis             10.102.255.146  <none>       6379/TCP                       1s\n",
      "\n",
      "==> v1beta1/Deployment\n",
      "NAME                                DESIRED  CURRENT  UP-TO-DATE  AVAILABLE  AGE\n",
      "seldon-core-ambassador              1        1        1           0          1s\n",
      "seldon-core-seldon-apiserver        1        1        1           0          1s\n",
      "seldon-core-seldon-cluster-manager  1        1        1           0          1s\n",
      "seldon-core-redis                   1        1        1           0          1s\n",
      "\n",
      "==> v1/ServiceAccount\n",
      "NAME    SECRETS  AGE\n",
      "seldon  1        1s\n",
      "\n",
      "==> v1beta1/ClusterRole\n",
      "NAME               AGE\n",
      "seldon-crd-seldon  1s\n",
      "\n",
      "==> v1/ClusterRoleBinding\n",
      "NAME           KIND                                             SUBJECTS\n",
      "seldon-seldon  ClusterRoleBinding.v1.rbac.authorization.k8s.io  1 item(s)\n",
      "\n",
      "\n",
      "NOTES:\n",
      "Thank you for installing Seldon Core.\n",
      "\n",
      "Documentation can be found at https://github.com/SeldonIO/seldon-core\n",
      "\n",
      "\n",
      "\n",
      "\n"
     ]
    }
   ],
   "source": [
    "!helm install ../../../helm-charts/seldon-core --name seldon-core \\\n",
    "        --namespace seldon \\\n",
    "        --set ambassador.enabled=true"
   ]
  },
  {
   "cell_type": "markdown",
   "metadata": {},
   "source": [
    "Check deployment rollout status for seldon core."
   ]
  },
  {
   "cell_type": "code",
   "execution_count": 11,
   "metadata": {},
   "outputs": [
    {
     "name": "stdout",
     "output_type": "stream",
     "text": [
      "Waiting for deployment \"seldon-core-seldon-cluster-manager\" rollout to finish: 0 of 1 updated replicas are available...\n",
      "deployment \"seldon-core-seldon-cluster-manager\" successfully rolled out\n",
      "Waiting for deployment \"seldon-core-seldon-apiserver\" rollout to finish: 0 of 1 updated replicas are available...\n",
      "deployment \"seldon-core-seldon-apiserver\" successfully rolled out\n"
     ]
    }
   ],
   "source": [
    "!kubectl rollout status deploy/seldon-core-seldon-cluster-manager -n seldon\n",
    "!kubectl rollout status deploy/seldon-core-seldon-apiserver -n seldon"
   ]
  },
  {
   "cell_type": "markdown",
   "metadata": {},
   "source": [
    "If Minikube used: create docker image for outlier detector inside Minikube using s2i."
   ]
  },
  {
   "cell_type": "code",
   "execution_count": 12,
   "metadata": {},
   "outputs": [
    {
     "name": "stdout",
     "output_type": "stream",
     "text": [
      "---> Installing application source...\n",
      "---> Installing dependencies ...\n",
      "Collecting keras==2.2.2 (from -r requirements.txt (line 1))\n",
      "Downloading https://files.pythonhosted.org/packages/34/7d/b1dedde8af99bd82f20ed7e9697aac0597de3049b1f786aa2aac3b9bd4da/Keras-2.2.2-py2.py3-none-any.whl (299kB)\n",
      "Collecting tensorflow==1.10.1 (from -r requirements.txt (line 2))\n",
      "Downloading https://files.pythonhosted.org/packages/04/7e/a484776c73b1431f2b077e13801531e966113492552194fe721e6ef88d5d/tensorflow-1.10.1-cp36-cp36m-manylinux1_x86_64.whl (58.4MB)\n",
      "Requirement already satisfied: numpy==1.14.5 in /usr/local/lib/python3.6/site-packages (from -r requirements.txt (line 3)) (1.14.5)\n",
      "Collecting argparse==1.1 (from -r requirements.txt (line 4))\n",
      "Downloading https://files.pythonhosted.org/packages/45/0b/c5cdf94e911872072b9bd17a6412145c7cda88934f241dcc8a0d11b10c5c/argparse-1.1.zip (151kB)\n",
      "Requirement already satisfied: pandas==0.23.4 in /usr/local/lib/python3.6/site-packages (from -r requirements.txt (line 5)) (0.23.4)\n",
      "Collecting scikit-learn==0.19.1 (from -r requirements.txt (line 6))\n",
      "Downloading https://files.pythonhosted.org/packages/3d/2d/9fbc7baa5f44bc9e88ffb7ed32721b879bfa416573e85031e16f52569bc9/scikit_learn-0.19.1-cp36-cp36m-manylinux1_x86_64.whl (12.4MB)\n",
      "Collecting requests==2.19.1 (from -r requirements.txt (line 7))\n",
      "Downloading https://files.pythonhosted.org/packages/65/47/7e02164a2a3db50ed6d8a6ab1d6d60b69c4c3fdf57a284257925dfc12bda/requests-2.19.1-py2.py3-none-any.whl (91kB)\n",
      "Requirement already satisfied: six>=1.9.0 in /usr/local/lib/python3.6/site-packages (from keras==2.2.2->-r requirements.txt (line 1)) (1.11.0)\n",
      "Collecting keras-preprocessing==1.0.2 (from keras==2.2.2->-r requirements.txt (line 1))\n",
      "Downloading https://files.pythonhosted.org/packages/71/26/1e778ebd737032749824d5cba7dbd3b0cf9234b87ab5ec79f5f0403ca7e9/Keras_Preprocessing-1.0.2-py2.py3-none-any.whl\n",
      "Collecting h5py (from keras==2.2.2->-r requirements.txt (line 1))\n",
      "Downloading https://files.pythonhosted.org/packages/8e/cb/726134109e7bd71d98d1fcc717ffe051767aac42ede0e7326fd1787e5d64/h5py-2.8.0-cp36-cp36m-manylinux1_x86_64.whl (2.8MB)\n",
      "Collecting keras-applications==1.0.4 (from keras==2.2.2->-r requirements.txt (line 1))\n",
      "Downloading https://files.pythonhosted.org/packages/54/90/8f327deaa37a71caddb59b7b4aaa9d4b3e90c0e76f8c2d1572005278ddc5/Keras_Applications-1.0.4-py2.py3-none-any.whl (43kB)\n",
      "Collecting scipy>=0.14 (from keras==2.2.2->-r requirements.txt (line 1))\n",
      "Downloading https://files.pythonhosted.org/packages/a8/0b/f163da98d3a01b3e0ef1cab8dd2123c34aee2bafbb1c5bffa354cc8a1730/scipy-1.1.0-cp36-cp36m-manylinux1_x86_64.whl (31.2MB)\n",
      "Collecting pyyaml (from keras==2.2.2->-r requirements.txt (line 1))\n",
      "Downloading https://files.pythonhosted.org/packages/9e/a3/1d13970c3f36777c583f136c136f804d70f500168edc1edea6daa7200769/PyYAML-3.13.tar.gz (270kB)\n",
      "Collecting tensorboard<1.11.0,>=1.10.0 (from tensorflow==1.10.1->-r requirements.txt (line 2))\n",
      "Downloading https://files.pythonhosted.org/packages/c6/17/ecd918a004f297955c30b4fffbea100b1606c225dbf0443264012773c3ff/tensorboard-1.10.0-py3-none-any.whl (3.3MB)\n",
      "Collecting gast>=0.2.0 (from tensorflow==1.10.1->-r requirements.txt (line 2))\n",
      "Downloading https://files.pythonhosted.org/packages/5c/78/ff794fcae2ce8aa6323e789d1f8b3b7765f601e7702726f430e814822b96/gast-0.2.0.tar.gz\n",
      "Collecting absl-py>=0.1.6 (from tensorflow==1.10.1->-r requirements.txt (line 2))\n",
      "Downloading https://files.pythonhosted.org/packages/0c/63/f505d2d4c21db849cf80bad517f0065a30be6b006b0a5637f1b95584a305/absl-py-0.6.1.tar.gz (94kB)\n",
      "Collecting setuptools<=39.1.0 (from tensorflow==1.10.1->-r requirements.txt (line 2))\n",
      "Downloading https://files.pythonhosted.org/packages/8c/10/79282747f9169f21c053c562a0baa21815a8c7879be97abd930dbcf862e8/setuptools-39.1.0-py2.py3-none-any.whl (566kB)\n",
      "Requirement already satisfied: wheel>=0.26 in /usr/local/lib/python3.6/site-packages (from tensorflow==1.10.1->-r requirements.txt (line 2)) (0.31.1)\n",
      "Collecting termcolor>=1.1.0 (from tensorflow==1.10.1->-r requirements.txt (line 2))\n",
      "Downloading https://files.pythonhosted.org/packages/8a/48/a76be51647d0eb9f10e2a4511bf3ffb8cc1e6b14e9e4fab46173aa79f981/termcolor-1.1.0.tar.gz\n",
      "Requirement already satisfied: protobuf>=3.6.0 in /usr/local/lib/python3.6/site-packages (from tensorflow==1.10.1->-r requirements.txt (line 2)) (3.6.1)\n",
      "Collecting astor>=0.6.0 (from tensorflow==1.10.1->-r requirements.txt (line 2))\n",
      "Downloading https://files.pythonhosted.org/packages/35/6b/11530768cac581a12952a2aad00e1526b89d242d0b9f59534ef6e6a1752f/astor-0.7.1-py2.py3-none-any.whl\n",
      "Requirement already satisfied: grpcio>=1.8.6 in /usr/local/lib/python3.6/site-packages (from tensorflow==1.10.1->-r requirements.txt (line 2)) (1.14.0)\n",
      "Requirement already satisfied: python-dateutil>=2.5.0 in /usr/local/lib/python3.6/site-packages (from pandas==0.23.4->-r requirements.txt (line 5)) (2.7.5)\n",
      "Requirement already satisfied: pytz>=2011k in /usr/local/lib/python3.6/site-packages (from pandas==0.23.4->-r requirements.txt (line 5)) (2018.7)\n",
      "Collecting idna<2.8,>=2.5 (from requests==2.19.1->-r requirements.txt (line 7))\n",
      "Downloading https://files.pythonhosted.org/packages/4b/2a/0276479a4b3caeb8a8c1af2f8e4355746a97fab05a372e4a2c6a6b876165/idna-2.7-py2.py3-none-any.whl (58kB)\n",
      "Collecting certifi>=2017.4.17 (from requests==2.19.1->-r requirements.txt (line 7))\n",
      "Downloading https://files.pythonhosted.org/packages/9f/e0/accfc1b56b57e9750eba272e24c4dddeac86852c2bebd1236674d7887e8a/certifi-2018.11.29-py2.py3-none-any.whl (154kB)\n",
      "Collecting urllib3<1.24,>=1.21.1 (from requests==2.19.1->-r requirements.txt (line 7))\n",
      "Downloading https://files.pythonhosted.org/packages/bd/c9/6fdd990019071a4a32a5e7cb78a1d92c53851ef4f56f62a3486e6a7d8ffb/urllib3-1.23-py2.py3-none-any.whl (133kB)\n",
      "Collecting chardet<3.1.0,>=3.0.2 (from requests==2.19.1->-r requirements.txt (line 7))\n",
      "Downloading https://files.pythonhosted.org/packages/bc/a9/01ffebfb562e4274b6487b4bb1ddec7ca55ec7510b22e4c51f14098443b8/chardet-3.0.4-py2.py3-none-any.whl (133kB)\n",
      "Collecting markdown>=2.6.8 (from tensorboard<1.11.0,>=1.10.0->tensorflow==1.10.1->-r requirements.txt (line 2))\n",
      "Downloading https://files.pythonhosted.org/packages/7a/6b/5600647404ba15545ec37d2f7f58844d690baf2f81f3a60b862e48f29287/Markdown-3.0.1-py2.py3-none-any.whl (89kB)\n",
      "Requirement already satisfied: werkzeug>=0.11.10 in /usr/local/lib/python3.6/site-packages (from tensorboard<1.11.0,>=1.10.0->tensorflow==1.10.1->-r requirements.txt (line 2)) (0.14.1)\n",
      "Building wheels for collected packages: argparse, pyyaml, gast, absl-py, termcolor\n",
      "Running setup.py bdist_wheel for argparse: started\n",
      "Running setup.py bdist_wheel for argparse: finished with status 'done'\n",
      "Stored in directory: /root/.cache/pip/wheels/eb/d9/dc/c82fc53ba45624213f73beb92add224b9bd8a30581c2d2a7b5\n",
      "Running setup.py bdist_wheel for pyyaml: started\n",
      "Running setup.py bdist_wheel for pyyaml: finished with status 'done'\n",
      "Stored in directory: /root/.cache/pip/wheels/ad/da/0c/74eb680767247273e2cf2723482cb9c924fe70af57c334513f\n",
      "Running setup.py bdist_wheel for gast: started\n",
      "Running setup.py bdist_wheel for gast: finished with status 'done'\n",
      "Stored in directory: /root/.cache/pip/wheels/9a/1f/0e/3cde98113222b853e98fc0a8e9924480a3e25f1b4008cedb4f\n",
      "Running setup.py bdist_wheel for absl-py: started\n",
      "Running setup.py bdist_wheel for absl-py: finished with status 'done'\n",
      "Stored in directory: /root/.cache/pip/wheels/18/ea/5e/e36e1b8739e78cd2eba0a08fdc602c2b16a4b263912af8cb64\n",
      "Running setup.py bdist_wheel for termcolor: started\n",
      "Running setup.py bdist_wheel for termcolor: finished with status 'done'\n",
      "Stored in directory: /root/.cache/pip/wheels/7c/06/54/bc84598ba1daf8f970247f550b175aaaee85f68b4b0c5ab2c6\n",
      "Successfully built argparse pyyaml gast absl-py termcolor\n",
      "Installing collected packages: scipy, keras-preprocessing, h5py, keras-applications, pyyaml, keras, markdown, tensorboard, gast, absl-py, setuptools, termcolor, astor, tensorflow, argparse, scikit-learn, idna, certifi, urllib3, chardet, requests\n",
      "Found existing installation: setuptools 40.0.0\n",
      "Uninstalling setuptools-40.0.0:\n",
      "Successfully uninstalled setuptools-40.0.0\n",
      "Successfully installed absl-py-0.6.1 argparse-1.1 astor-0.7.1 certifi-2018.11.29 chardet-3.0.4 gast-0.2.0 h5py-2.8.0 idna-2.7 keras-2.2.2 keras-applications-1.0.4 keras-preprocessing-1.0.2 markdown-3.0.1 pyyaml-3.13 requests-2.19.1 scikit-learn-0.19.1 scipy-1.1.0 setuptools-39.1.0 tensorboard-1.10.0 tensorflow-1.10.1 termcolor-1.1.0 urllib3-1.23\n"
     ]
    },
    {
     "name": "stdout",
     "output_type": "stream",
     "text": [
      "You are using pip version 18.0, however version 18.1 is available.\n",
      "You should consider upgrading via the 'pip install --upgrade pip' command.\n",
      "Build completed successfully\n"
     ]
    }
   ],
   "source": [
    "if minikube:\n",
    "    !eval $(minikube docker-env) && s2i build . seldonio/seldon-core-s2i-python3:0.4-SNAPSHOT seldonio/outlier-vae:0.1"
   ]
  },
  {
   "cell_type": "markdown",
   "metadata": {},
   "source": [
    "Install outlier detector helm charts and set \"threshold\" and reservoir_size\" hyperparameter values."
   ]
  },
  {
   "cell_type": "code",
   "execution_count": 13,
   "metadata": {},
   "outputs": [
    {
     "name": "stdout",
     "output_type": "stream",
     "text": [
      "NAME:   outlier-detector\n",
      "LAST DEPLOYED: Tue Dec  4 14:38:24 2018\n",
      "NAMESPACE: seldon\n",
      "STATUS: DEPLOYED\n",
      "\n",
      "RESOURCES:\n",
      "==> v1alpha2/SeldonDeployment\n",
      "NAME              KIND\n",
      "outlier-detector  SeldonDeployment.v1alpha2.machinelearning.seldon.io\n",
      "\n",
      "\n"
     ]
    }
   ],
   "source": [
    "!helm install ../../../helm-charts/seldon-outlier-detection/vae \\\n",
    "    --set model.image.name=seldonio/outlier-vae:0.1 \\\n",
    "    --set model.threshold=10 \\\n",
    "    --set model.reservoir_size=50000 \\\n",
    "    --name outlier-detector --set oauth.key=oauth-key \\\n",
    "    --set oauth.secret=oauth-secret \\\n",
    "    --namespace=seldon"
   ]
  },
  {
   "cell_type": "markdown",
   "metadata": {},
   "source": [
    "## Port forward Ambassador\n",
    "\n",
    "Run command in terminal:"
   ]
  },
  {
   "cell_type": "markdown",
   "metadata": {},
   "source": [
    "```\n",
    "kubectl port-forward $(kubectl get pods -n seldon -l service=ambassador -o jsonpath='{.items[0].metadata.name}') -n seldon 8003:8080\n",
    "```"
   ]
  },
  {
   "cell_type": "markdown",
   "metadata": {},
   "source": [
    "## Import rest requests, load data and test requests"
   ]
  },
  {
   "cell_type": "code",
   "execution_count": 14,
   "metadata": {},
   "outputs": [
    {
     "name": "stdout",
     "output_type": "stream",
     "text": [
      "(4898431, 19)\n"
     ]
    }
   ],
   "source": [
    "from utils import get_payload, rest_request_ambassador, send_feedback_rest, get_kdd_data, generate_batch\n",
    "\n",
    "data = get_kdd_data(keep_cols=cols) # load dataset\n",
    "print(data.shape)"
   ]
  },
  {
   "cell_type": "markdown",
   "metadata": {},
   "source": [
    "Generate a random batch from the data"
   ]
  },
  {
   "cell_type": "code",
   "execution_count": 15,
   "metadata": {},
   "outputs": [
    {
     "name": "stdout",
     "output_type": "stream",
     "text": [
      "(1, 18)\n",
      "(1,)\n"
     ]
    }
   ],
   "source": [
    "import numpy as np\n",
    "\n",
    "samples = 1\n",
    "fraction_outlier = 0.\n",
    "X, labels = generate_batch(data,samples,fraction_outlier)\n",
    "print(X.shape)\n",
    "print(labels.shape)"
   ]
  },
  {
   "cell_type": "markdown",
   "metadata": {},
   "source": [
    "Test the rest requests with the generated data. It is important that the order of requests is respected. First we make predictions, then we get the \"true\" labels back using the feedback request. If we do not respect the order and eg keep making predictions without getting the feedback for each prediction, there will be a mismatch between the predicted and \"true\" labels. This will result in errors in the produced metrics."
   ]
  },
  {
   "cell_type": "code",
   "execution_count": 16,
   "metadata": {},
   "outputs": [],
   "source": [
    "request = get_payload(X)"
   ]
  },
  {
   "cell_type": "code",
   "execution_count": 17,
   "metadata": {
    "scrolled": true
   },
   "outputs": [
    {
     "name": "stdout",
     "output_type": "stream",
     "text": [
      "200\n",
      "{\n",
      "  \"meta\": {\n",
      "    \"puid\": \"cbmekvtq08cc2sp51aclk1mii2\",\n",
      "    \"tags\": {\n",
      "    },\n",
      "    \"routing\": {\n",
      "    },\n",
      "    \"requestPath\": {\n",
      "      \"outlier-vae\": \"seldonio/outlier-vae:0.1\"\n",
      "    },\n",
      "    \"metrics\": [{\n",
      "      \"key\": \"is_outlier\",\n",
      "      \"type\": \"GAUGE\",\n",
      "      \"value\": \"NaN\",\n",
      "      \"tags\": {\n",
      "      }\n",
      "    }, {\n",
      "      \"key\": \"mse\",\n",
      "      \"type\": \"GAUGE\",\n",
      "      \"value\": \"NaN\",\n",
      "      \"tags\": {\n",
      "      }\n",
      "    }, {\n",
      "      \"key\": \"observation\",\n",
      "      \"type\": \"GAUGE\",\n",
      "      \"value\": 0.0,\n",
      "      \"tags\": {\n",
      "      }\n",
      "    }, {\n",
      "      \"key\": \"threshold\",\n",
      "      \"type\": \"GAUGE\",\n",
      "      \"value\": 10.0,\n",
      "      \"tags\": {\n",
      "      }\n",
      "    }, {\n",
      "      \"key\": \"label\",\n",
      "      \"type\": \"GAUGE\",\n",
      "      \"value\": \"NaN\",\n",
      "      \"tags\": {\n",
      "      }\n",
      "    }, {\n",
      "      \"key\": \"accuracy_tot\",\n",
      "      \"type\": \"GAUGE\",\n",
      "      \"value\": \"NaN\",\n",
      "      \"tags\": {\n",
      "      }\n",
      "    }, {\n",
      "      \"key\": \"precision_tot\",\n",
      "      \"type\": \"GAUGE\",\n",
      "      \"value\": \"NaN\",\n",
      "      \"tags\": {\n",
      "      }\n",
      "    }, {\n",
      "      \"key\": \"recall_tot\",\n",
      "      \"type\": \"GAUGE\",\n",
      "      \"value\": \"NaN\",\n",
      "      \"tags\": {\n",
      "      }\n",
      "    }, {\n",
      "      \"key\": \"f1_tot\",\n",
      "      \"type\": \"GAUGE\",\n",
      "      \"value\": \"NaN\",\n",
      "      \"tags\": {\n",
      "      }\n",
      "    }, {\n",
      "      \"key\": \"f2_tot\",\n",
      "      \"type\": \"GAUGE\",\n",
      "      \"value\": \"NaN\",\n",
      "      \"tags\": {\n",
      "      }\n",
      "    }, {\n",
      "      \"key\": \"accuracy_roll\",\n",
      "      \"type\": \"GAUGE\",\n",
      "      \"value\": \"NaN\",\n",
      "      \"tags\": {\n",
      "      }\n",
      "    }, {\n",
      "      \"key\": \"precision_roll\",\n",
      "      \"type\": \"GAUGE\",\n",
      "      \"value\": \"NaN\",\n",
      "      \"tags\": {\n",
      "      }\n",
      "    }, {\n",
      "      \"key\": \"recall_roll\",\n",
      "      \"type\": \"GAUGE\",\n",
      "      \"value\": \"NaN\",\n",
      "      \"tags\": {\n",
      "      }\n",
      "    }, {\n",
      "      \"key\": \"f1_roll\",\n",
      "      \"type\": \"GAUGE\",\n",
      "      \"value\": \"NaN\",\n",
      "      \"tags\": {\n",
      "      }\n",
      "    }, {\n",
      "      \"key\": \"f2_roll\",\n",
      "      \"type\": \"GAUGE\",\n",
      "      \"value\": \"NaN\",\n",
      "      \"tags\": {\n",
      "      }\n",
      "    }, {\n",
      "      \"key\": \"true_negative\",\n",
      "      \"type\": \"GAUGE\",\n",
      "      \"value\": \"NaN\",\n",
      "      \"tags\": {\n",
      "      }\n",
      "    }, {\n",
      "      \"key\": \"false_positive\",\n",
      "      \"type\": \"GAUGE\",\n",
      "      \"value\": \"NaN\",\n",
      "      \"tags\": {\n",
      "      }\n",
      "    }, {\n",
      "      \"key\": \"false_negative\",\n",
      "      \"type\": \"GAUGE\",\n",
      "      \"value\": \"NaN\",\n",
      "      \"tags\": {\n",
      "      }\n",
      "    }, {\n",
      "      \"key\": \"true_positive\",\n",
      "      \"type\": \"GAUGE\",\n",
      "      \"value\": \"NaN\",\n",
      "      \"tags\": {\n",
      "      }\n",
      "    }, {\n",
      "      \"key\": \"nb_outliers_roll\",\n",
      "      \"type\": \"GAUGE\",\n",
      "      \"value\": \"NaN\",\n",
      "      \"tags\": {\n",
      "      }\n",
      "    }, {\n",
      "      \"key\": \"nb_labels_roll\",\n",
      "      \"type\": \"GAUGE\",\n",
      "      \"value\": \"NaN\",\n",
      "      \"tags\": {\n",
      "      }\n",
      "    }, {\n",
      "      \"key\": \"nb_outliers_tot\",\n",
      "      \"type\": \"GAUGE\",\n",
      "      \"value\": \"NaN\",\n",
      "      \"tags\": {\n",
      "      }\n",
      "    }, {\n",
      "      \"key\": \"nb_labels_tot\",\n",
      "      \"type\": \"GAUGE\",\n",
      "      \"value\": \"NaN\",\n",
      "      \"tags\": {\n",
      "      }\n",
      "    }]\n",
      "  },\n",
      "  \"data\": {\n",
      "    \"names\": [],\n",
      "    \"ndarray\": [0.0]\n",
      "  }\n",
      "}\n"
     ]
    }
   ],
   "source": [
    "response = rest_request_ambassador(\"outlier-detector\",request,endpoint=\"localhost:8003\")"
   ]
  },
  {
   "cell_type": "code",
   "execution_count": 18,
   "metadata": {},
   "outputs": [],
   "source": [
    "send_feedback_rest(\"outlier-detector\",request,response,0,labels,endpoint=\"localhost:8003\")"
   ]
  },
  {
   "cell_type": "markdown",
   "metadata": {},
   "source": [
    "## Analytics"
   ]
  },
  {
   "cell_type": "markdown",
   "metadata": {},
   "source": [
    "Install the helm charts for prometheus and the grafana dashboard"
   ]
  },
  {
   "cell_type": "code",
   "execution_count": 19,
   "metadata": {},
   "outputs": [
    {
     "name": "stdout",
     "output_type": "stream",
     "text": [
      "NAME:   seldon-core-analytics\n",
      "LAST DEPLOYED: Tue Dec  4 14:45:43 2018\n",
      "NAMESPACE: seldon\n",
      "STATUS: DEPLOYED\n",
      "\n",
      "RESOURCES:\n",
      "==> v1/ConfigMap\n",
      "NAME                       DATA  AGE\n",
      "alertmanager-server-conf   1     1s\n",
      "grafana-import-dashboards  9     1s\n",
      "prometheus-rules           0     1s\n",
      "prometheus-server-conf     1     1s\n",
      "\n",
      "==> v1beta1/ClusterRole\n",
      "NAME        AGE\n",
      "prometheus  1s\n",
      "\n",
      "==> v1/Job\n",
      "NAME                            DESIRED  SUCCESSFUL  AGE\n",
      "grafana-prom-import-dashboards  1        0           1s\n",
      "\n",
      "==> v1/Service\n",
      "NAME                      CLUSTER-IP     EXTERNAL-IP  PORT(S)       AGE\n",
      "alertmanager              10.99.73.8     <none>       80/TCP        1s\n",
      "grafana-prom              10.96.182.126  <nodes>      80:30344/TCP  1s\n",
      "prometheus-node-exporter  None           <none>       9100/TCP      1s\n",
      "prometheus-seldon         10.105.197.41  <none>       80/TCP        1s\n",
      "\n",
      "==> v1beta1/DaemonSet\n",
      "NAME                      DESIRED  CURRENT  READY  UP-TO-DATE  AVAILABLE  NODE-SELECTOR  AGE\n",
      "prometheus-node-exporter  1        1        0      1           0          <none>         1s\n",
      "\n",
      "==> v1/Secret\n",
      "NAME                 TYPE    DATA  AGE\n",
      "grafana-prom-secret  Opaque  1     1s\n",
      "\n",
      "==> v1/ServiceAccount\n",
      "NAME        SECRETS  AGE\n",
      "prometheus  1        1s\n",
      "\n",
      "==> v1beta1/ClusterRoleBinding\n",
      "NAME        AGE\n",
      "prometheus  1s\n",
      "\n",
      "==> v1beta1/Deployment\n",
      "NAME                     DESIRED  CURRENT  UP-TO-DATE  AVAILABLE  AGE\n",
      "alertmanager-deployment  1        1        1           0          1s\n",
      "grafana-prom-deployment  1        1        1           0          1s\n",
      "prometheus-deployment    1        1        1           0          1s\n",
      "\n",
      "\n",
      "NOTES:\n",
      "NOTES: TODO\n",
      "\n",
      "\n"
     ]
    }
   ],
   "source": [
    "!helm install ../../../helm-charts/seldon-core-analytics --name seldon-core-analytics \\\n",
    "    --set grafana_prom_admin_password=password \\\n",
    "    --set persistence.enabled=false \\\n",
    "    --namespace seldon"
   ]
  },
  {
   "cell_type": "markdown",
   "metadata": {},
   "source": [
    "## Port forward Grafana dashboard"
   ]
  },
  {
   "cell_type": "markdown",
   "metadata": {},
   "source": [
    "Run command in terminal:"
   ]
  },
  {
   "cell_type": "markdown",
   "metadata": {},
   "source": [
    "```\n",
    "kubectl port-forward $(kubectl get pods -n seldon -l app=grafana-prom-server -o jsonpath='{.items[0].metadata.name}') -n seldon 3000:3000\n",
    "```"
   ]
  },
  {
   "cell_type": "markdown",
   "metadata": {},
   "source": [
    "You can then view an analytics dashboard inside the cluster at http://localhost:3000/dashboard/db/prediction-analytics?refresh=5s&orgId=1. Your IP address may be different. get it via minikube ip. Login with:\n",
    "\n",
    "Username : admin\n",
    "\n",
    "password : password (as set when starting seldon-core-analytics above)\n",
    "\n",
    "Import the outlier-detector-vae dashboard from ../../../helm-charts/seldon-core-analytics/files/grafana/configs."
   ]
  },
  {
   "cell_type": "markdown",
   "metadata": {},
   "source": [
    "## Run simulation\n",
    "\n",
    "- Sample random network intrusion data with a certain outlier probability.\n",
    "- Get payload for the observation.\n",
    "- Make a prediction.\n",
    "- Send the \"true\" label with the feedback.\n",
    "\n",
    "It is important that the prediction-feedback order is maintained. Otherwise there will be a mismatch between the predicted and \"true\" labels.\n",
    "\n",
    "View the progress on the grafana \"Outlier Detection\" dashboard."
   ]
  },
  {
   "cell_type": "code",
   "execution_count": 21,
   "metadata": {
    "scrolled": true
   },
   "outputs": [],
   "source": [
    "import time\n",
    "n_requests = 100\n",
    "samples = 1\n",
    "for i in range(n_requests):\n",
    "    fraction_outlier = .1\n",
    "    X, labels = generate_batch(data,samples,fraction_outlier)\n",
    "    request = get_payload(X)\n",
    "    response = rest_request_ambassador(\"outlier-detector\",request,endpoint=\"localhost:8003\")\n",
    "    send_feedback_rest(\"outlier-detector\",request,response,0,labels,endpoint=\"localhost:8003\")\n",
    "    #time.sleep(1)"
   ]
  },
  {
   "cell_type": "code",
   "execution_count": null,
   "metadata": {},
   "outputs": [],
   "source": []
  }
 ],
 "metadata": {
  "kernelspec": {
   "display_name": "Python 3",
   "language": "python",
   "name": "python3"
  },
  "language_info": {
   "codemirror_mode": {
    "name": "ipython",
    "version": 3
   },
   "file_extension": ".py",
   "mimetype": "text/x-python",
   "name": "python",
   "nbconvert_exporter": "python",
   "pygments_lexer": "ipython3",
   "version": "3.6.6"
  }
 },
 "nbformat": 4,
 "nbformat_minor": 2
}
