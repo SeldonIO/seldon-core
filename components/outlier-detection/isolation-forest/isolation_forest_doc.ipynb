{
 "cells": [
  {
   "cell_type": "markdown",
   "metadata": {},
   "source": [
    "# Isolation Forest (IF) Algorithm Documentation"
   ]
  },
  {
   "cell_type": "markdown",
   "metadata": {},
   "source": [
    "The aim of this document is to explain the Isolation Forest algorithm in Seldon's outlier detection framework.\n",
    "\n",
    "First, we provide a high level overview of the algorithm and the use case, then we will give a detailed explanation of the implementation."
   ]
  },
  {
   "cell_type": "markdown",
   "metadata": {},
   "source": [
    "## Overview"
   ]
  },
  {
   "cell_type": "markdown",
   "metadata": {},
   "source": [
    "Outlier detection has many applications, ranging from preventing credit card fraud to detecting computer network intrusions. The available data is typically unlabeled and detection needs to be done in real-time. The outlier detector can be used as a standalone algorithm, or to detect anomalies in the input data of another predictive model.\n",
    "\n",
    "The IF outlier detection algorithm predicts whether the input features are an outlier or not, dependent on a threshold level set by the user. The algorithm needs to be pretrained first on a representable batch of data.\n",
    "\n",
    "As observations arrive, the algorithm will:\n",
    "- calculate an anomaly score for the observation\n",
    "- predict that the observation is an outlier if the anomaly score is below the threshold level"
   ]
  },
  {
   "cell_type": "markdown",
   "metadata": {},
   "source": [
    "## Why Isolation Forests?"
   ]
  },
  {
   "cell_type": "markdown",
   "metadata": {},
   "source": [
    "Isolation forests are tree based models specifically used for outlier detection. The IF isolates observations by randomly selecting a feature and then randomly selecting a split value between the maximum and minimum values of the selected feature. The number of splittings required to isolate a sample is equivalent to the path length from the root node to the terminating node. This path length, averaged over a forest of random trees, is a measure of normality and is used to define an anomaly score. Outliers can typically be isolated quicker, leading to shorter paths. In the scikit-learn implementation, lower anomaly scores indicate that the probability of an observation being an outlier is higher."
   ]
  },
  {
   "cell_type": "markdown",
   "metadata": {},
   "source": [
    "## Implementation"
   ]
  },
  {
   "cell_type": "markdown",
   "metadata": {},
   "source": [
    "### 1. Defining and training the IF model"
   ]
  },
  {
   "cell_type": "markdown",
   "metadata": {},
   "source": [
    "The model takes 4 hyperparameters:\n",
    "\n",
    "- contamination: the fraction of expected outliers in the data set\n",
    "- number of estimators: the number of base estimators; number of trees in the forest\n",
    "- max samples: fraction of samples used for each base estimator\n",
    "- max features: fraction of features used for each base estimator"
   ]
  },
  {
   "cell_type": "markdown",
   "metadata": {},
   "source": [
    "``` python\n",
    "!python train.py \\\n",
    "--dataset 'kddcup99' \\\n",
    "--samples 50000 \\\n",
    "--keep_cols \"$cols_str\" \\\n",
    "--contamination .1 \\\n",
    "--n_estimators 100 \\\n",
    "--max_samples .8 \\\n",
    "--max_features 1. \\\n",
    "--save_path './models/'\n",
    "```"
   ]
  },
  {
   "cell_type": "markdown",
   "metadata": {},
   "source": [
    "The model is saved in the folder specified by \"save_path\"."
   ]
  },
  {
   "cell_type": "markdown",
   "metadata": {},
   "source": [
    "### 2. Making predictions"
   ]
  },
  {
   "cell_type": "markdown",
   "metadata": {},
   "source": [
    "In order to make predictions, which can then be served by Seldon Core, the pre-trained model is loaded when defining an OutlierIsolationForest object. The \"threshold\" argument defines below which anomaly score a sample is classified as an outlier. The threshold is a key hyperparameter and needs to be picked carefully for each application."
   ]
  },
  {
   "cell_type": "markdown",
   "metadata": {},
   "source": [
    "``` python\n",
    "class OutlierIsolationForest(object):\n",
    "    \"\"\" Outlier detection using Isolation Forests.\n",
    "    \n",
    "    Arguments:\n",
    "        - threshold (float): anomaly score threshold; scores below threshold are outliers\n",
    "     \n",
    "    Functions:\n",
    "        - predict: detect and return outliers\n",
    "        - send_feedback: add target labels as part of the feedback loop\n",
    "        - metrics: return custom metrics\n",
    "    \"\"\"\n",
    "    def __init__(self,threshold=0.,load_path='./models/'):\n",
    "        \n",
    "        self.threshold = threshold\n",
    "        self.N = 0 # total sample count up until now\n",
    "        \n",
    "        # load pre-trained model\n",
    "        with open(load_path + 'model.pickle', 'rb') as f:\n",
    "            self.clf = pickle.load(f)\n",
    "```"
   ]
  },
  {
   "cell_type": "markdown",
   "metadata": {},
   "source": [
    "The predict method does the actual outlier detection."
   ]
  },
  {
   "cell_type": "markdown",
   "metadata": {},
   "source": [
    "``` python\n",
    "    def predict(self,X,feature_names):\n",
    "        \"\"\" Detect outliers from mse using the threshold. \n",
    "        \n",
    "        Arguments:\n",
    "            - X: input data\n",
    "            - feature_names\n",
    "        \"\"\"\n",
    "```"
   ]
  },
  {
   "cell_type": "markdown",
   "metadata": {},
   "source": [
    "## References"
   ]
  },
  {
   "cell_type": "markdown",
   "metadata": {},
   "source": [
    "Scikit-learn Isolation Forest:\n",
    "- https://scikit-learn.org/stable/modules/generated/sklearn.ensemble.IsolationForest.html"
   ]
  },
  {
   "cell_type": "code",
   "execution_count": null,
   "metadata": {},
   "outputs": [],
   "source": []
  }
 ],
 "metadata": {
  "kernelspec": {
   "display_name": "Python 3",
   "language": "python",
   "name": "python3"
  },
  "language_info": {
   "codemirror_mode": {
    "name": "ipython",
    "version": 3
   },
   "file_extension": ".py",
   "mimetype": "text/x-python",
   "name": "python",
   "nbconvert_exporter": "python",
   "pygments_lexer": "ipython3",
   "version": "3.6.6"
  }
 },
 "nbformat": 4,
 "nbformat_minor": 2
}
