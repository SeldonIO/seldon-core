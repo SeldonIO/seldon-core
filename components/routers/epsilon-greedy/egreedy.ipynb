{
 "cells": [
  {
   "cell_type": "markdown",
   "metadata": {},
   "source": [
    "# e-Greedy Example\n",
    "\n",
    "## Prerequisites\n",
    "\n",
    " * A kubernetes cluster with kubectl configured\n",
    " * curl\n",
    " \n",
    "\n",
    "## Setup Seldon Core\n",
    "\n",
    "Use the setup notebook to [Setup Cluster](https://docs.seldon.io/projects/seldon-core/en/latest/examples/seldon_core_setup.html) to setup Seldon Core with an ingress - either Ambassador or Istio.\n",
    "\n",
    "Then port-forward to that ingress on localhost:8003 in a separate terminal either with:\n",
    "\n",
    " * Ambassador: `kubectl port-forward $(kubectl get pods -n seldon-system -l app.kubernetes.io/name=ambassador -o jsonpath='{.items[0].metadata.name}') -n seldon-system 8003:8080`\n",
    " * Istio: `kubectl port-forward $(kubectl get pods -l istio=ingressgateway -n istio-system -o jsonpath='{.items[0].metadata.name}') -n istio-system 8003:80`"
   ]
  },
  {
   "cell_type": "code",
   "execution_count": 1,
   "metadata": {},
   "outputs": [
    {
     "name": "stdout",
     "output_type": "stream",
     "text": [
      "namespace/seldon created\r\n"
     ]
    }
   ],
   "source": [
    "!kubectl create namespace seldon"
   ]
  },
  {
   "cell_type": "code",
   "execution_count": 2,
   "metadata": {},
   "outputs": [
    {
     "name": "stdout",
     "output_type": "stream",
     "text": [
      "Context \"kind-kind\" modified.\r\n"
     ]
    }
   ],
   "source": [
    "!kubectl config set-context $(kubectl config current-context) --namespace=seldon"
   ]
  },
  {
   "cell_type": "code",
   "execution_count": 7,
   "metadata": {},
   "outputs": [],
   "source": [
    "import json\n",
    "import time"
   ]
  },
  {
   "cell_type": "code",
   "execution_count": 8,
   "metadata": {},
   "outputs": [],
   "source": [
    "from IPython.core.magic import register_line_cell_magic\n",
    "\n",
    "\n",
    "@register_line_cell_magic\n",
    "def writetemplate(line, cell):\n",
    "    with open(line, \"w\") as f:\n",
    "        f.write(cell.format(**globals()))"
   ]
  },
  {
   "cell_type": "code",
   "execution_count": 12,
   "metadata": {},
   "outputs": [
    {
     "data": {
      "text/plain": [
       "'1.6.0-dev'"
      ]
     },
     "execution_count": 12,
     "metadata": {},
     "output_type": "execute_result"
    }
   ],
   "source": [
    "VERSION = !cat ../../../version.txt\n",
    "VERSION = VERSION[0]\n",
    "VERSION"
   ]
  },
  {
   "cell_type": "markdown",
   "metadata": {},
   "source": [
    "## E-Greedy Test"
   ]
  },
  {
   "cell_type": "code",
   "execution_count": 27,
   "metadata": {},
   "outputs": [],
   "source": [
    "%%writetemplate egreedy.yaml\n",
    "apiVersion: machinelearning.seldon.io/v1alpha2\n",
    "kind: SeldonDeployment\n",
    "metadata:\n",
    "  name: egreedy\n",
    "spec:\n",
    "  predictors:\n",
    "  - componentSpecs:\n",
    "    - spec:\n",
    "        containers:\n",
    "        - image: seldonio/mock_classifier:{VERSION}\n",
    "          name: classifier-1\n",
    "        - image: seldonio/mock_classifier:{VERSION}\n",
    "          name: classifier-2\n",
    "        - image: seldonio/mock_classifier:{VERSION}\n",
    "          name: classifier-3\n",
    "        - image: seldonio/mab_epsilon_greedy:{VERSION}\n",
    "          name: eg-router\n",
    "    graph:\n",
    "      children:\n",
    "      - name: classifier-1\n",
    "        type: MODEL\n",
    "      - name: classifier-2\n",
    "        type: MODEL\n",
    "      - name: classifier-3\n",
    "        type: MODEL\n",
    "      name: eg-router\n",
    "      parameters:\n",
    "      - name: n_branches\n",
    "        type: INT\n",
    "        value: '3'\n",
    "      - name: epsilon\n",
    "        type: FLOAT\n",
    "        value: '0.3'\n",
    "      - name: verbose\n",
    "        type: BOOL\n",
    "        value: '1'\n",
    "      type: ROUTER\n",
    "    svcOrchSpec:\n",
    "      env: \n",
    "      - name: SELDON_ENABLE_ROUTING_INJECTION\n",
    "        value: 'true'\n",
    "    name: multi-models-predictor\n",
    "    replicas: 1\n"
   ]
  },
  {
   "cell_type": "code",
   "execution_count": 28,
   "metadata": {},
   "outputs": [
    {
     "name": "stdout",
     "output_type": "stream",
     "text": [
      "seldondeployment.machinelearning.seldon.io/egreedy configured\r\n"
     ]
    }
   ],
   "source": [
    "!kubectl apply -f egreedy.yaml"
   ]
  },
  {
   "cell_type": "code",
   "execution_count": 42,
   "metadata": {},
   "outputs": [
    {
     "name": "stdout",
     "output_type": "stream",
     "text": [
      "deployment \"seldon-82ee46d72f9cced67f54b7d4b2389974\" successfully rolled out\r\n"
     ]
    }
   ],
   "source": [
    "!kubectl rollout status deploy/$(kubectl get deploy -l seldon-deployment-id=egreedy -o jsonpath='{.items[0].metadata.name}')"
   ]
  },
  {
   "cell_type": "code",
   "execution_count": 57,
   "metadata": {},
   "outputs": [],
   "source": [
    "rewards = {0: 0, 1: 1, 2: 0}  # make model 1 the best"
   ]
  },
  {
   "cell_type": "code",
   "execution_count": 60,
   "metadata": {},
   "outputs": [],
   "source": [
    "import requests\n",
    "\n",
    "for i in range(0, 50):\n",
    "    req = {\"data\": {\"ndarray\": [[1.0, 2.0, 5.0]]}}\n",
    "    res_raw = requests.post(\n",
    "        \"http://localhost:8003/seldon/seldon/egreedy/api/v1.0/predictions\", json=req\n",
    "    )\n",
    "    res = res_raw.json()\n",
    "    feedback = {\n",
    "        \"request\": req,\n",
    "        \"response\": res,\n",
    "        \"reward\": rewards[res[\"meta\"][\"routing\"][\"eg-router\"]],\n",
    "    }\n",
    "    res_raw = requests.post(\n",
    "        \"http://localhost:8003/seldon/seldon/egreedy/api/v1.0/feedback\", json=feedback\n",
    "    )\n",
    "    assert res_raw.status_code == 200"
   ]
  },
  {
   "cell_type": "markdown",
   "metadata": {},
   "source": [
    "We should see the best branch is 1"
   ]
  },
  {
   "cell_type": "code",
   "execution_count": 66,
   "metadata": {},
   "outputs": [
    {
     "name": "stdout",
     "output_type": "stream",
     "text": [
      "2021-01-20 11:02:11,759 - EpsilonGreedy:route:116 - INFO:  routing type: <class 'numpy.int64'>\r\n",
      "2021-01-20 11:02:11,784 - EpsilonGreedy:send_feedback:120 - DEBUG:  Sending feedback with reward 1.0 and truth []\r\n",
      "2021-01-20 11:02:11,785 - EpsilonGreedy:send_feedback:121 - DEBUG:  Prev success # [3, 32, 0]\r\n",
      "2021-01-20 11:02:11,785 - EpsilonGreedy:send_feedback:122 - DEBUG:  Prev tries # [13, 38, 9]\r\n",
      "2021-01-20 11:02:11,785 - EpsilonGreedy:send_feedback:123 - DEBUG:  Prev best branch: 1\r\n",
      "2021-01-20 11:02:11,785 - EpsilonGreedy:send_feedback:126 - DEBUG:  n_success: 1, n_failures: 0\r\n",
      "2021-01-20 11:02:11,785 - EpsilonGreedy:send_feedback:139 - DEBUG:  New success # [3, 33, 0]\r\n",
      "2021-01-20 11:02:11,785 - EpsilonGreedy:send_feedback:140 - DEBUG:  New tries # [13, 39, 9]\r\n",
      "2021-01-20 11:02:11,785 - EpsilonGreedy:send_feedback:141 - DEBUG:  Branch values [0.23076923076923078, 0.8461538461538461, 0.0]\r\n",
      "2021-01-20 11:02:11,785 - EpsilonGreedy:send_feedback:142 - DEBUG:  New best branch: 1\r\n"
     ]
    }
   ],
   "source": [
    "!kubectl logs $(kubectl get pods -l seldon-deployment-id=egreedy -o jsonpath='{.items[0].metadata.name}') eg-router --tail=10"
   ]
  },
  {
   "cell_type": "markdown",
   "metadata": {},
   "source": [
    "Lets change the reward to return 1 for the first branch and rerun"
   ]
  },
  {
   "cell_type": "code",
   "execution_count": 67,
   "metadata": {},
   "outputs": [],
   "source": [
    "rewards = {0: 1, 1: 0, 2: 0}  # make model 0 the best"
   ]
  },
  {
   "cell_type": "code",
   "execution_count": 70,
   "metadata": {},
   "outputs": [],
   "source": [
    "import requests\n",
    "\n",
    "for i in range(0, 100):\n",
    "    req = {\"data\": {\"ndarray\": [[1.0, 2.0, 5.0]]}}\n",
    "    res_raw = requests.post(\n",
    "        \"http://localhost:8003/seldon/seldon/egreedy/api/v1.0/predictions\", json=req\n",
    "    )\n",
    "    res = res_raw.json()\n",
    "    feedback = {\n",
    "        \"request\": req,\n",
    "        \"response\": res,\n",
    "        \"reward\": rewards[res[\"meta\"][\"routing\"][\"eg-router\"]],\n",
    "    }\n",
    "    res_raw = requests.post(\n",
    "        \"http://localhost:8003/seldon/seldon/egreedy/api/v1.0/feedback\", json=feedback\n",
    "    )\n",
    "    assert res_raw.status_code == 200"
   ]
  },
  {
   "cell_type": "markdown",
   "metadata": {},
   "source": [
    "Now branch 0 should be the best"
   ]
  },
  {
   "cell_type": "code",
   "execution_count": 71,
   "metadata": {},
   "outputs": [
    {
     "name": "stdout",
     "output_type": "stream",
     "text": [
      "2021-01-20 11:06:22,710 - EpsilonGreedy:route:116 - INFO:  routing type: <class 'int'>\r\n",
      "2021-01-20 11:06:22,723 - EpsilonGreedy:send_feedback:120 - DEBUG:  Sending feedback with reward 0.0 and truth []\r\n",
      "2021-01-20 11:06:22,723 - EpsilonGreedy:send_feedback:121 - DEBUG:  Prev success # [86, 33, 0]\r\n",
      "2021-01-20 11:06:22,723 - EpsilonGreedy:send_feedback:122 - DEBUG:  Prev tries # [96, 83, 31]\r\n",
      "2021-01-20 11:06:22,723 - EpsilonGreedy:send_feedback:123 - DEBUG:  Prev best branch: 0\r\n",
      "2021-01-20 11:06:22,723 - EpsilonGreedy:send_feedback:126 - DEBUG:  n_success: 0, n_failures: 1\r\n",
      "2021-01-20 11:06:22,723 - EpsilonGreedy:send_feedback:139 - DEBUG:  New success # [86, 33, 0]\r\n",
      "2021-01-20 11:06:22,723 - EpsilonGreedy:send_feedback:140 - DEBUG:  New tries # [96, 84, 31]\r\n",
      "2021-01-20 11:06:22,723 - EpsilonGreedy:send_feedback:141 - DEBUG:  Branch values [0.8958333333333334, 0.39285714285714285, 0.0]\r\n",
      "2021-01-20 11:06:22,723 - EpsilonGreedy:send_feedback:142 - DEBUG:  New best branch: 0\r\n"
     ]
    }
   ],
   "source": [
    "!kubectl logs $(kubectl get pods -l seldon-deployment-id=egreedy -o jsonpath='{.items[0].metadata.name}') eg-router --tail=10"
   ]
  },
  {
   "cell_type": "markdown",
   "metadata": {},
   "source": []
  }
 ],
 "metadata": {
  "kernelspec": {
   "display_name": "Python 3",
   "language": "python",
   "name": "python3"
  },
  "language_info": {
   "codemirror_mode": {
    "name": "ipython",
    "version": 3
   },
   "file_extension": ".py",
   "mimetype": "text/x-python",
   "name": "python",
   "nbconvert_exporter": "python",
   "pygments_lexer": "ipython3",
   "version": "3.6.8"
  }
 },
 "nbformat": 4,
 "nbformat_minor": 2
}
