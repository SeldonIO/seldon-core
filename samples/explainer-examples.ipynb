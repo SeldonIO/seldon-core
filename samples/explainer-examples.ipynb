{
 "cells": [
  {
   "cell_type": "markdown",
   "id": "8f9344b4",
   "metadata": {},
   "source": [
    "## Anchor Tabular Explainer for SKLearn Income Model"
   ]
  },
  {
   "cell_type": "code",
   "execution_count": 1,
   "id": "bed5b232",
   "metadata": {},
   "outputs": [
    {
     "name": "stdout",
     "output_type": "stream",
     "text": [
      "apiVersion: mlops.seldon.io/v1alpha1\n",
      "kind: Model\n",
      "metadata:\n",
      "  name: income\n",
      "spec:\n",
      "  storageUri: \"gs://seldon-models/scv2/examples/mlserver_1.2.1/income/classifier\"\n",
      "  requirements:\n",
      "  - sklearn\n"
     ]
    }
   ],
   "source": [
    "!cat ./models/income.yaml"
   ]
  },
  {
   "cell_type": "code",
   "execution_count": 2,
   "id": "e65edf6d",
   "metadata": {},
   "outputs": [
    {
     "name": "stdout",
     "output_type": "stream",
     "text": [
      "{}\n"
     ]
    }
   ],
   "source": [
    "!seldon model load -f ./models/income.yaml"
   ]
  },
  {
   "cell_type": "code",
   "execution_count": 3,
   "id": "b1a65e4f",
   "metadata": {},
   "outputs": [
    {
     "name": "stdout",
     "output_type": "stream",
     "text": [
      "{}\n"
     ]
    }
   ],
   "source": [
    "!seldon model status income -w ModelAvailable"
   ]
  },
  {
   "cell_type": "code",
   "execution_count": 4,
   "id": "1729d991",
   "metadata": {},
   "outputs": [
    {
     "name": "stdout",
     "output_type": "stream",
     "text": [
      "{\n",
      "\t\"model_name\": \"income_1\",\n",
      "\t\"model_version\": \"1\",\n",
      "\t\"id\": \"f1cadfd0-24b8-4dc8-aede-cf3c1dd0973c\",\n",
      "\t\"parameters\": {\n",
      "\t\t\"content_type\": null,\n",
      "\t\t\"headers\": null\n",
      "\t},\n",
      "\t\"outputs\": [\n",
      "\t\t{\n",
      "\t\t\t\"name\": \"predict\",\n",
      "\t\t\t\"shape\": [\n",
      "\t\t\t\t1,\n",
      "\t\t\t\t1\n",
      "\t\t\t],\n",
      "\t\t\t\"datatype\": \"INT64\",\n",
      "\t\t\t\"parameters\": null,\n",
      "\t\t\t\"data\": [\n",
      "\t\t\t\t0\n",
      "\t\t\t]\n",
      "\t\t}\n",
      "\t]\n",
      "}\n"
     ]
    }
   ],
   "source": [
    "!seldon model infer income \\\n",
    "  '{\"inputs\": [{\"name\": \"predict\", \"shape\": [1, 12], \"datatype\": \"FP32\", \"data\": [[47,4,1,1,1,3,4,1,0,0,40,9]]}]}' "
   ]
  },
  {
   "cell_type": "code",
   "execution_count": 5,
   "id": "843a5a70",
   "metadata": {},
   "outputs": [
    {
     "name": "stdout",
     "output_type": "stream",
     "text": [
      "apiVersion: mlops.seldon.io/v1alpha1\n",
      "kind: Model\n",
      "metadata:\n",
      "  name: income-explainer\n",
      "spec:\n",
      "  storageUri: \"gs://seldon-models/scv2/examples/income/explainer\"\n",
      "  explainer:\n",
      "    type: anchor_tabular\n",
      "    modelRef: income\n"
     ]
    }
   ],
   "source": [
    "!cat ./models/income-explainer.yaml"
   ]
  },
  {
   "cell_type": "code",
   "execution_count": 6,
   "id": "73de58f8",
   "metadata": {},
   "outputs": [
    {
     "name": "stdout",
     "output_type": "stream",
     "text": [
      "{}\n"
     ]
    }
   ],
   "source": [
    "!seldon model load -f ./models/income-explainer.yaml"
   ]
  },
  {
   "cell_type": "code",
   "execution_count": 7,
   "id": "10e50de8",
   "metadata": {},
   "outputs": [
    {
     "name": "stdout",
     "output_type": "stream",
     "text": [
      "{}\n"
     ]
    }
   ],
   "source": [
    "!seldon model status income-explainer -w ModelAvailable"
   ]
  },
  {
   "cell_type": "code",
   "execution_count": 8,
   "id": "6191c534",
   "metadata": {},
   "outputs": [
    {
     "name": "stdout",
     "output_type": "stream",
     "text": [
      "{\n",
      "\t\"model_name\": \"income-explainer_1\",\n",
      "\t\"model_version\": \"1\",\n",
      "\t\"id\": \"67460faa-a429-464f-8108-269ae21c024d\",\n",
      "\t\"parameters\": {\n",
      "\t\t\"content_type\": null,\n",
      "\t\t\"headers\": null\n",
      "\t},\n",
      "\t\"outputs\": [\n",
      "\t\t{\n",
      "\t\t\t\"name\": \"explanation\",\n",
      "\t\t\t\"shape\": [\n",
      "\t\t\t\t1,\n",
      "\t\t\t\t1\n",
      "\t\t\t],\n",
      "\t\t\t\"datatype\": \"BYTES\",\n",
      "\t\t\t\"parameters\": {\n",
      "\t\t\t\t\"content_type\": \"str\",\n",
      "\t\t\t\t\"headers\": null\n",
      "\t\t\t},\n",
      "\t\t\t\"data\": [\n",
      "\t\t\t\t\"{\\\"meta\\\": {\\\"name\\\": \\\"AnchorTabular\\\", \\\"type\\\": [\\\"blackbox\\\"], \\\"explanations\\\": [\\\"local\\\"], \\\"params\\\": {\\\"seed\\\": 1, \\\"disc_perc\\\": [25, 50, 75], \\\"threshold\\\": 0.95, \\\"delta\\\": 0.1, \\\"tau\\\": 0.15, \\\"batch_size\\\": 100, \\\"coverage_samples\\\": 10000, \\\"beam_size\\\": 1, \\\"stop_on_first\\\": false, \\\"max_anchor_size\\\": null, \\\"min_samples_start\\\": 100, \\\"n_covered_ex\\\": 10, \\\"binary_cache_size\\\": 10000, \\\"cache_margin\\\": 1000, \\\"verbose\\\": false, \\\"verbose_every\\\": 1, \\\"kwargs\\\": {}}, \\\"version\\\": \\\"0.8.0\\\"}, \\\"data\\\": {\\\"anchor\\\": [\\\"Relationship = Own-child\\\", \\\"Marital Status = Never-Married\\\"], \\\"precision\\\": 0.9666666666666667, \\\"coverage\\\": 0.07165109034267912, \\\"raw\\\": {\\\"feature\\\": [5, 3], \\\"mean\\\": [0.8118811881188119, 0.9666666666666667], \\\"precision\\\": [0.8118811881188119, 0.9666666666666667], \\\"coverage\\\": [0.0787716955941255, 0.07165109034267912], \\\"examples\\\": [{\\\"covered_true\\\": [[26, 4, 1, 1, 5, 3, 4, 0, 0, 0, 40, 9], [47, 4, 1, 0, 7, 3, 4, 1, 0, 0, 40, 8], [25, 4, 1, 1, 7, 3, 4, 0, 0, 0, 20, 9], [26, 2, 1, 1, 4, 3, 4, 1, 0, 0, 40, 9], [38, 4, 1, 2, 8, 3, 4, 1, 0, 0, 55, 9], [26, 4, 1, 0, 8, 3, 4, 0, 0, 0, 55, 9], [52, 4, 1, 0, 8, 3, 4, 1, 0, 0, 55, 9], [49, 5, 1, 2, 5, 3, 4, 1, 6497, 0, 45, 9], [29, 0, 1, 1, 0, 3, 4, 1, 0, 0, 40, 9], [45, 5, 1, 0, 8, 3, 4, 1, 0, 0, 45, 9]], \\\"covered_false\\\": [[74, 6, 1, 3, 2, 3, 4, 1, 15831, 0, 8, 3], [45, 2, 1, 0, 2, 3, 1, 1, 7298, 0, 40, 9], [34, 7, 2, 0, 5, 3, 4, 0, 0, 0, 50, 9], [59, 4, 5, 0, 8, 3, 4, 1, 0, 0, 40, 9], [42, 5, 1, 0, 6, 3, 4, 1, 0, 0, 60, 9], [44, 4, 1, 0, 5, 3, 4, 1, 7688, 0, 40, 9], [46, 5, 1, 0, 6, 3, 4, 1, 0, 1902, 42, 0], [36, 4, 1, 0, 6, 3, 4, 1, 0, 2415, 45, 9], [41, 6, 1, 0, 2, 3, 4, 1, 0, 0, 75, 9], [48, 4, 5, 0, 8, 3, 4, 1, 0, 0, 40, 9]], \\\"uncovered_true\\\": [], \\\"uncovered_false\\\": []}, {\\\"covered_true\\\": [[48, 4, 1, 1, 4, 3, 4, 1, 0, 0, 40, 9], [36, 6, 1, 1, 2, 3, 4, 1, 0, 0, 40, 9], [31, 6, 1, 1, 8, 3, 4, 1, 0, 0, 60, 9], [47, 4, 5, 1, 8, 3, 4, 1, 0, 0, 40, 9], [27, 4, 1, 1, 8, 3, 4, 0, 0, 0, 40, 9], [44, 6, 1, 1, 8, 3, 1, 1, 0, 0, 48, 4], [44, 4, 1, 1, 8, 3, 4, 1, 0, 0, 40, 9], [24, 4, 1, 1, 8, 3, 4, 0, 0, 0, 40, 9], [49, 4, 1, 1, 2, 3, 4, 1, 0, 1902, 40, 9], [35, 4, 5, 1, 8, 3, 1, 1, 0, 0, 65, 2]], \\\"covered_false\\\": [[38, 4, 1, 1, 6, 3, 4, 1, 7298, 0, 40, 9], [41, 6, 5, 1, 8, 3, 4, 1, 7298, 0, 70, 9], [42, 2, 1, 1, 1, 3, 4, 0, 99999, 0, 40, 9], [63, 6, 1, 1, 6, 3, 4, 1, 10605, 0, 40, 9], [44, 5, 1, 1, 8, 3, 4, 1, 99999, 0, 45, 9], [41, 4, 1, 1, 8, 3, 4, 1, 7298, 0, 50, 9]], \\\"uncovered_true\\\": [], \\\"uncovered_false\\\": []}], \\\"all_precision\\\": 0, \\\"num_preds\\\": 1000000, \\\"success\\\": true, \\\"names\\\": [\\\"Relationship = Own-child\\\", \\\"Marital Status = Never-Married\\\"], \\\"prediction\\\": [0], \\\"instance\\\": [47.0, 4.0, 1.0, 1.0, 1.0, 3.0, 4.0, 1.0, 0.0, 0.0, 40.0, 9.0], \\\"instances\\\": [[47.0, 4.0, 1.0, 1.0, 1.0, 3.0, 4.0, 1.0, 0.0, 0.0, 40.0, 9.0]]}}}\"\n",
      "\t\t\t]\n",
      "\t\t}\n",
      "\t]\n",
      "}\n"
     ]
    }
   ],
   "source": [
    "!seldon model infer income-explainer \\\n",
    "  '{\"inputs\": [{\"name\": \"predict\", \"shape\": [1, 12], \"datatype\": \"FP32\", \"data\": [[47,4,1,1,1,3,4,1,0,0,40,9]]}]}'"
   ]
  },
  {
   "cell_type": "code",
   "execution_count": 9,
   "id": "a8d8b077",
   "metadata": {},
   "outputs": [
    {
     "name": "stdout",
     "output_type": "stream",
     "text": [
      "{}\n"
     ]
    }
   ],
   "source": [
    "!seldon model unload income-explainer"
   ]
  },
  {
   "cell_type": "code",
   "execution_count": 10,
   "id": "bce80764",
   "metadata": {},
   "outputs": [
    {
     "name": "stdout",
     "output_type": "stream",
     "text": [
      "{}\n"
     ]
    }
   ],
   "source": [
    "!seldon model unload income"
   ]
  },
  {
   "attachments": {},
   "cell_type": "markdown",
   "id": "167c25aa",
   "metadata": {},
   "source": [
    "## Anchor Text Explainer for SKLearn Movies Sentiment Model"
   ]
  },
  {
   "cell_type": "code",
   "execution_count": 11,
   "id": "cc92f3fb",
   "metadata": {},
   "outputs": [
    {
     "name": "stdout",
     "output_type": "stream",
     "text": [
      "apiVersion: mlops.seldon.io/v1alpha1\n",
      "kind: Model\n",
      "metadata:\n",
      "  name: sentiment\n",
      "spec:\n",
      "  storageUri: \"gs://seldon-models/scv2/examples/moviesentiment/classifier\"\n",
      "  requirements:\n",
      "  - sklearn\n"
     ]
    }
   ],
   "source": [
    "!cat ./models/moviesentiment.yaml"
   ]
  },
  {
   "cell_type": "code",
   "execution_count": 14,
   "id": "179d9d68",
   "metadata": {},
   "outputs": [
    {
     "name": "stdout",
     "output_type": "stream",
     "text": [
      "{}\n"
     ]
    }
   ],
   "source": [
    "!seldon model load -f ./models/moviesentiment.yaml"
   ]
  },
  {
   "cell_type": "code",
   "execution_count": 15,
   "id": "1dce2d5a",
   "metadata": {},
   "outputs": [
    {
     "name": "stdout",
     "output_type": "stream",
     "text": [
      "{}\n"
     ]
    }
   ],
   "source": [
    "!seldon model status sentiment -w ModelAvailable"
   ]
  },
  {
   "cell_type": "code",
   "execution_count": 16,
   "id": "9e82d700",
   "metadata": {},
   "outputs": [
    {
     "name": "stdout",
     "output_type": "stream",
     "text": [
      "{\n",
      "\t\"model_name\": \"sentiment_1\",\n",
      "\t\"model_version\": \"1\",\n",
      "\t\"id\": \"6c514a89-2859-4835-97b0-a73336233726\",\n",
      "\t\"parameters\": {\n",
      "\t\t\"content_type\": null,\n",
      "\t\t\"headers\": null\n",
      "\t},\n",
      "\t\"outputs\": [\n",
      "\t\t{\n",
      "\t\t\t\"name\": \"predict\",\n",
      "\t\t\t\"shape\": [\n",
      "\t\t\t\t1,\n",
      "\t\t\t\t1\n",
      "\t\t\t],\n",
      "\t\t\t\"datatype\": \"INT64\",\n",
      "\t\t\t\"parameters\": null,\n",
      "\t\t\t\"data\": [\n",
      "\t\t\t\t1\n",
      "\t\t\t]\n",
      "\t\t}\n",
      "\t]\n",
      "}\n"
     ]
    }
   ],
   "source": [
    "!seldon model infer sentiment \\\n",
    "  '{\"parameters\": {\"content_type\": \"str\"}, \"inputs\": [{\"name\": \"foo\", \"data\": [\"I am good\"], \"datatype\": \"BYTES\",\"shape\": [1]}]}' "
   ]
  },
  {
   "cell_type": "code",
   "execution_count": 17,
   "id": "120af99f",
   "metadata": {},
   "outputs": [
    {
     "name": "stdout",
     "output_type": "stream",
     "text": [
      "apiVersion: mlops.seldon.io/v1alpha1\n",
      "kind: Model\n",
      "metadata:\n",
      "  name: sentiment-explainer\n",
      "spec:\n",
      "  storageUri: \"gs://seldon-models/scv2/examples/moviesentiment/explainer\"\n",
      "  explainer:\n",
      "    type: anchor_text\n",
      "    modelRef: sentiment\n"
     ]
    }
   ],
   "source": [
    "!cat ./models/moviesentiment-explainer.yaml"
   ]
  },
  {
   "cell_type": "code",
   "execution_count": 18,
   "id": "d8fbec66",
   "metadata": {},
   "outputs": [
    {
     "name": "stdout",
     "output_type": "stream",
     "text": [
      "{}\n"
     ]
    }
   ],
   "source": [
    "!seldon model load -f ./models/moviesentiment-explainer.yaml"
   ]
  },
  {
   "cell_type": "code",
   "execution_count": 19,
   "id": "c21e49f6",
   "metadata": {},
   "outputs": [
    {
     "name": "stdout",
     "output_type": "stream",
     "text": [
      "{}\n"
     ]
    }
   ],
   "source": [
    "!seldon model status sentiment-explainer -w ModelAvailable"
   ]
  },
  {
   "cell_type": "code",
   "execution_count": 20,
   "id": "ed7d4892",
   "metadata": {},
   "outputs": [
    {
     "name": "stdout",
     "output_type": "stream",
     "text": [
      "{\n",
      "\t\"model_name\": \"sentiment-explainer_1\",\n",
      "\t\"model_version\": \"1\",\n",
      "\t\"id\": \"1d5859a9-9d1b-4edc-b1c2-b40f8369c804\",\n",
      "\t\"parameters\": {\n",
      "\t\t\"content_type\": null,\n",
      "\t\t\"headers\": null\n",
      "\t},\n",
      "\t\"outputs\": [\n",
      "\t\t{\n",
      "\t\t\t\"name\": \"explanation\",\n",
      "\t\t\t\"shape\": [\n",
      "\t\t\t\t1,\n",
      "\t\t\t\t1\n",
      "\t\t\t],\n",
      "\t\t\t\"datatype\": \"BYTES\",\n",
      "\t\t\t\"parameters\": {\n",
      "\t\t\t\t\"content_type\": \"str\",\n",
      "\t\t\t\t\"headers\": null\n",
      "\t\t\t},\n",
      "\t\t\t\"data\": [\n",
      "\t\t\t\t\"{\\\"meta\\\": {\\\"name\\\": \\\"AnchorText\\\", \\\"type\\\": [\\\"blackbox\\\"], \\\"explanations\\\": [\\\"local\\\"], \\\"params\\\": {\\\"seed\\\": 0, \\\"sample_proba\\\": 0.5}, \\\"version\\\": \\\"0.9.0\\\"}, \\\"data\\\": {\\\"anchor\\\": [\\\"good\\\"], \\\"precision\\\": 1.0, \\\"coverage\\\": 0.5006, \\\"raw\\\": {\\\"feature\\\": [2], \\\"mean\\\": [1.0], \\\"precision\\\": [1.0], \\\"coverage\\\": [0.5006], \\\"examples\\\": [{\\\"covered_true\\\": [\\\"I UNK good\\\", \\\"I UNK good\\\", \\\"I am good\\\", \\\"I UNK good\\\", \\\"UNK am good\\\", \\\"I UNK good\\\", \\\"UNK UNK good\\\", \\\"I UNK good\\\", \\\"I UNK good\\\", \\\"UNK am good\\\"], \\\"covered_false\\\": [], \\\"uncovered_true\\\": [], \\\"uncovered_false\\\": []}], \\\"all_precision\\\": 0, \\\"num_preds\\\": 1000000, \\\"success\\\": true, \\\"names\\\": [\\\"good\\\"], \\\"positions\\\": [5], \\\"instance\\\": \\\"I am good\\\", \\\"instances\\\": [\\\"I am good\\\"], \\\"prediction\\\": [1]}}}\"\n",
      "\t\t\t]\n",
      "\t\t}\n",
      "\t]\n",
      "}\n"
     ]
    }
   ],
   "source": [
    "!seldon model infer sentiment-explainer \\\n",
    "  '{\"parameters\": {\"content_type\": \"str\"}, \"inputs\": [{\"name\": \"foo\", \"data\": [\"I am good\"], \"datatype\": \"BYTES\",\"shape\": [1]}]}' "
   ]
  },
  {
   "cell_type": "code",
   "execution_count": 21,
   "id": "55e7a86b",
   "metadata": {},
   "outputs": [
    {
     "name": "stdout",
     "output_type": "stream",
     "text": [
      "{}\n"
     ]
    }
   ],
   "source": [
    "!seldon model unload sentiment-explainer"
   ]
  },
  {
   "cell_type": "code",
   "execution_count": 22,
   "id": "4ce494ce",
   "metadata": {},
   "outputs": [
    {
     "name": "stdout",
     "output_type": "stream",
     "text": [
      "{}\n"
     ]
    }
   ],
   "source": [
    "!seldon model unload sentiment"
   ]
  },
  {
   "cell_type": "code",
   "execution_count": null,
   "id": "f40b9791",
   "metadata": {},
   "outputs": [],
   "source": []
  }
 ],
 "metadata": {
  "kernelspec": {
   "display_name": "python3.8-alibi",
   "language": "python",
   "name": "python3"
  },
  "language_info": {
   "codemirror_mode": {
    "name": "ipython",
    "version": 3
   },
   "file_extension": ".py",
   "mimetype": "text/x-python",
   "name": "python",
   "nbconvert_exporter": "python",
   "pygments_lexer": "ipython3",
   "version": "3.8.15"
  },
  "vscode": {
   "interpreter": {
    "hash": "e08638e9ca1552ac93b876f0aeccba35125afc40c35f738854ef3f566228f7ad"
   }
  }
 },
 "nbformat": 4,
 "nbformat_minor": 5
}
