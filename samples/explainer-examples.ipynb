{
 "cells": [
  {
   "cell_type": "markdown",
   "id": "8f9344b4",
   "metadata": {},
   "source": [
    "## Anchor Tabular Explainer for SKLearn Income Model"
   ]
  },
  {
   "cell_type": "code",
   "execution_count": 1,
   "id": "bed5b232",
   "metadata": {},
   "outputs": [
    {
     "name": "stdout",
     "output_type": "stream",
     "text": [
      "apiVersion: mlops.seldon.io/v1alpha1\r\n",
      "kind: Model\r\n",
      "metadata:\r\n",
      "  name: income\r\n",
      "spec:\r\n",
      "  storageUri: \"gs://seldon-models/scv2/examples/mlserver_1.2.3/income/classifier\"\r\n",
      "  requirements:\r\n",
      "  - sklearn\r\n"
     ]
    }
   ],
   "source": [
    "!cat ./models/income.yaml"
   ]
  },
  {
   "cell_type": "code",
   "execution_count": 2,
   "id": "e65edf6d",
   "metadata": {},
   "outputs": [
    {
     "name": "stdout",
     "output_type": "stream",
     "text": [
      "{}\r\n"
     ]
    }
   ],
   "source": [
    "!seldon model load -f ./models/income.yaml"
   ]
  },
  {
   "cell_type": "code",
   "execution_count": 3,
   "id": "b1a65e4f",
   "metadata": {},
   "outputs": [
    {
     "name": "stdout",
     "output_type": "stream",
     "text": [
      "{}\r\n"
     ]
    }
   ],
   "source": [
    "!seldon model status income -w ModelAvailable"
   ]
  },
  {
   "cell_type": "code",
   "execution_count": 4,
   "id": "1729d991",
   "metadata": {},
   "outputs": [
    {
     "name": "stdout",
     "output_type": "stream",
     "text": [
      "{\r\n",
      "\t\"model_name\": \"income_1\",\r\n",
      "\t\"model_version\": \"1\",\r\n",
      "\t\"id\": \"e06e7238-d25f-412c-a3c4-ea77721d660d\",\r\n",
      "\t\"parameters\": {},\r\n",
      "\t\"outputs\": [\r\n",
      "\t\t{\r\n",
      "\t\t\t\"name\": \"predict\",\r\n",
      "\t\t\t\"shape\": [\r\n",
      "\t\t\t\t1,\r\n",
      "\t\t\t\t1\r\n",
      "\t\t\t],\r\n",
      "\t\t\t\"datatype\": \"INT64\",\r\n",
      "\t\t\t\"data\": [\r\n",
      "\t\t\t\t0\r\n",
      "\t\t\t]\r\n",
      "\t\t}\r\n",
      "\t]\r\n",
      "}\r\n"
     ]
    }
   ],
   "source": [
    "!seldon model infer income \\\n",
    "  '{\"inputs\": [{\"name\": \"predict\", \"shape\": [1, 12], \"datatype\": \"FP32\", \"data\": [[47,4,1,1,1,3,4,1,0,0,40,9]]}]}' "
   ]
  },
  {
   "cell_type": "code",
   "execution_count": 5,
   "id": "843a5a70",
   "metadata": {},
   "outputs": [
    {
     "name": "stdout",
     "output_type": "stream",
     "text": [
      "apiVersion: mlops.seldon.io/v1alpha1\r\n",
      "kind: Model\r\n",
      "metadata:\r\n",
      "  name: income-explainer\r\n",
      "spec:\r\n",
      "  storageUri: \"gs://seldon-models/scv2/examples/mlserver_1.2.3/income/explainer\"\r\n",
      "  explainer:\r\n",
      "    type: anchor_tabular\r\n",
      "    modelRef: income\r\n"
     ]
    }
   ],
   "source": [
    "!cat ./models/income-explainer.yaml"
   ]
  },
  {
   "cell_type": "code",
   "execution_count": 6,
   "id": "73de58f8",
   "metadata": {},
   "outputs": [
    {
     "name": "stdout",
     "output_type": "stream",
     "text": [
      "{}\r\n"
     ]
    }
   ],
   "source": [
    "!seldon model load -f ./models/income-explainer.yaml"
   ]
  },
  {
   "cell_type": "code",
   "execution_count": 7,
   "id": "10e50de8",
   "metadata": {},
   "outputs": [
    {
     "name": "stdout",
     "output_type": "stream",
     "text": [
      "{}\r\n"
     ]
    }
   ],
   "source": [
    "!seldon model status income-explainer -w ModelAvailable"
   ]
  },
  {
   "cell_type": "code",
   "execution_count": 8,
   "id": "6191c534",
   "metadata": {},
   "outputs": [
    {
     "name": "stdout",
     "output_type": "stream",
     "text": [
      "{\r\n",
      "\t\"model_name\": \"income-explainer_1\",\r\n",
      "\t\"model_version\": \"1\",\r\n",
      "\t\"id\": \"b8c18f49-3944-4841-8d1d-81585ba40830\",\r\n",
      "\t\"parameters\": {},\r\n",
      "\t\"outputs\": [\r\n",
      "\t\t{\r\n",
      "\t\t\t\"name\": \"explanation\",\r\n",
      "\t\t\t\"shape\": [\r\n",
      "\t\t\t\t1,\r\n",
      "\t\t\t\t1\r\n",
      "\t\t\t],\r\n",
      "\t\t\t\"datatype\": \"BYTES\",\r\n",
      "\t\t\t\"parameters\": {\r\n",
      "\t\t\t\t\"content_type\": \"str\"\r\n",
      "\t\t\t},\r\n",
      "\t\t\t\"data\": [\r\n",
      "\t\t\t\t\"{\\\"meta\\\": {\\\"name\\\": \\\"AnchorTabular\\\", \\\"type\\\": [\\\"blackbox\\\"], \\\"explanations\\\": [\\\"local\\\"], \\\"params\\\": {\\\"seed\\\": 1, \\\"disc_perc\\\": [25, 50, 75], \\\"threshold\\\": 0.95, \\\"delta\\\": 0.1, \\\"tau\\\": 0.15, \\\"batch_size\\\": 100, \\\"coverage_samples\\\": 10000, \\\"beam_size\\\": 1, \\\"stop_on_first\\\": false, \\\"max_anchor_size\\\": null, \\\"min_samples_start\\\": 100, \\\"n_covered_ex\\\": 10, \\\"binary_cache_size\\\": 10000, \\\"cache_margin\\\": 1000, \\\"verbose\\\": false, \\\"verbose_every\\\": 1, \\\"kwargs\\\": {}}, \\\"version\\\": \\\"0.9.0\\\"}, \\\"data\\\": {\\\"anchor\\\": [\\\"Marital Status = Never-Married\\\", \\\"Relationship = Own-child\\\", \\\"Capital Gain <= 0.00\\\"], \\\"precision\\\": 1.0, \\\"coverage\\\": 0.06853582554517133, \\\"raw\\\": {\\\"feature\\\": [3, 5, 8], \\\"mean\\\": [0.8063492063492064, 0.9221902017291066, 1.0], \\\"precision\\\": [0.8063492063492064, 0.9221902017291066, 1.0], \\\"coverage\\\": [0.3037383177570093, 0.07165109034267912, 0.06853582554517133], \\\"examples\\\": [{\\\"covered_true\\\": [[44, 7, 1, 1, 5, 0, 0, 1, 0, 0, 38, 9], [74, 6, 1, 1, 8, 0, 4, 1, 0, 1825, 12, 9], [58, 4, 1, 1, 2, 3, 4, 0, 0, 0, 20, 9], [48, 4, 1, 1, 6, 4, 4, 1, 0, 0, 40, 9], [22, 4, 1, 1, 2, 3, 4, 0, 0, 0, 15, 9], [57, 4, 1, 1, 8, 0, 4, 1, 0, 0, 40, 9], [36, 4, 5, 1, 5, 0, 4, 1, 0, 0, 40, 9], [28, 7, 1, 1, 5, 3, 4, 1, 0, 0, 16, 9], [49, 7, 1, 1, 1, 0, 4, 1, 0, 0, 40, 9], [27, 4, 1, 1, 4, 1, 4, 0, 0, 0, 40, 9]], \\\"covered_false\\\": [[50, 5, 1, 1, 8, 0, 4, 1, 15024, 0, 60, 9], [56, 4, 1, 1, 1, 0, 4, 1, 5178, 0, 44, 9], [50, 5, 2, 1, 5, 0, 4, 1, 15024, 0, 60, 9], [66, 4, 1, 1, 8, 0, 4, 1, 99999, 0, 55, 0], [36, 4, 1, 1, 5, 0, 4, 1, 15024, 0, 50, 9], [59, 4, 5, 1, 8, 0, 4, 1, 0, 0, 45, 9], [36, 4, 1, 1, 6, 0, 4, 1, 0, 1902, 45, 9], [37, 1, 1, 1, 1, 0, 1, 1, 7298, 0, 40, 7], [34, 4, 1, 1, 6, 0, 4, 1, 7298, 0, 60, 9], [52, 2, 5, 1, 5, 1, 4, 1, 0, 0, 32, 9]], \\\"uncovered_true\\\": [], \\\"uncovered_false\\\": []}, {\\\"covered_true\\\": [[33, 4, 1, 1, 8, 3, 4, 1, 0, 0, 50, 9], [76, 4, 1, 1, 5, 3, 4, 0, 0, 0, 20, 9], [46, 4, 1, 1, 8, 3, 4, 1, 0, 0, 53, 9], [31, 5, 1, 1, 8, 3, 4, 1, 0, 0, 55, 9], [39, 4, 1, 1, 6, 3, 4, 1, 3464, 0, 40, 9], [41, 2, 1, 1, 5, 3, 4, 1, 0, 0, 20, 9], [30, 2, 1, 1, 5, 3, 4, 0, 0, 0, 15, 9], [37, 2, 1, 1, 5, 3, 4, 0, 0, 0, 30, 9], [45, 4, 1, 1, 5, 3, 4, 1, 0, 0, 55, 9], [54, 6, 1, 1, 8, 3, 4, 1, 0, 0, 40, 9]], \\\"covered_false\\\": [[50, 4, 5, 1, 6, 3, 4, 1, 15024, 0, 40, 9], [45, 4, 1, 1, 6, 3, 4, 1, 8614, 0, 48, 9], [44, 4, 5, 1, 8, 3, 4, 1, 14084, 0, 56, 9], [39, 5, 1, 1, 8, 3, 4, 1, 7298, 0, 40, 9], [40, 4, 1, 1, 7, 3, 1, 0, 7688, 0, 52, 6], [64, 4, 1, 1, 8, 3, 4, 1, 27828, 0, 55, 9], [62, 5, 1, 1, 6, 3, 4, 1, 99999, 0, 40, 9], [55, 4, 1, 1, 8, 3, 4, 1, 15024, 0, 48, 9], [32, 5, 1, 1, 2, 3, 4, 1, 7688, 0, 50, 9], [39, 4, 1, 1, 8, 3, 4, 1, 99999, 0, 70, 9]], \\\"uncovered_true\\\": [], \\\"uncovered_false\\\": []}, {\\\"covered_true\\\": [[66, 5, 1, 1, 8, 3, 4, 1, 0, 0, 70, 9], [49, 4, 1, 1, 8, 3, 2, 0, 0, 0, 60, 9], [40, 4, 2, 1, 5, 3, 4, 1, 0, 0, 40, 9], [59, 0, 1, 1, 0, 3, 4, 1, 0, 0, 40, 9], [62, 4, 5, 1, 5, 3, 4, 0, 0, 0, 45, 9], [40, 4, 1, 1, 8, 3, 4, 1, 0, 1902, 32, 9], [37, 4, 1, 1, 7, 3, 4, 1, 0, 0, 70, 1], [38, 2, 5, 1, 8, 3, 4, 1, 0, 0, 70, 9], [23, 4, 1, 1, 1, 3, 4, 0, 0, 0, 30, 9], [32, 4, 1, 1, 6, 3, 2, 1, 0, 0, 50, 9]], \\\"covered_false\\\": [], \\\"uncovered_true\\\": [], \\\"uncovered_false\\\": []}], \\\"all_precision\\\": 0, \\\"num_preds\\\": 1000000, \\\"success\\\": true, \\\"names\\\": [\\\"Marital Status = Never-Married\\\", \\\"Relationship = Own-child\\\", \\\"Capital Gain <= 0.00\\\"], \\\"prediction\\\": [0], \\\"instance\\\": [47.0, 4.0, 1.0, 1.0, 1.0, 3.0, 4.0, 1.0, 0.0, 0.0, 40.0, 9.0], \\\"instances\\\": [[47.0, 4.0, 1.0, 1.0, 1.0, 3.0, 4.0, 1.0, 0.0, 0.0, 40.0, 9.0]]}}}\"\r\n",
      "\t\t\t]\r\n",
      "\t\t}\r\n",
      "\t]\r\n",
      "}\r\n"
     ]
    }
   ],
   "source": [
    "!seldon model infer income-explainer \\\n",
    "  '{\"inputs\": [{\"name\": \"predict\", \"shape\": [1, 12], \"datatype\": \"FP32\", \"data\": [[47,4,1,1,1,3,4,1,0,0,40,9]]}]}'"
   ]
  },
  {
   "cell_type": "code",
   "execution_count": 9,
   "id": "a8d8b077",
   "metadata": {},
   "outputs": [
    {
     "name": "stdout",
     "output_type": "stream",
     "text": [
      "{}\r\n"
     ]
    }
   ],
   "source": [
    "!seldon model unload income-explainer"
   ]
  },
  {
   "cell_type": "code",
   "execution_count": 10,
   "id": "bce80764",
   "metadata": {},
   "outputs": [
    {
     "name": "stdout",
     "output_type": "stream",
     "text": [
      "{}\r\n"
     ]
    }
   ],
   "source": [
    "!seldon model unload income"
   ]
  },
  {
   "cell_type": "markdown",
   "id": "167c25aa",
   "metadata": {},
   "source": [
    "## Anchor Text Explainer for SKLearn Movies Sentiment Model"
   ]
  },
  {
   "cell_type": "code",
   "execution_count": 11,
   "id": "cc92f3fb",
   "metadata": {},
   "outputs": [
    {
     "name": "stdout",
     "output_type": "stream",
     "text": [
      "apiVersion: mlops.seldon.io/v1alpha1\n",
      "kind: Model\n",
      "metadata:\n",
      "  name: sentiment\n",
      "spec:\n",
      "  storageUri: \"gs://seldon-models/scv2/examples/moviesentiment/classifier\"\n",
      "  requirements:\n",
      "  - sklearn\n"
     ]
    }
   ],
   "source": [
    "!cat ./models/moviesentiment.yaml"
   ]
  },
  {
   "cell_type": "code",
   "execution_count": 14,
   "id": "179d9d68",
   "metadata": {},
   "outputs": [
    {
     "name": "stdout",
     "output_type": "stream",
     "text": [
      "{}\n"
     ]
    }
   ],
   "source": [
    "!seldon model load -f ./models/moviesentiment.yaml"
   ]
  },
  {
   "cell_type": "code",
   "execution_count": 15,
   "id": "1dce2d5a",
   "metadata": {},
   "outputs": [
    {
     "name": "stdout",
     "output_type": "stream",
     "text": [
      "{}\n"
     ]
    }
   ],
   "source": [
    "!seldon model status sentiment -w ModelAvailable"
   ]
  },
  {
   "cell_type": "code",
   "execution_count": 16,
   "id": "9e82d700",
   "metadata": {},
   "outputs": [
    {
     "name": "stdout",
     "output_type": "stream",
     "text": [
      "{\n",
      "\t\"model_name\": \"sentiment_1\",\n",
      "\t\"model_version\": \"1\",\n",
      "\t\"id\": \"6c514a89-2859-4835-97b0-a73336233726\",\n",
      "\t\"parameters\": {\n",
      "\t\t\"content_type\": null,\n",
      "\t\t\"headers\": null\n",
      "\t},\n",
      "\t\"outputs\": [\n",
      "\t\t{\n",
      "\t\t\t\"name\": \"predict\",\n",
      "\t\t\t\"shape\": [\n",
      "\t\t\t\t1,\n",
      "\t\t\t\t1\n",
      "\t\t\t],\n",
      "\t\t\t\"datatype\": \"INT64\",\n",
      "\t\t\t\"parameters\": null,\n",
      "\t\t\t\"data\": [\n",
      "\t\t\t\t1\n",
      "\t\t\t]\n",
      "\t\t}\n",
      "\t]\n",
      "}\n"
     ]
    }
   ],
   "source": [
    "!seldon model infer sentiment \\\n",
    "  '{\"parameters\": {\"content_type\": \"str\"}, \"inputs\": [{\"name\": \"foo\", \"data\": [\"I am good\"], \"datatype\": \"BYTES\",\"shape\": [1]}]}' "
   ]
  },
  {
   "cell_type": "code",
   "execution_count": 17,
   "id": "120af99f",
   "metadata": {},
   "outputs": [
    {
     "name": "stdout",
     "output_type": "stream",
     "text": [
      "apiVersion: mlops.seldon.io/v1alpha1\n",
      "kind: Model\n",
      "metadata:\n",
      "  name: sentiment-explainer\n",
      "spec:\n",
      "  storageUri: \"gs://seldon-models/scv2/examples/moviesentiment/explainer\"\n",
      "  explainer:\n",
      "    type: anchor_text\n",
      "    modelRef: sentiment\n"
     ]
    }
   ],
   "source": [
    "!cat ./models/moviesentiment-explainer.yaml"
   ]
  },
  {
   "cell_type": "code",
   "execution_count": 18,
   "id": "d8fbec66",
   "metadata": {},
   "outputs": [
    {
     "name": "stdout",
     "output_type": "stream",
     "text": [
      "{}\n"
     ]
    }
   ],
   "source": [
    "!seldon model load -f ./models/moviesentiment-explainer.yaml"
   ]
  },
  {
   "cell_type": "code",
   "execution_count": 19,
   "id": "c21e49f6",
   "metadata": {},
   "outputs": [
    {
     "name": "stdout",
     "output_type": "stream",
     "text": [
      "{}\n"
     ]
    }
   ],
   "source": [
    "!seldon model status sentiment-explainer -w ModelAvailable"
   ]
  },
  {
   "cell_type": "code",
   "execution_count": 20,
   "id": "ed7d4892",
   "metadata": {},
   "outputs": [
    {
     "name": "stdout",
     "output_type": "stream",
     "text": [
      "{\n",
      "\t\"model_name\": \"sentiment-explainer_1\",\n",
      "\t\"model_version\": \"1\",\n",
      "\t\"id\": \"1d5859a9-9d1b-4edc-b1c2-b40f8369c804\",\n",
      "\t\"parameters\": {\n",
      "\t\t\"content_type\": null,\n",
      "\t\t\"headers\": null\n",
      "\t},\n",
      "\t\"outputs\": [\n",
      "\t\t{\n",
      "\t\t\t\"name\": \"explanation\",\n",
      "\t\t\t\"shape\": [\n",
      "\t\t\t\t1,\n",
      "\t\t\t\t1\n",
      "\t\t\t],\n",
      "\t\t\t\"datatype\": \"BYTES\",\n",
      "\t\t\t\"parameters\": {\n",
      "\t\t\t\t\"content_type\": \"str\",\n",
      "\t\t\t\t\"headers\": null\n",
      "\t\t\t},\n",
      "\t\t\t\"data\": [\n",
      "\t\t\t\t\"{\\\"meta\\\": {\\\"name\\\": \\\"AnchorText\\\", \\\"type\\\": [\\\"blackbox\\\"], \\\"explanations\\\": [\\\"local\\\"], \\\"params\\\": {\\\"seed\\\": 0, \\\"sample_proba\\\": 0.5}, \\\"version\\\": \\\"0.9.0\\\"}, \\\"data\\\": {\\\"anchor\\\": [\\\"good\\\"], \\\"precision\\\": 1.0, \\\"coverage\\\": 0.5006, \\\"raw\\\": {\\\"feature\\\": [2], \\\"mean\\\": [1.0], \\\"precision\\\": [1.0], \\\"coverage\\\": [0.5006], \\\"examples\\\": [{\\\"covered_true\\\": [\\\"I UNK good\\\", \\\"I UNK good\\\", \\\"I am good\\\", \\\"I UNK good\\\", \\\"UNK am good\\\", \\\"I UNK good\\\", \\\"UNK UNK good\\\", \\\"I UNK good\\\", \\\"I UNK good\\\", \\\"UNK am good\\\"], \\\"covered_false\\\": [], \\\"uncovered_true\\\": [], \\\"uncovered_false\\\": []}], \\\"all_precision\\\": 0, \\\"num_preds\\\": 1000000, \\\"success\\\": true, \\\"names\\\": [\\\"good\\\"], \\\"positions\\\": [5], \\\"instance\\\": \\\"I am good\\\", \\\"instances\\\": [\\\"I am good\\\"], \\\"prediction\\\": [1]}}}\"\n",
      "\t\t\t]\n",
      "\t\t}\n",
      "\t]\n",
      "}\n"
     ]
    }
   ],
   "source": [
    "!seldon model infer sentiment-explainer \\\n",
    "  '{\"parameters\": {\"content_type\": \"str\"}, \"inputs\": [{\"name\": \"foo\", \"data\": [\"I am good\"], \"datatype\": \"BYTES\",\"shape\": [1]}]}' "
   ]
  },
  {
   "cell_type": "code",
   "execution_count": 21,
   "id": "55e7a86b",
   "metadata": {},
   "outputs": [
    {
     "name": "stdout",
     "output_type": "stream",
     "text": [
      "{}\n"
     ]
    }
   ],
   "source": [
    "!seldon model unload sentiment-explainer"
   ]
  },
  {
   "cell_type": "code",
   "execution_count": 22,
   "id": "4ce494ce",
   "metadata": {},
   "outputs": [
    {
     "name": "stdout",
     "output_type": "stream",
     "text": [
      "{}\n"
     ]
    }
   ],
   "source": [
    "!seldon model unload sentiment"
   ]
  },
  {
   "cell_type": "code",
   "execution_count": null,
   "id": "f40b9791",
   "metadata": {},
   "outputs": [],
   "source": []
  }
 ],
 "metadata": {
  "kernelspec": {
   "display_name": "Python 3 (ipykernel)",
   "language": "python",
   "name": "python3"
  },
  "language_info": {
   "codemirror_mode": {
    "name": "ipython",
    "version": 3
   },
   "file_extension": ".py",
   "mimetype": "text/x-python",
   "name": "python",
   "nbconvert_exporter": "python",
   "pygments_lexer": "ipython3",
   "version": "3.9.13"
  },
  "vscode": {
   "interpreter": {
    "hash": "e08638e9ca1552ac93b876f0aeccba35125afc40c35f738854ef3f566228f7ad"
   }
  }
 },
 "nbformat": 4,
 "nbformat_minor": 5
}
