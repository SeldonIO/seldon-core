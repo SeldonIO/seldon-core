{
 "cells": [
  {
   "cell_type": "markdown",
   "id": "lesbian-springer",
   "metadata": {},
   "source": [
    "## Seldon V2 Pipeline to Pipeline Examples\n",
    "\n",
    "This notebook illustrates a series of Pipelines that are joined together.\n",
    "\n",
    "### Models Used\n",
    "\n",
    " * `gs://seldon-models/triton/simple` an example Triton tensorflow model that takes 2 inputs INPUT0 and INPUT1 and adds them to produce OUTPUT0 and also subtracts INPUT1 from INPUT0 to produce OUTPUT1. See [here](https://github.com/triton-inference-server/server/tree/main/docs/examples/model_repository/simple) for the original source code and license.\n",
    " * Other models can be found at https://github.com/SeldonIO/triton-python-examples"
   ]
  },
  {
   "cell_type": "markdown",
   "id": "running-antarctica",
   "metadata": {},
   "source": [
    "### Pipeline pulling from one other Pipeline\n",
    "\n",
    "![pipeline-to-pipeline](img_pipeline1.jpg)\n"
   ]
  },
  {
   "cell_type": "code",
   "execution_count": 241,
   "id": "0f2ab2a3",
   "metadata": {},
   "outputs": [
    {
     "name": "stdout",
     "output_type": "stream",
     "text": [
      "apiVersion: mlops.seldon.io/v1alpha1\n",
      "kind: Model\n",
      "metadata:\n",
      "  name: tfsimple1\n",
      "spec:\n",
      "  storageUri: \"gs://seldon-models/triton/simple\"\n",
      "  requirements:\n",
      "  - tensorflow\n",
      "  memory: 100Ki\n",
      "apiVersion: mlops.seldon.io/v1alpha1\n",
      "kind: Model\n",
      "metadata:\n",
      "  name: tfsimple2\n",
      "spec:\n",
      "  storageUri: \"gs://seldon-models/triton/simple\"\n",
      "  requirements:\n",
      "  - tensorflow\n",
      "  memory: 100Ki\n"
     ]
    }
   ],
   "source": [
    "!cat ./models/tfsimple1.yaml\n",
    "!cat ./models/tfsimple2.yaml"
   ]
  },
  {
   "cell_type": "code",
   "execution_count": 242,
   "id": "f9e073d7",
   "metadata": {},
   "outputs": [
    {
     "name": "stdout",
     "output_type": "stream",
     "text": [
      "{}\n",
      "{}\n"
     ]
    }
   ],
   "source": [
    "!seldon model load -f ./models/tfsimple1.yaml \n",
    "!seldon model load -f ./models/tfsimple2.yaml "
   ]
  },
  {
   "cell_type": "code",
   "execution_count": 243,
   "id": "997b4028",
   "metadata": {},
   "outputs": [
    {
     "name": "stdout",
     "output_type": "stream",
     "text": [
      "{}\n",
      "{}\n"
     ]
    }
   ],
   "source": [
    "!seldon model status tfsimple1 -w ModelAvailable | jq -M .\n",
    "!seldon model status tfsimple2 -w ModelAvailable | jq -M ."
   ]
  },
  {
   "cell_type": "code",
   "execution_count": 244,
   "id": "3d017ede",
   "metadata": {},
   "outputs": [
    {
     "name": "stdout",
     "output_type": "stream",
     "text": [
      "apiVersion: mlops.seldon.io/v1alpha1\r\n",
      "kind: Pipeline\r\n",
      "metadata:\r\n",
      "  name: tfsimple\r\n",
      "spec:\r\n",
      "  steps:\r\n",
      "    - name: tfsimple1\r\n",
      "  output:\r\n",
      "    steps:\r\n",
      "    - tfsimple1\r\n"
     ]
    }
   ],
   "source": [
    "!cat ./pipelines/tfsimple.yaml"
   ]
  },
  {
   "cell_type": "code",
   "execution_count": 245,
   "id": "following-winning",
   "metadata": {},
   "outputs": [
    {
     "name": "stdout",
     "output_type": "stream",
     "text": [
      "{}\r\n"
     ]
    }
   ],
   "source": [
    "!seldon pipeline load -f ./pipelines/tfsimple.yaml"
   ]
  },
  {
   "cell_type": "code",
   "execution_count": 246,
   "id": "artistic-kentucky",
   "metadata": {},
   "outputs": [
    {
     "name": "stdout",
     "output_type": "stream",
     "text": [
      "{\r\n",
      "  \"pipelineName\": \"tfsimple\",\r\n",
      "  \"versions\": [\r\n",
      "    {\r\n",
      "      \"pipeline\": {\r\n",
      "        \"name\": \"tfsimple\",\r\n",
      "        \"uid\": \"cecrig30nmls73b73kg0\",\r\n",
      "        \"version\": 1,\r\n",
      "        \"steps\": [\r\n",
      "          {\r\n",
      "            \"name\": \"tfsimple1\"\r\n",
      "          }\r\n",
      "        ],\r\n",
      "        \"output\": {\r\n",
      "          \"steps\": [\r\n",
      "            \"tfsimple1.outputs\"\r\n",
      "          ]\r\n",
      "        },\r\n",
      "        \"kubernetesMeta\": {}\r\n",
      "      },\r\n",
      "      \"state\": {\r\n",
      "        \"pipelineVersion\": 1,\r\n",
      "        \"status\": \"PipelineReady\",\r\n",
      "        \"reason\": \"created pipeline\",\r\n",
      "        \"lastChangeTimestamp\": \"2022-12-14T11:53:36.535618227Z\",\r\n",
      "        \"modelsReady\": true\r\n",
      "      }\r\n",
      "    }\r\n",
      "  ]\r\n",
      "}\r\n"
     ]
    }
   ],
   "source": [
    "!seldon pipeline status tfsimple -w PipelineReady| jq -M ."
   ]
  },
  {
   "cell_type": "code",
   "execution_count": 247,
   "id": "87f10a5c",
   "metadata": {},
   "outputs": [
    {
     "name": "stdout",
     "output_type": "stream",
     "text": [
      "{\r\n",
      "  \"model_name\": \"\",\r\n",
      "  \"outputs\": [\r\n",
      "    {\r\n",
      "      \"data\": [\r\n",
      "        2,\r\n",
      "        4,\r\n",
      "        6,\r\n",
      "        8,\r\n",
      "        10,\r\n",
      "        12,\r\n",
      "        14,\r\n",
      "        16,\r\n",
      "        18,\r\n",
      "        20,\r\n",
      "        22,\r\n",
      "        24,\r\n",
      "        26,\r\n",
      "        28,\r\n",
      "        30,\r\n",
      "        32\r\n",
      "      ],\r\n",
      "      \"name\": \"OUTPUT0\",\r\n",
      "      \"shape\": [\r\n",
      "        1,\r\n",
      "        16\r\n",
      "      ],\r\n",
      "      \"datatype\": \"INT32\"\r\n",
      "    },\r\n",
      "    {\r\n",
      "      \"data\": [\r\n",
      "        0,\r\n",
      "        0,\r\n",
      "        0,\r\n",
      "        0,\r\n",
      "        0,\r\n",
      "        0,\r\n",
      "        0,\r\n",
      "        0,\r\n",
      "        0,\r\n",
      "        0,\r\n",
      "        0,\r\n",
      "        0,\r\n",
      "        0,\r\n",
      "        0,\r\n",
      "        0,\r\n",
      "        0\r\n",
      "      ],\r\n",
      "      \"name\": \"OUTPUT1\",\r\n",
      "      \"shape\": [\r\n",
      "        1,\r\n",
      "        16\r\n",
      "      ],\r\n",
      "      \"datatype\": \"INT32\"\r\n",
      "    }\r\n",
      "  ]\r\n",
      "}\r\n"
     ]
    }
   ],
   "source": [
    "!seldon pipeline infer tfsimple \\\n",
    "    '{\"inputs\":[{\"name\":\"INPUT0\",\"data\":[1,2,3,4,5,6,7,8,9,10,11,12,13,14,15,16],\"datatype\":\"INT32\",\"shape\":[1,16]},{\"name\":\"INPUT1\",\"data\":[1,2,3,4,5,6,7,8,9,10,11,12,13,14,15,16],\"datatype\":\"INT32\",\"shape\":[1,16]}]}' | jq -M ."
   ]
  },
  {
   "cell_type": "code",
   "execution_count": 248,
   "id": "00575d89",
   "metadata": {},
   "outputs": [
    {
     "name": "stdout",
     "output_type": "stream",
     "text": [
      "apiVersion: mlops.seldon.io/v1alpha1\r\n",
      "kind: Pipeline\r\n",
      "metadata:\r\n",
      "  name: tfsimple-extended\r\n",
      "spec:\r\n",
      "  input:\r\n",
      "    externalInputs:\r\n",
      "      - tfsimple.outputs\r\n",
      "    tensorMap:\r\n",
      "      tfsimple.outputs.OUTPUT0: INPUT0\r\n",
      "      tfsimple.outputs.OUTPUT1: INPUT1\r\n",
      "  steps:\r\n",
      "    - name: tfsimple2\r\n",
      "  output:\r\n",
      "    steps:\r\n",
      "    - tfsimple2\r\n"
     ]
    }
   ],
   "source": [
    "!cat ./pipelines/tfsimple-extended.yaml"
   ]
  },
  {
   "cell_type": "code",
   "execution_count": 249,
   "id": "8fcd8947",
   "metadata": {},
   "outputs": [
    {
     "name": "stdout",
     "output_type": "stream",
     "text": [
      "{}\r\n"
     ]
    }
   ],
   "source": [
    "!seldon pipeline load -f ./pipelines/tfsimple-extended.yaml"
   ]
  },
  {
   "cell_type": "code",
   "execution_count": 250,
   "id": "5a69008c",
   "metadata": {},
   "outputs": [
    {
     "name": "stdout",
     "output_type": "stream",
     "text": [
      "{\r\n",
      "  \"pipelineName\": \"tfsimple-extended\",\r\n",
      "  \"versions\": [\r\n",
      "    {\r\n",
      "      \"pipeline\": {\r\n",
      "        \"name\": \"tfsimple-extended\",\r\n",
      "        \"uid\": \"cecrihb0nmls73b73kgg\",\r\n",
      "        \"version\": 1,\r\n",
      "        \"steps\": [\r\n",
      "          {\r\n",
      "            \"name\": \"tfsimple2\"\r\n",
      "          }\r\n",
      "        ],\r\n",
      "        \"output\": {\r\n",
      "          \"steps\": [\r\n",
      "            \"tfsimple2.outputs\"\r\n",
      "          ]\r\n",
      "        },\r\n",
      "        \"kubernetesMeta\": {},\r\n",
      "        \"input\": {\r\n",
      "          \"externalInputs\": [\r\n",
      "            \"tfsimple.outputs\"\r\n",
      "          ],\r\n",
      "          \"tensorMap\": {\r\n",
      "            \"tfsimple.outputs.OUTPUT0\": \"INPUT0\",\r\n",
      "            \"tfsimple.outputs.OUTPUT1\": \"INPUT1\"\r\n",
      "          }\r\n",
      "        }\r\n",
      "      },\r\n",
      "      \"state\": {\r\n",
      "        \"pipelineVersion\": 1,\r\n",
      "        \"status\": \"PipelineReady\",\r\n",
      "        \"reason\": \"created pipeline\",\r\n",
      "        \"lastChangeTimestamp\": \"2022-12-14T11:53:41.567680282Z\",\r\n",
      "        \"modelsReady\": true\r\n",
      "      }\r\n",
      "    }\r\n",
      "  ]\r\n",
      "}\r\n"
     ]
    }
   ],
   "source": [
    "!seldon pipeline status tfsimple-extended -w PipelineReady| jq -M ."
   ]
  },
  {
   "cell_type": "code",
   "execution_count": 251,
   "id": "e7e19259",
   "metadata": {},
   "outputs": [
    {
     "name": "stdout",
     "output_type": "stream",
     "text": [
      "{\r\n",
      "\t\"model_name\": \"\",\r\n",
      "\t\"outputs\": [\r\n",
      "\t\t{\r\n",
      "\t\t\t\"data\": [\r\n",
      "\t\t\t\t2,\r\n",
      "\t\t\t\t4,\r\n",
      "\t\t\t\t6,\r\n",
      "\t\t\t\t8,\r\n",
      "\t\t\t\t10,\r\n",
      "\t\t\t\t12,\r\n",
      "\t\t\t\t14,\r\n",
      "\t\t\t\t16,\r\n",
      "\t\t\t\t18,\r\n",
      "\t\t\t\t20,\r\n",
      "\t\t\t\t22,\r\n",
      "\t\t\t\t24,\r\n",
      "\t\t\t\t26,\r\n",
      "\t\t\t\t28,\r\n",
      "\t\t\t\t30,\r\n",
      "\t\t\t\t32\r\n",
      "\t\t\t],\r\n",
      "\t\t\t\"name\": \"OUTPUT0\",\r\n",
      "\t\t\t\"shape\": [\r\n",
      "\t\t\t\t1,\r\n",
      "\t\t\t\t16\r\n",
      "\t\t\t],\r\n",
      "\t\t\t\"datatype\": \"INT32\"\r\n",
      "\t\t},\r\n",
      "\t\t{\r\n",
      "\t\t\t\"data\": [\r\n",
      "\t\t\t\t0,\r\n",
      "\t\t\t\t0,\r\n",
      "\t\t\t\t0,\r\n",
      "\t\t\t\t0,\r\n",
      "\t\t\t\t0,\r\n",
      "\t\t\t\t0,\r\n",
      "\t\t\t\t0,\r\n",
      "\t\t\t\t0,\r\n",
      "\t\t\t\t0,\r\n",
      "\t\t\t\t0,\r\n",
      "\t\t\t\t0,\r\n",
      "\t\t\t\t0,\r\n",
      "\t\t\t\t0,\r\n",
      "\t\t\t\t0,\r\n",
      "\t\t\t\t0,\r\n",
      "\t\t\t\t0\r\n",
      "\t\t\t],\r\n",
      "\t\t\t\"name\": \"OUTPUT1\",\r\n",
      "\t\t\t\"shape\": [\r\n",
      "\t\t\t\t1,\r\n",
      "\t\t\t\t16\r\n",
      "\t\t\t],\r\n",
      "\t\t\t\"datatype\": \"INT32\"\r\n",
      "\t\t}\r\n",
      "\t]\r\n",
      "}\r\n"
     ]
    }
   ],
   "source": [
    "!seldon pipeline infer tfsimple \\\n",
    "    '{\"inputs\":[{\"name\":\"INPUT0\",\"data\":[1,2,3,4,5,6,7,8,9,10,11,12,13,14,15,16],\"datatype\":\"INT32\",\"shape\":[1,16]},{\"name\":\"INPUT1\",\"data\":[1,2,3,4,5,6,7,8,9,10,11,12,13,14,15,16],\"datatype\":\"INT32\",\"shape\":[1,16]}]}' "
   ]
  },
  {
   "cell_type": "code",
   "execution_count": 253,
   "id": "7281ab34",
   "metadata": {},
   "outputs": [
    {
     "name": "stdout",
     "output_type": "stream",
     "text": [
      "seldon.default.model.tfsimple1.inputs\tcecrii7igtes73c78c3g\t{\"inputs\":[{\"name\":\"INPUT0\", \"datatype\":\"INT32\", \"shape\":[\"1\", \"16\"], \"contents\":{\"intContents\":[1, 2, 3, 4, 5, 6, 7, 8, 9, 10, 11, 12, 13, 14, 15, 16]}}, {\"name\":\"INPUT1\", \"datatype\":\"INT32\", \"shape\":[\"1\", \"16\"], \"contents\":{\"intContents\":[1, 2, 3, 4, 5, 6, 7, 8, 9, 10, 11, 12, 13, 14, 15, 16]}}]}\t\tx-envoy-expected-rq-timeout-ms=[60000]\tx-forwarded-proto=[http]\tpipeline=[tfsimple]\ttraceparent=[00-d8cc8473a6554e149c4a738654e92e25-9006f5af1aa03ad2-01]\r\n",
      "seldon.default.model.tfsimple1.outputs\tcecrii7igtes73c78c3g\t{\"modelName\":\"tfsimple1_1\", \"modelVersion\":\"1\", \"outputs\":[{\"name\":\"OUTPUT0\", \"datatype\":\"INT32\", \"shape\":[\"1\", \"16\"], \"contents\":{\"intContents\":[2, 4, 6, 8, 10, 12, 14, 16, 18, 20, 22, 24, 26, 28, 30, 32]}}, {\"name\":\"OUTPUT1\", \"datatype\":\"INT32\", \"shape\":[\"1\", \"16\"], \"contents\":{\"intContents\":[0, 0, 0, 0, 0, 0, 0, 0, 0, 0, 0, 0, 0, 0, 0, 0]}}]}\t\tpipeline=[tfsimple]\tx-envoy-upstream-service-time=[0]\tx-seldon-route=[:tfsimple1_1:]\tx-request-id=[cecrii0iavkc73dmvg7g]\ttraceparent=[00-d8cc8473a6554e149c4a738654e92e25-bc489a21816b4de6-01]\tx-envoy-expected-rq-timeout-ms=[60000]\tx-forwarded-proto=[http]\r\n",
      "seldon.default.pipeline.tfsimple.inputs\tcecrii7igtes73c78c3g\t{\"inputs\":[{\"name\":\"INPUT0\", \"datatype\":\"INT32\", \"shape\":[\"1\", \"16\"], \"contents\":{\"intContents\":[1, 2, 3, 4, 5, 6, 7, 8, 9, 10, 11, 12, 13, 14, 15, 16]}}, {\"name\":\"INPUT1\", \"datatype\":\"INT32\", \"shape\":[\"1\", \"16\"], \"contents\":{\"intContents\":[1, 2, 3, 4, 5, 6, 7, 8, 9, 10, 11, 12, 13, 14, 15, 16]}}]}\t\ttraceparent=[00-d8cc8473a6554e149c4a738654e92e25-09ec163358b20783-01]\tx-envoy-expected-rq-timeout-ms=[60000]\tx-forwarded-proto=[http]\tpipeline=[tfsimple]\r\n",
      "seldon.default.pipeline.tfsimple.outputs\tcecrii7igtes73c78c3g\t{\"outputs\":[{\"name\":\"OUTPUT0\", \"datatype\":\"INT32\", \"shape\":[\"1\", \"16\"], \"contents\":{\"intContents\":[2, 4, 6, 8, 10, 12, 14, 16, 18, 20, 22, 24, 26, 28, 30, 32]}}, {\"name\":\"OUTPUT1\", \"datatype\":\"INT32\", \"shape\":[\"1\", \"16\"], \"contents\":{\"intContents\":[0, 0, 0, 0, 0, 0, 0, 0, 0, 0, 0, 0, 0, 0, 0, 0]}}]}\t\tx-forwarded-proto=[http]\tx-envoy-upstream-service-time=[0]\tx-seldon-route=[:tfsimple1_1:]\tx-request-id=[cecrii0iavkc73dmvg7g]\tpipeline=[tfsimple]\ttraceparent=[00-d8cc8473a6554e149c4a738654e92e25-31fc61535669cf1f-01]\tx-envoy-expected-rq-timeout-ms=[60000]\r\n"
     ]
    }
   ],
   "source": [
    "!seldon pipeline inspect tfsimple --verbose"
   ]
  },
  {
   "cell_type": "code",
   "execution_count": 254,
   "id": "46db0594",
   "metadata": {},
   "outputs": [
    {
     "name": "stdout",
     "output_type": "stream",
     "text": [
      "seldon.default.model.tfsimple2.inputs\tcecrii7igtes73c78c3g\t{\"inputs\":[{\"name\":\"INPUT0\", \"datatype\":\"INT32\", \"shape\":[\"1\", \"16\"], \"contents\":{\"intContents\":[2, 4, 6, 8, 10, 12, 14, 16, 18, 20, 22, 24, 26, 28, 30, 32]}}, {\"name\":\"INPUT1\", \"datatype\":\"INT32\", \"shape\":[\"1\", \"16\"], \"contents\":{\"intContents\":[0, 0, 0, 0, 0, 0, 0, 0, 0, 0, 0, 0, 0, 0, 0, 0]}}], \"rawInputContents\":[\"AgAAAAQAAAAGAAAACAAAAAoAAAAMAAAADgAAABAAAAASAAAAFAAAABYAAAAYAAAAGgAAABwAAAAeAAAAIAAAAA==\", \"AAAAAAAAAAAAAAAAAAAAAAAAAAAAAAAAAAAAAAAAAAAAAAAAAAAAAAAAAAAAAAAAAAAAAAAAAAAAAAAAAAAAAA==\"]}\t\tx-envoy-expected-rq-timeout-ms=[60000]\tx-forwarded-proto=[http]\tx-envoy-upstream-service-time=[0]\tx-seldon-route=[:tfsimple1_1:]\tx-request-id=[cecrii0iavkc73dmvg7g]\tpipeline=[tfsimple-extended]\ttraceparent=[00-d8cc8473a6554e149c4a738654e92e25-e65a4b9b597a33ba-01]\r\n",
      "seldon.default.model.tfsimple2.outputs\tcecrii7igtes73c78c3g\t{\"modelName\":\"tfsimple2_1\", \"modelVersion\":\"1\", \"outputs\":[{\"name\":\"OUTPUT0\", \"datatype\":\"INT32\", \"shape\":[\"1\", \"16\"], \"contents\":{\"intContents\":[2, 4, 6, 8, 10, 12, 14, 16, 18, 20, 22, 24, 26, 28, 30, 32]}}, {\"name\":\"OUTPUT1\", \"datatype\":\"INT32\", \"shape\":[\"1\", \"16\"], \"contents\":{\"intContents\":[2, 4, 6, 8, 10, 12, 14, 16, 18, 20, 22, 24, 26, 28, 30, 32]}}]}\t\tx-envoy-expected-rq-timeout-ms=[60000]\tx-forwarded-proto=[http]\tx-envoy-upstream-service-time=[0 1]\tx-seldon-route=[:tfsimple1_1: :tfsimple2_1:]\tx-request-id=[cecrii0iavkc73dmvg7g]\tpipeline=[tfsimple-extended]\ttraceparent=[00-d8cc8473a6554e149c4a738654e92e25-2f1c33dae54c2d65-01]\r\n",
      "seldon.default.pipeline.tfsimple-extended.inputs\tcecrii7igtes73c78c3g\t{\"inputs\":[{\"name\":\"INPUT0\", \"datatype\":\"INT32\", \"shape\":[\"1\", \"16\"], \"contents\":{\"intContents\":[2, 4, 6, 8, 10, 12, 14, 16, 18, 20, 22, 24, 26, 28, 30, 32]}}, {\"name\":\"INPUT1\", \"datatype\":\"INT32\", \"shape\":[\"1\", \"16\"], \"contents\":{\"intContents\":[0, 0, 0, 0, 0, 0, 0, 0, 0, 0, 0, 0, 0, 0, 0, 0]}}], \"rawInputContents\":[\"AgAAAAQAAAAGAAAACAAAAAoAAAAMAAAADgAAABAAAAASAAAAFAAAABYAAAAYAAAAGgAAABwAAAAeAAAAIAAAAA==\", \"AAAAAAAAAAAAAAAAAAAAAAAAAAAAAAAAAAAAAAAAAAAAAAAAAAAAAAAAAAAAAAAAAAAAAAAAAAAAAAAAAAAAAA==\"]}\t\tx-forwarded-proto=[http]\tx-envoy-upstream-service-time=[0]\tx-seldon-route=[:tfsimple1_1:]\tx-request-id=[cecrii0iavkc73dmvg7g]\tpipeline=[tfsimple-extended]\ttraceparent=[00-d8cc8473a6554e149c4a738654e92e25-4f4bd84b19a75095-01]\tx-envoy-expected-rq-timeout-ms=[60000]\r\n",
      "seldon.default.pipeline.tfsimple-extended.outputs\tcecrii7igtes73c78c3g\t{\"outputs\":[{\"name\":\"OUTPUT0\", \"datatype\":\"INT32\", \"shape\":[\"1\", \"16\"], \"contents\":{\"intContents\":[2, 4, 6, 8, 10, 12, 14, 16, 18, 20, 22, 24, 26, 28, 30, 32]}}, {\"name\":\"OUTPUT1\", \"datatype\":\"INT32\", \"shape\":[\"1\", \"16\"], \"contents\":{\"intContents\":[2, 4, 6, 8, 10, 12, 14, 16, 18, 20, 22, 24, 26, 28, 30, 32]}}]}\t\tx-envoy-upstream-service-time=[0 1]\tx-seldon-route=[:tfsimple1_1: :tfsimple2_1:]\tx-request-id=[cecrii0iavkc73dmvg7g]\tpipeline=[tfsimple-extended]\ttraceparent=[00-d8cc8473a6554e149c4a738654e92e25-29936337574a42e6-01]\tx-envoy-expected-rq-timeout-ms=[60000]\tx-forwarded-proto=[http]\r\n"
     ]
    }
   ],
   "source": [
    "!seldon pipeline inspect tfsimple-extended --verbose"
   ]
  },
  {
   "cell_type": "code",
   "execution_count": 255,
   "id": "dimensional-hours",
   "metadata": {},
   "outputs": [
    {
     "name": "stdout",
     "output_type": "stream",
     "text": [
      "{}\n",
      "{}\n"
     ]
    }
   ],
   "source": [
    "!seldon pipeline unload tfsimple-extended\n",
    "!seldon pipeline unload tfsimple"
   ]
  },
  {
   "cell_type": "code",
   "execution_count": 256,
   "id": "outside-inspiration",
   "metadata": {},
   "outputs": [
    {
     "name": "stdout",
     "output_type": "stream",
     "text": [
      "{}\n",
      "{}\n"
     ]
    }
   ],
   "source": [
    "!seldon model unload tfsimple1\n",
    "!seldon model unload tfsimple2"
   ]
  },
  {
   "cell_type": "markdown",
   "id": "0ab97940",
   "metadata": {},
   "source": [
    "### Pipeline pulling from two other Pipelines\n",
    "\n",
    "![pipeline-to-pipeline](img_pipeline2.jpg)\n"
   ]
  },
  {
   "cell_type": "code",
   "execution_count": 257,
   "id": "dbbd6dc9",
   "metadata": {},
   "outputs": [
    {
     "name": "stdout",
     "output_type": "stream",
     "text": [
      "apiVersion: mlops.seldon.io/v1alpha1\n",
      "kind: Model\n",
      "metadata:\n",
      "  name: tfsimple1\n",
      "spec:\n",
      "  storageUri: \"gs://seldon-models/triton/simple\"\n",
      "  requirements:\n",
      "  - tensorflow\n",
      "  memory: 100Ki\n",
      "apiVersion: mlops.seldon.io/v1alpha1\n",
      "kind: Model\n",
      "metadata:\n",
      "  name: tfsimple2\n",
      "spec:\n",
      "  storageUri: \"gs://seldon-models/triton/simple\"\n",
      "  requirements:\n",
      "  - tensorflow\n",
      "  memory: 100Ki\n"
     ]
    }
   ],
   "source": [
    "!cat ./models/tfsimple1.yaml\n",
    "!cat ./models/tfsimple2.yaml"
   ]
  },
  {
   "cell_type": "code",
   "execution_count": 258,
   "id": "fe6ce429",
   "metadata": {},
   "outputs": [
    {
     "name": "stdout",
     "output_type": "stream",
     "text": [
      "{}\n",
      "{}\n"
     ]
    }
   ],
   "source": [
    "!seldon model load -f ./models/tfsimple1.yaml \n",
    "!seldon model load -f ./models/tfsimple2.yaml "
   ]
  },
  {
   "cell_type": "code",
   "execution_count": 259,
   "id": "068cb022",
   "metadata": {},
   "outputs": [
    {
     "name": "stdout",
     "output_type": "stream",
     "text": [
      "{}\n",
      "{}\n"
     ]
    }
   ],
   "source": [
    "!seldon model status tfsimple1 -w ModelAvailable | jq -M .\n",
    "!seldon model status tfsimple2 -w ModelAvailable | jq -M ."
   ]
  },
  {
   "cell_type": "code",
   "execution_count": 260,
   "id": "0677f86c",
   "metadata": {},
   "outputs": [
    {
     "name": "stdout",
     "output_type": "stream",
     "text": [
      "apiVersion: mlops.seldon.io/v1alpha1\r\n",
      "kind: Pipeline\r\n",
      "metadata:\r\n",
      "  name: tfsimple\r\n",
      "spec:\r\n",
      "  steps:\r\n",
      "    - name: tfsimple1\r\n",
      "  output:\r\n",
      "    steps:\r\n",
      "    - tfsimple1\r\n"
     ]
    }
   ],
   "source": [
    "!cat ./pipelines/tfsimple.yaml"
   ]
  },
  {
   "cell_type": "code",
   "execution_count": 261,
   "id": "be0c8462",
   "metadata": {},
   "outputs": [
    {
     "name": "stdout",
     "output_type": "stream",
     "text": [
      "{}\r\n"
     ]
    }
   ],
   "source": [
    "!seldon pipeline load -f ./pipelines/tfsimple.yaml"
   ]
  },
  {
   "cell_type": "code",
   "execution_count": 262,
   "id": "b89d8e0f",
   "metadata": {},
   "outputs": [
    {
     "name": "stdout",
     "output_type": "stream",
     "text": [
      "{\r\n",
      "  \"pipelineName\": \"tfsimple\",\r\n",
      "  \"versions\": [\r\n",
      "    {\r\n",
      "      \"pipeline\": {\r\n",
      "        \"name\": \"tfsimple\",\r\n",
      "        \"uid\": \"cecrivr0nmls73b73kh0\",\r\n",
      "        \"version\": 1,\r\n",
      "        \"steps\": [\r\n",
      "          {\r\n",
      "            \"name\": \"tfsimple1\"\r\n",
      "          }\r\n",
      "        ],\r\n",
      "        \"output\": {\r\n",
      "          \"steps\": [\r\n",
      "            \"tfsimple1.outputs\"\r\n",
      "          ]\r\n",
      "        },\r\n",
      "        \"kubernetesMeta\": {}\r\n",
      "      },\r\n",
      "      \"state\": {\r\n",
      "        \"pipelineVersion\": 1,\r\n",
      "        \"status\": \"PipelineReady\",\r\n",
      "        \"reason\": \"created pipeline\",\r\n",
      "        \"lastChangeTimestamp\": \"2022-12-14T11:54:39.247614694Z\",\r\n",
      "        \"modelsReady\": true\r\n",
      "      }\r\n",
      "    }\r\n",
      "  ]\r\n",
      "}\r\n"
     ]
    }
   ],
   "source": [
    "!seldon pipeline status tfsimple -w PipelineReady| jq -M ."
   ]
  },
  {
   "cell_type": "code",
   "execution_count": 263,
   "id": "b1f333d6",
   "metadata": {},
   "outputs": [
    {
     "name": "stdout",
     "output_type": "stream",
     "text": [
      "{\r\n",
      "  \"model_name\": \"\",\r\n",
      "  \"outputs\": [\r\n",
      "    {\r\n",
      "      \"data\": [\r\n",
      "        2,\r\n",
      "        4,\r\n",
      "        6,\r\n",
      "        8,\r\n",
      "        10,\r\n",
      "        12,\r\n",
      "        14,\r\n",
      "        16,\r\n",
      "        18,\r\n",
      "        20,\r\n",
      "        22,\r\n",
      "        24,\r\n",
      "        26,\r\n",
      "        28,\r\n",
      "        30,\r\n",
      "        32\r\n",
      "      ],\r\n",
      "      \"name\": \"OUTPUT0\",\r\n",
      "      \"shape\": [\r\n",
      "        1,\r\n",
      "        16\r\n",
      "      ],\r\n",
      "      \"datatype\": \"INT32\"\r\n",
      "    },\r\n",
      "    {\r\n",
      "      \"data\": [\r\n",
      "        0,\r\n",
      "        0,\r\n",
      "        0,\r\n",
      "        0,\r\n",
      "        0,\r\n",
      "        0,\r\n",
      "        0,\r\n",
      "        0,\r\n",
      "        0,\r\n",
      "        0,\r\n",
      "        0,\r\n",
      "        0,\r\n",
      "        0,\r\n",
      "        0,\r\n",
      "        0,\r\n",
      "        0\r\n",
      "      ],\r\n",
      "      \"name\": \"OUTPUT1\",\r\n",
      "      \"shape\": [\r\n",
      "        1,\r\n",
      "        16\r\n",
      "      ],\r\n",
      "      \"datatype\": \"INT32\"\r\n",
      "    }\r\n",
      "  ]\r\n",
      "}\r\n"
     ]
    }
   ],
   "source": [
    "!seldon pipeline infer tfsimple \\\n",
    "    '{\"inputs\":[{\"name\":\"INPUT0\",\"data\":[1,2,3,4,5,6,7,8,9,10,11,12,13,14,15,16],\"datatype\":\"INT32\",\"shape\":[1,16]},{\"name\":\"INPUT1\",\"data\":[1,2,3,4,5,6,7,8,9,10,11,12,13,14,15,16],\"datatype\":\"INT32\",\"shape\":[1,16]}]}' | jq -M ."
   ]
  },
  {
   "cell_type": "code",
   "execution_count": 264,
   "id": "b52f2c54",
   "metadata": {},
   "outputs": [
    {
     "name": "stdout",
     "output_type": "stream",
     "text": [
      "apiVersion: mlops.seldon.io/v1alpha1\n",
      "kind: Pipeline\n",
      "metadata:\n",
      "  name: tfsimple-extended\n",
      "spec:\n",
      "  input:\n",
      "    externalInputs:\n",
      "      - tfsimple.outputs\n",
      "    tensorMap:\n",
      "      tfsimple.outputs.OUTPUT0: INPUT0\n",
      "      tfsimple.outputs.OUTPUT1: INPUT1\n",
      "  steps:\n",
      "    - name: tfsimple2\n",
      "  output:\n",
      "    steps:\n",
      "    - tfsimple2\n",
      "---\n",
      "apiVersion: mlops.seldon.io/v1alpha1\n",
      "kind: Pipeline\n",
      "metadata:\n",
      "  name: tfsimple-extended2\n",
      "spec:\n",
      "  input:\n",
      "    externalInputs:\n",
      "      - tfsimple.outputs\n",
      "    tensorMap:\n",
      "      tfsimple.outputs.OUTPUT0: INPUT0\n",
      "      tfsimple.outputs.OUTPUT1: INPUT1\n",
      "  steps:\n",
      "    - name: tfsimple2\n",
      "  output:\n",
      "    steps:\n",
      "    - tfsimple2\n",
      "---\n",
      "apiVersion: mlops.seldon.io/v1alpha1\n",
      "kind: Pipeline\n",
      "metadata:\n",
      "  name: tfsimple-combined\n",
      "spec:\n",
      "  input:\n",
      "    externalInputs:\n",
      "      - tfsimple-extended.outputs.OUTPUT0\n",
      "      - tfsimple-extended2.outputs.OUTPUT1\n",
      "    tensorMap:\n",
      "      tfsimple-extended.outputs.OUTPUT0: INPUT0\n",
      "      tfsimple-extended2.outputs.OUTPUT1: INPUT1\n",
      "  steps:\n",
      "    - name: tfsimple2\n",
      "  output:\n",
      "    steps:\n",
      "    - tfsimple2\n"
     ]
    }
   ],
   "source": [
    "!cat ./pipelines/tfsimple-extended.yaml\n",
    "!echo \"---\"\n",
    "!cat ./pipelines/tfsimple-extended2.yaml\n",
    "!echo \"---\"\n",
    "!cat ./pipelines/tfsimple-combined.yaml"
   ]
  },
  {
   "cell_type": "code",
   "execution_count": 265,
   "id": "9192d9ef",
   "metadata": {},
   "outputs": [
    {
     "name": "stdout",
     "output_type": "stream",
     "text": [
      "{}\n",
      "{}\n",
      "{}\n"
     ]
    }
   ],
   "source": [
    "!seldon pipeline load -f ./pipelines/tfsimple-extended.yaml\n",
    "!seldon pipeline load -f ./pipelines/tfsimple-extended2.yaml\n",
    "!seldon pipeline load -f ./pipelines/tfsimple-combined.yaml"
   ]
  },
  {
   "cell_type": "code",
   "execution_count": 266,
   "id": "71f4a5aa",
   "metadata": {},
   "outputs": [
    {
     "name": "stdout",
     "output_type": "stream",
     "text": [
      "{\"pipelineName\":\"tfsimple-extended\", \"versions\":[{\"pipeline\":{\"name\":\"tfsimple-extended\", \"uid\":\"cecrj1r0nmls73b73khg\", \"version\":1, \"steps\":[{\"name\":\"tfsimple2\"}], \"output\":{\"steps\":[\"tfsimple2.outputs\"]}, \"kubernetesMeta\":{}, \"input\":{\"externalInputs\":[\"tfsimple.outputs\"], \"tensorMap\":{\"tfsimple.outputs.OUTPUT0\":\"INPUT0\", \"tfsimple.outputs.OUTPUT1\":\"INPUT1\"}}}, \"state\":{\"pipelineVersion\":1, \"status\":\"PipelineReady\", \"reason\":\"created pipeline\", \"lastChangeTimestamp\":\"2022-12-14T11:54:47.250505Z\", \"modelsReady\":true}}]}\n",
      "{\"pipelineName\":\"tfsimple-extended2\", \"versions\":[{\"pipeline\":{\"name\":\"tfsimple-extended2\", \"uid\":\"cecrj1r0nmls73b73ki0\", \"version\":1, \"steps\":[{\"name\":\"tfsimple2\"}], \"output\":{\"steps\":[\"tfsimple2.outputs\"]}, \"kubernetesMeta\":{}, \"input\":{\"externalInputs\":[\"tfsimple.outputs\"], \"tensorMap\":{\"tfsimple.outputs.OUTPUT0\":\"INPUT0\", \"tfsimple.outputs.OUTPUT1\":\"INPUT1\"}}}, \"state\":{\"pipelineVersion\":1, \"status\":\"PipelineReady\", \"reason\":\"created pipeline\", \"lastChangeTimestamp\":\"2022-12-14T11:54:47.462376526Z\", \"modelsReady\":true}}]}\n",
      "{\"pipelineName\":\"tfsimple-combined\", \"versions\":[{\"pipeline\":{\"name\":\"tfsimple-combined\", \"uid\":\"cecrj1r0nmls73b73kig\", \"version\":1, \"steps\":[{\"name\":\"tfsimple2\"}], \"output\":{\"steps\":[\"tfsimple2.outputs\"]}, \"kubernetesMeta\":{}, \"input\":{\"externalInputs\":[\"tfsimple-extended.outputs.OUTPUT0\", \"tfsimple-extended2.outputs.OUTPUT1\"], \"tensorMap\":{\"tfsimple-extended.outputs.OUTPUT0\":\"INPUT0\", \"tfsimple-extended2.outputs.OUTPUT1\":\"INPUT1\"}}}, \"state\":{\"pipelineVersion\":1, \"status\":\"PipelineReady\", \"reason\":\"created pipeline\", \"lastChangeTimestamp\":\"2022-12-14T11:54:47.986862969Z\", \"modelsReady\":true}}]}\n"
     ]
    }
   ],
   "source": [
    "!seldon pipeline status tfsimple-extended -w PipelineReady\n",
    "!seldon pipeline status tfsimple-extended2 -w PipelineReady\n",
    "!seldon pipeline status tfsimple-combined -w PipelineReady"
   ]
  },
  {
   "cell_type": "code",
   "execution_count": 267,
   "id": "b703e8d7",
   "metadata": {},
   "outputs": [
    {
     "name": "stdout",
     "output_type": "stream",
     "text": [
      "{\r\n",
      "\t\"model_name\": \"\",\r\n",
      "\t\"outputs\": [\r\n",
      "\t\t{\r\n",
      "\t\t\t\"data\": [\r\n",
      "\t\t\t\t2,\r\n",
      "\t\t\t\t4,\r\n",
      "\t\t\t\t6,\r\n",
      "\t\t\t\t8,\r\n",
      "\t\t\t\t10,\r\n",
      "\t\t\t\t12,\r\n",
      "\t\t\t\t14,\r\n",
      "\t\t\t\t16,\r\n",
      "\t\t\t\t18,\r\n",
      "\t\t\t\t20,\r\n",
      "\t\t\t\t22,\r\n",
      "\t\t\t\t24,\r\n",
      "\t\t\t\t26,\r\n",
      "\t\t\t\t28,\r\n",
      "\t\t\t\t30,\r\n",
      "\t\t\t\t32\r\n",
      "\t\t\t],\r\n",
      "\t\t\t\"name\": \"OUTPUT0\",\r\n",
      "\t\t\t\"shape\": [\r\n",
      "\t\t\t\t1,\r\n",
      "\t\t\t\t16\r\n",
      "\t\t\t],\r\n",
      "\t\t\t\"datatype\": \"INT32\"\r\n",
      "\t\t},\r\n",
      "\t\t{\r\n",
      "\t\t\t\"data\": [\r\n",
      "\t\t\t\t0,\r\n",
      "\t\t\t\t0,\r\n",
      "\t\t\t\t0,\r\n",
      "\t\t\t\t0,\r\n",
      "\t\t\t\t0,\r\n",
      "\t\t\t\t0,\r\n",
      "\t\t\t\t0,\r\n",
      "\t\t\t\t0,\r\n",
      "\t\t\t\t0,\r\n",
      "\t\t\t\t0,\r\n",
      "\t\t\t\t0,\r\n",
      "\t\t\t\t0,\r\n",
      "\t\t\t\t0,\r\n",
      "\t\t\t\t0,\r\n",
      "\t\t\t\t0,\r\n",
      "\t\t\t\t0\r\n",
      "\t\t\t],\r\n",
      "\t\t\t\"name\": \"OUTPUT1\",\r\n",
      "\t\t\t\"shape\": [\r\n",
      "\t\t\t\t1,\r\n",
      "\t\t\t\t16\r\n",
      "\t\t\t],\r\n",
      "\t\t\t\"datatype\": \"INT32\"\r\n",
      "\t\t}\r\n",
      "\t]\r\n",
      "}\r\n"
     ]
    }
   ],
   "source": [
    "!seldon pipeline infer tfsimple \\\n",
    "    '{\"inputs\":[{\"name\":\"INPUT0\",\"data\":[1,2,3,4,5,6,7,8,9,10,11,12,13,14,15,16],\"datatype\":\"INT32\",\"shape\":[1,16]},{\"name\":\"INPUT1\",\"data\":[1,2,3,4,5,6,7,8,9,10,11,12,13,14,15,16],\"datatype\":\"INT32\",\"shape\":[1,16]}]}' "
   ]
  },
  {
   "cell_type": "code",
   "execution_count": 268,
   "id": "5f0acd99",
   "metadata": {},
   "outputs": [
    {
     "name": "stdout",
     "output_type": "stream",
     "text": [
      "seldon.default.model.tfsimple1.inputs\tcecrj2figtes73c78c4g\t{\"inputs\":[{\"name\":\"INPUT0\", \"datatype\":\"INT32\", \"shape\":[\"1\", \"16\"], \"contents\":{\"intContents\":[1, 2, 3, 4, 5, 6, 7, 8, 9, 10, 11, 12, 13, 14, 15, 16]}}, {\"name\":\"INPUT1\", \"datatype\":\"INT32\", \"shape\":[\"1\", \"16\"], \"contents\":{\"intContents\":[1, 2, 3, 4, 5, 6, 7, 8, 9, 10, 11, 12, 13, 14, 15, 16]}}]}\r\n",
      "seldon.default.model.tfsimple1.outputs\tcecrj2figtes73c78c4g\t{\"modelName\":\"tfsimple1_1\", \"modelVersion\":\"1\", \"outputs\":[{\"name\":\"OUTPUT0\", \"datatype\":\"INT32\", \"shape\":[\"1\", \"16\"], \"contents\":{\"intContents\":[2, 4, 6, 8, 10, 12, 14, 16, 18, 20, 22, 24, 26, 28, 30, 32]}}, {\"name\":\"OUTPUT1\", \"datatype\":\"INT32\", \"shape\":[\"1\", \"16\"], \"contents\":{\"intContents\":[0, 0, 0, 0, 0, 0, 0, 0, 0, 0, 0, 0, 0, 0, 0, 0]}}]}\r\n",
      "seldon.default.pipeline.tfsimple.inputs\tcecrj2figtes73c78c4g\t{\"inputs\":[{\"name\":\"INPUT0\", \"datatype\":\"INT32\", \"shape\":[\"1\", \"16\"], \"contents\":{\"intContents\":[1, 2, 3, 4, 5, 6, 7, 8, 9, 10, 11, 12, 13, 14, 15, 16]}}, {\"name\":\"INPUT1\", \"datatype\":\"INT32\", \"shape\":[\"1\", \"16\"], \"contents\":{\"intContents\":[1, 2, 3, 4, 5, 6, 7, 8, 9, 10, 11, 12, 13, 14, 15, 16]}}]}\r\n",
      "seldon.default.pipeline.tfsimple.outputs\tcecrj2figtes73c78c4g\t{\"outputs\":[{\"name\":\"OUTPUT0\", \"datatype\":\"INT32\", \"shape\":[\"1\", \"16\"], \"contents\":{\"intContents\":[2, 4, 6, 8, 10, 12, 14, 16, 18, 20, 22, 24, 26, 28, 30, 32]}}, {\"name\":\"OUTPUT1\", \"datatype\":\"INT32\", \"shape\":[\"1\", \"16\"], \"contents\":{\"intContents\":[0, 0, 0, 0, 0, 0, 0, 0, 0, 0, 0, 0, 0, 0, 0, 0]}}]}\r\n"
     ]
    }
   ],
   "source": [
    "!seldon pipeline inspect tfsimple"
   ]
  },
  {
   "cell_type": "code",
   "execution_count": 269,
   "id": "a4d9470a",
   "metadata": {},
   "outputs": [
    {
     "name": "stdout",
     "output_type": "stream",
     "text": [
      "seldon.default.model.tfsimple2.inputs\tcecrj2figtes73c78c4g\t{\"inputs\":[{\"name\":\"INPUT0\", \"datatype\":\"INT32\", \"shape\":[\"1\", \"16\"], \"contents\":{\"intContents\":[2, 4, 6, 8, 10, 12, 14, 16, 18, 20, 22, 24, 26, 28, 30, 32]}}, {\"name\":\"INPUT1\", \"datatype\":\"INT32\", \"shape\":[\"1\", \"16\"], \"contents\":{\"intContents\":[2, 4, 6, 8, 10, 12, 14, 16, 18, 20, 22, 24, 26, 28, 30, 32]}}], \"rawInputContents\":[\"AgAAAAQAAAAGAAAACAAAAAoAAAAMAAAADgAAABAAAAASAAAAFAAAABYAAAAYAAAAGgAAABwAAAAeAAAAIAAAAA==\", \"AgAAAAQAAAAGAAAACAAAAAoAAAAMAAAADgAAABAAAAASAAAAFAAAABYAAAAYAAAAGgAAABwAAAAeAAAAIAAAAA==\"]}\r\n",
      "seldon.default.model.tfsimple2.outputs\tcecrj2figtes73c78c4g\t{\"modelName\":\"tfsimple2_1\", \"modelVersion\":\"1\", \"outputs\":[{\"name\":\"OUTPUT0\", \"datatype\":\"INT32\", \"shape\":[\"1\", \"16\"], \"contents\":{\"intContents\":[4, 8, 12, 16, 20, 24, 28, 32, 36, 40, 44, 48, 52, 56, 60, 64]}}, {\"name\":\"OUTPUT1\", \"datatype\":\"INT32\", \"shape\":[\"1\", \"16\"], \"contents\":{\"intContents\":[0, 0, 0, 0, 0, 0, 0, 0, 0, 0, 0, 0, 0, 0, 0, 0]}}]}\r\n",
      "seldon.default.pipeline.tfsimple-extended.inputs\tcecrj2figtes73c78c4g\t{\"inputs\":[{\"name\":\"INPUT0\", \"datatype\":\"INT32\", \"shape\":[\"1\", \"16\"], \"contents\":{\"intContents\":[2, 4, 6, 8, 10, 12, 14, 16, 18, 20, 22, 24, 26, 28, 30, 32]}}, {\"name\":\"INPUT1\", \"datatype\":\"INT32\", \"shape\":[\"1\", \"16\"], \"contents\":{\"intContents\":[0, 0, 0, 0, 0, 0, 0, 0, 0, 0, 0, 0, 0, 0, 0, 0]}}], \"rawInputContents\":[\"AgAAAAQAAAAGAAAACAAAAAoAAAAMAAAADgAAABAAAAASAAAAFAAAABYAAAAYAAAAGgAAABwAAAAeAAAAIAAAAA==\", \"AAAAAAAAAAAAAAAAAAAAAAAAAAAAAAAAAAAAAAAAAAAAAAAAAAAAAAAAAAAAAAAAAAAAAAAAAAAAAAAAAAAAAA==\"]}\r\n",
      "seldon.default.pipeline.tfsimple-extended.outputs\tcecrj2figtes73c78c4g\t{\"outputs\":[{\"name\":\"OUTPUT0\", \"datatype\":\"INT32\", \"shape\":[\"1\", \"16\"], \"contents\":{\"intContents\":[2, 4, 6, 8, 10, 12, 14, 16, 18, 20, 22, 24, 26, 28, 30, 32]}}, {\"name\":\"OUTPUT1\", \"datatype\":\"INT32\", \"shape\":[\"1\", \"16\"], \"contents\":{\"intContents\":[2, 4, 6, 8, 10, 12, 14, 16, 18, 20, 22, 24, 26, 28, 30, 32]}}]}\r\n"
     ]
    }
   ],
   "source": [
    "!seldon pipeline inspect tfsimple-extended"
   ]
  },
  {
   "cell_type": "code",
   "execution_count": 270,
   "id": "68dbbe10",
   "metadata": {},
   "outputs": [
    {
     "name": "stdout",
     "output_type": "stream",
     "text": [
      "seldon.default.model.tfsimple2.inputs\tcecrj2figtes73c78c4g\t{\"inputs\":[{\"name\":\"INPUT0\", \"datatype\":\"INT32\", \"shape\":[\"1\", \"16\"], \"contents\":{\"intContents\":[2, 4, 6, 8, 10, 12, 14, 16, 18, 20, 22, 24, 26, 28, 30, 32]}}, {\"name\":\"INPUT1\", \"datatype\":\"INT32\", \"shape\":[\"1\", \"16\"], \"contents\":{\"intContents\":[2, 4, 6, 8, 10, 12, 14, 16, 18, 20, 22, 24, 26, 28, 30, 32]}}], \"rawInputContents\":[\"AgAAAAQAAAAGAAAACAAAAAoAAAAMAAAADgAAABAAAAASAAAAFAAAABYAAAAYAAAAGgAAABwAAAAeAAAAIAAAAA==\", \"AgAAAAQAAAAGAAAACAAAAAoAAAAMAAAADgAAABAAAAASAAAAFAAAABYAAAAYAAAAGgAAABwAAAAeAAAAIAAAAA==\"]}\r\n",
      "seldon.default.model.tfsimple2.outputs\tcecrj2figtes73c78c4g\t{\"modelName\":\"tfsimple2_1\", \"modelVersion\":\"1\", \"outputs\":[{\"name\":\"OUTPUT0\", \"datatype\":\"INT32\", \"shape\":[\"1\", \"16\"], \"contents\":{\"intContents\":[4, 8, 12, 16, 20, 24, 28, 32, 36, 40, 44, 48, 52, 56, 60, 64]}}, {\"name\":\"OUTPUT1\", \"datatype\":\"INT32\", \"shape\":[\"1\", \"16\"], \"contents\":{\"intContents\":[0, 0, 0, 0, 0, 0, 0, 0, 0, 0, 0, 0, 0, 0, 0, 0]}}]}\r\n",
      "seldon.default.pipeline.tfsimple-extended2.inputs\tcecrj2figtes73c78c4g\t{\"inputs\":[{\"name\":\"INPUT0\", \"datatype\":\"INT32\", \"shape\":[\"1\", \"16\"], \"contents\":{\"intContents\":[2, 4, 6, 8, 10, 12, 14, 16, 18, 20, 22, 24, 26, 28, 30, 32]}}, {\"name\":\"INPUT1\", \"datatype\":\"INT32\", \"shape\":[\"1\", \"16\"], \"contents\":{\"intContents\":[0, 0, 0, 0, 0, 0, 0, 0, 0, 0, 0, 0, 0, 0, 0, 0]}}], \"rawInputContents\":[\"AgAAAAQAAAAGAAAACAAAAAoAAAAMAAAADgAAABAAAAASAAAAFAAAABYAAAAYAAAAGgAAABwAAAAeAAAAIAAAAA==\", \"AAAAAAAAAAAAAAAAAAAAAAAAAAAAAAAAAAAAAAAAAAAAAAAAAAAAAAAAAAAAAAAAAAAAAAAAAAAAAAAAAAAAAA==\"]}\r\n",
      "seldon.default.pipeline.tfsimple-extended2.outputs\tcecrj2figtes73c78c4g\t{\"outputs\":[{\"name\":\"OUTPUT0\", \"datatype\":\"INT32\", \"shape\":[\"1\", \"16\"], \"contents\":{\"intContents\":[2, 4, 6, 8, 10, 12, 14, 16, 18, 20, 22, 24, 26, 28, 30, 32]}}, {\"name\":\"OUTPUT1\", \"datatype\":\"INT32\", \"shape\":[\"1\", \"16\"], \"contents\":{\"intContents\":[2, 4, 6, 8, 10, 12, 14, 16, 18, 20, 22, 24, 26, 28, 30, 32]}}]}\r\n"
     ]
    }
   ],
   "source": [
    "!seldon pipeline inspect tfsimple-extended2"
   ]
  },
  {
   "cell_type": "code",
   "execution_count": 271,
   "id": "c9f16d37",
   "metadata": {},
   "outputs": [
    {
     "name": "stdout",
     "output_type": "stream",
     "text": [
      "seldon.default.model.tfsimple2.inputs\tcecrj2figtes73c78c4g\t{\"inputs\":[{\"name\":\"INPUT0\", \"datatype\":\"INT32\", \"shape\":[\"1\", \"16\"], \"contents\":{\"intContents\":[2, 4, 6, 8, 10, 12, 14, 16, 18, 20, 22, 24, 26, 28, 30, 32]}}, {\"name\":\"INPUT1\", \"datatype\":\"INT32\", \"shape\":[\"1\", \"16\"], \"contents\":{\"intContents\":[2, 4, 6, 8, 10, 12, 14, 16, 18, 20, 22, 24, 26, 28, 30, 32]}}], \"rawInputContents\":[\"AgAAAAQAAAAGAAAACAAAAAoAAAAMAAAADgAAABAAAAASAAAAFAAAABYAAAAYAAAAGgAAABwAAAAeAAAAIAAAAA==\", \"AgAAAAQAAAAGAAAACAAAAAoAAAAMAAAADgAAABAAAAASAAAAFAAAABYAAAAYAAAAGgAAABwAAAAeAAAAIAAAAA==\"]}\t\tx-envoy-upstream-service-time=[1]\tx-seldon-route=[:tfsimple1_1: :tfsimple2_1:]\tx-request-id=[cecrj28iavkc73dmvg9g]\tpipeline=[tfsimple-combined]\ttraceparent=[00-d1efb7128b0104e45899ce24383f567f-536d569bd501e083-01]\tx-envoy-expected-rq-timeout-ms=[60000]\tx-forwarded-proto=[http]\r\n",
      "seldon.default.model.tfsimple2.outputs\tcecrj2figtes73c78c4g\t{\"modelName\":\"tfsimple2_1\", \"modelVersion\":\"1\", \"outputs\":[{\"name\":\"OUTPUT0\", \"datatype\":\"INT32\", \"shape\":[\"1\", \"16\"], \"contents\":{\"intContents\":[4, 8, 12, 16, 20, 24, 28, 32, 36, 40, 44, 48, 52, 56, 60, 64]}}, {\"name\":\"OUTPUT1\", \"datatype\":\"INT32\", \"shape\":[\"1\", \"16\"], \"contents\":{\"intContents\":[0, 0, 0, 0, 0, 0, 0, 0, 0, 0, 0, 0, 0, 0, 0, 0]}}]}\t\tx-envoy-expected-rq-timeout-ms=[60000]\tx-forwarded-proto=[http]\tx-envoy-upstream-service-time=[1]\tx-seldon-route=[:tfsimple1_1: :tfsimple2_1:]\tx-request-id=[cecrj28iavkc73dmvg9g]\tpipeline=[tfsimple-combined]\ttraceparent=[00-d1efb7128b0104e45899ce24383f567f-e4e3f79ae060dc87-01]\r\n",
      "seldon.default.pipeline.tfsimple-combined.inputs\tcecrj2figtes73c78c4g\t{\"inputs\":[{\"name\":\"INPUT0\", \"datatype\":\"INT32\", \"shape\":[\"1\", \"16\"], \"contents\":{\"intContents\":[2, 4, 6, 8, 10, 12, 14, 16, 18, 20, 22, 24, 26, 28, 30, 32]}}, {\"name\":\"INPUT1\", \"datatype\":\"INT32\", \"shape\":[\"1\", \"16\"], \"contents\":{\"intContents\":[2, 4, 6, 8, 10, 12, 14, 16, 18, 20, 22, 24, 26, 28, 30, 32]}}], \"rawInputContents\":[\"AgAAAAQAAAAGAAAACAAAAAoAAAAMAAAADgAAABAAAAASAAAAFAAAABYAAAAYAAAAGgAAABwAAAAeAAAAIAAAAA==\", \"AgAAAAQAAAAGAAAACAAAAAoAAAAMAAAADgAAABAAAAASAAAAFAAAABYAAAAYAAAAGgAAABwAAAAeAAAAIAAAAA==\"]}\t\tx-forwarded-proto=[http]\tx-envoy-upstream-service-time=[1]\tx-seldon-route=[:tfsimple1_1: :tfsimple2_1:]\tx-request-id=[cecrj28iavkc73dmvg9g]\tpipeline=[tfsimple-combined]\ttraceparent=[00-d1efb7128b0104e45899ce24383f567f-cca85cfe4ac46fdb-01]\tx-envoy-expected-rq-timeout-ms=[60000]\r\n",
      "seldon.default.pipeline.tfsimple-combined.outputs\tcecrj2figtes73c78c4g\t{\"outputs\":[{\"name\":\"OUTPUT0\", \"datatype\":\"INT32\", \"shape\":[\"1\", \"16\"], \"contents\":{\"intContents\":[4, 8, 12, 16, 20, 24, 28, 32, 36, 40, 44, 48, 52, 56, 60, 64]}}, {\"name\":\"OUTPUT1\", \"datatype\":\"INT32\", \"shape\":[\"1\", \"16\"], \"contents\":{\"intContents\":[0, 0, 0, 0, 0, 0, 0, 0, 0, 0, 0, 0, 0, 0, 0, 0]}}]}\t\tx-forwarded-proto=[http]\tx-envoy-upstream-service-time=[1]\tx-seldon-route=[:tfsimple1_1: :tfsimple2_1:]\tx-request-id=[cecrj28iavkc73dmvg9g]\tpipeline=[tfsimple-combined]\ttraceparent=[00-d1efb7128b0104e45899ce24383f567f-5747b29ab0b3e8cc-01]\tx-envoy-expected-rq-timeout-ms=[60000]\r\n"
     ]
    }
   ],
   "source": [
    "!seldon pipeline inspect tfsimple-combined --verbose"
   ]
  },
  {
   "cell_type": "code",
   "execution_count": 272,
   "id": "f9f1ed62",
   "metadata": {},
   "outputs": [
    {
     "name": "stdout",
     "output_type": "stream",
     "text": [
      "{}\n",
      "{}\n",
      "{}\n",
      "{}\n"
     ]
    }
   ],
   "source": [
    "!seldon pipeline unload tfsimple-extended\n",
    "!seldon pipeline unload tfsimple-extended2\n",
    "!seldon pipeline unload tfsimple-combined\n",
    "!seldon pipeline unload tfsimple"
   ]
  },
  {
   "cell_type": "code",
   "execution_count": 273,
   "id": "927a91ee",
   "metadata": {},
   "outputs": [
    {
     "name": "stdout",
     "output_type": "stream",
     "text": [
      "{}\n",
      "{}\n"
     ]
    }
   ],
   "source": [
    "!seldon model unload tfsimple1\n",
    "!seldon model unload tfsimple2"
   ]
  },
  {
   "cell_type": "markdown",
   "id": "8d2972f8",
   "metadata": {},
   "source": [
    "### Pipeline pullin from one pipeline with a trigger to another\n",
    "\n",
    "![pipeline-to-pipeline](img_pipeline3.jpg)\n"
   ]
  },
  {
   "cell_type": "code",
   "execution_count": 274,
   "id": "836c030f",
   "metadata": {},
   "outputs": [
    {
     "name": "stdout",
     "output_type": "stream",
     "text": [
      "apiVersion: mlops.seldon.io/v1alpha1\n",
      "kind: Model\n",
      "metadata:\n",
      "  name: tfsimple1\n",
      "spec:\n",
      "  storageUri: \"gs://seldon-models/triton/simple\"\n",
      "  requirements:\n",
      "  - tensorflow\n",
      "  memory: 100Ki\n",
      "apiVersion: mlops.seldon.io/v1alpha1\n",
      "kind: Model\n",
      "metadata:\n",
      "  name: tfsimple2\n",
      "spec:\n",
      "  storageUri: \"gs://seldon-models/triton/simple\"\n",
      "  requirements:\n",
      "  - tensorflow\n",
      "  memory: 100Ki\n"
     ]
    }
   ],
   "source": [
    "!cat ./models/tfsimple1.yaml\n",
    "!cat ./models/tfsimple2.yaml"
   ]
  },
  {
   "cell_type": "code",
   "execution_count": 275,
   "id": "e3a043a1",
   "metadata": {},
   "outputs": [
    {
     "name": "stdout",
     "output_type": "stream",
     "text": [
      "{}\n",
      "{}\n"
     ]
    }
   ],
   "source": [
    "!seldon model load -f ./models/tfsimple1.yaml \n",
    "!seldon model load -f ./models/tfsimple2.yaml "
   ]
  },
  {
   "cell_type": "code",
   "execution_count": 276,
   "id": "e9a1b794",
   "metadata": {},
   "outputs": [
    {
     "name": "stdout",
     "output_type": "stream",
     "text": [
      "{}\n",
      "{}\n"
     ]
    }
   ],
   "source": [
    "!seldon model status tfsimple1 -w ModelAvailable | jq -M .\n",
    "!seldon model status tfsimple2 -w ModelAvailable | jq -M ."
   ]
  },
  {
   "cell_type": "code",
   "execution_count": 277,
   "id": "6e3c6269",
   "metadata": {},
   "outputs": [
    {
     "name": "stdout",
     "output_type": "stream",
     "text": [
      "apiVersion: mlops.seldon.io/v1alpha1\r\n",
      "kind: Pipeline\r\n",
      "metadata:\r\n",
      "  name: tfsimple\r\n",
      "spec:\r\n",
      "  steps:\r\n",
      "    - name: tfsimple1\r\n",
      "  output:\r\n",
      "    steps:\r\n",
      "    - tfsimple1\r\n"
     ]
    }
   ],
   "source": [
    "!cat ./pipelines/tfsimple.yaml"
   ]
  },
  {
   "cell_type": "code",
   "execution_count": 278,
   "id": "4b9f7749",
   "metadata": {},
   "outputs": [
    {
     "name": "stdout",
     "output_type": "stream",
     "text": [
      "{}\r\n"
     ]
    }
   ],
   "source": [
    "!seldon pipeline load -f ./pipelines/tfsimple.yaml"
   ]
  },
  {
   "cell_type": "code",
   "execution_count": 279,
   "id": "da51754d",
   "metadata": {},
   "outputs": [
    {
     "name": "stdout",
     "output_type": "stream",
     "text": [
      "{\r\n",
      "  \"pipelineName\": \"tfsimple\",\r\n",
      "  \"versions\": [\r\n",
      "    {\r\n",
      "      \"pipeline\": {\r\n",
      "        \"name\": \"tfsimple\",\r\n",
      "        \"uid\": \"cecscuj0nmls73b73kj0\",\r\n",
      "        \"version\": 1,\r\n",
      "        \"steps\": [\r\n",
      "          {\r\n",
      "            \"name\": \"tfsimple1\"\r\n",
      "          }\r\n",
      "        ],\r\n",
      "        \"output\": {\r\n",
      "          \"steps\": [\r\n",
      "            \"tfsimple1.outputs\"\r\n",
      "          ]\r\n",
      "        },\r\n",
      "        \"kubernetesMeta\": {}\r\n",
      "      },\r\n",
      "      \"state\": {\r\n",
      "        \"pipelineVersion\": 1,\r\n",
      "        \"status\": \"PipelineReady\",\r\n",
      "        \"reason\": \"created pipeline\",\r\n",
      "        \"lastChangeTimestamp\": \"2022-12-14T12:50:02.622878714Z\",\r\n",
      "        \"modelsReady\": true\r\n",
      "      }\r\n",
      "    }\r\n",
      "  ]\r\n",
      "}\r\n"
     ]
    }
   ],
   "source": [
    "!seldon pipeline status tfsimple -w PipelineReady| jq -M ."
   ]
  },
  {
   "cell_type": "code",
   "execution_count": 280,
   "id": "f215ec1c",
   "metadata": {},
   "outputs": [
    {
     "name": "stdout",
     "output_type": "stream",
     "text": [
      "{\r\n",
      "  \"model_name\": \"\",\r\n",
      "  \"outputs\": [\r\n",
      "    {\r\n",
      "      \"data\": [\r\n",
      "        2,\r\n",
      "        4,\r\n",
      "        6,\r\n",
      "        8,\r\n",
      "        10,\r\n",
      "        12,\r\n",
      "        14,\r\n",
      "        16,\r\n",
      "        18,\r\n",
      "        20,\r\n",
      "        22,\r\n",
      "        24,\r\n",
      "        26,\r\n",
      "        28,\r\n",
      "        30,\r\n",
      "        32\r\n",
      "      ],\r\n",
      "      \"name\": \"OUTPUT0\",\r\n",
      "      \"shape\": [\r\n",
      "        1,\r\n",
      "        16\r\n",
      "      ],\r\n",
      "      \"datatype\": \"INT32\"\r\n",
      "    },\r\n",
      "    {\r\n",
      "      \"data\": [\r\n",
      "        0,\r\n",
      "        0,\r\n",
      "        0,\r\n",
      "        0,\r\n",
      "        0,\r\n",
      "        0,\r\n",
      "        0,\r\n",
      "        0,\r\n",
      "        0,\r\n",
      "        0,\r\n",
      "        0,\r\n",
      "        0,\r\n",
      "        0,\r\n",
      "        0,\r\n",
      "        0,\r\n",
      "        0\r\n",
      "      ],\r\n",
      "      \"name\": \"OUTPUT1\",\r\n",
      "      \"shape\": [\r\n",
      "        1,\r\n",
      "        16\r\n",
      "      ],\r\n",
      "      \"datatype\": \"INT32\"\r\n",
      "    }\r\n",
      "  ]\r\n",
      "}\r\n"
     ]
    }
   ],
   "source": [
    "!seldon pipeline infer tfsimple \\\n",
    "    '{\"inputs\":[{\"name\":\"INPUT0\",\"data\":[1,2,3,4,5,6,7,8,9,10,11,12,13,14,15,16],\"datatype\":\"INT32\",\"shape\":[1,16]},{\"name\":\"INPUT1\",\"data\":[1,2,3,4,5,6,7,8,9,10,11,12,13,14,15,16],\"datatype\":\"INT32\",\"shape\":[1,16]}]}' | jq -M ."
   ]
  },
  {
   "cell_type": "code",
   "execution_count": 281,
   "id": "016a11e1",
   "metadata": {},
   "outputs": [
    {
     "name": "stdout",
     "output_type": "stream",
     "text": [
      "apiVersion: mlops.seldon.io/v1alpha1\n",
      "kind: Pipeline\n",
      "metadata:\n",
      "  name: tfsimple-extended\n",
      "spec:\n",
      "  input:\n",
      "    externalInputs:\n",
      "      - tfsimple.outputs\n",
      "    tensorMap:\n",
      "      tfsimple.outputs.OUTPUT0: INPUT0\n",
      "      tfsimple.outputs.OUTPUT1: INPUT1\n",
      "  steps:\n",
      "    - name: tfsimple2\n",
      "  output:\n",
      "    steps:\n",
      "    - tfsimple2\n",
      "---\n",
      "apiVersion: mlops.seldon.io/v1alpha1\n",
      "kind: Pipeline\n",
      "metadata:\n",
      "  name: tfsimple-extended2\n",
      "spec:\n",
      "  input:\n",
      "    externalInputs:\n",
      "      - tfsimple.outputs\n",
      "    tensorMap:\n",
      "      tfsimple.outputs.OUTPUT0: INPUT0\n",
      "      tfsimple.outputs.OUTPUT1: INPUT1\n",
      "  steps:\n",
      "    - name: tfsimple2\n",
      "  output:\n",
      "    steps:\n",
      "    - tfsimple2\n",
      "---\n",
      "apiVersion: mlops.seldon.io/v1alpha1\n",
      "kind: Pipeline\n",
      "metadata:\n",
      "  name: tfsimple-combined-trigger\n",
      "spec:\n",
      "  input:\n",
      "    externalInputs:\n",
      "      - tfsimple-extended.outputs\n",
      "    externalTriggers:\n",
      "      - tfsimple-extended2.outputs\n",
      "    tensorMap:\n",
      "      tfsimple-extended.outputs.OUTPUT0: INPUT0\n",
      "      tfsimple-extended.outputs.OUTPUT1: INPUT1\n",
      "  steps:\n",
      "    - name: tfsimple2\n",
      "  output:\n",
      "    steps:\n",
      "    - tfsimple2\n"
     ]
    }
   ],
   "source": [
    "!cat ./pipelines/tfsimple-extended.yaml\n",
    "!echo \"---\"\n",
    "!cat ./pipelines/tfsimple-extended2.yaml\n",
    "!echo \"---\"\n",
    "!cat ./pipelines/tfsimple-combined-trigger.yaml"
   ]
  },
  {
   "cell_type": "code",
   "execution_count": 282,
   "id": "1596b619",
   "metadata": {},
   "outputs": [
    {
     "name": "stdout",
     "output_type": "stream",
     "text": [
      "{}\n",
      "{}\n",
      "{}\n"
     ]
    }
   ],
   "source": [
    "!seldon pipeline load -f ./pipelines/tfsimple-extended.yaml\n",
    "!seldon pipeline load -f ./pipelines/tfsimple-extended2.yaml\n",
    "!seldon pipeline load -f ./pipelines/tfsimple-combined-trigger.yaml"
   ]
  },
  {
   "cell_type": "code",
   "execution_count": 283,
   "id": "9ea7600e",
   "metadata": {},
   "outputs": [
    {
     "name": "stdout",
     "output_type": "stream",
     "text": [
      "{\"pipelineName\":\"tfsimple-extended\", \"versions\":[{\"pipeline\":{\"name\":\"tfsimple-extended\", \"uid\":\"cecsd030nmls73b73kjg\", \"version\":1, \"steps\":[{\"name\":\"tfsimple2\"}], \"output\":{\"steps\":[\"tfsimple2.outputs\"]}, \"kubernetesMeta\":{}, \"input\":{\"externalInputs\":[\"tfsimple.outputs\"], \"tensorMap\":{\"tfsimple.outputs.OUTPUT0\":\"INPUT0\", \"tfsimple.outputs.OUTPUT1\":\"INPUT1\"}}}, \"state\":{\"pipelineVersion\":1, \"status\":\"PipelineReady\", \"reason\":\"created pipeline\", \"lastChangeTimestamp\":\"2022-12-14T12:50:08.337976173Z\", \"modelsReady\":true}}]}\n",
      "{\"pipelineName\":\"tfsimple-extended2\", \"versions\":[{\"pipeline\":{\"name\":\"tfsimple-extended2\", \"uid\":\"cecsd030nmls73b73kk0\", \"version\":1, \"steps\":[{\"name\":\"tfsimple2\"}], \"output\":{\"steps\":[\"tfsimple2.outputs\"]}, \"kubernetesMeta\":{}, \"input\":{\"externalInputs\":[\"tfsimple.outputs\"], \"tensorMap\":{\"tfsimple.outputs.OUTPUT0\":\"INPUT0\", \"tfsimple.outputs.OUTPUT1\":\"INPUT1\"}}}, \"state\":{\"pipelineVersion\":1, \"status\":\"PipelineReady\", \"reason\":\"created pipeline\", \"lastChangeTimestamp\":\"2022-12-14T12:50:08.496882324Z\", \"modelsReady\":true}}]}\n",
      "{\"pipelineName\":\"tfsimple-combined-trigger\", \"versions\":[{\"pipeline\":{\"name\":\"tfsimple-combined-trigger\", \"uid\":\"cecsd030nmls73b73kkg\", \"version\":1, \"steps\":[{\"name\":\"tfsimple2\"}], \"output\":{\"steps\":[\"tfsimple2.outputs\"]}, \"kubernetesMeta\":{}, \"input\":{\"externalInputs\":[\"tfsimple-extended.outputs\"], \"externalTriggers\":[\"tfsimple-extended2.outputs\"], \"tensorMap\":{\"tfsimple-extended.outputs.OUTPUT0\":\"INPUT0\", \"tfsimple-extended.outputs.OUTPUT1\":\"INPUT1\"}}}, \"state\":{\"pipelineVersion\":1, \"status\":\"PipelineReady\", \"reason\":\"created pipeline\", \"lastChangeTimestamp\":\"2022-12-14T12:50:08.849182876Z\", \"modelsReady\":true}}]}\n"
     ]
    }
   ],
   "source": [
    "!seldon pipeline status tfsimple-extended -w PipelineReady\n",
    "!seldon pipeline status tfsimple-extended2 -w PipelineReady\n",
    "!seldon pipeline status tfsimple-combined-trigger -w PipelineReady"
   ]
  },
  {
   "cell_type": "code",
   "execution_count": 284,
   "id": "772b0b7b",
   "metadata": {},
   "outputs": [
    {
     "name": "stdout",
     "output_type": "stream",
     "text": [
      "{\r\n",
      "\t\"model_name\": \"\",\r\n",
      "\t\"outputs\": [\r\n",
      "\t\t{\r\n",
      "\t\t\t\"data\": [\r\n",
      "\t\t\t\t2,\r\n",
      "\t\t\t\t4,\r\n",
      "\t\t\t\t6,\r\n",
      "\t\t\t\t8,\r\n",
      "\t\t\t\t10,\r\n",
      "\t\t\t\t12,\r\n",
      "\t\t\t\t14,\r\n",
      "\t\t\t\t16,\r\n",
      "\t\t\t\t18,\r\n",
      "\t\t\t\t20,\r\n",
      "\t\t\t\t22,\r\n",
      "\t\t\t\t24,\r\n",
      "\t\t\t\t26,\r\n",
      "\t\t\t\t28,\r\n",
      "\t\t\t\t30,\r\n",
      "\t\t\t\t32\r\n",
      "\t\t\t],\r\n",
      "\t\t\t\"name\": \"OUTPUT0\",\r\n",
      "\t\t\t\"shape\": [\r\n",
      "\t\t\t\t1,\r\n",
      "\t\t\t\t16\r\n",
      "\t\t\t],\r\n",
      "\t\t\t\"datatype\": \"INT32\"\r\n",
      "\t\t},\r\n",
      "\t\t{\r\n",
      "\t\t\t\"data\": [\r\n",
      "\t\t\t\t0,\r\n",
      "\t\t\t\t0,\r\n",
      "\t\t\t\t0,\r\n",
      "\t\t\t\t0,\r\n",
      "\t\t\t\t0,\r\n",
      "\t\t\t\t0,\r\n",
      "\t\t\t\t0,\r\n",
      "\t\t\t\t0,\r\n",
      "\t\t\t\t0,\r\n",
      "\t\t\t\t0,\r\n",
      "\t\t\t\t0,\r\n",
      "\t\t\t\t0,\r\n",
      "\t\t\t\t0,\r\n",
      "\t\t\t\t0,\r\n",
      "\t\t\t\t0,\r\n",
      "\t\t\t\t0\r\n",
      "\t\t\t],\r\n",
      "\t\t\t\"name\": \"OUTPUT1\",\r\n",
      "\t\t\t\"shape\": [\r\n",
      "\t\t\t\t1,\r\n",
      "\t\t\t\t16\r\n",
      "\t\t\t],\r\n",
      "\t\t\t\"datatype\": \"INT32\"\r\n",
      "\t\t}\r\n",
      "\t]\r\n",
      "}\r\n"
     ]
    }
   ],
   "source": [
    "!seldon pipeline infer tfsimple --header x-request-id=test-id3 \\\n",
    "    '{\"inputs\":[{\"name\":\"INPUT0\",\"data\":[1,2,3,4,5,6,7,8,9,10,11,12,13,14,15,16],\"datatype\":\"INT32\",\"shape\":[1,16]},{\"name\":\"INPUT1\",\"data\":[1,2,3,4,5,6,7,8,9,10,11,12,13,14,15,16],\"datatype\":\"INT32\",\"shape\":[1,16]}]}' "
   ]
  },
  {
   "cell_type": "code",
   "execution_count": 285,
   "id": "c2fa96f9",
   "metadata": {},
   "outputs": [
    {
     "name": "stdout",
     "output_type": "stream",
     "text": [
      "seldon.default.model.tfsimple1.inputs\ttest-id3\t{\"inputs\":[{\"name\":\"INPUT0\", \"datatype\":\"INT32\", \"shape\":[\"1\", \"16\"], \"contents\":{\"intContents\":[1, 2, 3, 4, 5, 6, 7, 8, 9, 10, 11, 12, 13, 14, 15, 16]}}, {\"name\":\"INPUT1\", \"datatype\":\"INT32\", \"shape\":[\"1\", \"16\"], \"contents\":{\"intContents\":[1, 2, 3, 4, 5, 6, 7, 8, 9, 10, 11, 12, 13, 14, 15, 16]}}]}\r\n",
      "seldon.default.model.tfsimple1.outputs\ttest-id3\t{\"modelName\":\"tfsimple1_1\", \"modelVersion\":\"1\", \"outputs\":[{\"name\":\"OUTPUT0\", \"datatype\":\"INT32\", \"shape\":[\"1\", \"16\"], \"contents\":{\"intContents\":[2, 4, 6, 8, 10, 12, 14, 16, 18, 20, 22, 24, 26, 28, 30, 32]}}, {\"name\":\"OUTPUT1\", \"datatype\":\"INT32\", \"shape\":[\"1\", \"16\"], \"contents\":{\"intContents\":[0, 0, 0, 0, 0, 0, 0, 0, 0, 0, 0, 0, 0, 0, 0, 0]}}]}\r\n",
      "seldon.default.pipeline.tfsimple.inputs\ttest-id3\t{\"inputs\":[{\"name\":\"INPUT0\", \"datatype\":\"INT32\", \"shape\":[\"1\", \"16\"], \"contents\":{\"intContents\":[1, 2, 3, 4, 5, 6, 7, 8, 9, 10, 11, 12, 13, 14, 15, 16]}}, {\"name\":\"INPUT1\", \"datatype\":\"INT32\", \"shape\":[\"1\", \"16\"], \"contents\":{\"intContents\":[1, 2, 3, 4, 5, 6, 7, 8, 9, 10, 11, 12, 13, 14, 15, 16]}}]}\r\n",
      "seldon.default.pipeline.tfsimple.outputs\ttest-id3\t{\"outputs\":[{\"name\":\"OUTPUT0\", \"datatype\":\"INT32\", \"shape\":[\"1\", \"16\"], \"contents\":{\"intContents\":[2, 4, 6, 8, 10, 12, 14, 16, 18, 20, 22, 24, 26, 28, 30, 32]}}, {\"name\":\"OUTPUT1\", \"datatype\":\"INT32\", \"shape\":[\"1\", \"16\"], \"contents\":{\"intContents\":[0, 0, 0, 0, 0, 0, 0, 0, 0, 0, 0, 0, 0, 0, 0, 0]}}]}\r\n"
     ]
    }
   ],
   "source": [
    "!seldon pipeline inspect tfsimple"
   ]
  },
  {
   "cell_type": "code",
   "execution_count": 286,
   "id": "c8cd42c9",
   "metadata": {},
   "outputs": [
    {
     "name": "stdout",
     "output_type": "stream",
     "text": [
      "seldon.default.model.tfsimple2.inputs\ttest-id3\t{\"inputs\":[{\"name\":\"INPUT0\", \"datatype\":\"INT32\", \"shape\":[\"1\", \"16\"], \"contents\":{\"intContents\":[2, 4, 6, 8, 10, 12, 14, 16, 18, 20, 22, 24, 26, 28, 30, 32]}}, {\"name\":\"INPUT1\", \"datatype\":\"INT32\", \"shape\":[\"1\", \"16\"], \"contents\":{\"intContents\":[2, 4, 6, 8, 10, 12, 14, 16, 18, 20, 22, 24, 26, 28, 30, 32]}}], \"rawInputContents\":[\"AgAAAAQAAAAGAAAACAAAAAoAAAAMAAAADgAAABAAAAASAAAAFAAAABYAAAAYAAAAGgAAABwAAAAeAAAAIAAAAA==\", \"AgAAAAQAAAAGAAAACAAAAAoAAAAMAAAADgAAABAAAAASAAAAFAAAABYAAAAYAAAAGgAAABwAAAAeAAAAIAAAAA==\"]}\r\n",
      "seldon.default.model.tfsimple2.outputs\ttest-id3\t{\"modelName\":\"tfsimple2_1\", \"modelVersion\":\"1\", \"outputs\":[{\"name\":\"OUTPUT0\", \"datatype\":\"INT32\", \"shape\":[\"1\", \"16\"], \"contents\":{\"intContents\":[4, 8, 12, 16, 20, 24, 28, 32, 36, 40, 44, 48, 52, 56, 60, 64]}}, {\"name\":\"OUTPUT1\", \"datatype\":\"INT32\", \"shape\":[\"1\", \"16\"], \"contents\":{\"intContents\":[0, 0, 0, 0, 0, 0, 0, 0, 0, 0, 0, 0, 0, 0, 0, 0]}}]}\r\n",
      "seldon.default.pipeline.tfsimple-extended.inputs\ttest-id3\t{\"inputs\":[{\"name\":\"INPUT0\", \"datatype\":\"INT32\", \"shape\":[\"1\", \"16\"], \"contents\":{\"intContents\":[2, 4, 6, 8, 10, 12, 14, 16, 18, 20, 22, 24, 26, 28, 30, 32]}}, {\"name\":\"INPUT1\", \"datatype\":\"INT32\", \"shape\":[\"1\", \"16\"], \"contents\":{\"intContents\":[0, 0, 0, 0, 0, 0, 0, 0, 0, 0, 0, 0, 0, 0, 0, 0]}}], \"rawInputContents\":[\"AgAAAAQAAAAGAAAACAAAAAoAAAAMAAAADgAAABAAAAASAAAAFAAAABYAAAAYAAAAGgAAABwAAAAeAAAAIAAAAA==\", \"AAAAAAAAAAAAAAAAAAAAAAAAAAAAAAAAAAAAAAAAAAAAAAAAAAAAAAAAAAAAAAAAAAAAAAAAAAAAAAAAAAAAAA==\"]}\r\n",
      "seldon.default.pipeline.tfsimple-extended.outputs\ttest-id3\t{\"outputs\":[{\"name\":\"OUTPUT0\", \"datatype\":\"INT32\", \"shape\":[\"1\", \"16\"], \"contents\":{\"intContents\":[2, 4, 6, 8, 10, 12, 14, 16, 18, 20, 22, 24, 26, 28, 30, 32]}}, {\"name\":\"OUTPUT1\", \"datatype\":\"INT32\", \"shape\":[\"1\", \"16\"], \"contents\":{\"intContents\":[2, 4, 6, 8, 10, 12, 14, 16, 18, 20, 22, 24, 26, 28, 30, 32]}}]}\r\n"
     ]
    }
   ],
   "source": [
    "!seldon pipeline inspect tfsimple-extended"
   ]
  },
  {
   "cell_type": "code",
   "execution_count": 287,
   "id": "a5b99855",
   "metadata": {},
   "outputs": [
    {
     "name": "stdout",
     "output_type": "stream",
     "text": [
      "seldon.default.model.tfsimple2.inputs\ttest-id3\t{\"inputs\":[{\"name\":\"INPUT0\", \"datatype\":\"INT32\", \"shape\":[\"1\", \"16\"], \"contents\":{\"intContents\":[2, 4, 6, 8, 10, 12, 14, 16, 18, 20, 22, 24, 26, 28, 30, 32]}}, {\"name\":\"INPUT1\", \"datatype\":\"INT32\", \"shape\":[\"1\", \"16\"], \"contents\":{\"intContents\":[2, 4, 6, 8, 10, 12, 14, 16, 18, 20, 22, 24, 26, 28, 30, 32]}}], \"rawInputContents\":[\"AgAAAAQAAAAGAAAACAAAAAoAAAAMAAAADgAAABAAAAASAAAAFAAAABYAAAAYAAAAGgAAABwAAAAeAAAAIAAAAA==\", \"AgAAAAQAAAAGAAAACAAAAAoAAAAMAAAADgAAABAAAAASAAAAFAAAABYAAAAYAAAAGgAAABwAAAAeAAAAIAAAAA==\"]}\r\n",
      "seldon.default.model.tfsimple2.outputs\ttest-id3\t{\"modelName\":\"tfsimple2_1\", \"modelVersion\":\"1\", \"outputs\":[{\"name\":\"OUTPUT0\", \"datatype\":\"INT32\", \"shape\":[\"1\", \"16\"], \"contents\":{\"intContents\":[4, 8, 12, 16, 20, 24, 28, 32, 36, 40, 44, 48, 52, 56, 60, 64]}}, {\"name\":\"OUTPUT1\", \"datatype\":\"INT32\", \"shape\":[\"1\", \"16\"], \"contents\":{\"intContents\":[0, 0, 0, 0, 0, 0, 0, 0, 0, 0, 0, 0, 0, 0, 0, 0]}}]}\r\n",
      "seldon.default.pipeline.tfsimple-extended2.inputs\ttest-id3\t{\"inputs\":[{\"name\":\"INPUT0\", \"datatype\":\"INT32\", \"shape\":[\"1\", \"16\"], \"contents\":{\"intContents\":[2, 4, 6, 8, 10, 12, 14, 16, 18, 20, 22, 24, 26, 28, 30, 32]}}, {\"name\":\"INPUT1\", \"datatype\":\"INT32\", \"shape\":[\"1\", \"16\"], \"contents\":{\"intContents\":[0, 0, 0, 0, 0, 0, 0, 0, 0, 0, 0, 0, 0, 0, 0, 0]}}], \"rawInputContents\":[\"AgAAAAQAAAAGAAAACAAAAAoAAAAMAAAADgAAABAAAAASAAAAFAAAABYAAAAYAAAAGgAAABwAAAAeAAAAIAAAAA==\", \"AAAAAAAAAAAAAAAAAAAAAAAAAAAAAAAAAAAAAAAAAAAAAAAAAAAAAAAAAAAAAAAAAAAAAAAAAAAAAAAAAAAAAA==\"]}\r\n",
      "seldon.default.pipeline.tfsimple-extended2.outputs\ttest-id3\t{\"outputs\":[{\"name\":\"OUTPUT0\", \"datatype\":\"INT32\", \"shape\":[\"1\", \"16\"], \"contents\":{\"intContents\":[2, 4, 6, 8, 10, 12, 14, 16, 18, 20, 22, 24, 26, 28, 30, 32]}}, {\"name\":\"OUTPUT1\", \"datatype\":\"INT32\", \"shape\":[\"1\", \"16\"], \"contents\":{\"intContents\":[2, 4, 6, 8, 10, 12, 14, 16, 18, 20, 22, 24, 26, 28, 30, 32]}}]}\r\n"
     ]
    }
   ],
   "source": [
    "!seldon pipeline inspect tfsimple-extended2"
   ]
  },
  {
   "cell_type": "code",
   "execution_count": 288,
   "id": "e6914df0",
   "metadata": {},
   "outputs": [
    {
     "name": "stdout",
     "output_type": "stream",
     "text": [
      "seldon.default.model.tfsimple2.inputs\ttest-id3\t{\"inputs\":[{\"name\":\"INPUT0\", \"datatype\":\"INT32\", \"shape\":[\"1\", \"16\"], \"contents\":{\"intContents\":[2, 4, 6, 8, 10, 12, 14, 16, 18, 20, 22, 24, 26, 28, 30, 32]}}, {\"name\":\"INPUT1\", \"datatype\":\"INT32\", \"shape\":[\"1\", \"16\"], \"contents\":{\"intContents\":[2, 4, 6, 8, 10, 12, 14, 16, 18, 20, 22, 24, 26, 28, 30, 32]}}], \"rawInputContents\":[\"AgAAAAQAAAAGAAAACAAAAAoAAAAMAAAADgAAABAAAAASAAAAFAAAABYAAAAYAAAAGgAAABwAAAAeAAAAIAAAAA==\", \"AgAAAAQAAAAGAAAACAAAAAoAAAAMAAAADgAAABAAAAASAAAAFAAAABYAAAAYAAAAGgAAABwAAAAeAAAAIAAAAA==\"]}\r\n",
      "seldon.default.model.tfsimple2.outputs\ttest-id3\t{\"modelName\":\"tfsimple2_1\", \"modelVersion\":\"1\", \"outputs\":[{\"name\":\"OUTPUT0\", \"datatype\":\"INT32\", \"shape\":[\"1\", \"16\"], \"contents\":{\"intContents\":[4, 8, 12, 16, 20, 24, 28, 32, 36, 40, 44, 48, 52, 56, 60, 64]}}, {\"name\":\"OUTPUT1\", \"datatype\":\"INT32\", \"shape\":[\"1\", \"16\"], \"contents\":{\"intContents\":[0, 0, 0, 0, 0, 0, 0, 0, 0, 0, 0, 0, 0, 0, 0, 0]}}]}\r\n",
      "seldon.default.pipeline.tfsimple-combined-trigger.inputs\ttest-id3\t{\"inputs\":[{\"name\":\"INPUT0\", \"datatype\":\"INT32\", \"shape\":[\"1\", \"16\"], \"contents\":{\"intContents\":[2, 4, 6, 8, 10, 12, 14, 16, 18, 20, 22, 24, 26, 28, 30, 32]}}, {\"name\":\"INPUT1\", \"datatype\":\"INT32\", \"shape\":[\"1\", \"16\"], \"contents\":{\"intContents\":[2, 4, 6, 8, 10, 12, 14, 16, 18, 20, 22, 24, 26, 28, 30, 32]}}], \"rawInputContents\":[\"AgAAAAQAAAAGAAAACAAAAAoAAAAMAAAADgAAABAAAAASAAAAFAAAABYAAAAYAAAAGgAAABwAAAAeAAAAIAAAAA==\", \"AgAAAAQAAAAGAAAACAAAAAoAAAAMAAAADgAAABAAAAASAAAAFAAAABYAAAAYAAAAGgAAABwAAAAeAAAAIAAAAA==\"]}\r\n",
      "seldon.default.pipeline.tfsimple-combined-trigger.outputs\ttest-id3\t{\"outputs\":[{\"name\":\"OUTPUT0\", \"datatype\":\"INT32\", \"shape\":[\"1\", \"16\"], \"contents\":{\"intContents\":[4, 8, 12, 16, 20, 24, 28, 32, 36, 40, 44, 48, 52, 56, 60, 64]}}, {\"name\":\"OUTPUT1\", \"datatype\":\"INT32\", \"shape\":[\"1\", \"16\"], \"contents\":{\"intContents\":[0, 0, 0, 0, 0, 0, 0, 0, 0, 0, 0, 0, 0, 0, 0, 0]}}]}\r\n"
     ]
    }
   ],
   "source": [
    "!seldon pipeline inspect tfsimple-combined-trigger"
   ]
  },
  {
   "cell_type": "code",
   "execution_count": 289,
   "id": "d2aa8c52",
   "metadata": {},
   "outputs": [
    {
     "name": "stdout",
     "output_type": "stream",
     "text": [
      "{}\n",
      "{}\n",
      "{}\n",
      "{}\n"
     ]
    }
   ],
   "source": [
    "!seldon pipeline unload tfsimple-extended\n",
    "!seldon pipeline unload tfsimple-extended2\n",
    "!seldon pipeline unload tfsimple-combined-trigger\n",
    "!seldon pipeline unload tfsimple"
   ]
  },
  {
   "cell_type": "code",
   "execution_count": 290,
   "id": "5d7d7548",
   "metadata": {},
   "outputs": [
    {
     "name": "stdout",
     "output_type": "stream",
     "text": [
      "{}\n",
      "{}\n"
     ]
    }
   ],
   "source": [
    "!seldon model unload tfsimple1\n",
    "!seldon model unload tfsimple2"
   ]
  },
  {
   "cell_type": "markdown",
   "id": "b0b949ce",
   "metadata": {},
   "source": [
    "### Pipeline pulling from one other Pipeline Step\n",
    "\n",
    "![pipeline-to-pipeline](img_pipeline4.jpg)\n"
   ]
  },
  {
   "cell_type": "code",
   "execution_count": 304,
   "id": "c7be74aa",
   "metadata": {},
   "outputs": [
    {
     "name": "stdout",
     "output_type": "stream",
     "text": [
      "apiVersion: mlops.seldon.io/v1alpha1\n",
      "kind: Model\n",
      "metadata:\n",
      "  name: tfsimple1\n",
      "spec:\n",
      "  storageUri: \"gs://seldon-models/triton/simple\"\n",
      "  requirements:\n",
      "  - tensorflow\n",
      "  memory: 100Ki\n",
      "apiVersion: mlops.seldon.io/v1alpha1\n",
      "kind: Model\n",
      "metadata:\n",
      "  name: tfsimple2\n",
      "spec:\n",
      "  storageUri: \"gs://seldon-models/triton/simple\"\n",
      "  requirements:\n",
      "  - tensorflow\n",
      "  memory: 100Ki\n"
     ]
    }
   ],
   "source": [
    "!cat ./models/tfsimple1.yaml\n",
    "!cat ./models/tfsimple2.yaml"
   ]
  },
  {
   "cell_type": "code",
   "execution_count": 366,
   "id": "ad0bcfd0",
   "metadata": {},
   "outputs": [
    {
     "name": "stdout",
     "output_type": "stream",
     "text": [
      "{}\n",
      "{}\n"
     ]
    }
   ],
   "source": [
    "!seldon model load -f ./models/tfsimple1.yaml \n",
    "!seldon model load -f ./models/tfsimple2.yaml "
   ]
  },
  {
   "cell_type": "code",
   "execution_count": 367,
   "id": "67cfca28",
   "metadata": {},
   "outputs": [
    {
     "name": "stdout",
     "output_type": "stream",
     "text": [
      "{}\n",
      "{}\n"
     ]
    }
   ],
   "source": [
    "!seldon model status tfsimple1 -w ModelAvailable | jq -M .\n",
    "!seldon model status tfsimple2 -w ModelAvailable | jq -M ."
   ]
  },
  {
   "cell_type": "code",
   "execution_count": 368,
   "id": "0df0e2c6",
   "metadata": {},
   "outputs": [
    {
     "name": "stdout",
     "output_type": "stream",
     "text": [
      "apiVersion: mlops.seldon.io/v1alpha1\r\n",
      "kind: Pipeline\r\n",
      "metadata:\r\n",
      "  name: tfsimple\r\n",
      "spec:\r\n",
      "  steps:\r\n",
      "    - name: tfsimple1\r\n",
      "  output:\r\n",
      "    steps:\r\n",
      "    - tfsimple1\r\n"
     ]
    }
   ],
   "source": [
    "!cat ./pipelines/tfsimple.yaml"
   ]
  },
  {
   "cell_type": "code",
   "execution_count": 369,
   "id": "a020b898",
   "metadata": {},
   "outputs": [
    {
     "name": "stdout",
     "output_type": "stream",
     "text": [
      "{}\r\n"
     ]
    }
   ],
   "source": [
    "!seldon pipeline load -f ./pipelines/tfsimple.yaml"
   ]
  },
  {
   "cell_type": "code",
   "execution_count": 370,
   "id": "8eeed673",
   "metadata": {},
   "outputs": [
    {
     "name": "stdout",
     "output_type": "stream",
     "text": [
      "{\r\n",
      "  \"pipelineName\": \"tfsimple\",\r\n",
      "  \"versions\": [\r\n",
      "    {\r\n",
      "      \"pipeline\": {\r\n",
      "        \"name\": \"tfsimple\",\r\n",
      "        \"uid\": \"cect0mehucqid0qof9p0\",\r\n",
      "        \"version\": 1,\r\n",
      "        \"steps\": [\r\n",
      "          {\r\n",
      "            \"name\": \"tfsimple1\"\r\n",
      "          }\r\n",
      "        ],\r\n",
      "        \"output\": {\r\n",
      "          \"steps\": [\r\n",
      "            \"tfsimple1.outputs\"\r\n",
      "          ]\r\n",
      "        },\r\n",
      "        \"kubernetesMeta\": {}\r\n",
      "      },\r\n",
      "      \"state\": {\r\n",
      "        \"pipelineVersion\": 1,\r\n",
      "        \"status\": \"PipelineReady\",\r\n",
      "        \"reason\": \"created pipeline\",\r\n",
      "        \"lastChangeTimestamp\": \"2022-12-14T13:32:09.753016444Z\",\r\n",
      "        \"modelsReady\": true\r\n",
      "      }\r\n",
      "    }\r\n",
      "  ]\r\n",
      "}\r\n"
     ]
    }
   ],
   "source": [
    "!seldon pipeline status tfsimple -w PipelineReady| jq -M ."
   ]
  },
  {
   "cell_type": "code",
   "execution_count": 371,
   "id": "3e59736d",
   "metadata": {},
   "outputs": [
    {
     "name": "stdout",
     "output_type": "stream",
     "text": [
      "{\r\n",
      "  \"model_name\": \"\",\r\n",
      "  \"outputs\": [\r\n",
      "    {\r\n",
      "      \"data\": [\r\n",
      "        2,\r\n",
      "        4,\r\n",
      "        6,\r\n",
      "        8,\r\n",
      "        10,\r\n",
      "        12,\r\n",
      "        14,\r\n",
      "        16,\r\n",
      "        18,\r\n",
      "        20,\r\n",
      "        22,\r\n",
      "        24,\r\n",
      "        26,\r\n",
      "        28,\r\n",
      "        30,\r\n",
      "        32\r\n",
      "      ],\r\n",
      "      \"name\": \"OUTPUT0\",\r\n",
      "      \"shape\": [\r\n",
      "        1,\r\n",
      "        16\r\n",
      "      ],\r\n",
      "      \"datatype\": \"INT32\"\r\n",
      "    },\r\n",
      "    {\r\n",
      "      \"data\": [\r\n",
      "        0,\r\n",
      "        0,\r\n",
      "        0,\r\n",
      "        0,\r\n",
      "        0,\r\n",
      "        0,\r\n",
      "        0,\r\n",
      "        0,\r\n",
      "        0,\r\n",
      "        0,\r\n",
      "        0,\r\n",
      "        0,\r\n",
      "        0,\r\n",
      "        0,\r\n",
      "        0,\r\n",
      "        0\r\n",
      "      ],\r\n",
      "      \"name\": \"OUTPUT1\",\r\n",
      "      \"shape\": [\r\n",
      "        1,\r\n",
      "        16\r\n",
      "      ],\r\n",
      "      \"datatype\": \"INT32\"\r\n",
      "    }\r\n",
      "  ]\r\n",
      "}\r\n"
     ]
    }
   ],
   "source": [
    "!seldon pipeline infer tfsimple \\\n",
    "    '{\"inputs\":[{\"name\":\"INPUT0\",\"data\":[1,2,3,4,5,6,7,8,9,10,11,12,13,14,15,16],\"datatype\":\"INT32\",\"shape\":[1,16]},{\"name\":\"INPUT1\",\"data\":[1,2,3,4,5,6,7,8,9,10,11,12,13,14,15,16],\"datatype\":\"INT32\",\"shape\":[1,16]}]}' | jq -M ."
   ]
  },
  {
   "cell_type": "code",
   "execution_count": 372,
   "id": "8a3de0b5",
   "metadata": {},
   "outputs": [
    {
     "name": "stdout",
     "output_type": "stream",
     "text": [
      "apiVersion: mlops.seldon.io/v1alpha1\r\n",
      "kind: Pipeline\r\n",
      "metadata:\r\n",
      "  name: tfsimple-extended-step\r\n",
      "spec:\r\n",
      "  input:\r\n",
      "    externalInputs:\r\n",
      "      - tfsimple.step.tfsimple1.outputs\r\n",
      "    tensorMap:\r\n",
      "      tfsimple.step.tfsimple1.outputs.OUTPUT0: INPUT0\r\n",
      "      tfsimple.step.tfsimple1.outputs.OUTPUT1: INPUT1\r\n",
      "  steps:\r\n",
      "    - name: tfsimple2\r\n",
      "  output:\r\n",
      "    steps:\r\n",
      "    - tfsimple2\r\n"
     ]
    }
   ],
   "source": [
    "!cat ./pipelines/tfsimple-extended-step.yaml"
   ]
  },
  {
   "cell_type": "code",
   "execution_count": 373,
   "id": "9c8d2aca",
   "metadata": {},
   "outputs": [
    {
     "name": "stdout",
     "output_type": "stream",
     "text": [
      "{}\r\n"
     ]
    }
   ],
   "source": [
    "!seldon pipeline load -f ./pipelines/tfsimple-extended-step.yaml"
   ]
  },
  {
   "cell_type": "code",
   "execution_count": 374,
   "id": "6797960b",
   "metadata": {},
   "outputs": [
    {
     "name": "stdout",
     "output_type": "stream",
     "text": [
      "{\r\n",
      "  \"pipelineName\": \"tfsimple-extended-step\",\r\n",
      "  \"versions\": [\r\n",
      "    {\r\n",
      "      \"pipeline\": {\r\n",
      "        \"name\": \"tfsimple-extended-step\",\r\n",
      "        \"uid\": \"cect0nmhucqid0qof9pg\",\r\n",
      "        \"version\": 1,\r\n",
      "        \"steps\": [\r\n",
      "          {\r\n",
      "            \"name\": \"tfsimple2\"\r\n",
      "          }\r\n",
      "        ],\r\n",
      "        \"output\": {\r\n",
      "          \"steps\": [\r\n",
      "            \"tfsimple2.outputs\"\r\n",
      "          ]\r\n",
      "        },\r\n",
      "        \"kubernetesMeta\": {},\r\n",
      "        \"input\": {\r\n",
      "          \"externalInputs\": [\r\n",
      "            \"tfsimple.step.tfsimple1.outputs\"\r\n",
      "          ],\r\n",
      "          \"tensorMap\": {\r\n",
      "            \"tfsimple.step.tfsimple1.outputs.OUTPUT0\": \"INPUT0\",\r\n",
      "            \"tfsimple.step.tfsimple1.outputs.OUTPUT1\": \"INPUT1\"\r\n",
      "          }\r\n",
      "        }\r\n",
      "      },\r\n",
      "      \"state\": {\r\n",
      "        \"pipelineVersion\": 1,\r\n",
      "        \"status\": \"PipelineReady\",\r\n",
      "        \"reason\": \"created pipeline\",\r\n",
      "        \"lastChangeTimestamp\": \"2022-12-14T13:32:28.404734823Z\",\r\n",
      "        \"modelsReady\": true\r\n",
      "      }\r\n",
      "    }\r\n",
      "  ]\r\n",
      "}\r\n"
     ]
    }
   ],
   "source": [
    "!seldon pipeline status tfsimple-extended-step -w PipelineReady| jq -M ."
   ]
  },
  {
   "cell_type": "code",
   "execution_count": 375,
   "id": "9c9ef7bb",
   "metadata": {},
   "outputs": [
    {
     "name": "stdout",
     "output_type": "stream",
     "text": [
      "{\r\n",
      "\t\"model_name\": \"\",\r\n",
      "\t\"outputs\": [\r\n",
      "\t\t{\r\n",
      "\t\t\t\"data\": [\r\n",
      "\t\t\t\t2,\r\n",
      "\t\t\t\t4,\r\n",
      "\t\t\t\t6,\r\n",
      "\t\t\t\t8,\r\n",
      "\t\t\t\t10,\r\n",
      "\t\t\t\t12,\r\n",
      "\t\t\t\t14,\r\n",
      "\t\t\t\t16,\r\n",
      "\t\t\t\t18,\r\n",
      "\t\t\t\t20,\r\n",
      "\t\t\t\t22,\r\n",
      "\t\t\t\t24,\r\n",
      "\t\t\t\t26,\r\n",
      "\t\t\t\t28,\r\n",
      "\t\t\t\t30,\r\n",
      "\t\t\t\t32\r\n",
      "\t\t\t],\r\n",
      "\t\t\t\"name\": \"OUTPUT0\",\r\n",
      "\t\t\t\"shape\": [\r\n",
      "\t\t\t\t1,\r\n",
      "\t\t\t\t16\r\n",
      "\t\t\t],\r\n",
      "\t\t\t\"datatype\": \"INT32\"\r\n",
      "\t\t},\r\n",
      "\t\t{\r\n",
      "\t\t\t\"data\": [\r\n",
      "\t\t\t\t0,\r\n",
      "\t\t\t\t0,\r\n",
      "\t\t\t\t0,\r\n",
      "\t\t\t\t0,\r\n",
      "\t\t\t\t0,\r\n",
      "\t\t\t\t0,\r\n",
      "\t\t\t\t0,\r\n",
      "\t\t\t\t0,\r\n",
      "\t\t\t\t0,\r\n",
      "\t\t\t\t0,\r\n",
      "\t\t\t\t0,\r\n",
      "\t\t\t\t0,\r\n",
      "\t\t\t\t0,\r\n",
      "\t\t\t\t0,\r\n",
      "\t\t\t\t0,\r\n",
      "\t\t\t\t0\r\n",
      "\t\t\t],\r\n",
      "\t\t\t\"name\": \"OUTPUT1\",\r\n",
      "\t\t\t\"shape\": [\r\n",
      "\t\t\t\t1,\r\n",
      "\t\t\t\t16\r\n",
      "\t\t\t],\r\n",
      "\t\t\t\"datatype\": \"INT32\"\r\n",
      "\t\t}\r\n",
      "\t]\r\n",
      "}\r\n"
     ]
    }
   ],
   "source": [
    "!seldon pipeline infer tfsimple \\\n",
    "    '{\"inputs\":[{\"name\":\"INPUT0\",\"data\":[1,2,3,4,5,6,7,8,9,10,11,12,13,14,15,16],\"datatype\":\"INT32\",\"shape\":[1,16]},{\"name\":\"INPUT1\",\"data\":[1,2,3,4,5,6,7,8,9,10,11,12,13,14,15,16],\"datatype\":\"INT32\",\"shape\":[1,16]}]}' "
   ]
  },
  {
   "cell_type": "code",
   "execution_count": 376,
   "id": "420b1575",
   "metadata": {},
   "outputs": [
    {
     "name": "stdout",
     "output_type": "stream",
     "text": [
      "seldon.default.model.tfsimple1.inputs\tcect0skvem6s73b81mig\t{\"inputs\":[{\"name\":\"INPUT0\", \"datatype\":\"INT32\", \"shape\":[\"1\", \"16\"], \"contents\":{\"intContents\":[1, 2, 3, 4, 5, 6, 7, 8, 9, 10, 11, 12, 13, 14, 15, 16]}}, {\"name\":\"INPUT1\", \"datatype\":\"INT32\", \"shape\":[\"1\", \"16\"], \"contents\":{\"intContents\":[1, 2, 3, 4, 5, 6, 7, 8, 9, 10, 11, 12, 13, 14, 15, 16]}}]}\t\ttraceparent=[00-9abb65f0c94d473c9be195de73063777-fede9d52a3717854-01]\tx-forwarded-proto=[http]\tx-envoy-expected-rq-timeout-ms=[60000]\tpipeline=[tfsimple]\r\n",
      "seldon.default.model.tfsimple1.outputs\tcect0skvem6s73b81mig\t{\"modelName\":\"tfsimple1_1\", \"modelVersion\":\"1\", \"outputs\":[{\"name\":\"OUTPUT0\", \"datatype\":\"INT32\", \"shape\":[\"1\", \"16\"], \"contents\":{\"intContents\":[2, 4, 6, 8, 10, 12, 14, 16, 18, 20, 22, 24, 26, 28, 30, 32]}}, {\"name\":\"OUTPUT1\", \"datatype\":\"INT32\", \"shape\":[\"1\", \"16\"], \"contents\":{\"intContents\":[0, 0, 0, 0, 0, 0, 0, 0, 0, 0, 0, 0, 0, 0, 0, 0]}}]}\t\tx-forwarded-proto=[http]\tx-envoy-expected-rq-timeout-ms=[60000]\tpipeline=[tfsimple]\tx-envoy-upstream-service-time=[3]\tx-seldon-route=[:tfsimple1_1:]\tx-request-id=[cect0skvem6s73eqg5fg]\ttraceparent=[00-9abb65f0c94d473c9be195de73063777-a11f988f4ce9ed8e-01]\r\n",
      "seldon.default.pipeline.tfsimple.inputs\tcect0skvem6s73b81mig\t{\"inputs\":[{\"name\":\"INPUT0\", \"datatype\":\"INT32\", \"shape\":[\"1\", \"16\"], \"contents\":{\"intContents\":[1, 2, 3, 4, 5, 6, 7, 8, 9, 10, 11, 12, 13, 14, 15, 16]}}, {\"name\":\"INPUT1\", \"datatype\":\"INT32\", \"shape\":[\"1\", \"16\"], \"contents\":{\"intContents\":[1, 2, 3, 4, 5, 6, 7, 8, 9, 10, 11, 12, 13, 14, 15, 16]}}]}\t\ttraceparent=[00-9abb65f0c94d473c9be195de73063777-91470ae8461f6e35-01]\tx-forwarded-proto=[http]\tx-envoy-expected-rq-timeout-ms=[60000]\tpipeline=[tfsimple]\r\n",
      "seldon.default.pipeline.tfsimple.outputs\tcect0skvem6s73b81mig\t{\"outputs\":[{\"name\":\"OUTPUT0\", \"datatype\":\"INT32\", \"shape\":[\"1\", \"16\"], \"contents\":{\"intContents\":[2, 4, 6, 8, 10, 12, 14, 16, 18, 20, 22, 24, 26, 28, 30, 32]}}, {\"name\":\"OUTPUT1\", \"datatype\":\"INT32\", \"shape\":[\"1\", \"16\"], \"contents\":{\"intContents\":[0, 0, 0, 0, 0, 0, 0, 0, 0, 0, 0, 0, 0, 0, 0, 0]}}]}\t\tpipeline=[tfsimple]\ttraceparent=[00-9abb65f0c94d473c9be195de73063777-dde201c08a1d60ae-01]\tx-forwarded-proto=[http]\tx-envoy-expected-rq-timeout-ms=[60000]\tx-envoy-upstream-service-time=[3]\tx-seldon-route=[:tfsimple1_1:]\tx-request-id=[cect0skvem6s73eqg5fg]\r\n"
     ]
    }
   ],
   "source": [
    "!seldon pipeline inspect tfsimple --verbose"
   ]
  },
  {
   "cell_type": "code",
   "execution_count": 377,
   "id": "d401bc2d",
   "metadata": {},
   "outputs": [
    {
     "name": "stdout",
     "output_type": "stream",
     "text": [
      "seldon.default.model.tfsimple2.inputs\tcect0skvem6s73b81mig\t{\"inputs\":[{\"name\":\"INPUT0\", \"datatype\":\"INT32\", \"shape\":[\"1\", \"16\"], \"contents\":{\"intContents\":[2, 4, 6, 8, 10, 12, 14, 16, 18, 20, 22, 24, 26, 28, 30, 32]}}, {\"name\":\"INPUT1\", \"datatype\":\"INT32\", \"shape\":[\"1\", \"16\"], \"contents\":{\"intContents\":[0, 0, 0, 0, 0, 0, 0, 0, 0, 0, 0, 0, 0, 0, 0, 0]}}], \"rawInputContents\":[\"AgAAAAQAAAAGAAAACAAAAAoAAAAMAAAADgAAABAAAAASAAAAFAAAABYAAAAYAAAAGgAAABwAAAAeAAAAIAAAAA==\", \"AAAAAAAAAAAAAAAAAAAAAAAAAAAAAAAAAAAAAAAAAAAAAAAAAAAAAAAAAAAAAAAAAAAAAAAAAAAAAAAAAAAAAA==\"]}\t\tx-forwarded-proto=[http]\tx-envoy-expected-rq-timeout-ms=[60000]\tx-envoy-upstream-service-time=[3]\tx-seldon-route=[:tfsimple1_1:]\tx-request-id=[cect0skvem6s73eqg5fg]\tpipeline=[tfsimple-extended-step]\ttraceparent=[00-9abb65f0c94d473c9be195de73063777-ae48015963a5ef57-01]\r\n",
      "seldon.default.model.tfsimple2.outputs\tcect0skvem6s73b81mig\t{\"modelName\":\"tfsimple2_1\", \"modelVersion\":\"1\", \"outputs\":[{\"name\":\"OUTPUT0\", \"datatype\":\"INT32\", \"shape\":[\"1\", \"16\"], \"contents\":{\"intContents\":[2, 4, 6, 8, 10, 12, 14, 16, 18, 20, 22, 24, 26, 28, 30, 32]}}, {\"name\":\"OUTPUT1\", \"datatype\":\"INT32\", \"shape\":[\"1\", \"16\"], \"contents\":{\"intContents\":[2, 4, 6, 8, 10, 12, 14, 16, 18, 20, 22, 24, 26, 28, 30, 32]}}]}\t\tpipeline=[tfsimple-extended-step]\ttraceparent=[00-9abb65f0c94d473c9be195de73063777-f3ad52da9360754e-01]\tx-forwarded-proto=[http]\tx-envoy-expected-rq-timeout-ms=[60000]\tx-envoy-upstream-service-time=[3 1]\tx-seldon-route=[:tfsimple1_1: :tfsimple2_1:]\tx-request-id=[cect0skvem6s73eqg5fg]\r\n",
      "seldon.default.pipeline.tfsimple-extended-step.inputs\tcect0skvem6s73b81mig\t{\"inputs\":[{\"name\":\"INPUT0\", \"datatype\":\"INT32\", \"shape\":[\"1\", \"16\"], \"contents\":{\"intContents\":[2, 4, 6, 8, 10, 12, 14, 16, 18, 20, 22, 24, 26, 28, 30, 32]}}, {\"name\":\"INPUT1\", \"datatype\":\"INT32\", \"shape\":[\"1\", \"16\"], \"contents\":{\"intContents\":[0, 0, 0, 0, 0, 0, 0, 0, 0, 0, 0, 0, 0, 0, 0, 0]}}], \"rawInputContents\":[\"AgAAAAQAAAAGAAAACAAAAAoAAAAMAAAADgAAABAAAAASAAAAFAAAABYAAAAYAAAAGgAAABwAAAAeAAAAIAAAAA==\", \"AAAAAAAAAAAAAAAAAAAAAAAAAAAAAAAAAAAAAAAAAAAAAAAAAAAAAAAAAAAAAAAAAAAAAAAAAAAAAAAAAAAAAA==\"]}\t\tx-envoy-expected-rq-timeout-ms=[60000]\tx-envoy-upstream-service-time=[3]\tx-seldon-route=[:tfsimple1_1:]\tx-request-id=[cect0skvem6s73eqg5fg]\tpipeline=[tfsimple-extended-step]\ttraceparent=[00-9abb65f0c94d473c9be195de73063777-3b2b42a783e0b6de-01]\tx-forwarded-proto=[http]\r\n",
      "seldon.default.pipeline.tfsimple-extended-step.outputs\tcect0skvem6s73b81mig\t{\"outputs\":[{\"name\":\"OUTPUT0\", \"datatype\":\"INT32\", \"shape\":[\"1\", \"16\"], \"contents\":{\"intContents\":[2, 4, 6, 8, 10, 12, 14, 16, 18, 20, 22, 24, 26, 28, 30, 32]}}, {\"name\":\"OUTPUT1\", \"datatype\":\"INT32\", \"shape\":[\"1\", \"16\"], \"contents\":{\"intContents\":[2, 4, 6, 8, 10, 12, 14, 16, 18, 20, 22, 24, 26, 28, 30, 32]}}]}\t\ttraceparent=[00-9abb65f0c94d473c9be195de73063777-9de647c35f7ac59a-01]\tx-forwarded-proto=[http]\tx-envoy-expected-rq-timeout-ms=[60000]\tx-envoy-upstream-service-time=[3 1]\tx-seldon-route=[:tfsimple1_1: :tfsimple2_1:]\tx-request-id=[cect0skvem6s73eqg5fg]\tpipeline=[tfsimple-extended-step]\r\n"
     ]
    }
   ],
   "source": [
    "!seldon pipeline inspect tfsimple-extended-step --verbose"
   ]
  },
  {
   "cell_type": "code",
   "execution_count": 319,
   "id": "3b688398",
   "metadata": {},
   "outputs": [
    {
     "name": "stdout",
     "output_type": "stream",
     "text": [
      "{}\n",
      "Error: rpc error: code = FailedPrecondition desc = pipeline tfsimple not found\n"
     ]
    }
   ],
   "source": [
    "!seldon pipeline unload tfsimple-extended-step\n",
    "!seldon pipeline unload tfsimple"
   ]
  },
  {
   "cell_type": "code",
   "execution_count": 320,
   "id": "7ba195af",
   "metadata": {},
   "outputs": [
    {
     "name": "stdout",
     "output_type": "stream",
     "text": [
      "{}\n",
      "{}\n"
     ]
    }
   ],
   "source": [
    "!seldon model unload tfsimple1\n",
    "!seldon model unload tfsimple2"
   ]
  },
  {
   "cell_type": "code",
   "execution_count": null,
   "id": "4bfede4a",
   "metadata": {},
   "outputs": [],
   "source": []
  }
 ],
 "metadata": {
  "kernelspec": {
   "display_name": "Python 3 (ipykernel)",
   "language": "python",
   "name": "python3"
  },
  "language_info": {
   "codemirror_mode": {
    "name": "ipython",
    "version": 3
   },
   "file_extension": ".py",
   "mimetype": "text/x-python",
   "name": "python",
   "nbconvert_exporter": "python",
   "pygments_lexer": "ipython3",
   "version": "3.9.13"
  }
 },
 "nbformat": 4,
 "nbformat_minor": 5
}
