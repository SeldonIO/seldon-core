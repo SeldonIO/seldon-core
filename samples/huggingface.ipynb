{
 "cells": [
  {
   "cell_type": "markdown",
   "id": "lesbian-springer",
   "metadata": {},
   "source": [
    "## Huggingface Examples\n"
   ]
  },
  {
   "cell_type": "markdown",
   "id": "5b1925df",
   "metadata": {},
   "source": [
    "### Text Generation Model\n"
   ]
  },
  {
   "cell_type": "code",
   "execution_count": 45,
   "id": "8b4be911",
   "metadata": {},
   "outputs": [
    {
     "name": "stdout",
     "output_type": "stream",
     "text": [
      "apiVersion: mlops.seldon.io/v1alpha1\r\n",
      "kind: Model\r\n",
      "metadata:\r\n",
      "  name: text-gen\r\n",
      "spec:\r\n",
      "  storageUri: \"gs://seldon-models/mlserver/huggingface/text-generation\"\r\n",
      "  requirements:\r\n",
      "  - huggingface\r\n"
     ]
    }
   ],
   "source": [
    "!cat ./models/hf-text-gen.yaml"
   ]
  },
  {
   "cell_type": "markdown",
   "id": "26c11833",
   "metadata": {},
   "source": [
    "Load the model"
   ]
  },
  {
   "cell_type": "code",
   "execution_count": 46,
   "id": "checked-cream",
   "metadata": {},
   "outputs": [
    {
     "name": "stdout",
     "output_type": "stream",
     "text": [
      "{}\r\n"
     ]
    }
   ],
   "source": [
    "!seldon model load -f ./models/hf-text-gen.yaml"
   ]
  },
  {
   "cell_type": "code",
   "execution_count": 48,
   "id": "interracial-secret",
   "metadata": {},
   "outputs": [
    {
     "name": "stdout",
     "output_type": "stream",
     "text": [
      "{}\r\n"
     ]
    }
   ],
   "source": [
    "!seldon model status text-gen -w ModelAvailable | jq -M ."
   ]
  },
  {
   "cell_type": "code",
   "execution_count": 49,
   "id": "upper-cholesterol",
   "metadata": {},
   "outputs": [
    {
     "name": "stdout",
     "output_type": "stream",
     "text": [
      "{\r\n",
      "\t\"model_name\": \"text-gen_1\",\r\n",
      "\t\"model_version\": \"1\",\r\n",
      "\t\"id\": \"95270c33-e2e3-4799-b243-06e834e730b8\",\r\n",
      "\t\"parameters\": {},\r\n",
      "\t\"outputs\": [\r\n",
      "\t\t{\r\n",
      "\t\t\t\"name\": \"output\",\r\n",
      "\t\t\t\"shape\": [\r\n",
      "\t\t\t\t1,\r\n",
      "\t\t\t\t1\r\n",
      "\t\t\t],\r\n",
      "\t\t\t\"datatype\": \"BYTES\",\r\n",
      "\t\t\t\"parameters\": {\r\n",
      "\t\t\t\t\"content_type\": \"hg_jsonlist\"\r\n",
      "\t\t\t},\r\n",
      "\t\t\t\"data\": [\r\n",
      "\t\t\t\t\"{\\\"generated_text\\\": \\\"Once upon a time in a galaxy far away?\\\\nI hope the experience will be filled with awe and excitement for our current hero's creation. I would love for you to give you an opportunity to enjoy the game and share some of the gameplay ideas\\\"}\"\r\n",
      "\t\t\t]\r\n",
      "\t\t}\r\n",
      "\t]\r\n",
      "}\r\n"
     ]
    }
   ],
   "source": [
    "!seldon model infer text-gen \\\n",
    "  '{\"inputs\": [{\"name\": \"args\",\"shape\": [1],\"datatype\": \"BYTES\",\"data\": [\"Once upon a time in a galaxy far away\"]}]}' "
   ]
  },
  {
   "cell_type": "code",
   "execution_count": 50,
   "id": "right-talent",
   "metadata": {},
   "outputs": [],
   "source": [
    "res = !seldon model infer text-gen --inference-mode grpc \\\n",
    "   '{\"inputs\":[{\"name\":\"args\",\"contents\":{\"bytes_contents\":[\"T25jZSB1cG9uIGEgdGltZQo=\"]},\"datatype\":\"BYTES\",\"shape\":[1]}]}' "
   ]
  },
  {
   "cell_type": "code",
   "execution_count": 51,
   "id": "4a7d7108",
   "metadata": {},
   "outputs": [
    {
     "data": {
      "text/plain": [
       "b'{\"generated_text\": \"Once upon a time\\\\n\\\\n\\\\n\\\\n\\\\n\\\\n\\\\n\\\\n\\\\n\\\\n\\\\n\\\\n\\\\n\\\\n\\\\n\\\\n\\\\n\\\\n\\\\n\\\\n\\\\n\\\\n\\\\n\\\\n\\\\n\\\\n\\\\n\\\\n\\\\n\\\\n\\\\n\\\\n\\\\n\\\\n\\\\n\\\\n\\\\n\\\\n\\\\n\\\\n\\\\n\"}'"
      ]
     },
     "execution_count": 51,
     "metadata": {},
     "output_type": "execute_result"
    }
   ],
   "source": [
    "import json\n",
    "import base64\n",
    "r = json.loads(res[0])\n",
    "base64.b64decode(r[\"outputs\"][0][\"contents\"][\"bytesContents\"][0])"
   ]
  },
  {
   "cell_type": "markdown",
   "id": "d95a5f03",
   "metadata": {},
   "source": [
    "Unload the model"
   ]
  },
  {
   "cell_type": "code",
   "execution_count": 52,
   "id": "ceramic-illness",
   "metadata": {},
   "outputs": [],
   "source": [
    "!seldon model unload text-gen"
   ]
  },
  {
   "cell_type": "markdown",
   "id": "6ff63bb7",
   "metadata": {},
   "source": [
    "### Custom Text Generation Model\n"
   ]
  },
  {
   "cell_type": "code",
   "execution_count": 53,
   "id": "6d48e38c",
   "metadata": {},
   "outputs": [
    {
     "name": "stdout",
     "output_type": "stream",
     "text": [
      "apiVersion: mlops.seldon.io/v1alpha1\r\n",
      "kind: Model\r\n",
      "metadata:\r\n",
      "  name: custom-text-gen\r\n",
      "spec:\r\n",
      "  storageUri: \"gs://viktor-models/scv2/samples/mlserver_1.3.5/text-generation-huggingface\"  # change bucket name\r\n",
      "  requirements:\r\n",
      "    - huggingface\r\n",
      "  memory: 3Gi\r\n"
     ]
    }
   ],
   "source": [
    "!cat ./models/hf-custom-text-gen.yaml"
   ]
  },
  {
   "cell_type": "markdown",
   "id": "62ec637f",
   "metadata": {},
   "source": [
    "Load the model"
   ]
  },
  {
   "cell_type": "code",
   "execution_count": 54,
   "id": "abef8088",
   "metadata": {},
   "outputs": [
    {
     "name": "stdout",
     "output_type": "stream",
     "text": [
      "{}\r\n"
     ]
    }
   ],
   "source": [
    "!seldon model load -f ./models/hf-custom-text-gen.yaml"
   ]
  },
  {
   "cell_type": "code",
   "execution_count": 55,
   "id": "f25c54d4",
   "metadata": {
    "scrolled": true
   },
   "outputs": [
    {
     "name": "stdout",
     "output_type": "stream",
     "text": [
      "{}\r\n"
     ]
    }
   ],
   "source": [
    "!seldon model status custom-text-gen -w ModelAvailable | jq -M ."
   ]
  },
  {
   "cell_type": "code",
   "execution_count": 56,
   "id": "21f26bbd",
   "metadata": {},
   "outputs": [
    {
     "name": "stdout",
     "output_type": "stream",
     "text": [
      "{\r\n",
      "\t\"model_name\": \"custom-text-gen_1\",\r\n",
      "\t\"model_version\": \"1\",\r\n",
      "\t\"id\": \"726a4b73-25b6-4f6c-8473-02ab5eaa72fd\",\r\n",
      "\t\"parameters\": {},\r\n",
      "\t\"outputs\": [\r\n",
      "\t\t{\r\n",
      "\t\t\t\"name\": \"output\",\r\n",
      "\t\t\t\"shape\": [\r\n",
      "\t\t\t\t1,\r\n",
      "\t\t\t\t1\r\n",
      "\t\t\t],\r\n",
      "\t\t\t\"datatype\": \"BYTES\",\r\n",
      "\t\t\t\"parameters\": {\r\n",
      "\t\t\t\t\"content_type\": \"hg_jsonlist\"\r\n",
      "\t\t\t},\r\n",
      "\t\t\t\"data\": [\r\n",
      "\t\t\t\t\"{\\\"generated_text\\\": \\\"Once upon a time in a galaxy far away that the vast majority of our current civilization is of the same technological, racial, and culture, humanity may have found a way out of those limitations. This may be where the future is not at stake.\\\"}\"\r\n",
      "\t\t\t]\r\n",
      "\t\t}\r\n",
      "\t]\r\n",
      "}\r\n"
     ]
    }
   ],
   "source": [
    "!seldon model infer custom-text-gen \\\n",
    "  '{\"inputs\": [{\"name\": \"args\",\"shape\": [1],\"datatype\": \"BYTES\",\"data\": [\"Once upon a time in a galaxy far away\"]}]}'"
   ]
  },
  {
   "cell_type": "code",
   "execution_count": 57,
   "id": "30e8bb29",
   "metadata": {},
   "outputs": [],
   "source": [
    "res = !seldon model infer custom-text-gen --inference-mode grpc \\\n",
    "   '{\"inputs\":[{\"name\":\"args\",\"contents\":{\"bytes_contents\":[\"T25jZSB1cG9uIGEgdGltZQo=\"]},\"datatype\":\"BYTES\",\"shape\":[1]}]}' "
   ]
  },
  {
   "cell_type": "code",
   "execution_count": 58,
   "id": "eab4929b",
   "metadata": {},
   "outputs": [
    {
     "data": {
      "text/plain": [
       "b'{\"generated_text\": \"Once upon a time\\\\n\\\\nIn the past, there were certain classes of adventurers and travelers, who sought to enter a single location and do one thing a little different than everybody else. Then there were those who were good folk, and those who had\"}'"
      ]
     },
     "execution_count": 58,
     "metadata": {},
     "output_type": "execute_result"
    }
   ],
   "source": [
    "import json\n",
    "import base64\n",
    "r = json.loads(res[0])\n",
    "base64.b64decode(r[\"outputs\"][0][\"contents\"][\"bytesContents\"][0])"
   ]
  },
  {
   "cell_type": "markdown",
   "id": "877e266c",
   "metadata": {},
   "source": [
    "Unload the model"
   ]
  },
  {
   "cell_type": "code",
   "execution_count": 59,
   "id": "e1829439",
   "metadata": {},
   "outputs": [],
   "source": [
    "!seldon model unload custom-text-gen"
   ]
  },
  {
   "cell_type": "code",
   "execution_count": null,
   "id": "bb46ff9d",
   "metadata": {},
   "outputs": [],
   "source": []
  }
 ],
 "metadata": {
  "kernelspec": {
   "display_name": "Python 3 (ipykernel)",
   "language": "python",
   "name": "python3"
  },
  "language_info": {
   "codemirror_mode": {
    "name": "ipython",
    "version": 3
   },
   "file_extension": ".py",
   "mimetype": "text/x-python",
   "name": "python",
   "nbconvert_exporter": "python",
   "pygments_lexer": "ipython3",
   "version": "3.10.12"
  }
 },
 "nbformat": 4,
 "nbformat_minor": 5
}
