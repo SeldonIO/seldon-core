{
 "cells": [
  {
   "cell_type": "markdown",
   "id": "lesbian-springer",
   "metadata": {},
   "source": [
    "## Huggingface Examples\n"
   ]
  },
  {
   "cell_type": "markdown",
   "id": "5b1925df",
   "metadata": {},
   "source": [
    "### Text Generation Model\n"
   ]
  },
  {
   "cell_type": "code",
   "execution_count": 1,
   "id": "8b4be911",
   "metadata": {},
   "outputs": [
    {
     "name": "stdout",
     "output_type": "stream",
     "text": [
      "apiVersion: mlops.seldon.io/v1alpha1\r\n",
      "kind: Model\r\n",
      "metadata:\r\n",
      "  name: text-gen\r\n",
      "spec:\r\n",
      "  storageUri: \"gs://seldon-models/mlserver/huggingface/text-generation\"\r\n",
      "  requirements:\r\n",
      "  - huggingface\r\n"
     ]
    }
   ],
   "source": [
    "!cat ./models/hf-text-gen.yaml"
   ]
  },
  {
   "cell_type": "markdown",
   "id": "26c11833",
   "metadata": {},
   "source": [
    "Load the model"
   ]
  },
  {
   "cell_type": "code",
   "execution_count": 2,
   "id": "checked-cream",
   "metadata": {},
   "outputs": [
    {
     "name": "stdout",
     "output_type": "stream",
     "text": [
      "{}\r\n"
     ]
    }
   ],
   "source": [
    "!seldon model load -f ./models/hf-text-gen.yaml"
   ]
  },
  {
   "cell_type": "code",
   "execution_count": 3,
   "id": "interracial-secret",
   "metadata": {},
   "outputs": [
    {
     "name": "stdout",
     "output_type": "stream",
     "text": [
      "{}\r\n"
     ]
    }
   ],
   "source": [
    "!seldon model status text-gen -w ModelAvailable | jq -M ."
   ]
  },
  {
   "cell_type": "code",
   "execution_count": 4,
   "id": "upper-cholesterol",
   "metadata": {},
   "outputs": [
    {
     "name": "stdout",
     "output_type": "stream",
     "text": [
      "{\r\n",
      "\t\"model_name\": \"text-gen_1\",\r\n",
      "\t\"model_version\": \"1\",\r\n",
      "\t\"id\": \"bcd24642-ade5-4b39-9c70-5d62bbfbe43c\",\r\n",
      "\t\"parameters\": {},\r\n",
      "\t\"outputs\": [\r\n",
      "\t\t{\r\n",
      "\t\t\t\"name\": \"output\",\r\n",
      "\t\t\t\"shape\": [\r\n",
      "\t\t\t\t1,\r\n",
      "\t\t\t\t1\r\n",
      "\t\t\t],\r\n",
      "\t\t\t\"datatype\": \"BYTES\",\r\n",
      "\t\t\t\"parameters\": {\r\n",
      "\t\t\t\t\"content_type\": \"hg_jsonlist\"\r\n",
      "\t\t\t},\r\n",
      "\t\t\t\"data\": [\r\n",
      "\t\t\t\t\"{\\\"generated_text\\\": \\\"Once upon a time in a galaxy far away, the Galaxy has made it a little easier to travel to and from your home planet through the galaxy's solar system. The planet's atmosphere is also a key asset to the Galaxy's galactic evolution! The\\\"}\"\r\n",
      "\t\t\t]\r\n",
      "\t\t}\r\n",
      "\t]\r\n",
      "}\r\n"
     ]
    }
   ],
   "source": [
    "!seldon model infer text-gen \\\n",
    "  '{\"inputs\": [{\"name\": \"args\",\"shape\": [1],\"datatype\": \"BYTES\",\"data\": [\"Once upon a time in a galaxy far away\"]}]}' "
   ]
  },
  {
   "cell_type": "code",
   "execution_count": 5,
   "id": "right-talent",
   "metadata": {},
   "outputs": [],
   "source": [
    "res = !seldon model infer text-gen --inference-mode grpc \\\n",
    "   '{\"inputs\":[{\"name\":\"args\",\"contents\":{\"bytes_contents\":[\"T25jZSB1cG9uIGEgdGltZQo=\"]},\"datatype\":\"BYTES\",\"shape\":[1]}]}' "
   ]
  },
  {
   "cell_type": "code",
   "execution_count": 6,
   "id": "4a7d7108",
   "metadata": {},
   "outputs": [
    {
     "data": {
      "text/plain": [
       "b'{\"generated_text\": \"Once upon a time\\\\n\\\\n\\\\nI have no idea if he or she will fall prey to my whims\\\\nAnd\\\\n\\\\nAnd when\\\\n\\\\nOr\\\\n\\\\nAnd when I say\\\\nTo\\\\n\\\\nI\\'ll have to\\\\nEven\\\\nOr\\\\nTo\"}'"
      ]
     },
     "execution_count": 6,
     "metadata": {},
     "output_type": "execute_result"
    }
   ],
   "source": [
    "import json\n",
    "import base64\n",
    "r = json.loads(res[0])\n",
    "base64.b64decode(r[\"outputs\"][0][\"contents\"][\"bytesContents\"][0])"
   ]
  },
  {
   "cell_type": "markdown",
   "id": "d95a5f03",
   "metadata": {},
   "source": [
    "Unload the model"
   ]
  },
  {
   "cell_type": "code",
   "execution_count": 7,
   "id": "ceramic-illness",
   "metadata": {},
   "outputs": [],
   "source": [
    "!seldon model unload text-gen"
   ]
  },
  {
   "cell_type": "markdown",
   "id": "6ff63bb7",
   "metadata": {},
   "source": [
    "### Custom Text Generation Model\n"
   ]
  },
  {
   "cell_type": "code",
   "execution_count": 8,
   "id": "6d48e38c",
   "metadata": {},
   "outputs": [
    {
     "name": "stdout",
     "output_type": "stream",
     "text": [
      "apiVersion: mlops.seldon.io/v1alpha1\r\n",
      "kind: Model\r\n",
      "metadata:\r\n",
      "  name: custom-text-gen\r\n",
      "spec:\r\n",
      "  storageUri: \"gs://seldon-models/scv2/samples/mlserver_1.3.5/custom-text-generation-huggingface\"\r\n",
      "  requirements:\r\n",
      "    - huggingface\r\n",
      "  memory: 3Gi\r\n"
     ]
    }
   ],
   "source": [
    "!cat ./models/hf-custom-text-gen.yaml"
   ]
  },
  {
   "cell_type": "markdown",
   "id": "62ec637f",
   "metadata": {},
   "source": [
    "Load the model"
   ]
  },
  {
   "cell_type": "code",
   "execution_count": 9,
   "id": "abef8088",
   "metadata": {},
   "outputs": [
    {
     "name": "stdout",
     "output_type": "stream",
     "text": [
      "{}\r\n"
     ]
    }
   ],
   "source": [
    "!seldon model load -f ./models/hf-custom-text-gen.yaml"
   ]
  },
  {
   "cell_type": "code",
   "execution_count": 10,
   "id": "f25c54d4",
   "metadata": {
    "scrolled": true
   },
   "outputs": [
    {
     "name": "stdout",
     "output_type": "stream",
     "text": [
      "{}\r\n"
     ]
    }
   ],
   "source": [
    "!seldon model status custom-text-gen -w ModelAvailable | jq -M ."
   ]
  },
  {
   "cell_type": "code",
   "execution_count": 11,
   "id": "21f26bbd",
   "metadata": {},
   "outputs": [
    {
     "name": "stdout",
     "output_type": "stream",
     "text": [
      "{\r\n",
      "\t\"model_name\": \"custom-text-gen_1\",\r\n",
      "\t\"model_version\": \"1\",\r\n",
      "\t\"id\": \"ea5d4209-a5cf-4179-ba81-87b8bcfdf894\",\r\n",
      "\t\"parameters\": {},\r\n",
      "\t\"outputs\": [\r\n",
      "\t\t{\r\n",
      "\t\t\t\"name\": \"output\",\r\n",
      "\t\t\t\"shape\": [\r\n",
      "\t\t\t\t1,\r\n",
      "\t\t\t\t1\r\n",
      "\t\t\t],\r\n",
      "\t\t\t\"datatype\": \"BYTES\",\r\n",
      "\t\t\t\"parameters\": {\r\n",
      "\t\t\t\t\"content_type\": \"hg_jsonlist\"\r\n",
      "\t\t\t},\r\n",
      "\t\t\t\"data\": [\r\n",
      "\t\t\t\t\"{\\\"generated_text\\\": \\\"Once upon a time in a galaxy far away, scientists in the universe are told the universe is on a collision course with stars, and the result is the emergence of new universes. This has been possible for, say, the distant history of the Milky\\\"}\"\r\n",
      "\t\t\t]\r\n",
      "\t\t}\r\n",
      "\t]\r\n",
      "}\r\n"
     ]
    }
   ],
   "source": [
    "!seldon model infer custom-text-gen \\\n",
    "  '{\"inputs\": [{\"name\": \"args\",\"shape\": [1],\"datatype\": \"BYTES\",\"data\": [\"Once upon a time in a galaxy far away\"]}]}'"
   ]
  },
  {
   "cell_type": "code",
   "execution_count": 12,
   "id": "30e8bb29",
   "metadata": {},
   "outputs": [],
   "source": [
    "res = !seldon model infer custom-text-gen --inference-mode grpc \\\n",
    "   '{\"inputs\":[{\"name\":\"args\",\"contents\":{\"bytes_contents\":[\"T25jZSB1cG9uIGEgdGltZQo=\"]},\"datatype\":\"BYTES\",\"shape\":[1]}]}' "
   ]
  },
  {
   "cell_type": "code",
   "execution_count": 13,
   "id": "eab4929b",
   "metadata": {},
   "outputs": [
    {
     "data": {
      "text/plain": [
       "b'{\"generated_text\": \"Once upon a time\\\\n\\\\nand again\\\\n\\\\nwe took care not a minute of\\\\n\\\\nbeing alone in a\\\\n\\\\nworld that we had not seen\\\\n\\\\nfor\\\\n\\\\nten thousand years\\\\n\\\\nbefore it occurred to our\\\\n\\\\nmind that\"}'"
      ]
     },
     "execution_count": 13,
     "metadata": {},
     "output_type": "execute_result"
    }
   ],
   "source": [
    "import json\n",
    "import base64\n",
    "r = json.loads(res[0])\n",
    "base64.b64decode(r[\"outputs\"][0][\"contents\"][\"bytesContents\"][0])"
   ]
  },
  {
   "cell_type": "markdown",
   "id": "877e266c",
   "metadata": {},
   "source": [
    "Unload the model"
   ]
  },
  {
   "cell_type": "code",
   "execution_count": 14,
   "id": "e1829439",
   "metadata": {},
   "outputs": [],
   "source": [
    "!seldon model unload custom-text-gen"
   ]
  }
 ],
 "metadata": {
  "kernelspec": {
   "display_name": "Python 3 (ipykernel)",
   "language": "python",
   "name": "python3"
  },
  "language_info": {
   "codemirror_mode": {
    "name": "ipython",
    "version": 3
   },
   "file_extension": ".py",
   "mimetype": "text/x-python",
   "name": "python",
   "nbconvert_exporter": "python",
   "pygments_lexer": "ipython3",
   "version": "3.10.12"
  }
 },
 "nbformat": 4,
 "nbformat_minor": 5
}
