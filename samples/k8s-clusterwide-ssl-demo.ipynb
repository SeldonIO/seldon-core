{
 "cells": [
  {
   "cell_type": "markdown",
   "id": "6ebca60b",
   "metadata": {},
   "source": [
    "## Kubernetes Clusterwide SSL Demo"
   ]
  },
  {
   "cell_type": "markdown",
   "id": "ba016c14",
   "metadata": {},
   "source": [
    "### Setup\n",
    "\n",
    "Create a Kind cluster by using an ansible playbook from the project `ansible` folder.\n"
   ]
  },
  {
   "cell_type": "code",
   "execution_count": null,
   "id": "8bc29bc5",
   "metadata": {},
   "outputs": [],
   "source": [
    "!cd ../ansible && ansible-playbook playbooks/kind-cluster.yaml"
   ]
  },
  {
   "cell_type": "code",
   "execution_count": null,
   "id": "b12607ca",
   "metadata": {},
   "outputs": [],
   "source": [
    "!cd ../ansible && ansible-playbook playbooks/setup-ecosystem.yaml"
   ]
  },
  {
   "cell_type": "code",
   "execution_count": 25,
   "id": "b4d93216",
   "metadata": {},
   "outputs": [
    {
     "name": "stdout",
     "output_type": "stream",
     "text": [
      "Release \"seldon-core-v2-crds\" does not exist. Installing it now.\n",
      "NAME: seldon-core-v2-crds\n",
      "LAST DEPLOYED: Sat May 13 10:40:02 2023\n",
      "NAMESPACE: seldon-mesh\n",
      "STATUS: deployed\n",
      "REVISION: 1\n",
      "TEST SUITE: None\n"
     ]
    }
   ],
   "source": [
    "!helm upgrade --install seldon-core-v2-crds  ../k8s/helm-charts/seldon-core-v2-crds -n seldon-mesh"
   ]
  },
  {
   "cell_type": "code",
   "execution_count": null,
   "id": "bcf13333",
   "metadata": {},
   "outputs": [],
   "source": [
    "!kubectl create namespace ns1"
   ]
  },
  {
   "cell_type": "code",
   "execution_count": null,
   "id": "edba01cd",
   "metadata": {},
   "outputs": [],
   "source": [
    "!kubectl create namespace ns2"
   ]
  },
  {
   "cell_type": "code",
   "execution_count": null,
   "id": "6a9cdb85",
   "metadata": {},
   "outputs": [],
   "source": [
    "!cat ../k8s/samples/values-tls-dataplane-controlplane-example.yaml"
   ]
  },
  {
   "cell_type": "code",
   "execution_count": 26,
   "id": "71bf922e",
   "metadata": {},
   "outputs": [
    {
     "name": "stdout",
     "output_type": "stream",
     "text": [
      "NAME: seldon-v2\r\n",
      "LAST DEPLOYED: Sat May 13 10:48:56 2023\r\n",
      "NAMESPACE: seldon-mesh\r\n",
      "STATUS: deployed\r\n",
      "REVISION: 1\r\n",
      "TEST SUITE: None\r\n"
     ]
    }
   ],
   "source": [
    "!helm install seldon-v2 ../k8s/helm-charts/seldon-core-v2-setup/ -n seldon-mesh --set controller.clusterwide=true --values ../k8s/samples/values-tls-dataplane-controlplane-example.yaml"
   ]
  },
  {
   "cell_type": "code",
   "execution_count": 30,
   "id": "e28147b1",
   "metadata": {},
   "outputs": [
    {
     "name": "stdout",
     "output_type": "stream",
     "text": [
      "NAME: seldon-v2-runtime\r\n",
      "LAST DEPLOYED: Sat May 13 11:58:39 2023\r\n",
      "NAMESPACE: ns1\r\n",
      "STATUS: deployed\r\n",
      "REVISION: 1\r\n",
      "TEST SUITE: None\r\n"
     ]
    }
   ],
   "source": [
    "!helm install seldon-v2-runtime ../k8s/helm-charts/seldon-core-v2-runtime  -n ns1"
   ]
  },
  {
   "cell_type": "code",
   "execution_count": null,
   "id": "4423b5f5",
   "metadata": {},
   "outputs": [],
   "source": [
    "!helm install seldon-v2-runtime ../k8s/helm-charts/seldon-core-v2-runtime  -n ns2"
   ]
  },
  {
   "cell_type": "markdown",
   "id": "7d05ee2b",
   "metadata": {},
   "source": [
    "### Setup TLS Config"
   ]
  },
  {
   "cell_type": "code",
   "execution_count": 8,
   "id": "3835b3dc",
   "metadata": {},
   "outputs": [
    {
     "data": {
      "text/plain": [
       "'172.21.255.2'"
      ]
     },
     "execution_count": 8,
     "metadata": {},
     "output_type": "execute_result"
    }
   ],
   "source": [
    "MESH_IP=!kubectl get svc seldon-mesh -n ns1 -o jsonpath='{.status.loadBalancer.ingress[0].ip}'\n",
    "MESH_IP_NS1=MESH_IP[0]\n",
    "import os\n",
    "os.environ['MESH_IP_NS1'] = MESH_IP_NS1\n",
    "MESH_IP_NS1"
   ]
  },
  {
   "cell_type": "code",
   "execution_count": null,
   "id": "33f7a263",
   "metadata": {},
   "outputs": [],
   "source": [
    "MESH_IP=!kubectl get svc seldon-mesh -n ns2 -o jsonpath='{.status.loadBalancer.ingress[0].ip}'\n",
    "MESH_IP_NS2=MESH_IP[0]\n",
    "import os\n",
    "os.environ['MESH_IP_NS2'] = MESH_IP_NS2\n",
    "MESH_IP_NS2"
   ]
  },
  {
   "cell_type": "code",
   "execution_count": null,
   "id": "181faf47",
   "metadata": {},
   "outputs": [],
   "source": [
    "!seldon config add tls ${PWD}/config-dataplane-tls.json"
   ]
  },
  {
   "cell_type": "code",
   "execution_count": null,
   "id": "5db513b9",
   "metadata": {},
   "outputs": [],
   "source": [
    "!seldon config activate tls"
   ]
  },
  {
   "cell_type": "markdown",
   "id": "2243a193",
   "metadata": {},
   "source": [
    "### Launch model in namespace ns1"
   ]
  },
  {
   "cell_type": "code",
   "execution_count": 9,
   "id": "fc5fdee5",
   "metadata": {},
   "outputs": [
    {
     "name": "stdout",
     "output_type": "stream",
     "text": [
      "model.mlops.seldon.io/iris created\r\n"
     ]
    }
   ],
   "source": [
    "!kubectl create -f ./models/sklearn-iris-gs.yaml -n ns1"
   ]
  },
  {
   "cell_type": "code",
   "execution_count": 10,
   "id": "5c1328c8",
   "metadata": {},
   "outputs": [
    {
     "name": "stdout",
     "output_type": "stream",
     "text": [
      "model.mlops.seldon.io/iris condition met\r\n"
     ]
    }
   ],
   "source": [
    "!kubectl wait --for condition=ready --timeout=300s model --all -n ns1"
   ]
  },
  {
   "cell_type": "code",
   "execution_count": 11,
   "id": "d048aa51",
   "metadata": {},
   "outputs": [
    {
     "name": "stdout",
     "output_type": "stream",
     "text": [
      "{\r\n",
      "\t\"model_name\": \"iris_1\",\r\n",
      "\t\"model_version\": \"1\",\r\n",
      "\t\"id\": \"b0629eed-5438-4dfc-8314-db461cdb08a0\",\r\n",
      "\t\"parameters\": {},\r\n",
      "\t\"outputs\": [\r\n",
      "\t\t{\r\n",
      "\t\t\t\"name\": \"predict\",\r\n",
      "\t\t\t\"shape\": [\r\n",
      "\t\t\t\t1,\r\n",
      "\t\t\t\t1\r\n",
      "\t\t\t],\r\n",
      "\t\t\t\"datatype\": \"INT64\",\r\n",
      "\t\t\t\"data\": [\r\n",
      "\t\t\t\t2\r\n",
      "\t\t\t]\r\n",
      "\t\t}\r\n",
      "\t]\r\n",
      "}\r\n"
     ]
    }
   ],
   "source": [
    "!seldon model infer iris --inference-host ${MESH_IP_NS1}:80 \\\n",
    "  '{\"inputs\": [{\"name\": \"predict\", \"shape\": [1, 4], \"datatype\": \"FP32\", \"data\": [[1, 2, 3, 4]]}]}' "
   ]
  },
  {
   "cell_type": "markdown",
   "id": "53ea1e35",
   "metadata": {},
   "source": [
    "### Launch model in namespace ns2"
   ]
  },
  {
   "cell_type": "code",
   "execution_count": null,
   "id": "5e2e72aa",
   "metadata": {},
   "outputs": [],
   "source": [
    "!kubectl create -f ./models/sklearn-iris-gs.yaml -n ns2"
   ]
  },
  {
   "cell_type": "code",
   "execution_count": null,
   "id": "6cb7f562",
   "metadata": {},
   "outputs": [],
   "source": [
    "!kubectl wait --for condition=ready --timeout=300s model --all -n ns2"
   ]
  },
  {
   "cell_type": "code",
   "execution_count": null,
   "id": "4f116773",
   "metadata": {},
   "outputs": [],
   "source": [
    "!seldon model infer iris --inference-host ${MESH_IP_NS2}:80 \\\n",
    "  '{\"inputs\": [{\"name\": \"predict\", \"shape\": [1, 4], \"datatype\": \"FP32\", \"data\": [[1, 2, 3, 4]]}]}' "
   ]
  },
  {
   "cell_type": "markdown",
   "id": "2177c110",
   "metadata": {},
   "source": [
    "## TearDown"
   ]
  },
  {
   "cell_type": "code",
   "execution_count": 17,
   "id": "11d99aac",
   "metadata": {},
   "outputs": [
    {
     "name": "stdout",
     "output_type": "stream",
     "text": [
      "Error from server (NotFound): error when deleting \"./models/sklearn-iris-gs.yaml\": models.mlops.seldon.io \"iris\" not found\r\n"
     ]
    }
   ],
   "source": [
    "!kubectl delete -f ./models/sklearn-iris-gs.yaml -n ns1"
   ]
  },
  {
   "cell_type": "code",
   "execution_count": null,
   "id": "d91cd84a",
   "metadata": {},
   "outputs": [],
   "source": [
    "!kubectl delete -f ./models/sklearn-iris-gs.yaml -n ns2"
   ]
  },
  {
   "cell_type": "code",
   "execution_count": 28,
   "id": "3a84da13",
   "metadata": {},
   "outputs": [
    {
     "name": "stdout",
     "output_type": "stream",
     "text": [
      "release \"seldon-v2-runtime\" uninstalled\r\n"
     ]
    }
   ],
   "source": [
    "!helm delete seldon-v2-runtime -n ns1"
   ]
  },
  {
   "cell_type": "code",
   "execution_count": 23,
   "id": "a5e6e07c",
   "metadata": {},
   "outputs": [
    {
     "name": "stdout",
     "output_type": "stream",
     "text": [
      "Error: uninstall: Release not loaded: seldon-v2-runtime: release: not found\r\n"
     ]
    }
   ],
   "source": [
    "!helm delete seldon-v2-runtime -n ns2"
   ]
  },
  {
   "cell_type": "code",
   "execution_count": 29,
   "id": "4b13fb4a",
   "metadata": {},
   "outputs": [
    {
     "name": "stdout",
     "output_type": "stream",
     "text": [
      "release \"seldon-v2\" uninstalled\r\n"
     ]
    }
   ],
   "source": [
    "!helm delete seldon-v2  -n seldon-mesh"
   ]
  },
  {
   "cell_type": "code",
   "execution_count": null,
   "id": "f06f0dac",
   "metadata": {},
   "outputs": [],
   "source": []
  }
 ],
 "metadata": {
  "kernelspec": {
   "display_name": "Python 3 (ipykernel)",
   "language": "python",
   "name": "python3"
  },
  "language_info": {
   "codemirror_mode": {
    "name": "ipython",
    "version": 3
   },
   "file_extension": ".py",
   "mimetype": "text/x-python",
   "name": "python",
   "nbconvert_exporter": "python",
   "pygments_lexer": "ipython3",
   "version": "3.9.13"
  }
 },
 "nbformat": 4,
 "nbformat_minor": 5
}
