{
 "cells": [
  {
   "cell_type": "markdown",
   "id": "63d7c33b",
   "metadata": {},
   "source": [
    "## Kubernetes Clusterwide SSL Demo"
   ]
  },
  {
   "cell_type": "markdown",
   "id": "bd4beaf7",
   "metadata": {},
   "source": [
    "### Setup\n",
    "\n",
    "Create a Kind cluster by using an ansible playbook from the project `ansible` folder.\n"
   ]
  },
  {
   "cell_type": "code",
   "execution_count": null,
   "id": "af48abc2",
   "metadata": {},
   "outputs": [],
   "source": [
    "!cd ../ansible && ansible-playbook playbooks/kind-cluster.yaml"
   ]
  },
  {
   "cell_type": "code",
   "execution_count": null,
   "id": "36712840",
   "metadata": {},
   "outputs": [],
   "source": [
    "!cd ../ansible && ansible-playbook playbooks/setup-ecosystem.yaml"
   ]
  },
  {
   "cell_type": "code",
   "execution_count": 1,
   "id": "127d7589",
   "metadata": {},
   "outputs": [
    {
     "name": "stdout",
     "output_type": "stream",
     "text": [
      "Release \"seldon-core-v2-crds\" does not exist. Installing it now.\n",
      "NAME: seldon-core-v2-crds\n",
      "LAST DEPLOYED: Thu May 11 10:49:42 2023\n",
      "NAMESPACE: seldon-mesh\n",
      "STATUS: deployed\n",
      "REVISION: 1\n",
      "TEST SUITE: None\n"
     ]
    }
   ],
   "source": [
    "!helm upgrade --install seldon-core-v2-crds  ../k8s/helm-charts/seldon-core-v2-crds -n seldon-mesh"
   ]
  },
  {
   "cell_type": "code",
   "execution_count": 5,
   "id": "a9c8fd1e",
   "metadata": {},
   "outputs": [
    {
     "name": "stdout",
     "output_type": "stream",
     "text": [
      "namespace/ns1 created\r\n"
     ]
    }
   ],
   "source": [
    "!kubectl create namespace ns1"
   ]
  },
  {
   "cell_type": "code",
   "execution_count": 51,
   "id": "801f2ae7",
   "metadata": {},
   "outputs": [
    {
     "name": "stdout",
     "output_type": "stream",
     "text": [
      "NAME: seldon-v2-certs\r\n",
      "LAST DEPLOYED: Thu May 11 15:54:24 2023\r\n",
      "NAMESPACE: ns1\r\n",
      "STATUS: deployed\r\n",
      "REVISION: 1\r\n",
      "TEST SUITE: None\r\n"
     ]
    }
   ],
   "source": [
    "!helm install seldon-v2-certs ../k8s/helm-charts/seldon-core-v2-certs/ -n ns1"
   ]
  },
  {
   "cell_type": "code",
   "execution_count": 48,
   "id": "dde7d0c8",
   "metadata": {},
   "outputs": [
    {
     "name": "stdout",
     "output_type": "stream",
     "text": [
      "NAME: seldon-v2\r\n",
      "LAST DEPLOYED: Thu May 11 15:42:18 2023\r\n",
      "NAMESPACE: seldon-mesh\r\n",
      "STATUS: deployed\r\n",
      "REVISION: 1\r\n",
      "TEST SUITE: None\r\n"
     ]
    }
   ],
   "source": [
    "!helm install seldon-v2 ../k8s/helm-charts/seldon-core-v2-setup/ -n seldon-mesh --set controller.clusterwide=true --values ../k8s/samples/values-tls-dataplane-controlplane-example.yaml"
   ]
  },
  {
   "cell_type": "code",
   "execution_count": 66,
   "id": "deb07bb0",
   "metadata": {},
   "outputs": [
    {
     "name": "stdout",
     "output_type": "stream",
     "text": [
      "NAME: seldon-v2-runtime\r\n",
      "LAST DEPLOYED: Thu May 11 17:15:04 2023\r\n",
      "NAMESPACE: ns1\r\n",
      "STATUS: deployed\r\n",
      "REVISION: 1\r\n",
      "TEST SUITE: None\r\n"
     ]
    }
   ],
   "source": [
    "!helm install seldon-v2-runtime ../k8s/helm-charts/seldon-core-v2-runtime  -n ns1 --wait"
   ]
  },
  {
   "cell_type": "markdown",
   "id": "41e83e27",
   "metadata": {},
   "source": [
    "### Setup TLS Config"
   ]
  },
  {
   "cell_type": "code",
   "execution_count": 67,
   "id": "f2148afb",
   "metadata": {},
   "outputs": [
    {
     "data": {
      "text/plain": [
       "'172.21.255.2'"
      ]
     },
     "execution_count": 67,
     "metadata": {},
     "output_type": "execute_result"
    }
   ],
   "source": [
    "MESH_IP=!kubectl get svc seldon-mesh -n ns1 -o jsonpath='{.status.loadBalancer.ingress[0].ip}'\n",
    "MESH_IP_NS1=MESH_IP[0]\n",
    "import os\n",
    "os.environ['MESH_IP_NS1'] = MESH_IP_NS1\n",
    "MESH_IP_NS1"
   ]
  },
  {
   "cell_type": "code",
   "execution_count": 68,
   "id": "3c41fb51",
   "metadata": {},
   "outputs": [],
   "source": [
    "!seldon config add tls ${PWD}/config-dataplane-tls.json"
   ]
  },
  {
   "cell_type": "code",
   "execution_count": 69,
   "id": "7fe316e5",
   "metadata": {},
   "outputs": [],
   "source": [
    "!seldon config activate tls"
   ]
  },
  {
   "cell_type": "markdown",
   "id": "92fbfbf8",
   "metadata": {},
   "source": [
    "### Launch model"
   ]
  },
  {
   "cell_type": "code",
   "execution_count": 70,
   "id": "e1aa39e1",
   "metadata": {},
   "outputs": [
    {
     "name": "stdout",
     "output_type": "stream",
     "text": [
      "model.mlops.seldon.io/iris created\r\n"
     ]
    }
   ],
   "source": [
    "!kubectl create -f ./models/sklearn-iris-gs.yaml -n ns1"
   ]
  },
  {
   "cell_type": "code",
   "execution_count": 71,
   "id": "5540b8eb",
   "metadata": {},
   "outputs": [
    {
     "name": "stdout",
     "output_type": "stream",
     "text": [
      "model.mlops.seldon.io/iris condition met\r\n"
     ]
    }
   ],
   "source": [
    "!kubectl wait --for condition=ready --timeout=300s model --all -n ns1"
   ]
  },
  {
   "cell_type": "code",
   "execution_count": 72,
   "id": "8be9edf0",
   "metadata": {},
   "outputs": [
    {
     "name": "stdout",
     "output_type": "stream",
     "text": [
      "{\r\n",
      "\t\"model_name\": \"iris_1\",\r\n",
      "\t\"model_version\": \"1\",\r\n",
      "\t\"id\": \"2c94701b-47bf-4637-9785-9b06e8d37d4f\",\r\n",
      "\t\"parameters\": {},\r\n",
      "\t\"outputs\": [\r\n",
      "\t\t{\r\n",
      "\t\t\t\"name\": \"predict\",\r\n",
      "\t\t\t\"shape\": [\r\n",
      "\t\t\t\t1,\r\n",
      "\t\t\t\t1\r\n",
      "\t\t\t],\r\n",
      "\t\t\t\"datatype\": \"INT64\",\r\n",
      "\t\t\t\"data\": [\r\n",
      "\t\t\t\t2\r\n",
      "\t\t\t]\r\n",
      "\t\t}\r\n",
      "\t]\r\n",
      "}\r\n"
     ]
    }
   ],
   "source": [
    "!seldon model infer iris --inference-host ${MESH_IP_NS1}:80 \\\n",
    "  '{\"inputs\": [{\"name\": \"predict\", \"shape\": [1, 4], \"datatype\": \"FP32\", \"data\": [[1, 2, 3, 4]]}]}' "
   ]
  },
  {
   "cell_type": "code",
   "execution_count": 73,
   "id": "db1a2944",
   "metadata": {},
   "outputs": [
    {
     "name": "stdout",
     "output_type": "stream",
     "text": [
      "model.mlops.seldon.io \"iris\" deleted\r\n"
     ]
    }
   ],
   "source": [
    "!kubectl delete -f ./models/sklearn-iris-gs.yaml -n ns1"
   ]
  },
  {
   "cell_type": "markdown",
   "id": "d0e76c01",
   "metadata": {},
   "source": [
    "## TearDown"
   ]
  },
  {
   "cell_type": "code",
   "execution_count": 74,
   "id": "41551150",
   "metadata": {},
   "outputs": [
    {
     "name": "stdout",
     "output_type": "stream",
     "text": [
      "release \"seldon-v2-runtime\" uninstalled\r\n"
     ]
    }
   ],
   "source": [
    "!helm delete seldon-v2-runtime -n ns1"
   ]
  },
  {
   "cell_type": "code",
   "execution_count": null,
   "id": "53de290c",
   "metadata": {},
   "outputs": [],
   "source": [
    "!helm delete seldon-v2  -n seldon-mesh"
   ]
  }
 ],
 "metadata": {
  "kernelspec": {
   "display_name": "Python 3 (ipykernel)",
   "language": "python",
   "name": "python3"
  },
  "language_info": {
   "codemirror_mode": {
    "name": "ipython",
    "version": 3
   },
   "file_extension": ".py",
   "mimetype": "text/x-python",
   "name": "python",
   "nbconvert_exporter": "python",
   "pygments_lexer": "ipython3",
   "version": "3.9.13"
  }
 },
 "nbformat": 4,
 "nbformat_minor": 5
}
