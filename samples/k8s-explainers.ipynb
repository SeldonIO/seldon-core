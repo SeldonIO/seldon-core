{
 "cells": [
  {
   "cell_type": "markdown",
   "id": "impressed-accessory",
   "metadata": {},
   "source": [
    "## Seldon V2 Kubernetes Examples\n"
   ]
  },
  {
   "cell_type": "code",
   "execution_count": 1,
   "id": "91687b33",
   "metadata": {},
   "outputs": [],
   "source": [
    "import os\n",
    "os.environ[\"NAMESPACE\"] = \"seldon-mesh\""
   ]
  },
  {
   "cell_type": "code",
   "execution_count": 2,
   "id": "sunrise-commercial",
   "metadata": {},
   "outputs": [
    {
     "data": {
      "text/plain": [
       "'172.19.255.1'"
      ]
     },
     "execution_count": 2,
     "metadata": {},
     "output_type": "execute_result"
    }
   ],
   "source": [
    "MESH_IP=!kubectl get svc seldon-mesh -n ${NAMESPACE} -o jsonpath='{.status.loadBalancer.ingress[0].ip}'\n",
    "MESH_IP=MESH_IP[0]\n",
    "import os\n",
    "os.environ['MESH_IP'] = MESH_IP\n",
    "MESH_IP"
   ]
  },
  {
   "cell_type": "markdown",
   "id": "31f99eda",
   "metadata": {},
   "source": [
    "## Explain Model"
   ]
  },
  {
   "cell_type": "code",
   "execution_count": 3,
   "id": "2c21f9c9",
   "metadata": {},
   "outputs": [
    {
     "name": "stdout",
     "output_type": "stream",
     "text": [
      "apiVersion: mlops.seldon.io/v1alpha1\r\n",
      "kind: Model\r\n",
      "metadata:\r\n",
      "  name: income\r\n",
      "spec:\r\n",
      "  storageUri: \"gs://seldon-models/scv2/examples/income/classifier\"\r\n",
      "  requirements:\r\n",
      "  - sklearn\r\n"
     ]
    }
   ],
   "source": [
    "!cat ./models/income.yaml"
   ]
  },
  {
   "cell_type": "code",
   "execution_count": 4,
   "id": "505d06ef",
   "metadata": {},
   "outputs": [
    {
     "name": "stdout",
     "output_type": "stream",
     "text": [
      "model.mlops.seldon.io/income created\r\n"
     ]
    }
   ],
   "source": [
    "!kubectl create -f ./models/income.yaml -n ${NAMESPACE}"
   ]
  },
  {
   "cell_type": "code",
   "execution_count": 5,
   "id": "46f83c79",
   "metadata": {},
   "outputs": [
    {
     "name": "stdout",
     "output_type": "stream",
     "text": [
      "model.mlops.seldon.io/income condition met\r\n"
     ]
    }
   ],
   "source": [
    "!kubectl wait --for condition=ready --timeout=300s model --all -n ${NAMESPACE}"
   ]
  },
  {
   "cell_type": "code",
   "execution_count": 6,
   "id": "00f5c247",
   "metadata": {},
   "outputs": [
    {
     "name": "stdout",
     "output_type": "stream",
     "text": [
      "{\r\n",
      "  \"conditions\": [\r\n",
      "    {\r\n",
      "      \"lastTransitionTime\": \"2022-11-24T11:54:17Z\",\r\n",
      "      \"status\": \"True\",\r\n",
      "      \"type\": \"ModelReady\"\r\n",
      "    },\r\n",
      "    {\r\n",
      "      \"lastTransitionTime\": \"2022-11-24T11:54:17Z\",\r\n",
      "      \"status\": \"True\",\r\n",
      "      \"type\": \"Ready\"\r\n",
      "    }\r\n",
      "  ],\r\n",
      "  \"replicas\": 1\r\n",
      "}\r\n"
     ]
    }
   ],
   "source": [
    "!kubectl get model income -n ${NAMESPACE} -o jsonpath='{.status}' | jq -M ."
   ]
  },
  {
   "cell_type": "code",
   "execution_count": 7,
   "id": "02d28f57",
   "metadata": {},
   "outputs": [
    {
     "name": "stdout",
     "output_type": "stream",
     "text": [
      "{\r\n",
      "\t\"model_name\": \"income_1\",\r\n",
      "\t\"model_version\": \"1\",\r\n",
      "\t\"id\": \"059ef7a5-b353-4487-a5f2-9c4bccbf7672\",\r\n",
      "\t\"parameters\": {\r\n",
      "\t\t\"content_type\": null,\r\n",
      "\t\t\"headers\": null\r\n",
      "\t},\r\n",
      "\t\"outputs\": [\r\n",
      "\t\t{\r\n",
      "\t\t\t\"name\": \"predict\",\r\n",
      "\t\t\t\"shape\": [\r\n",
      "\t\t\t\t1,\r\n",
      "\t\t\t\t1\r\n",
      "\t\t\t],\r\n",
      "\t\t\t\"datatype\": \"INT64\",\r\n",
      "\t\t\t\"parameters\": null,\r\n",
      "\t\t\t\"data\": [\r\n",
      "\t\t\t\t0\r\n",
      "\t\t\t]\r\n",
      "\t\t}\r\n",
      "\t]\r\n",
      "}\r\n"
     ]
    }
   ],
   "source": [
    "!seldon model infer income --inference-host ${MESH_IP}:80 \\\n",
    "     '{\"inputs\": [{\"name\": \"predict\", \"shape\": [1, 12], \"datatype\": \"FP32\", \"data\": [[47,4,1,1,1,3,4,1,0,0,40,9]]}]}' "
   ]
  },
  {
   "cell_type": "code",
   "execution_count": 8,
   "id": "52ec12eb",
   "metadata": {},
   "outputs": [
    {
     "name": "stdout",
     "output_type": "stream",
     "text": [
      "apiVersion: mlops.seldon.io/v1alpha1\r\n",
      "kind: Model\r\n",
      "metadata:\r\n",
      "  name: income-explainer\r\n",
      "spec:\r\n",
      "  storageUri: \"gs://seldon-models/scv2/examples/income/explainer\"\r\n",
      "  explainer:\r\n",
      "    type: anchor_tabular\r\n",
      "    modelRef: income\r\n"
     ]
    }
   ],
   "source": [
    "!cat ./models/income-explainer.yaml"
   ]
  },
  {
   "cell_type": "code",
   "execution_count": 9,
   "id": "2e028f78",
   "metadata": {},
   "outputs": [
    {
     "name": "stdout",
     "output_type": "stream",
     "text": [
      "model.mlops.seldon.io/income-explainer created\r\n"
     ]
    }
   ],
   "source": [
    "!kubectl create -f ./models/income-explainer.yaml -n ${NAMESPACE}"
   ]
  },
  {
   "cell_type": "code",
   "execution_count": 10,
   "id": "8b8035b5",
   "metadata": {},
   "outputs": [
    {
     "name": "stdout",
     "output_type": "stream",
     "text": [
      "model.mlops.seldon.io/income condition met\n",
      "model.mlops.seldon.io/income-explainer condition met\n"
     ]
    }
   ],
   "source": [
    "!kubectl wait --for condition=ready --timeout=300s model --all -n ${NAMESPACE}"
   ]
  },
  {
   "cell_type": "code",
   "execution_count": 11,
   "id": "67489d73",
   "metadata": {},
   "outputs": [
    {
     "name": "stdout",
     "output_type": "stream",
     "text": [
      "{\r\n",
      "  \"conditions\": [\r\n",
      "    {\r\n",
      "      \"lastTransitionTime\": \"2022-11-24T11:54:27Z\",\r\n",
      "      \"status\": \"True\",\r\n",
      "      \"type\": \"ModelReady\"\r\n",
      "    },\r\n",
      "    {\r\n",
      "      \"lastTransitionTime\": \"2022-11-24T11:54:27Z\",\r\n",
      "      \"status\": \"True\",\r\n",
      "      \"type\": \"Ready\"\r\n",
      "    }\r\n",
      "  ],\r\n",
      "  \"replicas\": 1\r\n",
      "}\r\n"
     ]
    }
   ],
   "source": [
    "!kubectl get model income-explainer -n ${NAMESPACE} -o jsonpath='{.status}' | jq -M ."
   ]
  },
  {
   "cell_type": "code",
   "execution_count": 12,
   "id": "4f6cbcac",
   "metadata": {},
   "outputs": [
    {
     "name": "stdout",
     "output_type": "stream",
     "text": [
      "{\r\n",
      "\t\"model_name\": \"income-explainer_1\",\r\n",
      "\t\"model_version\": \"1\",\r\n",
      "\t\"id\": \"a43a931c-5b97-4e71-b9ed-35cb728af4ae\",\r\n",
      "\t\"parameters\": {\r\n",
      "\t\t\"content_type\": null,\r\n",
      "\t\t\"headers\": null\r\n",
      "\t},\r\n",
      "\t\"outputs\": [\r\n",
      "\t\t{\r\n",
      "\t\t\t\"name\": \"explanation\",\r\n",
      "\t\t\t\"shape\": [\r\n",
      "\t\t\t\t1,\r\n",
      "\t\t\t\t1\r\n",
      "\t\t\t],\r\n",
      "\t\t\t\"datatype\": \"BYTES\",\r\n",
      "\t\t\t\"parameters\": {\r\n",
      "\t\t\t\t\"content_type\": \"str\",\r\n",
      "\t\t\t\t\"headers\": null\r\n",
      "\t\t\t},\r\n",
      "\t\t\t\"data\": [\r\n",
      "\t\t\t\t\"{\\\"meta\\\": {\\\"name\\\": \\\"AnchorTabular\\\", \\\"type\\\": [\\\"blackbox\\\"], \\\"explanations\\\": [\\\"local\\\"], \\\"params\\\": {\\\"seed\\\": 1, \\\"disc_perc\\\": [25, 50, 75], \\\"threshold\\\": 0.95, \\\"delta\\\": 0.1, \\\"tau\\\": 0.15, \\\"batch_size\\\": 100, \\\"coverage_samples\\\": 10000, \\\"beam_size\\\": 1, \\\"stop_on_first\\\": false, \\\"max_anchor_size\\\": null, \\\"min_samples_start\\\": 100, \\\"n_covered_ex\\\": 10, \\\"binary_cache_size\\\": 10000, \\\"cache_margin\\\": 1000, \\\"verbose\\\": false, \\\"verbose_every\\\": 1, \\\"kwargs\\\": {}}, \\\"version\\\": \\\"0.8.0\\\"}, \\\"data\\\": {\\\"anchor\\\": [\\\"Marital Status = Never-Married\\\", \\\"Relationship = Own-child\\\", \\\"Capital Gain <= 0.00\\\"], \\\"precision\\\": 0.9970238095238095, \\\"coverage\\\": 0.06853582554517133, \\\"raw\\\": {\\\"feature\\\": [3, 5, 8], \\\"mean\\\": [0.7781818181818182, 0.9153439153439153, 0.9970238095238095], \\\"precision\\\": [0.7781818181818182, 0.9153439153439153, 0.9970238095238095], \\\"coverage\\\": [0.3037383177570093, 0.07165109034267912, 0.06853582554517133], \\\"examples\\\": [{\\\"covered_true\\\": [[54, 4, 1, 1, 6, 4, 4, 0, 0, 0, 40, 9], [49, 2, 5, 1, 8, 0, 4, 1, 0, 0, 40, 9], [32, 0, 1, 1, 0, 5, 4, 0, 0, 0, 20, 9], [26, 4, 1, 1, 5, 1, 4, 0, 0, 0, 40, 9], [45, 4, 1, 1, 5, 1, 4, 1, 0, 0, 46, 9], [31, 4, 1, 1, 8, 1, 4, 1, 0, 0, 40, 9], [23, 4, 1, 1, 1, 1, 1, 0, 0, 0, 20, 9], [47, 6, 1, 1, 2, 1, 4, 0, 0, 0, 40, 9], [43, 6, 1, 1, 2, 0, 4, 1, 0, 0, 70, 9], [29, 7, 5, 1, 5, 5, 4, 0, 0, 0, 45, 9]], \\\"covered_false\\\": [[35, 4, 1, 1, 7, 0, 0, 1, 7688, 0, 20, 9], [35, 4, 1, 1, 8, 0, 4, 1, 7688, 0, 50, 9], [51, 4, 5, 1, 8, 0, 4, 1, 7298, 0, 50, 9], [46, 2, 1, 1, 5, 3, 4, 1, 4787, 0, 45, 9], [35, 4, 1, 1, 6, 0, 4, 1, 15024, 0, 50, 9], [29, 4, 1, 1, 8, 1, 4, 1, 0, 0, 50, 9], [31, 4, 5, 1, 8, 1, 4, 1, 0, 1564, 40, 9], [57, 7, 2, 1, 5, 0, 4, 1, 0, 0, 40, 9], [46, 4, 5, 1, 5, 0, 4, 1, 0, 0, 40, 9], [48, 5, 1, 1, 8, 0, 4, 1, 0, 0, 60, 9]], \\\"uncovered_true\\\": [], \\\"uncovered_false\\\": []}, {\\\"covered_true\\\": [[43, 4, 1, 1, 5, 3, 4, 1, 0, 1902, 40, 9], [34, 5, 1, 1, 5, 3, 4, 0, 0, 0, 62, 9], [23, 4, 1, 1, 1, 3, 1, 0, 0, 0, 20, 9], [49, 4, 5, 1, 5, 3, 4, 1, 0, 0, 40, 9], [31, 2, 1, 1, 6, 3, 4, 0, 0, 0, 40, 9], [48, 4, 5, 1, 8, 3, 4, 1, 0, 0, 40, 9], [37, 4, 1, 1, 8, 3, 4, 1, 0, 0, 45, 9], [38, 4, 1, 1, 5, 3, 4, 1, 0, 1887, 40, 9], [41, 6, 1, 1, 2, 3, 4, 1, 0, 0, 35, 9], [47, 4, 1, 1, 5, 3, 4, 1, 0, 0, 50, 9]], \\\"covered_false\\\": [[50, 4, 5, 1, 8, 3, 4, 1, 15024, 0, 65, 9], [51, 4, 1, 1, 6, 3, 4, 1, 7688, 0, 50, 9], [33, 4, 5, 1, 5, 3, 4, 1, 15024, 0, 44, 9], [42, 4, 1, 1, 5, 3, 4, 1, 7688, 0, 40, 9], [44, 4, 1, 1, 8, 3, 4, 1, 15024, 0, 45, 9], [34, 4, 1, 1, 6, 3, 4, 1, 0, 0, 40, 9], [51, 4, 1, 1, 5, 3, 0, 1, 15024, 0, 40, 9], [43, 4, 1, 1, 8, 3, 4, 1, 15024, 0, 50, 9], [53, 7, 2, 1, 5, 3, 4, 1, 7688, 0, 50, 9]], \\\"uncovered_true\\\": [], \\\"uncovered_false\\\": []}, {\\\"covered_true\\\": [[62, 7, 5, 1, 5, 3, 4, 1, 0, 0, 60, 9], [38, 6, 1, 1, 5, 3, 1, 1, 0, 0, 60, 9], [32, 1, 1, 1, 8, 3, 4, 0, 0, 0, 60, 9], [22, 4, 1, 1, 1, 3, 4, 0, 0, 0, 35, 9], [26, 4, 1, 1, 5, 3, 4, 0, 0, 0, 40, 9], [39, 4, 1, 1, 1, 3, 4, 1, 0, 0, 40, 9], [32, 4, 1, 1, 1, 3, 4, 0, 0, 0, 2, 9], [28, 4, 1, 1, 6, 3, 4, 1, 0, 0, 40, 9], [47, 4, 5, 1, 6, 3, 4, 1, 0, 0, 60, 9], [25, 4, 1, 1, 4, 3, 2, 1, 0, 0, 40, 0]], \\\"covered_false\\\": [], \\\"uncovered_true\\\": [], \\\"uncovered_false\\\": []}], \\\"all_precision\\\": 0, \\\"num_preds\\\": 1000000, \\\"success\\\": true, \\\"names\\\": [\\\"Marital Status = Never-Married\\\", \\\"Relationship = Own-child\\\", \\\"Capital Gain <= 0.00\\\"], \\\"prediction\\\": [0], \\\"instance\\\": [47.0, 4.0, 1.0, 1.0, 1.0, 3.0, 4.0, 1.0, 0.0, 0.0, 40.0, 9.0], \\\"instances\\\": [[47.0, 4.0, 1.0, 1.0, 1.0, 3.0, 4.0, 1.0, 0.0, 0.0, 40.0, 9.0]]}}}\"\r\n",
      "\t\t\t]\r\n",
      "\t\t}\r\n",
      "\t]\r\n",
      "}\r\n"
     ]
    }
   ],
   "source": [
    "!seldon model infer income-explainer --inference-host ${MESH_IP}:80 \\\n",
    "     '{\"inputs\": [{\"name\": \"predict\", \"shape\": [1, 12], \"datatype\": \"FP32\", \"data\": [[47,4,1,1,1,3,4,1,0,0,40,9]]}]}' "
   ]
  },
  {
   "cell_type": "code",
   "execution_count": 13,
   "id": "da7f239d",
   "metadata": {},
   "outputs": [
    {
     "name": "stdout",
     "output_type": "stream",
     "text": [
      "model.mlops.seldon.io \"income\" deleted\n",
      "model.mlops.seldon.io \"income-explainer\" deleted\n"
     ]
    }
   ],
   "source": [
    "!kubectl delete -f ./models/income.yaml -n ${NAMESPACE}\n",
    "!kubectl delete -f ./models/income-explainer.yaml -n ${NAMESPACE}"
   ]
  },
  {
   "cell_type": "markdown",
   "id": "54149676",
   "metadata": {},
   "source": [
    "## Explain Pipeline"
   ]
  },
  {
   "cell_type": "code",
   "execution_count": 45,
   "id": "1cb27568",
   "metadata": {},
   "outputs": [
    {
     "name": "stdout",
     "output_type": "stream",
     "text": [
      "apiVersion: mlops.seldon.io/v1alpha1\r\n",
      "kind: Model\r\n",
      "metadata:\r\n",
      "  name: income\r\n",
      "spec:\r\n",
      "  storageUri: \"gs://seldon-models/scv2/examples/mlserver_1.2.3/income/classifier\"\r\n",
      "  requirements:\r\n",
      "  - sklearn\r\n"
     ]
    }
   ],
   "source": [
    "!cat ./models/income.yaml"
   ]
  },
  {
   "cell_type": "code",
   "execution_count": 46,
   "id": "59031973",
   "metadata": {},
   "outputs": [
    {
     "name": "stdout",
     "output_type": "stream",
     "text": [
      "model.mlops.seldon.io/income created\r\n"
     ]
    }
   ],
   "source": [
    "!kubectl create -f ./models/income.yaml -n ${NAMESPACE}"
   ]
  },
  {
   "cell_type": "code",
   "execution_count": 47,
   "id": "83248c35",
   "metadata": {},
   "outputs": [
    {
     "name": "stdout",
     "output_type": "stream",
     "text": [
      "model.mlops.seldon.io/income condition met\r\n"
     ]
    }
   ],
   "source": [
    "!kubectl wait --for condition=ready --timeout=300s model --all -n ${NAMESPACE}"
   ]
  },
  {
   "cell_type": "code",
   "execution_count": 48,
   "id": "582560e3",
   "metadata": {},
   "outputs": [
    {
     "name": "stdout",
     "output_type": "stream",
     "text": [
      "{\r\n",
      "  \"conditions\": [\r\n",
      "    {\r\n",
      "      \"lastTransitionTime\": \"2023-01-17T11:53:53Z\",\r\n",
      "      \"status\": \"True\",\r\n",
      "      \"type\": \"ModelReady\"\r\n",
      "    },\r\n",
      "    {\r\n",
      "      \"lastTransitionTime\": \"2023-01-17T11:53:53Z\",\r\n",
      "      \"status\": \"True\",\r\n",
      "      \"type\": \"Ready\"\r\n",
      "    }\r\n",
      "  ],\r\n",
      "  \"replicas\": 1\r\n",
      "}\r\n"
     ]
    }
   ],
   "source": [
    "!kubectl get model income -n ${NAMESPACE} -o jsonpath='{.status}' | jq -M ."
   ]
  },
  {
   "cell_type": "code",
   "execution_count": 49,
   "id": "488bc1d6",
   "metadata": {},
   "outputs": [
    {
     "name": "stdout",
     "output_type": "stream",
     "text": [
      "{\r\n",
      "\t\"model_name\": \"income_1\",\r\n",
      "\t\"model_version\": \"1\",\r\n",
      "\t\"id\": \"9de7ad86-a22d-4522-a2d8-58a0f5934dc2\",\r\n",
      "\t\"parameters\": {},\r\n",
      "\t\"outputs\": [\r\n",
      "\t\t{\r\n",
      "\t\t\t\"name\": \"predict\",\r\n",
      "\t\t\t\"shape\": [\r\n",
      "\t\t\t\t1,\r\n",
      "\t\t\t\t1\r\n",
      "\t\t\t],\r\n",
      "\t\t\t\"datatype\": \"INT64\",\r\n",
      "\t\t\t\"data\": [\r\n",
      "\t\t\t\t0\r\n",
      "\t\t\t]\r\n",
      "\t\t}\r\n",
      "\t]\r\n",
      "}\r\n"
     ]
    }
   ],
   "source": [
    "!seldon model infer income --inference-host ${MESH_IP}:80 \\\n",
    "     '{\"inputs\": [{\"name\": \"predict\", \"shape\": [1, 12], \"datatype\": \"FP32\", \"data\": [[47,4,1,1,1,3,4,1,0,0,40,9]]}]}' "
   ]
  },
  {
   "cell_type": "code",
   "execution_count": 50,
   "id": "43313bfb",
   "metadata": {},
   "outputs": [
    {
     "name": "stdout",
     "output_type": "stream",
     "text": [
      "apiVersion: mlops.seldon.io/v1alpha1\r\n",
      "kind: Pipeline\r\n",
      "metadata:\r\n",
      "  name: income-prod\r\n",
      "spec:\r\n",
      "  steps:\r\n",
      "    - name: income\r\n",
      "  output:\r\n",
      "    steps:\r\n",
      "    - income\r\n",
      "\r\n"
     ]
    }
   ],
   "source": [
    "!cat ./pipelines/income-v1.yaml"
   ]
  },
  {
   "cell_type": "code",
   "execution_count": 51,
   "id": "74927027",
   "metadata": {},
   "outputs": [
    {
     "name": "stdout",
     "output_type": "stream",
     "text": [
      "pipeline.mlops.seldon.io/income-prod created\r\n"
     ]
    }
   ],
   "source": [
    "!kubectl create -f ./pipelines/income-v1.yaml -n ${NAMESPACE}"
   ]
  },
  {
   "cell_type": "code",
   "execution_count": 52,
   "id": "6c510892",
   "metadata": {},
   "outputs": [
    {
     "name": "stdout",
     "output_type": "stream",
     "text": [
      "pipeline.mlops.seldon.io/income-prod condition met\r\n"
     ]
    }
   ],
   "source": [
    "!kubectl wait --for condition=ready --timeout=300s pipeline --all -n ${NAMESPACE}"
   ]
  },
  {
   "cell_type": "code",
   "execution_count": 53,
   "id": "e44b3d2c",
   "metadata": {},
   "outputs": [
    {
     "name": "stdout",
     "output_type": "stream",
     "text": [
      "{\r\n",
      "\t\"model_name\": \"\",\r\n",
      "\t\"outputs\": [\r\n",
      "\t\t{\r\n",
      "\t\t\t\"data\": [\r\n",
      "\t\t\t\t0\r\n",
      "\t\t\t],\r\n",
      "\t\t\t\"name\": \"predict\",\r\n",
      "\t\t\t\"shape\": [\r\n",
      "\t\t\t\t1,\r\n",
      "\t\t\t\t1\r\n",
      "\t\t\t],\r\n",
      "\t\t\t\"datatype\": \"INT64\"\r\n",
      "\t\t}\r\n",
      "\t]\r\n",
      "}\r\n"
     ]
    }
   ],
   "source": [
    "!seldon pipeline infer income-prod --inference-host ${MESH_IP}:80 \\\n",
    "     '{\"inputs\": [{\"name\": \"predict\", \"shape\": [1, 12], \"datatype\": \"FP32\", \"data\": [[47,4,1,1,1,3,4,1,0,0,40,9]]}]}' "
   ]
  },
  {
   "cell_type": "code",
   "execution_count": 54,
   "id": "faa2c4be",
   "metadata": {},
   "outputs": [
    {
     "name": "stdout",
     "output_type": "stream",
     "text": [
      "apiVersion: mlops.seldon.io/v1alpha1\r\n",
      "kind: Model\r\n",
      "metadata:\r\n",
      "  name: income-explainer\r\n",
      "spec:\r\n",
      "  storageUri: \"gs://seldon-models/scv2/examples/mlserver_1.2.3/income/explainer\"\r\n",
      "  explainer:\r\n",
      "    type: anchor_tabular\r\n",
      "    pipelineRef: income-prod\r\n"
     ]
    }
   ],
   "source": [
    "!cat ./models/income-explainer-pipeline.yaml"
   ]
  },
  {
   "cell_type": "code",
   "execution_count": 55,
   "id": "26c6b223",
   "metadata": {},
   "outputs": [
    {
     "name": "stdout",
     "output_type": "stream",
     "text": [
      "model.mlops.seldon.io/income-explainer created\r\n"
     ]
    }
   ],
   "source": [
    "!kubectl create -f ./models/income-explainer-pipeline.yaml -n ${NAMESPACE}"
   ]
  },
  {
   "cell_type": "code",
   "execution_count": 56,
   "id": "d66f6fd9",
   "metadata": {},
   "outputs": [
    {
     "name": "stdout",
     "output_type": "stream",
     "text": [
      "model.mlops.seldon.io/income condition met\n",
      "model.mlops.seldon.io/income-explainer condition met\n"
     ]
    }
   ],
   "source": [
    "!kubectl wait --for condition=ready --timeout=300s model --all -n ${NAMESPACE}"
   ]
  },
  {
   "cell_type": "code",
   "execution_count": 57,
   "id": "5eac34e9",
   "metadata": {},
   "outputs": [
    {
     "name": "stdout",
     "output_type": "stream",
     "text": [
      "{\r\n",
      "  \"conditions\": [\r\n",
      "    {\r\n",
      "      \"lastTransitionTime\": \"2023-01-17T11:54:12Z\",\r\n",
      "      \"status\": \"True\",\r\n",
      "      \"type\": \"ModelReady\"\r\n",
      "    },\r\n",
      "    {\r\n",
      "      \"lastTransitionTime\": \"2023-01-17T11:54:12Z\",\r\n",
      "      \"status\": \"True\",\r\n",
      "      \"type\": \"Ready\"\r\n",
      "    }\r\n",
      "  ],\r\n",
      "  \"replicas\": 1\r\n",
      "}\r\n"
     ]
    }
   ],
   "source": [
    "!kubectl get model income-explainer -n ${NAMESPACE} -o jsonpath='{.status}' | jq -M ."
   ]
  },
  {
   "cell_type": "code",
   "execution_count": 58,
   "id": "28c1610f",
   "metadata": {},
   "outputs": [
    {
     "name": "stdout",
     "output_type": "stream",
     "text": [
      "{\r\n",
      "\t\"model_name\": \"income-explainer_1\",\r\n",
      "\t\"model_version\": \"1\",\r\n",
      "\t\"id\": \"c84bacbd-d8f0-4ed3-88d7-2322bf27e172\",\r\n",
      "\t\"parameters\": {},\r\n",
      "\t\"outputs\": [\r\n",
      "\t\t{\r\n",
      "\t\t\t\"name\": \"explanation\",\r\n",
      "\t\t\t\"shape\": [\r\n",
      "\t\t\t\t1,\r\n",
      "\t\t\t\t1\r\n",
      "\t\t\t],\r\n",
      "\t\t\t\"datatype\": \"BYTES\",\r\n",
      "\t\t\t\"parameters\": {\r\n",
      "\t\t\t\t\"content_type\": \"str\"\r\n",
      "\t\t\t},\r\n",
      "\t\t\t\"data\": [\r\n",
      "\t\t\t\t\"{\\\"meta\\\": {\\\"name\\\": \\\"AnchorTabular\\\", \\\"type\\\": [\\\"blackbox\\\"], \\\"explanations\\\": [\\\"local\\\"], \\\"params\\\": {\\\"seed\\\": 1, \\\"disc_perc\\\": [25, 50, 75], \\\"threshold\\\": 0.95, \\\"delta\\\": 0.1, \\\"tau\\\": 0.15, \\\"batch_size\\\": 100, \\\"coverage_samples\\\": 10000, \\\"beam_size\\\": 1, \\\"stop_on_first\\\": false, \\\"max_anchor_size\\\": null, \\\"min_samples_start\\\": 100, \\\"n_covered_ex\\\": 10, \\\"binary_cache_size\\\": 10000, \\\"cache_margin\\\": 1000, \\\"verbose\\\": false, \\\"verbose_every\\\": 1, \\\"kwargs\\\": {}}, \\\"version\\\": \\\"0.9.0\\\"}, \\\"data\\\": {\\\"anchor\\\": [\\\"Marital Status = Never-Married\\\", \\\"Relationship = Own-child\\\", \\\"Capital Gain <= 0.00\\\"], \\\"precision\\\": 0.9959183673469387, \\\"coverage\\\": 0.06853582554517133, \\\"raw\\\": {\\\"feature\\\": [3, 5, 8], \\\"mean\\\": [0.791889007470651, 0.948339483394834, 0.9959183673469387], \\\"precision\\\": [0.791889007470651, 0.948339483394834, 0.9959183673469387], \\\"coverage\\\": [0.3037383177570093, 0.07165109034267912, 0.06853582554517133], \\\"examples\\\": [{\\\"covered_true\\\": [[27, 4, 5, 1, 8, 3, 4, 0, 0, 0, 40, 9], [43, 4, 1, 1, 6, 0, 4, 1, 0, 1902, 55, 9], [36, 4, 1, 1, 8, 2, 4, 1, 0, 0, 50, 0], [46, 4, 1, 1, 6, 4, 4, 1, 0, 0, 40, 9], [38, 4, 1, 1, 5, 1, 4, 0, 0, 0, 50, 9], [37, 4, 1, 1, 5, 1, 4, 0, 0, 0, 45, 9], [46, 6, 1, 1, 2, 0, 4, 1, 0, 0, 40, 9], [49, 7, 2, 1, 5, 4, 4, 1, 0, 0, 50, 9], [75, 0, 2, 1, 0, 1, 4, 1, 0, 0, 40, 9], [43, 2, 5, 1, 5, 4, 4, 0, 0, 0, 40, 9]], \\\"covered_false\\\": [[64, 7, 2, 1, 5, 0, 4, 1, 0, 0, 50, 8], [42, 6, 1, 1, 6, 0, 4, 1, 0, 0, 50, 9], [59, 4, 2, 1, 5, 0, 4, 1, 0, 0, 60, 9], [41, 4, 5, 1, 5, 0, 4, 1, 15024, 0, 50, 9], [43, 4, 5, 1, 5, 4, 4, 0, 0, 2547, 40, 9], [50, 6, 5, 1, 6, 0, 4, 1, 7688, 0, 55, 9], [43, 7, 5, 1, 5, 0, 4, 1, 0, 1887, 45, 9], [37, 4, 1, 1, 8, 1, 2, 1, 0, 0, 60, 9], [44, 4, 1, 1, 6, 0, 4, 1, 7688, 0, 50, 9], [30, 4, 1, 1, 8, 4, 4, 0, 0, 0, 45, 9]], \\\"uncovered_true\\\": [], \\\"uncovered_false\\\": []}, {\\\"covered_true\\\": [[63, 6, 1, 1, 5, 3, 4, 1, 0, 0, 20, 9], [49, 4, 1, 1, 4, 3, 1, 0, 0, 0, 40, 1], [40, 7, 5, 1, 8, 3, 4, 0, 1506, 0, 40, 9], [38, 4, 1, 1, 1, 3, 4, 1, 0, 0, 40, 9], [32, 4, 1, 1, 6, 3, 4, 1, 0, 0, 40, 9], [66, 0, 5, 1, 0, 3, 4, 1, 0, 0, 6, 9], [29, 2, 1, 1, 5, 3, 4, 1, 0, 0, 50, 9], [58, 4, 1, 1, 8, 3, 4, 1, 0, 0, 50, 9], [61, 6, 1, 1, 5, 3, 4, 1, 0, 0, 50, 9], [35, 4, 5, 1, 8, 3, 4, 1, 0, 0, 40, 9]], \\\"covered_false\\\": [[57, 5, 5, 1, 6, 3, 4, 1, 99999, 0, 40, 9], [65, 4, 1, 1, 8, 3, 4, 1, 99999, 0, 40, 9], [38, 6, 1, 1, 6, 3, 4, 1, 7298, 0, 50, 9], [79, 4, 2, 1, 5, 3, 4, 1, 20051, 0, 35, 8], [37, 4, 1, 1, 8, 3, 4, 1, 15024, 0, 40, 9], [39, 5, 1, 1, 8, 3, 4, 1, 15024, 0, 50, 9]], \\\"uncovered_true\\\": [], \\\"uncovered_false\\\": []}, {\\\"covered_true\\\": [[36, 6, 1, 1, 8, 3, 4, 1, 0, 0, 50, 9], [36, 4, 1, 1, 2, 3, 4, 1, 0, 0, 40, 9], [48, 2, 1, 1, 5, 3, 4, 0, 0, 0, 50, 9], [50, 4, 5, 1, 6, 3, 4, 1, 0, 0, 40, 9], [32, 5, 2, 1, 5, 3, 4, 1, 0, 0, 77, 9], [31, 4, 1, 1, 8, 3, 4, 1, 0, 0, 40, 9], [37, 4, 1, 1, 2, 3, 4, 1, 0, 0, 50, 9], [44, 1, 1, 1, 1, 3, 1, 1, 0, 0, 40, 7], [29, 5, 1, 1, 5, 3, 4, 0, 0, 0, 80, 9], [23, 4, 1, 1, 6, 3, 4, 1, 0, 0, 20, 9]], \\\"covered_false\\\": [[55, 5, 1, 1, 8, 3, 4, 1, 0, 2415, 50, 9], [66, 6, 2, 1, 6, 3, 4, 1, 0, 2377, 25, 9]], \\\"uncovered_true\\\": [], \\\"uncovered_false\\\": []}], \\\"all_precision\\\": 0, \\\"num_preds\\\": 1000000, \\\"success\\\": true, \\\"names\\\": [\\\"Marital Status = Never-Married\\\", \\\"Relationship = Own-child\\\", \\\"Capital Gain <= 0.00\\\"], \\\"prediction\\\": [0], \\\"instance\\\": [47.0, 4.0, 1.0, 1.0, 1.0, 3.0, 4.0, 1.0, 0.0, 0.0, 40.0, 9.0], \\\"instances\\\": [[47.0, 4.0, 1.0, 1.0, 1.0, 3.0, 4.0, 1.0, 0.0, 0.0, 40.0, 9.0]]}}}\"\r\n",
      "\t\t\t]\r\n",
      "\t\t}\r\n",
      "\t]\r\n",
      "}\r\n"
     ]
    }
   ],
   "source": [
    "!seldon model infer income-explainer --inference-host ${MESH_IP}:80 \\\n",
    "     '{\"inputs\": [{\"name\": \"predict\", \"shape\": [1, 12], \"datatype\": \"FP32\", \"data\": [[47,4,1,1,1,3,4,1,0,0,40,9]]}]}' "
   ]
  },
  {
   "cell_type": "code",
   "execution_count": 59,
   "id": "fbd5d037",
   "metadata": {},
   "outputs": [
    {
     "name": "stdout",
     "output_type": "stream",
     "text": [
      "pipeline.mlops.seldon.io \"income-prod\" deleted\n",
      "model.mlops.seldon.io \"income-explainer\" deleted\n",
      "model.mlops.seldon.io \"income\" deleted\n"
     ]
    }
   ],
   "source": [
    "!kubectl delete -f ./pipelines/income-v1.yaml -n ${NAMESPACE}\n",
    "!kubectl delete -f ./models/income-explainer-pipeline.yaml -n ${NAMESPACE}\n",
    "!kubectl delete -f ./models/income.yaml -n ${NAMESPACE}"
   ]
  },
  {
   "cell_type": "code",
   "execution_count": null,
   "id": "e694edee",
   "metadata": {},
   "outputs": [],
   "source": []
  }
 ],
 "metadata": {
  "kernelspec": {
   "display_name": "Python 3 (ipykernel)",
   "language": "python",
   "name": "python3"
  },
  "language_info": {
   "codemirror_mode": {
    "name": "ipython",
    "version": 3
   },
   "file_extension": ".py",
   "mimetype": "text/x-python",
   "name": "python",
   "nbconvert_exporter": "python",
   "pygments_lexer": "ipython3",
   "version": "3.9.13"
  }
 },
 "nbformat": 4,
 "nbformat_minor": 5
}
