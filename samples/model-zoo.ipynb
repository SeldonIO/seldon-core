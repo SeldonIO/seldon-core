{
 "cells": [
  {
   "cell_type": "markdown",
   "id": "lesbian-springer",
   "metadata": {},
   "source": [
    "## Seldon Model Zoo\n",
    "\n",
    "Examples of various model artefact types from various frameworks.\n"
   ]
  },
  {
   "cell_type": "markdown",
   "id": "5b1925df",
   "metadata": {},
   "source": [
    "### SKLearn Iris Classification Model"
   ]
  },
  {
   "cell_type": "code",
   "execution_count": 2,
   "id": "8b4be911",
   "metadata": {},
   "outputs": [
    {
     "name": "stdout",
     "output_type": "stream",
     "text": [
      "apiVersion: mlops.seldon.io/v1alpha1\r\n",
      "kind: Model\r\n",
      "metadata:\r\n",
      "  name: iris\r\n",
      "spec:\r\n",
      "  storageUri: \"gs://seldon-models/scv2/samples/mlserver_1.2.3/iris-sklearn\"\r\n",
      "  requirements:\r\n",
      "  - sklearn\r\n",
      "  memory: 100Ki\r\n"
     ]
    }
   ],
   "source": [
    "!cat ./models/sklearn-iris-gs.yaml"
   ]
  },
  {
   "cell_type": "markdown",
   "id": "26c11833",
   "metadata": {},
   "source": [
    "Load the model"
   ]
  },
  {
   "cell_type": "code",
   "execution_count": 3,
   "id": "checked-cream",
   "metadata": {},
   "outputs": [
    {
     "name": "stdout",
     "output_type": "stream",
     "text": [
      "{}\r\n"
     ]
    }
   ],
   "source": [
    "!seldon model load -f ./models/sklearn-iris-gs.yaml"
   ]
  },
  {
   "cell_type": "code",
   "execution_count": 4,
   "id": "interracial-secret",
   "metadata": {},
   "outputs": [
    {
     "name": "stdout",
     "output_type": "stream",
     "text": [
      "{}\r\n"
     ]
    }
   ],
   "source": [
    "!seldon model status iris -w ModelAvailable | jq -M ."
   ]
  },
  {
   "cell_type": "code",
   "execution_count": 5,
   "id": "upper-cholesterol",
   "metadata": {},
   "outputs": [
    {
     "name": "stdout",
     "output_type": "stream",
     "text": [
      "{\r\n",
      "\t\"model_name\": \"iris_1\",\r\n",
      "\t\"model_version\": \"1\",\r\n",
      "\t\"id\": \"fa880d0d-2262-42bf-b5b1-f083b891fb81\",\r\n",
      "\t\"parameters\": {},\r\n",
      "\t\"outputs\": [\r\n",
      "\t\t{\r\n",
      "\t\t\t\"name\": \"predict\",\r\n",
      "\t\t\t\"shape\": [\r\n",
      "\t\t\t\t1,\r\n",
      "\t\t\t\t1\r\n",
      "\t\t\t],\r\n",
      "\t\t\t\"datatype\": \"INT64\",\r\n",
      "\t\t\t\"data\": [\r\n",
      "\t\t\t\t2\r\n",
      "\t\t\t]\r\n",
      "\t\t}\r\n",
      "\t]\r\n",
      "}\r\n"
     ]
    }
   ],
   "source": [
    "!seldon model infer iris \\\n",
    "  '{\"inputs\": [{\"name\": \"predict\", \"shape\": [1, 4], \"datatype\": \"FP32\", \"data\": [[1, 2, 3, 4]]}]}' "
   ]
  },
  {
   "cell_type": "code",
   "execution_count": 6,
   "id": "ceramic-illness",
   "metadata": {},
   "outputs": [
    {
     "name": "stdout",
     "output_type": "stream",
     "text": [
      "{}\r\n"
     ]
    }
   ],
   "source": [
    "!seldon model unload iris"
   ]
  },
  {
   "cell_type": "markdown",
   "id": "30431134",
   "metadata": {},
   "source": [
    "### Tensorflow CIFAR10 Image Classification Model\n"
   ]
  },
  {
   "cell_type": "code",
   "execution_count": 7,
   "id": "f0e7043f",
   "metadata": {},
   "outputs": [
    {
     "name": "stderr",
     "output_type": "stream",
     "text": [
      "2023-01-27 18:51:43.394466: W tensorflow/stream_executor/platform/default/dso_loader.cc:64] Could not load dynamic library 'libcudart.so.11.0'; dlerror: libcudart.so.11.0: cannot open shared object file: No such file or directory\n",
      "2023-01-27 18:51:43.394480: I tensorflow/stream_executor/cuda/cudart_stub.cc:29] Ignore above cudart dlerror if you do not have a GPU set up on your machine.\n"
     ]
    }
   ],
   "source": [
    "import requests\n",
    "import json\n",
    "from typing import Dict, List\n",
    "import numpy as np\n",
    "import os\n",
    "import tensorflow as tf\n",
    "from alibi_detect.utils.perturbation import apply_mask\n",
    "from alibi_detect.datasets import fetch_cifar10c\n",
    "import matplotlib.pyplot as plt\n",
    "tf.keras.backend.clear_session()"
   ]
  },
  {
   "cell_type": "code",
   "execution_count": 8,
   "id": "727e6a62",
   "metadata": {},
   "outputs": [
    {
     "name": "stdout",
     "output_type": "stream",
     "text": [
      "(50000, 32, 32, 3) (50000, 1) (10000, 32, 32, 3) (10000, 1)\n"
     ]
    }
   ],
   "source": [
    "train, test = tf.keras.datasets.cifar10.load_data()\n",
    "X_train, y_train = train\n",
    "X_test, y_test = test\n",
    "\n",
    "X_train = X_train.astype('float32') / 255\n",
    "X_test = X_test.astype('float32') / 255\n",
    "print(X_train.shape, y_train.shape, X_test.shape, y_test.shape)\n",
    "classes = (\n",
    "    \"plane\",\n",
    "    \"car\",\n",
    "    \"bird\",\n",
    "    \"cat\",\n",
    "    \"deer\",\n",
    "    \"dog\",\n",
    "    \"frog\",\n",
    "    \"horse\",\n",
    "    \"ship\",\n",
    "    \"truck\",\n",
    ")\n"
   ]
  },
  {
   "cell_type": "code",
   "execution_count": 9,
   "id": "c613a1bb",
   "metadata": {},
   "outputs": [],
   "source": [
    "outliers = []\n",
    "for idx in range(0,X_train.shape[0]):\n",
    "    X_mask, mask = apply_mask(X_train[idx].reshape(1, 32, 32, 3),\n",
    "                                  mask_size=(12,12),\n",
    "                                  n_masks=1,\n",
    "                                  channels=[0,1,2],\n",
    "                                  mask_type='normal',\n",
    "                                  noise_distr=(0,1),\n",
    "                                  clip_rng=(0,1))\n",
    "    outliers.append(X_mask)\n",
    "X_outliers = np.vstack(outliers)\n",
    "X_outliers.shape\n",
    "corruption = ['gaussian_noise']\n",
    "X_corr, y_corr = fetch_cifar10c(corruption=corruption, severity=5, return_X_y=True)\n",
    "X_corr = X_corr.astype('float32') / 255"
   ]
  },
  {
   "cell_type": "code",
   "execution_count": 25,
   "id": "e2dc7fe8",
   "metadata": {},
   "outputs": [],
   "source": [
    "reqJson = json.loads('{\"inputs\":[{\"name\":\"input_1\",\"data\":[],\"datatype\":\"FP32\",\"shape\":[]}]}')\n",
    "url = \"http://0.0.0.0:9000/v2/models/model/infer\"\n",
    "\n",
    "def infer(resourceName: str, idx: int, requestType: str):\n",
    "    if requestType == \"outlier\":\n",
    "        rows = X_outliers[idx:idx+1]\n",
    "    elif requestType == \"drift\":\n",
    "        rows = X_corr[idx:idx+1]\n",
    "    else:\n",
    "        rows = X_train[idx:idx+1]\n",
    "    show(rows[0])\n",
    "    reqJson[\"inputs\"][0][\"data\"] = rows.flatten().tolist()\n",
    "    reqJson[\"inputs\"][0][\"shape\"] = [1, 32, 32, 3]\n",
    "    headers = {\"Content-Type\": \"application/json\", \"seldon-model\":resourceName}\n",
    "    response_raw = requests.post(url, json=reqJson, headers=headers)\n",
    "    probs = np.array(response_raw.json()[\"outputs\"][0][\"data\"])\n",
    "    print(classes[probs.argmax(axis=0)])\n",
    "    \n",
    "\n",
    "def show(X):\n",
    "    plt.imshow(X.reshape(32, 32, 3))\n",
    "    plt.axis(\"off\")\n",
    "    plt.show()\n"
   ]
  },
  {
   "cell_type": "code",
   "execution_count": 11,
   "id": "34165288",
   "metadata": {},
   "outputs": [
    {
     "name": "stdout",
     "output_type": "stream",
     "text": [
      "apiVersion: mlops.seldon.io/v1alpha1\r\n",
      "kind: Model\r\n",
      "metadata:\r\n",
      "  name: cifar10\r\n",
      "spec:\r\n",
      "  storageUri: \"gs://seldon-models/scv2/samples/tensorflow/cifar10\"\r\n",
      "  requirements:\r\n",
      "  - tensorflow\r\n"
     ]
    }
   ],
   "source": [
    "!cat ./models/cifar10-no-config.yaml"
   ]
  },
  {
   "cell_type": "markdown",
   "id": "275a8445",
   "metadata": {},
   "source": [
    "Load the model."
   ]
  },
  {
   "cell_type": "code",
   "execution_count": 12,
   "id": "726f2dd0",
   "metadata": {},
   "outputs": [
    {
     "name": "stdout",
     "output_type": "stream",
     "text": [
      "{}\r\n"
     ]
    }
   ],
   "source": [
    "!seldon model load -f ./models/cifar10-no-config.yaml"
   ]
  },
  {
   "cell_type": "code",
   "execution_count": 13,
   "id": "2d9b631f",
   "metadata": {},
   "outputs": [
    {
     "name": "stdout",
     "output_type": "stream",
     "text": [
      "{}\r\n"
     ]
    }
   ],
   "source": [
    "!seldon model status cifar10 -w ModelAvailable | jq -M ."
   ]
  },
  {
   "cell_type": "code",
   "execution_count": 29,
   "id": "16ac398b",
   "metadata": {},
   "outputs": [
    {
     "data": {
      "image/png": "[encoded data removed]",
      "text/plain": [
       "<Figure size 640x480 with 1 Axes>"
      ]
     },
     "metadata": {},
     "output_type": "display_data"
    },
    {
     "name": "stdout",
     "output_type": "stream",
     "text": [
      "car\n"
     ]
    }
   ],
   "source": [
    "infer(\"cifar10\",4, \"normal\")"
   ]
  },
  {
   "cell_type": "code",
   "execution_count": 30,
   "id": "f7405940",
   "metadata": {},
   "outputs": [
    {
     "name": "stdout",
     "output_type": "stream",
     "text": [
      "{}\r\n"
     ]
    }
   ],
   "source": [
    "!seldon model unload cifar10"
   ]
  },
  {
   "cell_type": "markdown",
   "id": "04a726c0",
   "metadata": {},
   "source": [
    "### XGBoost Model"
   ]
  },
  {
   "cell_type": "code",
   "execution_count": 35,
   "id": "c57d72d2",
   "metadata": {},
   "outputs": [
    {
     "name": "stdout",
     "output_type": "stream",
     "text": [
      "apiVersion: mlops.seldon.io/v1alpha1\r\n",
      "kind: Model\r\n",
      "metadata:\r\n",
      "  name: income-xgb\r\n",
      "spec:\r\n",
      "  storageUri: \"gs://seldon-models/scv2/samples/mlserver_1.2.3/income-xgb\"\r\n",
      "  requirements:\r\n",
      "  - xgboost\r\n"
     ]
    }
   ],
   "source": [
    "!cat ./models/income-xgb.yaml"
   ]
  },
  {
   "cell_type": "code",
   "execution_count": 36,
   "id": "28e5f8d9",
   "metadata": {},
   "outputs": [
    {
     "name": "stdout",
     "output_type": "stream",
     "text": [
      "{}\r\n"
     ]
    }
   ],
   "source": [
    "!seldon model load -f ./models/income-xgb.yaml"
   ]
  },
  {
   "cell_type": "code",
   "execution_count": 37,
   "id": "8e20ab04",
   "metadata": {},
   "outputs": [
    {
     "name": "stdout",
     "output_type": "stream",
     "text": [
      "{}\r\n"
     ]
    }
   ],
   "source": [
    "!seldon model status income-xgb -w ModelAvailable | jq -M ."
   ]
  },
  {
   "cell_type": "code",
   "execution_count": 38,
   "id": "a772f985",
   "metadata": {},
   "outputs": [
    {
     "name": "stdout",
     "output_type": "stream",
     "text": [
      "{\r\n",
      "\t\"model_name\": \"income-xgb_1\",\r\n",
      "\t\"model_version\": \"1\",\r\n",
      "\t\"id\": \"bc128d69-6156-4df7-9ba6-dbbf6ea5bc3c\",\r\n",
      "\t\"parameters\": {},\r\n",
      "\t\"outputs\": [\r\n",
      "\t\t{\r\n",
      "\t\t\t\"name\": \"predict\",\r\n",
      "\t\t\t\"shape\": [\r\n",
      "\t\t\t\t1,\r\n",
      "\t\t\t\t1\r\n",
      "\t\t\t],\r\n",
      "\t\t\t\"datatype\": \"FP32\",\r\n",
      "\t\t\t\"data\": [\r\n",
      "\t\t\t\t-1.8380107879638672\r\n",
      "\t\t\t]\r\n",
      "\t\t}\r\n",
      "\t]\r\n",
      "}\r\n"
     ]
    }
   ],
   "source": [
    "!seldon model infer income-xgb \\\n",
    "  '{ \"parameters\": {\"content_type\": \"pd\"}, \"inputs\": [{\"name\": \"Age\", \"shape\": [1, 1], \"datatype\": \"INT64\", \"data\": [47]},{\"name\": \"Workclass\", \"shape\": [1, 1], \"datatype\": \"INT64\", \"data\": [4]},{\"name\": \"Education\", \"shape\": [1, 1], \"datatype\": \"INT64\", \"data\": [1]},{\"name\": \"Marital Status\", \"shape\": [1, 1], \"datatype\": \"INT64\", \"data\": [1]},{\"name\": \"Occupation\", \"shape\": [1, 1], \"datatype\": \"INT64\", \"data\": [1]},{\"name\": \"Relationship\", \"shape\": [1, 1], \"datatype\": \"INT64\", \"data\": [3]},{\"name\": \"Race\", \"shape\": [1, 1], \"datatype\": \"INT64\", \"data\": [4]},{\"name\": \"Sex\", \"shape\": [1, 1], \"datatype\": \"INT64\", \"data\": [1]},{\"name\": \"Capital Gain\", \"shape\": [1, 1], \"datatype\": \"INT64\", \"data\": [0]},{\"name\": \"Capital Loss\", \"shape\": [1, 1], \"datatype\": \"INT64\", \"data\": [0]},{\"name\": \"Hours per week\", \"shape\": [1, 1], \"datatype\": \"INT64\", \"data\": [40]},{\"name\": \"Country\", \"shape\": [1, 1], \"datatype\": \"INT64\", \"data\": [9]}]}' "
   ]
  },
  {
   "cell_type": "code",
   "execution_count": 39,
   "id": "01f1d42b",
   "metadata": {},
   "outputs": [
    {
     "name": "stdout",
     "output_type": "stream",
     "text": [
      "{}\r\n"
     ]
    }
   ],
   "source": [
    "!seldon model unload income-xgb"
   ]
  },
  {
   "cell_type": "markdown",
   "id": "ca3f0a3c",
   "metadata": {},
   "source": [
    "## ONNX Model"
   ]
  },
  {
   "cell_type": "code",
   "execution_count": 40,
   "id": "322251ec",
   "metadata": {},
   "outputs": [
    {
     "name": "stderr",
     "output_type": "stream",
     "text": [
      "/home/clive/miniconda3/envs/scv2/lib/python3.9/site-packages/torchvision/io/image.py:13: UserWarning: Failed to load image Python extension: libtorch_cuda_cu.so: cannot open shared object file: No such file or directory\n",
      "  warn(f\"Failed to load image Python extension: {e}\")\n"
     ]
    },
    {
     "name": "stdout",
     "output_type": "stream",
     "text": [
      "Downloading http://yann.lecun.com/exdb/mnist/train-images-idx3-ubyte.gz\n",
      "Downloading http://yann.lecun.com/exdb/mnist/train-images-idx3-ubyte.gz to ./MNIST/raw/train-images-idx3-ubyte.gz\n"
     ]
    },
    {
     "data": {
      "application/vnd.jupyter.widget-view+json": {
       "model_id": "f78ea1132dcb47a0826e66f872596233",
       "version_major": 2,
       "version_minor": 0
      },
      "text/plain": [
       "  0%|          | 0/9912422 [00:00<?, ?it/s]"
      ]
     },
     "metadata": {},
     "output_type": "display_data"
    },
    {
     "name": "stdout",
     "output_type": "stream",
     "text": [
      "Extracting ./MNIST/raw/train-images-idx3-ubyte.gz to ./MNIST/raw\n",
      "\n",
      "Downloading http://yann.lecun.com/exdb/mnist/train-labels-idx1-ubyte.gz\n",
      "Downloading http://yann.lecun.com/exdb/mnist/train-labels-idx1-ubyte.gz to ./MNIST/raw/train-labels-idx1-ubyte.gz\n"
     ]
    },
    {
     "data": {
      "application/vnd.jupyter.widget-view+json": {
       "model_id": "0f0bf6729edf4c6988dfc318674fca3c",
       "version_major": 2,
       "version_minor": 0
      },
      "text/plain": [
       "  0%|          | 0/28881 [00:00<?, ?it/s]"
      ]
     },
     "metadata": {},
     "output_type": "display_data"
    },
    {
     "name": "stdout",
     "output_type": "stream",
     "text": [
      "Extracting ./MNIST/raw/train-labels-idx1-ubyte.gz to ./MNIST/raw\n",
      "\n",
      "Downloading http://yann.lecun.com/exdb/mnist/t10k-images-idx3-ubyte.gz\n",
      "Downloading http://yann.lecun.com/exdb/mnist/t10k-images-idx3-ubyte.gz to ./MNIST/raw/t10k-images-idx3-ubyte.gz\n"
     ]
    },
    {
     "data": {
      "application/vnd.jupyter.widget-view+json": {
       "model_id": "d9e559b65a5949339b361f5cb142c44a",
       "version_major": 2,
       "version_minor": 0
      },
      "text/plain": [
       "  0%|          | 0/1648877 [00:00<?, ?it/s]"
      ]
     },
     "metadata": {},
     "output_type": "display_data"
    },
    {
     "name": "stdout",
     "output_type": "stream",
     "text": [
      "Extracting ./MNIST/raw/t10k-images-idx3-ubyte.gz to ./MNIST/raw\n",
      "\n",
      "Downloading http://yann.lecun.com/exdb/mnist/t10k-labels-idx1-ubyte.gz\n",
      "Downloading http://yann.lecun.com/exdb/mnist/t10k-labels-idx1-ubyte.gz to ./MNIST/raw/t10k-labels-idx1-ubyte.gz\n"
     ]
    },
    {
     "data": {
      "application/vnd.jupyter.widget-view+json": {
       "model_id": "bd2ccc12f66d493fba79f3e6d655e459",
       "version_major": 2,
       "version_minor": 0
      },
      "text/plain": [
       "  0%|          | 0/4542 [00:00<?, ?it/s]"
      ]
     },
     "metadata": {},
     "output_type": "display_data"
    },
    {
     "name": "stdout",
     "output_type": "stream",
     "text": [
      "Extracting ./MNIST/raw/t10k-labels-idx1-ubyte.gz to ./MNIST/raw\n",
      "\n"
     ]
    }
   ],
   "source": [
    "import matplotlib.pyplot as plt\n",
    "import json\n",
    "import requests\n",
    "from torchvision.datasets import MNIST\n",
    "from torchvision.transforms import ToTensor\n",
    "from torchvision import transforms\n",
    "from torch.utils.data import DataLoader\n",
    "training_data = MNIST(\n",
    "    root=\".\",\n",
    "    download=True,\n",
    "    train=False,\n",
    "    transform = transforms.Compose([\n",
    "              transforms.ToTensor()\n",
    "          ])\n",
    ")\n"
   ]
  },
  {
   "cell_type": "code",
   "execution_count": 46,
   "id": "256db298",
   "metadata": {},
   "outputs": [],
   "source": [
    "reqJson = json.loads('{\"inputs\":[{\"name\":\"Input3\",\"data\":[],\"datatype\":\"FP32\",\"shape\":[]}]}')\n",
    "url = \"http://0.0.0.0:9000/v2/models/model/infer\"\n",
    "dl = DataLoader(training_data, batch_size=1, shuffle=False)\n",
    "dlIter = iter(dl)\n",
    "\n",
    "def infer_mnist():\n",
    "    x, y = next(dlIter)\n",
    "    data = x.cpu().numpy()\n",
    "    reqJson[\"inputs\"][0][\"data\"] = data.flatten().tolist()\n",
    "    reqJson[\"inputs\"][0][\"shape\"] = [1, 1, 28, 28]\n",
    "    headers = {\"Content-Type\": \"application/json\", \"seldon-model\":\"mnist\"}\n",
    "    response_raw = requests.post(url, json=reqJson, headers=headers)\n",
    "    show_mnist(x)\n",
    "    probs = np.array(response_raw.json()[\"outputs\"][0][\"data\"])\n",
    "    print(probs.argmax(axis=0))\n",
    "    \n",
    "\n",
    "def show_mnist(X):\n",
    "    plt.imshow(X.reshape(28, 28))\n",
    "    plt.axis(\"off\")\n",
    "    plt.show()"
   ]
  },
  {
   "cell_type": "code",
   "execution_count": 42,
   "id": "9c5cd5af",
   "metadata": {},
   "outputs": [
    {
     "name": "stdout",
     "output_type": "stream",
     "text": [
      "apiVersion: mlops.seldon.io/v1alpha1\r\n",
      "kind: Model\r\n",
      "metadata:\r\n",
      "  name: mnist\r\n",
      "spec:\r\n",
      "  storageUri: \"gs://seldon-models/scv2/samples/mlserver_1.2.3/mnist-onnx\"\r\n",
      "  requirements:\r\n",
      "  - onnx\r\n"
     ]
    }
   ],
   "source": [
    "!cat ./models/mnist.yaml"
   ]
  },
  {
   "cell_type": "code",
   "execution_count": 43,
   "id": "8c698c9d",
   "metadata": {},
   "outputs": [
    {
     "name": "stdout",
     "output_type": "stream",
     "text": [
      "{}\r\n"
     ]
    }
   ],
   "source": [
    "!seldon model load -f ./models/mnist.yaml"
   ]
  },
  {
   "cell_type": "code",
   "execution_count": 44,
   "id": "91e05090",
   "metadata": {},
   "outputs": [
    {
     "name": "stdout",
     "output_type": "stream",
     "text": [
      "{}\r\n"
     ]
    }
   ],
   "source": [
    "!seldon model status mnist -w ModelAvailable | jq -M ."
   ]
  },
  {
   "cell_type": "code",
   "execution_count": 48,
   "id": "bec480da",
   "metadata": {},
   "outputs": [
    {
     "data": {
      "image/png": "[encoded data removed]",
      "text/plain": [
       "<Figure size 640x480 with 1 Axes>"
      ]
     },
     "metadata": {},
     "output_type": "display_data"
    },
    {
     "name": "stdout",
     "output_type": "stream",
     "text": [
      "2\n"
     ]
    }
   ],
   "source": [
    "infer_mnist()"
   ]
  },
  {
   "cell_type": "markdown",
   "id": "8325a49e",
   "metadata": {},
   "source": [
    "### LightGBM Model"
   ]
  },
  {
   "cell_type": "code",
   "execution_count": 58,
   "id": "47896ade",
   "metadata": {},
   "outputs": [
    {
     "name": "stdout",
     "output_type": "stream",
     "text": [
      "apiVersion: mlops.seldon.io/v1alpha1\r\n",
      "kind: Model\r\n",
      "metadata:\r\n",
      "  name: income-lgb\r\n",
      "spec:\r\n",
      "  storageUri: \"gs://seldon-models/scv2/samples/mlserver_1.2.3/income-lgb\"\r\n",
      "  requirements:\r\n",
      "  - lightgbm\r\n"
     ]
    }
   ],
   "source": [
    "!cat ./models/income-lgb.yaml"
   ]
  },
  {
   "cell_type": "code",
   "execution_count": 59,
   "id": "8ac81161",
   "metadata": {},
   "outputs": [
    {
     "name": "stdout",
     "output_type": "stream",
     "text": [
      "{}\r\n"
     ]
    }
   ],
   "source": [
    "!seldon model load -f ./models/income-lgb.yaml"
   ]
  },
  {
   "cell_type": "code",
   "execution_count": 60,
   "id": "d65a7f91",
   "metadata": {},
   "outputs": [
    {
     "name": "stdout",
     "output_type": "stream",
     "text": [
      "{}\r\n"
     ]
    }
   ],
   "source": [
    "!seldon model status income-lgb -w ModelAvailable | jq -M ."
   ]
  },
  {
   "cell_type": "code",
   "execution_count": 52,
   "id": "aa6403a1",
   "metadata": {},
   "outputs": [
    {
     "name": "stdout",
     "output_type": "stream",
     "text": [
      "{\r\n",
      "\t\"model_name\": \"income-lgb_1\",\r\n",
      "\t\"model_version\": \"1\",\r\n",
      "\t\"id\": \"4dde5b4e-a6c8-411e-a53d-0d67279b241d\",\r\n",
      "\t\"parameters\": {},\r\n",
      "\t\"outputs\": [\r\n",
      "\t\t{\r\n",
      "\t\t\t\"name\": \"predict\",\r\n",
      "\t\t\t\"shape\": [\r\n",
      "\t\t\t\t1,\r\n",
      "\t\t\t\t1\r\n",
      "\t\t\t],\r\n",
      "\t\t\t\"datatype\": \"FP64\",\r\n",
      "\t\t\t\"data\": [\r\n",
      "\t\t\t\t0.06279460120044741\r\n",
      "\t\t\t]\r\n",
      "\t\t}\r\n",
      "\t]\r\n",
      "}\r\n"
     ]
    }
   ],
   "source": [
    "!seldon model infer income-lgb \\\n",
    "  '{ \"parameters\": {\"content_type\": \"pd\"}, \"inputs\": [{\"name\": \"Age\", \"shape\": [1, 1], \"datatype\": \"INT64\", \"data\": [47]},{\"name\": \"Workclass\", \"shape\": [1, 1], \"datatype\": \"INT64\", \"data\": [4]},{\"name\": \"Education\", \"shape\": [1, 1], \"datatype\": \"INT64\", \"data\": [1]},{\"name\": \"Marital Status\", \"shape\": [1, 1], \"datatype\": \"INT64\", \"data\": [1]},{\"name\": \"Occupation\", \"shape\": [1, 1], \"datatype\": \"INT64\", \"data\": [1]},{\"name\": \"Relationship\", \"shape\": [1, 1], \"datatype\": \"INT64\", \"data\": [3]},{\"name\": \"Race\", \"shape\": [1, 1], \"datatype\": \"INT64\", \"data\": [4]},{\"name\": \"Sex\", \"shape\": [1, 1], \"datatype\": \"INT64\", \"data\": [1]},{\"name\": \"Capital Gain\", \"shape\": [1, 1], \"datatype\": \"INT64\", \"data\": [0]},{\"name\": \"Capital Loss\", \"shape\": [1, 1], \"datatype\": \"INT64\", \"data\": [0]},{\"name\": \"Hours per week\", \"shape\": [1, 1], \"datatype\": \"INT64\", \"data\": [40]},{\"name\": \"Country\", \"shape\": [1, 1], \"datatype\": \"INT64\", \"data\": [9]}]}' "
   ]
  },
  {
   "cell_type": "code",
   "execution_count": 53,
   "id": "f1912a83",
   "metadata": {},
   "outputs": [
    {
     "name": "stdout",
     "output_type": "stream",
     "text": [
      "{}\r\n"
     ]
    }
   ],
   "source": [
    "!seldon model unload income-lgb"
   ]
  },
  {
   "cell_type": "markdown",
   "id": "1baa5a6c",
   "metadata": {},
   "source": [
    "### MLFlow Wine Model"
   ]
  },
  {
   "cell_type": "code",
   "execution_count": 61,
   "id": "5ffd0f32",
   "metadata": {},
   "outputs": [
    {
     "name": "stdout",
     "output_type": "stream",
     "text": [
      "apiVersion: mlops.seldon.io/v1alpha1\r\n",
      "kind: Model\r\n",
      "metadata:\r\n",
      "  name: wine\r\n",
      "spec:\r\n",
      "  storageUri: \"gs://seldon-models/scv2/samples/mlserver_1.2.3/wine-mlflow\"\r\n",
      "  requirements:\r\n",
      "  - mlflow\r\n"
     ]
    }
   ],
   "source": [
    "!cat ./models/wine-mlflow.yaml"
   ]
  },
  {
   "cell_type": "code",
   "execution_count": 62,
   "id": "8a5d38b6",
   "metadata": {},
   "outputs": [
    {
     "name": "stdout",
     "output_type": "stream",
     "text": [
      "{}\r\n"
     ]
    }
   ],
   "source": [
    "!seldon model load -f ./models/wine-mlflow.yaml"
   ]
  },
  {
   "cell_type": "code",
   "execution_count": 63,
   "id": "2e749f0d",
   "metadata": {},
   "outputs": [
    {
     "name": "stdout",
     "output_type": "stream",
     "text": [
      "{}\r\n"
     ]
    }
   ],
   "source": [
    "!seldon model status wine -w ModelAvailable | jq -M ."
   ]
  },
  {
   "cell_type": "code",
   "execution_count": 66,
   "id": "c71e83de",
   "metadata": {},
   "outputs": [
    {
     "name": "stdout",
     "output_type": "stream",
     "text": [
      "{'model_name': 'wine_1', 'model_version': '1', 'id': '0d5570ac-539e-4846-b945-ac5742e781f8', 'parameters': {}, 'outputs': [{'name': 'output-1', 'shape': [1, 1], 'datatype': 'FP64', 'data': [5.576883936610762]}]}\n"
     ]
    }
   ],
   "source": [
    "import requests\n",
    "url = \"http://0.0.0.0:9000/v2/models/model/infer\"\n",
    "inference_request = {\n",
    "    \"inputs\": [\n",
    "        {\n",
    "          \"name\": \"fixed acidity\",\n",
    "          \"shape\": [1],\n",
    "          \"datatype\": \"FP32\",\n",
    "          \"data\": [7.4],\n",
    "        },\n",
    "        {\n",
    "          \"name\": \"volatile acidity\",\n",
    "          \"shape\": [1],\n",
    "          \"datatype\": \"FP32\",\n",
    "          \"data\": [0.7000],\n",
    "        },\n",
    "        {\n",
    "          \"name\": \"citric acid\",\n",
    "          \"shape\": [1],\n",
    "          \"datatype\": \"FP32\",\n",
    "          \"data\": [0],\n",
    "        },\n",
    "        {\n",
    "          \"name\": \"residual sugar\",\n",
    "          \"shape\": [1],\n",
    "          \"datatype\": \"FP32\",\n",
    "          \"data\": [1.9],\n",
    "        },\n",
    "        {\n",
    "          \"name\": \"chlorides\",\n",
    "          \"shape\": [1],\n",
    "          \"datatype\": \"FP32\",\n",
    "          \"data\": [0.076],\n",
    "        },\n",
    "        {\n",
    "          \"name\": \"free sulfur dioxide\",\n",
    "          \"shape\": [1],\n",
    "          \"datatype\": \"FP32\",\n",
    "          \"data\": [11],\n",
    "        },\n",
    "        {\n",
    "          \"name\": \"total sulfur dioxide\",\n",
    "          \"shape\": [1],\n",
    "          \"datatype\": \"FP32\",\n",
    "          \"data\": [34],\n",
    "        },\n",
    "        {\n",
    "          \"name\": \"density\",\n",
    "          \"shape\": [1],\n",
    "          \"datatype\": \"FP32\",\n",
    "          \"data\": [0.9978],\n",
    "        },\n",
    "        {\n",
    "          \"name\": \"pH\",\n",
    "          \"shape\": [1],\n",
    "          \"datatype\": \"FP32\",\n",
    "          \"data\": [3.51],\n",
    "        },\n",
    "        {\n",
    "          \"name\": \"sulphates\",\n",
    "          \"shape\": [1],\n",
    "          \"datatype\": \"FP32\",\n",
    "          \"data\": [0.56],\n",
    "        },\n",
    "        {\n",
    "          \"name\": \"alcohol\",\n",
    "          \"shape\": [1],\n",
    "          \"datatype\": \"FP32\",\n",
    "          \"data\": [9.4],\n",
    "        },\n",
    "    ]\n",
    "}\n",
    "headers = {\"Content-Type\": \"application/json\", \"seldon-model\":\"wine\"}\n",
    "response_raw = requests.post(url, json=inference_request, headers=headers)\n",
    "print(response_raw.json())"
   ]
  },
  {
   "cell_type": "code",
   "execution_count": 67,
   "id": "a2ba83ea",
   "metadata": {},
   "outputs": [
    {
     "name": "stdout",
     "output_type": "stream",
     "text": [
      "{}\r\n"
     ]
    }
   ],
   "source": [
    "!seldon model unload wine"
   ]
  },
  {
   "cell_type": "code",
   "execution_count": null,
   "id": "b972b1ef",
   "metadata": {},
   "outputs": [],
   "source": []
  }
 ],
 "metadata": {
  "kernelspec": {
   "display_name": "Python 3 (ipykernel)",
   "language": "python",
   "name": "python3"
  },
  "language_info": {
   "codemirror_mode": {
    "name": "ipython",
    "version": 3
   },
   "file_extension": ".py",
   "mimetype": "text/x-python",
   "name": "python",
   "nbconvert_exporter": "python",
   "pygments_lexer": "ipython3",
   "version": "3.9.13"
  }
 },
 "nbformat": 4,
 "nbformat_minor": 5
}
