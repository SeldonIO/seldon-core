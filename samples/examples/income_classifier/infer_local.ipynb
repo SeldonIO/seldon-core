{
 "cells": [
  {
   "cell_type": "markdown",
   "id": "5760f3c8",
   "metadata": {},
   "source": [
    "## Tabular Income Classifier Production Deployment\n",
    "\n",
    "To run this notebook you need the inference data. This can be acquired in two ways:\n",
    "\n",
    "  * Run train.ipynb\n",
    "  * Start Seldon with `export LOCAL_MODEL_FOLDER=<this folder>`"
   ]
  },
  {
   "cell_type": "code",
   "execution_count": 1,
   "id": "3af6ea59",
   "metadata": {},
   "outputs": [],
   "source": [
    "import numpy as np\n",
    "import json\n",
    "import requests"
   ]
  },
  {
   "cell_type": "code",
   "execution_count": 2,
   "id": "830f0b2f",
   "metadata": {},
   "outputs": [],
   "source": [
    "with open('./infer-data/test.npy', 'rb') as f:\n",
    "    x_ref = np.load(f)\n",
    "    x_h1 = np.load(f)\n",
    "    y_ref = np.load(f)\n",
    "    x_outlier = np.load(f)"
   ]
  },
  {
   "cell_type": "code",
   "execution_count": 3,
   "id": "346cc929",
   "metadata": {},
   "outputs": [],
   "source": [
    "reqJson = json.loads('{\"inputs\":[{\"name\":\"input_1\",\"data\":[],\"datatype\":\"FP32\",\"shape\":[]}]}')\n",
    "url = \"http://0.0.0.0:9000/v2/models/model/infer\""
   ]
  },
  {
   "cell_type": "code",
   "execution_count": 4,
   "id": "a7339d3d",
   "metadata": {},
   "outputs": [],
   "source": [
    "def infer(resourceName: str, batchSz: int, requestType: str):\n",
    "    if requestType == \"outlier\":\n",
    "        rows = x_outlier[0:0+batchSz]\n",
    "    elif requestType == \"drift\":\n",
    "        rows = x_h1[0:0+batchSz]\n",
    "    else:\n",
    "        rows = x_ref[0:0+batchSz]\n",
    "    reqJson[\"inputs\"][0][\"data\"] = rows.flatten().tolist()\n",
    "    reqJson[\"inputs\"][0][\"shape\"] = [batchSz, rows.shape[1]]\n",
    "    headers = {\"Content-Type\": \"application/json\", \"seldon-model\":resourceName}\n",
    "    response_raw = requests.post(url, json=reqJson, headers=headers)\n",
    "    print(response_raw)\n",
    "    print(response_raw.json())"
   ]
  },
  {
   "cell_type": "markdown",
   "id": "1f37d87e",
   "metadata": {},
   "source": [
    "### Pipeline with model, drift detector and outlier detector"
   ]
  },
  {
   "cell_type": "code",
   "execution_count": 25,
   "id": "c31d41c1",
   "metadata": {},
   "outputs": [
    {
     "name": "stdout",
     "output_type": "stream",
     "text": [
      "{}\n",
      "{}\n",
      "{}\n",
      "{}\n"
     ]
    }
   ],
   "source": [
    "!seldon model load -f local_resources/income-preprocess.yaml\n",
    "!seldon model load -f local_resources/income.yaml\n",
    "!seldon model load -f local_resources/income-drift.yaml\n",
    "!seldon model load -f local_resources/income-outlier.yaml"
   ]
  },
  {
   "cell_type": "code",
   "execution_count": 26,
   "id": "cb503272",
   "metadata": {},
   "outputs": [
    {
     "name": "stdout",
     "output_type": "stream",
     "text": [
      "\u001b[1;39m{}\u001b[0m\n",
      "\u001b[1;39m{}\u001b[0m\n",
      "\u001b[1;39m{}\u001b[0m\n",
      "\u001b[1;39m{}\u001b[0m\n"
     ]
    }
   ],
   "source": [
    "!seldon model status income-preprocess -w ModelAvailable | jq .\n",
    "!seldon model status income -w ModelAvailable | jq .\n",
    "!seldon model status income-drift -w ModelAvailable | jq .\n",
    "!seldon model status income-outlier -w ModelAvailable | jq ."
   ]
  },
  {
   "cell_type": "code",
   "execution_count": 27,
   "id": "36300582",
   "metadata": {},
   "outputs": [
    {
     "name": "stdout",
     "output_type": "stream",
     "text": [
      "apiVersion: mlops.seldon.io/v1alpha1\r\n",
      "kind: Pipeline\r\n",
      "metadata:\r\n",
      "  name: income-production\r\n",
      "spec:\r\n",
      "  steps:\r\n",
      "    - name: income\r\n",
      "    - name: income-preprocess\r\n",
      "    - name: income-outlier\r\n",
      "      inputs:\r\n",
      "      - income-preprocess\r\n",
      "    - name: income-drift\r\n",
      "      batch:\r\n",
      "        size: 20\r\n",
      "  output:\r\n",
      "    steps:\r\n",
      "    - income\r\n",
      "    - income-outlier.outputs.is_outlier\r\n"
     ]
    }
   ],
   "source": [
    "!cat ../../pipelines/income.yaml"
   ]
  },
  {
   "cell_type": "code",
   "execution_count": 28,
   "id": "ba8bd865",
   "metadata": {},
   "outputs": [
    {
     "name": "stdout",
     "output_type": "stream",
     "text": [
      "{}\r\n"
     ]
    }
   ],
   "source": [
    "!seldon pipeline load -f ../../pipelines/income.yaml"
   ]
  },
  {
   "cell_type": "code",
   "execution_count": 29,
   "id": "50f88343",
   "metadata": {},
   "outputs": [
    {
     "name": "stdout",
     "output_type": "stream",
     "text": [
      "{\r\n",
      "  \"pipelineName\": \"income-production\",\r\n",
      "  \"versions\": [\r\n",
      "    {\r\n",
      "      \"pipeline\": {\r\n",
      "        \"name\": \"income-production\",\r\n",
      "        \"uid\": \"cc536tg4sl9u21cllbr0\",\r\n",
      "        \"version\": 1,\r\n",
      "        \"steps\": [\r\n",
      "          {\r\n",
      "            \"name\": \"income\"\r\n",
      "          },\r\n",
      "          {\r\n",
      "            \"name\": \"income-drift\",\r\n",
      "            \"batch\": {\r\n",
      "              \"size\": 20\r\n",
      "            }\r\n",
      "          },\r\n",
      "          {\r\n",
      "            \"name\": \"income-outlier\",\r\n",
      "            \"inputs\": [\r\n",
      "              \"income-preprocess.outputs\"\r\n",
      "            ]\r\n",
      "          },\r\n",
      "          {\r\n",
      "            \"name\": \"income-preprocess\"\r\n",
      "          }\r\n",
      "        ],\r\n",
      "        \"output\": {\r\n",
      "          \"steps\": [\r\n",
      "            \"income.outputs\",\r\n",
      "            \"income-outlier.outputs.is_outlier\"\r\n",
      "          ]\r\n",
      "        },\r\n",
      "        \"kubernetesMeta\": {}\r\n",
      "      },\r\n",
      "      \"state\": {\r\n",
      "        \"pipelineVersion\": 1,\r\n",
      "        \"status\": \"PipelineReady\",\r\n",
      "        \"reason\": \"created pipeline\",\r\n",
      "        \"lastChangeTimestamp\": \"2022-08-27T15:28:52.890372305Z\"\r\n",
      "      }\r\n",
      "    }\r\n",
      "  ]\r\n",
      "}\r\n"
     ]
    }
   ],
   "source": [
    "!seldon pipeline status income-production -w PipelineReady | jq -M ."
   ]
  },
  {
   "cell_type": "markdown",
   "id": "80f44ee9",
   "metadata": {},
   "source": [
    "Show predictions from reference set. Should not be drift or outliers."
   ]
  },
  {
   "cell_type": "code",
   "execution_count": 30,
   "id": "c644c816",
   "metadata": {},
   "outputs": [
    {
     "name": "stdout",
     "output_type": "stream",
     "text": [
      "[0 0 1 1 0 1 0 0 1 0 0 0 0 0 1 1 0 0 0 1]\n",
      "<Response [200]>\n",
      "{'model_name': '', 'outputs': [{'data': [0, 0, 1, 1, 0, 1, 0, 0, 1, 0, 0, 0, 0, 0, 1, 1, 0, 0, 0, 1], 'name': 'predict', 'shape': [20], 'datatype': 'INT64'}, {'data': [0, 0, 0, 0, 0, 0, 0, 0, 0, 0, 0, 0, 0, 0, 0, 0, 0, 0, 0, 0], 'name': 'is_outlier', 'shape': [1, 20], 'datatype': 'INT64'}]}\n"
     ]
    }
   ],
   "source": [
    "batchSz=20\n",
    "print(y_ref[0:batchSz])\n",
    "infer(\"income-production.pipeline\",batchSz,\"normal\")"
   ]
  },
  {
   "cell_type": "code",
   "execution_count": 31,
   "id": "0469f798",
   "metadata": {},
   "outputs": [
    {
     "name": "stdout",
     "output_type": "stream",
     "text": [
      "---\r\n",
      "seldon.default.model.income-drift.outputs\r\n",
      "cc53o9qqojmgf7c4m4bg:{\"name\":\"is_drift\",\"datatype\":\"INT64\",\"shape\":[\"1\"],\"contents\":{\"int64Contents\":[\"0\"]}}\r\n"
     ]
    }
   ],
   "source": [
    "!seldon pipeline inspect income-production.income-drift.outputs.is_drift"
   ]
  },
  {
   "cell_type": "markdown",
   "id": "25a10e57",
   "metadata": {},
   "source": [
    "Show predictions from drift data. Should be drift and probably not outliers."
   ]
  },
  {
   "cell_type": "code",
   "execution_count": 32,
   "id": "79d986be",
   "metadata": {},
   "outputs": [
    {
     "name": "stdout",
     "output_type": "stream",
     "text": [
      "[0 0 1 1 0 1 0 0 1 0 0 0 0 0 1 1 0 0 0 1]\n",
      "<Response [200]>\n",
      "{'model_name': '', 'outputs': [{'data': [0, 0, 0, 1, 1, 0, 1, 1, 1, 0, 0, 0, 0, 0, 1, 0, 0, 1, 0, 1], 'name': 'predict', 'shape': [20], 'datatype': 'INT64'}, {'data': [0, 0, 0, 0, 0, 0, 0, 0, 0, 0, 0, 0, 0, 0, 0, 0, 0, 0, 0, 0], 'name': 'is_outlier', 'shape': [1, 20], 'datatype': 'INT64'}]}\n"
     ]
    }
   ],
   "source": [
    "batchSz=20\n",
    "print(y_ref[0:batchSz])\n",
    "infer(\"income-production.pipeline\",batchSz,\"drift\")"
   ]
  },
  {
   "cell_type": "code",
   "execution_count": 33,
   "id": "2191405f",
   "metadata": {},
   "outputs": [
    {
     "name": "stdout",
     "output_type": "stream",
     "text": [
      "---\r\n",
      "seldon.default.model.income-drift.outputs\r\n",
      "cc53oaiqojmgf7c4m4c0:{\"name\":\"is_drift\",\"datatype\":\"INT64\",\"shape\":[\"1\"],\"contents\":{\"int64Contents\":[\"1\"]}}\r\n"
     ]
    }
   ],
   "source": [
    "!seldon pipeline inspect income-production.income-drift.outputs.is_drift"
   ]
  },
  {
   "cell_type": "markdown",
   "id": "dc31b5d9",
   "metadata": {},
   "source": [
    "Show predictions from outlier data. Should be outliers and probably not drift."
   ]
  },
  {
   "cell_type": "code",
   "execution_count": 34,
   "id": "552ecc6a",
   "metadata": {},
   "outputs": [
    {
     "name": "stdout",
     "output_type": "stream",
     "text": [
      "[0 0 1 1 0 1 0 0 1 0 0 0 0 0 1 1 0 0 0 1]\n",
      "<Response [200]>\n",
      "{'model_name': '', 'outputs': [{'data': [0, 0, 1, 1, 0, 0, 0, 1, 1, 1, 1, 0, 0, 0, 1, 1, 0, 0, 0, 1], 'name': 'predict', 'shape': [20], 'datatype': 'INT64'}, {'data': [1, 0, 0, 0, 1, 1, 1, 1, 1, 1, 1, 0, 0, 0, 1, 1, 1, 0, 1, 1], 'name': 'is_outlier', 'shape': [1, 20], 'datatype': 'INT64'}]}\n"
     ]
    }
   ],
   "source": [
    "batchSz=20\n",
    "print(y_ref[0:batchSz])\n",
    "infer(\"income-production.pipeline\",batchSz,\"outlier\")"
   ]
  },
  {
   "cell_type": "code",
   "execution_count": 35,
   "id": "c123e82f",
   "metadata": {},
   "outputs": [
    {
     "name": "stdout",
     "output_type": "stream",
     "text": [
      "---\n",
      "seldon.default.model.income-drift.outputs\n",
      "cc53obiqojmgf7c4m4cg:{\"name\":\"is_drift\",\"datatype\":\"INT64\",\"shape\":[\"1\"],\"contents\":{\"int64Contents\":[\"0\"]}}\n"
     ]
    }
   ],
   "source": [
    "!seldon pipeline inspect income-production.income-drift.outputs.is_drift"
   ]
  },
  {
   "cell_type": "markdown",
   "id": "289a3e39",
   "metadata": {},
   "source": [
    "### Explanations"
   ]
  },
  {
   "cell_type": "code",
   "execution_count": 36,
   "id": "cb81943e",
   "metadata": {},
   "outputs": [
    {
     "name": "stdout",
     "output_type": "stream",
     "text": [
      "apiVersion: mlops.seldon.io/v1alpha1\r\n",
      "kind: Model\r\n",
      "metadata:\r\n",
      "  name: income-explainer\r\n",
      "spec:\r\n",
      "  storageUri: \"/mnt/models/explainer\"\r\n",
      "  explainer:\r\n",
      "    type: anchor_tabular\r\n",
      "    modelRef: income\r\n"
     ]
    }
   ],
   "source": [
    "!cat local_resources/income-explainer.yaml"
   ]
  },
  {
   "cell_type": "code",
   "execution_count": 37,
   "id": "f7ac528e",
   "metadata": {},
   "outputs": [
    {
     "name": "stdout",
     "output_type": "stream",
     "text": [
      "{}\r\n"
     ]
    }
   ],
   "source": [
    "!seldon model load -f local_resources/income-explainer.yaml"
   ]
  },
  {
   "cell_type": "code",
   "execution_count": 38,
   "id": "e4a15796",
   "metadata": {},
   "outputs": [
    {
     "name": "stdout",
     "output_type": "stream",
     "text": [
      "\u001b[1;39m{}\u001b[0m\r\n"
     ]
    }
   ],
   "source": [
    "!seldon model status income-explainer -w ModelAvailable | jq ."
   ]
  },
  {
   "cell_type": "code",
   "execution_count": 39,
   "id": "029bfa8b",
   "metadata": {},
   "outputs": [
    {
     "name": "stdout",
     "output_type": "stream",
     "text": [
      "[0]\n",
      "<Response [200]>\n",
      "{'model_name': 'income-explainer_1', 'model_version': '1', 'id': '2cba4255-d972-468f-a9e0-5b0212bcd10f', 'parameters': {'content_type': None, 'headers': None}, 'outputs': [{'name': 'explanation', 'shape': [1], 'datatype': 'BYTES', 'parameters': {'content_type': 'str', 'headers': None}, 'data': ['{\"meta\": {\"name\": \"AnchorTabular\", \"type\": [\"blackbox\"], \"explanations\": [\"local\"], \"params\": {\"seed\": 1, \"disc_perc\": [25, 50, 75], \"threshold\": 0.95, \"delta\": 0.1, \"tau\": 0.15, \"batch_size\": 100, \"coverage_samples\": 10000, \"beam_size\": 1, \"stop_on_first\": false, \"max_anchor_size\": null, \"min_samples_start\": 100, \"n_covered_ex\": 10, \"binary_cache_size\": 10000, \"cache_margin\": 1000, \"verbose\": false, \"verbose_every\": 1, \"kwargs\": {}}, \"version\": \"0.7.0\"}, \"data\": {\"anchor\": [\"Marital Status = Never-Married\", \"Relationship = Own-child\", \"Capital Gain <= 0.00\", \"Capital Loss <= 0.00\"], \"precision\": 1.0, \"coverage\": 0.06720071206052515, \"raw\": {\"feature\": [3, 5, 8, 9], \"mean\": [0.7980769230769231, 0.9152542372881356, 0.9972144846796658, 1.0], \"precision\": [0.7980769230769231, 0.9152542372881356, 0.9972144846796658, 1.0], \"coverage\": [0.3037383177570093, 0.07165109034267912, 0.06853582554517133, 0.06720071206052515], \"examples\": [{\"covered_true\": [[23, 7, 1, 1, 5, 1, 4, 0, 0, 0, 32, 9], [44, 4, 1, 1, 8, 0, 4, 1, 0, 0, 40, 9], [39, 7, 1, 1, 8, 1, 4, 0, 0, 0, 40, 9], [25, 4, 5, 1, 5, 1, 4, 0, 0, 0, 40, 9], [44, 2, 1, 1, 5, 0, 4, 1, 0, 0, 40, 9], [49, 6, 1, 1, 5, 0, 4, 1, 0, 0, 40, 9], [31, 4, 1, 1, 8, 1, 4, 0, 0, 0, 40, 9], [26, 4, 5, 1, 8, 3, 4, 0, 0, 0, 40, 9], [31, 4, 1, 1, 4, 1, 4, 1, 0, 0, 45, 9], [56, 4, 1, 1, 5, 0, 4, 1, 0, 1902, 65, 9]], \"covered_false\": [[50, 4, 5, 1, 8, 0, 4, 1, 15024, 0, 65, 9], [43, 4, 5, 1, 5, 4, 4, 0, 0, 2547, 40, 9], [62, 6, 1, 1, 2, 0, 4, 1, 0, 0, 55, 9], [29, 4, 1, 1, 8, 1, 4, 0, 0, 2258, 45, 9], [45, 7, 1, 1, 8, 0, 4, 1, 0, 1977, 60, 9], [67, 6, 2, 1, 5, 0, 4, 1, 10605, 0, 35, 9], [38, 4, 1, 1, 5, 0, 4, 1, 0, 0, 45, 9], [38, 4, 5, 1, 8, 0, 4, 1, 0, 1977, 60, 9], [34, 5, 1, 1, 5, 1, 4, 0, 0, 0, 62, 9], [63, 0, 1, 1, 0, 0, 4, 1, 7688, 0, 54, 9]], \"uncovered_true\": [], \"uncovered_false\": []}, {\"covered_true\": [[35, 1, 2, 1, 5, 3, 0, 0, 0, 0, 60, 9], [37, 4, 5, 1, 5, 3, 1, 1, 0, 0, 40, 4], [24, 4, 1, 1, 8, 3, 4, 1, 0, 0, 40, 9], [26, 4, 5, 1, 5, 3, 4, 0, 0, 0, 40, 9], [25, 4, 1, 1, 5, 3, 4, 0, 0, 0, 15, 9], [43, 4, 1, 1, 5, 3, 4, 1, 0, 0, 40, 9], [45, 4, 1, 1, 8, 3, 4, 1, 0, 0, 60, 9], [40, 7, 5, 1, 5, 3, 4, 0, 0, 0, 45, 9], [34, 4, 1, 1, 8, 3, 1, 0, 0, 0, 40, 7], [53, 4, 1, 1, 7, 3, 4, 1, 0, 0, 40, 1]], \"covered_false\": [[32, 4, 1, 1, 6, 3, 2, 1, 15024, 0, 50, 9], [63, 0, 1, 1, 0, 3, 4, 1, 7688, 0, 54, 9], [52, 5, 1, 1, 6, 3, 4, 1, 15024, 0, 50, 9], [41, 4, 1, 1, 6, 3, 4, 1, 7688, 0, 50, 9], [40, 6, 1, 1, 5, 3, 4, 1, 7298, 0, 50, 9], [32, 4, 1, 1, 8, 3, 4, 1, 0, 2444, 50, 9], [46, 2, 1, 1, 5, 3, 4, 1, 4787, 0, 45, 9], [36, 4, 1, 1, 8, 3, 4, 1, 8614, 0, 40, 9], [59, 5, 5, 1, 8, 3, 4, 1, 15024, 0, 80, 9], [50, 5, 2, 1, 5, 3, 4, 1, 15024, 0, 60, 9]], \"uncovered_true\": [], \"uncovered_false\": []}, {\"covered_true\": [[61, 4, 1, 1, 1, 3, 4, 1, 0, 0, 40, 9], [35, 4, 1, 1, 6, 3, 4, 1, 0, 0, 40, 9], [66, 6, 1, 1, 6, 3, 4, 1, 0, 0, 40, 9], [54, 7, 1, 1, 8, 3, 4, 1, 0, 0, 38, 9], [32, 2, 1, 1, 5, 3, 4, 0, 0, 0, 45, 9], [38, 4, 1, 1, 6, 3, 4, 1, 0, 0, 60, 9], [57, 4, 1, 1, 8, 3, 4, 1, 0, 0, 40, 9], [67, 0, 1, 1, 0, 3, 4, 1, 0, 0, 60, 9], [36, 4, 5, 1, 8, 3, 4, 1, 0, 0, 45, 9], [25, 2, 1, 1, 5, 3, 4, 1, 0, 0, 45, 9]], \"covered_false\": [], \"uncovered_true\": [], \"uncovered_false\": []}, {\"covered_true\": [[26, 2, 5, 1, 5, 3, 4, 1, 0, 0, 50, 9], [40, 4, 1, 1, 8, 3, 4, 1, 0, 0, 75, 9], [36, 7, 1, 1, 4, 3, 2, 0, 0, 0, 40, 9], [53, 4, 1, 1, 6, 3, 4, 1, 0, 0, 50, 9], [36, 4, 1, 1, 1, 3, 4, 0, 0, 0, 40, 9], [45, 5, 1, 1, 8, 3, 4, 1, 0, 0, 40, 9], [70, 4, 1, 1, 1, 3, 4, 1, 0, 0, 40, 9], [49, 2, 1, 1, 4, 3, 2, 1, 0, 0, 40, 9], [23, 4, 1, 1, 6, 3, 4, 0, 0, 0, 40, 9], [28, 4, 1, 1, 7, 3, 2, 1, 0, 0, 40, 9]], \"covered_false\": [[34, 4, 1, 1, 6, 3, 4, 1, 0, 0, 40, 9]], \"uncovered_true\": [], \"uncovered_false\": []}], \"all_precision\": 0, \"num_preds\": 1000000, \"success\": true, \"names\": [\"Marital Status = Never-Married\", \"Relationship = Own-child\", \"Capital Gain <= 0.00\", \"Capital Loss <= 0.00\"], \"prediction\": [0], \"instance\": [47.0, 4.0, 1.0, 1.0, 1.0, 3.0, 4.0, 1.0, 0.0, 0.0, 40.0, 9.0], \"instances\": [[47.0, 4.0, 1.0, 1.0, 1.0, 3.0, 4.0, 1.0, 0.0, 0.0, 40.0, 9.0]]}}}']}]}\n"
     ]
    }
   ],
   "source": [
    "batchSz=1\n",
    "print(y_ref[0:batchSz])\n",
    "infer(\"income-explainer\",batchSz,\"normal\")"
   ]
  },
  {
   "cell_type": "markdown",
   "id": "71019755",
   "metadata": {},
   "source": [
    "### Cleanup"
   ]
  },
  {
   "cell_type": "code",
   "execution_count": 40,
   "id": "a2d69d25",
   "metadata": {},
   "outputs": [
    {
     "name": "stdout",
     "output_type": "stream",
     "text": [
      "{}\n",
      "{}\n",
      "{}\n",
      "{}\n",
      "{}\n"
     ]
    }
   ],
   "source": [
    "!seldon model unload income-preprocess\n",
    "!seldon model unload income\n",
    "!seldon model unload income-drift\n",
    "!seldon model unload income-outlier\n",
    "!seldon model unload income-explainer"
   ]
  },
  {
   "cell_type": "code",
   "execution_count": null,
   "id": "ba3ba4ba",
   "metadata": {},
   "outputs": [],
   "source": []
  }
 ],
 "metadata": {
  "kernelspec": {
   "display_name": "Python 3 (ipykernel)",
   "language": "python",
   "name": "python3"
  },
  "language_info": {
   "codemirror_mode": {
    "name": "ipython",
    "version": 3
   },
   "file_extension": ".py",
   "mimetype": "text/x-python",
   "name": "python",
   "nbconvert_exporter": "python",
   "pygments_lexer": "ipython3",
   "version": "3.9.10"
  }
 },
 "nbformat": 4,
 "nbformat_minor": 5
}
