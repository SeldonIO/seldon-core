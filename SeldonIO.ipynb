{
 "cells": [
  {
   "cell_type": "code",
   "execution_count": 140,
   "metadata": {},
   "outputs": [
    {
     "name": "stdout",
     "output_type": "stream",
     "text": [
      "Requirement already satisfied: ivy-core in ./ivy_dev/lib/python3.9/site-packages (1.1.9)\n",
      "Requirement already satisfied: numpy in ./ivy_dev/lib/python3.9/site-packages (from ivy-core) (1.23.5)\n",
      "Requirement already satisfied: einops==0.6.1 in ./ivy_dev/lib/python3.9/site-packages (from ivy-core) (0.6.1)\n",
      "Requirement already satisfied: psutil==5.9.1 in ./ivy_dev/lib/python3.9/site-packages (from ivy-core) (5.9.1)\n",
      "Requirement already satisfied: termcolor==1.1.0 in ./ivy_dev/lib/python3.9/site-packages (from ivy-core) (1.1.0)\n",
      "Requirement already satisfied: colorama==0.4.5 in ./ivy_dev/lib/python3.9/site-packages (from ivy-core) (0.4.5)\n",
      "Requirement already satisfied: packaging==21.3 in ./ivy_dev/lib/python3.9/site-packages (from ivy-core) (21.3)\n",
      "Requirement already satisfied: nvidia-ml-py<=11.495.46 in ./ivy_dev/lib/python3.9/site-packages (from ivy-core) (11.495.46)\n",
      "Requirement already satisfied: diskcache in ./ivy_dev/lib/python3.9/site-packages (from ivy-core) (5.6.1)\n",
      "Requirement already satisfied: google-auth in ./ivy_dev/lib/python3.9/site-packages (from ivy-core) (2.17.3)\n",
      "Requirement already satisfied: requests in ./ivy_dev/lib/python3.9/site-packages (from ivy-core) (2.29.0)\n",
      "Requirement already satisfied: pyparsing!=3.0.5,>=2.0.2 in ./ivy_dev/lib/python3.9/site-packages (from packaging==21.3->ivy-core) (3.0.9)\n",
      "Requirement already satisfied: cachetools<6.0,>=2.0.0 in ./ivy_dev/lib/python3.9/site-packages (from google-auth->ivy-core) (5.3.0)\n",
      "Requirement already satisfied: pyasn1-modules>=0.2.1 in ./ivy_dev/lib/python3.9/site-packages (from google-auth->ivy-core) (0.3.0)\n",
      "Requirement already satisfied: six>=1.9.0 in ./ivy_dev/lib/python3.9/site-packages (from google-auth->ivy-core) (1.16.0)\n",
      "Requirement already satisfied: rsa<5,>=3.1.4 in ./ivy_dev/lib/python3.9/site-packages (from google-auth->ivy-core) (4.9)\n",
      "Requirement already satisfied: charset-normalizer<4,>=2 in ./ivy_dev/lib/python3.9/site-packages (from requests->ivy-core) (3.1.0)\n",
      "Requirement already satisfied: idna<4,>=2.5 in ./ivy_dev/lib/python3.9/site-packages (from requests->ivy-core) (3.4)\n",
      "Requirement already satisfied: urllib3<1.27,>=1.21.1 in ./ivy_dev/lib/python3.9/site-packages (from requests->ivy-core) (1.26.15)\n",
      "Requirement already satisfied: certifi>=2017.4.17 in ./ivy_dev/lib/python3.9/site-packages (from requests->ivy-core) (2022.12.7)\n",
      "Requirement already satisfied: pyasn1<0.6.0,>=0.4.6 in ./ivy_dev/lib/python3.9/site-packages (from pyasn1-modules>=0.2.1->google-auth->ivy-core) (0.5.0)\n",
      "Note: you may need to restart the kernel to use updated packages.\n"
     ]
    }
   ],
   "source": [
    "pip install ivy-core"
   ]
  },
  {
   "cell_type": "code",
   "execution_count": 144,
   "metadata": {},
   "outputs": [
    {
     "name": "stdout",
     "output_type": "stream",
     "text": [
      "Output before training:\n",
      "ivy.array([[0.04861493]])\n"
     ]
    }
   ],
   "source": [
    "import ivy\n",
    "\n",
    "class MLP(ivy.Module):\n",
    "    def __init__(self, input_size, hidden_size, output_size):\n",
    "        super(MLP, self).__init__()\n",
    "        self.linear1 = ivy.Linear(input_size, hidden_size)\n",
    "        self.relu = ivy.ReLU()\n",
    "        self.linear2 = ivy.Linear(hidden_size, output_size)\n",
    "\n",
    "    def _forward(self, x):\n",
    "        out = self.linear1(x)\n",
    "        out = self.relu(out)\n",
    "        out = self.linear2(out)\n",
    "        return out\n",
    "\n",
    "\n",
    "net = MLP(10, 20, 1)\n",
    "\n",
    "# Define the input tensor\n",
    "x = ivy.array([[-0.5, 0.5] * 5])\n",
    "\n",
    "# Forward pass through the network\n",
    "y = net._forward(x)\n",
    "\n",
    "print(\"Output before training:\")\n",
    "print(y)\n",
    "\n"
   ]
  },
  {
   "cell_type": "code",
   "execution_count": 145,
   "metadata": {},
   "outputs": [
    {
     "name": "stdout",
     "output_type": "stream",
     "text": [
      "\n",
      "Output after training:\n",
      "ivy.array([[0.04861493]])\n"
     ]
    }
   ],
   "source": [
    "# Define the target tensor\n",
    "y_true = ivy.array([[0.5]])\n",
    "\n",
    "# Define the loss function\n",
    "def loss_fn(y_pred, y_true):\n",
    " return ivy.mean((y_pred - y_true) ** 2)\n",
    "\n",
    "# Define the optimizer\n",
    "optimizer = ivy.SGD(lr=0.01)\n",
    "\n",
    "# Loop over your training data\n",
    "for i in range(100):\n",
    "\n",
    "    # Forward pass through the network\n",
    "    y_pred = net(x)\n",
    "\n",
    "    # Compute the loss\n",
    "    loss = loss_fn(y_pred, y_true)\n",
    "\n",
    "    # Backward pass through the network\n",
    "    loss.backward()\n",
    "\n",
    "# Forward pass after training\n",
    "y = net._forward(x)\n",
    "\n",
    "\n",
    "print(\"\\nOutput after training:\")\n",
    "print(y)"
   ]
  },
  {
   "cell_type": "code",
   "execution_count": null,
   "metadata": {},
   "outputs": [
    {
     "ename": "AttributeError",
     "evalue": "module 'ivy.functional.backends.torch' has no attribute 'Sigmoid'",
     "output_type": "error",
     "traceback": [
      "\u001b[0;31m---------------------------------------------------------------------------\u001b[0m",
      "\u001b[0;31mAttributeError\u001b[0m                            Traceback (most recent call last)",
      "Cell \u001b[0;32mIn[136], line 17\u001b[0m\n\u001b[1;32m     13\u001b[0m         \u001b[39mreturn\u001b[39;00m x\n\u001b[1;32m     15\u001b[0m ivy\u001b[39m.\u001b[39mset_backend(\u001b[39m'\u001b[39m\u001b[39mtorch\u001b[39m\u001b[39m'\u001b[39m)  \u001b[39m# set backend to PyTorch\u001b[39;00m\n\u001b[0;32m---> 17\u001b[0m model \u001b[39m=\u001b[39m Regressor(input_dim\u001b[39m=\u001b[39;49m\u001b[39m3\u001b[39;49m, output_dim\u001b[39m=\u001b[39;49m\u001b[39m1\u001b[39;49m)\n\u001b[1;32m     18\u001b[0m optimizer \u001b[39m=\u001b[39m ivy\u001b[39m.\u001b[39mAdam(\u001b[39m1e-4\u001b[39m)\n\u001b[1;32m     20\u001b[0m \u001b[39m# generate some random data\u001b[39;00m\n",
      "Cell \u001b[0;32mIn[136], line 6\u001b[0m, in \u001b[0;36mRegressor.__init__\u001b[0;34m(self, input_dim, output_dim)\u001b[0m\n\u001b[1;32m      4\u001b[0m \u001b[39mdef\u001b[39;00m \u001b[39m__init__\u001b[39m(\u001b[39mself\u001b[39m, input_dim, output_dim):\n\u001b[1;32m      5\u001b[0m     \u001b[39mself\u001b[39m\u001b[39m.\u001b[39mlinear \u001b[39m=\u001b[39m ivy\u001b[39m.\u001b[39mLinear(input_dim, output_dim)\n\u001b[0;32m----> 6\u001b[0m     \u001b[39mself\u001b[39m\u001b[39m.\u001b[39msigmoid \u001b[39m=\u001b[39m ivy\u001b[39m.\u001b[39;49mSigmoid()\n\u001b[1;32m      7\u001b[0m     \u001b[39mself\u001b[39m\u001b[39m.\u001b[39mdropout \u001b[39m=\u001b[39m ivy\u001b[39m.\u001b[39mDropout(\u001b[39m0.5\u001b[39m)\n\u001b[1;32m      8\u001b[0m     ivy\u001b[39m.\u001b[39mModule\u001b[39m.\u001b[39m\u001b[39m__init__\u001b[39m(\u001b[39mself\u001b[39m)\n",
      "\u001b[0;31mAttributeError\u001b[0m: module 'ivy.functional.backends.torch' has no attribute 'Sigmoid'"
     ]
    }
   ],
   "source": [
    "import ivy\n",
    "\n",
    "class Regressor(ivy.Module):\n",
    "    def __init__(self, input_dim, output_dim):\n",
    "        self.linear = ivy.Linear(input_dim, output_dim)\n",
    "        self.sigmoid = ivy.Sigmoid()\n",
    "        self.dropout = ivy.Dropout(0.5)\n",
    "        ivy.Module.__init__(self)\n",
    "\n",
    "    def _forward(self, x, is_training=True):\n",
    "        x = self.sigmoid(self.linear(x))\n",
    "        x = self.dropout(x, is_training=is_training)\n",
    "        return x\n",
    "\n",
    "ivy.set_backend('torch')  # set backend to PyTorch\n",
    "\n",
    "model = Regressor(input_dim=3, output_dim=1)\n",
    "optimizer = ivy.Adam(1e-4)\n",
    "\n",
    "# generate some random data\n",
    "x = ivy.random.random_normal(shape=(100, 3))\n",
    "y = ivy.random.random_normal(shape=(100, 1))\n",
    "\n",
    "def loss_fn(pred, target):\n",
    "    return ivy.mean((pred - target)**2)\n",
    "\n",
    "for epoch in range(50):\n",
    "    # forward pass\n",
    "    pred = model(x)\n",
    "\n",
    "    # compute loss and gradients\n",
    "    loss, grads = ivy.execute_with_gradients(lambda v: loss_fn(pred, y), model.v)\n",
    "\n",
    "    # update parameters\n",
    "    model.v = optimizer.step(model.v, grads)\n",
    "\n",
    "    # print current loss\n",
    "    print(f'Epoch: {epoch + 1:2d} --- Loss: {ivy.to_numpy(loss).item():.5f}')\n",
    "\n",
    "print('Finished training!')"
   ]
  },
  {
   "cell_type": "code",
   "execution_count": null,
   "metadata": {},
   "outputs": [],
   "source": []
  }
 ],
 "metadata": {
  "kernelspec": {
   "display_name": "ivy_dev",
   "language": "python",
   "name": "python3"
  },
  "language_info": {
   "codemirror_mode": {
    "name": "ipython",
    "version": 3
   },
   "file_extension": ".py",
   "mimetype": "text/x-python",
   "name": "python",
   "nbconvert_exporter": "python",
   "pygments_lexer": "ipython3",
   "version": "3.9.6"
  },
  "orig_nbformat": 4
 },
 "nbformat": 4,
 "nbformat_minor": 2
}
