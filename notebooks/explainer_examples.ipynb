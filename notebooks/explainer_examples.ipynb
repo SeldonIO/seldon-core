{
 "cells": [
  {
   "cell_type": "markdown",
   "metadata": {},
   "source": [
    "# Example Model Explanations with Seldon\n",
    "Seldon core supports various out-of-the-box explainers that leverage the [Alibi ML Expalinability](https://github.com/SeldonIO/alibi) open source library.\n",
    "\n",
    "In this notebook we show how you can use the pre-packaged explainer functionality that simplifies the creation of advanced AI model explainers.\n",
    "\n",
    "Seldon provides the following out-of-the-box pre-packaged explainers:\n",
    "* Anchor Tabular Explainer \n",
    "    * AI Explainer that uses the [anchor technique](https://docs.seldon.io/projects/alibi/en/latest/methods/Anchors.html) for tabular data\n",
    "    * It basically answers the question of what are the most \"powerul\" or \"important\" features in a tabular prediction\n",
    "* Anchor Image Explainer\n",
    "    * AI Explainer that uses the [anchor technique](https://docs.seldon.io/projects/alibi/en/latest/methods/Anchors.html) for image data\n",
    "    * It basically answers the question of what are the most \"powerul\" or \"important\" pixels in an image prediction\n",
    "* Anchor Text Explainer\n",
    "    * AI Explainer that uses the [anchor technique](https://docs.seldon.io/projects/alibi/en/latest/methods/Anchors.html) for text data\n",
    "    * It basically answers the question of what are the most \"powerul\" or \"important\" tokens in a text prediction\n",
    "* Counterfactual Explainer\n",
    "    * AI Explainer that uses the [counterfactual technique](https://docs.seldon.io/projects/alibi/en/latest/methods/CF.html) for any type of data\n",
    "    * It basically provides insight of what are the minimum changes you can do to an input to change the prediction to a different class\n",
    "* Contrastive Explainer\n",
    "    * AI explainer that uses the [Contrastive Explanations](https://docs.seldon.io/projects/alibi/en/latest/methods/CEM.html) technique for any type of data\n",
    "    * It basically provides insights of what are the minimum changes you can do to an input to change the prediction to change the prediction or the minimum components of the input to make it the same prediction"
   ]
  },
  {
   "cell_type": "markdown",
   "metadata": {},
   "source": [
    "## Running this notebook\n",
    "\n",
    "For the [ImageNet Model](#Imagenet-Model) you will need:\n",
    "\n",
    " - [alibi package](https://pypi.org/project/alibi/) (```pip install alibi```)\n",
    " \n",
    " This should install the required package dependencies, if not please also install:\n",
    " - [Pillow package](https://pypi.org/project/Pillow/) (```pip install Pillow```)\n",
    " - [matplotlib package](https://pypi.org/project/matplotlib/) (```pip install matplotlib```)\n",
    " - [tensorflow package](https://pypi.org/project/tensorflow/) (```pip install tensorflow```)\n",
    "\n",
    "You will also need to start Jupyter with settings to allow for large payloads, for example:\n",
    "\n",
    "```\n",
    "jupyter notebook --NotebookApp.iopub_data_rate_limit=1000000000\n",
    "```"
   ]
  },
  {
   "cell_type": "markdown",
   "metadata": {},
   "source": [
    "## Setup Seldon Core\n",
    "\n",
    "Follow the instructions to [Setup Cluster](seldon_core_setup.ipynb#Setup-Cluster) with [Ambassador Ingress](seldon_core_setup.ipynb#Ambassador) and [Install Seldon Core](seldon_core_setup.ipynb#Install-Seldon-Core).\n",
    "\n",
    " Then port-forward to that ingress on localhost:8003 in a separate terminal either with:\n",
    "\n",
    " * Ambassador: `kubectl port-forward $(kubectl get pods -n seldon -l app.kubernetes.io/name=ambassador -o jsonpath='{.items[0].metadata.name}') -n seldon 8003:8080`\n",
    " * Istio: `kubectl port-forward $(kubectl get pods -l istio=ingressgateway -n istio-system -o jsonpath='{.items[0].metadata.name}') -n istio-system 8003:80`\n",
    "\n",
    "### Create Namespace for experimentation\n",
    "\n",
    "We will first set up the namespace of Seldon where we will be deploying all our models"
   ]
  },
  {
   "cell_type": "code",
   "execution_count": null,
   "metadata": {},
   "outputs": [],
   "source": [
    "!kubectl create namespace seldon"
   ]
  },
  {
   "cell_type": "markdown",
   "metadata": {},
   "source": [
    "And then we will set the current workspace to use the seldon namespace so all our commands are run there by default (instead of running everything in the default namespace.)"
   ]
  },
  {
   "cell_type": "code",
   "execution_count": null,
   "metadata": {},
   "outputs": [],
   "source": [
    "!kubectl config set-context $(kubectl config current-context) --namespace=seldon"
   ]
  },
  {
   "cell_type": "markdown",
   "metadata": {},
   "source": [
    "## Income Prediction Model"
   ]
  },
  {
   "cell_type": "code",
   "execution_count": null,
   "metadata": {
    "scrolled": false
   },
   "outputs": [],
   "source": [
    "%%writefile resources/income_explainer.yaml\n",
    "apiVersion: machinelearning.seldon.io/v1\n",
    "kind: SeldonDeployment\n",
    "metadata:\n",
    "  name: income\n",
    "spec:\n",
    "  name: income\n",
    "  annotations:\n",
    "    seldon.io/rest-timeout: \"100000\"\n",
    "  predictors:\n",
    "  - graph:\n",
    "      children: []\n",
    "      implementation: SKLEARN_SERVER\n",
    "      modelUri: gs://seldon-models/sklearn/income/model\n",
    "      name: classifier\n",
    "    explainer:\n",
    "      type: AnchorTabular\n",
    "      modelUri: gs://seldon-models/sklearn/income/explainer\n",
    "    name: default\n",
    "    replicas: 1"
   ]
  },
  {
   "cell_type": "code",
   "execution_count": null,
   "metadata": {
    "scrolled": true
   },
   "outputs": [],
   "source": [
    "!kubectl apply -f resources/income_explainer.yaml"
   ]
  },
  {
   "cell_type": "code",
   "execution_count": null,
   "metadata": {},
   "outputs": [],
   "source": [
    "!kubectl rollout status deploy/$(kubectl get deploy -l seldon-deployment-id=income -o jsonpath='{.items[0].metadata.name}')"
   ]
  },
  {
   "cell_type": "code",
   "execution_count": null,
   "metadata": {
    "scrolled": true
   },
   "outputs": [],
   "source": [
    "!kubectl rollout status deploy/income-default-explainer"
   ]
  },
  {
   "cell_type": "code",
   "execution_count": null,
   "metadata": {
    "scrolled": true
   },
   "outputs": [],
   "source": [
    "from seldon_core.seldon_client import SeldonClient\n",
    "import numpy as np\n",
    "sc = SeldonClient(deployment_name=\"income\",namespace=\"seldon\", gateway=\"ambassador\", gateway_endpoint=\"localhost:8003\")"
   ]
  },
  {
   "cell_type": "markdown",
   "metadata": {},
   "source": [
    "Use python client library to get a prediction."
   ]
  },
  {
   "cell_type": "code",
   "execution_count": null,
   "metadata": {
    "scrolled": true
   },
   "outputs": [],
   "source": [
    "data = np.array([[39, 7, 1, 1, 1, 1, 4, 1, 2174, 0, 40, 9]])\n",
    "r = sc.predict(data=data)\n",
    "print(r.response)"
   ]
  },
  {
   "cell_type": "markdown",
   "metadata": {},
   "source": [
    "Use curl to get a prediction."
   ]
  },
  {
   "cell_type": "code",
   "execution_count": null,
   "metadata": {},
   "outputs": [],
   "source": [
    "!curl -d '{\"data\": {\"ndarray\":[[39, 7, 1, 1, 1, 1, 4, 1, 2174, 0, 40, 9]]}}' \\\n",
    "   -X POST http://localhost:8003/seldon/seldon/income/api/v1.0/predictions \\\n",
    "   -H \"Content-Type: application/json\""
   ]
  },
  {
   "cell_type": "markdown",
   "metadata": {},
   "source": [
    "Use python client library to get an explanation."
   ]
  },
  {
   "cell_type": "code",
   "execution_count": null,
   "metadata": {
    "scrolled": true
   },
   "outputs": [],
   "source": [
    "data = np.array([[39, 7, 1, 1, 1, 1, 4, 1, 2174, 0, 40, 9]])\n",
    "explanation = sc.explain(deployment_name=\"income\", predictor=\"default\", data=data)\n",
    "print(explanation.response[\"names\"])"
   ]
  },
  {
   "cell_type": "markdown",
   "metadata": {},
   "source": [
    "Using curl to get an explanation."
   ]
  },
  {
   "cell_type": "code",
   "execution_count": null,
   "metadata": {},
   "outputs": [],
   "source": [
    "!curl -X POST -H 'Content-Type: application/json' \\\n",
    "    -d '{\"data\": {\"names\": [\"text\"], \"ndarray\": [[52,  4,  0,  2,  8,  4,  2,  0,  0,  0, 60, 9]]}}' \\\n",
    "    http://localhost:8003/seldon/seldon/income-explainer/default/api/v1.0/explain | jq \".names\""
   ]
  },
  {
   "cell_type": "code",
   "execution_count": null,
   "metadata": {
    "scrolled": true
   },
   "outputs": [],
   "source": [
    "!kubectl delete -f resources/income_explainer.yaml"
   ]
  },
  {
   "cell_type": "markdown",
   "metadata": {},
   "source": [
    "## Movie Sentiment Model\n",
    "\n"
   ]
  },
  {
   "cell_type": "code",
   "execution_count": null,
   "metadata": {
    "scrolled": false
   },
   "outputs": [],
   "source": [
    "%%writefile resources/moviesentiment_explainer.yaml\n",
    "apiVersion: machinelearning.seldon.io/v1\n",
    "kind: SeldonDeployment\n",
    "metadata:\n",
    "  name: movie\n",
    "spec:\n",
    "  name: movie\n",
    "  annotations:\n",
    "    seldon.io/rest-timeout: \"100000\"\n",
    "  predictors:\n",
    "  - graph:\n",
    "      children: []\n",
    "      implementation: SKLEARN_SERVER\n",
    "      modelUri: gs://seldon-models/sklearn/moviesentiment\n",
    "      name: classifier\n",
    "    explainer:\n",
    "      type: AnchorText\n",
    "    name: default\n",
    "    replicas: 1"
   ]
  },
  {
   "cell_type": "code",
   "execution_count": null,
   "metadata": {
    "scrolled": true
   },
   "outputs": [],
   "source": [
    "!kubectl apply -f resources/moviesentiment_explainer.yaml"
   ]
  },
  {
   "cell_type": "code",
   "execution_count": null,
   "metadata": {
    "scrolled": true
   },
   "outputs": [],
   "source": [
    "!kubectl rollout status deploy/$(kubectl get deploy -l seldon-deployment-id=movie -o jsonpath='{.items[0].metadata.name}')"
   ]
  },
  {
   "cell_type": "code",
   "execution_count": null,
   "metadata": {
    "scrolled": false
   },
   "outputs": [],
   "source": [
    "!kubectl rollout status deploy/movie-default-explainer"
   ]
  },
  {
   "cell_type": "code",
   "execution_count": null,
   "metadata": {
    "scrolled": true
   },
   "outputs": [],
   "source": [
    "from seldon_core.seldon_client import SeldonClient\n",
    "import numpy as np\n",
    "sc = SeldonClient(deployment_name=\"movie\", namespace=\"seldon\", gateway_endpoint=\"localhost:8003\", payload_type='ndarray')"
   ]
  },
  {
   "cell_type": "code",
   "execution_count": null,
   "metadata": {},
   "outputs": [],
   "source": [
    "!curl -d '{\"data\": {\"ndarray\":[\"This film has great actors\"]}}' \\\n",
    "   -X POST http://localhost:8003/seldon/seldon/movie/api/v1.0/predictions \\\n",
    "   -H \"Content-Type: application/json\""
   ]
  },
  {
   "cell_type": "code",
   "execution_count": null,
   "metadata": {
    "scrolled": true
   },
   "outputs": [],
   "source": [
    "data = np.array(['this film has great actors'])\n",
    "r = sc.predict(data=data)\n",
    "print(r)\n",
    "assert(r.success==True)"
   ]
  },
  {
   "cell_type": "code",
   "execution_count": null,
   "metadata": {},
   "outputs": [],
   "source": [
    "!curl -s -d '{\"data\": {\"ndarray\":[\"This movie has great actors\"]}}' \\\n",
    "   -X POST http://localhost:8003/seldon/seldon/movie-explainer/default/api/v1.0/explain \\\n",
    "   -H \"Content-Type: application/json\" | jq \".names\""
   ]
  },
  {
   "cell_type": "code",
   "execution_count": null,
   "metadata": {
    "scrolled": true
   },
   "outputs": [],
   "source": [
    "data = np.array(['this film has great actors'])\n",
    "explanation = sc.explain(predictor=\"default\", data=data)\n",
    "print(explanation.response[\"names\"])"
   ]
  },
  {
   "cell_type": "code",
   "execution_count": null,
   "metadata": {
    "scrolled": true
   },
   "outputs": [],
   "source": [
    "!kubectl delete -f resources/moviesentiment_explainer.yaml"
   ]
  },
  {
   "cell_type": "markdown",
   "metadata": {},
   "source": [
    "## Imagenet Model\n",
    "\n"
   ]
  },
  {
   "cell_type": "code",
   "execution_count": null,
   "metadata": {
    "scrolled": true
   },
   "outputs": [],
   "source": [
    "%%writefile resources/imagenet_explainer_grpc.yaml\n",
    "apiVersion: machinelearning.seldon.io/v1\n",
    "kind: SeldonDeployment\n",
    "metadata:\n",
    "  name: image\n",
    "spec:\n",
    "  annotations:\n",
    "    seldon.io/rest-timeout: \"10000000\"\n",
    "    seldon.io/grpc-timeout: \"10000000\"\n",
    "    seldon.io/grpc-max-message-size: \"1000000000\"\n",
    "  name: image\n",
    "  predictors:\n",
    "  - componentSpecs:\n",
    "    - spec:\n",
    "        containers:\n",
    "        - image: docker.io/seldonio/imagenet-transformer:0.1\n",
    "          name: transformer\n",
    "    graph:\n",
    "      name: transformer\n",
    "      type: TRANSFORMER\n",
    "      endpoint:\n",
    "        type: GRPC\n",
    "      children: \n",
    "      - implementation: TENSORFLOW_SERVER\n",
    "        modelUri: gs://seldon-models/tfserving/imagenet/model\n",
    "        name: classifier\n",
    "        endpoint:\n",
    "          type: GRPC\n",
    "        parameters:\n",
    "          - name: model_name\n",
    "            type: STRING\n",
    "            value: classifier\n",
    "          - name: model_input\n",
    "            type: STRING\n",
    "            value: input_image\n",
    "          - name: model_output\n",
    "            type: STRING\n",
    "            value: predictions/Softmax:0\n",
    "    svcOrchSpec:\n",
    "      resources:\n",
    "        requests:\n",
    "          memory: 10Gi\n",
    "        limits:\n",
    "          memory: 10Gi          \n",
    "      env:\n",
    "      - name: SELDON_LOG_LEVEL\n",
    "        value: DEBUG\n",
    "    explainer:\n",
    "      type: AnchorImages\n",
    "      modelUri: gs://seldon-models/tfserving/imagenet/explainer\n",
    "      config:\n",
    "        batch_size: \"100\"\n",
    "      endpoint:\n",
    "        type: GRPC\n",
    "    name: default\n",
    "    replicas: 1"
   ]
  },
  {
   "cell_type": "code",
   "execution_count": null,
   "metadata": {
    "scrolled": true
   },
   "outputs": [],
   "source": [
    "!kubectl apply -f resources/imagenet_explainer_grpc.yaml"
   ]
  },
  {
   "cell_type": "code",
   "execution_count": null,
   "metadata": {
    "scrolled": true
   },
   "outputs": [],
   "source": [
    "!kubectl rollout status deploy/$(kubectl get deploy -l seldon-deployment-id=image -o jsonpath='{.items[0].metadata.name}')"
   ]
  },
  {
   "cell_type": "code",
   "execution_count": null,
   "metadata": {},
   "outputs": [],
   "source": [
    "!kubectl rollout status deploy/image-default-explainer"
   ]
  },
  {
   "cell_type": "code",
   "execution_count": null,
   "metadata": {
    "scrolled": true
   },
   "outputs": [],
   "source": [
    "from PIL import Image\n",
    "import matplotlib\n",
    "%matplotlib inline\n",
    "import matplotlib.pyplot as plt\n",
    "from tensorflow.keras.applications.inception_v3 import InceptionV3, decode_predictions\n",
    "import alibi\n",
    "from alibi.datasets import fetch_imagenet\n",
    "import numpy as np\n",
    "\n",
    "def get_image_data():\n",
    "    data = []\n",
    "    image_shape = (299, 299, 3)\n",
    "    target_size = image_shape[:2]\n",
    "    image = Image.open(\"cat-raw.jpg\").convert('RGB')\n",
    "    image = np.expand_dims(image.resize(target_size), axis=0)\n",
    "    data.append(image)\n",
    "    data = np.concatenate(data, axis=0)\n",
    "    return data\n",
    "\n",
    "data = get_image_data()"
   ]
  },
  {
   "cell_type": "code",
   "execution_count": null,
   "metadata": {
    "scrolled": true
   },
   "outputs": [],
   "source": [
    "from seldon_core.seldon_client import SeldonClient\n",
    "import numpy as np\n",
    "sc = SeldonClient(\n",
    "    deployment_name=\"image\",\n",
    "    namespace=\"seldon\",\n",
    "    grpc_max_send_message_length= 27 * 1024 * 1024,\n",
    "    grpc_max_receive_message_length= 27 * 1024 * 1024, \n",
    "    gateway=\"ambassador\",\n",
    "    transport=\"grpc\",\n",
    "    gateway_endpoint=\"localhost:8003\",\n",
    "    client_return_type='proto')"
   ]
  },
  {
   "cell_type": "code",
   "execution_count": null,
   "metadata": {
    "scrolled": true
   },
   "outputs": [],
   "source": [
    "import tensorflow as tf\n",
    "data = get_image_data()\n",
    "req = data[0:1]\n",
    "r = sc.predict(data=req, payload_type='tftensor')\n",
    "\n",
    "preds = tf.make_ndarray(r.response.data.tftensor)\n",
    "\n",
    "label = decode_predictions(preds, top=1)\n",
    "plt.title(label[0])\n",
    "plt.imshow(data[0])"
   ]
  },
  {
   "cell_type": "code",
   "execution_count": null,
   "metadata": {
    "scrolled": true
   },
   "outputs": [],
   "source": [
    "req = np.expand_dims(data[0], axis=0)\n",
    "r = sc.explain(data=req, predictor=\"default\", transport=\"rest\", payload_type='ndarray', client_return_type=\"dict\")\n",
    "exp_arr = np.array(r.response['anchor'])\n",
    "\n",
    "f, axarr = plt.subplots(1, 2)\n",
    "axarr[0].imshow(data[0])\n",
    "axarr[1].imshow(r.response['anchor'])\n",
    "plt.show()\n"
   ]
  },
  {
   "cell_type": "code",
   "execution_count": null,
   "metadata": {
    "scrolled": true
   },
   "outputs": [],
   "source": [
    "!kubectl delete -f resources/imagenet_explainer_grpc.yaml"
   ]
  },
  {
   "cell_type": "markdown",
   "metadata": {},
   "source": [
    "## Tensorflow CIFAR10 Model"
   ]
  },
  {
   "cell_type": "code",
   "execution_count": null,
   "metadata": {},
   "outputs": [],
   "source": [
    "%%writefile resources/cifar10_explainer.yaml\n",
    "apiVersion: machinelearning.seldon.io/v1\n",
    "kind: SeldonDeployment\n",
    "metadata:\n",
    "  name: cifar10-classifier\n",
    "spec:\n",
    "  protocol: tensorflow\n",
    "  annotations:\n",
    "    seldon.io/rest-timeout: \"100000\"\n",
    "  predictors:\n",
    "  - componentSpecs:\n",
    "    graph:\n",
    "      implementation: TENSORFLOW_SERVER\n",
    "      modelUri: gs://seldon-models/tfserving/cifar10/resnet32\n",
    "      name: cifar10-classifier\n",
    "      logger:\n",
    "         mode: all\n",
    "    explainer:\n",
    "      type: AnchorImages\n",
    "      modelUri: gs://seldon-models/tfserving/cifar10/explainer\n",
    "    name: default\n",
    "    replicas: 1"
   ]
  },
  {
   "cell_type": "code",
   "execution_count": null,
   "metadata": {},
   "outputs": [],
   "source": [
    "!kubectl apply -f resources/cifar10_explainer.yaml"
   ]
  },
  {
   "cell_type": "code",
   "execution_count": null,
   "metadata": {},
   "outputs": [],
   "source": [
    "!kubectl rollout status deploy/$(kubectl get deploy -l seldon-deployment-id=cifar10-classifier -o jsonpath='{.items[0].metadata.name}')"
   ]
  },
  {
   "cell_type": "code",
   "execution_count": null,
   "metadata": {},
   "outputs": [],
   "source": [
    "!kubectl rollout status deploy/cifar10-classifier-default-explainer"
   ]
  },
  {
   "cell_type": "code",
   "execution_count": null,
   "metadata": {},
   "outputs": [],
   "source": [
    "import tensorflow as tf\n",
    "import matplotlib.pyplot as plt\n",
    "import os\n",
    "\n",
    "url = 'https://storage.googleapis.com/seldon-models/alibi-detect/classifier/'\n",
    "path_model = os.path.join(url, \"cifar10\", \"resnet32\", 'model.h5')\n",
    "save_path = tf.keras.utils.get_file(\"resnet32\", path_model)\n",
    "model = tf.keras.models.load_model(save_path)\n",
    "\n",
    "train, test = tf.keras.datasets.cifar10.load_data()\n",
    "X_train, y_train = train\n",
    "X_test, y_test = test\n",
    "\n",
    "X_train = X_train.astype('float32') / 255\n",
    "X_test = X_test.astype('float32') / 255\n",
    "print(X_train.shape, y_train.shape, X_test.shape, y_test.shape)\n",
    "class_names = ['airplane', 'automobile', 'bird', 'cat', 'deer',\n",
    "               'dog', 'frog', 'horse', 'ship', 'truck']"
   ]
  },
  {
   "cell_type": "code",
   "execution_count": null,
   "metadata": {},
   "outputs": [],
   "source": [
    "from subprocess import run, Popen, PIPE\n",
    "import json\n",
    "import numpy as np\n",
    "idx=12\n",
    "test_example=X_test[idx:idx+1].tolist()\n",
    "payload='{\"instances\":'+f\"{test_example}\"+' }'\n",
    "cmd=f\"\"\"curl -d '{payload}' \\\n",
    "   http://localhost:8003/seldon/seldon/cifar10-classifier/v1/models/cifar10-classifier/:predict \\\n",
    "   -H \"Content-Type: application/json\"\n",
    "\"\"\"\n",
    "ret = Popen(cmd, shell=True,stdout=PIPE)\n",
    "raw = ret.stdout.read().decode(\"utf-8\")\n",
    "print(raw)\n",
    "res=json.loads(raw)\n",
    "arr=np.array(res[\"predictions\"])\n",
    "X = X_test[idx].reshape(1, 32, 32, 3)\n",
    "plt.imshow(X.reshape(32, 32, 3))\n",
    "plt.axis('off')\n",
    "plt.show()\n",
    "print(\"class:\",class_names[y_test[idx][0]])\n",
    "print(\"prediction:\",class_names[arr[0].argmax()])"
   ]
  },
  {
   "cell_type": "code",
   "execution_count": null,
   "metadata": {},
   "outputs": [],
   "source": [
    "test_example=X_test[idx:idx+1].tolist()\n",
    "payload='{\"instances\":'+f\"{test_example}\"+' }'\n",
    "cmd=f\"\"\"curl -d '{payload}' \\\n",
    "   http://localhost:8003/seldon/seldon/cifar10-classifier-explainer/default/v1/models/cifar10-classifier:explain \\\n",
    "   -H \"Content-Type: application/json\"\n",
    "\"\"\"\n",
    "ret = Popen(cmd, shell=True,stdout=PIPE)\n",
    "raw = ret.stdout.read().decode(\"utf-8\")\n",
    "explanation = json.loads(raw)\n",
    "arr = np.array(explanation[\"anchor\"])\n",
    "plt.imshow(arr)"
   ]
  },
  {
   "cell_type": "code",
   "execution_count": null,
   "metadata": {},
   "outputs": [],
   "source": []
  }
 ],
 "metadata": {
  "anaconda-cloud": {},
  "kernelspec": {
   "display_name": "Python 3",
   "language": "python",
   "name": "python3"
  },
  "language_info": {
   "codemirror_mode": {
    "name": "ipython",
    "version": 3
   },
   "file_extension": ".py",
   "mimetype": "text/x-python",
   "name": "python",
   "nbconvert_exporter": "python",
   "pygments_lexer": "ipython3",
   "version": "3.6.8"
  },
  "varInspector": {
   "cols": {
    "lenName": 16,
    "lenType": 16,
    "lenVar": 40
   },
   "kernels_config": {
    "python": {
     "delete_cmd_postfix": "",
     "delete_cmd_prefix": "del ",
     "library": "var_list.py",
     "varRefreshCmd": "print(var_dic_list())"
    },
    "r": {
     "delete_cmd_postfix": ") ",
     "delete_cmd_prefix": "rm(",
     "library": "var_list.r",
     "varRefreshCmd": "cat(var_dic_list()) "
    }
   },
   "types_to_exclude": [
    "module",
    "function",
    "builtin_function_or_method",
    "instance",
    "_Feature"
   ],
   "window_display": false
  }
 },
 "nbformat": 4,
 "nbformat_minor": 1
}
