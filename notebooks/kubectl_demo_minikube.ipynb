{
 "cells": [
  {
   "cell_type": "markdown",
   "metadata": {},
   "source": [
    "# Deploying Machine Learning Models using kubectl\n",
    "This demo shows how you can interact directly with kubernetes using kubectl to create and manage runtime machine learning models. It uses Minikube as the target Kubernetes cluster.\n",
    "<img src=\"images/deploy-graph.png\" alt=\"predictor with canary\" title=\"ml graph\"/>"
   ]
  },
  {
   "cell_type": "markdown",
   "metadata": {},
   "source": [
    "## Prerequistes\n",
    "You will need\n",
    " - [Git clone of Seldon Core](https://github.com/SeldonIO/seldon-core)\n",
    " - [Minikube](https://github.com/kubernetes/minikube) version v0.24.0 or greater\n",
    " - [python grpc tools](https://grpc.io/docs/quickstart/python.html)"
   ]
  },
  {
   "cell_type": "markdown",
   "metadata": {},
   "source": [
    "Start minikube and ensure custom resource validation is activated and ther is 5G of memory."
   ]
  },
  {
   "cell_type": "code",
   "execution_count": null,
   "metadata": {},
   "outputs": [],
   "source": [
    "!minikube start --memory=5000 --feature-gates=CustomResourceValidation=true"
   ]
  },
  {
   "cell_type": "markdown",
   "metadata": {},
   "source": [
    "Install Helm"
   ]
  },
  {
   "cell_type": "code",
   "execution_count": 1,
   "metadata": {},
   "outputs": [
    {
     "name": "stdout",
     "output_type": "stream",
     "text": [
      "Creating /home/clive/.helm \n",
      "Creating /home/clive/.helm/repository \n",
      "Creating /home/clive/.helm/repository/cache \n",
      "Creating /home/clive/.helm/repository/local \n",
      "Creating /home/clive/.helm/plugins \n",
      "Creating /home/clive/.helm/starters \n",
      "Creating /home/clive/.helm/cache/archive \n",
      "Creating /home/clive/.helm/repository/repositories.yaml \n",
      "Adding stable repo with URL: https://kubernetes-charts.storage.googleapis.com \n",
      "Adding local repo with URL: http://127.0.0.1:8879/charts \n",
      "$HELM_HOME has been configured at /home/clive/.helm.\n",
      "\n",
      "Tiller (the Helm server-side component) has been installed into your Kubernetes Cluster.\n",
      "Happy Helming!\n"
     ]
    }
   ],
   "source": [
    "!helm init"
   ]
  },
  {
   "cell_type": "markdown",
   "metadata": {},
   "source": [
    "Label the node to allow load testing to run on it"
   ]
  },
  {
   "cell_type": "code",
   "execution_count": 2,
   "metadata": {},
   "outputs": [
    {
     "name": "stdout",
     "output_type": "stream",
     "text": [
      "node \"minikube\" labeled\r\n"
     ]
    }
   ],
   "source": [
    "!kubectl label nodes `kubectl get nodes -o jsonpath='{.items[0].metadata.name}'` role=locust --overwrite"
   ]
  },
  {
   "cell_type": "markdown",
   "metadata": {},
   "source": [
    "## Set up REST and gRPC methods"
   ]
  },
  {
   "cell_type": "markdown",
   "metadata": {},
   "source": [
    "Install gRPC modules for the prediction protos."
   ]
  },
  {
   "cell_type": "code",
   "execution_count": 3,
   "metadata": {},
   "outputs": [],
   "source": [
    "!cp ../proto/prediction.proto ./proto\n",
    "!python -m grpc.tools.protoc -I./proto --python_out=./proto --grpc_python_out=./proto ./proto/prediction.proto"
   ]
  },
  {
   "cell_type": "markdown",
   "metadata": {},
   "source": [
    "Illustration of both REST and gRPC requests. "
   ]
  },
  {
   "cell_type": "code",
   "execution_count": 4,
   "metadata": {},
   "outputs": [],
   "source": [
    "import requests\n",
    "from requests.auth import HTTPBasicAuth\n",
    "from proto import prediction_pb2\n",
    "from proto import prediction_pb2_grpc\n",
    "import grpc\n",
    "import commands\n",
    "\n",
    "MINIKUBE_IP=commands.getoutput('minikube ip')\n",
    "\n",
    "def get_token():\n",
    "    payload = {'grant_type': 'client_credentials'}\n",
    "    response = requests.post(\n",
    "                \"http://\"+MINIKUBE_IP+\":30032/oauth/token\",\n",
    "                auth=HTTPBasicAuth('oauth-key', 'oauth-secret'),\n",
    "                data=payload)\n",
    "    token =  response.json()[\"access_token\"]\n",
    "    return token\n",
    "\n",
    "def rest_request():\n",
    "    token = get_token()\n",
    "    headers = {'Authorization': 'Bearer '+token}\n",
    "    payload = {\"data\":{\"names\":[\"a\",\"b\"],\"tensor\":{\"shape\":[2,2],\"values\":[0,0,1,1]}}}\n",
    "    response = requests.post(\n",
    "                \"http://\"+MINIKUBE_IP+\":30032/api/v0.1/predictions\",\n",
    "                headers=headers,\n",
    "                json=payload)\n",
    "    print response.text\n",
    "    \n",
    "def grpc_request():\n",
    "    token = get_token()\n",
    "    datadef = prediction_pb2.DefaultData(\n",
    "            names = [\"a\",\"b\"],\n",
    "            tensor = prediction_pb2.Tensor(\n",
    "                shape = [3,2],\n",
    "                values = [1.0,1.0,2.0,3.0,4.0,5.0]\n",
    "                )\n",
    "            )\n",
    "    request = prediction_pb2.SeldonMessage(data = datadef)\n",
    "    channel = grpc.insecure_channel(MINIKUBE_IP+\":30033\")\n",
    "    stub = prediction_pb2_grpc.SeldonStub(channel)\n",
    "    metadata = [('oauth_token', token)]\n",
    "    response = stub.Predict(request=request,metadata=metadata)\n",
    "    print response\n"
   ]
  },
  {
   "cell_type": "markdown",
   "metadata": {},
   "source": [
    "## Start seldon-core"
   ]
  },
  {
   "cell_type": "code",
   "execution_count": 5,
   "metadata": {},
   "outputs": [
    {
     "name": "stdout",
     "output_type": "stream",
     "text": [
      "NAME:   seldon-core\n",
      "LAST DEPLOYED: Wed Feb 14 18:12:54 2018\n",
      "NAMESPACE: default\n",
      "STATUS: DEPLOYED\n",
      "\n",
      "RESOURCES:\n",
      "==> v1beta1/CustomResourceDefinition\n",
      "NAME                                         AGE\n",
      "seldondeployments.machinelearning.seldon.io  0s\n",
      "\n",
      "==> v1beta1/Deployment\n",
      "NAME                    DESIRED  CURRENT  UP-TO-DATE  AVAILABLE  AGE\n",
      "seldon-apiserver        1        1        1           0          0s\n",
      "seldon-cluster-manager  1        1        1           0          0s\n",
      "redis                   1        1        1           0          0s\n",
      "\n",
      "==> v1/Service\n",
      "NAME              TYPE       CLUSTER-IP    EXTERNAL-IP  PORT(S)                        AGE\n",
      "seldon-apiserver  NodePort   10.106.69.12  <none>       8080:30032/TCP,5000:30033/TCP  0s\n",
      "redis             ClusterIP  10.110.81.10  <none>       6379/TCP                       0s\n",
      "\n",
      "==> v1/Pod(related)\n",
      "NAME                                    READY  STATUS             RESTARTS  AGE\n",
      "seldon-apiserver-7864874f57-mblb2       0/1    ContainerCreating  0         0s\n",
      "seldon-cluster-manager-576c6ddf5-crrrv  0/1    ContainerCreating  0         0s\n",
      "redis-df886d999-n872b                   0/1    ContainerCreating  0         0s\n",
      "\n",
      "\n",
      "NOTES:\n",
      "NOTES: TODO\n",
      "\n",
      "\n"
     ]
    }
   ],
   "source": [
    "!helm install ../helm-charts/seldon-core --name seldon-core"
   ]
  },
  {
   "cell_type": "markdown",
   "metadata": {},
   "source": [
    "Install prometheus and grafana for analytics"
   ]
  },
  {
   "cell_type": "code",
   "execution_count": 6,
   "metadata": {},
   "outputs": [
    {
     "name": "stdout",
     "output_type": "stream",
     "text": [
      "NAME:   seldon-core-analytics\n",
      "LAST DEPLOYED: Wed Feb 14 18:13:02 2018\n",
      "NAMESPACE: default\n",
      "STATUS: DEPLOYED\n",
      "\n",
      "RESOURCES:\n",
      "==> v1/Service\n",
      "NAME                      TYPE       CLUSTER-IP      EXTERNAL-IP  PORT(S)       AGE\n",
      "alertmanager              ClusterIP  10.97.66.126    <none>       80/TCP        0s\n",
      "grafana-prom              NodePort   10.104.145.124  <none>       80:30034/TCP  0s\n",
      "prometheus-node-exporter  ClusterIP  None            <none>       9100/TCP      0s\n",
      "prometheus-seldon         ClusterIP  10.103.161.138  <none>       80/TCP        0s\n",
      "\n",
      "==> v1beta1/DaemonSet\n",
      "NAME                      DESIRED  CURRENT  READY  UP-TO-DATE  AVAILABLE  NODE SELECTOR  AGE\n",
      "prometheus-node-exporter  1        1        0      1           0          <none>         0s\n",
      "\n",
      "==> v1/Pod(related)\n",
      "NAME                                      READY  STATUS             RESTARTS  AGE\n",
      "grafana-prom-import-dashboards-9kc9f      0/1    ContainerCreating  0         0s\n",
      "alertmanager-deployment-5478cc6dbb-kjwlf  0/1    ContainerCreating  0         0s\n",
      "grafana-prom-deployment-7b45fb85d4-lt4pq  0/1    ContainerCreating  0         0s\n",
      "prometheus-node-exporter-n4725            0/1    ContainerCreating  0         0s\n",
      "prometheus-deployment-5db585cb7b-pdhdf    0/1    ContainerCreating  0         0s\n",
      "\n",
      "==> v1/Secret\n",
      "NAME                 TYPE    DATA  AGE\n",
      "grafana-prom-secret  Opaque  1     0s\n",
      "\n",
      "==> v1/ConfigMap\n",
      "NAME                       DATA  AGE\n",
      "alertmanager-server-conf   1     0s\n",
      "grafana-import-dashboards  5     0s\n",
      "prometheus-rules           4     0s\n",
      "prometheus-server-conf     1     0s\n",
      "\n",
      "==> v1/Job\n",
      "NAME                            DESIRED  SUCCESSFUL  AGE\n",
      "grafana-prom-import-dashboards  1        0           0s\n",
      "\n",
      "==> v1beta1/Deployment\n",
      "NAME                     DESIRED  CURRENT  UP-TO-DATE  AVAILABLE  AGE\n",
      "alertmanager-deployment  1        1        1           0          0s\n",
      "grafana-prom-deployment  1        1        1           0          0s\n",
      "prometheus-deployment    1        1        1           0          0s\n",
      "\n",
      "\n",
      "NOTES:\n",
      "NOTES: TODO\n",
      "\n",
      "\n"
     ]
    }
   ],
   "source": [
    "!helm install ../helm-charts/seldon-core-analytics --name seldon-core-analytics \\\n",
    "    --set grafana_prom_admin_password=password \\\n",
    "    --set persistence.enabled=false"
   ]
  },
  {
   "cell_type": "markdown",
   "metadata": {},
   "source": [
    "Check all services are running before proceeding."
   ]
  },
  {
   "cell_type": "code",
   "execution_count": 7,
   "metadata": {},
   "outputs": [
    {
     "name": "stdout",
     "output_type": "stream",
     "text": [
      "NAME                                       READY     STATUS              RESTARTS   AGE\r\n",
      "alertmanager-deployment-5478cc6dbb-kjwlf   0/1       ContainerCreating   0          4s\r\n",
      "grafana-prom-deployment-7b45fb85d4-lt4pq   0/1       ContainerCreating   0          4s\r\n",
      "grafana-prom-import-dashboards-9kc9f       0/1       ContainerCreating   0          4s\r\n",
      "prometheus-deployment-5db585cb7b-pdhdf     0/1       ContainerCreating   0          4s\r\n",
      "prometheus-node-exporter-n4725             0/1       ContainerCreating   0          4s\r\n",
      "redis-df886d999-n872b                      0/1       ContainerCreating   0          11s\r\n",
      "seldon-apiserver-7864874f57-mblb2          1/1       Running             0          11s\r\n",
      "seldon-cluster-manager-576c6ddf5-crrrv     0/1       ContainerCreating   0          11s\r\n"
     ]
    }
   ],
   "source": [
    "!kubectl get pods"
   ]
  },
  {
   "cell_type": "markdown",
   "metadata": {},
   "source": [
    "# Integrating with Kubernetes API"
   ]
  },
  {
   "cell_type": "markdown",
   "metadata": {},
   "source": [
    "## Validation"
   ]
  },
  {
   "cell_type": "markdown",
   "metadata": {},
   "source": [
    "Using OpenAPI Schema certain basic validation can be done before the custom resource is accepted."
   ]
  },
  {
   "cell_type": "code",
   "execution_count": 8,
   "metadata": {},
   "outputs": [
    {
     "name": "stdout",
     "output_type": "stream",
     "text": [
      "The SeldonDeployment \"seldon-deployment-example\" is invalid: []: Invalid value: map[string]interface {}{\"apiVersion\":\"machinelearning.seldon.io/v1alpha1\", \"kind\":\"SeldonDeployment\", \"metadata\":map[string]interface {}{\"selfLink\":\"\", \"clusterName\":\"\", \"labels\":map[string]interface {}{\"app\":\"seldon\"}, \"name\":\"seldon-deployment-example\", \"namespace\":\"default\", \"creationTimestamp\":\"2018-02-14T18:14:32Z\", \"uid\":\"e7f66ff0-11b2-11e8-ac1f-0800278d7f95\"}, \"spec\":map[string]interface {}{\"predictors\":[]interface {}{map[string]interface {}{\"annotations\":map[string]interface {}{\"predictor_version\":\"v1\"}, \"componentSpec\":map[string]interface {}{\"spec\":map[string]interface {}{\"containers\":[]interface {}{map[string]interface {}{\"image\":\"seldonio/mean_classifier:0.6\", \"imagePullPolicy\":22, \"name\":\"mean-classifier\", \"resources\":map[string]interface {}{\"requests\":map[string]interface {}{\"memory\":\"1Mi\"}}}}, \"terminationGracePeriodSeconds\":20}}, \"graph\":map[string]interface {}{\"children\":[]interface {}{}, \"endpoint\":map[string]interface {}{\"type\":\"REST\"}, \"name\":\"mean-classifier\", \"type\":\"MODEL\"}, \"name\":\"fx-market-predictor\", \"replicas\":1}}, \"annotations\":map[string]interface {}{\"deployment_version\":\"v1\", \"project_name\":\"FX Market Prediction\"}, \"name\":\"test-deployment\", \"oauth_key\":1234, \"oauth_secret\":\"oauth-secret\"}}: validation failure list:\r\n",
      "spec.oauth_key in body must be of type string: \"integer\"\r\n"
     ]
    }
   ],
   "source": [
    "!kubectl create -f resources/model_invalid1.json"
   ]
  },
  {
   "cell_type": "markdown",
   "metadata": {},
   "source": [
    "For the more complex cases, e.g. checking if the graph predictive unit names for models each have an associated container in the pod spec, we need to check inside the custom resource operator and add a FAILED status."
   ]
  },
  {
   "cell_type": "code",
   "execution_count": null,
   "metadata": {},
   "outputs": [],
   "source": [
    "!kubectl create -f resources/model_invalid2.json"
   ]
  },
  {
   "cell_type": "code",
   "execution_count": null,
   "metadata": {},
   "outputs": [],
   "source": [
    "!kubectl get seldondeployments seldon-deployment-example -o jsonpath='{.status}'"
   ]
  },
  {
   "cell_type": "code",
   "execution_count": 4,
   "metadata": {},
   "outputs": [
    {
     "name": "stdout",
     "output_type": "stream",
     "text": [
      "seldondeployment \"seldon-deployment-example\" deleted\r\n"
     ]
    }
   ],
   "source": [
    "!kubectl delete -f resources/model_invalid2.json"
   ]
  },
  {
   "cell_type": "markdown",
   "metadata": {},
   "source": [
    "## Normal Operation\n",
    "A simple example is shown below we use a single prepacked model for illustration. The spec contains a set of predictors each of which contains a ***componentSpec*** which is a Kubernetes [PodTemplateSpec](https://kubernetes.io/docs/api-reference/v1.9/#podtemplatespec-v1-core) alongside a ***graph*** which describes how components fit together."
   ]
  },
  {
   "cell_type": "code",
   "execution_count": 9,
   "metadata": {},
   "outputs": [
    {
     "name": "stdout",
     "output_type": "stream",
     "text": [
      "{\r\n",
      "    \"apiVersion\": \"machinelearning.seldon.io/v1alpha1\",\r\n",
      "    \"kind\": \"SeldonDeployment\",\r\n",
      "    \"metadata\": {\r\n",
      "        \"labels\": {\r\n",
      "            \"app\": \"seldon\"\r\n",
      "        },\r\n",
      "        \"name\": \"seldon-deployment-example\"\r\n",
      "    },\r\n",
      "    \"spec\": {\r\n",
      "        \"annotations\": {\r\n",
      "            \"project_name\": \"FX Market Prediction\",\r\n",
      "            \"deployment_version\": \"v1\"\r\n",
      "        },\r\n",
      "        \"name\": \"test-deployment\",\r\n",
      "        \"oauth_key\": \"oauth-key\",\r\n",
      "        \"oauth_secret\": \"oauth-secret\",\r\n",
      "        \"predictors\": [\r\n",
      "            {\r\n",
      "                \"componentSpec\": {\r\n",
      "                    \"spec\": {\r\n",
      "                        \"containers\": [\r\n",
      "                            {\r\n",
      "                                \"image\": \"seldonio/meanclassifier:0.1\",\r\n",
      "                                \"imagePullPolicy\": \"IfNotPresent\",\r\n",
      "                                \"name\": \"classifier\",\r\n",
      "                                \"resources\": {\r\n",
      "                                    \"requests\": {\r\n",
      "                                        \"memory\": \"1Mi\"\r\n",
      "                                    }\r\n",
      "                                }\r\n",
      "                            }\r\n",
      "                        ],\r\n",
      "                        \"terminationGracePeriodSeconds\": 20\r\n",
      "                    }\r\n",
      "                },\r\n",
      "                \"graph\": {\r\n",
      "                    \"children\": [],\r\n",
      "                    \"name\": \"classifier\",\r\n",
      "                    \"endpoint\": {\r\n",
      "\t\t\t\"type\" : \"REST\"\r\n",
      "\t\t    },\r\n",
      "                    \"type\": \"MODEL\"\r\n",
      "                },\r\n",
      "                \"name\": \"fx-market-predictor\",\r\n",
      "                \"replicas\": 1,\r\n",
      "\t\t\"annotations\": {\r\n",
      "\t\t    \"predictor_version\" : \"v1\"\r\n",
      "\t\t}\r\n",
      "            }\r\n",
      "        ]\r\n",
      "    }\r\n",
      "}\r\n"
     ]
    }
   ],
   "source": [
    "!cat resources/model_tmp.json"
   ]
  },
  {
   "cell_type": "markdown",
   "metadata": {},
   "source": [
    "## Create Seldon Deployment"
   ]
  },
  {
   "cell_type": "markdown",
   "metadata": {},
   "source": [
    "Deploy the runtime graph to kubernetes."
   ]
  },
  {
   "cell_type": "code",
   "execution_count": 12,
   "metadata": {},
   "outputs": [
    {
     "name": "stdout",
     "output_type": "stream",
     "text": [
      "seldondeployment \"seldon-deployment-example\" created\r\n"
     ]
    }
   ],
   "source": [
    "!kubectl apply -f resources/model_tmp.json"
   ]
  },
  {
   "cell_type": "code",
   "execution_count": 13,
   "metadata": {},
   "outputs": [
    {
     "name": "stdout",
     "output_type": "stream",
     "text": [
      "NAME                        AGE\r\n",
      "seldon-deployment-example   22s\r\n"
     ]
    }
   ],
   "source": [
    "!kubectl get seldondeployments"
   ]
  },
  {
   "cell_type": "code",
   "execution_count": 14,
   "metadata": {},
   "outputs": [
    {
     "name": "stdout",
     "output_type": "stream",
     "text": [
      "Name:         seldon-deployment-example\r\n",
      "Namespace:    default\r\n",
      "Labels:       app=seldon\r\n",
      "Annotations:  kubectl.kubernetes.io/last-applied-configuration={\"apiVersion\":\"machinelearning.seldon.io/v1alpha1\",\"kind\":\"SeldonDeployment\",\"metadata\":{\"name\":\"seldon-deployment-example\",\"namespace\":\"default\",\"self...\r\n",
      "API Version:  machinelearning.seldon.io/v1alpha1\r\n",
      "Kind:         SeldonDeployment\r\n",
      "Metadata:\r\n",
      "  Cluster Name:        \r\n",
      "  Creation Timestamp:  2018-02-14T18:34:12Z\r\n",
      "  Generation:          0\r\n",
      "  Resource Version:    2944\r\n",
      "  Self Link:           /apis/machinelearning.seldon.io/v1alpha1/namespaces/default/seldondeployments/seldon-deployment-example\r\n",
      "  UID:                 a7392136-11b5-11e8-ac1f-0800278d7f95\r\n",
      "Spec:\r\n",
      "  Annotations:\r\n",
      "    Deployment _ Version:  v1\r\n",
      "    Project _ Name:        FX Market Prediction\r\n",
      "  Name:                    test-deployment\r\n",
      "  Oauth _ Key:             oauth-key\r\n",
      "  Oauth _ Secret:          oauth-secret\r\n",
      "  Predictors:\r\n",
      "    Annotations:\r\n",
      "      Predictor _ Version:  v1\r\n",
      "    Component Spec:\r\n",
      "      Metadata:\r\n",
      "        Labels:\r\n",
      "          Seldon - App:  test-deployment\r\n",
      "      Spec:\r\n",
      "        Containers:\r\n",
      "          Env:\r\n",
      "            Name:             PREDICTIVE_UNIT_SERVICE_PORT\r\n",
      "            Value:            9000\r\n",
      "            Name:             PREDICTIVE_UNIT_PARAMETERS\r\n",
      "            Value:            []\r\n",
      "            Name:             PREDICTIVE_UNIT_ID\r\n",
      "            Value:            classifier\r\n",
      "            Name:             PREDICTOR_ID\r\n",
      "            Value:            fx-market-predictor\r\n",
      "            Name:             SELDON_DEPLOYMENT_ID\r\n",
      "            Value:            seldon-deployment-example\r\n",
      "          Image:              seldonio/meanclassifier:0.1\r\n",
      "          Image Pull Policy:  IfNotPresent\r\n",
      "          Lifecycle:\r\n",
      "            Pre Stop:\r\n",
      "              Exec:\r\n",
      "                Command:\r\n",
      "                  /bin/sh\r\n",
      "                  -c\r\n",
      "                  /bin/sleep 5\r\n",
      "          Liveness Probe:\r\n",
      "            Handler:\r\n",
      "              Tcp Socket:\r\n",
      "                Port:               http\r\n",
      "            Initial Delay Seconds:  10\r\n",
      "            Period Seconds:         5\r\n",
      "          Name:                     classifier\r\n",
      "          Ports:\r\n",
      "            Container Port:  9000\r\n",
      "            Name:            http\r\n",
      "          Readiness Probe:\r\n",
      "            Handler:\r\n",
      "              Tcp Socket:\r\n",
      "                Port:               http\r\n",
      "            Initial Delay Seconds:  10\r\n",
      "            Period Seconds:         5\r\n",
      "          Resources:\r\n",
      "            Requests:\r\n",
      "              Memory:                      1Mi\r\n",
      "        Termination Grace Period Seconds:  20\r\n",
      "    Graph:\r\n",
      "      Endpoint:\r\n",
      "        Service _ Host:  0.0.0.0\r\n",
      "        Service _ Port:  9000\r\n",
      "        Type:            REST\r\n",
      "      Name:              classifier\r\n",
      "      Type:              MODEL\r\n",
      "    Name:                fx-market-predictor\r\n",
      "    Replicas:            1\r\n",
      "Status:\r\n",
      "  Predictor Status:\r\n",
      "    Name:                test-deployment-fx-market-predictor\r\n",
      "    Replicas:            1\r\n",
      "    Replicas Available:  1\r\n",
      "Events:                  <none>\r\n"
     ]
    }
   ],
   "source": [
    "!kubectl describe seldondeployments seldon-deployment-example "
   ]
  },
  {
   "cell_type": "markdown",
   "metadata": {},
   "source": [
    "Get the status of the SeldonDeployment. **When ready the replicasAvailable should be 1**."
   ]
  },
  {
   "cell_type": "code",
   "execution_count": 15,
   "metadata": {},
   "outputs": [
    {
     "name": "stdout",
     "output_type": "stream",
     "text": [
      "map[predictorStatus:[map[name:test-deployment-fx-market-predictor replicas:1 replicasAvailable:1]]]"
     ]
    }
   ],
   "source": [
    "!kubectl get seldondeployments seldon-deployment-example -o jsonpath='{.status}'"
   ]
  },
  {
   "cell_type": "markdown",
   "metadata": {},
   "source": [
    "## Get predictions"
   ]
  },
  {
   "cell_type": "markdown",
   "metadata": {},
   "source": [
    "#### REST Request"
   ]
  },
  {
   "cell_type": "code",
   "execution_count": 16,
   "metadata": {},
   "outputs": [
    {
     "name": "stdout",
     "output_type": "stream",
     "text": [
      "{\n",
      "  \"meta\": {\n",
      "    \"puid\": \"2g38ubqjqs591a15oeq86v2to2\",\n",
      "    \"tags\": {\n",
      "    },\n",
      "    \"routing\": {\n",
      "    }\n",
      "  },\n",
      "  \"data\": {\n",
      "    \"names\": [\"proba\"],\n",
      "    \"tensor\": {\n",
      "      \"shape\": [2, 1],\n",
      "      \"values\": [0.05133579311531625, 0.12823373759251927]\n",
      "    }\n",
      "  }\n",
      "}\n"
     ]
    }
   ],
   "source": [
    "rest_request()"
   ]
  },
  {
   "cell_type": "markdown",
   "metadata": {},
   "source": [
    "#### gRPC Request"
   ]
  },
  {
   "cell_type": "code",
   "execution_count": 17,
   "metadata": {},
   "outputs": [
    {
     "name": "stdout",
     "output_type": "stream",
     "text": [
      "meta {\n",
      "  puid: \"l7mjf9lkcn92ue9ogcsaso4s93\"\n",
      "}\n",
      "data {\n",
      "  names: \"proba\"\n",
      "  tensor {\n",
      "    shape: 3\n",
      "    shape: 1\n",
      "    values: 0.128233737593\n",
      "    values: 0.397314662022\n",
      "    values: 0.829676081356\n",
      "  }\n",
      "}\n",
      "\n"
     ]
    }
   ],
   "source": [
    "grpc_request()"
   ]
  },
  {
   "cell_type": "markdown",
   "metadata": {},
   "source": [
    "## Update deployment with canary"
   ]
  },
  {
   "cell_type": "markdown",
   "metadata": {},
   "source": [
    "We will change the deployment to add a \"canary\" deployment. This illustrates:\n",
    " - Updating a deployment with no downtime\n",
    " - Adding an extra predictor to run alongside th exsting predictor.\n",
    " \n",
    " You could manage different traffic levels by controlling the number of replicas of each."
   ]
  },
  {
   "cell_type": "code",
   "execution_count": null,
   "metadata": {},
   "outputs": [],
   "source": [
    "!cat resources/model_with_canary.json"
   ]
  },
  {
   "cell_type": "code",
   "execution_count": null,
   "metadata": {},
   "outputs": [],
   "source": [
    "!kubectl apply -f resources/model_with_canary.json"
   ]
  },
  {
   "cell_type": "markdown",
   "metadata": {},
   "source": [
    "Check the status of the deployments. Note: **Might need to run several times until replicasAvailable is 1 for both predictors**."
   ]
  },
  {
   "cell_type": "code",
   "execution_count": null,
   "metadata": {},
   "outputs": [],
   "source": [
    "!kubectl get seldondeployments seldon-deployment-example -o jsonpath='{.status}'"
   ]
  },
  {
   "cell_type": "markdown",
   "metadata": {},
   "source": [
    "#### REST Request"
   ]
  },
  {
   "cell_type": "code",
   "execution_count": null,
   "metadata": {},
   "outputs": [],
   "source": [
    "rest_request()"
   ]
  },
  {
   "cell_type": "markdown",
   "metadata": {},
   "source": [
    "#### gRPC request"
   ]
  },
  {
   "cell_type": "code",
   "execution_count": null,
   "metadata": {},
   "outputs": [],
   "source": [
    "grpc_request()"
   ]
  },
  {
   "cell_type": "markdown",
   "metadata": {},
   "source": [
    "## Load test"
   ]
  },
  {
   "cell_type": "markdown",
   "metadata": {},
   "source": [
    "Start a load test which will post REST requests at 10 requests per second."
   ]
  },
  {
   "cell_type": "code",
   "execution_count": null,
   "metadata": {},
   "outputs": [],
   "source": [
    "!helm install seldon-core-loadtesting --name loadtest  \\\n",
    "    --set oauth.key=oauth-key \\\n",
    "    --set oauth.secret=oauth-secret \\\n",
    "    --repo https://storage.googleapis.com/seldon-charts"
   ]
  },
  {
   "cell_type": "markdown",
   "metadata": {},
   "source": [
    "You can view an analytics dashboard inside the cluster at http://192.168.99.100:30034/dashboard/db/prediction-analytics?refresh=5s&orgId=1. Your IP address may be different. get it via minikube ip. Login with:\n",
    " - Username : admin\n",
    " - password : password (as set when starting seldon-core above)\n",
    " \n",
    " The dashboard should look like below:\n",
    " \n",
    " \n",
    " <img src=\"images/dashboard.png\" alt=\"predictor with canary\" title=\"ml graph\"/>"
   ]
  },
  {
   "cell_type": "markdown",
   "metadata": {},
   "source": [
    "# Tear down"
   ]
  },
  {
   "cell_type": "code",
   "execution_count": null,
   "metadata": {},
   "outputs": [],
   "source": [
    "!helm delete loadtest --purge"
   ]
  },
  {
   "cell_type": "code",
   "execution_count": null,
   "metadata": {},
   "outputs": [],
   "source": [
    "!kubectl delete -f resources/model_with_canary.json"
   ]
  },
  {
   "cell_type": "code",
   "execution_count": null,
   "metadata": {},
   "outputs": [],
   "source": [
    "!helm delete seldon-core-analytics --purge"
   ]
  },
  {
   "cell_type": "code",
   "execution_count": null,
   "metadata": {},
   "outputs": [],
   "source": [
    "!helm delete seldon-core --purge"
   ]
  }
 ],
 "metadata": {
  "kernelspec": {
   "display_name": "Python 2",
   "language": "python",
   "name": "python2"
  },
  "language_info": {
   "codemirror_mode": {
    "name": "ipython",
    "version": 2
   },
   "file_extension": ".py",
   "mimetype": "text/x-python",
   "name": "python",
   "nbconvert_exporter": "python",
   "pygments_lexer": "ipython2",
   "version": "2.7.14"
  }
 },
 "nbformat": 4,
 "nbformat_minor": 1
}
