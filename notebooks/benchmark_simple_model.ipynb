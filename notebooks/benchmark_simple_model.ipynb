{
 "cells": [
  {
   "cell_type": "markdown",
   "metadata": {},
   "source": [
    "# Throughtput Benchmarking  Seldon-Core on GCP Kubernetes\n",
    "\n",
    "The notebook will provide a benchmarking of seldon-core for maximum throughput test. We will run a stub model and test using REST and gRPC predictions. This will provide a maximum theoretical throughtput for model deployment in the given infrastructure scenario:\n",
    "  \n",
    "   * 1 replica of the model running on n1-standard-16 GCP node\n",
    "   \n",
    "For a real model the throughput would be less. Future benchmarks will test realistic models scenarios.\n"
   ]
  },
  {
   "cell_type": "markdown",
   "metadata": {},
   "source": [
    "## Create Cluster"
   ]
  },
  {
   "cell_type": "markdown",
   "metadata": {
    "collapsed": true
   },
   "source": [
    "Create a cluster of 4 nodes of machine type n1-standard-16. You can use GKE console or `gcloud` command line."
   ]
  },
  {
   "cell_type": "markdown",
   "metadata": {},
   "source": [
    "## Cordon off loadtest nodes"
   ]
  },
  {
   "cell_type": "code",
   "execution_count": 1,
   "metadata": {
    "scrolled": true
   },
   "outputs": [
    {
     "name": "stdout",
     "output_type": "stream",
     "text": [
      "NAME                                                STATUS   ROLES    AGE   VERSION\r\n",
      "gke-standard-cluster-8-default-pool-415f5c23-gpnp   Ready    <none>   30s   v1.13.11-gke.14\r\n",
      "gke-standard-cluster-8-default-pool-415f5c23-lzdf   Ready    <none>   30s   v1.13.11-gke.14\r\n",
      "gke-standard-cluster-8-default-pool-415f5c23-v6sr   Ready    <none>   30s   v1.13.11-gke.14\r\n",
      "gke-standard-cluster-8-default-pool-415f5c23-z9g6   Ready    <none>   30s   v1.13.11-gke.14\r\n"
     ]
    }
   ],
   "source": [
    "!kubectl get nodes"
   ]
  },
  {
   "cell_type": "markdown",
   "metadata": {},
   "source": [
    "We cordon off first 3 nodes so seldon-core and the model will not be deployed on the 1 remaining node."
   ]
  },
  {
   "cell_type": "code",
   "execution_count": 2,
   "metadata": {
    "scrolled": true
   },
   "outputs": [
    {
     "name": "stdout",
     "output_type": "stream",
     "text": [
      "node/gke-standard-cluster-8-default-pool-415f5c23-gpnp cordoned\n",
      "node/gke-standard-cluster-8-default-pool-415f5c23-lzdf cordoned\n",
      "node/gke-standard-cluster-8-default-pool-415f5c23-v6sr cordoned\n"
     ]
    }
   ],
   "source": [
    "!kubectl cordon $(kubectl get nodes -o jsonpath='{.items[0].metadata.name}')\n",
    "!kubectl cordon $(kubectl get nodes -o jsonpath='{.items[1].metadata.name}')\n",
    "!kubectl cordon $(kubectl get nodes -o jsonpath='{.items[2].metadata.name}')"
   ]
  },
  {
   "cell_type": "markdown",
   "metadata": {},
   "source": [
    "Label the nodes so they can be used by locust."
   ]
  },
  {
   "cell_type": "code",
   "execution_count": 3,
   "metadata": {
    "scrolled": true
   },
   "outputs": [
    {
     "name": "stdout",
     "output_type": "stream",
     "text": [
      "node/gke-standard-cluster-8-default-pool-415f5c23-gpnp labeled\n",
      "node/gke-standard-cluster-8-default-pool-415f5c23-lzdf labeled\n",
      "node/gke-standard-cluster-8-default-pool-415f5c23-v6sr labeled\n"
     ]
    }
   ],
   "source": [
    "!kubectl label nodes $(kubectl get nodes -o jsonpath='{.items[0].metadata.name}') role=locust\n",
    "!kubectl label nodes $(kubectl get nodes -o jsonpath='{.items[1].metadata.name}') role=locust\n",
    "!kubectl label nodes $(kubectl get nodes -o jsonpath='{.items[2].metadata.name}') role=locust"
   ]
  },
  {
   "cell_type": "markdown",
   "metadata": {},
   "source": [
    "## Setup Seldon Core\n",
    "\n",
    "Use the setup notebook to [Setup Cluster](seldon_core_setup.ipynb#Setup-Cluster) with [Ambassador Ingress](seldon_core_setup.ipynb#Ambassador) and [Install Seldon Core](seldon_core_setup.ipynb#Install-Seldon-Core). Instructions [also online](./seldon_core_setup.html)."
   ]
  },
  {
   "cell_type": "markdown",
   "metadata": {},
   "source": [
    "## Create Stub Deployment"
   ]
  },
  {
   "cell_type": "code",
   "execution_count": 4,
   "metadata": {
    "scrolled": false
   },
   "outputs": [
    {
     "name": "stdout",
     "output_type": "stream",
     "text": [
      "{\r\n",
      "    \u001b[94m\"apiVersion\"\u001b[39;49;00m: \u001b[33m\"machinelearning.seldon.io/v1alpha2\"\u001b[39;49;00m,\r\n",
      "    \u001b[94m\"kind\"\u001b[39;49;00m: \u001b[33m\"SeldonDeployment\"\u001b[39;49;00m,\r\n",
      "    \u001b[94m\"metadata\"\u001b[39;49;00m: {\r\n",
      "        \u001b[94m\"labels\"\u001b[39;49;00m: {\r\n",
      "            \u001b[94m\"app\"\u001b[39;49;00m: \u001b[33m\"seldon\"\u001b[39;49;00m\r\n",
      "        },\r\n",
      "        \u001b[94m\"name\"\u001b[39;49;00m: \u001b[33m\"seldon-core-loadtest\"\u001b[39;49;00m\r\n",
      "    },\r\n",
      "    \u001b[94m\"spec\"\u001b[39;49;00m: {\r\n",
      "        \u001b[94m\"annotations\"\u001b[39;49;00m: {\r\n",
      "            \u001b[94m\"project_name\"\u001b[39;49;00m: \u001b[33m\"loadtest\"\u001b[39;49;00m,\r\n",
      "            \u001b[94m\"deployment_version\"\u001b[39;49;00m: \u001b[33m\"v1\"\u001b[39;49;00m\r\n",
      "        },\r\n",
      "        \u001b[94m\"name\"\u001b[39;49;00m: \u001b[33m\"loadtest\"\u001b[39;49;00m,\r\n",
      "        \u001b[94m\"oauth_key\"\u001b[39;49;00m: \u001b[33m\"oauth-key\"\u001b[39;49;00m,\r\n",
      "        \u001b[94m\"oauth_secret\"\u001b[39;49;00m: \u001b[33m\"oauth-secret\"\u001b[39;49;00m,\r\n",
      "        \u001b[94m\"predictors\"\u001b[39;49;00m: [\r\n",
      "            {\r\n",
      "                \u001b[94m\"componentSpecs\"\u001b[39;49;00m: [{\r\n",
      "                    \u001b[94m\"spec\"\u001b[39;49;00m: {\r\n",
      "                        \u001b[94m\"containers\"\u001b[39;49;00m: [\r\n",
      "                        ],\r\n",
      "                        \u001b[94m\"terminationGracePeriodSeconds\"\u001b[39;49;00m: \u001b[34m20\u001b[39;49;00m\r\n",
      "                    }\r\n",
      "                }],\r\n",
      "                \u001b[94m\"graph\"\u001b[39;49;00m: {\r\n",
      "                    \u001b[94m\"children\"\u001b[39;49;00m: [],\r\n",
      "                    \u001b[94m\"name\"\u001b[39;49;00m: \u001b[33m\"stub\"\u001b[39;49;00m,\r\n",
      "                    \u001b[94m\"endpoint\"\u001b[39;49;00m: {\r\n",
      "\t\t\t\u001b[94m\"type\"\u001b[39;49;00m : \u001b[33m\"REST\"\u001b[39;49;00m\r\n",
      "\t\t    },\r\n",
      "                    \u001b[94m\"type\"\u001b[39;49;00m: \u001b[33m\"MODEL\"\u001b[39;49;00m,\r\n",
      "\t\t    \u001b[94m\"implementation\"\u001b[39;49;00m: \u001b[33m\"SIMPLE_MODEL\"\u001b[39;49;00m\r\n",
      "                },\r\n",
      "                \u001b[94m\"name\"\u001b[39;49;00m: \u001b[33m\"loadtest\"\u001b[39;49;00m,\r\n",
      "                \u001b[94m\"replicas\"\u001b[39;49;00m: \u001b[34m1\u001b[39;49;00m,\r\n",
      "\t\t\u001b[94m\"annotations\"\u001b[39;49;00m: {\r\n",
      "\t\t    \u001b[94m\"predictor_version\"\u001b[39;49;00m : \u001b[33m\"v1\"\u001b[39;49;00m\r\n",
      "\t\t}\r\n",
      "            }\r\n",
      "        ]\r\n",
      "    }\r\n",
      "}\r\n"
     ]
    }
   ],
   "source": [
    "!pygmentize resources/loadtest_simple_model.json"
   ]
  },
  {
   "cell_type": "code",
   "execution_count": 5,
   "metadata": {
    "scrolled": false
   },
   "outputs": [
    {
     "name": "stdout",
     "output_type": "stream",
     "text": [
      "seldondeployment.machinelearning.seldon.io/seldon-core-loadtest created\r\n"
     ]
    }
   ],
   "source": [
    "!kubectl apply -f resources/loadtest_simple_model.json"
   ]
  },
  {
   "cell_type": "markdown",
   "metadata": {},
   "source": [
    "Wait for deployment to be running."
   ]
  },
  {
   "cell_type": "code",
   "execution_count": 7,
   "metadata": {
    "scrolled": true
   },
   "outputs": [
    {
     "name": "stdout",
     "output_type": "stream",
     "text": [
      "Error from server (NotFound): deployments.apps \"loadtest-loadtest-9eecb7d\" not found\r\n"
     ]
    }
   ],
   "source": [
    "!kubectl rollout status deployment.apps/loadtest-loadtest-9eecb7d"
   ]
  },
  {
   "cell_type": "markdown",
   "metadata": {},
   "source": [
    "## Run benchmark"
   ]
  },
  {
   "cell_type": "markdown",
   "metadata": {},
   "source": [
    "Uncorden the first 3 nodes so they can be used to schedule locust"
   ]
  },
  {
   "cell_type": "code",
   "execution_count": 12,
   "metadata": {
    "scrolled": true
   },
   "outputs": [
    {
     "name": "stdout",
     "output_type": "stream",
     "text": [
      "node/gke-standard-cluster-4-default-pool-06d14028-76f3 uncordoned\n",
      "node/gke-standard-cluster-4-default-pool-06d14028-cx68 uncordoned\n",
      "node/gke-standard-cluster-4-default-pool-06d14028-mvdn uncordoned\n"
     ]
    }
   ],
   "source": [
    "!kubectl uncordon $(kubectl get nodes -o jsonpath='{.items[0].metadata.name}')\n",
    "!kubectl uncordon $(kubectl get nodes -o jsonpath='{.items[1].metadata.name}')\n",
    "!kubectl uncordon $(kubectl get nodes -o jsonpath='{.items[2].metadata.name}')"
   ]
  },
  {
   "cell_type": "markdown",
   "metadata": {},
   "source": [
    "## gRPC\n",
    "Start locust load test for gRPC"
   ]
  },
  {
   "cell_type": "code",
   "execution_count": 13,
   "metadata": {
    "scrolled": true
   },
   "outputs": [
    {
     "name": "stdout",
     "output_type": "stream",
     "text": [
      "NAME: loadtest\r\n",
      "LAST DEPLOYED: Mon Dec  2 10:32:54 2019\r\n",
      "NAMESPACE: seldon\r\n",
      "STATUS: deployed\r\n",
      "REVISION: 1\r\n",
      "TEST SUITE: None\r\n"
     ]
    }
   ],
   "source": [
    "!helm install loadtest ../helm-charts/seldon-core-loadtesting \\\n",
    "    --set locust.host=loadtest-seldon-core-loadtest:5001 \\\n",
    "    --set locust.script=predict_grpc_locust.py \\\n",
    "    --set oauth.enabled=false \\\n",
    "    --set oauth.key=oauth-key \\\n",
    "    --set oauth.secret=oauth-secret \\\n",
    "    --set locust.hatchRate=1 \\\n",
    "    --set locust.clients=256 \\\n",
    "    --set loadtest.sendFeedback=0 \\\n",
    "    --set locust.minWait=0 \\\n",
    "    --set locust.maxWait=0 \\\n",
    "    --set replicaCount=64 "
   ]
  },
  {
   "cell_type": "markdown",
   "metadata": {},
   "source": [
    "To download stats use \n",
    "\n",
    "```bash\n",
    "if [ \"$#\" -ne 2 ]; then\n",
    "    echo \"Illegal number of parameters: <experiment> <rest|grpc>\"\n",
    "fi\n",
    "\n",
    "EXPERIMENT=$1\n",
    "TYPE=$2\n",
    "\n",
    "MASTER=`kubectl get pod -l name=locust-master-1 -o jsonpath='{.items[0].metadata.name}'`\n",
    "\n",
    "kubectl cp ${MASTER}:stats_distribution.csv ${EXPERIMENT}_${TYPE}_stats_distribution.csv\n",
    "kubectl cp ${MASTER}:stats_requests.csv ${EXPERIMENT}_${TYPE}_stats_requests.csv\n",
    "```"
   ]
  },
  {
   "cell_type": "markdown",
   "metadata": {},
   "source": [
    "You can get live stats by viewing the logs of the locust master"
   ]
  },
  {
   "cell_type": "code",
   "execution_count": 20,
   "metadata": {
    "scrolled": true
   },
   "outputs": [
    {
     "name": "stdout",
     "output_type": "stream",
     "text": [
      " Name                                                          # reqs      # fails     Avg     Min     Max  |  Median   req/s\r\n",
      "--------------------------------------------------------------------------------------------------------------------------------------------\r\n",
      "--------------------------------------------------------------------------------------------------------------------------------------------\r\n",
      " Total                                                              0     0(0.00%)                                       0.00\r\n",
      "\r\n",
      " Name                                                          # reqs      # fails     Avg     Min     Max  |  Median   req/s\r\n",
      "--------------------------------------------------------------------------------------------------------------------------------------------\r\n",
      "--------------------------------------------------------------------------------------------------------------------------------------------\r\n",
      " Total                                                              0     0(0.00%)                                       0.00\r\n",
      "\r\n"
     ]
    }
   ],
   "source": [
    "!kubectl logs $(kubectl get pod -l name=locust-master-1 -o jsonpath='{.items[0].metadata.name}') --tail=10"
   ]
  },
  {
   "cell_type": "code",
   "execution_count": 21,
   "metadata": {
    "scrolled": true
   },
   "outputs": [
    {
     "name": "stdout",
     "output_type": "stream",
     "text": [
      "release \"loadtest\" uninstalled\r\n"
     ]
    }
   ],
   "source": [
    "!helm delete loadtest"
   ]
  },
  {
   "cell_type": "markdown",
   "metadata": {},
   "source": [
    "## REST \n",
    "Run REST benchmark"
   ]
  },
  {
   "cell_type": "code",
   "execution_count": 22,
   "metadata": {
    "scrolled": true
   },
   "outputs": [
    {
     "name": "stdout",
     "output_type": "stream",
     "text": [
      "NAME: loadtest\r\n",
      "LAST DEPLOYED: Mon Dec  2 10:37:24 2019\r\n",
      "NAMESPACE: seldon\r\n",
      "STATUS: deployed\r\n",
      "REVISION: 1\r\n",
      "TEST SUITE: None\r\n"
     ]
    }
   ],
   "source": [
    "!helm install loadtest ../helm-charts/seldon-core-loadtesting \\\n",
    "    --set locust.host=http://loadtest-seldon-core-loadtest:8000 \\\n",
    "    --set oauth.enabled=false \\\n",
    "    --set oauth.key=oauth-key \\\n",
    "    --set oauth.secret=oauth-secret \\\n",
    "    --set locust.hatchRate=1 \\\n",
    "    --set locust.clients=256 \\\n",
    "    --set loadtest.sendFeedback=0 \\\n",
    "    --set locust.minWait=0 \\\n",
    "    --set locust.maxWait=0 \\\n",
    "    --set replicaCount=64"
   ]
  },
  {
   "cell_type": "markdown",
   "metadata": {},
   "source": [
    "Get stats as per gRPC and/or monitor"
   ]
  },
  {
   "cell_type": "code",
   "execution_count": 33,
   "metadata": {
    "scrolled": true
   },
   "outputs": [
    {
     "name": "stdout",
     "output_type": "stream",
     "text": [
      " POST predictions                                              208902 208902(50.00%)      12       4      74  |      11 4471.40\r\n",
      "--------------------------------------------------------------------------------------------------------------------------------------------\r\n",
      " Total                                                         208902 208902(100.00%)                                    4471.40\r\n",
      "\r\n",
      " Name                                                          # reqs      # fails     Avg     Min     Max  |  Median   req/s\r\n",
      "--------------------------------------------------------------------------------------------------------------------------------------------\r\n",
      " POST predictions                                              218526 218526(50.00%)      12       4      74  |      11 4463.30\r\n",
      "--------------------------------------------------------------------------------------------------------------------------------------------\r\n",
      " Total                                                         218526 218526(100.00%)                                    4463.30\r\n",
      "\r\n"
     ]
    }
   ],
   "source": [
    "!kubectl logs $(kubectl get pod -l name=locust-master-1 -o jsonpath='{.items[0].metadata.name}') --tail=10"
   ]
  },
  {
   "cell_type": "code",
   "execution_count": 34,
   "metadata": {
    "scrolled": true
   },
   "outputs": [
    {
     "name": "stdout",
     "output_type": "stream",
     "text": [
      "release \"loadtest\" uninstalled\r\n"
     ]
    }
   ],
   "source": [
    "!helm delete loadtest"
   ]
  },
  {
   "cell_type": "code",
   "execution_count": 35,
   "metadata": {
    "scrolled": true
   },
   "outputs": [
    {
     "name": "stdout",
     "output_type": "stream",
     "text": [
      "node/gke-standard-cluster-4-default-pool-06d14028-76f3 cordoned\n",
      "node/gke-standard-cluster-4-default-pool-06d14028-cx68 cordoned\n",
      "node/gke-standard-cluster-4-default-pool-06d14028-mvdn cordoned\n"
     ]
    }
   ],
   "source": [
    "!kubectl cordon $(kubectl get nodes -o jsonpath='{.items[0].metadata.name}')\n",
    "!kubectl cordon $(kubectl get nodes -o jsonpath='{.items[1].metadata.name}')\n",
    "!kubectl cordon $(kubectl get nodes -o jsonpath='{.items[2].metadata.name}')"
   ]
  },
  {
   "cell_type": "markdown",
   "metadata": {},
   "source": [
    "## Tear Down"
   ]
  },
  {
   "cell_type": "code",
   "execution_count": 36,
   "metadata": {
    "scrolled": true
   },
   "outputs": [
    {
     "name": "stdout",
     "output_type": "stream",
     "text": [
      "seldondeployment.machinelearning.seldon.io \"seldon-core-loadtest\" deleted\r\n"
     ]
    }
   ],
   "source": [
    "!kubectl delete -f resources/loadtest_simple_model.json"
   ]
  },
  {
   "cell_type": "code",
   "execution_count": 38,
   "metadata": {
    "scrolled": true
   },
   "outputs": [
    {
     "name": "stdout",
     "output_type": "stream",
     "text": [
      "Error: uninstall: Release not loaded: seldon-core: release: not found\r\n"
     ]
    }
   ],
   "source": [
    "!helm delete seldon-core"
   ]
  }
 ],
 "metadata": {
  "kernelspec": {
   "display_name": "Python 3",
   "language": "python",
   "name": "python3"
  },
  "language_info": {
   "codemirror_mode": {
    "name": "ipython",
    "version": 3
   },
   "file_extension": ".py",
   "mimetype": "text/x-python",
   "name": "python",
   "nbconvert_exporter": "python",
   "pygments_lexer": "ipython3",
   "version": "3.7.5"
  },
  "varInspector": {
   "cols": {
    "lenName": 16,
    "lenType": 16,
    "lenVar": 40
   },
   "kernels_config": {
    "python": {
     "delete_cmd_postfix": "",
     "delete_cmd_prefix": "del ",
     "library": "var_list.py",
     "varRefreshCmd": "print(var_dic_list())"
    },
    "r": {
     "delete_cmd_postfix": ") ",
     "delete_cmd_prefix": "rm(",
     "library": "var_list.r",
     "varRefreshCmd": "cat(var_dic_list()) "
    }
   },
   "types_to_exclude": [
    "module",
    "function",
    "builtin_function_or_method",
    "instance",
    "_Feature"
   ],
   "window_display": false
  }
 },
 "nbformat": 4,
 "nbformat_minor": 1
}
