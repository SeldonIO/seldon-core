{
 "cells": [
  {
   "cell_type": "markdown",
   "metadata": {},
   "source": [
    "# Example Seldon Core Deployments using Helm with Istio\n",
    "\n",
    "Prequisites\n",
    "\n",
    " * [Install istio](https://istio.io/latest/docs/setup/getting-started/#download)"
   ]
  },
  {
   "cell_type": "markdown",
   "metadata": {},
   "source": [
    "## Setup Cluster and Ingress\n",
    "\n",
    "Use the setup notebook to [Setup Cluster](https://docs.seldon.io/projects/seldon-core/en/latest/examples/seldon_core_setup.html#Setup-Cluster) with [Istio Ingress](https://docs.seldon.io/projects/seldon-core/en/latest/examples/seldon_core_setup.html#Istio). Instructions [also online](https://docs.seldon.io/projects/seldon-core/en/latest/examples/seldon_core_setup.html)."
   ]
  },
  {
   "cell_type": "code",
   "execution_count": 1,
   "metadata": {},
   "outputs": [
    {
     "name": "stdout",
     "output_type": "stream",
     "text": [
      "namespace/seldon created\r\n"
     ]
    }
   ],
   "source": [
    "!kubectl create namespace seldon"
   ]
  },
  {
   "cell_type": "code",
   "execution_count": 2,
   "metadata": {},
   "outputs": [
    {
     "name": "stdout",
     "output_type": "stream",
     "text": [
      "Context \"kind-kind\" modified.\r\n"
     ]
    }
   ],
   "source": [
    "!kubectl config set-context $(kubectl config current-context) --namespace=seldon"
   ]
  },
  {
   "cell_type": "markdown",
   "metadata": {},
   "source": [
    "## Configure Istio\n",
    "\n",
    "For this example we will create the default istio gateway for seldon which needs to be called `seldon-gateway`. You can supply your own gateway by adding to your SeldonDeployments resources the annotation `seldon.io/istio-gateway` with values the name of your istio gateway."
   ]
  },
  {
   "cell_type": "markdown",
   "metadata": {},
   "source": [
    "Create a gateway for our istio-ingress"
   ]
  },
  {
   "cell_type": "code",
   "execution_count": 3,
   "metadata": {},
   "outputs": [
    {
     "name": "stdout",
     "output_type": "stream",
     "text": [
      "Overwriting resources/seldon-gateway.yaml\n"
     ]
    }
   ],
   "source": [
    "%%writefile resources/seldon-gateway.yaml\n",
    "apiVersion: networking.istio.io/v1alpha3\n",
    "kind: Gateway\n",
    "metadata:\n",
    "  name: seldon-gateway\n",
    "  namespace: istio-system\n",
    "spec:\n",
    "  selector:\n",
    "    istio: ingressgateway # use istio default controller\n",
    "  servers:\n",
    "  - port:\n",
    "      number: 80\n",
    "      name: http\n",
    "      protocol: HTTP\n",
    "    hosts:\n",
    "    - \"*\""
   ]
  },
  {
   "cell_type": "code",
   "execution_count": 4,
   "metadata": {
    "scrolled": true
   },
   "outputs": [
    {
     "name": "stdout",
     "output_type": "stream",
     "text": [
      "gateway.networking.istio.io/seldon-gateway created\r\n"
     ]
    }
   ],
   "source": [
    "!kubectl create -f resources/seldon-gateway.yaml -n istio-system"
   ]
  },
  {
   "cell_type": "markdown",
   "metadata": {},
   "source": [
    "Ensure the istio ingress gatewaty is port-forwarded to localhost:8004\n",
    "\n",
    " * Istio: `kubectl port-forward $(kubectl get pods -l istio=ingressgateway -n istio-system -o jsonpath='{.items[0].metadata.name}') -n istio-system 8004:8080`"
   ]
  },
  {
   "cell_type": "code",
   "execution_count": 1,
   "metadata": {
    "scrolled": true
   },
   "outputs": [
    {
     "data": {
      "text/plain": [
       "'1.9.0-dev'"
      ]
     },
     "execution_count": 1,
     "metadata": {},
     "output_type": "execute_result"
    }
   ],
   "source": [
    "ISTIO_GATEWAY = \"localhost:8004\"\n",
    "VERSION = !cat ../version.txt\n",
    "VERSION = VERSION[0]\n",
    "VERSION"
   ]
  },
  {
   "cell_type": "code",
   "execution_count": 2,
   "metadata": {},
   "outputs": [],
   "source": [
    "from IPython.core.magic import register_line_cell_magic\n",
    "\n",
    "\n",
    "@register_line_cell_magic\n",
    "def writetemplate(line, cell):\n",
    "    with open(line, \"w\") as f:\n",
    "        f.write(cell.format(**globals()))"
   ]
  },
  {
   "cell_type": "markdown",
   "metadata": {},
   "source": [
    "## Start Seldon Core\n",
    "\n",
    "Use the setup notebook to [Install Seldon Core](https://docs.seldon.io/projects/seldon-core/en/latest/examples/seldon_core_setup.html#Install-Seldon-Core) with Istio Ingress. Instructions [also online](https://docs.seldon.io/projects/seldon-core/en/latest/examples/seldon_core_setup.html)."
   ]
  },
  {
   "cell_type": "markdown",
   "metadata": {},
   "source": [
    "## Serve Single Model"
   ]
  },
  {
   "cell_type": "code",
   "execution_count": 7,
   "metadata": {
    "scrolled": true
   },
   "outputs": [
    {
     "name": "stdout",
     "output_type": "stream",
     "text": [
      "NAME: mymodel\r\n",
      "LAST DEPLOYED: Wed Mar 10 16:37:01 2021\r\n",
      "NAMESPACE: seldon\r\n",
      "STATUS: deployed\r\n",
      "REVISION: 1\r\n",
      "TEST SUITE: None\r\n"
     ]
    }
   ],
   "source": [
    "!helm install mymodel ../helm-charts/seldon-single-model --set model.image=seldonio/mock_classifier:$VERSION"
   ]
  },
  {
   "cell_type": "code",
   "execution_count": 8,
   "metadata": {
    "scrolled": true
   },
   "outputs": [
    {
     "name": "stdout",
     "output_type": "stream",
     "text": [
      "\u001b[04m\u001b[91m-\u001b[39;49;00m\u001b[04m\u001b[91m-\u001b[39;49;00m\u001b[04m\u001b[91m-\u001b[39;49;00m\r\n",
      "\u001b[04m\u001b[91m#\u001b[39;49;00m \u001b[04m\u001b[91mS\u001b[39;49;00m\u001b[04m\u001b[91mo\u001b[39;49;00m\u001b[04m\u001b[91mu\u001b[39;49;00m\u001b[04m\u001b[91mr\u001b[39;49;00m\u001b[04m\u001b[91mc\u001b[39;49;00m\u001b[04m\u001b[91me\u001b[39;49;00m\u001b[04m\u001b[91m:\u001b[39;49;00m \u001b[04m\u001b[91ms\u001b[39;49;00m\u001b[04m\u001b[91me\u001b[39;49;00m\u001b[04m\u001b[91ml\u001b[39;49;00m\u001b[04m\u001b[91md\u001b[39;49;00m\u001b[04m\u001b[91mo\u001b[39;49;00m\u001b[04m\u001b[91mn\u001b[39;49;00m\u001b[04m\u001b[91m-\u001b[39;49;00m\u001b[04m\u001b[91ms\u001b[39;49;00m\u001b[04m\u001b[91mi\u001b[39;49;00m\u001b[04m\u001b[91mn\u001b[39;49;00m\u001b[04m\u001b[91mg\u001b[39;49;00m\u001b[04m\u001b[91ml\u001b[39;49;00m\u001b[04m\u001b[91me\u001b[39;49;00m\u001b[04m\u001b[91m-\u001b[39;49;00m\u001b[04m\u001b[91mm\u001b[39;49;00m\u001b[04m\u001b[91mo\u001b[39;49;00m\u001b[04m\u001b[91md\u001b[39;49;00m\u001b[04m\u001b[91me\u001b[39;49;00m\u001b[04m\u001b[91ml\u001b[39;49;00m\u001b[04m\u001b[91m/\u001b[39;49;00m\u001b[04m\u001b[91mt\u001b[39;49;00m\u001b[04m\u001b[91me\u001b[39;49;00m\u001b[04m\u001b[91mm\u001b[39;49;00m\u001b[04m\u001b[91mp\u001b[39;49;00m\u001b[04m\u001b[91ml\u001b[39;49;00m\u001b[04m\u001b[91ma\u001b[39;49;00m\u001b[04m\u001b[91mt\u001b[39;49;00m\u001b[04m\u001b[91me\u001b[39;49;00m\u001b[04m\u001b[91ms\u001b[39;49;00m\u001b[04m\u001b[91m/\u001b[39;49;00m\u001b[04m\u001b[91ms\u001b[39;49;00m\u001b[04m\u001b[91me\u001b[39;49;00m\u001b[04m\u001b[91ml\u001b[39;49;00m\u001b[04m\u001b[91md\u001b[39;49;00m\u001b[04m\u001b[91mo\u001b[39;49;00m\u001b[04m\u001b[91mn\u001b[39;49;00m\u001b[04m\u001b[91md\u001b[39;49;00m\u001b[04m\u001b[91me\u001b[39;49;00m\u001b[04m\u001b[91mp\u001b[39;49;00m\u001b[04m\u001b[91ml\u001b[39;49;00m\u001b[04m\u001b[91mo\u001b[39;49;00m\u001b[04m\u001b[91my\u001b[39;49;00m\u001b[04m\u001b[91mm\u001b[39;49;00m\u001b[04m\u001b[91me\u001b[39;49;00m\u001b[04m\u001b[91mn\u001b[39;49;00m\u001b[04m\u001b[91mt\u001b[39;49;00m\u001b[04m\u001b[91m.\u001b[39;49;00m\u001b[04m\u001b[91mj\u001b[39;49;00m\u001b[04m\u001b[91ms\u001b[39;49;00m\u001b[04m\u001b[91mo\u001b[39;49;00m\u001b[04m\u001b[91mn\u001b[39;49;00m\r\n",
      "{\r\n",
      "  \u001b[94m\"kind\"\u001b[39;49;00m: \u001b[33m\"SeldonDeployment\"\u001b[39;49;00m,\r\n",
      "  \u001b[94m\"apiVersion\"\u001b[39;49;00m: \u001b[33m\"machinelearning.seldon.io/v1\"\u001b[39;49;00m,\r\n",
      "  \u001b[94m\"metadata\"\u001b[39;49;00m: {\r\n",
      "    \u001b[94m\"name\"\u001b[39;49;00m: \u001b[33m\"mymodel\"\u001b[39;49;00m,\r\n",
      "    \u001b[94m\"namespace\"\u001b[39;49;00m: \u001b[33m\"seldon\"\u001b[39;49;00m,\r\n",
      "    \u001b[94m\"labels\"\u001b[39;49;00m: {}\r\n",
      "  },\r\n",
      "  \u001b[94m\"spec\"\u001b[39;49;00m: {\r\n",
      "      \u001b[94m\"name\"\u001b[39;49;00m: \u001b[33m\"mymodel\"\u001b[39;49;00m,\r\n",
      "      \u001b[94m\"protocol\"\u001b[39;49;00m: \u001b[33m\"seldon\"\u001b[39;49;00m,\r\n",
      "    \u001b[94m\"annotations\"\u001b[39;49;00m: {},\r\n",
      "    \u001b[94m\"predictors\"\u001b[39;49;00m: [\r\n",
      "      {\r\n",
      "        \u001b[94m\"name\"\u001b[39;49;00m: \u001b[33m\"default\"\u001b[39;49;00m,\r\n",
      "        \u001b[94m\"graph\"\u001b[39;49;00m: {\r\n",
      "          \u001b[94m\"name\"\u001b[39;49;00m: \u001b[33m\"model\"\u001b[39;49;00m,\r\n",
      "          \u001b[94m\"type\"\u001b[39;49;00m: \u001b[33m\"MODEL\"\u001b[39;49;00m,\r\n",
      "        },\r\n",
      "        \u001b[94m\"componentSpecs\"\u001b[39;49;00m: [\r\n",
      "          {\r\n",
      "            \u001b[94m\"spec\"\u001b[39;49;00m: {\r\n",
      "              \u001b[94m\"containers\"\u001b[39;49;00m: [\r\n",
      "                {\r\n",
      "                  \u001b[94m\"name\"\u001b[39;49;00m: \u001b[33m\"model\"\u001b[39;49;00m,\r\n",
      "                  \u001b[94m\"image\"\u001b[39;49;00m: \u001b[33m\"seldonio/mock_classifier:1.7.0-dev\"\u001b[39;49;00m,\r\n",
      "                  \u001b[94m\"env\"\u001b[39;49;00m: [\r\n",
      "                      {\r\n",
      "                        \u001b[94m\"name\"\u001b[39;49;00m: \u001b[33m\"LOG_LEVEL\"\u001b[39;49;00m,\r\n",
      "                        \u001b[94m\"value\"\u001b[39;49;00m: \u001b[33m\"INFO\"\u001b[39;49;00m\r\n",
      "                      },\r\n",
      "                    ],\r\n",
      "                  \u001b[94m\"resources\"\u001b[39;49;00m: {\u001b[94m\"requests\"\u001b[39;49;00m:{\u001b[94m\"memory\"\u001b[39;49;00m:\u001b[33m\"1Mi\"\u001b[39;49;00m}},\r\n",
      "                }\r\n",
      "              ]\r\n",
      "            },\r\n",
      "          }\r\n",
      "        ],\r\n",
      "        \u001b[94m\"replicas\"\u001b[39;49;00m: \u001b[34m1\u001b[39;49;00m\r\n",
      "      }\r\n",
      "    ]\r\n",
      "  }\r\n",
      "}\r\n"
     ]
    }
   ],
   "source": [
    "!helm template mymodel ../helm-charts/seldon-single-model --set model.image=seldonio/mock_classifier:$VERSION | pygmentize -l json"
   ]
  },
  {
   "cell_type": "code",
   "execution_count": 9,
   "metadata": {
    "scrolled": true
   },
   "outputs": [
    {
     "name": "stdout",
     "output_type": "stream",
     "text": [
      "Waiting for deployment \"mymodel-default-0-model\" rollout to finish: 0 of 1 updated replicas are available...\n",
      "deployment \"mymodel-default-0-model\" successfully rolled out\n"
     ]
    }
   ],
   "source": [
    "!kubectl rollout status deploy/mymodel-default-0-model"
   ]
  },
  {
   "cell_type": "markdown",
   "metadata": {},
   "source": [
    "### Get predictions"
   ]
  },
  {
   "cell_type": "code",
   "execution_count": 10,
   "metadata": {
    "scrolled": true
   },
   "outputs": [],
   "source": [
    "from seldon_core.seldon_client import SeldonClient\n",
    "\n",
    "sc = SeldonClient(\n",
    "    deployment_name=\"mymodel\", namespace=\"seldon\", gateway_endpoint=ISTIO_GATEWAY\n",
    ")"
   ]
  },
  {
   "cell_type": "markdown",
   "metadata": {},
   "source": [
    "#### REST Request"
   ]
  },
  {
   "cell_type": "code",
   "execution_count": 11,
   "metadata": {
    "scrolled": true
   },
   "outputs": [
    {
     "name": "stdout",
     "output_type": "stream",
     "text": [
      "Success:True message:\n",
      "Request:\n",
      "meta {\n",
      "}\n",
      "data {\n",
      "  tensor {\n",
      "    shape: 1\n",
      "    shape: 1\n",
      "    values: 0.721679221744617\n",
      "  }\n",
      "}\n",
      "\n",
      "Response:\n",
      "{'data': {'names': ['proba'], 'tensor': {'shape': [1, 1], 'values': [0.1002015221659356]}}, 'meta': {'requestPath': {'model': 'seldonio/mock_classifier:1.7.0-dev'}}}\n"
     ]
    }
   ],
   "source": [
    "r = sc.predict(gateway=\"istio\", transport=\"rest\")\n",
    "assert r.success == True\n",
    "print(r)"
   ]
  },
  {
   "cell_type": "markdown",
   "metadata": {},
   "source": [
    "## gRPC Request"
   ]
  },
  {
   "cell_type": "code",
   "execution_count": 12,
   "metadata": {},
   "outputs": [
    {
     "name": "stdout",
     "output_type": "stream",
     "text": [
      "Success:True message:\n",
      "Request:\n",
      "{'meta': {}, 'data': {'tensor': {'shape': [1, 1], 'values': [0.17825624441824628]}}}\n",
      "Response:\n",
      "{'meta': {'requestPath': {'model': 'seldonio/mock_classifier:1.7.0-dev'}}, 'data': {'names': ['proba'], 'tensor': {'shape': [1, 1], 'values': [0.06074453279395597]}}}\n"
     ]
    }
   ],
   "source": [
    "r = sc.predict(gateway=\"istio\", transport=\"grpc\")\n",
    "assert r.success == True\n",
    "print(r)"
   ]
  },
  {
   "cell_type": "code",
   "execution_count": 13,
   "metadata": {
    "scrolled": true
   },
   "outputs": [
    {
     "name": "stdout",
     "output_type": "stream",
     "text": [
      "release \"mymodel\" uninstalled\r\n"
     ]
    }
   ],
   "source": [
    "!helm delete mymodel"
   ]
  },
  {
   "cell_type": "markdown",
   "metadata": {},
   "source": [
    "## Host Restriction\n",
    "\n",
    "In this example we will restriction request to those with the Host header \"seldon.io\""
   ]
  },
  {
   "cell_type": "code",
   "execution_count": 3,
   "metadata": {},
   "outputs": [],
   "source": [
    "%%writetemplate resources/model_seldon.yaml\n",
    "apiVersion: machinelearning.seldon.io/v1\n",
    "kind: SeldonDeployment\n",
    "metadata:\n",
    "  name: example-seldon\n",
    "  annotations:\n",
    "    \"seldon.io/istio-host\": \"seldon.io\"\n",
    "spec:\n",
    "  protocol: seldon\n",
    "  predictors:\n",
    "  - componentSpecs:\n",
    "    - spec:\n",
    "        containers:\n",
    "        - image: seldonio/mock_classifier:{VERSION}\n",
    "          name: classifier\n",
    "    graph:\n",
    "      name: classifier\n",
    "      type: MODEL\n",
    "    name: model\n",
    "    replicas: 1"
   ]
  },
  {
   "cell_type": "code",
   "execution_count": 4,
   "metadata": {},
   "outputs": [
    {
     "name": "stdout",
     "output_type": "stream",
     "text": [
      "seldondeployment.machinelearning.seldon.io/example-seldon created\r\n"
     ]
    }
   ],
   "source": [
    "!kubectl apply -f resources/model_seldon.yaml"
   ]
  },
  {
   "cell_type": "code",
   "execution_count": 5,
   "metadata": {},
   "outputs": [
    {
     "name": "stdout",
     "output_type": "stream",
     "text": [
      "Waiting for deployment \"example-seldon-model-0-classifier\" rollout to finish: 0 of 1 updated replicas are available...\n",
      "deployment \"example-seldon-model-0-classifier\" successfully rolled out\n"
     ]
    }
   ],
   "source": [
    "!kubectl rollout status deploy/$(kubectl get deploy -l seldon-deployment-id=example-seldon -o jsonpath='{.items[0].metadata.name}')"
   ]
  },
  {
   "cell_type": "code",
   "execution_count": 6,
   "metadata": {},
   "outputs": [
    {
     "name": "stdout",
     "output_type": "stream",
     "text": [
      "Available\n"
     ]
    }
   ],
   "source": [
    "for i in range(60):\n",
    "    state = !kubectl get sdep example-seldon -o jsonpath='{.status.state}'\n",
    "    state = state[0]\n",
    "    print(state)\n",
    "    if state == \"Available\":\n",
    "        break\n",
    "    time.sleep(1)\n",
    "assert state == \"Available\""
   ]
  },
  {
   "cell_type": "code",
   "execution_count": 15,
   "metadata": {},
   "outputs": [],
   "source": [
    "X=!curl -s -d '{\"data\": {\"ndarray\":[[1.0, 2.0, 5.0]]}}' \\\n",
    "   -X POST http://localhost:8003/seldon/seldon/example-seldon/api/v1.0/predictions \\\n",
    "   -H \"Content-Type: application/json\" \\\n",
    "assert X == []"
   ]
  },
  {
   "cell_type": "code",
   "execution_count": 16,
   "metadata": {},
   "outputs": [
    {
     "name": "stdout",
     "output_type": "stream",
     "text": [
      "{'data': {'names': ['proba'], 'ndarray': [[0.43782349911420193]]}, 'meta': {'requestPath': {'classifier': 'seldonio/mock_classifier:1.9.0-dev'}}}\n"
     ]
    }
   ],
   "source": [
    "import json\n",
    "X=!curl -s -d '{\"data\": {\"ndarray\":[[1.0, 2.0, 5.0]]}}' \\\n",
    "   -X POST http://localhost:8003/seldon/seldon/example-seldon/api/v1.0/predictions \\\n",
    "   -H \"Content-Type: application/json\" \\\n",
    "   -H \"Host: seldon.io\"\n",
    "d=json.loads(X[0])\n",
    "print(d)\n",
    "assert(d[\"data\"][\"ndarray\"][0][0] > 0.4)"
   ]
  },
  {
   "cell_type": "code",
   "execution_count": 17,
   "metadata": {},
   "outputs": [
    {
     "name": "stdout",
     "output_type": "stream",
     "text": [
      "seldondeployment.machinelearning.seldon.io \"example-seldon\" deleted\r\n"
     ]
    }
   ],
   "source": [
    "!kubectl delete -f resources/model_seldon.yaml"
   ]
  },
  {
   "cell_type": "code",
   "execution_count": null,
   "metadata": {},
   "outputs": [],
   "source": []
  }
 ],
 "metadata": {
  "anaconda-cloud": {},
  "kernelspec": {
   "display_name": "Python 3",
   "language": "python",
   "name": "python3"
  },
  "language_info": {
   "codemirror_mode": {
    "name": "ipython",
    "version": 3
   },
   "file_extension": ".py",
   "mimetype": "text/x-python",
   "name": "python",
   "nbconvert_exporter": "python",
   "pygments_lexer": "ipython3",
   "version": "3.6.8"
  },
  "varInspector": {
   "cols": {
    "lenName": 16,
    "lenType": 16,
    "lenVar": 40
   },
   "kernels_config": {
    "python": {
     "delete_cmd_postfix": "",
     "delete_cmd_prefix": "del ",
     "library": "var_list.py",
     "varRefreshCmd": "print(var_dic_list())"
    },
    "r": {
     "delete_cmd_postfix": ") ",
     "delete_cmd_prefix": "rm(",
     "library": "var_list.r",
     "varRefreshCmd": "cat(var_dic_list()) "
    }
   },
   "types_to_exclude": [
    "module",
    "function",
    "builtin_function_or_method",
    "instance",
    "_Feature"
   ],
   "window_display": false
  }
 },
 "nbformat": 4,
 "nbformat_minor": 4
}
