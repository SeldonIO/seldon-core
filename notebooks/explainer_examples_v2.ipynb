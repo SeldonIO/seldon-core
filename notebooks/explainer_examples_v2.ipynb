{
 "cells": [
  {
   "cell_type": "markdown",
   "id": "d985c392",
   "metadata": {},
   "source": [
    "# Example model explanations with Seldon  and v2 Protocol - Incubating\n",
    "\n",
    "In this notebook we will show examples that illustrate how to explain models using [MLServer] (https://github.com/SeldonIO/MLServer).\n",
    "\n",
    "MLServer is a Python server for your machine learning models through a REST and gRPC interface, fully compliant with KFServing's v2 Dataplane spec. "
   ]
  },
  {
   "cell_type": "markdown",
   "id": "b9da1204",
   "metadata": {},
   "source": [
    "## Running this Notebook\n",
    "\n",
    " This should install the required package dependencies, if not please also install:\n",
    " \n",
    "- install and configure `mc`, follow the relevant section in this [link](https://docs.seldon.io/projects/seldon-core/en/latest/examples/minio_setup.html)\n",
    "\n",
    "- run this jupyter notebook in conda environment\n",
    "```bash\n",
    "$ conda create --name python3.8-example python=3.8 -y\n",
    "$ conda activate python3.8-example\n",
    "$ pip install jupyter\n",
    "$ jupyter notebook\n",
    "```\n",
    "\n",
    "- instal requirements\n",
    " - [alibi package](https://pypi.org/project/alibi/)\n",
    " - `sklearn`"
   ]
  },
  {
   "cell_type": "code",
   "execution_count": null,
   "id": "cf7c5645",
   "metadata": {},
   "outputs": [],
   "source": [
    "!pip install sklearn alibi"
   ]
  },
  {
   "cell_type": "markdown",
   "id": "591c69b6",
   "metadata": {},
   "source": [
    "## Setup Seldon Core\n",
    "\n",
    "Follow the instructions to [Setup Cluster](https://docs.seldon.io/projects/seldon-core/en/latest/examples/seldon_core_setup.html#Setup-Cluster) with [Ambassador Ingress](https://docs.seldon.io/projects/seldon-core/en/latest/examples/seldon_core_setup.html#Ambassador) and [Install Seldon Core](https://docs.seldon.io/projects/seldon-core/en/latest/examples/seldon_core_setup.html#Install-Seldon-Core).\n",
    "\n",
    " Then port-forward to that ingress on localhost:8003 in a separate terminal either with:\n",
    "\n",
    " * Ambassador: `kubectl port-forward $(kubectl get pods -n seldon -l app.kubernetes.io/name=ambassador -o jsonpath='{.items[0].metadata.name}') -n seldon 8003:8080`\n",
    " * Istio: `kubectl port-forward $(kubectl get pods -l istio=ingressgateway -n istio-system -o jsonpath='{.items[0].metadata.name}') -n istio-system 8003:8080`\n",
    "\n",
    "### Setup MinIO\n",
    "\n",
    "Use the provided [notebook](https://docs.seldon.io/projects/seldon-core/en/latest/examples/minio_setup.html) to install Minio in your cluster and configure `mc` CLI tool. \n",
    "Instructions [also online](https://docs.seldon.io/projects/seldon-core/en/latest/examples/minio_setup.html)."
   ]
  },
  {
   "cell_type": "markdown",
   "id": "7f4a7085",
   "metadata": {},
   "source": [
    "## Train `iris` model using `sklearn`"
   ]
  },
  {
   "cell_type": "code",
   "execution_count": 1,
   "id": "41bf4ce1",
   "metadata": {},
   "outputs": [],
   "source": [
    "from sklearn.datasets import load_iris\n",
    "from sklearn.linear_model import LogisticRegression\n",
    "from joblib import dump\n",
    "import os\n",
    "import shutil"
   ]
  },
  {
   "cell_type": "markdown",
   "id": "d658769e",
   "metadata": {},
   "source": [
    "### Train model"
   ]
  },
  {
   "cell_type": "code",
   "execution_count": 2,
   "id": "029ba0eb",
   "metadata": {},
   "outputs": [
    {
     "data": {
      "text/plain": [
       "LogisticRegression(multi_class='ovr', solver='liblinear')"
      ]
     },
     "execution_count": 2,
     "metadata": {},
     "output_type": "execute_result"
    }
   ],
   "source": [
    "iris_data = load_iris()\n",
    "\n",
    "clf = LogisticRegression(solver=\"liblinear\", multi_class='ovr')\n",
    "clf.fit(iris_data.data, iris_data.target)"
   ]
  },
  {
   "cell_type": "markdown",
   "id": "719842c1",
   "metadata": {},
   "source": [
    "### Save model"
   ]
  },
  {
   "cell_type": "code",
   "execution_count": 3,
   "id": "8757d345",
   "metadata": {},
   "outputs": [
    {
     "data": {
      "text/plain": [
       "['/tmp/sklearn_iris/model.joblib']"
      ]
     },
     "execution_count": 3,
     "metadata": {},
     "output_type": "execute_result"
    }
   ],
   "source": [
    "modelpath = \"/tmp/sklearn_iris\"\n",
    "if os.path.exists(modelpath):\n",
    "    shutil.rmtree(modelpath)\n",
    "os.makedirs(modelpath)\n",
    "modelfile = os.path.join(modelpath, \"model.joblib\")\n",
    "\n",
    "dump(clf, modelfile) "
   ]
  },
  {
   "cell_type": "markdown",
   "id": "d67818f2",
   "metadata": {},
   "source": [
    "## Create `AnchorTabular` explainer "
   ]
  },
  {
   "cell_type": "markdown",
   "id": "c369a479",
   "metadata": {},
   "source": [
    "### Create explainer artifact"
   ]
  },
  {
   "cell_type": "code",
   "execution_count": 4,
   "id": "2dcaf4c0",
   "metadata": {},
   "outputs": [
    {
     "data": {
      "text/plain": [
       "AnchorTabular(meta={\n",
       "  'name': 'AnchorTabular',\n",
       "  'type': ['blackbox'],\n",
       "  'explanations': ['local'],\n",
       "  'params': {'seed': None, 'disc_perc': (25, 50, 75)}}\n",
       ")"
      ]
     },
     "execution_count": 4,
     "metadata": {},
     "output_type": "execute_result"
    }
   ],
   "source": [
    "from alibi.explainers import AnchorTabular\n",
    "\n",
    "explainer = AnchorTabular(clf.predict, feature_names=iris_data.feature_names)\n",
    "explainer.fit(iris_data.data, disc_perc=(25, 50, 75))"
   ]
  },
  {
   "cell_type": "markdown",
   "id": "bcb9338e",
   "metadata": {},
   "source": [
    "### Save explainer"
   ]
  },
  {
   "cell_type": "code",
   "execution_count": 6,
   "id": "c854f554",
   "metadata": {},
   "outputs": [],
   "source": [
    "explainerpath = \"/tmp/iris_anchor_tabular_explainer_v2\"\n",
    "explainer.save(explainerpath)"
   ]
  },
  {
   "cell_type": "markdown",
   "id": "20b490f9",
   "metadata": {},
   "source": [
    "## Install dependencies to pack the enviornment for deployment"
   ]
  },
  {
   "cell_type": "code",
   "execution_count": 7,
   "id": "e2bd4524",
   "metadata": {},
   "outputs": [
    {
     "name": "stdout",
     "output_type": "stream",
     "text": [
      "Requirement already satisfied: conda-pack in /home/sa/miniconda3/envs/python3.8-example-explainer-v2_2/lib/python3.8/site-packages (0.6.0)\n",
      "Requirement already satisfied: mlserver==0.6.0.dev2 in /home/sa/miniconda3/envs/python3.8-example-explainer-v2_2/lib/python3.8/site-packages (0.6.0.dev2)\n",
      "Requirement already satisfied: mlserver-alibi-explain==0.6.0.dev2 in /home/sa/miniconda3/envs/python3.8-example-explainer-v2_2/lib/python3.8/site-packages (0.6.0.dev2)\n",
      "Requirement already satisfied: uvicorn in /home/sa/miniconda3/envs/python3.8-example-explainer-v2_2/lib/python3.8/site-packages (from mlserver==0.6.0.dev2) (0.15.0)\n",
      "Requirement already satisfied: click in /home/sa/miniconda3/envs/python3.8-example-explainer-v2_2/lib/python3.8/site-packages (from mlserver==0.6.0.dev2) (8.0.3)\n",
      "Requirement already satisfied: fastapi==0.68.2 in /home/sa/miniconda3/envs/python3.8-example-explainer-v2_2/lib/python3.8/site-packages (from mlserver==0.6.0.dev2) (0.68.2)\n",
      "Requirement already satisfied: grpcio in /home/sa/miniconda3/envs/python3.8-example-explainer-v2_2/lib/python3.8/site-packages (from mlserver==0.6.0.dev2) (1.41.1)\n",
      "Requirement already satisfied: numpy in /home/sa/miniconda3/envs/python3.8-example-explainer-v2_2/lib/python3.8/site-packages (from mlserver==0.6.0.dev2) (1.19.5)\n",
      "Requirement already satisfied: protobuf in /home/sa/miniconda3/envs/python3.8-example-explainer-v2_2/lib/python3.8/site-packages (from mlserver==0.6.0.dev2) (3.19.1)\n",
      "Requirement already satisfied: pandas in /home/sa/miniconda3/envs/python3.8-example-explainer-v2_2/lib/python3.8/site-packages (from mlserver==0.6.0.dev2) (1.3.4)\n",
      "Requirement already satisfied: tensorflow==2.6.2 in /home/sa/miniconda3/envs/python3.8-example-explainer-v2_2/lib/python3.8/site-packages (from mlserver-alibi-explain==0.6.0.dev2) (2.6.2)\n",
      "Requirement already satisfied: alibi in /home/sa/miniconda3/envs/python3.8-example-explainer-v2_2/lib/python3.8/site-packages (from mlserver-alibi-explain==0.6.0.dev2) (0.6.1)\n",
      "Requirement already satisfied: pydantic!=1.7,!=1.7.1,!=1.7.2,!=1.7.3,!=1.8,!=1.8.1,<2.0.0,>=1.6.2 in /home/sa/miniconda3/envs/python3.8-example-explainer-v2_2/lib/python3.8/site-packages (from fastapi==0.68.2->mlserver==0.6.0.dev2) (1.8.2)\n",
      "Requirement already satisfied: starlette==0.14.2 in /home/sa/miniconda3/envs/python3.8-example-explainer-v2_2/lib/python3.8/site-packages (from fastapi==0.68.2->mlserver==0.6.0.dev2) (0.14.2)\n",
      "Requirement already satisfied: typing-extensions~=3.7.4 in /home/sa/miniconda3/envs/python3.8-example-explainer-v2_2/lib/python3.8/site-packages (from tensorflow==2.6.2->mlserver-alibi-explain==0.6.0.dev2) (3.7.4.3)\n",
      "Requirement already satisfied: flatbuffers~=1.12.0 in /home/sa/miniconda3/envs/python3.8-example-explainer-v2_2/lib/python3.8/site-packages (from tensorflow==2.6.2->mlserver-alibi-explain==0.6.0.dev2) (1.12)\n",
      "Requirement already satisfied: h5py~=3.1.0 in /home/sa/miniconda3/envs/python3.8-example-explainer-v2_2/lib/python3.8/site-packages (from tensorflow==2.6.2->mlserver-alibi-explain==0.6.0.dev2) (3.1.0)\n",
      "Requirement already satisfied: opt-einsum~=3.3.0 in /home/sa/miniconda3/envs/python3.8-example-explainer-v2_2/lib/python3.8/site-packages (from tensorflow==2.6.2->mlserver-alibi-explain==0.6.0.dev2) (3.3.0)\n",
      "Requirement already satisfied: google-pasta~=0.2 in /home/sa/miniconda3/envs/python3.8-example-explainer-v2_2/lib/python3.8/site-packages (from tensorflow==2.6.2->mlserver-alibi-explain==0.6.0.dev2) (0.2.0)\n",
      "Requirement already satisfied: wheel~=0.35 in /home/sa/miniconda3/envs/python3.8-example-explainer-v2_2/lib/python3.8/site-packages (from tensorflow==2.6.2->mlserver-alibi-explain==0.6.0.dev2) (0.37.0)\n",
      "Requirement already satisfied: absl-py~=0.10 in /home/sa/miniconda3/envs/python3.8-example-explainer-v2_2/lib/python3.8/site-packages (from tensorflow==2.6.2->mlserver-alibi-explain==0.6.0.dev2) (0.15.0)\n",
      "Requirement already satisfied: keras<2.7,>=2.6.0 in /home/sa/miniconda3/envs/python3.8-example-explainer-v2_2/lib/python3.8/site-packages (from tensorflow==2.6.2->mlserver-alibi-explain==0.6.0.dev2) (2.6.0)\n",
      "Requirement already satisfied: termcolor~=1.1.0 in /home/sa/miniconda3/envs/python3.8-example-explainer-v2_2/lib/python3.8/site-packages (from tensorflow==2.6.2->mlserver-alibi-explain==0.6.0.dev2) (1.1.0)\n",
      "Requirement already satisfied: tensorflow-estimator<2.7,>=2.6.0 in /home/sa/miniconda3/envs/python3.8-example-explainer-v2_2/lib/python3.8/site-packages (from tensorflow==2.6.2->mlserver-alibi-explain==0.6.0.dev2) (2.6.0)\n",
      "Requirement already satisfied: keras-preprocessing~=1.1.2 in /home/sa/miniconda3/envs/python3.8-example-explainer-v2_2/lib/python3.8/site-packages (from tensorflow==2.6.2->mlserver-alibi-explain==0.6.0.dev2) (1.1.2)\n",
      "Requirement already satisfied: astunparse~=1.6.3 in /home/sa/miniconda3/envs/python3.8-example-explainer-v2_2/lib/python3.8/site-packages (from tensorflow==2.6.2->mlserver-alibi-explain==0.6.0.dev2) (1.6.3)\n",
      "Requirement already satisfied: wrapt~=1.12.1 in /home/sa/miniconda3/envs/python3.8-example-explainer-v2_2/lib/python3.8/site-packages (from tensorflow==2.6.2->mlserver-alibi-explain==0.6.0.dev2) (1.12.1)\n",
      "Requirement already satisfied: gast==0.4.0 in /home/sa/miniconda3/envs/python3.8-example-explainer-v2_2/lib/python3.8/site-packages (from tensorflow==2.6.2->mlserver-alibi-explain==0.6.0.dev2) (0.4.0)\n",
      "Requirement already satisfied: six~=1.15.0 in /home/sa/miniconda3/envs/python3.8-example-explainer-v2_2/lib/python3.8/site-packages (from tensorflow==2.6.2->mlserver-alibi-explain==0.6.0.dev2) (1.15.0)\n",
      "Requirement already satisfied: tensorboard<2.7,>=2.6.0 in /home/sa/miniconda3/envs/python3.8-example-explainer-v2_2/lib/python3.8/site-packages (from tensorflow==2.6.2->mlserver-alibi-explain==0.6.0.dev2) (2.6.0)\n",
      "Requirement already satisfied: clang~=5.0 in /home/sa/miniconda3/envs/python3.8-example-explainer-v2_2/lib/python3.8/site-packages (from tensorflow==2.6.2->mlserver-alibi-explain==0.6.0.dev2) (5.0)\n",
      "Requirement already satisfied: setuptools in /home/sa/miniconda3/envs/python3.8-example-explainer-v2_2/lib/python3.8/site-packages (from conda-pack) (58.0.4)\n",
      "Requirement already satisfied: markdown>=2.6.8 in /home/sa/miniconda3/envs/python3.8-example-explainer-v2_2/lib/python3.8/site-packages (from tensorboard<2.7,>=2.6.0->tensorflow==2.6.2->mlserver-alibi-explain==0.6.0.dev2) (3.3.4)\n",
      "Requirement already satisfied: tensorboard-plugin-wit>=1.6.0 in /home/sa/miniconda3/envs/python3.8-example-explainer-v2_2/lib/python3.8/site-packages (from tensorboard<2.7,>=2.6.0->tensorflow==2.6.2->mlserver-alibi-explain==0.6.0.dev2) (1.8.0)\n",
      "Requirement already satisfied: requests<3,>=2.21.0 in /home/sa/miniconda3/envs/python3.8-example-explainer-v2_2/lib/python3.8/site-packages (from tensorboard<2.7,>=2.6.0->tensorflow==2.6.2->mlserver-alibi-explain==0.6.0.dev2) (2.26.0)\n",
      "Requirement already satisfied: werkzeug>=0.11.15 in /home/sa/miniconda3/envs/python3.8-example-explainer-v2_2/lib/python3.8/site-packages (from tensorboard<2.7,>=2.6.0->tensorflow==2.6.2->mlserver-alibi-explain==0.6.0.dev2) (2.0.2)\n",
      "Requirement already satisfied: tensorboard-data-server<0.7.0,>=0.6.0 in /home/sa/miniconda3/envs/python3.8-example-explainer-v2_2/lib/python3.8/site-packages (from tensorboard<2.7,>=2.6.0->tensorflow==2.6.2->mlserver-alibi-explain==0.6.0.dev2) (0.6.1)\n",
      "Requirement already satisfied: google-auth-oauthlib<0.5,>=0.4.1 in /home/sa/miniconda3/envs/python3.8-example-explainer-v2_2/lib/python3.8/site-packages (from tensorboard<2.7,>=2.6.0->tensorflow==2.6.2->mlserver-alibi-explain==0.6.0.dev2) (0.4.6)\n",
      "Requirement already satisfied: google-auth<2,>=1.6.3 in /home/sa/miniconda3/envs/python3.8-example-explainer-v2_2/lib/python3.8/site-packages (from tensorboard<2.7,>=2.6.0->tensorflow==2.6.2->mlserver-alibi-explain==0.6.0.dev2) (1.35.0)\n",
      "Requirement already satisfied: pyasn1-modules>=0.2.1 in /home/sa/miniconda3/envs/python3.8-example-explainer-v2_2/lib/python3.8/site-packages (from google-auth<2,>=1.6.3->tensorboard<2.7,>=2.6.0->tensorflow==2.6.2->mlserver-alibi-explain==0.6.0.dev2) (0.2.8)\n",
      "Requirement already satisfied: cachetools<5.0,>=2.0.0 in /home/sa/miniconda3/envs/python3.8-example-explainer-v2_2/lib/python3.8/site-packages (from google-auth<2,>=1.6.3->tensorboard<2.7,>=2.6.0->tensorflow==2.6.2->mlserver-alibi-explain==0.6.0.dev2) (4.2.4)\n",
      "Requirement already satisfied: rsa<5,>=3.1.4 in /home/sa/miniconda3/envs/python3.8-example-explainer-v2_2/lib/python3.8/site-packages (from google-auth<2,>=1.6.3->tensorboard<2.7,>=2.6.0->tensorflow==2.6.2->mlserver-alibi-explain==0.6.0.dev2) (4.7.2)\n",
      "Requirement already satisfied: requests-oauthlib>=0.7.0 in /home/sa/miniconda3/envs/python3.8-example-explainer-v2_2/lib/python3.8/site-packages (from google-auth-oauthlib<0.5,>=0.4.1->tensorboard<2.7,>=2.6.0->tensorflow==2.6.2->mlserver-alibi-explain==0.6.0.dev2) (1.3.0)\n",
      "Requirement already satisfied: pyasn1<0.5.0,>=0.4.6 in /home/sa/miniconda3/envs/python3.8-example-explainer-v2_2/lib/python3.8/site-packages (from pyasn1-modules>=0.2.1->google-auth<2,>=1.6.3->tensorboard<2.7,>=2.6.0->tensorflow==2.6.2->mlserver-alibi-explain==0.6.0.dev2) (0.4.8)\n",
      "Requirement already satisfied: certifi>=2017.4.17 in /home/sa/miniconda3/envs/python3.8-example-explainer-v2_2/lib/python3.8/site-packages (from requests<3,>=2.21.0->tensorboard<2.7,>=2.6.0->tensorflow==2.6.2->mlserver-alibi-explain==0.6.0.dev2) (2021.10.8)\n",
      "Requirement already satisfied: idna<4,>=2.5 in /home/sa/miniconda3/envs/python3.8-example-explainer-v2_2/lib/python3.8/site-packages (from requests<3,>=2.21.0->tensorboard<2.7,>=2.6.0->tensorflow==2.6.2->mlserver-alibi-explain==0.6.0.dev2) (3.3)\n",
      "Requirement already satisfied: charset-normalizer~=2.0.0 in /home/sa/miniconda3/envs/python3.8-example-explainer-v2_2/lib/python3.8/site-packages (from requests<3,>=2.21.0->tensorboard<2.7,>=2.6.0->tensorflow==2.6.2->mlserver-alibi-explain==0.6.0.dev2) (2.0.7)\n"
     ]
    },
    {
     "name": "stdout",
     "output_type": "stream",
     "text": [
      "Requirement already satisfied: urllib3<1.27,>=1.21.1 in /home/sa/miniconda3/envs/python3.8-example-explainer-v2_2/lib/python3.8/site-packages (from requests<3,>=2.21.0->tensorboard<2.7,>=2.6.0->tensorflow==2.6.2->mlserver-alibi-explain==0.6.0.dev2) (1.26.7)\n",
      "Requirement already satisfied: oauthlib>=3.0.0 in /home/sa/miniconda3/envs/python3.8-example-explainer-v2_2/lib/python3.8/site-packages (from requests-oauthlib>=0.7.0->google-auth-oauthlib<0.5,>=0.4.1->tensorboard<2.7,>=2.6.0->tensorflow==2.6.2->mlserver-alibi-explain==0.6.0.dev2) (3.1.1)\n",
      "Requirement already satisfied: attrs<22.0.0,>=19.2.0 in /home/sa/miniconda3/envs/python3.8-example-explainer-v2_2/lib/python3.8/site-packages (from alibi->mlserver-alibi-explain==0.6.0.dev2) (21.2.0)\n",
      "Requirement already satisfied: spacy[lookups]<4.0.0,>=2.0.0 in /home/sa/miniconda3/envs/python3.8-example-explainer-v2_2/lib/python3.8/site-packages (from alibi->mlserver-alibi-explain==0.6.0.dev2) (3.2.0)\n",
      "Requirement already satisfied: tqdm<5.0.0,>=4.28.1 in /home/sa/miniconda3/envs/python3.8-example-explainer-v2_2/lib/python3.8/site-packages (from alibi->mlserver-alibi-explain==0.6.0.dev2) (4.62.3)\n",
      "Requirement already satisfied: transformers<5.0.0,>=4.7.0 in /home/sa/miniconda3/envs/python3.8-example-explainer-v2_2/lib/python3.8/site-packages (from alibi->mlserver-alibi-explain==0.6.0.dev2) (4.12.3)\n",
      "Requirement already satisfied: scikit-learn<0.25.0,>=0.20.2 in /home/sa/miniconda3/envs/python3.8-example-explainer-v2_2/lib/python3.8/site-packages (from alibi->mlserver-alibi-explain==0.6.0.dev2) (0.24.2)\n",
      "Requirement already satisfied: matplotlib<4.0.0,>=3.0.0 in /home/sa/miniconda3/envs/python3.8-example-explainer-v2_2/lib/python3.8/site-packages (from alibi->mlserver-alibi-explain==0.6.0.dev2) (3.4.3)\n",
      "Requirement already satisfied: dill<0.4.0,>=0.3.0 in /home/sa/miniconda3/envs/python3.8-example-explainer-v2_2/lib/python3.8/site-packages (from alibi->mlserver-alibi-explain==0.6.0.dev2) (0.3.4)\n",
      "Requirement already satisfied: scipy<2.0.0,>=1.1.0 in /home/sa/miniconda3/envs/python3.8-example-explainer-v2_2/lib/python3.8/site-packages (from alibi->mlserver-alibi-explain==0.6.0.dev2) (1.7.2)\n",
      "Requirement already satisfied: Pillow<9.0,>=5.4.1 in /home/sa/miniconda3/envs/python3.8-example-explainer-v2_2/lib/python3.8/site-packages (from alibi->mlserver-alibi-explain==0.6.0.dev2) (8.4.0)\n",
      "Requirement already satisfied: scikit-image!=0.17.1,<0.19,>=0.14.2 in /home/sa/miniconda3/envs/python3.8-example-explainer-v2_2/lib/python3.8/site-packages (from alibi->mlserver-alibi-explain==0.6.0.dev2) (0.18.3)\n",
      "Requirement already satisfied: python-dateutil>=2.7 in /home/sa/miniconda3/envs/python3.8-example-explainer-v2_2/lib/python3.8/site-packages (from matplotlib<4.0.0,>=3.0.0->alibi->mlserver-alibi-explain==0.6.0.dev2) (2.8.2)\n",
      "Requirement already satisfied: pyparsing>=2.2.1 in /home/sa/miniconda3/envs/python3.8-example-explainer-v2_2/lib/python3.8/site-packages (from matplotlib<4.0.0,>=3.0.0->alibi->mlserver-alibi-explain==0.6.0.dev2) (2.4.7)\n",
      "Requirement already satisfied: cycler>=0.10 in /home/sa/miniconda3/envs/python3.8-example-explainer-v2_2/lib/python3.8/site-packages (from matplotlib<4.0.0,>=3.0.0->alibi->mlserver-alibi-explain==0.6.0.dev2) (0.11.0)\n",
      "Requirement already satisfied: kiwisolver>=1.0.1 in /home/sa/miniconda3/envs/python3.8-example-explainer-v2_2/lib/python3.8/site-packages (from matplotlib<4.0.0,>=3.0.0->alibi->mlserver-alibi-explain==0.6.0.dev2) (1.3.2)\n",
      "Requirement already satisfied: pytz>=2017.3 in /home/sa/miniconda3/envs/python3.8-example-explainer-v2_2/lib/python3.8/site-packages (from pandas->mlserver==0.6.0.dev2) (2021.3)\n",
      "Requirement already satisfied: networkx>=2.0 in /home/sa/miniconda3/envs/python3.8-example-explainer-v2_2/lib/python3.8/site-packages (from scikit-image!=0.17.1,<0.19,>=0.14.2->alibi->mlserver-alibi-explain==0.6.0.dev2) (2.6.3)\n",
      "Requirement already satisfied: PyWavelets>=1.1.1 in /home/sa/miniconda3/envs/python3.8-example-explainer-v2_2/lib/python3.8/site-packages (from scikit-image!=0.17.1,<0.19,>=0.14.2->alibi->mlserver-alibi-explain==0.6.0.dev2) (1.2.0)\n",
      "Requirement already satisfied: tifffile>=2019.7.26 in /home/sa/miniconda3/envs/python3.8-example-explainer-v2_2/lib/python3.8/site-packages (from scikit-image!=0.17.1,<0.19,>=0.14.2->alibi->mlserver-alibi-explain==0.6.0.dev2) (2021.11.2)\n",
      "Requirement already satisfied: imageio>=2.3.0 in /home/sa/miniconda3/envs/python3.8-example-explainer-v2_2/lib/python3.8/site-packages (from scikit-image!=0.17.1,<0.19,>=0.14.2->alibi->mlserver-alibi-explain==0.6.0.dev2) (2.10.3)\n",
      "Requirement already satisfied: joblib>=0.11 in /home/sa/miniconda3/envs/python3.8-example-explainer-v2_2/lib/python3.8/site-packages (from scikit-learn<0.25.0,>=0.20.2->alibi->mlserver-alibi-explain==0.6.0.dev2) (1.1.0)\n",
      "Requirement already satisfied: threadpoolctl>=2.0.0 in /home/sa/miniconda3/envs/python3.8-example-explainer-v2_2/lib/python3.8/site-packages (from scikit-learn<0.25.0,>=0.20.2->alibi->mlserver-alibi-explain==0.6.0.dev2) (3.0.0)\n",
      "Requirement already satisfied: typer<0.5.0,>=0.3.0 in /home/sa/miniconda3/envs/python3.8-example-explainer-v2_2/lib/python3.8/site-packages (from spacy[lookups]<4.0.0,>=2.0.0->alibi->mlserver-alibi-explain==0.6.0.dev2) (0.4.0)\n",
      "Requirement already satisfied: murmurhash<1.1.0,>=0.28.0 in /home/sa/miniconda3/envs/python3.8-example-explainer-v2_2/lib/python3.8/site-packages (from spacy[lookups]<4.0.0,>=2.0.0->alibi->mlserver-alibi-explain==0.6.0.dev2) (1.0.6)\n",
      "Requirement already satisfied: thinc<8.1.0,>=8.0.12 in /home/sa/miniconda3/envs/python3.8-example-explainer-v2_2/lib/python3.8/site-packages (from spacy[lookups]<4.0.0,>=2.0.0->alibi->mlserver-alibi-explain==0.6.0.dev2) (8.0.13)\n",
      "Requirement already satisfied: spacy-loggers<2.0.0,>=1.0.0 in /home/sa/miniconda3/envs/python3.8-example-explainer-v2_2/lib/python3.8/site-packages (from spacy[lookups]<4.0.0,>=2.0.0->alibi->mlserver-alibi-explain==0.6.0.dev2) (1.0.1)\n",
      "Requirement already satisfied: preshed<3.1.0,>=3.0.2 in /home/sa/miniconda3/envs/python3.8-example-explainer-v2_2/lib/python3.8/site-packages (from spacy[lookups]<4.0.0,>=2.0.0->alibi->mlserver-alibi-explain==0.6.0.dev2) (3.0.6)\n",
      "Requirement already satisfied: blis<0.8.0,>=0.4.0 in /home/sa/miniconda3/envs/python3.8-example-explainer-v2_2/lib/python3.8/site-packages (from spacy[lookups]<4.0.0,>=2.0.0->alibi->mlserver-alibi-explain==0.6.0.dev2) (0.7.5)\n",
      "Requirement already satisfied: jinja2 in /home/sa/miniconda3/envs/python3.8-example-explainer-v2_2/lib/python3.8/site-packages (from spacy[lookups]<4.0.0,>=2.0.0->alibi->mlserver-alibi-explain==0.6.0.dev2) (3.0.3)\n",
      "Requirement already satisfied: langcodes<4.0.0,>=3.2.0 in /home/sa/miniconda3/envs/python3.8-example-explainer-v2_2/lib/python3.8/site-packages (from spacy[lookups]<4.0.0,>=2.0.0->alibi->mlserver-alibi-explain==0.6.0.dev2) (3.2.1)\n",
      "Requirement already satisfied: wasabi<1.1.0,>=0.8.1 in /home/sa/miniconda3/envs/python3.8-example-explainer-v2_2/lib/python3.8/site-packages (from spacy[lookups]<4.0.0,>=2.0.0->alibi->mlserver-alibi-explain==0.6.0.dev2) (0.8.2)\n",
      "Requirement already satisfied: srsly<3.0.0,>=2.4.1 in /home/sa/miniconda3/envs/python3.8-example-explainer-v2_2/lib/python3.8/site-packages (from spacy[lookups]<4.0.0,>=2.0.0->alibi->mlserver-alibi-explain==0.6.0.dev2) (2.4.2)\n",
      "Requirement already satisfied: packaging>=20.0 in /home/sa/miniconda3/envs/python3.8-example-explainer-v2_2/lib/python3.8/site-packages (from spacy[lookups]<4.0.0,>=2.0.0->alibi->mlserver-alibi-explain==0.6.0.dev2) (21.2)\n",
      "Requirement already satisfied: catalogue<2.1.0,>=2.0.6 in /home/sa/miniconda3/envs/python3.8-example-explainer-v2_2/lib/python3.8/site-packages (from spacy[lookups]<4.0.0,>=2.0.0->alibi->mlserver-alibi-explain==0.6.0.dev2) (2.0.6)\n",
      "Requirement already satisfied: cymem<2.1.0,>=2.0.2 in /home/sa/miniconda3/envs/python3.8-example-explainer-v2_2/lib/python3.8/site-packages (from spacy[lookups]<4.0.0,>=2.0.0->alibi->mlserver-alibi-explain==0.6.0.dev2) (2.0.6)\n",
      "Requirement already satisfied: spacy-legacy<3.1.0,>=3.0.8 in /home/sa/miniconda3/envs/python3.8-example-explainer-v2_2/lib/python3.8/site-packages (from spacy[lookups]<4.0.0,>=2.0.0->alibi->mlserver-alibi-explain==0.6.0.dev2) (3.0.8)\n",
      "Requirement already satisfied: pathy>=0.3.5 in /home/sa/miniconda3/envs/python3.8-example-explainer-v2_2/lib/python3.8/site-packages (from spacy[lookups]<4.0.0,>=2.0.0->alibi->mlserver-alibi-explain==0.6.0.dev2) (0.6.1)\n"
     ]
    },
    {
     "name": "stdout",
     "output_type": "stream",
     "text": [
      "Requirement already satisfied: spacy-lookups-data<1.1.0,>=1.0.3 in /home/sa/miniconda3/envs/python3.8-example-explainer-v2_2/lib/python3.8/site-packages (from spacy[lookups]<4.0.0,>=2.0.0->alibi->mlserver-alibi-explain==0.6.0.dev2) (1.0.3)\n",
      "Requirement already satisfied: smart-open<6.0.0,>=5.0.0 in /home/sa/miniconda3/envs/python3.8-example-explainer-v2_2/lib/python3.8/site-packages (from pathy>=0.3.5->spacy[lookups]<4.0.0,>=2.0.0->alibi->mlserver-alibi-explain==0.6.0.dev2) (5.2.1)\n",
      "Requirement already satisfied: filelock in /home/sa/miniconda3/envs/python3.8-example-explainer-v2_2/lib/python3.8/site-packages (from transformers<5.0.0,>=4.7.0->alibi->mlserver-alibi-explain==0.6.0.dev2) (3.3.2)\n",
      "Requirement already satisfied: regex!=2019.12.17 in /home/sa/miniconda3/envs/python3.8-example-explainer-v2_2/lib/python3.8/site-packages (from transformers<5.0.0,>=4.7.0->alibi->mlserver-alibi-explain==0.6.0.dev2) (2021.11.10)\n",
      "Requirement already satisfied: huggingface-hub<1.0,>=0.1.0 in /home/sa/miniconda3/envs/python3.8-example-explainer-v2_2/lib/python3.8/site-packages (from transformers<5.0.0,>=4.7.0->alibi->mlserver-alibi-explain==0.6.0.dev2) (0.1.2)\n",
      "Requirement already satisfied: sacremoses in /home/sa/miniconda3/envs/python3.8-example-explainer-v2_2/lib/python3.8/site-packages (from transformers<5.0.0,>=4.7.0->alibi->mlserver-alibi-explain==0.6.0.dev2) (0.0.46)\n",
      "Requirement already satisfied: tokenizers<0.11,>=0.10.1 in /home/sa/miniconda3/envs/python3.8-example-explainer-v2_2/lib/python3.8/site-packages (from transformers<5.0.0,>=4.7.0->alibi->mlserver-alibi-explain==0.6.0.dev2) (0.10.3)\n",
      "Requirement already satisfied: pyyaml>=5.1 in /home/sa/miniconda3/envs/python3.8-example-explainer-v2_2/lib/python3.8/site-packages (from transformers<5.0.0,>=4.7.0->alibi->mlserver-alibi-explain==0.6.0.dev2) (6.0)\n",
      "Requirement already satisfied: MarkupSafe>=2.0 in /home/sa/miniconda3/envs/python3.8-example-explainer-v2_2/lib/python3.8/site-packages (from jinja2->spacy[lookups]<4.0.0,>=2.0.0->alibi->mlserver-alibi-explain==0.6.0.dev2) (2.0.1)\n",
      "Requirement already satisfied: h11>=0.8 in /home/sa/miniconda3/envs/python3.8-example-explainer-v2_2/lib/python3.8/site-packages (from uvicorn->mlserver==0.6.0.dev2) (0.12.0)\n",
      "Requirement already satisfied: asgiref>=3.4.0 in /home/sa/miniconda3/envs/python3.8-example-explainer-v2_2/lib/python3.8/site-packages (from uvicorn->mlserver==0.6.0.dev2) (3.4.1)\n",
      "Note: you may need to restart the kernel to use updated packages.\n"
     ]
    }
   ],
   "source": [
    "pip install conda-pack mlserver==0.6.0.dev2 mlserver-alibi-explain==0.6.0.dev2"
   ]
  },
  {
   "cell_type": "markdown",
   "id": "2fb3f64d",
   "metadata": {},
   "source": [
    "## Pack enviornment"
   ]
  },
  {
   "cell_type": "code",
   "execution_count": 8,
   "id": "482071c2",
   "metadata": {},
   "outputs": [
    {
     "name": "stdout",
     "output_type": "stream",
     "text": [
      "Collecting packages...\n",
      "Packing environment at '/home/sa/miniconda3/envs/python3.8-example-explainer-v2_2' to '/tmp/iris_anchor_tabular_explainer_v2/environment.tar.gz'\n",
      "[########################################] | 100% Completed |  1min  8.2s\n"
     ]
    },
    {
     "data": {
      "text/plain": [
       "'/tmp/iris_anchor_tabular_explainer_v2/environment.tar.gz'"
      ]
     },
     "execution_count": 8,
     "metadata": {},
     "output_type": "execute_result"
    }
   ],
   "source": [
    "import conda_pack\n",
    "env_file_path = os.path.join(explainerpath, \"environment.tar.gz\")\n",
    "conda_pack.pack(\n",
    "    output=str(env_file_path),\n",
    "    force=True,\n",
    "    verbose=True,\n",
    "    ignore_editable_packages=False,\n",
    "    ignore_missing_files=True,\n",
    ")"
   ]
  },
  {
   "cell_type": "markdown",
   "id": "b33bfef3",
   "metadata": {},
   "source": [
    "## Copy artifacts to object store (`minio`)\n",
    "\n",
    "### Configure `mc` to access the minio service in the local kind cluster\n",
    "note: make sure that minio ip is reflected properly below, run:\n",
    "- `kubectl get service -n minio-system`\n",
    "- `mc config host add minio-seldon [ip] minioadmin minioadmin`"
   ]
  },
  {
   "cell_type": "code",
   "execution_count": 9,
   "id": "2b4b277b",
   "metadata": {},
   "outputs": [
    {
     "name": "stdout",
     "output_type": "stream",
     "text": [
      "Removed `minio-seldon/models` successfully.\n",
      "Bucket created successfully `minio-seldon/models`.\n",
      "`/tmp/sklearn_iris/model.joblib` -> `minio-seldon/models/sklearn_iris/model.joblib`\n",
      "Total: 0 B, Transferred: 913 B, Speed: 170.98 KiB/s\n",
      "`/tmp/iris_anchor_tabular_explainer_v2/explainer.dill` -> `minio-seldon/models/iris_anchor_tabular_explainer_v2/explainer.dill`\n",
      "`/tmp/iris_anchor_tabular_explainer_v2/meta.dill` -> `minio-seldon/models/iris_anchor_tabular_explainer_v2/meta.dill`\n",
      "`/tmp/iris_anchor_tabular_explainer_v2/environment.tar.gz` -> `minio-seldon/models/iris_anchor_tabular_explainer_v2/environment.tar.gz`\n",
      "Total: 0 B, Transferred: 872.53 MiB, Speed: 967.25 MiB/s\n"
     ]
    },
    {
     "data": {
      "text/plain": [
       "0"
      ]
     },
     "execution_count": 9,
     "metadata": {},
     "output_type": "execute_result"
    }
   ],
   "source": [
    "target_bucket = \"minio-seldon/models\"\n",
    "os.system(f\"mc rb --force {target_bucket}\")\n",
    "os.system(f\"mc mb {target_bucket}\")\n",
    "os.system(f\"mc cp --recursive {modelpath} {target_bucket}\")\n",
    "os.system(f\"mc cp --recursive {explainerpath} {target_bucket}\")"
   ]
  },
  {
   "cell_type": "markdown",
   "id": "48d5eef5",
   "metadata": {},
   "source": [
    "## Deploy to local `kind` cluster"
   ]
  },
  {
   "cell_type": "markdown",
   "id": "ebd83919",
   "metadata": {},
   "source": [
    "### Create deployment CRD"
   ]
  },
  {
   "cell_type": "code",
   "execution_count": 10,
   "id": "2d7548d2",
   "metadata": {},
   "outputs": [
    {
     "name": "stdout",
     "output_type": "stream",
     "text": [
      "Overwriting iris-with-explainer-v2.yaml\n"
     ]
    }
   ],
   "source": [
    "%%writefile iris-with-explainer-v2.yaml\n",
    "apiVersion: machinelearning.seldon.io/v1\n",
    "kind: SeldonDeployment\n",
    "metadata:\n",
    "  name: iris\n",
    "spec:\n",
    "  protocol: kfserving  # Activate v2 protocol / mlserver usage\n",
    "  name: iris\n",
    "  annotations:\n",
    "    seldon.io/rest-timeout: \"100000\"\n",
    "  predictors:\n",
    "  - graph:\n",
    "      children: []\n",
    "      implementation: SKLEARN_SERVER\n",
    "      modelUri: s3://models/sklearn_iris\n",
    "      envSecretRefName: seldon-rclone-secret\n",
    "      name: classifier\n",
    "    explainer:\n",
    "      type: AnchorTabular\n",
    "      modelUri: s3://models/iris_anchor_tabular_explainer_v2\n",
    "      envSecretRefName: seldon-rclone-secret\n",
    "    name: default\n",
    "    replicas: 1"
   ]
  },
  {
   "cell_type": "markdown",
   "id": "62f79d0f",
   "metadata": {},
   "source": [
    "### Deploy"
   ]
  },
  {
   "cell_type": "code",
   "execution_count": 11,
   "id": "120475cc",
   "metadata": {},
   "outputs": [
    {
     "name": "stdout",
     "output_type": "stream",
     "text": [
      "seldondeployment.machinelearning.seldon.io/iris created\r\n"
     ]
    }
   ],
   "source": [
    "!kubectl apply -f iris-with-explainer-v2.yaml"
   ]
  },
  {
   "cell_type": "code",
   "execution_count": 12,
   "id": "1e3038ca",
   "metadata": {},
   "outputs": [
    {
     "name": "stdout",
     "output_type": "stream",
     "text": [
      "Waiting for deployment \"iris-default-0-classifier\" rollout to finish: 0 of 1 updated replicas are available...\n",
      "deployment \"iris-default-0-classifier\" successfully rolled out\n"
     ]
    }
   ],
   "source": [
    "!kubectl rollout status deploy/$(kubectl get deploy -l seldon-deployment-id=iris -o jsonpath='{.items[0].metadata.name}')"
   ]
  },
  {
   "cell_type": "markdown",
   "id": "268d97b3",
   "metadata": {},
   "source": [
    "### Test explainer"
   ]
  },
  {
   "cell_type": "code",
   "execution_count": 13,
   "id": "d27de524",
   "metadata": {},
   "outputs": [
    {
     "name": "stdout",
     "output_type": "stream",
     "text": [
      "Requirement already satisfied: numpy in /home/sa/miniconda3/envs/python3.8-example-explainer-v2_2/lib/python3.8/site-packages (1.19.5)\r\n",
      "Requirement already satisfied: requests in /home/sa/miniconda3/envs/python3.8-example-explainer-v2_2/lib/python3.8/site-packages (2.26.0)\r\n",
      "Requirement already satisfied: certifi>=2017.4.17 in /home/sa/miniconda3/envs/python3.8-example-explainer-v2_2/lib/python3.8/site-packages (from requests) (2021.10.8)\r\n",
      "Requirement already satisfied: idna<4,>=2.5 in /home/sa/miniconda3/envs/python3.8-example-explainer-v2_2/lib/python3.8/site-packages (from requests) (3.3)\r\n",
      "Requirement already satisfied: urllib3<1.27,>=1.21.1 in /home/sa/miniconda3/envs/python3.8-example-explainer-v2_2/lib/python3.8/site-packages (from requests) (1.26.7)\r\n",
      "Requirement already satisfied: charset-normalizer~=2.0.0 in /home/sa/miniconda3/envs/python3.8-example-explainer-v2_2/lib/python3.8/site-packages (from requests) (2.0.7)\r\n"
     ]
    }
   ],
   "source": [
    "!pip install numpy requests"
   ]
  },
  {
   "cell_type": "code",
   "execution_count": 14,
   "id": "fbba7464",
   "metadata": {},
   "outputs": [],
   "source": [
    "import numpy as np\n",
    "import requests\n",
    "import json"
   ]
  },
  {
   "cell_type": "code",
   "execution_count": 15,
   "id": "6db9e7dc",
   "metadata": {},
   "outputs": [
    {
     "name": "stdout",
     "output_type": "stream",
     "text": [
      "Anchor: petal length (cm) <= 4.35 AND sepal width (cm) > 3.30 AND 5.10 < sepal length (cm) <= 6.40 AND 0.30 < petal width (cm) <= 1.30\n",
      "Precision: 0.91\n",
      "Coverage: 0.03\n"
     ]
    }
   ],
   "source": [
    "endpoint = \"http://localhost:8003/seldon/seldon/iris-explainer/default/v2/models/iris-default-explainer/infer\"\n",
    "\n",
    "test_data = np.array([[5.964, 4.006, 2.081, 1.031]])\n",
    "\n",
    "inference_request = {\n",
    "    \"parameters\": {\n",
    "        \"content_type\": \"np\"\n",
    "    },\n",
    "    \"inputs\": [\n",
    "        {\n",
    "          \"name\": \"explain\",\n",
    "          \"shape\": test_data.shape,\n",
    "          \"datatype\": \"FP32\",\n",
    "          \"data\": test_data.tolist(),\n",
    "          \"parameters\": {\n",
    "              \"content_type\": \"np\"\n",
    "          }\n",
    "        },\n",
    "    ]\n",
    "}\n",
    "response = requests.post(endpoint, json=inference_request)\n",
    "\n",
    "explanation = json.loads(response.json()[\"outputs\"][0][\"data\"])\n",
    "print('Anchor: %s' % (' AND '.join(explanation[\"data\"][\"anchor\"])))\n",
    "print('Precision: %.2f' % explanation[\"data\"][\"precision\"])\n",
    "print('Coverage: %.2f' % explanation[\"data\"][\"coverage\"])"
   ]
  },
  {
   "cell_type": "code",
   "execution_count": null,
   "id": "8edd6c8c",
   "metadata": {},
   "outputs": [],
   "source": [
    "!kubectl delete -f iris-with-explainer-v2.yaml"
   ]
  },
  {
   "cell_type": "code",
   "execution_count": 18,
   "id": "4696eb2d",
   "metadata": {},
   "outputs": [
    {
     "name": "stdout",
     "output_type": "stream",
     "text": [
      "AnchorTabular\n"
     ]
    }
   ],
   "source": [
    "print(explanation[\"meta\"][\"name\"])"
   ]
  },
  {
   "cell_type": "code",
   "execution_count": null,
   "id": "64b1c4b5",
   "metadata": {},
   "outputs": [],
   "source": []
  }
 ],
 "metadata": {
  "kernelspec": {
   "display_name": "Python 3 (ipykernel)",
   "language": "python",
   "name": "python3"
  },
  "language_info": {
   "codemirror_mode": {
    "name": "ipython",
    "version": 3
   },
   "file_extension": ".py",
   "mimetype": "text/x-python",
   "name": "python",
   "nbconvert_exporter": "python",
   "pygments_lexer": "ipython3",
   "version": "3.8.12"
  }
 },
 "nbformat": 4,
 "nbformat_minor": 5
}
