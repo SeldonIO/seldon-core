{
 "cells": [
  {
   "cell_type": "markdown",
   "id": "d985c392",
   "metadata": {},
   "source": [
    "# Example model explanations with Seldon  and v2 Protocol - Incubating\n",
    "\n",
    "In this notebook we will show examples that illustrate how to explain models using [MLServer] (https://github.com/SeldonIO/MLServer).\n",
    "\n",
    "MLServer is a Python server for your machine learning models through a REST and gRPC interface, fully compliant with KFServing's v2 Dataplane spec. "
   ]
  },
  {
   "cell_type": "markdown",
   "id": "b9da1204",
   "metadata": {},
   "source": [
    "## Running this Notebook\n",
    "\n",
    " This should install the required package dependencies, if not please also install:\n",
    " \n",
    "- install and configure `mc`, follow the relevant section in this [link](https://docs.seldon.io/projects/seldon-core/en/latest/examples/minio_setup.html)\n",
    "\n",
    "- run this jupyter notebook in conda environment\n",
    "```bash\n",
    "$ conda create --name python3.8-example python=3.8 -y\n",
    "$ conda activate python3.8-example\n",
    "$ pip install jupyter\n",
    "$ jupyter notebook\n",
    "```\n",
    "\n",
    "- instal requirements\n",
    " - [alibi package](https://pypi.org/project/alibi/)\n",
    " - `sklearn`"
   ]
  },
  {
   "cell_type": "code",
   "execution_count": 1,
   "id": "cf7c5645",
   "metadata": {},
   "outputs": [
    {
     "name": "stdout",
     "output_type": "stream",
     "text": [
      "Requirement already satisfied: tensorflow==2.5.1 in /home/sa/miniconda3/envs/python3.8-core/lib/python3.8/site-packages (2.5.1)\n",
      "Requirement already satisfied: alibi in /home/sa/miniconda3/envs/python3.8-core/lib/python3.8/site-packages (0.6.1)\n",
      "Requirement already satisfied: mlflow in /home/sa/miniconda3/envs/python3.8-core/lib/python3.8/site-packages (1.21.0)\n",
      "Requirement already satisfied: tensorflow-estimator<2.6.0,>=2.5.0 in /home/sa/miniconda3/envs/python3.8-core/lib/python3.8/site-packages (from tensorflow==2.5.1) (2.5.0)\n",
      "Requirement already satisfied: typing-extensions~=3.7.4 in /home/sa/miniconda3/envs/python3.8-core/lib/python3.8/site-packages (from tensorflow==2.5.1) (3.7.4.3)\n",
      "Requirement already satisfied: google-pasta~=0.2 in /home/sa/miniconda3/envs/python3.8-core/lib/python3.8/site-packages (from tensorflow==2.5.1) (0.2.0)\n",
      "Requirement already satisfied: flatbuffers~=1.12.0 in /home/sa/miniconda3/envs/python3.8-core/lib/python3.8/site-packages (from tensorflow==2.5.1) (1.12)\n",
      "Requirement already satisfied: astunparse~=1.6.3 in /home/sa/miniconda3/envs/python3.8-core/lib/python3.8/site-packages (from tensorflow==2.5.1) (1.6.3)\n",
      "Requirement already satisfied: numpy~=1.19.2 in /home/sa/miniconda3/envs/python3.8-core/lib/python3.8/site-packages (from tensorflow==2.5.1) (1.19.5)\n",
      "Requirement already satisfied: absl-py~=0.10 in /home/sa/miniconda3/envs/python3.8-core/lib/python3.8/site-packages (from tensorflow==2.5.1) (0.15.0)\n",
      "Requirement already satisfied: termcolor~=1.1.0 in /home/sa/miniconda3/envs/python3.8-core/lib/python3.8/site-packages (from tensorflow==2.5.1) (1.1.0)\n",
      "Requirement already satisfied: wheel~=0.35 in /home/sa/miniconda3/envs/python3.8-core/lib/python3.8/site-packages (from tensorflow==2.5.1) (0.37.0)\n",
      "Requirement already satisfied: wrapt~=1.12.1 in /home/sa/miniconda3/envs/python3.8-core/lib/python3.8/site-packages (from tensorflow==2.5.1) (1.12.1)\n",
      "Requirement already satisfied: keras-nightly~=2.5.0.dev in /home/sa/miniconda3/envs/python3.8-core/lib/python3.8/site-packages (from tensorflow==2.5.1) (2.5.0.dev2021032900)\n",
      "Requirement already satisfied: h5py~=3.1.0 in /home/sa/miniconda3/envs/python3.8-core/lib/python3.8/site-packages (from tensorflow==2.5.1) (3.1.0)\n",
      "Requirement already satisfied: tensorboard~=2.5 in /home/sa/miniconda3/envs/python3.8-core/lib/python3.8/site-packages (from tensorflow==2.5.1) (2.7.0)\n",
      "Requirement already satisfied: keras-preprocessing~=1.1.2 in /home/sa/miniconda3/envs/python3.8-core/lib/python3.8/site-packages (from tensorflow==2.5.1) (1.1.2)\n",
      "Requirement already satisfied: gast==0.4.0 in /home/sa/miniconda3/envs/python3.8-core/lib/python3.8/site-packages (from tensorflow==2.5.1) (0.4.0)\n",
      "Requirement already satisfied: six~=1.15.0 in /home/sa/miniconda3/envs/python3.8-core/lib/python3.8/site-packages (from tensorflow==2.5.1) (1.15.0)\n",
      "Requirement already satisfied: grpcio~=1.34.0 in /home/sa/miniconda3/envs/python3.8-core/lib/python3.8/site-packages (from tensorflow==2.5.1) (1.34.1)\n",
      "Requirement already satisfied: opt-einsum~=3.3.0 in /home/sa/miniconda3/envs/python3.8-core/lib/python3.8/site-packages (from tensorflow==2.5.1) (3.3.0)\n",
      "Requirement already satisfied: protobuf>=3.9.2 in /home/sa/miniconda3/envs/python3.8-core/lib/python3.8/site-packages (from tensorflow==2.5.1) (3.19.1)\n",
      "Requirement already satisfied: spacy[lookups]<4.0.0,>=2.0.0 in /home/sa/miniconda3/envs/python3.8-core/lib/python3.8/site-packages (from alibi) (3.1.4)\n",
      "Requirement already satisfied: transformers<5.0.0,>=4.7.0 in /home/sa/miniconda3/envs/python3.8-core/lib/python3.8/site-packages (from alibi) (4.12.0)\n",
      "Requirement already satisfied: matplotlib<4.0.0,>=3.0.0 in /home/sa/miniconda3/envs/python3.8-core/lib/python3.8/site-packages (from alibi) (3.4.3)\n",
      "Requirement already satisfied: dill<0.4.0,>=0.3.0 in /home/sa/miniconda3/envs/python3.8-core/lib/python3.8/site-packages (from alibi) (0.3.4)\n",
      "Requirement already satisfied: scipy<2.0.0,>=1.1.0 in /home/sa/miniconda3/envs/python3.8-core/lib/python3.8/site-packages (from alibi) (1.7.1)\n",
      "Requirement already satisfied: Pillow<9.0,>=5.4.1 in /home/sa/miniconda3/envs/python3.8-core/lib/python3.8/site-packages (from alibi) (8.4.0)\n",
      "Requirement already satisfied: scikit-learn<0.25.0,>=0.20.2 in /home/sa/miniconda3/envs/python3.8-core/lib/python3.8/site-packages (from alibi) (0.24.2)\n",
      "Requirement already satisfied: pandas<2.0.0,>=0.23.3 in /home/sa/miniconda3/envs/python3.8-core/lib/python3.8/site-packages (from alibi) (1.3.4)\n",
      "Requirement already satisfied: tqdm<5.0.0,>=4.28.1 in /home/sa/miniconda3/envs/python3.8-core/lib/python3.8/site-packages (from alibi) (4.62.3)\n",
      "Requirement already satisfied: scikit-image!=0.17.1,<0.19,>=0.14.2 in /home/sa/miniconda3/envs/python3.8-core/lib/python3.8/site-packages (from alibi) (0.18.3)\n",
      "Requirement already satisfied: requests<3.0.0,>=2.21.0 in /home/sa/miniconda3/envs/python3.8-core/lib/python3.8/site-packages (from alibi) (2.26.0)\n",
      "Requirement already satisfied: attrs<22.0.0,>=19.2.0 in /home/sa/miniconda3/envs/python3.8-core/lib/python3.8/site-packages (from alibi) (21.2.0)\n",
      "Requirement already satisfied: gunicorn in /home/sa/miniconda3/envs/python3.8-core/lib/python3.8/site-packages (from mlflow) (20.1.0)\n",
      "Requirement already satisfied: click>=7.0 in /home/sa/miniconda3/envs/python3.8-core/lib/python3.8/site-packages (from mlflow) (8.0.3)\n",
      "Requirement already satisfied: querystring-parser in /home/sa/miniconda3/envs/python3.8-core/lib/python3.8/site-packages (from mlflow) (1.2.4)\n",
      "Requirement already satisfied: importlib-metadata!=4.7.0,>=3.7.0 in /home/sa/miniconda3/envs/python3.8-core/lib/python3.8/site-packages (from mlflow) (4.8.1)\n",
      "Requirement already satisfied: databricks-cli>=0.8.7 in /home/sa/miniconda3/envs/python3.8-core/lib/python3.8/site-packages (from mlflow) (0.16.2)\n",
      "Requirement already satisfied: prometheus-flask-exporter in /home/sa/miniconda3/envs/python3.8-core/lib/python3.8/site-packages (from mlflow) (0.18.5)\n",
      "Requirement already satisfied: pyyaml>=5.1 in /home/sa/miniconda3/envs/python3.8-core/lib/python3.8/site-packages (from mlflow) (6.0)\n",
      "Requirement already satisfied: packaging in /home/sa/miniconda3/envs/python3.8-core/lib/python3.8/site-packages (from mlflow) (21.0)\n",
      "Requirement already satisfied: docker>=4.0.0 in /home/sa/miniconda3/envs/python3.8-core/lib/python3.8/site-packages (from mlflow) (5.0.3)\n",
      "Requirement already satisfied: pytz in /home/sa/miniconda3/envs/python3.8-core/lib/python3.8/site-packages (from mlflow) (2021.3)\n",
      "Requirement already satisfied: sqlparse>=0.3.1 in /home/sa/miniconda3/envs/python3.8-core/lib/python3.8/site-packages (from mlflow) (0.4.2)\n",
      "Requirement already satisfied: Flask in /home/sa/miniconda3/envs/python3.8-core/lib/python3.8/site-packages (from mlflow) (2.0.2)\n",
      "Requirement already satisfied: gitpython>=2.1.0 in /home/sa/miniconda3/envs/python3.8-core/lib/python3.8/site-packages (from mlflow) (3.1.24)\n",
      "Requirement already satisfied: cloudpickle in /home/sa/miniconda3/envs/python3.8-core/lib/python3.8/site-packages (from mlflow) (2.0.0)\n",
      "Requirement already satisfied: alembic<=1.4.1 in /home/sa/miniconda3/envs/python3.8-core/lib/python3.8/site-packages (from mlflow) (1.4.1)\n",
      "Requirement already satisfied: sqlalchemy in /home/sa/miniconda3/envs/python3.8-core/lib/python3.8/site-packages (from mlflow) (1.4.26)\n",
      "Requirement already satisfied: entrypoints in /home/sa/miniconda3/envs/python3.8-core/lib/python3.8/site-packages (from mlflow) (0.3)\n",
      "Requirement already satisfied: python-dateutil in /home/sa/miniconda3/envs/python3.8-core/lib/python3.8/site-packages (from alembic<=1.4.1->mlflow) (2.8.2)\n",
      "Requirement already satisfied: python-editor>=0.3 in /home/sa/miniconda3/envs/python3.8-core/lib/python3.8/site-packages (from alembic<=1.4.1->mlflow) (1.0.4)\n",
      "Requirement already satisfied: Mako in /home/sa/miniconda3/envs/python3.8-core/lib/python3.8/site-packages (from alembic<=1.4.1->mlflow) (1.1.5)\n",
      "Requirement already satisfied: tabulate>=0.7.7 in /home/sa/miniconda3/envs/python3.8-core/lib/python3.8/site-packages (from databricks-cli>=0.8.7->mlflow) (0.8.9)\n",
      "Requirement already satisfied: websocket-client>=0.32.0 in /home/sa/miniconda3/envs/python3.8-core/lib/python3.8/site-packages (from docker>=4.0.0->mlflow) (1.2.1)\n",
      "Requirement already satisfied: gitdb<5,>=4.0.1 in /home/sa/miniconda3/envs/python3.8-core/lib/python3.8/site-packages (from gitpython>=2.1.0->mlflow) (4.0.9)\n",
      "Requirement already satisfied: smmap<6,>=3.0.1 in /home/sa/miniconda3/envs/python3.8-core/lib/python3.8/site-packages (from gitdb<5,>=4.0.1->gitpython>=2.1.0->mlflow) (5.0.0)\n"
     ]
    },
    {
     "name": "stdout",
     "output_type": "stream",
     "text": [
      "Requirement already satisfied: zipp>=0.5 in /home/sa/miniconda3/envs/python3.8-core/lib/python3.8/site-packages (from importlib-metadata!=4.7.0,>=3.7.0->mlflow) (3.6.0)\n",
      "Requirement already satisfied: kiwisolver>=1.0.1 in /home/sa/miniconda3/envs/python3.8-core/lib/python3.8/site-packages (from matplotlib<4.0.0,>=3.0.0->alibi) (1.3.2)\n",
      "Requirement already satisfied: cycler>=0.10 in /home/sa/miniconda3/envs/python3.8-core/lib/python3.8/site-packages (from matplotlib<4.0.0,>=3.0.0->alibi) (0.11.0)\n",
      "Requirement already satisfied: pyparsing>=2.2.1 in /home/sa/miniconda3/envs/python3.8-core/lib/python3.8/site-packages (from matplotlib<4.0.0,>=3.0.0->alibi) (2.4.7)\n",
      "Requirement already satisfied: charset-normalizer~=2.0.0 in /home/sa/miniconda3/envs/python3.8-core/lib/python3.8/site-packages (from requests<3.0.0,>=2.21.0->alibi) (2.0.7)\n",
      "Requirement already satisfied: idna<4,>=2.5 in /home/sa/miniconda3/envs/python3.8-core/lib/python3.8/site-packages (from requests<3.0.0,>=2.21.0->alibi) (3.3)\n",
      "Requirement already satisfied: certifi>=2017.4.17 in /home/sa/miniconda3/envs/python3.8-core/lib/python3.8/site-packages (from requests<3.0.0,>=2.21.0->alibi) (2021.10.8)\n",
      "Requirement already satisfied: urllib3<1.27,>=1.21.1 in /home/sa/miniconda3/envs/python3.8-core/lib/python3.8/site-packages (from requests<3.0.0,>=2.21.0->alibi) (1.26.7)\n",
      "Requirement already satisfied: tifffile>=2019.7.26 in /home/sa/miniconda3/envs/python3.8-core/lib/python3.8/site-packages (from scikit-image!=0.17.1,<0.19,>=0.14.2->alibi) (2021.10.12)\n",
      "Requirement already satisfied: networkx>=2.0 in /home/sa/miniconda3/envs/python3.8-core/lib/python3.8/site-packages (from scikit-image!=0.17.1,<0.19,>=0.14.2->alibi) (2.6.3)\n",
      "Requirement already satisfied: imageio>=2.3.0 in /home/sa/miniconda3/envs/python3.8-core/lib/python3.8/site-packages (from scikit-image!=0.17.1,<0.19,>=0.14.2->alibi) (2.10.1)\n",
      "Requirement already satisfied: PyWavelets>=1.1.1 in /home/sa/miniconda3/envs/python3.8-core/lib/python3.8/site-packages (from scikit-image!=0.17.1,<0.19,>=0.14.2->alibi) (1.1.1)\n",
      "Requirement already satisfied: joblib>=0.11 in /home/sa/miniconda3/envs/python3.8-core/lib/python3.8/site-packages (from scikit-learn<0.25.0,>=0.20.2->alibi) (1.1.0)\n",
      "Requirement already satisfied: threadpoolctl>=2.0.0 in /home/sa/miniconda3/envs/python3.8-core/lib/python3.8/site-packages (from scikit-learn<0.25.0,>=0.20.2->alibi) (3.0.0)\n",
      "Requirement already satisfied: thinc<8.1.0,>=8.0.12 in /home/sa/miniconda3/envs/python3.8-core/lib/python3.8/site-packages (from spacy[lookups]<4.0.0,>=2.0.0->alibi) (8.0.12)\n",
      "Requirement already satisfied: srsly<3.0.0,>=2.4.1 in /home/sa/miniconda3/envs/python3.8-core/lib/python3.8/site-packages (from spacy[lookups]<4.0.0,>=2.0.0->alibi) (2.4.2)\n",
      "Requirement already satisfied: catalogue<2.1.0,>=2.0.6 in /home/sa/miniconda3/envs/python3.8-core/lib/python3.8/site-packages (from spacy[lookups]<4.0.0,>=2.0.0->alibi) (2.0.6)\n",
      "Requirement already satisfied: murmurhash<1.1.0,>=0.28.0 in /home/sa/miniconda3/envs/python3.8-core/lib/python3.8/site-packages (from spacy[lookups]<4.0.0,>=2.0.0->alibi) (1.0.6)\n",
      "Requirement already satisfied: wasabi<1.1.0,>=0.8.1 in /home/sa/miniconda3/envs/python3.8-core/lib/python3.8/site-packages (from spacy[lookups]<4.0.0,>=2.0.0->alibi) (0.8.2)\n",
      "Requirement already satisfied: pathy>=0.3.5 in /home/sa/miniconda3/envs/python3.8-core/lib/python3.8/site-packages (from spacy[lookups]<4.0.0,>=2.0.0->alibi) (0.6.1)\n",
      "Requirement already satisfied: blis<0.8.0,>=0.4.0 in /home/sa/miniconda3/envs/python3.8-core/lib/python3.8/site-packages (from spacy[lookups]<4.0.0,>=2.0.0->alibi) (0.7.5)\n",
      "Requirement already satisfied: pydantic!=1.8,!=1.8.1,<1.9.0,>=1.7.4 in /home/sa/miniconda3/envs/python3.8-core/lib/python3.8/site-packages (from spacy[lookups]<4.0.0,>=2.0.0->alibi) (1.8.2)\n",
      "Requirement already satisfied: spacy-legacy<3.1.0,>=3.0.8 in /home/sa/miniconda3/envs/python3.8-core/lib/python3.8/site-packages (from spacy[lookups]<4.0.0,>=2.0.0->alibi) (3.0.8)\n",
      "Requirement already satisfied: preshed<3.1.0,>=3.0.2 in /home/sa/miniconda3/envs/python3.8-core/lib/python3.8/site-packages (from spacy[lookups]<4.0.0,>=2.0.0->alibi) (3.0.6)\n",
      "Requirement already satisfied: setuptools in /home/sa/miniconda3/envs/python3.8-core/lib/python3.8/site-packages (from spacy[lookups]<4.0.0,>=2.0.0->alibi) (58.0.4)\n",
      "Requirement already satisfied: cymem<2.1.0,>=2.0.2 in /home/sa/miniconda3/envs/python3.8-core/lib/python3.8/site-packages (from spacy[lookups]<4.0.0,>=2.0.0->alibi) (2.0.6)\n",
      "Requirement already satisfied: typer<0.5.0,>=0.3.0 in /home/sa/miniconda3/envs/python3.8-core/lib/python3.8/site-packages (from spacy[lookups]<4.0.0,>=2.0.0->alibi) (0.4.0)\n",
      "Requirement already satisfied: jinja2 in /home/sa/miniconda3/envs/python3.8-core/lib/python3.8/site-packages (from spacy[lookups]<4.0.0,>=2.0.0->alibi) (3.0.2)\n",
      "Requirement already satisfied: spacy-lookups-data<1.1.0,>=1.0.2 in /home/sa/miniconda3/envs/python3.8-core/lib/python3.8/site-packages (from spacy[lookups]<4.0.0,>=2.0.0->alibi) (1.0.3)\n",
      "Requirement already satisfied: smart-open<6.0.0,>=5.0.0 in /home/sa/miniconda3/envs/python3.8-core/lib/python3.8/site-packages (from pathy>=0.3.5->spacy[lookups]<4.0.0,>=2.0.0->alibi) (5.2.1)\n",
      "Requirement already satisfied: greenlet!=0.4.17 in /home/sa/miniconda3/envs/python3.8-core/lib/python3.8/site-packages (from sqlalchemy->mlflow) (1.1.2)\n",
      "Requirement already satisfied: tensorboard-plugin-wit>=1.6.0 in /home/sa/miniconda3/envs/python3.8-core/lib/python3.8/site-packages (from tensorboard~=2.5->tensorflow==2.5.1) (1.8.0)\n",
      "Requirement already satisfied: google-auth-oauthlib<0.5,>=0.4.1 in /home/sa/miniconda3/envs/python3.8-core/lib/python3.8/site-packages (from tensorboard~=2.5->tensorflow==2.5.1) (0.4.6)\n",
      "Requirement already satisfied: werkzeug>=0.11.15 in /home/sa/miniconda3/envs/python3.8-core/lib/python3.8/site-packages (from tensorboard~=2.5->tensorflow==2.5.1) (2.0.2)\n",
      "Requirement already satisfied: google-auth<3,>=1.6.3 in /home/sa/miniconda3/envs/python3.8-core/lib/python3.8/site-packages (from tensorboard~=2.5->tensorflow==2.5.1) (2.3.0)\n",
      "Requirement already satisfied: tensorboard-data-server<0.7.0,>=0.6.0 in /home/sa/miniconda3/envs/python3.8-core/lib/python3.8/site-packages (from tensorboard~=2.5->tensorflow==2.5.1) (0.6.1)\n",
      "Requirement already satisfied: markdown>=2.6.8 in /home/sa/miniconda3/envs/python3.8-core/lib/python3.8/site-packages (from tensorboard~=2.5->tensorflow==2.5.1) (3.3.4)\n",
      "Requirement already satisfied: rsa<5,>=3.1.4 in /home/sa/miniconda3/envs/python3.8-core/lib/python3.8/site-packages (from google-auth<3,>=1.6.3->tensorboard~=2.5->tensorflow==2.5.1) (4.7.2)\n",
      "Requirement already satisfied: cachetools<5.0,>=2.0.0 in /home/sa/miniconda3/envs/python3.8-core/lib/python3.8/site-packages (from google-auth<3,>=1.6.3->tensorboard~=2.5->tensorflow==2.5.1) (4.2.4)\n",
      "Requirement already satisfied: pyasn1-modules>=0.2.1 in /home/sa/miniconda3/envs/python3.8-core/lib/python3.8/site-packages (from google-auth<3,>=1.6.3->tensorboard~=2.5->tensorflow==2.5.1) (0.2.8)\n",
      "Requirement already satisfied: requests-oauthlib>=0.7.0 in /home/sa/miniconda3/envs/python3.8-core/lib/python3.8/site-packages (from google-auth-oauthlib<0.5,>=0.4.1->tensorboard~=2.5->tensorflow==2.5.1) (1.3.0)\n",
      "Requirement already satisfied: pyasn1<0.5.0,>=0.4.6 in /home/sa/miniconda3/envs/python3.8-core/lib/python3.8/site-packages (from pyasn1-modules>=0.2.1->google-auth<3,>=1.6.3->tensorboard~=2.5->tensorflow==2.5.1) (0.4.8)\n",
      "Requirement already satisfied: oauthlib>=3.0.0 in /home/sa/miniconda3/envs/python3.8-core/lib/python3.8/site-packages (from requests-oauthlib>=0.7.0->google-auth-oauthlib<0.5,>=0.4.1->tensorboard~=2.5->tensorflow==2.5.1) (3.1.1)\n",
      "Requirement already satisfied: regex!=2019.12.17 in /home/sa/miniconda3/envs/python3.8-core/lib/python3.8/site-packages (from transformers<5.0.0,>=4.7.0->alibi) (2021.10.23)\n",
      "Requirement already satisfied: filelock in /home/sa/miniconda3/envs/python3.8-core/lib/python3.8/site-packages (from transformers<5.0.0,>=4.7.0->alibi) (3.3.2)\n",
      "Requirement already satisfied: huggingface-hub>=0.0.17 in /home/sa/miniconda3/envs/python3.8-core/lib/python3.8/site-packages (from transformers<5.0.0,>=4.7.0->alibi) (0.0.19)\n",
      "Requirement already satisfied: sacremoses in /home/sa/miniconda3/envs/python3.8-core/lib/python3.8/site-packages (from transformers<5.0.0,>=4.7.0->alibi) (0.0.46)\n",
      "Requirement already satisfied: tokenizers<0.11,>=0.10.1 in /home/sa/miniconda3/envs/python3.8-core/lib/python3.8/site-packages (from transformers<5.0.0,>=4.7.0->alibi) (0.10.3)\n"
     ]
    },
    {
     "name": "stdout",
     "output_type": "stream",
     "text": [
      "Requirement already satisfied: itsdangerous>=2.0 in /home/sa/miniconda3/envs/python3.8-core/lib/python3.8/site-packages (from Flask->mlflow) (2.0.1)\n",
      "Requirement already satisfied: MarkupSafe>=2.0 in /home/sa/miniconda3/envs/python3.8-core/lib/python3.8/site-packages (from jinja2->spacy[lookups]<4.0.0,>=2.0.0->alibi) (2.0.1)\n",
      "Requirement already satisfied: prometheus-client in /home/sa/miniconda3/envs/python3.8-core/lib/python3.8/site-packages (from prometheus-flask-exporter->mlflow) (0.11.0)\n",
      "Note: you may need to restart the kernel to use updated packages.\n"
     ]
    }
   ],
   "source": [
    "pip install sklearn alibi"
   ]
  },
  {
   "cell_type": "markdown",
   "id": "591c69b6",
   "metadata": {},
   "source": [
    "## Setup Seldon Core\n",
    "\n",
    "Follow the instructions to [Setup Cluster](https://docs.seldon.io/projects/seldon-core/en/latest/examples/seldon_core_setup.html#Setup-Cluster) with [Ambassador Ingress](https://docs.seldon.io/projects/seldon-core/en/latest/examples/seldon_core_setup.html#Ambassador) and [Install Seldon Core](https://docs.seldon.io/projects/seldon-core/en/latest/examples/seldon_core_setup.html#Install-Seldon-Core).\n",
    "\n",
    " Then port-forward to that ingress on localhost:8003 in a separate terminal either with:\n",
    "\n",
    " * Ambassador: `kubectl port-forward $(kubectl get pods -n seldon -l app.kubernetes.io/name=ambassador -o jsonpath='{.items[0].metadata.name}') -n seldon 8003:8080`\n",
    " * Istio: `kubectl port-forward $(kubectl get pods -l istio=ingressgateway -n istio-system -o jsonpath='{.items[0].metadata.name}') -n istio-system 8003:8080`\n",
    "\n",
    "### Setup MinIO\n",
    "\n",
    "Use the provided [notebook](https://docs.seldon.io/projects/seldon-core/en/latest/examples/minio_setup.html) to install Minio in your cluster and configure `mc` CLI tool. \n",
    "Instructions [also online](https://docs.seldon.io/projects/seldon-core/en/latest/examples/minio_setup.html)."
   ]
  },
  {
   "cell_type": "markdown",
   "id": "7f4a7085",
   "metadata": {},
   "source": [
    "## Train `iris` model using `sklearn`"
   ]
  },
  {
   "cell_type": "code",
   "execution_count": 38,
   "id": "41bf4ce1",
   "metadata": {},
   "outputs": [],
   "source": [
    "from sklearn.datasets import load_iris\n",
    "from sklearn.svm import SVC\n",
    "from joblib import dump\n",
    "import os\n",
    "import shutil"
   ]
  },
  {
   "cell_type": "markdown",
   "id": "d658769e",
   "metadata": {},
   "source": [
    "### Train model"
   ]
  },
  {
   "cell_type": "code",
   "execution_count": 32,
   "id": "029ba0eb",
   "metadata": {},
   "outputs": [
    {
     "data": {
      "text/plain": [
       "SVC(kernel='linear')"
      ]
     },
     "execution_count": 32,
     "metadata": {},
     "output_type": "execute_result"
    }
   ],
   "source": [
    "iris_data = load_iris()\n",
    "\n",
    "clf = SVC()\n",
    "clf.set_params(kernel='linear').fit(iris_data.data, iris_data.target)"
   ]
  },
  {
   "cell_type": "markdown",
   "id": "719842c1",
   "metadata": {},
   "source": [
    "### Save model"
   ]
  },
  {
   "cell_type": "code",
   "execution_count": 40,
   "id": "8757d345",
   "metadata": {},
   "outputs": [
    {
     "data": {
      "text/plain": [
       "['/tmp/sklearn_iris/model.joblib']"
      ]
     },
     "execution_count": 40,
     "metadata": {},
     "output_type": "execute_result"
    }
   ],
   "source": [
    "modelpath = \"/tmp/sklearn_iris\"\n",
    "if os.path.exists(modelpath):\n",
    "    shutil.rmtree(modelpath)\n",
    "os.makedirs(modelpath)\n",
    "modelfile = os.path.join(modelpath, \"model.joblib\")\n",
    "\n",
    "dump(clf, modelfile) "
   ]
  },
  {
   "cell_type": "markdown",
   "id": "d67818f2",
   "metadata": {},
   "source": [
    "## Create `AnchorTabular` explainer "
   ]
  },
  {
   "cell_type": "markdown",
   "id": "c369a479",
   "metadata": {},
   "source": [
    "### Create explainer artifact"
   ]
  },
  {
   "cell_type": "code",
   "execution_count": 34,
   "id": "2dcaf4c0",
   "metadata": {},
   "outputs": [
    {
     "data": {
      "text/plain": [
       "AnchorTabular(meta={\n",
       "  'name': 'AnchorTabular',\n",
       "  'type': ['blackbox'],\n",
       "  'explanations': ['local'],\n",
       "  'params': {'seed': None, 'disc_perc': (25, 50, 75)}}\n",
       ")"
      ]
     },
     "execution_count": 34,
     "metadata": {},
     "output_type": "execute_result"
    }
   ],
   "source": [
    "from alibi.explainers import AnchorTabular\n",
    "\n",
    "explainer = AnchorTabular(clf.predict, feature_names=iris_data.feature_names)\n",
    "explainer.fit(iris_data.data, disc_perc=(25, 50, 75))"
   ]
  },
  {
   "cell_type": "markdown",
   "id": "bcb9338e",
   "metadata": {},
   "source": [
    "### Save explainer"
   ]
  },
  {
   "cell_type": "code",
   "execution_count": 35,
   "id": "c854f554",
   "metadata": {},
   "outputs": [],
   "source": [
    "explainerpath = \"/tmp/iris_anchor_text_explainer\"\n",
    "explainer.save(explainerpath)"
   ]
  },
  {
   "cell_type": "markdown",
   "id": "20b490f9",
   "metadata": {},
   "source": [
    "## Install dependencies to pack the enviornment for deployment"
   ]
  },
  {
   "cell_type": "code",
   "execution_count": 36,
   "id": "e2bd4524",
   "metadata": {},
   "outputs": [
    {
     "name": "stdout",
     "output_type": "stream",
     "text": [
      "Collecting conda-pack\n",
      "  Using cached conda_pack-0.6.0-py2.py3-none-any.whl\n",
      "Requirement already satisfied: mlserver==0.6.0.dev0 in /home/sa/code/MLServer (0.6.0.dev0)\n",
      "Requirement already satisfied: mlserver-alibi-explain==0.6.0.dev0 in /home/sa/code/MLServer/runtimes/alibi-explain (0.6.0.dev0)\n",
      "Requirement already satisfied: click in /home/sa/miniconda3/envs/python3.8-core/lib/python3.8/site-packages (from mlserver==0.6.0.dev0) (8.0.3)\n",
      "Requirement already satisfied: fastapi==0.68.2 in /home/sa/miniconda3/envs/python3.8-core/lib/python3.8/site-packages (from mlserver==0.6.0.dev0) (0.68.2)\n",
      "Requirement already satisfied: grpcio in /home/sa/miniconda3/envs/python3.8-core/lib/python3.8/site-packages (from mlserver==0.6.0.dev0) (1.34.1)\n",
      "Requirement already satisfied: numpy in /home/sa/miniconda3/envs/python3.8-core/lib/python3.8/site-packages (from mlserver==0.6.0.dev0) (1.19.5)\n",
      "Requirement already satisfied: pandas in /home/sa/miniconda3/envs/python3.8-core/lib/python3.8/site-packages (from mlserver==0.6.0.dev0) (1.3.4)\n",
      "Requirement already satisfied: protobuf in /home/sa/miniconda3/envs/python3.8-core/lib/python3.8/site-packages (from mlserver==0.6.0.dev0) (3.19.1)\n",
      "Requirement already satisfied: uvicorn in /home/sa/miniconda3/envs/python3.8-core/lib/python3.8/site-packages (from mlserver==0.6.0.dev0) (0.15.0)\n",
      "Requirement already satisfied: alibi[shap] in /home/sa/miniconda3/envs/python3.8-core/lib/python3.8/site-packages (from mlserver-alibi-explain==0.6.0.dev0) (0.6.1)\n",
      "Requirement already satisfied: pydantic!=1.7,!=1.7.1,!=1.7.2,!=1.7.3,!=1.8,!=1.8.1,<2.0.0,>=1.6.2 in /home/sa/miniconda3/envs/python3.8-core/lib/python3.8/site-packages (from fastapi==0.68.2->mlserver==0.6.0.dev0) (1.8.2)\n",
      "Requirement already satisfied: starlette==0.14.2 in /home/sa/miniconda3/envs/python3.8-core/lib/python3.8/site-packages (from fastapi==0.68.2->mlserver==0.6.0.dev0) (0.14.2)\n",
      "Requirement already satisfied: setuptools in /home/sa/miniconda3/envs/python3.8-core/lib/python3.8/site-packages (from conda-pack) (58.0.4)\n",
      "Requirement already satisfied: typing-extensions>=3.7.4.3 in /home/sa/miniconda3/envs/python3.8-core/lib/python3.8/site-packages (from pydantic!=1.7,!=1.7.1,!=1.7.2,!=1.7.3,!=1.8,!=1.8.1,<2.0.0,>=1.6.2->fastapi==0.68.2->mlserver==0.6.0.dev0) (3.7.4.3)\n",
      "Requirement already satisfied: Pillow<9.0,>=5.4.1 in /home/sa/miniconda3/envs/python3.8-core/lib/python3.8/site-packages (from alibi[shap]->mlserver-alibi-explain==0.6.0.dev0) (8.4.0)\n",
      "Requirement already satisfied: scikit-learn<0.25.0,>=0.20.2 in /home/sa/miniconda3/envs/python3.8-core/lib/python3.8/site-packages (from alibi[shap]->mlserver-alibi-explain==0.6.0.dev0) (0.24.2)\n",
      "Requirement already satisfied: attrs<22.0.0,>=19.2.0 in /home/sa/miniconda3/envs/python3.8-core/lib/python3.8/site-packages (from alibi[shap]->mlserver-alibi-explain==0.6.0.dev0) (21.2.0)\n",
      "Requirement already satisfied: transformers<5.0.0,>=4.7.0 in /home/sa/miniconda3/envs/python3.8-core/lib/python3.8/site-packages (from alibi[shap]->mlserver-alibi-explain==0.6.0.dev0) (4.12.0)\n",
      "Requirement already satisfied: tensorflow<2.7.0,>=2.0.0 in /home/sa/miniconda3/envs/python3.8-core/lib/python3.8/site-packages (from alibi[shap]->mlserver-alibi-explain==0.6.0.dev0) (2.5.1)\n",
      "Requirement already satisfied: requests<3.0.0,>=2.21.0 in /home/sa/miniconda3/envs/python3.8-core/lib/python3.8/site-packages (from alibi[shap]->mlserver-alibi-explain==0.6.0.dev0) (2.26.0)\n",
      "Requirement already satisfied: spacy[lookups]<4.0.0,>=2.0.0 in /home/sa/miniconda3/envs/python3.8-core/lib/python3.8/site-packages (from alibi[shap]->mlserver-alibi-explain==0.6.0.dev0) (3.1.4)\n",
      "Requirement already satisfied: scipy<2.0.0,>=1.1.0 in /home/sa/miniconda3/envs/python3.8-core/lib/python3.8/site-packages (from alibi[shap]->mlserver-alibi-explain==0.6.0.dev0) (1.7.1)\n",
      "Requirement already satisfied: matplotlib<4.0.0,>=3.0.0 in /home/sa/miniconda3/envs/python3.8-core/lib/python3.8/site-packages (from alibi[shap]->mlserver-alibi-explain==0.6.0.dev0) (3.4.3)\n",
      "Requirement already satisfied: dill<0.4.0,>=0.3.0 in /home/sa/miniconda3/envs/python3.8-core/lib/python3.8/site-packages (from alibi[shap]->mlserver-alibi-explain==0.6.0.dev0) (0.3.4)\n",
      "Requirement already satisfied: tqdm<5.0.0,>=4.28.1 in /home/sa/miniconda3/envs/python3.8-core/lib/python3.8/site-packages (from alibi[shap]->mlserver-alibi-explain==0.6.0.dev0) (4.62.3)\n",
      "Requirement already satisfied: scikit-image!=0.17.1,<0.19,>=0.14.2 in /home/sa/miniconda3/envs/python3.8-core/lib/python3.8/site-packages (from alibi[shap]->mlserver-alibi-explain==0.6.0.dev0) (0.18.3)\n",
      "Requirement already satisfied: shap!=0.38.1,<0.40.0,>=0.36.0 in /home/sa/miniconda3/envs/python3.8-core/lib/python3.8/site-packages (from alibi[shap]->mlserver-alibi-explain==0.6.0.dev0) (0.39.0)\n",
      "Requirement already satisfied: numba!=0.54.0 in /home/sa/miniconda3/envs/python3.8-core/lib/python3.8/site-packages (from alibi[shap]->mlserver-alibi-explain==0.6.0.dev0) (0.54.1)\n",
      "Requirement already satisfied: python-dateutil>=2.7 in /home/sa/miniconda3/envs/python3.8-core/lib/python3.8/site-packages (from matplotlib<4.0.0,>=3.0.0->alibi[shap]->mlserver-alibi-explain==0.6.0.dev0) (2.8.2)\n",
      "Requirement already satisfied: pyparsing>=2.2.1 in /home/sa/miniconda3/envs/python3.8-core/lib/python3.8/site-packages (from matplotlib<4.0.0,>=3.0.0->alibi[shap]->mlserver-alibi-explain==0.6.0.dev0) (2.4.7)\n",
      "Requirement already satisfied: cycler>=0.10 in /home/sa/miniconda3/envs/python3.8-core/lib/python3.8/site-packages (from matplotlib<4.0.0,>=3.0.0->alibi[shap]->mlserver-alibi-explain==0.6.0.dev0) (0.11.0)\n",
      "Requirement already satisfied: kiwisolver>=1.0.1 in /home/sa/miniconda3/envs/python3.8-core/lib/python3.8/site-packages (from matplotlib<4.0.0,>=3.0.0->alibi[shap]->mlserver-alibi-explain==0.6.0.dev0) (1.3.2)\n",
      "Requirement already satisfied: llvmlite<0.38,>=0.37.0rc1 in /home/sa/miniconda3/envs/python3.8-core/lib/python3.8/site-packages (from numba!=0.54.0->alibi[shap]->mlserver-alibi-explain==0.6.0.dev0) (0.37.0)\n",
      "Requirement already satisfied: pytz>=2017.3 in /home/sa/miniconda3/envs/python3.8-core/lib/python3.8/site-packages (from pandas->mlserver==0.6.0.dev0) (2021.3)\n",
      "Requirement already satisfied: six>=1.5 in /home/sa/miniconda3/envs/python3.8-core/lib/python3.8/site-packages (from python-dateutil>=2.7->matplotlib<4.0.0,>=3.0.0->alibi[shap]->mlserver-alibi-explain==0.6.0.dev0) (1.15.0)\n",
      "Requirement already satisfied: charset-normalizer~=2.0.0 in /home/sa/miniconda3/envs/python3.8-core/lib/python3.8/site-packages (from requests<3.0.0,>=2.21.0->alibi[shap]->mlserver-alibi-explain==0.6.0.dev0) (2.0.7)\n",
      "Requirement already satisfied: certifi>=2017.4.17 in /home/sa/miniconda3/envs/python3.8-core/lib/python3.8/site-packages (from requests<3.0.0,>=2.21.0->alibi[shap]->mlserver-alibi-explain==0.6.0.dev0) (2021.10.8)\n",
      "Requirement already satisfied: urllib3<1.27,>=1.21.1 in /home/sa/miniconda3/envs/python3.8-core/lib/python3.8/site-packages (from requests<3.0.0,>=2.21.0->alibi[shap]->mlserver-alibi-explain==0.6.0.dev0) (1.26.7)\n",
      "Requirement already satisfied: idna<4,>=2.5 in /home/sa/miniconda3/envs/python3.8-core/lib/python3.8/site-packages (from requests<3.0.0,>=2.21.0->alibi[shap]->mlserver-alibi-explain==0.6.0.dev0) (3.3)\n",
      "Requirement already satisfied: PyWavelets>=1.1.1 in /home/sa/miniconda3/envs/python3.8-core/lib/python3.8/site-packages (from scikit-image!=0.17.1,<0.19,>=0.14.2->alibi[shap]->mlserver-alibi-explain==0.6.0.dev0) (1.1.1)\n",
      "Requirement already satisfied: imageio>=2.3.0 in /home/sa/miniconda3/envs/python3.8-core/lib/python3.8/site-packages (from scikit-image!=0.17.1,<0.19,>=0.14.2->alibi[shap]->mlserver-alibi-explain==0.6.0.dev0) (2.10.1)\n",
      "Requirement already satisfied: tifffile>=2019.7.26 in /home/sa/miniconda3/envs/python3.8-core/lib/python3.8/site-packages (from scikit-image!=0.17.1,<0.19,>=0.14.2->alibi[shap]->mlserver-alibi-explain==0.6.0.dev0) (2021.10.12)\n",
      "Requirement already satisfied: networkx>=2.0 in /home/sa/miniconda3/envs/python3.8-core/lib/python3.8/site-packages (from scikit-image!=0.17.1,<0.19,>=0.14.2->alibi[shap]->mlserver-alibi-explain==0.6.0.dev0) (2.6.3)\n",
      "Requirement already satisfied: threadpoolctl>=2.0.0 in /home/sa/miniconda3/envs/python3.8-core/lib/python3.8/site-packages (from scikit-learn<0.25.0,>=0.20.2->alibi[shap]->mlserver-alibi-explain==0.6.0.dev0) (3.0.0)\n"
     ]
    },
    {
     "name": "stdout",
     "output_type": "stream",
     "text": [
      "Requirement already satisfied: joblib>=0.11 in /home/sa/miniconda3/envs/python3.8-core/lib/python3.8/site-packages (from scikit-learn<0.25.0,>=0.20.2->alibi[shap]->mlserver-alibi-explain==0.6.0.dev0) (1.1.0)\n",
      "Requirement already satisfied: slicer==0.0.7 in /home/sa/miniconda3/envs/python3.8-core/lib/python3.8/site-packages (from shap!=0.38.1,<0.40.0,>=0.36.0->alibi[shap]->mlserver-alibi-explain==0.6.0.dev0) (0.0.7)\n",
      "Requirement already satisfied: cloudpickle in /home/sa/miniconda3/envs/python3.8-core/lib/python3.8/site-packages (from shap!=0.38.1,<0.40.0,>=0.36.0->alibi[shap]->mlserver-alibi-explain==0.6.0.dev0) (2.0.0)\n",
      "Requirement already satisfied: blis<0.8.0,>=0.4.0 in /home/sa/miniconda3/envs/python3.8-core/lib/python3.8/site-packages (from spacy[lookups]<4.0.0,>=2.0.0->alibi[shap]->mlserver-alibi-explain==0.6.0.dev0) (0.7.5)\n",
      "Requirement already satisfied: packaging>=20.0 in /home/sa/miniconda3/envs/python3.8-core/lib/python3.8/site-packages (from spacy[lookups]<4.0.0,>=2.0.0->alibi[shap]->mlserver-alibi-explain==0.6.0.dev0) (21.0)\n",
      "Requirement already satisfied: cymem<2.1.0,>=2.0.2 in /home/sa/miniconda3/envs/python3.8-core/lib/python3.8/site-packages (from spacy[lookups]<4.0.0,>=2.0.0->alibi[shap]->mlserver-alibi-explain==0.6.0.dev0) (2.0.6)\n",
      "Requirement already satisfied: wasabi<1.1.0,>=0.8.1 in /home/sa/miniconda3/envs/python3.8-core/lib/python3.8/site-packages (from spacy[lookups]<4.0.0,>=2.0.0->alibi[shap]->mlserver-alibi-explain==0.6.0.dev0) (0.8.2)\n",
      "Requirement already satisfied: srsly<3.0.0,>=2.4.1 in /home/sa/miniconda3/envs/python3.8-core/lib/python3.8/site-packages (from spacy[lookups]<4.0.0,>=2.0.0->alibi[shap]->mlserver-alibi-explain==0.6.0.dev0) (2.4.2)\n",
      "Requirement already satisfied: murmurhash<1.1.0,>=0.28.0 in /home/sa/miniconda3/envs/python3.8-core/lib/python3.8/site-packages (from spacy[lookups]<4.0.0,>=2.0.0->alibi[shap]->mlserver-alibi-explain==0.6.0.dev0) (1.0.6)\n",
      "Requirement already satisfied: catalogue<2.1.0,>=2.0.6 in /home/sa/miniconda3/envs/python3.8-core/lib/python3.8/site-packages (from spacy[lookups]<4.0.0,>=2.0.0->alibi[shap]->mlserver-alibi-explain==0.6.0.dev0) (2.0.6)\n",
      "Requirement already satisfied: pathy>=0.3.5 in /home/sa/miniconda3/envs/python3.8-core/lib/python3.8/site-packages (from spacy[lookups]<4.0.0,>=2.0.0->alibi[shap]->mlserver-alibi-explain==0.6.0.dev0) (0.6.1)\n",
      "Requirement already satisfied: preshed<3.1.0,>=3.0.2 in /home/sa/miniconda3/envs/python3.8-core/lib/python3.8/site-packages (from spacy[lookups]<4.0.0,>=2.0.0->alibi[shap]->mlserver-alibi-explain==0.6.0.dev0) (3.0.6)\n",
      "Requirement already satisfied: typer<0.5.0,>=0.3.0 in /home/sa/miniconda3/envs/python3.8-core/lib/python3.8/site-packages (from spacy[lookups]<4.0.0,>=2.0.0->alibi[shap]->mlserver-alibi-explain==0.6.0.dev0) (0.4.0)\n",
      "Requirement already satisfied: spacy-legacy<3.1.0,>=3.0.8 in /home/sa/miniconda3/envs/python3.8-core/lib/python3.8/site-packages (from spacy[lookups]<4.0.0,>=2.0.0->alibi[shap]->mlserver-alibi-explain==0.6.0.dev0) (3.0.8)\n",
      "Requirement already satisfied: jinja2 in /home/sa/miniconda3/envs/python3.8-core/lib/python3.8/site-packages (from spacy[lookups]<4.0.0,>=2.0.0->alibi[shap]->mlserver-alibi-explain==0.6.0.dev0) (3.0.2)\n",
      "Requirement already satisfied: thinc<8.1.0,>=8.0.12 in /home/sa/miniconda3/envs/python3.8-core/lib/python3.8/site-packages (from spacy[lookups]<4.0.0,>=2.0.0->alibi[shap]->mlserver-alibi-explain==0.6.0.dev0) (8.0.12)\n",
      "Requirement already satisfied: spacy-lookups-data<1.1.0,>=1.0.2 in /home/sa/miniconda3/envs/python3.8-core/lib/python3.8/site-packages (from spacy[lookups]<4.0.0,>=2.0.0->alibi[shap]->mlserver-alibi-explain==0.6.0.dev0) (1.0.3)\n",
      "Requirement already satisfied: smart-open<6.0.0,>=5.0.0 in /home/sa/miniconda3/envs/python3.8-core/lib/python3.8/site-packages (from pathy>=0.3.5->spacy[lookups]<4.0.0,>=2.0.0->alibi[shap]->mlserver-alibi-explain==0.6.0.dev0) (5.2.1)\n",
      "Requirement already satisfied: opt-einsum~=3.3.0 in /home/sa/miniconda3/envs/python3.8-core/lib/python3.8/site-packages (from tensorflow<2.7.0,>=2.0.0->alibi[shap]->mlserver-alibi-explain==0.6.0.dev0) (3.3.0)\n",
      "Requirement already satisfied: wheel~=0.35 in /home/sa/miniconda3/envs/python3.8-core/lib/python3.8/site-packages (from tensorflow<2.7.0,>=2.0.0->alibi[shap]->mlserver-alibi-explain==0.6.0.dev0) (0.37.0)\n",
      "Requirement already satisfied: absl-py~=0.10 in /home/sa/miniconda3/envs/python3.8-core/lib/python3.8/site-packages (from tensorflow<2.7.0,>=2.0.0->alibi[shap]->mlserver-alibi-explain==0.6.0.dev0) (0.15.0)\n",
      "Requirement already satisfied: termcolor~=1.1.0 in /home/sa/miniconda3/envs/python3.8-core/lib/python3.8/site-packages (from tensorflow<2.7.0,>=2.0.0->alibi[shap]->mlserver-alibi-explain==0.6.0.dev0) (1.1.0)\n",
      "Requirement already satisfied: gast==0.4.0 in /home/sa/miniconda3/envs/python3.8-core/lib/python3.8/site-packages (from tensorflow<2.7.0,>=2.0.0->alibi[shap]->mlserver-alibi-explain==0.6.0.dev0) (0.4.0)\n",
      "Requirement already satisfied: h5py~=3.1.0 in /home/sa/miniconda3/envs/python3.8-core/lib/python3.8/site-packages (from tensorflow<2.7.0,>=2.0.0->alibi[shap]->mlserver-alibi-explain==0.6.0.dev0) (3.1.0)\n",
      "Requirement already satisfied: keras-preprocessing~=1.1.2 in /home/sa/miniconda3/envs/python3.8-core/lib/python3.8/site-packages (from tensorflow<2.7.0,>=2.0.0->alibi[shap]->mlserver-alibi-explain==0.6.0.dev0) (1.1.2)\n",
      "Requirement already satisfied: wrapt~=1.12.1 in /home/sa/miniconda3/envs/python3.8-core/lib/python3.8/site-packages (from tensorflow<2.7.0,>=2.0.0->alibi[shap]->mlserver-alibi-explain==0.6.0.dev0) (1.12.1)\n",
      "Requirement already satisfied: tensorboard~=2.5 in /home/sa/miniconda3/envs/python3.8-core/lib/python3.8/site-packages (from tensorflow<2.7.0,>=2.0.0->alibi[shap]->mlserver-alibi-explain==0.6.0.dev0) (2.7.0)\n",
      "Requirement already satisfied: astunparse~=1.6.3 in /home/sa/miniconda3/envs/python3.8-core/lib/python3.8/site-packages (from tensorflow<2.7.0,>=2.0.0->alibi[shap]->mlserver-alibi-explain==0.6.0.dev0) (1.6.3)\n",
      "Requirement already satisfied: tensorflow-estimator<2.6.0,>=2.5.0 in /home/sa/miniconda3/envs/python3.8-core/lib/python3.8/site-packages (from tensorflow<2.7.0,>=2.0.0->alibi[shap]->mlserver-alibi-explain==0.6.0.dev0) (2.5.0)\n",
      "Requirement already satisfied: google-pasta~=0.2 in /home/sa/miniconda3/envs/python3.8-core/lib/python3.8/site-packages (from tensorflow<2.7.0,>=2.0.0->alibi[shap]->mlserver-alibi-explain==0.6.0.dev0) (0.2.0)\n",
      "Requirement already satisfied: keras-nightly~=2.5.0.dev in /home/sa/miniconda3/envs/python3.8-core/lib/python3.8/site-packages (from tensorflow<2.7.0,>=2.0.0->alibi[shap]->mlserver-alibi-explain==0.6.0.dev0) (2.5.0.dev2021032900)\n",
      "Requirement already satisfied: flatbuffers~=1.12.0 in /home/sa/miniconda3/envs/python3.8-core/lib/python3.8/site-packages (from tensorflow<2.7.0,>=2.0.0->alibi[shap]->mlserver-alibi-explain==0.6.0.dev0) (1.12)\n",
      "Requirement already satisfied: google-auth-oauthlib<0.5,>=0.4.1 in /home/sa/miniconda3/envs/python3.8-core/lib/python3.8/site-packages (from tensorboard~=2.5->tensorflow<2.7.0,>=2.0.0->alibi[shap]->mlserver-alibi-explain==0.6.0.dev0) (0.4.6)\n",
      "Requirement already satisfied: tensorboard-data-server<0.7.0,>=0.6.0 in /home/sa/miniconda3/envs/python3.8-core/lib/python3.8/site-packages (from tensorboard~=2.5->tensorflow<2.7.0,>=2.0.0->alibi[shap]->mlserver-alibi-explain==0.6.0.dev0) (0.6.1)\n",
      "Requirement already satisfied: markdown>=2.6.8 in /home/sa/miniconda3/envs/python3.8-core/lib/python3.8/site-packages (from tensorboard~=2.5->tensorflow<2.7.0,>=2.0.0->alibi[shap]->mlserver-alibi-explain==0.6.0.dev0) (3.3.4)\n",
      "Requirement already satisfied: tensorboard-plugin-wit>=1.6.0 in /home/sa/miniconda3/envs/python3.8-core/lib/python3.8/site-packages (from tensorboard~=2.5->tensorflow<2.7.0,>=2.0.0->alibi[shap]->mlserver-alibi-explain==0.6.0.dev0) (1.8.0)\n",
      "Requirement already satisfied: google-auth<3,>=1.6.3 in /home/sa/miniconda3/envs/python3.8-core/lib/python3.8/site-packages (from tensorboard~=2.5->tensorflow<2.7.0,>=2.0.0->alibi[shap]->mlserver-alibi-explain==0.6.0.dev0) (2.3.0)\n",
      "Requirement already satisfied: werkzeug>=0.11.15 in /home/sa/miniconda3/envs/python3.8-core/lib/python3.8/site-packages (from tensorboard~=2.5->tensorflow<2.7.0,>=2.0.0->alibi[shap]->mlserver-alibi-explain==0.6.0.dev0) (2.0.2)\n",
      "Requirement already satisfied: pyasn1-modules>=0.2.1 in /home/sa/miniconda3/envs/python3.8-core/lib/python3.8/site-packages (from google-auth<3,>=1.6.3->tensorboard~=2.5->tensorflow<2.7.0,>=2.0.0->alibi[shap]->mlserver-alibi-explain==0.6.0.dev0) (0.2.8)\n",
      "Requirement already satisfied: rsa<5,>=3.1.4 in /home/sa/miniconda3/envs/python3.8-core/lib/python3.8/site-packages (from google-auth<3,>=1.6.3->tensorboard~=2.5->tensorflow<2.7.0,>=2.0.0->alibi[shap]->mlserver-alibi-explain==0.6.0.dev0) (4.7.2)\n",
      "Requirement already satisfied: cachetools<5.0,>=2.0.0 in /home/sa/miniconda3/envs/python3.8-core/lib/python3.8/site-packages (from google-auth<3,>=1.6.3->tensorboard~=2.5->tensorflow<2.7.0,>=2.0.0->alibi[shap]->mlserver-alibi-explain==0.6.0.dev0) (4.2.4)\n",
      "Requirement already satisfied: requests-oauthlib>=0.7.0 in /home/sa/miniconda3/envs/python3.8-core/lib/python3.8/site-packages (from google-auth-oauthlib<0.5,>=0.4.1->tensorboard~=2.5->tensorflow<2.7.0,>=2.0.0->alibi[shap]->mlserver-alibi-explain==0.6.0.dev0) (1.3.0)\n"
     ]
    },
    {
     "name": "stdout",
     "output_type": "stream",
     "text": [
      "Requirement already satisfied: pyasn1<0.5.0,>=0.4.6 in /home/sa/miniconda3/envs/python3.8-core/lib/python3.8/site-packages (from pyasn1-modules>=0.2.1->google-auth<3,>=1.6.3->tensorboard~=2.5->tensorflow<2.7.0,>=2.0.0->alibi[shap]->mlserver-alibi-explain==0.6.0.dev0) (0.4.8)\n",
      "Requirement already satisfied: oauthlib>=3.0.0 in /home/sa/miniconda3/envs/python3.8-core/lib/python3.8/site-packages (from requests-oauthlib>=0.7.0->google-auth-oauthlib<0.5,>=0.4.1->tensorboard~=2.5->tensorflow<2.7.0,>=2.0.0->alibi[shap]->mlserver-alibi-explain==0.6.0.dev0) (3.1.1)\n",
      "Requirement already satisfied: regex!=2019.12.17 in /home/sa/miniconda3/envs/python3.8-core/lib/python3.8/site-packages (from transformers<5.0.0,>=4.7.0->alibi[shap]->mlserver-alibi-explain==0.6.0.dev0) (2021.10.23)\n",
      "Requirement already satisfied: pyyaml>=5.1 in /home/sa/miniconda3/envs/python3.8-core/lib/python3.8/site-packages (from transformers<5.0.0,>=4.7.0->alibi[shap]->mlserver-alibi-explain==0.6.0.dev0) (6.0)\n",
      "Requirement already satisfied: filelock in /home/sa/miniconda3/envs/python3.8-core/lib/python3.8/site-packages (from transformers<5.0.0,>=4.7.0->alibi[shap]->mlserver-alibi-explain==0.6.0.dev0) (3.3.2)\n",
      "Requirement already satisfied: tokenizers<0.11,>=0.10.1 in /home/sa/miniconda3/envs/python3.8-core/lib/python3.8/site-packages (from transformers<5.0.0,>=4.7.0->alibi[shap]->mlserver-alibi-explain==0.6.0.dev0) (0.10.3)\n",
      "Requirement already satisfied: sacremoses in /home/sa/miniconda3/envs/python3.8-core/lib/python3.8/site-packages (from transformers<5.0.0,>=4.7.0->alibi[shap]->mlserver-alibi-explain==0.6.0.dev0) (0.0.46)\n",
      "Requirement already satisfied: huggingface-hub>=0.0.17 in /home/sa/miniconda3/envs/python3.8-core/lib/python3.8/site-packages (from transformers<5.0.0,>=4.7.0->alibi[shap]->mlserver-alibi-explain==0.6.0.dev0) (0.0.19)\n",
      "Requirement already satisfied: MarkupSafe>=2.0 in /home/sa/miniconda3/envs/python3.8-core/lib/python3.8/site-packages (from jinja2->spacy[lookups]<4.0.0,>=2.0.0->alibi[shap]->mlserver-alibi-explain==0.6.0.dev0) (2.0.1)\n",
      "Requirement already satisfied: asgiref>=3.4.0 in /home/sa/miniconda3/envs/python3.8-core/lib/python3.8/site-packages (from uvicorn->mlserver==0.6.0.dev0) (3.4.1)\n",
      "Requirement already satisfied: h11>=0.8 in /home/sa/miniconda3/envs/python3.8-core/lib/python3.8/site-packages (from uvicorn->mlserver==0.6.0.dev0) (0.12.0)\n",
      "Installing collected packages: conda-pack\n",
      "Successfully installed conda-pack-0.6.0\n"
     ]
    }
   ],
   "source": [
    "!pip install conda-pack mlserver==0.6.0.dev0 mlserver-alibi-explain==0.6.0.dev0"
   ]
  },
  {
   "cell_type": "markdown",
   "id": "2fb3f64d",
   "metadata": {},
   "source": [
    "## Pack enviornment"
   ]
  },
  {
   "cell_type": "code",
   "execution_count": 39,
   "id": "482071c2",
   "metadata": {},
   "outputs": [
    {
     "name": "stdout",
     "output_type": "stream",
     "text": [
      "Collecting packages...\n"
     ]
    },
    {
     "ename": "CondaPackException",
     "evalue": "Cannot pack an environment with editable packages\ninstalled (e.g. from `python setup.py develop` or\n `pip install -e`). Editable packages found:\n\n- /home/sa/code/MLServer\n- /home/sa/code/MLServer/runtimes/alibi-detect\n- /home/sa/code/MLServer/runtimes/alibi-explain\n- /home/sa/code/MLServer/runtimes/lightgbm\n- /home/sa/code/MLServer/runtimes/mlflow\n- /home/sa/code/MLServer/runtimes/mllib\n- /home/sa/code/MLServer/runtimes/sklearn\n- /home/sa/code/MLServer/runtimes/xgboost",
     "output_type": "error",
     "traceback": [
      "\u001b[0;31m---------------------------------------------------------------------------\u001b[0m",
      "\u001b[0;31mCondaPackException\u001b[0m                        Traceback (most recent call last)",
      "\u001b[0;32m/tmp/ipykernel_1361965/1656556857.py\u001b[0m in \u001b[0;36m<module>\u001b[0;34m\u001b[0m\n\u001b[1;32m      1\u001b[0m \u001b[0;32mimport\u001b[0m \u001b[0mconda_pack\u001b[0m\u001b[0;34m\u001b[0m\u001b[0;34m\u001b[0m\u001b[0m\n\u001b[1;32m      2\u001b[0m \u001b[0menv_file_path\u001b[0m \u001b[0;34m=\u001b[0m \u001b[0mos\u001b[0m\u001b[0;34m.\u001b[0m\u001b[0mpath\u001b[0m\u001b[0;34m.\u001b[0m\u001b[0mjoin\u001b[0m\u001b[0;34m(\u001b[0m\u001b[0mexplainerpath\u001b[0m\u001b[0;34m,\u001b[0m \u001b[0;34m\"environment.tar.gz\"\u001b[0m\u001b[0;34m)\u001b[0m\u001b[0;34m\u001b[0m\u001b[0;34m\u001b[0m\u001b[0m\n\u001b[0;32m----> 3\u001b[0;31m conda_pack.pack(\n\u001b[0m\u001b[1;32m      4\u001b[0m     \u001b[0moutput\u001b[0m\u001b[0;34m=\u001b[0m\u001b[0mstr\u001b[0m\u001b[0;34m(\u001b[0m\u001b[0menv_file_path\u001b[0m\u001b[0;34m)\u001b[0m\u001b[0;34m,\u001b[0m\u001b[0;34m\u001b[0m\u001b[0;34m\u001b[0m\u001b[0m\n\u001b[1;32m      5\u001b[0m     \u001b[0mforce\u001b[0m\u001b[0;34m=\u001b[0m\u001b[0;32mTrue\u001b[0m\u001b[0;34m,\u001b[0m\u001b[0;34m\u001b[0m\u001b[0;34m\u001b[0m\u001b[0m\n",
      "\u001b[0;32m~/miniconda3/envs/python3.8-core/lib/python3.8/site-packages/conda_pack/core.py\u001b[0m in \u001b[0;36mpack\u001b[0;34m(name, prefix, output, format, arcroot, dest_prefix, parcel_root, parcel_name, parcel_version, parcel_distro, verbose, force, compress_level, n_threads, zip_symlinks, zip_64, filters, ignore_editable_packages, ignore_missing_files)\u001b[0m\n\u001b[1;32m    520\u001b[0m                                  ignore_missing_files=ignore_missing_files)\n\u001b[1;32m    521\u001b[0m     \u001b[0;32melse\u001b[0m\u001b[0;34m:\u001b[0m\u001b[0;34m\u001b[0m\u001b[0;34m\u001b[0m\u001b[0m\n\u001b[0;32m--> 522\u001b[0;31m         env = CondaEnv.from_default(ignore_editable_packages=ignore_editable_packages,\n\u001b[0m\u001b[1;32m    523\u001b[0m                                     ignore_missing_files=ignore_missing_files)\n\u001b[1;32m    524\u001b[0m \u001b[0;34m\u001b[0m\u001b[0m\n",
      "\u001b[0;32m~/miniconda3/envs/python3.8-core/lib/python3.8/site-packages/conda_pack/core.py\u001b[0m in \u001b[0;36mfrom_default\u001b[0;34m(cls, **kwargs)\u001b[0m\n\u001b[1;32m    172\u001b[0m         \u001b[0menv\u001b[0m \u001b[0;34m:\u001b[0m \u001b[0mCondaEnv\u001b[0m\u001b[0;34m\u001b[0m\u001b[0;34m\u001b[0m\u001b[0m\n\u001b[1;32m    173\u001b[0m         \"\"\"\n\u001b[0;32m--> 174\u001b[0;31m         \u001b[0;32mreturn\u001b[0m \u001b[0mcls\u001b[0m\u001b[0;34m.\u001b[0m\u001b[0mfrom_prefix\u001b[0m\u001b[0;34m(\u001b[0m\u001b[0mname_to_prefix\u001b[0m\u001b[0;34m(\u001b[0m\u001b[0;34m)\u001b[0m\u001b[0;34m,\u001b[0m \u001b[0;34m**\u001b[0m\u001b[0mkwargs\u001b[0m\u001b[0;34m)\u001b[0m\u001b[0;34m\u001b[0m\u001b[0;34m\u001b[0m\u001b[0m\n\u001b[0m\u001b[1;32m    175\u001b[0m \u001b[0;34m\u001b[0m\u001b[0m\n\u001b[1;32m    176\u001b[0m     \u001b[0;32mdef\u001b[0m \u001b[0mexclude\u001b[0m\u001b[0;34m(\u001b[0m\u001b[0mself\u001b[0m\u001b[0;34m,\u001b[0m \u001b[0mpattern\u001b[0m\u001b[0;34m)\u001b[0m\u001b[0;34m:\u001b[0m\u001b[0;34m\u001b[0m\u001b[0;34m\u001b[0m\u001b[0m\n",
      "\u001b[0;32m~/miniconda3/envs/python3.8-core/lib/python3.8/site-packages/conda_pack/core.py\u001b[0m in \u001b[0;36mfrom_prefix\u001b[0;34m(cls, prefix, **kwargs)\u001b[0m\n\u001b[1;32m    161\u001b[0m         \"\"\"\n\u001b[1;32m    162\u001b[0m         \u001b[0mprefix\u001b[0m \u001b[0;34m=\u001b[0m \u001b[0mos\u001b[0m\u001b[0;34m.\u001b[0m\u001b[0mpath\u001b[0m\u001b[0;34m.\u001b[0m\u001b[0mabspath\u001b[0m\u001b[0;34m(\u001b[0m\u001b[0mprefix\u001b[0m\u001b[0;34m)\u001b[0m\u001b[0;34m\u001b[0m\u001b[0;34m\u001b[0m\u001b[0m\n\u001b[0;32m--> 163\u001b[0;31m         \u001b[0mfiles\u001b[0m \u001b[0;34m=\u001b[0m \u001b[0mload_environment\u001b[0m\u001b[0;34m(\u001b[0m\u001b[0mprefix\u001b[0m\u001b[0;34m,\u001b[0m \u001b[0;34m**\u001b[0m\u001b[0mkwargs\u001b[0m\u001b[0;34m)\u001b[0m\u001b[0;34m\u001b[0m\u001b[0;34m\u001b[0m\u001b[0m\n\u001b[0m\u001b[1;32m    164\u001b[0m         \u001b[0;32mreturn\u001b[0m \u001b[0mcls\u001b[0m\u001b[0;34m(\u001b[0m\u001b[0mprefix\u001b[0m\u001b[0;34m,\u001b[0m \u001b[0mfiles\u001b[0m\u001b[0;34m)\u001b[0m\u001b[0;34m\u001b[0m\u001b[0;34m\u001b[0m\u001b[0m\n\u001b[1;32m    165\u001b[0m \u001b[0;34m\u001b[0m\u001b[0m\n",
      "\u001b[0;32m~/miniconda3/envs/python3.8-core/lib/python3.8/site-packages/conda_pack/core.py\u001b[0m in \u001b[0;36mload_environment\u001b[0;34m(prefix, on_missing_cache, ignore_editable_packages, ignore_missing_files)\u001b[0m\n\u001b[1;32m    790\u001b[0m     \u001b[0;32mif\u001b[0m \u001b[0msite_packages\u001b[0m \u001b[0;32mis\u001b[0m \u001b[0;32mnot\u001b[0m \u001b[0;32mNone\u001b[0m \u001b[0;32mand\u001b[0m \u001b[0;32mnot\u001b[0m \u001b[0mignore_editable_packages\u001b[0m\u001b[0;34m:\u001b[0m\u001b[0;34m\u001b[0m\u001b[0;34m\u001b[0m\u001b[0m\n\u001b[1;32m    791\u001b[0m         \u001b[0;31m# Check that no editable packages are installed\u001b[0m\u001b[0;34m\u001b[0m\u001b[0;34m\u001b[0m\u001b[0;34m\u001b[0m\u001b[0m\n\u001b[0;32m--> 792\u001b[0;31m         \u001b[0mcheck_no_editable_packages\u001b[0m\u001b[0;34m(\u001b[0m\u001b[0mprefix\u001b[0m\u001b[0;34m,\u001b[0m \u001b[0msite_packages\u001b[0m\u001b[0;34m)\u001b[0m\u001b[0;34m\u001b[0m\u001b[0;34m\u001b[0m\u001b[0m\n\u001b[0m\u001b[1;32m    793\u001b[0m \u001b[0;34m\u001b[0m\u001b[0m\n\u001b[1;32m    794\u001b[0m     \u001b[0;31m# Save the unnormalized filenames here so that we can preserve the\u001b[0m\u001b[0;34m\u001b[0m\u001b[0;34m\u001b[0m\u001b[0;34m\u001b[0m\u001b[0m\n",
      "\u001b[0;32m~/miniconda3/envs/python3.8-core/lib/python3.8/site-packages/conda_pack/core.py\u001b[0m in \u001b[0;36mcheck_no_editable_packages\u001b[0;34m(prefix, site_packages)\u001b[0m\n\u001b[1;32m    590\u001b[0m                \u001b[0;34m\"`pip install -e`). Editable packages found:\\n\\n\"\u001b[0m\u001b[0;34m\u001b[0m\u001b[0;34m\u001b[0m\u001b[0m\n\u001b[1;32m    591\u001b[0m                \"%s\") % '\\n'.join('- %s' % p for p in sorted(editable_packages))\n\u001b[0;32m--> 592\u001b[0;31m         \u001b[0;32mraise\u001b[0m \u001b[0mCondaPackException\u001b[0m\u001b[0;34m(\u001b[0m\u001b[0mmsg\u001b[0m\u001b[0;34m)\u001b[0m\u001b[0;34m\u001b[0m\u001b[0;34m\u001b[0m\u001b[0m\n\u001b[0m\u001b[1;32m    593\u001b[0m \u001b[0;34m\u001b[0m\u001b[0m\n\u001b[1;32m    594\u001b[0m \u001b[0;34m\u001b[0m\u001b[0m\n",
      "\u001b[0;31mCondaPackException\u001b[0m: Cannot pack an environment with editable packages\ninstalled (e.g. from `python setup.py develop` or\n `pip install -e`). Editable packages found:\n\n- /home/sa/code/MLServer\n- /home/sa/code/MLServer/runtimes/alibi-detect\n- /home/sa/code/MLServer/runtimes/alibi-explain\n- /home/sa/code/MLServer/runtimes/lightgbm\n- /home/sa/code/MLServer/runtimes/mlflow\n- /home/sa/code/MLServer/runtimes/mllib\n- /home/sa/code/MLServer/runtimes/sklearn\n- /home/sa/code/MLServer/runtimes/xgboost"
     ]
    }
   ],
   "source": [
    "import conda_pack\n",
    "env_file_path = os.path.join(explainerpath, \"environment.tar.gz\")\n",
    "conda_pack.pack(\n",
    "    output=str(env_file_path),\n",
    "    force=True,\n",
    "    verbose=True,\n",
    "    ignore_editable_packages=False,\n",
    "    ignore_missing_files=True,\n",
    ")"
   ]
  },
  {
   "cell_type": "markdown",
   "id": "b33bfef3",
   "metadata": {},
   "source": [
    "## Copy artifacts to object store (`minio`)\n",
    "\n",
    "### Configure `mc` to access the minio service in the local kind cluster\n",
    "note: make sure that minio ip is reflected properly below, run:\n",
    "- `kubectl get service -n minio-system`\n",
    "- `mc config host add minio-seldon [ip] minioadmin minioadmin`"
   ]
  },
  {
   "cell_type": "code",
   "execution_count": 41,
   "id": "2b4b277b",
   "metadata": {},
   "outputs": [
    {
     "name": "stdout",
     "output_type": "stream",
     "text": [
      "Removed `minio-seldon/models` successfully.\n",
      "Bucket created successfully `minio-seldon/models`.\n",
      "`/tmp/sklearn_iris/model.joblib` -> `minio-seldon/models/sklearn_iris/model.joblib`\n",
      "Total: 0 B, Transferred: 3.20 KiB, Speed: 661.65 KiB/s\n",
      "`/tmp/iris_anchor_text_explainer/explainer.dill` -> `minio-seldon/models/iris_anchor_text_explainer/explainer.dill`\n",
      "`/tmp/iris_anchor_text_explainer/meta.dill` -> `minio-seldon/models/iris_anchor_text_explainer/meta.dill`\n",
      "Total: 0 B, Transferred: 22.18 KiB, Speed: 4.05 MiB/s\n"
     ]
    },
    {
     "data": {
      "text/plain": [
       "0"
      ]
     },
     "execution_count": 41,
     "metadata": {},
     "output_type": "execute_result"
    }
   ],
   "source": [
    "target_bucket = \"minio-seldon/models\"\n",
    "os.system(f\"mc rb --force {target_bucket}\")\n",
    "os.system(f\"mc mb {target_bucket}\")\n",
    "os.system(f\"mc cp --recursive {modelpath} {target_bucket}\")\n",
    "os.system(f\"mc cp --recursive {explainerpath} {target_bucket}\")"
   ]
  },
  {
   "cell_type": "markdown",
   "id": "48d5eef5",
   "metadata": {},
   "source": [
    "## Deploy to local `kind` cluster"
   ]
  },
  {
   "cell_type": "markdown",
   "id": "ebd83919",
   "metadata": {},
   "source": [
    "### Create deployment CRD"
   ]
  },
  {
   "cell_type": "code",
   "execution_count": 43,
   "id": "2d7548d2",
   "metadata": {},
   "outputs": [
    {
     "name": "stdout",
     "output_type": "stream",
     "text": [
      "Writing iris-with-explainer-v2.yaml\n"
     ]
    }
   ],
   "source": [
    "%%writefile iris-with-explainer-v2.yaml\n",
    "apiVersion: machinelearning.seldon.io/v1\n",
    "kind: SeldonDeployment\n",
    "metadata:\n",
    "  name: iris\n",
    "spec:\n",
    "  protocol: kfserving  # Activate v2 protocol / mlserver usage\n",
    "  name: iris\n",
    "  annotations:\n",
    "    seldon.io/rest-timeout: \"100000\"\n",
    "  predictors:\n",
    "  - graph:\n",
    "      children: []\n",
    "      implementation: SKLEARN_SERVER\n",
    "      modelUri: s3://models/sklearn_iris\n",
    "      envSecretRefName: seldon-rclone-secret\n",
    "      name: classifier\n",
    "    explainer:\n",
    "      type: AnchorTabular\n",
    "      modelUri: s3://models/iris_anchor_text_explainer\n",
    "      envSecretRefName: seldon-rclone-secret\n",
    "    name: default\n",
    "    replicas: 1"
   ]
  },
  {
   "cell_type": "markdown",
   "id": "62f79d0f",
   "metadata": {},
   "source": [
    "### Deploy"
   ]
  },
  {
   "cell_type": "code",
   "execution_count": 44,
   "id": "120475cc",
   "metadata": {},
   "outputs": [
    {
     "name": "stdout",
     "output_type": "stream",
     "text": [
      "seldondeployment.machinelearning.seldon.io/iris created\r\n"
     ]
    }
   ],
   "source": [
    "!kubectl apply -f iris-with-explainer-v2.yaml"
   ]
  },
  {
   "cell_type": "code",
   "execution_count": null,
   "id": "1e3038ca",
   "metadata": {},
   "outputs": [],
   "source": [
    "!kubectl rollout status deploy/$(kubectl get deploy -l seldon-deployment-id=mlflow -o jsonpath='{.items[0].metadata.name}')"
   ]
  },
  {
   "cell_type": "markdown",
   "id": "268d97b3",
   "metadata": {},
   "source": [
    "### Test explainer"
   ]
  },
  {
   "cell_type": "code",
   "execution_count": null,
   "id": "d27de524",
   "metadata": {},
   "outputs": [],
   "source": [
    "!pip instal numpy requests"
   ]
  },
  {
   "cell_type": "code",
   "execution_count": 47,
   "id": "fbba7464",
   "metadata": {},
   "outputs": [],
   "source": [
    "import numpy as np\n",
    "import requests\n",
    "import json"
   ]
  },
  {
   "cell_type": "code",
   "execution_count": 50,
   "id": "6db9e7dc",
   "metadata": {},
   "outputs": [
    {
     "name": "stdout",
     "output_type": "stream",
     "text": [
      "{'parameters': {'content_type': 'np'}, 'inputs': [{'name': 'fixed acidity', 'shape': (1, 4), 'datatype': 'FP32', 'data': [[5.964, 4.006, 2.081, 1.031]], 'parameters': {'content_type': 'np'}}]}\n"
     ]
    }
   ],
   "source": [
    "endpoint = \"http://localhost:8003/seldon/seldon/iris-explainer/default/v2/models/iris-default-explainer/infer\"\n",
    "\n",
    "test_data = np.array([[5.964, 4.006, 2.081, 1.031]])\n",
    "\n",
    "inference_request = {\n",
    "    \"parameters\": {\n",
    "        \"content_type\": \"np\"\n",
    "    },\n",
    "    \"inputs\": [\n",
    "        {\n",
    "          \"name\": \"explain\",\n",
    "          \"shape\": test_data.shape,\n",
    "          \"datatype\": \"FP32\",\n",
    "          \"data\": test_data.tolist(),\n",
    "          \"parameters\": {\n",
    "              \"content_type\": \"np\"\n",
    "          }\n",
    "        },\n",
    "    ]\n",
    "}\n",
    "response = requests.post(endpoint, json=inference_request)\n",
    "\n",
    "print(json.dumps(response.json(), indent=2))"
   ]
  },
  {
   "cell_type": "code",
   "execution_count": 45,
   "id": "8edd6c8c",
   "metadata": {},
   "outputs": [
    {
     "name": "stdout",
     "output_type": "stream",
     "text": [
      "seldondeployment.machinelearning.seldon.io \"iris\" deleted\r\n"
     ]
    }
   ],
   "source": [
    "!kubectl delete -f iris-with-explainer-v2.yaml"
   ]
  },
  {
   "cell_type": "code",
   "execution_count": null,
   "id": "4696eb2d",
   "metadata": {},
   "outputs": [],
   "source": []
  }
 ],
 "metadata": {
  "kernelspec": {
   "display_name": "Python 3 (ipykernel)",
   "language": "python",
   "name": "python3"
  },
  "language_info": {
   "codemirror_mode": {
    "name": "ipython",
    "version": 3
   },
   "file_extension": ".py",
   "mimetype": "text/x-python",
   "name": "python",
   "nbconvert_exporter": "python",
   "pygments_lexer": "ipython3",
   "version": "3.8.12"
  }
 },
 "nbformat": 4,
 "nbformat_minor": 5
}
