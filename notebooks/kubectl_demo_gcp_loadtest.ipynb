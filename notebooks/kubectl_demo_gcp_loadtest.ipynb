{
 "cells": [
  {
   "cell_type": "markdown",
   "metadata": {},
   "source": [
    "# Throughtput Benchmarking  Seldon-Core on GCP Kubernetes\n",
    "\n",
    "The notebook will provide a benchmarking of seldon-core for maximum throughput test. We will run a stub model and test using REST and gRPC predictions. This will provide a maximum theoretical throughtput for model deployment in the given infrastructure scenario:\n",
    "  \n",
    "   * 1 replica of the model running on n1-standard-16 GCP node\n",
    "   \n",
    "For a real model the throughput would be less. Future benchmarks will test realistic models scenarios.\n"
   ]
  },
  {
   "cell_type": "markdown",
   "metadata": {},
   "source": [
    "## Create Cluster"
   ]
  },
  {
   "cell_type": "markdown",
   "metadata": {
    "collapsed": true
   },
   "source": [
    "Create a cluster of 4 nodes of machine type n1-standard-16 \n",
    "\n",
    "```bash\n",
    "PROJECT=seldon-core-benchmarking\n",
    "ZONE=europe-west1-b\n",
    "gcloud beta container --project \"${PROJECT}\" clusters create \"loadtest\" \\\n",
    "    --zone \"${ZONE}\" \\\n",
    "    --username \"admin\" \\\n",
    "    --cluster-version \"1.9.3-gke.0\" \\\n",
    "    --machine-type \"n1-standard-16\" \\\n",
    "    --image-type \"COS\" \\\n",
    "    --disk-size \"100\" \\\n",
    "    --num-nodes \"4\" \\\n",
    "    --network \"default\" \\\n",
    "    --enable-cloud-logging \\\n",
    "    --enable-cloud-monitoring \\\n",
    "    --subnetwork \"default\"\n",
    "```"
   ]
  },
  {
   "cell_type": "markdown",
   "metadata": {},
   "source": [
    "## Install helm"
   ]
  },
  {
   "cell_type": "code",
   "execution_count": 2,
   "metadata": {},
   "outputs": [
    {
     "name": "stdout",
     "output_type": "stream",
     "text": [
      "serviceaccount \"tiller\" created\n",
      "clusterrolebinding \"tiller\" created\n",
      "$HELM_HOME has been configured at /home/clive/.helm.\n",
      "\n",
      "Tiller (the Helm server-side component) has been installed into your Kubernetes Cluster.\n",
      "Happy Helming!\n"
     ]
    }
   ],
   "source": [
    "!kubectl -n kube-system create sa tiller\n",
    "!kubectl create clusterrolebinding tiller --clusterrole cluster-admin --serviceaccount=kube-system:tiller\n",
    "!helm init --service-account tiller"
   ]
  },
  {
   "cell_type": "markdown",
   "metadata": {},
   "source": [
    "## Start Seldon-Core CRD"
   ]
  },
  {
   "cell_type": "code",
   "execution_count": 4,
   "metadata": {},
   "outputs": [
    {
     "name": "stdout",
     "output_type": "stream",
     "text": [
      "NAME:   seldon-core-crd\n",
      "LAST DEPLOYED: Wed Mar  7 15:14:11 2018\n",
      "NAMESPACE: default\n",
      "STATUS: DEPLOYED\n",
      "\n",
      "RESOURCES:\n",
      "==> v1beta1/CustomResourceDefinition\n",
      "NAME                                         AGE\n",
      "seldondeployments.machinelearning.seldon.io  1s\n",
      "\n",
      "\n",
      "NOTES:\n",
      "NOTES: TODO\n",
      "\n",
      "\n"
     ]
    }
   ],
   "source": [
    "!helm install ../helm-charts/seldon-core-crd --name seldon-core-crd"
   ]
  },
  {
   "cell_type": "markdown",
   "metadata": {},
   "source": [
    "## Cordon off loadtest nodes"
   ]
  },
  {
   "cell_type": "code",
   "execution_count": 5,
   "metadata": {},
   "outputs": [
    {
     "name": "stdout",
     "output_type": "stream",
     "text": [
      "NAME                                      STATUS    ROLES     AGE       VERSION\r\n",
      "gke-loadtest-default-pool-e2e99314-7zb5   Ready     <none>    1m        v1.9.3-gke.0\r\n",
      "gke-loadtest-default-pool-e2e99314-gbjx   Ready     <none>    1m        v1.9.3-gke.0\r\n",
      "gke-loadtest-default-pool-e2e99314-hcvx   Ready     <none>    1m        v1.9.3-gke.0\r\n",
      "gke-loadtest-default-pool-e2e99314-tb2p   Ready     <none>    1m        v1.9.3-gke.0\r\n"
     ]
    }
   ],
   "source": [
    "!kubectl get nodes"
   ]
  },
  {
   "cell_type": "markdown",
   "metadata": {},
   "source": [
    "We cordon off first 3 nodes so seldon-core and the model will not be deployed on the 1 remaining node."
   ]
  },
  {
   "cell_type": "code",
   "execution_count": 6,
   "metadata": {},
   "outputs": [
    {
     "name": "stdout",
     "output_type": "stream",
     "text": [
      "node \"gke-loadtest-default-pool-e2e99314-7zb5\" cordoned\n",
      "node \"gke-loadtest-default-pool-e2e99314-gbjx\" cordoned\n",
      "node \"gke-loadtest-default-pool-e2e99314-hcvx\" cordoned\n"
     ]
    }
   ],
   "source": [
    "!kubectl cordon $(kubectl get nodes -o jsonpath='{.items[0].metadata.name}')\n",
    "!kubectl cordon $(kubectl get nodes -o jsonpath='{.items[1].metadata.name}')\n",
    "!kubectl cordon $(kubectl get nodes -o jsonpath='{.items[2].metadata.name}')"
   ]
  },
  {
   "cell_type": "markdown",
   "metadata": {},
   "source": [
    "Label the nodes so they can be used by locust."
   ]
  },
  {
   "cell_type": "code",
   "execution_count": 7,
   "metadata": {},
   "outputs": [
    {
     "name": "stdout",
     "output_type": "stream",
     "text": [
      "node \"gke-loadtest-default-pool-e2e99314-7zb5\" labeled\n",
      "node \"gke-loadtest-default-pool-e2e99314-gbjx\" labeled\n",
      "node \"gke-loadtest-default-pool-e2e99314-hcvx\" labeled\n"
     ]
    }
   ],
   "source": [
    "!kubectl label nodes $(kubectl get nodes -o jsonpath='{.items[0].metadata.name}') role=locust\n",
    "!kubectl label nodes $(kubectl get nodes -o jsonpath='{.items[1].metadata.name}') role=locust\n",
    "!kubectl label nodes $(kubectl get nodes -o jsonpath='{.items[2].metadata.name}') role=locust"
   ]
  },
  {
   "cell_type": "markdown",
   "metadata": {},
   "source": [
    "## Start seldon-core"
   ]
  },
  {
   "cell_type": "code",
   "execution_count": 8,
   "metadata": {},
   "outputs": [
    {
     "name": "stdout",
     "output_type": "stream",
     "text": [
      "NAME:   seldon-core\n",
      "LAST DEPLOYED: Wed Mar  7 15:15:11 2018\n",
      "NAMESPACE: default\n",
      "STATUS: DEPLOYED\n",
      "\n",
      "RESOURCES:\n",
      "==> v1beta1/ClusterRoleBinding\n",
      "NAME    AGE\n",
      "seldon  1s\n",
      "\n",
      "==> v1/Pod(related)\n",
      "NAME                   READY  STATUS             RESTARTS  AGE\n",
      "redis-df886d999-rl5l8  0/1    ContainerCreating  0         0s\n",
      "\n",
      "==> v1beta1/Deployment\n",
      "NAME                    DESIRED  CURRENT  UP-TO-DATE  AVAILABLE  AGE\n",
      "seldon-apiserver        1        0        0           0          1s\n",
      "seldon-cluster-manager  1        0        0           0          1s\n",
      "redis                   1        1        1           0          1s\n",
      "\n",
      "==> v1/Service\n",
      "NAME              TYPE       CLUSTER-IP    EXTERNAL-IP  PORT(S)                        AGE\n",
      "seldon-apiserver  NodePort   10.3.246.186  <none>       8080:31873/TCP,5000:30398/TCP  1s\n",
      "redis             ClusterIP  10.3.240.223  <none>       6379/TCP                       0s\n",
      "\n",
      "==> v1/ServiceAccount\n",
      "NAME    SECRETS  AGE\n",
      "seldon  1        1s\n",
      "\n",
      "\n",
      "NOTES:\n",
      "NOTES: TODO\n",
      "\n",
      "\n"
     ]
    }
   ],
   "source": [
    "!helm install ../helm-charts/seldon-core --name seldon-core \\\n",
    "        --set cluster_manager.rbac=true \\\n",
    "        --set apife.enabled=true \\\n",
    "        --set engine.image.tag=0.1.6_SNAPSHOT_loadtest \\\n",
    "        --set cluster_manager.image.tag=0.1.6_SNAPSHOT_loadtest\n",
    "        "
   ]
  },
  {
   "cell_type": "markdown",
   "metadata": {},
   "source": [
    "Wait for seldon-core to start"
   ]
  },
  {
   "cell_type": "code",
   "execution_count": 11,
   "metadata": {},
   "outputs": [
    {
     "name": "stdout",
     "output_type": "stream",
     "text": [
      "NAME                                      READY     STATUS    RESTARTS   AGE       IP         NODE\r\n",
      "redis-df886d999-rl5l8                     1/1       Running   0          31s       10.0.2.5   gke-loadtest-default-pool-e2e99314-tb2p\r\n",
      "seldon-apiserver-64ccd4c5f4-xcclp         1/1       Running   0          31s       10.0.2.7   gke-loadtest-default-pool-e2e99314-tb2p\r\n",
      "seldon-cluster-manager-68c8c6b5bf-tbc5b   1/1       Running   0          31s       10.0.2.6   gke-loadtest-default-pool-e2e99314-tb2p\r\n"
     ]
    }
   ],
   "source": [
    "!kubectl get pods -o wide"
   ]
  },
  {
   "cell_type": "markdown",
   "metadata": {},
   "source": [
    "## Create Stub Deployment"
   ]
  },
  {
   "cell_type": "code",
   "execution_count": 12,
   "metadata": {},
   "outputs": [
    {
     "name": "stdout",
     "output_type": "stream",
     "text": [
      "{\r\n",
      "    \u001b[34;01m\"apiVersion\"\u001b[39;49;00m: \u001b[33m\"machinelearning.seldon.io/v1alpha1\"\u001b[39;49;00m,\r\n",
      "    \u001b[34;01m\"kind\"\u001b[39;49;00m: \u001b[33m\"SeldonDeployment\"\u001b[39;49;00m,\r\n",
      "    \u001b[34;01m\"metadata\"\u001b[39;49;00m: {\r\n",
      "        \u001b[34;01m\"labels\"\u001b[39;49;00m: {\r\n",
      "            \u001b[34;01m\"app\"\u001b[39;49;00m: \u001b[33m\"seldon\"\u001b[39;49;00m\r\n",
      "        },\r\n",
      "        \u001b[34;01m\"name\"\u001b[39;49;00m: \u001b[33m\"seldon-core-loadtest\"\u001b[39;49;00m\r\n",
      "    },\r\n",
      "    \u001b[34;01m\"spec\"\u001b[39;49;00m: {\r\n",
      "        \u001b[34;01m\"annotations\"\u001b[39;49;00m: {\r\n",
      "            \u001b[34;01m\"project_name\"\u001b[39;49;00m: \u001b[33m\"loadtest\"\u001b[39;49;00m,\r\n",
      "            \u001b[34;01m\"deployment_version\"\u001b[39;49;00m: \u001b[33m\"v1\"\u001b[39;49;00m\r\n",
      "        },\r\n",
      "        \u001b[34;01m\"name\"\u001b[39;49;00m: \u001b[33m\"loadtest\"\u001b[39;49;00m,\r\n",
      "        \u001b[34;01m\"oauth_key\"\u001b[39;49;00m: \u001b[33m\"oauth-key\"\u001b[39;49;00m,\r\n",
      "        \u001b[34;01m\"oauth_secret\"\u001b[39;49;00m: \u001b[33m\"oauth-secret\"\u001b[39;49;00m,\r\n",
      "        \u001b[34;01m\"predictors\"\u001b[39;49;00m: [\r\n",
      "            {\r\n",
      "                \u001b[34;01m\"componentSpec\"\u001b[39;49;00m: {\r\n",
      "                    \u001b[34;01m\"spec\"\u001b[39;49;00m: {\r\n",
      "                        \u001b[34;01m\"containers\"\u001b[39;49;00m: [\r\n",
      "                        ],\r\n",
      "                        \u001b[34;01m\"terminationGracePeriodSeconds\"\u001b[39;49;00m: \u001b[34m20\u001b[39;49;00m\r\n",
      "                    }\r\n",
      "                },\r\n",
      "                \u001b[34;01m\"graph\"\u001b[39;49;00m: {\r\n",
      "                    \u001b[34;01m\"children\"\u001b[39;49;00m: [],\r\n",
      "                    \u001b[34;01m\"name\"\u001b[39;49;00m: \u001b[33m\"stub\"\u001b[39;49;00m,\r\n",
      "                    \u001b[34;01m\"endpoint\"\u001b[39;49;00m: {\r\n",
      "\t\t\t\u001b[34;01m\"type\"\u001b[39;49;00m : \u001b[33m\"REST\"\u001b[39;49;00m\r\n",
      "\t\t    },\r\n",
      "                    \u001b[34;01m\"type\"\u001b[39;49;00m: \u001b[33m\"MODEL\"\u001b[39;49;00m,\r\n",
      "\t\t    \u001b[34;01m\"implementation\"\u001b[39;49;00m: \u001b[33m\"SIMPLE_MODEL\"\u001b[39;49;00m\r\n",
      "                },\r\n",
      "                \u001b[34;01m\"name\"\u001b[39;49;00m: \u001b[33m\"loadtest\"\u001b[39;49;00m,\r\n",
      "                \u001b[34;01m\"replicas\"\u001b[39;49;00m: \u001b[34m1\u001b[39;49;00m,\r\n",
      "\t\t\u001b[34;01m\"annotations\"\u001b[39;49;00m: {\r\n",
      "\t\t    \u001b[34;01m\"predictor_version\"\u001b[39;49;00m : \u001b[33m\"v1\"\u001b[39;49;00m\r\n",
      "\t\t}\r\n",
      "            }\r\n",
      "        ]\r\n",
      "    }\r\n",
      "}\r\n"
     ]
    }
   ],
   "source": [
    "!pygmentize resources/loadtest_simple_model.json"
   ]
  },
  {
   "cell_type": "code",
   "execution_count": 13,
   "metadata": {},
   "outputs": [
    {
     "name": "stdout",
     "output_type": "stream",
     "text": [
      "seldondeployment \"seldon-core-loadtest\" created\r\n"
     ]
    }
   ],
   "source": [
    "!kubectl apply -f resources/loadtest_simple_model.json"
   ]
  },
  {
   "cell_type": "markdown",
   "metadata": {},
   "source": [
    "Wait for deployment to be running."
   ]
  },
  {
   "cell_type": "code",
   "execution_count": 15,
   "metadata": {},
   "outputs": [
    {
     "name": "stdout",
     "output_type": "stream",
     "text": [
      "map[predictorStatus:[map[name:loadtest-loadtest replicas:1 replicasAvailable:1]]]"
     ]
    }
   ],
   "source": [
    "!kubectl get seldondeployments seldon-core-loadtest -o jsonpath='{.status}'"
   ]
  },
  {
   "cell_type": "markdown",
   "metadata": {},
   "source": [
    "## Run benchmark"
   ]
  },
  {
   "cell_type": "markdown",
   "metadata": {},
   "source": [
    "Uncorden the first 3 nodes so they can be used to schedule locust"
   ]
  },
  {
   "cell_type": "code",
   "execution_count": 16,
   "metadata": {},
   "outputs": [
    {
     "name": "stdout",
     "output_type": "stream",
     "text": [
      "node \"gke-loadtest-default-pool-e2e99314-7zb5\" uncordoned\n",
      "node \"gke-loadtest-default-pool-e2e99314-gbjx\" uncordoned\n",
      "node \"gke-loadtest-default-pool-e2e99314-hcvx\" uncordoned\n"
     ]
    }
   ],
   "source": [
    "!kubectl uncordon $(kubectl get nodes -o jsonpath='{.items[0].metadata.name}')\n",
    "!kubectl uncordon $(kubectl get nodes -o jsonpath='{.items[1].metadata.name}')\n",
    "!kubectl uncordon $(kubectl get nodes -o jsonpath='{.items[2].metadata.name}')"
   ]
  },
  {
   "cell_type": "markdown",
   "metadata": {},
   "source": [
    "## gRPC\n",
    "Start locust load test for gRPC"
   ]
  },
  {
   "cell_type": "code",
   "execution_count": 17,
   "metadata": {},
   "outputs": [
    {
     "name": "stdout",
     "output_type": "stream",
     "text": [
      "NAME:   loadtest\n",
      "LAST DEPLOYED: Wed Mar  7 15:17:44 2018\n",
      "NAMESPACE: default\n",
      "STATUS: DEPLOYED\n",
      "\n",
      "RESOURCES:\n",
      "==> v1/Service\n",
      "NAME             TYPE      CLUSTER-IP    EXTERNAL-IP  PORT(S)                                       AGE\n",
      "locust-master-1  NodePort  10.3.253.118  <none>       5557:30970/TCP,5558:30185/TCP,8089:30505/TCP  1s\n",
      "\n",
      "==> v1/Pod(related)\n",
      "NAME                   READY  STATUS             RESTARTS  AGE\n",
      "locust-slave-1-2kc26   0/1    Pending            0         0s\n",
      "locust-slave-1-2ngks   0/1    Pending            0         1s\n",
      "locust-slave-1-4kxg4   0/1    Pending            0         1s\n",
      "locust-slave-1-5h67f   0/1    Pending            0         1s\n",
      "locust-slave-1-62c7w   0/1    Pending            0         1s\n",
      "locust-slave-1-68skx   0/1    ContainerCreating  0         1s\n",
      "locust-slave-1-6qnwx   0/1    ContainerCreating  0         1s\n",
      "locust-slave-1-9d4vm   0/1    Pending            0         1s\n",
      "locust-slave-1-b9fgb   0/1    Pending            0         1s\n",
      "locust-slave-1-bf7nq   0/1    Pending            0         1s\n",
      "locust-slave-1-bpzrm   0/1    ContainerCreating  0         1s\n",
      "locust-slave-1-bqc4g   0/1    Pending            0         1s\n",
      "locust-slave-1-cr2f8   0/1    Pending            0         1s\n",
      "locust-slave-1-f2lnr   0/1    Pending            0         1s\n",
      "locust-slave-1-fxb5j   0/1    Pending            0         0s\n",
      "locust-slave-1-gmmlc   0/1    Pending            0         1s\n",
      "locust-slave-1-hs9q2   0/1    Pending            0         1s\n",
      "locust-slave-1-jl4dz   0/1    Pending            0         1s\n",
      "locust-slave-1-khkc6   0/1    ContainerCreating  0         1s\n",
      "locust-slave-1-kwknl   0/1    Pending            0         1s\n",
      "locust-slave-1-l5vjh   0/1    Pending            0         1s\n",
      "locust-slave-1-ls2nv   0/1    Pending            0         1s\n",
      "locust-slave-1-n2xft   0/1    ContainerCreating  0         1s\n",
      "locust-slave-1-njvwf   0/1    Pending            0         0s\n",
      "locust-slave-1-q88tf   0/1    Pending            0         1s\n",
      "locust-slave-1-r28vx   0/1    Pending            0         1s\n",
      "locust-slave-1-rldrp   0/1    Pending            0         0s\n",
      "locust-slave-1-sbrz5   0/1    Pending            0         1s\n",
      "locust-slave-1-sj2rg   0/1    ContainerCreating  0         1s\n",
      "locust-slave-1-sm9mb   0/1    Pending            0         1s\n",
      "locust-slave-1-stfrc   0/1    Pending            0         1s\n",
      "locust-slave-1-t67gv   0/1    Pending            0         1s\n",
      "locust-slave-1-t8x4t   0/1    Pending            0         1s\n",
      "locust-slave-1-tnhdp   0/1    Pending            0         1s\n",
      "locust-slave-1-vtm4p   0/1    Pending            0         1s\n",
      "locust-slave-1-vx6c5   0/1    ContainerCreating  0         1s\n",
      "locust-slave-1-x2mfm   0/1    ContainerCreating  0         1s\n",
      "locust-slave-1-zrbx2   0/1    Pending            0         1s\n",
      "locust-master-1-n7hrr  0/1    ContainerCreating  0         1s\n",
      "\n",
      "==> v1/ReplicationController\n",
      "NAME             DESIRED  CURRENT  READY  AGE\n",
      "locust-slave-1   64       0        0      1s\n",
      "locust-master-1  1        1        0      1s\n",
      "\n",
      "\n"
     ]
    }
   ],
   "source": [
    "!helm install ../helm-charts/seldon-core-loadtesting --name loadtest  \\\n",
    "    --set locust.host=loadtest:5001 \\\n",
    "    --set locust.script=predict_grpc_locust.py \\\n",
    "    --set oauth.enabled=false \\\n",
    "    --set oauth.key=oauth-key \\\n",
    "    --set oauth.secret=oauth-secret \\\n",
    "    --set locust.hatchRate=1 \\\n",
    "    --set locust.clients=256 \\\n",
    "    --set loadtest.sendFeedback=0 \\\n",
    "    --set locust.minWait=0 \\\n",
    "    --set locust.maxWait=0 \\\n",
    "    --set replicaCount=64 "
   ]
  },
  {
   "cell_type": "markdown",
   "metadata": {},
   "source": [
    "To download stats use \n",
    "\n",
    "```bash\n",
    "if [ \"$#\" -ne 2 ]; then\n",
    "    echo \"Illegal number of parameters: <experiment> <rest|grpc>\"\n",
    "fi\n",
    "\n",
    "EXPERIMENT=$1\n",
    "TYPE=$2\n",
    "\n",
    "MASTER=`kubectl get pod -l name=locust-master-1 -o jsonpath='{.items[0].metadata.name}'`\n",
    "\n",
    "kubectl cp ${MASTER}:stats_distribution.csv ${EXPERIMENT}_${TYPE}_stats_distribution.csv\n",
    "kubectl cp ${MASTER}:stats_requests.csv ${EXPERIMENT}_${TYPE}_stats_requests.csv\n",
    "```"
   ]
  },
  {
   "cell_type": "markdown",
   "metadata": {},
   "source": [
    "You can get live stats by viewing the logs of the locust master"
   ]
  },
  {
   "cell_type": "code",
   "execution_count": 21,
   "metadata": {},
   "outputs": [
    {
     "name": "stdout",
     "output_type": "stream",
     "text": [
      " grpc loadtest:5001                                            875872     0(0.00%)       1       0    5020  |       1 26458.80\r\n",
      "--------------------------------------------------------------------------------------------------------------------------------------------\r\n",
      " Total                                                         875872     0(0.00%)                                   26458.80\r\n",
      "\r\n",
      " Name                                                          # reqs      # fails     Avg     Min     Max  |  Median   req/s\r\n",
      "--------------------------------------------------------------------------------------------------------------------------------------------\r\n",
      " grpc loadtest:5001                                            917872     0(0.00%)       1       0    5020  |       1 25319.50\r\n",
      "--------------------------------------------------------------------------------------------------------------------------------------------\r\n",
      " Total                                                         917872     0(0.00%)                                   25319.50\r\n",
      "\r\n"
     ]
    }
   ],
   "source": [
    "!kubectl logs $(kubectl get pod -l name=locust-master-1 -o jsonpath='{.items[0].metadata.name}') --tail=10"
   ]
  },
  {
   "cell_type": "code",
   "execution_count": 22,
   "metadata": {},
   "outputs": [
    {
     "name": "stdout",
     "output_type": "stream",
     "text": [
      "release \"loadtest\" deleted\r\n"
     ]
    }
   ],
   "source": [
    "!helm delete loadtest --purge"
   ]
  },
  {
   "cell_type": "markdown",
   "metadata": {},
   "source": [
    "## REST \n",
    "Run REST benchmark"
   ]
  },
  {
   "cell_type": "code",
   "execution_count": 23,
   "metadata": {},
   "outputs": [
    {
     "name": "stdout",
     "output_type": "stream",
     "text": [
      "NAME:   loadtest\n",
      "LAST DEPLOYED: Wed Mar  7 15:20:13 2018\n",
      "NAMESPACE: default\n",
      "STATUS: DEPLOYED\n",
      "\n",
      "RESOURCES:\n",
      "==> v1/ReplicationController\n",
      "NAME             DESIRED  CURRENT  READY  AGE\n",
      "locust-slave-1   64       0        0      1s\n",
      "locust-master-1  1        1        0      1s\n",
      "\n",
      "==> v1/Service\n",
      "NAME             TYPE      CLUSTER-IP    EXTERNAL-IP  PORT(S)                                       AGE\n",
      "locust-master-1  NodePort  10.3.243.232  <none>       5557:31799/TCP,5558:32699/TCP,8089:30737/TCP  1s\n",
      "\n",
      "==> v1/Pod(related)\n",
      "NAME                   READY  STATUS             RESTARTS  AGE\n",
      "locust-slave-1-29sc7   0/1    Pending            0         1s\n",
      "locust-slave-1-4h2jz   0/1    ContainerCreating  0         1s\n",
      "locust-slave-1-545xr   0/1    Pending            0         1s\n",
      "locust-slave-1-55vbz   0/1    Pending            0         1s\n",
      "locust-slave-1-59lff   0/1    Pending            0         1s\n",
      "locust-slave-1-dtcvq   0/1    Pending            0         1s\n",
      "locust-slave-1-dzh8c   0/1    Pending            0         1s\n",
      "locust-slave-1-f4h26   0/1    Pending            0         1s\n",
      "locust-slave-1-hdk4v   0/1    ContainerCreating  0         1s\n",
      "locust-slave-1-hnfb7   0/1    Pending            0         1s\n",
      "locust-slave-1-j2w82   0/1    Pending            0         1s\n",
      "locust-slave-1-jtcsp   0/1    Pending            0         1s\n",
      "locust-slave-1-jvzjs   0/1    ContainerCreating  0         1s\n",
      "locust-slave-1-kkhpg   0/1    Pending            0         1s\n",
      "locust-slave-1-krhlk   0/1    Pending            0         0s\n",
      "locust-slave-1-kwwx2   0/1    Pending            0         1s\n",
      "locust-slave-1-lq2xn   0/1    ContainerCreating  0         1s\n",
      "locust-slave-1-ls2vj   0/1    ContainerCreating  0         1s\n",
      "locust-slave-1-m8r6d   0/1    Pending            0         1s\n",
      "locust-slave-1-mrcrb   0/1    Pending            0         1s\n",
      "locust-slave-1-pvdgp   0/1    Pending            0         1s\n",
      "locust-slave-1-pvqxp   0/1    Pending            0         1s\n",
      "locust-slave-1-q77j9   0/1    Pending            0         1s\n",
      "locust-slave-1-r4ss5   0/1    Pending            0         1s\n",
      "locust-slave-1-rm5rn   0/1    Pending            0         1s\n",
      "locust-slave-1-rpgt4   0/1    Pending            0         1s\n",
      "locust-slave-1-rs28s   0/1    Pending            0         1s\n",
      "locust-slave-1-tjhvl   0/1    Pending            0         1s\n",
      "locust-slave-1-vk2lg   0/1    Pending            0         1s\n",
      "locust-slave-1-vsxd7   0/1    Pending            0         1s\n",
      "locust-slave-1-vv8s8   0/1    Pending            0         1s\n",
      "locust-slave-1-vx9bn   0/1    Pending            0         1s\n",
      "locust-slave-1-zjlt4   0/1    Pending            0         1s\n",
      "locust-master-1-5jh2d  0/1    Pending            0         1s\n",
      "\n",
      "\n"
     ]
    }
   ],
   "source": [
    "!helm install ../helm-charts/seldon-core-loadtesting --name loadtest  \\\n",
    "    --set locust.host=http://loadtest:8000 \\\n",
    "    --set oauth.enabled=false \\\n",
    "    --set oauth.key=oauth-key \\\n",
    "    --set oauth.secret=oauth-secret \\\n",
    "    --set locust.hatchRate=1 \\\n",
    "    --set locust.clients=256 \\\n",
    "    --set loadtest.sendFeedback=0 \\\n",
    "    --set locust.minWait=0 \\\n",
    "    --set locust.maxWait=0 \\\n",
    "    --set replicaCount=64"
   ]
  },
  {
   "cell_type": "markdown",
   "metadata": {},
   "source": [
    "Get stats as per gRPC and/or monitor"
   ]
  },
  {
   "cell_type": "code",
   "execution_count": 24,
   "metadata": {},
   "outputs": [
    {
     "name": "stdout",
     "output_type": "stream",
     "text": [
      " POST predictions                                              250653     0(0.00%)       5       2    5011  |       4 11907.80\r\n",
      "--------------------------------------------------------------------------------------------------------------------------------------------\r\n",
      " Total                                                         250653     0(0.00%)                                   11907.80\r\n",
      "\r\n",
      " Name                                                          # reqs      # fails     Avg     Min     Max  |  Median   req/s\r\n",
      "--------------------------------------------------------------------------------------------------------------------------------------------\r\n",
      " POST predictions                                              272674     0(0.00%)       5       2    5011  |       4 11785.90\r\n",
      "--------------------------------------------------------------------------------------------------------------------------------------------\r\n",
      " Total                                                         272674     0(0.00%)                                   11785.90\r\n",
      "\r\n"
     ]
    }
   ],
   "source": [
    "!kubectl logs $(kubectl get pod -l name=locust-master-1 -o jsonpath='{.items[0].metadata.name}') --tail=10"
   ]
  },
  {
   "cell_type": "code",
   "execution_count": 25,
   "metadata": {},
   "outputs": [
    {
     "name": "stdout",
     "output_type": "stream",
     "text": [
      "release \"loadtest\" deleted\r\n"
     ]
    }
   ],
   "source": [
    "!helm delete loadtest --purge"
   ]
  },
  {
   "cell_type": "code",
   "execution_count": 26,
   "metadata": {},
   "outputs": [
    {
     "name": "stdout",
     "output_type": "stream",
     "text": [
      "node \"gke-loadtest-default-pool-e2e99314-7zb5\" cordoned\n",
      "node \"gke-loadtest-default-pool-e2e99314-gbjx\" cordoned\n",
      "node \"gke-loadtest-default-pool-e2e99314-hcvx\" cordoned\n"
     ]
    }
   ],
   "source": [
    "!kubectl cordon $(kubectl get nodes -o jsonpath='{.items[0].metadata.name}')\n",
    "!kubectl cordon $(kubectl get nodes -o jsonpath='{.items[1].metadata.name}')\n",
    "!kubectl cordon $(kubectl get nodes -o jsonpath='{.items[2].metadata.name}')"
   ]
  },
  {
   "cell_type": "markdown",
   "metadata": {},
   "source": [
    "## Tear Down"
   ]
  },
  {
   "cell_type": "code",
   "execution_count": 27,
   "metadata": {},
   "outputs": [
    {
     "name": "stdout",
     "output_type": "stream",
     "text": [
      "seldondeployment \"seldon-core-loadtest\" deleted\r\n"
     ]
    }
   ],
   "source": [
    "!kubectl delete -f resources/loadtest_simple_model.json"
   ]
  },
  {
   "cell_type": "code",
   "execution_count": 28,
   "metadata": {},
   "outputs": [
    {
     "name": "stdout",
     "output_type": "stream",
     "text": [
      "release \"seldon-core\" deleted\r\n"
     ]
    }
   ],
   "source": [
    "!helm delete seldon-core --purge"
   ]
  },
  {
   "cell_type": "code",
   "execution_count": 29,
   "metadata": {},
   "outputs": [
    {
     "name": "stdout",
     "output_type": "stream",
     "text": [
      "release \"seldon-core-crd\" deleted\r\n"
     ]
    }
   ],
   "source": [
    "!helm delete seldon-core-crd --purge"
   ]
  },
  {
   "cell_type": "code",
   "execution_count": null,
   "metadata": {
    "collapsed": true
   },
   "outputs": [],
   "source": []
  }
 ],
 "metadata": {
  "kernelspec": {
   "display_name": "Python 2",
   "language": "python",
   "name": "python2"
  },
  "language_info": {
   "codemirror_mode": {
    "name": "ipython",
    "version": 2
   },
   "file_extension": ".py",
   "mimetype": "text/x-python",
   "name": "python",
   "nbconvert_exporter": "python",
   "pygments_lexer": "ipython2",
   "version": "2.7.14"
  }
 },
 "nbformat": 4,
 "nbformat_minor": 1
}
