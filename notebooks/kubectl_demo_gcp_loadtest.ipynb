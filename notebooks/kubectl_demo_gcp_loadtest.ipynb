{
 "cells": [
  {
   "cell_type": "markdown",
   "metadata": {},
   "source": [
    "# Load Test Seldon-Core on GCP Kubernetes\n",
    "\n"
   ]
  },
  {
   "cell_type": "markdown",
   "metadata": {},
   "source": [
    "## Create Cluster"
   ]
  },
  {
   "cell_type": "code",
   "execution_count": null,
   "metadata": {
    "collapsed": true
   },
   "outputs": [],
   "source": [
    "!PROJECT=loadtesting\n",
    "!ZONE=europe-west1-b\n",
    "!gcloud beta container --project \"${PROJECT}\" clusters create \"loadtest\" \\\n",
    "    --zone \"${ZONE}\" \\\n",
    "    --username \"admin\" \\\n",
    "    --cluster-version \"1.9.3-gke.0\" \\\n",
    "    --machine-type \"n1-standard-16\" \\\n",
    "    --image-type \"COS\" \\\n",
    "    --disk-size \"100\" \\\n",
    "    --scopes \"https://www.googleapis.com/auth/compute\",\"https://www.googleapis.com/auth/devstorage.read_only\",\"https://www.googleapis.com/auth/logging.write\",\"https://www.googleapis.com/auth/monitoring\",\"https://www.googleapis.com/auth/servicecontrol\",\"https://www.googleapis.com/auth/service.management.readonly\",\"https://www.googleapis.com/auth/trace.append\" \\\n",
    "    --num-nodes \"4\" \\\n",
    "    --network \"default\" \\\n",
    "    --enable-cloud-logging \\\n",
    "    --enable-cloud-monitoring \\\n",
    "    --subnetwork \"default\""
   ]
  },
  {
   "cell_type": "markdown",
   "metadata": {},
   "source": [
    "## Install helm"
   ]
  },
  {
   "cell_type": "code",
   "execution_count": 1,
   "metadata": {},
   "outputs": [
    {
     "name": "stdout",
     "output_type": "stream",
     "text": [
      "serviceaccount \"tiller\" created\n",
      "clusterrolebinding \"tiller\" created\n",
      "$HELM_HOME has been configured at /home/clive/.helm.\n",
      "\n",
      "Tiller (the Helm server-side component) has been installed into your Kubernetes Cluster.\n",
      "Happy Helming!\n"
     ]
    }
   ],
   "source": [
    "!kubectl -n kube-system create sa tiller\n",
    "!kubectl create clusterrolebinding tiller --clusterrole cluster-admin --serviceaccount=kube-system:tiller\n",
    "!helm init --service-account tiller"
   ]
  },
  {
   "cell_type": "markdown",
   "metadata": {},
   "source": [
    "## Start Seldon-Core CRD"
   ]
  },
  {
   "cell_type": "code",
   "execution_count": 2,
   "metadata": {},
   "outputs": [
    {
     "name": "stdout",
     "output_type": "stream",
     "text": [
      "NAME:   seldon-core-crd\n",
      "LAST DEPLOYED: Mon Mar  5 19:41:43 2018\n",
      "NAMESPACE: default\n",
      "STATUS: DEPLOYED\n",
      "\n",
      "RESOURCES:\n",
      "==> v1beta1/CustomResourceDefinition\n",
      "NAME                                         AGE\n",
      "seldondeployments.machinelearning.seldon.io  0s\n",
      "\n",
      "\n",
      "NOTES:\n",
      "NOTES: TODO\n",
      "\n",
      "\n"
     ]
    }
   ],
   "source": [
    "!helm install ../helm-charts/seldon-core-crd --name seldon-core-crd"
   ]
  },
  {
   "cell_type": "markdown",
   "metadata": {},
   "source": [
    "## Cordon off loadtest nodes"
   ]
  },
  {
   "cell_type": "code",
   "execution_count": 4,
   "metadata": {},
   "outputs": [
    {
     "name": "stdout",
     "output_type": "stream",
     "text": [
      "NAME                                      STATUS    ROLES     AGE       VERSION\r\n",
      "gke-loadtest-default-pool-1bc67aef-5fz2   Ready     <none>    1m        v1.9.3-gke.0\r\n",
      "gke-loadtest-default-pool-1bc67aef-5jpp   Ready     <none>    1m        v1.9.3-gke.0\r\n",
      "gke-loadtest-default-pool-1bc67aef-rv06   Ready     <none>    2m        v1.9.3-gke.0\r\n",
      "gke-loadtest-default-pool-1bc67aef-xqpp   Ready     <none>    2m        v1.9.3-gke.0\r\n"
     ]
    }
   ],
   "source": [
    "!kubectl get nodes"
   ]
  },
  {
   "cell_type": "code",
   "execution_count": 5,
   "metadata": {},
   "outputs": [
    {
     "name": "stdout",
     "output_type": "stream",
     "text": [
      "node \"gke-loadtest-default-pool-1bc67aef-5fz2\" cordoned\n",
      "node \"gke-loadtest-default-pool-1bc67aef-5jpp\" cordoned\n",
      "node \"gke-loadtest-default-pool-1bc67aef-rv06\" cordoned\n"
     ]
    }
   ],
   "source": [
    "!kubectl cordon $(kubectl get nodes -o jsonpath='{.items[0].metadata.name}')\n",
    "!kubectl cordon $(kubectl get nodes -o jsonpath='{.items[1].metadata.name}')\n",
    "!kubectl cordon $(kubectl get nodes -o jsonpath='{.items[2].metadata.name}')"
   ]
  },
  {
   "cell_type": "code",
   "execution_count": 6,
   "metadata": {},
   "outputs": [
    {
     "name": "stdout",
     "output_type": "stream",
     "text": [
      "node \"gke-loadtest-default-pool-1bc67aef-5fz2\" labeled\n",
      "node \"gke-loadtest-default-pool-1bc67aef-5jpp\" labeled\n",
      "node \"gke-loadtest-default-pool-1bc67aef-rv06\" labeled\n"
     ]
    }
   ],
   "source": [
    "!kubectl label nodes $(kubectl get nodes -o jsonpath='{.items[0].metadata.name}') role=locust\n",
    "!kubectl label nodes $(kubectl get nodes -o jsonpath='{.items[1].metadata.name}') role=locust\n",
    "!kubectl label nodes $(kubectl get nodes -o jsonpath='{.items[2].metadata.name}') role=locust"
   ]
  },
  {
   "cell_type": "markdown",
   "metadata": {},
   "source": [
    "## Start seldon-core"
   ]
  },
  {
   "cell_type": "code",
   "execution_count": 7,
   "metadata": {},
   "outputs": [
    {
     "name": "stdout",
     "output_type": "stream",
     "text": [
      "NAME:   seldon-core\n",
      "LAST DEPLOYED: Mon Mar  5 19:42:28 2018\n",
      "NAMESPACE: default\n",
      "STATUS: DEPLOYED\n",
      "\n",
      "RESOURCES:\n",
      "==> v1beta1/Deployment\n",
      "NAME                    DESIRED  CURRENT  UP-TO-DATE  AVAILABLE  AGE\n",
      "seldon-apiserver        1        0        0           0          1s\n",
      "seldon-cluster-manager  1        0        0           0          1s\n",
      "redis                   1        1        1           0          1s\n",
      "\n",
      "==> v1/Service\n",
      "NAME              TYPE       CLUSTER-IP    EXTERNAL-IP  PORT(S)                        AGE\n",
      "seldon-apiserver  NodePort   10.3.249.47   <none>       8080:30890/TCP,5000:30137/TCP  1s\n",
      "redis             ClusterIP  10.3.240.187  <none>       6379/TCP                       1s\n",
      "\n",
      "==> v1/ServiceAccount\n",
      "NAME    SECRETS  AGE\n",
      "seldon  1        1s\n",
      "\n",
      "==> v1beta1/ClusterRoleBinding\n",
      "NAME    AGE\n",
      "seldon  1s\n",
      "\n",
      "==> v1/Pod(related)\n",
      "NAME                                     READY  STATUS             RESTARTS  AGE\n",
      "seldon-cluster-manager-68c8c6b5bf-wvs6f  0/1    Pending            0         0s\n",
      "redis-df886d999-c4bzl                    0/1    ContainerCreating  0         1s\n",
      "\n",
      "\n",
      "NOTES:\n",
      "NOTES: TODO\n",
      "\n",
      "\n"
     ]
    }
   ],
   "source": [
    "!helm install ../helm-charts/seldon-core --name seldon-core \\\n",
    "        --set cluster_manager.rbac=true \\\n",
    "        --set apife.enabled=true \\\n",
    "        --set engine.image.tag=0.1.6_SNAPSHOT_loadtest \\\n",
    "        --set cluster_manager.image.tag=0.1.6_SNAPSHOT_loadtest\n",
    "        "
   ]
  },
  {
   "cell_type": "code",
   "execution_count": 9,
   "metadata": {},
   "outputs": [
    {
     "name": "stdout",
     "output_type": "stream",
     "text": [
      "NAME                                      READY     STATUS    RESTARTS   AGE       IP         NODE\r\n",
      "redis-df886d999-c4bzl                     1/1       Running   0          1m        10.0.0.6   gke-loadtest-default-pool-1bc67aef-xqpp\r\n",
      "seldon-apiserver-64ccd4c5f4-c25st         1/1       Running   0          1m        10.0.0.7   gke-loadtest-default-pool-1bc67aef-xqpp\r\n",
      "seldon-cluster-manager-68c8c6b5bf-wvs6f   1/1       Running   0          1m        10.0.0.8   gke-loadtest-default-pool-1bc67aef-xqpp\r\n"
     ]
    }
   ],
   "source": [
    "!kubectl get pods -o wide"
   ]
  },
  {
   "cell_type": "markdown",
   "metadata": {},
   "source": [
    "## Create Stub Deployment"
   ]
  },
  {
   "cell_type": "code",
   "execution_count": 10,
   "metadata": {},
   "outputs": [
    {
     "name": "stdout",
     "output_type": "stream",
     "text": [
      "seldondeployment \"seldon-core-loadtest\" created\r\n"
     ]
    }
   ],
   "source": [
    "!kubectl apply -f resources/loadtest_simple_model.json"
   ]
  },
  {
   "cell_type": "code",
   "execution_count": 11,
   "metadata": {},
   "outputs": [
    {
     "name": "stdout",
     "output_type": "stream",
     "text": [
      "map[predictorStatus:[map[name:loadtest-loadtest replicas:1 replicasAvailable:1]]]"
     ]
    }
   ],
   "source": [
    "!kubectl get seldondeployments seldon-core-loadtest -o jsonpath='{.status}'"
   ]
  },
  {
   "cell_type": "markdown",
   "metadata": {},
   "source": [
    "## Load test"
   ]
  },
  {
   "cell_type": "code",
   "execution_count": 97,
   "metadata": {},
   "outputs": [
    {
     "name": "stdout",
     "output_type": "stream",
     "text": [
      "clusterrolebinding \"default-admin\" created\r\n"
     ]
    }
   ],
   "source": [
    "!kubectl create clusterrolebinding default-admin --clusterrole=cluster-admin --serviceaccount=default:default"
   ]
  },
  {
   "cell_type": "code",
   "execution_count": null,
   "metadata": {
    "collapsed": true
   },
   "outputs": [],
   "source": [
    "!helm install ../helm-charts/seldon-core-analytics --name seldon-core-analytics \\\n",
    "    --set grafana_prom_admin_password=password \\\n",
    "    --set persistence.enabled=false"
   ]
  },
  {
   "cell_type": "code",
   "execution_count": 12,
   "metadata": {},
   "outputs": [
    {
     "name": "stdout",
     "output_type": "stream",
     "text": [
      "node \"gke-loadtest-default-pool-1bc67aef-5fz2\" uncordoned\n",
      "node \"gke-loadtest-default-pool-1bc67aef-5jpp\" uncordoned\n",
      "node \"gke-loadtest-default-pool-1bc67aef-rv06\" uncordoned\n"
     ]
    }
   ],
   "source": [
    "!kubectl uncordon $(kubectl get nodes -o jsonpath='{.items[0].metadata.name}')\n",
    "!kubectl uncordon $(kubectl get nodes -o jsonpath='{.items[1].metadata.name}')\n",
    "!kubectl uncordon $(kubectl get nodes -o jsonpath='{.items[2].metadata.name}')\n"
   ]
  },
  {
   "cell_type": "code",
   "execution_count": 19,
   "metadata": {},
   "outputs": [
    {
     "name": "stdout",
     "output_type": "stream",
     "text": [
      "NAME:   loadtest\n",
      "LAST DEPLOYED: Mon Mar  5 19:57:30 2018\n",
      "NAMESPACE: default\n",
      "STATUS: DEPLOYED\n",
      "\n",
      "RESOURCES:\n",
      "==> v1/ReplicationController\n",
      "NAME             DESIRED  CURRENT  READY  AGE\n",
      "locust-slave-1   32       32       0      1s\n",
      "locust-master-1  1        1        0      1s\n",
      "\n",
      "==> v1/Service\n",
      "NAME             TYPE      CLUSTER-IP    EXTERNAL-IP  PORT(S)                                       AGE\n",
      "locust-master-1  NodePort  10.3.252.115  <none>       5557:30329/TCP,5558:30681/TCP,8089:30831/TCP  1s\n",
      "\n",
      "==> v1/Pod(related)\n",
      "NAME                   READY  STATUS             RESTARTS  AGE\n",
      "locust-slave-1-28s2v   0/1    Pending            0         1s\n",
      "locust-slave-1-2b6pp   0/1    ContainerCreating  0         1s\n",
      "locust-slave-1-4g5ct   0/1    Pending            0         1s\n",
      "locust-slave-1-4l5pg   0/1    Pending            0         1s\n",
      "locust-slave-1-5jz2r   0/1    ContainerCreating  0         1s\n",
      "locust-slave-1-6bgfr   0/1    Pending            0         1s\n",
      "locust-slave-1-6mwjq   0/1    Pending            0         1s\n",
      "locust-slave-1-75ptz   0/1    Pending            0         1s\n",
      "locust-slave-1-76q72   0/1    Pending            0         1s\n",
      "locust-slave-1-7sjkn   0/1    Pending            0         1s\n",
      "locust-slave-1-972cx   0/1    Pending            0         1s\n",
      "locust-slave-1-cd9dx   0/1    Pending            0         1s\n",
      "locust-slave-1-ddmc9   0/1    ContainerCreating  0         1s\n",
      "locust-slave-1-fg8bl   0/1    Pending            0         1s\n",
      "locust-slave-1-fjdpv   0/1    ContainerCreating  0         1s\n",
      "locust-slave-1-fzndl   0/1    Pending            0         1s\n",
      "locust-slave-1-gddnl   0/1    Pending            0         1s\n",
      "locust-slave-1-h4485   0/1    Pending            0         1s\n",
      "locust-slave-1-khw2v   0/1    ContainerCreating  0         1s\n",
      "locust-slave-1-mjnrf   0/1    ContainerCreating  0         1s\n",
      "locust-slave-1-pwgfk   0/1    ContainerCreating  0         1s\n",
      "locust-slave-1-pwn7x   0/1    ContainerCreating  0         1s\n",
      "locust-slave-1-pzh5k   0/1    Pending            0         1s\n",
      "locust-slave-1-qqqcx   0/1    ContainerCreating  0         1s\n",
      "locust-slave-1-qxssm   0/1    ContainerCreating  0         1s\n",
      "locust-slave-1-r95gm   0/1    Pending            0         1s\n",
      "locust-slave-1-rlwpj   0/1    Pending            0         1s\n",
      "locust-slave-1-sljpr   0/1    Pending            0         1s\n",
      "locust-slave-1-tdpdm   0/1    Pending            0         1s\n",
      "locust-slave-1-wff9b   0/1    ContainerCreating  0         1s\n",
      "locust-slave-1-wrqd6   0/1    Pending            0         1s\n",
      "locust-slave-1-xvddg   0/1    Pending            0         1s\n",
      "locust-master-1-xsg25  0/1    ContainerCreating  0         1s\n",
      "\n",
      "\n"
     ]
    }
   ],
   "source": [
    "!helm install ../helm-charts/seldon-core-loadtesting --name loadtest  \\\n",
    "    --set locust.host=loadtest:5001 \\\n",
    "    --set locust.script=predict_grpc_locust.py \\\n",
    "    --set oauth.enabled=false \\\n",
    "    --set oauth.key=oauth-key \\\n",
    "    --set oauth.secret=oauth-secret \\\n",
    "    --set locust.hatchRate=1 \\\n",
    "    --set locust.clients=512 \\\n",
    "    --set loadtest.sendFeedback=0 \\\n",
    "    --set locust.minWait=0 \\\n",
    "    --set locust.maxWait=0 \\\n",
    "    --set replicaCount=32 "
   ]
  },
  {
   "cell_type": "code",
   "execution_count": 17,
   "metadata": {},
   "outputs": [
    {
     "name": "stdout",
     "output_type": "stream",
     "text": [
      "NAME:   loadtest\n",
      "LAST DEPLOYED: Mon Mar  5 19:54:27 2018\n",
      "NAMESPACE: default\n",
      "STATUS: DEPLOYED\n",
      "\n",
      "RESOURCES:\n",
      "==> v1/Pod(related)\n",
      "NAME                   READY  STATUS             RESTARTS  AGE\n",
      "locust-slave-1-5fzfk   0/1    Pending            0         0s\n",
      "locust-slave-1-5qgc4   0/1    Pending            0         0s\n",
      "locust-slave-1-6m52k   0/1    Pending            0         0s\n",
      "locust-slave-1-7l7gt   0/1    ContainerCreating  0         0s\n",
      "locust-slave-1-8d6p2   0/1    Pending            0         0s\n",
      "locust-slave-1-9vgf8   0/1    Pending            0         0s\n",
      "locust-slave-1-9wm9w   0/1    Pending            0         0s\n",
      "locust-slave-1-d9vgs   0/1    Pending            0         0s\n",
      "locust-slave-1-fz7vg   0/1    Pending            0         0s\n",
      "locust-slave-1-g4w9m   0/1    Pending            0         0s\n",
      "locust-slave-1-g898l   0/1    Pending            0         0s\n",
      "locust-slave-1-gzxgt   0/1    Pending            0         0s\n",
      "locust-slave-1-jsrdf   0/1    Pending            0         0s\n",
      "locust-slave-1-k8g67   0/1    Pending            0         0s\n",
      "locust-slave-1-l6wmj   0/1    Pending            0         0s\n",
      "locust-slave-1-lb66r   0/1    ContainerCreating  0         0s\n",
      "locust-slave-1-lkks5   0/1    Pending            0         0s\n",
      "locust-slave-1-lsk6p   0/1    Pending            0         0s\n",
      "locust-slave-1-mb4qb   0/1    ContainerCreating  0         0s\n",
      "locust-slave-1-mbvmc   0/1    ContainerCreating  0         0s\n",
      "locust-slave-1-n2tcl   0/1    Pending            0         0s\n",
      "locust-slave-1-pcb97   0/1    ContainerCreating  0         0s\n",
      "locust-slave-1-plqz5   0/1    Pending            0         0s\n",
      "locust-slave-1-q2d8l   0/1    Pending            0         0s\n",
      "locust-slave-1-qkmwd   0/1    Pending            0         0s\n",
      "locust-slave-1-rrb66   0/1    ContainerCreating  0         0s\n",
      "locust-slave-1-rxtkn   0/1    ContainerCreating  0         0s\n",
      "locust-slave-1-sffs9   0/1    Pending            0         0s\n",
      "locust-slave-1-tdvw4   1/1    Terminating        0         1m\n",
      "locust-slave-1-v599r   0/1    Pending            0         0s\n",
      "locust-slave-1-w7zg9   0/1    Pending            0         0s\n",
      "locust-slave-1-whkxz   0/1    Pending            0         0s\n",
      "locust-slave-1-wlps8   0/1    Pending            0         0s\n",
      "locust-master-1-4ldtv  0/1    ContainerCreating  0         0s\n",
      "\n",
      "==> v1/ReplicationController\n",
      "NAME             DESIRED  CURRENT  READY  AGE\n",
      "locust-slave-1   32       0        0      0s\n",
      "locust-master-1  1        1        0      0s\n",
      "\n",
      "==> v1/Service\n",
      "NAME             TYPE      CLUSTER-IP    EXTERNAL-IP  PORT(S)                                       AGE\n",
      "locust-master-1  NodePort  10.3.247.120  <none>       5557:31493/TCP,5558:32346/TCP,8089:31791/TCP  0s\n",
      "\n",
      "\n"
     ]
    }
   ],
   "source": [
    "!helm install ../helm-charts/seldon-core-loadtesting --name loadtest  \\\n",
    "    --set locust.host=http://loadtest:8000 \\\n",
    "    --set oauth.enabled=false \\\n",
    "    --set oauth.key=oauth-key \\\n",
    "    --set oauth.secret=oauth-secret \\\n",
    "    --set locust.hatchRate=1 \\\n",
    "    --set locust.clients=256 \\\n",
    "    --set loadtest.sendFeedback=0 \\\n",
    "    --set locust.minWait=0 \\\n",
    "    --set locust.maxWait=0 \\\n",
    "    --set replicaCount=32"
   ]
  },
  {
   "cell_type": "code",
   "execution_count": 76,
   "metadata": {},
   "outputs": [
    {
     "name": "stdout",
     "output_type": "stream",
     "text": [
      "node \"gke-loadtest-default-pool-b0c49eff-4l6d\" cordoned\n",
      "node \"gke-loadtest-default-pool-b0c49eff-gn9z\" cordoned\n",
      "node \"gke-loadtest-default-pool-b0c49eff-m3g5\" cordoned\n",
      "node \"gke-loadtest-default-pool-b0c49eff-n6h3\" cordoned\n"
     ]
    }
   ],
   "source": [
    "!kubectl cordon $(kubectl get nodes -o jsonpath='{.items[0].metadata.name}')\n",
    "!kubectl cordon $(kubectl get nodes -o jsonpath='{.items[1].metadata.name}')\n",
    "!kubectl cordon $(kubectl get nodes -o jsonpath='{.items[2].metadata.name}')\n",
    "!kubectl cordon $(kubectl get nodes -o jsonpath='{.items[3].metadata.name}')"
   ]
  },
  {
   "cell_type": "code",
   "execution_count": 20,
   "metadata": {},
   "outputs": [
    {
     "name": "stdout",
     "output_type": "stream",
     "text": [
      "release \"loadtest\" deleted\r\n"
     ]
    }
   ],
   "source": [
    "!helm delete loadtest --purge"
   ]
  },
  {
   "cell_type": "markdown",
   "metadata": {},
   "source": [
    "## Tear Down"
   ]
  },
  {
   "cell_type": "code",
   "execution_count": null,
   "metadata": {
    "collapsed": true
   },
   "outputs": [],
   "source": [
    "!kubectl delete -f resources/model.json"
   ]
  },
  {
   "cell_type": "code",
   "execution_count": null,
   "metadata": {
    "collapsed": true
   },
   "outputs": [],
   "source": [
    "!helm delete seldon-core --purge"
   ]
  },
  {
   "cell_type": "code",
   "execution_count": null,
   "metadata": {
    "collapsed": true
   },
   "outputs": [],
   "source": [
    "!helm delete seldon-core-crd --purge"
   ]
  },
  {
   "cell_type": "code",
   "execution_count": null,
   "metadata": {
    "collapsed": true
   },
   "outputs": [],
   "source": []
  }
 ],
 "metadata": {
  "kernelspec": {
   "display_name": "Python 2",
   "language": "python",
   "name": "python2"
  },
  "language_info": {
   "codemirror_mode": {
    "name": "ipython",
    "version": 2
   },
   "file_extension": ".py",
   "mimetype": "text/x-python",
   "name": "python",
   "nbconvert_exporter": "python",
   "pygments_lexer": "ipython2",
   "version": "2.7.14"
  }
 },
 "nbformat": 4,
 "nbformat_minor": 1
}
