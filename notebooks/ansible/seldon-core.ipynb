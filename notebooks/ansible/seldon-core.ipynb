{
 "cells": [
  {
   "cell_type": "markdown",
   "id": "cf988cdb-30fb-467f-a51e-39bb15d51fb8",
   "metadata": {},
   "source": [
    "# Install Seldon Core in Kind using Ansible\n",
    "\n",
    "This runbook illustrates how Seldon Core (including Istio and MinIO) can be installed newly created Kind cluster."
   ]
  },
  {
   "cell_type": "markdown",
   "id": "6787ef4a-0a57-44c4-a919-7b8442fe7ddd",
   "metadata": {},
   "source": [
    "## Install Required Dependencies\n",
    "\n",
    "\n",
    "To run kind cluster we will require following (prerequisites):\n",
    "- Docker\n",
    "- kind\n",
    "- kubectl\n",
    "- helm\n",
    "- Python (3.7+ with 3.8 preferred)\n",
    "\n",
    "To test the deployment:\n",
    "- curl\n",
    "- jq\n",
    "\n",
    "\n",
    "As per documentation for our [ansible-k8s-collection](https://github.com/SeldonIO/ansible-k8s-collection) we will require a following\n",
    "\n",
    "```yaml\n",
    "pip install ansible openshift docker passlib\n",
    "ansible-galaxy collection install git+https://github.com/SeldonIO/ansible-k8s-collection.git\n",
    "```"
   ]
  },
  {
   "cell_type": "markdown",
   "id": "f2dfd43d-16bc-4f80-885c-6a383ab2bd49",
   "metadata": {},
   "source": [
    "## Created local configuration files"
   ]
  },
  {
   "cell_type": "code",
   "execution_count": 2,
   "id": "825b8224-3654-456e-badb-7bb09f6a8337",
   "metadata": {},
   "outputs": [
    {
     "name": "stdout",
     "output_type": "stream",
     "text": [
      "Overwriting inventory.ini\n"
     ]
    }
   ],
   "source": [
    "%%writefile inventory.ini\n",
    "[all:vars]\n",
    "ansible_python_interpreter=python3\n",
    "\n",
    "[all]\n",
    "localhost ansible_connection=local"
   ]
  },
  {
   "cell_type": "code",
   "execution_count": 3,
   "id": "a99ca2fb-50ac-43c0-a2ea-5725acad168b",
   "metadata": {},
   "outputs": [
    {
     "name": "stdout",
     "output_type": "stream",
     "text": [
      "Overwriting ansible.cfg\n"
     ]
    }
   ],
   "source": [
    "%%writefile ansible.cfg\n",
    "[defaults]\n",
    "inventory = ./inventory.ini\n",
    "nocows = 1"
   ]
  },
  {
   "cell_type": "markdown",
   "id": "b2c7af0b-1d55-4582-a4bf-3e605bf23d5d",
   "metadata": {},
   "source": [
    "## Create and execute Ansible Playbook"
   ]
  },
  {
   "cell_type": "code",
   "execution_count": 15,
   "id": "a48644ae-0c8a-49f5-9eba-1d4ba6c04021",
   "metadata": {},
   "outputs": [
    {
     "name": "stdout",
     "output_type": "stream",
     "text": [
      "Overwriting core.yaml\n"
     ]
    }
   ],
   "source": [
    "%%writefile core.yaml\n",
    "---\n",
    "- name: Install Seldon Core\n",
    "  hosts: localhost\n",
    "  roles:\n",
    "    - seldonio.k8s.kind\n",
    "    - seldonio.k8s.metallb    \n",
    "    - seldonio.k8s.istio\n",
    "    - seldonio.k8s.seldon_core\n",
    "  vars:\n",
    "    kind_cluster_name: ansible\n",
    "    kind_image_version: kindest/node:v1.18.15\n",
    "    kind_kubectl_default_namespace: seldon\n",
    "        \n",
    "    istio_version: 1.7.6\n",
    "    istio_verify_install: false\n",
    "    seldon_core_version: v1.9.1\n",
    "    seldon_core_values:\n",
    "      istio:\n",
    "        enabled: true\n",
    "        gateway: \"seldon-gateway.istio-system.svc.cluster.local\""
   ]
  },
  {
   "cell_type": "code",
   "execution_count": 16,
   "id": "04302f53-2b82-47c6-af81-b4d5b6eafb63",
   "metadata": {},
   "outputs": [
    {
     "name": "stdout",
     "output_type": "stream",
     "text": [
      "\u001b[0;35m[DEPRECATION WARNING]: Ansible will require Python 3.8 or newer on the \u001b[0m\n",
      "\u001b[0;35mcontroller starting with Ansible 2.12. Current version: 3.7.10 | packaged by \u001b[0m\n",
      "\u001b[0;35mconda-forge | (default, Feb 19 2021, 16:07:37) [GCC 9.3.0]. This feature will \u001b[0m\n",
      "\u001b[0;35mbe removed from ansible-core in version 2.12. Deprecation warnings can be \u001b[0m\n",
      "\u001b[0;35mdisabled by setting deprecation_warnings=False in ansible.cfg.\u001b[0m\n",
      "\n",
      "PLAY [Install Seldon Core] *****************************************************\n",
      "\n",
      "TASK [Gathering Facts] *********************************************************\n",
      "\u001b[0;32mok: [localhost]\u001b[0m\n",
      "\n",
      "TASK [seldonio.k8s.kind : Check if KinD Cluster already exists: ansible] *******\n",
      "\u001b[0;32mok: [localhost]\u001b[0m\n",
      "\n",
      "TASK [seldonio.k8s.kind : Start KinD Cluster: 'ansible'] ***********************\n",
      "\u001b[0;36mskipping: [localhost]\u001b[0m\n",
      "\n",
      "TASK [seldonio.k8s.kind : Echo output of \"kind create cluster ...\" command] ****\n",
      "\u001b[0;36mskipping: [localhost]\u001b[0m\n",
      "\n",
      "TASK [seldonio.k8s.kind : Export kubeconfig for KinD Cluster: 'ansible'] *******\n",
      "\u001b[0;33mchanged: [localhost]\u001b[0m\n",
      "\n",
      "TASK [seldonio.k8s.kind : Create a k8s namespace: seldon] **********************\n",
      "\u001b[0;32mok: [localhost]\u001b[0m\n",
      "\n",
      "TASK [seldonio.k8s.kind : Set default for kubectl namespace: seldon] ***********\n",
      "\u001b[0;33mchanged: [localhost]\u001b[0m\n",
      "\n",
      "TASK [seldonio.k8s.metallb : Get information about kind network in docker.] ****\n",
      "\u001b[0;32mok: [localhost]\u001b[0m\n",
      "\n",
      "TASK [seldonio.k8s.metallb : Extract subnet of kind network] *******************\n",
      "\u001b[0;32mok: [localhost]\u001b[0m\n",
      "\n",
      "TASK [seldonio.k8s.metallb : Set ranges for MetalLB] ***************************\n",
      "\u001b[0;32mok: [localhost]\u001b[0m\n",
      "\n",
      "TASK [seldonio.k8s.metallb : Echo message about kind network 2] ****************\n",
      "\u001b[0;32mok: [localhost] => {\u001b[0m\n",
      "\u001b[0;32m    \"msg\": [\u001b[0m\n",
      "\u001b[0;32m        \"metallb_range_start: 172.18.255.1\",\u001b[0m\n",
      "\u001b[0;32m        \"metallb_range_stop: 172.18.255.255\"\u001b[0m\n",
      "\u001b[0;32m    ]\u001b[0m\n",
      "\u001b[0;32m}\u001b[0m\n",
      "\n",
      "TASK [seldonio.k8s.metallb : Deploy MetalLB] ***********************************\n",
      "\u001b[0;32mok: [localhost] => (item=https://raw.githubusercontent.com/metallb/metallb/v0.9.3/manifests/namespace.yaml)\u001b[0m\n",
      "\u001b[0;32mok: [localhost] => (item=https://raw.githubusercontent.com/metallb/metallb/v0.9.3/manifests/metallb.yaml)\u001b[0m\n",
      "\n",
      "TASK [seldonio.k8s.metallb : Create OpenSSL secretkey] *************************\n",
      "\u001b[0;33mchanged: [localhost]\u001b[0m\n",
      "\n",
      "TASK [seldonio.k8s.metallb : Create memberlist secret] *************************\n",
      "\u001b[0;33mchanged: [localhost]\u001b[0m\n",
      "\n",
      "TASK [seldonio.k8s.metallb : Create MetalLB Config] ****************************\n",
      "\u001b[0;32mok: [localhost]\u001b[0m\n",
      "\n",
      "TASK [seldonio.k8s.istio : Check if Istio 1.7.6 already downloaded.] ***********\n",
      "\u001b[0;32mok: [localhost]\u001b[0m\n",
      "\n",
      "TASK [seldonio.k8s.istio : Create .resources directory if does not exist: /home/rskolasinski/work/seldon-core/notebooks/ansible/.resources/] ***\n",
      "\u001b[0;32mok: [localhost]\u001b[0m\n",
      "\n",
      "TASK [seldonio.k8s.istio : Download Istio 1.7.6] *******************************\n",
      "\u001b[0;36mskipping: [localhost]\u001b[0m\n",
      "\n",
      "TASK [seldonio.k8s.istio : Install Istio 1.7.6] ********************************\n",
      "\u001b[0;33mchanged: [localhost]\u001b[0m\n",
      "\n",
      "TASK [seldonio.k8s.istio : Verify Install Istio 1.7.6] *************************\n",
      "\u001b[0;36mskipping: [localhost]\u001b[0m\n",
      "\n",
      "TASK [seldonio.k8s.istio : Create Seldon Gateway] ******************************\n",
      "\u001b[0;32mok: [localhost]\u001b[0m\n",
      "\n",
      "TASK [seldonio.k8s.seldon_core : Create a k8s namespaces] **********************\n",
      "\u001b[0;32mok: [localhost] => (item=seldon-system)\u001b[0m\n",
      "\u001b[0;32mok: [localhost] => (item=seldon)\u001b[0m\n",
      "\n",
      "TASK [seldonio.k8s.seldon_core : Git clone Seldon Core repo and checkout v1.9.1] ***\n",
      "\u001b[0;33mchanged: [localhost]\u001b[0m\n",
      "\n",
      "TASK [seldonio.k8s.seldon_core : Set Seldon Core Directory] ********************\n",
      "\u001b[0;32mok: [localhost]\u001b[0m\n",
      "\n",
      "TASK [seldonio.k8s.seldon_core : Deploy Seldon Core] ***************************\n",
      "\u001b[1;35m[WARNING]: The default idempotency check can fail to report changes in certain\u001b[0m\n",
      "\u001b[1;35mcases. Install helm diff for better results.\u001b[0m\n",
      "\u001b[0;33mchanged: [localhost]\u001b[0m\n",
      "\n",
      "TASK [seldonio.k8s.seldon_core : Wait for Seldon Core deployments] *************\n",
      "\u001b[0;32mok: [localhost] => (item=seldon-controller-manager)\u001b[0m\n",
      "\n",
      "PLAY RECAP *********************************************************************\n",
      "\u001b[0;33mlocalhost\u001b[0m                  : \u001b[0;32mok=22  \u001b[0m \u001b[0;33mchanged=7   \u001b[0m unreachable=0    failed=0    \u001b[0;36mskipped=4   \u001b[0m rescued=0    ignored=0   \n",
      "\n"
     ]
    }
   ],
   "source": [
    "!ansible-playbook core.yaml"
   ]
  },
  {
   "cell_type": "markdown",
   "id": "b593c764-2867-4322-b762-a61c20834c1d",
   "metadata": {},
   "source": [
    "## Verify the installation"
   ]
  },
  {
   "cell_type": "code",
   "execution_count": 17,
   "id": "ae56bd25-03e6-4f69-b34b-2c8a853c13fb",
   "metadata": {},
   "outputs": [
    {
     "name": "stdout",
     "output_type": "stream",
     "text": [
      "ansible\n"
     ]
    }
   ],
   "source": [
    "!kind get clusters"
   ]
  },
  {
   "cell_type": "code",
   "execution_count": 28,
   "id": "bf6fe78a-ce8b-4d3a-acb9-d8afc601da99",
   "metadata": {},
   "outputs": [
    {
     "name": "stdout",
     "output_type": "stream",
     "text": [
      "NAMESPACE            NAME                                            READY   STATUS        RESTARTS   AGE\n",
      "istio-system         istio-ingressgateway-797b6b595c-t47lb           1/1     Running       0          176m\n",
      "istio-system         istiod-55c94c6799-blmrw                         1/1     Running       0          177m\n",
      "kube-system          coredns-66bff467f8-dmjnf                        1/1     Running       0          177m\n",
      "kube-system          coredns-66bff467f8-spkj7                        1/1     Running       0          177m\n",
      "kube-system          etcd-ansible-control-plane                      1/1     Running       0          177m\n",
      "kube-system          kindnet-qcq5t                                   1/1     Running       0          177m\n",
      "kube-system          kube-apiserver-ansible-control-plane            1/1     Running       0          177m\n",
      "kube-system          kube-controller-manager-ansible-control-plane   1/1     Running       0          177m\n",
      "kube-system          kube-proxy-n2gqn                                1/1     Running       0          177m\n",
      "kube-system          kube-scheduler-ansible-control-plane            1/1     Running       0          177m\n",
      "local-path-storage   local-path-provisioner-5b4b545c55-nf95d         1/1     Running       0          177m\n",
      "metallb-system       controller-57f648cb96-ptx5h                     1/1     Running       0          177m\n",
      "metallb-system       speaker-nf698                                   1/1     Running       0          177m\n",
      "minio-system         minio-5846b75c9c-ckshn                          1/1     Running       0          175m\n",
      "seldon-system        seldon-controller-manager-6544fb585-wq4fj       1/1     Running       0          6m7s\n",
      "seldon               sklearn-default-0-classifier-6dbf457fc8-7p27h   0/2     Terminating   0          8m36s\n",
      "seldon               sklearn-default-0-classifier-74856df987-l9pp2   2/2     Running       0          5m25s\n"
     ]
    }
   ],
   "source": [
    "!kubectl get pods -A"
   ]
  },
  {
   "cell_type": "markdown",
   "id": "2b2e6da0-6883-415f-9ae0-871b8e0cfbe9",
   "metadata": {},
   "source": [
    "## Create and test deployment"
   ]
  },
  {
   "cell_type": "code",
   "execution_count": 25,
   "id": "b8aae71f-9b31-4e1d-a869-e177e875d7b8",
   "metadata": {},
   "outputs": [
    {
     "name": "stdout",
     "output_type": "stream",
     "text": [
      "Overwriting sklearn.yaml\n"
     ]
    }
   ],
   "source": [
    "%%writefile sklearn.yaml\n",
    "apiVersion: machinelearning.seldon.io/v1alpha2\n",
    "kind: SeldonDeployment\n",
    "metadata:\n",
    "  name: sklearn\n",
    "spec:\n",
    "  predictors:\n",
    "    - graph:\n",
    "        implementation: SKLEARN_SERVER\n",
    "        modelUri: gs://seldon-models/sklearn/iris\n",
    "        name: classifier\n",
    "      name: default\n",
    "      replicas: 1"
   ]
  },
  {
   "cell_type": "code",
   "execution_count": 26,
   "id": "5b69009e-6ecd-44d9-9dde-b1232e139189",
   "metadata": {},
   "outputs": [
    {
     "name": "stdout",
     "output_type": "stream",
     "text": [
      "seldondeployment.machinelearning.seldon.io/sklearn unchanged\n"
     ]
    }
   ],
   "source": [
    "!kubectl apply -f sklearn.yaml"
   ]
  },
  {
   "cell_type": "code",
   "execution_count": 27,
   "id": "888eae6b-c768-4b6c-a3ea-89cb6a95ac62",
   "metadata": {},
   "outputs": [
    {
     "name": "stdout",
     "output_type": "stream",
     "text": [
      "deployment \"sklearn-default-0-classifier\" successfully rolled out\n"
     ]
    }
   ],
   "source": [
    "!kubectl rollout status deploy/$(kubectl get deploy -l seldon-deployment-id=sklearn -o jsonpath='{.items[0].metadata.name}')"
   ]
  },
  {
   "cell_type": "markdown",
   "id": "ce3e640d-d099-480e-8c26-22b95f3ef589",
   "metadata": {},
   "source": [
    "With MetalLB Istio Ingress will have a local IP"
   ]
  },
  {
   "cell_type": "code",
   "execution_count": 29,
   "id": "d3026c12-216b-4261-80d1-6d57fe87c4e0",
   "metadata": {},
   "outputs": [
    {
     "name": "stdout",
     "output_type": "stream",
     "text": [
      "NAME                   TYPE           CLUSTER-IP      EXTERNAL-IP    PORT(S)                                                      AGE\n",
      "istio-ingressgateway   LoadBalancer   10.96.31.162    172.18.255.1   15021:30852/TCP,80:31393/TCP,443:32669/TCP,15443:31281/TCP   176m\n",
      "istiod                 ClusterIP      10.96.249.126   <none>         15010/TCP,15012/TCP,443/TCP,15014/TCP,853/TCP                177m\n"
     ]
    }
   ],
   "source": [
    "!kubectl get svc -n istio-system"
   ]
  },
  {
   "cell_type": "code",
   "execution_count": 31,
   "id": "28290ae9-b11e-47eb-90e3-75e928875e2d",
   "metadata": {},
   "outputs": [
    {
     "name": "stdout",
     "output_type": "stream",
     "text": [
      "{\n",
      "  \"data\": {\n",
      "    \"names\": [\n",
      "      \"t:0\",\n",
      "      \"t:1\",\n",
      "      \"t:2\"\n",
      "    ],\n",
      "    \"ndarray\": [\n",
      "      [\n",
      "        0.9548873249364169,\n",
      "        0.04505474761561406,\n",
      "        5.7927447968952436e-05\n",
      "      ]\n",
      "    ]\n",
      "  },\n",
      "  \"meta\": {\n",
      "    \"requestPath\": {\n",
      "      \"classifier\": \"seldonio/sklearnserver:1.9.1\"\n",
      "    }\n",
      "  }\n",
      "}\n"
     ]
    }
   ],
   "source": [
    "%%bash\n",
    "curl -s -X POST -H 'Content-Type: application/json' \\\n",
    "    -d '{\"data\":{\"ndarray\":[[5.964, 4.006, 2.081, 1.031]]}}' \\\n",
    "    http://172.18.255.1/seldon/seldon/sklearn/api/v1.0/predictions  | jq ."
   ]
  },
  {
   "cell_type": "markdown",
   "id": "0cae0ec8-1c44-4ce3-877f-da8a4eb2b9c4",
   "metadata": {},
   "source": [
    "## Cleanup"
   ]
  },
  {
   "cell_type": "code",
   "execution_count": 32,
   "id": "a54a5068-f1cf-4281-9eb5-b5eeb6b2196c",
   "metadata": {},
   "outputs": [
    {
     "name": "stdout",
     "output_type": "stream",
     "text": [
      "Deleting cluster \"ansible\" ...\n"
     ]
    }
   ],
   "source": [
    "!kind delete cluster --name ansible"
   ]
  }
 ],
 "metadata": {
  "kernelspec": {
   "display_name": "Python 3",
   "language": "python",
   "name": "python3"
  },
  "language_info": {
   "codemirror_mode": {
    "name": "ipython",
    "version": 3
   },
   "file_extension": ".py",
   "mimetype": "text/x-python",
   "name": "python",
   "nbconvert_exporter": "python",
   "pygments_lexer": "ipython3",
   "version": "3.7.10"
  }
 },
 "nbformat": 4,
 "nbformat_minor": 5
}
