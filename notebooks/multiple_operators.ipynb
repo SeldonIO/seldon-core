{
 "cells": [
  {
   "cell_type": "markdown",
   "metadata": {},
   "source": [
    "# Multiple Seldon Core Operators\n",
    "\n",
    "This notebook illustrate how multiple Seldon Core Operators can share the same cluster. In particular:\n",
    "\n",
    "  * A Namespaced Operator that only manages Seldon Deployments inside its namespace. Only needs Role RBAC and Namespace labeled with `controller-id`\n",
    "  * A Clusterwide Operator that manges SeldonDeployment with a matching `controller-id` label.\n",
    "  * A Clusterwide Operator that manages Seldon Deployments not handled by the above."
   ]
  },
  {
   "cell_type": "markdown",
   "metadata": {},
   "source": [
    "## Namespaced Seldon Core Operator"
   ]
  },
  {
   "cell_type": "code",
   "execution_count": null,
   "metadata": {},
   "outputs": [],
   "source": [
    "!kubectl create namespace seldon-ns1"
   ]
  },
  {
   "cell_type": "code",
   "execution_count": null,
   "metadata": {},
   "outputs": [],
   "source": [
    "!kubectl label namespace seldon-ns1 controller-id=seldon-ns1"
   ]
  },
  {
   "cell_type": "code",
   "execution_count": null,
   "metadata": {},
   "outputs": [],
   "source": [
    "!helm install seldon-namespaced  ../helm-charts/seldon-core-operator  \\\n",
    "    --set singleNamespace=true \\\n",
    "    --set image.pullPolicy=IfNotPresent \\\n",
    "    --set usageMetrics.enabled=false \\\n",
    "    --set crd.create=true \\\n",
    "    --namespace seldon-ns1"
   ]
  },
  {
   "cell_type": "code",
   "execution_count": null,
   "metadata": {},
   "outputs": [],
   "source": [
    "!kubectl rollout status deployment/seldon-controller-manager -n seldon-ns1"
   ]
  },
  {
   "cell_type": "code",
   "execution_count": null,
   "metadata": {},
   "outputs": [],
   "source": [
    "!kubectl create -f resources/model.yaml -n seldon-ns1"
   ]
  },
  {
   "cell_type": "code",
   "execution_count": null,
   "metadata": {},
   "outputs": [],
   "source": [
    "!kubectl get sdep -n seldon-ns1"
   ]
  },
  {
   "cell_type": "markdown",
   "metadata": {},
   "source": [
    "## Label Focused Seldon Core Operator\n",
    "\n",
    " * We set `crd.create=false` as the CRD already exists in the cluster.\n",
    " * We set `controllerId=seldon-id1`. SeldonDeployments with this label will be managed."
   ]
  },
  {
   "cell_type": "code",
   "execution_count": null,
   "metadata": {},
   "outputs": [],
   "source": [
    "!kubectl create namespace seldon-id1"
   ]
  },
  {
   "cell_type": "code",
   "execution_count": null,
   "metadata": {},
   "outputs": [],
   "source": [
    "!helm install seldon-namespaced  ../helm-charts/seldon-core-operator  \\\n",
    "    --set singleNamespace=false \\\n",
    "    --set image.pullPolicy=IfNotPresent \\\n",
    "    --set usageMetrics.enabled=false \\\n",
    "    --set crd.create=false \\\n",
    "    --set controllerId=seldon-id1 \\\n",
    "    --namespace seldon-id1"
   ]
  },
  {
   "cell_type": "code",
   "execution_count": null,
   "metadata": {},
   "outputs": [],
   "source": [
    "!kubectl rollout status deployment/seldon-controller-manager -n seldon-id1"
   ]
  },
  {
   "cell_type": "code",
   "execution_count": 1,
   "metadata": {},
   "outputs": [
    {
     "name": "stdout",
     "output_type": "stream",
     "text": [
      "\u001b[34;01mapiVersion\u001b[39;49;00m: machinelearning.seldon.io/v1alpha2\r\n",
      "\u001b[34;01mkind\u001b[39;49;00m: SeldonDeployment\r\n",
      "\u001b[34;01mmetadata\u001b[39;49;00m:\r\n",
      "  \u001b[34;01mlabels\u001b[39;49;00m:\r\n",
      "    \u001b[34;01mapp\u001b[39;49;00m: seldon\r\n",
      "    \u001b[34;01mcontroller-id\u001b[39;49;00m: seldon-id1\r\n",
      "  \u001b[34;01mname\u001b[39;49;00m: test-c1\r\n",
      "\u001b[34;01mspec\u001b[39;49;00m:\r\n",
      "  \u001b[34;01mname\u001b[39;49;00m: test-c1\r\n",
      "  \u001b[34;01mpredictors\u001b[39;49;00m:\r\n",
      "  - \u001b[34;01mcomponentSpecs\u001b[39;49;00m:\r\n",
      "    - \u001b[34;01mspec\u001b[39;49;00m:\r\n",
      "        \u001b[34;01mcontainers\u001b[39;49;00m:\r\n",
      "        - \u001b[34;01mimage\u001b[39;49;00m: seldonio/mock_classifier:1.0\r\n",
      "          \u001b[34;01mimagePullPolicy\u001b[39;49;00m: IfNotPresent\r\n",
      "          \u001b[34;01mname\u001b[39;49;00m: classifier\r\n",
      "          \u001b[34;01mresources\u001b[39;49;00m:\r\n",
      "            \u001b[34;01mrequests\u001b[39;49;00m:\r\n",
      "              \u001b[34;01mmemory\u001b[39;49;00m: 1Mi\r\n",
      "        \u001b[34;01mterminationGracePeriodSeconds\u001b[39;49;00m: 1\r\n",
      "        \u001b[34;01mvolumes\u001b[39;49;00m:\r\n",
      "          - \u001b[34;01mname\u001b[39;49;00m: myempty\r\n",
      "            \u001b[34;01memptyDir\u001b[39;49;00m: {}\r\n",
      "    \u001b[34;01mgraph\u001b[39;49;00m:\r\n",
      "      \u001b[34;01mchildren\u001b[39;49;00m: []\r\n",
      "      \u001b[34;01mendpoint\u001b[39;49;00m:\r\n",
      "        \u001b[34;01mtype\u001b[39;49;00m: REST\r\n",
      "      \u001b[34;01mname\u001b[39;49;00m: classifier\r\n",
      "      \u001b[34;01mtype\u001b[39;49;00m: MODEL\r\n",
      "    \u001b[34;01mlabels\u001b[39;49;00m:\r\n",
      "      \u001b[34;01mversion\u001b[39;49;00m: v1\r\n",
      "    \u001b[34;01mname\u001b[39;49;00m: example\r\n",
      "    \u001b[34;01mreplicas\u001b[39;49;00m: 1\r\n"
     ]
    }
   ],
   "source": [
    "!pygmentize resources/model_controller_id.yaml"
   ]
  },
  {
   "cell_type": "code",
   "execution_count": null,
   "metadata": {},
   "outputs": [],
   "source": [
    "!kubectl create -f resources/model_controller_id.yaml -n default"
   ]
  },
  {
   "cell_type": "code",
   "execution_count": null,
   "metadata": {},
   "outputs": [],
   "source": [
    "!kubectl get sdep -n default"
   ]
  },
  {
   "cell_type": "markdown",
   "metadata": {},
   "source": [
    "## Global Seldon Core Operator"
   ]
  },
  {
   "cell_type": "code",
   "execution_count": null,
   "metadata": {},
   "outputs": [],
   "source": [
    "!kubectl create namespace seldon-clusterwide"
   ]
  },
  {
   "cell_type": "code",
   "execution_count": null,
   "metadata": {},
   "outputs": [],
   "source": [
    "!helm install seldon-clusterwide  ../helm-charts/seldon-core-operator  \\\n",
    "    --set singleNamespace=false \\\n",
    "    --set image.pullPolicy=IfNotPresent \\\n",
    "    --set usageMetrics.enabled=false \\\n",
    "    --set crd.create=false \\\n",
    "    --namespace seldon-clusterwide"
   ]
  },
  {
   "cell_type": "code",
   "execution_count": null,
   "metadata": {},
   "outputs": [],
   "source": [
    "!kubectl rollout status deployment/seldon-controller-manager -n seldon-clusterwide"
   ]
  },
  {
   "cell_type": "markdown",
   "metadata": {},
   "source": [
    "Create a model in default and check its running"
   ]
  },
  {
   "cell_type": "code",
   "execution_count": null,
   "metadata": {},
   "outputs": [],
   "source": [
    "!kubectl create -f resources/model.yaml -n default"
   ]
  },
  {
   "cell_type": "code",
   "execution_count": null,
   "metadata": {},
   "outputs": [],
   "source": [
    "!kubectl get sdep -n default"
   ]
  }
 ],
 "metadata": {
  "kernelspec": {
   "display_name": "Python 3",
   "language": "python",
   "name": "python3"
  },
  "language_info": {
   "codemirror_mode": {
    "name": "ipython",
    "version": 3
   },
   "file_extension": ".py",
   "mimetype": "text/x-python",
   "name": "python",
   "nbconvert_exporter": "python",
   "pygments_lexer": "ipython3",
   "version": "3.6.8"
  }
 },
 "nbformat": 4,
 "nbformat_minor": 2
}
