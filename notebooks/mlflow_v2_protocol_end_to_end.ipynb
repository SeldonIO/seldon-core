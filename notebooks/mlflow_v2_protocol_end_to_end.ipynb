{
 "cells": [
  {
   "cell_type": "markdown",
   "id": "6812a5fb",
   "metadata": {},
   "source": [
    "# MLFlow v2 protocol elasticnet wine example\n",
    "\n",
    "In this example we are going to build a model using mlflow, pack and deploy it on seldon-core on a local kind cluster"
   ]
  },
  {
   "cell_type": "markdown",
   "id": "a842a699",
   "metadata": {},
   "source": [
    "Prerequisites:\n",
    "\n",
    "- install and configure `mc`, follow the relevant section in this [link](https://docs.seldon.io/projects/seldon-core/en/latest/examples/minio_setup.html):\n",
    "\n",
    "- run this jupyter notebook in conda environment\n",
    "```bash\n",
    "$ conda create --name python3.8-mlflow-example python=3.8 -y\n",
    "$ conda activate python3.8-mlflow-example\n",
    "$ pip install jupyter\n",
    "$ jupyter notebook\n",
    "```"
   ]
  },
  {
   "cell_type": "markdown",
   "id": "5d7c94b0",
   "metadata": {},
   "source": [
    "## Setup local kind cluster using ansible"
   ]
  },
  {
   "cell_type": "markdown",
   "id": "246b23a4",
   "metadata": {},
   "source": [
    "### Install ansible prerequisites"
   ]
  },
  {
   "cell_type": "code",
   "execution_count": 18,
   "id": "ef719025",
   "metadata": {
    "scrolled": true
   },
   "outputs": [
    {
     "name": "stdout",
     "output_type": "stream",
     "text": [
      "Collecting ansible\n",
      "  Using cached ansible-4.3.0-py3-none-any.whl\n",
      "Collecting openshift\n",
      "  Using cached openshift-0.12.1-py3-none-any.whl\n",
      "Requirement already satisfied: docker in /home/sa/miniconda3/envs/python3.8-mlflow-example/lib/python3.8/site-packages (5.0.0)\n",
      "Collecting passlib\n",
      "  Using cached passlib-1.7.4-py2.py3-none-any.whl (525 kB)\n",
      "Collecting ansible-core<2.12,>=2.11.3\n",
      "  Using cached ansible_core-2.11.3-py3-none-any.whl\n",
      "Requirement already satisfied: six in /home/sa/miniconda3/envs/python3.8-mlflow-example/lib/python3.8/site-packages (from openshift) (1.16.0)\n",
      "Requirement already satisfied: jinja2 in /home/sa/miniconda3/envs/python3.8-mlflow-example/lib/python3.8/site-packages (from openshift) (3.0.1)\n",
      "Collecting python-string-utils\n",
      "  Using cached python_string_utils-1.0.0-py3-none-any.whl (26 kB)\n",
      "Collecting ruamel.yaml\n",
      "  Using cached ruamel.yaml-0.17.10-py3-none-any.whl (108 kB)\n",
      "Collecting kubernetes~=12.0\n",
      "  Using cached kubernetes-12.0.1-py2.py3-none-any.whl (1.7 MB)\n",
      "Requirement already satisfied: websocket-client>=0.32.0 in /home/sa/miniconda3/envs/python3.8-mlflow-example/lib/python3.8/site-packages (from docker) (1.1.1)\n",
      "Requirement already satisfied: requests!=2.18.0,>=2.14.2 in /home/sa/miniconda3/envs/python3.8-mlflow-example/lib/python3.8/site-packages (from docker) (2.26.0)\n",
      "Requirement already satisfied: packaging in /home/sa/miniconda3/envs/python3.8-mlflow-example/lib/python3.8/site-packages (from ansible-core<2.12,>=2.11.3->ansible) (21.0)\n",
      "Collecting resolvelib<0.6.0,>=0.5.3\n",
      "  Using cached resolvelib-0.5.4-py2.py3-none-any.whl (12 kB)\n",
      "Collecting cryptography\n",
      "  Using cached cryptography-3.4.7-cp36-abi3-manylinux2014_x86_64.whl (3.2 MB)\n",
      "Requirement already satisfied: PyYAML in /home/sa/miniconda3/envs/python3.8-mlflow-example/lib/python3.8/site-packages (from ansible-core<2.12,>=2.11.3->ansible) (5.4.1)\n",
      "Requirement already satisfied: certifi>=14.05.14 in /home/sa/miniconda3/envs/python3.8-mlflow-example/lib/python3.8/site-packages (from kubernetes~=12.0->openshift) (2021.5.30)\n",
      "Requirement already satisfied: urllib3>=1.24.2 in /home/sa/miniconda3/envs/python3.8-mlflow-example/lib/python3.8/site-packages (from kubernetes~=12.0->openshift) (1.26.6)\n",
      "Requirement already satisfied: python-dateutil>=2.5.3 in /home/sa/miniconda3/envs/python3.8-mlflow-example/lib/python3.8/site-packages (from kubernetes~=12.0->openshift) (2.8.2)\n",
      "Collecting google-auth>=1.0.1\n",
      "  Using cached google_auth-1.34.0-py2.py3-none-any.whl (152 kB)\n",
      "Collecting requests-oauthlib\n",
      "  Using cached requests_oauthlib-1.3.0-py2.py3-none-any.whl (23 kB)\n",
      "Requirement already satisfied: setuptools>=21.0.0 in /home/sa/miniconda3/envs/python3.8-mlflow-example/lib/python3.8/site-packages (from kubernetes~=12.0->openshift) (52.0.0.post20210125)\n",
      "Collecting rsa<5,>=3.1.4\n",
      "  Using cached rsa-4.7.2-py3-none-any.whl (34 kB)\n",
      "Collecting cachetools<5.0,>=2.0.0\n",
      "  Using cached cachetools-4.2.2-py3-none-any.whl (11 kB)\n",
      "Collecting pyasn1-modules>=0.2.1\n",
      "  Using cached pyasn1_modules-0.2.8-py2.py3-none-any.whl (155 kB)\n",
      "Collecting pyasn1<0.5.0,>=0.4.6\n",
      "  Using cached pyasn1-0.4.8-py2.py3-none-any.whl (77 kB)\n",
      "Requirement already satisfied: charset-normalizer~=2.0.0 in /home/sa/miniconda3/envs/python3.8-mlflow-example/lib/python3.8/site-packages (from requests!=2.18.0,>=2.14.2->docker) (2.0.4)\n",
      "Requirement already satisfied: idna<4,>=2.5 in /home/sa/miniconda3/envs/python3.8-mlflow-example/lib/python3.8/site-packages (from requests!=2.18.0,>=2.14.2->docker) (3.2)\n",
      "Requirement already satisfied: cffi>=1.12 in /home/sa/miniconda3/envs/python3.8-mlflow-example/lib/python3.8/site-packages (from cryptography->ansible-core<2.12,>=2.11.3->ansible) (1.14.6)\n",
      "Requirement already satisfied: pycparser in /home/sa/miniconda3/envs/python3.8-mlflow-example/lib/python3.8/site-packages (from cffi>=1.12->cryptography->ansible-core<2.12,>=2.11.3->ansible) (2.20)\n",
      "Requirement already satisfied: MarkupSafe>=2.0 in /home/sa/miniconda3/envs/python3.8-mlflow-example/lib/python3.8/site-packages (from jinja2->openshift) (2.0.1)\n",
      "Requirement already satisfied: pyparsing>=2.0.2 in /home/sa/miniconda3/envs/python3.8-mlflow-example/lib/python3.8/site-packages (from packaging->ansible-core<2.12,>=2.11.3->ansible) (2.4.7)\n",
      "Collecting oauthlib>=3.0.0\n",
      "  Using cached oauthlib-3.1.1-py2.py3-none-any.whl (146 kB)\n",
      "Collecting ruamel.yaml.clib>=0.1.2\n",
      "  Using cached ruamel.yaml.clib-0.2.6-cp38-cp38-manylinux1_x86_64.whl (570 kB)\n",
      "Installing collected packages: pyasn1, rsa, pyasn1-modules, oauthlib, cachetools, ruamel.yaml.clib, resolvelib, requests-oauthlib, google-auth, cryptography, ruamel.yaml, python-string-utils, kubernetes, ansible-core, passlib, openshift, ansible\n",
      "Successfully installed ansible-4.3.0 ansible-core-2.11.3 cachetools-4.2.2 cryptography-3.4.7 google-auth-1.34.0 kubernetes-12.0.1 oauthlib-3.1.1 openshift-0.12.1 passlib-1.7.4 pyasn1-0.4.8 pyasn1-modules-0.2.8 python-string-utils-1.0.0 requests-oauthlib-1.3.0 resolvelib-0.5.4 rsa-4.7.2 ruamel.yaml-0.17.10 ruamel.yaml.clib-0.2.6\n"
     ]
    }
   ],
   "source": [
    "!pip install ansible openshift docker passlib"
   ]
  },
  {
   "cell_type": "code",
   "execution_count": 19,
   "id": "f6e0d020",
   "metadata": {},
   "outputs": [
    {
     "name": "stdout",
     "output_type": "stream",
     "text": [
      "Cloning into '/home/sa/.ansible/tmp/ansible-local-3444016e_43ifbj/tmpl593c8ki/ansible-k8s-collectiongefpw6fb'...\n",
      "remote: Enumerating objects: 676, done.\u001b[K\n",
      "remote: Counting objects: 100% (676/676), done.\u001b[K\n",
      "remote: Compressing objects: 100% (417/417), done.\u001b[K\n",
      "remote: Total 676 (delta 282), reused 536 (delta 166), pack-reused 0\u001b[K\n",
      "Receiving objects: 100% (676/676), 277.25 KiB | 2.50 MiB/s, done.\n",
      "Resolving deltas: 100% (282/282), done.\n",
      "Your branch is up-to-date with 'origin/master'.\n",
      "Starting galaxy collection install process\n",
      "Process install dependency map\n",
      "Starting collection install process\n",
      "Installing 'seldonio.k8s:0.3.0-dev' to '/home/sa/.ansible/collections/ansible_collections/seldonio/k8s'\n",
      "Created collection for seldonio.k8s:0.3.0-dev at /home/sa/.ansible/collections/ansible_collections/seldonio/k8s\n",
      "seldonio.k8s:0.3.0-dev was installed successfully\n",
      "Skipping 'kubernetes.core:2.1.1' as it is already installed\n",
      "Skipping 'community.docker:1.9.0' as it is already installed\n",
      "Skipping 'community.crypto:1.7.1' as it is already installed\n"
     ]
    }
   ],
   "source": [
    "!ansible-galaxy collection install git+https://github.com/SeldonIO/ansible-k8s-collection.git"
   ]
  },
  {
   "cell_type": "markdown",
   "id": "f9f3501f",
   "metadata": {},
   "source": [
    "### Setup kind cluster and install seldon-core"
   ]
  },
  {
   "cell_type": "code",
   "execution_count": 31,
   "id": "f4d2f264",
   "metadata": {},
   "outputs": [
    {
     "name": "stdout",
     "output_type": "stream",
     "text": [
      "\n",
      "PLAY [Create Kind Cluster and Install MetalLB] *********************************\n",
      "\n",
      "TASK [seldonio.k8s.kind : Check if Kind v0.11.1 already downloaded] ************\n",
      "ok: [localhost]\n",
      "\n",
      "TASK [seldonio.k8s.kind : Create .resources directory if does not exist: /home/sa/code/seldon-core/ansible/.resources/] ***\n",
      "ok: [localhost]\n",
      "\n",
      "TASK [seldonio.k8s.kind : Download Kind v0.11.1 binary] ************************\n",
      "skipping: [localhost]\n",
      "\n",
      "TASK [seldonio.k8s.kind : Make Kind v0.11.1 binary executable] *****************\n",
      "ok: [localhost]\n",
      "\n",
      "TASK [seldonio.k8s.kind : Check if KinD Cluster already exists: ansible] *******\n",
      "ok: [localhost]\n",
      "\n",
      "TASK [seldonio.k8s.kind : Start KinD Cluster: 'ansible'] ***********************\n",
      "skipping: [localhost]\n",
      "\n",
      "TASK [seldonio.k8s.kind : Echo output of \"kind create cluster ...\" command] ****\n",
      "skipping: [localhost]\n",
      "\n",
      "TASK [seldonio.k8s.kind : Export kubeconfig for KinD Cluster: 'ansible'] *******\n",
      "changed: [localhost]\n",
      "\n",
      "TASK [seldonio.k8s.kind : Create a k8s namespace: seldon] **********************\n",
      "ok: [localhost]\n",
      "\n",
      "TASK [seldonio.k8s.kind : Set default for kubectl namespace: seldon] ***********\n",
      "changed: [localhost]\n",
      "\n",
      "TASK [seldonio.k8s.kind : Download metrics-server manifest.] *******************\n",
      "ok: [localhost]\n",
      "\n",
      "TASK [seldonio.k8s.kind : Modify the manifest to allow insecure TLS for testing.] ***\n",
      "ok: [localhost] => (item=kubelet-preferred-address-types=InternalIP)\n",
      "ok: [localhost] => (item=kubelet-insecure-tls)\n",
      "\n",
      "TASK [seldonio.k8s.kind : Deploy metrics-server into the cluster.] *************\n",
      "ok: [localhost]\n",
      "\n",
      "TASK [seldonio.k8s.metallb : Get information about kind network in docker.] ****\n",
      "ok: [localhost]\n",
      "\n",
      "TASK [seldonio.k8s.metallb : Extract subnet of kind network] *******************\n",
      "ok: [localhost]\n",
      "\n",
      "TASK [seldonio.k8s.metallb : Set ranges for MetalLB] ***************************\n",
      "ok: [localhost]\n",
      "\n",
      "TASK [seldonio.k8s.metallb : Echo message about kind network 2] ****************\n",
      "ok: [localhost] => {\n",
      "    \"msg\": [\n",
      "        \"metallb_range_start: 172.18.255.1\",\n",
      "        \"metallb_range_stop: 172.18.255.255\"\n",
      "    ]\n",
      "}\n",
      "\n",
      "TASK [seldonio.k8s.metallb : Deploy MetalLB] ***********************************\n",
      "ok: [localhost] => (item=https://raw.githubusercontent.com/metallb/metallb/v0.10.2/manifests/namespace.yaml)\n",
      "ok: [localhost] => (item=https://raw.githubusercontent.com/metallb/metallb/v0.10.2/manifests/metallb.yaml)\n",
      "\n",
      "TASK [seldonio.k8s.metallb : Create OpenSSL secretkey] *************************\n",
      "changed: [localhost]\n",
      "\n",
      "TASK [seldonio.k8s.metallb : Create memberlist secret] *************************\n",
      "changed: [localhost]\n",
      "\n",
      "TASK [seldonio.k8s.metallb : Create MetalLB Config] ****************************\n",
      "ok: [localhost]\n",
      "\n",
      "PLAY RECAP *********************************************************************\n",
      "localhost                  : ok=18   changed=4    unreachable=0    failed=0    skipped=3    rescued=0    ignored=0   \n",
      "\n",
      "\n",
      "PLAY [Install Seldon Core & Prerequisites] *************************************\n",
      "\n",
      "TASK [Load vars from vars/default.yaml] ****************************************\n",
      "ok: [localhost]\n",
      "\n",
      "TASK [seldonio.k8s.istio : Check if Istio 1.10.3 already downloaded.] **********\n",
      "ok: [localhost]\n",
      "\n",
      "TASK [seldonio.k8s.istio : Create .resources directory if does not exist: /home/sa/code/seldon-core/ansible/.resources/] ***\n",
      "ok: [localhost]\n",
      "\n",
      "TASK [seldonio.k8s.istio : Download Istio 1.10.3] ******************************\n",
      "skipping: [localhost]\n",
      "\n",
      "TASK [seldonio.k8s.istio : Install Istio 1.10.3] *******************************\n",
      "changed: [localhost]\n",
      "\n",
      "TASK [seldonio.k8s.istio : Verify Install Istio 1.10.3] ************************\n",
      "changed: [localhost]\n",
      "\n",
      "TASK [seldonio.k8s.istio : Create Seldon Gateway] ******************************\n",
      "ok: [localhost]\n",
      "\n",
      "TASK [seldonio.k8s.istio : Wait for External IP Address to be ready] ***********\n",
      "skipping: [localhost]\n",
      "\n",
      "TASK [seldonio.k8s.istio : Set fact about Istio Ingress Gateway External IP] ***\n",
      "skipping: [localhost]\n",
      "\n",
      "TASK [seldonio.k8s.istio : Create temporary certificates directory] ************\n",
      "skipping: [localhost]\n",
      "\n",
      "TASK [seldonio.k8s.istio : Generate CA Private Key with RSA 2048] **************\n",
      "skipping: [localhost]\n",
      "\n",
      "TASK [seldonio.k8s.istio : Generate CA CSR] ************************************\n",
      "skipping: [localhost]\n",
      "\n",
      "TASK [seldonio.k8s.istio : Generate CA Self Signed Certificate] ****************\n",
      "skipping: [localhost]\n",
      "\n",
      "TASK [seldonio.k8s.istio : Generate Server OpenSSL private key with RSA 2048] ***\n",
      "skipping: [localhost]\n",
      "\n",
      "TASK [seldonio.k8s.istio : Generate an OpenSSL Certificate Signing Request for server] ***\n",
      "skipping: [localhost]\n",
      "\n",
      "TASK [seldonio.k8s.istio : Generate an OpenSSL certificate from the server CSR signed with our CA certificate] ***\n",
      "skipping: [localhost]\n",
      "\n",
      "TASK [seldonio.k8s.istio : Set fact about Server SSL Certs Paths] **************\n",
      "skipping: [localhost]\n",
      "\n",
      "TASK [seldonio.k8s.istio : Create Istio Ingressgateway SSL Certs Secret] *******\n",
      "skipping: [localhost]\n",
      "\n",
      "TASK [seldonio.k8s.istio : Remove temporary certificates directory] ************\n",
      "skipping: [localhost]\n",
      "\n",
      "TASK [seldonio.k8s.ambassador : Create a k8s namespace: ambassador] ************\n",
      "ok: [localhost]\n",
      "\n",
      "TASK [seldonio.k8s.ambassador : Install ambassador] ****************************\n",
      "ok: [localhost]\n",
      "\n",
      "TASK [seldonio.k8s.minio : Create a k8s namespaces] ****************************\n",
      "ok: [localhost] => (item=minio-system)\n",
      "ok: [localhost] => (item=seldon)\n",
      "\n",
      "TASK [seldonio.k8s.minio : Install MinIO] **************************************\n",
      "ok: [localhost]\n",
      "\n",
      "TASK [seldonio.k8s.minio : Echo message about client configuration] ************\n",
      "ok: [localhost] => {\n",
      "    \"msg\": [\n",
      "        \"MinIO installed in the cluster. To configure your local client launch\",\n",
      "        \"kubectl port-forward -n minio-system svc/minio 8090:9000\",\n",
      "        \"in one terminal and execute\",\n",
      "        \"mc config host add minio-seldon http://localhost:8090 ACCESS_KEY SECRET_KEY\"\n",
      "    ]\n",
      "}\n",
      "\n",
      "TASK [seldonio.k8s.minio : Configure Minio VirtualService] *********************\n",
      "ok: [localhost]\n",
      "\n",
      "TASK [seldonio.k8s.minio : Create MinIO Secret (rclone storage initializer format)] ***\n",
      "ok: [localhost] => (item=seldon)\n",
      "\n",
      "TASK [seldonio.k8s.minio : Create MinIO Secret (kfserving storage initializer format)] ***\n",
      "ok: [localhost] => (item=seldon)\n",
      "\n",
      "TASK [seldonio.k8s.seldon_core_analytics : Create a seldon-system namespaces] ***\n",
      "ok: [localhost]\n",
      "\n",
      "TASK [seldonio.k8s.seldon_core_analytics : Create Extra Resources from Templates] ***\n",
      "\n",
      "TASK [seldonio.k8s.seldon_core_analytics : Install Seldon Core Analytics] ******\n",
      "ok: [localhost]\n",
      "\n",
      "TASK [seldonio.k8s.seldon_core_analytics : Wait for Seldon Core Analytics Deployments] ***\n",
      "ok: [localhost] => (item=seldon-core-analytics-grafana)\n",
      "ok: [localhost] => (item=seldon-core-analytics-kube-state-metrics)\n",
      "ok: [localhost] => (item=seldon-core-analytics-prometheus-alertmanager)\n",
      "ok: [localhost] => (item=seldon-core-analytics-prometheus-pushgateway)\n",
      "ok: [localhost] => (item=seldon-core-analytics-prometheus-seldon)\n",
      "\n",
      "TASK [seldonio.k8s.seldon_core : Create a k8s namespaces] **********************\n",
      "ok: [localhost] => (item=seldon-system)\n",
      "ok: [localhost] => (item=seldon)\n",
      "\n",
      "TASK [seldonio.k8s.seldon_core : Git clone Seldon Core repo and checkout master] ***\n",
      "changed: [localhost]\n",
      "\n",
      "TASK [seldonio.k8s.seldon_core : Set Seldon Core Directory] ********************\n",
      "ok: [localhost]\n",
      "\n",
      "TASK [seldonio.k8s.seldon_core : Deploy Seldon Core] ***************************\n",
      "changed: [localhost]\n",
      "\n",
      "TASK [seldonio.k8s.seldon_core : Wait for Seldon Core deployments] *************\n",
      "ok: [localhost] => (item=seldon-controller-manager)\n",
      "\n",
      "PLAY RECAP *********************************************************************\n",
      "localhost                  : ok=22   changed=4    unreachable=0    failed=0    skipped=14   rescued=0    ignored=0   \n",
      "\n"
     ]
    },
    {
     "name": "stderr",
     "output_type": "stream",
     "text": [
      "[WARNING]: The default idempotency check can fail to report changes in certain\n",
      "cases. Install helm diff for better results.\n"
     ]
    }
   ],
   "source": [
    "%%bash\n",
    "cd ../ansible\n",
    "ansible-playbook playbooks/kind_cluster.yaml\n",
    "ansible-playbook playbooks/main.yaml -e seldon_core_version=master "
   ]
  },
  {
   "cell_type": "markdown",
   "id": "144577cf",
   "metadata": {},
   "source": [
    "## Train elasticnet wine model using `mlflow`"
   ]
  },
  {
   "cell_type": "markdown",
   "id": "a48e09c8",
   "metadata": {},
   "source": [
    "### Install `mlflow` and required dependencies to train the model"
   ]
  },
  {
   "cell_type": "code",
   "execution_count": 8,
   "id": "65d444af",
   "metadata": {},
   "outputs": [
    {
     "name": "stdout",
     "output_type": "stream",
     "text": [
      "Requirement already satisfied: mlflow in /home/sa/miniconda3/envs/python3.8-mlflow-example/lib/python3.8/site-packages (1.19.0)\n",
      "Requirement already satisfied: scikit-learn==0.23.2 in /home/sa/miniconda3/envs/python3.8-mlflow-example/lib/python3.8/site-packages (0.23.2)\n",
      "Requirement already satisfied: pandas in /home/sa/miniconda3/envs/python3.8-mlflow-example/lib/python3.8/site-packages (1.3.1)\n",
      "Collecting conda-pack\n",
      "  Using cached conda_pack-0.6.0-py2.py3-none-any.whl\n",
      "Requirement already satisfied: scipy>=0.19.1 in /home/sa/miniconda3/envs/python3.8-mlflow-example/lib/python3.8/site-packages (from scikit-learn==0.23.2) (1.7.1)\n",
      "Requirement already satisfied: numpy>=1.13.3 in /home/sa/miniconda3/envs/python3.8-mlflow-example/lib/python3.8/site-packages (from scikit-learn==0.23.2) (1.21.1)\n",
      "Requirement already satisfied: threadpoolctl>=2.0.0 in /home/sa/miniconda3/envs/python3.8-mlflow-example/lib/python3.8/site-packages (from scikit-learn==0.23.2) (2.2.0)\n",
      "Requirement already satisfied: joblib>=0.11 in /home/sa/miniconda3/envs/python3.8-mlflow-example/lib/python3.8/site-packages (from scikit-learn==0.23.2) (1.0.1)\n",
      "Requirement already satisfied: cloudpickle in /home/sa/miniconda3/envs/python3.8-mlflow-example/lib/python3.8/site-packages (from mlflow) (1.6.0)\n",
      "Requirement already satisfied: alembic<=1.4.1 in /home/sa/miniconda3/envs/python3.8-mlflow-example/lib/python3.8/site-packages (from mlflow) (1.4.1)\n",
      "Requirement already satisfied: packaging in /home/sa/miniconda3/envs/python3.8-mlflow-example/lib/python3.8/site-packages (from mlflow) (21.0)\n",
      "Requirement already satisfied: Flask in /home/sa/miniconda3/envs/python3.8-mlflow-example/lib/python3.8/site-packages (from mlflow) (2.0.1)\n",
      "Requirement already satisfied: entrypoints in /home/sa/miniconda3/envs/python3.8-mlflow-example/lib/python3.8/site-packages (from mlflow) (0.3)\n",
      "Requirement already satisfied: pyyaml>=5.1 in /home/sa/miniconda3/envs/python3.8-mlflow-example/lib/python3.8/site-packages (from mlflow) (5.4.1)\n",
      "Requirement already satisfied: querystring-parser in /home/sa/miniconda3/envs/python3.8-mlflow-example/lib/python3.8/site-packages (from mlflow) (1.2.4)\n",
      "Requirement already satisfied: sqlalchemy in /home/sa/miniconda3/envs/python3.8-mlflow-example/lib/python3.8/site-packages (from mlflow) (1.4.22)\n",
      "Requirement already satisfied: sqlparse>=0.3.1 in /home/sa/miniconda3/envs/python3.8-mlflow-example/lib/python3.8/site-packages (from mlflow) (0.4.1)\n",
      "Requirement already satisfied: docker>=4.0.0 in /home/sa/miniconda3/envs/python3.8-mlflow-example/lib/python3.8/site-packages (from mlflow) (5.0.0)\n",
      "Requirement already satisfied: gitpython>=2.1.0 in /home/sa/miniconda3/envs/python3.8-mlflow-example/lib/python3.8/site-packages (from mlflow) (3.1.18)\n",
      "Requirement already satisfied: click>=7.0 in /home/sa/miniconda3/envs/python3.8-mlflow-example/lib/python3.8/site-packages (from mlflow) (8.0.1)\n",
      "Requirement already satisfied: pytz in /home/sa/miniconda3/envs/python3.8-mlflow-example/lib/python3.8/site-packages (from mlflow) (2021.1)\n",
      "Requirement already satisfied: protobuf>=3.7.0 in /home/sa/miniconda3/envs/python3.8-mlflow-example/lib/python3.8/site-packages (from mlflow) (3.17.3)\n",
      "Requirement already satisfied: prometheus-flask-exporter in /home/sa/miniconda3/envs/python3.8-mlflow-example/lib/python3.8/site-packages (from mlflow) (0.18.2)\n",
      "Requirement already satisfied: requests>=2.17.3 in /home/sa/miniconda3/envs/python3.8-mlflow-example/lib/python3.8/site-packages (from mlflow) (2.26.0)\n",
      "Requirement already satisfied: gunicorn in /home/sa/miniconda3/envs/python3.8-mlflow-example/lib/python3.8/site-packages (from mlflow) (20.1.0)\n",
      "Requirement already satisfied: databricks-cli>=0.8.7 in /home/sa/miniconda3/envs/python3.8-mlflow-example/lib/python3.8/site-packages (from mlflow) (0.15.0)\n",
      "Requirement already satisfied: python-dateutil>=2.7.3 in /home/sa/miniconda3/envs/python3.8-mlflow-example/lib/python3.8/site-packages (from pandas) (2.8.2)\n",
      "Requirement already satisfied: setuptools in /home/sa/miniconda3/envs/python3.8-mlflow-example/lib/python3.8/site-packages (from conda-pack) (52.0.0.post20210125)\n",
      "Requirement already satisfied: python-editor>=0.3 in /home/sa/miniconda3/envs/python3.8-mlflow-example/lib/python3.8/site-packages (from alembic<=1.4.1->mlflow) (1.0.4)\n",
      "Requirement already satisfied: Mako in /home/sa/miniconda3/envs/python3.8-mlflow-example/lib/python3.8/site-packages (from alembic<=1.4.1->mlflow) (1.1.4)\n",
      "Requirement already satisfied: tabulate>=0.7.7 in /home/sa/miniconda3/envs/python3.8-mlflow-example/lib/python3.8/site-packages (from databricks-cli>=0.8.7->mlflow) (0.8.9)\n",
      "Requirement already satisfied: six>=1.10.0 in /home/sa/miniconda3/envs/python3.8-mlflow-example/lib/python3.8/site-packages (from databricks-cli>=0.8.7->mlflow) (1.16.0)\n",
      "Requirement already satisfied: websocket-client>=0.32.0 in /home/sa/miniconda3/envs/python3.8-mlflow-example/lib/python3.8/site-packages (from docker>=4.0.0->mlflow) (1.1.1)\n",
      "Requirement already satisfied: gitdb<5,>=4.0.1 in /home/sa/miniconda3/envs/python3.8-mlflow-example/lib/python3.8/site-packages (from gitpython>=2.1.0->mlflow) (4.0.7)\n",
      "Requirement already satisfied: smmap<5,>=3.0.1 in /home/sa/miniconda3/envs/python3.8-mlflow-example/lib/python3.8/site-packages (from gitdb<5,>=4.0.1->gitpython>=2.1.0->mlflow) (4.0.0)\n",
      "Requirement already satisfied: charset-normalizer~=2.0.0 in /home/sa/miniconda3/envs/python3.8-mlflow-example/lib/python3.8/site-packages (from requests>=2.17.3->mlflow) (2.0.4)\n",
      "Requirement already satisfied: certifi>=2017.4.17 in /home/sa/miniconda3/envs/python3.8-mlflow-example/lib/python3.8/site-packages (from requests>=2.17.3->mlflow) (2021.5.30)\n",
      "Requirement already satisfied: idna<4,>=2.5 in /home/sa/miniconda3/envs/python3.8-mlflow-example/lib/python3.8/site-packages (from requests>=2.17.3->mlflow) (3.2)\n",
      "Requirement already satisfied: urllib3<1.27,>=1.21.1 in /home/sa/miniconda3/envs/python3.8-mlflow-example/lib/python3.8/site-packages (from requests>=2.17.3->mlflow) (1.26.6)\n",
      "Requirement already satisfied: greenlet!=0.4.17 in /home/sa/miniconda3/envs/python3.8-mlflow-example/lib/python3.8/site-packages (from sqlalchemy->mlflow) (1.1.1)\n",
      "Requirement already satisfied: itsdangerous>=2.0 in /home/sa/miniconda3/envs/python3.8-mlflow-example/lib/python3.8/site-packages (from Flask->mlflow) (2.0.1)\n",
      "Requirement already satisfied: Werkzeug>=2.0 in /home/sa/miniconda3/envs/python3.8-mlflow-example/lib/python3.8/site-packages (from Flask->mlflow) (2.0.1)\n",
      "Requirement already satisfied: Jinja2>=3.0 in /home/sa/miniconda3/envs/python3.8-mlflow-example/lib/python3.8/site-packages (from Flask->mlflow) (3.0.1)\n",
      "Requirement already satisfied: MarkupSafe>=2.0 in /home/sa/miniconda3/envs/python3.8-mlflow-example/lib/python3.8/site-packages (from Jinja2>=3.0->Flask->mlflow) (2.0.1)\n",
      "Requirement already satisfied: pyparsing>=2.0.2 in /home/sa/miniconda3/envs/python3.8-mlflow-example/lib/python3.8/site-packages (from packaging->mlflow) (2.4.7)\n",
      "Requirement already satisfied: prometheus-client in /home/sa/miniconda3/envs/python3.8-mlflow-example/lib/python3.8/site-packages (from prometheus-flask-exporter->mlflow) (0.11.0)\n",
      "Installing collected packages: conda-pack\n",
      "Successfully installed conda-pack-0.6.0\n"
     ]
    }
   ],
   "source": [
    "!pip install mlflow scikit-learn==0.23.2 pandas"
   ]
  },
  {
   "cell_type": "markdown",
   "id": "3176a423",
   "metadata": {},
   "source": [
    "### Define where the model artifacts will be saved"
   ]
  },
  {
   "cell_type": "code",
   "execution_count": 3,
   "id": "b66ccdff",
   "metadata": {},
   "outputs": [],
   "source": [
    "import os\n",
    "from pathlib import Path\n",
    "MODEL_DIR = Path(os.getcwd()) / \"elasticnet_wine_model\""
   ]
  },
  {
   "cell_type": "markdown",
   "id": "a3dfcc20",
   "metadata": {},
   "source": [
    "### Define training"
   ]
  },
  {
   "cell_type": "code",
   "execution_count": 4,
   "id": "57f8a675",
   "metadata": {},
   "outputs": [],
   "source": [
    "# Wine Quality Sample a copy from: \n",
    "# https://github.com/mlflow/mlflow/blob/master/examples/sklearn_elasticnet_wine/train.ipynb\n",
    "\n",
    "def train(in_alpha, in_l1_ratio):\n",
    "    import os\n",
    "    import warnings\n",
    "    import sys\n",
    "\n",
    "    import pandas as pd\n",
    "    import numpy as np\n",
    "    from sklearn.metrics import mean_squared_error, mean_absolute_error, r2_score\n",
    "    from sklearn.model_selection import train_test_split\n",
    "    from sklearn.linear_model import ElasticNet\n",
    "\n",
    "    import mlflow\n",
    "    import mlflow.sklearn\n",
    "    \n",
    "    import logging\n",
    "    logging.basicConfig(level=logging.WARN)\n",
    "    logger = logging.getLogger(__name__)\n",
    "\n",
    "    def eval_metrics(actual, pred):\n",
    "        rmse = np.sqrt(mean_squared_error(actual, pred))\n",
    "        mae = mean_absolute_error(actual, pred)\n",
    "        r2 = r2_score(actual, pred)\n",
    "        return rmse, mae, r2\n",
    "\n",
    "\n",
    "    warnings.filterwarnings(\"ignore\")\n",
    "    np.random.seed(40)\n",
    "\n",
    "    # Read the wine-quality csv file from the URL\n",
    "    csv_url =\\\n",
    "        'http://archive.ics.uci.edu/ml/machine-learning-databases/wine-quality/winequality-red.csv'\n",
    "    try:\n",
    "        data = pd.read_csv(csv_url, sep=';')\n",
    "    except Exception as e:\n",
    "        logger.exception(\n",
    "            \"Unable to download training & test CSV, check your internet connection. Error: %s\", e)\n",
    "\n",
    "    # Split the data into training and test sets. (0.75, 0.25) split.\n",
    "    train, test = train_test_split(data)\n",
    "\n",
    "    # The predicted column is \"quality\" which is a scalar from [3, 9]\n",
    "    train_x = train.drop([\"quality\"], axis=1)\n",
    "    test_x = test.drop([\"quality\"], axis=1)\n",
    "    train_y = train[[\"quality\"]]\n",
    "    test_y = test[[\"quality\"]]\n",
    "\n",
    "    # Set default values if no alpha is provided\n",
    "    if float(in_alpha) is None:\n",
    "        alpha = 0.5\n",
    "    else:\n",
    "        alpha = float(in_alpha)\n",
    "\n",
    "    # Set default values if no l1_ratio is provided\n",
    "    if float(in_l1_ratio) is None:\n",
    "        l1_ratio = 0.5\n",
    "    else:\n",
    "        l1_ratio = float(in_l1_ratio)\n",
    "\n",
    "    # Useful for multiple runs (only doing one run in this sample notebook)    \n",
    "    with mlflow.start_run():\n",
    "        # Execute ElasticNet\n",
    "        lr = ElasticNet(alpha=alpha, l1_ratio=l1_ratio, random_state=42)\n",
    "        lr.fit(train_x, train_y)\n",
    "\n",
    "        # Evaluate Metrics\n",
    "        predicted_qualities = lr.predict(test_x)\n",
    "        (rmse, mae, r2) = eval_metrics(test_y, predicted_qualities)\n",
    "\n",
    "        # Print out metrics\n",
    "        print(\"Elasticnet model (alpha=%f, l1_ratio=%f):\" % (alpha, l1_ratio))\n",
    "        print(\"  RMSE: %s\" % rmse)\n",
    "        print(\"  MAE: %s\" % mae)\n",
    "        print(\"  R2: %s\" % r2)\n",
    "\n",
    "        # Log parameter, metrics, and model to MLflow\n",
    "        mlflow.log_param(\"alpha\", alpha)\n",
    "        mlflow.log_param(\"l1_ratio\", l1_ratio)\n",
    "        mlflow.log_metric(\"rmse\", rmse)\n",
    "        mlflow.log_metric(\"r2\", r2)\n",
    "        mlflow.log_metric(\"mae\", mae)\n",
    "\n",
    "        mlflow.sklearn.save_model(lr, MODEL_DIR)\n",
    "        print(f\" Model saved to {MODEL_DIR}\")"
   ]
  },
  {
   "cell_type": "markdown",
   "id": "cfde8513",
   "metadata": {},
   "source": [
    "### Train the elasticnet_wine model"
   ]
  },
  {
   "cell_type": "code",
   "execution_count": 6,
   "id": "33f84e54",
   "metadata": {
    "scrolled": true
   },
   "outputs": [
    {
     "name": "stdout",
     "output_type": "stream",
     "text": [
      "Elasticnet model (alpha=0.500000, l1_ratio=0.500000):\n",
      "  RMSE: 0.7931640229276851\n",
      "  MAE: 0.6271946374319587\n",
      "  R2: 0.10862644997792614\n",
      " Model saved to /home/sa/code/seldon-core/notebooks/elasticnet_wine_model\n"
     ]
    }
   ],
   "source": [
    "train(0.5, 0.5)"
   ]
  },
  {
   "cell_type": "markdown",
   "id": "dd308902",
   "metadata": {},
   "source": [
    "### Install dependencies to be able to pack and deploy the model on `seldon_core`"
   ]
  },
  {
   "cell_type": "markdown",
   "id": "b477787e",
   "metadata": {},
   "source": [
    "We are going to use [`conda-pack`](https://conda.github.io/conda-pack/) to pack the python enviornment. We also need `mlserver` dependencies.\n",
    "We are planning to simplify this workflow in future releases."
   ]
  },
  {
   "cell_type": "code",
   "execution_count": 60,
   "id": "00aeeccb",
   "metadata": {},
   "outputs": [
    {
     "name": "stdout",
     "output_type": "stream",
     "text": [
      "Requirement already satisfied: conda-pack in /home/sa/miniconda3/envs/python3.8-mlflow-example/lib/python3.8/site-packages (0.6.0)\n",
      "Collecting mlserver==0.4.0\n",
      "  Using cached mlserver-0.4.0-py3-none-any.whl (61 kB)\n",
      "Collecting mlserver-mlflow==0.4.0\n",
      "  Using cached mlserver_mlflow-0.4.0-py3-none-any.whl (8.3 kB)\n",
      "Collecting uvicorn\n",
      "  Using cached uvicorn-0.14.0-py3-none-any.whl (50 kB)\n",
      "Collecting orjson\n",
      "  Using cached orjson-3.6.1-cp38-cp38-manylinux_2_24_x86_64.whl (233 kB)\n",
      "Requirement already satisfied: pandas in /home/sa/miniconda3/envs/python3.8-mlflow-example/lib/python3.8/site-packages (from mlserver==0.4.0) (1.3.1)\n",
      "Collecting fastapi\n",
      "  Using cached fastapi-0.68.0-py3-none-any.whl (52 kB)\n",
      "Requirement already satisfied: protobuf in /home/sa/miniconda3/envs/python3.8-mlflow-example/lib/python3.8/site-packages (from mlserver==0.4.0) (3.17.3)\n",
      "Requirement already satisfied: numpy in /home/sa/miniconda3/envs/python3.8-mlflow-example/lib/python3.8/site-packages (from mlserver==0.4.0) (1.21.1)\n",
      "Requirement already satisfied: click in /home/sa/miniconda3/envs/python3.8-mlflow-example/lib/python3.8/site-packages (from mlserver==0.4.0) (8.0.1)\n",
      "Collecting grpcio\n",
      "  Using cached grpcio-1.39.0-cp38-cp38-manylinux2014_x86_64.whl (4.3 MB)\n",
      "Requirement already satisfied: mlflow in /home/sa/miniconda3/envs/python3.8-mlflow-example/lib/python3.8/site-packages (from mlserver-mlflow==0.4.0) (1.19.0)\n",
      "Requirement already satisfied: setuptools in /home/sa/miniconda3/envs/python3.8-mlflow-example/lib/python3.8/site-packages (from conda-pack) (52.0.0.post20210125)\n",
      "Collecting starlette==0.14.2\n",
      "  Using cached starlette-0.14.2-py3-none-any.whl (60 kB)\n",
      "Collecting pydantic!=1.7,!=1.7.1,!=1.7.2,!=1.7.3,!=1.8,!=1.8.1,<2.0.0,>=1.6.2\n",
      "  Using cached pydantic-1.8.2-cp38-cp38-manylinux2014_x86_64.whl (13.7 MB)\n",
      "Collecting typing-extensions>=3.7.4.3\n",
      "  Using cached typing_extensions-3.10.0.0-py3-none-any.whl (26 kB)\n",
      "Requirement already satisfied: six>=1.5.2 in /home/sa/miniconda3/envs/python3.8-mlflow-example/lib/python3.8/site-packages (from grpcio->mlserver==0.4.0) (1.16.0)\n",
      "Requirement already satisfied: prometheus-flask-exporter in /home/sa/miniconda3/envs/python3.8-mlflow-example/lib/python3.8/site-packages (from mlflow->mlserver-mlflow==0.4.0) (0.18.2)\n",
      "Requirement already satisfied: sqlparse>=0.3.1 in /home/sa/miniconda3/envs/python3.8-mlflow-example/lib/python3.8/site-packages (from mlflow->mlserver-mlflow==0.4.0) (0.4.1)\n",
      "Requirement already satisfied: sqlalchemy in /home/sa/miniconda3/envs/python3.8-mlflow-example/lib/python3.8/site-packages (from mlflow->mlserver-mlflow==0.4.0) (1.4.22)\n",
      "Requirement already satisfied: pyyaml>=5.1 in /home/sa/miniconda3/envs/python3.8-mlflow-example/lib/python3.8/site-packages (from mlflow->mlserver-mlflow==0.4.0) (5.4.1)\n",
      "Requirement already satisfied: docker>=4.0.0 in /home/sa/miniconda3/envs/python3.8-mlflow-example/lib/python3.8/site-packages (from mlflow->mlserver-mlflow==0.4.0) (5.0.0)\n",
      "Requirement already satisfied: querystring-parser in /home/sa/miniconda3/envs/python3.8-mlflow-example/lib/python3.8/site-packages (from mlflow->mlserver-mlflow==0.4.0) (1.2.4)\n",
      "Requirement already satisfied: gunicorn in /home/sa/miniconda3/envs/python3.8-mlflow-example/lib/python3.8/site-packages (from mlflow->mlserver-mlflow==0.4.0) (20.1.0)\n",
      "Requirement already satisfied: cloudpickle in /home/sa/miniconda3/envs/python3.8-mlflow-example/lib/python3.8/site-packages (from mlflow->mlserver-mlflow==0.4.0) (1.6.0)\n",
      "Requirement already satisfied: packaging in /home/sa/miniconda3/envs/python3.8-mlflow-example/lib/python3.8/site-packages (from mlflow->mlserver-mlflow==0.4.0) (21.0)\n",
      "Requirement already satisfied: requests>=2.17.3 in /home/sa/miniconda3/envs/python3.8-mlflow-example/lib/python3.8/site-packages (from mlflow->mlserver-mlflow==0.4.0) (2.26.0)\n",
      "Requirement already satisfied: databricks-cli>=0.8.7 in /home/sa/miniconda3/envs/python3.8-mlflow-example/lib/python3.8/site-packages (from mlflow->mlserver-mlflow==0.4.0) (0.15.0)\n",
      "Requirement already satisfied: pytz in /home/sa/miniconda3/envs/python3.8-mlflow-example/lib/python3.8/site-packages (from mlflow->mlserver-mlflow==0.4.0) (2021.1)\n",
      "Requirement already satisfied: Flask in /home/sa/miniconda3/envs/python3.8-mlflow-example/lib/python3.8/site-packages (from mlflow->mlserver-mlflow==0.4.0) (2.0.1)\n",
      "Requirement already satisfied: alembic<=1.4.1 in /home/sa/miniconda3/envs/python3.8-mlflow-example/lib/python3.8/site-packages (from mlflow->mlserver-mlflow==0.4.0) (1.4.1)\n",
      "Requirement already satisfied: gitpython>=2.1.0 in /home/sa/miniconda3/envs/python3.8-mlflow-example/lib/python3.8/site-packages (from mlflow->mlserver-mlflow==0.4.0) (3.1.18)\n",
      "Requirement already satisfied: entrypoints in /home/sa/miniconda3/envs/python3.8-mlflow-example/lib/python3.8/site-packages (from mlflow->mlserver-mlflow==0.4.0) (0.3)\n",
      "Requirement already satisfied: python-dateutil in /home/sa/miniconda3/envs/python3.8-mlflow-example/lib/python3.8/site-packages (from alembic<=1.4.1->mlflow->mlserver-mlflow==0.4.0) (2.8.2)\n",
      "Requirement already satisfied: Mako in /home/sa/miniconda3/envs/python3.8-mlflow-example/lib/python3.8/site-packages (from alembic<=1.4.1->mlflow->mlserver-mlflow==0.4.0) (1.1.4)\n",
      "Requirement already satisfied: python-editor>=0.3 in /home/sa/miniconda3/envs/python3.8-mlflow-example/lib/python3.8/site-packages (from alembic<=1.4.1->mlflow->mlserver-mlflow==0.4.0) (1.0.4)\n",
      "Requirement already satisfied: tabulate>=0.7.7 in /home/sa/miniconda3/envs/python3.8-mlflow-example/lib/python3.8/site-packages (from databricks-cli>=0.8.7->mlflow->mlserver-mlflow==0.4.0) (0.8.9)\n",
      "Requirement already satisfied: websocket-client>=0.32.0 in /home/sa/miniconda3/envs/python3.8-mlflow-example/lib/python3.8/site-packages (from docker>=4.0.0->mlflow->mlserver-mlflow==0.4.0) (1.1.1)\n",
      "Requirement already satisfied: gitdb<5,>=4.0.1 in /home/sa/miniconda3/envs/python3.8-mlflow-example/lib/python3.8/site-packages (from gitpython>=2.1.0->mlflow->mlserver-mlflow==0.4.0) (4.0.7)\n",
      "Requirement already satisfied: smmap<5,>=3.0.1 in /home/sa/miniconda3/envs/python3.8-mlflow-example/lib/python3.8/site-packages (from gitdb<5,>=4.0.1->gitpython>=2.1.0->mlflow->mlserver-mlflow==0.4.0) (4.0.0)\n",
      "Requirement already satisfied: charset-normalizer~=2.0.0 in /home/sa/miniconda3/envs/python3.8-mlflow-example/lib/python3.8/site-packages (from requests>=2.17.3->mlflow->mlserver-mlflow==0.4.0) (2.0.4)\n",
      "Requirement already satisfied: certifi>=2017.4.17 in /home/sa/miniconda3/envs/python3.8-mlflow-example/lib/python3.8/site-packages (from requests>=2.17.3->mlflow->mlserver-mlflow==0.4.0) (2021.5.30)\n",
      "Requirement already satisfied: urllib3<1.27,>=1.21.1 in /home/sa/miniconda3/envs/python3.8-mlflow-example/lib/python3.8/site-packages (from requests>=2.17.3->mlflow->mlserver-mlflow==0.4.0) (1.26.6)\n",
      "Requirement already satisfied: idna<4,>=2.5 in /home/sa/miniconda3/envs/python3.8-mlflow-example/lib/python3.8/site-packages (from requests>=2.17.3->mlflow->mlserver-mlflow==0.4.0) (3.2)\n",
      "Requirement already satisfied: greenlet!=0.4.17 in /home/sa/miniconda3/envs/python3.8-mlflow-example/lib/python3.8/site-packages (from sqlalchemy->mlflow->mlserver-mlflow==0.4.0) (1.1.1)\n",
      "Requirement already satisfied: itsdangerous>=2.0 in /home/sa/miniconda3/envs/python3.8-mlflow-example/lib/python3.8/site-packages (from Flask->mlflow->mlserver-mlflow==0.4.0) (2.0.1)\n",
      "Requirement already satisfied: Jinja2>=3.0 in /home/sa/miniconda3/envs/python3.8-mlflow-example/lib/python3.8/site-packages (from Flask->mlflow->mlserver-mlflow==0.4.0) (3.0.1)\n",
      "Requirement already satisfied: Werkzeug>=2.0 in /home/sa/miniconda3/envs/python3.8-mlflow-example/lib/python3.8/site-packages (from Flask->mlflow->mlserver-mlflow==0.4.0) (2.0.1)\n",
      "Requirement already satisfied: MarkupSafe>=2.0 in /home/sa/miniconda3/envs/python3.8-mlflow-example/lib/python3.8/site-packages (from Jinja2>=3.0->Flask->mlflow->mlserver-mlflow==0.4.0) (2.0.1)\n",
      "Requirement already satisfied: pyparsing>=2.0.2 in /home/sa/miniconda3/envs/python3.8-mlflow-example/lib/python3.8/site-packages (from packaging->mlflow->mlserver-mlflow==0.4.0) (2.4.7)\n",
      "Requirement already satisfied: prometheus-client in /home/sa/miniconda3/envs/python3.8-mlflow-example/lib/python3.8/site-packages (from prometheus-flask-exporter->mlflow->mlserver-mlflow==0.4.0) (0.11.0)\n"
     ]
    },
    {
     "name": "stdout",
     "output_type": "stream",
     "text": [
      "Collecting asgiref>=3.3.4\n",
      "  Using cached asgiref-3.4.1-py3-none-any.whl (25 kB)\n",
      "Collecting h11>=0.8\n",
      "  Using cached h11-0.12.0-py3-none-any.whl (54 kB)\n",
      "Installing collected packages: typing-extensions, starlette, pydantic, h11, asgiref, uvicorn, orjson, grpcio, fastapi, mlserver, mlserver-mlflow\n",
      "Successfully installed asgiref-3.4.1 fastapi-0.68.0 grpcio-1.39.0 h11-0.12.0 mlserver-0.4.0 mlserver-mlflow-0.4.0 orjson-3.6.1 pydantic-1.8.2 starlette-0.14.2 typing-extensions-3.10.0.0 uvicorn-0.14.0\n"
     ]
    }
   ],
   "source": [
    "!pip install conda-pack mlserver==0.4.0 mlserver-mlflow==0.4.0"
   ]
  },
  {
   "cell_type": "markdown",
   "id": "9cc9cb95",
   "metadata": {},
   "source": [
    "### Pack the conda enviornment"
   ]
  },
  {
   "cell_type": "code",
   "execution_count": 61,
   "id": "0fbfe38f",
   "metadata": {},
   "outputs": [
    {
     "name": "stdout",
     "output_type": "stream",
     "text": [
      "Collecting packages...\n",
      "Packing environment at '/home/sa/miniconda3/envs/python3.8-mlflow-example' to '/home/sa/code/seldon-core/notebooks/elasticnet_wine_model/environment.tar.gz'\n",
      "[########################################] | 100% Completed | 42.9s\n"
     ]
    },
    {
     "data": {
      "text/plain": [
       "'/home/sa/code/seldon-core/notebooks/elasticnet_wine_model/environment.tar.gz'"
      ]
     },
     "execution_count": 61,
     "metadata": {},
     "output_type": "execute_result"
    }
   ],
   "source": [
    "import conda_pack\n",
    "env_file_path = MODEL_DIR / \"environment.tar.gz\"\n",
    "conda_pack.pack(\n",
    "    output=str(env_file_path),\n",
    "    force=True,\n",
    "    verbose=True,\n",
    "    ignore_editable_packages=False,\n",
    "    ignore_missing_files=True,\n",
    ")"
   ]
  },
  {
   "cell_type": "markdown",
   "id": "17652087",
   "metadata": {},
   "source": [
    "### Configure `mc` to access the minio service in the local kind cluster\n",
    "note: make sure that minio ip is reflected properly below, run `kubectl get service -n minio-system`"
   ]
  },
  {
   "cell_type": "code",
   "execution_count": null,
   "id": "3a4834e2",
   "metadata": {},
   "outputs": [],
   "source": [
    "!mc config host add minio-seldon http://172.18.255.3:9000 minioadmin minioadmin"
   ]
  },
  {
   "cell_type": "markdown",
   "id": "35963189",
   "metadata": {},
   "source": [
    "### Copy the model artifacts to minio"
   ]
  },
  {
   "cell_type": "code",
   "execution_count": 75,
   "id": "6913d557",
   "metadata": {},
   "outputs": [
    {
     "name": "stdout",
     "output_type": "stream",
     "text": [
      "Removing `minio-seldon/model/MLmodel`.\n",
      "Removing `minio-seldon/model/conda.yaml`.\n",
      "Removing `minio-seldon/model/environment.tar.gz`.\n",
      "Removing `minio-seldon/model/model.pkl`.\n",
      "Removing `minio-seldon/model/requirements.txt`.\n",
      "`/home/sa/code/seldon-core/notebooks/elasticnet_wine_model/environment.tar.gz` -> `minio-seldon/model/elasticnet_wine_model/environment.tar.gz`\n",
      "`/home/sa/code/seldon-core/notebooks/elasticnet_wine_model/model.pkl` -> `minio-seldon/model/elasticnet_wine_model/model.pkl`\n",
      "`/home/sa/code/seldon-core/notebooks/elasticnet_wine_model/requirements.txt` -> `minio-seldon/model/elasticnet_wine_model/requirements.txt`\n",
      "`/home/sa/code/seldon-core/notebooks/elasticnet_wine_model/conda.yaml` -> `minio-seldon/model/elasticnet_wine_model/conda.yaml`\n",
      "`/home/sa/code/seldon-core/notebooks/elasticnet_wine_model/MLmodel` -> `minio-seldon/model/elasticnet_wine_model/MLmodel`\n"
     ]
    },
    {
     "name": "stderr",
     "output_type": "stream",
     "text": [
      "mc: <ERROR> Unable to make bucket `minio-seldon/model`. Your previous request to create the named bucket succeeded and you already own it.\n"
     ]
    },
    {
     "name": "stdout",
     "output_type": "stream",
     "text": [
      "Total: 0 B, Transferred: 322.90 MiB, Speed: 469.47 MiB/s\n"
     ]
    },
    {
     "data": {
      "text/plain": [
       "0"
      ]
     },
     "execution_count": 75,
     "metadata": {},
     "output_type": "execute_result"
    }
   ],
   "source": [
    "import os\n",
    "os.system(\"mc mb minio-seldon/model\")\n",
    "os.system(f\"mc cp --recursive {MODEL_DIR} minio-seldon/model\")"
   ]
  },
  {
   "cell_type": "code",
   "execution_count": 63,
   "id": "48611bc4",
   "metadata": {},
   "outputs": [
    {
     "name": "stdout",
     "output_type": "stream",
     "text": [
      "Overwriting ./resources/elasticnet_wine_v2.yaml\n"
     ]
    }
   ],
   "source": [
    "%%writefile ./resources/mlflow_elasticnet_wine_v2.yaml\n",
    "apiVersion: machinelearning.seldon.io/v1alpha2\n",
    "kind: SeldonDeployment\n",
    "metadata:\n",
    "  name: mlflow\n",
    "spec:\n",
    "  protocol: kfserving  # Activate v2 protocol\n",
    "  name: wines\n",
    "  predictors:\n",
    "    - graph:\n",
    "        children: []\n",
    "        implementation: MLFLOW_SERVER\n",
    "        modelUri: s3:/model\n",
    "        envSecretRefName: seldon-rclone-secret\n",
    "        name: classifier\n",
    "      name: default\n",
    "      replicas: 1"
   ]
  },
  {
   "cell_type": "code",
   "execution_count": 66,
   "id": "38416d92",
   "metadata": {},
   "outputs": [
    {
     "name": "stdout",
     "output_type": "stream",
     "text": [
      "seldondeployment.machinelearning.seldon.io/mlflow created\r\n"
     ]
    }
   ],
   "source": [
    "!kubectl apply -f ./resources/mlflow_elasticnet_wine_v2.yaml"
   ]
  },
  {
   "cell_type": "code",
   "execution_count": 68,
   "id": "2ccecb6e",
   "metadata": {
    "scrolled": true
   },
   "outputs": [
    {
     "name": "stdout",
     "output_type": "stream",
     "text": [
      "deployment \"mlflow-default-0-classifier\" successfully rolled out\r\n"
     ]
    }
   ],
   "source": [
    "!kubectl rollout status deploy/$(kubectl get deploy -l seldon-deployment-id=mlflow -o jsonpath='{.items[0].metadata.name}')"
   ]
  },
  {
   "cell_type": "code",
   "execution_count": 73,
   "id": "a5e529b5",
   "metadata": {},
   "outputs": [
    {
     "name": "stdout",
     "output_type": "stream",
     "text": [
      "{\n",
      "  \"model_name\": \"classifier\",\n",
      "  \"model_version\": \"v1\",\n",
      "  \"id\": \"1b0648b3-b7ad-426f-9d37-395ab441b179\",\n",
      "  \"parameters\": null,\n",
      "  \"outputs\": [\n",
      "    {\n",
      "      \"name\": \"predict\",\n",
      "      \"shape\": [\n",
      "        1\n",
      "      ],\n",
      "      \"datatype\": \"FP64\",\n",
      "      \"parameters\": null,\n",
      "      \"data\": [\n",
      "        5.576883936610762\n",
      "      ]\n",
      "    }\n",
      "  ]\n",
      "}\n"
     ]
    }
   ],
   "source": [
    "import json\n",
    "\n",
    "import requests\n",
    "\n",
    "inference_request = {\n",
    "    \"parameters\": {\n",
    "        \"content_type\": \"pd\"\n",
    "    },\n",
    "    \"inputs\": [\n",
    "        {\n",
    "          \"name\": \"fixed acidity\",\n",
    "          \"shape\": [1],\n",
    "          \"datatype\": \"FP32\",\n",
    "          \"data\": [7.4],\n",
    "          \"parameters\": {\n",
    "              \"content_type\": \"np\"\n",
    "          }\n",
    "        },\n",
    "        {\n",
    "          \"name\": \"volatile acidity\",\n",
    "          \"shape\": [1],\n",
    "          \"datatype\": \"FP32\",\n",
    "          \"data\": [0.7000],\n",
    "          \"parameters\": {\n",
    "              \"content_type\": \"np\"\n",
    "          }\n",
    "        },\n",
    "        {\n",
    "          \"name\": \"citric acidity\",\n",
    "          \"shape\": [1],\n",
    "          \"datatype\": \"FP32\",\n",
    "          \"data\": [0],\n",
    "          \"parameters\": {\n",
    "              \"content_type\": \"np\"\n",
    "          }\n",
    "        },\n",
    "        {\n",
    "          \"name\": \"residual sugar\",\n",
    "          \"shape\": [1],\n",
    "          \"datatype\": \"FP32\",\n",
    "          \"data\": [1.9],\n",
    "          \"parameters\": {\n",
    "              \"content_type\": \"np\"\n",
    "          }\n",
    "        },\n",
    "        {\n",
    "          \"name\": \"chlorides\",\n",
    "          \"shape\": [1],\n",
    "          \"datatype\": \"FP32\",\n",
    "          \"data\": [0.076],\n",
    "          \"parameters\": {\n",
    "              \"content_type\": \"np\"\n",
    "          }\n",
    "        },\n",
    "        {\n",
    "          \"name\": \"free sulfur dioxide\",\n",
    "          \"shape\": [1],\n",
    "          \"datatype\": \"FP32\",\n",
    "          \"data\": [11],\n",
    "          \"parameters\": {\n",
    "              \"content_type\": \"np\"\n",
    "          }\n",
    "        },\n",
    "        {\n",
    "          \"name\": \"total sulfur dioxide\",\n",
    "          \"shape\": [1],\n",
    "          \"datatype\": \"FP32\",\n",
    "          \"data\": [34],\n",
    "          \"parameters\": {\n",
    "              \"content_type\": \"np\"\n",
    "          }\n",
    "        },\n",
    "        {\n",
    "          \"name\": \"density\",\n",
    "          \"shape\": [1],\n",
    "          \"datatype\": \"FP32\",\n",
    "          \"data\": [0.9978],\n",
    "          \"parameters\": {\n",
    "              \"content_type\": \"np\"\n",
    "          }\n",
    "        },\n",
    "        {\n",
    "          \"name\": \"pH\",\n",
    "          \"shape\": [1],\n",
    "          \"datatype\": \"FP32\",\n",
    "          \"data\": [3.51],\n",
    "          \"parameters\": {\n",
    "              \"content_type\": \"np\"\n",
    "          }\n",
    "        },\n",
    "        {\n",
    "          \"name\": \"sulphates\",\n",
    "          \"shape\": [1],\n",
    "          \"datatype\": \"FP32\",\n",
    "          \"data\": [0.56],\n",
    "          \"parameters\": {\n",
    "              \"content_type\": \"np\"\n",
    "          }\n",
    "        },\n",
    "        {\n",
    "          \"name\": \"alcohol\",\n",
    "          \"shape\": [1],\n",
    "          \"datatype\": \"FP32\",\n",
    "          \"data\": [9.4],\n",
    "          \"parameters\": {\n",
    "              \"content_type\": \"np\"\n",
    "          }\n",
    "        },\n",
    "    ]\n",
    "}\n",
    "\n",
    "# note is the local balancer for istion, make sure that the ip is reflected in the setup,\n",
    "# run kubectl get service -n istio-system\n",
    "endpoint = \"http://172.18.255.1/seldon/seldon/mlflow/v2/models/infer\"\n",
    "response = requests.post(endpoint, json=inference_request)\n",
    "\n",
    "print(json.dumps(response.json(), indent=2))\n",
    "assert response.ok"
   ]
  },
  {
   "cell_type": "code",
   "execution_count": 65,
   "id": "f04b56c3",
   "metadata": {},
   "outputs": [
    {
     "name": "stdout",
     "output_type": "stream",
     "text": [
      "seldondeployment.machinelearning.seldon.io \"mlflow\" deleted\r\n"
     ]
    }
   ],
   "source": [
    "!kubectl delete -f ./resources/mlflow_elasticnet_wine_v2.yaml"
   ]
  },
  {
   "cell_type": "code",
   "execution_count": null,
   "id": "7dfe0f11",
   "metadata": {},
   "outputs": [],
   "source": []
  }
 ],
 "metadata": {
  "kernelspec": {
   "display_name": "Python 3 (ipykernel)",
   "language": "python",
   "name": "python3"
  },
  "language_info": {
   "codemirror_mode": {
    "name": "ipython",
    "version": 3
   },
   "file_extension": ".py",
   "mimetype": "text/x-python",
   "name": "python",
   "nbconvert_exporter": "python",
   "pygments_lexer": "ipython3",
   "version": "3.8.11"
  }
 },
 "nbformat": 4,
 "nbformat_minor": 5
}
