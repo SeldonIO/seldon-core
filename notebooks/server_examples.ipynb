{
 "cells": [
  {
   "cell_type": "markdown",
   "metadata": {},
   "source": [
    "# Example Model Servers with Seldon"
   ]
  },
  {
   "cell_type": "markdown",
   "metadata": {},
   "source": [
    "## Setup Seldon Core\n",
    "\n",
    "Use the setup notebook to [Setup Cluster](seldon_core_setup.ipynb#Setup-Cluster) with [Ambassador Ingress](seldon_core_setup.ipynb#Ambassador) and [Seldon Core](seldon_core_setup.ipynb#Install-Seldon-Core). Instructions [also online](./seldon_core_setup.html)."
   ]
  },
  {
   "cell_type": "markdown",
   "metadata": {},
   "source": [
    "## Serve SKlearn Iris Model"
   ]
  },
  {
   "cell_type": "code",
   "execution_count": 5,
   "metadata": {
    "scrolled": false
   },
   "outputs": [
    {
     "name": "stdout",
     "output_type": "stream",
     "text": [
      "\u001b[94mapiVersion\u001b[39;49;00m: machinelearning.seldon.io/v1alpha2\r\n",
      "\u001b[94mkind\u001b[39;49;00m: SeldonDeployment\r\n",
      "\u001b[94mmetadata\u001b[39;49;00m:\r\n",
      "  \u001b[94mname\u001b[39;49;00m: sklearn\r\n",
      "\u001b[94mspec\u001b[39;49;00m:\r\n",
      "  \u001b[94mname\u001b[39;49;00m: iris\r\n",
      "  \u001b[94mpredictors\u001b[39;49;00m:\r\n",
      "  - \u001b[94mgraph\u001b[39;49;00m:\r\n",
      "      \u001b[94mchildren\u001b[39;49;00m: []\r\n",
      "      \u001b[94mimplementation\u001b[39;49;00m: SKLEARN_SERVER\r\n",
      "      \u001b[94mmodelUri\u001b[39;49;00m: gs://seldon-models/sklearn/iris\r\n",
      "      \u001b[94mname\u001b[39;49;00m: classifier\r\n",
      "    \u001b[94mname\u001b[39;49;00m: default\r\n",
      "    \u001b[94mreplicas\u001b[39;49;00m: 1\r\n",
      "    \u001b[94msvcOrchSpec\u001b[39;49;00m: \r\n",
      "      \u001b[94menv\u001b[39;49;00m: \r\n",
      "      - \u001b[94mname\u001b[39;49;00m: SELDON_LOG_LEVEL\r\n",
      "        \u001b[94mvalue\u001b[39;49;00m: DEBUG\r\n"
     ]
    }
   ],
   "source": [
    "!pygmentize ../servers/sklearnserver/samples/iris.yaml"
   ]
  },
  {
   "cell_type": "code",
   "execution_count": 6,
   "metadata": {
    "scrolled": false
   },
   "outputs": [
    {
     "name": "stdout",
     "output_type": "stream",
     "text": [
      "seldondeployment.machinelearning.seldon.io/sklearn created\r\n"
     ]
    }
   ],
   "source": [
    "!kubectl apply -f ../servers/sklearnserver/samples/iris.yaml"
   ]
  },
  {
   "cell_type": "code",
   "execution_count": 7,
   "metadata": {
    "scrolled": false
   },
   "outputs": [
    {
     "name": "stdout",
     "output_type": "stream",
     "text": [
      "Waiting for deployment \"iris-default-4903e3c\" rollout to finish: 0 of 1 updated replicas are available...\n",
      "deployment \"iris-default-4903e3c\" successfully rolled out\n"
     ]
    }
   ],
   "source": [
    "!kubectl rollout status deploy/iris-default-4903e3c"
   ]
  },
  {
   "cell_type": "code",
   "execution_count": 1,
   "metadata": {
    "scrolled": false
   },
   "outputs": [],
   "source": [
    "from seldon_core.seldon_client import SeldonClient\n",
    "sc = SeldonClient(deployment_name=\"sklearn\",namespace=\"seldon\")"
   ]
  },
  {
   "cell_type": "code",
   "execution_count": 2,
   "metadata": {
    "scrolled": true
   },
   "outputs": [
    {
     "name": "stdout",
     "output_type": "stream",
     "text": [
      "Success:True message:\n",
      "Request:\n",
      "data {\n",
      "  tensor {\n",
      "    shape: 1\n",
      "    shape: 4\n",
      "    values: 0.5532809728679123\n",
      "    values: 0.4342251063258179\n",
      "    values: 0.06149633665408394\n",
      "    values: 0.4239944325524071\n",
      "  }\n",
      "}\n",
      "\n",
      "Response:\n",
      "meta {\n",
      "  puid: \"vf7s9q31lojvtoou0s593o2amq\"\n",
      "  requestPath {\n",
      "    key: \"classifier\"\n",
      "    value: \"seldonio/sklearnserver_rest:0.2\"\n",
      "  }\n",
      "}\n",
      "data {\n",
      "  names: \"t:0\"\n",
      "  names: \"t:1\"\n",
      "  names: \"t:2\"\n",
      "  tensor {\n",
      "    shape: 1\n",
      "    shape: 3\n",
      "    values: 0.48054487796869\n",
      "    values: 0.39136042893422457\n",
      "    values: 0.12809469309708543\n",
      "  }\n",
      "}\n",
      "\n"
     ]
    }
   ],
   "source": [
    "r = sc.predict(gateway=\"ambassador\",transport=\"rest\",shape=(1,4))\n",
    "print(r)"
   ]
  },
  {
   "cell_type": "code",
   "execution_count": 3,
   "metadata": {
    "scrolled": false
   },
   "outputs": [
    {
     "name": "stdout",
     "output_type": "stream",
     "text": [
      "seldondeployment.machinelearning.seldon.io \"sklearn\" deleted\r\n"
     ]
    }
   ],
   "source": [
    "!kubectl delete -f ../servers/sklearnserver/samples/iris.yaml"
   ]
  },
  {
   "cell_type": "markdown",
   "metadata": {},
   "source": [
    "## Serve XGBoost Iris Model"
   ]
  },
  {
   "cell_type": "code",
   "execution_count": 8,
   "metadata": {
    "scrolled": true
   },
   "outputs": [
    {
     "name": "stdout",
     "output_type": "stream",
     "text": [
      "\u001b[94mapiVersion\u001b[39;49;00m: machinelearning.seldon.io/v1alpha2\r\n",
      "\u001b[94mkind\u001b[39;49;00m: SeldonDeployment\r\n",
      "\u001b[94mmetadata\u001b[39;49;00m:\r\n",
      "  \u001b[94mname\u001b[39;49;00m: xgboost\r\n",
      "\u001b[94mspec\u001b[39;49;00m:\r\n",
      "  \u001b[94mname\u001b[39;49;00m: iris\r\n",
      "  \u001b[94mpredictors\u001b[39;49;00m:\r\n",
      "  - \u001b[94mgraph\u001b[39;49;00m:\r\n",
      "      \u001b[94mchildren\u001b[39;49;00m: []\r\n",
      "      \u001b[94mimplementation\u001b[39;49;00m: XGBOOST_SERVER\r\n",
      "      \u001b[94mmodelUri\u001b[39;49;00m: gs://seldon-models/xgboost/iris\r\n",
      "      \u001b[94mname\u001b[39;49;00m: classifier\r\n",
      "    \u001b[94mname\u001b[39;49;00m: default\r\n",
      "    \u001b[94mreplicas\u001b[39;49;00m: 1\r\n"
     ]
    }
   ],
   "source": [
    "!pygmentize ../servers/xgboostserver/samples/iris.yaml"
   ]
  },
  {
   "cell_type": "code",
   "execution_count": 9,
   "metadata": {
    "scrolled": false
   },
   "outputs": [
    {
     "name": "stdout",
     "output_type": "stream",
     "text": [
      "seldondeployment.machinelearning.seldon.io/xgboost created\r\n"
     ]
    }
   ],
   "source": [
    "!kubectl apply -f ../servers/xgboostserver/samples/iris.yaml"
   ]
  },
  {
   "cell_type": "code",
   "execution_count": 10,
   "metadata": {
    "scrolled": false
   },
   "outputs": [
    {
     "name": "stdout",
     "output_type": "stream",
     "text": [
      "Waiting for deployment \"iris-default-af1783b\" rollout to finish: 0 of 1 updated replicas are available...\n",
      "deployment \"iris-default-af1783b\" successfully rolled out\n"
     ]
    }
   ],
   "source": [
    "!kubectl rollout status deploy/iris-default-af1783b"
   ]
  },
  {
   "cell_type": "code",
   "execution_count": 11,
   "metadata": {
    "scrolled": false
   },
   "outputs": [],
   "source": [
    "from seldon_core.seldon_client import SeldonClient\n",
    "sc = SeldonClient(deployment_name=\"xgboost\",namespace=\"seldon\")"
   ]
  },
  {
   "cell_type": "code",
   "execution_count": 12,
   "metadata": {
    "scrolled": true
   },
   "outputs": [
    {
     "name": "stdout",
     "output_type": "stream",
     "text": [
      "Success:True message:\n",
      "Request:\n",
      "data {\n",
      "  tensor {\n",
      "    shape: 1\n",
      "    shape: 4\n",
      "    values: 0.8515452360370743\n",
      "    values: 0.5935107411486708\n",
      "    values: 0.5544182060177882\n",
      "    values: 0.9355298659457035\n",
      "  }\n",
      "}\n",
      "\n",
      "Response:\n",
      "meta {\n",
      "  puid: \"u1vhv4n378m1ai5uu5iavp5b53\"\n",
      "  requestPath {\n",
      "    key: \"classifier\"\n",
      "    value: \"seldonio/xgboostserver_rest:0.2\"\n",
      "  }\n",
      "}\n",
      "data {\n",
      "  tensor {\n",
      "    shape: 1\n",
      "    values: 0.0\n",
      "  }\n",
      "}\n",
      "\n"
     ]
    }
   ],
   "source": [
    "r = sc.predict(gateway=\"ambassador\",transport=\"rest\",shape=(1,4))\n",
    "print(r)"
   ]
  },
  {
   "cell_type": "code",
   "execution_count": 13,
   "metadata": {
    "scrolled": false
   },
   "outputs": [
    {
     "name": "stdout",
     "output_type": "stream",
     "text": [
      "seldondeployment.machinelearning.seldon.io \"xgboost\" deleted\r\n"
     ]
    }
   ],
   "source": [
    "!kubectl delete -f ../servers/xgboostserver/samples/iris.yaml"
   ]
  },
  {
   "cell_type": "markdown",
   "metadata": {},
   "source": [
    "## Serve Tensorflow MNIST Model\n",
    "\n",
    "**Will only work on a GCP Kubernetes Cluster**"
   ]
  },
  {
   "cell_type": "code",
   "execution_count": 14,
   "metadata": {
    "scrolled": true
   },
   "outputs": [
    {
     "name": "stdout",
     "output_type": "stream",
     "text": [
      "\u001b[94mapiVersion\u001b[39;49;00m: machinelearning.seldon.io/v1alpha2\r\n",
      "\u001b[94mkind\u001b[39;49;00m: SeldonDeployment\r\n",
      "\u001b[94mmetadata\u001b[39;49;00m:\r\n",
      "  \u001b[94mname\u001b[39;49;00m: tfserving\r\n",
      "\u001b[94mspec\u001b[39;49;00m:\r\n",
      "  \u001b[94mname\u001b[39;49;00m: mnist\r\n",
      "  \u001b[94mpredictors\u001b[39;49;00m:\r\n",
      "  - \u001b[94mgraph\u001b[39;49;00m:\r\n",
      "      \u001b[94mchildren\u001b[39;49;00m: []\r\n",
      "      \u001b[94mimplementation\u001b[39;49;00m: TENSORFLOW_SERVER\r\n",
      "      \u001b[94mmodelUri\u001b[39;49;00m: gs://seldon-models/tfserving/mnist-model\r\n",
      "      \u001b[94mname\u001b[39;49;00m: mnist-model\r\n",
      "      \u001b[94mparameters\u001b[39;49;00m:\r\n",
      "        - \u001b[94mname\u001b[39;49;00m: signature_name\r\n",
      "          \u001b[94mtype\u001b[39;49;00m: STRING\r\n",
      "          \u001b[94mvalue\u001b[39;49;00m: predict_images\r\n",
      "        - \u001b[94mname\u001b[39;49;00m: model_name\r\n",
      "          \u001b[94mtype\u001b[39;49;00m: STRING\r\n",
      "          \u001b[94mvalue\u001b[39;49;00m: mnist-model\r\n",
      "    \u001b[94mname\u001b[39;49;00m: default\r\n",
      "    \u001b[94mreplicas\u001b[39;49;00m: 1\r\n"
     ]
    }
   ],
   "source": [
    "!pygmentize ../servers/tfserving/samples/mnist_rest.yaml"
   ]
  },
  {
   "cell_type": "code",
   "execution_count": 15,
   "metadata": {
    "scrolled": false
   },
   "outputs": [
    {
     "name": "stdout",
     "output_type": "stream",
     "text": [
      "seldondeployment.machinelearning.seldon.io/tfserving created\r\n"
     ]
    }
   ],
   "source": [
    "!kubectl apply -f ../servers/tfserving/samples/mnist_rest.yaml"
   ]
  },
  {
   "cell_type": "code",
   "execution_count": 19,
   "metadata": {
    "scrolled": false
   },
   "outputs": [
    {
     "name": "stdout",
     "output_type": "stream",
     "text": [
      "deployment \"mnist-default-725903e\" successfully rolled out\r\n"
     ]
    }
   ],
   "source": [
    "!kubectl rollout status deploy/mnist-default-725903e"
   ]
  },
  {
   "cell_type": "code",
   "execution_count": 20,
   "metadata": {
    "scrolled": false
   },
   "outputs": [],
   "source": [
    "from seldon_core.seldon_client import SeldonClient\n",
    "sc = SeldonClient(deployment_name=\"tfserving\",namespace=\"seldon\")"
   ]
  },
  {
   "cell_type": "code",
   "execution_count": 21,
   "metadata": {
    "scrolled": true
   },
   "outputs": [
    {
     "name": "stdout",
     "output_type": "stream",
     "text": [
      "Success:True message:\n",
      "Request:\n",
      "data {\n",
      "  tensor {\n",
      "    shape: 1\n",
      "    shape: 784\n",
      "    values: 0.9077521075865232\n",
      "    values: 0.481494282768426\n",
      "    values: 0.4326137508614173\n",
      "    values: 0.39412542521520766\n",
      "    values: 0.2540870260101048\n",
      "    values: 0.7407421531831561\n",
      "    values: 0.9075359591452956\n",
      "    values: 0.522853882249715\n",
      "    values: 0.1544018196830882\n",
      "    values: 0.2037192050420561\n",
      "    values: 0.677923447833067\n",
      "    values: 0.7171500065299637\n",
      "    values: 0.08749274899503934\n",
      "    values: 0.7355149948410137\n",
      "    values: 0.1874174160636044\n",
      "    values: 0.2909706448666053\n",
      "    values: 0.3418987032626096\n",
      "    values: 0.3329337836373806\n",
      "    values: 0.8434577191142036\n",
      "    values: 0.4861160253821838\n",
      "    values: 0.8318209015954431\n",
      "    values: 0.8976272369790321\n",
      "    values: 0.9583714018073152\n",
      "    values: 0.9528392802914424\n",
      "    values: 0.9071597834656283\n",
      "    values: 0.9753120098510758\n",
      "    values: 0.5555712906817557\n",
      "    values: 0.5346651649789239\n",
      "    values: 0.09851330244536882\n",
      "    values: 0.6664706250513927\n",
      "    values: 0.11403634279172392\n",
      "    values: 0.5374185329121973\n",
      "    values: 0.18945161529089793\n",
      "    values: 0.6047580954105439\n",
      "    values: 0.8162030686962867\n",
      "    values: 0.9506767562539185\n",
      "    values: 0.9479851932512139\n",
      "    values: 0.12115021686133898\n",
      "    values: 0.8199392947713652\n",
      "    values: 0.13879134888490574\n",
      "    values: 0.43217727107073\n",
      "    values: 0.19385309094196357\n",
      "    values: 0.7002771019322341\n",
      "    values: 0.7362057065470426\n",
      "    values: 0.2401256998970288\n",
      "    values: 0.5685737496475256\n",
      "    values: 0.8748519269774152\n",
      "    values: 0.2678023087228508\n",
      "    values: 0.690197466066959\n",
      "    values: 0.2965633009557601\n",
      "    values: 0.9853731340532961\n",
      "    values: 0.5165854031552501\n",
      "    values: 0.04164511986589636\n",
      "    values: 0.03459266113483839\n",
      "    values: 0.875121368994282\n",
      "    values: 0.946183989304959\n",
      "    values: 0.7171059548383112\n",
      "    values: 0.711139525482736\n",
      "    values: 0.30515788550644796\n",
      "    values: 0.2108383869427254\n",
      "    values: 0.2599631409136779\n",
      "    values: 0.5887264049831238\n",
      "    values: 0.22017436889596642\n",
      "    values: 0.33320343029581845\n",
      "    values: 0.25721323450998834\n",
      "    values: 0.4083415062751512\n",
      "    values: 0.8824740663798997\n",
      "    values: 0.12964814075689712\n",
      "    values: 0.8672517641036215\n",
      "    values: 0.49342776596156535\n",
      "    values: 0.9084096121698604\n",
      "    values: 0.9956901614042943\n",
      "    values: 0.3207215015126982\n",
      "    values: 0.05069254546859181\n",
      "    values: 0.12175435869855633\n",
      "    values: 0.7167431811866363\n",
      "    values: 0.9375471760681595\n",
      "    values: 0.8258359222213172\n",
      "    values: 0.2537974308391957\n",
      "    values: 0.19063929210385766\n",
      "    values: 0.6253681785529693\n",
      "    values: 0.9979604315357523\n",
      "    values: 0.4105176735695927\n",
      "    values: 0.3168838106627464\n",
      "    values: 0.8764984367441401\n",
      "    values: 0.07297344708408238\n",
      "    values: 0.9034945957649023\n",
      "    values: 0.5174492705934637\n",
      "    values: 0.7454240842393215\n",
      "    values: 0.32454856598378745\n",
      "    values: 0.8519939059996512\n",
      "    values: 0.3655353846884615\n",
      "    values: 0.40537857170813263\n",
      "    values: 0.01877979169503452\n",
      "    values: 0.3541760262517297\n",
      "    values: 0.07949778044507283\n",
      "    values: 0.3269478297162596\n",
      "    values: 0.40523941216654347\n",
      "    values: 0.4201673328416822\n",
      "    values: 0.5959686959374104\n",
      "    values: 0.5461462127643125\n",
      "    values: 0.0588317336886236\n",
      "    values: 0.6470341112798876\n",
      "    values: 0.25346133216135736\n",
      "    values: 0.4133806215145325\n",
      "    values: 0.2189185289771124\n",
      "    values: 0.4389444649646417\n",
      "    values: 0.0314203034627637\n",
      "    values: 0.7443055340616734\n",
      "    values: 0.9306987952928957\n",
      "    values: 0.13495678960560764\n",
      "    values: 0.06421233011888672\n",
      "    values: 0.8056759541449129\n",
      "    values: 0.29314131993308756\n",
      "    values: 0.9817870038593661\n",
      "    values: 0.20321266016657136\n",
      "    values: 0.28126732398512777\n",
      "    values: 0.5404936255701115\n",
      "    values: 0.3313533969876933\n",
      "    values: 0.6463503164520762\n",
      "    values: 0.4110563299094897\n",
      "    values: 0.6674592262396479\n",
      "    values: 0.03352855311467773\n",
      "    values: 0.9853500436804834\n",
      "    values: 0.39773794546619234\n",
      "    values: 0.48157986398866026\n",
      "    values: 0.08838291345155513\n",
      "    values: 0.5601097343340652\n",
      "    values: 0.5170461821964503\n",
      "    values: 0.3022986200964791\n",
      "    values: 0.8441608746573529\n",
      "    values: 0.45890472049955633\n",
      "    values: 0.9668260645550384\n",
      "    values: 0.2734664010672849\n",
      "    values: 0.40905452140433896\n",
      "    values: 0.20139966034626966\n",
      "    values: 0.31069816904126624\n",
      "    values: 0.3141074534113779\n",
      "    values: 0.5383495685457862\n",
      "    values: 0.5878362437577416\n",
      "    values: 0.900632825915421\n",
      "    values: 0.7517247060103933\n",
      "    values: 0.7849775075906724\n",
      "    values: 0.11073609303298759\n",
      "    values: 0.4708813063727071\n",
      "    values: 0.8736904922415315\n",
      "    values: 0.613497143031826\n",
      "    values: 0.7564955281171043\n",
      "    values: 0.6538857019937125\n",
      "    values: 0.5710742882240493\n",
      "    values: 0.09176048183490748\n",
      "    values: 0.7180532555674387\n",
      "    values: 0.7137897948952836\n",
      "    values: 0.913422170946152\n",
      "    values: 0.8870195411800623\n",
      "    values: 0.45942627046411\n",
      "    values: 0.15888959267291125\n",
      "    values: 0.525818819911325\n",
      "    values: 0.1669267414166814\n",
      "    values: 0.7090522193887324\n",
      "    values: 0.6999960465014148\n",
      "    values: 0.3337425697108397\n",
      "    values: 0.8446054672218825\n",
      "    values: 0.3384339313798286\n",
      "    values: 0.0129466070074864\n",
      "    values: 0.9815696159997467\n",
      "    values: 0.9385564997287447\n",
      "    values: 0.055657067560179074\n",
      "    values: 0.3059768520716226\n",
      "    values: 0.845921643767685\n",
      "    values: 0.48531571716505706\n",
      "    values: 0.34573942505697863\n",
      "    values: 0.2659489006384149\n",
      "    values: 0.5834312807801726\n",
      "    values: 0.6996937710016885\n",
      "    values: 0.585104606969596\n",
      "    values: 0.905813339276629\n",
      "    values: 0.9093475221818289\n",
      "    values: 0.43671488061955577\n",
      "    values: 0.1275321424666046\n",
      "    values: 0.1799671254279993\n",
      "    values: 0.19225018334168398\n",
      "    values: 0.40356976730662475\n",
      "    values: 0.8969527865130271\n",
      "    values: 0.7388248572902041\n",
      "    values: 0.9898502183509792\n",
      "    values: 0.16470103098169941\n",
      "    values: 0.6826360504345346\n",
      "    values: 0.5465812398147825\n",
      "    values: 0.39791315735932065\n",
      "    values: 0.7498358475081949\n",
      "    values: 0.5817620127702237\n",
      "    values: 0.7287255383928085\n",
      "    values: 0.6300614133050859\n",
      "    values: 0.006759929350948823\n",
      "    values: 0.15133246929936894\n",
      "    values: 0.9190732054788565\n",
      "    values: 0.08014062539643796\n",
      "    values: 0.06387343575428595\n",
      "    values: 0.5546992533141987\n",
      "    values: 0.8980056804027844\n",
      "    values: 0.7717073917169363\n",
      "    values: 0.8251033502985946\n",
      "    values: 0.730265758035678\n",
      "    values: 0.5717744355320056\n",
      "    values: 0.8392623616665479\n",
      "    values: 0.6620350365504034\n",
      "    values: 0.40160037761891876\n",
      "    values: 0.9194226912589473\n",
      "    values: 0.6265223660845535\n",
      "    values: 0.21339439778547298\n",
      "    values: 0.38323816108099706\n",
      "    values: 0.9185894978629671\n",
      "    values: 0.5096514584839736\n",
      "    values: 0.6812162836171367\n",
      "    values: 0.6997217567364962\n",
      "    values: 0.47963809434789595\n",
      "    values: 0.93788528127083\n",
      "    values: 0.07966937955838804\n",
      "    values: 0.6758292450211021\n",
      "    values: 0.6995864890439781\n",
      "    values: 0.4250193451588421\n",
      "    values: 0.26385131302964326\n",
      "    values: 0.6432186176346865\n",
      "    values: 0.06834322210336097\n",
      "    values: 0.45200576122218505\n",
      "    values: 0.30544317685991806\n",
      "    values: 0.954184950859937\n",
      "    values: 0.3168049854994762\n",
      "    values: 0.04382535151929756\n",
      "    values: 0.7077794721469689\n",
      "    values: 0.915641212298199\n",
      "    values: 0.5399896747002474\n",
      "    values: 0.9071322766076261\n",
      "    values: 0.809480247635963\n",
      "    values: 0.6183767306823053\n",
      "    values: 0.4989792831935491\n",
      "    values: 0.5566420560857704\n",
      "    values: 0.28131465934491917\n",
      "    values: 0.6198393334203187\n",
      "    values: 0.2847876808231876\n",
      "    values: 0.39879754971094694\n",
      "    values: 0.7641507843049505\n",
      "    values: 0.7087838197761839\n",
      "    values: 0.7686490658733188\n",
      "    values: 0.44335718244127187\n",
      "    values: 0.5257609078029385\n",
      "    values: 0.38864304179006237\n",
      "    values: 0.784315275795489\n",
      "    values: 0.3025741615571287\n",
      "    values: 0.44984412120157846\n",
      "    values: 0.9753730738951223\n",
      "    values: 0.46042333036929983\n",
      "    values: 0.2785453696175244\n",
      "    values: 0.3557441211522473\n",
      "    values: 0.2065261822170904\n",
      "    values: 0.8656969913703902\n",
      "    values: 0.7830888985890412\n",
      "    values: 0.37254760294416644\n",
      "    values: 0.1274745443411992\n",
      "    values: 0.4755592622465281\n",
      "    values: 0.9380180962632326\n",
      "    values: 0.06627025923210328\n",
      "    values: 0.5416359526825841\n",
      "    values: 0.3847358769796979\n",
      "    values: 0.788929157967847\n",
      "    values: 0.452029024590188\n",
      "    values: 0.6038399296322474\n",
      "    values: 0.7578896956590857\n",
      "    values: 0.8159407678380852\n",
      "    values: 0.1617806049274504\n",
      "    values: 0.08496503389929166\n",
      "    values: 0.7761886063523513\n",
      "    values: 0.8287649641354454\n",
      "    values: 0.05201120030071571\n",
      "    values: 0.9871745423563195\n",
      "    values: 0.07429616700162434\n",
      "    values: 0.9457548972686184\n",
      "    values: 0.7129751189790626\n",
      "    values: 0.17167836208578513\n",
      "    values: 0.20736184175081662\n",
      "    values: 0.47226701706139784\n",
      "    values: 0.03714312930828212\n",
      "    values: 0.019620223873771048\n",
      "    values: 0.12352759107164102\n",
      "    values: 0.11745206287623144\n",
      "    values: 0.6141019739337564\n",
      "    values: 0.6724586465974781\n",
      "    values: 0.49047391754704384\n",
      "    values: 0.711111000388292\n",
      "    values: 0.19964347859340625\n",
      "    values: 0.16585905798679745\n",
      "    values: 0.7491394446205853\n",
      "    values: 0.15662528451359004\n",
      "    values: 0.74553925316068\n",
      "    values: 0.9921800659735481\n",
      "    values: 0.37798204533805835\n",
      "    values: 0.020023594430017333\n",
      "    values: 0.1760922605050893\n",
      "    values: 0.8649293669377118\n",
      "    values: 0.7302487848489226\n",
      "    values: 0.5198664820791008\n",
      "    values: 0.19248209716151943\n",
      "    values: 0.5526354408981655\n",
      "    values: 0.16851977202084067\n",
      "    values: 0.6853383811610501\n",
      "    values: 0.7883012648335126\n",
      "    values: 0.4090391314164493\n",
      "    values: 0.5099027093103421\n",
      "    values: 0.8792288317360334\n",
      "    values: 0.9083022442000636\n",
      "    values: 0.3953592255270043\n",
      "    values: 0.01976293322262812\n",
      "    values: 0.1744975280305271\n",
      "    values: 0.5940164994944154\n",
      "    values: 0.0071678139933238905\n",
      "    values: 0.5912404863819163\n",
      "    values: 0.3323256433868679\n",
      "    values: 0.7006997605780735\n",
      "    values: 0.967070265181319\n",
      "    values: 0.20201948750739673\n",
      "    values: 0.3188616803044195\n",
      "    values: 0.0019118753682740852\n",
      "    values: 0.3832876526620892\n",
      "    values: 0.6640055176376981\n",
      "    values: 0.2519498140416925\n",
      "    values: 0.576058482421403\n",
      "    values: 0.6037176923917787\n",
      "    values: 0.36680621476203223\n",
      "    values: 0.48300179956796063\n",
      "    values: 0.44422420895957093\n",
      "    values: 0.7723379128268046\n",
      "    values: 0.24494011281298544\n",
      "    values: 0.21985024161457256\n",
      "    values: 0.6002822764352966\n",
      "    values: 0.7979418446444293\n",
      "    values: 0.14225506908999608\n",
      "    values: 0.22708068055376207\n",
      "    values: 0.39872760984431965\n",
      "    values: 0.6931143559812282\n",
      "    values: 0.34982758119976665\n",
      "    values: 0.9813447173230605\n",
      "    values: 0.8846214378581\n",
      "    values: 0.1727314402406538\n",
      "    values: 0.6461148758751788\n",
      "    values: 0.26156684816486553\n",
      "    values: 0.9821875485658176\n",
      "    values: 0.4801414752947186\n",
      "    values: 0.43660682661084393\n",
      "    values: 0.9533840238439006\n",
      "    values: 0.6844987820597782\n",
      "    values: 0.13065218133040113\n",
      "    values: 0.12397102261191695\n",
      "    values: 0.5913593358389608\n",
      "    values: 0.422196903055467\n",
      "    values: 0.9899904832774842\n",
      "    values: 0.5015699030050338\n",
      "    values: 0.5635105154762816\n",
      "    values: 0.09007555144042134\n",
      "    values: 0.45811623522030454\n",
      "    values: 0.23709441812252185\n",
      "    values: 0.4536158131381315\n",
      "    values: 0.1678584897082751\n",
      "    values: 0.14302774210320357\n",
      "    values: 0.40271091105845247\n",
      "    values: 0.3552945845567954\n",
      "    values: 0.9674679192088959\n",
      "    values: 0.05362901797318054\n",
      "    values: 0.24761227866717794\n",
      "    values: 0.11473342851728396\n",
      "    values: 0.11455690634212967\n",
      "    values: 0.6030008249121739\n",
      "    values: 0.6350099835235462\n",
      "    values: 0.4014656806091461\n",
      "    values: 0.3301113690322718\n",
      "    values: 0.4423031052383737\n",
      "    values: 0.34067560207261816\n",
      "    values: 0.5190962714102658\n",
      "    values: 0.18400892018391657\n",
      "    values: 0.04613793028959923\n",
      "    values: 0.08184859411457046\n",
      "    values: 0.14220816502134126\n",
      "    values: 0.5888868915840526\n",
      "    values: 0.7282728628792509\n",
      "    values: 0.7997321499744532\n",
      "    values: 0.6348531824349741\n",
      "    values: 0.937039428120765\n",
      "    values: 0.7379013101674876\n",
      "    values: 0.6279974097182232\n",
      "    values: 0.6771120837077502\n",
      "    values: 0.9680336277564523\n",
      "    values: 0.4323034732184443\n",
      "    values: 0.38256890191644943\n",
      "    values: 0.3949529991175674\n",
      "    values: 0.22323515486310652\n",
      "    values: 0.8854257065067576\n",
      "    values: 0.5442978118638369\n",
      "    values: 0.61698365332973\n",
      "    values: 0.5646449672787983\n",
      "    values: 0.7351595577725178\n",
      "    values: 0.8317027094363203\n",
      "    values: 0.1652108534709511\n",
      "    values: 0.44276746195670413\n",
      "    values: 0.0480511080608671\n",
      "    values: 0.7847332552735922\n",
      "    values: 0.2861667209296781\n",
      "    values: 0.43396462235585664\n",
      "    values: 0.8740517166590877\n",
      "    values: 0.47363629735283863\n",
      "    values: 0.297804662695365\n",
      "    values: 0.26206164876411364\n",
      "    values: 0.2221114169935421\n",
      "    values: 0.9904257335908437\n",
      "    values: 0.973512309966912\n",
      "    values: 0.872741194962346\n",
      "    values: 0.6162183326310449\n",
      "    values: 0.4717639237342467\n",
      "    values: 0.5946959447967756\n",
      "    values: 0.08364253300241775\n",
      "    values: 0.8228728468374276\n",
      "    values: 0.03187493578351741\n",
      "    values: 0.11208172240344061\n",
      "    values: 0.7911110665711703\n",
      "    values: 0.16894333245021365\n",
      "    values: 0.8935865113997377\n",
      "    values: 0.46194856941270057\n",
      "    values: 0.28900045554887455\n",
      "    values: 0.36804241612003197\n",
      "    values: 0.7157022046996451\n",
      "    values: 0.2662750204946921\n",
      "    values: 0.34708304252973576\n",
      "    values: 0.379236435188267\n",
      "    values: 0.26839638586624026\n",
      "    values: 0.8830382071112963\n",
      "    values: 0.040926058120172915\n",
      "    values: 0.9308131814794145\n",
      "    values: 0.750290103726899\n",
      "    values: 0.6489568715658779\n",
      "    values: 0.9338467384242554\n",
      "    values: 0.08709331757722116\n",
      "    values: 0.8249459529019156\n",
      "    values: 0.9069844171536067\n",
      "    values: 0.7373479465685048\n",
      "    values: 0.6477417510689855\n",
      "    values: 0.22128369908778323\n",
      "    values: 0.27290140180043143\n",
      "    values: 0.5894189593816577\n",
      "    values: 0.8139230696156499\n",
      "    values: 0.6983637639498655\n",
      "    values: 0.5716461612867579\n",
      "    values: 0.16309948866581503\n",
      "    values: 0.1722235481663491\n",
      "    values: 0.5585793241817713\n",
      "    values: 0.07007029349722582\n",
      "    values: 0.01832110338025872\n",
      "    values: 0.9823413546435054\n",
      "    values: 0.8648167716550387\n",
      "    values: 0.5414706636843953\n",
      "    values: 0.48115823082855935\n",
      "    values: 0.1160632929189871\n",
      "    values: 0.6660648966746223\n",
      "    values: 0.8233989374854808\n",
      "    values: 0.5172392784197191\n",
      "    values: 0.41165419747562726\n",
      "    values: 0.2368693846007296\n",
      "    values: 0.49981148544390364\n",
      "    values: 0.37352432957799386\n",
      "    values: 0.44483391555614527\n",
      "    values: 0.6038501819758755\n",
      "    values: 0.822243312724317\n",
      "    values: 0.7594190113305364\n",
      "    values: 0.10325211183093186\n",
      "    values: 0.6832226555532109\n",
      "    values: 0.011547990803500219\n",
      "    values: 0.926633650776553\n",
      "    values: 0.9607695045321044\n",
      "    values: 0.1888093670878398\n",
      "    values: 0.31004902768973197\n",
      "    values: 0.1968644539610982\n",
      "    values: 0.1116220570139822\n",
      "    values: 0.8237000276548585\n",
      "    values: 0.5576322247118044\n",
      "    values: 0.5451797579599671\n",
      "    values: 0.07397666448495577\n",
      "    values: 0.699068832427997\n",
      "    values: 0.34037110088694666\n",
      "    values: 0.8355346262323432\n",
      "    values: 0.8678709461970506\n",
      "    values: 0.47716139260833057\n",
      "    values: 0.5953851115455981\n",
      "    values: 0.5906272455573931\n",
      "    values: 0.9566657137247552\n",
      "    values: 0.040178333174049286\n",
      "    values: 0.855174510011565\n",
      "    values: 0.8525017922650974\n",
      "    values: 0.0676054200933901\n",
      "    values: 0.010647036269682664\n",
      "    values: 0.9901662227237883\n",
      "    values: 0.3829794125726609\n",
      "    values: 0.5786148018506755\n",
      "    values: 0.3279516146214393\n",
      "    values: 0.6859118143302187\n",
      "    values: 0.16794812254574942\n",
      "    values: 0.22458031857158167\n",
      "    values: 0.08367973137918772\n",
      "    values: 0.7932588553539374\n",
      "    values: 0.4520929865066634\n",
      "    values: 0.19603450144115775\n",
      "    values: 0.8539684220265759\n",
      "    values: 0.44271583187617447\n",
      "    values: 0.26449532190247405\n",
      "    values: 0.43714482854083336\n",
      "    values: 0.5183945797513123\n",
      "    values: 0.9662430578889708\n",
      "    values: 0.4885251110450807\n",
      "    values: 0.3421088216902748\n",
      "    values: 0.22084195962886788\n",
      "    values: 0.44917701657597753\n",
      "    values: 0.6627206186910988\n",
      "    values: 0.07371198641675092\n",
      "    values: 0.29682810148406824\n",
      "    values: 0.40184749596752156\n",
      "    values: 0.7016311261752014\n",
      "    values: 0.20667062986538132\n",
      "    values: 0.791517683110984\n",
      "    values: 0.9636649741803575\n",
      "    values: 0.5014969709134501\n",
      "    values: 0.7268500561755789\n",
      "    values: 0.7440510177008851\n",
      "    values: 0.00678820738293151\n",
      "    values: 0.6005865501540042\n",
      "    values: 0.6978737371652832\n",
      "    values: 0.272534333192206\n",
      "    values: 0.6188358819258538\n",
      "    values: 0.42740299705422535\n",
      "    values: 0.22385404166424372\n",
      "    values: 0.5578201727389978\n",
      "    values: 0.7127465217809483\n",
      "    values: 0.4246256541577902\n",
      "    values: 0.36178839461702705\n",
      "    values: 0.9514119709130309\n",
      "    values: 0.12683392567556084\n",
      "    values: 0.12900705136108126\n",
      "    values: 0.9595098102827797\n",
      "    values: 0.8229392974283574\n",
      "    values: 0.9618527426136988\n",
      "    values: 0.07498182998390135\n",
      "    values: 0.8722028904669875\n",
      "    values: 0.1788560444756805\n",
      "    values: 0.4360212251825827\n",
      "    values: 0.3719624804939067\n",
      "    values: 0.32744371512896\n",
      "    values: 0.6323399169323207\n",
      "    values: 0.7901947043851578\n",
      "    values: 0.9069744232524791\n",
      "    values: 0.539297251209952\n",
      "    values: 0.9685459598996273\n",
      "    values: 0.6387646766404155\n",
      "    values: 0.7057360097043298\n",
      "    values: 0.41464053398627587\n",
      "    values: 0.5909737362549322\n",
      "    values: 0.4231307540738921\n",
      "    values: 0.8892214616835967\n",
      "    values: 0.16542092493286398\n",
      "    values: 0.12436665530108881\n",
      "    values: 0.21269549412403754\n",
      "    values: 0.16750085284470706\n",
      "    values: 0.2685364164843447\n",
      "    values: 0.49111620940908385\n",
      "    values: 0.038778167269567065\n",
      "    values: 0.3531032452281505\n",
      "    values: 0.04817171907005713\n",
      "    values: 0.6329462587108713\n",
      "    values: 0.09247724729111084\n",
      "    values: 0.6404776150622576\n",
      "    values: 0.7107595349316268\n",
      "    values: 0.9543706054738256\n",
      "    values: 0.2991778606367096\n",
      "    values: 0.6801008553705754\n",
      "    values: 0.23735727923172545\n",
      "    values: 0.2984507751655058\n",
      "    values: 0.4846526063688782\n",
      "    values: 0.7124608669673974\n",
      "    values: 0.16226549607943863\n",
      "    values: 0.49822984364082445\n",
      "    values: 0.2542702429530228\n",
      "    values: 0.8450525411266374\n",
      "    values: 0.9592828945164622\n",
      "    values: 0.7781607636185804\n",
      "    values: 0.6795508221033534\n",
      "    values: 0.31426524415972834\n",
      "    values: 0.26718782842433453\n",
      "    values: 0.2876891221104757\n",
      "    values: 0.9645072378578025\n",
      "    values: 0.772275901242856\n",
      "    values: 0.731436551616058\n",
      "    values: 0.6686478374806571\n",
      "    values: 0.32149100581639456\n",
      "    values: 0.49452545422153305\n",
      "    values: 0.24362732793678954\n",
      "    values: 0.06707004493306379\n",
      "    values: 0.18723674360907416\n",
      "    values: 0.06008848246749732\n",
      "    values: 0.28924702207641106\n",
      "    values: 0.926531716272654\n",
      "    values: 0.31226492240184034\n",
      "    values: 0.06781473749895461\n",
      "    values: 0.4710978034221338\n",
      "    values: 0.06281968696643625\n",
      "    values: 0.28523659595804396\n",
      "    values: 0.7122239843369272\n",
      "    values: 0.9067449772727121\n",
      "    values: 0.08590125743812504\n",
      "    values: 0.07170873779596532\n",
      "    values: 0.5121937829565428\n",
      "    values: 0.5872841046485451\n",
      "    values: 0.6745937585498459\n",
      "    values: 0.6347679752558522\n",
      "    values: 0.8300893851806067\n",
      "    values: 0.40373849636177006\n",
      "    values: 0.5056810812088577\n",
      "    values: 0.9318252869250693\n",
      "    values: 0.09120234547446626\n",
      "    values: 0.9515281674484714\n",
      "    values: 0.8959005725452157\n",
      "    values: 0.959471015249324\n",
      "    values: 0.7417710004804116\n",
      "    values: 0.3637148906031854\n",
      "    values: 0.6668962623402832\n",
      "    values: 0.407069673755715\n",
      "    values: 0.12727249015165087\n",
      "    values: 0.44503512810766077\n",
      "    values: 0.5795923043023258\n",
      "    values: 0.7728760488461031\n",
      "    values: 0.0640742724509058\n",
      "    values: 0.921431248028783\n",
      "    values: 0.032772832408754615\n",
      "    values: 0.8780195121038374\n",
      "    values: 0.8652066209109612\n",
      "    values: 0.3300566521367848\n",
      "    values: 0.3567832572838985\n",
      "    values: 0.49278101922172934\n",
      "    values: 0.3975564083343852\n",
      "    values: 0.4145829495665915\n",
      "    values: 0.28120679854237973\n",
      "    values: 0.2387923478106284\n",
      "    values: 0.893505882736082\n",
      "    values: 0.3606615746807059\n",
      "    values: 0.9618500294957606\n",
      "    values: 0.2340210886532127\n",
      "    values: 0.5447126871511164\n",
      "    values: 0.5889447944390054\n",
      "    values: 0.819745685184733\n",
      "    values: 0.02548883415261649\n",
      "    values: 0.363754842666297\n",
      "    values: 0.3370985337010173\n",
      "    values: 0.10525235238557928\n",
      "    values: 0.21094628212443012\n",
      "    values: 0.24746092911149764\n",
      "    values: 0.12198481546936768\n",
      "    values: 0.09471286541829926\n",
      "    values: 0.7719980765267516\n",
      "    values: 0.05612253963845715\n",
      "    values: 0.0941304246811967\n",
      "    values: 0.29361945571976766\n",
      "    values: 0.24041279887794775\n",
      "    values: 0.717275822374148\n",
      "    values: 0.4775844795908343\n",
      "    values: 0.7929067287637038\n",
      "    values: 0.5657212144562104\n",
      "    values: 0.4402157142307336\n",
      "    values: 0.708162036149398\n",
      "    values: 0.9835979580371608\n",
      "    values: 0.05341360097141845\n",
      "    values: 0.8822283459994484\n",
      "    values: 0.780886494239581\n",
      "    values: 0.9062254482522679\n",
      "    values: 0.002937430620338466\n",
      "    values: 0.9308995279182417\n",
      "    values: 0.22217759527834147\n",
      "    values: 0.9340713989063913\n",
      "    values: 0.25626424117423574\n",
      "    values: 0.9738045485471475\n",
      "    values: 0.7393928367376609\n",
      "    values: 0.9410008642817723\n",
      "    values: 0.4616147658598284\n",
      "    values: 0.5274360135298201\n",
      "    values: 0.5706031077908477\n",
      "    values: 0.605960965886261\n",
      "    values: 0.06865776719291505\n",
      "    values: 0.7463399546947039\n",
      "    values: 0.9465718949309232\n",
      "    values: 0.16276087748742318\n",
      "    values: 0.8759624897013112\n",
      "    values: 0.8406560511666052\n",
      "    values: 0.20030208981003628\n",
      "    values: 0.971229946572198\n",
      "    values: 0.8361440720624936\n",
      "    values: 0.956590113668845\n",
      "    values: 0.026867803430079773\n",
      "    values: 0.877415236641461\n",
      "    values: 0.41353768698659255\n",
      "    values: 0.9755756081115282\n",
      "    values: 0.9581062338361362\n",
      "    values: 0.7286753909489332\n",
      "    values: 0.1366174849853039\n",
      "    values: 0.33159751637360513\n",
      "    values: 0.269629059151394\n",
      "    values: 0.5959313702623316\n",
      "    values: 0.2487390189530485\n",
      "    values: 0.8511731265658438\n",
      "    values: 0.5510426911265237\n",
      "    values: 0.7119347917180158\n",
      "    values: 0.41831969045048634\n",
      "    values: 0.25672211233008324\n",
      "    values: 0.3351115524883752\n",
      "    values: 0.5473728133293863\n",
      "    values: 0.8698702730922934\n",
      "    values: 0.4183321620814887\n",
      "    values: 0.5808441958265111\n",
      "    values: 0.5899409466557799\n",
      "    values: 0.7437713325809862\n",
      "    values: 0.11660177234934732\n",
      "    values: 0.25671162938525816\n",
      "    values: 0.9822719625872597\n",
      "    values: 0.2694914977887034\n",
      "    values: 0.7958360217722709\n",
      "    values: 0.3170353357514133\n",
      "    values: 0.3137220778781522\n",
      "    values: 0.8398038765668162\n",
      "    values: 0.3175929754177462\n",
      "    values: 0.45981590545966644\n",
      "    values: 0.5710696822079859\n",
      "    values: 0.6013346665501819\n",
      "    values: 0.15384371146908704\n",
      "    values: 0.8140416733389426\n",
      "    values: 0.1414088970101569\n",
      "    values: 0.17869468884182194\n",
      "    values: 0.9187388331605334\n",
      "    values: 0.7324791026349019\n",
      "    values: 0.7655298305360002\n",
      "    values: 0.7059652847757655\n",
      "    values: 0.08601685746283005\n",
      "    values: 0.5966730781846389\n",
      "    values: 0.13431141424638915\n",
      "    values: 0.8530889075674768\n",
      "    values: 0.8598000683570904\n",
      "    values: 0.2842885523840374\n",
      "    values: 0.02750575760593954\n",
      "    values: 0.1797823815064442\n",
      "    values: 0.12714869089939185\n",
      "    values: 0.4975971251465324\n",
      "    values: 0.3221016176236038\n",
      "    values: 0.45512114528222825\n",
      "    values: 0.4157613212615767\n",
      "    values: 0.7246528729756676\n",
      "    values: 0.19512065773227205\n",
      "    values: 0.8790379106412447\n",
      "    values: 0.8082845359180735\n",
      "    values: 0.5609260398104546\n",
      "    values: 0.7053267795231765\n",
      "    values: 0.34835983964628525\n",
      "    values: 0.45300891740415394\n",
      "    values: 0.12995598936734165\n",
      "    values: 0.3168660217597954\n",
      "    values: 0.9315366401612346\n",
      "    values: 0.05601865178739818\n",
      "    values: 0.8856050356252713\n",
      "    values: 0.49563050222288596\n",
      "    values: 0.5749391280011129\n",
      "    values: 0.32639189730027984\n",
      "    values: 0.05098419319526892\n",
      "    values: 0.3701586394920481\n",
      "    values: 0.6478621909766373\n",
      "    values: 0.5283307951839492\n",
      "    values: 0.22595941299244948\n",
      "    values: 0.39109891787338846\n",
      "    values: 0.09922432902413403\n",
      "    values: 0.14668497452577622\n",
      "    values: 0.4962743472271398\n",
      "    values: 0.8836883218124524\n",
      "    values: 0.2046467014692518\n",
      "    values: 0.2632654965572435\n",
      "    values: 0.5390020292637117\n",
      "  }\n",
      "}\n",
      "\n",
      "Response:\n",
      "meta {\n",
      "  puid: \"kioo19njo8rftrjnecngfdau4t\"\n",
      "  requestPath {\n",
      "    key: \"mnist-model\"\n",
      "    value: \"seldonio/tfserving-proxy_rest:0.7\"\n",
      "  }\n",
      "}\n",
      "data {\n",
      "  names: \"t:0\"\n",
      "  names: \"t:1\"\n",
      "  names: \"t:2\"\n",
      "  names: \"t:3\"\n",
      "  names: \"t:4\"\n",
      "  names: \"t:5\"\n",
      "  names: \"t:6\"\n",
      "  names: \"t:7\"\n",
      "  names: \"t:8\"\n",
      "  names: \"t:9\"\n",
      "  tensor {\n",
      "    shape: 1\n",
      "    shape: 10\n",
      "    values: 2.35872439e-19\n",
      "    values: 2.979662e-33\n",
      "    values: 0.984709799\n",
      "    values: 0.0124261566\n",
      "    values: 5.1570811e-26\n",
      "    values: 0.00286374264\n",
      "    values: 2.4608495e-18\n",
      "    values: 3.90025435e-14\n",
      "    values: 2.28899552e-07\n",
      "    values: 4.03268579e-20\n",
      "  }\n",
      "}\n",
      "\n"
     ]
    }
   ],
   "source": [
    "r = sc.predict(gateway=\"ambassador\",transport=\"rest\",shape=(1,784))\n",
    "print(r)"
   ]
  },
  {
   "cell_type": "code",
   "execution_count": 22,
   "metadata": {
    "scrolled": false
   },
   "outputs": [
    {
     "name": "stdout",
     "output_type": "stream",
     "text": [
      "seldondeployment.machinelearning.seldon.io \"tfserving\" deleted\r\n"
     ]
    }
   ],
   "source": [
    "!kubectl delete -f ../servers/tfserving/samples/mnist_rest.yaml"
   ]
  },
  {
   "cell_type": "markdown",
   "metadata": {},
   "source": [
    "## Serve MLFlow Elasticnet Wines Model"
   ]
  },
  {
   "cell_type": "code",
   "execution_count": 31,
   "metadata": {
    "scrolled": false
   },
   "outputs": [
    {
     "name": "stdout",
     "output_type": "stream",
     "text": [
      "\u001b[94mapiVersion\u001b[39;49;00m: machinelearning.seldon.io/v1alpha2\r\n",
      "\u001b[94mkind\u001b[39;49;00m: SeldonDeployment\r\n",
      "\u001b[94mmetadata\u001b[39;49;00m:\r\n",
      "  \u001b[94mname\u001b[39;49;00m: mlflow\r\n",
      "\u001b[94mspec\u001b[39;49;00m:\r\n",
      "  \u001b[94mname\u001b[39;49;00m: wines\r\n",
      "  \u001b[94mpredictors\u001b[39;49;00m:\r\n",
      "  - \u001b[94mgraph\u001b[39;49;00m:\r\n",
      "      \u001b[94mchildren\u001b[39;49;00m: []\r\n",
      "      \u001b[94mimplementation\u001b[39;49;00m: MLFLOW_SERVER\r\n",
      "      \u001b[94mmodelUri\u001b[39;49;00m: gs://seldon-models/mlflow/elasticnet_wine\r\n",
      "      \u001b[94mname\u001b[39;49;00m: classifier\r\n",
      "    \u001b[94mname\u001b[39;49;00m: default\r\n",
      "    \u001b[94mreplicas\u001b[39;49;00m: 1\r\n"
     ]
    }
   ],
   "source": [
    "!pygmentize ../servers/mlflowserver/samples/elasticnet_wine.yaml"
   ]
  },
  {
   "cell_type": "code",
   "execution_count": 32,
   "metadata": {
    "scrolled": false
   },
   "outputs": [
    {
     "name": "stdout",
     "output_type": "stream",
     "text": [
      "seldondeployment.machinelearning.seldon.io/mlflow created\r\n"
     ]
    }
   ],
   "source": [
    "!kubectl apply -f ../servers/mlflowserver/samples/elasticnet_wine.yaml"
   ]
  },
  {
   "cell_type": "code",
   "execution_count": 33,
   "metadata": {
    "scrolled": false
   },
   "outputs": [
    {
     "name": "stdout",
     "output_type": "stream",
     "text": [
      "Waiting for deployment \"wines-default-8c791aa\" rollout to finish: 0 of 1 updated replicas are available...\n",
      "deployment \"wines-default-8c791aa\" successfully rolled out\n"
     ]
    }
   ],
   "source": [
    "!kubectl rollout status deploy/wines-default-8c791aa"
   ]
  },
  {
   "cell_type": "code",
   "execution_count": 34,
   "metadata": {
    "scrolled": false
   },
   "outputs": [],
   "source": [
    "from seldon_core.seldon_client import SeldonClient\n",
    "sc = SeldonClient(deployment_name=\"mlflow\",namespace=\"seldon\")"
   ]
  },
  {
   "cell_type": "code",
   "execution_count": 36,
   "metadata": {
    "scrolled": true
   },
   "outputs": [
    {
     "name": "stdout",
     "output_type": "stream",
     "text": [
      "Success:True message:\n",
      "Request:\n",
      "data {\n",
      "  tensor {\n",
      "    shape: 1\n",
      "    shape: 11\n",
      "    values: 0.6907478776933986\n",
      "    values: 0.8309510656778891\n",
      "    values: 0.562660723739024\n",
      "    values: 0.016727865284311028\n",
      "    values: 0.2935636350018127\n",
      "    values: 0.6049700606468156\n",
      "    values: 0.26904374522513186\n",
      "    values: 0.059964759754932206\n",
      "    values: 0.11900130537727505\n",
      "    values: 0.30425941706369986\n",
      "    values: 0.42276301953693896\n",
      "  }\n",
      "}\n",
      "\n",
      "Response:\n",
      "meta {\n",
      "  puid: \"kh2v4blpf1fh8c91o7jl4ucocr\"\n",
      "  requestPath {\n",
      "    key: \"classifier\"\n",
      "    value: \"seldonio/mlflowserver_rest:0.2\"\n",
      "  }\n",
      "}\n",
      "data {\n",
      "  tensor {\n",
      "    shape: 1\n",
      "    values: 5.212350520219259\n",
      "  }\n",
      "}\n",
      "\n"
     ]
    }
   ],
   "source": [
    "r = sc.predict(gateway=\"ambassador\",transport=\"rest\",shape=(1,11))\n",
    "print(r)"
   ]
  },
  {
   "cell_type": "code",
   "execution_count": 37,
   "metadata": {
    "scrolled": false
   },
   "outputs": [
    {
     "name": "stdout",
     "output_type": "stream",
     "text": [
      "seldondeployment.machinelearning.seldon.io \"mlflow\" deleted\r\n"
     ]
    }
   ],
   "source": [
    "!kubectl delete -f ../servers/mlflowserver/samples/elasticnet_wine.yaml"
   ]
  }
 ],
 "metadata": {
  "anaconda-cloud": {},
  "kernelspec": {
   "display_name": "Python 3",
   "language": "python",
   "name": "python3"
  },
  "language_info": {
   "codemirror_mode": {
    "name": "ipython",
    "version": 3
   },
   "file_extension": ".py",
   "mimetype": "text/x-python",
   "name": "python",
   "nbconvert_exporter": "python",
   "pygments_lexer": "ipython3",
   "version": "3.7.4"
  },
  "varInspector": {
   "cols": {
    "lenName": 16,
    "lenType": 16,
    "lenVar": 40
   },
   "kernels_config": {
    "python": {
     "delete_cmd_postfix": "",
     "delete_cmd_prefix": "del ",
     "library": "var_list.py",
     "varRefreshCmd": "print(var_dic_list())"
    },
    "r": {
     "delete_cmd_postfix": ") ",
     "delete_cmd_prefix": "rm(",
     "library": "var_list.r",
     "varRefreshCmd": "cat(var_dic_list()) "
    }
   },
   "types_to_exclude": [
    "module",
    "function",
    "builtin_function_or_method",
    "instance",
    "_Feature"
   ],
   "window_display": false
  }
 },
 "nbformat": 4,
 "nbformat_minor": 1
}
