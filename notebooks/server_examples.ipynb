{
 "cells": [
  {
   "cell_type": "markdown",
   "metadata": {},
   "source": [
    "# Example Model Servers with Seldon"
   ]
  },
  {
   "cell_type": "markdown",
   "metadata": {},
   "source": [
    "## Prerequistes\n",
    "You will need\n",
    " - [Git clone of Seldon Core](https://github.com/SeldonIO/seldon-core)\n",
    " - A running Kubernetes cluster with kubectl authenticated\n",
    " - [seldon-core Python package](https://pypi.org/project/seldon-core/) (```pip install seldon-core>=0.2.6.1```)\n",
    " - [Helm client](https://helm.sh/)"
   ]
  },
  {
   "cell_type": "markdown",
   "metadata": {},
   "source": [
    "### Creating a Kubernetes Cluster\n",
    "\n",
    "Follow the [Kubernetes documentation to create a cluster](https://kubernetes.io/docs/setup/).\n",
    "\n",
    "Once created ensure ```kubectl``` is authenticated against the running cluster."
   ]
  },
  {
   "cell_type": "markdown",
   "metadata": {},
   "source": [
    "## Setup"
   ]
  },
  {
   "cell_type": "code",
   "execution_count": 36,
   "metadata": {},
   "outputs": [
    {
     "name": "stdout",
     "output_type": "stream",
     "text": [
      "namespace/seldon created\r\n"
     ]
    }
   ],
   "source": [
    "!kubectl create namespace seldon"
   ]
  },
  {
   "cell_type": "code",
   "execution_count": 37,
   "metadata": {},
   "outputs": [
    {
     "name": "stdout",
     "output_type": "stream",
     "text": [
      "Context \"gke_seldon-demos_europe-west6-b_standard-cluster-1\" modified.\r\n"
     ]
    }
   ],
   "source": [
    "!kubectl config set-context $(kubectl config current-context) --namespace=seldon"
   ]
  },
  {
   "cell_type": "code",
   "execution_count": 38,
   "metadata": {},
   "outputs": [
    {
     "name": "stdout",
     "output_type": "stream",
     "text": [
      "clusterrolebinding.rbac.authorization.k8s.io/kube-system-cluster-admin created\r\n"
     ]
    }
   ],
   "source": [
    "!kubectl create clusterrolebinding kube-system-cluster-admin --clusterrole=cluster-admin --serviceaccount=kube-system:default"
   ]
  },
  {
   "cell_type": "markdown",
   "metadata": {},
   "source": [
    "## Install Helm"
   ]
  },
  {
   "cell_type": "code",
   "execution_count": 39,
   "metadata": {},
   "outputs": [
    {
     "name": "stdout",
     "output_type": "stream",
     "text": [
      "serviceaccount/tiller created\n",
      "clusterrolebinding.rbac.authorization.k8s.io/tiller created\n",
      "$HELM_HOME has been configured at /home/clive/.helm.\n",
      "\n",
      "Tiller (the Helm server-side component) has been installed into your Kubernetes Cluster.\n",
      "\n",
      "Please note: by default, Tiller is deployed with an insecure 'allow unauthenticated users' policy.\n",
      "To prevent this, run `helm init` with the --tiller-tls-verify flag.\n",
      "For more information on securing your installation see: https://docs.helm.sh/using_helm/#securing-your-helm-installation\n",
      "Happy Helming!\n"
     ]
    }
   ],
   "source": [
    "!kubectl -n kube-system create sa tiller\n",
    "!kubectl create clusterrolebinding tiller --clusterrole cluster-admin --serviceaccount=kube-system:tiller\n",
    "!helm init --service-account tiller"
   ]
  },
  {
   "cell_type": "code",
   "execution_count": 40,
   "metadata": {},
   "outputs": [
    {
     "name": "stdout",
     "output_type": "stream",
     "text": [
      "Waiting for deployment \"tiller-deploy\" rollout to finish: 0 of 1 updated replicas are available...\n",
      "deployment \"tiller-deploy\" successfully rolled out\n"
     ]
    }
   ],
   "source": [
    "!kubectl rollout status deploy/tiller-deploy -n kube-system"
   ]
  },
  {
   "cell_type": "markdown",
   "metadata": {},
   "source": [
    "## Start seldon-core"
   ]
  },
  {
   "cell_type": "code",
   "execution_count": 41,
   "metadata": {
    "scrolled": true
   },
   "outputs": [
    {
     "name": "stdout",
     "output_type": "stream",
     "text": [
      "NAME:   seldon-core\n",
      "LAST DEPLOYED: Sun Jul 14 15:56:47 2019\n",
      "NAMESPACE: seldon-system\n",
      "STATUS: DEPLOYED\n",
      "\n",
      "RESOURCES:\n",
      "==> v1/ClusterRole\n",
      "NAME                          AGE\n",
      "seldon-operator-manager-role  1s\n",
      "\n",
      "==> v1/ClusterRoleBinding\n",
      "NAME                                 AGE\n",
      "seldon-operator-manager-rolebinding  1s\n",
      "\n",
      "==> v1/ConfigMap\n",
      "NAME                     DATA  AGE\n",
      "seldon-spartakus-config  1     1s\n",
      "\n",
      "==> v1/Pod(related)\n",
      "NAME                                         READY  STATUS             RESTARTS  AGE\n",
      "seldon-operator-controller-manager-0         0/1    ContainerCreating  0         0s\n",
      "seldon-spartakus-volunteer-5b568c587b-wpbl2  0/1    ContainerCreating  0         0s\n",
      "\n",
      "==> v1/Secret\n",
      "NAME                                   TYPE    DATA  AGE\n",
      "seldon-operator-webhook-server-secret  Opaque  0     1s\n",
      "\n",
      "==> v1/Service\n",
      "NAME                                        TYPE       CLUSTER-IP    EXTERNAL-IP  PORT(S)  AGE\n",
      "seldon-operator-controller-manager-service  ClusterIP  10.78.7.11    <none>       443/TCP  0s\n",
      "webhook-server-service                      ClusterIP  10.78.14.123  <none>       443/TCP  0s\n",
      "\n",
      "==> v1/ServiceAccount\n",
      "NAME                              SECRETS  AGE\n",
      "seldon-core-seldon-core-operator  1        1s\n",
      "seldon-spartakus-volunteer        1        1s\n",
      "\n",
      "==> v1/StatefulSet\n",
      "NAME                                READY  AGE\n",
      "seldon-operator-controller-manager  0/1    0s\n",
      "\n",
      "==> v1beta1/ClusterRole\n",
      "NAME                        AGE\n",
      "seldon-spartakus-volunteer  1s\n",
      "\n",
      "==> v1beta1/ClusterRoleBinding\n",
      "NAME                        AGE\n",
      "seldon-spartakus-volunteer  0s\n",
      "\n",
      "==> v1beta1/CustomResourceDefinition\n",
      "NAME                                         AGE\n",
      "seldondeployments.machinelearning.seldon.io  1s\n",
      "\n",
      "==> v1beta1/Deployment\n",
      "NAME                        READY  UP-TO-DATE  AVAILABLE  AGE\n",
      "seldon-spartakus-volunteer  0/1    1           0          0s\n",
      "\n",
      "\n",
      "NOTES:\n",
      "NOTES: TODO\n",
      "\n",
      "\n"
     ]
    }
   ],
   "source": [
    "!helm install ../helm-charts/seldon-core-operator --name seldon-core  --set usageMetrics.enabled=true --namespace seldon-system"
   ]
  },
  {
   "cell_type": "code",
   "execution_count": 10,
   "metadata": {},
   "outputs": [
    {
     "name": "stdout",
     "output_type": "stream",
     "text": [
      "partitioned roll out complete: 1 new pods have been updated...\r\n"
     ]
    }
   ],
   "source": [
    "!kubectl rollout status statefulset.apps/seldon-operator-controller-manager -n seldon-system"
   ]
  },
  {
   "cell_type": "markdown",
   "metadata": {},
   "source": [
    "## Setup Ingress\n",
    "There are gRPC issues with the latest Ambassador, so we rewcommend 0.40.2 until these are fixed."
   ]
  },
  {
   "cell_type": "code",
   "execution_count": 42,
   "metadata": {},
   "outputs": [
    {
     "name": "stdout",
     "output_type": "stream",
     "text": [
      "NAME:   ambassador\n",
      "LAST DEPLOYED: Sun Jul 14 16:00:55 2019\n",
      "NAMESPACE: seldon\n",
      "STATUS: DEPLOYED\n",
      "\n",
      "RESOURCES:\n",
      "==> v1/Deployment\n",
      "NAME        READY  UP-TO-DATE  AVAILABLE  AGE\n",
      "ambassador  0/3    3           0          1s\n",
      "\n",
      "==> v1/Pod(related)\n",
      "NAME                         READY  STATUS             RESTARTS  AGE\n",
      "ambassador-67ffd4f6c5-4nwbv  0/1    ContainerCreating  0         1s\n",
      "ambassador-67ffd4f6c5-gwhhh  0/1    ContainerCreating  0         1s\n",
      "ambassador-67ffd4f6c5-rcbfc  0/1    ContainerCreating  0         1s\n",
      "\n",
      "==> v1/Service\n",
      "NAME               TYPE          CLUSTER-IP    EXTERNAL-IP  PORT(S)                     AGE\n",
      "ambassador         LoadBalancer  10.78.0.56    <pending>    80:31414/TCP,443:31806/TCP  1s\n",
      "ambassador-admins  ClusterIP     10.78.10.131  <none>       8877/TCP                    1s\n",
      "\n",
      "==> v1/ServiceAccount\n",
      "NAME        SECRETS  AGE\n",
      "ambassador  1        1s\n",
      "\n",
      "==> v1beta1/ClusterRole\n",
      "NAME        AGE\n",
      "ambassador  1s\n",
      "\n",
      "==> v1beta1/ClusterRoleBinding\n",
      "NAME        AGE\n",
      "ambassador  1s\n",
      "\n",
      "==> v1beta1/CustomResourceDefinition\n",
      "NAME                                AGE\n",
      "authservices.getambassador.io       1s\n",
      "mappings.getambassador.io           1s\n",
      "modules.getambassador.io            1s\n",
      "ratelimitservices.getambassador.io  1s\n",
      "tcpmappings.getambassador.io        1s\n",
      "tlscontexts.getambassador.io        1s\n",
      "tracingservices.getambassador.io    1s\n",
      "\n",
      "\n",
      "NOTES:\n",
      "Congratuations! You've successfully installed Ambassador.\n",
      "\n",
      "For help, visit our Slack at https://d6e.co/slack or view the documentation online at https://www.getambassador.io.\n",
      "\n",
      "To get the IP address of Ambassador, run the following commands:\n",
      "NOTE: It may take a few minutes for the LoadBalancer IP to be available.\n",
      "     You can watch the status of by running 'kubectl get svc -w  --namespace seldon ambassador'\n",
      "\n",
      "  On GKE/Azure:\n",
      "  export SERVICE_IP=$(kubectl get svc --namespace seldon ambassador -o jsonpath='{.status.loadBalancer.ingress[0].ip}')\n",
      "\n",
      "  On AWS:\n",
      "  export SERVICE_IP=$(kubectl get svc --namespace seldon ambassador -o jsonpath='{.status.loadBalancer.ingress[0].hostname}')\n",
      "\n",
      "  echo http://$SERVICE_IP:\n",
      "\n"
     ]
    }
   ],
   "source": [
    "!helm install stable/ambassador --name ambassador --set crds.keep=false"
   ]
  },
  {
   "cell_type": "code",
   "execution_count": 43,
   "metadata": {},
   "outputs": [
    {
     "name": "stdout",
     "output_type": "stream",
     "text": [
      "Waiting for deployment \"ambassador\" rollout to finish: 0 of 3 updated replicas are available...\n",
      "Waiting for deployment \"ambassador\" rollout to finish: 1 of 3 updated replicas are available...\n",
      "Waiting for deployment \"ambassador\" rollout to finish: 2 of 3 updated replicas are available...\n",
      "deployment \"ambassador\" successfully rolled out\n"
     ]
    }
   ],
   "source": [
    "!kubectl rollout status deployment.apps/ambassador"
   ]
  },
  {
   "cell_type": "markdown",
   "metadata": {},
   "source": [
    "### Port Forward to Ambassador\n",
    "\n",
    "```\n",
    "kubectl port-forward $(kubectl get pods -n seldon -l app.kubernetes.io/name=ambassador -o jsonpath='{.items[0].metadata.name}') -n seldon 8003:8080\n",
    "```"
   ]
  },
  {
   "cell_type": "markdown",
   "metadata": {},
   "source": [
    "## Serve SKlearn Iris Model"
   ]
  },
  {
   "cell_type": "code",
   "execution_count": 1,
   "metadata": {
    "scrolled": true
   },
   "outputs": [
    {
     "name": "stdout",
     "output_type": "stream",
     "text": [
      "\u001b[34;01mapiVersion\u001b[39;49;00m: machinelearning.seldon.io/v1alpha2\r\n",
      "\u001b[34;01mkind\u001b[39;49;00m: SeldonDeployment\r\n",
      "\u001b[34;01mmetadata\u001b[39;49;00m:\r\n",
      "  \u001b[34;01mname\u001b[39;49;00m: sklearn\r\n",
      "\u001b[34;01mspec\u001b[39;49;00m:\r\n",
      "  \u001b[34;01mname\u001b[39;49;00m: iris\r\n",
      "  \u001b[34;01mpredictors\u001b[39;49;00m:\r\n",
      "  - \u001b[34;01mgraph\u001b[39;49;00m:\r\n",
      "      \u001b[34;01mchildren\u001b[39;49;00m: []\r\n",
      "      \u001b[34;01mimplementation\u001b[39;49;00m: SKLEARN_SERVER\r\n",
      "      \u001b[34;01mmodelUri\u001b[39;49;00m: gs://seldon-models/sklearn/iris\r\n",
      "      \u001b[34;01mname\u001b[39;49;00m: classifier\r\n",
      "    \u001b[34;01mname\u001b[39;49;00m: default\r\n",
      "    \u001b[34;01mreplicas\u001b[39;49;00m: 1\r\n"
     ]
    }
   ],
   "source": [
    "!pygmentize ../servers/sklearnserver/samples/iris.yaml"
   ]
  },
  {
   "cell_type": "code",
   "execution_count": 22,
   "metadata": {},
   "outputs": [
    {
     "name": "stdout",
     "output_type": "stream",
     "text": [
      "seldondeployment.machinelearning.seldon.io/sklearn created\r\n"
     ]
    }
   ],
   "source": [
    "!kubectl apply -f ../servers/sklearnserver/samples/iris.yaml"
   ]
  },
  {
   "cell_type": "code",
   "execution_count": 23,
   "metadata": {},
   "outputs": [
    {
     "name": "stdout",
     "output_type": "stream",
     "text": [
      "deployment \"iris-default-8bb3ef6\" successfully rolled out\r\n"
     ]
    }
   ],
   "source": [
    "!kubectl rollout status deploy/iris-default-8bb3ef6"
   ]
  },
  {
   "cell_type": "code",
   "execution_count": 5,
   "metadata": {},
   "outputs": [],
   "source": [
    "from seldon_core.seldon_client import SeldonClient\n",
    "sc = SeldonClient(deployment_name=\"sklearn\",namespace=\"seldon\")"
   ]
  },
  {
   "cell_type": "code",
   "execution_count": 6,
   "metadata": {
    "scrolled": false
   },
   "outputs": [
    {
     "name": "stdout",
     "output_type": "stream",
     "text": [
      "Success:True message:\n",
      "Request:\n",
      "data {\n",
      "  tensor {\n",
      "    shape: 1\n",
      "    shape: 4\n",
      "    values: 0.29275055986695164\n",
      "    values: 0.8118062883127178\n",
      "    values: 0.19700994587239462\n",
      "    values: 0.6118673849089248\n",
      "  }\n",
      "}\n",
      "\n",
      "Response:\n",
      "meta {\n",
      "  puid: \"bhj2u94r08iqvoq3p18i98328l\"\n",
      "  requestPath {\n",
      "    key: \"classifier\"\n",
      "    value: \"seldonio/sklearnserver_rest:0.1\"\n",
      "  }\n",
      "}\n",
      "data {\n",
      "  tensor {\n",
      "    shape: 1\n",
      "    values: 0.0\n",
      "  }\n",
      "}\n",
      "\n"
     ]
    }
   ],
   "source": [
    "r = sc.predict(gateway=\"ambassador\",transport=\"rest\",shape=(1,4))\n",
    "print(r)"
   ]
  },
  {
   "cell_type": "code",
   "execution_count": 24,
   "metadata": {},
   "outputs": [
    {
     "name": "stdout",
     "output_type": "stream",
     "text": [
      "seldondeployment.machinelearning.seldon.io \"sklearn\" deleted\r\n"
     ]
    }
   ],
   "source": [
    "!kubectl delete -f ../servers/sklearnserver/samples/iris.yaml"
   ]
  },
  {
   "cell_type": "markdown",
   "metadata": {},
   "source": [
    "## Serve XGBoost Iris Model"
   ]
  },
  {
   "cell_type": "code",
   "execution_count": 8,
   "metadata": {
    "scrolled": true
   },
   "outputs": [
    {
     "name": "stdout",
     "output_type": "stream",
     "text": [
      "\u001b[34;01mapiVersion\u001b[39;49;00m: machinelearning.seldon.io/v1alpha2\r\n",
      "\u001b[34;01mkind\u001b[39;49;00m: SeldonDeployment\r\n",
      "\u001b[34;01mmetadata\u001b[39;49;00m:\r\n",
      "  \u001b[34;01mname\u001b[39;49;00m: xgboost\r\n",
      "\u001b[34;01mspec\u001b[39;49;00m:\r\n",
      "  \u001b[34;01mname\u001b[39;49;00m: iris\r\n",
      "  \u001b[34;01mpredictors\u001b[39;49;00m:\r\n",
      "  - \u001b[34;01mgraph\u001b[39;49;00m:\r\n",
      "      \u001b[34;01mchildren\u001b[39;49;00m: []\r\n",
      "      \u001b[34;01mimplementation\u001b[39;49;00m: XGBOOST_SERVER\r\n",
      "      \u001b[34;01mmodelUri\u001b[39;49;00m: gs://seldon-models/xgboost/iris\r\n",
      "      \u001b[34;01mname\u001b[39;49;00m: classifier\r\n",
      "    \u001b[34;01mname\u001b[39;49;00m: default\r\n",
      "    \u001b[34;01mreplicas\u001b[39;49;00m: 1\r\n"
     ]
    }
   ],
   "source": [
    "!pygmentize ../servers/xgboostserver/samples/iris.yaml"
   ]
  },
  {
   "cell_type": "code",
   "execution_count": 9,
   "metadata": {},
   "outputs": [
    {
     "name": "stdout",
     "output_type": "stream",
     "text": [
      "seldondeployment.machinelearning.seldon.io/xgboost created\r\n"
     ]
    }
   ],
   "source": [
    "!kubectl apply -f ../servers/xgboostserver/samples/iris.yaml"
   ]
  },
  {
   "cell_type": "code",
   "execution_count": 10,
   "metadata": {},
   "outputs": [
    {
     "name": "stdout",
     "output_type": "stream",
     "text": [
      "Waiting for deployment \"iris-default-5299e79\" rollout to finish: 0 of 1 updated replicas are available...\n",
      "deployment \"iris-default-5299e79\" successfully rolled out\n"
     ]
    }
   ],
   "source": [
    "!kubectl rollout status deploy/iris-default-5299e79"
   ]
  },
  {
   "cell_type": "code",
   "execution_count": 11,
   "metadata": {},
   "outputs": [],
   "source": [
    "from seldon_core.seldon_client import SeldonClient\n",
    "sc = SeldonClient(deployment_name=\"xgboost\",namespace=\"seldon\")"
   ]
  },
  {
   "cell_type": "code",
   "execution_count": 12,
   "metadata": {
    "scrolled": true
   },
   "outputs": [
    {
     "name": "stdout",
     "output_type": "stream",
     "text": [
      "Success:True message:\n",
      "Request:\n",
      "data {\n",
      "  tensor {\n",
      "    shape: 1\n",
      "    shape: 4\n",
      "    values: 0.8051608636875349\n",
      "    values: 0.8477511606179198\n",
      "    values: 0.2803798056079224\n",
      "    values: 0.2967822556594124\n",
      "  }\n",
      "}\n",
      "\n",
      "Response:\n",
      "meta {\n",
      "  puid: \"8kn3r98jan6cunnta26rep16p4\"\n",
      "  requestPath {\n",
      "    key: \"classifier\"\n",
      "    value: \"seldonio/xgboostserver_rest:0.1\"\n",
      "  }\n",
      "}\n",
      "data {\n",
      "  tensor {\n",
      "    shape: 1\n",
      "    values: 0.0\n",
      "  }\n",
      "}\n",
      "\n"
     ]
    }
   ],
   "source": [
    "r = sc.predict(gateway=\"ambassador\",transport=\"rest\",shape=(1,4))\n",
    "print(r)"
   ]
  },
  {
   "cell_type": "code",
   "execution_count": 13,
   "metadata": {},
   "outputs": [
    {
     "name": "stdout",
     "output_type": "stream",
     "text": [
      "seldondeployment.machinelearning.seldon.io \"xgboost\" deleted\r\n"
     ]
    }
   ],
   "source": [
    "!kubectl delete -f ../servers/xgboostserver/samples/iris.yaml"
   ]
  },
  {
   "cell_type": "markdown",
   "metadata": {},
   "source": [
    "## Serve Tensorflow MNIST Model\n",
    "\n",
    "**Will only work on a GCP Kubernetes Cluster**"
   ]
  },
  {
   "cell_type": "code",
   "execution_count": 14,
   "metadata": {
    "scrolled": true
   },
   "outputs": [
    {
     "name": "stdout",
     "output_type": "stream",
     "text": [
      "\u001b[34;01mapiVersion\u001b[39;49;00m: machinelearning.seldon.io/v1alpha2\r\n",
      "\u001b[34;01mkind\u001b[39;49;00m: SeldonDeployment\r\n",
      "\u001b[34;01mmetadata\u001b[39;49;00m:\r\n",
      "  \u001b[34;01mname\u001b[39;49;00m: tfserving\r\n",
      "\u001b[34;01mspec\u001b[39;49;00m:\r\n",
      "  \u001b[34;01mname\u001b[39;49;00m: mnist\r\n",
      "  \u001b[34;01mpredictors\u001b[39;49;00m:\r\n",
      "  - \u001b[34;01mgraph\u001b[39;49;00m:\r\n",
      "      \u001b[34;01mchildren\u001b[39;49;00m: []\r\n",
      "      \u001b[34;01mimplementation\u001b[39;49;00m: TENSORFLOW_SERVER\r\n",
      "      \u001b[34;01mmodelUri\u001b[39;49;00m: gs://seldon-tfserving-store/mnist-model\r\n",
      "      \u001b[34;01mname\u001b[39;49;00m: mnist-model\r\n",
      "      \u001b[34;01mparameters\u001b[39;49;00m:\r\n",
      "        - \u001b[34;01mname\u001b[39;49;00m: signature_name\r\n",
      "          \u001b[34;01mtype\u001b[39;49;00m: STRING\r\n",
      "          \u001b[34;01mvalue\u001b[39;49;00m: predict_images\r\n",
      "        - \u001b[34;01mname\u001b[39;49;00m: model_name\r\n",
      "          \u001b[34;01mtype\u001b[39;49;00m: STRING\r\n",
      "          \u001b[34;01mvalue\u001b[39;49;00m: mnist-model\r\n",
      "    \u001b[34;01mname\u001b[39;49;00m: default\r\n",
      "    \u001b[34;01mreplicas\u001b[39;49;00m: 1\r\n"
     ]
    }
   ],
   "source": [
    "!pygmentize ../servers/tfserving/samples/mnist_rest.yaml"
   ]
  },
  {
   "cell_type": "code",
   "execution_count": 15,
   "metadata": {},
   "outputs": [
    {
     "name": "stdout",
     "output_type": "stream",
     "text": [
      "seldondeployment.machinelearning.seldon.io/tfserving created\r\n"
     ]
    }
   ],
   "source": [
    "!kubectl apply -f ../servers/tfserving/samples/mnist_rest.yaml"
   ]
  },
  {
   "cell_type": "code",
   "execution_count": 16,
   "metadata": {},
   "outputs": [
    {
     "name": "stdout",
     "output_type": "stream",
     "text": [
      "Waiting for deployment \"mnist-default-d53c803\" rollout to finish: 0 of 1 updated replicas are available...\n",
      "deployment \"mnist-default-d53c803\" successfully rolled out\n"
     ]
    }
   ],
   "source": [
    "!kubectl rollout status deploy/mnist-default-d53c803"
   ]
  },
  {
   "cell_type": "code",
   "execution_count": 18,
   "metadata": {},
   "outputs": [],
   "source": [
    "from seldon_core.seldon_client import SeldonClient\n",
    "sc = SeldonClient(deployment_name=\"tfserving\",namespace=\"seldon\")"
   ]
  },
  {
   "cell_type": "code",
   "execution_count": 19,
   "metadata": {
    "scrolled": true
   },
   "outputs": [
    {
     "name": "stdout",
     "output_type": "stream",
     "text": [
      "Success:True message:\n",
      "Request:\n",
      "data {\n",
      "  tensor {\n",
      "    shape: 1\n",
      "    shape: 784\n",
      "    values: 0.4616407609269467\n",
      "    values: 0.724579128885353\n",
      "    values: 0.10772363066533641\n",
      "    values: 0.9622370745070161\n",
      "    values: 0.38107285587704454\n",
      "    values: 0.9129452966801331\n",
      "    values: 0.30533800703940484\n",
      "    values: 0.6013002423394798\n",
      "    values: 0.79026885623308\n",
      "    values: 0.631489736295451\n",
      "    values: 0.49846618943383936\n",
      "    values: 0.5303189065199159\n",
      "    values: 0.58944694862469\n",
      "    values: 0.39633977607259374\n",
      "    values: 0.6424230610027857\n",
      "    values: 0.7906748163388911\n",
      "    values: 0.28558106611583367\n",
      "    values: 0.021081907753274676\n",
      "    values: 0.7465477978887378\n",
      "    values: 0.5847521513217439\n",
      "    values: 0.4805783482036078\n",
      "    values: 0.6560854742284569\n",
      "    values: 0.4585105200940378\n",
      "    values: 0.23285913028376937\n",
      "    values: 0.4423508606448364\n",
      "    values: 0.325825666173277\n",
      "    values: 0.6755349982171834\n",
      "    values: 0.9171111975521336\n",
      "    values: 0.9309797800170231\n",
      "    values: 0.025792487451285706\n",
      "    values: 0.893411558596126\n",
      "    values: 0.8672740229337313\n",
      "    values: 0.6138560338998561\n",
      "    values: 0.5570846054003922\n",
      "    values: 0.3314494879760782\n",
      "    values: 0.5922015003817739\n",
      "    values: 0.5058319617166798\n",
      "    values: 0.17332973007373054\n",
      "    values: 0.582537877107876\n",
      "    values: 0.5210049041141257\n",
      "    values: 0.7875492210328976\n",
      "    values: 0.8112712379986581\n",
      "    values: 0.005243226902248321\n",
      "    values: 0.16486946732096575\n",
      "    values: 0.271199040510406\n",
      "    values: 0.8725785236112905\n",
      "    values: 0.07912648054076887\n",
      "    values: 0.21922762044571809\n",
      "    values: 0.14984090024996166\n",
      "    values: 0.2251435235206659\n",
      "    values: 0.5061107278247757\n",
      "    values: 0.394317619597518\n",
      "    values: 0.23329290953643766\n",
      "    values: 0.40708716800362477\n",
      "    values: 0.6063666573253944\n",
      "    values: 0.9284541957110551\n",
      "    values: 0.8828166656181273\n",
      "    values: 0.7874514840086987\n",
      "    values: 0.8813944927871202\n",
      "    values: 0.8929601549961954\n",
      "    values: 0.1698609282108383\n",
      "    values: 0.7565069069632666\n",
      "    values: 0.8451758723314531\n",
      "    values: 0.8347549090252275\n",
      "    values: 0.6254979094543079\n",
      "    values: 0.874931959137198\n",
      "    values: 0.06696607735133564\n",
      "    values: 0.5886031948240279\n",
      "    values: 0.4104837294561847\n",
      "    values: 0.9330259227006421\n",
      "    values: 0.3782510300945654\n",
      "    values: 0.2854114831049176\n",
      "    values: 0.26059923185235057\n",
      "    values: 0.2554671552714549\n",
      "    values: 0.3676355985408615\n",
      "    values: 0.6592883684735015\n",
      "    values: 0.7201895272300277\n",
      "    values: 0.0018510117925923941\n",
      "    values: 0.27101860956197177\n",
      "    values: 0.9924501542087656\n",
      "    values: 0.9495681468531796\n",
      "    values: 0.8710707112725145\n",
      "    values: 0.5252762922040469\n",
      "    values: 0.01936279516069428\n",
      "    values: 0.45678829150601696\n",
      "    values: 0.9815506102277017\n",
      "    values: 0.8487616220793215\n",
      "    values: 0.20402255619304543\n",
      "    values: 0.39857075866047664\n",
      "    values: 0.6310290959896635\n",
      "    values: 0.7394291295946706\n",
      "    values: 0.4066436302037387\n",
      "    values: 0.8673391779697697\n",
      "    values: 0.991555948535815\n",
      "    values: 0.21129442875813886\n",
      "    values: 0.4512795021403375\n",
      "    values: 0.09537155747629056\n",
      "    values: 0.7253073657573009\n",
      "    values: 0.5867710505075248\n",
      "    values: 0.5793976919269864\n",
      "    values: 0.5627510177265871\n",
      "    values: 0.3923956920965631\n",
      "    values: 0.4496926809749142\n",
      "    values: 0.10299300094501851\n",
      "    values: 0.1448116800731173\n",
      "    values: 0.6768240152861422\n",
      "    values: 0.792860208451426\n",
      "    values: 0.3522568653923617\n",
      "    values: 0.49548581162752736\n",
      "    values: 0.523324796751994\n",
      "    values: 0.28275793471585897\n",
      "    values: 0.006149907356112316\n",
      "    values: 0.21207065256923452\n",
      "    values: 0.08882300380497565\n",
      "    values: 0.8366903987191862\n",
      "    values: 0.2290641851935622\n",
      "    values: 0.12025587331712162\n",
      "    values: 0.4252510695747813\n",
      "    values: 0.32006010950097763\n",
      "    values: 0.9239461386932215\n",
      "    values: 0.1256185447640762\n",
      "    values: 0.5837835533298867\n",
      "    values: 0.8773038439017767\n",
      "    values: 0.36213702198538456\n",
      "    values: 0.6259062831066994\n",
      "    values: 0.42416669133188245\n",
      "    values: 0.690356263132807\n",
      "    values: 0.6532007570231149\n",
      "    values: 0.07920313136224744\n",
      "    values: 0.3891861905300068\n",
      "    values: 0.28063147409196587\n",
      "    values: 0.9857176343853346\n",
      "    values: 0.8438457299283946\n",
      "    values: 0.16546250528802864\n",
      "    values: 0.8583123179642778\n",
      "    values: 0.15955743159739444\n",
      "    values: 0.21820579721850142\n",
      "    values: 0.931877625020539\n",
      "    values: 0.4678998955952668\n",
      "    values: 0.33192379539006955\n",
      "    values: 0.18559116363000316\n",
      "    values: 0.8088938020447508\n",
      "    values: 0.7624992810105182\n",
      "    values: 0.6129805039004823\n",
      "    values: 0.6275385866513425\n",
      "    values: 0.9985648403338351\n",
      "    values: 0.2670677138608346\n",
      "    values: 0.6479886545731273\n",
      "    values: 0.49256947880633306\n",
      "    values: 0.7297510070846144\n",
      "    values: 0.4741193021846556\n",
      "    values: 0.8294571502486112\n",
      "    values: 0.3014427220895324\n",
      "    values: 0.3209030397864061\n",
      "    values: 0.457970726390428\n",
      "    values: 0.7838908499647917\n",
      "    values: 0.9997889915551971\n",
      "    values: 0.5010492044775272\n",
      "    values: 0.07747561835415562\n",
      "    values: 0.843540807106565\n",
      "    values: 0.312903883383325\n",
      "    values: 0.6459745685973571\n",
      "    values: 0.6333901877951846\n",
      "    values: 0.5546087041838765\n",
      "    values: 0.3739691302983933\n",
      "    values: 0.9244731759772338\n",
      "    values: 0.952126165363614\n",
      "    values: 0.8605390052096759\n",
      "    values: 0.1275451391364576\n",
      "    values: 0.980216020885367\n",
      "    values: 0.35342880846927105\n",
      "    values: 0.059425258546893844\n",
      "    values: 0.8027712067226235\n",
      "    values: 0.9161006827095898\n",
      "    values: 0.29114004332883214\n",
      "    values: 0.098869163810412\n",
      "    values: 0.925036442767509\n",
      "    values: 0.9587589883975196\n",
      "    values: 0.1587795152503625\n",
      "    values: 0.37846260314143165\n",
      "    values: 0.3043381730328284\n",
      "    values: 0.1336724431945684\n",
      "    values: 0.49431108423788395\n",
      "    values: 0.9792866585975257\n",
      "    values: 0.7777758587874712\n",
      "    values: 0.11445561147223837\n",
      "    values: 0.3344155703269516\n",
      "    values: 0.17239183344517528\n",
      "    values: 0.8760432600634389\n",
      "    values: 0.35518320864757646\n",
      "    values: 0.13895373961089386\n",
      "    values: 0.004489542762571297\n",
      "    values: 0.3777961052654958\n",
      "    values: 0.3918837529381245\n",
      "    values: 0.5495878376897362\n",
      "    values: 0.37231325343432853\n",
      "    values: 0.24785018548776439\n",
      "    values: 0.5535019794628\n",
      "    values: 0.13933437753971256\n",
      "    values: 0.7072855508376917\n",
      "    values: 0.5222332192386577\n",
      "    values: 0.3073244725488308\n",
      "    values: 0.7568779250802111\n",
      "    values: 0.38474660957903906\n",
      "    values: 0.9603931968133305\n",
      "    values: 0.7683127889964854\n",
      "    values: 0.8189438994572797\n",
      "    values: 0.6681839875687008\n",
      "    values: 0.5622387206038588\n",
      "    values: 0.7617918127801433\n",
      "    values: 0.4262121700687609\n",
      "    values: 0.5717962779570986\n",
      "    values: 0.5230175944374814\n",
      "    values: 0.5681773352622178\n",
      "    values: 0.7098432904937203\n",
      "    values: 0.6871629159518436\n",
      "    values: 0.997730103861765\n",
      "    values: 0.8026322315427898\n",
      "    values: 0.6664852215834278\n",
      "    values: 0.8087135555822857\n",
      "    values: 0.3568321629882002\n",
      "    values: 0.15894247912833226\n",
      "    values: 0.13770692707769205\n",
      "    values: 0.8684907387484859\n",
      "    values: 0.893025388871904\n",
      "    values: 0.7147708987809972\n",
      "    values: 0.12890945492590888\n",
      "    values: 0.572569060815153\n",
      "    values: 0.13176705802402033\n",
      "    values: 0.32386249796600164\n",
      "    values: 0.05551163184397856\n",
      "    values: 0.25233323462642554\n",
      "    values: 0.7715103190302348\n",
      "    values: 0.5522816824193496\n",
      "    values: 0.27749385526684966\n",
      "    values: 0.33648807517076196\n",
      "    values: 0.407190479364954\n",
      "    values: 0.5834662330756013\n",
      "    values: 0.19478794823963452\n",
      "    values: 0.7685041203713786\n",
      "    values: 0.5605073951879025\n",
      "    values: 0.49921316528615245\n",
      "    values: 0.39773655065376645\n",
      "    values: 0.3813580829576847\n",
      "    values: 0.6479767954969231\n",
      "    values: 0.4849653496018874\n",
      "    values: 0.7387529348339003\n",
      "    values: 0.9764208677925401\n",
      "    values: 0.025058541347265484\n",
      "    values: 0.6313171336549737\n",
      "    values: 0.33096670482627866\n",
      "    values: 0.46612058503130005\n",
      "    values: 0.0523331474258627\n",
      "    values: 0.5285095272116773\n",
      "    values: 0.26713146028885815\n",
      "    values: 0.04926614453617928\n",
      "    values: 0.6303322588739271\n",
      "    values: 0.7465946650798209\n",
      "    values: 0.6627180711487533\n",
      "    values: 0.4913916519079172\n",
      "    values: 0.6357446007205079\n",
      "    values: 0.6703789391115368\n",
      "    values: 0.6635655345723647\n",
      "    values: 0.6823646192211212\n",
      "    values: 0.32410207038148464\n",
      "    values: 0.02207376922965687\n",
      "    values: 0.3915141076295541\n",
      "    values: 0.11015543306157916\n",
      "    values: 0.5331066108860192\n",
      "    values: 0.6742036625724939\n",
      "    values: 0.2284699911847693\n",
      "    values: 0.4756945454760326\n",
      "    values: 0.5771385091559128\n",
      "    values: 0.5072320374268051\n",
      "    values: 0.42410360224107035\n",
      "    values: 0.9360630022825447\n",
      "    values: 0.5162301468745818\n",
      "    values: 0.24824098704937891\n",
      "    values: 0.9699722180354443\n",
      "    values: 0.0801026064369249\n",
      "    values: 0.8623644677752988\n",
      "    values: 0.8291672370634245\n",
      "    values: 0.578343116080098\n",
      "    values: 0.102547114758616\n",
      "    values: 0.7969097493664159\n",
      "    values: 0.17436297960053393\n",
      "    values: 0.5237806715704967\n",
      "    values: 0.6336792222593496\n",
      "    values: 0.21933915006065496\n",
      "    values: 0.4882897418625648\n",
      "    values: 0.7049236629059358\n",
      "    values: 0.20749597471481385\n",
      "    values: 0.9944355835747871\n",
      "    values: 0.4147332345063979\n",
      "    values: 0.5187086370521065\n",
      "    values: 0.2205445455439875\n",
      "    values: 0.7646011746882824\n",
      "    values: 0.44444936789462863\n",
      "    values: 0.36644342055813006\n",
      "    values: 0.19848670220178977\n",
      "    values: 0.778240784156592\n",
      "    values: 0.921992527304882\n",
      "    values: 0.6457595966029253\n",
      "    values: 0.7700265912599655\n",
      "    values: 0.08625378249147975\n",
      "    values: 0.4763201875251024\n",
      "    values: 0.7766775548007063\n",
      "    values: 0.8559043368916169\n",
      "    values: 0.40721458378443276\n",
      "    values: 0.21556696062131542\n",
      "    values: 0.7634628932975543\n",
      "    values: 0.9512456751145856\n",
      "    values: 0.4078303047063787\n",
      "    values: 0.37264648686743584\n",
      "    values: 0.2441499628531033\n",
      "    values: 0.8517865636700103\n",
      "    values: 0.28808767697254156\n",
      "    values: 0.810991217220033\n",
      "    values: 0.8347589408336638\n",
      "    values: 0.6265998060457183\n",
      "    values: 0.41155853420471533\n",
      "    values: 0.6350790489153953\n",
      "    values: 0.448711528598312\n",
      "    values: 0.29113731302121504\n",
      "    values: 0.9698824890502925\n",
      "    values: 0.46113096778290663\n",
      "    values: 0.8438562624073809\n",
      "    values: 0.6445180741510552\n",
      "    values: 0.05823968052786355\n",
      "    values: 0.28448206975011003\n",
      "    values: 0.9750517805512726\n",
      "    values: 0.41984752295180205\n",
      "    values: 0.45092920224743316\n",
      "    values: 0.6658905669562076\n",
      "    values: 0.04115983012963054\n",
      "    values: 0.3283397652879467\n",
      "    values: 0.11998349313928047\n",
      "    values: 0.20202459060633104\n",
      "    values: 0.18363522396133547\n",
      "    values: 0.3944514629839818\n",
      "    values: 0.9824535906351953\n",
      "    values: 0.23258289749021244\n",
      "    values: 0.8346746117852804\n",
      "    values: 0.25079070588438235\n",
      "    values: 0.3382078304792675\n",
      "    values: 0.5562447683319749\n",
      "    values: 0.108619539122361\n",
      "    values: 0.5855278512718983\n",
      "    values: 0.23866668669028057\n",
      "    values: 0.895809274582904\n",
      "    values: 0.9676927262325213\n",
      "    values: 0.2532429328104333\n",
      "    values: 0.6583524769634476\n",
      "    values: 0.18510635906776574\n",
      "    values: 0.6299739968152377\n",
      "    values: 0.9424337703408087\n",
      "    values: 0.4388966761223838\n",
      "    values: 0.6496520836734073\n",
      "    values: 0.5427788006257599\n",
      "    values: 0.887422489299404\n",
      "    values: 0.7782820865125588\n",
      "    values: 0.494204701868347\n",
      "    values: 0.9412532223035298\n",
      "    values: 0.2987805633231092\n",
      "    values: 0.07604235973022622\n",
      "    values: 0.2818664577556279\n",
      "    values: 0.47782031473509223\n",
      "    values: 0.359042260923366\n",
      "    values: 0.449492596197719\n",
      "    values: 0.7279252311990991\n",
      "    values: 0.8511461581265758\n",
      "    values: 0.3236202644028061\n",
      "    values: 0.5931998548102577\n",
      "    values: 0.08791138088869488\n",
      "    values: 0.579272995973519\n",
      "    values: 0.3368689644731153\n",
      "    values: 0.9094497548384227\n",
      "    values: 0.8828720686594715\n",
      "    values: 0.6883746952698186\n",
      "    values: 0.5568047723346851\n",
      "    values: 0.0424409339492815\n",
      "    values: 0.41019351635013\n",
      "    values: 0.7022207934539016\n",
      "    values: 0.1069433909077735\n",
      "    values: 0.5791071885120703\n",
      "    values: 0.6519103974264845\n",
      "    values: 0.424619746486099\n",
      "    values: 0.04934305386807092\n",
      "    values: 0.38655045404112387\n",
      "    values: 0.20037710128677466\n",
      "    values: 0.4210903710289152\n",
      "    values: 0.6023197383537869\n",
      "    values: 0.08048647755648008\n",
      "    values: 0.470204569829062\n",
      "    values: 0.03347574553380417\n",
      "    values: 0.93762745782789\n",
      "    values: 0.7227670433078287\n",
      "    values: 0.036495450423081444\n",
      "    values: 0.3136942626327831\n",
      "    values: 0.21163469194218976\n",
      "    values: 0.1329562078461527\n",
      "    values: 0.827090011003019\n",
      "    values: 0.6615719338351809\n",
      "    values: 0.6593613954610742\n",
      "    values: 0.5617355087098772\n",
      "    values: 0.10732961456229373\n",
      "    values: 0.9594998061480798\n",
      "    values: 0.9215421707039457\n",
      "    values: 0.2038056933385688\n",
      "    values: 0.06566440635012605\n",
      "    values: 0.4336344443135356\n",
      "    values: 0.1944506025561935\n",
      "    values: 0.20267497483995778\n",
      "    values: 0.3703491819648088\n",
      "    values: 0.8376832505601747\n",
      "    values: 0.9305751909908844\n",
      "    values: 0.08980652774958153\n",
      "    values: 0.6618604250768615\n",
      "    values: 0.0486626807194841\n",
      "    values: 0.18389766002031205\n",
      "    values: 0.0376993974000589\n",
      "    values: 0.7450492414443057\n",
      "    values: 0.6205333176975746\n",
      "    values: 0.6595081430173696\n",
      "    values: 0.2503908976227567\n",
      "    values: 0.8803503506321649\n",
      "    values: 0.875927959408332\n",
      "    values: 0.3930277027231409\n",
      "    values: 0.08888549970935977\n",
      "    values: 0.7462218752213076\n",
      "    values: 0.704096415228259\n",
      "    values: 0.6500976986209389\n",
      "    values: 0.43807393004189943\n",
      "    values: 0.7698120060493345\n",
      "    values: 0.16782261586341352\n",
      "    values: 0.407544717881559\n",
      "    values: 0.8822446638113823\n",
      "    values: 0.6238334450910682\n",
      "    values: 0.43324763815214795\n",
      "    values: 0.9138104444082256\n",
      "    values: 0.6373615868820873\n",
      "    values: 0.009498771476864731\n",
      "    values: 0.6059663564877685\n",
      "    values: 0.39885198913711895\n",
      "    values: 0.7096437955490174\n",
      "    values: 0.5902392678983218\n",
      "    values: 0.528398812498929\n",
      "    values: 0.11545042935861738\n",
      "    values: 0.9038044504129998\n",
      "    values: 0.8935641448135583\n",
      "    values: 0.2723817317493368\n",
      "    values: 0.9242819843645729\n",
      "    values: 0.7924659381579096\n",
      "    values: 0.9965564116646295\n",
      "    values: 0.7524700449688299\n",
      "    values: 0.9904890314980759\n",
      "    values: 0.41025913383514545\n",
      "    values: 0.412566042962915\n",
      "    values: 0.31405113558499065\n",
      "    values: 0.4634607023113352\n",
      "    values: 0.5413661902952596\n",
      "    values: 0.9652802126258915\n",
      "    values: 0.03858716505868198\n",
      "    values: 0.060558919919322274\n",
      "    values: 0.9604948031752064\n",
      "    values: 0.040272265819682795\n",
      "    values: 0.27081307762119555\n",
      "    values: 0.7181508594275311\n",
      "    values: 0.027633994240778503\n",
      "    values: 0.00018442089145442875\n",
      "    values: 0.383377229453563\n",
      "    values: 0.13341372483265568\n",
      "    values: 0.7927303828344012\n",
      "    values: 0.1947618528311026\n",
      "    values: 0.79042199150946\n",
      "    values: 0.6786667880578894\n",
      "    values: 0.427791174418106\n",
      "    values: 0.39340638225781677\n",
      "    values: 0.6074529731402911\n",
      "    values: 0.2077235874512794\n",
      "    values: 0.844986750054975\n",
      "    values: 0.9629571298390343\n",
      "    values: 0.9796737550756331\n",
      "    values: 0.0888119303058783\n",
      "    values: 0.1240407237434541\n",
      "    values: 0.691947488032528\n",
      "    values: 0.925714118135663\n",
      "    values: 0.36794417595715456\n",
      "    values: 0.9887251614052083\n",
      "    values: 0.8842003545033087\n",
      "    values: 0.7172941395615768\n",
      "    values: 0.8412359318176772\n",
      "    values: 0.9021435495925826\n",
      "    values: 0.4124837316225064\n",
      "    values: 0.6238295526028718\n",
      "    values: 0.9546708931482775\n",
      "    values: 0.6484320526148419\n",
      "    values: 0.245916502974303\n",
      "    values: 0.9042842919524602\n",
      "    values: 0.5722038003656236\n",
      "    values: 0.7370603093931698\n",
      "    values: 0.8595599173542998\n",
      "    values: 0.247596091052406\n",
      "    values: 0.37003426972487474\n",
      "    values: 0.6807737235307243\n",
      "    values: 0.9665913737198997\n",
      "    values: 0.5504014819395449\n",
      "    values: 0.9000021351703124\n",
      "    values: 0.13411491018940802\n",
      "    values: 0.16539393705986305\n",
      "    values: 0.6149869379425015\n",
      "    values: 0.9500656204175846\n",
      "    values: 0.5205007301592838\n",
      "    values: 0.6848487578696653\n",
      "    values: 0.3653943421728012\n",
      "    values: 0.1493816248670765\n",
      "    values: 0.3072412880269568\n",
      "    values: 0.8092951484489077\n",
      "    values: 0.05631950135528063\n",
      "    values: 0.6550670659303176\n",
      "    values: 0.710288003371817\n",
      "    values: 0.4108878751803341\n",
      "    values: 0.11446376937218827\n",
      "    values: 0.3202605702136313\n",
      "    values: 0.979205962889619\n",
      "    values: 0.91397188491497\n",
      "    values: 0.26403754841356364\n",
      "    values: 0.567342534121941\n",
      "    values: 0.05783308029205814\n",
      "    values: 0.4249079627436184\n",
      "    values: 0.9703660751518131\n",
      "    values: 0.8077048973540855\n",
      "    values: 0.40693572854136706\n",
      "    values: 0.9846069544713749\n",
      "    values: 0.6514536610630618\n",
      "    values: 0.20267943050941262\n",
      "    values: 0.4432911916214596\n",
      "    values: 0.6870079418340561\n",
      "    values: 0.8295466475075872\n",
      "    values: 0.4288038823214694\n",
      "    values: 0.878510044151919\n",
      "    values: 0.7355483208119045\n",
      "    values: 0.1487674518843154\n",
      "    values: 0.4439246137806414\n",
      "    values: 0.2948240943840226\n",
      "    values: 0.9835029054362657\n",
      "    values: 0.19473880507364627\n",
      "    values: 0.007647728321137581\n",
      "    values: 0.3138566256454628\n",
      "    values: 0.6005805876564617\n",
      "    values: 0.014679892584359755\n",
      "    values: 0.5390438612310009\n",
      "    values: 0.15178176216901573\n",
      "    values: 0.3923761775517539\n",
      "    values: 0.8633060560304965\n",
      "    values: 0.7942529711531504\n",
      "    values: 0.3581871428307075\n",
      "    values: 0.8947842952249399\n",
      "    values: 0.6737156980494583\n",
      "    values: 0.5431878605010707\n",
      "    values: 0.4728535400816175\n",
      "    values: 0.6370868841621982\n",
      "    values: 0.680110029566044\n",
      "    values: 0.889034694892268\n",
      "    values: 0.44054674623053536\n",
      "    values: 0.06636780186102142\n",
      "    values: 0.7667087798711912\n",
      "    values: 0.9776441226666446\n",
      "    values: 0.6669443285613594\n",
      "    values: 0.9859359145397583\n",
      "    values: 0.9044757800049776\n",
      "    values: 0.7457159350221482\n",
      "    values: 0.30307126718761623\n",
      "    values: 0.32029141413608997\n",
      "    values: 0.543621642027997\n",
      "    values: 0.9776590952875763\n",
      "    values: 0.7185041374459499\n",
      "    values: 0.0602866611258952\n",
      "    values: 0.39148455844634256\n",
      "    values: 0.337797632088053\n",
      "    values: 0.2754831445265252\n",
      "    values: 0.3202415680716818\n",
      "    values: 0.0045228516375342975\n",
      "    values: 0.520743478156975\n",
      "    values: 0.6589192656583484\n",
      "    values: 0.22727372549328018\n",
      "    values: 0.1451632846013663\n",
      "    values: 0.8072689118508304\n",
      "    values: 0.3962837351522378\n",
      "    values: 0.3091925262627704\n",
      "    values: 0.62549162584517\n",
      "    values: 0.5510290148875435\n",
      "    values: 0.8471244372905642\n",
      "    values: 0.8471674677512055\n",
      "    values: 0.3892374216942094\n",
      "    values: 0.6867244632871584\n",
      "    values: 0.5002862806916502\n",
      "    values: 0.8950815373219883\n",
      "    values: 0.42334455960754547\n",
      "    values: 0.46675078006966864\n",
      "    values: 0.07755941700752056\n",
      "    values: 0.7568819350197294\n",
      "    values: 0.9290289438271846\n",
      "    values: 0.22543407257450876\n",
      "    values: 0.49868332253410286\n",
      "    values: 0.06223643381751931\n",
      "    values: 0.4184719365105154\n",
      "    values: 0.9857615201096314\n",
      "    values: 0.7165199866366947\n",
      "    values: 0.710049079487171\n",
      "    values: 0.34124777708911647\n",
      "    values: 0.5034973856972649\n",
      "    values: 0.3294438922861277\n",
      "    values: 0.31435211829794407\n",
      "    values: 0.7327749800765037\n",
      "    values: 0.9481926822976967\n",
      "    values: 0.9497746949927657\n",
      "    values: 0.4186176123927414\n",
      "    values: 0.7467927041945421\n",
      "    values: 0.5455197529921623\n",
      "    values: 0.6643317178784294\n",
      "    values: 0.47187770660071127\n",
      "    values: 0.9533259799238817\n",
      "    values: 0.9581724358343392\n",
      "    values: 0.3673256061273116\n",
      "    values: 0.2943938913913009\n",
      "    values: 0.1980016210440113\n",
      "    values: 0.6108842846711082\n",
      "    values: 0.3064028560089759\n",
      "    values: 0.670290536874639\n",
      "    values: 0.1331433850195174\n",
      "    values: 0.5527369470647763\n",
      "    values: 0.3777235476076113\n",
      "    values: 0.40835907408959826\n",
      "    values: 0.33776722133331183\n",
      "    values: 0.6571020580739441\n",
      "    values: 0.012455214320207353\n",
      "    values: 0.29867579859119864\n",
      "    values: 0.5714506457566065\n",
      "    values: 0.6534889621422869\n",
      "    values: 0.559673252136339\n",
      "    values: 0.31407525499392375\n",
      "    values: 0.6101526446066782\n",
      "    values: 0.03686712042850415\n",
      "    values: 0.37859433723017555\n",
      "    values: 0.4712383993347764\n",
      "    values: 0.3280261965060408\n",
      "    values: 0.39367680654007686\n",
      "    values: 0.05352218951874832\n",
      "    values: 0.9811890305515999\n",
      "    values: 0.022934390874598143\n",
      "    values: 0.17175211557856918\n",
      "    values: 0.29264479975676205\n",
      "    values: 0.030278705552197804\n",
      "    values: 0.2641334891971766\n",
      "    values: 0.267625770902446\n",
      "    values: 0.002270283586923605\n",
      "    values: 0.26509464176105824\n",
      "    values: 0.8666707867865197\n",
      "    values: 0.8799506481730537\n",
      "    values: 0.6850355761647486\n",
      "    values: 0.3465725662603665\n",
      "    values: 0.7648550721330284\n",
      "    values: 0.1296478489193268\n",
      "    values: 0.7977802536811912\n",
      "    values: 0.9741903246969822\n",
      "    values: 0.43693423628821304\n",
      "    values: 0.7642773090210928\n",
      "    values: 0.8913406235409295\n",
      "    values: 0.4112667183152824\n",
      "    values: 0.7505014680723964\n",
      "    values: 0.8329713751055923\n",
      "    values: 0.06355013209277349\n",
      "    values: 0.8756476299520071\n",
      "    values: 0.6558935729339193\n",
      "    values: 0.06611008421762665\n",
      "    values: 0.5131259006988067\n",
      "    values: 0.030196504656528567\n",
      "    values: 0.9937436583442248\n",
      "    values: 0.2368962507261162\n",
      "    values: 0.014667178465600395\n",
      "    values: 0.6887812146697233\n",
      "    values: 0.2872318710154208\n",
      "    values: 0.8075983213760922\n",
      "    values: 0.2948225947840152\n",
      "    values: 0.7111641947477522\n",
      "    values: 0.9595484705890929\n",
      "    values: 0.4196186422999506\n",
      "    values: 0.5361960501481519\n",
      "    values: 0.3861027589918786\n",
      "    values: 0.7575771090000132\n",
      "    values: 0.4666106601667732\n",
      "    values: 0.6794668151993909\n",
      "    values: 0.2859051109436691\n",
      "    values: 0.5504431402252866\n",
      "    values: 0.7324916316681385\n",
      "    values: 0.891790394023988\n",
      "    values: 0.30122081358785013\n",
      "    values: 0.39779242644047874\n",
      "    values: 0.9924003332805467\n",
      "    values: 0.40695161371487887\n",
      "    values: 0.3799765808456129\n",
      "    values: 0.0008613028462598482\n",
      "    values: 0.5316729826836\n",
      "    values: 0.7669486699468561\n",
      "    values: 0.14689713761088674\n",
      "    values: 0.048194425442606215\n",
      "    values: 0.20250204430368202\n",
      "    values: 0.5628502618430066\n",
      "    values: 0.5667567204935813\n",
      "    values: 0.7362808854087074\n",
      "    values: 0.8208294020036294\n",
      "    values: 0.7397985141135087\n",
      "    values: 0.5071989343496269\n",
      "    values: 0.3009864072056566\n",
      "    values: 0.1905365870799094\n",
      "    values: 0.485747181680518\n",
      "    values: 0.879861562587478\n",
      "    values: 0.5807036220351626\n",
      "    values: 0.7208579988837113\n",
      "    values: 0.6347124913537553\n",
      "    values: 0.14962866072992198\n",
      "    values: 0.2100506074686388\n",
      "    values: 0.3251698146999845\n",
      "    values: 0.5727426054855991\n",
      "    values: 0.23228898329229453\n",
      "    values: 0.8753173719791144\n",
      "    values: 0.17136405306519054\n",
      "    values: 0.15141900322481594\n",
      "    values: 0.3473944273528825\n",
      "    values: 0.6728445104051586\n",
      "    values: 0.5743816131835726\n",
      "    values: 0.5302461335592688\n",
      "    values: 0.8139490497980086\n",
      "    values: 0.6896442107504057\n",
      "    values: 0.5617734292823029\n",
      "    values: 0.0763705830736382\n",
      "    values: 0.316183970152876\n",
      "    values: 0.5075413086520592\n",
      "    values: 0.05960349961042288\n",
      "    values: 0.20499434061310107\n",
      "    values: 0.9123510958276372\n",
      "    values: 0.5698406214733641\n",
      "    values: 0.030913630531294478\n",
      "    values: 0.46823418428886665\n",
      "    values: 0.5688815331492745\n",
      "    values: 0.1332133419385595\n",
      "    values: 0.928072446541713\n",
      "    values: 0.03999643299009126\n",
      "    values: 0.8848803424031154\n",
      "    values: 0.2642749765594833\n",
      "    values: 0.07557188168381557\n",
      "    values: 0.585704477409461\n",
      "    values: 0.9694253159698314\n",
      "    values: 0.6363742883734894\n",
      "    values: 0.23751011707616876\n",
      "    values: 0.4585219834289045\n",
      "    values: 0.2336242919109348\n",
      "    values: 0.8790255762675835\n",
      "    values: 0.7484447619354815\n",
      "    values: 0.5178040843592193\n",
      "    values: 0.5120229326650853\n",
      "    values: 0.07382878586220465\n",
      "    values: 0.677029817062289\n",
      "    values: 0.283615727271851\n",
      "    values: 0.5228488877780717\n",
      "    values: 0.22575088135517674\n",
      "    values: 0.48596827650864993\n",
      "    values: 0.3572758840339546\n",
      "    values: 0.8168886302798585\n",
      "    values: 0.3837154093039583\n",
      "    values: 0.4892588438872346\n",
      "    values: 0.6969298573214578\n",
      "    values: 0.5486400426768137\n",
      "    values: 0.4268017966387462\n",
      "    values: 0.5823825612676847\n",
      "    values: 0.6629006387173473\n",
      "    values: 0.01650121453025888\n",
      "    values: 0.9533518947892593\n",
      "    values: 0.27945225517598116\n",
      "    values: 0.3181717396548249\n",
      "    values: 0.8777296798617289\n",
      "    values: 0.6486048971884742\n",
      "    values: 0.5879784157612047\n",
      "  }\n",
      "}\n",
      "\n",
      "Response:\n",
      "meta {\n",
      "  puid: \"penggiptkjq0im037mg2a97rkk\"\n",
      "  requestPath {\n",
      "    key: \"mnist-model\"\n",
      "    value: \"seldonio/tfserving-proxy_rest:0.3\"\n",
      "  }\n",
      "}\n",
      "data {\n",
      "  names: \"t:0\"\n",
      "  names: \"t:1\"\n",
      "  names: \"t:2\"\n",
      "  names: \"t:3\"\n",
      "  names: \"t:4\"\n",
      "  names: \"t:5\"\n",
      "  names: \"t:6\"\n",
      "  names: \"t:7\"\n",
      "  names: \"t:8\"\n",
      "  names: \"t:9\"\n",
      "  tensor {\n",
      "    shape: 1\n",
      "    shape: 10\n",
      "    values: 1.31995498e-25\n",
      "    values: 4.36291788e-36\n",
      "    values: 0.99827683\n",
      "    values: 0.00172316178\n",
      "    values: 5.23542203e-32\n",
      "    values: 6.26091889e-08\n",
      "    values: 5.29758029e-17\n",
      "    values: 2.3730173e-22\n",
      "    values: 4.39421832e-10\n",
      "    values: 2.43092221e-23\n",
      "  }\n",
      "}\n",
      "\n"
     ]
    }
   ],
   "source": [
    "r = sc.predict(gateway=\"ambassador\",transport=\"rest\",shape=(1,784))\n",
    "print(r)"
   ]
  },
  {
   "cell_type": "code",
   "execution_count": 21,
   "metadata": {},
   "outputs": [
    {
     "name": "stdout",
     "output_type": "stream",
     "text": [
      "seldondeployment.machinelearning.seldon.io \"tfserving\" deleted\r\n"
     ]
    }
   ],
   "source": [
    "!kubectl delete -f ../servers/tfserving/samples/mnist_rest.yaml"
   ]
  },
  {
   "cell_type": "code",
   "execution_count": null,
   "metadata": {},
   "outputs": [],
   "source": []
  }
 ],
 "metadata": {
  "anaconda-cloud": {},
  "kernelspec": {
   "display_name": "Python 3",
   "language": "python",
   "name": "python3"
  },
  "language_info": {
   "codemirror_mode": {
    "name": "ipython",
    "version": 3
   },
   "file_extension": ".py",
   "mimetype": "text/x-python",
   "name": "python",
   "nbconvert_exporter": "python",
   "pygments_lexer": "ipython3",
   "version": "3.6.8"
  },
  "varInspector": {
   "cols": {
    "lenName": 16,
    "lenType": 16,
    "lenVar": 40
   },
   "kernels_config": {
    "python": {
     "delete_cmd_postfix": "",
     "delete_cmd_prefix": "del ",
     "library": "var_list.py",
     "varRefreshCmd": "print(var_dic_list())"
    },
    "r": {
     "delete_cmd_postfix": ") ",
     "delete_cmd_prefix": "rm(",
     "library": "var_list.r",
     "varRefreshCmd": "cat(var_dic_list()) "
    }
   },
   "types_to_exclude": [
    "module",
    "function",
    "builtin_function_or_method",
    "instance",
    "_Feature"
   ],
   "window_display": false
  }
 },
 "nbformat": 4,
 "nbformat_minor": 1
}
