{
 "cells": [
  {
   "cell_type": "markdown",
   "metadata": {},
   "source": [
    "# Example Model Servers with Seldon"
   ]
  },
  {
   "cell_type": "markdown",
   "metadata": {},
   "source": [
    "## Setup Seldon Core\n",
    "\n",
    "Use the setup notebook to [Setup Cluster](seldon_core_setup.ipynb#Setup-Cluster) with [Ambassador Ingress](seldon_core_setup.ipynb#Ambassador) and [Seldon Core](seldon_core_setup.ipynb#Install-Seldon-Core). Instructions [also online](./seldon_core_setup.html)."
   ]
  },
  {
   "cell_type": "markdown",
   "metadata": {},
   "source": [
    "## Serve SKlearn Iris Model\n",
    "We can deploy a sklearn model uploaded to an object store by using the sklearn model server implementation as the config below:"
   ]
  },
  {
   "cell_type": "code",
   "execution_count": 17,
   "metadata": {
    "scrolled": false
   },
   "outputs": [
    {
     "name": "stdout",
     "output_type": "stream",
     "text": [
      "Overwriting ../servers/sklearnserver/samples/iris.yaml\n"
     ]
    }
   ],
   "source": [
    "%%writefile ../servers/sklearnserver/samples/iris.yaml\n",
    "apiVersion: machinelearning.seldon.io/v1alpha2\n",
    "kind: SeldonDeployment\n",
    "metadata:\n",
    "  name: sklearn\n",
    "spec:\n",
    "  name: iris\n",
    "  predictors:\n",
    "  - graph:\n",
    "      children: []\n",
    "      implementation: SKLEARN_SERVER\n",
    "      modelUri: gs://seldon-models/sklearn/iris\n",
    "      name: classifier\n",
    "    name: default\n",
    "    replicas: 1\n",
    "    svcOrchSpec: \n",
    "      env: \n",
    "      - name: SELDON_LOG_LEVEL\n",
    "        value: DEBUG"
   ]
  },
  {
   "cell_type": "markdown",
   "metadata": {},
   "source": [
    "And then we apply it to deploy it to our kubernetes cluster"
   ]
  },
  {
   "cell_type": "code",
   "execution_count": 18,
   "metadata": {
    "scrolled": false
   },
   "outputs": [
    {
     "name": "stdout",
     "output_type": "stream",
     "text": [
      "seldondeployment.machinelearning.seldon.io/sklearn created\r\n"
     ]
    }
   ],
   "source": [
    "!kubectl apply -f ../servers/sklearnserver/samples/iris.yaml"
   ]
  },
  {
   "cell_type": "code",
   "execution_count": 13,
   "metadata": {
    "scrolled": false
   },
   "outputs": [
    {
     "name": "stdout",
     "output_type": "stream",
     "text": [
      "deployment \"sklearn-default-0-classifier\" successfully rolled out\r\n"
     ]
    }
   ],
   "source": [
    "!kubectl rollout status deploy/$(kubectl get deploy -l seldon-deployment-id=sklearn -o jsonpath='{.items[0].metadata.name}')"
   ]
  },
  {
   "cell_type": "markdown",
   "metadata": {},
   "source": [
    "Once it's deployed we can send our sklearn model requests"
   ]
  },
  {
   "cell_type": "code",
   "execution_count": 14,
   "metadata": {
    "scrolled": false
   },
   "outputs": [],
   "source": [
    "from seldon_core.seldon_client import SeldonClient\n",
    "sc = SeldonClient(deployment_name=\"sklearn\",namespace=\"seldon\")"
   ]
  },
  {
   "cell_type": "code",
   "execution_count": 15,
   "metadata": {
    "scrolled": true
   },
   "outputs": [
    {
     "name": "stdout",
     "output_type": "stream",
     "text": [
      "Success:True message:\n",
      "Request:\n",
      "meta {\n",
      "}\n",
      "data {\n",
      "  tensor {\n",
      "    shape: 1\n",
      "    shape: 4\n",
      "    values: 0.8842453142543456\n",
      "    values: 0.2433805830234711\n",
      "    values: 0.6450701414816686\n",
      "    values: 0.987171241902928\n",
      "  }\n",
      "}\n",
      "\n",
      "Response:\n",
      "{'data': {'names': ['t:0', 't:1', 't:2'], 'tensor': {'shape': [1, 3], 'values': [0.12891198935095496, 0.3592718583399204, 0.5118161523091246]}}, 'meta': {}}\n"
     ]
    }
   ],
   "source": [
    "r = sc.predict(gateway=\"ambassador\",transport=\"rest\",shape=(1,4))\n",
    "print(r)\n",
    "assert(r.success==True)"
   ]
  },
  {
   "cell_type": "markdown",
   "metadata": {},
   "source": [
    "And delete the model we deployed"
   ]
  },
  {
   "cell_type": "code",
   "execution_count": 16,
   "metadata": {
    "scrolled": false
   },
   "outputs": [
    {
     "name": "stdout",
     "output_type": "stream",
     "text": [
      "seldondeployment.machinelearning.seldon.io \"sklearn\" deleted\r\n"
     ]
    }
   ],
   "source": [
    "!kubectl delete -f ../servers/sklearnserver/samples/iris.yaml"
   ]
  },
  {
   "cell_type": "markdown",
   "metadata": {},
   "source": [
    "## Serve XGBoost Iris Model\n",
    "We can deploy a xgboost model uploaded to an object store by using the xgboost model server implementation as the config below:"
   ]
  },
  {
   "cell_type": "code",
   "execution_count": null,
   "metadata": {
    "scrolled": true
   },
   "outputs": [],
   "source": [
    "%%writefile ../servers/xgboostserver/samples/iris.yaml\n",
    "apiVersion: machinelearning.seldon.io/v1alpha2\n",
    "kind: SeldonDeployment\n",
    "metadata:\n",
    "  name: xgboost\n",
    "spec:\n",
    "  name: iris\n",
    "  predictors:\n",
    "  - graph:\n",
    "      children: []\n",
    "      implementation: XGBOOST_SERVER\n",
    "      modelUri: gs://seldon-models/xgboost/iris\n",
    "      name: classifier\n",
    "    name: default\n",
    "    replicas: 1"
   ]
  },
  {
   "cell_type": "markdown",
   "metadata": {},
   "source": [
    "And then we apply it to deploy it to our kubernetes cluster"
   ]
  },
  {
   "cell_type": "code",
   "execution_count": null,
   "metadata": {
    "scrolled": false
   },
   "outputs": [],
   "source": [
    "!kubectl apply -f ../servers/xgboostserver/samples/iris.yaml"
   ]
  },
  {
   "cell_type": "code",
   "execution_count": null,
   "metadata": {
    "scrolled": false
   },
   "outputs": [],
   "source": [
    "!kubectl rollout status deploy/$(kubectl get deploy -l seldon-deployment-id=xgboost -o jsonpath='{.items[0].metadata.name}')"
   ]
  },
  {
   "cell_type": "markdown",
   "metadata": {},
   "source": [
    "Once it's deployed we can send our xgboost model requests"
   ]
  },
  {
   "cell_type": "code",
   "execution_count": null,
   "metadata": {
    "scrolled": false
   },
   "outputs": [],
   "source": [
    "from seldon_core.seldon_client import SeldonClient\n",
    "sc = SeldonClient(deployment_name=\"xgboost\",namespace=\"seldon\")"
   ]
  },
  {
   "cell_type": "code",
   "execution_count": null,
   "metadata": {
    "scrolled": true
   },
   "outputs": [],
   "source": [
    "r = sc.predict(gateway=\"ambassador\",transport=\"rest\",shape=(1,4))\n",
    "print(r)\n",
    "assert(r.success==True)"
   ]
  },
  {
   "cell_type": "markdown",
   "metadata": {},
   "source": [
    "And delete the model we deployed"
   ]
  },
  {
   "cell_type": "code",
   "execution_count": null,
   "metadata": {
    "scrolled": false
   },
   "outputs": [],
   "source": [
    "!kubectl delete -f ../servers/xgboostserver/samples/iris.yaml"
   ]
  },
  {
   "cell_type": "markdown",
   "metadata": {},
   "source": [
    "## Serve Tensorflow MNIST Model\n",
    "We can deploy a tensorflow model uploaded to an object store by using the tensorflow model server implementation as the config below.\n",
    "\n",
    "This notebook contains two examples, one which shows how you can use the TFServing prepackaged serve with the Seldon Protocol, and a second one which shows how you can deploy it using the tensorlfow protocol (so you can send requests of the exact format as you would to a tfserving server).\n",
    "\n",
    "### Serve Tensorflow MNIST Model with Seldon Protocol\n",
    "\n",
    "The config file below shows how you can deploy your Tensorflow model which exposes the Seldon protocol."
   ]
  },
  {
   "cell_type": "code",
   "execution_count": 19,
   "metadata": {},
   "outputs": [
    {
     "name": "stdout",
     "output_type": "stream",
     "text": [
      "Overwriting ../servers/tfserving/samples/mnist_rest.yaml\n"
     ]
    }
   ],
   "source": [
    "%%writefile ../servers/tfserving/samples/mnist_rest.yaml\n",
    "apiVersion: machinelearning.seldon.io/v1alpha2\n",
    "kind: SeldonDeployment\n",
    "metadata:\n",
    "  name: tfserving\n",
    "spec:\n",
    "  name: mnist\n",
    "  predictors:\n",
    "  - graph:\n",
    "      children: []\n",
    "      implementation: TENSORFLOW_SERVER\n",
    "      modelUri: gs://seldon-models/tfserving/mnist-model\n",
    "      name: mnist-model\n",
    "      parameters:\n",
    "        - name: signature_name\n",
    "          type: STRING\n",
    "          value: predict_images\n",
    "        - name: model_name\n",
    "          type: STRING\n",
    "          value: mnist-model\n",
    "    name: default\n",
    "    replicas: 1"
   ]
  },
  {
   "cell_type": "markdown",
   "metadata": {},
   "source": [
    "Once it's deployed we can send our sklearn model requests"
   ]
  },
  {
   "cell_type": "code",
   "execution_count": 20,
   "metadata": {
    "scrolled": true
   },
   "outputs": [
    {
     "name": "stdout",
     "output_type": "stream",
     "text": [
      "seldondeployment.machinelearning.seldon.io/tfserving created\r\n"
     ]
    }
   ],
   "source": [
    "!kubectl apply -f ../servers/tfserving/samples/mnist_rest.yaml"
   ]
  },
  {
   "cell_type": "code",
   "execution_count": 21,
   "metadata": {
    "scrolled": false
   },
   "outputs": [
    {
     "name": "stdout",
     "output_type": "stream",
     "text": [
      "Waiting for deployment \"tfserving-default-0-mnist-model\" rollout to finish: 0 of 1 updated replicas are available...\n",
      "deployment \"tfserving-default-0-mnist-model\" successfully rolled out\n"
     ]
    }
   ],
   "source": [
    "!kubectl rollout status deploy/$(kubectl get deploy -l seldon-deployment-id=tfserving -o jsonpath='{.items[0].metadata.name}')"
   ]
  },
  {
   "cell_type": "markdown",
   "metadata": {},
   "source": [
    "Once it's deployed we can send our sklearn model requests"
   ]
  },
  {
   "cell_type": "code",
   "execution_count": 22,
   "metadata": {
    "scrolled": false
   },
   "outputs": [],
   "source": [
    "from seldon_core.seldon_client import SeldonClient\n",
    "sc = SeldonClient(deployment_name=\"tfserving\",namespace=\"seldon\")"
   ]
  },
  {
   "cell_type": "code",
   "execution_count": 23,
   "metadata": {
    "scrolled": true
   },
   "outputs": [
    {
     "name": "stdout",
     "output_type": "stream",
     "text": [
      "Success:True message:\n",
      "Request:\n",
      "meta {\n",
      "}\n",
      "data {\n",
      "  tensor {\n",
      "    shape: 1\n",
      "    shape: 784\n",
      "    values: 0.39534222087132653\n",
      "    values: 0.8955735466832198\n",
      "    values: 0.5078445910618445\n",
      "    values: 0.19081311029518344\n",
      "    values: 0.0842658824002831\n",
      "    values: 0.7131888883723178\n",
      "    values: 0.2633686826637739\n",
      "    values: 0.4279869816054471\n",
      "    values: 0.5073735866047083\n",
      "    values: 0.6465617552836288\n",
      "    values: 0.35225995168548896\n",
      "    values: 0.477886271049599\n",
      "    values: 0.12280547601492242\n",
      "    values: 0.009267299227261772\n",
      "    values: 0.36930856387795286\n",
      "    values: 0.6537949834500131\n",
      "    values: 0.489890872755134\n",
      "    values: 0.7778249406591495\n",
      "    values: 0.8389474751076914\n",
      "    values: 0.6696160378096019\n",
      "    values: 0.1509523507448225\n",
      "    values: 0.3883224568580801\n",
      "    values: 0.0322083300247098\n",
      "    values: 0.75633064803919\n",
      "    values: 0.09638442222876531\n",
      "    values: 0.6458316161907406\n",
      "    values: 0.02436470379194644\n",
      "    values: 0.13062450697994787\n",
      "    values: 0.7765464550653075\n",
      "    values: 0.7043974922711724\n",
      "    values: 0.21840381545740162\n",
      "    values: 0.9979621820288092\n",
      "    values: 0.24633282024179148\n",
      "    values: 0.6402157102255475\n",
      "    values: 0.18743637551902692\n",
      "    values: 0.07720300182238193\n",
      "    values: 0.3417078268428102\n",
      "    values: 0.355322212168082\n",
      "    values: 0.22590334880791274\n",
      "    values: 0.36353838704600905\n",
      "    values: 0.06829514648167767\n",
      "    values: 0.7425985324135747\n",
      "    values: 0.3885167325904667\n",
      "    values: 0.7803270261253717\n",
      "    values: 0.4502225087114631\n",
      "    values: 0.6406239843997458\n",
      "    values: 0.1121812309633734\n",
      "    values: 0.7114012570430749\n",
      "    values: 0.7923711870149314\n",
      "    values: 0.16347574542375465\n",
      "    values: 0.5730963140858275\n",
      "    values: 0.17565872619303124\n",
      "    values: 0.25043470302210613\n",
      "    values: 0.9810266531166596\n",
      "    values: 0.10023728828906975\n",
      "    values: 0.2308230058815015\n",
      "    values: 0.07644486143255291\n",
      "    values: 0.07139786654965052\n",
      "    values: 0.5105457464376629\n",
      "    values: 0.1333968131239378\n",
      "    values: 0.5471333729804304\n",
      "    values: 0.9617189913518243\n",
      "    values: 0.9926224367359316\n",
      "    values: 0.19949551419471456\n",
      "    values: 0.6147805439088037\n",
      "    values: 0.6933255256315569\n",
      "    values: 0.28558351586627895\n",
      "    values: 0.943861198248908\n",
      "    values: 0.08115933375595696\n",
      "    values: 0.6003806195296201\n",
      "    values: 0.6893967424058468\n",
      "    values: 0.9697657874417445\n",
      "    values: 0.6335134357452687\n",
      "    values: 0.11482546506139624\n",
      "    values: 0.5064202954285757\n",
      "    values: 0.36290574935230246\n",
      "    values: 0.9736200906695296\n",
      "    values: 0.9240027957991114\n",
      "    values: 0.08408689935246716\n",
      "    values: 0.5910111529646881\n",
      "    values: 0.04310027279884554\n",
      "    values: 0.8540393194587327\n",
      "    values: 0.6005568478633803\n",
      "    values: 0.9262291900400532\n",
      "    values: 0.38575831167130414\n",
      "    values: 0.5795991798071533\n",
      "    values: 0.9872556354254146\n",
      "    values: 0.8388457005533754\n",
      "    values: 0.15212821607872717\n",
      "    values: 0.5357498235985466\n",
      "    values: 0.10465050022035605\n",
      "    values: 0.632179475057963\n",
      "    values: 0.31742197870291544\n",
      "    values: 0.818807121451551\n",
      "    values: 0.5717449714981849\n",
      "    values: 0.9623272096376487\n",
      "    values: 0.8026097760070465\n",
      "    values: 0.008467100750783385\n",
      "    values: 0.027627871630873657\n",
      "    values: 0.887923218626955\n",
      "    values: 0.6179645830917173\n",
      "    values: 0.373118449357581\n",
      "    values: 0.6462758053222635\n",
      "    values: 0.3326889327641128\n",
      "    values: 0.005221973545673109\n",
      "    values: 0.2700114483218623\n",
      "    values: 0.07970571139136229\n",
      "    values: 0.8749702406546538\n",
      "    values: 0.5039343741489889\n",
      "    values: 0.7613190149076661\n",
      "    values: 0.30050964066227526\n",
      "    values: 0.08564954797733071\n",
      "    values: 0.5474558869866225\n",
      "    values: 0.974145526713602\n",
      "    values: 0.4597862523851749\n",
      "    values: 0.3425708413290305\n",
      "    values: 0.32857889346105396\n",
      "    values: 0.6430512196585786\n",
      "    values: 0.44866275901285313\n",
      "    values: 0.6235137240292032\n",
      "    values: 0.7377508550445392\n",
      "    values: 0.4125033832879742\n",
      "    values: 0.10434778355558816\n",
      "    values: 0.06319130301681375\n",
      "    values: 0.19981732319880863\n",
      "    values: 0.027337050669751117\n",
      "    values: 0.41181425509157543\n",
      "    values: 0.5535616147970671\n",
      "    values: 0.6351426377913254\n",
      "    values: 0.6866477320990617\n",
      "    values: 0.3070059330493833\n",
      "    values: 0.9218455447268354\n",
      "    values: 0.7097809570838289\n",
      "    values: 0.006667794596750043\n",
      "    values: 0.9522995779890943\n",
      "    values: 0.6751061228619588\n",
      "    values: 0.3375044210850501\n",
      "    values: 0.6041664110289273\n",
      "    values: 0.4927022107040029\n",
      "    values: 0.5163787044081839\n",
      "    values: 0.09809350769522196\n",
      "    values: 0.29957153295754557\n",
      "    values: 0.8255236962412847\n",
      "    values: 0.06905392711633007\n",
      "    values: 0.8116459218817901\n",
      "    values: 0.16178339561705868\n",
      "    values: 0.6161125514644641\n",
      "    values: 0.8699324167941845\n",
      "    values: 0.1254574836848924\n",
      "    values: 0.00494270590933632\n",
      "    values: 0.9524586510533649\n",
      "    values: 0.8555503550751212\n",
      "    values: 0.4600363326222092\n",
      "    values: 0.7740893228460328\n",
      "    values: 0.5257619432523478\n",
      "    values: 0.3168508625864056\n",
      "    values: 0.8183206135818686\n",
      "    values: 0.6595160162790351\n",
      "    values: 0.5448207151095716\n",
      "    values: 0.9032570479176738\n",
      "    values: 0.30700036310496737\n",
      "    values: 0.1542312363138567\n",
      "    values: 0.03134553386175709\n",
      "    values: 0.9070102158465296\n",
      "    values: 0.07473626533778999\n",
      "    values: 0.9328531643882993\n",
      "    values: 0.8206639072141153\n",
      "    values: 0.2502577474409793\n",
      "    values: 0.9450022357427494\n",
      "    values: 0.07970236884520321\n",
      "    values: 0.1654123345425923\n",
      "    values: 0.7217746764557111\n",
      "    values: 0.4556515131551262\n",
      "    values: 0.13663846148889547\n",
      "    values: 0.5211878942871172\n",
      "    values: 0.3718148476087467\n",
      "    values: 0.5578526133634669\n",
      "    values: 0.6312418596662049\n",
      "    values: 0.9534523205127097\n",
      "    values: 0.7253866951276117\n",
      "    values: 0.6172712844422745\n",
      "    values: 0.7964307198092864\n",
      "    values: 0.7734568483644799\n",
      "    values: 0.6508111667453035\n",
      "    values: 0.5805947407794239\n",
      "    values: 0.06464870280051527\n",
      "    values: 0.15480799909430898\n",
      "    values: 0.50029933245778\n",
      "    values: 0.4674545874047562\n",
      "    values: 0.7819692893845103\n",
      "    values: 0.15804314892456006\n",
      "    values: 0.8199896236825113\n",
      "    values: 0.8260860920452657\n",
      "    values: 0.719165753891869\n",
      "    values: 0.7140451380796672\n",
      "    values: 0.5014482928589197\n",
      "    values: 0.9099883721483214\n",
      "    values: 0.08255228896858846\n",
      "    values: 0.5363849207781343\n",
      "    values: 0.5907760196758854\n",
      "    values: 0.45669272844527997\n",
      "    values: 0.7362373287936659\n",
      "    values: 0.03881032059015199\n",
      "    values: 0.6243237768373521\n",
      "    values: 0.29038051923950314\n",
      "    values: 0.05912126779961524\n",
      "    values: 0.8110768214072306\n",
      "    values: 0.7807607829416112\n",
      "    values: 0.10179450348246843\n",
      "    values: 0.4739184693699846\n",
      "    values: 0.56264447244286\n",
      "    values: 0.38448418024517395\n",
      "    values: 0.22243483789844054\n",
      "    values: 0.9238346332490183\n",
      "    values: 0.6230617865038219\n",
      "    values: 0.8317160257662903\n",
      "    values: 0.060360217005480776\n",
      "    values: 0.7625099615360597\n",
      "    values: 0.566095665941492\n",
      "    values: 0.9641560178173502\n",
      "    values: 0.8536195259133461\n",
      "    values: 0.7491768786770829\n",
      "    values: 0.9712333827599925\n",
      "    values: 0.2605618240175498\n",
      "    values: 0.5631356071722818\n",
      "    values: 0.7006646104096246\n",
      "    values: 0.496168775800401\n",
      "    values: 0.7348801759487069\n",
      "    values: 0.8588816244034816\n",
      "    values: 0.27963267983942675\n",
      "    values: 0.5488299761015835\n",
      "    values: 0.2883440455184635\n",
      "    values: 0.9562069654673764\n",
      "    values: 0.567458229290108\n",
      "    values: 0.6369706685623742\n",
      "    values: 0.5537674359525971\n",
      "    values: 0.09797388384421324\n",
      "    values: 0.44117504564227017\n",
      "    values: 0.1145203554035108\n",
      "    values: 0.6545166628908772\n",
      "    values: 0.10876968405506038\n",
      "    values: 0.4200109664050373\n",
      "    values: 0.33646271369155767\n",
      "    values: 0.8009705423576946\n",
      "    values: 0.2947018691545622\n",
      "    values: 0.2605900403949075\n",
      "    values: 0.5524966042926333\n",
      "    values: 0.2511731959726955\n",
      "    values: 0.21493120908285912\n",
      "    values: 0.9733881416448277\n",
      "    values: 0.25400920531979276\n",
      "    values: 0.7644486844685726\n",
      "    values: 0.017582084101681716\n",
      "    values: 0.6299856315332615\n",
      "    values: 0.5882949537528357\n",
      "    values: 0.030526644062531805\n",
      "    values: 0.44426800413749656\n",
      "    values: 0.8981394075152183\n",
      "    values: 0.3067745944749326\n",
      "    values: 0.37795701381879043\n",
      "    values: 0.23731528217538767\n",
      "    values: 0.0305816176305872\n",
      "    values: 0.5200475800047284\n",
      "    values: 0.8308359613005564\n",
      "    values: 0.9619023024943257\n",
      "    values: 0.9451221981696234\n",
      "    values: 0.36622146799793265\n",
      "    values: 0.4214829845224909\n",
      "    values: 0.64342446501799\n",
      "    values: 0.09301829920788451\n",
      "    values: 0.9941325074697632\n",
      "    values: 0.2054987553430594\n",
      "    values: 0.8157403554275076\n",
      "    values: 0.9148045549316766\n",
      "    values: 0.0006809886484395733\n",
      "    values: 0.26228800208708614\n",
      "    values: 0.7671558305991226\n",
      "    values: 0.03230666728941156\n",
      "    values: 0.19289520093394252\n",
      "    values: 0.15834246501604876\n",
      "    values: 0.08261442257845275\n",
      "    values: 0.5572290650641814\n",
      "    values: 0.8804631314716991\n",
      "    values: 0.48295414298803374\n",
      "    values: 0.8127780102885993\n",
      "    values: 0.01705046075834815\n",
      "    values: 0.9124257726642157\n",
      "    values: 0.3154239491894274\n",
      "    values: 0.05347646640851489\n",
      "    values: 0.5147184328304762\n",
      "    values: 0.93872074963451\n",
      "    values: 0.4263451090967666\n",
      "    values: 0.4662994266298629\n",
      "    values: 0.02027351318336612\n",
      "    values: 0.71059912496644\n",
      "    values: 0.846094649217653\n",
      "    values: 0.05989535265333068\n",
      "    values: 0.3909908506836566\n",
      "    values: 0.814940155141273\n",
      "    values: 0.23097042757946762\n",
      "    values: 0.833149114486724\n",
      "    values: 0.4553211636951503\n",
      "    values: 0.020792270165126303\n",
      "    values: 0.22765370545744001\n",
      "    values: 0.7282619735396696\n",
      "    values: 0.6677937591629871\n",
      "    values: 0.17000749944452032\n",
      "    values: 0.23969030010167236\n",
      "    values: 0.12072651717475502\n",
      "    values: 0.0785742072367378\n",
      "    values: 0.28916109945526725\n",
      "    values: 0.5551297970595125\n",
      "    values: 0.5571486067053256\n",
      "    values: 0.1498826434127727\n",
      "    values: 0.036071560417618054\n",
      "    values: 0.8377018278207448\n",
      "    values: 0.5781372467484115\n",
      "    values: 0.018854923716055128\n",
      "    values: 0.5730715326080271\n",
      "    values: 0.9812315638149547\n",
      "    values: 0.2533739454453109\n",
      "    values: 0.9997617454519855\n",
      "    values: 0.9870989133381289\n",
      "    values: 0.7629187813206092\n",
      "    values: 0.40590463678810484\n",
      "    values: 0.908837738081488\n",
      "    values: 0.9378919699297593\n",
      "    values: 0.43437030803945775\n",
      "    values: 0.017256091522946382\n",
      "    values: 0.12254436506051469\n",
      "    values: 0.16089870541962237\n",
      "    values: 0.648161015523636\n",
      "    values: 0.8201297709017551\n",
      "    values: 0.6604213588137413\n",
      "    values: 0.6913057299716114\n",
      "    values: 0.2475077190775462\n",
      "    values: 0.15419605168198425\n",
      "    values: 0.46664487345016736\n",
      "    values: 0.0113017891186723\n",
      "    values: 0.5836562603154536\n",
      "    values: 0.34753645497996144\n",
      "    values: 0.4305061010061493\n",
      "    values: 0.7237592034163209\n",
      "    values: 0.025520712178299765\n",
      "    values: 0.6015663592005651\n",
      "    values: 0.5211058030915571\n",
      "    values: 0.2594469878087531\n",
      "    values: 0.19639149559964353\n",
      "    values: 0.5215632584719172\n",
      "    values: 0.13700617200388732\n",
      "    values: 0.6590058365936636\n",
      "    values: 0.5622801190500978\n",
      "    values: 0.4677241733728642\n",
      "    values: 0.38435977948995403\n",
      "    values: 0.2873458243411663\n",
      "    values: 0.018258586591883952\n",
      "    values: 0.011541495953624414\n",
      "    values: 0.6188448661684085\n",
      "    values: 0.8674655469058719\n",
      "    values: 0.35275814399878447\n",
      "    values: 0.19970198132663863\n",
      "    values: 0.08315216691001226\n",
      "    values: 0.8104682159238792\n",
      "    values: 0.4664224731036649\n",
      "    values: 0.1199672681745717\n",
      "    values: 0.14669006770394533\n",
      "    values: 0.5024193825222931\n",
      "    values: 0.2892846811567722\n",
      "    values: 0.35878199015151635\n",
      "    values: 0.5301028905598589\n",
      "    values: 0.6261075069208066\n",
      "    values: 0.10874161581160524\n",
      "    values: 0.6599109698561814\n",
      "    values: 0.8446490661769878\n",
      "    values: 0.9408711857653854\n",
      "    values: 0.01326968275659468\n",
      "    values: 0.6823499646826104\n",
      "    values: 0.016200381600228853\n",
      "    values: 0.3070462143968211\n",
      "    values: 0.9973193147580909\n",
      "    values: 0.7267806869577158\n",
      "    values: 0.2798617354499877\n",
      "    values: 0.6530805549288884\n",
      "    values: 0.735435063486981\n",
      "    values: 0.011509368168866496\n",
      "    values: 0.7480056634118251\n",
      "    values: 0.1610468593513107\n",
      "    values: 0.05034654495398283\n",
      "    values: 0.5377055179306209\n",
      "    values: 0.6094829725583987\n",
      "    values: 0.46695680835097475\n",
      "    values: 0.9708172269552295\n",
      "    values: 0.325275504631906\n",
      "    values: 0.7888115058399771\n",
      "    values: 0.3945138001358992\n",
      "    values: 0.18523236751465177\n",
      "    values: 0.698389329884881\n",
      "    values: 0.18338301806927026\n",
      "    values: 0.7219207909707636\n",
      "    values: 0.9558148833538872\n",
      "    values: 0.11613619983827317\n",
      "    values: 0.725892511312327\n",
      "    values: 0.31780797080574175\n",
      "    values: 0.8658636186534227\n",
      "    values: 0.5755124552404242\n",
      "    values: 0.9722389172487108\n",
      "    values: 0.7046434377331015\n",
      "    values: 0.8820437509820245\n",
      "    values: 0.7947627093701648\n",
      "    values: 0.06934557726124746\n",
      "    values: 0.3855645098044709\n",
      "    values: 0.009985723905112542\n",
      "    values: 0.3122785632440451\n",
      "    values: 0.462285462688111\n",
      "    values: 0.3555720687591064\n",
      "    values: 0.5977430338959308\n",
      "    values: 0.5871050830612277\n",
      "    values: 0.5572410654366984\n",
      "    values: 0.8011535550988159\n",
      "    values: 0.1762524768596334\n",
      "    values: 0.9011418052052452\n",
      "    values: 0.272236249476109\n",
      "    values: 0.5395697594088396\n",
      "    values: 0.8987842997739427\n",
      "    values: 0.00016404229092270572\n",
      "    values: 0.33303739726692516\n",
      "    values: 0.05717149826136336\n",
      "    values: 0.10839418455759853\n",
      "    values: 0.0010682030896388417\n",
      "    values: 0.18224440762944183\n",
      "    values: 0.4191806524191085\n",
      "    values: 0.1919635807294724\n",
      "    values: 0.5174820766150289\n",
      "    values: 0.6749842617959719\n",
      "    values: 0.33832849446231117\n",
      "    values: 0.6328169273266587\n",
      "    values: 0.1828171623739797\n",
      "    values: 0.9428657262471939\n",
      "    values: 0.6373036827671952\n",
      "    values: 0.49888300386450224\n",
      "    values: 0.7333485558612881\n",
      "    values: 0.633279132295384\n",
      "    values: 0.36218632252375427\n",
      "    values: 0.281902193484145\n",
      "    values: 0.8611055606041906\n",
      "    values: 0.5505756660387822\n",
      "    values: 0.6990757420805126\n",
      "    values: 0.9965336071463017\n",
      "    values: 0.0478545999359169\n",
      "    values: 0.7090051309024356\n",
      "    values: 0.14700230122145463\n",
      "    values: 0.5865838923164506\n",
      "    values: 0.7765356979231757\n",
      "    values: 0.21208000289487405\n",
      "    values: 0.19921022299749092\n",
      "    values: 0.41724263619701185\n",
      "    values: 0.23684318292328854\n",
      "    values: 0.2725400599347584\n",
      "    values: 0.12313915384963181\n",
      "    values: 0.6941560086442286\n",
      "    values: 0.6850697590187563\n",
      "    values: 0.9322349040220274\n",
      "    values: 0.15732793004929002\n",
      "    values: 0.13603674674305377\n",
      "    values: 0.04449229590854087\n",
      "    values: 0.7451994891278004\n",
      "    values: 0.08077473276038472\n",
      "    values: 0.4319022716468438\n",
      "    values: 0.7328932126460588\n",
      "    values: 0.14032440233406662\n",
      "    values: 0.386697634341979\n",
      "    values: 0.6436999840908327\n",
      "    values: 0.16291098442500762\n",
      "    values: 0.1671591755637496\n",
      "    values: 0.4866753906375977\n",
      "    values: 0.11248827005706696\n",
      "    values: 0.3547596087874034\n",
      "    values: 0.41158521817041926\n",
      "    values: 0.00011232928150328725\n",
      "    values: 0.41705818630570635\n",
      "    values: 0.718649690003875\n",
      "    values: 0.6934278524205266\n",
      "    values: 0.933967074572293\n",
      "    values: 0.01146723715025777\n",
      "    values: 0.5565785440732939\n",
      "    values: 0.27368993572626066\n",
      "    values: 0.26206944208583394\n",
      "    values: 0.41808724777805795\n",
      "    values: 0.4750738762515583\n",
      "    values: 0.7682427403347178\n",
      "    values: 0.14511586779829755\n",
      "    values: 0.3601139348495478\n",
      "    values: 0.5551614277689023\n",
      "    values: 0.3982219928827172\n",
      "    values: 0.3933038422048619\n",
      "    values: 0.47235703838017973\n",
      "    values: 0.2957767040554241\n",
      "    values: 0.7909308379488388\n",
      "    values: 0.3220248739858149\n",
      "    values: 0.7515418362428684\n",
      "    values: 0.29246124512706606\n",
      "    values: 0.061433845852781555\n",
      "    values: 0.9744951198770139\n",
      "    values: 0.4761654742467749\n",
      "    values: 0.19170112712315224\n",
      "    values: 0.28955395603608436\n",
      "    values: 0.8341700062795542\n",
      "    values: 0.7781093567583548\n",
      "    values: 0.9991274156807614\n",
      "    values: 0.12896260677935623\n",
      "    values: 0.9347971079029102\n",
      "    values: 0.7857494685705795\n",
      "    values: 0.8418340253110665\n",
      "    values: 0.8858382366993427\n",
      "    values: 0.29380095565642494\n",
      "    values: 0.6786233725998544\n",
      "    values: 0.21346993866530217\n",
      "    values: 0.932954494429538\n",
      "    values: 0.462507953330629\n",
      "    values: 0.49253731525246125\n",
      "    values: 0.22304466477944795\n",
      "    values: 0.9488308237646682\n",
      "    values: 0.6194220806974773\n",
      "    values: 0.09002539236955409\n",
      "    values: 0.43670453790656394\n",
      "    values: 0.27549492705241807\n",
      "    values: 0.554515334817796\n",
      "    values: 0.1430035164435911\n",
      "    values: 0.34491902254610063\n",
      "    values: 0.06983554096998534\n",
      "    values: 0.956250770072633\n",
      "    values: 0.3626068584303066\n",
      "    values: 0.5675159645333572\n",
      "    values: 0.8769128135401952\n",
      "    values: 0.026460351206132215\n",
      "    values: 0.7805674035462918\n",
      "    values: 0.18619639719069003\n",
      "    values: 0.9781040583172902\n",
      "    values: 0.018861035244804203\n",
      "    values: 0.13994764926994652\n",
      "    values: 0.34040699361439186\n",
      "    values: 0.6386975363379646\n",
      "    values: 0.4149902779021297\n",
      "    values: 0.8351862908278875\n",
      "    values: 0.7588506445505807\n",
      "    values: 0.5625381688992241\n",
      "    values: 0.2216156547582565\n",
      "    values: 0.5433056846932579\n",
      "    values: 0.01451581713960437\n",
      "    values: 0.03783479708599935\n",
      "    values: 0.3079429704431903\n",
      "    values: 0.6121595892089429\n",
      "    values: 0.13064971877212306\n",
      "    values: 0.7769347984264414\n",
      "    values: 0.9278905915176184\n",
      "    values: 0.9721077617865376\n",
      "    values: 0.533234027457998\n",
      "    values: 0.861916006236787\n",
      "    values: 0.7241652997579329\n",
      "    values: 0.22210530527778383\n",
      "    values: 0.69692272322239\n",
      "    values: 0.12677041982474846\n",
      "    values: 0.6959406449602543\n",
      "    values: 0.9705247236399394\n",
      "    values: 0.25207958940149267\n",
      "    values: 0.28885413624254475\n",
      "    values: 0.187257629721997\n",
      "    values: 0.527718715684356\n",
      "    values: 0.635892809662559\n",
      "    values: 0.15808845726457132\n",
      "    values: 0.13370245698787087\n",
      "    values: 0.5585744943492105\n",
      "    values: 0.29778818892789316\n",
      "    values: 0.5932990477416269\n",
      "    values: 0.25933688370543984\n",
      "    values: 0.9584137887750797\n",
      "    values: 0.7751350876355008\n",
      "    values: 0.7857364044710933\n",
      "    values: 0.893428042234874\n",
      "    values: 0.5617418487950031\n",
      "    values: 0.5717212423497384\n",
      "    values: 0.85554136108722\n",
      "    values: 0.6527774444648146\n",
      "    values: 0.6479156294446302\n",
      "    values: 0.5561916135755679\n",
      "    values: 0.07683929058277816\n",
      "    values: 0.525112656634704\n",
      "    values: 0.6609958553493708\n",
      "    values: 0.49568233058537015\n",
      "    values: 0.4096010414002268\n",
      "    values: 0.3687340877852022\n",
      "    values: 0.17847618524101327\n",
      "    values: 0.6392635321781828\n",
      "    values: 0.8440444492905996\n",
      "    values: 0.9159397170720414\n",
      "    values: 0.248027710288093\n",
      "    values: 0.7003254183180181\n",
      "    values: 0.028544739066938996\n",
      "    values: 0.311494964330318\n",
      "    values: 0.9343377994864293\n",
      "    values: 0.5917875237347026\n",
      "    values: 0.6545494607520989\n",
      "    values: 0.9781833885203771\n",
      "    values: 0.46269277176775425\n",
      "    values: 0.4008927075120914\n",
      "    values: 0.5197850713613973\n",
      "    values: 0.814477247226683\n",
      "    values: 0.4031019393431937\n",
      "    values: 0.9728824796755551\n",
      "    values: 0.24023330273730437\n",
      "    values: 0.4456820435526685\n",
      "    values: 0.8334347646660696\n",
      "    values: 0.6684377692276825\n",
      "    values: 0.1820598353751317\n",
      "    values: 0.20174980152245436\n",
      "    values: 0.9144433160022231\n",
      "    values: 0.09221650195997322\n",
      "    values: 0.8006469035316769\n",
      "    values: 0.24535188465064894\n",
      "    values: 0.9432124738166662\n",
      "    values: 0.7478297185347434\n",
      "    values: 0.3228954723656494\n",
      "    values: 0.7396483296588069\n",
      "    values: 0.35356700842670574\n",
      "    values: 0.012454918571921603\n",
      "    values: 0.7050567422402891\n",
      "    values: 0.5855873695051311\n",
      "    values: 0.5355289230161308\n",
      "    values: 0.813418452124486\n",
      "    values: 0.07984941331327644\n",
      "    values: 0.2958551876286605\n",
      "    values: 0.45987670920406254\n",
      "    values: 0.5605159913092538\n",
      "    values: 0.0631651699244613\n",
      "    values: 0.7260855641896279\n",
      "    values: 0.2619268882517778\n",
      "    values: 0.6362382337582209\n",
      "    values: 0.0008547423041187496\n",
      "    values: 0.7471238963293125\n",
      "    values: 0.5067037120364838\n",
      "    values: 0.6493774943956495\n",
      "    values: 0.37788937600205275\n",
      "    values: 0.9348696022033897\n",
      "    values: 0.7226817737368992\n",
      "    values: 0.687642811736383\n",
      "    values: 0.5117313136164173\n",
      "    values: 0.5355483156818804\n",
      "    values: 0.7306186283387894\n",
      "    values: 0.6238550343985843\n",
      "    values: 0.11428760782157488\n",
      "    values: 0.5492151250292548\n",
      "    values: 0.5142373297552294\n",
      "    values: 0.16852416590570996\n",
      "    values: 0.3525093271748754\n",
      "    values: 0.21928352306492938\n",
      "    values: 0.0583143384112752\n",
      "    values: 0.7250043248432014\n",
      "    values: 0.9768890747538145\n",
      "    values: 0.2656439436122864\n",
      "    values: 0.7203060909348962\n",
      "    values: 0.6699799720912262\n",
      "    values: 0.8489107149872936\n",
      "    values: 0.03206288480604369\n",
      "    values: 0.08191907451043101\n",
      "    values: 0.5472724226193978\n",
      "    values: 0.59738410409331\n",
      "    values: 0.7903873852704651\n",
      "    values: 0.9098408478475949\n",
      "    values: 0.4809077076362547\n",
      "    values: 0.9925800688682279\n",
      "    values: 0.30162634201039706\n",
      "    values: 0.021152277342991743\n",
      "    values: 0.06066990950278339\n",
      "    values: 0.7700067969417856\n",
      "    values: 0.2935409843067668\n",
      "    values: 0.8352595240476492\n",
      "    values: 0.5764312168111719\n",
      "    values: 0.8969972759032102\n",
      "    values: 0.849358932720474\n",
      "    values: 0.4557208690534297\n",
      "    values: 0.5946435013024383\n",
      "    values: 0.07365348234921776\n",
      "    values: 0.3806713597738378\n",
      "    values: 0.31734763892830986\n",
      "    values: 0.9283953032900824\n",
      "    values: 0.6049120283930517\n",
      "    values: 0.8441344842431721\n",
      "    values: 0.3038483008684003\n",
      "    values: 0.11416895733220889\n",
      "    values: 0.241889929560702\n",
      "    values: 0.5614973608789893\n",
      "    values: 0.5795762996828805\n",
      "    values: 0.4199863035413892\n",
      "    values: 0.9661463288465116\n",
      "    values: 0.7868040556499011\n",
      "    values: 0.9504547274706296\n",
      "    values: 0.2530189295691899\n",
      "    values: 0.6666802742993224\n",
      "    values: 0.3549306990405463\n",
      "    values: 0.2394491430626503\n",
      "    values: 0.4435031963723418\n",
      "    values: 0.9071818963226622\n",
      "    values: 0.007610240529944634\n",
      "    values: 0.9256756862206876\n",
      "    values: 0.9740347602968054\n",
      "    values: 0.34295382848204714\n",
      "    values: 0.9227446144166277\n",
      "    values: 0.5525466397796402\n",
      "    values: 0.5631768691392642\n",
      "    values: 0.697666488786035\n",
      "    values: 0.4150234155722624\n",
      "    values: 0.8422775385104259\n",
      "    values: 0.22217925412024753\n",
      "    values: 0.8057184132275571\n",
      "    values: 0.0680185313461169\n",
      "    values: 0.24496602819162416\n",
      "    values: 0.6320243882848521\n",
      "    values: 0.4822186371673195\n",
      "    values: 0.13757907446070994\n",
      "    values: 0.6658400037865904\n",
      "    values: 0.21898396645819973\n",
      "    values: 0.654922512037425\n",
      "    values: 0.07572963950087763\n",
      "    values: 0.46683327875372926\n",
      "    values: 0.21697489527399993\n",
      "    values: 0.6623893017323016\n",
      "    values: 0.4842750984177191\n",
      "    values: 0.9843568927668879\n",
      "    values: 0.5327036191234006\n",
      "    values: 0.4645123969898821\n",
      "    values: 0.12684844382483818\n",
      "    values: 0.7595499592745716\n",
      "    values: 0.6162782693848553\n",
      "    values: 0.9940591873266318\n",
      "    values: 0.10942502606993476\n",
      "    values: 0.18845318390650123\n",
      "    values: 0.7675351341390442\n",
      "    values: 0.8126172400809678\n",
      "    values: 0.4220995753224085\n",
      "    values: 0.6921290973572712\n",
      "    values: 0.6380541559836125\n",
      "    values: 0.4448126832210971\n",
      "    values: 0.6876060771791694\n",
      "    values: 0.27579809480331896\n",
      "    values: 0.4220064195766311\n",
      "    values: 0.21008821274789624\n",
      "    values: 0.1466583106687993\n",
      "    values: 0.7646191057854399\n",
      "    values: 0.22502673874624468\n",
      "    values: 0.2930333967740628\n",
      "    values: 0.9837890887157011\n",
      "    values: 0.6157076798285113\n",
      "    values: 0.6098844264709125\n",
      "    values: 0.21490429236848818\n",
      "    values: 0.7032936845051214\n",
      "    values: 0.3278046093640623\n",
      "    values: 0.9750740835422295\n",
      "    values: 0.04203202588027499\n",
      "    values: 0.7379887557525823\n",
      "    values: 0.07580800666629628\n",
      "    values: 0.456509281439731\n",
      "    values: 0.2311158893942462\n",
      "    values: 0.003709982580715976\n",
      "    values: 0.23974903591657404\n",
      "    values: 0.018421473923583065\n",
      "    values: 0.8435794006017069\n",
      "    values: 0.16757788855076272\n",
      "    values: 0.7144475538035681\n",
      "    values: 0.6395650565841515\n",
      "    values: 0.7903988916777187\n",
      "    values: 0.7648808414837619\n",
      "    values: 0.9252990851572966\n",
      "    values: 0.3780956052213752\n",
      "    values: 0.4772547988869148\n",
      "    values: 0.49982831365047975\n",
      "    values: 0.5403756558152507\n",
      "    values: 0.33629139608107605\n",
      "    values: 0.649504723265399\n",
      "    values: 0.7696862582372935\n",
      "    values: 0.36288612287885236\n",
      "    values: 0.7305244616973702\n",
      "    values: 0.25717259943118775\n",
      "    values: 0.6149312171820114\n",
      "    values: 0.045056574356434176\n",
      "  }\n",
      "}\n",
      "\n",
      "Response:\n",
      "{'data': {'names': ['t:0', 't:1', 't:2', 't:3', 't:4', 't:5', 't:6', 't:7', 't:8', 't:9'], 'tensor': {'shape': [1, 10], 'values': [7.86702834e-23, 1.58573571e-32, 0.113804676, 0.131478474, 3.48081406e-30, 0.754716814, 3.14566895e-14, 3.3838689e-20, 3.32755334e-08, 2.74279934e-19]}}, 'meta': {}}\n"
     ]
    }
   ],
   "source": [
    "r = sc.predict(gateway=\"ambassador\",transport=\"rest\",shape=(1,784))\n",
    "print(r)\n",
    "assert(r.success==True)"
   ]
  },
  {
   "cell_type": "markdown",
   "metadata": {},
   "source": [
    "And delete the model we deployed"
   ]
  },
  {
   "cell_type": "code",
   "execution_count": null,
   "metadata": {
    "scrolled": false
   },
   "outputs": [],
   "source": [
    "!kubectl delete -f ../servers/tfserving/samples/mnist_rest.yaml"
   ]
  },
  {
   "cell_type": "markdown",
   "metadata": {},
   "source": [
    "## Serve Tensorflow Model with Tensorflow protocol\n",
    "\n",
    "The config file below shows how you can deploy your Tensorflow model which exposes the Tensorflow protocol."
   ]
  },
  {
   "cell_type": "code",
   "execution_count": 8,
   "metadata": {
    "scrolled": true
   },
   "outputs": [
    {
     "name": "stdout",
     "output_type": "stream",
     "text": [
      "Overwriting ../servers/tfserving/samples/halfplustwo_rest.yaml\n"
     ]
    }
   ],
   "source": [
    "%%writefile ../servers/tfserving/samples/halfplustwo_rest.yaml\n",
    "apiVersion: machinelearning.seldon.io/v1alpha2\n",
    "kind: SeldonDeployment\n",
    "metadata:\n",
    "  name: hpt\n",
    "spec:\n",
    "  name: hpt\n",
    "  protocol: tensorflow\n",
    "  transport: rest\n",
    "  predictors:\n",
    "  - graph:\n",
    "      children: []\n",
    "      implementation: TENSORFLOW_SERVER\n",
    "      modelUri: gs://seldon-models/tfserving/half_plus_two\n",
    "      name:  halfplustwo\n",
    "      parameters:\n",
    "        - name: model_name\n",
    "          type: STRING\n",
    "          value: halfplustwo\n",
    "    name: default\n",
    "    replicas: 1"
   ]
  },
  {
   "cell_type": "code",
   "execution_count": null,
   "metadata": {
    "scrolled": true
   },
   "outputs": [],
   "source": [
    "!kubectl apply -f ../servers/tfserving/samples/halfplustwo_rest.yaml"
   ]
  },
  {
   "cell_type": "code",
   "execution_count": null,
   "metadata": {
    "scrolled": false
   },
   "outputs": [],
   "source": [
    "!kubectl rollout status deploy/$(kubectl get deploy -l seldon-deployment-id=hpt -o jsonpath='{.items[0].metadata.name}')"
   ]
  },
  {
   "cell_type": "code",
   "execution_count": null,
   "metadata": {},
   "outputs": [],
   "source": [
    "import json\n",
    "X=!curl -s -d '{\"instances\": [1.0, 2.0, 5.0]}' \\\n",
    "   -X POST http://localhost:8003/seldon/seldon/hpt/v1/models/halfplustwo/:predict \\\n",
    "   -H \"Content-Type: application/json\"\n",
    "d=json.loads(\"\".join(X))\n",
    "print(d)\n",
    "assert(d[\"predictions\"][0] == 2.5)"
   ]
  },
  {
   "cell_type": "code",
   "execution_count": null,
   "metadata": {},
   "outputs": [],
   "source": [
    "!kubectl delete -f ../servers/tfserving/samples/halfplustwo_rest.yaml"
   ]
  },
  {
   "cell_type": "markdown",
   "metadata": {},
   "source": [
    "## Serve MLFlow Elasticnet Wines Model\n",
    "We can deploy an MLFlow model uploaded to an object store by using the MLFlow model server implementation as the config below:"
   ]
  },
  {
   "cell_type": "code",
   "execution_count": 10,
   "metadata": {
    "scrolled": false
   },
   "outputs": [
    {
     "name": "stdout",
     "output_type": "stream",
     "text": [
      "Overwriting ../servers/mlflowserver/samples/elasticnet_wine.yaml\n"
     ]
    }
   ],
   "source": [
    "%%writefile ../servers/mlflowserver/samples/elasticnet_wine.yaml\n",
    "apiVersion: machinelearning.seldon.io/v1alpha2\n",
    "kind: SeldonDeployment\n",
    "metadata:\n",
    "  name: mlflow\n",
    "spec:\n",
    "  name: wines\n",
    "  predictors:\n",
    "  - componentSpecs:\n",
    "    - spec:\n",
    "        # We are setting high failureThreshold as installing conda dependencies\n",
    "        # can take long time and we want to avoid k8s killing the container prematurely\n",
    "        containers:\n",
    "        - name: classifier\n",
    "          livenessProbe:\n",
    "            initialDelaySeconds: 80\n",
    "            failureThreshold: 200\n",
    "            periodSeconds: 5\n",
    "            successThreshold: 1\n",
    "            httpGet:\n",
    "              path: /health/ping\n",
    "              port: http\n",
    "              scheme: HTTP\n",
    "          readinessProbe:\n",
    "            initialDelaySeconds: 80\n",
    "            failureThreshold: 200\n",
    "            periodSeconds: 5\n",
    "            successThreshold: 1\n",
    "            httpGet:\n",
    "              path: /health/ping\n",
    "              port: http\n",
    "              scheme: HTTP\n",
    "    graph:\n",
    "      children: []\n",
    "      implementation: MLFLOW_SERVER\n",
    "      modelUri: gs://seldon-models/mlflow/elasticnet_wine\n",
    "      name: classifier\n",
    "    name: default\n",
    "    replicas: 1"
   ]
  },
  {
   "cell_type": "code",
   "execution_count": null,
   "metadata": {
    "scrolled": false
   },
   "outputs": [],
   "source": [
    "!kubectl apply -f ../servers/mlflowserver/samples/elasticnet_wine.yaml"
   ]
  },
  {
   "cell_type": "code",
   "execution_count": null,
   "metadata": {
    "scrolled": false
   },
   "outputs": [],
   "source": [
    "!kubectl rollout status deploy/$(kubectl get deploy -l seldon-deployment-id=mlflow -o jsonpath='{.items[0].metadata.name}')"
   ]
  },
  {
   "cell_type": "code",
   "execution_count": null,
   "metadata": {
    "scrolled": false
   },
   "outputs": [],
   "source": [
    "from seldon_core.seldon_client import SeldonClient\n",
    "sc = SeldonClient(deployment_name=\"mlflow\",namespace=\"seldon\")"
   ]
  },
  {
   "cell_type": "code",
   "execution_count": null,
   "metadata": {
    "scrolled": true
   },
   "outputs": [],
   "source": [
    "r = sc.predict(gateway=\"ambassador\",transport=\"rest\",shape=(1,11))\n",
    "print(r)\n",
    "assert(r.success==True)"
   ]
  },
  {
   "cell_type": "code",
   "execution_count": null,
   "metadata": {
    "scrolled": false
   },
   "outputs": [],
   "source": [
    "!kubectl delete -f ../servers/mlflowserver/samples/elasticnet_wine.yaml"
   ]
  },
  {
   "cell_type": "code",
   "execution_count": null,
   "metadata": {},
   "outputs": [],
   "source": []
  }
 ],
 "metadata": {
  "anaconda-cloud": {},
  "kernelspec": {
   "display_name": "Python 3",
   "language": "python",
   "name": "python3"
  },
  "language_info": {
   "codemirror_mode": {
    "name": "ipython",
    "version": 3
   },
   "file_extension": ".py",
   "mimetype": "text/x-python",
   "name": "python",
   "nbconvert_exporter": "python",
   "pygments_lexer": "ipython3",
   "version": "3.6.8"
  },
  "varInspector": {
   "cols": {
    "lenName": 16,
    "lenType": 16,
    "lenVar": 40
   },
   "kernels_config": {
    "python": {
     "delete_cmd_postfix": "",
     "delete_cmd_prefix": "del ",
     "library": "var_list.py",
     "varRefreshCmd": "print(var_dic_list())"
    },
    "r": {
     "delete_cmd_postfix": ") ",
     "delete_cmd_prefix": "rm(",
     "library": "var_list.r",
     "varRefreshCmd": "cat(var_dic_list()) "
    }
   },
   "types_to_exclude": [
    "module",
    "function",
    "builtin_function_or_method",
    "instance",
    "_Feature"
   ],
   "window_display": false
  }
 },
 "nbformat": 4,
 "nbformat_minor": 1
}
