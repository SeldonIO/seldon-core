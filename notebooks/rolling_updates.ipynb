{
 "cells": [
  {
   "cell_type": "markdown",
   "metadata": {},
   "source": [
    "# Rolling Update Tests\n",
    "\n",
    "Check rolling updates function as expected."
   ]
  },
  {
   "cell_type": "code",
   "execution_count": null,
   "metadata": {},
   "outputs": [],
   "source": [
    "import json\n",
    "import time"
   ]
  },
  {
   "cell_type": "markdown",
   "metadata": {},
   "source": [
    "Before we get started we'd like to make sure that we're making all the changes in a new blank namespace of the name `seldon`"
   ]
  },
  {
   "cell_type": "code",
   "execution_count": null,
   "metadata": {},
   "outputs": [],
   "source": [
    "!kubectl create namespace seldon"
   ]
  },
  {
   "cell_type": "code",
   "execution_count": null,
   "metadata": {},
   "outputs": [],
   "source": [
    "!kubectl config set-context $(kubectl config current-context) --namespace=seldon"
   ]
  },
  {
   "cell_type": "markdown",
   "metadata": {},
   "source": [
    "## Change Image"
   ]
  },
  {
   "cell_type": "markdown",
   "metadata": {},
   "source": [
    "We'll want to try modifying an image and seeing how the rolling update performs the changes.\n",
    "\n",
    "We'll first create the following model:"
   ]
  },
  {
   "cell_type": "code",
   "execution_count": null,
   "metadata": {},
   "outputs": [],
   "source": [
    "%%writefile resources/fixed_v1.yaml\n",
    "apiVersion: machinelearning.seldon.io/v1\n",
    "kind: SeldonDeployment\n",
    "metadata:\n",
    "  name: fixed\n",
    "spec:\n",
    "  name: fixed\n",
    "  protocol: seldon\n",
    "  transport: rest\n",
    "  predictors:\n",
    "  - componentSpecs:\n",
    "    - spec:\n",
    "        containers:\n",
    "        - image: seldonio/fixed-model:0.1\n",
    "          name: classifier\n",
    "    graph:\n",
    "      name: classifier\n",
    "      type: MODEL\n",
    "    name: default\n",
    "    replicas: 3"
   ]
  },
  {
   "cell_type": "markdown",
   "metadata": {},
   "source": [
    "Now we can run that model and wait until it's released"
   ]
  },
  {
   "cell_type": "code",
   "execution_count": null,
   "metadata": {},
   "outputs": [],
   "source": [
    "!kubectl apply -f resources/fixed_v1.yaml"
   ]
  },
  {
   "cell_type": "code",
   "execution_count": null,
   "metadata": {},
   "outputs": [],
   "source": [
    "!kubectl rollout status deploy/$(kubectl get deploy -l seldon-deployment-id=fixed \\\n",
    "                                 -o jsonpath='{.items[0].metadata.name}')"
   ]
  },
  {
   "cell_type": "markdown",
   "metadata": {},
   "source": [
    "Let's confirm that the state of the model is Available"
   ]
  },
  {
   "cell_type": "code",
   "execution_count": null,
   "metadata": {},
   "outputs": [],
   "source": [
    "for i in range(60):\n",
    "    state=!kubectl get sdep fixed -o jsonpath='{.status.state}'\n",
    "    state=state[0]\n",
    "    print(state)\n",
    "    if state==\"Available\":\n",
    "        break\n",
    "    time.sleep(1)\n",
    "assert(state==\"Available\")"
   ]
  },
  {
   "cell_type": "code",
   "execution_count": null,
   "metadata": {},
   "outputs": [],
   "source": [
    "!curl -d '{\"data\": {\"ndarray\":[[1.0, 2.0, 5.0]]}}' \\\n",
    "   -X POST http://localhost:8003/seldon/seldon/fixed/api/v1.0/predictions \\\n",
    "   -H \"Content-Type: application/json\""
   ]
  },
  {
   "cell_type": "markdown",
   "metadata": {},
   "source": [
    "Now we can modify the model by providing a new image name, using the following config file:"
   ]
  },
  {
   "cell_type": "code",
   "execution_count": null,
   "metadata": {},
   "outputs": [],
   "source": [
    "%%writefile resources/fixed_v2.yaml\n",
    "apiVersion: machinelearning.seldon.io/v1\n",
    "kind: SeldonDeployment\n",
    "metadata:\n",
    "  name: fixed\n",
    "spec:\n",
    "  name: fixed\n",
    "  protocol: seldon\n",
    "  transport: rest\n",
    "  predictors:\n",
    "  - componentSpecs:\n",
    "    - spec:\n",
    "        containers:\n",
    "        - image: seldonio/fixed-model:0.2\n",
    "          name: classifier\n",
    "    graph:\n",
    "      name: classifier\n",
    "      type: MODEL\n",
    "    name: default\n",
    "    replicas: 3"
   ]
  },
  {
   "cell_type": "code",
   "execution_count": null,
   "metadata": {},
   "outputs": [],
   "source": [
    "!kubectl apply -f resources/fixed_v2.yaml"
   ]
  },
  {
   "cell_type": "markdown",
   "metadata": {},
   "source": [
    "Now let's actually send a couple of requests to make sure that there are no failed requests as the rolling update is performed"
   ]
  },
  {
   "cell_type": "code",
   "execution_count": null,
   "metadata": {},
   "outputs": [],
   "source": [
    "time.sleep(5) # To allow operator to start the update\n",
    "for i in range(120):\n",
    "    responseRaw=!curl -s -d '{\"data\": {\"ndarray\":[[1.0, 2.0, 5.0]]}}' -X POST http://localhost:8003/seldon/seldon/fixed/api/v1.0/predictions -H \"Content-Type: application/json\"\n",
    "    try:\n",
    "        response = json.loads(responseRaw[0])\n",
    "    except:\n",
    "        print(\"Failed to parse json\",responseRaw)\n",
    "        continue\n",
    "    assert(response['data']['ndarray'][0]==1 or response['data']['ndarray'][0]==5)\n",
    "    jsonRaw=!kubectl get deploy -l seldon-deployment-id=fixed -o json\n",
    "    data=\"\".join(jsonRaw)\n",
    "    resources = json.loads(data)\n",
    "    numReplicas = int(resources[\"items\"][0][\"status\"][\"replicas\"])\n",
    "    if numReplicas == 3:\n",
    "        break\n",
    "    time.sleep(1)\n",
    "print(\"Rollout Success\")"
   ]
  },
  {
   "cell_type": "code",
   "execution_count": null,
   "metadata": {},
   "outputs": [],
   "source": [
    "!kubectl delete -f resources/fixed_v1.yaml"
   ]
  },
  {
   "cell_type": "markdown",
   "metadata": {},
   "source": [
    "## Change Replicas (no rolling update)"
   ]
  },
  {
   "cell_type": "markdown",
   "metadata": {},
   "source": [
    "We'll want to try modifying number of replicas and no rolling update is needed.\n",
    "\n",
    "We'll first create the following model:"
   ]
  },
  {
   "cell_type": "code",
   "execution_count": null,
   "metadata": {},
   "outputs": [],
   "source": [
    "%%writefile resources/fixed_v1_rep2.yaml\n",
    "apiVersion: machinelearning.seldon.io/v1\n",
    "kind: SeldonDeployment\n",
    "metadata:\n",
    "  name: fixed\n",
    "spec:\n",
    "  name: fixed\n",
    "  protocol: seldon\n",
    "  transport: rest\n",
    "  predictors:\n",
    "  - componentSpecs:\n",
    "    - spec:\n",
    "        containers:\n",
    "        - image: seldonio/fixed-model:0.1\n",
    "          name: classifier\n",
    "    graph:\n",
    "      name: classifier\n",
    "      type: MODEL\n",
    "    name: default\n",
    "    replicas: 2"
   ]
  },
  {
   "cell_type": "markdown",
   "metadata": {},
   "source": [
    "Now we can run that model and wait until it's released"
   ]
  },
  {
   "cell_type": "code",
   "execution_count": null,
   "metadata": {},
   "outputs": [],
   "source": [
    "!kubectl apply -f resources/fixed_v1_rep2.yaml"
   ]
  },
  {
   "cell_type": "code",
   "execution_count": null,
   "metadata": {},
   "outputs": [],
   "source": [
    "!kubectl rollout status deploy/$(kubectl get deploy -l seldon-deployment-id=fixed \\\n",
    "                                 -o jsonpath='{.items[0].metadata.name}')"
   ]
  },
  {
   "cell_type": "markdown",
   "metadata": {},
   "source": [
    "Let's confirm that the state of the model is Available"
   ]
  },
  {
   "cell_type": "code",
   "execution_count": null,
   "metadata": {},
   "outputs": [],
   "source": [
    "for i in range(60):\n",
    "    state=!kubectl get sdep fixed -o jsonpath='{.status.state}'\n",
    "    state=state[0]\n",
    "    print(state)\n",
    "    if state==\"Available\":\n",
    "        break\n",
    "    time.sleep(1)\n",
    "assert(state==\"Available\")"
   ]
  },
  {
   "cell_type": "code",
   "execution_count": null,
   "metadata": {},
   "outputs": [],
   "source": [
    "!curl -d '{\"data\": {\"ndarray\":[[1.0, 2.0, 5.0]]}}' \\\n",
    "   -X POST http://localhost:8003/seldon/seldon/fixed/api/v1.0/predictions \\\n",
    "   -H \"Content-Type: application/json\""
   ]
  },
  {
   "cell_type": "markdown",
   "metadata": {},
   "source": [
    "Now we can modify the model by providing a new image name, using the following config file:"
   ]
  },
  {
   "cell_type": "code",
   "execution_count": null,
   "metadata": {},
   "outputs": [],
   "source": [
    "%%writefile resources/fixed_v1_rep4.yaml\n",
    "apiVersion: machinelearning.seldon.io/v1\n",
    "kind: SeldonDeployment\n",
    "metadata:\n",
    "  name: fixed\n",
    "spec:\n",
    "  name: fixed\n",
    "  protocol: seldon\n",
    "  transport: rest\n",
    "  predictors:\n",
    "  - componentSpecs:\n",
    "    - spec:\n",
    "        containers:\n",
    "        - image: seldonio/fixed-model:0.1\n",
    "          name: classifier\n",
    "    graph:\n",
    "      name: classifier\n",
    "      type: MODEL\n",
    "    name: default\n",
    "    replicas: 4"
   ]
  },
  {
   "cell_type": "code",
   "execution_count": null,
   "metadata": {},
   "outputs": [],
   "source": [
    "!kubectl apply -f resources/fixed_v1_rep4.yaml"
   ]
  },
  {
   "cell_type": "markdown",
   "metadata": {},
   "source": [
    "Now let's actually send a couple of requests to make sure that there are no failed requests as the rolling update is performed"
   ]
  },
  {
   "cell_type": "code",
   "execution_count": null,
   "metadata": {},
   "outputs": [],
   "source": [
    "time.sleep(5) # To allow operator to start the update\n",
    "for i in range(120):\n",
    "    responseRaw=!curl -s -d '{\"data\": {\"ndarray\":[[1.0, 2.0, 5.0]]}}' -X POST http://localhost:8003/seldon/seldon/fixed/api/v1.0/predictions -H \"Content-Type: application/json\"\n",
    "    try:\n",
    "        response = json.loads(responseRaw[0])\n",
    "    except:\n",
    "        print(\"Failed to parse json\",responseRaw)\n",
    "        continue\n",
    "    assert(response['data']['ndarray'][0]==1 or response['data']['ndarray'][0]==5)\n",
    "    jsonRaw=!kubectl get deploy -l seldon-deployment-id=fixed -o json\n",
    "    data=\"\".join(jsonRaw)\n",
    "    resources = json.loads(data)\n",
    "    numReplicas = int(resources[\"items\"][0][\"status\"][\"replicas\"])\n",
    "    if numReplicas == 4:\n",
    "        break\n",
    "    time.sleep(1)\n",
    "print(\"Rollout Success\")"
   ]
  },
  {
   "cell_type": "markdown",
   "metadata": {},
   "source": [
    "Now downsize back to 2"
   ]
  },
  {
   "cell_type": "code",
   "execution_count": null,
   "metadata": {},
   "outputs": [],
   "source": [
    "!kubectl apply -f resources/fixed_v1_rep2.yaml"
   ]
  },
  {
   "cell_type": "code",
   "execution_count": null,
   "metadata": {},
   "outputs": [],
   "source": [
    "time.sleep(5) # To allow operator to start the update\n",
    "for i in range(120):\n",
    "    responseRaw=!curl -s -d '{\"data\": {\"ndarray\":[[1.0, 2.0, 5.0]]}}' -X POST http://localhost:8003/seldon/seldon/fixed/api/v1.0/predictions -H \"Content-Type: application/json\"\n",
    "    try:\n",
    "        response = json.loads(responseRaw[0])\n",
    "    except:\n",
    "        print(\"Failed to parse json\",responseRaw)\n",
    "        continue\n",
    "    assert(response['data']['ndarray'][0]==1 or response['data']['ndarray'][0]==5)\n",
    "    jsonRaw=!kubectl get deploy -l seldon-deployment-id=fixed -o json\n",
    "    data=\"\".join(jsonRaw)\n",
    "    resources = json.loads(data)\n",
    "    numReplicas = int(resources[\"items\"][0][\"status\"][\"replicas\"])\n",
    "    if numReplicas == 2:\n",
    "        break\n",
    "    time.sleep(1)\n",
    "print(\"Rollout Success\")"
   ]
  },
  {
   "cell_type": "code",
   "execution_count": null,
   "metadata": {},
   "outputs": [],
   "source": [
    "!kubectl delete -f resources/fixed_v1_rep2.yaml"
   ]
  },
  {
   "cell_type": "markdown",
   "metadata": {},
   "source": [
    "## Separate Service Orchestrator\n",
    "\n",
    "We can test that the rolling update works when we use the annotation that allows us to have the service orchestrator on a separate pod, namely `seldon.io/engine-separate-pod: \"true\"`, as per the config file below. Though in this case both the service orchestrator and model pod will be recreated."
   ]
  },
  {
   "cell_type": "code",
   "execution_count": null,
   "metadata": {},
   "outputs": [],
   "source": [
    "%%writefile resources/fixed_v1_sep.yaml\n",
    "apiVersion: machinelearning.seldon.io/v1\n",
    "kind: SeldonDeployment\n",
    "metadata:\n",
    "  name: fixed\n",
    "spec:\n",
    "  name: fixed\n",
    "  protocol: seldon\n",
    "  transport: rest\n",
    "  annotations:\n",
    "    seldon.io/engine-separate-pod: \"true\"\n",
    "  predictors:\n",
    "  - componentSpecs:\n",
    "    - spec:\n",
    "        containers:\n",
    "        - image: seldonio/fixed-model:0.1\n",
    "          name: classifier\n",
    "    graph:\n",
    "      name: classifier\n",
    "      type: MODEL\n",
    "    name: default\n",
    "    replicas: 1"
   ]
  },
  {
   "cell_type": "code",
   "execution_count": null,
   "metadata": {},
   "outputs": [],
   "source": [
    "!kubectl apply -f resources/fixed_v1_sep.yaml"
   ]
  },
  {
   "cell_type": "code",
   "execution_count": null,
   "metadata": {},
   "outputs": [],
   "source": [
    "!kubectl rollout status deploy/$(kubectl get deploy -l seldon-deployment-id=fixed \\\n",
    "                                 -o jsonpath='{.items[0].metadata.name}')"
   ]
  },
  {
   "cell_type": "markdown",
   "metadata": {},
   "source": [
    "We can wait until the pod is available before starting the rolling update."
   ]
  },
  {
   "cell_type": "code",
   "execution_count": null,
   "metadata": {},
   "outputs": [],
   "source": [
    "for i in range(60):\n",
    "    state=!kubectl get sdep fixed -o jsonpath='{.status.state}'\n",
    "    state=state[0]\n",
    "    print(state)\n",
    "    if state==\"Available\":\n",
    "        break\n",
    "    time.sleep(1)\n",
    "assert(state==\"Available\")"
   ]
  },
  {
   "cell_type": "code",
   "execution_count": null,
   "metadata": {},
   "outputs": [],
   "source": [
    "!curl -d '{\"data\": {\"ndarray\":[[1.0, 2.0, 5.0]]}}' \\\n",
    "   -X POST http://localhost:8003/seldon/seldon/fixed/api/v1.0/predictions \\\n",
    "   -H \"Content-Type: application/json\""
   ]
  },
  {
   "cell_type": "markdown",
   "metadata": {},
   "source": [
    "Now we can make a rolling update by changing the version of the docker image we will be updating it for."
   ]
  },
  {
   "cell_type": "code",
   "execution_count": null,
   "metadata": {},
   "outputs": [],
   "source": [
    "%%writefile resources/fixed_v2_sep.yaml\n",
    "apiVersion: machinelearning.seldon.io/v1\n",
    "kind: SeldonDeployment\n",
    "metadata:\n",
    "  name: fixed\n",
    "spec:\n",
    "  name: fixed\n",
    "  protocol: seldon\n",
    "  transport: rest\n",
    "  annotations:\n",
    "    seldon.io/engine-separate-pod: \"true\"\n",
    "  predictors:\n",
    "  - componentSpecs:\n",
    "    - spec:\n",
    "        containers:\n",
    "        - image: seldonio/fixed-model:0.2\n",
    "          name: classifier\n",
    "    graph:\n",
    "      name: classifier\n",
    "      type: MODEL\n",
    "    name: default\n",
    "    replicas: 1"
   ]
  },
  {
   "cell_type": "code",
   "execution_count": null,
   "metadata": {},
   "outputs": [],
   "source": [
    "!kubectl apply -f resources/fixed_v2_sep.yaml"
   ]
  },
  {
   "cell_type": "markdown",
   "metadata": {},
   "source": [
    "And we can send requests to confirm that the rolling update is performed without interruptions"
   ]
  },
  {
   "cell_type": "code",
   "execution_count": null,
   "metadata": {},
   "outputs": [],
   "source": [
    "time.sleep(5) # To allow operator to start the update\n",
    "for i in range(120):\n",
    "    responseRaw=!curl -s -d '{\"data\": {\"ndarray\":[[1.0, 2.0, 5.0]]}}' -X POST http://localhost:8003/seldon/seldon/fixed/api/v1.0/predictions -H \"Content-Type: application/json\"\n",
    "    try:\n",
    "        response = json.loads(responseRaw[0])\n",
    "    except:\n",
    "        print(\"Failed to parse json\",responseRaw)\n",
    "        continue    \n",
    "    assert(response['data']['ndarray'][0]==1 or response['data']['ndarray'][0]==5)\n",
    "    jsonRaw=!kubectl get deploy -l seldon-deployment-id=fixed -o json\n",
    "    data=\"\".join(jsonRaw)\n",
    "    resources = json.loads(data)\n",
    "    numReplicas = int(resources[\"items\"][0][\"status\"][\"replicas\"])\n",
    "    if numReplicas == 1:\n",
    "        break\n",
    "    time.sleep(1)\n",
    "print(\"Rollout Success\")"
   ]
  },
  {
   "cell_type": "code",
   "execution_count": null,
   "metadata": {},
   "outputs": [],
   "source": [
    "!kubectl delete -f resources/fixed_v1_sep.yaml"
   ]
  },
  {
   "cell_type": "markdown",
   "metadata": {},
   "source": [
    "## Two PodSpecs"
   ]
  },
  {
   "cell_type": "markdown",
   "metadata": {},
   "source": [
    "We can test that the rolling update works when we have multiple podSpecs in our deployment and only does a rolling update the the first pod (which also contains the service orchestrator)"
   ]
  },
  {
   "cell_type": "code",
   "execution_count": null,
   "metadata": {},
   "outputs": [],
   "source": [
    "%%writefile resources/fixed_v1_2podspecs.yaml\n",
    "apiVersion: machinelearning.seldon.io/v1\n",
    "kind: SeldonDeployment\n",
    "metadata:\n",
    "  name: fixed\n",
    "spec:\n",
    "  name: fixed\n",
    "  protocol: seldon\n",
    "  transport: rest\n",
    "  predictors:\n",
    "  - componentSpecs:\n",
    "    - spec:\n",
    "        containers:\n",
    "        - image: seldonio/fixed-model:0.1\n",
    "          name: classifier1\n",
    "    - spec:\n",
    "        containers:\n",
    "        - image: seldonio/fixed-model:0.1\n",
    "          name: classifier2\n",
    "    graph:\n",
    "      name: classifier1\n",
    "      type: MODEL\n",
    "      children:\n",
    "      - name: classifier2\n",
    "        type: MODEL\n",
    "    name: default\n",
    "    replicas: 1"
   ]
  },
  {
   "cell_type": "code",
   "execution_count": null,
   "metadata": {},
   "outputs": [],
   "source": [
    "!kubectl apply -f resources/fixed_v1_2podspecs.yaml"
   ]
  },
  {
   "cell_type": "code",
   "execution_count": null,
   "metadata": {},
   "outputs": [],
   "source": [
    "!kubectl rollout status deploy/$(kubectl get deploy -l seldon-deployment-id=fixed \\\n",
    "                                 -o jsonpath='{.items[0].metadata.name}')"
   ]
  },
  {
   "cell_type": "markdown",
   "metadata": {},
   "source": [
    "We can wait until the pod is available before starting the rolling update."
   ]
  },
  {
   "cell_type": "code",
   "execution_count": null,
   "metadata": {},
   "outputs": [],
   "source": [
    "for i in range(60):\n",
    "    state=!kubectl get sdep fixed -o jsonpath='{.status.state}'\n",
    "    state=state[0]\n",
    "    print(state)\n",
    "    if state==\"Available\":\n",
    "        break\n",
    "    time.sleep(1)\n",
    "assert(state==\"Available\")"
   ]
  },
  {
   "cell_type": "code",
   "execution_count": null,
   "metadata": {},
   "outputs": [],
   "source": [
    "!curl -d '{\"data\": {\"ndarray\":[[1.0, 2.0, 5.0]]}}' \\\n",
    "   -X POST http://localhost:8003/seldon/seldon/fixed/api/v1.0/predictions \\\n",
    "   -H \"Content-Type: application/json\""
   ]
  },
  {
   "cell_type": "markdown",
   "metadata": {},
   "source": [
    "Now we can make a rolling update by changing the version of the docker image we will be updating it for."
   ]
  },
  {
   "cell_type": "code",
   "execution_count": null,
   "metadata": {},
   "outputs": [],
   "source": [
    "%%writefile resources/fixed_v2_2podspecs.yaml\n",
    "apiVersion: machinelearning.seldon.io/v1\n",
    "kind: SeldonDeployment\n",
    "metadata:\n",
    "  name: fixed\n",
    "spec:\n",
    "  name: fixed\n",
    "  protocol: seldon\n",
    "  transport: rest\n",
    "  predictors:\n",
    "  - componentSpecs:\n",
    "    - spec:\n",
    "        containers:\n",
    "        - image: seldonio/fixed-model:0.1\n",
    "          name: classifier1\n",
    "    - spec:\n",
    "        containers:\n",
    "        - image: seldonio/fixed-model:0.2\n",
    "          name: classifier2\n",
    "    graph:\n",
    "      name: classifier1\n",
    "      type: MODEL\n",
    "      children:\n",
    "      - name: classifier2\n",
    "        type: MODEL\n",
    "    name: default\n",
    "    replicas: 1"
   ]
  },
  {
   "cell_type": "code",
   "execution_count": null,
   "metadata": {},
   "outputs": [],
   "source": [
    "!kubectl apply -f resources/fixed_v2_2podspecs.yaml"
   ]
  },
  {
   "cell_type": "markdown",
   "metadata": {},
   "source": [
    "And we can send requests to confirm that the rolling update is performed without interruptions"
   ]
  },
  {
   "cell_type": "code",
   "execution_count": null,
   "metadata": {},
   "outputs": [],
   "source": [
    "time.sleep(5) # To allow operator to start the update\n",
    "for i in range(120):\n",
    "    responseRaw=!curl -s -d '{\"data\": {\"ndarray\":[[1.0, 2.0, 5.0]]}}' -X POST http://localhost:8003/seldon/seldon/fixed/api/v1.0/predictions -H \"Content-Type: application/json\"\n",
    "    try:\n",
    "        response = json.loads(responseRaw[0])\n",
    "    except:\n",
    "        print(\"Failed to parse json\",responseRaw)\n",
    "        continue\n",
    "    assert(response['data']['ndarray'][0]==1 or response['data']['ndarray'][0]==5)\n",
    "    jsonRaw=!kubectl get deploy -l seldon-deployment-id=fixed -o json\n",
    "    data=\"\".join(jsonRaw)\n",
    "    resources = json.loads(data)\n",
    "    numReplicas = int(resources[\"items\"][0][\"status\"][\"replicas\"])\n",
    "    if numReplicas == 1:\n",
    "        break\n",
    "    time.sleep(1)\n",
    "print(\"Rollout Success\")"
   ]
  },
  {
   "cell_type": "code",
   "execution_count": null,
   "metadata": {},
   "outputs": [],
   "source": [
    "!kubectl delete -f resources/fixed_v1_2podspecs.yaml"
   ]
  },
  {
   "cell_type": "markdown",
   "metadata": {},
   "source": [
    "## Two Models\n",
    "\n",
    "We can test that the rolling update works when we have two predictors / models in our deployment."
   ]
  },
  {
   "cell_type": "code",
   "execution_count": null,
   "metadata": {},
   "outputs": [],
   "source": [
    "%%writefile resources/fixed_v1_2models.yaml\n",
    "apiVersion: machinelearning.seldon.io/v1\n",
    "kind: SeldonDeployment\n",
    "metadata:\n",
    "  name: fixed\n",
    "spec:\n",
    "  name: fixed\n",
    "  protocol: seldon\n",
    "  transport: rest\n",
    "  predictors:\n",
    "  - componentSpecs:\n",
    "    - spec:\n",
    "        containers:\n",
    "        - image: seldonio/fixed-model:0.1\n",
    "          name: classifier\n",
    "        - image: seldonio/fixed-model:0.1\n",
    "          name: classifier2\n",
    "    graph:\n",
    "      name: classifier\n",
    "      type: MODEL\n",
    "      children:\n",
    "      - name: classifier2\n",
    "        type: MODEL\n",
    "    name: default\n",
    "    replicas: 3"
   ]
  },
  {
   "cell_type": "code",
   "execution_count": null,
   "metadata": {},
   "outputs": [],
   "source": [
    "!kubectl apply -f resources/fixed_v1_2models.yaml"
   ]
  },
  {
   "cell_type": "code",
   "execution_count": null,
   "metadata": {},
   "outputs": [],
   "source": [
    "!kubectl rollout status deploy/$(kubectl get deploy -l seldon-deployment-id=fixed \\\n",
    "                                 -o jsonpath='{.items[0].metadata.name}')"
   ]
  },
  {
   "cell_type": "markdown",
   "metadata": {},
   "source": [
    "We can wait until the pod is available before starting the rolling update."
   ]
  },
  {
   "cell_type": "code",
   "execution_count": null,
   "metadata": {},
   "outputs": [],
   "source": [
    "for i in range(60):\n",
    "    state=!kubectl get sdep fixed -o jsonpath='{.status.state}'\n",
    "    state=state[0]\n",
    "    print(state)\n",
    "    if state==\"Available\":\n",
    "        break\n",
    "    time.sleep(1)\n",
    "assert(state==\"Available\")"
   ]
  },
  {
   "cell_type": "code",
   "execution_count": null,
   "metadata": {},
   "outputs": [],
   "source": [
    "!curl -d '{\"data\": {\"ndarray\":[[1.0, 2.0, 5.0]]}}' \\\n",
    "   -X POST http://localhost:8003/seldon/seldon/fixed/api/v1.0/predictions \\\n",
    "   -H \"Content-Type: application/json\""
   ]
  },
  {
   "cell_type": "markdown",
   "metadata": {},
   "source": [
    "Now we can make a rolling update by changing the version of the docker image we will be updating it for."
   ]
  },
  {
   "cell_type": "code",
   "execution_count": null,
   "metadata": {},
   "outputs": [],
   "source": [
    "%%writefile resources/fixed_v2_2models.yaml\n",
    "apiVersion: machinelearning.seldon.io/v1\n",
    "kind: SeldonDeployment\n",
    "metadata:\n",
    "  name: fixed\n",
    "spec:\n",
    "  name: fixed\n",
    "  protocol: seldon\n",
    "  transport: rest\n",
    "  predictors:\n",
    "  - componentSpecs:\n",
    "    - spec:\n",
    "        containers:\n",
    "        - image: seldonio/fixed-model:0.2\n",
    "          name: classifier\n",
    "        - image: seldonio/fixed-model:0.2\n",
    "          name: classifier2\n",
    "    graph:\n",
    "      name: classifier\n",
    "      type: MODEL\n",
    "      children:\n",
    "      - name: classifier2\n",
    "        type: MODEL\n",
    "    name: default\n",
    "    replicas: 3"
   ]
  },
  {
   "cell_type": "code",
   "execution_count": null,
   "metadata": {},
   "outputs": [],
   "source": [
    "!kubectl apply -f resources/fixed_v2_2models.yaml"
   ]
  },
  {
   "cell_type": "markdown",
   "metadata": {},
   "source": [
    "And we can send requests to confirm that the rolling update is performed without interruptions"
   ]
  },
  {
   "cell_type": "code",
   "execution_count": null,
   "metadata": {},
   "outputs": [],
   "source": [
    "time.sleep(5) # To allow operator to start the update\n",
    "for i in range(120):\n",
    "    responseRaw=!curl -s -d '{\"data\": {\"ndarray\":[[1.0, 2.0, 5.0]]}}' -X POST http://localhost:8003/seldon/seldon/fixed/api/v1.0/predictions -H \"Content-Type: application/json\"\n",
    "    try:\n",
    "        response = json.loads(responseRaw[0])\n",
    "    except:\n",
    "        print(\"Failed to parse json\",responseRaw)\n",
    "        continue\n",
    "    assert(response['data']['ndarray'][0]==1 or response['data']['ndarray'][0]==5)\n",
    "    jsonRaw=!kubectl get deploy -l seldon-deployment-id=fixed -o json\n",
    "    data=\"\".join(jsonRaw)\n",
    "    resources = json.loads(data)\n",
    "    numReplicas = int(resources[\"items\"][0][\"status\"][\"replicas\"])\n",
    "    if numReplicas == 3:\n",
    "        break\n",
    "    time.sleep(1)\n",
    "print(\"Rollout Success\")"
   ]
  },
  {
   "cell_type": "code",
   "execution_count": null,
   "metadata": {},
   "outputs": [],
   "source": [
    "!kubectl delete -f resources/fixed_v2_2models.yaml"
   ]
  },
  {
   "cell_type": "markdown",
   "metadata": {},
   "source": [
    "## Two Predictors\n",
    "\n",
    "We can test that the rolling update works when we have two predictors in our deployment."
   ]
  },
  {
   "cell_type": "code",
   "execution_count": null,
   "metadata": {},
   "outputs": [],
   "source": [
    "%%writefile resources/fixed_v1_2predictors.yaml\n",
    "apiVersion: machinelearning.seldon.io/v1\n",
    "kind: SeldonDeployment\n",
    "metadata:\n",
    "  name: fixed\n",
    "spec:\n",
    "  name: fixed\n",
    "  protocol: seldon\n",
    "  transport: rest\n",
    "  predictors:\n",
    "  - componentSpecs:\n",
    "    - spec:\n",
    "        containers:\n",
    "        - image: seldonio/fixed-model:0.1\n",
    "          name: classifier\n",
    "        - image: seldonio/fixed-model:0.1\n",
    "          name: classifier2\n",
    "    graph:\n",
    "      name: classifier\n",
    "      type: MODEL\n",
    "      children:\n",
    "      - name: classifier2\n",
    "        type: MODEL\n",
    "    name: a\n",
    "    replicas: 3\n",
    "    traffic: 50\n",
    "  - componentSpecs:\n",
    "    - spec:\n",
    "        containers:\n",
    "        - image: seldonio/fixed-model:0.1\n",
    "          name: classifier\n",
    "        - image: seldonio/fixed-model:0.1\n",
    "          name: classifier2\n",
    "    graph:\n",
    "      name: classifier\n",
    "      type: MODEL\n",
    "      children:\n",
    "      - name: classifier2\n",
    "        type: MODEL\n",
    "    name: b\n",
    "    replicas: 1\n",
    "    traffic: 50"
   ]
  },
  {
   "cell_type": "code",
   "execution_count": null,
   "metadata": {},
   "outputs": [],
   "source": [
    "!kubectl apply -f resources/fixed_v1_2predictors.yaml"
   ]
  },
  {
   "cell_type": "code",
   "execution_count": null,
   "metadata": {},
   "outputs": [],
   "source": [
    "!kubectl rollout status deploy/$(kubectl get deploy -l seldon-deployment-id=fixed \\\n",
    "                                 -o jsonpath='{.items[0].metadata.name}')"
   ]
  },
  {
   "cell_type": "markdown",
   "metadata": {},
   "source": [
    "We can wait until the pod is available before starting the rolling update."
   ]
  },
  {
   "cell_type": "code",
   "execution_count": null,
   "metadata": {},
   "outputs": [],
   "source": [
    "for i in range(60):\n",
    "    state=!kubectl get sdep fixed -o jsonpath='{.status.state}'\n",
    "    state=state[0]\n",
    "    print(state)\n",
    "    if state==\"Available\":\n",
    "        break\n",
    "    time.sleep(1)\n",
    "assert(state==\"Available\")"
   ]
  },
  {
   "cell_type": "code",
   "execution_count": null,
   "metadata": {},
   "outputs": [],
   "source": [
    "!curl -d '{\"data\": {\"ndarray\":[[1.0, 2.0, 5.0]]}}' \\\n",
    "   -X POST http://localhost:8003/seldon/seldon/fixed/api/v1.0/predictions \\\n",
    "   -H \"Content-Type: application/json\""
   ]
  },
  {
   "cell_type": "markdown",
   "metadata": {},
   "source": [
    "Now we can make a rolling update by changing the version of the docker image we will be updating it for."
   ]
  },
  {
   "cell_type": "code",
   "execution_count": null,
   "metadata": {},
   "outputs": [],
   "source": [
    "%%writefile resources/fixed_v2_2predictors.yaml\n",
    "apiVersion: machinelearning.seldon.io/v1\n",
    "kind: SeldonDeployment\n",
    "metadata:\n",
    "  name: fixed\n",
    "spec:\n",
    "  name: fixed\n",
    "  protocol: seldon\n",
    "  transport: rest\n",
    "  predictors:\n",
    "  - componentSpecs:\n",
    "    - spec:\n",
    "        containers:\n",
    "        - image: seldonio/fixed-model:0.2\n",
    "          name: classifier\n",
    "        - image: seldonio/fixed-model:0.2\n",
    "          name: classifier2\n",
    "    graph:\n",
    "      name: classifier\n",
    "      type: MODEL\n",
    "      children:\n",
    "      - name: classifier2\n",
    "        type: MODEL\n",
    "    name: a\n",
    "    replicas: 3\n",
    "    traffic: 50\n",
    "  - componentSpecs:\n",
    "    - spec:\n",
    "        containers:\n",
    "        - image: seldonio/fixed-model:0.1\n",
    "          name: classifier\n",
    "        - image: seldonio/fixed-model:0.1\n",
    "          name: classifier2\n",
    "    graph:\n",
    "      name: classifier\n",
    "      type: MODEL\n",
    "      children:\n",
    "      - name: classifier2\n",
    "        type: MODEL\n",
    "    name: b\n",
    "    replicas: 1\n",
    "    traffic: 50"
   ]
  },
  {
   "cell_type": "code",
   "execution_count": null,
   "metadata": {},
   "outputs": [],
   "source": [
    "!kubectl apply -f resources/fixed_v2_2predictors.yaml"
   ]
  },
  {
   "cell_type": "markdown",
   "metadata": {},
   "source": [
    "And we can send requests to confirm that the rolling update is performed without interruptions"
   ]
  },
  {
   "cell_type": "code",
   "execution_count": null,
   "metadata": {},
   "outputs": [],
   "source": [
    "time.sleep(5) # To allow operator to start the update\n",
    "for i in range(120):\n",
    "    responseRaw=!curl -s -d '{\"data\": {\"ndarray\":[[1.0, 2.0, 5.0]]}}' -X POST http://localhost:8003/seldon/seldon/fixed/api/v1.0/predictions -H \"Content-Type: application/json\"\n",
    "    try:\n",
    "        response = json.loads(responseRaw[0])\n",
    "    except:\n",
    "        print(\"Failed to parse json\",responseRaw)\n",
    "        continue\n",
    "    assert(response['data']['ndarray'][0]==1 or response['data']['ndarray'][0]==5)\n",
    "    jsonRaw=!kubectl get deploy -l seldon-deployment-id=fixed -o json\n",
    "    data=\"\".join(jsonRaw)\n",
    "    resources = json.loads(data)\n",
    "    numReplicas = int(resources[\"items\"][0][\"status\"][\"replicas\"])\n",
    "    if numReplicas == 3:\n",
    "        break\n",
    "    time.sleep(1)\n",
    "print(\"Rollout Success\")"
   ]
  },
  {
   "cell_type": "code",
   "execution_count": null,
   "metadata": {},
   "outputs": [],
   "source": [
    "!kubectl delete -f resources/fixed_v2_2predictors.yaml"
   ]
  },
  {
   "cell_type": "markdown",
   "metadata": {},
   "source": [
    "## Model name changes\n",
    "\n",
    "This will not do a rolling update but create a new deployment."
   ]
  },
  {
   "cell_type": "code",
   "execution_count": null,
   "metadata": {},
   "outputs": [],
   "source": [
    "%%writefile resources/fixed_v1.yaml\n",
    "apiVersion: machinelearning.seldon.io/v1\n",
    "kind: SeldonDeployment\n",
    "metadata:\n",
    "  name: fixed\n",
    "spec:\n",
    "  name: fixed\n",
    "  protocol: seldon\n",
    "  transport: rest\n",
    "  predictors:\n",
    "  - componentSpecs:\n",
    "    - spec:\n",
    "        containers:\n",
    "        - image: seldonio/fixed-model:0.1\n",
    "          name: classifier\n",
    "    graph:\n",
    "      name: classifier\n",
    "      type: MODEL\n",
    "    name: default\n",
    "    replicas: 3"
   ]
  },
  {
   "cell_type": "code",
   "execution_count": null,
   "metadata": {},
   "outputs": [],
   "source": [
    "!kubectl apply -f resources/fixed_v1.yaml"
   ]
  },
  {
   "cell_type": "markdown",
   "metadata": {},
   "source": [
    "We can wait until the pod is available."
   ]
  },
  {
   "cell_type": "code",
   "execution_count": null,
   "metadata": {},
   "outputs": [],
   "source": [
    "!kubectl rollout status deploy/$(kubectl get deploy -l seldon-deployment-id=fixed \\\n",
    "                                 -o jsonpath='{.items[0].metadata.name}')"
   ]
  },
  {
   "cell_type": "code",
   "execution_count": null,
   "metadata": {},
   "outputs": [],
   "source": [
    "for i in range(60):\n",
    "    state=!kubectl get sdep fixed -o jsonpath='{.status.state}'\n",
    "    state=state[0]\n",
    "    print(state)\n",
    "    if state==\"Available\":\n",
    "        break\n",
    "    time.sleep(1)\n",
    "assert(state==\"Available\")"
   ]
  },
  {
   "cell_type": "code",
   "execution_count": null,
   "metadata": {},
   "outputs": [],
   "source": [
    "!curl -d '{\"data\": {\"ndarray\":[[1.0, 2.0, 5.0]]}}' \\\n",
    "   -X POST http://localhost:8003/seldon/seldon/fixed/api/v1.0/predictions \\\n",
    "   -H \"Content-Type: application/json\""
   ]
  },
  {
   "cell_type": "markdown",
   "metadata": {},
   "source": [
    "Now when we apply the update, we should see the change taking place, but there should not be an actual full rolling update triggered."
   ]
  },
  {
   "cell_type": "code",
   "execution_count": null,
   "metadata": {},
   "outputs": [],
   "source": [
    "%%writefile resources/fixed_v2_new_name.yaml\n",
    "apiVersion: machinelearning.seldon.io/v1\n",
    "kind: SeldonDeployment\n",
    "metadata:\n",
    "  name: fixed\n",
    "spec:\n",
    "  name: fixed\n",
    "  protocol: seldon\n",
    "  transport: rest\n",
    "  predictors:\n",
    "  - componentSpecs:\n",
    "    - spec:\n",
    "        containers:\n",
    "        - image: seldonio/fixed-model:0.2\n",
    "          name: classifier2\n",
    "    graph:\n",
    "      name: classifier2\n",
    "      type: MODEL\n",
    "    name: default\n",
    "    replicas: 3"
   ]
  },
  {
   "cell_type": "code",
   "execution_count": null,
   "metadata": {},
   "outputs": [],
   "source": [
    "!kubectl apply -f resources/fixed_v2_new_name.yaml"
   ]
  },
  {
   "cell_type": "code",
   "execution_count": null,
   "metadata": {},
   "outputs": [],
   "source": [
    "time.sleep(5)\n",
    "for i in range(120):\n",
    "    responseRaw=!curl -s -d '{\"data\": {\"ndarray\":[[1.0, 2.0, 5.0]]}}' -X POST http://localhost:8003/seldon/seldon/fixed/api/v1.0/predictions -H \"Content-Type: application/json\"\n",
    "    try:\n",
    "        response = json.loads(responseRaw[0])\n",
    "    except:\n",
    "        print(\"Failed to parse json\",responseRaw)\n",
    "        continue\n",
    "    assert(response['data']['ndarray'][0]==1 or response['data']['ndarray'][0]==5)\n",
    "    jsonRaw=!kubectl get deploy -l seldon-deployment-id=fixed -o json\n",
    "    data=\"\".join(jsonRaw)\n",
    "    resources = json.loads(data)\n",
    "    numItems = len(resources[\"items\"])\n",
    "    if numItems == 1:\n",
    "        break\n",
    "    time.sleep(1)\n",
    "print(\"Rollout Success\")"
   ]
  },
  {
   "cell_type": "code",
   "execution_count": null,
   "metadata": {},
   "outputs": [],
   "source": [
    "!kubectl delete -f resources/fixed_v2_new_name.yaml"
   ]
  },
  {
   "cell_type": "code",
   "execution_count": null,
   "metadata": {},
   "outputs": [],
   "source": []
  }
 ],
 "metadata": {
  "kernelspec": {
   "display_name": "Python 3",
   "language": "python",
   "name": "python3"
  },
  "language_info": {
   "codemirror_mode": {
    "name": "ipython",
    "version": 3
   },
   "file_extension": ".py",
   "mimetype": "text/x-python",
   "name": "python",
   "nbconvert_exporter": "python",
   "pygments_lexer": "ipython3",
   "version": "3.6.8"
  }
 },
 "nbformat": 4,
 "nbformat_minor": 2
}
