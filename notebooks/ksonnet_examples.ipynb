{
 "cells": [
  {
   "cell_type": "markdown",
   "metadata": {},
   "source": [
    "# Example Seldon Core Deployments using Ksonnet\n"
   ]
  },
  {
   "cell_type": "markdown",
   "metadata": {},
   "source": [
    "## Prerequistes\n",
    "You will need\n",
    " - [Git clone of Seldon Core](https://github.com/SeldonIO/seldon-core)\n",
    " - A running Kubernetes cluster with kubectl authenticated\n",
    " - [python grpc tools](https://grpc.io/docs/quickstart/python.html)\n",
    " - [ksonnet client](https://ksonnet.io/)"
   ]
  },
  {
   "cell_type": "markdown",
   "metadata": {},
   "source": [
    "### Creating a Kubernetes Cluster\n",
    "\n",
    "Follow the [Kubernetes documentation to create a cluster](https://kubernetes.io/docs/setup/).\n",
    "\n",
    "Once created ensure ```kubectl``` is authenticated against the running cluster."
   ]
  },
  {
   "cell_type": "markdown",
   "metadata": {},
   "source": [
    "## Setup"
   ]
  },
  {
   "cell_type": "markdown",
   "metadata": {},
   "source": [
    "** If running on GCP then run following to add cluster-admin to your user account **"
   ]
  },
  {
   "cell_type": "code",
   "execution_count": 12,
   "metadata": {},
   "outputs": [
    {
     "name": "stdout",
     "output_type": "stream",
     "text": [
      "clusterrolebinding.rbac.authorization.k8s.io/my-cluster-admin-binding created\r\n"
     ]
    }
   ],
   "source": [
    "!kubectl create clusterrolebinding my-cluster-admin-binding --clusterrole=cluster-admin --user=$(gcloud info --format=\"value(config.account)\")"
   ]
  },
  {
   "cell_type": "markdown",
   "metadata": {},
   "source": [
    "On most clusters you will probably need to add cluster-admin privledges"
   ]
  },
  {
   "cell_type": "code",
   "execution_count": 13,
   "metadata": {},
   "outputs": [
    {
     "name": "stdout",
     "output_type": "stream",
     "text": [
      "clusterrolebinding.rbac.authorization.k8s.io/kube-system-cluster-admin created\r\n"
     ]
    }
   ],
   "source": [
    "!kubectl create clusterrolebinding kube-system-cluster-admin --clusterrole=cluster-admin --serviceaccount=kube-system:default"
   ]
  },
  {
   "cell_type": "code",
   "execution_count": 14,
   "metadata": {},
   "outputs": [
    {
     "name": "stdout",
     "output_type": "stream",
     "text": [
      "namespace/seldon created\r\n"
     ]
    }
   ],
   "source": [
    "!kubectl create namespace seldon"
   ]
  },
  {
   "cell_type": "code",
   "execution_count": 15,
   "metadata": {},
   "outputs": [
    {
     "name": "stdout",
     "output_type": "stream",
     "text": [
      "Context \"minikube\" modified.\r\n"
     ]
    }
   ],
   "source": [
    "!kubectl config set-context $(kubectl config current-context) --namespace=seldon"
   ]
  },
  {
   "cell_type": "markdown",
   "metadata": {},
   "source": [
    "## Install Seldon Core\n",
    "Create a ksonnet app and install the prototypes from our registry."
   ]
  },
  {
   "cell_type": "code",
   "execution_count": 16,
   "metadata": {},
   "outputs": [
    {
     "name": "stdout",
     "output_type": "stream",
     "text": [
      "\u001b[36mINFO\u001b[0m Using context \"minikube\" from kubeconfig file \"/home/clive/.kube/config\" \n",
      "\u001b[36mINFO\u001b[0m Creating environment \"default\" with namespace \"seldon\", pointing to \"version:v1.10.0\" cluster at address \"https://192.168.39.132:8443\" \n",
      "\u001b[36mINFO\u001b[0m Generating ksonnet-lib data at path '/home/clive/work/seldon-core/fork-seldon-core/notebooks/my-ml-deployment/lib/ksonnet-lib/v1.10.0' \n"
     ]
    }
   ],
   "source": [
    "!rm -rf my-ml-deployment && ks init my-ml-deployment "
   ]
  },
  {
   "cell_type": "code",
   "execution_count": 17,
   "metadata": {},
   "outputs": [
    {
     "name": "stdout",
     "output_type": "stream",
     "text": [
      "\u001b[36mINFO\u001b[0m Retrieved 16 files                           \n",
      "\u001b[36mINFO\u001b[0m Writing component at '/home/clive/work/seldon-core/fork-seldon-core/notebooks/my-ml-deployment/components/seldon-core.jsonnet' \n"
     ]
    }
   ],
   "source": [
    "!cd my-ml-deployment && \\\n",
    "    ks registry add seldon-core ../../seldon-core && \\\n",
    "    ks pkg install seldon-core/seldon-core@master && \\\n",
    "    ks generate seldon-core seldon-core --withApife=false --withAmbassador=true --namespace=seldon --withRbac=true"
   ]
  },
  {
   "cell_type": "code",
   "execution_count": 18,
   "metadata": {},
   "outputs": [
    {
     "name": "stdout",
     "output_type": "stream",
     "text": [
      "\u001b[36mINFO\u001b[0m Applying serviceaccounts seldon.seldon       \n",
      "\u001b[36mINFO\u001b[0m Creating non-existent serviceaccounts seldon.seldon \n",
      "\u001b[36mINFO\u001b[0m Applying clusterroles seldon-crd             \n",
      "\u001b[36mINFO\u001b[0m Creating non-existent clusterroles seldon-crd \n",
      "\u001b[36mINFO\u001b[0m Applying roles seldon.seldon-local           \n",
      "\u001b[36mINFO\u001b[0m Creating non-existent roles seldon.seldon-local \n",
      "\u001b[36mINFO\u001b[0m Applying rolebindings seldon.seldon          \n",
      "\u001b[36mINFO\u001b[0m Creating non-existent rolebindings seldon.seldon \n",
      "\u001b[36mINFO\u001b[0m Applying clusterrolebindings seldon.seldon   \n",
      "\u001b[36mINFO\u001b[0m Creating non-existent clusterrolebindings seldon.seldon \n",
      "\u001b[36mINFO\u001b[0m Applying deployments seldon.seldon-core-seldon-cluster-manager \n",
      "\u001b[36mINFO\u001b[0m Creating non-existent deployments seldon.seldon-core-seldon-cluster-manager \n",
      "\u001b[36mINFO\u001b[0m Applying deployments seldon.seldon-core-redis \n",
      "\u001b[36mINFO\u001b[0m Creating non-existent deployments seldon.seldon-core-redis \n",
      "\u001b[36mINFO\u001b[0m Applying services seldon.seldon-core-redis   \n",
      "\u001b[36mINFO\u001b[0m Creating non-existent services seldon.seldon-core-redis \n",
      "\u001b[36mINFO\u001b[0m Applying customresourcedefinitions seldondeployments.machinelearning.seldon.io \n",
      "\u001b[36mINFO\u001b[0m Creating non-existent customresourcedefinitions seldondeployments.machinelearning.seldon.io \n",
      "\u001b[36mINFO\u001b[0m Applying roles seldon.ambassador             \n",
      "\u001b[36mINFO\u001b[0m Creating non-existent roles seldon.ambassador \n",
      "\u001b[36mINFO\u001b[0m Applying rolebindings seldon.ambassador      \n",
      "\u001b[36mINFO\u001b[0m Creating non-existent rolebindings seldon.ambassador \n",
      "\u001b[36mINFO\u001b[0m Applying deployments seldon.seldon-core-ambassador \n",
      "\u001b[36mINFO\u001b[0m Creating non-existent deployments seldon.seldon-core-ambassador \n",
      "\u001b[36mINFO\u001b[0m Applying services seldon.seldon-core-ambassador \n",
      "\u001b[36mINFO\u001b[0m Creating non-existent services seldon.seldon-core-ambassador \n"
     ]
    }
   ],
   "source": [
    "!cd my-ml-deployment && \\\n",
    "      ks apply default"
   ]
  },
  {
   "cell_type": "code",
   "execution_count": 19,
   "metadata": {},
   "outputs": [
    {
     "name": "stdout",
     "output_type": "stream",
     "text": [
      "deployment \"seldon-core-seldon-cluster-manager\" successfully rolled out\n",
      "Waiting for deployment \"seldon-core-ambassador\" rollout to finish: 0 of 1 updated replicas are available...\n",
      "deployment \"seldon-core-ambassador\" successfully rolled out\n"
     ]
    }
   ],
   "source": [
    "!kubectl rollout status deploy/seldon-core-seldon-cluster-manager\n",
    "!kubectl rollout status deploy/seldon-core-ambassador"
   ]
  },
  {
   "cell_type": "markdown",
   "metadata": {},
   "source": [
    "## Set up REST and gRPC methods\n",
    "\n",
    "**Ensure you port forward ambassador**:\n",
    "\n",
    "```\n",
    "kubectl port-forward $(kubectl get pods -n seldon -l service=ambassador -o jsonpath='{.items[0].metadata.name}') -n seldon 8003:8080\n",
    "```"
   ]
  },
  {
   "cell_type": "markdown",
   "metadata": {},
   "source": [
    "Install gRPC modules for the prediction protos."
   ]
  },
  {
   "cell_type": "code",
   "execution_count": 1,
   "metadata": {},
   "outputs": [
    {
     "name": "stdout",
     "output_type": "stream",
     "text": [
      "make: Nothing to be done for 'create_protos'.\n",
      "'../proto/tensorflow/tensorflow/core/framework/types.proto' -> './tensorflow/core/framework/types.proto'\n",
      "'../proto/tensorflow/tensorflow/core/framework/resource_handle.proto' -> './tensorflow/core/framework/resource_handle.proto'\n",
      "'../proto/tensorflow/tensorflow/core/framework/tensor_shape.proto' -> './tensorflow/core/framework/tensor_shape.proto'\n",
      "'../proto/tensorflow/tensorflow/core/framework/tensor.proto' -> './tensorflow/core/framework/tensor.proto'\n"
     ]
    }
   ],
   "source": [
    "!cp ../proto/prediction.proto ./proto\n",
    "!cd ../proto/tensorflow && make create_protos\n",
    "!cp -vr ../proto/tensorflow/tensorflow .\n",
    "!python -m grpc.tools.protoc -I. --python_out=. --grpc_python_out=. ./proto/prediction.proto"
   ]
  },
  {
   "cell_type": "markdown",
   "metadata": {},
   "source": [
    "## Serve Single Model"
   ]
  },
  {
   "cell_type": "code",
   "execution_count": 21,
   "metadata": {},
   "outputs": [
    {
     "name": "stdout",
     "output_type": "stream",
     "text": [
      "\u001b[36mINFO\u001b[0m Writing component at '/home/clive/work/seldon-core/fork-seldon-core/notebooks/my-ml-deployment/components/mymodel.jsonnet' \n",
      "\u001b[36mINFO\u001b[0m Applying seldondeployments seldon.mymodel    \n",
      "\u001b[36mINFO\u001b[0m Creating non-existent seldondeployments seldon.mymodel \n"
     ]
    }
   ],
   "source": [
    "!cd my-ml-deployment && \\\n",
    "    ks generate seldon-serve-simple-v1alpha2 mymodel --image seldonio/mock_classifier:1.0 && \\\n",
    "    ks apply default -c mymodel"
   ]
  },
  {
   "cell_type": "code",
   "execution_count": 11,
   "metadata": {},
   "outputs": [
    {
     "name": "stdout",
     "output_type": "stream",
     "text": [
      "---\r\n",
      "apiVersion: machinelearning.seldon.io/v1alpha2\r\n",
      "kind: SeldonDeployment\r\n",
      "metadata:\r\n",
      "  labels:\r\n",
      "    app: seldon\r\n",
      "    ksonnet.io/component: mymodel\r\n",
      "  name: mymodel\r\n",
      "  namespace: seldon\r\n",
      "spec:\r\n",
      "  annotations:\r\n",
      "    deployment_version: v1\r\n",
      "    project_name: mymodel\r\n",
      "  name: mymodel\r\n",
      "  predictors:\r\n",
      "  - annotations:\r\n",
      "      predictor_version: v1\r\n",
      "    componentSpecs:\r\n",
      "    - spec:\r\n",
      "        containers:\r\n",
      "        - image: seldonio/mock_classifier:1.0\r\n",
      "          imagePullPolicy: IfNotPresent\r\n",
      "          name: mymodel\r\n",
      "          volumeMounts: []\r\n",
      "        imagePullSecrets: []\r\n",
      "        terminationGracePeriodSeconds: 1\r\n",
      "        volumes: []\r\n",
      "    graph:\r\n",
      "      children: []\r\n",
      "      endpoint:\r\n",
      "        type: REST\r\n",
      "      name: mymodel\r\n",
      "      type: MODEL\r\n",
      "    name: mymodel\r\n",
      "    replicas: 1\r\n"
     ]
    }
   ],
   "source": [
    "!cd my-ml-deployment && \\\n",
    "    ks show default -c mymodel"
   ]
  },
  {
   "cell_type": "code",
   "execution_count": 22,
   "metadata": {},
   "outputs": [
    {
     "name": "stdout",
     "output_type": "stream",
     "text": [
      "Waiting for deployment \"mymodel-mymodel-025d03d\" rollout to finish: 0 of 1 updated replicas are available...\n",
      "deployment \"mymodel-mymodel-025d03d\" successfully rolled out\n"
     ]
    }
   ],
   "source": [
    "!kubectl rollout status deploy/mymodel-mymodel-025d03d"
   ]
  },
  {
   "cell_type": "markdown",
   "metadata": {},
   "source": [
    "Check status of deployment before continuing. **ReplicasAvailable must be equal to 1**  First time might take some time to download images."
   ]
  },
  {
   "cell_type": "code",
   "execution_count": 23,
   "metadata": {},
   "outputs": [
    {
     "name": "stdout",
     "output_type": "stream",
     "text": [
      "map[predictorStatus:[map[name:mymodel-mymodel-025d03d replicas:1 replicasAvailable:1]] state:Available]"
     ]
    }
   ],
   "source": [
    "!kubectl get seldondeployments mymodel -o jsonpath='{.status}' -n seldon"
   ]
  },
  {
   "cell_type": "markdown",
   "metadata": {},
   "source": [
    "### Get predictions"
   ]
  },
  {
   "cell_type": "code",
   "execution_count": 24,
   "metadata": {},
   "outputs": [],
   "source": [
    "from seldon_utils import *\n",
    "API_AMBASSADOR=\"localhost:8003\""
   ]
  },
  {
   "cell_type": "markdown",
   "metadata": {},
   "source": [
    "#### REST Request"
   ]
  },
  {
   "cell_type": "code",
   "execution_count": 25,
   "metadata": {
    "scrolled": true
   },
   "outputs": [
    {
     "name": "stdout",
     "output_type": "stream",
     "text": [
      "{\n",
      "  \"meta\": {\n",
      "    \"puid\": \"6fu055gjg4guo0mis6833k18lj\",\n",
      "    \"tags\": {\n",
      "    },\n",
      "    \"routing\": {\n",
      "    },\n",
      "    \"requestPath\": {\n",
      "      \"mymodel\": \"seldonio/mock_classifier:1.0\"\n",
      "    },\n",
      "    \"metrics\": []\n",
      "  },\n",
      "  \"data\": {\n",
      "    \"names\": [\"proba\"],\n",
      "    \"tensor\": {\n",
      "      \"shape\": [1, 1],\n",
      "      \"values\": [0.0981152186706275]\n",
      "    }\n",
      "  }\n",
      "}\n"
     ]
    }
   ],
   "source": [
    "r = rest_request_ambassador(\"mymodel\",API_AMBASSADOR)\n",
    "print(r.text)"
   ]
  },
  {
   "cell_type": "markdown",
   "metadata": {},
   "source": [
    "#### gRPC Request"
   ]
  },
  {
   "cell_type": "code",
   "execution_count": 26,
   "metadata": {
    "scrolled": true
   },
   "outputs": [
    {
     "data": {
      "text/plain": [
       "meta {\n",
       "  puid: \"gphkckj2ssr8rtqpvi9q6rukej\"\n",
       "  requestPath {\n",
       "    key: \"mymodel\"\n",
       "    value: \"seldonio/mock_classifier:1.0\"\n",
       "  }\n",
       "}\n",
       "data {\n",
       "  names: \"proba\"\n",
       "  tensor {\n",
       "    shape: 1\n",
       "    shape: 1\n",
       "    values: 0.09775303765952643\n",
       "  }\n",
       "}"
      ]
     },
     "execution_count": 26,
     "metadata": {},
     "output_type": "execute_result"
    }
   ],
   "source": [
    "grpc_request_ambassador(\"mymodel\",API_AMBASSADOR)"
   ]
  },
  {
   "cell_type": "markdown",
   "metadata": {},
   "source": [
    "## Adding Authentication\n",
    "We will add the example authentication from the Ambassador tutorial."
   ]
  },
  {
   "cell_type": "code",
   "execution_count": 27,
   "metadata": {},
   "outputs": [
    {
     "name": "stdout",
     "output_type": "stream",
     "text": [
      "service/example-auth created\r\n",
      "deployment.extensions/example-auth created\r\n"
     ]
    }
   ],
   "source": [
    "!kubectl apply -f resources/ambassador-auth-service-setup.yaml -n seldon"
   ]
  },
  {
   "cell_type": "markdown",
   "metadata": {},
   "source": [
    "** Need to wait until running before adding Ambassador config **"
   ]
  },
  {
   "cell_type": "code",
   "execution_count": 29,
   "metadata": {},
   "outputs": [
    {
     "name": "stdout",
     "output_type": "stream",
     "text": [
      "NAME                                                  READY   STATUS      RESTARTS   AGE\r\n",
      "alertmanager-deployment-75f466c76f-mcmn5              1/1     Running     0          4m\r\n",
      "example-auth-776ddb4c48-tppsz                         1/1     Running     0          11s\r\n",
      "grafana-prom-deployment-875855d77-4d2sp               1/1     Running     0          4m\r\n",
      "grafana-prom-import-dashboards-nwtb5                  0/1     Completed   0          4m\r\n",
      "mymodel-mymodel-025d03d-7fcdc4454f-qcztz              2/2     Running     0          4m\r\n",
      "prometheus-deployment-55657bcc7c-r95g4                1/1     Running     0          4m\r\n",
      "prometheus-node-exporter-r2w49                        1/1     Running     0          4m\r\n",
      "seldon-core-ambassador-778c58bf5d-ncc5m               2/2     Running     0          5m\r\n",
      "seldon-core-redis-5c498fc545-qjkw9                    1/1     Running     0          5m\r\n",
      "seldon-core-seldon-cluster-manager-66b6b546d4-2h4lc   1/1     Running     0          5m\r\n"
     ]
    }
   ],
   "source": [
    "!kubectl get pods -n seldon"
   ]
  },
  {
   "cell_type": "code",
   "execution_count": 30,
   "metadata": {},
   "outputs": [
    {
     "name": "stdout",
     "output_type": "stream",
     "text": [
      "service/example-auth configured\r\n"
     ]
    }
   ],
   "source": [
    "!kubectl apply -f resources/ambassador-auth-service-config.yaml -n seldon"
   ]
  },
  {
   "cell_type": "markdown",
   "metadata": {},
   "source": [
    "Show failed request when auth is running"
   ]
  },
  {
   "cell_type": "code",
   "execution_count": 32,
   "metadata": {},
   "outputs": [
    {
     "data": {
      "text/plain": [
       "<Response [401]>"
      ]
     },
     "execution_count": 32,
     "metadata": {},
     "output_type": "execute_result"
    }
   ],
   "source": [
    "rest_request_ambassador(\"mymodel\",API_AMBASSADOR)"
   ]
  },
  {
   "cell_type": "markdown",
   "metadata": {},
   "source": [
    "Show successful request with auth"
   ]
  },
  {
   "cell_type": "code",
   "execution_count": 33,
   "metadata": {},
   "outputs": [
    {
     "name": "stdout",
     "output_type": "stream",
     "text": [
      "{\n",
      "  \"meta\": {\n",
      "    \"puid\": \"njghshgs42oqen1plobd0tqfv2\",\n",
      "    \"tags\": {\n",
      "    },\n",
      "    \"routing\": {\n",
      "    },\n",
      "    \"requestPath\": {\n",
      "      \"mymodel\": \"seldonio/mock_classifier:1.0\"\n",
      "    },\n",
      "    \"metrics\": []\n",
      "  },\n",
      "  \"data\": {\n",
      "    \"names\": [\"proba\"],\n",
      "    \"tensor\": {\n",
      "      \"shape\": [1, 1],\n",
      "      \"values\": [0.07268601161215003]\n",
      "    }\n",
      "  }\n",
      "}\n"
     ]
    }
   ],
   "source": [
    "r = rest_request_ambassador_auth(\"mymodel\",\"username\",\"password\",API_AMBASSADOR)\n",
    "print(r.text)"
   ]
  },
  {
   "cell_type": "code",
   "execution_count": 34,
   "metadata": {},
   "outputs": [
    {
     "name": "stdout",
     "output_type": "stream",
     "text": [
      "service \"example-auth\" deleted\r\n",
      "deployment.extensions \"example-auth\" deleted\r\n"
     ]
    }
   ],
   "source": [
    "!kubectl delete -f resources/ambassador-auth-service-setup.yaml -n seldon"
   ]
  },
  {
   "cell_type": "code",
   "execution_count": 35,
   "metadata": {},
   "outputs": [
    {
     "name": "stdout",
     "output_type": "stream",
     "text": [
      "\u001b[36mINFO\u001b[0m Deleting seldondeployments seldon.mymodel    \n",
      "\u001b[36mINFO\u001b[0m removing environment component                \u001b[36mcomponent-name\u001b[0m=mymodel\n",
      "\u001b[36mINFO\u001b[0m Removing component parameter references ...  \n",
      "\u001b[36mINFO\u001b[0m Deleting component 'mymodel' at path '/home/clive/work/seldon-core/fork-seldon-core/notebooks/my-ml-deployment/components/mymodel.jsonnet' \n",
      "\u001b[36mINFO\u001b[0m Successfully deleted component 'mymodel'     \n"
     ]
    }
   ],
   "source": [
    "!cd my-ml-deployment && \\\n",
    "    ks delete default -c mymodel && \\\n",
    "    ks component rm mymodel"
   ]
  },
  {
   "cell_type": "markdown",
   "metadata": {},
   "source": [
    "## Serve AB Test"
   ]
  },
  {
   "cell_type": "code",
   "execution_count": 36,
   "metadata": {},
   "outputs": [
    {
     "name": "stdout",
     "output_type": "stream",
     "text": [
      "\u001b[36mINFO\u001b[0m Writing component at '/home/clive/work/seldon-core/fork-seldon-core/notebooks/my-ml-deployment/components/myabtest.jsonnet' \n",
      "\u001b[36mINFO\u001b[0m Applying seldondeployments seldon.myabtest   \n",
      "\u001b[36mINFO\u001b[0m Creating non-existent seldondeployments seldon.myabtest \n"
     ]
    }
   ],
   "source": [
    "!cd my-ml-deployment && \\\n",
    "    ks generate seldon-abtest-v1alpha2 myabtest --imageA seldonio/mock_classifier:1.0 --imageB seldonio/mock_classifier:1.0 && \\\n",
    "    ks apply default -c myabtest"
   ]
  },
  {
   "cell_type": "code",
   "execution_count": 37,
   "metadata": {},
   "outputs": [
    {
     "name": "stdout",
     "output_type": "stream",
     "text": [
      "---\r\n",
      "apiVersion: machinelearning.seldon.io/v1alpha2\r\n",
      "kind: SeldonDeployment\r\n",
      "metadata:\r\n",
      "  labels:\r\n",
      "    app: seldon\r\n",
      "    ksonnet.io/component: myabtest\r\n",
      "  name: myabtest\r\n",
      "  namespace: seldon\r\n",
      "spec:\r\n",
      "  annotations:\r\n",
      "    deployment_version: v1\r\n",
      "    project_name: myabtest\r\n",
      "  name: myabtest\r\n",
      "  predictors:\r\n",
      "  - componentSpecs:\r\n",
      "    - metadata:\r\n",
      "        labels:\r\n",
      "          version: v2\r\n",
      "      spec:\r\n",
      "        containers:\r\n",
      "        - image: seldonio/mock_classifier:1.0\r\n",
      "          imagePullPolicy: IfNotPresent\r\n",
      "          name: classifier-1\r\n",
      "          volumeMounts: []\r\n",
      "        imagePullSecrets: []\r\n",
      "        terminationGracePeriodSeconds: 1\r\n",
      "        volumes: []\r\n",
      "    - metadata:\r\n",
      "        labels:\r\n",
      "          version: v2\r\n",
      "      spec:\r\n",
      "        containers:\r\n",
      "        - image: seldonio/mock_classifier:1.0\r\n",
      "          imagePullPolicy: IfNotPresent\r\n",
      "          name: classifier-2\r\n",
      "          volumeMounts: []\r\n",
      "        terminationGracePeriodSeconds: 1\r\n",
      "        volumes: []\r\n",
      "    graph:\r\n",
      "      children:\r\n",
      "      - children: []\r\n",
      "        endpoint:\r\n",
      "          type: REST\r\n",
      "        name: classifier-1\r\n",
      "        type: MODEL\r\n",
      "      - children: []\r\n",
      "        endpoint:\r\n",
      "          type: REST\r\n",
      "        name: classifier-2\r\n",
      "        type: MODEL\r\n",
      "      endpoint: {}\r\n",
      "      implementation: RANDOM_ABTEST\r\n",
      "      name: random-ab-test\r\n",
      "      parameters:\r\n",
      "      - name: ratioA\r\n",
      "        type: FLOAT\r\n",
      "        value: \"0.5\"\r\n",
      "    name: myabtest\r\n",
      "    replicas: 1\r\n"
     ]
    }
   ],
   "source": [
    "!cd my-ml-deployment && \\\n",
    "    ks show default -c myabtest"
   ]
  },
  {
   "cell_type": "code",
   "execution_count": 38,
   "metadata": {},
   "outputs": [
    {
     "name": "stdout",
     "output_type": "stream",
     "text": [
      "deployment \"myabtest-myabtest-41de5b8\" successfully rolled out\n",
      "deployment \"myabtest-myabtest-df66c5c\" successfully rolled out\n"
     ]
    }
   ],
   "source": [
    "!kubectl rollout status deploy/myabtest-myabtest-41de5b8\n",
    "!kubectl rollout status deploy/myabtest-myabtest-df66c5c"
   ]
  },
  {
   "cell_type": "code",
   "execution_count": 39,
   "metadata": {},
   "outputs": [
    {
     "name": "stdout",
     "output_type": "stream",
     "text": [
      "map[predictorStatus:[map[name:myabtest-myabtest-41de5b8 replicas:1 replicasAvailable:1] map[name:myabtest-myabtest-df66c5c replicas:1 replicasAvailable:1]] state:Available]"
     ]
    }
   ],
   "source": [
    "!kubectl get seldondeployments myabtest -o jsonpath='{.status}' -n seldon"
   ]
  },
  {
   "cell_type": "markdown",
   "metadata": {},
   "source": [
    "### Get predictions"
   ]
  },
  {
   "cell_type": "code",
   "execution_count": 40,
   "metadata": {},
   "outputs": [],
   "source": [
    "from seldon_utils import *\n",
    "API_AMBASSADOR=\"localhost:8003\""
   ]
  },
  {
   "cell_type": "markdown",
   "metadata": {},
   "source": [
    "#### REST Request"
   ]
  },
  {
   "cell_type": "code",
   "execution_count": 41,
   "metadata": {},
   "outputs": [
    {
     "name": "stdout",
     "output_type": "stream",
     "text": [
      "{\n",
      "  \"meta\": {\n",
      "    \"puid\": \"stst7hvj3943lv5joj1j57svjn\",\n",
      "    \"tags\": {\n",
      "    },\n",
      "    \"routing\": {\n",
      "      \"random-ab-test\": 1\n",
      "    },\n",
      "    \"requestPath\": {\n",
      "      \"random-ab-test\": \"\",\n",
      "      \"classifier-2\": \"seldonio/mock_classifier:1.0\"\n",
      "    },\n",
      "    \"metrics\": []\n",
      "  },\n",
      "  \"data\": {\n",
      "    \"names\": [\"proba\"],\n",
      "    \"tensor\": {\n",
      "      \"shape\": [1, 1],\n",
      "      \"values\": [0.08565122833269298]\n",
      "    }\n",
      "  }\n",
      "}\n"
     ]
    }
   ],
   "source": [
    "r = rest_request_ambassador(\"myabtest\",API_AMBASSADOR)\n",
    "print(r.text)"
   ]
  },
  {
   "cell_type": "markdown",
   "metadata": {},
   "source": [
    "#### gRPC Request"
   ]
  },
  {
   "cell_type": "code",
   "execution_count": 43,
   "metadata": {},
   "outputs": [
    {
     "data": {
      "text/plain": [
       "meta {\n",
       "  puid: \"52m5i1ubo7j94r0b2vkjejcp23\"\n",
       "  routing {\n",
       "    key: \"random-ab-test\"\n",
       "    value: 1\n",
       "  }\n",
       "  requestPath {\n",
       "    key: \"classifier-2\"\n",
       "    value: \"seldonio/mock_classifier:1.0\"\n",
       "  }\n",
       "  requestPath {\n",
       "    key: \"random-ab-test\"\n",
       "  }\n",
       "}\n",
       "data {\n",
       "  names: \"proba\"\n",
       "  tensor {\n",
       "    shape: 1\n",
       "    shape: 1\n",
       "    values: 0.07280108134760398\n",
       "  }\n",
       "}"
      ]
     },
     "execution_count": 43,
     "metadata": {},
     "output_type": "execute_result"
    }
   ],
   "source": [
    "grpc_request_ambassador(\"myabtest\",API_AMBASSADOR)"
   ]
  },
  {
   "cell_type": "code",
   "execution_count": 44,
   "metadata": {},
   "outputs": [
    {
     "name": "stdout",
     "output_type": "stream",
     "text": [
      "\u001b[36mINFO\u001b[0m Deleting seldondeployments seldon.myabtest   \n",
      "\u001b[36mINFO\u001b[0m removing environment component                \u001b[36mcomponent-name\u001b[0m=myabtest\n",
      "\u001b[36mINFO\u001b[0m Removing component parameter references ...  \n",
      "\u001b[36mINFO\u001b[0m Deleting component 'myabtest' at path '/home/clive/work/seldon-core/fork-seldon-core/notebooks/my-ml-deployment/components/myabtest.jsonnet' \n",
      "\u001b[36mINFO\u001b[0m Successfully deleted component 'myabtest'    \n"
     ]
    }
   ],
   "source": [
    "!cd my-ml-deployment && \\\n",
    "    ks delete default -c myabtest && \\\n",
    "    ks component rm myabtest"
   ]
  },
  {
   "cell_type": "markdown",
   "metadata": {},
   "source": [
    "## Serve Multi-Armed Bandit"
   ]
  },
  {
   "cell_type": "code",
   "execution_count": 45,
   "metadata": {},
   "outputs": [
    {
     "name": "stdout",
     "output_type": "stream",
     "text": [
      "\u001b[36mINFO\u001b[0m Writing component at '/home/clive/work/seldon-core/fork-seldon-core/notebooks/my-ml-deployment/components/mymab.jsonnet' \n",
      "\u001b[36mINFO\u001b[0m Applying seldondeployments seldon.mymab      \n",
      "\u001b[36mINFO\u001b[0m Creating non-existent seldondeployments seldon.mymab \n"
     ]
    }
   ],
   "source": [
    "!cd my-ml-deployment && \\\n",
    "    ks generate seldon-mab-v1alpha2 mymab --imageA seldonio/mock_classifier:1.0 --imageB seldonio/mock_classifier:1.0 && \\\n",
    "    ks apply default -c mymab"
   ]
  },
  {
   "cell_type": "code",
   "execution_count": 46,
   "metadata": {},
   "outputs": [
    {
     "name": "stdout",
     "output_type": "stream",
     "text": [
      "---\r\n",
      "apiVersion: machinelearning.seldon.io/v1alpha2\r\n",
      "kind: SeldonDeployment\r\n",
      "metadata:\r\n",
      "  labels:\r\n",
      "    app: seldon\r\n",
      "    ksonnet.io/component: mymab\r\n",
      "  name: mymab\r\n",
      "  namespace: seldon\r\n",
      "spec:\r\n",
      "  annotations:\r\n",
      "    deployment_version: v1\r\n",
      "    project_name: mymab\r\n",
      "  name: mymab\r\n",
      "  predictors:\r\n",
      "  - componentSpecs:\r\n",
      "    - metadata:\r\n",
      "        labels:\r\n",
      "          version: v1\r\n",
      "      spec:\r\n",
      "        containers:\r\n",
      "        - image: seldonio/mock_classifier:1.0\r\n",
      "          imagePullPolicy: IfNotPresent\r\n",
      "          name: classifier-1\r\n",
      "          volumeMounts: []\r\n",
      "        imagePullSecrets: []\r\n",
      "        terminationGracePeriodSeconds: 1\r\n",
      "        volumes: []\r\n",
      "    - metadata:\r\n",
      "        labels:\r\n",
      "          version: v2\r\n",
      "      spec:\r\n",
      "        containers:\r\n",
      "        - image: seldonio/mock_classifier:1.0\r\n",
      "          imagePullPolicy: IfNotPresent\r\n",
      "          name: classifier-2\r\n",
      "          volumeMounts: []\r\n",
      "        imagePullSecrets: []\r\n",
      "        terminationGracePeriodSeconds: 1\r\n",
      "        volumes: []\r\n",
      "    - spec:\r\n",
      "        containers:\r\n",
      "        - image: seldonio/mab_epsilon_greedy:1.1\r\n",
      "          imagePullPolicy: IfNotPresent\r\n",
      "          name: eg-router\r\n",
      "        terminationGracePeriodSeconds: 1\r\n",
      "    graph:\r\n",
      "      children:\r\n",
      "      - children: []\r\n",
      "        endpoint:\r\n",
      "          type: REST\r\n",
      "        name: classifier-1\r\n",
      "        type: MODEL\r\n",
      "      - children: []\r\n",
      "        endpoint:\r\n",
      "          type: REST\r\n",
      "        name: classifier-2\r\n",
      "        type: MODEL\r\n",
      "      name: eg-router\r\n",
      "      parameters:\r\n",
      "      - name: n_branches\r\n",
      "        type: INT\r\n",
      "        value: \"2\"\r\n",
      "      - name: epsilon\r\n",
      "        type: FLOAT\r\n",
      "        value: \"0.2\"\r\n",
      "      - name: verbose\r\n",
      "        type: BOOL\r\n",
      "        value: \"1\"\r\n",
      "      type: ROUTER\r\n",
      "    name: mymab\r\n",
      "    replicas: 1\r\n"
     ]
    }
   ],
   "source": [
    "!cd my-ml-deployment && \\\n",
    "    ks show default -c mymab"
   ]
  },
  {
   "cell_type": "code",
   "execution_count": 47,
   "metadata": {},
   "outputs": [
    {
     "name": "stdout",
     "output_type": "stream",
     "text": [
      "Waiting for deployment \"mymab-mymab-41de5b8\" rollout to finish: 0 of 1 updated replicas are available...\n",
      "deployment \"mymab-mymab-41de5b8\" successfully rolled out\n",
      "deployment \"mymab-mymab-b8038b2\" successfully rolled out\n",
      "deployment \"mymab-mymab-df66c5c\" successfully rolled out\n"
     ]
    }
   ],
   "source": [
    "!kubectl rollout status deploy/mymab-mymab-41de5b8\n",
    "!kubectl rollout status deploy/mymab-mymab-b8038b2\n",
    "!kubectl rollout status deploy/mymab-mymab-df66c5c"
   ]
  },
  {
   "cell_type": "code",
   "execution_count": 48,
   "metadata": {},
   "outputs": [
    {
     "name": "stdout",
     "output_type": "stream",
     "text": [
      "map[predictorStatus:[map[name:mymab-mymab-41de5b8 replicas:1 replicasAvailable:1] map[name:mymab-mymab-df66c5c replicas:1 replicasAvailable:1] map[replicasAvailable:1 name:mymab-mymab-b8038b2 replicas:1]] state:Available]"
     ]
    }
   ],
   "source": [
    "!kubectl get seldondeployments mymab -o jsonpath='{.status}' -n seldon"
   ]
  },
  {
   "cell_type": "markdown",
   "metadata": {},
   "source": [
    "### Get predictions"
   ]
  },
  {
   "cell_type": "code",
   "execution_count": 49,
   "metadata": {},
   "outputs": [],
   "source": [
    "from seldon_utils import *\n",
    "API_AMBASSADOR=\"localhost:8003\""
   ]
  },
  {
   "cell_type": "markdown",
   "metadata": {},
   "source": [
    "#### REST Request"
   ]
  },
  {
   "cell_type": "code",
   "execution_count": 50,
   "metadata": {},
   "outputs": [
    {
     "name": "stdout",
     "output_type": "stream",
     "text": [
      "{\n",
      "  \"meta\": {\n",
      "    \"puid\": \"52n808kpb2km7qh7da8k65e7ee\",\n",
      "    \"tags\": {\n",
      "    },\n",
      "    \"routing\": {\n",
      "      \"eg-router\": 0\n",
      "    },\n",
      "    \"requestPath\": {\n",
      "      \"eg-router\": \"seldonio/mab_epsilon_greedy:1.1\",\n",
      "      \"classifier-1\": \"seldonio/mock_classifier:1.0\"\n",
      "    },\n",
      "    \"metrics\": []\n",
      "  },\n",
      "  \"data\": {\n",
      "    \"names\": [\"proba\"],\n",
      "    \"tensor\": {\n",
      "      \"shape\": [1, 1],\n",
      "      \"values\": [0.0906984954025307]\n",
      "    }\n",
      "  }\n",
      "}\n"
     ]
    }
   ],
   "source": [
    "r = rest_request_ambassador(\"mymab\",API_AMBASSADOR)\n",
    "print(r.text)"
   ]
  },
  {
   "cell_type": "markdown",
   "metadata": {},
   "source": [
    "#### gRPC Request"
   ]
  },
  {
   "cell_type": "code",
   "execution_count": 51,
   "metadata": {},
   "outputs": [
    {
     "data": {
      "text/plain": [
       "meta {\n",
       "  puid: \"e5lvpd5g1pjc53uddkc0eb47k5\"\n",
       "  routing {\n",
       "    key: \"eg-router\"\n",
       "  }\n",
       "  requestPath {\n",
       "    key: \"classifier-1\"\n",
       "    value: \"seldonio/mock_classifier:1.0\"\n",
       "  }\n",
       "  requestPath {\n",
       "    key: \"eg-router\"\n",
       "    value: \"seldonio/mab_epsilon_greedy:1.1\"\n",
       "  }\n",
       "}\n",
       "data {\n",
       "  names: \"proba\"\n",
       "  tensor {\n",
       "    shape: 1\n",
       "    shape: 1\n",
       "    values: 0.08545981031608306\n",
       "  }\n",
       "}"
      ]
     },
     "execution_count": 51,
     "metadata": {},
     "output_type": "execute_result"
    }
   ],
   "source": [
    "grpc_request_ambassador(\"mymab\",API_AMBASSADOR)"
   ]
  },
  {
   "cell_type": "code",
   "execution_count": 52,
   "metadata": {},
   "outputs": [
    {
     "name": "stdout",
     "output_type": "stream",
     "text": [
      "\u001b[36mINFO\u001b[0m Deleting seldondeployments seldon.mymab      \n",
      "\u001b[36mINFO\u001b[0m removing environment component                \u001b[36mcomponent-name\u001b[0m=mymab\n",
      "\u001b[36mINFO\u001b[0m Removing component parameter references ...  \n",
      "\u001b[36mINFO\u001b[0m Deleting component 'mymab' at path '/home/clive/work/seldon-core/fork-seldon-core/notebooks/my-ml-deployment/components/mymab.jsonnet' \n",
      "\u001b[36mINFO\u001b[0m Successfully deleted component 'mymab'       \n"
     ]
    }
   ],
   "source": [
    "!cd my-ml-deployment && \\\n",
    "    ks delete default -c mymab && \\\n",
    "    ks component rm mymab"
   ]
  },
  {
   "cell_type": "markdown",
   "metadata": {},
   "source": [
    "## Serve Model with Outlier Detector"
   ]
  },
  {
   "cell_type": "code",
   "execution_count": 53,
   "metadata": {},
   "outputs": [
    {
     "name": "stdout",
     "output_type": "stream",
     "text": [
      "\u001b[36mINFO\u001b[0m Writing component at '/home/clive/work/seldon-core/fork-seldon-core/notebooks/my-ml-deployment/components/myout.jsonnet' \n",
      "\u001b[36mINFO\u001b[0m Applying seldondeployments seldon.myout      \n",
      "\u001b[36mINFO\u001b[0m Creating non-existent seldondeployments seldon.myout \n"
     ]
    }
   ],
   "source": [
    "!cd my-ml-deployment && \\\n",
    "    ks generate seldon-outlier-detector-v1alpha2 myout --image seldonio/mock_classifier:1.0 && \\\n",
    "    ks apply default -c myout"
   ]
  },
  {
   "cell_type": "code",
   "execution_count": 54,
   "metadata": {},
   "outputs": [
    {
     "name": "stdout",
     "output_type": "stream",
     "text": [
      "---\r\n",
      "apiVersion: machinelearning.seldon.io/v1alpha2\r\n",
      "kind: SeldonDeployment\r\n",
      "metadata:\r\n",
      "  labels:\r\n",
      "    app: seldon\r\n",
      "    ksonnet.io/component: myout\r\n",
      "  name: myout\r\n",
      "  namespace: seldon\r\n",
      "spec:\r\n",
      "  annotations:\r\n",
      "    deployment_version: v1\r\n",
      "    project_name: myout\r\n",
      "  name: myout\r\n",
      "  predictors:\r\n",
      "  - annotations:\r\n",
      "      predictor_version: v1\r\n",
      "    componentSpecs:\r\n",
      "    - spec:\r\n",
      "        containers:\r\n",
      "        - image: seldonio/mock_classifier:1.0\r\n",
      "          imagePullPolicy: IfNotPresent\r\n",
      "          name: myout\r\n",
      "          volumeMounts: []\r\n",
      "        imagePullSecrets: []\r\n",
      "        terminationGracePeriodSeconds: 1\r\n",
      "        volumes: []\r\n",
      "    - spec:\r\n",
      "        containers:\r\n",
      "        - image: seldonio/outlier_mahalanobis:0.3\r\n",
      "          imagePullPolicy: IfNotPresent\r\n",
      "          name: outlier-detector\r\n",
      "        terminationGracePeriodSeconds: 1\r\n",
      "    graph:\r\n",
      "      children:\r\n",
      "      - children: []\r\n",
      "        endpoint:\r\n",
      "          type: REST\r\n",
      "        name: myout\r\n",
      "        type: MODEL\r\n",
      "      endpoint:\r\n",
      "        type: REST\r\n",
      "      name: outlier-detector\r\n",
      "      type: TRANSFORMER\r\n",
      "    name: myout\r\n",
      "    replicas: 1\r\n"
     ]
    }
   ],
   "source": [
    "!cd my-ml-deployment && \\\n",
    "    ks show default -c myout"
   ]
  },
  {
   "cell_type": "code",
   "execution_count": 55,
   "metadata": {},
   "outputs": [
    {
     "name": "stdout",
     "output_type": "stream",
     "text": [
      "Waiting for deployment \"myout-myout-7551cf4\" rollout to finish: 0 of 1 updated replicas are available...\n",
      "deployment \"myout-myout-7551cf4\" successfully rolled out\n",
      "deployment \"myout-myout-d03fe8b\" successfully rolled out\n"
     ]
    }
   ],
   "source": [
    "!kubectl rollout status deploy/myout-myout-7551cf4\n",
    "!kubectl rollout status deploy/myout-myout-d03fe8b"
   ]
  },
  {
   "cell_type": "code",
   "execution_count": 56,
   "metadata": {},
   "outputs": [
    {
     "name": "stdout",
     "output_type": "stream",
     "text": [
      "map[predictorStatus:[map[replicasAvailable:1 name:myout-myout-7551cf4 replicas:1] map[replicas:1 replicasAvailable:1 name:myout-myout-d03fe8b]] state:Available]"
     ]
    }
   ],
   "source": [
    "!kubectl get seldondeployments myout -o jsonpath='{.status}' -n seldon"
   ]
  },
  {
   "cell_type": "markdown",
   "metadata": {},
   "source": [
    "### Get predictions"
   ]
  },
  {
   "cell_type": "code",
   "execution_count": 57,
   "metadata": {},
   "outputs": [],
   "source": [
    "from seldon_utils import *\n",
    "API_AMBASSADOR=\"localhost:8003\""
   ]
  },
  {
   "cell_type": "markdown",
   "metadata": {},
   "source": [
    "#### REST Request"
   ]
  },
  {
   "cell_type": "code",
   "execution_count": 58,
   "metadata": {},
   "outputs": [
    {
     "name": "stdout",
     "output_type": "stream",
     "text": [
      "{\n",
      "  \"meta\": {\n",
      "    \"puid\": \"kqsuror782a0dhfh3k0htm6lvu\",\n",
      "    \"tags\": {\n",
      "      \"outlierScore\": [0.0]\n",
      "    },\n",
      "    \"routing\": {\n",
      "      \"outlier-detector\": -1\n",
      "    },\n",
      "    \"requestPath\": {\n",
      "      \"outlier-detector\": \"seldonio/outlier_mahalanobis:0.3\",\n",
      "      \"myout\": \"seldonio/mock_classifier:1.0\"\n",
      "    },\n",
      "    \"metrics\": []\n",
      "  },\n",
      "  \"data\": {\n",
      "    \"names\": [\"proba\"],\n",
      "    \"tensor\": {\n",
      "      \"shape\": [1, 1],\n",
      "      \"values\": [0.07669968580977957]\n",
      "    }\n",
      "  }\n",
      "}\n"
     ]
    }
   ],
   "source": [
    "r = rest_request_ambassador(\"myout\",API_AMBASSADOR)\n",
    "print(r.text)"
   ]
  },
  {
   "cell_type": "markdown",
   "metadata": {},
   "source": [
    "#### gRPC Request"
   ]
  },
  {
   "cell_type": "code",
   "execution_count": 59,
   "metadata": {},
   "outputs": [
    {
     "data": {
      "text/plain": [
       "meta {\n",
       "  puid: \"dhbvq4qusm01399lr5pkfqdr5l\"\n",
       "  tags {\n",
       "    key: \"outlierScore\"\n",
       "    value {\n",
       "      list_value {\n",
       "        values {\n",
       "          number_value: 0.0\n",
       "        }\n",
       "      }\n",
       "    }\n",
       "  }\n",
       "  routing {\n",
       "    key: \"outlier-detector\"\n",
       "    value: -1\n",
       "  }\n",
       "  requestPath {\n",
       "    key: \"myout\"\n",
       "    value: \"seldonio/mock_classifier:1.0\"\n",
       "  }\n",
       "  requestPath {\n",
       "    key: \"outlier-detector\"\n",
       "    value: \"seldonio/outlier_mahalanobis:0.3\"\n",
       "  }\n",
       "}\n",
       "data {\n",
       "  names: \"proba\"\n",
       "  tensor {\n",
       "    shape: 1\n",
       "    shape: 1\n",
       "    values: 0.07192904687724741\n",
       "  }\n",
       "}"
      ]
     },
     "execution_count": 59,
     "metadata": {},
     "output_type": "execute_result"
    }
   ],
   "source": [
    "grpc_request_ambassador(\"myout\",API_AMBASSADOR)"
   ]
  },
  {
   "cell_type": "code",
   "execution_count": 60,
   "metadata": {},
   "outputs": [
    {
     "name": "stdout",
     "output_type": "stream",
     "text": [
      "\u001b[36mINFO\u001b[0m Deleting seldondeployments seldon.myout      \n",
      "\u001b[36mINFO\u001b[0m removing environment component                \u001b[36mcomponent-name\u001b[0m=myout\n",
      "\u001b[36mINFO\u001b[0m Removing component parameter references ...  \n",
      "\u001b[36mINFO\u001b[0m Deleting component 'myout' at path '/home/clive/work/seldon-core/fork-seldon-core/notebooks/my-ml-deployment/components/myout.jsonnet' \n",
      "\u001b[36mINFO\u001b[0m Successfully deleted component 'myout'       \n"
     ]
    }
   ],
   "source": [
    "!cd my-ml-deployment && \\\n",
    "    ks delete default -c myout && \\\n",
    "    ks component rm myout"
   ]
  },
  {
   "cell_type": "markdown",
   "metadata": {},
   "source": [
    "# Tear down"
   ]
  },
  {
   "cell_type": "code",
   "execution_count": 61,
   "metadata": {},
   "outputs": [
    {
     "name": "stdout",
     "output_type": "stream",
     "text": [
      "\u001b[36mINFO\u001b[0m Deleting serviceaccounts seldon.seldon       \n",
      "\u001b[36mINFO\u001b[0m Deleting clusterroles seldon-crd             \n",
      "\u001b[36mINFO\u001b[0m Deleting roles seldon.seldon-local           \n",
      "\u001b[36mINFO\u001b[0m Deleting rolebindings seldon.seldon          \n",
      "\u001b[36mINFO\u001b[0m Deleting clusterrolebindings seldon.seldon   \n",
      "\u001b[36mINFO\u001b[0m Deleting deployments seldon.seldon-core-seldon-cluster-manager \n",
      "\u001b[36mINFO\u001b[0m Deleting deployments seldon.seldon-core-redis \n",
      "\u001b[36mINFO\u001b[0m Deleting services seldon.seldon-core-redis   \n",
      "\u001b[36mINFO\u001b[0m Deleting customresourcedefinitions seldondeployments.machinelearning.seldon.io \n",
      "\u001b[36mINFO\u001b[0m Deleting roles seldon.ambassador             \n",
      "\u001b[36mINFO\u001b[0m Deleting rolebindings seldon.ambassador      \n",
      "\u001b[36mINFO\u001b[0m Deleting deployments seldon.seldon-core-ambassador \n",
      "\u001b[36mINFO\u001b[0m Deleting services seldon.seldon-core-ambassador \n"
     ]
    }
   ],
   "source": [
    "!cd my-ml-deployment && ks delete default"
   ]
  },
  {
   "cell_type": "code",
   "execution_count": 62,
   "metadata": {},
   "outputs": [],
   "source": [
    "!rm -rf my-ml-deployment"
   ]
  },
  {
   "cell_type": "code",
   "execution_count": null,
   "metadata": {},
   "outputs": [],
   "source": []
  }
 ],
 "metadata": {
  "anaconda-cloud": {},
  "kernelspec": {
   "display_name": "Python 3",
   "language": "python",
   "name": "python3"
  },
  "language_info": {
   "codemirror_mode": {
    "name": "ipython",
    "version": 3
   },
   "file_extension": ".py",
   "mimetype": "text/x-python",
   "name": "python",
   "nbconvert_exporter": "python",
   "pygments_lexer": "ipython3",
   "version": "3.6.4"
  }
 },
 "nbformat": 4,
 "nbformat_minor": 1
}
