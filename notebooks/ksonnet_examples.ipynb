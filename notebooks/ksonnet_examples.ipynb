{
 "cells": [
  {
   "cell_type": "markdown",
   "metadata": {},
   "source": [
    "# Example Seldon Core Deployments using Ksonnet\n"
   ]
  },
  {
   "cell_type": "markdown",
   "metadata": {},
   "source": [
    "## Prerequistes\n",
    "\n",
    "You will need\n",
    "\n",
    " - [Git clone of Seldon Core](https://github.com/SeldonIO/seldon-core)\n",
    " - A running Kubernetes cluster with kubectl authenticated\n",
    " - [seldon-core Python package](https://pypi.org/project/seldon-core/) (```pip install seldon-core>=0.2.6.1```)\n",
    " - [ksonnet client](https://ksonnet.io/)"
   ]
  },
  {
   "cell_type": "markdown",
   "metadata": {},
   "source": [
    "## Creating a Kubernetes Cluster\n",
    "\n",
    "Follow the [Kubernetes documentation to create a cluster](https://kubernetes.io/docs/setup/).\n",
    "\n",
    "Once created ensure ```kubectl``` is authenticated against the running cluster."
   ]
  },
  {
   "cell_type": "markdown",
   "metadata": {},
   "source": [
    "## Setup"
   ]
  },
  {
   "cell_type": "markdown",
   "metadata": {},
   "source": [
    "** If running on GCP then run following to add cluster-admin to your user account **"
   ]
  },
  {
   "cell_type": "code",
   "execution_count": 1,
   "metadata": {},
   "outputs": [
    {
     "name": "stdout",
     "output_type": "stream",
     "text": [
      "clusterrolebinding.rbac.authorization.k8s.io/my-cluster-admin-binding created\r\n"
     ]
    }
   ],
   "source": [
    "!kubectl create clusterrolebinding my-cluster-admin-binding --clusterrole=cluster-admin --user=$(gcloud info --format=\"value(config.account)\")"
   ]
  },
  {
   "cell_type": "markdown",
   "metadata": {},
   "source": [
    "On most clusters you will probably need to add cluster-admin privledges"
   ]
  },
  {
   "cell_type": "code",
   "execution_count": 2,
   "metadata": {},
   "outputs": [
    {
     "name": "stdout",
     "output_type": "stream",
     "text": [
      "clusterrolebinding.rbac.authorization.k8s.io/kube-system-cluster-admin created\r\n"
     ]
    }
   ],
   "source": [
    "!kubectl create clusterrolebinding kube-system-cluster-admin --clusterrole=cluster-admin --serviceaccount=kube-system:default"
   ]
  },
  {
   "cell_type": "code",
   "execution_count": 3,
   "metadata": {},
   "outputs": [
    {
     "name": "stdout",
     "output_type": "stream",
     "text": [
      "namespace/seldon created\r\n"
     ]
    }
   ],
   "source": [
    "!kubectl create namespace seldon"
   ]
  },
  {
   "cell_type": "code",
   "execution_count": 4,
   "metadata": {},
   "outputs": [
    {
     "name": "stdout",
     "output_type": "stream",
     "text": [
      "Context \"minikube\" modified.\r\n"
     ]
    }
   ],
   "source": [
    "!kubectl config set-context $(kubectl config current-context) --namespace=seldon"
   ]
  },
  {
   "cell_type": "markdown",
   "metadata": {},
   "source": [
    "## Install Seldon Core\n",
    "Create a ksonnet app and install the prototypes from our registry. If you run into a ```403 API rate limit``` error, follow the instructions on [this page](https://github.com/ksonnet/ksonnet/blob/master/docs/troubleshooting.md) to resolve it."
   ]
  },
  {
   "cell_type": "code",
   "execution_count": 5,
   "metadata": {},
   "outputs": [
    {
     "name": "stdout",
     "output_type": "stream",
     "text": [
      "\u001b[36mINFO\u001b[0m Using context \"minikube\" from kubeconfig file \"/home/clive/.kube/config\" \n",
      "\u001b[36mINFO\u001b[0m Creating environment \"default\" with namespace \"seldon\", pointing to \"version:v1.13.3\" cluster at address \"https://192.168.39.236:8443\" \n",
      "\u001b[36mINFO\u001b[0m Generating ksonnet-lib data at path '/home/clive/work/seldon-core/fork-seldon-core/notebooks/my-ml-deployment/lib/ksonnet-lib/v1.13.3' \n"
     ]
    }
   ],
   "source": [
    "!rm -rf my-ml-deployment && ks init my-ml-deployment "
   ]
  },
  {
   "cell_type": "code",
   "execution_count": 6,
   "metadata": {},
   "outputs": [
    {
     "name": "stdout",
     "output_type": "stream",
     "text": [
      "\u001b[36mINFO\u001b[0m Retrieved 19 files                           \n",
      "\u001b[36mINFO\u001b[0m Writing component at '/home/clive/work/seldon-core/fork-seldon-core/notebooks/my-ml-deployment/components/seldon-core.jsonnet' \n"
     ]
    }
   ],
   "source": [
    "!cd my-ml-deployment && \\\n",
    "    ks registry add seldon-core ../../seldon-core && \\\n",
    "    ks pkg install seldon-core/seldon-core@master && \\\n",
    "    ks generate seldon-core seldon-core --withApife=false --withAmbassador=true --singleNamespace=true --namespace=seldon --withRbac=true"
   ]
  },
  {
   "cell_type": "code",
   "execution_count": 7,
   "metadata": {},
   "outputs": [
    {
     "name": "stdout",
     "output_type": "stream",
     "text": [
      "\u001b[36mINFO\u001b[0m Applying serviceaccounts seldon.seldon       \n",
      "\u001b[36mINFO\u001b[0m Creating non-existent serviceaccounts seldon.seldon \n",
      "\u001b[36mINFO\u001b[0m Applying roles seldon.seldon-local           \n",
      "\u001b[36mINFO\u001b[0m Creating non-existent roles seldon.seldon-local \n",
      "\u001b[36mINFO\u001b[0m Applying rolebindings seldon.seldon          \n",
      "\u001b[36mINFO\u001b[0m Creating non-existent rolebindings seldon.seldon \n",
      "\u001b[36mINFO\u001b[0m Applying services seldon.seldon-core-ambassador \n",
      "\u001b[36mINFO\u001b[0m Creating non-existent services seldon.seldon-core-ambassador \n",
      "\u001b[36mINFO\u001b[0m Applying services seldon.seldon-core-redis   \n",
      "\u001b[36mINFO\u001b[0m Creating non-existent services seldon.seldon-core-redis \n",
      "\u001b[36mINFO\u001b[0m Applying customresourcedefinitions seldondeployments.machinelearning.seldon.io \n",
      "\u001b[36mINFO\u001b[0m Creating non-existent customresourcedefinitions seldondeployments.machinelearning.seldon.io \n",
      "\u001b[36mINFO\u001b[0m Applying roles seldon.ambassador             \n",
      "\u001b[36mINFO\u001b[0m Creating non-existent roles seldon.ambassador \n",
      "\u001b[36mINFO\u001b[0m Applying rolebindings seldon.ambassador      \n",
      "\u001b[36mINFO\u001b[0m Creating non-existent rolebindings seldon.ambassador \n",
      "\u001b[36mINFO\u001b[0m Applying deployments seldon.seldon-core-seldon-cluster-manager \n",
      "\u001b[36mINFO\u001b[0m Creating non-existent deployments seldon.seldon-core-seldon-cluster-manager \n",
      "\u001b[36mINFO\u001b[0m Applying deployments seldon.seldon-core-ambassador \n",
      "\u001b[36mINFO\u001b[0m Creating non-existent deployments seldon.seldon-core-ambassador \n",
      "\u001b[36mINFO\u001b[0m Applying deployments seldon.seldon-core-redis \n",
      "\u001b[36mINFO\u001b[0m Creating non-existent deployments seldon.seldon-core-redis \n"
     ]
    }
   ],
   "source": [
    "!cd my-ml-deployment && \\\n",
    "      ks apply default"
   ]
  },
  {
   "cell_type": "code",
   "execution_count": 8,
   "metadata": {},
   "outputs": [
    {
     "name": "stdout",
     "output_type": "stream",
     "text": [
      "Waiting for deployment \"seldon-core-seldon-cluster-manager\" rollout to finish: 0 of 1 updated replicas are available...\n",
      "deployment \"seldon-core-seldon-cluster-manager\" successfully rolled out\n",
      "Waiting for deployment \"seldon-core-ambassador\" rollout to finish: 0 of 1 updated replicas are available...\n",
      "deployment \"seldon-core-ambassador\" successfully rolled out\n"
     ]
    }
   ],
   "source": [
    "!kubectl rollout status deploy/seldon-core-seldon-cluster-manager\n",
    "!kubectl rollout status deploy/seldon-core-ambassador"
   ]
  },
  {
   "cell_type": "markdown",
   "metadata": {},
   "source": [
    "## Set up REST and gRPC methods\n",
    "\n",
    "**Ensure you port forward ambassador**:\n",
    "\n",
    "```\n",
    "kubectl port-forward $(kubectl get pods -n seldon -l service=ambassador -o jsonpath='{.items[0].metadata.name}') -n seldon 8003:8080\n",
    "```"
   ]
  },
  {
   "cell_type": "markdown",
   "metadata": {},
   "source": [
    "## Serve Single Model"
   ]
  },
  {
   "cell_type": "code",
   "execution_count": 9,
   "metadata": {},
   "outputs": [
    {
     "name": "stdout",
     "output_type": "stream",
     "text": [
      "\u001b[36mINFO\u001b[0m Writing component at '/home/clive/work/seldon-core/fork-seldon-core/notebooks/my-ml-deployment/components/mymodel.jsonnet' \n",
      "\u001b[36mINFO\u001b[0m Applying seldondeployments seldon.mymodel    \n",
      "\u001b[36mINFO\u001b[0m Creating non-existent seldondeployments seldon.mymodel \n"
     ]
    }
   ],
   "source": [
    "!cd my-ml-deployment && \\\n",
    "    ks generate seldon-serve-simple-v1alpha2 mymodel --image seldonio/mock_classifier:1.0 && \\\n",
    "    ks apply default -c mymodel"
   ]
  },
  {
   "cell_type": "code",
   "execution_count": 10,
   "metadata": {},
   "outputs": [
    {
     "name": "stdout",
     "output_type": "stream",
     "text": [
      "---\r\n",
      "apiVersion: machinelearning.seldon.io/v1alpha2\r\n",
      "kind: SeldonDeployment\r\n",
      "metadata:\r\n",
      "  labels:\r\n",
      "    app: seldon\r\n",
      "    ksonnet.io/component: mymodel\r\n",
      "  name: mymodel\r\n",
      "  namespace: seldon\r\n",
      "spec:\r\n",
      "  annotations:\r\n",
      "    deployment_version: v1\r\n",
      "    project_name: mymodel\r\n",
      "  name: mymodel\r\n",
      "  oauth_key: \"\"\r\n",
      "  oauth_secret: \"\"\r\n",
      "  predictors:\r\n",
      "  - annotations:\r\n",
      "      predictor_version: v1\r\n",
      "    componentSpecs:\r\n",
      "    - spec:\r\n",
      "        containers:\r\n",
      "        - image: seldonio/mock_classifier:1.0\r\n",
      "          imagePullPolicy: IfNotPresent\r\n",
      "          name: mymodel\r\n",
      "          volumeMounts: []\r\n",
      "        imagePullSecrets: []\r\n",
      "        terminationGracePeriodSeconds: 1\r\n",
      "        volumes: []\r\n",
      "    graph:\r\n",
      "      children: []\r\n",
      "      endpoint:\r\n",
      "        type: REST\r\n",
      "      name: mymodel\r\n",
      "      type: MODEL\r\n",
      "    name: mymodel\r\n",
      "    replicas: 1\r\n"
     ]
    }
   ],
   "source": [
    "!cd my-ml-deployment && \\\n",
    "    ks show default -c mymodel"
   ]
  },
  {
   "cell_type": "code",
   "execution_count": 11,
   "metadata": {},
   "outputs": [
    {
     "name": "stdout",
     "output_type": "stream",
     "text": [
      "Waiting for deployment \"mymodel-mymodel-025d03d\" rollout to finish: 0 of 1 updated replicas are available...\n",
      "deployment \"mymodel-mymodel-025d03d\" successfully rolled out\n"
     ]
    }
   ],
   "source": [
    "!kubectl rollout status deploy/mymodel-mymodel-025d03d"
   ]
  },
  {
   "cell_type": "markdown",
   "metadata": {},
   "source": [
    "### Get predictions"
   ]
  },
  {
   "cell_type": "code",
   "execution_count": 15,
   "metadata": {},
   "outputs": [],
   "source": [
    "from seldon_core.seldon_client import SeldonClient\n",
    "sc = SeldonClient(deployment_name=\"mymodel\",namespace=\"seldon\")"
   ]
  },
  {
   "cell_type": "markdown",
   "metadata": {},
   "source": [
    "#### REST Request"
   ]
  },
  {
   "cell_type": "code",
   "execution_count": 18,
   "metadata": {},
   "outputs": [
    {
     "name": "stdout",
     "output_type": "stream",
     "text": [
      "Success:True message:\n",
      "Request:\n",
      "data {\n",
      "  tensor {\n",
      "    shape: 1\n",
      "    shape: 1\n",
      "    values: 0.3077357174056141\n",
      "  }\n",
      "}\n",
      "\n",
      "Response:\n",
      "meta {\n",
      "  puid: \"r2g9qc0a9v3ovvbq20mmqhui4k\"\n",
      "  requestPath {\n",
      "    key: \"mymodel\"\n",
      "    value: \"seldonio/mock_classifier:1.0\"\n",
      "  }\n",
      "}\n",
      "data {\n",
      "  names: \"proba\"\n",
      "  tensor {\n",
      "    shape: 1\n",
      "    shape: 1\n",
      "    values: 0.0685658467096764\n",
      "  }\n",
      "}\n",
      "\n"
     ]
    }
   ],
   "source": [
    "r = sc.predict(gateway=\"ambassador\",transport=\"rest\")\n",
    "print(r)"
   ]
  },
  {
   "cell_type": "markdown",
   "metadata": {},
   "source": [
    "#### gRPC Request"
   ]
  },
  {
   "cell_type": "code",
   "execution_count": 19,
   "metadata": {},
   "outputs": [
    {
     "name": "stdout",
     "output_type": "stream",
     "text": [
      "Success:True message:\n",
      "Request:\n",
      "data {\n",
      "  tensor {\n",
      "    shape: 1\n",
      "    shape: 1\n",
      "    values: 0.3320692161726353\n",
      "  }\n",
      "}\n",
      "\n",
      "Response:\n",
      "meta {\n",
      "  puid: \"eqrnsmp4jpvjnestpnlba0a2ba\"\n",
      "  requestPath {\n",
      "    key: \"mymodel\"\n",
      "    value: \"seldonio/mock_classifier:1.0\"\n",
      "  }\n",
      "}\n",
      "data {\n",
      "  names: \"proba\"\n",
      "  tensor {\n",
      "    shape: 1\n",
      "    shape: 1\n",
      "    values: 0.07013630483204733\n",
      "  }\n",
      "}\n",
      "\n"
     ]
    }
   ],
   "source": [
    "r = sc.predict(gateway=\"ambassador\",transport=\"grpc\")\n",
    "print(r)"
   ]
  },
  {
   "cell_type": "code",
   "execution_count": 20,
   "metadata": {},
   "outputs": [
    {
     "name": "stdout",
     "output_type": "stream",
     "text": [
      "\u001b[36mINFO\u001b[0m Deleting seldondeployments seldon.mymodel    \n",
      "\u001b[36mINFO\u001b[0m removing environment component                \u001b[36mcomponent-name\u001b[0m=mymodel\n",
      "\u001b[36mINFO\u001b[0m Removing component parameter references ...  \n",
      "\u001b[36mINFO\u001b[0m Deleting component \"mymodel\"                 \n",
      "\u001b[36mINFO\u001b[0m Successfully deleted component 'mymodel'     \n"
     ]
    }
   ],
   "source": [
    "!cd my-ml-deployment && \\\n",
    "    ks delete default -c mymodel && \\\n",
    "    ks component rm mymodel"
   ]
  },
  {
   "cell_type": "markdown",
   "metadata": {},
   "source": [
    "## Serve AB Test"
   ]
  },
  {
   "cell_type": "code",
   "execution_count": 21,
   "metadata": {},
   "outputs": [
    {
     "name": "stdout",
     "output_type": "stream",
     "text": [
      "\u001b[36mINFO\u001b[0m Writing component at '/home/clive/work/seldon-core/fork-seldon-core/notebooks/my-ml-deployment/components/myabtest.jsonnet' \n",
      "\u001b[36mINFO\u001b[0m Applying seldondeployments seldon.myabtest   \n",
      "\u001b[36mINFO\u001b[0m Creating non-existent seldondeployments seldon.myabtest \n"
     ]
    }
   ],
   "source": [
    "!cd my-ml-deployment && \\\n",
    "    ks generate seldon-abtest-v1alpha2 myabtest --imageA seldonio/mock_classifier:1.0 --imageB seldonio/mock_classifier:1.0 && \\\n",
    "    ks apply default -c myabtest"
   ]
  },
  {
   "cell_type": "code",
   "execution_count": 22,
   "metadata": {},
   "outputs": [
    {
     "name": "stdout",
     "output_type": "stream",
     "text": [
      "---\r\n",
      "apiVersion: machinelearning.seldon.io/v1alpha2\r\n",
      "kind: SeldonDeployment\r\n",
      "metadata:\r\n",
      "  labels:\r\n",
      "    app: seldon\r\n",
      "    ksonnet.io/component: myabtest\r\n",
      "  name: myabtest\r\n",
      "  namespace: seldon\r\n",
      "spec:\r\n",
      "  annotations:\r\n",
      "    deployment_version: v1\r\n",
      "    project_name: myabtest\r\n",
      "  name: myabtest\r\n",
      "  oauth_key: \"\"\r\n",
      "  oauth_secret: \"\"\r\n",
      "  predictors:\r\n",
      "  - componentSpecs:\r\n",
      "    - metadata:\r\n",
      "        labels:\r\n",
      "          version: v2\r\n",
      "      spec:\r\n",
      "        containers:\r\n",
      "        - image: seldonio/mock_classifier:1.0\r\n",
      "          imagePullPolicy: IfNotPresent\r\n",
      "          name: classifier-1\r\n",
      "          volumeMounts: []\r\n",
      "        imagePullSecrets: []\r\n",
      "        terminationGracePeriodSeconds: 1\r\n",
      "        volumes: []\r\n",
      "    - metadata:\r\n",
      "        labels:\r\n",
      "          version: v2\r\n",
      "      spec:\r\n",
      "        containers:\r\n",
      "        - image: seldonio/mock_classifier:1.0\r\n",
      "          imagePullPolicy: IfNotPresent\r\n",
      "          name: classifier-2\r\n",
      "          volumeMounts: []\r\n",
      "        terminationGracePeriodSeconds: 1\r\n",
      "        volumes: []\r\n",
      "    graph:\r\n",
      "      children:\r\n",
      "      - children: []\r\n",
      "        endpoint:\r\n",
      "          type: REST\r\n",
      "        name: classifier-1\r\n",
      "        type: MODEL\r\n",
      "      - children: []\r\n",
      "        endpoint:\r\n",
      "          type: REST\r\n",
      "        name: classifier-2\r\n",
      "        type: MODEL\r\n",
      "      endpoint: {}\r\n",
      "      implementation: RANDOM_ABTEST\r\n",
      "      name: random-ab-test\r\n",
      "      parameters:\r\n",
      "      - name: ratioA\r\n",
      "        type: FLOAT\r\n",
      "        value: \"0.5\"\r\n",
      "    name: myabtest\r\n",
      "    replicas: 1\r\n"
     ]
    }
   ],
   "source": [
    "!cd my-ml-deployment && \\\n",
    "    ks show default -c myabtest"
   ]
  },
  {
   "cell_type": "code",
   "execution_count": 23,
   "metadata": {},
   "outputs": [
    {
     "name": "stdout",
     "output_type": "stream",
     "text": [
      "deployment \"myabtest-myabtest-41de5b8\" successfully rolled out\n",
      "deployment \"myabtest-myabtest-df66c5c\" successfully rolled out\n"
     ]
    }
   ],
   "source": [
    "!kubectl rollout status deploy/myabtest-myabtest-41de5b8\n",
    "!kubectl rollout status deploy/myabtest-myabtest-df66c5c"
   ]
  },
  {
   "cell_type": "markdown",
   "metadata": {},
   "source": [
    "### Get predictions"
   ]
  },
  {
   "cell_type": "code",
   "execution_count": 25,
   "metadata": {},
   "outputs": [],
   "source": [
    "from seldon_core.seldon_client import SeldonClient\n",
    "sc = SeldonClient(deployment_name=\"myabtest\",namespace=\"seldon\")"
   ]
  },
  {
   "cell_type": "markdown",
   "metadata": {},
   "source": [
    "#### REST Request"
   ]
  },
  {
   "cell_type": "code",
   "execution_count": 26,
   "metadata": {},
   "outputs": [
    {
     "name": "stdout",
     "output_type": "stream",
     "text": [
      "Success:True message:\n",
      "Request:\n",
      "data {\n",
      "  tensor {\n",
      "    shape: 1\n",
      "    shape: 1\n",
      "    values: 0.34230611444081804\n",
      "  }\n",
      "}\n",
      "\n",
      "Response:\n",
      "meta {\n",
      "  puid: \"v24do7e1ehu7j4v2ancsa7vkl0\"\n",
      "  routing {\n",
      "    key: \"random-ab-test\"\n",
      "    value: 1\n",
      "  }\n",
      "  requestPath {\n",
      "    key: \"classifier-2\"\n",
      "    value: \"seldonio/mock_classifier:1.0\"\n",
      "  }\n",
      "  requestPath {\n",
      "    key: \"random-ab-test\"\n",
      "  }\n",
      "}\n",
      "data {\n",
      "  names: \"proba\"\n",
      "  tensor {\n",
      "    shape: 1\n",
      "    shape: 1\n",
      "    values: 0.07080687166429585\n",
      "  }\n",
      "}\n",
      "\n"
     ]
    }
   ],
   "source": [
    "r = sc.predict(gateway=\"ambassador\",transport=\"rest\")\n",
    "print(r)"
   ]
  },
  {
   "cell_type": "markdown",
   "metadata": {},
   "source": [
    "#### gRPC Request"
   ]
  },
  {
   "cell_type": "code",
   "execution_count": 27,
   "metadata": {},
   "outputs": [
    {
     "name": "stdout",
     "output_type": "stream",
     "text": [
      "Success:True message:\n",
      "Request:\n",
      "data {\n",
      "  tensor {\n",
      "    shape: 1\n",
      "    shape: 1\n",
      "    values: 0.8980743238334664\n",
      "  }\n",
      "}\n",
      "\n",
      "Response:\n",
      "meta {\n",
      "  puid: \"hpprtlr3vnmrm7p0sajgpsfqsh\"\n",
      "  routing {\n",
      "    key: \"random-ab-test\"\n",
      "  }\n",
      "  requestPath {\n",
      "    key: \"classifier-1\"\n",
      "    value: \"seldonio/mock_classifier:1.0\"\n",
      "  }\n",
      "  requestPath {\n",
      "    key: \"random-ab-test\"\n",
      "  }\n",
      "}\n",
      "data {\n",
      "  names: \"proba\"\n",
      "  tensor {\n",
      "    shape: 1\n",
      "    shape: 1\n",
      "    values: 0.11726462409634174\n",
      "  }\n",
      "}\n",
      "\n"
     ]
    }
   ],
   "source": [
    "r = sc.predict(gateway=\"ambassador\",transport=\"grpc\")\n",
    "print(r)"
   ]
  },
  {
   "cell_type": "code",
   "execution_count": 28,
   "metadata": {},
   "outputs": [
    {
     "name": "stdout",
     "output_type": "stream",
     "text": [
      "\u001b[36mINFO\u001b[0m Deleting seldondeployments seldon.myabtest   \n",
      "\u001b[36mINFO\u001b[0m removing environment component                \u001b[36mcomponent-name\u001b[0m=myabtest\n",
      "\u001b[36mINFO\u001b[0m Removing component parameter references ...  \n",
      "\u001b[36mINFO\u001b[0m Deleting component \"myabtest\"                \n",
      "\u001b[36mINFO\u001b[0m Successfully deleted component 'myabtest'    \n"
     ]
    }
   ],
   "source": [
    "!cd my-ml-deployment && \\\n",
    "    ks delete default -c myabtest && \\\n",
    "    ks component rm myabtest"
   ]
  },
  {
   "cell_type": "markdown",
   "metadata": {},
   "source": [
    "## Serve Multi-Armed Bandit"
   ]
  },
  {
   "cell_type": "code",
   "execution_count": 29,
   "metadata": {},
   "outputs": [
    {
     "name": "stdout",
     "output_type": "stream",
     "text": [
      "\u001b[36mINFO\u001b[0m Writing component at '/home/clive/work/seldon-core/fork-seldon-core/notebooks/my-ml-deployment/components/mymab.jsonnet' \n",
      "\u001b[36mINFO\u001b[0m Applying seldondeployments seldon.mymab      \n",
      "\u001b[36mINFO\u001b[0m Creating non-existent seldondeployments seldon.mymab \n"
     ]
    }
   ],
   "source": [
    "!cd my-ml-deployment && \\\n",
    "    ks generate seldon-mab-v1alpha2 mymab --imageA seldonio/mock_classifier:1.0 --imageB seldonio/mock_classifier:1.0 && \\\n",
    "    ks apply default -c mymab"
   ]
  },
  {
   "cell_type": "code",
   "execution_count": 30,
   "metadata": {},
   "outputs": [
    {
     "name": "stdout",
     "output_type": "stream",
     "text": [
      "---\n",
      "apiVersion: machinelearning.seldon.io/v1alpha2\n",
      "kind: SeldonDeployment\n",
      "metadata:\n",
      "  labels:\n",
      "    app: seldon\n",
      "    ksonnet.io/component: mymab\n",
      "  name: mymab\n",
      "  namespace: seldon\n",
      "spec:\n",
      "  annotations:\n",
      "    deployment_version: v1\n",
      "    project_name: mymab\n",
      "  name: mymab\n",
      "  oauth_key: \"\"\n",
      "  oauth_secret: \"\"\n",
      "  predictors:\n",
      "  - componentSpecs:\n",
      "    - metadata:\n",
      "        labels:\n",
      "          version: v1\n",
      "      spec:\n",
      "        containers:\n",
      "        - image: seldonio/mock_classifier:1.0\n",
      "          imagePullPolicy: IfNotPresent\n",
      "          name: classifier-1\n",
      "          volumeMounts: []\n",
      "        imagePullSecrets: []\n",
      "        terminationGracePeriodSeconds: 1\n",
      "        volumes: []\n",
      "    - metadata:\n",
      "        labels:\n",
      "          version: v2\n",
      "      spec:\n",
      "        containers:\n",
      "        - image: seldonio/mock_classifier:1.0\n",
      "          imagePullPolicy: IfNotPresent\n",
      "          name: classifier-2\n",
      "          volumeMounts: []\n",
      "        imagePullSecrets: []\n",
      "        terminationGracePeriodSeconds: 1\n",
      "        volumes: []\n",
      "    - spec:\n",
      "        containers:\n",
      "        - image: seldonio/mab_epsilon_greedy:1.1\n",
      "          imagePullPolicy: IfNotPresent\n",
      "          name: eg-router\n",
      "        terminationGracePeriodSeconds: 1\n",
      "    graph:\n",
      "      children:\n",
      "      - children: []\n",
      "        endpoint:\n",
      "          type: REST\n",
      "        name: classifier-1\n",
      "        type: MODEL\n",
      "      - children: []\n",
      "        endpoint:\n",
      "          type: REST\n",
      "        name: classifier-2\n",
      "        type: MODEL\n",
      "      name: eg-router\n",
      "      parameters:\n",
      "      - name: n_branches\n",
      "        type: INT\n",
      "        value: \"2\"\n",
      "      - name: epsilon\n",
      "        type: FLOAT\n",
      "        value: \"0.2\"\n",
      "      - name: verbose\n",
      "        type: BOOL\n",
      "        value: \"1\"\n",
      "      type: ROUTER\n",
      "    name: mymab\n",
      "    replicas: 1\n"
     ]
    }
   ],
   "source": [
    "!cd my-ml-deployment && \\\n",
    "    ks show default -c mymab"
   ]
  },
  {
   "cell_type": "code",
   "execution_count": 31,
   "metadata": {},
   "outputs": [
    {
     "name": "stdout",
     "output_type": "stream",
     "text": [
      "Waiting for deployment \"mymab-mymab-41de5b8\" rollout to finish: 0 of 1 updated replicas are available...\n",
      "deployment \"mymab-mymab-41de5b8\" successfully rolled out\n",
      "deployment \"mymab-mymab-b8038b2\" successfully rolled out\n",
      "deployment \"mymab-mymab-df66c5c\" successfully rolled out\n"
     ]
    }
   ],
   "source": [
    "!kubectl rollout status deploy/mymab-mymab-41de5b8\n",
    "!kubectl rollout status deploy/mymab-mymab-b8038b2\n",
    "!kubectl rollout status deploy/mymab-mymab-df66c5c"
   ]
  },
  {
   "cell_type": "markdown",
   "metadata": {},
   "source": [
    "### Get predictions"
   ]
  },
  {
   "cell_type": "code",
   "execution_count": 32,
   "metadata": {},
   "outputs": [],
   "source": [
    "from seldon_core.seldon_client import SeldonClient\n",
    "sc = SeldonClient(deployment_name=\"mymab\",namespace=\"seldon\")"
   ]
  },
  {
   "cell_type": "markdown",
   "metadata": {},
   "source": [
    "#### REST Request"
   ]
  },
  {
   "cell_type": "code",
   "execution_count": 33,
   "metadata": {},
   "outputs": [
    {
     "name": "stdout",
     "output_type": "stream",
     "text": [
      "Success:True message:\n",
      "Request:\n",
      "data {\n",
      "  tensor {\n",
      "    shape: 1\n",
      "    shape: 1\n",
      "    values: 0.9709451633810755\n",
      "  }\n",
      "}\n",
      "\n",
      "Response:\n",
      "meta {\n",
      "  puid: \"7iupu7jv64h11s3fn28nt0did0\"\n",
      "  routing {\n",
      "    key: \"eg-router\"\n",
      "  }\n",
      "  requestPath {\n",
      "    key: \"classifier-1\"\n",
      "    value: \"seldonio/mock_classifier:1.0\"\n",
      "  }\n",
      "  requestPath {\n",
      "    key: \"eg-router\"\n",
      "    value: \"seldonio/mab_epsilon_greedy:1.1\"\n",
      "  }\n",
      "}\n",
      "data {\n",
      "  names: \"proba\"\n",
      "  tensor {\n",
      "    shape: 1\n",
      "    shape: 1\n",
      "    values: 0.12502063459073778\n",
      "  }\n",
      "}\n",
      "\n"
     ]
    }
   ],
   "source": [
    "r = sc.predict(gateway=\"ambassador\",transport=\"rest\")\n",
    "print(r)"
   ]
  },
  {
   "cell_type": "markdown",
   "metadata": {},
   "source": [
    "#### gRPC Request"
   ]
  },
  {
   "cell_type": "code",
   "execution_count": 36,
   "metadata": {},
   "outputs": [
    {
     "name": "stdout",
     "output_type": "stream",
     "text": [
      "Success:True message:\n",
      "Request:\n",
      "data {\n",
      "  tensor {\n",
      "    shape: 1\n",
      "    shape: 1\n",
      "    values: 0.5866844650685953\n",
      "  }\n",
      "}\n",
      "\n",
      "Response:\n",
      "meta {\n",
      "  puid: \"5j836klt3kvsiqj6ujm7rho59d\"\n",
      "  routing {\n",
      "    key: \"eg-router\"\n",
      "    value: 1\n",
      "  }\n",
      "  requestPath {\n",
      "    key: \"classifier-2\"\n",
      "    value: \"seldonio/mock_classifier:1.0\"\n",
      "  }\n",
      "  requestPath {\n",
      "    key: \"eg-router\"\n",
      "    value: \"seldonio/mab_epsilon_greedy:1.1\"\n",
      "  }\n",
      "}\n",
      "data {\n",
      "  names: \"proba\"\n",
      "  tensor {\n",
      "    shape: 1\n",
      "    shape: 1\n",
      "    values: 0.08867010149238716\n",
      "  }\n",
      "}\n",
      "\n"
     ]
    }
   ],
   "source": [
    "r = sc.predict(gateway=\"ambassador\",transport=\"grpc\")\n",
    "print(r)"
   ]
  },
  {
   "cell_type": "code",
   "execution_count": 37,
   "metadata": {},
   "outputs": [
    {
     "name": "stdout",
     "output_type": "stream",
     "text": [
      "\u001b[36mINFO\u001b[0m Deleting seldondeployments seldon.mymab      \n",
      "\u001b[36mINFO\u001b[0m removing environment component                \u001b[36mcomponent-name\u001b[0m=mymab\n",
      "\u001b[36mINFO\u001b[0m Removing component parameter references ...  \n",
      "\u001b[36mINFO\u001b[0m Deleting component \"mymab\"                   \n",
      "\u001b[36mINFO\u001b[0m Successfully deleted component 'mymab'       \n"
     ]
    }
   ],
   "source": [
    "!cd my-ml-deployment && \\\n",
    "    ks delete default -c mymab && \\\n",
    "    ks component rm mymab"
   ]
  },
  {
   "cell_type": "markdown",
   "metadata": {},
   "source": [
    "## Tear down"
   ]
  },
  {
   "cell_type": "code",
   "execution_count": 38,
   "metadata": {},
   "outputs": [],
   "source": [
    "!rm -rf my-ml-deployment"
   ]
  },
  {
   "cell_type": "code",
   "execution_count": null,
   "metadata": {},
   "outputs": [],
   "source": []
  }
 ],
 "metadata": {
  "anaconda-cloud": {},
  "kernelspec": {
   "display_name": "Python 3",
   "language": "python",
   "name": "python3"
  },
  "language_info": {
   "codemirror_mode": {
    "name": "ipython",
    "version": 3
   },
   "file_extension": ".py",
   "mimetype": "text/x-python",
   "name": "python",
   "nbconvert_exporter": "python",
   "pygments_lexer": "ipython3",
   "version": "3.6.4"
  },
  "varInspector": {
   "cols": {
    "lenName": 16,
    "lenType": 16,
    "lenVar": 40
   },
   "kernels_config": {
    "python": {
     "delete_cmd_postfix": "",
     "delete_cmd_prefix": "del ",
     "library": "var_list.py",
     "varRefreshCmd": "print(var_dic_list())"
    },
    "r": {
     "delete_cmd_postfix": ") ",
     "delete_cmd_prefix": "rm(",
     "library": "var_list.r",
     "varRefreshCmd": "cat(var_dic_list()) "
    }
   },
   "types_to_exclude": [
    "module",
    "function",
    "builtin_function_or_method",
    "instance",
    "_Feature"
   ],
   "window_display": false
  }
 },
 "nbformat": 4,
 "nbformat_minor": 1
}
