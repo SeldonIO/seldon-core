{
 "cells": [
  {
   "cell_type": "markdown",
   "metadata": {},
   "source": [
    "# Example Seldon Core Deployments using Ksonnet\n"
   ]
  },
  {
   "cell_type": "markdown",
   "metadata": {},
   "source": [
    "## Prerequistes\n",
    "You will need\n",
    " - [Git clone of Seldon Core](https://github.com/SeldonIO/seldon-core)\n",
    " - A running Kubernetes cluster with kubectl authenticated\n",
    " - [seldon-core Python package](https://pypi.org/project/seldon-core/) (```pip install seldon-core```)\n",
    " - [ksonnet client](https://ksonnet.io/)"
   ]
  },
  {
   "cell_type": "markdown",
   "metadata": {},
   "source": [
    "### Creating a Kubernetes Cluster\n",
    "\n",
    "Follow the [Kubernetes documentation to create a cluster](https://kubernetes.io/docs/setup/).\n",
    "\n",
    "Once created ensure ```kubectl``` is authenticated against the running cluster."
   ]
  },
  {
   "cell_type": "markdown",
   "metadata": {},
   "source": [
    "## Setup"
   ]
  },
  {
   "cell_type": "markdown",
   "metadata": {},
   "source": [
    "** If running on GCP then run following to add cluster-admin to your user account **"
   ]
  },
  {
   "cell_type": "code",
   "execution_count": null,
   "metadata": {},
   "outputs": [],
   "source": [
    "!kubectl create clusterrolebinding my-cluster-admin-binding --clusterrole=cluster-admin --user=$(gcloud info --format=\"value(config.account)\")"
   ]
  },
  {
   "cell_type": "markdown",
   "metadata": {},
   "source": [
    "On most clusters you will probably need to add cluster-admin privledges"
   ]
  },
  {
   "cell_type": "code",
   "execution_count": 1,
   "metadata": {},
   "outputs": [
    {
     "name": "stdout",
     "output_type": "stream",
     "text": [
      "clusterrolebinding.rbac.authorization.k8s.io/kube-system-cluster-admin created\r\n"
     ]
    }
   ],
   "source": [
    "!kubectl create clusterrolebinding kube-system-cluster-admin --clusterrole=cluster-admin --serviceaccount=kube-system:default"
   ]
  },
  {
   "cell_type": "code",
   "execution_count": 2,
   "metadata": {},
   "outputs": [
    {
     "name": "stdout",
     "output_type": "stream",
     "text": [
      "namespace/seldon created\r\n"
     ]
    }
   ],
   "source": [
    "!kubectl create namespace seldon"
   ]
  },
  {
   "cell_type": "code",
   "execution_count": 3,
   "metadata": {},
   "outputs": [
    {
     "name": "stdout",
     "output_type": "stream",
     "text": [
      "Context \"minikube\" modified.\r\n"
     ]
    }
   ],
   "source": [
    "!kubectl config set-context $(kubectl config current-context) --namespace=seldon"
   ]
  },
  {
   "cell_type": "markdown",
   "metadata": {},
   "source": [
    "## Install Seldon Core\n",
    "Create a ksonnet app and install the prototypes from our registry."
   ]
  },
  {
   "cell_type": "code",
   "execution_count": 4,
   "metadata": {},
   "outputs": [
    {
     "name": "stdout",
     "output_type": "stream",
     "text": [
      "\u001b[36mINFO\u001b[0m Using context \"minikube\" from kubeconfig file \"/home/janis/.kube/config\" \n",
      "\u001b[36mINFO\u001b[0m Creating environment \"default\" with namespace \"seldon\", pointing to \"version:v1.10.0\" cluster at address \"https://192.168.39.39:8443\" \n",
      "\u001b[36mINFO\u001b[0m Generating ksonnet-lib data at path '/home/janis/work/GIT/fork-seldon-core/notebooks/my-ml-deployment/lib/ksonnet-lib/v1.10.0' \n"
     ]
    }
   ],
   "source": [
    "!rm -rf my-ml-deployment && ks init my-ml-deployment "
   ]
  },
  {
   "cell_type": "code",
   "execution_count": 5,
   "metadata": {},
   "outputs": [
    {
     "name": "stdout",
     "output_type": "stream",
     "text": [
      "\u001b[36mINFO\u001b[0m Retrieved 19 files                           \n",
      "\u001b[36mINFO\u001b[0m Writing component at '/home/janis/work/GIT/fork-seldon-core/notebooks/my-ml-deployment/components/seldon-core.jsonnet' \n"
     ]
    }
   ],
   "source": [
    "!cd my-ml-deployment && \\\n",
    "    ks registry add seldon-core ../../seldon-core && \\\n",
    "    ks pkg install seldon-core/seldon-core@master && \\\n",
    "    ks generate seldon-core seldon-core --withApife=false --withAmbassador=true --singleNamespace=true --namespace=seldon --withRbac=true"
   ]
  },
  {
   "cell_type": "code",
   "execution_count": 6,
   "metadata": {},
   "outputs": [
    {
     "name": "stdout",
     "output_type": "stream",
     "text": [
      "\u001b[36mINFO\u001b[0m Applying serviceaccounts seldon.seldon       \n",
      "\u001b[36mINFO\u001b[0m Creating non-existent serviceaccounts seldon.seldon \n",
      "\u001b[36mINFO\u001b[0m Applying roles seldon.seldon-local           \n",
      "\u001b[36mINFO\u001b[0m Creating non-existent roles seldon.seldon-local \n",
      "\u001b[36mINFO\u001b[0m Applying rolebindings seldon.seldon          \n",
      "\u001b[36mINFO\u001b[0m Creating non-existent rolebindings seldon.seldon \n",
      "\u001b[36mINFO\u001b[0m Applying deployments seldon.seldon-core-seldon-cluster-manager \n",
      "\u001b[36mINFO\u001b[0m Creating non-existent deployments seldon.seldon-core-seldon-cluster-manager \n",
      "\u001b[36mINFO\u001b[0m Applying deployments seldon.seldon-core-redis \n",
      "\u001b[36mINFO\u001b[0m Creating non-existent deployments seldon.seldon-core-redis \n",
      "\u001b[36mINFO\u001b[0m Applying services seldon.seldon-core-redis   \n",
      "\u001b[36mINFO\u001b[0m Creating non-existent services seldon.seldon-core-redis \n",
      "\u001b[36mINFO\u001b[0m Applying customresourcedefinitions seldondeployments.machinelearning.seldon.io \n",
      "\u001b[36mINFO\u001b[0m Creating non-existent customresourcedefinitions seldondeployments.machinelearning.seldon.io \n",
      "\u001b[36mINFO\u001b[0m Applying roles seldon.ambassador             \n",
      "\u001b[36mINFO\u001b[0m Creating non-existent roles seldon.ambassador \n",
      "\u001b[36mINFO\u001b[0m Applying rolebindings seldon.ambassador      \n",
      "\u001b[36mINFO\u001b[0m Creating non-existent rolebindings seldon.ambassador \n",
      "\u001b[36mINFO\u001b[0m Applying deployments seldon.seldon-core-ambassador \n",
      "\u001b[36mINFO\u001b[0m Creating non-existent deployments seldon.seldon-core-ambassador \n",
      "\u001b[36mINFO\u001b[0m Applying services seldon.seldon-core-ambassador \n",
      "\u001b[36mINFO\u001b[0m Creating non-existent services seldon.seldon-core-ambassador \n"
     ]
    }
   ],
   "source": [
    "!cd my-ml-deployment && \\\n",
    "      ks apply default"
   ]
  },
  {
   "cell_type": "code",
   "execution_count": 7,
   "metadata": {},
   "outputs": [
    {
     "name": "stdout",
     "output_type": "stream",
     "text": [
      "Waiting for deployment \"seldon-core-seldon-cluster-manager\" rollout to finish: 0 of 1 updated replicas are available...\n",
      "deployment \"seldon-core-seldon-cluster-manager\" successfully rolled out\n",
      "Waiting for deployment \"seldon-core-ambassador\" rollout to finish: 0 of 1 updated replicas are available...\n",
      "deployment \"seldon-core-ambassador\" successfully rolled out\n"
     ]
    }
   ],
   "source": [
    "!kubectl rollout status deploy/seldon-core-seldon-cluster-manager\n",
    "!kubectl rollout status deploy/seldon-core-ambassador"
   ]
  },
  {
   "cell_type": "markdown",
   "metadata": {},
   "source": [
    "## Set up REST and gRPC methods\n",
    "\n",
    "**Ensure you port forward ambassador**:\n",
    "\n",
    "```\n",
    "kubectl port-forward $(kubectl get pods -n seldon -l service=ambassador -o jsonpath='{.items[0].metadata.name}') -n seldon 8003:8080\n",
    "```"
   ]
  },
  {
   "cell_type": "markdown",
   "metadata": {},
   "source": [
    "## Serve Single Model"
   ]
  },
  {
   "cell_type": "code",
   "execution_count": 8,
   "metadata": {},
   "outputs": [
    {
     "name": "stdout",
     "output_type": "stream",
     "text": [
      "\u001b[36mINFO\u001b[0m Writing component at '/home/janis/work/GIT/fork-seldon-core/notebooks/my-ml-deployment/components/mymodel.jsonnet' \n",
      "\u001b[36mINFO\u001b[0m Applying seldondeployments seldon.mymodel    \n",
      "\u001b[36mINFO\u001b[0m Creating non-existent seldondeployments seldon.mymodel \n"
     ]
    }
   ],
   "source": [
    "!cd my-ml-deployment && \\\n",
    "    ks generate seldon-serve-simple-v1alpha2 mymodel --image seldonio/mock_classifier:1.0 && \\\n",
    "    ks apply default -c mymodel"
   ]
  },
  {
   "cell_type": "code",
   "execution_count": 9,
   "metadata": {},
   "outputs": [
    {
     "name": "stdout",
     "output_type": "stream",
     "text": [
      "---\r\n",
      "apiVersion: machinelearning.seldon.io/v1alpha2\r\n",
      "kind: SeldonDeployment\r\n",
      "metadata:\r\n",
      "  labels:\r\n",
      "    app: seldon\r\n",
      "    ksonnet.io/component: mymodel\r\n",
      "  name: mymodel\r\n",
      "  namespace: seldon\r\n",
      "spec:\r\n",
      "  annotations:\r\n",
      "    deployment_version: v1\r\n",
      "    project_name: mymodel\r\n",
      "  name: mymodel\r\n",
      "  oauth_key: \"\"\r\n",
      "  oauth_secret: \"\"\r\n",
      "  predictors:\r\n",
      "  - annotations:\r\n",
      "      predictor_version: v1\r\n",
      "    componentSpecs:\r\n",
      "    - spec:\r\n",
      "        containers:\r\n",
      "        - image: seldonio/mock_classifier:1.0\r\n",
      "          imagePullPolicy: IfNotPresent\r\n",
      "          name: mymodel\r\n",
      "          volumeMounts: []\r\n",
      "        imagePullSecrets: []\r\n",
      "        terminationGracePeriodSeconds: 1\r\n",
      "        volumes: []\r\n",
      "    graph:\r\n",
      "      children: []\r\n",
      "      endpoint:\r\n",
      "        type: REST\r\n",
      "      name: mymodel\r\n",
      "      type: MODEL\r\n",
      "    name: mymodel\r\n",
      "    replicas: 1\r\n"
     ]
    }
   ],
   "source": [
    "!cd my-ml-deployment && \\\n",
    "    ks show default -c mymodel"
   ]
  },
  {
   "cell_type": "code",
   "execution_count": 11,
   "metadata": {},
   "outputs": [
    {
     "name": "stdout",
     "output_type": "stream",
     "text": [
      "deployment \"mymodel-mymodel-025d03d\" successfully rolled out\r\n"
     ]
    }
   ],
   "source": [
    "!kubectl rollout status deploy/mymodel-mymodel-025d03d"
   ]
  },
  {
   "cell_type": "markdown",
   "metadata": {},
   "source": [
    "Check status of deployment before continuing. **ReplicasAvailable must be equal to 1**  First time might take some time to download images."
   ]
  },
  {
   "cell_type": "code",
   "execution_count": 12,
   "metadata": {},
   "outputs": [
    {
     "name": "stdout",
     "output_type": "stream",
     "text": [
      "map[predictorStatus:[map[replicasAvailable:1 name:mymodel-mymodel-025d03d replicas:1]] state:Available]"
     ]
    }
   ],
   "source": [
    "!kubectl get seldondeployments mymodel -o jsonpath='{.status}' -n seldon"
   ]
  },
  {
   "cell_type": "markdown",
   "metadata": {},
   "source": [
    "### Get predictions"
   ]
  },
  {
   "cell_type": "code",
   "execution_count": 13,
   "metadata": {},
   "outputs": [],
   "source": [
    "from seldon_utils import *\n",
    "API_AMBASSADOR=\"localhost:8003\""
   ]
  },
  {
   "cell_type": "markdown",
   "metadata": {},
   "source": [
    "#### REST Request"
   ]
  },
  {
   "cell_type": "code",
   "execution_count": 14,
   "metadata": {
    "scrolled": true
   },
   "outputs": [
    {
     "name": "stdout",
     "output_type": "stream",
     "text": [
      "{\n",
      "  \"meta\": {\n",
      "    \"puid\": \"tgb7rk48pdimp09hc3701jine2\",\n",
      "    \"tags\": {\n",
      "    },\n",
      "    \"routing\": {\n",
      "    },\n",
      "    \"requestPath\": {\n",
      "      \"mymodel\": \"seldonio/mock_classifier:1.0\"\n",
      "    },\n",
      "    \"metrics\": []\n",
      "  },\n",
      "  \"data\": {\n",
      "    \"names\": [\"proba\"],\n",
      "    \"tensor\": {\n",
      "      \"shape\": [1, 1],\n",
      "      \"values\": [0.07171238690173394]\n",
      "    }\n",
      "  }\n",
      "}\n"
     ]
    }
   ],
   "source": [
    "r = rest_request_ambassador(\"mymodel\",\"seldon\",API_AMBASSADOR)\n",
    "print(r.text)"
   ]
  },
  {
   "cell_type": "markdown",
   "metadata": {},
   "source": [
    "#### gRPC Request"
   ]
  },
  {
   "cell_type": "code",
   "execution_count": 15,
   "metadata": {
    "scrolled": true
   },
   "outputs": [
    {
     "data": {
      "text/plain": [
       "meta {\n",
       "  puid: \"df7jplbnco4s5nlaghc81fhb7l\"\n",
       "  requestPath {\n",
       "    key: \"mymodel\"\n",
       "    value: \"seldonio/mock_classifier:1.0\"\n",
       "  }\n",
       "}\n",
       "data {\n",
       "  names: \"proba\"\n",
       "  tensor {\n",
       "    shape: 1\n",
       "    shape: 1\n",
       "    values: 0.09636088827481233\n",
       "  }\n",
       "}"
      ]
     },
     "execution_count": 15,
     "metadata": {},
     "output_type": "execute_result"
    }
   ],
   "source": [
    "grpc_request_ambassador(\"mymodel\",\"seldon\",API_AMBASSADOR)"
   ]
  },
  {
   "cell_type": "markdown",
   "metadata": {},
   "source": [
    "## Adding Authentication\n",
    "We will add the example authentication from the Ambassador tutorial."
   ]
  },
  {
   "cell_type": "code",
   "execution_count": 16,
   "metadata": {},
   "outputs": [
    {
     "name": "stdout",
     "output_type": "stream",
     "text": [
      "service/example-auth created\r\n",
      "deployment.extensions/example-auth created\r\n"
     ]
    }
   ],
   "source": [
    "!kubectl apply -f resources/ambassador-auth-service-setup.yaml -n seldon"
   ]
  },
  {
   "cell_type": "markdown",
   "metadata": {},
   "source": [
    "** Need to wait until running before adding Ambassador config **"
   ]
  },
  {
   "cell_type": "code",
   "execution_count": 18,
   "metadata": {},
   "outputs": [
    {
     "name": "stdout",
     "output_type": "stream",
     "text": [
      "NAME                                                  READY   STATUS    RESTARTS   AGE\r\n",
      "example-auth-776ddb4c48-t6vwg                         1/1     Running   0          22s\r\n",
      "mymodel-mymodel-025d03d-f4575bd8d-smr4f               2/2     Running   0          1m\r\n",
      "seldon-core-ambassador-56cb8fc595-fj7dk               1/1     Running   0          3m\r\n",
      "seldon-core-redis-6b6fc94548-pjzmz                    1/1     Running   0          3m\r\n",
      "seldon-core-seldon-cluster-manager-75b6594d5d-jr5wt   1/1     Running   0          3m\r\n"
     ]
    }
   ],
   "source": [
    "!kubectl get pods -n seldon"
   ]
  },
  {
   "cell_type": "code",
   "execution_count": 19,
   "metadata": {},
   "outputs": [
    {
     "name": "stdout",
     "output_type": "stream",
     "text": [
      "service/example-auth configured\r\n"
     ]
    }
   ],
   "source": [
    "!kubectl apply -f resources/ambassador-auth-service-config.yaml -n seldon"
   ]
  },
  {
   "cell_type": "markdown",
   "metadata": {},
   "source": [
    "Show failed request when auth is running"
   ]
  },
  {
   "cell_type": "code",
   "execution_count": 20,
   "metadata": {},
   "outputs": [
    {
     "data": {
      "text/plain": [
       "<Response [401]>"
      ]
     },
     "execution_count": 20,
     "metadata": {},
     "output_type": "execute_result"
    }
   ],
   "source": [
    "rest_request_ambassador(\"mymodel\",\"seldon\",API_AMBASSADOR)"
   ]
  },
  {
   "cell_type": "markdown",
   "metadata": {},
   "source": [
    "Show successful request with auth"
   ]
  },
  {
   "cell_type": "code",
   "execution_count": 21,
   "metadata": {},
   "outputs": [
    {
     "name": "stdout",
     "output_type": "stream",
     "text": [
      "{\n",
      "  \"meta\": {\n",
      "    \"puid\": \"tedd04rin2ld8u0rhrhgeq8l90\",\n",
      "    \"tags\": {\n",
      "    },\n",
      "    \"routing\": {\n",
      "    },\n",
      "    \"requestPath\": {\n",
      "      \"mymodel\": \"seldonio/mock_classifier:1.0\"\n",
      "    },\n",
      "    \"metrics\": []\n",
      "  },\n",
      "  \"data\": {\n",
      "    \"names\": [\"proba\"],\n",
      "    \"tensor\": {\n",
      "      \"shape\": [1, 1],\n",
      "      \"values\": [0.08904803265413255]\n",
      "    }\n",
      "  }\n",
      "}\n"
     ]
    }
   ],
   "source": [
    "r = rest_request_ambassador_auth(\"mymodel\",\"seldon\",\"username\",\"password\",API_AMBASSADOR)\n",
    "print(r.text)"
   ]
  },
  {
   "cell_type": "code",
   "execution_count": 22,
   "metadata": {},
   "outputs": [
    {
     "name": "stdout",
     "output_type": "stream",
     "text": [
      "service \"example-auth\" deleted\n",
      "deployment.extensions \"example-auth\" deleted\n"
     ]
    }
   ],
   "source": [
    "!kubectl delete -f resources/ambassador-auth-service-setup.yaml -n seldon"
   ]
  },
  {
   "cell_type": "code",
   "execution_count": 23,
   "metadata": {},
   "outputs": [
    {
     "name": "stdout",
     "output_type": "stream",
     "text": [
      "\u001b[36mINFO\u001b[0m Deleting seldondeployments seldon.mymodel    \n",
      "\u001b[36mINFO\u001b[0m removing environment component                \u001b[36mcomponent-name\u001b[0m=mymodel\n",
      "\u001b[36mINFO\u001b[0m Removing component parameter references ...  \n",
      "\u001b[36mINFO\u001b[0m Deleting component \"mymodel\"                 \n",
      "\u001b[36mINFO\u001b[0m Successfully deleted component 'mymodel'     \n"
     ]
    }
   ],
   "source": [
    "!cd my-ml-deployment && \\\n",
    "    ks delete default -c mymodel && \\\n",
    "    ks component rm mymodel"
   ]
  },
  {
   "cell_type": "markdown",
   "metadata": {},
   "source": [
    "## Serve AB Test"
   ]
  },
  {
   "cell_type": "code",
   "execution_count": 24,
   "metadata": {},
   "outputs": [
    {
     "name": "stdout",
     "output_type": "stream",
     "text": [
      "\u001b[36mINFO\u001b[0m Writing component at '/home/janis/work/GIT/fork-seldon-core/notebooks/my-ml-deployment/components/myabtest.jsonnet' \n",
      "\u001b[36mINFO\u001b[0m Applying seldondeployments seldon.myabtest   \n",
      "\u001b[36mINFO\u001b[0m Creating non-existent seldondeployments seldon.myabtest \n"
     ]
    }
   ],
   "source": [
    "!cd my-ml-deployment && \\\n",
    "    ks generate seldon-abtest-v1alpha2 myabtest --imageA seldonio/mock_classifier:1.0 --imageB seldonio/mock_classifier:1.0 && \\\n",
    "    ks apply default -c myabtest"
   ]
  },
  {
   "cell_type": "code",
   "execution_count": 25,
   "metadata": {},
   "outputs": [
    {
     "name": "stdout",
     "output_type": "stream",
     "text": [
      "---\r\n",
      "apiVersion: machinelearning.seldon.io/v1alpha2\r\n",
      "kind: SeldonDeployment\r\n",
      "metadata:\r\n",
      "  labels:\r\n",
      "    app: seldon\r\n",
      "    ksonnet.io/component: myabtest\r\n",
      "  name: myabtest\r\n",
      "  namespace: seldon\r\n",
      "spec:\r\n",
      "  annotations:\r\n",
      "    deployment_version: v1\r\n",
      "    project_name: myabtest\r\n",
      "  name: myabtest\r\n",
      "  oauth_key: \"\"\r\n",
      "  oauth_secret: \"\"\r\n",
      "  predictors:\r\n",
      "  - componentSpecs:\r\n",
      "    - metadata:\r\n",
      "        labels:\r\n",
      "          version: v2\r\n",
      "      spec:\r\n",
      "        containers:\r\n",
      "        - image: seldonio/mock_classifier:1.0\r\n",
      "          imagePullPolicy: IfNotPresent\r\n",
      "          name: classifier-1\r\n",
      "          volumeMounts: []\r\n",
      "        imagePullSecrets: []\r\n",
      "        terminationGracePeriodSeconds: 1\r\n",
      "        volumes: []\r\n",
      "    - metadata:\r\n",
      "        labels:\r\n",
      "          version: v2\r\n",
      "      spec:\r\n",
      "        containers:\r\n",
      "        - image: seldonio/mock_classifier:1.0\r\n",
      "          imagePullPolicy: IfNotPresent\r\n",
      "          name: classifier-2\r\n",
      "          volumeMounts: []\r\n",
      "        terminationGracePeriodSeconds: 1\r\n",
      "        volumes: []\r\n",
      "    graph:\r\n",
      "      children:\r\n",
      "      - children: []\r\n",
      "        endpoint:\r\n",
      "          type: REST\r\n",
      "        name: classifier-1\r\n",
      "        type: MODEL\r\n",
      "      - children: []\r\n",
      "        endpoint:\r\n",
      "          type: REST\r\n",
      "        name: classifier-2\r\n",
      "        type: MODEL\r\n",
      "      endpoint: {}\r\n",
      "      implementation: RANDOM_ABTEST\r\n",
      "      name: random-ab-test\r\n",
      "      parameters:\r\n",
      "      - name: ratioA\r\n",
      "        type: FLOAT\r\n",
      "        value: \"0.5\"\r\n",
      "    name: myabtest\r\n",
      "    replicas: 1\r\n"
     ]
    }
   ],
   "source": [
    "!cd my-ml-deployment && \\\n",
    "    ks show default -c myabtest"
   ]
  },
  {
   "cell_type": "code",
   "execution_count": 26,
   "metadata": {},
   "outputs": [
    {
     "name": "stdout",
     "output_type": "stream",
     "text": [
      "Waiting for deployment \"myabtest-myabtest-41de5b8\" rollout to finish: 0 of 1 updated replicas are available...\n",
      "deployment \"myabtest-myabtest-41de5b8\" successfully rolled out\n",
      "deployment \"myabtest-myabtest-df66c5c\" successfully rolled out\n"
     ]
    }
   ],
   "source": [
    "!kubectl rollout status deploy/myabtest-myabtest-41de5b8\n",
    "!kubectl rollout status deploy/myabtest-myabtest-df66c5c"
   ]
  },
  {
   "cell_type": "code",
   "execution_count": 28,
   "metadata": {},
   "outputs": [
    {
     "name": "stdout",
     "output_type": "stream",
     "text": [
      "map[predictorStatus:[map[name:myabtest-myabtest-41de5b8 replicas:1 replicasAvailable:1] map[name:myabtest-myabtest-df66c5c replicas:1 replicasAvailable:1]] state:Available]"
     ]
    }
   ],
   "source": [
    "!kubectl get seldondeployments myabtest -o jsonpath='{.status}' -n seldon"
   ]
  },
  {
   "cell_type": "markdown",
   "metadata": {},
   "source": [
    "### Get predictions"
   ]
  },
  {
   "cell_type": "code",
   "execution_count": 29,
   "metadata": {},
   "outputs": [],
   "source": [
    "from seldon_utils import *\n",
    "API_AMBASSADOR=\"localhost:8003\""
   ]
  },
  {
   "cell_type": "markdown",
   "metadata": {},
   "source": [
    "#### REST Request"
   ]
  },
  {
   "cell_type": "code",
   "execution_count": 30,
   "metadata": {},
   "outputs": [
    {
     "name": "stdout",
     "output_type": "stream",
     "text": [
      "{\n",
      "  \"meta\": {\n",
      "    \"puid\": \"mckvi2v5t2329k7he624h8vrnd\",\n",
      "    \"tags\": {\n",
      "    },\n",
      "    \"routing\": {\n",
      "      \"random-ab-test\": 1\n",
      "    },\n",
      "    \"requestPath\": {\n",
      "      \"random-ab-test\": \"\",\n",
      "      \"classifier-2\": \"seldonio/mock_classifier:1.0\"\n",
      "    },\n",
      "    \"metrics\": []\n",
      "  },\n",
      "  \"data\": {\n",
      "    \"names\": [\"proba\"],\n",
      "    \"tensor\": {\n",
      "      \"shape\": [1, 1],\n",
      "      \"values\": [0.09611282111582098]\n",
      "    }\n",
      "  }\n",
      "}\n"
     ]
    }
   ],
   "source": [
    "r = rest_request_ambassador(\"myabtest\",\"seldon\",API_AMBASSADOR)\n",
    "print(r.text)"
   ]
  },
  {
   "cell_type": "markdown",
   "metadata": {},
   "source": [
    "#### gRPC Request"
   ]
  },
  {
   "cell_type": "code",
   "execution_count": 31,
   "metadata": {},
   "outputs": [
    {
     "data": {
      "text/plain": [
       "meta {\n",
       "  puid: \"fckpe7erqmguft28foa46s6ck8\"\n",
       "  routing {\n",
       "    key: \"random-ab-test\"\n",
       "  }\n",
       "  requestPath {\n",
       "    key: \"classifier-1\"\n",
       "    value: \"seldonio/mock_classifier:1.0\"\n",
       "  }\n",
       "  requestPath {\n",
       "    key: \"random-ab-test\"\n",
       "  }\n",
       "}\n",
       "data {\n",
       "  names: \"proba\"\n",
       "  tensor {\n",
       "    shape: 1\n",
       "    shape: 1\n",
       "    values: 0.08925412072395444\n",
       "  }\n",
       "}"
      ]
     },
     "execution_count": 31,
     "metadata": {},
     "output_type": "execute_result"
    }
   ],
   "source": [
    "grpc_request_ambassador(\"myabtest\",\"seldon\",API_AMBASSADOR)"
   ]
  },
  {
   "cell_type": "code",
   "execution_count": 32,
   "metadata": {},
   "outputs": [
    {
     "name": "stdout",
     "output_type": "stream",
     "text": [
      "\u001b[36mINFO\u001b[0m Deleting seldondeployments seldon.myabtest   \n",
      "\u001b[36mINFO\u001b[0m removing environment component                \u001b[36mcomponent-name\u001b[0m=myabtest\n",
      "\u001b[36mINFO\u001b[0m Removing component parameter references ...  \n",
      "\u001b[36mINFO\u001b[0m Deleting component \"myabtest\"                \n",
      "\u001b[36mINFO\u001b[0m Successfully deleted component 'myabtest'    \n"
     ]
    }
   ],
   "source": [
    "!cd my-ml-deployment && \\\n",
    "    ks delete default -c myabtest && \\\n",
    "    ks component rm myabtest"
   ]
  },
  {
   "cell_type": "markdown",
   "metadata": {},
   "source": [
    "## Serve Multi-Armed Bandit"
   ]
  },
  {
   "cell_type": "code",
   "execution_count": 33,
   "metadata": {},
   "outputs": [
    {
     "name": "stdout",
     "output_type": "stream",
     "text": [
      "\u001b[36mINFO\u001b[0m Writing component at '/home/janis/work/GIT/fork-seldon-core/notebooks/my-ml-deployment/components/mymab.jsonnet' \n",
      "\u001b[36mINFO\u001b[0m Applying seldondeployments seldon.mymab      \n",
      "\u001b[36mINFO\u001b[0m Creating non-existent seldondeployments seldon.mymab \n"
     ]
    }
   ],
   "source": [
    "!cd my-ml-deployment && \\\n",
    "    ks generate seldon-mab-v1alpha2 mymab --imageA seldonio/mock_classifier:1.0 --imageB seldonio/mock_classifier:1.0 && \\\n",
    "    ks apply default -c mymab"
   ]
  },
  {
   "cell_type": "code",
   "execution_count": 34,
   "metadata": {},
   "outputs": [
    {
     "name": "stdout",
     "output_type": "stream",
     "text": [
      "---\r\n",
      "apiVersion: machinelearning.seldon.io/v1alpha2\r\n",
      "kind: SeldonDeployment\r\n",
      "metadata:\r\n",
      "  labels:\r\n",
      "    app: seldon\r\n",
      "    ksonnet.io/component: mymab\r\n",
      "  name: mymab\r\n",
      "  namespace: seldon\r\n",
      "spec:\r\n",
      "  annotations:\r\n",
      "    deployment_version: v1\r\n",
      "    project_name: mymab\r\n",
      "  name: mymab\r\n",
      "  oauth_key: \"\"\r\n",
      "  oauth_secret: \"\"\r\n",
      "  predictors:\r\n",
      "  - componentSpecs:\r\n",
      "    - metadata:\r\n",
      "        labels:\r\n",
      "          version: v1\r\n",
      "      spec:\r\n",
      "        containers:\r\n",
      "        - image: seldonio/mock_classifier:1.0\r\n",
      "          imagePullPolicy: IfNotPresent\r\n",
      "          name: classifier-1\r\n",
      "          volumeMounts: []\r\n",
      "        imagePullSecrets: []\r\n",
      "        terminationGracePeriodSeconds: 1\r\n",
      "        volumes: []\r\n",
      "    - metadata:\r\n",
      "        labels:\r\n",
      "          version: v2\r\n",
      "      spec:\r\n",
      "        containers:\r\n",
      "        - image: seldonio/mock_classifier:1.0\r\n",
      "          imagePullPolicy: IfNotPresent\r\n",
      "          name: classifier-2\r\n",
      "          volumeMounts: []\r\n",
      "        imagePullSecrets: []\r\n",
      "        terminationGracePeriodSeconds: 1\r\n",
      "        volumes: []\r\n",
      "    - spec:\r\n",
      "        containers:\r\n",
      "        - image: seldonio/mab_epsilon_greedy:1.1\r\n",
      "          imagePullPolicy: IfNotPresent\r\n",
      "          name: eg-router\r\n",
      "        terminationGracePeriodSeconds: 1\r\n",
      "    graph:\r\n",
      "      children:\r\n",
      "      - children: []\r\n",
      "        endpoint:\r\n",
      "          type: REST\r\n",
      "        name: classifier-1\r\n",
      "        type: MODEL\r\n",
      "      - children: []\r\n",
      "        endpoint:\r\n",
      "          type: REST\r\n",
      "        name: classifier-2\r\n",
      "        type: MODEL\r\n",
      "      name: eg-router\r\n",
      "      parameters:\r\n",
      "      - name: n_branches\r\n",
      "        type: INT\r\n",
      "        value: \"2\"\r\n",
      "      - name: epsilon\r\n",
      "        type: FLOAT\r\n",
      "        value: \"0.2\"\r\n",
      "      - name: verbose\r\n",
      "        type: BOOL\r\n",
      "        value: \"1\"\r\n",
      "      type: ROUTER\r\n",
      "    name: mymab\r\n",
      "    replicas: 1\r\n"
     ]
    }
   ],
   "source": [
    "!cd my-ml-deployment && \\\n",
    "    ks show default -c mymab"
   ]
  },
  {
   "cell_type": "code",
   "execution_count": 35,
   "metadata": {},
   "outputs": [
    {
     "name": "stdout",
     "output_type": "stream",
     "text": [
      "Waiting for deployment \"mymab-mymab-41de5b8\" rollout to finish: 0 of 1 updated replicas are available...\n",
      "deployment \"mymab-mymab-41de5b8\" successfully rolled out\n",
      "deployment \"mymab-mymab-b8038b2\" successfully rolled out\n",
      "deployment \"mymab-mymab-df66c5c\" successfully rolled out\n"
     ]
    }
   ],
   "source": [
    "!kubectl rollout status deploy/mymab-mymab-41de5b8\n",
    "!kubectl rollout status deploy/mymab-mymab-b8038b2\n",
    "!kubectl rollout status deploy/mymab-mymab-df66c5c"
   ]
  },
  {
   "cell_type": "code",
   "execution_count": 36,
   "metadata": {},
   "outputs": [
    {
     "name": "stdout",
     "output_type": "stream",
     "text": [
      "map[predictorStatus:[map[name:mymab-mymab-41de5b8 replicas:1 replicasAvailable:1] map[replicas:1 replicasAvailable:1 name:mymab-mymab-df66c5c] map[replicasAvailable:1 name:mymab-mymab-b8038b2 replicas:1]] state:Available]"
     ]
    }
   ],
   "source": [
    "!kubectl get seldondeployments mymab -o jsonpath='{.status}' -n seldon"
   ]
  },
  {
   "cell_type": "markdown",
   "metadata": {},
   "source": [
    "### Get predictions"
   ]
  },
  {
   "cell_type": "code",
   "execution_count": 37,
   "metadata": {},
   "outputs": [],
   "source": [
    "from seldon_utils import *\n",
    "API_AMBASSADOR=\"localhost:8003\""
   ]
  },
  {
   "cell_type": "markdown",
   "metadata": {},
   "source": [
    "#### REST Request"
   ]
  },
  {
   "cell_type": "code",
   "execution_count": 38,
   "metadata": {},
   "outputs": [
    {
     "name": "stdout",
     "output_type": "stream",
     "text": [
      "{\n",
      "  \"meta\": {\n",
      "    \"puid\": \"i7bei6dqjjdjp256apj7vq9kf1\",\n",
      "    \"tags\": {\n",
      "    },\n",
      "    \"routing\": {\n",
      "      \"eg-router\": 0\n",
      "    },\n",
      "    \"requestPath\": {\n",
      "      \"eg-router\": \"seldonio/mab_epsilon_greedy:1.1\",\n",
      "      \"classifier-1\": \"seldonio/mock_classifier:1.0\"\n",
      "    },\n",
      "    \"metrics\": []\n",
      "  },\n",
      "  \"data\": {\n",
      "    \"names\": [\"proba\"],\n",
      "    \"tensor\": {\n",
      "      \"shape\": [1, 1],\n",
      "      \"values\": [0.07442212198969167]\n",
      "    }\n",
      "  }\n",
      "}\n"
     ]
    }
   ],
   "source": [
    "r = rest_request_ambassador(\"mymab\",\"seldon\",API_AMBASSADOR)\n",
    "print(r.text)"
   ]
  },
  {
   "cell_type": "markdown",
   "metadata": {},
   "source": [
    "#### gRPC Request"
   ]
  },
  {
   "cell_type": "code",
   "execution_count": 39,
   "metadata": {},
   "outputs": [
    {
     "data": {
      "text/plain": [
       "meta {\n",
       "  puid: \"h19a6liqkrm2ohckepotmjdb2e\"\n",
       "  routing {\n",
       "    key: \"eg-router\"\n",
       "  }\n",
       "  requestPath {\n",
       "    key: \"classifier-1\"\n",
       "    value: \"seldonio/mock_classifier:1.0\"\n",
       "  }\n",
       "  requestPath {\n",
       "    key: \"eg-router\"\n",
       "    value: \"seldonio/mab_epsilon_greedy:1.1\"\n",
       "  }\n",
       "}\n",
       "data {\n",
       "  names: \"proba\"\n",
       "  tensor {\n",
       "    shape: 1\n",
       "    shape: 1\n",
       "    values: 0.08281169549058148\n",
       "  }\n",
       "}"
      ]
     },
     "execution_count": 39,
     "metadata": {},
     "output_type": "execute_result"
    }
   ],
   "source": [
    "grpc_request_ambassador(\"mymab\",\"seldon\",API_AMBASSADOR)"
   ]
  },
  {
   "cell_type": "code",
   "execution_count": 40,
   "metadata": {},
   "outputs": [
    {
     "name": "stdout",
     "output_type": "stream",
     "text": [
      "\u001b[36mINFO\u001b[0m Deleting seldondeployments seldon.mymab      \n",
      "\u001b[36mINFO\u001b[0m removing environment component                \u001b[36mcomponent-name\u001b[0m=mymab\n",
      "\u001b[36mINFO\u001b[0m Removing component parameter references ...  \n",
      "\u001b[36mINFO\u001b[0m Deleting component \"mymab\"                   \n",
      "\u001b[36mINFO\u001b[0m Successfully deleted component 'mymab'       \n"
     ]
    }
   ],
   "source": [
    "!cd my-ml-deployment && \\\n",
    "    ks delete default -c mymab && \\\n",
    "    ks component rm mymab"
   ]
  },
  {
   "cell_type": "markdown",
   "metadata": {},
   "source": [
    "# Tear down"
   ]
  },
  {
   "cell_type": "code",
   "execution_count": 52,
   "metadata": {},
   "outputs": [
    {
     "name": "stdout",
     "output_type": "stream",
     "text": [
      "\u001b[36mINFO\u001b[0m Deleting serviceaccounts seldon.seldon       \n",
      "\u001b[36mINFO\u001b[0m Deleting roles seldon.seldon-local           \n",
      "\u001b[36mINFO\u001b[0m Deleting rolebindings seldon.seldon          \n",
      "\u001b[36mINFO\u001b[0m Deleting deployments seldon.seldon-core-seldon-cluster-manager \n",
      "\u001b[36mINFO\u001b[0m Deleting deployments seldon.seldon-core-redis \n",
      "\u001b[36mINFO\u001b[0m Deleting services seldon.seldon-core-redis   \n",
      "\u001b[36mINFO\u001b[0m Deleting customresourcedefinitions seldondeployments.machinelearning.seldon.io \n",
      "\u001b[36mINFO\u001b[0m Deleting roles seldon.ambassador             \n",
      "\u001b[36mINFO\u001b[0m Deleting rolebindings seldon.ambassador      \n",
      "\u001b[36mINFO\u001b[0m Deleting deployments seldon.seldon-core-ambassador \n",
      "\u001b[36mINFO\u001b[0m Deleting services seldon.seldon-core-ambassador \n"
     ]
    }
   ],
   "source": [
    "!cd my-ml-deployment && ks delete default"
   ]
  },
  {
   "cell_type": "code",
   "execution_count": 53,
   "metadata": {},
   "outputs": [],
   "source": [
    "!rm -rf my-ml-deployment"
   ]
  },
  {
   "cell_type": "code",
   "execution_count": null,
   "metadata": {},
   "outputs": [],
   "source": []
  }
 ],
 "metadata": {
  "anaconda-cloud": {},
  "kernelspec": {
   "display_name": "Python 3",
   "language": "python",
   "name": "python3"
  },
  "language_info": {
   "codemirror_mode": {
    "name": "ipython",
    "version": 3
   },
   "file_extension": ".py",
   "mimetype": "text/x-python",
   "name": "python",
   "nbconvert_exporter": "python",
   "pygments_lexer": "ipython3",
   "version": "3.6.6"
  },
  "varInspector": {
   "cols": {
    "lenName": 16,
    "lenType": 16,
    "lenVar": 40
   },
   "kernels_config": {
    "python": {
     "delete_cmd_postfix": "",
     "delete_cmd_prefix": "del ",
     "library": "var_list.py",
     "varRefreshCmd": "print(var_dic_list())"
    },
    "r": {
     "delete_cmd_postfix": ") ",
     "delete_cmd_prefix": "rm(",
     "library": "var_list.r",
     "varRefreshCmd": "cat(var_dic_list()) "
    }
   },
   "types_to_exclude": [
    "module",
    "function",
    "builtin_function_or_method",
    "instance",
    "_Feature"
   ],
   "window_display": false
  }
 },
 "nbformat": 4,
 "nbformat_minor": 1
}
